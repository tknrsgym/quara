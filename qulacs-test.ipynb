{
 "cells": [
  {
   "cell_type": "code",
   "execution_count": 1,
   "metadata": {},
   "outputs": [],
   "source": [
    "from quara.objects.composite_system_typical import generate_composite_system\n",
    "from quara.objects.state_typical import generate_state_from_name\n",
    "from quara.objects.gate_typical import generate_gate_from_gate_name\n",
    "from quara.objects.povm_typical import generate_povm_from_name\n",
    "from quara.objects.mprocess_typical import *\n",
    "from quara.objects.gate import to_kraus_matrices_from_hs\n",
    "\n",
    "from qulacs import DensityMatrix, PauliOperator, QuantumGateBase\n",
    "import qulacs\n",
    "from qulacs.gate import DenseMatrix, CPTP, Measurement, Instrument, X, Y, Z, P0, P1, H"
   ]
  },
  {
   "cell_type": "code",
   "execution_count": 2,
   "metadata": {},
   "outputs": [
    {
     "name": "stdout",
     "output_type": "stream",
     "text": [
      "Type:\n",
      "Gate\n",
      "\n",
      "Dim:\n",
      "4\n",
      "\n",
      "HS:\n",
      "[[ 1.  0.  0.  0.  0.  0.  0.  0.  0.  0.  0.  0.  0.  0.  0.  0.]\n",
      " [ 0.  1.  0.  0.  0.  0.  0.  0.  0.  0.  0.  0.  0.  0.  0.  0.]\n",
      " [ 0.  0.  0.  0.  0.  0.  0.  0.  0.  0.  0.  0.  0.  0.  1.  0.]\n",
      " [ 0.  0.  0.  0.  0.  0.  0.  0.  0.  0.  0.  0.  0.  0.  0.  1.]\n",
      " [ 0.  0.  0.  0.  0.  1.  0.  0.  0.  0.  0.  0.  0.  0.  0.  0.]\n",
      " [ 0.  0.  0.  0.  1.  0.  0.  0.  0.  0.  0.  0.  0.  0.  0.  0.]\n",
      " [ 0.  0.  0.  0.  0.  0.  0.  0.  0.  0.  0.  1.  0.  0.  0.  0.]\n",
      " [ 0.  0.  0.  0.  0.  0.  0.  0.  0.  0. -1.  0.  0.  0.  0.  0.]\n",
      " [ 0.  0.  0.  0.  0.  0.  0.  0.  0.  1.  0.  0.  0.  0.  0.  0.]\n",
      " [ 0.  0.  0.  0.  0.  0.  0.  0.  1.  0.  0.  0.  0.  0.  0.  0.]\n",
      " [ 0.  0.  0.  0.  0.  0.  0. -1.  0.  0.  0.  0.  0.  0.  0.  0.]\n",
      " [ 0.  0.  0.  0.  0.  0.  1.  0.  0.  0.  0.  0.  0.  0.  0.  0.]\n",
      " [ 0.  0.  0.  0.  0.  0.  0.  0.  0.  0.  0.  0.  1.  0.  0.  0.]\n",
      " [ 0.  0.  0.  0.  0.  0.  0.  0.  0.  0.  0.  0.  0.  1.  0.  0.]\n",
      " [ 0.  0.  1.  0.  0.  0.  0.  0.  0.  0.  0.  0.  0.  0.  0.  0.]\n",
      " [ 0.  0.  0.  1.  0.  0.  0.  0.  0.  0.  0.  0.  0.  0.  0.  0.]]\n"
     ]
    }
   ],
   "source": [
    "c_sys = generate_composite_system(\"qubit\", 2)\n",
    "gate = generate_gate_from_gate_name(\"cx\", c_sys, ids=[0, 1])\n",
    "print(gate)"
   ]
  },
  {
   "cell_type": "code",
   "execution_count": 27,
   "metadata": {},
   "outputs": [
    {
     "name": "stdout",
     "output_type": "stream",
     "text": [
      "['x-type1', 'y-type1', 'z-type1', 'bell-type1', 'z3-type1', 'z2-type1']\n",
      "[array([[0.5, 0. , 0. , 0.5],\n",
      "       [0. , 0. , 0. , 0. ],\n",
      "       [0. , 0. , 0. , 0. ],\n",
      "       [0.5, 0. , 0. , 0.5]]), array([[ 0.5,  0. ,  0. , -0.5],\n",
      "       [ 0. ,  0. ,  0. ,  0. ],\n",
      "       [ 0. ,  0. ,  0. ,  0. ],\n",
      "       [-0.5,  0. ,  0. ,  0.5]])]\n",
      "2\n",
      "[array([[1.+0.j, 0.+0.j],\n",
      "       [0.+0.j, 0.+0.j]])]\n",
      "[array([[0.+0.j, 0.+0.j],\n",
      "       [0.+0.j, 1.+0.j]])]\n"
     ]
    },
    {
     "data": {
      "text/plain": [
       "1.0"
      ]
     },
     "execution_count": 27,
     "metadata": {},
     "output_type": "execute_result"
    }
   ],
   "source": [
    "c_sys = generate_composite_system(\"qubit\", 1)\n",
    "print(get_mprocess_names_type1())\n",
    "mp = generate_mprocess_from_name(c_sys, \"z-type1\")\n",
    "print(mp.hss)\n",
    "print(mp.dim)\n",
    "print(mp.to_kraus_matrices(0))\n",
    "print(mp.to_kraus_matrices(1))\n",
    "np.log2(2)"
   ]
  },
  {
   "cell_type": "code",
   "execution_count": 5,
   "metadata": {},
   "outputs": [
    {
     "name": "stdout",
     "output_type": "stream",
     "text": [
      "<class 'qulacs.QuantumGateBase'>\n"
     ]
    }
   ],
   "source": [
    "from qulacs.gate import AmplitudeDampingNoise\n",
    "target = 0\n",
    "damping_rate = 0.1\n",
    "a = AmplitudeDampingNoise(target, damping_rate)\n",
    "print(a.__class__)"
   ]
  },
  {
   "cell_type": "code",
   "execution_count": 7,
   "metadata": {},
   "outputs": [
    {
     "name": "stdout",
     "output_type": "stream",
     "text": [
      "4\n",
      "[array([[1.+0.j, 0.+0.j, 0.+0.j, 0.+0.j],\n",
      "       [0.+0.j, 1.+0.j, 0.+0.j, 0.+0.j],\n",
      "       [0.+0.j, 0.+0.j, 0.+0.j, 1.+0.j],\n",
      "       [0.+0.j, 0.+0.j, 1.+0.j, 0.+0.j]])]\n",
      "[[0.+0.j 0.+0.j]\n",
      " [0.+0.j 1.+0.j]]\n"
     ]
    }
   ],
   "source": [
    "print(gate.dim)\n",
    "kraus_gate = gate.to_kraus_matrices()\n",
    "print(kraus_gate)\n",
    "\n",
    "\n",
    "from qulacs.gate import merge,CPTP, P0,P1\n",
    "\n",
    "gate00 = merge(P0(0),P0(1))\n",
    "gate01 = merge(P0(0),P1(1))\n",
    "gate10 = merge(P1(0),P0(1))\n",
    "gate11 = merge(P1(0),P1(1))\n",
    "print(P1(0).get_matrix())\n",
    "\n",
    "gate_list = [gate00, gate01, gate10, gate11]"
   ]
  },
  {
   "cell_type": "code",
   "execution_count": 42,
   "metadata": {},
   "outputs": [
    {
     "name": "stdout",
     "output_type": "stream",
     "text": [
      "[[1.+0.j 0.+0.j 0.+0.j 0.+0.j]\n",
      " [0.+0.j 0.+0.j 0.+0.j 0.+0.j]\n",
      " [0.+0.j 0.+0.j 0.+0.j 0.+0.j]\n",
      " [0.+0.j 0.+0.j 0.+0.j 0.+0.j]]\n",
      "[[1.+0.j 0.+0.j 0.+0.j 0.+0.j]\n",
      " [0.+0.j 0.+0.j 0.+0.j 0.+0.j]\n",
      " [0.+0.j 0.+0.j 0.+0.j 0.+0.j]\n",
      " [0.+0.j 0.+0.j 0.+0.j 0.+0.j]]\n",
      "[[1.+0.j 0.+0.j 0.+0.j 0.+0.j]\n",
      " [0.+0.j 0.+0.j 0.+0.j 0.+0.j]\n",
      " [0.+0.j 0.+0.j 0.+0.j 0.+0.j]\n",
      " [0.+0.j 0.+0.j 0.+0.j 0.+0.j]]\n",
      "0\n"
     ]
    }
   ],
   "source": [
    "from quara.interface.qulacs.conversion import *\n",
    "c_sys = generate_composite_system(\"qubit\", 2)\n",
    "state = generate_state_from_name(c_sys, \"z0_z0\")\n",
    "povm = generate_povm_from_name(\"z_z\", c_sys)\n",
    "\n",
    "gate = generate_gate_from_gate_name(\"swap\", c_sys, [0,1])\n",
    "qulacs_gate = convert_gate_quara_to_qulacs(gate, [0,1])\n",
    "qulacs_state = convert_state_quara_to_qulacs(state)\n",
    "\n",
    "print(qulacs_state.get_matrix())\n",
    "# qulacs_gate.update_quantum_state(qulacs_state)\n",
    "print(qulacs_state.get_matrix())\n",
    "\n",
    "qulacs_povm = convert_povm_quara_to_qulacs(povm)\n",
    "qulacs_povm.update_quantum_state(qulacs_state)\n",
    "print(qulacs_state.get_matrix())\n",
    "print(qulacs_state.get_classical_value(0))"
   ]
  },
  {
   "cell_type": "markdown",
   "metadata": {},
   "source": [
    "# Debug"
   ]
  },
  {
   "cell_type": "code",
   "execution_count": 4,
   "metadata": {},
   "outputs": [
    {
     "name": "stdout",
     "output_type": "stream",
     "text": [
      "[[0.5+0.j 0.5+0.j 0. +0.j 0. +0.j]\n",
      " [0.5+0.j 0.5+0.j 0. +0.j 0. +0.j]\n",
      " [0. +0.j 0. +0.j 0. +0.j 0. +0.j]\n",
      " [0. +0.j 0. +0.j 0. +0.j 0. +0.j]]\n",
      "Type:\n",
      "State\n",
      "\n",
      "Dim:\n",
      "4\n",
      "\n",
      "Vec:\n",
      "[0.5 0.5 0.  0.  0.  0.  0.  0.  0.  0.  0.  0.  0.5 0.5 0.  0. ]\n",
      "[[0.5+0.j 0.5+0.j 0. +0.j 0. +0.j]\n",
      " [0.5+0.j 0.5+0.j 0. +0.j 0. +0.j]\n",
      " [0. +0.j 0. +0.j 0. +0.j 0. +0.j]\n",
      " [0. +0.j 0. +0.j 0. +0.j 0. +0.j]]\n"
     ]
    }
   ],
   "source": [
    "from quara.objects.composite_system_typical import generate_composite_system\n",
    "from quara.objects.state_typical import generate_state_from_name\n",
    "from quara.objects.gate_typical import generate_gate_from_gate_name\n",
    "from quara.objects.povm_typical import generate_povm_from_name\n",
    "from quara.objects.mprocess_typical import *\n",
    "from quara.objects.gate import to_kraus_matrices_from_hs\n",
    "\n",
    "from qulacs import DensityMatrix, PauliOperator, QuantumGateBase\n",
    "import qulacs\n",
    "from qulacs.gate import DenseMatrix, CPTP, Measurement, Instrument, X, Y, Z, P0, P1, H\n",
    "from quara.interface.qulacs.conversion import *\n",
    "\n",
    "c_sys = generate_composite_system(\"qubit\", 2)\n",
    "state = generate_state_from_name(c_sys, \"z0_x0\")\n",
    "\n",
    "qulacs_density_mat = convert_state_quara_to_qulacs(state)\n",
    "print(qulacs_density_mat.get_matrix())\n",
    "state = convert_state_qulacs_to_quara(qulacs_density_mat, c_sys)\n",
    "print(state)\n",
    "print(state.to_density_matrix())"
   ]
  },
  {
   "cell_type": "code",
   "execution_count": 19,
   "metadata": {},
   "outputs": [
    {
     "name": "stdout",
     "output_type": "stream",
     "text": [
      "[[0.5+0.j 0. +0.j 0.5+0.j 0. +0.j]\n",
      " [0. +0.j 0. +0.j 0. +0.j 0. +0.j]\n",
      " [0.5+0.j 0. +0.j 0.5+0.j 0. +0.j]\n",
      " [0. +0.j 0. +0.j 0. +0.j 0. +0.j]]\n",
      "[[0.5+0.j 0. +0.j 0.5+0.j 0. +0.j]\n",
      " [0. +0.j 0. +0.j 0. +0.j 0. +0.j]\n",
      " [0.5+0.j 0. +0.j 0.5+0.j 0. +0.j]\n",
      " [0. +0.j 0. +0.j 0. +0.j 0. +0.j]]\n"
     ]
    }
   ],
   "source": [
    "from quara.objects.composite_system_typical import generate_composite_system\n",
    "from quara.objects.state_typical import generate_state_from_name\n",
    "from quara.objects.gate_typical import generate_gate_from_gate_name\n",
    "from quara.objects.povm_typical import generate_povm_from_name\n",
    "from quara.objects.mprocess_typical import *\n",
    "from quara.objects.gate import to_kraus_matrices_from_hs\n",
    "\n",
    "from qulacs import DensityMatrix, PauliOperator, QuantumGateBase\n",
    "import qulacs\n",
    "from qulacs.gate import DenseMatrix, CPTP, Measurement, Instrument, X, Y, Z, P0, P1, H\n",
    "from quara.interface.qulacs.conversion import *\n",
    "c_sys = generate_composite_system(\"qubit\", 2)\n",
    "s = generate_state_from_name(c_sys, \"z0_x0\")\n",
    "g = generate_gate_from_gate_name(\"swap\", c_sys, [0,1])\n",
    "state = convert_state_quara_to_qulacs(s)\n",
    "gate = convert_gate_quara_to_qulacs(g, [0, 1])\n",
    "gate.update_quantum_state(state)\n",
    "s = convert_state_qulacs_to_quara(state, c_sys)\n",
    "print(s.to_density_matrix())\n",
    "print(generate_state_from_name(c_sys, \"x0_z0\").to_density_matrix())\n"
   ]
  },
  {
   "cell_type": "code",
   "execution_count": 5,
   "metadata": {},
   "outputs": [
    {
     "name": "stdout",
     "output_type": "stream",
     "text": [
      "[[0.5+0.j 0.5+0.j 0. +0.j 0. +0.j]\n",
      " [0.5+0.j 0.5+0.j 0. +0.j 0. +0.j]\n",
      " [0. +0.j 0. +0.j 0. +0.j 0. +0.j]\n",
      " [0. +0.j 0. +0.j 0. +0.j 0. +0.j]]\n",
      "[[0.5+0.j 0. +0.j 0.5+0.j 0. +0.j]\n",
      " [0. +0.j 0. +0.j 0. +0.j 0. +0.j]\n",
      " [0.5+0.j 0. +0.j 0.5+0.j 0. +0.j]\n",
      " [0. +0.j 0. +0.j 0. +0.j 0. +0.j]]\n"
     ]
    },
    {
     "data": {
      "text/plain": [
       "['cx', 'cz', 'swap', 'zx90', 'zz90']"
      ]
     },
     "execution_count": 5,
     "metadata": {},
     "output_type": "execute_result"
    }
   ],
   "source": [
    "from quara.objects.operators import compose_qoperations\n",
    "from quara.objects.state_typical import generate_state_from_name\n",
    "from quara.objects.gate_typical import generate_gate_from_gate_name\n",
    "from quara.objects.composite_system_typical import generate_composite_system\n",
    "c_sys = generate_composite_system(\"qubit\", 2)\n",
    "state = generate_state_from_name(c_sys, \"z0_x0\")\n",
    "gate = generate_gate_from_gate_name(\"swap\", c_sys)\n",
    "qoperator = compose_qoperations(gate, state)\n",
    "print(state.to_density_matrix())\n",
    "print(qoperator.to_density_matrix())\n",
    "from quara.objects.gate_typical import get_gate_names_2qubit\n",
    "get_gate_names_2qubit()"
   ]
  },
  {
   "cell_type": "code",
   "execution_count": 9,
   "metadata": {},
   "outputs": [
    {
     "data": {
      "text/plain": [
       "[('z0', 'toffoli'), ('x0', 'toffoli'), ('y0', 'toffoli')]"
      ]
     },
     "execution_count": 9,
     "metadata": {},
     "output_type": "execute_result"
    }
   ],
   "source": [
    "from itertools import product\n",
    "list(range(10))\n",
    "list(product([\"z0\", \"x0\", \"y0\"], [\"toffoli\"]))"
   ]
  },
  {
   "cell_type": "code",
   "execution_count": 11,
   "metadata": {},
   "outputs": [
    {
     "name": "stdout",
     "output_type": "stream",
     "text": [
      "[0, 1]\n",
      "[0.502, 0.498]\n",
      " *** Density Matrix ***\n",
      " * Qubit Count : 1\n",
      " * Dimension   : 2\n",
      " * Density matrix : \n",
      "(1,0) (0,0)\n",
      "(0,0) (0,0)\n",
      "\n"
     ]
    }
   ],
   "source": [
    "from quara.objects.composite_system_typical import generate_composite_system\n",
    "from quara.objects.state_typical import generate_state_from_name\n",
    "from quara.objects.gate_typical import generate_gate_from_gate_name\n",
    "from quara.objects.povm_typical import generate_povm_from_name\n",
    "from quara.objects.mprocess_typical import *\n",
    "from quara.objects.gate import to_kraus_matrices_from_hs\n",
    "from quara.objects.operators import compose_qoperations\n",
    "\n",
    "from qulacs import DensityMatrix, PauliOperator, QuantumGateBase\n",
    "import qulacs\n",
    "from qulacs.gate import DenseMatrix, CPTP, Measurement, Instrument, X, Y, Z, P0, P1, H\n",
    "from quara.interface.qulacs.conversion import *\n",
    "c_sys = generate_composite_system(\"qubit\", 1)\n",
    "mp = generate_mprocess_from_name(c_sys, \"z-type2\")\n",
    "ins, indices = convert_instrument_quara_to_qulacs(mp, [0])\n",
    "print(indices)\n",
    "state = generate_state_from_name(c_sys, \"y0\")\n",
    "num0 = 0\n",
    "for _ in range(1000):\n",
    "    density_matrix = convert_state_quara_to_qulacs(state)\n",
    "    ins.update_quantum_state(density_matrix)\n",
    "    if density_matrix.get_classical_value(0) == 0:\n",
    "        num0 = num0+1\n",
    "print([num0/1000, 1-num0/1000])\n",
    "density_matrix = convert_state_quara_to_qulacs(state)\n",
    "ins.update_quantum_state(density_matrix)\n",
    "print(density_matrix)"
   ]
  },
  {
   "cell_type": "code",
   "execution_count": 2,
   "metadata": {},
   "outputs": [
    {
     "data": {
      "text/plain": [
       "array([[0.5, 0. , 0. , 0.5],\n",
       "       [0. , 0. , 0. , 0. ],\n",
       "       [0. , 0. , 0. , 0. ],\n",
       "       [0.5, 0. , 0. , 0.5]])"
      ]
     },
     "execution_count": 2,
     "metadata": {},
     "output_type": "execute_result"
    }
   ],
   "source": [
    "mp.hs(0)"
   ]
  },
  {
   "cell_type": "code",
   "execution_count": 3,
   "metadata": {},
   "outputs": [
    {
     "name": "stdout",
     "output_type": "stream",
     "text": [
      "['x-type2', 'y-type2', 'z-type2', 'z3-type2', 'z2-type2']\n"
     ]
    }
   ],
   "source": [
    "from quara.objects.mprocess_typical import get_mprocess_names_type1, get_mprocess_names_type2\n",
    "print(get_mprocess_names_type2())\n",
    "c_sys = generate_composite_system(\"qubit\", 1)\n",
    "mp = generate_mprocess_from_name(c_sys, \"z-type2\")"
   ]
  },
  {
   "cell_type": "code",
   "execution_count": 4,
   "metadata": {},
   "outputs": [
    {
     "data": {
      "text/plain": [
       "(0, 1)"
      ]
     },
     "execution_count": 4,
     "metadata": {},
     "output_type": "execute_result"
    }
   ],
   "source": [
    "from quara.interface.qulacs.conversion import *\n",
    "get_index_tuple_from_kraus_matrices_indices(1, [4, 4, 4])"
   ]
  },
  {
   "cell_type": "code",
   "execution_count": null,
   "metadata": {},
   "outputs": [],
   "source": []
  },
  {
   "cell_type": "code",
   "execution_count": null,
   "metadata": {},
   "outputs": [],
   "source": []
  }
 ],
 "metadata": {
  "interpreter": {
   "hash": "eed905c615086ea72e3063d4209dc24edd03b35d7bed26d422a9d986df5b33b5"
  },
  "kernelspec": {
   "display_name": "Python 3.8.7 64-bit ('venv': venv)",
   "name": "python3"
  },
  "language_info": {
   "codemirror_mode": {
    "name": "ipython",
    "version": 3
   },
   "file_extension": ".py",
   "mimetype": "text/x-python",
   "name": "python",
   "nbconvert_exporter": "python",
   "pygments_lexer": "ipython3",
   "version": "3.8.7"
  },
  "orig_nbformat": 4
 },
 "nbformat": 4,
 "nbformat_minor": 2
}
