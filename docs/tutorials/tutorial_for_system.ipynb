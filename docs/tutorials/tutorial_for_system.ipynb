{
 "metadata": {
  "language_info": {
   "codemirror_mode": {
    "name": "ipython",
    "version": 3
   },
   "file_extension": ".py",
   "mimetype": "text/x-python",
   "name": "python",
   "nbconvert_exporter": "python",
   "pygments_lexer": "ipython3",
   "version": "3.7.7-final"
  },
  "orig_nbformat": 2,
  "kernelspec": {
   "name": "python3",
   "display_name": "Python 3.7.7 64-bit ('quara': pipenv)",
   "metadata": {
    "interpreter": {
     "hash": "a2e0401b2d7b9c9963ec408d3d14b5136c5166b73a1ec1e17c20eb15cd41d48d"
    }
   }
  }
 },
 "nbformat": 4,
 "nbformat_minor": 2,
 "cells": [
  {
   "source": [
    "# System\n",
    "This notebook describes the concept of system in Quara and the related classes.\n",
    "\n",
    "Quara supports operations such as State, Gate, Povm, etc.\n",
    "The system in which these operations are performed is called a CompositeSystem in Quara.\n",
    "To perform these operations, first generate a CompositeSystem.\n",
    "The methods for generating a CompositeSystem includes the following:\n",
    "\n",
    "- Generate from composite_system_typical module\n",
    "- Generate CompositeSystem object directly\n",
    "\n",
    "Both generate the same CompositeSystem."
   ],
   "cell_type": "markdown",
   "metadata": {}
  },
  {
   "source": [
    "Generate from composite_system_typical module by specifying mode (\"qubit\" or \"qutrit\") and number of qubits."
   ],
   "cell_type": "markdown",
   "metadata": {}
  },
  {
   "cell_type": "code",
   "execution_count": 7,
   "metadata": {},
   "outputs": [],
   "source": [
    "from quara.objects.composite_system_typical import generate_composite_system\n",
    "\n",
    "c_sys = generate_composite_system(\"qubit\", 2)"
   ]
  },
  {
   "source": [
    "Generate CompositeSystem object directly using classes called MatrixBasis, ElementalSystem."
   ],
   "cell_type": "markdown",
   "metadata": {}
  },
  {
   "cell_type": "code",
   "execution_count": 10,
   "metadata": {},
   "outputs": [],
   "source": [
    "from quara.objects.composite_system import CompositeSystem\n",
    "from quara.objects.elemental_system import ElementalSystem\n",
    "from quara.objects.matrix_basis import get_normalized_pauli_basis\n",
    "\n",
    "basis = get_normalized_pauli_basis(1)\n",
    "e_sys0 = ElementalSystem(0, basis)\n",
    "e_sys1 = ElementalSystem(1, basis)\n",
    "c_sys = CompositeSystem([e_sys0, e_sys1])"
   ]
  },
  {
   "source": [
    "## Fundamental Rules\n",
    "- Two methods to generate objects of Quara.\n",
    "  - The typical objects can be generated from a module called xxx_typical. (\"xxx\" is a object name.)\n",
    "  - Users can also generate objects directly.\n",
    "- The structure of CompositeSystem is nested as follows:\n",
    "  - CompositeSystem corresponds to a whole system.\n",
    "  - CompositeSystem has a list of ElementalSystems sorted in ascending order by name.\n",
    "    - ElementalSystem corresponds to the unit of operation of qubits (or qutrits, qudits).\n",
    "    - ElementalSystem has a tuple of name (int) and MatrixBasis.\n",
    "    - The name is recommended to be named 0, 1, 2...\n",
    "      - MatrixBasis corresponds to the basis of the system.\n",
    "      - MatrixBasis has a basis represented by a list of np.ndarray.\n",
    "- To execute tomography in Quara, you must use a MatrixBasis with the following properties:\n",
    "  - MatrixBasis is normalized.\n",
    "  - MatrixBasis is Hermitian.\n",
    "  - The 0th matrix of MatrixBasis is a multiple of the identity matrix."
   ],
   "cell_type": "markdown",
   "metadata": {}
  },
  {
   "source": [
    "## CompositeSystem\n",
    "The constructor of CompositeSystem rearranges the argument `List[ElementalSystem]` in ascending order by name."
   ],
   "cell_type": "markdown",
   "metadata": {}
  },
  {
   "cell_type": "code",
   "execution_count": 27,
   "metadata": {},
   "outputs": [
    {
     "output_type": "stream",
     "name": "stdout",
     "text": [
      "(ElementalSystem(name=0,             basis=MatrixBasis(basis=[array([[0.70710678+0.j, 0.        +0.j],\n       [0.        +0.j, 0.70710678+0.j]]), array([[0.        +0.j, 0.70710678+0.j],\n       [0.70710678+0.j, 0.        +0.j]]), array([[0.+0.j        , 0.-0.70710678j],\n       [0.+0.70710678j, 0.+0.j        ]]), array([[ 0.70710678+0.j,  0.        +0.j],\n       [ 0.        +0.j, -0.70710678+0.j]])])), ElementalSystem(name=1,             basis=MatrixBasis(basis=[array([[0.70710678+0.j, 0.        +0.j],\n       [0.        +0.j, 0.70710678+0.j]]), array([[0.        +0.j, 0.70710678+0.j],\n       [0.70710678+0.j, 0.        +0.j]]), array([[0.+0.j        , 0.-0.70710678j],\n       [0.+0.70710678j, 0.+0.j        ]]), array([[ 0.70710678+0.j,  0.        +0.j],\n       [ 0.        +0.j, -0.70710678+0.j]])])))\n"
     ]
    }
   ],
   "source": [
    "basis = get_normalized_pauli_basis(1)\n",
    "e_sys0 = ElementalSystem(0, basis)\n",
    "e_sys1 = ElementalSystem(1, basis)\n",
    "c_sys = CompositeSystem([e_sys0, e_sys1])\n",
    "\n",
    "print(c_sys.elemental_systems)"
   ]
  },
  {
   "source": [
    "The property `dim` of CompositeSystem is the dimension of the matrices of MatrixBasis."
   ],
   "cell_type": "markdown",
   "metadata": {}
  },
  {
   "cell_type": "code",
   "execution_count": 28,
   "metadata": {},
   "outputs": [
    {
     "output_type": "stream",
     "name": "stdout",
     "text": [
      "2\n2\n"
     ]
    }
   ],
   "source": [
    "basis = get_normalized_pauli_basis(1)\n",
    "e_sys = ElementalSystem(0, basis)\n",
    "c_sys = CompositeSystem([e_sys])\n",
    "\n",
    "print(c_sys.dim)\n",
    "print(c_sys.basis()[0].shape[0])"
   ]
  },
  {
   "source": [
    "CompositeSystem has properties to check properties of MatrixBasis."
   ],
   "cell_type": "markdown",
   "metadata": {}
  },
  {
   "cell_type": "code",
   "execution_count": 15,
   "metadata": {},
   "outputs": [
    {
     "output_type": "stream",
     "name": "stdout",
     "text": [
      "True\nTrue\n"
     ]
    }
   ],
   "source": [
    "print(c_sys.is_orthonormal_hermitian_0thprop_identity)\n",
    "print(c_sys.is_basis_hermitian)"
   ]
  },
  {
   "source": [
    "CompositeSystem has properties for fast computation using sparsity.\n",
    "\n",
    "- basis_basisconjugate\n",
    "- dict_from_hs_to_choi\n",
    "- dict_from_choi_to_hs\n",
    "- basis_T_sparse, \n",
    "- basisconjugate_sparse\n",
    "- basisconjugate_basis_sparse\n",
    "- basis_basisconjugate_T_sparse\n",
    "- basis_basisconjugate_T_sparse_from_1\n",
    "- basishermitian_basis_T_from_1\n",
    "\n",
    "These properties are calculated only once when accessed."
   ],
   "cell_type": "markdown",
   "metadata": {}
  },
  {
   "source": [
    "## composite_system_typical module\n",
    "composite_system_typical module makes it easy to generate a CompositeSystem.\n",
    "Call the generate_composite_system function with `mode` and `num` to generate CompositeSystem.\n",
    "\n",
    "- `mode` - \"qubit\" or \"qutrit\"\n",
    "- `num` - number of qubits or qutrits\n",
    "\n",
    "To learn more about optional parameters, please see to the API reference."
   ],
   "cell_type": "markdown",
   "metadata": {}
  },
  {
   "cell_type": "code",
   "execution_count": 23,
   "metadata": {},
   "outputs": [],
   "source": [
    "# CompositeSystem with one qubit\n",
    "c_sys = generate_composite_system(\"qubit\", 1)\n",
    "# CompositeSystem with two qutrits\n",
    "c_sys = generate_composite_system(\"qutrit\", 2)"
   ]
  },
  {
   "source": [
    "## ElementalSystem\n",
    "ElementalSystem has a tuple of name (int) and MatrixBasis."
   ],
   "cell_type": "markdown",
   "metadata": {}
  },
  {
   "cell_type": "code",
   "execution_count": 29,
   "metadata": {},
   "outputs": [
    {
     "output_type": "stream",
     "name": "stdout",
     "text": [
      "0\n(array([[0.70710678+0.j, 0.        +0.j],\n       [0.        +0.j, 0.70710678+0.j]]), array([[0.        +0.j, 0.70710678+0.j],\n       [0.70710678+0.j, 0.        +0.j]]), array([[0.+0.j        , 0.-0.70710678j],\n       [0.+0.70710678j, 0.+0.j        ]]), array([[ 0.70710678+0.j,  0.        +0.j],\n       [ 0.        +0.j, -0.70710678+0.j]]))\n"
     ]
    }
   ],
   "source": [
    "basis = get_normalized_pauli_basis(1)\n",
    "e_sys = ElementalSystem(0, basis)\n",
    "\n",
    "print(e_sys.name)\n",
    "print(e_sys.basis)"
   ]
  },
  {
   "source": [
    "The property `dim` of ElementalSystem is the dimension of the matrices of MatrixBasis."
   ],
   "cell_type": "markdown",
   "metadata": {}
  },
  {
   "cell_type": "code",
   "execution_count": 30,
   "metadata": {},
   "outputs": [
    {
     "output_type": "stream",
     "name": "stdout",
     "text": [
      "2\n2\n"
     ]
    }
   ],
   "source": [
    "print(e_sys.dim)\n",
    "print(e_sys.basis[0].shape[0])"
   ]
  },
  {
   "source": [
    "ElementalSystem has properties to check properties of MatrixBasis."
   ],
   "cell_type": "markdown",
   "metadata": {}
  },
  {
   "cell_type": "code",
   "execution_count": 31,
   "metadata": {},
   "outputs": [
    {
     "output_type": "stream",
     "name": "stdout",
     "text": [
      "True\nTrue\n"
     ]
    }
   ],
   "source": [
    "print(e_sys.is_orthonormal_hermitian_0thprop_identity)\n",
    "print(e_sys.is_hermitian)"
   ]
  },
  {
   "source": [
    "## MatrixBasis\n",
    "MatrixBasis has a basis represented by a list of np.ndarray."
   ],
   "cell_type": "markdown",
   "metadata": {}
  },
  {
   "cell_type": "code",
   "execution_count": 34,
   "metadata": {},
   "outputs": [
    {
     "output_type": "stream",
     "name": "stdout",
     "text": [
      "[[0.70710678+0.j 0.        +0.j]\n [0.        +0.j 0.70710678+0.j]]\n[[0.        +0.j 0.70710678+0.j]\n [0.70710678+0.j 0.        +0.j]]\n[[0.+0.j         0.-0.70710678j]\n [0.+0.70710678j 0.+0.j        ]]\n[[ 0.70710678+0.j  0.        +0.j]\n [ 0.        +0.j -0.70710678+0.j]]\n"
     ]
    }
   ],
   "source": [
    "basis = get_normalized_pauli_basis(1)\n",
    "print(basis[0])\n",
    "print(basis[1])\n",
    "print(basis[2])\n",
    "print(basis[3])"
   ]
  },
  {
   "source": [
    "The property dim of MatrixBasis is the dimension of the matrices of basis."
   ],
   "cell_type": "markdown",
   "metadata": {}
  },
  {
   "cell_type": "code",
   "execution_count": 35,
   "metadata": {},
   "outputs": [
    {
     "output_type": "stream",
     "name": "stdout",
     "text": [
      "2\n2\n"
     ]
    }
   ],
   "source": [
    "print(basis.dim)\n",
    "print(basis[0].shape[0])"
   ]
  },
  {
   "source": [
    "MatrixBasis has functions to check properties."
   ],
   "cell_type": "markdown",
   "metadata": {}
  },
  {
   "cell_type": "code",
   "execution_count": 39,
   "metadata": {},
   "outputs": [
    {
     "output_type": "stream",
     "name": "stdout",
     "text": [
      "True\nTrue\nTrue\nTrue\nTrue\n(2, 2)\n"
     ]
    }
   ],
   "source": [
    "print(basis.is_orthogonal())\n",
    "print(basis.is_normal())\n",
    "print(basis.is_hermitian())\n",
    "print(basis.is_0thpropI())\n",
    "print(basis.is_trace_less())\n",
    "print(basis.size()) # "
   ]
  },
  {
   "cell_type": "code",
   "execution_count": null,
   "metadata": {},
   "outputs": [],
   "source": []
  }
 ]
}