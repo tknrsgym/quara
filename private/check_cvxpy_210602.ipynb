{
 "metadata": {
  "language_info": {
   "codemirror_mode": {
    "name": "ipython",
    "version": 3
   },
   "file_extension": ".py",
   "mimetype": "text/x-python",
   "name": "python",
   "nbconvert_exporter": "python",
   "pygments_lexer": "ipython3",
   "version": "3.8.7"
  },
  "orig_nbformat": 2,
  "kernelspec": {
   "name": "pythonjvsc74a57bd046853efbcfaf24d51a2d058b3851333fe5208d7cf1dd9f790da7ce54269df75e",
   "display_name": "Python 3.8.7  ('venv': venv)"
  },
  "metadata": {
   "interpreter": {
    "hash": "46853efbcfaf24d51a2d058b3851333fe5208d7cf1dd9f790da7ce54269df75e"
   }
  }
 },
 "nbformat": 4,
 "nbformat_minor": 2,
 "cells": [
  {
   "cell_type": "code",
   "execution_count": 1,
   "metadata": {},
   "outputs": [],
   "source": [
    "import numpy as np\n",
    "from itertools import product\n",
    "\n",
    "# quara\n",
    "from quara.objects.composite_system_typical import generate_composite_system\n",
    "from quara.objects.tester_typical import (\n",
    "    generate_tester_states,\n",
    "    generate_tester_povms,\n",
    ")\n",
    "from quara.objects.qoperation_typical import generate_qoperation\n",
    "from quara.protocol.qtomography.standard.standard_qst import StandardQst\n",
    "from quara.protocol.qtomography.standard.standard_povmt import StandardPovmt\n",
    "from quara.protocol.qtomography.standard.standard_qpt import StandardQpt\n",
    "\n",
    "from quara.interface.cvxpy.standard_qtomography.loss_function import (\n",
    "    CvxpyLossFunction,\n",
    "    CvxpyLossFunctionOption,\n",
    "    CvxpyRelativeEntropy,\n",
    "    CvxpyUniformSquaredError,\n",
    "    CvxpyApproximateRelativeEntropyWithoutZeroProbabilityTerm,\n",
    "    CvxpyApproximateRelativeEntropyWithZeroProbabilityTerm,\n",
    "    CvxpyApproximateRelativeEntropyWithZeroProbabilityTermSquared,\n",
    ")\n",
    "from quara.protocol.qtomography.standard.preprocessing import (\n",
    "    combine_nums_prob_dists,\n",
    ")\n",
    "from quara.interface.cvxpy.standard_qtomography.minimization_algorithm import (\n",
    "    CvxpyMinimizationAlgorithm,\n",
    "    CvxpyMinimizationAlgorithmOption,\n",
    ")\n",
    "from quara.interface.cvxpy.standard_qtomography.estimator import (\n",
    "    CvxpyLossMinimizationEstimator,\n",
    ")"
   ]
  },
  {
   "cell_type": "code",
   "execution_count": 2,
   "metadata": {},
   "outputs": [],
   "source": [
    "mode = \"qubit\"\n",
    "num = 1\n",
    "c_sys = generate_composite_system(mode=mode, num=num)\n",
    "\n",
    "# Testers\n",
    "names = [\"x\", \"y\", \"z\"]\n",
    "testers = generate_tester_povms(c_sys=c_sys, names = names)\n",
    "\n",
    "seed = 7896\n",
    "sqt = StandardQst(testers, on_para_eq_constraint=True, schedules=\"all\", seed=seed)\n",
    "\n",
    "mode = \"state\"\n",
    "name = \"z0\"\n",
    "true = generate_qoperation(mode=mode, name=name, c_sys=c_sys)\n",
    "\n",
    "num_data = 1000\n",
    "empi_dists = sqt.generate_empi_dists(state=true, num_sum=num_data)\n",
    "\n",
    "prob_dists_true = sqt.calc_prob_dists(true)\n",
    "nums = [num_data]*sqt.num_schedules\n",
    "empi_dists = combine_nums_prob_dists(nums, prob_dists_true)"
   ]
  },
  {
   "cell_type": "code",
   "execution_count": 3,
   "metadata": {},
   "outputs": [],
   "source": [
    "num_sums = [100, 1000]\n",
    "empi_dists_sequence = sqt.generate_empi_dists_sequence(true, num_sums=num_sums)"
   ]
  },
  {
   "cell_type": "code",
   "execution_count": 4,
   "metadata": {},
   "outputs": [],
   "source": [
    "#loss = CvxpyRelativeEntropy()\n",
    "#loss = CvxpyUniformSquaredError()\n",
    "#loss = CvxpyApproximateRelativeEntropyWithoutZeroProbabilityTerm()\n",
    "#loss = CvxpyApproximateRelativeEntropyWithZeroProbabilityTerm()\n",
    "loss = CvxpyApproximateRelativeEntropyWithZeroProbabilityTermSquared()\n",
    "modes_form = ['sum', 'quadratic']\n",
    "loss_options = [CvxpyLossFunctionOption(mode_form=mode_form) for mode_form in modes_form]\n",
    "algo = CvxpyMinimizationAlgorithm()\n",
    "estimator = CvxpyLossMinimizationEstimator()"
   ]
  },
  {
   "cell_type": "code",
   "execution_count": 6,
   "metadata": {},
   "outputs": [
    {
     "output_type": "stream",
     "name": "stdout",
     "text": [
      "[array([0.02816296, 0.07040962, 0.70302823]), array([-0.01696045,  0.02261394,  0.70653756])]\n",
      "[4.198086630931133e-06, 8.110866839464571e-08]\n",
      "[0.07919692993164062, 0.05410146713256836]\n",
      "[array([8.53967885e-06, 2.13537063e-05, 7.07106781e-01]), array([-1.88630058e-05,  2.51423634e-05,  7.07106781e-01])]\n",
      "[0.0019321658620985586, 0.0002660743145577208]\n",
      "[0.05899786949157715, 0.06303977966308594]\n",
      "[array([0.02816196, 0.07040747, 0.70302894]), array([-0.01696034,  0.0226138 ,  0.70653875])]\n",
      "[4.193151942027962e-06, 8.076049712313349e-08]\n",
      "[0.04114484786987305, 0.03819704055786133]\n",
      "[array([5.84545816e-06, 1.47379358e-05, 7.07106781e-01]), array([-1.92321104e-05,  2.56543902e-05,  7.07106781e-01])]\n",
      "[0.001949783614819539, 0.00026629217567455954]\n",
      "[0.04451894760131836, 0.03768610954284668]\n"
     ]
    }
   ],
   "source": [
    "modes_constraint = [\"physical\", \"physical_and_zero_probability_equation_satisfied\"]\n",
    "\n",
    "for pro in product(loss_options, modes_constraint):\n",
    "    loss_option = pro[0]\n",
    "    mode_constraint = pro[1]\n",
    "    algo_option = CvxpyMinimizationAlgorithmOption(name_solver=\"mosek\", mode_constraint=mode_constraint)\n",
    "    result = estimator.calc_estimate_sequence(\n",
    "        qtomography=sqt, \n",
    "        empi_dists_sequence=empi_dists_sequence, \n",
    "        loss=loss, \n",
    "        loss_option=loss_option, \n",
    "        algo=algo, \n",
    "        algo_option=algo_option, \n",
    "        is_computation_time_required=True)\n",
    "    print(result.estimated_var_sequence)\n",
    "    print(result.estimated_loss_sequence)\n",
    "    print(result.computation_times)"
   ]
  },
  {
   "cell_type": "code",
   "execution_count": null,
   "metadata": {},
   "outputs": [],
   "source": []
  }
 ]
}