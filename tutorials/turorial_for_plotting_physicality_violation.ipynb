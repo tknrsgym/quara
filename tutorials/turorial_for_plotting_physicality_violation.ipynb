{
 "cells": [
  {
   "cell_type": "code",
   "execution_count": 1,
   "metadata": {},
   "outputs": [],
   "source": [
    "import pickle\n",
    "import time\n",
    "from typing import List\n",
    "\n",
    "import numpy as np\n",
    "\n",
    "import plotly.graph_objects as go\n",
    "import plotly.express as px\n",
    "\n",
    "from quara.data_analyzer import data_analyzer\n",
    "from quara.objects.composite_system import CompositeSystem\n",
    "from quara.objects.elemental_system import ElementalSystem\n",
    "from quara.objects.matrix_basis import get_normalized_pauli_basis\n",
    "from quara.objects.povm import (\n",
    "    Povm,\n",
    "    get_x_measurement,\n",
    "    get_y_measurement,\n",
    "    get_z_measurement,\n",
    ")\n",
    "from quara.objects.qoperation import QOperation\n",
    "from quara.objects.state import State, get_z0_1q, get_z1_1q\n",
    "from quara.protocol.qtomography.standard.standard_qst import StandardQst\n",
    "from quara.protocol.qtomography.standard.linear_estimator import LinearEstimator\n",
    "from quara.protocol.qtomography.standard.projected_linear_estimator import ProjectedLinearEstimator"
   ]
  },
  {
   "cell_type": "code",
   "execution_count": 2,
   "metadata": {},
   "outputs": [],
   "source": [
    "%load_ext autoreload\n",
    "%autoreload 2"
   ]
  },
  {
   "cell_type": "code",
   "execution_count": 3,
   "metadata": {
    "tags": []
   },
   "outputs": [],
   "source": [
    "def estimate(name: str, true_object: State, num_data: List[int], iterations: int, on_para_eq_constraint: bool=True):\n",
    "    qst = StandardQst(povms, on_para_eq_constraint=on_para_eq_constraint)\n",
    "\n",
    "    # generate empi dists and calc estimate\n",
    "    obj_sequences = []\n",
    "    start = time.time()\n",
    "    for iteration in range(iterations):\n",
    "        seeds = [iteration] * len(num_data)\n",
    "        empi_dists_seq = qst.generate_empi_dists_sequence(\n",
    "            true_object, num_data, seeds\n",
    "        )\n",
    "\n",
    "        estimator = LinearEstimator()\n",
    "        #obj_sequence = estimator.calc_estimate_sequence_qoperation(qst, empi_dists_seq)\n",
    "        obj_sequence = estimator.calc_estimate_sequence(qst, empi_dists_seq)\n",
    "\n",
    "        info = {\n",
    "            \"iteration\": iteration,\n",
    "            \"empi_dists_seq\": empi_dists_seq,\n",
    "            \"obj_sequence\": obj_sequence.estimated_var_sequence,\n",
    "        }\n",
    "        print(info)\n",
    "        obj_sequences.append(obj_sequence.estimated_qoperation_sequence)\n",
    "\n",
    "    end = time.time()\n",
    "    print(f\"time(s)={end - start}\")\n",
    "    #with open(f\"state_obj_sequences_{name}_{on_para_eq_constraint}_{iterations}.pkl\", \"wb\") as f:\n",
    "    #    pickle.dump(obj_sequences, f)\n",
    "\n",
    "    #with open(\"obj_sequences.pkl\", \"rb\") as f:\n",
    "    #    obj_sequences = pickle.load(f)\n",
    "    return obj_sequences"
   ]
  },
  {
   "cell_type": "code",
   "execution_count": 4,
   "metadata": {},
   "outputs": [],
   "source": [
    "# setup system\n",
    "e_sys = ElementalSystem(0, get_normalized_pauli_basis())\n",
    "c_sys = CompositeSystem([e_sys])\n",
    "\n",
    "povm_x = get_x_measurement(c_sys)\n",
    "povm_y = get_y_measurement(c_sys)\n",
    "povm_z = get_z_measurement(c_sys)\n",
    "povms = [povm_x, povm_y, povm_z]"
   ]
  },
  {
   "cell_type": "code",
   "execution_count": 5,
   "metadata": {
    "scrolled": true,
    "tags": []
   },
   "outputs": [
    {
     "name": "stdout",
     "output_type": "stream",
     "text": [
      "{'iteration': 0, 'empi_dists_seq': [[(1000, array([0.517, 0.483])), (1000, array([0.517, 0.483])), (1000, array([1., 0.]))]], 'obj_sequence': [array([0.02404163, 0.02404163, 0.70710678])]}\n",
      "{'iteration': 1, 'empi_dists_seq': [[(1000, array([0.494, 0.506])), (1000, array([0.494, 0.506])), (1000, array([1., 0.]))]], 'obj_sequence': [array([-0.00848528, -0.00848528,  0.70710678])]}\n",
      "{'iteration': 2, 'empi_dists_seq': [[(1000, array([0.534, 0.466])), (1000, array([0.534, 0.466])), (1000, array([1., 0.]))]], 'obj_sequence': [array([0.04808326, 0.04808326, 0.70710678])]}\n",
      "{'iteration': 3, 'empi_dists_seq': [[(1000, array([0.488, 0.512])), (1000, array([0.488, 0.512])), (1000, array([1., 0.]))]], 'obj_sequence': [array([-0.01697056, -0.01697056,  0.70710678])]}\n",
      "{'iteration': 4, 'empi_dists_seq': [[(1000, array([0.481, 0.519])), (1000, array([0.481, 0.519])), (1000, array([1., 0.]))]], 'obj_sequence': [array([-0.02687006, -0.02687006,  0.70710678])]}\n",
      "{'iteration': 5, 'empi_dists_seq': [[(1000, array([0.502, 0.498])), (1000, array([0.502, 0.498])), (1000, array([1., 0.]))]], 'obj_sequence': [array([0.00282843, 0.00282843, 0.70710678])]}\n",
      "{'iteration': 6, 'empi_dists_seq': [[(1000, array([0.497, 0.503])), (1000, array([0.497, 0.503])), (1000, array([1., 0.]))]], 'obj_sequence': [array([-0.00424264, -0.00424264,  0.70710678])]}\n",
      "{'iteration': 7, 'empi_dists_seq': [[(1000, array([0.512, 0.488])), (1000, array([0.512, 0.488])), (1000, array([1., 0.]))]], 'obj_sequence': [array([0.01697056, 0.01697056, 0.70710678])]}\n",
      "{'iteration': 8, 'empi_dists_seq': [[(1000, array([0.49, 0.51])), (1000, array([0.49, 0.51])), (1000, array([1., 0.]))]], 'obj_sequence': [array([-0.01414214, -0.01414214,  0.70710678])]}\n",
      "{'iteration': 9, 'empi_dists_seq': [[(1000, array([0.49, 0.51])), (1000, array([0.49, 0.51])), (1000, array([1., 0.]))]], 'obj_sequence': [array([-0.01414214, -0.01414214,  0.70710678])]}\n",
      "{'iteration': 10, 'empi_dists_seq': [[(1000, array([0.503, 0.497])), (1000, array([0.503, 0.497])), (1000, array([1., 0.]))]], 'obj_sequence': [array([0.00424264, 0.00424264, 0.70710678])]}\n",
      "{'iteration': 11, 'empi_dists_seq': [[(1000, array([0.506, 0.494])), (1000, array([0.506, 0.494])), (1000, array([1., 0.]))]], 'obj_sequence': [array([0.00848528, 0.00848528, 0.70710678])]}\n",
      "{'iteration': 12, 'empi_dists_seq': [[(1000, array([0.485, 0.515])), (1000, array([0.485, 0.515])), (1000, array([1., 0.]))]], 'obj_sequence': [array([-0.0212132 , -0.0212132 ,  0.70710678])]}\n",
      "{'iteration': 13, 'empi_dists_seq': [[(1000, array([0.516, 0.484])), (1000, array([0.516, 0.484])), (1000, array([1., 0.]))]], 'obj_sequence': [array([0.02262742, 0.02262742, 0.70710678])]}\n",
      "{'iteration': 14, 'empi_dists_seq': [[(1000, array([0.525, 0.475])), (1000, array([0.525, 0.475])), (1000, array([1., 0.]))]], 'obj_sequence': [array([0.03535534, 0.03535534, 0.70710678])]}\n",
      "{'iteration': 15, 'empi_dists_seq': [[(1000, array([0.533, 0.467])), (1000, array([0.533, 0.467])), (1000, array([1., 0.]))]], 'obj_sequence': [array([0.04666905, 0.04666905, 0.70710678])]}\n",
      "{'iteration': 16, 'empi_dists_seq': [[(1000, array([0.504, 0.496])), (1000, array([0.504, 0.496])), (1000, array([1., 0.]))]], 'obj_sequence': [array([0.00565685, 0.00565685, 0.70710678])]}\n",
      "{'iteration': 17, 'empi_dists_seq': [[(1000, array([0.485, 0.515])), (1000, array([0.485, 0.515])), (1000, array([1., 0.]))]], 'obj_sequence': [array([-0.0212132 , -0.0212132 ,  0.70710678])]}\n",
      "{'iteration': 18, 'empi_dists_seq': [[(1000, array([0.505, 0.495])), (1000, array([0.505, 0.495])), (1000, array([1., 0.]))]], 'obj_sequence': [array([0.00707107, 0.00707107, 0.70710678])]}\n",
      "{'iteration': 19, 'empi_dists_seq': [[(1000, array([0.523, 0.477])), (1000, array([0.523, 0.477])), (1000, array([1., 0.]))]], 'obj_sequence': [array([0.03252691, 0.03252691, 0.70710678])]}\n",
      "{'iteration': 20, 'empi_dists_seq': [[(1000, array([0.5, 0.5])), (1000, array([0.5, 0.5])), (1000, array([1., 0.]))]], 'obj_sequence': [array([0.        , 0.        , 0.70710678])]}\n",
      "{'iteration': 21, 'empi_dists_seq': [[(1000, array([0.506, 0.494])), (1000, array([0.506, 0.494])), (1000, array([1., 0.]))]], 'obj_sequence': [array([0.00848528, 0.00848528, 0.70710678])]}\n",
      "{'iteration': 22, 'empi_dists_seq': [[(1000, array([0.504, 0.496])), (1000, array([0.504, 0.496])), (1000, array([1., 0.]))]], 'obj_sequence': [array([0.00565685, 0.00565685, 0.70710678])]}\n",
      "{'iteration': 23, 'empi_dists_seq': [[(1000, array([0.541, 0.459])), (1000, array([0.541, 0.459])), (1000, array([1., 0.]))]], 'obj_sequence': [array([0.05798276, 0.05798276, 0.70710678])]}\n",
      "{'iteration': 24, 'empi_dists_seq': [[(1000, array([0.495, 0.505])), (1000, array([0.495, 0.505])), (1000, array([1., 0.]))]], 'obj_sequence': [array([-0.00707107, -0.00707107,  0.70710678])]}\n",
      "{'iteration': 25, 'empi_dists_seq': [[(1000, array([0.497, 0.503])), (1000, array([0.497, 0.503])), (1000, array([1., 0.]))]], 'obj_sequence': [array([-0.00424264, -0.00424264,  0.70710678])]}\n",
      "{'iteration': 26, 'empi_dists_seq': [[(1000, array([0.496, 0.504])), (1000, array([0.496, 0.504])), (1000, array([1., 0.]))]], 'obj_sequence': [array([-0.00565685, -0.00565685,  0.70710678])]}\n",
      "{'iteration': 27, 'empi_dists_seq': [[(1000, array([0.502, 0.498])), (1000, array([0.502, 0.498])), (1000, array([1., 0.]))]], 'obj_sequence': [array([0.00282843, 0.00282843, 0.70710678])]}\n",
      "{'iteration': 28, 'empi_dists_seq': [[(1000, array([0.509, 0.491])), (1000, array([0.509, 0.491])), (1000, array([1., 0.]))]], 'obj_sequence': [array([0.01272792, 0.01272792, 0.70710678])]}\n",
      "{'iteration': 29, 'empi_dists_seq': [[(1000, array([0.502, 0.498])), (1000, array([0.502, 0.498])), (1000, array([1., 0.]))]], 'obj_sequence': [array([0.00282843, 0.00282843, 0.70710678])]}\n",
      "{'iteration': 30, 'empi_dists_seq': [[(1000, array([0.502, 0.498])), (1000, array([0.502, 0.498])), (1000, array([1., 0.]))]], 'obj_sequence': [array([0.00282843, 0.00282843, 0.70710678])]}\n",
      "{'iteration': 31, 'empi_dists_seq': [[(1000, array([0.514, 0.486])), (1000, array([0.514, 0.486])), (1000, array([1., 0.]))]], 'obj_sequence': [array([0.01979899, 0.01979899, 0.70710678])]}\n",
      "{'iteration': 32, 'empi_dists_seq': [[(1000, array([0.491, 0.509])), (1000, array([0.491, 0.509])), (1000, array([1., 0.]))]], 'obj_sequence': [array([-0.01272792, -0.01272792,  0.70710678])]}\n",
      "{'iteration': 33, 'empi_dists_seq': [[(1000, array([0.476, 0.524])), (1000, array([0.476, 0.524])), (1000, array([1., 0.]))]], 'obj_sequence': [array([-0.03394113, -0.03394113,  0.70710678])]}\n",
      "{'iteration': 34, 'empi_dists_seq': [[(1000, array([0.528, 0.472])), (1000, array([0.528, 0.472])), (1000, array([1., 0.]))]], 'obj_sequence': [array([0.03959798, 0.03959798, 0.70710678])]}\n",
      "{'iteration': 35, 'empi_dists_seq': [[(1000, array([0.502, 0.498])), (1000, array([0.502, 0.498])), (1000, array([1., 0.]))]], 'obj_sequence': [array([0.00282843, 0.00282843, 0.70710678])]}\n",
      "{'iteration': 36, 'empi_dists_seq': [[(1000, array([0.512, 0.488])), (1000, array([0.512, 0.488])), (1000, array([1., 0.]))]], 'obj_sequence': [array([0.01697056, 0.01697056, 0.70710678])]}\n",
      "{'iteration': 37, 'empi_dists_seq': [[(1000, array([0.499, 0.501])), (1000, array([0.499, 0.501])), (1000, array([1., 0.]))]], 'obj_sequence': [array([-0.00141421, -0.00141421,  0.70710678])]}\n",
      "{'iteration': 38, 'empi_dists_seq': [[(1000, array([0.484, 0.516])), (1000, array([0.484, 0.516])), (1000, array([1., 0.]))]], 'obj_sequence': [array([-0.02262742, -0.02262742,  0.70710678])]}\n",
      "{'iteration': 39, 'empi_dists_seq': [[(1000, array([0.487, 0.513])), (1000, array([0.487, 0.513])), (1000, array([1., 0.]))]], 'obj_sequence': [array([-0.01838478, -0.01838478,  0.70710678])]}\n",
      "{'iteration': 40, 'empi_dists_seq': [[(1000, array([0.49, 0.51])), (1000, array([0.49, 0.51])), (1000, array([1., 0.]))]], 'obj_sequence': [array([-0.01414214, -0.01414214,  0.70710678])]}\n",
      "{'iteration': 41, 'empi_dists_seq': [[(1000, array([0.503, 0.497])), (1000, array([0.503, 0.497])), (1000, array([1., 0.]))]], 'obj_sequence': [array([0.00424264, 0.00424264, 0.70710678])]}\n",
      "{'iteration': 42, 'empi_dists_seq': [[(1000, array([0.503, 0.497])), (1000, array([0.503, 0.497])), (1000, array([1., 0.]))]], 'obj_sequence': [array([0.00424264, 0.00424264, 0.70710678])]}\n",
      "{'iteration': 43, 'empi_dists_seq': [[(1000, array([0.486, 0.514])), (1000, array([0.486, 0.514])), (1000, array([1., 0.]))]], 'obj_sequence': [array([-0.01979899, -0.01979899,  0.70710678])]}\n",
      "{'iteration': 44, 'empi_dists_seq': [[(1000, array([0.493, 0.507])), (1000, array([0.493, 0.507])), (1000, array([1., 0.]))]], 'obj_sequence': [array([-0.00989949, -0.00989949,  0.70710678])]}\n",
      "{'iteration': 45, 'empi_dists_seq': [[(1000, array([0.517, 0.483])), (1000, array([0.517, 0.483])), (1000, array([1., 0.]))]], 'obj_sequence': [array([0.02404163, 0.02404163, 0.70710678])]}\n",
      "{'iteration': 46, 'empi_dists_seq': [[(1000, array([0.519, 0.481])), (1000, array([0.519, 0.481])), (1000, array([1., 0.]))]], 'obj_sequence': [array([0.02687006, 0.02687006, 0.70710678])]}\n",
      "{'iteration': 47, 'empi_dists_seq': [[(1000, array([0.486, 0.514])), (1000, array([0.486, 0.514])), (1000, array([1., 0.]))]], 'obj_sequence': [array([-0.01979899, -0.01979899,  0.70710678])]}\n",
      "{'iteration': 48, 'empi_dists_seq': [[(1000, array([0.52, 0.48])), (1000, array([0.52, 0.48])), (1000, array([1., 0.]))]], 'obj_sequence': [array([0.02828427, 0.02828427, 0.70710678])]}\n",
      "{'iteration': 49, 'empi_dists_seq': [[(1000, array([0.489, 0.511])), (1000, array([0.489, 0.511])), (1000, array([1., 0.]))]], 'obj_sequence': [array([-0.01555635, -0.01555635,  0.70710678])]}\n",
      "{'iteration': 50, 'empi_dists_seq': [[(1000, array([0.513, 0.487])), (1000, array([0.513, 0.487])), (1000, array([1., 0.]))]], 'obj_sequence': [array([0.01838478, 0.01838478, 0.70710678])]}\n",
      "{'iteration': 51, 'empi_dists_seq': [[(1000, array([0.513, 0.487])), (1000, array([0.513, 0.487])), (1000, array([1., 0.]))]], 'obj_sequence': [array([0.01838478, 0.01838478, 0.70710678])]}\n"
     ]
    },
    {
     "name": "stdout",
     "output_type": "stream",
     "text": [
      "{'iteration': 52, 'empi_dists_seq': [[(1000, array([0.486, 0.514])), (1000, array([0.486, 0.514])), (1000, array([1., 0.]))]], 'obj_sequence': [array([-0.01979899, -0.01979899,  0.70710678])]}\n",
      "{'iteration': 53, 'empi_dists_seq': [[(1000, array([0.498, 0.502])), (1000, array([0.498, 0.502])), (1000, array([1., 0.]))]], 'obj_sequence': [array([-0.00282843, -0.00282843,  0.70710678])]}\n",
      "{'iteration': 54, 'empi_dists_seq': [[(1000, array([0.523, 0.477])), (1000, array([0.523, 0.477])), (1000, array([1., 0.]))]], 'obj_sequence': [array([0.03252691, 0.03252691, 0.70710678])]}\n",
      "{'iteration': 55, 'empi_dists_seq': [[(1000, array([0.513, 0.487])), (1000, array([0.513, 0.487])), (1000, array([1., 0.]))]], 'obj_sequence': [array([0.01838478, 0.01838478, 0.70710678])]}\n",
      "{'iteration': 56, 'empi_dists_seq': [[(1000, array([0.506, 0.494])), (1000, array([0.506, 0.494])), (1000, array([1., 0.]))]], 'obj_sequence': [array([0.00848528, 0.00848528, 0.70710678])]}\n",
      "{'iteration': 57, 'empi_dists_seq': [[(1000, array([0.524, 0.476])), (1000, array([0.524, 0.476])), (1000, array([1., 0.]))]], 'obj_sequence': [array([0.03394113, 0.03394113, 0.70710678])]}\n",
      "{'iteration': 58, 'empi_dists_seq': [[(1000, array([0.516, 0.484])), (1000, array([0.516, 0.484])), (1000, array([1., 0.]))]], 'obj_sequence': [array([0.02262742, 0.02262742, 0.70710678])]}\n",
      "{'iteration': 59, 'empi_dists_seq': [[(1000, array([0.482, 0.518])), (1000, array([0.482, 0.518])), (1000, array([1., 0.]))]], 'obj_sequence': [array([-0.02545584, -0.02545584,  0.70710678])]}\n",
      "{'iteration': 60, 'empi_dists_seq': [[(1000, array([0.517, 0.483])), (1000, array([0.517, 0.483])), (1000, array([1., 0.]))]], 'obj_sequence': [array([0.02404163, 0.02404163, 0.70710678])]}\n",
      "{'iteration': 61, 'empi_dists_seq': [[(1000, array([0.529, 0.471])), (1000, array([0.529, 0.471])), (1000, array([1., 0.]))]], 'obj_sequence': [array([0.04101219, 0.04101219, 0.70710678])]}\n",
      "{'iteration': 62, 'empi_dists_seq': [[(1000, array([0.481, 0.519])), (1000, array([0.481, 0.519])), (1000, array([1., 0.]))]], 'obj_sequence': [array([-0.02687006, -0.02687006,  0.70710678])]}\n",
      "{'iteration': 63, 'empi_dists_seq': [[(1000, array([0.473, 0.527])), (1000, array([0.473, 0.527])), (1000, array([1., 0.]))]], 'obj_sequence': [array([-0.03818377, -0.03818377,  0.70710678])]}\n",
      "{'iteration': 64, 'empi_dists_seq': [[(1000, array([0.529, 0.471])), (1000, array([0.529, 0.471])), (1000, array([1., 0.]))]], 'obj_sequence': [array([0.04101219, 0.04101219, 0.70710678])]}\n",
      "{'iteration': 65, 'empi_dists_seq': [[(1000, array([0.533, 0.467])), (1000, array([0.533, 0.467])), (1000, array([1., 0.]))]], 'obj_sequence': [array([0.04666905, 0.04666905, 0.70710678])]}\n",
      "{'iteration': 66, 'empi_dists_seq': [[(1000, array([0.517, 0.483])), (1000, array([0.517, 0.483])), (1000, array([1., 0.]))]], 'obj_sequence': [array([0.02404163, 0.02404163, 0.70710678])]}\n",
      "{'iteration': 67, 'empi_dists_seq': [[(1000, array([0.504, 0.496])), (1000, array([0.504, 0.496])), (1000, array([1., 0.]))]], 'obj_sequence': [array([0.00565685, 0.00565685, 0.70710678])]}\n",
      "{'iteration': 68, 'empi_dists_seq': [[(1000, array([0.492, 0.508])), (1000, array([0.492, 0.508])), (1000, array([1., 0.]))]], 'obj_sequence': [array([-0.01131371, -0.01131371,  0.70710678])]}\n",
      "{'iteration': 69, 'empi_dists_seq': [[(1000, array([0.521, 0.479])), (1000, array([0.521, 0.479])), (1000, array([1., 0.]))]], 'obj_sequence': [array([0.02969848, 0.02969848, 0.70710678])]}\n",
      "{'iteration': 70, 'empi_dists_seq': [[(1000, array([0.503, 0.497])), (1000, array([0.503, 0.497])), (1000, array([1., 0.]))]], 'obj_sequence': [array([0.00424264, 0.00424264, 0.70710678])]}\n",
      "{'iteration': 71, 'empi_dists_seq': [[(1000, array([0.486, 0.514])), (1000, array([0.486, 0.514])), (1000, array([1., 0.]))]], 'obj_sequence': [array([-0.01979899, -0.01979899,  0.70710678])]}\n",
      "{'iteration': 72, 'empi_dists_seq': [[(1000, array([0.498, 0.502])), (1000, array([0.498, 0.502])), (1000, array([1., 0.]))]], 'obj_sequence': [array([-0.00282843, -0.00282843,  0.70710678])]}\n",
      "{'iteration': 73, 'empi_dists_seq': [[(1000, array([0.512, 0.488])), (1000, array([0.512, 0.488])), (1000, array([1., 0.]))]], 'obj_sequence': [array([0.01697056, 0.01697056, 0.70710678])]}\n",
      "{'iteration': 74, 'empi_dists_seq': [[(1000, array([0.489, 0.511])), (1000, array([0.489, 0.511])), (1000, array([1., 0.]))]], 'obj_sequence': [array([-0.01555635, -0.01555635,  0.70710678])]}\n",
      "{'iteration': 75, 'empi_dists_seq': [[(1000, array([0.492, 0.508])), (1000, array([0.492, 0.508])), (1000, array([1., 0.]))]], 'obj_sequence': [array([-0.01131371, -0.01131371,  0.70710678])]}\n",
      "{'iteration': 76, 'empi_dists_seq': [[(1000, array([0.525, 0.475])), (1000, array([0.525, 0.475])), (1000, array([1., 0.]))]], 'obj_sequence': [array([0.03535534, 0.03535534, 0.70710678])]}\n",
      "{'iteration': 77, 'empi_dists_seq': [[(1000, array([0.514, 0.486])), (1000, array([0.514, 0.486])), (1000, array([1., 0.]))]], 'obj_sequence': [array([0.01979899, 0.01979899, 0.70710678])]}\n",
      "{'iteration': 78, 'empi_dists_seq': [[(1000, array([0.507, 0.493])), (1000, array([0.507, 0.493])), (1000, array([1., 0.]))]], 'obj_sequence': [array([0.00989949, 0.00989949, 0.70710678])]}\n",
      "{'iteration': 79, 'empi_dists_seq': [[(1000, array([0.494, 0.506])), (1000, array([0.494, 0.506])), (1000, array([1., 0.]))]], 'obj_sequence': [array([-0.00848528, -0.00848528,  0.70710678])]}\n",
      "{'iteration': 80, 'empi_dists_seq': [[(1000, array([0.484, 0.516])), (1000, array([0.484, 0.516])), (1000, array([1., 0.]))]], 'obj_sequence': [array([-0.02262742, -0.02262742,  0.70710678])]}\n",
      "{'iteration': 81, 'empi_dists_seq': [[(1000, array([0.503, 0.497])), (1000, array([0.503, 0.497])), (1000, array([1., 0.]))]], 'obj_sequence': [array([0.00424264, 0.00424264, 0.70710678])]}\n",
      "{'iteration': 82, 'empi_dists_seq': [[(1000, array([0.52, 0.48])), (1000, array([0.52, 0.48])), (1000, array([1., 0.]))]], 'obj_sequence': [array([0.02828427, 0.02828427, 0.70710678])]}\n",
      "{'iteration': 83, 'empi_dists_seq': [[(1000, array([0.491, 0.509])), (1000, array([0.491, 0.509])), (1000, array([1., 0.]))]], 'obj_sequence': [array([-0.01272792, -0.01272792,  0.70710678])]}\n",
      "{'iteration': 84, 'empi_dists_seq': [[(1000, array([0.5, 0.5])), (1000, array([0.5, 0.5])), (1000, array([1., 0.]))]], 'obj_sequence': [array([0.        , 0.        , 0.70710678])]}\n",
      "{'iteration': 85, 'empi_dists_seq': [[(1000, array([0.489, 0.511])), (1000, array([0.489, 0.511])), (1000, array([1., 0.]))]], 'obj_sequence': [array([-0.01555635, -0.01555635,  0.70710678])]}\n",
      "{'iteration': 86, 'empi_dists_seq': [[(1000, array([0.532, 0.468])), (1000, array([0.532, 0.468])), (1000, array([1., 0.]))]], 'obj_sequence': [array([0.04525483, 0.04525483, 0.70710678])]}\n",
      "{'iteration': 87, 'empi_dists_seq': [[(1000, array([0.498, 0.502])), (1000, array([0.498, 0.502])), (1000, array([1., 0.]))]], 'obj_sequence': [array([-0.00282843, -0.00282843,  0.70710678])]}\n",
      "{'iteration': 88, 'empi_dists_seq': [[(1000, array([0.487, 0.513])), (1000, array([0.487, 0.513])), (1000, array([1., 0.]))]], 'obj_sequence': [array([-0.01838478, -0.01838478,  0.70710678])]}\n",
      "{'iteration': 89, 'empi_dists_seq': [[(1000, array([0.496, 0.504])), (1000, array([0.496, 0.504])), (1000, array([1., 0.]))]], 'obj_sequence': [array([-0.00565685, -0.00565685,  0.70710678])]}\n",
      "{'iteration': 90, 'empi_dists_seq': [[(1000, array([0.501, 0.499])), (1000, array([0.501, 0.499])), (1000, array([1., 0.]))]], 'obj_sequence': [array([0.00141421, 0.00141421, 0.70710678])]}\n",
      "{'iteration': 91, 'empi_dists_seq': [[(1000, array([0.522, 0.478])), (1000, array([0.522, 0.478])), (1000, array([1., 0.]))]], 'obj_sequence': [array([0.0311127 , 0.0311127 , 0.70710678])]}\n",
      "{'iteration': 92, 'empi_dists_seq': [[(1000, array([0.492, 0.508])), (1000, array([0.492, 0.508])), (1000, array([1., 0.]))]], 'obj_sequence': [array([-0.01131371, -0.01131371,  0.70710678])]}\n",
      "{'iteration': 93, 'empi_dists_seq': [[(1000, array([0.507, 0.493])), (1000, array([0.507, 0.493])), (1000, array([1., 0.]))]], 'obj_sequence': [array([0.00989949, 0.00989949, 0.70710678])]}\n",
      "{'iteration': 94, 'empi_dists_seq': [[(1000, array([0.506, 0.494])), (1000, array([0.506, 0.494])), (1000, array([1., 0.]))]], 'obj_sequence': [array([0.00848528, 0.00848528, 0.70710678])]}\n",
      "{'iteration': 95, 'empi_dists_seq': [[(1000, array([0.518, 0.482])), (1000, array([0.518, 0.482])), (1000, array([1., 0.]))]], 'obj_sequence': [array([0.02545584, 0.02545584, 0.70710678])]}\n",
      "{'iteration': 96, 'empi_dists_seq': [[(1000, array([0.492, 0.508])), (1000, array([0.492, 0.508])), (1000, array([1., 0.]))]], 'obj_sequence': [array([-0.01131371, -0.01131371,  0.70710678])]}\n",
      "{'iteration': 97, 'empi_dists_seq': [[(1000, array([0.488, 0.512])), (1000, array([0.488, 0.512])), (1000, array([1., 0.]))]], 'obj_sequence': [array([-0.01697056, -0.01697056,  0.70710678])]}\n",
      "{'iteration': 98, 'empi_dists_seq': [[(1000, array([0.505, 0.495])), (1000, array([0.505, 0.495])), (1000, array([1., 0.]))]], 'obj_sequence': [array([0.00707107, 0.00707107, 0.70710678])]}\n",
      "{'iteration': 99, 'empi_dists_seq': [[(1000, array([0.463, 0.537])), (1000, array([0.463, 0.537])), (1000, array([1., 0.]))]], 'obj_sequence': [array([-0.0523259 , -0.0523259 ,  0.70710678])]}\n",
      "{'iteration': 100, 'empi_dists_seq': [[(1000, array([0.499, 0.501])), (1000, array([0.499, 0.501])), (1000, array([1., 0.]))]], 'obj_sequence': [array([-0.00141421, -0.00141421,  0.70710678])]}\n",
      "{'iteration': 101, 'empi_dists_seq': [[(1000, array([0.511, 0.489])), (1000, array([0.511, 0.489])), (1000, array([1., 0.]))]], 'obj_sequence': [array([0.01555635, 0.01555635, 0.70710678])]}\n",
      "{'iteration': 102, 'empi_dists_seq': [[(1000, array([0.506, 0.494])), (1000, array([0.506, 0.494])), (1000, array([1., 0.]))]], 'obj_sequence': [array([0.00848528, 0.00848528, 0.70710678])]}\n",
      "{'iteration': 103, 'empi_dists_seq': [[(1000, array([0.488, 0.512])), (1000, array([0.488, 0.512])), (1000, array([1., 0.]))]], 'obj_sequence': [array([-0.01697056, -0.01697056,  0.70710678])]}\n",
      "{'iteration': 104, 'empi_dists_seq': [[(1000, array([0.505, 0.495])), (1000, array([0.505, 0.495])), (1000, array([1., 0.]))]], 'obj_sequence': [array([0.00707107, 0.00707107, 0.70710678])]}\n"
     ]
    },
    {
     "name": "stdout",
     "output_type": "stream",
     "text": [
      "{'iteration': 105, 'empi_dists_seq': [[(1000, array([0.471, 0.529])), (1000, array([0.471, 0.529])), (1000, array([1., 0.]))]], 'obj_sequence': [array([-0.04101219, -0.04101219,  0.70710678])]}\n",
      "{'iteration': 106, 'empi_dists_seq': [[(1000, array([0.497, 0.503])), (1000, array([0.497, 0.503])), (1000, array([1., 0.]))]], 'obj_sequence': [array([-0.00424264, -0.00424264,  0.70710678])]}\n",
      "{'iteration': 107, 'empi_dists_seq': [[(1000, array([0.498, 0.502])), (1000, array([0.498, 0.502])), (1000, array([1., 0.]))]], 'obj_sequence': [array([-0.00282843, -0.00282843,  0.70710678])]}\n",
      "{'iteration': 108, 'empi_dists_seq': [[(1000, array([0.502, 0.498])), (1000, array([0.502, 0.498])), (1000, array([1., 0.]))]], 'obj_sequence': [array([0.00282843, 0.00282843, 0.70710678])]}\n",
      "{'iteration': 109, 'empi_dists_seq': [[(1000, array([0.471, 0.529])), (1000, array([0.471, 0.529])), (1000, array([1., 0.]))]], 'obj_sequence': [array([-0.04101219, -0.04101219,  0.70710678])]}\n",
      "{'iteration': 110, 'empi_dists_seq': [[(1000, array([0.507, 0.493])), (1000, array([0.507, 0.493])), (1000, array([1., 0.]))]], 'obj_sequence': [array([0.00989949, 0.00989949, 0.70710678])]}\n",
      "{'iteration': 111, 'empi_dists_seq': [[(1000, array([0.525, 0.475])), (1000, array([0.525, 0.475])), (1000, array([1., 0.]))]], 'obj_sequence': [array([0.03535534, 0.03535534, 0.70710678])]}\n",
      "{'iteration': 112, 'empi_dists_seq': [[(1000, array([0.52, 0.48])), (1000, array([0.52, 0.48])), (1000, array([1., 0.]))]], 'obj_sequence': [array([0.02828427, 0.02828427, 0.70710678])]}\n",
      "{'iteration': 113, 'empi_dists_seq': [[(1000, array([0.481, 0.519])), (1000, array([0.481, 0.519])), (1000, array([1., 0.]))]], 'obj_sequence': [array([-0.02687006, -0.02687006,  0.70710678])]}\n",
      "{'iteration': 114, 'empi_dists_seq': [[(1000, array([0.513, 0.487])), (1000, array([0.513, 0.487])), (1000, array([1., 0.]))]], 'obj_sequence': [array([0.01838478, 0.01838478, 0.70710678])]}\n",
      "{'iteration': 115, 'empi_dists_seq': [[(1000, array([0.504, 0.496])), (1000, array([0.504, 0.496])), (1000, array([1., 0.]))]], 'obj_sequence': [array([0.00565685, 0.00565685, 0.70710678])]}\n",
      "{'iteration': 116, 'empi_dists_seq': [[(1000, array([0.512, 0.488])), (1000, array([0.512, 0.488])), (1000, array([1., 0.]))]], 'obj_sequence': [array([0.01697056, 0.01697056, 0.70710678])]}\n",
      "{'iteration': 117, 'empi_dists_seq': [[(1000, array([0.482, 0.518])), (1000, array([0.482, 0.518])), (1000, array([1., 0.]))]], 'obj_sequence': [array([-0.02545584, -0.02545584,  0.70710678])]}\n",
      "{'iteration': 118, 'empi_dists_seq': [[(1000, array([0.527, 0.473])), (1000, array([0.527, 0.473])), (1000, array([1., 0.]))]], 'obj_sequence': [array([0.03818377, 0.03818377, 0.70710678])]}\n",
      "{'iteration': 119, 'empi_dists_seq': [[(1000, array([0.488, 0.512])), (1000, array([0.488, 0.512])), (1000, array([1., 0.]))]], 'obj_sequence': [array([-0.01697056, -0.01697056,  0.70710678])]}\n",
      "{'iteration': 120, 'empi_dists_seq': [[(1000, array([0.475, 0.525])), (1000, array([0.475, 0.525])), (1000, array([1., 0.]))]], 'obj_sequence': [array([-0.03535534, -0.03535534,  0.70710678])]}\n",
      "{'iteration': 121, 'empi_dists_seq': [[(1000, array([0.496, 0.504])), (1000, array([0.496, 0.504])), (1000, array([1., 0.]))]], 'obj_sequence': [array([-0.00565685, -0.00565685,  0.70710678])]}\n",
      "{'iteration': 122, 'empi_dists_seq': [[(1000, array([0.517, 0.483])), (1000, array([0.517, 0.483])), (1000, array([1., 0.]))]], 'obj_sequence': [array([0.02404163, 0.02404163, 0.70710678])]}\n",
      "{'iteration': 123, 'empi_dists_seq': [[(1000, array([0.508, 0.492])), (1000, array([0.508, 0.492])), (1000, array([1., 0.]))]], 'obj_sequence': [array([0.01131371, 0.01131371, 0.70710678])]}\n",
      "{'iteration': 124, 'empi_dists_seq': [[(1000, array([0.488, 0.512])), (1000, array([0.488, 0.512])), (1000, array([1., 0.]))]], 'obj_sequence': [array([-0.01697056, -0.01697056,  0.70710678])]}\n",
      "{'iteration': 125, 'empi_dists_seq': [[(1000, array([0.483, 0.517])), (1000, array([0.483, 0.517])), (1000, array([1., 0.]))]], 'obj_sequence': [array([-0.02404163, -0.02404163,  0.70710678])]}\n",
      "{'iteration': 126, 'empi_dists_seq': [[(1000, array([0.49, 0.51])), (1000, array([0.49, 0.51])), (1000, array([1., 0.]))]], 'obj_sequence': [array([-0.01414214, -0.01414214,  0.70710678])]}\n",
      "{'iteration': 127, 'empi_dists_seq': [[(1000, array([0.517, 0.483])), (1000, array([0.517, 0.483])), (1000, array([1., 0.]))]], 'obj_sequence': [array([0.02404163, 0.02404163, 0.70710678])]}\n",
      "{'iteration': 128, 'empi_dists_seq': [[(1000, array([0.483, 0.517])), (1000, array([0.483, 0.517])), (1000, array([1., 0.]))]], 'obj_sequence': [array([-0.02404163, -0.02404163,  0.70710678])]}\n",
      "{'iteration': 129, 'empi_dists_seq': [[(1000, array([0.541, 0.459])), (1000, array([0.541, 0.459])), (1000, array([1., 0.]))]], 'obj_sequence': [array([0.05798276, 0.05798276, 0.70710678])]}\n",
      "{'iteration': 130, 'empi_dists_seq': [[(1000, array([0.532, 0.468])), (1000, array([0.532, 0.468])), (1000, array([1., 0.]))]], 'obj_sequence': [array([0.04525483, 0.04525483, 0.70710678])]}\n",
      "{'iteration': 131, 'empi_dists_seq': [[(1000, array([0.5, 0.5])), (1000, array([0.5, 0.5])), (1000, array([1., 0.]))]], 'obj_sequence': [array([0.        , 0.        , 0.70710678])]}\n",
      "{'iteration': 132, 'empi_dists_seq': [[(1000, array([0.47, 0.53])), (1000, array([0.47, 0.53])), (1000, array([1., 0.]))]], 'obj_sequence': [array([-0.04242641, -0.04242641,  0.70710678])]}\n",
      "{'iteration': 133, 'empi_dists_seq': [[(1000, array([0.475, 0.525])), (1000, array([0.475, 0.525])), (1000, array([1., 0.]))]], 'obj_sequence': [array([-0.03535534, -0.03535534,  0.70710678])]}\n",
      "{'iteration': 134, 'empi_dists_seq': [[(1000, array([0.501, 0.499])), (1000, array([0.501, 0.499])), (1000, array([1., 0.]))]], 'obj_sequence': [array([0.00141421, 0.00141421, 0.70710678])]}\n",
      "{'iteration': 135, 'empi_dists_seq': [[(1000, array([0.487, 0.513])), (1000, array([0.487, 0.513])), (1000, array([1., 0.]))]], 'obj_sequence': [array([-0.01838478, -0.01838478,  0.70710678])]}\n",
      "{'iteration': 136, 'empi_dists_seq': [[(1000, array([0.512, 0.488])), (1000, array([0.512, 0.488])), (1000, array([1., 0.]))]], 'obj_sequence': [array([0.01697056, 0.01697056, 0.70710678])]}\n",
      "{'iteration': 137, 'empi_dists_seq': [[(1000, array([0.497, 0.503])), (1000, array([0.497, 0.503])), (1000, array([1., 0.]))]], 'obj_sequence': [array([-0.00424264, -0.00424264,  0.70710678])]}\n",
      "{'iteration': 138, 'empi_dists_seq': [[(1000, array([0.486, 0.514])), (1000, array([0.486, 0.514])), (1000, array([1., 0.]))]], 'obj_sequence': [array([-0.01979899, -0.01979899,  0.70710678])]}\n",
      "{'iteration': 139, 'empi_dists_seq': [[(1000, array([0.499, 0.501])), (1000, array([0.499, 0.501])), (1000, array([1., 0.]))]], 'obj_sequence': [array([-0.00141421, -0.00141421,  0.70710678])]}\n",
      "{'iteration': 140, 'empi_dists_seq': [[(1000, array([0.495, 0.505])), (1000, array([0.495, 0.505])), (1000, array([1., 0.]))]], 'obj_sequence': [array([-0.00707107, -0.00707107,  0.70710678])]}\n",
      "{'iteration': 141, 'empi_dists_seq': [[(1000, array([0.504, 0.496])), (1000, array([0.504, 0.496])), (1000, array([1., 0.]))]], 'obj_sequence': [array([0.00565685, 0.00565685, 0.70710678])]}\n",
      "{'iteration': 142, 'empi_dists_seq': [[(1000, array([0.477, 0.523])), (1000, array([0.477, 0.523])), (1000, array([1., 0.]))]], 'obj_sequence': [array([-0.03252691, -0.03252691,  0.70710678])]}\n",
      "{'iteration': 143, 'empi_dists_seq': [[(1000, array([0.495, 0.505])), (1000, array([0.495, 0.505])), (1000, array([1., 0.]))]], 'obj_sequence': [array([-0.00707107, -0.00707107,  0.70710678])]}\n",
      "{'iteration': 144, 'empi_dists_seq': [[(1000, array([0.52, 0.48])), (1000, array([0.52, 0.48])), (1000, array([1., 0.]))]], 'obj_sequence': [array([0.02828427, 0.02828427, 0.70710678])]}\n",
      "{'iteration': 145, 'empi_dists_seq': [[(1000, array([0.511, 0.489])), (1000, array([0.511, 0.489])), (1000, array([1., 0.]))]], 'obj_sequence': [array([0.01555635, 0.01555635, 0.70710678])]}\n",
      "{'iteration': 146, 'empi_dists_seq': [[(1000, array([0.49, 0.51])), (1000, array([0.49, 0.51])), (1000, array([1., 0.]))]], 'obj_sequence': [array([-0.01414214, -0.01414214,  0.70710678])]}\n",
      "{'iteration': 147, 'empi_dists_seq': [[(1000, array([0.517, 0.483])), (1000, array([0.517, 0.483])), (1000, array([1., 0.]))]], 'obj_sequence': [array([0.02404163, 0.02404163, 0.70710678])]}\n",
      "{'iteration': 148, 'empi_dists_seq': [[(1000, array([0.504, 0.496])), (1000, array([0.504, 0.496])), (1000, array([1., 0.]))]], 'obj_sequence': [array([0.00565685, 0.00565685, 0.70710678])]}\n",
      "{'iteration': 149, 'empi_dists_seq': [[(1000, array([0.5, 0.5])), (1000, array([0.5, 0.5])), (1000, array([1., 0.]))]], 'obj_sequence': [array([0.        , 0.        , 0.70710678])]}\n",
      "{'iteration': 150, 'empi_dists_seq': [[(1000, array([0.509, 0.491])), (1000, array([0.509, 0.491])), (1000, array([1., 0.]))]], 'obj_sequence': [array([0.01272792, 0.01272792, 0.70710678])]}\n",
      "{'iteration': 151, 'empi_dists_seq': [[(1000, array([0.479, 0.521])), (1000, array([0.479, 0.521])), (1000, array([1., 0.]))]], 'obj_sequence': [array([-0.02969848, -0.02969848,  0.70710678])]}\n",
      "{'iteration': 152, 'empi_dists_seq': [[(1000, array([0.503, 0.497])), (1000, array([0.503, 0.497])), (1000, array([1., 0.]))]], 'obj_sequence': [array([0.00424264, 0.00424264, 0.70710678])]}\n",
      "{'iteration': 153, 'empi_dists_seq': [[(1000, array([0.521, 0.479])), (1000, array([0.521, 0.479])), (1000, array([1., 0.]))]], 'obj_sequence': [array([0.02969848, 0.02969848, 0.70710678])]}\n",
      "{'iteration': 154, 'empi_dists_seq': [[(1000, array([0.496, 0.504])), (1000, array([0.496, 0.504])), (1000, array([1., 0.]))]], 'obj_sequence': [array([-0.00565685, -0.00565685,  0.70710678])]}\n",
      "{'iteration': 155, 'empi_dists_seq': [[(1000, array([0.503, 0.497])), (1000, array([0.503, 0.497])), (1000, array([1., 0.]))]], 'obj_sequence': [array([0.00424264, 0.00424264, 0.70710678])]}\n",
      "{'iteration': 156, 'empi_dists_seq': [[(1000, array([0.51, 0.49])), (1000, array([0.51, 0.49])), (1000, array([1., 0.]))]], 'obj_sequence': [array([0.01414214, 0.01414214, 0.70710678])]}\n",
      "{'iteration': 157, 'empi_dists_seq': [[(1000, array([0.51, 0.49])), (1000, array([0.51, 0.49])), (1000, array([1., 0.]))]], 'obj_sequence': [array([0.01414214, 0.01414214, 0.70710678])]}\n",
      "{'iteration': 158, 'empi_dists_seq': [[(1000, array([0.487, 0.513])), (1000, array([0.487, 0.513])), (1000, array([1., 0.]))]], 'obj_sequence': [array([-0.01838478, -0.01838478,  0.70710678])]}\n"
     ]
    },
    {
     "name": "stdout",
     "output_type": "stream",
     "text": [
      "{'iteration': 159, 'empi_dists_seq': [[(1000, array([0.504, 0.496])), (1000, array([0.504, 0.496])), (1000, array([1., 0.]))]], 'obj_sequence': [array([0.00565685, 0.00565685, 0.70710678])]}\n",
      "{'iteration': 160, 'empi_dists_seq': [[(1000, array([0.49, 0.51])), (1000, array([0.49, 0.51])), (1000, array([1., 0.]))]], 'obj_sequence': [array([-0.01414214, -0.01414214,  0.70710678])]}\n",
      "{'iteration': 161, 'empi_dists_seq': [[(1000, array([0.476, 0.524])), (1000, array([0.476, 0.524])), (1000, array([1., 0.]))]], 'obj_sequence': [array([-0.03394113, -0.03394113,  0.70710678])]}\n",
      "{'iteration': 162, 'empi_dists_seq': [[(1000, array([0.458, 0.542])), (1000, array([0.458, 0.542])), (1000, array([1., 0.]))]], 'obj_sequence': [array([-0.05939697, -0.05939697,  0.70710678])]}\n",
      "{'iteration': 163, 'empi_dists_seq': [[(1000, array([0.512, 0.488])), (1000, array([0.512, 0.488])), (1000, array([1., 0.]))]], 'obj_sequence': [array([0.01697056, 0.01697056, 0.70710678])]}\n",
      "{'iteration': 164, 'empi_dists_seq': [[(1000, array([0.479, 0.521])), (1000, array([0.479, 0.521])), (1000, array([1., 0.]))]], 'obj_sequence': [array([-0.02969848, -0.02969848,  0.70710678])]}\n",
      "{'iteration': 165, 'empi_dists_seq': [[(1000, array([0.513, 0.487])), (1000, array([0.513, 0.487])), (1000, array([1., 0.]))]], 'obj_sequence': [array([0.01838478, 0.01838478, 0.70710678])]}\n",
      "{'iteration': 166, 'empi_dists_seq': [[(1000, array([0.486, 0.514])), (1000, array([0.486, 0.514])), (1000, array([1., 0.]))]], 'obj_sequence': [array([-0.01979899, -0.01979899,  0.70710678])]}\n",
      "{'iteration': 167, 'empi_dists_seq': [[(1000, array([0.483, 0.517])), (1000, array([0.483, 0.517])), (1000, array([1., 0.]))]], 'obj_sequence': [array([-0.02404163, -0.02404163,  0.70710678])]}\n",
      "{'iteration': 168, 'empi_dists_seq': [[(1000, array([0.496, 0.504])), (1000, array([0.496, 0.504])), (1000, array([1., 0.]))]], 'obj_sequence': [array([-0.00565685, -0.00565685,  0.70710678])]}\n",
      "{'iteration': 169, 'empi_dists_seq': [[(1000, array([0.527, 0.473])), (1000, array([0.527, 0.473])), (1000, array([1., 0.]))]], 'obj_sequence': [array([0.03818377, 0.03818377, 0.70710678])]}\n",
      "{'iteration': 170, 'empi_dists_seq': [[(1000, array([0.498, 0.502])), (1000, array([0.498, 0.502])), (1000, array([1., 0.]))]], 'obj_sequence': [array([-0.00282843, -0.00282843,  0.70710678])]}\n",
      "{'iteration': 171, 'empi_dists_seq': [[(1000, array([0.484, 0.516])), (1000, array([0.484, 0.516])), (1000, array([1., 0.]))]], 'obj_sequence': [array([-0.02262742, -0.02262742,  0.70710678])]}\n",
      "{'iteration': 172, 'empi_dists_seq': [[(1000, array([0.502, 0.498])), (1000, array([0.502, 0.498])), (1000, array([1., 0.]))]], 'obj_sequence': [array([0.00282843, 0.00282843, 0.70710678])]}\n",
      "{'iteration': 173, 'empi_dists_seq': [[(1000, array([0.496, 0.504])), (1000, array([0.496, 0.504])), (1000, array([1., 0.]))]], 'obj_sequence': [array([-0.00565685, -0.00565685,  0.70710678])]}\n",
      "{'iteration': 174, 'empi_dists_seq': [[(1000, array([0.501, 0.499])), (1000, array([0.501, 0.499])), (1000, array([1., 0.]))]], 'obj_sequence': [array([0.00141421, 0.00141421, 0.70710678])]}\n",
      "{'iteration': 175, 'empi_dists_seq': [[(1000, array([0.514, 0.486])), (1000, array([0.514, 0.486])), (1000, array([1., 0.]))]], 'obj_sequence': [array([0.01979899, 0.01979899, 0.70710678])]}\n",
      "{'iteration': 176, 'empi_dists_seq': [[(1000, array([0.476, 0.524])), (1000, array([0.476, 0.524])), (1000, array([1., 0.]))]], 'obj_sequence': [array([-0.03394113, -0.03394113,  0.70710678])]}\n",
      "{'iteration': 177, 'empi_dists_seq': [[(1000, array([0.518, 0.482])), (1000, array([0.518, 0.482])), (1000, array([1., 0.]))]], 'obj_sequence': [array([0.02545584, 0.02545584, 0.70710678])]}\n",
      "{'iteration': 178, 'empi_dists_seq': [[(1000, array([0.496, 0.504])), (1000, array([0.496, 0.504])), (1000, array([1., 0.]))]], 'obj_sequence': [array([-0.00565685, -0.00565685,  0.70710678])]}\n",
      "{'iteration': 179, 'empi_dists_seq': [[(1000, array([0.493, 0.507])), (1000, array([0.493, 0.507])), (1000, array([1., 0.]))]], 'obj_sequence': [array([-0.00989949, -0.00989949,  0.70710678])]}\n",
      "{'iteration': 180, 'empi_dists_seq': [[(1000, array([0.493, 0.507])), (1000, array([0.493, 0.507])), (1000, array([1., 0.]))]], 'obj_sequence': [array([-0.00989949, -0.00989949,  0.70710678])]}\n",
      "{'iteration': 181, 'empi_dists_seq': [[(1000, array([0.504, 0.496])), (1000, array([0.504, 0.496])), (1000, array([1., 0.]))]], 'obj_sequence': [array([0.00565685, 0.00565685, 0.70710678])]}\n",
      "{'iteration': 182, 'empi_dists_seq': [[(1000, array([0.467, 0.533])), (1000, array([0.467, 0.533])), (1000, array([1., 0.]))]], 'obj_sequence': [array([-0.04666905, -0.04666905,  0.70710678])]}\n",
      "{'iteration': 183, 'empi_dists_seq': [[(1000, array([0.499, 0.501])), (1000, array([0.499, 0.501])), (1000, array([1., 0.]))]], 'obj_sequence': [array([-0.00141421, -0.00141421,  0.70710678])]}\n",
      "{'iteration': 184, 'empi_dists_seq': [[(1000, array([0.477, 0.523])), (1000, array([0.477, 0.523])), (1000, array([1., 0.]))]], 'obj_sequence': [array([-0.03252691, -0.03252691,  0.70710678])]}\n",
      "{'iteration': 185, 'empi_dists_seq': [[(1000, array([0.505, 0.495])), (1000, array([0.505, 0.495])), (1000, array([1., 0.]))]], 'obj_sequence': [array([0.00707107, 0.00707107, 0.70710678])]}\n",
      "{'iteration': 186, 'empi_dists_seq': [[(1000, array([0.5, 0.5])), (1000, array([0.5, 0.5])), (1000, array([1., 0.]))]], 'obj_sequence': [array([0.        , 0.        , 0.70710678])]}\n",
      "{'iteration': 187, 'empi_dists_seq': [[(1000, array([0.512, 0.488])), (1000, array([0.512, 0.488])), (1000, array([1., 0.]))]], 'obj_sequence': [array([0.01697056, 0.01697056, 0.70710678])]}\n",
      "{'iteration': 188, 'empi_dists_seq': [[(1000, array([0.491, 0.509])), (1000, array([0.491, 0.509])), (1000, array([1., 0.]))]], 'obj_sequence': [array([-0.01272792, -0.01272792,  0.70710678])]}\n",
      "{'iteration': 189, 'empi_dists_seq': [[(1000, array([0.503, 0.497])), (1000, array([0.503, 0.497])), (1000, array([1., 0.]))]], 'obj_sequence': [array([0.00424264, 0.00424264, 0.70710678])]}\n",
      "{'iteration': 190, 'empi_dists_seq': [[(1000, array([0.512, 0.488])), (1000, array([0.512, 0.488])), (1000, array([1., 0.]))]], 'obj_sequence': [array([0.01697056, 0.01697056, 0.70710678])]}\n",
      "{'iteration': 191, 'empi_dists_seq': [[(1000, array([0.516, 0.484])), (1000, array([0.516, 0.484])), (1000, array([1., 0.]))]], 'obj_sequence': [array([0.02262742, 0.02262742, 0.70710678])]}\n",
      "{'iteration': 192, 'empi_dists_seq': [[(1000, array([0.479, 0.521])), (1000, array([0.479, 0.521])), (1000, array([1., 0.]))]], 'obj_sequence': [array([-0.02969848, -0.02969848,  0.70710678])]}\n",
      "{'iteration': 193, 'empi_dists_seq': [[(1000, array([0.496, 0.504])), (1000, array([0.496, 0.504])), (1000, array([1., 0.]))]], 'obj_sequence': [array([-0.00565685, -0.00565685,  0.70710678])]}\n",
      "{'iteration': 194, 'empi_dists_seq': [[(1000, array([0.488, 0.512])), (1000, array([0.488, 0.512])), (1000, array([1., 0.]))]], 'obj_sequence': [array([-0.01697056, -0.01697056,  0.70710678])]}\n",
      "{'iteration': 195, 'empi_dists_seq': [[(1000, array([0.505, 0.495])), (1000, array([0.505, 0.495])), (1000, array([1., 0.]))]], 'obj_sequence': [array([0.00707107, 0.00707107, 0.70710678])]}\n",
      "{'iteration': 196, 'empi_dists_seq': [[(1000, array([0.491, 0.509])), (1000, array([0.491, 0.509])), (1000, array([1., 0.]))]], 'obj_sequence': [array([-0.01272792, -0.01272792,  0.70710678])]}\n",
      "{'iteration': 197, 'empi_dists_seq': [[(1000, array([0.492, 0.508])), (1000, array([0.492, 0.508])), (1000, array([1., 0.]))]], 'obj_sequence': [array([-0.01131371, -0.01131371,  0.70710678])]}\n",
      "{'iteration': 198, 'empi_dists_seq': [[(1000, array([0.527, 0.473])), (1000, array([0.527, 0.473])), (1000, array([1., 0.]))]], 'obj_sequence': [array([0.03818377, 0.03818377, 0.70710678])]}\n",
      "{'iteration': 199, 'empi_dists_seq': [[(1000, array([0.507, 0.493])), (1000, array([0.507, 0.493])), (1000, array([1., 0.]))]], 'obj_sequence': [array([0.00989949, 0.00989949, 0.70710678])]}\n",
      "{'iteration': 200, 'empi_dists_seq': [[(1000, array([0.496, 0.504])), (1000, array([0.496, 0.504])), (1000, array([1., 0.]))]], 'obj_sequence': [array([-0.00565685, -0.00565685,  0.70710678])]}\n",
      "{'iteration': 201, 'empi_dists_seq': [[(1000, array([0.525, 0.475])), (1000, array([0.525, 0.475])), (1000, array([1., 0.]))]], 'obj_sequence': [array([0.03535534, 0.03535534, 0.70710678])]}\n",
      "{'iteration': 202, 'empi_dists_seq': [[(1000, array([0.523, 0.477])), (1000, array([0.523, 0.477])), (1000, array([1., 0.]))]], 'obj_sequence': [array([0.03252691, 0.03252691, 0.70710678])]}\n",
      "{'iteration': 203, 'empi_dists_seq': [[(1000, array([0.464, 0.536])), (1000, array([0.464, 0.536])), (1000, array([1., 0.]))]], 'obj_sequence': [array([-0.05091169, -0.05091169,  0.70710678])]}\n",
      "{'iteration': 204, 'empi_dists_seq': [[(1000, array([0.495, 0.505])), (1000, array([0.495, 0.505])), (1000, array([1., 0.]))]], 'obj_sequence': [array([-0.00707107, -0.00707107,  0.70710678])]}\n",
      "{'iteration': 205, 'empi_dists_seq': [[(1000, array([0.457, 0.543])), (1000, array([0.457, 0.543])), (1000, array([1., 0.]))]], 'obj_sequence': [array([-0.06081118, -0.06081118,  0.70710678])]}\n",
      "{'iteration': 206, 'empi_dists_seq': [[(1000, array([0.503, 0.497])), (1000, array([0.503, 0.497])), (1000, array([1., 0.]))]], 'obj_sequence': [array([0.00424264, 0.00424264, 0.70710678])]}\n",
      "{'iteration': 207, 'empi_dists_seq': [[(1000, array([0.499, 0.501])), (1000, array([0.499, 0.501])), (1000, array([1., 0.]))]], 'obj_sequence': [array([-0.00141421, -0.00141421,  0.70710678])]}\n",
      "{'iteration': 208, 'empi_dists_seq': [[(1000, array([0.504, 0.496])), (1000, array([0.504, 0.496])), (1000, array([1., 0.]))]], 'obj_sequence': [array([0.00565685, 0.00565685, 0.70710678])]}\n",
      "{'iteration': 209, 'empi_dists_seq': [[(1000, array([0.491, 0.509])), (1000, array([0.491, 0.509])), (1000, array([1., 0.]))]], 'obj_sequence': [array([-0.01272792, -0.01272792,  0.70710678])]}\n",
      "{'iteration': 210, 'empi_dists_seq': [[(1000, array([0.5, 0.5])), (1000, array([0.5, 0.5])), (1000, array([1., 0.]))]], 'obj_sequence': [array([0.        , 0.        , 0.70710678])]}\n",
      "{'iteration': 211, 'empi_dists_seq': [[(1000, array([0.499, 0.501])), (1000, array([0.499, 0.501])), (1000, array([1., 0.]))]], 'obj_sequence': [array([-0.00141421, -0.00141421,  0.70710678])]}\n"
     ]
    },
    {
     "name": "stdout",
     "output_type": "stream",
     "text": [
      "{'iteration': 212, 'empi_dists_seq': [[(1000, array([0.476, 0.524])), (1000, array([0.476, 0.524])), (1000, array([1., 0.]))]], 'obj_sequence': [array([-0.03394113, -0.03394113,  0.70710678])]}\n",
      "{'iteration': 213, 'empi_dists_seq': [[(1000, array([0.516, 0.484])), (1000, array([0.516, 0.484])), (1000, array([1., 0.]))]], 'obj_sequence': [array([0.02262742, 0.02262742, 0.70710678])]}\n",
      "{'iteration': 214, 'empi_dists_seq': [[(1000, array([0.531, 0.469])), (1000, array([0.531, 0.469])), (1000, array([1., 0.]))]], 'obj_sequence': [array([0.04384062, 0.04384062, 0.70710678])]}\n",
      "{'iteration': 215, 'empi_dists_seq': [[(1000, array([0.489, 0.511])), (1000, array([0.489, 0.511])), (1000, array([1., 0.]))]], 'obj_sequence': [array([-0.01555635, -0.01555635,  0.70710678])]}\n",
      "{'iteration': 216, 'empi_dists_seq': [[(1000, array([0.495, 0.505])), (1000, array([0.495, 0.505])), (1000, array([1., 0.]))]], 'obj_sequence': [array([-0.00707107, -0.00707107,  0.70710678])]}\n",
      "{'iteration': 217, 'empi_dists_seq': [[(1000, array([0.507, 0.493])), (1000, array([0.507, 0.493])), (1000, array([1., 0.]))]], 'obj_sequence': [array([0.00989949, 0.00989949, 0.70710678])]}\n",
      "{'iteration': 218, 'empi_dists_seq': [[(1000, array([0.504, 0.496])), (1000, array([0.504, 0.496])), (1000, array([1., 0.]))]], 'obj_sequence': [array([0.00565685, 0.00565685, 0.70710678])]}\n",
      "{'iteration': 219, 'empi_dists_seq': [[(1000, array([0.516, 0.484])), (1000, array([0.516, 0.484])), (1000, array([1., 0.]))]], 'obj_sequence': [array([0.02262742, 0.02262742, 0.70710678])]}\n",
      "{'iteration': 220, 'empi_dists_seq': [[(1000, array([0.464, 0.536])), (1000, array([0.464, 0.536])), (1000, array([1., 0.]))]], 'obj_sequence': [array([-0.05091169, -0.05091169,  0.70710678])]}\n",
      "{'iteration': 221, 'empi_dists_seq': [[(1000, array([0.46, 0.54])), (1000, array([0.46, 0.54])), (1000, array([1., 0.]))]], 'obj_sequence': [array([-0.05656854, -0.05656854,  0.70710678])]}\n",
      "{'iteration': 222, 'empi_dists_seq': [[(1000, array([0.499, 0.501])), (1000, array([0.499, 0.501])), (1000, array([1., 0.]))]], 'obj_sequence': [array([-0.00141421, -0.00141421,  0.70710678])]}\n",
      "{'iteration': 223, 'empi_dists_seq': [[(1000, array([0.512, 0.488])), (1000, array([0.512, 0.488])), (1000, array([1., 0.]))]], 'obj_sequence': [array([0.01697056, 0.01697056, 0.70710678])]}\n",
      "{'iteration': 224, 'empi_dists_seq': [[(1000, array([0.501, 0.499])), (1000, array([0.501, 0.499])), (1000, array([1., 0.]))]], 'obj_sequence': [array([0.00141421, 0.00141421, 0.70710678])]}\n",
      "{'iteration': 225, 'empi_dists_seq': [[(1000, array([0.475, 0.525])), (1000, array([0.475, 0.525])), (1000, array([1., 0.]))]], 'obj_sequence': [array([-0.03535534, -0.03535534,  0.70710678])]}\n",
      "{'iteration': 226, 'empi_dists_seq': [[(1000, array([0.494, 0.506])), (1000, array([0.494, 0.506])), (1000, array([1., 0.]))]], 'obj_sequence': [array([-0.00848528, -0.00848528,  0.70710678])]}\n",
      "{'iteration': 227, 'empi_dists_seq': [[(1000, array([0.495, 0.505])), (1000, array([0.495, 0.505])), (1000, array([1., 0.]))]], 'obj_sequence': [array([-0.00707107, -0.00707107,  0.70710678])]}\n",
      "{'iteration': 228, 'empi_dists_seq': [[(1000, array([0.5, 0.5])), (1000, array([0.5, 0.5])), (1000, array([1., 0.]))]], 'obj_sequence': [array([0.        , 0.        , 0.70710678])]}\n",
      "{'iteration': 229, 'empi_dists_seq': [[(1000, array([0.511, 0.489])), (1000, array([0.511, 0.489])), (1000, array([1., 0.]))]], 'obj_sequence': [array([0.01555635, 0.01555635, 0.70710678])]}\n",
      "{'iteration': 230, 'empi_dists_seq': [[(1000, array([0.51, 0.49])), (1000, array([0.51, 0.49])), (1000, array([1., 0.]))]], 'obj_sequence': [array([0.01414214, 0.01414214, 0.70710678])]}\n",
      "{'iteration': 231, 'empi_dists_seq': [[(1000, array([0.498, 0.502])), (1000, array([0.498, 0.502])), (1000, array([1., 0.]))]], 'obj_sequence': [array([-0.00282843, -0.00282843,  0.70710678])]}\n",
      "{'iteration': 232, 'empi_dists_seq': [[(1000, array([0.513, 0.487])), (1000, array([0.513, 0.487])), (1000, array([1., 0.]))]], 'obj_sequence': [array([0.01838478, 0.01838478, 0.70710678])]}\n",
      "{'iteration': 233, 'empi_dists_seq': [[(1000, array([0.482, 0.518])), (1000, array([0.482, 0.518])), (1000, array([1., 0.]))]], 'obj_sequence': [array([-0.02545584, -0.02545584,  0.70710678])]}\n",
      "{'iteration': 234, 'empi_dists_seq': [[(1000, array([0.483, 0.517])), (1000, array([0.483, 0.517])), (1000, array([1., 0.]))]], 'obj_sequence': [array([-0.02404163, -0.02404163,  0.70710678])]}\n",
      "{'iteration': 235, 'empi_dists_seq': [[(1000, array([0.481, 0.519])), (1000, array([0.481, 0.519])), (1000, array([1., 0.]))]], 'obj_sequence': [array([-0.02687006, -0.02687006,  0.70710678])]}\n",
      "{'iteration': 236, 'empi_dists_seq': [[(1000, array([0.501, 0.499])), (1000, array([0.501, 0.499])), (1000, array([1., 0.]))]], 'obj_sequence': [array([0.00141421, 0.00141421, 0.70710678])]}\n",
      "{'iteration': 237, 'empi_dists_seq': [[(1000, array([0.525, 0.475])), (1000, array([0.525, 0.475])), (1000, array([1., 0.]))]], 'obj_sequence': [array([0.03535534, 0.03535534, 0.70710678])]}\n",
      "{'iteration': 238, 'empi_dists_seq': [[(1000, array([0.515, 0.485])), (1000, array([0.515, 0.485])), (1000, array([1., 0.]))]], 'obj_sequence': [array([0.0212132 , 0.0212132 , 0.70710678])]}\n",
      "{'iteration': 239, 'empi_dists_seq': [[(1000, array([0.494, 0.506])), (1000, array([0.494, 0.506])), (1000, array([1., 0.]))]], 'obj_sequence': [array([-0.00848528, -0.00848528,  0.70710678])]}\n",
      "{'iteration': 240, 'empi_dists_seq': [[(1000, array([0.493, 0.507])), (1000, array([0.493, 0.507])), (1000, array([1., 0.]))]], 'obj_sequence': [array([-0.00989949, -0.00989949,  0.70710678])]}\n",
      "{'iteration': 241, 'empi_dists_seq': [[(1000, array([0.491, 0.509])), (1000, array([0.491, 0.509])), (1000, array([1., 0.]))]], 'obj_sequence': [array([-0.01272792, -0.01272792,  0.70710678])]}\n",
      "{'iteration': 242, 'empi_dists_seq': [[(1000, array([0.494, 0.506])), (1000, array([0.494, 0.506])), (1000, array([1., 0.]))]], 'obj_sequence': [array([-0.00848528, -0.00848528,  0.70710678])]}\n",
      "{'iteration': 243, 'empi_dists_seq': [[(1000, array([0.505, 0.495])), (1000, array([0.505, 0.495])), (1000, array([1., 0.]))]], 'obj_sequence': [array([0.00707107, 0.00707107, 0.70710678])]}\n",
      "{'iteration': 244, 'empi_dists_seq': [[(1000, array([0.544, 0.456])), (1000, array([0.544, 0.456])), (1000, array([1., 0.]))]], 'obj_sequence': [array([0.0622254 , 0.0622254 , 0.70710678])]}\n",
      "{'iteration': 245, 'empi_dists_seq': [[(1000, array([0.507, 0.493])), (1000, array([0.507, 0.493])), (1000, array([1., 0.]))]], 'obj_sequence': [array([0.00989949, 0.00989949, 0.70710678])]}\n",
      "{'iteration': 246, 'empi_dists_seq': [[(1000, array([0.484, 0.516])), (1000, array([0.484, 0.516])), (1000, array([1., 0.]))]], 'obj_sequence': [array([-0.02262742, -0.02262742,  0.70710678])]}\n",
      "{'iteration': 247, 'empi_dists_seq': [[(1000, array([0.502, 0.498])), (1000, array([0.502, 0.498])), (1000, array([1., 0.]))]], 'obj_sequence': [array([0.00282843, 0.00282843, 0.70710678])]}\n",
      "{'iteration': 248, 'empi_dists_seq': [[(1000, array([0.498, 0.502])), (1000, array([0.498, 0.502])), (1000, array([1., 0.]))]], 'obj_sequence': [array([-0.00282843, -0.00282843,  0.70710678])]}\n",
      "{'iteration': 249, 'empi_dists_seq': [[(1000, array([0.494, 0.506])), (1000, array([0.494, 0.506])), (1000, array([1., 0.]))]], 'obj_sequence': [array([-0.00848528, -0.00848528,  0.70710678])]}\n",
      "{'iteration': 250, 'empi_dists_seq': [[(1000, array([0.514, 0.486])), (1000, array([0.514, 0.486])), (1000, array([1., 0.]))]], 'obj_sequence': [array([0.01979899, 0.01979899, 0.70710678])]}\n",
      "{'iteration': 251, 'empi_dists_seq': [[(1000, array([0.492, 0.508])), (1000, array([0.492, 0.508])), (1000, array([1., 0.]))]], 'obj_sequence': [array([-0.01131371, -0.01131371,  0.70710678])]}\n",
      "{'iteration': 252, 'empi_dists_seq': [[(1000, array([0.484, 0.516])), (1000, array([0.484, 0.516])), (1000, array([1., 0.]))]], 'obj_sequence': [array([-0.02262742, -0.02262742,  0.70710678])]}\n",
      "{'iteration': 253, 'empi_dists_seq': [[(1000, array([0.484, 0.516])), (1000, array([0.484, 0.516])), (1000, array([1., 0.]))]], 'obj_sequence': [array([-0.02262742, -0.02262742,  0.70710678])]}\n",
      "{'iteration': 254, 'empi_dists_seq': [[(1000, array([0.5, 0.5])), (1000, array([0.5, 0.5])), (1000, array([1., 0.]))]], 'obj_sequence': [array([0.        , 0.        , 0.70710678])]}\n",
      "{'iteration': 255, 'empi_dists_seq': [[(1000, array([0.501, 0.499])), (1000, array([0.501, 0.499])), (1000, array([1., 0.]))]], 'obj_sequence': [array([0.00141421, 0.00141421, 0.70710678])]}\n",
      "{'iteration': 256, 'empi_dists_seq': [[(1000, array([0.502, 0.498])), (1000, array([0.502, 0.498])), (1000, array([1., 0.]))]], 'obj_sequence': [array([0.00282843, 0.00282843, 0.70710678])]}\n",
      "{'iteration': 257, 'empi_dists_seq': [[(1000, array([0.481, 0.519])), (1000, array([0.481, 0.519])), (1000, array([1., 0.]))]], 'obj_sequence': [array([-0.02687006, -0.02687006,  0.70710678])]}\n",
      "{'iteration': 258, 'empi_dists_seq': [[(1000, array([0.526, 0.474])), (1000, array([0.526, 0.474])), (1000, array([1., 0.]))]], 'obj_sequence': [array([0.03676955, 0.03676955, 0.70710678])]}\n",
      "{'iteration': 259, 'empi_dists_seq': [[(1000, array([0.504, 0.496])), (1000, array([0.504, 0.496])), (1000, array([1., 0.]))]], 'obj_sequence': [array([0.00565685, 0.00565685, 0.70710678])]}\n",
      "{'iteration': 260, 'empi_dists_seq': [[(1000, array([0.486, 0.514])), (1000, array([0.486, 0.514])), (1000, array([1., 0.]))]], 'obj_sequence': [array([-0.01979899, -0.01979899,  0.70710678])]}\n",
      "{'iteration': 261, 'empi_dists_seq': [[(1000, array([0.506, 0.494])), (1000, array([0.506, 0.494])), (1000, array([1., 0.]))]], 'obj_sequence': [array([0.00848528, 0.00848528, 0.70710678])]}\n",
      "{'iteration': 262, 'empi_dists_seq': [[(1000, array([0.502, 0.498])), (1000, array([0.502, 0.498])), (1000, array([1., 0.]))]], 'obj_sequence': [array([0.00282843, 0.00282843, 0.70710678])]}\n",
      "{'iteration': 263, 'empi_dists_seq': [[(1000, array([0.497, 0.503])), (1000, array([0.497, 0.503])), (1000, array([1., 0.]))]], 'obj_sequence': [array([-0.00424264, -0.00424264,  0.70710678])]}\n",
      "{'iteration': 264, 'empi_dists_seq': [[(1000, array([0.495, 0.505])), (1000, array([0.495, 0.505])), (1000, array([1., 0.]))]], 'obj_sequence': [array([-0.00707107, -0.00707107,  0.70710678])]}\n",
      "{'iteration': 265, 'empi_dists_seq': [[(1000, array([0.479, 0.521])), (1000, array([0.479, 0.521])), (1000, array([1., 0.]))]], 'obj_sequence': [array([-0.02969848, -0.02969848,  0.70710678])]}\n",
      "{'iteration': 266, 'empi_dists_seq': [[(1000, array([0.483, 0.517])), (1000, array([0.483, 0.517])), (1000, array([1., 0.]))]], 'obj_sequence': [array([-0.02404163, -0.02404163,  0.70710678])]}\n",
      "{'iteration': 267, 'empi_dists_seq': [[(1000, array([0.497, 0.503])), (1000, array([0.497, 0.503])), (1000, array([1., 0.]))]], 'obj_sequence': [array([-0.00424264, -0.00424264,  0.70710678])]}\n",
      "{'iteration': 268, 'empi_dists_seq': [[(1000, array([0.486, 0.514])), (1000, array([0.486, 0.514])), (1000, array([1., 0.]))]], 'obj_sequence': [array([-0.01979899, -0.01979899,  0.70710678])]}\n",
      "{'iteration': 269, 'empi_dists_seq': [[(1000, array([0.508, 0.492])), (1000, array([0.508, 0.492])), (1000, array([1., 0.]))]], 'obj_sequence': [array([0.01131371, 0.01131371, 0.70710678])]}\n"
     ]
    },
    {
     "name": "stdout",
     "output_type": "stream",
     "text": [
      "{'iteration': 270, 'empi_dists_seq': [[(1000, array([0.495, 0.505])), (1000, array([0.495, 0.505])), (1000, array([1., 0.]))]], 'obj_sequence': [array([-0.00707107, -0.00707107,  0.70710678])]}\n",
      "{'iteration': 271, 'empi_dists_seq': [[(1000, array([0.516, 0.484])), (1000, array([0.516, 0.484])), (1000, array([1., 0.]))]], 'obj_sequence': [array([0.02262742, 0.02262742, 0.70710678])]}\n",
      "{'iteration': 272, 'empi_dists_seq': [[(1000, array([0.473, 0.527])), (1000, array([0.473, 0.527])), (1000, array([1., 0.]))]], 'obj_sequence': [array([-0.03818377, -0.03818377,  0.70710678])]}\n",
      "{'iteration': 273, 'empi_dists_seq': [[(1000, array([0.511, 0.489])), (1000, array([0.511, 0.489])), (1000, array([1., 0.]))]], 'obj_sequence': [array([0.01555635, 0.01555635, 0.70710678])]}\n",
      "{'iteration': 274, 'empi_dists_seq': [[(1000, array([0.499, 0.501])), (1000, array([0.499, 0.501])), (1000, array([1., 0.]))]], 'obj_sequence': [array([-0.00141421, -0.00141421,  0.70710678])]}\n",
      "{'iteration': 275, 'empi_dists_seq': [[(1000, array([0.486, 0.514])), (1000, array([0.486, 0.514])), (1000, array([1., 0.]))]], 'obj_sequence': [array([-0.01979899, -0.01979899,  0.70710678])]}\n",
      "{'iteration': 276, 'empi_dists_seq': [[(1000, array([0.513, 0.487])), (1000, array([0.513, 0.487])), (1000, array([1., 0.]))]], 'obj_sequence': [array([0.01838478, 0.01838478, 0.70710678])]}\n",
      "{'iteration': 277, 'empi_dists_seq': [[(1000, array([0.482, 0.518])), (1000, array([0.482, 0.518])), (1000, array([1., 0.]))]], 'obj_sequence': [array([-0.02545584, -0.02545584,  0.70710678])]}\n",
      "{'iteration': 278, 'empi_dists_seq': [[(1000, array([0.485, 0.515])), (1000, array([0.485, 0.515])), (1000, array([1., 0.]))]], 'obj_sequence': [array([-0.0212132 , -0.0212132 ,  0.70710678])]}\n",
      "{'iteration': 279, 'empi_dists_seq': [[(1000, array([0.47, 0.53])), (1000, array([0.47, 0.53])), (1000, array([1., 0.]))]], 'obj_sequence': [array([-0.04242641, -0.04242641,  0.70710678])]}\n",
      "{'iteration': 280, 'empi_dists_seq': [[(1000, array([0.483, 0.517])), (1000, array([0.483, 0.517])), (1000, array([1., 0.]))]], 'obj_sequence': [array([-0.02404163, -0.02404163,  0.70710678])]}\n",
      "{'iteration': 281, 'empi_dists_seq': [[(1000, array([0.495, 0.505])), (1000, array([0.495, 0.505])), (1000, array([1., 0.]))]], 'obj_sequence': [array([-0.00707107, -0.00707107,  0.70710678])]}\n",
      "{'iteration': 282, 'empi_dists_seq': [[(1000, array([0.5, 0.5])), (1000, array([0.5, 0.5])), (1000, array([1., 0.]))]], 'obj_sequence': [array([0.        , 0.        , 0.70710678])]}\n",
      "{'iteration': 283, 'empi_dists_seq': [[(1000, array([0.501, 0.499])), (1000, array([0.501, 0.499])), (1000, array([1., 0.]))]], 'obj_sequence': [array([0.00141421, 0.00141421, 0.70710678])]}\n",
      "{'iteration': 284, 'empi_dists_seq': [[(1000, array([0.498, 0.502])), (1000, array([0.498, 0.502])), (1000, array([1., 0.]))]], 'obj_sequence': [array([-0.00282843, -0.00282843,  0.70710678])]}\n",
      "{'iteration': 285, 'empi_dists_seq': [[(1000, array([0.51, 0.49])), (1000, array([0.51, 0.49])), (1000, array([1., 0.]))]], 'obj_sequence': [array([0.01414214, 0.01414214, 0.70710678])]}\n",
      "{'iteration': 286, 'empi_dists_seq': [[(1000, array([0.523, 0.477])), (1000, array([0.523, 0.477])), (1000, array([1., 0.]))]], 'obj_sequence': [array([0.03252691, 0.03252691, 0.70710678])]}\n",
      "{'iteration': 287, 'empi_dists_seq': [[(1000, array([0.473, 0.527])), (1000, array([0.473, 0.527])), (1000, array([1., 0.]))]], 'obj_sequence': [array([-0.03818377, -0.03818377,  0.70710678])]}\n",
      "{'iteration': 288, 'empi_dists_seq': [[(1000, array([0.486, 0.514])), (1000, array([0.486, 0.514])), (1000, array([1., 0.]))]], 'obj_sequence': [array([-0.01979899, -0.01979899,  0.70710678])]}\n",
      "{'iteration': 289, 'empi_dists_seq': [[(1000, array([0.5, 0.5])), (1000, array([0.5, 0.5])), (1000, array([1., 0.]))]], 'obj_sequence': [array([0.        , 0.        , 0.70710678])]}\n",
      "{'iteration': 290, 'empi_dists_seq': [[(1000, array([0.531, 0.469])), (1000, array([0.531, 0.469])), (1000, array([1., 0.]))]], 'obj_sequence': [array([0.04384062, 0.04384062, 0.70710678])]}\n",
      "{'iteration': 291, 'empi_dists_seq': [[(1000, array([0.512, 0.488])), (1000, array([0.512, 0.488])), (1000, array([1., 0.]))]], 'obj_sequence': [array([0.01697056, 0.01697056, 0.70710678])]}\n",
      "{'iteration': 292, 'empi_dists_seq': [[(1000, array([0.504, 0.496])), (1000, array([0.504, 0.496])), (1000, array([1., 0.]))]], 'obj_sequence': [array([0.00565685, 0.00565685, 0.70710678])]}\n",
      "{'iteration': 293, 'empi_dists_seq': [[(1000, array([0.511, 0.489])), (1000, array([0.511, 0.489])), (1000, array([1., 0.]))]], 'obj_sequence': [array([0.01555635, 0.01555635, 0.70710678])]}\n",
      "{'iteration': 294, 'empi_dists_seq': [[(1000, array([0.499, 0.501])), (1000, array([0.499, 0.501])), (1000, array([1., 0.]))]], 'obj_sequence': [array([-0.00141421, -0.00141421,  0.70710678])]}\n",
      "{'iteration': 295, 'empi_dists_seq': [[(1000, array([0.496, 0.504])), (1000, array([0.496, 0.504])), (1000, array([1., 0.]))]], 'obj_sequence': [array([-0.00565685, -0.00565685,  0.70710678])]}\n",
      "{'iteration': 296, 'empi_dists_seq': [[(1000, array([0.51, 0.49])), (1000, array([0.51, 0.49])), (1000, array([1., 0.]))]], 'obj_sequence': [array([0.01414214, 0.01414214, 0.70710678])]}\n",
      "{'iteration': 297, 'empi_dists_seq': [[(1000, array([0.497, 0.503])), (1000, array([0.497, 0.503])), (1000, array([1., 0.]))]], 'obj_sequence': [array([-0.00424264, -0.00424264,  0.70710678])]}\n",
      "{'iteration': 298, 'empi_dists_seq': [[(1000, array([0.508, 0.492])), (1000, array([0.508, 0.492])), (1000, array([1., 0.]))]], 'obj_sequence': [array([0.01131371, 0.01131371, 0.70710678])]}\n",
      "{'iteration': 299, 'empi_dists_seq': [[(1000, array([0.521, 0.479])), (1000, array([0.521, 0.479])), (1000, array([1., 0.]))]], 'obj_sequence': [array([0.02969848, 0.02969848, 0.70710678])]}\n",
      "{'iteration': 300, 'empi_dists_seq': [[(1000, array([0.513, 0.487])), (1000, array([0.513, 0.487])), (1000, array([1., 0.]))]], 'obj_sequence': [array([0.01838478, 0.01838478, 0.70710678])]}\n",
      "{'iteration': 301, 'empi_dists_seq': [[(1000, array([0.504, 0.496])), (1000, array([0.504, 0.496])), (1000, array([1., 0.]))]], 'obj_sequence': [array([0.00565685, 0.00565685, 0.70710678])]}\n",
      "{'iteration': 302, 'empi_dists_seq': [[(1000, array([0.51, 0.49])), (1000, array([0.51, 0.49])), (1000, array([1., 0.]))]], 'obj_sequence': [array([0.01414214, 0.01414214, 0.70710678])]}\n",
      "{'iteration': 303, 'empi_dists_seq': [[(1000, array([0.484, 0.516])), (1000, array([0.484, 0.516])), (1000, array([1., 0.]))]], 'obj_sequence': [array([-0.02262742, -0.02262742,  0.70710678])]}\n",
      "{'iteration': 304, 'empi_dists_seq': [[(1000, array([0.511, 0.489])), (1000, array([0.511, 0.489])), (1000, array([1., 0.]))]], 'obj_sequence': [array([0.01555635, 0.01555635, 0.70710678])]}\n",
      "{'iteration': 305, 'empi_dists_seq': [[(1000, array([0.496, 0.504])), (1000, array([0.496, 0.504])), (1000, array([1., 0.]))]], 'obj_sequence': [array([-0.00565685, -0.00565685,  0.70710678])]}\n",
      "{'iteration': 306, 'empi_dists_seq': [[(1000, array([0.524, 0.476])), (1000, array([0.524, 0.476])), (1000, array([1., 0.]))]], 'obj_sequence': [array([0.03394113, 0.03394113, 0.70710678])]}\n",
      "{'iteration': 307, 'empi_dists_seq': [[(1000, array([0.491, 0.509])), (1000, array([0.491, 0.509])), (1000, array([1., 0.]))]], 'obj_sequence': [array([-0.01272792, -0.01272792,  0.70710678])]}\n",
      "{'iteration': 308, 'empi_dists_seq': [[(1000, array([0.511, 0.489])), (1000, array([0.511, 0.489])), (1000, array([1., 0.]))]], 'obj_sequence': [array([0.01555635, 0.01555635, 0.70710678])]}\n",
      "{'iteration': 309, 'empi_dists_seq': [[(1000, array([0.469, 0.531])), (1000, array([0.469, 0.531])), (1000, array([1., 0.]))]], 'obj_sequence': [array([-0.04384062, -0.04384062,  0.70710678])]}\n",
      "{'iteration': 310, 'empi_dists_seq': [[(1000, array([0.504, 0.496])), (1000, array([0.504, 0.496])), (1000, array([1., 0.]))]], 'obj_sequence': [array([0.00565685, 0.00565685, 0.70710678])]}\n",
      "{'iteration': 311, 'empi_dists_seq': [[(1000, array([0.505, 0.495])), (1000, array([0.505, 0.495])), (1000, array([1., 0.]))]], 'obj_sequence': [array([0.00707107, 0.00707107, 0.70710678])]}\n",
      "{'iteration': 312, 'empi_dists_seq': [[(1000, array([0.52, 0.48])), (1000, array([0.52, 0.48])), (1000, array([1., 0.]))]], 'obj_sequence': [array([0.02828427, 0.02828427, 0.70710678])]}\n",
      "{'iteration': 313, 'empi_dists_seq': [[(1000, array([0.484, 0.516])), (1000, array([0.484, 0.516])), (1000, array([1., 0.]))]], 'obj_sequence': [array([-0.02262742, -0.02262742,  0.70710678])]}\n",
      "{'iteration': 314, 'empi_dists_seq': [[(1000, array([0.478, 0.522])), (1000, array([0.478, 0.522])), (1000, array([1., 0.]))]], 'obj_sequence': [array([-0.0311127 , -0.0311127 ,  0.70710678])]}\n",
      "{'iteration': 315, 'empi_dists_seq': [[(1000, array([0.506, 0.494])), (1000, array([0.506, 0.494])), (1000, array([1., 0.]))]], 'obj_sequence': [array([0.00848528, 0.00848528, 0.70710678])]}\n",
      "{'iteration': 316, 'empi_dists_seq': [[(1000, array([0.528, 0.472])), (1000, array([0.528, 0.472])), (1000, array([1., 0.]))]], 'obj_sequence': [array([0.03959798, 0.03959798, 0.70710678])]}\n",
      "{'iteration': 317, 'empi_dists_seq': [[(1000, array([0.518, 0.482])), (1000, array([0.518, 0.482])), (1000, array([1., 0.]))]], 'obj_sequence': [array([0.02545584, 0.02545584, 0.70710678])]}\n",
      "{'iteration': 318, 'empi_dists_seq': [[(1000, array([0.503, 0.497])), (1000, array([0.503, 0.497])), (1000, array([1., 0.]))]], 'obj_sequence': [array([0.00424264, 0.00424264, 0.70710678])]}\n",
      "{'iteration': 319, 'empi_dists_seq': [[(1000, array([0.509, 0.491])), (1000, array([0.509, 0.491])), (1000, array([1., 0.]))]], 'obj_sequence': [array([0.01272792, 0.01272792, 0.70710678])]}\n"
     ]
    },
    {
     "name": "stdout",
     "output_type": "stream",
     "text": [
      "{'iteration': 320, 'empi_dists_seq': [[(1000, array([0.538, 0.462])), (1000, array([0.538, 0.462])), (1000, array([1., 0.]))]], 'obj_sequence': [array([0.05374012, 0.05374012, 0.70710678])]}\n",
      "{'iteration': 321, 'empi_dists_seq': [[(1000, array([0.501, 0.499])), (1000, array([0.501, 0.499])), (1000, array([1., 0.]))]], 'obj_sequence': [array([0.00141421, 0.00141421, 0.70710678])]}\n",
      "{'iteration': 322, 'empi_dists_seq': [[(1000, array([0.537, 0.463])), (1000, array([0.537, 0.463])), (1000, array([1., 0.]))]], 'obj_sequence': [array([0.0523259 , 0.0523259 , 0.70710678])]}\n",
      "{'iteration': 323, 'empi_dists_seq': [[(1000, array([0.491, 0.509])), (1000, array([0.491, 0.509])), (1000, array([1., 0.]))]], 'obj_sequence': [array([-0.01272792, -0.01272792,  0.70710678])]}\n",
      "{'iteration': 324, 'empi_dists_seq': [[(1000, array([0.493, 0.507])), (1000, array([0.493, 0.507])), (1000, array([1., 0.]))]], 'obj_sequence': [array([-0.00989949, -0.00989949,  0.70710678])]}\n",
      "{'iteration': 325, 'empi_dists_seq': [[(1000, array([0.474, 0.526])), (1000, array([0.474, 0.526])), (1000, array([1., 0.]))]], 'obj_sequence': [array([-0.03676955, -0.03676955,  0.70710678])]}\n",
      "{'iteration': 326, 'empi_dists_seq': [[(1000, array([0.512, 0.488])), (1000, array([0.512, 0.488])), (1000, array([1., 0.]))]], 'obj_sequence': [array([0.01697056, 0.01697056, 0.70710678])]}\n",
      "{'iteration': 327, 'empi_dists_seq': [[(1000, array([0.491, 0.509])), (1000, array([0.491, 0.509])), (1000, array([1., 0.]))]], 'obj_sequence': [array([-0.01272792, -0.01272792,  0.70710678])]}\n",
      "{'iteration': 328, 'empi_dists_seq': [[(1000, array([0.482, 0.518])), (1000, array([0.482, 0.518])), (1000, array([1., 0.]))]], 'obj_sequence': [array([-0.02545584, -0.02545584,  0.70710678])]}\n",
      "{'iteration': 329, 'empi_dists_seq': [[(1000, array([0.474, 0.526])), (1000, array([0.474, 0.526])), (1000, array([1., 0.]))]], 'obj_sequence': [array([-0.03676955, -0.03676955,  0.70710678])]}\n",
      "{'iteration': 330, 'empi_dists_seq': [[(1000, array([0.487, 0.513])), (1000, array([0.487, 0.513])), (1000, array([1., 0.]))]], 'obj_sequence': [array([-0.01838478, -0.01838478,  0.70710678])]}\n",
      "{'iteration': 331, 'empi_dists_seq': [[(1000, array([0.5, 0.5])), (1000, array([0.5, 0.5])), (1000, array([1., 0.]))]], 'obj_sequence': [array([0.        , 0.        , 0.70710678])]}\n",
      "{'iteration': 332, 'empi_dists_seq': [[(1000, array([0.505, 0.495])), (1000, array([0.505, 0.495])), (1000, array([1., 0.]))]], 'obj_sequence': [array([0.00707107, 0.00707107, 0.70710678])]}\n",
      "{'iteration': 333, 'empi_dists_seq': [[(1000, array([0.523, 0.477])), (1000, array([0.523, 0.477])), (1000, array([1., 0.]))]], 'obj_sequence': [array([0.03252691, 0.03252691, 0.70710678])]}\n",
      "{'iteration': 334, 'empi_dists_seq': [[(1000, array([0.499, 0.501])), (1000, array([0.499, 0.501])), (1000, array([1., 0.]))]], 'obj_sequence': [array([-0.00141421, -0.00141421,  0.70710678])]}\n",
      "{'iteration': 335, 'empi_dists_seq': [[(1000, array([0.504, 0.496])), (1000, array([0.504, 0.496])), (1000, array([1., 0.]))]], 'obj_sequence': [array([0.00565685, 0.00565685, 0.70710678])]}\n",
      "{'iteration': 336, 'empi_dists_seq': [[(1000, array([0.486, 0.514])), (1000, array([0.486, 0.514])), (1000, array([1., 0.]))]], 'obj_sequence': [array([-0.01979899, -0.01979899,  0.70710678])]}\n",
      "{'iteration': 337, 'empi_dists_seq': [[(1000, array([0.486, 0.514])), (1000, array([0.486, 0.514])), (1000, array([1., 0.]))]], 'obj_sequence': [array([-0.01979899, -0.01979899,  0.70710678])]}\n",
      "{'iteration': 338, 'empi_dists_seq': [[(1000, array([0.51, 0.49])), (1000, array([0.51, 0.49])), (1000, array([1., 0.]))]], 'obj_sequence': [array([0.01414214, 0.01414214, 0.70710678])]}\n",
      "{'iteration': 339, 'empi_dists_seq': [[(1000, array([0.526, 0.474])), (1000, array([0.526, 0.474])), (1000, array([1., 0.]))]], 'obj_sequence': [array([0.03676955, 0.03676955, 0.70710678])]}\n",
      "{'iteration': 340, 'empi_dists_seq': [[(1000, array([0.51, 0.49])), (1000, array([0.51, 0.49])), (1000, array([1., 0.]))]], 'obj_sequence': [array([0.01414214, 0.01414214, 0.70710678])]}\n",
      "{'iteration': 341, 'empi_dists_seq': [[(1000, array([0.497, 0.503])), (1000, array([0.497, 0.503])), (1000, array([1., 0.]))]], 'obj_sequence': [array([-0.00424264, -0.00424264,  0.70710678])]}\n",
      "{'iteration': 342, 'empi_dists_seq': [[(1000, array([0.505, 0.495])), (1000, array([0.505, 0.495])), (1000, array([1., 0.]))]], 'obj_sequence': [array([0.00707107, 0.00707107, 0.70710678])]}\n",
      "{'iteration': 343, 'empi_dists_seq': [[(1000, array([0.504, 0.496])), (1000, array([0.504, 0.496])), (1000, array([1., 0.]))]], 'obj_sequence': [array([0.00565685, 0.00565685, 0.70710678])]}\n",
      "{'iteration': 344, 'empi_dists_seq': [[(1000, array([0.528, 0.472])), (1000, array([0.528, 0.472])), (1000, array([1., 0.]))]], 'obj_sequence': [array([0.03959798, 0.03959798, 0.70710678])]}\n",
      "{'iteration': 345, 'empi_dists_seq': [[(1000, array([0.537, 0.463])), (1000, array([0.537, 0.463])), (1000, array([1., 0.]))]], 'obj_sequence': [array([0.0523259 , 0.0523259 , 0.70710678])]}\n",
      "{'iteration': 346, 'empi_dists_seq': [[(1000, array([0.494, 0.506])), (1000, array([0.494, 0.506])), (1000, array([1., 0.]))]], 'obj_sequence': [array([-0.00848528, -0.00848528,  0.70710678])]}\n",
      "{'iteration': 347, 'empi_dists_seq': [[(1000, array([0.483, 0.517])), (1000, array([0.483, 0.517])), (1000, array([1., 0.]))]], 'obj_sequence': [array([-0.02404163, -0.02404163,  0.70710678])]}\n",
      "{'iteration': 348, 'empi_dists_seq': [[(1000, array([0.47, 0.53])), (1000, array([0.47, 0.53])), (1000, array([1., 0.]))]], 'obj_sequence': [array([-0.04242641, -0.04242641,  0.70710678])]}\n",
      "{'iteration': 349, 'empi_dists_seq': [[(1000, array([0.522, 0.478])), (1000, array([0.522, 0.478])), (1000, array([1., 0.]))]], 'obj_sequence': [array([0.0311127 , 0.0311127 , 0.70710678])]}\n",
      "{'iteration': 350, 'empi_dists_seq': [[(1000, array([0.5, 0.5])), (1000, array([0.5, 0.5])), (1000, array([1., 0.]))]], 'obj_sequence': [array([0.        , 0.        , 0.70710678])]}\n",
      "{'iteration': 351, 'empi_dists_seq': [[(1000, array([0.508, 0.492])), (1000, array([0.508, 0.492])), (1000, array([1., 0.]))]], 'obj_sequence': [array([0.01131371, 0.01131371, 0.70710678])]}\n",
      "{'iteration': 352, 'empi_dists_seq': [[(1000, array([0.496, 0.504])), (1000, array([0.496, 0.504])), (1000, array([1., 0.]))]], 'obj_sequence': [array([-0.00565685, -0.00565685,  0.70710678])]}\n",
      "{'iteration': 353, 'empi_dists_seq': [[(1000, array([0.496, 0.504])), (1000, array([0.496, 0.504])), (1000, array([1., 0.]))]], 'obj_sequence': [array([-0.00565685, -0.00565685,  0.70710678])]}\n",
      "{'iteration': 354, 'empi_dists_seq': [[(1000, array([0.484, 0.516])), (1000, array([0.484, 0.516])), (1000, array([1., 0.]))]], 'obj_sequence': [array([-0.02262742, -0.02262742,  0.70710678])]}\n",
      "{'iteration': 355, 'empi_dists_seq': [[(1000, array([0.467, 0.533])), (1000, array([0.467, 0.533])), (1000, array([1., 0.]))]], 'obj_sequence': [array([-0.04666905, -0.04666905,  0.70710678])]}\n",
      "{'iteration': 356, 'empi_dists_seq': [[(1000, array([0.507, 0.493])), (1000, array([0.507, 0.493])), (1000, array([1., 0.]))]], 'obj_sequence': [array([0.00989949, 0.00989949, 0.70710678])]}\n",
      "{'iteration': 357, 'empi_dists_seq': [[(1000, array([0.537, 0.463])), (1000, array([0.537, 0.463])), (1000, array([1., 0.]))]], 'obj_sequence': [array([0.0523259 , 0.0523259 , 0.70710678])]}\n",
      "{'iteration': 358, 'empi_dists_seq': [[(1000, array([0.48, 0.52])), (1000, array([0.48, 0.52])), (1000, array([1., 0.]))]], 'obj_sequence': [array([-0.02828427, -0.02828427,  0.70710678])]}\n",
      "{'iteration': 359, 'empi_dists_seq': [[(1000, array([0.492, 0.508])), (1000, array([0.492, 0.508])), (1000, array([1., 0.]))]], 'obj_sequence': [array([-0.01131371, -0.01131371,  0.70710678])]}\n",
      "{'iteration': 360, 'empi_dists_seq': [[(1000, array([0.498, 0.502])), (1000, array([0.498, 0.502])), (1000, array([1., 0.]))]], 'obj_sequence': [array([-0.00282843, -0.00282843,  0.70710678])]}\n",
      "{'iteration': 361, 'empi_dists_seq': [[(1000, array([0.515, 0.485])), (1000, array([0.515, 0.485])), (1000, array([1., 0.]))]], 'obj_sequence': [array([0.0212132 , 0.0212132 , 0.70710678])]}\n",
      "{'iteration': 362, 'empi_dists_seq': [[(1000, array([0.487, 0.513])), (1000, array([0.487, 0.513])), (1000, array([1., 0.]))]], 'obj_sequence': [array([-0.01838478, -0.01838478,  0.70710678])]}\n",
      "{'iteration': 363, 'empi_dists_seq': [[(1000, array([0.49, 0.51])), (1000, array([0.49, 0.51])), (1000, array([1., 0.]))]], 'obj_sequence': [array([-0.01414214, -0.01414214,  0.70710678])]}\n",
      "{'iteration': 364, 'empi_dists_seq': [[(1000, array([0.489, 0.511])), (1000, array([0.489, 0.511])), (1000, array([1., 0.]))]], 'obj_sequence': [array([-0.01555635, -0.01555635,  0.70710678])]}\n",
      "{'iteration': 365, 'empi_dists_seq': [[(1000, array([0.492, 0.508])), (1000, array([0.492, 0.508])), (1000, array([1., 0.]))]], 'obj_sequence': [array([-0.01131371, -0.01131371,  0.70710678])]}\n",
      "{'iteration': 366, 'empi_dists_seq': [[(1000, array([0.504, 0.496])), (1000, array([0.504, 0.496])), (1000, array([1., 0.]))]], 'obj_sequence': [array([0.00565685, 0.00565685, 0.70710678])]}\n",
      "{'iteration': 367, 'empi_dists_seq': [[(1000, array([0.506, 0.494])), (1000, array([0.506, 0.494])), (1000, array([1., 0.]))]], 'obj_sequence': [array([0.00848528, 0.00848528, 0.70710678])]}\n",
      "{'iteration': 368, 'empi_dists_seq': [[(1000, array([0.489, 0.511])), (1000, array([0.489, 0.511])), (1000, array([1., 0.]))]], 'obj_sequence': [array([-0.01555635, -0.01555635,  0.70710678])]}\n",
      "{'iteration': 369, 'empi_dists_seq': [[(1000, array([0.515, 0.485])), (1000, array([0.515, 0.485])), (1000, array([1., 0.]))]], 'obj_sequence': [array([0.0212132 , 0.0212132 , 0.70710678])]}\n",
      "{'iteration': 370, 'empi_dists_seq': [[(1000, array([0.5, 0.5])), (1000, array([0.5, 0.5])), (1000, array([1., 0.]))]], 'obj_sequence': [array([0.        , 0.        , 0.70710678])]}\n",
      "{'iteration': 371, 'empi_dists_seq': [[(1000, array([0.468, 0.532])), (1000, array([0.468, 0.532])), (1000, array([1., 0.]))]], 'obj_sequence': [array([-0.04525483, -0.04525483,  0.70710678])]}\n",
      "{'iteration': 372, 'empi_dists_seq': [[(1000, array([0.514, 0.486])), (1000, array([0.514, 0.486])), (1000, array([1., 0.]))]], 'obj_sequence': [array([0.01979899, 0.01979899, 0.70710678])]}\n",
      "{'iteration': 373, 'empi_dists_seq': [[(1000, array([0.527, 0.473])), (1000, array([0.527, 0.473])), (1000, array([1., 0.]))]], 'obj_sequence': [array([0.03818377, 0.03818377, 0.70710678])]}\n",
      "{'iteration': 374, 'empi_dists_seq': [[(1000, array([0.499, 0.501])), (1000, array([0.499, 0.501])), (1000, array([1., 0.]))]], 'obj_sequence': [array([-0.00141421, -0.00141421,  0.70710678])]}\n"
     ]
    },
    {
     "name": "stdout",
     "output_type": "stream",
     "text": [
      "{'iteration': 375, 'empi_dists_seq': [[(1000, array([0.489, 0.511])), (1000, array([0.489, 0.511])), (1000, array([1., 0.]))]], 'obj_sequence': [array([-0.01555635, -0.01555635,  0.70710678])]}\n",
      "{'iteration': 376, 'empi_dists_seq': [[(1000, array([0.495, 0.505])), (1000, array([0.495, 0.505])), (1000, array([1., 0.]))]], 'obj_sequence': [array([-0.00707107, -0.00707107,  0.70710678])]}\n",
      "{'iteration': 377, 'empi_dists_seq': [[(1000, array([0.5, 0.5])), (1000, array([0.5, 0.5])), (1000, array([1., 0.]))]], 'obj_sequence': [array([0.        , 0.        , 0.70710678])]}\n",
      "{'iteration': 378, 'empi_dists_seq': [[(1000, array([0.485, 0.515])), (1000, array([0.485, 0.515])), (1000, array([1., 0.]))]], 'obj_sequence': [array([-0.0212132 , -0.0212132 ,  0.70710678])]}\n",
      "{'iteration': 379, 'empi_dists_seq': [[(1000, array([0.518, 0.482])), (1000, array([0.518, 0.482])), (1000, array([1., 0.]))]], 'obj_sequence': [array([0.02545584, 0.02545584, 0.70710678])]}\n",
      "{'iteration': 380, 'empi_dists_seq': [[(1000, array([0.48, 0.52])), (1000, array([0.48, 0.52])), (1000, array([1., 0.]))]], 'obj_sequence': [array([-0.02828427, -0.02828427,  0.70710678])]}\n",
      "{'iteration': 381, 'empi_dists_seq': [[(1000, array([0.492, 0.508])), (1000, array([0.492, 0.508])), (1000, array([1., 0.]))]], 'obj_sequence': [array([-0.01131371, -0.01131371,  0.70710678])]}\n",
      "{'iteration': 382, 'empi_dists_seq': [[(1000, array([0.463, 0.537])), (1000, array([0.463, 0.537])), (1000, array([1., 0.]))]], 'obj_sequence': [array([-0.0523259 , -0.0523259 ,  0.70710678])]}\n",
      "{'iteration': 383, 'empi_dists_seq': [[(1000, array([0.501, 0.499])), (1000, array([0.501, 0.499])), (1000, array([1., 0.]))]], 'obj_sequence': [array([0.00141421, 0.00141421, 0.70710678])]}\n",
      "{'iteration': 384, 'empi_dists_seq': [[(1000, array([0.494, 0.506])), (1000, array([0.494, 0.506])), (1000, array([1., 0.]))]], 'obj_sequence': [array([-0.00848528, -0.00848528,  0.70710678])]}\n",
      "{'iteration': 385, 'empi_dists_seq': [[(1000, array([0.495, 0.505])), (1000, array([0.495, 0.505])), (1000, array([1., 0.]))]], 'obj_sequence': [array([-0.00707107, -0.00707107,  0.70710678])]}\n",
      "{'iteration': 386, 'empi_dists_seq': [[(1000, array([0.51, 0.49])), (1000, array([0.51, 0.49])), (1000, array([1., 0.]))]], 'obj_sequence': [array([0.01414214, 0.01414214, 0.70710678])]}\n",
      "{'iteration': 387, 'empi_dists_seq': [[(1000, array([0.519, 0.481])), (1000, array([0.519, 0.481])), (1000, array([1., 0.]))]], 'obj_sequence': [array([0.02687006, 0.02687006, 0.70710678])]}\n",
      "{'iteration': 388, 'empi_dists_seq': [[(1000, array([0.507, 0.493])), (1000, array([0.507, 0.493])), (1000, array([1., 0.]))]], 'obj_sequence': [array([0.00989949, 0.00989949, 0.70710678])]}\n",
      "{'iteration': 389, 'empi_dists_seq': [[(1000, array([0.481, 0.519])), (1000, array([0.481, 0.519])), (1000, array([1., 0.]))]], 'obj_sequence': [array([-0.02687006, -0.02687006,  0.70710678])]}\n",
      "{'iteration': 390, 'empi_dists_seq': [[(1000, array([0.5, 0.5])), (1000, array([0.5, 0.5])), (1000, array([1., 0.]))]], 'obj_sequence': [array([0.        , 0.        , 0.70710678])]}\n",
      "{'iteration': 391, 'empi_dists_seq': [[(1000, array([0.515, 0.485])), (1000, array([0.515, 0.485])), (1000, array([1., 0.]))]], 'obj_sequence': [array([0.0212132 , 0.0212132 , 0.70710678])]}\n",
      "{'iteration': 392, 'empi_dists_seq': [[(1000, array([0.501, 0.499])), (1000, array([0.501, 0.499])), (1000, array([1., 0.]))]], 'obj_sequence': [array([0.00141421, 0.00141421, 0.70710678])]}\n",
      "{'iteration': 393, 'empi_dists_seq': [[(1000, array([0.515, 0.485])), (1000, array([0.515, 0.485])), (1000, array([1., 0.]))]], 'obj_sequence': [array([0.0212132 , 0.0212132 , 0.70710678])]}\n",
      "{'iteration': 394, 'empi_dists_seq': [[(1000, array([0.505, 0.495])), (1000, array([0.505, 0.495])), (1000, array([1., 0.]))]], 'obj_sequence': [array([0.00707107, 0.00707107, 0.70710678])]}\n",
      "{'iteration': 395, 'empi_dists_seq': [[(1000, array([0.513, 0.487])), (1000, array([0.513, 0.487])), (1000, array([1., 0.]))]], 'obj_sequence': [array([0.01838478, 0.01838478, 0.70710678])]}\n",
      "{'iteration': 396, 'empi_dists_seq': [[(1000, array([0.482, 0.518])), (1000, array([0.482, 0.518])), (1000, array([1., 0.]))]], 'obj_sequence': [array([-0.02545584, -0.02545584,  0.70710678])]}\n",
      "{'iteration': 397, 'empi_dists_seq': [[(1000, array([0.473, 0.527])), (1000, array([0.473, 0.527])), (1000, array([1., 0.]))]], 'obj_sequence': [array([-0.03818377, -0.03818377,  0.70710678])]}\n",
      "{'iteration': 398, 'empi_dists_seq': [[(1000, array([0.497, 0.503])), (1000, array([0.497, 0.503])), (1000, array([1., 0.]))]], 'obj_sequence': [array([-0.00424264, -0.00424264,  0.70710678])]}\n",
      "{'iteration': 399, 'empi_dists_seq': [[(1000, array([0.485, 0.515])), (1000, array([0.485, 0.515])), (1000, array([1., 0.]))]], 'obj_sequence': [array([-0.0212132 , -0.0212132 ,  0.70710678])]}\n",
      "{'iteration': 400, 'empi_dists_seq': [[(1000, array([0.501, 0.499])), (1000, array([0.501, 0.499])), (1000, array([1., 0.]))]], 'obj_sequence': [array([0.00141421, 0.00141421, 0.70710678])]}\n",
      "{'iteration': 401, 'empi_dists_seq': [[(1000, array([0.506, 0.494])), (1000, array([0.506, 0.494])), (1000, array([1., 0.]))]], 'obj_sequence': [array([0.00848528, 0.00848528, 0.70710678])]}\n",
      "{'iteration': 402, 'empi_dists_seq': [[(1000, array([0.507, 0.493])), (1000, array([0.507, 0.493])), (1000, array([1., 0.]))]], 'obj_sequence': [array([0.00989949, 0.00989949, 0.70710678])]}\n",
      "{'iteration': 403, 'empi_dists_seq': [[(1000, array([0.515, 0.485])), (1000, array([0.515, 0.485])), (1000, array([1., 0.]))]], 'obj_sequence': [array([0.0212132 , 0.0212132 , 0.70710678])]}\n",
      "{'iteration': 404, 'empi_dists_seq': [[(1000, array([0.519, 0.481])), (1000, array([0.519, 0.481])), (1000, array([1., 0.]))]], 'obj_sequence': [array([0.02687006, 0.02687006, 0.70710678])]}\n",
      "{'iteration': 405, 'empi_dists_seq': [[(1000, array([0.492, 0.508])), (1000, array([0.492, 0.508])), (1000, array([1., 0.]))]], 'obj_sequence': [array([-0.01131371, -0.01131371,  0.70710678])]}\n",
      "{'iteration': 406, 'empi_dists_seq': [[(1000, array([0.499, 0.501])), (1000, array([0.499, 0.501])), (1000, array([1., 0.]))]], 'obj_sequence': [array([-0.00141421, -0.00141421,  0.70710678])]}\n",
      "{'iteration': 407, 'empi_dists_seq': [[(1000, array([0.489, 0.511])), (1000, array([0.489, 0.511])), (1000, array([1., 0.]))]], 'obj_sequence': [array([-0.01555635, -0.01555635,  0.70710678])]}\n",
      "{'iteration': 408, 'empi_dists_seq': [[(1000, array([0.48, 0.52])), (1000, array([0.48, 0.52])), (1000, array([1., 0.]))]], 'obj_sequence': [array([-0.02828427, -0.02828427,  0.70710678])]}\n",
      "{'iteration': 409, 'empi_dists_seq': [[(1000, array([0.496, 0.504])), (1000, array([0.496, 0.504])), (1000, array([1., 0.]))]], 'obj_sequence': [array([-0.00565685, -0.00565685,  0.70710678])]}\n",
      "{'iteration': 410, 'empi_dists_seq': [[(1000, array([0.491, 0.509])), (1000, array([0.491, 0.509])), (1000, array([1., 0.]))]], 'obj_sequence': [array([-0.01272792, -0.01272792,  0.70710678])]}\n",
      "{'iteration': 411, 'empi_dists_seq': [[(1000, array([0.53, 0.47])), (1000, array([0.53, 0.47])), (1000, array([1., 0.]))]], 'obj_sequence': [array([0.04242641, 0.04242641, 0.70710678])]}\n",
      "{'iteration': 412, 'empi_dists_seq': [[(1000, array([0.513, 0.487])), (1000, array([0.513, 0.487])), (1000, array([1., 0.]))]], 'obj_sequence': [array([0.01838478, 0.01838478, 0.70710678])]}\n",
      "{'iteration': 413, 'empi_dists_seq': [[(1000, array([0.505, 0.495])), (1000, array([0.505, 0.495])), (1000, array([1., 0.]))]], 'obj_sequence': [array([0.00707107, 0.00707107, 0.70710678])]}\n",
      "{'iteration': 414, 'empi_dists_seq': [[(1000, array([0.506, 0.494])), (1000, array([0.506, 0.494])), (1000, array([1., 0.]))]], 'obj_sequence': [array([0.00848528, 0.00848528, 0.70710678])]}\n",
      "{'iteration': 415, 'empi_dists_seq': [[(1000, array([0.528, 0.472])), (1000, array([0.528, 0.472])), (1000, array([1., 0.]))]], 'obj_sequence': [array([0.03959798, 0.03959798, 0.70710678])]}\n",
      "{'iteration': 416, 'empi_dists_seq': [[(1000, array([0.498, 0.502])), (1000, array([0.498, 0.502])), (1000, array([1., 0.]))]], 'obj_sequence': [array([-0.00282843, -0.00282843,  0.70710678])]}\n",
      "{'iteration': 417, 'empi_dists_seq': [[(1000, array([0.46, 0.54])), (1000, array([0.46, 0.54])), (1000, array([1., 0.]))]], 'obj_sequence': [array([-0.05656854, -0.05656854,  0.70710678])]}\n",
      "{'iteration': 418, 'empi_dists_seq': [[(1000, array([0.505, 0.495])), (1000, array([0.505, 0.495])), (1000, array([1., 0.]))]], 'obj_sequence': [array([0.00707107, 0.00707107, 0.70710678])]}\n",
      "{'iteration': 419, 'empi_dists_seq': [[(1000, array([0.518, 0.482])), (1000, array([0.518, 0.482])), (1000, array([1., 0.]))]], 'obj_sequence': [array([0.02545584, 0.02545584, 0.70710678])]}\n",
      "{'iteration': 420, 'empi_dists_seq': [[(1000, array([0.502, 0.498])), (1000, array([0.502, 0.498])), (1000, array([1., 0.]))]], 'obj_sequence': [array([0.00282843, 0.00282843, 0.70710678])]}\n",
      "{'iteration': 421, 'empi_dists_seq': [[(1000, array([0.51, 0.49])), (1000, array([0.51, 0.49])), (1000, array([1., 0.]))]], 'obj_sequence': [array([0.01414214, 0.01414214, 0.70710678])]}\n",
      "{'iteration': 422, 'empi_dists_seq': [[(1000, array([0.512, 0.488])), (1000, array([0.512, 0.488])), (1000, array([1., 0.]))]], 'obj_sequence': [array([0.01697056, 0.01697056, 0.70710678])]}\n",
      "{'iteration': 423, 'empi_dists_seq': [[(1000, array([0.479, 0.521])), (1000, array([0.479, 0.521])), (1000, array([1., 0.]))]], 'obj_sequence': [array([-0.02969848, -0.02969848,  0.70710678])]}\n",
      "{'iteration': 424, 'empi_dists_seq': [[(1000, array([0.504, 0.496])), (1000, array([0.504, 0.496])), (1000, array([1., 0.]))]], 'obj_sequence': [array([0.00565685, 0.00565685, 0.70710678])]}\n",
      "{'iteration': 425, 'empi_dists_seq': [[(1000, array([0.506, 0.494])), (1000, array([0.506, 0.494])), (1000, array([1., 0.]))]], 'obj_sequence': [array([0.00848528, 0.00848528, 0.70710678])]}\n",
      "{'iteration': 426, 'empi_dists_seq': [[(1000, array([0.509, 0.491])), (1000, array([0.509, 0.491])), (1000, array([1., 0.]))]], 'obj_sequence': [array([0.01272792, 0.01272792, 0.70710678])]}\n",
      "{'iteration': 427, 'empi_dists_seq': [[(1000, array([0.511, 0.489])), (1000, array([0.511, 0.489])), (1000, array([1., 0.]))]], 'obj_sequence': [array([0.01555635, 0.01555635, 0.70710678])]}\n",
      "{'iteration': 428, 'empi_dists_seq': [[(1000, array([0.521, 0.479])), (1000, array([0.521, 0.479])), (1000, array([1., 0.]))]], 'obj_sequence': [array([0.02969848, 0.02969848, 0.70710678])]}\n"
     ]
    },
    {
     "name": "stdout",
     "output_type": "stream",
     "text": [
      "{'iteration': 429, 'empi_dists_seq': [[(1000, array([0.466, 0.534])), (1000, array([0.466, 0.534])), (1000, array([1., 0.]))]], 'obj_sequence': [array([-0.04808326, -0.04808326,  0.70710678])]}\n",
      "{'iteration': 430, 'empi_dists_seq': [[(1000, array([0.506, 0.494])), (1000, array([0.506, 0.494])), (1000, array([1., 0.]))]], 'obj_sequence': [array([0.00848528, 0.00848528, 0.70710678])]}\n",
      "{'iteration': 431, 'empi_dists_seq': [[(1000, array([0.495, 0.505])), (1000, array([0.495, 0.505])), (1000, array([1., 0.]))]], 'obj_sequence': [array([-0.00707107, -0.00707107,  0.70710678])]}\n",
      "{'iteration': 432, 'empi_dists_seq': [[(1000, array([0.492, 0.508])), (1000, array([0.492, 0.508])), (1000, array([1., 0.]))]], 'obj_sequence': [array([-0.01131371, -0.01131371,  0.70710678])]}\n",
      "{'iteration': 433, 'empi_dists_seq': [[(1000, array([0.518, 0.482])), (1000, array([0.518, 0.482])), (1000, array([1., 0.]))]], 'obj_sequence': [array([0.02545584, 0.02545584, 0.70710678])]}\n",
      "{'iteration': 434, 'empi_dists_seq': [[(1000, array([0.509, 0.491])), (1000, array([0.509, 0.491])), (1000, array([1., 0.]))]], 'obj_sequence': [array([0.01272792, 0.01272792, 0.70710678])]}\n",
      "{'iteration': 435, 'empi_dists_seq': [[(1000, array([0.476, 0.524])), (1000, array([0.476, 0.524])), (1000, array([1., 0.]))]], 'obj_sequence': [array([-0.03394113, -0.03394113,  0.70710678])]}\n",
      "{'iteration': 436, 'empi_dists_seq': [[(1000, array([0.476, 0.524])), (1000, array([0.476, 0.524])), (1000, array([1., 0.]))]], 'obj_sequence': [array([-0.03394113, -0.03394113,  0.70710678])]}\n",
      "{'iteration': 437, 'empi_dists_seq': [[(1000, array([0.513, 0.487])), (1000, array([0.513, 0.487])), (1000, array([1., 0.]))]], 'obj_sequence': [array([0.01838478, 0.01838478, 0.70710678])]}\n",
      "{'iteration': 438, 'empi_dists_seq': [[(1000, array([0.507, 0.493])), (1000, array([0.507, 0.493])), (1000, array([1., 0.]))]], 'obj_sequence': [array([0.00989949, 0.00989949, 0.70710678])]}\n",
      "{'iteration': 439, 'empi_dists_seq': [[(1000, array([0.472, 0.528])), (1000, array([0.472, 0.528])), (1000, array([1., 0.]))]], 'obj_sequence': [array([-0.03959798, -0.03959798,  0.70710678])]}\n",
      "{'iteration': 440, 'empi_dists_seq': [[(1000, array([0.489, 0.511])), (1000, array([0.489, 0.511])), (1000, array([1., 0.]))]], 'obj_sequence': [array([-0.01555635, -0.01555635,  0.70710678])]}\n",
      "{'iteration': 441, 'empi_dists_seq': [[(1000, array([0.49, 0.51])), (1000, array([0.49, 0.51])), (1000, array([1., 0.]))]], 'obj_sequence': [array([-0.01414214, -0.01414214,  0.70710678])]}\n",
      "{'iteration': 442, 'empi_dists_seq': [[(1000, array([0.492, 0.508])), (1000, array([0.492, 0.508])), (1000, array([1., 0.]))]], 'obj_sequence': [array([-0.01131371, -0.01131371,  0.70710678])]}\n",
      "{'iteration': 443, 'empi_dists_seq': [[(1000, array([0.508, 0.492])), (1000, array([0.508, 0.492])), (1000, array([1., 0.]))]], 'obj_sequence': [array([0.01131371, 0.01131371, 0.70710678])]}\n",
      "{'iteration': 444, 'empi_dists_seq': [[(1000, array([0.482, 0.518])), (1000, array([0.482, 0.518])), (1000, array([1., 0.]))]], 'obj_sequence': [array([-0.02545584, -0.02545584,  0.70710678])]}\n",
      "{'iteration': 445, 'empi_dists_seq': [[(1000, array([0.522, 0.478])), (1000, array([0.522, 0.478])), (1000, array([1., 0.]))]], 'obj_sequence': [array([0.0311127 , 0.0311127 , 0.70710678])]}\n",
      "{'iteration': 446, 'empi_dists_seq': [[(1000, array([0.502, 0.498])), (1000, array([0.502, 0.498])), (1000, array([1., 0.]))]], 'obj_sequence': [array([0.00282843, 0.00282843, 0.70710678])]}\n",
      "{'iteration': 447, 'empi_dists_seq': [[(1000, array([0.492, 0.508])), (1000, array([0.492, 0.508])), (1000, array([1., 0.]))]], 'obj_sequence': [array([-0.01131371, -0.01131371,  0.70710678])]}\n",
      "{'iteration': 448, 'empi_dists_seq': [[(1000, array([0.488, 0.512])), (1000, array([0.488, 0.512])), (1000, array([1., 0.]))]], 'obj_sequence': [array([-0.01697056, -0.01697056,  0.70710678])]}\n",
      "{'iteration': 449, 'empi_dists_seq': [[(1000, array([0.526, 0.474])), (1000, array([0.526, 0.474])), (1000, array([1., 0.]))]], 'obj_sequence': [array([0.03676955, 0.03676955, 0.70710678])]}\n",
      "{'iteration': 450, 'empi_dists_seq': [[(1000, array([0.505, 0.495])), (1000, array([0.505, 0.495])), (1000, array([1., 0.]))]], 'obj_sequence': [array([0.00707107, 0.00707107, 0.70710678])]}\n",
      "{'iteration': 451, 'empi_dists_seq': [[(1000, array([0.524, 0.476])), (1000, array([0.524, 0.476])), (1000, array([1., 0.]))]], 'obj_sequence': [array([0.03394113, 0.03394113, 0.70710678])]}\n",
      "{'iteration': 452, 'empi_dists_seq': [[(1000, array([0.511, 0.489])), (1000, array([0.511, 0.489])), (1000, array([1., 0.]))]], 'obj_sequence': [array([0.01555635, 0.01555635, 0.70710678])]}\n",
      "{'iteration': 453, 'empi_dists_seq': [[(1000, array([0.52, 0.48])), (1000, array([0.52, 0.48])), (1000, array([1., 0.]))]], 'obj_sequence': [array([0.02828427, 0.02828427, 0.70710678])]}\n",
      "{'iteration': 454, 'empi_dists_seq': [[(1000, array([0.483, 0.517])), (1000, array([0.483, 0.517])), (1000, array([1., 0.]))]], 'obj_sequence': [array([-0.02404163, -0.02404163,  0.70710678])]}\n",
      "{'iteration': 455, 'empi_dists_seq': [[(1000, array([0.507, 0.493])), (1000, array([0.507, 0.493])), (1000, array([1., 0.]))]], 'obj_sequence': [array([0.00989949, 0.00989949, 0.70710678])]}\n",
      "{'iteration': 456, 'empi_dists_seq': [[(1000, array([0.508, 0.492])), (1000, array([0.508, 0.492])), (1000, array([1., 0.]))]], 'obj_sequence': [array([0.01131371, 0.01131371, 0.70710678])]}\n",
      "{'iteration': 457, 'empi_dists_seq': [[(1000, array([0.47, 0.53])), (1000, array([0.47, 0.53])), (1000, array([1., 0.]))]], 'obj_sequence': [array([-0.04242641, -0.04242641,  0.70710678])]}\n",
      "{'iteration': 458, 'empi_dists_seq': [[(1000, array([0.497, 0.503])), (1000, array([0.497, 0.503])), (1000, array([1., 0.]))]], 'obj_sequence': [array([-0.00424264, -0.00424264,  0.70710678])]}\n",
      "{'iteration': 459, 'empi_dists_seq': [[(1000, array([0.491, 0.509])), (1000, array([0.491, 0.509])), (1000, array([1., 0.]))]], 'obj_sequence': [array([-0.01272792, -0.01272792,  0.70710678])]}\n",
      "{'iteration': 460, 'empi_dists_seq': [[(1000, array([0.521, 0.479])), (1000, array([0.521, 0.479])), (1000, array([1., 0.]))]], 'obj_sequence': [array([0.02969848, 0.02969848, 0.70710678])]}\n",
      "{'iteration': 461, 'empi_dists_seq': [[(1000, array([0.489, 0.511])), (1000, array([0.489, 0.511])), (1000, array([1., 0.]))]], 'obj_sequence': [array([-0.01555635, -0.01555635,  0.70710678])]}\n",
      "{'iteration': 462, 'empi_dists_seq': [[(1000, array([0.493, 0.507])), (1000, array([0.493, 0.507])), (1000, array([1., 0.]))]], 'obj_sequence': [array([-0.00989949, -0.00989949,  0.70710678])]}\n",
      "{'iteration': 463, 'empi_dists_seq': [[(1000, array([0.471, 0.529])), (1000, array([0.471, 0.529])), (1000, array([1., 0.]))]], 'obj_sequence': [array([-0.04101219, -0.04101219,  0.70710678])]}\n",
      "{'iteration': 464, 'empi_dists_seq': [[(1000, array([0.487, 0.513])), (1000, array([0.487, 0.513])), (1000, array([1., 0.]))]], 'obj_sequence': [array([-0.01838478, -0.01838478,  0.70710678])]}\n",
      "{'iteration': 465, 'empi_dists_seq': [[(1000, array([0.503, 0.497])), (1000, array([0.503, 0.497])), (1000, array([1., 0.]))]], 'obj_sequence': [array([0.00424264, 0.00424264, 0.70710678])]}\n",
      "{'iteration': 466, 'empi_dists_seq': [[(1000, array([0.496, 0.504])), (1000, array([0.496, 0.504])), (1000, array([1., 0.]))]], 'obj_sequence': [array([-0.00565685, -0.00565685,  0.70710678])]}\n",
      "{'iteration': 467, 'empi_dists_seq': [[(1000, array([0.481, 0.519])), (1000, array([0.481, 0.519])), (1000, array([1., 0.]))]], 'obj_sequence': [array([-0.02687006, -0.02687006,  0.70710678])]}\n",
      "{'iteration': 468, 'empi_dists_seq': [[(1000, array([0.497, 0.503])), (1000, array([0.497, 0.503])), (1000, array([1., 0.]))]], 'obj_sequence': [array([-0.00424264, -0.00424264,  0.70710678])]}\n",
      "{'iteration': 469, 'empi_dists_seq': [[(1000, array([0.508, 0.492])), (1000, array([0.508, 0.492])), (1000, array([1., 0.]))]], 'obj_sequence': [array([0.01131371, 0.01131371, 0.70710678])]}\n",
      "{'iteration': 470, 'empi_dists_seq': [[(1000, array([0.535, 0.465])), (1000, array([0.535, 0.465])), (1000, array([1., 0.]))]], 'obj_sequence': [array([0.04949747, 0.04949747, 0.70710678])]}\n",
      "{'iteration': 471, 'empi_dists_seq': [[(1000, array([0.502, 0.498])), (1000, array([0.502, 0.498])), (1000, array([1., 0.]))]], 'obj_sequence': [array([0.00282843, 0.00282843, 0.70710678])]}\n",
      "{'iteration': 472, 'empi_dists_seq': [[(1000, array([0.506, 0.494])), (1000, array([0.506, 0.494])), (1000, array([1., 0.]))]], 'obj_sequence': [array([0.00848528, 0.00848528, 0.70710678])]}\n",
      "{'iteration': 473, 'empi_dists_seq': [[(1000, array([0.48, 0.52])), (1000, array([0.48, 0.52])), (1000, array([1., 0.]))]], 'obj_sequence': [array([-0.02828427, -0.02828427,  0.70710678])]}\n",
      "{'iteration': 474, 'empi_dists_seq': [[(1000, array([0.499, 0.501])), (1000, array([0.499, 0.501])), (1000, array([1., 0.]))]], 'obj_sequence': [array([-0.00141421, -0.00141421,  0.70710678])]}\n",
      "{'iteration': 475, 'empi_dists_seq': [[(1000, array([0.501, 0.499])), (1000, array([0.501, 0.499])), (1000, array([1., 0.]))]], 'obj_sequence': [array([0.00141421, 0.00141421, 0.70710678])]}\n",
      "{'iteration': 476, 'empi_dists_seq': [[(1000, array([0.477, 0.523])), (1000, array([0.477, 0.523])), (1000, array([1., 0.]))]], 'obj_sequence': [array([-0.03252691, -0.03252691,  0.70710678])]}\n",
      "{'iteration': 477, 'empi_dists_seq': [[(1000, array([0.492, 0.508])), (1000, array([0.492, 0.508])), (1000, array([1., 0.]))]], 'obj_sequence': [array([-0.01131371, -0.01131371,  0.70710678])]}\n",
      "{'iteration': 478, 'empi_dists_seq': [[(1000, array([0.524, 0.476])), (1000, array([0.524, 0.476])), (1000, array([1., 0.]))]], 'obj_sequence': [array([0.03394113, 0.03394113, 0.70710678])]}\n",
      "{'iteration': 479, 'empi_dists_seq': [[(1000, array([0.505, 0.495])), (1000, array([0.505, 0.495])), (1000, array([1., 0.]))]], 'obj_sequence': [array([0.00707107, 0.00707107, 0.70710678])]}\n",
      "{'iteration': 480, 'empi_dists_seq': [[(1000, array([0.482, 0.518])), (1000, array([0.482, 0.518])), (1000, array([1., 0.]))]], 'obj_sequence': [array([-0.02545584, -0.02545584,  0.70710678])]}\n",
      "{'iteration': 481, 'empi_dists_seq': [[(1000, array([0.509, 0.491])), (1000, array([0.509, 0.491])), (1000, array([1., 0.]))]], 'obj_sequence': [array([0.01272792, 0.01272792, 0.70710678])]}\n",
      "{'iteration': 482, 'empi_dists_seq': [[(1000, array([0.481, 0.519])), (1000, array([0.481, 0.519])), (1000, array([1., 0.]))]], 'obj_sequence': [array([-0.02687006, -0.02687006,  0.70710678])]}\n",
      "{'iteration': 483, 'empi_dists_seq': [[(1000, array([0.501, 0.499])), (1000, array([0.501, 0.499])), (1000, array([1., 0.]))]], 'obj_sequence': [array([0.00141421, 0.00141421, 0.70710678])]}\n",
      "{'iteration': 484, 'empi_dists_seq': [[(1000, array([0.495, 0.505])), (1000, array([0.495, 0.505])), (1000, array([1., 0.]))]], 'obj_sequence': [array([-0.00707107, -0.00707107,  0.70710678])]}\n",
      "{'iteration': 485, 'empi_dists_seq': [[(1000, array([0.503, 0.497])), (1000, array([0.503, 0.497])), (1000, array([1., 0.]))]], 'obj_sequence': [array([0.00424264, 0.00424264, 0.70710678])]}\n"
     ]
    },
    {
     "name": "stdout",
     "output_type": "stream",
     "text": [
      "{'iteration': 486, 'empi_dists_seq': [[(1000, array([0.522, 0.478])), (1000, array([0.522, 0.478])), (1000, array([1., 0.]))]], 'obj_sequence': [array([0.0311127 , 0.0311127 , 0.70710678])]}\n",
      "{'iteration': 487, 'empi_dists_seq': [[(1000, array([0.495, 0.505])), (1000, array([0.495, 0.505])), (1000, array([1., 0.]))]], 'obj_sequence': [array([-0.00707107, -0.00707107,  0.70710678])]}\n",
      "{'iteration': 488, 'empi_dists_seq': [[(1000, array([0.507, 0.493])), (1000, array([0.507, 0.493])), (1000, array([1., 0.]))]], 'obj_sequence': [array([0.00989949, 0.00989949, 0.70710678])]}\n",
      "{'iteration': 489, 'empi_dists_seq': [[(1000, array([0.504, 0.496])), (1000, array([0.504, 0.496])), (1000, array([1., 0.]))]], 'obj_sequence': [array([0.00565685, 0.00565685, 0.70710678])]}\n",
      "{'iteration': 490, 'empi_dists_seq': [[(1000, array([0.537, 0.463])), (1000, array([0.537, 0.463])), (1000, array([1., 0.]))]], 'obj_sequence': [array([0.0523259 , 0.0523259 , 0.70710678])]}\n",
      "{'iteration': 491, 'empi_dists_seq': [[(1000, array([0.524, 0.476])), (1000, array([0.524, 0.476])), (1000, array([1., 0.]))]], 'obj_sequence': [array([0.03394113, 0.03394113, 0.70710678])]}\n",
      "{'iteration': 492, 'empi_dists_seq': [[(1000, array([0.515, 0.485])), (1000, array([0.515, 0.485])), (1000, array([1., 0.]))]], 'obj_sequence': [array([0.0212132 , 0.0212132 , 0.70710678])]}\n",
      "{'iteration': 493, 'empi_dists_seq': [[(1000, array([0.532, 0.468])), (1000, array([0.532, 0.468])), (1000, array([1., 0.]))]], 'obj_sequence': [array([0.04525483, 0.04525483, 0.70710678])]}\n",
      "{'iteration': 494, 'empi_dists_seq': [[(1000, array([0.465, 0.535])), (1000, array([0.465, 0.535])), (1000, array([1., 0.]))]], 'obj_sequence': [array([-0.04949747, -0.04949747,  0.70710678])]}\n",
      "{'iteration': 495, 'empi_dists_seq': [[(1000, array([0.493, 0.507])), (1000, array([0.493, 0.507])), (1000, array([1., 0.]))]], 'obj_sequence': [array([-0.00989949, -0.00989949,  0.70710678])]}\n",
      "{'iteration': 496, 'empi_dists_seq': [[(1000, array([0.493, 0.507])), (1000, array([0.493, 0.507])), (1000, array([1., 0.]))]], 'obj_sequence': [array([-0.00989949, -0.00989949,  0.70710678])]}\n",
      "{'iteration': 497, 'empi_dists_seq': [[(1000, array([0.505, 0.495])), (1000, array([0.505, 0.495])), (1000, array([1., 0.]))]], 'obj_sequence': [array([0.00707107, 0.00707107, 0.70710678])]}\n",
      "{'iteration': 498, 'empi_dists_seq': [[(1000, array([0.497, 0.503])), (1000, array([0.497, 0.503])), (1000, array([1., 0.]))]], 'obj_sequence': [array([-0.00424264, -0.00424264,  0.70710678])]}\n",
      "{'iteration': 499, 'empi_dists_seq': [[(1000, array([0.509, 0.491])), (1000, array([0.509, 0.491])), (1000, array([1., 0.]))]], 'obj_sequence': [array([0.01272792, 0.01272792, 0.70710678])]}\n",
      "{'iteration': 500, 'empi_dists_seq': [[(1000, array([0.5, 0.5])), (1000, array([0.5, 0.5])), (1000, array([1., 0.]))]], 'obj_sequence': [array([0.        , 0.        , 0.70710678])]}\n",
      "{'iteration': 501, 'empi_dists_seq': [[(1000, array([0.494, 0.506])), (1000, array([0.494, 0.506])), (1000, array([1., 0.]))]], 'obj_sequence': [array([-0.00848528, -0.00848528,  0.70710678])]}\n",
      "{'iteration': 502, 'empi_dists_seq': [[(1000, array([0.522, 0.478])), (1000, array([0.522, 0.478])), (1000, array([1., 0.]))]], 'obj_sequence': [array([0.0311127 , 0.0311127 , 0.70710678])]}\n",
      "{'iteration': 503, 'empi_dists_seq': [[(1000, array([0.51, 0.49])), (1000, array([0.51, 0.49])), (1000, array([1., 0.]))]], 'obj_sequence': [array([0.01414214, 0.01414214, 0.70710678])]}\n",
      "{'iteration': 504, 'empi_dists_seq': [[(1000, array([0.474, 0.526])), (1000, array([0.474, 0.526])), (1000, array([1., 0.]))]], 'obj_sequence': [array([-0.03676955, -0.03676955,  0.70710678])]}\n",
      "{'iteration': 505, 'empi_dists_seq': [[(1000, array([0.486, 0.514])), (1000, array([0.486, 0.514])), (1000, array([1., 0.]))]], 'obj_sequence': [array([-0.01979899, -0.01979899,  0.70710678])]}\n",
      "{'iteration': 506, 'empi_dists_seq': [[(1000, array([0.477, 0.523])), (1000, array([0.477, 0.523])), (1000, array([1., 0.]))]], 'obj_sequence': [array([-0.03252691, -0.03252691,  0.70710678])]}\n",
      "{'iteration': 507, 'empi_dists_seq': [[(1000, array([0.495, 0.505])), (1000, array([0.495, 0.505])), (1000, array([1., 0.]))]], 'obj_sequence': [array([-0.00707107, -0.00707107,  0.70710678])]}\n",
      "{'iteration': 508, 'empi_dists_seq': [[(1000, array([0.502, 0.498])), (1000, array([0.502, 0.498])), (1000, array([1., 0.]))]], 'obj_sequence': [array([0.00282843, 0.00282843, 0.70710678])]}\n",
      "{'iteration': 509, 'empi_dists_seq': [[(1000, array([0.501, 0.499])), (1000, array([0.501, 0.499])), (1000, array([1., 0.]))]], 'obj_sequence': [array([0.00141421, 0.00141421, 0.70710678])]}\n",
      "{'iteration': 510, 'empi_dists_seq': [[(1000, array([0.475, 0.525])), (1000, array([0.475, 0.525])), (1000, array([1., 0.]))]], 'obj_sequence': [array([-0.03535534, -0.03535534,  0.70710678])]}\n",
      "{'iteration': 511, 'empi_dists_seq': [[(1000, array([0.51, 0.49])), (1000, array([0.51, 0.49])), (1000, array([1., 0.]))]], 'obj_sequence': [array([0.01414214, 0.01414214, 0.70710678])]}\n",
      "{'iteration': 512, 'empi_dists_seq': [[(1000, array([0.488, 0.512])), (1000, array([0.488, 0.512])), (1000, array([1., 0.]))]], 'obj_sequence': [array([-0.01697056, -0.01697056,  0.70710678])]}\n",
      "{'iteration': 513, 'empi_dists_seq': [[(1000, array([0.491, 0.509])), (1000, array([0.491, 0.509])), (1000, array([1., 0.]))]], 'obj_sequence': [array([-0.01272792, -0.01272792,  0.70710678])]}\n",
      "{'iteration': 514, 'empi_dists_seq': [[(1000, array([0.498, 0.502])), (1000, array([0.498, 0.502])), (1000, array([1., 0.]))]], 'obj_sequence': [array([-0.00282843, -0.00282843,  0.70710678])]}\n",
      "{'iteration': 515, 'empi_dists_seq': [[(1000, array([0.485, 0.515])), (1000, array([0.485, 0.515])), (1000, array([1., 0.]))]], 'obj_sequence': [array([-0.0212132 , -0.0212132 ,  0.70710678])]}\n",
      "{'iteration': 516, 'empi_dists_seq': [[(1000, array([0.473, 0.527])), (1000, array([0.473, 0.527])), (1000, array([1., 0.]))]], 'obj_sequence': [array([-0.03818377, -0.03818377,  0.70710678])]}\n",
      "{'iteration': 517, 'empi_dists_seq': [[(1000, array([0.493, 0.507])), (1000, array([0.493, 0.507])), (1000, array([1., 0.]))]], 'obj_sequence': [array([-0.00989949, -0.00989949,  0.70710678])]}\n",
      "{'iteration': 518, 'empi_dists_seq': [[(1000, array([0.51, 0.49])), (1000, array([0.51, 0.49])), (1000, array([1., 0.]))]], 'obj_sequence': [array([0.01414214, 0.01414214, 0.70710678])]}\n",
      "{'iteration': 519, 'empi_dists_seq': [[(1000, array([0.479, 0.521])), (1000, array([0.479, 0.521])), (1000, array([1., 0.]))]], 'obj_sequence': [array([-0.02969848, -0.02969848,  0.70710678])]}\n",
      "{'iteration': 520, 'empi_dists_seq': [[(1000, array([0.511, 0.489])), (1000, array([0.511, 0.489])), (1000, array([1., 0.]))]], 'obj_sequence': [array([0.01555635, 0.01555635, 0.70710678])]}\n",
      "{'iteration': 521, 'empi_dists_seq': [[(1000, array([0.497, 0.503])), (1000, array([0.497, 0.503])), (1000, array([1., 0.]))]], 'obj_sequence': [array([-0.00424264, -0.00424264,  0.70710678])]}\n",
      "{'iteration': 522, 'empi_dists_seq': [[(1000, array([0.514, 0.486])), (1000, array([0.514, 0.486])), (1000, array([1., 0.]))]], 'obj_sequence': [array([0.01979899, 0.01979899, 0.70710678])]}\n",
      "{'iteration': 523, 'empi_dists_seq': [[(1000, array([0.518, 0.482])), (1000, array([0.518, 0.482])), (1000, array([1., 0.]))]], 'obj_sequence': [array([0.02545584, 0.02545584, 0.70710678])]}\n",
      "{'iteration': 524, 'empi_dists_seq': [[(1000, array([0.484, 0.516])), (1000, array([0.484, 0.516])), (1000, array([1., 0.]))]], 'obj_sequence': [array([-0.02262742, -0.02262742,  0.70710678])]}\n",
      "{'iteration': 525, 'empi_dists_seq': [[(1000, array([0.486, 0.514])), (1000, array([0.486, 0.514])), (1000, array([1., 0.]))]], 'obj_sequence': [array([-0.01979899, -0.01979899,  0.70710678])]}\n",
      "{'iteration': 526, 'empi_dists_seq': [[(1000, array([0.49, 0.51])), (1000, array([0.49, 0.51])), (1000, array([1., 0.]))]], 'obj_sequence': [array([-0.01414214, -0.01414214,  0.70710678])]}\n",
      "{'iteration': 527, 'empi_dists_seq': [[(1000, array([0.519, 0.481])), (1000, array([0.519, 0.481])), (1000, array([1., 0.]))]], 'obj_sequence': [array([0.02687006, 0.02687006, 0.70710678])]}\n",
      "{'iteration': 528, 'empi_dists_seq': [[(1000, array([0.476, 0.524])), (1000, array([0.476, 0.524])), (1000, array([1., 0.]))]], 'obj_sequence': [array([-0.03394113, -0.03394113,  0.70710678])]}\n",
      "{'iteration': 529, 'empi_dists_seq': [[(1000, array([0.491, 0.509])), (1000, array([0.491, 0.509])), (1000, array([1., 0.]))]], 'obj_sequence': [array([-0.01272792, -0.01272792,  0.70710678])]}\n",
      "{'iteration': 530, 'empi_dists_seq': [[(1000, array([0.495, 0.505])), (1000, array([0.495, 0.505])), (1000, array([1., 0.]))]], 'obj_sequence': [array([-0.00707107, -0.00707107,  0.70710678])]}\n",
      "{'iteration': 531, 'empi_dists_seq': [[(1000, array([0.491, 0.509])), (1000, array([0.491, 0.509])), (1000, array([1., 0.]))]], 'obj_sequence': [array([-0.01272792, -0.01272792,  0.70710678])]}\n",
      "{'iteration': 532, 'empi_dists_seq': [[(1000, array([0.506, 0.494])), (1000, array([0.506, 0.494])), (1000, array([1., 0.]))]], 'obj_sequence': [array([0.00848528, 0.00848528, 0.70710678])]}\n",
      "{'iteration': 533, 'empi_dists_seq': [[(1000, array([0.493, 0.507])), (1000, array([0.493, 0.507])), (1000, array([1., 0.]))]], 'obj_sequence': [array([-0.00989949, -0.00989949,  0.70710678])]}\n",
      "{'iteration': 534, 'empi_dists_seq': [[(1000, array([0.489, 0.511])), (1000, array([0.489, 0.511])), (1000, array([1., 0.]))]], 'obj_sequence': [array([-0.01555635, -0.01555635,  0.70710678])]}\n",
      "{'iteration': 535, 'empi_dists_seq': [[(1000, array([0.513, 0.487])), (1000, array([0.513, 0.487])), (1000, array([1., 0.]))]], 'obj_sequence': [array([0.01838478, 0.01838478, 0.70710678])]}\n",
      "{'iteration': 536, 'empi_dists_seq': [[(1000, array([0.53, 0.47])), (1000, array([0.53, 0.47])), (1000, array([1., 0.]))]], 'obj_sequence': [array([0.04242641, 0.04242641, 0.70710678])]}\n",
      "{'iteration': 537, 'empi_dists_seq': [[(1000, array([0.46, 0.54])), (1000, array([0.46, 0.54])), (1000, array([1., 0.]))]], 'obj_sequence': [array([-0.05656854, -0.05656854,  0.70710678])]}\n",
      "{'iteration': 538, 'empi_dists_seq': [[(1000, array([0.505, 0.495])), (1000, array([0.505, 0.495])), (1000, array([1., 0.]))]], 'obj_sequence': [array([0.00707107, 0.00707107, 0.70710678])]}\n"
     ]
    },
    {
     "name": "stdout",
     "output_type": "stream",
     "text": [
      "{'iteration': 539, 'empi_dists_seq': [[(1000, array([0.492, 0.508])), (1000, array([0.492, 0.508])), (1000, array([1., 0.]))]], 'obj_sequence': [array([-0.01131371, -0.01131371,  0.70710678])]}\n",
      "{'iteration': 540, 'empi_dists_seq': [[(1000, array([0.492, 0.508])), (1000, array([0.492, 0.508])), (1000, array([1., 0.]))]], 'obj_sequence': [array([-0.01131371, -0.01131371,  0.70710678])]}\n",
      "{'iteration': 541, 'empi_dists_seq': [[(1000, array([0.493, 0.507])), (1000, array([0.493, 0.507])), (1000, array([1., 0.]))]], 'obj_sequence': [array([-0.00989949, -0.00989949,  0.70710678])]}\n",
      "{'iteration': 542, 'empi_dists_seq': [[(1000, array([0.521, 0.479])), (1000, array([0.521, 0.479])), (1000, array([1., 0.]))]], 'obj_sequence': [array([0.02969848, 0.02969848, 0.70710678])]}\n",
      "{'iteration': 543, 'empi_dists_seq': [[(1000, array([0.518, 0.482])), (1000, array([0.518, 0.482])), (1000, array([1., 0.]))]], 'obj_sequence': [array([0.02545584, 0.02545584, 0.70710678])]}\n",
      "{'iteration': 544, 'empi_dists_seq': [[(1000, array([0.488, 0.512])), (1000, array([0.488, 0.512])), (1000, array([1., 0.]))]], 'obj_sequence': [array([-0.01697056, -0.01697056,  0.70710678])]}\n",
      "{'iteration': 545, 'empi_dists_seq': [[(1000, array([0.496, 0.504])), (1000, array([0.496, 0.504])), (1000, array([1., 0.]))]], 'obj_sequence': [array([-0.00565685, -0.00565685,  0.70710678])]}\n",
      "{'iteration': 546, 'empi_dists_seq': [[(1000, array([0.5, 0.5])), (1000, array([0.5, 0.5])), (1000, array([1., 0.]))]], 'obj_sequence': [array([0.        , 0.        , 0.70710678])]}\n",
      "{'iteration': 547, 'empi_dists_seq': [[(1000, array([0.5, 0.5])), (1000, array([0.5, 0.5])), (1000, array([1., 0.]))]], 'obj_sequence': [array([0.        , 0.        , 0.70710678])]}\n",
      "{'iteration': 548, 'empi_dists_seq': [[(1000, array([0.495, 0.505])), (1000, array([0.495, 0.505])), (1000, array([1., 0.]))]], 'obj_sequence': [array([-0.00707107, -0.00707107,  0.70710678])]}\n",
      "{'iteration': 549, 'empi_dists_seq': [[(1000, array([0.504, 0.496])), (1000, array([0.504, 0.496])), (1000, array([1., 0.]))]], 'obj_sequence': [array([0.00565685, 0.00565685, 0.70710678])]}\n",
      "{'iteration': 550, 'empi_dists_seq': [[(1000, array([0.497, 0.503])), (1000, array([0.497, 0.503])), (1000, array([1., 0.]))]], 'obj_sequence': [array([-0.00424264, -0.00424264,  0.70710678])]}\n",
      "{'iteration': 551, 'empi_dists_seq': [[(1000, array([0.471, 0.529])), (1000, array([0.471, 0.529])), (1000, array([1., 0.]))]], 'obj_sequence': [array([-0.04101219, -0.04101219,  0.70710678])]}\n",
      "{'iteration': 552, 'empi_dists_seq': [[(1000, array([0.486, 0.514])), (1000, array([0.486, 0.514])), (1000, array([1., 0.]))]], 'obj_sequence': [array([-0.01979899, -0.01979899,  0.70710678])]}\n",
      "{'iteration': 553, 'empi_dists_seq': [[(1000, array([0.491, 0.509])), (1000, array([0.491, 0.509])), (1000, array([1., 0.]))]], 'obj_sequence': [array([-0.01272792, -0.01272792,  0.70710678])]}\n",
      "{'iteration': 554, 'empi_dists_seq': [[(1000, array([0.484, 0.516])), (1000, array([0.484, 0.516])), (1000, array([1., 0.]))]], 'obj_sequence': [array([-0.02262742, -0.02262742,  0.70710678])]}\n",
      "{'iteration': 555, 'empi_dists_seq': [[(1000, array([0.511, 0.489])), (1000, array([0.511, 0.489])), (1000, array([1., 0.]))]], 'obj_sequence': [array([0.01555635, 0.01555635, 0.70710678])]}\n",
      "{'iteration': 556, 'empi_dists_seq': [[(1000, array([0.526, 0.474])), (1000, array([0.526, 0.474])), (1000, array([1., 0.]))]], 'obj_sequence': [array([0.03676955, 0.03676955, 0.70710678])]}\n",
      "{'iteration': 557, 'empi_dists_seq': [[(1000, array([0.482, 0.518])), (1000, array([0.482, 0.518])), (1000, array([1., 0.]))]], 'obj_sequence': [array([-0.02545584, -0.02545584,  0.70710678])]}\n",
      "{'iteration': 558, 'empi_dists_seq': [[(1000, array([0.519, 0.481])), (1000, array([0.519, 0.481])), (1000, array([1., 0.]))]], 'obj_sequence': [array([0.02687006, 0.02687006, 0.70710678])]}\n",
      "{'iteration': 559, 'empi_dists_seq': [[(1000, array([0.482, 0.518])), (1000, array([0.482, 0.518])), (1000, array([1., 0.]))]], 'obj_sequence': [array([-0.02545584, -0.02545584,  0.70710678])]}\n",
      "{'iteration': 560, 'empi_dists_seq': [[(1000, array([0.506, 0.494])), (1000, array([0.506, 0.494])), (1000, array([1., 0.]))]], 'obj_sequence': [array([0.00848528, 0.00848528, 0.70710678])]}\n",
      "{'iteration': 561, 'empi_dists_seq': [[(1000, array([0.506, 0.494])), (1000, array([0.506, 0.494])), (1000, array([1., 0.]))]], 'obj_sequence': [array([0.00848528, 0.00848528, 0.70710678])]}\n",
      "{'iteration': 562, 'empi_dists_seq': [[(1000, array([0.501, 0.499])), (1000, array([0.501, 0.499])), (1000, array([1., 0.]))]], 'obj_sequence': [array([0.00141421, 0.00141421, 0.70710678])]}\n",
      "{'iteration': 563, 'empi_dists_seq': [[(1000, array([0.475, 0.525])), (1000, array([0.475, 0.525])), (1000, array([1., 0.]))]], 'obj_sequence': [array([-0.03535534, -0.03535534,  0.70710678])]}\n",
      "{'iteration': 564, 'empi_dists_seq': [[(1000, array([0.503, 0.497])), (1000, array([0.503, 0.497])), (1000, array([1., 0.]))]], 'obj_sequence': [array([0.00424264, 0.00424264, 0.70710678])]}\n",
      "{'iteration': 565, 'empi_dists_seq': [[(1000, array([0.493, 0.507])), (1000, array([0.493, 0.507])), (1000, array([1., 0.]))]], 'obj_sequence': [array([-0.00989949, -0.00989949,  0.70710678])]}\n",
      "{'iteration': 566, 'empi_dists_seq': [[(1000, array([0.507, 0.493])), (1000, array([0.507, 0.493])), (1000, array([1., 0.]))]], 'obj_sequence': [array([0.00989949, 0.00989949, 0.70710678])]}\n",
      "{'iteration': 567, 'empi_dists_seq': [[(1000, array([0.516, 0.484])), (1000, array([0.516, 0.484])), (1000, array([1., 0.]))]], 'obj_sequence': [array([0.02262742, 0.02262742, 0.70710678])]}\n",
      "{'iteration': 568, 'empi_dists_seq': [[(1000, array([0.506, 0.494])), (1000, array([0.506, 0.494])), (1000, array([1., 0.]))]], 'obj_sequence': [array([0.00848528, 0.00848528, 0.70710678])]}\n",
      "{'iteration': 569, 'empi_dists_seq': [[(1000, array([0.526, 0.474])), (1000, array([0.526, 0.474])), (1000, array([1., 0.]))]], 'obj_sequence': [array([0.03676955, 0.03676955, 0.70710678])]}\n",
      "{'iteration': 570, 'empi_dists_seq': [[(1000, array([0.495, 0.505])), (1000, array([0.495, 0.505])), (1000, array([1., 0.]))]], 'obj_sequence': [array([-0.00707107, -0.00707107,  0.70710678])]}\n",
      "{'iteration': 571, 'empi_dists_seq': [[(1000, array([0.478, 0.522])), (1000, array([0.478, 0.522])), (1000, array([1., 0.]))]], 'obj_sequence': [array([-0.0311127 , -0.0311127 ,  0.70710678])]}\n",
      "{'iteration': 572, 'empi_dists_seq': [[(1000, array([0.508, 0.492])), (1000, array([0.508, 0.492])), (1000, array([1., 0.]))]], 'obj_sequence': [array([0.01131371, 0.01131371, 0.70710678])]}\n",
      "{'iteration': 573, 'empi_dists_seq': [[(1000, array([0.494, 0.506])), (1000, array([0.494, 0.506])), (1000, array([1., 0.]))]], 'obj_sequence': [array([-0.00848528, -0.00848528,  0.70710678])]}\n",
      "{'iteration': 574, 'empi_dists_seq': [[(1000, array([0.495, 0.505])), (1000, array([0.495, 0.505])), (1000, array([1., 0.]))]], 'obj_sequence': [array([-0.00707107, -0.00707107,  0.70710678])]}\n",
      "{'iteration': 575, 'empi_dists_seq': [[(1000, array([0.487, 0.513])), (1000, array([0.487, 0.513])), (1000, array([1., 0.]))]], 'obj_sequence': [array([-0.01838478, -0.01838478,  0.70710678])]}\n",
      "{'iteration': 576, 'empi_dists_seq': [[(1000, array([0.486, 0.514])), (1000, array([0.486, 0.514])), (1000, array([1., 0.]))]], 'obj_sequence': [array([-0.01979899, -0.01979899,  0.70710678])]}\n",
      "{'iteration': 577, 'empi_dists_seq': [[(1000, array([0.497, 0.503])), (1000, array([0.497, 0.503])), (1000, array([1., 0.]))]], 'obj_sequence': [array([-0.00424264, -0.00424264,  0.70710678])]}\n",
      "{'iteration': 578, 'empi_dists_seq': [[(1000, array([0.486, 0.514])), (1000, array([0.486, 0.514])), (1000, array([1., 0.]))]], 'obj_sequence': [array([-0.01979899, -0.01979899,  0.70710678])]}\n",
      "{'iteration': 579, 'empi_dists_seq': [[(1000, array([0.499, 0.501])), (1000, array([0.499, 0.501])), (1000, array([1., 0.]))]], 'obj_sequence': [array([-0.00141421, -0.00141421,  0.70710678])]}\n",
      "{'iteration': 580, 'empi_dists_seq': [[(1000, array([0.533, 0.467])), (1000, array([0.533, 0.467])), (1000, array([1., 0.]))]], 'obj_sequence': [array([0.04666905, 0.04666905, 0.70710678])]}\n",
      "{'iteration': 581, 'empi_dists_seq': [[(1000, array([0.499, 0.501])), (1000, array([0.499, 0.501])), (1000, array([1., 0.]))]], 'obj_sequence': [array([-0.00141421, -0.00141421,  0.70710678])]}\n",
      "{'iteration': 582, 'empi_dists_seq': [[(1000, array([0.516, 0.484])), (1000, array([0.516, 0.484])), (1000, array([1., 0.]))]], 'obj_sequence': [array([0.02262742, 0.02262742, 0.70710678])]}\n",
      "{'iteration': 583, 'empi_dists_seq': [[(1000, array([0.533, 0.467])), (1000, array([0.533, 0.467])), (1000, array([1., 0.]))]], 'obj_sequence': [array([0.04666905, 0.04666905, 0.70710678])]}\n",
      "{'iteration': 584, 'empi_dists_seq': [[(1000, array([0.499, 0.501])), (1000, array([0.499, 0.501])), (1000, array([1., 0.]))]], 'obj_sequence': [array([-0.00141421, -0.00141421,  0.70710678])]}\n",
      "{'iteration': 585, 'empi_dists_seq': [[(1000, array([0.508, 0.492])), (1000, array([0.508, 0.492])), (1000, array([1., 0.]))]], 'obj_sequence': [array([0.01131371, 0.01131371, 0.70710678])]}\n",
      "{'iteration': 586, 'empi_dists_seq': [[(1000, array([0.515, 0.485])), (1000, array([0.515, 0.485])), (1000, array([1., 0.]))]], 'obj_sequence': [array([0.0212132 , 0.0212132 , 0.70710678])]}\n",
      "{'iteration': 587, 'empi_dists_seq': [[(1000, array([0.522, 0.478])), (1000, array([0.522, 0.478])), (1000, array([1., 0.]))]], 'obj_sequence': [array([0.0311127 , 0.0311127 , 0.70710678])]}\n",
      "{'iteration': 588, 'empi_dists_seq': [[(1000, array([0.522, 0.478])), (1000, array([0.522, 0.478])), (1000, array([1., 0.]))]], 'obj_sequence': [array([0.0311127 , 0.0311127 , 0.70710678])]}\n",
      "{'iteration': 589, 'empi_dists_seq': [[(1000, array([0.493, 0.507])), (1000, array([0.493, 0.507])), (1000, array([1., 0.]))]], 'obj_sequence': [array([-0.00989949, -0.00989949,  0.70710678])]}\n",
      "{'iteration': 590, 'empi_dists_seq': [[(1000, array([0.487, 0.513])), (1000, array([0.487, 0.513])), (1000, array([1., 0.]))]], 'obj_sequence': [array([-0.01838478, -0.01838478,  0.70710678])]}\n",
      "{'iteration': 591, 'empi_dists_seq': [[(1000, array([0.476, 0.524])), (1000, array([0.476, 0.524])), (1000, array([1., 0.]))]], 'obj_sequence': [array([-0.03394113, -0.03394113,  0.70710678])]}\n",
      "{'iteration': 592, 'empi_dists_seq': [[(1000, array([0.51, 0.49])), (1000, array([0.51, 0.49])), (1000, array([1., 0.]))]], 'obj_sequence': [array([0.01414214, 0.01414214, 0.70710678])]}\n",
      "{'iteration': 593, 'empi_dists_seq': [[(1000, array([0.482, 0.518])), (1000, array([0.482, 0.518])), (1000, array([1., 0.]))]], 'obj_sequence': [array([-0.02545584, -0.02545584,  0.70710678])]}\n"
     ]
    },
    {
     "name": "stdout",
     "output_type": "stream",
     "text": [
      "{'iteration': 594, 'empi_dists_seq': [[(1000, array([0.522, 0.478])), (1000, array([0.522, 0.478])), (1000, array([1., 0.]))]], 'obj_sequence': [array([0.0311127 , 0.0311127 , 0.70710678])]}\n",
      "{'iteration': 595, 'empi_dists_seq': [[(1000, array([0.477, 0.523])), (1000, array([0.477, 0.523])), (1000, array([1., 0.]))]], 'obj_sequence': [array([-0.03252691, -0.03252691,  0.70710678])]}\n",
      "{'iteration': 596, 'empi_dists_seq': [[(1000, array([0.468, 0.532])), (1000, array([0.468, 0.532])), (1000, array([1., 0.]))]], 'obj_sequence': [array([-0.04525483, -0.04525483,  0.70710678])]}\n",
      "{'iteration': 597, 'empi_dists_seq': [[(1000, array([0.474, 0.526])), (1000, array([0.474, 0.526])), (1000, array([1., 0.]))]], 'obj_sequence': [array([-0.03676955, -0.03676955,  0.70710678])]}\n",
      "{'iteration': 598, 'empi_dists_seq': [[(1000, array([0.471, 0.529])), (1000, array([0.471, 0.529])), (1000, array([1., 0.]))]], 'obj_sequence': [array([-0.04101219, -0.04101219,  0.70710678])]}\n",
      "{'iteration': 599, 'empi_dists_seq': [[(1000, array([0.519, 0.481])), (1000, array([0.519, 0.481])), (1000, array([1., 0.]))]], 'obj_sequence': [array([0.02687006, 0.02687006, 0.70710678])]}\n",
      "{'iteration': 600, 'empi_dists_seq': [[(1000, array([0.538, 0.462])), (1000, array([0.538, 0.462])), (1000, array([1., 0.]))]], 'obj_sequence': [array([0.05374012, 0.05374012, 0.70710678])]}\n",
      "{'iteration': 601, 'empi_dists_seq': [[(1000, array([0.508, 0.492])), (1000, array([0.508, 0.492])), (1000, array([1., 0.]))]], 'obj_sequence': [array([0.01131371, 0.01131371, 0.70710678])]}\n",
      "{'iteration': 602, 'empi_dists_seq': [[(1000, array([0.545, 0.455])), (1000, array([0.545, 0.455])), (1000, array([1., 0.]))]], 'obj_sequence': [array([0.06363961, 0.06363961, 0.70710678])]}\n",
      "{'iteration': 603, 'empi_dists_seq': [[(1000, array([0.51, 0.49])), (1000, array([0.51, 0.49])), (1000, array([1., 0.]))]], 'obj_sequence': [array([0.01414214, 0.01414214, 0.70710678])]}\n",
      "{'iteration': 604, 'empi_dists_seq': [[(1000, array([0.49, 0.51])), (1000, array([0.49, 0.51])), (1000, array([1., 0.]))]], 'obj_sequence': [array([-0.01414214, -0.01414214,  0.70710678])]}\n",
      "{'iteration': 605, 'empi_dists_seq': [[(1000, array([0.475, 0.525])), (1000, array([0.475, 0.525])), (1000, array([1., 0.]))]], 'obj_sequence': [array([-0.03535534, -0.03535534,  0.70710678])]}\n",
      "{'iteration': 606, 'empi_dists_seq': [[(1000, array([0.496, 0.504])), (1000, array([0.496, 0.504])), (1000, array([1., 0.]))]], 'obj_sequence': [array([-0.00565685, -0.00565685,  0.70710678])]}\n",
      "{'iteration': 607, 'empi_dists_seq': [[(1000, array([0.539, 0.461])), (1000, array([0.539, 0.461])), (1000, array([1., 0.]))]], 'obj_sequence': [array([0.05515433, 0.05515433, 0.70710678])]}\n",
      "{'iteration': 608, 'empi_dists_seq': [[(1000, array([0.477, 0.523])), (1000, array([0.477, 0.523])), (1000, array([1., 0.]))]], 'obj_sequence': [array([-0.03252691, -0.03252691,  0.70710678])]}\n",
      "{'iteration': 609, 'empi_dists_seq': [[(1000, array([0.507, 0.493])), (1000, array([0.507, 0.493])), (1000, array([1., 0.]))]], 'obj_sequence': [array([0.00989949, 0.00989949, 0.70710678])]}\n",
      "{'iteration': 610, 'empi_dists_seq': [[(1000, array([0.501, 0.499])), (1000, array([0.501, 0.499])), (1000, array([1., 0.]))]], 'obj_sequence': [array([0.00141421, 0.00141421, 0.70710678])]}\n",
      "{'iteration': 611, 'empi_dists_seq': [[(1000, array([0.524, 0.476])), (1000, array([0.524, 0.476])), (1000, array([1., 0.]))]], 'obj_sequence': [array([0.03394113, 0.03394113, 0.70710678])]}\n",
      "{'iteration': 612, 'empi_dists_seq': [[(1000, array([0.481, 0.519])), (1000, array([0.481, 0.519])), (1000, array([1., 0.]))]], 'obj_sequence': [array([-0.02687006, -0.02687006,  0.70710678])]}\n",
      "{'iteration': 613, 'empi_dists_seq': [[(1000, array([0.524, 0.476])), (1000, array([0.524, 0.476])), (1000, array([1., 0.]))]], 'obj_sequence': [array([0.03394113, 0.03394113, 0.70710678])]}\n",
      "{'iteration': 614, 'empi_dists_seq': [[(1000, array([0.494, 0.506])), (1000, array([0.494, 0.506])), (1000, array([1., 0.]))]], 'obj_sequence': [array([-0.00848528, -0.00848528,  0.70710678])]}\n",
      "{'iteration': 615, 'empi_dists_seq': [[(1000, array([0.501, 0.499])), (1000, array([0.501, 0.499])), (1000, array([1., 0.]))]], 'obj_sequence': [array([0.00141421, 0.00141421, 0.70710678])]}\n",
      "{'iteration': 616, 'empi_dists_seq': [[(1000, array([0.496, 0.504])), (1000, array([0.496, 0.504])), (1000, array([1., 0.]))]], 'obj_sequence': [array([-0.00565685, -0.00565685,  0.70710678])]}\n",
      "{'iteration': 617, 'empi_dists_seq': [[(1000, array([0.525, 0.475])), (1000, array([0.525, 0.475])), (1000, array([1., 0.]))]], 'obj_sequence': [array([0.03535534, 0.03535534, 0.70710678])]}\n",
      "{'iteration': 618, 'empi_dists_seq': [[(1000, array([0.49, 0.51])), (1000, array([0.49, 0.51])), (1000, array([1., 0.]))]], 'obj_sequence': [array([-0.01414214, -0.01414214,  0.70710678])]}\n",
      "{'iteration': 619, 'empi_dists_seq': [[(1000, array([0.465, 0.535])), (1000, array([0.465, 0.535])), (1000, array([1., 0.]))]], 'obj_sequence': [array([-0.04949747, -0.04949747,  0.70710678])]}\n",
      "{'iteration': 620, 'empi_dists_seq': [[(1000, array([0.509, 0.491])), (1000, array([0.509, 0.491])), (1000, array([1., 0.]))]], 'obj_sequence': [array([0.01272792, 0.01272792, 0.70710678])]}\n",
      "{'iteration': 621, 'empi_dists_seq': [[(1000, array([0.501, 0.499])), (1000, array([0.501, 0.499])), (1000, array([1., 0.]))]], 'obj_sequence': [array([0.00141421, 0.00141421, 0.70710678])]}\n",
      "{'iteration': 622, 'empi_dists_seq': [[(1000, array([0.504, 0.496])), (1000, array([0.504, 0.496])), (1000, array([1., 0.]))]], 'obj_sequence': [array([0.00565685, 0.00565685, 0.70710678])]}\n",
      "{'iteration': 623, 'empi_dists_seq': [[(1000, array([0.51, 0.49])), (1000, array([0.51, 0.49])), (1000, array([1., 0.]))]], 'obj_sequence': [array([0.01414214, 0.01414214, 0.70710678])]}\n",
      "{'iteration': 624, 'empi_dists_seq': [[(1000, array([0.512, 0.488])), (1000, array([0.512, 0.488])), (1000, array([1., 0.]))]], 'obj_sequence': [array([0.01697056, 0.01697056, 0.70710678])]}\n",
      "{'iteration': 625, 'empi_dists_seq': [[(1000, array([0.535, 0.465])), (1000, array([0.535, 0.465])), (1000, array([1., 0.]))]], 'obj_sequence': [array([0.04949747, 0.04949747, 0.70710678])]}\n",
      "{'iteration': 626, 'empi_dists_seq': [[(1000, array([0.51, 0.49])), (1000, array([0.51, 0.49])), (1000, array([1., 0.]))]], 'obj_sequence': [array([0.01414214, 0.01414214, 0.70710678])]}\n",
      "{'iteration': 627, 'empi_dists_seq': [[(1000, array([0.511, 0.489])), (1000, array([0.511, 0.489])), (1000, array([1., 0.]))]], 'obj_sequence': [array([0.01555635, 0.01555635, 0.70710678])]}\n",
      "{'iteration': 628, 'empi_dists_seq': [[(1000, array([0.489, 0.511])), (1000, array([0.489, 0.511])), (1000, array([1., 0.]))]], 'obj_sequence': [array([-0.01555635, -0.01555635,  0.70710678])]}\n",
      "{'iteration': 629, 'empi_dists_seq': [[(1000, array([0.504, 0.496])), (1000, array([0.504, 0.496])), (1000, array([1., 0.]))]], 'obj_sequence': [array([0.00565685, 0.00565685, 0.70710678])]}\n",
      "{'iteration': 630, 'empi_dists_seq': [[(1000, array([0.522, 0.478])), (1000, array([0.522, 0.478])), (1000, array([1., 0.]))]], 'obj_sequence': [array([0.0311127 , 0.0311127 , 0.70710678])]}\n",
      "{'iteration': 631, 'empi_dists_seq': [[(1000, array([0.508, 0.492])), (1000, array([0.508, 0.492])), (1000, array([1., 0.]))]], 'obj_sequence': [array([0.01131371, 0.01131371, 0.70710678])]}\n",
      "{'iteration': 632, 'empi_dists_seq': [[(1000, array([0.487, 0.513])), (1000, array([0.487, 0.513])), (1000, array([1., 0.]))]], 'obj_sequence': [array([-0.01838478, -0.01838478,  0.70710678])]}\n",
      "{'iteration': 633, 'empi_dists_seq': [[(1000, array([0.483, 0.517])), (1000, array([0.483, 0.517])), (1000, array([1., 0.]))]], 'obj_sequence': [array([-0.02404163, -0.02404163,  0.70710678])]}\n",
      "{'iteration': 634, 'empi_dists_seq': [[(1000, array([0.489, 0.511])), (1000, array([0.489, 0.511])), (1000, array([1., 0.]))]], 'obj_sequence': [array([-0.01555635, -0.01555635,  0.70710678])]}\n",
      "{'iteration': 635, 'empi_dists_seq': [[(1000, array([0.493, 0.507])), (1000, array([0.493, 0.507])), (1000, array([1., 0.]))]], 'obj_sequence': [array([-0.00989949, -0.00989949,  0.70710678])]}\n",
      "{'iteration': 636, 'empi_dists_seq': [[(1000, array([0.502, 0.498])), (1000, array([0.502, 0.498])), (1000, array([1., 0.]))]], 'obj_sequence': [array([0.00282843, 0.00282843, 0.70710678])]}\n",
      "{'iteration': 637, 'empi_dists_seq': [[(1000, array([0.499, 0.501])), (1000, array([0.499, 0.501])), (1000, array([1., 0.]))]], 'obj_sequence': [array([-0.00141421, -0.00141421,  0.70710678])]}\n",
      "{'iteration': 638, 'empi_dists_seq': [[(1000, array([0.495, 0.505])), (1000, array([0.495, 0.505])), (1000, array([1., 0.]))]], 'obj_sequence': [array([-0.00707107, -0.00707107,  0.70710678])]}\n",
      "{'iteration': 639, 'empi_dists_seq': [[(1000, array([0.502, 0.498])), (1000, array([0.502, 0.498])), (1000, array([1., 0.]))]], 'obj_sequence': [array([0.00282843, 0.00282843, 0.70710678])]}\n",
      "{'iteration': 640, 'empi_dists_seq': [[(1000, array([0.494, 0.506])), (1000, array([0.494, 0.506])), (1000, array([1., 0.]))]], 'obj_sequence': [array([-0.00848528, -0.00848528,  0.70710678])]}\n",
      "{'iteration': 641, 'empi_dists_seq': [[(1000, array([0.52, 0.48])), (1000, array([0.52, 0.48])), (1000, array([1., 0.]))]], 'obj_sequence': [array([0.02828427, 0.02828427, 0.70710678])]}\n",
      "{'iteration': 642, 'empi_dists_seq': [[(1000, array([0.495, 0.505])), (1000, array([0.495, 0.505])), (1000, array([1., 0.]))]], 'obj_sequence': [array([-0.00707107, -0.00707107,  0.70710678])]}\n",
      "{'iteration': 643, 'empi_dists_seq': [[(1000, array([0.503, 0.497])), (1000, array([0.503, 0.497])), (1000, array([1., 0.]))]], 'obj_sequence': [array([0.00424264, 0.00424264, 0.70710678])]}\n"
     ]
    },
    {
     "name": "stdout",
     "output_type": "stream",
     "text": [
      "{'iteration': 644, 'empi_dists_seq': [[(1000, array([0.513, 0.487])), (1000, array([0.513, 0.487])), (1000, array([1., 0.]))]], 'obj_sequence': [array([0.01838478, 0.01838478, 0.70710678])]}\n",
      "{'iteration': 645, 'empi_dists_seq': [[(1000, array([0.52, 0.48])), (1000, array([0.52, 0.48])), (1000, array([1., 0.]))]], 'obj_sequence': [array([0.02828427, 0.02828427, 0.70710678])]}\n",
      "{'iteration': 646, 'empi_dists_seq': [[(1000, array([0.485, 0.515])), (1000, array([0.485, 0.515])), (1000, array([1., 0.]))]], 'obj_sequence': [array([-0.0212132 , -0.0212132 ,  0.70710678])]}\n",
      "{'iteration': 647, 'empi_dists_seq': [[(1000, array([0.494, 0.506])), (1000, array([0.494, 0.506])), (1000, array([1., 0.]))]], 'obj_sequence': [array([-0.00848528, -0.00848528,  0.70710678])]}\n",
      "{'iteration': 648, 'empi_dists_seq': [[(1000, array([0.5, 0.5])), (1000, array([0.5, 0.5])), (1000, array([1., 0.]))]], 'obj_sequence': [array([0.        , 0.        , 0.70710678])]}\n",
      "{'iteration': 649, 'empi_dists_seq': [[(1000, array([0.482, 0.518])), (1000, array([0.482, 0.518])), (1000, array([1., 0.]))]], 'obj_sequence': [array([-0.02545584, -0.02545584,  0.70710678])]}\n",
      "{'iteration': 650, 'empi_dists_seq': [[(1000, array([0.501, 0.499])), (1000, array([0.501, 0.499])), (1000, array([1., 0.]))]], 'obj_sequence': [array([0.00141421, 0.00141421, 0.70710678])]}\n",
      "{'iteration': 651, 'empi_dists_seq': [[(1000, array([0.493, 0.507])), (1000, array([0.493, 0.507])), (1000, array([1., 0.]))]], 'obj_sequence': [array([-0.00989949, -0.00989949,  0.70710678])]}\n",
      "{'iteration': 652, 'empi_dists_seq': [[(1000, array([0.507, 0.493])), (1000, array([0.507, 0.493])), (1000, array([1., 0.]))]], 'obj_sequence': [array([0.00989949, 0.00989949, 0.70710678])]}\n",
      "{'iteration': 653, 'empi_dists_seq': [[(1000, array([0.537, 0.463])), (1000, array([0.537, 0.463])), (1000, array([1., 0.]))]], 'obj_sequence': [array([0.0523259 , 0.0523259 , 0.70710678])]}\n",
      "{'iteration': 654, 'empi_dists_seq': [[(1000, array([0.466, 0.534])), (1000, array([0.466, 0.534])), (1000, array([1., 0.]))]], 'obj_sequence': [array([-0.04808326, -0.04808326,  0.70710678])]}\n",
      "{'iteration': 655, 'empi_dists_seq': [[(1000, array([0.507, 0.493])), (1000, array([0.507, 0.493])), (1000, array([1., 0.]))]], 'obj_sequence': [array([0.00989949, 0.00989949, 0.70710678])]}\n",
      "{'iteration': 656, 'empi_dists_seq': [[(1000, array([0.484, 0.516])), (1000, array([0.484, 0.516])), (1000, array([1., 0.]))]], 'obj_sequence': [array([-0.02262742, -0.02262742,  0.70710678])]}\n",
      "{'iteration': 657, 'empi_dists_seq': [[(1000, array([0.513, 0.487])), (1000, array([0.513, 0.487])), (1000, array([1., 0.]))]], 'obj_sequence': [array([0.01838478, 0.01838478, 0.70710678])]}\n",
      "{'iteration': 658, 'empi_dists_seq': [[(1000, array([0.471, 0.529])), (1000, array([0.471, 0.529])), (1000, array([1., 0.]))]], 'obj_sequence': [array([-0.04101219, -0.04101219,  0.70710678])]}\n",
      "{'iteration': 659, 'empi_dists_seq': [[(1000, array([0.493, 0.507])), (1000, array([0.493, 0.507])), (1000, array([1., 0.]))]], 'obj_sequence': [array([-0.00989949, -0.00989949,  0.70710678])]}\n",
      "{'iteration': 660, 'empi_dists_seq': [[(1000, array([0.509, 0.491])), (1000, array([0.509, 0.491])), (1000, array([1., 0.]))]], 'obj_sequence': [array([0.01272792, 0.01272792, 0.70710678])]}\n",
      "{'iteration': 661, 'empi_dists_seq': [[(1000, array([0.492, 0.508])), (1000, array([0.492, 0.508])), (1000, array([1., 0.]))]], 'obj_sequence': [array([-0.01131371, -0.01131371,  0.70710678])]}\n",
      "{'iteration': 662, 'empi_dists_seq': [[(1000, array([0.49, 0.51])), (1000, array([0.49, 0.51])), (1000, array([1., 0.]))]], 'obj_sequence': [array([-0.01414214, -0.01414214,  0.70710678])]}\n",
      "{'iteration': 663, 'empi_dists_seq': [[(1000, array([0.522, 0.478])), (1000, array([0.522, 0.478])), (1000, array([1., 0.]))]], 'obj_sequence': [array([0.0311127 , 0.0311127 , 0.70710678])]}\n",
      "{'iteration': 664, 'empi_dists_seq': [[(1000, array([0.496, 0.504])), (1000, array([0.496, 0.504])), (1000, array([1., 0.]))]], 'obj_sequence': [array([-0.00565685, -0.00565685,  0.70710678])]}\n",
      "{'iteration': 665, 'empi_dists_seq': [[(1000, array([0.493, 0.507])), (1000, array([0.493, 0.507])), (1000, array([1., 0.]))]], 'obj_sequence': [array([-0.00989949, -0.00989949,  0.70710678])]}\n",
      "{'iteration': 666, 'empi_dists_seq': [[(1000, array([0.517, 0.483])), (1000, array([0.517, 0.483])), (1000, array([1., 0.]))]], 'obj_sequence': [array([0.02404163, 0.02404163, 0.70710678])]}\n",
      "{'iteration': 667, 'empi_dists_seq': [[(1000, array([0.529, 0.471])), (1000, array([0.529, 0.471])), (1000, array([1., 0.]))]], 'obj_sequence': [array([0.04101219, 0.04101219, 0.70710678])]}\n",
      "{'iteration': 668, 'empi_dists_seq': [[(1000, array([0.515, 0.485])), (1000, array([0.515, 0.485])), (1000, array([1., 0.]))]], 'obj_sequence': [array([0.0212132 , 0.0212132 , 0.70710678])]}\n",
      "{'iteration': 669, 'empi_dists_seq': [[(1000, array([0.506, 0.494])), (1000, array([0.506, 0.494])), (1000, array([1., 0.]))]], 'obj_sequence': [array([0.00848528, 0.00848528, 0.70710678])]}\n",
      "{'iteration': 670, 'empi_dists_seq': [[(1000, array([0.482, 0.518])), (1000, array([0.482, 0.518])), (1000, array([1., 0.]))]], 'obj_sequence': [array([-0.02545584, -0.02545584,  0.70710678])]}\n",
      "{'iteration': 671, 'empi_dists_seq': [[(1000, array([0.503, 0.497])), (1000, array([0.503, 0.497])), (1000, array([1., 0.]))]], 'obj_sequence': [array([0.00424264, 0.00424264, 0.70710678])]}\n",
      "{'iteration': 672, 'empi_dists_seq': [[(1000, array([0.49, 0.51])), (1000, array([0.49, 0.51])), (1000, array([1., 0.]))]], 'obj_sequence': [array([-0.01414214, -0.01414214,  0.70710678])]}\n",
      "{'iteration': 673, 'empi_dists_seq': [[(1000, array([0.505, 0.495])), (1000, array([0.505, 0.495])), (1000, array([1., 0.]))]], 'obj_sequence': [array([0.00707107, 0.00707107, 0.70710678])]}\n",
      "{'iteration': 674, 'empi_dists_seq': [[(1000, array([0.494, 0.506])), (1000, array([0.494, 0.506])), (1000, array([1., 0.]))]], 'obj_sequence': [array([-0.00848528, -0.00848528,  0.70710678])]}\n",
      "{'iteration': 675, 'empi_dists_seq': [[(1000, array([0.514, 0.486])), (1000, array([0.514, 0.486])), (1000, array([1., 0.]))]], 'obj_sequence': [array([0.01979899, 0.01979899, 0.70710678])]}\n",
      "{'iteration': 676, 'empi_dists_seq': [[(1000, array([0.511, 0.489])), (1000, array([0.511, 0.489])), (1000, array([1., 0.]))]], 'obj_sequence': [array([0.01555635, 0.01555635, 0.70710678])]}\n",
      "{'iteration': 677, 'empi_dists_seq': [[(1000, array([0.524, 0.476])), (1000, array([0.524, 0.476])), (1000, array([1., 0.]))]], 'obj_sequence': [array([0.03394113, 0.03394113, 0.70710678])]}\n",
      "{'iteration': 678, 'empi_dists_seq': [[(1000, array([0.49, 0.51])), (1000, array([0.49, 0.51])), (1000, array([1., 0.]))]], 'obj_sequence': [array([-0.01414214, -0.01414214,  0.70710678])]}\n",
      "{'iteration': 679, 'empi_dists_seq': [[(1000, array([0.502, 0.498])), (1000, array([0.502, 0.498])), (1000, array([1., 0.]))]], 'obj_sequence': [array([0.00282843, 0.00282843, 0.70710678])]}\n",
      "{'iteration': 680, 'empi_dists_seq': [[(1000, array([0.499, 0.501])), (1000, array([0.499, 0.501])), (1000, array([1., 0.]))]], 'obj_sequence': [array([-0.00141421, -0.00141421,  0.70710678])]}\n",
      "{'iteration': 681, 'empi_dists_seq': [[(1000, array([0.483, 0.517])), (1000, array([0.483, 0.517])), (1000, array([1., 0.]))]], 'obj_sequence': [array([-0.02404163, -0.02404163,  0.70710678])]}\n",
      "{'iteration': 682, 'empi_dists_seq': [[(1000, array([0.503, 0.497])), (1000, array([0.503, 0.497])), (1000, array([1., 0.]))]], 'obj_sequence': [array([0.00424264, 0.00424264, 0.70710678])]}\n",
      "{'iteration': 683, 'empi_dists_seq': [[(1000, array([0.474, 0.526])), (1000, array([0.474, 0.526])), (1000, array([1., 0.]))]], 'obj_sequence': [array([-0.03676955, -0.03676955,  0.70710678])]}\n",
      "{'iteration': 684, 'empi_dists_seq': [[(1000, array([0.484, 0.516])), (1000, array([0.484, 0.516])), (1000, array([1., 0.]))]], 'obj_sequence': [array([-0.02262742, -0.02262742,  0.70710678])]}\n",
      "{'iteration': 685, 'empi_dists_seq': [[(1000, array([0.529, 0.471])), (1000, array([0.529, 0.471])), (1000, array([1., 0.]))]], 'obj_sequence': [array([0.04101219, 0.04101219, 0.70710678])]}\n",
      "{'iteration': 686, 'empi_dists_seq': [[(1000, array([0.497, 0.503])), (1000, array([0.497, 0.503])), (1000, array([1., 0.]))]], 'obj_sequence': [array([-0.00424264, -0.00424264,  0.70710678])]}\n",
      "{'iteration': 687, 'empi_dists_seq': [[(1000, array([0.495, 0.505])), (1000, array([0.495, 0.505])), (1000, array([1., 0.]))]], 'obj_sequence': [array([-0.00707107, -0.00707107,  0.70710678])]}\n",
      "{'iteration': 688, 'empi_dists_seq': [[(1000, array([0.545, 0.455])), (1000, array([0.545, 0.455])), (1000, array([1., 0.]))]], 'obj_sequence': [array([0.06363961, 0.06363961, 0.70710678])]}\n",
      "{'iteration': 689, 'empi_dists_seq': [[(1000, array([0.509, 0.491])), (1000, array([0.509, 0.491])), (1000, array([1., 0.]))]], 'obj_sequence': [array([0.01272792, 0.01272792, 0.70710678])]}\n",
      "{'iteration': 690, 'empi_dists_seq': [[(1000, array([0.464, 0.536])), (1000, array([0.464, 0.536])), (1000, array([1., 0.]))]], 'obj_sequence': [array([-0.05091169, -0.05091169,  0.70710678])]}\n",
      "{'iteration': 691, 'empi_dists_seq': [[(1000, array([0.514, 0.486])), (1000, array([0.514, 0.486])), (1000, array([1., 0.]))]], 'obj_sequence': [array([0.01979899, 0.01979899, 0.70710678])]}\n",
      "{'iteration': 692, 'empi_dists_seq': [[(1000, array([0.484, 0.516])), (1000, array([0.484, 0.516])), (1000, array([1., 0.]))]], 'obj_sequence': [array([-0.02262742, -0.02262742,  0.70710678])]}\n",
      "{'iteration': 693, 'empi_dists_seq': [[(1000, array([0.515, 0.485])), (1000, array([0.515, 0.485])), (1000, array([1., 0.]))]], 'obj_sequence': [array([0.0212132 , 0.0212132 , 0.70710678])]}\n",
      "{'iteration': 694, 'empi_dists_seq': [[(1000, array([0.504, 0.496])), (1000, array([0.504, 0.496])), (1000, array([1., 0.]))]], 'obj_sequence': [array([0.00565685, 0.00565685, 0.70710678])]}\n",
      "{'iteration': 695, 'empi_dists_seq': [[(1000, array([0.514, 0.486])), (1000, array([0.514, 0.486])), (1000, array([1., 0.]))]], 'obj_sequence': [array([0.01979899, 0.01979899, 0.70710678])]}\n",
      "{'iteration': 696, 'empi_dists_seq': [[(1000, array([0.467, 0.533])), (1000, array([0.467, 0.533])), (1000, array([1., 0.]))]], 'obj_sequence': [array([-0.04666905, -0.04666905,  0.70710678])]}\n",
      "{'iteration': 697, 'empi_dists_seq': [[(1000, array([0.484, 0.516])), (1000, array([0.484, 0.516])), (1000, array([1., 0.]))]], 'obj_sequence': [array([-0.02262742, -0.02262742,  0.70710678])]}\n"
     ]
    },
    {
     "name": "stdout",
     "output_type": "stream",
     "text": [
      "{'iteration': 698, 'empi_dists_seq': [[(1000, array([0.481, 0.519])), (1000, array([0.481, 0.519])), (1000, array([1., 0.]))]], 'obj_sequence': [array([-0.02687006, -0.02687006,  0.70710678])]}\n",
      "{'iteration': 699, 'empi_dists_seq': [[(1000, array([0.487, 0.513])), (1000, array([0.487, 0.513])), (1000, array([1., 0.]))]], 'obj_sequence': [array([-0.01838478, -0.01838478,  0.70710678])]}\n",
      "{'iteration': 700, 'empi_dists_seq': [[(1000, array([0.499, 0.501])), (1000, array([0.499, 0.501])), (1000, array([1., 0.]))]], 'obj_sequence': [array([-0.00141421, -0.00141421,  0.70710678])]}\n",
      "{'iteration': 701, 'empi_dists_seq': [[(1000, array([0.491, 0.509])), (1000, array([0.491, 0.509])), (1000, array([1., 0.]))]], 'obj_sequence': [array([-0.01272792, -0.01272792,  0.70710678])]}\n",
      "{'iteration': 702, 'empi_dists_seq': [[(1000, array([0.515, 0.485])), (1000, array([0.515, 0.485])), (1000, array([1., 0.]))]], 'obj_sequence': [array([0.0212132 , 0.0212132 , 0.70710678])]}\n",
      "{'iteration': 703, 'empi_dists_seq': [[(1000, array([0.49, 0.51])), (1000, array([0.49, 0.51])), (1000, array([1., 0.]))]], 'obj_sequence': [array([-0.01414214, -0.01414214,  0.70710678])]}\n",
      "{'iteration': 704, 'empi_dists_seq': [[(1000, array([0.508, 0.492])), (1000, array([0.508, 0.492])), (1000, array([1., 0.]))]], 'obj_sequence': [array([0.01131371, 0.01131371, 0.70710678])]}\n",
      "{'iteration': 705, 'empi_dists_seq': [[(1000, array([0.482, 0.518])), (1000, array([0.482, 0.518])), (1000, array([1., 0.]))]], 'obj_sequence': [array([-0.02545584, -0.02545584,  0.70710678])]}\n",
      "{'iteration': 706, 'empi_dists_seq': [[(1000, array([0.493, 0.507])), (1000, array([0.493, 0.507])), (1000, array([1., 0.]))]], 'obj_sequence': [array([-0.00989949, -0.00989949,  0.70710678])]}\n",
      "{'iteration': 707, 'empi_dists_seq': [[(1000, array([0.507, 0.493])), (1000, array([0.507, 0.493])), (1000, array([1., 0.]))]], 'obj_sequence': [array([0.00989949, 0.00989949, 0.70710678])]}\n",
      "{'iteration': 708, 'empi_dists_seq': [[(1000, array([0.512, 0.488])), (1000, array([0.512, 0.488])), (1000, array([1., 0.]))]], 'obj_sequence': [array([0.01697056, 0.01697056, 0.70710678])]}\n",
      "{'iteration': 709, 'empi_dists_seq': [[(1000, array([0.506, 0.494])), (1000, array([0.506, 0.494])), (1000, array([1., 0.]))]], 'obj_sequence': [array([0.00848528, 0.00848528, 0.70710678])]}\n",
      "{'iteration': 710, 'empi_dists_seq': [[(1000, array([0.51, 0.49])), (1000, array([0.51, 0.49])), (1000, array([1., 0.]))]], 'obj_sequence': [array([0.01414214, 0.01414214, 0.70710678])]}\n",
      "{'iteration': 711, 'empi_dists_seq': [[(1000, array([0.498, 0.502])), (1000, array([0.498, 0.502])), (1000, array([1., 0.]))]], 'obj_sequence': [array([-0.00282843, -0.00282843,  0.70710678])]}\n",
      "{'iteration': 712, 'empi_dists_seq': [[(1000, array([0.505, 0.495])), (1000, array([0.505, 0.495])), (1000, array([1., 0.]))]], 'obj_sequence': [array([0.00707107, 0.00707107, 0.70710678])]}\n",
      "{'iteration': 713, 'empi_dists_seq': [[(1000, array([0.506, 0.494])), (1000, array([0.506, 0.494])), (1000, array([1., 0.]))]], 'obj_sequence': [array([0.00848528, 0.00848528, 0.70710678])]}\n",
      "{'iteration': 714, 'empi_dists_seq': [[(1000, array([0.493, 0.507])), (1000, array([0.493, 0.507])), (1000, array([1., 0.]))]], 'obj_sequence': [array([-0.00989949, -0.00989949,  0.70710678])]}\n",
      "{'iteration': 715, 'empi_dists_seq': [[(1000, array([0.499, 0.501])), (1000, array([0.499, 0.501])), (1000, array([1., 0.]))]], 'obj_sequence': [array([-0.00141421, -0.00141421,  0.70710678])]}\n",
      "{'iteration': 716, 'empi_dists_seq': [[(1000, array([0.498, 0.502])), (1000, array([0.498, 0.502])), (1000, array([1., 0.]))]], 'obj_sequence': [array([-0.00282843, -0.00282843,  0.70710678])]}\n",
      "{'iteration': 717, 'empi_dists_seq': [[(1000, array([0.49, 0.51])), (1000, array([0.49, 0.51])), (1000, array([1., 0.]))]], 'obj_sequence': [array([-0.01414214, -0.01414214,  0.70710678])]}\n",
      "{'iteration': 718, 'empi_dists_seq': [[(1000, array([0.497, 0.503])), (1000, array([0.497, 0.503])), (1000, array([1., 0.]))]], 'obj_sequence': [array([-0.00424264, -0.00424264,  0.70710678])]}\n",
      "{'iteration': 719, 'empi_dists_seq': [[(1000, array([0.501, 0.499])), (1000, array([0.501, 0.499])), (1000, array([1., 0.]))]], 'obj_sequence': [array([0.00141421, 0.00141421, 0.70710678])]}\n",
      "{'iteration': 720, 'empi_dists_seq': [[(1000, array([0.505, 0.495])), (1000, array([0.505, 0.495])), (1000, array([1., 0.]))]], 'obj_sequence': [array([0.00707107, 0.00707107, 0.70710678])]}\n",
      "{'iteration': 721, 'empi_dists_seq': [[(1000, array([0.497, 0.503])), (1000, array([0.497, 0.503])), (1000, array([1., 0.]))]], 'obj_sequence': [array([-0.00424264, -0.00424264,  0.70710678])]}\n",
      "{'iteration': 722, 'empi_dists_seq': [[(1000, array([0.472, 0.528])), (1000, array([0.472, 0.528])), (1000, array([1., 0.]))]], 'obj_sequence': [array([-0.03959798, -0.03959798,  0.70710678])]}\n",
      "{'iteration': 723, 'empi_dists_seq': [[(1000, array([0.484, 0.516])), (1000, array([0.484, 0.516])), (1000, array([1., 0.]))]], 'obj_sequence': [array([-0.02262742, -0.02262742,  0.70710678])]}\n",
      "{'iteration': 724, 'empi_dists_seq': [[(1000, array([0.481, 0.519])), (1000, array([0.481, 0.519])), (1000, array([1., 0.]))]], 'obj_sequence': [array([-0.02687006, -0.02687006,  0.70710678])]}\n",
      "{'iteration': 725, 'empi_dists_seq': [[(1000, array([0.473, 0.527])), (1000, array([0.473, 0.527])), (1000, array([1., 0.]))]], 'obj_sequence': [array([-0.03818377, -0.03818377,  0.70710678])]}\n",
      "{'iteration': 726, 'empi_dists_seq': [[(1000, array([0.5, 0.5])), (1000, array([0.5, 0.5])), (1000, array([1., 0.]))]], 'obj_sequence': [array([0.        , 0.        , 0.70710678])]}\n",
      "{'iteration': 727, 'empi_dists_seq': [[(1000, array([0.505, 0.495])), (1000, array([0.505, 0.495])), (1000, array([1., 0.]))]], 'obj_sequence': [array([0.00707107, 0.00707107, 0.70710678])]}\n",
      "{'iteration': 728, 'empi_dists_seq': [[(1000, array([0.482, 0.518])), (1000, array([0.482, 0.518])), (1000, array([1., 0.]))]], 'obj_sequence': [array([-0.02545584, -0.02545584,  0.70710678])]}\n",
      "{'iteration': 729, 'empi_dists_seq': [[(1000, array([0.513, 0.487])), (1000, array([0.513, 0.487])), (1000, array([1., 0.]))]], 'obj_sequence': [array([0.01838478, 0.01838478, 0.70710678])]}\n",
      "{'iteration': 730, 'empi_dists_seq': [[(1000, array([0.484, 0.516])), (1000, array([0.484, 0.516])), (1000, array([1., 0.]))]], 'obj_sequence': [array([-0.02262742, -0.02262742,  0.70710678])]}\n",
      "{'iteration': 731, 'empi_dists_seq': [[(1000, array([0.519, 0.481])), (1000, array([0.519, 0.481])), (1000, array([1., 0.]))]], 'obj_sequence': [array([0.02687006, 0.02687006, 0.70710678])]}\n",
      "{'iteration': 732, 'empi_dists_seq': [[(1000, array([0.48, 0.52])), (1000, array([0.48, 0.52])), (1000, array([1., 0.]))]], 'obj_sequence': [array([-0.02828427, -0.02828427,  0.70710678])]}\n",
      "{'iteration': 733, 'empi_dists_seq': [[(1000, array([0.471, 0.529])), (1000, array([0.471, 0.529])), (1000, array([1., 0.]))]], 'obj_sequence': [array([-0.04101219, -0.04101219,  0.70710678])]}\n",
      "{'iteration': 734, 'empi_dists_seq': [[(1000, array([0.467, 0.533])), (1000, array([0.467, 0.533])), (1000, array([1., 0.]))]], 'obj_sequence': [array([-0.04666905, -0.04666905,  0.70710678])]}\n",
      "{'iteration': 735, 'empi_dists_seq': [[(1000, array([0.484, 0.516])), (1000, array([0.484, 0.516])), (1000, array([1., 0.]))]], 'obj_sequence': [array([-0.02262742, -0.02262742,  0.70710678])]}\n",
      "{'iteration': 736, 'empi_dists_seq': [[(1000, array([0.498, 0.502])), (1000, array([0.498, 0.502])), (1000, array([1., 0.]))]], 'obj_sequence': [array([-0.00282843, -0.00282843,  0.70710678])]}\n",
      "{'iteration': 737, 'empi_dists_seq': [[(1000, array([0.486, 0.514])), (1000, array([0.486, 0.514])), (1000, array([1., 0.]))]], 'obj_sequence': [array([-0.01979899, -0.01979899,  0.70710678])]}\n",
      "{'iteration': 738, 'empi_dists_seq': [[(1000, array([0.477, 0.523])), (1000, array([0.477, 0.523])), (1000, array([1., 0.]))]], 'obj_sequence': [array([-0.03252691, -0.03252691,  0.70710678])]}\n",
      "{'iteration': 739, 'empi_dists_seq': [[(1000, array([0.506, 0.494])), (1000, array([0.506, 0.494])), (1000, array([1., 0.]))]], 'obj_sequence': [array([0.00848528, 0.00848528, 0.70710678])]}\n",
      "{'iteration': 740, 'empi_dists_seq': [[(1000, array([0.479, 0.521])), (1000, array([0.479, 0.521])), (1000, array([1., 0.]))]], 'obj_sequence': [array([-0.02969848, -0.02969848,  0.70710678])]}\n",
      "{'iteration': 741, 'empi_dists_seq': [[(1000, array([0.488, 0.512])), (1000, array([0.488, 0.512])), (1000, array([1., 0.]))]], 'obj_sequence': [array([-0.01697056, -0.01697056,  0.70710678])]}\n"
     ]
    },
    {
     "name": "stdout",
     "output_type": "stream",
     "text": [
      "{'iteration': 742, 'empi_dists_seq': [[(1000, array([0.482, 0.518])), (1000, array([0.482, 0.518])), (1000, array([1., 0.]))]], 'obj_sequence': [array([-0.02545584, -0.02545584,  0.70710678])]}\n",
      "{'iteration': 743, 'empi_dists_seq': [[(1000, array([0.527, 0.473])), (1000, array([0.527, 0.473])), (1000, array([1., 0.]))]], 'obj_sequence': [array([0.03818377, 0.03818377, 0.70710678])]}\n",
      "{'iteration': 744, 'empi_dists_seq': [[(1000, array([0.509, 0.491])), (1000, array([0.509, 0.491])), (1000, array([1., 0.]))]], 'obj_sequence': [array([0.01272792, 0.01272792, 0.70710678])]}\n",
      "{'iteration': 745, 'empi_dists_seq': [[(1000, array([0.485, 0.515])), (1000, array([0.485, 0.515])), (1000, array([1., 0.]))]], 'obj_sequence': [array([-0.0212132 , -0.0212132 ,  0.70710678])]}\n",
      "{'iteration': 746, 'empi_dists_seq': [[(1000, array([0.488, 0.512])), (1000, array([0.488, 0.512])), (1000, array([1., 0.]))]], 'obj_sequence': [array([-0.01697056, -0.01697056,  0.70710678])]}\n",
      "{'iteration': 747, 'empi_dists_seq': [[(1000, array([0.488, 0.512])), (1000, array([0.488, 0.512])), (1000, array([1., 0.]))]], 'obj_sequence': [array([-0.01697056, -0.01697056,  0.70710678])]}\n",
      "{'iteration': 748, 'empi_dists_seq': [[(1000, array([0.474, 0.526])), (1000, array([0.474, 0.526])), (1000, array([1., 0.]))]], 'obj_sequence': [array([-0.03676955, -0.03676955,  0.70710678])]}\n",
      "{'iteration': 749, 'empi_dists_seq': [[(1000, array([0.511, 0.489])), (1000, array([0.511, 0.489])), (1000, array([1., 0.]))]], 'obj_sequence': [array([0.01555635, 0.01555635, 0.70710678])]}\n",
      "{'iteration': 750, 'empi_dists_seq': [[(1000, array([0.477, 0.523])), (1000, array([0.477, 0.523])), (1000, array([1., 0.]))]], 'obj_sequence': [array([-0.03252691, -0.03252691,  0.70710678])]}\n",
      "{'iteration': 751, 'empi_dists_seq': [[(1000, array([0.48, 0.52])), (1000, array([0.48, 0.52])), (1000, array([1., 0.]))]], 'obj_sequence': [array([-0.02828427, -0.02828427,  0.70710678])]}\n",
      "{'iteration': 752, 'empi_dists_seq': [[(1000, array([0.523, 0.477])), (1000, array([0.523, 0.477])), (1000, array([1., 0.]))]], 'obj_sequence': [array([0.03252691, 0.03252691, 0.70710678])]}\n",
      "{'iteration': 753, 'empi_dists_seq': [[(1000, array([0.523, 0.477])), (1000, array([0.523, 0.477])), (1000, array([1., 0.]))]], 'obj_sequence': [array([0.03252691, 0.03252691, 0.70710678])]}\n",
      "{'iteration': 754, 'empi_dists_seq': [[(1000, array([0.518, 0.482])), (1000, array([0.518, 0.482])), (1000, array([1., 0.]))]], 'obj_sequence': [array([0.02545584, 0.02545584, 0.70710678])]}\n",
      "{'iteration': 755, 'empi_dists_seq': [[(1000, array([0.489, 0.511])), (1000, array([0.489, 0.511])), (1000, array([1., 0.]))]], 'obj_sequence': [array([-0.01555635, -0.01555635,  0.70710678])]}\n",
      "{'iteration': 756, 'empi_dists_seq': [[(1000, array([0.504, 0.496])), (1000, array([0.504, 0.496])), (1000, array([1., 0.]))]], 'obj_sequence': [array([0.00565685, 0.00565685, 0.70710678])]}\n",
      "{'iteration': 757, 'empi_dists_seq': [[(1000, array([0.512, 0.488])), (1000, array([0.512, 0.488])), (1000, array([1., 0.]))]], 'obj_sequence': [array([0.01697056, 0.01697056, 0.70710678])]}\n",
      "{'iteration': 758, 'empi_dists_seq': [[(1000, array([0.483, 0.517])), (1000, array([0.483, 0.517])), (1000, array([1., 0.]))]], 'obj_sequence': [array([-0.02404163, -0.02404163,  0.70710678])]}\n",
      "{'iteration': 759, 'empi_dists_seq': [[(1000, array([0.486, 0.514])), (1000, array([0.486, 0.514])), (1000, array([1., 0.]))]], 'obj_sequence': [array([-0.01979899, -0.01979899,  0.70710678])]}\n",
      "{'iteration': 760, 'empi_dists_seq': [[(1000, array([0.496, 0.504])), (1000, array([0.496, 0.504])), (1000, array([1., 0.]))]], 'obj_sequence': [array([-0.00565685, -0.00565685,  0.70710678])]}\n",
      "{'iteration': 761, 'empi_dists_seq': [[(1000, array([0.478, 0.522])), (1000, array([0.478, 0.522])), (1000, array([1., 0.]))]], 'obj_sequence': [array([-0.0311127 , -0.0311127 ,  0.70710678])]}\n",
      "{'iteration': 762, 'empi_dists_seq': [[(1000, array([0.497, 0.503])), (1000, array([0.497, 0.503])), (1000, array([1., 0.]))]], 'obj_sequence': [array([-0.00424264, -0.00424264,  0.70710678])]}\n",
      "{'iteration': 763, 'empi_dists_seq': [[(1000, array([0.495, 0.505])), (1000, array([0.495, 0.505])), (1000, array([1., 0.]))]], 'obj_sequence': [array([-0.00707107, -0.00707107,  0.70710678])]}\n",
      "{'iteration': 764, 'empi_dists_seq': [[(1000, array([0.498, 0.502])), (1000, array([0.498, 0.502])), (1000, array([1., 0.]))]], 'obj_sequence': [array([-0.00282843, -0.00282843,  0.70710678])]}\n",
      "{'iteration': 765, 'empi_dists_seq': [[(1000, array([0.499, 0.501])), (1000, array([0.499, 0.501])), (1000, array([1., 0.]))]], 'obj_sequence': [array([-0.00141421, -0.00141421,  0.70710678])]}\n",
      "{'iteration': 766, 'empi_dists_seq': [[(1000, array([0.507, 0.493])), (1000, array([0.507, 0.493])), (1000, array([1., 0.]))]], 'obj_sequence': [array([0.00989949, 0.00989949, 0.70710678])]}\n",
      "{'iteration': 767, 'empi_dists_seq': [[(1000, array([0.52, 0.48])), (1000, array([0.52, 0.48])), (1000, array([1., 0.]))]], 'obj_sequence': [array([0.02828427, 0.02828427, 0.70710678])]}\n",
      "{'iteration': 768, 'empi_dists_seq': [[(1000, array([0.501, 0.499])), (1000, array([0.501, 0.499])), (1000, array([1., 0.]))]], 'obj_sequence': [array([0.00141421, 0.00141421, 0.70710678])]}\n",
      "{'iteration': 769, 'empi_dists_seq': [[(1000, array([0.501, 0.499])), (1000, array([0.501, 0.499])), (1000, array([1., 0.]))]], 'obj_sequence': [array([0.00141421, 0.00141421, 0.70710678])]}\n",
      "{'iteration': 770, 'empi_dists_seq': [[(1000, array([0.503, 0.497])), (1000, array([0.503, 0.497])), (1000, array([1., 0.]))]], 'obj_sequence': [array([0.00424264, 0.00424264, 0.70710678])]}\n",
      "{'iteration': 771, 'empi_dists_seq': [[(1000, array([0.521, 0.479])), (1000, array([0.521, 0.479])), (1000, array([1., 0.]))]], 'obj_sequence': [array([0.02969848, 0.02969848, 0.70710678])]}\n",
      "{'iteration': 772, 'empi_dists_seq': [[(1000, array([0.489, 0.511])), (1000, array([0.489, 0.511])), (1000, array([1., 0.]))]], 'obj_sequence': [array([-0.01555635, -0.01555635,  0.70710678])]}\n",
      "{'iteration': 773, 'empi_dists_seq': [[(1000, array([0.501, 0.499])), (1000, array([0.501, 0.499])), (1000, array([1., 0.]))]], 'obj_sequence': [array([0.00141421, 0.00141421, 0.70710678])]}\n",
      "{'iteration': 774, 'empi_dists_seq': [[(1000, array([0.448, 0.552])), (1000, array([0.448, 0.552])), (1000, array([1., 0.]))]], 'obj_sequence': [array([-0.07353911, -0.07353911,  0.70710678])]}\n",
      "{'iteration': 775, 'empi_dists_seq': [[(1000, array([0.509, 0.491])), (1000, array([0.509, 0.491])), (1000, array([1., 0.]))]], 'obj_sequence': [array([0.01272792, 0.01272792, 0.70710678])]}\n",
      "{'iteration': 776, 'empi_dists_seq': [[(1000, array([0.504, 0.496])), (1000, array([0.504, 0.496])), (1000, array([1., 0.]))]], 'obj_sequence': [array([0.00565685, 0.00565685, 0.70710678])]}\n",
      "{'iteration': 777, 'empi_dists_seq': [[(1000, array([0.489, 0.511])), (1000, array([0.489, 0.511])), (1000, array([1., 0.]))]], 'obj_sequence': [array([-0.01555635, -0.01555635,  0.70710678])]}\n",
      "{'iteration': 778, 'empi_dists_seq': [[(1000, array([0.504, 0.496])), (1000, array([0.504, 0.496])), (1000, array([1., 0.]))]], 'obj_sequence': [array([0.00565685, 0.00565685, 0.70710678])]}\n",
      "{'iteration': 779, 'empi_dists_seq': [[(1000, array([0.501, 0.499])), (1000, array([0.501, 0.499])), (1000, array([1., 0.]))]], 'obj_sequence': [array([0.00141421, 0.00141421, 0.70710678])]}\n",
      "{'iteration': 780, 'empi_dists_seq': [[(1000, array([0.5, 0.5])), (1000, array([0.5, 0.5])), (1000, array([1., 0.]))]], 'obj_sequence': [array([0.        , 0.        , 0.70710678])]}\n",
      "{'iteration': 781, 'empi_dists_seq': [[(1000, array([0.469, 0.531])), (1000, array([0.469, 0.531])), (1000, array([1., 0.]))]], 'obj_sequence': [array([-0.04384062, -0.04384062,  0.70710678])]}\n",
      "{'iteration': 782, 'empi_dists_seq': [[(1000, array([0.52, 0.48])), (1000, array([0.52, 0.48])), (1000, array([1., 0.]))]], 'obj_sequence': [array([0.02828427, 0.02828427, 0.70710678])]}\n",
      "{'iteration': 783, 'empi_dists_seq': [[(1000, array([0.48, 0.52])), (1000, array([0.48, 0.52])), (1000, array([1., 0.]))]], 'obj_sequence': [array([-0.02828427, -0.02828427,  0.70710678])]}\n",
      "{'iteration': 784, 'empi_dists_seq': [[(1000, array([0.529, 0.471])), (1000, array([0.529, 0.471])), (1000, array([1., 0.]))]], 'obj_sequence': [array([0.04101219, 0.04101219, 0.70710678])]}\n",
      "{'iteration': 785, 'empi_dists_seq': [[(1000, array([0.512, 0.488])), (1000, array([0.512, 0.488])), (1000, array([1., 0.]))]], 'obj_sequence': [array([0.01697056, 0.01697056, 0.70710678])]}\n",
      "{'iteration': 786, 'empi_dists_seq': [[(1000, array([0.467, 0.533])), (1000, array([0.467, 0.533])), (1000, array([1., 0.]))]], 'obj_sequence': [array([-0.04666905, -0.04666905,  0.70710678])]}\n",
      "{'iteration': 787, 'empi_dists_seq': [[(1000, array([0.488, 0.512])), (1000, array([0.488, 0.512])), (1000, array([1., 0.]))]], 'obj_sequence': [array([-0.01697056, -0.01697056,  0.70710678])]}\n",
      "{'iteration': 788, 'empi_dists_seq': [[(1000, array([0.481, 0.519])), (1000, array([0.481, 0.519])), (1000, array([1., 0.]))]], 'obj_sequence': [array([-0.02687006, -0.02687006,  0.70710678])]}\n",
      "{'iteration': 789, 'empi_dists_seq': [[(1000, array([0.49, 0.51])), (1000, array([0.49, 0.51])), (1000, array([1., 0.]))]], 'obj_sequence': [array([-0.01414214, -0.01414214,  0.70710678])]}\n",
      "{'iteration': 790, 'empi_dists_seq': [[(1000, array([0.455, 0.545])), (1000, array([0.455, 0.545])), (1000, array([1., 0.]))]], 'obj_sequence': [array([-0.06363961, -0.06363961,  0.70710678])]}\n",
      "{'iteration': 791, 'empi_dists_seq': [[(1000, array([0.529, 0.471])), (1000, array([0.529, 0.471])), (1000, array([1., 0.]))]], 'obj_sequence': [array([0.04101219, 0.04101219, 0.70710678])]}\n",
      "{'iteration': 792, 'empi_dists_seq': [[(1000, array([0.508, 0.492])), (1000, array([0.508, 0.492])), (1000, array([1., 0.]))]], 'obj_sequence': [array([0.01131371, 0.01131371, 0.70710678])]}\n",
      "{'iteration': 793, 'empi_dists_seq': [[(1000, array([0.497, 0.503])), (1000, array([0.497, 0.503])), (1000, array([1., 0.]))]], 'obj_sequence': [array([-0.00424264, -0.00424264,  0.70710678])]}\n",
      "{'iteration': 794, 'empi_dists_seq': [[(1000, array([0.491, 0.509])), (1000, array([0.491, 0.509])), (1000, array([1., 0.]))]], 'obj_sequence': [array([-0.01272792, -0.01272792,  0.70710678])]}\n",
      "{'iteration': 795, 'empi_dists_seq': [[(1000, array([0.487, 0.513])), (1000, array([0.487, 0.513])), (1000, array([1., 0.]))]], 'obj_sequence': [array([-0.01838478, -0.01838478,  0.70710678])]}\n",
      "{'iteration': 796, 'empi_dists_seq': [[(1000, array([0.493, 0.507])), (1000, array([0.493, 0.507])), (1000, array([1., 0.]))]], 'obj_sequence': [array([-0.00989949, -0.00989949,  0.70710678])]}\n"
     ]
    },
    {
     "name": "stdout",
     "output_type": "stream",
     "text": [
      "{'iteration': 797, 'empi_dists_seq': [[(1000, array([0.512, 0.488])), (1000, array([0.512, 0.488])), (1000, array([1., 0.]))]], 'obj_sequence': [array([0.01697056, 0.01697056, 0.70710678])]}\n",
      "{'iteration': 798, 'empi_dists_seq': [[(1000, array([0.511, 0.489])), (1000, array([0.511, 0.489])), (1000, array([1., 0.]))]], 'obj_sequence': [array([0.01555635, 0.01555635, 0.70710678])]}\n",
      "{'iteration': 799, 'empi_dists_seq': [[(1000, array([0.515, 0.485])), (1000, array([0.515, 0.485])), (1000, array([1., 0.]))]], 'obj_sequence': [array([0.0212132 , 0.0212132 , 0.70710678])]}\n",
      "{'iteration': 800, 'empi_dists_seq': [[(1000, array([0.518, 0.482])), (1000, array([0.518, 0.482])), (1000, array([1., 0.]))]], 'obj_sequence': [array([0.02545584, 0.02545584, 0.70710678])]}\n",
      "{'iteration': 801, 'empi_dists_seq': [[(1000, array([0.499, 0.501])), (1000, array([0.499, 0.501])), (1000, array([1., 0.]))]], 'obj_sequence': [array([-0.00141421, -0.00141421,  0.70710678])]}\n",
      "{'iteration': 802, 'empi_dists_seq': [[(1000, array([0.51, 0.49])), (1000, array([0.51, 0.49])), (1000, array([1., 0.]))]], 'obj_sequence': [array([0.01414214, 0.01414214, 0.70710678])]}\n",
      "{'iteration': 803, 'empi_dists_seq': [[(1000, array([0.495, 0.505])), (1000, array([0.495, 0.505])), (1000, array([1., 0.]))]], 'obj_sequence': [array([-0.00707107, -0.00707107,  0.70710678])]}\n",
      "{'iteration': 804, 'empi_dists_seq': [[(1000, array([0.479, 0.521])), (1000, array([0.479, 0.521])), (1000, array([1., 0.]))]], 'obj_sequence': [array([-0.02969848, -0.02969848,  0.70710678])]}\n",
      "{'iteration': 805, 'empi_dists_seq': [[(1000, array([0.499, 0.501])), (1000, array([0.499, 0.501])), (1000, array([1., 0.]))]], 'obj_sequence': [array([-0.00141421, -0.00141421,  0.70710678])]}\n",
      "{'iteration': 806, 'empi_dists_seq': [[(1000, array([0.486, 0.514])), (1000, array([0.486, 0.514])), (1000, array([1., 0.]))]], 'obj_sequence': [array([-0.01979899, -0.01979899,  0.70710678])]}\n",
      "{'iteration': 807, 'empi_dists_seq': [[(1000, array([0.497, 0.503])), (1000, array([0.497, 0.503])), (1000, array([1., 0.]))]], 'obj_sequence': [array([-0.00424264, -0.00424264,  0.70710678])]}\n",
      "{'iteration': 808, 'empi_dists_seq': [[(1000, array([0.482, 0.518])), (1000, array([0.482, 0.518])), (1000, array([1., 0.]))]], 'obj_sequence': [array([-0.02545584, -0.02545584,  0.70710678])]}\n",
      "{'iteration': 809, 'empi_dists_seq': [[(1000, array([0.493, 0.507])), (1000, array([0.493, 0.507])), (1000, array([1., 0.]))]], 'obj_sequence': [array([-0.00989949, -0.00989949,  0.70710678])]}\n",
      "{'iteration': 810, 'empi_dists_seq': [[(1000, array([0.517, 0.483])), (1000, array([0.517, 0.483])), (1000, array([1., 0.]))]], 'obj_sequence': [array([0.02404163, 0.02404163, 0.70710678])]}\n",
      "{'iteration': 811, 'empi_dists_seq': [[(1000, array([0.494, 0.506])), (1000, array([0.494, 0.506])), (1000, array([1., 0.]))]], 'obj_sequence': [array([-0.00848528, -0.00848528,  0.70710678])]}\n",
      "{'iteration': 812, 'empi_dists_seq': [[(1000, array([0.491, 0.509])), (1000, array([0.491, 0.509])), (1000, array([1., 0.]))]], 'obj_sequence': [array([-0.01272792, -0.01272792,  0.70710678])]}\n",
      "{'iteration': 813, 'empi_dists_seq': [[(1000, array([0.498, 0.502])), (1000, array([0.498, 0.502])), (1000, array([1., 0.]))]], 'obj_sequence': [array([-0.00282843, -0.00282843,  0.70710678])]}\n",
      "{'iteration': 814, 'empi_dists_seq': [[(1000, array([0.509, 0.491])), (1000, array([0.509, 0.491])), (1000, array([1., 0.]))]], 'obj_sequence': [array([0.01272792, 0.01272792, 0.70710678])]}\n",
      "{'iteration': 815, 'empi_dists_seq': [[(1000, array([0.486, 0.514])), (1000, array([0.486, 0.514])), (1000, array([1., 0.]))]], 'obj_sequence': [array([-0.01979899, -0.01979899,  0.70710678])]}\n",
      "{'iteration': 816, 'empi_dists_seq': [[(1000, array([0.524, 0.476])), (1000, array([0.524, 0.476])), (1000, array([1., 0.]))]], 'obj_sequence': [array([0.03394113, 0.03394113, 0.70710678])]}\n",
      "{'iteration': 817, 'empi_dists_seq': [[(1000, array([0.498, 0.502])), (1000, array([0.498, 0.502])), (1000, array([1., 0.]))]], 'obj_sequence': [array([-0.00282843, -0.00282843,  0.70710678])]}\n",
      "{'iteration': 818, 'empi_dists_seq': [[(1000, array([0.486, 0.514])), (1000, array([0.486, 0.514])), (1000, array([1., 0.]))]], 'obj_sequence': [array([-0.01979899, -0.01979899,  0.70710678])]}\n",
      "{'iteration': 819, 'empi_dists_seq': [[(1000, array([0.528, 0.472])), (1000, array([0.528, 0.472])), (1000, array([1., 0.]))]], 'obj_sequence': [array([0.03959798, 0.03959798, 0.70710678])]}\n",
      "{'iteration': 820, 'empi_dists_seq': [[(1000, array([0.478, 0.522])), (1000, array([0.478, 0.522])), (1000, array([1., 0.]))]], 'obj_sequence': [array([-0.0311127 , -0.0311127 ,  0.70710678])]}\n",
      "{'iteration': 821, 'empi_dists_seq': [[(1000, array([0.482, 0.518])), (1000, array([0.482, 0.518])), (1000, array([1., 0.]))]], 'obj_sequence': [array([-0.02545584, -0.02545584,  0.70710678])]}\n",
      "{'iteration': 822, 'empi_dists_seq': [[(1000, array([0.506, 0.494])), (1000, array([0.506, 0.494])), (1000, array([1., 0.]))]], 'obj_sequence': [array([0.00848528, 0.00848528, 0.70710678])]}\n",
      "{'iteration': 823, 'empi_dists_seq': [[(1000, array([0.508, 0.492])), (1000, array([0.508, 0.492])), (1000, array([1., 0.]))]], 'obj_sequence': [array([0.01131371, 0.01131371, 0.70710678])]}\n",
      "{'iteration': 824, 'empi_dists_seq': [[(1000, array([0.522, 0.478])), (1000, array([0.522, 0.478])), (1000, array([1., 0.]))]], 'obj_sequence': [array([0.0311127 , 0.0311127 , 0.70710678])]}\n",
      "{'iteration': 825, 'empi_dists_seq': [[(1000, array([0.505, 0.495])), (1000, array([0.505, 0.495])), (1000, array([1., 0.]))]], 'obj_sequence': [array([0.00707107, 0.00707107, 0.70710678])]}\n",
      "{'iteration': 826, 'empi_dists_seq': [[(1000, array([0.496, 0.504])), (1000, array([0.496, 0.504])), (1000, array([1., 0.]))]], 'obj_sequence': [array([-0.00565685, -0.00565685,  0.70710678])]}\n",
      "{'iteration': 827, 'empi_dists_seq': [[(1000, array([0.521, 0.479])), (1000, array([0.521, 0.479])), (1000, array([1., 0.]))]], 'obj_sequence': [array([0.02969848, 0.02969848, 0.70710678])]}\n",
      "{'iteration': 828, 'empi_dists_seq': [[(1000, array([0.496, 0.504])), (1000, array([0.496, 0.504])), (1000, array([1., 0.]))]], 'obj_sequence': [array([-0.00565685, -0.00565685,  0.70710678])]}\n",
      "{'iteration': 829, 'empi_dists_seq': [[(1000, array([0.486, 0.514])), (1000, array([0.486, 0.514])), (1000, array([1., 0.]))]], 'obj_sequence': [array([-0.01979899, -0.01979899,  0.70710678])]}\n",
      "{'iteration': 830, 'empi_dists_seq': [[(1000, array([0.494, 0.506])), (1000, array([0.494, 0.506])), (1000, array([1., 0.]))]], 'obj_sequence': [array([-0.00848528, -0.00848528,  0.70710678])]}\n",
      "{'iteration': 831, 'empi_dists_seq': [[(1000, array([0.503, 0.497])), (1000, array([0.503, 0.497])), (1000, array([1., 0.]))]], 'obj_sequence': [array([0.00424264, 0.00424264, 0.70710678])]}\n",
      "{'iteration': 832, 'empi_dists_seq': [[(1000, array([0.501, 0.499])), (1000, array([0.501, 0.499])), (1000, array([1., 0.]))]], 'obj_sequence': [array([0.00141421, 0.00141421, 0.70710678])]}\n",
      "{'iteration': 833, 'empi_dists_seq': [[(1000, array([0.492, 0.508])), (1000, array([0.492, 0.508])), (1000, array([1., 0.]))]], 'obj_sequence': [array([-0.01131371, -0.01131371,  0.70710678])]}\n",
      "{'iteration': 834, 'empi_dists_seq': [[(1000, array([0.488, 0.512])), (1000, array([0.488, 0.512])), (1000, array([1., 0.]))]], 'obj_sequence': [array([-0.01697056, -0.01697056,  0.70710678])]}\n",
      "{'iteration': 835, 'empi_dists_seq': [[(1000, array([0.493, 0.507])), (1000, array([0.493, 0.507])), (1000, array([1., 0.]))]], 'obj_sequence': [array([-0.00989949, -0.00989949,  0.70710678])]}\n",
      "{'iteration': 836, 'empi_dists_seq': [[(1000, array([0.509, 0.491])), (1000, array([0.509, 0.491])), (1000, array([1., 0.]))]], 'obj_sequence': [array([0.01272792, 0.01272792, 0.70710678])]}\n",
      "{'iteration': 837, 'empi_dists_seq': [[(1000, array([0.5, 0.5])), (1000, array([0.5, 0.5])), (1000, array([1., 0.]))]], 'obj_sequence': [array([0.        , 0.        , 0.70710678])]}\n",
      "{'iteration': 838, 'empi_dists_seq': [[(1000, array([0.504, 0.496])), (1000, array([0.504, 0.496])), (1000, array([1., 0.]))]], 'obj_sequence': [array([0.00565685, 0.00565685, 0.70710678])]}\n",
      "{'iteration': 839, 'empi_dists_seq': [[(1000, array([0.497, 0.503])), (1000, array([0.497, 0.503])), (1000, array([1., 0.]))]], 'obj_sequence': [array([-0.00424264, -0.00424264,  0.70710678])]}\n",
      "{'iteration': 840, 'empi_dists_seq': [[(1000, array([0.502, 0.498])), (1000, array([0.502, 0.498])), (1000, array([1., 0.]))]], 'obj_sequence': [array([0.00282843, 0.00282843, 0.70710678])]}\n",
      "{'iteration': 841, 'empi_dists_seq': [[(1000, array([0.511, 0.489])), (1000, array([0.511, 0.489])), (1000, array([1., 0.]))]], 'obj_sequence': [array([0.01555635, 0.01555635, 0.70710678])]}\n",
      "{'iteration': 842, 'empi_dists_seq': [[(1000, array([0.471, 0.529])), (1000, array([0.471, 0.529])), (1000, array([1., 0.]))]], 'obj_sequence': [array([-0.04101219, -0.04101219,  0.70710678])]}\n",
      "{'iteration': 843, 'empi_dists_seq': [[(1000, array([0.489, 0.511])), (1000, array([0.489, 0.511])), (1000, array([1., 0.]))]], 'obj_sequence': [array([-0.01555635, -0.01555635,  0.70710678])]}\n",
      "{'iteration': 844, 'empi_dists_seq': [[(1000, array([0.479, 0.521])), (1000, array([0.479, 0.521])), (1000, array([1., 0.]))]], 'obj_sequence': [array([-0.02969848, -0.02969848,  0.70710678])]}\n",
      "{'iteration': 845, 'empi_dists_seq': [[(1000, array([0.484, 0.516])), (1000, array([0.484, 0.516])), (1000, array([1., 0.]))]], 'obj_sequence': [array([-0.02262742, -0.02262742,  0.70710678])]}\n",
      "{'iteration': 846, 'empi_dists_seq': [[(1000, array([0.51, 0.49])), (1000, array([0.51, 0.49])), (1000, array([1., 0.]))]], 'obj_sequence': [array([0.01414214, 0.01414214, 0.70710678])]}\n",
      "{'iteration': 847, 'empi_dists_seq': [[(1000, array([0.525, 0.475])), (1000, array([0.525, 0.475])), (1000, array([1., 0.]))]], 'obj_sequence': [array([0.03535534, 0.03535534, 0.70710678])]}\n"
     ]
    },
    {
     "name": "stdout",
     "output_type": "stream",
     "text": [
      "{'iteration': 848, 'empi_dists_seq': [[(1000, array([0.518, 0.482])), (1000, array([0.518, 0.482])), (1000, array([1., 0.]))]], 'obj_sequence': [array([0.02545584, 0.02545584, 0.70710678])]}\n",
      "{'iteration': 849, 'empi_dists_seq': [[(1000, array([0.522, 0.478])), (1000, array([0.522, 0.478])), (1000, array([1., 0.]))]], 'obj_sequence': [array([0.0311127 , 0.0311127 , 0.70710678])]}\n",
      "{'iteration': 850, 'empi_dists_seq': [[(1000, array([0.494, 0.506])), (1000, array([0.494, 0.506])), (1000, array([1., 0.]))]], 'obj_sequence': [array([-0.00848528, -0.00848528,  0.70710678])]}\n",
      "{'iteration': 851, 'empi_dists_seq': [[(1000, array([0.544, 0.456])), (1000, array([0.544, 0.456])), (1000, array([1., 0.]))]], 'obj_sequence': [array([0.0622254 , 0.0622254 , 0.70710678])]}\n",
      "{'iteration': 852, 'empi_dists_seq': [[(1000, array([0.489, 0.511])), (1000, array([0.489, 0.511])), (1000, array([1., 0.]))]], 'obj_sequence': [array([-0.01555635, -0.01555635,  0.70710678])]}\n",
      "{'iteration': 853, 'empi_dists_seq': [[(1000, array([0.496, 0.504])), (1000, array([0.496, 0.504])), (1000, array([1., 0.]))]], 'obj_sequence': [array([-0.00565685, -0.00565685,  0.70710678])]}\n",
      "{'iteration': 854, 'empi_dists_seq': [[(1000, array([0.489, 0.511])), (1000, array([0.489, 0.511])), (1000, array([1., 0.]))]], 'obj_sequence': [array([-0.01555635, -0.01555635,  0.70710678])]}\n",
      "{'iteration': 855, 'empi_dists_seq': [[(1000, array([0.5, 0.5])), (1000, array([0.5, 0.5])), (1000, array([1., 0.]))]], 'obj_sequence': [array([0.        , 0.        , 0.70710678])]}\n",
      "{'iteration': 856, 'empi_dists_seq': [[(1000, array([0.5, 0.5])), (1000, array([0.5, 0.5])), (1000, array([1., 0.]))]], 'obj_sequence': [array([0.        , 0.        , 0.70710678])]}\n",
      "{'iteration': 857, 'empi_dists_seq': [[(1000, array([0.515, 0.485])), (1000, array([0.515, 0.485])), (1000, array([1., 0.]))]], 'obj_sequence': [array([0.0212132 , 0.0212132 , 0.70710678])]}\n",
      "{'iteration': 858, 'empi_dists_seq': [[(1000, array([0.459, 0.541])), (1000, array([0.459, 0.541])), (1000, array([1., 0.]))]], 'obj_sequence': [array([-0.05798276, -0.05798276,  0.70710678])]}\n",
      "{'iteration': 859, 'empi_dists_seq': [[(1000, array([0.509, 0.491])), (1000, array([0.509, 0.491])), (1000, array([1., 0.]))]], 'obj_sequence': [array([0.01272792, 0.01272792, 0.70710678])]}\n",
      "{'iteration': 860, 'empi_dists_seq': [[(1000, array([0.506, 0.494])), (1000, array([0.506, 0.494])), (1000, array([1., 0.]))]], 'obj_sequence': [array([0.00848528, 0.00848528, 0.70710678])]}\n",
      "{'iteration': 861, 'empi_dists_seq': [[(1000, array([0.524, 0.476])), (1000, array([0.524, 0.476])), (1000, array([1., 0.]))]], 'obj_sequence': [array([0.03394113, 0.03394113, 0.70710678])]}\n",
      "{'iteration': 862, 'empi_dists_seq': [[(1000, array([0.532, 0.468])), (1000, array([0.532, 0.468])), (1000, array([1., 0.]))]], 'obj_sequence': [array([0.04525483, 0.04525483, 0.70710678])]}\n",
      "{'iteration': 863, 'empi_dists_seq': [[(1000, array([0.495, 0.505])), (1000, array([0.495, 0.505])), (1000, array([1., 0.]))]], 'obj_sequence': [array([-0.00707107, -0.00707107,  0.70710678])]}\n",
      "{'iteration': 864, 'empi_dists_seq': [[(1000, array([0.502, 0.498])), (1000, array([0.502, 0.498])), (1000, array([1., 0.]))]], 'obj_sequence': [array([0.00282843, 0.00282843, 0.70710678])]}\n",
      "{'iteration': 865, 'empi_dists_seq': [[(1000, array([0.47, 0.53])), (1000, array([0.47, 0.53])), (1000, array([1., 0.]))]], 'obj_sequence': [array([-0.04242641, -0.04242641,  0.70710678])]}\n",
      "{'iteration': 866, 'empi_dists_seq': [[(1000, array([0.497, 0.503])), (1000, array([0.497, 0.503])), (1000, array([1., 0.]))]], 'obj_sequence': [array([-0.00424264, -0.00424264,  0.70710678])]}\n",
      "{'iteration': 867, 'empi_dists_seq': [[(1000, array([0.508, 0.492])), (1000, array([0.508, 0.492])), (1000, array([1., 0.]))]], 'obj_sequence': [array([0.01131371, 0.01131371, 0.70710678])]}\n",
      "{'iteration': 868, 'empi_dists_seq': [[(1000, array([0.528, 0.472])), (1000, array([0.528, 0.472])), (1000, array([1., 0.]))]], 'obj_sequence': [array([0.03959798, 0.03959798, 0.70710678])]}\n",
      "{'iteration': 869, 'empi_dists_seq': [[(1000, array([0.505, 0.495])), (1000, array([0.505, 0.495])), (1000, array([1., 0.]))]], 'obj_sequence': [array([0.00707107, 0.00707107, 0.70710678])]}\n",
      "{'iteration': 870, 'empi_dists_seq': [[(1000, array([0.495, 0.505])), (1000, array([0.495, 0.505])), (1000, array([1., 0.]))]], 'obj_sequence': [array([-0.00707107, -0.00707107,  0.70710678])]}\n",
      "{'iteration': 871, 'empi_dists_seq': [[(1000, array([0.497, 0.503])), (1000, array([0.497, 0.503])), (1000, array([1., 0.]))]], 'obj_sequence': [array([-0.00424264, -0.00424264,  0.70710678])]}\n",
      "{'iteration': 872, 'empi_dists_seq': [[(1000, array([0.477, 0.523])), (1000, array([0.477, 0.523])), (1000, array([1., 0.]))]], 'obj_sequence': [array([-0.03252691, -0.03252691,  0.70710678])]}\n",
      "{'iteration': 873, 'empi_dists_seq': [[(1000, array([0.509, 0.491])), (1000, array([0.509, 0.491])), (1000, array([1., 0.]))]], 'obj_sequence': [array([0.01272792, 0.01272792, 0.70710678])]}\n",
      "{'iteration': 874, 'empi_dists_seq': [[(1000, array([0.496, 0.504])), (1000, array([0.496, 0.504])), (1000, array([1., 0.]))]], 'obj_sequence': [array([-0.00565685, -0.00565685,  0.70710678])]}\n",
      "{'iteration': 875, 'empi_dists_seq': [[(1000, array([0.483, 0.517])), (1000, array([0.483, 0.517])), (1000, array([1., 0.]))]], 'obj_sequence': [array([-0.02404163, -0.02404163,  0.70710678])]}\n",
      "{'iteration': 876, 'empi_dists_seq': [[(1000, array([0.498, 0.502])), (1000, array([0.498, 0.502])), (1000, array([1., 0.]))]], 'obj_sequence': [array([-0.00282843, -0.00282843,  0.70710678])]}\n",
      "{'iteration': 877, 'empi_dists_seq': [[(1000, array([0.496, 0.504])), (1000, array([0.496, 0.504])), (1000, array([1., 0.]))]], 'obj_sequence': [array([-0.00565685, -0.00565685,  0.70710678])]}\n",
      "{'iteration': 878, 'empi_dists_seq': [[(1000, array([0.499, 0.501])), (1000, array([0.499, 0.501])), (1000, array([1., 0.]))]], 'obj_sequence': [array([-0.00141421, -0.00141421,  0.70710678])]}\n",
      "{'iteration': 879, 'empi_dists_seq': [[(1000, array([0.514, 0.486])), (1000, array([0.514, 0.486])), (1000, array([1., 0.]))]], 'obj_sequence': [array([0.01979899, 0.01979899, 0.70710678])]}\n",
      "{'iteration': 880, 'empi_dists_seq': [[(1000, array([0.509, 0.491])), (1000, array([0.509, 0.491])), (1000, array([1., 0.]))]], 'obj_sequence': [array([0.01272792, 0.01272792, 0.70710678])]}\n",
      "{'iteration': 881, 'empi_dists_seq': [[(1000, array([0.512, 0.488])), (1000, array([0.512, 0.488])), (1000, array([1., 0.]))]], 'obj_sequence': [array([0.01697056, 0.01697056, 0.70710678])]}\n",
      "{'iteration': 882, 'empi_dists_seq': [[(1000, array([0.5, 0.5])), (1000, array([0.5, 0.5])), (1000, array([1., 0.]))]], 'obj_sequence': [array([0.        , 0.        , 0.70710678])]}\n",
      "{'iteration': 883, 'empi_dists_seq': [[(1000, array([0.491, 0.509])), (1000, array([0.491, 0.509])), (1000, array([1., 0.]))]], 'obj_sequence': [array([-0.01272792, -0.01272792,  0.70710678])]}\n",
      "{'iteration': 884, 'empi_dists_seq': [[(1000, array([0.51, 0.49])), (1000, array([0.51, 0.49])), (1000, array([1., 0.]))]], 'obj_sequence': [array([0.01414214, 0.01414214, 0.70710678])]}\n",
      "{'iteration': 885, 'empi_dists_seq': [[(1000, array([0.491, 0.509])), (1000, array([0.491, 0.509])), (1000, array([1., 0.]))]], 'obj_sequence': [array([-0.01272792, -0.01272792,  0.70710678])]}\n",
      "{'iteration': 886, 'empi_dists_seq': [[(1000, array([0.501, 0.499])), (1000, array([0.501, 0.499])), (1000, array([1., 0.]))]], 'obj_sequence': [array([0.00141421, 0.00141421, 0.70710678])]}\n",
      "{'iteration': 887, 'empi_dists_seq': [[(1000, array([0.479, 0.521])), (1000, array([0.479, 0.521])), (1000, array([1., 0.]))]], 'obj_sequence': [array([-0.02969848, -0.02969848,  0.70710678])]}\n",
      "{'iteration': 888, 'empi_dists_seq': [[(1000, array([0.48, 0.52])), (1000, array([0.48, 0.52])), (1000, array([1., 0.]))]], 'obj_sequence': [array([-0.02828427, -0.02828427,  0.70710678])]}\n",
      "{'iteration': 889, 'empi_dists_seq': [[(1000, array([0.494, 0.506])), (1000, array([0.494, 0.506])), (1000, array([1., 0.]))]], 'obj_sequence': [array([-0.00848528, -0.00848528,  0.70710678])]}\n",
      "{'iteration': 890, 'empi_dists_seq': [[(1000, array([0.508, 0.492])), (1000, array([0.508, 0.492])), (1000, array([1., 0.]))]], 'obj_sequence': [array([0.01131371, 0.01131371, 0.70710678])]}\n",
      "{'iteration': 891, 'empi_dists_seq': [[(1000, array([0.502, 0.498])), (1000, array([0.502, 0.498])), (1000, array([1., 0.]))]], 'obj_sequence': [array([0.00282843, 0.00282843, 0.70710678])]}\n",
      "{'iteration': 892, 'empi_dists_seq': [[(1000, array([0.477, 0.523])), (1000, array([0.477, 0.523])), (1000, array([1., 0.]))]], 'obj_sequence': [array([-0.03252691, -0.03252691,  0.70710678])]}\n"
     ]
    },
    {
     "name": "stdout",
     "output_type": "stream",
     "text": [
      "{'iteration': 893, 'empi_dists_seq': [[(1000, array([0.516, 0.484])), (1000, array([0.516, 0.484])), (1000, array([1., 0.]))]], 'obj_sequence': [array([0.02262742, 0.02262742, 0.70710678])]}\n",
      "{'iteration': 894, 'empi_dists_seq': [[(1000, array([0.494, 0.506])), (1000, array([0.494, 0.506])), (1000, array([1., 0.]))]], 'obj_sequence': [array([-0.00848528, -0.00848528,  0.70710678])]}\n",
      "{'iteration': 895, 'empi_dists_seq': [[(1000, array([0.505, 0.495])), (1000, array([0.505, 0.495])), (1000, array([1., 0.]))]], 'obj_sequence': [array([0.00707107, 0.00707107, 0.70710678])]}\n",
      "{'iteration': 896, 'empi_dists_seq': [[(1000, array([0.516, 0.484])), (1000, array([0.516, 0.484])), (1000, array([1., 0.]))]], 'obj_sequence': [array([0.02262742, 0.02262742, 0.70710678])]}\n",
      "{'iteration': 897, 'empi_dists_seq': [[(1000, array([0.486, 0.514])), (1000, array([0.486, 0.514])), (1000, array([1., 0.]))]], 'obj_sequence': [array([-0.01979899, -0.01979899,  0.70710678])]}\n",
      "{'iteration': 898, 'empi_dists_seq': [[(1000, array([0.496, 0.504])), (1000, array([0.496, 0.504])), (1000, array([1., 0.]))]], 'obj_sequence': [array([-0.00565685, -0.00565685,  0.70710678])]}\n",
      "{'iteration': 899, 'empi_dists_seq': [[(1000, array([0.508, 0.492])), (1000, array([0.508, 0.492])), (1000, array([1., 0.]))]], 'obj_sequence': [array([0.01131371, 0.01131371, 0.70710678])]}\n",
      "{'iteration': 900, 'empi_dists_seq': [[(1000, array([0.513, 0.487])), (1000, array([0.513, 0.487])), (1000, array([1., 0.]))]], 'obj_sequence': [array([0.01838478, 0.01838478, 0.70710678])]}\n",
      "{'iteration': 901, 'empi_dists_seq': [[(1000, array([0.506, 0.494])), (1000, array([0.506, 0.494])), (1000, array([1., 0.]))]], 'obj_sequence': [array([0.00848528, 0.00848528, 0.70710678])]}\n",
      "{'iteration': 902, 'empi_dists_seq': [[(1000, array([0.505, 0.495])), (1000, array([0.505, 0.495])), (1000, array([1., 0.]))]], 'obj_sequence': [array([0.00707107, 0.00707107, 0.70710678])]}\n",
      "{'iteration': 903, 'empi_dists_seq': [[(1000, array([0.5, 0.5])), (1000, array([0.5, 0.5])), (1000, array([1., 0.]))]], 'obj_sequence': [array([0.        , 0.        , 0.70710678])]}\n",
      "{'iteration': 904, 'empi_dists_seq': [[(1000, array([0.514, 0.486])), (1000, array([0.514, 0.486])), (1000, array([1., 0.]))]], 'obj_sequence': [array([0.01979899, 0.01979899, 0.70710678])]}\n",
      "{'iteration': 905, 'empi_dists_seq': [[(1000, array([0.496, 0.504])), (1000, array([0.496, 0.504])), (1000, array([1., 0.]))]], 'obj_sequence': [array([-0.00565685, -0.00565685,  0.70710678])]}\n",
      "{'iteration': 906, 'empi_dists_seq': [[(1000, array([0.495, 0.505])), (1000, array([0.495, 0.505])), (1000, array([1., 0.]))]], 'obj_sequence': [array([-0.00707107, -0.00707107,  0.70710678])]}\n",
      "{'iteration': 907, 'empi_dists_seq': [[(1000, array([0.492, 0.508])), (1000, array([0.492, 0.508])), (1000, array([1., 0.]))]], 'obj_sequence': [array([-0.01131371, -0.01131371,  0.70710678])]}\n",
      "{'iteration': 908, 'empi_dists_seq': [[(1000, array([0.513, 0.487])), (1000, array([0.513, 0.487])), (1000, array([1., 0.]))]], 'obj_sequence': [array([0.01838478, 0.01838478, 0.70710678])]}\n",
      "{'iteration': 909, 'empi_dists_seq': [[(1000, array([0.509, 0.491])), (1000, array([0.509, 0.491])), (1000, array([1., 0.]))]], 'obj_sequence': [array([0.01272792, 0.01272792, 0.70710678])]}\n",
      "{'iteration': 910, 'empi_dists_seq': [[(1000, array([0.468, 0.532])), (1000, array([0.468, 0.532])), (1000, array([1., 0.]))]], 'obj_sequence': [array([-0.04525483, -0.04525483,  0.70710678])]}\n",
      "{'iteration': 911, 'empi_dists_seq': [[(1000, array([0.489, 0.511])), (1000, array([0.489, 0.511])), (1000, array([1., 0.]))]], 'obj_sequence': [array([-0.01555635, -0.01555635,  0.70710678])]}\n",
      "{'iteration': 912, 'empi_dists_seq': [[(1000, array([0.515, 0.485])), (1000, array([0.515, 0.485])), (1000, array([1., 0.]))]], 'obj_sequence': [array([0.0212132 , 0.0212132 , 0.70710678])]}\n",
      "{'iteration': 913, 'empi_dists_seq': [[(1000, array([0.517, 0.483])), (1000, array([0.517, 0.483])), (1000, array([1., 0.]))]], 'obj_sequence': [array([0.02404163, 0.02404163, 0.70710678])]}\n",
      "{'iteration': 914, 'empi_dists_seq': [[(1000, array([0.503, 0.497])), (1000, array([0.503, 0.497])), (1000, array([1., 0.]))]], 'obj_sequence': [array([0.00424264, 0.00424264, 0.70710678])]}\n",
      "{'iteration': 915, 'empi_dists_seq': [[(1000, array([0.489, 0.511])), (1000, array([0.489, 0.511])), (1000, array([1., 0.]))]], 'obj_sequence': [array([-0.01555635, -0.01555635,  0.70710678])]}\n",
      "{'iteration': 916, 'empi_dists_seq': [[(1000, array([0.526, 0.474])), (1000, array([0.526, 0.474])), (1000, array([1., 0.]))]], 'obj_sequence': [array([0.03676955, 0.03676955, 0.70710678])]}\n",
      "{'iteration': 917, 'empi_dists_seq': [[(1000, array([0.489, 0.511])), (1000, array([0.489, 0.511])), (1000, array([1., 0.]))]], 'obj_sequence': [array([-0.01555635, -0.01555635,  0.70710678])]}\n",
      "{'iteration': 918, 'empi_dists_seq': [[(1000, array([0.5, 0.5])), (1000, array([0.5, 0.5])), (1000, array([1., 0.]))]], 'obj_sequence': [array([0.        , 0.        , 0.70710678])]}\n",
      "{'iteration': 919, 'empi_dists_seq': [[(1000, array([0.509, 0.491])), (1000, array([0.509, 0.491])), (1000, array([1., 0.]))]], 'obj_sequence': [array([0.01272792, 0.01272792, 0.70710678])]}\n",
      "{'iteration': 920, 'empi_dists_seq': [[(1000, array([0.509, 0.491])), (1000, array([0.509, 0.491])), (1000, array([1., 0.]))]], 'obj_sequence': [array([0.01272792, 0.01272792, 0.70710678])]}\n",
      "{'iteration': 921, 'empi_dists_seq': [[(1000, array([0.491, 0.509])), (1000, array([0.491, 0.509])), (1000, array([1., 0.]))]], 'obj_sequence': [array([-0.01272792, -0.01272792,  0.70710678])]}\n",
      "{'iteration': 922, 'empi_dists_seq': [[(1000, array([0.477, 0.523])), (1000, array([0.477, 0.523])), (1000, array([1., 0.]))]], 'obj_sequence': [array([-0.03252691, -0.03252691,  0.70710678])]}\n",
      "{'iteration': 923, 'empi_dists_seq': [[(1000, array([0.493, 0.507])), (1000, array([0.493, 0.507])), (1000, array([1., 0.]))]], 'obj_sequence': [array([-0.00989949, -0.00989949,  0.70710678])]}\n",
      "{'iteration': 924, 'empi_dists_seq': [[(1000, array([0.515, 0.485])), (1000, array([0.515, 0.485])), (1000, array([1., 0.]))]], 'obj_sequence': [array([0.0212132 , 0.0212132 , 0.70710678])]}\n",
      "{'iteration': 925, 'empi_dists_seq': [[(1000, array([0.485, 0.515])), (1000, array([0.485, 0.515])), (1000, array([1., 0.]))]], 'obj_sequence': [array([-0.0212132 , -0.0212132 ,  0.70710678])]}\n",
      "{'iteration': 926, 'empi_dists_seq': [[(1000, array([0.497, 0.503])), (1000, array([0.497, 0.503])), (1000, array([1., 0.]))]], 'obj_sequence': [array([-0.00424264, -0.00424264,  0.70710678])]}\n",
      "{'iteration': 927, 'empi_dists_seq': [[(1000, array([0.516, 0.484])), (1000, array([0.516, 0.484])), (1000, array([1., 0.]))]], 'obj_sequence': [array([0.02262742, 0.02262742, 0.70710678])]}\n",
      "{'iteration': 928, 'empi_dists_seq': [[(1000, array([0.521, 0.479])), (1000, array([0.521, 0.479])), (1000, array([1., 0.]))]], 'obj_sequence': [array([0.02969848, 0.02969848, 0.70710678])]}\n",
      "{'iteration': 929, 'empi_dists_seq': [[(1000, array([0.496, 0.504])), (1000, array([0.496, 0.504])), (1000, array([1., 0.]))]], 'obj_sequence': [array([-0.00565685, -0.00565685,  0.70710678])]}\n",
      "{'iteration': 930, 'empi_dists_seq': [[(1000, array([0.485, 0.515])), (1000, array([0.485, 0.515])), (1000, array([1., 0.]))]], 'obj_sequence': [array([-0.0212132 , -0.0212132 ,  0.70710678])]}\n",
      "{'iteration': 931, 'empi_dists_seq': [[(1000, array([0.481, 0.519])), (1000, array([0.481, 0.519])), (1000, array([1., 0.]))]], 'obj_sequence': [array([-0.02687006, -0.02687006,  0.70710678])]}\n",
      "{'iteration': 932, 'empi_dists_seq': [[(1000, array([0.516, 0.484])), (1000, array([0.516, 0.484])), (1000, array([1., 0.]))]], 'obj_sequence': [array([0.02262742, 0.02262742, 0.70710678])]}\n",
      "{'iteration': 933, 'empi_dists_seq': [[(1000, array([0.49, 0.51])), (1000, array([0.49, 0.51])), (1000, array([1., 0.]))]], 'obj_sequence': [array([-0.01414214, -0.01414214,  0.70710678])]}\n",
      "{'iteration': 934, 'empi_dists_seq': [[(1000, array([0.529, 0.471])), (1000, array([0.529, 0.471])), (1000, array([1., 0.]))]], 'obj_sequence': [array([0.04101219, 0.04101219, 0.70710678])]}\n",
      "{'iteration': 935, 'empi_dists_seq': [[(1000, array([0.503, 0.497])), (1000, array([0.503, 0.497])), (1000, array([1., 0.]))]], 'obj_sequence': [array([0.00424264, 0.00424264, 0.70710678])]}\n",
      "{'iteration': 936, 'empi_dists_seq': [[(1000, array([0.504, 0.496])), (1000, array([0.504, 0.496])), (1000, array([1., 0.]))]], 'obj_sequence': [array([0.00565685, 0.00565685, 0.70710678])]}\n",
      "{'iteration': 937, 'empi_dists_seq': [[(1000, array([0.509, 0.491])), (1000, array([0.509, 0.491])), (1000, array([1., 0.]))]], 'obj_sequence': [array([0.01272792, 0.01272792, 0.70710678])]}\n",
      "{'iteration': 938, 'empi_dists_seq': [[(1000, array([0.487, 0.513])), (1000, array([0.487, 0.513])), (1000, array([1., 0.]))]], 'obj_sequence': [array([-0.01838478, -0.01838478,  0.70710678])]}\n",
      "{'iteration': 939, 'empi_dists_seq': [[(1000, array([0.536, 0.464])), (1000, array([0.536, 0.464])), (1000, array([1., 0.]))]], 'obj_sequence': [array([0.05091169, 0.05091169, 0.70710678])]}\n",
      "{'iteration': 940, 'empi_dists_seq': [[(1000, array([0.521, 0.479])), (1000, array([0.521, 0.479])), (1000, array([1., 0.]))]], 'obj_sequence': [array([0.02969848, 0.02969848, 0.70710678])]}\n",
      "{'iteration': 941, 'empi_dists_seq': [[(1000, array([0.49, 0.51])), (1000, array([0.49, 0.51])), (1000, array([1., 0.]))]], 'obj_sequence': [array([-0.01414214, -0.01414214,  0.70710678])]}\n"
     ]
    },
    {
     "name": "stdout",
     "output_type": "stream",
     "text": [
      "{'iteration': 942, 'empi_dists_seq': [[(1000, array([0.47, 0.53])), (1000, array([0.47, 0.53])), (1000, array([1., 0.]))]], 'obj_sequence': [array([-0.04242641, -0.04242641,  0.70710678])]}\n",
      "{'iteration': 943, 'empi_dists_seq': [[(1000, array([0.502, 0.498])), (1000, array([0.502, 0.498])), (1000, array([1., 0.]))]], 'obj_sequence': [array([0.00282843, 0.00282843, 0.70710678])]}\n",
      "{'iteration': 944, 'empi_dists_seq': [[(1000, array([0.525, 0.475])), (1000, array([0.525, 0.475])), (1000, array([1., 0.]))]], 'obj_sequence': [array([0.03535534, 0.03535534, 0.70710678])]}\n",
      "{'iteration': 945, 'empi_dists_seq': [[(1000, array([0.501, 0.499])), (1000, array([0.501, 0.499])), (1000, array([1., 0.]))]], 'obj_sequence': [array([0.00141421, 0.00141421, 0.70710678])]}\n",
      "{'iteration': 946, 'empi_dists_seq': [[(1000, array([0.482, 0.518])), (1000, array([0.482, 0.518])), (1000, array([1., 0.]))]], 'obj_sequence': [array([-0.02545584, -0.02545584,  0.70710678])]}\n",
      "{'iteration': 947, 'empi_dists_seq': [[(1000, array([0.507, 0.493])), (1000, array([0.507, 0.493])), (1000, array([1., 0.]))]], 'obj_sequence': [array([0.00989949, 0.00989949, 0.70710678])]}\n",
      "{'iteration': 948, 'empi_dists_seq': [[(1000, array([0.522, 0.478])), (1000, array([0.522, 0.478])), (1000, array([1., 0.]))]], 'obj_sequence': [array([0.0311127 , 0.0311127 , 0.70710678])]}\n",
      "{'iteration': 949, 'empi_dists_seq': [[(1000, array([0.495, 0.505])), (1000, array([0.495, 0.505])), (1000, array([1., 0.]))]], 'obj_sequence': [array([-0.00707107, -0.00707107,  0.70710678])]}\n",
      "{'iteration': 950, 'empi_dists_seq': [[(1000, array([0.5, 0.5])), (1000, array([0.5, 0.5])), (1000, array([1., 0.]))]], 'obj_sequence': [array([0.        , 0.        , 0.70710678])]}\n",
      "{'iteration': 951, 'empi_dists_seq': [[(1000, array([0.483, 0.517])), (1000, array([0.483, 0.517])), (1000, array([1., 0.]))]], 'obj_sequence': [array([-0.02404163, -0.02404163,  0.70710678])]}\n",
      "{'iteration': 952, 'empi_dists_seq': [[(1000, array([0.481, 0.519])), (1000, array([0.481, 0.519])), (1000, array([1., 0.]))]], 'obj_sequence': [array([-0.02687006, -0.02687006,  0.70710678])]}\n",
      "{'iteration': 953, 'empi_dists_seq': [[(1000, array([0.506, 0.494])), (1000, array([0.506, 0.494])), (1000, array([1., 0.]))]], 'obj_sequence': [array([0.00848528, 0.00848528, 0.70710678])]}\n",
      "{'iteration': 954, 'empi_dists_seq': [[(1000, array([0.455, 0.545])), (1000, array([0.455, 0.545])), (1000, array([1., 0.]))]], 'obj_sequence': [array([-0.06363961, -0.06363961,  0.70710678])]}\n",
      "{'iteration': 955, 'empi_dists_seq': [[(1000, array([0.513, 0.487])), (1000, array([0.513, 0.487])), (1000, array([1., 0.]))]], 'obj_sequence': [array([0.01838478, 0.01838478, 0.70710678])]}\n",
      "{'iteration': 956, 'empi_dists_seq': [[(1000, array([0.522, 0.478])), (1000, array([0.522, 0.478])), (1000, array([1., 0.]))]], 'obj_sequence': [array([0.0311127 , 0.0311127 , 0.70710678])]}\n",
      "{'iteration': 957, 'empi_dists_seq': [[(1000, array([0.46, 0.54])), (1000, array([0.46, 0.54])), (1000, array([1., 0.]))]], 'obj_sequence': [array([-0.05656854, -0.05656854,  0.70710678])]}\n",
      "{'iteration': 958, 'empi_dists_seq': [[(1000, array([0.497, 0.503])), (1000, array([0.497, 0.503])), (1000, array([1., 0.]))]], 'obj_sequence': [array([-0.00424264, -0.00424264,  0.70710678])]}\n",
      "{'iteration': 959, 'empi_dists_seq': [[(1000, array([0.527, 0.473])), (1000, array([0.527, 0.473])), (1000, array([1., 0.]))]], 'obj_sequence': [array([0.03818377, 0.03818377, 0.70710678])]}\n",
      "{'iteration': 960, 'empi_dists_seq': [[(1000, array([0.497, 0.503])), (1000, array([0.497, 0.503])), (1000, array([1., 0.]))]], 'obj_sequence': [array([-0.00424264, -0.00424264,  0.70710678])]}\n",
      "{'iteration': 961, 'empi_dists_seq': [[(1000, array([0.52, 0.48])), (1000, array([0.52, 0.48])), (1000, array([1., 0.]))]], 'obj_sequence': [array([0.02828427, 0.02828427, 0.70710678])]}\n",
      "{'iteration': 962, 'empi_dists_seq': [[(1000, array([0.475, 0.525])), (1000, array([0.475, 0.525])), (1000, array([1., 0.]))]], 'obj_sequence': [array([-0.03535534, -0.03535534,  0.70710678])]}\n",
      "{'iteration': 963, 'empi_dists_seq': [[(1000, array([0.503, 0.497])), (1000, array([0.503, 0.497])), (1000, array([1., 0.]))]], 'obj_sequence': [array([0.00424264, 0.00424264, 0.70710678])]}\n",
      "{'iteration': 964, 'empi_dists_seq': [[(1000, array([0.506, 0.494])), (1000, array([0.506, 0.494])), (1000, array([1., 0.]))]], 'obj_sequence': [array([0.00848528, 0.00848528, 0.70710678])]}\n",
      "{'iteration': 965, 'empi_dists_seq': [[(1000, array([0.493, 0.507])), (1000, array([0.493, 0.507])), (1000, array([1., 0.]))]], 'obj_sequence': [array([-0.00989949, -0.00989949,  0.70710678])]}\n",
      "{'iteration': 966, 'empi_dists_seq': [[(1000, array([0.482, 0.518])), (1000, array([0.482, 0.518])), (1000, array([1., 0.]))]], 'obj_sequence': [array([-0.02545584, -0.02545584,  0.70710678])]}\n",
      "{'iteration': 967, 'empi_dists_seq': [[(1000, array([0.506, 0.494])), (1000, array([0.506, 0.494])), (1000, array([1., 0.]))]], 'obj_sequence': [array([0.00848528, 0.00848528, 0.70710678])]}\n",
      "{'iteration': 968, 'empi_dists_seq': [[(1000, array([0.512, 0.488])), (1000, array([0.512, 0.488])), (1000, array([1., 0.]))]], 'obj_sequence': [array([0.01697056, 0.01697056, 0.70710678])]}\n",
      "{'iteration': 969, 'empi_dists_seq': [[(1000, array([0.501, 0.499])), (1000, array([0.501, 0.499])), (1000, array([1., 0.]))]], 'obj_sequence': [array([0.00141421, 0.00141421, 0.70710678])]}\n",
      "{'iteration': 970, 'empi_dists_seq': [[(1000, array([0.495, 0.505])), (1000, array([0.495, 0.505])), (1000, array([1., 0.]))]], 'obj_sequence': [array([-0.00707107, -0.00707107,  0.70710678])]}\n",
      "{'iteration': 971, 'empi_dists_seq': [[(1000, array([0.488, 0.512])), (1000, array([0.488, 0.512])), (1000, array([1., 0.]))]], 'obj_sequence': [array([-0.01697056, -0.01697056,  0.70710678])]}\n",
      "{'iteration': 972, 'empi_dists_seq': [[(1000, array([0.515, 0.485])), (1000, array([0.515, 0.485])), (1000, array([1., 0.]))]], 'obj_sequence': [array([0.0212132 , 0.0212132 , 0.70710678])]}\n",
      "{'iteration': 973, 'empi_dists_seq': [[(1000, array([0.52, 0.48])), (1000, array([0.52, 0.48])), (1000, array([1., 0.]))]], 'obj_sequence': [array([0.02828427, 0.02828427, 0.70710678])]}\n",
      "{'iteration': 974, 'empi_dists_seq': [[(1000, array([0.472, 0.528])), (1000, array([0.472, 0.528])), (1000, array([1., 0.]))]], 'obj_sequence': [array([-0.03959798, -0.03959798,  0.70710678])]}\n",
      "{'iteration': 975, 'empi_dists_seq': [[(1000, array([0.502, 0.498])), (1000, array([0.502, 0.498])), (1000, array([1., 0.]))]], 'obj_sequence': [array([0.00282843, 0.00282843, 0.70710678])]}\n",
      "{'iteration': 976, 'empi_dists_seq': [[(1000, array([0.515, 0.485])), (1000, array([0.515, 0.485])), (1000, array([1., 0.]))]], 'obj_sequence': [array([0.0212132 , 0.0212132 , 0.70710678])]}\n",
      "{'iteration': 977, 'empi_dists_seq': [[(1000, array([0.517, 0.483])), (1000, array([0.517, 0.483])), (1000, array([1., 0.]))]], 'obj_sequence': [array([0.02404163, 0.02404163, 0.70710678])]}\n",
      "{'iteration': 978, 'empi_dists_seq': [[(1000, array([0.518, 0.482])), (1000, array([0.518, 0.482])), (1000, array([1., 0.]))]], 'obj_sequence': [array([0.02545584, 0.02545584, 0.70710678])]}\n",
      "{'iteration': 979, 'empi_dists_seq': [[(1000, array([0.506, 0.494])), (1000, array([0.506, 0.494])), (1000, array([1., 0.]))]], 'obj_sequence': [array([0.00848528, 0.00848528, 0.70710678])]}\n",
      "{'iteration': 980, 'empi_dists_seq': [[(1000, array([0.492, 0.508])), (1000, array([0.492, 0.508])), (1000, array([1., 0.]))]], 'obj_sequence': [array([-0.01131371, -0.01131371,  0.70710678])]}\n",
      "{'iteration': 981, 'empi_dists_seq': [[(1000, array([0.514, 0.486])), (1000, array([0.514, 0.486])), (1000, array([1., 0.]))]], 'obj_sequence': [array([0.01979899, 0.01979899, 0.70710678])]}\n",
      "{'iteration': 982, 'empi_dists_seq': [[(1000, array([0.485, 0.515])), (1000, array([0.485, 0.515])), (1000, array([1., 0.]))]], 'obj_sequence': [array([-0.0212132 , -0.0212132 ,  0.70710678])]}\n",
      "{'iteration': 983, 'empi_dists_seq': [[(1000, array([0.5, 0.5])), (1000, array([0.5, 0.5])), (1000, array([1., 0.]))]], 'obj_sequence': [array([0.        , 0.        , 0.70710678])]}\n",
      "{'iteration': 984, 'empi_dists_seq': [[(1000, array([0.501, 0.499])), (1000, array([0.501, 0.499])), (1000, array([1., 0.]))]], 'obj_sequence': [array([0.00141421, 0.00141421, 0.70710678])]}\n",
      "{'iteration': 985, 'empi_dists_seq': [[(1000, array([0.514, 0.486])), (1000, array([0.514, 0.486])), (1000, array([1., 0.]))]], 'obj_sequence': [array([0.01979899, 0.01979899, 0.70710678])]}\n",
      "{'iteration': 986, 'empi_dists_seq': [[(1000, array([0.462, 0.538])), (1000, array([0.462, 0.538])), (1000, array([1., 0.]))]], 'obj_sequence': [array([-0.05374012, -0.05374012,  0.70710678])]}\n"
     ]
    },
    {
     "name": "stdout",
     "output_type": "stream",
     "text": [
      "{'iteration': 987, 'empi_dists_seq': [[(1000, array([0.503, 0.497])), (1000, array([0.503, 0.497])), (1000, array([1., 0.]))]], 'obj_sequence': [array([0.00424264, 0.00424264, 0.70710678])]}\n",
      "{'iteration': 988, 'empi_dists_seq': [[(1000, array([0.502, 0.498])), (1000, array([0.502, 0.498])), (1000, array([1., 0.]))]], 'obj_sequence': [array([0.00282843, 0.00282843, 0.70710678])]}\n",
      "{'iteration': 989, 'empi_dists_seq': [[(1000, array([0.508, 0.492])), (1000, array([0.508, 0.492])), (1000, array([1., 0.]))]], 'obj_sequence': [array([0.01131371, 0.01131371, 0.70710678])]}\n",
      "{'iteration': 990, 'empi_dists_seq': [[(1000, array([0.509, 0.491])), (1000, array([0.509, 0.491])), (1000, array([1., 0.]))]], 'obj_sequence': [array([0.01272792, 0.01272792, 0.70710678])]}\n",
      "{'iteration': 991, 'empi_dists_seq': [[(1000, array([0.502, 0.498])), (1000, array([0.502, 0.498])), (1000, array([1., 0.]))]], 'obj_sequence': [array([0.00282843, 0.00282843, 0.70710678])]}\n",
      "{'iteration': 992, 'empi_dists_seq': [[(1000, array([0.494, 0.506])), (1000, array([0.494, 0.506])), (1000, array([1., 0.]))]], 'obj_sequence': [array([-0.00848528, -0.00848528,  0.70710678])]}\n",
      "{'iteration': 993, 'empi_dists_seq': [[(1000, array([0.528, 0.472])), (1000, array([0.528, 0.472])), (1000, array([1., 0.]))]], 'obj_sequence': [array([0.03959798, 0.03959798, 0.70710678])]}\n",
      "{'iteration': 994, 'empi_dists_seq': [[(1000, array([0.486, 0.514])), (1000, array([0.486, 0.514])), (1000, array([1., 0.]))]], 'obj_sequence': [array([-0.01979899, -0.01979899,  0.70710678])]}\n",
      "{'iteration': 995, 'empi_dists_seq': [[(1000, array([0.506, 0.494])), (1000, array([0.506, 0.494])), (1000, array([1., 0.]))]], 'obj_sequence': [array([0.00848528, 0.00848528, 0.70710678])]}\n",
      "{'iteration': 996, 'empi_dists_seq': [[(1000, array([0.528, 0.472])), (1000, array([0.528, 0.472])), (1000, array([1., 0.]))]], 'obj_sequence': [array([0.03959798, 0.03959798, 0.70710678])]}\n",
      "{'iteration': 997, 'empi_dists_seq': [[(1000, array([0.487, 0.513])), (1000, array([0.487, 0.513])), (1000, array([1., 0.]))]], 'obj_sequence': [array([-0.01838478, -0.01838478,  0.70710678])]}\n",
      "{'iteration': 998, 'empi_dists_seq': [[(1000, array([0.494, 0.506])), (1000, array([0.494, 0.506])), (1000, array([1., 0.]))]], 'obj_sequence': [array([-0.00848528, -0.00848528,  0.70710678])]}\n",
      "{'iteration': 999, 'empi_dists_seq': [[(1000, array([0.492, 0.508])), (1000, array([0.492, 0.508])), (1000, array([1., 0.]))]], 'obj_sequence': [array([-0.01131371, -0.01131371,  0.70710678])]}\n",
      "time(s)=12.98716688156128\n",
      "{'iteration': 0, 'empi_dists_seq': [[(1000, array([0.517, 0.483])), (1000, array([0.517, 0.483])), (1000, array([1., 0.]))]], 'obj_sequence': [array([0.70710678, 0.02404163, 0.02404163, 0.70710678])]}\n",
      "{'iteration': 1, 'empi_dists_seq': [[(1000, array([0.494, 0.506])), (1000, array([0.494, 0.506])), (1000, array([1., 0.]))]], 'obj_sequence': [array([ 0.70710678, -0.00848528, -0.00848528,  0.70710678])]}\n",
      "{'iteration': 2, 'empi_dists_seq': [[(1000, array([0.534, 0.466])), (1000, array([0.534, 0.466])), (1000, array([1., 0.]))]], 'obj_sequence': [array([0.70710678, 0.04808326, 0.04808326, 0.70710678])]}\n",
      "{'iteration': 3, 'empi_dists_seq': [[(1000, array([0.488, 0.512])), (1000, array([0.488, 0.512])), (1000, array([1., 0.]))]], 'obj_sequence': [array([ 0.70710678, -0.01697056, -0.01697056,  0.70710678])]}\n",
      "{'iteration': 4, 'empi_dists_seq': [[(1000, array([0.481, 0.519])), (1000, array([0.481, 0.519])), (1000, array([1., 0.]))]], 'obj_sequence': [array([ 0.70710678, -0.02687006, -0.02687006,  0.70710678])]}\n",
      "{'iteration': 5, 'empi_dists_seq': [[(1000, array([0.502, 0.498])), (1000, array([0.502, 0.498])), (1000, array([1., 0.]))]], 'obj_sequence': [array([0.70710678, 0.00282843, 0.00282843, 0.70710678])]}\n",
      "{'iteration': 6, 'empi_dists_seq': [[(1000, array([0.497, 0.503])), (1000, array([0.497, 0.503])), (1000, array([1., 0.]))]], 'obj_sequence': [array([ 0.70710678, -0.00424264, -0.00424264,  0.70710678])]}\n",
      "{'iteration': 7, 'empi_dists_seq': [[(1000, array([0.512, 0.488])), (1000, array([0.512, 0.488])), (1000, array([1., 0.]))]], 'obj_sequence': [array([0.70710678, 0.01697056, 0.01697056, 0.70710678])]}\n",
      "{'iteration': 8, 'empi_dists_seq': [[(1000, array([0.49, 0.51])), (1000, array([0.49, 0.51])), (1000, array([1., 0.]))]], 'obj_sequence': [array([ 0.70710678, -0.01414214, -0.01414214,  0.70710678])]}\n",
      "{'iteration': 9, 'empi_dists_seq': [[(1000, array([0.49, 0.51])), (1000, array([0.49, 0.51])), (1000, array([1., 0.]))]], 'obj_sequence': [array([ 0.70710678, -0.01414214, -0.01414214,  0.70710678])]}\n",
      "{'iteration': 10, 'empi_dists_seq': [[(1000, array([0.503, 0.497])), (1000, array([0.503, 0.497])), (1000, array([1., 0.]))]], 'obj_sequence': [array([0.70710678, 0.00424264, 0.00424264, 0.70710678])]}\n",
      "{'iteration': 11, 'empi_dists_seq': [[(1000, array([0.506, 0.494])), (1000, array([0.506, 0.494])), (1000, array([1., 0.]))]], 'obj_sequence': [array([0.70710678, 0.00848528, 0.00848528, 0.70710678])]}\n",
      "{'iteration': 12, 'empi_dists_seq': [[(1000, array([0.485, 0.515])), (1000, array([0.485, 0.515])), (1000, array([1., 0.]))]], 'obj_sequence': [array([ 0.70710678, -0.0212132 , -0.0212132 ,  0.70710678])]}\n",
      "{'iteration': 13, 'empi_dists_seq': [[(1000, array([0.516, 0.484])), (1000, array([0.516, 0.484])), (1000, array([1., 0.]))]], 'obj_sequence': [array([0.70710678, 0.02262742, 0.02262742, 0.70710678])]}\n",
      "{'iteration': 14, 'empi_dists_seq': [[(1000, array([0.525, 0.475])), (1000, array([0.525, 0.475])), (1000, array([1., 0.]))]], 'obj_sequence': [array([0.70710678, 0.03535534, 0.03535534, 0.70710678])]}\n",
      "{'iteration': 15, 'empi_dists_seq': [[(1000, array([0.533, 0.467])), (1000, array([0.533, 0.467])), (1000, array([1., 0.]))]], 'obj_sequence': [array([0.70710678, 0.04666905, 0.04666905, 0.70710678])]}\n",
      "{'iteration': 16, 'empi_dists_seq': [[(1000, array([0.504, 0.496])), (1000, array([0.504, 0.496])), (1000, array([1., 0.]))]], 'obj_sequence': [array([0.70710678, 0.00565685, 0.00565685, 0.70710678])]}\n",
      "{'iteration': 17, 'empi_dists_seq': [[(1000, array([0.485, 0.515])), (1000, array([0.485, 0.515])), (1000, array([1., 0.]))]], 'obj_sequence': [array([ 0.70710678, -0.0212132 , -0.0212132 ,  0.70710678])]}\n",
      "{'iteration': 18, 'empi_dists_seq': [[(1000, array([0.505, 0.495])), (1000, array([0.505, 0.495])), (1000, array([1., 0.]))]], 'obj_sequence': [array([0.70710678, 0.00707107, 0.00707107, 0.70710678])]}\n",
      "{'iteration': 19, 'empi_dists_seq': [[(1000, array([0.523, 0.477])), (1000, array([0.523, 0.477])), (1000, array([1., 0.]))]], 'obj_sequence': [array([0.70710678, 0.03252691, 0.03252691, 0.70710678])]}\n",
      "{'iteration': 20, 'empi_dists_seq': [[(1000, array([0.5, 0.5])), (1000, array([0.5, 0.5])), (1000, array([1., 0.]))]], 'obj_sequence': [array([0.70710678, 0.        , 0.        , 0.70710678])]}\n",
      "{'iteration': 21, 'empi_dists_seq': [[(1000, array([0.506, 0.494])), (1000, array([0.506, 0.494])), (1000, array([1., 0.]))]], 'obj_sequence': [array([0.70710678, 0.00848528, 0.00848528, 0.70710678])]}\n",
      "{'iteration': 22, 'empi_dists_seq': [[(1000, array([0.504, 0.496])), (1000, array([0.504, 0.496])), (1000, array([1., 0.]))]], 'obj_sequence': [array([0.70710678, 0.00565685, 0.00565685, 0.70710678])]}\n",
      "{'iteration': 23, 'empi_dists_seq': [[(1000, array([0.541, 0.459])), (1000, array([0.541, 0.459])), (1000, array([1., 0.]))]], 'obj_sequence': [array([0.70710678, 0.05798276, 0.05798276, 0.70710678])]}\n",
      "{'iteration': 24, 'empi_dists_seq': [[(1000, array([0.495, 0.505])), (1000, array([0.495, 0.505])), (1000, array([1., 0.]))]], 'obj_sequence': [array([ 0.70710678, -0.00707107, -0.00707107,  0.70710678])]}\n",
      "{'iteration': 25, 'empi_dists_seq': [[(1000, array([0.497, 0.503])), (1000, array([0.497, 0.503])), (1000, array([1., 0.]))]], 'obj_sequence': [array([ 0.70710678, -0.00424264, -0.00424264,  0.70710678])]}\n",
      "{'iteration': 26, 'empi_dists_seq': [[(1000, array([0.496, 0.504])), (1000, array([0.496, 0.504])), (1000, array([1., 0.]))]], 'obj_sequence': [array([ 0.70710678, -0.00565685, -0.00565685,  0.70710678])]}\n",
      "{'iteration': 27, 'empi_dists_seq': [[(1000, array([0.502, 0.498])), (1000, array([0.502, 0.498])), (1000, array([1., 0.]))]], 'obj_sequence': [array([0.70710678, 0.00282843, 0.00282843, 0.70710678])]}\n",
      "{'iteration': 28, 'empi_dists_seq': [[(1000, array([0.509, 0.491])), (1000, array([0.509, 0.491])), (1000, array([1., 0.]))]], 'obj_sequence': [array([0.70710678, 0.01272792, 0.01272792, 0.70710678])]}\n",
      "{'iteration': 29, 'empi_dists_seq': [[(1000, array([0.502, 0.498])), (1000, array([0.502, 0.498])), (1000, array([1., 0.]))]], 'obj_sequence': [array([0.70710678, 0.00282843, 0.00282843, 0.70710678])]}\n",
      "{'iteration': 30, 'empi_dists_seq': [[(1000, array([0.502, 0.498])), (1000, array([0.502, 0.498])), (1000, array([1., 0.]))]], 'obj_sequence': [array([0.70710678, 0.00282843, 0.00282843, 0.70710678])]}\n",
      "{'iteration': 31, 'empi_dists_seq': [[(1000, array([0.514, 0.486])), (1000, array([0.514, 0.486])), (1000, array([1., 0.]))]], 'obj_sequence': [array([0.70710678, 0.01979899, 0.01979899, 0.70710678])]}\n",
      "{'iteration': 32, 'empi_dists_seq': [[(1000, array([0.491, 0.509])), (1000, array([0.491, 0.509])), (1000, array([1., 0.]))]], 'obj_sequence': [array([ 0.70710678, -0.01272792, -0.01272792,  0.70710678])]}\n",
      "{'iteration': 33, 'empi_dists_seq': [[(1000, array([0.476, 0.524])), (1000, array([0.476, 0.524])), (1000, array([1., 0.]))]], 'obj_sequence': [array([ 0.70710678, -0.03394113, -0.03394113,  0.70710678])]}\n",
      "{'iteration': 34, 'empi_dists_seq': [[(1000, array([0.528, 0.472])), (1000, array([0.528, 0.472])), (1000, array([1., 0.]))]], 'obj_sequence': [array([0.70710678, 0.03959798, 0.03959798, 0.70710678])]}\n",
      "{'iteration': 35, 'empi_dists_seq': [[(1000, array([0.502, 0.498])), (1000, array([0.502, 0.498])), (1000, array([1., 0.]))]], 'obj_sequence': [array([0.70710678, 0.00282843, 0.00282843, 0.70710678])]}\n",
      "{'iteration': 36, 'empi_dists_seq': [[(1000, array([0.512, 0.488])), (1000, array([0.512, 0.488])), (1000, array([1., 0.]))]], 'obj_sequence': [array([0.70710678, 0.01697056, 0.01697056, 0.70710678])]}\n",
      "{'iteration': 37, 'empi_dists_seq': [[(1000, array([0.499, 0.501])), (1000, array([0.499, 0.501])), (1000, array([1., 0.]))]], 'obj_sequence': [array([ 0.70710678, -0.00141421, -0.00141421,  0.70710678])]}\n",
      "{'iteration': 38, 'empi_dists_seq': [[(1000, array([0.484, 0.516])), (1000, array([0.484, 0.516])), (1000, array([1., 0.]))]], 'obj_sequence': [array([ 0.70710678, -0.02262742, -0.02262742,  0.70710678])]}\n",
      "{'iteration': 39, 'empi_dists_seq': [[(1000, array([0.487, 0.513])), (1000, array([0.487, 0.513])), (1000, array([1., 0.]))]], 'obj_sequence': [array([ 0.70710678, -0.01838478, -0.01838478,  0.70710678])]}\n"
     ]
    },
    {
     "name": "stdout",
     "output_type": "stream",
     "text": [
      "{'iteration': 40, 'empi_dists_seq': [[(1000, array([0.49, 0.51])), (1000, array([0.49, 0.51])), (1000, array([1., 0.]))]], 'obj_sequence': [array([ 0.70710678, -0.01414214, -0.01414214,  0.70710678])]}\n",
      "{'iteration': 41, 'empi_dists_seq': [[(1000, array([0.503, 0.497])), (1000, array([0.503, 0.497])), (1000, array([1., 0.]))]], 'obj_sequence': [array([0.70710678, 0.00424264, 0.00424264, 0.70710678])]}\n",
      "{'iteration': 42, 'empi_dists_seq': [[(1000, array([0.503, 0.497])), (1000, array([0.503, 0.497])), (1000, array([1., 0.]))]], 'obj_sequence': [array([0.70710678, 0.00424264, 0.00424264, 0.70710678])]}\n",
      "{'iteration': 43, 'empi_dists_seq': [[(1000, array([0.486, 0.514])), (1000, array([0.486, 0.514])), (1000, array([1., 0.]))]], 'obj_sequence': [array([ 0.70710678, -0.01979899, -0.01979899,  0.70710678])]}\n",
      "{'iteration': 44, 'empi_dists_seq': [[(1000, array([0.493, 0.507])), (1000, array([0.493, 0.507])), (1000, array([1., 0.]))]], 'obj_sequence': [array([ 0.70710678, -0.00989949, -0.00989949,  0.70710678])]}\n",
      "{'iteration': 45, 'empi_dists_seq': [[(1000, array([0.517, 0.483])), (1000, array([0.517, 0.483])), (1000, array([1., 0.]))]], 'obj_sequence': [array([0.70710678, 0.02404163, 0.02404163, 0.70710678])]}\n",
      "{'iteration': 46, 'empi_dists_seq': [[(1000, array([0.519, 0.481])), (1000, array([0.519, 0.481])), (1000, array([1., 0.]))]], 'obj_sequence': [array([0.70710678, 0.02687006, 0.02687006, 0.70710678])]}\n",
      "{'iteration': 47, 'empi_dists_seq': [[(1000, array([0.486, 0.514])), (1000, array([0.486, 0.514])), (1000, array([1., 0.]))]], 'obj_sequence': [array([ 0.70710678, -0.01979899, -0.01979899,  0.70710678])]}\n",
      "{'iteration': 48, 'empi_dists_seq': [[(1000, array([0.52, 0.48])), (1000, array([0.52, 0.48])), (1000, array([1., 0.]))]], 'obj_sequence': [array([0.70710678, 0.02828427, 0.02828427, 0.70710678])]}\n",
      "{'iteration': 49, 'empi_dists_seq': [[(1000, array([0.489, 0.511])), (1000, array([0.489, 0.511])), (1000, array([1., 0.]))]], 'obj_sequence': [array([ 0.70710678, -0.01555635, -0.01555635,  0.70710678])]}\n",
      "{'iteration': 50, 'empi_dists_seq': [[(1000, array([0.513, 0.487])), (1000, array([0.513, 0.487])), (1000, array([1., 0.]))]], 'obj_sequence': [array([0.70710678, 0.01838478, 0.01838478, 0.70710678])]}\n",
      "{'iteration': 51, 'empi_dists_seq': [[(1000, array([0.513, 0.487])), (1000, array([0.513, 0.487])), (1000, array([1., 0.]))]], 'obj_sequence': [array([0.70710678, 0.01838478, 0.01838478, 0.70710678])]}\n",
      "{'iteration': 52, 'empi_dists_seq': [[(1000, array([0.486, 0.514])), (1000, array([0.486, 0.514])), (1000, array([1., 0.]))]], 'obj_sequence': [array([ 0.70710678, -0.01979899, -0.01979899,  0.70710678])]}\n",
      "{'iteration': 53, 'empi_dists_seq': [[(1000, array([0.498, 0.502])), (1000, array([0.498, 0.502])), (1000, array([1., 0.]))]], 'obj_sequence': [array([ 0.70710678, -0.00282843, -0.00282843,  0.70710678])]}\n",
      "{'iteration': 54, 'empi_dists_seq': [[(1000, array([0.523, 0.477])), (1000, array([0.523, 0.477])), (1000, array([1., 0.]))]], 'obj_sequence': [array([0.70710678, 0.03252691, 0.03252691, 0.70710678])]}\n",
      "{'iteration': 55, 'empi_dists_seq': [[(1000, array([0.513, 0.487])), (1000, array([0.513, 0.487])), (1000, array([1., 0.]))]], 'obj_sequence': [array([0.70710678, 0.01838478, 0.01838478, 0.70710678])]}\n",
      "{'iteration': 56, 'empi_dists_seq': [[(1000, array([0.506, 0.494])), (1000, array([0.506, 0.494])), (1000, array([1., 0.]))]], 'obj_sequence': [array([0.70710678, 0.00848528, 0.00848528, 0.70710678])]}\n",
      "{'iteration': 57, 'empi_dists_seq': [[(1000, array([0.524, 0.476])), (1000, array([0.524, 0.476])), (1000, array([1., 0.]))]], 'obj_sequence': [array([0.70710678, 0.03394113, 0.03394113, 0.70710678])]}\n",
      "{'iteration': 58, 'empi_dists_seq': [[(1000, array([0.516, 0.484])), (1000, array([0.516, 0.484])), (1000, array([1., 0.]))]], 'obj_sequence': [array([0.70710678, 0.02262742, 0.02262742, 0.70710678])]}\n",
      "{'iteration': 59, 'empi_dists_seq': [[(1000, array([0.482, 0.518])), (1000, array([0.482, 0.518])), (1000, array([1., 0.]))]], 'obj_sequence': [array([ 0.70710678, -0.02545584, -0.02545584,  0.70710678])]}\n",
      "{'iteration': 60, 'empi_dists_seq': [[(1000, array([0.517, 0.483])), (1000, array([0.517, 0.483])), (1000, array([1., 0.]))]], 'obj_sequence': [array([0.70710678, 0.02404163, 0.02404163, 0.70710678])]}\n",
      "{'iteration': 61, 'empi_dists_seq': [[(1000, array([0.529, 0.471])), (1000, array([0.529, 0.471])), (1000, array([1., 0.]))]], 'obj_sequence': [array([0.70710678, 0.04101219, 0.04101219, 0.70710678])]}\n",
      "{'iteration': 62, 'empi_dists_seq': [[(1000, array([0.481, 0.519])), (1000, array([0.481, 0.519])), (1000, array([1., 0.]))]], 'obj_sequence': [array([ 0.70710678, -0.02687006, -0.02687006,  0.70710678])]}\n",
      "{'iteration': 63, 'empi_dists_seq': [[(1000, array([0.473, 0.527])), (1000, array([0.473, 0.527])), (1000, array([1., 0.]))]], 'obj_sequence': [array([ 0.70710678, -0.03818377, -0.03818377,  0.70710678])]}\n",
      "{'iteration': 64, 'empi_dists_seq': [[(1000, array([0.529, 0.471])), (1000, array([0.529, 0.471])), (1000, array([1., 0.]))]], 'obj_sequence': [array([0.70710678, 0.04101219, 0.04101219, 0.70710678])]}\n",
      "{'iteration': 65, 'empi_dists_seq': [[(1000, array([0.533, 0.467])), (1000, array([0.533, 0.467])), (1000, array([1., 0.]))]], 'obj_sequence': [array([0.70710678, 0.04666905, 0.04666905, 0.70710678])]}\n",
      "{'iteration': 66, 'empi_dists_seq': [[(1000, array([0.517, 0.483])), (1000, array([0.517, 0.483])), (1000, array([1., 0.]))]], 'obj_sequence': [array([0.70710678, 0.02404163, 0.02404163, 0.70710678])]}\n",
      "{'iteration': 67, 'empi_dists_seq': [[(1000, array([0.504, 0.496])), (1000, array([0.504, 0.496])), (1000, array([1., 0.]))]], 'obj_sequence': [array([0.70710678, 0.00565685, 0.00565685, 0.70710678])]}\n",
      "{'iteration': 68, 'empi_dists_seq': [[(1000, array([0.492, 0.508])), (1000, array([0.492, 0.508])), (1000, array([1., 0.]))]], 'obj_sequence': [array([ 0.70710678, -0.01131371, -0.01131371,  0.70710678])]}\n",
      "{'iteration': 69, 'empi_dists_seq': [[(1000, array([0.521, 0.479])), (1000, array([0.521, 0.479])), (1000, array([1., 0.]))]], 'obj_sequence': [array([0.70710678, 0.02969848, 0.02969848, 0.70710678])]}\n",
      "{'iteration': 70, 'empi_dists_seq': [[(1000, array([0.503, 0.497])), (1000, array([0.503, 0.497])), (1000, array([1., 0.]))]], 'obj_sequence': [array([0.70710678, 0.00424264, 0.00424264, 0.70710678])]}\n",
      "{'iteration': 71, 'empi_dists_seq': [[(1000, array([0.486, 0.514])), (1000, array([0.486, 0.514])), (1000, array([1., 0.]))]], 'obj_sequence': [array([ 0.70710678, -0.01979899, -0.01979899,  0.70710678])]}\n",
      "{'iteration': 72, 'empi_dists_seq': [[(1000, array([0.498, 0.502])), (1000, array([0.498, 0.502])), (1000, array([1., 0.]))]], 'obj_sequence': [array([ 0.70710678, -0.00282843, -0.00282843,  0.70710678])]}\n",
      "{'iteration': 73, 'empi_dists_seq': [[(1000, array([0.512, 0.488])), (1000, array([0.512, 0.488])), (1000, array([1., 0.]))]], 'obj_sequence': [array([0.70710678, 0.01697056, 0.01697056, 0.70710678])]}\n",
      "{'iteration': 74, 'empi_dists_seq': [[(1000, array([0.489, 0.511])), (1000, array([0.489, 0.511])), (1000, array([1., 0.]))]], 'obj_sequence': [array([ 0.70710678, -0.01555635, -0.01555635,  0.70710678])]}\n",
      "{'iteration': 75, 'empi_dists_seq': [[(1000, array([0.492, 0.508])), (1000, array([0.492, 0.508])), (1000, array([1., 0.]))]], 'obj_sequence': [array([ 0.70710678, -0.01131371, -0.01131371,  0.70710678])]}\n",
      "{'iteration': 76, 'empi_dists_seq': [[(1000, array([0.525, 0.475])), (1000, array([0.525, 0.475])), (1000, array([1., 0.]))]], 'obj_sequence': [array([0.70710678, 0.03535534, 0.03535534, 0.70710678])]}\n",
      "{'iteration': 77, 'empi_dists_seq': [[(1000, array([0.514, 0.486])), (1000, array([0.514, 0.486])), (1000, array([1., 0.]))]], 'obj_sequence': [array([0.70710678, 0.01979899, 0.01979899, 0.70710678])]}\n",
      "{'iteration': 78, 'empi_dists_seq': [[(1000, array([0.507, 0.493])), (1000, array([0.507, 0.493])), (1000, array([1., 0.]))]], 'obj_sequence': [array([0.70710678, 0.00989949, 0.00989949, 0.70710678])]}\n",
      "{'iteration': 79, 'empi_dists_seq': [[(1000, array([0.494, 0.506])), (1000, array([0.494, 0.506])), (1000, array([1., 0.]))]], 'obj_sequence': [array([ 0.70710678, -0.00848528, -0.00848528,  0.70710678])]}\n",
      "{'iteration': 80, 'empi_dists_seq': [[(1000, array([0.484, 0.516])), (1000, array([0.484, 0.516])), (1000, array([1., 0.]))]], 'obj_sequence': [array([ 0.70710678, -0.02262742, -0.02262742,  0.70710678])]}\n",
      "{'iteration': 81, 'empi_dists_seq': [[(1000, array([0.503, 0.497])), (1000, array([0.503, 0.497])), (1000, array([1., 0.]))]], 'obj_sequence': [array([0.70710678, 0.00424264, 0.00424264, 0.70710678])]}\n",
      "{'iteration': 82, 'empi_dists_seq': [[(1000, array([0.52, 0.48])), (1000, array([0.52, 0.48])), (1000, array([1., 0.]))]], 'obj_sequence': [array([0.70710678, 0.02828427, 0.02828427, 0.70710678])]}\n",
      "{'iteration': 83, 'empi_dists_seq': [[(1000, array([0.491, 0.509])), (1000, array([0.491, 0.509])), (1000, array([1., 0.]))]], 'obj_sequence': [array([ 0.70710678, -0.01272792, -0.01272792,  0.70710678])]}\n",
      "{'iteration': 84, 'empi_dists_seq': [[(1000, array([0.5, 0.5])), (1000, array([0.5, 0.5])), (1000, array([1., 0.]))]], 'obj_sequence': [array([0.70710678, 0.        , 0.        , 0.70710678])]}\n",
      "{'iteration': 85, 'empi_dists_seq': [[(1000, array([0.489, 0.511])), (1000, array([0.489, 0.511])), (1000, array([1., 0.]))]], 'obj_sequence': [array([ 0.70710678, -0.01555635, -0.01555635,  0.70710678])]}\n",
      "{'iteration': 86, 'empi_dists_seq': [[(1000, array([0.532, 0.468])), (1000, array([0.532, 0.468])), (1000, array([1., 0.]))]], 'obj_sequence': [array([0.70710678, 0.04525483, 0.04525483, 0.70710678])]}\n"
     ]
    },
    {
     "name": "stdout",
     "output_type": "stream",
     "text": [
      "{'iteration': 87, 'empi_dists_seq': [[(1000, array([0.498, 0.502])), (1000, array([0.498, 0.502])), (1000, array([1., 0.]))]], 'obj_sequence': [array([ 0.70710678, -0.00282843, -0.00282843,  0.70710678])]}\n",
      "{'iteration': 88, 'empi_dists_seq': [[(1000, array([0.487, 0.513])), (1000, array([0.487, 0.513])), (1000, array([1., 0.]))]], 'obj_sequence': [array([ 0.70710678, -0.01838478, -0.01838478,  0.70710678])]}\n",
      "{'iteration': 89, 'empi_dists_seq': [[(1000, array([0.496, 0.504])), (1000, array([0.496, 0.504])), (1000, array([1., 0.]))]], 'obj_sequence': [array([ 0.70710678, -0.00565685, -0.00565685,  0.70710678])]}\n",
      "{'iteration': 90, 'empi_dists_seq': [[(1000, array([0.501, 0.499])), (1000, array([0.501, 0.499])), (1000, array([1., 0.]))]], 'obj_sequence': [array([0.70710678, 0.00141421, 0.00141421, 0.70710678])]}\n",
      "{'iteration': 91, 'empi_dists_seq': [[(1000, array([0.522, 0.478])), (1000, array([0.522, 0.478])), (1000, array([1., 0.]))]], 'obj_sequence': [array([0.70710678, 0.0311127 , 0.0311127 , 0.70710678])]}\n",
      "{'iteration': 92, 'empi_dists_seq': [[(1000, array([0.492, 0.508])), (1000, array([0.492, 0.508])), (1000, array([1., 0.]))]], 'obj_sequence': [array([ 0.70710678, -0.01131371, -0.01131371,  0.70710678])]}\n",
      "{'iteration': 93, 'empi_dists_seq': [[(1000, array([0.507, 0.493])), (1000, array([0.507, 0.493])), (1000, array([1., 0.]))]], 'obj_sequence': [array([0.70710678, 0.00989949, 0.00989949, 0.70710678])]}\n",
      "{'iteration': 94, 'empi_dists_seq': [[(1000, array([0.506, 0.494])), (1000, array([0.506, 0.494])), (1000, array([1., 0.]))]], 'obj_sequence': [array([0.70710678, 0.00848528, 0.00848528, 0.70710678])]}\n",
      "{'iteration': 95, 'empi_dists_seq': [[(1000, array([0.518, 0.482])), (1000, array([0.518, 0.482])), (1000, array([1., 0.]))]], 'obj_sequence': [array([0.70710678, 0.02545584, 0.02545584, 0.70710678])]}\n",
      "{'iteration': 96, 'empi_dists_seq': [[(1000, array([0.492, 0.508])), (1000, array([0.492, 0.508])), (1000, array([1., 0.]))]], 'obj_sequence': [array([ 0.70710678, -0.01131371, -0.01131371,  0.70710678])]}\n",
      "{'iteration': 97, 'empi_dists_seq': [[(1000, array([0.488, 0.512])), (1000, array([0.488, 0.512])), (1000, array([1., 0.]))]], 'obj_sequence': [array([ 0.70710678, -0.01697056, -0.01697056,  0.70710678])]}\n",
      "{'iteration': 98, 'empi_dists_seq': [[(1000, array([0.505, 0.495])), (1000, array([0.505, 0.495])), (1000, array([1., 0.]))]], 'obj_sequence': [array([0.70710678, 0.00707107, 0.00707107, 0.70710678])]}\n",
      "{'iteration': 99, 'empi_dists_seq': [[(1000, array([0.463, 0.537])), (1000, array([0.463, 0.537])), (1000, array([1., 0.]))]], 'obj_sequence': [array([ 0.70710678, -0.0523259 , -0.0523259 ,  0.70710678])]}\n",
      "{'iteration': 100, 'empi_dists_seq': [[(1000, array([0.499, 0.501])), (1000, array([0.499, 0.501])), (1000, array([1., 0.]))]], 'obj_sequence': [array([ 0.70710678, -0.00141421, -0.00141421,  0.70710678])]}\n",
      "{'iteration': 101, 'empi_dists_seq': [[(1000, array([0.511, 0.489])), (1000, array([0.511, 0.489])), (1000, array([1., 0.]))]], 'obj_sequence': [array([0.70710678, 0.01555635, 0.01555635, 0.70710678])]}\n",
      "{'iteration': 102, 'empi_dists_seq': [[(1000, array([0.506, 0.494])), (1000, array([0.506, 0.494])), (1000, array([1., 0.]))]], 'obj_sequence': [array([0.70710678, 0.00848528, 0.00848528, 0.70710678])]}\n",
      "{'iteration': 103, 'empi_dists_seq': [[(1000, array([0.488, 0.512])), (1000, array([0.488, 0.512])), (1000, array([1., 0.]))]], 'obj_sequence': [array([ 0.70710678, -0.01697056, -0.01697056,  0.70710678])]}\n",
      "{'iteration': 104, 'empi_dists_seq': [[(1000, array([0.505, 0.495])), (1000, array([0.505, 0.495])), (1000, array([1., 0.]))]], 'obj_sequence': [array([0.70710678, 0.00707107, 0.00707107, 0.70710678])]}\n",
      "{'iteration': 105, 'empi_dists_seq': [[(1000, array([0.471, 0.529])), (1000, array([0.471, 0.529])), (1000, array([1., 0.]))]], 'obj_sequence': [array([ 0.70710678, -0.04101219, -0.04101219,  0.70710678])]}\n",
      "{'iteration': 106, 'empi_dists_seq': [[(1000, array([0.497, 0.503])), (1000, array([0.497, 0.503])), (1000, array([1., 0.]))]], 'obj_sequence': [array([ 0.70710678, -0.00424264, -0.00424264,  0.70710678])]}\n",
      "{'iteration': 107, 'empi_dists_seq': [[(1000, array([0.498, 0.502])), (1000, array([0.498, 0.502])), (1000, array([1., 0.]))]], 'obj_sequence': [array([ 0.70710678, -0.00282843, -0.00282843,  0.70710678])]}\n",
      "{'iteration': 108, 'empi_dists_seq': [[(1000, array([0.502, 0.498])), (1000, array([0.502, 0.498])), (1000, array([1., 0.]))]], 'obj_sequence': [array([0.70710678, 0.00282843, 0.00282843, 0.70710678])]}\n",
      "{'iteration': 109, 'empi_dists_seq': [[(1000, array([0.471, 0.529])), (1000, array([0.471, 0.529])), (1000, array([1., 0.]))]], 'obj_sequence': [array([ 0.70710678, -0.04101219, -0.04101219,  0.70710678])]}\n",
      "{'iteration': 110, 'empi_dists_seq': [[(1000, array([0.507, 0.493])), (1000, array([0.507, 0.493])), (1000, array([1., 0.]))]], 'obj_sequence': [array([0.70710678, 0.00989949, 0.00989949, 0.70710678])]}\n",
      "{'iteration': 111, 'empi_dists_seq': [[(1000, array([0.525, 0.475])), (1000, array([0.525, 0.475])), (1000, array([1., 0.]))]], 'obj_sequence': [array([0.70710678, 0.03535534, 0.03535534, 0.70710678])]}\n",
      "{'iteration': 112, 'empi_dists_seq': [[(1000, array([0.52, 0.48])), (1000, array([0.52, 0.48])), (1000, array([1., 0.]))]], 'obj_sequence': [array([0.70710678, 0.02828427, 0.02828427, 0.70710678])]}\n",
      "{'iteration': 113, 'empi_dists_seq': [[(1000, array([0.481, 0.519])), (1000, array([0.481, 0.519])), (1000, array([1., 0.]))]], 'obj_sequence': [array([ 0.70710678, -0.02687006, -0.02687006,  0.70710678])]}\n",
      "{'iteration': 114, 'empi_dists_seq': [[(1000, array([0.513, 0.487])), (1000, array([0.513, 0.487])), (1000, array([1., 0.]))]], 'obj_sequence': [array([0.70710678, 0.01838478, 0.01838478, 0.70710678])]}\n",
      "{'iteration': 115, 'empi_dists_seq': [[(1000, array([0.504, 0.496])), (1000, array([0.504, 0.496])), (1000, array([1., 0.]))]], 'obj_sequence': [array([0.70710678, 0.00565685, 0.00565685, 0.70710678])]}\n",
      "{'iteration': 116, 'empi_dists_seq': [[(1000, array([0.512, 0.488])), (1000, array([0.512, 0.488])), (1000, array([1., 0.]))]], 'obj_sequence': [array([0.70710678, 0.01697056, 0.01697056, 0.70710678])]}\n",
      "{'iteration': 117, 'empi_dists_seq': [[(1000, array([0.482, 0.518])), (1000, array([0.482, 0.518])), (1000, array([1., 0.]))]], 'obj_sequence': [array([ 0.70710678, -0.02545584, -0.02545584,  0.70710678])]}\n",
      "{'iteration': 118, 'empi_dists_seq': [[(1000, array([0.527, 0.473])), (1000, array([0.527, 0.473])), (1000, array([1., 0.]))]], 'obj_sequence': [array([0.70710678, 0.03818377, 0.03818377, 0.70710678])]}\n",
      "{'iteration': 119, 'empi_dists_seq': [[(1000, array([0.488, 0.512])), (1000, array([0.488, 0.512])), (1000, array([1., 0.]))]], 'obj_sequence': [array([ 0.70710678, -0.01697056, -0.01697056,  0.70710678])]}\n",
      "{'iteration': 120, 'empi_dists_seq': [[(1000, array([0.475, 0.525])), (1000, array([0.475, 0.525])), (1000, array([1., 0.]))]], 'obj_sequence': [array([ 0.70710678, -0.03535534, -0.03535534,  0.70710678])]}\n",
      "{'iteration': 121, 'empi_dists_seq': [[(1000, array([0.496, 0.504])), (1000, array([0.496, 0.504])), (1000, array([1., 0.]))]], 'obj_sequence': [array([ 0.70710678, -0.00565685, -0.00565685,  0.70710678])]}\n",
      "{'iteration': 122, 'empi_dists_seq': [[(1000, array([0.517, 0.483])), (1000, array([0.517, 0.483])), (1000, array([1., 0.]))]], 'obj_sequence': [array([0.70710678, 0.02404163, 0.02404163, 0.70710678])]}\n",
      "{'iteration': 123, 'empi_dists_seq': [[(1000, array([0.508, 0.492])), (1000, array([0.508, 0.492])), (1000, array([1., 0.]))]], 'obj_sequence': [array([0.70710678, 0.01131371, 0.01131371, 0.70710678])]}\n",
      "{'iteration': 124, 'empi_dists_seq': [[(1000, array([0.488, 0.512])), (1000, array([0.488, 0.512])), (1000, array([1., 0.]))]], 'obj_sequence': [array([ 0.70710678, -0.01697056, -0.01697056,  0.70710678])]}\n",
      "{'iteration': 125, 'empi_dists_seq': [[(1000, array([0.483, 0.517])), (1000, array([0.483, 0.517])), (1000, array([1., 0.]))]], 'obj_sequence': [array([ 0.70710678, -0.02404163, -0.02404163,  0.70710678])]}\n",
      "{'iteration': 126, 'empi_dists_seq': [[(1000, array([0.49, 0.51])), (1000, array([0.49, 0.51])), (1000, array([1., 0.]))]], 'obj_sequence': [array([ 0.70710678, -0.01414214, -0.01414214,  0.70710678])]}\n",
      "{'iteration': 127, 'empi_dists_seq': [[(1000, array([0.517, 0.483])), (1000, array([0.517, 0.483])), (1000, array([1., 0.]))]], 'obj_sequence': [array([0.70710678, 0.02404163, 0.02404163, 0.70710678])]}\n",
      "{'iteration': 128, 'empi_dists_seq': [[(1000, array([0.483, 0.517])), (1000, array([0.483, 0.517])), (1000, array([1., 0.]))]], 'obj_sequence': [array([ 0.70710678, -0.02404163, -0.02404163,  0.70710678])]}\n",
      "{'iteration': 129, 'empi_dists_seq': [[(1000, array([0.541, 0.459])), (1000, array([0.541, 0.459])), (1000, array([1., 0.]))]], 'obj_sequence': [array([0.70710678, 0.05798276, 0.05798276, 0.70710678])]}\n",
      "{'iteration': 130, 'empi_dists_seq': [[(1000, array([0.532, 0.468])), (1000, array([0.532, 0.468])), (1000, array([1., 0.]))]], 'obj_sequence': [array([0.70710678, 0.04525483, 0.04525483, 0.70710678])]}\n",
      "{'iteration': 131, 'empi_dists_seq': [[(1000, array([0.5, 0.5])), (1000, array([0.5, 0.5])), (1000, array([1., 0.]))]], 'obj_sequence': [array([0.70710678, 0.        , 0.        , 0.70710678])]}\n",
      "{'iteration': 132, 'empi_dists_seq': [[(1000, array([0.47, 0.53])), (1000, array([0.47, 0.53])), (1000, array([1., 0.]))]], 'obj_sequence': [array([ 0.70710678, -0.04242641, -0.04242641,  0.70710678])]}\n"
     ]
    },
    {
     "name": "stdout",
     "output_type": "stream",
     "text": [
      "{'iteration': 133, 'empi_dists_seq': [[(1000, array([0.475, 0.525])), (1000, array([0.475, 0.525])), (1000, array([1., 0.]))]], 'obj_sequence': [array([ 0.70710678, -0.03535534, -0.03535534,  0.70710678])]}\n",
      "{'iteration': 134, 'empi_dists_seq': [[(1000, array([0.501, 0.499])), (1000, array([0.501, 0.499])), (1000, array([1., 0.]))]], 'obj_sequence': [array([0.70710678, 0.00141421, 0.00141421, 0.70710678])]}\n",
      "{'iteration': 135, 'empi_dists_seq': [[(1000, array([0.487, 0.513])), (1000, array([0.487, 0.513])), (1000, array([1., 0.]))]], 'obj_sequence': [array([ 0.70710678, -0.01838478, -0.01838478,  0.70710678])]}\n",
      "{'iteration': 136, 'empi_dists_seq': [[(1000, array([0.512, 0.488])), (1000, array([0.512, 0.488])), (1000, array([1., 0.]))]], 'obj_sequence': [array([0.70710678, 0.01697056, 0.01697056, 0.70710678])]}\n",
      "{'iteration': 137, 'empi_dists_seq': [[(1000, array([0.497, 0.503])), (1000, array([0.497, 0.503])), (1000, array([1., 0.]))]], 'obj_sequence': [array([ 0.70710678, -0.00424264, -0.00424264,  0.70710678])]}\n",
      "{'iteration': 138, 'empi_dists_seq': [[(1000, array([0.486, 0.514])), (1000, array([0.486, 0.514])), (1000, array([1., 0.]))]], 'obj_sequence': [array([ 0.70710678, -0.01979899, -0.01979899,  0.70710678])]}\n",
      "{'iteration': 139, 'empi_dists_seq': [[(1000, array([0.499, 0.501])), (1000, array([0.499, 0.501])), (1000, array([1., 0.]))]], 'obj_sequence': [array([ 0.70710678, -0.00141421, -0.00141421,  0.70710678])]}\n",
      "{'iteration': 140, 'empi_dists_seq': [[(1000, array([0.495, 0.505])), (1000, array([0.495, 0.505])), (1000, array([1., 0.]))]], 'obj_sequence': [array([ 0.70710678, -0.00707107, -0.00707107,  0.70710678])]}\n",
      "{'iteration': 141, 'empi_dists_seq': [[(1000, array([0.504, 0.496])), (1000, array([0.504, 0.496])), (1000, array([1., 0.]))]], 'obj_sequence': [array([0.70710678, 0.00565685, 0.00565685, 0.70710678])]}\n",
      "{'iteration': 142, 'empi_dists_seq': [[(1000, array([0.477, 0.523])), (1000, array([0.477, 0.523])), (1000, array([1., 0.]))]], 'obj_sequence': [array([ 0.70710678, -0.03252691, -0.03252691,  0.70710678])]}\n",
      "{'iteration': 143, 'empi_dists_seq': [[(1000, array([0.495, 0.505])), (1000, array([0.495, 0.505])), (1000, array([1., 0.]))]], 'obj_sequence': [array([ 0.70710678, -0.00707107, -0.00707107,  0.70710678])]}\n",
      "{'iteration': 144, 'empi_dists_seq': [[(1000, array([0.52, 0.48])), (1000, array([0.52, 0.48])), (1000, array([1., 0.]))]], 'obj_sequence': [array([0.70710678, 0.02828427, 0.02828427, 0.70710678])]}\n",
      "{'iteration': 145, 'empi_dists_seq': [[(1000, array([0.511, 0.489])), (1000, array([0.511, 0.489])), (1000, array([1., 0.]))]], 'obj_sequence': [array([0.70710678, 0.01555635, 0.01555635, 0.70710678])]}\n",
      "{'iteration': 146, 'empi_dists_seq': [[(1000, array([0.49, 0.51])), (1000, array([0.49, 0.51])), (1000, array([1., 0.]))]], 'obj_sequence': [array([ 0.70710678, -0.01414214, -0.01414214,  0.70710678])]}\n",
      "{'iteration': 147, 'empi_dists_seq': [[(1000, array([0.517, 0.483])), (1000, array([0.517, 0.483])), (1000, array([1., 0.]))]], 'obj_sequence': [array([0.70710678, 0.02404163, 0.02404163, 0.70710678])]}\n",
      "{'iteration': 148, 'empi_dists_seq': [[(1000, array([0.504, 0.496])), (1000, array([0.504, 0.496])), (1000, array([1., 0.]))]], 'obj_sequence': [array([0.70710678, 0.00565685, 0.00565685, 0.70710678])]}\n",
      "{'iteration': 149, 'empi_dists_seq': [[(1000, array([0.5, 0.5])), (1000, array([0.5, 0.5])), (1000, array([1., 0.]))]], 'obj_sequence': [array([0.70710678, 0.        , 0.        , 0.70710678])]}\n",
      "{'iteration': 150, 'empi_dists_seq': [[(1000, array([0.509, 0.491])), (1000, array([0.509, 0.491])), (1000, array([1., 0.]))]], 'obj_sequence': [array([0.70710678, 0.01272792, 0.01272792, 0.70710678])]}\n",
      "{'iteration': 151, 'empi_dists_seq': [[(1000, array([0.479, 0.521])), (1000, array([0.479, 0.521])), (1000, array([1., 0.]))]], 'obj_sequence': [array([ 0.70710678, -0.02969848, -0.02969848,  0.70710678])]}\n",
      "{'iteration': 152, 'empi_dists_seq': [[(1000, array([0.503, 0.497])), (1000, array([0.503, 0.497])), (1000, array([1., 0.]))]], 'obj_sequence': [array([0.70710678, 0.00424264, 0.00424264, 0.70710678])]}\n",
      "{'iteration': 153, 'empi_dists_seq': [[(1000, array([0.521, 0.479])), (1000, array([0.521, 0.479])), (1000, array([1., 0.]))]], 'obj_sequence': [array([0.70710678, 0.02969848, 0.02969848, 0.70710678])]}\n",
      "{'iteration': 154, 'empi_dists_seq': [[(1000, array([0.496, 0.504])), (1000, array([0.496, 0.504])), (1000, array([1., 0.]))]], 'obj_sequence': [array([ 0.70710678, -0.00565685, -0.00565685,  0.70710678])]}\n",
      "{'iteration': 155, 'empi_dists_seq': [[(1000, array([0.503, 0.497])), (1000, array([0.503, 0.497])), (1000, array([1., 0.]))]], 'obj_sequence': [array([0.70710678, 0.00424264, 0.00424264, 0.70710678])]}\n",
      "{'iteration': 156, 'empi_dists_seq': [[(1000, array([0.51, 0.49])), (1000, array([0.51, 0.49])), (1000, array([1., 0.]))]], 'obj_sequence': [array([0.70710678, 0.01414214, 0.01414214, 0.70710678])]}\n",
      "{'iteration': 157, 'empi_dists_seq': [[(1000, array([0.51, 0.49])), (1000, array([0.51, 0.49])), (1000, array([1., 0.]))]], 'obj_sequence': [array([0.70710678, 0.01414214, 0.01414214, 0.70710678])]}\n",
      "{'iteration': 158, 'empi_dists_seq': [[(1000, array([0.487, 0.513])), (1000, array([0.487, 0.513])), (1000, array([1., 0.]))]], 'obj_sequence': [array([ 0.70710678, -0.01838478, -0.01838478,  0.70710678])]}\n",
      "{'iteration': 159, 'empi_dists_seq': [[(1000, array([0.504, 0.496])), (1000, array([0.504, 0.496])), (1000, array([1., 0.]))]], 'obj_sequence': [array([0.70710678, 0.00565685, 0.00565685, 0.70710678])]}\n",
      "{'iteration': 160, 'empi_dists_seq': [[(1000, array([0.49, 0.51])), (1000, array([0.49, 0.51])), (1000, array([1., 0.]))]], 'obj_sequence': [array([ 0.70710678, -0.01414214, -0.01414214,  0.70710678])]}\n",
      "{'iteration': 161, 'empi_dists_seq': [[(1000, array([0.476, 0.524])), (1000, array([0.476, 0.524])), (1000, array([1., 0.]))]], 'obj_sequence': [array([ 0.70710678, -0.03394113, -0.03394113,  0.70710678])]}\n",
      "{'iteration': 162, 'empi_dists_seq': [[(1000, array([0.458, 0.542])), (1000, array([0.458, 0.542])), (1000, array([1., 0.]))]], 'obj_sequence': [array([ 0.70710678, -0.05939697, -0.05939697,  0.70710678])]}\n",
      "{'iteration': 163, 'empi_dists_seq': [[(1000, array([0.512, 0.488])), (1000, array([0.512, 0.488])), (1000, array([1., 0.]))]], 'obj_sequence': [array([0.70710678, 0.01697056, 0.01697056, 0.70710678])]}\n",
      "{'iteration': 164, 'empi_dists_seq': [[(1000, array([0.479, 0.521])), (1000, array([0.479, 0.521])), (1000, array([1., 0.]))]], 'obj_sequence': [array([ 0.70710678, -0.02969848, -0.02969848,  0.70710678])]}\n",
      "{'iteration': 165, 'empi_dists_seq': [[(1000, array([0.513, 0.487])), (1000, array([0.513, 0.487])), (1000, array([1., 0.]))]], 'obj_sequence': [array([0.70710678, 0.01838478, 0.01838478, 0.70710678])]}\n",
      "{'iteration': 166, 'empi_dists_seq': [[(1000, array([0.486, 0.514])), (1000, array([0.486, 0.514])), (1000, array([1., 0.]))]], 'obj_sequence': [array([ 0.70710678, -0.01979899, -0.01979899,  0.70710678])]}\n",
      "{'iteration': 167, 'empi_dists_seq': [[(1000, array([0.483, 0.517])), (1000, array([0.483, 0.517])), (1000, array([1., 0.]))]], 'obj_sequence': [array([ 0.70710678, -0.02404163, -0.02404163,  0.70710678])]}\n",
      "{'iteration': 168, 'empi_dists_seq': [[(1000, array([0.496, 0.504])), (1000, array([0.496, 0.504])), (1000, array([1., 0.]))]], 'obj_sequence': [array([ 0.70710678, -0.00565685, -0.00565685,  0.70710678])]}\n",
      "{'iteration': 169, 'empi_dists_seq': [[(1000, array([0.527, 0.473])), (1000, array([0.527, 0.473])), (1000, array([1., 0.]))]], 'obj_sequence': [array([0.70710678, 0.03818377, 0.03818377, 0.70710678])]}\n",
      "{'iteration': 170, 'empi_dists_seq': [[(1000, array([0.498, 0.502])), (1000, array([0.498, 0.502])), (1000, array([1., 0.]))]], 'obj_sequence': [array([ 0.70710678, -0.00282843, -0.00282843,  0.70710678])]}\n",
      "{'iteration': 171, 'empi_dists_seq': [[(1000, array([0.484, 0.516])), (1000, array([0.484, 0.516])), (1000, array([1., 0.]))]], 'obj_sequence': [array([ 0.70710678, -0.02262742, -0.02262742,  0.70710678])]}\n",
      "{'iteration': 172, 'empi_dists_seq': [[(1000, array([0.502, 0.498])), (1000, array([0.502, 0.498])), (1000, array([1., 0.]))]], 'obj_sequence': [array([0.70710678, 0.00282843, 0.00282843, 0.70710678])]}\n",
      "{'iteration': 173, 'empi_dists_seq': [[(1000, array([0.496, 0.504])), (1000, array([0.496, 0.504])), (1000, array([1., 0.]))]], 'obj_sequence': [array([ 0.70710678, -0.00565685, -0.00565685,  0.70710678])]}\n",
      "{'iteration': 174, 'empi_dists_seq': [[(1000, array([0.501, 0.499])), (1000, array([0.501, 0.499])), (1000, array([1., 0.]))]], 'obj_sequence': [array([0.70710678, 0.00141421, 0.00141421, 0.70710678])]}\n",
      "{'iteration': 175, 'empi_dists_seq': [[(1000, array([0.514, 0.486])), (1000, array([0.514, 0.486])), (1000, array([1., 0.]))]], 'obj_sequence': [array([0.70710678, 0.01979899, 0.01979899, 0.70710678])]}\n",
      "{'iteration': 176, 'empi_dists_seq': [[(1000, array([0.476, 0.524])), (1000, array([0.476, 0.524])), (1000, array([1., 0.]))]], 'obj_sequence': [array([ 0.70710678, -0.03394113, -0.03394113,  0.70710678])]}\n",
      "{'iteration': 177, 'empi_dists_seq': [[(1000, array([0.518, 0.482])), (1000, array([0.518, 0.482])), (1000, array([1., 0.]))]], 'obj_sequence': [array([0.70710678, 0.02545584, 0.02545584, 0.70710678])]}\n",
      "{'iteration': 178, 'empi_dists_seq': [[(1000, array([0.496, 0.504])), (1000, array([0.496, 0.504])), (1000, array([1., 0.]))]], 'obj_sequence': [array([ 0.70710678, -0.00565685, -0.00565685,  0.70710678])]}\n",
      "{'iteration': 179, 'empi_dists_seq': [[(1000, array([0.493, 0.507])), (1000, array([0.493, 0.507])), (1000, array([1., 0.]))]], 'obj_sequence': [array([ 0.70710678, -0.00989949, -0.00989949,  0.70710678])]}\n",
      "{'iteration': 180, 'empi_dists_seq': [[(1000, array([0.493, 0.507])), (1000, array([0.493, 0.507])), (1000, array([1., 0.]))]], 'obj_sequence': [array([ 0.70710678, -0.00989949, -0.00989949,  0.70710678])]}\n",
      "{'iteration': 181, 'empi_dists_seq': [[(1000, array([0.504, 0.496])), (1000, array([0.504, 0.496])), (1000, array([1., 0.]))]], 'obj_sequence': [array([0.70710678, 0.00565685, 0.00565685, 0.70710678])]}\n",
      "{'iteration': 182, 'empi_dists_seq': [[(1000, array([0.467, 0.533])), (1000, array([0.467, 0.533])), (1000, array([1., 0.]))]], 'obj_sequence': [array([ 0.70710678, -0.04666905, -0.04666905,  0.70710678])]}\n",
      "{'iteration': 183, 'empi_dists_seq': [[(1000, array([0.499, 0.501])), (1000, array([0.499, 0.501])), (1000, array([1., 0.]))]], 'obj_sequence': [array([ 0.70710678, -0.00141421, -0.00141421,  0.70710678])]}\n",
      "{'iteration': 184, 'empi_dists_seq': [[(1000, array([0.477, 0.523])), (1000, array([0.477, 0.523])), (1000, array([1., 0.]))]], 'obj_sequence': [array([ 0.70710678, -0.03252691, -0.03252691,  0.70710678])]}\n",
      "{'iteration': 185, 'empi_dists_seq': [[(1000, array([0.505, 0.495])), (1000, array([0.505, 0.495])), (1000, array([1., 0.]))]], 'obj_sequence': [array([0.70710678, 0.00707107, 0.00707107, 0.70710678])]}\n"
     ]
    },
    {
     "name": "stdout",
     "output_type": "stream",
     "text": [
      "{'iteration': 186, 'empi_dists_seq': [[(1000, array([0.5, 0.5])), (1000, array([0.5, 0.5])), (1000, array([1., 0.]))]], 'obj_sequence': [array([0.70710678, 0.        , 0.        , 0.70710678])]}\n",
      "{'iteration': 187, 'empi_dists_seq': [[(1000, array([0.512, 0.488])), (1000, array([0.512, 0.488])), (1000, array([1., 0.]))]], 'obj_sequence': [array([0.70710678, 0.01697056, 0.01697056, 0.70710678])]}\n",
      "{'iteration': 188, 'empi_dists_seq': [[(1000, array([0.491, 0.509])), (1000, array([0.491, 0.509])), (1000, array([1., 0.]))]], 'obj_sequence': [array([ 0.70710678, -0.01272792, -0.01272792,  0.70710678])]}\n",
      "{'iteration': 189, 'empi_dists_seq': [[(1000, array([0.503, 0.497])), (1000, array([0.503, 0.497])), (1000, array([1., 0.]))]], 'obj_sequence': [array([0.70710678, 0.00424264, 0.00424264, 0.70710678])]}\n",
      "{'iteration': 190, 'empi_dists_seq': [[(1000, array([0.512, 0.488])), (1000, array([0.512, 0.488])), (1000, array([1., 0.]))]], 'obj_sequence': [array([0.70710678, 0.01697056, 0.01697056, 0.70710678])]}\n",
      "{'iteration': 191, 'empi_dists_seq': [[(1000, array([0.516, 0.484])), (1000, array([0.516, 0.484])), (1000, array([1., 0.]))]], 'obj_sequence': [array([0.70710678, 0.02262742, 0.02262742, 0.70710678])]}\n",
      "{'iteration': 192, 'empi_dists_seq': [[(1000, array([0.479, 0.521])), (1000, array([0.479, 0.521])), (1000, array([1., 0.]))]], 'obj_sequence': [array([ 0.70710678, -0.02969848, -0.02969848,  0.70710678])]}\n",
      "{'iteration': 193, 'empi_dists_seq': [[(1000, array([0.496, 0.504])), (1000, array([0.496, 0.504])), (1000, array([1., 0.]))]], 'obj_sequence': [array([ 0.70710678, -0.00565685, -0.00565685,  0.70710678])]}\n",
      "{'iteration': 194, 'empi_dists_seq': [[(1000, array([0.488, 0.512])), (1000, array([0.488, 0.512])), (1000, array([1., 0.]))]], 'obj_sequence': [array([ 0.70710678, -0.01697056, -0.01697056,  0.70710678])]}\n",
      "{'iteration': 195, 'empi_dists_seq': [[(1000, array([0.505, 0.495])), (1000, array([0.505, 0.495])), (1000, array([1., 0.]))]], 'obj_sequence': [array([0.70710678, 0.00707107, 0.00707107, 0.70710678])]}\n",
      "{'iteration': 196, 'empi_dists_seq': [[(1000, array([0.491, 0.509])), (1000, array([0.491, 0.509])), (1000, array([1., 0.]))]], 'obj_sequence': [array([ 0.70710678, -0.01272792, -0.01272792,  0.70710678])]}\n",
      "{'iteration': 197, 'empi_dists_seq': [[(1000, array([0.492, 0.508])), (1000, array([0.492, 0.508])), (1000, array([1., 0.]))]], 'obj_sequence': [array([ 0.70710678, -0.01131371, -0.01131371,  0.70710678])]}\n",
      "{'iteration': 198, 'empi_dists_seq': [[(1000, array([0.527, 0.473])), (1000, array([0.527, 0.473])), (1000, array([1., 0.]))]], 'obj_sequence': [array([0.70710678, 0.03818377, 0.03818377, 0.70710678])]}\n",
      "{'iteration': 199, 'empi_dists_seq': [[(1000, array([0.507, 0.493])), (1000, array([0.507, 0.493])), (1000, array([1., 0.]))]], 'obj_sequence': [array([0.70710678, 0.00989949, 0.00989949, 0.70710678])]}\n",
      "{'iteration': 200, 'empi_dists_seq': [[(1000, array([0.496, 0.504])), (1000, array([0.496, 0.504])), (1000, array([1., 0.]))]], 'obj_sequence': [array([ 0.70710678, -0.00565685, -0.00565685,  0.70710678])]}\n",
      "{'iteration': 201, 'empi_dists_seq': [[(1000, array([0.525, 0.475])), (1000, array([0.525, 0.475])), (1000, array([1., 0.]))]], 'obj_sequence': [array([0.70710678, 0.03535534, 0.03535534, 0.70710678])]}\n",
      "{'iteration': 202, 'empi_dists_seq': [[(1000, array([0.523, 0.477])), (1000, array([0.523, 0.477])), (1000, array([1., 0.]))]], 'obj_sequence': [array([0.70710678, 0.03252691, 0.03252691, 0.70710678])]}\n",
      "{'iteration': 203, 'empi_dists_seq': [[(1000, array([0.464, 0.536])), (1000, array([0.464, 0.536])), (1000, array([1., 0.]))]], 'obj_sequence': [array([ 0.70710678, -0.05091169, -0.05091169,  0.70710678])]}\n",
      "{'iteration': 204, 'empi_dists_seq': [[(1000, array([0.495, 0.505])), (1000, array([0.495, 0.505])), (1000, array([1., 0.]))]], 'obj_sequence': [array([ 0.70710678, -0.00707107, -0.00707107,  0.70710678])]}\n",
      "{'iteration': 205, 'empi_dists_seq': [[(1000, array([0.457, 0.543])), (1000, array([0.457, 0.543])), (1000, array([1., 0.]))]], 'obj_sequence': [array([ 0.70710678, -0.06081118, -0.06081118,  0.70710678])]}\n",
      "{'iteration': 206, 'empi_dists_seq': [[(1000, array([0.503, 0.497])), (1000, array([0.503, 0.497])), (1000, array([1., 0.]))]], 'obj_sequence': [array([0.70710678, 0.00424264, 0.00424264, 0.70710678])]}\n",
      "{'iteration': 207, 'empi_dists_seq': [[(1000, array([0.499, 0.501])), (1000, array([0.499, 0.501])), (1000, array([1., 0.]))]], 'obj_sequence': [array([ 0.70710678, -0.00141421, -0.00141421,  0.70710678])]}\n",
      "{'iteration': 208, 'empi_dists_seq': [[(1000, array([0.504, 0.496])), (1000, array([0.504, 0.496])), (1000, array([1., 0.]))]], 'obj_sequence': [array([0.70710678, 0.00565685, 0.00565685, 0.70710678])]}\n",
      "{'iteration': 209, 'empi_dists_seq': [[(1000, array([0.491, 0.509])), (1000, array([0.491, 0.509])), (1000, array([1., 0.]))]], 'obj_sequence': [array([ 0.70710678, -0.01272792, -0.01272792,  0.70710678])]}\n",
      "{'iteration': 210, 'empi_dists_seq': [[(1000, array([0.5, 0.5])), (1000, array([0.5, 0.5])), (1000, array([1., 0.]))]], 'obj_sequence': [array([0.70710678, 0.        , 0.        , 0.70710678])]}\n",
      "{'iteration': 211, 'empi_dists_seq': [[(1000, array([0.499, 0.501])), (1000, array([0.499, 0.501])), (1000, array([1., 0.]))]], 'obj_sequence': [array([ 0.70710678, -0.00141421, -0.00141421,  0.70710678])]}\n",
      "{'iteration': 212, 'empi_dists_seq': [[(1000, array([0.476, 0.524])), (1000, array([0.476, 0.524])), (1000, array([1., 0.]))]], 'obj_sequence': [array([ 0.70710678, -0.03394113, -0.03394113,  0.70710678])]}\n",
      "{'iteration': 213, 'empi_dists_seq': [[(1000, array([0.516, 0.484])), (1000, array([0.516, 0.484])), (1000, array([1., 0.]))]], 'obj_sequence': [array([0.70710678, 0.02262742, 0.02262742, 0.70710678])]}\n",
      "{'iteration': 214, 'empi_dists_seq': [[(1000, array([0.531, 0.469])), (1000, array([0.531, 0.469])), (1000, array([1., 0.]))]], 'obj_sequence': [array([0.70710678, 0.04384062, 0.04384062, 0.70710678])]}\n",
      "{'iteration': 215, 'empi_dists_seq': [[(1000, array([0.489, 0.511])), (1000, array([0.489, 0.511])), (1000, array([1., 0.]))]], 'obj_sequence': [array([ 0.70710678, -0.01555635, -0.01555635,  0.70710678])]}\n",
      "{'iteration': 216, 'empi_dists_seq': [[(1000, array([0.495, 0.505])), (1000, array([0.495, 0.505])), (1000, array([1., 0.]))]], 'obj_sequence': [array([ 0.70710678, -0.00707107, -0.00707107,  0.70710678])]}\n",
      "{'iteration': 217, 'empi_dists_seq': [[(1000, array([0.507, 0.493])), (1000, array([0.507, 0.493])), (1000, array([1., 0.]))]], 'obj_sequence': [array([0.70710678, 0.00989949, 0.00989949, 0.70710678])]}\n",
      "{'iteration': 218, 'empi_dists_seq': [[(1000, array([0.504, 0.496])), (1000, array([0.504, 0.496])), (1000, array([1., 0.]))]], 'obj_sequence': [array([0.70710678, 0.00565685, 0.00565685, 0.70710678])]}\n",
      "{'iteration': 219, 'empi_dists_seq': [[(1000, array([0.516, 0.484])), (1000, array([0.516, 0.484])), (1000, array([1., 0.]))]], 'obj_sequence': [array([0.70710678, 0.02262742, 0.02262742, 0.70710678])]}\n",
      "{'iteration': 220, 'empi_dists_seq': [[(1000, array([0.464, 0.536])), (1000, array([0.464, 0.536])), (1000, array([1., 0.]))]], 'obj_sequence': [array([ 0.70710678, -0.05091169, -0.05091169,  0.70710678])]}\n",
      "{'iteration': 221, 'empi_dists_seq': [[(1000, array([0.46, 0.54])), (1000, array([0.46, 0.54])), (1000, array([1., 0.]))]], 'obj_sequence': [array([ 0.70710678, -0.05656854, -0.05656854,  0.70710678])]}\n",
      "{'iteration': 222, 'empi_dists_seq': [[(1000, array([0.499, 0.501])), (1000, array([0.499, 0.501])), (1000, array([1., 0.]))]], 'obj_sequence': [array([ 0.70710678, -0.00141421, -0.00141421,  0.70710678])]}\n",
      "{'iteration': 223, 'empi_dists_seq': [[(1000, array([0.512, 0.488])), (1000, array([0.512, 0.488])), (1000, array([1., 0.]))]], 'obj_sequence': [array([0.70710678, 0.01697056, 0.01697056, 0.70710678])]}\n",
      "{'iteration': 224, 'empi_dists_seq': [[(1000, array([0.501, 0.499])), (1000, array([0.501, 0.499])), (1000, array([1., 0.]))]], 'obj_sequence': [array([0.70710678, 0.00141421, 0.00141421, 0.70710678])]}\n",
      "{'iteration': 225, 'empi_dists_seq': [[(1000, array([0.475, 0.525])), (1000, array([0.475, 0.525])), (1000, array([1., 0.]))]], 'obj_sequence': [array([ 0.70710678, -0.03535534, -0.03535534,  0.70710678])]}\n",
      "{'iteration': 226, 'empi_dists_seq': [[(1000, array([0.494, 0.506])), (1000, array([0.494, 0.506])), (1000, array([1., 0.]))]], 'obj_sequence': [array([ 0.70710678, -0.00848528, -0.00848528,  0.70710678])]}\n",
      "{'iteration': 227, 'empi_dists_seq': [[(1000, array([0.495, 0.505])), (1000, array([0.495, 0.505])), (1000, array([1., 0.]))]], 'obj_sequence': [array([ 0.70710678, -0.00707107, -0.00707107,  0.70710678])]}\n",
      "{'iteration': 228, 'empi_dists_seq': [[(1000, array([0.5, 0.5])), (1000, array([0.5, 0.5])), (1000, array([1., 0.]))]], 'obj_sequence': [array([0.70710678, 0.        , 0.        , 0.70710678])]}\n",
      "{'iteration': 229, 'empi_dists_seq': [[(1000, array([0.511, 0.489])), (1000, array([0.511, 0.489])), (1000, array([1., 0.]))]], 'obj_sequence': [array([0.70710678, 0.01555635, 0.01555635, 0.70710678])]}\n",
      "{'iteration': 230, 'empi_dists_seq': [[(1000, array([0.51, 0.49])), (1000, array([0.51, 0.49])), (1000, array([1., 0.]))]], 'obj_sequence': [array([0.70710678, 0.01414214, 0.01414214, 0.70710678])]}\n",
      "{'iteration': 231, 'empi_dists_seq': [[(1000, array([0.498, 0.502])), (1000, array([0.498, 0.502])), (1000, array([1., 0.]))]], 'obj_sequence': [array([ 0.70710678, -0.00282843, -0.00282843,  0.70710678])]}\n",
      "{'iteration': 232, 'empi_dists_seq': [[(1000, array([0.513, 0.487])), (1000, array([0.513, 0.487])), (1000, array([1., 0.]))]], 'obj_sequence': [array([0.70710678, 0.01838478, 0.01838478, 0.70710678])]}\n",
      "{'iteration': 233, 'empi_dists_seq': [[(1000, array([0.482, 0.518])), (1000, array([0.482, 0.518])), (1000, array([1., 0.]))]], 'obj_sequence': [array([ 0.70710678, -0.02545584, -0.02545584,  0.70710678])]}\n",
      "{'iteration': 234, 'empi_dists_seq': [[(1000, array([0.483, 0.517])), (1000, array([0.483, 0.517])), (1000, array([1., 0.]))]], 'obj_sequence': [array([ 0.70710678, -0.02404163, -0.02404163,  0.70710678])]}\n"
     ]
    },
    {
     "name": "stdout",
     "output_type": "stream",
     "text": [
      "{'iteration': 235, 'empi_dists_seq': [[(1000, array([0.481, 0.519])), (1000, array([0.481, 0.519])), (1000, array([1., 0.]))]], 'obj_sequence': [array([ 0.70710678, -0.02687006, -0.02687006,  0.70710678])]}\n",
      "{'iteration': 236, 'empi_dists_seq': [[(1000, array([0.501, 0.499])), (1000, array([0.501, 0.499])), (1000, array([1., 0.]))]], 'obj_sequence': [array([0.70710678, 0.00141421, 0.00141421, 0.70710678])]}\n",
      "{'iteration': 237, 'empi_dists_seq': [[(1000, array([0.525, 0.475])), (1000, array([0.525, 0.475])), (1000, array([1., 0.]))]], 'obj_sequence': [array([0.70710678, 0.03535534, 0.03535534, 0.70710678])]}\n",
      "{'iteration': 238, 'empi_dists_seq': [[(1000, array([0.515, 0.485])), (1000, array([0.515, 0.485])), (1000, array([1., 0.]))]], 'obj_sequence': [array([0.70710678, 0.0212132 , 0.0212132 , 0.70710678])]}\n",
      "{'iteration': 239, 'empi_dists_seq': [[(1000, array([0.494, 0.506])), (1000, array([0.494, 0.506])), (1000, array([1., 0.]))]], 'obj_sequence': [array([ 0.70710678, -0.00848528, -0.00848528,  0.70710678])]}\n",
      "{'iteration': 240, 'empi_dists_seq': [[(1000, array([0.493, 0.507])), (1000, array([0.493, 0.507])), (1000, array([1., 0.]))]], 'obj_sequence': [array([ 0.70710678, -0.00989949, -0.00989949,  0.70710678])]}\n",
      "{'iteration': 241, 'empi_dists_seq': [[(1000, array([0.491, 0.509])), (1000, array([0.491, 0.509])), (1000, array([1., 0.]))]], 'obj_sequence': [array([ 0.70710678, -0.01272792, -0.01272792,  0.70710678])]}\n",
      "{'iteration': 242, 'empi_dists_seq': [[(1000, array([0.494, 0.506])), (1000, array([0.494, 0.506])), (1000, array([1., 0.]))]], 'obj_sequence': [array([ 0.70710678, -0.00848528, -0.00848528,  0.70710678])]}\n",
      "{'iteration': 243, 'empi_dists_seq': [[(1000, array([0.505, 0.495])), (1000, array([0.505, 0.495])), (1000, array([1., 0.]))]], 'obj_sequence': [array([0.70710678, 0.00707107, 0.00707107, 0.70710678])]}\n",
      "{'iteration': 244, 'empi_dists_seq': [[(1000, array([0.544, 0.456])), (1000, array([0.544, 0.456])), (1000, array([1., 0.]))]], 'obj_sequence': [array([0.70710678, 0.0622254 , 0.0622254 , 0.70710678])]}\n",
      "{'iteration': 245, 'empi_dists_seq': [[(1000, array([0.507, 0.493])), (1000, array([0.507, 0.493])), (1000, array([1., 0.]))]], 'obj_sequence': [array([0.70710678, 0.00989949, 0.00989949, 0.70710678])]}\n",
      "{'iteration': 246, 'empi_dists_seq': [[(1000, array([0.484, 0.516])), (1000, array([0.484, 0.516])), (1000, array([1., 0.]))]], 'obj_sequence': [array([ 0.70710678, -0.02262742, -0.02262742,  0.70710678])]}\n",
      "{'iteration': 247, 'empi_dists_seq': [[(1000, array([0.502, 0.498])), (1000, array([0.502, 0.498])), (1000, array([1., 0.]))]], 'obj_sequence': [array([0.70710678, 0.00282843, 0.00282843, 0.70710678])]}\n",
      "{'iteration': 248, 'empi_dists_seq': [[(1000, array([0.498, 0.502])), (1000, array([0.498, 0.502])), (1000, array([1., 0.]))]], 'obj_sequence': [array([ 0.70710678, -0.00282843, -0.00282843,  0.70710678])]}\n",
      "{'iteration': 249, 'empi_dists_seq': [[(1000, array([0.494, 0.506])), (1000, array([0.494, 0.506])), (1000, array([1., 0.]))]], 'obj_sequence': [array([ 0.70710678, -0.00848528, -0.00848528,  0.70710678])]}\n",
      "{'iteration': 250, 'empi_dists_seq': [[(1000, array([0.514, 0.486])), (1000, array([0.514, 0.486])), (1000, array([1., 0.]))]], 'obj_sequence': [array([0.70710678, 0.01979899, 0.01979899, 0.70710678])]}\n",
      "{'iteration': 251, 'empi_dists_seq': [[(1000, array([0.492, 0.508])), (1000, array([0.492, 0.508])), (1000, array([1., 0.]))]], 'obj_sequence': [array([ 0.70710678, -0.01131371, -0.01131371,  0.70710678])]}\n",
      "{'iteration': 252, 'empi_dists_seq': [[(1000, array([0.484, 0.516])), (1000, array([0.484, 0.516])), (1000, array([1., 0.]))]], 'obj_sequence': [array([ 0.70710678, -0.02262742, -0.02262742,  0.70710678])]}\n",
      "{'iteration': 253, 'empi_dists_seq': [[(1000, array([0.484, 0.516])), (1000, array([0.484, 0.516])), (1000, array([1., 0.]))]], 'obj_sequence': [array([ 0.70710678, -0.02262742, -0.02262742,  0.70710678])]}\n",
      "{'iteration': 254, 'empi_dists_seq': [[(1000, array([0.5, 0.5])), (1000, array([0.5, 0.5])), (1000, array([1., 0.]))]], 'obj_sequence': [array([0.70710678, 0.        , 0.        , 0.70710678])]}\n",
      "{'iteration': 255, 'empi_dists_seq': [[(1000, array([0.501, 0.499])), (1000, array([0.501, 0.499])), (1000, array([1., 0.]))]], 'obj_sequence': [array([0.70710678, 0.00141421, 0.00141421, 0.70710678])]}\n",
      "{'iteration': 256, 'empi_dists_seq': [[(1000, array([0.502, 0.498])), (1000, array([0.502, 0.498])), (1000, array([1., 0.]))]], 'obj_sequence': [array([0.70710678, 0.00282843, 0.00282843, 0.70710678])]}\n",
      "{'iteration': 257, 'empi_dists_seq': [[(1000, array([0.481, 0.519])), (1000, array([0.481, 0.519])), (1000, array([1., 0.]))]], 'obj_sequence': [array([ 0.70710678, -0.02687006, -0.02687006,  0.70710678])]}\n",
      "{'iteration': 258, 'empi_dists_seq': [[(1000, array([0.526, 0.474])), (1000, array([0.526, 0.474])), (1000, array([1., 0.]))]], 'obj_sequence': [array([0.70710678, 0.03676955, 0.03676955, 0.70710678])]}\n",
      "{'iteration': 259, 'empi_dists_seq': [[(1000, array([0.504, 0.496])), (1000, array([0.504, 0.496])), (1000, array([1., 0.]))]], 'obj_sequence': [array([0.70710678, 0.00565685, 0.00565685, 0.70710678])]}\n",
      "{'iteration': 260, 'empi_dists_seq': [[(1000, array([0.486, 0.514])), (1000, array([0.486, 0.514])), (1000, array([1., 0.]))]], 'obj_sequence': [array([ 0.70710678, -0.01979899, -0.01979899,  0.70710678])]}\n",
      "{'iteration': 261, 'empi_dists_seq': [[(1000, array([0.506, 0.494])), (1000, array([0.506, 0.494])), (1000, array([1., 0.]))]], 'obj_sequence': [array([0.70710678, 0.00848528, 0.00848528, 0.70710678])]}\n",
      "{'iteration': 262, 'empi_dists_seq': [[(1000, array([0.502, 0.498])), (1000, array([0.502, 0.498])), (1000, array([1., 0.]))]], 'obj_sequence': [array([0.70710678, 0.00282843, 0.00282843, 0.70710678])]}\n",
      "{'iteration': 263, 'empi_dists_seq': [[(1000, array([0.497, 0.503])), (1000, array([0.497, 0.503])), (1000, array([1., 0.]))]], 'obj_sequence': [array([ 0.70710678, -0.00424264, -0.00424264,  0.70710678])]}\n",
      "{'iteration': 264, 'empi_dists_seq': [[(1000, array([0.495, 0.505])), (1000, array([0.495, 0.505])), (1000, array([1., 0.]))]], 'obj_sequence': [array([ 0.70710678, -0.00707107, -0.00707107,  0.70710678])]}\n",
      "{'iteration': 265, 'empi_dists_seq': [[(1000, array([0.479, 0.521])), (1000, array([0.479, 0.521])), (1000, array([1., 0.]))]], 'obj_sequence': [array([ 0.70710678, -0.02969848, -0.02969848,  0.70710678])]}\n",
      "{'iteration': 266, 'empi_dists_seq': [[(1000, array([0.483, 0.517])), (1000, array([0.483, 0.517])), (1000, array([1., 0.]))]], 'obj_sequence': [array([ 0.70710678, -0.02404163, -0.02404163,  0.70710678])]}\n",
      "{'iteration': 267, 'empi_dists_seq': [[(1000, array([0.497, 0.503])), (1000, array([0.497, 0.503])), (1000, array([1., 0.]))]], 'obj_sequence': [array([ 0.70710678, -0.00424264, -0.00424264,  0.70710678])]}\n",
      "{'iteration': 268, 'empi_dists_seq': [[(1000, array([0.486, 0.514])), (1000, array([0.486, 0.514])), (1000, array([1., 0.]))]], 'obj_sequence': [array([ 0.70710678, -0.01979899, -0.01979899,  0.70710678])]}\n",
      "{'iteration': 269, 'empi_dists_seq': [[(1000, array([0.508, 0.492])), (1000, array([0.508, 0.492])), (1000, array([1., 0.]))]], 'obj_sequence': [array([0.70710678, 0.01131371, 0.01131371, 0.70710678])]}\n",
      "{'iteration': 270, 'empi_dists_seq': [[(1000, array([0.495, 0.505])), (1000, array([0.495, 0.505])), (1000, array([1., 0.]))]], 'obj_sequence': [array([ 0.70710678, -0.00707107, -0.00707107,  0.70710678])]}\n",
      "{'iteration': 271, 'empi_dists_seq': [[(1000, array([0.516, 0.484])), (1000, array([0.516, 0.484])), (1000, array([1., 0.]))]], 'obj_sequence': [array([0.70710678, 0.02262742, 0.02262742, 0.70710678])]}\n",
      "{'iteration': 272, 'empi_dists_seq': [[(1000, array([0.473, 0.527])), (1000, array([0.473, 0.527])), (1000, array([1., 0.]))]], 'obj_sequence': [array([ 0.70710678, -0.03818377, -0.03818377,  0.70710678])]}\n",
      "{'iteration': 273, 'empi_dists_seq': [[(1000, array([0.511, 0.489])), (1000, array([0.511, 0.489])), (1000, array([1., 0.]))]], 'obj_sequence': [array([0.70710678, 0.01555635, 0.01555635, 0.70710678])]}\n",
      "{'iteration': 274, 'empi_dists_seq': [[(1000, array([0.499, 0.501])), (1000, array([0.499, 0.501])), (1000, array([1., 0.]))]], 'obj_sequence': [array([ 0.70710678, -0.00141421, -0.00141421,  0.70710678])]}\n",
      "{'iteration': 275, 'empi_dists_seq': [[(1000, array([0.486, 0.514])), (1000, array([0.486, 0.514])), (1000, array([1., 0.]))]], 'obj_sequence': [array([ 0.70710678, -0.01979899, -0.01979899,  0.70710678])]}\n",
      "{'iteration': 276, 'empi_dists_seq': [[(1000, array([0.513, 0.487])), (1000, array([0.513, 0.487])), (1000, array([1., 0.]))]], 'obj_sequence': [array([0.70710678, 0.01838478, 0.01838478, 0.70710678])]}\n",
      "{'iteration': 277, 'empi_dists_seq': [[(1000, array([0.482, 0.518])), (1000, array([0.482, 0.518])), (1000, array([1., 0.]))]], 'obj_sequence': [array([ 0.70710678, -0.02545584, -0.02545584,  0.70710678])]}\n",
      "{'iteration': 278, 'empi_dists_seq': [[(1000, array([0.485, 0.515])), (1000, array([0.485, 0.515])), (1000, array([1., 0.]))]], 'obj_sequence': [array([ 0.70710678, -0.0212132 , -0.0212132 ,  0.70710678])]}\n",
      "{'iteration': 279, 'empi_dists_seq': [[(1000, array([0.47, 0.53])), (1000, array([0.47, 0.53])), (1000, array([1., 0.]))]], 'obj_sequence': [array([ 0.70710678, -0.04242641, -0.04242641,  0.70710678])]}\n",
      "{'iteration': 280, 'empi_dists_seq': [[(1000, array([0.483, 0.517])), (1000, array([0.483, 0.517])), (1000, array([1., 0.]))]], 'obj_sequence': [array([ 0.70710678, -0.02404163, -0.02404163,  0.70710678])]}\n",
      "{'iteration': 281, 'empi_dists_seq': [[(1000, array([0.495, 0.505])), (1000, array([0.495, 0.505])), (1000, array([1., 0.]))]], 'obj_sequence': [array([ 0.70710678, -0.00707107, -0.00707107,  0.70710678])]}\n",
      "{'iteration': 282, 'empi_dists_seq': [[(1000, array([0.5, 0.5])), (1000, array([0.5, 0.5])), (1000, array([1., 0.]))]], 'obj_sequence': [array([0.70710678, 0.        , 0.        , 0.70710678])]}\n",
      "{'iteration': 283, 'empi_dists_seq': [[(1000, array([0.501, 0.499])), (1000, array([0.501, 0.499])), (1000, array([1., 0.]))]], 'obj_sequence': [array([0.70710678, 0.00141421, 0.00141421, 0.70710678])]}\n",
      "{'iteration': 284, 'empi_dists_seq': [[(1000, array([0.498, 0.502])), (1000, array([0.498, 0.502])), (1000, array([1., 0.]))]], 'obj_sequence': [array([ 0.70710678, -0.00282843, -0.00282843,  0.70710678])]}\n",
      "{'iteration': 285, 'empi_dists_seq': [[(1000, array([0.51, 0.49])), (1000, array([0.51, 0.49])), (1000, array([1., 0.]))]], 'obj_sequence': [array([0.70710678, 0.01414214, 0.01414214, 0.70710678])]}\n",
      "{'iteration': 286, 'empi_dists_seq': [[(1000, array([0.523, 0.477])), (1000, array([0.523, 0.477])), (1000, array([1., 0.]))]], 'obj_sequence': [array([0.70710678, 0.03252691, 0.03252691, 0.70710678])]}\n",
      "{'iteration': 287, 'empi_dists_seq': [[(1000, array([0.473, 0.527])), (1000, array([0.473, 0.527])), (1000, array([1., 0.]))]], 'obj_sequence': [array([ 0.70710678, -0.03818377, -0.03818377,  0.70710678])]}\n",
      "{'iteration': 288, 'empi_dists_seq': [[(1000, array([0.486, 0.514])), (1000, array([0.486, 0.514])), (1000, array([1., 0.]))]], 'obj_sequence': [array([ 0.70710678, -0.01979899, -0.01979899,  0.70710678])]}\n"
     ]
    },
    {
     "name": "stdout",
     "output_type": "stream",
     "text": [
      "{'iteration': 289, 'empi_dists_seq': [[(1000, array([0.5, 0.5])), (1000, array([0.5, 0.5])), (1000, array([1., 0.]))]], 'obj_sequence': [array([0.70710678, 0.        , 0.        , 0.70710678])]}\n",
      "{'iteration': 290, 'empi_dists_seq': [[(1000, array([0.531, 0.469])), (1000, array([0.531, 0.469])), (1000, array([1., 0.]))]], 'obj_sequence': [array([0.70710678, 0.04384062, 0.04384062, 0.70710678])]}\n",
      "{'iteration': 291, 'empi_dists_seq': [[(1000, array([0.512, 0.488])), (1000, array([0.512, 0.488])), (1000, array([1., 0.]))]], 'obj_sequence': [array([0.70710678, 0.01697056, 0.01697056, 0.70710678])]}\n",
      "{'iteration': 292, 'empi_dists_seq': [[(1000, array([0.504, 0.496])), (1000, array([0.504, 0.496])), (1000, array([1., 0.]))]], 'obj_sequence': [array([0.70710678, 0.00565685, 0.00565685, 0.70710678])]}\n",
      "{'iteration': 293, 'empi_dists_seq': [[(1000, array([0.511, 0.489])), (1000, array([0.511, 0.489])), (1000, array([1., 0.]))]], 'obj_sequence': [array([0.70710678, 0.01555635, 0.01555635, 0.70710678])]}\n",
      "{'iteration': 294, 'empi_dists_seq': [[(1000, array([0.499, 0.501])), (1000, array([0.499, 0.501])), (1000, array([1., 0.]))]], 'obj_sequence': [array([ 0.70710678, -0.00141421, -0.00141421,  0.70710678])]}\n",
      "{'iteration': 295, 'empi_dists_seq': [[(1000, array([0.496, 0.504])), (1000, array([0.496, 0.504])), (1000, array([1., 0.]))]], 'obj_sequence': [array([ 0.70710678, -0.00565685, -0.00565685,  0.70710678])]}\n",
      "{'iteration': 296, 'empi_dists_seq': [[(1000, array([0.51, 0.49])), (1000, array([0.51, 0.49])), (1000, array([1., 0.]))]], 'obj_sequence': [array([0.70710678, 0.01414214, 0.01414214, 0.70710678])]}\n",
      "{'iteration': 297, 'empi_dists_seq': [[(1000, array([0.497, 0.503])), (1000, array([0.497, 0.503])), (1000, array([1., 0.]))]], 'obj_sequence': [array([ 0.70710678, -0.00424264, -0.00424264,  0.70710678])]}\n",
      "{'iteration': 298, 'empi_dists_seq': [[(1000, array([0.508, 0.492])), (1000, array([0.508, 0.492])), (1000, array([1., 0.]))]], 'obj_sequence': [array([0.70710678, 0.01131371, 0.01131371, 0.70710678])]}\n",
      "{'iteration': 299, 'empi_dists_seq': [[(1000, array([0.521, 0.479])), (1000, array([0.521, 0.479])), (1000, array([1., 0.]))]], 'obj_sequence': [array([0.70710678, 0.02969848, 0.02969848, 0.70710678])]}\n",
      "{'iteration': 300, 'empi_dists_seq': [[(1000, array([0.513, 0.487])), (1000, array([0.513, 0.487])), (1000, array([1., 0.]))]], 'obj_sequence': [array([0.70710678, 0.01838478, 0.01838478, 0.70710678])]}\n",
      "{'iteration': 301, 'empi_dists_seq': [[(1000, array([0.504, 0.496])), (1000, array([0.504, 0.496])), (1000, array([1., 0.]))]], 'obj_sequence': [array([0.70710678, 0.00565685, 0.00565685, 0.70710678])]}\n",
      "{'iteration': 302, 'empi_dists_seq': [[(1000, array([0.51, 0.49])), (1000, array([0.51, 0.49])), (1000, array([1., 0.]))]], 'obj_sequence': [array([0.70710678, 0.01414214, 0.01414214, 0.70710678])]}\n",
      "{'iteration': 303, 'empi_dists_seq': [[(1000, array([0.484, 0.516])), (1000, array([0.484, 0.516])), (1000, array([1., 0.]))]], 'obj_sequence': [array([ 0.70710678, -0.02262742, -0.02262742,  0.70710678])]}\n",
      "{'iteration': 304, 'empi_dists_seq': [[(1000, array([0.511, 0.489])), (1000, array([0.511, 0.489])), (1000, array([1., 0.]))]], 'obj_sequence': [array([0.70710678, 0.01555635, 0.01555635, 0.70710678])]}\n",
      "{'iteration': 305, 'empi_dists_seq': [[(1000, array([0.496, 0.504])), (1000, array([0.496, 0.504])), (1000, array([1., 0.]))]], 'obj_sequence': [array([ 0.70710678, -0.00565685, -0.00565685,  0.70710678])]}\n",
      "{'iteration': 306, 'empi_dists_seq': [[(1000, array([0.524, 0.476])), (1000, array([0.524, 0.476])), (1000, array([1., 0.]))]], 'obj_sequence': [array([0.70710678, 0.03394113, 0.03394113, 0.70710678])]}\n",
      "{'iteration': 307, 'empi_dists_seq': [[(1000, array([0.491, 0.509])), (1000, array([0.491, 0.509])), (1000, array([1., 0.]))]], 'obj_sequence': [array([ 0.70710678, -0.01272792, -0.01272792,  0.70710678])]}\n",
      "{'iteration': 308, 'empi_dists_seq': [[(1000, array([0.511, 0.489])), (1000, array([0.511, 0.489])), (1000, array([1., 0.]))]], 'obj_sequence': [array([0.70710678, 0.01555635, 0.01555635, 0.70710678])]}\n",
      "{'iteration': 309, 'empi_dists_seq': [[(1000, array([0.469, 0.531])), (1000, array([0.469, 0.531])), (1000, array([1., 0.]))]], 'obj_sequence': [array([ 0.70710678, -0.04384062, -0.04384062,  0.70710678])]}\n",
      "{'iteration': 310, 'empi_dists_seq': [[(1000, array([0.504, 0.496])), (1000, array([0.504, 0.496])), (1000, array([1., 0.]))]], 'obj_sequence': [array([0.70710678, 0.00565685, 0.00565685, 0.70710678])]}\n",
      "{'iteration': 311, 'empi_dists_seq': [[(1000, array([0.505, 0.495])), (1000, array([0.505, 0.495])), (1000, array([1., 0.]))]], 'obj_sequence': [array([0.70710678, 0.00707107, 0.00707107, 0.70710678])]}\n",
      "{'iteration': 312, 'empi_dists_seq': [[(1000, array([0.52, 0.48])), (1000, array([0.52, 0.48])), (1000, array([1., 0.]))]], 'obj_sequence': [array([0.70710678, 0.02828427, 0.02828427, 0.70710678])]}\n",
      "{'iteration': 313, 'empi_dists_seq': [[(1000, array([0.484, 0.516])), (1000, array([0.484, 0.516])), (1000, array([1., 0.]))]], 'obj_sequence': [array([ 0.70710678, -0.02262742, -0.02262742,  0.70710678])]}\n",
      "{'iteration': 314, 'empi_dists_seq': [[(1000, array([0.478, 0.522])), (1000, array([0.478, 0.522])), (1000, array([1., 0.]))]], 'obj_sequence': [array([ 0.70710678, -0.0311127 , -0.0311127 ,  0.70710678])]}\n",
      "{'iteration': 315, 'empi_dists_seq': [[(1000, array([0.506, 0.494])), (1000, array([0.506, 0.494])), (1000, array([1., 0.]))]], 'obj_sequence': [array([0.70710678, 0.00848528, 0.00848528, 0.70710678])]}\n",
      "{'iteration': 316, 'empi_dists_seq': [[(1000, array([0.528, 0.472])), (1000, array([0.528, 0.472])), (1000, array([1., 0.]))]], 'obj_sequence': [array([0.70710678, 0.03959798, 0.03959798, 0.70710678])]}\n",
      "{'iteration': 317, 'empi_dists_seq': [[(1000, array([0.518, 0.482])), (1000, array([0.518, 0.482])), (1000, array([1., 0.]))]], 'obj_sequence': [array([0.70710678, 0.02545584, 0.02545584, 0.70710678])]}\n",
      "{'iteration': 318, 'empi_dists_seq': [[(1000, array([0.503, 0.497])), (1000, array([0.503, 0.497])), (1000, array([1., 0.]))]], 'obj_sequence': [array([0.70710678, 0.00424264, 0.00424264, 0.70710678])]}\n",
      "{'iteration': 319, 'empi_dists_seq': [[(1000, array([0.509, 0.491])), (1000, array([0.509, 0.491])), (1000, array([1., 0.]))]], 'obj_sequence': [array([0.70710678, 0.01272792, 0.01272792, 0.70710678])]}\n",
      "{'iteration': 320, 'empi_dists_seq': [[(1000, array([0.538, 0.462])), (1000, array([0.538, 0.462])), (1000, array([1., 0.]))]], 'obj_sequence': [array([0.70710678, 0.05374012, 0.05374012, 0.70710678])]}\n",
      "{'iteration': 321, 'empi_dists_seq': [[(1000, array([0.501, 0.499])), (1000, array([0.501, 0.499])), (1000, array([1., 0.]))]], 'obj_sequence': [array([0.70710678, 0.00141421, 0.00141421, 0.70710678])]}\n",
      "{'iteration': 322, 'empi_dists_seq': [[(1000, array([0.537, 0.463])), (1000, array([0.537, 0.463])), (1000, array([1., 0.]))]], 'obj_sequence': [array([0.70710678, 0.0523259 , 0.0523259 , 0.70710678])]}\n",
      "{'iteration': 323, 'empi_dists_seq': [[(1000, array([0.491, 0.509])), (1000, array([0.491, 0.509])), (1000, array([1., 0.]))]], 'obj_sequence': [array([ 0.70710678, -0.01272792, -0.01272792,  0.70710678])]}\n",
      "{'iteration': 324, 'empi_dists_seq': [[(1000, array([0.493, 0.507])), (1000, array([0.493, 0.507])), (1000, array([1., 0.]))]], 'obj_sequence': [array([ 0.70710678, -0.00989949, -0.00989949,  0.70710678])]}\n",
      "{'iteration': 325, 'empi_dists_seq': [[(1000, array([0.474, 0.526])), (1000, array([0.474, 0.526])), (1000, array([1., 0.]))]], 'obj_sequence': [array([ 0.70710678, -0.03676955, -0.03676955,  0.70710678])]}\n",
      "{'iteration': 326, 'empi_dists_seq': [[(1000, array([0.512, 0.488])), (1000, array([0.512, 0.488])), (1000, array([1., 0.]))]], 'obj_sequence': [array([0.70710678, 0.01697056, 0.01697056, 0.70710678])]}\n",
      "{'iteration': 327, 'empi_dists_seq': [[(1000, array([0.491, 0.509])), (1000, array([0.491, 0.509])), (1000, array([1., 0.]))]], 'obj_sequence': [array([ 0.70710678, -0.01272792, -0.01272792,  0.70710678])]}\n",
      "{'iteration': 328, 'empi_dists_seq': [[(1000, array([0.482, 0.518])), (1000, array([0.482, 0.518])), (1000, array([1., 0.]))]], 'obj_sequence': [array([ 0.70710678, -0.02545584, -0.02545584,  0.70710678])]}\n",
      "{'iteration': 329, 'empi_dists_seq': [[(1000, array([0.474, 0.526])), (1000, array([0.474, 0.526])), (1000, array([1., 0.]))]], 'obj_sequence': [array([ 0.70710678, -0.03676955, -0.03676955,  0.70710678])]}\n",
      "{'iteration': 330, 'empi_dists_seq': [[(1000, array([0.487, 0.513])), (1000, array([0.487, 0.513])), (1000, array([1., 0.]))]], 'obj_sequence': [array([ 0.70710678, -0.01838478, -0.01838478,  0.70710678])]}\n",
      "{'iteration': 331, 'empi_dists_seq': [[(1000, array([0.5, 0.5])), (1000, array([0.5, 0.5])), (1000, array([1., 0.]))]], 'obj_sequence': [array([0.70710678, 0.        , 0.        , 0.70710678])]}\n",
      "{'iteration': 332, 'empi_dists_seq': [[(1000, array([0.505, 0.495])), (1000, array([0.505, 0.495])), (1000, array([1., 0.]))]], 'obj_sequence': [array([0.70710678, 0.00707107, 0.00707107, 0.70710678])]}\n",
      "{'iteration': 333, 'empi_dists_seq': [[(1000, array([0.523, 0.477])), (1000, array([0.523, 0.477])), (1000, array([1., 0.]))]], 'obj_sequence': [array([0.70710678, 0.03252691, 0.03252691, 0.70710678])]}\n",
      "{'iteration': 334, 'empi_dists_seq': [[(1000, array([0.499, 0.501])), (1000, array([0.499, 0.501])), (1000, array([1., 0.]))]], 'obj_sequence': [array([ 0.70710678, -0.00141421, -0.00141421,  0.70710678])]}\n",
      "{'iteration': 335, 'empi_dists_seq': [[(1000, array([0.504, 0.496])), (1000, array([0.504, 0.496])), (1000, array([1., 0.]))]], 'obj_sequence': [array([0.70710678, 0.00565685, 0.00565685, 0.70710678])]}\n",
      "{'iteration': 336, 'empi_dists_seq': [[(1000, array([0.486, 0.514])), (1000, array([0.486, 0.514])), (1000, array([1., 0.]))]], 'obj_sequence': [array([ 0.70710678, -0.01979899, -0.01979899,  0.70710678])]}\n",
      "{'iteration': 337, 'empi_dists_seq': [[(1000, array([0.486, 0.514])), (1000, array([0.486, 0.514])), (1000, array([1., 0.]))]], 'obj_sequence': [array([ 0.70710678, -0.01979899, -0.01979899,  0.70710678])]}\n",
      "{'iteration': 338, 'empi_dists_seq': [[(1000, array([0.51, 0.49])), (1000, array([0.51, 0.49])), (1000, array([1., 0.]))]], 'obj_sequence': [array([0.70710678, 0.01414214, 0.01414214, 0.70710678])]}\n",
      "{'iteration': 339, 'empi_dists_seq': [[(1000, array([0.526, 0.474])), (1000, array([0.526, 0.474])), (1000, array([1., 0.]))]], 'obj_sequence': [array([0.70710678, 0.03676955, 0.03676955, 0.70710678])]}\n"
     ]
    },
    {
     "name": "stdout",
     "output_type": "stream",
     "text": [
      "{'iteration': 340, 'empi_dists_seq': [[(1000, array([0.51, 0.49])), (1000, array([0.51, 0.49])), (1000, array([1., 0.]))]], 'obj_sequence': [array([0.70710678, 0.01414214, 0.01414214, 0.70710678])]}\n",
      "{'iteration': 341, 'empi_dists_seq': [[(1000, array([0.497, 0.503])), (1000, array([0.497, 0.503])), (1000, array([1., 0.]))]], 'obj_sequence': [array([ 0.70710678, -0.00424264, -0.00424264,  0.70710678])]}\n",
      "{'iteration': 342, 'empi_dists_seq': [[(1000, array([0.505, 0.495])), (1000, array([0.505, 0.495])), (1000, array([1., 0.]))]], 'obj_sequence': [array([0.70710678, 0.00707107, 0.00707107, 0.70710678])]}\n",
      "{'iteration': 343, 'empi_dists_seq': [[(1000, array([0.504, 0.496])), (1000, array([0.504, 0.496])), (1000, array([1., 0.]))]], 'obj_sequence': [array([0.70710678, 0.00565685, 0.00565685, 0.70710678])]}\n",
      "{'iteration': 344, 'empi_dists_seq': [[(1000, array([0.528, 0.472])), (1000, array([0.528, 0.472])), (1000, array([1., 0.]))]], 'obj_sequence': [array([0.70710678, 0.03959798, 0.03959798, 0.70710678])]}\n",
      "{'iteration': 345, 'empi_dists_seq': [[(1000, array([0.537, 0.463])), (1000, array([0.537, 0.463])), (1000, array([1., 0.]))]], 'obj_sequence': [array([0.70710678, 0.0523259 , 0.0523259 , 0.70710678])]}\n",
      "{'iteration': 346, 'empi_dists_seq': [[(1000, array([0.494, 0.506])), (1000, array([0.494, 0.506])), (1000, array([1., 0.]))]], 'obj_sequence': [array([ 0.70710678, -0.00848528, -0.00848528,  0.70710678])]}\n",
      "{'iteration': 347, 'empi_dists_seq': [[(1000, array([0.483, 0.517])), (1000, array([0.483, 0.517])), (1000, array([1., 0.]))]], 'obj_sequence': [array([ 0.70710678, -0.02404163, -0.02404163,  0.70710678])]}\n",
      "{'iteration': 348, 'empi_dists_seq': [[(1000, array([0.47, 0.53])), (1000, array([0.47, 0.53])), (1000, array([1., 0.]))]], 'obj_sequence': [array([ 0.70710678, -0.04242641, -0.04242641,  0.70710678])]}\n",
      "{'iteration': 349, 'empi_dists_seq': [[(1000, array([0.522, 0.478])), (1000, array([0.522, 0.478])), (1000, array([1., 0.]))]], 'obj_sequence': [array([0.70710678, 0.0311127 , 0.0311127 , 0.70710678])]}\n",
      "{'iteration': 350, 'empi_dists_seq': [[(1000, array([0.5, 0.5])), (1000, array([0.5, 0.5])), (1000, array([1., 0.]))]], 'obj_sequence': [array([0.70710678, 0.        , 0.        , 0.70710678])]}\n",
      "{'iteration': 351, 'empi_dists_seq': [[(1000, array([0.508, 0.492])), (1000, array([0.508, 0.492])), (1000, array([1., 0.]))]], 'obj_sequence': [array([0.70710678, 0.01131371, 0.01131371, 0.70710678])]}\n",
      "{'iteration': 352, 'empi_dists_seq': [[(1000, array([0.496, 0.504])), (1000, array([0.496, 0.504])), (1000, array([1., 0.]))]], 'obj_sequence': [array([ 0.70710678, -0.00565685, -0.00565685,  0.70710678])]}\n",
      "{'iteration': 353, 'empi_dists_seq': [[(1000, array([0.496, 0.504])), (1000, array([0.496, 0.504])), (1000, array([1., 0.]))]], 'obj_sequence': [array([ 0.70710678, -0.00565685, -0.00565685,  0.70710678])]}\n",
      "{'iteration': 354, 'empi_dists_seq': [[(1000, array([0.484, 0.516])), (1000, array([0.484, 0.516])), (1000, array([1., 0.]))]], 'obj_sequence': [array([ 0.70710678, -0.02262742, -0.02262742,  0.70710678])]}\n",
      "{'iteration': 355, 'empi_dists_seq': [[(1000, array([0.467, 0.533])), (1000, array([0.467, 0.533])), (1000, array([1., 0.]))]], 'obj_sequence': [array([ 0.70710678, -0.04666905, -0.04666905,  0.70710678])]}\n",
      "{'iteration': 356, 'empi_dists_seq': [[(1000, array([0.507, 0.493])), (1000, array([0.507, 0.493])), (1000, array([1., 0.]))]], 'obj_sequence': [array([0.70710678, 0.00989949, 0.00989949, 0.70710678])]}\n",
      "{'iteration': 357, 'empi_dists_seq': [[(1000, array([0.537, 0.463])), (1000, array([0.537, 0.463])), (1000, array([1., 0.]))]], 'obj_sequence': [array([0.70710678, 0.0523259 , 0.0523259 , 0.70710678])]}\n",
      "{'iteration': 358, 'empi_dists_seq': [[(1000, array([0.48, 0.52])), (1000, array([0.48, 0.52])), (1000, array([1., 0.]))]], 'obj_sequence': [array([ 0.70710678, -0.02828427, -0.02828427,  0.70710678])]}\n",
      "{'iteration': 359, 'empi_dists_seq': [[(1000, array([0.492, 0.508])), (1000, array([0.492, 0.508])), (1000, array([1., 0.]))]], 'obj_sequence': [array([ 0.70710678, -0.01131371, -0.01131371,  0.70710678])]}\n",
      "{'iteration': 360, 'empi_dists_seq': [[(1000, array([0.498, 0.502])), (1000, array([0.498, 0.502])), (1000, array([1., 0.]))]], 'obj_sequence': [array([ 0.70710678, -0.00282843, -0.00282843,  0.70710678])]}\n",
      "{'iteration': 361, 'empi_dists_seq': [[(1000, array([0.515, 0.485])), (1000, array([0.515, 0.485])), (1000, array([1., 0.]))]], 'obj_sequence': [array([0.70710678, 0.0212132 , 0.0212132 , 0.70710678])]}\n",
      "{'iteration': 362, 'empi_dists_seq': [[(1000, array([0.487, 0.513])), (1000, array([0.487, 0.513])), (1000, array([1., 0.]))]], 'obj_sequence': [array([ 0.70710678, -0.01838478, -0.01838478,  0.70710678])]}\n",
      "{'iteration': 363, 'empi_dists_seq': [[(1000, array([0.49, 0.51])), (1000, array([0.49, 0.51])), (1000, array([1., 0.]))]], 'obj_sequence': [array([ 0.70710678, -0.01414214, -0.01414214,  0.70710678])]}\n",
      "{'iteration': 364, 'empi_dists_seq': [[(1000, array([0.489, 0.511])), (1000, array([0.489, 0.511])), (1000, array([1., 0.]))]], 'obj_sequence': [array([ 0.70710678, -0.01555635, -0.01555635,  0.70710678])]}\n",
      "{'iteration': 365, 'empi_dists_seq': [[(1000, array([0.492, 0.508])), (1000, array([0.492, 0.508])), (1000, array([1., 0.]))]], 'obj_sequence': [array([ 0.70710678, -0.01131371, -0.01131371,  0.70710678])]}\n",
      "{'iteration': 366, 'empi_dists_seq': [[(1000, array([0.504, 0.496])), (1000, array([0.504, 0.496])), (1000, array([1., 0.]))]], 'obj_sequence': [array([0.70710678, 0.00565685, 0.00565685, 0.70710678])]}\n",
      "{'iteration': 367, 'empi_dists_seq': [[(1000, array([0.506, 0.494])), (1000, array([0.506, 0.494])), (1000, array([1., 0.]))]], 'obj_sequence': [array([0.70710678, 0.00848528, 0.00848528, 0.70710678])]}\n",
      "{'iteration': 368, 'empi_dists_seq': [[(1000, array([0.489, 0.511])), (1000, array([0.489, 0.511])), (1000, array([1., 0.]))]], 'obj_sequence': [array([ 0.70710678, -0.01555635, -0.01555635,  0.70710678])]}\n",
      "{'iteration': 369, 'empi_dists_seq': [[(1000, array([0.515, 0.485])), (1000, array([0.515, 0.485])), (1000, array([1., 0.]))]], 'obj_sequence': [array([0.70710678, 0.0212132 , 0.0212132 , 0.70710678])]}\n",
      "{'iteration': 370, 'empi_dists_seq': [[(1000, array([0.5, 0.5])), (1000, array([0.5, 0.5])), (1000, array([1., 0.]))]], 'obj_sequence': [array([0.70710678, 0.        , 0.        , 0.70710678])]}\n",
      "{'iteration': 371, 'empi_dists_seq': [[(1000, array([0.468, 0.532])), (1000, array([0.468, 0.532])), (1000, array([1., 0.]))]], 'obj_sequence': [array([ 0.70710678, -0.04525483, -0.04525483,  0.70710678])]}\n",
      "{'iteration': 372, 'empi_dists_seq': [[(1000, array([0.514, 0.486])), (1000, array([0.514, 0.486])), (1000, array([1., 0.]))]], 'obj_sequence': [array([0.70710678, 0.01979899, 0.01979899, 0.70710678])]}\n",
      "{'iteration': 373, 'empi_dists_seq': [[(1000, array([0.527, 0.473])), (1000, array([0.527, 0.473])), (1000, array([1., 0.]))]], 'obj_sequence': [array([0.70710678, 0.03818377, 0.03818377, 0.70710678])]}\n",
      "{'iteration': 374, 'empi_dists_seq': [[(1000, array([0.499, 0.501])), (1000, array([0.499, 0.501])), (1000, array([1., 0.]))]], 'obj_sequence': [array([ 0.70710678, -0.00141421, -0.00141421,  0.70710678])]}\n",
      "{'iteration': 375, 'empi_dists_seq': [[(1000, array([0.489, 0.511])), (1000, array([0.489, 0.511])), (1000, array([1., 0.]))]], 'obj_sequence': [array([ 0.70710678, -0.01555635, -0.01555635,  0.70710678])]}\n",
      "{'iteration': 376, 'empi_dists_seq': [[(1000, array([0.495, 0.505])), (1000, array([0.495, 0.505])), (1000, array([1., 0.]))]], 'obj_sequence': [array([ 0.70710678, -0.00707107, -0.00707107,  0.70710678])]}\n",
      "{'iteration': 377, 'empi_dists_seq': [[(1000, array([0.5, 0.5])), (1000, array([0.5, 0.5])), (1000, array([1., 0.]))]], 'obj_sequence': [array([0.70710678, 0.        , 0.        , 0.70710678])]}\n",
      "{'iteration': 378, 'empi_dists_seq': [[(1000, array([0.485, 0.515])), (1000, array([0.485, 0.515])), (1000, array([1., 0.]))]], 'obj_sequence': [array([ 0.70710678, -0.0212132 , -0.0212132 ,  0.70710678])]}\n",
      "{'iteration': 379, 'empi_dists_seq': [[(1000, array([0.518, 0.482])), (1000, array([0.518, 0.482])), (1000, array([1., 0.]))]], 'obj_sequence': [array([0.70710678, 0.02545584, 0.02545584, 0.70710678])]}\n",
      "{'iteration': 380, 'empi_dists_seq': [[(1000, array([0.48, 0.52])), (1000, array([0.48, 0.52])), (1000, array([1., 0.]))]], 'obj_sequence': [array([ 0.70710678, -0.02828427, -0.02828427,  0.70710678])]}\n",
      "{'iteration': 381, 'empi_dists_seq': [[(1000, array([0.492, 0.508])), (1000, array([0.492, 0.508])), (1000, array([1., 0.]))]], 'obj_sequence': [array([ 0.70710678, -0.01131371, -0.01131371,  0.70710678])]}\n",
      "{'iteration': 382, 'empi_dists_seq': [[(1000, array([0.463, 0.537])), (1000, array([0.463, 0.537])), (1000, array([1., 0.]))]], 'obj_sequence': [array([ 0.70710678, -0.0523259 , -0.0523259 ,  0.70710678])]}\n",
      "{'iteration': 383, 'empi_dists_seq': [[(1000, array([0.501, 0.499])), (1000, array([0.501, 0.499])), (1000, array([1., 0.]))]], 'obj_sequence': [array([0.70710678, 0.00141421, 0.00141421, 0.70710678])]}\n",
      "{'iteration': 384, 'empi_dists_seq': [[(1000, array([0.494, 0.506])), (1000, array([0.494, 0.506])), (1000, array([1., 0.]))]], 'obj_sequence': [array([ 0.70710678, -0.00848528, -0.00848528,  0.70710678])]}\n",
      "{'iteration': 385, 'empi_dists_seq': [[(1000, array([0.495, 0.505])), (1000, array([0.495, 0.505])), (1000, array([1., 0.]))]], 'obj_sequence': [array([ 0.70710678, -0.00707107, -0.00707107,  0.70710678])]}\n",
      "{'iteration': 386, 'empi_dists_seq': [[(1000, array([0.51, 0.49])), (1000, array([0.51, 0.49])), (1000, array([1., 0.]))]], 'obj_sequence': [array([0.70710678, 0.01414214, 0.01414214, 0.70710678])]}\n",
      "{'iteration': 387, 'empi_dists_seq': [[(1000, array([0.519, 0.481])), (1000, array([0.519, 0.481])), (1000, array([1., 0.]))]], 'obj_sequence': [array([0.70710678, 0.02687006, 0.02687006, 0.70710678])]}\n",
      "{'iteration': 388, 'empi_dists_seq': [[(1000, array([0.507, 0.493])), (1000, array([0.507, 0.493])), (1000, array([1., 0.]))]], 'obj_sequence': [array([0.70710678, 0.00989949, 0.00989949, 0.70710678])]}\n",
      "{'iteration': 389, 'empi_dists_seq': [[(1000, array([0.481, 0.519])), (1000, array([0.481, 0.519])), (1000, array([1., 0.]))]], 'obj_sequence': [array([ 0.70710678, -0.02687006, -0.02687006,  0.70710678])]}\n",
      "{'iteration': 390, 'empi_dists_seq': [[(1000, array([0.5, 0.5])), (1000, array([0.5, 0.5])), (1000, array([1., 0.]))]], 'obj_sequence': [array([0.70710678, 0.        , 0.        , 0.70710678])]}\n",
      "{'iteration': 391, 'empi_dists_seq': [[(1000, array([0.515, 0.485])), (1000, array([0.515, 0.485])), (1000, array([1., 0.]))]], 'obj_sequence': [array([0.70710678, 0.0212132 , 0.0212132 , 0.70710678])]}\n"
     ]
    },
    {
     "name": "stdout",
     "output_type": "stream",
     "text": [
      "{'iteration': 392, 'empi_dists_seq': [[(1000, array([0.501, 0.499])), (1000, array([0.501, 0.499])), (1000, array([1., 0.]))]], 'obj_sequence': [array([0.70710678, 0.00141421, 0.00141421, 0.70710678])]}\n",
      "{'iteration': 393, 'empi_dists_seq': [[(1000, array([0.515, 0.485])), (1000, array([0.515, 0.485])), (1000, array([1., 0.]))]], 'obj_sequence': [array([0.70710678, 0.0212132 , 0.0212132 , 0.70710678])]}\n",
      "{'iteration': 394, 'empi_dists_seq': [[(1000, array([0.505, 0.495])), (1000, array([0.505, 0.495])), (1000, array([1., 0.]))]], 'obj_sequence': [array([0.70710678, 0.00707107, 0.00707107, 0.70710678])]}\n",
      "{'iteration': 395, 'empi_dists_seq': [[(1000, array([0.513, 0.487])), (1000, array([0.513, 0.487])), (1000, array([1., 0.]))]], 'obj_sequence': [array([0.70710678, 0.01838478, 0.01838478, 0.70710678])]}\n",
      "{'iteration': 396, 'empi_dists_seq': [[(1000, array([0.482, 0.518])), (1000, array([0.482, 0.518])), (1000, array([1., 0.]))]], 'obj_sequence': [array([ 0.70710678, -0.02545584, -0.02545584,  0.70710678])]}\n",
      "{'iteration': 397, 'empi_dists_seq': [[(1000, array([0.473, 0.527])), (1000, array([0.473, 0.527])), (1000, array([1., 0.]))]], 'obj_sequence': [array([ 0.70710678, -0.03818377, -0.03818377,  0.70710678])]}\n",
      "{'iteration': 398, 'empi_dists_seq': [[(1000, array([0.497, 0.503])), (1000, array([0.497, 0.503])), (1000, array([1., 0.]))]], 'obj_sequence': [array([ 0.70710678, -0.00424264, -0.00424264,  0.70710678])]}\n",
      "{'iteration': 399, 'empi_dists_seq': [[(1000, array([0.485, 0.515])), (1000, array([0.485, 0.515])), (1000, array([1., 0.]))]], 'obj_sequence': [array([ 0.70710678, -0.0212132 , -0.0212132 ,  0.70710678])]}\n",
      "{'iteration': 400, 'empi_dists_seq': [[(1000, array([0.501, 0.499])), (1000, array([0.501, 0.499])), (1000, array([1., 0.]))]], 'obj_sequence': [array([0.70710678, 0.00141421, 0.00141421, 0.70710678])]}\n",
      "{'iteration': 401, 'empi_dists_seq': [[(1000, array([0.506, 0.494])), (1000, array([0.506, 0.494])), (1000, array([1., 0.]))]], 'obj_sequence': [array([0.70710678, 0.00848528, 0.00848528, 0.70710678])]}\n",
      "{'iteration': 402, 'empi_dists_seq': [[(1000, array([0.507, 0.493])), (1000, array([0.507, 0.493])), (1000, array([1., 0.]))]], 'obj_sequence': [array([0.70710678, 0.00989949, 0.00989949, 0.70710678])]}\n",
      "{'iteration': 403, 'empi_dists_seq': [[(1000, array([0.515, 0.485])), (1000, array([0.515, 0.485])), (1000, array([1., 0.]))]], 'obj_sequence': [array([0.70710678, 0.0212132 , 0.0212132 , 0.70710678])]}\n",
      "{'iteration': 404, 'empi_dists_seq': [[(1000, array([0.519, 0.481])), (1000, array([0.519, 0.481])), (1000, array([1., 0.]))]], 'obj_sequence': [array([0.70710678, 0.02687006, 0.02687006, 0.70710678])]}\n",
      "{'iteration': 405, 'empi_dists_seq': [[(1000, array([0.492, 0.508])), (1000, array([0.492, 0.508])), (1000, array([1., 0.]))]], 'obj_sequence': [array([ 0.70710678, -0.01131371, -0.01131371,  0.70710678])]}\n",
      "{'iteration': 406, 'empi_dists_seq': [[(1000, array([0.499, 0.501])), (1000, array([0.499, 0.501])), (1000, array([1., 0.]))]], 'obj_sequence': [array([ 0.70710678, -0.00141421, -0.00141421,  0.70710678])]}\n",
      "{'iteration': 407, 'empi_dists_seq': [[(1000, array([0.489, 0.511])), (1000, array([0.489, 0.511])), (1000, array([1., 0.]))]], 'obj_sequence': [array([ 0.70710678, -0.01555635, -0.01555635,  0.70710678])]}\n",
      "{'iteration': 408, 'empi_dists_seq': [[(1000, array([0.48, 0.52])), (1000, array([0.48, 0.52])), (1000, array([1., 0.]))]], 'obj_sequence': [array([ 0.70710678, -0.02828427, -0.02828427,  0.70710678])]}\n",
      "{'iteration': 409, 'empi_dists_seq': [[(1000, array([0.496, 0.504])), (1000, array([0.496, 0.504])), (1000, array([1., 0.]))]], 'obj_sequence': [array([ 0.70710678, -0.00565685, -0.00565685,  0.70710678])]}\n",
      "{'iteration': 410, 'empi_dists_seq': [[(1000, array([0.491, 0.509])), (1000, array([0.491, 0.509])), (1000, array([1., 0.]))]], 'obj_sequence': [array([ 0.70710678, -0.01272792, -0.01272792,  0.70710678])]}\n",
      "{'iteration': 411, 'empi_dists_seq': [[(1000, array([0.53, 0.47])), (1000, array([0.53, 0.47])), (1000, array([1., 0.]))]], 'obj_sequence': [array([0.70710678, 0.04242641, 0.04242641, 0.70710678])]}\n",
      "{'iteration': 412, 'empi_dists_seq': [[(1000, array([0.513, 0.487])), (1000, array([0.513, 0.487])), (1000, array([1., 0.]))]], 'obj_sequence': [array([0.70710678, 0.01838478, 0.01838478, 0.70710678])]}\n",
      "{'iteration': 413, 'empi_dists_seq': [[(1000, array([0.505, 0.495])), (1000, array([0.505, 0.495])), (1000, array([1., 0.]))]], 'obj_sequence': [array([0.70710678, 0.00707107, 0.00707107, 0.70710678])]}\n",
      "{'iteration': 414, 'empi_dists_seq': [[(1000, array([0.506, 0.494])), (1000, array([0.506, 0.494])), (1000, array([1., 0.]))]], 'obj_sequence': [array([0.70710678, 0.00848528, 0.00848528, 0.70710678])]}\n",
      "{'iteration': 415, 'empi_dists_seq': [[(1000, array([0.528, 0.472])), (1000, array([0.528, 0.472])), (1000, array([1., 0.]))]], 'obj_sequence': [array([0.70710678, 0.03959798, 0.03959798, 0.70710678])]}\n",
      "{'iteration': 416, 'empi_dists_seq': [[(1000, array([0.498, 0.502])), (1000, array([0.498, 0.502])), (1000, array([1., 0.]))]], 'obj_sequence': [array([ 0.70710678, -0.00282843, -0.00282843,  0.70710678])]}\n",
      "{'iteration': 417, 'empi_dists_seq': [[(1000, array([0.46, 0.54])), (1000, array([0.46, 0.54])), (1000, array([1., 0.]))]], 'obj_sequence': [array([ 0.70710678, -0.05656854, -0.05656854,  0.70710678])]}\n",
      "{'iteration': 418, 'empi_dists_seq': [[(1000, array([0.505, 0.495])), (1000, array([0.505, 0.495])), (1000, array([1., 0.]))]], 'obj_sequence': [array([0.70710678, 0.00707107, 0.00707107, 0.70710678])]}\n",
      "{'iteration': 419, 'empi_dists_seq': [[(1000, array([0.518, 0.482])), (1000, array([0.518, 0.482])), (1000, array([1., 0.]))]], 'obj_sequence': [array([0.70710678, 0.02545584, 0.02545584, 0.70710678])]}\n",
      "{'iteration': 420, 'empi_dists_seq': [[(1000, array([0.502, 0.498])), (1000, array([0.502, 0.498])), (1000, array([1., 0.]))]], 'obj_sequence': [array([0.70710678, 0.00282843, 0.00282843, 0.70710678])]}\n",
      "{'iteration': 421, 'empi_dists_seq': [[(1000, array([0.51, 0.49])), (1000, array([0.51, 0.49])), (1000, array([1., 0.]))]], 'obj_sequence': [array([0.70710678, 0.01414214, 0.01414214, 0.70710678])]}\n",
      "{'iteration': 422, 'empi_dists_seq': [[(1000, array([0.512, 0.488])), (1000, array([0.512, 0.488])), (1000, array([1., 0.]))]], 'obj_sequence': [array([0.70710678, 0.01697056, 0.01697056, 0.70710678])]}\n",
      "{'iteration': 423, 'empi_dists_seq': [[(1000, array([0.479, 0.521])), (1000, array([0.479, 0.521])), (1000, array([1., 0.]))]], 'obj_sequence': [array([ 0.70710678, -0.02969848, -0.02969848,  0.70710678])]}\n",
      "{'iteration': 424, 'empi_dists_seq': [[(1000, array([0.504, 0.496])), (1000, array([0.504, 0.496])), (1000, array([1., 0.]))]], 'obj_sequence': [array([0.70710678, 0.00565685, 0.00565685, 0.70710678])]}\n",
      "{'iteration': 425, 'empi_dists_seq': [[(1000, array([0.506, 0.494])), (1000, array([0.506, 0.494])), (1000, array([1., 0.]))]], 'obj_sequence': [array([0.70710678, 0.00848528, 0.00848528, 0.70710678])]}\n",
      "{'iteration': 426, 'empi_dists_seq': [[(1000, array([0.509, 0.491])), (1000, array([0.509, 0.491])), (1000, array([1., 0.]))]], 'obj_sequence': [array([0.70710678, 0.01272792, 0.01272792, 0.70710678])]}\n",
      "{'iteration': 427, 'empi_dists_seq': [[(1000, array([0.511, 0.489])), (1000, array([0.511, 0.489])), (1000, array([1., 0.]))]], 'obj_sequence': [array([0.70710678, 0.01555635, 0.01555635, 0.70710678])]}\n",
      "{'iteration': 428, 'empi_dists_seq': [[(1000, array([0.521, 0.479])), (1000, array([0.521, 0.479])), (1000, array([1., 0.]))]], 'obj_sequence': [array([0.70710678, 0.02969848, 0.02969848, 0.70710678])]}\n",
      "{'iteration': 429, 'empi_dists_seq': [[(1000, array([0.466, 0.534])), (1000, array([0.466, 0.534])), (1000, array([1., 0.]))]], 'obj_sequence': [array([ 0.70710678, -0.04808326, -0.04808326,  0.70710678])]}\n",
      "{'iteration': 430, 'empi_dists_seq': [[(1000, array([0.506, 0.494])), (1000, array([0.506, 0.494])), (1000, array([1., 0.]))]], 'obj_sequence': [array([0.70710678, 0.00848528, 0.00848528, 0.70710678])]}\n",
      "{'iteration': 431, 'empi_dists_seq': [[(1000, array([0.495, 0.505])), (1000, array([0.495, 0.505])), (1000, array([1., 0.]))]], 'obj_sequence': [array([ 0.70710678, -0.00707107, -0.00707107,  0.70710678])]}\n",
      "{'iteration': 432, 'empi_dists_seq': [[(1000, array([0.492, 0.508])), (1000, array([0.492, 0.508])), (1000, array([1., 0.]))]], 'obj_sequence': [array([ 0.70710678, -0.01131371, -0.01131371,  0.70710678])]}\n",
      "{'iteration': 433, 'empi_dists_seq': [[(1000, array([0.518, 0.482])), (1000, array([0.518, 0.482])), (1000, array([1., 0.]))]], 'obj_sequence': [array([0.70710678, 0.02545584, 0.02545584, 0.70710678])]}\n",
      "{'iteration': 434, 'empi_dists_seq': [[(1000, array([0.509, 0.491])), (1000, array([0.509, 0.491])), (1000, array([1., 0.]))]], 'obj_sequence': [array([0.70710678, 0.01272792, 0.01272792, 0.70710678])]}\n",
      "{'iteration': 435, 'empi_dists_seq': [[(1000, array([0.476, 0.524])), (1000, array([0.476, 0.524])), (1000, array([1., 0.]))]], 'obj_sequence': [array([ 0.70710678, -0.03394113, -0.03394113,  0.70710678])]}\n",
      "{'iteration': 436, 'empi_dists_seq': [[(1000, array([0.476, 0.524])), (1000, array([0.476, 0.524])), (1000, array([1., 0.]))]], 'obj_sequence': [array([ 0.70710678, -0.03394113, -0.03394113,  0.70710678])]}\n",
      "{'iteration': 437, 'empi_dists_seq': [[(1000, array([0.513, 0.487])), (1000, array([0.513, 0.487])), (1000, array([1., 0.]))]], 'obj_sequence': [array([0.70710678, 0.01838478, 0.01838478, 0.70710678])]}\n",
      "{'iteration': 438, 'empi_dists_seq': [[(1000, array([0.507, 0.493])), (1000, array([0.507, 0.493])), (1000, array([1., 0.]))]], 'obj_sequence': [array([0.70710678, 0.00989949, 0.00989949, 0.70710678])]}\n",
      "{'iteration': 439, 'empi_dists_seq': [[(1000, array([0.472, 0.528])), (1000, array([0.472, 0.528])), (1000, array([1., 0.]))]], 'obj_sequence': [array([ 0.70710678, -0.03959798, -0.03959798,  0.70710678])]}\n",
      "{'iteration': 440, 'empi_dists_seq': [[(1000, array([0.489, 0.511])), (1000, array([0.489, 0.511])), (1000, array([1., 0.]))]], 'obj_sequence': [array([ 0.70710678, -0.01555635, -0.01555635,  0.70710678])]}\n",
      "{'iteration': 441, 'empi_dists_seq': [[(1000, array([0.49, 0.51])), (1000, array([0.49, 0.51])), (1000, array([1., 0.]))]], 'obj_sequence': [array([ 0.70710678, -0.01414214, -0.01414214,  0.70710678])]}\n",
      "{'iteration': 442, 'empi_dists_seq': [[(1000, array([0.492, 0.508])), (1000, array([0.492, 0.508])), (1000, array([1., 0.]))]], 'obj_sequence': [array([ 0.70710678, -0.01131371, -0.01131371,  0.70710678])]}\n",
      "{'iteration': 443, 'empi_dists_seq': [[(1000, array([0.508, 0.492])), (1000, array([0.508, 0.492])), (1000, array([1., 0.]))]], 'obj_sequence': [array([0.70710678, 0.01131371, 0.01131371, 0.70710678])]}\n",
      "{'iteration': 444, 'empi_dists_seq': [[(1000, array([0.482, 0.518])), (1000, array([0.482, 0.518])), (1000, array([1., 0.]))]], 'obj_sequence': [array([ 0.70710678, -0.02545584, -0.02545584,  0.70710678])]}\n"
     ]
    },
    {
     "name": "stdout",
     "output_type": "stream",
     "text": [
      "{'iteration': 445, 'empi_dists_seq': [[(1000, array([0.522, 0.478])), (1000, array([0.522, 0.478])), (1000, array([1., 0.]))]], 'obj_sequence': [array([0.70710678, 0.0311127 , 0.0311127 , 0.70710678])]}\n",
      "{'iteration': 446, 'empi_dists_seq': [[(1000, array([0.502, 0.498])), (1000, array([0.502, 0.498])), (1000, array([1., 0.]))]], 'obj_sequence': [array([0.70710678, 0.00282843, 0.00282843, 0.70710678])]}\n",
      "{'iteration': 447, 'empi_dists_seq': [[(1000, array([0.492, 0.508])), (1000, array([0.492, 0.508])), (1000, array([1., 0.]))]], 'obj_sequence': [array([ 0.70710678, -0.01131371, -0.01131371,  0.70710678])]}\n",
      "{'iteration': 448, 'empi_dists_seq': [[(1000, array([0.488, 0.512])), (1000, array([0.488, 0.512])), (1000, array([1., 0.]))]], 'obj_sequence': [array([ 0.70710678, -0.01697056, -0.01697056,  0.70710678])]}\n",
      "{'iteration': 449, 'empi_dists_seq': [[(1000, array([0.526, 0.474])), (1000, array([0.526, 0.474])), (1000, array([1., 0.]))]], 'obj_sequence': [array([0.70710678, 0.03676955, 0.03676955, 0.70710678])]}\n",
      "{'iteration': 450, 'empi_dists_seq': [[(1000, array([0.505, 0.495])), (1000, array([0.505, 0.495])), (1000, array([1., 0.]))]], 'obj_sequence': [array([0.70710678, 0.00707107, 0.00707107, 0.70710678])]}\n",
      "{'iteration': 451, 'empi_dists_seq': [[(1000, array([0.524, 0.476])), (1000, array([0.524, 0.476])), (1000, array([1., 0.]))]], 'obj_sequence': [array([0.70710678, 0.03394113, 0.03394113, 0.70710678])]}\n",
      "{'iteration': 452, 'empi_dists_seq': [[(1000, array([0.511, 0.489])), (1000, array([0.511, 0.489])), (1000, array([1., 0.]))]], 'obj_sequence': [array([0.70710678, 0.01555635, 0.01555635, 0.70710678])]}\n",
      "{'iteration': 453, 'empi_dists_seq': [[(1000, array([0.52, 0.48])), (1000, array([0.52, 0.48])), (1000, array([1., 0.]))]], 'obj_sequence': [array([0.70710678, 0.02828427, 0.02828427, 0.70710678])]}\n",
      "{'iteration': 454, 'empi_dists_seq': [[(1000, array([0.483, 0.517])), (1000, array([0.483, 0.517])), (1000, array([1., 0.]))]], 'obj_sequence': [array([ 0.70710678, -0.02404163, -0.02404163,  0.70710678])]}\n",
      "{'iteration': 455, 'empi_dists_seq': [[(1000, array([0.507, 0.493])), (1000, array([0.507, 0.493])), (1000, array([1., 0.]))]], 'obj_sequence': [array([0.70710678, 0.00989949, 0.00989949, 0.70710678])]}\n",
      "{'iteration': 456, 'empi_dists_seq': [[(1000, array([0.508, 0.492])), (1000, array([0.508, 0.492])), (1000, array([1., 0.]))]], 'obj_sequence': [array([0.70710678, 0.01131371, 0.01131371, 0.70710678])]}\n",
      "{'iteration': 457, 'empi_dists_seq': [[(1000, array([0.47, 0.53])), (1000, array([0.47, 0.53])), (1000, array([1., 0.]))]], 'obj_sequence': [array([ 0.70710678, -0.04242641, -0.04242641,  0.70710678])]}\n",
      "{'iteration': 458, 'empi_dists_seq': [[(1000, array([0.497, 0.503])), (1000, array([0.497, 0.503])), (1000, array([1., 0.]))]], 'obj_sequence': [array([ 0.70710678, -0.00424264, -0.00424264,  0.70710678])]}\n",
      "{'iteration': 459, 'empi_dists_seq': [[(1000, array([0.491, 0.509])), (1000, array([0.491, 0.509])), (1000, array([1., 0.]))]], 'obj_sequence': [array([ 0.70710678, -0.01272792, -0.01272792,  0.70710678])]}\n",
      "{'iteration': 460, 'empi_dists_seq': [[(1000, array([0.521, 0.479])), (1000, array([0.521, 0.479])), (1000, array([1., 0.]))]], 'obj_sequence': [array([0.70710678, 0.02969848, 0.02969848, 0.70710678])]}\n",
      "{'iteration': 461, 'empi_dists_seq': [[(1000, array([0.489, 0.511])), (1000, array([0.489, 0.511])), (1000, array([1., 0.]))]], 'obj_sequence': [array([ 0.70710678, -0.01555635, -0.01555635,  0.70710678])]}\n",
      "{'iteration': 462, 'empi_dists_seq': [[(1000, array([0.493, 0.507])), (1000, array([0.493, 0.507])), (1000, array([1., 0.]))]], 'obj_sequence': [array([ 0.70710678, -0.00989949, -0.00989949,  0.70710678])]}\n",
      "{'iteration': 463, 'empi_dists_seq': [[(1000, array([0.471, 0.529])), (1000, array([0.471, 0.529])), (1000, array([1., 0.]))]], 'obj_sequence': [array([ 0.70710678, -0.04101219, -0.04101219,  0.70710678])]}\n",
      "{'iteration': 464, 'empi_dists_seq': [[(1000, array([0.487, 0.513])), (1000, array([0.487, 0.513])), (1000, array([1., 0.]))]], 'obj_sequence': [array([ 0.70710678, -0.01838478, -0.01838478,  0.70710678])]}\n",
      "{'iteration': 465, 'empi_dists_seq': [[(1000, array([0.503, 0.497])), (1000, array([0.503, 0.497])), (1000, array([1., 0.]))]], 'obj_sequence': [array([0.70710678, 0.00424264, 0.00424264, 0.70710678])]}\n",
      "{'iteration': 466, 'empi_dists_seq': [[(1000, array([0.496, 0.504])), (1000, array([0.496, 0.504])), (1000, array([1., 0.]))]], 'obj_sequence': [array([ 0.70710678, -0.00565685, -0.00565685,  0.70710678])]}\n",
      "{'iteration': 467, 'empi_dists_seq': [[(1000, array([0.481, 0.519])), (1000, array([0.481, 0.519])), (1000, array([1., 0.]))]], 'obj_sequence': [array([ 0.70710678, -0.02687006, -0.02687006,  0.70710678])]}\n",
      "{'iteration': 468, 'empi_dists_seq': [[(1000, array([0.497, 0.503])), (1000, array([0.497, 0.503])), (1000, array([1., 0.]))]], 'obj_sequence': [array([ 0.70710678, -0.00424264, -0.00424264,  0.70710678])]}\n",
      "{'iteration': 469, 'empi_dists_seq': [[(1000, array([0.508, 0.492])), (1000, array([0.508, 0.492])), (1000, array([1., 0.]))]], 'obj_sequence': [array([0.70710678, 0.01131371, 0.01131371, 0.70710678])]}\n",
      "{'iteration': 470, 'empi_dists_seq': [[(1000, array([0.535, 0.465])), (1000, array([0.535, 0.465])), (1000, array([1., 0.]))]], 'obj_sequence': [array([0.70710678, 0.04949747, 0.04949747, 0.70710678])]}\n",
      "{'iteration': 471, 'empi_dists_seq': [[(1000, array([0.502, 0.498])), (1000, array([0.502, 0.498])), (1000, array([1., 0.]))]], 'obj_sequence': [array([0.70710678, 0.00282843, 0.00282843, 0.70710678])]}\n",
      "{'iteration': 472, 'empi_dists_seq': [[(1000, array([0.506, 0.494])), (1000, array([0.506, 0.494])), (1000, array([1., 0.]))]], 'obj_sequence': [array([0.70710678, 0.00848528, 0.00848528, 0.70710678])]}\n",
      "{'iteration': 473, 'empi_dists_seq': [[(1000, array([0.48, 0.52])), (1000, array([0.48, 0.52])), (1000, array([1., 0.]))]], 'obj_sequence': [array([ 0.70710678, -0.02828427, -0.02828427,  0.70710678])]}\n",
      "{'iteration': 474, 'empi_dists_seq': [[(1000, array([0.499, 0.501])), (1000, array([0.499, 0.501])), (1000, array([1., 0.]))]], 'obj_sequence': [array([ 0.70710678, -0.00141421, -0.00141421,  0.70710678])]}\n",
      "{'iteration': 475, 'empi_dists_seq': [[(1000, array([0.501, 0.499])), (1000, array([0.501, 0.499])), (1000, array([1., 0.]))]], 'obj_sequence': [array([0.70710678, 0.00141421, 0.00141421, 0.70710678])]}\n",
      "{'iteration': 476, 'empi_dists_seq': [[(1000, array([0.477, 0.523])), (1000, array([0.477, 0.523])), (1000, array([1., 0.]))]], 'obj_sequence': [array([ 0.70710678, -0.03252691, -0.03252691,  0.70710678])]}\n",
      "{'iteration': 477, 'empi_dists_seq': [[(1000, array([0.492, 0.508])), (1000, array([0.492, 0.508])), (1000, array([1., 0.]))]], 'obj_sequence': [array([ 0.70710678, -0.01131371, -0.01131371,  0.70710678])]}\n",
      "{'iteration': 478, 'empi_dists_seq': [[(1000, array([0.524, 0.476])), (1000, array([0.524, 0.476])), (1000, array([1., 0.]))]], 'obj_sequence': [array([0.70710678, 0.03394113, 0.03394113, 0.70710678])]}\n",
      "{'iteration': 479, 'empi_dists_seq': [[(1000, array([0.505, 0.495])), (1000, array([0.505, 0.495])), (1000, array([1., 0.]))]], 'obj_sequence': [array([0.70710678, 0.00707107, 0.00707107, 0.70710678])]}\n",
      "{'iteration': 480, 'empi_dists_seq': [[(1000, array([0.482, 0.518])), (1000, array([0.482, 0.518])), (1000, array([1., 0.]))]], 'obj_sequence': [array([ 0.70710678, -0.02545584, -0.02545584,  0.70710678])]}\n",
      "{'iteration': 481, 'empi_dists_seq': [[(1000, array([0.509, 0.491])), (1000, array([0.509, 0.491])), (1000, array([1., 0.]))]], 'obj_sequence': [array([0.70710678, 0.01272792, 0.01272792, 0.70710678])]}\n",
      "{'iteration': 482, 'empi_dists_seq': [[(1000, array([0.481, 0.519])), (1000, array([0.481, 0.519])), (1000, array([1., 0.]))]], 'obj_sequence': [array([ 0.70710678, -0.02687006, -0.02687006,  0.70710678])]}\n",
      "{'iteration': 483, 'empi_dists_seq': [[(1000, array([0.501, 0.499])), (1000, array([0.501, 0.499])), (1000, array([1., 0.]))]], 'obj_sequence': [array([0.70710678, 0.00141421, 0.00141421, 0.70710678])]}\n",
      "{'iteration': 484, 'empi_dists_seq': [[(1000, array([0.495, 0.505])), (1000, array([0.495, 0.505])), (1000, array([1., 0.]))]], 'obj_sequence': [array([ 0.70710678, -0.00707107, -0.00707107,  0.70710678])]}\n",
      "{'iteration': 485, 'empi_dists_seq': [[(1000, array([0.503, 0.497])), (1000, array([0.503, 0.497])), (1000, array([1., 0.]))]], 'obj_sequence': [array([0.70710678, 0.00424264, 0.00424264, 0.70710678])]}\n",
      "{'iteration': 486, 'empi_dists_seq': [[(1000, array([0.522, 0.478])), (1000, array([0.522, 0.478])), (1000, array([1., 0.]))]], 'obj_sequence': [array([0.70710678, 0.0311127 , 0.0311127 , 0.70710678])]}\n",
      "{'iteration': 487, 'empi_dists_seq': [[(1000, array([0.495, 0.505])), (1000, array([0.495, 0.505])), (1000, array([1., 0.]))]], 'obj_sequence': [array([ 0.70710678, -0.00707107, -0.00707107,  0.70710678])]}\n",
      "{'iteration': 488, 'empi_dists_seq': [[(1000, array([0.507, 0.493])), (1000, array([0.507, 0.493])), (1000, array([1., 0.]))]], 'obj_sequence': [array([0.70710678, 0.00989949, 0.00989949, 0.70710678])]}\n",
      "{'iteration': 489, 'empi_dists_seq': [[(1000, array([0.504, 0.496])), (1000, array([0.504, 0.496])), (1000, array([1., 0.]))]], 'obj_sequence': [array([0.70710678, 0.00565685, 0.00565685, 0.70710678])]}\n",
      "{'iteration': 490, 'empi_dists_seq': [[(1000, array([0.537, 0.463])), (1000, array([0.537, 0.463])), (1000, array([1., 0.]))]], 'obj_sequence': [array([0.70710678, 0.0523259 , 0.0523259 , 0.70710678])]}\n",
      "{'iteration': 491, 'empi_dists_seq': [[(1000, array([0.524, 0.476])), (1000, array([0.524, 0.476])), (1000, array([1., 0.]))]], 'obj_sequence': [array([0.70710678, 0.03394113, 0.03394113, 0.70710678])]}\n",
      "{'iteration': 492, 'empi_dists_seq': [[(1000, array([0.515, 0.485])), (1000, array([0.515, 0.485])), (1000, array([1., 0.]))]], 'obj_sequence': [array([0.70710678, 0.0212132 , 0.0212132 , 0.70710678])]}\n",
      "{'iteration': 493, 'empi_dists_seq': [[(1000, array([0.532, 0.468])), (1000, array([0.532, 0.468])), (1000, array([1., 0.]))]], 'obj_sequence': [array([0.70710678, 0.04525483, 0.04525483, 0.70710678])]}\n"
     ]
    },
    {
     "name": "stdout",
     "output_type": "stream",
     "text": [
      "{'iteration': 494, 'empi_dists_seq': [[(1000, array([0.465, 0.535])), (1000, array([0.465, 0.535])), (1000, array([1., 0.]))]], 'obj_sequence': [array([ 0.70710678, -0.04949747, -0.04949747,  0.70710678])]}\n",
      "{'iteration': 495, 'empi_dists_seq': [[(1000, array([0.493, 0.507])), (1000, array([0.493, 0.507])), (1000, array([1., 0.]))]], 'obj_sequence': [array([ 0.70710678, -0.00989949, -0.00989949,  0.70710678])]}\n",
      "{'iteration': 496, 'empi_dists_seq': [[(1000, array([0.493, 0.507])), (1000, array([0.493, 0.507])), (1000, array([1., 0.]))]], 'obj_sequence': [array([ 0.70710678, -0.00989949, -0.00989949,  0.70710678])]}\n",
      "{'iteration': 497, 'empi_dists_seq': [[(1000, array([0.505, 0.495])), (1000, array([0.505, 0.495])), (1000, array([1., 0.]))]], 'obj_sequence': [array([0.70710678, 0.00707107, 0.00707107, 0.70710678])]}\n",
      "{'iteration': 498, 'empi_dists_seq': [[(1000, array([0.497, 0.503])), (1000, array([0.497, 0.503])), (1000, array([1., 0.]))]], 'obj_sequence': [array([ 0.70710678, -0.00424264, -0.00424264,  0.70710678])]}\n",
      "{'iteration': 499, 'empi_dists_seq': [[(1000, array([0.509, 0.491])), (1000, array([0.509, 0.491])), (1000, array([1., 0.]))]], 'obj_sequence': [array([0.70710678, 0.01272792, 0.01272792, 0.70710678])]}\n",
      "{'iteration': 500, 'empi_dists_seq': [[(1000, array([0.5, 0.5])), (1000, array([0.5, 0.5])), (1000, array([1., 0.]))]], 'obj_sequence': [array([0.70710678, 0.        , 0.        , 0.70710678])]}\n",
      "{'iteration': 501, 'empi_dists_seq': [[(1000, array([0.494, 0.506])), (1000, array([0.494, 0.506])), (1000, array([1., 0.]))]], 'obj_sequence': [array([ 0.70710678, -0.00848528, -0.00848528,  0.70710678])]}\n",
      "{'iteration': 502, 'empi_dists_seq': [[(1000, array([0.522, 0.478])), (1000, array([0.522, 0.478])), (1000, array([1., 0.]))]], 'obj_sequence': [array([0.70710678, 0.0311127 , 0.0311127 , 0.70710678])]}\n",
      "{'iteration': 503, 'empi_dists_seq': [[(1000, array([0.51, 0.49])), (1000, array([0.51, 0.49])), (1000, array([1., 0.]))]], 'obj_sequence': [array([0.70710678, 0.01414214, 0.01414214, 0.70710678])]}\n",
      "{'iteration': 504, 'empi_dists_seq': [[(1000, array([0.474, 0.526])), (1000, array([0.474, 0.526])), (1000, array([1., 0.]))]], 'obj_sequence': [array([ 0.70710678, -0.03676955, -0.03676955,  0.70710678])]}\n",
      "{'iteration': 505, 'empi_dists_seq': [[(1000, array([0.486, 0.514])), (1000, array([0.486, 0.514])), (1000, array([1., 0.]))]], 'obj_sequence': [array([ 0.70710678, -0.01979899, -0.01979899,  0.70710678])]}\n",
      "{'iteration': 506, 'empi_dists_seq': [[(1000, array([0.477, 0.523])), (1000, array([0.477, 0.523])), (1000, array([1., 0.]))]], 'obj_sequence': [array([ 0.70710678, -0.03252691, -0.03252691,  0.70710678])]}\n",
      "{'iteration': 507, 'empi_dists_seq': [[(1000, array([0.495, 0.505])), (1000, array([0.495, 0.505])), (1000, array([1., 0.]))]], 'obj_sequence': [array([ 0.70710678, -0.00707107, -0.00707107,  0.70710678])]}\n",
      "{'iteration': 508, 'empi_dists_seq': [[(1000, array([0.502, 0.498])), (1000, array([0.502, 0.498])), (1000, array([1., 0.]))]], 'obj_sequence': [array([0.70710678, 0.00282843, 0.00282843, 0.70710678])]}\n",
      "{'iteration': 509, 'empi_dists_seq': [[(1000, array([0.501, 0.499])), (1000, array([0.501, 0.499])), (1000, array([1., 0.]))]], 'obj_sequence': [array([0.70710678, 0.00141421, 0.00141421, 0.70710678])]}\n",
      "{'iteration': 510, 'empi_dists_seq': [[(1000, array([0.475, 0.525])), (1000, array([0.475, 0.525])), (1000, array([1., 0.]))]], 'obj_sequence': [array([ 0.70710678, -0.03535534, -0.03535534,  0.70710678])]}\n",
      "{'iteration': 511, 'empi_dists_seq': [[(1000, array([0.51, 0.49])), (1000, array([0.51, 0.49])), (1000, array([1., 0.]))]], 'obj_sequence': [array([0.70710678, 0.01414214, 0.01414214, 0.70710678])]}\n",
      "{'iteration': 512, 'empi_dists_seq': [[(1000, array([0.488, 0.512])), (1000, array([0.488, 0.512])), (1000, array([1., 0.]))]], 'obj_sequence': [array([ 0.70710678, -0.01697056, -0.01697056,  0.70710678])]}\n",
      "{'iteration': 513, 'empi_dists_seq': [[(1000, array([0.491, 0.509])), (1000, array([0.491, 0.509])), (1000, array([1., 0.]))]], 'obj_sequence': [array([ 0.70710678, -0.01272792, -0.01272792,  0.70710678])]}\n",
      "{'iteration': 514, 'empi_dists_seq': [[(1000, array([0.498, 0.502])), (1000, array([0.498, 0.502])), (1000, array([1., 0.]))]], 'obj_sequence': [array([ 0.70710678, -0.00282843, -0.00282843,  0.70710678])]}\n",
      "{'iteration': 515, 'empi_dists_seq': [[(1000, array([0.485, 0.515])), (1000, array([0.485, 0.515])), (1000, array([1., 0.]))]], 'obj_sequence': [array([ 0.70710678, -0.0212132 , -0.0212132 ,  0.70710678])]}\n",
      "{'iteration': 516, 'empi_dists_seq': [[(1000, array([0.473, 0.527])), (1000, array([0.473, 0.527])), (1000, array([1., 0.]))]], 'obj_sequence': [array([ 0.70710678, -0.03818377, -0.03818377,  0.70710678])]}\n",
      "{'iteration': 517, 'empi_dists_seq': [[(1000, array([0.493, 0.507])), (1000, array([0.493, 0.507])), (1000, array([1., 0.]))]], 'obj_sequence': [array([ 0.70710678, -0.00989949, -0.00989949,  0.70710678])]}\n",
      "{'iteration': 518, 'empi_dists_seq': [[(1000, array([0.51, 0.49])), (1000, array([0.51, 0.49])), (1000, array([1., 0.]))]], 'obj_sequence': [array([0.70710678, 0.01414214, 0.01414214, 0.70710678])]}\n",
      "{'iteration': 519, 'empi_dists_seq': [[(1000, array([0.479, 0.521])), (1000, array([0.479, 0.521])), (1000, array([1., 0.]))]], 'obj_sequence': [array([ 0.70710678, -0.02969848, -0.02969848,  0.70710678])]}\n",
      "{'iteration': 520, 'empi_dists_seq': [[(1000, array([0.511, 0.489])), (1000, array([0.511, 0.489])), (1000, array([1., 0.]))]], 'obj_sequence': [array([0.70710678, 0.01555635, 0.01555635, 0.70710678])]}\n",
      "{'iteration': 521, 'empi_dists_seq': [[(1000, array([0.497, 0.503])), (1000, array([0.497, 0.503])), (1000, array([1., 0.]))]], 'obj_sequence': [array([ 0.70710678, -0.00424264, -0.00424264,  0.70710678])]}\n",
      "{'iteration': 522, 'empi_dists_seq': [[(1000, array([0.514, 0.486])), (1000, array([0.514, 0.486])), (1000, array([1., 0.]))]], 'obj_sequence': [array([0.70710678, 0.01979899, 0.01979899, 0.70710678])]}\n",
      "{'iteration': 523, 'empi_dists_seq': [[(1000, array([0.518, 0.482])), (1000, array([0.518, 0.482])), (1000, array([1., 0.]))]], 'obj_sequence': [array([0.70710678, 0.02545584, 0.02545584, 0.70710678])]}\n",
      "{'iteration': 524, 'empi_dists_seq': [[(1000, array([0.484, 0.516])), (1000, array([0.484, 0.516])), (1000, array([1., 0.]))]], 'obj_sequence': [array([ 0.70710678, -0.02262742, -0.02262742,  0.70710678])]}\n",
      "{'iteration': 525, 'empi_dists_seq': [[(1000, array([0.486, 0.514])), (1000, array([0.486, 0.514])), (1000, array([1., 0.]))]], 'obj_sequence': [array([ 0.70710678, -0.01979899, -0.01979899,  0.70710678])]}\n",
      "{'iteration': 526, 'empi_dists_seq': [[(1000, array([0.49, 0.51])), (1000, array([0.49, 0.51])), (1000, array([1., 0.]))]], 'obj_sequence': [array([ 0.70710678, -0.01414214, -0.01414214,  0.70710678])]}\n",
      "{'iteration': 527, 'empi_dists_seq': [[(1000, array([0.519, 0.481])), (1000, array([0.519, 0.481])), (1000, array([1., 0.]))]], 'obj_sequence': [array([0.70710678, 0.02687006, 0.02687006, 0.70710678])]}\n",
      "{'iteration': 528, 'empi_dists_seq': [[(1000, array([0.476, 0.524])), (1000, array([0.476, 0.524])), (1000, array([1., 0.]))]], 'obj_sequence': [array([ 0.70710678, -0.03394113, -0.03394113,  0.70710678])]}\n",
      "{'iteration': 529, 'empi_dists_seq': [[(1000, array([0.491, 0.509])), (1000, array([0.491, 0.509])), (1000, array([1., 0.]))]], 'obj_sequence': [array([ 0.70710678, -0.01272792, -0.01272792,  0.70710678])]}\n",
      "{'iteration': 530, 'empi_dists_seq': [[(1000, array([0.495, 0.505])), (1000, array([0.495, 0.505])), (1000, array([1., 0.]))]], 'obj_sequence': [array([ 0.70710678, -0.00707107, -0.00707107,  0.70710678])]}\n",
      "{'iteration': 531, 'empi_dists_seq': [[(1000, array([0.491, 0.509])), (1000, array([0.491, 0.509])), (1000, array([1., 0.]))]], 'obj_sequence': [array([ 0.70710678, -0.01272792, -0.01272792,  0.70710678])]}\n",
      "{'iteration': 532, 'empi_dists_seq': [[(1000, array([0.506, 0.494])), (1000, array([0.506, 0.494])), (1000, array([1., 0.]))]], 'obj_sequence': [array([0.70710678, 0.00848528, 0.00848528, 0.70710678])]}\n",
      "{'iteration': 533, 'empi_dists_seq': [[(1000, array([0.493, 0.507])), (1000, array([0.493, 0.507])), (1000, array([1., 0.]))]], 'obj_sequence': [array([ 0.70710678, -0.00989949, -0.00989949,  0.70710678])]}\n",
      "{'iteration': 534, 'empi_dists_seq': [[(1000, array([0.489, 0.511])), (1000, array([0.489, 0.511])), (1000, array([1., 0.]))]], 'obj_sequence': [array([ 0.70710678, -0.01555635, -0.01555635,  0.70710678])]}\n",
      "{'iteration': 535, 'empi_dists_seq': [[(1000, array([0.513, 0.487])), (1000, array([0.513, 0.487])), (1000, array([1., 0.]))]], 'obj_sequence': [array([0.70710678, 0.01838478, 0.01838478, 0.70710678])]}\n",
      "{'iteration': 536, 'empi_dists_seq': [[(1000, array([0.53, 0.47])), (1000, array([0.53, 0.47])), (1000, array([1., 0.]))]], 'obj_sequence': [array([0.70710678, 0.04242641, 0.04242641, 0.70710678])]}\n",
      "{'iteration': 537, 'empi_dists_seq': [[(1000, array([0.46, 0.54])), (1000, array([0.46, 0.54])), (1000, array([1., 0.]))]], 'obj_sequence': [array([ 0.70710678, -0.05656854, -0.05656854,  0.70710678])]}\n",
      "{'iteration': 538, 'empi_dists_seq': [[(1000, array([0.505, 0.495])), (1000, array([0.505, 0.495])), (1000, array([1., 0.]))]], 'obj_sequence': [array([0.70710678, 0.00707107, 0.00707107, 0.70710678])]}\n",
      "{'iteration': 539, 'empi_dists_seq': [[(1000, array([0.492, 0.508])), (1000, array([0.492, 0.508])), (1000, array([1., 0.]))]], 'obj_sequence': [array([ 0.70710678, -0.01131371, -0.01131371,  0.70710678])]}\n"
     ]
    },
    {
     "name": "stdout",
     "output_type": "stream",
     "text": [
      "{'iteration': 540, 'empi_dists_seq': [[(1000, array([0.492, 0.508])), (1000, array([0.492, 0.508])), (1000, array([1., 0.]))]], 'obj_sequence': [array([ 0.70710678, -0.01131371, -0.01131371,  0.70710678])]}\n",
      "{'iteration': 541, 'empi_dists_seq': [[(1000, array([0.493, 0.507])), (1000, array([0.493, 0.507])), (1000, array([1., 0.]))]], 'obj_sequence': [array([ 0.70710678, -0.00989949, -0.00989949,  0.70710678])]}\n",
      "{'iteration': 542, 'empi_dists_seq': [[(1000, array([0.521, 0.479])), (1000, array([0.521, 0.479])), (1000, array([1., 0.]))]], 'obj_sequence': [array([0.70710678, 0.02969848, 0.02969848, 0.70710678])]}\n",
      "{'iteration': 543, 'empi_dists_seq': [[(1000, array([0.518, 0.482])), (1000, array([0.518, 0.482])), (1000, array([1., 0.]))]], 'obj_sequence': [array([0.70710678, 0.02545584, 0.02545584, 0.70710678])]}\n",
      "{'iteration': 544, 'empi_dists_seq': [[(1000, array([0.488, 0.512])), (1000, array([0.488, 0.512])), (1000, array([1., 0.]))]], 'obj_sequence': [array([ 0.70710678, -0.01697056, -0.01697056,  0.70710678])]}\n",
      "{'iteration': 545, 'empi_dists_seq': [[(1000, array([0.496, 0.504])), (1000, array([0.496, 0.504])), (1000, array([1., 0.]))]], 'obj_sequence': [array([ 0.70710678, -0.00565685, -0.00565685,  0.70710678])]}\n",
      "{'iteration': 546, 'empi_dists_seq': [[(1000, array([0.5, 0.5])), (1000, array([0.5, 0.5])), (1000, array([1., 0.]))]], 'obj_sequence': [array([0.70710678, 0.        , 0.        , 0.70710678])]}\n",
      "{'iteration': 547, 'empi_dists_seq': [[(1000, array([0.5, 0.5])), (1000, array([0.5, 0.5])), (1000, array([1., 0.]))]], 'obj_sequence': [array([0.70710678, 0.        , 0.        , 0.70710678])]}\n",
      "{'iteration': 548, 'empi_dists_seq': [[(1000, array([0.495, 0.505])), (1000, array([0.495, 0.505])), (1000, array([1., 0.]))]], 'obj_sequence': [array([ 0.70710678, -0.00707107, -0.00707107,  0.70710678])]}\n",
      "{'iteration': 549, 'empi_dists_seq': [[(1000, array([0.504, 0.496])), (1000, array([0.504, 0.496])), (1000, array([1., 0.]))]], 'obj_sequence': [array([0.70710678, 0.00565685, 0.00565685, 0.70710678])]}\n",
      "{'iteration': 550, 'empi_dists_seq': [[(1000, array([0.497, 0.503])), (1000, array([0.497, 0.503])), (1000, array([1., 0.]))]], 'obj_sequence': [array([ 0.70710678, -0.00424264, -0.00424264,  0.70710678])]}\n",
      "{'iteration': 551, 'empi_dists_seq': [[(1000, array([0.471, 0.529])), (1000, array([0.471, 0.529])), (1000, array([1., 0.]))]], 'obj_sequence': [array([ 0.70710678, -0.04101219, -0.04101219,  0.70710678])]}\n",
      "{'iteration': 552, 'empi_dists_seq': [[(1000, array([0.486, 0.514])), (1000, array([0.486, 0.514])), (1000, array([1., 0.]))]], 'obj_sequence': [array([ 0.70710678, -0.01979899, -0.01979899,  0.70710678])]}\n",
      "{'iteration': 553, 'empi_dists_seq': [[(1000, array([0.491, 0.509])), (1000, array([0.491, 0.509])), (1000, array([1., 0.]))]], 'obj_sequence': [array([ 0.70710678, -0.01272792, -0.01272792,  0.70710678])]}\n",
      "{'iteration': 554, 'empi_dists_seq': [[(1000, array([0.484, 0.516])), (1000, array([0.484, 0.516])), (1000, array([1., 0.]))]], 'obj_sequence': [array([ 0.70710678, -0.02262742, -0.02262742,  0.70710678])]}\n",
      "{'iteration': 555, 'empi_dists_seq': [[(1000, array([0.511, 0.489])), (1000, array([0.511, 0.489])), (1000, array([1., 0.]))]], 'obj_sequence': [array([0.70710678, 0.01555635, 0.01555635, 0.70710678])]}\n",
      "{'iteration': 556, 'empi_dists_seq': [[(1000, array([0.526, 0.474])), (1000, array([0.526, 0.474])), (1000, array([1., 0.]))]], 'obj_sequence': [array([0.70710678, 0.03676955, 0.03676955, 0.70710678])]}\n",
      "{'iteration': 557, 'empi_dists_seq': [[(1000, array([0.482, 0.518])), (1000, array([0.482, 0.518])), (1000, array([1., 0.]))]], 'obj_sequence': [array([ 0.70710678, -0.02545584, -0.02545584,  0.70710678])]}\n",
      "{'iteration': 558, 'empi_dists_seq': [[(1000, array([0.519, 0.481])), (1000, array([0.519, 0.481])), (1000, array([1., 0.]))]], 'obj_sequence': [array([0.70710678, 0.02687006, 0.02687006, 0.70710678])]}\n",
      "{'iteration': 559, 'empi_dists_seq': [[(1000, array([0.482, 0.518])), (1000, array([0.482, 0.518])), (1000, array([1., 0.]))]], 'obj_sequence': [array([ 0.70710678, -0.02545584, -0.02545584,  0.70710678])]}\n",
      "{'iteration': 560, 'empi_dists_seq': [[(1000, array([0.506, 0.494])), (1000, array([0.506, 0.494])), (1000, array([1., 0.]))]], 'obj_sequence': [array([0.70710678, 0.00848528, 0.00848528, 0.70710678])]}\n",
      "{'iteration': 561, 'empi_dists_seq': [[(1000, array([0.506, 0.494])), (1000, array([0.506, 0.494])), (1000, array([1., 0.]))]], 'obj_sequence': [array([0.70710678, 0.00848528, 0.00848528, 0.70710678])]}\n",
      "{'iteration': 562, 'empi_dists_seq': [[(1000, array([0.501, 0.499])), (1000, array([0.501, 0.499])), (1000, array([1., 0.]))]], 'obj_sequence': [array([0.70710678, 0.00141421, 0.00141421, 0.70710678])]}\n",
      "{'iteration': 563, 'empi_dists_seq': [[(1000, array([0.475, 0.525])), (1000, array([0.475, 0.525])), (1000, array([1., 0.]))]], 'obj_sequence': [array([ 0.70710678, -0.03535534, -0.03535534,  0.70710678])]}\n",
      "{'iteration': 564, 'empi_dists_seq': [[(1000, array([0.503, 0.497])), (1000, array([0.503, 0.497])), (1000, array([1., 0.]))]], 'obj_sequence': [array([0.70710678, 0.00424264, 0.00424264, 0.70710678])]}\n",
      "{'iteration': 565, 'empi_dists_seq': [[(1000, array([0.493, 0.507])), (1000, array([0.493, 0.507])), (1000, array([1., 0.]))]], 'obj_sequence': [array([ 0.70710678, -0.00989949, -0.00989949,  0.70710678])]}\n",
      "{'iteration': 566, 'empi_dists_seq': [[(1000, array([0.507, 0.493])), (1000, array([0.507, 0.493])), (1000, array([1., 0.]))]], 'obj_sequence': [array([0.70710678, 0.00989949, 0.00989949, 0.70710678])]}\n",
      "{'iteration': 567, 'empi_dists_seq': [[(1000, array([0.516, 0.484])), (1000, array([0.516, 0.484])), (1000, array([1., 0.]))]], 'obj_sequence': [array([0.70710678, 0.02262742, 0.02262742, 0.70710678])]}\n",
      "{'iteration': 568, 'empi_dists_seq': [[(1000, array([0.506, 0.494])), (1000, array([0.506, 0.494])), (1000, array([1., 0.]))]], 'obj_sequence': [array([0.70710678, 0.00848528, 0.00848528, 0.70710678])]}\n",
      "{'iteration': 569, 'empi_dists_seq': [[(1000, array([0.526, 0.474])), (1000, array([0.526, 0.474])), (1000, array([1., 0.]))]], 'obj_sequence': [array([0.70710678, 0.03676955, 0.03676955, 0.70710678])]}\n",
      "{'iteration': 570, 'empi_dists_seq': [[(1000, array([0.495, 0.505])), (1000, array([0.495, 0.505])), (1000, array([1., 0.]))]], 'obj_sequence': [array([ 0.70710678, -0.00707107, -0.00707107,  0.70710678])]}\n",
      "{'iteration': 571, 'empi_dists_seq': [[(1000, array([0.478, 0.522])), (1000, array([0.478, 0.522])), (1000, array([1., 0.]))]], 'obj_sequence': [array([ 0.70710678, -0.0311127 , -0.0311127 ,  0.70710678])]}\n",
      "{'iteration': 572, 'empi_dists_seq': [[(1000, array([0.508, 0.492])), (1000, array([0.508, 0.492])), (1000, array([1., 0.]))]], 'obj_sequence': [array([0.70710678, 0.01131371, 0.01131371, 0.70710678])]}\n",
      "{'iteration': 573, 'empi_dists_seq': [[(1000, array([0.494, 0.506])), (1000, array([0.494, 0.506])), (1000, array([1., 0.]))]], 'obj_sequence': [array([ 0.70710678, -0.00848528, -0.00848528,  0.70710678])]}\n",
      "{'iteration': 574, 'empi_dists_seq': [[(1000, array([0.495, 0.505])), (1000, array([0.495, 0.505])), (1000, array([1., 0.]))]], 'obj_sequence': [array([ 0.70710678, -0.00707107, -0.00707107,  0.70710678])]}\n",
      "{'iteration': 575, 'empi_dists_seq': [[(1000, array([0.487, 0.513])), (1000, array([0.487, 0.513])), (1000, array([1., 0.]))]], 'obj_sequence': [array([ 0.70710678, -0.01838478, -0.01838478,  0.70710678])]}\n",
      "{'iteration': 576, 'empi_dists_seq': [[(1000, array([0.486, 0.514])), (1000, array([0.486, 0.514])), (1000, array([1., 0.]))]], 'obj_sequence': [array([ 0.70710678, -0.01979899, -0.01979899,  0.70710678])]}\n",
      "{'iteration': 577, 'empi_dists_seq': [[(1000, array([0.497, 0.503])), (1000, array([0.497, 0.503])), (1000, array([1., 0.]))]], 'obj_sequence': [array([ 0.70710678, -0.00424264, -0.00424264,  0.70710678])]}\n",
      "{'iteration': 578, 'empi_dists_seq': [[(1000, array([0.486, 0.514])), (1000, array([0.486, 0.514])), (1000, array([1., 0.]))]], 'obj_sequence': [array([ 0.70710678, -0.01979899, -0.01979899,  0.70710678])]}\n",
      "{'iteration': 579, 'empi_dists_seq': [[(1000, array([0.499, 0.501])), (1000, array([0.499, 0.501])), (1000, array([1., 0.]))]], 'obj_sequence': [array([ 0.70710678, -0.00141421, -0.00141421,  0.70710678])]}\n",
      "{'iteration': 580, 'empi_dists_seq': [[(1000, array([0.533, 0.467])), (1000, array([0.533, 0.467])), (1000, array([1., 0.]))]], 'obj_sequence': [array([0.70710678, 0.04666905, 0.04666905, 0.70710678])]}\n",
      "{'iteration': 581, 'empi_dists_seq': [[(1000, array([0.499, 0.501])), (1000, array([0.499, 0.501])), (1000, array([1., 0.]))]], 'obj_sequence': [array([ 0.70710678, -0.00141421, -0.00141421,  0.70710678])]}\n",
      "{'iteration': 582, 'empi_dists_seq': [[(1000, array([0.516, 0.484])), (1000, array([0.516, 0.484])), (1000, array([1., 0.]))]], 'obj_sequence': [array([0.70710678, 0.02262742, 0.02262742, 0.70710678])]}\n",
      "{'iteration': 583, 'empi_dists_seq': [[(1000, array([0.533, 0.467])), (1000, array([0.533, 0.467])), (1000, array([1., 0.]))]], 'obj_sequence': [array([0.70710678, 0.04666905, 0.04666905, 0.70710678])]}\n",
      "{'iteration': 584, 'empi_dists_seq': [[(1000, array([0.499, 0.501])), (1000, array([0.499, 0.501])), (1000, array([1., 0.]))]], 'obj_sequence': [array([ 0.70710678, -0.00141421, -0.00141421,  0.70710678])]}\n",
      "{'iteration': 585, 'empi_dists_seq': [[(1000, array([0.508, 0.492])), (1000, array([0.508, 0.492])), (1000, array([1., 0.]))]], 'obj_sequence': [array([0.70710678, 0.01131371, 0.01131371, 0.70710678])]}\n",
      "{'iteration': 586, 'empi_dists_seq': [[(1000, array([0.515, 0.485])), (1000, array([0.515, 0.485])), (1000, array([1., 0.]))]], 'obj_sequence': [array([0.70710678, 0.0212132 , 0.0212132 , 0.70710678])]}\n",
      "{'iteration': 587, 'empi_dists_seq': [[(1000, array([0.522, 0.478])), (1000, array([0.522, 0.478])), (1000, array([1., 0.]))]], 'obj_sequence': [array([0.70710678, 0.0311127 , 0.0311127 , 0.70710678])]}\n",
      "{'iteration': 588, 'empi_dists_seq': [[(1000, array([0.522, 0.478])), (1000, array([0.522, 0.478])), (1000, array([1., 0.]))]], 'obj_sequence': [array([0.70710678, 0.0311127 , 0.0311127 , 0.70710678])]}\n"
     ]
    },
    {
     "name": "stdout",
     "output_type": "stream",
     "text": [
      "{'iteration': 589, 'empi_dists_seq': [[(1000, array([0.493, 0.507])), (1000, array([0.493, 0.507])), (1000, array([1., 0.]))]], 'obj_sequence': [array([ 0.70710678, -0.00989949, -0.00989949,  0.70710678])]}\n",
      "{'iteration': 590, 'empi_dists_seq': [[(1000, array([0.487, 0.513])), (1000, array([0.487, 0.513])), (1000, array([1., 0.]))]], 'obj_sequence': [array([ 0.70710678, -0.01838478, -0.01838478,  0.70710678])]}\n",
      "{'iteration': 591, 'empi_dists_seq': [[(1000, array([0.476, 0.524])), (1000, array([0.476, 0.524])), (1000, array([1., 0.]))]], 'obj_sequence': [array([ 0.70710678, -0.03394113, -0.03394113,  0.70710678])]}\n",
      "{'iteration': 592, 'empi_dists_seq': [[(1000, array([0.51, 0.49])), (1000, array([0.51, 0.49])), (1000, array([1., 0.]))]], 'obj_sequence': [array([0.70710678, 0.01414214, 0.01414214, 0.70710678])]}\n",
      "{'iteration': 593, 'empi_dists_seq': [[(1000, array([0.482, 0.518])), (1000, array([0.482, 0.518])), (1000, array([1., 0.]))]], 'obj_sequence': [array([ 0.70710678, -0.02545584, -0.02545584,  0.70710678])]}\n",
      "{'iteration': 594, 'empi_dists_seq': [[(1000, array([0.522, 0.478])), (1000, array([0.522, 0.478])), (1000, array([1., 0.]))]], 'obj_sequence': [array([0.70710678, 0.0311127 , 0.0311127 , 0.70710678])]}\n",
      "{'iteration': 595, 'empi_dists_seq': [[(1000, array([0.477, 0.523])), (1000, array([0.477, 0.523])), (1000, array([1., 0.]))]], 'obj_sequence': [array([ 0.70710678, -0.03252691, -0.03252691,  0.70710678])]}\n",
      "{'iteration': 596, 'empi_dists_seq': [[(1000, array([0.468, 0.532])), (1000, array([0.468, 0.532])), (1000, array([1., 0.]))]], 'obj_sequence': [array([ 0.70710678, -0.04525483, -0.04525483,  0.70710678])]}\n",
      "{'iteration': 597, 'empi_dists_seq': [[(1000, array([0.474, 0.526])), (1000, array([0.474, 0.526])), (1000, array([1., 0.]))]], 'obj_sequence': [array([ 0.70710678, -0.03676955, -0.03676955,  0.70710678])]}\n",
      "{'iteration': 598, 'empi_dists_seq': [[(1000, array([0.471, 0.529])), (1000, array([0.471, 0.529])), (1000, array([1., 0.]))]], 'obj_sequence': [array([ 0.70710678, -0.04101219, -0.04101219,  0.70710678])]}\n",
      "{'iteration': 599, 'empi_dists_seq': [[(1000, array([0.519, 0.481])), (1000, array([0.519, 0.481])), (1000, array([1., 0.]))]], 'obj_sequence': [array([0.70710678, 0.02687006, 0.02687006, 0.70710678])]}\n",
      "{'iteration': 600, 'empi_dists_seq': [[(1000, array([0.538, 0.462])), (1000, array([0.538, 0.462])), (1000, array([1., 0.]))]], 'obj_sequence': [array([0.70710678, 0.05374012, 0.05374012, 0.70710678])]}\n",
      "{'iteration': 601, 'empi_dists_seq': [[(1000, array([0.508, 0.492])), (1000, array([0.508, 0.492])), (1000, array([1., 0.]))]], 'obj_sequence': [array([0.70710678, 0.01131371, 0.01131371, 0.70710678])]}\n",
      "{'iteration': 602, 'empi_dists_seq': [[(1000, array([0.545, 0.455])), (1000, array([0.545, 0.455])), (1000, array([1., 0.]))]], 'obj_sequence': [array([0.70710678, 0.06363961, 0.06363961, 0.70710678])]}\n",
      "{'iteration': 603, 'empi_dists_seq': [[(1000, array([0.51, 0.49])), (1000, array([0.51, 0.49])), (1000, array([1., 0.]))]], 'obj_sequence': [array([0.70710678, 0.01414214, 0.01414214, 0.70710678])]}\n",
      "{'iteration': 604, 'empi_dists_seq': [[(1000, array([0.49, 0.51])), (1000, array([0.49, 0.51])), (1000, array([1., 0.]))]], 'obj_sequence': [array([ 0.70710678, -0.01414214, -0.01414214,  0.70710678])]}\n",
      "{'iteration': 605, 'empi_dists_seq': [[(1000, array([0.475, 0.525])), (1000, array([0.475, 0.525])), (1000, array([1., 0.]))]], 'obj_sequence': [array([ 0.70710678, -0.03535534, -0.03535534,  0.70710678])]}\n",
      "{'iteration': 606, 'empi_dists_seq': [[(1000, array([0.496, 0.504])), (1000, array([0.496, 0.504])), (1000, array([1., 0.]))]], 'obj_sequence': [array([ 0.70710678, -0.00565685, -0.00565685,  0.70710678])]}\n",
      "{'iteration': 607, 'empi_dists_seq': [[(1000, array([0.539, 0.461])), (1000, array([0.539, 0.461])), (1000, array([1., 0.]))]], 'obj_sequence': [array([0.70710678, 0.05515433, 0.05515433, 0.70710678])]}\n",
      "{'iteration': 608, 'empi_dists_seq': [[(1000, array([0.477, 0.523])), (1000, array([0.477, 0.523])), (1000, array([1., 0.]))]], 'obj_sequence': [array([ 0.70710678, -0.03252691, -0.03252691,  0.70710678])]}\n",
      "{'iteration': 609, 'empi_dists_seq': [[(1000, array([0.507, 0.493])), (1000, array([0.507, 0.493])), (1000, array([1., 0.]))]], 'obj_sequence': [array([0.70710678, 0.00989949, 0.00989949, 0.70710678])]}\n",
      "{'iteration': 610, 'empi_dists_seq': [[(1000, array([0.501, 0.499])), (1000, array([0.501, 0.499])), (1000, array([1., 0.]))]], 'obj_sequence': [array([0.70710678, 0.00141421, 0.00141421, 0.70710678])]}\n",
      "{'iteration': 611, 'empi_dists_seq': [[(1000, array([0.524, 0.476])), (1000, array([0.524, 0.476])), (1000, array([1., 0.]))]], 'obj_sequence': [array([0.70710678, 0.03394113, 0.03394113, 0.70710678])]}\n",
      "{'iteration': 612, 'empi_dists_seq': [[(1000, array([0.481, 0.519])), (1000, array([0.481, 0.519])), (1000, array([1., 0.]))]], 'obj_sequence': [array([ 0.70710678, -0.02687006, -0.02687006,  0.70710678])]}\n",
      "{'iteration': 613, 'empi_dists_seq': [[(1000, array([0.524, 0.476])), (1000, array([0.524, 0.476])), (1000, array([1., 0.]))]], 'obj_sequence': [array([0.70710678, 0.03394113, 0.03394113, 0.70710678])]}\n",
      "{'iteration': 614, 'empi_dists_seq': [[(1000, array([0.494, 0.506])), (1000, array([0.494, 0.506])), (1000, array([1., 0.]))]], 'obj_sequence': [array([ 0.70710678, -0.00848528, -0.00848528,  0.70710678])]}\n",
      "{'iteration': 615, 'empi_dists_seq': [[(1000, array([0.501, 0.499])), (1000, array([0.501, 0.499])), (1000, array([1., 0.]))]], 'obj_sequence': [array([0.70710678, 0.00141421, 0.00141421, 0.70710678])]}\n",
      "{'iteration': 616, 'empi_dists_seq': [[(1000, array([0.496, 0.504])), (1000, array([0.496, 0.504])), (1000, array([1., 0.]))]], 'obj_sequence': [array([ 0.70710678, -0.00565685, -0.00565685,  0.70710678])]}\n",
      "{'iteration': 617, 'empi_dists_seq': [[(1000, array([0.525, 0.475])), (1000, array([0.525, 0.475])), (1000, array([1., 0.]))]], 'obj_sequence': [array([0.70710678, 0.03535534, 0.03535534, 0.70710678])]}\n",
      "{'iteration': 618, 'empi_dists_seq': [[(1000, array([0.49, 0.51])), (1000, array([0.49, 0.51])), (1000, array([1., 0.]))]], 'obj_sequence': [array([ 0.70710678, -0.01414214, -0.01414214,  0.70710678])]}\n",
      "{'iteration': 619, 'empi_dists_seq': [[(1000, array([0.465, 0.535])), (1000, array([0.465, 0.535])), (1000, array([1., 0.]))]], 'obj_sequence': [array([ 0.70710678, -0.04949747, -0.04949747,  0.70710678])]}\n",
      "{'iteration': 620, 'empi_dists_seq': [[(1000, array([0.509, 0.491])), (1000, array([0.509, 0.491])), (1000, array([1., 0.]))]], 'obj_sequence': [array([0.70710678, 0.01272792, 0.01272792, 0.70710678])]}\n",
      "{'iteration': 621, 'empi_dists_seq': [[(1000, array([0.501, 0.499])), (1000, array([0.501, 0.499])), (1000, array([1., 0.]))]], 'obj_sequence': [array([0.70710678, 0.00141421, 0.00141421, 0.70710678])]}\n",
      "{'iteration': 622, 'empi_dists_seq': [[(1000, array([0.504, 0.496])), (1000, array([0.504, 0.496])), (1000, array([1., 0.]))]], 'obj_sequence': [array([0.70710678, 0.00565685, 0.00565685, 0.70710678])]}\n",
      "{'iteration': 623, 'empi_dists_seq': [[(1000, array([0.51, 0.49])), (1000, array([0.51, 0.49])), (1000, array([1., 0.]))]], 'obj_sequence': [array([0.70710678, 0.01414214, 0.01414214, 0.70710678])]}\n",
      "{'iteration': 624, 'empi_dists_seq': [[(1000, array([0.512, 0.488])), (1000, array([0.512, 0.488])), (1000, array([1., 0.]))]], 'obj_sequence': [array([0.70710678, 0.01697056, 0.01697056, 0.70710678])]}\n",
      "{'iteration': 625, 'empi_dists_seq': [[(1000, array([0.535, 0.465])), (1000, array([0.535, 0.465])), (1000, array([1., 0.]))]], 'obj_sequence': [array([0.70710678, 0.04949747, 0.04949747, 0.70710678])]}\n",
      "{'iteration': 626, 'empi_dists_seq': [[(1000, array([0.51, 0.49])), (1000, array([0.51, 0.49])), (1000, array([1., 0.]))]], 'obj_sequence': [array([0.70710678, 0.01414214, 0.01414214, 0.70710678])]}\n",
      "{'iteration': 627, 'empi_dists_seq': [[(1000, array([0.511, 0.489])), (1000, array([0.511, 0.489])), (1000, array([1., 0.]))]], 'obj_sequence': [array([0.70710678, 0.01555635, 0.01555635, 0.70710678])]}\n",
      "{'iteration': 628, 'empi_dists_seq': [[(1000, array([0.489, 0.511])), (1000, array([0.489, 0.511])), (1000, array([1., 0.]))]], 'obj_sequence': [array([ 0.70710678, -0.01555635, -0.01555635,  0.70710678])]}\n",
      "{'iteration': 629, 'empi_dists_seq': [[(1000, array([0.504, 0.496])), (1000, array([0.504, 0.496])), (1000, array([1., 0.]))]], 'obj_sequence': [array([0.70710678, 0.00565685, 0.00565685, 0.70710678])]}\n",
      "{'iteration': 630, 'empi_dists_seq': [[(1000, array([0.522, 0.478])), (1000, array([0.522, 0.478])), (1000, array([1., 0.]))]], 'obj_sequence': [array([0.70710678, 0.0311127 , 0.0311127 , 0.70710678])]}\n",
      "{'iteration': 631, 'empi_dists_seq': [[(1000, array([0.508, 0.492])), (1000, array([0.508, 0.492])), (1000, array([1., 0.]))]], 'obj_sequence': [array([0.70710678, 0.01131371, 0.01131371, 0.70710678])]}\n",
      "{'iteration': 632, 'empi_dists_seq': [[(1000, array([0.487, 0.513])), (1000, array([0.487, 0.513])), (1000, array([1., 0.]))]], 'obj_sequence': [array([ 0.70710678, -0.01838478, -0.01838478,  0.70710678])]}\n",
      "{'iteration': 633, 'empi_dists_seq': [[(1000, array([0.483, 0.517])), (1000, array([0.483, 0.517])), (1000, array([1., 0.]))]], 'obj_sequence': [array([ 0.70710678, -0.02404163, -0.02404163,  0.70710678])]}\n",
      "{'iteration': 634, 'empi_dists_seq': [[(1000, array([0.489, 0.511])), (1000, array([0.489, 0.511])), (1000, array([1., 0.]))]], 'obj_sequence': [array([ 0.70710678, -0.01555635, -0.01555635,  0.70710678])]}\n",
      "{'iteration': 635, 'empi_dists_seq': [[(1000, array([0.493, 0.507])), (1000, array([0.493, 0.507])), (1000, array([1., 0.]))]], 'obj_sequence': [array([ 0.70710678, -0.00989949, -0.00989949,  0.70710678])]}\n",
      "{'iteration': 636, 'empi_dists_seq': [[(1000, array([0.502, 0.498])), (1000, array([0.502, 0.498])), (1000, array([1., 0.]))]], 'obj_sequence': [array([0.70710678, 0.00282843, 0.00282843, 0.70710678])]}\n",
      "{'iteration': 637, 'empi_dists_seq': [[(1000, array([0.499, 0.501])), (1000, array([0.499, 0.501])), (1000, array([1., 0.]))]], 'obj_sequence': [array([ 0.70710678, -0.00141421, -0.00141421,  0.70710678])]}\n"
     ]
    },
    {
     "name": "stdout",
     "output_type": "stream",
     "text": [
      "{'iteration': 638, 'empi_dists_seq': [[(1000, array([0.495, 0.505])), (1000, array([0.495, 0.505])), (1000, array([1., 0.]))]], 'obj_sequence': [array([ 0.70710678, -0.00707107, -0.00707107,  0.70710678])]}\n",
      "{'iteration': 639, 'empi_dists_seq': [[(1000, array([0.502, 0.498])), (1000, array([0.502, 0.498])), (1000, array([1., 0.]))]], 'obj_sequence': [array([0.70710678, 0.00282843, 0.00282843, 0.70710678])]}\n",
      "{'iteration': 640, 'empi_dists_seq': [[(1000, array([0.494, 0.506])), (1000, array([0.494, 0.506])), (1000, array([1., 0.]))]], 'obj_sequence': [array([ 0.70710678, -0.00848528, -0.00848528,  0.70710678])]}\n",
      "{'iteration': 641, 'empi_dists_seq': [[(1000, array([0.52, 0.48])), (1000, array([0.52, 0.48])), (1000, array([1., 0.]))]], 'obj_sequence': [array([0.70710678, 0.02828427, 0.02828427, 0.70710678])]}\n",
      "{'iteration': 642, 'empi_dists_seq': [[(1000, array([0.495, 0.505])), (1000, array([0.495, 0.505])), (1000, array([1., 0.]))]], 'obj_sequence': [array([ 0.70710678, -0.00707107, -0.00707107,  0.70710678])]}\n",
      "{'iteration': 643, 'empi_dists_seq': [[(1000, array([0.503, 0.497])), (1000, array([0.503, 0.497])), (1000, array([1., 0.]))]], 'obj_sequence': [array([0.70710678, 0.00424264, 0.00424264, 0.70710678])]}\n",
      "{'iteration': 644, 'empi_dists_seq': [[(1000, array([0.513, 0.487])), (1000, array([0.513, 0.487])), (1000, array([1., 0.]))]], 'obj_sequence': [array([0.70710678, 0.01838478, 0.01838478, 0.70710678])]}\n",
      "{'iteration': 645, 'empi_dists_seq': [[(1000, array([0.52, 0.48])), (1000, array([0.52, 0.48])), (1000, array([1., 0.]))]], 'obj_sequence': [array([0.70710678, 0.02828427, 0.02828427, 0.70710678])]}\n",
      "{'iteration': 646, 'empi_dists_seq': [[(1000, array([0.485, 0.515])), (1000, array([0.485, 0.515])), (1000, array([1., 0.]))]], 'obj_sequence': [array([ 0.70710678, -0.0212132 , -0.0212132 ,  0.70710678])]}\n",
      "{'iteration': 647, 'empi_dists_seq': [[(1000, array([0.494, 0.506])), (1000, array([0.494, 0.506])), (1000, array([1., 0.]))]], 'obj_sequence': [array([ 0.70710678, -0.00848528, -0.00848528,  0.70710678])]}\n",
      "{'iteration': 648, 'empi_dists_seq': [[(1000, array([0.5, 0.5])), (1000, array([0.5, 0.5])), (1000, array([1., 0.]))]], 'obj_sequence': [array([0.70710678, 0.        , 0.        , 0.70710678])]}\n",
      "{'iteration': 649, 'empi_dists_seq': [[(1000, array([0.482, 0.518])), (1000, array([0.482, 0.518])), (1000, array([1., 0.]))]], 'obj_sequence': [array([ 0.70710678, -0.02545584, -0.02545584,  0.70710678])]}\n",
      "{'iteration': 650, 'empi_dists_seq': [[(1000, array([0.501, 0.499])), (1000, array([0.501, 0.499])), (1000, array([1., 0.]))]], 'obj_sequence': [array([0.70710678, 0.00141421, 0.00141421, 0.70710678])]}\n",
      "{'iteration': 651, 'empi_dists_seq': [[(1000, array([0.493, 0.507])), (1000, array([0.493, 0.507])), (1000, array([1., 0.]))]], 'obj_sequence': [array([ 0.70710678, -0.00989949, -0.00989949,  0.70710678])]}\n",
      "{'iteration': 652, 'empi_dists_seq': [[(1000, array([0.507, 0.493])), (1000, array([0.507, 0.493])), (1000, array([1., 0.]))]], 'obj_sequence': [array([0.70710678, 0.00989949, 0.00989949, 0.70710678])]}\n",
      "{'iteration': 653, 'empi_dists_seq': [[(1000, array([0.537, 0.463])), (1000, array([0.537, 0.463])), (1000, array([1., 0.]))]], 'obj_sequence': [array([0.70710678, 0.0523259 , 0.0523259 , 0.70710678])]}\n",
      "{'iteration': 654, 'empi_dists_seq': [[(1000, array([0.466, 0.534])), (1000, array([0.466, 0.534])), (1000, array([1., 0.]))]], 'obj_sequence': [array([ 0.70710678, -0.04808326, -0.04808326,  0.70710678])]}\n",
      "{'iteration': 655, 'empi_dists_seq': [[(1000, array([0.507, 0.493])), (1000, array([0.507, 0.493])), (1000, array([1., 0.]))]], 'obj_sequence': [array([0.70710678, 0.00989949, 0.00989949, 0.70710678])]}\n",
      "{'iteration': 656, 'empi_dists_seq': [[(1000, array([0.484, 0.516])), (1000, array([0.484, 0.516])), (1000, array([1., 0.]))]], 'obj_sequence': [array([ 0.70710678, -0.02262742, -0.02262742,  0.70710678])]}\n",
      "{'iteration': 657, 'empi_dists_seq': [[(1000, array([0.513, 0.487])), (1000, array([0.513, 0.487])), (1000, array([1., 0.]))]], 'obj_sequence': [array([0.70710678, 0.01838478, 0.01838478, 0.70710678])]}\n",
      "{'iteration': 658, 'empi_dists_seq': [[(1000, array([0.471, 0.529])), (1000, array([0.471, 0.529])), (1000, array([1., 0.]))]], 'obj_sequence': [array([ 0.70710678, -0.04101219, -0.04101219,  0.70710678])]}\n",
      "{'iteration': 659, 'empi_dists_seq': [[(1000, array([0.493, 0.507])), (1000, array([0.493, 0.507])), (1000, array([1., 0.]))]], 'obj_sequence': [array([ 0.70710678, -0.00989949, -0.00989949,  0.70710678])]}\n",
      "{'iteration': 660, 'empi_dists_seq': [[(1000, array([0.509, 0.491])), (1000, array([0.509, 0.491])), (1000, array([1., 0.]))]], 'obj_sequence': [array([0.70710678, 0.01272792, 0.01272792, 0.70710678])]}\n",
      "{'iteration': 661, 'empi_dists_seq': [[(1000, array([0.492, 0.508])), (1000, array([0.492, 0.508])), (1000, array([1., 0.]))]], 'obj_sequence': [array([ 0.70710678, -0.01131371, -0.01131371,  0.70710678])]}\n",
      "{'iteration': 662, 'empi_dists_seq': [[(1000, array([0.49, 0.51])), (1000, array([0.49, 0.51])), (1000, array([1., 0.]))]], 'obj_sequence': [array([ 0.70710678, -0.01414214, -0.01414214,  0.70710678])]}\n",
      "{'iteration': 663, 'empi_dists_seq': [[(1000, array([0.522, 0.478])), (1000, array([0.522, 0.478])), (1000, array([1., 0.]))]], 'obj_sequence': [array([0.70710678, 0.0311127 , 0.0311127 , 0.70710678])]}\n",
      "{'iteration': 664, 'empi_dists_seq': [[(1000, array([0.496, 0.504])), (1000, array([0.496, 0.504])), (1000, array([1., 0.]))]], 'obj_sequence': [array([ 0.70710678, -0.00565685, -0.00565685,  0.70710678])]}\n",
      "{'iteration': 665, 'empi_dists_seq': [[(1000, array([0.493, 0.507])), (1000, array([0.493, 0.507])), (1000, array([1., 0.]))]], 'obj_sequence': [array([ 0.70710678, -0.00989949, -0.00989949,  0.70710678])]}\n",
      "{'iteration': 666, 'empi_dists_seq': [[(1000, array([0.517, 0.483])), (1000, array([0.517, 0.483])), (1000, array([1., 0.]))]], 'obj_sequence': [array([0.70710678, 0.02404163, 0.02404163, 0.70710678])]}\n",
      "{'iteration': 667, 'empi_dists_seq': [[(1000, array([0.529, 0.471])), (1000, array([0.529, 0.471])), (1000, array([1., 0.]))]], 'obj_sequence': [array([0.70710678, 0.04101219, 0.04101219, 0.70710678])]}\n",
      "{'iteration': 668, 'empi_dists_seq': [[(1000, array([0.515, 0.485])), (1000, array([0.515, 0.485])), (1000, array([1., 0.]))]], 'obj_sequence': [array([0.70710678, 0.0212132 , 0.0212132 , 0.70710678])]}\n",
      "{'iteration': 669, 'empi_dists_seq': [[(1000, array([0.506, 0.494])), (1000, array([0.506, 0.494])), (1000, array([1., 0.]))]], 'obj_sequence': [array([0.70710678, 0.00848528, 0.00848528, 0.70710678])]}\n",
      "{'iteration': 670, 'empi_dists_seq': [[(1000, array([0.482, 0.518])), (1000, array([0.482, 0.518])), (1000, array([1., 0.]))]], 'obj_sequence': [array([ 0.70710678, -0.02545584, -0.02545584,  0.70710678])]}\n",
      "{'iteration': 671, 'empi_dists_seq': [[(1000, array([0.503, 0.497])), (1000, array([0.503, 0.497])), (1000, array([1., 0.]))]], 'obj_sequence': [array([0.70710678, 0.00424264, 0.00424264, 0.70710678])]}\n",
      "{'iteration': 672, 'empi_dists_seq': [[(1000, array([0.49, 0.51])), (1000, array([0.49, 0.51])), (1000, array([1., 0.]))]], 'obj_sequence': [array([ 0.70710678, -0.01414214, -0.01414214,  0.70710678])]}\n",
      "{'iteration': 673, 'empi_dists_seq': [[(1000, array([0.505, 0.495])), (1000, array([0.505, 0.495])), (1000, array([1., 0.]))]], 'obj_sequence': [array([0.70710678, 0.00707107, 0.00707107, 0.70710678])]}\n",
      "{'iteration': 674, 'empi_dists_seq': [[(1000, array([0.494, 0.506])), (1000, array([0.494, 0.506])), (1000, array([1., 0.]))]], 'obj_sequence': [array([ 0.70710678, -0.00848528, -0.00848528,  0.70710678])]}\n",
      "{'iteration': 675, 'empi_dists_seq': [[(1000, array([0.514, 0.486])), (1000, array([0.514, 0.486])), (1000, array([1., 0.]))]], 'obj_sequence': [array([0.70710678, 0.01979899, 0.01979899, 0.70710678])]}\n",
      "{'iteration': 676, 'empi_dists_seq': [[(1000, array([0.511, 0.489])), (1000, array([0.511, 0.489])), (1000, array([1., 0.]))]], 'obj_sequence': [array([0.70710678, 0.01555635, 0.01555635, 0.70710678])]}\n",
      "{'iteration': 677, 'empi_dists_seq': [[(1000, array([0.524, 0.476])), (1000, array([0.524, 0.476])), (1000, array([1., 0.]))]], 'obj_sequence': [array([0.70710678, 0.03394113, 0.03394113, 0.70710678])]}\n",
      "{'iteration': 678, 'empi_dists_seq': [[(1000, array([0.49, 0.51])), (1000, array([0.49, 0.51])), (1000, array([1., 0.]))]], 'obj_sequence': [array([ 0.70710678, -0.01414214, -0.01414214,  0.70710678])]}\n",
      "{'iteration': 679, 'empi_dists_seq': [[(1000, array([0.502, 0.498])), (1000, array([0.502, 0.498])), (1000, array([1., 0.]))]], 'obj_sequence': [array([0.70710678, 0.00282843, 0.00282843, 0.70710678])]}\n",
      "{'iteration': 680, 'empi_dists_seq': [[(1000, array([0.499, 0.501])), (1000, array([0.499, 0.501])), (1000, array([1., 0.]))]], 'obj_sequence': [array([ 0.70710678, -0.00141421, -0.00141421,  0.70710678])]}\n",
      "{'iteration': 681, 'empi_dists_seq': [[(1000, array([0.483, 0.517])), (1000, array([0.483, 0.517])), (1000, array([1., 0.]))]], 'obj_sequence': [array([ 0.70710678, -0.02404163, -0.02404163,  0.70710678])]}\n",
      "{'iteration': 682, 'empi_dists_seq': [[(1000, array([0.503, 0.497])), (1000, array([0.503, 0.497])), (1000, array([1., 0.]))]], 'obj_sequence': [array([0.70710678, 0.00424264, 0.00424264, 0.70710678])]}\n"
     ]
    },
    {
     "name": "stdout",
     "output_type": "stream",
     "text": [
      "{'iteration': 683, 'empi_dists_seq': [[(1000, array([0.474, 0.526])), (1000, array([0.474, 0.526])), (1000, array([1., 0.]))]], 'obj_sequence': [array([ 0.70710678, -0.03676955, -0.03676955,  0.70710678])]}\n",
      "{'iteration': 684, 'empi_dists_seq': [[(1000, array([0.484, 0.516])), (1000, array([0.484, 0.516])), (1000, array([1., 0.]))]], 'obj_sequence': [array([ 0.70710678, -0.02262742, -0.02262742,  0.70710678])]}\n",
      "{'iteration': 685, 'empi_dists_seq': [[(1000, array([0.529, 0.471])), (1000, array([0.529, 0.471])), (1000, array([1., 0.]))]], 'obj_sequence': [array([0.70710678, 0.04101219, 0.04101219, 0.70710678])]}\n",
      "{'iteration': 686, 'empi_dists_seq': [[(1000, array([0.497, 0.503])), (1000, array([0.497, 0.503])), (1000, array([1., 0.]))]], 'obj_sequence': [array([ 0.70710678, -0.00424264, -0.00424264,  0.70710678])]}\n",
      "{'iteration': 687, 'empi_dists_seq': [[(1000, array([0.495, 0.505])), (1000, array([0.495, 0.505])), (1000, array([1., 0.]))]], 'obj_sequence': [array([ 0.70710678, -0.00707107, -0.00707107,  0.70710678])]}\n",
      "{'iteration': 688, 'empi_dists_seq': [[(1000, array([0.545, 0.455])), (1000, array([0.545, 0.455])), (1000, array([1., 0.]))]], 'obj_sequence': [array([0.70710678, 0.06363961, 0.06363961, 0.70710678])]}\n",
      "{'iteration': 689, 'empi_dists_seq': [[(1000, array([0.509, 0.491])), (1000, array([0.509, 0.491])), (1000, array([1., 0.]))]], 'obj_sequence': [array([0.70710678, 0.01272792, 0.01272792, 0.70710678])]}\n",
      "{'iteration': 690, 'empi_dists_seq': [[(1000, array([0.464, 0.536])), (1000, array([0.464, 0.536])), (1000, array([1., 0.]))]], 'obj_sequence': [array([ 0.70710678, -0.05091169, -0.05091169,  0.70710678])]}\n",
      "{'iteration': 691, 'empi_dists_seq': [[(1000, array([0.514, 0.486])), (1000, array([0.514, 0.486])), (1000, array([1., 0.]))]], 'obj_sequence': [array([0.70710678, 0.01979899, 0.01979899, 0.70710678])]}\n",
      "{'iteration': 692, 'empi_dists_seq': [[(1000, array([0.484, 0.516])), (1000, array([0.484, 0.516])), (1000, array([1., 0.]))]], 'obj_sequence': [array([ 0.70710678, -0.02262742, -0.02262742,  0.70710678])]}\n",
      "{'iteration': 693, 'empi_dists_seq': [[(1000, array([0.515, 0.485])), (1000, array([0.515, 0.485])), (1000, array([1., 0.]))]], 'obj_sequence': [array([0.70710678, 0.0212132 , 0.0212132 , 0.70710678])]}\n",
      "{'iteration': 694, 'empi_dists_seq': [[(1000, array([0.504, 0.496])), (1000, array([0.504, 0.496])), (1000, array([1., 0.]))]], 'obj_sequence': [array([0.70710678, 0.00565685, 0.00565685, 0.70710678])]}\n",
      "{'iteration': 695, 'empi_dists_seq': [[(1000, array([0.514, 0.486])), (1000, array([0.514, 0.486])), (1000, array([1., 0.]))]], 'obj_sequence': [array([0.70710678, 0.01979899, 0.01979899, 0.70710678])]}\n",
      "{'iteration': 696, 'empi_dists_seq': [[(1000, array([0.467, 0.533])), (1000, array([0.467, 0.533])), (1000, array([1., 0.]))]], 'obj_sequence': [array([ 0.70710678, -0.04666905, -0.04666905,  0.70710678])]}\n",
      "{'iteration': 697, 'empi_dists_seq': [[(1000, array([0.484, 0.516])), (1000, array([0.484, 0.516])), (1000, array([1., 0.]))]], 'obj_sequence': [array([ 0.70710678, -0.02262742, -0.02262742,  0.70710678])]}\n",
      "{'iteration': 698, 'empi_dists_seq': [[(1000, array([0.481, 0.519])), (1000, array([0.481, 0.519])), (1000, array([1., 0.]))]], 'obj_sequence': [array([ 0.70710678, -0.02687006, -0.02687006,  0.70710678])]}\n",
      "{'iteration': 699, 'empi_dists_seq': [[(1000, array([0.487, 0.513])), (1000, array([0.487, 0.513])), (1000, array([1., 0.]))]], 'obj_sequence': [array([ 0.70710678, -0.01838478, -0.01838478,  0.70710678])]}\n",
      "{'iteration': 700, 'empi_dists_seq': [[(1000, array([0.499, 0.501])), (1000, array([0.499, 0.501])), (1000, array([1., 0.]))]], 'obj_sequence': [array([ 0.70710678, -0.00141421, -0.00141421,  0.70710678])]}\n",
      "{'iteration': 701, 'empi_dists_seq': [[(1000, array([0.491, 0.509])), (1000, array([0.491, 0.509])), (1000, array([1., 0.]))]], 'obj_sequence': [array([ 0.70710678, -0.01272792, -0.01272792,  0.70710678])]}\n",
      "{'iteration': 702, 'empi_dists_seq': [[(1000, array([0.515, 0.485])), (1000, array([0.515, 0.485])), (1000, array([1., 0.]))]], 'obj_sequence': [array([0.70710678, 0.0212132 , 0.0212132 , 0.70710678])]}\n",
      "{'iteration': 703, 'empi_dists_seq': [[(1000, array([0.49, 0.51])), (1000, array([0.49, 0.51])), (1000, array([1., 0.]))]], 'obj_sequence': [array([ 0.70710678, -0.01414214, -0.01414214,  0.70710678])]}\n",
      "{'iteration': 704, 'empi_dists_seq': [[(1000, array([0.508, 0.492])), (1000, array([0.508, 0.492])), (1000, array([1., 0.]))]], 'obj_sequence': [array([0.70710678, 0.01131371, 0.01131371, 0.70710678])]}\n",
      "{'iteration': 705, 'empi_dists_seq': [[(1000, array([0.482, 0.518])), (1000, array([0.482, 0.518])), (1000, array([1., 0.]))]], 'obj_sequence': [array([ 0.70710678, -0.02545584, -0.02545584,  0.70710678])]}\n",
      "{'iteration': 706, 'empi_dists_seq': [[(1000, array([0.493, 0.507])), (1000, array([0.493, 0.507])), (1000, array([1., 0.]))]], 'obj_sequence': [array([ 0.70710678, -0.00989949, -0.00989949,  0.70710678])]}\n",
      "{'iteration': 707, 'empi_dists_seq': [[(1000, array([0.507, 0.493])), (1000, array([0.507, 0.493])), (1000, array([1., 0.]))]], 'obj_sequence': [array([0.70710678, 0.00989949, 0.00989949, 0.70710678])]}\n",
      "{'iteration': 708, 'empi_dists_seq': [[(1000, array([0.512, 0.488])), (1000, array([0.512, 0.488])), (1000, array([1., 0.]))]], 'obj_sequence': [array([0.70710678, 0.01697056, 0.01697056, 0.70710678])]}\n",
      "{'iteration': 709, 'empi_dists_seq': [[(1000, array([0.506, 0.494])), (1000, array([0.506, 0.494])), (1000, array([1., 0.]))]], 'obj_sequence': [array([0.70710678, 0.00848528, 0.00848528, 0.70710678])]}\n",
      "{'iteration': 710, 'empi_dists_seq': [[(1000, array([0.51, 0.49])), (1000, array([0.51, 0.49])), (1000, array([1., 0.]))]], 'obj_sequence': [array([0.70710678, 0.01414214, 0.01414214, 0.70710678])]}\n",
      "{'iteration': 711, 'empi_dists_seq': [[(1000, array([0.498, 0.502])), (1000, array([0.498, 0.502])), (1000, array([1., 0.]))]], 'obj_sequence': [array([ 0.70710678, -0.00282843, -0.00282843,  0.70710678])]}\n",
      "{'iteration': 712, 'empi_dists_seq': [[(1000, array([0.505, 0.495])), (1000, array([0.505, 0.495])), (1000, array([1., 0.]))]], 'obj_sequence': [array([0.70710678, 0.00707107, 0.00707107, 0.70710678])]}\n",
      "{'iteration': 713, 'empi_dists_seq': [[(1000, array([0.506, 0.494])), (1000, array([0.506, 0.494])), (1000, array([1., 0.]))]], 'obj_sequence': [array([0.70710678, 0.00848528, 0.00848528, 0.70710678])]}\n",
      "{'iteration': 714, 'empi_dists_seq': [[(1000, array([0.493, 0.507])), (1000, array([0.493, 0.507])), (1000, array([1., 0.]))]], 'obj_sequence': [array([ 0.70710678, -0.00989949, -0.00989949,  0.70710678])]}\n",
      "{'iteration': 715, 'empi_dists_seq': [[(1000, array([0.499, 0.501])), (1000, array([0.499, 0.501])), (1000, array([1., 0.]))]], 'obj_sequence': [array([ 0.70710678, -0.00141421, -0.00141421,  0.70710678])]}\n",
      "{'iteration': 716, 'empi_dists_seq': [[(1000, array([0.498, 0.502])), (1000, array([0.498, 0.502])), (1000, array([1., 0.]))]], 'obj_sequence': [array([ 0.70710678, -0.00282843, -0.00282843,  0.70710678])]}\n",
      "{'iteration': 717, 'empi_dists_seq': [[(1000, array([0.49, 0.51])), (1000, array([0.49, 0.51])), (1000, array([1., 0.]))]], 'obj_sequence': [array([ 0.70710678, -0.01414214, -0.01414214,  0.70710678])]}\n",
      "{'iteration': 718, 'empi_dists_seq': [[(1000, array([0.497, 0.503])), (1000, array([0.497, 0.503])), (1000, array([1., 0.]))]], 'obj_sequence': [array([ 0.70710678, -0.00424264, -0.00424264,  0.70710678])]}\n",
      "{'iteration': 719, 'empi_dists_seq': [[(1000, array([0.501, 0.499])), (1000, array([0.501, 0.499])), (1000, array([1., 0.]))]], 'obj_sequence': [array([0.70710678, 0.00141421, 0.00141421, 0.70710678])]}\n",
      "{'iteration': 720, 'empi_dists_seq': [[(1000, array([0.505, 0.495])), (1000, array([0.505, 0.495])), (1000, array([1., 0.]))]], 'obj_sequence': [array([0.70710678, 0.00707107, 0.00707107, 0.70710678])]}\n",
      "{'iteration': 721, 'empi_dists_seq': [[(1000, array([0.497, 0.503])), (1000, array([0.497, 0.503])), (1000, array([1., 0.]))]], 'obj_sequence': [array([ 0.70710678, -0.00424264, -0.00424264,  0.70710678])]}\n",
      "{'iteration': 722, 'empi_dists_seq': [[(1000, array([0.472, 0.528])), (1000, array([0.472, 0.528])), (1000, array([1., 0.]))]], 'obj_sequence': [array([ 0.70710678, -0.03959798, -0.03959798,  0.70710678])]}\n",
      "{'iteration': 723, 'empi_dists_seq': [[(1000, array([0.484, 0.516])), (1000, array([0.484, 0.516])), (1000, array([1., 0.]))]], 'obj_sequence': [array([ 0.70710678, -0.02262742, -0.02262742,  0.70710678])]}\n",
      "{'iteration': 724, 'empi_dists_seq': [[(1000, array([0.481, 0.519])), (1000, array([0.481, 0.519])), (1000, array([1., 0.]))]], 'obj_sequence': [array([ 0.70710678, -0.02687006, -0.02687006,  0.70710678])]}\n",
      "{'iteration': 725, 'empi_dists_seq': [[(1000, array([0.473, 0.527])), (1000, array([0.473, 0.527])), (1000, array([1., 0.]))]], 'obj_sequence': [array([ 0.70710678, -0.03818377, -0.03818377,  0.70710678])]}\n",
      "{'iteration': 726, 'empi_dists_seq': [[(1000, array([0.5, 0.5])), (1000, array([0.5, 0.5])), (1000, array([1., 0.]))]], 'obj_sequence': [array([0.70710678, 0.        , 0.        , 0.70710678])]}\n",
      "{'iteration': 727, 'empi_dists_seq': [[(1000, array([0.505, 0.495])), (1000, array([0.505, 0.495])), (1000, array([1., 0.]))]], 'obj_sequence': [array([0.70710678, 0.00707107, 0.00707107, 0.70710678])]}\n",
      "{'iteration': 728, 'empi_dists_seq': [[(1000, array([0.482, 0.518])), (1000, array([0.482, 0.518])), (1000, array([1., 0.]))]], 'obj_sequence': [array([ 0.70710678, -0.02545584, -0.02545584,  0.70710678])]}\n",
      "{'iteration': 729, 'empi_dists_seq': [[(1000, array([0.513, 0.487])), (1000, array([0.513, 0.487])), (1000, array([1., 0.]))]], 'obj_sequence': [array([0.70710678, 0.01838478, 0.01838478, 0.70710678])]}\n",
      "{'iteration': 730, 'empi_dists_seq': [[(1000, array([0.484, 0.516])), (1000, array([0.484, 0.516])), (1000, array([1., 0.]))]], 'obj_sequence': [array([ 0.70710678, -0.02262742, -0.02262742,  0.70710678])]}\n"
     ]
    },
    {
     "name": "stdout",
     "output_type": "stream",
     "text": [
      "{'iteration': 731, 'empi_dists_seq': [[(1000, array([0.519, 0.481])), (1000, array([0.519, 0.481])), (1000, array([1., 0.]))]], 'obj_sequence': [array([0.70710678, 0.02687006, 0.02687006, 0.70710678])]}\n",
      "{'iteration': 732, 'empi_dists_seq': [[(1000, array([0.48, 0.52])), (1000, array([0.48, 0.52])), (1000, array([1., 0.]))]], 'obj_sequence': [array([ 0.70710678, -0.02828427, -0.02828427,  0.70710678])]}\n",
      "{'iteration': 733, 'empi_dists_seq': [[(1000, array([0.471, 0.529])), (1000, array([0.471, 0.529])), (1000, array([1., 0.]))]], 'obj_sequence': [array([ 0.70710678, -0.04101219, -0.04101219,  0.70710678])]}\n",
      "{'iteration': 734, 'empi_dists_seq': [[(1000, array([0.467, 0.533])), (1000, array([0.467, 0.533])), (1000, array([1., 0.]))]], 'obj_sequence': [array([ 0.70710678, -0.04666905, -0.04666905,  0.70710678])]}\n",
      "{'iteration': 735, 'empi_dists_seq': [[(1000, array([0.484, 0.516])), (1000, array([0.484, 0.516])), (1000, array([1., 0.]))]], 'obj_sequence': [array([ 0.70710678, -0.02262742, -0.02262742,  0.70710678])]}\n",
      "{'iteration': 736, 'empi_dists_seq': [[(1000, array([0.498, 0.502])), (1000, array([0.498, 0.502])), (1000, array([1., 0.]))]], 'obj_sequence': [array([ 0.70710678, -0.00282843, -0.00282843,  0.70710678])]}\n",
      "{'iteration': 737, 'empi_dists_seq': [[(1000, array([0.486, 0.514])), (1000, array([0.486, 0.514])), (1000, array([1., 0.]))]], 'obj_sequence': [array([ 0.70710678, -0.01979899, -0.01979899,  0.70710678])]}\n",
      "{'iteration': 738, 'empi_dists_seq': [[(1000, array([0.477, 0.523])), (1000, array([0.477, 0.523])), (1000, array([1., 0.]))]], 'obj_sequence': [array([ 0.70710678, -0.03252691, -0.03252691,  0.70710678])]}\n",
      "{'iteration': 739, 'empi_dists_seq': [[(1000, array([0.506, 0.494])), (1000, array([0.506, 0.494])), (1000, array([1., 0.]))]], 'obj_sequence': [array([0.70710678, 0.00848528, 0.00848528, 0.70710678])]}\n",
      "{'iteration': 740, 'empi_dists_seq': [[(1000, array([0.479, 0.521])), (1000, array([0.479, 0.521])), (1000, array([1., 0.]))]], 'obj_sequence': [array([ 0.70710678, -0.02969848, -0.02969848,  0.70710678])]}\n",
      "{'iteration': 741, 'empi_dists_seq': [[(1000, array([0.488, 0.512])), (1000, array([0.488, 0.512])), (1000, array([1., 0.]))]], 'obj_sequence': [array([ 0.70710678, -0.01697056, -0.01697056,  0.70710678])]}\n",
      "{'iteration': 742, 'empi_dists_seq': [[(1000, array([0.482, 0.518])), (1000, array([0.482, 0.518])), (1000, array([1., 0.]))]], 'obj_sequence': [array([ 0.70710678, -0.02545584, -0.02545584,  0.70710678])]}\n",
      "{'iteration': 743, 'empi_dists_seq': [[(1000, array([0.527, 0.473])), (1000, array([0.527, 0.473])), (1000, array([1., 0.]))]], 'obj_sequence': [array([0.70710678, 0.03818377, 0.03818377, 0.70710678])]}\n",
      "{'iteration': 744, 'empi_dists_seq': [[(1000, array([0.509, 0.491])), (1000, array([0.509, 0.491])), (1000, array([1., 0.]))]], 'obj_sequence': [array([0.70710678, 0.01272792, 0.01272792, 0.70710678])]}\n",
      "{'iteration': 745, 'empi_dists_seq': [[(1000, array([0.485, 0.515])), (1000, array([0.485, 0.515])), (1000, array([1., 0.]))]], 'obj_sequence': [array([ 0.70710678, -0.0212132 , -0.0212132 ,  0.70710678])]}\n",
      "{'iteration': 746, 'empi_dists_seq': [[(1000, array([0.488, 0.512])), (1000, array([0.488, 0.512])), (1000, array([1., 0.]))]], 'obj_sequence': [array([ 0.70710678, -0.01697056, -0.01697056,  0.70710678])]}\n",
      "{'iteration': 747, 'empi_dists_seq': [[(1000, array([0.488, 0.512])), (1000, array([0.488, 0.512])), (1000, array([1., 0.]))]], 'obj_sequence': [array([ 0.70710678, -0.01697056, -0.01697056,  0.70710678])]}\n",
      "{'iteration': 748, 'empi_dists_seq': [[(1000, array([0.474, 0.526])), (1000, array([0.474, 0.526])), (1000, array([1., 0.]))]], 'obj_sequence': [array([ 0.70710678, -0.03676955, -0.03676955,  0.70710678])]}\n",
      "{'iteration': 749, 'empi_dists_seq': [[(1000, array([0.511, 0.489])), (1000, array([0.511, 0.489])), (1000, array([1., 0.]))]], 'obj_sequence': [array([0.70710678, 0.01555635, 0.01555635, 0.70710678])]}\n",
      "{'iteration': 750, 'empi_dists_seq': [[(1000, array([0.477, 0.523])), (1000, array([0.477, 0.523])), (1000, array([1., 0.]))]], 'obj_sequence': [array([ 0.70710678, -0.03252691, -0.03252691,  0.70710678])]}\n",
      "{'iteration': 751, 'empi_dists_seq': [[(1000, array([0.48, 0.52])), (1000, array([0.48, 0.52])), (1000, array([1., 0.]))]], 'obj_sequence': [array([ 0.70710678, -0.02828427, -0.02828427,  0.70710678])]}\n",
      "{'iteration': 752, 'empi_dists_seq': [[(1000, array([0.523, 0.477])), (1000, array([0.523, 0.477])), (1000, array([1., 0.]))]], 'obj_sequence': [array([0.70710678, 0.03252691, 0.03252691, 0.70710678])]}\n",
      "{'iteration': 753, 'empi_dists_seq': [[(1000, array([0.523, 0.477])), (1000, array([0.523, 0.477])), (1000, array([1., 0.]))]], 'obj_sequence': [array([0.70710678, 0.03252691, 0.03252691, 0.70710678])]}\n",
      "{'iteration': 754, 'empi_dists_seq': [[(1000, array([0.518, 0.482])), (1000, array([0.518, 0.482])), (1000, array([1., 0.]))]], 'obj_sequence': [array([0.70710678, 0.02545584, 0.02545584, 0.70710678])]}\n",
      "{'iteration': 755, 'empi_dists_seq': [[(1000, array([0.489, 0.511])), (1000, array([0.489, 0.511])), (1000, array([1., 0.]))]], 'obj_sequence': [array([ 0.70710678, -0.01555635, -0.01555635,  0.70710678])]}\n",
      "{'iteration': 756, 'empi_dists_seq': [[(1000, array([0.504, 0.496])), (1000, array([0.504, 0.496])), (1000, array([1., 0.]))]], 'obj_sequence': [array([0.70710678, 0.00565685, 0.00565685, 0.70710678])]}\n",
      "{'iteration': 757, 'empi_dists_seq': [[(1000, array([0.512, 0.488])), (1000, array([0.512, 0.488])), (1000, array([1., 0.]))]], 'obj_sequence': [array([0.70710678, 0.01697056, 0.01697056, 0.70710678])]}\n",
      "{'iteration': 758, 'empi_dists_seq': [[(1000, array([0.483, 0.517])), (1000, array([0.483, 0.517])), (1000, array([1., 0.]))]], 'obj_sequence': [array([ 0.70710678, -0.02404163, -0.02404163,  0.70710678])]}\n",
      "{'iteration': 759, 'empi_dists_seq': [[(1000, array([0.486, 0.514])), (1000, array([0.486, 0.514])), (1000, array([1., 0.]))]], 'obj_sequence': [array([ 0.70710678, -0.01979899, -0.01979899,  0.70710678])]}\n",
      "{'iteration': 760, 'empi_dists_seq': [[(1000, array([0.496, 0.504])), (1000, array([0.496, 0.504])), (1000, array([1., 0.]))]], 'obj_sequence': [array([ 0.70710678, -0.00565685, -0.00565685,  0.70710678])]}\n",
      "{'iteration': 761, 'empi_dists_seq': [[(1000, array([0.478, 0.522])), (1000, array([0.478, 0.522])), (1000, array([1., 0.]))]], 'obj_sequence': [array([ 0.70710678, -0.0311127 , -0.0311127 ,  0.70710678])]}\n",
      "{'iteration': 762, 'empi_dists_seq': [[(1000, array([0.497, 0.503])), (1000, array([0.497, 0.503])), (1000, array([1., 0.]))]], 'obj_sequence': [array([ 0.70710678, -0.00424264, -0.00424264,  0.70710678])]}\n",
      "{'iteration': 763, 'empi_dists_seq': [[(1000, array([0.495, 0.505])), (1000, array([0.495, 0.505])), (1000, array([1., 0.]))]], 'obj_sequence': [array([ 0.70710678, -0.00707107, -0.00707107,  0.70710678])]}\n",
      "{'iteration': 764, 'empi_dists_seq': [[(1000, array([0.498, 0.502])), (1000, array([0.498, 0.502])), (1000, array([1., 0.]))]], 'obj_sequence': [array([ 0.70710678, -0.00282843, -0.00282843,  0.70710678])]}\n",
      "{'iteration': 765, 'empi_dists_seq': [[(1000, array([0.499, 0.501])), (1000, array([0.499, 0.501])), (1000, array([1., 0.]))]], 'obj_sequence': [array([ 0.70710678, -0.00141421, -0.00141421,  0.70710678])]}\n",
      "{'iteration': 766, 'empi_dists_seq': [[(1000, array([0.507, 0.493])), (1000, array([0.507, 0.493])), (1000, array([1., 0.]))]], 'obj_sequence': [array([0.70710678, 0.00989949, 0.00989949, 0.70710678])]}\n",
      "{'iteration': 767, 'empi_dists_seq': [[(1000, array([0.52, 0.48])), (1000, array([0.52, 0.48])), (1000, array([1., 0.]))]], 'obj_sequence': [array([0.70710678, 0.02828427, 0.02828427, 0.70710678])]}\n",
      "{'iteration': 768, 'empi_dists_seq': [[(1000, array([0.501, 0.499])), (1000, array([0.501, 0.499])), (1000, array([1., 0.]))]], 'obj_sequence': [array([0.70710678, 0.00141421, 0.00141421, 0.70710678])]}\n",
      "{'iteration': 769, 'empi_dists_seq': [[(1000, array([0.501, 0.499])), (1000, array([0.501, 0.499])), (1000, array([1., 0.]))]], 'obj_sequence': [array([0.70710678, 0.00141421, 0.00141421, 0.70710678])]}\n",
      "{'iteration': 770, 'empi_dists_seq': [[(1000, array([0.503, 0.497])), (1000, array([0.503, 0.497])), (1000, array([1., 0.]))]], 'obj_sequence': [array([0.70710678, 0.00424264, 0.00424264, 0.70710678])]}\n",
      "{'iteration': 771, 'empi_dists_seq': [[(1000, array([0.521, 0.479])), (1000, array([0.521, 0.479])), (1000, array([1., 0.]))]], 'obj_sequence': [array([0.70710678, 0.02969848, 0.02969848, 0.70710678])]}\n",
      "{'iteration': 772, 'empi_dists_seq': [[(1000, array([0.489, 0.511])), (1000, array([0.489, 0.511])), (1000, array([1., 0.]))]], 'obj_sequence': [array([ 0.70710678, -0.01555635, -0.01555635,  0.70710678])]}\n",
      "{'iteration': 773, 'empi_dists_seq': [[(1000, array([0.501, 0.499])), (1000, array([0.501, 0.499])), (1000, array([1., 0.]))]], 'obj_sequence': [array([0.70710678, 0.00141421, 0.00141421, 0.70710678])]}\n",
      "{'iteration': 774, 'empi_dists_seq': [[(1000, array([0.448, 0.552])), (1000, array([0.448, 0.552])), (1000, array([1., 0.]))]], 'obj_sequence': [array([ 0.70710678, -0.07353911, -0.07353911,  0.70710678])]}\n",
      "{'iteration': 775, 'empi_dists_seq': [[(1000, array([0.509, 0.491])), (1000, array([0.509, 0.491])), (1000, array([1., 0.]))]], 'obj_sequence': [array([0.70710678, 0.01272792, 0.01272792, 0.70710678])]}\n",
      "{'iteration': 776, 'empi_dists_seq': [[(1000, array([0.504, 0.496])), (1000, array([0.504, 0.496])), (1000, array([1., 0.]))]], 'obj_sequence': [array([0.70710678, 0.00565685, 0.00565685, 0.70710678])]}\n",
      "{'iteration': 777, 'empi_dists_seq': [[(1000, array([0.489, 0.511])), (1000, array([0.489, 0.511])), (1000, array([1., 0.]))]], 'obj_sequence': [array([ 0.70710678, -0.01555635, -0.01555635,  0.70710678])]}\n",
      "{'iteration': 778, 'empi_dists_seq': [[(1000, array([0.504, 0.496])), (1000, array([0.504, 0.496])), (1000, array([1., 0.]))]], 'obj_sequence': [array([0.70710678, 0.00565685, 0.00565685, 0.70710678])]}\n",
      "{'iteration': 779, 'empi_dists_seq': [[(1000, array([0.501, 0.499])), (1000, array([0.501, 0.499])), (1000, array([1., 0.]))]], 'obj_sequence': [array([0.70710678, 0.00141421, 0.00141421, 0.70710678])]}\n",
      "{'iteration': 780, 'empi_dists_seq': [[(1000, array([0.5, 0.5])), (1000, array([0.5, 0.5])), (1000, array([1., 0.]))]], 'obj_sequence': [array([0.70710678, 0.        , 0.        , 0.70710678])]}\n",
      "{'iteration': 781, 'empi_dists_seq': [[(1000, array([0.469, 0.531])), (1000, array([0.469, 0.531])), (1000, array([1., 0.]))]], 'obj_sequence': [array([ 0.70710678, -0.04384062, -0.04384062,  0.70710678])]}\n",
      "{'iteration': 782, 'empi_dists_seq': [[(1000, array([0.52, 0.48])), (1000, array([0.52, 0.48])), (1000, array([1., 0.]))]], 'obj_sequence': [array([0.70710678, 0.02828427, 0.02828427, 0.70710678])]}\n"
     ]
    },
    {
     "name": "stdout",
     "output_type": "stream",
     "text": [
      "{'iteration': 783, 'empi_dists_seq': [[(1000, array([0.48, 0.52])), (1000, array([0.48, 0.52])), (1000, array([1., 0.]))]], 'obj_sequence': [array([ 0.70710678, -0.02828427, -0.02828427,  0.70710678])]}\n",
      "{'iteration': 784, 'empi_dists_seq': [[(1000, array([0.529, 0.471])), (1000, array([0.529, 0.471])), (1000, array([1., 0.]))]], 'obj_sequence': [array([0.70710678, 0.04101219, 0.04101219, 0.70710678])]}\n",
      "{'iteration': 785, 'empi_dists_seq': [[(1000, array([0.512, 0.488])), (1000, array([0.512, 0.488])), (1000, array([1., 0.]))]], 'obj_sequence': [array([0.70710678, 0.01697056, 0.01697056, 0.70710678])]}\n",
      "{'iteration': 786, 'empi_dists_seq': [[(1000, array([0.467, 0.533])), (1000, array([0.467, 0.533])), (1000, array([1., 0.]))]], 'obj_sequence': [array([ 0.70710678, -0.04666905, -0.04666905,  0.70710678])]}\n",
      "{'iteration': 787, 'empi_dists_seq': [[(1000, array([0.488, 0.512])), (1000, array([0.488, 0.512])), (1000, array([1., 0.]))]], 'obj_sequence': [array([ 0.70710678, -0.01697056, -0.01697056,  0.70710678])]}\n",
      "{'iteration': 788, 'empi_dists_seq': [[(1000, array([0.481, 0.519])), (1000, array([0.481, 0.519])), (1000, array([1., 0.]))]], 'obj_sequence': [array([ 0.70710678, -0.02687006, -0.02687006,  0.70710678])]}\n",
      "{'iteration': 789, 'empi_dists_seq': [[(1000, array([0.49, 0.51])), (1000, array([0.49, 0.51])), (1000, array([1., 0.]))]], 'obj_sequence': [array([ 0.70710678, -0.01414214, -0.01414214,  0.70710678])]}\n",
      "{'iteration': 790, 'empi_dists_seq': [[(1000, array([0.455, 0.545])), (1000, array([0.455, 0.545])), (1000, array([1., 0.]))]], 'obj_sequence': [array([ 0.70710678, -0.06363961, -0.06363961,  0.70710678])]}\n",
      "{'iteration': 791, 'empi_dists_seq': [[(1000, array([0.529, 0.471])), (1000, array([0.529, 0.471])), (1000, array([1., 0.]))]], 'obj_sequence': [array([0.70710678, 0.04101219, 0.04101219, 0.70710678])]}\n",
      "{'iteration': 792, 'empi_dists_seq': [[(1000, array([0.508, 0.492])), (1000, array([0.508, 0.492])), (1000, array([1., 0.]))]], 'obj_sequence': [array([0.70710678, 0.01131371, 0.01131371, 0.70710678])]}\n",
      "{'iteration': 793, 'empi_dists_seq': [[(1000, array([0.497, 0.503])), (1000, array([0.497, 0.503])), (1000, array([1., 0.]))]], 'obj_sequence': [array([ 0.70710678, -0.00424264, -0.00424264,  0.70710678])]}\n",
      "{'iteration': 794, 'empi_dists_seq': [[(1000, array([0.491, 0.509])), (1000, array([0.491, 0.509])), (1000, array([1., 0.]))]], 'obj_sequence': [array([ 0.70710678, -0.01272792, -0.01272792,  0.70710678])]}\n",
      "{'iteration': 795, 'empi_dists_seq': [[(1000, array([0.487, 0.513])), (1000, array([0.487, 0.513])), (1000, array([1., 0.]))]], 'obj_sequence': [array([ 0.70710678, -0.01838478, -0.01838478,  0.70710678])]}\n",
      "{'iteration': 796, 'empi_dists_seq': [[(1000, array([0.493, 0.507])), (1000, array([0.493, 0.507])), (1000, array([1., 0.]))]], 'obj_sequence': [array([ 0.70710678, -0.00989949, -0.00989949,  0.70710678])]}\n",
      "{'iteration': 797, 'empi_dists_seq': [[(1000, array([0.512, 0.488])), (1000, array([0.512, 0.488])), (1000, array([1., 0.]))]], 'obj_sequence': [array([0.70710678, 0.01697056, 0.01697056, 0.70710678])]}\n",
      "{'iteration': 798, 'empi_dists_seq': [[(1000, array([0.511, 0.489])), (1000, array([0.511, 0.489])), (1000, array([1., 0.]))]], 'obj_sequence': [array([0.70710678, 0.01555635, 0.01555635, 0.70710678])]}\n",
      "{'iteration': 799, 'empi_dists_seq': [[(1000, array([0.515, 0.485])), (1000, array([0.515, 0.485])), (1000, array([1., 0.]))]], 'obj_sequence': [array([0.70710678, 0.0212132 , 0.0212132 , 0.70710678])]}\n",
      "{'iteration': 800, 'empi_dists_seq': [[(1000, array([0.518, 0.482])), (1000, array([0.518, 0.482])), (1000, array([1., 0.]))]], 'obj_sequence': [array([0.70710678, 0.02545584, 0.02545584, 0.70710678])]}\n",
      "{'iteration': 801, 'empi_dists_seq': [[(1000, array([0.499, 0.501])), (1000, array([0.499, 0.501])), (1000, array([1., 0.]))]], 'obj_sequence': [array([ 0.70710678, -0.00141421, -0.00141421,  0.70710678])]}\n",
      "{'iteration': 802, 'empi_dists_seq': [[(1000, array([0.51, 0.49])), (1000, array([0.51, 0.49])), (1000, array([1., 0.]))]], 'obj_sequence': [array([0.70710678, 0.01414214, 0.01414214, 0.70710678])]}\n",
      "{'iteration': 803, 'empi_dists_seq': [[(1000, array([0.495, 0.505])), (1000, array([0.495, 0.505])), (1000, array([1., 0.]))]], 'obj_sequence': [array([ 0.70710678, -0.00707107, -0.00707107,  0.70710678])]}\n",
      "{'iteration': 804, 'empi_dists_seq': [[(1000, array([0.479, 0.521])), (1000, array([0.479, 0.521])), (1000, array([1., 0.]))]], 'obj_sequence': [array([ 0.70710678, -0.02969848, -0.02969848,  0.70710678])]}\n",
      "{'iteration': 805, 'empi_dists_seq': [[(1000, array([0.499, 0.501])), (1000, array([0.499, 0.501])), (1000, array([1., 0.]))]], 'obj_sequence': [array([ 0.70710678, -0.00141421, -0.00141421,  0.70710678])]}\n",
      "{'iteration': 806, 'empi_dists_seq': [[(1000, array([0.486, 0.514])), (1000, array([0.486, 0.514])), (1000, array([1., 0.]))]], 'obj_sequence': [array([ 0.70710678, -0.01979899, -0.01979899,  0.70710678])]}\n",
      "{'iteration': 807, 'empi_dists_seq': [[(1000, array([0.497, 0.503])), (1000, array([0.497, 0.503])), (1000, array([1., 0.]))]], 'obj_sequence': [array([ 0.70710678, -0.00424264, -0.00424264,  0.70710678])]}\n",
      "{'iteration': 808, 'empi_dists_seq': [[(1000, array([0.482, 0.518])), (1000, array([0.482, 0.518])), (1000, array([1., 0.]))]], 'obj_sequence': [array([ 0.70710678, -0.02545584, -0.02545584,  0.70710678])]}\n",
      "{'iteration': 809, 'empi_dists_seq': [[(1000, array([0.493, 0.507])), (1000, array([0.493, 0.507])), (1000, array([1., 0.]))]], 'obj_sequence': [array([ 0.70710678, -0.00989949, -0.00989949,  0.70710678])]}\n",
      "{'iteration': 810, 'empi_dists_seq': [[(1000, array([0.517, 0.483])), (1000, array([0.517, 0.483])), (1000, array([1., 0.]))]], 'obj_sequence': [array([0.70710678, 0.02404163, 0.02404163, 0.70710678])]}\n",
      "{'iteration': 811, 'empi_dists_seq': [[(1000, array([0.494, 0.506])), (1000, array([0.494, 0.506])), (1000, array([1., 0.]))]], 'obj_sequence': [array([ 0.70710678, -0.00848528, -0.00848528,  0.70710678])]}\n",
      "{'iteration': 812, 'empi_dists_seq': [[(1000, array([0.491, 0.509])), (1000, array([0.491, 0.509])), (1000, array([1., 0.]))]], 'obj_sequence': [array([ 0.70710678, -0.01272792, -0.01272792,  0.70710678])]}\n",
      "{'iteration': 813, 'empi_dists_seq': [[(1000, array([0.498, 0.502])), (1000, array([0.498, 0.502])), (1000, array([1., 0.]))]], 'obj_sequence': [array([ 0.70710678, -0.00282843, -0.00282843,  0.70710678])]}\n",
      "{'iteration': 814, 'empi_dists_seq': [[(1000, array([0.509, 0.491])), (1000, array([0.509, 0.491])), (1000, array([1., 0.]))]], 'obj_sequence': [array([0.70710678, 0.01272792, 0.01272792, 0.70710678])]}\n",
      "{'iteration': 815, 'empi_dists_seq': [[(1000, array([0.486, 0.514])), (1000, array([0.486, 0.514])), (1000, array([1., 0.]))]], 'obj_sequence': [array([ 0.70710678, -0.01979899, -0.01979899,  0.70710678])]}\n",
      "{'iteration': 816, 'empi_dists_seq': [[(1000, array([0.524, 0.476])), (1000, array([0.524, 0.476])), (1000, array([1., 0.]))]], 'obj_sequence': [array([0.70710678, 0.03394113, 0.03394113, 0.70710678])]}\n",
      "{'iteration': 817, 'empi_dists_seq': [[(1000, array([0.498, 0.502])), (1000, array([0.498, 0.502])), (1000, array([1., 0.]))]], 'obj_sequence': [array([ 0.70710678, -0.00282843, -0.00282843,  0.70710678])]}\n",
      "{'iteration': 818, 'empi_dists_seq': [[(1000, array([0.486, 0.514])), (1000, array([0.486, 0.514])), (1000, array([1., 0.]))]], 'obj_sequence': [array([ 0.70710678, -0.01979899, -0.01979899,  0.70710678])]}\n",
      "{'iteration': 819, 'empi_dists_seq': [[(1000, array([0.528, 0.472])), (1000, array([0.528, 0.472])), (1000, array([1., 0.]))]], 'obj_sequence': [array([0.70710678, 0.03959798, 0.03959798, 0.70710678])]}\n",
      "{'iteration': 820, 'empi_dists_seq': [[(1000, array([0.478, 0.522])), (1000, array([0.478, 0.522])), (1000, array([1., 0.]))]], 'obj_sequence': [array([ 0.70710678, -0.0311127 , -0.0311127 ,  0.70710678])]}\n",
      "{'iteration': 821, 'empi_dists_seq': [[(1000, array([0.482, 0.518])), (1000, array([0.482, 0.518])), (1000, array([1., 0.]))]], 'obj_sequence': [array([ 0.70710678, -0.02545584, -0.02545584,  0.70710678])]}\n",
      "{'iteration': 822, 'empi_dists_seq': [[(1000, array([0.506, 0.494])), (1000, array([0.506, 0.494])), (1000, array([1., 0.]))]], 'obj_sequence': [array([0.70710678, 0.00848528, 0.00848528, 0.70710678])]}\n",
      "{'iteration': 823, 'empi_dists_seq': [[(1000, array([0.508, 0.492])), (1000, array([0.508, 0.492])), (1000, array([1., 0.]))]], 'obj_sequence': [array([0.70710678, 0.01131371, 0.01131371, 0.70710678])]}\n",
      "{'iteration': 824, 'empi_dists_seq': [[(1000, array([0.522, 0.478])), (1000, array([0.522, 0.478])), (1000, array([1., 0.]))]], 'obj_sequence': [array([0.70710678, 0.0311127 , 0.0311127 , 0.70710678])]}\n",
      "{'iteration': 825, 'empi_dists_seq': [[(1000, array([0.505, 0.495])), (1000, array([0.505, 0.495])), (1000, array([1., 0.]))]], 'obj_sequence': [array([0.70710678, 0.00707107, 0.00707107, 0.70710678])]}\n",
      "{'iteration': 826, 'empi_dists_seq': [[(1000, array([0.496, 0.504])), (1000, array([0.496, 0.504])), (1000, array([1., 0.]))]], 'obj_sequence': [array([ 0.70710678, -0.00565685, -0.00565685,  0.70710678])]}\n",
      "{'iteration': 827, 'empi_dists_seq': [[(1000, array([0.521, 0.479])), (1000, array([0.521, 0.479])), (1000, array([1., 0.]))]], 'obj_sequence': [array([0.70710678, 0.02969848, 0.02969848, 0.70710678])]}\n",
      "{'iteration': 828, 'empi_dists_seq': [[(1000, array([0.496, 0.504])), (1000, array([0.496, 0.504])), (1000, array([1., 0.]))]], 'obj_sequence': [array([ 0.70710678, -0.00565685, -0.00565685,  0.70710678])]}\n",
      "{'iteration': 829, 'empi_dists_seq': [[(1000, array([0.486, 0.514])), (1000, array([0.486, 0.514])), (1000, array([1., 0.]))]], 'obj_sequence': [array([ 0.70710678, -0.01979899, -0.01979899,  0.70710678])]}\n",
      "{'iteration': 830, 'empi_dists_seq': [[(1000, array([0.494, 0.506])), (1000, array([0.494, 0.506])), (1000, array([1., 0.]))]], 'obj_sequence': [array([ 0.70710678, -0.00848528, -0.00848528,  0.70710678])]}\n",
      "{'iteration': 831, 'empi_dists_seq': [[(1000, array([0.503, 0.497])), (1000, array([0.503, 0.497])), (1000, array([1., 0.]))]], 'obj_sequence': [array([0.70710678, 0.00424264, 0.00424264, 0.70710678])]}\n",
      "{'iteration': 832, 'empi_dists_seq': [[(1000, array([0.501, 0.499])), (1000, array([0.501, 0.499])), (1000, array([1., 0.]))]], 'obj_sequence': [array([0.70710678, 0.00141421, 0.00141421, 0.70710678])]}\n",
      "{'iteration': 833, 'empi_dists_seq': [[(1000, array([0.492, 0.508])), (1000, array([0.492, 0.508])), (1000, array([1., 0.]))]], 'obj_sequence': [array([ 0.70710678, -0.01131371, -0.01131371,  0.70710678])]}\n",
      "{'iteration': 834, 'empi_dists_seq': [[(1000, array([0.488, 0.512])), (1000, array([0.488, 0.512])), (1000, array([1., 0.]))]], 'obj_sequence': [array([ 0.70710678, -0.01697056, -0.01697056,  0.70710678])]}\n",
      "{'iteration': 835, 'empi_dists_seq': [[(1000, array([0.493, 0.507])), (1000, array([0.493, 0.507])), (1000, array([1., 0.]))]], 'obj_sequence': [array([ 0.70710678, -0.00989949, -0.00989949,  0.70710678])]}\n",
      "{'iteration': 836, 'empi_dists_seq': [[(1000, array([0.509, 0.491])), (1000, array([0.509, 0.491])), (1000, array([1., 0.]))]], 'obj_sequence': [array([0.70710678, 0.01272792, 0.01272792, 0.70710678])]}\n",
      "{'iteration': 837, 'empi_dists_seq': [[(1000, array([0.5, 0.5])), (1000, array([0.5, 0.5])), (1000, array([1., 0.]))]], 'obj_sequence': [array([0.70710678, 0.        , 0.        , 0.70710678])]}\n",
      "{'iteration': 838, 'empi_dists_seq': [[(1000, array([0.504, 0.496])), (1000, array([0.504, 0.496])), (1000, array([1., 0.]))]], 'obj_sequence': [array([0.70710678, 0.00565685, 0.00565685, 0.70710678])]}\n"
     ]
    },
    {
     "name": "stdout",
     "output_type": "stream",
     "text": [
      "{'iteration': 839, 'empi_dists_seq': [[(1000, array([0.497, 0.503])), (1000, array([0.497, 0.503])), (1000, array([1., 0.]))]], 'obj_sequence': [array([ 0.70710678, -0.00424264, -0.00424264,  0.70710678])]}\n",
      "{'iteration': 840, 'empi_dists_seq': [[(1000, array([0.502, 0.498])), (1000, array([0.502, 0.498])), (1000, array([1., 0.]))]], 'obj_sequence': [array([0.70710678, 0.00282843, 0.00282843, 0.70710678])]}\n",
      "{'iteration': 841, 'empi_dists_seq': [[(1000, array([0.511, 0.489])), (1000, array([0.511, 0.489])), (1000, array([1., 0.]))]], 'obj_sequence': [array([0.70710678, 0.01555635, 0.01555635, 0.70710678])]}\n",
      "{'iteration': 842, 'empi_dists_seq': [[(1000, array([0.471, 0.529])), (1000, array([0.471, 0.529])), (1000, array([1., 0.]))]], 'obj_sequence': [array([ 0.70710678, -0.04101219, -0.04101219,  0.70710678])]}\n",
      "{'iteration': 843, 'empi_dists_seq': [[(1000, array([0.489, 0.511])), (1000, array([0.489, 0.511])), (1000, array([1., 0.]))]], 'obj_sequence': [array([ 0.70710678, -0.01555635, -0.01555635,  0.70710678])]}\n",
      "{'iteration': 844, 'empi_dists_seq': [[(1000, array([0.479, 0.521])), (1000, array([0.479, 0.521])), (1000, array([1., 0.]))]], 'obj_sequence': [array([ 0.70710678, -0.02969848, -0.02969848,  0.70710678])]}\n",
      "{'iteration': 845, 'empi_dists_seq': [[(1000, array([0.484, 0.516])), (1000, array([0.484, 0.516])), (1000, array([1., 0.]))]], 'obj_sequence': [array([ 0.70710678, -0.02262742, -0.02262742,  0.70710678])]}\n",
      "{'iteration': 846, 'empi_dists_seq': [[(1000, array([0.51, 0.49])), (1000, array([0.51, 0.49])), (1000, array([1., 0.]))]], 'obj_sequence': [array([0.70710678, 0.01414214, 0.01414214, 0.70710678])]}\n",
      "{'iteration': 847, 'empi_dists_seq': [[(1000, array([0.525, 0.475])), (1000, array([0.525, 0.475])), (1000, array([1., 0.]))]], 'obj_sequence': [array([0.70710678, 0.03535534, 0.03535534, 0.70710678])]}\n",
      "{'iteration': 848, 'empi_dists_seq': [[(1000, array([0.518, 0.482])), (1000, array([0.518, 0.482])), (1000, array([1., 0.]))]], 'obj_sequence': [array([0.70710678, 0.02545584, 0.02545584, 0.70710678])]}\n",
      "{'iteration': 849, 'empi_dists_seq': [[(1000, array([0.522, 0.478])), (1000, array([0.522, 0.478])), (1000, array([1., 0.]))]], 'obj_sequence': [array([0.70710678, 0.0311127 , 0.0311127 , 0.70710678])]}\n",
      "{'iteration': 850, 'empi_dists_seq': [[(1000, array([0.494, 0.506])), (1000, array([0.494, 0.506])), (1000, array([1., 0.]))]], 'obj_sequence': [array([ 0.70710678, -0.00848528, -0.00848528,  0.70710678])]}\n",
      "{'iteration': 851, 'empi_dists_seq': [[(1000, array([0.544, 0.456])), (1000, array([0.544, 0.456])), (1000, array([1., 0.]))]], 'obj_sequence': [array([0.70710678, 0.0622254 , 0.0622254 , 0.70710678])]}\n",
      "{'iteration': 852, 'empi_dists_seq': [[(1000, array([0.489, 0.511])), (1000, array([0.489, 0.511])), (1000, array([1., 0.]))]], 'obj_sequence': [array([ 0.70710678, -0.01555635, -0.01555635,  0.70710678])]}\n",
      "{'iteration': 853, 'empi_dists_seq': [[(1000, array([0.496, 0.504])), (1000, array([0.496, 0.504])), (1000, array([1., 0.]))]], 'obj_sequence': [array([ 0.70710678, -0.00565685, -0.00565685,  0.70710678])]}\n",
      "{'iteration': 854, 'empi_dists_seq': [[(1000, array([0.489, 0.511])), (1000, array([0.489, 0.511])), (1000, array([1., 0.]))]], 'obj_sequence': [array([ 0.70710678, -0.01555635, -0.01555635,  0.70710678])]}\n",
      "{'iteration': 855, 'empi_dists_seq': [[(1000, array([0.5, 0.5])), (1000, array([0.5, 0.5])), (1000, array([1., 0.]))]], 'obj_sequence': [array([0.70710678, 0.        , 0.        , 0.70710678])]}\n",
      "{'iteration': 856, 'empi_dists_seq': [[(1000, array([0.5, 0.5])), (1000, array([0.5, 0.5])), (1000, array([1., 0.]))]], 'obj_sequence': [array([0.70710678, 0.        , 0.        , 0.70710678])]}\n",
      "{'iteration': 857, 'empi_dists_seq': [[(1000, array([0.515, 0.485])), (1000, array([0.515, 0.485])), (1000, array([1., 0.]))]], 'obj_sequence': [array([0.70710678, 0.0212132 , 0.0212132 , 0.70710678])]}\n",
      "{'iteration': 858, 'empi_dists_seq': [[(1000, array([0.459, 0.541])), (1000, array([0.459, 0.541])), (1000, array([1., 0.]))]], 'obj_sequence': [array([ 0.70710678, -0.05798276, -0.05798276,  0.70710678])]}\n",
      "{'iteration': 859, 'empi_dists_seq': [[(1000, array([0.509, 0.491])), (1000, array([0.509, 0.491])), (1000, array([1., 0.]))]], 'obj_sequence': [array([0.70710678, 0.01272792, 0.01272792, 0.70710678])]}\n",
      "{'iteration': 860, 'empi_dists_seq': [[(1000, array([0.506, 0.494])), (1000, array([0.506, 0.494])), (1000, array([1., 0.]))]], 'obj_sequence': [array([0.70710678, 0.00848528, 0.00848528, 0.70710678])]}\n",
      "{'iteration': 861, 'empi_dists_seq': [[(1000, array([0.524, 0.476])), (1000, array([0.524, 0.476])), (1000, array([1., 0.]))]], 'obj_sequence': [array([0.70710678, 0.03394113, 0.03394113, 0.70710678])]}\n",
      "{'iteration': 862, 'empi_dists_seq': [[(1000, array([0.532, 0.468])), (1000, array([0.532, 0.468])), (1000, array([1., 0.]))]], 'obj_sequence': [array([0.70710678, 0.04525483, 0.04525483, 0.70710678])]}\n",
      "{'iteration': 863, 'empi_dists_seq': [[(1000, array([0.495, 0.505])), (1000, array([0.495, 0.505])), (1000, array([1., 0.]))]], 'obj_sequence': [array([ 0.70710678, -0.00707107, -0.00707107,  0.70710678])]}\n",
      "{'iteration': 864, 'empi_dists_seq': [[(1000, array([0.502, 0.498])), (1000, array([0.502, 0.498])), (1000, array([1., 0.]))]], 'obj_sequence': [array([0.70710678, 0.00282843, 0.00282843, 0.70710678])]}\n",
      "{'iteration': 865, 'empi_dists_seq': [[(1000, array([0.47, 0.53])), (1000, array([0.47, 0.53])), (1000, array([1., 0.]))]], 'obj_sequence': [array([ 0.70710678, -0.04242641, -0.04242641,  0.70710678])]}\n",
      "{'iteration': 866, 'empi_dists_seq': [[(1000, array([0.497, 0.503])), (1000, array([0.497, 0.503])), (1000, array([1., 0.]))]], 'obj_sequence': [array([ 0.70710678, -0.00424264, -0.00424264,  0.70710678])]}\n",
      "{'iteration': 867, 'empi_dists_seq': [[(1000, array([0.508, 0.492])), (1000, array([0.508, 0.492])), (1000, array([1., 0.]))]], 'obj_sequence': [array([0.70710678, 0.01131371, 0.01131371, 0.70710678])]}\n",
      "{'iteration': 868, 'empi_dists_seq': [[(1000, array([0.528, 0.472])), (1000, array([0.528, 0.472])), (1000, array([1., 0.]))]], 'obj_sequence': [array([0.70710678, 0.03959798, 0.03959798, 0.70710678])]}\n",
      "{'iteration': 869, 'empi_dists_seq': [[(1000, array([0.505, 0.495])), (1000, array([0.505, 0.495])), (1000, array([1., 0.]))]], 'obj_sequence': [array([0.70710678, 0.00707107, 0.00707107, 0.70710678])]}\n",
      "{'iteration': 870, 'empi_dists_seq': [[(1000, array([0.495, 0.505])), (1000, array([0.495, 0.505])), (1000, array([1., 0.]))]], 'obj_sequence': [array([ 0.70710678, -0.00707107, -0.00707107,  0.70710678])]}\n",
      "{'iteration': 871, 'empi_dists_seq': [[(1000, array([0.497, 0.503])), (1000, array([0.497, 0.503])), (1000, array([1., 0.]))]], 'obj_sequence': [array([ 0.70710678, -0.00424264, -0.00424264,  0.70710678])]}\n",
      "{'iteration': 872, 'empi_dists_seq': [[(1000, array([0.477, 0.523])), (1000, array([0.477, 0.523])), (1000, array([1., 0.]))]], 'obj_sequence': [array([ 0.70710678, -0.03252691, -0.03252691,  0.70710678])]}\n",
      "{'iteration': 873, 'empi_dists_seq': [[(1000, array([0.509, 0.491])), (1000, array([0.509, 0.491])), (1000, array([1., 0.]))]], 'obj_sequence': [array([0.70710678, 0.01272792, 0.01272792, 0.70710678])]}\n",
      "{'iteration': 874, 'empi_dists_seq': [[(1000, array([0.496, 0.504])), (1000, array([0.496, 0.504])), (1000, array([1., 0.]))]], 'obj_sequence': [array([ 0.70710678, -0.00565685, -0.00565685,  0.70710678])]}\n",
      "{'iteration': 875, 'empi_dists_seq': [[(1000, array([0.483, 0.517])), (1000, array([0.483, 0.517])), (1000, array([1., 0.]))]], 'obj_sequence': [array([ 0.70710678, -0.02404163, -0.02404163,  0.70710678])]}\n",
      "{'iteration': 876, 'empi_dists_seq': [[(1000, array([0.498, 0.502])), (1000, array([0.498, 0.502])), (1000, array([1., 0.]))]], 'obj_sequence': [array([ 0.70710678, -0.00282843, -0.00282843,  0.70710678])]}\n",
      "{'iteration': 877, 'empi_dists_seq': [[(1000, array([0.496, 0.504])), (1000, array([0.496, 0.504])), (1000, array([1., 0.]))]], 'obj_sequence': [array([ 0.70710678, -0.00565685, -0.00565685,  0.70710678])]}\n",
      "{'iteration': 878, 'empi_dists_seq': [[(1000, array([0.499, 0.501])), (1000, array([0.499, 0.501])), (1000, array([1., 0.]))]], 'obj_sequence': [array([ 0.70710678, -0.00141421, -0.00141421,  0.70710678])]}\n",
      "{'iteration': 879, 'empi_dists_seq': [[(1000, array([0.514, 0.486])), (1000, array([0.514, 0.486])), (1000, array([1., 0.]))]], 'obj_sequence': [array([0.70710678, 0.01979899, 0.01979899, 0.70710678])]}\n",
      "{'iteration': 880, 'empi_dists_seq': [[(1000, array([0.509, 0.491])), (1000, array([0.509, 0.491])), (1000, array([1., 0.]))]], 'obj_sequence': [array([0.70710678, 0.01272792, 0.01272792, 0.70710678])]}\n",
      "{'iteration': 881, 'empi_dists_seq': [[(1000, array([0.512, 0.488])), (1000, array([0.512, 0.488])), (1000, array([1., 0.]))]], 'obj_sequence': [array([0.70710678, 0.01697056, 0.01697056, 0.70710678])]}\n"
     ]
    },
    {
     "name": "stdout",
     "output_type": "stream",
     "text": [
      "{'iteration': 882, 'empi_dists_seq': [[(1000, array([0.5, 0.5])), (1000, array([0.5, 0.5])), (1000, array([1., 0.]))]], 'obj_sequence': [array([0.70710678, 0.        , 0.        , 0.70710678])]}\n",
      "{'iteration': 883, 'empi_dists_seq': [[(1000, array([0.491, 0.509])), (1000, array([0.491, 0.509])), (1000, array([1., 0.]))]], 'obj_sequence': [array([ 0.70710678, -0.01272792, -0.01272792,  0.70710678])]}\n",
      "{'iteration': 884, 'empi_dists_seq': [[(1000, array([0.51, 0.49])), (1000, array([0.51, 0.49])), (1000, array([1., 0.]))]], 'obj_sequence': [array([0.70710678, 0.01414214, 0.01414214, 0.70710678])]}\n",
      "{'iteration': 885, 'empi_dists_seq': [[(1000, array([0.491, 0.509])), (1000, array([0.491, 0.509])), (1000, array([1., 0.]))]], 'obj_sequence': [array([ 0.70710678, -0.01272792, -0.01272792,  0.70710678])]}\n",
      "{'iteration': 886, 'empi_dists_seq': [[(1000, array([0.501, 0.499])), (1000, array([0.501, 0.499])), (1000, array([1., 0.]))]], 'obj_sequence': [array([0.70710678, 0.00141421, 0.00141421, 0.70710678])]}\n",
      "{'iteration': 887, 'empi_dists_seq': [[(1000, array([0.479, 0.521])), (1000, array([0.479, 0.521])), (1000, array([1., 0.]))]], 'obj_sequence': [array([ 0.70710678, -0.02969848, -0.02969848,  0.70710678])]}\n",
      "{'iteration': 888, 'empi_dists_seq': [[(1000, array([0.48, 0.52])), (1000, array([0.48, 0.52])), (1000, array([1., 0.]))]], 'obj_sequence': [array([ 0.70710678, -0.02828427, -0.02828427,  0.70710678])]}\n",
      "{'iteration': 889, 'empi_dists_seq': [[(1000, array([0.494, 0.506])), (1000, array([0.494, 0.506])), (1000, array([1., 0.]))]], 'obj_sequence': [array([ 0.70710678, -0.00848528, -0.00848528,  0.70710678])]}\n",
      "{'iteration': 890, 'empi_dists_seq': [[(1000, array([0.508, 0.492])), (1000, array([0.508, 0.492])), (1000, array([1., 0.]))]], 'obj_sequence': [array([0.70710678, 0.01131371, 0.01131371, 0.70710678])]}\n",
      "{'iteration': 891, 'empi_dists_seq': [[(1000, array([0.502, 0.498])), (1000, array([0.502, 0.498])), (1000, array([1., 0.]))]], 'obj_sequence': [array([0.70710678, 0.00282843, 0.00282843, 0.70710678])]}\n",
      "{'iteration': 892, 'empi_dists_seq': [[(1000, array([0.477, 0.523])), (1000, array([0.477, 0.523])), (1000, array([1., 0.]))]], 'obj_sequence': [array([ 0.70710678, -0.03252691, -0.03252691,  0.70710678])]}\n",
      "{'iteration': 893, 'empi_dists_seq': [[(1000, array([0.516, 0.484])), (1000, array([0.516, 0.484])), (1000, array([1., 0.]))]], 'obj_sequence': [array([0.70710678, 0.02262742, 0.02262742, 0.70710678])]}\n",
      "{'iteration': 894, 'empi_dists_seq': [[(1000, array([0.494, 0.506])), (1000, array([0.494, 0.506])), (1000, array([1., 0.]))]], 'obj_sequence': [array([ 0.70710678, -0.00848528, -0.00848528,  0.70710678])]}\n",
      "{'iteration': 895, 'empi_dists_seq': [[(1000, array([0.505, 0.495])), (1000, array([0.505, 0.495])), (1000, array([1., 0.]))]], 'obj_sequence': [array([0.70710678, 0.00707107, 0.00707107, 0.70710678])]}\n",
      "{'iteration': 896, 'empi_dists_seq': [[(1000, array([0.516, 0.484])), (1000, array([0.516, 0.484])), (1000, array([1., 0.]))]], 'obj_sequence': [array([0.70710678, 0.02262742, 0.02262742, 0.70710678])]}\n",
      "{'iteration': 897, 'empi_dists_seq': [[(1000, array([0.486, 0.514])), (1000, array([0.486, 0.514])), (1000, array([1., 0.]))]], 'obj_sequence': [array([ 0.70710678, -0.01979899, -0.01979899,  0.70710678])]}\n",
      "{'iteration': 898, 'empi_dists_seq': [[(1000, array([0.496, 0.504])), (1000, array([0.496, 0.504])), (1000, array([1., 0.]))]], 'obj_sequence': [array([ 0.70710678, -0.00565685, -0.00565685,  0.70710678])]}\n",
      "{'iteration': 899, 'empi_dists_seq': [[(1000, array([0.508, 0.492])), (1000, array([0.508, 0.492])), (1000, array([1., 0.]))]], 'obj_sequence': [array([0.70710678, 0.01131371, 0.01131371, 0.70710678])]}\n",
      "{'iteration': 900, 'empi_dists_seq': [[(1000, array([0.513, 0.487])), (1000, array([0.513, 0.487])), (1000, array([1., 0.]))]], 'obj_sequence': [array([0.70710678, 0.01838478, 0.01838478, 0.70710678])]}\n",
      "{'iteration': 901, 'empi_dists_seq': [[(1000, array([0.506, 0.494])), (1000, array([0.506, 0.494])), (1000, array([1., 0.]))]], 'obj_sequence': [array([0.70710678, 0.00848528, 0.00848528, 0.70710678])]}\n",
      "{'iteration': 902, 'empi_dists_seq': [[(1000, array([0.505, 0.495])), (1000, array([0.505, 0.495])), (1000, array([1., 0.]))]], 'obj_sequence': [array([0.70710678, 0.00707107, 0.00707107, 0.70710678])]}\n",
      "{'iteration': 903, 'empi_dists_seq': [[(1000, array([0.5, 0.5])), (1000, array([0.5, 0.5])), (1000, array([1., 0.]))]], 'obj_sequence': [array([0.70710678, 0.        , 0.        , 0.70710678])]}\n",
      "{'iteration': 904, 'empi_dists_seq': [[(1000, array([0.514, 0.486])), (1000, array([0.514, 0.486])), (1000, array([1., 0.]))]], 'obj_sequence': [array([0.70710678, 0.01979899, 0.01979899, 0.70710678])]}\n",
      "{'iteration': 905, 'empi_dists_seq': [[(1000, array([0.496, 0.504])), (1000, array([0.496, 0.504])), (1000, array([1., 0.]))]], 'obj_sequence': [array([ 0.70710678, -0.00565685, -0.00565685,  0.70710678])]}\n",
      "{'iteration': 906, 'empi_dists_seq': [[(1000, array([0.495, 0.505])), (1000, array([0.495, 0.505])), (1000, array([1., 0.]))]], 'obj_sequence': [array([ 0.70710678, -0.00707107, -0.00707107,  0.70710678])]}\n",
      "{'iteration': 907, 'empi_dists_seq': [[(1000, array([0.492, 0.508])), (1000, array([0.492, 0.508])), (1000, array([1., 0.]))]], 'obj_sequence': [array([ 0.70710678, -0.01131371, -0.01131371,  0.70710678])]}\n",
      "{'iteration': 908, 'empi_dists_seq': [[(1000, array([0.513, 0.487])), (1000, array([0.513, 0.487])), (1000, array([1., 0.]))]], 'obj_sequence': [array([0.70710678, 0.01838478, 0.01838478, 0.70710678])]}\n",
      "{'iteration': 909, 'empi_dists_seq': [[(1000, array([0.509, 0.491])), (1000, array([0.509, 0.491])), (1000, array([1., 0.]))]], 'obj_sequence': [array([0.70710678, 0.01272792, 0.01272792, 0.70710678])]}\n",
      "{'iteration': 910, 'empi_dists_seq': [[(1000, array([0.468, 0.532])), (1000, array([0.468, 0.532])), (1000, array([1., 0.]))]], 'obj_sequence': [array([ 0.70710678, -0.04525483, -0.04525483,  0.70710678])]}\n",
      "{'iteration': 911, 'empi_dists_seq': [[(1000, array([0.489, 0.511])), (1000, array([0.489, 0.511])), (1000, array([1., 0.]))]], 'obj_sequence': [array([ 0.70710678, -0.01555635, -0.01555635,  0.70710678])]}\n",
      "{'iteration': 912, 'empi_dists_seq': [[(1000, array([0.515, 0.485])), (1000, array([0.515, 0.485])), (1000, array([1., 0.]))]], 'obj_sequence': [array([0.70710678, 0.0212132 , 0.0212132 , 0.70710678])]}\n",
      "{'iteration': 913, 'empi_dists_seq': [[(1000, array([0.517, 0.483])), (1000, array([0.517, 0.483])), (1000, array([1., 0.]))]], 'obj_sequence': [array([0.70710678, 0.02404163, 0.02404163, 0.70710678])]}\n",
      "{'iteration': 914, 'empi_dists_seq': [[(1000, array([0.503, 0.497])), (1000, array([0.503, 0.497])), (1000, array([1., 0.]))]], 'obj_sequence': [array([0.70710678, 0.00424264, 0.00424264, 0.70710678])]}\n",
      "{'iteration': 915, 'empi_dists_seq': [[(1000, array([0.489, 0.511])), (1000, array([0.489, 0.511])), (1000, array([1., 0.]))]], 'obj_sequence': [array([ 0.70710678, -0.01555635, -0.01555635,  0.70710678])]}\n",
      "{'iteration': 916, 'empi_dists_seq': [[(1000, array([0.526, 0.474])), (1000, array([0.526, 0.474])), (1000, array([1., 0.]))]], 'obj_sequence': [array([0.70710678, 0.03676955, 0.03676955, 0.70710678])]}\n",
      "{'iteration': 917, 'empi_dists_seq': [[(1000, array([0.489, 0.511])), (1000, array([0.489, 0.511])), (1000, array([1., 0.]))]], 'obj_sequence': [array([ 0.70710678, -0.01555635, -0.01555635,  0.70710678])]}\n",
      "{'iteration': 918, 'empi_dists_seq': [[(1000, array([0.5, 0.5])), (1000, array([0.5, 0.5])), (1000, array([1., 0.]))]], 'obj_sequence': [array([0.70710678, 0.        , 0.        , 0.70710678])]}\n",
      "{'iteration': 919, 'empi_dists_seq': [[(1000, array([0.509, 0.491])), (1000, array([0.509, 0.491])), (1000, array([1., 0.]))]], 'obj_sequence': [array([0.70710678, 0.01272792, 0.01272792, 0.70710678])]}\n",
      "{'iteration': 920, 'empi_dists_seq': [[(1000, array([0.509, 0.491])), (1000, array([0.509, 0.491])), (1000, array([1., 0.]))]], 'obj_sequence': [array([0.70710678, 0.01272792, 0.01272792, 0.70710678])]}\n",
      "{'iteration': 921, 'empi_dists_seq': [[(1000, array([0.491, 0.509])), (1000, array([0.491, 0.509])), (1000, array([1., 0.]))]], 'obj_sequence': [array([ 0.70710678, -0.01272792, -0.01272792,  0.70710678])]}\n",
      "{'iteration': 922, 'empi_dists_seq': [[(1000, array([0.477, 0.523])), (1000, array([0.477, 0.523])), (1000, array([1., 0.]))]], 'obj_sequence': [array([ 0.70710678, -0.03252691, -0.03252691,  0.70710678])]}\n",
      "{'iteration': 923, 'empi_dists_seq': [[(1000, array([0.493, 0.507])), (1000, array([0.493, 0.507])), (1000, array([1., 0.]))]], 'obj_sequence': [array([ 0.70710678, -0.00989949, -0.00989949,  0.70710678])]}\n",
      "{'iteration': 924, 'empi_dists_seq': [[(1000, array([0.515, 0.485])), (1000, array([0.515, 0.485])), (1000, array([1., 0.]))]], 'obj_sequence': [array([0.70710678, 0.0212132 , 0.0212132 , 0.70710678])]}\n",
      "{'iteration': 925, 'empi_dists_seq': [[(1000, array([0.485, 0.515])), (1000, array([0.485, 0.515])), (1000, array([1., 0.]))]], 'obj_sequence': [array([ 0.70710678, -0.0212132 , -0.0212132 ,  0.70710678])]}\n",
      "{'iteration': 926, 'empi_dists_seq': [[(1000, array([0.497, 0.503])), (1000, array([0.497, 0.503])), (1000, array([1., 0.]))]], 'obj_sequence': [array([ 0.70710678, -0.00424264, -0.00424264,  0.70710678])]}\n",
      "{'iteration': 927, 'empi_dists_seq': [[(1000, array([0.516, 0.484])), (1000, array([0.516, 0.484])), (1000, array([1., 0.]))]], 'obj_sequence': [array([0.70710678, 0.02262742, 0.02262742, 0.70710678])]}\n",
      "{'iteration': 928, 'empi_dists_seq': [[(1000, array([0.521, 0.479])), (1000, array([0.521, 0.479])), (1000, array([1., 0.]))]], 'obj_sequence': [array([0.70710678, 0.02969848, 0.02969848, 0.70710678])]}\n",
      "{'iteration': 929, 'empi_dists_seq': [[(1000, array([0.496, 0.504])), (1000, array([0.496, 0.504])), (1000, array([1., 0.]))]], 'obj_sequence': [array([ 0.70710678, -0.00565685, -0.00565685,  0.70710678])]}\n",
      "{'iteration': 930, 'empi_dists_seq': [[(1000, array([0.485, 0.515])), (1000, array([0.485, 0.515])), (1000, array([1., 0.]))]], 'obj_sequence': [array([ 0.70710678, -0.0212132 , -0.0212132 ,  0.70710678])]}\n",
      "{'iteration': 931, 'empi_dists_seq': [[(1000, array([0.481, 0.519])), (1000, array([0.481, 0.519])), (1000, array([1., 0.]))]], 'obj_sequence': [array([ 0.70710678, -0.02687006, -0.02687006,  0.70710678])]}\n",
      "{'iteration': 932, 'empi_dists_seq': [[(1000, array([0.516, 0.484])), (1000, array([0.516, 0.484])), (1000, array([1., 0.]))]], 'obj_sequence': [array([0.70710678, 0.02262742, 0.02262742, 0.70710678])]}\n",
      "{'iteration': 933, 'empi_dists_seq': [[(1000, array([0.49, 0.51])), (1000, array([0.49, 0.51])), (1000, array([1., 0.]))]], 'obj_sequence': [array([ 0.70710678, -0.01414214, -0.01414214,  0.70710678])]}\n",
      "{'iteration': 934, 'empi_dists_seq': [[(1000, array([0.529, 0.471])), (1000, array([0.529, 0.471])), (1000, array([1., 0.]))]], 'obj_sequence': [array([0.70710678, 0.04101219, 0.04101219, 0.70710678])]}\n",
      "{'iteration': 935, 'empi_dists_seq': [[(1000, array([0.503, 0.497])), (1000, array([0.503, 0.497])), (1000, array([1., 0.]))]], 'obj_sequence': [array([0.70710678, 0.00424264, 0.00424264, 0.70710678])]}\n"
     ]
    },
    {
     "name": "stdout",
     "output_type": "stream",
     "text": [
      "{'iteration': 936, 'empi_dists_seq': [[(1000, array([0.504, 0.496])), (1000, array([0.504, 0.496])), (1000, array([1., 0.]))]], 'obj_sequence': [array([0.70710678, 0.00565685, 0.00565685, 0.70710678])]}\n",
      "{'iteration': 937, 'empi_dists_seq': [[(1000, array([0.509, 0.491])), (1000, array([0.509, 0.491])), (1000, array([1., 0.]))]], 'obj_sequence': [array([0.70710678, 0.01272792, 0.01272792, 0.70710678])]}\n",
      "{'iteration': 938, 'empi_dists_seq': [[(1000, array([0.487, 0.513])), (1000, array([0.487, 0.513])), (1000, array([1., 0.]))]], 'obj_sequence': [array([ 0.70710678, -0.01838478, -0.01838478,  0.70710678])]}\n",
      "{'iteration': 939, 'empi_dists_seq': [[(1000, array([0.536, 0.464])), (1000, array([0.536, 0.464])), (1000, array([1., 0.]))]], 'obj_sequence': [array([0.70710678, 0.05091169, 0.05091169, 0.70710678])]}\n",
      "{'iteration': 940, 'empi_dists_seq': [[(1000, array([0.521, 0.479])), (1000, array([0.521, 0.479])), (1000, array([1., 0.]))]], 'obj_sequence': [array([0.70710678, 0.02969848, 0.02969848, 0.70710678])]}\n",
      "{'iteration': 941, 'empi_dists_seq': [[(1000, array([0.49, 0.51])), (1000, array([0.49, 0.51])), (1000, array([1., 0.]))]], 'obj_sequence': [array([ 0.70710678, -0.01414214, -0.01414214,  0.70710678])]}\n",
      "{'iteration': 942, 'empi_dists_seq': [[(1000, array([0.47, 0.53])), (1000, array([0.47, 0.53])), (1000, array([1., 0.]))]], 'obj_sequence': [array([ 0.70710678, -0.04242641, -0.04242641,  0.70710678])]}\n",
      "{'iteration': 943, 'empi_dists_seq': [[(1000, array([0.502, 0.498])), (1000, array([0.502, 0.498])), (1000, array([1., 0.]))]], 'obj_sequence': [array([0.70710678, 0.00282843, 0.00282843, 0.70710678])]}\n",
      "{'iteration': 944, 'empi_dists_seq': [[(1000, array([0.525, 0.475])), (1000, array([0.525, 0.475])), (1000, array([1., 0.]))]], 'obj_sequence': [array([0.70710678, 0.03535534, 0.03535534, 0.70710678])]}\n",
      "{'iteration': 945, 'empi_dists_seq': [[(1000, array([0.501, 0.499])), (1000, array([0.501, 0.499])), (1000, array([1., 0.]))]], 'obj_sequence': [array([0.70710678, 0.00141421, 0.00141421, 0.70710678])]}\n",
      "{'iteration': 946, 'empi_dists_seq': [[(1000, array([0.482, 0.518])), (1000, array([0.482, 0.518])), (1000, array([1., 0.]))]], 'obj_sequence': [array([ 0.70710678, -0.02545584, -0.02545584,  0.70710678])]}\n",
      "{'iteration': 947, 'empi_dists_seq': [[(1000, array([0.507, 0.493])), (1000, array([0.507, 0.493])), (1000, array([1., 0.]))]], 'obj_sequence': [array([0.70710678, 0.00989949, 0.00989949, 0.70710678])]}\n",
      "{'iteration': 948, 'empi_dists_seq': [[(1000, array([0.522, 0.478])), (1000, array([0.522, 0.478])), (1000, array([1., 0.]))]], 'obj_sequence': [array([0.70710678, 0.0311127 , 0.0311127 , 0.70710678])]}\n",
      "{'iteration': 949, 'empi_dists_seq': [[(1000, array([0.495, 0.505])), (1000, array([0.495, 0.505])), (1000, array([1., 0.]))]], 'obj_sequence': [array([ 0.70710678, -0.00707107, -0.00707107,  0.70710678])]}\n",
      "{'iteration': 950, 'empi_dists_seq': [[(1000, array([0.5, 0.5])), (1000, array([0.5, 0.5])), (1000, array([1., 0.]))]], 'obj_sequence': [array([0.70710678, 0.        , 0.        , 0.70710678])]}\n",
      "{'iteration': 951, 'empi_dists_seq': [[(1000, array([0.483, 0.517])), (1000, array([0.483, 0.517])), (1000, array([1., 0.]))]], 'obj_sequence': [array([ 0.70710678, -0.02404163, -0.02404163,  0.70710678])]}\n",
      "{'iteration': 952, 'empi_dists_seq': [[(1000, array([0.481, 0.519])), (1000, array([0.481, 0.519])), (1000, array([1., 0.]))]], 'obj_sequence': [array([ 0.70710678, -0.02687006, -0.02687006,  0.70710678])]}\n",
      "{'iteration': 953, 'empi_dists_seq': [[(1000, array([0.506, 0.494])), (1000, array([0.506, 0.494])), (1000, array([1., 0.]))]], 'obj_sequence': [array([0.70710678, 0.00848528, 0.00848528, 0.70710678])]}\n",
      "{'iteration': 954, 'empi_dists_seq': [[(1000, array([0.455, 0.545])), (1000, array([0.455, 0.545])), (1000, array([1., 0.]))]], 'obj_sequence': [array([ 0.70710678, -0.06363961, -0.06363961,  0.70710678])]}\n",
      "{'iteration': 955, 'empi_dists_seq': [[(1000, array([0.513, 0.487])), (1000, array([0.513, 0.487])), (1000, array([1., 0.]))]], 'obj_sequence': [array([0.70710678, 0.01838478, 0.01838478, 0.70710678])]}\n",
      "{'iteration': 956, 'empi_dists_seq': [[(1000, array([0.522, 0.478])), (1000, array([0.522, 0.478])), (1000, array([1., 0.]))]], 'obj_sequence': [array([0.70710678, 0.0311127 , 0.0311127 , 0.70710678])]}\n",
      "{'iteration': 957, 'empi_dists_seq': [[(1000, array([0.46, 0.54])), (1000, array([0.46, 0.54])), (1000, array([1., 0.]))]], 'obj_sequence': [array([ 0.70710678, -0.05656854, -0.05656854,  0.70710678])]}\n",
      "{'iteration': 958, 'empi_dists_seq': [[(1000, array([0.497, 0.503])), (1000, array([0.497, 0.503])), (1000, array([1., 0.]))]], 'obj_sequence': [array([ 0.70710678, -0.00424264, -0.00424264,  0.70710678])]}\n",
      "{'iteration': 959, 'empi_dists_seq': [[(1000, array([0.527, 0.473])), (1000, array([0.527, 0.473])), (1000, array([1., 0.]))]], 'obj_sequence': [array([0.70710678, 0.03818377, 0.03818377, 0.70710678])]}\n",
      "{'iteration': 960, 'empi_dists_seq': [[(1000, array([0.497, 0.503])), (1000, array([0.497, 0.503])), (1000, array([1., 0.]))]], 'obj_sequence': [array([ 0.70710678, -0.00424264, -0.00424264,  0.70710678])]}\n",
      "{'iteration': 961, 'empi_dists_seq': [[(1000, array([0.52, 0.48])), (1000, array([0.52, 0.48])), (1000, array([1., 0.]))]], 'obj_sequence': [array([0.70710678, 0.02828427, 0.02828427, 0.70710678])]}\n",
      "{'iteration': 962, 'empi_dists_seq': [[(1000, array([0.475, 0.525])), (1000, array([0.475, 0.525])), (1000, array([1., 0.]))]], 'obj_sequence': [array([ 0.70710678, -0.03535534, -0.03535534,  0.70710678])]}\n",
      "{'iteration': 963, 'empi_dists_seq': [[(1000, array([0.503, 0.497])), (1000, array([0.503, 0.497])), (1000, array([1., 0.]))]], 'obj_sequence': [array([0.70710678, 0.00424264, 0.00424264, 0.70710678])]}\n",
      "{'iteration': 964, 'empi_dists_seq': [[(1000, array([0.506, 0.494])), (1000, array([0.506, 0.494])), (1000, array([1., 0.]))]], 'obj_sequence': [array([0.70710678, 0.00848528, 0.00848528, 0.70710678])]}\n",
      "{'iteration': 965, 'empi_dists_seq': [[(1000, array([0.493, 0.507])), (1000, array([0.493, 0.507])), (1000, array([1., 0.]))]], 'obj_sequence': [array([ 0.70710678, -0.00989949, -0.00989949,  0.70710678])]}\n",
      "{'iteration': 966, 'empi_dists_seq': [[(1000, array([0.482, 0.518])), (1000, array([0.482, 0.518])), (1000, array([1., 0.]))]], 'obj_sequence': [array([ 0.70710678, -0.02545584, -0.02545584,  0.70710678])]}\n",
      "{'iteration': 967, 'empi_dists_seq': [[(1000, array([0.506, 0.494])), (1000, array([0.506, 0.494])), (1000, array([1., 0.]))]], 'obj_sequence': [array([0.70710678, 0.00848528, 0.00848528, 0.70710678])]}\n",
      "{'iteration': 968, 'empi_dists_seq': [[(1000, array([0.512, 0.488])), (1000, array([0.512, 0.488])), (1000, array([1., 0.]))]], 'obj_sequence': [array([0.70710678, 0.01697056, 0.01697056, 0.70710678])]}\n",
      "{'iteration': 969, 'empi_dists_seq': [[(1000, array([0.501, 0.499])), (1000, array([0.501, 0.499])), (1000, array([1., 0.]))]], 'obj_sequence': [array([0.70710678, 0.00141421, 0.00141421, 0.70710678])]}\n",
      "{'iteration': 970, 'empi_dists_seq': [[(1000, array([0.495, 0.505])), (1000, array([0.495, 0.505])), (1000, array([1., 0.]))]], 'obj_sequence': [array([ 0.70710678, -0.00707107, -0.00707107,  0.70710678])]}\n",
      "{'iteration': 971, 'empi_dists_seq': [[(1000, array([0.488, 0.512])), (1000, array([0.488, 0.512])), (1000, array([1., 0.]))]], 'obj_sequence': [array([ 0.70710678, -0.01697056, -0.01697056,  0.70710678])]}\n",
      "{'iteration': 972, 'empi_dists_seq': [[(1000, array([0.515, 0.485])), (1000, array([0.515, 0.485])), (1000, array([1., 0.]))]], 'obj_sequence': [array([0.70710678, 0.0212132 , 0.0212132 , 0.70710678])]}\n",
      "{'iteration': 973, 'empi_dists_seq': [[(1000, array([0.52, 0.48])), (1000, array([0.52, 0.48])), (1000, array([1., 0.]))]], 'obj_sequence': [array([0.70710678, 0.02828427, 0.02828427, 0.70710678])]}\n",
      "{'iteration': 974, 'empi_dists_seq': [[(1000, array([0.472, 0.528])), (1000, array([0.472, 0.528])), (1000, array([1., 0.]))]], 'obj_sequence': [array([ 0.70710678, -0.03959798, -0.03959798,  0.70710678])]}\n",
      "{'iteration': 975, 'empi_dists_seq': [[(1000, array([0.502, 0.498])), (1000, array([0.502, 0.498])), (1000, array([1., 0.]))]], 'obj_sequence': [array([0.70710678, 0.00282843, 0.00282843, 0.70710678])]}\n",
      "{'iteration': 976, 'empi_dists_seq': [[(1000, array([0.515, 0.485])), (1000, array([0.515, 0.485])), (1000, array([1., 0.]))]], 'obj_sequence': [array([0.70710678, 0.0212132 , 0.0212132 , 0.70710678])]}\n",
      "{'iteration': 977, 'empi_dists_seq': [[(1000, array([0.517, 0.483])), (1000, array([0.517, 0.483])), (1000, array([1., 0.]))]], 'obj_sequence': [array([0.70710678, 0.02404163, 0.02404163, 0.70710678])]}\n",
      "{'iteration': 978, 'empi_dists_seq': [[(1000, array([0.518, 0.482])), (1000, array([0.518, 0.482])), (1000, array([1., 0.]))]], 'obj_sequence': [array([0.70710678, 0.02545584, 0.02545584, 0.70710678])]}\n",
      "{'iteration': 979, 'empi_dists_seq': [[(1000, array([0.506, 0.494])), (1000, array([0.506, 0.494])), (1000, array([1., 0.]))]], 'obj_sequence': [array([0.70710678, 0.00848528, 0.00848528, 0.70710678])]}\n",
      "{'iteration': 980, 'empi_dists_seq': [[(1000, array([0.492, 0.508])), (1000, array([0.492, 0.508])), (1000, array([1., 0.]))]], 'obj_sequence': [array([ 0.70710678, -0.01131371, -0.01131371,  0.70710678])]}\n",
      "{'iteration': 981, 'empi_dists_seq': [[(1000, array([0.514, 0.486])), (1000, array([0.514, 0.486])), (1000, array([1., 0.]))]], 'obj_sequence': [array([0.70710678, 0.01979899, 0.01979899, 0.70710678])]}\n",
      "{'iteration': 982, 'empi_dists_seq': [[(1000, array([0.485, 0.515])), (1000, array([0.485, 0.515])), (1000, array([1., 0.]))]], 'obj_sequence': [array([ 0.70710678, -0.0212132 , -0.0212132 ,  0.70710678])]}\n",
      "{'iteration': 983, 'empi_dists_seq': [[(1000, array([0.5, 0.5])), (1000, array([0.5, 0.5])), (1000, array([1., 0.]))]], 'obj_sequence': [array([0.70710678, 0.        , 0.        , 0.70710678])]}\n",
      "{'iteration': 984, 'empi_dists_seq': [[(1000, array([0.501, 0.499])), (1000, array([0.501, 0.499])), (1000, array([1., 0.]))]], 'obj_sequence': [array([0.70710678, 0.00141421, 0.00141421, 0.70710678])]}\n",
      "{'iteration': 985, 'empi_dists_seq': [[(1000, array([0.514, 0.486])), (1000, array([0.514, 0.486])), (1000, array([1., 0.]))]], 'obj_sequence': [array([0.70710678, 0.01979899, 0.01979899, 0.70710678])]}\n",
      "{'iteration': 986, 'empi_dists_seq': [[(1000, array([0.462, 0.538])), (1000, array([0.462, 0.538])), (1000, array([1., 0.]))]], 'obj_sequence': [array([ 0.70710678, -0.05374012, -0.05374012,  0.70710678])]}\n",
      "{'iteration': 987, 'empi_dists_seq': [[(1000, array([0.503, 0.497])), (1000, array([0.503, 0.497])), (1000, array([1., 0.]))]], 'obj_sequence': [array([0.70710678, 0.00424264, 0.00424264, 0.70710678])]}\n",
      "{'iteration': 988, 'empi_dists_seq': [[(1000, array([0.502, 0.498])), (1000, array([0.502, 0.498])), (1000, array([1., 0.]))]], 'obj_sequence': [array([0.70710678, 0.00282843, 0.00282843, 0.70710678])]}\n",
      "{'iteration': 989, 'empi_dists_seq': [[(1000, array([0.508, 0.492])), (1000, array([0.508, 0.492])), (1000, array([1., 0.]))]], 'obj_sequence': [array([0.70710678, 0.01131371, 0.01131371, 0.70710678])]}\n"
     ]
    },
    {
     "name": "stdout",
     "output_type": "stream",
     "text": [
      "{'iteration': 990, 'empi_dists_seq': [[(1000, array([0.509, 0.491])), (1000, array([0.509, 0.491])), (1000, array([1., 0.]))]], 'obj_sequence': [array([0.70710678, 0.01272792, 0.01272792, 0.70710678])]}\n",
      "{'iteration': 991, 'empi_dists_seq': [[(1000, array([0.502, 0.498])), (1000, array([0.502, 0.498])), (1000, array([1., 0.]))]], 'obj_sequence': [array([0.70710678, 0.00282843, 0.00282843, 0.70710678])]}\n",
      "{'iteration': 992, 'empi_dists_seq': [[(1000, array([0.494, 0.506])), (1000, array([0.494, 0.506])), (1000, array([1., 0.]))]], 'obj_sequence': [array([ 0.70710678, -0.00848528, -0.00848528,  0.70710678])]}\n",
      "{'iteration': 993, 'empi_dists_seq': [[(1000, array([0.528, 0.472])), (1000, array([0.528, 0.472])), (1000, array([1., 0.]))]], 'obj_sequence': [array([0.70710678, 0.03959798, 0.03959798, 0.70710678])]}\n",
      "{'iteration': 994, 'empi_dists_seq': [[(1000, array([0.486, 0.514])), (1000, array([0.486, 0.514])), (1000, array([1., 0.]))]], 'obj_sequence': [array([ 0.70710678, -0.01979899, -0.01979899,  0.70710678])]}\n",
      "{'iteration': 995, 'empi_dists_seq': [[(1000, array([0.506, 0.494])), (1000, array([0.506, 0.494])), (1000, array([1., 0.]))]], 'obj_sequence': [array([0.70710678, 0.00848528, 0.00848528, 0.70710678])]}\n",
      "{'iteration': 996, 'empi_dists_seq': [[(1000, array([0.528, 0.472])), (1000, array([0.528, 0.472])), (1000, array([1., 0.]))]], 'obj_sequence': [array([0.70710678, 0.03959798, 0.03959798, 0.70710678])]}\n",
      "{'iteration': 997, 'empi_dists_seq': [[(1000, array([0.487, 0.513])), (1000, array([0.487, 0.513])), (1000, array([1., 0.]))]], 'obj_sequence': [array([ 0.70710678, -0.01838478, -0.01838478,  0.70710678])]}\n",
      "{'iteration': 998, 'empi_dists_seq': [[(1000, array([0.494, 0.506])), (1000, array([0.494, 0.506])), (1000, array([1., 0.]))]], 'obj_sequence': [array([ 0.70710678, -0.00848528, -0.00848528,  0.70710678])]}\n",
      "{'iteration': 999, 'empi_dists_seq': [[(1000, array([0.492, 0.508])), (1000, array([0.492, 0.508])), (1000, array([1., 0.]))]], 'obj_sequence': [array([ 0.70710678, -0.01131371, -0.01131371,  0.70710678])]}\n",
      "time(s)=12.994785070419312\n"
     ]
    }
   ],
   "source": [
    "true_object = get_z0_1q(c_sys)\n",
    "num_data = [1000]\n",
    "iterations = 1000\n",
    "\n",
    "param_affine_est_linear = estimate(\"z0\", true_object, num_data, iterations, on_para_eq_constraint=True)\n",
    "param_linear_est_linear = estimate(\"z0\", true_object, num_data, iterations, on_para_eq_constraint=False)"
   ]
  },
  {
   "cell_type": "markdown",
   "metadata": {},
   "source": [
    "# Physicality Violation"
   ]
  },
  {
   "cell_type": "markdown",
   "metadata": {},
   "source": [
    "## on_para_eq_constraint = True"
   ]
  },
  {
   "cell_type": "code",
   "execution_count": 14,
   "metadata": {},
   "outputs": [],
   "source": [
    "value_list = []\n",
    "\n",
    "for state_est in param_affine_est_linear:\n",
    "    state_est = state_est[0]  # TODO\n",
    "    tr = np.trace(state_est.to_density_matrix())\n",
    "    value = tr.real\n",
    "    # TODO: 虚部が10 ** -14以上だったらwarningを出す\n",
    "    value_list.append(value)"
   ]
  },
  {
   "cell_type": "code",
   "execution_count": 12,
   "metadata": {},
   "outputs": [
    {
     "data": {
      "application/vnd.plotly.v1+json": {
       "config": {
        "plotlyServerURL": "https://plot.ly"
       },
       "data": [
        {
         "histnorm": "probability",
         "type": "histogram",
         "x": [
          0.9999999999999998,
          0.9999999999999998,
          0.9999999999999998,
          0.9999999999999998,
          0.9999999999999998,
          0.9999999999999998,
          0.9999999999999998,
          0.9999999999999998,
          0.9999999999999998,
          0.9999999999999998,
          0.9999999999999998,
          0.9999999999999998,
          0.9999999999999998,
          0.9999999999999998,
          0.9999999999999998,
          0.9999999999999998,
          0.9999999999999998,
          0.9999999999999998,
          0.9999999999999998,
          0.9999999999999998,
          0.9999999999999998,
          0.9999999999999998,
          0.9999999999999998,
          0.9999999999999998,
          0.9999999999999998,
          0.9999999999999998,
          0.9999999999999998,
          0.9999999999999998,
          0.9999999999999998,
          0.9999999999999998,
          0.9999999999999998,
          0.9999999999999998,
          0.9999999999999998,
          0.9999999999999998,
          0.9999999999999998,
          0.9999999999999998,
          0.9999999999999998,
          0.9999999999999998,
          0.9999999999999998,
          0.9999999999999998,
          0.9999999999999998,
          0.9999999999999998,
          0.9999999999999998,
          0.9999999999999998,
          0.9999999999999998,
          0.9999999999999998,
          0.9999999999999998,
          0.9999999999999998,
          0.9999999999999998,
          0.9999999999999998,
          0.9999999999999998,
          0.9999999999999998,
          0.9999999999999998,
          0.9999999999999998,
          0.9999999999999998,
          0.9999999999999998,
          0.9999999999999998,
          0.9999999999999998,
          0.9999999999999998,
          0.9999999999999998,
          0.9999999999999998,
          0.9999999999999998,
          0.9999999999999998,
          0.9999999999999998,
          0.9999999999999998,
          0.9999999999999998,
          0.9999999999999998,
          0.9999999999999998,
          0.9999999999999998,
          0.9999999999999998,
          0.9999999999999998,
          0.9999999999999998,
          0.9999999999999998,
          0.9999999999999998,
          0.9999999999999998,
          0.9999999999999998,
          0.9999999999999998,
          0.9999999999999998,
          0.9999999999999998,
          0.9999999999999998,
          0.9999999999999998,
          0.9999999999999998,
          0.9999999999999998,
          0.9999999999999998,
          0.9999999999999998,
          0.9999999999999998,
          0.9999999999999998,
          0.9999999999999998,
          0.9999999999999998,
          0.9999999999999998,
          0.9999999999999998,
          0.9999999999999998,
          0.9999999999999998,
          0.9999999999999998,
          0.9999999999999998,
          0.9999999999999998,
          0.9999999999999998,
          0.9999999999999998,
          0.9999999999999998,
          0.9999999999999998,
          0.9999999999999998,
          0.9999999999999998,
          0.9999999999999998,
          0.9999999999999998,
          0.9999999999999998,
          0.9999999999999998,
          0.9999999999999998,
          0.9999999999999998,
          0.9999999999999998,
          0.9999999999999998,
          0.9999999999999998,
          0.9999999999999998,
          0.9999999999999998,
          0.9999999999999998,
          0.9999999999999998,
          0.9999999999999998,
          0.9999999999999998,
          0.9999999999999998,
          0.9999999999999998,
          0.9999999999999998,
          0.9999999999999998,
          0.9999999999999998,
          0.9999999999999998,
          0.9999999999999998,
          0.9999999999999998,
          0.9999999999999998,
          0.9999999999999998,
          0.9999999999999998,
          0.9999999999999998,
          0.9999999999999998,
          0.9999999999999998,
          0.9999999999999998,
          0.9999999999999998,
          0.9999999999999998,
          0.9999999999999998,
          0.9999999999999998,
          0.9999999999999998,
          0.9999999999999998,
          0.9999999999999998,
          0.9999999999999998,
          0.9999999999999998,
          0.9999999999999998,
          0.9999999999999998,
          0.9999999999999998,
          0.9999999999999998,
          0.9999999999999998,
          0.9999999999999998,
          0.9999999999999998,
          0.9999999999999998,
          0.9999999999999998,
          0.9999999999999998,
          0.9999999999999998,
          0.9999999999999998,
          0.9999999999999998,
          0.9999999999999998,
          0.9999999999999998,
          0.9999999999999998,
          0.9999999999999998,
          0.9999999999999998,
          0.9999999999999998,
          0.9999999999999998,
          0.9999999999999998,
          0.9999999999999998,
          0.9999999999999998,
          0.9999999999999998,
          0.9999999999999998,
          0.9999999999999998,
          0.9999999999999998,
          0.9999999999999998,
          0.9999999999999998,
          0.9999999999999998,
          0.9999999999999998,
          0.9999999999999998,
          0.9999999999999998,
          0.9999999999999998,
          0.9999999999999998,
          0.9999999999999998,
          0.9999999999999998,
          0.9999999999999998,
          0.9999999999999998,
          0.9999999999999998,
          0.9999999999999998,
          0.9999999999999998,
          0.9999999999999998,
          0.9999999999999998,
          0.9999999999999998,
          0.9999999999999998,
          0.9999999999999998,
          0.9999999999999998,
          0.9999999999999998,
          0.9999999999999998,
          0.9999999999999998,
          0.9999999999999998,
          0.9999999999999998,
          0.9999999999999998,
          0.9999999999999998,
          0.9999999999999998,
          0.9999999999999998,
          0.9999999999999998,
          0.9999999999999998,
          0.9999999999999998,
          0.9999999999999998,
          0.9999999999999998,
          0.9999999999999998,
          0.9999999999999998,
          0.9999999999999998,
          0.9999999999999998,
          0.9999999999999998,
          0.9999999999999998,
          0.9999999999999998,
          0.9999999999999998,
          0.9999999999999998,
          0.9999999999999998,
          0.9999999999999998,
          0.9999999999999998,
          0.9999999999999998,
          0.9999999999999998,
          0.9999999999999998,
          0.9999999999999998,
          0.9999999999999998,
          0.9999999999999998,
          0.9999999999999998,
          0.9999999999999998,
          0.9999999999999998,
          0.9999999999999998,
          0.9999999999999998,
          0.9999999999999998,
          0.9999999999999998,
          0.9999999999999998,
          0.9999999999999998,
          0.9999999999999998,
          0.9999999999999998,
          0.9999999999999998,
          0.9999999999999998,
          0.9999999999999998,
          0.9999999999999998,
          0.9999999999999998,
          0.9999999999999998,
          0.9999999999999998,
          0.9999999999999998,
          0.9999999999999998,
          0.9999999999999998,
          0.9999999999999998,
          0.9999999999999998,
          0.9999999999999998,
          0.9999999999999998,
          0.9999999999999998,
          0.9999999999999998,
          0.9999999999999998,
          0.9999999999999998,
          0.9999999999999998,
          0.9999999999999998,
          0.9999999999999998,
          0.9999999999999998,
          0.9999999999999998,
          0.9999999999999998,
          0.9999999999999998,
          0.9999999999999998,
          0.9999999999999998,
          0.9999999999999998,
          0.9999999999999998,
          0.9999999999999998,
          0.9999999999999998,
          0.9999999999999998,
          0.9999999999999998,
          0.9999999999999998,
          0.9999999999999998,
          0.9999999999999998,
          0.9999999999999998,
          0.9999999999999998,
          0.9999999999999998,
          0.9999999999999998,
          0.9999999999999998,
          0.9999999999999998,
          0.9999999999999998,
          0.9999999999999998,
          0.9999999999999998,
          0.9999999999999998,
          0.9999999999999998,
          0.9999999999999998,
          0.9999999999999998,
          0.9999999999999998,
          0.9999999999999998,
          0.9999999999999998,
          0.9999999999999998,
          0.9999999999999998,
          0.9999999999999998,
          0.9999999999999998,
          0.9999999999999998,
          0.9999999999999998,
          0.9999999999999998,
          0.9999999999999998,
          0.9999999999999998,
          0.9999999999999998,
          0.9999999999999998,
          0.9999999999999998,
          0.9999999999999998,
          0.9999999999999998,
          0.9999999999999998,
          0.9999999999999998,
          0.9999999999999998,
          0.9999999999999998,
          0.9999999999999998,
          0.9999999999999998,
          0.9999999999999998,
          0.9999999999999998,
          0.9999999999999998,
          0.9999999999999998,
          0.9999999999999998,
          0.9999999999999998,
          0.9999999999999998,
          0.9999999999999998,
          0.9999999999999998,
          0.9999999999999998,
          0.9999999999999998,
          0.9999999999999998,
          0.9999999999999998,
          0.9999999999999998,
          0.9999999999999998,
          0.9999999999999998,
          0.9999999999999998,
          0.9999999999999998,
          0.9999999999999998,
          0.9999999999999998,
          0.9999999999999998,
          0.9999999999999998,
          0.9999999999999998,
          0.9999999999999998,
          0.9999999999999998,
          0.9999999999999998,
          0.9999999999999998,
          0.9999999999999998,
          0.9999999999999998,
          0.9999999999999998,
          0.9999999999999998,
          0.9999999999999998,
          0.9999999999999998,
          0.9999999999999998,
          0.9999999999999998,
          0.9999999999999998,
          0.9999999999999998,
          0.9999999999999998,
          0.9999999999999998,
          0.9999999999999998,
          0.9999999999999998,
          0.9999999999999998,
          0.9999999999999998,
          0.9999999999999998,
          0.9999999999999998,
          0.9999999999999998,
          0.9999999999999998,
          0.9999999999999998,
          0.9999999999999998,
          0.9999999999999998,
          0.9999999999999998,
          0.9999999999999998,
          0.9999999999999998,
          0.9999999999999998,
          0.9999999999999998,
          0.9999999999999998,
          0.9999999999999998,
          0.9999999999999998,
          0.9999999999999998,
          0.9999999999999998,
          0.9999999999999998,
          0.9999999999999998,
          0.9999999999999998,
          0.9999999999999998,
          0.9999999999999998,
          0.9999999999999998,
          0.9999999999999998,
          0.9999999999999998,
          0.9999999999999998,
          0.9999999999999998,
          0.9999999999999998,
          0.9999999999999998,
          0.9999999999999998,
          0.9999999999999998,
          0.9999999999999998,
          0.9999999999999998,
          0.9999999999999998,
          0.9999999999999998,
          0.9999999999999998,
          0.9999999999999998,
          0.9999999999999998,
          0.9999999999999998,
          0.9999999999999998,
          0.9999999999999998,
          0.9999999999999998,
          0.9999999999999998,
          0.9999999999999998,
          0.9999999999999998,
          0.9999999999999998,
          0.9999999999999998,
          0.9999999999999998,
          0.9999999999999998,
          0.9999999999999998,
          0.9999999999999998,
          0.9999999999999998,
          0.9999999999999998,
          0.9999999999999998,
          0.9999999999999998,
          0.9999999999999998,
          0.9999999999999998,
          0.9999999999999998,
          0.9999999999999998,
          0.9999999999999998,
          0.9999999999999998,
          0.9999999999999998,
          0.9999999999999998,
          0.9999999999999998,
          0.9999999999999998,
          0.9999999999999998,
          0.9999999999999998,
          0.9999999999999998,
          0.9999999999999998,
          0.9999999999999998,
          0.9999999999999998,
          0.9999999999999998,
          0.9999999999999998,
          0.9999999999999998,
          0.9999999999999998,
          0.9999999999999998,
          0.9999999999999998,
          0.9999999999999998,
          0.9999999999999998,
          0.9999999999999998,
          0.9999999999999998,
          0.9999999999999998,
          0.9999999999999998,
          0.9999999999999998,
          0.9999999999999998,
          0.9999999999999998,
          0.9999999999999998,
          0.9999999999999998,
          0.9999999999999998,
          0.9999999999999998,
          0.9999999999999998,
          0.9999999999999998,
          0.9999999999999998,
          0.9999999999999998,
          0.9999999999999998,
          0.9999999999999998,
          0.9999999999999998,
          0.9999999999999998,
          0.9999999999999998,
          0.9999999999999998,
          0.9999999999999998,
          0.9999999999999998,
          0.9999999999999998,
          0.9999999999999998,
          0.9999999999999998,
          0.9999999999999998,
          0.9999999999999998,
          0.9999999999999998,
          0.9999999999999998,
          0.9999999999999998,
          0.9999999999999998,
          0.9999999999999998,
          0.9999999999999998,
          0.9999999999999998,
          0.9999999999999998,
          0.9999999999999998,
          0.9999999999999998,
          0.9999999999999998,
          0.9999999999999998,
          0.9999999999999998,
          0.9999999999999998,
          0.9999999999999998,
          0.9999999999999998,
          0.9999999999999998,
          0.9999999999999998,
          0.9999999999999998,
          0.9999999999999998,
          0.9999999999999998,
          0.9999999999999998,
          0.9999999999999998,
          0.9999999999999998,
          0.9999999999999998,
          0.9999999999999998,
          0.9999999999999998,
          0.9999999999999998,
          0.9999999999999998,
          0.9999999999999998,
          0.9999999999999998,
          0.9999999999999998,
          0.9999999999999998,
          0.9999999999999998,
          0.9999999999999998,
          0.9999999999999998,
          0.9999999999999998,
          0.9999999999999998,
          0.9999999999999998,
          0.9999999999999998,
          0.9999999999999998,
          0.9999999999999998,
          0.9999999999999998,
          0.9999999999999998,
          0.9999999999999998,
          0.9999999999999998,
          0.9999999999999998,
          0.9999999999999998,
          0.9999999999999998,
          0.9999999999999998,
          0.9999999999999998,
          0.9999999999999998,
          0.9999999999999998,
          0.9999999999999998,
          0.9999999999999998,
          0.9999999999999998,
          0.9999999999999998,
          0.9999999999999998,
          0.9999999999999998,
          0.9999999999999998,
          0.9999999999999998,
          0.9999999999999998,
          0.9999999999999998,
          0.9999999999999998,
          0.9999999999999998,
          0.9999999999999998,
          0.9999999999999998,
          0.9999999999999998,
          0.9999999999999998,
          0.9999999999999998,
          0.9999999999999998,
          0.9999999999999998,
          0.9999999999999998,
          0.9999999999999998,
          0.9999999999999998,
          0.9999999999999998,
          0.9999999999999998,
          0.9999999999999998,
          0.9999999999999998,
          0.9999999999999998,
          0.9999999999999998,
          0.9999999999999998,
          0.9999999999999998,
          0.9999999999999998,
          0.9999999999999998,
          0.9999999999999998,
          0.9999999999999998,
          0.9999999999999998,
          0.9999999999999998,
          0.9999999999999998,
          0.9999999999999998,
          0.9999999999999998,
          0.9999999999999998,
          0.9999999999999998,
          0.9999999999999998,
          0.9999999999999998,
          0.9999999999999998,
          0.9999999999999998,
          0.9999999999999998,
          0.9999999999999998,
          0.9999999999999998,
          0.9999999999999998,
          0.9999999999999998,
          0.9999999999999998,
          0.9999999999999998,
          0.9999999999999998,
          0.9999999999999998,
          0.9999999999999998,
          0.9999999999999998,
          0.9999999999999998,
          0.9999999999999998,
          0.9999999999999998,
          0.9999999999999998,
          0.9999999999999998,
          0.9999999999999998,
          0.9999999999999998,
          0.9999999999999998,
          0.9999999999999998,
          0.9999999999999998,
          0.9999999999999998,
          0.9999999999999998,
          0.9999999999999998,
          0.9999999999999998,
          0.9999999999999998,
          0.9999999999999998,
          0.9999999999999998,
          0.9999999999999998,
          0.9999999999999998,
          0.9999999999999998,
          0.9999999999999998,
          0.9999999999999998,
          0.9999999999999998,
          0.9999999999999998,
          0.9999999999999998,
          0.9999999999999998,
          0.9999999999999998,
          0.9999999999999998,
          0.9999999999999998,
          0.9999999999999998,
          0.9999999999999998,
          0.9999999999999998,
          0.9999999999999998,
          0.9999999999999998,
          0.9999999999999998,
          0.9999999999999998,
          0.9999999999999998,
          0.9999999999999998,
          0.9999999999999998,
          0.9999999999999998,
          0.9999999999999998,
          0.9999999999999998,
          0.9999999999999998,
          0.9999999999999998,
          0.9999999999999998,
          0.9999999999999998,
          0.9999999999999998,
          0.9999999999999998,
          0.9999999999999998,
          0.9999999999999998,
          0.9999999999999998,
          0.9999999999999998,
          0.9999999999999998,
          0.9999999999999998,
          0.9999999999999998,
          0.9999999999999998,
          0.9999999999999998,
          0.9999999999999998,
          0.9999999999999998,
          0.9999999999999998,
          0.9999999999999998,
          0.9999999999999998,
          0.9999999999999998,
          0.9999999999999998,
          0.9999999999999998,
          0.9999999999999998,
          0.9999999999999998,
          0.9999999999999998,
          0.9999999999999998,
          0.9999999999999998,
          0.9999999999999998,
          0.9999999999999998,
          0.9999999999999998,
          0.9999999999999998,
          0.9999999999999998,
          0.9999999999999998,
          0.9999999999999998,
          0.9999999999999998,
          0.9999999999999998,
          0.9999999999999998,
          0.9999999999999998,
          0.9999999999999998,
          0.9999999999999998,
          0.9999999999999998,
          0.9999999999999998,
          0.9999999999999998,
          0.9999999999999998,
          0.9999999999999998,
          0.9999999999999998,
          0.9999999999999998,
          0.9999999999999998,
          0.9999999999999998,
          0.9999999999999998,
          0.9999999999999998,
          0.9999999999999998,
          0.9999999999999998,
          0.9999999999999998,
          0.9999999999999998,
          0.9999999999999998,
          0.9999999999999998,
          0.9999999999999998,
          0.9999999999999998,
          0.9999999999999998,
          0.9999999999999998,
          0.9999999999999998,
          0.9999999999999998,
          0.9999999999999998,
          0.9999999999999998,
          0.9999999999999998,
          0.9999999999999998,
          0.9999999999999998,
          0.9999999999999998,
          0.9999999999999998,
          0.9999999999999998,
          0.9999999999999998,
          0.9999999999999998,
          0.9999999999999998,
          0.9999999999999998,
          0.9999999999999998,
          0.9999999999999998,
          0.9999999999999998,
          0.9999999999999998,
          0.9999999999999998,
          0.9999999999999998,
          0.9999999999999998,
          0.9999999999999998,
          0.9999999999999998,
          0.9999999999999998,
          0.9999999999999998,
          0.9999999999999998,
          0.9999999999999998,
          0.9999999999999998,
          0.9999999999999998,
          0.9999999999999998,
          0.9999999999999998,
          0.9999999999999998,
          0.9999999999999998,
          0.9999999999999998,
          0.9999999999999998,
          0.9999999999999998,
          0.9999999999999998,
          0.9999999999999998,
          0.9999999999999998,
          0.9999999999999998,
          0.9999999999999998,
          0.9999999999999998,
          0.9999999999999998,
          0.9999999999999998,
          0.9999999999999998,
          0.9999999999999998,
          0.9999999999999998,
          0.9999999999999998,
          0.9999999999999998,
          0.9999999999999998,
          0.9999999999999998,
          0.9999999999999998,
          0.9999999999999998,
          0.9999999999999998,
          0.9999999999999998,
          0.9999999999999998,
          0.9999999999999998,
          0.9999999999999998,
          0.9999999999999998,
          0.9999999999999998,
          0.9999999999999998,
          0.9999999999999998,
          0.9999999999999998,
          0.9999999999999998,
          0.9999999999999998,
          0.9999999999999998,
          0.9999999999999998,
          0.9999999999999998,
          0.9999999999999998,
          0.9999999999999998,
          0.9999999999999998,
          0.9999999999999998,
          0.9999999999999998,
          0.9999999999999998,
          0.9999999999999998,
          0.9999999999999998,
          0.9999999999999998,
          0.9999999999999998,
          0.9999999999999998,
          0.9999999999999998,
          0.9999999999999998,
          0.9999999999999998,
          0.9999999999999998,
          0.9999999999999998,
          0.9999999999999998,
          0.9999999999999998,
          0.9999999999999998,
          0.9999999999999998,
          0.9999999999999998,
          0.9999999999999998,
          0.9999999999999998,
          0.9999999999999998,
          0.9999999999999998,
          0.9999999999999998,
          0.9999999999999998,
          0.9999999999999998,
          0.9999999999999998,
          0.9999999999999998,
          0.9999999999999998,
          0.9999999999999998,
          0.9999999999999998,
          0.9999999999999998,
          0.9999999999999998,
          0.9999999999999998,
          0.9999999999999998,
          0.9999999999999998,
          0.9999999999999998,
          0.9999999999999998,
          0.9999999999999998,
          0.9999999999999998,
          0.9999999999999998,
          0.9999999999999998,
          0.9999999999999998,
          0.9999999999999998,
          0.9999999999999998,
          0.9999999999999998,
          0.9999999999999998,
          0.9999999999999998,
          0.9999999999999998,
          0.9999999999999998,
          0.9999999999999998,
          0.9999999999999998,
          0.9999999999999998,
          0.9999999999999998,
          0.9999999999999998,
          0.9999999999999998,
          0.9999999999999998,
          0.9999999999999998,
          0.9999999999999998,
          0.9999999999999998,
          0.9999999999999998,
          0.9999999999999998,
          0.9999999999999998,
          0.9999999999999998,
          0.9999999999999998,
          0.9999999999999998,
          0.9999999999999998,
          0.9999999999999998,
          0.9999999999999998,
          0.9999999999999998,
          0.9999999999999998,
          0.9999999999999998,
          0.9999999999999998,
          0.9999999999999998,
          0.9999999999999998,
          0.9999999999999998,
          0.9999999999999998,
          0.9999999999999998,
          0.9999999999999998,
          0.9999999999999998,
          0.9999999999999998,
          0.9999999999999998,
          0.9999999999999998,
          0.9999999999999998,
          0.9999999999999998,
          0.9999999999999998,
          0.9999999999999998,
          0.9999999999999998,
          0.9999999999999998,
          0.9999999999999998,
          0.9999999999999998,
          0.9999999999999998,
          0.9999999999999998,
          0.9999999999999998,
          0.9999999999999998,
          0.9999999999999998,
          0.9999999999999998,
          0.9999999999999998,
          0.9999999999999998,
          0.9999999999999998,
          0.9999999999999998,
          0.9999999999999998,
          0.9999999999999998,
          0.9999999999999998,
          0.9999999999999998,
          0.9999999999999998,
          0.9999999999999998,
          0.9999999999999998,
          0.9999999999999998,
          0.9999999999999998,
          0.9999999999999998,
          0.9999999999999998,
          0.9999999999999998,
          0.9999999999999998,
          0.9999999999999998,
          0.9999999999999998,
          0.9999999999999998,
          0.9999999999999998,
          0.9999999999999998,
          0.9999999999999998,
          0.9999999999999998,
          0.9999999999999998,
          0.9999999999999998,
          0.9999999999999998,
          0.9999999999999998,
          0.9999999999999998,
          0.9999999999999998,
          0.9999999999999998,
          0.9999999999999998,
          0.9999999999999998,
          0.9999999999999998,
          0.9999999999999998,
          0.9999999999999998,
          0.9999999999999998,
          0.9999999999999998,
          0.9999999999999998,
          0.9999999999999998,
          0.9999999999999998,
          0.9999999999999998,
          0.9999999999999998,
          0.9999999999999998,
          0.9999999999999998,
          0.9999999999999998,
          0.9999999999999998,
          0.9999999999999998,
          0.9999999999999998,
          0.9999999999999998,
          0.9999999999999998,
          0.9999999999999998,
          0.9999999999999998,
          0.9999999999999998,
          0.9999999999999998,
          0.9999999999999998,
          0.9999999999999998,
          0.9999999999999998,
          0.9999999999999998,
          0.9999999999999998,
          0.9999999999999998,
          0.9999999999999998,
          0.9999999999999998,
          0.9999999999999998,
          0.9999999999999998,
          0.9999999999999998,
          0.9999999999999998,
          0.9999999999999998,
          0.9999999999999998,
          0.9999999999999998,
          0.9999999999999998,
          0.9999999999999998,
          0.9999999999999998,
          0.9999999999999998,
          0.9999999999999998,
          0.9999999999999998,
          0.9999999999999998,
          0.9999999999999998,
          0.9999999999999998,
          0.9999999999999998,
          0.9999999999999998,
          0.9999999999999998,
          0.9999999999999998,
          0.9999999999999998,
          0.9999999999999998,
          0.9999999999999998,
          0.9999999999999998,
          0.9999999999999998,
          0.9999999999999998,
          0.9999999999999998,
          0.9999999999999998,
          0.9999999999999998,
          0.9999999999999998,
          0.9999999999999998,
          0.9999999999999998,
          0.9999999999999998,
          0.9999999999999998,
          0.9999999999999998,
          0.9999999999999998,
          0.9999999999999998,
          0.9999999999999998,
          0.9999999999999998,
          0.9999999999999998,
          0.9999999999999998,
          0.9999999999999998,
          0.9999999999999998,
          0.9999999999999998,
          0.9999999999999998,
          0.9999999999999998,
          0.9999999999999998,
          0.9999999999999998,
          0.9999999999999998,
          0.9999999999999998,
          0.9999999999999998,
          0.9999999999999998,
          0.9999999999999998,
          0.9999999999999998,
          0.9999999999999998,
          0.9999999999999998,
          0.9999999999999998,
          0.9999999999999998,
          0.9999999999999998,
          0.9999999999999998,
          0.9999999999999998,
          0.9999999999999998,
          0.9999999999999998,
          0.9999999999999998,
          0.9999999999999998,
          0.9999999999999998,
          0.9999999999999998,
          0.9999999999999998,
          0.9999999999999998,
          0.9999999999999998,
          0.9999999999999998,
          0.9999999999999998,
          0.9999999999999998,
          0.9999999999999998,
          0.9999999999999998,
          0.9999999999999998,
          0.9999999999999998,
          0.9999999999999998,
          0.9999999999999998,
          0.9999999999999998,
          0.9999999999999998,
          0.9999999999999998,
          0.9999999999999998,
          0.9999999999999998,
          0.9999999999999998,
          0.9999999999999998,
          0.9999999999999998,
          0.9999999999999998,
          0.9999999999999998,
          0.9999999999999998,
          0.9999999999999998,
          0.9999999999999998,
          0.9999999999999998,
          0.9999999999999998,
          0.9999999999999998,
          0.9999999999999998,
          0.9999999999999998,
          0.9999999999999998,
          0.9999999999999998,
          0.9999999999999998,
          0.9999999999999998,
          0.9999999999999998,
          0.9999999999999998
         ],
         "xbins": {
          "end": 2,
          "size": 0.01,
          "start": -1
         }
        }
       ],
       "layout": {
        "template": {
         "data": {
          "bar": [
           {
            "error_x": {
             "color": "#2a3f5f"
            },
            "error_y": {
             "color": "#2a3f5f"
            },
            "marker": {
             "line": {
              "color": "#E5ECF6",
              "width": 0.5
             }
            },
            "type": "bar"
           }
          ],
          "barpolar": [
           {
            "marker": {
             "line": {
              "color": "#E5ECF6",
              "width": 0.5
             }
            },
            "type": "barpolar"
           }
          ],
          "carpet": [
           {
            "aaxis": {
             "endlinecolor": "#2a3f5f",
             "gridcolor": "white",
             "linecolor": "white",
             "minorgridcolor": "white",
             "startlinecolor": "#2a3f5f"
            },
            "baxis": {
             "endlinecolor": "#2a3f5f",
             "gridcolor": "white",
             "linecolor": "white",
             "minorgridcolor": "white",
             "startlinecolor": "#2a3f5f"
            },
            "type": "carpet"
           }
          ],
          "choropleth": [
           {
            "colorbar": {
             "outlinewidth": 0,
             "ticks": ""
            },
            "type": "choropleth"
           }
          ],
          "contour": [
           {
            "colorbar": {
             "outlinewidth": 0,
             "ticks": ""
            },
            "colorscale": [
             [
              0,
              "#0d0887"
             ],
             [
              0.1111111111111111,
              "#46039f"
             ],
             [
              0.2222222222222222,
              "#7201a8"
             ],
             [
              0.3333333333333333,
              "#9c179e"
             ],
             [
              0.4444444444444444,
              "#bd3786"
             ],
             [
              0.5555555555555556,
              "#d8576b"
             ],
             [
              0.6666666666666666,
              "#ed7953"
             ],
             [
              0.7777777777777778,
              "#fb9f3a"
             ],
             [
              0.8888888888888888,
              "#fdca26"
             ],
             [
              1,
              "#f0f921"
             ]
            ],
            "type": "contour"
           }
          ],
          "contourcarpet": [
           {
            "colorbar": {
             "outlinewidth": 0,
             "ticks": ""
            },
            "type": "contourcarpet"
           }
          ],
          "heatmap": [
           {
            "colorbar": {
             "outlinewidth": 0,
             "ticks": ""
            },
            "colorscale": [
             [
              0,
              "#0d0887"
             ],
             [
              0.1111111111111111,
              "#46039f"
             ],
             [
              0.2222222222222222,
              "#7201a8"
             ],
             [
              0.3333333333333333,
              "#9c179e"
             ],
             [
              0.4444444444444444,
              "#bd3786"
             ],
             [
              0.5555555555555556,
              "#d8576b"
             ],
             [
              0.6666666666666666,
              "#ed7953"
             ],
             [
              0.7777777777777778,
              "#fb9f3a"
             ],
             [
              0.8888888888888888,
              "#fdca26"
             ],
             [
              1,
              "#f0f921"
             ]
            ],
            "type": "heatmap"
           }
          ],
          "heatmapgl": [
           {
            "colorbar": {
             "outlinewidth": 0,
             "ticks": ""
            },
            "colorscale": [
             [
              0,
              "#0d0887"
             ],
             [
              0.1111111111111111,
              "#46039f"
             ],
             [
              0.2222222222222222,
              "#7201a8"
             ],
             [
              0.3333333333333333,
              "#9c179e"
             ],
             [
              0.4444444444444444,
              "#bd3786"
             ],
             [
              0.5555555555555556,
              "#d8576b"
             ],
             [
              0.6666666666666666,
              "#ed7953"
             ],
             [
              0.7777777777777778,
              "#fb9f3a"
             ],
             [
              0.8888888888888888,
              "#fdca26"
             ],
             [
              1,
              "#f0f921"
             ]
            ],
            "type": "heatmapgl"
           }
          ],
          "histogram": [
           {
            "marker": {
             "colorbar": {
              "outlinewidth": 0,
              "ticks": ""
             }
            },
            "type": "histogram"
           }
          ],
          "histogram2d": [
           {
            "colorbar": {
             "outlinewidth": 0,
             "ticks": ""
            },
            "colorscale": [
             [
              0,
              "#0d0887"
             ],
             [
              0.1111111111111111,
              "#46039f"
             ],
             [
              0.2222222222222222,
              "#7201a8"
             ],
             [
              0.3333333333333333,
              "#9c179e"
             ],
             [
              0.4444444444444444,
              "#bd3786"
             ],
             [
              0.5555555555555556,
              "#d8576b"
             ],
             [
              0.6666666666666666,
              "#ed7953"
             ],
             [
              0.7777777777777778,
              "#fb9f3a"
             ],
             [
              0.8888888888888888,
              "#fdca26"
             ],
             [
              1,
              "#f0f921"
             ]
            ],
            "type": "histogram2d"
           }
          ],
          "histogram2dcontour": [
           {
            "colorbar": {
             "outlinewidth": 0,
             "ticks": ""
            },
            "colorscale": [
             [
              0,
              "#0d0887"
             ],
             [
              0.1111111111111111,
              "#46039f"
             ],
             [
              0.2222222222222222,
              "#7201a8"
             ],
             [
              0.3333333333333333,
              "#9c179e"
             ],
             [
              0.4444444444444444,
              "#bd3786"
             ],
             [
              0.5555555555555556,
              "#d8576b"
             ],
             [
              0.6666666666666666,
              "#ed7953"
             ],
             [
              0.7777777777777778,
              "#fb9f3a"
             ],
             [
              0.8888888888888888,
              "#fdca26"
             ],
             [
              1,
              "#f0f921"
             ]
            ],
            "type": "histogram2dcontour"
           }
          ],
          "mesh3d": [
           {
            "colorbar": {
             "outlinewidth": 0,
             "ticks": ""
            },
            "type": "mesh3d"
           }
          ],
          "parcoords": [
           {
            "line": {
             "colorbar": {
              "outlinewidth": 0,
              "ticks": ""
             }
            },
            "type": "parcoords"
           }
          ],
          "pie": [
           {
            "automargin": true,
            "type": "pie"
           }
          ],
          "scatter": [
           {
            "marker": {
             "colorbar": {
              "outlinewidth": 0,
              "ticks": ""
             }
            },
            "type": "scatter"
           }
          ],
          "scatter3d": [
           {
            "line": {
             "colorbar": {
              "outlinewidth": 0,
              "ticks": ""
             }
            },
            "marker": {
             "colorbar": {
              "outlinewidth": 0,
              "ticks": ""
             }
            },
            "type": "scatter3d"
           }
          ],
          "scattercarpet": [
           {
            "marker": {
             "colorbar": {
              "outlinewidth": 0,
              "ticks": ""
             }
            },
            "type": "scattercarpet"
           }
          ],
          "scattergeo": [
           {
            "marker": {
             "colorbar": {
              "outlinewidth": 0,
              "ticks": ""
             }
            },
            "type": "scattergeo"
           }
          ],
          "scattergl": [
           {
            "marker": {
             "colorbar": {
              "outlinewidth": 0,
              "ticks": ""
             }
            },
            "type": "scattergl"
           }
          ],
          "scattermapbox": [
           {
            "marker": {
             "colorbar": {
              "outlinewidth": 0,
              "ticks": ""
             }
            },
            "type": "scattermapbox"
           }
          ],
          "scatterpolar": [
           {
            "marker": {
             "colorbar": {
              "outlinewidth": 0,
              "ticks": ""
             }
            },
            "type": "scatterpolar"
           }
          ],
          "scatterpolargl": [
           {
            "marker": {
             "colorbar": {
              "outlinewidth": 0,
              "ticks": ""
             }
            },
            "type": "scatterpolargl"
           }
          ],
          "scatterternary": [
           {
            "marker": {
             "colorbar": {
              "outlinewidth": 0,
              "ticks": ""
             }
            },
            "type": "scatterternary"
           }
          ],
          "surface": [
           {
            "colorbar": {
             "outlinewidth": 0,
             "ticks": ""
            },
            "colorscale": [
             [
              0,
              "#0d0887"
             ],
             [
              0.1111111111111111,
              "#46039f"
             ],
             [
              0.2222222222222222,
              "#7201a8"
             ],
             [
              0.3333333333333333,
              "#9c179e"
             ],
             [
              0.4444444444444444,
              "#bd3786"
             ],
             [
              0.5555555555555556,
              "#d8576b"
             ],
             [
              0.6666666666666666,
              "#ed7953"
             ],
             [
              0.7777777777777778,
              "#fb9f3a"
             ],
             [
              0.8888888888888888,
              "#fdca26"
             ],
             [
              1,
              "#f0f921"
             ]
            ],
            "type": "surface"
           }
          ],
          "table": [
           {
            "cells": {
             "fill": {
              "color": "#EBF0F8"
             },
             "line": {
              "color": "white"
             }
            },
            "header": {
             "fill": {
              "color": "#C8D4E3"
             },
             "line": {
              "color": "white"
             }
            },
            "type": "table"
           }
          ]
         },
         "layout": {
          "annotationdefaults": {
           "arrowcolor": "#2a3f5f",
           "arrowhead": 0,
           "arrowwidth": 1
          },
          "coloraxis": {
           "colorbar": {
            "outlinewidth": 0,
            "ticks": ""
           }
          },
          "colorscale": {
           "diverging": [
            [
             0,
             "#8e0152"
            ],
            [
             0.1,
             "#c51b7d"
            ],
            [
             0.2,
             "#de77ae"
            ],
            [
             0.3,
             "#f1b6da"
            ],
            [
             0.4,
             "#fde0ef"
            ],
            [
             0.5,
             "#f7f7f7"
            ],
            [
             0.6,
             "#e6f5d0"
            ],
            [
             0.7,
             "#b8e186"
            ],
            [
             0.8,
             "#7fbc41"
            ],
            [
             0.9,
             "#4d9221"
            ],
            [
             1,
             "#276419"
            ]
           ],
           "sequential": [
            [
             0,
             "#0d0887"
            ],
            [
             0.1111111111111111,
             "#46039f"
            ],
            [
             0.2222222222222222,
             "#7201a8"
            ],
            [
             0.3333333333333333,
             "#9c179e"
            ],
            [
             0.4444444444444444,
             "#bd3786"
            ],
            [
             0.5555555555555556,
             "#d8576b"
            ],
            [
             0.6666666666666666,
             "#ed7953"
            ],
            [
             0.7777777777777778,
             "#fb9f3a"
            ],
            [
             0.8888888888888888,
             "#fdca26"
            ],
            [
             1,
             "#f0f921"
            ]
           ],
           "sequentialminus": [
            [
             0,
             "#0d0887"
            ],
            [
             0.1111111111111111,
             "#46039f"
            ],
            [
             0.2222222222222222,
             "#7201a8"
            ],
            [
             0.3333333333333333,
             "#9c179e"
            ],
            [
             0.4444444444444444,
             "#bd3786"
            ],
            [
             0.5555555555555556,
             "#d8576b"
            ],
            [
             0.6666666666666666,
             "#ed7953"
            ],
            [
             0.7777777777777778,
             "#fb9f3a"
            ],
            [
             0.8888888888888888,
             "#fdca26"
            ],
            [
             1,
             "#f0f921"
            ]
           ]
          },
          "colorway": [
           "#636efa",
           "#EF553B",
           "#00cc96",
           "#ab63fa",
           "#FFA15A",
           "#19d3f3",
           "#FF6692",
           "#B6E880",
           "#FF97FF",
           "#FECB52"
          ],
          "font": {
           "color": "#2a3f5f"
          },
          "geo": {
           "bgcolor": "white",
           "lakecolor": "white",
           "landcolor": "#E5ECF6",
           "showlakes": true,
           "showland": true,
           "subunitcolor": "white"
          },
          "hoverlabel": {
           "align": "left"
          },
          "hovermode": "closest",
          "mapbox": {
           "style": "light"
          },
          "paper_bgcolor": "white",
          "plot_bgcolor": "#E5ECF6",
          "polar": {
           "angularaxis": {
            "gridcolor": "white",
            "linecolor": "white",
            "ticks": ""
           },
           "bgcolor": "#E5ECF6",
           "radialaxis": {
            "gridcolor": "white",
            "linecolor": "white",
            "ticks": ""
           }
          },
          "scene": {
           "xaxis": {
            "backgroundcolor": "#E5ECF6",
            "gridcolor": "white",
            "gridwidth": 2,
            "linecolor": "white",
            "showbackground": true,
            "ticks": "",
            "zerolinecolor": "white"
           },
           "yaxis": {
            "backgroundcolor": "#E5ECF6",
            "gridcolor": "white",
            "gridwidth": 2,
            "linecolor": "white",
            "showbackground": true,
            "ticks": "",
            "zerolinecolor": "white"
           },
           "zaxis": {
            "backgroundcolor": "#E5ECF6",
            "gridcolor": "white",
            "gridwidth": 2,
            "linecolor": "white",
            "showbackground": true,
            "ticks": "",
            "zerolinecolor": "white"
           }
          },
          "shapedefaults": {
           "line": {
            "color": "#2a3f5f"
           }
          },
          "ternary": {
           "aaxis": {
            "gridcolor": "white",
            "linecolor": "white",
            "ticks": ""
           },
           "baxis": {
            "gridcolor": "white",
            "linecolor": "white",
            "ticks": ""
           },
           "bgcolor": "#E5ECF6",
           "caxis": {
            "gridcolor": "white",
            "linecolor": "white",
            "ticks": ""
           }
          },
          "title": {
           "x": 0.05
          },
          "xaxis": {
           "automargin": true,
           "gridcolor": "white",
           "linecolor": "white",
           "ticks": "",
           "title": {
            "standoff": 15
           },
           "zerolinecolor": "white",
           "zerolinewidth": 2
          },
          "yaxis": {
           "automargin": true,
           "gridcolor": "white",
           "linecolor": "white",
           "ticks": "",
           "title": {
            "standoff": 15
           },
           "zerolinecolor": "white",
           "zerolinewidth": 2
          }
         }
        },
        "xaxis": {
         "dtick": 0,
         "title": {
          "text": "value"
         }
        },
        "yaxis": {
         "title": {
          "text": "prob"
         }
        }
       }
      },
      "text/html": [
       "<div>\n",
       "        \n",
       "        \n",
       "            <div id=\"b5bd9124-9810-4f37-8ee0-a53cfaba2902\" class=\"plotly-graph-div\" style=\"height:525px; width:100%;\"></div>\n",
       "            <script type=\"text/javascript\">\n",
       "                require([\"plotly\"], function(Plotly) {\n",
       "                    window.PLOTLYENV=window.PLOTLYENV || {};\n",
       "                    \n",
       "                if (document.getElementById(\"b5bd9124-9810-4f37-8ee0-a53cfaba2902\")) {\n",
       "                    Plotly.newPlot(\n",
       "                        'b5bd9124-9810-4f37-8ee0-a53cfaba2902',\n",
       "                        [{\"histnorm\": \"probability\", \"type\": \"histogram\", \"x\": [0.9999999999999998, 0.9999999999999998, 0.9999999999999998, 0.9999999999999998, 0.9999999999999998, 0.9999999999999998, 0.9999999999999998, 0.9999999999999998, 0.9999999999999998, 0.9999999999999998, 0.9999999999999998, 0.9999999999999998, 0.9999999999999998, 0.9999999999999998, 0.9999999999999998, 0.9999999999999998, 0.9999999999999998, 0.9999999999999998, 0.9999999999999998, 0.9999999999999998, 0.9999999999999998, 0.9999999999999998, 0.9999999999999998, 0.9999999999999998, 0.9999999999999998, 0.9999999999999998, 0.9999999999999998, 0.9999999999999998, 0.9999999999999998, 0.9999999999999998, 0.9999999999999998, 0.9999999999999998, 0.9999999999999998, 0.9999999999999998, 0.9999999999999998, 0.9999999999999998, 0.9999999999999998, 0.9999999999999998, 0.9999999999999998, 0.9999999999999998, 0.9999999999999998, 0.9999999999999998, 0.9999999999999998, 0.9999999999999998, 0.9999999999999998, 0.9999999999999998, 0.9999999999999998, 0.9999999999999998, 0.9999999999999998, 0.9999999999999998, 0.9999999999999998, 0.9999999999999998, 0.9999999999999998, 0.9999999999999998, 0.9999999999999998, 0.9999999999999998, 0.9999999999999998, 0.9999999999999998, 0.9999999999999998, 0.9999999999999998, 0.9999999999999998, 0.9999999999999998, 0.9999999999999998, 0.9999999999999998, 0.9999999999999998, 0.9999999999999998, 0.9999999999999998, 0.9999999999999998, 0.9999999999999998, 0.9999999999999998, 0.9999999999999998, 0.9999999999999998, 0.9999999999999998, 0.9999999999999998, 0.9999999999999998, 0.9999999999999998, 0.9999999999999998, 0.9999999999999998, 0.9999999999999998, 0.9999999999999998, 0.9999999999999998, 0.9999999999999998, 0.9999999999999998, 0.9999999999999998, 0.9999999999999998, 0.9999999999999998, 0.9999999999999998, 0.9999999999999998, 0.9999999999999998, 0.9999999999999998, 0.9999999999999998, 0.9999999999999998, 0.9999999999999998, 0.9999999999999998, 0.9999999999999998, 0.9999999999999998, 0.9999999999999998, 0.9999999999999998, 0.9999999999999998, 0.9999999999999998, 0.9999999999999998, 0.9999999999999998, 0.9999999999999998, 0.9999999999999998, 0.9999999999999998, 0.9999999999999998, 0.9999999999999998, 0.9999999999999998, 0.9999999999999998, 0.9999999999999998, 0.9999999999999998, 0.9999999999999998, 0.9999999999999998, 0.9999999999999998, 0.9999999999999998, 0.9999999999999998, 0.9999999999999998, 0.9999999999999998, 0.9999999999999998, 0.9999999999999998, 0.9999999999999998, 0.9999999999999998, 0.9999999999999998, 0.9999999999999998, 0.9999999999999998, 0.9999999999999998, 0.9999999999999998, 0.9999999999999998, 0.9999999999999998, 0.9999999999999998, 0.9999999999999998, 0.9999999999999998, 0.9999999999999998, 0.9999999999999998, 0.9999999999999998, 0.9999999999999998, 0.9999999999999998, 0.9999999999999998, 0.9999999999999998, 0.9999999999999998, 0.9999999999999998, 0.9999999999999998, 0.9999999999999998, 0.9999999999999998, 0.9999999999999998, 0.9999999999999998, 0.9999999999999998, 0.9999999999999998, 0.9999999999999998, 0.9999999999999998, 0.9999999999999998, 0.9999999999999998, 0.9999999999999998, 0.9999999999999998, 0.9999999999999998, 0.9999999999999998, 0.9999999999999998, 0.9999999999999998, 0.9999999999999998, 0.9999999999999998, 0.9999999999999998, 0.9999999999999998, 0.9999999999999998, 0.9999999999999998, 0.9999999999999998, 0.9999999999999998, 0.9999999999999998, 0.9999999999999998, 0.9999999999999998, 0.9999999999999998, 0.9999999999999998, 0.9999999999999998, 0.9999999999999998, 0.9999999999999998, 0.9999999999999998, 0.9999999999999998, 0.9999999999999998, 0.9999999999999998, 0.9999999999999998, 0.9999999999999998, 0.9999999999999998, 0.9999999999999998, 0.9999999999999998, 0.9999999999999998, 0.9999999999999998, 0.9999999999999998, 0.9999999999999998, 0.9999999999999998, 0.9999999999999998, 0.9999999999999998, 0.9999999999999998, 0.9999999999999998, 0.9999999999999998, 0.9999999999999998, 0.9999999999999998, 0.9999999999999998, 0.9999999999999998, 0.9999999999999998, 0.9999999999999998, 0.9999999999999998, 0.9999999999999998, 0.9999999999999998, 0.9999999999999998, 0.9999999999999998, 0.9999999999999998, 0.9999999999999998, 0.9999999999999998, 0.9999999999999998, 0.9999999999999998, 0.9999999999999998, 0.9999999999999998, 0.9999999999999998, 0.9999999999999998, 0.9999999999999998, 0.9999999999999998, 0.9999999999999998, 0.9999999999999998, 0.9999999999999998, 0.9999999999999998, 0.9999999999999998, 0.9999999999999998, 0.9999999999999998, 0.9999999999999998, 0.9999999999999998, 0.9999999999999998, 0.9999999999999998, 0.9999999999999998, 0.9999999999999998, 0.9999999999999998, 0.9999999999999998, 0.9999999999999998, 0.9999999999999998, 0.9999999999999998, 0.9999999999999998, 0.9999999999999998, 0.9999999999999998, 0.9999999999999998, 0.9999999999999998, 0.9999999999999998, 0.9999999999999998, 0.9999999999999998, 0.9999999999999998, 0.9999999999999998, 0.9999999999999998, 0.9999999999999998, 0.9999999999999998, 0.9999999999999998, 0.9999999999999998, 0.9999999999999998, 0.9999999999999998, 0.9999999999999998, 0.9999999999999998, 0.9999999999999998, 0.9999999999999998, 0.9999999999999998, 0.9999999999999998, 0.9999999999999998, 0.9999999999999998, 0.9999999999999998, 0.9999999999999998, 0.9999999999999998, 0.9999999999999998, 0.9999999999999998, 0.9999999999999998, 0.9999999999999998, 0.9999999999999998, 0.9999999999999998, 0.9999999999999998, 0.9999999999999998, 0.9999999999999998, 0.9999999999999998, 0.9999999999999998, 0.9999999999999998, 0.9999999999999998, 0.9999999999999998, 0.9999999999999998, 0.9999999999999998, 0.9999999999999998, 0.9999999999999998, 0.9999999999999998, 0.9999999999999998, 0.9999999999999998, 0.9999999999999998, 0.9999999999999998, 0.9999999999999998, 0.9999999999999998, 0.9999999999999998, 0.9999999999999998, 0.9999999999999998, 0.9999999999999998, 0.9999999999999998, 0.9999999999999998, 0.9999999999999998, 0.9999999999999998, 0.9999999999999998, 0.9999999999999998, 0.9999999999999998, 0.9999999999999998, 0.9999999999999998, 0.9999999999999998, 0.9999999999999998, 0.9999999999999998, 0.9999999999999998, 0.9999999999999998, 0.9999999999999998, 0.9999999999999998, 0.9999999999999998, 0.9999999999999998, 0.9999999999999998, 0.9999999999999998, 0.9999999999999998, 0.9999999999999998, 0.9999999999999998, 0.9999999999999998, 0.9999999999999998, 0.9999999999999998, 0.9999999999999998, 0.9999999999999998, 0.9999999999999998, 0.9999999999999998, 0.9999999999999998, 0.9999999999999998, 0.9999999999999998, 0.9999999999999998, 0.9999999999999998, 0.9999999999999998, 0.9999999999999998, 0.9999999999999998, 0.9999999999999998, 0.9999999999999998, 0.9999999999999998, 0.9999999999999998, 0.9999999999999998, 0.9999999999999998, 0.9999999999999998, 0.9999999999999998, 0.9999999999999998, 0.9999999999999998, 0.9999999999999998, 0.9999999999999998, 0.9999999999999998, 0.9999999999999998, 0.9999999999999998, 0.9999999999999998, 0.9999999999999998, 0.9999999999999998, 0.9999999999999998, 0.9999999999999998, 0.9999999999999998, 0.9999999999999998, 0.9999999999999998, 0.9999999999999998, 0.9999999999999998, 0.9999999999999998, 0.9999999999999998, 0.9999999999999998, 0.9999999999999998, 0.9999999999999998, 0.9999999999999998, 0.9999999999999998, 0.9999999999999998, 0.9999999999999998, 0.9999999999999998, 0.9999999999999998, 0.9999999999999998, 0.9999999999999998, 0.9999999999999998, 0.9999999999999998, 0.9999999999999998, 0.9999999999999998, 0.9999999999999998, 0.9999999999999998, 0.9999999999999998, 0.9999999999999998, 0.9999999999999998, 0.9999999999999998, 0.9999999999999998, 0.9999999999999998, 0.9999999999999998, 0.9999999999999998, 0.9999999999999998, 0.9999999999999998, 0.9999999999999998, 0.9999999999999998, 0.9999999999999998, 0.9999999999999998, 0.9999999999999998, 0.9999999999999998, 0.9999999999999998, 0.9999999999999998, 0.9999999999999998, 0.9999999999999998, 0.9999999999999998, 0.9999999999999998, 0.9999999999999998, 0.9999999999999998, 0.9999999999999998, 0.9999999999999998, 0.9999999999999998, 0.9999999999999998, 0.9999999999999998, 0.9999999999999998, 0.9999999999999998, 0.9999999999999998, 0.9999999999999998, 0.9999999999999998, 0.9999999999999998, 0.9999999999999998, 0.9999999999999998, 0.9999999999999998, 0.9999999999999998, 0.9999999999999998, 0.9999999999999998, 0.9999999999999998, 0.9999999999999998, 0.9999999999999998, 0.9999999999999998, 0.9999999999999998, 0.9999999999999998, 0.9999999999999998, 0.9999999999999998, 0.9999999999999998, 0.9999999999999998, 0.9999999999999998, 0.9999999999999998, 0.9999999999999998, 0.9999999999999998, 0.9999999999999998, 0.9999999999999998, 0.9999999999999998, 0.9999999999999998, 0.9999999999999998, 0.9999999999999998, 0.9999999999999998, 0.9999999999999998, 0.9999999999999998, 0.9999999999999998, 0.9999999999999998, 0.9999999999999998, 0.9999999999999998, 0.9999999999999998, 0.9999999999999998, 0.9999999999999998, 0.9999999999999998, 0.9999999999999998, 0.9999999999999998, 0.9999999999999998, 0.9999999999999998, 0.9999999999999998, 0.9999999999999998, 0.9999999999999998, 0.9999999999999998, 0.9999999999999998, 0.9999999999999998, 0.9999999999999998, 0.9999999999999998, 0.9999999999999998, 0.9999999999999998, 0.9999999999999998, 0.9999999999999998, 0.9999999999999998, 0.9999999999999998, 0.9999999999999998, 0.9999999999999998, 0.9999999999999998, 0.9999999999999998, 0.9999999999999998, 0.9999999999999998, 0.9999999999999998, 0.9999999999999998, 0.9999999999999998, 0.9999999999999998, 0.9999999999999998, 0.9999999999999998, 0.9999999999999998, 0.9999999999999998, 0.9999999999999998, 0.9999999999999998, 0.9999999999999998, 0.9999999999999998, 0.9999999999999998, 0.9999999999999998, 0.9999999999999998, 0.9999999999999998, 0.9999999999999998, 0.9999999999999998, 0.9999999999999998, 0.9999999999999998, 0.9999999999999998, 0.9999999999999998, 0.9999999999999998, 0.9999999999999998, 0.9999999999999998, 0.9999999999999998, 0.9999999999999998, 0.9999999999999998, 0.9999999999999998, 0.9999999999999998, 0.9999999999999998, 0.9999999999999998, 0.9999999999999998, 0.9999999999999998, 0.9999999999999998, 0.9999999999999998, 0.9999999999999998, 0.9999999999999998, 0.9999999999999998, 0.9999999999999998, 0.9999999999999998, 0.9999999999999998, 0.9999999999999998, 0.9999999999999998, 0.9999999999999998, 0.9999999999999998, 0.9999999999999998, 0.9999999999999998, 0.9999999999999998, 0.9999999999999998, 0.9999999999999998, 0.9999999999999998, 0.9999999999999998, 0.9999999999999998, 0.9999999999999998, 0.9999999999999998, 0.9999999999999998, 0.9999999999999998, 0.9999999999999998, 0.9999999999999998, 0.9999999999999998, 0.9999999999999998, 0.9999999999999998, 0.9999999999999998, 0.9999999999999998, 0.9999999999999998, 0.9999999999999998, 0.9999999999999998, 0.9999999999999998, 0.9999999999999998, 0.9999999999999998, 0.9999999999999998, 0.9999999999999998, 0.9999999999999998, 0.9999999999999998, 0.9999999999999998, 0.9999999999999998, 0.9999999999999998, 0.9999999999999998, 0.9999999999999998, 0.9999999999999998, 0.9999999999999998, 0.9999999999999998, 0.9999999999999998, 0.9999999999999998, 0.9999999999999998, 0.9999999999999998, 0.9999999999999998, 0.9999999999999998, 0.9999999999999998, 0.9999999999999998, 0.9999999999999998, 0.9999999999999998, 0.9999999999999998, 0.9999999999999998, 0.9999999999999998, 0.9999999999999998, 0.9999999999999998, 0.9999999999999998, 0.9999999999999998, 0.9999999999999998, 0.9999999999999998, 0.9999999999999998, 0.9999999999999998, 0.9999999999999998, 0.9999999999999998, 0.9999999999999998, 0.9999999999999998, 0.9999999999999998, 0.9999999999999998, 0.9999999999999998, 0.9999999999999998, 0.9999999999999998, 0.9999999999999998, 0.9999999999999998, 0.9999999999999998, 0.9999999999999998, 0.9999999999999998, 0.9999999999999998, 0.9999999999999998, 0.9999999999999998, 0.9999999999999998, 0.9999999999999998, 0.9999999999999998, 0.9999999999999998, 0.9999999999999998, 0.9999999999999998, 0.9999999999999998, 0.9999999999999998, 0.9999999999999998, 0.9999999999999998, 0.9999999999999998, 0.9999999999999998, 0.9999999999999998, 0.9999999999999998, 0.9999999999999998, 0.9999999999999998, 0.9999999999999998, 0.9999999999999998, 0.9999999999999998, 0.9999999999999998, 0.9999999999999998, 0.9999999999999998, 0.9999999999999998, 0.9999999999999998, 0.9999999999999998, 0.9999999999999998, 0.9999999999999998, 0.9999999999999998, 0.9999999999999998, 0.9999999999999998, 0.9999999999999998, 0.9999999999999998, 0.9999999999999998, 0.9999999999999998, 0.9999999999999998, 0.9999999999999998, 0.9999999999999998, 0.9999999999999998, 0.9999999999999998, 0.9999999999999998, 0.9999999999999998, 0.9999999999999998, 0.9999999999999998, 0.9999999999999998, 0.9999999999999998, 0.9999999999999998, 0.9999999999999998, 0.9999999999999998, 0.9999999999999998, 0.9999999999999998, 0.9999999999999998, 0.9999999999999998, 0.9999999999999998, 0.9999999999999998, 0.9999999999999998, 0.9999999999999998, 0.9999999999999998, 0.9999999999999998, 0.9999999999999998, 0.9999999999999998, 0.9999999999999998, 0.9999999999999998, 0.9999999999999998, 0.9999999999999998, 0.9999999999999998, 0.9999999999999998, 0.9999999999999998, 0.9999999999999998, 0.9999999999999998, 0.9999999999999998, 0.9999999999999998, 0.9999999999999998, 0.9999999999999998, 0.9999999999999998, 0.9999999999999998, 0.9999999999999998, 0.9999999999999998, 0.9999999999999998, 0.9999999999999998, 0.9999999999999998, 0.9999999999999998, 0.9999999999999998, 0.9999999999999998, 0.9999999999999998, 0.9999999999999998, 0.9999999999999998, 0.9999999999999998, 0.9999999999999998, 0.9999999999999998, 0.9999999999999998, 0.9999999999999998, 0.9999999999999998, 0.9999999999999998, 0.9999999999999998, 0.9999999999999998, 0.9999999999999998, 0.9999999999999998, 0.9999999999999998, 0.9999999999999998, 0.9999999999999998, 0.9999999999999998, 0.9999999999999998, 0.9999999999999998, 0.9999999999999998, 0.9999999999999998, 0.9999999999999998, 0.9999999999999998, 0.9999999999999998, 0.9999999999999998, 0.9999999999999998, 0.9999999999999998, 0.9999999999999998, 0.9999999999999998, 0.9999999999999998, 0.9999999999999998, 0.9999999999999998, 0.9999999999999998, 0.9999999999999998, 0.9999999999999998, 0.9999999999999998, 0.9999999999999998, 0.9999999999999998, 0.9999999999999998, 0.9999999999999998, 0.9999999999999998, 0.9999999999999998, 0.9999999999999998, 0.9999999999999998, 0.9999999999999998, 0.9999999999999998, 0.9999999999999998, 0.9999999999999998, 0.9999999999999998, 0.9999999999999998, 0.9999999999999998, 0.9999999999999998, 0.9999999999999998, 0.9999999999999998, 0.9999999999999998, 0.9999999999999998, 0.9999999999999998, 0.9999999999999998, 0.9999999999999998, 0.9999999999999998, 0.9999999999999998, 0.9999999999999998, 0.9999999999999998, 0.9999999999999998, 0.9999999999999998, 0.9999999999999998, 0.9999999999999998, 0.9999999999999998, 0.9999999999999998, 0.9999999999999998, 0.9999999999999998, 0.9999999999999998, 0.9999999999999998, 0.9999999999999998, 0.9999999999999998, 0.9999999999999998, 0.9999999999999998, 0.9999999999999998, 0.9999999999999998, 0.9999999999999998, 0.9999999999999998, 0.9999999999999998, 0.9999999999999998, 0.9999999999999998, 0.9999999999999998, 0.9999999999999998, 0.9999999999999998, 0.9999999999999998, 0.9999999999999998, 0.9999999999999998, 0.9999999999999998, 0.9999999999999998, 0.9999999999999998, 0.9999999999999998, 0.9999999999999998, 0.9999999999999998, 0.9999999999999998, 0.9999999999999998, 0.9999999999999998, 0.9999999999999998, 0.9999999999999998, 0.9999999999999998, 0.9999999999999998, 0.9999999999999998, 0.9999999999999998, 0.9999999999999998, 0.9999999999999998, 0.9999999999999998, 0.9999999999999998, 0.9999999999999998, 0.9999999999999998, 0.9999999999999998, 0.9999999999999998, 0.9999999999999998, 0.9999999999999998, 0.9999999999999998, 0.9999999999999998, 0.9999999999999998, 0.9999999999999998, 0.9999999999999998, 0.9999999999999998, 0.9999999999999998, 0.9999999999999998, 0.9999999999999998, 0.9999999999999998, 0.9999999999999998, 0.9999999999999998, 0.9999999999999998, 0.9999999999999998, 0.9999999999999998, 0.9999999999999998, 0.9999999999999998, 0.9999999999999998, 0.9999999999999998, 0.9999999999999998, 0.9999999999999998, 0.9999999999999998, 0.9999999999999998, 0.9999999999999998, 0.9999999999999998, 0.9999999999999998, 0.9999999999999998, 0.9999999999999998, 0.9999999999999998, 0.9999999999999998, 0.9999999999999998, 0.9999999999999998, 0.9999999999999998, 0.9999999999999998, 0.9999999999999998, 0.9999999999999998, 0.9999999999999998, 0.9999999999999998, 0.9999999999999998, 0.9999999999999998, 0.9999999999999998, 0.9999999999999998, 0.9999999999999998, 0.9999999999999998, 0.9999999999999998, 0.9999999999999998, 0.9999999999999998, 0.9999999999999998, 0.9999999999999998, 0.9999999999999998, 0.9999999999999998, 0.9999999999999998, 0.9999999999999998, 0.9999999999999998, 0.9999999999999998, 0.9999999999999998, 0.9999999999999998, 0.9999999999999998, 0.9999999999999998, 0.9999999999999998, 0.9999999999999998, 0.9999999999999998, 0.9999999999999998, 0.9999999999999998, 0.9999999999999998, 0.9999999999999998, 0.9999999999999998, 0.9999999999999998, 0.9999999999999998, 0.9999999999999998, 0.9999999999999998, 0.9999999999999998, 0.9999999999999998, 0.9999999999999998, 0.9999999999999998, 0.9999999999999998, 0.9999999999999998, 0.9999999999999998, 0.9999999999999998, 0.9999999999999998, 0.9999999999999998, 0.9999999999999998, 0.9999999999999998, 0.9999999999999998, 0.9999999999999998, 0.9999999999999998, 0.9999999999999998, 0.9999999999999998, 0.9999999999999998, 0.9999999999999998, 0.9999999999999998, 0.9999999999999998, 0.9999999999999998, 0.9999999999999998, 0.9999999999999998, 0.9999999999999998, 0.9999999999999998, 0.9999999999999998, 0.9999999999999998, 0.9999999999999998, 0.9999999999999998, 0.9999999999999998, 0.9999999999999998, 0.9999999999999998, 0.9999999999999998, 0.9999999999999998, 0.9999999999999998, 0.9999999999999998, 0.9999999999999998, 0.9999999999999998, 0.9999999999999998, 0.9999999999999998, 0.9999999999999998, 0.9999999999999998, 0.9999999999999998, 0.9999999999999998, 0.9999999999999998, 0.9999999999999998, 0.9999999999999998, 0.9999999999999998, 0.9999999999999998, 0.9999999999999998, 0.9999999999999998, 0.9999999999999998, 0.9999999999999998, 0.9999999999999998, 0.9999999999999998, 0.9999999999999998, 0.9999999999999998, 0.9999999999999998, 0.9999999999999998, 0.9999999999999998, 0.9999999999999998, 0.9999999999999998, 0.9999999999999998, 0.9999999999999998, 0.9999999999999998, 0.9999999999999998, 0.9999999999999998, 0.9999999999999998, 0.9999999999999998, 0.9999999999999998, 0.9999999999999998, 0.9999999999999998, 0.9999999999999998, 0.9999999999999998, 0.9999999999999998, 0.9999999999999998, 0.9999999999999998, 0.9999999999999998, 0.9999999999999998, 0.9999999999999998, 0.9999999999999998, 0.9999999999999998, 0.9999999999999998, 0.9999999999999998, 0.9999999999999998, 0.9999999999999998, 0.9999999999999998, 0.9999999999999998, 0.9999999999999998, 0.9999999999999998, 0.9999999999999998, 0.9999999999999998, 0.9999999999999998, 0.9999999999999998, 0.9999999999999998, 0.9999999999999998, 0.9999999999999998, 0.9999999999999998, 0.9999999999999998, 0.9999999999999998, 0.9999999999999998, 0.9999999999999998, 0.9999999999999998, 0.9999999999999998, 0.9999999999999998, 0.9999999999999998, 0.9999999999999998, 0.9999999999999998, 0.9999999999999998, 0.9999999999999998, 0.9999999999999998, 0.9999999999999998, 0.9999999999999998, 0.9999999999999998, 0.9999999999999998, 0.9999999999999998, 0.9999999999999998, 0.9999999999999998, 0.9999999999999998, 0.9999999999999998, 0.9999999999999998, 0.9999999999999998, 0.9999999999999998, 0.9999999999999998, 0.9999999999999998, 0.9999999999999998, 0.9999999999999998, 0.9999999999999998, 0.9999999999999998, 0.9999999999999998, 0.9999999999999998, 0.9999999999999998, 0.9999999999999998, 0.9999999999999998, 0.9999999999999998, 0.9999999999999998, 0.9999999999999998, 0.9999999999999998, 0.9999999999999998, 0.9999999999999998], \"xbins\": {\"end\": 2, \"size\": 0.01, \"start\": -1}}],\n",
       "                        {\"template\": {\"data\": {\"bar\": [{\"error_x\": {\"color\": \"#2a3f5f\"}, \"error_y\": {\"color\": \"#2a3f5f\"}, \"marker\": {\"line\": {\"color\": \"#E5ECF6\", \"width\": 0.5}}, \"type\": \"bar\"}], \"barpolar\": [{\"marker\": {\"line\": {\"color\": \"#E5ECF6\", \"width\": 0.5}}, \"type\": \"barpolar\"}], \"carpet\": [{\"aaxis\": {\"endlinecolor\": \"#2a3f5f\", \"gridcolor\": \"white\", \"linecolor\": \"white\", \"minorgridcolor\": \"white\", \"startlinecolor\": \"#2a3f5f\"}, \"baxis\": {\"endlinecolor\": \"#2a3f5f\", \"gridcolor\": \"white\", \"linecolor\": \"white\", \"minorgridcolor\": \"white\", \"startlinecolor\": \"#2a3f5f\"}, \"type\": \"carpet\"}], \"choropleth\": [{\"colorbar\": {\"outlinewidth\": 0, \"ticks\": \"\"}, \"type\": \"choropleth\"}], \"contour\": [{\"colorbar\": {\"outlinewidth\": 0, \"ticks\": \"\"}, \"colorscale\": [[0.0, \"#0d0887\"], [0.1111111111111111, \"#46039f\"], [0.2222222222222222, \"#7201a8\"], [0.3333333333333333, \"#9c179e\"], [0.4444444444444444, \"#bd3786\"], [0.5555555555555556, \"#d8576b\"], [0.6666666666666666, \"#ed7953\"], [0.7777777777777778, \"#fb9f3a\"], [0.8888888888888888, \"#fdca26\"], [1.0, \"#f0f921\"]], \"type\": \"contour\"}], \"contourcarpet\": [{\"colorbar\": {\"outlinewidth\": 0, \"ticks\": \"\"}, \"type\": \"contourcarpet\"}], \"heatmap\": [{\"colorbar\": {\"outlinewidth\": 0, \"ticks\": \"\"}, \"colorscale\": [[0.0, \"#0d0887\"], [0.1111111111111111, \"#46039f\"], [0.2222222222222222, \"#7201a8\"], [0.3333333333333333, \"#9c179e\"], [0.4444444444444444, \"#bd3786\"], [0.5555555555555556, \"#d8576b\"], [0.6666666666666666, \"#ed7953\"], [0.7777777777777778, \"#fb9f3a\"], [0.8888888888888888, \"#fdca26\"], [1.0, \"#f0f921\"]], \"type\": \"heatmap\"}], \"heatmapgl\": [{\"colorbar\": {\"outlinewidth\": 0, \"ticks\": \"\"}, \"colorscale\": [[0.0, \"#0d0887\"], [0.1111111111111111, \"#46039f\"], [0.2222222222222222, \"#7201a8\"], [0.3333333333333333, \"#9c179e\"], [0.4444444444444444, \"#bd3786\"], [0.5555555555555556, \"#d8576b\"], [0.6666666666666666, \"#ed7953\"], [0.7777777777777778, \"#fb9f3a\"], [0.8888888888888888, \"#fdca26\"], [1.0, \"#f0f921\"]], \"type\": \"heatmapgl\"}], \"histogram\": [{\"marker\": {\"colorbar\": {\"outlinewidth\": 0, \"ticks\": \"\"}}, \"type\": \"histogram\"}], \"histogram2d\": [{\"colorbar\": {\"outlinewidth\": 0, \"ticks\": \"\"}, \"colorscale\": [[0.0, \"#0d0887\"], [0.1111111111111111, \"#46039f\"], [0.2222222222222222, \"#7201a8\"], [0.3333333333333333, \"#9c179e\"], [0.4444444444444444, \"#bd3786\"], [0.5555555555555556, \"#d8576b\"], [0.6666666666666666, \"#ed7953\"], [0.7777777777777778, \"#fb9f3a\"], [0.8888888888888888, \"#fdca26\"], [1.0, \"#f0f921\"]], \"type\": \"histogram2d\"}], \"histogram2dcontour\": [{\"colorbar\": {\"outlinewidth\": 0, \"ticks\": \"\"}, \"colorscale\": [[0.0, \"#0d0887\"], [0.1111111111111111, \"#46039f\"], [0.2222222222222222, \"#7201a8\"], [0.3333333333333333, \"#9c179e\"], [0.4444444444444444, \"#bd3786\"], [0.5555555555555556, \"#d8576b\"], [0.6666666666666666, \"#ed7953\"], [0.7777777777777778, \"#fb9f3a\"], [0.8888888888888888, \"#fdca26\"], [1.0, \"#f0f921\"]], \"type\": \"histogram2dcontour\"}], \"mesh3d\": [{\"colorbar\": {\"outlinewidth\": 0, \"ticks\": \"\"}, \"type\": \"mesh3d\"}], \"parcoords\": [{\"line\": {\"colorbar\": {\"outlinewidth\": 0, \"ticks\": \"\"}}, \"type\": \"parcoords\"}], \"pie\": [{\"automargin\": true, \"type\": \"pie\"}], \"scatter\": [{\"marker\": {\"colorbar\": {\"outlinewidth\": 0, \"ticks\": \"\"}}, \"type\": \"scatter\"}], \"scatter3d\": [{\"line\": {\"colorbar\": {\"outlinewidth\": 0, \"ticks\": \"\"}}, \"marker\": {\"colorbar\": {\"outlinewidth\": 0, \"ticks\": \"\"}}, \"type\": \"scatter3d\"}], \"scattercarpet\": [{\"marker\": {\"colorbar\": {\"outlinewidth\": 0, \"ticks\": \"\"}}, \"type\": \"scattercarpet\"}], \"scattergeo\": [{\"marker\": {\"colorbar\": {\"outlinewidth\": 0, \"ticks\": \"\"}}, \"type\": \"scattergeo\"}], \"scattergl\": [{\"marker\": {\"colorbar\": {\"outlinewidth\": 0, \"ticks\": \"\"}}, \"type\": \"scattergl\"}], \"scattermapbox\": [{\"marker\": {\"colorbar\": {\"outlinewidth\": 0, \"ticks\": \"\"}}, \"type\": \"scattermapbox\"}], \"scatterpolar\": [{\"marker\": {\"colorbar\": {\"outlinewidth\": 0, \"ticks\": \"\"}}, \"type\": \"scatterpolar\"}], \"scatterpolargl\": [{\"marker\": {\"colorbar\": {\"outlinewidth\": 0, \"ticks\": \"\"}}, \"type\": \"scatterpolargl\"}], \"scatterternary\": [{\"marker\": {\"colorbar\": {\"outlinewidth\": 0, \"ticks\": \"\"}}, \"type\": \"scatterternary\"}], \"surface\": [{\"colorbar\": {\"outlinewidth\": 0, \"ticks\": \"\"}, \"colorscale\": [[0.0, \"#0d0887\"], [0.1111111111111111, \"#46039f\"], [0.2222222222222222, \"#7201a8\"], [0.3333333333333333, \"#9c179e\"], [0.4444444444444444, \"#bd3786\"], [0.5555555555555556, \"#d8576b\"], [0.6666666666666666, \"#ed7953\"], [0.7777777777777778, \"#fb9f3a\"], [0.8888888888888888, \"#fdca26\"], [1.0, \"#f0f921\"]], \"type\": \"surface\"}], \"table\": [{\"cells\": {\"fill\": {\"color\": \"#EBF0F8\"}, \"line\": {\"color\": \"white\"}}, \"header\": {\"fill\": {\"color\": \"#C8D4E3\"}, \"line\": {\"color\": \"white\"}}, \"type\": \"table\"}]}, \"layout\": {\"annotationdefaults\": {\"arrowcolor\": \"#2a3f5f\", \"arrowhead\": 0, \"arrowwidth\": 1}, \"coloraxis\": {\"colorbar\": {\"outlinewidth\": 0, \"ticks\": \"\"}}, \"colorscale\": {\"diverging\": [[0, \"#8e0152\"], [0.1, \"#c51b7d\"], [0.2, \"#de77ae\"], [0.3, \"#f1b6da\"], [0.4, \"#fde0ef\"], [0.5, \"#f7f7f7\"], [0.6, \"#e6f5d0\"], [0.7, \"#b8e186\"], [0.8, \"#7fbc41\"], [0.9, \"#4d9221\"], [1, \"#276419\"]], \"sequential\": [[0.0, \"#0d0887\"], [0.1111111111111111, \"#46039f\"], [0.2222222222222222, \"#7201a8\"], [0.3333333333333333, \"#9c179e\"], [0.4444444444444444, \"#bd3786\"], [0.5555555555555556, \"#d8576b\"], [0.6666666666666666, \"#ed7953\"], [0.7777777777777778, \"#fb9f3a\"], [0.8888888888888888, \"#fdca26\"], [1.0, \"#f0f921\"]], \"sequentialminus\": [[0.0, \"#0d0887\"], [0.1111111111111111, \"#46039f\"], [0.2222222222222222, \"#7201a8\"], [0.3333333333333333, \"#9c179e\"], [0.4444444444444444, \"#bd3786\"], [0.5555555555555556, \"#d8576b\"], [0.6666666666666666, \"#ed7953\"], [0.7777777777777778, \"#fb9f3a\"], [0.8888888888888888, \"#fdca26\"], [1.0, \"#f0f921\"]]}, \"colorway\": [\"#636efa\", \"#EF553B\", \"#00cc96\", \"#ab63fa\", \"#FFA15A\", \"#19d3f3\", \"#FF6692\", \"#B6E880\", \"#FF97FF\", \"#FECB52\"], \"font\": {\"color\": \"#2a3f5f\"}, \"geo\": {\"bgcolor\": \"white\", \"lakecolor\": \"white\", \"landcolor\": \"#E5ECF6\", \"showlakes\": true, \"showland\": true, \"subunitcolor\": \"white\"}, \"hoverlabel\": {\"align\": \"left\"}, \"hovermode\": \"closest\", \"mapbox\": {\"style\": \"light\"}, \"paper_bgcolor\": \"white\", \"plot_bgcolor\": \"#E5ECF6\", \"polar\": {\"angularaxis\": {\"gridcolor\": \"white\", \"linecolor\": \"white\", \"ticks\": \"\"}, \"bgcolor\": \"#E5ECF6\", \"radialaxis\": {\"gridcolor\": \"white\", \"linecolor\": \"white\", \"ticks\": \"\"}}, \"scene\": {\"xaxis\": {\"backgroundcolor\": \"#E5ECF6\", \"gridcolor\": \"white\", \"gridwidth\": 2, \"linecolor\": \"white\", \"showbackground\": true, \"ticks\": \"\", \"zerolinecolor\": \"white\"}, \"yaxis\": {\"backgroundcolor\": \"#E5ECF6\", \"gridcolor\": \"white\", \"gridwidth\": 2, \"linecolor\": \"white\", \"showbackground\": true, \"ticks\": \"\", \"zerolinecolor\": \"white\"}, \"zaxis\": {\"backgroundcolor\": \"#E5ECF6\", \"gridcolor\": \"white\", \"gridwidth\": 2, \"linecolor\": \"white\", \"showbackground\": true, \"ticks\": \"\", \"zerolinecolor\": \"white\"}}, \"shapedefaults\": {\"line\": {\"color\": \"#2a3f5f\"}}, \"ternary\": {\"aaxis\": {\"gridcolor\": \"white\", \"linecolor\": \"white\", \"ticks\": \"\"}, \"baxis\": {\"gridcolor\": \"white\", \"linecolor\": \"white\", \"ticks\": \"\"}, \"bgcolor\": \"#E5ECF6\", \"caxis\": {\"gridcolor\": \"white\", \"linecolor\": \"white\", \"ticks\": \"\"}}, \"title\": {\"x\": 0.05}, \"xaxis\": {\"automargin\": true, \"gridcolor\": \"white\", \"linecolor\": \"white\", \"ticks\": \"\", \"title\": {\"standoff\": 15}, \"zerolinecolor\": \"white\", \"zerolinewidth\": 2}, \"yaxis\": {\"automargin\": true, \"gridcolor\": \"white\", \"linecolor\": \"white\", \"ticks\": \"\", \"title\": {\"standoff\": 15}, \"zerolinecolor\": \"white\", \"zerolinewidth\": 2}}}, \"xaxis\": {\"dtick\": 0, \"title\": {\"text\": \"value\"}}, \"yaxis\": {\"title\": {\"text\": \"prob\"}}},\n",
       "                        {\"responsive\": true}\n",
       "                    ).then(function(){\n",
       "                            \n",
       "var gd = document.getElementById('b5bd9124-9810-4f37-8ee0-a53cfaba2902');\n",
       "var x = new MutationObserver(function (mutations, observer) {{\n",
       "        var display = window.getComputedStyle(gd).display;\n",
       "        if (!display || display === 'none') {{\n",
       "            console.log([gd, 'removed!']);\n",
       "            Plotly.purge(gd);\n",
       "            observer.disconnect();\n",
       "        }}\n",
       "}});\n",
       "\n",
       "// Listen for the removal of the full notebook cells\n",
       "var notebookContainer = gd.closest('#notebook-container');\n",
       "if (notebookContainer) {{\n",
       "    x.observe(notebookContainer, {childList: true});\n",
       "}}\n",
       "\n",
       "// Listen for the clearing of the current output cell\n",
       "var outputEl = gd.closest('.output');\n",
       "if (outputEl) {{\n",
       "    x.observe(outputEl, {childList: true});\n",
       "}}\n",
       "\n",
       "                        })\n",
       "                };\n",
       "                });\n",
       "            </script>\n",
       "        </div>"
      ]
     },
     "metadata": {},
     "output_type": "display_data"
    }
   ],
   "source": [
    "data_analyzer.make_prob_dist_histogram(value_list, x_range=(-1, 2), bin_size=0.01)"
   ]
  },
  {
   "cell_type": "code",
   "execution_count": 9,
   "metadata": {},
   "outputs": [
    {
     "data": {
      "application/vnd.plotly.v1+json": {
       "config": {
        "plotlyServerURL": "https://plot.ly"
       },
       "data": [
        {
         "histnorm": "probability",
         "type": "histogram",
         "x": [
          -0.5470527968245765,
          -1.6795857976823931,
          -0.8619312959159356,
          0.23762633886661444,
          0.4026529012065647,
          0.20294264752421698,
          -0.6118613697446027,
          -0.26624133685377,
          -1.4606112384082557,
          0.7787151313215267,
          -1.784573393592921,
          -0.43613450140100607,
          -1.3992538390211575,
          -0.6013045182054484,
          1.0083341078447194,
          -0.6027490450796062,
          -0.7826468343299893,
          -2.3058296456687066,
          0.032825855432172917,
          -1.3719927700112469,
          -1.1711600269353415,
          1.4438649977585498,
          1.4355416525745028,
          2.2737846433514104,
          0.5103935400376834,
          0.14563887287163638,
          -0.1687670891881957,
          1.5442596488090858,
          0.8673654566727091,
          -0.18011809124258227,
          -0.29257499934216535,
          1.2908499085734677,
          1.6731521618309106,
          -0.09713524390164158,
          -0.5051959101985881,
          -0.2679721668795938,
          0.06151112536791584,
          -0.8997290839117165,
          0.7186511146934468,
          2.283109802379101,
          0.667307637275443,
          0.3047036027322991,
          0.5865843896863953,
          1.0106902057416698,
          0.15097041605970069,
          0.4174265568130949,
          0.2664801512756335,
          -0.8264064169090367,
          1.0483768510389813,
          -1.4606669797777594,
          -1.984013847634543,
          -0.49205845385734714,
          0.12491227565871564,
          0.2045778846607323,
          -0.9875367581535723,
          -0.4124359011010112,
          0.7347039502563742,
          -0.9755342763302688,
          -1.320474304559364,
          -0.3529589373522824,
          1.568840494382256,
          -0.208430299837388,
          1.1292274119408519,
          0.03420477323103035,
          -2.351712566432536,
          -0.15051973002022886,
          -2.6357163879080416,
          0.18439420464256967,
          -1.9618630646288233,
          1.4005057496025122,
          0.3720933933825466,
          0.426768907025464,
          1.793533724431599,
          0.14873734024919966,
          0.5505346830945768,
          1.271209566371793,
          -0.5874799023137919,
          0.026828241385521086,
          1.2223510806942681,
          -0.44717840747598164,
          1.368645020189858,
          -0.44645299495745294,
          -1.0637121396399836,
          0.4342250813240455,
          -1.2105402177757862,
          0.6656168289554532,
          -0.06742680220074779,
          -0.9140595138168424,
          0.6013208143338303,
          0.31625209204096455,
          -0.09512857640979663,
          -1.2382887398707827,
          -0.2423897420109663,
          -1.1457098468821998,
          1.720759316398632,
          1.718997521254915,
          -2.7061247980723793,
          -0.6475694850192941,
          -1.0246440067627107,
          0.4886032822100937
         ],
         "xbins": {
          "end": 2,
          "size": 0.5,
          "start": -2
         }
        }
       ],
       "layout": {
        "template": {
         "data": {
          "bar": [
           {
            "error_x": {
             "color": "#2a3f5f"
            },
            "error_y": {
             "color": "#2a3f5f"
            },
            "marker": {
             "line": {
              "color": "#E5ECF6",
              "width": 0.5
             }
            },
            "type": "bar"
           }
          ],
          "barpolar": [
           {
            "marker": {
             "line": {
              "color": "#E5ECF6",
              "width": 0.5
             }
            },
            "type": "barpolar"
           }
          ],
          "carpet": [
           {
            "aaxis": {
             "endlinecolor": "#2a3f5f",
             "gridcolor": "white",
             "linecolor": "white",
             "minorgridcolor": "white",
             "startlinecolor": "#2a3f5f"
            },
            "baxis": {
             "endlinecolor": "#2a3f5f",
             "gridcolor": "white",
             "linecolor": "white",
             "minorgridcolor": "white",
             "startlinecolor": "#2a3f5f"
            },
            "type": "carpet"
           }
          ],
          "choropleth": [
           {
            "colorbar": {
             "outlinewidth": 0,
             "ticks": ""
            },
            "type": "choropleth"
           }
          ],
          "contour": [
           {
            "colorbar": {
             "outlinewidth": 0,
             "ticks": ""
            },
            "colorscale": [
             [
              0,
              "#0d0887"
             ],
             [
              0.1111111111111111,
              "#46039f"
             ],
             [
              0.2222222222222222,
              "#7201a8"
             ],
             [
              0.3333333333333333,
              "#9c179e"
             ],
             [
              0.4444444444444444,
              "#bd3786"
             ],
             [
              0.5555555555555556,
              "#d8576b"
             ],
             [
              0.6666666666666666,
              "#ed7953"
             ],
             [
              0.7777777777777778,
              "#fb9f3a"
             ],
             [
              0.8888888888888888,
              "#fdca26"
             ],
             [
              1,
              "#f0f921"
             ]
            ],
            "type": "contour"
           }
          ],
          "contourcarpet": [
           {
            "colorbar": {
             "outlinewidth": 0,
             "ticks": ""
            },
            "type": "contourcarpet"
           }
          ],
          "heatmap": [
           {
            "colorbar": {
             "outlinewidth": 0,
             "ticks": ""
            },
            "colorscale": [
             [
              0,
              "#0d0887"
             ],
             [
              0.1111111111111111,
              "#46039f"
             ],
             [
              0.2222222222222222,
              "#7201a8"
             ],
             [
              0.3333333333333333,
              "#9c179e"
             ],
             [
              0.4444444444444444,
              "#bd3786"
             ],
             [
              0.5555555555555556,
              "#d8576b"
             ],
             [
              0.6666666666666666,
              "#ed7953"
             ],
             [
              0.7777777777777778,
              "#fb9f3a"
             ],
             [
              0.8888888888888888,
              "#fdca26"
             ],
             [
              1,
              "#f0f921"
             ]
            ],
            "type": "heatmap"
           }
          ],
          "heatmapgl": [
           {
            "colorbar": {
             "outlinewidth": 0,
             "ticks": ""
            },
            "colorscale": [
             [
              0,
              "#0d0887"
             ],
             [
              0.1111111111111111,
              "#46039f"
             ],
             [
              0.2222222222222222,
              "#7201a8"
             ],
             [
              0.3333333333333333,
              "#9c179e"
             ],
             [
              0.4444444444444444,
              "#bd3786"
             ],
             [
              0.5555555555555556,
              "#d8576b"
             ],
             [
              0.6666666666666666,
              "#ed7953"
             ],
             [
              0.7777777777777778,
              "#fb9f3a"
             ],
             [
              0.8888888888888888,
              "#fdca26"
             ],
             [
              1,
              "#f0f921"
             ]
            ],
            "type": "heatmapgl"
           }
          ],
          "histogram": [
           {
            "marker": {
             "colorbar": {
              "outlinewidth": 0,
              "ticks": ""
             }
            },
            "type": "histogram"
           }
          ],
          "histogram2d": [
           {
            "colorbar": {
             "outlinewidth": 0,
             "ticks": ""
            },
            "colorscale": [
             [
              0,
              "#0d0887"
             ],
             [
              0.1111111111111111,
              "#46039f"
             ],
             [
              0.2222222222222222,
              "#7201a8"
             ],
             [
              0.3333333333333333,
              "#9c179e"
             ],
             [
              0.4444444444444444,
              "#bd3786"
             ],
             [
              0.5555555555555556,
              "#d8576b"
             ],
             [
              0.6666666666666666,
              "#ed7953"
             ],
             [
              0.7777777777777778,
              "#fb9f3a"
             ],
             [
              0.8888888888888888,
              "#fdca26"
             ],
             [
              1,
              "#f0f921"
             ]
            ],
            "type": "histogram2d"
           }
          ],
          "histogram2dcontour": [
           {
            "colorbar": {
             "outlinewidth": 0,
             "ticks": ""
            },
            "colorscale": [
             [
              0,
              "#0d0887"
             ],
             [
              0.1111111111111111,
              "#46039f"
             ],
             [
              0.2222222222222222,
              "#7201a8"
             ],
             [
              0.3333333333333333,
              "#9c179e"
             ],
             [
              0.4444444444444444,
              "#bd3786"
             ],
             [
              0.5555555555555556,
              "#d8576b"
             ],
             [
              0.6666666666666666,
              "#ed7953"
             ],
             [
              0.7777777777777778,
              "#fb9f3a"
             ],
             [
              0.8888888888888888,
              "#fdca26"
             ],
             [
              1,
              "#f0f921"
             ]
            ],
            "type": "histogram2dcontour"
           }
          ],
          "mesh3d": [
           {
            "colorbar": {
             "outlinewidth": 0,
             "ticks": ""
            },
            "type": "mesh3d"
           }
          ],
          "parcoords": [
           {
            "line": {
             "colorbar": {
              "outlinewidth": 0,
              "ticks": ""
             }
            },
            "type": "parcoords"
           }
          ],
          "pie": [
           {
            "automargin": true,
            "type": "pie"
           }
          ],
          "scatter": [
           {
            "marker": {
             "colorbar": {
              "outlinewidth": 0,
              "ticks": ""
             }
            },
            "type": "scatter"
           }
          ],
          "scatter3d": [
           {
            "line": {
             "colorbar": {
              "outlinewidth": 0,
              "ticks": ""
             }
            },
            "marker": {
             "colorbar": {
              "outlinewidth": 0,
              "ticks": ""
             }
            },
            "type": "scatter3d"
           }
          ],
          "scattercarpet": [
           {
            "marker": {
             "colorbar": {
              "outlinewidth": 0,
              "ticks": ""
             }
            },
            "type": "scattercarpet"
           }
          ],
          "scattergeo": [
           {
            "marker": {
             "colorbar": {
              "outlinewidth": 0,
              "ticks": ""
             }
            },
            "type": "scattergeo"
           }
          ],
          "scattergl": [
           {
            "marker": {
             "colorbar": {
              "outlinewidth": 0,
              "ticks": ""
             }
            },
            "type": "scattergl"
           }
          ],
          "scattermapbox": [
           {
            "marker": {
             "colorbar": {
              "outlinewidth": 0,
              "ticks": ""
             }
            },
            "type": "scattermapbox"
           }
          ],
          "scatterpolar": [
           {
            "marker": {
             "colorbar": {
              "outlinewidth": 0,
              "ticks": ""
             }
            },
            "type": "scatterpolar"
           }
          ],
          "scatterpolargl": [
           {
            "marker": {
             "colorbar": {
              "outlinewidth": 0,
              "ticks": ""
             }
            },
            "type": "scatterpolargl"
           }
          ],
          "scatterternary": [
           {
            "marker": {
             "colorbar": {
              "outlinewidth": 0,
              "ticks": ""
             }
            },
            "type": "scatterternary"
           }
          ],
          "surface": [
           {
            "colorbar": {
             "outlinewidth": 0,
             "ticks": ""
            },
            "colorscale": [
             [
              0,
              "#0d0887"
             ],
             [
              0.1111111111111111,
              "#46039f"
             ],
             [
              0.2222222222222222,
              "#7201a8"
             ],
             [
              0.3333333333333333,
              "#9c179e"
             ],
             [
              0.4444444444444444,
              "#bd3786"
             ],
             [
              0.5555555555555556,
              "#d8576b"
             ],
             [
              0.6666666666666666,
              "#ed7953"
             ],
             [
              0.7777777777777778,
              "#fb9f3a"
             ],
             [
              0.8888888888888888,
              "#fdca26"
             ],
             [
              1,
              "#f0f921"
             ]
            ],
            "type": "surface"
           }
          ],
          "table": [
           {
            "cells": {
             "fill": {
              "color": "#EBF0F8"
             },
             "line": {
              "color": "white"
             }
            },
            "header": {
             "fill": {
              "color": "#C8D4E3"
             },
             "line": {
              "color": "white"
             }
            },
            "type": "table"
           }
          ]
         },
         "layout": {
          "annotationdefaults": {
           "arrowcolor": "#2a3f5f",
           "arrowhead": 0,
           "arrowwidth": 1
          },
          "coloraxis": {
           "colorbar": {
            "outlinewidth": 0,
            "ticks": ""
           }
          },
          "colorscale": {
           "diverging": [
            [
             0,
             "#8e0152"
            ],
            [
             0.1,
             "#c51b7d"
            ],
            [
             0.2,
             "#de77ae"
            ],
            [
             0.3,
             "#f1b6da"
            ],
            [
             0.4,
             "#fde0ef"
            ],
            [
             0.5,
             "#f7f7f7"
            ],
            [
             0.6,
             "#e6f5d0"
            ],
            [
             0.7,
             "#b8e186"
            ],
            [
             0.8,
             "#7fbc41"
            ],
            [
             0.9,
             "#4d9221"
            ],
            [
             1,
             "#276419"
            ]
           ],
           "sequential": [
            [
             0,
             "#0d0887"
            ],
            [
             0.1111111111111111,
             "#46039f"
            ],
            [
             0.2222222222222222,
             "#7201a8"
            ],
            [
             0.3333333333333333,
             "#9c179e"
            ],
            [
             0.4444444444444444,
             "#bd3786"
            ],
            [
             0.5555555555555556,
             "#d8576b"
            ],
            [
             0.6666666666666666,
             "#ed7953"
            ],
            [
             0.7777777777777778,
             "#fb9f3a"
            ],
            [
             0.8888888888888888,
             "#fdca26"
            ],
            [
             1,
             "#f0f921"
            ]
           ],
           "sequentialminus": [
            [
             0,
             "#0d0887"
            ],
            [
             0.1111111111111111,
             "#46039f"
            ],
            [
             0.2222222222222222,
             "#7201a8"
            ],
            [
             0.3333333333333333,
             "#9c179e"
            ],
            [
             0.4444444444444444,
             "#bd3786"
            ],
            [
             0.5555555555555556,
             "#d8576b"
            ],
            [
             0.6666666666666666,
             "#ed7953"
            ],
            [
             0.7777777777777778,
             "#fb9f3a"
            ],
            [
             0.8888888888888888,
             "#fdca26"
            ],
            [
             1,
             "#f0f921"
            ]
           ]
          },
          "colorway": [
           "#636efa",
           "#EF553B",
           "#00cc96",
           "#ab63fa",
           "#FFA15A",
           "#19d3f3",
           "#FF6692",
           "#B6E880",
           "#FF97FF",
           "#FECB52"
          ],
          "font": {
           "color": "#2a3f5f"
          },
          "geo": {
           "bgcolor": "white",
           "lakecolor": "white",
           "landcolor": "#E5ECF6",
           "showlakes": true,
           "showland": true,
           "subunitcolor": "white"
          },
          "hoverlabel": {
           "align": "left"
          },
          "hovermode": "closest",
          "mapbox": {
           "style": "light"
          },
          "paper_bgcolor": "white",
          "plot_bgcolor": "#E5ECF6",
          "polar": {
           "angularaxis": {
            "gridcolor": "white",
            "linecolor": "white",
            "ticks": ""
           },
           "bgcolor": "#E5ECF6",
           "radialaxis": {
            "gridcolor": "white",
            "linecolor": "white",
            "ticks": ""
           }
          },
          "scene": {
           "xaxis": {
            "backgroundcolor": "#E5ECF6",
            "gridcolor": "white",
            "gridwidth": 2,
            "linecolor": "white",
            "showbackground": true,
            "ticks": "",
            "zerolinecolor": "white"
           },
           "yaxis": {
            "backgroundcolor": "#E5ECF6",
            "gridcolor": "white",
            "gridwidth": 2,
            "linecolor": "white",
            "showbackground": true,
            "ticks": "",
            "zerolinecolor": "white"
           },
           "zaxis": {
            "backgroundcolor": "#E5ECF6",
            "gridcolor": "white",
            "gridwidth": 2,
            "linecolor": "white",
            "showbackground": true,
            "ticks": "",
            "zerolinecolor": "white"
           }
          },
          "shapedefaults": {
           "line": {
            "color": "#2a3f5f"
           }
          },
          "ternary": {
           "aaxis": {
            "gridcolor": "white",
            "linecolor": "white",
            "ticks": ""
           },
           "baxis": {
            "gridcolor": "white",
            "linecolor": "white",
            "ticks": ""
           },
           "bgcolor": "#E5ECF6",
           "caxis": {
            "gridcolor": "white",
            "linecolor": "white",
            "ticks": ""
           }
          },
          "title": {
           "x": 0.05
          },
          "xaxis": {
           "automargin": true,
           "gridcolor": "white",
           "linecolor": "white",
           "ticks": "",
           "title": {
            "standoff": 15
           },
           "zerolinecolor": "white",
           "zerolinewidth": 2
          },
          "yaxis": {
           "automargin": true,
           "gridcolor": "white",
           "linecolor": "white",
           "ticks": "",
           "title": {
            "standoff": 15
           },
           "zerolinecolor": "white",
           "zerolinewidth": 2
          }
         }
        },
        "xaxis": {
         "dtick": 0,
         "title": {
          "text": "value"
         }
        },
        "yaxis": {
         "title": {
          "text": "prob"
         }
        }
       }
      },
      "text/html": [
       "<div>\n",
       "        \n",
       "        \n",
       "            <div id=\"97b2fa44-d145-4985-ba6a-6e9e002d76fd\" class=\"plotly-graph-div\" style=\"height:525px; width:100%;\"></div>\n",
       "            <script type=\"text/javascript\">\n",
       "                require([\"plotly\"], function(Plotly) {\n",
       "                    window.PLOTLYENV=window.PLOTLYENV || {};\n",
       "                    \n",
       "                if (document.getElementById(\"97b2fa44-d145-4985-ba6a-6e9e002d76fd\")) {\n",
       "                    Plotly.newPlot(\n",
       "                        '97b2fa44-d145-4985-ba6a-6e9e002d76fd',\n",
       "                        [{\"histnorm\": \"probability\", \"type\": \"histogram\", \"x\": [-0.5470527968245765, -1.6795857976823931, -0.8619312959159356, 0.23762633886661444, 0.4026529012065647, 0.20294264752421698, -0.6118613697446027, -0.26624133685377, -1.4606112384082557, 0.7787151313215267, -1.784573393592921, -0.43613450140100607, -1.3992538390211575, -0.6013045182054484, 1.0083341078447194, -0.6027490450796062, -0.7826468343299893, -2.3058296456687066, 0.032825855432172917, -1.3719927700112469, -1.1711600269353415, 1.4438649977585498, 1.4355416525745028, 2.2737846433514104, 0.5103935400376834, 0.14563887287163638, -0.1687670891881957, 1.5442596488090858, 0.8673654566727091, -0.18011809124258227, -0.29257499934216535, 1.2908499085734677, 1.6731521618309106, -0.09713524390164158, -0.5051959101985881, -0.2679721668795938, 0.06151112536791584, -0.8997290839117165, 0.7186511146934468, 2.283109802379101, 0.667307637275443, 0.3047036027322991, 0.5865843896863953, 1.0106902057416698, 0.15097041605970069, 0.4174265568130949, 0.2664801512756335, -0.8264064169090367, 1.0483768510389813, -1.4606669797777594, -1.984013847634543, -0.49205845385734714, 0.12491227565871564, 0.2045778846607323, -0.9875367581535723, -0.4124359011010112, 0.7347039502563742, -0.9755342763302688, -1.320474304559364, -0.3529589373522824, 1.568840494382256, -0.208430299837388, 1.1292274119408519, 0.03420477323103035, -2.351712566432536, -0.15051973002022886, -2.6357163879080416, 0.18439420464256967, -1.9618630646288233, 1.4005057496025122, 0.3720933933825466, 0.426768907025464, 1.793533724431599, 0.14873734024919966, 0.5505346830945768, 1.271209566371793, -0.5874799023137919, 0.026828241385521086, 1.2223510806942681, -0.44717840747598164, 1.368645020189858, -0.44645299495745294, -1.0637121396399836, 0.4342250813240455, -1.2105402177757862, 0.6656168289554532, -0.06742680220074779, -0.9140595138168424, 0.6013208143338303, 0.31625209204096455, -0.09512857640979663, -1.2382887398707827, -0.2423897420109663, -1.1457098468821998, 1.720759316398632, 1.718997521254915, -2.7061247980723793, -0.6475694850192941, -1.0246440067627107, 0.4886032822100937], \"xbins\": {\"end\": 2, \"size\": 0.5, \"start\": -2}}],\n",
       "                        {\"template\": {\"data\": {\"bar\": [{\"error_x\": {\"color\": \"#2a3f5f\"}, \"error_y\": {\"color\": \"#2a3f5f\"}, \"marker\": {\"line\": {\"color\": \"#E5ECF6\", \"width\": 0.5}}, \"type\": \"bar\"}], \"barpolar\": [{\"marker\": {\"line\": {\"color\": \"#E5ECF6\", \"width\": 0.5}}, \"type\": \"barpolar\"}], \"carpet\": [{\"aaxis\": {\"endlinecolor\": \"#2a3f5f\", \"gridcolor\": \"white\", \"linecolor\": \"white\", \"minorgridcolor\": \"white\", \"startlinecolor\": \"#2a3f5f\"}, \"baxis\": {\"endlinecolor\": \"#2a3f5f\", \"gridcolor\": \"white\", \"linecolor\": \"white\", \"minorgridcolor\": \"white\", \"startlinecolor\": \"#2a3f5f\"}, \"type\": \"carpet\"}], \"choropleth\": [{\"colorbar\": {\"outlinewidth\": 0, \"ticks\": \"\"}, \"type\": \"choropleth\"}], \"contour\": [{\"colorbar\": {\"outlinewidth\": 0, \"ticks\": \"\"}, \"colorscale\": [[0.0, \"#0d0887\"], [0.1111111111111111, \"#46039f\"], [0.2222222222222222, \"#7201a8\"], [0.3333333333333333, \"#9c179e\"], [0.4444444444444444, \"#bd3786\"], [0.5555555555555556, \"#d8576b\"], [0.6666666666666666, \"#ed7953\"], [0.7777777777777778, \"#fb9f3a\"], [0.8888888888888888, \"#fdca26\"], [1.0, \"#f0f921\"]], \"type\": \"contour\"}], \"contourcarpet\": [{\"colorbar\": {\"outlinewidth\": 0, \"ticks\": \"\"}, \"type\": \"contourcarpet\"}], \"heatmap\": [{\"colorbar\": {\"outlinewidth\": 0, \"ticks\": \"\"}, \"colorscale\": [[0.0, \"#0d0887\"], [0.1111111111111111, \"#46039f\"], [0.2222222222222222, \"#7201a8\"], [0.3333333333333333, \"#9c179e\"], [0.4444444444444444, \"#bd3786\"], [0.5555555555555556, \"#d8576b\"], [0.6666666666666666, \"#ed7953\"], [0.7777777777777778, \"#fb9f3a\"], [0.8888888888888888, \"#fdca26\"], [1.0, \"#f0f921\"]], \"type\": \"heatmap\"}], \"heatmapgl\": [{\"colorbar\": {\"outlinewidth\": 0, \"ticks\": \"\"}, \"colorscale\": [[0.0, \"#0d0887\"], [0.1111111111111111, \"#46039f\"], [0.2222222222222222, \"#7201a8\"], [0.3333333333333333, \"#9c179e\"], [0.4444444444444444, \"#bd3786\"], [0.5555555555555556, \"#d8576b\"], [0.6666666666666666, \"#ed7953\"], [0.7777777777777778, \"#fb9f3a\"], [0.8888888888888888, \"#fdca26\"], [1.0, \"#f0f921\"]], \"type\": \"heatmapgl\"}], \"histogram\": [{\"marker\": {\"colorbar\": {\"outlinewidth\": 0, \"ticks\": \"\"}}, \"type\": \"histogram\"}], \"histogram2d\": [{\"colorbar\": {\"outlinewidth\": 0, \"ticks\": \"\"}, \"colorscale\": [[0.0, \"#0d0887\"], [0.1111111111111111, \"#46039f\"], [0.2222222222222222, \"#7201a8\"], [0.3333333333333333, \"#9c179e\"], [0.4444444444444444, \"#bd3786\"], [0.5555555555555556, \"#d8576b\"], [0.6666666666666666, \"#ed7953\"], [0.7777777777777778, \"#fb9f3a\"], [0.8888888888888888, \"#fdca26\"], [1.0, \"#f0f921\"]], \"type\": \"histogram2d\"}], \"histogram2dcontour\": [{\"colorbar\": {\"outlinewidth\": 0, \"ticks\": \"\"}, \"colorscale\": [[0.0, \"#0d0887\"], [0.1111111111111111, \"#46039f\"], [0.2222222222222222, \"#7201a8\"], [0.3333333333333333, \"#9c179e\"], [0.4444444444444444, \"#bd3786\"], [0.5555555555555556, \"#d8576b\"], [0.6666666666666666, \"#ed7953\"], [0.7777777777777778, \"#fb9f3a\"], [0.8888888888888888, \"#fdca26\"], [1.0, \"#f0f921\"]], \"type\": \"histogram2dcontour\"}], \"mesh3d\": [{\"colorbar\": {\"outlinewidth\": 0, \"ticks\": \"\"}, \"type\": \"mesh3d\"}], \"parcoords\": [{\"line\": {\"colorbar\": {\"outlinewidth\": 0, \"ticks\": \"\"}}, \"type\": \"parcoords\"}], \"pie\": [{\"automargin\": true, \"type\": \"pie\"}], \"scatter\": [{\"marker\": {\"colorbar\": {\"outlinewidth\": 0, \"ticks\": \"\"}}, \"type\": \"scatter\"}], \"scatter3d\": [{\"line\": {\"colorbar\": {\"outlinewidth\": 0, \"ticks\": \"\"}}, \"marker\": {\"colorbar\": {\"outlinewidth\": 0, \"ticks\": \"\"}}, \"type\": \"scatter3d\"}], \"scattercarpet\": [{\"marker\": {\"colorbar\": {\"outlinewidth\": 0, \"ticks\": \"\"}}, \"type\": \"scattercarpet\"}], \"scattergeo\": [{\"marker\": {\"colorbar\": {\"outlinewidth\": 0, \"ticks\": \"\"}}, \"type\": \"scattergeo\"}], \"scattergl\": [{\"marker\": {\"colorbar\": {\"outlinewidth\": 0, \"ticks\": \"\"}}, \"type\": \"scattergl\"}], \"scattermapbox\": [{\"marker\": {\"colorbar\": {\"outlinewidth\": 0, \"ticks\": \"\"}}, \"type\": \"scattermapbox\"}], \"scatterpolar\": [{\"marker\": {\"colorbar\": {\"outlinewidth\": 0, \"ticks\": \"\"}}, \"type\": \"scatterpolar\"}], \"scatterpolargl\": [{\"marker\": {\"colorbar\": {\"outlinewidth\": 0, \"ticks\": \"\"}}, \"type\": \"scatterpolargl\"}], \"scatterternary\": [{\"marker\": {\"colorbar\": {\"outlinewidth\": 0, \"ticks\": \"\"}}, \"type\": \"scatterternary\"}], \"surface\": [{\"colorbar\": {\"outlinewidth\": 0, \"ticks\": \"\"}, \"colorscale\": [[0.0, \"#0d0887\"], [0.1111111111111111, \"#46039f\"], [0.2222222222222222, \"#7201a8\"], [0.3333333333333333, \"#9c179e\"], [0.4444444444444444, \"#bd3786\"], [0.5555555555555556, \"#d8576b\"], [0.6666666666666666, \"#ed7953\"], [0.7777777777777778, \"#fb9f3a\"], [0.8888888888888888, \"#fdca26\"], [1.0, \"#f0f921\"]], \"type\": \"surface\"}], \"table\": [{\"cells\": {\"fill\": {\"color\": \"#EBF0F8\"}, \"line\": {\"color\": \"white\"}}, \"header\": {\"fill\": {\"color\": \"#C8D4E3\"}, \"line\": {\"color\": \"white\"}}, \"type\": \"table\"}]}, \"layout\": {\"annotationdefaults\": {\"arrowcolor\": \"#2a3f5f\", \"arrowhead\": 0, \"arrowwidth\": 1}, \"coloraxis\": {\"colorbar\": {\"outlinewidth\": 0, \"ticks\": \"\"}}, \"colorscale\": {\"diverging\": [[0, \"#8e0152\"], [0.1, \"#c51b7d\"], [0.2, \"#de77ae\"], [0.3, \"#f1b6da\"], [0.4, \"#fde0ef\"], [0.5, \"#f7f7f7\"], [0.6, \"#e6f5d0\"], [0.7, \"#b8e186\"], [0.8, \"#7fbc41\"], [0.9, \"#4d9221\"], [1, \"#276419\"]], \"sequential\": [[0.0, \"#0d0887\"], [0.1111111111111111, \"#46039f\"], [0.2222222222222222, \"#7201a8\"], [0.3333333333333333, \"#9c179e\"], [0.4444444444444444, \"#bd3786\"], [0.5555555555555556, \"#d8576b\"], [0.6666666666666666, \"#ed7953\"], [0.7777777777777778, \"#fb9f3a\"], [0.8888888888888888, \"#fdca26\"], [1.0, \"#f0f921\"]], \"sequentialminus\": [[0.0, \"#0d0887\"], [0.1111111111111111, \"#46039f\"], [0.2222222222222222, \"#7201a8\"], [0.3333333333333333, \"#9c179e\"], [0.4444444444444444, \"#bd3786\"], [0.5555555555555556, \"#d8576b\"], [0.6666666666666666, \"#ed7953\"], [0.7777777777777778, \"#fb9f3a\"], [0.8888888888888888, \"#fdca26\"], [1.0, \"#f0f921\"]]}, \"colorway\": [\"#636efa\", \"#EF553B\", \"#00cc96\", \"#ab63fa\", \"#FFA15A\", \"#19d3f3\", \"#FF6692\", \"#B6E880\", \"#FF97FF\", \"#FECB52\"], \"font\": {\"color\": \"#2a3f5f\"}, \"geo\": {\"bgcolor\": \"white\", \"lakecolor\": \"white\", \"landcolor\": \"#E5ECF6\", \"showlakes\": true, \"showland\": true, \"subunitcolor\": \"white\"}, \"hoverlabel\": {\"align\": \"left\"}, \"hovermode\": \"closest\", \"mapbox\": {\"style\": \"light\"}, \"paper_bgcolor\": \"white\", \"plot_bgcolor\": \"#E5ECF6\", \"polar\": {\"angularaxis\": {\"gridcolor\": \"white\", \"linecolor\": \"white\", \"ticks\": \"\"}, \"bgcolor\": \"#E5ECF6\", \"radialaxis\": {\"gridcolor\": \"white\", \"linecolor\": \"white\", \"ticks\": \"\"}}, \"scene\": {\"xaxis\": {\"backgroundcolor\": \"#E5ECF6\", \"gridcolor\": \"white\", \"gridwidth\": 2, \"linecolor\": \"white\", \"showbackground\": true, \"ticks\": \"\", \"zerolinecolor\": \"white\"}, \"yaxis\": {\"backgroundcolor\": \"#E5ECF6\", \"gridcolor\": \"white\", \"gridwidth\": 2, \"linecolor\": \"white\", \"showbackground\": true, \"ticks\": \"\", \"zerolinecolor\": \"white\"}, \"zaxis\": {\"backgroundcolor\": \"#E5ECF6\", \"gridcolor\": \"white\", \"gridwidth\": 2, \"linecolor\": \"white\", \"showbackground\": true, \"ticks\": \"\", \"zerolinecolor\": \"white\"}}, \"shapedefaults\": {\"line\": {\"color\": \"#2a3f5f\"}}, \"ternary\": {\"aaxis\": {\"gridcolor\": \"white\", \"linecolor\": \"white\", \"ticks\": \"\"}, \"baxis\": {\"gridcolor\": \"white\", \"linecolor\": \"white\", \"ticks\": \"\"}, \"bgcolor\": \"#E5ECF6\", \"caxis\": {\"gridcolor\": \"white\", \"linecolor\": \"white\", \"ticks\": \"\"}}, \"title\": {\"x\": 0.05}, \"xaxis\": {\"automargin\": true, \"gridcolor\": \"white\", \"linecolor\": \"white\", \"ticks\": \"\", \"title\": {\"standoff\": 15}, \"zerolinecolor\": \"white\", \"zerolinewidth\": 2}, \"yaxis\": {\"automargin\": true, \"gridcolor\": \"white\", \"linecolor\": \"white\", \"ticks\": \"\", \"title\": {\"standoff\": 15}, \"zerolinecolor\": \"white\", \"zerolinewidth\": 2}}}, \"xaxis\": {\"dtick\": 0, \"title\": {\"text\": \"value\"}}, \"yaxis\": {\"title\": {\"text\": \"prob\"}}},\n",
       "                        {\"responsive\": true}\n",
       "                    ).then(function(){\n",
       "                            \n",
       "var gd = document.getElementById('97b2fa44-d145-4985-ba6a-6e9e002d76fd');\n",
       "var x = new MutationObserver(function (mutations, observer) {{\n",
       "        var display = window.getComputedStyle(gd).display;\n",
       "        if (!display || display === 'none') {{\n",
       "            console.log([gd, 'removed!']);\n",
       "            Plotly.purge(gd);\n",
       "            observer.disconnect();\n",
       "        }}\n",
       "}});\n",
       "\n",
       "// Listen for the removal of the full notebook cells\n",
       "var notebookContainer = gd.closest('#notebook-container');\n",
       "if (notebookContainer) {{\n",
       "    x.observe(notebookContainer, {childList: true});\n",
       "}}\n",
       "\n",
       "// Listen for the clearing of the current output cell\n",
       "var outputEl = gd.closest('.output');\n",
       "if (outputEl) {{\n",
       "    x.observe(outputEl, {childList: true});\n",
       "}}\n",
       "\n",
       "                        })\n",
       "                };\n",
       "                });\n",
       "            </script>\n",
       "        </div>"
      ]
     },
     "metadata": {},
     "output_type": "display_data"
    }
   ],
   "source": [
    "# 適当なデータで確認\n",
    "values = np.random.randn(100)\n",
    "x_range = (-2, 2)\n",
    "\n",
    "data_analyzer.make_prob_dist_histogram(values, x_range=x_range, bin_size=0.5)"
   ]
  },
  {
   "cell_type": "markdown",
   "metadata": {},
   "source": [
    "## on_para_eq_constraint = False"
   ]
  },
  {
   "cell_type": "code",
   "execution_count": 81,
   "metadata": {},
   "outputs": [],
   "source": [
    "value_list = []\n",
    "sorted_eigenvalues_list = []\n",
    "\n",
    "for state_est in param_linear_est_linear:\n",
    "    state_est = state_est[0]  # TODO\n",
    "    sorted_eigen_values = sorted([x.real for x in state_est.calc_eigenvalues()], reverse=True)\n",
    "    sorted_eigenvalues_list.append(sorted_eigen_values)"
   ]
  },
  {
   "cell_type": "code",
   "execution_count": 82,
   "metadata": {},
   "outputs": [
    {
     "data": {
      "application/vnd.plotly.v1+json": {
       "config": {
        "plotlyServerURL": "https://plot.ly"
       },
       "data": [
        {
         "histnorm": "probability",
         "type": "histogram",
         "x": [
          1.0005776663016435,
          1.000071994816747,
          1.002306679230926,
          1.0002879171037415,
          1.0007214794673787,
          1.0000079999360012,
          1.0000179996760123,
          1.0002879171037415,
          1.0001999600159919,
          1.0001999600159919,
          1.0000179996760123,
          1.000071994816747,
          1.0004497976820454,
          1.0005117381240924,
          1.0012484413940856,
          1.0021732768676568,
          1.0000319989760658,
          1.0004497976820454,
          1.0000499975002501,
          1.001056882998328,
          1,
          1.000071994816747,
          1.0000319989760658,
          1.0033507723248274,
          1.0000499975002501,
          1.0000179996760123,
          1.0000319989760658,
          1.0000079999360012,
          1.0001619737644996,
          1.0000079999360012,
          1.0000079999360012,
          1.0003918464563548,
          1.0001619737644996,
          1.0011506759448698,
          1.0015655490561528,
          1.0000079999360012,
          1.0002879171037415,
          1.0000019999960004,
          1.0005117381240924,
          1.0003378858331633,
          1.0001999600159919,
          1.0000179996760123,
          1.0000179996760123,
          1.0003918464563548,
          1.0000979903978817,
          1.0005776663016435,
          1.0007214794673778,
          1.0003918464563548,
          1.000799361021956,
          1.0002419414643282,
          1.0003378858331633,
          1.0003378858331633,
          1.0003918464563548,
          1.0000079999360012,
          1.001056882998328,
          1.0003378858331633,
          1.000071994816747,
          1.0011506759448698,
          1.0005117381240924,
          1.0006475806393156,
          1.0005776663016435,
          1.001679180353341,
          1.0007214794673787,
          1.0014558804122249,
          1.001679180353341,
          1.0021732768676568,
          1.0005776663016435,
          1.0000319989760658,
          1.0001279836201933,
          1.0008812234452398,
          1.0000179996760123,
          1.0003918464563548,
          1.0000079999360012,
          1.0002879171037415,
          1.0002419414643282,
          1.0001279836201933,
          1.0012484413940856,
          1.0003918464563548,
          1.0000979903978817,
          1.000071994816747,
          1.0005117381240924,
          1.0000179996760123,
          1.000799361021956,
          1.0001619737644996,
          1,
          1.0002419414643282,
          1.0020438227884099,
          1.0000079999360012,
          1.0003378858331633,
          1.0000319989760658,
          1.0000019999960004,
          1.0009670647857005,
          1.0001279836201933,
          1.0000979903978817,
          1.000071994816747,
          1.0006475806393156,
          1.0001279836201933,
          1.0002879171037415,
          1.0000499975002501,
          1.0027305441287608,
          1.0000019999960004,
          1.0002419414643282,
          1.000071994816747,
          1.0002879171037415,
          1.0000499975002501,
          1.001679180353341,
          1.0000179996760123,
          1.0000079999360012,
          1.0000079999360012,
          1.001679180353341,
          1.0000979903978817,
          1.0012484413940856,
          1.000799361021956,
          1.0007214794673787,
          1.0003378858331633,
          1.0000319989760658,
          1.0002879171037415,
          1.0006475806393156,
          1.0014558804122249,
          1.0002879171037415,
          1.0012484413940856,
          1.0000319989760658,
          1.0005776663016435,
          1.0001279836201933,
          1.0002879171037415,
          1.0005776663016435,
          1.0001999600159919,
          1.0005776663016435,
          1.0005776663016435,
          1.0033507723248274,
          1.0020438227884099,
          1,
          1.001796771611775,
          1.0012484413940856,
          1.0000019999960004,
          1.0003378858331633,
          1.0002879171037415,
          1.0000179996760123,
          1.0003918464563548,
          1.0000019999960004,
          1.0000499975002501,
          1.0000319989760658,
          1.001056882998328,
          1.0000499975002501,
          1.000799361021956,
          1.0002419414643282,
          1.0001999600159919,
          1.0005776663016435,
          1.0000319989760658,
          1,
          1.0001619737644996,
          1.0008812234452398,
          1.0000179996760123,
          1.0008812234452398,
          1.0000319989760658,
          1.0000179996760123,
          1.0001999600159919,
          1.0001999600159919,
          1.0003378858331633,
          1.0000319989760658,
          1.0001999600159919,
          1.0011506759448698,
          1.0035156402734677,
          1.0002879171037415,
          1.0008812234452398,
          1.0003378858331633,
          1.0003918464563548,
          1.0005776663016435,
          1.0000319989760658,
          1.0014558804122249,
          1.0000079999360012,
          1.0005117381240924,
          1.0000079999360012,
          1.0000319989760658,
          1.0000019999960004,
          1.0003918464563548,
          1.0011506759448698,
          1.0006475806393156,
          1.0000319989760658,
          1.0000979903978817,
          1.0000979903978817,
          1.0000319989760658,
          1.0021732768676568,
          1.0000019999960004,
          1.001056882998328,
          1.0000499975002501,
          1,
          1.0002879171037415,
          1.0001619737644996,
          1.0000179996760123,
          1.0002879171037415,
          1.0005117381240924,
          1.0008812234452398,
          1.0000319989760658,
          1.0002879171037415,
          1.0000499975002501,
          1.0001619737644996,
          1.0001279836201933,
          1.0014558804122249,
          1.0000979903978817,
          1.0000319989760658,
          1.0012484413940856,
          1.001056882998328,
          1.0025853161404537,
          1.0000499975002501,
          1.0036844250123282,
          1.0000179996760123,
          1.0000019999960004,
          1.0000319989760658,
          1.0001619737644996,
          1,
          1.0000019999960004,
          1.0011506759448698,
          1.0005117381240924,
          1.0019183200481923,
          1.0002419414643282,
          1.0000499975002501,
          1.0000979903978817,
          1.0000319989760658,
          1.0005117381240924,
          1.0025853161404537,
          1.0031898250163649,
          1.0000019999960004,
          1.0002879171037415,
          1.0000019999960004,
          1.0012484413940856,
          1.000071994816747,
          1.0000499975002501,
          1,
          1.0002419414643282,
          1.0001999600159919,
          1.0000079999360012,
          1.0003378858331633,
          1.0006475806393156,
          1.0005776663016435,
          1.0007214794673787,
          1.0000019999960004,
          1.0012484413940856,
          1.0004497976820454,
          1.000071994816747,
          1.0000979903978817,
          1.0001619737644996,
          1.000071994816747,
          1.0000499975002501,
          1.0038571226052082,
          1.0000979903978817,
          1.0005117381240924,
          1.0000079999360012,
          1.0000079999360012,
          1.000071994816747,
          1.0003918464563548,
          1.0001279836201933,
          1.0005117381240924,
          1.0005117381240924,
          1,
          1.0000019999960004,
          1.0000079999360012,
          1.0007214794673787,
          1.0013501770220095,
          1.0000319989760658,
          1.0003918464563548,
          1.000071994816747,
          1.0000079999360012,
          1.0000179996760123,
          1.0000499975002501,
          1.0008812234452398,
          1.0005776663016435,
          1.0000179996760123,
          1.0003918464563548,
          1.0001279836201933,
          1.0000499975002501,
          1.0005117381240924,
          1.0014558804122249,
          1.0002419414643282,
          1.0000019999960004,
          1.0003918464563548,
          1.0003378858331633,
          1.0006475806393156,
          1.0004497976820454,
          1.001796771611775,
          1.0005776663016435,
          1.0000499975002501,
          1,
          1.0000019999960004,
          1.0000079999360012,
          1.0001999600159919,
          1.001056882998328,
          1.0014558804122249,
          1.0003918464563548,
          1,
          1.0019183200481923,
          1.0002879171037415,
          1.0000319989760658,
          1.0002419414643282,
          1.0000019999960004,
          1.0000319989760658,
          1.0001999600159919,
          1.0000179996760123,
          1.0001279836201933,
          1.0008812234452398,
          1.0003378858331633,
          1.0000319989760658,
          1.0001999600159919,
          1.0005117381240924,
          1.0002419414643282,
          1.0000319989760658,
          1.0011506759448698,
          1.0001619737644996,
          1.0002419414643282,
          1.0019183200481923,
          1.0000319989760658,
          1.0000499975002501,
          1.000799361021956,
          1.0005117381240924,
          1.0009670647857005,
          1.000071994816747,
          1.0015655490561528,
          1.0006475806393156,
          1.0000179996760123,
          1.0001619737644996,
          1.0028797072859468,
          1.0000019999960004,
          1.0027305441287608,
          1.0001619737644996,
          1.0000979903978817,
          1.0013501770220095,
          1.0002879171037415,
          1.0001619737644996,
          1.0006475806393156,
          1.0013501770220095,
          1.0003378858331633,
          1,
          1.0000499975002501,
          1.001056882998328,
          1.0000019999960004,
          1.0000319989760658,
          1.0003918464563548,
          1.0003918464563548,
          1.0001999600159919,
          1.0013501770220095,
          1.0001999600159919,
          1.0000179996760123,
          1.0000499975002501,
          1.0000319989760658,
          1.0015655490561528,
          1.0027305441287608,
          1.000071994816747,
          1.0005776663016435,
          1.001796771611775,
          1.0009670647857005,
          1,
          1.0001279836201933,
          1.0000319989760658,
          1.0000319989760658,
          1.0005117381240924,
          1.0021732768676568,
          1.0000979903978817,
          1.0027305441287608,
          1.000799361021956,
          1.0001279836201933,
          1.0000079999360012,
          1.0004497976820454,
          1.0003378858331633,
          1.0001999600159919,
          1.0002419414643282,
          1.0001279836201933,
          1.0000319989760658,
          1.000071994816747,
          1.0002419414643282,
          1.0004497976820454,
          1,
          1.0020438227884099,
          1.0003918464563548,
          1.0014558804122249,
          1.0000019999960004,
          1.0002419414643282,
          1.0000499975002501,
          1,
          1.0004497976820454,
          1.0006475806393156,
          1.000799361021956,
          1.0001279836201933,
          1.0027305441287608,
          1.0000019999960004,
          1.000071994816747,
          1.0000499975002501,
          1.0001999600159919,
          1.0007214794673778,
          1.0000979903978817,
          1.0007214794673787,
          1,
          1.0004497976820454,
          1.0000019999960004,
          1.0004497976820454,
          1.0000499975002501,
          1.0003378858331633,
          1.0006475806393156,
          1.0014558804122249,
          1.0000179996760123,
          1.0004497976820454,
          1.0000019999960004,
          1.000071994816747,
          1.0000979903978817,
          1.0004497976820454,
          1.0007214794673778,
          1.0001279836201933,
          1.0000019999960004,
          1.0002419414643282,
          1.000799361021956,
          1.0000319989760658,
          1.0001619737644996,
          1.001796771611775,
          1.0003378858331633,
          1.0000499975002501,
          1.000071994816747,
          1.0015655490561528,
          1.0000079999360012,
          1.0031898250163649,
          1.0000499975002501,
          1.0006475806393156,
          1.0000079999360012,
          1.0001999600159919,
          1.0002879171037415,
          1.0008812234452398,
          1.0000319989760658,
          1.000071994816747,
          1.0001619737644996,
          1.0002419414643282,
          1.0008812234452398,
          1.002306679230926,
          1.000071994816747,
          1.0000499975002501,
          1.0001279836201933,
          1.0006475806393156,
          1.0001619737644996,
          1.0011506759448698,
          1.0011506759448698,
          1.0003378858331633,
          1.0000979903978817,
          1.0015655490561528,
          1.0002419414643282,
          1.0001999600159919,
          1.0001279836201933,
          1.0001279836201933,
          1.0006475806393156,
          1.0009670647857005,
          1.0000079999360012,
          1.0001279836201933,
          1.0002879171037415,
          1.0013501770220095,
          1.0000499975002501,
          1.0011506759448698,
          1.0002419414643282,
          1.000799361021956,
          1.0005776663016435,
          1.0000979903978817,
          1.0001279836201933,
          1.001796771611775,
          1.0000179996760123,
          1.0001619737644996,
          1.0008812234452398,
          1.0002419414643282,
          1.0000979903978817,
          1.001679180353341,
          1.0003378858331633,
          1.0000179996760123,
          1.0000319989760658,
          1.0007214794673787,
          1.0000179996760123,
          1.0001279836201933,
          1.0024440267333263,
          1.0000079999360012,
          1.000071994816747,
          1.000799361021956,
          1.0000019999960004,
          1.0000019999960004,
          1.001056882998328,
          1.0001279836201933,
          1.0011506759448698,
          1.0000499975002501,
          1.0006475806393156,
          1.0001619737644996,
          1.0007214794673787,
          1.0000019999960004,
          1.0000499975002501,
          1.0000179996760123,
          1.0009670647857005,
          1.0000499975002501,
          1.0000979903978817,
          1.0000319989760658,
          1.0027305441287608,
          1.0011506759448698,
          1.0004497976820454,
          1.0020438227884099,
          1.0024440267333263,
          1.0000979903978817,
          1.0000979903978817,
          1.0000499975002501,
          1.0000179996760123,
          1.0001619737644996,
          1,
          1.000071994816747,
          1.0009670647857005,
          1.0001999600159919,
          1.0013501770220095,
          1.0003918464563548,
          1.001056882998328,
          1.0000499975002501,
          1.0000079999360012,
          1.0000019999960004,
          1.0012484413940856,
          1.0001999600159919,
          1.0002879171037415,
          1.0001619737644996,
          1.0000079999360012,
          1.0004497976820454,
          1.0014558804122249,
          1.0000979903978817,
          1.0001999600159919,
          1.0008812234452398,
          1.0002419414643282,
          1.0000179996760123,
          1.0003918464563548,
          1.0006475806393156,
          1.0005117381240924,
          1.0003918464563548,
          1.0001999600159919,
          1.0007214794673778,
          1.0011506759448698,
          1.0001619737644996,
          1.0000499975002501,
          1.0001619737644996,
          1.000071994816747,
          1.0000979903978817,
          1.0002419414643282,
          1.0003378858331633,
          1.001796771611775,
          1.0031898250163649,
          1.0000499975002501,
          1.0001279836201933,
          1.0001279836201933,
          1.0000979903978817,
          1.0008812234452398,
          1.0006475806393156,
          1.0002879171037415,
          1.0000319989760658,
          1,
          1,
          1.0000499975002501,
          1.0000319989760658,
          1.0000179996760123,
          1.001679180353341,
          1.0003918464563548,
          1.0001619737644996,
          1.0005117381240924,
          1.0002419414643282,
          1.0013501770220095,
          1.0006475806393156,
          1.0007214794673778,
          1.0006475806393156,
          1.000071994816747,
          1.000071994816747,
          1.0000019999960004,
          1.0012484413940856,
          1.0000179996760123,
          1.0000979903978817,
          1.0000979903978817,
          1.0005117381240924,
          1.000071994816747,
          1.0013501770220095,
          1.0000499975002501,
          1.0009670647857005,
          1.0001279836201933,
          1.000071994816747,
          1.0000499975002501,
          1.0003378858331633,
          1.0003918464563548,
          1.0000179996760123,
          1.0003918464563548,
          1.0000019999960004,
          1.0021732768676568,
          1.0000019999960004,
          1.0005117381240924,
          1.0021732768676568,
          1.0000019999960004,
          1.0001279836201933,
          1.0004497976820454,
          1.0009670647857005,
          1.0009670647857005,
          1.0000979903978817,
          1.0003378858331633,
          1.0011506759448698,
          1.0001999600159919,
          1.0006475806393156,
          1.0009670647857005,
          1.001056882998328,
          1.0020438227884099,
          1.0013501770220095,
          1.001679180353341,
          1.0007214794673778,
          1.0028797072859468,
          1.0001279836201933,
          1.0040337290301116,
          1.0001999600159919,
          1.0001999600159919,
          1.0012484413940856,
          1.0000319989760658,
          1.003032802111353,
          1.001056882998328,
          1.0000979903978817,
          1.0000019999960004,
          1.0011506759448698,
          1.0007214794673787,
          1.0011506759448698,
          1.000071994816747,
          1.0000019999960004,
          1.0000319989760658,
          1.0012484413940856,
          1.0001999600159919,
          1.0024440267333263,
          1.0001619737644996,
          1.0000019999960004,
          1.0000319989760658,
          1.0001999600159919,
          1.0002879171037415,
          1.0024440267333263,
          1.0001999600159919,
          1.0002419414643282,
          1.0002419414643282,
          1.0000319989760658,
          1.0009670647857005,
          1.0001279836201933,
          1.0003378858331633,
          1.0005776663016435,
          1.0002419414643282,
          1.0000979903978817,
          1.0000079999360012,
          1.0000019999960004,
          1.0000499975002501,
          1.0000079999360012,
          1.000071994816747,
          1.000799361021956,
          1.0000499975002501,
          1.0000179996760123,
          1.0003378858331633,
          1.000799361021956,
          1.0004497976820454,
          1.000071994816747,
          1,
          1.0006475806393156,
          1.0000019999960004,
          1.0000979903978817,
          1.0000979903978817,
          1.0027305441287608,
          1.002306679230926,
          1.0000979903978817,
          1.0005117381240924,
          1.0003378858331633,
          1.001679180353341,
          1.0000979903978817,
          1.0001619737644996,
          1.0001279836201933,
          1.0001999600159919,
          1.0009670647857005,
          1.0000319989760658,
          1.0000979903978817,
          1.0005776663016435,
          1.001679180353341,
          1.0004497976820454,
          1.000071994816747,
          1.0006475806393156,
          1.0000179996760123,
          1.0001999600159919,
          1.0000499975002501,
          1.000071994816747,
          1.0003918464563548,
          1.0002419414643282,
          1.0011506759448698,
          1.0001999600159919,
          1.0000079999360012,
          1.0000019999960004,
          1.0005776663016435,
          1.0000179996760123,
          1.0013501770220095,
          1.0005117381240924,
          1.001679180353341,
          1.0000179996760123,
          1.0000499975002501,
          1.0040337290301116,
          1.0001619737644996,
          1.0025853161404537,
          1.0003918464563548,
          1.0005117381240924,
          1.0004497976820454,
          1.0000319989760658,
          1.0003918464563548,
          1.0021732768676568,
          1.0005117381240924,
          1.0007214794673787,
          1.0003378858331633,
          1.0000019999960004,
          1.0001619737644996,
          1.0004497976820454,
          1.0001999600159919,
          1.0001279836201933,
          1.0006475806393156,
          1.0000979903978817,
          1.0000979903978817,
          1.0002879171037415,
          1.000071994816747,
          1.0001999600159919,
          1.0000079999360012,
          1.0000499975002501,
          1.000071994816747,
          1.0000979903978817,
          1.0000019999960004,
          1.0000079999360012,
          1.0001999600159919,
          1.0000179996760123,
          1.0000019999960004,
          1.0000499975002501,
          1.0000179996760123,
          1.0015655490561528,
          1.0005117381240924,
          1.0007214794673787,
          1.0014558804122249,
          1,
          1.0000499975002501,
          1.0006475806393156,
          1.0003378858331633,
          1.0005117381240924,
          1.0007214794673778,
          1.000799361021956,
          1.001679180353341,
          1.0021732768676568,
          1.0005117381240924,
          1.0000079999360012,
          1.0003918464563548,
          1.001056882998328,
          1.000071994816747,
          1.0008812234452398,
          1.0002879171037415,
          1.0006475806393156,
          1.0014558804122249,
          1.0001619737644996,
          1.0004497976820454,
          1.0002879171037415,
          1.0002879171037415,
          1.0013501770220095,
          1.0002419414643282,
          1.001056882998328,
          1.000799361021956,
          1.001056882998328,
          1.001056882998328,
          1.0006475806393156,
          1.0002419414643282,
          1.0000319989760658,
          1.0002879171037415,
          1.0005776663016435,
          1.0003918464563548,
          1.0000319989760658,
          1.0009670647857005,
          1.0000179996760123,
          1.0000499975002501,
          1.0000079999360012,
          1.0000019999960004,
          1.0000979903978817,
          1.000799361021956,
          1.0000019999960004,
          1.0000019999960004,
          1.0000179996760123,
          1.0008812234452398,
          1.0002419414643282,
          1.0000019999960004,
          1.0053790656527046,
          1.0001619737644996,
          1.0000319989760658,
          1.0002419414643282,
          1.0000319989760658,
          1.0000019999960004,
          1,
          1.0019183200481923,
          1.000799361021956,
          1.000799361021956,
          1.001679180353341,
          1.0002879171037415,
          1.0021732768676568,
          1.0002879171037415,
          1.0007214794673787,
          1.0001999600159919,
          1.0040337290301116,
          1.001679180353341,
          1.0001279836201933,
          1.0000179996760123,
          1.0001619737644996,
          1.0003378858331633,
          1.0000979903978817,
          1.0002879171037415,
          1.0002419414643282,
          1.0004497976820454,
          1.0006475806393156,
          1.0000019999960004,
          1.0001999600159919,
          1.0000499975002501,
          1.0008812234452398,
          1.0000019999960004,
          1.0003918464563548,
          1.0000179996760123,
          1.0006475806393156,
          1.0000979903978817,
          1.0005776663016435,
          1.000071994816747,
          1.0001619737644996,
          1.0000079999360012,
          1.0001619737644996,
          1.0003918464563548,
          1.0011506759448698,
          1.0000079999360012,
          1.0003918464563548,
          1.0015655490561528,
          1.0009670647857005,
          1.0006475806393156,
          1.000071994816747,
          1.0001279836201933,
          1.0009670647857005,
          1.0000499975002501,
          1.0000319989760658,
          1.0008812234452398,
          1.0000319989760658,
          1.0003918464563548,
          1.000071994816747,
          1.0000179996760123,
          1.0000019999960004,
          1.0001279836201933,
          1.0002879171037415,
          1.0000979903978817,
          1.0001619737644996,
          1,
          1.0000319989760658,
          1.0000179996760123,
          1.0000079999360012,
          1.0002419414643282,
          1.001679180353341,
          1.0002419414643282,
          1.0008812234452398,
          1.0005117381240924,
          1.0001999600159919,
          1.0012484413940856,
          1.0006475806393156,
          1.0009670647857005,
          1.000071994816747,
          1.0038571226052082,
          1.0002419414643282,
          1.0000319989760658,
          1.0002419414643282,
          1,
          1,
          1.0004497976820454,
          1.0033507723248274,
          1.0001619737644996,
          1.000071994816747,
          1.0011506759448698,
          1.0020438227884099,
          1.0000499975002501,
          1.0000079999360012,
          1.001796771611775,
          1.0000179996760123,
          1.0001279836201933,
          1.0015655490561528,
          1.0000499975002501,
          1.0000499975002501,
          1.0000179996760123,
          1.001056882998328,
          1.0001619737644996,
          1.0000319989760658,
          1.0005776663016435,
          1.0000079999360012,
          1.0000319989760658,
          1.0000019999960004,
          1.0003918464563548,
          1.0001619737644996,
          1.0002879171037415,
          1,
          1.0001619737644996,
          1.0001999600159919,
          1.0001619737644996,
          1.0000019999960004,
          1.0008812234452398,
          1.000799361021956,
          1.000071994816747,
          1.0001279836201933,
          1.0000079999360012,
          1.001056882998328,
          1.0005117381240924,
          1.000071994816747,
          1.0000499975002501,
          1.0005117381240924,
          1.0003918464563548,
          1.0000319989760658,
          1.0001279836201933,
          1.0003378858331633,
          1.000071994816747,
          1.0000499975002501,
          1,
          1.0003918464563548,
          1.0000319989760658,
          1.0000499975002501,
          1.0001279836201933,
          1.0003378858331633,
          1.0001619737644996,
          1.0020438227884099,
          1.0002419414643282,
          1.0004497976820454,
          1.0005776663016435,
          1.0000179996760123,
          1.0002419414643282,
          1.0013501770220095,
          1.0002419414643282,
          1,
          1.0001619737644996,
          1.0001619737644996,
          1.0001619737644996,
          1.001056882998328,
          1.0000979903978817,
          1.0004497976820454,
          1.0004497976820454,
          1.0000179996760123,
          1.0005117381240924,
          1.0008812234452398,
          1.0000319989760658,
          1.0004497976820454,
          1.0007214794673787,
          1.0005117381240924,
          1.0001999600159919,
          1.001679180353341,
          1.0000179996760123,
          1.0000319989760658,
          1.0001619737644996,
          1.0003378858331633,
          1.0025853161404537,
          1.0008812234452398,
          1.0001999600159919,
          1.001796771611775,
          1.0000079999360012,
          1.0012484413940856,
          1.0000019999960004,
          1.0006475806393156,
          1.0000979903978817,
          1.0009670647857005,
          1.0000499975002501,
          1,
          1.0005776663016435,
          1.0007214794673787,
          1.000071994816747,
          1.0040337290301116,
          1.0003378858331633,
          1.0009670647857005,
          1.0031898250163649,
          1.0000179996760123,
          1.0014558804122249,
          1.0000179996760123,
          1.000799361021956,
          1.0012484413940856,
          1.0000179996760123,
          1.000071994816747,
          1.0000979903978817,
          1.0006475806393156,
          1.000071994816747,
          1.0002879171037415,
          1.0000019999960004,
          1.0000499975002501,
          1.0002879171037415,
          1.0004497976820454,
          1.000799361021956,
          1.0015655490561528,
          1.0000079999360012,
          1.0004497976820454,
          1.0005776663016435,
          1.0006475806393156,
          1.000071994816747,
          1.0001279836201933,
          1.0003918464563548,
          1.0004497976820454,
          1,
          1.0000019999960004,
          1.0003918464563548,
          1.0028797072859468,
          1.0000179996760123,
          1.0000079999360012,
          1.0001279836201933,
          1.0001619737644996,
          1.0000079999360012,
          1.000071994816747,
          1.0015655490561528,
          1.0003918464563548,
          1.000071994816747,
          1.0015655490561528,
          1.0003378858331633,
          1.000071994816747,
          1.0001279836201933
         ],
         "xbins": {
          "size": 0.0001
         }
        }
       ],
       "layout": {
        "template": {
         "data": {
          "bar": [
           {
            "error_x": {
             "color": "#2a3f5f"
            },
            "error_y": {
             "color": "#2a3f5f"
            },
            "marker": {
             "line": {
              "color": "#E5ECF6",
              "width": 0.5
             }
            },
            "type": "bar"
           }
          ],
          "barpolar": [
           {
            "marker": {
             "line": {
              "color": "#E5ECF6",
              "width": 0.5
             }
            },
            "type": "barpolar"
           }
          ],
          "carpet": [
           {
            "aaxis": {
             "endlinecolor": "#2a3f5f",
             "gridcolor": "white",
             "linecolor": "white",
             "minorgridcolor": "white",
             "startlinecolor": "#2a3f5f"
            },
            "baxis": {
             "endlinecolor": "#2a3f5f",
             "gridcolor": "white",
             "linecolor": "white",
             "minorgridcolor": "white",
             "startlinecolor": "#2a3f5f"
            },
            "type": "carpet"
           }
          ],
          "choropleth": [
           {
            "colorbar": {
             "outlinewidth": 0,
             "ticks": ""
            },
            "type": "choropleth"
           }
          ],
          "contour": [
           {
            "colorbar": {
             "outlinewidth": 0,
             "ticks": ""
            },
            "colorscale": [
             [
              0,
              "#0d0887"
             ],
             [
              0.1111111111111111,
              "#46039f"
             ],
             [
              0.2222222222222222,
              "#7201a8"
             ],
             [
              0.3333333333333333,
              "#9c179e"
             ],
             [
              0.4444444444444444,
              "#bd3786"
             ],
             [
              0.5555555555555556,
              "#d8576b"
             ],
             [
              0.6666666666666666,
              "#ed7953"
             ],
             [
              0.7777777777777778,
              "#fb9f3a"
             ],
             [
              0.8888888888888888,
              "#fdca26"
             ],
             [
              1,
              "#f0f921"
             ]
            ],
            "type": "contour"
           }
          ],
          "contourcarpet": [
           {
            "colorbar": {
             "outlinewidth": 0,
             "ticks": ""
            },
            "type": "contourcarpet"
           }
          ],
          "heatmap": [
           {
            "colorbar": {
             "outlinewidth": 0,
             "ticks": ""
            },
            "colorscale": [
             [
              0,
              "#0d0887"
             ],
             [
              0.1111111111111111,
              "#46039f"
             ],
             [
              0.2222222222222222,
              "#7201a8"
             ],
             [
              0.3333333333333333,
              "#9c179e"
             ],
             [
              0.4444444444444444,
              "#bd3786"
             ],
             [
              0.5555555555555556,
              "#d8576b"
             ],
             [
              0.6666666666666666,
              "#ed7953"
             ],
             [
              0.7777777777777778,
              "#fb9f3a"
             ],
             [
              0.8888888888888888,
              "#fdca26"
             ],
             [
              1,
              "#f0f921"
             ]
            ],
            "type": "heatmap"
           }
          ],
          "heatmapgl": [
           {
            "colorbar": {
             "outlinewidth": 0,
             "ticks": ""
            },
            "colorscale": [
             [
              0,
              "#0d0887"
             ],
             [
              0.1111111111111111,
              "#46039f"
             ],
             [
              0.2222222222222222,
              "#7201a8"
             ],
             [
              0.3333333333333333,
              "#9c179e"
             ],
             [
              0.4444444444444444,
              "#bd3786"
             ],
             [
              0.5555555555555556,
              "#d8576b"
             ],
             [
              0.6666666666666666,
              "#ed7953"
             ],
             [
              0.7777777777777778,
              "#fb9f3a"
             ],
             [
              0.8888888888888888,
              "#fdca26"
             ],
             [
              1,
              "#f0f921"
             ]
            ],
            "type": "heatmapgl"
           }
          ],
          "histogram": [
           {
            "marker": {
             "colorbar": {
              "outlinewidth": 0,
              "ticks": ""
             }
            },
            "type": "histogram"
           }
          ],
          "histogram2d": [
           {
            "colorbar": {
             "outlinewidth": 0,
             "ticks": ""
            },
            "colorscale": [
             [
              0,
              "#0d0887"
             ],
             [
              0.1111111111111111,
              "#46039f"
             ],
             [
              0.2222222222222222,
              "#7201a8"
             ],
             [
              0.3333333333333333,
              "#9c179e"
             ],
             [
              0.4444444444444444,
              "#bd3786"
             ],
             [
              0.5555555555555556,
              "#d8576b"
             ],
             [
              0.6666666666666666,
              "#ed7953"
             ],
             [
              0.7777777777777778,
              "#fb9f3a"
             ],
             [
              0.8888888888888888,
              "#fdca26"
             ],
             [
              1,
              "#f0f921"
             ]
            ],
            "type": "histogram2d"
           }
          ],
          "histogram2dcontour": [
           {
            "colorbar": {
             "outlinewidth": 0,
             "ticks": ""
            },
            "colorscale": [
             [
              0,
              "#0d0887"
             ],
             [
              0.1111111111111111,
              "#46039f"
             ],
             [
              0.2222222222222222,
              "#7201a8"
             ],
             [
              0.3333333333333333,
              "#9c179e"
             ],
             [
              0.4444444444444444,
              "#bd3786"
             ],
             [
              0.5555555555555556,
              "#d8576b"
             ],
             [
              0.6666666666666666,
              "#ed7953"
             ],
             [
              0.7777777777777778,
              "#fb9f3a"
             ],
             [
              0.8888888888888888,
              "#fdca26"
             ],
             [
              1,
              "#f0f921"
             ]
            ],
            "type": "histogram2dcontour"
           }
          ],
          "mesh3d": [
           {
            "colorbar": {
             "outlinewidth": 0,
             "ticks": ""
            },
            "type": "mesh3d"
           }
          ],
          "parcoords": [
           {
            "line": {
             "colorbar": {
              "outlinewidth": 0,
              "ticks": ""
             }
            },
            "type": "parcoords"
           }
          ],
          "pie": [
           {
            "automargin": true,
            "type": "pie"
           }
          ],
          "scatter": [
           {
            "marker": {
             "colorbar": {
              "outlinewidth": 0,
              "ticks": ""
             }
            },
            "type": "scatter"
           }
          ],
          "scatter3d": [
           {
            "line": {
             "colorbar": {
              "outlinewidth": 0,
              "ticks": ""
             }
            },
            "marker": {
             "colorbar": {
              "outlinewidth": 0,
              "ticks": ""
             }
            },
            "type": "scatter3d"
           }
          ],
          "scattercarpet": [
           {
            "marker": {
             "colorbar": {
              "outlinewidth": 0,
              "ticks": ""
             }
            },
            "type": "scattercarpet"
           }
          ],
          "scattergeo": [
           {
            "marker": {
             "colorbar": {
              "outlinewidth": 0,
              "ticks": ""
             }
            },
            "type": "scattergeo"
           }
          ],
          "scattergl": [
           {
            "marker": {
             "colorbar": {
              "outlinewidth": 0,
              "ticks": ""
             }
            },
            "type": "scattergl"
           }
          ],
          "scattermapbox": [
           {
            "marker": {
             "colorbar": {
              "outlinewidth": 0,
              "ticks": ""
             }
            },
            "type": "scattermapbox"
           }
          ],
          "scatterpolar": [
           {
            "marker": {
             "colorbar": {
              "outlinewidth": 0,
              "ticks": ""
             }
            },
            "type": "scatterpolar"
           }
          ],
          "scatterpolargl": [
           {
            "marker": {
             "colorbar": {
              "outlinewidth": 0,
              "ticks": ""
             }
            },
            "type": "scatterpolargl"
           }
          ],
          "scatterternary": [
           {
            "marker": {
             "colorbar": {
              "outlinewidth": 0,
              "ticks": ""
             }
            },
            "type": "scatterternary"
           }
          ],
          "surface": [
           {
            "colorbar": {
             "outlinewidth": 0,
             "ticks": ""
            },
            "colorscale": [
             [
              0,
              "#0d0887"
             ],
             [
              0.1111111111111111,
              "#46039f"
             ],
             [
              0.2222222222222222,
              "#7201a8"
             ],
             [
              0.3333333333333333,
              "#9c179e"
             ],
             [
              0.4444444444444444,
              "#bd3786"
             ],
             [
              0.5555555555555556,
              "#d8576b"
             ],
             [
              0.6666666666666666,
              "#ed7953"
             ],
             [
              0.7777777777777778,
              "#fb9f3a"
             ],
             [
              0.8888888888888888,
              "#fdca26"
             ],
             [
              1,
              "#f0f921"
             ]
            ],
            "type": "surface"
           }
          ],
          "table": [
           {
            "cells": {
             "fill": {
              "color": "#EBF0F8"
             },
             "line": {
              "color": "white"
             }
            },
            "header": {
             "fill": {
              "color": "#C8D4E3"
             },
             "line": {
              "color": "white"
             }
            },
            "type": "table"
           }
          ]
         },
         "layout": {
          "annotationdefaults": {
           "arrowcolor": "#2a3f5f",
           "arrowhead": 0,
           "arrowwidth": 1
          },
          "coloraxis": {
           "colorbar": {
            "outlinewidth": 0,
            "ticks": ""
           }
          },
          "colorscale": {
           "diverging": [
            [
             0,
             "#8e0152"
            ],
            [
             0.1,
             "#c51b7d"
            ],
            [
             0.2,
             "#de77ae"
            ],
            [
             0.3,
             "#f1b6da"
            ],
            [
             0.4,
             "#fde0ef"
            ],
            [
             0.5,
             "#f7f7f7"
            ],
            [
             0.6,
             "#e6f5d0"
            ],
            [
             0.7,
             "#b8e186"
            ],
            [
             0.8,
             "#7fbc41"
            ],
            [
             0.9,
             "#4d9221"
            ],
            [
             1,
             "#276419"
            ]
           ],
           "sequential": [
            [
             0,
             "#0d0887"
            ],
            [
             0.1111111111111111,
             "#46039f"
            ],
            [
             0.2222222222222222,
             "#7201a8"
            ],
            [
             0.3333333333333333,
             "#9c179e"
            ],
            [
             0.4444444444444444,
             "#bd3786"
            ],
            [
             0.5555555555555556,
             "#d8576b"
            ],
            [
             0.6666666666666666,
             "#ed7953"
            ],
            [
             0.7777777777777778,
             "#fb9f3a"
            ],
            [
             0.8888888888888888,
             "#fdca26"
            ],
            [
             1,
             "#f0f921"
            ]
           ],
           "sequentialminus": [
            [
             0,
             "#0d0887"
            ],
            [
             0.1111111111111111,
             "#46039f"
            ],
            [
             0.2222222222222222,
             "#7201a8"
            ],
            [
             0.3333333333333333,
             "#9c179e"
            ],
            [
             0.4444444444444444,
             "#bd3786"
            ],
            [
             0.5555555555555556,
             "#d8576b"
            ],
            [
             0.6666666666666666,
             "#ed7953"
            ],
            [
             0.7777777777777778,
             "#fb9f3a"
            ],
            [
             0.8888888888888888,
             "#fdca26"
            ],
            [
             1,
             "#f0f921"
            ]
           ]
          },
          "colorway": [
           "#636efa",
           "#EF553B",
           "#00cc96",
           "#ab63fa",
           "#FFA15A",
           "#19d3f3",
           "#FF6692",
           "#B6E880",
           "#FF97FF",
           "#FECB52"
          ],
          "font": {
           "color": "#2a3f5f"
          },
          "geo": {
           "bgcolor": "white",
           "lakecolor": "white",
           "landcolor": "#E5ECF6",
           "showlakes": true,
           "showland": true,
           "subunitcolor": "white"
          },
          "hoverlabel": {
           "align": "left"
          },
          "hovermode": "closest",
          "mapbox": {
           "style": "light"
          },
          "paper_bgcolor": "white",
          "plot_bgcolor": "#E5ECF6",
          "polar": {
           "angularaxis": {
            "gridcolor": "white",
            "linecolor": "white",
            "ticks": ""
           },
           "bgcolor": "#E5ECF6",
           "radialaxis": {
            "gridcolor": "white",
            "linecolor": "white",
            "ticks": ""
           }
          },
          "scene": {
           "xaxis": {
            "backgroundcolor": "#E5ECF6",
            "gridcolor": "white",
            "gridwidth": 2,
            "linecolor": "white",
            "showbackground": true,
            "ticks": "",
            "zerolinecolor": "white"
           },
           "yaxis": {
            "backgroundcolor": "#E5ECF6",
            "gridcolor": "white",
            "gridwidth": 2,
            "linecolor": "white",
            "showbackground": true,
            "ticks": "",
            "zerolinecolor": "white"
           },
           "zaxis": {
            "backgroundcolor": "#E5ECF6",
            "gridcolor": "white",
            "gridwidth": 2,
            "linecolor": "white",
            "showbackground": true,
            "ticks": "",
            "zerolinecolor": "white"
           }
          },
          "shapedefaults": {
           "line": {
            "color": "#2a3f5f"
           }
          },
          "ternary": {
           "aaxis": {
            "gridcolor": "white",
            "linecolor": "white",
            "ticks": ""
           },
           "baxis": {
            "gridcolor": "white",
            "linecolor": "white",
            "ticks": ""
           },
           "bgcolor": "#E5ECF6",
           "caxis": {
            "gridcolor": "white",
            "linecolor": "white",
            "ticks": ""
           }
          },
          "title": {
           "x": 0.05
          },
          "xaxis": {
           "automargin": true,
           "gridcolor": "white",
           "linecolor": "white",
           "ticks": "",
           "title": {
            "standoff": 15
           },
           "zerolinecolor": "white",
           "zerolinewidth": 2
          },
          "yaxis": {
           "automargin": true,
           "gridcolor": "white",
           "linecolor": "white",
           "ticks": "",
           "title": {
            "standoff": 15
           },
           "zerolinecolor": "white",
           "zerolinewidth": 2
          }
         }
        },
        "title": {
         "text": "i=0, Nrep=1000"
        },
        "xaxis": {
         "dtick": 0,
         "title": {
          "text": "value"
         }
        },
        "yaxis": {
         "range": [
          0,
          1
         ],
         "tickvals": [
          0,
          0.1,
          0.2,
          0.30000000000000004,
          0.4,
          0.5,
          0.6000000000000001,
          0.7000000000000001,
          0.8,
          0.9
         ],
         "title": {
          "text": "probability"
         }
        }
       }
      },
      "text/html": [
       "<div>\n",
       "        \n",
       "        \n",
       "            <div id=\"86981698-7e1b-4909-8a9c-820a292394a4\" class=\"plotly-graph-div\" style=\"height:525px; width:100%;\"></div>\n",
       "            <script type=\"text/javascript\">\n",
       "                require([\"plotly\"], function(Plotly) {\n",
       "                    window.PLOTLYENV=window.PLOTLYENV || {};\n",
       "                    \n",
       "                if (document.getElementById(\"86981698-7e1b-4909-8a9c-820a292394a4\")) {\n",
       "                    Plotly.newPlot(\n",
       "                        '86981698-7e1b-4909-8a9c-820a292394a4',\n",
       "                        [{\"histnorm\": \"probability\", \"type\": \"histogram\", \"x\": [1.0005776663016435, 1.000071994816747, 1.002306679230926, 1.0002879171037415, 1.0007214794673787, 1.0000079999360012, 1.0000179996760123, 1.0002879171037415, 1.0001999600159919, 1.0001999600159919, 1.0000179996760123, 1.000071994816747, 1.0004497976820454, 1.0005117381240924, 1.0012484413940856, 1.0021732768676568, 1.0000319989760658, 1.0004497976820454, 1.0000499975002501, 1.001056882998328, 1.0, 1.000071994816747, 1.0000319989760658, 1.0033507723248274, 1.0000499975002501, 1.0000179996760123, 1.0000319989760658, 1.0000079999360012, 1.0001619737644996, 1.0000079999360012, 1.0000079999360012, 1.0003918464563548, 1.0001619737644996, 1.0011506759448698, 1.0015655490561528, 1.0000079999360012, 1.0002879171037415, 1.0000019999960004, 1.0005117381240924, 1.0003378858331633, 1.0001999600159919, 1.0000179996760123, 1.0000179996760123, 1.0003918464563548, 1.0000979903978817, 1.0005776663016435, 1.0007214794673778, 1.0003918464563548, 1.000799361021956, 1.0002419414643282, 1.0003378858331633, 1.0003378858331633, 1.0003918464563548, 1.0000079999360012, 1.001056882998328, 1.0003378858331633, 1.000071994816747, 1.0011506759448698, 1.0005117381240924, 1.0006475806393156, 1.0005776663016435, 1.001679180353341, 1.0007214794673787, 1.0014558804122249, 1.001679180353341, 1.0021732768676568, 1.0005776663016435, 1.0000319989760658, 1.0001279836201933, 1.0008812234452398, 1.0000179996760123, 1.0003918464563548, 1.0000079999360012, 1.0002879171037415, 1.0002419414643282, 1.0001279836201933, 1.0012484413940856, 1.0003918464563548, 1.0000979903978817, 1.000071994816747, 1.0005117381240924, 1.0000179996760123, 1.000799361021956, 1.0001619737644996, 1.0, 1.0002419414643282, 1.0020438227884099, 1.0000079999360012, 1.0003378858331633, 1.0000319989760658, 1.0000019999960004, 1.0009670647857005, 1.0001279836201933, 1.0000979903978817, 1.000071994816747, 1.0006475806393156, 1.0001279836201933, 1.0002879171037415, 1.0000499975002501, 1.0027305441287608, 1.0000019999960004, 1.0002419414643282, 1.000071994816747, 1.0002879171037415, 1.0000499975002501, 1.001679180353341, 1.0000179996760123, 1.0000079999360012, 1.0000079999360012, 1.001679180353341, 1.0000979903978817, 1.0012484413940856, 1.000799361021956, 1.0007214794673787, 1.0003378858331633, 1.0000319989760658, 1.0002879171037415, 1.0006475806393156, 1.0014558804122249, 1.0002879171037415, 1.0012484413940856, 1.0000319989760658, 1.0005776663016435, 1.0001279836201933, 1.0002879171037415, 1.0005776663016435, 1.0001999600159919, 1.0005776663016435, 1.0005776663016435, 1.0033507723248274, 1.0020438227884099, 1.0, 1.001796771611775, 1.0012484413940856, 1.0000019999960004, 1.0003378858331633, 1.0002879171037415, 1.0000179996760123, 1.0003918464563548, 1.0000019999960004, 1.0000499975002501, 1.0000319989760658, 1.001056882998328, 1.0000499975002501, 1.000799361021956, 1.0002419414643282, 1.0001999600159919, 1.0005776663016435, 1.0000319989760658, 1.0, 1.0001619737644996, 1.0008812234452398, 1.0000179996760123, 1.0008812234452398, 1.0000319989760658, 1.0000179996760123, 1.0001999600159919, 1.0001999600159919, 1.0003378858331633, 1.0000319989760658, 1.0001999600159919, 1.0011506759448698, 1.0035156402734677, 1.0002879171037415, 1.0008812234452398, 1.0003378858331633, 1.0003918464563548, 1.0005776663016435, 1.0000319989760658, 1.0014558804122249, 1.0000079999360012, 1.0005117381240924, 1.0000079999360012, 1.0000319989760658, 1.0000019999960004, 1.0003918464563548, 1.0011506759448698, 1.0006475806393156, 1.0000319989760658, 1.0000979903978817, 1.0000979903978817, 1.0000319989760658, 1.0021732768676568, 1.0000019999960004, 1.001056882998328, 1.0000499975002501, 1.0, 1.0002879171037415, 1.0001619737644996, 1.0000179996760123, 1.0002879171037415, 1.0005117381240924, 1.0008812234452398, 1.0000319989760658, 1.0002879171037415, 1.0000499975002501, 1.0001619737644996, 1.0001279836201933, 1.0014558804122249, 1.0000979903978817, 1.0000319989760658, 1.0012484413940856, 1.001056882998328, 1.0025853161404537, 1.0000499975002501, 1.0036844250123282, 1.0000179996760123, 1.0000019999960004, 1.0000319989760658, 1.0001619737644996, 1.0, 1.0000019999960004, 1.0011506759448698, 1.0005117381240924, 1.0019183200481923, 1.0002419414643282, 1.0000499975002501, 1.0000979903978817, 1.0000319989760658, 1.0005117381240924, 1.0025853161404537, 1.0031898250163649, 1.0000019999960004, 1.0002879171037415, 1.0000019999960004, 1.0012484413940856, 1.000071994816747, 1.0000499975002501, 1.0, 1.0002419414643282, 1.0001999600159919, 1.0000079999360012, 1.0003378858331633, 1.0006475806393156, 1.0005776663016435, 1.0007214794673787, 1.0000019999960004, 1.0012484413940856, 1.0004497976820454, 1.000071994816747, 1.0000979903978817, 1.0001619737644996, 1.000071994816747, 1.0000499975002501, 1.0038571226052082, 1.0000979903978817, 1.0005117381240924, 1.0000079999360012, 1.0000079999360012, 1.000071994816747, 1.0003918464563548, 1.0001279836201933, 1.0005117381240924, 1.0005117381240924, 1.0, 1.0000019999960004, 1.0000079999360012, 1.0007214794673787, 1.0013501770220095, 1.0000319989760658, 1.0003918464563548, 1.000071994816747, 1.0000079999360012, 1.0000179996760123, 1.0000499975002501, 1.0008812234452398, 1.0005776663016435, 1.0000179996760123, 1.0003918464563548, 1.0001279836201933, 1.0000499975002501, 1.0005117381240924, 1.0014558804122249, 1.0002419414643282, 1.0000019999960004, 1.0003918464563548, 1.0003378858331633, 1.0006475806393156, 1.0004497976820454, 1.001796771611775, 1.0005776663016435, 1.0000499975002501, 1.0, 1.0000019999960004, 1.0000079999360012, 1.0001999600159919, 1.001056882998328, 1.0014558804122249, 1.0003918464563548, 1.0, 1.0019183200481923, 1.0002879171037415, 1.0000319989760658, 1.0002419414643282, 1.0000019999960004, 1.0000319989760658, 1.0001999600159919, 1.0000179996760123, 1.0001279836201933, 1.0008812234452398, 1.0003378858331633, 1.0000319989760658, 1.0001999600159919, 1.0005117381240924, 1.0002419414643282, 1.0000319989760658, 1.0011506759448698, 1.0001619737644996, 1.0002419414643282, 1.0019183200481923, 1.0000319989760658, 1.0000499975002501, 1.000799361021956, 1.0005117381240924, 1.0009670647857005, 1.000071994816747, 1.0015655490561528, 1.0006475806393156, 1.0000179996760123, 1.0001619737644996, 1.0028797072859468, 1.0000019999960004, 1.0027305441287608, 1.0001619737644996, 1.0000979903978817, 1.0013501770220095, 1.0002879171037415, 1.0001619737644996, 1.0006475806393156, 1.0013501770220095, 1.0003378858331633, 1.0, 1.0000499975002501, 1.001056882998328, 1.0000019999960004, 1.0000319989760658, 1.0003918464563548, 1.0003918464563548, 1.0001999600159919, 1.0013501770220095, 1.0001999600159919, 1.0000179996760123, 1.0000499975002501, 1.0000319989760658, 1.0015655490561528, 1.0027305441287608, 1.000071994816747, 1.0005776663016435, 1.001796771611775, 1.0009670647857005, 1.0, 1.0001279836201933, 1.0000319989760658, 1.0000319989760658, 1.0005117381240924, 1.0021732768676568, 1.0000979903978817, 1.0027305441287608, 1.000799361021956, 1.0001279836201933, 1.0000079999360012, 1.0004497976820454, 1.0003378858331633, 1.0001999600159919, 1.0002419414643282, 1.0001279836201933, 1.0000319989760658, 1.000071994816747, 1.0002419414643282, 1.0004497976820454, 1.0, 1.0020438227884099, 1.0003918464563548, 1.0014558804122249, 1.0000019999960004, 1.0002419414643282, 1.0000499975002501, 1.0, 1.0004497976820454, 1.0006475806393156, 1.000799361021956, 1.0001279836201933, 1.0027305441287608, 1.0000019999960004, 1.000071994816747, 1.0000499975002501, 1.0001999600159919, 1.0007214794673778, 1.0000979903978817, 1.0007214794673787, 1.0, 1.0004497976820454, 1.0000019999960004, 1.0004497976820454, 1.0000499975002501, 1.0003378858331633, 1.0006475806393156, 1.0014558804122249, 1.0000179996760123, 1.0004497976820454, 1.0000019999960004, 1.000071994816747, 1.0000979903978817, 1.0004497976820454, 1.0007214794673778, 1.0001279836201933, 1.0000019999960004, 1.0002419414643282, 1.000799361021956, 1.0000319989760658, 1.0001619737644996, 1.001796771611775, 1.0003378858331633, 1.0000499975002501, 1.000071994816747, 1.0015655490561528, 1.0000079999360012, 1.0031898250163649, 1.0000499975002501, 1.0006475806393156, 1.0000079999360012, 1.0001999600159919, 1.0002879171037415, 1.0008812234452398, 1.0000319989760658, 1.000071994816747, 1.0001619737644996, 1.0002419414643282, 1.0008812234452398, 1.002306679230926, 1.000071994816747, 1.0000499975002501, 1.0001279836201933, 1.0006475806393156, 1.0001619737644996, 1.0011506759448698, 1.0011506759448698, 1.0003378858331633, 1.0000979903978817, 1.0015655490561528, 1.0002419414643282, 1.0001999600159919, 1.0001279836201933, 1.0001279836201933, 1.0006475806393156, 1.0009670647857005, 1.0000079999360012, 1.0001279836201933, 1.0002879171037415, 1.0013501770220095, 1.0000499975002501, 1.0011506759448698, 1.0002419414643282, 1.000799361021956, 1.0005776663016435, 1.0000979903978817, 1.0001279836201933, 1.001796771611775, 1.0000179996760123, 1.0001619737644996, 1.0008812234452398, 1.0002419414643282, 1.0000979903978817, 1.001679180353341, 1.0003378858331633, 1.0000179996760123, 1.0000319989760658, 1.0007214794673787, 1.0000179996760123, 1.0001279836201933, 1.0024440267333263, 1.0000079999360012, 1.000071994816747, 1.000799361021956, 1.0000019999960004, 1.0000019999960004, 1.001056882998328, 1.0001279836201933, 1.0011506759448698, 1.0000499975002501, 1.0006475806393156, 1.0001619737644996, 1.0007214794673787, 1.0000019999960004, 1.0000499975002501, 1.0000179996760123, 1.0009670647857005, 1.0000499975002501, 1.0000979903978817, 1.0000319989760658, 1.0027305441287608, 1.0011506759448698, 1.0004497976820454, 1.0020438227884099, 1.0024440267333263, 1.0000979903978817, 1.0000979903978817, 1.0000499975002501, 1.0000179996760123, 1.0001619737644996, 1.0, 1.000071994816747, 1.0009670647857005, 1.0001999600159919, 1.0013501770220095, 1.0003918464563548, 1.001056882998328, 1.0000499975002501, 1.0000079999360012, 1.0000019999960004, 1.0012484413940856, 1.0001999600159919, 1.0002879171037415, 1.0001619737644996, 1.0000079999360012, 1.0004497976820454, 1.0014558804122249, 1.0000979903978817, 1.0001999600159919, 1.0008812234452398, 1.0002419414643282, 1.0000179996760123, 1.0003918464563548, 1.0006475806393156, 1.0005117381240924, 1.0003918464563548, 1.0001999600159919, 1.0007214794673778, 1.0011506759448698, 1.0001619737644996, 1.0000499975002501, 1.0001619737644996, 1.000071994816747, 1.0000979903978817, 1.0002419414643282, 1.0003378858331633, 1.001796771611775, 1.0031898250163649, 1.0000499975002501, 1.0001279836201933, 1.0001279836201933, 1.0000979903978817, 1.0008812234452398, 1.0006475806393156, 1.0002879171037415, 1.0000319989760658, 1.0, 1.0, 1.0000499975002501, 1.0000319989760658, 1.0000179996760123, 1.001679180353341, 1.0003918464563548, 1.0001619737644996, 1.0005117381240924, 1.0002419414643282, 1.0013501770220095, 1.0006475806393156, 1.0007214794673778, 1.0006475806393156, 1.000071994816747, 1.000071994816747, 1.0000019999960004, 1.0012484413940856, 1.0000179996760123, 1.0000979903978817, 1.0000979903978817, 1.0005117381240924, 1.000071994816747, 1.0013501770220095, 1.0000499975002501, 1.0009670647857005, 1.0001279836201933, 1.000071994816747, 1.0000499975002501, 1.0003378858331633, 1.0003918464563548, 1.0000179996760123, 1.0003918464563548, 1.0000019999960004, 1.0021732768676568, 1.0000019999960004, 1.0005117381240924, 1.0021732768676568, 1.0000019999960004, 1.0001279836201933, 1.0004497976820454, 1.0009670647857005, 1.0009670647857005, 1.0000979903978817, 1.0003378858331633, 1.0011506759448698, 1.0001999600159919, 1.0006475806393156, 1.0009670647857005, 1.001056882998328, 1.0020438227884099, 1.0013501770220095, 1.001679180353341, 1.0007214794673778, 1.0028797072859468, 1.0001279836201933, 1.0040337290301116, 1.0001999600159919, 1.0001999600159919, 1.0012484413940856, 1.0000319989760658, 1.003032802111353, 1.001056882998328, 1.0000979903978817, 1.0000019999960004, 1.0011506759448698, 1.0007214794673787, 1.0011506759448698, 1.000071994816747, 1.0000019999960004, 1.0000319989760658, 1.0012484413940856, 1.0001999600159919, 1.0024440267333263, 1.0001619737644996, 1.0000019999960004, 1.0000319989760658, 1.0001999600159919, 1.0002879171037415, 1.0024440267333263, 1.0001999600159919, 1.0002419414643282, 1.0002419414643282, 1.0000319989760658, 1.0009670647857005, 1.0001279836201933, 1.0003378858331633, 1.0005776663016435, 1.0002419414643282, 1.0000979903978817, 1.0000079999360012, 1.0000019999960004, 1.0000499975002501, 1.0000079999360012, 1.000071994816747, 1.000799361021956, 1.0000499975002501, 1.0000179996760123, 1.0003378858331633, 1.000799361021956, 1.0004497976820454, 1.000071994816747, 1.0, 1.0006475806393156, 1.0000019999960004, 1.0000979903978817, 1.0000979903978817, 1.0027305441287608, 1.002306679230926, 1.0000979903978817, 1.0005117381240924, 1.0003378858331633, 1.001679180353341, 1.0000979903978817, 1.0001619737644996, 1.0001279836201933, 1.0001999600159919, 1.0009670647857005, 1.0000319989760658, 1.0000979903978817, 1.0005776663016435, 1.001679180353341, 1.0004497976820454, 1.000071994816747, 1.0006475806393156, 1.0000179996760123, 1.0001999600159919, 1.0000499975002501, 1.000071994816747, 1.0003918464563548, 1.0002419414643282, 1.0011506759448698, 1.0001999600159919, 1.0000079999360012, 1.0000019999960004, 1.0005776663016435, 1.0000179996760123, 1.0013501770220095, 1.0005117381240924, 1.001679180353341, 1.0000179996760123, 1.0000499975002501, 1.0040337290301116, 1.0001619737644996, 1.0025853161404537, 1.0003918464563548, 1.0005117381240924, 1.0004497976820454, 1.0000319989760658, 1.0003918464563548, 1.0021732768676568, 1.0005117381240924, 1.0007214794673787, 1.0003378858331633, 1.0000019999960004, 1.0001619737644996, 1.0004497976820454, 1.0001999600159919, 1.0001279836201933, 1.0006475806393156, 1.0000979903978817, 1.0000979903978817, 1.0002879171037415, 1.000071994816747, 1.0001999600159919, 1.0000079999360012, 1.0000499975002501, 1.000071994816747, 1.0000979903978817, 1.0000019999960004, 1.0000079999360012, 1.0001999600159919, 1.0000179996760123, 1.0000019999960004, 1.0000499975002501, 1.0000179996760123, 1.0015655490561528, 1.0005117381240924, 1.0007214794673787, 1.0014558804122249, 1.0, 1.0000499975002501, 1.0006475806393156, 1.0003378858331633, 1.0005117381240924, 1.0007214794673778, 1.000799361021956, 1.001679180353341, 1.0021732768676568, 1.0005117381240924, 1.0000079999360012, 1.0003918464563548, 1.001056882998328, 1.000071994816747, 1.0008812234452398, 1.0002879171037415, 1.0006475806393156, 1.0014558804122249, 1.0001619737644996, 1.0004497976820454, 1.0002879171037415, 1.0002879171037415, 1.0013501770220095, 1.0002419414643282, 1.001056882998328, 1.000799361021956, 1.001056882998328, 1.001056882998328, 1.0006475806393156, 1.0002419414643282, 1.0000319989760658, 1.0002879171037415, 1.0005776663016435, 1.0003918464563548, 1.0000319989760658, 1.0009670647857005, 1.0000179996760123, 1.0000499975002501, 1.0000079999360012, 1.0000019999960004, 1.0000979903978817, 1.000799361021956, 1.0000019999960004, 1.0000019999960004, 1.0000179996760123, 1.0008812234452398, 1.0002419414643282, 1.0000019999960004, 1.0053790656527046, 1.0001619737644996, 1.0000319989760658, 1.0002419414643282, 1.0000319989760658, 1.0000019999960004, 1.0, 1.0019183200481923, 1.000799361021956, 1.000799361021956, 1.001679180353341, 1.0002879171037415, 1.0021732768676568, 1.0002879171037415, 1.0007214794673787, 1.0001999600159919, 1.0040337290301116, 1.001679180353341, 1.0001279836201933, 1.0000179996760123, 1.0001619737644996, 1.0003378858331633, 1.0000979903978817, 1.0002879171037415, 1.0002419414643282, 1.0004497976820454, 1.0006475806393156, 1.0000019999960004, 1.0001999600159919, 1.0000499975002501, 1.0008812234452398, 1.0000019999960004, 1.0003918464563548, 1.0000179996760123, 1.0006475806393156, 1.0000979903978817, 1.0005776663016435, 1.000071994816747, 1.0001619737644996, 1.0000079999360012, 1.0001619737644996, 1.0003918464563548, 1.0011506759448698, 1.0000079999360012, 1.0003918464563548, 1.0015655490561528, 1.0009670647857005, 1.0006475806393156, 1.000071994816747, 1.0001279836201933, 1.0009670647857005, 1.0000499975002501, 1.0000319989760658, 1.0008812234452398, 1.0000319989760658, 1.0003918464563548, 1.000071994816747, 1.0000179996760123, 1.0000019999960004, 1.0001279836201933, 1.0002879171037415, 1.0000979903978817, 1.0001619737644996, 1.0, 1.0000319989760658, 1.0000179996760123, 1.0000079999360012, 1.0002419414643282, 1.001679180353341, 1.0002419414643282, 1.0008812234452398, 1.0005117381240924, 1.0001999600159919, 1.0012484413940856, 1.0006475806393156, 1.0009670647857005, 1.000071994816747, 1.0038571226052082, 1.0002419414643282, 1.0000319989760658, 1.0002419414643282, 1.0, 1.0, 1.0004497976820454, 1.0033507723248274, 1.0001619737644996, 1.000071994816747, 1.0011506759448698, 1.0020438227884099, 1.0000499975002501, 1.0000079999360012, 1.001796771611775, 1.0000179996760123, 1.0001279836201933, 1.0015655490561528, 1.0000499975002501, 1.0000499975002501, 1.0000179996760123, 1.001056882998328, 1.0001619737644996, 1.0000319989760658, 1.0005776663016435, 1.0000079999360012, 1.0000319989760658, 1.0000019999960004, 1.0003918464563548, 1.0001619737644996, 1.0002879171037415, 1.0, 1.0001619737644996, 1.0001999600159919, 1.0001619737644996, 1.0000019999960004, 1.0008812234452398, 1.000799361021956, 1.000071994816747, 1.0001279836201933, 1.0000079999360012, 1.001056882998328, 1.0005117381240924, 1.000071994816747, 1.0000499975002501, 1.0005117381240924, 1.0003918464563548, 1.0000319989760658, 1.0001279836201933, 1.0003378858331633, 1.000071994816747, 1.0000499975002501, 1.0, 1.0003918464563548, 1.0000319989760658, 1.0000499975002501, 1.0001279836201933, 1.0003378858331633, 1.0001619737644996, 1.0020438227884099, 1.0002419414643282, 1.0004497976820454, 1.0005776663016435, 1.0000179996760123, 1.0002419414643282, 1.0013501770220095, 1.0002419414643282, 1.0, 1.0001619737644996, 1.0001619737644996, 1.0001619737644996, 1.001056882998328, 1.0000979903978817, 1.0004497976820454, 1.0004497976820454, 1.0000179996760123, 1.0005117381240924, 1.0008812234452398, 1.0000319989760658, 1.0004497976820454, 1.0007214794673787, 1.0005117381240924, 1.0001999600159919, 1.001679180353341, 1.0000179996760123, 1.0000319989760658, 1.0001619737644996, 1.0003378858331633, 1.0025853161404537, 1.0008812234452398, 1.0001999600159919, 1.001796771611775, 1.0000079999360012, 1.0012484413940856, 1.0000019999960004, 1.0006475806393156, 1.0000979903978817, 1.0009670647857005, 1.0000499975002501, 1.0, 1.0005776663016435, 1.0007214794673787, 1.000071994816747, 1.0040337290301116, 1.0003378858331633, 1.0009670647857005, 1.0031898250163649, 1.0000179996760123, 1.0014558804122249, 1.0000179996760123, 1.000799361021956, 1.0012484413940856, 1.0000179996760123, 1.000071994816747, 1.0000979903978817, 1.0006475806393156, 1.000071994816747, 1.0002879171037415, 1.0000019999960004, 1.0000499975002501, 1.0002879171037415, 1.0004497976820454, 1.000799361021956, 1.0015655490561528, 1.0000079999360012, 1.0004497976820454, 1.0005776663016435, 1.0006475806393156, 1.000071994816747, 1.0001279836201933, 1.0003918464563548, 1.0004497976820454, 1.0, 1.0000019999960004, 1.0003918464563548, 1.0028797072859468, 1.0000179996760123, 1.0000079999360012, 1.0001279836201933, 1.0001619737644996, 1.0000079999360012, 1.000071994816747, 1.0015655490561528, 1.0003918464563548, 1.000071994816747, 1.0015655490561528, 1.0003378858331633, 1.000071994816747, 1.0001279836201933], \"xbins\": {\"size\": 0.0001}}],\n",
       "                        {\"template\": {\"data\": {\"bar\": [{\"error_x\": {\"color\": \"#2a3f5f\"}, \"error_y\": {\"color\": \"#2a3f5f\"}, \"marker\": {\"line\": {\"color\": \"#E5ECF6\", \"width\": 0.5}}, \"type\": \"bar\"}], \"barpolar\": [{\"marker\": {\"line\": {\"color\": \"#E5ECF6\", \"width\": 0.5}}, \"type\": \"barpolar\"}], \"carpet\": [{\"aaxis\": {\"endlinecolor\": \"#2a3f5f\", \"gridcolor\": \"white\", \"linecolor\": \"white\", \"minorgridcolor\": \"white\", \"startlinecolor\": \"#2a3f5f\"}, \"baxis\": {\"endlinecolor\": \"#2a3f5f\", \"gridcolor\": \"white\", \"linecolor\": \"white\", \"minorgridcolor\": \"white\", \"startlinecolor\": \"#2a3f5f\"}, \"type\": \"carpet\"}], \"choropleth\": [{\"colorbar\": {\"outlinewidth\": 0, \"ticks\": \"\"}, \"type\": \"choropleth\"}], \"contour\": [{\"colorbar\": {\"outlinewidth\": 0, \"ticks\": \"\"}, \"colorscale\": [[0.0, \"#0d0887\"], [0.1111111111111111, \"#46039f\"], [0.2222222222222222, \"#7201a8\"], [0.3333333333333333, \"#9c179e\"], [0.4444444444444444, \"#bd3786\"], [0.5555555555555556, \"#d8576b\"], [0.6666666666666666, \"#ed7953\"], [0.7777777777777778, \"#fb9f3a\"], [0.8888888888888888, \"#fdca26\"], [1.0, \"#f0f921\"]], \"type\": \"contour\"}], \"contourcarpet\": [{\"colorbar\": {\"outlinewidth\": 0, \"ticks\": \"\"}, \"type\": \"contourcarpet\"}], \"heatmap\": [{\"colorbar\": {\"outlinewidth\": 0, \"ticks\": \"\"}, \"colorscale\": [[0.0, \"#0d0887\"], [0.1111111111111111, \"#46039f\"], [0.2222222222222222, \"#7201a8\"], [0.3333333333333333, \"#9c179e\"], [0.4444444444444444, \"#bd3786\"], [0.5555555555555556, \"#d8576b\"], [0.6666666666666666, \"#ed7953\"], [0.7777777777777778, \"#fb9f3a\"], [0.8888888888888888, \"#fdca26\"], [1.0, \"#f0f921\"]], \"type\": \"heatmap\"}], \"heatmapgl\": [{\"colorbar\": {\"outlinewidth\": 0, \"ticks\": \"\"}, \"colorscale\": [[0.0, \"#0d0887\"], [0.1111111111111111, \"#46039f\"], [0.2222222222222222, \"#7201a8\"], [0.3333333333333333, \"#9c179e\"], [0.4444444444444444, \"#bd3786\"], [0.5555555555555556, \"#d8576b\"], [0.6666666666666666, \"#ed7953\"], [0.7777777777777778, \"#fb9f3a\"], [0.8888888888888888, \"#fdca26\"], [1.0, \"#f0f921\"]], \"type\": \"heatmapgl\"}], \"histogram\": [{\"marker\": {\"colorbar\": {\"outlinewidth\": 0, \"ticks\": \"\"}}, \"type\": \"histogram\"}], \"histogram2d\": [{\"colorbar\": {\"outlinewidth\": 0, \"ticks\": \"\"}, \"colorscale\": [[0.0, \"#0d0887\"], [0.1111111111111111, \"#46039f\"], [0.2222222222222222, \"#7201a8\"], [0.3333333333333333, \"#9c179e\"], [0.4444444444444444, \"#bd3786\"], [0.5555555555555556, \"#d8576b\"], [0.6666666666666666, \"#ed7953\"], [0.7777777777777778, \"#fb9f3a\"], [0.8888888888888888, \"#fdca26\"], [1.0, \"#f0f921\"]], \"type\": \"histogram2d\"}], \"histogram2dcontour\": [{\"colorbar\": {\"outlinewidth\": 0, \"ticks\": \"\"}, \"colorscale\": [[0.0, \"#0d0887\"], [0.1111111111111111, \"#46039f\"], [0.2222222222222222, \"#7201a8\"], [0.3333333333333333, \"#9c179e\"], [0.4444444444444444, \"#bd3786\"], [0.5555555555555556, \"#d8576b\"], [0.6666666666666666, \"#ed7953\"], [0.7777777777777778, \"#fb9f3a\"], [0.8888888888888888, \"#fdca26\"], [1.0, \"#f0f921\"]], \"type\": \"histogram2dcontour\"}], \"mesh3d\": [{\"colorbar\": {\"outlinewidth\": 0, \"ticks\": \"\"}, \"type\": \"mesh3d\"}], \"parcoords\": [{\"line\": {\"colorbar\": {\"outlinewidth\": 0, \"ticks\": \"\"}}, \"type\": \"parcoords\"}], \"pie\": [{\"automargin\": true, \"type\": \"pie\"}], \"scatter\": [{\"marker\": {\"colorbar\": {\"outlinewidth\": 0, \"ticks\": \"\"}}, \"type\": \"scatter\"}], \"scatter3d\": [{\"line\": {\"colorbar\": {\"outlinewidth\": 0, \"ticks\": \"\"}}, \"marker\": {\"colorbar\": {\"outlinewidth\": 0, \"ticks\": \"\"}}, \"type\": \"scatter3d\"}], \"scattercarpet\": [{\"marker\": {\"colorbar\": {\"outlinewidth\": 0, \"ticks\": \"\"}}, \"type\": \"scattercarpet\"}], \"scattergeo\": [{\"marker\": {\"colorbar\": {\"outlinewidth\": 0, \"ticks\": \"\"}}, \"type\": \"scattergeo\"}], \"scattergl\": [{\"marker\": {\"colorbar\": {\"outlinewidth\": 0, \"ticks\": \"\"}}, \"type\": \"scattergl\"}], \"scattermapbox\": [{\"marker\": {\"colorbar\": {\"outlinewidth\": 0, \"ticks\": \"\"}}, \"type\": \"scattermapbox\"}], \"scatterpolar\": [{\"marker\": {\"colorbar\": {\"outlinewidth\": 0, \"ticks\": \"\"}}, \"type\": \"scatterpolar\"}], \"scatterpolargl\": [{\"marker\": {\"colorbar\": {\"outlinewidth\": 0, \"ticks\": \"\"}}, \"type\": \"scatterpolargl\"}], \"scatterternary\": [{\"marker\": {\"colorbar\": {\"outlinewidth\": 0, \"ticks\": \"\"}}, \"type\": \"scatterternary\"}], \"surface\": [{\"colorbar\": {\"outlinewidth\": 0, \"ticks\": \"\"}, \"colorscale\": [[0.0, \"#0d0887\"], [0.1111111111111111, \"#46039f\"], [0.2222222222222222, \"#7201a8\"], [0.3333333333333333, \"#9c179e\"], [0.4444444444444444, \"#bd3786\"], [0.5555555555555556, \"#d8576b\"], [0.6666666666666666, \"#ed7953\"], [0.7777777777777778, \"#fb9f3a\"], [0.8888888888888888, \"#fdca26\"], [1.0, \"#f0f921\"]], \"type\": \"surface\"}], \"table\": [{\"cells\": {\"fill\": {\"color\": \"#EBF0F8\"}, \"line\": {\"color\": \"white\"}}, \"header\": {\"fill\": {\"color\": \"#C8D4E3\"}, \"line\": {\"color\": \"white\"}}, \"type\": \"table\"}]}, \"layout\": {\"annotationdefaults\": {\"arrowcolor\": \"#2a3f5f\", \"arrowhead\": 0, \"arrowwidth\": 1}, \"coloraxis\": {\"colorbar\": {\"outlinewidth\": 0, \"ticks\": \"\"}}, \"colorscale\": {\"diverging\": [[0, \"#8e0152\"], [0.1, \"#c51b7d\"], [0.2, \"#de77ae\"], [0.3, \"#f1b6da\"], [0.4, \"#fde0ef\"], [0.5, \"#f7f7f7\"], [0.6, \"#e6f5d0\"], [0.7, \"#b8e186\"], [0.8, \"#7fbc41\"], [0.9, \"#4d9221\"], [1, \"#276419\"]], \"sequential\": [[0.0, \"#0d0887\"], [0.1111111111111111, \"#46039f\"], [0.2222222222222222, \"#7201a8\"], [0.3333333333333333, \"#9c179e\"], [0.4444444444444444, \"#bd3786\"], [0.5555555555555556, \"#d8576b\"], [0.6666666666666666, \"#ed7953\"], [0.7777777777777778, \"#fb9f3a\"], [0.8888888888888888, \"#fdca26\"], [1.0, \"#f0f921\"]], \"sequentialminus\": [[0.0, \"#0d0887\"], [0.1111111111111111, \"#46039f\"], [0.2222222222222222, \"#7201a8\"], [0.3333333333333333, \"#9c179e\"], [0.4444444444444444, \"#bd3786\"], [0.5555555555555556, \"#d8576b\"], [0.6666666666666666, \"#ed7953\"], [0.7777777777777778, \"#fb9f3a\"], [0.8888888888888888, \"#fdca26\"], [1.0, \"#f0f921\"]]}, \"colorway\": [\"#636efa\", \"#EF553B\", \"#00cc96\", \"#ab63fa\", \"#FFA15A\", \"#19d3f3\", \"#FF6692\", \"#B6E880\", \"#FF97FF\", \"#FECB52\"], \"font\": {\"color\": \"#2a3f5f\"}, \"geo\": {\"bgcolor\": \"white\", \"lakecolor\": \"white\", \"landcolor\": \"#E5ECF6\", \"showlakes\": true, \"showland\": true, \"subunitcolor\": \"white\"}, \"hoverlabel\": {\"align\": \"left\"}, \"hovermode\": \"closest\", \"mapbox\": {\"style\": \"light\"}, \"paper_bgcolor\": \"white\", \"plot_bgcolor\": \"#E5ECF6\", \"polar\": {\"angularaxis\": {\"gridcolor\": \"white\", \"linecolor\": \"white\", \"ticks\": \"\"}, \"bgcolor\": \"#E5ECF6\", \"radialaxis\": {\"gridcolor\": \"white\", \"linecolor\": \"white\", \"ticks\": \"\"}}, \"scene\": {\"xaxis\": {\"backgroundcolor\": \"#E5ECF6\", \"gridcolor\": \"white\", \"gridwidth\": 2, \"linecolor\": \"white\", \"showbackground\": true, \"ticks\": \"\", \"zerolinecolor\": \"white\"}, \"yaxis\": {\"backgroundcolor\": \"#E5ECF6\", \"gridcolor\": \"white\", \"gridwidth\": 2, \"linecolor\": \"white\", \"showbackground\": true, \"ticks\": \"\", \"zerolinecolor\": \"white\"}, \"zaxis\": {\"backgroundcolor\": \"#E5ECF6\", \"gridcolor\": \"white\", \"gridwidth\": 2, \"linecolor\": \"white\", \"showbackground\": true, \"ticks\": \"\", \"zerolinecolor\": \"white\"}}, \"shapedefaults\": {\"line\": {\"color\": \"#2a3f5f\"}}, \"ternary\": {\"aaxis\": {\"gridcolor\": \"white\", \"linecolor\": \"white\", \"ticks\": \"\"}, \"baxis\": {\"gridcolor\": \"white\", \"linecolor\": \"white\", \"ticks\": \"\"}, \"bgcolor\": \"#E5ECF6\", \"caxis\": {\"gridcolor\": \"white\", \"linecolor\": \"white\", \"ticks\": \"\"}}, \"title\": {\"x\": 0.05}, \"xaxis\": {\"automargin\": true, \"gridcolor\": \"white\", \"linecolor\": \"white\", \"ticks\": \"\", \"title\": {\"standoff\": 15}, \"zerolinecolor\": \"white\", \"zerolinewidth\": 2}, \"yaxis\": {\"automargin\": true, \"gridcolor\": \"white\", \"linecolor\": \"white\", \"ticks\": \"\", \"title\": {\"standoff\": 15}, \"zerolinecolor\": \"white\", \"zerolinewidth\": 2}}}, \"title\": {\"text\": \"i=0, Nrep=1000\"}, \"xaxis\": {\"dtick\": 0, \"title\": {\"text\": \"value\"}}, \"yaxis\": {\"range\": [0, 1], \"tickvals\": [0.0, 0.1, 0.2, 0.30000000000000004, 0.4, 0.5, 0.6000000000000001, 0.7000000000000001, 0.8, 0.9], \"title\": {\"text\": \"probability\"}}},\n",
       "                        {\"responsive\": true}\n",
       "                    ).then(function(){\n",
       "                            \n",
       "var gd = document.getElementById('86981698-7e1b-4909-8a9c-820a292394a4');\n",
       "var x = new MutationObserver(function (mutations, observer) {{\n",
       "        var display = window.getComputedStyle(gd).display;\n",
       "        if (!display || display === 'none') {{\n",
       "            console.log([gd, 'removed!']);\n",
       "            Plotly.purge(gd);\n",
       "            observer.disconnect();\n",
       "        }}\n",
       "}});\n",
       "\n",
       "// Listen for the removal of the full notebook cells\n",
       "var notebookContainer = gd.closest('#notebook-container');\n",
       "if (notebookContainer) {{\n",
       "    x.observe(notebookContainer, {childList: true});\n",
       "}}\n",
       "\n",
       "// Listen for the clearing of the current output cell\n",
       "var outputEl = gd.closest('.output');\n",
       "if (outputEl) {{\n",
       "    x.observe(outputEl, {childList: true});\n",
       "}}\n",
       "\n",
       "                        })\n",
       "                };\n",
       "                });\n",
       "            </script>\n",
       "        </div>"
      ]
     },
     "metadata": {},
     "output_type": "display_data"
    },
    {
     "data": {
      "application/vnd.plotly.v1+json": {
       "config": {
        "plotlyServerURL": "https://plot.ly"
       },
       "data": [
        {
         "histnorm": "probability",
         "type": "histogram",
         "x": [
          -0.0005776663016440599,
          -7.199481674658318e-05,
          -0.0023066792309258378,
          -0.00028791710374148584,
          -0.000721479467378377,
          -7.999936001245965e-06,
          -1.7999676011885852e-05,
          -0.0002879171037415968,
          -0.00019996001599211714,
          -0.00019996001599211714,
          -1.7999676011885852e-05,
          -7.199481674658318e-05,
          -0.00044979768204544783,
          -0.0005117381240925738,
          -0.0012484413940857576,
          -0.002173276867656729,
          -3.199897606575257e-05,
          -0.00044979768204544783,
          -4.9997500250191195e-05,
          -0.0010568829983280707,
          -2.220446049250313e-16,
          -7.199481674658318e-05,
          -3.199897606575257e-05,
          -0.0033507723248272854,
          -4.9997500250191195e-05,
          -1.7999676011885852e-05,
          -3.199897606575257e-05,
          -7.999936001245965e-06,
          -0.00016197376449972507,
          -7.999936001245965e-06,
          -7.999936001245965e-06,
          -0.00039184645635486585,
          -0.00016197376449983607,
          -0.0011506759448701182,
          -0.0015655490561530074,
          -7.999936001245965e-06,
          -0.0002879171037415968,
          -1.999996000238186e-06,
          -0.0005117381240924628,
          -0.00033788583316396887,
          -0.00019996001599211714,
          -1.7999676011885852e-05,
          -1.7999676011885852e-05,
          -0.00039184645635475493,
          -9.799039788214536e-05,
          -0.0005776663016440599,
          -0.0007214794673782661,
          -0.00039184645635475493,
          -0.000799361021956799,
          -0.00024194146432806088,
          -0.0003378858331638579,
          -0.0003378858331638579,
          -0.00039184645635475493,
          -7.999936001245965e-06,
          -0.0010568829983280707,
          -0.0003378858331638579,
          -7.199481674658318e-05,
          -0.0011506759448701182,
          -0.0005117381240925738,
          -0.0006475806393156956,
          -0.0005776663016440599,
          -0.0016791803533411768,
          -0.000721479467378377,
          -0.0014558804122255227,
          -0.0016791803533411768,
          -0.002173276867656729,
          -0.0005776663016440599,
          -3.199897606575257e-05,
          -0.00012798362019307238,
          -0.0008812234452397858,
          -1.7999676011885852e-05,
          -0.00039184645635475493,
          -7.999936001245965e-06,
          -0.0002879171037415968,
          -0.00024194146432806088,
          -0.00012798362019307238,
          -0.0012484413940857576,
          -0.00039184645635486585,
          -9.799039788203436e-05,
          -7.199481674658318e-05,
          -0.0005117381240924628,
          -1.7999676011885852e-05,
          -0.000799361021956799,
          -0.00016197376449983607,
          -2.220446049250313e-16,
          -0.00024194146432806088,
          -0.002043822788409688,
          -7.999936001245965e-06,
          -0.00033788583316396887,
          -3.199897606575257e-05,
          -1.999996000238186e-06,
          -0.0009670647857004801,
          -0.00012798362019307238,
          -9.799039788203436e-05,
          -7.199481674658318e-05,
          -0.0006475806393158065,
          -0.00012798362019307238,
          -0.00028791710374148584,
          -4.9997500250191195e-05,
          -0.0027305441287611143,
          -1.999996000238186e-06,
          -0.0002419414643279499,
          -7.199481674658318e-05,
          -0.00028791710374148584,
          -4.9997500250191195e-05,
          -0.0016791803533411768,
          -1.7999676011885852e-05,
          -7.999936001245965e-06,
          -7.999936001245965e-06,
          -0.0016791803533411768,
          -9.799039788203436e-05,
          -0.0012484413940857576,
          -0.000799361021956799,
          -0.000721479467378377,
          -0.0003378858331638579,
          -3.199897606575257e-05,
          -0.0002879171037415968,
          -0.0006475806393156956,
          -0.0014558804122255227,
          -0.00028791710374148584,
          -0.0012484413940857576,
          -3.199897606575257e-05,
          -0.0005776663016440599,
          -0.0001279836201931834,
          -0.00028791710374148584,
          -0.0005776663016441708,
          -0.00019996001599211714,
          -0.0005776663016440599,
          -0.0005776663016441708,
          -0.0033507723248272854,
          -0.002043822788409688,
          -2.220446049250313e-16,
          -0.0017967716117753465,
          -0.0012484413940857576,
          -1.999996000238186e-06,
          -0.00033788583316396887,
          -0.0002879171037415968,
          -1.7999676011885852e-05,
          -0.00039184645635475493,
          -1.999996000238186e-06,
          -4.9997500250191195e-05,
          -3.199897606575257e-05,
          -0.0010568829983280707,
          -4.9997500250191195e-05,
          -0.000799361021956799,
          -0.0002419414643279499,
          -0.00019996001599211714,
          -0.0005776663016440599,
          -3.199897606575257e-05,
          -2.220446049250313e-16,
          -0.00016197376449972507,
          -0.0008812234452397858,
          -1.7999676011885852e-05,
          -0.0008812234452397858,
          -3.199897606575257e-05,
          -1.7999676011885852e-05,
          -0.00019996001599222813,
          -0.00019996001599222813,
          -0.00033788583316396887,
          -3.199897606575257e-05,
          -0.00019996001599211714,
          -0.0011506759448701182,
          -0.0035156402734676834,
          -0.0002879171037415968,
          -0.0008812234452397858,
          -0.0003378858331638579,
          -0.00039184645635475493,
          -0.0005776663016441708,
          -3.199897606575257e-05,
          -0.0014558804122255227,
          -7.999936001245965e-06,
          -0.0005117381240924628,
          -7.999936001245965e-06,
          -3.199897606575257e-05,
          -1.999996000238186e-06,
          -0.00039184645635486585,
          -0.0011506759448701182,
          -0.0006475806393158065,
          -3.199897606575257e-05,
          -9.799039788214536e-05,
          -9.799039788214536e-05,
          -3.199897606575257e-05,
          -0.002173276867656729,
          -1.999996000238186e-06,
          -0.0010568829983280707,
          -4.9997500250191195e-05,
          -2.220446049250313e-16,
          -0.0002879171037415968,
          -0.00016197376449983607,
          -1.7999676011885852e-05,
          -0.0002879171037415968,
          -0.0005117381240925738,
          -0.0008812234452397858,
          -3.199897606575257e-05,
          -0.00028791710374148584,
          -4.9997500250191195e-05,
          -0.00016197376449983607,
          -0.00012798362019307238,
          -0.0014558804122255227,
          -9.799039788203436e-05,
          -3.199897606575257e-05,
          -0.0012484413940857576,
          -0.0010568829983280707,
          -0.0025853161404541286,
          -4.9997500250191195e-05,
          -0.0036844250123286397,
          -1.7999676011885852e-05,
          -1.999996000238186e-06,
          -3.199897606575257e-05,
          -0.00016197376449983607,
          -2.220446049250313e-16,
          -1.999996000238186e-06,
          -0.0011506759448701182,
          -0.0005117381240925738,
          -0.0019183200481929243,
          -0.00024194146432806088,
          -4.9997500250191195e-05,
          -9.799039788203436e-05,
          -3.199897606575257e-05,
          -0.0005117381240925738,
          -0.0025853161404541286,
          -0.0031898250163650854,
          -1.999996000238186e-06,
          -0.0002879171037415968,
          -1.999996000238186e-06,
          -0.0012484413940857576,
          -7.199481674658318e-05,
          -4.9997500250191195e-05,
          -2.220446049250313e-16,
          -0.0002419414643279499,
          -0.00019996001599222813,
          -7.999936001245965e-06,
          -0.0003378858331638579,
          -0.0006475806393156956,
          -0.0005776663016441708,
          -0.000721479467378377,
          -1.999996000238186e-06,
          -0.0012484413940857576,
          -0.0004497976820453369,
          -7.199481674658318e-05,
          -9.799039788214536e-05,
          -0.00016197376449983607,
          -7.199481674658318e-05,
          -4.9997500250191195e-05,
          -0.0038571226052085093,
          -9.799039788203436e-05,
          -0.0005117381240924628,
          -7.999936001245965e-06,
          -7.999936001245965e-06,
          -7.199481674658318e-05,
          -0.00039184645635486585,
          -0.00012798362019307238,
          -0.0005117381240924628,
          -0.0005117381240924628,
          -2.220446049250313e-16,
          -1.999996000238186e-06,
          -7.999936001245965e-06,
          -0.000721479467378377,
          -0.0013501770220094662,
          -3.199897606575257e-05,
          -0.00039184645635475493,
          -7.199481674658318e-05,
          -7.999936001245965e-06,
          -1.7999676011885852e-05,
          -4.9997500250191195e-05,
          -0.0008812234452397858,
          -0.0005776663016441708,
          -1.7999676011885852e-05,
          -0.00039184645635475493,
          -0.0001279836201931834,
          -4.9997500250191195e-05,
          -0.0005117381240925738,
          -0.0014558804122255227,
          -0.0002419414643279499,
          -1.999996000238186e-06,
          -0.00039184645635475493,
          -0.0003378858331638579,
          -0.0006475806393156956,
          -0.00044979768204544783,
          -0.0017967716117753465,
          -0.0005776663016441708,
          -4.9997500250191195e-05,
          -2.220446049250313e-16,
          -1.999996000238186e-06,
          -7.999936001245965e-06,
          -0.00019996001599222813,
          -0.0010568829983280707,
          -0.0014558804122255227,
          -0.00039184645635475493,
          -2.220446049250313e-16,
          -0.0019183200481929243,
          -0.0002879171037415968,
          -3.199897606575257e-05,
          -0.0002419414643279499,
          -1.999996000238186e-06,
          -3.199897606575257e-05,
          -0.00019996001599222813,
          -1.7999676011885852e-05,
          -0.0001279836201931834,
          -0.0008812234452397858,
          -0.0003378858331638579,
          -3.199897606575257e-05,
          -0.00019996001599222813,
          -0.0005117381240924628,
          -0.0002419414643279499,
          -3.199897606575257e-05,
          -0.0011506759448701182,
          -0.00016197376449983607,
          -0.0002419414643279499,
          -0.0019183200481929243,
          -3.199897606575257e-05,
          -4.9997500250191195e-05,
          -0.000799361021956799,
          -0.0005117381240924628,
          -0.0009670647857004801,
          -7.199481674658318e-05,
          -0.0015655490561530074,
          -0.0006475806393158065,
          -1.7999676011885852e-05,
          -0.00016197376449972507,
          -0.002879707285947487,
          -1.999996000238186e-06,
          -0.0027305441287611143,
          -0.00016197376449983607,
          -9.799039788214536e-05,
          -0.0013501770220094662,
          -0.0002879171037415968,
          -0.00016197376449983607,
          -0.0006475806393156956,
          -0.0013501770220094662,
          -0.00033788583316396887,
          -2.220446049250313e-16,
          -4.9997500250191195e-05,
          -0.0010568829983280707,
          -1.999996000238186e-06,
          -3.199897606575257e-05,
          -0.00039184645635475493,
          -0.00039184645635475493,
          -0.00019996001599222813,
          -0.0013501770220094662,
          -0.00019996001599222813,
          -1.7999676011885852e-05,
          -4.9997500250191195e-05,
          -3.199897606575257e-05,
          -0.0015655490561530074,
          -0.0027305441287611143,
          -7.199481674658318e-05,
          -0.0005776663016441708,
          -0.0017967716117753465,
          -0.0009670647857004801,
          -2.220446049250313e-16,
          -0.0001279836201931834,
          -3.199897606575257e-05,
          -3.199897606575257e-05,
          -0.0005117381240924628,
          -0.002173276867656729,
          -9.799039788203436e-05,
          -0.0027305441287611143,
          -0.000799361021956799,
          -0.00012798362019307238,
          -7.999936001245965e-06,
          -0.0004497976820453369,
          -0.00033788583316396887,
          -0.00019996001599211714,
          -0.00024194146432806088,
          -0.00012798362019307238,
          -3.199897606575257e-05,
          -7.199481674658318e-05,
          -0.00024194146432806088,
          -0.0004497976820453369,
          -2.220446049250313e-16,
          -0.002043822788409688,
          -0.00039184645635486585,
          -0.0014558804122255227,
          -1.999996000238186e-06,
          -0.00024194146432806088,
          -4.9997500250191195e-05,
          -2.220446049250313e-16,
          -0.00044979768204544783,
          -0.0006475806393158065,
          -0.000799361021956799,
          -0.00012798362019307238,
          -0.0027305441287611143,
          -1.999996000238186e-06,
          -7.199481674658318e-05,
          -4.9997500250191195e-05,
          -0.00019996001599222813,
          -0.0007214794673782661,
          -9.799039788203436e-05,
          -0.000721479467378377,
          -2.220446049250313e-16,
          -0.0004497976820453369,
          -1.999996000238186e-06,
          -0.0004497976820453369,
          -4.9997500250191195e-05,
          -0.0003378858331638579,
          -0.0006475806393156956,
          -0.0014558804122255227,
          -1.7999676011885852e-05,
          -0.00044979768204544783,
          -1.999996000238186e-06,
          -7.199481674658318e-05,
          -9.799039788203436e-05,
          -0.0004497976820453369,
          -0.0007214794673782661,
          -0.00012798362019307238,
          -1.999996000238186e-06,
          -0.00024194146432806088,
          -0.000799361021956799,
          -3.199897606575257e-05,
          -0.00016197376449983607,
          -0.0017967716117753465,
          -0.0003378858331638579,
          -4.9997500250191195e-05,
          -7.199481674658318e-05,
          -0.0015655490561530074,
          -7.999936001245965e-06,
          -0.0031898250163650854,
          -4.9997500250191195e-05,
          -0.0006475806393158065,
          -7.999936001245965e-06,
          -0.00019996001599222813,
          -0.0002879171037415968,
          -0.0008812234452397858,
          -3.199897606575257e-05,
          -7.199481674658318e-05,
          -0.00016197376449972507,
          -0.0002419414643279499,
          -0.0008812234452397858,
          -0.0023066792309258378,
          -7.199481674658318e-05,
          -4.9997500250191195e-05,
          -0.00012798362019307238,
          -0.0006475806393158065,
          -0.00016197376449972507,
          -0.0011506759448701182,
          -0.0011506759448701182,
          -0.0003378858331638579,
          -9.799039788203436e-05,
          -0.0015655490561530074,
          -0.00024194146432806088,
          -0.00019996001599211714,
          -0.00012798362019307238,
          -0.0001279836201931834,
          -0.0006475806393156956,
          -0.0009670647857004801,
          -7.999936001245965e-06,
          -0.00012798362019307238,
          -0.00028791710374148584,
          -0.0013501770220094662,
          -4.9997500250191195e-05,
          -0.0011506759448701182,
          -0.0002419414643279499,
          -0.000799361021956799,
          -0.0005776663016441708,
          -9.799039788203436e-05,
          -0.0001279836201931834,
          -0.0017967716117753465,
          -1.7999676011885852e-05,
          -0.00016197376449983607,
          -0.0008812234452397858,
          -0.00024194146432806088,
          -9.799039788214536e-05,
          -0.0016791803533411768,
          -0.00033788583316396887,
          -1.7999676011885852e-05,
          -3.199897606575257e-05,
          -0.000721479467378377,
          -1.7999676011885852e-05,
          -0.0001279836201931834,
          -0.0024440267333270095,
          -7.999936001245965e-06,
          -7.199481674658318e-05,
          -0.000799361021956799,
          -1.999996000238186e-06,
          -1.999996000238186e-06,
          -0.0010568829983280707,
          -0.00012798362019307238,
          -0.0011506759448701182,
          -4.9997500250191195e-05,
          -0.0006475806393156956,
          -0.00016197376449972507,
          -0.000721479467378377,
          -1.999996000238186e-06,
          -4.9997500250191195e-05,
          -1.7999676011885852e-05,
          -0.0009670647857004801,
          -4.9997500250191195e-05,
          -9.799039788203436e-05,
          -3.199897606575257e-05,
          -0.0027305441287611143,
          -0.0011506759448701182,
          -0.0004497976820453369,
          -0.002043822788409688,
          -0.0024440267333270095,
          -9.799039788214536e-05,
          -9.799039788214536e-05,
          -4.9997500250191195e-05,
          -1.7999676011885852e-05,
          -0.00016197376449972507,
          -2.220446049250313e-16,
          -7.199481674658318e-05,
          -0.0009670647857004801,
          -0.00019996001599222813,
          -0.0013501770220094662,
          -0.00039184645635475493,
          -0.0010568829983280707,
          -4.9997500250191195e-05,
          -7.999936001245965e-06,
          -1.999996000238186e-06,
          -0.0012484413940857576,
          -0.00019996001599222813,
          -0.00028791710374148584,
          -0.00016197376449983607,
          -7.999936001245965e-06,
          -0.00044979768204544783,
          -0.0014558804122255227,
          -9.799039788214536e-05,
          -0.00019996001599222813,
          -0.0008812234452397858,
          -0.0002419414643279499,
          -1.7999676011885852e-05,
          -0.00039184645635486585,
          -0.0006475806393158065,
          -0.0005117381240924628,
          -0.00039184645635475493,
          -0.00019996001599211714,
          -0.0007214794673782661,
          -0.0011506759448701182,
          -0.00016197376449983607,
          -4.9997500250191195e-05,
          -0.00016197376449983607,
          -7.199481674658318e-05,
          -9.799039788214536e-05,
          -0.00024194146432806088,
          -0.0003378858331638579,
          -0.0017967716117753465,
          -0.0031898250163650854,
          -4.9997500250191195e-05,
          -0.00012798362019307238,
          -0.00012798362019307238,
          -9.799039788214536e-05,
          -0.0008812234452397858,
          -0.0006475806393158065,
          -0.00028791710374148584,
          -3.199897606575257e-05,
          -2.220446049250313e-16,
          -2.220446049250313e-16,
          -4.9997500250191195e-05,
          -3.199897606575257e-05,
          -1.7999676011885852e-05,
          -0.0016791803533411768,
          -0.00039184645635475493,
          -0.00016197376449983607,
          -0.0005117381240924628,
          -0.0002419414643279499,
          -0.0013501770220094662,
          -0.0006475806393156956,
          -0.0007214794673782661,
          -0.0006475806393156956,
          -7.199481674658318e-05,
          -7.199481674658318e-05,
          -1.999996000238186e-06,
          -0.0012484413940857576,
          -1.7999676011885852e-05,
          -9.799039788214536e-05,
          -9.799039788203436e-05,
          -0.0005117381240925738,
          -7.199481674658318e-05,
          -0.0013501770220094662,
          -4.9997500250191195e-05,
          -0.0009670647857004801,
          -0.0001279836201931834,
          -7.199481674658318e-05,
          -4.9997500250191195e-05,
          -0.00033788583316396887,
          -0.00039184645635475493,
          -1.7999676011885852e-05,
          -0.00039184645635475493,
          -1.999996000238186e-06,
          -0.002173276867656729,
          -1.999996000238186e-06,
          -0.0005117381240925738,
          -0.002173276867656729,
          -1.999996000238186e-06,
          -0.0001279836201931834,
          -0.0004497976820453369,
          -0.0009670647857004801,
          -0.0009670647857004801,
          -9.799039788214536e-05,
          -0.00033788583316396887,
          -0.0011506759448701182,
          -0.00019996001599222813,
          -0.0006475806393156956,
          -0.0009670647857004801,
          -0.0010568829983280707,
          -0.002043822788409688,
          -0.0013501770220094662,
          -0.0016791803533411768,
          -0.0007214794673782661,
          -0.002879707285947487,
          -0.0001279836201931834,
          -0.004033729030111744,
          -0.00019996001599222813,
          -0.00019996001599211714,
          -0.0012484413940857576,
          -3.199897606575257e-05,
          -0.003032802111353593,
          -0.0010568829983280707,
          -9.799039788203436e-05,
          -1.999996000238186e-06,
          -0.0011506759448701182,
          -0.000721479467378377,
          -0.0011506759448701182,
          -7.199481674658318e-05,
          -1.999996000238186e-06,
          -3.199897606575257e-05,
          -0.0012484413940857576,
          -0.00019996001599211714,
          -0.0024440267333270095,
          -0.00016197376449972507,
          -1.999996000238186e-06,
          -3.199897606575257e-05,
          -0.00019996001599222813,
          -0.0002879171037415968,
          -0.0024440267333270095,
          -0.00019996001599222813,
          -0.0002419414643279499,
          -0.00024194146432806088,
          -3.199897606575257e-05,
          -0.0009670647857004801,
          -0.0001279836201931834,
          -0.00033788583316396887,
          -0.0005776663016441708,
          -0.00024194146432806088,
          -9.799039788214536e-05,
          -7.999936001245965e-06,
          -1.999996000238186e-06,
          -4.9997500250191195e-05,
          -7.999936001245965e-06,
          -7.199481674658318e-05,
          -0.000799361021956799,
          -4.9997500250191195e-05,
          -1.7999676011885852e-05,
          -0.0003378858331638579,
          -0.000799361021956799,
          -0.00044979768204544783,
          -7.199481674658318e-05,
          -2.220446049250313e-16,
          -0.0006475806393156956,
          -1.999996000238186e-06,
          -9.799039788214536e-05,
          -9.799039788203436e-05,
          -0.0027305441287611143,
          -0.0023066792309258378,
          -9.799039788203436e-05,
          -0.0005117381240924628,
          -0.0003378858331638579,
          -0.0016791803533411768,
          -9.799039788214536e-05,
          -0.00016197376449972507,
          -0.00012798362019307238,
          -0.00019996001599211714,
          -0.0009670647857004801,
          -3.199897606575257e-05,
          -9.799039788214536e-05,
          -0.0005776663016440599,
          -0.0016791803533411768,
          -0.0004497976820453369,
          -7.199481674658318e-05,
          -0.0006475806393156956,
          -1.7999676011885852e-05,
          -0.00019996001599211714,
          -4.9997500250191195e-05,
          -7.199481674658318e-05,
          -0.00039184645635486585,
          -0.0002419414643279499,
          -0.0011506759448701182,
          -0.00019996001599211714,
          -7.999936001245965e-06,
          -1.999996000238186e-06,
          -0.0005776663016441708,
          -1.7999676011885852e-05,
          -0.0013501770220094662,
          -0.0005117381240924628,
          -0.0016791803533411768,
          -1.7999676011885852e-05,
          -4.9997500250191195e-05,
          -0.004033729030111744,
          -0.00016197376449972507,
          -0.0025853161404541286,
          -0.00039184645635486585,
          -0.0005117381240924628,
          -0.0004497976820453369,
          -3.199897606575257e-05,
          -0.00039184645635486585,
          -0.002173276867656729,
          -0.0005117381240924628,
          -0.000721479467378377,
          -0.00033788583316396887,
          -1.999996000238186e-06,
          -0.00016197376449983607,
          -0.0004497976820453369,
          -0.00019996001599211714,
          -0.0001279836201931834,
          -0.0006475806393156956,
          -9.799039788214536e-05,
          -9.799039788203436e-05,
          -0.0002879171037415968,
          -7.199481674658318e-05,
          -0.00019996001599222813,
          -7.999936001245965e-06,
          -4.9997500250191195e-05,
          -7.199481674658318e-05,
          -9.799039788214536e-05,
          -1.999996000238186e-06,
          -7.999936001245965e-06,
          -0.00019996001599211714,
          -1.7999676011885852e-05,
          -1.999996000238186e-06,
          -4.9997500250191195e-05,
          -1.7999676011885852e-05,
          -0.0015655490561530074,
          -0.0005117381240924628,
          -0.000721479467378377,
          -0.0014558804122255227,
          -2.220446049250313e-16,
          -4.9997500250191195e-05,
          -0.0006475806393156956,
          -0.0003378858331638579,
          -0.0005117381240924628,
          -0.0007214794673782661,
          -0.000799361021956799,
          -0.0016791803533411768,
          -0.002173276867656729,
          -0.0005117381240924628,
          -7.999936001245965e-06,
          -0.00039184645635475493,
          -0.0010568829983280707,
          -7.199481674658318e-05,
          -0.0008812234452397858,
          -0.00028791710374148584,
          -0.0006475806393156956,
          -0.0014558804122255227,
          -0.00016197376449972507,
          -0.00044979768204544783,
          -0.00028791710374148584,
          -0.00028791710374148584,
          -0.0013501770220094662,
          -0.0002419414643279499,
          -0.0010568829983280707,
          -0.000799361021956799,
          -0.0010568829983280707,
          -0.0010568829983280707,
          -0.0006475806393158065,
          -0.00024194146432806088,
          -3.199897606575257e-05,
          -0.0002879171037415968,
          -0.0005776663016441708,
          -0.00039184645635475493,
          -3.199897606575257e-05,
          -0.0009670647857004801,
          -1.7999676011885852e-05,
          -4.9997500250191195e-05,
          -7.999936001245965e-06,
          -1.999996000238186e-06,
          -9.799039788203436e-05,
          -0.000799361021956799,
          -1.999996000238186e-06,
          -1.999996000238186e-06,
          -1.7999676011885852e-05,
          -0.0008812234452397858,
          -0.00024194146432806088,
          -1.999996000238186e-06,
          -0.005379065652704123,
          -0.00016197376449972507,
          -3.199897606575257e-05,
          -0.00024194146432806088,
          -3.199897606575257e-05,
          -1.999996000238186e-06,
          -2.220446049250313e-16,
          -0.0019183200481929243,
          -0.000799361021956799,
          -0.000799361021956799,
          -0.0016791803533411768,
          -0.0002879171037415968,
          -0.002173276867656729,
          -0.00028791710374148584,
          -0.000721479467378377,
          -0.00019996001599211714,
          -0.004033729030111744,
          -0.0016791803533411768,
          -0.0001279836201931834,
          -1.7999676011885852e-05,
          -0.00016197376449983607,
          -0.00033788583316396887,
          -9.799039788214536e-05,
          -0.0002879171037415968,
          -0.0002419414643279499,
          -0.0004497976820453369,
          -0.0006475806393158065,
          -1.999996000238186e-06,
          -0.00019996001599222813,
          -4.9997500250191195e-05,
          -0.0008812234452397858,
          -1.999996000238186e-06,
          -0.00039184645635475493,
          -1.7999676011885852e-05,
          -0.0006475806393156956,
          -9.799039788214536e-05,
          -0.0005776663016440599,
          -7.199481674658318e-05,
          -0.00016197376449983607,
          -7.999936001245965e-06,
          -0.00016197376449972507,
          -0.00039184645635475493,
          -0.0011506759448701182,
          -7.999936001245965e-06,
          -0.00039184645635475493,
          -0.0015655490561530074,
          -0.0009670647857004801,
          -0.0006475806393156956,
          -7.199481674658318e-05,
          -0.0001279836201931834,
          -0.0009670647857004801,
          -4.9997500250191195e-05,
          -3.199897606575257e-05,
          -0.0008812234452397858,
          -3.199897606575257e-05,
          -0.00039184645635475493,
          -7.199481674658318e-05,
          -1.7999676011885852e-05,
          -1.999996000238186e-06,
          -0.00012798362019307238,
          -0.00028791710374148584,
          -9.799039788214536e-05,
          -0.00016197376449972507,
          -2.220446049250313e-16,
          -3.199897606575257e-05,
          -1.7999676011885852e-05,
          -7.999936001245965e-06,
          -0.0002419414643279499,
          -0.0016791803533411768,
          -0.00024194146432806088,
          -0.0008812234452397858,
          -0.0005117381240924628,
          -0.00019996001599222813,
          -0.0012484413940857576,
          -0.0006475806393158065,
          -0.0009670647857004801,
          -7.199481674658318e-05,
          -0.0038571226052085093,
          -0.00024194146432806088,
          -3.199897606575257e-05,
          -0.00024194146432806088,
          -2.220446049250313e-16,
          -2.220446049250313e-16,
          -0.0004497976820453369,
          -0.0033507723248272854,
          -0.00016197376449972507,
          -7.199481674658318e-05,
          -0.0011506759448701182,
          -0.002043822788409688,
          -4.9997500250191195e-05,
          -7.999936001245965e-06,
          -0.0017967716117753465,
          -1.7999676011885852e-05,
          -0.0001279836201931834,
          -0.0015655490561530074,
          -4.9997500250191195e-05,
          -4.9997500250191195e-05,
          -1.7999676011885852e-05,
          -0.0010568829983280707,
          -0.00016197376449972507,
          -3.199897606575257e-05,
          -0.0005776663016441708,
          -7.999936001245965e-06,
          -3.199897606575257e-05,
          -1.999996000238186e-06,
          -0.00039184645635486585,
          -0.00016197376449972507,
          -0.0002879171037415968,
          -2.220446049250313e-16,
          -0.00016197376449983607,
          -0.00019996001599222813,
          -0.00016197376449983607,
          -1.999996000238186e-06,
          -0.0008812234452397858,
          -0.000799361021956799,
          -7.199481674658318e-05,
          -0.0001279836201931834,
          -7.999936001245965e-06,
          -0.0010568829983280707,
          -0.0005117381240925738,
          -7.199481674658318e-05,
          -4.9997500250191195e-05,
          -0.0005117381240925738,
          -0.00039184645635475493,
          -3.199897606575257e-05,
          -0.0001279836201931834,
          -0.0003378858331638579,
          -7.199481674658318e-05,
          -4.9997500250191195e-05,
          -2.220446049250313e-16,
          -0.00039184645635486585,
          -3.199897606575257e-05,
          -4.9997500250191195e-05,
          -0.00012798362019307238,
          -0.0003378858331638579,
          -0.00016197376449972507,
          -0.002043822788409688,
          -0.00024194146432806088,
          -0.0004497976820453369,
          -0.0005776663016440599,
          -1.7999676011885852e-05,
          -0.00024194146432806088,
          -0.0013501770220094662,
          -0.00024194146432806088,
          -2.220446049250313e-16,
          -0.00016197376449972507,
          -0.00016197376449972507,
          -0.00016197376449983607,
          -0.0010568829983280707,
          -9.799039788214536e-05,
          -0.0004497976820453369,
          -0.00044979768204544783,
          -1.7999676011885852e-05,
          -0.0005117381240925738,
          -0.0008812234452397858,
          -3.199897606575257e-05,
          -0.00044979768204544783,
          -0.000721479467378377,
          -0.0005117381240925738,
          -0.00019996001599211714,
          -0.0016791803533411768,
          -1.7999676011885852e-05,
          -3.199897606575257e-05,
          -0.00016197376449972507,
          -0.00033788583316396887,
          -0.0025853161404541286,
          -0.0008812234452397858,
          -0.00019996001599211714,
          -0.0017967716117753465,
          -7.999936001245965e-06,
          -0.0012484413940857576,
          -1.999996000238186e-06,
          -0.0006475806393156956,
          -9.799039788203436e-05,
          -0.0009670647857004801,
          -4.9997500250191195e-05,
          -2.220446049250313e-16,
          -0.0005776663016441708,
          -0.000721479467378377,
          -7.199481674658318e-05,
          -0.004033729030111744,
          -0.0003378858331638579,
          -0.0009670647857004801,
          -0.0031898250163650854,
          -1.7999676011885852e-05,
          -0.0014558804122255227,
          -1.7999676011885852e-05,
          -0.000799361021956799,
          -0.0012484413940857576,
          -1.7999676011885852e-05,
          -7.199481674658318e-05,
          -9.799039788214536e-05,
          -0.0006475806393156956,
          -7.199481674658318e-05,
          -0.0002879171037415968,
          -1.999996000238186e-06,
          -4.9997500250191195e-05,
          -0.00028791710374148584,
          -0.0004497976820453369,
          -0.000799361021956799,
          -0.0015655490561530074,
          -7.999936001245965e-06,
          -0.0004497976820453369,
          -0.0005776663016440599,
          -0.0006475806393158065,
          -7.199481674658318e-05,
          -0.00012798362019307238,
          -0.00039184645635486585,
          -0.00044979768204544783,
          -2.220446049250313e-16,
          -1.999996000238186e-06,
          -0.00039184645635486585,
          -0.002879707285947487,
          -1.7999676011885852e-05,
          -7.999936001245965e-06,
          -0.0001279836201931834,
          -0.00016197376449972507,
          -7.999936001245965e-06,
          -7.199481674658318e-05,
          -0.0015655490561530074,
          -0.00039184645635475493,
          -7.199481674658318e-05,
          -0.0015655490561530074,
          -0.00033788583316396887,
          -7.199481674658318e-05,
          -0.00012798362019307238
         ],
         "xbins": {
          "size": 0.0001
         }
        }
       ],
       "layout": {
        "template": {
         "data": {
          "bar": [
           {
            "error_x": {
             "color": "#2a3f5f"
            },
            "error_y": {
             "color": "#2a3f5f"
            },
            "marker": {
             "line": {
              "color": "#E5ECF6",
              "width": 0.5
             }
            },
            "type": "bar"
           }
          ],
          "barpolar": [
           {
            "marker": {
             "line": {
              "color": "#E5ECF6",
              "width": 0.5
             }
            },
            "type": "barpolar"
           }
          ],
          "carpet": [
           {
            "aaxis": {
             "endlinecolor": "#2a3f5f",
             "gridcolor": "white",
             "linecolor": "white",
             "minorgridcolor": "white",
             "startlinecolor": "#2a3f5f"
            },
            "baxis": {
             "endlinecolor": "#2a3f5f",
             "gridcolor": "white",
             "linecolor": "white",
             "minorgridcolor": "white",
             "startlinecolor": "#2a3f5f"
            },
            "type": "carpet"
           }
          ],
          "choropleth": [
           {
            "colorbar": {
             "outlinewidth": 0,
             "ticks": ""
            },
            "type": "choropleth"
           }
          ],
          "contour": [
           {
            "colorbar": {
             "outlinewidth": 0,
             "ticks": ""
            },
            "colorscale": [
             [
              0,
              "#0d0887"
             ],
             [
              0.1111111111111111,
              "#46039f"
             ],
             [
              0.2222222222222222,
              "#7201a8"
             ],
             [
              0.3333333333333333,
              "#9c179e"
             ],
             [
              0.4444444444444444,
              "#bd3786"
             ],
             [
              0.5555555555555556,
              "#d8576b"
             ],
             [
              0.6666666666666666,
              "#ed7953"
             ],
             [
              0.7777777777777778,
              "#fb9f3a"
             ],
             [
              0.8888888888888888,
              "#fdca26"
             ],
             [
              1,
              "#f0f921"
             ]
            ],
            "type": "contour"
           }
          ],
          "contourcarpet": [
           {
            "colorbar": {
             "outlinewidth": 0,
             "ticks": ""
            },
            "type": "contourcarpet"
           }
          ],
          "heatmap": [
           {
            "colorbar": {
             "outlinewidth": 0,
             "ticks": ""
            },
            "colorscale": [
             [
              0,
              "#0d0887"
             ],
             [
              0.1111111111111111,
              "#46039f"
             ],
             [
              0.2222222222222222,
              "#7201a8"
             ],
             [
              0.3333333333333333,
              "#9c179e"
             ],
             [
              0.4444444444444444,
              "#bd3786"
             ],
             [
              0.5555555555555556,
              "#d8576b"
             ],
             [
              0.6666666666666666,
              "#ed7953"
             ],
             [
              0.7777777777777778,
              "#fb9f3a"
             ],
             [
              0.8888888888888888,
              "#fdca26"
             ],
             [
              1,
              "#f0f921"
             ]
            ],
            "type": "heatmap"
           }
          ],
          "heatmapgl": [
           {
            "colorbar": {
             "outlinewidth": 0,
             "ticks": ""
            },
            "colorscale": [
             [
              0,
              "#0d0887"
             ],
             [
              0.1111111111111111,
              "#46039f"
             ],
             [
              0.2222222222222222,
              "#7201a8"
             ],
             [
              0.3333333333333333,
              "#9c179e"
             ],
             [
              0.4444444444444444,
              "#bd3786"
             ],
             [
              0.5555555555555556,
              "#d8576b"
             ],
             [
              0.6666666666666666,
              "#ed7953"
             ],
             [
              0.7777777777777778,
              "#fb9f3a"
             ],
             [
              0.8888888888888888,
              "#fdca26"
             ],
             [
              1,
              "#f0f921"
             ]
            ],
            "type": "heatmapgl"
           }
          ],
          "histogram": [
           {
            "marker": {
             "colorbar": {
              "outlinewidth": 0,
              "ticks": ""
             }
            },
            "type": "histogram"
           }
          ],
          "histogram2d": [
           {
            "colorbar": {
             "outlinewidth": 0,
             "ticks": ""
            },
            "colorscale": [
             [
              0,
              "#0d0887"
             ],
             [
              0.1111111111111111,
              "#46039f"
             ],
             [
              0.2222222222222222,
              "#7201a8"
             ],
             [
              0.3333333333333333,
              "#9c179e"
             ],
             [
              0.4444444444444444,
              "#bd3786"
             ],
             [
              0.5555555555555556,
              "#d8576b"
             ],
             [
              0.6666666666666666,
              "#ed7953"
             ],
             [
              0.7777777777777778,
              "#fb9f3a"
             ],
             [
              0.8888888888888888,
              "#fdca26"
             ],
             [
              1,
              "#f0f921"
             ]
            ],
            "type": "histogram2d"
           }
          ],
          "histogram2dcontour": [
           {
            "colorbar": {
             "outlinewidth": 0,
             "ticks": ""
            },
            "colorscale": [
             [
              0,
              "#0d0887"
             ],
             [
              0.1111111111111111,
              "#46039f"
             ],
             [
              0.2222222222222222,
              "#7201a8"
             ],
             [
              0.3333333333333333,
              "#9c179e"
             ],
             [
              0.4444444444444444,
              "#bd3786"
             ],
             [
              0.5555555555555556,
              "#d8576b"
             ],
             [
              0.6666666666666666,
              "#ed7953"
             ],
             [
              0.7777777777777778,
              "#fb9f3a"
             ],
             [
              0.8888888888888888,
              "#fdca26"
             ],
             [
              1,
              "#f0f921"
             ]
            ],
            "type": "histogram2dcontour"
           }
          ],
          "mesh3d": [
           {
            "colorbar": {
             "outlinewidth": 0,
             "ticks": ""
            },
            "type": "mesh3d"
           }
          ],
          "parcoords": [
           {
            "line": {
             "colorbar": {
              "outlinewidth": 0,
              "ticks": ""
             }
            },
            "type": "parcoords"
           }
          ],
          "pie": [
           {
            "automargin": true,
            "type": "pie"
           }
          ],
          "scatter": [
           {
            "marker": {
             "colorbar": {
              "outlinewidth": 0,
              "ticks": ""
             }
            },
            "type": "scatter"
           }
          ],
          "scatter3d": [
           {
            "line": {
             "colorbar": {
              "outlinewidth": 0,
              "ticks": ""
             }
            },
            "marker": {
             "colorbar": {
              "outlinewidth": 0,
              "ticks": ""
             }
            },
            "type": "scatter3d"
           }
          ],
          "scattercarpet": [
           {
            "marker": {
             "colorbar": {
              "outlinewidth": 0,
              "ticks": ""
             }
            },
            "type": "scattercarpet"
           }
          ],
          "scattergeo": [
           {
            "marker": {
             "colorbar": {
              "outlinewidth": 0,
              "ticks": ""
             }
            },
            "type": "scattergeo"
           }
          ],
          "scattergl": [
           {
            "marker": {
             "colorbar": {
              "outlinewidth": 0,
              "ticks": ""
             }
            },
            "type": "scattergl"
           }
          ],
          "scattermapbox": [
           {
            "marker": {
             "colorbar": {
              "outlinewidth": 0,
              "ticks": ""
             }
            },
            "type": "scattermapbox"
           }
          ],
          "scatterpolar": [
           {
            "marker": {
             "colorbar": {
              "outlinewidth": 0,
              "ticks": ""
             }
            },
            "type": "scatterpolar"
           }
          ],
          "scatterpolargl": [
           {
            "marker": {
             "colorbar": {
              "outlinewidth": 0,
              "ticks": ""
             }
            },
            "type": "scatterpolargl"
           }
          ],
          "scatterternary": [
           {
            "marker": {
             "colorbar": {
              "outlinewidth": 0,
              "ticks": ""
             }
            },
            "type": "scatterternary"
           }
          ],
          "surface": [
           {
            "colorbar": {
             "outlinewidth": 0,
             "ticks": ""
            },
            "colorscale": [
             [
              0,
              "#0d0887"
             ],
             [
              0.1111111111111111,
              "#46039f"
             ],
             [
              0.2222222222222222,
              "#7201a8"
             ],
             [
              0.3333333333333333,
              "#9c179e"
             ],
             [
              0.4444444444444444,
              "#bd3786"
             ],
             [
              0.5555555555555556,
              "#d8576b"
             ],
             [
              0.6666666666666666,
              "#ed7953"
             ],
             [
              0.7777777777777778,
              "#fb9f3a"
             ],
             [
              0.8888888888888888,
              "#fdca26"
             ],
             [
              1,
              "#f0f921"
             ]
            ],
            "type": "surface"
           }
          ],
          "table": [
           {
            "cells": {
             "fill": {
              "color": "#EBF0F8"
             },
             "line": {
              "color": "white"
             }
            },
            "header": {
             "fill": {
              "color": "#C8D4E3"
             },
             "line": {
              "color": "white"
             }
            },
            "type": "table"
           }
          ]
         },
         "layout": {
          "annotationdefaults": {
           "arrowcolor": "#2a3f5f",
           "arrowhead": 0,
           "arrowwidth": 1
          },
          "coloraxis": {
           "colorbar": {
            "outlinewidth": 0,
            "ticks": ""
           }
          },
          "colorscale": {
           "diverging": [
            [
             0,
             "#8e0152"
            ],
            [
             0.1,
             "#c51b7d"
            ],
            [
             0.2,
             "#de77ae"
            ],
            [
             0.3,
             "#f1b6da"
            ],
            [
             0.4,
             "#fde0ef"
            ],
            [
             0.5,
             "#f7f7f7"
            ],
            [
             0.6,
             "#e6f5d0"
            ],
            [
             0.7,
             "#b8e186"
            ],
            [
             0.8,
             "#7fbc41"
            ],
            [
             0.9,
             "#4d9221"
            ],
            [
             1,
             "#276419"
            ]
           ],
           "sequential": [
            [
             0,
             "#0d0887"
            ],
            [
             0.1111111111111111,
             "#46039f"
            ],
            [
             0.2222222222222222,
             "#7201a8"
            ],
            [
             0.3333333333333333,
             "#9c179e"
            ],
            [
             0.4444444444444444,
             "#bd3786"
            ],
            [
             0.5555555555555556,
             "#d8576b"
            ],
            [
             0.6666666666666666,
             "#ed7953"
            ],
            [
             0.7777777777777778,
             "#fb9f3a"
            ],
            [
             0.8888888888888888,
             "#fdca26"
            ],
            [
             1,
             "#f0f921"
            ]
           ],
           "sequentialminus": [
            [
             0,
             "#0d0887"
            ],
            [
             0.1111111111111111,
             "#46039f"
            ],
            [
             0.2222222222222222,
             "#7201a8"
            ],
            [
             0.3333333333333333,
             "#9c179e"
            ],
            [
             0.4444444444444444,
             "#bd3786"
            ],
            [
             0.5555555555555556,
             "#d8576b"
            ],
            [
             0.6666666666666666,
             "#ed7953"
            ],
            [
             0.7777777777777778,
             "#fb9f3a"
            ],
            [
             0.8888888888888888,
             "#fdca26"
            ],
            [
             1,
             "#f0f921"
            ]
           ]
          },
          "colorway": [
           "#636efa",
           "#EF553B",
           "#00cc96",
           "#ab63fa",
           "#FFA15A",
           "#19d3f3",
           "#FF6692",
           "#B6E880",
           "#FF97FF",
           "#FECB52"
          ],
          "font": {
           "color": "#2a3f5f"
          },
          "geo": {
           "bgcolor": "white",
           "lakecolor": "white",
           "landcolor": "#E5ECF6",
           "showlakes": true,
           "showland": true,
           "subunitcolor": "white"
          },
          "hoverlabel": {
           "align": "left"
          },
          "hovermode": "closest",
          "mapbox": {
           "style": "light"
          },
          "paper_bgcolor": "white",
          "plot_bgcolor": "#E5ECF6",
          "polar": {
           "angularaxis": {
            "gridcolor": "white",
            "linecolor": "white",
            "ticks": ""
           },
           "bgcolor": "#E5ECF6",
           "radialaxis": {
            "gridcolor": "white",
            "linecolor": "white",
            "ticks": ""
           }
          },
          "scene": {
           "xaxis": {
            "backgroundcolor": "#E5ECF6",
            "gridcolor": "white",
            "gridwidth": 2,
            "linecolor": "white",
            "showbackground": true,
            "ticks": "",
            "zerolinecolor": "white"
           },
           "yaxis": {
            "backgroundcolor": "#E5ECF6",
            "gridcolor": "white",
            "gridwidth": 2,
            "linecolor": "white",
            "showbackground": true,
            "ticks": "",
            "zerolinecolor": "white"
           },
           "zaxis": {
            "backgroundcolor": "#E5ECF6",
            "gridcolor": "white",
            "gridwidth": 2,
            "linecolor": "white",
            "showbackground": true,
            "ticks": "",
            "zerolinecolor": "white"
           }
          },
          "shapedefaults": {
           "line": {
            "color": "#2a3f5f"
           }
          },
          "ternary": {
           "aaxis": {
            "gridcolor": "white",
            "linecolor": "white",
            "ticks": ""
           },
           "baxis": {
            "gridcolor": "white",
            "linecolor": "white",
            "ticks": ""
           },
           "bgcolor": "#E5ECF6",
           "caxis": {
            "gridcolor": "white",
            "linecolor": "white",
            "ticks": ""
           }
          },
          "title": {
           "x": 0.05
          },
          "xaxis": {
           "automargin": true,
           "gridcolor": "white",
           "linecolor": "white",
           "ticks": "",
           "title": {
            "standoff": 15
           },
           "zerolinecolor": "white",
           "zerolinewidth": 2
          },
          "yaxis": {
           "automargin": true,
           "gridcolor": "white",
           "linecolor": "white",
           "ticks": "",
           "title": {
            "standoff": 15
           },
           "zerolinecolor": "white",
           "zerolinewidth": 2
          }
         }
        },
        "title": {
         "text": "i=1, Nrep=1000"
        },
        "xaxis": {
         "dtick": 0,
         "title": {
          "text": "value"
         }
        },
        "yaxis": {
         "range": [
          0,
          1
         ],
         "tickvals": [
          0,
          0.1,
          0.2,
          0.30000000000000004,
          0.4,
          0.5,
          0.6000000000000001,
          0.7000000000000001,
          0.8,
          0.9
         ],
         "title": {
          "text": "probability"
         }
        }
       }
      },
      "text/html": [
       "<div>\n",
       "        \n",
       "        \n",
       "            <div id=\"c832c2f4-5c71-4896-a5cd-a2136ded1c2d\" class=\"plotly-graph-div\" style=\"height:525px; width:100%;\"></div>\n",
       "            <script type=\"text/javascript\">\n",
       "                require([\"plotly\"], function(Plotly) {\n",
       "                    window.PLOTLYENV=window.PLOTLYENV || {};\n",
       "                    \n",
       "                if (document.getElementById(\"c832c2f4-5c71-4896-a5cd-a2136ded1c2d\")) {\n",
       "                    Plotly.newPlot(\n",
       "                        'c832c2f4-5c71-4896-a5cd-a2136ded1c2d',\n",
       "                        [{\"histnorm\": \"probability\", \"type\": \"histogram\", \"x\": [-0.0005776663016440599, -7.199481674658318e-05, -0.0023066792309258378, -0.00028791710374148584, -0.000721479467378377, -7.999936001245965e-06, -1.7999676011885852e-05, -0.0002879171037415968, -0.00019996001599211714, -0.00019996001599211714, -1.7999676011885852e-05, -7.199481674658318e-05, -0.00044979768204544783, -0.0005117381240925738, -0.0012484413940857576, -0.002173276867656729, -3.199897606575257e-05, -0.00044979768204544783, -4.9997500250191195e-05, -0.0010568829983280707, -2.220446049250313e-16, -7.199481674658318e-05, -3.199897606575257e-05, -0.0033507723248272854, -4.9997500250191195e-05, -1.7999676011885852e-05, -3.199897606575257e-05, -7.999936001245965e-06, -0.00016197376449972507, -7.999936001245965e-06, -7.999936001245965e-06, -0.00039184645635486585, -0.00016197376449983607, -0.0011506759448701182, -0.0015655490561530074, -7.999936001245965e-06, -0.0002879171037415968, -1.999996000238186e-06, -0.0005117381240924628, -0.00033788583316396887, -0.00019996001599211714, -1.7999676011885852e-05, -1.7999676011885852e-05, -0.00039184645635475493, -9.799039788214536e-05, -0.0005776663016440599, -0.0007214794673782661, -0.00039184645635475493, -0.000799361021956799, -0.00024194146432806088, -0.0003378858331638579, -0.0003378858331638579, -0.00039184645635475493, -7.999936001245965e-06, -0.0010568829983280707, -0.0003378858331638579, -7.199481674658318e-05, -0.0011506759448701182, -0.0005117381240925738, -0.0006475806393156956, -0.0005776663016440599, -0.0016791803533411768, -0.000721479467378377, -0.0014558804122255227, -0.0016791803533411768, -0.002173276867656729, -0.0005776663016440599, -3.199897606575257e-05, -0.00012798362019307238, -0.0008812234452397858, -1.7999676011885852e-05, -0.00039184645635475493, -7.999936001245965e-06, -0.0002879171037415968, -0.00024194146432806088, -0.00012798362019307238, -0.0012484413940857576, -0.00039184645635486585, -9.799039788203436e-05, -7.199481674658318e-05, -0.0005117381240924628, -1.7999676011885852e-05, -0.000799361021956799, -0.00016197376449983607, -2.220446049250313e-16, -0.00024194146432806088, -0.002043822788409688, -7.999936001245965e-06, -0.00033788583316396887, -3.199897606575257e-05, -1.999996000238186e-06, -0.0009670647857004801, -0.00012798362019307238, -9.799039788203436e-05, -7.199481674658318e-05, -0.0006475806393158065, -0.00012798362019307238, -0.00028791710374148584, -4.9997500250191195e-05, -0.0027305441287611143, -1.999996000238186e-06, -0.0002419414643279499, -7.199481674658318e-05, -0.00028791710374148584, -4.9997500250191195e-05, -0.0016791803533411768, -1.7999676011885852e-05, -7.999936001245965e-06, -7.999936001245965e-06, -0.0016791803533411768, -9.799039788203436e-05, -0.0012484413940857576, -0.000799361021956799, -0.000721479467378377, -0.0003378858331638579, -3.199897606575257e-05, -0.0002879171037415968, -0.0006475806393156956, -0.0014558804122255227, -0.00028791710374148584, -0.0012484413940857576, -3.199897606575257e-05, -0.0005776663016440599, -0.0001279836201931834, -0.00028791710374148584, -0.0005776663016441708, -0.00019996001599211714, -0.0005776663016440599, -0.0005776663016441708, -0.0033507723248272854, -0.002043822788409688, -2.220446049250313e-16, -0.0017967716117753465, -0.0012484413940857576, -1.999996000238186e-06, -0.00033788583316396887, -0.0002879171037415968, -1.7999676011885852e-05, -0.00039184645635475493, -1.999996000238186e-06, -4.9997500250191195e-05, -3.199897606575257e-05, -0.0010568829983280707, -4.9997500250191195e-05, -0.000799361021956799, -0.0002419414643279499, -0.00019996001599211714, -0.0005776663016440599, -3.199897606575257e-05, -2.220446049250313e-16, -0.00016197376449972507, -0.0008812234452397858, -1.7999676011885852e-05, -0.0008812234452397858, -3.199897606575257e-05, -1.7999676011885852e-05, -0.00019996001599222813, -0.00019996001599222813, -0.00033788583316396887, -3.199897606575257e-05, -0.00019996001599211714, -0.0011506759448701182, -0.0035156402734676834, -0.0002879171037415968, -0.0008812234452397858, -0.0003378858331638579, -0.00039184645635475493, -0.0005776663016441708, -3.199897606575257e-05, -0.0014558804122255227, -7.999936001245965e-06, -0.0005117381240924628, -7.999936001245965e-06, -3.199897606575257e-05, -1.999996000238186e-06, -0.00039184645635486585, -0.0011506759448701182, -0.0006475806393158065, -3.199897606575257e-05, -9.799039788214536e-05, -9.799039788214536e-05, -3.199897606575257e-05, -0.002173276867656729, -1.999996000238186e-06, -0.0010568829983280707, -4.9997500250191195e-05, -2.220446049250313e-16, -0.0002879171037415968, -0.00016197376449983607, -1.7999676011885852e-05, -0.0002879171037415968, -0.0005117381240925738, -0.0008812234452397858, -3.199897606575257e-05, -0.00028791710374148584, -4.9997500250191195e-05, -0.00016197376449983607, -0.00012798362019307238, -0.0014558804122255227, -9.799039788203436e-05, -3.199897606575257e-05, -0.0012484413940857576, -0.0010568829983280707, -0.0025853161404541286, -4.9997500250191195e-05, -0.0036844250123286397, -1.7999676011885852e-05, -1.999996000238186e-06, -3.199897606575257e-05, -0.00016197376449983607, -2.220446049250313e-16, -1.999996000238186e-06, -0.0011506759448701182, -0.0005117381240925738, -0.0019183200481929243, -0.00024194146432806088, -4.9997500250191195e-05, -9.799039788203436e-05, -3.199897606575257e-05, -0.0005117381240925738, -0.0025853161404541286, -0.0031898250163650854, -1.999996000238186e-06, -0.0002879171037415968, -1.999996000238186e-06, -0.0012484413940857576, -7.199481674658318e-05, -4.9997500250191195e-05, -2.220446049250313e-16, -0.0002419414643279499, -0.00019996001599222813, -7.999936001245965e-06, -0.0003378858331638579, -0.0006475806393156956, -0.0005776663016441708, -0.000721479467378377, -1.999996000238186e-06, -0.0012484413940857576, -0.0004497976820453369, -7.199481674658318e-05, -9.799039788214536e-05, -0.00016197376449983607, -7.199481674658318e-05, -4.9997500250191195e-05, -0.0038571226052085093, -9.799039788203436e-05, -0.0005117381240924628, -7.999936001245965e-06, -7.999936001245965e-06, -7.199481674658318e-05, -0.00039184645635486585, -0.00012798362019307238, -0.0005117381240924628, -0.0005117381240924628, -2.220446049250313e-16, -1.999996000238186e-06, -7.999936001245965e-06, -0.000721479467378377, -0.0013501770220094662, -3.199897606575257e-05, -0.00039184645635475493, -7.199481674658318e-05, -7.999936001245965e-06, -1.7999676011885852e-05, -4.9997500250191195e-05, -0.0008812234452397858, -0.0005776663016441708, -1.7999676011885852e-05, -0.00039184645635475493, -0.0001279836201931834, -4.9997500250191195e-05, -0.0005117381240925738, -0.0014558804122255227, -0.0002419414643279499, -1.999996000238186e-06, -0.00039184645635475493, -0.0003378858331638579, -0.0006475806393156956, -0.00044979768204544783, -0.0017967716117753465, -0.0005776663016441708, -4.9997500250191195e-05, -2.220446049250313e-16, -1.999996000238186e-06, -7.999936001245965e-06, -0.00019996001599222813, -0.0010568829983280707, -0.0014558804122255227, -0.00039184645635475493, -2.220446049250313e-16, -0.0019183200481929243, -0.0002879171037415968, -3.199897606575257e-05, -0.0002419414643279499, -1.999996000238186e-06, -3.199897606575257e-05, -0.00019996001599222813, -1.7999676011885852e-05, -0.0001279836201931834, -0.0008812234452397858, -0.0003378858331638579, -3.199897606575257e-05, -0.00019996001599222813, -0.0005117381240924628, -0.0002419414643279499, -3.199897606575257e-05, -0.0011506759448701182, -0.00016197376449983607, -0.0002419414643279499, -0.0019183200481929243, -3.199897606575257e-05, -4.9997500250191195e-05, -0.000799361021956799, -0.0005117381240924628, -0.0009670647857004801, -7.199481674658318e-05, -0.0015655490561530074, -0.0006475806393158065, -1.7999676011885852e-05, -0.00016197376449972507, -0.002879707285947487, -1.999996000238186e-06, -0.0027305441287611143, -0.00016197376449983607, -9.799039788214536e-05, -0.0013501770220094662, -0.0002879171037415968, -0.00016197376449983607, -0.0006475806393156956, -0.0013501770220094662, -0.00033788583316396887, -2.220446049250313e-16, -4.9997500250191195e-05, -0.0010568829983280707, -1.999996000238186e-06, -3.199897606575257e-05, -0.00039184645635475493, -0.00039184645635475493, -0.00019996001599222813, -0.0013501770220094662, -0.00019996001599222813, -1.7999676011885852e-05, -4.9997500250191195e-05, -3.199897606575257e-05, -0.0015655490561530074, -0.0027305441287611143, -7.199481674658318e-05, -0.0005776663016441708, -0.0017967716117753465, -0.0009670647857004801, -2.220446049250313e-16, -0.0001279836201931834, -3.199897606575257e-05, -3.199897606575257e-05, -0.0005117381240924628, -0.002173276867656729, -9.799039788203436e-05, -0.0027305441287611143, -0.000799361021956799, -0.00012798362019307238, -7.999936001245965e-06, -0.0004497976820453369, -0.00033788583316396887, -0.00019996001599211714, -0.00024194146432806088, -0.00012798362019307238, -3.199897606575257e-05, -7.199481674658318e-05, -0.00024194146432806088, -0.0004497976820453369, -2.220446049250313e-16, -0.002043822788409688, -0.00039184645635486585, -0.0014558804122255227, -1.999996000238186e-06, -0.00024194146432806088, -4.9997500250191195e-05, -2.220446049250313e-16, -0.00044979768204544783, -0.0006475806393158065, -0.000799361021956799, -0.00012798362019307238, -0.0027305441287611143, -1.999996000238186e-06, -7.199481674658318e-05, -4.9997500250191195e-05, -0.00019996001599222813, -0.0007214794673782661, -9.799039788203436e-05, -0.000721479467378377, -2.220446049250313e-16, -0.0004497976820453369, -1.999996000238186e-06, -0.0004497976820453369, -4.9997500250191195e-05, -0.0003378858331638579, -0.0006475806393156956, -0.0014558804122255227, -1.7999676011885852e-05, -0.00044979768204544783, -1.999996000238186e-06, -7.199481674658318e-05, -9.799039788203436e-05, -0.0004497976820453369, -0.0007214794673782661, -0.00012798362019307238, -1.999996000238186e-06, -0.00024194146432806088, -0.000799361021956799, -3.199897606575257e-05, -0.00016197376449983607, -0.0017967716117753465, -0.0003378858331638579, -4.9997500250191195e-05, -7.199481674658318e-05, -0.0015655490561530074, -7.999936001245965e-06, -0.0031898250163650854, -4.9997500250191195e-05, -0.0006475806393158065, -7.999936001245965e-06, -0.00019996001599222813, -0.0002879171037415968, -0.0008812234452397858, -3.199897606575257e-05, -7.199481674658318e-05, -0.00016197376449972507, -0.0002419414643279499, -0.0008812234452397858, -0.0023066792309258378, -7.199481674658318e-05, -4.9997500250191195e-05, -0.00012798362019307238, -0.0006475806393158065, -0.00016197376449972507, -0.0011506759448701182, -0.0011506759448701182, -0.0003378858331638579, -9.799039788203436e-05, -0.0015655490561530074, -0.00024194146432806088, -0.00019996001599211714, -0.00012798362019307238, -0.0001279836201931834, -0.0006475806393156956, -0.0009670647857004801, -7.999936001245965e-06, -0.00012798362019307238, -0.00028791710374148584, -0.0013501770220094662, -4.9997500250191195e-05, -0.0011506759448701182, -0.0002419414643279499, -0.000799361021956799, -0.0005776663016441708, -9.799039788203436e-05, -0.0001279836201931834, -0.0017967716117753465, -1.7999676011885852e-05, -0.00016197376449983607, -0.0008812234452397858, -0.00024194146432806088, -9.799039788214536e-05, -0.0016791803533411768, -0.00033788583316396887, -1.7999676011885852e-05, -3.199897606575257e-05, -0.000721479467378377, -1.7999676011885852e-05, -0.0001279836201931834, -0.0024440267333270095, -7.999936001245965e-06, -7.199481674658318e-05, -0.000799361021956799, -1.999996000238186e-06, -1.999996000238186e-06, -0.0010568829983280707, -0.00012798362019307238, -0.0011506759448701182, -4.9997500250191195e-05, -0.0006475806393156956, -0.00016197376449972507, -0.000721479467378377, -1.999996000238186e-06, -4.9997500250191195e-05, -1.7999676011885852e-05, -0.0009670647857004801, -4.9997500250191195e-05, -9.799039788203436e-05, -3.199897606575257e-05, -0.0027305441287611143, -0.0011506759448701182, -0.0004497976820453369, -0.002043822788409688, -0.0024440267333270095, -9.799039788214536e-05, -9.799039788214536e-05, -4.9997500250191195e-05, -1.7999676011885852e-05, -0.00016197376449972507, -2.220446049250313e-16, -7.199481674658318e-05, -0.0009670647857004801, -0.00019996001599222813, -0.0013501770220094662, -0.00039184645635475493, -0.0010568829983280707, -4.9997500250191195e-05, -7.999936001245965e-06, -1.999996000238186e-06, -0.0012484413940857576, -0.00019996001599222813, -0.00028791710374148584, -0.00016197376449983607, -7.999936001245965e-06, -0.00044979768204544783, -0.0014558804122255227, -9.799039788214536e-05, -0.00019996001599222813, -0.0008812234452397858, -0.0002419414643279499, -1.7999676011885852e-05, -0.00039184645635486585, -0.0006475806393158065, -0.0005117381240924628, -0.00039184645635475493, -0.00019996001599211714, -0.0007214794673782661, -0.0011506759448701182, -0.00016197376449983607, -4.9997500250191195e-05, -0.00016197376449983607, -7.199481674658318e-05, -9.799039788214536e-05, -0.00024194146432806088, -0.0003378858331638579, -0.0017967716117753465, -0.0031898250163650854, -4.9997500250191195e-05, -0.00012798362019307238, -0.00012798362019307238, -9.799039788214536e-05, -0.0008812234452397858, -0.0006475806393158065, -0.00028791710374148584, -3.199897606575257e-05, -2.220446049250313e-16, -2.220446049250313e-16, -4.9997500250191195e-05, -3.199897606575257e-05, -1.7999676011885852e-05, -0.0016791803533411768, -0.00039184645635475493, -0.00016197376449983607, -0.0005117381240924628, -0.0002419414643279499, -0.0013501770220094662, -0.0006475806393156956, -0.0007214794673782661, -0.0006475806393156956, -7.199481674658318e-05, -7.199481674658318e-05, -1.999996000238186e-06, -0.0012484413940857576, -1.7999676011885852e-05, -9.799039788214536e-05, -9.799039788203436e-05, -0.0005117381240925738, -7.199481674658318e-05, -0.0013501770220094662, -4.9997500250191195e-05, -0.0009670647857004801, -0.0001279836201931834, -7.199481674658318e-05, -4.9997500250191195e-05, -0.00033788583316396887, -0.00039184645635475493, -1.7999676011885852e-05, -0.00039184645635475493, -1.999996000238186e-06, -0.002173276867656729, -1.999996000238186e-06, -0.0005117381240925738, -0.002173276867656729, -1.999996000238186e-06, -0.0001279836201931834, -0.0004497976820453369, -0.0009670647857004801, -0.0009670647857004801, -9.799039788214536e-05, -0.00033788583316396887, -0.0011506759448701182, -0.00019996001599222813, -0.0006475806393156956, -0.0009670647857004801, -0.0010568829983280707, -0.002043822788409688, -0.0013501770220094662, -0.0016791803533411768, -0.0007214794673782661, -0.002879707285947487, -0.0001279836201931834, -0.004033729030111744, -0.00019996001599222813, -0.00019996001599211714, -0.0012484413940857576, -3.199897606575257e-05, -0.003032802111353593, -0.0010568829983280707, -9.799039788203436e-05, -1.999996000238186e-06, -0.0011506759448701182, -0.000721479467378377, -0.0011506759448701182, -7.199481674658318e-05, -1.999996000238186e-06, -3.199897606575257e-05, -0.0012484413940857576, -0.00019996001599211714, -0.0024440267333270095, -0.00016197376449972507, -1.999996000238186e-06, -3.199897606575257e-05, -0.00019996001599222813, -0.0002879171037415968, -0.0024440267333270095, -0.00019996001599222813, -0.0002419414643279499, -0.00024194146432806088, -3.199897606575257e-05, -0.0009670647857004801, -0.0001279836201931834, -0.00033788583316396887, -0.0005776663016441708, -0.00024194146432806088, -9.799039788214536e-05, -7.999936001245965e-06, -1.999996000238186e-06, -4.9997500250191195e-05, -7.999936001245965e-06, -7.199481674658318e-05, -0.000799361021956799, -4.9997500250191195e-05, -1.7999676011885852e-05, -0.0003378858331638579, -0.000799361021956799, -0.00044979768204544783, -7.199481674658318e-05, -2.220446049250313e-16, -0.0006475806393156956, -1.999996000238186e-06, -9.799039788214536e-05, -9.799039788203436e-05, -0.0027305441287611143, -0.0023066792309258378, -9.799039788203436e-05, -0.0005117381240924628, -0.0003378858331638579, -0.0016791803533411768, -9.799039788214536e-05, -0.00016197376449972507, -0.00012798362019307238, -0.00019996001599211714, -0.0009670647857004801, -3.199897606575257e-05, -9.799039788214536e-05, -0.0005776663016440599, -0.0016791803533411768, -0.0004497976820453369, -7.199481674658318e-05, -0.0006475806393156956, -1.7999676011885852e-05, -0.00019996001599211714, -4.9997500250191195e-05, -7.199481674658318e-05, -0.00039184645635486585, -0.0002419414643279499, -0.0011506759448701182, -0.00019996001599211714, -7.999936001245965e-06, -1.999996000238186e-06, -0.0005776663016441708, -1.7999676011885852e-05, -0.0013501770220094662, -0.0005117381240924628, -0.0016791803533411768, -1.7999676011885852e-05, -4.9997500250191195e-05, -0.004033729030111744, -0.00016197376449972507, -0.0025853161404541286, -0.00039184645635486585, -0.0005117381240924628, -0.0004497976820453369, -3.199897606575257e-05, -0.00039184645635486585, -0.002173276867656729, -0.0005117381240924628, -0.000721479467378377, -0.00033788583316396887, -1.999996000238186e-06, -0.00016197376449983607, -0.0004497976820453369, -0.00019996001599211714, -0.0001279836201931834, -0.0006475806393156956, -9.799039788214536e-05, -9.799039788203436e-05, -0.0002879171037415968, -7.199481674658318e-05, -0.00019996001599222813, -7.999936001245965e-06, -4.9997500250191195e-05, -7.199481674658318e-05, -9.799039788214536e-05, -1.999996000238186e-06, -7.999936001245965e-06, -0.00019996001599211714, -1.7999676011885852e-05, -1.999996000238186e-06, -4.9997500250191195e-05, -1.7999676011885852e-05, -0.0015655490561530074, -0.0005117381240924628, -0.000721479467378377, -0.0014558804122255227, -2.220446049250313e-16, -4.9997500250191195e-05, -0.0006475806393156956, -0.0003378858331638579, -0.0005117381240924628, -0.0007214794673782661, -0.000799361021956799, -0.0016791803533411768, -0.002173276867656729, -0.0005117381240924628, -7.999936001245965e-06, -0.00039184645635475493, -0.0010568829983280707, -7.199481674658318e-05, -0.0008812234452397858, -0.00028791710374148584, -0.0006475806393156956, -0.0014558804122255227, -0.00016197376449972507, -0.00044979768204544783, -0.00028791710374148584, -0.00028791710374148584, -0.0013501770220094662, -0.0002419414643279499, -0.0010568829983280707, -0.000799361021956799, -0.0010568829983280707, -0.0010568829983280707, -0.0006475806393158065, -0.00024194146432806088, -3.199897606575257e-05, -0.0002879171037415968, -0.0005776663016441708, -0.00039184645635475493, -3.199897606575257e-05, -0.0009670647857004801, -1.7999676011885852e-05, -4.9997500250191195e-05, -7.999936001245965e-06, -1.999996000238186e-06, -9.799039788203436e-05, -0.000799361021956799, -1.999996000238186e-06, -1.999996000238186e-06, -1.7999676011885852e-05, -0.0008812234452397858, -0.00024194146432806088, -1.999996000238186e-06, -0.005379065652704123, -0.00016197376449972507, -3.199897606575257e-05, -0.00024194146432806088, -3.199897606575257e-05, -1.999996000238186e-06, -2.220446049250313e-16, -0.0019183200481929243, -0.000799361021956799, -0.000799361021956799, -0.0016791803533411768, -0.0002879171037415968, -0.002173276867656729, -0.00028791710374148584, -0.000721479467378377, -0.00019996001599211714, -0.004033729030111744, -0.0016791803533411768, -0.0001279836201931834, -1.7999676011885852e-05, -0.00016197376449983607, -0.00033788583316396887, -9.799039788214536e-05, -0.0002879171037415968, -0.0002419414643279499, -0.0004497976820453369, -0.0006475806393158065, -1.999996000238186e-06, -0.00019996001599222813, -4.9997500250191195e-05, -0.0008812234452397858, -1.999996000238186e-06, -0.00039184645635475493, -1.7999676011885852e-05, -0.0006475806393156956, -9.799039788214536e-05, -0.0005776663016440599, -7.199481674658318e-05, -0.00016197376449983607, -7.999936001245965e-06, -0.00016197376449972507, -0.00039184645635475493, -0.0011506759448701182, -7.999936001245965e-06, -0.00039184645635475493, -0.0015655490561530074, -0.0009670647857004801, -0.0006475806393156956, -7.199481674658318e-05, -0.0001279836201931834, -0.0009670647857004801, -4.9997500250191195e-05, -3.199897606575257e-05, -0.0008812234452397858, -3.199897606575257e-05, -0.00039184645635475493, -7.199481674658318e-05, -1.7999676011885852e-05, -1.999996000238186e-06, -0.00012798362019307238, -0.00028791710374148584, -9.799039788214536e-05, -0.00016197376449972507, -2.220446049250313e-16, -3.199897606575257e-05, -1.7999676011885852e-05, -7.999936001245965e-06, -0.0002419414643279499, -0.0016791803533411768, -0.00024194146432806088, -0.0008812234452397858, -0.0005117381240924628, -0.00019996001599222813, -0.0012484413940857576, -0.0006475806393158065, -0.0009670647857004801, -7.199481674658318e-05, -0.0038571226052085093, -0.00024194146432806088, -3.199897606575257e-05, -0.00024194146432806088, -2.220446049250313e-16, -2.220446049250313e-16, -0.0004497976820453369, -0.0033507723248272854, -0.00016197376449972507, -7.199481674658318e-05, -0.0011506759448701182, -0.002043822788409688, -4.9997500250191195e-05, -7.999936001245965e-06, -0.0017967716117753465, -1.7999676011885852e-05, -0.0001279836201931834, -0.0015655490561530074, -4.9997500250191195e-05, -4.9997500250191195e-05, -1.7999676011885852e-05, -0.0010568829983280707, -0.00016197376449972507, -3.199897606575257e-05, -0.0005776663016441708, -7.999936001245965e-06, -3.199897606575257e-05, -1.999996000238186e-06, -0.00039184645635486585, -0.00016197376449972507, -0.0002879171037415968, -2.220446049250313e-16, -0.00016197376449983607, -0.00019996001599222813, -0.00016197376449983607, -1.999996000238186e-06, -0.0008812234452397858, -0.000799361021956799, -7.199481674658318e-05, -0.0001279836201931834, -7.999936001245965e-06, -0.0010568829983280707, -0.0005117381240925738, -7.199481674658318e-05, -4.9997500250191195e-05, -0.0005117381240925738, -0.00039184645635475493, -3.199897606575257e-05, -0.0001279836201931834, -0.0003378858331638579, -7.199481674658318e-05, -4.9997500250191195e-05, -2.220446049250313e-16, -0.00039184645635486585, -3.199897606575257e-05, -4.9997500250191195e-05, -0.00012798362019307238, -0.0003378858331638579, -0.00016197376449972507, -0.002043822788409688, -0.00024194146432806088, -0.0004497976820453369, -0.0005776663016440599, -1.7999676011885852e-05, -0.00024194146432806088, -0.0013501770220094662, -0.00024194146432806088, -2.220446049250313e-16, -0.00016197376449972507, -0.00016197376449972507, -0.00016197376449983607, -0.0010568829983280707, -9.799039788214536e-05, -0.0004497976820453369, -0.00044979768204544783, -1.7999676011885852e-05, -0.0005117381240925738, -0.0008812234452397858, -3.199897606575257e-05, -0.00044979768204544783, -0.000721479467378377, -0.0005117381240925738, -0.00019996001599211714, -0.0016791803533411768, -1.7999676011885852e-05, -3.199897606575257e-05, -0.00016197376449972507, -0.00033788583316396887, -0.0025853161404541286, -0.0008812234452397858, -0.00019996001599211714, -0.0017967716117753465, -7.999936001245965e-06, -0.0012484413940857576, -1.999996000238186e-06, -0.0006475806393156956, -9.799039788203436e-05, -0.0009670647857004801, -4.9997500250191195e-05, -2.220446049250313e-16, -0.0005776663016441708, -0.000721479467378377, -7.199481674658318e-05, -0.004033729030111744, -0.0003378858331638579, -0.0009670647857004801, -0.0031898250163650854, -1.7999676011885852e-05, -0.0014558804122255227, -1.7999676011885852e-05, -0.000799361021956799, -0.0012484413940857576, -1.7999676011885852e-05, -7.199481674658318e-05, -9.799039788214536e-05, -0.0006475806393156956, -7.199481674658318e-05, -0.0002879171037415968, -1.999996000238186e-06, -4.9997500250191195e-05, -0.00028791710374148584, -0.0004497976820453369, -0.000799361021956799, -0.0015655490561530074, -7.999936001245965e-06, -0.0004497976820453369, -0.0005776663016440599, -0.0006475806393158065, -7.199481674658318e-05, -0.00012798362019307238, -0.00039184645635486585, -0.00044979768204544783, -2.220446049250313e-16, -1.999996000238186e-06, -0.00039184645635486585, -0.002879707285947487, -1.7999676011885852e-05, -7.999936001245965e-06, -0.0001279836201931834, -0.00016197376449972507, -7.999936001245965e-06, -7.199481674658318e-05, -0.0015655490561530074, -0.00039184645635475493, -7.199481674658318e-05, -0.0015655490561530074, -0.00033788583316396887, -7.199481674658318e-05, -0.00012798362019307238], \"xbins\": {\"size\": 0.0001}}],\n",
       "                        {\"template\": {\"data\": {\"bar\": [{\"error_x\": {\"color\": \"#2a3f5f\"}, \"error_y\": {\"color\": \"#2a3f5f\"}, \"marker\": {\"line\": {\"color\": \"#E5ECF6\", \"width\": 0.5}}, \"type\": \"bar\"}], \"barpolar\": [{\"marker\": {\"line\": {\"color\": \"#E5ECF6\", \"width\": 0.5}}, \"type\": \"barpolar\"}], \"carpet\": [{\"aaxis\": {\"endlinecolor\": \"#2a3f5f\", \"gridcolor\": \"white\", \"linecolor\": \"white\", \"minorgridcolor\": \"white\", \"startlinecolor\": \"#2a3f5f\"}, \"baxis\": {\"endlinecolor\": \"#2a3f5f\", \"gridcolor\": \"white\", \"linecolor\": \"white\", \"minorgridcolor\": \"white\", \"startlinecolor\": \"#2a3f5f\"}, \"type\": \"carpet\"}], \"choropleth\": [{\"colorbar\": {\"outlinewidth\": 0, \"ticks\": \"\"}, \"type\": \"choropleth\"}], \"contour\": [{\"colorbar\": {\"outlinewidth\": 0, \"ticks\": \"\"}, \"colorscale\": [[0.0, \"#0d0887\"], [0.1111111111111111, \"#46039f\"], [0.2222222222222222, \"#7201a8\"], [0.3333333333333333, \"#9c179e\"], [0.4444444444444444, \"#bd3786\"], [0.5555555555555556, \"#d8576b\"], [0.6666666666666666, \"#ed7953\"], [0.7777777777777778, \"#fb9f3a\"], [0.8888888888888888, \"#fdca26\"], [1.0, \"#f0f921\"]], \"type\": \"contour\"}], \"contourcarpet\": [{\"colorbar\": {\"outlinewidth\": 0, \"ticks\": \"\"}, \"type\": \"contourcarpet\"}], \"heatmap\": [{\"colorbar\": {\"outlinewidth\": 0, \"ticks\": \"\"}, \"colorscale\": [[0.0, \"#0d0887\"], [0.1111111111111111, \"#46039f\"], [0.2222222222222222, \"#7201a8\"], [0.3333333333333333, \"#9c179e\"], [0.4444444444444444, \"#bd3786\"], [0.5555555555555556, \"#d8576b\"], [0.6666666666666666, \"#ed7953\"], [0.7777777777777778, \"#fb9f3a\"], [0.8888888888888888, \"#fdca26\"], [1.0, \"#f0f921\"]], \"type\": \"heatmap\"}], \"heatmapgl\": [{\"colorbar\": {\"outlinewidth\": 0, \"ticks\": \"\"}, \"colorscale\": [[0.0, \"#0d0887\"], [0.1111111111111111, \"#46039f\"], [0.2222222222222222, \"#7201a8\"], [0.3333333333333333, \"#9c179e\"], [0.4444444444444444, \"#bd3786\"], [0.5555555555555556, \"#d8576b\"], [0.6666666666666666, \"#ed7953\"], [0.7777777777777778, \"#fb9f3a\"], [0.8888888888888888, \"#fdca26\"], [1.0, \"#f0f921\"]], \"type\": \"heatmapgl\"}], \"histogram\": [{\"marker\": {\"colorbar\": {\"outlinewidth\": 0, \"ticks\": \"\"}}, \"type\": \"histogram\"}], \"histogram2d\": [{\"colorbar\": {\"outlinewidth\": 0, \"ticks\": \"\"}, \"colorscale\": [[0.0, \"#0d0887\"], [0.1111111111111111, \"#46039f\"], [0.2222222222222222, \"#7201a8\"], [0.3333333333333333, \"#9c179e\"], [0.4444444444444444, \"#bd3786\"], [0.5555555555555556, \"#d8576b\"], [0.6666666666666666, \"#ed7953\"], [0.7777777777777778, \"#fb9f3a\"], [0.8888888888888888, \"#fdca26\"], [1.0, \"#f0f921\"]], \"type\": \"histogram2d\"}], \"histogram2dcontour\": [{\"colorbar\": {\"outlinewidth\": 0, \"ticks\": \"\"}, \"colorscale\": [[0.0, \"#0d0887\"], [0.1111111111111111, \"#46039f\"], [0.2222222222222222, \"#7201a8\"], [0.3333333333333333, \"#9c179e\"], [0.4444444444444444, \"#bd3786\"], [0.5555555555555556, \"#d8576b\"], [0.6666666666666666, \"#ed7953\"], [0.7777777777777778, \"#fb9f3a\"], [0.8888888888888888, \"#fdca26\"], [1.0, \"#f0f921\"]], \"type\": \"histogram2dcontour\"}], \"mesh3d\": [{\"colorbar\": {\"outlinewidth\": 0, \"ticks\": \"\"}, \"type\": \"mesh3d\"}], \"parcoords\": [{\"line\": {\"colorbar\": {\"outlinewidth\": 0, \"ticks\": \"\"}}, \"type\": \"parcoords\"}], \"pie\": [{\"automargin\": true, \"type\": \"pie\"}], \"scatter\": [{\"marker\": {\"colorbar\": {\"outlinewidth\": 0, \"ticks\": \"\"}}, \"type\": \"scatter\"}], \"scatter3d\": [{\"line\": {\"colorbar\": {\"outlinewidth\": 0, \"ticks\": \"\"}}, \"marker\": {\"colorbar\": {\"outlinewidth\": 0, \"ticks\": \"\"}}, \"type\": \"scatter3d\"}], \"scattercarpet\": [{\"marker\": {\"colorbar\": {\"outlinewidth\": 0, \"ticks\": \"\"}}, \"type\": \"scattercarpet\"}], \"scattergeo\": [{\"marker\": {\"colorbar\": {\"outlinewidth\": 0, \"ticks\": \"\"}}, \"type\": \"scattergeo\"}], \"scattergl\": [{\"marker\": {\"colorbar\": {\"outlinewidth\": 0, \"ticks\": \"\"}}, \"type\": \"scattergl\"}], \"scattermapbox\": [{\"marker\": {\"colorbar\": {\"outlinewidth\": 0, \"ticks\": \"\"}}, \"type\": \"scattermapbox\"}], \"scatterpolar\": [{\"marker\": {\"colorbar\": {\"outlinewidth\": 0, \"ticks\": \"\"}}, \"type\": \"scatterpolar\"}], \"scatterpolargl\": [{\"marker\": {\"colorbar\": {\"outlinewidth\": 0, \"ticks\": \"\"}}, \"type\": \"scatterpolargl\"}], \"scatterternary\": [{\"marker\": {\"colorbar\": {\"outlinewidth\": 0, \"ticks\": \"\"}}, \"type\": \"scatterternary\"}], \"surface\": [{\"colorbar\": {\"outlinewidth\": 0, \"ticks\": \"\"}, \"colorscale\": [[0.0, \"#0d0887\"], [0.1111111111111111, \"#46039f\"], [0.2222222222222222, \"#7201a8\"], [0.3333333333333333, \"#9c179e\"], [0.4444444444444444, \"#bd3786\"], [0.5555555555555556, \"#d8576b\"], [0.6666666666666666, \"#ed7953\"], [0.7777777777777778, \"#fb9f3a\"], [0.8888888888888888, \"#fdca26\"], [1.0, \"#f0f921\"]], \"type\": \"surface\"}], \"table\": [{\"cells\": {\"fill\": {\"color\": \"#EBF0F8\"}, \"line\": {\"color\": \"white\"}}, \"header\": {\"fill\": {\"color\": \"#C8D4E3\"}, \"line\": {\"color\": \"white\"}}, \"type\": \"table\"}]}, \"layout\": {\"annotationdefaults\": {\"arrowcolor\": \"#2a3f5f\", \"arrowhead\": 0, \"arrowwidth\": 1}, \"coloraxis\": {\"colorbar\": {\"outlinewidth\": 0, \"ticks\": \"\"}}, \"colorscale\": {\"diverging\": [[0, \"#8e0152\"], [0.1, \"#c51b7d\"], [0.2, \"#de77ae\"], [0.3, \"#f1b6da\"], [0.4, \"#fde0ef\"], [0.5, \"#f7f7f7\"], [0.6, \"#e6f5d0\"], [0.7, \"#b8e186\"], [0.8, \"#7fbc41\"], [0.9, \"#4d9221\"], [1, \"#276419\"]], \"sequential\": [[0.0, \"#0d0887\"], [0.1111111111111111, \"#46039f\"], [0.2222222222222222, \"#7201a8\"], [0.3333333333333333, \"#9c179e\"], [0.4444444444444444, \"#bd3786\"], [0.5555555555555556, \"#d8576b\"], [0.6666666666666666, \"#ed7953\"], [0.7777777777777778, \"#fb9f3a\"], [0.8888888888888888, \"#fdca26\"], [1.0, \"#f0f921\"]], \"sequentialminus\": [[0.0, \"#0d0887\"], [0.1111111111111111, \"#46039f\"], [0.2222222222222222, \"#7201a8\"], [0.3333333333333333, \"#9c179e\"], [0.4444444444444444, \"#bd3786\"], [0.5555555555555556, \"#d8576b\"], [0.6666666666666666, \"#ed7953\"], [0.7777777777777778, \"#fb9f3a\"], [0.8888888888888888, \"#fdca26\"], [1.0, \"#f0f921\"]]}, \"colorway\": [\"#636efa\", \"#EF553B\", \"#00cc96\", \"#ab63fa\", \"#FFA15A\", \"#19d3f3\", \"#FF6692\", \"#B6E880\", \"#FF97FF\", \"#FECB52\"], \"font\": {\"color\": \"#2a3f5f\"}, \"geo\": {\"bgcolor\": \"white\", \"lakecolor\": \"white\", \"landcolor\": \"#E5ECF6\", \"showlakes\": true, \"showland\": true, \"subunitcolor\": \"white\"}, \"hoverlabel\": {\"align\": \"left\"}, \"hovermode\": \"closest\", \"mapbox\": {\"style\": \"light\"}, \"paper_bgcolor\": \"white\", \"plot_bgcolor\": \"#E5ECF6\", \"polar\": {\"angularaxis\": {\"gridcolor\": \"white\", \"linecolor\": \"white\", \"ticks\": \"\"}, \"bgcolor\": \"#E5ECF6\", \"radialaxis\": {\"gridcolor\": \"white\", \"linecolor\": \"white\", \"ticks\": \"\"}}, \"scene\": {\"xaxis\": {\"backgroundcolor\": \"#E5ECF6\", \"gridcolor\": \"white\", \"gridwidth\": 2, \"linecolor\": \"white\", \"showbackground\": true, \"ticks\": \"\", \"zerolinecolor\": \"white\"}, \"yaxis\": {\"backgroundcolor\": \"#E5ECF6\", \"gridcolor\": \"white\", \"gridwidth\": 2, \"linecolor\": \"white\", \"showbackground\": true, \"ticks\": \"\", \"zerolinecolor\": \"white\"}, \"zaxis\": {\"backgroundcolor\": \"#E5ECF6\", \"gridcolor\": \"white\", \"gridwidth\": 2, \"linecolor\": \"white\", \"showbackground\": true, \"ticks\": \"\", \"zerolinecolor\": \"white\"}}, \"shapedefaults\": {\"line\": {\"color\": \"#2a3f5f\"}}, \"ternary\": {\"aaxis\": {\"gridcolor\": \"white\", \"linecolor\": \"white\", \"ticks\": \"\"}, \"baxis\": {\"gridcolor\": \"white\", \"linecolor\": \"white\", \"ticks\": \"\"}, \"bgcolor\": \"#E5ECF6\", \"caxis\": {\"gridcolor\": \"white\", \"linecolor\": \"white\", \"ticks\": \"\"}}, \"title\": {\"x\": 0.05}, \"xaxis\": {\"automargin\": true, \"gridcolor\": \"white\", \"linecolor\": \"white\", \"ticks\": \"\", \"title\": {\"standoff\": 15}, \"zerolinecolor\": \"white\", \"zerolinewidth\": 2}, \"yaxis\": {\"automargin\": true, \"gridcolor\": \"white\", \"linecolor\": \"white\", \"ticks\": \"\", \"title\": {\"standoff\": 15}, \"zerolinecolor\": \"white\", \"zerolinewidth\": 2}}}, \"title\": {\"text\": \"i=1, Nrep=1000\"}, \"xaxis\": {\"dtick\": 0, \"title\": {\"text\": \"value\"}}, \"yaxis\": {\"range\": [0, 1], \"tickvals\": [0.0, 0.1, 0.2, 0.30000000000000004, 0.4, 0.5, 0.6000000000000001, 0.7000000000000001, 0.8, 0.9], \"title\": {\"text\": \"probability\"}}},\n",
       "                        {\"responsive\": true}\n",
       "                    ).then(function(){\n",
       "                            \n",
       "var gd = document.getElementById('c832c2f4-5c71-4896-a5cd-a2136ded1c2d');\n",
       "var x = new MutationObserver(function (mutations, observer) {{\n",
       "        var display = window.getComputedStyle(gd).display;\n",
       "        if (!display || display === 'none') {{\n",
       "            console.log([gd, 'removed!']);\n",
       "            Plotly.purge(gd);\n",
       "            observer.disconnect();\n",
       "        }}\n",
       "}});\n",
       "\n",
       "// Listen for the removal of the full notebook cells\n",
       "var notebookContainer = gd.closest('#notebook-container');\n",
       "if (notebookContainer) {{\n",
       "    x.observe(notebookContainer, {childList: true});\n",
       "}}\n",
       "\n",
       "// Listen for the clearing of the current output cell\n",
       "var outputEl = gd.closest('.output');\n",
       "if (outputEl) {{\n",
       "    x.observe(outputEl, {childList: true});\n",
       "}}\n",
       "\n",
       "                        })\n",
       "                };\n",
       "                });\n",
       "            </script>\n",
       "        </div>"
      ]
     },
     "metadata": {},
     "output_type": "display_data"
    }
   ],
   "source": [
    "sorted_eigenvalues_array = np.array(sorted_eigenvalues_list).T\n",
    "\n",
    "for i, values in enumerate(sorted_eigenvalues_array):\n",
    "    fig = data_analyzer.make_prob_dist_histogram(values, x_range=x_range, bin_size=0.0001)\n",
    "    fig.update_layout(\n",
    "        title=f\"i={i}, Nrep={len(values)}\")\n",
    "    fig.show()"
   ]
  },
  {
   "cell_type": "code",
   "execution_count": 90,
   "metadata": {},
   "outputs": [],
   "source": [
    "a_list = []\n",
    "b_list = []\n",
    "for values in sorted_eigenvalues_list:\n",
    "    a_list.append(sum([v for v in values if v < 0]))\n",
    "    b_list.append(sum([v for v in values if v > 0]))"
   ]
  },
  {
   "cell_type": "code",
   "execution_count": 85,
   "metadata": {},
   "outputs": [
    {
     "data": {
      "application/vnd.plotly.v1+json": {
       "config": {
        "plotlyServerURL": "https://plot.ly"
       },
       "data": [
        {
         "histnorm": "probability",
         "type": "histogram",
         "x": [
          -0.0005776663016440599,
          -7.199481674658318e-05,
          -0.0023066792309258378,
          -0.00028791710374148584,
          -0.000721479467378377,
          -7.999936001245965e-06,
          -1.7999676011885852e-05,
          -0.0002879171037415968,
          -0.00019996001599211714,
          -0.00019996001599211714,
          -1.7999676011885852e-05,
          -7.199481674658318e-05,
          -0.00044979768204544783,
          -0.0005117381240925738,
          -0.0012484413940857576,
          -0.002173276867656729,
          -3.199897606575257e-05,
          -0.00044979768204544783,
          -4.9997500250191195e-05,
          -0.0010568829983280707,
          -2.220446049250313e-16,
          -7.199481674658318e-05,
          -3.199897606575257e-05,
          -0.0033507723248272854,
          -4.9997500250191195e-05,
          -1.7999676011885852e-05,
          -3.199897606575257e-05,
          -7.999936001245965e-06,
          -0.00016197376449972507,
          -7.999936001245965e-06,
          -7.999936001245965e-06,
          -0.00039184645635486585,
          -0.00016197376449983607,
          -0.0011506759448701182,
          -0.0015655490561530074,
          -7.999936001245965e-06,
          -0.0002879171037415968,
          -1.999996000238186e-06,
          -0.0005117381240924628,
          -0.00033788583316396887,
          -0.00019996001599211714,
          -1.7999676011885852e-05,
          -1.7999676011885852e-05,
          -0.00039184645635475493,
          -9.799039788214536e-05,
          -0.0005776663016440599,
          -0.0007214794673782661,
          -0.00039184645635475493,
          -0.000799361021956799,
          -0.00024194146432806088,
          -0.0003378858331638579,
          -0.0003378858331638579,
          -0.00039184645635475493,
          -7.999936001245965e-06,
          -0.0010568829983280707,
          -0.0003378858331638579,
          -7.199481674658318e-05,
          -0.0011506759448701182,
          -0.0005117381240925738,
          -0.0006475806393156956,
          -0.0005776663016440599,
          -0.0016791803533411768,
          -0.000721479467378377,
          -0.0014558804122255227,
          -0.0016791803533411768,
          -0.002173276867656729,
          -0.0005776663016440599,
          -3.199897606575257e-05,
          -0.00012798362019307238,
          -0.0008812234452397858,
          -1.7999676011885852e-05,
          -0.00039184645635475493,
          -7.999936001245965e-06,
          -0.0002879171037415968,
          -0.00024194146432806088,
          -0.00012798362019307238,
          -0.0012484413940857576,
          -0.00039184645635486585,
          -9.799039788203436e-05,
          -7.199481674658318e-05,
          -0.0005117381240924628,
          -1.7999676011885852e-05,
          -0.000799361021956799,
          -0.00016197376449983607,
          -2.220446049250313e-16,
          -0.00024194146432806088,
          -0.002043822788409688,
          -7.999936001245965e-06,
          -0.00033788583316396887,
          -3.199897606575257e-05,
          -1.999996000238186e-06,
          -0.0009670647857004801,
          -0.00012798362019307238,
          -9.799039788203436e-05,
          -7.199481674658318e-05,
          -0.0006475806393158065,
          -0.00012798362019307238,
          -0.00028791710374148584,
          -4.9997500250191195e-05,
          -0.0027305441287611143,
          -1.999996000238186e-06,
          -0.0002419414643279499,
          -7.199481674658318e-05,
          -0.00028791710374148584,
          -4.9997500250191195e-05,
          -0.0016791803533411768,
          -1.7999676011885852e-05,
          -7.999936001245965e-06,
          -7.999936001245965e-06,
          -0.0016791803533411768,
          -9.799039788203436e-05,
          -0.0012484413940857576,
          -0.000799361021956799,
          -0.000721479467378377,
          -0.0003378858331638579,
          -3.199897606575257e-05,
          -0.0002879171037415968,
          -0.0006475806393156956,
          -0.0014558804122255227,
          -0.00028791710374148584,
          -0.0012484413940857576,
          -3.199897606575257e-05,
          -0.0005776663016440599,
          -0.0001279836201931834,
          -0.00028791710374148584,
          -0.0005776663016441708,
          -0.00019996001599211714,
          -0.0005776663016440599,
          -0.0005776663016441708,
          -0.0033507723248272854,
          -0.002043822788409688,
          -2.220446049250313e-16,
          -0.0017967716117753465,
          -0.0012484413940857576,
          -1.999996000238186e-06,
          -0.00033788583316396887,
          -0.0002879171037415968,
          -1.7999676011885852e-05,
          -0.00039184645635475493,
          -1.999996000238186e-06,
          -4.9997500250191195e-05,
          -3.199897606575257e-05,
          -0.0010568829983280707,
          -4.9997500250191195e-05,
          -0.000799361021956799,
          -0.0002419414643279499,
          -0.00019996001599211714,
          -0.0005776663016440599,
          -3.199897606575257e-05,
          -2.220446049250313e-16,
          -0.00016197376449972507,
          -0.0008812234452397858,
          -1.7999676011885852e-05,
          -0.0008812234452397858,
          -3.199897606575257e-05,
          -1.7999676011885852e-05,
          -0.00019996001599222813,
          -0.00019996001599222813,
          -0.00033788583316396887,
          -3.199897606575257e-05,
          -0.00019996001599211714,
          -0.0011506759448701182,
          -0.0035156402734676834,
          -0.0002879171037415968,
          -0.0008812234452397858,
          -0.0003378858331638579,
          -0.00039184645635475493,
          -0.0005776663016441708,
          -3.199897606575257e-05,
          -0.0014558804122255227,
          -7.999936001245965e-06,
          -0.0005117381240924628,
          -7.999936001245965e-06,
          -3.199897606575257e-05,
          -1.999996000238186e-06,
          -0.00039184645635486585,
          -0.0011506759448701182,
          -0.0006475806393158065,
          -3.199897606575257e-05,
          -9.799039788214536e-05,
          -9.799039788214536e-05,
          -3.199897606575257e-05,
          -0.002173276867656729,
          -1.999996000238186e-06,
          -0.0010568829983280707,
          -4.9997500250191195e-05,
          -2.220446049250313e-16,
          -0.0002879171037415968,
          -0.00016197376449983607,
          -1.7999676011885852e-05,
          -0.0002879171037415968,
          -0.0005117381240925738,
          -0.0008812234452397858,
          -3.199897606575257e-05,
          -0.00028791710374148584,
          -4.9997500250191195e-05,
          -0.00016197376449983607,
          -0.00012798362019307238,
          -0.0014558804122255227,
          -9.799039788203436e-05,
          -3.199897606575257e-05,
          -0.0012484413940857576,
          -0.0010568829983280707,
          -0.0025853161404541286,
          -4.9997500250191195e-05,
          -0.0036844250123286397,
          -1.7999676011885852e-05,
          -1.999996000238186e-06,
          -3.199897606575257e-05,
          -0.00016197376449983607,
          -2.220446049250313e-16,
          -1.999996000238186e-06,
          -0.0011506759448701182,
          -0.0005117381240925738,
          -0.0019183200481929243,
          -0.00024194146432806088,
          -4.9997500250191195e-05,
          -9.799039788203436e-05,
          -3.199897606575257e-05,
          -0.0005117381240925738,
          -0.0025853161404541286,
          -0.0031898250163650854,
          -1.999996000238186e-06,
          -0.0002879171037415968,
          -1.999996000238186e-06,
          -0.0012484413940857576,
          -7.199481674658318e-05,
          -4.9997500250191195e-05,
          -2.220446049250313e-16,
          -0.0002419414643279499,
          -0.00019996001599222813,
          -7.999936001245965e-06,
          -0.0003378858331638579,
          -0.0006475806393156956,
          -0.0005776663016441708,
          -0.000721479467378377,
          -1.999996000238186e-06,
          -0.0012484413940857576,
          -0.0004497976820453369,
          -7.199481674658318e-05,
          -9.799039788214536e-05,
          -0.00016197376449983607,
          -7.199481674658318e-05,
          -4.9997500250191195e-05,
          -0.0038571226052085093,
          -9.799039788203436e-05,
          -0.0005117381240924628,
          -7.999936001245965e-06,
          -7.999936001245965e-06,
          -7.199481674658318e-05,
          -0.00039184645635486585,
          -0.00012798362019307238,
          -0.0005117381240924628,
          -0.0005117381240924628,
          -2.220446049250313e-16,
          -1.999996000238186e-06,
          -7.999936001245965e-06,
          -0.000721479467378377,
          -0.0013501770220094662,
          -3.199897606575257e-05,
          -0.00039184645635475493,
          -7.199481674658318e-05,
          -7.999936001245965e-06,
          -1.7999676011885852e-05,
          -4.9997500250191195e-05,
          -0.0008812234452397858,
          -0.0005776663016441708,
          -1.7999676011885852e-05,
          -0.00039184645635475493,
          -0.0001279836201931834,
          -4.9997500250191195e-05,
          -0.0005117381240925738,
          -0.0014558804122255227,
          -0.0002419414643279499,
          -1.999996000238186e-06,
          -0.00039184645635475493,
          -0.0003378858331638579,
          -0.0006475806393156956,
          -0.00044979768204544783,
          -0.0017967716117753465,
          -0.0005776663016441708,
          -4.9997500250191195e-05,
          -2.220446049250313e-16,
          -1.999996000238186e-06,
          -7.999936001245965e-06,
          -0.00019996001599222813,
          -0.0010568829983280707,
          -0.0014558804122255227,
          -0.00039184645635475493,
          -2.220446049250313e-16,
          -0.0019183200481929243,
          -0.0002879171037415968,
          -3.199897606575257e-05,
          -0.0002419414643279499,
          -1.999996000238186e-06,
          -3.199897606575257e-05,
          -0.00019996001599222813,
          -1.7999676011885852e-05,
          -0.0001279836201931834,
          -0.0008812234452397858,
          -0.0003378858331638579,
          -3.199897606575257e-05,
          -0.00019996001599222813,
          -0.0005117381240924628,
          -0.0002419414643279499,
          -3.199897606575257e-05,
          -0.0011506759448701182,
          -0.00016197376449983607,
          -0.0002419414643279499,
          -0.0019183200481929243,
          -3.199897606575257e-05,
          -4.9997500250191195e-05,
          -0.000799361021956799,
          -0.0005117381240924628,
          -0.0009670647857004801,
          -7.199481674658318e-05,
          -0.0015655490561530074,
          -0.0006475806393158065,
          -1.7999676011885852e-05,
          -0.00016197376449972507,
          -0.002879707285947487,
          -1.999996000238186e-06,
          -0.0027305441287611143,
          -0.00016197376449983607,
          -9.799039788214536e-05,
          -0.0013501770220094662,
          -0.0002879171037415968,
          -0.00016197376449983607,
          -0.0006475806393156956,
          -0.0013501770220094662,
          -0.00033788583316396887,
          -2.220446049250313e-16,
          -4.9997500250191195e-05,
          -0.0010568829983280707,
          -1.999996000238186e-06,
          -3.199897606575257e-05,
          -0.00039184645635475493,
          -0.00039184645635475493,
          -0.00019996001599222813,
          -0.0013501770220094662,
          -0.00019996001599222813,
          -1.7999676011885852e-05,
          -4.9997500250191195e-05,
          -3.199897606575257e-05,
          -0.0015655490561530074,
          -0.0027305441287611143,
          -7.199481674658318e-05,
          -0.0005776663016441708,
          -0.0017967716117753465,
          -0.0009670647857004801,
          -2.220446049250313e-16,
          -0.0001279836201931834,
          -3.199897606575257e-05,
          -3.199897606575257e-05,
          -0.0005117381240924628,
          -0.002173276867656729,
          -9.799039788203436e-05,
          -0.0027305441287611143,
          -0.000799361021956799,
          -0.00012798362019307238,
          -7.999936001245965e-06,
          -0.0004497976820453369,
          -0.00033788583316396887,
          -0.00019996001599211714,
          -0.00024194146432806088,
          -0.00012798362019307238,
          -3.199897606575257e-05,
          -7.199481674658318e-05,
          -0.00024194146432806088,
          -0.0004497976820453369,
          -2.220446049250313e-16,
          -0.002043822788409688,
          -0.00039184645635486585,
          -0.0014558804122255227,
          -1.999996000238186e-06,
          -0.00024194146432806088,
          -4.9997500250191195e-05,
          -2.220446049250313e-16,
          -0.00044979768204544783,
          -0.0006475806393158065,
          -0.000799361021956799,
          -0.00012798362019307238,
          -0.0027305441287611143,
          -1.999996000238186e-06,
          -7.199481674658318e-05,
          -4.9997500250191195e-05,
          -0.00019996001599222813,
          -0.0007214794673782661,
          -9.799039788203436e-05,
          -0.000721479467378377,
          -2.220446049250313e-16,
          -0.0004497976820453369,
          -1.999996000238186e-06,
          -0.0004497976820453369,
          -4.9997500250191195e-05,
          -0.0003378858331638579,
          -0.0006475806393156956,
          -0.0014558804122255227,
          -1.7999676011885852e-05,
          -0.00044979768204544783,
          -1.999996000238186e-06,
          -7.199481674658318e-05,
          -9.799039788203436e-05,
          -0.0004497976820453369,
          -0.0007214794673782661,
          -0.00012798362019307238,
          -1.999996000238186e-06,
          -0.00024194146432806088,
          -0.000799361021956799,
          -3.199897606575257e-05,
          -0.00016197376449983607,
          -0.0017967716117753465,
          -0.0003378858331638579,
          -4.9997500250191195e-05,
          -7.199481674658318e-05,
          -0.0015655490561530074,
          -7.999936001245965e-06,
          -0.0031898250163650854,
          -4.9997500250191195e-05,
          -0.0006475806393158065,
          -7.999936001245965e-06,
          -0.00019996001599222813,
          -0.0002879171037415968,
          -0.0008812234452397858,
          -3.199897606575257e-05,
          -7.199481674658318e-05,
          -0.00016197376449972507,
          -0.0002419414643279499,
          -0.0008812234452397858,
          -0.0023066792309258378,
          -7.199481674658318e-05,
          -4.9997500250191195e-05,
          -0.00012798362019307238,
          -0.0006475806393158065,
          -0.00016197376449972507,
          -0.0011506759448701182,
          -0.0011506759448701182,
          -0.0003378858331638579,
          -9.799039788203436e-05,
          -0.0015655490561530074,
          -0.00024194146432806088,
          -0.00019996001599211714,
          -0.00012798362019307238,
          -0.0001279836201931834,
          -0.0006475806393156956,
          -0.0009670647857004801,
          -7.999936001245965e-06,
          -0.00012798362019307238,
          -0.00028791710374148584,
          -0.0013501770220094662,
          -4.9997500250191195e-05,
          -0.0011506759448701182,
          -0.0002419414643279499,
          -0.000799361021956799,
          -0.0005776663016441708,
          -9.799039788203436e-05,
          -0.0001279836201931834,
          -0.0017967716117753465,
          -1.7999676011885852e-05,
          -0.00016197376449983607,
          -0.0008812234452397858,
          -0.00024194146432806088,
          -9.799039788214536e-05,
          -0.0016791803533411768,
          -0.00033788583316396887,
          -1.7999676011885852e-05,
          -3.199897606575257e-05,
          -0.000721479467378377,
          -1.7999676011885852e-05,
          -0.0001279836201931834,
          -0.0024440267333270095,
          -7.999936001245965e-06,
          -7.199481674658318e-05,
          -0.000799361021956799,
          -1.999996000238186e-06,
          -1.999996000238186e-06,
          -0.0010568829983280707,
          -0.00012798362019307238,
          -0.0011506759448701182,
          -4.9997500250191195e-05,
          -0.0006475806393156956,
          -0.00016197376449972507,
          -0.000721479467378377,
          -1.999996000238186e-06,
          -4.9997500250191195e-05,
          -1.7999676011885852e-05,
          -0.0009670647857004801,
          -4.9997500250191195e-05,
          -9.799039788203436e-05,
          -3.199897606575257e-05,
          -0.0027305441287611143,
          -0.0011506759448701182,
          -0.0004497976820453369,
          -0.002043822788409688,
          -0.0024440267333270095,
          -9.799039788214536e-05,
          -9.799039788214536e-05,
          -4.9997500250191195e-05,
          -1.7999676011885852e-05,
          -0.00016197376449972507,
          -2.220446049250313e-16,
          -7.199481674658318e-05,
          -0.0009670647857004801,
          -0.00019996001599222813,
          -0.0013501770220094662,
          -0.00039184645635475493,
          -0.0010568829983280707,
          -4.9997500250191195e-05,
          -7.999936001245965e-06,
          -1.999996000238186e-06,
          -0.0012484413940857576,
          -0.00019996001599222813,
          -0.00028791710374148584,
          -0.00016197376449983607,
          -7.999936001245965e-06,
          -0.00044979768204544783,
          -0.0014558804122255227,
          -9.799039788214536e-05,
          -0.00019996001599222813,
          -0.0008812234452397858,
          -0.0002419414643279499,
          -1.7999676011885852e-05,
          -0.00039184645635486585,
          -0.0006475806393158065,
          -0.0005117381240924628,
          -0.00039184645635475493,
          -0.00019996001599211714,
          -0.0007214794673782661,
          -0.0011506759448701182,
          -0.00016197376449983607,
          -4.9997500250191195e-05,
          -0.00016197376449983607,
          -7.199481674658318e-05,
          -9.799039788214536e-05,
          -0.00024194146432806088,
          -0.0003378858331638579,
          -0.0017967716117753465,
          -0.0031898250163650854,
          -4.9997500250191195e-05,
          -0.00012798362019307238,
          -0.00012798362019307238,
          -9.799039788214536e-05,
          -0.0008812234452397858,
          -0.0006475806393158065,
          -0.00028791710374148584,
          -3.199897606575257e-05,
          -2.220446049250313e-16,
          -2.220446049250313e-16,
          -4.9997500250191195e-05,
          -3.199897606575257e-05,
          -1.7999676011885852e-05,
          -0.0016791803533411768,
          -0.00039184645635475493,
          -0.00016197376449983607,
          -0.0005117381240924628,
          -0.0002419414643279499,
          -0.0013501770220094662,
          -0.0006475806393156956,
          -0.0007214794673782661,
          -0.0006475806393156956,
          -7.199481674658318e-05,
          -7.199481674658318e-05,
          -1.999996000238186e-06,
          -0.0012484413940857576,
          -1.7999676011885852e-05,
          -9.799039788214536e-05,
          -9.799039788203436e-05,
          -0.0005117381240925738,
          -7.199481674658318e-05,
          -0.0013501770220094662,
          -4.9997500250191195e-05,
          -0.0009670647857004801,
          -0.0001279836201931834,
          -7.199481674658318e-05,
          -4.9997500250191195e-05,
          -0.00033788583316396887,
          -0.00039184645635475493,
          -1.7999676011885852e-05,
          -0.00039184645635475493,
          -1.999996000238186e-06,
          -0.002173276867656729,
          -1.999996000238186e-06,
          -0.0005117381240925738,
          -0.002173276867656729,
          -1.999996000238186e-06,
          -0.0001279836201931834,
          -0.0004497976820453369,
          -0.0009670647857004801,
          -0.0009670647857004801,
          -9.799039788214536e-05,
          -0.00033788583316396887,
          -0.0011506759448701182,
          -0.00019996001599222813,
          -0.0006475806393156956,
          -0.0009670647857004801,
          -0.0010568829983280707,
          -0.002043822788409688,
          -0.0013501770220094662,
          -0.0016791803533411768,
          -0.0007214794673782661,
          -0.002879707285947487,
          -0.0001279836201931834,
          -0.004033729030111744,
          -0.00019996001599222813,
          -0.00019996001599211714,
          -0.0012484413940857576,
          -3.199897606575257e-05,
          -0.003032802111353593,
          -0.0010568829983280707,
          -9.799039788203436e-05,
          -1.999996000238186e-06,
          -0.0011506759448701182,
          -0.000721479467378377,
          -0.0011506759448701182,
          -7.199481674658318e-05,
          -1.999996000238186e-06,
          -3.199897606575257e-05,
          -0.0012484413940857576,
          -0.00019996001599211714,
          -0.0024440267333270095,
          -0.00016197376449972507,
          -1.999996000238186e-06,
          -3.199897606575257e-05,
          -0.00019996001599222813,
          -0.0002879171037415968,
          -0.0024440267333270095,
          -0.00019996001599222813,
          -0.0002419414643279499,
          -0.00024194146432806088,
          -3.199897606575257e-05,
          -0.0009670647857004801,
          -0.0001279836201931834,
          -0.00033788583316396887,
          -0.0005776663016441708,
          -0.00024194146432806088,
          -9.799039788214536e-05,
          -7.999936001245965e-06,
          -1.999996000238186e-06,
          -4.9997500250191195e-05,
          -7.999936001245965e-06,
          -7.199481674658318e-05,
          -0.000799361021956799,
          -4.9997500250191195e-05,
          -1.7999676011885852e-05,
          -0.0003378858331638579,
          -0.000799361021956799,
          -0.00044979768204544783,
          -7.199481674658318e-05,
          -2.220446049250313e-16,
          -0.0006475806393156956,
          -1.999996000238186e-06,
          -9.799039788214536e-05,
          -9.799039788203436e-05,
          -0.0027305441287611143,
          -0.0023066792309258378,
          -9.799039788203436e-05,
          -0.0005117381240924628,
          -0.0003378858331638579,
          -0.0016791803533411768,
          -9.799039788214536e-05,
          -0.00016197376449972507,
          -0.00012798362019307238,
          -0.00019996001599211714,
          -0.0009670647857004801,
          -3.199897606575257e-05,
          -9.799039788214536e-05,
          -0.0005776663016440599,
          -0.0016791803533411768,
          -0.0004497976820453369,
          -7.199481674658318e-05,
          -0.0006475806393156956,
          -1.7999676011885852e-05,
          -0.00019996001599211714,
          -4.9997500250191195e-05,
          -7.199481674658318e-05,
          -0.00039184645635486585,
          -0.0002419414643279499,
          -0.0011506759448701182,
          -0.00019996001599211714,
          -7.999936001245965e-06,
          -1.999996000238186e-06,
          -0.0005776663016441708,
          -1.7999676011885852e-05,
          -0.0013501770220094662,
          -0.0005117381240924628,
          -0.0016791803533411768,
          -1.7999676011885852e-05,
          -4.9997500250191195e-05,
          -0.004033729030111744,
          -0.00016197376449972507,
          -0.0025853161404541286,
          -0.00039184645635486585,
          -0.0005117381240924628,
          -0.0004497976820453369,
          -3.199897606575257e-05,
          -0.00039184645635486585,
          -0.002173276867656729,
          -0.0005117381240924628,
          -0.000721479467378377,
          -0.00033788583316396887,
          -1.999996000238186e-06,
          -0.00016197376449983607,
          -0.0004497976820453369,
          -0.00019996001599211714,
          -0.0001279836201931834,
          -0.0006475806393156956,
          -9.799039788214536e-05,
          -9.799039788203436e-05,
          -0.0002879171037415968,
          -7.199481674658318e-05,
          -0.00019996001599222813,
          -7.999936001245965e-06,
          -4.9997500250191195e-05,
          -7.199481674658318e-05,
          -9.799039788214536e-05,
          -1.999996000238186e-06,
          -7.999936001245965e-06,
          -0.00019996001599211714,
          -1.7999676011885852e-05,
          -1.999996000238186e-06,
          -4.9997500250191195e-05,
          -1.7999676011885852e-05,
          -0.0015655490561530074,
          -0.0005117381240924628,
          -0.000721479467378377,
          -0.0014558804122255227,
          -2.220446049250313e-16,
          -4.9997500250191195e-05,
          -0.0006475806393156956,
          -0.0003378858331638579,
          -0.0005117381240924628,
          -0.0007214794673782661,
          -0.000799361021956799,
          -0.0016791803533411768,
          -0.002173276867656729,
          -0.0005117381240924628,
          -7.999936001245965e-06,
          -0.00039184645635475493,
          -0.0010568829983280707,
          -7.199481674658318e-05,
          -0.0008812234452397858,
          -0.00028791710374148584,
          -0.0006475806393156956,
          -0.0014558804122255227,
          -0.00016197376449972507,
          -0.00044979768204544783,
          -0.00028791710374148584,
          -0.00028791710374148584,
          -0.0013501770220094662,
          -0.0002419414643279499,
          -0.0010568829983280707,
          -0.000799361021956799,
          -0.0010568829983280707,
          -0.0010568829983280707,
          -0.0006475806393158065,
          -0.00024194146432806088,
          -3.199897606575257e-05,
          -0.0002879171037415968,
          -0.0005776663016441708,
          -0.00039184645635475493,
          -3.199897606575257e-05,
          -0.0009670647857004801,
          -1.7999676011885852e-05,
          -4.9997500250191195e-05,
          -7.999936001245965e-06,
          -1.999996000238186e-06,
          -9.799039788203436e-05,
          -0.000799361021956799,
          -1.999996000238186e-06,
          -1.999996000238186e-06,
          -1.7999676011885852e-05,
          -0.0008812234452397858,
          -0.00024194146432806088,
          -1.999996000238186e-06,
          -0.005379065652704123,
          -0.00016197376449972507,
          -3.199897606575257e-05,
          -0.00024194146432806088,
          -3.199897606575257e-05,
          -1.999996000238186e-06,
          -2.220446049250313e-16,
          -0.0019183200481929243,
          -0.000799361021956799,
          -0.000799361021956799,
          -0.0016791803533411768,
          -0.0002879171037415968,
          -0.002173276867656729,
          -0.00028791710374148584,
          -0.000721479467378377,
          -0.00019996001599211714,
          -0.004033729030111744,
          -0.0016791803533411768,
          -0.0001279836201931834,
          -1.7999676011885852e-05,
          -0.00016197376449983607,
          -0.00033788583316396887,
          -9.799039788214536e-05,
          -0.0002879171037415968,
          -0.0002419414643279499,
          -0.0004497976820453369,
          -0.0006475806393158065,
          -1.999996000238186e-06,
          -0.00019996001599222813,
          -4.9997500250191195e-05,
          -0.0008812234452397858,
          -1.999996000238186e-06,
          -0.00039184645635475493,
          -1.7999676011885852e-05,
          -0.0006475806393156956,
          -9.799039788214536e-05,
          -0.0005776663016440599,
          -7.199481674658318e-05,
          -0.00016197376449983607,
          -7.999936001245965e-06,
          -0.00016197376449972507,
          -0.00039184645635475493,
          -0.0011506759448701182,
          -7.999936001245965e-06,
          -0.00039184645635475493,
          -0.0015655490561530074,
          -0.0009670647857004801,
          -0.0006475806393156956,
          -7.199481674658318e-05,
          -0.0001279836201931834,
          -0.0009670647857004801,
          -4.9997500250191195e-05,
          -3.199897606575257e-05,
          -0.0008812234452397858,
          -3.199897606575257e-05,
          -0.00039184645635475493,
          -7.199481674658318e-05,
          -1.7999676011885852e-05,
          -1.999996000238186e-06,
          -0.00012798362019307238,
          -0.00028791710374148584,
          -9.799039788214536e-05,
          -0.00016197376449972507,
          -2.220446049250313e-16,
          -3.199897606575257e-05,
          -1.7999676011885852e-05,
          -7.999936001245965e-06,
          -0.0002419414643279499,
          -0.0016791803533411768,
          -0.00024194146432806088,
          -0.0008812234452397858,
          -0.0005117381240924628,
          -0.00019996001599222813,
          -0.0012484413940857576,
          -0.0006475806393158065,
          -0.0009670647857004801,
          -7.199481674658318e-05,
          -0.0038571226052085093,
          -0.00024194146432806088,
          -3.199897606575257e-05,
          -0.00024194146432806088,
          -2.220446049250313e-16,
          -2.220446049250313e-16,
          -0.0004497976820453369,
          -0.0033507723248272854,
          -0.00016197376449972507,
          -7.199481674658318e-05,
          -0.0011506759448701182,
          -0.002043822788409688,
          -4.9997500250191195e-05,
          -7.999936001245965e-06,
          -0.0017967716117753465,
          -1.7999676011885852e-05,
          -0.0001279836201931834,
          -0.0015655490561530074,
          -4.9997500250191195e-05,
          -4.9997500250191195e-05,
          -1.7999676011885852e-05,
          -0.0010568829983280707,
          -0.00016197376449972507,
          -3.199897606575257e-05,
          -0.0005776663016441708,
          -7.999936001245965e-06,
          -3.199897606575257e-05,
          -1.999996000238186e-06,
          -0.00039184645635486585,
          -0.00016197376449972507,
          -0.0002879171037415968,
          -2.220446049250313e-16,
          -0.00016197376449983607,
          -0.00019996001599222813,
          -0.00016197376449983607,
          -1.999996000238186e-06,
          -0.0008812234452397858,
          -0.000799361021956799,
          -7.199481674658318e-05,
          -0.0001279836201931834,
          -7.999936001245965e-06,
          -0.0010568829983280707,
          -0.0005117381240925738,
          -7.199481674658318e-05,
          -4.9997500250191195e-05,
          -0.0005117381240925738,
          -0.00039184645635475493,
          -3.199897606575257e-05,
          -0.0001279836201931834,
          -0.0003378858331638579,
          -7.199481674658318e-05,
          -4.9997500250191195e-05,
          -2.220446049250313e-16,
          -0.00039184645635486585,
          -3.199897606575257e-05,
          -4.9997500250191195e-05,
          -0.00012798362019307238,
          -0.0003378858331638579,
          -0.00016197376449972507,
          -0.002043822788409688,
          -0.00024194146432806088,
          -0.0004497976820453369,
          -0.0005776663016440599,
          -1.7999676011885852e-05,
          -0.00024194146432806088,
          -0.0013501770220094662,
          -0.00024194146432806088,
          -2.220446049250313e-16,
          -0.00016197376449972507,
          -0.00016197376449972507,
          -0.00016197376449983607,
          -0.0010568829983280707,
          -9.799039788214536e-05,
          -0.0004497976820453369,
          -0.00044979768204544783,
          -1.7999676011885852e-05,
          -0.0005117381240925738,
          -0.0008812234452397858,
          -3.199897606575257e-05,
          -0.00044979768204544783,
          -0.000721479467378377,
          -0.0005117381240925738,
          -0.00019996001599211714,
          -0.0016791803533411768,
          -1.7999676011885852e-05,
          -3.199897606575257e-05,
          -0.00016197376449972507,
          -0.00033788583316396887,
          -0.0025853161404541286,
          -0.0008812234452397858,
          -0.00019996001599211714,
          -0.0017967716117753465,
          -7.999936001245965e-06,
          -0.0012484413940857576,
          -1.999996000238186e-06,
          -0.0006475806393156956,
          -9.799039788203436e-05,
          -0.0009670647857004801,
          -4.9997500250191195e-05,
          -2.220446049250313e-16,
          -0.0005776663016441708,
          -0.000721479467378377,
          -7.199481674658318e-05,
          -0.004033729030111744,
          -0.0003378858331638579,
          -0.0009670647857004801,
          -0.0031898250163650854,
          -1.7999676011885852e-05,
          -0.0014558804122255227,
          -1.7999676011885852e-05,
          -0.000799361021956799,
          -0.0012484413940857576,
          -1.7999676011885852e-05,
          -7.199481674658318e-05,
          -9.799039788214536e-05,
          -0.0006475806393156956,
          -7.199481674658318e-05,
          -0.0002879171037415968,
          -1.999996000238186e-06,
          -4.9997500250191195e-05,
          -0.00028791710374148584,
          -0.0004497976820453369,
          -0.000799361021956799,
          -0.0015655490561530074,
          -7.999936001245965e-06,
          -0.0004497976820453369,
          -0.0005776663016440599,
          -0.0006475806393158065,
          -7.199481674658318e-05,
          -0.00012798362019307238,
          -0.00039184645635486585,
          -0.00044979768204544783,
          -2.220446049250313e-16,
          -1.999996000238186e-06,
          -0.00039184645635486585,
          -0.002879707285947487,
          -1.7999676011885852e-05,
          -7.999936001245965e-06,
          -0.0001279836201931834,
          -0.00016197376449972507,
          -7.999936001245965e-06,
          -7.199481674658318e-05,
          -0.0015655490561530074,
          -0.00039184645635475493,
          -7.199481674658318e-05,
          -0.0015655490561530074,
          -0.00033788583316396887,
          -7.199481674658318e-05,
          -0.00012798362019307238
         ],
         "xbins": {
          "size": 0.0001
         }
        }
       ],
       "layout": {
        "template": {
         "data": {
          "bar": [
           {
            "error_x": {
             "color": "#2a3f5f"
            },
            "error_y": {
             "color": "#2a3f5f"
            },
            "marker": {
             "line": {
              "color": "#E5ECF6",
              "width": 0.5
             }
            },
            "type": "bar"
           }
          ],
          "barpolar": [
           {
            "marker": {
             "line": {
              "color": "#E5ECF6",
              "width": 0.5
             }
            },
            "type": "barpolar"
           }
          ],
          "carpet": [
           {
            "aaxis": {
             "endlinecolor": "#2a3f5f",
             "gridcolor": "white",
             "linecolor": "white",
             "minorgridcolor": "white",
             "startlinecolor": "#2a3f5f"
            },
            "baxis": {
             "endlinecolor": "#2a3f5f",
             "gridcolor": "white",
             "linecolor": "white",
             "minorgridcolor": "white",
             "startlinecolor": "#2a3f5f"
            },
            "type": "carpet"
           }
          ],
          "choropleth": [
           {
            "colorbar": {
             "outlinewidth": 0,
             "ticks": ""
            },
            "type": "choropleth"
           }
          ],
          "contour": [
           {
            "colorbar": {
             "outlinewidth": 0,
             "ticks": ""
            },
            "colorscale": [
             [
              0,
              "#0d0887"
             ],
             [
              0.1111111111111111,
              "#46039f"
             ],
             [
              0.2222222222222222,
              "#7201a8"
             ],
             [
              0.3333333333333333,
              "#9c179e"
             ],
             [
              0.4444444444444444,
              "#bd3786"
             ],
             [
              0.5555555555555556,
              "#d8576b"
             ],
             [
              0.6666666666666666,
              "#ed7953"
             ],
             [
              0.7777777777777778,
              "#fb9f3a"
             ],
             [
              0.8888888888888888,
              "#fdca26"
             ],
             [
              1,
              "#f0f921"
             ]
            ],
            "type": "contour"
           }
          ],
          "contourcarpet": [
           {
            "colorbar": {
             "outlinewidth": 0,
             "ticks": ""
            },
            "type": "contourcarpet"
           }
          ],
          "heatmap": [
           {
            "colorbar": {
             "outlinewidth": 0,
             "ticks": ""
            },
            "colorscale": [
             [
              0,
              "#0d0887"
             ],
             [
              0.1111111111111111,
              "#46039f"
             ],
             [
              0.2222222222222222,
              "#7201a8"
             ],
             [
              0.3333333333333333,
              "#9c179e"
             ],
             [
              0.4444444444444444,
              "#bd3786"
             ],
             [
              0.5555555555555556,
              "#d8576b"
             ],
             [
              0.6666666666666666,
              "#ed7953"
             ],
             [
              0.7777777777777778,
              "#fb9f3a"
             ],
             [
              0.8888888888888888,
              "#fdca26"
             ],
             [
              1,
              "#f0f921"
             ]
            ],
            "type": "heatmap"
           }
          ],
          "heatmapgl": [
           {
            "colorbar": {
             "outlinewidth": 0,
             "ticks": ""
            },
            "colorscale": [
             [
              0,
              "#0d0887"
             ],
             [
              0.1111111111111111,
              "#46039f"
             ],
             [
              0.2222222222222222,
              "#7201a8"
             ],
             [
              0.3333333333333333,
              "#9c179e"
             ],
             [
              0.4444444444444444,
              "#bd3786"
             ],
             [
              0.5555555555555556,
              "#d8576b"
             ],
             [
              0.6666666666666666,
              "#ed7953"
             ],
             [
              0.7777777777777778,
              "#fb9f3a"
             ],
             [
              0.8888888888888888,
              "#fdca26"
             ],
             [
              1,
              "#f0f921"
             ]
            ],
            "type": "heatmapgl"
           }
          ],
          "histogram": [
           {
            "marker": {
             "colorbar": {
              "outlinewidth": 0,
              "ticks": ""
             }
            },
            "type": "histogram"
           }
          ],
          "histogram2d": [
           {
            "colorbar": {
             "outlinewidth": 0,
             "ticks": ""
            },
            "colorscale": [
             [
              0,
              "#0d0887"
             ],
             [
              0.1111111111111111,
              "#46039f"
             ],
             [
              0.2222222222222222,
              "#7201a8"
             ],
             [
              0.3333333333333333,
              "#9c179e"
             ],
             [
              0.4444444444444444,
              "#bd3786"
             ],
             [
              0.5555555555555556,
              "#d8576b"
             ],
             [
              0.6666666666666666,
              "#ed7953"
             ],
             [
              0.7777777777777778,
              "#fb9f3a"
             ],
             [
              0.8888888888888888,
              "#fdca26"
             ],
             [
              1,
              "#f0f921"
             ]
            ],
            "type": "histogram2d"
           }
          ],
          "histogram2dcontour": [
           {
            "colorbar": {
             "outlinewidth": 0,
             "ticks": ""
            },
            "colorscale": [
             [
              0,
              "#0d0887"
             ],
             [
              0.1111111111111111,
              "#46039f"
             ],
             [
              0.2222222222222222,
              "#7201a8"
             ],
             [
              0.3333333333333333,
              "#9c179e"
             ],
             [
              0.4444444444444444,
              "#bd3786"
             ],
             [
              0.5555555555555556,
              "#d8576b"
             ],
             [
              0.6666666666666666,
              "#ed7953"
             ],
             [
              0.7777777777777778,
              "#fb9f3a"
             ],
             [
              0.8888888888888888,
              "#fdca26"
             ],
             [
              1,
              "#f0f921"
             ]
            ],
            "type": "histogram2dcontour"
           }
          ],
          "mesh3d": [
           {
            "colorbar": {
             "outlinewidth": 0,
             "ticks": ""
            },
            "type": "mesh3d"
           }
          ],
          "parcoords": [
           {
            "line": {
             "colorbar": {
              "outlinewidth": 0,
              "ticks": ""
             }
            },
            "type": "parcoords"
           }
          ],
          "pie": [
           {
            "automargin": true,
            "type": "pie"
           }
          ],
          "scatter": [
           {
            "marker": {
             "colorbar": {
              "outlinewidth": 0,
              "ticks": ""
             }
            },
            "type": "scatter"
           }
          ],
          "scatter3d": [
           {
            "line": {
             "colorbar": {
              "outlinewidth": 0,
              "ticks": ""
             }
            },
            "marker": {
             "colorbar": {
              "outlinewidth": 0,
              "ticks": ""
             }
            },
            "type": "scatter3d"
           }
          ],
          "scattercarpet": [
           {
            "marker": {
             "colorbar": {
              "outlinewidth": 0,
              "ticks": ""
             }
            },
            "type": "scattercarpet"
           }
          ],
          "scattergeo": [
           {
            "marker": {
             "colorbar": {
              "outlinewidth": 0,
              "ticks": ""
             }
            },
            "type": "scattergeo"
           }
          ],
          "scattergl": [
           {
            "marker": {
             "colorbar": {
              "outlinewidth": 0,
              "ticks": ""
             }
            },
            "type": "scattergl"
           }
          ],
          "scattermapbox": [
           {
            "marker": {
             "colorbar": {
              "outlinewidth": 0,
              "ticks": ""
             }
            },
            "type": "scattermapbox"
           }
          ],
          "scatterpolar": [
           {
            "marker": {
             "colorbar": {
              "outlinewidth": 0,
              "ticks": ""
             }
            },
            "type": "scatterpolar"
           }
          ],
          "scatterpolargl": [
           {
            "marker": {
             "colorbar": {
              "outlinewidth": 0,
              "ticks": ""
             }
            },
            "type": "scatterpolargl"
           }
          ],
          "scatterternary": [
           {
            "marker": {
             "colorbar": {
              "outlinewidth": 0,
              "ticks": ""
             }
            },
            "type": "scatterternary"
           }
          ],
          "surface": [
           {
            "colorbar": {
             "outlinewidth": 0,
             "ticks": ""
            },
            "colorscale": [
             [
              0,
              "#0d0887"
             ],
             [
              0.1111111111111111,
              "#46039f"
             ],
             [
              0.2222222222222222,
              "#7201a8"
             ],
             [
              0.3333333333333333,
              "#9c179e"
             ],
             [
              0.4444444444444444,
              "#bd3786"
             ],
             [
              0.5555555555555556,
              "#d8576b"
             ],
             [
              0.6666666666666666,
              "#ed7953"
             ],
             [
              0.7777777777777778,
              "#fb9f3a"
             ],
             [
              0.8888888888888888,
              "#fdca26"
             ],
             [
              1,
              "#f0f921"
             ]
            ],
            "type": "surface"
           }
          ],
          "table": [
           {
            "cells": {
             "fill": {
              "color": "#EBF0F8"
             },
             "line": {
              "color": "white"
             }
            },
            "header": {
             "fill": {
              "color": "#C8D4E3"
             },
             "line": {
              "color": "white"
             }
            },
            "type": "table"
           }
          ]
         },
         "layout": {
          "annotationdefaults": {
           "arrowcolor": "#2a3f5f",
           "arrowhead": 0,
           "arrowwidth": 1
          },
          "coloraxis": {
           "colorbar": {
            "outlinewidth": 0,
            "ticks": ""
           }
          },
          "colorscale": {
           "diverging": [
            [
             0,
             "#8e0152"
            ],
            [
             0.1,
             "#c51b7d"
            ],
            [
             0.2,
             "#de77ae"
            ],
            [
             0.3,
             "#f1b6da"
            ],
            [
             0.4,
             "#fde0ef"
            ],
            [
             0.5,
             "#f7f7f7"
            ],
            [
             0.6,
             "#e6f5d0"
            ],
            [
             0.7,
             "#b8e186"
            ],
            [
             0.8,
             "#7fbc41"
            ],
            [
             0.9,
             "#4d9221"
            ],
            [
             1,
             "#276419"
            ]
           ],
           "sequential": [
            [
             0,
             "#0d0887"
            ],
            [
             0.1111111111111111,
             "#46039f"
            ],
            [
             0.2222222222222222,
             "#7201a8"
            ],
            [
             0.3333333333333333,
             "#9c179e"
            ],
            [
             0.4444444444444444,
             "#bd3786"
            ],
            [
             0.5555555555555556,
             "#d8576b"
            ],
            [
             0.6666666666666666,
             "#ed7953"
            ],
            [
             0.7777777777777778,
             "#fb9f3a"
            ],
            [
             0.8888888888888888,
             "#fdca26"
            ],
            [
             1,
             "#f0f921"
            ]
           ],
           "sequentialminus": [
            [
             0,
             "#0d0887"
            ],
            [
             0.1111111111111111,
             "#46039f"
            ],
            [
             0.2222222222222222,
             "#7201a8"
            ],
            [
             0.3333333333333333,
             "#9c179e"
            ],
            [
             0.4444444444444444,
             "#bd3786"
            ],
            [
             0.5555555555555556,
             "#d8576b"
            ],
            [
             0.6666666666666666,
             "#ed7953"
            ],
            [
             0.7777777777777778,
             "#fb9f3a"
            ],
            [
             0.8888888888888888,
             "#fdca26"
            ],
            [
             1,
             "#f0f921"
            ]
           ]
          },
          "colorway": [
           "#636efa",
           "#EF553B",
           "#00cc96",
           "#ab63fa",
           "#FFA15A",
           "#19d3f3",
           "#FF6692",
           "#B6E880",
           "#FF97FF",
           "#FECB52"
          ],
          "font": {
           "color": "#2a3f5f"
          },
          "geo": {
           "bgcolor": "white",
           "lakecolor": "white",
           "landcolor": "#E5ECF6",
           "showlakes": true,
           "showland": true,
           "subunitcolor": "white"
          },
          "hoverlabel": {
           "align": "left"
          },
          "hovermode": "closest",
          "mapbox": {
           "style": "light"
          },
          "paper_bgcolor": "white",
          "plot_bgcolor": "#E5ECF6",
          "polar": {
           "angularaxis": {
            "gridcolor": "white",
            "linecolor": "white",
            "ticks": ""
           },
           "bgcolor": "#E5ECF6",
           "radialaxis": {
            "gridcolor": "white",
            "linecolor": "white",
            "ticks": ""
           }
          },
          "scene": {
           "xaxis": {
            "backgroundcolor": "#E5ECF6",
            "gridcolor": "white",
            "gridwidth": 2,
            "linecolor": "white",
            "showbackground": true,
            "ticks": "",
            "zerolinecolor": "white"
           },
           "yaxis": {
            "backgroundcolor": "#E5ECF6",
            "gridcolor": "white",
            "gridwidth": 2,
            "linecolor": "white",
            "showbackground": true,
            "ticks": "",
            "zerolinecolor": "white"
           },
           "zaxis": {
            "backgroundcolor": "#E5ECF6",
            "gridcolor": "white",
            "gridwidth": 2,
            "linecolor": "white",
            "showbackground": true,
            "ticks": "",
            "zerolinecolor": "white"
           }
          },
          "shapedefaults": {
           "line": {
            "color": "#2a3f5f"
           }
          },
          "ternary": {
           "aaxis": {
            "gridcolor": "white",
            "linecolor": "white",
            "ticks": ""
           },
           "baxis": {
            "gridcolor": "white",
            "linecolor": "white",
            "ticks": ""
           },
           "bgcolor": "#E5ECF6",
           "caxis": {
            "gridcolor": "white",
            "linecolor": "white",
            "ticks": ""
           }
          },
          "title": {
           "x": 0.05
          },
          "xaxis": {
           "automargin": true,
           "gridcolor": "white",
           "linecolor": "white",
           "ticks": "",
           "title": {
            "standoff": 15
           },
           "zerolinecolor": "white",
           "zerolinewidth": 2
          },
          "yaxis": {
           "automargin": true,
           "gridcolor": "white",
           "linecolor": "white",
           "ticks": "",
           "title": {
            "standoff": 15
           },
           "zerolinecolor": "white",
           "zerolinewidth": 2
          }
         }
        },
        "xaxis": {
         "dtick": 0,
         "title": {
          "text": "value"
         }
        },
        "yaxis": {
         "range": [
          0,
          1
         ],
         "tickvals": [
          0,
          0.1,
          0.2,
          0.30000000000000004,
          0.4,
          0.5,
          0.6000000000000001,
          0.7000000000000001,
          0.8,
          0.9
         ],
         "title": {
          "text": "probability"
         }
        }
       }
      },
      "text/html": [
       "<div>\n",
       "        \n",
       "        \n",
       "            <div id=\"229a6928-9826-4b1d-90f6-c06c3556f8ed\" class=\"plotly-graph-div\" style=\"height:525px; width:100%;\"></div>\n",
       "            <script type=\"text/javascript\">\n",
       "                require([\"plotly\"], function(Plotly) {\n",
       "                    window.PLOTLYENV=window.PLOTLYENV || {};\n",
       "                    \n",
       "                if (document.getElementById(\"229a6928-9826-4b1d-90f6-c06c3556f8ed\")) {\n",
       "                    Plotly.newPlot(\n",
       "                        '229a6928-9826-4b1d-90f6-c06c3556f8ed',\n",
       "                        [{\"histnorm\": \"probability\", \"type\": \"histogram\", \"x\": [-0.0005776663016440599, -7.199481674658318e-05, -0.0023066792309258378, -0.00028791710374148584, -0.000721479467378377, -7.999936001245965e-06, -1.7999676011885852e-05, -0.0002879171037415968, -0.00019996001599211714, -0.00019996001599211714, -1.7999676011885852e-05, -7.199481674658318e-05, -0.00044979768204544783, -0.0005117381240925738, -0.0012484413940857576, -0.002173276867656729, -3.199897606575257e-05, -0.00044979768204544783, -4.9997500250191195e-05, -0.0010568829983280707, -2.220446049250313e-16, -7.199481674658318e-05, -3.199897606575257e-05, -0.0033507723248272854, -4.9997500250191195e-05, -1.7999676011885852e-05, -3.199897606575257e-05, -7.999936001245965e-06, -0.00016197376449972507, -7.999936001245965e-06, -7.999936001245965e-06, -0.00039184645635486585, -0.00016197376449983607, -0.0011506759448701182, -0.0015655490561530074, -7.999936001245965e-06, -0.0002879171037415968, -1.999996000238186e-06, -0.0005117381240924628, -0.00033788583316396887, -0.00019996001599211714, -1.7999676011885852e-05, -1.7999676011885852e-05, -0.00039184645635475493, -9.799039788214536e-05, -0.0005776663016440599, -0.0007214794673782661, -0.00039184645635475493, -0.000799361021956799, -0.00024194146432806088, -0.0003378858331638579, -0.0003378858331638579, -0.00039184645635475493, -7.999936001245965e-06, -0.0010568829983280707, -0.0003378858331638579, -7.199481674658318e-05, -0.0011506759448701182, -0.0005117381240925738, -0.0006475806393156956, -0.0005776663016440599, -0.0016791803533411768, -0.000721479467378377, -0.0014558804122255227, -0.0016791803533411768, -0.002173276867656729, -0.0005776663016440599, -3.199897606575257e-05, -0.00012798362019307238, -0.0008812234452397858, -1.7999676011885852e-05, -0.00039184645635475493, -7.999936001245965e-06, -0.0002879171037415968, -0.00024194146432806088, -0.00012798362019307238, -0.0012484413940857576, -0.00039184645635486585, -9.799039788203436e-05, -7.199481674658318e-05, -0.0005117381240924628, -1.7999676011885852e-05, -0.000799361021956799, -0.00016197376449983607, -2.220446049250313e-16, -0.00024194146432806088, -0.002043822788409688, -7.999936001245965e-06, -0.00033788583316396887, -3.199897606575257e-05, -1.999996000238186e-06, -0.0009670647857004801, -0.00012798362019307238, -9.799039788203436e-05, -7.199481674658318e-05, -0.0006475806393158065, -0.00012798362019307238, -0.00028791710374148584, -4.9997500250191195e-05, -0.0027305441287611143, -1.999996000238186e-06, -0.0002419414643279499, -7.199481674658318e-05, -0.00028791710374148584, -4.9997500250191195e-05, -0.0016791803533411768, -1.7999676011885852e-05, -7.999936001245965e-06, -7.999936001245965e-06, -0.0016791803533411768, -9.799039788203436e-05, -0.0012484413940857576, -0.000799361021956799, -0.000721479467378377, -0.0003378858331638579, -3.199897606575257e-05, -0.0002879171037415968, -0.0006475806393156956, -0.0014558804122255227, -0.00028791710374148584, -0.0012484413940857576, -3.199897606575257e-05, -0.0005776663016440599, -0.0001279836201931834, -0.00028791710374148584, -0.0005776663016441708, -0.00019996001599211714, -0.0005776663016440599, -0.0005776663016441708, -0.0033507723248272854, -0.002043822788409688, -2.220446049250313e-16, -0.0017967716117753465, -0.0012484413940857576, -1.999996000238186e-06, -0.00033788583316396887, -0.0002879171037415968, -1.7999676011885852e-05, -0.00039184645635475493, -1.999996000238186e-06, -4.9997500250191195e-05, -3.199897606575257e-05, -0.0010568829983280707, -4.9997500250191195e-05, -0.000799361021956799, -0.0002419414643279499, -0.00019996001599211714, -0.0005776663016440599, -3.199897606575257e-05, -2.220446049250313e-16, -0.00016197376449972507, -0.0008812234452397858, -1.7999676011885852e-05, -0.0008812234452397858, -3.199897606575257e-05, -1.7999676011885852e-05, -0.00019996001599222813, -0.00019996001599222813, -0.00033788583316396887, -3.199897606575257e-05, -0.00019996001599211714, -0.0011506759448701182, -0.0035156402734676834, -0.0002879171037415968, -0.0008812234452397858, -0.0003378858331638579, -0.00039184645635475493, -0.0005776663016441708, -3.199897606575257e-05, -0.0014558804122255227, -7.999936001245965e-06, -0.0005117381240924628, -7.999936001245965e-06, -3.199897606575257e-05, -1.999996000238186e-06, -0.00039184645635486585, -0.0011506759448701182, -0.0006475806393158065, -3.199897606575257e-05, -9.799039788214536e-05, -9.799039788214536e-05, -3.199897606575257e-05, -0.002173276867656729, -1.999996000238186e-06, -0.0010568829983280707, -4.9997500250191195e-05, -2.220446049250313e-16, -0.0002879171037415968, -0.00016197376449983607, -1.7999676011885852e-05, -0.0002879171037415968, -0.0005117381240925738, -0.0008812234452397858, -3.199897606575257e-05, -0.00028791710374148584, -4.9997500250191195e-05, -0.00016197376449983607, -0.00012798362019307238, -0.0014558804122255227, -9.799039788203436e-05, -3.199897606575257e-05, -0.0012484413940857576, -0.0010568829983280707, -0.0025853161404541286, -4.9997500250191195e-05, -0.0036844250123286397, -1.7999676011885852e-05, -1.999996000238186e-06, -3.199897606575257e-05, -0.00016197376449983607, -2.220446049250313e-16, -1.999996000238186e-06, -0.0011506759448701182, -0.0005117381240925738, -0.0019183200481929243, -0.00024194146432806088, -4.9997500250191195e-05, -9.799039788203436e-05, -3.199897606575257e-05, -0.0005117381240925738, -0.0025853161404541286, -0.0031898250163650854, -1.999996000238186e-06, -0.0002879171037415968, -1.999996000238186e-06, -0.0012484413940857576, -7.199481674658318e-05, -4.9997500250191195e-05, -2.220446049250313e-16, -0.0002419414643279499, -0.00019996001599222813, -7.999936001245965e-06, -0.0003378858331638579, -0.0006475806393156956, -0.0005776663016441708, -0.000721479467378377, -1.999996000238186e-06, -0.0012484413940857576, -0.0004497976820453369, -7.199481674658318e-05, -9.799039788214536e-05, -0.00016197376449983607, -7.199481674658318e-05, -4.9997500250191195e-05, -0.0038571226052085093, -9.799039788203436e-05, -0.0005117381240924628, -7.999936001245965e-06, -7.999936001245965e-06, -7.199481674658318e-05, -0.00039184645635486585, -0.00012798362019307238, -0.0005117381240924628, -0.0005117381240924628, -2.220446049250313e-16, -1.999996000238186e-06, -7.999936001245965e-06, -0.000721479467378377, -0.0013501770220094662, -3.199897606575257e-05, -0.00039184645635475493, -7.199481674658318e-05, -7.999936001245965e-06, -1.7999676011885852e-05, -4.9997500250191195e-05, -0.0008812234452397858, -0.0005776663016441708, -1.7999676011885852e-05, -0.00039184645635475493, -0.0001279836201931834, -4.9997500250191195e-05, -0.0005117381240925738, -0.0014558804122255227, -0.0002419414643279499, -1.999996000238186e-06, -0.00039184645635475493, -0.0003378858331638579, -0.0006475806393156956, -0.00044979768204544783, -0.0017967716117753465, -0.0005776663016441708, -4.9997500250191195e-05, -2.220446049250313e-16, -1.999996000238186e-06, -7.999936001245965e-06, -0.00019996001599222813, -0.0010568829983280707, -0.0014558804122255227, -0.00039184645635475493, -2.220446049250313e-16, -0.0019183200481929243, -0.0002879171037415968, -3.199897606575257e-05, -0.0002419414643279499, -1.999996000238186e-06, -3.199897606575257e-05, -0.00019996001599222813, -1.7999676011885852e-05, -0.0001279836201931834, -0.0008812234452397858, -0.0003378858331638579, -3.199897606575257e-05, -0.00019996001599222813, -0.0005117381240924628, -0.0002419414643279499, -3.199897606575257e-05, -0.0011506759448701182, -0.00016197376449983607, -0.0002419414643279499, -0.0019183200481929243, -3.199897606575257e-05, -4.9997500250191195e-05, -0.000799361021956799, -0.0005117381240924628, -0.0009670647857004801, -7.199481674658318e-05, -0.0015655490561530074, -0.0006475806393158065, -1.7999676011885852e-05, -0.00016197376449972507, -0.002879707285947487, -1.999996000238186e-06, -0.0027305441287611143, -0.00016197376449983607, -9.799039788214536e-05, -0.0013501770220094662, -0.0002879171037415968, -0.00016197376449983607, -0.0006475806393156956, -0.0013501770220094662, -0.00033788583316396887, -2.220446049250313e-16, -4.9997500250191195e-05, -0.0010568829983280707, -1.999996000238186e-06, -3.199897606575257e-05, -0.00039184645635475493, -0.00039184645635475493, -0.00019996001599222813, -0.0013501770220094662, -0.00019996001599222813, -1.7999676011885852e-05, -4.9997500250191195e-05, -3.199897606575257e-05, -0.0015655490561530074, -0.0027305441287611143, -7.199481674658318e-05, -0.0005776663016441708, -0.0017967716117753465, -0.0009670647857004801, -2.220446049250313e-16, -0.0001279836201931834, -3.199897606575257e-05, -3.199897606575257e-05, -0.0005117381240924628, -0.002173276867656729, -9.799039788203436e-05, -0.0027305441287611143, -0.000799361021956799, -0.00012798362019307238, -7.999936001245965e-06, -0.0004497976820453369, -0.00033788583316396887, -0.00019996001599211714, -0.00024194146432806088, -0.00012798362019307238, -3.199897606575257e-05, -7.199481674658318e-05, -0.00024194146432806088, -0.0004497976820453369, -2.220446049250313e-16, -0.002043822788409688, -0.00039184645635486585, -0.0014558804122255227, -1.999996000238186e-06, -0.00024194146432806088, -4.9997500250191195e-05, -2.220446049250313e-16, -0.00044979768204544783, -0.0006475806393158065, -0.000799361021956799, -0.00012798362019307238, -0.0027305441287611143, -1.999996000238186e-06, -7.199481674658318e-05, -4.9997500250191195e-05, -0.00019996001599222813, -0.0007214794673782661, -9.799039788203436e-05, -0.000721479467378377, -2.220446049250313e-16, -0.0004497976820453369, -1.999996000238186e-06, -0.0004497976820453369, -4.9997500250191195e-05, -0.0003378858331638579, -0.0006475806393156956, -0.0014558804122255227, -1.7999676011885852e-05, -0.00044979768204544783, -1.999996000238186e-06, -7.199481674658318e-05, -9.799039788203436e-05, -0.0004497976820453369, -0.0007214794673782661, -0.00012798362019307238, -1.999996000238186e-06, -0.00024194146432806088, -0.000799361021956799, -3.199897606575257e-05, -0.00016197376449983607, -0.0017967716117753465, -0.0003378858331638579, -4.9997500250191195e-05, -7.199481674658318e-05, -0.0015655490561530074, -7.999936001245965e-06, -0.0031898250163650854, -4.9997500250191195e-05, -0.0006475806393158065, -7.999936001245965e-06, -0.00019996001599222813, -0.0002879171037415968, -0.0008812234452397858, -3.199897606575257e-05, -7.199481674658318e-05, -0.00016197376449972507, -0.0002419414643279499, -0.0008812234452397858, -0.0023066792309258378, -7.199481674658318e-05, -4.9997500250191195e-05, -0.00012798362019307238, -0.0006475806393158065, -0.00016197376449972507, -0.0011506759448701182, -0.0011506759448701182, -0.0003378858331638579, -9.799039788203436e-05, -0.0015655490561530074, -0.00024194146432806088, -0.00019996001599211714, -0.00012798362019307238, -0.0001279836201931834, -0.0006475806393156956, -0.0009670647857004801, -7.999936001245965e-06, -0.00012798362019307238, -0.00028791710374148584, -0.0013501770220094662, -4.9997500250191195e-05, -0.0011506759448701182, -0.0002419414643279499, -0.000799361021956799, -0.0005776663016441708, -9.799039788203436e-05, -0.0001279836201931834, -0.0017967716117753465, -1.7999676011885852e-05, -0.00016197376449983607, -0.0008812234452397858, -0.00024194146432806088, -9.799039788214536e-05, -0.0016791803533411768, -0.00033788583316396887, -1.7999676011885852e-05, -3.199897606575257e-05, -0.000721479467378377, -1.7999676011885852e-05, -0.0001279836201931834, -0.0024440267333270095, -7.999936001245965e-06, -7.199481674658318e-05, -0.000799361021956799, -1.999996000238186e-06, -1.999996000238186e-06, -0.0010568829983280707, -0.00012798362019307238, -0.0011506759448701182, -4.9997500250191195e-05, -0.0006475806393156956, -0.00016197376449972507, -0.000721479467378377, -1.999996000238186e-06, -4.9997500250191195e-05, -1.7999676011885852e-05, -0.0009670647857004801, -4.9997500250191195e-05, -9.799039788203436e-05, -3.199897606575257e-05, -0.0027305441287611143, -0.0011506759448701182, -0.0004497976820453369, -0.002043822788409688, -0.0024440267333270095, -9.799039788214536e-05, -9.799039788214536e-05, -4.9997500250191195e-05, -1.7999676011885852e-05, -0.00016197376449972507, -2.220446049250313e-16, -7.199481674658318e-05, -0.0009670647857004801, -0.00019996001599222813, -0.0013501770220094662, -0.00039184645635475493, -0.0010568829983280707, -4.9997500250191195e-05, -7.999936001245965e-06, -1.999996000238186e-06, -0.0012484413940857576, -0.00019996001599222813, -0.00028791710374148584, -0.00016197376449983607, -7.999936001245965e-06, -0.00044979768204544783, -0.0014558804122255227, -9.799039788214536e-05, -0.00019996001599222813, -0.0008812234452397858, -0.0002419414643279499, -1.7999676011885852e-05, -0.00039184645635486585, -0.0006475806393158065, -0.0005117381240924628, -0.00039184645635475493, -0.00019996001599211714, -0.0007214794673782661, -0.0011506759448701182, -0.00016197376449983607, -4.9997500250191195e-05, -0.00016197376449983607, -7.199481674658318e-05, -9.799039788214536e-05, -0.00024194146432806088, -0.0003378858331638579, -0.0017967716117753465, -0.0031898250163650854, -4.9997500250191195e-05, -0.00012798362019307238, -0.00012798362019307238, -9.799039788214536e-05, -0.0008812234452397858, -0.0006475806393158065, -0.00028791710374148584, -3.199897606575257e-05, -2.220446049250313e-16, -2.220446049250313e-16, -4.9997500250191195e-05, -3.199897606575257e-05, -1.7999676011885852e-05, -0.0016791803533411768, -0.00039184645635475493, -0.00016197376449983607, -0.0005117381240924628, -0.0002419414643279499, -0.0013501770220094662, -0.0006475806393156956, -0.0007214794673782661, -0.0006475806393156956, -7.199481674658318e-05, -7.199481674658318e-05, -1.999996000238186e-06, -0.0012484413940857576, -1.7999676011885852e-05, -9.799039788214536e-05, -9.799039788203436e-05, -0.0005117381240925738, -7.199481674658318e-05, -0.0013501770220094662, -4.9997500250191195e-05, -0.0009670647857004801, -0.0001279836201931834, -7.199481674658318e-05, -4.9997500250191195e-05, -0.00033788583316396887, -0.00039184645635475493, -1.7999676011885852e-05, -0.00039184645635475493, -1.999996000238186e-06, -0.002173276867656729, -1.999996000238186e-06, -0.0005117381240925738, -0.002173276867656729, -1.999996000238186e-06, -0.0001279836201931834, -0.0004497976820453369, -0.0009670647857004801, -0.0009670647857004801, -9.799039788214536e-05, -0.00033788583316396887, -0.0011506759448701182, -0.00019996001599222813, -0.0006475806393156956, -0.0009670647857004801, -0.0010568829983280707, -0.002043822788409688, -0.0013501770220094662, -0.0016791803533411768, -0.0007214794673782661, -0.002879707285947487, -0.0001279836201931834, -0.004033729030111744, -0.00019996001599222813, -0.00019996001599211714, -0.0012484413940857576, -3.199897606575257e-05, -0.003032802111353593, -0.0010568829983280707, -9.799039788203436e-05, -1.999996000238186e-06, -0.0011506759448701182, -0.000721479467378377, -0.0011506759448701182, -7.199481674658318e-05, -1.999996000238186e-06, -3.199897606575257e-05, -0.0012484413940857576, -0.00019996001599211714, -0.0024440267333270095, -0.00016197376449972507, -1.999996000238186e-06, -3.199897606575257e-05, -0.00019996001599222813, -0.0002879171037415968, -0.0024440267333270095, -0.00019996001599222813, -0.0002419414643279499, -0.00024194146432806088, -3.199897606575257e-05, -0.0009670647857004801, -0.0001279836201931834, -0.00033788583316396887, -0.0005776663016441708, -0.00024194146432806088, -9.799039788214536e-05, -7.999936001245965e-06, -1.999996000238186e-06, -4.9997500250191195e-05, -7.999936001245965e-06, -7.199481674658318e-05, -0.000799361021956799, -4.9997500250191195e-05, -1.7999676011885852e-05, -0.0003378858331638579, -0.000799361021956799, -0.00044979768204544783, -7.199481674658318e-05, -2.220446049250313e-16, -0.0006475806393156956, -1.999996000238186e-06, -9.799039788214536e-05, -9.799039788203436e-05, -0.0027305441287611143, -0.0023066792309258378, -9.799039788203436e-05, -0.0005117381240924628, -0.0003378858331638579, -0.0016791803533411768, -9.799039788214536e-05, -0.00016197376449972507, -0.00012798362019307238, -0.00019996001599211714, -0.0009670647857004801, -3.199897606575257e-05, -9.799039788214536e-05, -0.0005776663016440599, -0.0016791803533411768, -0.0004497976820453369, -7.199481674658318e-05, -0.0006475806393156956, -1.7999676011885852e-05, -0.00019996001599211714, -4.9997500250191195e-05, -7.199481674658318e-05, -0.00039184645635486585, -0.0002419414643279499, -0.0011506759448701182, -0.00019996001599211714, -7.999936001245965e-06, -1.999996000238186e-06, -0.0005776663016441708, -1.7999676011885852e-05, -0.0013501770220094662, -0.0005117381240924628, -0.0016791803533411768, -1.7999676011885852e-05, -4.9997500250191195e-05, -0.004033729030111744, -0.00016197376449972507, -0.0025853161404541286, -0.00039184645635486585, -0.0005117381240924628, -0.0004497976820453369, -3.199897606575257e-05, -0.00039184645635486585, -0.002173276867656729, -0.0005117381240924628, -0.000721479467378377, -0.00033788583316396887, -1.999996000238186e-06, -0.00016197376449983607, -0.0004497976820453369, -0.00019996001599211714, -0.0001279836201931834, -0.0006475806393156956, -9.799039788214536e-05, -9.799039788203436e-05, -0.0002879171037415968, -7.199481674658318e-05, -0.00019996001599222813, -7.999936001245965e-06, -4.9997500250191195e-05, -7.199481674658318e-05, -9.799039788214536e-05, -1.999996000238186e-06, -7.999936001245965e-06, -0.00019996001599211714, -1.7999676011885852e-05, -1.999996000238186e-06, -4.9997500250191195e-05, -1.7999676011885852e-05, -0.0015655490561530074, -0.0005117381240924628, -0.000721479467378377, -0.0014558804122255227, -2.220446049250313e-16, -4.9997500250191195e-05, -0.0006475806393156956, -0.0003378858331638579, -0.0005117381240924628, -0.0007214794673782661, -0.000799361021956799, -0.0016791803533411768, -0.002173276867656729, -0.0005117381240924628, -7.999936001245965e-06, -0.00039184645635475493, -0.0010568829983280707, -7.199481674658318e-05, -0.0008812234452397858, -0.00028791710374148584, -0.0006475806393156956, -0.0014558804122255227, -0.00016197376449972507, -0.00044979768204544783, -0.00028791710374148584, -0.00028791710374148584, -0.0013501770220094662, -0.0002419414643279499, -0.0010568829983280707, -0.000799361021956799, -0.0010568829983280707, -0.0010568829983280707, -0.0006475806393158065, -0.00024194146432806088, -3.199897606575257e-05, -0.0002879171037415968, -0.0005776663016441708, -0.00039184645635475493, -3.199897606575257e-05, -0.0009670647857004801, -1.7999676011885852e-05, -4.9997500250191195e-05, -7.999936001245965e-06, -1.999996000238186e-06, -9.799039788203436e-05, -0.000799361021956799, -1.999996000238186e-06, -1.999996000238186e-06, -1.7999676011885852e-05, -0.0008812234452397858, -0.00024194146432806088, -1.999996000238186e-06, -0.005379065652704123, -0.00016197376449972507, -3.199897606575257e-05, -0.00024194146432806088, -3.199897606575257e-05, -1.999996000238186e-06, -2.220446049250313e-16, -0.0019183200481929243, -0.000799361021956799, -0.000799361021956799, -0.0016791803533411768, -0.0002879171037415968, -0.002173276867656729, -0.00028791710374148584, -0.000721479467378377, -0.00019996001599211714, -0.004033729030111744, -0.0016791803533411768, -0.0001279836201931834, -1.7999676011885852e-05, -0.00016197376449983607, -0.00033788583316396887, -9.799039788214536e-05, -0.0002879171037415968, -0.0002419414643279499, -0.0004497976820453369, -0.0006475806393158065, -1.999996000238186e-06, -0.00019996001599222813, -4.9997500250191195e-05, -0.0008812234452397858, -1.999996000238186e-06, -0.00039184645635475493, -1.7999676011885852e-05, -0.0006475806393156956, -9.799039788214536e-05, -0.0005776663016440599, -7.199481674658318e-05, -0.00016197376449983607, -7.999936001245965e-06, -0.00016197376449972507, -0.00039184645635475493, -0.0011506759448701182, -7.999936001245965e-06, -0.00039184645635475493, -0.0015655490561530074, -0.0009670647857004801, -0.0006475806393156956, -7.199481674658318e-05, -0.0001279836201931834, -0.0009670647857004801, -4.9997500250191195e-05, -3.199897606575257e-05, -0.0008812234452397858, -3.199897606575257e-05, -0.00039184645635475493, -7.199481674658318e-05, -1.7999676011885852e-05, -1.999996000238186e-06, -0.00012798362019307238, -0.00028791710374148584, -9.799039788214536e-05, -0.00016197376449972507, -2.220446049250313e-16, -3.199897606575257e-05, -1.7999676011885852e-05, -7.999936001245965e-06, -0.0002419414643279499, -0.0016791803533411768, -0.00024194146432806088, -0.0008812234452397858, -0.0005117381240924628, -0.00019996001599222813, -0.0012484413940857576, -0.0006475806393158065, -0.0009670647857004801, -7.199481674658318e-05, -0.0038571226052085093, -0.00024194146432806088, -3.199897606575257e-05, -0.00024194146432806088, -2.220446049250313e-16, -2.220446049250313e-16, -0.0004497976820453369, -0.0033507723248272854, -0.00016197376449972507, -7.199481674658318e-05, -0.0011506759448701182, -0.002043822788409688, -4.9997500250191195e-05, -7.999936001245965e-06, -0.0017967716117753465, -1.7999676011885852e-05, -0.0001279836201931834, -0.0015655490561530074, -4.9997500250191195e-05, -4.9997500250191195e-05, -1.7999676011885852e-05, -0.0010568829983280707, -0.00016197376449972507, -3.199897606575257e-05, -0.0005776663016441708, -7.999936001245965e-06, -3.199897606575257e-05, -1.999996000238186e-06, -0.00039184645635486585, -0.00016197376449972507, -0.0002879171037415968, -2.220446049250313e-16, -0.00016197376449983607, -0.00019996001599222813, -0.00016197376449983607, -1.999996000238186e-06, -0.0008812234452397858, -0.000799361021956799, -7.199481674658318e-05, -0.0001279836201931834, -7.999936001245965e-06, -0.0010568829983280707, -0.0005117381240925738, -7.199481674658318e-05, -4.9997500250191195e-05, -0.0005117381240925738, -0.00039184645635475493, -3.199897606575257e-05, -0.0001279836201931834, -0.0003378858331638579, -7.199481674658318e-05, -4.9997500250191195e-05, -2.220446049250313e-16, -0.00039184645635486585, -3.199897606575257e-05, -4.9997500250191195e-05, -0.00012798362019307238, -0.0003378858331638579, -0.00016197376449972507, -0.002043822788409688, -0.00024194146432806088, -0.0004497976820453369, -0.0005776663016440599, -1.7999676011885852e-05, -0.00024194146432806088, -0.0013501770220094662, -0.00024194146432806088, -2.220446049250313e-16, -0.00016197376449972507, -0.00016197376449972507, -0.00016197376449983607, -0.0010568829983280707, -9.799039788214536e-05, -0.0004497976820453369, -0.00044979768204544783, -1.7999676011885852e-05, -0.0005117381240925738, -0.0008812234452397858, -3.199897606575257e-05, -0.00044979768204544783, -0.000721479467378377, -0.0005117381240925738, -0.00019996001599211714, -0.0016791803533411768, -1.7999676011885852e-05, -3.199897606575257e-05, -0.00016197376449972507, -0.00033788583316396887, -0.0025853161404541286, -0.0008812234452397858, -0.00019996001599211714, -0.0017967716117753465, -7.999936001245965e-06, -0.0012484413940857576, -1.999996000238186e-06, -0.0006475806393156956, -9.799039788203436e-05, -0.0009670647857004801, -4.9997500250191195e-05, -2.220446049250313e-16, -0.0005776663016441708, -0.000721479467378377, -7.199481674658318e-05, -0.004033729030111744, -0.0003378858331638579, -0.0009670647857004801, -0.0031898250163650854, -1.7999676011885852e-05, -0.0014558804122255227, -1.7999676011885852e-05, -0.000799361021956799, -0.0012484413940857576, -1.7999676011885852e-05, -7.199481674658318e-05, -9.799039788214536e-05, -0.0006475806393156956, -7.199481674658318e-05, -0.0002879171037415968, -1.999996000238186e-06, -4.9997500250191195e-05, -0.00028791710374148584, -0.0004497976820453369, -0.000799361021956799, -0.0015655490561530074, -7.999936001245965e-06, -0.0004497976820453369, -0.0005776663016440599, -0.0006475806393158065, -7.199481674658318e-05, -0.00012798362019307238, -0.00039184645635486585, -0.00044979768204544783, -2.220446049250313e-16, -1.999996000238186e-06, -0.00039184645635486585, -0.002879707285947487, -1.7999676011885852e-05, -7.999936001245965e-06, -0.0001279836201931834, -0.00016197376449972507, -7.999936001245965e-06, -7.199481674658318e-05, -0.0015655490561530074, -0.00039184645635475493, -7.199481674658318e-05, -0.0015655490561530074, -0.00033788583316396887, -7.199481674658318e-05, -0.00012798362019307238], \"xbins\": {\"size\": 0.0001}}],\n",
       "                        {\"template\": {\"data\": {\"bar\": [{\"error_x\": {\"color\": \"#2a3f5f\"}, \"error_y\": {\"color\": \"#2a3f5f\"}, \"marker\": {\"line\": {\"color\": \"#E5ECF6\", \"width\": 0.5}}, \"type\": \"bar\"}], \"barpolar\": [{\"marker\": {\"line\": {\"color\": \"#E5ECF6\", \"width\": 0.5}}, \"type\": \"barpolar\"}], \"carpet\": [{\"aaxis\": {\"endlinecolor\": \"#2a3f5f\", \"gridcolor\": \"white\", \"linecolor\": \"white\", \"minorgridcolor\": \"white\", \"startlinecolor\": \"#2a3f5f\"}, \"baxis\": {\"endlinecolor\": \"#2a3f5f\", \"gridcolor\": \"white\", \"linecolor\": \"white\", \"minorgridcolor\": \"white\", \"startlinecolor\": \"#2a3f5f\"}, \"type\": \"carpet\"}], \"choropleth\": [{\"colorbar\": {\"outlinewidth\": 0, \"ticks\": \"\"}, \"type\": \"choropleth\"}], \"contour\": [{\"colorbar\": {\"outlinewidth\": 0, \"ticks\": \"\"}, \"colorscale\": [[0.0, \"#0d0887\"], [0.1111111111111111, \"#46039f\"], [0.2222222222222222, \"#7201a8\"], [0.3333333333333333, \"#9c179e\"], [0.4444444444444444, \"#bd3786\"], [0.5555555555555556, \"#d8576b\"], [0.6666666666666666, \"#ed7953\"], [0.7777777777777778, \"#fb9f3a\"], [0.8888888888888888, \"#fdca26\"], [1.0, \"#f0f921\"]], \"type\": \"contour\"}], \"contourcarpet\": [{\"colorbar\": {\"outlinewidth\": 0, \"ticks\": \"\"}, \"type\": \"contourcarpet\"}], \"heatmap\": [{\"colorbar\": {\"outlinewidth\": 0, \"ticks\": \"\"}, \"colorscale\": [[0.0, \"#0d0887\"], [0.1111111111111111, \"#46039f\"], [0.2222222222222222, \"#7201a8\"], [0.3333333333333333, \"#9c179e\"], [0.4444444444444444, \"#bd3786\"], [0.5555555555555556, \"#d8576b\"], [0.6666666666666666, \"#ed7953\"], [0.7777777777777778, \"#fb9f3a\"], [0.8888888888888888, \"#fdca26\"], [1.0, \"#f0f921\"]], \"type\": \"heatmap\"}], \"heatmapgl\": [{\"colorbar\": {\"outlinewidth\": 0, \"ticks\": \"\"}, \"colorscale\": [[0.0, \"#0d0887\"], [0.1111111111111111, \"#46039f\"], [0.2222222222222222, \"#7201a8\"], [0.3333333333333333, \"#9c179e\"], [0.4444444444444444, \"#bd3786\"], [0.5555555555555556, \"#d8576b\"], [0.6666666666666666, \"#ed7953\"], [0.7777777777777778, \"#fb9f3a\"], [0.8888888888888888, \"#fdca26\"], [1.0, \"#f0f921\"]], \"type\": \"heatmapgl\"}], \"histogram\": [{\"marker\": {\"colorbar\": {\"outlinewidth\": 0, \"ticks\": \"\"}}, \"type\": \"histogram\"}], \"histogram2d\": [{\"colorbar\": {\"outlinewidth\": 0, \"ticks\": \"\"}, \"colorscale\": [[0.0, \"#0d0887\"], [0.1111111111111111, \"#46039f\"], [0.2222222222222222, \"#7201a8\"], [0.3333333333333333, \"#9c179e\"], [0.4444444444444444, \"#bd3786\"], [0.5555555555555556, \"#d8576b\"], [0.6666666666666666, \"#ed7953\"], [0.7777777777777778, \"#fb9f3a\"], [0.8888888888888888, \"#fdca26\"], [1.0, \"#f0f921\"]], \"type\": \"histogram2d\"}], \"histogram2dcontour\": [{\"colorbar\": {\"outlinewidth\": 0, \"ticks\": \"\"}, \"colorscale\": [[0.0, \"#0d0887\"], [0.1111111111111111, \"#46039f\"], [0.2222222222222222, \"#7201a8\"], [0.3333333333333333, \"#9c179e\"], [0.4444444444444444, \"#bd3786\"], [0.5555555555555556, \"#d8576b\"], [0.6666666666666666, \"#ed7953\"], [0.7777777777777778, \"#fb9f3a\"], [0.8888888888888888, \"#fdca26\"], [1.0, \"#f0f921\"]], \"type\": \"histogram2dcontour\"}], \"mesh3d\": [{\"colorbar\": {\"outlinewidth\": 0, \"ticks\": \"\"}, \"type\": \"mesh3d\"}], \"parcoords\": [{\"line\": {\"colorbar\": {\"outlinewidth\": 0, \"ticks\": \"\"}}, \"type\": \"parcoords\"}], \"pie\": [{\"automargin\": true, \"type\": \"pie\"}], \"scatter\": [{\"marker\": {\"colorbar\": {\"outlinewidth\": 0, \"ticks\": \"\"}}, \"type\": \"scatter\"}], \"scatter3d\": [{\"line\": {\"colorbar\": {\"outlinewidth\": 0, \"ticks\": \"\"}}, \"marker\": {\"colorbar\": {\"outlinewidth\": 0, \"ticks\": \"\"}}, \"type\": \"scatter3d\"}], \"scattercarpet\": [{\"marker\": {\"colorbar\": {\"outlinewidth\": 0, \"ticks\": \"\"}}, \"type\": \"scattercarpet\"}], \"scattergeo\": [{\"marker\": {\"colorbar\": {\"outlinewidth\": 0, \"ticks\": \"\"}}, \"type\": \"scattergeo\"}], \"scattergl\": [{\"marker\": {\"colorbar\": {\"outlinewidth\": 0, \"ticks\": \"\"}}, \"type\": \"scattergl\"}], \"scattermapbox\": [{\"marker\": {\"colorbar\": {\"outlinewidth\": 0, \"ticks\": \"\"}}, \"type\": \"scattermapbox\"}], \"scatterpolar\": [{\"marker\": {\"colorbar\": {\"outlinewidth\": 0, \"ticks\": \"\"}}, \"type\": \"scatterpolar\"}], \"scatterpolargl\": [{\"marker\": {\"colorbar\": {\"outlinewidth\": 0, \"ticks\": \"\"}}, \"type\": \"scatterpolargl\"}], \"scatterternary\": [{\"marker\": {\"colorbar\": {\"outlinewidth\": 0, \"ticks\": \"\"}}, \"type\": \"scatterternary\"}], \"surface\": [{\"colorbar\": {\"outlinewidth\": 0, \"ticks\": \"\"}, \"colorscale\": [[0.0, \"#0d0887\"], [0.1111111111111111, \"#46039f\"], [0.2222222222222222, \"#7201a8\"], [0.3333333333333333, \"#9c179e\"], [0.4444444444444444, \"#bd3786\"], [0.5555555555555556, \"#d8576b\"], [0.6666666666666666, \"#ed7953\"], [0.7777777777777778, \"#fb9f3a\"], [0.8888888888888888, \"#fdca26\"], [1.0, \"#f0f921\"]], \"type\": \"surface\"}], \"table\": [{\"cells\": {\"fill\": {\"color\": \"#EBF0F8\"}, \"line\": {\"color\": \"white\"}}, \"header\": {\"fill\": {\"color\": \"#C8D4E3\"}, \"line\": {\"color\": \"white\"}}, \"type\": \"table\"}]}, \"layout\": {\"annotationdefaults\": {\"arrowcolor\": \"#2a3f5f\", \"arrowhead\": 0, \"arrowwidth\": 1}, \"coloraxis\": {\"colorbar\": {\"outlinewidth\": 0, \"ticks\": \"\"}}, \"colorscale\": {\"diverging\": [[0, \"#8e0152\"], [0.1, \"#c51b7d\"], [0.2, \"#de77ae\"], [0.3, \"#f1b6da\"], [0.4, \"#fde0ef\"], [0.5, \"#f7f7f7\"], [0.6, \"#e6f5d0\"], [0.7, \"#b8e186\"], [0.8, \"#7fbc41\"], [0.9, \"#4d9221\"], [1, \"#276419\"]], \"sequential\": [[0.0, \"#0d0887\"], [0.1111111111111111, \"#46039f\"], [0.2222222222222222, \"#7201a8\"], [0.3333333333333333, \"#9c179e\"], [0.4444444444444444, \"#bd3786\"], [0.5555555555555556, \"#d8576b\"], [0.6666666666666666, \"#ed7953\"], [0.7777777777777778, \"#fb9f3a\"], [0.8888888888888888, \"#fdca26\"], [1.0, \"#f0f921\"]], \"sequentialminus\": [[0.0, \"#0d0887\"], [0.1111111111111111, \"#46039f\"], [0.2222222222222222, \"#7201a8\"], [0.3333333333333333, \"#9c179e\"], [0.4444444444444444, \"#bd3786\"], [0.5555555555555556, \"#d8576b\"], [0.6666666666666666, \"#ed7953\"], [0.7777777777777778, \"#fb9f3a\"], [0.8888888888888888, \"#fdca26\"], [1.0, \"#f0f921\"]]}, \"colorway\": [\"#636efa\", \"#EF553B\", \"#00cc96\", \"#ab63fa\", \"#FFA15A\", \"#19d3f3\", \"#FF6692\", \"#B6E880\", \"#FF97FF\", \"#FECB52\"], \"font\": {\"color\": \"#2a3f5f\"}, \"geo\": {\"bgcolor\": \"white\", \"lakecolor\": \"white\", \"landcolor\": \"#E5ECF6\", \"showlakes\": true, \"showland\": true, \"subunitcolor\": \"white\"}, \"hoverlabel\": {\"align\": \"left\"}, \"hovermode\": \"closest\", \"mapbox\": {\"style\": \"light\"}, \"paper_bgcolor\": \"white\", \"plot_bgcolor\": \"#E5ECF6\", \"polar\": {\"angularaxis\": {\"gridcolor\": \"white\", \"linecolor\": \"white\", \"ticks\": \"\"}, \"bgcolor\": \"#E5ECF6\", \"radialaxis\": {\"gridcolor\": \"white\", \"linecolor\": \"white\", \"ticks\": \"\"}}, \"scene\": {\"xaxis\": {\"backgroundcolor\": \"#E5ECF6\", \"gridcolor\": \"white\", \"gridwidth\": 2, \"linecolor\": \"white\", \"showbackground\": true, \"ticks\": \"\", \"zerolinecolor\": \"white\"}, \"yaxis\": {\"backgroundcolor\": \"#E5ECF6\", \"gridcolor\": \"white\", \"gridwidth\": 2, \"linecolor\": \"white\", \"showbackground\": true, \"ticks\": \"\", \"zerolinecolor\": \"white\"}, \"zaxis\": {\"backgroundcolor\": \"#E5ECF6\", \"gridcolor\": \"white\", \"gridwidth\": 2, \"linecolor\": \"white\", \"showbackground\": true, \"ticks\": \"\", \"zerolinecolor\": \"white\"}}, \"shapedefaults\": {\"line\": {\"color\": \"#2a3f5f\"}}, \"ternary\": {\"aaxis\": {\"gridcolor\": \"white\", \"linecolor\": \"white\", \"ticks\": \"\"}, \"baxis\": {\"gridcolor\": \"white\", \"linecolor\": \"white\", \"ticks\": \"\"}, \"bgcolor\": \"#E5ECF6\", \"caxis\": {\"gridcolor\": \"white\", \"linecolor\": \"white\", \"ticks\": \"\"}}, \"title\": {\"x\": 0.05}, \"xaxis\": {\"automargin\": true, \"gridcolor\": \"white\", \"linecolor\": \"white\", \"ticks\": \"\", \"title\": {\"standoff\": 15}, \"zerolinecolor\": \"white\", \"zerolinewidth\": 2}, \"yaxis\": {\"automargin\": true, \"gridcolor\": \"white\", \"linecolor\": \"white\", \"ticks\": \"\", \"title\": {\"standoff\": 15}, \"zerolinecolor\": \"white\", \"zerolinewidth\": 2}}}, \"xaxis\": {\"dtick\": 0, \"title\": {\"text\": \"value\"}}, \"yaxis\": {\"range\": [0, 1], \"tickvals\": [0.0, 0.1, 0.2, 0.30000000000000004, 0.4, 0.5, 0.6000000000000001, 0.7000000000000001, 0.8, 0.9], \"title\": {\"text\": \"probability\"}}},\n",
       "                        {\"responsive\": true}\n",
       "                    ).then(function(){\n",
       "                            \n",
       "var gd = document.getElementById('229a6928-9826-4b1d-90f6-c06c3556f8ed');\n",
       "var x = new MutationObserver(function (mutations, observer) {{\n",
       "        var display = window.getComputedStyle(gd).display;\n",
       "        if (!display || display === 'none') {{\n",
       "            console.log([gd, 'removed!']);\n",
       "            Plotly.purge(gd);\n",
       "            observer.disconnect();\n",
       "        }}\n",
       "}});\n",
       "\n",
       "// Listen for the removal of the full notebook cells\n",
       "var notebookContainer = gd.closest('#notebook-container');\n",
       "if (notebookContainer) {{\n",
       "    x.observe(notebookContainer, {childList: true});\n",
       "}}\n",
       "\n",
       "// Listen for the clearing of the current output cell\n",
       "var outputEl = gd.closest('.output');\n",
       "if (outputEl) {{\n",
       "    x.observe(outputEl, {childList: true});\n",
       "}}\n",
       "\n",
       "                        })\n",
       "                };\n",
       "                });\n",
       "            </script>\n",
       "        </div>"
      ]
     },
     "metadata": {},
     "output_type": "display_data"
    }
   ],
   "source": [
    "fig = data_analyzer.make_prob_dist_histogram(a_list, x_range=x_range, bin_size=0.0001)\n",
    "fig.update_layout(\n",
    "        title=f\"λ< 0, Nrep={len(values)}\")\n",
    "fig.show()"
   ]
  },
  {
   "cell_type": "code",
   "execution_count": 88,
   "metadata": {},
   "outputs": [
    {
     "data": {
      "application/vnd.plotly.v1+json": {
       "config": {
        "plotlyServerURL": "https://plot.ly"
       },
       "data": [
        {
         "histnorm": "probability",
         "type": "histogram",
         "x": [
          1.0005776663016435,
          1.000071994816747,
          1.002306679230926,
          1.0002879171037415,
          1.0007214794673787,
          1.0000079999360012,
          1.0000179996760123,
          1.0002879171037415,
          1.0001999600159919,
          1.0001999600159919,
          1.0000179996760123,
          1.000071994816747,
          1.0004497976820454,
          1.0005117381240924,
          1.0012484413940856,
          1.0021732768676568,
          1.0000319989760658,
          1.0004497976820454,
          1.0000499975002501,
          1.001056882998328,
          0,
          1.000071994816747,
          1.0000319989760658,
          1.0033507723248274,
          1.0000499975002501,
          1.0000179996760123,
          1.0000319989760658,
          1.0000079999360012,
          1.0001619737644996,
          1.0000079999360012,
          1.0000079999360012,
          1.0003918464563548,
          1.0001619737644996,
          1.0011506759448698,
          1.0015655490561528,
          1.0000079999360012,
          1.0002879171037415,
          1.0000019999960004,
          1.0005117381240924,
          1.0003378858331633,
          1.0001999600159919,
          1.0000179996760123,
          1.0000179996760123,
          1.0003918464563548,
          1.0000979903978817,
          1.0005776663016435,
          1.0007214794673778,
          1.0003918464563548,
          1.000799361021956,
          1.0002419414643282,
          1.0003378858331633,
          1.0003378858331633,
          1.0003918464563548,
          1.0000079999360012,
          1.001056882998328,
          1.0003378858331633,
          1.000071994816747,
          1.0011506759448698,
          1.0005117381240924,
          1.0006475806393156,
          1.0005776663016435,
          1.001679180353341,
          1.0007214794673787,
          1.0014558804122249,
          1.001679180353341,
          1.0021732768676568,
          1.0005776663016435,
          1.0000319989760658,
          1.0001279836201933,
          1.0008812234452398,
          1.0000179996760123,
          1.0003918464563548,
          1.0000079999360012,
          1.0002879171037415,
          1.0002419414643282,
          1.0001279836201933,
          1.0012484413940856,
          1.0003918464563548,
          1.0000979903978817,
          1.000071994816747,
          1.0005117381240924,
          1.0000179996760123,
          1.000799361021956,
          1.0001619737644996,
          0,
          1.0002419414643282,
          1.0020438227884099,
          1.0000079999360012,
          1.0003378858331633,
          1.0000319989760658,
          1.0000019999960004,
          1.0009670647857005,
          1.0001279836201933,
          1.0000979903978817,
          1.000071994816747,
          1.0006475806393156,
          1.0001279836201933,
          1.0002879171037415,
          1.0000499975002501,
          1.0027305441287608,
          1.0000019999960004,
          1.0002419414643282,
          1.000071994816747,
          1.0002879171037415,
          1.0000499975002501,
          1.001679180353341,
          1.0000179996760123,
          1.0000079999360012,
          1.0000079999360012,
          1.001679180353341,
          1.0000979903978817,
          1.0012484413940856,
          1.000799361021956,
          1.0007214794673787,
          1.0003378858331633,
          1.0000319989760658,
          1.0002879171037415,
          1.0006475806393156,
          1.0014558804122249,
          1.0002879171037415,
          1.0012484413940856,
          1.0000319989760658,
          1.0005776663016435,
          1.0001279836201933,
          1.0002879171037415,
          1.0005776663016435,
          1.0001999600159919,
          1.0005776663016435,
          1.0005776663016435,
          1.0033507723248274,
          1.0020438227884099,
          0,
          1.001796771611775,
          1.0012484413940856,
          1.0000019999960004,
          1.0003378858331633,
          1.0002879171037415,
          1.0000179996760123,
          1.0003918464563548,
          1.0000019999960004,
          1.0000499975002501,
          1.0000319989760658,
          1.001056882998328,
          1.0000499975002501,
          1.000799361021956,
          1.0002419414643282,
          1.0001999600159919,
          1.0005776663016435,
          1.0000319989760658,
          0,
          1.0001619737644996,
          1.0008812234452398,
          1.0000179996760123,
          1.0008812234452398,
          1.0000319989760658,
          1.0000179996760123,
          1.0001999600159919,
          1.0001999600159919,
          1.0003378858331633,
          1.0000319989760658,
          1.0001999600159919,
          1.0011506759448698,
          1.0035156402734677,
          1.0002879171037415,
          1.0008812234452398,
          1.0003378858331633,
          1.0003918464563548,
          1.0005776663016435,
          1.0000319989760658,
          1.0014558804122249,
          1.0000079999360012,
          1.0005117381240924,
          1.0000079999360012,
          1.0000319989760658,
          1.0000019999960004,
          1.0003918464563548,
          1.0011506759448698,
          1.0006475806393156,
          1.0000319989760658,
          1.0000979903978817,
          1.0000979903978817,
          1.0000319989760658,
          1.0021732768676568,
          1.0000019999960004,
          1.001056882998328,
          1.0000499975002501,
          0,
          1.0002879171037415,
          1.0001619737644996,
          1.0000179996760123,
          1.0002879171037415,
          1.0005117381240924,
          1.0008812234452398,
          1.0000319989760658,
          1.0002879171037415,
          1.0000499975002501,
          1.0001619737644996,
          1.0001279836201933,
          1.0014558804122249,
          1.0000979903978817,
          1.0000319989760658,
          1.0012484413940856,
          1.001056882998328,
          1.0025853161404537,
          1.0000499975002501,
          1.0036844250123282,
          1.0000179996760123,
          1.0000019999960004,
          1.0000319989760658,
          1.0001619737644996,
          0,
          1.0000019999960004,
          1.0011506759448698,
          1.0005117381240924,
          1.0019183200481923,
          1.0002419414643282,
          1.0000499975002501,
          1.0000979903978817,
          1.0000319989760658,
          1.0005117381240924,
          1.0025853161404537,
          1.0031898250163649,
          1.0000019999960004,
          1.0002879171037415,
          1.0000019999960004,
          1.0012484413940856,
          1.000071994816747,
          1.0000499975002501,
          0,
          1.0002419414643282,
          1.0001999600159919,
          1.0000079999360012,
          1.0003378858331633,
          1.0006475806393156,
          1.0005776663016435,
          1.0007214794673787,
          1.0000019999960004,
          1.0012484413940856,
          1.0004497976820454,
          1.000071994816747,
          1.0000979903978817,
          1.0001619737644996,
          1.000071994816747,
          1.0000499975002501,
          1.0038571226052082,
          1.0000979903978817,
          1.0005117381240924,
          1.0000079999360012,
          1.0000079999360012,
          1.000071994816747,
          1.0003918464563548,
          1.0001279836201933,
          1.0005117381240924,
          1.0005117381240924,
          0,
          1.0000019999960004,
          1.0000079999360012,
          1.0007214794673787,
          1.0013501770220095,
          1.0000319989760658,
          1.0003918464563548,
          1.000071994816747,
          1.0000079999360012,
          1.0000179996760123,
          1.0000499975002501,
          1.0008812234452398,
          1.0005776663016435,
          1.0000179996760123,
          1.0003918464563548,
          1.0001279836201933,
          1.0000499975002501,
          1.0005117381240924,
          1.0014558804122249,
          1.0002419414643282,
          1.0000019999960004,
          1.0003918464563548,
          1.0003378858331633,
          1.0006475806393156,
          1.0004497976820454,
          1.001796771611775,
          1.0005776663016435,
          1.0000499975002501,
          0,
          1.0000019999960004,
          1.0000079999360012,
          1.0001999600159919,
          1.001056882998328,
          1.0014558804122249,
          1.0003918464563548,
          0,
          1.0019183200481923,
          1.0002879171037415,
          1.0000319989760658,
          1.0002419414643282,
          1.0000019999960004,
          1.0000319989760658,
          1.0001999600159919,
          1.0000179996760123,
          1.0001279836201933,
          1.0008812234452398,
          1.0003378858331633,
          1.0000319989760658,
          1.0001999600159919,
          1.0005117381240924,
          1.0002419414643282,
          1.0000319989760658,
          1.0011506759448698,
          1.0001619737644996,
          1.0002419414643282,
          1.0019183200481923,
          1.0000319989760658,
          1.0000499975002501,
          1.000799361021956,
          1.0005117381240924,
          1.0009670647857005,
          1.000071994816747,
          1.0015655490561528,
          1.0006475806393156,
          1.0000179996760123,
          1.0001619737644996,
          1.0028797072859468,
          1.0000019999960004,
          1.0027305441287608,
          1.0001619737644996,
          1.0000979903978817,
          1.0013501770220095,
          1.0002879171037415,
          1.0001619737644996,
          1.0006475806393156,
          1.0013501770220095,
          1.0003378858331633,
          0,
          1.0000499975002501,
          1.001056882998328,
          1.0000019999960004,
          1.0000319989760658,
          1.0003918464563548,
          1.0003918464563548,
          1.0001999600159919,
          1.0013501770220095,
          1.0001999600159919,
          1.0000179996760123,
          1.0000499975002501,
          1.0000319989760658,
          1.0015655490561528,
          1.0027305441287608,
          1.000071994816747,
          1.0005776663016435,
          1.001796771611775,
          1.0009670647857005,
          0,
          1.0001279836201933,
          1.0000319989760658,
          1.0000319989760658,
          1.0005117381240924,
          1.0021732768676568,
          1.0000979903978817,
          1.0027305441287608,
          1.000799361021956,
          1.0001279836201933,
          1.0000079999360012,
          1.0004497976820454,
          1.0003378858331633,
          1.0001999600159919,
          1.0002419414643282,
          1.0001279836201933,
          1.0000319989760658,
          1.000071994816747,
          1.0002419414643282,
          1.0004497976820454,
          0,
          1.0020438227884099,
          1.0003918464563548,
          1.0014558804122249,
          1.0000019999960004,
          1.0002419414643282,
          1.0000499975002501,
          0,
          1.0004497976820454,
          1.0006475806393156,
          1.000799361021956,
          1.0001279836201933,
          1.0027305441287608,
          1.0000019999960004,
          1.000071994816747,
          1.0000499975002501,
          1.0001999600159919,
          1.0007214794673778,
          1.0000979903978817,
          1.0007214794673787,
          0,
          1.0004497976820454,
          1.0000019999960004,
          1.0004497976820454,
          1.0000499975002501,
          1.0003378858331633,
          1.0006475806393156,
          1.0014558804122249,
          1.0000179996760123,
          1.0004497976820454,
          1.0000019999960004,
          1.000071994816747,
          1.0000979903978817,
          1.0004497976820454,
          1.0007214794673778,
          1.0001279836201933,
          1.0000019999960004,
          1.0002419414643282,
          1.000799361021956,
          1.0000319989760658,
          1.0001619737644996,
          1.001796771611775,
          1.0003378858331633,
          1.0000499975002501,
          1.000071994816747,
          1.0015655490561528,
          1.0000079999360012,
          1.0031898250163649,
          1.0000499975002501,
          1.0006475806393156,
          1.0000079999360012,
          1.0001999600159919,
          1.0002879171037415,
          1.0008812234452398,
          1.0000319989760658,
          1.000071994816747,
          1.0001619737644996,
          1.0002419414643282,
          1.0008812234452398,
          1.002306679230926,
          1.000071994816747,
          1.0000499975002501,
          1.0001279836201933,
          1.0006475806393156,
          1.0001619737644996,
          1.0011506759448698,
          1.0011506759448698,
          1.0003378858331633,
          1.0000979903978817,
          1.0015655490561528,
          1.0002419414643282,
          1.0001999600159919,
          1.0001279836201933,
          1.0001279836201933,
          1.0006475806393156,
          1.0009670647857005,
          1.0000079999360012,
          1.0001279836201933,
          1.0002879171037415,
          1.0013501770220095,
          1.0000499975002501,
          1.0011506759448698,
          1.0002419414643282,
          1.000799361021956,
          1.0005776663016435,
          1.0000979903978817,
          1.0001279836201933,
          1.001796771611775,
          1.0000179996760123,
          1.0001619737644996,
          1.0008812234452398,
          1.0002419414643282,
          1.0000979903978817,
          1.001679180353341,
          1.0003378858331633,
          1.0000179996760123,
          1.0000319989760658,
          1.0007214794673787,
          1.0000179996760123,
          1.0001279836201933,
          1.0024440267333263,
          1.0000079999360012,
          1.000071994816747,
          1.000799361021956,
          1.0000019999960004,
          1.0000019999960004,
          1.001056882998328,
          1.0001279836201933,
          1.0011506759448698,
          1.0000499975002501,
          1.0006475806393156,
          1.0001619737644996,
          1.0007214794673787,
          1.0000019999960004,
          1.0000499975002501,
          1.0000179996760123,
          1.0009670647857005,
          1.0000499975002501,
          1.0000979903978817,
          1.0000319989760658,
          1.0027305441287608,
          1.0011506759448698,
          1.0004497976820454,
          1.0020438227884099,
          1.0024440267333263,
          1.0000979903978817,
          1.0000979903978817,
          1.0000499975002501,
          1.0000179996760123,
          1.0001619737644996,
          0,
          1.000071994816747,
          1.0009670647857005,
          1.0001999600159919,
          1.0013501770220095,
          1.0003918464563548,
          1.001056882998328,
          1.0000499975002501,
          1.0000079999360012,
          1.0000019999960004,
          1.0012484413940856,
          1.0001999600159919,
          1.0002879171037415,
          1.0001619737644996,
          1.0000079999360012,
          1.0004497976820454,
          1.0014558804122249,
          1.0000979903978817,
          1.0001999600159919,
          1.0008812234452398,
          1.0002419414643282,
          1.0000179996760123,
          1.0003918464563548,
          1.0006475806393156,
          1.0005117381240924,
          1.0003918464563548,
          1.0001999600159919,
          1.0007214794673778,
          1.0011506759448698,
          1.0001619737644996,
          1.0000499975002501,
          1.0001619737644996,
          1.000071994816747,
          1.0000979903978817,
          1.0002419414643282,
          1.0003378858331633,
          1.001796771611775,
          1.0031898250163649,
          1.0000499975002501,
          1.0001279836201933,
          1.0001279836201933,
          1.0000979903978817,
          1.0008812234452398,
          1.0006475806393156,
          1.0002879171037415,
          1.0000319989760658,
          0,
          0,
          1.0000499975002501,
          1.0000319989760658,
          1.0000179996760123,
          1.001679180353341,
          1.0003918464563548,
          1.0001619737644996,
          1.0005117381240924,
          1.0002419414643282,
          1.0013501770220095,
          1.0006475806393156,
          1.0007214794673778,
          1.0006475806393156,
          1.000071994816747,
          1.000071994816747,
          1.0000019999960004,
          1.0012484413940856,
          1.0000179996760123,
          1.0000979903978817,
          1.0000979903978817,
          1.0005117381240924,
          1.000071994816747,
          1.0013501770220095,
          1.0000499975002501,
          1.0009670647857005,
          1.0001279836201933,
          1.000071994816747,
          1.0000499975002501,
          1.0003378858331633,
          1.0003918464563548,
          1.0000179996760123,
          1.0003918464563548,
          1.0000019999960004,
          1.0021732768676568,
          1.0000019999960004,
          1.0005117381240924,
          1.0021732768676568,
          1.0000019999960004,
          1.0001279836201933,
          1.0004497976820454,
          1.0009670647857005,
          1.0009670647857005,
          1.0000979903978817,
          1.0003378858331633,
          1.0011506759448698,
          1.0001999600159919,
          1.0006475806393156,
          1.0009670647857005,
          1.001056882998328,
          1.0020438227884099,
          1.0013501770220095,
          1.001679180353341,
          1.0007214794673778,
          1.0028797072859468,
          1.0001279836201933,
          1.0040337290301116,
          1.0001999600159919,
          1.0001999600159919,
          1.0012484413940856,
          1.0000319989760658,
          1.003032802111353,
          1.001056882998328,
          1.0000979903978817,
          1.0000019999960004,
          1.0011506759448698,
          1.0007214794673787,
          1.0011506759448698,
          1.000071994816747,
          1.0000019999960004,
          1.0000319989760658,
          1.0012484413940856,
          1.0001999600159919,
          1.0024440267333263,
          1.0001619737644996,
          1.0000019999960004,
          1.0000319989760658,
          1.0001999600159919,
          1.0002879171037415,
          1.0024440267333263,
          1.0001999600159919,
          1.0002419414643282,
          1.0002419414643282,
          1.0000319989760658,
          1.0009670647857005,
          1.0001279836201933,
          1.0003378858331633,
          1.0005776663016435,
          1.0002419414643282,
          1.0000979903978817,
          1.0000079999360012,
          1.0000019999960004,
          1.0000499975002501,
          1.0000079999360012,
          1.000071994816747,
          1.000799361021956,
          1.0000499975002501,
          1.0000179996760123,
          1.0003378858331633,
          1.000799361021956,
          1.0004497976820454,
          1.000071994816747,
          0,
          1.0006475806393156,
          1.0000019999960004,
          1.0000979903978817,
          1.0000979903978817,
          1.0027305441287608,
          1.002306679230926,
          1.0000979903978817,
          1.0005117381240924,
          1.0003378858331633,
          1.001679180353341,
          1.0000979903978817,
          1.0001619737644996,
          1.0001279836201933,
          1.0001999600159919,
          1.0009670647857005,
          1.0000319989760658,
          1.0000979903978817,
          1.0005776663016435,
          1.001679180353341,
          1.0004497976820454,
          1.000071994816747,
          1.0006475806393156,
          1.0000179996760123,
          1.0001999600159919,
          1.0000499975002501,
          1.000071994816747,
          1.0003918464563548,
          1.0002419414643282,
          1.0011506759448698,
          1.0001999600159919,
          1.0000079999360012,
          1.0000019999960004,
          1.0005776663016435,
          1.0000179996760123,
          1.0013501770220095,
          1.0005117381240924,
          1.001679180353341,
          1.0000179996760123,
          1.0000499975002501,
          1.0040337290301116,
          1.0001619737644996,
          1.0025853161404537,
          1.0003918464563548,
          1.0005117381240924,
          1.0004497976820454,
          1.0000319989760658,
          1.0003918464563548,
          1.0021732768676568,
          1.0005117381240924,
          1.0007214794673787,
          1.0003378858331633,
          1.0000019999960004,
          1.0001619737644996,
          1.0004497976820454,
          1.0001999600159919,
          1.0001279836201933,
          1.0006475806393156,
          1.0000979903978817,
          1.0000979903978817,
          1.0002879171037415,
          1.000071994816747,
          1.0001999600159919,
          1.0000079999360012,
          1.0000499975002501,
          1.000071994816747,
          1.0000979903978817,
          1.0000019999960004,
          1.0000079999360012,
          1.0001999600159919,
          1.0000179996760123,
          1.0000019999960004,
          1.0000499975002501,
          1.0000179996760123,
          1.0015655490561528,
          1.0005117381240924,
          1.0007214794673787,
          1.0014558804122249,
          0,
          1.0000499975002501,
          1.0006475806393156,
          1.0003378858331633,
          1.0005117381240924,
          1.0007214794673778,
          1.000799361021956,
          1.001679180353341,
          1.0021732768676568,
          1.0005117381240924,
          1.0000079999360012,
          1.0003918464563548,
          1.001056882998328,
          1.000071994816747,
          1.0008812234452398,
          1.0002879171037415,
          1.0006475806393156,
          1.0014558804122249,
          1.0001619737644996,
          1.0004497976820454,
          1.0002879171037415,
          1.0002879171037415,
          1.0013501770220095,
          1.0002419414643282,
          1.001056882998328,
          1.000799361021956,
          1.001056882998328,
          1.001056882998328,
          1.0006475806393156,
          1.0002419414643282,
          1.0000319989760658,
          1.0002879171037415,
          1.0005776663016435,
          1.0003918464563548,
          1.0000319989760658,
          1.0009670647857005,
          1.0000179996760123,
          1.0000499975002501,
          1.0000079999360012,
          1.0000019999960004,
          1.0000979903978817,
          1.000799361021956,
          1.0000019999960004,
          1.0000019999960004,
          1.0000179996760123,
          1.0008812234452398,
          1.0002419414643282,
          1.0000019999960004,
          1.0053790656527046,
          1.0001619737644996,
          1.0000319989760658,
          1.0002419414643282,
          1.0000319989760658,
          1.0000019999960004,
          0,
          1.0019183200481923,
          1.000799361021956,
          1.000799361021956,
          1.001679180353341,
          1.0002879171037415,
          1.0021732768676568,
          1.0002879171037415,
          1.0007214794673787,
          1.0001999600159919,
          1.0040337290301116,
          1.001679180353341,
          1.0001279836201933,
          1.0000179996760123,
          1.0001619737644996,
          1.0003378858331633,
          1.0000979903978817,
          1.0002879171037415,
          1.0002419414643282,
          1.0004497976820454,
          1.0006475806393156,
          1.0000019999960004,
          1.0001999600159919,
          1.0000499975002501,
          1.0008812234452398,
          1.0000019999960004,
          1.0003918464563548,
          1.0000179996760123,
          1.0006475806393156,
          1.0000979903978817,
          1.0005776663016435,
          1.000071994816747,
          1.0001619737644996,
          1.0000079999360012,
          1.0001619737644996,
          1.0003918464563548,
          1.0011506759448698,
          1.0000079999360012,
          1.0003918464563548,
          1.0015655490561528,
          1.0009670647857005,
          1.0006475806393156,
          1.000071994816747,
          1.0001279836201933,
          1.0009670647857005,
          1.0000499975002501,
          1.0000319989760658,
          1.0008812234452398,
          1.0000319989760658,
          1.0003918464563548,
          1.000071994816747,
          1.0000179996760123,
          1.0000019999960004,
          1.0001279836201933,
          1.0002879171037415,
          1.0000979903978817,
          1.0001619737644996,
          0,
          1.0000319989760658,
          1.0000179996760123,
          1.0000079999360012,
          1.0002419414643282,
          1.001679180353341,
          1.0002419414643282,
          1.0008812234452398,
          1.0005117381240924,
          1.0001999600159919,
          1.0012484413940856,
          1.0006475806393156,
          1.0009670647857005,
          1.000071994816747,
          1.0038571226052082,
          1.0002419414643282,
          1.0000319989760658,
          1.0002419414643282,
          0,
          0,
          1.0004497976820454,
          1.0033507723248274,
          1.0001619737644996,
          1.000071994816747,
          1.0011506759448698,
          1.0020438227884099,
          1.0000499975002501,
          1.0000079999360012,
          1.001796771611775,
          1.0000179996760123,
          1.0001279836201933,
          1.0015655490561528,
          1.0000499975002501,
          1.0000499975002501,
          1.0000179996760123,
          1.001056882998328,
          1.0001619737644996,
          1.0000319989760658,
          1.0005776663016435,
          1.0000079999360012,
          1.0000319989760658,
          1.0000019999960004,
          1.0003918464563548,
          1.0001619737644996,
          1.0002879171037415,
          0,
          1.0001619737644996,
          1.0001999600159919,
          1.0001619737644996,
          1.0000019999960004,
          1.0008812234452398,
          1.000799361021956,
          1.000071994816747,
          1.0001279836201933,
          1.0000079999360012,
          1.001056882998328,
          1.0005117381240924,
          1.000071994816747,
          1.0000499975002501,
          1.0005117381240924,
          1.0003918464563548,
          1.0000319989760658,
          1.0001279836201933,
          1.0003378858331633,
          1.000071994816747,
          1.0000499975002501,
          0,
          1.0003918464563548,
          1.0000319989760658,
          1.0000499975002501,
          1.0001279836201933,
          1.0003378858331633,
          1.0001619737644996,
          1.0020438227884099,
          1.0002419414643282,
          1.0004497976820454,
          1.0005776663016435,
          1.0000179996760123,
          1.0002419414643282,
          1.0013501770220095,
          1.0002419414643282,
          0,
          1.0001619737644996,
          1.0001619737644996,
          1.0001619737644996,
          1.001056882998328,
          1.0000979903978817,
          1.0004497976820454,
          1.0004497976820454,
          1.0000179996760123,
          1.0005117381240924,
          1.0008812234452398,
          1.0000319989760658,
          1.0004497976820454,
          1.0007214794673787,
          1.0005117381240924,
          1.0001999600159919,
          1.001679180353341,
          1.0000179996760123,
          1.0000319989760658,
          1.0001619737644996,
          1.0003378858331633,
          1.0025853161404537,
          1.0008812234452398,
          1.0001999600159919,
          1.001796771611775,
          1.0000079999360012,
          1.0012484413940856,
          1.0000019999960004,
          1.0006475806393156,
          1.0000979903978817,
          1.0009670647857005,
          1.0000499975002501,
          0,
          1.0005776663016435,
          1.0007214794673787,
          1.000071994816747,
          1.0040337290301116,
          1.0003378858331633,
          1.0009670647857005,
          1.0031898250163649,
          1.0000179996760123,
          1.0014558804122249,
          1.0000179996760123,
          1.000799361021956,
          1.0012484413940856,
          1.0000179996760123,
          1.000071994816747,
          1.0000979903978817,
          1.0006475806393156,
          1.000071994816747,
          1.0002879171037415,
          1.0000019999960004,
          1.0000499975002501,
          1.0002879171037415,
          1.0004497976820454,
          1.000799361021956,
          1.0015655490561528,
          1.0000079999360012,
          1.0004497976820454,
          1.0005776663016435,
          1.0006475806393156,
          1.000071994816747,
          1.0001279836201933,
          1.0003918464563548,
          1.0004497976820454,
          0,
          1.0000019999960004,
          1.0003918464563548,
          1.0028797072859468,
          1.0000179996760123,
          1.0000079999360012,
          1.0001279836201933,
          1.0001619737644996,
          1.0000079999360012,
          1.000071994816747,
          1.0015655490561528,
          1.0003918464563548,
          1.000071994816747,
          1.0015655490561528,
          1.0003378858331633,
          1.000071994816747,
          1.0001279836201933
         ],
         "xbins": {
          "size": 0.0001
         }
        }
       ],
       "layout": {
        "template": {
         "data": {
          "bar": [
           {
            "error_x": {
             "color": "#2a3f5f"
            },
            "error_y": {
             "color": "#2a3f5f"
            },
            "marker": {
             "line": {
              "color": "#E5ECF6",
              "width": 0.5
             }
            },
            "type": "bar"
           }
          ],
          "barpolar": [
           {
            "marker": {
             "line": {
              "color": "#E5ECF6",
              "width": 0.5
             }
            },
            "type": "barpolar"
           }
          ],
          "carpet": [
           {
            "aaxis": {
             "endlinecolor": "#2a3f5f",
             "gridcolor": "white",
             "linecolor": "white",
             "minorgridcolor": "white",
             "startlinecolor": "#2a3f5f"
            },
            "baxis": {
             "endlinecolor": "#2a3f5f",
             "gridcolor": "white",
             "linecolor": "white",
             "minorgridcolor": "white",
             "startlinecolor": "#2a3f5f"
            },
            "type": "carpet"
           }
          ],
          "choropleth": [
           {
            "colorbar": {
             "outlinewidth": 0,
             "ticks": ""
            },
            "type": "choropleth"
           }
          ],
          "contour": [
           {
            "colorbar": {
             "outlinewidth": 0,
             "ticks": ""
            },
            "colorscale": [
             [
              0,
              "#0d0887"
             ],
             [
              0.1111111111111111,
              "#46039f"
             ],
             [
              0.2222222222222222,
              "#7201a8"
             ],
             [
              0.3333333333333333,
              "#9c179e"
             ],
             [
              0.4444444444444444,
              "#bd3786"
             ],
             [
              0.5555555555555556,
              "#d8576b"
             ],
             [
              0.6666666666666666,
              "#ed7953"
             ],
             [
              0.7777777777777778,
              "#fb9f3a"
             ],
             [
              0.8888888888888888,
              "#fdca26"
             ],
             [
              1,
              "#f0f921"
             ]
            ],
            "type": "contour"
           }
          ],
          "contourcarpet": [
           {
            "colorbar": {
             "outlinewidth": 0,
             "ticks": ""
            },
            "type": "contourcarpet"
           }
          ],
          "heatmap": [
           {
            "colorbar": {
             "outlinewidth": 0,
             "ticks": ""
            },
            "colorscale": [
             [
              0,
              "#0d0887"
             ],
             [
              0.1111111111111111,
              "#46039f"
             ],
             [
              0.2222222222222222,
              "#7201a8"
             ],
             [
              0.3333333333333333,
              "#9c179e"
             ],
             [
              0.4444444444444444,
              "#bd3786"
             ],
             [
              0.5555555555555556,
              "#d8576b"
             ],
             [
              0.6666666666666666,
              "#ed7953"
             ],
             [
              0.7777777777777778,
              "#fb9f3a"
             ],
             [
              0.8888888888888888,
              "#fdca26"
             ],
             [
              1,
              "#f0f921"
             ]
            ],
            "type": "heatmap"
           }
          ],
          "heatmapgl": [
           {
            "colorbar": {
             "outlinewidth": 0,
             "ticks": ""
            },
            "colorscale": [
             [
              0,
              "#0d0887"
             ],
             [
              0.1111111111111111,
              "#46039f"
             ],
             [
              0.2222222222222222,
              "#7201a8"
             ],
             [
              0.3333333333333333,
              "#9c179e"
             ],
             [
              0.4444444444444444,
              "#bd3786"
             ],
             [
              0.5555555555555556,
              "#d8576b"
             ],
             [
              0.6666666666666666,
              "#ed7953"
             ],
             [
              0.7777777777777778,
              "#fb9f3a"
             ],
             [
              0.8888888888888888,
              "#fdca26"
             ],
             [
              1,
              "#f0f921"
             ]
            ],
            "type": "heatmapgl"
           }
          ],
          "histogram": [
           {
            "marker": {
             "colorbar": {
              "outlinewidth": 0,
              "ticks": ""
             }
            },
            "type": "histogram"
           }
          ],
          "histogram2d": [
           {
            "colorbar": {
             "outlinewidth": 0,
             "ticks": ""
            },
            "colorscale": [
             [
              0,
              "#0d0887"
             ],
             [
              0.1111111111111111,
              "#46039f"
             ],
             [
              0.2222222222222222,
              "#7201a8"
             ],
             [
              0.3333333333333333,
              "#9c179e"
             ],
             [
              0.4444444444444444,
              "#bd3786"
             ],
             [
              0.5555555555555556,
              "#d8576b"
             ],
             [
              0.6666666666666666,
              "#ed7953"
             ],
             [
              0.7777777777777778,
              "#fb9f3a"
             ],
             [
              0.8888888888888888,
              "#fdca26"
             ],
             [
              1,
              "#f0f921"
             ]
            ],
            "type": "histogram2d"
           }
          ],
          "histogram2dcontour": [
           {
            "colorbar": {
             "outlinewidth": 0,
             "ticks": ""
            },
            "colorscale": [
             [
              0,
              "#0d0887"
             ],
             [
              0.1111111111111111,
              "#46039f"
             ],
             [
              0.2222222222222222,
              "#7201a8"
             ],
             [
              0.3333333333333333,
              "#9c179e"
             ],
             [
              0.4444444444444444,
              "#bd3786"
             ],
             [
              0.5555555555555556,
              "#d8576b"
             ],
             [
              0.6666666666666666,
              "#ed7953"
             ],
             [
              0.7777777777777778,
              "#fb9f3a"
             ],
             [
              0.8888888888888888,
              "#fdca26"
             ],
             [
              1,
              "#f0f921"
             ]
            ],
            "type": "histogram2dcontour"
           }
          ],
          "mesh3d": [
           {
            "colorbar": {
             "outlinewidth": 0,
             "ticks": ""
            },
            "type": "mesh3d"
           }
          ],
          "parcoords": [
           {
            "line": {
             "colorbar": {
              "outlinewidth": 0,
              "ticks": ""
             }
            },
            "type": "parcoords"
           }
          ],
          "pie": [
           {
            "automargin": true,
            "type": "pie"
           }
          ],
          "scatter": [
           {
            "marker": {
             "colorbar": {
              "outlinewidth": 0,
              "ticks": ""
             }
            },
            "type": "scatter"
           }
          ],
          "scatter3d": [
           {
            "line": {
             "colorbar": {
              "outlinewidth": 0,
              "ticks": ""
             }
            },
            "marker": {
             "colorbar": {
              "outlinewidth": 0,
              "ticks": ""
             }
            },
            "type": "scatter3d"
           }
          ],
          "scattercarpet": [
           {
            "marker": {
             "colorbar": {
              "outlinewidth": 0,
              "ticks": ""
             }
            },
            "type": "scattercarpet"
           }
          ],
          "scattergeo": [
           {
            "marker": {
             "colorbar": {
              "outlinewidth": 0,
              "ticks": ""
             }
            },
            "type": "scattergeo"
           }
          ],
          "scattergl": [
           {
            "marker": {
             "colorbar": {
              "outlinewidth": 0,
              "ticks": ""
             }
            },
            "type": "scattergl"
           }
          ],
          "scattermapbox": [
           {
            "marker": {
             "colorbar": {
              "outlinewidth": 0,
              "ticks": ""
             }
            },
            "type": "scattermapbox"
           }
          ],
          "scatterpolar": [
           {
            "marker": {
             "colorbar": {
              "outlinewidth": 0,
              "ticks": ""
             }
            },
            "type": "scatterpolar"
           }
          ],
          "scatterpolargl": [
           {
            "marker": {
             "colorbar": {
              "outlinewidth": 0,
              "ticks": ""
             }
            },
            "type": "scatterpolargl"
           }
          ],
          "scatterternary": [
           {
            "marker": {
             "colorbar": {
              "outlinewidth": 0,
              "ticks": ""
             }
            },
            "type": "scatterternary"
           }
          ],
          "surface": [
           {
            "colorbar": {
             "outlinewidth": 0,
             "ticks": ""
            },
            "colorscale": [
             [
              0,
              "#0d0887"
             ],
             [
              0.1111111111111111,
              "#46039f"
             ],
             [
              0.2222222222222222,
              "#7201a8"
             ],
             [
              0.3333333333333333,
              "#9c179e"
             ],
             [
              0.4444444444444444,
              "#bd3786"
             ],
             [
              0.5555555555555556,
              "#d8576b"
             ],
             [
              0.6666666666666666,
              "#ed7953"
             ],
             [
              0.7777777777777778,
              "#fb9f3a"
             ],
             [
              0.8888888888888888,
              "#fdca26"
             ],
             [
              1,
              "#f0f921"
             ]
            ],
            "type": "surface"
           }
          ],
          "table": [
           {
            "cells": {
             "fill": {
              "color": "#EBF0F8"
             },
             "line": {
              "color": "white"
             }
            },
            "header": {
             "fill": {
              "color": "#C8D4E3"
             },
             "line": {
              "color": "white"
             }
            },
            "type": "table"
           }
          ]
         },
         "layout": {
          "annotationdefaults": {
           "arrowcolor": "#2a3f5f",
           "arrowhead": 0,
           "arrowwidth": 1
          },
          "coloraxis": {
           "colorbar": {
            "outlinewidth": 0,
            "ticks": ""
           }
          },
          "colorscale": {
           "diverging": [
            [
             0,
             "#8e0152"
            ],
            [
             0.1,
             "#c51b7d"
            ],
            [
             0.2,
             "#de77ae"
            ],
            [
             0.3,
             "#f1b6da"
            ],
            [
             0.4,
             "#fde0ef"
            ],
            [
             0.5,
             "#f7f7f7"
            ],
            [
             0.6,
             "#e6f5d0"
            ],
            [
             0.7,
             "#b8e186"
            ],
            [
             0.8,
             "#7fbc41"
            ],
            [
             0.9,
             "#4d9221"
            ],
            [
             1,
             "#276419"
            ]
           ],
           "sequential": [
            [
             0,
             "#0d0887"
            ],
            [
             0.1111111111111111,
             "#46039f"
            ],
            [
             0.2222222222222222,
             "#7201a8"
            ],
            [
             0.3333333333333333,
             "#9c179e"
            ],
            [
             0.4444444444444444,
             "#bd3786"
            ],
            [
             0.5555555555555556,
             "#d8576b"
            ],
            [
             0.6666666666666666,
             "#ed7953"
            ],
            [
             0.7777777777777778,
             "#fb9f3a"
            ],
            [
             0.8888888888888888,
             "#fdca26"
            ],
            [
             1,
             "#f0f921"
            ]
           ],
           "sequentialminus": [
            [
             0,
             "#0d0887"
            ],
            [
             0.1111111111111111,
             "#46039f"
            ],
            [
             0.2222222222222222,
             "#7201a8"
            ],
            [
             0.3333333333333333,
             "#9c179e"
            ],
            [
             0.4444444444444444,
             "#bd3786"
            ],
            [
             0.5555555555555556,
             "#d8576b"
            ],
            [
             0.6666666666666666,
             "#ed7953"
            ],
            [
             0.7777777777777778,
             "#fb9f3a"
            ],
            [
             0.8888888888888888,
             "#fdca26"
            ],
            [
             1,
             "#f0f921"
            ]
           ]
          },
          "colorway": [
           "#636efa",
           "#EF553B",
           "#00cc96",
           "#ab63fa",
           "#FFA15A",
           "#19d3f3",
           "#FF6692",
           "#B6E880",
           "#FF97FF",
           "#FECB52"
          ],
          "font": {
           "color": "#2a3f5f"
          },
          "geo": {
           "bgcolor": "white",
           "lakecolor": "white",
           "landcolor": "#E5ECF6",
           "showlakes": true,
           "showland": true,
           "subunitcolor": "white"
          },
          "hoverlabel": {
           "align": "left"
          },
          "hovermode": "closest",
          "mapbox": {
           "style": "light"
          },
          "paper_bgcolor": "white",
          "plot_bgcolor": "#E5ECF6",
          "polar": {
           "angularaxis": {
            "gridcolor": "white",
            "linecolor": "white",
            "ticks": ""
           },
           "bgcolor": "#E5ECF6",
           "radialaxis": {
            "gridcolor": "white",
            "linecolor": "white",
            "ticks": ""
           }
          },
          "scene": {
           "xaxis": {
            "backgroundcolor": "#E5ECF6",
            "gridcolor": "white",
            "gridwidth": 2,
            "linecolor": "white",
            "showbackground": true,
            "ticks": "",
            "zerolinecolor": "white"
           },
           "yaxis": {
            "backgroundcolor": "#E5ECF6",
            "gridcolor": "white",
            "gridwidth": 2,
            "linecolor": "white",
            "showbackground": true,
            "ticks": "",
            "zerolinecolor": "white"
           },
           "zaxis": {
            "backgroundcolor": "#E5ECF6",
            "gridcolor": "white",
            "gridwidth": 2,
            "linecolor": "white",
            "showbackground": true,
            "ticks": "",
            "zerolinecolor": "white"
           }
          },
          "shapedefaults": {
           "line": {
            "color": "#2a3f5f"
           }
          },
          "ternary": {
           "aaxis": {
            "gridcolor": "white",
            "linecolor": "white",
            "ticks": ""
           },
           "baxis": {
            "gridcolor": "white",
            "linecolor": "white",
            "ticks": ""
           },
           "bgcolor": "#E5ECF6",
           "caxis": {
            "gridcolor": "white",
            "linecolor": "white",
            "ticks": ""
           }
          },
          "title": {
           "x": 0.05
          },
          "xaxis": {
           "automargin": true,
           "gridcolor": "white",
           "linecolor": "white",
           "ticks": "",
           "title": {
            "standoff": 15
           },
           "zerolinecolor": "white",
           "zerolinewidth": 2
          },
          "yaxis": {
           "automargin": true,
           "gridcolor": "white",
           "linecolor": "white",
           "ticks": "",
           "title": {
            "standoff": 15
           },
           "zerolinecolor": "white",
           "zerolinewidth": 2
          }
         }
        },
        "xaxis": {
         "dtick": 0,
         "title": {
          "text": "value"
         }
        },
        "yaxis": {
         "range": [
          0,
          1
         ],
         "tickvals": [
          0,
          0.1,
          0.2,
          0.30000000000000004,
          0.4,
          0.5,
          0.6000000000000001,
          0.7000000000000001,
          0.8,
          0.9
         ],
         "title": {
          "text": "probability"
         }
        }
       }
      },
      "text/html": [
       "<div>\n",
       "        \n",
       "        \n",
       "            <div id=\"efbfb120-6511-4e51-94df-78fbc6bcfd37\" class=\"plotly-graph-div\" style=\"height:525px; width:100%;\"></div>\n",
       "            <script type=\"text/javascript\">\n",
       "                require([\"plotly\"], function(Plotly) {\n",
       "                    window.PLOTLYENV=window.PLOTLYENV || {};\n",
       "                    \n",
       "                if (document.getElementById(\"efbfb120-6511-4e51-94df-78fbc6bcfd37\")) {\n",
       "                    Plotly.newPlot(\n",
       "                        'efbfb120-6511-4e51-94df-78fbc6bcfd37',\n",
       "                        [{\"histnorm\": \"probability\", \"type\": \"histogram\", \"x\": [1.0005776663016435, 1.000071994816747, 1.002306679230926, 1.0002879171037415, 1.0007214794673787, 1.0000079999360012, 1.0000179996760123, 1.0002879171037415, 1.0001999600159919, 1.0001999600159919, 1.0000179996760123, 1.000071994816747, 1.0004497976820454, 1.0005117381240924, 1.0012484413940856, 1.0021732768676568, 1.0000319989760658, 1.0004497976820454, 1.0000499975002501, 1.001056882998328, 0, 1.000071994816747, 1.0000319989760658, 1.0033507723248274, 1.0000499975002501, 1.0000179996760123, 1.0000319989760658, 1.0000079999360012, 1.0001619737644996, 1.0000079999360012, 1.0000079999360012, 1.0003918464563548, 1.0001619737644996, 1.0011506759448698, 1.0015655490561528, 1.0000079999360012, 1.0002879171037415, 1.0000019999960004, 1.0005117381240924, 1.0003378858331633, 1.0001999600159919, 1.0000179996760123, 1.0000179996760123, 1.0003918464563548, 1.0000979903978817, 1.0005776663016435, 1.0007214794673778, 1.0003918464563548, 1.000799361021956, 1.0002419414643282, 1.0003378858331633, 1.0003378858331633, 1.0003918464563548, 1.0000079999360012, 1.001056882998328, 1.0003378858331633, 1.000071994816747, 1.0011506759448698, 1.0005117381240924, 1.0006475806393156, 1.0005776663016435, 1.001679180353341, 1.0007214794673787, 1.0014558804122249, 1.001679180353341, 1.0021732768676568, 1.0005776663016435, 1.0000319989760658, 1.0001279836201933, 1.0008812234452398, 1.0000179996760123, 1.0003918464563548, 1.0000079999360012, 1.0002879171037415, 1.0002419414643282, 1.0001279836201933, 1.0012484413940856, 1.0003918464563548, 1.0000979903978817, 1.000071994816747, 1.0005117381240924, 1.0000179996760123, 1.000799361021956, 1.0001619737644996, 0, 1.0002419414643282, 1.0020438227884099, 1.0000079999360012, 1.0003378858331633, 1.0000319989760658, 1.0000019999960004, 1.0009670647857005, 1.0001279836201933, 1.0000979903978817, 1.000071994816747, 1.0006475806393156, 1.0001279836201933, 1.0002879171037415, 1.0000499975002501, 1.0027305441287608, 1.0000019999960004, 1.0002419414643282, 1.000071994816747, 1.0002879171037415, 1.0000499975002501, 1.001679180353341, 1.0000179996760123, 1.0000079999360012, 1.0000079999360012, 1.001679180353341, 1.0000979903978817, 1.0012484413940856, 1.000799361021956, 1.0007214794673787, 1.0003378858331633, 1.0000319989760658, 1.0002879171037415, 1.0006475806393156, 1.0014558804122249, 1.0002879171037415, 1.0012484413940856, 1.0000319989760658, 1.0005776663016435, 1.0001279836201933, 1.0002879171037415, 1.0005776663016435, 1.0001999600159919, 1.0005776663016435, 1.0005776663016435, 1.0033507723248274, 1.0020438227884099, 0, 1.001796771611775, 1.0012484413940856, 1.0000019999960004, 1.0003378858331633, 1.0002879171037415, 1.0000179996760123, 1.0003918464563548, 1.0000019999960004, 1.0000499975002501, 1.0000319989760658, 1.001056882998328, 1.0000499975002501, 1.000799361021956, 1.0002419414643282, 1.0001999600159919, 1.0005776663016435, 1.0000319989760658, 0, 1.0001619737644996, 1.0008812234452398, 1.0000179996760123, 1.0008812234452398, 1.0000319989760658, 1.0000179996760123, 1.0001999600159919, 1.0001999600159919, 1.0003378858331633, 1.0000319989760658, 1.0001999600159919, 1.0011506759448698, 1.0035156402734677, 1.0002879171037415, 1.0008812234452398, 1.0003378858331633, 1.0003918464563548, 1.0005776663016435, 1.0000319989760658, 1.0014558804122249, 1.0000079999360012, 1.0005117381240924, 1.0000079999360012, 1.0000319989760658, 1.0000019999960004, 1.0003918464563548, 1.0011506759448698, 1.0006475806393156, 1.0000319989760658, 1.0000979903978817, 1.0000979903978817, 1.0000319989760658, 1.0021732768676568, 1.0000019999960004, 1.001056882998328, 1.0000499975002501, 0, 1.0002879171037415, 1.0001619737644996, 1.0000179996760123, 1.0002879171037415, 1.0005117381240924, 1.0008812234452398, 1.0000319989760658, 1.0002879171037415, 1.0000499975002501, 1.0001619737644996, 1.0001279836201933, 1.0014558804122249, 1.0000979903978817, 1.0000319989760658, 1.0012484413940856, 1.001056882998328, 1.0025853161404537, 1.0000499975002501, 1.0036844250123282, 1.0000179996760123, 1.0000019999960004, 1.0000319989760658, 1.0001619737644996, 0, 1.0000019999960004, 1.0011506759448698, 1.0005117381240924, 1.0019183200481923, 1.0002419414643282, 1.0000499975002501, 1.0000979903978817, 1.0000319989760658, 1.0005117381240924, 1.0025853161404537, 1.0031898250163649, 1.0000019999960004, 1.0002879171037415, 1.0000019999960004, 1.0012484413940856, 1.000071994816747, 1.0000499975002501, 0, 1.0002419414643282, 1.0001999600159919, 1.0000079999360012, 1.0003378858331633, 1.0006475806393156, 1.0005776663016435, 1.0007214794673787, 1.0000019999960004, 1.0012484413940856, 1.0004497976820454, 1.000071994816747, 1.0000979903978817, 1.0001619737644996, 1.000071994816747, 1.0000499975002501, 1.0038571226052082, 1.0000979903978817, 1.0005117381240924, 1.0000079999360012, 1.0000079999360012, 1.000071994816747, 1.0003918464563548, 1.0001279836201933, 1.0005117381240924, 1.0005117381240924, 0, 1.0000019999960004, 1.0000079999360012, 1.0007214794673787, 1.0013501770220095, 1.0000319989760658, 1.0003918464563548, 1.000071994816747, 1.0000079999360012, 1.0000179996760123, 1.0000499975002501, 1.0008812234452398, 1.0005776663016435, 1.0000179996760123, 1.0003918464563548, 1.0001279836201933, 1.0000499975002501, 1.0005117381240924, 1.0014558804122249, 1.0002419414643282, 1.0000019999960004, 1.0003918464563548, 1.0003378858331633, 1.0006475806393156, 1.0004497976820454, 1.001796771611775, 1.0005776663016435, 1.0000499975002501, 0, 1.0000019999960004, 1.0000079999360012, 1.0001999600159919, 1.001056882998328, 1.0014558804122249, 1.0003918464563548, 0, 1.0019183200481923, 1.0002879171037415, 1.0000319989760658, 1.0002419414643282, 1.0000019999960004, 1.0000319989760658, 1.0001999600159919, 1.0000179996760123, 1.0001279836201933, 1.0008812234452398, 1.0003378858331633, 1.0000319989760658, 1.0001999600159919, 1.0005117381240924, 1.0002419414643282, 1.0000319989760658, 1.0011506759448698, 1.0001619737644996, 1.0002419414643282, 1.0019183200481923, 1.0000319989760658, 1.0000499975002501, 1.000799361021956, 1.0005117381240924, 1.0009670647857005, 1.000071994816747, 1.0015655490561528, 1.0006475806393156, 1.0000179996760123, 1.0001619737644996, 1.0028797072859468, 1.0000019999960004, 1.0027305441287608, 1.0001619737644996, 1.0000979903978817, 1.0013501770220095, 1.0002879171037415, 1.0001619737644996, 1.0006475806393156, 1.0013501770220095, 1.0003378858331633, 0, 1.0000499975002501, 1.001056882998328, 1.0000019999960004, 1.0000319989760658, 1.0003918464563548, 1.0003918464563548, 1.0001999600159919, 1.0013501770220095, 1.0001999600159919, 1.0000179996760123, 1.0000499975002501, 1.0000319989760658, 1.0015655490561528, 1.0027305441287608, 1.000071994816747, 1.0005776663016435, 1.001796771611775, 1.0009670647857005, 0, 1.0001279836201933, 1.0000319989760658, 1.0000319989760658, 1.0005117381240924, 1.0021732768676568, 1.0000979903978817, 1.0027305441287608, 1.000799361021956, 1.0001279836201933, 1.0000079999360012, 1.0004497976820454, 1.0003378858331633, 1.0001999600159919, 1.0002419414643282, 1.0001279836201933, 1.0000319989760658, 1.000071994816747, 1.0002419414643282, 1.0004497976820454, 0, 1.0020438227884099, 1.0003918464563548, 1.0014558804122249, 1.0000019999960004, 1.0002419414643282, 1.0000499975002501, 0, 1.0004497976820454, 1.0006475806393156, 1.000799361021956, 1.0001279836201933, 1.0027305441287608, 1.0000019999960004, 1.000071994816747, 1.0000499975002501, 1.0001999600159919, 1.0007214794673778, 1.0000979903978817, 1.0007214794673787, 0, 1.0004497976820454, 1.0000019999960004, 1.0004497976820454, 1.0000499975002501, 1.0003378858331633, 1.0006475806393156, 1.0014558804122249, 1.0000179996760123, 1.0004497976820454, 1.0000019999960004, 1.000071994816747, 1.0000979903978817, 1.0004497976820454, 1.0007214794673778, 1.0001279836201933, 1.0000019999960004, 1.0002419414643282, 1.000799361021956, 1.0000319989760658, 1.0001619737644996, 1.001796771611775, 1.0003378858331633, 1.0000499975002501, 1.000071994816747, 1.0015655490561528, 1.0000079999360012, 1.0031898250163649, 1.0000499975002501, 1.0006475806393156, 1.0000079999360012, 1.0001999600159919, 1.0002879171037415, 1.0008812234452398, 1.0000319989760658, 1.000071994816747, 1.0001619737644996, 1.0002419414643282, 1.0008812234452398, 1.002306679230926, 1.000071994816747, 1.0000499975002501, 1.0001279836201933, 1.0006475806393156, 1.0001619737644996, 1.0011506759448698, 1.0011506759448698, 1.0003378858331633, 1.0000979903978817, 1.0015655490561528, 1.0002419414643282, 1.0001999600159919, 1.0001279836201933, 1.0001279836201933, 1.0006475806393156, 1.0009670647857005, 1.0000079999360012, 1.0001279836201933, 1.0002879171037415, 1.0013501770220095, 1.0000499975002501, 1.0011506759448698, 1.0002419414643282, 1.000799361021956, 1.0005776663016435, 1.0000979903978817, 1.0001279836201933, 1.001796771611775, 1.0000179996760123, 1.0001619737644996, 1.0008812234452398, 1.0002419414643282, 1.0000979903978817, 1.001679180353341, 1.0003378858331633, 1.0000179996760123, 1.0000319989760658, 1.0007214794673787, 1.0000179996760123, 1.0001279836201933, 1.0024440267333263, 1.0000079999360012, 1.000071994816747, 1.000799361021956, 1.0000019999960004, 1.0000019999960004, 1.001056882998328, 1.0001279836201933, 1.0011506759448698, 1.0000499975002501, 1.0006475806393156, 1.0001619737644996, 1.0007214794673787, 1.0000019999960004, 1.0000499975002501, 1.0000179996760123, 1.0009670647857005, 1.0000499975002501, 1.0000979903978817, 1.0000319989760658, 1.0027305441287608, 1.0011506759448698, 1.0004497976820454, 1.0020438227884099, 1.0024440267333263, 1.0000979903978817, 1.0000979903978817, 1.0000499975002501, 1.0000179996760123, 1.0001619737644996, 0, 1.000071994816747, 1.0009670647857005, 1.0001999600159919, 1.0013501770220095, 1.0003918464563548, 1.001056882998328, 1.0000499975002501, 1.0000079999360012, 1.0000019999960004, 1.0012484413940856, 1.0001999600159919, 1.0002879171037415, 1.0001619737644996, 1.0000079999360012, 1.0004497976820454, 1.0014558804122249, 1.0000979903978817, 1.0001999600159919, 1.0008812234452398, 1.0002419414643282, 1.0000179996760123, 1.0003918464563548, 1.0006475806393156, 1.0005117381240924, 1.0003918464563548, 1.0001999600159919, 1.0007214794673778, 1.0011506759448698, 1.0001619737644996, 1.0000499975002501, 1.0001619737644996, 1.000071994816747, 1.0000979903978817, 1.0002419414643282, 1.0003378858331633, 1.001796771611775, 1.0031898250163649, 1.0000499975002501, 1.0001279836201933, 1.0001279836201933, 1.0000979903978817, 1.0008812234452398, 1.0006475806393156, 1.0002879171037415, 1.0000319989760658, 0, 0, 1.0000499975002501, 1.0000319989760658, 1.0000179996760123, 1.001679180353341, 1.0003918464563548, 1.0001619737644996, 1.0005117381240924, 1.0002419414643282, 1.0013501770220095, 1.0006475806393156, 1.0007214794673778, 1.0006475806393156, 1.000071994816747, 1.000071994816747, 1.0000019999960004, 1.0012484413940856, 1.0000179996760123, 1.0000979903978817, 1.0000979903978817, 1.0005117381240924, 1.000071994816747, 1.0013501770220095, 1.0000499975002501, 1.0009670647857005, 1.0001279836201933, 1.000071994816747, 1.0000499975002501, 1.0003378858331633, 1.0003918464563548, 1.0000179996760123, 1.0003918464563548, 1.0000019999960004, 1.0021732768676568, 1.0000019999960004, 1.0005117381240924, 1.0021732768676568, 1.0000019999960004, 1.0001279836201933, 1.0004497976820454, 1.0009670647857005, 1.0009670647857005, 1.0000979903978817, 1.0003378858331633, 1.0011506759448698, 1.0001999600159919, 1.0006475806393156, 1.0009670647857005, 1.001056882998328, 1.0020438227884099, 1.0013501770220095, 1.001679180353341, 1.0007214794673778, 1.0028797072859468, 1.0001279836201933, 1.0040337290301116, 1.0001999600159919, 1.0001999600159919, 1.0012484413940856, 1.0000319989760658, 1.003032802111353, 1.001056882998328, 1.0000979903978817, 1.0000019999960004, 1.0011506759448698, 1.0007214794673787, 1.0011506759448698, 1.000071994816747, 1.0000019999960004, 1.0000319989760658, 1.0012484413940856, 1.0001999600159919, 1.0024440267333263, 1.0001619737644996, 1.0000019999960004, 1.0000319989760658, 1.0001999600159919, 1.0002879171037415, 1.0024440267333263, 1.0001999600159919, 1.0002419414643282, 1.0002419414643282, 1.0000319989760658, 1.0009670647857005, 1.0001279836201933, 1.0003378858331633, 1.0005776663016435, 1.0002419414643282, 1.0000979903978817, 1.0000079999360012, 1.0000019999960004, 1.0000499975002501, 1.0000079999360012, 1.000071994816747, 1.000799361021956, 1.0000499975002501, 1.0000179996760123, 1.0003378858331633, 1.000799361021956, 1.0004497976820454, 1.000071994816747, 0, 1.0006475806393156, 1.0000019999960004, 1.0000979903978817, 1.0000979903978817, 1.0027305441287608, 1.002306679230926, 1.0000979903978817, 1.0005117381240924, 1.0003378858331633, 1.001679180353341, 1.0000979903978817, 1.0001619737644996, 1.0001279836201933, 1.0001999600159919, 1.0009670647857005, 1.0000319989760658, 1.0000979903978817, 1.0005776663016435, 1.001679180353341, 1.0004497976820454, 1.000071994816747, 1.0006475806393156, 1.0000179996760123, 1.0001999600159919, 1.0000499975002501, 1.000071994816747, 1.0003918464563548, 1.0002419414643282, 1.0011506759448698, 1.0001999600159919, 1.0000079999360012, 1.0000019999960004, 1.0005776663016435, 1.0000179996760123, 1.0013501770220095, 1.0005117381240924, 1.001679180353341, 1.0000179996760123, 1.0000499975002501, 1.0040337290301116, 1.0001619737644996, 1.0025853161404537, 1.0003918464563548, 1.0005117381240924, 1.0004497976820454, 1.0000319989760658, 1.0003918464563548, 1.0021732768676568, 1.0005117381240924, 1.0007214794673787, 1.0003378858331633, 1.0000019999960004, 1.0001619737644996, 1.0004497976820454, 1.0001999600159919, 1.0001279836201933, 1.0006475806393156, 1.0000979903978817, 1.0000979903978817, 1.0002879171037415, 1.000071994816747, 1.0001999600159919, 1.0000079999360012, 1.0000499975002501, 1.000071994816747, 1.0000979903978817, 1.0000019999960004, 1.0000079999360012, 1.0001999600159919, 1.0000179996760123, 1.0000019999960004, 1.0000499975002501, 1.0000179996760123, 1.0015655490561528, 1.0005117381240924, 1.0007214794673787, 1.0014558804122249, 0, 1.0000499975002501, 1.0006475806393156, 1.0003378858331633, 1.0005117381240924, 1.0007214794673778, 1.000799361021956, 1.001679180353341, 1.0021732768676568, 1.0005117381240924, 1.0000079999360012, 1.0003918464563548, 1.001056882998328, 1.000071994816747, 1.0008812234452398, 1.0002879171037415, 1.0006475806393156, 1.0014558804122249, 1.0001619737644996, 1.0004497976820454, 1.0002879171037415, 1.0002879171037415, 1.0013501770220095, 1.0002419414643282, 1.001056882998328, 1.000799361021956, 1.001056882998328, 1.001056882998328, 1.0006475806393156, 1.0002419414643282, 1.0000319989760658, 1.0002879171037415, 1.0005776663016435, 1.0003918464563548, 1.0000319989760658, 1.0009670647857005, 1.0000179996760123, 1.0000499975002501, 1.0000079999360012, 1.0000019999960004, 1.0000979903978817, 1.000799361021956, 1.0000019999960004, 1.0000019999960004, 1.0000179996760123, 1.0008812234452398, 1.0002419414643282, 1.0000019999960004, 1.0053790656527046, 1.0001619737644996, 1.0000319989760658, 1.0002419414643282, 1.0000319989760658, 1.0000019999960004, 0, 1.0019183200481923, 1.000799361021956, 1.000799361021956, 1.001679180353341, 1.0002879171037415, 1.0021732768676568, 1.0002879171037415, 1.0007214794673787, 1.0001999600159919, 1.0040337290301116, 1.001679180353341, 1.0001279836201933, 1.0000179996760123, 1.0001619737644996, 1.0003378858331633, 1.0000979903978817, 1.0002879171037415, 1.0002419414643282, 1.0004497976820454, 1.0006475806393156, 1.0000019999960004, 1.0001999600159919, 1.0000499975002501, 1.0008812234452398, 1.0000019999960004, 1.0003918464563548, 1.0000179996760123, 1.0006475806393156, 1.0000979903978817, 1.0005776663016435, 1.000071994816747, 1.0001619737644996, 1.0000079999360012, 1.0001619737644996, 1.0003918464563548, 1.0011506759448698, 1.0000079999360012, 1.0003918464563548, 1.0015655490561528, 1.0009670647857005, 1.0006475806393156, 1.000071994816747, 1.0001279836201933, 1.0009670647857005, 1.0000499975002501, 1.0000319989760658, 1.0008812234452398, 1.0000319989760658, 1.0003918464563548, 1.000071994816747, 1.0000179996760123, 1.0000019999960004, 1.0001279836201933, 1.0002879171037415, 1.0000979903978817, 1.0001619737644996, 0, 1.0000319989760658, 1.0000179996760123, 1.0000079999360012, 1.0002419414643282, 1.001679180353341, 1.0002419414643282, 1.0008812234452398, 1.0005117381240924, 1.0001999600159919, 1.0012484413940856, 1.0006475806393156, 1.0009670647857005, 1.000071994816747, 1.0038571226052082, 1.0002419414643282, 1.0000319989760658, 1.0002419414643282, 0, 0, 1.0004497976820454, 1.0033507723248274, 1.0001619737644996, 1.000071994816747, 1.0011506759448698, 1.0020438227884099, 1.0000499975002501, 1.0000079999360012, 1.001796771611775, 1.0000179996760123, 1.0001279836201933, 1.0015655490561528, 1.0000499975002501, 1.0000499975002501, 1.0000179996760123, 1.001056882998328, 1.0001619737644996, 1.0000319989760658, 1.0005776663016435, 1.0000079999360012, 1.0000319989760658, 1.0000019999960004, 1.0003918464563548, 1.0001619737644996, 1.0002879171037415, 0, 1.0001619737644996, 1.0001999600159919, 1.0001619737644996, 1.0000019999960004, 1.0008812234452398, 1.000799361021956, 1.000071994816747, 1.0001279836201933, 1.0000079999360012, 1.001056882998328, 1.0005117381240924, 1.000071994816747, 1.0000499975002501, 1.0005117381240924, 1.0003918464563548, 1.0000319989760658, 1.0001279836201933, 1.0003378858331633, 1.000071994816747, 1.0000499975002501, 0, 1.0003918464563548, 1.0000319989760658, 1.0000499975002501, 1.0001279836201933, 1.0003378858331633, 1.0001619737644996, 1.0020438227884099, 1.0002419414643282, 1.0004497976820454, 1.0005776663016435, 1.0000179996760123, 1.0002419414643282, 1.0013501770220095, 1.0002419414643282, 0, 1.0001619737644996, 1.0001619737644996, 1.0001619737644996, 1.001056882998328, 1.0000979903978817, 1.0004497976820454, 1.0004497976820454, 1.0000179996760123, 1.0005117381240924, 1.0008812234452398, 1.0000319989760658, 1.0004497976820454, 1.0007214794673787, 1.0005117381240924, 1.0001999600159919, 1.001679180353341, 1.0000179996760123, 1.0000319989760658, 1.0001619737644996, 1.0003378858331633, 1.0025853161404537, 1.0008812234452398, 1.0001999600159919, 1.001796771611775, 1.0000079999360012, 1.0012484413940856, 1.0000019999960004, 1.0006475806393156, 1.0000979903978817, 1.0009670647857005, 1.0000499975002501, 0, 1.0005776663016435, 1.0007214794673787, 1.000071994816747, 1.0040337290301116, 1.0003378858331633, 1.0009670647857005, 1.0031898250163649, 1.0000179996760123, 1.0014558804122249, 1.0000179996760123, 1.000799361021956, 1.0012484413940856, 1.0000179996760123, 1.000071994816747, 1.0000979903978817, 1.0006475806393156, 1.000071994816747, 1.0002879171037415, 1.0000019999960004, 1.0000499975002501, 1.0002879171037415, 1.0004497976820454, 1.000799361021956, 1.0015655490561528, 1.0000079999360012, 1.0004497976820454, 1.0005776663016435, 1.0006475806393156, 1.000071994816747, 1.0001279836201933, 1.0003918464563548, 1.0004497976820454, 0, 1.0000019999960004, 1.0003918464563548, 1.0028797072859468, 1.0000179996760123, 1.0000079999360012, 1.0001279836201933, 1.0001619737644996, 1.0000079999360012, 1.000071994816747, 1.0015655490561528, 1.0003918464563548, 1.000071994816747, 1.0015655490561528, 1.0003378858331633, 1.000071994816747, 1.0001279836201933], \"xbins\": {\"size\": 0.0001}}],\n",
       "                        {\"template\": {\"data\": {\"bar\": [{\"error_x\": {\"color\": \"#2a3f5f\"}, \"error_y\": {\"color\": \"#2a3f5f\"}, \"marker\": {\"line\": {\"color\": \"#E5ECF6\", \"width\": 0.5}}, \"type\": \"bar\"}], \"barpolar\": [{\"marker\": {\"line\": {\"color\": \"#E5ECF6\", \"width\": 0.5}}, \"type\": \"barpolar\"}], \"carpet\": [{\"aaxis\": {\"endlinecolor\": \"#2a3f5f\", \"gridcolor\": \"white\", \"linecolor\": \"white\", \"minorgridcolor\": \"white\", \"startlinecolor\": \"#2a3f5f\"}, \"baxis\": {\"endlinecolor\": \"#2a3f5f\", \"gridcolor\": \"white\", \"linecolor\": \"white\", \"minorgridcolor\": \"white\", \"startlinecolor\": \"#2a3f5f\"}, \"type\": \"carpet\"}], \"choropleth\": [{\"colorbar\": {\"outlinewidth\": 0, \"ticks\": \"\"}, \"type\": \"choropleth\"}], \"contour\": [{\"colorbar\": {\"outlinewidth\": 0, \"ticks\": \"\"}, \"colorscale\": [[0.0, \"#0d0887\"], [0.1111111111111111, \"#46039f\"], [0.2222222222222222, \"#7201a8\"], [0.3333333333333333, \"#9c179e\"], [0.4444444444444444, \"#bd3786\"], [0.5555555555555556, \"#d8576b\"], [0.6666666666666666, \"#ed7953\"], [0.7777777777777778, \"#fb9f3a\"], [0.8888888888888888, \"#fdca26\"], [1.0, \"#f0f921\"]], \"type\": \"contour\"}], \"contourcarpet\": [{\"colorbar\": {\"outlinewidth\": 0, \"ticks\": \"\"}, \"type\": \"contourcarpet\"}], \"heatmap\": [{\"colorbar\": {\"outlinewidth\": 0, \"ticks\": \"\"}, \"colorscale\": [[0.0, \"#0d0887\"], [0.1111111111111111, \"#46039f\"], [0.2222222222222222, \"#7201a8\"], [0.3333333333333333, \"#9c179e\"], [0.4444444444444444, \"#bd3786\"], [0.5555555555555556, \"#d8576b\"], [0.6666666666666666, \"#ed7953\"], [0.7777777777777778, \"#fb9f3a\"], [0.8888888888888888, \"#fdca26\"], [1.0, \"#f0f921\"]], \"type\": \"heatmap\"}], \"heatmapgl\": [{\"colorbar\": {\"outlinewidth\": 0, \"ticks\": \"\"}, \"colorscale\": [[0.0, \"#0d0887\"], [0.1111111111111111, \"#46039f\"], [0.2222222222222222, \"#7201a8\"], [0.3333333333333333, \"#9c179e\"], [0.4444444444444444, \"#bd3786\"], [0.5555555555555556, \"#d8576b\"], [0.6666666666666666, \"#ed7953\"], [0.7777777777777778, \"#fb9f3a\"], [0.8888888888888888, \"#fdca26\"], [1.0, \"#f0f921\"]], \"type\": \"heatmapgl\"}], \"histogram\": [{\"marker\": {\"colorbar\": {\"outlinewidth\": 0, \"ticks\": \"\"}}, \"type\": \"histogram\"}], \"histogram2d\": [{\"colorbar\": {\"outlinewidth\": 0, \"ticks\": \"\"}, \"colorscale\": [[0.0, \"#0d0887\"], [0.1111111111111111, \"#46039f\"], [0.2222222222222222, \"#7201a8\"], [0.3333333333333333, \"#9c179e\"], [0.4444444444444444, \"#bd3786\"], [0.5555555555555556, \"#d8576b\"], [0.6666666666666666, \"#ed7953\"], [0.7777777777777778, \"#fb9f3a\"], [0.8888888888888888, \"#fdca26\"], [1.0, \"#f0f921\"]], \"type\": \"histogram2d\"}], \"histogram2dcontour\": [{\"colorbar\": {\"outlinewidth\": 0, \"ticks\": \"\"}, \"colorscale\": [[0.0, \"#0d0887\"], [0.1111111111111111, \"#46039f\"], [0.2222222222222222, \"#7201a8\"], [0.3333333333333333, \"#9c179e\"], [0.4444444444444444, \"#bd3786\"], [0.5555555555555556, \"#d8576b\"], [0.6666666666666666, \"#ed7953\"], [0.7777777777777778, \"#fb9f3a\"], [0.8888888888888888, \"#fdca26\"], [1.0, \"#f0f921\"]], \"type\": \"histogram2dcontour\"}], \"mesh3d\": [{\"colorbar\": {\"outlinewidth\": 0, \"ticks\": \"\"}, \"type\": \"mesh3d\"}], \"parcoords\": [{\"line\": {\"colorbar\": {\"outlinewidth\": 0, \"ticks\": \"\"}}, \"type\": \"parcoords\"}], \"pie\": [{\"automargin\": true, \"type\": \"pie\"}], \"scatter\": [{\"marker\": {\"colorbar\": {\"outlinewidth\": 0, \"ticks\": \"\"}}, \"type\": \"scatter\"}], \"scatter3d\": [{\"line\": {\"colorbar\": {\"outlinewidth\": 0, \"ticks\": \"\"}}, \"marker\": {\"colorbar\": {\"outlinewidth\": 0, \"ticks\": \"\"}}, \"type\": \"scatter3d\"}], \"scattercarpet\": [{\"marker\": {\"colorbar\": {\"outlinewidth\": 0, \"ticks\": \"\"}}, \"type\": \"scattercarpet\"}], \"scattergeo\": [{\"marker\": {\"colorbar\": {\"outlinewidth\": 0, \"ticks\": \"\"}}, \"type\": \"scattergeo\"}], \"scattergl\": [{\"marker\": {\"colorbar\": {\"outlinewidth\": 0, \"ticks\": \"\"}}, \"type\": \"scattergl\"}], \"scattermapbox\": [{\"marker\": {\"colorbar\": {\"outlinewidth\": 0, \"ticks\": \"\"}}, \"type\": \"scattermapbox\"}], \"scatterpolar\": [{\"marker\": {\"colorbar\": {\"outlinewidth\": 0, \"ticks\": \"\"}}, \"type\": \"scatterpolar\"}], \"scatterpolargl\": [{\"marker\": {\"colorbar\": {\"outlinewidth\": 0, \"ticks\": \"\"}}, \"type\": \"scatterpolargl\"}], \"scatterternary\": [{\"marker\": {\"colorbar\": {\"outlinewidth\": 0, \"ticks\": \"\"}}, \"type\": \"scatterternary\"}], \"surface\": [{\"colorbar\": {\"outlinewidth\": 0, \"ticks\": \"\"}, \"colorscale\": [[0.0, \"#0d0887\"], [0.1111111111111111, \"#46039f\"], [0.2222222222222222, \"#7201a8\"], [0.3333333333333333, \"#9c179e\"], [0.4444444444444444, \"#bd3786\"], [0.5555555555555556, \"#d8576b\"], [0.6666666666666666, \"#ed7953\"], [0.7777777777777778, \"#fb9f3a\"], [0.8888888888888888, \"#fdca26\"], [1.0, \"#f0f921\"]], \"type\": \"surface\"}], \"table\": [{\"cells\": {\"fill\": {\"color\": \"#EBF0F8\"}, \"line\": {\"color\": \"white\"}}, \"header\": {\"fill\": {\"color\": \"#C8D4E3\"}, \"line\": {\"color\": \"white\"}}, \"type\": \"table\"}]}, \"layout\": {\"annotationdefaults\": {\"arrowcolor\": \"#2a3f5f\", \"arrowhead\": 0, \"arrowwidth\": 1}, \"coloraxis\": {\"colorbar\": {\"outlinewidth\": 0, \"ticks\": \"\"}}, \"colorscale\": {\"diverging\": [[0, \"#8e0152\"], [0.1, \"#c51b7d\"], [0.2, \"#de77ae\"], [0.3, \"#f1b6da\"], [0.4, \"#fde0ef\"], [0.5, \"#f7f7f7\"], [0.6, \"#e6f5d0\"], [0.7, \"#b8e186\"], [0.8, \"#7fbc41\"], [0.9, \"#4d9221\"], [1, \"#276419\"]], \"sequential\": [[0.0, \"#0d0887\"], [0.1111111111111111, \"#46039f\"], [0.2222222222222222, \"#7201a8\"], [0.3333333333333333, \"#9c179e\"], [0.4444444444444444, \"#bd3786\"], [0.5555555555555556, \"#d8576b\"], [0.6666666666666666, \"#ed7953\"], [0.7777777777777778, \"#fb9f3a\"], [0.8888888888888888, \"#fdca26\"], [1.0, \"#f0f921\"]], \"sequentialminus\": [[0.0, \"#0d0887\"], [0.1111111111111111, \"#46039f\"], [0.2222222222222222, \"#7201a8\"], [0.3333333333333333, \"#9c179e\"], [0.4444444444444444, \"#bd3786\"], [0.5555555555555556, \"#d8576b\"], [0.6666666666666666, \"#ed7953\"], [0.7777777777777778, \"#fb9f3a\"], [0.8888888888888888, \"#fdca26\"], [1.0, \"#f0f921\"]]}, \"colorway\": [\"#636efa\", \"#EF553B\", \"#00cc96\", \"#ab63fa\", \"#FFA15A\", \"#19d3f3\", \"#FF6692\", \"#B6E880\", \"#FF97FF\", \"#FECB52\"], \"font\": {\"color\": \"#2a3f5f\"}, \"geo\": {\"bgcolor\": \"white\", \"lakecolor\": \"white\", \"landcolor\": \"#E5ECF6\", \"showlakes\": true, \"showland\": true, \"subunitcolor\": \"white\"}, \"hoverlabel\": {\"align\": \"left\"}, \"hovermode\": \"closest\", \"mapbox\": {\"style\": \"light\"}, \"paper_bgcolor\": \"white\", \"plot_bgcolor\": \"#E5ECF6\", \"polar\": {\"angularaxis\": {\"gridcolor\": \"white\", \"linecolor\": \"white\", \"ticks\": \"\"}, \"bgcolor\": \"#E5ECF6\", \"radialaxis\": {\"gridcolor\": \"white\", \"linecolor\": \"white\", \"ticks\": \"\"}}, \"scene\": {\"xaxis\": {\"backgroundcolor\": \"#E5ECF6\", \"gridcolor\": \"white\", \"gridwidth\": 2, \"linecolor\": \"white\", \"showbackground\": true, \"ticks\": \"\", \"zerolinecolor\": \"white\"}, \"yaxis\": {\"backgroundcolor\": \"#E5ECF6\", \"gridcolor\": \"white\", \"gridwidth\": 2, \"linecolor\": \"white\", \"showbackground\": true, \"ticks\": \"\", \"zerolinecolor\": \"white\"}, \"zaxis\": {\"backgroundcolor\": \"#E5ECF6\", \"gridcolor\": \"white\", \"gridwidth\": 2, \"linecolor\": \"white\", \"showbackground\": true, \"ticks\": \"\", \"zerolinecolor\": \"white\"}}, \"shapedefaults\": {\"line\": {\"color\": \"#2a3f5f\"}}, \"ternary\": {\"aaxis\": {\"gridcolor\": \"white\", \"linecolor\": \"white\", \"ticks\": \"\"}, \"baxis\": {\"gridcolor\": \"white\", \"linecolor\": \"white\", \"ticks\": \"\"}, \"bgcolor\": \"#E5ECF6\", \"caxis\": {\"gridcolor\": \"white\", \"linecolor\": \"white\", \"ticks\": \"\"}}, \"title\": {\"x\": 0.05}, \"xaxis\": {\"automargin\": true, \"gridcolor\": \"white\", \"linecolor\": \"white\", \"ticks\": \"\", \"title\": {\"standoff\": 15}, \"zerolinecolor\": \"white\", \"zerolinewidth\": 2}, \"yaxis\": {\"automargin\": true, \"gridcolor\": \"white\", \"linecolor\": \"white\", \"ticks\": \"\", \"title\": {\"standoff\": 15}, \"zerolinecolor\": \"white\", \"zerolinewidth\": 2}}}, \"xaxis\": {\"dtick\": 0, \"title\": {\"text\": \"value\"}}, \"yaxis\": {\"range\": [0, 1], \"tickvals\": [0.0, 0.1, 0.2, 0.30000000000000004, 0.4, 0.5, 0.6000000000000001, 0.7000000000000001, 0.8, 0.9], \"title\": {\"text\": \"probability\"}}},\n",
       "                        {\"responsive\": true}\n",
       "                    ).then(function(){\n",
       "                            \n",
       "var gd = document.getElementById('efbfb120-6511-4e51-94df-78fbc6bcfd37');\n",
       "var x = new MutationObserver(function (mutations, observer) {{\n",
       "        var display = window.getComputedStyle(gd).display;\n",
       "        if (!display || display === 'none') {{\n",
       "            console.log([gd, 'removed!']);\n",
       "            Plotly.purge(gd);\n",
       "            observer.disconnect();\n",
       "        }}\n",
       "}});\n",
       "\n",
       "// Listen for the removal of the full notebook cells\n",
       "var notebookContainer = gd.closest('#notebook-container');\n",
       "if (notebookContainer) {{\n",
       "    x.observe(notebookContainer, {childList: true});\n",
       "}}\n",
       "\n",
       "// Listen for the clearing of the current output cell\n",
       "var outputEl = gd.closest('.output');\n",
       "if (outputEl) {{\n",
       "    x.observe(outputEl, {childList: true});\n",
       "}}\n",
       "\n",
       "                        })\n",
       "                };\n",
       "                });\n",
       "            </script>\n",
       "        </div>"
      ]
     },
     "metadata": {},
     "output_type": "display_data"
    }
   ],
   "source": [
    "fig = data_analyzer.make_prob_dist_histogram(b_list, x_range=x_range, bin_size=0.0001)\n",
    "fig.show()"
   ]
  },
  {
   "cell_type": "code",
   "execution_count": null,
   "metadata": {},
   "outputs": [],
   "source": []
  }
 ],
 "metadata": {
  "hide_input": false,
  "kernelspec": {
   "display_name": "quara_venv",
   "language": "python",
   "name": "quara_venv"
  },
  "language_info": {
   "codemirror_mode": {
    "name": "ipython",
    "version": 3
   },
   "file_extension": ".py",
   "mimetype": "text/x-python",
   "name": "python",
   "nbconvert_exporter": "python",
   "pygments_lexer": "ipython3",
   "version": "3.8.0"
  },
  "toc": {
   "base_numbering": 1,
   "nav_menu": {},
   "number_sections": true,
   "sideBar": true,
   "skip_h1_title": false,
   "title_cell": "Table of Contents",
   "title_sidebar": "Contents",
   "toc_cell": false,
   "toc_position": {},
   "toc_section_display": true,
   "toc_window_display": true
  },
  "varInspector": {
   "cols": {
    "lenName": 16,
    "lenType": 16,
    "lenVar": 40
   },
   "kernels_config": {
    "python": {
     "delete_cmd_postfix": "",
     "delete_cmd_prefix": "del ",
     "library": "var_list.py",
     "varRefreshCmd": "print(var_dic_list())"
    },
    "r": {
     "delete_cmd_postfix": ") ",
     "delete_cmd_prefix": "rm(",
     "library": "var_list.r",
     "varRefreshCmd": "cat(var_dic_list()) "
    }
   },
   "types_to_exclude": [
    "module",
    "function",
    "builtin_function_or_method",
    "instance",
    "_Feature"
   ],
   "window_display": false
  }
 },
 "nbformat": 4,
 "nbformat_minor": 4
}
