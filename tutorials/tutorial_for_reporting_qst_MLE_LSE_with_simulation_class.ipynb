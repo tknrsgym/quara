{
 "cells": [
  {
   "cell_type": "code",
   "execution_count": 1,
   "metadata": {},
   "outputs": [],
   "source": [
    "# State"
   ]
  },
  {
   "cell_type": "code",
   "execution_count": 1,
   "metadata": {},
   "outputs": [],
   "source": [
    "import pickle\n",
    "import time\n",
    "from typing import List\n",
    "import datetime as dt\n",
    "from pathlib import Path\n",
    "\n",
    "import numpy as np\n",
    "import pandas as pd\n",
    "import plotly.graph_objects as go\n",
    "import plotly.express as px\n",
    "\n",
    "from tqdm import tqdm\n",
    "\n",
    "from quara.data_analysis import data_analysis, physicality_violation_check, report\n",
    "from quara.data_analysis.projected_gradient_descent_base import ProjectedGradientDescentBase, ProjectedGradientDescentBaseOption\n",
    "from quara.data_analysis.weighted_probability_based_squared_error import WeightedProbabilityBasedSquaredError, WeightedProbabilityBasedSquaredErrorOption\n",
    "from quara.data_analysis.weighted_relative_entropy import WeightedRelativeEntropy, WeightedRelativeEntropyOption\n",
    "from quara.objects.composite_system import CompositeSystem\n",
    "from quara.objects.elemental_system import ElementalSystem\n",
    "from quara.objects.matrix_basis import get_normalized_pauli_basis\n",
    "from quara.objects.povm import (\n",
    "    Povm,\n",
    "    get_x_measurement,\n",
    "    get_y_measurement,\n",
    "    get_z_measurement,\n",
    ")\n",
    "from quara.objects.qoperation import QOperation\n",
    "from quara.objects.state import State, get_z0_1q, get_z1_1q, get_x0_1q\n",
    "from quara.protocol.qtomography.standard.standard_qst import StandardQst\n",
    "from quara.protocol.qtomography.standard.linear_estimator import LinearEstimator\n",
    "from quara.protocol.qtomography.standard.loss_minimization_estimator import LossMinimizationEstimator\n",
    "from quara.protocol.qtomography.standard.projected_linear_estimator import (\n",
    "    ProjectedLinearEstimator,\n",
    ")\n",
    "\n",
    "from quara.data_analysis.simulation import SimulationSetting"
   ]
  },
  {
   "cell_type": "code",
   "execution_count": 2,
   "metadata": {},
   "outputs": [],
   "source": [
    "%reload_ext autoreload\n",
    "%autoreload 2"
   ]
  },
  {
   "cell_type": "code",
   "execution_count": 3,
   "metadata": {},
   "outputs": [],
   "source": [
    "start_all = time.time()"
   ]
  },
  {
   "cell_type": "code",
   "execution_count": 4,
   "metadata": {},
   "outputs": [],
   "source": [
    "# setup system\n",
    "e_sys = ElementalSystem(0, get_normalized_pauli_basis())\n",
    "c_sys = CompositeSystem([e_sys])\n",
    "\n",
    "povm_x = get_x_measurement(c_sys)\n",
    "povm_y = get_y_measurement(c_sys)\n",
    "povm_z = get_z_measurement(c_sys)\n",
    "tester_objects = [povm_x, povm_y, povm_z]"
   ]
  },
  {
   "cell_type": "code",
   "execution_count": 5,
   "metadata": {},
   "outputs": [
    {
     "data": {
      "text/plain": [
       "array([0.70710678, 0.40824829, 0.40824829, 0.40824829])"
      ]
     },
     "execution_count": 5,
     "metadata": {},
     "output_type": "execute_result"
    }
   ],
   "source": [
    "# Case 1:\n",
    "# true_object = get_z0_1q(c_sys)\n",
    "\n",
    "# Case 2:\n",
    "vec = np.array([1/np.sqrt(2), 1/np.sqrt(6), 1/np.sqrt(6), 1/np.sqrt(6)],dtype=np.float64)\n",
    "true_object = State(c_sys, vec)\n",
    "\n",
    "# Case 3:\n",
    "# vec = np.array([1 / np.sqrt(2), 0, 0, 0], dtype=np.float64)\n",
    "# true_object = State(c_sys, vec)\n",
    "\n",
    "true_object.vec"
   ]
  },
  {
   "cell_type": "code",
   "execution_count": 7,
   "metadata": {
    "tags": []
   },
   "outputs": [
    {
     "name": "stderr",
     "output_type": "stream",
     "text": [
      " 10%|█         | 1/10 [00:00<00:01,  7.14it/s]"
     ]
    },
    {
     "name": "stdout",
     "output_type": "stream",
     "text": [
      "Case 0: Linear(True)\n",
      "Parametorization: True\n",
      "Type of qtomography: StandardQst\n",
      "Estimator: LinearEstimator\n"
     ]
    },
    {
     "name": "stderr",
     "output_type": "stream",
     "text": [
      "100%|██████████| 10/10 [00:01<00:00,  8.30it/s]\n",
      " 10%|█         | 1/10 [00:00<00:01,  8.36it/s]"
     ]
    },
    {
     "name": "stdout",
     "output_type": "stream",
     "text": [
      "elapsed_time:0.020361363887786865[min]\n",
      "\n",
      "Case 1: Linear(False)\n",
      "Parametorization: False\n",
      "Type of qtomography: StandardQst\n",
      "Estimator: LinearEstimator\n"
     ]
    },
    {
     "name": "stderr",
     "output_type": "stream",
     "text": [
      "100%|██████████| 10/10 [00:01<00:00,  6.04it/s]\n",
      "  0%|          | 0/10 [00:00<?, ?it/s]"
     ]
    },
    {
     "name": "stdout",
     "output_type": "stream",
     "text": [
      "elapsed_time:0.02789309819539388[min]\n",
      "\n",
      "Case 2: ProjectedLinear(True)\n",
      "Parametorization: True\n",
      "Type of qtomography: StandardQst\n",
      "Estimator: ProjectedLinearEstimator\n"
     ]
    },
    {
     "name": "stderr",
     "output_type": "stream",
     "text": [
      "100%|██████████| 10/10 [00:02<00:00,  4.29it/s]\n",
      " 10%|█         | 1/10 [00:00<00:01,  6.32it/s]"
     ]
    },
    {
     "name": "stdout",
     "output_type": "stream",
     "text": [
      "elapsed_time:0.039523919423421226[min]\n",
      "\n",
      "Case 3: ProjectedLinear(False)\n",
      "Parametorization: False\n",
      "Type of qtomography: StandardQst\n",
      "Estimator: ProjectedLinearEstimator\n"
     ]
    },
    {
     "name": "stderr",
     "output_type": "stream",
     "text": [
      "100%|██████████| 10/10 [00:01<00:00,  5.35it/s]\n",
      "  0%|          | 0/10 [00:00<?, ?it/s]"
     ]
    },
    {
     "name": "stdout",
     "output_type": "stream",
     "text": [
      "elapsed_time:0.03130484819412231[min]\n",
      "\n",
      "Case 4: Maximum-Likelihood(True)\n",
      "Parametorization: True\n",
      "Type of qtomography: StandardQst\n",
      "Estimator: LossMinimizationEstimator\n"
     ]
    },
    {
     "name": "stderr",
     "output_type": "stream",
     "text": [
      "100%|██████████| 10/10 [00:16<00:00,  1.61s/it]\n",
      "  0%|          | 0/10 [00:00<?, ?it/s]"
     ]
    },
    {
     "name": "stdout",
     "output_type": "stream",
     "text": [
      "elapsed_time:0.26847904920578003[min]\n",
      "\n",
      "Case 5: Maximum-Likelihood(False)\n",
      "Parametorization: False\n",
      "Type of qtomography: StandardQst\n",
      "Estimator: LossMinimizationEstimator\n"
     ]
    },
    {
     "name": "stderr",
     "output_type": "stream",
     "text": [
      "100%|██████████| 10/10 [00:17<00:00,  1.72s/it]\n",
      "  0%|          | 0/10 [00:00<?, ?it/s]"
     ]
    },
    {
     "name": "stdout",
     "output_type": "stream",
     "text": [
      "elapsed_time:0.28760866324106854[min]\n",
      "\n",
      "Case 6: Least Squares(True)\n",
      "Parametorization: True\n",
      "Type of qtomography: StandardQst\n",
      "Estimator: LossMinimizationEstimator\n"
     ]
    },
    {
     "name": "stderr",
     "output_type": "stream",
     "text": [
      "100%|██████████| 10/10 [00:03<00:00,  2.82it/s]\n",
      "  0%|          | 0/10 [00:00<?, ?it/s]"
     ]
    },
    {
     "name": "stdout",
     "output_type": "stream",
     "text": [
      "elapsed_time:0.05923301378885905[min]\n",
      "\n",
      "Case 7: Least Squares(False)\n",
      "Parametorization: False\n",
      "Type of qtomography: StandardQst\n",
      "Estimator: LossMinimizationEstimator\n"
     ]
    },
    {
     "name": "stderr",
     "output_type": "stream",
     "text": [
      "100%|██████████| 10/10 [00:03<00:00,  2.55it/s]"
     ]
    },
    {
     "name": "stdout",
     "output_type": "stream",
     "text": [
      "elapsed_time:0.06549976666768392[min]\n",
      "\n"
     ]
    },
    {
     "name": "stderr",
     "output_type": "stream",
     "text": [
      "\n"
     ]
    }
   ],
   "source": [
    "num_data = [100, 1000, 10000]\n",
    "# n_rep = 100\n",
    "n_rep = 10\n",
    "\n",
    "case_name_list = [\n",
    "    \"Linear(True)\",\n",
    "    \"Linear(False)\",\n",
    "    \"ProjectedLinear(True)\",\n",
    "    \"ProjectedLinear(False)\",\n",
    "    \"Maximum-Likelihood(True)\",\n",
    "    \"Maximum-Likelihood(False)\",\n",
    "    \"Least Squares(True)\",\n",
    "    \"Least Squares(False)\",\n",
    "]\n",
    "\n",
    "seed = 777\n",
    "qtomography_list = [\n",
    "    StandardQst(tester_objects, on_para_eq_constraint=True, seed=seed),\n",
    "    StandardQst(tester_objects, on_para_eq_constraint=False, seed=seed),\n",
    "    StandardQst(tester_objects, on_para_eq_constraint=True, seed=seed),\n",
    "    StandardQst(tester_objects, on_para_eq_constraint=False, seed=seed),\n",
    "    StandardQst(\n",
    "        tester_objects,\n",
    "        on_para_eq_constraint=True,\n",
    "        on_algo_eq_constraint=True,\n",
    "        on_algo_ineq_constraint=True,\n",
    "        eps_proj_physical=1e-13,\n",
    "        seed=seed,\n",
    "    ),\n",
    "    StandardQst(\n",
    "        tester_objects,\n",
    "        on_para_eq_constraint=False,\n",
    "        on_algo_eq_constraint=True,\n",
    "        on_algo_ineq_constraint=True,\n",
    "        eps_proj_physical=1e-13,\n",
    "        seed=seed,\n",
    "    ),\n",
    "    StandardQst(\n",
    "        tester_objects,\n",
    "        on_para_eq_constraint=True,\n",
    "        on_algo_eq_constraint=True,\n",
    "        on_algo_ineq_constraint=True,\n",
    "        eps_proj_physical=1e-13,\n",
    "        seed=seed,\n",
    "    ),\n",
    "    StandardQst(\n",
    "        tester_objects,\n",
    "        on_para_eq_constraint=False,\n",
    "        on_algo_eq_constraint=True,\n",
    "        on_algo_ineq_constraint=True,\n",
    "        eps_proj_physical=1e-13,\n",
    "        seed=seed,\n",
    "    ),\n",
    "]\n",
    "para_list = [\n",
    "    True,\n",
    "    False,\n",
    "    True,\n",
    "    False,\n",
    "    True,\n",
    "    False,\n",
    "    True,\n",
    "    False,\n",
    "]\n",
    "\n",
    "estimator_list = [\n",
    "    LinearEstimator(),\n",
    "    LinearEstimator(),\n",
    "    ProjectedLinearEstimator(),\n",
    "    ProjectedLinearEstimator(),\n",
    "    LossMinimizationEstimator(),\n",
    "    LossMinimizationEstimator(),\n",
    "    LossMinimizationEstimator(),\n",
    "    LossMinimizationEstimator(),\n",
    "]\n",
    "\n",
    "loss_list = [\n",
    "    None,\n",
    "    None,\n",
    "    None,\n",
    "    None,\n",
    "    WeightedRelativeEntropy(3),\n",
    "    WeightedRelativeEntropy(4),\n",
    "    WeightedProbabilityBasedSquaredError(3),\n",
    "    WeightedProbabilityBasedSquaredError(4),\n",
    "]\n",
    "\n",
    "loss_option_list = [\n",
    "    None,\n",
    "    None,\n",
    "    None,\n",
    "    None,\n",
    "    WeightedRelativeEntropyOption(),\n",
    "    WeightedRelativeEntropyOption(),\n",
    "    WeightedProbabilityBasedSquaredErrorOption(),\n",
    "    WeightedProbabilityBasedSquaredErrorOption(),\n",
    "]\n",
    "\n",
    "algo_list = [\n",
    "    None,\n",
    "    None,\n",
    "    None,\n",
    "    None,\n",
    "    ProjectedGradientDescentBase(),\n",
    "    ProjectedGradientDescentBase(),\n",
    "    ProjectedGradientDescentBase(),\n",
    "    ProjectedGradientDescentBase(),\n",
    "]\n",
    "\n",
    "algo_option_list = [\n",
    "    None,\n",
    "    None,\n",
    "    None,\n",
    "    None,\n",
    "    ProjectedGradientDescentBaseOption(),\n",
    "    ProjectedGradientDescentBaseOption(),\n",
    "    ProjectedGradientDescentBaseOption(),\n",
    "    ProjectedGradientDescentBaseOption(),\n",
    "]\n",
    "\n",
    "estimation_results_list = []\n",
    "elapsed_times = []\n",
    "simulation_settings = []\n",
    "\n",
    "for i, name in enumerate(case_name_list):\n",
    "    qtomography = qtomography_list[i]\n",
    "    estimator = estimator_list[i]\n",
    "    loss = loss_list[i]\n",
    "    loss_option = loss_option_list[i]\n",
    "    algo = algo_list[i]\n",
    "    algo_option = algo_option_list[i]\n",
    "\n",
    "    start = time.time()\n",
    "    print(f\"Case {i}: {name}\")\n",
    "    print(f\"Parametorization: {para_list[i]}\")\n",
    "    print(f\"Type of qtomography: {qtomography.__class__.__name__}\")\n",
    "    print(f\"Estimator: {estimator.__class__.__name__}\")\n",
    "\n",
    "    estimation_results = data_analysis.estimate(\n",
    "        qtomography=qtomography,\n",
    "        true_object=true_object,\n",
    "        num_data=num_data,\n",
    "        estimator=estimator,\n",
    "        loss=loss,\n",
    "        loss_option=loss_option,\n",
    "        algo=algo,\n",
    "        algo_option=algo_option,\n",
    "        iteration=n_rep,\n",
    "    )\n",
    "\n",
    "    # stock settings of this simulation\n",
    "    simulation_setting = SimulationSetting(\n",
    "        name=name,\n",
    "        estimator=estimator,\n",
    "        loss=loss,\n",
    "        loss_option=loss_option,\n",
    "        algo=algo,\n",
    "        algo_option=algo_option,\n",
    "    )\n",
    "    simulation_settings.append(simulation_setting)\n",
    "\n",
    "    estimation_results_list.append(estimation_results)\n",
    "\n",
    "    elapsed_time = time.time() - start\n",
    "    print(\"elapsed_time:{0}\".format(elapsed_time / 60) + \"[min]\\n\")\n",
    "    elapsed_times.append(elapsed_time)"
   ]
  },
  {
   "cell_type": "code",
   "execution_count": 192,
   "metadata": {
    "scrolled": false
   },
   "outputs": [
    {
     "name": "stderr",
     "output_type": "stream",
     "text": [
      "100%|██████████| 10/10 [00:00<00:00, 8793.09it/s]\n",
      "100%|██████████| 10/10 [00:00<00:00, 24328.91it/s]\n",
      "100%|██████████| 10/10 [00:00<00:00, 11519.65it/s]"
     ]
    },
    {
     "name": "stdout",
     "output_type": "stream",
     "text": [
      "​Generating table of computation time ...\n",
      "​Generating table of experimental conditions ...\n",
      "Generating case list ...\n",
      "​​Generating MSE of empirical distributions blocks ...\n"
     ]
    },
    {
     "name": "stderr",
     "output_type": "stream",
     "text": [
      "\n"
     ]
    },
    {
     "name": "stdout",
     "output_type": "stream",
     "text": [
      "​​Generating consictency test blocks ...\n",
      "​Generating a graph for MSE ...\n"
     ]
    },
    {
     "name": "stderr",
     "output_type": "stream",
     "text": [
      "/Users/tomoko/project/rcast/workspace/quara/venv/lib/python3.8/site-packages/numpy/core/_methods.py:216: RuntimeWarning:\n",
      "\n",
      "Degrees of freedom <= 0 for slice\n",
      "\n",
      "/Users/tomoko/project/rcast/workspace/quara/venv/lib/python3.8/site-packages/numpy/core/_methods.py:209: RuntimeWarning:\n",
      "\n",
      "invalid value encountered in double_scalars\n",
      "\n"
     ]
    },
    {
     "name": "stdout",
     "output_type": "stream",
     "text": [
      "​​Generating physicality violation test blocks ...\n"
     ]
    },
    {
     "name": "stderr",
     "output_type": "stream",
     "text": [
      "100%|██████████| 10/10 [00:00<00:00, 3555.10it/s]\n",
      "100%|██████████| 10/10 [00:00<00:00, 3950.93it/s]\n",
      "100%|██████████| 10/10 [00:00<00:00, 5296.51it/s]\n",
      "100%|██████████| 10/10 [00:00<00:00, 5053.38it/s]\n",
      "100%|██████████| 10/10 [00:00<00:00, 4198.08it/s]\n",
      "/Users/tomoko/project/rcast/workspace/quara/quara/data_analysis/physicality_violation_check.py:82: UserWarning:\n",
      "\n",
      "i=2: invalid: values=[0.9757877678124989, 0.024212232187501292]\n",
      "less_list=[]\n",
      "sum=1.0000000000000002, greater_list=[0.9757877678124989, 0.024212232187501292]\n",
      "\n",
      "/Users/tomoko/project/rcast/workspace/quara/quara/data_analysis/physicality_violation_check.py:82: UserWarning:\n",
      "\n",
      "i=7: invalid: values=[0.9856469911365666, 0.01435300886343367]\n",
      "less_list=[]\n",
      "sum=1.0000000000000002, greater_list=[0.9856469911365666, 0.01435300886343367]\n",
      "\n",
      "/Users/tomoko/project/rcast/workspace/quara/quara/data_analysis/physicality_violation_check.py:82: UserWarning:\n",
      "\n",
      "i=9: invalid: values=[0.9879764338572106, 0.012023566142789821]\n",
      "less_list=[]\n",
      "sum=1.0000000000000004, greater_list=[0.9879764338572106, 0.012023566142789821]\n",
      "\n",
      "/Users/tomoko/project/rcast/workspace/quara/quara/data_analysis/physicality_violation_check.py:87: UserWarning:\n",
      "\n",
      "sum_eig_less_list and sum_eig_greater_list lengths do not match.len(sum_eig_less_list)=4, len(sum_eig_greater_list)=7\n",
      "\n",
      "100%|██████████| 10/10 [00:00<00:00, 6528.10it/s]\n",
      "100%|██████████| 10/10 [00:00<00:00, 6702.31it/s]\n",
      "100%|██████████| 10/10 [00:00<00:00, 4284.27it/s]\n",
      "100%|██████████| 10/10 [00:00<00:00, 4679.05it/s]\n",
      "100%|██████████| 10/10 [00:00<00:00, 6877.04it/s]\n",
      "100%|██████████| 10/10 [00:00<00:00, 5724.45it/s]\n",
      "/Users/tomoko/project/rcast/workspace/quara/quara/data_analysis/physicality_violation_check.py:82: UserWarning:\n",
      "\n",
      "i=1: invalid: values=[0.9892003679475316, 0.010799632052468682]\n",
      "less_list=[]\n",
      "sum=1.0000000000000002, greater_list=[0.9892003679475316, 0.010799632052468682]\n",
      "\n",
      "/Users/tomoko/project/rcast/workspace/quara/quara/data_analysis/physicality_violation_check.py:87: UserWarning:\n",
      "\n",
      "sum_eig_less_list and sum_eig_greater_list lengths do not match.len(sum_eig_less_list)=3, len(sum_eig_greater_list)=4\n",
      "\n",
      "100%|██████████| 10/10 [00:00<00:00, 5970.54it/s]\n",
      "/Users/tomoko/project/rcast/workspace/quara/quara/data_analysis/physicality_violation_check.py:82: UserWarning:\n",
      "\n",
      "i=9: invalid: values=[0.9967060398263751, 0.003293960173625303]\n",
      "less_list=[]\n",
      "sum=1.0000000000000004, greater_list=[0.9967060398263751, 0.003293960173625303]\n",
      "\n",
      "/Users/tomoko/project/rcast/workspace/quara/quara/data_analysis/physicality_violation_check.py:87: UserWarning:\n",
      "\n",
      "sum_eig_less_list and sum_eig_greater_list lengths do not match.len(sum_eig_less_list)=5, len(sum_eig_greater_list)=6\n",
      "\n",
      "100%|██████████| 10/10 [00:00<00:00, 6199.09it/s]\n",
      "100%|██████████| 10/10 [00:00<00:00, 6766.10it/s]\n",
      "100%|██████████| 10/10 [00:00<00:00, 3958.76it/s]\n",
      "100%|██████████| 10/10 [00:00<00:00, 4622.84it/s]\n",
      "/Users/tomoko/project/rcast/workspace/quara/quara/data_analysis/physicality_violation_check.py:82: UserWarning:\n",
      "\n",
      "i=0: invalid: values=[0.996789693934969, 0.003210306065031275]\n",
      "less_list=[]\n",
      "sum=1.0000000000000002, greater_list=[0.996789693934969, 0.003210306065031275]\n",
      "\n",
      "/Users/tomoko/project/rcast/workspace/quara/quara/data_analysis/physicality_violation_check.py:87: UserWarning:\n",
      "\n",
      "sum_eig_less_list and sum_eig_greater_list lengths do not match.len(sum_eig_less_list)=6, len(sum_eig_greater_list)=7\n",
      "\n",
      "100%|██████████| 10/10 [00:00<00:00, 5823.80it/s]\n",
      "100%|██████████| 10/10 [00:00<00:00, 3198.34it/s]\n",
      "100%|██████████| 10/10 [00:00<00:00, 6427.07it/s]\n",
      "100%|██████████| 10/10 [00:00<00:00, 6544.40it/s]\n",
      "100%|██████████| 10/10 [00:00<00:00, 4952.54it/s]\n",
      "100%|██████████| 10/10 [00:00<00:00, 4038.42it/s]\n",
      "/Users/tomoko/project/rcast/workspace/quara/quara/data_analysis/physicality_violation_check.py:82: UserWarning:\n",
      "\n",
      "i=9: invalid: values=[0.982700735445887, 0.017299264554113382]\n",
      "less_list=[]\n",
      "sum=1.0000000000000004, greater_list=[0.982700735445887, 0.017299264554113382]\n",
      "\n",
      "/Users/tomoko/project/rcast/workspace/quara/quara/data_analysis/physicality_violation_check.py:87: UserWarning:\n",
      "\n",
      "sum_eig_less_list and sum_eig_greater_list lengths do not match.len(sum_eig_less_list)=4, len(sum_eig_greater_list)=5\n",
      "\n",
      "100%|██████████| 10/10 [00:00<00:00, 3977.91it/s]\n",
      "100%|██████████| 10/10 [00:00<00:00, 6518.97it/s]\n",
      "/Users/tomoko/project/rcast/workspace/quara/quara/data_analysis/physicality_violation_check.py:82: UserWarning:\n",
      "\n",
      "i=3: invalid: values=[0.9985455144718484, 0.0014544855281517547]\n",
      "less_list=[]\n",
      "sum=1.0000000000000002, greater_list=[0.9985455144718484, 0.0014544855281517547]\n",
      "\n",
      "100%|██████████| 10/10 [00:00<00:00, 6561.80it/s]\n",
      "100%|██████████| 10/10 [00:00<00:00, 6783.61it/s]\n",
      "100%|██████████| 10/10 [00:00<00:00, 5875.20it/s]\n",
      "100%|██████████| 10/10 [00:00<00:00, 5154.61it/s]\n",
      "/Users/tomoko/project/rcast/workspace/quara/quara/data_analysis/physicality_violation_check.py:82: UserWarning:\n",
      "\n",
      "i=5: invalid: values=[0.933243585009298, 0.06675641499070221]\n",
      "less_list=[]\n",
      "sum=1.0000000000000002, greater_list=[0.933243585009298, 0.06675641499070221]\n",
      "\n",
      "100%|██████████| 10/10 [00:00<00:00, 4295.68it/s]\n",
      "100%|██████████| 10/10 [00:00<00:00, 5878.49it/s]\n",
      "/Users/tomoko/project/rcast/workspace/quara/quara/data_analysis/physicality_violation_check.py:82: UserWarning:\n",
      "\n",
      "i=7: invalid: values=[0.9975536479429585, 0.002446352057041832]\n",
      "less_list=[]\n",
      "sum=1.0000000000000004, greater_list=[0.9975536479429585, 0.002446352057041832]\n",
      "\n",
      "/Users/tomoko/project/rcast/workspace/quara/quara/data_analysis/physicality_violation_check.py:87: UserWarning:\n",
      "\n",
      "sum_eig_less_list and sum_eig_greater_list lengths do not match.len(sum_eig_less_list)=7, len(sum_eig_greater_list)=8\n",
      "\n",
      "100%|██████████| 10/10 [00:00<00:00, 4838.28it/s]\n",
      "100%|██████████| 10/10 [00:00<00:00, 4948.45it/s]\n",
      "100%|██████████| 10/10 [00:00<00:00, 4319.57it/s]\n",
      "100%|██████████| 10/10 [00:00<00:00, 6626.07it/s]\n",
      "100%|██████████| 10/10 [00:00<00:00, 5223.94it/s]\n",
      "/Users/tomoko/project/rcast/workspace/quara/quara/data_analysis/physicality_violation_check.py:82: UserWarning:\n",
      "\n",
      "i=0: invalid: values=[0.9977198014347718, 0.0022801985652284905]\n",
      "less_list=[]\n",
      "sum=1.0000000000000002, greater_list=[0.9977198014347718, 0.0022801985652284905]\n",
      "\n",
      "/Users/tomoko/project/rcast/workspace/quara/quara/data_analysis/physicality_violation_check.py:82: UserWarning:\n",
      "\n",
      "i=3: invalid: values=[0.99514543286293, 0.004854567137070208]\n",
      "less_list=[]\n",
      "sum=1.0000000000000002, greater_list=[0.99514543286293, 0.004854567137070208]\n",
      "\n",
      "/Users/tomoko/project/rcast/workspace/quara/quara/data_analysis/physicality_violation_check.py:87: UserWarning:\n",
      "\n",
      "sum_eig_less_list and sum_eig_greater_list lengths do not match.len(sum_eig_less_list)=5, len(sum_eig_greater_list)=7\n",
      "\n",
      "100%|██████████| 10/10 [00:00<00:00, 6587.57it/s]\n",
      "100%|██████████| 10/10 [00:00<00:00, 5759.82it/s]\n",
      "100%|██████████| 10/10 [00:00<00:00, 4880.50it/s]\n",
      "100%|██████████| 10/10 [00:00<00:00, 6336.76it/s]\n",
      "100%|██████████| 10/10 [00:00<00:00, 6675.64it/s]\n",
      "/Users/tomoko/project/rcast/workspace/quara/quara/data_analysis/physicality_violation_check.py:82: UserWarning:\n",
      "\n",
      "i=2: invalid: values=[0.9882622284798772, 0.011737771520122921]\n",
      "less_list=[]\n",
      "sum=1.0000000000000002, greater_list=[0.9882622284798772, 0.011737771520122921]\n",
      "\n",
      "100%|██████████| 10/10 [00:00<00:00, 5157.14it/s]\n",
      "100%|██████████| 10/10 [00:00<00:00, 5896.67it/s]\n",
      "100%|██████████| 10/10 [00:00<00:00, 4809.98it/s]\n",
      "100%|██████████| 10/10 [00:00<00:00, 4728.64it/s]\n",
      "100%|██████████| 10/10 [00:00<00:00, 4859.02it/s]\n",
      "100%|██████████| 10/10 [00:00<00:00, 5916.64it/s]\n",
      "100%|██████████| 10/10 [00:00<00:00, 6524.04it/s]\n",
      "/Users/tomoko/project/rcast/workspace/quara/quara/data_analysis/physicality_violation_check.py:82: UserWarning:\n",
      "\n",
      "i=7: invalid: values=[0.9931957143257137, 0.006804285674286413]\n",
      "less_list=[]\n",
      "sum=1.0000000000000002, greater_list=[0.9931957143257137, 0.006804285674286413]\n",
      "\n",
      "100%|██████████| 10/10 [00:00<00:00, 6273.26it/s]\n"
     ]
    },
    {
     "name": "stdout",
     "output_type": "stream",
     "text": [
      "Converting to PDF report ...\n",
      "​Deleting temporary files ...\n",
      "Completed to export pdf. (qst_nrep=10_case=1_軸上から一番離れた表面_mle_lse_変更後.pdf)\n"
     ]
    }
   ],
   "source": [
    "report.export_report(\"qst_nrep=10_case=1_軸上から一番離れた表面_mle_lse_変更後.pdf\",\n",
    "    estimation_results_list=estimation_results_list,   # 「EstimationResultのリスト」のリスト\n",
    "    simulation_settings = simulation_settings,\n",
    "    true_object=true_object,  # True Object\n",
    "    tester_objects = tester_objects,   # Tester Objectのリスト.\n",
    "    seed=seed,  # 推定で使ったseed（オプション）\n",
    "    computation_time=sum(elapsed_times) # 処理時間の合計（オプション）\n",
    ")"
   ]
  },
  {
   "cell_type": "code",
   "execution_count": 10,
   "metadata": {},
   "outputs": [
    {
     "name": "stdout",
     "output_type": "stream",
     "text": [
      "\u001b[1;31mSignature:\u001b[0m\n",
      "\u001b[0mreport\u001b[0m\u001b[1;33m.\u001b[0m\u001b[0mexport_report\u001b[0m\u001b[1;33m(\u001b[0m\u001b[1;33m\n",
      "\u001b[0m    \u001b[0mpath\u001b[0m\u001b[1;33m:\u001b[0m\u001b[0mstr\u001b[0m\u001b[1;33m,\u001b[0m\u001b[1;33m\n",
      "\u001b[0m    \u001b[0mestimation_results_list\u001b[0m\u001b[1;33m:\u001b[0m\u001b[0mList\u001b[0m\u001b[1;33m[\u001b[0m\u001b[0mList\u001b[0m\u001b[1;33m[\u001b[0m\u001b[0m_ForwardRef\u001b[0m\u001b[1;33m(\u001b[0m\u001b[1;34m'EstimationResult'\u001b[0m\u001b[1;33m)\u001b[0m\u001b[1;33m]\u001b[0m\u001b[1;33m]\u001b[0m\u001b[1;33m,\u001b[0m\u001b[1;33m\n",
      "\u001b[0m    \u001b[0mcase_name_list\u001b[0m\u001b[1;33m:\u001b[0m\u001b[0mList\u001b[0m\u001b[1;33m[\u001b[0m\u001b[0mstr\u001b[0m\u001b[1;33m]\u001b[0m\u001b[1;33m,\u001b[0m\u001b[1;33m\n",
      "\u001b[0m    \u001b[0mestimator_list\u001b[0m\u001b[1;33m:\u001b[0m\u001b[0mList\u001b[0m\u001b[1;33m[\u001b[0m\u001b[0m_ForwardRef\u001b[0m\u001b[1;33m(\u001b[0m\u001b[1;34m'Estimator'\u001b[0m\u001b[1;33m)\u001b[0m\u001b[1;33m]\u001b[0m\u001b[1;33m,\u001b[0m\u001b[1;33m\n",
      "\u001b[0m    \u001b[0mtrue_object\u001b[0m\u001b[1;33m:\u001b[0m\u001b[1;34m'QOperation'\u001b[0m\u001b[1;33m,\u001b[0m\u001b[1;33m\n",
      "\u001b[0m    \u001b[0mtester_objects\u001b[0m\u001b[1;33m:\u001b[0m\u001b[0mList\u001b[0m\u001b[1;33m[\u001b[0m\u001b[0m_ForwardRef\u001b[0m\u001b[1;33m(\u001b[0m\u001b[1;34m'QOperation'\u001b[0m\u001b[1;33m)\u001b[0m\u001b[1;33m]\u001b[0m\u001b[1;33m,\u001b[0m\u001b[1;33m\n",
      "\u001b[0m    \u001b[0mloss_list\u001b[0m\u001b[1;33m:\u001b[0m\u001b[0mList\u001b[0m\u001b[1;33m[\u001b[0m\u001b[0m_ForwardRef\u001b[0m\u001b[1;33m(\u001b[0m\u001b[1;34m'ProbabilityBasedLossFunction'\u001b[0m\u001b[1;33m)\u001b[0m\u001b[1;33m]\u001b[0m\u001b[1;33m=\u001b[0m\u001b[1;32mNone\u001b[0m\u001b[1;33m,\u001b[0m\u001b[1;33m\n",
      "\u001b[0m    \u001b[0mloss_option_list\u001b[0m\u001b[1;33m:\u001b[0m\u001b[0mList\u001b[0m\u001b[1;33m[\u001b[0m\u001b[0m_ForwardRef\u001b[0m\u001b[1;33m(\u001b[0m\u001b[1;34m'ProbabilityBasedLossFunctionOption'\u001b[0m\u001b[1;33m)\u001b[0m\u001b[1;33m]\u001b[0m\u001b[1;33m=\u001b[0m\u001b[1;32mNone\u001b[0m\u001b[1;33m,\u001b[0m\u001b[1;33m\n",
      "\u001b[0m    \u001b[0malgo_list\u001b[0m\u001b[1;33m:\u001b[0m\u001b[0mList\u001b[0m\u001b[1;33m[\u001b[0m\u001b[0m_ForwardRef\u001b[0m\u001b[1;33m(\u001b[0m\u001b[1;34m'MinimizationAlgorithm'\u001b[0m\u001b[1;33m)\u001b[0m\u001b[1;33m]\u001b[0m\u001b[1;33m=\u001b[0m\u001b[1;32mNone\u001b[0m\u001b[1;33m,\u001b[0m\u001b[1;33m\n",
      "\u001b[0m    \u001b[0malgo_option_list\u001b[0m\u001b[1;33m:\u001b[0m\u001b[0mList\u001b[0m\u001b[1;33m[\u001b[0m\u001b[0m_ForwardRef\u001b[0m\u001b[1;33m(\u001b[0m\u001b[1;34m'MinimizationAlgorithmOption'\u001b[0m\u001b[1;33m)\u001b[0m\u001b[1;33m]\u001b[0m\u001b[1;33m=\u001b[0m\u001b[1;32mNone\u001b[0m\u001b[1;33m,\u001b[0m\u001b[1;33m\n",
      "\u001b[0m    \u001b[0mseed\u001b[0m\u001b[1;33m:\u001b[0m\u001b[0mUnion\u001b[0m\u001b[1;33m[\u001b[0m\u001b[0mint\u001b[0m\u001b[1;33m,\u001b[0m \u001b[0mNoneType\u001b[0m\u001b[1;33m]\u001b[0m\u001b[1;33m=\u001b[0m\u001b[1;32mNone\u001b[0m\u001b[1;33m,\u001b[0m\u001b[1;33m\n",
      "\u001b[0m    \u001b[0mcomputation_time\u001b[0m\u001b[1;33m:\u001b[0m\u001b[0mUnion\u001b[0m\u001b[1;33m[\u001b[0m\u001b[0mfloat\u001b[0m\u001b[1;33m,\u001b[0m \u001b[0mNoneType\u001b[0m\u001b[1;33m]\u001b[0m\u001b[1;33m=\u001b[0m\u001b[1;32mNone\u001b[0m\u001b[1;33m,\u001b[0m\u001b[1;33m\n",
      "\u001b[0m    \u001b[0mkeep_tmp_files\u001b[0m\u001b[1;33m:\u001b[0m\u001b[0mbool\u001b[0m\u001b[1;33m=\u001b[0m\u001b[1;32mFalse\u001b[0m\u001b[1;33m,\u001b[0m\u001b[1;33m\n",
      "\u001b[0m    \u001b[0mshow_physicality_violation_check\u001b[0m\u001b[1;33m:\u001b[0m\u001b[0mbool\u001b[0m\u001b[1;33m=\u001b[0m\u001b[1;32mTrue\u001b[0m\u001b[1;33m,\u001b[0m\u001b[1;33m\n",
      "\u001b[0m\u001b[1;33m)\u001b[0m\u001b[1;33m\u001b[0m\u001b[1;33m\u001b[0m\u001b[0m\n",
      "\u001b[1;31mDocstring:\u001b[0m <no docstring>\n",
      "\u001b[1;31mFile:\u001b[0m      c:\\users\\satoyuki\\myspace\\github\\tknrsgym\\quara\\quara\\data_analysis\\report.py\n",
      "\u001b[1;31mType:\u001b[0m      function\n"
     ]
    }
   ],
   "source": [
    "report.export_report?"
   ]
  },
  {
   "cell_type": "code",
   "execution_count": null,
   "metadata": {},
   "outputs": [],
   "source": []
  }
 ],
 "metadata": {
  "hide_input": false,
  "kernelspec": {
   "display_name": "quara_venv",
   "language": "python",
   "name": "quara_venv"
  },
  "language_info": {
   "codemirror_mode": {
    "name": "ipython",
    "version": 3
   },
   "file_extension": ".py",
   "mimetype": "text/x-python",
   "name": "python",
   "nbconvert_exporter": "python",
   "pygments_lexer": "ipython3",
   "version": "3.8.0"
  },
  "toc": {
   "base_numbering": 1,
   "nav_menu": {},
   "number_sections": true,
   "sideBar": true,
   "skip_h1_title": false,
   "title_cell": "Table of Contents",
   "title_sidebar": "Contents",
   "toc_cell": false,
   "toc_position": {},
   "toc_section_display": true,
   "toc_window_display": false
  },
  "varInspector": {
   "cols": {
    "lenName": 16,
    "lenType": 16,
    "lenVar": 40
   },
   "kernels_config": {
    "python": {
     "delete_cmd_postfix": "",
     "delete_cmd_prefix": "del ",
     "library": "var_list.py",
     "varRefreshCmd": "print(var_dic_list())"
    },
    "r": {
     "delete_cmd_postfix": ") ",
     "delete_cmd_prefix": "rm(",
     "library": "var_list.r",
     "varRefreshCmd": "cat(var_dic_list()) "
    }
   },
   "types_to_exclude": [
    "module",
    "function",
    "builtin_function_or_method",
    "instance",
    "_Feature"
   ],
   "window_display": false
  }
 },
 "nbformat": 4,
 "nbformat_minor": 4
}
