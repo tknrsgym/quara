{
 "cells": [
  {
   "cell_type": "markdown",
   "metadata": {},
   "source": [
    "# Tutorial for simple QPT  \n",
    "\n",
    "in this tutorial, we explain how to execute simple QPT."
   ]
  },
  {
   "cell_type": "markdown",
   "metadata": {},
   "source": [
    "## Table of contents  \n",
    "1. [preparation to execute](#1.-preparation-to-execute)\n",
    "2. [execute simple QPT](#2.-execute-simple-QPT)\n",
    "3. [validate Choi matrix](#3.-validate-Choi-matrix)"
   ]
  },
  {
   "cell_type": "markdown",
   "metadata": {},
   "source": [
    "## 1. preparation to execute  \n",
    "in this step, we explain about preparation to execute. this step consists of settings and format of csv files."
   ]
  },
  {
   "cell_type": "markdown",
   "metadata": {},
   "source": [
    "### settings  \n",
    "for executing simple QPT, prepare settings as Python dictionary:"
   ]
  },
  {
   "cell_type": "code",
   "execution_count": 1,
   "metadata": {},
   "outputs": [],
   "source": [
    "# setting for simple QPT\n",
    "csv_path = \"../tests/data/\"\n",
    "settings = {\n",
    "    \"dim\": 2 ** 1,\n",
    "    \"num_state\": 4,\n",
    "    \"num_povm\": 3,\n",
    "    \"num_outcome\": 2,\n",
    "    \"path_state\": csv_path + \"tester_1qubit_state.csv\",\n",
    "    \"path_povm\": csv_path + \"tester_1qubit_povm.csv\",\n",
    "    \"path_schedule\": csv_path + \"schedule_1qubit_start_from_0.csv\",\n",
    "    \"path_empi\": csv_path + \"listEmpiDist_2valued.csv\",\n",
    "    \"path_weight\": csv_path + \"weight_2valued_uniform.csv\",\n",
    "}"
   ]
  },
  {
   "cell_type": "markdown",
   "metadata": {},
   "source": [
    "dictionary of settings consists following keys and values:\n",
    "\n",
    "| key | value |\n",
    "|:----|:------|\n",
    "| dim | dimension of Hilbert space. |\n",
    "| num_state | number of state in the csv file. |\n",
    "| num_povm | number of povm in the csv file. |\n",
    "| num_outcome | number of outcome in the csv file. |\n",
    "| path_state | path of the state csv file. |\n",
    "| path_povm | path of the povm csv file. |\n",
    "| path_schedule | path of the schedule csv file. |\n",
    "| path_empi | path of the empi csv file. |\n",
    "| path_weight | path of the weight csv file. |\n",
    "\n"
   ]
  },
  {
   "cell_type": "markdown",
   "metadata": {},
   "source": [
    "### format of the state csv file  \n",
    "describe state list in csv file.  \n",
    "number of columns is equal to ``dim``.  \n",
    "number of rows is equal to  ``dim * num_state``."
   ]
  },
  {
   "cell_type": "markdown",
   "metadata": {},
   "source": [
    "Case: ``dim=2``, ``num_state=4``."
   ]
  },
  {
   "cell_type": "code",
   "execution_count": 2,
   "metadata": {},
   "outputs": [
    {
     "name": "stdout",
     "output_type": "stream",
     "text": [
      "1.000000000000000e+00,0.000000000000000e+00\n",
      "0.000000000000000e+00,0.000000000000000e+00\n",
      "0.000000000000000e+00,0.000000000000000e+00\n",
      "0.000000000000000e+00,1.000000000000000e+00\n",
      "5.000000000000000e-01,5.000000000000000e-01\n",
      "5.000000000000000e-01,5.000000000000000e-01\n",
      "5.000000000000000e-01,-0.000000000000000e+00-5.000000000000000e-01j\n",
      "0.000000000000000e+00+5.000000000000000e-01j,5.000000000000000e-01\n"
     ]
    }
   ],
   "source": [
    "!type \"..\\tests\\data\\tester_1qubit_state.csv\""
   ]
  },
  {
   "cell_type": "markdown",
   "metadata": {},
   "source": [
    "for example, first two rows represent a following density matrix:\n",
    "$$\n",
    "state[0] = \n",
    "\\left(\n",
    "    \\begin{array}{cc}\n",
    "        1.000000000000000e+00 & 0.000000000000000e+00 \\\\\n",
    "        0.000000000000000e+00 & 0.000000000000000e+00 \\\\\n",
    "    \\end{array}\n",
    "\\right)\n",
    "$$"
   ]
  },
  {
   "cell_type": "markdown",
   "metadata": {},
   "source": [
    "### format of the povm csv file  \n",
    "describe povm list in csv file.  \n",
    "number of columns is equal to ``dim``.  \n",
    "number of rows is equal to ``dim * num_outcome * num_povm``."
   ]
  },
  {
   "cell_type": "markdown",
   "metadata": {},
   "source": [
    "Case: ``dim=2``, ``num_povm=3``, ``num_outcome=2``."
   ]
  },
  {
   "cell_type": "code",
   "execution_count": 3,
   "metadata": {},
   "outputs": [
    {
     "name": "stdout",
     "output_type": "stream",
     "text": [
      "5.000000000000000e-01,5.000000000000000e-01\n",
      "5.000000000000000e-01,5.000000000000000e-01\n",
      "5.000000000000000e-01,-5.000000000000000e-01\n",
      "-5.000000000000000e-01,5.000000000000000e-01\n",
      "5.000000000000000e-01,-0.000000000000000e+00-5.000000000000000e-01j\n",
      "0.000000000000000e+00+5.000000000000000e-01j,5.000000000000000e-01\n",
      "5.000000000000000e-01,0.000000000000000e+00+5.000000000000000e-01j\n",
      "-0.000000000000000e+00-5.000000000000000e-01j,5.000000000000000e-01\n",
      "1.000000000000000e+00,0.000000000000000e+00\n",
      "0.000000000000000e+00,0.000000000000000e+00\n",
      "0.000000000000000e+00,0.000000000000000e+00\n",
      "0.000000000000000e+00,1.000000000000000e+00\n"
     ]
    }
   ],
   "source": [
    "!type \"..\\tests\\data\\tester_1qubit_povm.csv\""
   ]
  },
  {
   "cell_type": "markdown",
   "metadata": {},
   "source": [
    "for example, first four rows represent a following POVM:\n",
    "$$\n",
    "povm[0] =\n",
    "\\left\\{\n",
    "\\left(\n",
    "    \\begin{array}{cc}\n",
    "        5.000000000000000e-01 & 5.000000000000000e-01 \\\\\n",
    "        5.000000000000000e-01 & 5.000000000000000e-01 \\\\\n",
    "    \\end{array}\n",
    "\\right),\n",
    "\\left(\n",
    "    \\begin{array}{cc}\n",
    "        5.000000000000000e-01 & -5.000000000000000e-01 \\\\\n",
    "        -5.000000000000000e-01 & 5.000000000000000e-01 \\\\\n",
    "    \\end{array}\n",
    "\\right)\n",
    "\\right\\}\n",
    "$$\n",
    "\n",
    "in other words,\n",
    "$$\n",
    "povm[0][0] =\n",
    "\\left(\n",
    "    \\begin{array}{cc}\n",
    "        5.000000000000000e-01 & 5.000000000000000e-01 \\\\\n",
    "        5.000000000000000e-01 & 5.000000000000000e-01 \\\\\n",
    "    \\end{array}\n",
    "\\right),\\\\\n",
    "povm[0][1] =\n",
    "\\left(\n",
    "    \\begin{array}{cc}\n",
    "        5.000000000000000e-01 & -5.000000000000000e-01 \\\\\n",
    "        -5.000000000000000e-01 & 5.000000000000000e-01 \\\\\n",
    "    \\end{array}\n",
    "\\right)\n",
    "$$"
   ]
  },
  {
   "cell_type": "markdown",
   "metadata": {},
   "source": [
    "### format of the schedule csv file  \n",
    "describe schedule in csv file.  \n",
    "number of columns is equal to ``2``.  \n",
    "each value of first column is between ``0`` and ``num_state - 1``.  \n",
    "each value of second column is between ``0`` and ``num_povm - 1``.  "
   ]
  },
  {
   "cell_type": "markdown",
   "metadata": {},
   "source": [
    "Case: ``num_state=4``, ``num_povm=3``."
   ]
  },
  {
   "cell_type": "code",
   "execution_count": 4,
   "metadata": {},
   "outputs": [
    {
     "name": "stdout",
     "output_type": "stream",
     "text": [
      "0,0\n",
      "0,1\n",
      "0,2\n",
      "1,0\n",
      "1,1\n",
      "1,2\n",
      "2,0\n",
      "2,1\n",
      "2,2\n",
      "3,0\n",
      "3,1\n",
      "3,2\n"
     ]
    }
   ],
   "source": [
    "!type \"..\\tests\\data\\schedule_1qubit_start_from_0.csv\""
   ]
  },
  {
   "cell_type": "markdown",
   "metadata": {},
   "source": [
    "for example, first row represents a following schedule:\n",
    "$$\n",
    "schedule[0] = (state[0], povm[0])\n",
    "$$"
   ]
  },
  {
   "cell_type": "markdown",
   "metadata": {},
   "source": [
    "### format of the empi csv file  \n",
    "describe empi list in csv file.  \n",
    "number of columns is equal to ``num_outcome``.  \n",
    "- first columns is the probability of first measurement of POVM.\n",
    "- second columns is the probability of second measurement of POVM.\n",
    "- ...  \n",
    "\n",
    "number of rows is equal to ``num_schedule``.  \n",
    "each value is a non-negative real number.  \n",
    "sum of each row is equal to ``1``.  \n",
    "\n",
    "indices of empi correspond to indices of schedule."
   ]
  },
  {
   "cell_type": "markdown",
   "metadata": {},
   "source": [
    "Case: ``num_outcome=2``, ``num_schedule=12``."
   ]
  },
  {
   "cell_type": "code",
   "execution_count": 5,
   "metadata": {},
   "outputs": [
    {
     "name": "stdout",
     "output_type": "stream",
     "text": [
      "5.043978292038679e-01,4.956021707961321e-01\n",
      "5.142542524664510e-01,4.857457475335489e-01\n",
      "9.997774258456620e-01,2.225741543378976e-04\n",
      "4.956021707961321e-01,5.043978292038679e-01\n",
      "4.857457475335489e-01,5.142542524664510e-01\n",
      "2.225741543378976e-04,9.997774258456620e-01\n",
      "9.778858482455595e-01,2.211415175444042e-02\n",
      "3.529451941440284e-01,6.470548058559715e-01\n",
      "4.999889870767086e-01,5.000110129232912e-01\n",
      "6.469890306958841e-01,3.530109693041158e-01\n",
      "9.776732150343842e-01,2.232678496561569e-02\n",
      "4.850827450984023e-01,5.149172549015976e-01\n"
     ]
    }
   ],
   "source": [
    "!type \"..\\tests\\data\\listEmpiDist_2valued.csv\""
   ]
  },
  {
   "cell_type": "markdown",
   "metadata": {},
   "source": [
    "for example, first row represents a following schedule:\n",
    "$$\n",
    "empi[0] = (5.043978292038679e-01, 4.956021707961321e-01)\n",
    "$$\n",
    "\n",
    "$5.043978292038679e-01$ is the probability of\n",
    "$povm[0][0] = \\left(\n",
    "    \\begin{array}{cc}\n",
    "        5.000000000000000e-01 & 5.000000000000000e-01 \\\\\n",
    "        5.000000000000000e-01 & 5.000000000000000e-01 \\\\\n",
    "    \\end{array}\n",
    "\\right)$.\n",
    "\n",
    "$4.956021707961321e-01$ is the probability of \n",
    "$povm[0][1] = \\left(\n",
    "    \\begin{array}{cc}\n",
    "        5.000000000000000e-01 & -5.000000000000000e-01 \\\\\n",
    "        -5.000000000000000e-01 & 5.000000000000000e-01 \\\\\n",
    "    \\end{array}\n",
    "\\right)$."
   ]
  },
  {
   "cell_type": "markdown",
   "metadata": {},
   "source": [
    "### format of the weight csv file  \n",
    "describe weight list in csv file.  \n",
    "number of columns is equal to ``num_outcome``.  \n",
    "number of rows is equal to  ``num_schedule * num_outcome``.  \n",
    "\n",
    "indices of weight correspond to indices of schedule."
   ]
  },
  {
   "cell_type": "markdown",
   "metadata": {},
   "source": [
    "Case: ``num_outcome=2``, ``num_schedule=12``."
   ]
  },
  {
   "cell_type": "code",
   "execution_count": 6,
   "metadata": {},
   "outputs": [
    {
     "name": "stdout",
     "output_type": "stream",
     "text": [
      "1.000000000000000e+00,0.000000000000000e+00\n",
      "0.000000000000000e+00,1.000000000000000e+00\n",
      "1.000000000000000e+00,0.000000000000000e+00\n",
      "0.000000000000000e+00,1.000000000000000e+00\n",
      "1.000000000000000e+00,0.000000000000000e+00\n",
      "0.000000000000000e+00,1.000000000000000e+00\n",
      "1.000000000000000e+00,0.000000000000000e+00\n",
      "0.000000000000000e+00,1.000000000000000e+00\n",
      "1.000000000000000e+00,0.000000000000000e+00\n",
      "0.000000000000000e+00,1.000000000000000e+00\n",
      "1.000000000000000e+00,0.000000000000000e+00\n",
      "0.000000000000000e+00,1.000000000000000e+00\n",
      "1.000000000000000e+00,0.000000000000000e+00\n",
      "0.000000000000000e+00,1.000000000000000e+00\n",
      "1.000000000000000e+00,0.000000000000000e+00\n",
      "0.000000000000000e+00,1.000000000000000e+00\n",
      "1.000000000000000e+00,0.000000000000000e+00\n",
      "0.000000000000000e+00,1.000000000000000e+00\n",
      "1.000000000000000e+00,0.000000000000000e+00\n",
      "0.000000000000000e+00,1.000000000000000e+00\n",
      "1.000000000000000e+00,0.000000000000000e+00\n",
      "0.000000000000000e+00,1.000000000000000e+00\n",
      "1.000000000000000e+00,0.000000000000000e+00\n",
      "0.000000000000000e+00,1.000000000000000e+00\n"
     ]
    }
   ],
   "source": [
    "!type \"..\\tests\\data\\weight_2valued_uniform.csv\""
   ]
  },
  {
   "cell_type": "markdown",
   "metadata": {},
   "source": [
    "for example, first two rows represent a following matrix:\n",
    "$$\n",
    "weight[0] = \\text{weight of }schedule[0] = \n",
    "\\left(\n",
    "    \\begin{array}{cc}\n",
    "        1.000000000000000e+00 & 0.000000000000000e+00 \\\\\n",
    "        0.000000000000000e+00 & 1.000000000000000e+00 \\\\\n",
    "    \\end{array}\n",
    "\\right)\n",
    "$$"
   ]
  },
  {
   "cell_type": "markdown",
   "metadata": {},
   "source": [
    "## 2. execute simple QPT  \n",
    "in this step, we explain how to execute simple QPT."
   ]
  },
  {
   "cell_type": "markdown",
   "metadata": {},
   "source": [
    "import `quara.protocol.simple_qpt` and execute ``execute_from_csv`` function with the argument ``settings`` prepared in first step.  \n",
    "\n",
    "this function returns a tuple.  \n",
    "- first value of tuple is **Choi matrix** represented by ndarray of dtype ``np.complex128``.  \n",
    "- second value of tuple is **weighted squared distance** between optimized value and actual value."
   ]
  },
  {
   "cell_type": "code",
   "execution_count": 7,
   "metadata": {},
   "outputs": [],
   "source": [
    "from quara.protocol import simple_qpt\n",
    "\n",
    "# execute simple QPT\n",
    "choi, wsd = simple_qpt.execute_from_csv(settings)"
   ]
  },
  {
   "cell_type": "code",
   "execution_count": 8,
   "metadata": {},
   "outputs": [
    {
     "data": {
      "text/plain": [
       "array([[ 9.99777211e-01+0.00000000e+00j, -1.10126364e-05-1.49172469e-02j,\n",
       "         4.39788591e-03-1.42542774e-02j,  9.55558552e-01+2.94043679e-01j],\n",
       "       [-1.10126364e-05+1.49172469e-02j,  2.22786124e-04+0.00000000e+00j,\n",
       "         2.12627558e-04+6.57931277e-05j, -4.39776874e-03+1.42542154e-02j],\n",
       "       [ 4.39788591e-03+1.42542774e-02j,  2.12627558e-04-6.57931277e-05j,\n",
       "         2.22788923e-04+0.00000000e+00j,  1.10126364e-05+1.49172469e-02j],\n",
       "       [ 9.55558552e-01-2.94043679e-01j, -4.39776874e-03-1.42542154e-02j,\n",
       "         1.10126364e-05-1.49172469e-02j,  9.99777214e-01+0.00000000e+00j]])"
      ]
     },
     "execution_count": 8,
     "metadata": {},
     "output_type": "execute_result"
    }
   ],
   "source": [
    "choi"
   ]
  },
  {
   "cell_type": "markdown",
   "metadata": {},
   "source": [
    "size of Choi matrix is ``(dim * dim, dim * dim)``"
   ]
  },
  {
   "cell_type": "code",
   "execution_count": 9,
   "metadata": {},
   "outputs": [
    {
     "data": {
      "text/plain": [
       "(4, 4)"
      ]
     },
     "execution_count": 9,
     "metadata": {},
     "output_type": "execute_result"
    }
   ],
   "source": [
    "choi.shape"
   ]
  },
  {
   "cell_type": "code",
   "execution_count": 10,
   "metadata": {},
   "outputs": [
    {
     "data": {
      "text/plain": [
       "3.9895251815677546e-13"
      ]
     },
     "execution_count": 10,
     "metadata": {},
     "output_type": "execute_result"
    }
   ],
   "source": [
    "wsd"
   ]
  },
  {
   "cell_type": "markdown",
   "metadata": {},
   "source": [
    "## 3. validate Choi matrix  \n",
    "in this step, we validate result of simple QPT.  \n",
    "Specifically, we validate the followings:\n",
    "- Choi matrix is Hermitian.\n",
    "- Choi matrix is positive semidifinite.\n",
    "- Choi matrix is TP."
   ]
  },
  {
   "cell_type": "markdown",
   "metadata": {},
   "source": [
    "import `quara.utils.matrix_util`  for validating Choi matrix."
   ]
  },
  {
   "cell_type": "code",
   "execution_count": 11,
   "metadata": {},
   "outputs": [],
   "source": [
    "from quara.utils import matrix_util"
   ]
  },
  {
   "cell_type": "markdown",
   "metadata": {},
   "source": [
    "To validate whether Choi matrix is Hermitian, call ``is_hermitian`` function.  \n",
    "This function returns ``True`` where Choi matrix is Hermitian, ``False`` otherwise."
   ]
  },
  {
   "cell_type": "code",
   "execution_count": 12,
   "metadata": {},
   "outputs": [
    {
     "data": {
      "text/plain": [
       "True"
      ]
     },
     "execution_count": 12,
     "metadata": {},
     "output_type": "execute_result"
    }
   ],
   "source": [
    "matrix_util.is_hermitian(choi)"
   ]
  },
  {
   "cell_type": "markdown",
   "metadata": {},
   "source": [
    "To validate whether Choi matrix is positive semidifinite, call ``is_positive_semidefinite`` function.  \n",
    "This function returns ``True`` where Choi matrix is positive semidifinite, ``False`` otherwise."
   ]
  },
  {
   "cell_type": "code",
   "execution_count": 13,
   "metadata": {},
   "outputs": [
    {
     "data": {
      "text/plain": [
       "True"
      ]
     },
     "execution_count": 13,
     "metadata": {},
     "output_type": "execute_result"
    }
   ],
   "source": [
    "matrix_util.is_positive_semidefinite(choi)"
   ]
  },
  {
   "cell_type": "markdown",
   "metadata": {},
   "source": [
    "To validate whether Choi matrix is TP, call ``is_tp`` function.  \n",
    "This function returns ``True`` where Choi matrix is TP, ``False`` otherwise."
   ]
  },
  {
   "cell_type": "code",
   "execution_count": 14,
   "metadata": {},
   "outputs": [
    {
     "data": {
      "text/plain": [
       "True"
      ]
     },
     "execution_count": 14,
     "metadata": {},
     "output_type": "execute_result"
    }
   ],
   "source": [
    "matrix_util.is_tp(choi, settings['dim'])"
   ]
  }
 ],
 "metadata": {
  "kernelspec": {
   "display_name": "Python 3",
   "language": "python",
   "name": "python3"
  },
  "language_info": {
   "codemirror_mode": {
    "name": "ipython",
    "version": 3
   },
   "file_extension": ".py",
   "mimetype": "text/x-python",
   "name": "python",
   "nbconvert_exporter": "python",
   "pygments_lexer": "ipython3",
   "version": "3.6.8"
  }
 },
 "nbformat": 4,
 "nbformat_minor": 4
}
