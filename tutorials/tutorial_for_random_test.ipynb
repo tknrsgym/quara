{
 "cells": [
  {
   "cell_type": "code",
   "execution_count": 1,
   "metadata": {},
   "outputs": [],
   "source": [
    "# State"
   ]
  },
  {
   "cell_type": "code",
   "execution_count": 1,
   "metadata": {},
   "outputs": [
    {
     "data": {
      "text/plain": [
       "1e-13"
      ]
     },
     "execution_count": 1,
     "metadata": {},
     "output_type": "execute_result"
    }
   ],
   "source": [
    "import pickle\n",
    "import time\n",
    "from typing import List\n",
    "import datetime as dt\n",
    "from pathlib import Path\n",
    "\n",
    "import pandas as pd\n",
    "\n",
    "import numpy as np\n",
    "import pandas as pd\n",
    "import plotly.graph_objects as go\n",
    "import plotly.express as px\n",
    "\n",
    "from tqdm import tqdm\n",
    "\n",
    "from quara.data_analysis import data_analysis, physicality_violation_check, report\n",
    "from quara.data_analysis.projected_gradient_descent_backtracking import (\n",
    "    ProjectedGradientDescentBacktracking,\n",
    "    ProjectedGradientDescentBacktrackingOption,\n",
    ")\n",
    "from quara.data_analysis.weighted_probability_based_squared_error import (\n",
    "    WeightedProbabilityBasedSquaredError,\n",
    "    WeightedProbabilityBasedSquaredErrorOption,\n",
    ")\n",
    "from quara.data_analysis.weighted_relative_entropy import (\n",
    "    WeightedRelativeEntropy,\n",
    "    WeightedRelativeEntropyOption,\n",
    ")\n",
    "from quara.objects.composite_system import CompositeSystem\n",
    "from quara.objects.elemental_system import ElementalSystem\n",
    "from quara.objects.matrix_basis import get_normalized_pauli_basis\n",
    "from quara.objects.povm import (\n",
    "    Povm,\n",
    "    get_x_povm,\n",
    "    get_y_povm,\n",
    "    get_z_povm,\n",
    ")\n",
    "from quara.objects.qoperation import QOperation\n",
    "from quara.objects.state import State, get_z0_1q, get_z1_1q, get_x0_1q\n",
    "from quara.protocol.qtomography.standard.standard_qst import StandardQst\n",
    "from quara.protocol.qtomography.standard.linear_estimator import LinearEstimator\n",
    "from quara.protocol.qtomography.standard.loss_minimization_estimator import (\n",
    "    LossMinimizationEstimator,\n",
    ")\n",
    "from quara.protocol.qtomography.standard.projected_linear_estimator import (\n",
    "    ProjectedLinearEstimator,\n",
    ")\n",
    "\n",
    "from quara.data_analysis.simulation import StandardQTomographySimulationSetting\n",
    "from quara.data_analysis.generation_setting import QOperationGenerationSetting, DepolarizedQOperationGenerationSetting\n",
    "from quara.data_analysis.simulation_check import StandardQTomographySimulationCheck\n",
    "\n",
    "from quara.settings import Settings\n",
    "Settings.get_atol()"
   ]
  },
  {
   "cell_type": "code",
   "execution_count": 2,
   "metadata": {},
   "outputs": [],
   "source": [
    "%reload_ext autoreload\n",
    "%autoreload 2"
   ]
  },
  {
   "cell_type": "markdown",
   "metadata": {},
   "source": [
    "- test_settingのリストを作る\n",
    "- 1つのtest_settingから、QOperationGenerationSettingのリストを作る\n",
    "- QOperationGenerationSettingから、qoperationのサンプルをn_sample個作る\n",
    "- qoperationのサンプルから、StandardQTomographySimulationSettingを作る\n",
    "- 推定を実行する\n",
    "- SimulationCheckで結果をチェックする\n",
    "- 結果を格納する or 保存する "
   ]
  },
  {
   "cell_type": "code",
   "execution_count": 3,
   "metadata": {},
   "outputs": [],
   "source": [
    "from collections import namedtuple"
   ]
  },
  {
   "cell_type": "code",
   "execution_count": 4,
   "metadata": {},
   "outputs": [],
   "source": [
    "# test_settingのリストを作る\n",
    "e_sys = ElementalSystem(0, get_normalized_pauli_basis())\n",
    "c_sys = CompositeSystem([e_sys])\n",
    "\n",
    "# Base of Tester Object\n",
    "povm_x = get_x_povm(c_sys)\n",
    "povm_y = get_y_povm(c_sys)\n",
    "povm_z = get_z_povm(c_sys)\n",
    "tester_objects = [povm_x, povm_y, povm_z]\n",
    "\n",
    "# Base of True Object\n",
    "base_state =  get_z0_1q(c_sys)"
   ]
  },
  {
   "cell_type": "code",
   "execution_count": 5,
   "metadata": {},
   "outputs": [],
   "source": [
    "# シミュレーションに必要な設定を作る\n",
    "# TODO: StandardQTomographySimulationSettingクラスを使うかどうかの検討\n",
    "case_names = [\n",
    "    \"Linear (True)\",\n",
    "    \"Linear (False)\",\n",
    "    \"ProjectedLinear (True)\",\n",
    "    \"ProjectedLinear (False)\",\n",
    "    \"Maximum-Likelihood (True)\",\n",
    "    \"Maximum-Likelihood (False)\",\n",
    "    \"Least Squares (True)\",\n",
    "    \"Least Squares (False)\",\n",
    "]\n",
    "\n",
    "parametrizations = [True, False, True, False, True, False, True, False]\n",
    "\n",
    "estimators = [LinearEstimator(), \n",
    "    LinearEstimator(),\n",
    "    ProjectedLinearEstimator(),\n",
    "    ProjectedLinearEstimator(),\n",
    "    LossMinimizationEstimator(),\n",
    "    LossMinimizationEstimator(),\n",
    "    LossMinimizationEstimator(),\n",
    "    LossMinimizationEstimator(),]\n",
    "\n",
    "loss_list = [\n",
    "    (None, None),\n",
    "    (None, None),\n",
    "    (None, None),\n",
    "    (None, None),\n",
    "    (WeightedRelativeEntropy(3),WeightedRelativeEntropyOption(\"identity\")),\n",
    "    (WeightedRelativeEntropy(4),WeightedRelativeEntropyOption(\"identity\")),\n",
    "    (WeightedProbabilityBasedSquaredError(3), WeightedProbabilityBasedSquaredErrorOption(\"identity\")),\n",
    "    (WeightedProbabilityBasedSquaredError(4),WeightedProbabilityBasedSquaredErrorOption(\"identity\")),\n",
    "]\n",
    "\n",
    "def generate_pgdb_algo_option():\n",
    "    return ProjectedGradientDescentBacktrackingOption(\n",
    "        mode_stopping_criterion_gradient_descent=\"sum_absolute_difference_variable\",\n",
    "        num_history_stopping_criterion_gradient_descent=1\n",
    "    )\n",
    "\n",
    "algo_list = [\n",
    "    (None, None),\n",
    "    (None, None),\n",
    "    (None, None),\n",
    "    (None, None),\n",
    "    (ProjectedGradientDescentBacktracking(), generate_pgdb_algo_option()),\n",
    "    (ProjectedGradientDescentBacktracking(), generate_pgdb_algo_option()),\n",
    "    (ProjectedGradientDescentBacktracking(), generate_pgdb_algo_option()),\n",
    "    (ProjectedGradientDescentBacktracking(), generate_pgdb_algo_option())\n",
    "]"
   ]
  },
  {
   "cell_type": "code",
   "execution_count": 6,
   "metadata": {},
   "outputs": [],
   "source": [
    "NoiseSetting = namedtuple(\"NoiseSetting\", [\"qoperation_base\", \"method\", \"para\"])\n",
    "TestSetting = namedtuple(\n",
    "    \"TestSetting\",\n",
    "    [\n",
    "        \"tomography_class\",\n",
    "        \"true_object\",\n",
    "        \"tester_objects\",\n",
    "        \"seed\",\n",
    "        \"n_rep\",\n",
    "        \"num_data\",\n",
    "        \"n_sample\",\n",
    "        \"schedules\",\n",
    "        \"case_names\",\n",
    "        \"estimators\",\n",
    "        \"algo_list\",\n",
    "        \"loss_list\",\n",
    "        \"parametrizations\"\n",
    "    ],\n",
    ")\n",
    "\n",
    "noise_setting_0 = NoiseSetting(\n",
    "    qoperation_base=base_state, method=\"depolarized\", para={\"error_rate\": 0.1}\n",
    ")\n",
    "noise_setting_1 = NoiseSetting(\n",
    "    qoperation_base=povm_x, method=\"depolarized\", para={\"error_rate\": 0.1}\n",
    ")\n",
    "noise_setting_2 = NoiseSetting(\n",
    "    qoperation_base=povm_y, method=\"depolarized\", para={\"error_rate\": 0.1}\n",
    ")\n",
    "noise_setting_3 = NoiseSetting(\n",
    "    qoperation_base=povm_z, method=\"depolarized\", para={\"error_rate\": 0.1}\n",
    ")\n",
    "\n",
    "test_setting_0 = TestSetting(\n",
    "    tomography_class=StandardQst,\n",
    "    true_object=noise_setting_0,\n",
    "    tester_objects=[noise_setting_1, noise_setting_2, noise_setting_3],\n",
    "    seed=777,\n",
    "    n_sample=2,\n",
    "    n_rep=10,\n",
    "    num_data=[100, 1000],\n",
    "    schedules=\"all\",\n",
    "    case_names=case_names,\n",
    "    estimators=estimators,\n",
    "    algo_list=algo_list,\n",
    "    loss_list=loss_list,\n",
    "    parametrizations=parametrizations\n",
    ")\n",
    "\n",
    "# TODO: 複数のtest_settingをtest_settingsに格納する\n",
    "test_settings = [test_setting_0, test_setting_0]"
   ]
  },
  {
   "cell_type": "code",
   "execution_count": 7,
   "metadata": {},
   "outputs": [],
   "source": [
    "Result = namedtuple(\n",
    "    \"Result\",\n",
    "    [\"result_index\", \"simulation_setting\", \"estimation_results\", \"check_result\"],\n",
    ")"
   ]
  },
  {
   "cell_type": "code",
   "execution_count": 8,
   "metadata": {},
   "outputs": [],
   "source": [
    "# 1つのtest_settingから、QOperationGenerationSettingのリストを作る\n",
    "GenerationSettings = namedtuple(\n",
    "    \"GenerationSettings\", [\"true_setting\", \"tester_settings\"]\n",
    ")\n",
    "\n",
    "def to_generation_setting(noise_setting):\n",
    "    # TODO: 他に良い方法がないか検討\n",
    "    if noise_setting.method == \"depolarized\":\n",
    "        target_class =  DepolarizedQOperationGenerationSetting\n",
    "    else:\n",
    "        message = f\"noise_setting.method='{noise_setting.method}' is not implemented.\"\n",
    "        raise NotImplementedError(message)\n",
    "    return target_class(\n",
    "            qoperation_base=noise_setting.qoperation_base,\n",
    "            c_sys=noise_setting.qoperation_base.composite_system,\n",
    "            **noise_setting.para\n",
    "        )\n",
    "\n",
    "def to_generation_settings(test_setting):\n",
    "    true_setting = to_generation_setting(test_setting.true_object)\n",
    "    tester_settings = [to_generation_setting(setting) for setting in test_setting.tester_objects]\n",
    "    generation_settings = GenerationSettings(true_setting=true_setting, tester_settings=tester_settings)\n",
    "    return generation_settings"
   ]
  },
  {
   "cell_type": "code",
   "execution_count": 9,
   "metadata": {},
   "outputs": [],
   "source": [
    "from quara.protocol.qtomography.standard.standard_qst import StandardQst\n",
    "from quara.protocol.qtomography.standard.standard_qpt import StandardQpt\n",
    "from quara.protocol.qtomography.standard.standard_povmt import StandardPovmt\n",
    "\n",
    "\n",
    "def generate_qtomography(sim_setting, para: bool, eps_proj_physical: float) -> \"StandardQTomography\":\n",
    "    true_object = sim_setting.true_object\n",
    "    tester_objects = sim_setting.tester_objects\n",
    "    seed = sim_setting.seed\n",
    "\n",
    "    if type(true_object) == State:\n",
    "        return StandardQst(\n",
    "            tester_objects,\n",
    "            on_para_eq_constraint=para,\n",
    "            seed=seed,\n",
    "            eps_proj_physical=eps_proj_physical,\n",
    "        )\n",
    "    if type(true_object) == Povm:\n",
    "        return StandardPovmt(\n",
    "            tester_objects,\n",
    "            on_para_eq_constraint=para,\n",
    "            seed=seed,\n",
    "            eps_proj_physical=eps_proj_physical,\n",
    "        )\n",
    "    if type(true_object) == Gate:\n",
    "        states = [t for t in tester_objects if type(t) == State]\n",
    "        povms = [t for t in tester_objects if type(t) == Povm]\n",
    "\n",
    "        return StandardQpt(\n",
    "            states=states,\n",
    "            povms=povms,\n",
    "            on_para_eq_constraint=para,\n",
    "            seed=seed,\n",
    "            eps_proj_physical=eps_proj_physical,\n",
    "        )\n",
    "    # TODO: message\n",
    "    return TypeError()"
   ]
  },
  {
   "cell_type": "code",
   "execution_count": 10,
   "metadata": {},
   "outputs": [],
   "source": [
    "def convert_test_setting2simulation_setting(test_setting, true_object, tester_objects, case_index: int) -> StandardQTomographySimulationSetting:\n",
    "    return StandardQTomographySimulationSetting(\n",
    "        name=test_setting.case_names[case_index],\n",
    "        estimator=test_setting.estimators[case_index],\n",
    "        loss=test_setting.loss_list[case_index][0],\n",
    "        loss_option=test_setting.loss_list[case_index][1],\n",
    "        algo=test_setting.algo_list[case_index][0],\n",
    "        algo_option=test_setting.algo_list[case_index][1],\n",
    "        true_object=true_object,\n",
    "        tester_objects=tester_objects,\n",
    "        n_rep=test_setting.n_rep,\n",
    "        seed=test_setting.seed,\n",
    "        num_data = test_setting.num_data,\n",
    "        schedules= test_setting.schedules\n",
    "    )"
   ]
  },
  {
   "cell_type": "code",
   "execution_count": 11,
   "metadata": {},
   "outputs": [],
   "source": [
    "def write_result_case_unit(result: namedtuple, root_dir: str) -> None:\n",
    "    test_setting_index = result.result_index[\"test_setting_index\"]\n",
    "    sample_index = result.result_index[\"sample_index\"]\n",
    "    case_index = result.result_index[\"case_index\"]\n",
    "    \n",
    "    # Save all\n",
    "    dir_path = Path(f\"{root_dir}/{test_setting_index}/{sample_index}\")\n",
    "    dir_path.mkdir(parents=True, exist_ok=True)\n",
    "    path = dir_path / f\"case_{case_index}_result.pickle\"\n",
    "    with open(path, 'wb') as f:\n",
    "        pickle.dump(result, f)\n",
    "\n",
    "    check_result = result.check_result\n",
    "    path = dir_path / f\"case_{case_index}_check_result.json\"\n",
    "    with open(path, \"w\") as f:\n",
    "        json.dump(check_result, f, ensure_ascii=False, indent=4, separators=(',', ': '))"
   ]
  },
  {
   "cell_type": "code",
   "execution_count": 12,
   "metadata": {},
   "outputs": [],
   "source": [
    "import copy"
   ]
  },
  {
   "cell_type": "code",
   "execution_count": 13,
   "metadata": {},
   "outputs": [],
   "source": [
    "def result2dict(result):\n",
    "    result_dict = dict(\n",
    "        test_setting_index=result.result_index[\"test_setting_index\"],\n",
    "        sample_index=result.result_index[\"sample_index\"],\n",
    "        case_index=result.result_index[\"case_index\"],\n",
    "        name=result.simulation_setting.name,\n",
    "        total_result=result.check_result[\"total_result\"])\n",
    "\n",
    "    check_result = {}\n",
    "    warning_text = \"\"\n",
    "    for r in result.check_result[\"results\"]:\n",
    "        check_result[r[\"name\"]] = r[\"result\"]\n",
    "    result_dict.update(check_result)\n",
    "    \n",
    "    return result_dict"
   ]
  },
  {
   "cell_type": "code",
   "execution_count": 14,
   "metadata": {},
   "outputs": [],
   "source": [
    "def write_results(results: List[Result], dir_path) -> None:\n",
    "    dir_path = Path(dir_path)\n",
    "    dir_path.mkdir(parents=True, exist_ok=True)\n",
    "    path = dir_path / \"check_result.csv\"\n",
    "\n",
    "    result_dict_list = [result2dict(r) for r in results]\n",
    "    sample_result_df = pd.DataFrame(result_dict_list)\n",
    "    sample_result_df.to_csv(path, index=None)\n",
    "\n",
    "    print(f\"Completed to write csv. {path}\")\n",
    "\n",
    "\n",
    "def write_result_sample_unit(results: List[namedtuple], root_dir: str):\n",
    "    test_setting_index = results[0].result_index[\"test_setting_index\"]\n",
    "    sample_index = results[0].result_index[\"sample_index\"]\n",
    "    dir_path = Path(root_dir) / str(test_setting_index) / str(sample_index)\n",
    "\n",
    "    write_results(results, dir_path)\n",
    "\n",
    "\n",
    "def write_result_test_setting_unit(results: List[namedtuple], root_dir: str):\n",
    "    test_setting_index = results[0].result_index[\"test_setting_index\"]\n",
    "    dir_path = Path(root_dir) / str(test_setting_index)\n",
    "    \n",
    "    write_results(results, dir_path)"
   ]
  },
  {
   "cell_type": "code",
   "execution_count": 15,
   "metadata": {},
   "outputs": [],
   "source": [
    "def execute_simulation_case_unit(\n",
    "    test_setting,\n",
    "    true_object,\n",
    "    tester_objects,\n",
    "    case_index: int,\n",
    "    sample_index: int,\n",
    "    test_setting_index: int,\n",
    "    root_dir: str,\n",
    ") -> Result:\n",
    "    # QTomographySimulationSettingを作る\n",
    "    sim_setting = convert_test_setting2simulation_setting(\n",
    "        test_setting, true_object, tester_objects, case_index\n",
    "    )\n",
    "    print(f\"Case {case_index}: {sim_setting.name}\")\n",
    "\n",
    "    def _copy_sim_setting(source):\n",
    "        return StandardQTomographySimulationSetting(\n",
    "            name=source.name,\n",
    "            true_object=source.true_object,\n",
    "            tester_objects=source.tester_objects,\n",
    "            estimator=source.estimator,\n",
    "            loss=copy.deepcopy(source.loss),\n",
    "            loss_option=source.loss_option,\n",
    "            algo=copy.deepcopy(source.algo),\n",
    "            algo_option=source.algo_option,\n",
    "            seed=source.seed,\n",
    "            n_rep=source.n_rep,\n",
    "            num_data=source.num_data,\n",
    "            schedules=source.schedules\n",
    "        )\n",
    "\n",
    "    org_sim_setting = _copy_sim_setting(sim_setting)\n",
    "\n",
    "    # QTomographyの作成\n",
    "    qtomography = generate_qtomography(\n",
    "        sim_setting,\n",
    "        para=test_setting.parametrizations[case_index],\n",
    "        eps_proj_physical=1e-13,\n",
    "    )\n",
    "\n",
    "    # 推定\n",
    "    estimation_results = data_analysis.execute_simulation(\n",
    "        qtomography=qtomography, simulation_setting=sim_setting\n",
    "    )\n",
    "\n",
    "    # 自動テスト\n",
    "    sim_check = StandardQTomographySimulationCheck(sim_setting, estimation_results)\n",
    "    check_result = sim_check.execute_all(show_detail=False, with_detail=True)\n",
    "\n",
    "    # 結果の表示\n",
    "    if not check_result[\"total_result\"]:\n",
    "        start_red = \"\\033[31m\"\n",
    "        end_color = \"\\033[0m\"\n",
    "        print(f\"Total Result: {start_red}NG{end_color}\")\n",
    "\n",
    "    result_index = dict(\n",
    "        test_setting_index=test_setting_index,\n",
    "        sample_index=sample_index,\n",
    "        case_index=case_index,\n",
    "    )\n",
    "\n",
    "    # 結果の格納\n",
    "    result = Result(\n",
    "        result_index=result_index,\n",
    "        simulation_setting=org_sim_setting,\n",
    "        estimation_results=estimation_results,\n",
    "        check_result=check_result,\n",
    "    )\n",
    "    # Save\n",
    "    write_result_case_unit(result, root_dir=root_dir)\n",
    "    return result"
   ]
  },
  {
   "cell_type": "code",
   "execution_count": 16,
   "metadata": {},
   "outputs": [],
   "source": [
    "def write_pdf_report(results, root_dir):\n",
    "    test_setting_index = results[0].result_index[\"test_setting_index\"]\n",
    "    sample_index = results[0].result_index[\"sample_index\"]\n",
    "    \n",
    "    dir_path = Path(root_dir) / str(test_setting_index) / str(sample_index)\n",
    "    dir_path.mkdir(parents=True, exist_ok=True)\n",
    "    path = dir_path / f\"{test_setting_index}_{sample_index}_quara_report.pdf\"\n",
    "    \n",
    "    estimation_results_list = [r.estimation_results for r in results]\n",
    "    sim_settings = [r.simulation_setting for r in results]\n",
    "    \n",
    "    report.export_report(path, estimation_results_list, sim_settings)"
   ]
  },
  {
   "cell_type": "code",
   "execution_count": 17,
   "metadata": {},
   "outputs": [],
   "source": [
    "def execute_simulation_sample_unit(\n",
    "    test_setting, generation_settings, test_setting_index, sample_index, root_dir, pdf_mode: str=\"only_ng\"\n",
    ") -> List[Result]:\n",
    "    # sampleの生成\n",
    "    true_object = generation_settings.true_setting.generate()\n",
    "    tester_objects = [\n",
    "        tester_setting.generate()\n",
    "        for tester_setting in generation_settings.tester_settings\n",
    "    ]\n",
    "    results = []\n",
    "    case_n = len(test_setting.case_names)\n",
    "\n",
    "    for case_index in range(case_n):\n",
    "        result = execute_simulation_case_unit(\n",
    "            test_setting,\n",
    "            true_object=true_object,\n",
    "            tester_objects=tester_objects,\n",
    "            case_index=case_index,\n",
    "            sample_index=sample_index,\n",
    "            test_setting_index=test_setting_index,\n",
    "            root_dir=root_dir,\n",
    "        )\n",
    "        results.append(result)\n",
    "\n",
    "    # Save\n",
    "    write_result_sample_unit(results, root_dir=root_dir)\n",
    "    \n",
    "    # Save PDF\n",
    "    if pdf_mode == \"all\":\n",
    "        write_pdf_report(results, root_dir)\n",
    "    elif pdf_mode == \"only_ng\":\n",
    "        total_results = [r.check_result[\"total_result\"] for r in results]\n",
    "        print(f\"{total_results=}\")\n",
    "        print(np.all(total_results))\n",
    "        if not np.all(total_results):\n",
    "            write_pdf_report(results, root_dir)\n",
    "    elif pdf_mode == \"none\":\n",
    "        pass\n",
    "    else:\n",
    "        message = \"`pdf_mode` must be 'all', 'only_ng', or 'none'.\"\n",
    "        raise ValueError(message)\n",
    "        \n",
    "    return results\n",
    "\n",
    "\n",
    "def execute_simulation_test_setting_unit(test_setting, dir_path, pdf_mode: str='only_ng') -> List[Result]:\n",
    "    generation_settings = to_generation_settings(test_setting)\n",
    "    n_sample = test_setting.n_sample\n",
    "    results = []\n",
    "\n",
    "    for sample_index in range(n_sample):\n",
    "        sample_results = execute_simulation_sample_unit(\n",
    "            test_setting,\n",
    "            generation_settings,\n",
    "            test_setting_index,\n",
    "            sample_index,\n",
    "            root_dir,\n",
    "            pdf_mode=pdf_mode\n",
    "        )\n",
    "        results += sample_results\n",
    "\n",
    "    # 保存（test_index単位）\n",
    "    write_result_test_setting_unit(results, dir_path)\n",
    "    return results"
   ]
  },
  {
   "cell_type": "code",
   "execution_count": null,
   "metadata": {},
   "outputs": [
    {
     "name": "stdout",
     "output_type": "stream",
     "text": [
      "Case 0: Linear (True)\n"
     ]
    },
    {
     "name": "stderr",
     "output_type": "stream",
     "text": [
      "\r",
      "  0%|          | 0/10 [00:00<?, ?it/s]"
     ]
    },
    {
     "name": "stdout",
     "output_type": "stream",
     "text": [
      "=======schedules=======\n",
      "('state', 0): ('povm', 0)\n",
      "('state', 0): ('povm', 1)\n",
      "('state', 0): ('povm', 2)\n",
      "=====================\n",
      "=======schedules=======\n",
      "('state', 0): ('povm', 0)\n",
      "('state', 0): ('povm', 1)\n",
      "('state', 0): ('povm', 2)\n",
      "=====================\n",
      "=======schedules=======\n",
      "('state', 0): ('povm', 0)\n",
      "('state', 0): ('povm', 1)\n",
      "('state', 0): ('povm', 2)\n",
      "=====================\n",
      "=======schedules=======\n",
      "('state', 0): ('povm', 0)\n"
     ]
    },
    {
     "name": "stderr",
     "output_type": "stream",
     "text": [
      "\r",
      " 40%|████      | 4/10 [00:00<00:00, 30.53it/s]"
     ]
    },
    {
     "name": "stdout",
     "output_type": "stream",
     "text": [
      "('state', 0): ('povm', 1)\n",
      "('state', 0): ('povm', 2)\n",
      "=====================\n",
      "=======schedules=======\n",
      "('state', 0): ('povm', 0)\n",
      "('state', 0): ('povm', 1)\n",
      "('state', 0): ('povm', 2)\n",
      "=====================\n",
      "=======schedules=======\n",
      "('state', 0): ('povm', 0)\n",
      "('state', 0): ('povm', 1)\n",
      "('state', 0): ('povm', 2)\n",
      "=====================\n",
      "=======schedules=======\n",
      "('state', 0): ('povm', 0)\n",
      "('state', 0): ('povm', 1)\n",
      "('state', 0): ('povm', 2)\n",
      "=====================\n",
      "=======schedules=======\n",
      "('state', 0): ('povm', 0)\n",
      "('state', 0): ('povm', 1)\n",
      "('state', 0): ('povm', 2)\n",
      "=====================\n",
      "=======schedules=======\n",
      "('state', 0): ('povm', 0)\n",
      "('state', 0): ('povm', 1)\n",
      "('state', 0): ('povm', 2)\n",
      "=====================\n"
     ]
    },
    {
     "name": "stderr",
     "output_type": "stream",
     "text": [
      "100%|██████████| 10/10 [00:00<00:00, 37.53it/s]\n",
      "100%|██████████| 10/10 [00:00<00:00, 20490.00it/s]\n",
      "100%|██████████| 10/10 [00:00<00:00, 7309.70it/s]"
     ]
    },
    {
     "name": "stdout",
     "output_type": "stream",
     "text": [
      "=======schedules=======\n",
      "('state', 0): ('povm', 0)\n",
      "('state', 0): ('povm', 1)\n",
      "('state', 0): ('povm', 2)\n",
      "=====================\n",
      "=======schedules=======\n",
      "('state', 0): ('povm', 0)\n",
      "('state', 0): ('povm', 1)\n",
      "('state', 0): ('povm', 2)\n",
      "=====================\n",
      "========== Summary ============\n",
      "Name: Linear (True)\n",
      "MSE of Empirical Distributions: \u001b[32mOK\u001b[0m\n",
      "Consistency: \u001b[32mOK\u001b[0m (to_be_checked=False)\n",
      "MSE of estimators: \u001b[32mOK\u001b[0m\n",
      "Physicality Violation: \u001b[32mOK\u001b[0m\n",
      "===============================\n"
     ]
    },
    {
     "name": "stderr",
     "output_type": "stream",
     "text": [
      "\n",
      "\r",
      "  0%|          | 0/10 [00:00<?, ?it/s]"
     ]
    },
    {
     "name": "stdout",
     "output_type": "stream",
     "text": [
      "Case 1: Linear (False)\n",
      "=======schedules=======\n",
      "('state', 0): ('povm', 0)\n",
      "('state', 0): ('povm', 1)\n",
      "('state', 0): ('povm', 2)\n",
      "=====================\n",
      "=======schedules=======\n",
      "('state', 0): ('povm', 0)\n",
      "('state', 0): ('povm', 1)\n",
      "('state', 0): ('povm', 2)\n",
      "=====================\n",
      "=======schedules=======\n",
      "('state', 0): ('povm', 0)\n",
      "('state', 0): ('povm', 1)\n",
      "('state', 0): ('povm', 2)\n",
      "=====================\n",
      "=======schedules=======\n",
      "('state', 0): ('povm', 0)\n",
      "('state', 0): ('povm', 1)\n",
      "('state', 0): ('povm', 2)\n",
      "=====================\n",
      "=======schedules=======\n",
      "('state', 0): ('povm', 0)\n",
      "('state', 0): ('povm', 1)\n",
      "('state', 0): ('povm', 2)\n",
      "=====================\n",
      "=======schedules=======\n",
      "('state', 0): ('povm', 0)\n",
      "('state', 0): ('povm', 1)\n",
      "('state', 0): ('povm', 2)\n",
      "=====================\n",
      "=======schedules=======\n",
      "('state', 0): ('povm', 0)\n",
      "('state', 0): ('povm', 1)\n",
      "('state', 0): ('povm', 2)\n",
      "=====================\n"
     ]
    },
    {
     "name": "stderr",
     "output_type": "stream",
     "text": [
      "\r",
      " 70%|███████   | 7/10 [00:00<00:00, 61.77it/s]"
     ]
    },
    {
     "name": "stdout",
     "output_type": "stream",
     "text": [
      "=======schedules======="
     ]
    },
    {
     "name": "stderr",
     "output_type": "stream",
     "text": [
      "100%|██████████| 10/10 [00:00<00:00, 56.28it/s]\n",
      "100%|██████████| 10/10 [00:00<00:00, 20580.49it/s]\n",
      "100%|██████████| 10/10 [00:00<00:00, 21687.20it/s]"
     ]
    },
    {
     "name": "stdout",
     "output_type": "stream",
     "text": [
      "\n",
      "('state', 0): ('povm', 0)\n",
      "('state', 0): ('povm', 1)\n",
      "('state', 0): ('povm', 2)\n",
      "=====================\n",
      "=======schedules=======\n",
      "('state', 0): ('povm', 0)\n",
      "('state', 0): ('povm', 1)\n",
      "('state', 0): ('povm', 2)\n",
      "=====================\n",
      "=======schedules=======\n",
      "('state', 0): ('povm', 0)\n",
      "('state', 0): ('povm', 1)\n",
      "('state', 0): ('povm', 2)\n",
      "=====================\n",
      "=======schedules=======\n",
      "('state', 0): ('povm', 0)\n",
      "('state', 0): ('povm', 1)\n",
      "('state', 0): ('povm', 2)\n",
      "=====================\n",
      "========== Summary ============\n",
      "Name: Linear (False)\n",
      "MSE of Empirical Distributions: \u001b[32mOK\u001b[0m\n",
      "Consistency: \u001b[32mOK\u001b[0m (to_be_checked=False)\n",
      "MSE of estimators: \u001b[32mOK\u001b[0m\n",
      "Physicality Violation: \u001b[32mOK\u001b[0m\n",
      "==============================="
     ]
    },
    {
     "name": "stderr",
     "output_type": "stream",
     "text": [
      "\n",
      "\r",
      "  0%|          | 0/10 [00:00<?, ?it/s]"
     ]
    },
    {
     "name": "stdout",
     "output_type": "stream",
     "text": [
      "\n",
      "Case 2: ProjectedLinear (True)\n",
      "=======schedules=======\n",
      "('state', 0): ('povm', 0)\n",
      "('state', 0): ('povm', 1)\n",
      "('state', 0): ('povm', 2)\n",
      "=====================\n",
      "=======schedules=======\n",
      "('state', 0): ('povm', 0)\n",
      "('state', 0): ('povm', 1)\n",
      "('state', 0): ('povm', 2)\n",
      "=====================\n",
      "=======schedules=======\n",
      "('state', 0): ('povm', 0)\n",
      "('state', 0): ('povm', 1)\n",
      "('state', 0): ('povm', 2)\n",
      "=====================\n",
      "=======schedules=======\n",
      "('state', 0): ('povm', 0)\n",
      "('state', 0): ('povm', 1)\n",
      "('state', 0): ('povm', 2)\n",
      "=====================\n",
      "=======schedules=======\n",
      "('state', 0): ('povm', 0)\n",
      "('state', 0): ('povm', 1)\n",
      "('state', 0): ('povm', 2)\n",
      "=====================\n"
     ]
    },
    {
     "name": "stderr",
     "output_type": "stream",
     "text": [
      "\r",
      " 50%|█████     | 5/10 [00:00<00:00, 42.50it/s]"
     ]
    },
    {
     "name": "stdout",
     "output_type": "stream",
     "text": [
      "=======schedules=======\n",
      "('state', 0): ('povm', 0)\n",
      "('state', 0): ('povm', 1)\n",
      "('state', 0): ('povm', 2)\n",
      "=====================\n",
      "=======schedules=======\n",
      "('state', 0): ('povm', 0)\n",
      "('state', 0): ('povm', 1)\n",
      "('state', 0): ('povm', 2)\n",
      "=====================\n",
      "=======schedules=======\n",
      "('state', 0): ('povm', 0)\n",
      "('state', 0): ('povm', 1)\n",
      "('state', 0): ('povm', 2)\n",
      "=====================\n"
     ]
    },
    {
     "name": "stderr",
     "output_type": "stream",
     "text": [
      "100%|██████████| 10/10 [00:00<00:00, 39.04it/s]\n",
      "100%|██████████| 10/10 [00:00<00:00, 20039.68it/s]\n",
      "100%|██████████| 10/10 [00:00<00:00, 22429.43it/s]\n",
      "  0%|          | 0/10 [00:00<?, ?it/s]"
     ]
    },
    {
     "name": "stdout",
     "output_type": "stream",
     "text": [
      "=======schedules=======\n",
      "('state', 0): ('povm', 0)\n",
      "('state', 0): ('povm', 1)\n",
      "('state', 0): ('povm', 2)\n",
      "=====================\n",
      "=======schedules=======\n",
      "('state', 0): ('povm', 0)\n",
      "('state', 0): ('povm', 1)\n",
      "('state', 0): ('povm', 2)\n",
      "=====================\n",
      "=======schedules=======\n",
      "('state', 0): ('povm', 0)\n",
      "('state', 0): ('povm', 1)\n",
      "('state', 0): ('povm', 2)\n",
      "=====================\n",
      "=======schedules=======\n",
      "('state', 0): ('povm', 0)\n",
      "('state', 0): ('povm', 1)\n",
      "('state', 0): ('povm', 2)\n",
      "=====================\n",
      "=======schedules=======\n",
      "('state', 0): ('povm', 0)\n",
      "('state', 0): ('povm', 1)\n",
      "('state', 0): ('povm', 2)\n",
      "=====================\n"
     ]
    },
    {
     "name": "stderr",
     "output_type": "stream",
     "text": [
      "\r",
      " 40%|████      | 4/10 [00:00<00:00, 37.35it/s]"
     ]
    },
    {
     "name": "stdout",
     "output_type": "stream",
     "text": [
      "=======schedules=======\n",
      "('state', 0): ('povm', 0)\n",
      "('state', 0): ('povm', 1)\n",
      "('state', 0): ('povm', 2)\n",
      "=====================\n",
      "=======schedules=======\n",
      "('state', 0): ('povm', 0)\n",
      "('state', 0): ('povm', 1)\n",
      "('state', 0): ('povm', 2)\n",
      "=====================\n",
      "=======schedules=======\n",
      "('state', 0): ('povm', 0)\n",
      "('state', 0): ('povm', 1)\n",
      "('state', 0): ('povm', 2)\n",
      "=====================\n",
      "=======schedules=======\n",
      "('state', 0): ('povm', 0)\n",
      "('state', 0): ('povm', 1)\n",
      "('state', 0): ('povm', 2)\n",
      "=====================\n"
     ]
    },
    {
     "name": "stderr",
     "output_type": "stream",
     "text": [
      "100%|██████████| 10/10 [00:00<00:00, 42.24it/s]"
     ]
    },
    {
     "name": "stdout",
     "output_type": "stream",
     "text": [
      "=======schedules=======\n",
      "('state', 0): ('povm', 0)\n",
      "('state', 0): ('povm', 1)\n",
      "('state', 0): ('povm', 2)\n",
      "=====================\n",
      "=======schedules=======\n",
      "('state', 0): ('povm', 0)\n",
      "('state', 0): ('povm', 1)\n",
      "('state', 0): ('povm', 2)\n",
      "=====================\n",
      "=======schedules=======\n",
      "('state', 0): ('povm', 0)\n",
      "('state', 0): ('povm', 1)\n",
      "('state', 0): ('povm', 2)\n",
      "=====================\n",
      "=======schedules=======\n",
      "('state', 0): ('povm', 0)\n",
      "('state', 0): ('povm', 1)\n",
      "('state', 0): ('povm', 2)\n",
      "=====================\n"
     ]
    },
    {
     "name": "stderr",
     "output_type": "stream",
     "text": [
      "\n",
      " 60%|██████    | 6/10 [00:00<00:00, 53.36it/s]"
     ]
    },
    {
     "name": "stdout",
     "output_type": "stream",
     "text": [
      "========== Summary ============\n",
      "Name: ProjectedLinear (True)\n",
      "MSE of Empirical Distributions: \u001b[32mOK\u001b[0m\n",
      "Consistency: \u001b[32mOK\u001b[0m (to_be_checked=False)\n",
      "MSE of estimators: \u001b[31mNG\u001b[0m\n",
      "Physicality Violation: \u001b[32mOK\u001b[0m\n",
      "===============================\n",
      "Total Result: \u001b[31mNG\u001b[0m\n",
      "Case 3: ProjectedLinear (False)\n",
      "=======schedules=======\n",
      "('state', 0): ('povm', 0)\n",
      "('state', 0): ('povm', 1)\n",
      "('state', 0): ('povm', 2)\n",
      "=====================\n",
      "=======schedules=======\n",
      "('state', 0): ('povm', 0)\n",
      "('state', 0): ('povm', 1)\n",
      "('state', 0): ('povm', 2)\n",
      "=====================\n",
      "=======schedules=======\n",
      "('state', 0): ('povm', 0)\n",
      "('state', 0): ('povm', 1)\n",
      "('state', 0): ('povm', 2)\n",
      "=====================\n",
      "=======schedules=======\n",
      "('state', 0): ('povm', 0)\n",
      "('state', 0): ('povm', 1)\n",
      "('state', 0): ('povm', 2)\n",
      "=====================\n",
      "=======schedules=======\n",
      "('state', 0): ('povm', 0)\n",
      "('state', 0): ('povm', 1)\n",
      "('state', 0): ('povm', 2)\n",
      "=====================\n",
      "=======schedules=======\n",
      "('state', 0): ('povm', 0)\n",
      "('state', 0): ('povm', 1)\n",
      "('state', 0): ('povm', 2)\n",
      "=====================\n",
      "=======schedules=======\n",
      "('state', 0): ('povm', 0)\n",
      "('state', 0): ('povm', 1)\n",
      "('state', 0): ('povm', 2)\n",
      "=====================\n",
      "=======schedules=======\n",
      "('state', 0): ('povm', 0)\n",
      "('state', 0): ('povm', 1)\n",
      "('state', 0): ('povm', 2)\n",
      "=====================\n"
     ]
    },
    {
     "name": "stderr",
     "output_type": "stream",
     "text": [
      "\r",
      "100%|██████████| 10/10 [00:00<00:00, 51.77it/s]"
     ]
    },
    {
     "name": "stdout",
     "output_type": "stream",
     "text": [
      "=======schedules=======\n",
      "('state', 0): ('povm', 0)\n",
      "('state', 0): ('povm', 1)\n",
      "('state', 0): ('povm', 2)\n",
      "=====================\n",
      "=======schedules=======\n",
      "('state', 0): ('povm', 0)\n",
      "('state', 0): ('povm', 1)\n",
      "('state', 0): ('povm', 2)\n",
      "=====================\n"
     ]
    },
    {
     "name": "stderr",
     "output_type": "stream",
     "text": [
      "\n",
      "100%|██████████| 10/10 [00:00<00:00, 7727.16it/s]\n",
      "100%|██████████| 10/10 [00:00<00:00, 9560.76it/s]\n",
      " 80%|████████  | 8/10 [00:00<00:00, 73.49it/s]"
     ]
    },
    {
     "name": "stdout",
     "output_type": "stream",
     "text": [
      "=======schedules=======\n",
      "('state', 0): ('povm', 0)\n",
      "('state', 0): ('povm', 1)\n",
      "('state', 0): ('povm', 2)\n",
      "=====================\n",
      "=======schedules=======\n",
      "('state', 0): ('povm', 0)\n",
      "('state', 0): ('povm', 1)\n",
      "('state', 0): ('povm', 2)\n",
      "=====================\n",
      "=======schedules=======\n",
      "('state', 0): ('povm', 0)\n",
      "('state', 0): ('povm', 1)\n",
      "('state', 0): ('povm', 2)\n",
      "=====================\n",
      "=======schedules=======\n",
      "('state', 0): ('povm', 0)\n",
      "('state', 0): ('povm', 1)\n",
      "('state', 0): ('povm', 2)\n",
      "=====================\n",
      "=======schedules=======\n",
      "('state', 0): ('povm', 0)\n",
      "('state', 0): ('povm', 1)\n",
      "('state', 0): ('povm', 2)\n",
      "=====================\n",
      "=======schedules=======\n",
      "('state', 0): ('povm', 0)\n",
      "('state', 0): ('povm', 1)\n",
      "('state', 0): ('povm', 2)\n",
      "=====================\n",
      "=======schedules=======\n",
      "('state', 0): ('povm', 0)\n",
      "('state', 0): ('povm', 1)\n",
      "('state', 0): ('povm', 2)\n",
      "=====================\n",
      "=======schedules=======\n",
      "('state', 0): ('povm', 0)\n",
      "('state', 0): ('povm', 1)\n",
      "('state', 0): ('povm', 2)\n",
      "=====================\n",
      "=======schedules=======\n",
      "('state', 0): ('povm', 0)\n",
      "('state', 0): ('povm', 1)\n",
      "('state', 0): ('povm', 2)\n",
      "=====================\n",
      "=======schedules=======\n",
      "('state', 0): ('povm', 0)\n",
      "('state', 0): ('povm', 1)\n",
      "('state', 0): ('povm', 2)\n",
      "=====================\n",
      "=======schedules=======\n",
      "('state', 0): ('povm', 0)\n",
      "('state', 0): ('povm', 1)\n",
      "('state', 0): ('povm', 2)\n",
      "=====================\n"
     ]
    },
    {
     "name": "stderr",
     "output_type": "stream",
     "text": [
      "100%|██████████| 10/10 [00:00<00:00, 65.79it/s]\n",
      "  0%|          | 0/10 [00:00<?, ?it/s]"
     ]
    },
    {
     "name": "stdout",
     "output_type": "stream",
     "text": [
      "========== Summary ============\n",
      "Name: ProjectedLinear (False)\n",
      "MSE of Empirical Distributions: \u001b[32mOK\u001b[0m\n",
      "Consistency: \u001b[32mOK\u001b[0m (to_be_checked=False)\n",
      "MSE of estimators: \u001b[31mNG\u001b[0m\n",
      "Physicality Violation: \u001b[32mOK\u001b[0m\n",
      "===============================\n",
      "Total Result: \u001b[31mNG\u001b[0m\n",
      "Case 4: Maximum-Likelihood (True)\n",
      "=======schedules=======\n",
      "('state', 0): ('povm', 0)\n",
      "('state', 0): ('povm', 1)\n",
      "('state', 0): ('povm', 2)\n",
      "=====================\n"
     ]
    },
    {
     "name": "stderr",
     "output_type": "stream",
     "text": [
      "\r",
      " 10%|█         | 1/10 [00:01<00:09,  1.06s/it]"
     ]
    },
    {
     "name": "stdout",
     "output_type": "stream",
     "text": [
      "=======schedules=======\n",
      "('state', 0): ('povm', 0)\n",
      "('state', 0): ('povm', 1)\n",
      "('state', 0): ('povm', 2)\n",
      "=====================\n"
     ]
    },
    {
     "name": "stderr",
     "output_type": "stream",
     "text": [
      "\r",
      " 20%|██        | 2/10 [00:02<00:08,  1.05s/it]"
     ]
    },
    {
     "name": "stdout",
     "output_type": "stream",
     "text": [
      "=======schedules=======\n",
      "('state', 0): ('povm', 0)\n",
      "('state', 0): ('povm', 1)\n",
      "('state', 0): ('povm', 2)\n",
      "=====================\n"
     ]
    },
    {
     "name": "stderr",
     "output_type": "stream",
     "text": [
      "\r",
      " 30%|███       | 3/10 [00:02<00:06,  1.03it/s]"
     ]
    },
    {
     "name": "stdout",
     "output_type": "stream",
     "text": [
      "=======schedules=======\n",
      "('state', 0): ('povm', 0)\n",
      "('state', 0): ('povm', 1)\n",
      "('state', 0): ('povm', 2)\n",
      "=====================\n"
     ]
    },
    {
     "name": "stderr",
     "output_type": "stream",
     "text": [
      "\r",
      " 40%|████      | 4/10 [00:03<00:05,  1.12it/s]"
     ]
    },
    {
     "name": "stdout",
     "output_type": "stream",
     "text": [
      "=======schedules=======\n",
      "('state', 0): ('povm', 0)\n",
      "('state', 0): ('povm', 1)\n",
      "('state', 0): ('povm', 2)\n",
      "=====================\n"
     ]
    },
    {
     "name": "stderr",
     "output_type": "stream",
     "text": [
      "\r",
      " 50%|█████     | 5/10 [00:04<00:04,  1.05it/s]"
     ]
    },
    {
     "name": "stdout",
     "output_type": "stream",
     "text": [
      "=======schedules=======\n",
      "('state', 0): ('povm', 0)\n",
      "('state', 0): ('povm', 1)\n",
      "('state', 0): ('povm', 2)\n",
      "=====================\n"
     ]
    },
    {
     "name": "stderr",
     "output_type": "stream",
     "text": [
      "\r",
      " 60%|██████    | 6/10 [00:05<00:03,  1.03it/s]"
     ]
    },
    {
     "name": "stdout",
     "output_type": "stream",
     "text": [
      "=======schedules=======\n",
      "('state', 0): ('povm', 0)\n",
      "('state', 0): ('povm', 1)\n",
      "('state', 0): ('povm', 2)\n",
      "=====================\n"
     ]
    },
    {
     "name": "stderr",
     "output_type": "stream",
     "text": [
      "\r",
      " 70%|███████   | 7/10 [00:06<00:02,  1.06it/s]"
     ]
    },
    {
     "name": "stdout",
     "output_type": "stream",
     "text": [
      "=======schedules=======\n",
      "('state', 0): ('povm', 0)\n",
      "('state', 0): ('povm', 1)\n",
      "('state', 0): ('povm', 2)\n",
      "=====================\n"
     ]
    },
    {
     "name": "stderr",
     "output_type": "stream",
     "text": [
      "\r",
      " 80%|████████  | 8/10 [00:07<00:01,  1.04it/s]"
     ]
    },
    {
     "name": "stdout",
     "output_type": "stream",
     "text": [
      "=======schedules=======\n",
      "('state', 0): ('povm', 0)\n",
      "('state', 0): ('povm', 1)\n",
      "('state', 0): ('povm', 2)\n",
      "=====================\n"
     ]
    },
    {
     "name": "stderr",
     "output_type": "stream",
     "text": [
      "\r",
      " 90%|█████████ | 9/10 [00:08<00:00,  1.12it/s]"
     ]
    },
    {
     "name": "stdout",
     "output_type": "stream",
     "text": [
      "=======schedules=======\n",
      "('state', 0): ('povm', 0)\n",
      "('state', 0): ('povm', 1)\n",
      "('state', 0): ('povm', 2)\n",
      "=====================\n"
     ]
    },
    {
     "name": "stderr",
     "output_type": "stream",
     "text": [
      "100%|██████████| 10/10 [00:09<00:00,  1.08it/s]\n",
      "100%|██████████| 10/10 [00:00<00:00, 17091.70it/s]\n",
      "100%|██████████| 10/10 [00:00<00:00, 16416.06it/s]\n"
     ]
    },
    {
     "name": "stdout",
     "output_type": "stream",
     "text": [
      "=======schedules=======\n",
      "('state', 0): ('povm', 0)\n",
      "('state', 0): ('povm', 1)\n",
      "('state', 0): ('povm', 2)\n",
      "=====================\n"
     ]
    },
    {
     "name": "stderr",
     "output_type": "stream",
     "text": [
      "100%|██████████| 10/10 [00:00<00:00, 60.44it/s]\n",
      "  0%|          | 0/10 [00:00<?, ?it/s]"
     ]
    },
    {
     "name": "stdout",
     "output_type": "stream",
     "text": [
      "=======schedules=======\n",
      "('state', 0): ('povm', 0)\n",
      "('state', 0): ('povm', 1)\n",
      "('state', 0): ('povm', 2)\n",
      "=====================\n",
      "=======schedules=======\n",
      "('state', 0): ('povm', 0)\n",
      "('state', 0): ('povm', 1)\n",
      "('state', 0): ('povm', 2)\n",
      "=====================\n",
      "=======schedules=======\n",
      "('state', 0): ('povm', 0)\n",
      "('state', 0): ('povm', 1)\n",
      "('state', 0): ('povm', 2)\n",
      "=====================\n",
      "=======schedules=======\n",
      "('state', 0): ('povm', 0)\n",
      "('state', 0): ('povm', 1)\n",
      "('state', 0): ('povm', 2)\n",
      "=====================\n",
      "=======schedules=======\n",
      "('state', 0): ('povm', 0)\n",
      "('state', 0): ('povm', 1)\n",
      "('state', 0): ('povm', 2)\n",
      "=====================\n",
      "=======schedules=======\n",
      "('state', 0): ('povm', 0)\n",
      "('state', 0): ('povm', 1)\n",
      "('state', 0): ('povm', 2)\n",
      "=====================\n",
      "=======schedules=======\n",
      "('state', 0): ('povm', 0)\n",
      "('state', 0): ('povm', 1)\n",
      "('state', 0): ('povm', 2)\n",
      "=====================\n",
      "=======schedules=======\n",
      "('state', 0): ('povm', 0)\n",
      "('state', 0): ('povm', 1)\n",
      "('state', 0): ('povm', 2)\n",
      "=====================\n",
      "=======schedules=======\n",
      "('state', 0): ('povm', 0)\n",
      "('state', 0): ('povm', 1)\n",
      "('state', 0): ('povm', 2)\n",
      "=====================\n",
      "=======schedules=======\n",
      "('state', 0): ('povm', 0)\n",
      "('state', 0): ('povm', 1)\n",
      "('state', 0): ('povm', 2)\n",
      "=====================\n",
      "========== Summary ============\n",
      "Name: Maximum-Likelihood (True)\n",
      "MSE of Empirical Distributions: \u001b[32mOK\u001b[0m\n",
      "Consistency: \u001b[32mOK\u001b[0m (to_be_checked=False)\n",
      "MSE of estimators: \u001b[31mNG\u001b[0m\n",
      "Physicality Violation: \u001b[32mOK\u001b[0m\n",
      "===============================\n",
      "Total Result: \u001b[31mNG\u001b[0m\n",
      "Case 5: Maximum-Likelihood (False)\n",
      "=======schedules=======\n",
      "('state', 0): ('povm', 0)\n",
      "('state', 0): ('povm', 1)\n",
      "('state', 0): ('povm', 2)\n",
      "=====================\n"
     ]
    },
    {
     "name": "stderr",
     "output_type": "stream",
     "text": [
      "\r",
      " 10%|█         | 1/10 [00:01<00:11,  1.27s/it]"
     ]
    },
    {
     "name": "stdout",
     "output_type": "stream",
     "text": [
      "=======schedules=======\n",
      "('state', 0): ('povm', 0)\n",
      "('state', 0): ('povm', 1)\n",
      "('state', 0): ('povm', 2)\n",
      "=====================\n"
     ]
    },
    {
     "name": "stderr",
     "output_type": "stream",
     "text": [
      "\r",
      " 20%|██        | 2/10 [00:03<00:12,  1.60s/it]"
     ]
    },
    {
     "name": "stdout",
     "output_type": "stream",
     "text": [
      "=======schedules=======\n",
      "('state', 0): ('povm', 0)\n",
      "('state', 0): ('povm', 1)\n",
      "('state', 0): ('povm', 2)\n",
      "=====================\n"
     ]
    },
    {
     "name": "stderr",
     "output_type": "stream",
     "text": [
      "\r",
      " 30%|███       | 3/10 [00:06<00:13,  1.89s/it]"
     ]
    },
    {
     "name": "stdout",
     "output_type": "stream",
     "text": [
      "=======schedules=======\n",
      "('state', 0): ('povm', 0)\n",
      "('state', 0): ('povm', 1)\n",
      "('state', 0): ('povm', 2)\n",
      "=====================\n"
     ]
    },
    {
     "name": "stderr",
     "output_type": "stream",
     "text": [
      "\r",
      " 40%|████      | 4/10 [00:08<00:12,  2.16s/it]"
     ]
    },
    {
     "name": "stdout",
     "output_type": "stream",
     "text": [
      "=======schedules=======\n",
      "('state', 0): ('povm', 0)\n",
      "('state', 0): ('povm', 1)\n",
      "('state', 0): ('povm', 2)\n",
      "=====================\n"
     ]
    },
    {
     "name": "stderr",
     "output_type": "stream",
     "text": [
      "\r",
      " 50%|█████     | 5/10 [00:12<00:12,  2.45s/it]"
     ]
    },
    {
     "name": "stdout",
     "output_type": "stream",
     "text": [
      "=======schedules=======\n",
      "('state', 0): ('povm', 0)\n",
      "('state', 0): ('povm', 1)\n",
      "('state', 0): ('povm', 2)\n",
      "=====================\n"
     ]
    },
    {
     "name": "stderr",
     "output_type": "stream",
     "text": [
      "\r",
      " 60%|██████    | 6/10 [00:19<00:15,  3.78s/it]"
     ]
    },
    {
     "name": "stdout",
     "output_type": "stream",
     "text": [
      "=======schedules=======\n",
      "('state', 0): ('povm', 0)\n",
      "('state', 0): ('povm', 1)\n",
      "('state', 0): ('povm', 2)\n",
      "=====================\n"
     ]
    },
    {
     "name": "stderr",
     "output_type": "stream",
     "text": [
      "\r",
      " 70%|███████   | 7/10 [00:28<00:16,  5.52s/it]"
     ]
    },
    {
     "name": "stdout",
     "output_type": "stream",
     "text": [
      "=======schedules=======\n",
      "('state', 0): ('povm', 0)\n",
      "('state', 0): ('povm', 1)\n",
      "('state', 0): ('povm', 2)\n",
      "=====================\n"
     ]
    },
    {
     "name": "stderr",
     "output_type": "stream",
     "text": [
      "\r",
      " 80%|████████  | 8/10 [00:29<00:08,  4.16s/it]"
     ]
    },
    {
     "name": "stdout",
     "output_type": "stream",
     "text": [
      "=======schedules=======\n",
      "('state', 0): ('povm', 0)\n",
      "('state', 0): ('povm', 1)\n",
      "('state', 0): ('povm', 2)\n",
      "=====================\n"
     ]
    },
    {
     "name": "stderr",
     "output_type": "stream",
     "text": [
      "\r",
      " 90%|█████████ | 9/10 [00:30<00:03,  3.31s/it]"
     ]
    },
    {
     "name": "stdout",
     "output_type": "stream",
     "text": [
      "=======schedules=======\n",
      "('state', 0): ('povm', 0)\n",
      "('state', 0): ('povm', 1)\n",
      "('state', 0): ('povm', 2)\n",
      "=====================\n"
     ]
    },
    {
     "name": "stderr",
     "output_type": "stream",
     "text": [
      "100%|██████████| 10/10 [00:32<00:00,  3.27s/it]\n",
      "100%|██████████| 10/10 [00:00<00:00, 19599.55it/s]\n",
      "100%|██████████| 10/10 [00:00<00:00, 16637.46it/s]\n"
     ]
    },
    {
     "name": "stdout",
     "output_type": "stream",
     "text": [
      "=======schedules=======\n",
      "('state', 0): ('povm', 0)\n",
      "('state', 0): ('povm', 1)\n",
      "('state', 0): ('povm', 2)\n",
      "=====================\n"
     ]
    },
    {
     "name": "stderr",
     "output_type": "stream",
     "text": [
      " 10%|█         | 1/10 [00:00<00:01,  7.98it/s]"
     ]
    },
    {
     "name": "stdout",
     "output_type": "stream",
     "text": [
      "=======schedules=======\n",
      "('state', 0): ('povm', 0)\n",
      "('state', 0): ('povm', 1)\n",
      "('state', 0): ('povm', 2)\n",
      "=====================\n",
      "=======schedules=======\n",
      "('state', 0): ('povm', 0)\n",
      "('state', 0): ('povm', 1)\n",
      "('state', 0): ('povm', 2)\n",
      "=====================\n",
      "=======schedules=======\n",
      "('state', 0): ('povm', 0)\n",
      "('state', 0): ('povm', 1)\n",
      "('state', 0): ('povm', 2)\n",
      "=====================\n",
      "=======schedules=======\n",
      "('state', 0): ('povm', 0)\n",
      "('state', 0): ('povm', 1)\n",
      "('state', 0): ('povm', 2)\n",
      "=====================\n",
      "=======schedules======="
     ]
    },
    {
     "name": "stderr",
     "output_type": "stream",
     "text": [
      "100%|██████████| 10/10 [00:00<00:00, 30.97it/s]\n"
     ]
    },
    {
     "name": "stdout",
     "output_type": "stream",
     "text": [
      "\n",
      "('state', 0): ('povm', 0)\n",
      "('state', 0): ('povm', 1)\n",
      "('state', 0): ('povm', 2)\n",
      "=====================\n",
      "=======schedules=======\n",
      "('state', 0): ('povm', 0)\n",
      "('state', 0): ('povm', 1)\n",
      "('state', 0): ('povm', 2)\n",
      "=====================\n",
      "=======schedules=======\n",
      "('state', 0): ('povm', 0)\n",
      "('state', 0): ('povm', 1)\n",
      "('state', 0): ('povm', 2)\n",
      "=====================\n",
      "=======schedules=======\n",
      "('state', 0): ('povm', 0)\n",
      "('state', 0): ('povm', 1)\n",
      "('state', 0): ('povm', 2)\n",
      "=====================\n",
      "=======schedules=======\n",
      "('state', 0): ('povm', 0)\n",
      "('state', 0): ('povm', 1)\n",
      "('state', 0): ('povm', 2)\n",
      "=====================\n",
      "=======schedules=======\n",
      "('state', 0): ('povm', 0)\n",
      "('state', 0): ('povm', 1)\n",
      "('state', 0): ('povm', 2)\n",
      "=====================\n",
      "========== Summary ============\n",
      "Name: Maximum-Likelihood (False)\n",
      "MSE of Empirical Distributions: \u001b[32mOK\u001b[0m\n",
      "Consistency: \u001b[31mNG\u001b[0m (to_be_checked=False)\n",
      "MSE of estimators: \u001b[31mNG\u001b[0m\n",
      "Physicality Violation: \u001b[32mOK\u001b[0m\n",
      "===============================\n",
      "Total Result: \u001b[31mNG\u001b[0m\n"
     ]
    },
    {
     "name": "stderr",
     "output_type": "stream",
     "text": [
      "\r",
      "  0%|          | 0/10 [00:00<?, ?it/s]"
     ]
    },
    {
     "name": "stdout",
     "output_type": "stream",
     "text": [
      "Case 6: Least Squares (True)\n",
      "=======schedules=======\n",
      "('state', 0): ('povm', 0)\n",
      "('state', 0): ('povm', 1)\n",
      "('state', 0): ('povm', 2)\n",
      "=====================\n"
     ]
    },
    {
     "name": "stderr",
     "output_type": "stream",
     "text": [
      "\r",
      " 10%|█         | 1/10 [00:00<00:03,  2.87it/s]"
     ]
    },
    {
     "name": "stdout",
     "output_type": "stream",
     "text": [
      "=======schedules=======\n",
      "('state', 0): ('povm', 0)\n",
      "('state', 0): ('povm', 1)\n",
      "('state', 0): ('povm', 2)\n",
      "=====================\n"
     ]
    },
    {
     "name": "stderr",
     "output_type": "stream",
     "text": [
      " 30%|███       | 3/10 [00:00<00:01,  3.57it/s]"
     ]
    },
    {
     "name": "stdout",
     "output_type": "stream",
     "text": [
      "=======schedules=======\n",
      "('state', 0): ('povm', 0)\n",
      "('state', 0): ('povm', 1)\n",
      "('state', 0): ('povm', 2)\n",
      "=====================\n",
      "=======schedules=======\n",
      "('state', 0): ('povm', 0)\n",
      "('state', 0): ('povm', 1)\n",
      "('state', 0): ('povm', 2)\n",
      "=====================\n"
     ]
    },
    {
     "name": "stderr",
     "output_type": "stream",
     "text": [
      " 50%|█████     | 5/10 [00:01<00:01,  4.88it/s]"
     ]
    },
    {
     "name": "stdout",
     "output_type": "stream",
     "text": [
      "=======schedules=======\n",
      "('state', 0): ('povm', 0)\n",
      "('state', 0): ('povm', 1)\n",
      "('state', 0): ('povm', 2)\n",
      "=====================\n",
      "=======schedules=======\n",
      "('state', 0): ('povm', 0)\n",
      "('state', 0): ('povm', 1)\n",
      "('state', 0): ('povm', 2)\n",
      "=====================\n"
     ]
    },
    {
     "name": "stderr",
     "output_type": "stream",
     "text": [
      "\r",
      " 60%|██████    | 6/10 [00:01<00:00,  5.32it/s]"
     ]
    },
    {
     "name": "stdout",
     "output_type": "stream",
     "text": [
      "=======schedules=======\n",
      "('state', 0): ('povm', 0)\n",
      "('state', 0): ('povm', 1)\n",
      "('state', 0): ('povm', 2)\n",
      "=====================\n"
     ]
    },
    {
     "name": "stderr",
     "output_type": "stream",
     "text": [
      " 80%|████████  | 8/10 [00:01<00:00,  5.22it/s]"
     ]
    },
    {
     "name": "stdout",
     "output_type": "stream",
     "text": [
      "=======schedules=======\n",
      "('state', 0): ('povm', 0)\n",
      "('state', 0): ('povm', 1)\n",
      "('state', 0): ('povm', 2)\n",
      "=====================\n",
      "=======schedules=======\n",
      "('state', 0): ('povm', 0)\n",
      "('state', 0): ('povm', 1)\n",
      "('state', 0): ('povm', 2)\n",
      "=====================\n"
     ]
    },
    {
     "name": "stderr",
     "output_type": "stream",
     "text": [
      "100%|██████████| 10/10 [00:01<00:00,  5.33it/s]\n",
      "100%|██████████| 10/10 [00:00<00:00, 5488.49it/s]\n",
      "100%|██████████| 10/10 [00:00<00:00, 13298.36it/s]\n"
     ]
    },
    {
     "name": "stdout",
     "output_type": "stream",
     "text": [
      "=======schedules=======\n",
      "('state', 0): ('povm', 0)\n",
      "('state', 0): ('povm', 1)\n",
      "('state', 0): ('povm', 2)\n",
      "=====================\n",
      "=======schedules=======\n",
      "('state', 0): ('povm', 0)\n",
      "('state', 0): ('povm', 1)\n",
      "('state', 0): ('povm', 2)\n",
      "=====================\n"
     ]
    },
    {
     "name": "stderr",
     "output_type": "stream",
     "text": [
      "/Users/tomoko/project/rcast/workspace/quara/quara/data_analysis/simulation_check.py:176: UserWarning: Estimator MSE is not checked except for LinearEstimator, ProjectedLinearEstimator, Maximum-likelihood.\n",
      "  warnings.warn(\n",
      " 10%|█         | 1/10 [00:00<00:01,  6.80it/s]"
     ]
    },
    {
     "name": "stdout",
     "output_type": "stream",
     "text": [
      "========== Summary ============\n",
      "Name: Least Squares (True)\n",
      "MSE of Empirical Distributions: \u001b[32mOK\u001b[0m\n",
      "Consistency: \u001b[32mOK\u001b[0m (to_be_checked=False)\n",
      "MSE of estimators: \u001b[32mOK\u001b[0m\n",
      "Physicality Violation: \u001b[32mOK\u001b[0m\n",
      "===============================\n",
      "Case 7: Least Squares (False)\n",
      "=======schedules=======\n",
      "('state', 0): ('povm', 0)\n",
      "('state', 0): ('povm', 1)\n",
      "('state', 0): ('povm', 2)\n",
      "=====================\n",
      "=======schedules=======\n",
      "('state', 0): ('povm', 0)\n",
      "('state', 0): ('povm', 1)\n",
      "('state', 0): ('povm', 2)\n",
      "=====================\n"
     ]
    },
    {
     "name": "stderr",
     "output_type": "stream",
     "text": [
      " 30%|███       | 3/10 [00:00<00:01,  6.78it/s]"
     ]
    },
    {
     "name": "stdout",
     "output_type": "stream",
     "text": [
      "=======schedules=======\n",
      "('state', 0): ('povm', 0)\n",
      "('state', 0): ('povm', 1)\n",
      "('state', 0): ('povm', 2)\n",
      "=====================\n",
      "=======schedules=======\n",
      "('state', 0): ('povm', 0)\n",
      "('state', 0): ('povm', 1)\n",
      "('state', 0): ('povm', 2)\n",
      "=====================\n"
     ]
    },
    {
     "name": "stderr",
     "output_type": "stream",
     "text": [
      "\r",
      " 40%|████      | 4/10 [00:00<00:01,  5.37it/s]"
     ]
    },
    {
     "name": "stdout",
     "output_type": "stream",
     "text": [
      "=======schedules=======\n",
      "('state', 0): ('povm', 0)\n",
      "('state', 0): ('povm', 1)\n",
      "('state', 0): ('povm', 2)\n",
      "=====================\n"
     ]
    },
    {
     "name": "stderr",
     "output_type": "stream",
     "text": [
      " 60%|██████    | 6/10 [00:01<00:00,  5.11it/s]"
     ]
    },
    {
     "name": "stdout",
     "output_type": "stream",
     "text": [
      "=======schedules=======\n",
      "('state', 0): ('povm', 0)\n",
      "('state', 0): ('povm', 1)\n",
      "('state', 0): ('povm', 2)\n",
      "=====================\n",
      "=======schedules=======\n",
      "('state', 0): ('povm', 0)\n",
      "('state', 0): ('povm', 1)\n",
      "('state', 0): ('povm', 2)\n",
      "=====================\n"
     ]
    },
    {
     "name": "stderr",
     "output_type": "stream",
     "text": [
      " 80%|████████  | 8/10 [00:01<00:00,  5.52it/s]"
     ]
    },
    {
     "name": "stdout",
     "output_type": "stream",
     "text": [
      "=======schedules=======\n",
      "('state', 0): ('povm', 0)\n",
      "('state', 0): ('povm', 1)\n",
      "('state', 0): ('povm', 2)\n",
      "=====================\n",
      "=======schedules=======\n",
      "('state', 0): ('povm', 0)\n",
      "('state', 0): ('povm', 1)\n",
      "('state', 0): ('povm', 2)\n",
      "=====================\n"
     ]
    },
    {
     "name": "stderr",
     "output_type": "stream",
     "text": [
      "\r",
      " 90%|█████████ | 9/10 [00:01<00:00,  5.48it/s]"
     ]
    },
    {
     "name": "stdout",
     "output_type": "stream",
     "text": [
      "=======schedules=======\n",
      "('state', 0): ('povm', 0)\n",
      "('state', 0): ('povm', 1)\n",
      "('state', 0): ('povm', 2)\n",
      "=====================\n"
     ]
    },
    {
     "name": "stderr",
     "output_type": "stream",
     "text": [
      "100%|██████████| 10/10 [00:02<00:00,  4.99it/s]\n",
      "100%|██████████| 10/10 [00:00<00:00, 3812.66it/s]\n",
      "100%|██████████| 10/10 [00:00<00:00, 7012.71it/s]\n"
     ]
    },
    {
     "name": "stdout",
     "output_type": "stream",
     "text": [
      "=======schedules=======\n",
      "('state', 0): ('povm', 0)\n",
      "('state', 0): ('povm', 1)\n",
      "('state', 0): ('povm', 2)\n",
      "=====================\n",
      "========== Summary ============\n",
      "Name: Least Squares (False)\n",
      "MSE of Empirical Distributions: \u001b[32mOK\u001b[0m\n",
      "Consistency: \u001b[32mOK\u001b[0m (to_be_checked=False)\n",
      "MSE of estimators: \u001b[32mOK\u001b[0m\n",
      "Physicality Violation: \u001b[32mOK\u001b[0m\n",
      "===============================\n",
      "Completed to write csv. result/0/0/check_result.csv\n",
      "total_results=[True, True, False, False, False, False, True, True]\n",
      "False\n",
      "​Generating table of computation time ...\n",
      "​Generating table of tolerance of physicality constraint violation ...\n",
      "​Generating table of experimental conditions ...\n",
      "Generating case list ...\n",
      "Computation time of estimators ...\n"
     ]
    },
    {
     "name": "stderr",
     "output_type": "stream",
     "text": [
      "100%|██████████| 10/10 [00:00<00:00, 6427.07it/s]\n",
      "100%|██████████| 10/10 [00:00<00:00, 2325.65it/s]"
     ]
    },
    {
     "name": "stdout",
     "output_type": "stream",
     "text": [
      "​​Generating MSE of empirical distributions blocks ...\n"
     ]
    },
    {
     "name": "stderr",
     "output_type": "stream",
     "text": [
      "\n"
     ]
    },
    {
     "name": "stdout",
     "output_type": "stream",
     "text": [
      "​​Generating consictency test blocks ...\n",
      "=======schedules=======\n",
      "('state', 0): ('povm', 0)\n",
      "('state', 0): ('povm', 1)\n",
      "('state', 0): ('povm', 2)\n",
      "=====================\n",
      "=======schedules=======\n",
      "('state', 0): ('povm', 0)\n",
      "('state', 0): ('povm', 1)\n",
      "('state', 0): ('povm', 2)\n",
      "=====================\n",
      "=======schedules=======\n",
      "('state', 0): ('povm', 0)\n",
      "('state', 0): ('povm', 1)\n",
      "('state', 0): ('povm', 2)\n",
      "=====================\n",
      "=======schedules=======\n",
      "('state', 0): ('povm', 0)\n",
      "('state', 0): ('povm', 1)\n",
      "('state', 0): ('povm', 2)\n",
      "=====================\n",
      "=======schedules=======\n",
      "('state', 0): ('povm', 0)\n",
      "('state', 0): ('povm', 1)\n",
      "('state', 0): ('povm', 2)\n",
      "=====================\n",
      "=======schedules=======\n",
      "('state', 0): ('povm', 0)\n",
      "('state', 0): ('povm', 1)\n",
      "('state', 0): ('povm', 2)\n",
      "=====================\n",
      "=======schedules=======\n",
      "('state', 0): ('povm', 0)\n",
      "('state', 0): ('povm', 1)\n",
      "('state', 0): ('povm', 2)\n",
      "=====================\n",
      "=======schedules=======\n",
      "('state', 0): ('povm', 0)\n",
      "('state', 0): ('povm', 1)\n",
      "('state', 0): ('povm', 2)\n",
      "=====================\n",
      "=======schedules=======\n",
      "('state', 0): ('povm', 0)\n",
      "('state', 0): ('povm', 1)\n",
      "('state', 0): ('povm', 2)\n",
      "=====================\n",
      "=======schedules=======\n",
      "('state', 0): ('povm', 0)\n",
      "('state', 0): ('povm', 1)\n",
      "('state', 0): ('povm', 2)\n",
      "=====================\n",
      "=======schedules=======\n",
      "('state', 0): ('povm', 0)\n",
      "('state', 0): ('povm', 1)\n",
      "('state', 0): ('povm', 2)\n",
      "=====================\n",
      "=======schedules=======\n",
      "('state', 0): ('povm', 0)\n",
      "('state', 0): ('povm', 1)\n",
      "('state', 0): ('povm', 2)\n",
      "=====================\n",
      "=======schedules=======\n",
      "('state', 0): ('povm', 0)\n",
      "('state', 0): ('povm', 1)\n",
      "('state', 0): ('povm', 2)\n",
      "=====================\n",
      "=======schedules=======\n",
      "('state', 0): ('povm', 0)\n",
      "('state', 0): ('povm', 1)\n",
      "('state', 0): ('povm', 2)\n",
      "=====================\n",
      "=======schedules=======\n",
      "('state', 0): ('povm', 0)\n",
      "('state', 0): ('povm', 1)\n",
      "('state', 0): ('povm', 2)\n",
      "=====================\n",
      "=======schedules=======\n",
      "('state', 0): ('povm', 0)\n",
      "('state', 0): ('povm', 1)\n",
      "('state', 0): ('povm', 2)\n",
      "=====================\n",
      "​Generating a graph for MSE ...\n",
      "  Linear (True)=[0.01371604938271605, 0.0012888888888888908]\n",
      "  Linear (False)=[0.013716049382716053, 0.00128888888888889]\n",
      "  ProjectedLinear (True)=[0.01371604938271605, 0.0012888888888888902]\n",
      "  ProjectedLinear (False)=[0.013716049382716056, 0.0012888888888888893]\n",
      "  Maximum-Likelihood (True)=[0.013716049768110005, 0.001288889118398299]\n",
      "  Maximum-Likelihood (False)=[0.013722302685280033, 0.0012928119046027055]\n",
      "  Least Squares (True)=[0.013716049382716047, 0.0012888888888888902]\n",
      "  Least Squares (False)=[0.013716049382716053, 0.0012888888888888902]\n",
      "  Linear (True)=[0.01371604938271605, 0.0012888888888888908]\n",
      "  ProjectedLinear (True)=[0.01371604938271605, 0.0012888888888888902]\n",
      "  Maximum-Likelihood (True)=[0.013716049768110005, 0.001288889118398299]\n",
      "  Least Squares (True)=[0.013716049382716047, 0.0012888888888888902]\n",
      "  Linear (False)=[0.013716049382716053, 0.00128888888888889]\n",
      "  ProjectedLinear (False)=[0.013716049382716056, 0.0012888888888888893]\n",
      "  Maximum-Likelihood (False)=[0.013722302685280033, 0.0012928119046027055]\n",
      "  Least Squares (False)=[0.013716049382716053, 0.0012888888888888902]\n",
      "​​Generating physicality violation test blocks ...\n"
     ]
    },
    {
     "name": "stderr",
     "output_type": "stream",
     "text": [
      "100%|██████████| 10/10 [00:00<00:00, 4640.23it/s]\n",
      "100%|██████████| 10/10 [00:00<00:00, 4602.05it/s]\n",
      "100%|██████████| 10/10 [00:00<00:00, 4960.15it/s]\n",
      "100%|██████████| 10/10 [00:00<00:00, 5446.44it/s]\n",
      "100%|██████████| 10/10 [00:00<00:00, 4839.95it/s]\n",
      "100%|██████████| 10/10 [00:00<00:00, 4288.65it/s]\n",
      "100%|██████████| 10/10 [00:00<00:00, 4108.44it/s]\n",
      "100%|██████████| 10/10 [00:00<00:00, 5028.54it/s]\n",
      "100%|██████████| 10/10 [00:00<00:00, 6811.15it/s]\n",
      "100%|██████████| 10/10 [00:00<00:00, 4180.51it/s]\n",
      "100%|██████████| 10/10 [00:00<00:00, 6622.93it/s]\n",
      "100%|██████████| 10/10 [00:00<00:00, 4048.56it/s]\n",
      "100%|██████████| 10/10 [00:00<00:00, 3810.92it/s]\n",
      "100%|██████████| 10/10 [00:00<00:00, 4336.54it/s]\n",
      "100%|██████████| 10/10 [00:00<00:00, 4166.80it/s]\n",
      "100%|██████████| 10/10 [00:00<00:00, 3756.65it/s]\n",
      "100%|██████████| 10/10 [00:00<00:00, 776.28it/s]\n",
      "100%|██████████| 10/10 [00:00<00:00, 4651.04it/s]\n",
      "100%|██████████| 10/10 [00:00<00:00, 4395.62it/s]\n",
      "100%|██████████| 10/10 [00:00<00:00, 4401.62it/s]\n",
      "100%|██████████| 10/10 [00:00<00:00, 842.59it/s]\n",
      "100%|██████████| 10/10 [00:00<00:00, 3741.24it/s]\n",
      "100%|██████████| 10/10 [00:00<00:00, 4291.73it/s]\n",
      "100%|██████████| 10/10 [00:00<00:00, 3645.64it/s]\n",
      "100%|██████████| 10/10 [00:00<00:00, 3964.00it/s]\n",
      "100%|██████████| 10/10 [00:00<00:00, 4624.88it/s]\n",
      "100%|██████████| 10/10 [00:00<00:00, 4663.97it/s]\n",
      "100%|██████████| 10/10 [00:00<00:00, 3819.60it/s]\n",
      "100%|██████████| 10/10 [00:00<00:00, 6225.77it/s]\n",
      "100%|██████████| 10/10 [00:00<00:00, 3069.15it/s]\n",
      "100%|██████████| 10/10 [00:00<00:00, 4351.39it/s]\n",
      "100%|██████████| 10/10 [00:00<00:00, 4522.65it/s]\n"
     ]
    },
    {
     "name": "stdout",
     "output_type": "stream",
     "text": [
      "Converting to PDF report ...\n"
     ]
    },
    {
     "name": "stderr",
     "output_type": "stream",
     "text": [
      " 30%|███       | 3/10 [00:00<00:00, 24.25it/s]"
     ]
    },
    {
     "name": "stdout",
     "output_type": "stream",
     "text": [
      "​Deleting temporary files ...\n",
      "Completed to export pdf. (result/0/0/0_0_quara_report.pdf)\n",
      "Case 0: Linear (True)\n",
      "=======schedules=======\n",
      "('state', 0): ('povm', 0)\n",
      "('state', 0): ('povm', 1)\n",
      "('state', 0): ('povm', 2)\n",
      "=====================\n",
      "=======schedules=======\n",
      "('state', 0): ('povm', 0)\n",
      "('state', 0): ('povm', 1)\n",
      "('state', 0): ('povm', 2)\n",
      "=====================\n",
      "=======schedules=======\n",
      "('state', 0): ('povm', 0)\n",
      "('state', 0): ('povm', 1)\n",
      "('state', 0): ('povm', 2)\n",
      "=====================\n",
      "=======schedules=======\n",
      "('state', 0): ('povm', 0)\n",
      "('state', 0): ('povm', 1)\n",
      "('state', 0): ('povm', 2)\n",
      "=====================\n"
     ]
    },
    {
     "name": "stderr",
     "output_type": "stream",
     "text": [
      "\r",
      " 50%|█████     | 5/10 [00:00<00:00, 21.24it/s]"
     ]
    },
    {
     "name": "stdout",
     "output_type": "stream",
     "text": [
      "=======schedules=======\n",
      "('state', 0): ('povm', 0)\n",
      "('state', 0): ('povm', 1)\n",
      "('state', 0): ('povm', 2)\n",
      "=====================\n",
      "=======schedules=======\n",
      "('state', 0): ('povm', 0)\n",
      "('state', 0): ('povm', 1)\n",
      "('state', 0): ('povm', 2)\n",
      "=====================\n",
      "=======schedules=======\n",
      "('state', 0): ('povm', 0)\n",
      "('state', 0): ('povm', 1)\n",
      "('state', 0): ('povm', 2)\n",
      "=====================\n",
      "=======schedules=======\n",
      "('state', 0): ('povm', 0)\n",
      "('state', 0): ('povm', 1)\n",
      "('state', 0): ('povm', 2)\n",
      "=====================\n",
      "=======schedules=======\n",
      "('state', 0): ('povm', 0)\n",
      "('state', 0): ('povm', 1)\n",
      "('state', 0): ('povm', 2)\n",
      "=====================\n"
     ]
    },
    {
     "name": "stderr",
     "output_type": "stream",
     "text": [
      "100%|██████████| 10/10 [00:00<00:00, 25.07it/s]\n",
      "100%|██████████| 10/10 [00:00<00:00, 7487.15it/s]\n",
      "100%|██████████| 10/10 [00:00<00:00, 1374.19it/s]\n",
      "  0%|          | 0/10 [00:00<?, ?it/s]"
     ]
    },
    {
     "name": "stdout",
     "output_type": "stream",
     "text": [
      "=======schedules=======\n",
      "('state', 0): ('povm', 0)\n",
      "('state', 0): ('povm', 1)\n",
      "('state', 0): ('povm', 2)\n",
      "=====================\n",
      "=======schedules=======\n",
      "('state', 0): ('povm', 0)\n",
      "('state', 0): ('povm', 1)\n",
      "('state', 0): ('povm', 2)\n",
      "=====================\n",
      "========== Summary ============\n",
      "Name: Linear (True)\n",
      "MSE of Empirical Distributions: \u001b[32mOK\u001b[0m\n",
      "Consistency: \u001b[32mOK\u001b[0m (to_be_checked=False)\n",
      "MSE of estimators: \u001b[32mOK\u001b[0m\n",
      "Physicality Violation: \u001b[32mOK\u001b[0m\n",
      "===============================\n",
      "Case 1: Linear (False)\n",
      "=======schedules=======\n",
      "('state', 0): ('povm', 0)\n",
      "('state', 0): ('povm', 1)\n",
      "('state', 0): ('povm', 2)\n",
      "=====================\n",
      "=======schedules=======\n",
      "('state', 0): ('povm', 0)\n",
      "('state', 0): ('povm', 1)\n",
      "('state', 0): ('povm', 2)\n",
      "=====================\n",
      "=======schedules=======\n",
      "('state', 0): ('povm', 0)\n",
      "('state', 0): ('povm', 1)\n",
      "('state', 0): ('povm', 2)\n",
      "=====================\n",
      "=======schedules=======\n",
      "('state', 0): ('povm', 0)\n",
      "('state', 0): ('povm', 1)\n",
      "('state', 0): ('povm', 2)\n",
      "=====================\n",
      "=======schedules=======\n",
      "('state', 0): ('povm', 0)\n",
      "('state', 0): ('povm', 1)\n",
      "('state', 0): ('povm', 2)\n",
      "=====================\n"
     ]
    },
    {
     "name": "stderr",
     "output_type": "stream",
     "text": [
      "100%|██████████| 10/10 [00:00<00:00, 40.09it/s]\n",
      "100%|██████████| 10/10 [00:00<00:00, 21013.55it/s]\n",
      "100%|██████████| 10/10 [00:00<00:00, 19793.79it/s]\n",
      "  0%|          | 0/10 [00:00<?, ?it/s]"
     ]
    },
    {
     "name": "stdout",
     "output_type": "stream",
     "text": [
      "=======schedules=======\n",
      "('state', 0): ('povm', 0)\n",
      "('state', 0): ('povm', 1)\n",
      "('state', 0): ('povm', 2)\n",
      "=====================\n",
      "=======schedules=======\n",
      "('state', 0): ('povm', 0)\n",
      "('state', 0): ('povm', 1)\n",
      "('state', 0): ('povm', 2)\n",
      "=====================\n",
      "=======schedules=======\n",
      "('state', 0): ('povm', 0)\n",
      "('state', 0): ('povm', 1)\n",
      "('state', 0): ('povm', 2)\n",
      "=====================\n",
      "=======schedules=======\n",
      "('state', 0): ('povm', 0)\n",
      "('state', 0): ('povm', 1)\n",
      "('state', 0): ('povm', 2)\n",
      "=====================\n",
      "=======schedules=======\n",
      "('state', 0): ('povm', 0)\n",
      "('state', 0): ('povm', 1)\n",
      "('state', 0): ('povm', 2)\n",
      "=====================\n",
      "=======schedules=======\n",
      "('state', 0): ('povm', 0)\n",
      "('state', 0): ('povm', 1)\n",
      "('state', 0): ('povm', 2)\n",
      "=====================\n",
      "========== Summary ============\n",
      "Name: Linear (False)\n",
      "MSE of Empirical Distributions: \u001b[32mOK\u001b[0m\n",
      "Consistency: \u001b[32mOK\u001b[0m (to_be_checked=False)\n",
      "MSE of estimators: \u001b[32mOK\u001b[0m\n",
      "Physicality Violation: \u001b[32mOK\u001b[0m\n",
      "===============================\n",
      "Case 2: ProjectedLinear (True)\n",
      "=======schedules=======\n",
      "('state', 0): ('povm', 0)\n",
      "('state', 0): ('povm', 1)\n",
      "('state', 0): ('povm', 2)\n",
      "=====================\n",
      "=======schedules=======\n",
      "('state', 0): ('povm', 0)\n",
      "('state', 0): ('povm', 1)\n",
      "('state', 0): ('povm', 2)\n",
      "=====================\n"
     ]
    },
    {
     "name": "stderr",
     "output_type": "stream",
     "text": [
      " 70%|███████   | 7/10 [00:00<00:00, 27.82it/s]"
     ]
    },
    {
     "name": "stdout",
     "output_type": "stream",
     "text": [
      "=======schedules=======\n",
      "('state', 0): ('povm', 0)\n",
      "('state', 0): ('povm', 1)\n",
      "('state', 0): ('povm', 2)\n",
      "=====================\n",
      "=======schedules=======\n",
      "('state', 0): ('povm', 0)\n",
      "('state', 0): ('povm', 1)\n",
      "('state', 0): ('povm', 2)\n",
      "=====================\n",
      "=======schedules=======\n",
      "('state', 0): ('povm', 0)\n",
      "('state', 0): ('povm', 1)\n",
      "('state', 0): ('povm', 2)\n",
      "=====================\n",
      "=======schedules=======\n",
      "('state', 0): ('povm', 0)\n",
      "('state', 0): ('povm', 1)\n",
      "('state', 0): ('povm', 2)\n",
      "=====================\n",
      "=======schedules=======\n",
      "('state', 0): ('povm', 0)\n",
      "('state', 0): ('povm', 1)\n",
      "('state', 0): ('povm', 2)\n",
      "=====================\n",
      "=======schedules=======\n",
      "('state', 0): ('povm', 0)\n",
      "('state', 0): ('povm', 1)\n",
      "('state', 0): ('povm', 2)\n",
      "=====================\n",
      "=======schedules=======\n",
      "('state', 0): ('povm', 0)\n",
      "('state', 0): ('povm', 1)\n",
      "('state', 0): ('povm', 2)\n",
      "=====================\n",
      "=======schedules=======\n",
      "('state', 0): ('povm', 0)\n",
      "('state', 0): ('povm', 1)\n",
      "('state', 0): ('povm', 2)\n",
      "=====================\n"
     ]
    },
    {
     "name": "stderr",
     "output_type": "stream",
     "text": [
      "100%|██████████| 10/10 [00:00<00:00, 32.97it/s]\n",
      "100%|██████████| 10/10 [00:00<00:00, 7257.84it/s]\n",
      "100%|██████████| 10/10 [00:00<00:00, 12210.49it/s]\n",
      "100%|██████████| 10/10 [00:00<00:00, 58.12it/s]\n"
     ]
    },
    {
     "name": "stdout",
     "output_type": "stream",
     "text": [
      "=======schedules=======\n",
      "('state', 0): ('povm', 0)\n",
      "('state', 0): ('povm', 1)\n",
      "('state', 0): ('povm', 2)\n",
      "=====================\n",
      "=======schedules=======\n",
      "('state', 0): ('povm', 0)\n",
      "('state', 0): ('povm', 1)\n",
      "('state', 0): ('povm', 2)\n",
      "=====================\n",
      "=======schedules=======\n",
      "('state', 0): ('povm', 0)\n",
      "('state', 0): ('povm', 1)\n",
      "('state', 0): ('povm', 2)\n",
      "=====================\n",
      "=======schedules=======\n",
      "('state', 0): ('povm', 0)\n",
      "('state', 0): ('povm', 1)\n",
      "('state', 0): ('povm', 2)\n",
      "=====================\n",
      "=======schedules=======\n",
      "('state', 0): ('povm', 0)\n",
      "('state', 0): ('povm', 1)\n",
      "('state', 0): ('povm', 2)\n",
      "=====================\n",
      "=======schedules=======\n",
      "('state', 0): ('povm', 0)\n",
      "('state', 0): ('povm', 1)\n",
      "('state', 0): ('povm', 2)\n",
      "=====================\n",
      "=======schedules=======\n",
      "('state', 0): ('povm', 0)\n",
      "('state', 0): ('povm', 1)\n",
      "('state', 0): ('povm', 2)\n",
      "=====================\n",
      "=======schedules=======\n",
      "('state', 0): ('povm', 0)\n",
      "('state', 0): ('povm', 1)\n",
      "('state', 0): ('povm', 2)\n",
      "=====================\n",
      "=======schedules=======\n",
      "('state', 0): ('povm', 0)\n",
      "('state', 0): ('povm', 1)\n",
      "('state', 0): ('povm', 2)\n",
      "=====================\n",
      "=======schedules=======\n",
      "('state', 0): ('povm', 0)\n",
      "('state', 0): ('povm', 1)\n",
      "('state', 0): ('povm', 2)\n",
      "=====================\n",
      "=======schedules=======\n",
      "('state', 0): ('povm', 0)\n",
      "('state', 0): ('povm', 1)\n",
      "('state', 0): ('povm', 2)\n",
      "=====================\n"
     ]
    },
    {
     "name": "stderr",
     "output_type": "stream",
     "text": [
      "100%|██████████| 10/10 [00:00<00:00, 53.65it/s]\n",
      "100%|██████████| 10/10 [00:00<00:00, 23198.58it/s]"
     ]
    },
    {
     "name": "stdout",
     "output_type": "stream",
     "text": [
      "========== Summary ============\n",
      "Name: ProjectedLinear (True)\n",
      "MSE of Empirical Distributions: \u001b[32mOK\u001b[0m\n",
      "Consistency: \u001b[32mOK\u001b[0m (to_be_checked=False)\n",
      "MSE of estimators: \u001b[31mNG\u001b[0m\n",
      "Physicality Violation: \u001b[32mOK\u001b[0m\n",
      "===============================\n",
      "Total Result: \u001b[31mNG\u001b[0m\n",
      "Case 3: ProjectedLinear (False)\n",
      "=======schedules=======\n",
      "('state', 0): ('povm', 0)\n",
      "('state', 0): ('povm', 1)\n",
      "('state', 0): ('povm', 2)\n",
      "=====================\n",
      "=======schedules=======\n",
      "('state', 0): ('povm', 0)\n",
      "('state', 0): ('povm', 1)\n",
      "('state', 0): ('povm', 2)\n",
      "=====================\n",
      "=======schedules=======\n",
      "('state', 0): ('povm', 0)\n",
      "('state', 0): ('povm', 1)\n",
      "('state', 0): ('povm', 2)\n",
      "=====================\n",
      "=======schedules=======\n",
      "('state', 0): ('povm', 0)\n",
      "('state', 0): ('povm', 1)\n",
      "('state', 0): ('povm', 2)\n",
      "=====================\n",
      "=======schedules=======\n",
      "('state', 0): ('povm', 0)\n",
      "('state', 0): ('povm', 1)\n",
      "('state', 0): ('povm', 2)\n",
      "=====================\n",
      "=======schedules=======\n",
      "('state', 0): ('povm', 0)\n",
      "('state', 0): ('povm', 1)\n",
      "('state', 0): ('povm', 2)\n",
      "=====================\n",
      "=======schedules=======\n",
      "('state', 0): ('povm', 0)\n",
      "('state', 0): ('povm', 1)\n",
      "('state', 0): ('povm', 2)\n",
      "=====================\n",
      "=======schedules=======\n",
      "('state', 0): ('povm', 0)\n",
      "('state', 0): ('povm', 1)\n",
      "('state', 0): ('povm', 2)\n",
      "=====================\n",
      "=======schedules=======\n",
      "('state', 0): ('povm', 0)\n",
      "('state', 0): ('povm', 1)\n",
      "('state', 0): ('povm', 2)\n",
      "=====================\n",
      "=======schedules=======\n",
      "('state', 0): ('povm', 0)\n",
      "('state', 0): ('povm', 1)\n",
      "('state', 0): ('povm', 2)\n",
      "=====================\n"
     ]
    },
    {
     "name": "stderr",
     "output_type": "stream",
     "text": [
      "\n",
      "100%|██████████| 10/10 [00:00<00:00, 14433.26it/s]\n",
      "100%|██████████| 10/10 [00:00<00:00, 52.83it/s]\n"
     ]
    },
    {
     "name": "stdout",
     "output_type": "stream",
     "text": [
      "=======schedules=======\n",
      "('state', 0): ('povm', 0)\n",
      "('state', 0): ('povm', 1)\n",
      "('state', 0): ('povm', 2)\n",
      "=====================\n",
      "=======schedules=======\n",
      "('state', 0): ('povm', 0)\n",
      "('state', 0): ('povm', 1)\n",
      "('state', 0): ('povm', 2)\n",
      "=====================\n",
      "=======schedules=======\n",
      "('state', 0): ('povm', 0)\n",
      "('state', 0): ('povm', 1)\n",
      "('state', 0): ('povm', 2)\n",
      "=====================\n",
      "=======schedules=======\n",
      "('state', 0): ('povm', 0)\n",
      "('state', 0): ('povm', 1)\n",
      "('state', 0): ('povm', 2)\n",
      "=====================\n",
      "=======schedules=======\n",
      "('state', 0): ('povm', 0)\n",
      "('state', 0): ('povm', 1)\n",
      "('state', 0): ('povm', 2)\n",
      "=====================\n",
      "=======schedules=======\n",
      "('state', 0): ('povm', 0)\n",
      "('state', 0): ('povm', 1)\n",
      "('state', 0): ('povm', 2)\n",
      "=====================\n",
      "=======schedules=======\n",
      "('state', 0): ('povm', 0)\n",
      "('state', 0): ('povm', 1)\n",
      "('state', 0): ('povm', 2)\n",
      "=====================\n",
      "=======schedules=======\n",
      "('state', 0): ('povm', 0)\n",
      "('state', 0): ('povm', 1)\n",
      "('state', 0): ('povm', 2)\n",
      "=====================\n",
      "=======schedules=======\n",
      "('state', 0): ('povm', 0)\n",
      "('state', 0): ('povm', 1)\n",
      "('state', 0): ('povm', 2)\n",
      "=====================\n",
      "=======schedules=======\n",
      "('state', 0): ('povm', 0)\n",
      "('state', 0): ('povm', 1)\n",
      "('state', 0): ('povm', 2)\n",
      "=====================\n",
      "=======schedules=======\n",
      "('state', 0): ('povm', 0)\n",
      "('state', 0): ('povm', 1)\n",
      "('state', 0): ('povm', 2)\n",
      "=====================\n"
     ]
    },
    {
     "name": "stderr",
     "output_type": "stream",
     "text": [
      "\r",
      "  0%|          | 0/10 [00:00<?, ?it/s]"
     ]
    },
    {
     "name": "stdout",
     "output_type": "stream",
     "text": [
      "========== Summary ============\n",
      "Name: ProjectedLinear (False)\n",
      "MSE of Empirical Distributions: \u001b[32mOK\u001b[0m\n",
      "Consistency: \u001b[32mOK\u001b[0m (to_be_checked=False)\n",
      "MSE of estimators: \u001b[31mNG\u001b[0m\n",
      "Physicality Violation: \u001b[32mOK\u001b[0m\n",
      "===============================\n",
      "Total Result: \u001b[31mNG\u001b[0m\n",
      "Case 4: Maximum-Likelihood (True)\n",
      "=======schedules=======\n",
      "('state', 0): ('povm', 0)\n",
      "('state', 0): ('povm', 1)\n",
      "('state', 0): ('povm', 2)\n",
      "=====================\n"
     ]
    },
    {
     "name": "stderr",
     "output_type": "stream",
     "text": [
      "\r",
      " 10%|█         | 1/10 [00:01<00:15,  1.73s/it]"
     ]
    },
    {
     "name": "stdout",
     "output_type": "stream",
     "text": [
      "=======schedules=======\n",
      "('state', 0): ('povm', 0)\n",
      "('state', 0): ('povm', 1)\n",
      "('state', 0): ('povm', 2)\n",
      "=====================\n"
     ]
    },
    {
     "name": "stderr",
     "output_type": "stream",
     "text": [
      "\r",
      " 20%|██        | 2/10 [00:03<00:14,  1.86s/it]"
     ]
    },
    {
     "name": "stdout",
     "output_type": "stream",
     "text": [
      "=======schedules=======\n",
      "('state', 0): ('povm', 0)\n",
      "('state', 0): ('povm', 1)\n",
      "('state', 0): ('povm', 2)\n",
      "=====================\n"
     ]
    },
    {
     "name": "stderr",
     "output_type": "stream",
     "text": [
      "\r",
      " 30%|███       | 3/10 [00:04<00:10,  1.56s/it]"
     ]
    },
    {
     "name": "stdout",
     "output_type": "stream",
     "text": [
      "=======schedules=======\n",
      "('state', 0): ('povm', 0)\n",
      "('state', 0): ('povm', 1)\n",
      "('state', 0): ('povm', 2)\n",
      "=====================\n"
     ]
    },
    {
     "name": "stderr",
     "output_type": "stream",
     "text": [
      "\r",
      " 40%|████      | 4/10 [00:05<00:07,  1.33s/it]"
     ]
    },
    {
     "name": "stdout",
     "output_type": "stream",
     "text": [
      "=======schedules=======\n",
      "('state', 0): ('povm', 0)\n",
      "('state', 0): ('povm', 1)\n",
      "('state', 0): ('povm', 2)\n",
      "=====================\n"
     ]
    },
    {
     "name": "stderr",
     "output_type": "stream",
     "text": [
      "\r",
      " 50%|█████     | 5/10 [00:06<00:06,  1.27s/it]"
     ]
    },
    {
     "name": "stdout",
     "output_type": "stream",
     "text": [
      "=======schedules=======\n",
      "('state', 0): ('povm', 0)\n",
      "('state', 0): ('povm', 1)\n",
      "('state', 0): ('povm', 2)\n",
      "=====================\n"
     ]
    },
    {
     "name": "stderr",
     "output_type": "stream",
     "text": [
      "\r",
      " 60%|██████    | 6/10 [00:07<00:05,  1.25s/it]"
     ]
    },
    {
     "name": "stdout",
     "output_type": "stream",
     "text": [
      "=======schedules=======\n",
      "('state', 0): ('povm', 0)\n",
      "('state', 0): ('povm', 1)\n",
      "('state', 0): ('povm', 2)\n",
      "=====================\n"
     ]
    },
    {
     "name": "stderr",
     "output_type": "stream",
     "text": [
      "\r",
      " 70%|███████   | 7/10 [00:08<00:03,  1.17s/it]"
     ]
    },
    {
     "name": "stdout",
     "output_type": "stream",
     "text": [
      "=======schedules=======\n",
      "('state', 0): ('povm', 0)\n",
      "('state', 0): ('povm', 1)\n",
      "('state', 0): ('povm', 2)\n",
      "=====================\n"
     ]
    },
    {
     "name": "stderr",
     "output_type": "stream",
     "text": [
      "\r",
      " 80%|████████  | 8/10 [00:09<00:02,  1.16s/it]"
     ]
    },
    {
     "name": "stdout",
     "output_type": "stream",
     "text": [
      "=======schedules=======\n",
      "('state', 0): ('povm', 0)\n",
      "('state', 0): ('povm', 1)\n",
      "('state', 0): ('povm', 2)\n",
      "=====================\n"
     ]
    },
    {
     "name": "stderr",
     "output_type": "stream",
     "text": [
      "\r",
      " 90%|█████████ | 9/10 [00:10<00:01,  1.06s/it]"
     ]
    },
    {
     "name": "stdout",
     "output_type": "stream",
     "text": [
      "=======schedules=======\n",
      "('state', 0): ('povm', 0)\n",
      "('state', 0): ('povm', 1)\n",
      "('state', 0): ('povm', 2)\n",
      "=====================\n"
     ]
    },
    {
     "name": "stderr",
     "output_type": "stream",
     "text": [
      "100%|██████████| 10/10 [00:11<00:00,  1.17s/it]\n",
      "100%|██████████| 10/10 [00:00<00:00, 9423.28it/s]\n",
      "100%|██████████| 10/10 [00:00<00:00, 13387.50it/s]\n"
     ]
    },
    {
     "name": "stdout",
     "output_type": "stream",
     "text": [
      "=======schedules=======\n",
      "('state', 0): ('povm', 0)\n",
      "('state', 0): ('povm', 1)\n",
      "('state', 0): ('povm', 2)\n",
      "=====================\n"
     ]
    },
    {
     "name": "stderr",
     "output_type": "stream",
     "text": [
      "100%|██████████| 10/10 [00:00<00:00, 60.25it/s]\n"
     ]
    },
    {
     "name": "stdout",
     "output_type": "stream",
     "text": [
      "=======schedules=======\n",
      "('state', 0): ('povm', 0)\n",
      "('state', 0): ('povm', 1)\n",
      "('state', 0): ('povm', 2)\n",
      "=====================\n",
      "=======schedules=======\n",
      "('state', 0): ('povm', 0)\n",
      "('state', 0): ('povm', 1)\n",
      "('state', 0): ('povm', 2)\n",
      "=====================\n",
      "=======schedules=======\n",
      "('state', 0): ('povm', 0)\n",
      "('state', 0): ('povm', 1)\n",
      "('state', 0): ('povm', 2)\n",
      "=====================\n",
      "=======schedules=======\n",
      "('state', 0): ('povm', 0)\n",
      "('state', 0): ('povm', 1)\n",
      "('state', 0): ('povm', 2)\n",
      "=====================\n",
      "=======schedules=======\n",
      "('state', 0): ('povm', 0)\n",
      "('state', 0): ('povm', 1)\n",
      "('state', 0): ('povm', 2)\n",
      "=====================\n",
      "=======schedules=======\n",
      "('state', 0): ('povm', 0)\n",
      "('state', 0): ('povm', 1)\n",
      "('state', 0): ('povm', 2)\n",
      "=====================\n",
      "=======schedules=======\n",
      "('state', 0): ('povm', 0)\n",
      "('state', 0): ('povm', 1)\n",
      "('state', 0): ('povm', 2)\n",
      "=====================\n",
      "=======schedules=======\n",
      "('state', 0): ('povm', 0)\n",
      "('state', 0): ('povm', 1)\n",
      "('state', 0): ('povm', 2)\n",
      "=====================\n",
      "=======schedules=======\n",
      "('state', 0): ('povm', 0)\n",
      "('state', 0): ('povm', 1)\n",
      "('state', 0): ('povm', 2)\n",
      "=====================\n",
      "=======schedules=======\n",
      "('state', 0): ('povm', 0)\n",
      "('state', 0): ('povm', 1)\n",
      "('state', 0): ('povm', 2)\n",
      "=====================\n",
      "========== Summary ============\n",
      "Name: Maximum-Likelihood (True)\n",
      "MSE of Empirical Distributions: \u001b[32mOK\u001b[0m\n",
      "Consistency: \u001b[32mOK\u001b[0m (to_be_checked=False)\n",
      "MSE of estimators: \u001b[31mNG\u001b[0m\n",
      "Physicality Violation: \u001b[32mOK\u001b[0m\n",
      "===============================\n",
      "Total Result: \u001b[31mNG\u001b[0m\n"
     ]
    },
    {
     "name": "stderr",
     "output_type": "stream",
     "text": [
      "\r",
      "  0%|          | 0/10 [00:00<?, ?it/s]"
     ]
    },
    {
     "name": "stdout",
     "output_type": "stream",
     "text": [
      "Case 5: Maximum-Likelihood (False)\n",
      "=======schedules=======\n",
      "('state', 0): ('povm', 0)\n",
      "('state', 0): ('povm', 1)\n",
      "('state', 0): ('povm', 2)\n",
      "=====================\n"
     ]
    },
    {
     "name": "stderr",
     "output_type": "stream",
     "text": [
      "\r",
      " 10%|█         | 1/10 [00:01<00:13,  1.53s/it]"
     ]
    },
    {
     "name": "stdout",
     "output_type": "stream",
     "text": [
      "=======schedules=======\n",
      "('state', 0): ('povm', 0)\n",
      "('state', 0): ('povm', 1)\n",
      "('state', 0): ('povm', 2)\n",
      "=====================\n"
     ]
    },
    {
     "name": "stderr",
     "output_type": "stream",
     "text": [
      "\r",
      " 20%|██        | 2/10 [00:05<00:17,  2.20s/it]"
     ]
    },
    {
     "name": "stdout",
     "output_type": "stream",
     "text": [
      "=======schedules=======\n",
      "('state', 0): ('povm', 0)\n",
      "('state', 0): ('povm', 1)\n",
      "('state', 0): ('povm', 2)\n",
      "=====================\n"
     ]
    },
    {
     "name": "stderr",
     "output_type": "stream",
     "text": [
      "\r",
      " 30%|███       | 3/10 [00:08<00:16,  2.40s/it]"
     ]
    },
    {
     "name": "stdout",
     "output_type": "stream",
     "text": [
      "=======schedules=======\n",
      "('state', 0): ('povm', 0)\n",
      "('state', 0): ('povm', 1)\n",
      "('state', 0): ('povm', 2)\n",
      "=====================\n"
     ]
    },
    {
     "name": "stderr",
     "output_type": "stream",
     "text": [
      "\r",
      " 40%|████      | 4/10 [00:10<00:15,  2.50s/it]"
     ]
    },
    {
     "name": "stdout",
     "output_type": "stream",
     "text": [
      "=======schedules=======\n",
      "('state', 0): ('povm', 0)\n",
      "('state', 0): ('povm', 1)\n",
      "('state', 0): ('povm', 2)\n",
      "=====================\n"
     ]
    },
    {
     "name": "stderr",
     "output_type": "stream",
     "text": [
      "\r",
      " 50%|█████     | 5/10 [00:18<00:20,  4.15s/it]"
     ]
    },
    {
     "name": "stdout",
     "output_type": "stream",
     "text": [
      "=======schedules=======\n",
      "('state', 0): ('povm', 0)\n",
      "('state', 0): ('povm', 1)\n",
      "('state', 0): ('povm', 2)\n",
      "=====================\n"
     ]
    },
    {
     "name": "stderr",
     "output_type": "stream",
     "text": [
      "\r",
      " 60%|██████    | 6/10 [00:29<00:24,  6.17s/it]"
     ]
    },
    {
     "name": "stdout",
     "output_type": "stream",
     "text": [
      "=======schedules=======\n",
      "('state', 0): ('povm', 0)\n",
      "('state', 0): ('povm', 1)\n",
      "('state', 0): ('povm', 2)\n",
      "=====================\n"
     ]
    },
    {
     "name": "stderr",
     "output_type": "stream",
     "text": [
      "\r",
      " 70%|███████   | 7/10 [00:38<00:21,  7.06s/it]"
     ]
    },
    {
     "name": "stdout",
     "output_type": "stream",
     "text": [
      "=======schedules=======\n",
      "('state', 0): ('povm', 0)\n",
      "('state', 0): ('povm', 1)\n",
      "('state', 0): ('povm', 2)\n",
      "=====================\n"
     ]
    },
    {
     "name": "stderr",
     "output_type": "stream",
     "text": [
      "\r",
      " 80%|████████  | 8/10 [00:39<00:10,  5.23s/it]"
     ]
    },
    {
     "name": "stdout",
     "output_type": "stream",
     "text": [
      "=======schedules=======\n",
      "('state', 0): ('povm', 0)\n",
      "('state', 0): ('povm', 1)\n",
      "('state', 0): ('povm', 2)\n",
      "=====================\n"
     ]
    },
    {
     "name": "stderr",
     "output_type": "stream",
     "text": [
      "\r",
      " 90%|█████████ | 9/10 [00:40<00:03,  3.94s/it]"
     ]
    },
    {
     "name": "stdout",
     "output_type": "stream",
     "text": [
      "=======schedules=======\n",
      "('state', 0): ('povm', 0)\n",
      "('state', 0): ('povm', 1)\n",
      "('state', 0): ('povm', 2)\n",
      "=====================\n"
     ]
    },
    {
     "name": "stderr",
     "output_type": "stream",
     "text": [
      "100%|██████████| 10/10 [00:41<00:00,  4.17s/it]\n",
      "100%|██████████| 10/10 [00:00<00:00, 18251.98it/s]\n",
      "100%|██████████| 10/10 [00:00<00:00, 15460.02it/s]\n"
     ]
    },
    {
     "name": "stdout",
     "output_type": "stream",
     "text": [
      "=======schedules=======\n",
      "('state', 0): ('povm', 0)\n",
      "('state', 0): ('povm', 1)\n",
      "('state', 0): ('povm', 2)\n",
      "=====================\n"
     ]
    },
    {
     "name": "stderr",
     "output_type": "stream",
     "text": [
      "100%|██████████| 10/10 [00:00<00:00, 56.08it/s]\n"
     ]
    },
    {
     "name": "stdout",
     "output_type": "stream",
     "text": [
      "=======schedules=======\n",
      "('state', 0): ('povm', 0)\n",
      "('state', 0): ('povm', 1)\n",
      "('state', 0): ('povm', 2)\n",
      "=====================\n",
      "=======schedules=======\n",
      "('state', 0): ('povm', 0)\n",
      "('state', 0): ('povm', 1)\n",
      "('state', 0): ('povm', 2)\n",
      "=====================\n",
      "=======schedules=======\n",
      "('state', 0): ('povm', 0)\n",
      "('state', 0): ('povm', 1)\n",
      "('state', 0): ('povm', 2)\n",
      "=====================\n",
      "=======schedules=======\n",
      "('state', 0): ('povm', 0)\n",
      "('state', 0): ('povm', 1)\n",
      "('state', 0): ('povm', 2)\n",
      "=====================\n",
      "=======schedules=======\n",
      "('state', 0): ('povm', 0)\n",
      "('state', 0): ('povm', 1)\n",
      "('state', 0): ('povm', 2)\n",
      "=====================\n",
      "=======schedules=======\n",
      "('state', 0): ('povm', 0)\n",
      "('state', 0): ('povm', 1)\n",
      "('state', 0): ('povm', 2)\n",
      "=====================\n",
      "=======schedules=======\n",
      "('state', 0): ('povm', 0)\n",
      "('state', 0): ('povm', 1)\n",
      "('state', 0): ('povm', 2)\n",
      "=====================\n",
      "=======schedules=======\n",
      "('state', 0): ('povm', 0)\n",
      "('state', 0): ('povm', 1)\n",
      "('state', 0): ('povm', 2)\n",
      "=====================\n",
      "=======schedules=======\n",
      "('state', 0): ('povm', 0)\n",
      "('state', 0): ('povm', 1)\n",
      "('state', 0): ('povm', 2)\n",
      "=====================\n",
      "=======schedules=======\n",
      "('state', 0): ('povm', 0)\n",
      "('state', 0): ('povm', 1)\n",
      "('state', 0): ('povm', 2)\n",
      "=====================\n",
      "========== Summary ============\n",
      "Name: Maximum-Likelihood (False)\n",
      "MSE of Empirical Distributions: \u001b[32mOK\u001b[0m\n",
      "Consistency: \u001b[31mNG\u001b[0m (to_be_checked=False)\n",
      "MSE of estimators: \u001b[31mNG\u001b[0m\n",
      "Physicality Violation: \u001b[32mOK\u001b[0m\n",
      "===============================\n",
      "Total Result: \u001b[31mNG\u001b[0m\n"
     ]
    },
    {
     "name": "stderr",
     "output_type": "stream",
     "text": [
      " 10%|█         | 1/10 [00:00<00:01,  6.37it/s]"
     ]
    },
    {
     "name": "stdout",
     "output_type": "stream",
     "text": [
      "Case 6: Least Squares (True)\n",
      "=======schedules=======\n",
      "('state', 0): ('povm', 0)\n",
      "('state', 0): ('povm', 1)\n",
      "('state', 0): ('povm', 2)\n",
      "=====================\n",
      "=======schedules=======\n",
      "('state', 0): ('povm', 0)\n",
      "('state', 0): ('povm', 1)\n",
      "('state', 0): ('povm', 2)\n",
      "=====================\n"
     ]
    },
    {
     "name": "stderr",
     "output_type": "stream",
     "text": [
      " 30%|███       | 3/10 [00:00<00:00,  7.15it/s]"
     ]
    },
    {
     "name": "stdout",
     "output_type": "stream",
     "text": [
      "=======schedules=======\n",
      "('state', 0): ('povm', 0)\n",
      "('state', 0): ('povm', 1)\n",
      "('state', 0): ('povm', 2)\n",
      "=====================\n",
      "=======schedules=======\n",
      "('state', 0): ('povm', 0)\n",
      "('state', 0): ('povm', 1)\n",
      "('state', 0): ('povm', 2)\n",
      "=====================\n"
     ]
    },
    {
     "name": "stderr",
     "output_type": "stream",
     "text": [
      " 50%|█████     | 5/10 [00:00<00:00,  7.51it/s]"
     ]
    },
    {
     "name": "stdout",
     "output_type": "stream",
     "text": [
      "=======schedules=======\n",
      "('state', 0): ('povm', 0)\n",
      "('state', 0): ('povm', 1)\n",
      "('state', 0): ('povm', 2)\n",
      "=====================\n",
      "=======schedules=======\n",
      "('state', 0): ('povm', 0)\n",
      "('state', 0): ('povm', 1)\n",
      "('state', 0): ('povm', 2)\n",
      "=====================\n"
     ]
    },
    {
     "name": "stderr",
     "output_type": "stream",
     "text": [
      " 70%|███████   | 7/10 [00:01<00:00,  6.49it/s]"
     ]
    },
    {
     "name": "stdout",
     "output_type": "stream",
     "text": [
      "=======schedules=======\n",
      "('state', 0): ('povm', 0)\n",
      "('state', 0): ('povm', 1)\n",
      "('state', 0): ('povm', 2)\n",
      "=====================\n",
      "=======schedules=======\n",
      "('state', 0): ('povm', 0)\n",
      "('state', 0): ('povm', 1)\n",
      "('state', 0): ('povm', 2)\n",
      "=====================\n"
     ]
    },
    {
     "name": "stderr",
     "output_type": "stream",
     "text": [
      "100%|██████████| 10/10 [00:01<00:00,  7.14it/s]"
     ]
    },
    {
     "name": "stdout",
     "output_type": "stream",
     "text": [
      "=======schedules=======\n",
      "('state', 0): ('povm', 0)\n",
      "('state', 0): ('povm', 1)\n",
      "('state', 0): ('povm', 2)\n",
      "=====================\n",
      "=======schedules=======\n",
      "('state', 0): ('povm', 0)\n",
      "('state', 0): ('povm', 1)\n",
      "('state', 0): ('povm', 2)\n",
      "=====================\n"
     ]
    },
    {
     "name": "stderr",
     "output_type": "stream",
     "text": [
      "\n",
      "100%|██████████| 10/10 [00:00<00:00, 8771.02it/s]\n",
      "100%|██████████| 10/10 [00:00<00:00, 11586.48it/s]\n",
      "/Users/tomoko/project/rcast/workspace/quara/quara/data_analysis/simulation_check.py:176: UserWarning:\n",
      "\n",
      "Estimator MSE is not checked except for LinearEstimator, ProjectedLinearEstimator, Maximum-likelihood.\n",
      "\n",
      "  0%|          | 0/10 [00:00<?, ?it/s]"
     ]
    },
    {
     "name": "stdout",
     "output_type": "stream",
     "text": [
      "=======schedules=======\n",
      "('state', 0): ('povm', 0)\n",
      "('state', 0): ('povm', 1)\n",
      "('state', 0): ('povm', 2)\n",
      "=====================\n",
      "========== Summary ============\n",
      "Name: Least Squares (True)\n",
      "MSE of Empirical Distributions: \u001b[32mOK\u001b[0m\n",
      "Consistency: \u001b[32mOK\u001b[0m (to_be_checked=False)\n",
      "MSE of estimators: \u001b[32mOK\u001b[0m\n",
      "Physicality Violation: \u001b[32mOK\u001b[0m\n",
      "===============================\n",
      "Case 7: Least Squares (False)\n",
      "=======schedules=======\n",
      "('state', 0): ('povm', 0)\n",
      "('state', 0): ('povm', 1)\n",
      "('state', 0): ('povm', 2)\n",
      "=====================\n"
     ]
    },
    {
     "name": "stderr",
     "output_type": "stream",
     "text": [
      " 20%|██        | 2/10 [00:00<00:01,  6.35it/s]"
     ]
    },
    {
     "name": "stdout",
     "output_type": "stream",
     "text": [
      "=======schedules=======\n",
      "('state', 0): ('povm', 0)\n",
      "('state', 0): ('povm', 1)\n",
      "('state', 0): ('povm', 2)\n",
      "=====================\n",
      "=======schedules=======\n",
      "('state', 0): ('povm', 0)\n",
      "('state', 0): ('povm', 1)\n",
      "('state', 0): ('povm', 2)\n",
      "=====================\n"
     ]
    },
    {
     "name": "stderr",
     "output_type": "stream",
     "text": [
      " 40%|████      | 4/10 [00:00<00:00,  6.34it/s]"
     ]
    },
    {
     "name": "stdout",
     "output_type": "stream",
     "text": [
      "=======schedules=======\n",
      "('state', 0): ('povm', 0)\n",
      "('state', 0): ('povm', 1)\n",
      "('state', 0): ('povm', 2)\n",
      "=====================\n",
      "=======schedules=======\n",
      "('state', 0): ('povm', 0)\n",
      "('state', 0): ('povm', 1)\n",
      "('state', 0): ('povm', 2)\n",
      "=====================\n"
     ]
    },
    {
     "name": "stderr",
     "output_type": "stream",
     "text": [
      " 60%|██████    | 6/10 [00:00<00:00,  6.60it/s]"
     ]
    },
    {
     "name": "stdout",
     "output_type": "stream",
     "text": [
      "=======schedules=======\n",
      "('state', 0): ('povm', 0)\n",
      "('state', 0): ('povm', 1)\n",
      "('state', 0): ('povm', 2)\n",
      "=====================\n",
      "=======schedules=======\n",
      "('state', 0): ('povm', 0)\n",
      "('state', 0): ('povm', 1)\n",
      "('state', 0): ('povm', 2)\n",
      "=====================\n"
     ]
    },
    {
     "name": "stderr",
     "output_type": "stream",
     "text": [
      " 80%|████████  | 8/10 [00:01<00:00,  6.37it/s]"
     ]
    },
    {
     "name": "stdout",
     "output_type": "stream",
     "text": [
      "=======schedules=======\n",
      "('state', 0): ('povm', 0)\n",
      "('state', 0): ('povm', 1)\n",
      "('state', 0): ('povm', 2)\n",
      "=====================\n",
      "=======schedules=======\n",
      "('state', 0): ('povm', 0)\n",
      "('state', 0): ('povm', 1)\n",
      "('state', 0): ('povm', 2)\n",
      "=====================\n"
     ]
    },
    {
     "name": "stderr",
     "output_type": "stream",
     "text": [
      "100%|██████████| 10/10 [00:01<00:00,  6.10it/s]\n",
      "100%|██████████| 10/10 [00:00<00:00, 12675.44it/s]\n",
      "  0%|          | 0/10 [00:00<?, ?it/s]"
     ]
    },
    {
     "name": "stdout",
     "output_type": "stream",
     "text": [
      "=======schedules=======\n",
      "('state', 0): ('povm', 0)\n",
      "('state', 0): ('povm', 1)\n",
      "('state', 0): ('povm', 2)\n",
      "=====================\n"
     ]
    },
    {
     "name": "stderr",
     "output_type": "stream",
     "text": [
      "100%|██████████| 10/10 [00:00<00:00, 4915.97it/s]\n"
     ]
    },
    {
     "name": "stdout",
     "output_type": "stream",
     "text": [
      "=======schedules=======\n",
      "('state', 0): ('povm', 0)\n",
      "('state', 0): ('povm', 1)\n",
      "('state', 0): ('povm', 2)\n",
      "=====================\n",
      "========== Summary ============\n",
      "Name: Least Squares (False)\n",
      "MSE of Empirical Distributions: \u001b[32mOK\u001b[0m\n",
      "Consistency: \u001b[32mOK\u001b[0m (to_be_checked=False)\n",
      "MSE of estimators: \u001b[32mOK\u001b[0m\n",
      "Physicality Violation: \u001b[32mOK\u001b[0m\n",
      "===============================\n",
      "Completed to write csv. result/0/1/check_result.csv\n",
      "total_results=[True, True, False, False, False, False, True, True]\n",
      "False\n",
      "​Generating table of computation time ...\n",
      "​Generating table of tolerance of physicality constraint violation ...\n",
      "​Generating table of experimental conditions ...\n",
      "Generating case list ...\n",
      "Computation time of estimators ...\n"
     ]
    },
    {
     "name": "stderr",
     "output_type": "stream",
     "text": [
      "100%|██████████| 10/10 [00:00<00:00, 29831.47it/s]\n",
      "100%|██████████| 10/10 [00:00<00:00, 7284.31it/s]"
     ]
    },
    {
     "name": "stdout",
     "output_type": "stream",
     "text": [
      "​​Generating MSE of empirical distributions blocks ...\n",
      "​​Generating consictency test blocks ...\n",
      "=======schedules=======\n",
      "('state', 0): ('povm', 0)\n",
      "('state', 0): ('povm', 1)\n",
      "('state', 0): ('povm', 2)\n",
      "=====================\n",
      "=======schedules=======\n",
      "('state', 0): ('povm', 0)\n",
      "('state', 0): ('povm', 1)\n",
      "('state', 0): ('povm', 2)\n",
      "=====================\n",
      "=======schedules=======\n",
      "('state', 0): ('povm', 0)\n",
      "('state', 0): ('povm', 1)\n",
      "('state', 0): ('povm', 2)\n",
      "=====================\n",
      "=======schedules=======\n",
      "('state', 0): ('povm', 0)\n",
      "('state', 0): ('povm', 1)\n",
      "('state', 0): ('povm', 2)\n",
      "=====================\n",
      "=======schedules=======\n",
      "('state', 0): ('povm', 0)\n",
      "('state', 0): ('povm', 1)\n",
      "('state', 0): ('povm', 2)\n",
      "=====================\n",
      "=======schedules=======\n",
      "('state', 0): ('povm', 0)\n",
      "('state', 0): ('povm', 1)\n",
      "('state', 0): ('povm', 2)\n",
      "=====================\n",
      "=======schedules=======\n",
      "('state', 0): ('povm', 0)\n",
      "('state', 0): ('povm', 1)\n",
      "('state', 0): ('povm', 2)\n",
      "=====================\n",
      "=======schedules======="
     ]
    },
    {
     "name": "stderr",
     "output_type": "stream",
     "text": [
      "\n"
     ]
    },
    {
     "name": "stdout",
     "output_type": "stream",
     "text": [
      "\n",
      "('state', 0): ('povm', 0)\n",
      "('state', 0): ('povm', 1)\n",
      "('state', 0): ('povm', 2)\n",
      "=====================\n",
      "=======schedules=======\n",
      "('state', 0): ('povm', 0)\n",
      "('state', 0): ('povm', 1)\n",
      "('state', 0): ('povm', 2)\n",
      "=====================\n",
      "=======schedules=======\n",
      "('state', 0): ('povm', 0)\n",
      "('state', 0): ('povm', 1)\n",
      "('state', 0): ('povm', 2)\n",
      "=====================\n",
      "=======schedules=======\n",
      "('state', 0): ('povm', 0)\n",
      "('state', 0): ('povm', 1)\n",
      "('state', 0): ('povm', 2)\n",
      "=====================\n",
      "=======schedules=======\n",
      "('state', 0): ('povm', 0)\n",
      "('state', 0): ('povm', 1)\n",
      "('state', 0): ('povm', 2)\n",
      "=====================\n",
      "=======schedules=======\n",
      "('state', 0): ('povm', 0)\n",
      "('state', 0): ('povm', 1)\n",
      "('state', 0): ('povm', 2)\n",
      "=====================\n",
      "=======schedules=======\n",
      "('state', 0): ('povm', 0)\n",
      "('state', 0): ('povm', 1)\n",
      "('state', 0): ('povm', 2)\n",
      "=====================\n",
      "=======schedules=======\n",
      "('state', 0): ('povm', 0)\n",
      "('state', 0): ('povm', 1)\n",
      "('state', 0): ('povm', 2)\n",
      "=====================\n",
      "=======schedules=======\n",
      "('state', 0): ('povm', 0)\n",
      "('state', 0): ('povm', 1)\n",
      "('state', 0): ('povm', 2)\n",
      "=====================\n",
      "​Generating a graph for MSE ...\n",
      "  Linear (True)=[0.01371604938271605, 0.0012888888888888908]\n",
      "  Linear (False)=[0.013716049382716053, 0.00128888888888889]\n",
      "  ProjectedLinear (True)=[0.01371604938271605, 0.0012888888888888902]\n",
      "  ProjectedLinear (False)=[0.013716049382716056, 0.0012888888888888893]\n",
      "  Maximum-Likelihood (True)=[0.013716049768110005, 0.001288889118398299]\n",
      "  Maximum-Likelihood (False)=[0.013722302685280033, 0.0012928119046027055]\n",
      "  Least Squares (True)=[0.013716049382716047, 0.0012888888888888902]\n",
      "  Least Squares (False)=[0.013716049382716053, 0.0012888888888888902]\n",
      "  Linear (True)=[0.01371604938271605, 0.0012888888888888908]\n",
      "  ProjectedLinear (True)=[0.01371604938271605, 0.0012888888888888902]\n",
      "  Maximum-Likelihood (True)=[0.013716049768110005, 0.001288889118398299]\n",
      "  Least Squares (True)=[0.013716049382716047, 0.0012888888888888902]\n",
      "  Linear (False)=[0.013716049382716053, 0.00128888888888889]\n",
      "  ProjectedLinear (False)=[0.013716049382716056, 0.0012888888888888893]\n",
      "  Maximum-Likelihood (False)=[0.013722302685280033, 0.0012928119046027055]\n",
      "  Least Squares (False)=[0.013716049382716053, 0.0012888888888888902]\n",
      "​​Generating physicality violation test blocks ...\n"
     ]
    },
    {
     "name": "stderr",
     "output_type": "stream",
     "text": [
      "100%|██████████| 10/10 [00:00<00:00, 5157.14it/s]\n",
      "100%|██████████| 10/10 [00:00<00:00, 3454.09it/s]\n",
      "100%|██████████| 10/10 [00:00<00:00, 6953.42it/s]\n",
      "100%|██████████| 10/10 [00:00<00:00, 4401.62it/s]\n",
      "100%|██████████| 10/10 [00:00<00:00, 4024.09it/s]\n",
      "100%|██████████| 10/10 [00:00<00:00, 4064.64it/s]\n",
      "100%|██████████| 10/10 [00:00<00:00, 6595.85it/s]\n",
      "100%|██████████| 10/10 [00:00<00:00, 3789.58it/s]\n",
      "100%|██████████| 10/10 [00:00<00:00, 3563.55it/s]\n",
      "100%|██████████| 10/10 [00:00<00:00, 4159.37it/s]\n",
      "100%|██████████| 10/10 [00:00<00:00, 4593.48it/s]\n",
      "100%|██████████| 10/10 [00:00<00:00, 4140.48it/s]\n",
      "100%|██████████| 10/10 [00:00<00:00, 2743.53it/s]\n",
      "100%|██████████| 10/10 [00:00<00:00, 4856.77it/s]\n",
      "100%|██████████| 10/10 [00:00<00:00, 4547.16it/s]\n",
      "100%|██████████| 10/10 [00:00<00:00, 3585.79it/s]\n",
      "100%|██████████| 10/10 [00:00<00:00, 4355.00it/s]\n",
      "100%|██████████| 10/10 [00:00<00:00, 3721.65it/s]\n",
      "100%|██████████| 10/10 [00:00<00:00, 4624.88it/s]\n",
      "100%|██████████| 10/10 [00:00<00:00, 3970.00it/s]\n",
      "100%|██████████| 10/10 [00:00<00:00, 4063.46it/s]\n",
      "100%|██████████| 10/10 [00:00<00:00, 4899.89it/s]\n",
      "100%|██████████| 10/10 [00:00<00:00, 4582.94it/s]\n",
      "100%|██████████| 10/10 [00:00<00:00, 4875.96it/s]\n",
      "100%|██████████| 10/10 [00:00<00:00, 2367.39it/s]\n",
      "100%|██████████| 10/10 [00:00<00:00, 2915.55it/s]\n",
      "100%|██████████| 10/10 [00:00<00:00, 4364.97it/s]\n",
      "100%|██████████| 10/10 [00:00<00:00, 3020.96it/s]\n",
      "100%|██████████| 10/10 [00:00<00:00, 5007.53it/s]\n",
      "100%|██████████| 10/10 [00:00<00:00, 4314.68it/s]\n",
      "100%|██████████| 10/10 [00:00<00:00, 4732.38it/s]\n",
      "100%|██████████| 10/10 [00:00<00:00, 2673.57it/s]\n"
     ]
    },
    {
     "name": "stdout",
     "output_type": "stream",
     "text": [
      "Converting to PDF report ...\n",
      "​Deleting temporary files ...\n",
      "Completed to export pdf. (result/0/1/0_1_quara_report.pdf)\n",
      "Completed to write csv. result/0/check_result.csv\n"
     ]
    },
    {
     "name": "stderr",
     "output_type": "stream",
     "text": [
      " 30%|███       | 3/10 [00:00<00:00, 18.65it/s]"
     ]
    },
    {
     "name": "stdout",
     "output_type": "stream",
     "text": [
      "Case 0: Linear (True)\n",
      "=======schedules=======\n",
      "('state', 0): ('povm', 0)\n",
      "('state', 0): ('povm', 1)\n",
      "('state', 0): ('povm', 2)\n",
      "=====================\n",
      "=======schedules=======\n",
      "('state', 0): ('povm', 0)\n",
      "('state', 0): ('povm', 1)\n",
      "('state', 0): ('povm', 2)\n",
      "=====================\n",
      "=======schedules=======\n",
      "('state', 0): ('povm', 0)\n",
      "('state', 0): ('povm', 1)\n",
      "('state', 0): ('povm', 2)\n",
      "=====================\n"
     ]
    },
    {
     "name": "stderr",
     "output_type": "stream",
     "text": [
      " 70%|███████   | 7/10 [00:00<00:00, 16.14it/s]"
     ]
    },
    {
     "name": "stdout",
     "output_type": "stream",
     "text": [
      "=======schedules=======\n",
      "('state', 0): ('povm', 0)\n",
      "('state', 0): ('povm', 1)\n",
      "('state', 0): ('povm', 2)\n",
      "=====================\n",
      "=======schedules=======\n",
      "('state', 0): ('povm', 0)\n",
      "('state', 0): ('povm', 1)\n",
      "('state', 0): ('povm', 2)\n",
      "=====================\n",
      "=======schedules=======\n",
      "('state', 0): ('povm', 0)\n",
      "('state', 0): ('povm', 1)\n",
      "('state', 0): ('povm', 2)\n",
      "=====================\n",
      "=======schedules=======\n",
      "('state', 0): ('povm', 0)\n",
      "('state', 0): ('povm', 1)\n",
      "('state', 0): ('povm', 2)\n",
      "=====================\n",
      "=======schedules=======\n",
      "('state', 0): ('povm', 0)\n",
      "('state', 0): ('povm', 1)\n",
      "('state', 0): ('povm', 2)\n",
      "=====================\n",
      "=======schedules=======\n",
      "('state', 0): ('povm', 0)\n",
      "('state', 0): ('povm', 1)\n",
      "('state', 0): ('povm', 2)\n",
      "=====================\n"
     ]
    },
    {
     "name": "stderr",
     "output_type": "stream",
     "text": [
      "100%|██████████| 10/10 [00:00<00:00, 19.87it/s]\n",
      "100%|██████████| 10/10 [00:00<00:00, 19152.07it/s]\n",
      "100%|██████████| 10/10 [00:00<00:00, 8019.70it/s]\n",
      "  0%|          | 0/10 [00:00<?, ?it/s]"
     ]
    },
    {
     "name": "stdout",
     "output_type": "stream",
     "text": [
      "=======schedules=======\n",
      "('state', 0): ('povm', 0)\n",
      "('state', 0): ('povm', 1)\n",
      "('state', 0): ('povm', 2)\n",
      "=====================\n",
      "=======schedules=======\n",
      "('state', 0): ('povm', 0)\n",
      "('state', 0): ('povm', 1)\n",
      "('state', 0): ('povm', 2)\n",
      "=====================\n",
      "========== Summary ============\n",
      "Name: Linear (True)\n",
      "MSE of Empirical Distributions: \u001b[32mOK\u001b[0m\n",
      "Consistency: \u001b[32mOK\u001b[0m (to_be_checked=False)\n",
      "MSE of estimators: \u001b[32mOK\u001b[0m\n",
      "Physicality Violation: \u001b[32mOK\u001b[0m\n",
      "===============================\n",
      "Case 1: Linear (False)\n",
      "=======schedules=======\n",
      "('state', 0): ('povm', 0)\n",
      "('state', 0): ('povm', 1)\n",
      "('state', 0): ('povm', 2)\n",
      "=====================\n",
      "=======schedules=======\n",
      "('state', 0): ('povm', 0)\n",
      "('state', 0): ('povm', 1)\n",
      "('state', 0): ('povm', 2)\n",
      "=====================\n",
      "=======schedules=======\n",
      "('state', 0): ('povm', 0)\n",
      "('state', 0): ('povm', 1)\n",
      "('state', 0): ('povm', 2)\n",
      "=====================\n"
     ]
    },
    {
     "name": "stderr",
     "output_type": "stream",
     "text": [
      "100%|██████████| 10/10 [00:00<00:00, 32.42it/s]\n"
     ]
    },
    {
     "name": "stdout",
     "output_type": "stream",
     "text": [
      "=======schedules=======\n",
      "('state', 0): ('povm', 0)\n",
      "('state', 0): ('povm', 1)\n",
      "('state', 0): ('povm', 2)\n",
      "=====================\n",
      "=======schedules=======\n",
      "('state', 0): ('povm', 0)\n",
      "('state', 0): ('povm', 1)\n",
      "('state', 0): ('povm', 2)\n",
      "=====================\n",
      "=======schedules=======\n",
      "('state', 0): ('povm', 0)\n",
      "('state', 0): ('povm', 1)\n",
      "('state', 0): ('povm', 2)\n",
      "=====================\n",
      "=======schedules=======\n",
      "('state', 0): ('povm', 0)\n",
      "('state', 0): ('povm', 1)\n",
      "('state', 0): ('povm', 2)\n",
      "=====================\n",
      "=======schedules=======\n",
      "('state', 0): ('povm', 0)\n",
      "('state', 0): ('povm', 1)\n",
      "('state', 0): ('povm', 2)\n",
      "=====================\n",
      "=======schedules=======\n",
      "('state', 0): ('povm', 0)\n",
      "('state', 0): ('povm', 1)\n",
      "('state', 0): ('povm', 2)\n",
      "=====================\n",
      "=======schedules=======\n",
      "('state', 0): ('povm', 0)\n",
      "('state', 0): ('povm', 1)\n",
      "('state', 0): ('povm', 2)\n",
      "=====================\n"
     ]
    },
    {
     "name": "stderr",
     "output_type": "stream",
     "text": [
      "100%|██████████| 10/10 [00:00<00:00, 7121.06it/s]\n",
      "100%|██████████| 10/10 [00:00<00:00, 11586.48it/s]\n",
      " 40%|████      | 4/10 [00:00<00:00, 34.56it/s]"
     ]
    },
    {
     "name": "stdout",
     "output_type": "stream",
     "text": [
      "=======schedules=======\n",
      "('state', 0): ('povm', 0)\n",
      "('state', 0): ('povm', 1)\n",
      "('state', 0): ('povm', 2)\n",
      "=====================\n",
      "========== Summary ============\n",
      "Name: Linear (False)\n",
      "MSE of Empirical Distributions: \u001b[32mOK\u001b[0m\n",
      "Consistency: \u001b[32mOK\u001b[0m (to_be_checked=False)\n",
      "MSE of estimators: \u001b[32mOK\u001b[0m\n",
      "Physicality Violation: \u001b[32mOK\u001b[0m\n",
      "===============================\n",
      "Case 2: ProjectedLinear (True)\n",
      "=======schedules=======\n",
      "('state', 0): ('povm', 0)\n",
      "('state', 0): ('povm', 1)\n",
      "('state', 0): ('povm', 2)\n",
      "=====================\n",
      "=======schedules=======\n",
      "('state', 0): ('povm', 0)\n",
      "('state', 0): ('povm', 1)\n",
      "('state', 0): ('povm', 2)\n",
      "=====================\n",
      "=======schedules=======\n",
      "('state', 0): ('povm', 0)\n",
      "('state', 0): ('povm', 1)\n",
      "('state', 0): ('povm', 2)\n",
      "=====================\n",
      "=======schedules=======\n",
      "('state', 0): ('povm', 0)\n",
      "('state', 0): ('povm', 1)\n",
      "('state', 0): ('povm', 2)\n",
      "=====================\n",
      "=======schedules=======\n",
      "('state', 0): ('povm', 0)\n",
      "('state', 0): ('povm', 1)\n",
      "('state', 0): ('povm', 2)\n",
      "=====================\n"
     ]
    },
    {
     "name": "stderr",
     "output_type": "stream",
     "text": [
      "100%|██████████| 10/10 [00:00<00:00, 22.68it/s]\n",
      "100%|██████████| 10/10 [00:00<00:00, 23696.63it/s]\n",
      "100%|██████████| 10/10 [00:00<00:00, 16082.45it/s]"
     ]
    },
    {
     "name": "stdout",
     "output_type": "stream",
     "text": [
      "=======schedules=======\n",
      "('state', 0): ('povm', 0)\n",
      "('state', 0): ('povm', 1)\n",
      "('state', 0): ('povm', 2)\n",
      "=====================\n",
      "=======schedules=======\n",
      "('state', 0): ('povm', 0)\n",
      "('state', 0): ('povm', 1)\n",
      "('state', 0): ('povm', 2)\n",
      "=====================\n",
      "=======schedules=======\n",
      "('state', 0): ('povm', 0)\n",
      "('state', 0): ('povm', 1)\n",
      "('state', 0): ('povm', 2)\n",
      "=====================\n",
      "=======schedules=======\n",
      "('state', 0): ('povm', 0)\n",
      "('state', 0): ('povm', 1)\n",
      "('state', 0): ('povm', 2)\n",
      "=====================\n",
      "=======schedules=======\n",
      "('state', 0): ('povm', 0)\n",
      "('state', 0): ('povm', 1)\n",
      "('state', 0): ('povm', 2)\n",
      "=====================\n",
      "=======schedules=======\n",
      "('state', 0): ('povm', 0)\n",
      "('state', 0): ('povm', 1)\n",
      "('state', 0): ('povm', 2)\n",
      "=====================\n"
     ]
    },
    {
     "name": "stderr",
     "output_type": "stream",
     "text": [
      "\n",
      " 30%|███       | 3/10 [00:00<00:00, 28.07it/s]"
     ]
    },
    {
     "name": "stdout",
     "output_type": "stream",
     "text": [
      "=======schedules=======\n",
      "('state', 0): ('povm', 0)\n",
      "('state', 0): ('povm', 1)\n",
      "('state', 0): ('povm', 2)\n",
      "=====================\n",
      "=======schedules=======\n",
      "('state', 0): ('povm', 0)\n",
      "('state', 0): ('povm', 1)\n",
      "('state', 0): ('povm', 2)\n",
      "=====================\n",
      "=======schedules=======\n",
      "('state', 0): ('povm', 0)\n",
      "('state', 0): ('povm', 1)\n",
      "('state', 0): ('povm', 2)\n",
      "=====================\n",
      "=======schedules=======\n",
      "('state', 0): ('povm', 0)\n",
      "('state', 0): ('povm', 1)\n",
      "('state', 0): ('povm', 2)\n",
      "=====================\n",
      "=======schedules=======\n",
      "('state', 0): ('povm', 0)\n",
      "('state', 0): ('povm', 1)\n",
      "('state', 0): ('povm', 2)\n",
      "=====================\n"
     ]
    },
    {
     "name": "stderr",
     "output_type": "stream",
     "text": [
      " 80%|████████  | 8/10 [00:00<00:00, 25.03it/s]"
     ]
    },
    {
     "name": "stdout",
     "output_type": "stream",
     "text": [
      "=======schedules=======\n",
      "('state', 0): ('povm', 0)\n",
      "('state', 0): ('povm', 1)\n",
      "('state', 0): ('povm', 2)\n",
      "=====================\n",
      "=======schedules=======\n",
      "('state', 0): ('povm', 0)\n",
      "('state', 0): ('povm', 1)\n",
      "('state', 0): ('povm', 2)\n",
      "=====================\n",
      "=======schedules=======\n",
      "('state', 0): ('povm', 0)\n",
      "('state', 0): ('povm', 1)\n",
      "('state', 0): ('povm', 2)\n",
      "=====================\n",
      "=======schedules=======\n",
      "('state', 0): ('povm', 0)\n",
      "('state', 0): ('povm', 1)\n",
      "('state', 0): ('povm', 2)\n",
      "=====================\n",
      "=======schedules=======\n",
      "('state', 0): ('povm', 0)\n",
      "('state', 0): ('povm', 1)\n",
      "('state', 0): ('povm', 2)\n",
      "=====================\n"
     ]
    },
    {
     "name": "stderr",
     "output_type": "stream",
     "text": [
      "100%|██████████| 10/10 [00:00<00:00, 23.40it/s]\n",
      " 40%|████      | 4/10 [00:00<00:00, 29.29it/s]"
     ]
    },
    {
     "name": "stdout",
     "output_type": "stream",
     "text": [
      "========== Summary ============\n",
      "Name: ProjectedLinear (True)\n",
      "MSE of Empirical Distributions: \u001b[32mOK\u001b[0m\n",
      "Consistency: \u001b[32mOK\u001b[0m (to_be_checked=False)\n",
      "MSE of estimators: \u001b[31mNG\u001b[0m\n",
      "Physicality Violation: \u001b[32mOK\u001b[0m\n",
      "===============================\n",
      "Total Result: \u001b[31mNG\u001b[0m\n",
      "Case 3: ProjectedLinear (False)\n",
      "=======schedules=======\n",
      "('state', 0): ('povm', 0)\n",
      "('state', 0): ('povm', 1)\n",
      "('state', 0): ('povm', 2)\n",
      "=====================\n",
      "=======schedules=======\n",
      "('state', 0): ('povm', 0)\n",
      "('state', 0): ('povm', 1)\n",
      "('state', 0): ('povm', 2)\n",
      "=====================\n",
      "=======schedules=======\n",
      "('state', 0): ('povm', 0)\n",
      "('state', 0): ('povm', 1)\n",
      "('state', 0): ('povm', 2)\n",
      "=====================\n",
      "=======schedules=======\n",
      "('state', 0): ('povm', 0)\n",
      "('state', 0): ('povm', 1)\n",
      "('state', 0): ('povm', 2)\n",
      "=====================\n",
      "=======schedules=======\n",
      "('state', 0): ('povm', 0)\n",
      "('state', 0): ('povm', 1)\n",
      "('state', 0): ('povm', 2)\n",
      "=====================\n",
      "=======schedules=======\n",
      "('state', 0): ('povm', 0)\n",
      "('state', 0): ('povm', 1)\n",
      "('state', 0): ('povm', 2)\n",
      "=====================\n",
      "=======schedules=======\n",
      "('state', 0): ('povm', 0)\n",
      "('state', 0): ('povm', 1)\n",
      "('state', 0): ('povm', 2)\n",
      "=====================\n",
      "=======schedules======="
     ]
    },
    {
     "name": "stderr",
     "output_type": "stream",
     "text": [
      "100%|██████████| 10/10 [00:00<00:00, 27.63it/s]\n",
      "100%|██████████| 10/10 [00:00<00:00, 14578.74it/s]\n",
      "100%|██████████| 10/10 [00:00<00:00, 6822.23it/s]\n",
      "  0%|          | 0/10 [00:00<?, ?it/s]"
     ]
    },
    {
     "name": "stdout",
     "output_type": "stream",
     "text": [
      "\n",
      "('state', 0): ('povm', 0)\n",
      "('state', 0): ('povm', 1)\n",
      "('state', 0): ('povm', 2)\n",
      "=====================\n",
      "=======schedules=======\n",
      "('state', 0): ('povm', 0)\n",
      "('state', 0): ('povm', 1)\n",
      "('state', 0): ('povm', 2)\n",
      "=====================\n",
      "=======schedules=======\n",
      "('state', 0): ('povm', 0)\n",
      "('state', 0): ('povm', 1)\n",
      "('state', 0): ('povm', 2)\n",
      "=====================\n",
      "=======schedules=======\n",
      "('state', 0): ('povm', 0)\n",
      "('state', 0): ('povm', 1)\n",
      "('state', 0): ('povm', 2)\n",
      "=====================\n",
      "=======schedules=======\n",
      "('state', 0): ('povm', 0)\n",
      "('state', 0): ('povm', 1)\n",
      "('state', 0): ('povm', 2)\n",
      "=====================\n"
     ]
    },
    {
     "name": "stderr",
     "output_type": "stream",
     "text": [
      " 70%|███████   | 7/10 [00:00<00:00, 33.48it/s]"
     ]
    },
    {
     "name": "stdout",
     "output_type": "stream",
     "text": [
      "=======schedules=======\n",
      "('state', 0): ('povm', 0)\n",
      "('state', 0): ('povm', 1)\n",
      "('state', 0): ('povm', 2)\n",
      "=====================\n",
      "=======schedules=======\n",
      "('state', 0): ('povm', 0)\n",
      "('state', 0): ('povm', 1)\n",
      "('state', 0): ('povm', 2)\n",
      "=====================\n",
      "=======schedules=======\n",
      "('state', 0): ('povm', 0)\n",
      "('state', 0): ('povm', 1)\n",
      "('state', 0): ('povm', 2)\n",
      "=====================\n",
      "=======schedules=======\n",
      "('state', 0): ('povm', 0)\n",
      "('state', 0): ('povm', 1)\n",
      "('state', 0): ('povm', 2)\n",
      "=====================\n",
      "=======schedules=======\n",
      "('state', 0): ('povm', 0)\n",
      "('state', 0): ('povm', 1)\n",
      "('state', 0): ('povm', 2)\n",
      "=====================\n",
      "=======schedules=======\n",
      "('state', 0): ('povm', 0)\n",
      "('state', 0): ('povm', 1)\n",
      "('state', 0): ('povm', 2)\n",
      "=====================\n",
      "=======schedules=======\n",
      "('state', 0): ('povm', 0)\n",
      "('state', 0): ('povm', 1)\n",
      "('state', 0): ('povm', 2)\n",
      "=====================\n",
      "=======schedules=======\n",
      "('state', 0): ('povm', 0)\n",
      "('state', 0): ('povm', 1)\n",
      "('state', 0): ('povm', 2)\n",
      "=====================\n",
      "=======schedules=======\n",
      "('state', 0): ('povm', 0)\n",
      "('state', 0): ('povm', 1)\n",
      "('state', 0): ('povm', 2)\n",
      "=====================\n"
     ]
    },
    {
     "name": "stderr",
     "output_type": "stream",
     "text": [
      "100%|██████████| 10/10 [00:00<00:00, 35.71it/s]\n",
      "  0%|          | 0/10 [00:00<?, ?it/s]"
     ]
    },
    {
     "name": "stdout",
     "output_type": "stream",
     "text": [
      "========== Summary ============\n",
      "Name: ProjectedLinear (False)\n",
      "MSE of Empirical Distributions: \u001b[32mOK\u001b[0m\n",
      "Consistency: \u001b[32mOK\u001b[0m (to_be_checked=False)\n",
      "MSE of estimators: \u001b[31mNG\u001b[0m\n",
      "Physicality Violation: \u001b[32mOK\u001b[0m\n",
      "===============================\n",
      "Total Result: \u001b[31mNG\u001b[0m\n",
      "Case 4: Maximum-Likelihood (True)\n",
      "=======schedules=======\n",
      "('state', 0): ('povm', 0)\n",
      "('state', 0): ('povm', 1)\n",
      "('state', 0): ('povm', 2)\n",
      "=====================\n"
     ]
    },
    {
     "name": "stderr",
     "output_type": "stream",
     "text": [
      "\r",
      " 10%|█         | 1/10 [00:03<00:29,  3.28s/it]"
     ]
    },
    {
     "name": "stdout",
     "output_type": "stream",
     "text": [
      "=======schedules=======\n",
      "('state', 0): ('povm', 0)\n",
      "('state', 0): ('povm', 1)\n",
      "('state', 0): ('povm', 2)\n",
      "=====================\n"
     ]
    },
    {
     "name": "stderr",
     "output_type": "stream",
     "text": [
      "\r",
      " 20%|██        | 2/10 [00:05<00:24,  3.01s/it]"
     ]
    },
    {
     "name": "stdout",
     "output_type": "stream",
     "text": [
      "=======schedules=======\n",
      "('state', 0): ('povm', 0)\n",
      "('state', 0): ('povm', 1)\n",
      "('state', 0): ('povm', 2)\n",
      "=====================\n"
     ]
    },
    {
     "name": "stderr",
     "output_type": "stream",
     "text": [
      "\r",
      " 30%|███       | 3/10 [00:08<00:20,  2.88s/it]"
     ]
    },
    {
     "name": "stdout",
     "output_type": "stream",
     "text": [
      "=======schedules=======\n",
      "('state', 0): ('povm', 0)\n",
      "('state', 0): ('povm', 1)\n",
      "('state', 0): ('povm', 2)\n",
      "=====================\n"
     ]
    },
    {
     "name": "stderr",
     "output_type": "stream",
     "text": [
      "\r",
      " 40%|████      | 4/10 [00:10<00:15,  2.61s/it]"
     ]
    },
    {
     "name": "stdout",
     "output_type": "stream",
     "text": [
      "=======schedules=======\n",
      "('state', 0): ('povm', 0)\n",
      "('state', 0): ('povm', 1)\n",
      "('state', 0): ('povm', 2)\n",
      "=====================\n"
     ]
    },
    {
     "name": "stderr",
     "output_type": "stream",
     "text": [
      "\r",
      " 50%|█████     | 5/10 [00:12<00:12,  2.47s/it]"
     ]
    },
    {
     "name": "stdout",
     "output_type": "stream",
     "text": [
      "=======schedules=======\n",
      "('state', 0): ('povm', 0)\n",
      "('state', 0): ('povm', 1)\n",
      "('state', 0): ('povm', 2)\n",
      "=====================\n"
     ]
    },
    {
     "name": "stderr",
     "output_type": "stream",
     "text": [
      "\r",
      " 60%|██████    | 6/10 [00:15<00:10,  2.64s/it]"
     ]
    },
    {
     "name": "stdout",
     "output_type": "stream",
     "text": [
      "=======schedules=======\n",
      "('state', 0): ('povm', 0)\n",
      "('state', 0): ('povm', 1)\n",
      "('state', 0): ('povm', 2)\n",
      "=====================\n"
     ]
    },
    {
     "name": "stderr",
     "output_type": "stream",
     "text": [
      "\r",
      " 70%|███████   | 7/10 [00:17<00:07,  2.38s/it]"
     ]
    },
    {
     "name": "stdout",
     "output_type": "stream",
     "text": [
      "=======schedules=======\n",
      "('state', 0): ('povm', 0)\n",
      "('state', 0): ('povm', 1)\n",
      "('state', 0): ('povm', 2)\n",
      "=====================\n"
     ]
    },
    {
     "name": "stderr",
     "output_type": "stream",
     "text": [
      "\r",
      " 80%|████████  | 8/10 [00:18<00:04,  2.21s/it]"
     ]
    },
    {
     "name": "stdout",
     "output_type": "stream",
     "text": [
      "=======schedules=======\n",
      "('state', 0): ('povm', 0)\n",
      "('state', 0): ('povm', 1)\n",
      "('state', 0): ('povm', 2)\n",
      "=====================\n"
     ]
    },
    {
     "name": "stderr",
     "output_type": "stream",
     "text": [
      "\r",
      " 90%|█████████ | 9/10 [00:20<00:01,  1.94s/it]"
     ]
    },
    {
     "name": "stdout",
     "output_type": "stream",
     "text": [
      "=======schedules=======\n",
      "('state', 0): ('povm', 0)\n",
      "('state', 0): ('povm', 1)\n",
      "('state', 0): ('povm', 2)\n",
      "=====================\n"
     ]
    },
    {
     "name": "stderr",
     "output_type": "stream",
     "text": [
      "100%|██████████| 10/10 [00:21<00:00,  2.18s/it]\n",
      "100%|██████████| 10/10 [00:00<00:00, 19195.90it/s]\n",
      "100%|██████████| 10/10 [00:00<00:00, 12690.78it/s]\n"
     ]
    },
    {
     "name": "stdout",
     "output_type": "stream",
     "text": [
      "=======schedules=======\n",
      "('state', 0): ('povm', 0)\n",
      "('state', 0): ('povm', 1)\n",
      "('state', 0): ('povm', 2)\n",
      "=====================\n"
     ]
    },
    {
     "name": "stderr",
     "output_type": "stream",
     "text": [
      "100%|██████████| 10/10 [00:00<00:00, 52.55it/s]\n"
     ]
    },
    {
     "name": "stdout",
     "output_type": "stream",
     "text": [
      "=======schedules=======\n",
      "('state', 0): ('povm', 0)\n",
      "('state', 0): ('povm', 1)\n",
      "('state', 0): ('povm', 2)\n",
      "=====================\n",
      "=======schedules=======\n",
      "('state', 0): ('povm', 0)\n",
      "('state', 0): ('povm', 1)\n",
      "('state', 0): ('povm', 2)\n",
      "=====================\n",
      "=======schedules=======\n",
      "('state', 0): ('povm', 0)\n",
      "('state', 0): ('povm', 1)\n",
      "('state', 0): ('povm', 2)\n",
      "=====================\n",
      "=======schedules=======\n",
      "('state', 0): ('povm', 0)\n",
      "('state', 0): ('povm', 1)\n",
      "('state', 0): ('povm', 2)\n",
      "=====================\n",
      "=======schedules=======\n",
      "('state', 0): ('povm', 0)\n",
      "('state', 0): ('povm', 1)\n",
      "('state', 0): ('povm', 2)\n",
      "=====================\n",
      "=======schedules=======\n",
      "('state', 0): ('povm', 0)\n",
      "('state', 0): ('povm', 1)\n",
      "('state', 0): ('povm', 2)\n",
      "=====================\n",
      "=======schedules=======\n",
      "('state', 0): ('povm', 0)\n",
      "('state', 0): ('povm', 1)\n",
      "('state', 0): ('povm', 2)\n",
      "=====================\n",
      "=======schedules=======\n",
      "('state', 0): ('povm', 0)\n",
      "('state', 0): ('povm', 1)\n",
      "('state', 0): ('povm', 2)\n",
      "=====================\n",
      "=======schedules=======\n",
      "('state', 0): ('povm', 0)\n",
      "('state', 0): ('povm', 1)\n",
      "('state', 0): ('povm', 2)\n",
      "=====================\n",
      "=======schedules=======\n",
      "('state', 0): ('povm', 0)\n",
      "('state', 0): ('povm', 1)\n",
      "('state', 0): ('povm', 2)\n",
      "=====================\n"
     ]
    },
    {
     "name": "stderr",
     "output_type": "stream",
     "text": [
      "\r",
      "  0%|          | 0/10 [00:00<?, ?it/s]"
     ]
    },
    {
     "name": "stdout",
     "output_type": "stream",
     "text": [
      "========== Summary ============\n",
      "Name: Maximum-Likelihood (True)\n",
      "MSE of Empirical Distributions: \u001b[32mOK\u001b[0m\n",
      "Consistency: \u001b[32mOK\u001b[0m (to_be_checked=False)\n",
      "MSE of estimators: \u001b[31mNG\u001b[0m\n",
      "Physicality Violation: \u001b[32mOK\u001b[0m\n",
      "===============================\n",
      "Total Result: \u001b[31mNG\u001b[0m\n",
      "Case 5: Maximum-Likelihood (False)\n",
      "=======schedules=======\n",
      "('state', 0): ('povm', 0)\n",
      "('state', 0): ('povm', 1)\n",
      "('state', 0): ('povm', 2)\n",
      "=====================\n"
     ]
    },
    {
     "name": "stderr",
     "output_type": "stream",
     "text": [
      "\r",
      " 10%|█         | 1/10 [00:02<00:19,  2.13s/it]"
     ]
    },
    {
     "name": "stdout",
     "output_type": "stream",
     "text": [
      "=======schedules=======\n",
      "('state', 0): ('povm', 0)\n",
      "('state', 0): ('povm', 1)\n",
      "('state', 0): ('povm', 2)\n",
      "=====================\n"
     ]
    },
    {
     "name": "stderr",
     "output_type": "stream",
     "text": [
      "\r",
      " 20%|██        | 2/10 [00:05<00:20,  2.60s/it]"
     ]
    },
    {
     "name": "stdout",
     "output_type": "stream",
     "text": [
      "=======schedules=======\n",
      "('state', 0): ('povm', 0)\n",
      "('state', 0): ('povm', 1)\n",
      "('state', 0): ('povm', 2)\n",
      "=====================\n"
     ]
    },
    {
     "name": "stderr",
     "output_type": "stream",
     "text": [
      "\r",
      " 30%|███       | 3/10 [00:09<00:21,  3.02s/it]"
     ]
    },
    {
     "name": "stdout",
     "output_type": "stream",
     "text": [
      "=======schedules=======\n",
      "('state', 0): ('povm', 0)\n",
      "('state', 0): ('povm', 1)\n",
      "('state', 0): ('povm', 2)\n",
      "=====================\n"
     ]
    },
    {
     "name": "stderr",
     "output_type": "stream",
     "text": [
      "\r",
      " 40%|████      | 4/10 [00:12<00:17,  2.93s/it]"
     ]
    },
    {
     "name": "stdout",
     "output_type": "stream",
     "text": [
      "=======schedules=======\n",
      "('state', 0): ('povm', 0)\n",
      "('state', 0): ('povm', 1)\n",
      "('state', 0): ('povm', 2)\n",
      "=====================\n"
     ]
    },
    {
     "name": "stderr",
     "output_type": "stream",
     "text": [
      "\r",
      " 50%|█████     | 5/10 [00:16<00:16,  3.36s/it]"
     ]
    },
    {
     "name": "stdout",
     "output_type": "stream",
     "text": [
      "=======schedules=======\n",
      "('state', 0): ('povm', 0)\n",
      "('state', 0): ('povm', 1)\n",
      "('state', 0): ('povm', 2)\n",
      "=====================\n"
     ]
    },
    {
     "name": "stderr",
     "output_type": "stream",
     "text": [
      "\r",
      " 60%|██████    | 6/10 [00:26<00:21,  5.36s/it]"
     ]
    },
    {
     "name": "stdout",
     "output_type": "stream",
     "text": [
      "=======schedules=======\n",
      "('state', 0): ('povm', 0)\n",
      "('state', 0): ('povm', 1)\n",
      "('state', 0): ('povm', 2)\n",
      "=====================\n"
     ]
    },
    {
     "name": "stderr",
     "output_type": "stream",
     "text": [
      "\r",
      " 70%|███████   | 7/10 [00:37<00:20,  6.77s/it]"
     ]
    },
    {
     "name": "stdout",
     "output_type": "stream",
     "text": [
      "=======schedules=======\n",
      "('state', 0): ('povm', 0)\n",
      "('state', 0): ('povm', 1)\n",
      "('state', 0): ('povm', 2)\n",
      "=====================\n"
     ]
    },
    {
     "name": "stderr",
     "output_type": "stream",
     "text": [
      "\r",
      " 80%|████████  | 8/10 [00:38<00:10,  5.11s/it]"
     ]
    },
    {
     "name": "stdout",
     "output_type": "stream",
     "text": [
      "=======schedules=======\n",
      "('state', 0): ('povm', 0)\n",
      "('state', 0): ('povm', 1)\n",
      "('state', 0): ('povm', 2)\n",
      "=====================\n"
     ]
    },
    {
     "name": "stderr",
     "output_type": "stream",
     "text": [
      "\r",
      " 90%|█████████ | 9/10 [00:39<00:03,  3.89s/it]"
     ]
    },
    {
     "name": "stdout",
     "output_type": "stream",
     "text": [
      "=======schedules=======\n",
      "('state', 0): ('povm', 0)\n",
      "('state', 0): ('povm', 1)\n",
      "('state', 0): ('povm', 2)\n",
      "=====================\n"
     ]
    },
    {
     "name": "stderr",
     "output_type": "stream",
     "text": [
      "100%|██████████| 10/10 [00:40<00:00,  4.03s/it]\n",
      "100%|██████████| 10/10 [00:00<00:00, 17719.92it/s]\n",
      "100%|██████████| 10/10 [00:00<00:00, 7479.14it/s]\n"
     ]
    },
    {
     "name": "stdout",
     "output_type": "stream",
     "text": [
      "=======schedules=======\n",
      "('state', 0): ('povm', 0)\n",
      "('state', 0): ('povm', 1)\n",
      "('state', 0): ('povm', 2)\n",
      "=====================\n"
     ]
    },
    {
     "name": "stderr",
     "output_type": "stream",
     "text": [
      " 40%|████      | 4/10 [00:00<00:00, 35.76it/s]"
     ]
    },
    {
     "name": "stdout",
     "output_type": "stream",
     "text": [
      "=======schedules=======\n",
      "('state', 0): ('povm', 0)\n",
      "('state', 0): ('povm', 1)\n",
      "('state', 0): ('povm', 2)\n",
      "=====================\n",
      "=======schedules=======\n",
      "('state', 0): ('povm', 0)\n",
      "('state', 0): ('povm', 1)\n",
      "('state', 0): ('povm', 2)\n",
      "=====================\n",
      "=======schedules=======\n",
      "('state', 0): ('povm', 0)\n",
      "('state', 0): ('povm', 1)\n",
      "('state', 0): ('povm', 2)\n",
      "=====================\n",
      "=======schedules=======\n",
      "('state', 0): ('povm', 0)\n",
      "('state', 0): ('povm', 1)\n",
      "('state', 0): ('povm', 2)\n",
      "=====================\n",
      "=======schedules=======\n",
      "('state', 0): ('povm', 0)\n",
      "('state', 0): ('povm', 1)\n",
      "('state', 0): ('povm', 2)\n",
      "=====================\n",
      "=======schedules=======\n",
      "('state', 0): ('povm', 0)\n",
      "('state', 0): ('povm', 1)\n",
      "('state', 0): ('povm', 2)\n",
      "=====================\n",
      "=======schedules=======\n",
      "('state', 0): ('povm', 0)\n",
      "('state', 0): ('povm', 1)\n",
      "('state', 0): ('povm', 2)\n",
      "=====================\n",
      "=======schedules=======\n",
      "('state', 0): ('povm', 0)\n",
      "('state', 0): ('povm', 1)\n",
      "('state', 0): ('povm', 2)\n",
      "=====================\n",
      "=======schedules=======\n",
      "('state', 0): ('povm', 0)\n",
      "('state', 0): ('povm', 1)\n",
      "('state', 0): ('povm', 2)\n",
      "=====================\n"
     ]
    },
    {
     "name": "stderr",
     "output_type": "stream",
     "text": [
      "100%|██████████| 10/10 [00:00<00:00, 42.83it/s]\n",
      "  0%|          | 0/10 [00:00<?, ?it/s]"
     ]
    },
    {
     "name": "stdout",
     "output_type": "stream",
     "text": [
      "=======schedules=======\n",
      "('state', 0): ('povm', 0)\n",
      "('state', 0): ('povm', 1)\n",
      "('state', 0): ('povm', 2)\n",
      "=====================\n",
      "========== Summary ============\n",
      "Name: Maximum-Likelihood (False)\n",
      "MSE of Empirical Distributions: \u001b[32mOK\u001b[0m\n",
      "Consistency: \u001b[31mNG\u001b[0m (to_be_checked=False)\n",
      "MSE of estimators: \u001b[31mNG\u001b[0m\n",
      "Physicality Violation: \u001b[32mOK\u001b[0m\n",
      "===============================\n",
      "Total Result: \u001b[31mNG\u001b[0m\n",
      "Case 6: Least Squares (True)\n",
      "=======schedules=======\n",
      "('state', 0): ('povm', 0)\n",
      "('state', 0): ('povm', 1)\n",
      "('state', 0): ('povm', 2)\n",
      "=====================\n"
     ]
    },
    {
     "name": "stderr",
     "output_type": "stream",
     "text": [
      " 20%|██        | 2/10 [00:00<00:01,  4.20it/s]"
     ]
    },
    {
     "name": "stdout",
     "output_type": "stream",
     "text": [
      "=======schedules=======\n",
      "('state', 0): ('povm', 0)\n",
      "('state', 0): ('povm', 1)\n",
      "('state', 0): ('povm', 2)\n",
      "=====================\n"
     ]
    },
    {
     "name": "stderr",
     "output_type": "stream",
     "text": [
      "\r",
      " 30%|███       | 3/10 [00:00<00:01,  4.41it/s]"
     ]
    },
    {
     "name": "stdout",
     "output_type": "stream",
     "text": [
      "=======schedules=======\n",
      "('state', 0): ('povm', 0)\n",
      "('state', 0): ('povm', 1)\n",
      "('state', 0): ('povm', 2)\n",
      "=====================\n",
      "=======schedules=======\n",
      "('state', 0): ('povm', 0)\n",
      "('state', 0): ('povm', 1)\n",
      "('state', 0): ('povm', 2)\n",
      "=====================\n"
     ]
    },
    {
     "name": "stderr",
     "output_type": "stream",
     "text": [
      " 50%|█████     | 5/10 [00:01<00:01,  4.84it/s]"
     ]
    },
    {
     "name": "stdout",
     "output_type": "stream",
     "text": [
      "=======schedules=======\n",
      "('state', 0): ('povm', 0)\n",
      "('state', 0): ('povm', 1)\n",
      "('state', 0): ('povm', 2)\n",
      "=====================\n",
      "=======schedules=======\n",
      "('state', 0): ('povm', 0)\n",
      "('state', 0): ('povm', 1)\n",
      "('state', 0): ('povm', 2)\n",
      "=====================\n"
     ]
    },
    {
     "name": "stderr",
     "output_type": "stream",
     "text": [
      " 70%|███████   | 7/10 [00:01<00:00,  5.22it/s]"
     ]
    },
    {
     "name": "stdout",
     "output_type": "stream",
     "text": [
      "=======schedules=======\n",
      "('state', 0): ('povm', 0)\n",
      "('state', 0): ('povm', 1)\n",
      "('state', 0): ('povm', 2)\n",
      "=====================\n",
      "=======schedules=======\n",
      "('state', 0): ('povm', 0)\n",
      "('state', 0): ('povm', 1)\n",
      "('state', 0): ('povm', 2)\n",
      "=====================\n"
     ]
    },
    {
     "name": "stderr",
     "output_type": "stream",
     "text": [
      "\r",
      " 80%|████████  | 8/10 [00:01<00:00,  5.22it/s]"
     ]
    },
    {
     "name": "stdout",
     "output_type": "stream",
     "text": [
      "=======schedules=======\n",
      "('state', 0): ('povm', 0)\n",
      "('state', 0): ('povm', 1)\n",
      "('state', 0): ('povm', 2)\n",
      "=====================\n"
     ]
    },
    {
     "name": "stderr",
     "output_type": "stream",
     "text": [
      "\r",
      " 90%|█████████ | 9/10 [00:01<00:00,  5.06it/s]"
     ]
    },
    {
     "name": "stdout",
     "output_type": "stream",
     "text": [
      "=======schedules=======\n",
      "('state', 0): ('povm', 0)\n",
      "('state', 0): ('povm', 1)\n",
      "('state', 0): ('povm', 2)\n",
      "=====================\n"
     ]
    },
    {
     "name": "stderr",
     "output_type": "stream",
     "text": [
      "100%|██████████| 10/10 [00:02<00:00,  4.56it/s]\n",
      "100%|██████████| 10/10 [00:00<00:00, 3883.61it/s]\n",
      "100%|██████████| 10/10 [00:00<00:00, 3841.64it/s]\n",
      "/Users/tomoko/project/rcast/workspace/quara/quara/data_analysis/simulation_check.py:176: UserWarning:\n",
      "\n",
      "Estimator MSE is not checked except for LinearEstimator, ProjectedLinearEstimator, Maximum-likelihood.\n",
      "\n"
     ]
    },
    {
     "name": "stdout",
     "output_type": "stream",
     "text": [
      "=======schedules=======\n",
      "('state', 0): ('povm', 0)\n",
      "('state', 0): ('povm', 1)\n",
      "('state', 0): ('povm', 2)\n",
      "=====================\n"
     ]
    },
    {
     "name": "stderr",
     "output_type": "stream",
     "text": [
      "\r",
      "  0%|          | 0/10 [00:00<?, ?it/s]"
     ]
    },
    {
     "name": "stdout",
     "output_type": "stream",
     "text": [
      "========== Summary ============\n",
      "Name: Least Squares (True)\n",
      "MSE of Empirical Distributions: \u001b[32mOK\u001b[0m\n",
      "Consistency: \u001b[32mOK\u001b[0m (to_be_checked=False)\n",
      "MSE of estimators: \u001b[32mOK\u001b[0m\n",
      "Physicality Violation: \u001b[32mOK\u001b[0m\n",
      "===============================\n",
      "Case 7: Least Squares (False)\n",
      "=======schedules=======\n",
      "('state', 0): ('povm', 0)\n",
      "('state', 0): ('povm', 1)\n",
      "('state', 0): ('povm', 2)\n",
      "=====================\n"
     ]
    },
    {
     "name": "stderr",
     "output_type": "stream",
     "text": [
      "\r",
      " 10%|█         | 1/10 [00:00<00:02,  3.13it/s]"
     ]
    },
    {
     "name": "stdout",
     "output_type": "stream",
     "text": [
      "=======schedules=======\n",
      "('state', 0): ('povm', 0)\n",
      "('state', 0): ('povm', 1)\n",
      "('state', 0): ('povm', 2)\n",
      "=====================\n"
     ]
    },
    {
     "name": "stderr",
     "output_type": "stream",
     "text": [
      " 30%|███       | 3/10 [00:00<00:01,  3.74it/s]"
     ]
    },
    {
     "name": "stdout",
     "output_type": "stream",
     "text": [
      "=======schedules=======\n",
      "('state', 0): ('povm', 0)\n",
      "('state', 0): ('povm', 1)\n",
      "('state', 0): ('povm', 2)\n",
      "=====================\n",
      "=======schedules=======\n",
      "('state', 0): ('povm', 0)\n",
      "('state', 0): ('povm', 1)\n",
      "('state', 0): ('povm', 2)\n",
      "=====================\n"
     ]
    },
    {
     "name": "stderr",
     "output_type": "stream",
     "text": [
      " 50%|█████     | 5/10 [00:01<00:01,  4.34it/s]"
     ]
    },
    {
     "name": "stdout",
     "output_type": "stream",
     "text": [
      "=======schedules=======\n",
      "('state', 0): ('povm', 0)\n",
      "('state', 0): ('povm', 1)\n",
      "('state', 0): ('povm', 2)\n",
      "=====================\n",
      "=======schedules=======\n",
      "('state', 0): ('povm', 0)\n",
      "('state', 0): ('povm', 1)\n",
      "('state', 0): ('povm', 2)\n",
      "=====================\n"
     ]
    },
    {
     "name": "stderr",
     "output_type": "stream",
     "text": [
      " 70%|███████   | 7/10 [00:01<00:00,  4.15it/s]"
     ]
    },
    {
     "name": "stdout",
     "output_type": "stream",
     "text": [
      "=======schedules=======\n",
      "('state', 0): ('povm', 0)\n",
      "('state', 0): ('povm', 1)\n",
      "('state', 0): ('povm', 2)\n",
      "=====================\n",
      "=======schedules=======\n",
      "('state', 0): ('povm', 0)\n",
      "('state', 0): ('povm', 1)\n",
      "('state', 0): ('povm', 2)\n",
      "=====================\n"
     ]
    },
    {
     "name": "stderr",
     "output_type": "stream",
     "text": [
      "\r",
      " 80%|████████  | 8/10 [00:01<00:00,  4.21it/s]"
     ]
    },
    {
     "name": "stdout",
     "output_type": "stream",
     "text": [
      "=======schedules=======\n",
      "('state', 0): ('povm', 0)\n",
      "('state', 0): ('povm', 1)\n",
      "('state', 0): ('povm', 2)\n",
      "=====================\n"
     ]
    },
    {
     "name": "stderr",
     "output_type": "stream",
     "text": [
      "100%|██████████| 10/10 [00:02<00:00,  4.24it/s]"
     ]
    },
    {
     "name": "stdout",
     "output_type": "stream",
     "text": [
      "=======schedules=======\n",
      "('state', 0): ('povm', 0)\n",
      "('state', 0): ('povm', 1)\n",
      "('state', 0): ('povm', 2)\n",
      "=====================\n"
     ]
    },
    {
     "name": "stderr",
     "output_type": "stream",
     "text": [
      "\n",
      "100%|██████████| 10/10 [00:00<00:00, 24036.13it/s]\n",
      "100%|██████████| 10/10 [00:00<00:00, 1468.39it/s]\n"
     ]
    },
    {
     "name": "stdout",
     "output_type": "stream",
     "text": [
      "=======schedules=======\n",
      "('state', 0): ('povm', 0)\n",
      "('state', 0): ('povm', 1)\n",
      "('state', 0): ('povm', 2)\n",
      "=====================\n",
      "========== Summary ============\n",
      "Name: Least Squares (False)\n",
      "MSE of Empirical Distributions: \u001b[32mOK\u001b[0m\n",
      "Consistency: \u001b[32mOK\u001b[0m (to_be_checked=False)\n",
      "MSE of estimators: \u001b[32mOK\u001b[0m\n",
      "Physicality Violation: \u001b[32mOK\u001b[0m\n",
      "===============================\n",
      "Completed to write csv. result/1/0/check_result.csv\n",
      "total_results=[True, True, False, False, False, False, True, True]\n",
      "False\n",
      "​Generating table of computation time ...\n",
      "​Generating table of tolerance of physicality constraint violation ...\n",
      "​Generating table of experimental conditions ...\n",
      "Generating case list ...\n",
      "Computation time of estimators ...\n"
     ]
    },
    {
     "name": "stderr",
     "output_type": "stream",
     "text": [
      "100%|██████████| 10/10 [00:00<00:00, 6911.03it/s]\n",
      "100%|██████████| 10/10 [00:00<00:00, 16919.34it/s]"
     ]
    },
    {
     "name": "stdout",
     "output_type": "stream",
     "text": [
      "​​Generating MSE of empirical distributions blocks ...\n"
     ]
    },
    {
     "name": "stderr",
     "output_type": "stream",
     "text": [
      "\n"
     ]
    },
    {
     "name": "stdout",
     "output_type": "stream",
     "text": [
      "​​Generating consictency test blocks ...\n",
      "=======schedules=======\n",
      "('state', 0): ('povm', 0)\n",
      "('state', 0): ('povm', 1)\n",
      "('state', 0): ('povm', 2)\n",
      "=====================\n",
      "=======schedules=======\n",
      "('state', 0): ('povm', 0)\n",
      "('state', 0): ('povm', 1)\n",
      "('state', 0): ('povm', 2)\n",
      "=====================\n",
      "=======schedules=======\n",
      "('state', 0): ('povm', 0)\n",
      "('state', 0): ('povm', 1)\n",
      "('state', 0): ('povm', 2)\n",
      "=====================\n",
      "=======schedules=======\n",
      "('state', 0): ('povm', 0)\n",
      "('state', 0): ('povm', 1)\n",
      "('state', 0): ('povm', 2)\n",
      "=====================\n",
      "=======schedules=======\n",
      "('state', 0): ('povm', 0)\n",
      "('state', 0): ('povm', 1)\n",
      "('state', 0): ('povm', 2)\n",
      "=====================\n",
      "=======schedules=======\n",
      "('state', 0): ('povm', 0)\n",
      "('state', 0): ('povm', 1)\n",
      "('state', 0): ('povm', 2)\n",
      "=====================\n",
      "=======schedules=======\n",
      "('state', 0): ('povm', 0)\n",
      "('state', 0): ('povm', 1)\n",
      "('state', 0): ('povm', 2)\n",
      "=====================\n",
      "=======schedules=======\n",
      "('state', 0): ('povm', 0)\n",
      "('state', 0): ('povm', 1)\n",
      "('state', 0): ('povm', 2)\n",
      "=====================\n",
      "=======schedules=======\n",
      "('state', 0): ('povm', 0)\n",
      "('state', 0): ('povm', 1)\n",
      "('state', 0): ('povm', 2)\n",
      "=====================\n",
      "=======schedules=======\n",
      "('state', 0): ('povm', 0)\n",
      "('state', 0): ('povm', 1)\n",
      "('state', 0): ('povm', 2)\n",
      "=====================\n",
      "=======schedules=======\n",
      "('state', 0): ('povm', 0)\n",
      "('state', 0): ('povm', 1)\n",
      "('state', 0): ('povm', 2)\n",
      "=====================\n",
      "=======schedules=======\n",
      "('state', 0): ('povm', 0)\n",
      "('state', 0): ('povm', 1)\n",
      "('state', 0): ('povm', 2)\n",
      "=====================\n",
      "=======schedules=======\n",
      "('state', 0): ('povm', 0)\n",
      "('state', 0): ('povm', 1)\n",
      "('state', 0): ('povm', 2)\n",
      "=====================\n",
      "=======schedules=======\n",
      "('state', 0): ('povm', 0)\n",
      "('state', 0): ('povm', 1)\n",
      "('state', 0): ('povm', 2)\n",
      "=====================\n",
      "=======schedules=======\n",
      "('state', 0): ('povm', 0)\n",
      "('state', 0): ('povm', 1)\n",
      "('state', 0): ('povm', 2)\n",
      "=====================\n",
      "=======schedules=======\n",
      "('state', 0): ('povm', 0)\n",
      "('state', 0): ('povm', 1)\n",
      "('state', 0): ('povm', 2)\n",
      "=====================\n",
      "​Generating a graph for MSE ...\n",
      "  Linear (True)=[0.01371604938271605, 0.0012888888888888908]\n",
      "  Linear (False)=[0.013716049382716053, 0.00128888888888889]\n",
      "  ProjectedLinear (True)=[0.01371604938271605, 0.0012888888888888902]\n",
      "  ProjectedLinear (False)=[0.013716049382716056, 0.0012888888888888893]\n",
      "  Maximum-Likelihood (True)=[0.013716049768110005, 0.001288889118398299]\n",
      "  Maximum-Likelihood (False)=[0.013722302685280033, 0.0012928119046027055]\n",
      "  Least Squares (True)=[0.013716049382716047, 0.0012888888888888902]\n",
      "  Least Squares (False)=[0.013716049382716053, 0.0012888888888888902]\n",
      "  Linear (True)=[0.01371604938271605, 0.0012888888888888908]\n",
      "  ProjectedLinear (True)=[0.01371604938271605, 0.0012888888888888902]\n",
      "  Maximum-Likelihood (True)=[0.013716049768110005, 0.001288889118398299]\n",
      "  Least Squares (True)=[0.013716049382716047, 0.0012888888888888902]\n",
      "  Linear (False)=[0.013716049382716053, 0.00128888888888889]\n",
      "  ProjectedLinear (False)=[0.013716049382716056, 0.0012888888888888893]\n",
      "  Maximum-Likelihood (False)=[0.013722302685280033, 0.0012928119046027055]\n",
      "  Least Squares (False)=[0.013716049382716053, 0.0012888888888888902]\n",
      "​​Generating physicality violation test blocks ...\n"
     ]
    },
    {
     "name": "stderr",
     "output_type": "stream",
     "text": [
      "100%|██████████| 10/10 [00:00<00:00, 2071.67it/s]\n",
      "100%|██████████| 10/10 [00:00<00:00, 3138.51it/s]\n",
      "100%|██████████| 10/10 [00:00<00:00, 4990.25it/s]\n",
      "100%|██████████| 10/10 [00:00<00:00, 5341.02it/s]\n",
      "100%|██████████| 10/10 [00:00<00:00, 3608.62it/s]\n",
      "100%|██████████| 10/10 [00:00<00:00, 5120.00it/s]\n",
      "100%|██████████| 10/10 [00:00<00:00, 3053.29it/s]\n",
      "100%|██████████| 10/10 [00:00<00:00, 4551.60it/s]\n",
      "100%|██████████| 10/10 [00:00<00:00, 6897.39it/s]\n",
      "100%|██████████| 10/10 [00:00<00:00, 4892.46it/s]\n",
      "100%|██████████| 10/10 [00:00<00:00, 7128.32it/s]\n",
      "100%|██████████| 10/10 [00:00<00:00, 4302.73it/s]\n",
      "100%|██████████| 10/10 [00:00<00:00, 4533.40it/s]\n",
      "100%|██████████| 10/10 [00:00<00:00, 4694.77it/s]\n",
      "100%|██████████| 10/10 [00:00<00:00, 2735.12it/s]\n",
      "100%|██████████| 10/10 [00:00<00:00, 4466.30it/s]\n",
      "100%|██████████| 10/10 [00:00<00:00, 3227.63it/s]\n",
      "100%|██████████| 10/10 [00:00<00:00, 4549.63it/s]\n",
      "100%|██████████| 10/10 [00:00<00:00, 4554.08it/s]\n",
      "100%|██████████| 10/10 [00:00<00:00, 5534.84it/s]\n",
      "100%|██████████| 10/10 [00:00<00:00, 5066.20it/s]\n",
      "100%|██████████| 10/10 [00:00<00:00, 3534.72it/s]\n",
      "100%|██████████| 10/10 [00:00<00:00, 6869.15it/s]\n",
      "100%|██████████| 10/10 [00:00<00:00, 5187.12it/s]\n",
      "100%|██████████| 10/10 [00:00<00:00, 4614.20it/s]\n",
      "100%|██████████| 10/10 [00:00<00:00, 3679.21it/s]\n",
      "100%|██████████| 10/10 [00:00<00:00, 6622.93it/s]\n",
      "100%|██████████| 10/10 [00:00<00:00, 4151.13it/s]\n",
      "100%|██████████| 10/10 [00:00<00:00, 4224.72it/s]\n",
      "100%|██████████| 10/10 [00:00<00:00, 3990.02it/s]\n",
      "100%|██████████| 10/10 [00:00<00:00, 6816.68it/s]\n",
      "100%|██████████| 10/10 [00:00<00:00, 4751.14it/s]\n"
     ]
    },
    {
     "name": "stdout",
     "output_type": "stream",
     "text": [
      "Converting to PDF report ...\n"
     ]
    },
    {
     "name": "stderr",
     "output_type": "stream",
     "text": [
      "\r",
      "  0%|          | 0/10 [00:00<?, ?it/s]"
     ]
    },
    {
     "name": "stdout",
     "output_type": "stream",
     "text": [
      "​Deleting temporary files ...\n",
      "Completed to export pdf. (result/1/0/1_0_quara_report.pdf)\n",
      "Case 0: Linear (True)\n",
      "=======schedules=======\n",
      "('state', 0): ('povm', 0)\n",
      "('state', 0): ('povm', 1)\n",
      "('state', 0): ('povm', 2)\n",
      "=====================\n",
      "=======schedules=======\n",
      "('state', 0): ('povm', 0)\n",
      "('state', 0): ('povm', 1)\n",
      "('state', 0): ('povm', 2)\n",
      "=====================\n",
      "=======schedules=======\n",
      "('state', 0): ('povm', 0)\n",
      "('state', 0): ('povm', 1)\n",
      "('state', 0): ('povm', 2)\n",
      "=====================\n",
      "=======schedules=======\n",
      "('state', 0): ('povm', 0)\n",
      "('state', 0): ('povm', 1)"
     ]
    },
    {
     "name": "stderr",
     "output_type": "stream",
     "text": [
      "100%|██████████| 10/10 [00:00<00:00, 37.00it/s]\n",
      "100%|██████████| 10/10 [00:00<00:00, 22882.18it/s]\n",
      "100%|██████████| 10/10 [00:00<00:00, 14217.98it/s]"
     ]
    },
    {
     "name": "stdout",
     "output_type": "stream",
     "text": [
      "\n",
      "('state', 0): ('povm', 2)\n",
      "=====================\n",
      "=======schedules=======\n",
      "('state', 0): ('povm', 0)\n",
      "('state', 0): ('povm', 1)\n",
      "('state', 0): ('povm', 2)\n",
      "=====================\n",
      "=======schedules=======\n",
      "('state', 0): ('povm', 0)\n",
      "('state', 0): ('povm', 1)\n",
      "('state', 0): ('povm', 2)\n",
      "=====================\n",
      "=======schedules=======\n",
      "('state', 0): ('povm', 0)\n",
      "('state', 0): ('povm', 1)\n",
      "('state', 0): ('povm', 2)\n",
      "=====================\n",
      "=======schedules=======\n",
      "('state', 0): ('povm', 0)\n",
      "('state', 0): ('povm', 1)\n",
      "('state', 0): ('povm', 2)\n",
      "=====================\n",
      "=======schedules=======\n",
      "('state', 0): ('povm', 0)\n",
      "('state', 0): ('povm', 1)\n",
      "('state', 0): ('povm', 2)\n",
      "=====================\n",
      "=======schedules=======\n",
      "('state', 0): ('povm', 0)\n",
      "('state', 0): ('povm', 1)\n",
      "('state', 0): ('povm', 2)\n",
      "=====================\n",
      "=======schedules=======\n",
      "('state', 0): ('povm', 0)\n",
      "('state', 0): ('povm', 1)\n",
      "('state', 0): ('povm', 2)\n",
      "=====================\n",
      "========== Summary ============\n",
      "Name: Linear (True)\n",
      "MSE of Empirical Distributions: \u001b[32mOK\u001b[0m\n",
      "Consistency: \u001b[32mOK\u001b[0m (to_be_checked=False)\n",
      "MSE of estimators: \u001b[32mOK\u001b[0m\n",
      "Physicality Violation: \u001b[32mOK\u001b[0m\n",
      "===============================\n"
     ]
    },
    {
     "name": "stderr",
     "output_type": "stream",
     "text": [
      "\n",
      " 40%|████      | 4/10 [00:00<00:00, 33.53it/s]"
     ]
    },
    {
     "name": "stdout",
     "output_type": "stream",
     "text": [
      "Case 1: Linear (False)\n",
      "=======schedules=======\n",
      "('state', 0): ('povm', 0)\n",
      "('state', 0): ('povm', 1)\n",
      "('state', 0): ('povm', 2)\n",
      "=====================\n",
      "=======schedules=======\n",
      "('state', 0): ('povm', 0)\n",
      "('state', 0): ('povm', 1)\n",
      "('state', 0): ('povm', 2)\n",
      "=====================\n",
      "=======schedules=======\n",
      "('state', 0): ('povm', 0)\n",
      "('state', 0): ('povm', 1)\n",
      "('state', 0): ('povm', 2)\n",
      "=====================\n",
      "=======schedules=======\n",
      "('state', 0): ('povm', 0)\n",
      "('state', 0): ('povm', 1)\n",
      "('state', 0): ('povm', 2)\n",
      "=====================\n",
      "=======schedules=======\n",
      "('state', 0): ('povm', 0)\n",
      "('state', 0): ('povm', 1)\n",
      "('state', 0): ('povm', 2)\n",
      "=====================\n",
      "=======schedules=======\n",
      "('state', 0): ('povm', 0)\n",
      "('state', 0): ('povm', 1)\n",
      "('state', 0): ('povm', 2)\n",
      "=====================\n",
      "=======schedules=======\n",
      "('state', 0): ('povm', 0)\n",
      "('state', 0): ('povm', 1)\n",
      "('state', 0): ('povm', 2)\n",
      "=====================\n"
     ]
    },
    {
     "name": "stderr",
     "output_type": "stream",
     "text": [
      "100%|██████████| 10/10 [00:00<00:00, 38.68it/s]\n",
      "100%|██████████| 10/10 [00:00<00:00, 21822.60it/s]\n",
      "100%|██████████| 10/10 [00:00<00:00, 10493.63it/s]\n",
      " 40%|████      | 4/10 [00:00<00:00, 35.77it/s]"
     ]
    },
    {
     "name": "stdout",
     "output_type": "stream",
     "text": [
      "=======schedules=======\n",
      "('state', 0): ('povm', 0)\n",
      "('state', 0): ('povm', 1)\n",
      "('state', 0): ('povm', 2)\n",
      "=====================\n",
      "=======schedules=======\n",
      "('state', 0): ('povm', 0)\n",
      "('state', 0): ('povm', 1)\n",
      "('state', 0): ('povm', 2)\n",
      "=====================\n",
      "=======schedules=======\n",
      "('state', 0): ('povm', 0)\n",
      "('state', 0): ('povm', 1)\n",
      "('state', 0): ('povm', 2)\n",
      "=====================\n",
      "=======schedules=======\n",
      "('state', 0): ('povm', 0)\n",
      "('state', 0): ('povm', 1)\n",
      "('state', 0): ('povm', 2)\n",
      "=====================\n",
      "========== Summary ============\n",
      "Name: Linear (False)\n",
      "MSE of Empirical Distributions: \u001b[32mOK\u001b[0m\n",
      "Consistency: \u001b[32mOK\u001b[0m (to_be_checked=False)\n",
      "MSE of estimators: \u001b[32mOK\u001b[0m\n",
      "Physicality Violation: \u001b[32mOK\u001b[0m\n",
      "===============================\n",
      "Case 2: ProjectedLinear (True)\n",
      "=======schedules=======\n",
      "('state', 0): ('povm', 0)\n",
      "('state', 0): ('povm', 1)\n",
      "('state', 0): ('povm', 2)\n",
      "=====================\n",
      "=======schedules=======\n",
      "('state', 0): ('povm', 0)\n",
      "('state', 0): ('povm', 1)\n",
      "('state', 0): ('povm', 2)\n",
      "=====================\n",
      "=======schedules=======\n",
      "('state', 0): ('povm', 0)\n",
      "('state', 0): ('povm', 1)\n",
      "('state', 0): ('povm', 2)\n",
      "=====================\n",
      "=======schedules=======\n",
      "('state', 0): ('povm', 0)\n",
      "('state', 0): ('povm', 1)\n",
      "('state', 0): ('povm', 2)\n",
      "=====================\n",
      "=======schedules=======\n",
      "('state', 0): ('povm', 0)\n",
      "('state', 0): ('povm', 1)\n",
      "('state', 0): ('povm', 2)\n",
      "=====================\n",
      "=======schedules=======\n",
      "('state', 0): ('povm', 0)\n",
      "('state', 0): ('povm', 1)\n",
      "('state', 0): ('povm', 2)\n",
      "=====================\n"
     ]
    },
    {
     "name": "stderr",
     "output_type": "stream",
     "text": [
      "100%|██████████| 10/10 [00:00<00:00, 28.66it/s]\n",
      "100%|██████████| 10/10 [00:00<00:00, 4144.16it/s]\n",
      "100%|██████████| 10/10 [00:00<00:00, 8992.93it/s]"
     ]
    },
    {
     "name": "stdout",
     "output_type": "stream",
     "text": [
      "=======schedules=======\n",
      "('state', 0): ('povm', 0)\n",
      "('state', 0): ('povm', 1)\n",
      "('state', 0): ('povm', 2)\n",
      "=====================\n",
      "=======schedules=======\n",
      "('state', 0): ('povm', 0)\n",
      "('state', 0): ('povm', 1)\n",
      "('state', 0): ('povm', 2)\n",
      "=====================\n",
      "=======schedules=======\n",
      "('state', 0): ('povm', 0)\n",
      "('state', 0): ('povm', 1)\n",
      "('state', 0): ('povm', 2)\n",
      "=====================\n",
      "=======schedules=======\n",
      "('state', 0): ('povm', 0)\n",
      "('state', 0): ('povm', 1)\n",
      "('state', 0): ('povm', 2)\n",
      "=====================\n",
      "=======schedules=======\n",
      "('state', 0): ('povm', 0)\n",
      "('state', 0): ('povm', 1)\n",
      "('state', 0): ('povm', 2)\n",
      "=====================\n"
     ]
    },
    {
     "name": "stderr",
     "output_type": "stream",
     "text": [
      "\n",
      " 30%|███       | 3/10 [00:00<00:00, 22.48it/s]"
     ]
    },
    {
     "name": "stdout",
     "output_type": "stream",
     "text": [
      "=======schedules=======\n",
      "('state', 0): ('povm', 0)\n",
      "('state', 0): ('povm', 1)\n",
      "('state', 0): ('povm', 2)\n",
      "=====================\n",
      "=======schedules=======\n",
      "('state', 0): ('povm', 0)\n",
      "('state', 0): ('povm', 1)\n",
      "('state', 0): ('povm', 2)\n",
      "=====================\n",
      "=======schedules=======\n",
      "('state', 0): ('povm', 0)\n",
      "('state', 0): ('povm', 1)\n",
      "('state', 0): ('povm', 2)\n",
      "=====================\n",
      "=======schedules=======\n",
      "('state', 0): ('povm', 0)\n",
      "('state', 0): ('povm', 1)\n",
      "('state', 0): ('povm', 2)\n",
      "=====================\n",
      "=======schedules=======\n",
      "('state', 0): ('povm', 0)\n",
      "('state', 0): ('povm', 1)\n",
      "('state', 0): ('povm', 2)\n",
      "=====================\n",
      "=======schedules=======\n",
      "('state', 0): ('povm', 0)\n",
      "('state', 0): ('povm', 1)\n",
      "('state', 0): ('povm', 2)\n",
      "=====================\n"
     ]
    },
    {
     "name": "stderr",
     "output_type": "stream",
     "text": [
      "100%|██████████| 10/10 [00:00<00:00, 33.69it/s]\n",
      "  0%|          | 0/10 [00:00<?, ?it/s]"
     ]
    },
    {
     "name": "stdout",
     "output_type": "stream",
     "text": [
      "=======schedules=======\n",
      "('state', 0): ('povm', 0)\n",
      "('state', 0): ('povm', 1)\n",
      "('state', 0): ('povm', 2)\n",
      "=====================\n",
      "=======schedules=======\n",
      "('state', 0): ('povm', 0)\n",
      "('state', 0): ('povm', 1)\n",
      "('state', 0): ('povm', 2)\n",
      "=====================\n",
      "=======schedules=======\n",
      "('state', 0): ('povm', 0)\n",
      "('state', 0): ('povm', 1)\n",
      "('state', 0): ('povm', 2)\n",
      "=====================\n",
      "=======schedules=======\n",
      "('state', 0): ('povm', 0)\n",
      "('state', 0): ('povm', 1)\n",
      "('state', 0): ('povm', 2)\n",
      "=====================\n",
      "========== Summary ============\n",
      "Name: ProjectedLinear (True)\n",
      "MSE of Empirical Distributions: \u001b[32mOK\u001b[0m\n",
      "Consistency: \u001b[32mOK\u001b[0m (to_be_checked=False)\n",
      "MSE of estimators: \u001b[31mNG\u001b[0m\n",
      "Physicality Violation: \u001b[32mOK\u001b[0m\n",
      "===============================\n",
      "Total Result: \u001b[31mNG\u001b[0m\n",
      "Case 3: ProjectedLinear (False)\n",
      "=======schedules=======\n",
      "('state', 0): ('povm', 0)\n",
      "('state', 0): ('povm', 1)\n",
      "('state', 0): ('povm', 2)\n",
      "=====================\n",
      "=======schedules=======\n",
      "('state', 0): ('povm', 0)\n",
      "('state', 0): ('povm', 1)\n",
      "('state', 0): ('povm', 2)\n",
      "=====================\n",
      "=======schedules=======\n",
      "('state', 0): ('povm', 0)\n",
      "('state', 0): ('povm', 1)\n",
      "('state', 0): ('povm', 2)\n",
      "=====================\n",
      "=======schedules=======\n",
      "('state', 0): ('povm', 0)\n",
      "('state', 0): ('povm', 1)\n",
      "('state', 0): ('povm', 2)\n",
      "=====================\n"
     ]
    },
    {
     "name": "stderr",
     "output_type": "stream",
     "text": [
      "100%|██████████| 10/10 [00:00<00:00, 34.26it/s]\n",
      "100%|██████████| 10/10 [00:00<00:00, 8277.69it/s]\n",
      "100%|██████████| 10/10 [00:00<00:00, 22635.21it/s]\n"
     ]
    },
    {
     "name": "stdout",
     "output_type": "stream",
     "text": [
      "=======schedules=======\n",
      "('state', 0): ('povm', 0)\n",
      "('state', 0): ('povm', 1)\n",
      "('state', 0): ('povm', 2)\n",
      "=====================\n",
      "=======schedules=======\n",
      "('state', 0): ('povm', 0)\n",
      "('state', 0): ('povm', 1)\n",
      "('state', 0): ('povm', 2)\n",
      "=====================\n",
      "=======schedules=======\n",
      "('state', 0): ('povm', 0)\n",
      "('state', 0): ('povm', 1)\n",
      "('state', 0): ('povm', 2)\n",
      "=====================\n",
      "=======schedules=======\n",
      "('state', 0): ('povm', 0)\n",
      "('state', 0): ('povm', 1)\n",
      "('state', 0): ('povm', 2)\n",
      "=====================\n",
      "=======schedules=======\n",
      "('state', 0): ('povm', 0)\n",
      "('state', 0): ('povm', 1)\n",
      "('state', 0): ('povm', 2)\n",
      "=====================\n",
      "=======schedules=======\n",
      "('state', 0): ('povm', 0)\n",
      "('state', 0): ('povm', 1)\n",
      "('state', 0): ('povm', 2)\n",
      "=====================\n",
      "=======schedules=======\n",
      "('state', 0): ('povm', 0)\n",
      "('state', 0): ('povm', 1)\n",
      "('state', 0): ('povm', 2)\n",
      "=====================\n"
     ]
    },
    {
     "name": "stderr",
     "output_type": "stream",
     "text": [
      " 30%|███       | 3/10 [00:00<00:00, 21.70it/s]"
     ]
    },
    {
     "name": "stdout",
     "output_type": "stream",
     "text": [
      "=======schedules=======\n",
      "('state', 0): ('povm', 0)\n",
      "('state', 0): ('povm', 1)\n",
      "('state', 0): ('povm', 2)\n",
      "=====================\n",
      "=======schedules=======\n",
      "('state', 0): ('povm', 0)\n",
      "('state', 0): ('povm', 1)\n",
      "('state', 0): ('povm', 2)\n",
      "=====================\n",
      "=======schedules=======\n",
      "('state', 0): ('povm', 0)\n",
      "('state', 0): ('povm', 1)\n",
      "('state', 0): ('povm', 2)\n",
      "=====================\n",
      "=======schedules=======\n",
      "('state', 0): ('povm', 0)\n",
      "('state', 0): ('povm', 1)\n",
      "('state', 0): ('povm', 2)\n",
      "=====================\n"
     ]
    },
    {
     "name": "stderr",
     "output_type": "stream",
     "text": [
      "100%|██████████| 10/10 [00:00<00:00, 24.76it/s]\n",
      "  0%|          | 0/10 [00:00<?, ?it/s]"
     ]
    },
    {
     "name": "stdout",
     "output_type": "stream",
     "text": [
      "=======schedules=======\n",
      "('state', 0): ('povm', 0)\n",
      "('state', 0): ('povm', 1)\n",
      "('state', 0): ('povm', 2)\n",
      "=====================\n",
      "=======schedules=======\n",
      "('state', 0): ('povm', 0)\n",
      "('state', 0): ('povm', 1)\n",
      "('state', 0): ('povm', 2)\n",
      "=====================\n",
      "=======schedules=======\n",
      "('state', 0): ('povm', 0)\n",
      "('state', 0): ('povm', 1)\n",
      "('state', 0): ('povm', 2)\n",
      "=====================\n",
      "=======schedules=======\n",
      "('state', 0): ('povm', 0)\n",
      "('state', 0): ('povm', 1)\n",
      "('state', 0): ('povm', 2)\n",
      "=====================\n",
      "=======schedules=======\n",
      "('state', 0): ('povm', 0)\n",
      "('state', 0): ('povm', 1)\n",
      "('state', 0): ('povm', 2)\n",
      "=====================\n",
      "=======schedules=======\n",
      "('state', 0): ('povm', 0)\n",
      "('state', 0): ('povm', 1)\n",
      "('state', 0): ('povm', 2)\n",
      "=====================\n",
      "========== Summary ============\n",
      "Name: ProjectedLinear (False)\n",
      "MSE of Empirical Distributions: \u001b[32mOK\u001b[0m\n",
      "Consistency: \u001b[32mOK\u001b[0m (to_be_checked=False)\n",
      "MSE of estimators: \u001b[31mNG\u001b[0m\n",
      "Physicality Violation: \u001b[32mOK\u001b[0m\n",
      "===============================\n",
      "Total Result: \u001b[31mNG\u001b[0m\n",
      "Case 4: Maximum-Likelihood (True)\n",
      "=======schedules=======\n",
      "('state', 0): ('povm', 0)\n",
      "('state', 0): ('povm', 1)\n",
      "('state', 0): ('povm', 2)\n",
      "=====================\n"
     ]
    },
    {
     "name": "stderr",
     "output_type": "stream",
     "text": [
      "\r",
      " 10%|█         | 1/10 [00:03<00:31,  3.48s/it]"
     ]
    },
    {
     "name": "stdout",
     "output_type": "stream",
     "text": [
      "=======schedules=======\n",
      "('state', 0): ('povm', 0)\n",
      "('state', 0): ('povm', 1)\n",
      "('state', 0): ('povm', 2)\n",
      "=====================\n"
     ]
    },
    {
     "name": "stderr",
     "output_type": "stream",
     "text": [
      "\r",
      " 20%|██        | 2/10 [00:07<00:28,  3.52s/it]"
     ]
    },
    {
     "name": "stdout",
     "output_type": "stream",
     "text": [
      "=======schedules=======\n",
      "('state', 0): ('povm', 0)\n",
      "('state', 0): ('povm', 1)\n",
      "('state', 0): ('povm', 2)\n",
      "=====================\n"
     ]
    },
    {
     "name": "stderr",
     "output_type": "stream",
     "text": [
      "\r",
      " 30%|███       | 3/10 [00:09<00:22,  3.27s/it]"
     ]
    },
    {
     "name": "stdout",
     "output_type": "stream",
     "text": [
      "=======schedules=======\n",
      "('state', 0): ('povm', 0)\n",
      "('state', 0): ('povm', 1)\n",
      "('state', 0): ('povm', 2)\n",
      "=====================\n"
     ]
    },
    {
     "name": "stderr",
     "output_type": "stream",
     "text": [
      "\r",
      " 40%|████      | 4/10 [00:11<00:16,  2.79s/it]"
     ]
    },
    {
     "name": "stdout",
     "output_type": "stream",
     "text": [
      "=======schedules=======\n",
      "('state', 0): ('povm', 0)\n",
      "('state', 0): ('povm', 1)\n",
      "('state', 0): ('povm', 2)\n",
      "=====================\n"
     ]
    },
    {
     "name": "stderr",
     "output_type": "stream",
     "text": [
      "\r",
      " 50%|█████     | 5/10 [00:14<00:13,  2.73s/it]"
     ]
    },
    {
     "name": "stdout",
     "output_type": "stream",
     "text": [
      "=======schedules=======\n",
      "('state', 0): ('povm', 0)\n",
      "('state', 0): ('povm', 1)\n",
      "('state', 0): ('povm', 2)\n",
      "=====================\n"
     ]
    },
    {
     "name": "stderr",
     "output_type": "stream",
     "text": [
      "\r",
      " 60%|██████    | 6/10 [00:15<00:09,  2.39s/it]"
     ]
    },
    {
     "name": "stdout",
     "output_type": "stream",
     "text": [
      "=======schedules=======\n",
      "('state', 0): ('povm', 0)\n",
      "('state', 0): ('povm', 1)\n",
      "('state', 0): ('povm', 2)\n",
      "=====================\n"
     ]
    },
    {
     "name": "stderr",
     "output_type": "stream",
     "text": [
      "\r",
      " 70%|███████   | 7/10 [00:16<00:06,  2.03s/it]"
     ]
    },
    {
     "name": "stdout",
     "output_type": "stream",
     "text": [
      "=======schedules=======\n",
      "('state', 0): ('povm', 0)\n",
      "('state', 0): ('povm', 1)\n",
      "('state', 0): ('povm', 2)\n",
      "=====================\n"
     ]
    },
    {
     "name": "stderr",
     "output_type": "stream",
     "text": [
      "\r",
      " 80%|████████  | 8/10 [00:17<00:03,  1.77s/it]"
     ]
    },
    {
     "name": "stdout",
     "output_type": "stream",
     "text": [
      "=======schedules=======\n",
      "('state', 0): ('povm', 0)\n",
      "('state', 0): ('povm', 1)\n",
      "('state', 0): ('povm', 2)\n",
      "=====================\n"
     ]
    },
    {
     "name": "stderr",
     "output_type": "stream",
     "text": [
      "\r",
      " 90%|█████████ | 9/10 [00:19<00:01,  1.82s/it]"
     ]
    },
    {
     "name": "stdout",
     "output_type": "stream",
     "text": [
      "=======schedules=======\n",
      "('state', 0): ('povm', 0)\n",
      "('state', 0): ('povm', 1)\n",
      "('state', 0): ('povm', 2)\n",
      "=====================\n"
     ]
    },
    {
     "name": "stderr",
     "output_type": "stream",
     "text": [
      "100%|██████████| 10/10 [00:20<00:00,  2.08s/it]\n",
      "100%|██████████| 10/10 [00:00<00:00, 17985.87it/s]\n",
      "100%|██████████| 10/10 [00:00<00:00, 18251.98it/s]\n"
     ]
    },
    {
     "name": "stdout",
     "output_type": "stream",
     "text": [
      "=======schedules=======\n",
      "('state', 0): ('povm', 0)\n",
      "('state', 0): ('povm', 1)\n",
      "('state', 0): ('povm', 2)\n",
      "=====================\n"
     ]
    },
    {
     "name": "stderr",
     "output_type": "stream",
     "text": [
      "100%|██████████| 10/10 [00:00<00:00, 61.40it/s]\n"
     ]
    },
    {
     "name": "stdout",
     "output_type": "stream",
     "text": [
      "=======schedules=======\n",
      "('state', 0): ('povm', 0)\n",
      "('state', 0): ('povm', 1)\n",
      "('state', 0): ('povm', 2)\n",
      "=====================\n",
      "=======schedules=======\n",
      "('state', 0): ('povm', 0)\n",
      "('state', 0): ('povm', 1)\n",
      "('state', 0): ('povm', 2)\n",
      "=====================\n",
      "=======schedules=======\n",
      "('state', 0): ('povm', 0)\n",
      "('state', 0): ('povm', 1)\n",
      "('state', 0): ('povm', 2)\n",
      "=====================\n",
      "=======schedules=======\n",
      "('state', 0): ('povm', 0)\n",
      "('state', 0): ('povm', 1)\n",
      "('state', 0): ('povm', 2)\n",
      "=====================\n",
      "=======schedules=======\n",
      "('state', 0): ('povm', 0)\n",
      "('state', 0): ('povm', 1)\n",
      "('state', 0): ('povm', 2)\n",
      "=====================\n",
      "=======schedules=======\n",
      "('state', 0): ('povm', 0)\n",
      "('state', 0): ('povm', 1)\n",
      "('state', 0): ('povm', 2)\n",
      "=====================\n",
      "=======schedules=======\n",
      "('state', 0): ('povm', 0)\n",
      "('state', 0): ('povm', 1)\n",
      "('state', 0): ('povm', 2)\n",
      "=====================\n",
      "=======schedules=======\n",
      "('state', 0): ('povm', 0)\n",
      "('state', 0): ('povm', 1)\n",
      "('state', 0): ('povm', 2)\n",
      "=====================\n",
      "=======schedules=======\n",
      "('state', 0): ('povm', 0)\n",
      "('state', 0): ('povm', 1)\n",
      "('state', 0): ('povm', 2)\n",
      "=====================\n",
      "=======schedules=======\n",
      "('state', 0): ('povm', 0)\n",
      "('state', 0): ('povm', 1)\n",
      "('state', 0): ('povm', 2)\n",
      "=====================\n",
      "========== Summary ============\n",
      "Name: Maximum-Likelihood (True)\n",
      "MSE of Empirical Distributions: \u001b[32mOK\u001b[0m\n",
      "Consistency: \u001b[32mOK\u001b[0m (to_be_checked=False)\n",
      "MSE of estimators: \u001b[31mNG\u001b[0m\n",
      "Physicality Violation: \u001b[32mOK\u001b[0m\n",
      "===============================\n",
      "Total Result: \u001b[31mNG\u001b[0m\n"
     ]
    },
    {
     "name": "stderr",
     "output_type": "stream",
     "text": [
      "\r",
      "  0%|          | 0/10 [00:00<?, ?it/s]"
     ]
    },
    {
     "name": "stdout",
     "output_type": "stream",
     "text": [
      "Case 5: Maximum-Likelihood (False)\n",
      "=======schedules=======\n",
      "('state', 0): ('povm', 0)\n",
      "('state', 0): ('povm', 1)\n",
      "('state', 0): ('povm', 2)\n",
      "=====================\n"
     ]
    },
    {
     "name": "stderr",
     "output_type": "stream",
     "text": [
      "\r",
      " 10%|█         | 1/10 [00:01<00:13,  1.48s/it]"
     ]
    },
    {
     "name": "stdout",
     "output_type": "stream",
     "text": [
      "=======schedules=======\n",
      "('state', 0): ('povm', 0)\n",
      "('state', 0): ('povm', 1)\n",
      "('state', 0): ('povm', 2)\n",
      "=====================\n"
     ]
    },
    {
     "name": "stderr",
     "output_type": "stream",
     "text": [
      "\r",
      " 20%|██        | 2/10 [00:04<00:14,  1.87s/it]"
     ]
    },
    {
     "name": "stdout",
     "output_type": "stream",
     "text": [
      "=======schedules=======\n",
      "('state', 0): ('povm', 0)\n",
      "('state', 0): ('povm', 1)\n",
      "('state', 0): ('povm', 2)\n",
      "=====================\n"
     ]
    },
    {
     "name": "stderr",
     "output_type": "stream",
     "text": [
      "\r",
      " 30%|███       | 3/10 [00:07<00:15,  2.19s/it]"
     ]
    },
    {
     "name": "stdout",
     "output_type": "stream",
     "text": [
      "=======schedules=======\n",
      "('state', 0): ('povm', 0)\n",
      "('state', 0): ('povm', 1)\n",
      "('state', 0): ('povm', 2)\n",
      "=====================\n"
     ]
    },
    {
     "name": "stderr",
     "output_type": "stream",
     "text": [
      "\r",
      " 40%|████      | 4/10 [00:11<00:16,  2.79s/it]"
     ]
    },
    {
     "name": "stdout",
     "output_type": "stream",
     "text": [
      "=======schedules=======\n",
      "('state', 0): ('povm', 0)\n",
      "('state', 0): ('povm', 1)\n",
      "('state', 0): ('povm', 2)\n",
      "=====================\n"
     ]
    },
    {
     "name": "stderr",
     "output_type": "stream",
     "text": [
      "\r",
      " 50%|█████     | 5/10 [00:14<00:15,  3.01s/it]"
     ]
    },
    {
     "name": "stdout",
     "output_type": "stream",
     "text": [
      "=======schedules=======\n",
      "('state', 0): ('povm', 0)\n",
      "('state', 0): ('povm', 1)\n",
      "('state', 0): ('povm', 2)\n",
      "=====================\n"
     ]
    },
    {
     "name": "stderr",
     "output_type": "stream",
     "text": [
      "\r",
      " 60%|██████    | 6/10 [00:21<00:15,  3.95s/it]"
     ]
    },
    {
     "name": "stdout",
     "output_type": "stream",
     "text": [
      "=======schedules=======\n",
      "('state', 0): ('povm', 0)\n",
      "('state', 0): ('povm', 1)\n",
      "('state', 0): ('povm', 2)\n",
      "=====================\n"
     ]
    },
    {
     "name": "stderr",
     "output_type": "stream",
     "text": [
      "\r",
      " 70%|███████   | 7/10 [00:30<00:16,  5.58s/it]"
     ]
    },
    {
     "name": "stdout",
     "output_type": "stream",
     "text": [
      "=======schedules=======\n",
      "('state', 0): ('povm', 0)\n",
      "('state', 0): ('povm', 1)\n",
      "('state', 0): ('povm', 2)\n",
      "=====================\n"
     ]
    },
    {
     "name": "stderr",
     "output_type": "stream",
     "text": [
      "\r",
      " 80%|████████  | 8/10 [00:31<00:08,  4.23s/it]"
     ]
    },
    {
     "name": "stdout",
     "output_type": "stream",
     "text": [
      "=======schedules=======\n",
      "('state', 0): ('povm', 0)\n",
      "('state', 0): ('povm', 1)\n",
      "('state', 0): ('povm', 2)\n",
      "=====================\n"
     ]
    },
    {
     "name": "stderr",
     "output_type": "stream",
     "text": [
      "\r",
      " 90%|█████████ | 9/10 [00:32<00:03,  3.24s/it]"
     ]
    },
    {
     "name": "stdout",
     "output_type": "stream",
     "text": [
      "=======schedules=======\n",
      "('state', 0): ('povm', 0)\n",
      "('state', 0): ('povm', 1)\n",
      "('state', 0): ('povm', 2)\n",
      "=====================\n"
     ]
    },
    {
     "name": "stderr",
     "output_type": "stream",
     "text": [
      "100%|██████████| 10/10 [00:33<00:00,  3.38s/it]\n",
      "100%|██████████| 10/10 [00:00<00:00, 12576.62it/s]\n",
      "100%|██████████| 10/10 [00:00<00:00, 7949.78it/s]\n"
     ]
    },
    {
     "name": "stdout",
     "output_type": "stream",
     "text": [
      "=======schedules=======\n",
      "('state', 0): ('povm', 0)\n",
      "('state', 0): ('povm', 1)\n",
      "('state', 0): ('povm', 2)\n",
      "=====================\n"
     ]
    },
    {
     "name": "stderr",
     "output_type": "stream",
     "text": [
      " 50%|█████     | 5/10 [00:00<00:00, 48.02it/s]"
     ]
    },
    {
     "name": "stdout",
     "output_type": "stream",
     "text": [
      "=======schedules=======\n",
      "('state', 0): ('povm', 0)\n",
      "('state', 0): ('povm', 1)\n",
      "('state', 0): ('povm', 2)\n",
      "=====================\n",
      "=======schedules=======\n",
      "('state', 0): ('povm', 0)\n",
      "('state', 0): ('povm', 1)\n",
      "('state', 0): ('povm', 2)\n",
      "=====================\n",
      "=======schedules=======\n",
      "('state', 0): ('povm', 0)\n",
      "('state', 0): ('povm', 1)\n",
      "('state', 0): ('povm', 2)\n",
      "=====================\n",
      "=======schedules=======\n",
      "('state', 0): ('povm', 0)\n",
      "('state', 0): ('povm', 1)\n",
      "('state', 0): ('povm', 2)\n",
      "=====================\n",
      "=======schedules=======\n",
      "('state', 0): ('povm', 0)\n",
      "('state', 0): ('povm', 1)\n",
      "('state', 0): ('povm', 2)\n",
      "=====================\n",
      "=======schedules=======\n",
      "('state', 0): ('povm', 0)\n",
      "('state', 0): ('povm', 1)\n",
      "('state', 0): ('povm', 2)\n",
      "=====================\n",
      "=======schedules=======\n",
      "('state', 0): ('povm', 0)\n",
      "('state', 0): ('povm', 1)\n",
      "('state', 0): ('povm', 2)\n",
      "=====================\n",
      "=======schedules=======\n",
      "('state', 0): ('povm', 0)\n",
      "('state', 0): ('povm', 1)\n",
      "('state', 0): ('povm', 2)\n",
      "=====================\n",
      "=======schedules=======\n",
      "('state', 0): ('povm', 0)\n",
      "('state', 0): ('povm', 1)\n",
      "('state', 0): ('povm', 2)\n",
      "=====================\n",
      "=======schedules=======\n",
      "('state', 0): ('povm', 0)\n",
      "('state', 0): ('povm', 1)\n",
      "('state', 0): ('povm', 2)\n",
      "=====================\n"
     ]
    },
    {
     "name": "stderr",
     "output_type": "stream",
     "text": [
      "100%|██████████| 10/10 [00:00<00:00, 46.12it/s]\n",
      "  0%|          | 0/10 [00:00<?, ?it/s]"
     ]
    },
    {
     "name": "stdout",
     "output_type": "stream",
     "text": [
      "========== Summary ============\n",
      "Name: Maximum-Likelihood (False)\n",
      "MSE of Empirical Distributions: \u001b[32mOK\u001b[0m\n",
      "Consistency: \u001b[31mNG\u001b[0m (to_be_checked=False)\n",
      "MSE of estimators: \u001b[31mNG\u001b[0m\n",
      "Physicality Violation: \u001b[32mOK\u001b[0m\n",
      "===============================\n",
      "Total Result: \u001b[31mNG\u001b[0m\n",
      "Case 6: Least Squares (True)\n",
      "=======schedules=======\n",
      "('state', 0): ('povm', 0)\n",
      "('state', 0): ('povm', 1)\n",
      "('state', 0): ('povm', 2)\n",
      "=====================\n"
     ]
    },
    {
     "name": "stderr",
     "output_type": "stream",
     "text": [
      "\r",
      " 10%|█         | 1/10 [00:00<00:02,  3.47it/s]"
     ]
    },
    {
     "name": "stdout",
     "output_type": "stream",
     "text": [
      "=======schedules=======\n",
      "('state', 0): ('povm', 0)\n",
      "('state', 0): ('povm', 1)\n",
      "('state', 0): ('povm', 2)\n",
      "=====================\n"
     ]
    },
    {
     "name": "stderr",
     "output_type": "stream",
     "text": [
      "\r",
      " 20%|██        | 2/10 [00:00<00:02,  3.34it/s]"
     ]
    },
    {
     "name": "stdout",
     "output_type": "stream",
     "text": [
      "=======schedules=======\n",
      "('state', 0): ('povm', 0)\n",
      "('state', 0): ('povm', 1)\n",
      "('state', 0): ('povm', 2)\n",
      "=====================\n"
     ]
    },
    {
     "name": "stderr",
     "output_type": "stream",
     "text": [
      "\r",
      " 30%|███       | 3/10 [00:00<00:02,  3.50it/s]"
     ]
    },
    {
     "name": "stdout",
     "output_type": "stream",
     "text": [
      "=======schedules=======\n",
      "('state', 0): ('povm', 0)\n",
      "('state', 0): ('povm', 1)\n",
      "('state', 0): ('povm', 2)\n",
      "=====================\n"
     ]
    },
    {
     "name": "stderr",
     "output_type": "stream",
     "text": [
      " 50%|█████     | 5/10 [00:01<00:01,  4.00it/s]"
     ]
    },
    {
     "name": "stdout",
     "output_type": "stream",
     "text": [
      "=======schedules=======\n",
      "('state', 0): ('povm', 0)\n",
      "('state', 0): ('povm', 1)\n",
      "('state', 0): ('povm', 2)\n",
      "=====================\n",
      "=======schedules=======\n",
      "('state', 0): ('povm', 0)\n",
      "('state', 0): ('povm', 1)\n",
      "('state', 0): ('povm', 2)\n",
      "=====================\n"
     ]
    },
    {
     "name": "stderr",
     "output_type": "stream",
     "text": [
      "\r",
      " 60%|██████    | 6/10 [00:01<00:00,  4.25it/s]"
     ]
    },
    {
     "name": "stdout",
     "output_type": "stream",
     "text": [
      "=======schedules=======\n",
      "('state', 0): ('povm', 0)\n",
      "('state', 0): ('povm', 1)\n",
      "('state', 0): ('povm', 2)\n",
      "=====================\n"
     ]
    },
    {
     "name": "stderr",
     "output_type": "stream",
     "text": [
      "\r",
      " 70%|███████   | 7/10 [00:01<00:00,  4.32it/s]"
     ]
    },
    {
     "name": "stdout",
     "output_type": "stream",
     "text": [
      "=======schedules=======\n",
      "('state', 0): ('povm', 0)\n",
      "('state', 0): ('povm', 1)\n",
      "('state', 0): ('povm', 2)\n",
      "=====================\n"
     ]
    },
    {
     "name": "stderr",
     "output_type": "stream",
     "text": [
      "\r",
      " 80%|████████  | 8/10 [00:01<00:00,  4.34it/s]"
     ]
    },
    {
     "name": "stdout",
     "output_type": "stream",
     "text": [
      "=======schedules=======\n",
      "('state', 0): ('povm', 0)\n",
      "('state', 0): ('povm', 1)\n",
      "('state', 0): ('povm', 2)\n",
      "=====================\n"
     ]
    },
    {
     "name": "stderr",
     "output_type": "stream",
     "text": [
      "\r",
      " 90%|█████████ | 9/10 [00:02<00:00,  4.10it/s]"
     ]
    },
    {
     "name": "stdout",
     "output_type": "stream",
     "text": [
      "=======schedules=======\n",
      "('state', 0): ('povm', 0)\n",
      "('state', 0): ('povm', 1)\n",
      "('state', 0): ('povm', 2)\n",
      "=====================\n"
     ]
    },
    {
     "name": "stderr",
     "output_type": "stream",
     "text": [
      "100%|██████████| 10/10 [00:02<00:00,  3.84it/s]\n",
      "100%|██████████| 10/10 [00:00<00:00, 18893.26it/s]\n",
      "100%|██████████| 10/10 [00:00<00:00, 10538.45it/s]\n"
     ]
    },
    {
     "name": "stdout",
     "output_type": "stream",
     "text": [
      "=======schedules=======\n",
      "('state', 0): ('povm', 0)\n",
      "('state', 0): ('povm', 1)\n",
      "('state', 0): ('povm', 2)\n",
      "=====================\n"
     ]
    },
    {
     "name": "stderr",
     "output_type": "stream",
     "text": [
      "/Users/tomoko/project/rcast/workspace/quara/quara/data_analysis/simulation_check.py:176: UserWarning:\n",
      "\n",
      "Estimator MSE is not checked except for LinearEstimator, ProjectedLinearEstimator, Maximum-likelihood.\n",
      "\n",
      "\r",
      "  0%|          | 0/10 [00:00<?, ?it/s]"
     ]
    },
    {
     "name": "stdout",
     "output_type": "stream",
     "text": [
      "========== Summary ============\n",
      "Name: Least Squares (True)\n",
      "MSE of Empirical Distributions: \u001b[32mOK\u001b[0m\n",
      "Consistency: \u001b[32mOK\u001b[0m (to_be_checked=False)\n",
      "MSE of estimators: \u001b[32mOK\u001b[0m\n",
      "Physicality Violation: \u001b[32mOK\u001b[0m\n",
      "===============================\n",
      "Case 7: Least Squares (False)\n",
      "=======schedules=======\n",
      "('state', 0): ('povm', 0)\n",
      "('state', 0): ('povm', 1)\n",
      "('state', 0): ('povm', 2)\n",
      "=====================\n"
     ]
    },
    {
     "name": "stderr",
     "output_type": "stream",
     "text": [
      "\r",
      " 10%|█         | 1/10 [00:00<00:02,  3.81it/s]"
     ]
    },
    {
     "name": "stdout",
     "output_type": "stream",
     "text": [
      "=======schedules=======\n",
      "('state', 0): ('povm', 0)\n",
      "('state', 0): ('povm', 1)\n",
      "('state', 0): ('povm', 2)\n",
      "=====================\n"
     ]
    },
    {
     "name": "stderr",
     "output_type": "stream",
     "text": [
      "\r",
      " 20%|██        | 2/10 [00:00<00:02,  3.75it/s]"
     ]
    },
    {
     "name": "stdout",
     "output_type": "stream",
     "text": [
      "=======schedules=======\n",
      "('state', 0): ('povm', 0)\n",
      "('state', 0): ('povm', 1)\n",
      "('state', 0): ('povm', 2)\n",
      "=====================\n"
     ]
    },
    {
     "name": "stderr",
     "output_type": "stream",
     "text": [
      "\r",
      " 30%|███       | 3/10 [00:00<00:01,  3.72it/s]"
     ]
    },
    {
     "name": "stdout",
     "output_type": "stream",
     "text": [
      "=======schedules=======\n",
      "('state', 0): ('povm', 0)\n",
      "('state', 0): ('povm', 1)\n",
      "('state', 0): ('povm', 2)\n",
      "=====================\n"
     ]
    },
    {
     "name": "stderr",
     "output_type": "stream",
     "text": [
      "\r",
      " 40%|████      | 4/10 [00:01<00:01,  3.81it/s]"
     ]
    },
    {
     "name": "stdout",
     "output_type": "stream",
     "text": [
      "=======schedules=======\n",
      "('state', 0): ('povm', 0)\n",
      "('state', 0): ('povm', 1)\n",
      "('state', 0): ('povm', 2)\n",
      "=====================\n"
     ]
    },
    {
     "name": "stderr",
     "output_type": "stream",
     "text": [
      "\r",
      " 50%|█████     | 5/10 [00:01<00:01,  3.58it/s]"
     ]
    },
    {
     "name": "stdout",
     "output_type": "stream",
     "text": [
      "=======schedules=======\n",
      "('state', 0): ('povm', 0)\n",
      "('state', 0): ('povm', 1)\n",
      "('state', 0): ('povm', 2)\n",
      "=====================\n"
     ]
    },
    {
     "name": "stderr",
     "output_type": "stream",
     "text": [
      "\r",
      " 60%|██████    | 6/10 [00:01<00:01,  3.39it/s]"
     ]
    },
    {
     "name": "stdout",
     "output_type": "stream",
     "text": [
      "=======schedules=======\n",
      "('state', 0): ('povm', 0)\n",
      "('state', 0): ('povm', 1)\n",
      "('state', 0): ('povm', 2)\n",
      "=====================\n"
     ]
    },
    {
     "name": "stderr",
     "output_type": "stream",
     "text": [
      "\r",
      " 70%|███████   | 7/10 [00:01<00:00,  3.66it/s]"
     ]
    },
    {
     "name": "stdout",
     "output_type": "stream",
     "text": [
      "=======schedules=======\n",
      "('state', 0): ('povm', 0)\n",
      "('state', 0): ('povm', 1)\n",
      "('state', 0): ('povm', 2)\n",
      "=====================\n"
     ]
    },
    {
     "name": "stderr",
     "output_type": "stream",
     "text": [
      "\r",
      " 80%|████████  | 8/10 [00:02<00:00,  3.69it/s]"
     ]
    },
    {
     "name": "stdout",
     "output_type": "stream",
     "text": [
      "=======schedules=======\n",
      "('state', 0): ('povm', 0)\n",
      "('state', 0): ('povm', 1)\n",
      "('state', 0): ('povm', 2)\n",
      "=====================\n"
     ]
    },
    {
     "name": "stderr",
     "output_type": "stream",
     "text": [
      "\r",
      " 90%|█████████ | 9/10 [00:02<00:00,  3.65it/s]"
     ]
    },
    {
     "name": "stdout",
     "output_type": "stream",
     "text": [
      "=======schedules=======\n",
      "('state', 0): ('povm', 0)\n",
      "('state', 0): ('povm', 1)\n",
      "('state', 0): ('povm', 2)\n",
      "=====================\n"
     ]
    },
    {
     "name": "stderr",
     "output_type": "stream",
     "text": [
      "100%|██████████| 10/10 [00:02<00:00,  3.65it/s]\n",
      "100%|██████████| 10/10 [00:00<00:00, 12271.22it/s]\n",
      "100%|██████████| 10/10 [00:00<00:00, 6992.84it/s]\n"
     ]
    },
    {
     "name": "stdout",
     "output_type": "stream",
     "text": [
      "=======schedules=======\n",
      "('state', 0): ('povm', 0)\n",
      "('state', 0): ('povm', 1)\n",
      "('state', 0): ('povm', 2)\n",
      "=====================\n",
      "========== Summary ============\n",
      "Name: Least Squares (False)\n",
      "MSE of Empirical Distributions: \u001b[32mOK\u001b[0m\n",
      "Consistency: \u001b[32mOK\u001b[0m (to_be_checked=False)\n",
      "MSE of estimators: \u001b[32mOK\u001b[0m\n",
      "Physicality Violation: \u001b[32mOK\u001b[0m\n",
      "===============================\n",
      "Completed to write csv. result/1/1/check_result.csv\n",
      "total_results=[True, True, False, False, False, False, True, True]\n",
      "False\n",
      "​Generating table of computation time ...\n",
      "​Generating table of tolerance of physicality constraint violation ...\n",
      "​Generating table of experimental conditions ...\n",
      "Generating case list ...\n",
      "Computation time of estimators ...\n"
     ]
    },
    {
     "name": "stderr",
     "output_type": "stream",
     "text": [
      "100%|██████████| 10/10 [00:00<00:00, 14974.31it/s]\n",
      "100%|██████████| 10/10 [00:00<00:00, 14184.32it/s]"
     ]
    },
    {
     "name": "stdout",
     "output_type": "stream",
     "text": [
      "​​Generating MSE of empirical distributions blocks ...\n"
     ]
    },
    {
     "name": "stderr",
     "output_type": "stream",
     "text": [
      "\n"
     ]
    },
    {
     "name": "stdout",
     "output_type": "stream",
     "text": [
      "​​Generating consictency test blocks ...\n",
      "=======schedules=======\n",
      "('state', 0): ('povm', 0)\n",
      "('state', 0): ('povm', 1)\n",
      "('state', 0): ('povm', 2)\n",
      "=====================\n",
      "=======schedules=======\n",
      "('state', 0): ('povm', 0)\n",
      "('state', 0): ('povm', 1)\n",
      "('state', 0): ('povm', 2)\n",
      "=====================\n",
      "=======schedules=======\n",
      "('state', 0): ('povm', 0)\n",
      "('state', 0): ('povm', 1)\n",
      "('state', 0): ('povm', 2)\n",
      "=====================\n",
      "=======schedules=======\n",
      "('state', 0): ('povm', 0)\n",
      "('state', 0): ('povm', 1)\n",
      "('state', 0): ('povm', 2)\n",
      "=====================\n",
      "=======schedules=======\n",
      "('state', 0): ('povm', 0)\n",
      "('state', 0): ('povm', 1)\n",
      "('state', 0): ('povm', 2)\n",
      "=====================\n",
      "=======schedules=======\n",
      "('state', 0): ('povm', 0)\n",
      "('state', 0): ('povm', 1)\n",
      "('state', 0): ('povm', 2)\n",
      "=====================\n",
      "=======schedules=======\n",
      "('state', 0): ('povm', 0)\n",
      "('state', 0): ('povm', 1)\n",
      "('state', 0): ('povm', 2)\n",
      "=====================\n",
      "=======schedules=======\n",
      "('state', 0): ('povm', 0)\n",
      "('state', 0): ('povm', 1)\n",
      "('state', 0): ('povm', 2)\n",
      "=====================\n",
      "=======schedules=======\n",
      "('state', 0): ('povm', 0)\n",
      "('state', 0): ('povm', 1)\n",
      "('state', 0): ('povm', 2)\n",
      "=====================\n",
      "=======schedules=======\n",
      "('state', 0): ('povm', 0)\n",
      "('state', 0): ('povm', 1)\n",
      "('state', 0): ('povm', 2)\n",
      "=====================\n",
      "=======schedules=======\n",
      "('state', 0): ('povm', 0)\n",
      "('state', 0): ('povm', 1)\n",
      "('state', 0): ('povm', 2)\n",
      "=====================\n",
      "=======schedules=======\n",
      "('state', 0): ('povm', 0)\n",
      "('state', 0): ('povm', 1)\n",
      "('state', 0): ('povm', 2)\n",
      "=====================\n"
     ]
    }
   ],
   "source": [
    "# QOperationGenerationSettingから、qoperationのサンプルをn_sample個作る\n",
    "root_dir = \"result\"\n",
    "all_results = []\n",
    "for test_setting_index, test_setting in enumerate(test_settings):\n",
    "    test_results= execute_simulation_test_setting_unit(test_setting, root_dir, pdf_mode=\"only_ng\")\n",
    "    all_results += test_results\n",
    "    \n",
    "write_results(all_results, root_dir)"
   ]
  },
  {
   "cell_type": "code",
   "execution_count": null,
   "metadata": {},
   "outputs": [],
   "source": []
  },
  {
   "cell_type": "code",
   "execution_count": null,
   "metadata": {},
   "outputs": [],
   "source": []
  },
  {
   "cell_type": "code",
   "execution_count": null,
   "metadata": {},
   "outputs": [],
   "source": []
  },
  {
   "cell_type": "code",
   "execution_count": null,
   "metadata": {},
   "outputs": [],
   "source": []
  },
  {
   "cell_type": "code",
   "execution_count": null,
   "metadata": {},
   "outputs": [],
   "source": []
  },
  {
   "cell_type": "code",
   "execution_count": null,
   "metadata": {},
   "outputs": [],
   "source": []
  },
  {
   "cell_type": "code",
   "execution_count": null,
   "metadata": {},
   "outputs": [],
   "source": []
  },
  {
   "cell_type": "code",
   "execution_count": 6,
   "metadata": {},
   "outputs": [],
   "source": [
    "# setup system\n",
    "e_sys = ElementalSystem(0, get_normalized_pauli_basis())\n",
    "c_sys = CompositeSystem([e_sys])\n",
    "\n",
    "povm_x = get_x_povm(c_sys)\n",
    "povm_y = get_y_povm(c_sys)\n",
    "povm_z = get_z_povm(c_sys)\n",
    "tester_objects = [povm_x, povm_y, povm_z]"
   ]
  },
  {
   "cell_type": "code",
   "execution_count": 95,
   "metadata": {},
   "outputs": [
    {
     "data": {
      "text/plain": [
       "[[(100, array([0.51, 0.49])),\n",
       "  (100, array([0.55, 0.45])),\n",
       "  (100, array([0.91, 0.09]))],\n",
       " [(1000, array([0.489, 0.511])),\n",
       "  (1000, array([0.501, 0.499])),\n",
       "  (1000, array([0.9, 0.1]))]]"
      ]
     },
     "execution_count": 95,
     "metadata": {},
     "output_type": "execute_result"
    }
   ],
   "source": []
  },
  {
   "cell_type": "code",
   "execution_count": null,
   "metadata": {},
   "outputs": [],
   "source": []
  },
  {
   "cell_type": "code",
   "execution_count": 22,
   "metadata": {},
   "outputs": [
    {
     "ename": "NameError",
     "evalue": "name 'simulation_setting' is not defined",
     "output_type": "error",
     "traceback": [
      "\u001b[0;31m---------------------------------------------------------------------------\u001b[0m",
      "\u001b[0;31mNameError\u001b[0m                                 Traceback (most recent call last)",
      "\u001b[0;32m<ipython-input-22-38d9fb2c62ec>\u001b[0m in \u001b[0;36m<module>\u001b[0;34m\u001b[0m\n\u001b[0;32m----> 1\u001b[0;31m \u001b[0msimulation_setting\u001b[0m\u001b[0;34m\u001b[0m\u001b[0;34m\u001b[0m\u001b[0m\n\u001b[0m",
      "\u001b[0;31mNameError\u001b[0m: name 'simulation_setting' is not defined"
     ]
    }
   ],
   "source": [
    "simulation_setting"
   ]
  },
  {
   "cell_type": "code",
   "execution_count": null,
   "metadata": {},
   "outputs": [],
   "source": []
  },
  {
   "cell_type": "code",
   "execution_count": null,
   "metadata": {},
   "outputs": [],
   "source": []
  },
  {
   "cell_type": "code",
   "execution_count": null,
   "metadata": {},
   "outputs": [],
   "source": []
  },
  {
   "cell_type": "code",
   "execution_count": null,
   "metadata": {},
   "outputs": [],
   "source": []
  },
  {
   "cell_type": "code",
   "execution_count": null,
   "metadata": {},
   "outputs": [],
   "source": []
  },
  {
   "cell_type": "code",
   "execution_count": null,
   "metadata": {},
   "outputs": [],
   "source": []
  },
  {
   "cell_type": "code",
   "execution_count": 7,
   "metadata": {},
   "outputs": [
    {
     "data": {
      "text/plain": [
       "array([0.70710678, 0.40824829, 0.40824829, 0.40824829])"
      ]
     },
     "execution_count": 7,
     "metadata": {},
     "output_type": "execute_result"
    }
   ],
   "source": [
    "# Case 1:\n",
    "# true_object = get_z0_1q(c_sys)\n",
    "\n",
    "# Case 2:\n",
    "vec = np.array([1/np.sqrt(2), 1/np.sqrt(6), 1/np.sqrt(6), 1/np.sqrt(6)],dtype=np.float64)\n",
    "true_object = State(c_sys, vec)\n",
    "\n",
    "# Case 3:\n",
    "# vec = np.array([1 / np.sqrt(2), 0, 0, 0], dtype=np.float64)\n",
    "# true_object = State(c_sys, vec)\n",
    "\n",
    "true_object.vec"
   ]
  },
  {
   "cell_type": "code",
   "execution_count": 8,
   "metadata": {
    "tags": []
   },
   "outputs": [
    {
     "name": "stderr",
     "output_type": "stream",
     "text": [
      "\r",
      "  0%|          | 0/1000 [00:00<?, ?it/s]"
     ]
    },
    {
     "name": "stdout",
     "output_type": "stream",
     "text": [
      "Case 0: Linear(True)\n",
      "Parametorization: True\n",
      "Type of qtomography: StandardQst\n",
      "Estimator: LinearEstimator\n"
     ]
    },
    {
     "name": "stderr",
     "output_type": "stream",
     "text": [
      "100%|██████████| 1000/1000 [00:12<00:00, 80.85it/s]\n",
      "  1%|          | 9/1000 [00:00<00:11, 85.75it/s]"
     ]
    },
    {
     "name": "stdout",
     "output_type": "stream",
     "text": [
      "elapsed_time:0.20819623470306398[min]\n",
      "\n",
      "Case 1: Linear(False)\n",
      "Parametorization: False\n",
      "Type of qtomography: StandardQst\n",
      "Estimator: LinearEstimator\n"
     ]
    },
    {
     "name": "stderr",
     "output_type": "stream",
     "text": [
      "100%|██████████| 1000/1000 [00:11<00:00, 85.17it/s]\n",
      "  0%|          | 4/1000 [00:00<00:27, 36.55it/s]"
     ]
    },
    {
     "name": "stdout",
     "output_type": "stream",
     "text": [
      "elapsed_time:0.1957931359608968[min]\n",
      "\n",
      "Case 2: ProjectedLinear(True)\n",
      "Parametorization: True\n",
      "Type of qtomography: StandardQst\n",
      "Estimator: ProjectedLinearEstimator\n"
     ]
    },
    {
     "name": "stderr",
     "output_type": "stream",
     "text": [
      "100%|██████████| 1000/1000 [00:29<00:00, 34.21it/s]\n",
      "  0%|          | 5/1000 [00:00<00:22, 44.82it/s]"
     ]
    },
    {
     "name": "stdout",
     "output_type": "stream",
     "text": [
      "elapsed_time:0.48731619914372765[min]\n",
      "\n",
      "Case 3: ProjectedLinear(False)\n",
      "Parametorization: False\n",
      "Type of qtomography: StandardQst\n",
      "Estimator: ProjectedLinearEstimator\n"
     ]
    },
    {
     "name": "stderr",
     "output_type": "stream",
     "text": [
      "100%|██████████| 1000/1000 [00:22<00:00, 44.32it/s]\n",
      "  0%|          | 0/1000 [00:00<?, ?it/s]"
     ]
    },
    {
     "name": "stdout",
     "output_type": "stream",
     "text": [
      "elapsed_time:0.3761790990829468[min]\n",
      "\n",
      "Case 4: Maximum-Likelihood(True)\n",
      "Parametorization: True\n",
      "Type of qtomography: StandardQst\n",
      "Estimator: LossMinimizationEstimator\n"
     ]
    },
    {
     "name": "stderr",
     "output_type": "stream",
     "text": [
      "100%|██████████| 1000/1000 [09:54<00:00,  1.68it/s]\n",
      "  0%|          | 1/1000 [00:00<06:04,  2.74it/s]"
     ]
    },
    {
     "name": "stdout",
     "output_type": "stream",
     "text": [
      "elapsed_time:9.903420118490855[min]\n",
      "\n",
      "Case 5: Maximum-Likelihood(False)\n",
      "Parametorization: False\n",
      "Type of qtomography: StandardQst\n",
      "Estimator: LossMinimizationEstimator\n"
     ]
    },
    {
     "name": "stderr",
     "output_type": "stream",
     "text": [
      "100%|██████████| 1000/1000 [08:53<00:00,  1.88it/s]\n",
      "  0%|          | 1/1000 [00:00<01:45,  9.46it/s]"
     ]
    },
    {
     "name": "stdout",
     "output_type": "stream",
     "text": [
      "elapsed_time:8.888639851411183[min]\n",
      "\n",
      "Case 6: Least Squares(True)\n",
      "Parametorization: True\n",
      "Type of qtomography: StandardQst\n",
      "Estimator: LossMinimizationEstimator\n"
     ]
    },
    {
     "name": "stderr",
     "output_type": "stream",
     "text": [
      "100%|██████████| 1000/1000 [01:41<00:00,  9.82it/s]\n",
      "  0%|          | 1/1000 [00:00<02:10,  7.64it/s]"
     ]
    },
    {
     "name": "stdout",
     "output_type": "stream",
     "text": [
      "elapsed_time:1.6980049331982932[min]\n",
      "\n",
      "Case 7: Least Squares(False)\n",
      "Parametorization: False\n",
      "Type of qtomography: StandardQst\n",
      "Estimator: LossMinimizationEstimator\n"
     ]
    },
    {
     "name": "stderr",
     "output_type": "stream",
     "text": [
      "100%|██████████| 1000/1000 [02:29<00:00,  6.71it/s]\n"
     ]
    },
    {
     "name": "stdout",
     "output_type": "stream",
     "text": [
      "elapsed_time:2.4838359196980795[min]\n",
      "\n"
     ]
    }
   ],
   "source": [
    "num_data = [100, 1000]\n",
    "n_rep = 1000\n",
    "\n",
    "case_name_list = [\n",
    "    \"Linear(True)\",\n",
    "    \"Linear(False)\",\n",
    "    \"ProjectedLinear(True)\",\n",
    "    \"ProjectedLinear(False)\",\n",
    "    \"Maximum-Likelihood(True)\",\n",
    "    \"Maximum-Likelihood(False)\",\n",
    "    \"Least Squares(True)\",\n",
    "    \"Least Squares(False)\",\n",
    "]\n",
    "\n",
    "seed = 777\n",
    "qtomography_list = [\n",
    "    StandardQst(tester_objects, on_para_eq_constraint=True, seed=seed),\n",
    "    StandardQst(tester_objects, on_para_eq_constraint=False, seed=seed),\n",
    "    StandardQst(tester_objects, on_para_eq_constraint=True, seed=seed),\n",
    "    StandardQst(tester_objects, on_para_eq_constraint=False, seed=seed),\n",
    "    StandardQst(\n",
    "        tester_objects,\n",
    "        on_para_eq_constraint=True,\n",
    "        eps_proj_physical=Settings.get_atol(),\n",
    "        seed=seed,\n",
    "    ),\n",
    "    StandardQst(\n",
    "        tester_objects,\n",
    "        on_para_eq_constraint=False,\n",
    "        eps_proj_physical=Settings.get_atol(),\n",
    "        seed=seed,\n",
    "    ),\n",
    "    StandardQst(\n",
    "        tester_objects,\n",
    "        on_para_eq_constraint=True,\n",
    "        eps_proj_physical=Settings.get_atol(),\n",
    "        seed=seed,\n",
    "    ),\n",
    "    StandardQst(\n",
    "        tester_objects,\n",
    "        on_para_eq_constraint=False,\n",
    "        eps_proj_physical=Settings.get_atol(),\n",
    "        seed=seed,\n",
    "    ),\n",
    "]\n",
    "para_list = [\n",
    "    True,\n",
    "    False,\n",
    "    True,\n",
    "    False,\n",
    "    True,\n",
    "    False,\n",
    "    True,\n",
    "    False,\n",
    "]\n",
    "\n",
    "estimator_list = [\n",
    "    LinearEstimator(),\n",
    "    LinearEstimator(),\n",
    "    ProjectedLinearEstimator(),\n",
    "    ProjectedLinearEstimator(),\n",
    "    LossMinimizationEstimator(),\n",
    "    LossMinimizationEstimator(),\n",
    "    LossMinimizationEstimator(),\n",
    "    LossMinimizationEstimator(),\n",
    "]\n",
    "\n",
    "loss_list = [\n",
    "    None,\n",
    "    None,\n",
    "    None,\n",
    "    None,\n",
    "    WeightedRelativeEntropy(3),\n",
    "    WeightedRelativeEntropy(4),\n",
    "    WeightedProbabilityBasedSquaredError(3),\n",
    "    WeightedProbabilityBasedSquaredError(4),\n",
    "]\n",
    "\n",
    "loss_option_list = [\n",
    "    None,\n",
    "    None,\n",
    "    None,\n",
    "    None,\n",
    "    WeightedRelativeEntropyOption(\"identity\"),\n",
    "    WeightedRelativeEntropyOption(\"identity\"),\n",
    "    WeightedProbabilityBasedSquaredErrorOption(\"identity\"),\n",
    "    WeightedProbabilityBasedSquaredErrorOption(\"identity\"),\n",
    "]\n",
    "\n",
    "algo_list = [\n",
    "    None,\n",
    "    None,\n",
    "    None,\n",
    "    None,\n",
    "    ProjectedGradientDescentBacktracking(),\n",
    "    ProjectedGradientDescentBacktracking(),\n",
    "    ProjectedGradientDescentBacktracking(),\n",
    "    ProjectedGradientDescentBacktracking(),\n",
    "]\n",
    "\n",
    "algo_option_list = [\n",
    "    None,\n",
    "    None,\n",
    "    None,\n",
    "    None,\n",
    "    ProjectedGradientDescentBacktrackingOption(),\n",
    "    ProjectedGradientDescentBacktrackingOption(),\n",
    "    ProjectedGradientDescentBacktrackingOption(),\n",
    "    ProjectedGradientDescentBacktrackingOption(),\n",
    "]\n",
    "\n",
    "estimation_results_list = []\n",
    "elapsed_times = []\n",
    "simulation_settings = []\n",
    "\n",
    "for i, name in enumerate(case_name_list):\n",
    "    qtomography = qtomography_list[i]\n",
    "    estimator = estimator_list[i]\n",
    "    loss = loss_list[i]\n",
    "    loss_option = loss_option_list[i]\n",
    "    algo = algo_list[i]\n",
    "    algo_option = algo_option_list[i]\n",
    "\n",
    "    start = time.time()\n",
    "    print(f\"Case {i}: {name}\")\n",
    "    print(f\"Parametorization: {para_list[i]}\")\n",
    "    print(f\"Type of qtomography: {qtomography.__class__.__name__}\")\n",
    "    print(f\"Estimator: {estimator.__class__.__name__}\")\n",
    "\n",
    "    estimation_results = data_analysis.execute_simulation(qtomography=qtomography, simulation_setting=simulation_setting)\n",
    "    estimation_results_list.append(estimation_results)\n",
    "\n",
    "    # stock settings of this simulation\n",
    "    simulation_setting = StandardQTomographySimulationSetting(\n",
    "        name=name,\n",
    "        true_object=true_object,\n",
    "        tester_objects=tester_objects,\n",
    "        estimator=estimator,\n",
    "        loss=loss,\n",
    "        loss_option=loss_option,\n",
    "        algo=algo,\n",
    "        algo_option=algo_option,\n",
    "    )\n",
    "    simulation_settings.append(simulation_setting)\n",
    "\n",
    "    elapsed_time = time.time() - start\n",
    "    print(\"elapsed_time:{0}\".format(elapsed_time / 60) + \"[min]\\n\")\n",
    "    elapsed_times.append(elapsed_time)"
   ]
  },
  {
   "cell_type": "code",
   "execution_count": 9,
   "metadata": {
    "scrolled": false,
    "tags": [
     "outputPrepend"
    ]
   },
   "outputs": [
    {
     "name": "stdout",
     "output_type": "stream",
     "text": [
      "​Generating table of computation time ...\n",
      "​Generating table of tolerance of physicality constraint violation ...\n",
      "​Generating table of experimental conditions ...\n",
      "Generating case list ...\n",
      "Computation time of estimators ...\n"
     ]
    },
    {
     "name": "stderr",
     "output_type": "stream",
     "text": [
      "100%|██████████| 1000/1000 [00:00<00:00, 115370.76it/s]\n",
      "100%|██████████| 1000/1000 [00:00<00:00, 175405.82it/s]"
     ]
    },
    {
     "name": "stdout",
     "output_type": "stream",
     "text": [
      "​​Generating MSE of empirical distributions blocks ...\n"
     ]
    },
    {
     "name": "stderr",
     "output_type": "stream",
     "text": [
      "\n"
     ]
    },
    {
     "name": "stdout",
     "output_type": "stream",
     "text": [
      "​​Generating consictency test blocks ...\n",
      "​Generating a graph for MSE ...\n",
      "  Linear(True)=[0.009929648467459593, 0.0010292166444478218]\n",
      "  Linear(False)=[0.009930903279026853, 0.0010002055818730709]\n",
      "  ProjectedLinear(True)=[0.007628986960280322, 0.0008336141767192117]\n",
      "  ProjectedLinear(False)=[0.00773715441575743, 0.000816657724263995]\n",
      "  Maximum-Likelihood(True)=[0.008499421341326589, 0.0008414304279898206]\n",
      "  Maximum-Likelihood(False)=[0.008167519972991207, 0.0008395604755059923]\n",
      "  Least Squares(True)=[0.007995055665783955, 0.0007773434372293063]\n",
      "  Least Squares(False)=[0.007853440311890569, 0.0008198814867697979]\n",
      "  Linear(True)=[0.009929648467459593, 0.0010292166444478218]\n",
      "  ProjectedLinear(True)=[0.007628986960280322, 0.0008336141767192117]\n",
      "  Maximum-Likelihood(True)=[0.008499421341326589, 0.0008414304279898206]\n",
      "  Least Squares(True)=[0.007995055665783955, 0.0007773434372293063]\n",
      "  Linear(False)=[0.009930903279026853, 0.0010002055818730709]\n",
      "  ProjectedLinear(False)=[0.00773715441575743, 0.000816657724263995]\n",
      "  Maximum-Likelihood(False)=[0.008167519972991207, 0.0008395604755059923]\n",
      "  Least Squares(False)=[0.007853440311890569, 0.0008198814867697979]\n",
      "​​Generating physicality violation test blocks ...\n"
     ]
    },
    {
     "name": "stderr",
     "output_type": "stream",
     "text": [
      "100%|██████████| 1000/1000 [00:00<00:00, 7262.76it/s]\n",
      "100%|██████████| 1000/1000 [00:00<00:00, 6944.44it/s]\n",
      "100%|██████████| 1000/1000 [00:00<00:00, 5896.51it/s]\n",
      "100%|██████████| 1000/1000 [00:00<00:00, 7087.88it/s]\n",
      "100%|██████████| 1000/1000 [00:00<00:00, 7186.29it/s]\n",
      "100%|██████████| 1000/1000 [00:00<00:00, 5714.61it/s]\n",
      "100%|██████████| 1000/1000 [00:00<00:00, 7743.10it/s]\n",
      "100%|██████████| 1000/1000 [00:00<00:00, 6890.46it/s]\n",
      "100%|██████████| 1000/1000 [00:00<00:00, 6966.41it/s]\n",
      "100%|██████████| 1000/1000 [00:00<00:00, 6933.86it/s]\n",
      "100%|██████████| 1000/1000 [00:00<00:00, 6446.94it/s]\n",
      "100%|██████████| 1000/1000 [00:00<00:00, 7538.23it/s]\n",
      "100%|██████████| 1000/1000 [00:00<00:00, 6593.95it/s]\n",
      "100%|██████████| 1000/1000 [00:00<00:00, 7186.69it/s]\n",
      "100%|██████████| 1000/1000 [00:00<00:00, 6653.80it/s]\n",
      "100%|██████████| 1000/1000 [00:00<00:00, 6797.59it/s]\n",
      "100%|██████████| 1000/1000 [00:00<00:00, 7767.72it/s]\n",
      "100%|██████████| 1000/1000 [00:00<00:00, 8169.26it/s]\n",
      "100%|██████████| 1000/1000 [00:00<00:00, 8313.19it/s]\n",
      "100%|██████████| 1000/1000 [00:00<00:00, 8010.07it/s]\n",
      "100%|██████████| 1000/1000 [00:00<00:00, 7927.63it/s]\n",
      "100%|██████████| 1000/1000 [00:00<00:00, 3514.35it/s]\n",
      "100%|██████████| 1000/1000 [00:00<00:00, 6781.40it/s]\n",
      "100%|██████████| 1000/1000 [00:00<00:00, 6451.83it/s]\n",
      "100%|██████████| 1000/1000 [00:00<00:00, 8903.38it/s]\n",
      "100%|██████████| 1000/1000 [00:00<00:00, 7477.20it/s]\n",
      "100%|██████████| 1000/1000 [00:00<00:00, 8104.26it/s]\n",
      "100%|██████████| 1000/1000 [00:00<00:00, 8539.07it/s]\n",
      "100%|██████████| 1000/1000 [00:00<00:00, 8483.42it/s]\n",
      "100%|██████████| 1000/1000 [00:00<00:00, 9094.31it/s]\n",
      "100%|██████████| 1000/1000 [00:00<00:00, 8935.59it/s]\n",
      "100%|██████████| 1000/1000 [00:00<00:00, 8011.74it/s]\n"
     ]
    },
    {
     "name": "stdout",
     "output_type": "stream",
     "text": [
      "Converting to PDF report ...\n",
      "​Deleting temporary files ...\n",
      "Completed to export pdf. (qst_sample_case_2_軸から離れた表面_nrep=1000.pdf)\n"
     ]
    }
   ],
   "source": [
    "case_name = \"case_2_軸から離れた表面\"\n",
    "report.export_report(f\"qst_sample_{case_name}_nrep={n_rep}.pdf\",\n",
    "    estimation_results_list=estimation_results_list,   # 「EstimationResultのリスト」のリスト\n",
    "    simulation_settings= simulation_settings,\n",
    "    # true_object=true_object,  # True Object\n",
    "    # tester_objects = tester_objects,   # Tester Objectのリスト.\n",
    "    seed=seed,  # 推定で使ったseed（オプション）\n",
    "    tolerance=Settings.get_atol()\n",
    ")"
   ]
  },
  {
   "cell_type": "code",
   "execution_count": 10,
   "metadata": {},
   "outputs": [],
   "source": [
    "from quara.data_analysis.simulation_check import StandardQTomographySimulationCheck"
   ]
  },
  {
   "cell_type": "code",
   "execution_count": 12,
   "metadata": {},
   "outputs": [
    {
     "name": "stderr",
     "output_type": "stream",
     "text": [
      "100%|██████████| 1000/1000 [00:00<00:00, 88252.83it/s]\n",
      "100%|██████████| 1000/1000 [00:00<00:00, 183718.97it/s]\n",
      "/Users/tomoko/project/rcast/workspace/quara/quara/data_analysis/simulation_check.py:122: UserWarning:\n",
      "\n",
      "Estimator MSE is not checked except for LinearEstimator, ProjectedLinearEstimator, Maximum-likelihood.\n",
      "\n"
     ]
    },
    {
     "name": "stdout",
     "output_type": "stream",
     "text": [
      "[OK] N=100\n",
      "|MSE_EmpiDist - MSE_Analytical| = 4.203786964071532e-06\n",
      "eps = 0.024565513539877085\n",
      "[OK] N=1000\n",
      "|MSE_EmpiDist - MSE_Analytical| = 3.503762214336105e-06\n",
      "eps = 0.0024231444828227097\n",
      "[OK] Consistency Check\n",
      "result=1.9036745341808358e-16\n",
      "eps=1e-12\n",
      "result < eps: True\n",
      "[OK] N=100 is_eq_constraint_satisfied_all\n",
      "True=1000, False=0, eps=1e-13\n",
      "[OK] N=1000 is_eq_constraint_satisfied_all\n",
      "True=1000, False=0, eps=1e-13\n",
      "[OK] N=100 is_ineq_constraint_satisfied_all\n",
      "True=1000, False=0, eps=1e-09\n",
      "[OK] N=1000 is_ineq_constraint_satisfied_all\n",
      "True=1000, False=0, eps=1e-09\n",
      "========== Summary ============\n",
      "Name: Least Squares(False)\n",
      "MSE of Empirical Distributions: \u001b[32mOK\u001b[0m\n",
      "Consistency: \u001b[32mOK\u001b[0m\n",
      "MSE of estimators: \u001b[32mOK\u001b[0m\n",
      "Physicality Violation: \u001b[32mOK\u001b[0m\n"
     ]
    },
    {
     "data": {
      "text/plain": [
       "True"
      ]
     },
     "execution_count": 12,
     "metadata": {},
     "output_type": "execute_result"
    }
   ],
   "source": [
    "i = 7\n",
    "sim_check = StandardQTomographySimulationCheck(simulation_settings[i], estimation_results_list[i])\n",
    "sim_check. execute_all()"
   ]
  },
  {
   "cell_type": "code",
   "execution_count": 16,
   "metadata": {
    "scrolled": false
   },
   "outputs": [
    {
     "name": "stderr",
     "output_type": "stream",
     "text": [
      "100%|██████████| 1000/1000 [00:00<00:00, 155736.82it/s]\n",
      "100%|██████████| 1000/1000 [00:00<00:00, 179044.82it/s]"
     ]
    },
    {
     "name": "stdout",
     "output_type": "stream",
     "text": [
      "Case 0: Linear(True)\n",
      "[OK] N=100\n",
      "|MSE_EmpiDist - MSE_Analytical| = 7.035153254041429e-05\n",
      "eps = 0.024438329256302023\n",
      "[OK] N=1000\n",
      "|MSE_EmpiDist - MSE_Analytical| = 2.9216644447820506e-05\n",
      "eps = 0.002518294321219499\n",
      "[OK] Consistency Check\n",
      "result=9.244463733058732e-33\n",
      "eps=1e-16\n",
      "result < eps: True\n"
     ]
    },
    {
     "name": "stderr",
     "output_type": "stream",
     "text": [
      "\n"
     ]
    },
    {
     "name": "stdout",
     "output_type": "stream",
     "text": [
      "[OK] N=100\n",
      "|MSE_Linear - MSE_Analytical| = 7.035153254040562e-05\n",
      "eps = 0.024438329256302037\n",
      "[OK] N=1000\n",
      "|MSE_Linear - MSE_Analytical| = 2.9216644447821807e-05\n",
      "eps = 0.0025182943212194997\n",
      "[OK] N=100 is_eq_constraint_satisfied_all\n",
      "True=1000, False=0, eps=1e-13\n"
     ]
    },
    {
     "name": "stderr",
     "output_type": "stream",
     "text": [
      "100%|██████████| 1000/1000 [00:00<00:00, 147080.83it/s]\n",
      "100%|██████████| 1000/1000 [00:00<00:00, 145585.01it/s]"
     ]
    },
    {
     "name": "stdout",
     "output_type": "stream",
     "text": [
      "[OK] N=1000 is_eq_constraint_satisfied_all\n",
      "True=1000, False=0, eps=1e-13\n",
      "========== Summary ============\n",
      "Name: Linear(True)\n",
      "MSE of Empirical Distributions: \u001b[32mOK\u001b[0m\n",
      "Consistency: \u001b[32mOK\u001b[0m\n",
      "MSE of estimators: \u001b[32mOK\u001b[0m\n",
      "Physicality Violation: \u001b[32mOK\u001b[0m\n",
      "==============================\n",
      "\n",
      "Case 1: Linear(False)\n",
      "[OK] N=100\n",
      "|MSE_EmpiDist - MSE_Analytical| = 6.90967209731521e-05\n",
      "eps = 0.024780023013208464"
     ]
    },
    {
     "name": "stderr",
     "output_type": "stream",
     "text": [
      "\n",
      "100%|██████████| 1000/1000 [00:00<00:00, 149226.31it/s]\n",
      "100%|██████████| 1000/1000 [00:00<00:00, 187304.25it/s]"
     ]
    },
    {
     "name": "stdout",
     "output_type": "stream",
     "text": [
      "\n",
      "[OK] N=1000\n",
      "|MSE_EmpiDist - MSE_Analytical| = 2.0558187307064338e-07\n",
      "eps = 0.002526170348182633\n",
      "[OK] Consistency Check\n",
      "result=5.854827030937197e-32\n",
      "eps=1e-12\n",
      "result < eps: True\n",
      "[OK] N=100\n",
      "|MSE_Linear - MSE_Analytical| = 6.90967209731469e-05\n",
      "eps = 0.02478002301320848\n",
      "[OK] N=1000\n",
      "|MSE_Linear - MSE_Analytical| = 2.0558187307086022e-07\n",
      "eps = 0.0025261703481826332\n",
      "[Skipped] Physicality Violation Check \n",
      "If on_para_eq_constraint is False in Linear Estimator, nothing is checked.\n",
      "========== Summary ============\n",
      "Name: Linear(False)\n",
      "MSE of Empirical Distributions: \u001b[32mOK\u001b[0m\n",
      "Consistency: \u001b[32mOK\u001b[0m\n",
      "MSE of estimators: \u001b[32mOK\u001b[0m\n",
      "Physicality Violation: \u001b[32mOK\u001b[0m\n",
      "==============================\n",
      "\n",
      "Case 2: ProjectedLinear(True)\n"
     ]
    },
    {
     "name": "stderr",
     "output_type": "stream",
     "text": [
      "\n"
     ]
    },
    {
     "name": "stdout",
     "output_type": "stream",
     "text": [
      "[OK] N=100\n",
      "|MSE_EmpiDist - MSE_Analytical| = 0.0002656916402162656\n",
      "eps = 0.023739528916614135\n",
      "[OK] N=1000\n",
      "|MSE_EmpiDist - MSE_Analytical| = 3.8032198366995482e-06\n",
      "eps = 0.0024782623094876223\n",
      "[OK] Consistency Check\n",
      "result=5.238529448733282e-32\n",
      "eps=1e-16\n",
      "result < eps: True\n"
     ]
    },
    {
     "name": "stderr",
     "output_type": "stream",
     "text": [
      "100%|██████████| 1000/1000 [00:13<00:00, 73.42it/s]\n"
     ]
    },
    {
     "name": "stdout",
     "output_type": "stream",
     "text": [
      "[OK] N=100\n",
      "MSE_Linear - MSE_ProjectedLinearEstimator = 0.0027351366417740835\n",
      "[OK] N=1000\n",
      "MSE_Linear - MSE_ProjectedLinearEstimator = 0.00019374827526591964\n",
      "[NG] N=100 physicality violation check\n",
      "True=472, False=528\n"
     ]
    },
    {
     "name": "stderr",
     "output_type": "stream",
     "text": [
      "100%|██████████| 1000/1000 [00:00<00:00, 315361.20it/s]\n",
      "100%|██████████| 1000/1000 [00:00<00:00, 158604.80it/s]"
     ]
    },
    {
     "name": "stdout",
     "output_type": "stream",
     "text": [
      "[NG] N=1000 physicality violation check\n",
      "True=492, False=508\n",
      "========== Summary ============\n",
      "Name: ProjectedLinear(True)\n",
      "MSE of Empirical Distributions: \u001b[32mOK\u001b[0m\n",
      "Consistency: \u001b[32mOK\u001b[0m\n",
      "MSE of estimators: \u001b[32mOK\u001b[0m\n",
      "Physicality Violation: \u001b[31mNG\u001b[0m\n",
      "==============================\n",
      "\n",
      "Case 3: ProjectedLinear(False)\n",
      "[OK] N=100\n",
      "|MSE_EmpiDist - MSE_Analytical| = 0.00017617003861691155\n",
      "eps = 0.023964461224460797\n",
      "[OK] N=1000\n",
      "|MSE_EmpiDist - MSE_Analytical| = 1.47467936385654e-05\n",
      "eps = 0.002574550971651787\n",
      "[OK] Consistency Check\n",
      "result=5.238529448733282e-32\n",
      "eps=1e-12\n",
      "result < eps: True\n"
     ]
    },
    {
     "name": "stderr",
     "output_type": "stream",
     "text": [
      "\n",
      "100%|██████████| 1000/1000 [00:13<00:00, 71.68it/s]\n"
     ]
    },
    {
     "name": "stdout",
     "output_type": "stream",
     "text": [
      "[OK] N=100\n",
      "MSE_Linear - MSE_ProjectedLinearEstimator = 0.0024783495699316534\n",
      "[OK] N=1000\n",
      "MSE_Linear - MSE_ProjectedLinearEstimator = 0.00016516973716644838\n",
      "[OK] N=100 physicality violation check\n",
      "True=1000, False=0\n"
     ]
    },
    {
     "name": "stderr",
     "output_type": "stream",
     "text": [
      "100%|██████████| 1000/1000 [00:00<00:00, 213342.01it/s]\n",
      "100%|██████████| 1000/1000 [00:00<00:00, 201088.50it/s]"
     ]
    },
    {
     "name": "stdout",
     "output_type": "stream",
     "text": [
      "[OK] N=1000 physicality violation check\n",
      "True=1000, False=0\n",
      "========== Summary ============\n",
      "Name: ProjectedLinear(False)\n",
      "MSE of Empirical Distributions: \u001b[32mOK\u001b[0m\n",
      "Consistency: \u001b[32mOK\u001b[0m\n",
      "MSE of estimators: \u001b[32mOK\u001b[0m\n",
      "Physicality Violation: \u001b[32mOK\u001b[0m\n",
      "==============================\n",
      "\n",
      "Case 4: Maximum-Likelihood(True)\n",
      "[OK] N=100\n",
      "|MSE_EmpiDist - MSE_Analytical| = 1.6916337338477097e-05\n",
      "eps = 0.024467096259825093\n",
      "[OK] N=1000\n",
      "|MSE_EmpiDist - MSE_Analytical| = 5.49530597737961e-06\n",
      "eps = 0.0024515710599886152\n"
     ]
    },
    {
     "name": "stderr",
     "output_type": "stream",
     "text": [
      "\n",
      "  0%|          | 0/1000 [00:00<?, ?it/s]"
     ]
    },
    {
     "name": "stdout",
     "output_type": "stream",
     "text": [
      "[OK] Consistency Check\n",
      "result=3.924862235585917e-18\n",
      "eps=1e-16\n",
      "result < eps: True\n"
     ]
    },
    {
     "name": "stderr",
     "output_type": "stream",
     "text": [
      "100%|██████████| 1000/1000 [00:13<00:00, 75.33it/s]\n"
     ]
    },
    {
     "name": "stdout",
     "output_type": "stream",
     "text": [
      "[OK] N=100\n",
      "MSE_Linear - MSE_LossMinimizationEstimator = 0.0016760082499602327\n",
      "[OK] N=1000\n",
      "MSE_Linear - MSE_LossMinimizationEstimator = 0.0002007685044751172\n",
      "[OK] N=100 is_eq_constraint_satisfied_all\n",
      "True=1000, False=0, eps=1e-13\n",
      "[OK] N=1000 is_eq_constraint_satisfied_all\n",
      "True=1000, False=0, eps=1e-13\n",
      "[NG] N=100 is_ineq_constraint_satisfied_all\n",
      "True=455, False=545, eps=1e-09\n"
     ]
    },
    {
     "name": "stderr",
     "output_type": "stream",
     "text": [
      "100%|██████████| 1000/1000 [00:00<00:00, 368892.17it/s]\n",
      "100%|██████████| 1000/1000 [00:00<00:00, 192894.78it/s]"
     ]
    },
    {
     "name": "stdout",
     "output_type": "stream",
     "text": [
      "[NG] N=1000 is_ineq_constraint_satisfied_all\n",
      "True=516, False=484, eps=1e-09\n",
      "========== Summary ============\n",
      "Name: Maximum-Likelihood(True)\n",
      "MSE of Empirical Distributions: \u001b[32mOK\u001b[0m\n",
      "Consistency: \u001b[32mOK\u001b[0m\n",
      "MSE of estimators: \u001b[32mOK\u001b[0m\n",
      "Physicality Violation: \u001b[31mNG\u001b[0m\n",
      "==============================\n",
      "\n",
      "Case 5: Maximum-Likelihood(False)\n",
      "[OK] N=100\n",
      "|MSE_EmpiDist - MSE_Analytical| = 0.00019966115567494024\n",
      "eps = 0.02337375189147569\n",
      "[OK] N=1000\n",
      "|MSE_EmpiDist - MSE_Analytical| = 1.258107715041432e-05\n",
      "eps = 0.0024959934838174333\n"
     ]
    },
    {
     "name": "stderr",
     "output_type": "stream",
     "text": [
      "\n",
      "  1%|          | 8/1000 [00:00<00:13, 70.95it/s]"
     ]
    },
    {
     "name": "stdout",
     "output_type": "stream",
     "text": [
      "[OK] Consistency Check\n",
      "result=9.868649083067027e-15\n",
      "eps=1e-12\n",
      "result < eps: True\n"
     ]
    },
    {
     "name": "stderr",
     "output_type": "stream",
     "text": [
      "100%|██████████| 1000/1000 [00:13<00:00, 72.63it/s]\n"
     ]
    },
    {
     "name": "stdout",
     "output_type": "stream",
     "text": [
      "[OK] N=100\n",
      "MSE_Linear - MSE_LossMinimizationEstimator = 0.00194387802346546\n",
      "[OK] N=1000\n",
      "MSE_Linear - MSE_LossMinimizationEstimator = 0.0001763149765107064\n",
      "[OK] N=100 is_eq_constraint_satisfied_all\n",
      "True=1000, False=0, eps=1e-13\n",
      "[OK] N=1000 is_eq_constraint_satisfied_all\n",
      "True=1000, False=0, eps=1e-13\n",
      "[OK] N=100 is_ineq_constraint_satisfied_all\n",
      "True=1000, False=0, eps=1e-09\n"
     ]
    },
    {
     "name": "stderr",
     "output_type": "stream",
     "text": [
      "100%|██████████| 1000/1000 [00:00<00:00, 292898.32it/s]\n",
      "100%|██████████| 1000/1000 [00:00<00:00, 169693.09it/s]"
     ]
    },
    {
     "name": "stdout",
     "output_type": "stream",
     "text": [
      "[OK] N=1000 is_ineq_constraint_satisfied_all\n",
      "True=1000, False=0, eps=1e-09\n",
      "========== Summary ============\n",
      "Name: Maximum-Likelihood(False)\n",
      "MSE of Empirical Distributions: \u001b[32mOK\u001b[0m\n",
      "Consistency: \u001b[32mOK\u001b[0m\n",
      "MSE of estimators: \u001b[32mOK\u001b[0m\n",
      "Physicality Violation: \u001b[32mOK\u001b[0m\n",
      "==============================\n",
      "\n",
      "Case 6: Least Squares(True)\n",
      "[OK] N=100\n",
      "|MSE_EmpiDist - MSE_Analytical| = 5.754389463992135e-05\n",
      "eps = 0.02513353725306941\n",
      "[OK] N=1000\n",
      "|MSE_EmpiDist - MSE_Analytical| = 3.448835016838685e-05\n",
      "eps = 0.0022668045008586227\n",
      "[OK] Consistency Check\n",
      "result=3.124241743362158e-17\n",
      "eps=1e-16\n",
      "result < eps: True\n"
     ]
    },
    {
     "name": "stderr",
     "output_type": "stream",
     "text": [
      "\n",
      "/Users/tomoko/project/rcast/workspace/quara/quara/data_analysis/simulation_check.py:122: UserWarning:\n",
      "\n",
      "Estimator MSE is not checked except for LinearEstimator, ProjectedLinearEstimator, Maximum-likelihood.\n",
      "\n"
     ]
    },
    {
     "name": "stdout",
     "output_type": "stream",
     "text": [
      "[OK] N=100 is_eq_constraint_satisfied_all\n",
      "True=1000, False=0, eps=1e-13\n",
      "[OK] N=1000 is_eq_constraint_satisfied_all\n",
      "True=1000, False=0, eps=1e-13\n",
      "[NG] N=100 is_ineq_constraint_satisfied_all\n",
      "True=439, False=561, eps=1e-09\n"
     ]
    },
    {
     "name": "stderr",
     "output_type": "stream",
     "text": [
      "100%|██████████| 1000/1000 [00:00<00:00, 375094.26it/s]\n",
      "100%|██████████| 1000/1000 [00:00<00:00, 197816.54it/s]"
     ]
    },
    {
     "name": "stdout",
     "output_type": "stream",
     "text": [
      "[NG] N=1000 is_ineq_constraint_satisfied_all\n",
      "True=472, False=528, eps=1e-09\n",
      "========== Summary ============\n",
      "Name: Least Squares(True)\n",
      "MSE of Empirical Distributions: \u001b[32mOK\u001b[0m\n",
      "Consistency: \u001b[32mOK\u001b[0m\n",
      "MSE of estimators: \u001b[32mOK\u001b[0m\n",
      "Physicality Violation: \u001b[31mNG\u001b[0m\n",
      "==============================\n",
      "\n",
      "Case 7: Least Squares(False)\n",
      "[OK] N=100\n",
      "|MSE_EmpiDist - MSE_Analytical| = 4.203786964071532e-06\n",
      "eps = 0.024565513539877085\n",
      "[OK] N=1000\n",
      "|MSE_EmpiDist - MSE_Analytical| = 3.503762214336105e-06\n",
      "eps = 0.0024231444828227097\n",
      "[OK] Consistency Check\n",
      "result=1.9036745341808358e-16\n",
      "eps=1e-12\n",
      "result < eps: True\n"
     ]
    },
    {
     "name": "stderr",
     "output_type": "stream",
     "text": [
      "\n"
     ]
    },
    {
     "name": "stdout",
     "output_type": "stream",
     "text": [
      "[OK] N=100 is_eq_constraint_satisfied_all\n",
      "True=1000, False=0, eps=1e-13\n",
      "[OK] N=1000 is_eq_constraint_satisfied_all\n",
      "True=1000, False=0, eps=1e-13\n",
      "[OK] N=100 is_ineq_constraint_satisfied_all\n",
      "True=1000, False=0, eps=1e-09\n",
      "[OK] N=1000 is_ineq_constraint_satisfied_all\n",
      "True=1000, False=0, eps=1e-09\n",
      "========== Summary ============\n",
      "Name: Least Squares(False)\n",
      "MSE of Empirical Distributions: \u001b[32mOK\u001b[0m\n",
      "Consistency: \u001b[32mOK\u001b[0m\n",
      "MSE of estimators: \u001b[32mOK\u001b[0m\n",
      "Physicality Violation: \u001b[32mOK\u001b[0m\n",
      "==============================\n",
      "\n"
     ]
    }
   ],
   "source": [
    "from quara.data_analysis.simulation_check import StandardQTomographySimulationCheck\n",
    "\n",
    "results = []\n",
    "for i in range(len(simulation_settings)):\n",
    "    sim_check = StandardQTomographySimulationCheck(simulation_settings[i], estimation_results_list[i])\n",
    "    print(f\"Case {i}: {simulation_settings[i].name}\")\n",
    "    result = sim_check.execute_all()\n",
    "    results.append(result)\n",
    "    print(\"==============================\")\n",
    "    print()"
   ]
  },
  {
   "cell_type": "code",
   "execution_count": 22,
   "metadata": {},
   "outputs": [],
   "source": [
    "from quara.objects.gate import get_depolarizing_channel"
   ]
  },
  {
   "cell_type": "code",
   "execution_count": null,
   "metadata": {},
   "outputs": [],
   "source": []
  },
  {
   "cell_type": "code",
   "execution_count": 54,
   "metadata": {},
   "outputs": [
    {
     "name": "stdout",
     "output_type": "stream",
     "text": [
      "id(c_sys)=4810395856\n",
      "id(gate.composite_system)=4810395856\n"
     ]
    },
    {
     "data": {
      "text/plain": [
       "array([[1. , 0. , 0. , 0. ],\n",
       "       [0. , 0.9, 0. , 0. ],\n",
       "       [0. , 0. , 0.9, 0. ],\n",
       "       [0. , 0. , 0. , 0.9]])"
      ]
     },
     "execution_count": 54,
     "metadata": {},
     "output_type": "execute_result"
    }
   ],
   "source": [
    "e_sys = ElementalSystem(0, get_normalized_pauli_basis())\n",
    "c_sys = CompositeSystem([e_sys])\n",
    "\n",
    "actual = get_depolarizing_channel(0.1, c_sys)\n",
    "actual.hs"
   ]
  },
  {
   "cell_type": "code",
   "execution_count": 57,
   "metadata": {},
   "outputs": [
    {
     "data": {
      "text/plain": [
       "True"
      ]
     },
     "execution_count": 57,
     "metadata": {},
     "output_type": "execute_result"
    }
   ],
   "source": [
    "actual.composite_system is c_sys"
   ]
  },
  {
   "cell_type": "code",
   "execution_count": 55,
   "metadata": {},
   "outputs": [
    {
     "data": {
      "text/plain": [
       "4810395856"
      ]
     },
     "execution_count": 55,
     "metadata": {},
     "output_type": "execute_result"
    }
   ],
   "source": [
    "id(c_sys)"
   ]
  },
  {
   "cell_type": "code",
   "execution_count": 56,
   "metadata": {},
   "outputs": [
    {
     "data": {
      "text/plain": [
       "4810395856"
      ]
     },
     "execution_count": 56,
     "metadata": {},
     "output_type": "execute_result"
    }
   ],
   "source": [
    "id(actual.composite_system)"
   ]
  },
  {
   "cell_type": "code",
   "execution_count": 51,
   "metadata": {},
   "outputs": [
    {
     "data": {
      "text/plain": [
       "4682089616"
      ]
     },
     "execution_count": 51,
     "metadata": {},
     "output_type": "execute_result"
    }
   ],
   "source": [
    "id(a.composite_system.elemental_systems[0])"
   ]
  },
  {
   "cell_type": "code",
   "execution_count": 52,
   "metadata": {},
   "outputs": [
    {
     "data": {
      "text/plain": [
       "4811143776"
      ]
     },
     "execution_count": 52,
     "metadata": {},
     "output_type": "execute_result"
    }
   ],
   "source": [
    "id(c_sys.elemental_systems[0])"
   ]
  },
  {
   "cell_type": "code",
   "execution_count": 58,
   "metadata": {},
   "outputs": [],
   "source": [
    "e_sys_1 = ElementalSystem(0, get_normalized_pauli_basis())\n",
    "e_sys_2 = ElementalSystem(1, get_normalized_pauli_basis())\n",
    "c_sys_2q = CompositeSystem([e_sys_1, e_sys_2])"
   ]
  },
  {
   "cell_type": "code",
   "execution_count": 59,
   "metadata": {},
   "outputs": [],
   "source": [
    "actual = get_depolarizing_channel(0.1, c_sys_2q)"
   ]
  },
  {
   "cell_type": "code",
   "execution_count": 64,
   "metadata": {},
   "outputs": [
    {
     "data": {
      "text/plain": [
       "4"
      ]
     },
     "execution_count": 64,
     "metadata": {},
     "output_type": "execute_result"
    }
   ],
   "source": [
    "c_sys_2q.dim"
   ]
  },
  {
   "cell_type": "code",
   "execution_count": 67,
   "metadata": {},
   "outputs": [
    {
     "data": {
      "text/plain": [
       "array([[1. , 0. , 0. , 0. , 0. , 0. , 0. , 0. , 0. , 0. , 0. , 0. , 0. ,\n",
       "        0. , 0. , 0. ],\n",
       "       [0. , 0.9, 0. , 0. , 0. , 0. , 0. , 0. , 0. , 0. , 0. , 0. , 0. ,\n",
       "        0. , 0. , 0. ],\n",
       "       [0. , 0. , 0.9, 0. , 0. , 0. , 0. , 0. , 0. , 0. , 0. , 0. , 0. ,\n",
       "        0. , 0. , 0. ],\n",
       "       [0. , 0. , 0. , 0.9, 0. , 0. , 0. , 0. , 0. , 0. , 0. , 0. , 0. ,\n",
       "        0. , 0. , 0. ],\n",
       "       [0. , 0. , 0. , 0. , 0.9, 0. , 0. , 0. , 0. , 0. , 0. , 0. , 0. ,\n",
       "        0. , 0. , 0. ],\n",
       "       [0. , 0. , 0. , 0. , 0. , 0.9, 0. , 0. , 0. , 0. , 0. , 0. , 0. ,\n",
       "        0. , 0. , 0. ],\n",
       "       [0. , 0. , 0. , 0. , 0. , 0. , 0.9, 0. , 0. , 0. , 0. , 0. , 0. ,\n",
       "        0. , 0. , 0. ],\n",
       "       [0. , 0. , 0. , 0. , 0. , 0. , 0. , 0.9, 0. , 0. , 0. , 0. , 0. ,\n",
       "        0. , 0. , 0. ],\n",
       "       [0. , 0. , 0. , 0. , 0. , 0. , 0. , 0. , 0.9, 0. , 0. , 0. , 0. ,\n",
       "        0. , 0. , 0. ],\n",
       "       [0. , 0. , 0. , 0. , 0. , 0. , 0. , 0. , 0. , 0.9, 0. , 0. , 0. ,\n",
       "        0. , 0. , 0. ],\n",
       "       [0. , 0. , 0. , 0. , 0. , 0. , 0. , 0. , 0. , 0. , 0.9, 0. , 0. ,\n",
       "        0. , 0. , 0. ],\n",
       "       [0. , 0. , 0. , 0. , 0. , 0. , 0. , 0. , 0. , 0. , 0. , 0.9, 0. ,\n",
       "        0. , 0. , 0. ],\n",
       "       [0. , 0. , 0. , 0. , 0. , 0. , 0. , 0. , 0. , 0. , 0. , 0. , 0.9,\n",
       "        0. , 0. , 0. ],\n",
       "       [0. , 0. , 0. , 0. , 0. , 0. , 0. , 0. , 0. , 0. , 0. , 0. , 0. ,\n",
       "        0.9, 0. , 0. ],\n",
       "       [0. , 0. , 0. , 0. , 0. , 0. , 0. , 0. , 0. , 0. , 0. , 0. , 0. ,\n",
       "        0. , 0.9, 0. ],\n",
       "       [0. , 0. , 0. , 0. , 0. , 0. , 0. , 0. , 0. , 0. , 0. , 0. , 0. ,\n",
       "        0. , 0. , 0.9]])"
      ]
     },
     "execution_count": 67,
     "metadata": {},
     "output_type": "execute_result"
    }
   ],
   "source": [
    "expected = np.diag([0.9] * 16)\n",
    "expected[0][0] = 1\n",
    "expected"
   ]
  },
  {
   "cell_type": "code",
   "execution_count": 63,
   "metadata": {},
   "outputs": [
    {
     "data": {
      "text/plain": [
       "array([[1. , 0. , 0. , 0. , 0. , 0. , 0. , 0. , 0. , 0. , 0. , 0. , 0. ,\n",
       "        0. , 0. , 0. ],\n",
       "       [0. , 0.9, 0. , 0. , 0. , 0. , 0. , 0. , 0. , 0. , 0. , 0. , 0. ,\n",
       "        0. , 0. , 0. ],\n",
       "       [0. , 0. , 0.9, 0. , 0. , 0. , 0. , 0. , 0. , 0. , 0. , 0. , 0. ,\n",
       "        0. , 0. , 0. ],\n",
       "       [0. , 0. , 0. , 0.9, 0. , 0. , 0. , 0. , 0. , 0. , 0. , 0. , 0. ,\n",
       "        0. , 0. , 0. ],\n",
       "       [0. , 0. , 0. , 0. , 0.9, 0. , 0. , 0. , 0. , 0. , 0. , 0. , 0. ,\n",
       "        0. , 0. , 0. ],\n",
       "       [0. , 0. , 0. , 0. , 0. , 0.9, 0. , 0. , 0. , 0. , 0. , 0. , 0. ,\n",
       "        0. , 0. , 0. ],\n",
       "       [0. , 0. , 0. , 0. , 0. , 0. , 0.9, 0. , 0. , 0. , 0. , 0. , 0. ,\n",
       "        0. , 0. , 0. ],\n",
       "       [0. , 0. , 0. , 0. , 0. , 0. , 0. , 0.9, 0. , 0. , 0. , 0. , 0. ,\n",
       "        0. , 0. , 0. ],\n",
       "       [0. , 0. , 0. , 0. , 0. , 0. , 0. , 0. , 0.9, 0. , 0. , 0. , 0. ,\n",
       "        0. , 0. , 0. ],\n",
       "       [0. , 0. , 0. , 0. , 0. , 0. , 0. , 0. , 0. , 0.9, 0. , 0. , 0. ,\n",
       "        0. , 0. , 0. ],\n",
       "       [0. , 0. , 0. , 0. , 0. , 0. , 0. , 0. , 0. , 0. , 0.9, 0. , 0. ,\n",
       "        0. , 0. , 0. ],\n",
       "       [0. , 0. , 0. , 0. , 0. , 0. , 0. , 0. , 0. , 0. , 0. , 0.9, 0. ,\n",
       "        0. , 0. , 0. ],\n",
       "       [0. , 0. , 0. , 0. , 0. , 0. , 0. , 0. , 0. , 0. , 0. , 0. , 0.9,\n",
       "        0. , 0. , 0. ],\n",
       "       [0. , 0. , 0. , 0. , 0. , 0. , 0. , 0. , 0. , 0. , 0. , 0. , 0. ,\n",
       "        0.9, 0. , 0. ],\n",
       "       [0. , 0. , 0. , 0. , 0. , 0. , 0. , 0. , 0. , 0. , 0. , 0. , 0. ,\n",
       "        0. , 0.9, 0. ],\n",
       "       [0. , 0. , 0. , 0. , 0. , 0. , 0. , 0. , 0. , 0. , 0. , 0. , 0. ,\n",
       "        0. , 0. , 0.9]])"
      ]
     },
     "execution_count": 63,
     "metadata": {},
     "output_type": "execute_result"
    }
   ],
   "source": [
    "actual.hs"
   ]
  },
  {
   "cell_type": "code",
   "execution_count": 65,
   "metadata": {},
   "outputs": [
    {
     "data": {
      "text/plain": [
       "array([[1. , 0. , 0. , 0. , 0. , 0. , 0. , 0. , 0. , 0. , 0. , 0. , 0. ,\n",
       "        0. , 0. , 0. ],\n",
       "       [0. , 0.9, 0. , 0. , 0. , 0. , 0. , 0. , 0. , 0. , 0. , 0. , 0. ,\n",
       "        0. , 0. , 0. ],\n",
       "       [0. , 0. , 0.9, 0. , 0. , 0. , 0. , 0. , 0. , 0. , 0. , 0. , 0. ,\n",
       "        0. , 0. , 0. ],\n",
       "       [0. , 0. , 0. , 0.9, 0. , 0. , 0. , 0. , 0. , 0. , 0. , 0. , 0. ,\n",
       "        0. , 0. , 0. ],\n",
       "       [0. , 0. , 0. , 0. , 0.9, 0. , 0. , 0. , 0. , 0. , 0. , 0. , 0. ,\n",
       "        0. , 0. , 0. ],\n",
       "       [0. , 0. , 0. , 0. , 0. , 0.9, 0. , 0. , 0. , 0. , 0. , 0. , 0. ,\n",
       "        0. , 0. , 0. ],\n",
       "       [0. , 0. , 0. , 0. , 0. , 0. , 0.9, 0. , 0. , 0. , 0. , 0. , 0. ,\n",
       "        0. , 0. , 0. ],\n",
       "       [0. , 0. , 0. , 0. , 0. , 0. , 0. , 0.9, 0. , 0. , 0. , 0. , 0. ,\n",
       "        0. , 0. , 0. ],\n",
       "       [0. , 0. , 0. , 0. , 0. , 0. , 0. , 0. , 0.9, 0. , 0. , 0. , 0. ,\n",
       "        0. , 0. , 0. ],\n",
       "       [0. , 0. , 0. , 0. , 0. , 0. , 0. , 0. , 0. , 0.9, 0. , 0. , 0. ,\n",
       "        0. , 0. , 0. ],\n",
       "       [0. , 0. , 0. , 0. , 0. , 0. , 0. , 0. , 0. , 0. , 0.9, 0. , 0. ,\n",
       "        0. , 0. , 0. ],\n",
       "       [0. , 0. , 0. , 0. , 0. , 0. , 0. , 0. , 0. , 0. , 0. , 0.9, 0. ,\n",
       "        0. , 0. , 0. ],\n",
       "       [0. , 0. , 0. , 0. , 0. , 0. , 0. , 0. , 0. , 0. , 0. , 0. , 0.9,\n",
       "        0. , 0. , 0. ],\n",
       "       [0. , 0. , 0. , 0. , 0. , 0. , 0. , 0. , 0. , 0. , 0. , 0. , 0. ,\n",
       "        0.9, 0. , 0. ],\n",
       "       [0. , 0. , 0. , 0. , 0. , 0. , 0. , 0. , 0. , 0. , 0. , 0. , 0. ,\n",
       "        0. , 0.9, 0. ],\n",
       "       [0. , 0. , 0. , 0. , 0. , 0. , 0. , 0. , 0. , 0. , 0. , 0. , 0. ,\n",
       "        0. , 0. , 0.9]])"
      ]
     },
     "execution_count": 65,
     "metadata": {},
     "output_type": "execute_result"
    }
   ],
   "source": [
    "np.array([[1. , 0. , 0. , 0. , 0. , 0. , 0. , 0. , 0. , 0. , 0. , 0. , 0. ,\n",
    "        0. , 0. , 0. ],\n",
    "       [0. , 0.9, 0. , 0. , 0. , 0. , 0. , 0. , 0. , 0. , 0. , 0. , 0. ,\n",
    "        0. , 0. , 0. ],\n",
    "       [0. , 0. , 0.9, 0. , 0. , 0. , 0. , 0. , 0. , 0. , 0. , 0. , 0. ,\n",
    "        0. , 0. , 0. ],\n",
    "       [0. , 0. , 0. , 0.9, 0. , 0. , 0. , 0. , 0. , 0. , 0. , 0. , 0. ,\n",
    "        0. , 0. , 0. ],\n",
    "       [0. , 0. , 0. , 0. , 0.9, 0. , 0. , 0. , 0. , 0. , 0. , 0. , 0. ,\n",
    "        0. , 0. , 0. ],\n",
    "       [0. , 0. , 0. , 0. , 0. , 0.9, 0. , 0. , 0. , 0. , 0. , 0. , 0. ,\n",
    "        0. , 0. , 0. ],\n",
    "       [0. , 0. , 0. , 0. , 0. , 0. , 0.9, 0. , 0. , 0. , 0. , 0. , 0. ,\n",
    "        0. , 0. , 0. ],\n",
    "       [0. , 0. , 0. , 0. , 0. , 0. , 0. , 0.9, 0. , 0. , 0. , 0. , 0. ,\n",
    "        0. , 0. , 0. ],\n",
    "       [0. , 0. , 0. , 0. , 0. , 0. , 0. , 0. , 0.9, 0. , 0. , 0. , 0. ,\n",
    "        0. , 0. , 0. ],\n",
    "       [0. , 0. , 0. , 0. , 0. , 0. , 0. , 0. , 0. , 0.9, 0. , 0. , 0. ,\n",
    "        0. , 0. , 0. ],\n",
    "       [0. , 0. , 0. , 0. , 0. , 0. , 0. , 0. , 0. , 0. , 0.9, 0. , 0. ,\n",
    "        0. , 0. , 0. ],\n",
    "       [0. , 0. , 0. , 0. , 0. , 0. , 0. , 0. , 0. , 0. , 0. , 0.9, 0. ,\n",
    "        0. , 0. , 0. ],\n",
    "       [0. , 0. , 0. , 0. , 0. , 0. , 0. , 0. , 0. , 0. , 0. , 0. , 0.9,\n",
    "        0. , 0. , 0. ],\n",
    "       [0. , 0. , 0. , 0. , 0. , 0. , 0. , 0. , 0. , 0. , 0. , 0. , 0. ,\n",
    "        0.9, 0. , 0. ],\n",
    "       [0. , 0. , 0. , 0. , 0. , 0. , 0. , 0. , 0. , 0. , 0. , 0. , 0. ,\n",
    "        0. , 0.9, 0. ],\n",
    "       [0. , 0. , 0. , 0. , 0. , 0. , 0. , 0. , 0. , 0. , 0. , 0. , 0. ,\n",
    "        0. , 0. , 0.9]])"
   ]
  },
  {
   "cell_type": "code",
   "execution_count": 69,
   "metadata": {},
   "outputs": [],
   "source": [
    "from quara.data_analysis.generation_setting import DepolarizedQOperationGenerationSetting"
   ]
  },
  {
   "cell_type": "code",
   "execution_count": 71,
   "metadata": {},
   "outputs": [
    {
     "data": {
      "text/plain": [
       "<quara.objects.state.State at 0x11a16e0d0>"
      ]
     },
     "execution_count": 71,
     "metadata": {},
     "output_type": "execute_result"
    }
   ],
   "source": [
    "true_object"
   ]
  },
  {
   "cell_type": "code",
   "execution_count": 81,
   "metadata": {},
   "outputs": [],
   "source": [
    "setting = DepolarizedQOperationGenerationSetting(c_sys, true_object, 0.1)"
   ]
  },
  {
   "cell_type": "code",
   "execution_count": 83,
   "metadata": {},
   "outputs": [
    {
     "data": {
      "text/plain": [
       "<quara.objects.state.State at 0x11ed1d460>"
      ]
     },
     "execution_count": 83,
     "metadata": {},
     "output_type": "execute_result"
    }
   ],
   "source": [
    "setting.generate()"
   ]
  },
  {
   "cell_type": "code",
   "execution_count": 84,
   "metadata": {},
   "outputs": [],
   "source": [
    "source_povm = tester_objects[0]"
   ]
  },
  {
   "cell_type": "code",
   "execution_count": 94,
   "metadata": {},
   "outputs": [
    {
     "name": "stdout",
     "output_type": "stream",
     "text": [
      "type(elem1)=<class 'quara.objects.povm.Povm'>, type(elem2)=<class 'quara.objects.gate.Gate'>\n"
     ]
    },
    {
     "data": {
      "text/plain": [
       "<quara.objects.povm.Povm at 0x11f21f7c0>"
      ]
     },
     "execution_count": 94,
     "metadata": {},
     "output_type": "execute_result"
    }
   ],
   "source": [
    "setting = DepolarizedQOperationGenerationSetting(c_sys, source_povm, 0.1)\n",
    "setting.generate()"
   ]
  },
  {
   "cell_type": "code",
   "execution_count": 89,
   "metadata": {},
   "outputs": [
    {
     "data": {
      "text/plain": [
       "array([[ 1.,  0.,  0.,  0.],\n",
       "       [ 0.,  1.,  0.,  0.],\n",
       "       [ 0.,  0., -1.,  0.],\n",
       "       [ 0.,  0.,  0., -1.]])"
      ]
     },
     "execution_count": 89,
     "metadata": {},
     "output_type": "execute_result"
    }
   ],
   "source": [
    "from quara.objects.gate import get_x\n",
    "source_gate = get_x(c_sys)\n",
    "source_gate.hs"
   ]
  },
  {
   "cell_type": "code",
   "execution_count": 91,
   "metadata": {},
   "outputs": [
    {
     "name": "stdout",
     "output_type": "stream",
     "text": [
      "type(elem1)=<class 'quara.objects.gate.Gate'>, type(elem2)=<class 'quara.objects.gate.Gate'>\n"
     ]
    },
    {
     "data": {
      "text/plain": [
       "array([[ 1. ,  0. ,  0. ,  0. ],\n",
       "       [ 0. ,  0.9,  0. ,  0. ],\n",
       "       [ 0. ,  0. , -0.9,  0. ],\n",
       "       [ 0. ,  0. ,  0. , -0.9]])"
      ]
     },
     "execution_count": 91,
     "metadata": {},
     "output_type": "execute_result"
    }
   ],
   "source": [
    "setting = DepolarizedQOperationGenerationSetting(c_sys, source_gate, 0.1)\n",
    "setting.generate().hs"
   ]
  },
  {
   "cell_type": "code",
   "execution_count": null,
   "metadata": {},
   "outputs": [],
   "source": []
  }
 ],
 "metadata": {
  "hide_input": false,
  "kernelspec": {
   "display_name": "quara_venv",
   "language": "python",
   "name": "quara_venv"
  },
  "language_info": {
   "codemirror_mode": {
    "name": "ipython",
    "version": 3
   },
   "file_extension": ".py",
   "mimetype": "text/x-python",
   "name": "python",
   "nbconvert_exporter": "python",
   "pygments_lexer": "ipython3",
   "version": "3.8.0"
  },
  "toc": {
   "base_numbering": 1,
   "nav_menu": {},
   "number_sections": true,
   "sideBar": true,
   "skip_h1_title": false,
   "title_cell": "Table of Contents",
   "title_sidebar": "Contents",
   "toc_cell": false,
   "toc_position": {},
   "toc_section_display": true,
   "toc_window_display": false
  },
  "varInspector": {
   "cols": {
    "lenName": 16,
    "lenType": 16,
    "lenVar": 40
   },
   "kernels_config": {
    "python": {
     "delete_cmd_postfix": "",
     "delete_cmd_prefix": "del ",
     "library": "var_list.py",
     "varRefreshCmd": "print(var_dic_list())"
    },
    "r": {
     "delete_cmd_postfix": ") ",
     "delete_cmd_prefix": "rm(",
     "library": "var_list.r",
     "varRefreshCmd": "cat(var_dic_list()) "
    }
   },
   "types_to_exclude": [
    "module",
    "function",
    "builtin_function_or_method",
    "instance",
    "_Feature"
   ],
   "window_display": false
  }
 },
 "nbformat": 4,
 "nbformat_minor": 4
}
