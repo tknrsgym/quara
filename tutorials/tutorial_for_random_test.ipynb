{
 "cells": [
  {
   "cell_type": "code",
   "execution_count": 1,
   "metadata": {},
   "outputs": [],
   "source": [
    "# State"
   ]
  },
  {
   "cell_type": "code",
   "execution_count": 1,
   "metadata": {},
   "outputs": [
    {
     "data": {
      "text/plain": [
       "1e-13"
      ]
     },
     "execution_count": 1,
     "metadata": {},
     "output_type": "execute_result"
    }
   ],
   "source": [
    "import pickle\n",
    "import time\n",
    "from typing import List\n",
    "import datetime as dt\n",
    "from pathlib import Path\n",
    "import copy\n",
    "\n",
    "import pandas as pd\n",
    "\n",
    "import numpy as np\n",
    "import pandas as pd\n",
    "import plotly.graph_objects as go\n",
    "import plotly.express as px\n",
    "\n",
    "from tqdm import tqdm\n",
    "\n",
    "from quara.data_analysis import data_analysis, physicality_violation_check, report\n",
    "from quara.data_analysis.projected_gradient_descent_backtracking import (\n",
    "    ProjectedGradientDescentBacktracking,\n",
    "    ProjectedGradientDescentBacktrackingOption,\n",
    ")\n",
    "from quara.data_analysis.weighted_probability_based_squared_error import (\n",
    "    WeightedProbabilityBasedSquaredError,\n",
    "    WeightedProbabilityBasedSquaredErrorOption,\n",
    ")\n",
    "from quara.data_analysis.weighted_relative_entropy import (\n",
    "    WeightedRelativeEntropy,\n",
    "    WeightedRelativeEntropyOption,\n",
    ")\n",
    "from quara.objects.composite_system import CompositeSystem\n",
    "from quara.objects.elemental_system import ElementalSystem\n",
    "from quara.objects.matrix_basis import get_normalized_pauli_basis\n",
    "from quara.objects.povm import (\n",
    "    Povm,\n",
    "    get_x_povm,\n",
    "    get_y_povm,\n",
    "    get_z_povm,\n",
    ")\n",
    "from quara.objects.qoperation import QOperation\n",
    "from quara.objects.state import State, get_z0_1q, get_z1_1q, get_x0_1q\n",
    "from quara.protocol.qtomography.standard.standard_qst import StandardQst\n",
    "from quara.protocol.qtomography.standard.linear_estimator import LinearEstimator\n",
    "from quara.protocol.qtomography.standard.loss_minimization_estimator import (\n",
    "    LossMinimizationEstimator,\n",
    ")\n",
    "from quara.protocol.qtomography.standard.projected_linear_estimator import (\n",
    "    ProjectedLinearEstimator,\n",
    ")\n",
    "\n",
    "from quara.data_analysis.simulation import StandardQTomographySimulationSetting\n",
    "from quara.data_analysis.generation_setting import QOperationGenerationSetting, DepolarizedQOperationGenerationSetting\n",
    "from quara.data_analysis.simulation_check import StandardQTomographySimulationCheck\n",
    "\n",
    "from quara.settings import Settings\n",
    "Settings.get_atol()"
   ]
  },
  {
   "cell_type": "code",
   "execution_count": 2,
   "metadata": {},
   "outputs": [],
   "source": [
    "%reload_ext autoreload\n",
    "%autoreload 2"
   ]
  },
  {
   "cell_type": "markdown",
   "metadata": {},
   "source": [
    "- test_settingのリストを作る\n",
    "- 1つのtest_settingから、QOperationGenerationSettingのリストを作る\n",
    "- QOperationGenerationSettingから、qoperationのサンプルをn_sample個作る\n",
    "- qoperationのサンプルから、StandardQTomographySimulationSettingを作る\n",
    "- 推定を実行する\n",
    "- SimulationCheckで結果をチェックする\n",
    "- 結果を格納する or 保存する "
   ]
  },
  {
   "cell_type": "code",
   "execution_count": 8,
   "metadata": {},
   "outputs": [],
   "source": [
    "from collections import namedtuple"
   ]
  },
  {
   "cell_type": "code",
   "execution_count": 9,
   "metadata": {},
   "outputs": [],
   "source": [
    "# test_settingのリストを作る\n",
    "e_sys = ElementalSystem(0, get_normalized_pauli_basis())\n",
    "c_sys = CompositeSystem([e_sys])\n",
    "\n",
    "# Base of Tester Object\n",
    "povm_x = get_x_povm(c_sys)\n",
    "povm_y = get_y_povm(c_sys)\n",
    "povm_z = get_z_povm(c_sys)\n",
    "tester_objects = [povm_x, povm_y, povm_z]\n",
    "\n",
    "# Base of True Object\n",
    "base_state =  get_z0_1q(c_sys)"
   ]
  },
  {
   "cell_type": "code",
   "execution_count": 10,
   "metadata": {},
   "outputs": [],
   "source": [
    "# シミュレーションに必要な設定を作る\n",
    "case_names = [\n",
    "    \"Linear (True)\",\n",
    "    \"Linear (False)\",\n",
    "    \"ProjectedLinear (True)\",\n",
    "    \"ProjectedLinear (False)\",\n",
    "    \"Maximum-Likelihood (True)\",\n",
    "    \"Maximum-Likelihood (False)\",\n",
    "    \"Least Squares (True)\",\n",
    "    \"Least Squares (False)\",\n",
    "]\n",
    "\n",
    "parametrizations = [True, False, True, False, True, False, True, False]\n",
    "\n",
    "estimators = [LinearEstimator(), \n",
    "    LinearEstimator(),\n",
    "    ProjectedLinearEstimator(),\n",
    "    ProjectedLinearEstimator(),\n",
    "    LossMinimizationEstimator(),\n",
    "    LossMinimizationEstimator(),\n",
    "    LossMinimizationEstimator(),\n",
    "    LossMinimizationEstimator(),]\n",
    "\n",
    "loss_list = [\n",
    "    (None, None),\n",
    "    (None, None),\n",
    "    (None, None),\n",
    "    (None, None),\n",
    "    (WeightedRelativeEntropy(3),WeightedRelativeEntropyOption(\"identity\")),\n",
    "    (WeightedRelativeEntropy(4),WeightedRelativeEntropyOption(\"identity\")),\n",
    "    (WeightedProbabilityBasedSquaredError(3), WeightedProbabilityBasedSquaredErrorOption(\"identity\")),\n",
    "    (WeightedProbabilityBasedSquaredError(4),WeightedProbabilityBasedSquaredErrorOption(\"identity\")),\n",
    "]\n",
    "\n",
    "def generate_pgdb_algo_option():\n",
    "    return ProjectedGradientDescentBacktrackingOption(\n",
    "        mode_stopping_criterion_gradient_descent=\"sum_absolute_difference_variable\",\n",
    "        num_history_stopping_criterion_gradient_descent=1\n",
    "    )\n",
    "\n",
    "algo_list = [\n",
    "    (None, None),\n",
    "    (None, None),\n",
    "    (None, None),\n",
    "    (None, None),\n",
    "    (ProjectedGradientDescentBacktracking(), generate_pgdb_algo_option()),\n",
    "    (ProjectedGradientDescentBacktracking(), generate_pgdb_algo_option()),\n",
    "    (ProjectedGradientDescentBacktracking(), generate_pgdb_algo_option()),\n",
    "    (ProjectedGradientDescentBacktracking(), generate_pgdb_algo_option())\n",
    "]"
   ]
  },
  {
   "cell_type": "code",
   "execution_count": 11,
   "metadata": {},
   "outputs": [],
   "source": [
    "NoiseSetting = namedtuple(\"NoiseSetting\", [\"qoperation_base\", \"method\", \"para\"])\n",
    "TestSetting = namedtuple(\n",
    "    \"TestSetting\",\n",
    "    [\n",
    "        \"true_object\",\n",
    "        \"tester_objects\",\n",
    "        \"seed\",\n",
    "        \"n_rep\",\n",
    "        \"num_data\",\n",
    "        \"n_sample\",\n",
    "        \"schedules\",\n",
    "        \"case_names\",\n",
    "        \"estimators\",\n",
    "        \"algo_list\",\n",
    "        \"loss_list\",\n",
    "        \"parametrizations\"\n",
    "    ],\n",
    ")\n",
    "\n",
    "Result = namedtuple(\n",
    "    \"Result\",\n",
    "    [\"result_index\", \"simulation_setting\", \"estimation_results\", \"check_result\"],\n",
    ")\n",
    "\n",
    "GenerationSettings = namedtuple(\n",
    "    \"GenerationSettings\", [\"true_setting\", \"tester_settings\"]\n",
    ")\n"
   ]
  },
  {
   "cell_type": "code",
   "execution_count": 12,
   "metadata": {},
   "outputs": [],
   "source": [
    "noise_setting_0 = NoiseSetting(\n",
    "    qoperation_base=base_state, method=\"depolarized\", para={\"error_rate\": 0.1}\n",
    ")\n",
    "noise_setting_1 = NoiseSetting(\n",
    "    qoperation_base=povm_x, method=\"depolarized\", para={\"error_rate\": 0.1}\n",
    ")\n",
    "noise_setting_2 = NoiseSetting(\n",
    "    qoperation_base=povm_y, method=\"depolarized\", para={\"error_rate\": 0.1}\n",
    ")\n",
    "noise_setting_3 = NoiseSetting(\n",
    "    qoperation_base=povm_z, method=\"depolarized\", para={\"error_rate\": 0.1}\n",
    ")\n",
    "\n",
    "test_setting_0 = TestSetting(\n",
    "    true_object=noise_setting_0,\n",
    "    tester_objects=[noise_setting_1, noise_setting_2, noise_setting_3],\n",
    "    seed=777,\n",
    "    n_sample=2,\n",
    "    n_rep=10,\n",
    "    num_data=[100, 1000],\n",
    "    schedules=\"all\",\n",
    "    case_names=case_names,\n",
    "    estimators=estimators,\n",
    "    algo_list=algo_list,\n",
    "    loss_list=loss_list,\n",
    "    parametrizations=parametrizations\n",
    ")\n",
    "\n",
    "# TODO: 複数のtest_settingをtest_settingsに格納する\n",
    "test_settings = [test_setting_0, test_setting_0]"
   ]
  },
  {
   "cell_type": "code",
   "execution_count": 13,
   "metadata": {},
   "outputs": [],
   "source": [
    "# 1つのtest_settingから、QOperationGenerationSettingのリストを作る\n",
    "def to_generation_setting(noise_setting):\n",
    "    # TODO: 他に良い方法がないか検討\n",
    "    if noise_setting.method == \"depolarized\":\n",
    "        target_class =  DepolarizedQOperationGenerationSetting\n",
    "    else:\n",
    "        message = f\"noise_setting.method='{noise_setting.method}' is not implemented.\"\n",
    "        raise NotImplementedError(message)\n",
    "    return target_class(\n",
    "            qoperation_base=noise_setting.qoperation_base,\n",
    "            c_sys=noise_setting.qoperation_base.composite_system,\n",
    "            **noise_setting.para\n",
    "        )\n",
    "\n",
    "def to_generation_settings(test_setting):\n",
    "    true_setting = to_generation_setting(test_setting.true_object)\n",
    "    tester_settings = [to_generation_setting(setting) for setting in test_setting.tester_objects]\n",
    "    generation_settings = GenerationSettings(true_setting=true_setting, tester_settings=tester_settings)\n",
    "    return generation_settings\n",
    "\n",
    "def to_simulation_setting(test_setting, true_object, tester_objects, case_index: int) -> StandardQTomographySimulationSetting:\n",
    "    return StandardQTomographySimulationSetting(\n",
    "        name=test_setting.case_names[case_index],\n",
    "        estimator=test_setting.estimators[case_index],\n",
    "        loss=test_setting.loss_list[case_index][0],\n",
    "        loss_option=test_setting.loss_list[case_index][1],\n",
    "        algo=test_setting.algo_list[case_index][0],\n",
    "        algo_option=test_setting.algo_list[case_index][1],\n",
    "        true_object=true_object,\n",
    "        tester_objects=tester_objects,\n",
    "        n_rep=test_setting.n_rep,\n",
    "        seed=test_setting.seed,\n",
    "        num_data = test_setting.num_data,\n",
    "        schedules= test_setting.schedules\n",
    "    )"
   ]
  },
  {
   "cell_type": "code",
   "execution_count": 14,
   "metadata": {},
   "outputs": [],
   "source": [
    "from quara.protocol.qtomography.standard.standard_qst import StandardQst\n",
    "from quara.protocol.qtomography.standard.standard_qpt import StandardQpt\n",
    "from quara.protocol.qtomography.standard.standard_povmt import StandardPovmt\n",
    "\n",
    "\n",
    "def generate_qtomography(sim_setting, para: bool, eps_proj_physical: float) -> \"StandardQTomography\":\n",
    "    true_object = sim_setting.true_object\n",
    "    tester_objects = sim_setting.tester_objects\n",
    "    seed = sim_setting.seed\n",
    "\n",
    "    if type(true_object) == State:\n",
    "        return StandardQst(\n",
    "            tester_objects,\n",
    "            on_para_eq_constraint=para,\n",
    "            seed=seed,\n",
    "            eps_proj_physical=eps_proj_physical,\n",
    "        )\n",
    "    if type(true_object) == Povm:\n",
    "        return StandardPovmt(\n",
    "            tester_objects,\n",
    "            on_para_eq_constraint=para,\n",
    "            seed=seed,\n",
    "            eps_proj_physical=eps_proj_physical,\n",
    "        )\n",
    "    if type(true_object) == Gate:\n",
    "        states = [t for t in tester_objects if type(t) == State]\n",
    "        povms = [t for t in tester_objects if type(t) == Povm]\n",
    "\n",
    "        return StandardQpt(\n",
    "            states=states,\n",
    "            povms=povms,\n",
    "            on_para_eq_constraint=para,\n",
    "            seed=seed,\n",
    "            eps_proj_physical=eps_proj_physical,\n",
    "        )\n",
    "    # TODO: message\n",
    "    return TypeError()"
   ]
  },
  {
   "cell_type": "code",
   "execution_count": 24,
   "metadata": {},
   "outputs": [],
   "source": [
    "def result2dict(result):\n",
    "    result_dict = dict(\n",
    "        test_setting_index=result.result_index[\"test_setting_index\"],\n",
    "        sample_index=result.result_index[\"sample_index\"],\n",
    "        case_index=result.result_index[\"case_index\"],\n",
    "        name=result.simulation_setting.name,\n",
    "        total_result=result.check_result[\"total_result\"])\n",
    "\n",
    "    def _make_warning_text(r):\n",
    "        possibly_ok = r[\"detail\"][\"possibly_ok\"]\n",
    "        to_be_checked = r[\"detail\"][\"to_be_checked\"]\n",
    "        warning_text = \"\"\n",
    "        if not possibly_ok:\n",
    "            warning_text = f\"Consistency: possibly_ok={possibly_ok}, to_be_checked={to_be_checked}\"\n",
    "        return warning_text\n",
    "    \n",
    "    check_result = {}\n",
    "    warning_text = \"\"\n",
    "    \n",
    "    for r in result.check_result[\"results\"]:\n",
    "        check_result[r[\"name\"]] = r[\"result\"]\n",
    "        if r[\"name\"] == \"Consistency\":\n",
    "            warning_text +=  _make_warning_text(r)\n",
    "\n",
    "    result_dict.update(check_result)\n",
    "    result_dict[\"warning\"] = warning_text\n",
    "        \n",
    "    return result_dict"
   ]
  },
  {
   "cell_type": "code",
   "execution_count": 25,
   "metadata": {},
   "outputs": [],
   "source": [
    "def write_results(results: List[Result], dir_path) -> None:\n",
    "    dir_path = Path(dir_path)\n",
    "    dir_path.mkdir(parents=True, exist_ok=True)\n",
    "    path = dir_path / \"check_result.csv\"\n",
    "\n",
    "    result_dict_list = [result2dict(r) for r in results]\n",
    "    sample_result_df = pd.DataFrame(result_dict_list)\n",
    "    sample_result_df.to_csv(path, index=None)\n",
    "\n",
    "    print(f\"Completed to write csv. {path}\")\n",
    "\n",
    "\n",
    "def write_result_case_unit(result: namedtuple, root_dir: str) -> None:\n",
    "    test_setting_index = result.result_index[\"test_setting_index\"]\n",
    "    sample_index = result.result_index[\"sample_index\"]\n",
    "    case_index = result.result_index[\"case_index\"]\n",
    "    \n",
    "    # Save all\n",
    "    dir_path = Path(f\"{root_dir}/{test_setting_index}/{sample_index}\")\n",
    "    dir_path.mkdir(parents=True, exist_ok=True)\n",
    "    path = dir_path / f\"case_{case_index}_result.pickle\"\n",
    "    with open(path, 'wb') as f:\n",
    "        pickle.dump(result, f)\n",
    "\n",
    "    check_result = result.check_result\n",
    "    path = dir_path / f\"case_{case_index}_check_result.json\"\n",
    "    with open(path, \"w\") as f:\n",
    "        json.dump(check_result, f, ensure_ascii=False, indent=4, separators=(',', ': '))\n",
    "\n",
    "    \n",
    "def write_result_sample_unit(results: List[namedtuple], root_dir: str):\n",
    "    test_setting_index = results[0].result_index[\"test_setting_index\"]\n",
    "    sample_index = results[0].result_index[\"sample_index\"]\n",
    "    dir_path = Path(root_dir) / str(test_setting_index) / str(sample_index)\n",
    "\n",
    "    write_results(results, dir_path)\n",
    "\n",
    "\n",
    "def write_result_test_setting_unit(results: List[namedtuple], root_dir: str):\n",
    "    test_setting_index = results[0].result_index[\"test_setting_index\"]\n",
    "    dir_path = Path(root_dir) / str(test_setting_index)\n",
    "    \n",
    "    write_results(results, dir_path)\n",
    "    \n",
    "def write_pdf_report(results, root_dir):\n",
    "    test_setting_index = results[0].result_index[\"test_setting_index\"]\n",
    "    sample_index = results[0].result_index[\"sample_index\"]\n",
    "    \n",
    "    dir_path = Path(root_dir) / str(test_setting_index) / str(sample_index)\n",
    "    dir_path.mkdir(parents=True, exist_ok=True)\n",
    "    path = dir_path / f\"{test_setting_index}_{sample_index}_quara_report.pdf\"\n",
    "    \n",
    "    estimation_results_list = [r.estimation_results for r in results]\n",
    "    sim_settings = [r.simulation_setting for r in results]\n",
    "    \n",
    "    report.export_report(path, estimation_results_list, sim_settings)"
   ]
  },
  {
   "cell_type": "code",
   "execution_count": 31,
   "metadata": {},
   "outputs": [],
   "source": [
    "def execute_simulation_case_unit(\n",
    "    test_setting,\n",
    "    true_object,\n",
    "    tester_objects,\n",
    "    case_index: int,\n",
    "    sample_index: int,\n",
    "    test_setting_index: int,\n",
    "    root_dir: str,\n",
    ") -> Result:\n",
    "    # QTomographySimulationSettingを作る\n",
    "    sim_setting = to_simulation_setting(\n",
    "        test_setting, true_object, tester_objects, case_index\n",
    "    )\n",
    "    print(f\"Case {case_index}: {sim_setting.name}\")\n",
    "\n",
    "    def _copy_sim_setting(source):\n",
    "        return StandardQTomographySimulationSetting(\n",
    "            name=source.name,\n",
    "            true_object=source.true_object,\n",
    "            tester_objects=source.tester_objects,\n",
    "            estimator=source.estimator,\n",
    "            loss=copy.deepcopy(source.loss),\n",
    "            loss_option=source.loss_option,\n",
    "            algo=copy.deepcopy(source.algo),\n",
    "            algo_option=source.algo_option,\n",
    "            seed=source.seed,\n",
    "            n_rep=source.n_rep,\n",
    "            num_data=source.num_data,\n",
    "            schedules=source.schedules\n",
    "        )\n",
    "\n",
    "    org_sim_setting = _copy_sim_setting(sim_setting)\n",
    "\n",
    "    # QTomographyの作成\n",
    "    qtomography = generate_qtomography(\n",
    "        sim_setting,\n",
    "        para=test_setting.parametrizations[case_index],\n",
    "        eps_proj_physical=1e-13,\n",
    "    )\n",
    "\n",
    "    # 推定\n",
    "    estimation_results = data_analysis.execute_simulation(\n",
    "        qtomography=qtomography, simulation_setting=sim_setting\n",
    "    )\n",
    "\n",
    "    # 自動テスト\n",
    "    sim_check = StandardQTomographySimulationCheck(sim_setting, estimation_results)\n",
    "    check_result = sim_check.execute_all(show_detail=False, with_detail=True)\n",
    "\n",
    "    # 結果の表示\n",
    "    if not check_result[\"total_result\"]:\n",
    "        start_red = \"\\033[31m\"\n",
    "        end_color = \"\\033[0m\"\n",
    "        print(f\"Total Result: {start_red}NG{end_color}\")\n",
    "\n",
    "    result_index = dict(\n",
    "        test_setting_index=test_setting_index,\n",
    "        sample_index=sample_index,\n",
    "        case_index=case_index,\n",
    "    )\n",
    "\n",
    "    # 結果の格納\n",
    "    result = Result(\n",
    "        result_index=result_index,\n",
    "        simulation_setting=org_sim_setting,\n",
    "        estimation_results=estimation_results,\n",
    "        check_result=check_result,\n",
    "    )\n",
    "    # Save\n",
    "    write_result_case_unit(result, root_dir=root_dir)\n",
    "    return result"
   ]
  },
  {
   "cell_type": "code",
   "execution_count": 28,
   "metadata": {},
   "outputs": [],
   "source": [
    "def execute_simulation_sample_unit(\n",
    "    test_setting, generation_settings, test_setting_index, sample_index, root_dir, pdf_mode: str=\"only_ng\"\n",
    ") -> List[Result]:\n",
    "    # sampleの生成\n",
    "    true_object = generation_settings.true_setting.generate()\n",
    "    tester_objects = [\n",
    "        tester_setting.generate()\n",
    "        for tester_setting in generation_settings.tester_settings\n",
    "    ]\n",
    "    results = []\n",
    "    case_n = len(test_setting.case_names)\n",
    "\n",
    "    for case_index in range(case_n):\n",
    "        result = execute_simulation_case_unit(\n",
    "            test_setting,\n",
    "            true_object=true_object,\n",
    "            tester_objects=tester_objects,\n",
    "            case_index=case_index,\n",
    "            sample_index=sample_index,\n",
    "            test_setting_index=test_setting_index,\n",
    "            root_dir=root_dir,\n",
    "        )\n",
    "        results.append(result)\n",
    "\n",
    "    # Save\n",
    "    write_result_sample_unit(results, root_dir=root_dir)\n",
    "    \n",
    "    # Save PDF\n",
    "    if pdf_mode == \"all\":\n",
    "        write_pdf_report(results, root_dir)\n",
    "    elif pdf_mode == \"only_ng\":\n",
    "        total_results = [r.check_result[\"total_result\"] for r in results]\n",
    "        print(f\"{total_results=}\")\n",
    "        print(np.all(total_results))\n",
    "        if not np.all(total_results):\n",
    "            write_pdf_report(results, root_dir)\n",
    "    elif pdf_mode == \"none\":\n",
    "        pass\n",
    "    else:\n",
    "        message = \"`pdf_mode` must be 'all', 'only_ng', or 'none'.\"\n",
    "        raise ValueError(message)\n",
    "        \n",
    "    return results\n",
    "\n",
    "\n",
    "def execute_simulation_test_setting_unit(test_setting, dir_path, pdf_mode: str='only_ng') -> List[Result]:\n",
    "    generation_settings = to_generation_settings(test_setting)\n",
    "    n_sample = test_setting.n_sample\n",
    "    results = []\n",
    "\n",
    "    for sample_index in range(n_sample):\n",
    "        sample_results = execute_simulation_sample_unit(\n",
    "            test_setting,\n",
    "            generation_settings,\n",
    "            test_setting_index,\n",
    "            sample_index,\n",
    "            root_dir,\n",
    "            pdf_mode=pdf_mode\n",
    "        )\n",
    "        results += sample_results\n",
    "\n",
    "    # 保存（test_index単位）\n",
    "    write_result_test_setting_unit(results, dir_path)\n",
    "    return results"
   ]
  },
  {
   "cell_type": "code",
   "execution_count": 54,
   "metadata": {},
   "outputs": [],
   "source": [
    "def print_summary(results, elapsed_time):\n",
    "    result_dict_list = [result2dict(r) for r in results]\n",
    "    result_df = pd.DataFrame(result_dict_list)\n",
    "    case_n = result_df.shape[0]\n",
    "    ok_n = result_df[result_df[\"total_result\"]].shape[0]\n",
    "    ng_n = result_df[~result_df[\"total_result\"]].shape[0]\n",
    "    warning_n = result_df[result_df[\"total_result\"] & result_df[\"warning\"].isnull()].shape[0]\n",
    "    \n",
    "    def _to_h_m_s(sec) -> tuple:\n",
    "        m, s = divmod(int(sec), 60)\n",
    "        h, m = divmod(m, 60)\n",
    "        return h, m, s\n",
    "    \n",
    "    h, m, s = _to_h_m_s(elapsed_time)\n",
    "    time_text = '{:.1f}s '.format(elapsed_time)\n",
    "    time_text += f\"({h}:{str(m).zfill(2)}:{str(s).zfill(2)})\"\n",
    "\n",
    "    start_red = \"\\033[31m\"\n",
    "    start_green = '\\033[32m'\n",
    "    start_yellow = '\\033[33m'\n",
    "    end_color = \"\\033[0m\"\n",
    "\n",
    "    summary_text = f\"{start_yellow}=============={end_color} \"\n",
    "    summary_text += f\"{start_green}OK: {ok_n} cases{end_color} ({start_yellow}{warning_n} warnings{end_color}), \"\n",
    "    summary_text += f\"{start_red}NG: {ng_n} cases{end_color} \"\n",
    "    summary_text += f\"{start_yellow} in {time_text}s=============={end_color}\"\n",
    "\n",
    "    print(summary_text)"
   ]
  },
  {
   "cell_type": "code",
   "execution_count": 29,
   "metadata": {},
   "outputs": [
    {
     "name": "stderr",
     "output_type": "stream",
     "text": [
      "\r",
      "  0%|          | 0/10 [00:00<?, ?it/s]"
     ]
    },
    {
     "name": "stdout",
     "output_type": "stream",
     "text": [
      "Case 0: Linear (True)\n",
      "=======schedules=======\n",
      "('state', 0): ('povm', 0)\n",
      "('state', 0): ('povm', 1)\n",
      "('state', 0): ('povm', 2)\n",
      "=====================\n",
      "=======schedules=======\n",
      "('state', 0): ('povm', 0)\n",
      "('state', 0): ('povm', 1)\n",
      "('state', 0): ('povm', 2)\n",
      "=====================\n",
      "=======schedules=======\n",
      "('state', 0): ('povm', 0)\n",
      "('state', 0): ('povm', 1)\n",
      "('state', 0): ('povm', 2)\n",
      "=====================\n",
      "=======schedules=======\n",
      "('state', 0): ('povm', 0)\n",
      "('state', 0): ('povm', 1)\n",
      "('state', 0): ('povm', 2)\n",
      "=====================\n",
      "=======schedules=======\n",
      "('state', 0): ('povm', 0)\n",
      "('state', 0): ('povm', 1)\n",
      "('state', 0): ('povm', 2)\n",
      "=====================\n",
      "=======schedules=======\n",
      "('state', 0): ('povm', 0)\n",
      "('state', 0): ('povm', 1)\n",
      "('state', 0): ('povm', 2)\n",
      "=====================\n",
      "=======schedules=======\n",
      "('state', 0): ('povm', 0)\n",
      "('state', 0): ('povm', 1)\n",
      "('state', 0): ('povm', 2)\n",
      "=====================\n"
     ]
    },
    {
     "name": "stderr",
     "output_type": "stream",
     "text": [
      "100%|██████████| 10/10 [00:00<00:00, 57.57it/s]\n",
      "100%|██████████| 10/10 [00:00<00:00, 4223.02it/s]\n",
      "100%|██████████| 10/10 [00:00<00:00, 7741.42it/s]"
     ]
    },
    {
     "name": "stdout",
     "output_type": "stream",
     "text": [
      "=======schedules=======\n",
      "('state', 0): ('povm', 0)\n",
      "('state', 0): ('povm', 1)\n",
      "('state', 0): ('povm', 2)\n",
      "=====================\n",
      "=======schedules=======\n",
      "('state', 0): ('povm', 0)\n",
      "('state', 0): ('povm', 1)\n",
      "('state', 0): ('povm', 2)\n",
      "=====================\n",
      "=======schedules=======\n",
      "('state', 0): ('povm', 0)\n",
      "('state', 0): ('povm', 1)\n",
      "('state', 0): ('povm', 2)\n",
      "=====================\n",
      "=======schedules=======\n",
      "('state', 0): ('povm', 0)\n",
      "('state', 0): ('povm', 1)\n",
      "('state', 0): ('povm', 2)\n",
      "=====================\n"
     ]
    },
    {
     "name": "stderr",
     "output_type": "stream",
     "text": [
      "\n"
     ]
    },
    {
     "name": "stdout",
     "output_type": "stream",
     "text": [
      "========== Summary ============\n",
      "Name: Linear (True)\n",
      "MSE of Empirical Distributions: \u001b[32mOK\u001b[0m\n",
      "Consistency: \u001b[32mOK\u001b[0m (to_be_checked=False)\n",
      "MSE of estimators: \u001b[32mOK\u001b[0m\n",
      "Physicality Violation: \u001b[32mOK\u001b[0m\n",
      "===============================\n"
     ]
    },
    {
     "name": "stderr",
     "output_type": "stream",
     "text": [
      "\r",
      "  0%|          | 0/10 [00:00<?, ?it/s]"
     ]
    },
    {
     "name": "stdout",
     "output_type": "stream",
     "text": [
      "Case 1: Linear (False)\n",
      "=======schedules=======\n",
      "('state', 0): ('povm', 0)\n",
      "('state', 0): ('povm', 1)\n",
      "('state', 0): ('povm', 2)\n",
      "=====================\n",
      "=======schedules=======\n",
      "('state', 0): ('povm', 0)\n",
      "('state', 0): ('povm', 1)\n",
      "('state', 0): ('povm', 2)\n",
      "=====================\n",
      "=======schedules=======\n",
      "('state', 0): ('povm', 0)\n",
      "('state', 0): ('povm', 1)\n",
      "('state', 0): ('povm', 2)\n",
      "=====================\n",
      "=======schedules=======\n",
      "('state', 0): ('povm', 0)\n",
      "('state', 0): ('povm', 1)\n",
      "('state', 0): ('povm', 2)\n",
      "=====================\n",
      "=======schedules=======\n",
      "('state', 0): ('povm', 0)\n",
      "('state', 0): ('povm', 1)\n",
      "('state', 0): ('povm', 2)\n",
      "=====================\n",
      "=======schedules======="
     ]
    },
    {
     "name": "stderr",
     "output_type": "stream",
     "text": [
      "100%|██████████| 10/10 [00:00<00:00, 59.95it/s]\n",
      "100%|██████████| 10/10 [00:00<00:00, 22063.67it/s]\n",
      "100%|██████████| 10/10 [00:00<00:00, 23471.20it/s]"
     ]
    },
    {
     "name": "stdout",
     "output_type": "stream",
     "text": [
      "\n",
      "('state', 0): ('povm', 0)\n",
      "('state', 0): ('povm', 1)\n",
      "('state', 0): ('povm', 2)\n",
      "=====================\n",
      "=======schedules=======\n",
      "('state', 0): ('povm', 0)\n",
      "('state', 0): ('povm', 1)\n",
      "('state', 0): ('povm', 2)\n",
      "=====================\n",
      "=======schedules=======\n",
      "('state', 0): ('povm', 0)\n",
      "('state', 0): ('povm', 1)\n",
      "('state', 0): ('povm', 2)\n",
      "=====================\n",
      "=======schedules=======\n",
      "('state', 0): ('povm', 0)\n",
      "('state', 0): ('povm', 1)\n",
      "('state', 0): ('povm', 2)\n",
      "=====================\n",
      "=======schedules=======\n",
      "('state', 0): ('povm', 0)\n",
      "('state', 0): ('povm', 1)\n",
      "('state', 0): ('povm', 2)\n",
      "=====================\n",
      "=======schedules=======\n",
      "('state', 0): ('povm', 0)\n",
      "('state', 0): ('povm', 1)\n",
      "('state', 0): ('povm', 2)\n",
      "=====================\n",
      "========== Summary ============\n",
      "Name: Linear (False)\n",
      "MSE of Empirical Distributions: \u001b[32mOK\u001b[0m\n",
      "Consistency: \u001b[32mOK\u001b[0m (to_be_checked=False)\n",
      "MSE of estimators: \u001b[32mOK\u001b[0m\n",
      "Physicality Violation: \u001b[32mOK\u001b[0m\n",
      "===============================\n",
      "Case 2: ProjectedLinear (True)\n"
     ]
    },
    {
     "name": "stderr",
     "output_type": "stream",
     "text": [
      "\n",
      "\r",
      "  0%|          | 0/10 [00:00<?, ?it/s]"
     ]
    },
    {
     "name": "stdout",
     "output_type": "stream",
     "text": [
      "=======schedules=======\n",
      "('state', 0): ('povm', 0)\n",
      "('state', 0): ('povm', 1)\n",
      "('state', 0): ('povm', 2)\n",
      "=====================\n",
      "=======schedules=======\n",
      "('state', 0): ('povm', 0)\n",
      "('state', 0): ('povm', 1)\n",
      "('state', 0): ('povm', 2)\n",
      "=====================\n",
      "=======schedules=======\n",
      "('state', 0): ('povm', 0)\n",
      "('state', 0): ('povm', 1)\n",
      "('state', 0): ('povm', 2)\n",
      "=====================\n",
      "=======schedules=======\n",
      "('state', 0): ('povm', 0)\n",
      "('state', 0): ('povm', 1)\n",
      "('state', 0): ('povm', 2)\n",
      "=====================\n"
     ]
    },
    {
     "name": "stderr",
     "output_type": "stream",
     "text": [
      "\r",
      " 40%|████      | 4/10 [00:00<00:00, 34.52it/s]"
     ]
    },
    {
     "name": "stdout",
     "output_type": "stream",
     "text": [
      "=======schedules=======\n",
      "('state', 0): ('povm', 0)\n",
      "('state', 0): ('povm', 1)\n",
      "('state', 0): ('povm', 2)\n",
      "=====================\n",
      "=======schedules=======\n",
      "('state', 0): ('povm', 0)\n",
      "('state', 0): ('povm', 1)\n",
      "('state', 0): ('povm', 2)\n",
      "=====================\n",
      "=======schedules=======\n",
      "('state', 0): ('povm', 0)\n",
      "('state', 0): ('povm', 1)\n",
      "('state', 0): ('povm', 2)\n",
      "=====================\n",
      "=======schedules=======\n",
      "('state', 0): ('povm', 0)\n",
      "('state', 0): ('povm', 1)\n",
      "('state', 0): ('povm', 2)\n",
      "=====================\n"
     ]
    },
    {
     "name": "stderr",
     "output_type": "stream",
     "text": [
      "100%|██████████| 10/10 [00:00<00:00, 40.20it/s]\n",
      "100%|██████████| 10/10 [00:00<00:00, 12394.52it/s]"
     ]
    },
    {
     "name": "stdout",
     "output_type": "stream",
     "text": [
      "=======schedules=======\n",
      "('state', 0): ('povm', 0)\n",
      "('state', 0): ('povm', 1)\n",
      "('state', 0): ('povm', 2)\n",
      "=====================\n",
      "=======schedules=======\n",
      "('state', 0): ('povm', 0)\n",
      "('state', 0): ('povm', 1)\n",
      "('state', 0): ('povm', 2)\n",
      "=====================\n"
     ]
    },
    {
     "name": "stderr",
     "output_type": "stream",
     "text": [
      "\n",
      "100%|██████████| 10/10 [00:00<00:00, 3197.12it/s]\n",
      "  0%|          | 0/10 [00:00<?, ?it/s]"
     ]
    },
    {
     "name": "stdout",
     "output_type": "stream",
     "text": [
      "=======schedules=======\n",
      "('state', 0): ('povm', 0)\n",
      "('state', 0): ('povm', 1)\n",
      "('state', 0): ('povm', 2)\n",
      "=====================\n",
      "=======schedules=======\n",
      "('state', 0): ('povm', 0)\n",
      "('state', 0): ('povm', 1)\n",
      "('state', 0): ('povm', 2)\n",
      "=====================\n",
      "=======schedules=======\n",
      "('state', 0): ('povm', 0)\n",
      "('state', 0): ('povm', 1)\n",
      "('state', 0): ('povm', 2)\n",
      "=====================\n"
     ]
    },
    {
     "name": "stderr",
     "output_type": "stream",
     "text": [
      "\r",
      " 60%|██████    | 6/10 [00:00<00:00, 54.39it/s]"
     ]
    },
    {
     "name": "stdout",
     "output_type": "stream",
     "text": [
      "=======schedules=======\n",
      "('state', 0): ('povm', 0)\n",
      "('state', 0): ('povm', 1)\n",
      "('state', 0): ('povm', 2)\n",
      "=====================\n",
      "=======schedules=======\n",
      "('state', 0): ('povm', 0)\n",
      "('state', 0): ('povm', 1)\n",
      "('state', 0): ('povm', 2)\n",
      "=====================\n",
      "=======schedules=======\n",
      "('state', 0): ('povm', 0)\n",
      "('state', 0): ('povm', 1)\n",
      "('state', 0): ('povm', 2)\n",
      "=====================\n",
      "=======schedules=======\n",
      "('state', 0): ('povm', 0)\n",
      "('state', 0): ('povm', 1)\n",
      "('state', 0): ('povm', 2)\n",
      "=====================\n",
      "=======schedules=======\n",
      "('state', 0): ('povm', 0)\n",
      "('state', 0): ('povm', 1)\n",
      "('state', 0): ('povm', 2)\n",
      "=====================\n"
     ]
    },
    {
     "name": "stderr",
     "output_type": "stream",
     "text": [
      "100%|██████████| 10/10 [00:00<00:00, 55.23it/s]\n"
     ]
    },
    {
     "name": "stdout",
     "output_type": "stream",
     "text": [
      "=======schedules=======\n",
      "('state', 0): ('povm', 0)\n",
      "('state', 0): ('povm', 1)\n",
      "('state', 0): ('povm', 2)\n",
      "=====================\n",
      "=======schedules=======\n",
      "('state', 0): ('povm', 0)\n",
      "('state', 0): ('povm', 1)\n",
      "('state', 0): ('povm', 2)\n",
      "=====================\n",
      "=======schedules=======\n",
      "('state', 0): ('povm', 0)\n",
      "('state', 0): ('povm', 1)\n",
      "('state', 0): ('povm', 2)\n",
      "=====================\n"
     ]
    },
    {
     "name": "stderr",
     "output_type": "stream",
     "text": [
      "\r",
      "  0%|          | 0/10 [00:00<?, ?it/s]"
     ]
    },
    {
     "name": "stdout",
     "output_type": "stream",
     "text": [
      "========== Summary ============\n",
      "Name: ProjectedLinear (True)\n",
      "MSE of Empirical Distributions: \u001b[32mOK\u001b[0m\n",
      "Consistency: \u001b[32mOK\u001b[0m (to_be_checked=False)\n",
      "MSE of estimators: \u001b[31mNG\u001b[0m\n",
      "Physicality Violation: \u001b[32mOK\u001b[0m\n",
      "===============================\n",
      "Total Result: \u001b[31mNG\u001b[0m\n",
      "Case 3: ProjectedLinear (False)\n",
      "=======schedules=======\n",
      "('state', 0): ('povm', 0)\n",
      "('state', 0): ('povm', 1)\n",
      "('state', 0): ('povm', 2)\n",
      "=====================\n",
      "=======schedules=======\n",
      "('state', 0): ('povm', 0)\n",
      "('state', 0): ('povm', 1)\n",
      "('state', 0): ('povm', 2)\n",
      "=====================\n",
      "=======schedules=======\n",
      "('state', 0): ('povm', 0)\n",
      "('state', 0): ('povm', 1)\n",
      "('state', 0): ('povm', 2)\n",
      "=====================\n",
      "=======schedules=======\n",
      "('state', 0): ('povm', 0)\n",
      "('state', 0): ('povm', 1)\n",
      "('state', 0): ('povm', 2)\n",
      "=====================\n",
      "=======schedules=======\n",
      "('state', 0): ('povm', 0)\n",
      "('state', 0): ('povm', 1)\n",
      "('state', 0): ('povm', 2)\n",
      "=====================\n"
     ]
    },
    {
     "name": "stderr",
     "output_type": "stream",
     "text": [
      "\r",
      " 50%|█████     | 5/10 [00:00<00:00, 45.39it/s]"
     ]
    },
    {
     "name": "stdout",
     "output_type": "stream",
     "text": [
      "=======schedules=======\n",
      "('state', 0): ('povm', 0)\n",
      "('state', 0): ('povm', 1)\n",
      "('state', 0): ('povm', 2)\n",
      "=====================\n",
      "=======schedules=======\n",
      "('state', 0): ('povm', 0)\n",
      "('state', 0): ('povm', 1)\n",
      "('state', 0): ('povm', 2)\n",
      "=====================\n",
      "=======schedules=======\n",
      "('state', 0): ('povm', 0)\n",
      "('state', 0): ('povm', 1)\n",
      "('state', 0): ('povm', 2)\n",
      "=====================\n",
      "=======schedules=======\n",
      "('state', 0): ('povm', 0)\n",
      "('state', 0): ('povm', 1)\n",
      "('state', 0): ('povm', 2)\n",
      "=====================\n",
      "=======schedules=======\n",
      "('state', 0): ('povm', 0)\n",
      "('state', 0): ('povm', 1)\n",
      "('state', 0): ('povm', 2)\n",
      "=====================\n"
     ]
    },
    {
     "name": "stderr",
     "output_type": "stream",
     "text": [
      "100%|██████████| 10/10 [00:00<00:00, 49.36it/s]\n",
      "100%|██████████| 10/10 [00:00<00:00, 5088.94it/s]\n",
      "100%|██████████| 10/10 [00:00<00:00, 3206.41it/s]\n",
      "  0%|          | 0/10 [00:00<?, ?it/s]"
     ]
    },
    {
     "name": "stdout",
     "output_type": "stream",
     "text": [
      "=======schedules=======\n",
      "('state', 0): ('povm', 0)\n",
      "('state', 0): ('povm', 1)\n",
      "('state', 0): ('povm', 2)\n",
      "=====================\n",
      "=======schedules=======\n",
      "('state', 0): ('povm', 0)\n",
      "('state', 0): ('povm', 1)\n",
      "('state', 0): ('povm', 2)\n",
      "=====================\n",
      "=======schedules=======\n",
      "('state', 0): ('povm', 0)\n",
      "('state', 0): ('povm', 1)\n",
      "('state', 0): ('povm', 2)\n",
      "=====================\n",
      "=======schedules=======\n",
      "('state', 0): ('povm', 0)\n",
      "('state', 0): ('povm', 1)\n",
      "('state', 0): ('povm', 2)\n",
      "=====================\n",
      "=======schedules=======\n",
      "('state', 0): ('povm', 0)\n",
      "('state', 0): ('povm', 1)\n",
      "('state', 0): ('povm', 2)\n",
      "=====================\n",
      "=======schedules=======\n",
      "('state', 0): ('povm', 0)\n",
      "('state', 0): ('povm', 1)\n",
      "('state', 0): ('povm', 2)\n",
      "=====================\n",
      "=======schedules=======\n",
      "('state', 0): ('povm', 0)\n",
      "('state', 0): ('povm', 1)\n",
      "('state', 0): ('povm', 2)\n",
      "=====================\n"
     ]
    },
    {
     "name": "stderr",
     "output_type": "stream",
     "text": [
      "100%|██████████| 10/10 [00:00<00:00, 57.27it/s]\n"
     ]
    },
    {
     "name": "stdout",
     "output_type": "stream",
     "text": [
      "=======schedules=======\n",
      "('state', 0): ('povm', 0)\n",
      "('state', 0): ('povm', 1)\n",
      "('state', 0): ('povm', 2)\n",
      "=====================\n",
      "=======schedules=======\n",
      "('state', 0): ('povm', 0)\n",
      "('state', 0): ('povm', 1)\n",
      "('state', 0): ('povm', 2)\n",
      "=====================\n",
      "=======schedules=======\n",
      "('state', 0): ('povm', 0)\n",
      "('state', 0): ('povm', 1)\n",
      "('state', 0): ('povm', 2)\n",
      "=====================\n",
      "=======schedules=======\n",
      "('state', 0): ('povm', 0)\n",
      "('state', 0): ('povm', 1)\n",
      "('state', 0): ('povm', 2)\n",
      "=====================\n",
      "========== Summary ============\n",
      "Name: ProjectedLinear (False)\n",
      "MSE of Empirical Distributions: \u001b[32mOK\u001b[0m\n",
      "Consistency: \u001b[32mOK\u001b[0m (to_be_checked=False)\n",
      "MSE of estimators: \u001b[31mNG\u001b[0m\n",
      "Physicality Violation: \u001b[32mOK\u001b[0m\n",
      "===============================\n"
     ]
    },
    {
     "name": "stderr",
     "output_type": "stream",
     "text": [
      "\r",
      "  0%|          | 0/10 [00:00<?, ?it/s]"
     ]
    },
    {
     "name": "stdout",
     "output_type": "stream",
     "text": [
      "Total Result: \u001b[31mNG\u001b[0m\n",
      "Case 4: Maximum-Likelihood (True)\n",
      "=======schedules=======\n",
      "('state', 0): ('povm', 0)\n",
      "('state', 0): ('povm', 1)\n",
      "('state', 0): ('povm', 2)\n",
      "=====================\n"
     ]
    },
    {
     "name": "stderr",
     "output_type": "stream",
     "text": [
      "\r",
      " 10%|█         | 1/10 [00:01<00:09,  1.07s/it]"
     ]
    },
    {
     "name": "stdout",
     "output_type": "stream",
     "text": [
      "=======schedules=======\n",
      "('state', 0): ('povm', 0)\n",
      "('state', 0): ('povm', 1)\n",
      "('state', 0): ('povm', 2)\n",
      "=====================\n"
     ]
    },
    {
     "name": "stderr",
     "output_type": "stream",
     "text": [
      "\r",
      " 20%|██        | 2/10 [00:05<00:15,  1.97s/it]"
     ]
    },
    {
     "name": "stdout",
     "output_type": "stream",
     "text": [
      "=======schedules=======\n",
      "('state', 0): ('povm', 0)\n",
      "('state', 0): ('povm', 1)\n",
      "('state', 0): ('povm', 2)\n",
      "=====================\n"
     ]
    },
    {
     "name": "stderr",
     "output_type": "stream",
     "text": [
      "\r",
      " 30%|███       | 3/10 [00:07<00:14,  2.02s/it]"
     ]
    },
    {
     "name": "stdout",
     "output_type": "stream",
     "text": [
      "=======schedules=======\n",
      "('state', 0): ('povm', 0)\n",
      "('state', 0): ('povm', 1)\n",
      "('state', 0): ('povm', 2)\n",
      "=====================\n"
     ]
    },
    {
     "name": "stderr",
     "output_type": "stream",
     "text": [
      "\r",
      " 40%|████      | 4/10 [00:10<00:13,  2.24s/it]"
     ]
    },
    {
     "name": "stdout",
     "output_type": "stream",
     "text": [
      "=======schedules=======\n",
      "('state', 0): ('povm', 0)\n",
      "('state', 0): ('povm', 1)\n",
      "('state', 0): ('povm', 2)\n",
      "=====================\n"
     ]
    },
    {
     "name": "stderr",
     "output_type": "stream",
     "text": [
      "\r",
      " 50%|█████     | 5/10 [00:12<00:11,  2.31s/it]"
     ]
    },
    {
     "name": "stdout",
     "output_type": "stream",
     "text": [
      "=======schedules=======\n",
      "('state', 0): ('povm', 0)\n",
      "('state', 0): ('povm', 1)\n",
      "('state', 0): ('povm', 2)\n",
      "=====================\n"
     ]
    },
    {
     "name": "stderr",
     "output_type": "stream",
     "text": [
      "\r",
      " 60%|██████    | 6/10 [00:14<00:09,  2.36s/it]"
     ]
    },
    {
     "name": "stdout",
     "output_type": "stream",
     "text": [
      "=======schedules=======\n",
      "('state', 0): ('povm', 0)\n",
      "('state', 0): ('povm', 1)\n",
      "('state', 0): ('povm', 2)\n",
      "=====================\n"
     ]
    },
    {
     "name": "stderr",
     "output_type": "stream",
     "text": [
      "\r",
      " 70%|███████   | 7/10 [00:16<00:06,  2.19s/it]"
     ]
    },
    {
     "name": "stdout",
     "output_type": "stream",
     "text": [
      "=======schedules=======\n",
      "('state', 0): ('povm', 0)\n",
      "('state', 0): ('povm', 1)\n",
      "('state', 0): ('povm', 2)\n",
      "=====================\n"
     ]
    },
    {
     "name": "stderr",
     "output_type": "stream",
     "text": [
      "\r",
      " 80%|████████  | 8/10 [00:20<00:05,  2.56s/it]"
     ]
    },
    {
     "name": "stdout",
     "output_type": "stream",
     "text": [
      "=======schedules=======\n",
      "('state', 0): ('povm', 0)\n",
      "('state', 0): ('povm', 1)\n",
      "('state', 0): ('povm', 2)\n",
      "=====================\n"
     ]
    },
    {
     "name": "stderr",
     "output_type": "stream",
     "text": [
      "\r",
      " 90%|█████████ | 9/10 [00:22<00:02,  2.49s/it]"
     ]
    },
    {
     "name": "stdout",
     "output_type": "stream",
     "text": [
      "=======schedules=======\n",
      "('state', 0): ('povm', 0)\n",
      "('state', 0): ('povm', 1)\n",
      "('state', 0): ('povm', 2)\n",
      "=====================\n"
     ]
    },
    {
     "name": "stderr",
     "output_type": "stream",
     "text": [
      "100%|██████████| 10/10 [00:25<00:00,  2.58s/it]\n",
      "100%|██████████| 10/10 [00:00<00:00, 10988.48it/s]\n",
      "100%|██████████| 10/10 [00:00<00:00, 3707.84it/s]\n"
     ]
    },
    {
     "name": "stdout",
     "output_type": "stream",
     "text": [
      "=======schedules=======\n",
      "('state', 0): ('povm', 0)\n",
      "('state', 0): ('povm', 1)\n",
      "('state', 0): ('povm', 2)\n",
      "=====================\n"
     ]
    },
    {
     "name": "stderr",
     "output_type": "stream",
     "text": [
      " 10%|█         | 1/10 [00:00<00:00,  9.15it/s]"
     ]
    },
    {
     "name": "stdout",
     "output_type": "stream",
     "text": [
      "=======schedules=======\n",
      "('state', 0): ('povm', 0)\n",
      "('state', 0): ('povm', 1)\n",
      "('state', 0): ('povm', 2)\n",
      "=====================\n",
      "=======schedules=======\n",
      "('state', 0): ('povm', 0)\n",
      "('state', 0): ('povm', 1)\n",
      "('state', 0): ('povm', 2)\n",
      "=====================\n",
      "=======schedules=======\n",
      "('state', 0): ('povm', 0)\n",
      "('state', 0): ('povm', 1)\n",
      "('state', 0): ('povm', 2)\n",
      "=====================\n",
      "=======schedules=======\n",
      "('state', 0): ('povm', 0)\n",
      "('state', 0): ('povm', 1)\n",
      "('state', 0): ('povm', 2)\n",
      "=====================\n"
     ]
    },
    {
     "name": "stderr",
     "output_type": "stream",
     "text": [
      "100%|██████████| 10/10 [00:00<00:00, 24.10it/s]\n"
     ]
    },
    {
     "name": "stdout",
     "output_type": "stream",
     "text": [
      "=======schedules=======\n",
      "('state', 0): ('povm', 0)\n",
      "('state', 0): ('povm', 1)\n",
      "('state', 0): ('povm', 2)\n",
      "=====================\n",
      "=======schedules=======\n",
      "('state', 0): ('povm', 0)\n",
      "('state', 0): ('povm', 1)\n",
      "('state', 0): ('povm', 2)\n",
      "=====================\n",
      "=======schedules=======\n",
      "('state', 0): ('povm', 0)\n",
      "('state', 0): ('povm', 1)\n",
      "('state', 0): ('povm', 2)\n",
      "=====================\n",
      "=======schedules=======\n",
      "('state', 0): ('povm', 0)\n",
      "('state', 0): ('povm', 1)\n",
      "('state', 0): ('povm', 2)\n",
      "=====================\n",
      "=======schedules=======\n",
      "('state', 0): ('povm', 0)\n",
      "('state', 0): ('povm', 1)\n",
      "('state', 0): ('povm', 2)\n",
      "=====================\n",
      "=======schedules=======\n",
      "('state', 0): ('povm', 0)\n",
      "('state', 0): ('povm', 1)\n",
      "('state', 0): ('povm', 2)\n",
      "=====================\n"
     ]
    },
    {
     "name": "stderr",
     "output_type": "stream",
     "text": [
      "\r",
      "  0%|          | 0/10 [00:00<?, ?it/s]"
     ]
    },
    {
     "name": "stdout",
     "output_type": "stream",
     "text": [
      "========== Summary ============\n",
      "Name: Maximum-Likelihood (True)\n",
      "MSE of Empirical Distributions: \u001b[32mOK\u001b[0m\n",
      "Consistency: \u001b[32mOK\u001b[0m (to_be_checked=False)\n",
      "MSE of estimators: \u001b[31mNG\u001b[0m\n",
      "Physicality Violation: \u001b[32mOK\u001b[0m\n",
      "===============================\n",
      "Total Result: \u001b[31mNG\u001b[0m\n",
      "Case 5: Maximum-Likelihood (False)\n",
      "=======schedules=======\n",
      "('state', 0): ('povm', 0)\n",
      "('state', 0): ('povm', 1)\n",
      "('state', 0): ('povm', 2)\n",
      "=====================\n"
     ]
    },
    {
     "name": "stderr",
     "output_type": "stream",
     "text": [
      "\r",
      " 10%|█         | 1/10 [00:03<00:31,  3.49s/it]"
     ]
    },
    {
     "name": "stdout",
     "output_type": "stream",
     "text": [
      "=======schedules=======\n",
      "('state', 0): ('povm', 0)\n",
      "('state', 0): ('povm', 1)\n",
      "('state', 0): ('povm', 2)\n",
      "=====================\n"
     ]
    },
    {
     "name": "stderr",
     "output_type": "stream",
     "text": [
      "\r",
      " 20%|██        | 2/10 [00:09<00:33,  4.16s/it]"
     ]
    },
    {
     "name": "stdout",
     "output_type": "stream",
     "text": [
      "=======schedules=======\n",
      "('state', 0): ('povm', 0)\n",
      "('state', 0): ('povm', 1)\n",
      "('state', 0): ('povm', 2)\n",
      "=====================\n"
     ]
    },
    {
     "name": "stderr",
     "output_type": "stream",
     "text": [
      "\r",
      " 30%|███       | 3/10 [00:18<00:40,  5.77s/it]"
     ]
    },
    {
     "name": "stdout",
     "output_type": "stream",
     "text": [
      "=======schedules=======\n",
      "('state', 0): ('povm', 0)\n",
      "('state', 0): ('povm', 1)\n",
      "('state', 0): ('povm', 2)\n",
      "=====================\n"
     ]
    },
    {
     "name": "stderr",
     "output_type": "stream",
     "text": [
      "\r",
      " 40%|████      | 4/10 [00:28<00:41,  6.98s/it]"
     ]
    },
    {
     "name": "stdout",
     "output_type": "stream",
     "text": [
      "=======schedules=======\n",
      "('state', 0): ('povm', 0)\n",
      "('state', 0): ('povm', 1)\n",
      "('state', 0): ('povm', 2)\n",
      "=====================\n"
     ]
    },
    {
     "name": "stderr",
     "output_type": "stream",
     "text": [
      "\r",
      " 50%|█████     | 5/10 [00:38<00:39,  7.83s/it]"
     ]
    },
    {
     "name": "stdout",
     "output_type": "stream",
     "text": [
      "=======schedules=======\n",
      "('state', 0): ('povm', 0)\n",
      "('state', 0): ('povm', 1)\n",
      "('state', 0): ('povm', 2)\n",
      "=====================\n"
     ]
    },
    {
     "name": "stderr",
     "output_type": "stream",
     "text": [
      "\r",
      " 60%|██████    | 6/10 [00:46<00:32,  8.03s/it]"
     ]
    },
    {
     "name": "stdout",
     "output_type": "stream",
     "text": [
      "=======schedules=======\n",
      "('state', 0): ('povm', 0)\n",
      "('state', 0): ('povm', 1)\n",
      "('state', 0): ('povm', 2)\n",
      "=====================\n"
     ]
    },
    {
     "name": "stderr",
     "output_type": "stream",
     "text": [
      "\r",
      " 70%|███████   | 7/10 [00:55<00:24,  8.16s/it]"
     ]
    },
    {
     "name": "stdout",
     "output_type": "stream",
     "text": [
      "=======schedules=======\n",
      "('state', 0): ('povm', 0)\n",
      "('state', 0): ('povm', 1)\n",
      "('state', 0): ('povm', 2)\n",
      "=====================\n"
     ]
    },
    {
     "name": "stderr",
     "output_type": "stream",
     "text": [
      "\r",
      " 80%|████████  | 8/10 [00:56<00:12,  6.21s/it]"
     ]
    },
    {
     "name": "stdout",
     "output_type": "stream",
     "text": [
      "=======schedules=======\n",
      "('state', 0): ('povm', 0)\n",
      "('state', 0): ('povm', 1)\n",
      "('state', 0): ('povm', 2)\n",
      "=====================\n"
     ]
    },
    {
     "name": "stderr",
     "output_type": "stream",
     "text": [
      "\r",
      " 90%|█████████ | 9/10 [00:57<00:04,  4.63s/it]"
     ]
    },
    {
     "name": "stdout",
     "output_type": "stream",
     "text": [
      "=======schedules=======\n",
      "('state', 0): ('povm', 0)\n",
      "('state', 0): ('povm', 1)\n",
      "('state', 0): ('povm', 2)\n",
      "=====================\n"
     ]
    },
    {
     "name": "stderr",
     "output_type": "stream",
     "text": [
      "100%|██████████| 10/10 [00:59<00:00,  5.95s/it]\n",
      "100%|██████████| 10/10 [00:00<00:00, 958.30it/s]\n",
      "100%|██████████| 10/10 [00:00<00:00, 2502.57it/s]\n"
     ]
    },
    {
     "name": "stdout",
     "output_type": "stream",
     "text": [
      "=======schedules=======\n",
      "('state', 0): ('povm', 0)\n",
      "('state', 0): ('povm', 1)\n",
      "('state', 0): ('povm', 2)\n",
      "=====================\n"
     ]
    },
    {
     "name": "stderr",
     "output_type": "stream",
     "text": [
      "100%|██████████| 10/10 [00:00<00:00, 50.01it/s]"
     ]
    },
    {
     "name": "stdout",
     "output_type": "stream",
     "text": [
      "=======schedules=======\n",
      "('state', 0): ('povm', 0)\n",
      "('state', 0): ('povm', 1)\n",
      "('state', 0): ('povm', 2)\n",
      "=====================\n",
      "=======schedules=======\n",
      "('state', 0): ('povm', 0)\n",
      "('state', 0): ('povm', 1)\n",
      "('state', 0): ('povm', 2)\n",
      "=====================\n",
      "=======schedules=======\n",
      "('state', 0): ('povm', 0)\n",
      "('state', 0): ('povm', 1)\n",
      "('state', 0): ('povm', 2)\n",
      "=====================\n",
      "=======schedules=======\n",
      "('state', 0): ('povm', 0)\n",
      "('state', 0): ('povm', 1)\n",
      "('state', 0): ('povm', 2)\n",
      "=====================\n",
      "=======schedules=======\n",
      "('state', 0): ('povm', 0)\n",
      "('state', 0): ('povm', 1)\n",
      "('state', 0): ('povm', 2)\n",
      "=====================\n",
      "=======schedules=======\n",
      "('state', 0): ('povm', 0)\n",
      "('state', 0): ('povm', 1)\n",
      "('state', 0): ('povm', 2)\n",
      "=====================\n",
      "=======schedules=======\n",
      "('state', 0): ('povm', 0)\n",
      "('state', 0): ('povm', 1)\n",
      "('state', 0): ('povm', 2)\n",
      "=====================\n",
      "=======schedules=======\n",
      "('state', 0): ('povm', 0)\n",
      "('state', 0): ('povm', 1)\n",
      "('state', 0): ('povm', 2)\n",
      "=====================\n",
      "=======schedules=======\n",
      "('state', 0): ('povm', 0)\n",
      "('state', 0): ('povm', 1)\n",
      "('state', 0): ('povm', 2)\n",
      "=====================\n",
      "=======schedules=======\n",
      "('state', 0): ('povm', 0)\n",
      "('state', 0): ('povm', 1)\n",
      "('state', 0): ('povm', 2)\n",
      "=====================\n",
      "========== Summary ============\n",
      "Name: Maximum-Likelihood (False)\n",
      "MSE of Empirical Distributions: \u001b[32mOK\u001b[0m\n",
      "Consistency: \u001b[31mNG\u001b[0m (to_be_checked=False)\n",
      "MSE of estimators: \u001b[31mNG\u001b[0m\n",
      "Physicality Violation: \u001b[32mOK\u001b[0m\n",
      "===============================\n",
      "Total Result: \u001b[31mNG\u001b[0m\n"
     ]
    },
    {
     "name": "stderr",
     "output_type": "stream",
     "text": [
      "\n",
      " 10%|█         | 1/10 [00:00<00:01,  5.62it/s]"
     ]
    },
    {
     "name": "stdout",
     "output_type": "stream",
     "text": [
      "Case 6: Least Squares (True)\n",
      "=======schedules=======\n",
      "('state', 0): ('povm', 0)\n",
      "('state', 0): ('povm', 1)\n",
      "('state', 0): ('povm', 2)\n",
      "=====================\n",
      "=======schedules=======\n",
      "('state', 0): ('povm', 0)\n",
      "('state', 0): ('povm', 1)\n",
      "('state', 0): ('povm', 2)\n",
      "=====================\n"
     ]
    },
    {
     "name": "stderr",
     "output_type": "stream",
     "text": [
      " 30%|███       | 3/10 [00:00<00:01,  6.15it/s]"
     ]
    },
    {
     "name": "stdout",
     "output_type": "stream",
     "text": [
      "=======schedules=======\n",
      "('state', 0): ('povm', 0)\n",
      "('state', 0): ('povm', 1)\n",
      "('state', 0): ('povm', 2)\n",
      "=====================\n",
      "=======schedules=======\n",
      "('state', 0): ('povm', 0)\n",
      "('state', 0): ('povm', 1)\n",
      "('state', 0): ('povm', 2)\n",
      "=====================\n"
     ]
    },
    {
     "name": "stderr",
     "output_type": "stream",
     "text": [
      " 50%|█████     | 5/10 [00:00<00:00,  6.85it/s]"
     ]
    },
    {
     "name": "stdout",
     "output_type": "stream",
     "text": [
      "=======schedules=======\n",
      "('state', 0): ('povm', 0)\n",
      "('state', 0): ('povm', 1)\n",
      "('state', 0): ('povm', 2)\n",
      "=====================\n",
      "=======schedules=======\n",
      "('state', 0): ('povm', 0)\n",
      "('state', 0): ('povm', 1)\n",
      "('state', 0): ('povm', 2)\n",
      "=====================\n"
     ]
    },
    {
     "name": "stderr",
     "output_type": "stream",
     "text": [
      " 70%|███████   | 7/10 [00:01<00:00,  7.09it/s]"
     ]
    },
    {
     "name": "stdout",
     "output_type": "stream",
     "text": [
      "=======schedules=======\n",
      "('state', 0): ('povm', 0)\n",
      "('state', 0): ('povm', 1)\n",
      "('state', 0): ('povm', 2)\n",
      "=====================\n",
      "=======schedules=======\n",
      "('state', 0): ('povm', 0)\n",
      "('state', 0): ('povm', 1)\n",
      "('state', 0): ('povm', 2)\n",
      "=====================\n"
     ]
    },
    {
     "name": "stderr",
     "output_type": "stream",
     "text": [
      " 90%|█████████ | 9/10 [00:01<00:00,  6.66it/s]"
     ]
    },
    {
     "name": "stdout",
     "output_type": "stream",
     "text": [
      "=======schedules=======\n",
      "('state', 0): ('povm', 0)\n",
      "('state', 0): ('povm', 1)\n",
      "('state', 0): ('povm', 2)\n",
      "=====================\n",
      "=======schedules=======\n",
      "('state', 0): ('povm', 0)\n",
      "('state', 0): ('povm', 1)\n",
      "('state', 0): ('povm', 2)\n",
      "=====================\n"
     ]
    },
    {
     "name": "stderr",
     "output_type": "stream",
     "text": [
      "100%|██████████| 10/10 [00:01<00:00,  6.54it/s]\n",
      "100%|██████████| 10/10 [00:00<00:00, 13715.84it/s]\n",
      "100%|██████████| 10/10 [00:00<00:00, 11428.62it/s]\n",
      "  0%|          | 0/10 [00:00<?, ?it/s]"
     ]
    },
    {
     "name": "stdout",
     "output_type": "stream",
     "text": [
      "=======schedules=======\n",
      "('state', 0): ('povm', 0)\n",
      "('state', 0): ('povm', 1)\n",
      "('state', 0): ('povm', 2)\n",
      "=====================\n",
      "========== Summary ============\n",
      "Name: Least Squares (True)\n",
      "MSE of Empirical Distributions: \u001b[32mOK\u001b[0m\n",
      "Consistency: \u001b[32mOK\u001b[0m (to_be_checked=False)\n",
      "MSE of estimators: \u001b[32mOK\u001b[0m\n",
      "Physicality Violation: \u001b[32mOK\u001b[0m\n",
      "===============================\n",
      "Case 7: Least Squares (False)\n",
      "=======schedules=======\n",
      "('state', 0): ('povm', 0)\n",
      "('state', 0): ('povm', 1)\n",
      "('state', 0): ('povm', 2)\n",
      "=====================\n"
     ]
    },
    {
     "name": "stderr",
     "output_type": "stream",
     "text": [
      " 20%|██        | 2/10 [00:00<00:02,  3.90it/s]"
     ]
    },
    {
     "name": "stdout",
     "output_type": "stream",
     "text": [
      "=======schedules=======\n",
      "('state', 0): ('povm', 0)\n",
      "('state', 0): ('povm', 1)\n",
      "('state', 0): ('povm', 2)\n",
      "=====================\n",
      "=======schedules=======\n",
      "('state', 0): ('povm', 0)\n",
      "('state', 0): ('povm', 1)\n",
      "('state', 0): ('povm', 2)\n",
      "=====================\n"
     ]
    },
    {
     "name": "stderr",
     "output_type": "stream",
     "text": [
      " 40%|████      | 4/10 [00:00<00:01,  4.85it/s]"
     ]
    },
    {
     "name": "stdout",
     "output_type": "stream",
     "text": [
      "=======schedules=======\n",
      "('state', 0): ('povm', 0)\n",
      "('state', 0): ('povm', 1)\n",
      "('state', 0): ('povm', 2)\n",
      "=====================\n",
      "=======schedules=======\n",
      "('state', 0): ('povm', 0)\n",
      "('state', 0): ('povm', 1)\n",
      "('state', 0): ('povm', 2)\n",
      "=====================\n"
     ]
    },
    {
     "name": "stderr",
     "output_type": "stream",
     "text": [
      " 60%|██████    | 6/10 [00:01<00:00,  5.35it/s]"
     ]
    },
    {
     "name": "stdout",
     "output_type": "stream",
     "text": [
      "=======schedules=======\n",
      "('state', 0): ('povm', 0)\n",
      "('state', 0): ('povm', 1)\n",
      "('state', 0): ('povm', 2)\n",
      "=====================\n",
      "=======schedules=======\n",
      "('state', 0): ('povm', 0)\n",
      "('state', 0): ('povm', 1)\n",
      "('state', 0): ('povm', 2)\n",
      "=====================\n"
     ]
    },
    {
     "name": "stderr",
     "output_type": "stream",
     "text": [
      " 80%|████████  | 8/10 [00:01<00:00,  5.82it/s]"
     ]
    },
    {
     "name": "stdout",
     "output_type": "stream",
     "text": [
      "=======schedules=======\n",
      "('state', 0): ('povm', 0)\n",
      "('state', 0): ('povm', 1)\n",
      "('state', 0): ('povm', 2)\n",
      "=====================\n",
      "=======schedules=======\n",
      "('state', 0): ('povm', 0)\n",
      "('state', 0): ('povm', 1)\n",
      "('state', 0): ('povm', 2)\n",
      "=====================\n"
     ]
    },
    {
     "name": "stderr",
     "output_type": "stream",
     "text": [
      "100%|██████████| 10/10 [00:01<00:00,  5.62it/s]\n",
      "100%|██████████| 10/10 [00:00<00:00, 16526.02it/s]\n",
      "100%|██████████| 10/10 [00:00<00:00, 22623.00it/s]\n"
     ]
    },
    {
     "name": "stdout",
     "output_type": "stream",
     "text": [
      "=======schedules=======\n",
      "('state', 0): ('povm', 0)\n",
      "('state', 0): ('povm', 1)\n",
      "('state', 0): ('povm', 2)\n",
      "=====================\n",
      "=======schedules=======\n",
      "('state', 0): ('povm', 0)\n",
      "('state', 0): ('povm', 1)\n",
      "('state', 0): ('povm', 2)\n",
      "=====================\n",
      "========== Summary ============\n",
      "Name: Least Squares (False)\n",
      "MSE of Empirical Distributions: \u001b[32mOK\u001b[0m\n",
      "Consistency: \u001b[32mOK\u001b[0m (to_be_checked=False)\n",
      "MSE of estimators: \u001b[32mOK\u001b[0m\n",
      "Physicality Violation: \u001b[32mOK\u001b[0m\n",
      "===============================\n",
      "Completed to write csv. result/0/0/check_result.csv\n",
      "total_results=[True, True, False, False, False, False, True, True]\n",
      "False\n",
      "​Generating table of computation time ...\n",
      "​Generating table of tolerance of physicality constraint violation ...\n",
      "​Generating table of experimental conditions ...\n",
      "Generating case list ...\n",
      "Computation time of estimators ...\n"
     ]
    },
    {
     "name": "stderr",
     "output_type": "stream",
     "text": [
      "100%|██████████| 10/10 [00:00<00:00, 22944.77it/s]\n",
      "100%|██████████| 10/10 [00:00<00:00, 19645.45it/s]"
     ]
    },
    {
     "name": "stdout",
     "output_type": "stream",
     "text": [
      "​​Generating MSE of empirical distributions blocks ...\n"
     ]
    },
    {
     "name": "stderr",
     "output_type": "stream",
     "text": [
      "\n"
     ]
    },
    {
     "name": "stdout",
     "output_type": "stream",
     "text": [
      "​​Generating consictency test blocks ...\n",
      "=======schedules=======\n",
      "('state', 0): ('povm', 0)\n",
      "('state', 0): ('povm', 1)\n",
      "('state', 0): ('povm', 2)\n",
      "=====================\n",
      "=======schedules=======\n",
      "('state', 0): ('povm', 0)\n",
      "('state', 0): ('povm', 1)\n",
      "('state', 0): ('povm', 2)\n",
      "=====================\n",
      "=======schedules=======\n",
      "('state', 0): ('povm', 0)\n",
      "('state', 0): ('povm', 1)\n",
      "('state', 0): ('povm', 2)\n",
      "=====================\n",
      "=======schedules=======\n",
      "('state', 0): ('povm', 0)\n",
      "('state', 0): ('povm', 1)\n",
      "('state', 0): ('povm', 2)\n",
      "=====================\n",
      "=======schedules=======\n",
      "('state', 0): ('povm', 0)\n",
      "('state', 0): ('povm', 1)\n",
      "('state', 0): ('povm', 2)\n",
      "=====================\n",
      "=======schedules=======\n",
      "('state', 0): ('povm', 0)\n",
      "('state', 0): ('povm', 1)\n",
      "('state', 0): ('povm', 2)\n",
      "=====================\n",
      "=======schedules=======\n",
      "('state', 0): ('povm', 0)\n",
      "('state', 0): ('povm', 1)\n",
      "('state', 0): ('povm', 2)\n",
      "=====================\n",
      "=======schedules=======\n",
      "('state', 0): ('povm', 0)\n",
      "('state', 0): ('povm', 1)\n",
      "('state', 0): ('povm', 2)\n",
      "=====================\n",
      "=======schedules=======\n",
      "('state', 0): ('povm', 0)\n",
      "('state', 0): ('povm', 1)\n",
      "('state', 0): ('povm', 2)\n",
      "=====================\n",
      "=======schedules=======\n",
      "('state', 0): ('povm', 0)\n",
      "('state', 0): ('povm', 1)\n",
      "('state', 0): ('povm', 2)\n",
      "=====================\n",
      "=======schedules=======\n",
      "('state', 0): ('povm', 0)\n",
      "('state', 0): ('povm', 1)\n",
      "('state', 0): ('povm', 2)\n",
      "=====================\n",
      "=======schedules=======\n",
      "('state', 0): ('povm', 0)\n",
      "('state', 0): ('povm', 1)\n",
      "('state', 0): ('povm', 2)\n",
      "=====================\n",
      "=======schedules=======\n",
      "('state', 0): ('povm', 0)\n",
      "('state', 0): ('povm', 1)\n",
      "('state', 0): ('povm', 2)\n",
      "=====================\n",
      "=======schedules=======\n",
      "('state', 0): ('povm', 0)\n",
      "('state', 0): ('povm', 1)\n",
      "('state', 0): ('povm', 2)\n",
      "=====================\n",
      "=======schedules=======\n",
      "('state', 0): ('povm', 0)\n",
      "('state', 0): ('povm', 1)\n",
      "('state', 0): ('povm', 2)\n",
      "=====================\n",
      "=======schedules=======\n",
      "('state', 0): ('povm', 0)\n",
      "('state', 0): ('povm', 1)\n",
      "('state', 0): ('povm', 2)\n",
      "=====================\n",
      "​Generating a graph for MSE ...\n",
      "  Linear (True)=[0.01371604938271605, 0.0012888888888888908]\n",
      "  Linear (False)=[0.013716049382716053, 0.00128888888888889]\n",
      "  ProjectedLinear (True)=[0.01371604938271605, 0.0012888888888888902]\n",
      "  ProjectedLinear (False)=[0.013716049382716056, 0.0012888888888888893]\n",
      "  Maximum-Likelihood (True)=[0.013716049768110005, 0.001288889118398299]\n",
      "  Maximum-Likelihood (False)=[0.013722302685280033, 0.0012928119046027055]\n",
      "  Least Squares (True)=[0.013716049382716047, 0.0012888888888888902]\n",
      "  Least Squares (False)=[0.013716049382716053, 0.0012888888888888902]\n",
      "  Linear (True)=[0.01371604938271605, 0.0012888888888888908]\n",
      "  ProjectedLinear (True)=[0.01371604938271605, 0.0012888888888888902]\n",
      "  Maximum-Likelihood (True)=[0.013716049768110005, 0.001288889118398299]\n",
      "  Least Squares (True)=[0.013716049382716047, 0.0012888888888888902]\n",
      "  Linear (False)=[0.013716049382716053, 0.00128888888888889]\n",
      "  ProjectedLinear (False)=[0.013716049382716056, 0.0012888888888888893]\n",
      "  Maximum-Likelihood (False)=[0.013722302685280033, 0.0012928119046027055]\n",
      "  Least Squares (False)=[0.013716049382716053, 0.0012888888888888902]\n",
      "​​Generating physicality violation test blocks ...\n"
     ]
    },
    {
     "name": "stderr",
     "output_type": "stream",
     "text": [
      "100%|██████████| 10/10 [00:00<00:00, 3547.28it/s]\n",
      "100%|██████████| 10/10 [00:00<00:00, 5181.35it/s]\n",
      "100%|██████████| 10/10 [00:00<00:00, 6877.04it/s]\n",
      "100%|██████████| 10/10 [00:00<00:00, 7168.53it/s]\n",
      "100%|██████████| 10/10 [00:00<00:00, 7188.18it/s]\n",
      "100%|██████████| 10/10 [00:00<00:00, 6705.52it/s]\n",
      "100%|██████████| 10/10 [00:00<00:00, 4992.62it/s]\n",
      "100%|██████████| 10/10 [00:00<00:00, 3501.38it/s]\n",
      "100%|██████████| 10/10 [00:00<00:00, 7178.34it/s]\n",
      "100%|██████████| 10/10 [00:00<00:00, 5088.94it/s]\n",
      "100%|██████████| 10/10 [00:00<00:00, 7241.55it/s]\n",
      "100%|██████████| 10/10 [00:00<00:00, 4816.61it/s]\n",
      "100%|██████████| 10/10 [00:00<00:00, 5047.30it/s]\n",
      "100%|██████████| 10/10 [00:00<00:00, 6154.52it/s]\n",
      "100%|██████████| 10/10 [00:00<00:00, 4321.35it/s]\n",
      "100%|██████████| 10/10 [00:00<00:00, 6045.41it/s]\n",
      "100%|██████████| 10/10 [00:00<00:00, 4395.62it/s]\n",
      "100%|██████████| 10/10 [00:00<00:00, 6153.62it/s]\n",
      "100%|██████████| 10/10 [00:00<00:00, 4029.11it/s]\n",
      "100%|██████████| 10/10 [00:00<00:00, 6537.26it/s]\n",
      "100%|██████████| 10/10 [00:00<00:00, 3485.38it/s]\n",
      "100%|██████████| 10/10 [00:00<00:00, 2941.10it/s]\n",
      "100%|██████████| 10/10 [00:00<00:00, 4699.50it/s]\n",
      "100%|██████████| 10/10 [00:00<00:00, 4325.36it/s]\n",
      "100%|██████████| 10/10 [00:00<00:00, 2398.12it/s]\n",
      "100%|██████████| 10/10 [00:00<00:00, 3009.47it/s]\n",
      "100%|██████████| 10/10 [00:00<00:00, 3886.49it/s]\n",
      "100%|██████████| 10/10 [00:00<00:00, 4694.77it/s]\n",
      "100%|██████████| 10/10 [00:00<00:00, 4288.22it/s]\n",
      "100%|██████████| 10/10 [00:00<00:00, 4324.92it/s]\n",
      "100%|██████████| 10/10 [00:00<00:00, 3964.00it/s]\n",
      "100%|██████████| 10/10 [00:00<00:00, 4448.30it/s]\n"
     ]
    },
    {
     "name": "stdout",
     "output_type": "stream",
     "text": [
      "Converting to PDF report ...\n"
     ]
    },
    {
     "name": "stderr",
     "output_type": "stream",
     "text": [
      " 60%|██████    | 6/10 [00:00<00:00, 51.70it/s]"
     ]
    },
    {
     "name": "stdout",
     "output_type": "stream",
     "text": [
      "​Deleting temporary files ...\n",
      "Completed to export pdf. (result/0/0/0_0_quara_report.pdf)\n",
      "Case 0: Linear (True)\n",
      "=======schedules=======\n",
      "('state', 0): ('povm', 0)\n",
      "('state', 0): ('povm', 1)\n",
      "('state', 0): ('povm', 2)\n",
      "=====================\n",
      "=======schedules=======\n",
      "('state', 0): ('povm', 0)\n",
      "('state', 0): ('povm', 1)\n",
      "('state', 0): ('povm', 2)\n",
      "=====================\n",
      "=======schedules=======\n",
      "('state', 0): ('povm', 0)\n",
      "('state', 0): ('povm', 1)\n",
      "('state', 0): ('povm', 2)\n",
      "=====================\n",
      "=======schedules=======\n",
      "('state', 0): ('povm', 0)\n",
      "('state', 0): ('povm', 1)\n",
      "('state', 0): ('povm', 2)\n",
      "=====================\n",
      "=======schedules=======\n",
      "('state', 0): ('povm', 0)\n",
      "('state', 0): ('povm', 1)\n",
      "('state', 0): ('povm', 2)\n",
      "=====================\n",
      "=======schedules=======\n",
      "('state', 0): ('povm', 0)\n",
      "('state', 0): ('povm', 1)\n",
      "('state', 0): ('povm', 2)\n",
      "=====================\n",
      "=======schedules=======\n",
      "('state', 0): ('povm', 0)\n",
      "('state', 0): ('povm', 1)\n",
      "('state', 0): ('povm', 2)\n",
      "=====================\n"
     ]
    },
    {
     "name": "stderr",
     "output_type": "stream",
     "text": [
      "100%|██████████| 10/10 [00:00<00:00, 51.86it/s]\n",
      "100%|██████████| 10/10 [00:00<00:00, 18371.90it/s]\n",
      "100%|██████████| 10/10 [00:00<00:00, 17303.23it/s]\n",
      "  0%|          | 0/10 [00:00<?, ?it/s]"
     ]
    },
    {
     "name": "stdout",
     "output_type": "stream",
     "text": [
      "=======schedules=======\n",
      "('state', 0): ('povm', 0)\n",
      "('state', 0): ('povm', 1)\n",
      "('state', 0): ('povm', 2)\n",
      "=====================\n",
      "=======schedules=======\n",
      "('state', 0): ('povm', 0)\n",
      "('state', 0): ('povm', 1)\n",
      "('state', 0): ('povm', 2)\n",
      "=====================\n",
      "=======schedules=======\n",
      "('state', 0): ('povm', 0)\n",
      "('state', 0): ('povm', 1)\n",
      "('state', 0): ('povm', 2)\n",
      "=====================\n",
      "=======schedules=======\n",
      "('state', 0): ('povm', 0)\n",
      "('state', 0): ('povm', 1)\n",
      "('state', 0): ('povm', 2)\n",
      "=====================\n",
      "========== Summary ============\n",
      "Name: Linear (True)\n",
      "MSE of Empirical Distributions: \u001b[32mOK\u001b[0m\n",
      "Consistency: \u001b[32mOK\u001b[0m (to_be_checked=False)\n",
      "MSE of estimators: \u001b[32mOK\u001b[0m\n",
      "Physicality Violation: \u001b[32mOK\u001b[0m\n",
      "===============================\n",
      "Case 1: Linear (False)\n",
      "=======schedules=======\n",
      "('state', 0): ('povm', 0)\n",
      "('state', 0): ('povm', 1)\n",
      "('state', 0): ('povm', 2)\n",
      "=====================\n",
      "=======schedules=======\n",
      "('state', 0): ('povm', 0)\n",
      "('state', 0): ('povm', 1)\n",
      "('state', 0): ('povm', 2)\n",
      "=====================\n"
     ]
    },
    {
     "name": "stderr",
     "output_type": "stream",
     "text": [
      "100%|██████████| 10/10 [00:00<00:00, 46.82it/s]\n",
      "100%|██████████| 10/10 [00:00<00:00, 15386.29it/s]\n",
      "100%|██████████| 10/10 [00:00<00:00, 12282.00it/s]\n",
      "  0%|          | 0/10 [00:00<?, ?it/s]"
     ]
    },
    {
     "name": "stdout",
     "output_type": "stream",
     "text": [
      "=======schedules=======\n",
      "('state', 0): ('povm', 0)\n",
      "('state', 0): ('povm', 1)\n",
      "('state', 0): ('povm', 2)\n",
      "=====================\n",
      "=======schedules=======\n",
      "('state', 0): ('povm', 0)\n",
      "('state', 0): ('povm', 1)\n",
      "('state', 0): ('povm', 2)\n",
      "=====================\n",
      "=======schedules=======\n",
      "('state', 0): ('povm', 0)\n",
      "('state', 0): ('povm', 1)\n",
      "('state', 0): ('povm', 2)\n",
      "=====================\n",
      "=======schedules=======\n",
      "('state', 0): ('povm', 0)\n",
      "('state', 0): ('povm', 1)\n",
      "('state', 0): ('povm', 2)\n",
      "=====================\n",
      "=======schedules=======\n",
      "('state', 0): ('povm', 0)\n",
      "('state', 0): ('povm', 1)\n",
      "('state', 0): ('povm', 2)\n",
      "=====================\n",
      "=======schedules=======\n",
      "('state', 0): ('povm', 0)\n",
      "('state', 0): ('povm', 1)\n",
      "('state', 0): ('povm', 2)\n",
      "=====================\n",
      "=======schedules=======\n",
      "('state', 0): ('povm', 0)\n",
      "('state', 0): ('povm', 1)\n",
      "('state', 0): ('povm', 2)\n",
      "=====================\n",
      "=======schedules=======\n",
      "('state', 0): ('povm', 0)\n",
      "('state', 0): ('povm', 1)\n",
      "('state', 0): ('povm', 2)\n",
      "=====================\n",
      "=======schedules=======\n",
      "('state', 0): ('povm', 0)\n",
      "('state', 0): ('povm', 1)\n",
      "('state', 0): ('povm', 2)\n",
      "=====================\n",
      "========== Summary ============\n",
      "Name: Linear (False)\n",
      "MSE of Empirical Distributions: \u001b[32mOK\u001b[0m\n",
      "Consistency: \u001b[32mOK\u001b[0m (to_be_checked=False)\n",
      "MSE of estimators: \u001b[32mOK\u001b[0m\n",
      "Physicality Violation: \u001b[32mOK\u001b[0m\n",
      "===============================\n",
      "Case 2: ProjectedLinear (True)\n",
      "=======schedules=======\n",
      "('state', 0): ('povm', 0)\n",
      "('state', 0): ('povm', 1)\n",
      "('state', 0): ('povm', 2)\n",
      "=====================\n",
      "=======schedules=======\n",
      "('state', 0): ('povm', 0)\n",
      "('state', 0): ('povm', 1)\n",
      "('state', 0): ('povm', 2)\n",
      "=====================\n",
      "=======schedules=======\n",
      "('state', 0): ('povm', 0)\n",
      "('state', 0): ('povm', 1)\n",
      "('state', 0): ('povm', 2)\n",
      "=====================\n"
     ]
    },
    {
     "name": "stderr",
     "output_type": "stream",
     "text": [
      "100%|██████████| 10/10 [00:00<00:00, 50.55it/s]\n",
      "100%|██████████| 10/10 [00:00<00:00, 7152.63it/s]\n",
      "100%|██████████| 10/10 [00:00<00:00, 11400.66it/s]\n",
      "  0%|          | 0/10 [00:00<?, ?it/s]"
     ]
    },
    {
     "name": "stdout",
     "output_type": "stream",
     "text": [
      "=======schedules=======\n",
      "('state', 0): ('povm', 0)\n",
      "('state', 0): ('povm', 1)\n",
      "('state', 0): ('povm', 2)\n",
      "=====================\n",
      "=======schedules=======\n",
      "('state', 0): ('povm', 0)\n",
      "('state', 0): ('povm', 1)\n",
      "('state', 0): ('povm', 2)\n",
      "=====================\n",
      "=======schedules=======\n",
      "('state', 0): ('povm', 0)\n",
      "('state', 0): ('povm', 1)\n",
      "('state', 0): ('povm', 2)\n",
      "=====================\n",
      "=======schedules=======\n",
      "('state', 0): ('povm', 0)\n",
      "('state', 0): ('povm', 1)\n",
      "('state', 0): ('povm', 2)\n",
      "=====================\n",
      "=======schedules=======\n",
      "('state', 0): ('povm', 0)\n",
      "('state', 0): ('povm', 1)\n",
      "('state', 0): ('povm', 2)\n",
      "=====================\n",
      "=======schedules=======\n",
      "('state', 0): ('povm', 0)\n",
      "('state', 0): ('povm', 1)\n",
      "('state', 0): ('povm', 2)\n",
      "=====================\n",
      "=======schedules=======\n",
      "('state', 0): ('povm', 0)\n",
      "('state', 0): ('povm', 1)\n",
      "('state', 0): ('povm', 2)\n",
      "=====================\n",
      "=======schedules=======\n",
      "('state', 0): ('povm', 0)\n",
      "('state', 0): ('povm', 1)\n",
      "('state', 0): ('povm', 2)\n",
      "=====================\n",
      "=======schedules=======\n",
      "('state', 0): ('povm', 0)\n",
      "('state', 0): ('povm', 1)\n",
      "('state', 0): ('povm', 2)\n",
      "=====================\n",
      "=======schedules=======\n",
      "('state', 0): ('povm', 0)\n",
      "('state', 0): ('povm', 1)\n",
      "('state', 0): ('povm', 2)\n",
      "=====================\n",
      "=======schedules=======\n",
      "('state', 0): ('povm', 0)\n",
      "('state', 0): ('povm', 1)\n",
      "('state', 0): ('povm', 2)\n",
      "====================="
     ]
    },
    {
     "name": "stderr",
     "output_type": "stream",
     "text": [
      "100%|██████████| 10/10 [00:00<00:00, 59.58it/s]\n",
      "  0%|          | 0/10 [00:00<?, ?it/s]"
     ]
    },
    {
     "name": "stdout",
     "output_type": "stream",
     "text": [
      "\n",
      "=======schedules=======\n",
      "('state', 0): ('povm', 0)\n",
      "('state', 0): ('povm', 1)\n",
      "('state', 0): ('povm', 2)\n",
      "=====================\n",
      "=======schedules=======\n",
      "('state', 0): ('povm', 0)\n",
      "('state', 0): ('povm', 1)\n",
      "('state', 0): ('povm', 2)\n",
      "=====================\n",
      "=======schedules=======\n",
      "('state', 0): ('povm', 0)\n",
      "('state', 0): ('povm', 1)\n",
      "('state', 0): ('povm', 2)\n",
      "=====================\n",
      "=======schedules=======\n",
      "('state', 0): ('povm', 0)\n",
      "('state', 0): ('povm', 1)\n",
      "('state', 0): ('povm', 2)\n",
      "=====================\n",
      "=======schedules=======\n",
      "('state', 0): ('povm', 0)\n",
      "('state', 0): ('povm', 1)\n",
      "('state', 0): ('povm', 2)\n",
      "=====================\n",
      "=======schedules=======\n",
      "('state', 0): ('povm', 0)\n",
      "('state', 0): ('povm', 1)\n",
      "('state', 0): ('povm', 2)\n",
      "=====================\n",
      "=======schedules=======\n",
      "('state', 0): ('povm', 0)\n",
      "('state', 0): ('povm', 1)\n",
      "('state', 0): ('povm', 2)\n",
      "=====================\n",
      "========== Summary ============\n",
      "Name: ProjectedLinear (True)\n",
      "MSE of Empirical Distributions: \u001b[32mOK\u001b[0m\n",
      "Consistency: \u001b[32mOK\u001b[0m (to_be_checked=False)\n",
      "MSE of estimators: \u001b[31mNG\u001b[0m\n",
      "Physicality Violation: \u001b[32mOK\u001b[0m\n",
      "===============================\n",
      "Total Result: \u001b[31mNG\u001b[0m\n",
      "Case 3: ProjectedLinear (False)\n",
      "=======schedules=======\n",
      "('state', 0): ('povm', 0)\n",
      "('state', 0): ('povm', 1)\n",
      "('state', 0): ('povm', 2)\n",
      "=====================\n",
      "=======schedules=======\n",
      "('state', 0): ('povm', 0)\n",
      "('state', 0): ('povm', 1)\n",
      "('state', 0): ('povm', 2)\n",
      "=====================\n"
     ]
    },
    {
     "name": "stderr",
     "output_type": "stream",
     "text": [
      " 90%|█████████ | 9/10 [00:00<00:00, 40.22it/s]"
     ]
    },
    {
     "name": "stdout",
     "output_type": "stream",
     "text": [
      "=======schedules=======\n",
      "('state', 0): ('povm', 0)\n",
      "('state', 0): ('povm', 1)\n",
      "('state', 0): ('povm', 2)\n",
      "=====================\n",
      "=======schedules=======\n",
      "('state', 0): ('povm', 0)\n",
      "('state', 0): ('povm', 1)\n",
      "('state', 0): ('povm', 2)\n",
      "=====================\n",
      "=======schedules=======\n",
      "('state', 0): ('povm', 0)\n",
      "('state', 0): ('povm', 1)\n",
      "('state', 0): ('povm', 2)\n",
      "=====================\n",
      "=======schedules=======\n",
      "('state', 0): ('povm', 0)\n",
      "('state', 0): ('povm', 1)\n",
      "('state', 0): ('povm', 2)\n",
      "=====================\n",
      "=======schedules=======\n",
      "('state', 0): ('povm', 0)\n",
      "('state', 0): ('povm', 1)\n",
      "('state', 0): ('povm', 2)\n",
      "=====================\n",
      "=======schedules=======\n",
      "('state', 0): ('povm', 0)\n",
      "('state', 0): ('povm', 1)\n",
      "('state', 0): ('povm', 2)\n",
      "=====================\n",
      "=======schedules=======\n",
      "('state', 0): ('povm', 0)\n",
      "('state', 0): ('povm', 1)\n",
      "('state', 0): ('povm', 2)\n",
      "=====================\n",
      "=======schedules=======\n",
      "('state', 0): ('povm', 0)\n",
      "('state', 0): ('povm', 1)\n",
      "('state', 0): ('povm', 2)\n",
      "=====================\n"
     ]
    },
    {
     "name": "stderr",
     "output_type": "stream",
     "text": [
      "100%|██████████| 10/10 [00:00<00:00, 39.99it/s]\n",
      "100%|██████████| 10/10 [00:00<00:00, 15174.76it/s]\n",
      "100%|██████████| 10/10 [00:00<00:00, 16213.00it/s]\n",
      " 60%|██████    | 6/10 [00:00<00:00, 51.51it/s]"
     ]
    },
    {
     "name": "stdout",
     "output_type": "stream",
     "text": [
      "=======schedules=======\n",
      "('state', 0): ('povm', 0)\n",
      "('state', 0): ('povm', 1)\n",
      "('state', 0): ('povm', 2)\n",
      "=====================\n",
      "=======schedules=======\n",
      "('state', 0): ('povm', 0)\n",
      "('state', 0): ('povm', 1)\n",
      "('state', 0): ('povm', 2)\n",
      "=====================\n",
      "=======schedules=======\n",
      "('state', 0): ('povm', 0)\n",
      "('state', 0): ('povm', 1)\n",
      "('state', 0): ('povm', 2)\n",
      "=====================\n",
      "=======schedules=======\n",
      "('state', 0): ('povm', 0)\n",
      "('state', 0): ('povm', 1)\n",
      "('state', 0): ('povm', 2)\n",
      "=====================\n",
      "=======schedules=======\n",
      "('state', 0): ('povm', 0)\n",
      "('state', 0): ('povm', 1)\n",
      "('state', 0): ('povm', 2)\n",
      "=====================\n",
      "=======schedules=======\n",
      "('state', 0): ('povm', 0)\n",
      "('state', 0): ('povm', 1)\n",
      "('state', 0): ('povm', 2)\n",
      "=====================\n",
      "=======schedules=======\n",
      "('state', 0): ('povm', 0)\n",
      "('state', 0): ('povm', 1)\n",
      "('state', 0): ('povm', 2)\n",
      "=====================\n",
      "=======schedules=======\n",
      "('state', 0): ('povm', 0)\n",
      "('state', 0): ('povm', 1)\n",
      "('state', 0): ('povm', 2)\n",
      "=====================\n",
      "=======schedules=======\n",
      "('state', 0): ('povm', 0)\n",
      "('state', 0): ('povm', 1)\n",
      "('state', 0): ('povm', 2)\n",
      "=====================\n",
      "=======schedules=======\n",
      "('state', 0): ('povm', 0)\n",
      "('state', 0): ('povm', 1)\n",
      "('state', 0): ('povm', 2)\n",
      "=====================\n",
      "=======schedules=======\n",
      "('state', 0): ('povm', 0)\n",
      "('state', 0): ('povm', 1)\n",
      "('state', 0): ('povm', 2)\n",
      "=====================\n"
     ]
    },
    {
     "name": "stderr",
     "output_type": "stream",
     "text": [
      "100%|██████████| 10/10 [00:00<00:00, 49.01it/s]\n",
      "  0%|          | 0/10 [00:00<?, ?it/s]"
     ]
    },
    {
     "name": "stdout",
     "output_type": "stream",
     "text": [
      "========== Summary ============\n",
      "Name: ProjectedLinear (False)\n",
      "MSE of Empirical Distributions: \u001b[32mOK\u001b[0m\n",
      "Consistency: \u001b[32mOK\u001b[0m (to_be_checked=False)\n",
      "MSE of estimators: \u001b[31mNG\u001b[0m\n",
      "Physicality Violation: \u001b[32mOK\u001b[0m\n",
      "===============================\n",
      "Total Result: \u001b[31mNG\u001b[0m\n",
      "Case 4: Maximum-Likelihood (True)\n",
      "=======schedules=======\n",
      "('state', 0): ('povm', 0)\n",
      "('state', 0): ('povm', 1)\n",
      "('state', 0): ('povm', 2)\n",
      "=====================\n"
     ]
    },
    {
     "name": "stderr",
     "output_type": "stream",
     "text": [
      "\r",
      " 10%|█         | 1/10 [00:01<00:11,  1.32s/it]"
     ]
    },
    {
     "name": "stdout",
     "output_type": "stream",
     "text": [
      "=======schedules=======\n",
      "('state', 0): ('povm', 0)\n",
      "('state', 0): ('povm', 1)\n",
      "('state', 0): ('povm', 2)\n",
      "=====================\n"
     ]
    },
    {
     "name": "stderr",
     "output_type": "stream",
     "text": [
      "\r",
      " 20%|██        | 2/10 [00:02<00:10,  1.31s/it]"
     ]
    },
    {
     "name": "stdout",
     "output_type": "stream",
     "text": [
      "=======schedules=======\n",
      "('state', 0): ('povm', 0)\n",
      "('state', 0): ('povm', 1)\n",
      "('state', 0): ('povm', 2)\n",
      "=====================\n"
     ]
    },
    {
     "name": "stderr",
     "output_type": "stream",
     "text": [
      "\r",
      " 30%|███       | 3/10 [00:03<00:08,  1.17s/it]"
     ]
    },
    {
     "name": "stdout",
     "output_type": "stream",
     "text": [
      "=======schedules=======\n",
      "('state', 0): ('povm', 0)\n",
      "('state', 0): ('povm', 1)\n",
      "('state', 0): ('povm', 2)\n",
      "=====================\n"
     ]
    },
    {
     "name": "stderr",
     "output_type": "stream",
     "text": [
      "\r",
      " 40%|████      | 4/10 [00:04<00:06,  1.04s/it]"
     ]
    },
    {
     "name": "stdout",
     "output_type": "stream",
     "text": [
      "=======schedules=======\n",
      "('state', 0): ('povm', 0)\n",
      "('state', 0): ('povm', 1)\n",
      "('state', 0): ('povm', 2)\n",
      "=====================\n"
     ]
    },
    {
     "name": "stderr",
     "output_type": "stream",
     "text": [
      "\r",
      " 50%|█████     | 5/10 [00:05<00:05,  1.05s/it]"
     ]
    },
    {
     "name": "stdout",
     "output_type": "stream",
     "text": [
      "=======schedules=======\n",
      "('state', 0): ('povm', 0)\n",
      "('state', 0): ('povm', 1)\n",
      "('state', 0): ('povm', 2)\n",
      "=====================\n"
     ]
    },
    {
     "name": "stderr",
     "output_type": "stream",
     "text": [
      "\r",
      " 60%|██████    | 6/10 [00:06<00:04,  1.04s/it]"
     ]
    },
    {
     "name": "stdout",
     "output_type": "stream",
     "text": [
      "=======schedules=======\n",
      "('state', 0): ('povm', 0)\n",
      "('state', 0): ('povm', 1)\n",
      "('state', 0): ('povm', 2)\n",
      "=====================\n"
     ]
    },
    {
     "name": "stderr",
     "output_type": "stream",
     "text": [
      "\r",
      " 70%|███████   | 7/10 [00:07<00:02,  1.01it/s]"
     ]
    },
    {
     "name": "stdout",
     "output_type": "stream",
     "text": [
      "=======schedules=======\n",
      "('state', 0): ('povm', 0)\n",
      "('state', 0): ('povm', 1)\n",
      "('state', 0): ('povm', 2)\n",
      "=====================\n"
     ]
    },
    {
     "name": "stderr",
     "output_type": "stream",
     "text": [
      "\r",
      " 80%|████████  | 8/10 [00:08<00:01,  1.02it/s]"
     ]
    },
    {
     "name": "stdout",
     "output_type": "stream",
     "text": [
      "=======schedules=======\n",
      "('state', 0): ('povm', 0)\n",
      "('state', 0): ('povm', 1)\n",
      "('state', 0): ('povm', 2)\n",
      "=====================\n"
     ]
    },
    {
     "name": "stderr",
     "output_type": "stream",
     "text": [
      "\r",
      " 90%|█████████ | 9/10 [00:08<00:00,  1.10it/s]"
     ]
    },
    {
     "name": "stdout",
     "output_type": "stream",
     "text": [
      "=======schedules=======\n",
      "('state', 0): ('povm', 0)\n",
      "('state', 0): ('povm', 1)\n",
      "('state', 0): ('povm', 2)\n",
      "=====================\n"
     ]
    },
    {
     "name": "stderr",
     "output_type": "stream",
     "text": [
      "100%|██████████| 10/10 [00:09<00:00,  1.04it/s]\n",
      "100%|██████████| 10/10 [00:00<00:00, 21269.29it/s]\n",
      "100%|██████████| 10/10 [00:00<00:00, 20281.93it/s]\n"
     ]
    },
    {
     "name": "stdout",
     "output_type": "stream",
     "text": [
      "=======schedules=======\n",
      "('state', 0): ('povm', 0)\n",
      "('state', 0): ('povm', 1)\n",
      "('state', 0): ('povm', 2)\n",
      "=====================\n"
     ]
    },
    {
     "name": "stderr",
     "output_type": "stream",
     "text": [
      "100%|██████████| 10/10 [00:00<00:00, 54.67it/s]\n"
     ]
    },
    {
     "name": "stdout",
     "output_type": "stream",
     "text": [
      "=======schedules=======\n",
      "('state', 0): ('povm', 0)\n",
      "('state', 0): ('povm', 1)\n",
      "('state', 0): ('povm', 2)\n",
      "=====================\n",
      "=======schedules=======\n",
      "('state', 0): ('povm', 0)\n",
      "('state', 0): ('povm', 1)\n",
      "('state', 0): ('povm', 2)\n",
      "=====================\n",
      "=======schedules=======\n",
      "('state', 0): ('povm', 0)\n",
      "('state', 0): ('povm', 1)\n",
      "('state', 0): ('povm', 2)\n",
      "=====================\n",
      "=======schedules=======\n",
      "('state', 0): ('povm', 0)\n",
      "('state', 0): ('povm', 1)\n",
      "('state', 0): ('povm', 2)\n",
      "=====================\n",
      "=======schedules=======\n",
      "('state', 0): ('povm', 0)\n",
      "('state', 0): ('povm', 1)\n",
      "('state', 0): ('povm', 2)\n",
      "=====================\n",
      "=======schedules=======\n",
      "('state', 0): ('povm', 0)\n",
      "('state', 0): ('povm', 1)\n",
      "('state', 0): ('povm', 2)\n",
      "=====================\n",
      "=======schedules=======\n",
      "('state', 0): ('povm', 0)\n",
      "('state', 0): ('povm', 1)\n",
      "('state', 0): ('povm', 2)\n",
      "=====================\n",
      "=======schedules=======\n",
      "('state', 0): ('povm', 0)\n",
      "('state', 0): ('povm', 1)\n",
      "('state', 0): ('povm', 2)\n",
      "=====================\n",
      "=======schedules=======\n",
      "('state', 0): ('povm', 0)\n",
      "('state', 0): ('povm', 1)\n",
      "('state', 0): ('povm', 2)\n",
      "=====================\n",
      "=======schedules=======\n",
      "('state', 0): ('povm', 0)\n",
      "('state', 0): ('povm', 1)\n",
      "('state', 0): ('povm', 2)\n",
      "=====================\n",
      "========== Summary ============\n",
      "Name: Maximum-Likelihood (True)\n",
      "MSE of Empirical Distributions: \u001b[32mOK\u001b[0m\n",
      "Consistency: \u001b[32mOK\u001b[0m (to_be_checked=False)\n",
      "MSE of estimators: \u001b[31mNG\u001b[0m\n",
      "Physicality Violation: \u001b[32mOK\u001b[0m\n",
      "===============================\n",
      "Total Result: \u001b[31mNG\u001b[0m\n"
     ]
    },
    {
     "name": "stderr",
     "output_type": "stream",
     "text": [
      "\r",
      "  0%|          | 0/10 [00:00<?, ?it/s]"
     ]
    },
    {
     "name": "stdout",
     "output_type": "stream",
     "text": [
      "Case 5: Maximum-Likelihood (False)\n",
      "=======schedules=======\n",
      "('state', 0): ('povm', 0)\n",
      "('state', 0): ('povm', 1)\n",
      "('state', 0): ('povm', 2)\n",
      "=====================\n"
     ]
    },
    {
     "name": "stderr",
     "output_type": "stream",
     "text": [
      "\r",
      " 10%|█         | 1/10 [00:01<00:11,  1.33s/it]"
     ]
    },
    {
     "name": "stdout",
     "output_type": "stream",
     "text": [
      "=======schedules=======\n",
      "('state', 0): ('povm', 0)\n",
      "('state', 0): ('povm', 1)\n",
      "('state', 0): ('povm', 2)\n",
      "=====================\n"
     ]
    },
    {
     "name": "stderr",
     "output_type": "stream",
     "text": [
      "\r",
      " 20%|██        | 2/10 [00:03<00:13,  1.70s/it]"
     ]
    },
    {
     "name": "stdout",
     "output_type": "stream",
     "text": [
      "=======schedules=======\n",
      "('state', 0): ('povm', 0)\n",
      "('state', 0): ('povm', 1)\n",
      "('state', 0): ('povm', 2)\n",
      "=====================\n"
     ]
    },
    {
     "name": "stderr",
     "output_type": "stream",
     "text": [
      "\r",
      " 30%|███       | 3/10 [00:06<00:12,  1.83s/it]"
     ]
    },
    {
     "name": "stdout",
     "output_type": "stream",
     "text": [
      "=======schedules=======\n",
      "('state', 0): ('povm', 0)\n",
      "('state', 0): ('povm', 1)\n",
      "('state', 0): ('povm', 2)\n",
      "=====================\n"
     ]
    },
    {
     "name": "stderr",
     "output_type": "stream",
     "text": [
      "\r",
      " 40%|████      | 4/10 [00:08<00:11,  1.93s/it]"
     ]
    },
    {
     "name": "stdout",
     "output_type": "stream",
     "text": [
      "=======schedules=======\n",
      "('state', 0): ('povm', 0)\n",
      "('state', 0): ('povm', 1)\n",
      "('state', 0): ('povm', 2)\n",
      "=====================\n"
     ]
    },
    {
     "name": "stderr",
     "output_type": "stream",
     "text": [
      "\r",
      " 50%|█████     | 5/10 [00:11<00:12,  2.48s/it]"
     ]
    },
    {
     "name": "stdout",
     "output_type": "stream",
     "text": [
      "=======schedules=======\n",
      "('state', 0): ('povm', 0)\n",
      "('state', 0): ('povm', 1)\n",
      "('state', 0): ('povm', 2)\n",
      "=====================\n"
     ]
    },
    {
     "name": "stderr",
     "output_type": "stream",
     "text": [
      "\r",
      " 60%|██████    | 6/10 [00:17<00:13,  3.37s/it]"
     ]
    },
    {
     "name": "stdout",
     "output_type": "stream",
     "text": [
      "=======schedules=======\n",
      "('state', 0): ('povm', 0)\n",
      "('state', 0): ('povm', 1)\n",
      "('state', 0): ('povm', 2)\n",
      "=====================\n"
     ]
    },
    {
     "name": "stderr",
     "output_type": "stream",
     "text": [
      "\r",
      " 70%|███████   | 7/10 [00:23<00:12,  4.27s/it]"
     ]
    },
    {
     "name": "stdout",
     "output_type": "stream",
     "text": [
      "=======schedules=======\n",
      "('state', 0): ('povm', 0)\n",
      "('state', 0): ('povm', 1)\n",
      "('state', 0): ('povm', 2)\n",
      "=====================\n"
     ]
    },
    {
     "name": "stderr",
     "output_type": "stream",
     "text": [
      "\r",
      " 80%|████████  | 8/10 [00:24<00:06,  3.26s/it]"
     ]
    },
    {
     "name": "stdout",
     "output_type": "stream",
     "text": [
      "=======schedules=======\n",
      "('state', 0): ('povm', 0)\n",
      "('state', 0): ('povm', 1)\n",
      "('state', 0): ('povm', 2)\n",
      "=====================\n"
     ]
    },
    {
     "name": "stderr",
     "output_type": "stream",
     "text": [
      "\r",
      " 90%|█████████ | 9/10 [00:25<00:02,  2.56s/it]"
     ]
    },
    {
     "name": "stdout",
     "output_type": "stream",
     "text": [
      "=======schedules=======\n",
      "('state', 0): ('povm', 0)\n",
      "('state', 0): ('povm', 1)\n",
      "('state', 0): ('povm', 2)\n",
      "=====================\n"
     ]
    },
    {
     "name": "stderr",
     "output_type": "stream",
     "text": [
      "100%|██████████| 10/10 [00:26<00:00,  2.65s/it]\n",
      "100%|██████████| 10/10 [00:00<00:00, 8598.41it/s]\n",
      "100%|██████████| 10/10 [00:00<00:00, 19535.65it/s]\n"
     ]
    },
    {
     "name": "stdout",
     "output_type": "stream",
     "text": [
      "=======schedules=======\n",
      "('state', 0): ('povm', 0)\n",
      "('state', 0): ('povm', 1)\n",
      "('state', 0): ('povm', 2)\n",
      "=====================\n"
     ]
    },
    {
     "name": "stderr",
     "output_type": "stream",
     "text": [
      " 50%|█████     | 5/10 [00:00<00:00, 30.63it/s]"
     ]
    },
    {
     "name": "stdout",
     "output_type": "stream",
     "text": [
      "=======schedules=======\n",
      "('state', 0): ('povm', 0)\n",
      "('state', 0): ('povm', 1)\n",
      "('state', 0): ('povm', 2)\n",
      "=====================\n",
      "=======schedules=======\n",
      "('state', 0): ('povm', 0)\n",
      "('state', 0): ('povm', 1)\n",
      "('state', 0): ('povm', 2)\n",
      "=====================\n",
      "=======schedules=======\n",
      "('state', 0): ('povm', 0)\n",
      "('state', 0): ('povm', 1)\n",
      "('state', 0): ('povm', 2)\n",
      "=====================\n",
      "=======schedules=======\n",
      "('state', 0): ('povm', 0)\n",
      "('state', 0): ('povm', 1)\n",
      "('state', 0): ('povm', 2)\n",
      "=====================\n",
      "=======schedules=======\n",
      "('state', 0): ('povm', 0)\n",
      "('state', 0): ('povm', 1)\n",
      "('state', 0): ('povm', 2)\n",
      "=====================\n"
     ]
    },
    {
     "name": "stderr",
     "output_type": "stream",
     "text": [
      "100%|██████████| 10/10 [00:00<00:00, 28.26it/s]\n",
      "  0%|          | 0/10 [00:00<?, ?it/s]"
     ]
    },
    {
     "name": "stdout",
     "output_type": "stream",
     "text": [
      "=======schedules=======\n",
      "('state', 0): ('povm', 0)\n",
      "('state', 0): ('povm', 1)\n",
      "('state', 0): ('povm', 2)\n",
      "=====================\n",
      "=======schedules=======\n",
      "('state', 0): ('povm', 0)\n",
      "('state', 0): ('povm', 1)\n",
      "('state', 0): ('povm', 2)\n",
      "=====================\n",
      "=======schedules=======\n",
      "('state', 0): ('povm', 0)\n",
      "('state', 0): ('povm', 1)\n",
      "('state', 0): ('povm', 2)\n",
      "=====================\n",
      "=======schedules=======\n",
      "('state', 0): ('povm', 0)\n",
      "('state', 0): ('povm', 1)\n",
      "('state', 0): ('povm', 2)\n",
      "=====================\n",
      "=======schedules=======\n",
      "('state', 0): ('povm', 0)\n",
      "('state', 0): ('povm', 1)\n",
      "('state', 0): ('povm', 2)\n",
      "=====================\n",
      "========== Summary ============\n",
      "Name: Maximum-Likelihood (False)\n",
      "MSE of Empirical Distributions: \u001b[32mOK\u001b[0m\n",
      "Consistency: \u001b[31mNG\u001b[0m (to_be_checked=False)\n",
      "MSE of estimators: \u001b[31mNG\u001b[0m\n",
      "Physicality Violation: \u001b[32mOK\u001b[0m\n",
      "===============================\n",
      "Total Result: \u001b[31mNG\u001b[0m\n",
      "Case 6: Least Squares (True)\n",
      "=======schedules=======\n",
      "('state', 0): ('povm', 0)\n",
      "('state', 0): ('povm', 1)\n",
      "('state', 0): ('povm', 2)\n",
      "=====================\n"
     ]
    },
    {
     "name": "stderr",
     "output_type": "stream",
     "text": [
      "\r",
      " 10%|█         | 1/10 [00:00<00:01,  5.31it/s]"
     ]
    },
    {
     "name": "stdout",
     "output_type": "stream",
     "text": [
      "=======schedules=======\n",
      "('state', 0): ('povm', 0)\n",
      "('state', 0): ('povm', 1)\n",
      "('state', 0): ('povm', 2)\n",
      "=====================\n"
     ]
    },
    {
     "name": "stderr",
     "output_type": "stream",
     "text": [
      " 30%|███       | 3/10 [00:00<00:01,  5.23it/s]"
     ]
    },
    {
     "name": "stdout",
     "output_type": "stream",
     "text": [
      "=======schedules=======\n",
      "('state', 0): ('povm', 0)\n",
      "('state', 0): ('povm', 1)\n",
      "('state', 0): ('povm', 2)\n",
      "=====================\n",
      "=======schedules=======\n",
      "('state', 0): ('povm', 0)\n",
      "('state', 0): ('povm', 1)\n",
      "('state', 0): ('povm', 2)\n",
      "=====================\n"
     ]
    },
    {
     "name": "stderr",
     "output_type": "stream",
     "text": [
      " 50%|█████     | 5/10 [00:00<00:00,  5.42it/s]"
     ]
    },
    {
     "name": "stdout",
     "output_type": "stream",
     "text": [
      "=======schedules=======\n",
      "('state', 0): ('povm', 0)\n",
      "('state', 0): ('povm', 1)\n",
      "('state', 0): ('povm', 2)\n",
      "=====================\n",
      "=======schedules=======\n",
      "('state', 0): ('povm', 0)\n",
      "('state', 0): ('povm', 1)\n",
      "('state', 0): ('povm', 2)\n",
      "=====================\n"
     ]
    },
    {
     "name": "stderr",
     "output_type": "stream",
     "text": [
      "\r",
      " 60%|██████    | 6/10 [00:01<00:00,  5.03it/s]"
     ]
    },
    {
     "name": "stdout",
     "output_type": "stream",
     "text": [
      "=======schedules=======\n",
      "('state', 0): ('povm', 0)\n",
      "('state', 0): ('povm', 1)\n",
      "('state', 0): ('povm', 2)\n",
      "=====================\n"
     ]
    },
    {
     "name": "stderr",
     "output_type": "stream",
     "text": [
      " 80%|████████  | 8/10 [00:01<00:00,  4.87it/s]"
     ]
    },
    {
     "name": "stdout",
     "output_type": "stream",
     "text": [
      "=======schedules=======\n",
      "('state', 0): ('povm', 0)\n",
      "('state', 0): ('povm', 1)\n",
      "('state', 0): ('povm', 2)\n",
      "=====================\n",
      "=======schedules=======\n",
      "('state', 0): ('povm', 0)\n",
      "('state', 0): ('povm', 1)\n",
      "('state', 0): ('povm', 2)\n",
      "=====================\n"
     ]
    },
    {
     "name": "stderr",
     "output_type": "stream",
     "text": [
      "100%|██████████| 10/10 [00:02<00:00,  4.91it/s]\n"
     ]
    },
    {
     "name": "stdout",
     "output_type": "stream",
     "text": [
      "=======schedules=======\n",
      "('state', 0): ('povm', 0)\n",
      "('state', 0): ('povm', 1)\n",
      "('state', 0): ('povm', 2)\n",
      "=====================\n"
     ]
    },
    {
     "name": "stderr",
     "output_type": "stream",
     "text": [
      "100%|██████████| 10/10 [00:00<00:00, 8969.85it/s]\n",
      "100%|██████████| 10/10 [00:00<00:00, 10707.95it/s]\n",
      "/Users/tomoko/project/rcast/workspace/quara/quara/data_analysis/simulation_check.py:176: UserWarning:\n",
      "\n",
      "Estimator MSE is not checked except for LinearEstimator, ProjectedLinearEstimator, Maximum-likelihood.\n",
      "\n",
      "  0%|          | 0/10 [00:00<?, ?it/s]"
     ]
    },
    {
     "name": "stdout",
     "output_type": "stream",
     "text": [
      "=======schedules=======\n",
      "('state', 0): ('povm', 0)\n",
      "('state', 0): ('povm', 1)\n",
      "('state', 0): ('povm', 2)\n",
      "=====================\n",
      "========== Summary ============\n",
      "Name: Least Squares (True)\n",
      "MSE of Empirical Distributions: \u001b[32mOK\u001b[0m\n",
      "Consistency: \u001b[32mOK\u001b[0m (to_be_checked=False)\n",
      "MSE of estimators: \u001b[32mOK\u001b[0m\n",
      "Physicality Violation: \u001b[32mOK\u001b[0m\n",
      "===============================\n",
      "Case 7: Least Squares (False)\n",
      "=======schedules=======\n",
      "('state', 0): ('povm', 0)\n",
      "('state', 0): ('povm', 1)\n",
      "('state', 0): ('povm', 2)\n",
      "=====================\n"
     ]
    },
    {
     "name": "stderr",
     "output_type": "stream",
     "text": [
      " 20%|██        | 2/10 [00:00<00:01,  5.25it/s]"
     ]
    },
    {
     "name": "stdout",
     "output_type": "stream",
     "text": [
      "=======schedules=======\n",
      "('state', 0): ('povm', 0)\n",
      "('state', 0): ('povm', 1)\n",
      "('state', 0): ('povm', 2)\n",
      "=====================\n",
      "=======schedules=======\n",
      "('state', 0): ('povm', 0)\n",
      "('state', 0): ('povm', 1)\n",
      "('state', 0): ('povm', 2)\n",
      "=====================\n"
     ]
    },
    {
     "name": "stderr",
     "output_type": "stream",
     "text": [
      " 40%|████      | 4/10 [00:00<00:00,  6.01it/s]"
     ]
    },
    {
     "name": "stdout",
     "output_type": "stream",
     "text": [
      "=======schedules=======\n",
      "('state', 0): ('povm', 0)\n",
      "('state', 0): ('povm', 1)\n",
      "('state', 0): ('povm', 2)\n",
      "=====================\n",
      "=======schedules=======\n",
      "('state', 0): ('povm', 0)\n",
      "('state', 0): ('povm', 1)\n",
      "('state', 0): ('povm', 2)\n",
      "=====================\n"
     ]
    },
    {
     "name": "stderr",
     "output_type": "stream",
     "text": [
      " 60%|██████    | 6/10 [00:00<00:00,  6.41it/s]"
     ]
    },
    {
     "name": "stdout",
     "output_type": "stream",
     "text": [
      "=======schedules=======\n",
      "('state', 0): ('povm', 0)\n",
      "('state', 0): ('povm', 1)\n",
      "('state', 0): ('povm', 2)\n",
      "=====================\n",
      "=======schedules=======\n",
      "('state', 0): ('povm', 0)\n",
      "('state', 0): ('povm', 1)\n",
      "('state', 0): ('povm', 2)\n",
      "=====================\n"
     ]
    },
    {
     "name": "stderr",
     "output_type": "stream",
     "text": [
      " 80%|████████  | 8/10 [00:01<00:00,  6.51it/s]"
     ]
    },
    {
     "name": "stdout",
     "output_type": "stream",
     "text": [
      "=======schedules=======\n",
      "('state', 0): ('povm', 0)\n",
      "('state', 0): ('povm', 1)\n",
      "('state', 0): ('povm', 2)\n",
      "=====================\n",
      "=======schedules=======\n",
      "('state', 0): ('povm', 0)\n",
      "('state', 0): ('povm', 1)\n",
      "('state', 0): ('povm', 2)\n",
      "=====================\n"
     ]
    },
    {
     "name": "stderr",
     "output_type": "stream",
     "text": [
      "100%|██████████| 10/10 [00:01<00:00,  6.31it/s]\n",
      "100%|██████████| 10/10 [00:00<00:00, 19231.10it/s]\n",
      "100%|██████████| 10/10 [00:00<00:00, 17924.38it/s]\n"
     ]
    },
    {
     "name": "stdout",
     "output_type": "stream",
     "text": [
      "=======schedules=======\n",
      "('state', 0): ('povm', 0)\n",
      "('state', 0): ('povm', 1)\n",
      "('state', 0): ('povm', 2)\n",
      "=====================\n",
      "=======schedules=======\n",
      "('state', 0): ('povm', 0)\n",
      "('state', 0): ('povm', 1)\n",
      "('state', 0): ('povm', 2)\n",
      "=====================\n",
      "========== Summary ============\n",
      "Name: Least Squares (False)\n",
      "MSE of Empirical Distributions: \u001b[32mOK\u001b[0m\n",
      "Consistency: \u001b[32mOK\u001b[0m (to_be_checked=False)\n",
      "MSE of estimators: \u001b[32mOK\u001b[0m\n",
      "Physicality Violation: \u001b[32mOK\u001b[0m\n",
      "===============================\n",
      "Completed to write csv. result/0/1/check_result.csv\n",
      "total_results=[True, True, False, False, False, False, True, True]\n",
      "False\n",
      "​Generating table of computation time ...\n",
      "​Generating table of tolerance of physicality constraint violation ...\n",
      "​Generating table of experimental conditions ...\n",
      "Generating case list ...\n",
      "Computation time of estimators ...\n"
     ]
    },
    {
     "name": "stderr",
     "output_type": "stream",
     "text": [
      "100%|██████████| 10/10 [00:00<00:00, 24442.33it/s]\n",
      "100%|██████████| 10/10 [00:00<00:00, 10843.60it/s]"
     ]
    },
    {
     "name": "stdout",
     "output_type": "stream",
     "text": [
      "​​Generating MSE of empirical distributions blocks ...\n"
     ]
    },
    {
     "name": "stderr",
     "output_type": "stream",
     "text": [
      "\n"
     ]
    },
    {
     "name": "stdout",
     "output_type": "stream",
     "text": [
      "​​Generating consictency test blocks ...\n",
      "=======schedules=======\n",
      "('state', 0): ('povm', 0)\n",
      "('state', 0): ('povm', 1)\n",
      "('state', 0): ('povm', 2)\n",
      "=====================\n",
      "=======schedules=======\n",
      "('state', 0): ('povm', 0)\n",
      "('state', 0): ('povm', 1)\n",
      "('state', 0): ('povm', 2)\n",
      "=====================\n",
      "=======schedules=======\n",
      "('state', 0): ('povm', 0)\n",
      "('state', 0): ('povm', 1)\n",
      "('state', 0): ('povm', 2)\n",
      "=====================\n",
      "=======schedules=======\n",
      "('state', 0): ('povm', 0)\n",
      "('state', 0): ('povm', 1)\n",
      "('state', 0): ('povm', 2)\n",
      "=====================\n",
      "=======schedules=======\n",
      "('state', 0): ('povm', 0)\n",
      "('state', 0): ('povm', 1)\n",
      "('state', 0): ('povm', 2)\n",
      "=====================\n",
      "=======schedules=======\n",
      "('state', 0): ('povm', 0)\n",
      "('state', 0): ('povm', 1)\n",
      "('state', 0): ('povm', 2)\n",
      "=====================\n",
      "=======schedules=======\n",
      "('state', 0): ('povm', 0)\n",
      "('state', 0): ('povm', 1)\n",
      "('state', 0): ('povm', 2)\n",
      "=====================\n",
      "=======schedules=======\n",
      "('state', 0): ('povm', 0)\n",
      "('state', 0): ('povm', 1)\n",
      "('state', 0): ('povm', 2)\n",
      "=====================\n",
      "=======schedules=======\n",
      "('state', 0): ('povm', 0)\n",
      "('state', 0): ('povm', 1)\n",
      "('state', 0): ('povm', 2)\n",
      "=====================\n",
      "=======schedules=======\n",
      "('state', 0): ('povm', 0)\n",
      "('state', 0): ('povm', 1)\n",
      "('state', 0): ('povm', 2)\n",
      "=====================\n",
      "=======schedules=======\n",
      "('state', 0): ('povm', 0)\n",
      "('state', 0): ('povm', 1)\n",
      "('state', 0): ('povm', 2)\n",
      "=====================\n",
      "=======schedules=======\n",
      "('state', 0): ('povm', 0)\n",
      "('state', 0): ('povm', 1)\n",
      "('state', 0): ('povm', 2)\n",
      "=====================\n",
      "=======schedules=======\n",
      "('state', 0): ('povm', 0)\n",
      "('state', 0): ('povm', 1)\n",
      "('state', 0): ('povm', 2)\n",
      "=====================\n",
      "=======schedules=======\n",
      "('state', 0): ('povm', 0)\n",
      "('state', 0): ('povm', 1)\n",
      "('state', 0): ('povm', 2)\n",
      "=====================\n",
      "=======schedules=======\n",
      "('state', 0): ('povm', 0)\n",
      "('state', 0): ('povm', 1)\n",
      "('state', 0): ('povm', 2)\n",
      "=====================\n",
      "=======schedules=======\n",
      "('state', 0): ('povm', 0)\n",
      "('state', 0): ('povm', 1)\n",
      "('state', 0): ('povm', 2)\n",
      "=====================\n",
      "​Generating a graph for MSE ...\n",
      "  Linear (True)=[0.01371604938271605, 0.0012888888888888908]\n",
      "  Linear (False)=[0.013716049382716053, 0.00128888888888889]\n",
      "  ProjectedLinear (True)=[0.01371604938271605, 0.0012888888888888902]\n",
      "  ProjectedLinear (False)=[0.013716049382716056, 0.0012888888888888893]\n",
      "  Maximum-Likelihood (True)=[0.013716049768110005, 0.001288889118398299]\n",
      "  Maximum-Likelihood (False)=[0.013722302685280033, 0.0012928119046027055]\n",
      "  Least Squares (True)=[0.013716049382716047, 0.0012888888888888902]\n",
      "  Least Squares (False)=[0.013716049382716053, 0.0012888888888888902]\n",
      "  Linear (True)=[0.01371604938271605, 0.0012888888888888908]\n",
      "  ProjectedLinear (True)=[0.01371604938271605, 0.0012888888888888902]\n",
      "  Maximum-Likelihood (True)=[0.013716049768110005, 0.001288889118398299]\n",
      "  Least Squares (True)=[0.013716049382716047, 0.0012888888888888902]\n",
      "  Linear (False)=[0.013716049382716053, 0.00128888888888889]\n",
      "  ProjectedLinear (False)=[0.013716049382716056, 0.0012888888888888893]\n",
      "  Maximum-Likelihood (False)=[0.013722302685280033, 0.0012928119046027055]\n",
      "  Least Squares (False)=[0.013716049382716053, 0.0012888888888888902]\n",
      "​​Generating physicality violation test blocks ...\n"
     ]
    },
    {
     "name": "stderr",
     "output_type": "stream",
     "text": [
      "100%|██████████| 10/10 [00:00<00:00, 4574.44it/s]\n",
      "100%|██████████| 10/10 [00:00<00:00, 3377.06it/s]\n",
      "100%|██████████| 10/10 [00:00<00:00, 5799.65it/s]\n",
      "100%|██████████| 10/10 [00:00<00:00, 4452.08it/s]\n",
      "100%|██████████| 10/10 [00:00<00:00, 4555.56it/s]\n",
      "100%|██████████| 10/10 [00:00<00:00, 3400.33it/s]\n",
      "100%|██████████| 10/10 [00:00<00:00, 4372.71it/s]\n",
      "100%|██████████| 10/10 [00:00<00:00, 6793.50it/s]\n",
      "100%|██████████| 10/10 [00:00<00:00, 4500.81it/s]\n",
      "100%|██████████| 10/10 [00:00<00:00, 5794.04it/s]\n",
      "100%|██████████| 10/10 [00:00<00:00, 3318.02it/s]\n",
      "100%|██████████| 10/10 [00:00<00:00, 3999.91it/s]\n",
      "100%|██████████| 10/10 [00:00<00:00, 4288.22it/s]\n",
      "100%|██████████| 10/10 [00:00<00:00, 4744.15it/s]\n",
      "100%|██████████| 10/10 [00:00<00:00, 5111.89it/s]\n",
      "100%|██████████| 10/10 [00:00<00:00, 6045.41it/s]\n",
      "100%|██████████| 10/10 [00:00<00:00, 3933.88it/s]\n",
      "100%|██████████| 10/10 [00:00<00:00, 4522.65it/s]\n",
      "100%|██████████| 10/10 [00:00<00:00, 4504.19it/s]\n",
      "100%|██████████| 10/10 [00:00<00:00, 4674.88it/s]\n",
      "100%|██████████| 10/10 [00:00<00:00, 4916.54it/s]\n",
      "100%|██████████| 10/10 [00:00<00:00, 5047.90it/s]\n",
      "100%|██████████| 10/10 [00:00<00:00, 4775.48it/s]\n",
      "100%|██████████| 10/10 [00:00<00:00, 3673.74it/s]\n",
      "100%|██████████| 10/10 [00:00<00:00, 4621.31it/s]\n",
      "100%|██████████| 10/10 [00:00<00:00, 5063.14it/s]\n",
      "100%|██████████| 10/10 [00:00<00:00, 6779.22it/s]\n",
      "100%|██████████| 10/10 [00:00<00:00, 4229.83it/s]\n",
      "100%|██████████| 10/10 [00:00<00:00, 5824.61it/s]\n",
      "100%|██████████| 10/10 [00:00<00:00, 4584.94it/s]\n",
      "100%|██████████| 10/10 [00:00<00:00, 3257.21it/s]\n",
      "100%|██████████| 10/10 [00:00<00:00, 3384.14it/s]\n"
     ]
    },
    {
     "name": "stdout",
     "output_type": "stream",
     "text": [
      "Converting to PDF report ...\n"
     ]
    },
    {
     "name": "stderr",
     "output_type": "stream",
     "text": [
      "\r",
      "  0%|          | 0/10 [00:00<?, ?it/s]"
     ]
    },
    {
     "name": "stdout",
     "output_type": "stream",
     "text": [
      "​Deleting temporary files ...\n",
      "Completed to export pdf. (result/0/1/0_1_quara_report.pdf)\n",
      "Completed to write csv. result/0/check_result.csv\n",
      "Case 0: Linear (True)\n",
      "=======schedules=======\n",
      "('state', 0): ('povm', 0)\n",
      "('state', 0): ('povm', 1)\n"
     ]
    },
    {
     "name": "stderr",
     "output_type": "stream",
     "text": [
      "\r",
      " 10%|█         | 1/10 [00:00<00:00,  9.13it/s]"
     ]
    },
    {
     "name": "stdout",
     "output_type": "stream",
     "text": [
      "('state', 0): ('povm', 2)\n",
      "=====================\n",
      "=======schedules=======\n",
      "('state', 0): ('povm', 0)\n",
      "('state', 0): ('povm', 1)\n",
      "('state', 0): ('povm', 2)\n",
      "=====================\n",
      "=======schedules=======\n",
      "('state', 0): ('povm', 0)\n",
      "('state', 0): ('povm', 1)\n",
      "('state', 0): ('povm', 2)\n",
      "=====================\n",
      "=======schedules=======\n",
      "('state', 0): ('povm', 0)\n",
      "('state', 0): ('povm', 1)\n",
      "('state', 0): ('povm', 2)\n",
      "=====================\n",
      "=======schedules=======\n",
      "('state', 0): ('povm', 0)\n",
      "('state', 0): ('povm', 1)\n",
      "('state', 0): ('povm', 2)\n",
      "=====================\n"
     ]
    },
    {
     "name": "stderr",
     "output_type": "stream",
     "text": [
      "100%|██████████| 10/10 [00:00<00:00, 30.96it/s]\n",
      "100%|██████████| 10/10 [00:00<00:00, 25130.64it/s]\n",
      "100%|██████████| 10/10 [00:00<00:00, 13460.54it/s]\n",
      "  0%|          | 0/10 [00:00<?, ?it/s]"
     ]
    },
    {
     "name": "stdout",
     "output_type": "stream",
     "text": [
      "=======schedules=======\n",
      "('state', 0): ('povm', 0)\n",
      "('state', 0): ('povm', 1)\n",
      "('state', 0): ('povm', 2)\n",
      "=====================\n",
      "=======schedules=======\n",
      "('state', 0): ('povm', 0)\n",
      "('state', 0): ('povm', 1)\n",
      "('state', 0): ('povm', 2)\n",
      "=====================\n",
      "=======schedules=======\n",
      "('state', 0): ('povm', 0)\n",
      "('state', 0): ('povm', 1)\n",
      "('state', 0): ('povm', 2)\n",
      "=====================\n",
      "=======schedules=======\n",
      "('state', 0): ('povm', 0)\n",
      "('state', 0): ('povm', 1)\n",
      "('state', 0): ('povm', 2)\n",
      "=====================\n",
      "=======schedules=======\n",
      "('state', 0): ('povm', 0)\n",
      "('state', 0): ('povm', 1)\n",
      "('state', 0): ('povm', 2)\n",
      "=====================\n",
      "=======schedules=======\n",
      "('state', 0): ('povm', 0)\n",
      "('state', 0): ('povm', 1)\n",
      "('state', 0): ('povm', 2)\n",
      "=====================\n",
      "========== Summary ============\n",
      "Name: Linear (True)\n",
      "MSE of Empirical Distributions: \u001b[32mOK\u001b[0m\n",
      "Consistency: \u001b[32mOK\u001b[0m (to_be_checked=False)\n",
      "MSE of estimators: \u001b[32mOK\u001b[0m\n",
      "Physicality Violation: \u001b[32mOK\u001b[0m\n",
      "===============================\n",
      "Case 1: Linear (False)\n",
      "=======schedules=======\n",
      "('state', 0): ('povm', 0)\n",
      "('state', 0): ('povm', 1)\n",
      "('state', 0): ('povm', 2)\n",
      "=====================\n",
      "=======schedules=======\n",
      "('state', 0): ('povm', 0)\n",
      "('state', 0): ('povm', 1)\n",
      "('state', 0): ('povm', 2)\n",
      "=====================\n",
      "=======schedules=======\n",
      "('state', 0): ('povm', 0)\n",
      "('state', 0): ('povm', 1)\n",
      "('state', 0): ('povm', 2)\n",
      "=====================\n"
     ]
    },
    {
     "name": "stderr",
     "output_type": "stream",
     "text": [
      "100%|██████████| 10/10 [00:00<00:00, 54.48it/s]\n",
      "100%|██████████| 10/10 [00:00<00:00, 21151.31it/s]\n",
      "100%|██████████| 10/10 [00:00<00:00, 23366.60it/s]\n",
      "  0%|          | 0/10 [00:00<?, ?it/s]"
     ]
    },
    {
     "name": "stdout",
     "output_type": "stream",
     "text": [
      "=======schedules=======\n",
      "('state', 0): ('povm', 0)\n",
      "('state', 0): ('povm', 1)\n",
      "('state', 0): ('povm', 2)\n",
      "=====================\n",
      "=======schedules=======\n",
      "('state', 0): ('povm', 0)\n",
      "('state', 0): ('povm', 1)\n",
      "('state', 0): ('povm', 2)\n",
      "=====================\n",
      "=======schedules=======\n",
      "('state', 0): ('povm', 0)\n",
      "('state', 0): ('povm', 1)\n",
      "('state', 0): ('povm', 2)\n",
      "=====================\n",
      "=======schedules=======\n",
      "('state', 0): ('povm', 0)\n",
      "('state', 0): ('povm', 1)\n",
      "('state', 0): ('povm', 2)\n",
      "=====================\n",
      "=======schedules=======\n",
      "('state', 0): ('povm', 0)\n",
      "('state', 0): ('povm', 1)\n",
      "('state', 0): ('povm', 2)\n",
      "=====================\n",
      "=======schedules=======\n",
      "('state', 0): ('povm', 0)\n",
      "('state', 0): ('povm', 1)\n",
      "('state', 0): ('povm', 2)\n",
      "=====================\n",
      "=======schedules=======\n",
      "('state', 0): ('povm', 0)\n",
      "('state', 0): ('povm', 1)\n",
      "('state', 0): ('povm', 2)\n",
      "=====================\n",
      "=======schedules=======\n",
      "('state', 0): ('povm', 0)\n",
      "('state', 0): ('povm', 1)\n",
      "('state', 0): ('povm', 2)\n",
      "=====================\n",
      "========== Summary ============\n",
      "Name: Linear (False)\n",
      "MSE of Empirical Distributions: \u001b[32mOK\u001b[0m\n",
      "Consistency: \u001b[32mOK\u001b[0m (to_be_checked=False)\n",
      "MSE of estimators: \u001b[32mOK\u001b[0m\n",
      "Physicality Violation: \u001b[32mOK\u001b[0m\n",
      "===============================\n",
      "Case 2: ProjectedLinear (True)\n",
      "=======schedules=======\n",
      "('state', 0): ('povm', 0)\n",
      "('state', 0): ('povm', 1)\n",
      "('state', 0): ('povm', 2)\n",
      "=====================\n",
      "=======schedules=======\n",
      "('state', 0): ('povm', 0)\n",
      "('state', 0): ('povm', 1)\n",
      "('state', 0): ('povm', 2)\n",
      "=====================\n",
      "=======schedules=======\n",
      "('state', 0): ('povm', 0)\n",
      "('state', 0): ('povm', 1)\n",
      "('state', 0): ('povm', 2)\n",
      "=====================\n",
      "=======schedules=======\n",
      "('state', 0): ('povm', 0)\n",
      "('state', 0): ('povm', 1)\n",
      "('state', 0): ('povm', 2)\n",
      "=====================\n",
      "=======schedules=======\n",
      "('state', 0): ('povm', 0)\n",
      "('state', 0): ('povm', 1)\n",
      "('state', 0): ('povm', 2)\n",
      "=====================\n",
      "=======schedules=======\n",
      "('state', 0): ('povm', 0)\n",
      "('state', 0): ('povm', 1)\n",
      "('state', 0): ('povm', 2)\n",
      "=====================\n"
     ]
    },
    {
     "name": "stderr",
     "output_type": "stream",
     "text": [
      "100%|██████████| 10/10 [00:00<00:00, 51.20it/s]\n",
      "100%|██████████| 10/10 [00:00<00:00, 12985.46it/s]\n",
      "100%|██████████| 10/10 [00:00<00:00, 11113.68it/s]\n",
      "  0%|          | 0/10 [00:00<?, ?it/s]"
     ]
    },
    {
     "name": "stdout",
     "output_type": "stream",
     "text": [
      "=======schedules=======\n",
      "('state', 0): ('povm', 0)\n",
      "('state', 0): ('povm', 1)\n",
      "('state', 0): ('povm', 2)\n",
      "=====================\n",
      "=======schedules=======\n",
      "('state', 0): ('povm', 0)\n",
      "('state', 0): ('povm', 1)\n",
      "('state', 0): ('povm', 2)\n",
      "=====================\n",
      "=======schedules=======\n",
      "('state', 0): ('povm', 0)\n",
      "('state', 0): ('povm', 1)\n",
      "('state', 0): ('povm', 2)\n",
      "=====================\n",
      "=======schedules=======\n",
      "('state', 0): ('povm', 0)\n",
      "('state', 0): ('povm', 1)\n",
      "('state', 0): ('povm', 2)\n",
      "=====================\n",
      "=======schedules=======\n",
      "('state', 0): ('povm', 0)\n",
      "('state', 0): ('povm', 1)\n",
      "('state', 0): ('povm', 2)\n",
      "=====================\n",
      "=======schedules=======\n",
      "('state', 0): ('povm', 0)\n",
      "('state', 0): ('povm', 1)\n",
      "('state', 0): ('povm', 2)\n",
      "=====================\n",
      "=======schedules=======\n",
      "('state', 0): ('povm', 0)\n",
      "('state', 0): ('povm', 1)\n",
      "('state', 0): ('povm', 2)\n",
      "=====================\n"
     ]
    },
    {
     "name": "stderr",
     "output_type": "stream",
     "text": [
      "100%|██████████| 10/10 [00:00<00:00, 38.97it/s]"
     ]
    },
    {
     "name": "stdout",
     "output_type": "stream",
     "text": [
      "=======schedules=======\n",
      "('state', 0): ('povm', 0)\n",
      "('state', 0): ('povm', 1)\n",
      "('state', 0): ('povm', 2)\n",
      "=====================\n",
      "=======schedules=======\n",
      "('state', 0): ('povm', 0)\n",
      "('state', 0): ('povm', 1)\n",
      "('state', 0): ('povm', 2)\n",
      "=====================\n",
      "=======schedules=======\n",
      "('state', 0): ('povm', 0)\n",
      "('state', 0): ('povm', 1)\n",
      "('state', 0): ('povm', 2)\n",
      "=====================\n",
      "=======schedules=======\n",
      "('state', 0): ('povm', 0)\n",
      "('state', 0): ('povm', 1)\n",
      "('state', 0): ('povm', 2)\n",
      "=====================\n",
      "=======schedules=======\n",
      "('state', 0): ('povm', 0)\n",
      "('state', 0): ('povm', 1)\n",
      "('state', 0): ('povm', 2)\n",
      "=====================\n",
      "=======schedules=======\n",
      "('state', 0): ('povm', 0)\n",
      "('state', 0): ('povm', 1)\n",
      "('state', 0): ('povm', 2)\n",
      "=====================\n",
      "=======schedules=======\n",
      "('state', 0): ('povm', 0)\n",
      "('state', 0): ('povm', 1)\n",
      "('state', 0): ('povm', 2)\n",
      "=====================\n",
      "=======schedules=======\n",
      "('state', 0): ('povm', 0)\n",
      "('state', 0): ('povm', 1)\n",
      "('state', 0): ('povm', 2)\n",
      "=====================\n"
     ]
    },
    {
     "name": "stderr",
     "output_type": "stream",
     "text": [
      "\n",
      "100%|██████████| 10/10 [00:00<00:00, 59.47it/s]\n",
      "100%|██████████| 10/10 [00:00<00:00, 4807.78it/s]\n",
      "100%|██████████| 10/10 [00:00<00:00, 16919.34it/s]\n",
      "  0%|          | 0/10 [00:00<?, ?it/s]"
     ]
    },
    {
     "name": "stdout",
     "output_type": "stream",
     "text": [
      "========== Summary ============\n",
      "Name: ProjectedLinear (True)\n",
      "MSE of Empirical Distributions: \u001b[32mOK\u001b[0m\n",
      "Consistency: \u001b[32mOK\u001b[0m (to_be_checked=False)\n",
      "MSE of estimators: \u001b[31mNG\u001b[0m\n",
      "Physicality Violation: \u001b[32mOK\u001b[0m\n",
      "===============================\n",
      "Total Result: \u001b[31mNG\u001b[0m\n",
      "Case 3: ProjectedLinear (False)\n",
      "=======schedules=======\n",
      "('state', 0): ('povm', 0)\n",
      "('state', 0): ('povm', 1)\n",
      "('state', 0): ('povm', 2)\n",
      "=====================\n",
      "=======schedules=======\n",
      "('state', 0): ('povm', 0)\n",
      "('state', 0): ('povm', 1)\n",
      "('state', 0): ('povm', 2)\n",
      "=====================\n",
      "=======schedules=======\n",
      "('state', 0): ('povm', 0)\n",
      "('state', 0): ('povm', 1)\n",
      "('state', 0): ('povm', 2)\n",
      "=====================\n",
      "=======schedules=======\n",
      "('state', 0): ('povm', 0)\n",
      "('state', 0): ('povm', 1)\n",
      "('state', 0): ('povm', 2)\n",
      "=====================\n",
      "=======schedules=======\n",
      "('state', 0): ('povm', 0)\n",
      "('state', 0): ('povm', 1)\n",
      "('state', 0): ('povm', 2)\n",
      "=====================\n",
      "=======schedules=======\n",
      "('state', 0): ('povm', 0)\n",
      "('state', 0): ('povm', 1)\n",
      "('state', 0): ('povm', 2)\n",
      "=====================\n",
      "=======schedules=======\n",
      "('state', 0): ('povm', 0)\n",
      "('state', 0): ('povm', 1)\n",
      "('state', 0): ('povm', 2)\n",
      "=====================\n",
      "=======schedules=======\n",
      "('state', 0): ('povm', 0)\n",
      "('state', 0): ('povm', 1)\n",
      "('state', 0): ('povm', 2)\n",
      "=====================\n",
      "=======schedules=======\n",
      "('state', 0): ('povm', 0)\n",
      "('state', 0): ('povm', 1)\n",
      "('state', 0): ('povm', 2)\n",
      "=====================\n",
      "=======schedules=======\n",
      "('state', 0): ('povm', 0)\n",
      "('state', 0): ('povm', 1)\n",
      "('state', 0): ('povm', 2)\n",
      "=====================\n",
      "=======schedules=======\n",
      "('state', 0): ('povm', 0)\n",
      "('state', 0): ('povm', 1)\n",
      "('state', 0): ('povm', 2)\n",
      "=====================\n",
      "=======schedules=======\n",
      "('state', 0): ('povm', 0)\n",
      "('state', 0): ('povm', 1)\n",
      "('state', 0): ('povm', 2)\n",
      "=====================\n",
      "=======schedules=======\n",
      "('state', 0): ('povm', 0)\n",
      "('state', 0): ('povm', 1)\n",
      "('state', 0): ('povm', 2)\n",
      "=====================\n",
      "=======schedules=======\n",
      "('state', 0): ('povm', 0)\n",
      "('state', 0): ('povm', 1)\n",
      "('state', 0): ('povm', 2)\n",
      "=====================\n"
     ]
    },
    {
     "name": "stderr",
     "output_type": "stream",
     "text": [
      "100%|██████████| 10/10 [00:00<00:00, 48.14it/s]\n",
      "  0%|          | 0/10 [00:00<?, ?it/s]"
     ]
    },
    {
     "name": "stdout",
     "output_type": "stream",
     "text": [
      "=======schedules=======\n",
      "('state', 0): ('povm', 0)\n",
      "('state', 0): ('povm', 1)\n",
      "('state', 0): ('povm', 2)\n",
      "=====================\n",
      "=======schedules=======\n",
      "('state', 0): ('povm', 0)\n",
      "('state', 0): ('povm', 1)\n",
      "('state', 0): ('povm', 2)\n",
      "=====================\n",
      "=======schedules=======\n",
      "('state', 0): ('povm', 0)\n",
      "('state', 0): ('povm', 1)\n",
      "('state', 0): ('povm', 2)\n",
      "=====================\n",
      "=======schedules=======\n",
      "('state', 0): ('povm', 0)\n",
      "('state', 0): ('povm', 1)\n",
      "('state', 0): ('povm', 2)\n",
      "=====================\n",
      "=======schedules=======\n",
      "('state', 0): ('povm', 0)\n",
      "('state', 0): ('povm', 1)\n",
      "('state', 0): ('povm', 2)\n",
      "=====================\n",
      "=======schedules=======\n",
      "('state', 0): ('povm', 0)\n",
      "('state', 0): ('povm', 1)\n",
      "('state', 0): ('povm', 2)\n",
      "=====================\n",
      "=======schedules=======\n",
      "('state', 0): ('povm', 0)\n",
      "('state', 0): ('povm', 1)\n",
      "('state', 0): ('povm', 2)\n",
      "=====================\n",
      "========== Summary ============\n",
      "Name: ProjectedLinear (False)\n",
      "MSE of Empirical Distributions: \u001b[32mOK\u001b[0m\n",
      "Consistency: \u001b[32mOK\u001b[0m (to_be_checked=False)\n",
      "MSE of estimators: \u001b[31mNG\u001b[0m\n",
      "Physicality Violation: \u001b[32mOK\u001b[0m\n",
      "===============================\n",
      "Total Result: \u001b[31mNG\u001b[0m\n",
      "Case 4: Maximum-Likelihood (True)\n",
      "=======schedules=======\n",
      "('state', 0): ('povm', 0)\n",
      "('state', 0): ('povm', 1)\n",
      "('state', 0): ('povm', 2)\n",
      "=====================\n"
     ]
    },
    {
     "name": "stderr",
     "output_type": "stream",
     "text": [
      "\r",
      " 10%|█         | 1/10 [00:01<00:17,  1.99s/it]"
     ]
    },
    {
     "name": "stdout",
     "output_type": "stream",
     "text": [
      "=======schedules=======\n",
      "('state', 0): ('povm', 0)\n",
      "('state', 0): ('povm', 1)\n",
      "('state', 0): ('povm', 2)\n",
      "=====================\n"
     ]
    },
    {
     "name": "stderr",
     "output_type": "stream",
     "text": [
      "\r",
      " 20%|██        | 2/10 [00:03<00:14,  1.78s/it]"
     ]
    },
    {
     "name": "stdout",
     "output_type": "stream",
     "text": [
      "=======schedules=======\n",
      "('state', 0): ('povm', 0)\n",
      "('state', 0): ('povm', 1)\n",
      "('state', 0): ('povm', 2)\n",
      "=====================\n"
     ]
    },
    {
     "name": "stderr",
     "output_type": "stream",
     "text": [
      "\r",
      " 30%|███       | 3/10 [00:04<00:10,  1.56s/it]"
     ]
    },
    {
     "name": "stdout",
     "output_type": "stream",
     "text": [
      "=======schedules=======\n",
      "('state', 0): ('povm', 0)\n",
      "('state', 0): ('povm', 1)\n",
      "('state', 0): ('povm', 2)\n",
      "=====================\n"
     ]
    },
    {
     "name": "stderr",
     "output_type": "stream",
     "text": [
      "\r",
      " 40%|████      | 4/10 [00:05<00:07,  1.32s/it]"
     ]
    },
    {
     "name": "stdout",
     "output_type": "stream",
     "text": [
      "=======schedules=======\n",
      "('state', 0): ('povm', 0)\n",
      "('state', 0): ('povm', 1)\n",
      "('state', 0): ('povm', 2)\n",
      "=====================\n"
     ]
    },
    {
     "name": "stderr",
     "output_type": "stream",
     "text": [
      "\r",
      " 50%|█████     | 5/10 [00:06<00:06,  1.26s/it]"
     ]
    },
    {
     "name": "stdout",
     "output_type": "stream",
     "text": [
      "=======schedules=======\n",
      "('state', 0): ('povm', 0)\n",
      "('state', 0): ('povm', 1)\n",
      "('state', 0): ('povm', 2)\n",
      "=====================\n"
     ]
    },
    {
     "name": "stderr",
     "output_type": "stream",
     "text": [
      "\r",
      " 60%|██████    | 6/10 [00:07<00:05,  1.28s/it]"
     ]
    },
    {
     "name": "stdout",
     "output_type": "stream",
     "text": [
      "=======schedules=======\n",
      "('state', 0): ('povm', 0)\n",
      "('state', 0): ('povm', 1)\n",
      "('state', 0): ('povm', 2)\n",
      "=====================\n"
     ]
    },
    {
     "name": "stderr",
     "output_type": "stream",
     "text": [
      "\r",
      " 70%|███████   | 7/10 [00:08<00:03,  1.19s/it]"
     ]
    },
    {
     "name": "stdout",
     "output_type": "stream",
     "text": [
      "=======schedules=======\n",
      "('state', 0): ('povm', 0)\n",
      "('state', 0): ('povm', 1)\n",
      "('state', 0): ('povm', 2)\n",
      "=====================\n"
     ]
    },
    {
     "name": "stderr",
     "output_type": "stream",
     "text": [
      "\r",
      " 80%|████████  | 8/10 [00:09<00:02,  1.20s/it]"
     ]
    },
    {
     "name": "stdout",
     "output_type": "stream",
     "text": [
      "=======schedules=======\n",
      "('state', 0): ('povm', 0)\n",
      "('state', 0): ('povm', 1)\n",
      "('state', 0): ('povm', 2)\n",
      "=====================\n"
     ]
    },
    {
     "name": "stderr",
     "output_type": "stream",
     "text": [
      "\r",
      " 90%|█████████ | 9/10 [00:10<00:01,  1.10s/it]"
     ]
    },
    {
     "name": "stdout",
     "output_type": "stream",
     "text": [
      "=======schedules=======\n",
      "('state', 0): ('povm', 0)\n",
      "('state', 0): ('povm', 1)\n",
      "('state', 0): ('povm', 2)\n",
      "=====================\n"
     ]
    },
    {
     "name": "stderr",
     "output_type": "stream",
     "text": [
      "100%|██████████| 10/10 [00:11<00:00,  1.17s/it]\n",
      "100%|██████████| 10/10 [00:00<00:00, 16339.32it/s]\n",
      "100%|██████████| 10/10 [00:00<00:00, 15454.33it/s]\n"
     ]
    },
    {
     "name": "stdout",
     "output_type": "stream",
     "text": [
      "=======schedules=======\n",
      "('state', 0): ('povm', 0)\n",
      "('state', 0): ('povm', 1)\n",
      "('state', 0): ('povm', 2)\n",
      "=====================\n"
     ]
    },
    {
     "name": "stderr",
     "output_type": "stream",
     "text": [
      "100%|██████████| 10/10 [00:00<00:00, 55.79it/s]\n"
     ]
    },
    {
     "name": "stdout",
     "output_type": "stream",
     "text": [
      "=======schedules=======\n",
      "('state', 0): ('povm', 0)\n",
      "('state', 0): ('povm', 1)\n",
      "('state', 0): ('povm', 2)\n",
      "=====================\n",
      "=======schedules=======\n",
      "('state', 0): ('povm', 0)\n",
      "('state', 0): ('povm', 1)\n",
      "('state', 0): ('povm', 2)\n",
      "=====================\n",
      "=======schedules=======\n",
      "('state', 0): ('povm', 0)\n",
      "('state', 0): ('povm', 1)\n",
      "('state', 0): ('povm', 2)\n",
      "=====================\n",
      "=======schedules=======\n",
      "('state', 0): ('povm', 0)\n",
      "('state', 0): ('povm', 1)\n",
      "('state', 0): ('povm', 2)\n",
      "=====================\n",
      "=======schedules=======\n",
      "('state', 0): ('povm', 0)\n",
      "('state', 0): ('povm', 1)\n",
      "('state', 0): ('povm', 2)\n",
      "=====================\n",
      "=======schedules=======\n",
      "('state', 0): ('povm', 0)\n",
      "('state', 0): ('povm', 1)\n",
      "('state', 0): ('povm', 2)\n",
      "=====================\n",
      "=======schedules=======\n",
      "('state', 0): ('povm', 0)\n",
      "('state', 0): ('povm', 1)\n",
      "('state', 0): ('povm', 2)\n",
      "=====================\n",
      "=======schedules=======\n",
      "('state', 0): ('povm', 0)\n",
      "('state', 0): ('povm', 1)\n",
      "('state', 0): ('povm', 2)\n",
      "=====================\n",
      "=======schedules=======\n",
      "('state', 0): ('povm', 0)\n",
      "('state', 0): ('povm', 1)\n",
      "('state', 0): ('povm', 2)\n",
      "=====================\n",
      "=======schedules=======\n",
      "('state', 0): ('povm', 0)\n",
      "('state', 0): ('povm', 1)\n",
      "('state', 0): ('povm', 2)\n",
      "=====================\n"
     ]
    },
    {
     "name": "stderr",
     "output_type": "stream",
     "text": [
      "\r",
      "  0%|          | 0/10 [00:00<?, ?it/s]"
     ]
    },
    {
     "name": "stdout",
     "output_type": "stream",
     "text": [
      "========== Summary ============\n",
      "Name: Maximum-Likelihood (True)\n",
      "MSE of Empirical Distributions: \u001b[32mOK\u001b[0m\n",
      "Consistency: \u001b[32mOK\u001b[0m (to_be_checked=False)\n",
      "MSE of estimators: \u001b[31mNG\u001b[0m\n",
      "Physicality Violation: \u001b[32mOK\u001b[0m\n",
      "===============================\n",
      "Total Result: \u001b[31mNG\u001b[0m\n",
      "Case 5: Maximum-Likelihood (False)\n",
      "=======schedules=======\n",
      "('state', 0): ('povm', 0)\n",
      "('state', 0): ('povm', 1)\n",
      "('state', 0): ('povm', 2)\n",
      "=====================\n"
     ]
    },
    {
     "name": "stderr",
     "output_type": "stream",
     "text": [
      "\r",
      " 10%|█         | 1/10 [00:01<00:13,  1.51s/it]"
     ]
    },
    {
     "name": "stdout",
     "output_type": "stream",
     "text": [
      "=======schedules=======\n",
      "('state', 0): ('povm', 0)\n",
      "('state', 0): ('povm', 1)\n",
      "('state', 0): ('povm', 2)\n",
      "=====================\n"
     ]
    },
    {
     "name": "stderr",
     "output_type": "stream",
     "text": [
      "\r",
      " 20%|██        | 2/10 [00:04<00:16,  2.08s/it]"
     ]
    },
    {
     "name": "stdout",
     "output_type": "stream",
     "text": [
      "=======schedules=======\n",
      "('state', 0): ('povm', 0)\n",
      "('state', 0): ('povm', 1)\n",
      "('state', 0): ('povm', 2)\n",
      "=====================\n"
     ]
    },
    {
     "name": "stderr",
     "output_type": "stream",
     "text": [
      "\r",
      " 30%|███       | 3/10 [00:07<00:15,  2.24s/it]"
     ]
    },
    {
     "name": "stdout",
     "output_type": "stream",
     "text": [
      "=======schedules=======\n",
      "('state', 0): ('povm', 0)\n",
      "('state', 0): ('povm', 1)\n",
      "('state', 0): ('povm', 2)\n",
      "=====================\n"
     ]
    },
    {
     "name": "stderr",
     "output_type": "stream",
     "text": [
      "\r",
      " 40%|████      | 4/10 [00:09<00:13,  2.27s/it]"
     ]
    },
    {
     "name": "stdout",
     "output_type": "stream",
     "text": [
      "=======schedules=======\n",
      "('state', 0): ('povm', 0)\n",
      "('state', 0): ('povm', 1)\n",
      "('state', 0): ('povm', 2)\n",
      "=====================\n"
     ]
    },
    {
     "name": "stderr",
     "output_type": "stream",
     "text": [
      "\r",
      " 50%|█████     | 5/10 [00:13<00:13,  2.64s/it]"
     ]
    },
    {
     "name": "stdout",
     "output_type": "stream",
     "text": [
      "=======schedules=======\n",
      "('state', 0): ('povm', 0)\n",
      "('state', 0): ('povm', 1)\n",
      "('state', 0): ('povm', 2)\n",
      "=====================\n"
     ]
    },
    {
     "name": "stderr",
     "output_type": "stream",
     "text": [
      "\r",
      " 60%|██████    | 6/10 [00:19<00:14,  3.67s/it]"
     ]
    },
    {
     "name": "stdout",
     "output_type": "stream",
     "text": [
      "=======schedules=======\n",
      "('state', 0): ('povm', 0)\n",
      "('state', 0): ('povm', 1)\n",
      "('state', 0): ('povm', 2)\n",
      "=====================\n"
     ]
    },
    {
     "name": "stderr",
     "output_type": "stream",
     "text": [
      "\r",
      " 70%|███████   | 7/10 [00:26<00:13,  4.64s/it]"
     ]
    },
    {
     "name": "stdout",
     "output_type": "stream",
     "text": [
      "=======schedules=======\n",
      "('state', 0): ('povm', 0)\n",
      "('state', 0): ('povm', 1)\n",
      "('state', 0): ('povm', 2)\n",
      "=====================\n"
     ]
    },
    {
     "name": "stderr",
     "output_type": "stream",
     "text": [
      "\r",
      " 80%|████████  | 8/10 [00:28<00:07,  3.79s/it]"
     ]
    },
    {
     "name": "stdout",
     "output_type": "stream",
     "text": [
      "=======schedules=======\n",
      "('state', 0): ('povm', 0)\n",
      "('state', 0): ('povm', 1)\n",
      "('state', 0): ('povm', 2)\n",
      "=====================\n"
     ]
    },
    {
     "name": "stderr",
     "output_type": "stream",
     "text": [
      "\r",
      " 90%|█████████ | 9/10 [00:29<00:02,  2.94s/it]"
     ]
    },
    {
     "name": "stdout",
     "output_type": "stream",
     "text": [
      "=======schedules=======\n",
      "('state', 0): ('povm', 0)\n",
      "('state', 0): ('povm', 1)\n",
      "('state', 0): ('povm', 2)\n",
      "=====================\n"
     ]
    },
    {
     "name": "stderr",
     "output_type": "stream",
     "text": [
      "100%|██████████| 10/10 [00:30<00:00,  3.05s/it]\n",
      "100%|██████████| 10/10 [00:00<00:00, 18867.76it/s]\n",
      "100%|██████████| 10/10 [00:00<00:00, 17098.67it/s]\n"
     ]
    },
    {
     "name": "stdout",
     "output_type": "stream",
     "text": [
      "=======schedules=======\n",
      "('state', 0): ('povm', 0)\n",
      "('state', 0): ('povm', 1)\n",
      "('state', 0): ('povm', 2)\n",
      "=====================\n"
     ]
    },
    {
     "name": "stderr",
     "output_type": "stream",
     "text": [
      "100%|██████████| 10/10 [00:00<00:00, 71.08it/s]\n",
      "  0%|          | 0/10 [00:00<?, ?it/s]"
     ]
    },
    {
     "name": "stdout",
     "output_type": "stream",
     "text": [
      "=======schedules=======\n",
      "('state', 0): ('povm', 0)\n",
      "('state', 0): ('povm', 1)\n",
      "('state', 0): ('povm', 2)\n",
      "=====================\n",
      "=======schedules=======\n",
      "('state', 0): ('povm', 0)\n",
      "('state', 0): ('povm', 1)\n",
      "('state', 0): ('povm', 2)\n",
      "=====================\n",
      "=======schedules=======\n",
      "('state', 0): ('povm', 0)\n",
      "('state', 0): ('povm', 1)\n",
      "('state', 0): ('povm', 2)\n",
      "=====================\n",
      "=======schedules=======\n",
      "('state', 0): ('povm', 0)\n",
      "('state', 0): ('povm', 1)\n",
      "('state', 0): ('povm', 2)\n",
      "=====================\n",
      "=======schedules=======\n",
      "('state', 0): ('povm', 0)\n",
      "('state', 0): ('povm', 1)\n",
      "('state', 0): ('povm', 2)\n",
      "=====================\n",
      "=======schedules=======\n",
      "('state', 0): ('povm', 0)\n",
      "('state', 0): ('povm', 1)\n",
      "('state', 0): ('povm', 2)\n",
      "=====================\n",
      "=======schedules=======\n",
      "('state', 0): ('povm', 0)\n",
      "('state', 0): ('povm', 1)\n",
      "('state', 0): ('povm', 2)\n",
      "=====================\n",
      "=======schedules=======\n",
      "('state', 0): ('povm', 0)\n",
      "('state', 0): ('povm', 1)\n",
      "('state', 0): ('povm', 2)\n",
      "=====================\n",
      "=======schedules=======\n",
      "('state', 0): ('povm', 0)\n",
      "('state', 0): ('povm', 1)\n",
      "('state', 0): ('povm', 2)\n",
      "=====================\n",
      "=======schedules=======\n",
      "('state', 0): ('povm', 0)\n",
      "('state', 0): ('povm', 1)\n",
      "('state', 0): ('povm', 2)\n",
      "=====================\n",
      "========== Summary ============\n",
      "Name: Maximum-Likelihood (False)\n",
      "MSE of Empirical Distributions: \u001b[32mOK\u001b[0m\n",
      "Consistency: \u001b[31mNG\u001b[0m (to_be_checked=False)\n",
      "MSE of estimators: \u001b[31mNG\u001b[0m\n",
      "Physicality Violation: \u001b[32mOK\u001b[0m\n",
      "===============================\n",
      "Total Result: \u001b[31mNG\u001b[0m\n",
      "Case 6: Least Squares (True)\n",
      "=======schedules=======\n",
      "('state', 0): ('povm', 0)\n",
      "('state', 0): ('povm', 1)\n",
      "('state', 0): ('povm', 2)\n",
      "=====================\n"
     ]
    },
    {
     "name": "stderr",
     "output_type": "stream",
     "text": [
      " 20%|██        | 2/10 [00:00<00:01,  7.02it/s]"
     ]
    },
    {
     "name": "stdout",
     "output_type": "stream",
     "text": [
      "=======schedules=======\n",
      "('state', 0): ('povm', 0)\n",
      "('state', 0): ('povm', 1)\n",
      "('state', 0): ('povm', 2)\n",
      "=====================\n",
      "=======schedules=======\n",
      "('state', 0): ('povm', 0)\n",
      "('state', 0): ('povm', 1)\n",
      "('state', 0): ('povm', 2)\n",
      "=====================\n"
     ]
    },
    {
     "name": "stderr",
     "output_type": "stream",
     "text": [
      " 50%|█████     | 5/10 [00:00<00:00,  8.31it/s]"
     ]
    },
    {
     "name": "stdout",
     "output_type": "stream",
     "text": [
      "=======schedules=======\n",
      "('state', 0): ('povm', 0)\n",
      "('state', 0): ('povm', 1)\n",
      "('state', 0): ('povm', 2)\n",
      "=====================\n",
      "=======schedules=======\n",
      "('state', 0): ('povm', 0)\n",
      "('state', 0): ('povm', 1)\n",
      "('state', 0): ('povm', 2)\n",
      "=====================\n",
      "=======schedules=======\n",
      "('state', 0): ('povm', 0)\n",
      "('state', 0): ('povm', 1)\n",
      "('state', 0): ('povm', 2)\n",
      "=====================\n"
     ]
    },
    {
     "name": "stderr",
     "output_type": "stream",
     "text": [
      " 80%|████████  | 8/10 [00:00<00:00,  8.76it/s]"
     ]
    },
    {
     "name": "stdout",
     "output_type": "stream",
     "text": [
      "=======schedules=======\n",
      "('state', 0): ('povm', 0)\n",
      "('state', 0): ('povm', 1)\n",
      "('state', 0): ('povm', 2)\n",
      "=====================\n",
      "=======schedules=======\n",
      "('state', 0): ('povm', 0)\n",
      "('state', 0): ('povm', 1)\n",
      "('state', 0): ('povm', 2)\n",
      "=====================\n",
      "=======schedules=======\n",
      "('state', 0): ('povm', 0)\n",
      "('state', 0): ('povm', 1)\n",
      "('state', 0): ('povm', 2)\n",
      "=====================\n"
     ]
    },
    {
     "name": "stderr",
     "output_type": "stream",
     "text": [
      "100%|██████████| 10/10 [00:01<00:00,  8.92it/s]\n",
      "100%|██████████| 10/10 [00:00<00:00, 8277.69it/s]\n",
      "100%|██████████| 10/10 [00:00<00:00, 12725.44it/s]\n",
      "/Users/tomoko/project/rcast/workspace/quara/quara/data_analysis/simulation_check.py:176: UserWarning:\n",
      "\n",
      "Estimator MSE is not checked except for LinearEstimator, ProjectedLinearEstimator, Maximum-likelihood.\n",
      "\n"
     ]
    },
    {
     "name": "stdout",
     "output_type": "stream",
     "text": [
      "=======schedules=======\n",
      "('state', 0): ('povm', 0)\n",
      "('state', 0): ('povm', 1)\n",
      "('state', 0): ('povm', 2)\n",
      "=====================\n",
      "=======schedules=======\n",
      "('state', 0): ('povm', 0)\n",
      "('state', 0): ('povm', 1)\n",
      "('state', 0): ('povm', 2)\n",
      "=====================\n"
     ]
    },
    {
     "name": "stderr",
     "output_type": "stream",
     "text": [
      " 10%|█         | 1/10 [00:00<00:01,  7.19it/s]"
     ]
    },
    {
     "name": "stdout",
     "output_type": "stream",
     "text": [
      "========== Summary ============\n",
      "Name: Least Squares (True)\n",
      "MSE of Empirical Distributions: \u001b[32mOK\u001b[0m\n",
      "Consistency: \u001b[32mOK\u001b[0m (to_be_checked=False)\n",
      "MSE of estimators: \u001b[32mOK\u001b[0m\n",
      "Physicality Violation: \u001b[32mOK\u001b[0m\n",
      "===============================\n",
      "Case 7: Least Squares (False)\n",
      "=======schedules=======\n",
      "('state', 0): ('povm', 0)\n",
      "('state', 0): ('povm', 1)\n",
      "('state', 0): ('povm', 2)\n",
      "=====================\n",
      "=======schedules=======\n",
      "('state', 0): ('povm', 0)\n",
      "('state', 0): ('povm', 1)\n",
      "('state', 0): ('povm', 2)\n",
      "=====================\n"
     ]
    },
    {
     "name": "stderr",
     "output_type": "stream",
     "text": [
      " 40%|████      | 4/10 [00:00<00:00,  6.77it/s]"
     ]
    },
    {
     "name": "stdout",
     "output_type": "stream",
     "text": [
      "=======schedules=======\n",
      "('state', 0): ('povm', 0)\n",
      "('state', 0): ('povm', 1)\n",
      "('state', 0): ('povm', 2)\n",
      "=====================\n",
      "=======schedules=======\n",
      "('state', 0): ('povm', 0)\n",
      "('state', 0): ('povm', 1)\n",
      "('state', 0): ('povm', 2)\n",
      "=====================\n"
     ]
    },
    {
     "name": "stderr",
     "output_type": "stream",
     "text": [
      " 60%|██████    | 6/10 [00:00<00:00,  6.70it/s]"
     ]
    },
    {
     "name": "stdout",
     "output_type": "stream",
     "text": [
      "=======schedules=======\n",
      "('state', 0): ('povm', 0)\n",
      "('state', 0): ('povm', 1)\n",
      "('state', 0): ('povm', 2)\n",
      "=====================\n",
      "=======schedules=======\n",
      "('state', 0): ('povm', 0)\n",
      "('state', 0): ('povm', 1)\n",
      "('state', 0): ('povm', 2)\n",
      "=====================\n",
      "=======schedules=======\n",
      "('state', 0): ('povm', 0)\n",
      "('state', 0): ('povm', 1)\n",
      "('state', 0): ('povm', 2)\n",
      "=====================\n"
     ]
    },
    {
     "name": "stderr",
     "output_type": "stream",
     "text": [
      " 80%|████████  | 8/10 [00:01<00:00,  7.19it/s]"
     ]
    },
    {
     "name": "stdout",
     "output_type": "stream",
     "text": [
      "=======schedules=======\n",
      "('state', 0): ('povm', 0)\n",
      "('state', 0): ('povm', 1)\n",
      "('state', 0): ('povm', 2)\n",
      "=====================\n",
      "=======schedules=======\n",
      "('state', 0): ('povm', 0)\n",
      "('state', 0): ('povm', 1)\n",
      "('state', 0): ('povm', 2)\n",
      "=====================\n"
     ]
    },
    {
     "name": "stderr",
     "output_type": "stream",
     "text": [
      "100%|██████████| 10/10 [00:01<00:00,  7.04it/s]\n",
      "100%|██████████| 10/10 [00:00<00:00, 29852.70it/s]\n",
      "100%|██████████| 10/10 [00:00<00:00, 23160.15it/s]\n"
     ]
    },
    {
     "name": "stdout",
     "output_type": "stream",
     "text": [
      "=======schedules=======\n",
      "('state', 0): ('povm', 0)\n",
      "('state', 0): ('povm', 1)\n",
      "('state', 0): ('povm', 2)\n",
      "=====================\n",
      "=======schedules=======\n",
      "('state', 0): ('povm', 0)\n",
      "('state', 0): ('povm', 1)\n",
      "('state', 0): ('povm', 2)\n",
      "=====================\n",
      "========== Summary ============\n",
      "Name: Least Squares (False)\n",
      "MSE of Empirical Distributions: \u001b[32mOK\u001b[0m\n",
      "Consistency: \u001b[32mOK\u001b[0m (to_be_checked=False)\n",
      "MSE of estimators: \u001b[32mOK\u001b[0m\n",
      "Physicality Violation: \u001b[32mOK\u001b[0m\n",
      "===============================\n",
      "Completed to write csv. result/1/0/check_result.csv\n",
      "total_results=[True, True, False, False, False, False, True, True]\n",
      "False\n",
      "​Generating table of computation time ...\n",
      "​Generating table of tolerance of physicality constraint violation ...\n",
      "​Generating table of experimental conditions ...\n",
      "Generating case list ...\n",
      "Computation time of estimators ...\n"
     ]
    },
    {
     "name": "stderr",
     "output_type": "stream",
     "text": [
      "100%|██████████| 10/10 [00:00<00:00, 23981.15it/s]\n",
      "100%|██████████| 10/10 [00:00<00:00, 4838.28it/s]"
     ]
    },
    {
     "name": "stdout",
     "output_type": "stream",
     "text": [
      "​​Generating MSE of empirical distributions blocks ...\n",
      "​​Generating consictency test blocks ...\n",
      "=======schedules=======\n",
      "('state', 0): ('povm', 0)\n",
      "('state', 0): ('povm', 1)\n",
      "('state', 0): ('povm', 2)\n",
      "=====================\n",
      "=======schedules=======\n",
      "('state', 0): ('povm', 0)\n",
      "('state', 0): ('povm', 1)\n",
      "('state', 0): ('povm', 2)\n",
      "=====================\n",
      "=======schedules=======\n",
      "('state', 0): ('povm', 0)\n",
      "('state', 0): ('povm', 1)\n",
      "('state', 0): ('povm', 2)\n",
      "=====================\n",
      "=======schedules=======\n",
      "('state', 0): ('povm', 0)\n",
      "('state', 0): ('povm', 1)\n",
      "('state', 0): ('povm', 2)\n",
      "=====================\n",
      "=======schedules=======\n",
      "('state', 0): ('povm', 0)\n",
      "('state', 0): ('povm', 1)\n",
      "('state', 0): ('povm', 2)\n",
      "=====================\n",
      "=======schedules=======\n",
      "('state', 0): ('povm', 0)\n",
      "('state', 0): ('povm', 1)\n",
      "('state', 0): ('povm', 2)\n",
      "=====================\n",
      "=======schedules=======\n",
      "('state', 0): ('povm', 0)\n",
      "('state', 0): ('povm', 1)\n",
      "('state', 0): ('povm', 2)\n",
      "=====================\n",
      "=======schedules=======\n",
      "('state', 0): ('povm', 0)\n",
      "('state', 0): ('povm', 1)\n",
      "('state', 0): ('povm', 2)\n",
      "=====================\n",
      "=======schedules=======\n",
      "('state', 0): ('povm', 0)\n",
      "('state', 0): ('povm', 1)\n",
      "('state', 0): ('povm', 2)\n",
      "=====================\n"
     ]
    },
    {
     "name": "stderr",
     "output_type": "stream",
     "text": [
      "\n"
     ]
    },
    {
     "name": "stdout",
     "output_type": "stream",
     "text": [
      "=======schedules=======\n",
      "('state', 0): ('povm', 0)\n",
      "('state', 0): ('povm', 1)\n",
      "('state', 0): ('povm', 2)\n",
      "=====================\n",
      "=======schedules=======\n",
      "('state', 0): ('povm', 0)\n",
      "('state', 0): ('povm', 1)\n",
      "('state', 0): ('povm', 2)\n",
      "=====================\n",
      "=======schedules=======\n",
      "('state', 0): ('povm', 0)\n",
      "('state', 0): ('povm', 1)\n",
      "('state', 0): ('povm', 2)\n",
      "=====================\n",
      "=======schedules=======\n",
      "('state', 0): ('povm', 0)\n",
      "('state', 0): ('povm', 1)\n",
      "('state', 0): ('povm', 2)\n",
      "=====================\n",
      "=======schedules=======\n",
      "('state', 0): ('povm', 0)\n",
      "('state', 0): ('povm', 1)\n",
      "('state', 0): ('povm', 2)\n",
      "=====================\n",
      "=======schedules=======\n",
      "('state', 0): ('povm', 0)\n",
      "('state', 0): ('povm', 1)\n",
      "('state', 0): ('povm', 2)\n",
      "=====================\n",
      "=======schedules=======\n",
      "('state', 0): ('povm', 0)\n",
      "('state', 0): ('povm', 1)\n",
      "('state', 0): ('povm', 2)\n",
      "=====================\n",
      "​Generating a graph for MSE ...\n",
      "  Linear (True)=[0.01371604938271605, 0.0012888888888888908]\n",
      "  Linear (False)=[0.013716049382716053, 0.00128888888888889]\n",
      "  ProjectedLinear (True)=[0.01371604938271605, 0.0012888888888888902]\n",
      "  ProjectedLinear (False)=[0.013716049382716056, 0.0012888888888888893]\n",
      "  Maximum-Likelihood (True)=[0.013716049768110005, 0.001288889118398299]\n",
      "  Maximum-Likelihood (False)=[0.013722302685280033, 0.0012928119046027055]\n",
      "  Least Squares (True)=[0.013716049382716047, 0.0012888888888888902]\n",
      "  Least Squares (False)=[0.013716049382716053, 0.0012888888888888902]\n",
      "  Linear (True)=[0.01371604938271605, 0.0012888888888888908]\n",
      "  ProjectedLinear (True)=[0.01371604938271605, 0.0012888888888888902]\n",
      "  Maximum-Likelihood (True)=[0.013716049768110005, 0.001288889118398299]\n",
      "  Least Squares (True)=[0.013716049382716047, 0.0012888888888888902]\n",
      "  Linear (False)=[0.013716049382716053, 0.00128888888888889]\n",
      "  ProjectedLinear (False)=[0.013716049382716056, 0.0012888888888888893]\n",
      "  Maximum-Likelihood (False)=[0.013722302685280033, 0.0012928119046027055]\n",
      "  Least Squares (False)=[0.013716049382716053, 0.0012888888888888902]\n"
     ]
    },
    {
     "name": "stderr",
     "output_type": "stream",
     "text": [
      "100%|██████████| 10/10 [00:00<00:00, 5955.28it/s]"
     ]
    },
    {
     "name": "stdout",
     "output_type": "stream",
     "text": [
      "​​Generating physicality violation test blocks ...\n"
     ]
    },
    {
     "name": "stderr",
     "output_type": "stream",
     "text": [
      "\n",
      "100%|██████████| 10/10 [00:00<00:00, 6900.80it/s]\n",
      "100%|██████████| 10/10 [00:00<00:00, 7413.05it/s]\n",
      "100%|██████████| 10/10 [00:00<00:00, 5416.90it/s]\n",
      "100%|██████████| 10/10 [00:00<00:00, 5099.46it/s]\n",
      "100%|██████████| 10/10 [00:00<00:00, 1423.87it/s]\n",
      "100%|██████████| 10/10 [00:00<00:00, 6587.57it/s]\n",
      "100%|██████████| 10/10 [00:00<00:00, 5102.56it/s]\n",
      "100%|██████████| 10/10 [00:00<00:00, 4518.75it/s]\n",
      "100%|██████████| 10/10 [00:00<00:00, 4127.03it/s]\n",
      "100%|██████████| 10/10 [00:00<00:00, 5219.39it/s]\n",
      "100%|██████████| 10/10 [00:00<00:00, 7188.18it/s]\n",
      "100%|██████████| 10/10 [00:00<00:00, 3689.90it/s]\n",
      "100%|██████████| 10/10 [00:00<00:00, 7397.36it/s]\n",
      "100%|██████████| 10/10 [00:00<00:00, 6992.84it/s]\n",
      "100%|██████████| 10/10 [00:00<00:00, 4776.02it/s]\n",
      "100%|██████████| 10/10 [00:00<00:00, 7553.22it/s]\n",
      "100%|██████████| 10/10 [00:00<00:00, 4708.47it/s]\n",
      "100%|██████████| 10/10 [00:00<00:00, 5014.71it/s]\n",
      "100%|██████████| 10/10 [00:00<00:00, 6296.81it/s]\n",
      "100%|██████████| 10/10 [00:00<00:00, 7440.67it/s]\n",
      "100%|██████████| 10/10 [00:00<00:00, 6394.73it/s]\n",
      "100%|██████████| 10/10 [00:00<00:00, 6896.26it/s]\n",
      "100%|██████████| 10/10 [00:00<00:00, 3805.05it/s]\n",
      "100%|██████████| 10/10 [00:00<00:00, 6586.53it/s]\n",
      "100%|██████████| 10/10 [00:00<00:00, 3981.30it/s]\n",
      "100%|██████████| 10/10 [00:00<00:00, 5497.84it/s]\n",
      "100%|██████████| 10/10 [00:00<00:00, 6626.07it/s]\n",
      "100%|██████████| 10/10 [00:00<00:00, 6852.32it/s]\n",
      "100%|██████████| 10/10 [00:00<00:00, 4178.43it/s]\n",
      "100%|██████████| 10/10 [00:00<00:00, 7546.43it/s]\n",
      "100%|██████████| 10/10 [00:00<00:00, 4478.22it/s]\n"
     ]
    },
    {
     "name": "stdout",
     "output_type": "stream",
     "text": [
      "Converting to PDF report ...\n"
     ]
    },
    {
     "name": "stderr",
     "output_type": "stream",
     "text": [
      "100%|██████████| 10/10 [00:00<00:00, 72.75it/s]"
     ]
    },
    {
     "name": "stdout",
     "output_type": "stream",
     "text": [
      "​Deleting temporary files ...\n",
      "Completed to export pdf. (result/1/0/1_0_quara_report.pdf)\n",
      "Case 0: Linear (True)\n",
      "=======schedules=======\n",
      "('state', 0): ('povm', 0)\n",
      "('state', 0): ('povm', 1)\n",
      "('state', 0): ('povm', 2)\n",
      "=====================\n",
      "=======schedules=======\n",
      "('state', 0): ('povm', 0)\n",
      "('state', 0): ('povm', 1)\n",
      "('state', 0): ('povm', 2)\n",
      "=====================\n",
      "=======schedules=======\n",
      "('state', 0): ('povm', 0)\n",
      "('state', 0): ('povm', 1)\n",
      "('state', 0): ('povm', 2)\n",
      "=====================\n",
      "=======schedules=======\n",
      "('state', 0): ('povm', 0)\n",
      "('state', 0): ('povm', 1)\n",
      "('state', 0): ('povm', 2)\n",
      "=====================\n",
      "=======schedules=======\n",
      "('state', 0): ('povm', 0)\n",
      "('state', 0): ('povm', 1)\n",
      "('state', 0): ('povm', 2)\n",
      "=====================\n",
      "=======schedules=======\n",
      "('state', 0): ('povm', 0)\n",
      "('state', 0): ('povm', 1)\n",
      "('state', 0): ('povm', 2)\n",
      "=====================\n",
      "=======schedules=======\n",
      "('state', 0): ('povm', 0)\n",
      "('state', 0): ('povm', 1)\n",
      "('state', 0): ('povm', 2)\n",
      "=====================\n",
      "=======schedules=======\n",
      "('state', 0): ('povm', 0)\n",
      "('state', 0): ('povm', 1)\n",
      "('state', 0): ('povm', 2)\n",
      "=====================\n",
      "=======schedules=======\n",
      "('state', 0): ('povm', 0)\n",
      "('state', 0): ('povm', 1)\n",
      "('state', 0): ('povm', 2)\n",
      "=====================\n",
      "=======schedules=======\n",
      "('state', 0): ('povm', 0)\n",
      "('state', 0): ('povm', 1)\n",
      "('state', 0): ('povm', 2)\n",
      "=====================\n"
     ]
    },
    {
     "name": "stderr",
     "output_type": "stream",
     "text": [
      "\n",
      "100%|██████████| 10/10 [00:00<00:00, 20321.24it/s]\n",
      "100%|██████████| 10/10 [00:00<00:00, 17863.30it/s]\n",
      "100%|██████████| 10/10 [00:00<00:00, 65.50it/s]\n",
      "100%|██████████| 10/10 [00:00<00:00, 18078.90it/s]\n",
      "100%|██████████| 10/10 [00:00<00:00, 6484.70it/s]\n"
     ]
    },
    {
     "name": "stdout",
     "output_type": "stream",
     "text": [
      "=======schedules=======\n",
      "('state', 0): ('povm', 0)\n",
      "('state', 0): ('povm', 1)\n",
      "('state', 0): ('povm', 2)\n",
      "=====================\n",
      "========== Summary ============\n",
      "Name: Linear (True)\n",
      "MSE of Empirical Distributions: \u001b[32mOK\u001b[0m\n",
      "Consistency: \u001b[32mOK\u001b[0m (to_be_checked=False)\n",
      "MSE of estimators: \u001b[32mOK\u001b[0m\n",
      "Physicality Violation: \u001b[32mOK\u001b[0m\n",
      "===============================\n",
      "Case 1: Linear (False)\n",
      "=======schedules=======\n",
      "('state', 0): ('povm', 0)\n",
      "('state', 0): ('povm', 1)\n",
      "('state', 0): ('povm', 2)\n",
      "=====================\n",
      "=======schedules=======\n",
      "('state', 0): ('povm', 0)\n",
      "('state', 0): ('povm', 1)\n",
      "('state', 0): ('povm', 2)\n",
      "=====================\n",
      "=======schedules=======\n",
      "('state', 0): ('povm', 0)\n",
      "('state', 0): ('povm', 1)\n",
      "('state', 0): ('povm', 2)\n",
      "=====================\n",
      "=======schedules=======\n",
      "('state', 0): ('povm', 0)\n",
      "('state', 0): ('povm', 1)\n",
      "('state', 0): ('povm', 2)\n",
      "=====================\n",
      "=======schedules=======\n",
      "('state', 0): ('povm', 0)\n",
      "('state', 0): ('povm', 1)\n",
      "('state', 0): ('povm', 2)\n",
      "=====================\n",
      "=======schedules=======\n",
      "('state', 0): ('povm', 0)\n",
      "('state', 0): ('povm', 1)\n",
      "('state', 0): ('povm', 2)\n",
      "=====================\n",
      "=======schedules=======\n",
      "('state', 0): ('povm', 0)\n",
      "('state', 0): ('povm', 1)\n",
      "('state', 0): ('povm', 2)\n",
      "=====================\n",
      "=======schedules=======\n",
      "('state', 0): ('povm', 0)\n",
      "('state', 0): ('povm', 1)\n",
      "('state', 0): ('povm', 2)\n",
      "=====================\n",
      "=======schedules=======\n",
      "('state', 0): ('povm', 0)\n",
      "('state', 0): ('povm', 1)\n",
      "('state', 0): ('povm', 2)\n",
      "=====================\n",
      "=======schedules=======\n",
      "('state', 0): ('povm', 0)\n",
      "('state', 0): ('povm', 1)\n",
      "('state', 0): ('povm', 2)\n",
      "=====================\n",
      "=======schedules=======\n",
      "('state', 0): ('povm', 0)\n",
      "('state', 0): ('povm', 1)\n",
      "('state', 0): ('povm', 2)\n",
      "=====================\n"
     ]
    },
    {
     "name": "stderr",
     "output_type": "stream",
     "text": [
      " 20%|██        | 2/10 [00:00<00:00, 18.78it/s]"
     ]
    },
    {
     "name": "stdout",
     "output_type": "stream",
     "text": [
      "========== Summary ============\n",
      "Name: Linear (False)\n",
      "MSE of Empirical Distributions: \u001b[32mOK\u001b[0m\n",
      "Consistency: \u001b[32mOK\u001b[0m (to_be_checked=False)\n",
      "MSE of estimators: \u001b[32mOK\u001b[0m\n",
      "Physicality Violation: \u001b[32mOK\u001b[0m\n",
      "===============================\n",
      "Case 2: ProjectedLinear (True)\n",
      "=======schedules=======\n",
      "('state', 0): ('povm', 0)\n",
      "('state', 0): ('povm', 1)\n",
      "('state', 0): ('povm', 2)\n",
      "=====================\n",
      "=======schedules=======\n",
      "('state', 0): ('povm', 0)\n",
      "('state', 0): ('povm', 1)\n",
      "('state', 0): ('povm', 2)\n",
      "=====================\n",
      "=======schedules=======\n",
      "('state', 0): ('povm', 0)\n",
      "('state', 0): ('povm', 1)\n",
      "('state', 0): ('povm', 2)\n",
      "=====================\n",
      "=======schedules=======\n",
      "('state', 0): ('povm', 0)\n",
      "('state', 0): ('povm', 1)\n",
      "('state', 0): ('povm', 2)\n",
      "=====================\n"
     ]
    },
    {
     "name": "stderr",
     "output_type": "stream",
     "text": [
      "100%|██████████| 10/10 [00:00<00:00, 26.39it/s]\n",
      "100%|██████████| 10/10 [00:00<00:00, 17764.95it/s]\n",
      "100%|██████████| 10/10 [00:00<00:00, 9010.32it/s]"
     ]
    },
    {
     "name": "stdout",
     "output_type": "stream",
     "text": [
      "=======schedules=======\n",
      "('state', 0): ('povm', 0)\n",
      "('state', 0): ('povm', 1)\n",
      "('state', 0): ('povm', 2)\n",
      "=====================\n",
      "=======schedules=======\n",
      "('state', 0): ('povm', 0)\n",
      "('state', 0): ('povm', 1)\n",
      "('state', 0): ('povm', 2)\n",
      "=====================\n",
      "=======schedules=======\n",
      "('state', 0): ('povm', 0)\n",
      "('state', 0): ('povm', 1)\n",
      "('state', 0): ('povm', 2)\n",
      "=====================\n",
      "=======schedules=======\n",
      "('state', 0): ('povm', 0)\n",
      "('state', 0): ('povm', 1)\n",
      "('state', 0): ('povm', 2)\n",
      "=====================\n",
      "=======schedules=======\n",
      "('state', 0): ('povm', 0)\n",
      "('state', 0): ('povm', 1)\n",
      "('state', 0): ('povm', 2)\n",
      "=====================\n",
      "=======schedules=======\n",
      "('state', 0): ('povm', 0)\n",
      "('state', 0): ('povm', 1)\n",
      "('state', 0): ('povm', 2)\n",
      "=====================\n",
      "=======schedules=======\n",
      "('state', 0): ('povm', 0)\n",
      "('state', 0): ('povm', 1)\n",
      "('state', 0): ('povm', 2)\n",
      "=====================\n"
     ]
    },
    {
     "name": "stderr",
     "output_type": "stream",
     "text": [
      "\n",
      "100%|██████████| 10/10 [00:00<00:00, 52.07it/s]"
     ]
    },
    {
     "name": "stdout",
     "output_type": "stream",
     "text": [
      "=======schedules=======\n",
      "('state', 0): ('povm', 0)\n",
      "('state', 0): ('povm', 1)\n",
      "('state', 0): ('povm', 2)\n",
      "=====================\n",
      "=======schedules=======\n",
      "('state', 0): ('povm', 0)\n",
      "('state', 0): ('povm', 1)\n",
      "('state', 0): ('povm', 2)\n",
      "=====================\n",
      "=======schedules=======\n",
      "('state', 0): ('povm', 0)\n",
      "('state', 0): ('povm', 1)\n",
      "('state', 0): ('povm', 2)\n",
      "=====================\n",
      "=======schedules=======\n",
      "('state', 0): ('povm', 0)\n",
      "('state', 0): ('povm', 1)\n",
      "('state', 0): ('povm', 2)\n",
      "=====================\n",
      "=======schedules=======\n",
      "('state', 0): ('povm', 0)\n",
      "('state', 0): ('povm', 1)\n",
      "('state', 0): ('povm', 2)\n",
      "=====================\n",
      "=======schedules=======\n",
      "('state', 0): ('povm', 0)\n",
      "('state', 0): ('povm', 1)\n",
      "('state', 0): ('povm', 2)\n",
      "=====================\n",
      "=======schedules=======\n",
      "('state', 0): ('povm', 0)\n",
      "('state', 0): ('povm', 1)\n",
      "('state', 0): ('povm', 2)\n",
      "=====================\n",
      "=======schedules=======\n",
      "('state', 0): ('povm', 0)\n",
      "('state', 0): ('povm', 1)\n",
      "('state', 0): ('povm', 2)\n",
      "=====================\n",
      "=======schedules=======\n",
      "('state', 0): ('povm', 0)\n",
      "('state', 0): ('povm', 1)\n",
      "('state', 0): ('povm', 2)\n",
      "=====================\n",
      "=======schedules=======\n",
      "('state', 0): ('povm', 0)\n",
      "('state', 0): ('povm', 1)\n",
      "('state', 0): ('povm', 2)\n",
      "=====================\n",
      "========== Summary ============\n",
      "Name: ProjectedLinear (True)\n",
      "MSE of Empirical Distributions: \u001b[32mOK\u001b[0m\n",
      "Consistency: \u001b[32mOK\u001b[0m (to_be_checked=False)\n",
      "MSE of estimators: \u001b[31mNG\u001b[0m\n",
      "Physicality Violation: \u001b[32mOK\u001b[0m\n",
      "===============================\n",
      "Total Result: \u001b[31mNG\u001b[0m\n"
     ]
    },
    {
     "name": "stderr",
     "output_type": "stream",
     "text": [
      "\n",
      "100%|██████████| 10/10 [00:00<00:00, 56.83it/s]\n",
      "100%|██████████| 10/10 [00:00<00:00, 8490.49it/s]\n",
      "100%|██████████| 10/10 [00:00<00:00, 13058.23it/s]\n"
     ]
    },
    {
     "name": "stdout",
     "output_type": "stream",
     "text": [
      "Case 3: ProjectedLinear (False)\n",
      "=======schedules=======\n",
      "('state', 0): ('povm', 0)\n",
      "('state', 0): ('povm', 1)\n",
      "('state', 0): ('povm', 2)\n",
      "=====================\n",
      "=======schedules=======\n",
      "('state', 0): ('povm', 0)\n",
      "('state', 0): ('povm', 1)\n",
      "('state', 0): ('povm', 2)\n",
      "=====================\n",
      "=======schedules=======\n",
      "('state', 0): ('povm', 0)\n",
      "('state', 0): ('povm', 1)\n",
      "('state', 0): ('povm', 2)\n",
      "=====================\n",
      "=======schedules=======\n",
      "('state', 0): ('povm', 0)\n",
      "('state', 0): ('povm', 1)\n",
      "('state', 0): ('povm', 2)\n",
      "=====================\n",
      "=======schedules=======\n",
      "('state', 0): ('povm', 0)\n",
      "('state', 0): ('povm', 1)\n",
      "('state', 0): ('povm', 2)\n",
      "=====================\n",
      "=======schedules=======\n",
      "('state', 0): ('povm', 0)\n",
      "('state', 0): ('povm', 1)\n",
      "('state', 0): ('povm', 2)\n",
      "=====================\n",
      "=======schedules=======\n",
      "('state', 0): ('povm', 0)\n",
      "('state', 0): ('povm', 1)\n",
      "('state', 0): ('povm', 2)\n",
      "=====================\n",
      "=======schedules=======\n",
      "('state', 0): ('povm', 0)\n",
      "('state', 0): ('povm', 1)\n",
      "('state', 0): ('povm', 2)\n",
      "=====================\n",
      "=======schedules=======\n",
      "('state', 0): ('povm', 0)\n",
      "('state', 0): ('povm', 1)\n",
      "('state', 0): ('povm', 2)\n",
      "=====================\n",
      "=======schedules=======\n",
      "('state', 0): ('povm', 0)\n",
      "('state', 0): ('povm', 1)\n",
      "('state', 0): ('povm', 2)\n",
      "=====================\n",
      "=======schedules=======\n",
      "('state', 0): ('povm', 0)\n",
      "('state', 0): ('povm', 1)\n",
      "('state', 0): ('povm', 2)\n",
      "=====================\n"
     ]
    },
    {
     "name": "stderr",
     "output_type": "stream",
     "text": [
      "100%|██████████| 10/10 [00:00<00:00, 55.82it/s]\n"
     ]
    },
    {
     "name": "stdout",
     "output_type": "stream",
     "text": [
      "=======schedules=======\n",
      "('state', 0): ('povm', 0)\n",
      "('state', 0): ('povm', 1)\n",
      "('state', 0): ('povm', 2)\n",
      "=====================\n",
      "=======schedules=======\n",
      "('state', 0): ('povm', 0)\n",
      "('state', 0): ('povm', 1)\n",
      "('state', 0): ('povm', 2)\n",
      "=====================\n",
      "=======schedules=======\n",
      "('state', 0): ('povm', 0)\n",
      "('state', 0): ('povm', 1)\n",
      "('state', 0): ('povm', 2)\n",
      "=====================\n",
      "=======schedules=======\n",
      "('state', 0): ('povm', 0)\n",
      "('state', 0): ('povm', 1)\n",
      "('state', 0): ('povm', 2)\n",
      "=====================\n",
      "=======schedules=======\n",
      "('state', 0): ('povm', 0)\n",
      "('state', 0): ('povm', 1)\n",
      "('state', 0): ('povm', 2)\n",
      "=====================\n",
      "=======schedules=======\n",
      "('state', 0): ('povm', 0)\n",
      "('state', 0): ('povm', 1)\n",
      "('state', 0): ('povm', 2)\n",
      "=====================\n",
      "=======schedules=======\n",
      "('state', 0): ('povm', 0)\n",
      "('state', 0): ('povm', 1)\n",
      "('state', 0): ('povm', 2)\n",
      "=====================\n",
      "=======schedules=======\n",
      "('state', 0): ('povm', 0)\n",
      "('state', 0): ('povm', 1)\n",
      "('state', 0): ('povm', 2)\n",
      "=====================\n",
      "=======schedules=======\n",
      "('state', 0): ('povm', 0)\n",
      "('state', 0): ('povm', 1)\n",
      "('state', 0): ('povm', 2)\n",
      "=====================\n",
      "=======schedules=======\n",
      "('state', 0): ('povm', 0)\n",
      "('state', 0): ('povm', 1)\n",
      "('state', 0): ('povm', 2)\n",
      "=====================\n"
     ]
    },
    {
     "name": "stderr",
     "output_type": "stream",
     "text": [
      "\r",
      "  0%|          | 0/10 [00:00<?, ?it/s]"
     ]
    },
    {
     "name": "stdout",
     "output_type": "stream",
     "text": [
      "========== Summary ============\n",
      "Name: ProjectedLinear (False)\n",
      "MSE of Empirical Distributions: \u001b[32mOK\u001b[0m\n",
      "Consistency: \u001b[32mOK\u001b[0m (to_be_checked=False)\n",
      "MSE of estimators: \u001b[31mNG\u001b[0m\n",
      "Physicality Violation: \u001b[32mOK\u001b[0m\n",
      "===============================\n",
      "Total Result: \u001b[31mNG\u001b[0m\n",
      "Case 4: Maximum-Likelihood (True)\n",
      "=======schedules=======\n",
      "('state', 0): ('povm', 0)\n",
      "('state', 0): ('povm', 1)\n",
      "('state', 0): ('povm', 2)\n",
      "=====================\n"
     ]
    },
    {
     "name": "stderr",
     "output_type": "stream",
     "text": [
      "\r",
      " 10%|█         | 1/10 [00:03<00:27,  3.01s/it]"
     ]
    },
    {
     "name": "stdout",
     "output_type": "stream",
     "text": [
      "=======schedules=======\n",
      "('state', 0): ('povm', 0)\n",
      "('state', 0): ('povm', 1)\n",
      "('state', 0): ('povm', 2)\n",
      "=====================\n"
     ]
    },
    {
     "name": "stderr",
     "output_type": "stream",
     "text": [
      "\r",
      " 20%|██        | 2/10 [00:05<00:22,  2.85s/it]"
     ]
    },
    {
     "name": "stdout",
     "output_type": "stream",
     "text": [
      "=======schedules=======\n",
      "('state', 0): ('povm', 0)\n",
      "('state', 0): ('povm', 1)\n",
      "('state', 0): ('povm', 2)\n",
      "=====================\n"
     ]
    },
    {
     "name": "stderr",
     "output_type": "stream",
     "text": [
      "\r",
      " 30%|███       | 3/10 [00:08<00:20,  2.88s/it]"
     ]
    },
    {
     "name": "stdout",
     "output_type": "stream",
     "text": [
      "=======schedules=======\n",
      "('state', 0): ('povm', 0)\n",
      "('state', 0): ('povm', 1)\n",
      "('state', 0): ('povm', 2)\n",
      "=====================\n"
     ]
    },
    {
     "name": "stderr",
     "output_type": "stream",
     "text": [
      "\r",
      " 40%|████      | 4/10 [00:11<00:17,  2.99s/it]"
     ]
    },
    {
     "name": "stdout",
     "output_type": "stream",
     "text": [
      "=======schedules=======\n",
      "('state', 0): ('povm', 0)\n",
      "('state', 0): ('povm', 1)\n",
      "('state', 0): ('povm', 2)\n",
      "=====================\n"
     ]
    },
    {
     "name": "stderr",
     "output_type": "stream",
     "text": [
      "\r",
      " 50%|█████     | 5/10 [00:14<00:15,  3.02s/it]"
     ]
    },
    {
     "name": "stdout",
     "output_type": "stream",
     "text": [
      "=======schedules=======\n",
      "('state', 0): ('povm', 0)\n",
      "('state', 0): ('povm', 1)\n",
      "('state', 0): ('povm', 2)\n",
      "=====================\n"
     ]
    },
    {
     "name": "stderr",
     "output_type": "stream",
     "text": [
      "\r",
      " 60%|██████    | 6/10 [00:16<00:10,  2.74s/it]"
     ]
    },
    {
     "name": "stdout",
     "output_type": "stream",
     "text": [
      "=======schedules=======\n",
      "('state', 0): ('povm', 0)\n",
      "('state', 0): ('povm', 1)\n",
      "('state', 0): ('povm', 2)\n",
      "=====================\n"
     ]
    },
    {
     "name": "stderr",
     "output_type": "stream",
     "text": [
      "\r",
      " 70%|███████   | 7/10 [00:18<00:06,  2.32s/it]"
     ]
    },
    {
     "name": "stdout",
     "output_type": "stream",
     "text": [
      "=======schedules=======\n",
      "('state', 0): ('povm', 0)\n",
      "('state', 0): ('povm', 1)\n",
      "('state', 0): ('povm', 2)\n",
      "=====================\n"
     ]
    },
    {
     "name": "stderr",
     "output_type": "stream",
     "text": [
      "\r",
      " 80%|████████  | 8/10 [00:21<00:05,  2.57s/it]"
     ]
    },
    {
     "name": "stdout",
     "output_type": "stream",
     "text": [
      "=======schedules=======\n",
      "('state', 0): ('povm', 0)\n",
      "('state', 0): ('povm', 1)\n",
      "('state', 0): ('povm', 2)\n",
      "=====================\n"
     ]
    },
    {
     "name": "stderr",
     "output_type": "stream",
     "text": [
      "\r",
      " 90%|█████████ | 9/10 [00:22<00:02,  2.09s/it]"
     ]
    },
    {
     "name": "stdout",
     "output_type": "stream",
     "text": [
      "=======schedules=======\n",
      "('state', 0): ('povm', 0)\n",
      "('state', 0): ('povm', 1)\n",
      "('state', 0): ('povm', 2)\n",
      "=====================\n"
     ]
    },
    {
     "name": "stderr",
     "output_type": "stream",
     "text": [
      "100%|██████████| 10/10 [00:25<00:00,  2.52s/it]\n",
      "100%|██████████| 10/10 [00:00<00:00, 5148.91it/s]\n",
      "100%|██████████| 10/10 [00:00<00:00, 17063.89it/s]\n"
     ]
    },
    {
     "name": "stdout",
     "output_type": "stream",
     "text": [
      "=======schedules=======\n",
      "('state', 0): ('povm', 0)\n",
      "('state', 0): ('povm', 1)\n",
      "('state', 0): ('povm', 2)\n",
      "=====================\n"
     ]
    },
    {
     "name": "stderr",
     "output_type": "stream",
     "text": [
      " 20%|██        | 2/10 [00:00<00:00, 17.41it/s]"
     ]
    },
    {
     "name": "stdout",
     "output_type": "stream",
     "text": [
      "=======schedules=======\n",
      "('state', 0): ('povm', 0)\n",
      "('state', 0): ('povm', 1)\n",
      "('state', 0): ('povm', 2)\n",
      "=====================\n",
      "=======schedules=======\n",
      "('state', 0): ('povm', 0)\n",
      "('state', 0): ('povm', 1)\n",
      "('state', 0): ('povm', 2)\n",
      "=====================\n",
      "=======schedules=======\n",
      "('state', 0): ('povm', 0)\n",
      "('state', 0): ('povm', 1)\n",
      "('state', 0): ('povm', 2)\n",
      "=====================\n",
      "=======schedules=======\n",
      "('state', 0): ('povm', 0)\n",
      "('state', 0): ('povm', 1)\n",
      "('state', 0): ('povm', 2)\n",
      "=====================\n",
      "=======schedules=======\n",
      "('state', 0): ('povm', 0)\n",
      "('state', 0): ('povm', 1)\n",
      "('state', 0): ('povm', 2)\n",
      "=====================\n"
     ]
    },
    {
     "name": "stderr",
     "output_type": "stream",
     "text": [
      "100%|██████████| 10/10 [00:00<00:00, 28.23it/s]\n"
     ]
    },
    {
     "name": "stdout",
     "output_type": "stream",
     "text": [
      "=======schedules=======\n",
      "('state', 0): ('povm', 0)\n",
      "('state', 0): ('povm', 1)\n",
      "('state', 0): ('povm', 2)\n",
      "=====================\n",
      "=======schedules=======\n",
      "('state', 0): ('povm', 0)\n",
      "('state', 0): ('povm', 1)\n",
      "('state', 0): ('povm', 2)\n",
      "=====================\n",
      "=======schedules=======\n",
      "('state', 0): ('povm', 0)\n",
      "('state', 0): ('povm', 1)\n",
      "('state', 0): ('povm', 2)\n",
      "=====================\n",
      "=======schedules=======\n",
      "('state', 0): ('povm', 0)\n",
      "('state', 0): ('povm', 1)\n",
      "('state', 0): ('povm', 2)\n",
      "=====================\n",
      "=======schedules=======\n",
      "('state', 0): ('povm', 0)\n",
      "('state', 0): ('povm', 1)\n",
      "('state', 0): ('povm', 2)\n",
      "=====================\n",
      "========== Summary ============\n",
      "Name: Maximum-Likelihood (True)\n",
      "MSE of Empirical Distributions: \u001b[32mOK\u001b[0m\n",
      "Consistency: \u001b[32mOK\u001b[0m (to_be_checked=False)\n",
      "MSE of estimators: \u001b[31mNG\u001b[0m\n",
      "Physicality Violation: \u001b[32mOK\u001b[0m\n",
      "===============================\n",
      "Total Result: \u001b[31mNG\u001b[0m\n"
     ]
    },
    {
     "name": "stderr",
     "output_type": "stream",
     "text": [
      "\r",
      "  0%|          | 0/10 [00:00<?, ?it/s]"
     ]
    },
    {
     "name": "stdout",
     "output_type": "stream",
     "text": [
      "Case 5: Maximum-Likelihood (False)\n",
      "=======schedules=======\n",
      "('state', 0): ('povm', 0)\n",
      "('state', 0): ('povm', 1)\n",
      "('state', 0): ('povm', 2)\n",
      "=====================\n"
     ]
    },
    {
     "name": "stderr",
     "output_type": "stream",
     "text": [
      "\r",
      " 10%|█         | 1/10 [00:04<00:39,  4.44s/it]"
     ]
    },
    {
     "name": "stdout",
     "output_type": "stream",
     "text": [
      "=======schedules=======\n",
      "('state', 0): ('povm', 0)\n",
      "('state', 0): ('povm', 1)\n",
      "('state', 0): ('povm', 2)\n",
      "=====================\n"
     ]
    },
    {
     "name": "stderr",
     "output_type": "stream",
     "text": [
      "\r",
      " 20%|██        | 2/10 [00:17<00:55,  6.93s/it]"
     ]
    },
    {
     "name": "stdout",
     "output_type": "stream",
     "text": [
      "=======schedules=======\n",
      "('state', 0): ('povm', 0)\n",
      "('state', 0): ('povm', 1)\n",
      "('state', 0): ('povm', 2)\n",
      "=====================\n"
     ]
    },
    {
     "name": "stderr",
     "output_type": "stream",
     "text": [
      "\r",
      " 30%|███       | 3/10 [00:24<00:48,  6.96s/it]"
     ]
    },
    {
     "name": "stdout",
     "output_type": "stream",
     "text": [
      "=======schedules=======\n",
      "('state', 0): ('povm', 0)\n",
      "('state', 0): ('povm', 1)\n",
      "('state', 0): ('povm', 2)\n",
      "=====================\n"
     ]
    },
    {
     "name": "stderr",
     "output_type": "stream",
     "text": [
      "\r",
      " 40%|████      | 4/10 [00:28<00:37,  6.24s/it]"
     ]
    },
    {
     "name": "stdout",
     "output_type": "stream",
     "text": [
      "=======schedules=======\n",
      "('state', 0): ('povm', 0)\n",
      "('state', 0): ('povm', 1)\n",
      "('state', 0): ('povm', 2)\n",
      "=====================\n"
     ]
    },
    {
     "name": "stderr",
     "output_type": "stream",
     "text": [
      "\r",
      " 50%|█████     | 5/10 [00:34<00:30,  6.16s/it]"
     ]
    },
    {
     "name": "stdout",
     "output_type": "stream",
     "text": [
      "=======schedules=======\n",
      "('state', 0): ('povm', 0)\n",
      "('state', 0): ('povm', 1)\n",
      "('state', 0): ('povm', 2)\n",
      "=====================\n"
     ]
    },
    {
     "name": "stderr",
     "output_type": "stream",
     "text": [
      "\r",
      " 60%|██████    | 6/10 [00:42<00:26,  6.51s/it]"
     ]
    },
    {
     "name": "stdout",
     "output_type": "stream",
     "text": [
      "=======schedules=======\n",
      "('state', 0): ('povm', 0)\n",
      "('state', 0): ('povm', 1)\n",
      "('state', 0): ('povm', 2)\n",
      "=====================\n"
     ]
    },
    {
     "name": "stderr",
     "output_type": "stream",
     "text": [
      "\r",
      " 70%|███████   | 7/10 [00:50<00:21,  7.11s/it]"
     ]
    },
    {
     "name": "stdout",
     "output_type": "stream",
     "text": [
      "=======schedules=======\n",
      "('state', 0): ('povm', 0)\n",
      "('state', 0): ('povm', 1)\n",
      "('state', 0): ('povm', 2)\n",
      "=====================\n"
     ]
    },
    {
     "name": "stderr",
     "output_type": "stream",
     "text": [
      "\r",
      " 80%|████████  | 8/10 [00:51<00:10,  5.29s/it]"
     ]
    },
    {
     "name": "stdout",
     "output_type": "stream",
     "text": [
      "=======schedules=======\n",
      "('state', 0): ('povm', 0)\n",
      "('state', 0): ('povm', 1)\n",
      "('state', 0): ('povm', 2)\n",
      "=====================\n"
     ]
    },
    {
     "name": "stderr",
     "output_type": "stream",
     "text": [
      "\r",
      " 90%|█████████ | 9/10 [00:52<00:04,  4.05s/it]"
     ]
    },
    {
     "name": "stdout",
     "output_type": "stream",
     "text": [
      "=======schedules=======\n",
      "('state', 0): ('povm', 0)\n",
      "('state', 0): ('povm', 1)\n",
      "('state', 0): ('povm', 2)\n",
      "=====================\n"
     ]
    },
    {
     "name": "stderr",
     "output_type": "stream",
     "text": [
      "100%|██████████| 10/10 [00:53<00:00,  5.37s/it]\n",
      "100%|██████████| 10/10 [00:00<00:00, 9149.88it/s]\n",
      "100%|██████████| 10/10 [00:00<00:00, 15845.50it/s]\n"
     ]
    },
    {
     "name": "stdout",
     "output_type": "stream",
     "text": [
      "=======schedules=======\n",
      "('state', 0): ('povm', 0)\n",
      "('state', 0): ('povm', 1)\n",
      "('state', 0): ('povm', 2)\n",
      "=====================\n"
     ]
    },
    {
     "name": "stderr",
     "output_type": "stream",
     "text": [
      " 40%|████      | 4/10 [00:00<00:00, 32.72it/s]"
     ]
    },
    {
     "name": "stdout",
     "output_type": "stream",
     "text": [
      "=======schedules=======\n",
      "('state', 0): ('povm', 0)\n",
      "('state', 0): ('povm', 1)\n",
      "('state', 0): ('povm', 2)\n",
      "=====================\n",
      "=======schedules=======\n",
      "('state', 0): ('povm', 0)\n",
      "('state', 0): ('povm', 1)\n",
      "('state', 0): ('povm', 2)\n",
      "=====================\n",
      "=======schedules=======\n",
      "('state', 0): ('povm', 0)\n",
      "('state', 0): ('povm', 1)\n",
      "('state', 0): ('povm', 2)\n",
      "=====================\n",
      "=======schedules=======\n",
      "('state', 0): ('povm', 0)\n",
      "('state', 0): ('povm', 1)\n",
      "('state', 0): ('povm', 2)\n",
      "=====================\n",
      "=======schedules=======\n",
      "('state', 0): ('povm', 0)\n",
      "('state', 0): ('povm', 1)\n",
      "('state', 0): ('povm', 2)\n",
      "=====================\n",
      "=======schedules=======\n",
      "('state', 0): ('povm', 0)\n",
      "('state', 0): ('povm', 1)\n",
      "('state', 0): ('povm', 2)\n",
      "=====================\n",
      "=======schedules=======\n",
      "('state', 0): ('povm', 0)\n",
      "('state', 0): ('povm', 1)\n",
      "('state', 0): ('povm', 2)\n",
      "=====================\n"
     ]
    },
    {
     "name": "stderr",
     "output_type": "stream",
     "text": [
      "100%|██████████| 10/10 [00:00<00:00, 32.05it/s]\n",
      "  0%|          | 0/10 [00:00<?, ?it/s]"
     ]
    },
    {
     "name": "stdout",
     "output_type": "stream",
     "text": [
      "=======schedules=======\n",
      "('state', 0): ('povm', 0)\n",
      "('state', 0): ('povm', 1)\n",
      "('state', 0): ('povm', 2)\n",
      "=====================\n",
      "=======schedules=======\n",
      "('state', 0): ('povm', 0)\n",
      "('state', 0): ('povm', 1)\n",
      "('state', 0): ('povm', 2)\n",
      "=====================\n",
      "=======schedules=======\n",
      "('state', 0): ('povm', 0)\n",
      "('state', 0): ('povm', 1)\n",
      "('state', 0): ('povm', 2)\n",
      "=====================\n",
      "========== Summary ============\n",
      "Name: Maximum-Likelihood (False)\n",
      "MSE of Empirical Distributions: \u001b[32mOK\u001b[0m\n",
      "Consistency: \u001b[31mNG\u001b[0m (to_be_checked=False)\n",
      "MSE of estimators: \u001b[31mNG\u001b[0m\n",
      "Physicality Violation: \u001b[32mOK\u001b[0m\n",
      "===============================\n",
      "Total Result: \u001b[31mNG\u001b[0m\n",
      "Case 6: Least Squares (True)\n",
      "=======schedules=======\n",
      "('state', 0): ('povm', 0)\n",
      "('state', 0): ('povm', 1)\n",
      "('state', 0): ('povm', 2)\n",
      "=====================\n"
     ]
    },
    {
     "name": "stderr",
     "output_type": "stream",
     "text": [
      " 20%|██        | 2/10 [00:00<00:01,  4.63it/s]"
     ]
    },
    {
     "name": "stdout",
     "output_type": "stream",
     "text": [
      "=======schedules=======\n",
      "('state', 0): ('povm', 0)\n",
      "('state', 0): ('povm', 1)\n",
      "('state', 0): ('povm', 2)\n",
      "=====================\n",
      "=======schedules=======\n",
      "('state', 0): ('povm', 0)\n",
      "('state', 0): ('povm', 1)\n",
      "('state', 0): ('povm', 2)\n",
      "=====================\n"
     ]
    },
    {
     "name": "stderr",
     "output_type": "stream",
     "text": [
      " 40%|████      | 4/10 [00:00<00:01,  5.05it/s]"
     ]
    },
    {
     "name": "stdout",
     "output_type": "stream",
     "text": [
      "=======schedules=======\n",
      "('state', 0): ('povm', 0)\n",
      "('state', 0): ('povm', 1)\n",
      "('state', 0): ('povm', 2)\n",
      "=====================\n",
      "=======schedules=======\n",
      "('state', 0): ('povm', 0)\n",
      "('state', 0): ('povm', 1)\n",
      "('state', 0): ('povm', 2)\n",
      "=====================\n"
     ]
    },
    {
     "name": "stderr",
     "output_type": "stream",
     "text": [
      " 60%|██████    | 6/10 [00:01<00:00,  5.53it/s]"
     ]
    },
    {
     "name": "stdout",
     "output_type": "stream",
     "text": [
      "=======schedules=======\n",
      "('state', 0): ('povm', 0)\n",
      "('state', 0): ('povm', 1)\n",
      "('state', 0): ('povm', 2)\n",
      "=====================\n",
      "=======schedules=======\n",
      "('state', 0): ('povm', 0)\n",
      "('state', 0): ('povm', 1)\n",
      "('state', 0): ('povm', 2)\n",
      "=====================\n"
     ]
    },
    {
     "name": "stderr",
     "output_type": "stream",
     "text": [
      " 80%|████████  | 8/10 [00:01<00:00,  5.74it/s]"
     ]
    },
    {
     "name": "stdout",
     "output_type": "stream",
     "text": [
      "=======schedules=======\n",
      "('state', 0): ('povm', 0)\n",
      "('state', 0): ('povm', 1)\n",
      "('state', 0): ('povm', 2)\n",
      "=====================\n",
      "=======schedules=======\n",
      "('state', 0): ('povm', 0)\n",
      "('state', 0): ('povm', 1)\n",
      "('state', 0): ('povm', 2)\n",
      "=====================\n"
     ]
    },
    {
     "name": "stderr",
     "output_type": "stream",
     "text": [
      "\r",
      " 90%|█████████ | 9/10 [00:01<00:00,  5.69it/s]"
     ]
    },
    {
     "name": "stdout",
     "output_type": "stream",
     "text": [
      "=======schedules=======\n",
      "('state', 0): ('povm', 0)\n",
      "('state', 0): ('povm', 1)\n",
      "('state', 0): ('povm', 2)\n",
      "=====================\n"
     ]
    },
    {
     "name": "stderr",
     "output_type": "stream",
     "text": [
      "100%|██████████| 10/10 [00:01<00:00,  5.40it/s]\n",
      "100%|██████████| 10/10 [00:00<00:00, 10979.85it/s]\n",
      "100%|██████████| 10/10 [00:00<00:00, 4007.94it/s]\n",
      "/Users/tomoko/project/rcast/workspace/quara/quara/data_analysis/simulation_check.py:176: UserWarning:\n",
      "\n",
      "Estimator MSE is not checked except for LinearEstimator, ProjectedLinearEstimator, Maximum-likelihood.\n",
      "\n"
     ]
    },
    {
     "name": "stdout",
     "output_type": "stream",
     "text": [
      "=======schedules=======\n",
      "('state', 0): ('povm', 0)\n",
      "('state', 0): ('povm', 1)\n",
      "('state', 0): ('povm', 2)\n",
      "=====================\n"
     ]
    },
    {
     "name": "stderr",
     "output_type": "stream",
     "text": [
      "\r",
      "  0%|          | 0/10 [00:00<?, ?it/s]"
     ]
    },
    {
     "name": "stdout",
     "output_type": "stream",
     "text": [
      "========== Summary ============\n",
      "Name: Least Squares (True)\n",
      "MSE of Empirical Distributions: \u001b[32mOK\u001b[0m\n",
      "Consistency: \u001b[32mOK\u001b[0m (to_be_checked=False)\n",
      "MSE of estimators: \u001b[32mOK\u001b[0m\n",
      "Physicality Violation: \u001b[32mOK\u001b[0m\n",
      "===============================\n",
      "Case 7: Least Squares (False)\n",
      "=======schedules=======\n",
      "('state', 0): ('povm', 0)\n",
      "('state', 0): ('povm', 1)\n",
      "('state', 0): ('povm', 2)\n",
      "=====================\n"
     ]
    },
    {
     "name": "stderr",
     "output_type": "stream",
     "text": [
      "\r",
      " 10%|█         | 1/10 [00:00<00:03,  2.60it/s]"
     ]
    },
    {
     "name": "stdout",
     "output_type": "stream",
     "text": [
      "=======schedules=======\n",
      "('state', 0): ('povm', 0)\n",
      "('state', 0): ('povm', 1)\n",
      "('state', 0): ('povm', 2)\n",
      "=====================\n"
     ]
    },
    {
     "name": "stderr",
     "output_type": "stream",
     "text": [
      "\r",
      " 20%|██        | 2/10 [00:00<00:03,  2.54it/s]"
     ]
    },
    {
     "name": "stdout",
     "output_type": "stream",
     "text": [
      "=======schedules=======\n",
      "('state', 0): ('povm', 0)\n",
      "('state', 0): ('povm', 1)\n",
      "('state', 0): ('povm', 2)\n",
      "=====================\n"
     ]
    },
    {
     "name": "stderr",
     "output_type": "stream",
     "text": [
      " 40%|████      | 4/10 [00:01<00:01,  3.45it/s]"
     ]
    },
    {
     "name": "stdout",
     "output_type": "stream",
     "text": [
      "=======schedules=======\n",
      "('state', 0): ('povm', 0)\n",
      "('state', 0): ('povm', 1)\n",
      "('state', 0): ('povm', 2)\n",
      "=====================\n",
      "=======schedules=======\n",
      "('state', 0): ('povm', 0)\n",
      "('state', 0): ('povm', 1)\n",
      "('state', 0): ('povm', 2)\n",
      "=====================\n"
     ]
    },
    {
     "name": "stderr",
     "output_type": "stream",
     "text": [
      "\r",
      " 50%|█████     | 5/10 [00:01<00:01,  3.70it/s]"
     ]
    },
    {
     "name": "stdout",
     "output_type": "stream",
     "text": [
      "=======schedules=======\n",
      "('state', 0): ('povm', 0)\n",
      "('state', 0): ('povm', 1)\n",
      "('state', 0): ('povm', 2)\n",
      "=====================\n"
     ]
    },
    {
     "name": "stderr",
     "output_type": "stream",
     "text": [
      "\r",
      " 60%|██████    | 6/10 [00:01<00:01,  3.12it/s]"
     ]
    },
    {
     "name": "stdout",
     "output_type": "stream",
     "text": [
      "=======schedules=======\n",
      "('state', 0): ('povm', 0)\n",
      "('state', 0): ('povm', 1)\n",
      "('state', 0): ('povm', 2)\n",
      "=====================\n"
     ]
    },
    {
     "name": "stderr",
     "output_type": "stream",
     "text": [
      "\r",
      " 70%|███████   | 7/10 [00:02<00:01,  2.96it/s]"
     ]
    },
    {
     "name": "stdout",
     "output_type": "stream",
     "text": [
      "=======schedules=======\n",
      "('state', 0): ('povm', 0)\n",
      "('state', 0): ('povm', 1)\n",
      "('state', 0): ('povm', 2)\n",
      "=====================\n"
     ]
    },
    {
     "name": "stderr",
     "output_type": "stream",
     "text": [
      "\r",
      " 80%|████████  | 8/10 [00:02<00:00,  3.15it/s]"
     ]
    },
    {
     "name": "stdout",
     "output_type": "stream",
     "text": [
      "=======schedules=======\n",
      "('state', 0): ('povm', 0)\n",
      "('state', 0): ('povm', 1)\n",
      "('state', 0): ('povm', 2)\n",
      "=====================\n"
     ]
    },
    {
     "name": "stderr",
     "output_type": "stream",
     "text": [
      "\r",
      " 90%|█████████ | 9/10 [00:02<00:00,  3.35it/s]"
     ]
    },
    {
     "name": "stdout",
     "output_type": "stream",
     "text": [
      "=======schedules=======\n",
      "('state', 0): ('povm', 0)\n",
      "('state', 0): ('povm', 1)\n",
      "('state', 0): ('povm', 2)\n",
      "=====================\n"
     ]
    },
    {
     "name": "stderr",
     "output_type": "stream",
     "text": [
      "100%|██████████| 10/10 [00:03<00:00,  3.30it/s]\n",
      "100%|██████████| 10/10 [00:00<00:00, 10916.98it/s]\n",
      "100%|██████████| 10/10 [00:00<00:00, 18833.88it/s]\n"
     ]
    },
    {
     "name": "stdout",
     "output_type": "stream",
     "text": [
      "=======schedules=======\n",
      "('state', 0): ('povm', 0)\n",
      "('state', 0): ('povm', 1)\n",
      "('state', 0): ('povm', 2)\n",
      "=====================\n",
      "========== Summary ============\n",
      "Name: Least Squares (False)\n",
      "MSE of Empirical Distributions: \u001b[32mOK\u001b[0m\n",
      "Consistency: \u001b[32mOK\u001b[0m (to_be_checked=False)\n",
      "MSE of estimators: \u001b[32mOK\u001b[0m\n",
      "Physicality Violation: \u001b[32mOK\u001b[0m\n",
      "===============================\n",
      "Completed to write csv. result/1/1/check_result.csv\n",
      "total_results=[True, True, False, False, False, False, True, True]\n",
      "False\n",
      "​Generating table of computation time ...\n",
      "​Generating table of tolerance of physicality constraint violation ...\n",
      "​Generating table of experimental conditions ...\n",
      "Generating case list ...\n",
      "Computation time of estimators ...\n"
     ]
    },
    {
     "name": "stderr",
     "output_type": "stream",
     "text": [
      "100%|██████████| 10/10 [00:00<00:00, 7463.17it/s]\n",
      "100%|██████████| 10/10 [00:00<00:00, 18649.64it/s]"
     ]
    },
    {
     "name": "stdout",
     "output_type": "stream",
     "text": [
      "​​Generating MSE of empirical distributions blocks ...\n"
     ]
    },
    {
     "name": "stderr",
     "output_type": "stream",
     "text": [
      "\n"
     ]
    },
    {
     "name": "stdout",
     "output_type": "stream",
     "text": [
      "​​Generating consictency test blocks ...\n",
      "=======schedules=======\n",
      "('state', 0): ('povm', 0)\n",
      "('state', 0): ('povm', 1)\n",
      "('state', 0): ('povm', 2)\n",
      "=====================\n",
      "=======schedules=======\n",
      "('state', 0): ('povm', 0)\n",
      "('state', 0): ('povm', 1)\n",
      "('state', 0): ('povm', 2)\n",
      "=====================\n",
      "=======schedules=======\n",
      "('state', 0): ('povm', 0)\n",
      "('state', 0): ('povm', 1)\n",
      "('state', 0): ('povm', 2)\n",
      "=====================\n",
      "=======schedules=======\n",
      "('state', 0): ('povm', 0)\n",
      "('state', 0): ('povm', 1)\n",
      "('state', 0): ('povm', 2)\n",
      "=====================\n",
      "=======schedules=======\n",
      "('state', 0): ('povm', 0)\n",
      "('state', 0): ('povm', 1)\n",
      "('state', 0): ('povm', 2)\n",
      "=====================\n",
      "=======schedules=======\n",
      "('state', 0): ('povm', 0)\n",
      "('state', 0): ('povm', 1)\n",
      "('state', 0): ('povm', 2)\n",
      "=====================\n",
      "=======schedules=======\n",
      "('state', 0): ('povm', 0)\n",
      "('state', 0): ('povm', 1)\n",
      "('state', 0): ('povm', 2)\n",
      "=====================\n",
      "=======schedules=======\n",
      "('state', 0): ('povm', 0)\n",
      "('state', 0): ('povm', 1)\n",
      "('state', 0): ('povm', 2)\n",
      "=====================\n",
      "=======schedules=======\n",
      "('state', 0): ('povm', 0)\n",
      "('state', 0): ('povm', 1)\n",
      "('state', 0): ('povm', 2)\n",
      "=====================\n",
      "=======schedules=======\n",
      "('state', 0): ('povm', 0)\n",
      "('state', 0): ('povm', 1)\n",
      "('state', 0): ('povm', 2)\n",
      "=====================\n",
      "=======schedules=======\n",
      "('state', 0): ('povm', 0)\n",
      "('state', 0): ('povm', 1)\n",
      "('state', 0): ('povm', 2)\n",
      "=====================\n",
      "=======schedules=======\n",
      "('state', 0): ('povm', 0)\n",
      "('state', 0): ('povm', 1)\n",
      "('state', 0): ('povm', 2)\n",
      "=====================\n",
      "=======schedules=======\n",
      "('state', 0): ('povm', 0)\n",
      "('state', 0): ('povm', 1)\n",
      "('state', 0): ('povm', 2)\n",
      "=====================\n",
      "=======schedules=======\n",
      "('state', 0): ('povm', 0)\n",
      "('state', 0): ('povm', 1)\n",
      "('state', 0): ('povm', 2)\n",
      "=====================\n",
      "=======schedules=======\n",
      "('state', 0): ('povm', 0)\n",
      "('state', 0): ('povm', 1)\n",
      "('state', 0): ('povm', 2)\n",
      "=====================\n",
      "=======schedules=======\n",
      "('state', 0): ('povm', 0)\n",
      "('state', 0): ('povm', 1)\n",
      "('state', 0): ('povm', 2)\n",
      "=====================\n",
      "​Generating a graph for MSE ...\n",
      "  Linear (True)=[0.01371604938271605, 0.0012888888888888908]\n",
      "  Linear (False)=[0.013716049382716053, 0.00128888888888889]\n",
      "  ProjectedLinear (True)=[0.01371604938271605, 0.0012888888888888902]\n",
      "  ProjectedLinear (False)=[0.013716049382716056, 0.0012888888888888893]\n",
      "  Maximum-Likelihood (True)=[0.013716049768110005, 0.001288889118398299]\n",
      "  Maximum-Likelihood (False)=[0.013722302685280033, 0.0012928119046027055]\n",
      "  Least Squares (True)=[0.013716049382716047, 0.0012888888888888902]\n",
      "  Least Squares (False)=[0.013716049382716053, 0.0012888888888888902]\n",
      "  Linear (True)=[0.01371604938271605, 0.0012888888888888908]\n",
      "  ProjectedLinear (True)=[0.01371604938271605, 0.0012888888888888902]\n",
      "  Maximum-Likelihood (True)=[0.013716049768110005, 0.001288889118398299]\n",
      "  Least Squares (True)=[0.013716049382716047, 0.0012888888888888902]\n",
      "  Linear (False)=[0.013716049382716053, 0.00128888888888889]\n",
      "  ProjectedLinear (False)=[0.013716049382716056, 0.0012888888888888893]\n",
      "  Maximum-Likelihood (False)=[0.013722302685280033, 0.0012928119046027055]\n",
      "  Least Squares (False)=[0.013716049382716053, 0.0012888888888888902]\n",
      "​​Generating physicality violation test blocks ...\n"
     ]
    },
    {
     "name": "stderr",
     "output_type": "stream",
     "text": [
      "100%|██████████| 10/10 [00:00<00:00, 968.17it/s]\n",
      "100%|██████████| 10/10 [00:00<00:00, 3589.17it/s]\n",
      "100%|██████████| 10/10 [00:00<00:00, 2910.29it/s]\n",
      "100%|██████████| 10/10 [00:00<00:00, 786.78it/s]\n",
      "100%|██████████| 10/10 [00:00<00:00, 3023.79it/s]\n",
      "100%|██████████| 10/10 [00:00<00:00, 4476.31it/s]\n",
      "100%|██████████| 10/10 [00:00<00:00, 1815.56it/s]\n",
      "100%|██████████| 10/10 [00:00<00:00, 5920.81it/s]\n",
      "100%|██████████| 10/10 [00:00<00:00, 2633.79it/s]\n",
      "100%|██████████| 10/10 [00:00<00:00, 4135.99it/s]\n",
      "100%|██████████| 10/10 [00:00<00:00, 3927.62it/s]\n",
      "100%|██████████| 10/10 [00:00<00:00, 4240.53it/s]\n",
      "100%|██████████| 10/10 [00:00<00:00, 1288.14it/s]\n",
      "100%|██████████| 10/10 [00:00<00:00, 3437.67it/s]\n",
      "100%|██████████| 10/10 [00:00<00:00, 4360.89it/s]\n",
      "100%|██████████| 10/10 [00:00<00:00, 3834.27it/s]\n",
      "100%|██████████| 10/10 [00:00<00:00, 6501.79it/s]\n",
      "100%|██████████| 10/10 [00:00<00:00, 3793.35it/s]\n",
      "100%|██████████| 10/10 [00:00<00:00, 7638.51it/s]\n",
      "100%|██████████| 10/10 [00:00<00:00, 4399.31it/s]\n",
      "100%|██████████| 10/10 [00:00<00:00, 5165.40it/s]\n",
      "100%|██████████| 10/10 [00:00<00:00, 3994.96it/s]\n",
      "100%|██████████| 10/10 [00:00<00:00, 6915.59it/s]\n",
      "100%|██████████| 10/10 [00:00<00:00, 5184.55it/s]\n",
      "100%|██████████| 10/10 [00:00<00:00, 7226.57it/s]\n",
      "100%|██████████| 10/10 [00:00<00:00, 4014.46it/s]\n",
      "100%|██████████| 10/10 [00:00<00:00, 4430.45it/s]\n",
      "100%|██████████| 10/10 [00:00<00:00, 4420.64it/s]\n",
      "100%|██████████| 10/10 [00:00<00:00, 4334.30it/s]\n",
      "100%|██████████| 10/10 [00:00<00:00, 3043.10it/s]\n",
      "100%|██████████| 10/10 [00:00<00:00, 3113.58it/s]\n",
      "100%|██████████| 10/10 [00:00<00:00, 3521.37it/s]\n"
     ]
    },
    {
     "name": "stdout",
     "output_type": "stream",
     "text": [
      "Converting to PDF report ...\n",
      "​Deleting temporary files ...\n",
      "Completed to export pdf. (result/1/1/1_1_quara_report.pdf)\n",
      "Completed to write csv. result/1/check_result.csv\n",
      "Completed to write csv. result/check_result.csv\n"
     ]
    }
   ],
   "source": [
    "root_dir = \"result\"\n",
    "all_results = []\n",
    "start = time.time()\n",
    "\n",
    "for test_setting_index, test_setting in enumerate(test_settings):\n",
    "    test_results= execute_simulation_test_setting_unit(test_setting, root_dir, pdf_mode=\"only_ng\")\n",
    "    all_results += test_results\n",
    "\n",
    "# Save\n",
    "write_results(all_results, root_dir)\n",
    "\n",
    "elapsed_time = time.time() - start\n",
    "print_summary(all_results, elapsed_time)"
   ]
  },
  {
   "cell_type": "code",
   "execution_count": 55,
   "metadata": {},
   "outputs": [
    {
     "name": "stdout",
     "output_type": "stream",
     "text": [
      "\u001b[33m==============\u001b[0m \u001b[32mOK: 16 cases\u001b[0m (\u001b[33m0 warnings\u001b[0m), \u001b[31mNG: 16 cases\u001b[0m \u001b[33m in 3.0s (0:00:03)s==============\u001b[0m\n"
     ]
    }
   ],
   "source": [
    "start = time.time()\n",
    "time.sleep(3)\n",
    "elapsed_time = time.time() - start\n",
    "print_summary(all_results, elapsed_time)"
   ]
  },
  {
   "cell_type": "code",
   "execution_count": null,
   "metadata": {},
   "outputs": [],
   "source": []
  }
 ],
 "metadata": {
  "hide_input": false,
  "kernelspec": {
   "display_name": "quara_venv",
   "language": "python",
   "name": "quara_venv"
  },
  "toc": {
   "base_numbering": 1,
   "nav_menu": {},
   "number_sections": true,
   "sideBar": true,
   "skip_h1_title": false,
   "title_cell": "Table of Contents",
   "title_sidebar": "Contents",
   "toc_cell": false,
   "toc_position": {},
   "toc_section_display": true,
   "toc_window_display": false
  },
  "varInspector": {
   "cols": {
    "lenName": 16,
    "lenType": 16,
    "lenVar": 40
   },
   "kernels_config": {
    "python": {
     "delete_cmd_postfix": "",
     "delete_cmd_prefix": "del ",
     "library": "var_list.py",
     "varRefreshCmd": "print(var_dic_list())"
    },
    "r": {
     "delete_cmd_postfix": ") ",
     "delete_cmd_prefix": "rm(",
     "library": "var_list.r",
     "varRefreshCmd": "cat(var_dic_list()) "
    }
   },
   "types_to_exclude": [
    "module",
    "function",
    "builtin_function_or_method",
    "instance",
    "_Feature"
   ],
   "window_display": false
  }
 },
 "nbformat": 4,
 "nbformat_minor": 4
}
