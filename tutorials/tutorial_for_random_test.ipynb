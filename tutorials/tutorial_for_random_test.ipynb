{
 "cells": [
  {
   "cell_type": "code",
   "execution_count": 1,
   "metadata": {},
   "outputs": [],
   "source": [
    "# State"
   ]
  },
  {
   "cell_type": "code",
   "execution_count": 1,
   "metadata": {},
   "outputs": [
    {
     "data": {
      "text/plain": [
       "1e-13"
      ]
     },
     "execution_count": 1,
     "metadata": {},
     "output_type": "execute_result"
    }
   ],
   "source": [
    "import pickle\n",
    "import time\n",
    "from typing import List\n",
    "import datetime as dt\n",
    "from pathlib import Path\n",
    "\n",
    "import numpy as np\n",
    "import pandas as pd\n",
    "import plotly.graph_objects as go\n",
    "import plotly.express as px\n",
    "\n",
    "from tqdm import tqdm\n",
    "\n",
    "from quara.data_analysis import data_analysis, physicality_violation_check, report\n",
    "from quara.data_analysis.projected_gradient_descent_backtracking import (\n",
    "    ProjectedGradientDescentBacktracking,\n",
    "    ProjectedGradientDescentBacktrackingOption,\n",
    ")\n",
    "from quara.data_analysis.weighted_probability_based_squared_error import (\n",
    "    WeightedProbabilityBasedSquaredError,\n",
    "    WeightedProbabilityBasedSquaredErrorOption,\n",
    ")\n",
    "from quara.data_analysis.weighted_relative_entropy import (\n",
    "    WeightedRelativeEntropy,\n",
    "    WeightedRelativeEntropyOption,\n",
    ")\n",
    "from quara.objects.composite_system import CompositeSystem\n",
    "from quara.objects.elemental_system import ElementalSystem\n",
    "from quara.objects.matrix_basis import get_normalized_pauli_basis\n",
    "from quara.objects.povm import (\n",
    "    Povm,\n",
    "    get_x_povm,\n",
    "    get_y_povm,\n",
    "    get_z_povm,\n",
    ")\n",
    "from quara.objects.qoperation import QOperation\n",
    "from quara.objects.state import State, get_z0_1q, get_z1_1q, get_x0_1q\n",
    "from quara.protocol.qtomography.standard.standard_qst import StandardQst\n",
    "from quara.protocol.qtomography.standard.linear_estimator import LinearEstimator\n",
    "from quara.protocol.qtomography.standard.loss_minimization_estimator import (\n",
    "    LossMinimizationEstimator,\n",
    ")\n",
    "from quara.protocol.qtomography.standard.projected_linear_estimator import (\n",
    "    ProjectedLinearEstimator,\n",
    ")\n",
    "\n",
    "from quara.data_analysis.simulation import StandardQTomographySimulationSetting\n",
    "from quara.data_analysis.generation_setting import QOperationGenerationSetting, DepolarizedQOperationGenerationSetting\n",
    "from quara.data_analysis.simulation_check import StandardQTomographySimulationCheck\n",
    "\n",
    "from quara.settings import Settings\n",
    "Settings.get_atol()"
   ]
  },
  {
   "cell_type": "code",
   "execution_count": 2,
   "metadata": {},
   "outputs": [],
   "source": [
    "%reload_ext autoreload\n",
    "%autoreload 2"
   ]
  },
  {
   "cell_type": "markdown",
   "metadata": {},
   "source": [
    "- test_settingのリストを作る\n",
    "- 1つのtest_settingから、QOperationGenerationSettingのリストを作る\n",
    "- QOperationGenerationSettingから、qoperationのサンプルをn_sample個作る\n",
    "- qoperationのサンプルから、StandardQTomographySimulationSettingを作る\n",
    "- 推定を実行する\n",
    "- SimulationCheckで結果をチェックする\n",
    "- 結果を格納する or 保存する "
   ]
  },
  {
   "cell_type": "code",
   "execution_count": 3,
   "metadata": {},
   "outputs": [],
   "source": [
    "from collections import namedtuple"
   ]
  },
  {
   "cell_type": "code",
   "execution_count": 4,
   "metadata": {},
   "outputs": [],
   "source": [
    "# test_settingのリストを作る\n",
    "e_sys = ElementalSystem(0, get_normalized_pauli_basis())\n",
    "c_sys = CompositeSystem([e_sys])\n",
    "\n",
    "# Base of Tester Object\n",
    "povm_x = get_x_povm(c_sys)\n",
    "povm_y = get_y_povm(c_sys)\n",
    "povm_z = get_z_povm(c_sys)\n",
    "tester_objects = [povm_x, povm_y, povm_z]\n",
    "\n",
    "# Base of True Object\n",
    "base_state =  get_z0_1q(c_sys)"
   ]
  },
  {
   "cell_type": "code",
   "execution_count": 5,
   "metadata": {},
   "outputs": [],
   "source": [
    "# シミュレーションに必要な設定を作る\n",
    "# TODO: StandardQTomographySimulationSettingクラスを使うかどうかの検討\n",
    "case_names = [\n",
    "    \"Linear (True)\",\n",
    "    \"Linear (False)\",\n",
    "    \"ProjectedLinear (True)\",\n",
    "    \"ProjectedLinear (False)\",\n",
    "    \"Maximum-Likelihood (True)\",\n",
    "    \"Maximum-Likelihood (False)\",\n",
    "    \"Least Squares (True)\",\n",
    "    \"Least Squares (False)\",\n",
    "]\n",
    "\n",
    "parametrizations = [True, False, True, False, True, False, True, False]\n",
    "\n",
    "estimators = [LinearEstimator(), \n",
    "    LinearEstimator(),\n",
    "    ProjectedLinearEstimator(),\n",
    "    ProjectedLinearEstimator(),\n",
    "    LossMinimizationEstimator(),\n",
    "    LossMinimizationEstimator(),\n",
    "    LossMinimizationEstimator(),\n",
    "    LossMinimizationEstimator(),]\n",
    "\n",
    "loss_list = [\n",
    "    (None, None),\n",
    "    (None, None),\n",
    "    (None, None),\n",
    "    (None, None),\n",
    "    (WeightedRelativeEntropy(3),WeightedRelativeEntropyOption(\"identity\")),\n",
    "    (WeightedRelativeEntropy(4),WeightedRelativeEntropyOption(\"identity\")),\n",
    "    (WeightedProbabilityBasedSquaredError(3), WeightedProbabilityBasedSquaredErrorOption(\"identity\")),\n",
    "    (WeightedProbabilityBasedSquaredError(4),WeightedProbabilityBasedSquaredErrorOption(\"identity\")),\n",
    "]\n",
    "\n",
    "def generate_pgdb_algo_option():\n",
    "    return ProjectedGradientDescentBacktrackingOption(\n",
    "        mode_stopping_criterion_gradient_descent=\"sum_absolute_difference_variable\",\n",
    "        num_history_stopping_criterion_gradient_descent=1\n",
    "    )\n",
    "\n",
    "algo_list = [\n",
    "    (None, None),\n",
    "    (None, None),\n",
    "    (None, None),\n",
    "    (None, None),\n",
    "    (ProjectedGradientDescentBacktracking(), generate_pgdb_algo_option()),\n",
    "    (ProjectedGradientDescentBacktracking(), generate_pgdb_algo_option()),\n",
    "    (ProjectedGradientDescentBacktracking(), generate_pgdb_algo_option()),\n",
    "    (ProjectedGradientDescentBacktracking(), generate_pgdb_algo_option())\n",
    "]"
   ]
  },
  {
   "cell_type": "code",
   "execution_count": 6,
   "metadata": {},
   "outputs": [],
   "source": [
    "NoiseSetting = namedtuple(\"NoiseSetting\", [\"qoperation_base\", \"method\", \"para\"])\n",
    "TestSetting = namedtuple(\n",
    "    \"TestSetting\",\n",
    "    [\n",
    "        \"tomography_class\",\n",
    "        \"true_object\",\n",
    "        \"tester_objects\",\n",
    "        \"seed\",\n",
    "        \"n_rep\",\n",
    "        \"num_data\",\n",
    "        \"n_sample\",\n",
    "        \"schedules\",\n",
    "        \"case_names\",\n",
    "        \"estimators\",\n",
    "        \"algo_list\",\n",
    "        \"loss_list\",\n",
    "        \"parametrizations\"\n",
    "    ],\n",
    ")\n",
    "\n",
    "noise_setting_0 = NoiseSetting(\n",
    "    qoperation_base=base_state, method=\"depolarized\", para={\"error_rate\": 0.1}\n",
    ")\n",
    "noise_setting_1 = NoiseSetting(\n",
    "    qoperation_base=povm_x, method=\"depolarized\", para={\"error_rate\": 0.1}\n",
    ")\n",
    "noise_setting_2 = NoiseSetting(\n",
    "    qoperation_base=povm_y, method=\"depolarized\", para={\"error_rate\": 0.1}\n",
    ")\n",
    "noise_setting_3 = NoiseSetting(\n",
    "    qoperation_base=povm_z, method=\"depolarized\", para={\"error_rate\": 0.1}\n",
    ")\n",
    "\n",
    "test_setting_0 = TestSetting(\n",
    "    tomography_class=StandardQst,\n",
    "    true_object=noise_setting_0,\n",
    "    tester_objects=[noise_setting_1, noise_setting_2, noise_setting_3],\n",
    "    seed=777,\n",
    "    n_sample=2,\n",
    "    n_rep=10,\n",
    "    num_data=[100, 1000],\n",
    "    schedules=\"all\",\n",
    "    case_names=case_names,\n",
    "    estimators=estimators,\n",
    "    algo_list=algo_list,\n",
    "    loss_list=loss_list,\n",
    "    parametrizations=parametrizations\n",
    ")\n",
    "\n",
    "# TODO: 複数のtest_settingをtest_settingsに格納する\n",
    "test_settings = [test_setting_0]"
   ]
  },
  {
   "cell_type": "code",
   "execution_count": 7,
   "metadata": {},
   "outputs": [],
   "source": [
    "# 1つのtest_settingから、QOperationGenerationSettingのリストを作る\n",
    "GenerationSettings = namedtuple(\n",
    "    \"GenerationSettings\", [\"true_setting\", \"tester_settings\"]\n",
    ")\n",
    "\n",
    "def to_generation_setting(noise_setting):\n",
    "    # TODO: 他に良い方法がないか検討\n",
    "    if noise_setting.method == \"depolarized\":\n",
    "        target_class =  DepolarizedQOperationGenerationSetting\n",
    "    else:\n",
    "        message = f\"noise_setting.method='{noise_setting.method}' is not implemented.\"\n",
    "        raise NotImplementedError(message)\n",
    "    return target_class(\n",
    "            qoperation_base=noise_setting.qoperation_base,\n",
    "            c_sys=noise_setting.qoperation_base.composite_system,\n",
    "            **noise_setting.para\n",
    "        )\n",
    "\n",
    "def to_generation_settings(test_setting):\n",
    "    true_setting = to_generation_setting(test_setting.true_object)\n",
    "    tester_settings = [to_generation_setting(setting) for setting in test_setting.tester_objects]\n",
    "    generation_settings = GenerationSettings(true_setting=true_setting, tester_settings=tester_settings)\n",
    "    return generation_settings"
   ]
  },
  {
   "cell_type": "code",
   "execution_count": 8,
   "metadata": {},
   "outputs": [],
   "source": [
    "from quara.protocol.qtomography.standard.standard_qst import StandardQst\n",
    "from quara.protocol.qtomography.standard.standard_qpt import StandardQpt\n",
    "from quara.protocol.qtomography.standard.standard_povmt import StandardPovmt\n",
    "\n",
    "\n",
    "def generate_qtomography(sim_setting, para: bool, eps_proj_physical: float) -> \"StandardQTomography\":\n",
    "    true_object = sim_setting.true_object\n",
    "    tester_objects = sim_setting.tester_objects\n",
    "    seed = sim_setting.seed\n",
    "\n",
    "    if type(true_object) == State:\n",
    "        return StandardQst(\n",
    "            tester_objects,\n",
    "            on_para_eq_constraint=para,\n",
    "            seed=seed,\n",
    "            eps_proj_physical=eps_proj_physical,\n",
    "        )\n",
    "    if type(true_object) == Povm:\n",
    "        return StandardPovmt(\n",
    "            tester_objects,\n",
    "            on_para_eq_constraint=para,\n",
    "            seed=seed,\n",
    "            eps_proj_physical=eps_proj_physical,\n",
    "        )\n",
    "    if type(true_object) == Gate:\n",
    "        states = [t for t in tester_objects if type(t) == State]\n",
    "        povms = [t for t in tester_objects if type(t) == Povm]\n",
    "\n",
    "        return StandardQpt(\n",
    "            states=states,\n",
    "            povms=povms,\n",
    "            on_para_eq_constraint=para,\n",
    "            seed=seed,\n",
    "            eps_proj_physical=eps_proj_physical,\n",
    "        )\n",
    "    # TODO: message\n",
    "    return TypeError()"
   ]
  },
  {
   "cell_type": "code",
   "execution_count": 9,
   "metadata": {},
   "outputs": [],
   "source": [
    "def convert_test_setting2simulation_setting(test_setting, case_index: int) -> StandardQTomographySimulationSetting:\n",
    "    return StandardQTomographySimulationSetting(\n",
    "        name=test_setting.case_names[case_index],\n",
    "        estimator=test_setting.estimators[case_index],\n",
    "        loss=test_setting.loss_list[case_index][0],\n",
    "        loss_option=test_setting.loss_list[case_index][1],\n",
    "        algo=test_setting.algo_list[case_index][0],\n",
    "        algo_option=test_setting.algo_list[case_index][1],\n",
    "        true_object=true_object,\n",
    "        tester_objects=tester_objects,\n",
    "        n_rep=test_setting.n_rep,\n",
    "        seed=test_setting.seed,\n",
    "        num_data = test_setting.num_data,\n",
    "        schedules= test_setting.schedules\n",
    "    )"
   ]
  },
  {
   "cell_type": "code",
   "execution_count": 10,
   "metadata": {},
   "outputs": [],
   "source": [
    "def write_result_case_unit(result: namedtuple, root_dir: str) -> None:\n",
    "    test_setting_index = result.result_index[\"test_setting_index\"]\n",
    "    sample_index = result.result_index[\"sample_index\"]\n",
    "    case_index = result.result_index[\"case_index\"]\n",
    "    \n",
    "    # Save all\n",
    "    dir_path = Path(f\"{root_dir}/{test_setting_index}/{sample_index}\")\n",
    "    dir_path.mkdir(parents=True, exist_ok=True)\n",
    "    path = dir_path / f\"case_{case_index}_result.pickle\"\n",
    "    with open(path, 'wb') as f:\n",
    "        pickle.dump(result, f)\n",
    "\n",
    "    check_result = result.check_result\n",
    "    path = dir_path / f\"case_{case_index}_check_result.json\"\n",
    "    with open(path, \"w\") as f:\n",
    "        json.dump(check_result, f, ensure_ascii=False, indent=4, separators=(',', ': '))"
   ]
  },
  {
   "cell_type": "code",
   "execution_count": 45,
   "metadata": {},
   "outputs": [],
   "source": [
    "import copy"
   ]
  },
  {
   "cell_type": "code",
   "execution_count": null,
   "metadata": {},
   "outputs": [],
   "source": [
    "def results2dataframe(results):\n",
    "    pd.DataFrame()"
   ]
  },
  {
   "cell_type": "code",
   "execution_count": 84,
   "metadata": {},
   "outputs": [],
   "source": [
    "def result2dict(result):\n",
    "    result_dict = dict(\n",
    "        test_setting_index=result.result_index[\"test_setting_index\"],\n",
    "        sample_index=result.result_index[\"sample_index\"],\n",
    "        case_index=result.result_index[\"case_index\"],\n",
    "        name=result.simulation_setting.name,\n",
    "        total_result=result.check_result[\"total_result\"])\n",
    "\n",
    "    check_result = {}\n",
    "    warning_text = \"\"\n",
    "    for r in result.check_result[\"results\"]:\n",
    "        check_result[r[\"name\"]] = r[\"result\"]\n",
    "    result_dict.update(check_result)\n",
    "    \n",
    "    return result_dict"
   ]
  },
  {
   "cell_type": "code",
   "execution_count": 82,
   "metadata": {},
   "outputs": [
    {
     "data": {
      "text/html": [
       "<div>\n",
       "<style scoped>\n",
       "    .dataframe tbody tr th:only-of-type {\n",
       "        vertical-align: middle;\n",
       "    }\n",
       "\n",
       "    .dataframe tbody tr th {\n",
       "        vertical-align: top;\n",
       "    }\n",
       "\n",
       "    .dataframe thead th {\n",
       "        text-align: right;\n",
       "    }\n",
       "</style>\n",
       "<table border=\"1\" class=\"dataframe\">\n",
       "  <thead>\n",
       "    <tr style=\"text-align: right;\">\n",
       "      <th></th>\n",
       "      <th>sample_index</th>\n",
       "      <th>case_index</th>\n",
       "      <th>name</th>\n",
       "      <th>total_result</th>\n",
       "      <th>MSE of Empirical Distributions</th>\n",
       "      <th>Consistency</th>\n",
       "      <th>MSE of estimators</th>\n",
       "      <th>Physicality Violation</th>\n",
       "    </tr>\n",
       "  </thead>\n",
       "  <tbody>\n",
       "    <tr>\n",
       "      <th>0</th>\n",
       "      <td>1</td>\n",
       "      <td>0</td>\n",
       "      <td>Linear (True)</td>\n",
       "      <td>True</td>\n",
       "      <td>True</td>\n",
       "      <td>True</td>\n",
       "      <td>True</td>\n",
       "      <td>True</td>\n",
       "    </tr>\n",
       "    <tr>\n",
       "      <th>1</th>\n",
       "      <td>1</td>\n",
       "      <td>1</td>\n",
       "      <td>Linear (False)</td>\n",
       "      <td>True</td>\n",
       "      <td>True</td>\n",
       "      <td>True</td>\n",
       "      <td>True</td>\n",
       "      <td>True</td>\n",
       "    </tr>\n",
       "    <tr>\n",
       "      <th>2</th>\n",
       "      <td>1</td>\n",
       "      <td>2</td>\n",
       "      <td>ProjectedLinear (True)</td>\n",
       "      <td>False</td>\n",
       "      <td>True</td>\n",
       "      <td>True</td>\n",
       "      <td>False</td>\n",
       "      <td>True</td>\n",
       "    </tr>\n",
       "    <tr>\n",
       "      <th>3</th>\n",
       "      <td>1</td>\n",
       "      <td>3</td>\n",
       "      <td>ProjectedLinear (False)</td>\n",
       "      <td>False</td>\n",
       "      <td>True</td>\n",
       "      <td>True</td>\n",
       "      <td>False</td>\n",
       "      <td>True</td>\n",
       "    </tr>\n",
       "    <tr>\n",
       "      <th>4</th>\n",
       "      <td>1</td>\n",
       "      <td>4</td>\n",
       "      <td>Maximum-Likelihood (True)</td>\n",
       "      <td>False</td>\n",
       "      <td>True</td>\n",
       "      <td>True</td>\n",
       "      <td>False</td>\n",
       "      <td>True</td>\n",
       "    </tr>\n",
       "    <tr>\n",
       "      <th>5</th>\n",
       "      <td>1</td>\n",
       "      <td>5</td>\n",
       "      <td>Maximum-Likelihood (False)</td>\n",
       "      <td>False</td>\n",
       "      <td>True</td>\n",
       "      <td>True</td>\n",
       "      <td>False</td>\n",
       "      <td>True</td>\n",
       "    </tr>\n",
       "    <tr>\n",
       "      <th>6</th>\n",
       "      <td>1</td>\n",
       "      <td>6</td>\n",
       "      <td>Least Squares (True)</td>\n",
       "      <td>True</td>\n",
       "      <td>True</td>\n",
       "      <td>True</td>\n",
       "      <td>True</td>\n",
       "      <td>True</td>\n",
       "    </tr>\n",
       "    <tr>\n",
       "      <th>7</th>\n",
       "      <td>1</td>\n",
       "      <td>7</td>\n",
       "      <td>Least Squares (False)</td>\n",
       "      <td>True</td>\n",
       "      <td>True</td>\n",
       "      <td>True</td>\n",
       "      <td>True</td>\n",
       "      <td>True</td>\n",
       "    </tr>\n",
       "  </tbody>\n",
       "</table>\n",
       "</div>"
      ],
      "text/plain": [
       "   sample_index  case_index                        name  total_result  \\\n",
       "0             1           0               Linear (True)          True   \n",
       "1             1           1              Linear (False)          True   \n",
       "2             1           2      ProjectedLinear (True)         False   \n",
       "3             1           3     ProjectedLinear (False)         False   \n",
       "4             1           4   Maximum-Likelihood (True)         False   \n",
       "5             1           5  Maximum-Likelihood (False)         False   \n",
       "6             1           6        Least Squares (True)          True   \n",
       "7             1           7       Least Squares (False)          True   \n",
       "\n",
       "   MSE of Empirical Distributions  Consistency  MSE of estimators  \\\n",
       "0                            True         True               True   \n",
       "1                            True         True               True   \n",
       "2                            True         True              False   \n",
       "3                            True         True              False   \n",
       "4                            True         True              False   \n",
       "5                            True         True              False   \n",
       "6                            True         True               True   \n",
       "7                            True         True               True   \n",
       "\n",
       "   Physicality Violation  \n",
       "0                   True  \n",
       "1                   True  \n",
       "2                   True  \n",
       "3                   True  \n",
       "4                   True  \n",
       "5                   True  \n",
       "6                   True  \n",
       "7                   True  "
      ]
     },
     "execution_count": 82,
     "metadata": {},
     "output_type": "execute_result"
    }
   ],
   "source": [
    "pd.DataFrame([result2dict(r) for r in results])"
   ]
  },
  {
   "cell_type": "code",
   "execution_count": 85,
   "metadata": {},
   "outputs": [
    {
     "name": "stdout",
     "output_type": "stream",
     "text": [
      "[1/2] Generating sample ...\n",
      "Case 0: Linear (True)\n"
     ]
    },
    {
     "name": "stderr",
     "output_type": "stream",
     "text": [
      "100%|██████████| 10/10 [00:00<00:00, 58.90it/s]\n",
      "100%|██████████| 10/10 [00:00<00:00, 25795.23it/s]\n",
      "100%|██████████| 10/10 [00:00<00:00, 21520.29it/s]\n",
      "  0%|          | 0/10 [00:00<?, ?it/s]"
     ]
    },
    {
     "name": "stdout",
     "output_type": "stream",
     "text": [
      "========== Summary ============\n",
      "Name: Linear (True)\n",
      "MSE of Empirical Distributions: \u001b[32mOK\u001b[0m\n",
      "Consistency: \u001b[32mOK\u001b[0m (to_be_checked=False)\n",
      "MSE of estimators: \u001b[32mOK\u001b[0m\n",
      "Physicality Violation: \u001b[32mOK\u001b[0m\n",
      "===============================\n",
      "Case 1: Linear (False)\n"
     ]
    },
    {
     "name": "stderr",
     "output_type": "stream",
     "text": [
      "100%|██████████| 10/10 [00:00<00:00, 18.76it/s]\n",
      "100%|██████████| 10/10 [00:00<00:00, 24091.35it/s]\n",
      "100%|██████████| 10/10 [00:00<00:00, 20540.18it/s]\n",
      " 30%|███       | 3/10 [00:00<00:00, 29.97it/s]"
     ]
    },
    {
     "name": "stdout",
     "output_type": "stream",
     "text": [
      "========== Summary ============\n",
      "Name: Linear (False)\n",
      "MSE of Empirical Distributions: \u001b[32mOK\u001b[0m\n",
      "Consistency: \u001b[32mOK\u001b[0m (to_be_checked=False)\n",
      "MSE of estimators: \u001b[32mOK\u001b[0m\n",
      "Physicality Violation: \u001b[32mOK\u001b[0m\n",
      "===============================\n",
      "Case 2: ProjectedLinear (True)\n"
     ]
    },
    {
     "name": "stderr",
     "output_type": "stream",
     "text": [
      "100%|██████████| 10/10 [00:00<00:00, 23.20it/s]\n",
      "100%|██████████| 10/10 [00:00<00:00, 6459.73it/s]\n",
      "100%|██████████| 10/10 [00:00<00:00, 2352.25it/s]\n",
      "100%|██████████| 10/10 [00:00<00:00, 35.54it/s]\n",
      " 40%|████      | 4/10 [00:00<00:00, 31.73it/s]"
     ]
    },
    {
     "name": "stdout",
     "output_type": "stream",
     "text": [
      "========== Summary ============\n",
      "Name: ProjectedLinear (True)\n",
      "MSE of Empirical Distributions: \u001b[32mOK\u001b[0m\n",
      "Consistency: \u001b[32mOK\u001b[0m (to_be_checked=False)\n",
      "MSE of estimators: \u001b[31mNG\u001b[0m\n",
      "Physicality Violation: \u001b[32mOK\u001b[0m\n",
      "===============================\n",
      "Total Result: \u001b[31mNG\u001b[0m\n",
      "Case 3: ProjectedLinear (False)\n"
     ]
    },
    {
     "name": "stderr",
     "output_type": "stream",
     "text": [
      "100%|██████████| 10/10 [00:00<00:00, 26.96it/s]\n",
      "100%|██████████| 10/10 [00:00<00:00, 10472.67it/s]\n",
      "100%|██████████| 10/10 [00:00<00:00, 24759.76it/s]\n",
      "100%|██████████| 10/10 [00:00<00:00, 28.61it/s]\n",
      "  0%|          | 0/10 [00:00<?, ?it/s]"
     ]
    },
    {
     "name": "stdout",
     "output_type": "stream",
     "text": [
      "========== Summary ============\n",
      "Name: ProjectedLinear (False)\n",
      "MSE of Empirical Distributions: \u001b[32mOK\u001b[0m\n",
      "Consistency: \u001b[32mOK\u001b[0m (to_be_checked=False)\n",
      "MSE of estimators: \u001b[31mNG\u001b[0m\n",
      "Physicality Violation: \u001b[32mOK\u001b[0m\n",
      "===============================\n",
      "Total Result: \u001b[31mNG\u001b[0m\n",
      "Case 4: Maximum-Likelihood (True)\n"
     ]
    },
    {
     "name": "stderr",
     "output_type": "stream",
     "text": [
      "100%|██████████| 10/10 [00:12<00:00,  1.20s/it]\n",
      "100%|██████████| 10/10 [00:00<00:00, 10991.36it/s]\n",
      "100%|██████████| 10/10 [00:00<00:00, 11299.31it/s]\n",
      "100%|██████████| 10/10 [00:00<00:00, 42.24it/s]\n",
      "  0%|          | 0/10 [00:00<?, ?it/s]"
     ]
    },
    {
     "name": "stdout",
     "output_type": "stream",
     "text": [
      "========== Summary ============\n",
      "Name: Maximum-Likelihood (True)\n",
      "MSE of Empirical Distributions: \u001b[32mOK\u001b[0m\n",
      "Consistency: \u001b[32mOK\u001b[0m (to_be_checked=False)\n",
      "MSE of estimators: \u001b[31mNG\u001b[0m\n",
      "Physicality Violation: \u001b[32mOK\u001b[0m\n",
      "===============================\n",
      "Total Result: \u001b[31mNG\u001b[0m\n",
      "Case 5: Maximum-Likelihood (False)\n"
     ]
    },
    {
     "name": "stderr",
     "output_type": "stream",
     "text": [
      "100%|██████████| 10/10 [00:27<00:00,  2.71s/it]\n",
      "100%|██████████| 10/10 [00:00<00:00, 21013.55it/s]\n",
      "100%|██████████| 10/10 [00:00<00:00, 17932.04it/s]\n",
      "100%|██████████| 10/10 [00:00<00:00, 59.80it/s]\n",
      " 10%|█         | 1/10 [00:00<00:01,  7.59it/s]"
     ]
    },
    {
     "name": "stdout",
     "output_type": "stream",
     "text": [
      "========== Summary ============\n",
      "Name: Maximum-Likelihood (False)\n",
      "MSE of Empirical Distributions: \u001b[32mOK\u001b[0m\n",
      "Consistency: \u001b[31mNG\u001b[0m (to_be_checked=False)\n",
      "MSE of estimators: \u001b[31mNG\u001b[0m\n",
      "Physicality Violation: \u001b[32mOK\u001b[0m\n",
      "===============================\n",
      "Total Result: \u001b[31mNG\u001b[0m\n",
      "Case 6: Least Squares (True)\n"
     ]
    },
    {
     "name": "stderr",
     "output_type": "stream",
     "text": [
      "100%|██████████| 10/10 [00:01<00:00,  8.17it/s]\n",
      "100%|██████████| 10/10 [00:00<00:00, 23418.78it/s]\n",
      "100%|██████████| 10/10 [00:00<00:00, 16448.25it/s]\n",
      "/Users/tomoko/project/rcast/workspace/quara/quara/data_analysis/simulation_check.py:176: UserWarning: Estimator MSE is not checked except for LinearEstimator, ProjectedLinearEstimator, Maximum-likelihood.\n",
      "  warnings.warn(\n",
      "  0%|          | 0/10 [00:00<?, ?it/s]"
     ]
    },
    {
     "name": "stdout",
     "output_type": "stream",
     "text": [
      "========== Summary ============\n",
      "Name: Least Squares (True)\n",
      "MSE of Empirical Distributions: \u001b[32mOK\u001b[0m\n",
      "Consistency: \u001b[32mOK\u001b[0m (to_be_checked=False)\n",
      "MSE of estimators: \u001b[32mOK\u001b[0m\n",
      "Physicality Violation: \u001b[32mOK\u001b[0m\n",
      "===============================\n",
      "Case 7: Least Squares (False)\n"
     ]
    },
    {
     "name": "stderr",
     "output_type": "stream",
     "text": [
      "100%|██████████| 10/10 [00:01<00:00,  6.34it/s]\n",
      "100%|██████████| 10/10 [00:00<00:00, 11667.05it/s]\n",
      "100%|██████████| 10/10 [00:00<00:00, 20164.92it/s]\n"
     ]
    },
    {
     "name": "stdout",
     "output_type": "stream",
     "text": [
      "========== Summary ============\n",
      "Name: Least Squares (False)\n",
      "MSE of Empirical Distributions: \u001b[32mOK\u001b[0m\n",
      "Consistency: \u001b[32mOK\u001b[0m (to_be_checked=False)\n",
      "MSE of estimators: \u001b[32mOK\u001b[0m\n",
      "Physicality Violation: \u001b[32mOK\u001b[0m\n",
      "===============================\n"
     ]
    },
    {
     "name": "stderr",
     "output_type": "stream",
     "text": [
      "100%|██████████| 10/10 [00:00<00:00, 60.75it/s]\n",
      "  0%|          | 0/10 [00:00<?, ?it/s]"
     ]
    },
    {
     "name": "stdout",
     "output_type": "stream",
     "text": [
      "[2/2] Generating sample ...\n",
      "Case 0: Linear (True)\n"
     ]
    },
    {
     "name": "stderr",
     "output_type": "stream",
     "text": [
      "100%|██████████| 10/10 [00:00<00:00, 23471.20it/s]\n",
      "100%|██████████| 10/10 [00:00<00:00, 11522.81it/s]\n",
      " 40%|████      | 4/10 [00:00<00:00, 35.92it/s]"
     ]
    },
    {
     "name": "stdout",
     "output_type": "stream",
     "text": [
      "========== Summary ============\n",
      "Name: Linear (True)\n",
      "MSE of Empirical Distributions: \u001b[32mOK\u001b[0m\n",
      "Consistency: \u001b[32mOK\u001b[0m (to_be_checked=False)\n",
      "MSE of estimators: \u001b[32mOK\u001b[0m\n",
      "Physicality Violation: \u001b[32mOK\u001b[0m\n",
      "===============================\n",
      "Case 1: Linear (False)\n"
     ]
    },
    {
     "name": "stderr",
     "output_type": "stream",
     "text": [
      "100%|██████████| 10/10 [00:00<00:00, 41.16it/s]\n",
      "100%|██████████| 10/10 [00:00<00:00, 13948.47it/s]\n",
      "100%|██████████| 10/10 [00:00<00:00, 9988.82it/s]\n",
      "100%|██████████| 10/10 [00:00<00:00, 52.57it/s]\n",
      "  0%|          | 0/10 [00:00<?, ?it/s]"
     ]
    },
    {
     "name": "stdout",
     "output_type": "stream",
     "text": [
      "========== Summary ============\n",
      "Name: Linear (False)\n",
      "MSE of Empirical Distributions: \u001b[32mOK\u001b[0m\n",
      "Consistency: \u001b[32mOK\u001b[0m (to_be_checked=False)\n",
      "MSE of estimators: \u001b[32mOK\u001b[0m\n",
      "Physicality Violation: \u001b[32mOK\u001b[0m\n",
      "===============================\n",
      "Case 2: ProjectedLinear (True)\n"
     ]
    },
    {
     "name": "stderr",
     "output_type": "stream",
     "text": [
      "100%|██████████| 10/10 [00:00<00:00, 22274.58it/s]\n",
      "100%|██████████| 10/10 [00:00<00:00, 21194.06it/s]\n",
      "100%|██████████| 10/10 [00:00<00:00, 83.22it/s]\n",
      "100%|██████████| 10/10 [00:00<00:00, 55.12it/s]\n",
      "100%|██████████| 10/10 [00:00<00:00, 20242.78it/s]\n",
      "100%|██████████| 10/10 [00:00<00:00, 3919.91it/s]"
     ]
    },
    {
     "name": "stdout",
     "output_type": "stream",
     "text": [
      "========== Summary ============\n",
      "Name: ProjectedLinear (True)\n",
      "MSE of Empirical Distributions: \u001b[32mOK\u001b[0m\n",
      "Consistency: \u001b[32mOK\u001b[0m (to_be_checked=False)\n",
      "MSE of estimators: \u001b[31mNG\u001b[0m\n",
      "Physicality Violation: \u001b[32mOK\u001b[0m\n",
      "===============================\n",
      "Total Result: \u001b[31mNG\u001b[0m\n",
      "Case 3: ProjectedLinear (False)\n"
     ]
    },
    {
     "name": "stderr",
     "output_type": "stream",
     "text": [
      "\n",
      "100%|██████████| 10/10 [00:00<00:00, 66.87it/s]\n",
      "  0%|          | 0/10 [00:00<?, ?it/s]"
     ]
    },
    {
     "name": "stdout",
     "output_type": "stream",
     "text": [
      "========== Summary ============\n",
      "Name: ProjectedLinear (False)\n",
      "MSE of Empirical Distributions: \u001b[32mOK\u001b[0m\n",
      "Consistency: \u001b[32mOK\u001b[0m (to_be_checked=False)\n",
      "MSE of estimators: \u001b[31mNG\u001b[0m\n",
      "Physicality Violation: \u001b[32mOK\u001b[0m\n",
      "===============================\n",
      "Total Result: \u001b[31mNG\u001b[0m\n",
      "Case 4: Maximum-Likelihood (True)\n"
     ]
    },
    {
     "name": "stderr",
     "output_type": "stream",
     "text": [
      "100%|██████████| 10/10 [00:10<00:00,  1.03s/it]\n",
      "100%|██████████| 10/10 [00:00<00:00, 9617.76it/s]\n",
      "100%|██████████| 10/10 [00:00<00:00, 19840.61it/s]\n",
      "100%|██████████| 10/10 [00:00<00:00, 74.62it/s]\n",
      "  0%|          | 0/10 [00:00<?, ?it/s]"
     ]
    },
    {
     "name": "stdout",
     "output_type": "stream",
     "text": [
      "========== Summary ============\n",
      "Name: Maximum-Likelihood (True)\n",
      "MSE of Empirical Distributions: \u001b[32mOK\u001b[0m\n",
      "Consistency: \u001b[32mOK\u001b[0m (to_be_checked=False)\n",
      "MSE of estimators: \u001b[31mNG\u001b[0m\n",
      "Physicality Violation: \u001b[32mOK\u001b[0m\n",
      "===============================\n",
      "Total Result: \u001b[31mNG\u001b[0m\n",
      "Case 5: Maximum-Likelihood (False)\n"
     ]
    },
    {
     "name": "stderr",
     "output_type": "stream",
     "text": [
      "100%|██████████| 10/10 [00:45<00:00,  4.58s/it]\n",
      "100%|██████████| 10/10 [00:00<00:00, 22086.91it/s]\n",
      "100%|██████████| 10/10 [00:00<00:00, 8104.94it/s]\n",
      "100%|██████████| 10/10 [00:00<00:00, 56.13it/s]\n",
      " 10%|█         | 1/10 [00:00<00:01,  6.38it/s]"
     ]
    },
    {
     "name": "stdout",
     "output_type": "stream",
     "text": [
      "========== Summary ============\n",
      "Name: Maximum-Likelihood (False)\n",
      "MSE of Empirical Distributions: \u001b[32mOK\u001b[0m\n",
      "Consistency: \u001b[31mNG\u001b[0m (to_be_checked=False)\n",
      "MSE of estimators: \u001b[31mNG\u001b[0m\n",
      "Physicality Violation: \u001b[32mOK\u001b[0m\n",
      "===============================\n",
      "Total Result: \u001b[31mNG\u001b[0m\n",
      "Case 6: Least Squares (True)\n"
     ]
    },
    {
     "name": "stderr",
     "output_type": "stream",
     "text": [
      "100%|██████████| 10/10 [00:01<00:00,  5.95it/s]\n",
      "100%|██████████| 10/10 [00:00<00:00, 22168.63it/s]\n",
      "100%|██████████| 10/10 [00:00<00:00, 24818.37it/s]\n",
      "  0%|          | 0/10 [00:00<?, ?it/s]"
     ]
    },
    {
     "name": "stdout",
     "output_type": "stream",
     "text": [
      "========== Summary ============\n",
      "Name: Least Squares (True)\n",
      "MSE of Empirical Distributions: \u001b[32mOK\u001b[0m\n",
      "Consistency: \u001b[32mOK\u001b[0m (to_be_checked=False)\n",
      "MSE of estimators: \u001b[32mOK\u001b[0m\n",
      "Physicality Violation: \u001b[32mOK\u001b[0m\n",
      "===============================\n",
      "Case 7: Least Squares (False)\n"
     ]
    },
    {
     "name": "stderr",
     "output_type": "stream",
     "text": [
      "100%|██████████| 10/10 [00:02<00:00,  4.83it/s]\n",
      "100%|██████████| 10/10 [00:00<00:00, 25251.68it/s]\n",
      "100%|██████████| 10/10 [00:00<00:00, 23523.86it/s]"
     ]
    },
    {
     "name": "stdout",
     "output_type": "stream",
     "text": [
      "========== Summary ============\n",
      "Name: Least Squares (False)\n",
      "MSE of Empirical Distributions: \u001b[32mOK\u001b[0m\n",
      "Consistency: \u001b[32mOK\u001b[0m (to_be_checked=False)\n",
      "MSE of estimators: \u001b[32mOK\u001b[0m\n",
      "Physicality Violation: \u001b[32mOK\u001b[0m\n",
      "===============================\n"
     ]
    },
    {
     "name": "stderr",
     "output_type": "stream",
     "text": [
      "\n"
     ]
    }
   ],
   "source": [
    "# QOperationGenerationSettingから、qoperationのサンプルをn_sample個作る\n",
    "Result = namedtuple(\n",
    "    \"Result\",\n",
    "    [\"result_index\", \"simulation_setting\", \"estimation_results\", \"check_result\"],\n",
    ")\n",
    "\n",
    "test_setting_i = 0\n",
    "generation_settings = to_generation_settings(test_settings[test_setting_i])\n",
    "seed = test_settings[test_setting_i].seed\n",
    "n_sample = test_settings[test_setting_i].n_sample\n",
    "test_setting = test_settings[test_setting_i]\n",
    "\n",
    "for sample_i in range(n_sample):\n",
    "    print(f\"[{sample_i+1}/{n_sample}] Generating sample ...\")\n",
    "\n",
    "    # sampleの生成\n",
    "    true_object = generation_settings.true_setting.generate()\n",
    "    tester_objects = [\n",
    "        tester_setting.generate()\n",
    "        for tester_setting in generation_settings.tester_settings\n",
    "    ]\n",
    "\n",
    "    results = []\n",
    "    case_n = len(test_setting.case_names)\n",
    "    for case_index in range(case_n):\n",
    "        # QTomographySimulationSettingを作る\n",
    "        sim_setting = convert_test_setting2simulation_setting(test_setting, case_index)\n",
    "        print(f\"Case {case_index}: {sim_setting.name}\")\n",
    "\n",
    "        org_sim_setting = copy.deepcopy(sim_setting)\n",
    "        \n",
    "        # QTomographyの作成\n",
    "        qtomography = generate_qtomography(\n",
    "            sim_setting,\n",
    "            para=test_setting.parametrizations[case_index],\n",
    "            eps_proj_physical=1e-13,\n",
    "        )\n",
    "\n",
    "        # 推定\n",
    "        estimation_results = data_analysis.execute_simulation(\n",
    "            qtomography=qtomography, simulation_setting=sim_setting\n",
    "        )\n",
    "\n",
    "        # 自動テスト\n",
    "        sim_check = StandardQTomographySimulationCheck(sim_setting, estimation_results)\n",
    "        check_result = sim_check.execute_all(show_detail=False, with_detail=True)\n",
    "\n",
    "        # 結果の表示\n",
    "        if not check_result[\"total_result\"]:\n",
    "            start_red = \"\\033[31m\"\n",
    "            end_color = \"\\033[0m\"\n",
    "            print(f\"Total Result: {start_red}NG{end_color}\")\n",
    "\n",
    "        result_index = dict(\n",
    "            test_setting_index=test_setting_i,\n",
    "            sample_index=sample_i,\n",
    "            case_index=case_index,\n",
    "        )\n",
    "        # 結果の格納\n",
    "        result = Result(\n",
    "            result_index=result_index,\n",
    "            simulation_setting=org_sim_setting,\n",
    "            estimation_results=estimation_results,\n",
    "            check_result=check_result,\n",
    "        )\n",
    "        results.append(result)\n",
    "\n",
    "        # 保存\n",
    "        write_result_case_unit(result, root_dir=\"result\")\n",
    "\n",
    "    # 保存（sample_index単位）\n",
    "    # 保存先: {root_dir}/{test_index}/{sample_index}/result.csv\n",
    "    # path = test_setting_i}\n",
    "    \n",
    "    # Save\n",
    "    result_dict_list = [result2dict(r) for r in results]\n",
    "    sample_result_df = pd.DataFrame(result_dict_list)\n",
    "    sample_result_df.to_csv(\"check_results.csv\")\n",
    "    \n",
    "    \n",
    "\n",
    "# 保存（test_index単位）\n",
    "# 保存先: {root_dir}/{test_index}/result.csv"
   ]
  },
  {
   "cell_type": "code",
   "execution_count": 68,
   "metadata": {},
   "outputs": [],
   "source": [
    "import pandas as pd"
   ]
  },
  {
   "cell_type": "code",
   "execution_count": 69,
   "metadata": {},
   "outputs": [
    {
     "data": {
      "text/html": [
       "<div>\n",
       "<style scoped>\n",
       "    .dataframe tbody tr th:only-of-type {\n",
       "        vertical-align: middle;\n",
       "    }\n",
       "\n",
       "    .dataframe tbody tr th {\n",
       "        vertical-align: top;\n",
       "    }\n",
       "\n",
       "    .dataframe thead th {\n",
       "        text-align: right;\n",
       "    }\n",
       "</style>\n",
       "<table border=\"1\" class=\"dataframe\">\n",
       "  <thead>\n",
       "    <tr style=\"text-align: right;\">\n",
       "      <th></th>\n",
       "      <th>a</th>\n",
       "      <th>b</th>\n",
       "    </tr>\n",
       "  </thead>\n",
       "  <tbody>\n",
       "    <tr>\n",
       "      <th>0</th>\n",
       "      <td>1</td>\n",
       "      <td>1</td>\n",
       "    </tr>\n",
       "    <tr>\n",
       "      <th>1</th>\n",
       "      <td>2</td>\n",
       "      <td>2</td>\n",
       "    </tr>\n",
       "  </tbody>\n",
       "</table>\n",
       "</div>"
      ],
      "text/plain": [
       "   a  b\n",
       "0  1  1\n",
       "1  2  2"
      ]
     },
     "execution_count": 69,
     "metadata": {},
     "output_type": "execute_result"
    }
   ],
   "source": [
    "data = [dict(a=1, b=1), dict(a=2, b=2)]\n",
    "\n",
    "pd.DataFrame(data)"
   ]
  },
  {
   "cell_type": "code",
   "execution_count": null,
   "metadata": {},
   "outputs": [],
   "source": []
  },
  {
   "cell_type": "code",
   "execution_count": 6,
   "metadata": {},
   "outputs": [],
   "source": [
    "# setup system\n",
    "e_sys = ElementalSystem(0, get_normalized_pauli_basis())\n",
    "c_sys = CompositeSystem([e_sys])\n",
    "\n",
    "povm_x = get_x_povm(c_sys)\n",
    "povm_y = get_y_povm(c_sys)\n",
    "povm_z = get_z_povm(c_sys)\n",
    "tester_objects = [povm_x, povm_y, povm_z]"
   ]
  },
  {
   "cell_type": "code",
   "execution_count": null,
   "metadata": {},
   "outputs": [],
   "source": []
  },
  {
   "cell_type": "code",
   "execution_count": null,
   "metadata": {},
   "outputs": [],
   "source": []
  },
  {
   "cell_type": "code",
   "execution_count": null,
   "metadata": {},
   "outputs": [],
   "source": []
  },
  {
   "cell_type": "code",
   "execution_count": null,
   "metadata": {},
   "outputs": [],
   "source": []
  },
  {
   "cell_type": "code",
   "execution_count": null,
   "metadata": {},
   "outputs": [],
   "source": []
  },
  {
   "cell_type": "code",
   "execution_count": null,
   "metadata": {},
   "outputs": [],
   "source": []
  },
  {
   "cell_type": "code",
   "execution_count": null,
   "metadata": {},
   "outputs": [],
   "source": []
  },
  {
   "cell_type": "code",
   "execution_count": null,
   "metadata": {},
   "outputs": [],
   "source": []
  },
  {
   "cell_type": "code",
   "execution_count": null,
   "metadata": {},
   "outputs": [],
   "source": []
  },
  {
   "cell_type": "code",
   "execution_count": 7,
   "metadata": {},
   "outputs": [
    {
     "data": {
      "text/plain": [
       "array([0.70710678, 0.40824829, 0.40824829, 0.40824829])"
      ]
     },
     "execution_count": 7,
     "metadata": {},
     "output_type": "execute_result"
    }
   ],
   "source": [
    "# Case 1:\n",
    "# true_object = get_z0_1q(c_sys)\n",
    "\n",
    "# Case 2:\n",
    "vec = np.array([1/np.sqrt(2), 1/np.sqrt(6), 1/np.sqrt(6), 1/np.sqrt(6)],dtype=np.float64)\n",
    "true_object = State(c_sys, vec)\n",
    "\n",
    "# Case 3:\n",
    "# vec = np.array([1 / np.sqrt(2), 0, 0, 0], dtype=np.float64)\n",
    "# true_object = State(c_sys, vec)\n",
    "\n",
    "true_object.vec"
   ]
  },
  {
   "cell_type": "code",
   "execution_count": 8,
   "metadata": {
    "tags": []
   },
   "outputs": [
    {
     "name": "stderr",
     "output_type": "stream",
     "text": [
      "\r",
      "  0%|          | 0/1000 [00:00<?, ?it/s]"
     ]
    },
    {
     "name": "stdout",
     "output_type": "stream",
     "text": [
      "Case 0: Linear(True)\n",
      "Parametorization: True\n",
      "Type of qtomography: StandardQst\n",
      "Estimator: LinearEstimator\n"
     ]
    },
    {
     "name": "stderr",
     "output_type": "stream",
     "text": [
      "100%|██████████| 1000/1000 [00:12<00:00, 80.85it/s]\n",
      "  1%|          | 9/1000 [00:00<00:11, 85.75it/s]"
     ]
    },
    {
     "name": "stdout",
     "output_type": "stream",
     "text": [
      "elapsed_time:0.20819623470306398[min]\n",
      "\n",
      "Case 1: Linear(False)\n",
      "Parametorization: False\n",
      "Type of qtomography: StandardQst\n",
      "Estimator: LinearEstimator\n"
     ]
    },
    {
     "name": "stderr",
     "output_type": "stream",
     "text": [
      "100%|██████████| 1000/1000 [00:11<00:00, 85.17it/s]\n",
      "  0%|          | 4/1000 [00:00<00:27, 36.55it/s]"
     ]
    },
    {
     "name": "stdout",
     "output_type": "stream",
     "text": [
      "elapsed_time:0.1957931359608968[min]\n",
      "\n",
      "Case 2: ProjectedLinear(True)\n",
      "Parametorization: True\n",
      "Type of qtomography: StandardQst\n",
      "Estimator: ProjectedLinearEstimator\n"
     ]
    },
    {
     "name": "stderr",
     "output_type": "stream",
     "text": [
      "100%|██████████| 1000/1000 [00:29<00:00, 34.21it/s]\n",
      "  0%|          | 5/1000 [00:00<00:22, 44.82it/s]"
     ]
    },
    {
     "name": "stdout",
     "output_type": "stream",
     "text": [
      "elapsed_time:0.48731619914372765[min]\n",
      "\n",
      "Case 3: ProjectedLinear(False)\n",
      "Parametorization: False\n",
      "Type of qtomography: StandardQst\n",
      "Estimator: ProjectedLinearEstimator\n"
     ]
    },
    {
     "name": "stderr",
     "output_type": "stream",
     "text": [
      "100%|██████████| 1000/1000 [00:22<00:00, 44.32it/s]\n",
      "  0%|          | 0/1000 [00:00<?, ?it/s]"
     ]
    },
    {
     "name": "stdout",
     "output_type": "stream",
     "text": [
      "elapsed_time:0.3761790990829468[min]\n",
      "\n",
      "Case 4: Maximum-Likelihood(True)\n",
      "Parametorization: True\n",
      "Type of qtomography: StandardQst\n",
      "Estimator: LossMinimizationEstimator\n"
     ]
    },
    {
     "name": "stderr",
     "output_type": "stream",
     "text": [
      "100%|██████████| 1000/1000 [09:54<00:00,  1.68it/s]\n",
      "  0%|          | 1/1000 [00:00<06:04,  2.74it/s]"
     ]
    },
    {
     "name": "stdout",
     "output_type": "stream",
     "text": [
      "elapsed_time:9.903420118490855[min]\n",
      "\n",
      "Case 5: Maximum-Likelihood(False)\n",
      "Parametorization: False\n",
      "Type of qtomography: StandardQst\n",
      "Estimator: LossMinimizationEstimator\n"
     ]
    },
    {
     "name": "stderr",
     "output_type": "stream",
     "text": [
      "100%|██████████| 1000/1000 [08:53<00:00,  1.88it/s]\n",
      "  0%|          | 1/1000 [00:00<01:45,  9.46it/s]"
     ]
    },
    {
     "name": "stdout",
     "output_type": "stream",
     "text": [
      "elapsed_time:8.888639851411183[min]\n",
      "\n",
      "Case 6: Least Squares(True)\n",
      "Parametorization: True\n",
      "Type of qtomography: StandardQst\n",
      "Estimator: LossMinimizationEstimator\n"
     ]
    },
    {
     "name": "stderr",
     "output_type": "stream",
     "text": [
      "100%|██████████| 1000/1000 [01:41<00:00,  9.82it/s]\n",
      "  0%|          | 1/1000 [00:00<02:10,  7.64it/s]"
     ]
    },
    {
     "name": "stdout",
     "output_type": "stream",
     "text": [
      "elapsed_time:1.6980049331982932[min]\n",
      "\n",
      "Case 7: Least Squares(False)\n",
      "Parametorization: False\n",
      "Type of qtomography: StandardQst\n",
      "Estimator: LossMinimizationEstimator\n"
     ]
    },
    {
     "name": "stderr",
     "output_type": "stream",
     "text": [
      "100%|██████████| 1000/1000 [02:29<00:00,  6.71it/s]\n"
     ]
    },
    {
     "name": "stdout",
     "output_type": "stream",
     "text": [
      "elapsed_time:2.4838359196980795[min]\n",
      "\n"
     ]
    }
   ],
   "source": [
    "num_data = [100, 1000]\n",
    "n_rep = 1000\n",
    "\n",
    "case_name_list = [\n",
    "    \"Linear(True)\",\n",
    "    \"Linear(False)\",\n",
    "    \"ProjectedLinear(True)\",\n",
    "    \"ProjectedLinear(False)\",\n",
    "    \"Maximum-Likelihood(True)\",\n",
    "    \"Maximum-Likelihood(False)\",\n",
    "    \"Least Squares(True)\",\n",
    "    \"Least Squares(False)\",\n",
    "]\n",
    "\n",
    "seed = 777\n",
    "qtomography_list = [\n",
    "    StandardQst(tester_objects, on_para_eq_constraint=True, seed=seed),\n",
    "    StandardQst(tester_objects, on_para_eq_constraint=False, seed=seed),\n",
    "    StandardQst(tester_objects, on_para_eq_constraint=True, seed=seed),\n",
    "    StandardQst(tester_objects, on_para_eq_constraint=False, seed=seed),\n",
    "    StandardQst(\n",
    "        tester_objects,\n",
    "        on_para_eq_constraint=True,\n",
    "        eps_proj_physical=Settings.get_atol(),\n",
    "        seed=seed,\n",
    "    ),\n",
    "    StandardQst(\n",
    "        tester_objects,\n",
    "        on_para_eq_constraint=False,\n",
    "        eps_proj_physical=Settings.get_atol(),\n",
    "        seed=seed,\n",
    "    ),\n",
    "    StandardQst(\n",
    "        tester_objects,\n",
    "        on_para_eq_constraint=True,\n",
    "        eps_proj_physical=Settings.get_atol(),\n",
    "        seed=seed,\n",
    "    ),\n",
    "    StandardQst(\n",
    "        tester_objects,\n",
    "        on_para_eq_constraint=False,\n",
    "        eps_proj_physical=Settings.get_atol(),\n",
    "        seed=seed,\n",
    "    ),\n",
    "]\n",
    "para_list = [\n",
    "    True,\n",
    "    False,\n",
    "    True,\n",
    "    False,\n",
    "    True,\n",
    "    False,\n",
    "    True,\n",
    "    False,\n",
    "]\n",
    "\n",
    "estimator_list = [\n",
    "    LinearEstimator(),\n",
    "    LinearEstimator(),\n",
    "    ProjectedLinearEstimator(),\n",
    "    ProjectedLinearEstimator(),\n",
    "    LossMinimizationEstimator(),\n",
    "    LossMinimizationEstimator(),\n",
    "    LossMinimizationEstimator(),\n",
    "    LossMinimizationEstimator(),\n",
    "]\n",
    "\n",
    "loss_list = [\n",
    "    None,\n",
    "    None,\n",
    "    None,\n",
    "    None,\n",
    "    WeightedRelativeEntropy(3),\n",
    "    WeightedRelativeEntropy(4),\n",
    "    WeightedProbabilityBasedSquaredError(3),\n",
    "    WeightedProbabilityBasedSquaredError(4),\n",
    "]\n",
    "\n",
    "loss_option_list = [\n",
    "    None,\n",
    "    None,\n",
    "    None,\n",
    "    None,\n",
    "    WeightedRelativeEntropyOption(\"identity\"),\n",
    "    WeightedRelativeEntropyOption(\"identity\"),\n",
    "    WeightedProbabilityBasedSquaredErrorOption(\"identity\"),\n",
    "    WeightedProbabilityBasedSquaredErrorOption(\"identity\"),\n",
    "]\n",
    "\n",
    "algo_list = [\n",
    "    None,\n",
    "    None,\n",
    "    None,\n",
    "    None,\n",
    "    ProjectedGradientDescentBacktracking(),\n",
    "    ProjectedGradientDescentBacktracking(),\n",
    "    ProjectedGradientDescentBacktracking(),\n",
    "    ProjectedGradientDescentBacktracking(),\n",
    "]\n",
    "\n",
    "algo_option_list = [\n",
    "    None,\n",
    "    None,\n",
    "    None,\n",
    "    None,\n",
    "    ProjectedGradientDescentBacktrackingOption(),\n",
    "    ProjectedGradientDescentBacktrackingOption(),\n",
    "    ProjectedGradientDescentBacktrackingOption(),\n",
    "    ProjectedGradientDescentBacktrackingOption(),\n",
    "]\n",
    "\n",
    "estimation_results_list = []\n",
    "elapsed_times = []\n",
    "simulation_settings = []\n",
    "\n",
    "for i, name in enumerate(case_name_list):\n",
    "    qtomography = qtomography_list[i]\n",
    "    estimator = estimator_list[i]\n",
    "    loss = loss_list[i]\n",
    "    loss_option = loss_option_list[i]\n",
    "    algo = algo_list[i]\n",
    "    algo_option = algo_option_list[i]\n",
    "\n",
    "    start = time.time()\n",
    "    print(f\"Case {i}: {name}\")\n",
    "    print(f\"Parametorization: {para_list[i]}\")\n",
    "    print(f\"Type of qtomography: {qtomography.__class__.__name__}\")\n",
    "    print(f\"Estimator: {estimator.__class__.__name__}\")\n",
    "\n",
    "    estimation_results = data_analysis.execute_simulation(qtomography=qtomography, simulation_setting=simulation_setting)\n",
    "    estimation_results_list.append(estimation_results)\n",
    "\n",
    "    # stock settings of this simulation\n",
    "    simulation_setting = StandardQTomographySimulationSetting(\n",
    "        name=name,\n",
    "        true_object=true_object,\n",
    "        tester_objects=tester_objects,\n",
    "        estimator=estimator,\n",
    "        loss=loss,\n",
    "        loss_option=loss_option,\n",
    "        algo=algo,\n",
    "        algo_option=algo_option,\n",
    "    )\n",
    "    simulation_settings.append(simulation_setting)\n",
    "\n",
    "    elapsed_time = time.time() - start\n",
    "    print(\"elapsed_time:{0}\".format(elapsed_time / 60) + \"[min]\\n\")\n",
    "    elapsed_times.append(elapsed_time)"
   ]
  },
  {
   "cell_type": "code",
   "execution_count": 9,
   "metadata": {
    "scrolled": false,
    "tags": [
     "outputPrepend"
    ]
   },
   "outputs": [
    {
     "name": "stdout",
     "output_type": "stream",
     "text": [
      "​Generating table of computation time ...\n",
      "​Generating table of tolerance of physicality constraint violation ...\n",
      "​Generating table of experimental conditions ...\n",
      "Generating case list ...\n",
      "Computation time of estimators ...\n"
     ]
    },
    {
     "name": "stderr",
     "output_type": "stream",
     "text": [
      "100%|██████████| 1000/1000 [00:00<00:00, 115370.76it/s]\n",
      "100%|██████████| 1000/1000 [00:00<00:00, 175405.82it/s]"
     ]
    },
    {
     "name": "stdout",
     "output_type": "stream",
     "text": [
      "​​Generating MSE of empirical distributions blocks ...\n"
     ]
    },
    {
     "name": "stderr",
     "output_type": "stream",
     "text": [
      "\n"
     ]
    },
    {
     "name": "stdout",
     "output_type": "stream",
     "text": [
      "​​Generating consictency test blocks ...\n",
      "​Generating a graph for MSE ...\n",
      "  Linear(True)=[0.009929648467459593, 0.0010292166444478218]\n",
      "  Linear(False)=[0.009930903279026853, 0.0010002055818730709]\n",
      "  ProjectedLinear(True)=[0.007628986960280322, 0.0008336141767192117]\n",
      "  ProjectedLinear(False)=[0.00773715441575743, 0.000816657724263995]\n",
      "  Maximum-Likelihood(True)=[0.008499421341326589, 0.0008414304279898206]\n",
      "  Maximum-Likelihood(False)=[0.008167519972991207, 0.0008395604755059923]\n",
      "  Least Squares(True)=[0.007995055665783955, 0.0007773434372293063]\n",
      "  Least Squares(False)=[0.007853440311890569, 0.0008198814867697979]\n",
      "  Linear(True)=[0.009929648467459593, 0.0010292166444478218]\n",
      "  ProjectedLinear(True)=[0.007628986960280322, 0.0008336141767192117]\n",
      "  Maximum-Likelihood(True)=[0.008499421341326589, 0.0008414304279898206]\n",
      "  Least Squares(True)=[0.007995055665783955, 0.0007773434372293063]\n",
      "  Linear(False)=[0.009930903279026853, 0.0010002055818730709]\n",
      "  ProjectedLinear(False)=[0.00773715441575743, 0.000816657724263995]\n",
      "  Maximum-Likelihood(False)=[0.008167519972991207, 0.0008395604755059923]\n",
      "  Least Squares(False)=[0.007853440311890569, 0.0008198814867697979]\n",
      "​​Generating physicality violation test blocks ...\n"
     ]
    },
    {
     "name": "stderr",
     "output_type": "stream",
     "text": [
      "100%|██████████| 1000/1000 [00:00<00:00, 7262.76it/s]\n",
      "100%|██████████| 1000/1000 [00:00<00:00, 6944.44it/s]\n",
      "100%|██████████| 1000/1000 [00:00<00:00, 5896.51it/s]\n",
      "100%|██████████| 1000/1000 [00:00<00:00, 7087.88it/s]\n",
      "100%|██████████| 1000/1000 [00:00<00:00, 7186.29it/s]\n",
      "100%|██████████| 1000/1000 [00:00<00:00, 5714.61it/s]\n",
      "100%|██████████| 1000/1000 [00:00<00:00, 7743.10it/s]\n",
      "100%|██████████| 1000/1000 [00:00<00:00, 6890.46it/s]\n",
      "100%|██████████| 1000/1000 [00:00<00:00, 6966.41it/s]\n",
      "100%|██████████| 1000/1000 [00:00<00:00, 6933.86it/s]\n",
      "100%|██████████| 1000/1000 [00:00<00:00, 6446.94it/s]\n",
      "100%|██████████| 1000/1000 [00:00<00:00, 7538.23it/s]\n",
      "100%|██████████| 1000/1000 [00:00<00:00, 6593.95it/s]\n",
      "100%|██████████| 1000/1000 [00:00<00:00, 7186.69it/s]\n",
      "100%|██████████| 1000/1000 [00:00<00:00, 6653.80it/s]\n",
      "100%|██████████| 1000/1000 [00:00<00:00, 6797.59it/s]\n",
      "100%|██████████| 1000/1000 [00:00<00:00, 7767.72it/s]\n",
      "100%|██████████| 1000/1000 [00:00<00:00, 8169.26it/s]\n",
      "100%|██████████| 1000/1000 [00:00<00:00, 8313.19it/s]\n",
      "100%|██████████| 1000/1000 [00:00<00:00, 8010.07it/s]\n",
      "100%|██████████| 1000/1000 [00:00<00:00, 7927.63it/s]\n",
      "100%|██████████| 1000/1000 [00:00<00:00, 3514.35it/s]\n",
      "100%|██████████| 1000/1000 [00:00<00:00, 6781.40it/s]\n",
      "100%|██████████| 1000/1000 [00:00<00:00, 6451.83it/s]\n",
      "100%|██████████| 1000/1000 [00:00<00:00, 8903.38it/s]\n",
      "100%|██████████| 1000/1000 [00:00<00:00, 7477.20it/s]\n",
      "100%|██████████| 1000/1000 [00:00<00:00, 8104.26it/s]\n",
      "100%|██████████| 1000/1000 [00:00<00:00, 8539.07it/s]\n",
      "100%|██████████| 1000/1000 [00:00<00:00, 8483.42it/s]\n",
      "100%|██████████| 1000/1000 [00:00<00:00, 9094.31it/s]\n",
      "100%|██████████| 1000/1000 [00:00<00:00, 8935.59it/s]\n",
      "100%|██████████| 1000/1000 [00:00<00:00, 8011.74it/s]\n"
     ]
    },
    {
     "name": "stdout",
     "output_type": "stream",
     "text": [
      "Converting to PDF report ...\n",
      "​Deleting temporary files ...\n",
      "Completed to export pdf. (qst_sample_case_2_軸から離れた表面_nrep=1000.pdf)\n"
     ]
    }
   ],
   "source": [
    "case_name = \"case_2_軸から離れた表面\"\n",
    "report.export_report(f\"qst_sample_{case_name}_nrep={n_rep}.pdf\",\n",
    "    estimation_results_list=estimation_results_list,   # 「EstimationResultのリスト」のリスト\n",
    "    simulation_settings= simulation_settings,\n",
    "    # true_object=true_object,  # True Object\n",
    "    # tester_objects = tester_objects,   # Tester Objectのリスト.\n",
    "    seed=seed,  # 推定で使ったseed（オプション）\n",
    "    tolerance=Settings.get_atol()\n",
    ")"
   ]
  },
  {
   "cell_type": "code",
   "execution_count": 10,
   "metadata": {},
   "outputs": [],
   "source": [
    "from quara.data_analysis.simulation_check import StandardQTomographySimulationCheck"
   ]
  },
  {
   "cell_type": "code",
   "execution_count": 12,
   "metadata": {},
   "outputs": [
    {
     "name": "stderr",
     "output_type": "stream",
     "text": [
      "100%|██████████| 1000/1000 [00:00<00:00, 88252.83it/s]\n",
      "100%|██████████| 1000/1000 [00:00<00:00, 183718.97it/s]\n",
      "/Users/tomoko/project/rcast/workspace/quara/quara/data_analysis/simulation_check.py:122: UserWarning:\n",
      "\n",
      "Estimator MSE is not checked except for LinearEstimator, ProjectedLinearEstimator, Maximum-likelihood.\n",
      "\n"
     ]
    },
    {
     "name": "stdout",
     "output_type": "stream",
     "text": [
      "[OK] N=100\n",
      "|MSE_EmpiDist - MSE_Analytical| = 4.203786964071532e-06\n",
      "eps = 0.024565513539877085\n",
      "[OK] N=1000\n",
      "|MSE_EmpiDist - MSE_Analytical| = 3.503762214336105e-06\n",
      "eps = 0.0024231444828227097\n",
      "[OK] Consistency Check\n",
      "result=1.9036745341808358e-16\n",
      "eps=1e-12\n",
      "result < eps: True\n",
      "[OK] N=100 is_eq_constraint_satisfied_all\n",
      "True=1000, False=0, eps=1e-13\n",
      "[OK] N=1000 is_eq_constraint_satisfied_all\n",
      "True=1000, False=0, eps=1e-13\n",
      "[OK] N=100 is_ineq_constraint_satisfied_all\n",
      "True=1000, False=0, eps=1e-09\n",
      "[OK] N=1000 is_ineq_constraint_satisfied_all\n",
      "True=1000, False=0, eps=1e-09\n",
      "========== Summary ============\n",
      "Name: Least Squares(False)\n",
      "MSE of Empirical Distributions: \u001b[32mOK\u001b[0m\n",
      "Consistency: \u001b[32mOK\u001b[0m\n",
      "MSE of estimators: \u001b[32mOK\u001b[0m\n",
      "Physicality Violation: \u001b[32mOK\u001b[0m\n"
     ]
    },
    {
     "data": {
      "text/plain": [
       "True"
      ]
     },
     "execution_count": 12,
     "metadata": {},
     "output_type": "execute_result"
    }
   ],
   "source": [
    "i = 7\n",
    "sim_check = StandardQTomographySimulationCheck(simulation_settings[i], estimation_results_list[i])\n",
    "sim_check. execute_all()"
   ]
  },
  {
   "cell_type": "code",
   "execution_count": 16,
   "metadata": {
    "scrolled": false
   },
   "outputs": [
    {
     "name": "stderr",
     "output_type": "stream",
     "text": [
      "100%|██████████| 1000/1000 [00:00<00:00, 155736.82it/s]\n",
      "100%|██████████| 1000/1000 [00:00<00:00, 179044.82it/s]"
     ]
    },
    {
     "name": "stdout",
     "output_type": "stream",
     "text": [
      "Case 0: Linear(True)\n",
      "[OK] N=100\n",
      "|MSE_EmpiDist - MSE_Analytical| = 7.035153254041429e-05\n",
      "eps = 0.024438329256302023\n",
      "[OK] N=1000\n",
      "|MSE_EmpiDist - MSE_Analytical| = 2.9216644447820506e-05\n",
      "eps = 0.002518294321219499\n",
      "[OK] Consistency Check\n",
      "result=9.244463733058732e-33\n",
      "eps=1e-16\n",
      "result < eps: True\n"
     ]
    },
    {
     "name": "stderr",
     "output_type": "stream",
     "text": [
      "\n"
     ]
    },
    {
     "name": "stdout",
     "output_type": "stream",
     "text": [
      "[OK] N=100\n",
      "|MSE_Linear - MSE_Analytical| = 7.035153254040562e-05\n",
      "eps = 0.024438329256302037\n",
      "[OK] N=1000\n",
      "|MSE_Linear - MSE_Analytical| = 2.9216644447821807e-05\n",
      "eps = 0.0025182943212194997\n",
      "[OK] N=100 is_eq_constraint_satisfied_all\n",
      "True=1000, False=0, eps=1e-13\n"
     ]
    },
    {
     "name": "stderr",
     "output_type": "stream",
     "text": [
      "100%|██████████| 1000/1000 [00:00<00:00, 147080.83it/s]\n",
      "100%|██████████| 1000/1000 [00:00<00:00, 145585.01it/s]"
     ]
    },
    {
     "name": "stdout",
     "output_type": "stream",
     "text": [
      "[OK] N=1000 is_eq_constraint_satisfied_all\n",
      "True=1000, False=0, eps=1e-13\n",
      "========== Summary ============\n",
      "Name: Linear(True)\n",
      "MSE of Empirical Distributions: \u001b[32mOK\u001b[0m\n",
      "Consistency: \u001b[32mOK\u001b[0m\n",
      "MSE of estimators: \u001b[32mOK\u001b[0m\n",
      "Physicality Violation: \u001b[32mOK\u001b[0m\n",
      "==============================\n",
      "\n",
      "Case 1: Linear(False)\n",
      "[OK] N=100\n",
      "|MSE_EmpiDist - MSE_Analytical| = 6.90967209731521e-05\n",
      "eps = 0.024780023013208464"
     ]
    },
    {
     "name": "stderr",
     "output_type": "stream",
     "text": [
      "\n",
      "100%|██████████| 1000/1000 [00:00<00:00, 149226.31it/s]\n",
      "100%|██████████| 1000/1000 [00:00<00:00, 187304.25it/s]"
     ]
    },
    {
     "name": "stdout",
     "output_type": "stream",
     "text": [
      "\n",
      "[OK] N=1000\n",
      "|MSE_EmpiDist - MSE_Analytical| = 2.0558187307064338e-07\n",
      "eps = 0.002526170348182633\n",
      "[OK] Consistency Check\n",
      "result=5.854827030937197e-32\n",
      "eps=1e-12\n",
      "result < eps: True\n",
      "[OK] N=100\n",
      "|MSE_Linear - MSE_Analytical| = 6.90967209731469e-05\n",
      "eps = 0.02478002301320848\n",
      "[OK] N=1000\n",
      "|MSE_Linear - MSE_Analytical| = 2.0558187307086022e-07\n",
      "eps = 0.0025261703481826332\n",
      "[Skipped] Physicality Violation Check \n",
      "If on_para_eq_constraint is False in Linear Estimator, nothing is checked.\n",
      "========== Summary ============\n",
      "Name: Linear(False)\n",
      "MSE of Empirical Distributions: \u001b[32mOK\u001b[0m\n",
      "Consistency: \u001b[32mOK\u001b[0m\n",
      "MSE of estimators: \u001b[32mOK\u001b[0m\n",
      "Physicality Violation: \u001b[32mOK\u001b[0m\n",
      "==============================\n",
      "\n",
      "Case 2: ProjectedLinear(True)\n"
     ]
    },
    {
     "name": "stderr",
     "output_type": "stream",
     "text": [
      "\n"
     ]
    },
    {
     "name": "stdout",
     "output_type": "stream",
     "text": [
      "[OK] N=100\n",
      "|MSE_EmpiDist - MSE_Analytical| = 0.0002656916402162656\n",
      "eps = 0.023739528916614135\n",
      "[OK] N=1000\n",
      "|MSE_EmpiDist - MSE_Analytical| = 3.8032198366995482e-06\n",
      "eps = 0.0024782623094876223\n",
      "[OK] Consistency Check\n",
      "result=5.238529448733282e-32\n",
      "eps=1e-16\n",
      "result < eps: True\n"
     ]
    },
    {
     "name": "stderr",
     "output_type": "stream",
     "text": [
      "100%|██████████| 1000/1000 [00:13<00:00, 73.42it/s]\n"
     ]
    },
    {
     "name": "stdout",
     "output_type": "stream",
     "text": [
      "[OK] N=100\n",
      "MSE_Linear - MSE_ProjectedLinearEstimator = 0.0027351366417740835\n",
      "[OK] N=1000\n",
      "MSE_Linear - MSE_ProjectedLinearEstimator = 0.00019374827526591964\n",
      "[NG] N=100 physicality violation check\n",
      "True=472, False=528\n"
     ]
    },
    {
     "name": "stderr",
     "output_type": "stream",
     "text": [
      "100%|██████████| 1000/1000 [00:00<00:00, 315361.20it/s]\n",
      "100%|██████████| 1000/1000 [00:00<00:00, 158604.80it/s]"
     ]
    },
    {
     "name": "stdout",
     "output_type": "stream",
     "text": [
      "[NG] N=1000 physicality violation check\n",
      "True=492, False=508\n",
      "========== Summary ============\n",
      "Name: ProjectedLinear(True)\n",
      "MSE of Empirical Distributions: \u001b[32mOK\u001b[0m\n",
      "Consistency: \u001b[32mOK\u001b[0m\n",
      "MSE of estimators: \u001b[32mOK\u001b[0m\n",
      "Physicality Violation: \u001b[31mNG\u001b[0m\n",
      "==============================\n",
      "\n",
      "Case 3: ProjectedLinear(False)\n",
      "[OK] N=100\n",
      "|MSE_EmpiDist - MSE_Analytical| = 0.00017617003861691155\n",
      "eps = 0.023964461224460797\n",
      "[OK] N=1000\n",
      "|MSE_EmpiDist - MSE_Analytical| = 1.47467936385654e-05\n",
      "eps = 0.002574550971651787\n",
      "[OK] Consistency Check\n",
      "result=5.238529448733282e-32\n",
      "eps=1e-12\n",
      "result < eps: True\n"
     ]
    },
    {
     "name": "stderr",
     "output_type": "stream",
     "text": [
      "\n",
      "100%|██████████| 1000/1000 [00:13<00:00, 71.68it/s]\n"
     ]
    },
    {
     "name": "stdout",
     "output_type": "stream",
     "text": [
      "[OK] N=100\n",
      "MSE_Linear - MSE_ProjectedLinearEstimator = 0.0024783495699316534\n",
      "[OK] N=1000\n",
      "MSE_Linear - MSE_ProjectedLinearEstimator = 0.00016516973716644838\n",
      "[OK] N=100 physicality violation check\n",
      "True=1000, False=0\n"
     ]
    },
    {
     "name": "stderr",
     "output_type": "stream",
     "text": [
      "100%|██████████| 1000/1000 [00:00<00:00, 213342.01it/s]\n",
      "100%|██████████| 1000/1000 [00:00<00:00, 201088.50it/s]"
     ]
    },
    {
     "name": "stdout",
     "output_type": "stream",
     "text": [
      "[OK] N=1000 physicality violation check\n",
      "True=1000, False=0\n",
      "========== Summary ============\n",
      "Name: ProjectedLinear(False)\n",
      "MSE of Empirical Distributions: \u001b[32mOK\u001b[0m\n",
      "Consistency: \u001b[32mOK\u001b[0m\n",
      "MSE of estimators: \u001b[32mOK\u001b[0m\n",
      "Physicality Violation: \u001b[32mOK\u001b[0m\n",
      "==============================\n",
      "\n",
      "Case 4: Maximum-Likelihood(True)\n",
      "[OK] N=100\n",
      "|MSE_EmpiDist - MSE_Analytical| = 1.6916337338477097e-05\n",
      "eps = 0.024467096259825093\n",
      "[OK] N=1000\n",
      "|MSE_EmpiDist - MSE_Analytical| = 5.49530597737961e-06\n",
      "eps = 0.0024515710599886152\n"
     ]
    },
    {
     "name": "stderr",
     "output_type": "stream",
     "text": [
      "\n",
      "  0%|          | 0/1000 [00:00<?, ?it/s]"
     ]
    },
    {
     "name": "stdout",
     "output_type": "stream",
     "text": [
      "[OK] Consistency Check\n",
      "result=3.924862235585917e-18\n",
      "eps=1e-16\n",
      "result < eps: True\n"
     ]
    },
    {
     "name": "stderr",
     "output_type": "stream",
     "text": [
      "100%|██████████| 1000/1000 [00:13<00:00, 75.33it/s]\n"
     ]
    },
    {
     "name": "stdout",
     "output_type": "stream",
     "text": [
      "[OK] N=100\n",
      "MSE_Linear - MSE_LossMinimizationEstimator = 0.0016760082499602327\n",
      "[OK] N=1000\n",
      "MSE_Linear - MSE_LossMinimizationEstimator = 0.0002007685044751172\n",
      "[OK] N=100 is_eq_constraint_satisfied_all\n",
      "True=1000, False=0, eps=1e-13\n",
      "[OK] N=1000 is_eq_constraint_satisfied_all\n",
      "True=1000, False=0, eps=1e-13\n",
      "[NG] N=100 is_ineq_constraint_satisfied_all\n",
      "True=455, False=545, eps=1e-09\n"
     ]
    },
    {
     "name": "stderr",
     "output_type": "stream",
     "text": [
      "100%|██████████| 1000/1000 [00:00<00:00, 368892.17it/s]\n",
      "100%|██████████| 1000/1000 [00:00<00:00, 192894.78it/s]"
     ]
    },
    {
     "name": "stdout",
     "output_type": "stream",
     "text": [
      "[NG] N=1000 is_ineq_constraint_satisfied_all\n",
      "True=516, False=484, eps=1e-09\n",
      "========== Summary ============\n",
      "Name: Maximum-Likelihood(True)\n",
      "MSE of Empirical Distributions: \u001b[32mOK\u001b[0m\n",
      "Consistency: \u001b[32mOK\u001b[0m\n",
      "MSE of estimators: \u001b[32mOK\u001b[0m\n",
      "Physicality Violation: \u001b[31mNG\u001b[0m\n",
      "==============================\n",
      "\n",
      "Case 5: Maximum-Likelihood(False)\n",
      "[OK] N=100\n",
      "|MSE_EmpiDist - MSE_Analytical| = 0.00019966115567494024\n",
      "eps = 0.02337375189147569\n",
      "[OK] N=1000\n",
      "|MSE_EmpiDist - MSE_Analytical| = 1.258107715041432e-05\n",
      "eps = 0.0024959934838174333\n"
     ]
    },
    {
     "name": "stderr",
     "output_type": "stream",
     "text": [
      "\n",
      "  1%|          | 8/1000 [00:00<00:13, 70.95it/s]"
     ]
    },
    {
     "name": "stdout",
     "output_type": "stream",
     "text": [
      "[OK] Consistency Check\n",
      "result=9.868649083067027e-15\n",
      "eps=1e-12\n",
      "result < eps: True\n"
     ]
    },
    {
     "name": "stderr",
     "output_type": "stream",
     "text": [
      "100%|██████████| 1000/1000 [00:13<00:00, 72.63it/s]\n"
     ]
    },
    {
     "name": "stdout",
     "output_type": "stream",
     "text": [
      "[OK] N=100\n",
      "MSE_Linear - MSE_LossMinimizationEstimator = 0.00194387802346546\n",
      "[OK] N=1000\n",
      "MSE_Linear - MSE_LossMinimizationEstimator = 0.0001763149765107064\n",
      "[OK] N=100 is_eq_constraint_satisfied_all\n",
      "True=1000, False=0, eps=1e-13\n",
      "[OK] N=1000 is_eq_constraint_satisfied_all\n",
      "True=1000, False=0, eps=1e-13\n",
      "[OK] N=100 is_ineq_constraint_satisfied_all\n",
      "True=1000, False=0, eps=1e-09\n"
     ]
    },
    {
     "name": "stderr",
     "output_type": "stream",
     "text": [
      "100%|██████████| 1000/1000 [00:00<00:00, 292898.32it/s]\n",
      "100%|██████████| 1000/1000 [00:00<00:00, 169693.09it/s]"
     ]
    },
    {
     "name": "stdout",
     "output_type": "stream",
     "text": [
      "[OK] N=1000 is_ineq_constraint_satisfied_all\n",
      "True=1000, False=0, eps=1e-09\n",
      "========== Summary ============\n",
      "Name: Maximum-Likelihood(False)\n",
      "MSE of Empirical Distributions: \u001b[32mOK\u001b[0m\n",
      "Consistency: \u001b[32mOK\u001b[0m\n",
      "MSE of estimators: \u001b[32mOK\u001b[0m\n",
      "Physicality Violation: \u001b[32mOK\u001b[0m\n",
      "==============================\n",
      "\n",
      "Case 6: Least Squares(True)\n",
      "[OK] N=100\n",
      "|MSE_EmpiDist - MSE_Analytical| = 5.754389463992135e-05\n",
      "eps = 0.02513353725306941\n",
      "[OK] N=1000\n",
      "|MSE_EmpiDist - MSE_Analytical| = 3.448835016838685e-05\n",
      "eps = 0.0022668045008586227\n",
      "[OK] Consistency Check\n",
      "result=3.124241743362158e-17\n",
      "eps=1e-16\n",
      "result < eps: True\n"
     ]
    },
    {
     "name": "stderr",
     "output_type": "stream",
     "text": [
      "\n",
      "/Users/tomoko/project/rcast/workspace/quara/quara/data_analysis/simulation_check.py:122: UserWarning:\n",
      "\n",
      "Estimator MSE is not checked except for LinearEstimator, ProjectedLinearEstimator, Maximum-likelihood.\n",
      "\n"
     ]
    },
    {
     "name": "stdout",
     "output_type": "stream",
     "text": [
      "[OK] N=100 is_eq_constraint_satisfied_all\n",
      "True=1000, False=0, eps=1e-13\n",
      "[OK] N=1000 is_eq_constraint_satisfied_all\n",
      "True=1000, False=0, eps=1e-13\n",
      "[NG] N=100 is_ineq_constraint_satisfied_all\n",
      "True=439, False=561, eps=1e-09\n"
     ]
    },
    {
     "name": "stderr",
     "output_type": "stream",
     "text": [
      "100%|██████████| 1000/1000 [00:00<00:00, 375094.26it/s]\n",
      "100%|██████████| 1000/1000 [00:00<00:00, 197816.54it/s]"
     ]
    },
    {
     "name": "stdout",
     "output_type": "stream",
     "text": [
      "[NG] N=1000 is_ineq_constraint_satisfied_all\n",
      "True=472, False=528, eps=1e-09\n",
      "========== Summary ============\n",
      "Name: Least Squares(True)\n",
      "MSE of Empirical Distributions: \u001b[32mOK\u001b[0m\n",
      "Consistency: \u001b[32mOK\u001b[0m\n",
      "MSE of estimators: \u001b[32mOK\u001b[0m\n",
      "Physicality Violation: \u001b[31mNG\u001b[0m\n",
      "==============================\n",
      "\n",
      "Case 7: Least Squares(False)\n",
      "[OK] N=100\n",
      "|MSE_EmpiDist - MSE_Analytical| = 4.203786964071532e-06\n",
      "eps = 0.024565513539877085\n",
      "[OK] N=1000\n",
      "|MSE_EmpiDist - MSE_Analytical| = 3.503762214336105e-06\n",
      "eps = 0.0024231444828227097\n",
      "[OK] Consistency Check\n",
      "result=1.9036745341808358e-16\n",
      "eps=1e-12\n",
      "result < eps: True\n"
     ]
    },
    {
     "name": "stderr",
     "output_type": "stream",
     "text": [
      "\n"
     ]
    },
    {
     "name": "stdout",
     "output_type": "stream",
     "text": [
      "[OK] N=100 is_eq_constraint_satisfied_all\n",
      "True=1000, False=0, eps=1e-13\n",
      "[OK] N=1000 is_eq_constraint_satisfied_all\n",
      "True=1000, False=0, eps=1e-13\n",
      "[OK] N=100 is_ineq_constraint_satisfied_all\n",
      "True=1000, False=0, eps=1e-09\n",
      "[OK] N=1000 is_ineq_constraint_satisfied_all\n",
      "True=1000, False=0, eps=1e-09\n",
      "========== Summary ============\n",
      "Name: Least Squares(False)\n",
      "MSE of Empirical Distributions: \u001b[32mOK\u001b[0m\n",
      "Consistency: \u001b[32mOK\u001b[0m\n",
      "MSE of estimators: \u001b[32mOK\u001b[0m\n",
      "Physicality Violation: \u001b[32mOK\u001b[0m\n",
      "==============================\n",
      "\n"
     ]
    }
   ],
   "source": [
    "from quara.data_analysis.simulation_check import StandardQTomographySimulationCheck\n",
    "\n",
    "results = []\n",
    "for i in range(len(simulation_settings)):\n",
    "    sim_check = StandardQTomographySimulationCheck(simulation_settings[i], estimation_results_list[i])\n",
    "    print(f\"Case {i}: {simulation_settings[i].name}\")\n",
    "    result = sim_check.execute_all()\n",
    "    results.append(result)\n",
    "    print(\"==============================\")\n",
    "    print()"
   ]
  },
  {
   "cell_type": "code",
   "execution_count": 22,
   "metadata": {},
   "outputs": [],
   "source": [
    "from quara.objects.gate import get_depolarizing_channel"
   ]
  },
  {
   "cell_type": "code",
   "execution_count": null,
   "metadata": {},
   "outputs": [],
   "source": []
  },
  {
   "cell_type": "code",
   "execution_count": 54,
   "metadata": {},
   "outputs": [
    {
     "name": "stdout",
     "output_type": "stream",
     "text": [
      "id(c_sys)=4810395856\n",
      "id(gate.composite_system)=4810395856\n"
     ]
    },
    {
     "data": {
      "text/plain": [
       "array([[1. , 0. , 0. , 0. ],\n",
       "       [0. , 0.9, 0. , 0. ],\n",
       "       [0. , 0. , 0.9, 0. ],\n",
       "       [0. , 0. , 0. , 0.9]])"
      ]
     },
     "execution_count": 54,
     "metadata": {},
     "output_type": "execute_result"
    }
   ],
   "source": [
    "e_sys = ElementalSystem(0, get_normalized_pauli_basis())\n",
    "c_sys = CompositeSystem([e_sys])\n",
    "\n",
    "actual = get_depolarizing_channel(0.1, c_sys)\n",
    "actual.hs"
   ]
  },
  {
   "cell_type": "code",
   "execution_count": 57,
   "metadata": {},
   "outputs": [
    {
     "data": {
      "text/plain": [
       "True"
      ]
     },
     "execution_count": 57,
     "metadata": {},
     "output_type": "execute_result"
    }
   ],
   "source": [
    "actual.composite_system is c_sys"
   ]
  },
  {
   "cell_type": "code",
   "execution_count": 55,
   "metadata": {},
   "outputs": [
    {
     "data": {
      "text/plain": [
       "4810395856"
      ]
     },
     "execution_count": 55,
     "metadata": {},
     "output_type": "execute_result"
    }
   ],
   "source": [
    "id(c_sys)"
   ]
  },
  {
   "cell_type": "code",
   "execution_count": 56,
   "metadata": {},
   "outputs": [
    {
     "data": {
      "text/plain": [
       "4810395856"
      ]
     },
     "execution_count": 56,
     "metadata": {},
     "output_type": "execute_result"
    }
   ],
   "source": [
    "id(actual.composite_system)"
   ]
  },
  {
   "cell_type": "code",
   "execution_count": 51,
   "metadata": {},
   "outputs": [
    {
     "data": {
      "text/plain": [
       "4682089616"
      ]
     },
     "execution_count": 51,
     "metadata": {},
     "output_type": "execute_result"
    }
   ],
   "source": [
    "id(a.composite_system.elemental_systems[0])"
   ]
  },
  {
   "cell_type": "code",
   "execution_count": 52,
   "metadata": {},
   "outputs": [
    {
     "data": {
      "text/plain": [
       "4811143776"
      ]
     },
     "execution_count": 52,
     "metadata": {},
     "output_type": "execute_result"
    }
   ],
   "source": [
    "id(c_sys.elemental_systems[0])"
   ]
  },
  {
   "cell_type": "code",
   "execution_count": 58,
   "metadata": {},
   "outputs": [],
   "source": [
    "e_sys_1 = ElementalSystem(0, get_normalized_pauli_basis())\n",
    "e_sys_2 = ElementalSystem(1, get_normalized_pauli_basis())\n",
    "c_sys_2q = CompositeSystem([e_sys_1, e_sys_2])"
   ]
  },
  {
   "cell_type": "code",
   "execution_count": 59,
   "metadata": {},
   "outputs": [],
   "source": [
    "actual = get_depolarizing_channel(0.1, c_sys_2q)"
   ]
  },
  {
   "cell_type": "code",
   "execution_count": 64,
   "metadata": {},
   "outputs": [
    {
     "data": {
      "text/plain": [
       "4"
      ]
     },
     "execution_count": 64,
     "metadata": {},
     "output_type": "execute_result"
    }
   ],
   "source": [
    "c_sys_2q.dim"
   ]
  },
  {
   "cell_type": "code",
   "execution_count": 67,
   "metadata": {},
   "outputs": [
    {
     "data": {
      "text/plain": [
       "array([[1. , 0. , 0. , 0. , 0. , 0. , 0. , 0. , 0. , 0. , 0. , 0. , 0. ,\n",
       "        0. , 0. , 0. ],\n",
       "       [0. , 0.9, 0. , 0. , 0. , 0. , 0. , 0. , 0. , 0. , 0. , 0. , 0. ,\n",
       "        0. , 0. , 0. ],\n",
       "       [0. , 0. , 0.9, 0. , 0. , 0. , 0. , 0. , 0. , 0. , 0. , 0. , 0. ,\n",
       "        0. , 0. , 0. ],\n",
       "       [0. , 0. , 0. , 0.9, 0. , 0. , 0. , 0. , 0. , 0. , 0. , 0. , 0. ,\n",
       "        0. , 0. , 0. ],\n",
       "       [0. , 0. , 0. , 0. , 0.9, 0. , 0. , 0. , 0. , 0. , 0. , 0. , 0. ,\n",
       "        0. , 0. , 0. ],\n",
       "       [0. , 0. , 0. , 0. , 0. , 0.9, 0. , 0. , 0. , 0. , 0. , 0. , 0. ,\n",
       "        0. , 0. , 0. ],\n",
       "       [0. , 0. , 0. , 0. , 0. , 0. , 0.9, 0. , 0. , 0. , 0. , 0. , 0. ,\n",
       "        0. , 0. , 0. ],\n",
       "       [0. , 0. , 0. , 0. , 0. , 0. , 0. , 0.9, 0. , 0. , 0. , 0. , 0. ,\n",
       "        0. , 0. , 0. ],\n",
       "       [0. , 0. , 0. , 0. , 0. , 0. , 0. , 0. , 0.9, 0. , 0. , 0. , 0. ,\n",
       "        0. , 0. , 0. ],\n",
       "       [0. , 0. , 0. , 0. , 0. , 0. , 0. , 0. , 0. , 0.9, 0. , 0. , 0. ,\n",
       "        0. , 0. , 0. ],\n",
       "       [0. , 0. , 0. , 0. , 0. , 0. , 0. , 0. , 0. , 0. , 0.9, 0. , 0. ,\n",
       "        0. , 0. , 0. ],\n",
       "       [0. , 0. , 0. , 0. , 0. , 0. , 0. , 0. , 0. , 0. , 0. , 0.9, 0. ,\n",
       "        0. , 0. , 0. ],\n",
       "       [0. , 0. , 0. , 0. , 0. , 0. , 0. , 0. , 0. , 0. , 0. , 0. , 0.9,\n",
       "        0. , 0. , 0. ],\n",
       "       [0. , 0. , 0. , 0. , 0. , 0. , 0. , 0. , 0. , 0. , 0. , 0. , 0. ,\n",
       "        0.9, 0. , 0. ],\n",
       "       [0. , 0. , 0. , 0. , 0. , 0. , 0. , 0. , 0. , 0. , 0. , 0. , 0. ,\n",
       "        0. , 0.9, 0. ],\n",
       "       [0. , 0. , 0. , 0. , 0. , 0. , 0. , 0. , 0. , 0. , 0. , 0. , 0. ,\n",
       "        0. , 0. , 0.9]])"
      ]
     },
     "execution_count": 67,
     "metadata": {},
     "output_type": "execute_result"
    }
   ],
   "source": [
    "expected = np.diag([0.9] * 16)\n",
    "expected[0][0] = 1\n",
    "expected"
   ]
  },
  {
   "cell_type": "code",
   "execution_count": 63,
   "metadata": {},
   "outputs": [
    {
     "data": {
      "text/plain": [
       "array([[1. , 0. , 0. , 0. , 0. , 0. , 0. , 0. , 0. , 0. , 0. , 0. , 0. ,\n",
       "        0. , 0. , 0. ],\n",
       "       [0. , 0.9, 0. , 0. , 0. , 0. , 0. , 0. , 0. , 0. , 0. , 0. , 0. ,\n",
       "        0. , 0. , 0. ],\n",
       "       [0. , 0. , 0.9, 0. , 0. , 0. , 0. , 0. , 0. , 0. , 0. , 0. , 0. ,\n",
       "        0. , 0. , 0. ],\n",
       "       [0. , 0. , 0. , 0.9, 0. , 0. , 0. , 0. , 0. , 0. , 0. , 0. , 0. ,\n",
       "        0. , 0. , 0. ],\n",
       "       [0. , 0. , 0. , 0. , 0.9, 0. , 0. , 0. , 0. , 0. , 0. , 0. , 0. ,\n",
       "        0. , 0. , 0. ],\n",
       "       [0. , 0. , 0. , 0. , 0. , 0.9, 0. , 0. , 0. , 0. , 0. , 0. , 0. ,\n",
       "        0. , 0. , 0. ],\n",
       "       [0. , 0. , 0. , 0. , 0. , 0. , 0.9, 0. , 0. , 0. , 0. , 0. , 0. ,\n",
       "        0. , 0. , 0. ],\n",
       "       [0. , 0. , 0. , 0. , 0. , 0. , 0. , 0.9, 0. , 0. , 0. , 0. , 0. ,\n",
       "        0. , 0. , 0. ],\n",
       "       [0. , 0. , 0. , 0. , 0. , 0. , 0. , 0. , 0.9, 0. , 0. , 0. , 0. ,\n",
       "        0. , 0. , 0. ],\n",
       "       [0. , 0. , 0. , 0. , 0. , 0. , 0. , 0. , 0. , 0.9, 0. , 0. , 0. ,\n",
       "        0. , 0. , 0. ],\n",
       "       [0. , 0. , 0. , 0. , 0. , 0. , 0. , 0. , 0. , 0. , 0.9, 0. , 0. ,\n",
       "        0. , 0. , 0. ],\n",
       "       [0. , 0. , 0. , 0. , 0. , 0. , 0. , 0. , 0. , 0. , 0. , 0.9, 0. ,\n",
       "        0. , 0. , 0. ],\n",
       "       [0. , 0. , 0. , 0. , 0. , 0. , 0. , 0. , 0. , 0. , 0. , 0. , 0.9,\n",
       "        0. , 0. , 0. ],\n",
       "       [0. , 0. , 0. , 0. , 0. , 0. , 0. , 0. , 0. , 0. , 0. , 0. , 0. ,\n",
       "        0.9, 0. , 0. ],\n",
       "       [0. , 0. , 0. , 0. , 0. , 0. , 0. , 0. , 0. , 0. , 0. , 0. , 0. ,\n",
       "        0. , 0.9, 0. ],\n",
       "       [0. , 0. , 0. , 0. , 0. , 0. , 0. , 0. , 0. , 0. , 0. , 0. , 0. ,\n",
       "        0. , 0. , 0.9]])"
      ]
     },
     "execution_count": 63,
     "metadata": {},
     "output_type": "execute_result"
    }
   ],
   "source": [
    "actual.hs"
   ]
  },
  {
   "cell_type": "code",
   "execution_count": 65,
   "metadata": {},
   "outputs": [
    {
     "data": {
      "text/plain": [
       "array([[1. , 0. , 0. , 0. , 0. , 0. , 0. , 0. , 0. , 0. , 0. , 0. , 0. ,\n",
       "        0. , 0. , 0. ],\n",
       "       [0. , 0.9, 0. , 0. , 0. , 0. , 0. , 0. , 0. , 0. , 0. , 0. , 0. ,\n",
       "        0. , 0. , 0. ],\n",
       "       [0. , 0. , 0.9, 0. , 0. , 0. , 0. , 0. , 0. , 0. , 0. , 0. , 0. ,\n",
       "        0. , 0. , 0. ],\n",
       "       [0. , 0. , 0. , 0.9, 0. , 0. , 0. , 0. , 0. , 0. , 0. , 0. , 0. ,\n",
       "        0. , 0. , 0. ],\n",
       "       [0. , 0. , 0. , 0. , 0.9, 0. , 0. , 0. , 0. , 0. , 0. , 0. , 0. ,\n",
       "        0. , 0. , 0. ],\n",
       "       [0. , 0. , 0. , 0. , 0. , 0.9, 0. , 0. , 0. , 0. , 0. , 0. , 0. ,\n",
       "        0. , 0. , 0. ],\n",
       "       [0. , 0. , 0. , 0. , 0. , 0. , 0.9, 0. , 0. , 0. , 0. , 0. , 0. ,\n",
       "        0. , 0. , 0. ],\n",
       "       [0. , 0. , 0. , 0. , 0. , 0. , 0. , 0.9, 0. , 0. , 0. , 0. , 0. ,\n",
       "        0. , 0. , 0. ],\n",
       "       [0. , 0. , 0. , 0. , 0. , 0. , 0. , 0. , 0.9, 0. , 0. , 0. , 0. ,\n",
       "        0. , 0. , 0. ],\n",
       "       [0. , 0. , 0. , 0. , 0. , 0. , 0. , 0. , 0. , 0.9, 0. , 0. , 0. ,\n",
       "        0. , 0. , 0. ],\n",
       "       [0. , 0. , 0. , 0. , 0. , 0. , 0. , 0. , 0. , 0. , 0.9, 0. , 0. ,\n",
       "        0. , 0. , 0. ],\n",
       "       [0. , 0. , 0. , 0. , 0. , 0. , 0. , 0. , 0. , 0. , 0. , 0.9, 0. ,\n",
       "        0. , 0. , 0. ],\n",
       "       [0. , 0. , 0. , 0. , 0. , 0. , 0. , 0. , 0. , 0. , 0. , 0. , 0.9,\n",
       "        0. , 0. , 0. ],\n",
       "       [0. , 0. , 0. , 0. , 0. , 0. , 0. , 0. , 0. , 0. , 0. , 0. , 0. ,\n",
       "        0.9, 0. , 0. ],\n",
       "       [0. , 0. , 0. , 0. , 0. , 0. , 0. , 0. , 0. , 0. , 0. , 0. , 0. ,\n",
       "        0. , 0.9, 0. ],\n",
       "       [0. , 0. , 0. , 0. , 0. , 0. , 0. , 0. , 0. , 0. , 0. , 0. , 0. ,\n",
       "        0. , 0. , 0.9]])"
      ]
     },
     "execution_count": 65,
     "metadata": {},
     "output_type": "execute_result"
    }
   ],
   "source": [
    "np.array([[1. , 0. , 0. , 0. , 0. , 0. , 0. , 0. , 0. , 0. , 0. , 0. , 0. ,\n",
    "        0. , 0. , 0. ],\n",
    "       [0. , 0.9, 0. , 0. , 0. , 0. , 0. , 0. , 0. , 0. , 0. , 0. , 0. ,\n",
    "        0. , 0. , 0. ],\n",
    "       [0. , 0. , 0.9, 0. , 0. , 0. , 0. , 0. , 0. , 0. , 0. , 0. , 0. ,\n",
    "        0. , 0. , 0. ],\n",
    "       [0. , 0. , 0. , 0.9, 0. , 0. , 0. , 0. , 0. , 0. , 0. , 0. , 0. ,\n",
    "        0. , 0. , 0. ],\n",
    "       [0. , 0. , 0. , 0. , 0.9, 0. , 0. , 0. , 0. , 0. , 0. , 0. , 0. ,\n",
    "        0. , 0. , 0. ],\n",
    "       [0. , 0. , 0. , 0. , 0. , 0.9, 0. , 0. , 0. , 0. , 0. , 0. , 0. ,\n",
    "        0. , 0. , 0. ],\n",
    "       [0. , 0. , 0. , 0. , 0. , 0. , 0.9, 0. , 0. , 0. , 0. , 0. , 0. ,\n",
    "        0. , 0. , 0. ],\n",
    "       [0. , 0. , 0. , 0. , 0. , 0. , 0. , 0.9, 0. , 0. , 0. , 0. , 0. ,\n",
    "        0. , 0. , 0. ],\n",
    "       [0. , 0. , 0. , 0. , 0. , 0. , 0. , 0. , 0.9, 0. , 0. , 0. , 0. ,\n",
    "        0. , 0. , 0. ],\n",
    "       [0. , 0. , 0. , 0. , 0. , 0. , 0. , 0. , 0. , 0.9, 0. , 0. , 0. ,\n",
    "        0. , 0. , 0. ],\n",
    "       [0. , 0. , 0. , 0. , 0. , 0. , 0. , 0. , 0. , 0. , 0.9, 0. , 0. ,\n",
    "        0. , 0. , 0. ],\n",
    "       [0. , 0. , 0. , 0. , 0. , 0. , 0. , 0. , 0. , 0. , 0. , 0.9, 0. ,\n",
    "        0. , 0. , 0. ],\n",
    "       [0. , 0. , 0. , 0. , 0. , 0. , 0. , 0. , 0. , 0. , 0. , 0. , 0.9,\n",
    "        0. , 0. , 0. ],\n",
    "       [0. , 0. , 0. , 0. , 0. , 0. , 0. , 0. , 0. , 0. , 0. , 0. , 0. ,\n",
    "        0.9, 0. , 0. ],\n",
    "       [0. , 0. , 0. , 0. , 0. , 0. , 0. , 0. , 0. , 0. , 0. , 0. , 0. ,\n",
    "        0. , 0.9, 0. ],\n",
    "       [0. , 0. , 0. , 0. , 0. , 0. , 0. , 0. , 0. , 0. , 0. , 0. , 0. ,\n",
    "        0. , 0. , 0.9]])"
   ]
  },
  {
   "cell_type": "code",
   "execution_count": 69,
   "metadata": {},
   "outputs": [],
   "source": [
    "from quara.data_analysis.generation_setting import DepolarizedQOperationGenerationSetting"
   ]
  },
  {
   "cell_type": "code",
   "execution_count": 71,
   "metadata": {},
   "outputs": [
    {
     "data": {
      "text/plain": [
       "<quara.objects.state.State at 0x11a16e0d0>"
      ]
     },
     "execution_count": 71,
     "metadata": {},
     "output_type": "execute_result"
    }
   ],
   "source": [
    "true_object"
   ]
  },
  {
   "cell_type": "code",
   "execution_count": 81,
   "metadata": {},
   "outputs": [],
   "source": [
    "setting = DepolarizedQOperationGenerationSetting(c_sys, true_object, 0.1)"
   ]
  },
  {
   "cell_type": "code",
   "execution_count": 83,
   "metadata": {},
   "outputs": [
    {
     "data": {
      "text/plain": [
       "<quara.objects.state.State at 0x11ed1d460>"
      ]
     },
     "execution_count": 83,
     "metadata": {},
     "output_type": "execute_result"
    }
   ],
   "source": [
    "setting.generate()"
   ]
  },
  {
   "cell_type": "code",
   "execution_count": 84,
   "metadata": {},
   "outputs": [],
   "source": [
    "source_povm = tester_objects[0]"
   ]
  },
  {
   "cell_type": "code",
   "execution_count": 94,
   "metadata": {},
   "outputs": [
    {
     "name": "stdout",
     "output_type": "stream",
     "text": [
      "type(elem1)=<class 'quara.objects.povm.Povm'>, type(elem2)=<class 'quara.objects.gate.Gate'>\n"
     ]
    },
    {
     "data": {
      "text/plain": [
       "<quara.objects.povm.Povm at 0x11f21f7c0>"
      ]
     },
     "execution_count": 94,
     "metadata": {},
     "output_type": "execute_result"
    }
   ],
   "source": [
    "setting = DepolarizedQOperationGenerationSetting(c_sys, source_povm, 0.1)\n",
    "setting.generate()"
   ]
  },
  {
   "cell_type": "code",
   "execution_count": 89,
   "metadata": {},
   "outputs": [
    {
     "data": {
      "text/plain": [
       "array([[ 1.,  0.,  0.,  0.],\n",
       "       [ 0.,  1.,  0.,  0.],\n",
       "       [ 0.,  0., -1.,  0.],\n",
       "       [ 0.,  0.,  0., -1.]])"
      ]
     },
     "execution_count": 89,
     "metadata": {},
     "output_type": "execute_result"
    }
   ],
   "source": [
    "from quara.objects.gate import get_x\n",
    "source_gate = get_x(c_sys)\n",
    "source_gate.hs"
   ]
  },
  {
   "cell_type": "code",
   "execution_count": 91,
   "metadata": {},
   "outputs": [
    {
     "name": "stdout",
     "output_type": "stream",
     "text": [
      "type(elem1)=<class 'quara.objects.gate.Gate'>, type(elem2)=<class 'quara.objects.gate.Gate'>\n"
     ]
    },
    {
     "data": {
      "text/plain": [
       "array([[ 1. ,  0. ,  0. ,  0. ],\n",
       "       [ 0. ,  0.9,  0. ,  0. ],\n",
       "       [ 0. ,  0. , -0.9,  0. ],\n",
       "       [ 0. ,  0. ,  0. , -0.9]])"
      ]
     },
     "execution_count": 91,
     "metadata": {},
     "output_type": "execute_result"
    }
   ],
   "source": [
    "setting = DepolarizedQOperationGenerationSetting(c_sys, source_gate, 0.1)\n",
    "setting.generate().hs"
   ]
  },
  {
   "cell_type": "code",
   "execution_count": null,
   "metadata": {},
   "outputs": [],
   "source": []
  }
 ],
 "metadata": {
  "hide_input": false,
  "kernelspec": {
   "display_name": "quara_venv",
   "language": "python",
   "name": "quara_venv"
  },
  "language_info": {
   "codemirror_mode": {
    "name": "ipython",
    "version": 3
   },
   "file_extension": ".py",
   "mimetype": "text/x-python",
   "name": "python",
   "nbconvert_exporter": "python",
   "pygments_lexer": "ipython3",
   "version": "3.8.0"
  },
  "toc": {
   "base_numbering": 1,
   "nav_menu": {},
   "number_sections": true,
   "sideBar": true,
   "skip_h1_title": false,
   "title_cell": "Table of Contents",
   "title_sidebar": "Contents",
   "toc_cell": false,
   "toc_position": {},
   "toc_section_display": true,
   "toc_window_display": false
  },
  "varInspector": {
   "cols": {
    "lenName": 16,
    "lenType": 16,
    "lenVar": 40
   },
   "kernels_config": {
    "python": {
     "delete_cmd_postfix": "",
     "delete_cmd_prefix": "del ",
     "library": "var_list.py",
     "varRefreshCmd": "print(var_dic_list())"
    },
    "r": {
     "delete_cmd_postfix": ") ",
     "delete_cmd_prefix": "rm(",
     "library": "var_list.r",
     "varRefreshCmd": "cat(var_dic_list()) "
    }
   },
   "types_to_exclude": [
    "module",
    "function",
    "builtin_function_or_method",
    "instance",
    "_Feature"
   ],
   "window_display": false
  }
 },
 "nbformat": 4,
 "nbformat_minor": 4
}
