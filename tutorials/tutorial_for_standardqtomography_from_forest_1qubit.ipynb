{
    "cells": [
        {
            "cell_type": "markdown",
            "source": [
                "# Using Quara's standard tomography features from Forest\n",
                "\n",
                "Quara supports object conversions for executing standard quantum tomography from Forest SDK. Here we briefly explain how to perform quantum tomography by using Quara and measurements obtained from quantum virtual machine of Forest SDK.\n"
            ],
            "metadata": {}
        },
        {
            "cell_type": "code",
            "execution_count": 1,
            "source": [
                "from numpy import pi\n",
                "\n",
                "# quara\n",
                "from quara.interface.forest.api import (\n",
                "    generate_pauli_strings_from_povm_name,\n",
                "    calc_empi_dist_from_observables\n",
                ")\n",
                "from quara.objects.composite_system_typical import generate_composite_system\n",
                "from quara.objects.povm_typical import generate_povm_from_name\n",
                "from quara.protocol.qtomography.standard.standard_qst import StandardQst\n",
                "from quara.protocol.qtomography.standard.linear_estimator import LinearEstimator\n",
                "\n",
                "# pyquil\n",
                "from pyquil import get_qc, Program\n",
                "from pyquil.gates import H, PHASE\n",
                "from pyquil.paulis import PauliTerm\n",
                "from pyquil.experiment import (\n",
                "    Experiment,\n",
                "    ExperimentSetting,\n",
                "    zeros_state,\n",
                ")\n",
                "from pyquil.operator_estimation import measure_observables\n"
            ],
            "outputs": [],
            "metadata": {}
        },
        {
            "cell_type": "markdown",
            "source": [
                "First, we define a program for state preparation for tomographic experiment. Then, we create a function `obtain_expectations_for_qst()` which is a function that performs measuments based on given pauli operators. Pauli operators are operators that can be performed as measurements in Forest SDK. More details will be explained in the next cell. Make sure you have started `quilc` and `qvm` on your other consoles. See [this page](https://pyquil-docs.rigetti.com/en/stable/start.html#setting-up-server-mode-for-pyquil) for more information."
            ],
            "metadata": {}
        },
        {
            "cell_type": "code",
            "execution_count": 2,
            "source": [
                "# example for 1 qubits system\n",
                "qc = get_qc(\"1q-qvm\")\n",
                "qubits = [0]\n",
                "\n",
                "# define initialization of the quantum system\n",
                "# creating a state called \"a state\"\n",
                "num_shots = 10000\n",
                "p = Program()\n",
                "p += H(qubits[0])\n",
                "p += PHASE(pi/4, qubits[0])\n",
                "p.wrap_in_numshots_loop(num_shots)\n",
                "\n",
                "def obtain_expectations_for_qst(qc, program, pauli_strings):\n",
                "    settings = []\n",
                "    for pauli_str in pauli_strings:\n",
                "        out_operator = PauliTerm.from_list(list(zip(pauli_str, qubits)))\n",
                "        settings.append(ExperimentSetting(zeros_state(qubits), out_operator))\n",
                "    tomo_experiment = Experiment(settings, program)\n",
                "    expectations = []\n",
                "    for pauli_str, res in zip(\n",
                "        pauli_strings,\n",
                "        measure_observables(\n",
                "            qc,\n",
                "            tomo_experiment,\n",
                "        ),\n",
                "    ):\n",
                "        if res.raw_expectation is None:\n",
                "            # This is the result for II...I operator\n",
                "            expectations.append(1.0)\n",
                "        else:\n",
                "            expectations.append(res.raw_expectation)\n",
                "        print(f\"Raw expectation of {pauli_str}: {expectations[-1]}\")\n",
                "    return expectations"
            ],
            "outputs": [],
            "metadata": {}
        },
        {
            "cell_type": "markdown",
            "source": [
                "Next, we define a composite system and POVM objects which will make a tomographically complete measuring experiment. Then we calculate a set of desired pauli mesruments by using a pre-difned function named `generate_pauli_strings_from_povm_name()` in Quara for each POVM. In this example, we create a dictionary for POVM objects and Pauli operator names which both are indexed with `povm_name`."
            ],
            "metadata": {}
        },
        {
            "cell_type": "code",
            "execution_count": 3,
            "source": [
                "c_sys = generate_composite_system(\"qubit\", 1)\n",
                "povms = {}\n",
                "pauli_strings = {}\n",
                "povm_names = [\"x\", \"y\", \"z\"]\n",
                "for povm_name in povm_names:\n",
                "    povms[povm_name] = generate_povm_from_name(povm_name, c_sys)\n",
                "    pauli_strings[povm_name] = generate_pauli_strings_from_povm_name(povm_name)\n",
                "print(f\"Sample of Quara tester object for povm_name: {povm_names[0]}\")\n",
                "print(povms[povm_names[0]])\n",
                "print(\"\\nPauli strings that will be used in this tomographical experiment:\")\n",
                "pauli_strings"
            ],
            "outputs": [
                {
                    "output_type": "stream",
                    "name": "stdout",
                    "text": [
                        "Sample of Quara tester object for povm_name: x\n",
                        "Type:\n",
                        "Povm\n",
                        "\n",
                        "Dim:\n",
                        "2\n",
                        "\n",
                        "Number of outcomes:\n",
                        "2\n",
                        "\n",
                        "Vecs:\n",
                        "[[ 0.70710678  0.70710678  0.          0.        ]\n",
                        " [ 0.70710678 -0.70710678  0.          0.        ]]\n",
                        "\n",
                        "Pauli strings that will be used in this tomographical experiment:\n"
                    ]
                },
                {
                    "output_type": "execute_result",
                    "data": {
                        "text/plain": [
                            "{'x': ['X', 'I'], 'y': ['Y', 'I'], 'z': ['Z', 'I']}"
                        ]
                    },
                    "metadata": {},
                    "execution_count": 3
                }
            ],
            "metadata": {}
        },
        {
            "cell_type": "markdown",
            "source": [
                "Now we perform projective measurements based on Pauli operators and `obtain_expectations_for_qst()` which we defined in previous cells.\n",
                "Observed expectations are also stored as dictionary and indexed with `povm_name`. "
            ],
            "metadata": {}
        },
        {
            "cell_type": "code",
            "execution_count": 4,
            "source": [
                "observables = {}\n",
                "for povm_name in povm_names:\n",
                "    observables[povm_name] = obtain_expectations_for_qst(qc, p, generate_pauli_strings_from_povm_name(povm_name))\n",
                "\n",
                "print(f'Expectations for {povm_names[0]} POVM: {observables[povm_names[0]]}')"
            ],
            "outputs": [
                {
                    "output_type": "stream",
                    "name": "stdout",
                    "text": [
                        "Raw expectation of X: 0.7002\n",
                        "Raw expectation of I: 1.0\n",
                        "Raw expectation of Y: 0.7042\n",
                        "Raw expectation of I: 1.0\n",
                        "Raw expectation of Z: -0.0018\n",
                        "Raw expectation of I: 1.0\n",
                        "Expectations for x POVM: [0.7002, 1.0]\n"
                    ]
                }
            ],
            "metadata": {}
        },
        {
            "cell_type": "markdown",
            "source": [
                "We need empirical distributions that correspond to selected POVMs in order to perform QST.\n",
                "In ideal case of projective measurements, probability distribution of a POVM can be calculated from a set of Pauli observables and coefficient matrix $A_{\\mathrm{coefficient}}$.\n",
                "\n",
                "$$\n",
                "\\begin{pmatrix} p_1\\\\ p_2 \\\\ \\vdots \\\\ p_{N}\\end{pmatrix}= A_{\\mathrm{coefficient}} \\begin{pmatrix} \\langle XX \\cdots X \\rangle \\\\ \\langle XX \\cdots I \\rangle \\\\  \\vdots \\\\ \\langle II \\cdots I \\rangle \\end{pmatrix}\n",
                "$$\n",
                "\n",
                "Here we create a set of empirical distributions `empi_dists`, which are pairs of a repetition number and relative frequencies.\n",
                "We calculate `empi_dists` from measured expectations by using `calc_empi_dist_from_observables()` function."
            ],
            "metadata": {}
        },
        {
            "cell_type": "code",
            "execution_count": 5,
            "source": [
                "empi_dists = []\n",
                "for povm_name in povm_names:\n",
                "    empi_dist = calc_empi_dist_from_observables(observables[povm_name], num_shots, pauli_strings[povm_name], povms[povm_name])\n",
                "    empi_dists.append(empi_dist)\n",
                "    print(f\"{povm_name}: {empi_dist}\")\n"
            ],
            "outputs": [
                {
                    "output_type": "stream",
                    "name": "stdout",
                    "text": [
                        "x: (10000, array([0.8501, 0.1499]))\n",
                        "y: (10000, array([0.8521, 0.1479]))\n",
                        "z: (10000, array([0.4991, 0.5009]))\n"
                    ]
                }
            ],
            "metadata": {}
        },
        {
            "cell_type": "markdown",
            "source": [
                "We generate a StandardQst object. From now on, the flow of QST will be the same as explained in [tutorial_for_standardqtomography](./tutorial_for_standardqtomography.ipynb)."
            ],
            "metadata": {}
        },
        {
            "cell_type": "code",
            "execution_count": 6,
            "source": [
                "tester_povms = []\n",
                "for povm_name in povm_names:\n",
                "    tester_povms.append(povms[povm_name])\n",
                "\n",
                "qst = StandardQst(tester_povms, on_para_eq_constraint=True, schedules=\"all\")"
            ],
            "outputs": [],
            "metadata": {}
        },
        {
            "cell_type": "markdown",
            "source": [
                "When we choose a linear estimator, the estimate is calculated as follows"
            ],
            "metadata": {}
        },
        {
            "cell_type": "code",
            "execution_count": 7,
            "source": [
                "estimator = LinearEstimator()\n",
                "result = estimator.calc_estimate(qtomography=qst, empi_dists=empi_dists, is_computation_time_required=True)\n",
                "estimate = result.estimated_qoperation\n",
                "print(estimate)\n",
                "print(\"is estimate physical? : \", estimate.is_physical())\n",
                "print(\"\\nEigenvalues are: \", estimate.calc_eigenvalues())"
            ],
            "outputs": [
                {
                    "output_type": "stream",
                    "name": "stdout",
                    "text": [
                        "Type:\n",
                        "State\n",
                        "\n",
                        "Dim:\n",
                        "2\n",
                        "\n",
                        "Vec:\n",
                        "[ 0.70710678  0.49511617  0.4979446  -0.00127279]\n",
                        "is estimate physical? :  True\n",
                        "\n",
                        "Eigenvalues are:  [0.9965332113766407, 0.0034667886233591128]\n"
                    ]
                }
            ],
            "metadata": {}
        },
        {
            "cell_type": "markdown",
            "source": [
                "An eigenvalue of the estimated density matrix is negative, which violates the requirement of positive-semidefiniteness on density matrix. This kind of violation can occur when we choose a linear estimator. In order to avoid the problem, we need to perform a constraint optimization at the data-processing."
            ],
            "metadata": {}
        },
        {
            "cell_type": "code",
            "execution_count": null,
            "source": [],
            "outputs": [],
            "metadata": {}
        }
    ],
    "metadata": {
        "orig_nbformat": 4,
        "language_info": {
            "name": "python",
            "version": "3.8.7",
            "mimetype": "text/x-python",
            "codemirror_mode": {
                "name": "ipython",
                "version": 3
            },
            "pygments_lexer": "ipython3",
            "nbconvert_exporter": "python",
            "file_extension": ".py"
        },
        "kernelspec": {
            "name": "python3",
            "display_name": "Python 3.8.7 64-bit ('venv': venv)"
        },
        "interpreter": {
            "hash": "cb92e15a8d637e9dd9c5ecfc8cd130dbba6859f1dbeed3d128cdd82d23a19cd6"
        }
    },
    "nbformat": 4,
    "nbformat_minor": 2
}