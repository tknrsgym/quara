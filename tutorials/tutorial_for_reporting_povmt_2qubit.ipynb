{
 "cells": [
  {
   "cell_type": "code",
   "execution_count": 1,
   "metadata": {},
   "outputs": [],
   "source": [
    "# Povm"
   ]
  },
  {
   "cell_type": "code",
   "execution_count": 1,
   "metadata": {},
   "outputs": [],
   "source": [
    "import pickle\n",
    "import time\n",
    "from typing import List\n",
    "import datetime as dt\n",
    "from pathlib import Path\n",
    "import itertools\n",
    "\n",
    "import numpy as np\n",
    "import pandas as pd\n",
    "import plotly.graph_objects as go\n",
    "import plotly.express as px\n",
    "\n",
    "from tqdm import tqdm\n",
    "\n",
    "from quara.data_analysis import data_analysis, physicality_violation_check, report\n",
    "from quara.data_analysis.projected_gradient_descent_base import ProjectedGradientDescentBase, ProjectedGradientDescentBaseOption\n",
    "from quara.data_analysis.weighted_probability_based_squared_error import WeightedProbabilityBasedSquaredError, WeightedProbabilityBasedSquaredErrorOption\n",
    "from quara.data_analysis.weighted_relative_entropy import WeightedRelativeEntropy, WeightedRelativeEntropyOption\n",
    "from quara.objects.composite_system import CompositeSystem\n",
    "from quara.objects.elemental_system import ElementalSystem\n",
    "from quara.objects.matrix_basis import get_normalized_pauli_basis\n",
    "from quara.objects.state import (\n",
    "    State,\n",
    "    get_x0_1q,\n",
    "    get_x1_1q,\n",
    "    get_y0_1q,\n",
    "    get_y1_1q,\n",
    "    get_z0_1q,\n",
    "    get_z1_1q,\n",
    ")\n",
    "from quara.objects.povm import (\n",
    "    Povm,get_x_measurement, get_z_measurement\n",
    ")\n",
    "from quara.objects.qoperation import QOperation\n",
    "from quara.protocol.qtomography.standard.standard_povmt import StandardPovmt\n",
    "from quara.protocol.qtomography.standard.linear_estimator import LinearEstimator\n",
    "from quara.protocol.qtomography.standard.loss_minimization_estimator import LossMinimizationEstimator\n",
    "from quara.protocol.qtomography.standard.projected_linear_estimator import (\n",
    "    ProjectedLinearEstimator,\n",
    ")\n",
    "from quara.objects.operators import tensor_product\n",
    "\n",
    "from quara.data_analysis.simulation import SimulationSetting"
   ]
  },
  {
   "cell_type": "code",
   "execution_count": 2,
   "metadata": {},
   "outputs": [],
   "source": [
    "%load_ext autoreload\n",
    "%autoreload 2"
   ]
  },
  {
   "cell_type": "code",
   "execution_count": 3,
   "metadata": {},
   "outputs": [],
   "source": [
    "start_all = time.time()"
   ]
  },
  {
   "cell_type": "code",
   "execution_count": 4,
   "metadata": {},
   "outputs": [],
   "source": [
    "# setup system\n",
    "e_sys_1 = ElementalSystem(0, get_normalized_pauli_basis())\n",
    "c_sys_1 = CompositeSystem([e_sys_1])\n",
    "\n",
    "e_sys_2 = ElementalSystem(1, get_normalized_pauli_basis())\n",
    "c_sys_2 = CompositeSystem([e_sys_2])\n",
    "\n",
    "# |+><+|\n",
    "# state_x0 = get_x0_1q(c_sys)\n",
    "# |+i><+i|\n",
    "# state_y0 = get_y0_1q(c_sys)\n",
    "# |0><0|\n",
    "# state_z0 = get_z0_1q(c_sys)\n",
    "# |1><1|\n",
    "# state_z1 = get_z1_1q(c_sys)\n",
    "\n",
    "tester_objects = []\n",
    "\n",
    "# |+><+| |+i><+i| |0><0| |1><1|\n",
    "func_list = [get_x0_1q, get_y0_1q, get_z0_1q, get_z1_1q]\n",
    "\n",
    "for i, funcs in enumerate(itertools.product(func_list, func_list)):\n",
    "    state1 = funcs[0](c_sys_1)\n",
    "    state2 = funcs[1](c_sys_2)\n",
    "\n",
    "    state_2qubit = tensor_product(state1, state2)\n",
    "\n",
    "    tester_objects.append(state_2qubit)"
   ]
  },
  {
   "cell_type": "code",
   "execution_count": 5,
   "metadata": {},
   "outputs": [],
   "source": [
    "true_object = tensor_product( get_z_measurement(c_sys_1),  get_z_measurement(c_sys_2))"
   ]
  },
  {
   "cell_type": "code",
   "execution_count": 6,
   "metadata": {},
   "outputs": [
    {
     "name": "stdout",
     "output_type": "stream",
     "text": [
      "m=4\n"
     ]
    }
   ],
   "source": [
    "measurement_n = len(true_object.vecs)\n",
    "seed = 777\n",
    "povmt = StandardPovmt(tester_objects, measurement_n, on_para_eq_constraint=True, seed=seed)"
   ]
  },
  {
   "cell_type": "code",
   "execution_count": 7,
   "metadata": {},
   "outputs": [
    {
     "name": "stdout",
     "output_type": "stream",
     "text": [
      "m=4\n"
     ]
    },
    {
     "name": "stderr",
     "output_type": "stream",
     "text": [
      "\r",
      "  0%|          | 0/10 [00:00<?, ?it/s]"
     ]
    },
    {
     "name": "stdout",
     "output_type": "stream",
     "text": [
      "m=4\n",
      "m=4\n",
      "m=4\n"
     ]
    },
    {
     "name": "stderr",
     "output_type": "stream",
     "text": [
      "100%|██████████| 10/10 [00:01<00:00,  6.07it/s]\n",
      " 10%|█         | 1/10 [00:00<00:01,  6.48it/s]"
     ]
    },
    {
     "name": "stdout",
     "output_type": "stream",
     "text": [
      "Name: LinearEstimator(True)\n",
      "Estimator: LinearEstimator\n",
      "Loss: None\n",
      "Algo: None\n",
      "elapsed_time: 0.028486414750417074[min]\n",
      "\n"
     ]
    },
    {
     "name": "stderr",
     "output_type": "stream",
     "text": [
      "100%|██████████| 10/10 [00:01<00:00,  7.39it/s]\n",
      "  0%|          | 0/10 [00:00<?, ?it/s]"
     ]
    },
    {
     "name": "stdout",
     "output_type": "stream",
     "text": [
      "Name: LinearEstimator(False)\n",
      "Estimator: LinearEstimator\n",
      "Loss: None\n",
      "Algo: None\n",
      "elapsed_time: 0.02265985409418742[min]\n",
      "\n"
     ]
    },
    {
     "name": "stderr",
     "output_type": "stream",
     "text": [
      "100%|██████████| 10/10 [00:53<00:00,  5.40s/it]\n",
      "  0%|          | 0/10 [00:00<?, ?it/s]"
     ]
    },
    {
     "name": "stdout",
     "output_type": "stream",
     "text": [
      "Name: ProjectedLinearEstimator(True)\n",
      "Estimator: ProjectedLinearEstimator\n",
      "Loss: None\n",
      "Algo: None\n",
      "elapsed_time: 0.8997965852419535[min]\n",
      "\n"
     ]
    },
    {
     "name": "stderr",
     "output_type": "stream",
     "text": [
      "100%|██████████| 10/10 [00:50<00:00,  5.06s/it]"
     ]
    },
    {
     "name": "stdout",
     "output_type": "stream",
     "text": [
      "Name: ProjectedLinearEstimator(False)\n",
      "Estimator: ProjectedLinearEstimator\n",
      "Loss: None\n",
      "Algo: None\n",
      "elapsed_time: 0.8439060688018799[min]\n",
      "\n"
     ]
    },
    {
     "name": "stderr",
     "output_type": "stream",
     "text": [
      "\n"
     ]
    }
   ],
   "source": [
    "num_data = [100, 1000]\n",
    "n_rep = 10\n",
    "measurement_n = len(true_object.vecs)  # 測定値の数\n",
    "\n",
    "case_name_list = [\n",
    "    \"LinearEstimator(True)\",\n",
    "    \"LinearEstimator(False)\",\n",
    "    \"ProjectedLinearEstimator(True)\",\n",
    "    \"ProjectedLinearEstimator(False)\",\n",
    "]\n",
    "\n",
    "seed = 777\n",
    "qtomography_list = [\n",
    "    StandardPovmt(tester_objects, measurement_n, on_para_eq_constraint=True, seed=seed),\n",
    "    StandardPovmt(tester_objects, measurement_n, on_para_eq_constraint=False, seed=seed),\n",
    "    StandardPovmt(tester_objects, measurement_n, on_para_eq_constraint=True, seed=seed),\n",
    "    StandardPovmt(tester_objects, measurement_n, on_para_eq_constraint=False, seed=seed),\n",
    "]\n",
    "\n",
    "para_list = [\n",
    "    True,\n",
    "    False,\n",
    "    True,\n",
    "    False,\n",
    "]\n",
    "\n",
    "estimator_list = [\n",
    "    LinearEstimator(),\n",
    "    LinearEstimator(),\n",
    "    ProjectedLinearEstimator(),\n",
    "    ProjectedLinearEstimator()\n",
    "]\n",
    "\n",
    "estimation_results_list = []\n",
    "elapsed_times = []\n",
    "simulation_settings = []\n",
    "\n",
    "for i, name in enumerate(case_name_list):\n",
    "    qtomography = qtomography_list[i]\n",
    "    estimator = estimator_list[i]\n",
    "\n",
    "    start = time.time()\n",
    "\n",
    "    estimation_results = data_analysis.estimate(\n",
    "        qtomography=qtomography,\n",
    "        true_object=true_object,\n",
    "        num_data=num_data,\n",
    "        estimator=estimator,\n",
    "        iteration=n_rep,\n",
    "    )\n",
    "\n",
    "    # stock settings of this simulation\n",
    "    simulation_setting = SimulationSetting(\n",
    "        name=name,\n",
    "        estimator=estimator\n",
    "    )\n",
    "    print(simulation_setting)\n",
    "    simulation_settings.append(simulation_setting)\n",
    "\n",
    "    estimation_results_list.append(estimation_results)\n",
    "\n",
    "    elapsed_time = time.time() - start\n",
    "    print(\"elapsed_time: {0}\".format(elapsed_time / 60) + \"[min]\\n\")\n",
    "    elapsed_times.append(elapsed_time)"
   ]
  },
  {
   "cell_type": "code",
   "execution_count": 8,
   "metadata": {},
   "outputs": [
    {
     "name": "stdout",
     "output_type": "stream",
     "text": [
      "​Generating table of computation time ...\n",
      "​Generating table of experimental conditions ...\n",
      "Generating case list ...\n"
     ]
    },
    {
     "name": "stderr",
     "output_type": "stream",
     "text": [
      "100%|██████████| 10/10 [00:00<00:00, 10387.08it/s]\n",
      "100%|██████████| 10/10 [00:00<00:00, 20961.04it/s]"
     ]
    },
    {
     "name": "stdout",
     "output_type": "stream",
     "text": [
      "​​Generating MSE of empirical distributions blocks ...\n"
     ]
    },
    {
     "name": "stderr",
     "output_type": "stream",
     "text": [
      "\n"
     ]
    },
    {
     "name": "stdout",
     "output_type": "stream",
     "text": [
      "​​Generating consictency test blocks ...\n",
      "​Generating a graph for MSE ...\n",
      "  LinearEstimator(True)=[0.2533399999999997, 0.029085400000000074]\n",
      "  LinearEstimator(False)=[0.27093999999999996, 0.030259400000000092]\n",
      "  ProjectedLinearEstimator(True)=[0.15539404582940464, 0.018833548125652022]\n",
      "  ProjectedLinearEstimator(False)=[0.15464602493725754, 0.018579593481549174]\n",
      "{'make_graphs_func': <function make_mses_graphs_estimator at 0x10bfa4940>, 'mse_type': 'estimator', 'estimation_results_list': [[<quara.protocol.qtomography.standard.linear_estimator.LinearEstimationResult object at 0x10ce11a90>, <quara.protocol.qtomography.standard.linear_estimator.LinearEstimationResult object at 0x10ce119d0>, <quara.protocol.qtomography.standard.linear_estimator.LinearEstimationResult object at 0x10ce11c10>, <quara.protocol.qtomography.standard.linear_estimator.LinearEstimationResult object at 0x10ce11ca0>, <quara.protocol.qtomography.standard.linear_estimator.LinearEstimationResult object at 0x10ce11c40>, <quara.protocol.qtomography.standard.linear_estimator.LinearEstimationResult object at 0x10ce11b20>, <quara.protocol.qtomography.standard.linear_estimator.LinearEstimationResult object at 0x10ce11a00>, <quara.protocol.qtomography.standard.linear_estimator.LinearEstimationResult object at 0x10ce11b50>, <quara.protocol.qtomography.standard.linear_estimator.LinearEstimationResult object at 0x10ce11e20>, <quara.protocol.qtomography.standard.linear_estimator.LinearEstimationResult object at 0x10ce11cd0>], [<quara.protocol.qtomography.standard.linear_estimator.LinearEstimationResult object at 0x10ce341c0>, <quara.protocol.qtomography.standard.linear_estimator.LinearEstimationResult object at 0x10ce34100>, <quara.protocol.qtomography.standard.linear_estimator.LinearEstimationResult object at 0x10ce34310>, <quara.protocol.qtomography.standard.linear_estimator.LinearEstimationResult object at 0x10ce341f0>, <quara.protocol.qtomography.standard.linear_estimator.LinearEstimationResult object at 0x10ce34460>, <quara.protocol.qtomography.standard.linear_estimator.LinearEstimationResult object at 0x10ce34490>, <quara.protocol.qtomography.standard.linear_estimator.LinearEstimationResult object at 0x10ce342e0>, <quara.protocol.qtomography.standard.linear_estimator.LinearEstimationResult object at 0x10ce34280>, <quara.protocol.qtomography.standard.linear_estimator.LinearEstimationResult object at 0x10ce343d0>, <quara.protocol.qtomography.standard.linear_estimator.LinearEstimationResult object at 0x10ce34520>], [<quara.protocol.qtomography.standard.projected_linear_estimator.ProjectedLinearEstimationResult object at 0x10ce34880>, <quara.protocol.qtomography.standard.projected_linear_estimator.ProjectedLinearEstimationResult object at 0x10ce34940>, <quara.protocol.qtomography.standard.projected_linear_estimator.ProjectedLinearEstimationResult object at 0x10ce34a60>, <quara.protocol.qtomography.standard.projected_linear_estimator.ProjectedLinearEstimationResult object at 0x10ce34f10>, <quara.protocol.qtomography.standard.projected_linear_estimator.ProjectedLinearEstimationResult object at 0x10ce34c70>, <quara.protocol.qtomography.standard.projected_linear_estimator.ProjectedLinearEstimationResult object at 0x10ce34bb0>, <quara.protocol.qtomography.standard.projected_linear_estimator.ProjectedLinearEstimationResult object at 0x10ce349d0>, <quara.protocol.qtomography.standard.projected_linear_estimator.ProjectedLinearEstimationResult object at 0x10ce34ca0>, <quara.protocol.qtomography.standard.projected_linear_estimator.ProjectedLinearEstimationResult object at 0x10ef855b0>, <quara.protocol.qtomography.standard.projected_linear_estimator.ProjectedLinearEstimationResult object at 0x10ef85310>], [<quara.protocol.qtomography.standard.projected_linear_estimator.ProjectedLinearEstimationResult object at 0x10ef850d0>, <quara.protocol.qtomography.standard.projected_linear_estimator.ProjectedLinearEstimationResult object at 0x10ef85760>, <quara.protocol.qtomography.standard.projected_linear_estimator.ProjectedLinearEstimationResult object at 0x10ef855e0>, <quara.protocol.qtomography.standard.projected_linear_estimator.ProjectedLinearEstimationResult object at 0x10ef85460>, <quara.protocol.qtomography.standard.projected_linear_estimator.ProjectedLinearEstimationResult object at 0x10ef859a0>, <quara.protocol.qtomography.standard.projected_linear_estimator.ProjectedLinearEstimationResult object at 0x10ef85bb0>, <quara.protocol.qtomography.standard.projected_linear_estimator.ProjectedLinearEstimationResult object at 0x10ef85a00>, <quara.protocol.qtomography.standard.projected_linear_estimator.ProjectedLinearEstimationResult object at 0x10ef85b50>, <quara.protocol.qtomography.standard.projected_linear_estimator.ProjectedLinearEstimationResult object at 0x10ef85220>, <quara.protocol.qtomography.standard.projected_linear_estimator.ProjectedLinearEstimationResult object at 0x10ef856d0>]], 'simulation_settings': [<quara.data_analysis.simulation.SimulationSetting object at 0x10cde63a0>, <quara.data_analysis.simulation.SimulationSetting object at 0x10cde6250>, <quara.data_analysis.simulation.SimulationSetting object at 0x10ce11f70>, <quara.data_analysis.simulation.SimulationSetting object at 0x10ce118e0>], 'true_object': <quara.objects.povm.Povm object at 0x10cd97e50>}\n",
      "  LinearEstimator(True)=[0.2533399999999997, 0.029085400000000074]\n",
      "  ProjectedLinearEstimator(True)=[0.15539404582940464, 0.018833548125652022]\n",
      "  LinearEstimator(False)=[0.27093999999999996, 0.030259400000000092]\n",
      "  ProjectedLinearEstimator(False)=[0.15464602493725754, 0.018579593481549174]\n"
     ]
    },
    {
     "name": "stderr",
     "output_type": "stream",
     "text": [
      "100%|██████████| 10/10 [00:00<00:00, 6869.15it/s]"
     ]
    },
    {
     "name": "stdout",
     "output_type": "stream",
     "text": [
      "{'make_graphs_func': <function make_mses_graphs_para at 0x10bfa49d0>, 'mse_type': 'para', 'estimation_results_list': [[<quara.protocol.qtomography.standard.linear_estimator.LinearEstimationResult object at 0x10ce11a90>, <quara.protocol.qtomography.standard.linear_estimator.LinearEstimationResult object at 0x10ce119d0>, <quara.protocol.qtomography.standard.linear_estimator.LinearEstimationResult object at 0x10ce11c10>, <quara.protocol.qtomography.standard.linear_estimator.LinearEstimationResult object at 0x10ce11ca0>, <quara.protocol.qtomography.standard.linear_estimator.LinearEstimationResult object at 0x10ce11c40>, <quara.protocol.qtomography.standard.linear_estimator.LinearEstimationResult object at 0x10ce11b20>, <quara.protocol.qtomography.standard.linear_estimator.LinearEstimationResult object at 0x10ce11a00>, <quara.protocol.qtomography.standard.linear_estimator.LinearEstimationResult object at 0x10ce11b50>, <quara.protocol.qtomography.standard.linear_estimator.LinearEstimationResult object at 0x10ce11e20>, <quara.protocol.qtomography.standard.linear_estimator.LinearEstimationResult object at 0x10ce11cd0>], [<quara.protocol.qtomography.standard.linear_estimator.LinearEstimationResult object at 0x10ce341c0>, <quara.protocol.qtomography.standard.linear_estimator.LinearEstimationResult object at 0x10ce34100>, <quara.protocol.qtomography.standard.linear_estimator.LinearEstimationResult object at 0x10ce34310>, <quara.protocol.qtomography.standard.linear_estimator.LinearEstimationResult object at 0x10ce341f0>, <quara.protocol.qtomography.standard.linear_estimator.LinearEstimationResult object at 0x10ce34460>, <quara.protocol.qtomography.standard.linear_estimator.LinearEstimationResult object at 0x10ce34490>, <quara.protocol.qtomography.standard.linear_estimator.LinearEstimationResult object at 0x10ce342e0>, <quara.protocol.qtomography.standard.linear_estimator.LinearEstimationResult object at 0x10ce34280>, <quara.protocol.qtomography.standard.linear_estimator.LinearEstimationResult object at 0x10ce343d0>, <quara.protocol.qtomography.standard.linear_estimator.LinearEstimationResult object at 0x10ce34520>], [<quara.protocol.qtomography.standard.projected_linear_estimator.ProjectedLinearEstimationResult object at 0x10ce34880>, <quara.protocol.qtomography.standard.projected_linear_estimator.ProjectedLinearEstimationResult object at 0x10ce34940>, <quara.protocol.qtomography.standard.projected_linear_estimator.ProjectedLinearEstimationResult object at 0x10ce34a60>, <quara.protocol.qtomography.standard.projected_linear_estimator.ProjectedLinearEstimationResult object at 0x10ce34f10>, <quara.protocol.qtomography.standard.projected_linear_estimator.ProjectedLinearEstimationResult object at 0x10ce34c70>, <quara.protocol.qtomography.standard.projected_linear_estimator.ProjectedLinearEstimationResult object at 0x10ce34bb0>, <quara.protocol.qtomography.standard.projected_linear_estimator.ProjectedLinearEstimationResult object at 0x10ce349d0>, <quara.protocol.qtomography.standard.projected_linear_estimator.ProjectedLinearEstimationResult object at 0x10ce34ca0>, <quara.protocol.qtomography.standard.projected_linear_estimator.ProjectedLinearEstimationResult object at 0x10ef855b0>, <quara.protocol.qtomography.standard.projected_linear_estimator.ProjectedLinearEstimationResult object at 0x10ef85310>], [<quara.protocol.qtomography.standard.projected_linear_estimator.ProjectedLinearEstimationResult object at 0x10ef850d0>, <quara.protocol.qtomography.standard.projected_linear_estimator.ProjectedLinearEstimationResult object at 0x10ef85760>, <quara.protocol.qtomography.standard.projected_linear_estimator.ProjectedLinearEstimationResult object at 0x10ef855e0>, <quara.protocol.qtomography.standard.projected_linear_estimator.ProjectedLinearEstimationResult object at 0x10ef85460>, <quara.protocol.qtomography.standard.projected_linear_estimator.ProjectedLinearEstimationResult object at 0x10ef859a0>, <quara.protocol.qtomography.standard.projected_linear_estimator.ProjectedLinearEstimationResult object at 0x10ef85bb0>, <quara.protocol.qtomography.standard.projected_linear_estimator.ProjectedLinearEstimationResult object at 0x10ef85a00>, <quara.protocol.qtomography.standard.projected_linear_estimator.ProjectedLinearEstimationResult object at 0x10ef85b50>, <quara.protocol.qtomography.standard.projected_linear_estimator.ProjectedLinearEstimationResult object at 0x10ef85220>, <quara.protocol.qtomography.standard.projected_linear_estimator.ProjectedLinearEstimationResult object at 0x10ef856d0>]], 'case_names': ['LinearEstimator(True)', 'LinearEstimator(False)', 'ProjectedLinearEstimator(True)', 'ProjectedLinearEstimator(False)'], 'true_object': <quara.objects.povm.Povm object at 0x10cd97e50>}\n",
      "​​Generating physicality violation test blocks ...\n"
     ]
    },
    {
     "name": "stderr",
     "output_type": "stream",
     "text": [
      "\n",
      "100%|██████████| 10/10 [00:00<00:00, 10449.19it/s]\n",
      "100%|██████████| 10/10 [00:00<00:00, 119.26it/s]\n",
      "  0%|          | 0/4 [00:00<?, ?it/s]\n",
      "4it [00:00, 62.21it/s]\n",
      "\n",
      "0it [00:00, ?it/s]\u001b[A\n",
      "4it [00:00, 15.92it/s]\u001b[A\n",
      " 50%|█████     | 2/4 [00:00<00:00,  5.97it/s]\n",
      "4it [00:00, 47.29it/s]\n",
      " 75%|███████▌  | 3/4 [00:00<00:00,  6.77it/s]\n",
      "4it [00:00, 46.65it/s]\n",
      "100%|██████████| 4/4 [00:00<00:00,  7.53it/s]\n",
      "100%|██████████| 10/10 [00:00<00:00, 92.81it/s]\n",
      "  0%|          | 0/4 [00:00<?, ?it/s]\n",
      "4it [00:00, 50.61it/s]\n",
      "\n",
      "4it [00:00, 44.00it/s]\n",
      " 50%|█████     | 2/4 [00:00<00:00, 10.70it/s]\n",
      "4it [00:00, 49.25it/s]\n",
      "\n",
      "4it [00:00, 58.50it/s]\n",
      "100%|██████████| 4/4 [00:00<00:00, 11.41it/s]\n",
      "100%|██████████| 10/10 [00:00<00:00, 93.03it/s]\n",
      "100%|██████████| 10/10 [00:00<00:00, 96.22it/s]\n",
      "100%|██████████| 10/10 [00:00<00:00, 10578.32it/s]\n",
      "100%|██████████| 10/10 [00:00<00:00, 10182.82it/s]\n",
      "100%|██████████| 10/10 [00:00<00:00, 63.04it/s]\n",
      "  0%|          | 0/4 [00:00<?, ?it/s]\n",
      "4it [00:00, 43.83it/s]\n",
      " 25%|██▌       | 1/4 [00:00<00:00,  9.69it/s]\n",
      "0it [00:00, ?it/s]\u001b[A\n",
      "4it [00:00, 28.22it/s]\u001b[A\n",
      " 50%|█████     | 2/4 [00:00<00:00,  5.91it/s]\n",
      "4it [00:00, 47.39it/s]\n",
      " 75%|███████▌  | 3/4 [00:00<00:00,  6.68it/s]\n",
      "4it [00:00, 50.61it/s]\n",
      "100%|██████████| 4/4 [00:00<00:00,  6.47it/s]\n",
      "100%|██████████| 10/10 [00:00<00:00, 84.51it/s]\n",
      "  0%|          | 0/4 [00:00<?, ?it/s]\n",
      "4it [00:00, 46.05it/s]\n",
      "\n",
      "4it [00:00, 53.87it/s]\n",
      " 50%|█████     | 2/4 [00:00<00:00, 11.36it/s]\n",
      "4it [00:00, 43.41it/s]\n",
      " 75%|███████▌  | 3/4 [00:00<00:00, 10.87it/s]\n",
      "4it [00:00, 52.08it/s]\n",
      "100%|██████████| 4/4 [00:00<00:00, 10.99it/s]\n",
      "100%|██████████| 10/10 [00:00<00:00, 73.91it/s]\n",
      "100%|██████████| 10/10 [00:00<00:00, 110.66it/s]\n",
      "100%|██████████| 10/10 [00:00<00:00, 9489.38it/s]\n",
      "100%|██████████| 10/10 [00:00<00:00, 6022.84it/s]\n",
      "100%|██████████| 10/10 [00:00<00:00, 122.50it/s]\n",
      "  0%|          | 0/4 [00:00<?, ?it/s]\n",
      "4it [00:00, 50.03it/s]\n",
      "\n",
      "4it [00:00, 59.50it/s]\n",
      " 50%|█████     | 2/4 [00:00<00:00, 12.66it/s]\n",
      "4it [00:00, 54.92it/s]\n",
      "\n",
      "4it [00:00, 46.83it/s]\n",
      "100%|██████████| 4/4 [00:00<00:00, 11.94it/s]\n",
      "100%|██████████| 10/10 [00:00<00:00, 113.09it/s]\n",
      "  0%|          | 0/4 [00:00<?, ?it/s]\n",
      "4it [00:00, 51.28it/s]\n",
      "\n",
      "4it [00:00, 52.31it/s]\n",
      " 50%|█████     | 2/4 [00:00<00:00, 12.06it/s]\n",
      "4it [00:00, 47.75it/s]\n",
      "\n",
      "4it [00:00, 47.88it/s]\n",
      "100%|██████████| 4/4 [00:00<00:00, 11.23it/s]\n",
      "100%|██████████| 10/10 [00:00<00:00, 115.72it/s]\n",
      "100%|██████████| 10/10 [00:00<00:00, 115.30it/s]\n",
      "100%|██████████| 10/10 [00:00<00:00, 9843.47it/s]\n",
      "100%|██████████| 10/10 [00:00<00:00, 7781.64it/s]\n",
      "100%|██████████| 10/10 [00:00<00:00, 120.25it/s]\n",
      "  0%|          | 0/4 [00:00<?, ?it/s]\n",
      "4it [00:00, 56.26it/s]\n",
      "\n",
      "4it [00:00, 44.99it/s]\n",
      " 50%|█████     | 2/4 [00:00<00:00, 11.56it/s]\n",
      "4it [00:00, 44.82it/s]\n",
      "\n",
      "4it [00:00, 50.92it/s]\n",
      "100%|██████████| 4/4 [00:00<00:00, 11.05it/s]\n",
      "100%|██████████| 10/10 [00:00<00:00, 119.96it/s]\n",
      "  0%|          | 0/4 [00:00<?, ?it/s]\n",
      "4it [00:00, 48.67it/s]\n",
      "\n",
      "4it [00:00, 57.42it/s]\n",
      " 50%|█████     | 2/4 [00:00<00:00, 12.10it/s]\n",
      "4it [00:00, 57.67it/s]\n",
      "\n",
      "4it [00:00, 63.95it/s]\n",
      "100%|██████████| 4/4 [00:00<00:00, 12.61it/s]\n",
      "100%|██████████| 10/10 [00:00<00:00, 113.68it/s]\n",
      "100%|██████████| 10/10 [00:00<00:00, 118.61it/s]\n"
     ]
    },
    {
     "name": "stdout",
     "output_type": "stream",
     "text": [
      "Converting to PDF report ...\n",
      "​Deleting temporary files ...\n",
      "Completed to export pdf. (povmt_2qubit_20210115_修正後.pdf)\n"
     ]
    }
   ],
   "source": [
    "report.export_report(\"povmt_2qubit.pdf\",\n",
    "    estimation_results_list,\n",
    "    simulation_settings,\n",
    "    true_object,\n",
    "    tester_objects,\n",
    "    seed=seed,\n",
    "    computation_time=sum(elapsed_times)\n",
    ")"
   ]
  }
 ],
 "metadata": {
  "hide_input": false,
  "kernelspec": {
   "display_name": "quara_venv",
   "language": "python",
   "name": "quara_venv"
  },
  "language_info": {
   "codemirror_mode": {
    "name": "ipython",
    "version": 3
   },
   "file_extension": ".py",
   "mimetype": "text/x-python",
   "name": "python",
   "nbconvert_exporter": "python",
   "pygments_lexer": "ipython3",
   "version": "3.8.0"
  },
  "toc": {
   "base_numbering": 1,
   "nav_menu": {},
   "number_sections": true,
   "sideBar": true,
   "skip_h1_title": false,
   "title_cell": "Table of Contents",
   "title_sidebar": "Contents",
   "toc_cell": false,
   "toc_position": {},
   "toc_section_display": true,
   "toc_window_display": false
  },
  "varInspector": {
   "cols": {
    "lenName": 16,
    "lenType": 16,
    "lenVar": 40
   },
   "kernels_config": {
    "python": {
     "delete_cmd_postfix": "",
     "delete_cmd_prefix": "del ",
     "library": "var_list.py",
     "varRefreshCmd": "print(var_dic_list())"
    },
    "r": {
     "delete_cmd_postfix": ") ",
     "delete_cmd_prefix": "rm(",
     "library": "var_list.r",
     "varRefreshCmd": "cat(var_dic_list()) "
    }
   },
   "types_to_exclude": [
    "module",
    "function",
    "builtin_function_or_method",
    "instance",
    "_Feature"
   ],
   "window_display": false
  }
 },
 "nbformat": 4,
 "nbformat_minor": 4
}
