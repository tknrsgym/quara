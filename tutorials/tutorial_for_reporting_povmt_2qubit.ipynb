{
 "cells": [
  {
   "cell_type": "code",
   "execution_count": 1,
   "metadata": {},
   "outputs": [],
   "source": [
    "# Povm"
   ]
  },
  {
   "cell_type": "code",
   "execution_count": 1,
   "metadata": {},
   "outputs": [],
   "source": [
    "import pickle\n",
    "import time\n",
    "from typing import List\n",
    "import datetime as dt\n",
    "from pathlib import Path\n",
    "import itertools\n",
    "\n",
    "import numpy as np\n",
    "import pandas as pd\n",
    "import plotly.graph_objects as go\n",
    "import plotly.express as px\n",
    "\n",
    "from tqdm import tqdm\n",
    "\n",
    "from quara.data_analysis import data_analysis, physicality_violation_check, report\n",
    "from quara.data_analysis.projected_gradient_descent_base import ProjectedGradientDescentBase, ProjectedGradientDescentBaseOption\n",
    "from quara.data_analysis.weighted_probability_based_squared_error import WeightedProbabilityBasedSquaredError, WeightedProbabilityBasedSquaredErrorOption\n",
    "from quara.data_analysis.weighted_relative_entropy import WeightedRelativeEntropy, WeightedRelativeEntropyOption\n",
    "from quara.objects.composite_system import CompositeSystem\n",
    "from quara.objects.elemental_system import ElementalSystem\n",
    "from quara.objects.matrix_basis import get_normalized_pauli_basis\n",
    "from quara.objects.state import (\n",
    "    State,\n",
    "    get_x0_1q,\n",
    "    get_x1_1q,\n",
    "    get_y0_1q,\n",
    "    get_y1_1q,\n",
    "    get_z0_1q,\n",
    "    get_z1_1q,\n",
    ")\n",
    "from quara.objects.povm import (\n",
    "    Povm,get_x_measurement, get_z_measurement\n",
    ")\n",
    "from quara.objects.qoperation import QOperation\n",
    "from quara.protocol.qtomography.standard.standard_povmt import StandardPovmt\n",
    "from quara.protocol.qtomography.standard.linear_estimator import LinearEstimator\n",
    "from quara.protocol.qtomography.standard.loss_minimization_estimator import LossMinimizationEstimator\n",
    "from quara.protocol.qtomography.standard.projected_linear_estimator import (\n",
    "    ProjectedLinearEstimator,\n",
    ")\n",
    "from quara.objects.operators import tensor_product\n",
    "\n",
    "from quara.data_analysis.simulation import SimulationSetting"
   ]
  },
  {
   "cell_type": "code",
   "execution_count": 2,
   "metadata": {},
   "outputs": [],
   "source": [
    "%load_ext autoreload\n",
    "%autoreload 2"
   ]
  },
  {
   "cell_type": "code",
   "execution_count": 3,
   "metadata": {},
   "outputs": [],
   "source": [
    "start_all = time.time()"
   ]
  },
  {
   "cell_type": "code",
   "execution_count": 4,
   "metadata": {},
   "outputs": [],
   "source": [
    "# setup system\n",
    "e_sys_1 = ElementalSystem(0, get_normalized_pauli_basis())\n",
    "c_sys_1 = CompositeSystem([e_sys_1])\n",
    "\n",
    "e_sys_2 = ElementalSystem(1, get_normalized_pauli_basis())\n",
    "c_sys_2 = CompositeSystem([e_sys_2])\n",
    "\n",
    "# |+><+|\n",
    "# state_x0 = get_x0_1q(c_sys)\n",
    "# |+i><+i|\n",
    "# state_y0 = get_y0_1q(c_sys)\n",
    "# |0><0|\n",
    "# state_z0 = get_z0_1q(c_sys)\n",
    "# |1><1|\n",
    "# state_z1 = get_z1_1q(c_sys)\n",
    "\n",
    "tester_objects = []\n",
    "\n",
    "# |+><+| |+i><+i| |0><0| |1><1|\n",
    "func_list = [get_x0_1q, get_y0_1q, get_z0_1q, get_z1_1q]\n",
    "\n",
    "for i, funcs in enumerate(itertools.product(func_list, func_list)):\n",
    "    state1 = funcs[0](c_sys_1)\n",
    "    state2 = funcs[1](c_sys_2)\n",
    "\n",
    "    state_2qubit = tensor_product(state1, state2)\n",
    "\n",
    "    tester_objects.append(state_2qubit)"
   ]
  },
  {
   "cell_type": "code",
   "execution_count": 5,
   "metadata": {},
   "outputs": [],
   "source": [
    "true_object = tensor_product( get_z_measurement(c_sys_1),  get_z_measurement(c_sys_2))"
   ]
  },
  {
   "cell_type": "code",
   "execution_count": 7,
   "metadata": {},
   "outputs": [
    {
     "name": "stderr",
     "output_type": "stream",
     "text": [
      "100%|██████████| 10/10 [00:06<00:00,  1.61it/s]\n",
      "  0%|          | 0/10 [00:00<?, ?it/s]"
     ]
    },
    {
     "name": "stdout",
     "output_type": "stream",
     "text": [
      "Name: LinearEstimator(True)\n",
      "Estimator: LinearEstimator\n",
      "Loss: None\n",
      "Algo: None\n",
      "elapsed_time: 0.10451223452885945[min]\n",
      "\n"
     ]
    },
    {
     "name": "stderr",
     "output_type": "stream",
     "text": [
      "100%|██████████| 10/10 [00:07<00:00,  1.33it/s]\n",
      "  0%|          | 0/10 [00:00<?, ?it/s]"
     ]
    },
    {
     "name": "stdout",
     "output_type": "stream",
     "text": [
      "Name: LinearEstimator(False)\n",
      "Estimator: LinearEstimator\n",
      "Loss: None\n",
      "Algo: None\n",
      "elapsed_time: 0.12541684707005818[min]\n",
      "\n"
     ]
    },
    {
     "name": "stderr",
     "output_type": "stream",
     "text": [
      "100%|██████████| 10/10 [02:12<00:00, 13.28s/it]\n",
      "  0%|          | 0/10 [00:00<?, ?it/s]"
     ]
    },
    {
     "name": "stdout",
     "output_type": "stream",
     "text": [
      "Name: ProjectedLinearEstimator(True)\n",
      "Estimator: ProjectedLinearEstimator\n",
      "Loss: None\n",
      "Algo: None\n",
      "elapsed_time: 2.2129801472028094[min]\n",
      "\n"
     ]
    },
    {
     "name": "stderr",
     "output_type": "stream",
     "text": [
      "100%|██████████| 10/10 [01:20<00:00,  8.05s/it]"
     ]
    },
    {
     "name": "stdout",
     "output_type": "stream",
     "text": [
      "Name: ProjectedLinearEstimator(False)\n",
      "Estimator: ProjectedLinearEstimator\n",
      "Loss: None\n",
      "Algo: None\n",
      "elapsed_time: 1.341193163394928[min]\n",
      "\n"
     ]
    },
    {
     "name": "stderr",
     "output_type": "stream",
     "text": [
      "\n"
     ]
    }
   ],
   "source": [
    "num_data = [100, 1000, 10000]\n",
    "n_rep = 10\n",
    "measurement_n = len(true_object.vecs)  # 測定値の数\n",
    "\n",
    "case_name_list = [\n",
    "    \"LinearEstimator(True)\",\n",
    "    \"LinearEstimator(False)\",\n",
    "    \"ProjectedLinearEstimator(True)\",\n",
    "    \"ProjectedLinearEstimator(False)\",\n",
    "]\n",
    "\n",
    "seed = 777\n",
    "qtomography_list = [\n",
    "    StandardPovmt(tester_objects, measurement_n, on_para_eq_constraint=True, seed=seed),\n",
    "    StandardPovmt(tester_objects, measurement_n, on_para_eq_constraint=False, seed=seed),\n",
    "    StandardPovmt(tester_objects, measurement_n, on_para_eq_constraint=True, seed=seed),\n",
    "    StandardPovmt(tester_objects, measurement_n, on_para_eq_constraint=False, seed=seed),\n",
    "]\n",
    "\n",
    "para_list = [\n",
    "    True,\n",
    "    False,\n",
    "    True,\n",
    "    False,\n",
    "]\n",
    "\n",
    "estimator_list = [\n",
    "    LinearEstimator(),\n",
    "    LinearEstimator(),\n",
    "    ProjectedLinearEstimator(),\n",
    "    ProjectedLinearEstimator()\n",
    "]\n",
    "\n",
    "estimation_results_list = []\n",
    "elapsed_times = []\n",
    "simulation_settings = []\n",
    "\n",
    "for i, name in enumerate(case_name_list):\n",
    "    qtomography = qtomography_list[i]\n",
    "    estimator = estimator_list[i]\n",
    "\n",
    "    start = time.time()\n",
    "\n",
    "    estimation_results = data_analysis.estimate(\n",
    "        qtomography=qtomography,\n",
    "        true_object=true_object,\n",
    "        num_data=num_data,\n",
    "        estimator=estimator,\n",
    "        iteration=n_rep,\n",
    "    )\n",
    "\n",
    "    # stock settings of this simulation\n",
    "    simulation_setting = SimulationSetting(\n",
    "        name=name,\n",
    "        estimator=estimator\n",
    "    )\n",
    "    print(simulation_setting)\n",
    "    simulation_settings.append(simulation_setting)\n",
    "\n",
    "    estimation_results_list.append(estimation_results)\n",
    "\n",
    "    elapsed_time = time.time() - start\n",
    "    print(\"elapsed_time: {0}\".format(elapsed_time / 60) + \"[min]\\n\")\n",
    "    elapsed_times.append(elapsed_time)"
   ]
  },
  {
   "cell_type": "code",
   "execution_count": 11,
   "metadata": {},
   "outputs": [
    {
     "name": "stderr",
     "output_type": "stream",
     "text": [
      "100%|██████████| 10/10 [00:00<00:00, 8598.41it/s]\n",
      "100%|██████████| 10/10 [00:00<00:00, 15750.30it/s]\n",
      "100%|██████████| 10/10 [00:00<00:00, 22882.18it/s]"
     ]
    },
    {
     "name": "stdout",
     "output_type": "stream",
     "text": [
      "​Generating table of computation time ...\n",
      "​Generating table of experimental conditions ...\n",
      "Generating case list ...\n",
      "​​Generating MSE of empirical distributions blocks ...\n"
     ]
    },
    {
     "name": "stderr",
     "output_type": "stream",
     "text": [
      "\n"
     ]
    },
    {
     "name": "stdout",
     "output_type": "stream",
     "text": [
      "​​Generating consictency test blocks ...\n",
      "​Generating a graph for MSE ...\n",
      "  LinearEstimator(True)=[9.564439999999992, 9.098220599999992, 9.002429433999996]\n",
      "  LinearEstimator(False)=[0.2683000000000003, 0.026104399999999993, 0.003193570000000022]\n",
      "  ProjectedLinearEstimator(True)=[4.78779152917869, 4.766868227807777, 4.741182270052572]\n",
      "  ProjectedLinearEstimator(False)=[0.1667886712370791, 0.021935338039248714, 0.0020380067683603486]\n",
      "  LinearEstimator(True)=[9.564439999999992, 9.098220599999992, 9.002429433999996]\n",
      "  ProjectedLinearEstimator(True)=[4.78779152917869, 4.766868227807777, 4.741182270052572]\n",
      "  LinearEstimator(False)=[0.2683000000000003, 0.026104399999999993, 0.003193570000000022]\n",
      "  ProjectedLinearEstimator(False)=[0.1667886712370791, 0.021935338039248714, 0.0020380067683603486]\n"
     ]
    },
    {
     "name": "stderr",
     "output_type": "stream",
     "text": [
      "100%|██████████| 10/10 [00:00<00:00, 5414.10it/s]"
     ]
    },
    {
     "name": "stdout",
     "output_type": "stream",
     "text": [
      "​​Generating physicality violation test blocks ...\n"
     ]
    },
    {
     "name": "stderr",
     "output_type": "stream",
     "text": [
      "\n",
      "100%|██████████| 10/10 [00:00<00:00, 3202.98it/s]\n",
      "100%|██████████| 10/10 [00:00<00:00, 16723.70it/s]\n",
      "100%|██████████| 10/10 [00:00<00:00, 129.88it/s]\n",
      "  0%|          | 0/4 [00:00<?, ?it/s]\n",
      "4it [00:00, 62.98it/s]\n",
      "\n",
      "0it [00:00, ?it/s]\u001b[A"
     ]
    },
    {
     "name": "stdout",
     "output_type": "stream",
     "text": [
      "col_n=4\n",
      "DEBUG:\n"
     ]
    },
    {
     "name": "stderr",
     "output_type": "stream",
     "text": [
      "4it [00:00, 55.74it/s]\n",
      " 50%|█████     | 2/4 [00:00<00:00, 13.59it/s]\n",
      "4it [00:00, 68.60it/s]\n",
      "\n",
      "4it [00:00, 67.22it/s]\n",
      "100%|██████████| 4/4 [00:00<00:00, 14.27it/s]\n",
      "100%|██████████| 10/10 [00:00<00:00, 97.52it/s]\n",
      "  0%|          | 0/4 [00:00<?, ?it/s]\n",
      "4it [00:00, 62.93it/s]\n",
      "\n",
      "0it [00:00, ?it/s]\u001b[A\n",
      "4it [00:00, 29.66it/s]\u001b[A\n",
      " 50%|█████     | 2/4 [00:00<00:00,  7.67it/s]\n",
      "0it [00:00, ?it/s]\u001b[A\n",
      "4it [00:00, 35.06it/s]\u001b[A\n",
      " 75%|███████▌  | 3/4 [00:00<00:00,  7.63it/s]\n",
      "4it [00:00, 46.98it/s]\n",
      "100%|██████████| 4/4 [00:00<00:00,  8.16it/s]\n",
      "100%|██████████| 10/10 [00:00<00:00, 155.87it/s]\n",
      "  0%|          | 0/4 [00:00<?, ?it/s]\n",
      "4it [00:00, 76.95it/s]\n",
      "\n",
      "4it [00:00, 77.05it/s]\n",
      " 50%|█████     | 2/4 [00:00<00:00, 17.25it/s]\n",
      "4it [00:00, 74.24it/s]\n",
      "\n",
      "4it [00:00, 76.49it/s]\n",
      "100%|██████████| 4/4 [00:00<00:00, 16.67it/s]\n",
      "100%|██████████| 10/10 [00:00<00:00, 134.65it/s]\n",
      "100%|██████████| 10/10 [00:00<00:00, 151.77it/s]\n",
      "100%|██████████| 10/10 [00:00<00:00, 134.58it/s]\n",
      "100%|██████████| 10/10 [00:00<00:00, 7065.88it/s]\n",
      "100%|██████████| 10/10 [00:00<00:00, 12300.01it/s]\n",
      "100%|██████████| 10/10 [00:00<00:00, 7416.98it/s]\n",
      " 90%|█████████ | 9/10 [00:00<00:00, 75.99it/s]"
     ]
    },
    {
     "name": "stdout",
     "output_type": "stream",
     "text": [
      "col_n=4\n",
      "DEBUG:\n"
     ]
    },
    {
     "name": "stderr",
     "output_type": "stream",
     "text": [
      "100%|██████████| 10/10 [00:00<00:00, 74.49it/s]\n",
      "  0%|          | 0/4 [00:00<?, ?it/s]\n",
      "0it [00:00, ?it/s]\u001b[A\n",
      "4it [00:00, 31.74it/s]\u001b[A\n",
      " 25%|██▌       | 1/4 [00:00<00:00,  7.19it/s]\n",
      "4it [00:00, 41.94it/s]\n",
      " 50%|█████     | 2/4 [00:00<00:00,  7.62it/s]\n",
      "0it [00:00, ?it/s]\u001b[A\n",
      "4it [00:00, 17.97it/s]\u001b[A\n",
      " 75%|███████▌  | 3/4 [00:00<00:00,  6.14it/s]\n",
      "0it [00:00, ?it/s]\u001b[A\n",
      "1it [00:00,  8.16it/s]\u001b[A\n",
      "4it [00:00, 14.21it/s]\u001b[A\n",
      "100%|██████████| 4/4 [00:00<00:00,  5.08it/s]\n",
      "100%|██████████| 10/10 [00:00<00:00, 138.91it/s]\n",
      "  0%|          | 0/4 [00:00<?, ?it/s]\n",
      "4it [00:00, 64.44it/s]\n",
      "\n",
      "4it [00:00, 67.49it/s]\n",
      " 50%|█████     | 2/4 [00:00<00:00, 14.85it/s]\n",
      "4it [00:00, 62.51it/s]\n",
      "\n",
      "4it [00:00, 64.84it/s]\n",
      "100%|██████████| 4/4 [00:00<00:00, 14.44it/s]\n",
      "100%|██████████| 10/10 [00:00<00:00, 116.01it/s]\n",
      "  0%|          | 0/4 [00:00<?, ?it/s]\n",
      "0it [00:00, ?it/s]\u001b[A\n",
      "4it [00:00, 36.35it/s]\u001b[A\n",
      " 25%|██▌       | 1/4 [00:00<00:00,  8.54it/s]\n",
      "4it [00:00, 55.42it/s]\n",
      "\n",
      "4it [00:00, 45.75it/s]\n",
      " 75%|███████▌  | 3/4 [00:00<00:00,  9.20it/s]\n",
      "0it [00:00, ?it/s]\u001b[A\n",
      "4it [00:00, 36.34it/s]\u001b[A\n",
      "100%|██████████| 4/4 [00:00<00:00,  9.56it/s]\n",
      "100%|██████████| 10/10 [00:00<00:00, 168.65it/s]\n",
      "100%|██████████| 10/10 [00:00<00:00, 131.73it/s]\n",
      "100%|██████████| 10/10 [00:00<00:00, 129.56it/s]\n",
      "100%|██████████| 10/10 [00:00<00:00, 6881.55it/s]\n",
      "100%|██████████| 10/10 [00:00<00:00, 13742.80it/s]\n",
      "100%|██████████| 10/10 [00:00<00:00, 8664.13it/s]\n",
      "100%|██████████| 10/10 [00:00<00:00, 136.03it/s]\n",
      "  0%|          | 0/4 [00:00<?, ?it/s]\n",
      "4it [00:00, 91.43it/s]\n",
      "\n",
      "0it [00:00, ?it/s]\u001b[A"
     ]
    },
    {
     "name": "stdout",
     "output_type": "stream",
     "text": [
      "col_n=4\n",
      "DEBUG:\n"
     ]
    },
    {
     "name": "stderr",
     "output_type": "stream",
     "text": [
      "4it [00:00, 96.15it/s]\n",
      "\n",
      "4it [00:00, 83.36it/s]\n",
      " 75%|███████▌  | 3/4 [00:00<00:00, 20.18it/s]\n",
      "4it [00:00, 82.86it/s]\n",
      "100%|██████████| 4/4 [00:00<00:00, 19.67it/s]\n",
      "100%|██████████| 10/10 [00:00<00:00, 156.39it/s]\n",
      "  0%|          | 0/4 [00:00<?, ?it/s]\n",
      "4it [00:00, 87.12it/s]\n",
      "\n",
      "4it [00:00, 66.94it/s]\n",
      " 50%|█████     | 2/4 [00:00<00:00, 17.01it/s]\n",
      "4it [00:00, 84.11it/s]\n",
      "\n",
      "4it [00:00, 80.56it/s]\n",
      "100%|██████████| 4/4 [00:00<00:00, 17.19it/s]\n",
      "100%|██████████| 10/10 [00:00<00:00, 157.80it/s]\n",
      "  0%|          | 0/4 [00:00<?, ?it/s]\n",
      "4it [00:00, 90.45it/s]\n",
      "\n",
      "4it [00:00, 98.05it/s]\n",
      "\n",
      "4it [00:00, 79.45it/s]\n",
      " 75%|███████▌  | 3/4 [00:00<00:00, 19.69it/s]\n",
      "4it [00:00, 97.21it/s]\n",
      "100%|██████████| 4/4 [00:00<00:00, 19.73it/s]\n",
      "100%|██████████| 10/10 [00:00<00:00, 91.04it/s]\n",
      "100%|██████████| 10/10 [00:00<00:00, 130.56it/s]\n",
      "100%|██████████| 10/10 [00:00<00:00, 151.98it/s]\n",
      "100%|██████████| 10/10 [00:00<00:00, 5762.99it/s]\n",
      "100%|██████████| 10/10 [00:00<00:00, 7503.23it/s]\n",
      "100%|██████████| 10/10 [00:00<00:00, 6803.41it/s]\n",
      "100%|██████████| 10/10 [00:00<00:00, 170.65it/s]\n",
      "  0%|          | 0/4 [00:00<?, ?it/s]\n",
      "4it [00:00, 86.23it/s]\n",
      "\n",
      "0it [00:00, ?it/s]\u001b[A"
     ]
    },
    {
     "name": "stdout",
     "output_type": "stream",
     "text": [
      "col_n=4\n",
      "DEBUG:\n"
     ]
    },
    {
     "name": "stderr",
     "output_type": "stream",
     "text": [
      "4it [00:00, 78.22it/s]\n",
      " 50%|█████     | 2/4 [00:00<00:00, 18.68it/s]\n",
      "4it [00:00, 84.85it/s]\n",
      "\n",
      "4it [00:00, 85.35it/s]\n",
      "100%|██████████| 4/4 [00:00<00:00, 18.41it/s]\n",
      "100%|██████████| 10/10 [00:00<00:00, 143.03it/s]\n",
      "  0%|          | 0/4 [00:00<?, ?it/s]\n",
      "4it [00:00, 78.71it/s]\n",
      "\n",
      "4it [00:00, 89.90it/s]\n",
      " 50%|█████     | 2/4 [00:00<00:00, 18.72it/s]\n",
      "4it [00:00, 81.83it/s]\n",
      "\n",
      "4it [00:00, 72.22it/s]\n",
      "100%|██████████| 4/4 [00:00<00:00, 17.94it/s]\n",
      "100%|██████████| 10/10 [00:00<00:00, 158.69it/s]\n",
      "  0%|          | 0/4 [00:00<?, ?it/s]\n",
      "4it [00:00, 87.74it/s]\n",
      "\n",
      "4it [00:00, 85.32it/s]\n",
      " 50%|█████     | 2/4 [00:00<00:00, 19.24it/s]\n",
      "4it [00:00, 80.77it/s]\n",
      "\n",
      "4it [00:00, 83.35it/s]\n",
      "100%|██████████| 4/4 [00:00<00:00, 18.39it/s]\n",
      "100%|██████████| 10/10 [00:00<00:00, 156.51it/s]\n",
      "100%|██████████| 10/10 [00:00<00:00, 164.24it/s]\n",
      "100%|██████████| 10/10 [00:00<00:00, 145.87it/s]\n"
     ]
    },
    {
     "name": "stdout",
     "output_type": "stream",
     "text": [
      "Converting to PDF report ...\n",
      "​Deleting temporary files ...\n",
      "Completed to export pdf. (povmt_2qubit.pdf)\n"
     ]
    }
   ],
   "source": [
    "report.export_report(\"povmt_2qubit.pdf\",\n",
    "    estimation_results_list,\n",
    "    simulation_settings,\n",
    "    true_object,\n",
    "    tester_objects,\n",
    "    seed=seed,\n",
    "    computation_time=sum(elapsed_times)\n",
    ")"
   ]
  },
  {
   "cell_type": "code",
   "execution_count": 9,
   "metadata": {},
   "outputs": [
    {
     "data": {
      "text/plain": [
       "[array([1.+0.j, 0.+0.j, 0.+0.j, 0.+0.j]),\n",
       " array([0.+0.j, 1.+0.j, 0.+0.j, 0.+0.j]),\n",
       " array([0.+0.j, 0.+0.j, 1.+0.j, 0.+0.j]),\n",
       " array([0.+0.j, 0.+0.j, 0.+0.j, 1.+0.j])]"
      ]
     },
     "execution_count": 9,
     "metadata": {},
     "output_type": "execute_result"
    }
   ],
   "source": [
    "true_object.calc_eigenvalues()"
   ]
  },
  {
   "cell_type": "code",
   "execution_count": null,
   "metadata": {},
   "outputs": [],
   "source": []
  }
 ],
 "metadata": {
  "hide_input": false,
  "kernelspec": {
   "display_name": "quara_venv",
   "language": "python",
   "name": "quara_venv"
  },
  "language_info": {
   "codemirror_mode": {
    "name": "ipython",
    "version": 3
   },
   "file_extension": ".py",
   "mimetype": "text/x-python",
   "name": "python",
   "nbconvert_exporter": "python",
   "pygments_lexer": "ipython3",
   "version": "3.8.0"
  },
  "toc": {
   "base_numbering": 1,
   "nav_menu": {},
   "number_sections": true,
   "sideBar": true,
   "skip_h1_title": false,
   "title_cell": "Table of Contents",
   "title_sidebar": "Contents",
   "toc_cell": false,
   "toc_position": {},
   "toc_section_display": true,
   "toc_window_display": false
  },
  "varInspector": {
   "cols": {
    "lenName": 16,
    "lenType": 16,
    "lenVar": 40
   },
   "kernels_config": {
    "python": {
     "delete_cmd_postfix": "",
     "delete_cmd_prefix": "del ",
     "library": "var_list.py",
     "varRefreshCmd": "print(var_dic_list())"
    },
    "r": {
     "delete_cmd_postfix": ") ",
     "delete_cmd_prefix": "rm(",
     "library": "var_list.r",
     "varRefreshCmd": "cat(var_dic_list()) "
    }
   },
   "types_to_exclude": [
    "module",
    "function",
    "builtin_function_or_method",
    "instance",
    "_Feature"
   ],
   "window_display": false
  }
 },
 "nbformat": 4,
 "nbformat_minor": 4
}
