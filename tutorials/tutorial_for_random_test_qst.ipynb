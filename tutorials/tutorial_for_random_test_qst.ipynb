{
 "cells": [
  {
   "cell_type": "code",
   "execution_count": 1,
   "metadata": {},
   "outputs": [],
   "source": [
    "# State"
   ]
  },
  {
   "cell_type": "code",
   "execution_count": 1,
   "metadata": {},
   "outputs": [],
   "source": [
    "import numpy as np\n",
    "\n",
    "import quara.objects.qoperation_typical as qt\n",
    "from quara.objects.composite_system_typical import generate_composite_system\n",
    "\n",
    "from quara.loss_function.weighted_probability_based_squared_error import (\n",
    "    WeightedProbabilityBasedSquaredError,\n",
    "    WeightedProbabilityBasedSquaredErrorOption,\n",
    ")\n",
    "from quara.loss_function.weighted_relative_entropy import (\n",
    "    WeightedRelativeEntropy,\n",
    "    WeightedRelativeEntropyOption,\n",
    ")\n",
    "from quara.minimization_algorithm.projected_gradient_descent_backtracking import (\n",
    "    ProjectedGradientDescentBacktracking,\n",
    "    ProjectedGradientDescentBacktrackingOption,\n",
    ")\n",
    "\n",
    "\n",
    "from quara.protocol.qtomography.standard.linear_estimator import LinearEstimator\n",
    "from quara.protocol.qtomography.standard.loss_minimization_estimator import (\n",
    "    LossMinimizationEstimator,\n",
    ")\n",
    "from quara.protocol.qtomography.standard.projected_linear_estimator import (\n",
    "    ProjectedLinearEstimator,\n",
    ")\n",
    "\n",
    "from quara.simulation.standard_qtomography_simulation import NoiseSetting, TestSetting\n",
    "from quara.simulation.standard_qtomography_simulation_flow import execute_simulation_test_settings"
   ]
  },
  {
   "cell_type": "code",
   "execution_count": 2,
   "metadata": {},
   "outputs": [],
   "source": [
    "%reload_ext autoreload\n",
    "%autoreload 2"
   ]
  },
  {
   "cell_type": "markdown",
   "metadata": {},
   "source": [
    "# Settings"
   ]
  },
  {
   "cell_type": "code",
   "execution_count": 3,
   "metadata": {},
   "outputs": [],
   "source": [
    "c_sys = generate_composite_system(\"qubit\", 1)"
   ]
  },
  {
   "cell_type": "code",
   "execution_count": 4,
   "metadata": {},
   "outputs": [],
   "source": [
    "# Generate settings for simulation\n",
    "case_names = [\n",
    "    \"Linear (True)\",\n",
    "    \"Linear (False)\",\n",
    "    \"ProjectedLinear (True)\",\n",
    "    \"ProjectedLinear (False)\",\n",
    "    \"Maximum-Likelihood (True)\",\n",
    "    \"Maximum-Likelihood (False)\",\n",
    "    \"Least Squares (True)\",\n",
    "    \"Least Squares (False)\",\n",
    "]\n",
    "\n",
    "parametrizations = [True, False, True, False, True, False, True, False]\n",
    "\n",
    "estimators = [\n",
    "    LinearEstimator(),\n",
    "    LinearEstimator(),\n",
    "    ProjectedLinearEstimator(),\n",
    "    ProjectedLinearEstimator(),\n",
    "    LossMinimizationEstimator(),\n",
    "    LossMinimizationEstimator(),\n",
    "    LossMinimizationEstimator(),\n",
    "    LossMinimizationEstimator(),\n",
    "]\n",
    "\n",
    "loss_list = [\n",
    "    (None, None),\n",
    "    (None, None),\n",
    "    (None, None),\n",
    "    (None, None),\n",
    "    (WeightedRelativeEntropy(3), WeightedRelativeEntropyOption(\"identity\")),\n",
    "    (WeightedRelativeEntropy(4), WeightedRelativeEntropyOption(\"identity\")),\n",
    "    (\n",
    "        WeightedProbabilityBasedSquaredError(3),\n",
    "        WeightedProbabilityBasedSquaredErrorOption(\"identity\"),\n",
    "    ),\n",
    "    (\n",
    "        WeightedProbabilityBasedSquaredError(4),\n",
    "        WeightedProbabilityBasedSquaredErrorOption(\"identity\"),\n",
    "    ),\n",
    "]\n",
    "\n",
    "\n",
    "def generate_pgdb_algo_option():\n",
    "    return ProjectedGradientDescentBacktrackingOption(\n",
    "        mode_stopping_criterion_gradient_descent=\"sum_absolute_difference_variable\",\n",
    "        num_history_stopping_criterion_gradient_descent=1,\n",
    "    )\n",
    "\n",
    "\n",
    "algo_list = [\n",
    "    (None, None),\n",
    "    (None, None),\n",
    "    (None, None),\n",
    "    (None, None),\n",
    "    (ProjectedGradientDescentBacktracking(), generate_pgdb_algo_option()),\n",
    "    (ProjectedGradientDescentBacktracking(), generate_pgdb_algo_option()),\n",
    "    (ProjectedGradientDescentBacktracking(), generate_pgdb_algo_option()),\n",
    "    (ProjectedGradientDescentBacktracking(), generate_pgdb_algo_option()),\n",
    "]"
   ]
  },
  {
   "cell_type": "code",
   "execution_count": 5,
   "metadata": {},
   "outputs": [],
   "source": [
    "# Generate TestSetting 0: random_effective_lindbladian\n",
    "# True Object\n",
    "true_object_noise_setting = NoiseSetting(\n",
    "    qoperation_base=(\"state\", \"z0\"),\n",
    "    method=\"random_effective_lindbladian\",\n",
    "    para={\n",
    "        \"lindbladian_base\": \"identity\",\n",
    "        \"strength_h_part\": 0.1,\n",
    "        \"strength_k_part\": 0.1,\n",
    "    },\n",
    ")\n",
    "\n",
    "# Tester Object\n",
    "tester_names = [(\"povm\", name) for name in [\"x\", \"y\", \"z\"]]\n",
    "tester_object_noise_settings = [\n",
    "    NoiseSetting(\n",
    "        qoperation_base=name,\n",
    "        method=\"random_effective_lindbladian\",\n",
    "        para={\n",
    "            \"lindbladian_base\": \"identity\",\n",
    "            \"strength_h_part\": 0.1,\n",
    "            \"strength_k_part\": 0.1,\n",
    "        },\n",
    "    )\n",
    "    for name in tester_names\n",
    "]\n",
    "\n",
    "\n",
    "# Test Setting\n",
    "test_setting_0 = TestSetting(\n",
    "    true_object=true_object_noise_setting,\n",
    "    tester_objects=tester_object_noise_settings,\n",
    "    seed=777,\n",
    "    n_sample=2,\n",
    "    n_rep=10,\n",
    "    num_data=[10, 100],\n",
    "    schedules=\"all\",\n",
    "    case_names=case_names,\n",
    "    estimators=estimators,\n",
    "    algo_list=algo_list,\n",
    "    loss_list=loss_list,\n",
    "    parametrizations=parametrizations,\n",
    "    c_sys=c_sys,\n",
    ")\n",
    "\n",
    "# Generate TestSetting 1: depolarized\n",
    "# True Object\n",
    "true_object_noise_setting = NoiseSetting(\n",
    "   qoperation_base=(\"state\", \"z0\"), method=\"depolarized\", para={\"error_rate\": 0.1,},\n",
    ")\n",
    "# Tester Object\n",
    "tester_object_noise_settings = [\n",
    "   NoiseSetting(qoperation_base=name, method=\"depolarized\", para={\"error_rate\": 0.1,},)\n",
    "   for name in tester_names\n",
    "]\n",
    "\n",
    "# Test Setting\n",
    "test_setting_1 = TestSetting(\n",
    "    true_object=true_object_noise_setting,\n",
    "    tester_objects=tester_object_noise_settings,\n",
    "    seed=777,\n",
    "    n_sample=2,\n",
    "    n_rep=10,\n",
    "    num_data=[10, 100],\n",
    "    schedules=\"all\",\n",
    "    case_names=case_names,\n",
    "    estimators=estimators,\n",
    "    algo_list=algo_list,\n",
    "    loss_list=loss_list,\n",
    "    parametrizations=parametrizations,\n",
    "    c_sys=c_sys,\n",
    ")"
   ]
  },
  {
   "cell_type": "code",
   "execution_count": 6,
   "metadata": {},
   "outputs": [],
   "source": [
    "test_settings = [test_setting_0, test_setting_1]"
   ]
  },
  {
   "cell_type": "markdown",
   "metadata": {},
   "source": [
    "# Execute"
   ]
  },
  {
   "cell_type": "code",
   "execution_count": 7,
   "metadata": {},
   "outputs": [
    {
     "name": "stderr",
     "output_type": "stream",
     "text": [
      "/Users/tomoko/project/rcast/workspace/quara/quara/utils/matrix_util.py:195: ComplexWarning: Casting complex values to real discards the imaginary part\n",
      "  tmp_hs = tmp_hs.astype(np.float64)\n",
      "/Users/tomoko/project/rcast/workspace/quara/quara/objects/effective_lindbladian.py:723: ComplexWarning: Casting complex values to real discards the imaginary part\n",
      "  tmp_hs = tmp_hs.astype(np.float64)\n",
      "\r",
      "  0%|          | 0/10 [00:00<?, ?it/s]"
     ]
    },
    {
     "name": "stdout",
     "output_type": "stream",
     "text": [
      "Completed to write test_setting. result_random_qst/0/test_setting.pickle\n",
      "Case 0: Linear (True)\n"
     ]
    },
    {
     "name": "stderr",
     "output_type": "stream",
     "text": [
      "100%|██████████| 10/10 [00:00<00:00, 196.65it/s]\n",
      "100%|██████████| 10/10 [00:00<00:00, 16584.83it/s]\n",
      "100%|██████████| 10/10 [00:00<00:00, 15697.25it/s]\n",
      "100%|██████████| 10/10 [00:00<00:00, 265.03it/s]\n",
      "100%|██████████| 10/10 [00:00<00:00, 26938.37it/s]\n",
      "100%|██████████| 10/10 [00:00<00:00, 22995.09it/s]\n",
      " 60%|██████    | 6/10 [00:00<00:00, 52.30it/s]"
     ]
    },
    {
     "name": "stdout",
     "output_type": "stream",
     "text": [
      "========== Summary ============\n",
      "Name: Linear (True)\n",
      "MSE of Empirical Distributions: \u001b[32mOK\u001b[0m\n",
      "Consistency: \u001b[32mOK\u001b[0m (to_be_checked=False)\n",
      "MSE of estimators: \u001b[32mOK\u001b[0m\n",
      "Physicality Violation: \u001b[32mOK\u001b[0m\n",
      "===============================\n",
      "Case 1: Linear (False)\n",
      "========== Summary ============\n",
      "Name: Linear (False)\n",
      "MSE of Empirical Distributions: \u001b[32mOK\u001b[0m\n",
      "Consistency: \u001b[32mOK\u001b[0m (to_be_checked=False)\n",
      "MSE of estimators: \u001b[32mOK\u001b[0m\n",
      "Physicality Violation: \u001b[32mOK\u001b[0m\n",
      "===============================\n",
      "Case 2: ProjectedLinear (True)\n"
     ]
    },
    {
     "name": "stderr",
     "output_type": "stream",
     "text": [
      "100%|██████████| 10/10 [00:00<00:00, 50.21it/s]\n",
      "100%|██████████| 10/10 [00:00<00:00, 13530.01it/s]\n",
      "100%|██████████| 10/10 [00:00<00:00, 9216.23it/s]\n",
      "100%|██████████| 10/10 [00:00<00:00, 147.74it/s]\n",
      "100%|██████████| 10/10 [00:00<00:00, 53.72it/s]\n",
      "100%|██████████| 10/10 [00:00<00:00, 17382.11it/s]"
     ]
    },
    {
     "name": "stdout",
     "output_type": "stream",
     "text": [
      "========== Summary ============\n",
      "Name: ProjectedLinear (True)\n",
      "MSE of Empirical Distributions: \u001b[32mOK\u001b[0m\n",
      "Consistency: \u001b[32mOK\u001b[0m (to_be_checked=False)\n",
      "MSE of estimators: \u001b[32mOK\u001b[0m\n",
      "Physicality Violation: \u001b[32mOK\u001b[0m\n",
      "===============================\n",
      "Case 3: ProjectedLinear (False)\n"
     ]
    },
    {
     "name": "stderr",
     "output_type": "stream",
     "text": [
      "\n",
      "100%|██████████| 10/10 [00:00<00:00, 19275.29it/s]\n",
      "100%|██████████| 10/10 [00:00<00:00, 241.99it/s]\n",
      "  0%|          | 0/10 [00:00<?, ?it/s]"
     ]
    },
    {
     "name": "stdout",
     "output_type": "stream",
     "text": [
      "========== Summary ============\n",
      "Name: ProjectedLinear (False)\n",
      "MSE of Empirical Distributions: \u001b[32mOK\u001b[0m\n",
      "Consistency: \u001b[32mOK\u001b[0m (to_be_checked=False)\n",
      "MSE of estimators: \u001b[32mOK\u001b[0m\n",
      "Physicality Violation: \u001b[32mOK\u001b[0m\n",
      "===============================\n",
      "Case 4: Maximum-Likelihood (True)\n"
     ]
    },
    {
     "name": "stderr",
     "output_type": "stream",
     "text": [
      "100%|██████████| 10/10 [00:10<00:00,  1.02s/it]\n",
      "100%|██████████| 10/10 [00:00<00:00, 12641.06it/s]\n",
      "100%|██████████| 10/10 [00:00<00:00, 6147.30it/s]\n",
      "100%|██████████| 10/10 [00:00<00:00, 280.36it/s]\n",
      "  0%|          | 0/10 [00:00<?, ?it/s]"
     ]
    },
    {
     "name": "stdout",
     "output_type": "stream",
     "text": [
      "========== Summary ============\n",
      "Name: Maximum-Likelihood (True)\n",
      "MSE of Empirical Distributions: \u001b[32mOK\u001b[0m\n",
      "Consistency: \u001b[32mOK\u001b[0m (to_be_checked=False)\n",
      "MSE of estimators: \u001b[32mOK\u001b[0m\n",
      "Physicality Violation: \u001b[32mOK\u001b[0m\n",
      "===============================\n",
      "Case 5: Maximum-Likelihood (False)\n"
     ]
    },
    {
     "name": "stderr",
     "output_type": "stream",
     "text": [
      "100%|██████████| 10/10 [00:47<00:00,  4.71s/it]\n",
      "100%|██████████| 10/10 [00:00<00:00, 8348.54it/s]\n",
      "100%|██████████| 10/10 [00:00<00:00, 17267.62it/s]\n",
      "100%|██████████| 10/10 [00:00<00:00, 176.48it/s]\n",
      "  0%|          | 0/10 [00:00<?, ?it/s]"
     ]
    },
    {
     "name": "stdout",
     "output_type": "stream",
     "text": [
      "========== Summary ============\n",
      "Name: Maximum-Likelihood (False)\n",
      "MSE of Empirical Distributions: \u001b[32mOK\u001b[0m\n",
      "Consistency: \u001b[31mNG\u001b[0m (to_be_checked=False)\n",
      "MSE of estimators: \u001b[32mOK\u001b[0m\n",
      "Physicality Violation: \u001b[32mOK\u001b[0m\n",
      "===============================\n",
      "Case 6: Least Squares (True)\n"
     ]
    },
    {
     "name": "stderr",
     "output_type": "stream",
     "text": [
      "100%|██████████| 10/10 [00:07<00:00,  1.41it/s]\n",
      "100%|██████████| 10/10 [00:00<00:00, 19991.92it/s]\n",
      "100%|██████████| 10/10 [00:00<00:00, 11096.04it/s]\n",
      "/Users/tomoko/project/rcast/workspace/quara/quara/simulation/standard_qtomography_simulation_check.py:176: UserWarning: Estimator MSE is not checked except for LinearEstimator, ProjectedLinearEstimator, Maximum-likelihood.\n",
      "  warnings.warn(\n",
      "  0%|          | 0/10 [00:00<?, ?it/s]"
     ]
    },
    {
     "name": "stdout",
     "output_type": "stream",
     "text": [
      "========== Summary ============\n",
      "Name: Least Squares (True)\n",
      "MSE of Empirical Distributions: \u001b[32mOK\u001b[0m\n",
      "Consistency: \u001b[32mOK\u001b[0m (to_be_checked=False)\n",
      "MSE of estimators: \u001b[32mOK\u001b[0m\n",
      "Physicality Violation: \u001b[32mOK\u001b[0m\n",
      "===============================\n",
      "Case 7: Least Squares (False)\n"
     ]
    },
    {
     "name": "stderr",
     "output_type": "stream",
     "text": [
      "100%|██████████| 10/10 [00:06<00:00,  1.64it/s]\n",
      "100%|██████████| 10/10 [00:00<00:00, 7564.12it/s]\n",
      "100%|██████████| 10/10 [00:00<00:00, 4526.55it/s]\n"
     ]
    },
    {
     "name": "stdout",
     "output_type": "stream",
     "text": [
      "========== Summary ============\n",
      "Name: Least Squares (False)\n",
      "MSE of Empirical Distributions: \u001b[32mOK\u001b[0m\n",
      "Consistency: \u001b[32mOK\u001b[0m (to_be_checked=False)\n",
      "MSE of estimators: \u001b[32mOK\u001b[0m\n",
      "Physicality Violation: \u001b[32mOK\u001b[0m\n",
      "===============================\n"
     ]
    },
    {
     "name": "stderr",
     "output_type": "stream",
     "text": [
      "100%|██████████| 10/10 [00:00<00:00, 244.51it/s]\n",
      "100%|██████████| 10/10 [00:00<00:00, 20194.05it/s]\n",
      "100%|██████████| 10/10 [00:00<00:00, 10866.07it/s]\n",
      "  0%|          | 0/10 [00:00<?, ?it/s]"
     ]
    },
    {
     "name": "stdout",
     "output_type": "stream",
     "text": [
      "Completed to write csv. result_random_qst/0/0/check_result.csv\n",
      "total_result=True\n",
      "Case 0: Linear (True)\n",
      "========== Summary ============\n",
      "Name: Linear (True)\n",
      "MSE of Empirical Distributions: \u001b[32mOK\u001b[0m\n",
      "Consistency: \u001b[32mOK\u001b[0m (to_be_checked=False)\n",
      "MSE of estimators: \u001b[32mOK\u001b[0m\n",
      "Physicality Violation: \u001b[32mOK\u001b[0m\n",
      "===============================\n",
      "Case 1: Linear (False)\n"
     ]
    },
    {
     "name": "stderr",
     "output_type": "stream",
     "text": [
      "100%|██████████| 10/10 [00:00<00:00, 106.81it/s]\n",
      "100%|██████████| 10/10 [00:00<00:00, 21822.60it/s]\n",
      "100%|██████████| 10/10 [00:00<00:00, 25389.25it/s]\n",
      "100%|██████████| 10/10 [00:00<00:00, 55.61it/s]\n",
      "100%|██████████| 10/10 [00:00<00:00, 8446.04it/s]\n",
      "  0%|          | 0/10 [00:00<?, ?it/s]"
     ]
    },
    {
     "name": "stdout",
     "output_type": "stream",
     "text": [
      "========== Summary ============\n",
      "Name: Linear (False)\n",
      "MSE of Empirical Distributions: \u001b[32mOK\u001b[0m\n",
      "Consistency: \u001b[32mOK\u001b[0m (to_be_checked=False)\n",
      "MSE of estimators: \u001b[32mOK\u001b[0m\n",
      "Physicality Violation: \u001b[32mOK\u001b[0m\n",
      "===============================\n",
      "Case 2: ProjectedLinear (True)\n"
     ]
    },
    {
     "name": "stderr",
     "output_type": "stream",
     "text": [
      "100%|██████████| 10/10 [00:00<00:00, 5118.13it/s]\n",
      "100%|██████████| 10/10 [00:00<00:00, 246.00it/s]\n",
      "100%|██████████| 10/10 [00:00<00:00, 66.36it/s]\n",
      "100%|██████████| 10/10 [00:00<00:00, 9147.88it/s]\n",
      "100%|██████████| 10/10 [00:00<00:00, 17985.87it/s]\n",
      "  0%|          | 0/10 [00:00<?, ?it/s]"
     ]
    },
    {
     "name": "stdout",
     "output_type": "stream",
     "text": [
      "========== Summary ============\n",
      "Name: ProjectedLinear (True)\n",
      "MSE of Empirical Distributions: \u001b[32mOK\u001b[0m\n",
      "Consistency: \u001b[32mOK\u001b[0m (to_be_checked=False)\n",
      "MSE of estimators: \u001b[32mOK\u001b[0m\n",
      "Physicality Violation: \u001b[32mOK\u001b[0m\n",
      "===============================\n",
      "Case 3: ProjectedLinear (False)\n"
     ]
    },
    {
     "name": "stderr",
     "output_type": "stream",
     "text": [
      "100%|██████████| 10/10 [00:00<00:00, 248.28it/s]\n",
      "  0%|          | 0/10 [00:00<?, ?it/s]"
     ]
    },
    {
     "name": "stdout",
     "output_type": "stream",
     "text": [
      "========== Summary ============\n",
      "Name: ProjectedLinear (False)\n",
      "MSE of Empirical Distributions: \u001b[32mOK\u001b[0m\n",
      "Consistency: \u001b[32mOK\u001b[0m (to_be_checked=False)\n",
      "MSE of estimators: \u001b[32mOK\u001b[0m\n",
      "Physicality Violation: \u001b[32mOK\u001b[0m\n",
      "===============================\n",
      "Case 4: Maximum-Likelihood (True)\n"
     ]
    },
    {
     "name": "stderr",
     "output_type": "stream",
     "text": [
      "100%|██████████| 10/10 [00:11<00:00,  1.14s/it]\n",
      "100%|██████████| 10/10 [00:00<00:00, 22919.69it/s]\n",
      "100%|██████████| 10/10 [00:00<00:00, 24995.85it/s]\n",
      "100%|██████████| 10/10 [00:00<00:00, 285.52it/s]\n",
      "  0%|          | 0/10 [00:00<?, ?it/s]"
     ]
    },
    {
     "name": "stdout",
     "output_type": "stream",
     "text": [
      "========== Summary ============\n",
      "Name: Maximum-Likelihood (True)\n",
      "MSE of Empirical Distributions: \u001b[32mOK\u001b[0m\n",
      "Consistency: \u001b[32mOK\u001b[0m (to_be_checked=False)\n",
      "MSE of estimators: \u001b[32mOK\u001b[0m\n",
      "Physicality Violation: \u001b[32mOK\u001b[0m\n",
      "===============================\n",
      "Case 5: Maximum-Likelihood (False)\n"
     ]
    },
    {
     "name": "stderr",
     "output_type": "stream",
     "text": [
      "100%|██████████| 10/10 [00:15<00:00,  1.59s/it]\n",
      "100%|██████████| 10/10 [00:00<00:00, 3634.89it/s]\n",
      "100%|██████████| 10/10 [00:00<00:00, 4173.44it/s]\n",
      "100%|██████████| 10/10 [00:00<00:00, 266.67it/s]\n",
      "  0%|          | 0/10 [00:00<?, ?it/s]"
     ]
    },
    {
     "name": "stdout",
     "output_type": "stream",
     "text": [
      "========== Summary ============\n",
      "Name: Maximum-Likelihood (False)\n",
      "MSE of Empirical Distributions: \u001b[32mOK\u001b[0m\n",
      "Consistency: \u001b[31mNG\u001b[0m (to_be_checked=False)\n",
      "MSE of estimators: \u001b[32mOK\u001b[0m\n",
      "Physicality Violation: \u001b[32mOK\u001b[0m\n",
      "===============================\n",
      "Case 6: Least Squares (True)\n"
     ]
    },
    {
     "name": "stderr",
     "output_type": "stream",
     "text": [
      "100%|██████████| 10/10 [00:03<00:00,  2.81it/s]\n",
      "100%|██████████| 10/10 [00:00<00:00, 5080.93it/s]\n",
      "100%|██████████| 10/10 [00:00<00:00, 5293.83it/s]\n",
      "  0%|          | 0/10 [00:00<?, ?it/s]"
     ]
    },
    {
     "name": "stdout",
     "output_type": "stream",
     "text": [
      "========== Summary ============\n",
      "Name: Least Squares (True)\n",
      "MSE of Empirical Distributions: \u001b[32mOK\u001b[0m\n",
      "Consistency: \u001b[32mOK\u001b[0m (to_be_checked=False)\n",
      "MSE of estimators: \u001b[32mOK\u001b[0m\n",
      "Physicality Violation: \u001b[32mOK\u001b[0m\n",
      "===============================\n",
      "Case 7: Least Squares (False)\n"
     ]
    },
    {
     "name": "stderr",
     "output_type": "stream",
     "text": [
      "100%|██████████| 10/10 [00:04<00:00,  2.32it/s]\n",
      "100%|██████████| 10/10 [00:00<00:00, 13005.59it/s]\n",
      "100%|██████████| 10/10 [00:00<00:00, 6082.23it/s]\n",
      "100%|██████████| 10/10 [00:00<00:00, 223.00it/s]\n",
      "100%|██████████| 10/10 [00:00<00:00, 11075.53it/s]\n",
      "100%|██████████| 10/10 [00:00<00:00, 8689.26it/s]"
     ]
    },
    {
     "name": "stdout",
     "output_type": "stream",
     "text": [
      "========== Summary ============\n",
      "Name: Least Squares (False)\n",
      "MSE of Empirical Distributions: \u001b[32mOK\u001b[0m\n",
      "Consistency: \u001b[32mOK\u001b[0m (to_be_checked=False)\n",
      "MSE of estimators: \u001b[32mOK\u001b[0m\n",
      "Physicality Violation: \u001b[32mOK\u001b[0m\n",
      "===============================\n",
      "Completed to write csv. result_random_qst/0/1/check_result.csv\n",
      "total_result=True\n",
      "Completed to write csv. result_random_qst/0/check_result.csv\n",
      "Completed to write test_setting. result_random_qst/1/test_setting.pickle\n",
      "Case 0: Linear (True)\n"
     ]
    },
    {
     "name": "stderr",
     "output_type": "stream",
     "text": [
      "\n",
      "100%|██████████| 10/10 [00:00<00:00, 293.62it/s]\n",
      "100%|██████████| 10/10 [00:00<00:00, 5889.22it/s]\n",
      "100%|██████████| 10/10 [00:00<00:00, 14974.31it/s]\n",
      " 70%|███████   | 7/10 [00:00<00:00, 60.94it/s]"
     ]
    },
    {
     "name": "stdout",
     "output_type": "stream",
     "text": [
      "========== Summary ============\n",
      "Name: Linear (True)\n",
      "MSE of Empirical Distributions: \u001b[32mOK\u001b[0m\n",
      "Consistency: \u001b[32mOK\u001b[0m (to_be_checked=False)\n",
      "MSE of estimators: \u001b[32mOK\u001b[0m\n",
      "Physicality Violation: \u001b[32mOK\u001b[0m\n",
      "===============================\n",
      "Case 1: Linear (False)\n",
      "========== Summary ============\n",
      "Name: Linear (False)\n",
      "MSE of Empirical Distributions: \u001b[32mOK\u001b[0m\n",
      "Consistency: \u001b[32mOK\u001b[0m (to_be_checked=False)\n",
      "MSE of estimators: \u001b[32mOK\u001b[0m\n",
      "Physicality Violation: \u001b[32mOK\u001b[0m\n",
      "===============================\n",
      "Case 2: ProjectedLinear (True)\n"
     ]
    },
    {
     "name": "stderr",
     "output_type": "stream",
     "text": [
      "100%|██████████| 10/10 [00:00<00:00, 57.66it/s]\n",
      "100%|██████████| 10/10 [00:00<00:00, 11014.45it/s]\n",
      "100%|██████████| 10/10 [00:00<00:00, 10394.81it/s]\n",
      "100%|██████████| 10/10 [00:00<00:00, 319.55it/s]\n",
      " 60%|██████    | 6/10 [00:00<00:00, 45.49it/s]"
     ]
    },
    {
     "name": "stdout",
     "output_type": "stream",
     "text": [
      "========== Summary ============\n",
      "Name: ProjectedLinear (True)\n",
      "MSE of Empirical Distributions: \u001b[32mOK\u001b[0m\n",
      "Consistency: \u001b[32mOK\u001b[0m (to_be_checked=False)\n",
      "MSE of estimators: \u001b[32mOK\u001b[0m\n",
      "Physicality Violation: \u001b[32mOK\u001b[0m\n",
      "===============================\n",
      "Case 3: ProjectedLinear (False)\n"
     ]
    },
    {
     "name": "stderr",
     "output_type": "stream",
     "text": [
      "100%|██████████| 10/10 [00:00<00:00, 49.58it/s]\n",
      "100%|██████████| 10/10 [00:00<00:00, 4786.38it/s]\n",
      "100%|██████████| 10/10 [00:00<00:00, 8150.61it/s]\n",
      "100%|██████████| 10/10 [00:00<00:00, 145.76it/s]\n",
      "  0%|          | 0/10 [00:00<?, ?it/s]"
     ]
    },
    {
     "name": "stdout",
     "output_type": "stream",
     "text": [
      "========== Summary ============\n",
      "Name: ProjectedLinear (False)\n",
      "MSE of Empirical Distributions: \u001b[32mOK\u001b[0m\n",
      "Consistency: \u001b[32mOK\u001b[0m (to_be_checked=False)\n",
      "MSE of estimators: \u001b[32mOK\u001b[0m\n",
      "Physicality Violation: \u001b[32mOK\u001b[0m\n",
      "===============================\n",
      "Case 4: Maximum-Likelihood (True)\n"
     ]
    },
    {
     "name": "stderr",
     "output_type": "stream",
     "text": [
      "100%|██████████| 10/10 [00:12<00:00,  1.29s/it]\n",
      "100%|██████████| 10/10 [00:00<00:00, 1949.57it/s]\n",
      "100%|██████████| 10/10 [00:00<00:00, 19231.10it/s]\n",
      "100%|██████████| 10/10 [00:00<00:00, 240.00it/s]\n",
      "  0%|          | 0/10 [00:00<?, ?it/s]"
     ]
    },
    {
     "name": "stdout",
     "output_type": "stream",
     "text": [
      "========== Summary ============\n",
      "Name: Maximum-Likelihood (True)\n",
      "MSE of Empirical Distributions: \u001b[32mOK\u001b[0m\n",
      "Consistency: \u001b[32mOK\u001b[0m (to_be_checked=False)\n",
      "MSE of estimators: \u001b[32mOK\u001b[0m\n",
      "Physicality Violation: \u001b[32mOK\u001b[0m\n",
      "===============================\n",
      "Case 5: Maximum-Likelihood (False)\n"
     ]
    },
    {
     "name": "stderr",
     "output_type": "stream",
     "text": [
      "100%|██████████| 10/10 [00:58<00:00,  5.89s/it]\n",
      "100%|██████████| 10/10 [00:00<00:00, 14227.63it/s]\n",
      "100%|██████████| 10/10 [00:00<00:00, 19608.71it/s]\n",
      "100%|██████████| 10/10 [00:00<00:00, 53.68it/s]\n",
      "  0%|          | 0/10 [00:00<?, ?it/s]"
     ]
    },
    {
     "name": "stdout",
     "output_type": "stream",
     "text": [
      "========== Summary ============\n",
      "Name: Maximum-Likelihood (False)\n",
      "MSE of Empirical Distributions: \u001b[32mOK\u001b[0m\n",
      "Consistency: \u001b[31mNG\u001b[0m (to_be_checked=False)\n",
      "MSE of estimators: \u001b[32mOK\u001b[0m\n",
      "Physicality Violation: \u001b[32mOK\u001b[0m\n",
      "===============================\n",
      "Case 6: Least Squares (True)\n"
     ]
    },
    {
     "name": "stderr",
     "output_type": "stream",
     "text": [
      "100%|██████████| 10/10 [00:04<00:00,  2.27it/s]\n",
      "100%|██████████| 10/10 [00:00<00:00, 1491.26it/s]\n",
      "100%|██████████| 10/10 [00:00<00:00, 386.54it/s]\n",
      "  0%|          | 0/10 [00:00<?, ?it/s]"
     ]
    },
    {
     "name": "stdout",
     "output_type": "stream",
     "text": [
      "========== Summary ============\n",
      "Name: Least Squares (True)\n",
      "MSE of Empirical Distributions: \u001b[32mOK\u001b[0m\n",
      "Consistency: \u001b[32mOK\u001b[0m (to_be_checked=False)\n",
      "MSE of estimators: \u001b[32mOK\u001b[0m\n",
      "Physicality Violation: \u001b[32mOK\u001b[0m\n",
      "===============================\n",
      "Case 7: Least Squares (False)\n"
     ]
    },
    {
     "name": "stderr",
     "output_type": "stream",
     "text": [
      "100%|██████████| 10/10 [00:07<00:00,  1.34it/s]\n",
      "100%|██████████| 10/10 [00:00<00:00, 16181.73it/s]\n",
      "100%|██████████| 10/10 [00:00<00:00, 768.53it/s]\n"
     ]
    },
    {
     "name": "stdout",
     "output_type": "stream",
     "text": [
      "========== Summary ============\n",
      "Name: Least Squares (False)\n",
      "MSE of Empirical Distributions: \u001b[32mOK\u001b[0m\n",
      "Consistency: \u001b[32mOK\u001b[0m (to_be_checked=False)\n",
      "MSE of estimators: \u001b[32mOK\u001b[0m\n",
      "Physicality Violation: \u001b[32mOK\u001b[0m\n",
      "===============================\n"
     ]
    },
    {
     "name": "stderr",
     "output_type": "stream",
     "text": [
      "\r",
      "  0%|          | 0/10 [00:00<?, ?it/s]"
     ]
    },
    {
     "name": "stdout",
     "output_type": "stream",
     "text": [
      "Completed to write csv. result_random_qst/1/0/check_result.csv\n",
      "total_result=True\n",
      "Case 0: Linear (True)\n"
     ]
    },
    {
     "name": "stderr",
     "output_type": "stream",
     "text": [
      "100%|██████████| 10/10 [00:00<00:00, 46.99it/s]\n",
      "100%|██████████| 10/10 [00:00<00:00, 4754.91it/s]\n",
      "100%|██████████| 10/10 [00:00<00:00, 631.00it/s]\n",
      " 30%|███       | 3/10 [00:00<00:00, 29.11it/s]"
     ]
    },
    {
     "name": "stdout",
     "output_type": "stream",
     "text": [
      "========== Summary ============\n",
      "Name: Linear (True)\n",
      "MSE of Empirical Distributions: \u001b[32mOK\u001b[0m\n",
      "Consistency: \u001b[32mOK\u001b[0m (to_be_checked=False)\n",
      "MSE of estimators: \u001b[32mOK\u001b[0m\n",
      "Physicality Violation: \u001b[32mOK\u001b[0m\n",
      "===============================\n",
      "Case 1: Linear (False)\n"
     ]
    },
    {
     "name": "stderr",
     "output_type": "stream",
     "text": [
      "100%|██████████| 10/10 [00:00<00:00, 35.44it/s]\n",
      "100%|██████████| 10/10 [00:00<00:00, 3673.41it/s]\n",
      "100%|██████████| 10/10 [00:00<00:00, 2215.34it/s]\n",
      "  0%|          | 0/10 [00:00<?, ?it/s]"
     ]
    },
    {
     "name": "stdout",
     "output_type": "stream",
     "text": [
      "========== Summary ============\n",
      "Name: Linear (False)\n",
      "MSE of Empirical Distributions: \u001b[32mOK\u001b[0m\n",
      "Consistency: \u001b[32mOK\u001b[0m (to_be_checked=False)\n",
      "MSE of estimators: \u001b[32mOK\u001b[0m\n",
      "Physicality Violation: \u001b[32mOK\u001b[0m\n",
      "===============================\n",
      "Case 2: ProjectedLinear (True)\n"
     ]
    },
    {
     "name": "stderr",
     "output_type": "stream",
     "text": [
      "100%|██████████| 10/10 [00:00<00:00, 14.23it/s]\n",
      "100%|██████████| 10/10 [00:00<00:00, 2895.22it/s]\n",
      "100%|██████████| 10/10 [00:00<00:00, 3418.62it/s]\n",
      "100%|██████████| 10/10 [00:00<00:00, 51.89it/s]\n",
      "  0%|          | 0/10 [00:00<?, ?it/s]"
     ]
    },
    {
     "name": "stdout",
     "output_type": "stream",
     "text": [
      "========== Summary ============\n",
      "Name: ProjectedLinear (True)\n",
      "MSE of Empirical Distributions: \u001b[32mOK\u001b[0m\n",
      "Consistency: \u001b[32mOK\u001b[0m (to_be_checked=False)\n",
      "MSE of estimators: \u001b[32mOK\u001b[0m\n",
      "Physicality Violation: \u001b[32mOK\u001b[0m\n",
      "===============================\n",
      "Case 3: ProjectedLinear (False)\n"
     ]
    },
    {
     "name": "stderr",
     "output_type": "stream",
     "text": [
      "100%|██████████| 10/10 [00:00<00:00, 11.29it/s]\n",
      "100%|██████████| 10/10 [00:00<00:00, 358.83it/s]\n",
      "100%|██████████| 10/10 [00:00<00:00, 22477.51it/s]\n",
      "100%|██████████| 10/10 [00:00<00:00, 46.22it/s]\n",
      "  0%|          | 0/10 [00:00<?, ?it/s]"
     ]
    },
    {
     "name": "stdout",
     "output_type": "stream",
     "text": [
      "========== Summary ============\n",
      "Name: ProjectedLinear (False)\n",
      "MSE of Empirical Distributions: \u001b[32mOK\u001b[0m\n",
      "Consistency: \u001b[32mOK\u001b[0m (to_be_checked=False)\n",
      "MSE of estimators: \u001b[32mOK\u001b[0m\n",
      "Physicality Violation: \u001b[32mOK\u001b[0m\n",
      "===============================\n",
      "Case 4: Maximum-Likelihood (True)\n"
     ]
    },
    {
     "name": "stderr",
     "output_type": "stream",
     "text": [
      "100%|██████████| 10/10 [00:33<00:00,  3.31s/it]\n",
      "100%|██████████| 10/10 [00:00<00:00, 18583.54it/s]\n",
      "100%|██████████| 10/10 [00:00<00:00, 2557.50it/s]\n",
      "100%|██████████| 10/10 [00:00<00:00, 218.43it/s]\n",
      "  0%|          | 0/10 [00:00<?, ?it/s]"
     ]
    },
    {
     "name": "stdout",
     "output_type": "stream",
     "text": [
      "========== Summary ============\n",
      "Name: Maximum-Likelihood (True)\n",
      "MSE of Empirical Distributions: \u001b[32mOK\u001b[0m\n",
      "Consistency: \u001b[32mOK\u001b[0m (to_be_checked=False)\n",
      "MSE of estimators: \u001b[32mOK\u001b[0m\n",
      "Physicality Violation: \u001b[32mOK\u001b[0m\n",
      "===============================\n",
      "Case 5: Maximum-Likelihood (False)\n"
     ]
    },
    {
     "name": "stderr",
     "output_type": "stream",
     "text": [
      "100%|██████████| 10/10 [00:41<00:00,  4.19s/it]\n",
      "100%|██████████| 10/10 [00:00<00:00, 1288.34it/s]\n",
      "100%|██████████| 10/10 [00:00<00:00, 24628.91it/s]\n",
      "100%|██████████| 10/10 [00:00<00:00, 61.37it/s]\n",
      " 10%|█         | 1/10 [00:00<00:01,  5.82it/s]"
     ]
    },
    {
     "name": "stdout",
     "output_type": "stream",
     "text": [
      "========== Summary ============\n",
      "Name: Maximum-Likelihood (False)\n",
      "MSE of Empirical Distributions: \u001b[32mOK\u001b[0m\n",
      "Consistency: \u001b[31mNG\u001b[0m (to_be_checked=False)\n",
      "MSE of estimators: \u001b[32mOK\u001b[0m\n",
      "Physicality Violation: \u001b[32mOK\u001b[0m\n",
      "===============================\n",
      "Case 6: Least Squares (True)\n"
     ]
    },
    {
     "name": "stderr",
     "output_type": "stream",
     "text": [
      "100%|██████████| 10/10 [00:02<00:00,  3.70it/s]\n",
      "100%|██████████| 10/10 [00:00<00:00, 1648.83it/s]\n",
      "100%|██████████| 10/10 [00:00<00:00, 11037.64it/s]\n",
      "  0%|          | 0/10 [00:00<?, ?it/s]"
     ]
    },
    {
     "name": "stdout",
     "output_type": "stream",
     "text": [
      "========== Summary ============\n",
      "Name: Least Squares (True)\n",
      "MSE of Empirical Distributions: \u001b[32mOK\u001b[0m\n",
      "Consistency: \u001b[32mOK\u001b[0m (to_be_checked=False)\n",
      "MSE of estimators: \u001b[32mOK\u001b[0m\n",
      "Physicality Violation: \u001b[32mOK\u001b[0m\n",
      "===============================\n",
      "Case 7: Least Squares (False)\n"
     ]
    },
    {
     "name": "stderr",
     "output_type": "stream",
     "text": [
      "100%|██████████| 10/10 [00:03<00:00,  2.63it/s]\n",
      "100%|██████████| 10/10 [00:00<00:00, 2675.28it/s]\n",
      "100%|██████████| 10/10 [00:00<00:00, 4409.49it/s]\n"
     ]
    },
    {
     "name": "stdout",
     "output_type": "stream",
     "text": [
      "========== Summary ============\n",
      "Name: Least Squares (False)\n",
      "MSE of Empirical Distributions: \u001b[32mOK\u001b[0m\n",
      "Consistency: \u001b[32mOK\u001b[0m (to_be_checked=False)\n",
      "MSE of estimators: \u001b[32mOK\u001b[0m\n",
      "Physicality Violation: \u001b[32mOK\u001b[0m\n",
      "===============================\n",
      "Completed to write csv. result_random_qst/1/1/check_result.csv\n",
      "total_result=True\n",
      "Completed to write csv. result_random_qst/1/check_result.csv\n",
      "Completed to write csv. result_random_qst/check_result.csv\n",
      "\u001b[33m==============\u001b[0m \u001b[32mOK: 32 cases\u001b[0m (\u001b[33m0 warnings\u001b[0m), \u001b[31mNG: 0 cases\u001b[0m \u001b[33m in 421.3s (0:07:01)s==============\u001b[0m\n"
     ]
    }
   ],
   "source": [
    "root_dir = \"result_random_qst\"\n",
    "all_results = execute_simulation_test_settings(test_settings, root_dir)"
   ]
  },
  {
   "cell_type": "code",
   "execution_count": null,
   "metadata": {},
   "outputs": [],
   "source": []
  }
 ],
 "metadata": {
  "hide_input": false,
  "kernelspec": {
   "display_name": "quara_venv",
   "language": "python",
   "name": "quara_venv"
  },
  "language_info": {
   "codemirror_mode": {
    "name": "ipython",
    "version": 3
   },
   "file_extension": ".py",
   "mimetype": "text/x-python",
   "name": "python",
   "nbconvert_exporter": "python",
   "pygments_lexer": "ipython3",
   "version": "3.8.0"
  },
  "toc": {
   "base_numbering": 1,
   "nav_menu": {},
   "number_sections": true,
   "sideBar": true,
   "skip_h1_title": false,
   "title_cell": "Table of Contents",
   "title_sidebar": "Contents",
   "toc_cell": false,
   "toc_position": {},
   "toc_section_display": true,
   "toc_window_display": false
  },
  "varInspector": {
   "cols": {
    "lenName": 16,
    "lenType": 16,
    "lenVar": 40
   },
   "kernels_config": {
    "python": {
     "delete_cmd_postfix": "",
     "delete_cmd_prefix": "del ",
     "library": "var_list.py",
     "varRefreshCmd": "print(var_dic_list())"
    },
    "r": {
     "delete_cmd_postfix": ") ",
     "delete_cmd_prefix": "rm(",
     "library": "var_list.r",
     "varRefreshCmd": "cat(var_dic_list()) "
    }
   },
   "types_to_exclude": [
    "module",
    "function",
    "builtin_function_or_method",
    "instance",
    "_Feature"
   ],
   "window_display": false
  }
 },
 "nbformat": 4,
 "nbformat_minor": 2
}
