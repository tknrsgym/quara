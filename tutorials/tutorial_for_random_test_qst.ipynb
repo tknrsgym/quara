{
 "cells": [
  {
   "cell_type": "code",
   "execution_count": 1,
   "metadata": {},
   "outputs": [],
   "source": [
    "# State"
   ]
  },
  {
   "cell_type": "code",
   "execution_count": 2,
   "metadata": {},
   "outputs": [],
   "source": [
    "import numpy as np\n",
    "\n",
    "import quara.objects.qoperation_typical as qt\n",
    "from quara.objects.composite_system_typical import generate_composite_system\n",
    "\n",
    "from quara.loss_function.weighted_probability_based_squared_error import (\n",
    "    WeightedProbabilityBasedSquaredError,\n",
    "    WeightedProbabilityBasedSquaredErrorOption,\n",
    ")\n",
    "from quara.loss_function.weighted_relative_entropy import (\n",
    "    WeightedRelativeEntropy,\n",
    "    WeightedRelativeEntropyOption,\n",
    ")\n",
    "from quara.minimization_algorithm.projected_gradient_descent_backtracking import (\n",
    "    ProjectedGradientDescentBacktracking,\n",
    "    ProjectedGradientDescentBacktrackingOption,\n",
    ")\n",
    "\n",
    "\n",
    "from quara.protocol.qtomography.standard.linear_estimator import LinearEstimator\n",
    "from quara.protocol.qtomography.standard.loss_minimization_estimator import (\n",
    "    LossMinimizationEstimator,\n",
    ")\n",
    "from quara.protocol.qtomography.standard.projected_linear_estimator import (\n",
    "    ProjectedLinearEstimator,\n",
    ")\n",
    "\n",
    "from quara.simulation.standard_qtomography_simulation import NoiseSetting, TestSetting\n",
    "from quara.simulation.standard_qtomography_simulation_flow import execute_simulation_test_settings"
   ]
  },
  {
   "cell_type": "code",
   "execution_count": 3,
   "metadata": {},
   "outputs": [],
   "source": [
    "%reload_ext autoreload\n",
    "%autoreload 2"
   ]
  },
  {
   "cell_type": "markdown",
   "metadata": {},
   "source": [
    "# Settings"
   ]
  },
  {
   "cell_type": "code",
   "execution_count": 4,
   "metadata": {},
   "outputs": [],
   "source": [
    "c_sys = generate_composite_system(\"qubit\", 1)"
   ]
  },
  {
   "cell_type": "code",
   "execution_count": 5,
   "metadata": {},
   "outputs": [],
   "source": [
    "# Generate settings for simulation\n",
    "case_names = [\n",
    "    \"Linear (True)\",\n",
    "    \"Linear (False)\",\n",
    "    \"ProjectedLinear (True)\",\n",
    "    \"ProjectedLinear (False)\",\n",
    "    \"Maximum-Likelihood (True)\",\n",
    "    \"Maximum-Likelihood (False)\",\n",
    "    \"Least Squares (True)\",\n",
    "    \"Least Squares (False)\",\n",
    "]\n",
    "\n",
    "parametrizations = [True, False, True, False, True, False, True, False]\n",
    "\n",
    "estimators = [\n",
    "    LinearEstimator(),\n",
    "    LinearEstimator(),\n",
    "    ProjectedLinearEstimator(),\n",
    "    ProjectedLinearEstimator(),\n",
    "    LossMinimizationEstimator(),\n",
    "    LossMinimizationEstimator(),\n",
    "    LossMinimizationEstimator(),\n",
    "    LossMinimizationEstimator(),\n",
    "]\n",
    "\n",
    "loss_list = [\n",
    "    (None, None),\n",
    "    (None, None),\n",
    "    (None, None),\n",
    "    (None, None),\n",
    "    (WeightedRelativeEntropy(3), WeightedRelativeEntropyOption(\"identity\")),\n",
    "    (WeightedRelativeEntropy(4), WeightedRelativeEntropyOption(\"identity\")),\n",
    "    (\n",
    "        WeightedProbabilityBasedSquaredError(3),\n",
    "        WeightedProbabilityBasedSquaredErrorOption(\"identity\"),\n",
    "    ),\n",
    "    (\n",
    "        WeightedProbabilityBasedSquaredError(4),\n",
    "        WeightedProbabilityBasedSquaredErrorOption(\"identity\"),\n",
    "    ),\n",
    "]\n",
    "\n",
    "\n",
    "def generate_pgdb_algo_option():\n",
    "    return ProjectedGradientDescentBacktrackingOption(\n",
    "        mode_stopping_criterion_gradient_descent=\"sum_absolute_difference_variable\",\n",
    "        num_history_stopping_criterion_gradient_descent=1,\n",
    "    )\n",
    "\n",
    "\n",
    "algo_list = [\n",
    "    (None, None),\n",
    "    (None, None),\n",
    "    (None, None),\n",
    "    (None, None),\n",
    "    (ProjectedGradientDescentBacktracking(), generate_pgdb_algo_option()),\n",
    "    (ProjectedGradientDescentBacktracking(), generate_pgdb_algo_option()),\n",
    "    (ProjectedGradientDescentBacktracking(), generate_pgdb_algo_option()),\n",
    "    (ProjectedGradientDescentBacktracking(), generate_pgdb_algo_option()),\n",
    "]"
   ]
  },
  {
   "cell_type": "code",
   "execution_count": 6,
   "metadata": {},
   "outputs": [
    {
     "data": {
      "text/plain": [
       "'\\n# Generate TestSetting 1: depolarized\\n# True Object\\ntrue_object_noise_setting = NoiseSetting(\\n   qoperation_base=(\"state\", \"z0\"), method=\"depolarized\", para={\"error_rate\": 0.1,},\\n)\\n# Tester Object\\ntester_object_noise_settings = [\\n   NoiseSetting(qoperation_base=name, method=\"depolarized\", para={\"error_rate\": 0.1,},)\\n   for name in tester_names\\n]\\n\\n# Test Setting\\ntest_setting_1 = TestSetting(\\n    true_object=true_object_noise_setting,\\n    tester_objects=tester_object_noise_settings,\\n    seed=777,\\n    n_sample=2,\\n    n_rep=10,\\n    num_data=[10, 100],\\n    schedules=\"all\",\\n    case_names=case_names,\\n    estimators=estimators,\\n    algo_list=algo_list,\\n    loss_list=loss_list,\\n    parametrizations=parametrizations,\\n    c_sys=c_sys,\\n)\\n'"
      ]
     },
     "execution_count": 6,
     "metadata": {},
     "output_type": "execute_result"
    }
   ],
   "source": [
    "true_objects = [\"z0\", \"z1\", \"x0\", \"a\"]\n",
    "root_dir = \"result_random_qst_1qubit\"\n",
    "\n",
    "test_settings = []\n",
    "for true_object in true_objects:\n",
    "    # Generate TestSetting 0: random_effective_lindbladian\n",
    "    # True Object\n",
    "    true_object_noise_setting = NoiseSetting(\n",
    "        qoperation_base=(\"state\", true_object),\n",
    "        method=\"random_effective_lindbladian\",\n",
    "        para={\n",
    "            \"lindbladian_base\": \"identity\",\n",
    "            \"strength_h_part\": 0.1,\n",
    "            \"strength_k_part\": 0.1,\n",
    "        },\n",
    "    )\n",
    "\n",
    "    # Tester Object\n",
    "    tester_names = [(\"povm\", name) for name in [\"x\", \"y\", \"z\"]]\n",
    "    tester_object_noise_settings = [\n",
    "        NoiseSetting(\n",
    "            qoperation_base=name,\n",
    "            method=\"random_effective_lindbladian\",\n",
    "            para={\n",
    "                \"lindbladian_base\": \"identity\",\n",
    "                \"strength_h_part\": 0.1,\n",
    "                \"strength_k_part\": 0.1,\n",
    "            },\n",
    "        )\n",
    "        for name in tester_names\n",
    "    ]\n",
    "\n",
    "    # Test Setting\n",
    "    test_setting = TestSetting(\n",
    "        true_object=true_object_noise_setting,\n",
    "        tester_objects=tester_object_noise_settings,\n",
    "        seed=777,\n",
    "        n_sample=3,\n",
    "        n_rep=5,\n",
    "        num_data=[1000, 10000],\n",
    "        schedules=\"all\",\n",
    "        case_names=case_names,\n",
    "        estimators=estimators,\n",
    "        algo_list=algo_list,\n",
    "        loss_list=loss_list,\n",
    "        parametrizations=parametrizations,\n",
    "        c_sys=c_sys,\n",
    "    )\n",
    "    test_settings.append(test_setting)\n",
    "\n",
    "\"\"\"\n",
    "# Generate TestSetting 1: depolarized\n",
    "# True Object\n",
    "true_object_noise_setting = NoiseSetting(\n",
    "   qoperation_base=(\"state\", \"z0\"), method=\"depolarized\", para={\"error_rate\": 0.1,},\n",
    ")\n",
    "# Tester Object\n",
    "tester_object_noise_settings = [\n",
    "   NoiseSetting(qoperation_base=name, method=\"depolarized\", para={\"error_rate\": 0.1,},)\n",
    "   for name in tester_names\n",
    "]\n",
    "\n",
    "# Test Setting\n",
    "test_setting_1 = TestSetting(\n",
    "    true_object=true_object_noise_setting,\n",
    "    tester_objects=tester_object_noise_settings,\n",
    "    seed=777,\n",
    "    n_sample=2,\n",
    "    n_rep=10,\n",
    "    num_data=[10, 100],\n",
    "    schedules=\"all\",\n",
    "    case_names=case_names,\n",
    "    estimators=estimators,\n",
    "    algo_list=algo_list,\n",
    "    loss_list=loss_list,\n",
    "    parametrizations=parametrizations,\n",
    "    c_sys=c_sys,\n",
    ")\n",
    "\"\"\"\n"
   ]
  },
  {
   "cell_type": "code",
   "execution_count": 7,
   "metadata": {},
   "outputs": [],
   "source": [
    "#test_settings = [test_setting_0, test_setting_1]\n",
    "#test_settings = [test_setting_0]"
   ]
  },
  {
   "cell_type": "markdown",
   "metadata": {},
   "source": [
    "# Execute"
   ]
  },
  {
   "cell_type": "code",
   "execution_count": 8,
   "metadata": {},
   "outputs": [
    {
     "name": "stderr",
     "output_type": "stream",
     "text": [
      "c:\\users\\tsukano\\qbridge\\work\\repo\\quara\\quara\\utils\\matrix_util.py:195: ComplexWarning: Casting complex values to real discards the imaginary part\n",
      "  tmp_hs = tmp_hs.astype(np.float64)\n",
      "c:\\users\\tsukano\\qbridge\\work\\repo\\quara\\quara\\objects\\effective_lindbladian.py:723: ComplexWarning: Casting complex values to real discards the imaginary part\n",
      "  tmp_hs = tmp_hs.astype(np.float64)\n",
      "\r",
      "  0%|                                                                                                                                                                   | 0/5 [00:00<?, ?it/s]"
     ]
    },
    {
     "name": "stdout",
     "output_type": "stream",
     "text": [
      "Completed to write test_setting. result_random_qst_1qubit\\0\\test_setting.pickle\n",
      "Case 0: Linear (True)\n"
     ]
    },
    {
     "name": "stderr",
     "output_type": "stream",
     "text": [
      "100%|███████████████████████████████████████████████████████████████████████████████████████████████████████████████████████████████████████████████████████████| 5/5 [00:00<00:00, 20.11it/s]\n",
      "100%|███████████████████████████████████████████████████████████████████████████████████████████████████████████████████████████████████████████████████████████████████| 5/5 [00:00<?, ?it/s]\n",
      "100%|███████████████████████████████████████████████████████████████████████████████████████████████████████████████████████████████████████████████████████████████████| 5/5 [00:00<?, ?it/s]\n",
      " 40%|██████████████████████████████████████████████████████████████                                                                                             | 2/5 [00:00<00:00, 19.83it/s]"
     ]
    },
    {
     "name": "stdout",
     "output_type": "stream",
     "text": [
      "========== Summary ============\n",
      "Name: Linear (True)\n",
      "MSE of Empirical Distributions: \u001b[32mOK\u001b[0m\n",
      "Consistency: \u001b[32mOK\u001b[0m (to_be_checked=False)\n",
      "MSE of estimators: \u001b[32mOK\u001b[0m\n",
      "Physicality Violation: \u001b[32mOK\u001b[0m\n",
      "===============================\n",
      "Case 1: Linear (False)\n"
     ]
    },
    {
     "name": "stderr",
     "output_type": "stream",
     "text": [
      "100%|███████████████████████████████████████████████████████████████████████████████████████████████████████████████████████████████████████████████████████████| 5/5 [00:00<00:00, 19.69it/s]\n",
      "100%|███████████████████████████████████████████████████████████████████████████████████████████████████████████████████████████████████████████████████████████████████| 5/5 [00:00<?, ?it/s]\n",
      "100%|█████████████████████████████████████████████████████████████████████████████████████████████████████████████████████████████████████████████████████████| 5/5 [00:00<00:00, 5009.92it/s]\n",
      " 40%|██████████████████████████████████████████████████████████████                                                                                             | 2/5 [00:00<00:00, 17.56it/s]"
     ]
    },
    {
     "name": "stdout",
     "output_type": "stream",
     "text": [
      "========== Summary ============\n",
      "Name: Linear (False)\n",
      "MSE of Empirical Distributions: \u001b[32mOK\u001b[0m\n",
      "Consistency: \u001b[32mOK\u001b[0m (to_be_checked=False)\n",
      "MSE of estimators: \u001b[32mOK\u001b[0m\n",
      "Physicality Violation: \u001b[32mOK\u001b[0m\n",
      "===============================\n",
      "Case 2: ProjectedLinear (True)\n"
     ]
    },
    {
     "name": "stderr",
     "output_type": "stream",
     "text": [
      "100%|███████████████████████████████████████████████████████████████████████████████████████████████████████████████████████████████████████████████████████████| 5/5 [00:00<00:00, 19.40it/s]\n",
      "100%|███████████████████████████████████████████████████████████████████████████████████████████████████████████████████████████████████████████████████████████████████| 5/5 [00:00<?, ?it/s]\n",
      "100%|███████████████████████████████████████████████████████████████████████████████████████████████████████████████████████████████████████████████████████████████████| 5/5 [00:00<?, ?it/s]\n",
      "100%|███████████████████████████████████████████████████████████████████████████████████████████████████████████████████████████████████████████████████████████| 5/5 [00:00<00:00, 18.33it/s]\n",
      " 60%|█████████████████████████████████████████████████████████████████████████████████████████████                                                              | 3/5 [00:00<00:00, 20.86it/s]"
     ]
    },
    {
     "name": "stdout",
     "output_type": "stream",
     "text": [
      "========== Summary ============\n",
      "Name: ProjectedLinear (True)\n",
      "MSE of Empirical Distributions: \u001b[32mOK\u001b[0m\n",
      "Consistency: \u001b[32mOK\u001b[0m (to_be_checked=False)\n",
      "MSE of estimators: \u001b[32mOK\u001b[0m\n",
      "Physicality Violation: \u001b[32mOK\u001b[0m\n",
      "===============================\n",
      "Case 3: ProjectedLinear (False)\n"
     ]
    },
    {
     "name": "stderr",
     "output_type": "stream",
     "text": [
      "100%|███████████████████████████████████████████████████████████████████████████████████████████████████████████████████████████████████████████████████████████| 5/5 [00:00<00:00, 19.24it/s]\n",
      "100%|███████████████████████████████████████████████████████████████████████████████████████████████████████████████████████████████████████████████████████████████████| 5/5 [00:00<?, ?it/s]\n",
      "100%|███████████████████████████████████████████████████████████████████████████████████████████████████████████████████████████████████████████████████████████████████| 5/5 [00:00<?, ?it/s]\n",
      "100%|███████████████████████████████████████████████████████████████████████████████████████████████████████████████████████████████████████████████████████████| 5/5 [00:00<00:00, 19.29it/s]\n",
      "  0%|                                                                                                                                                                   | 0/5 [00:00<?, ?it/s]"
     ]
    },
    {
     "name": "stdout",
     "output_type": "stream",
     "text": [
      "========== Summary ============\n",
      "Name: ProjectedLinear (False)\n",
      "MSE of Empirical Distributions: \u001b[32mOK\u001b[0m\n",
      "Consistency: \u001b[32mOK\u001b[0m (to_be_checked=False)\n",
      "MSE of estimators: \u001b[32mOK\u001b[0m\n",
      "Physicality Violation: \u001b[32mOK\u001b[0m\n",
      "===============================\n",
      "Case 4: Maximum-Likelihood (True)\n"
     ]
    },
    {
     "name": "stderr",
     "output_type": "stream",
     "text": [
      "100%|███████████████████████████████████████████████████████████████████████████████████████████████████████████████████████████████████████████████████████████| 5/5 [00:01<00:00,  2.63it/s]\n",
      "100%|███████████████████████████████████████████████████████████████████████████████████████████████████████████████████████████████████████████████████████████████████| 5/5 [00:00<?, ?it/s]\n",
      "100%|███████████████████████████████████████████████████████████████████████████████████████████████████████████████████████████████████████████████████████████████████| 5/5 [00:00<?, ?it/s]\n",
      "100%|███████████████████████████████████████████████████████████████████████████████████████████████████████████████████████████████████████████████████████████| 5/5 [00:00<00:00, 22.38it/s]\n",
      "  0%|                                                                                                                                                                   | 0/5 [00:00<?, ?it/s]"
     ]
    },
    {
     "name": "stdout",
     "output_type": "stream",
     "text": [
      "========== Summary ============\n",
      "Name: Maximum-Likelihood (True)\n",
      "MSE of Empirical Distributions: \u001b[32mOK\u001b[0m\n",
      "Consistency: \u001b[32mOK\u001b[0m (to_be_checked=False)\n",
      "MSE of estimators: \u001b[32mOK\u001b[0m\n",
      "Physicality Violation: \u001b[32mOK\u001b[0m\n",
      "===============================\n",
      "Case 5: Maximum-Likelihood (False)\n"
     ]
    },
    {
     "name": "stderr",
     "output_type": "stream",
     "text": [
      "100%|███████████████████████████████████████████████████████████████████████████████████████████████████████████████████████████████████████████████████████████| 5/5 [00:04<00:00,  1.20it/s]\n",
      "100%|███████████████████████████████████████████████████████████████████████████████████████████████████████████████████████████████████████████████████████████████████| 5/5 [00:00<?, ?it/s]\n",
      "100%|█████████████████████████████████████████████████████████████████████████████████████████████████████████████████████████████████████████████████████████| 5/5 [00:00<00:00, 5006.33it/s]\n",
      "100%|███████████████████████████████████████████████████████████████████████████████████████████████████████████████████████████████████████████████████████████| 5/5 [00:00<00:00, 23.24it/s]\n",
      "  0%|                                                                                                                                                                   | 0/5 [00:00<?, ?it/s]"
     ]
    },
    {
     "name": "stdout",
     "output_type": "stream",
     "text": [
      "========== Summary ============\n",
      "Name: Maximum-Likelihood (False)\n",
      "MSE of Empirical Distributions: \u001b[32mOK\u001b[0m\n",
      "Consistency: \u001b[31mNG\u001b[0m (to_be_checked=False)\n",
      "MSE of estimators: \u001b[32mOK\u001b[0m\n",
      "Physicality Violation: \u001b[32mOK\u001b[0m\n",
      "===============================\n",
      "Case 6: Least Squares (True)\n"
     ]
    },
    {
     "name": "stderr",
     "output_type": "stream",
     "text": [
      "100%|███████████████████████████████████████████████████████████████████████████████████████████████████████████████████████████████████████████████████████████| 5/5 [00:00<00:00, 10.32it/s]\n",
      "100%|███████████████████████████████████████████████████████████████████████████████████████████████████████████████████████████████████████████████████████████████████| 5/5 [00:00<?, ?it/s]\n",
      "100%|███████████████████████████████████████████████████████████████████████████████████████████████████████████████████████████████████████████████████████████████████| 5/5 [00:00<?, ?it/s]\n",
      "c:\\users\\tsukano\\qbridge\\work\\repo\\quara\\quara\\simulation\\standard_qtomography_simulation_check.py:177: UserWarning: Estimator MSE is not checked except for LinearEstimator, ProjectedLinearEstimator, Maximum-likelihood.\n",
      "  \"Estimator MSE is not checked except for LinearEstimator, ProjectedLinearEstimator, Maximum-likelihood.\"\n",
      " 20%|███████████████████████████████                                                                                                                            | 1/5 [00:00<00:00,  7.73it/s]"
     ]
    },
    {
     "name": "stdout",
     "output_type": "stream",
     "text": [
      "========== Summary ============\n",
      "Name: Least Squares (True)\n",
      "MSE of Empirical Distributions: \u001b[32mOK\u001b[0m\n",
      "Consistency: \u001b[32mOK\u001b[0m (to_be_checked=False)\n",
      "MSE of estimators: \u001b[32mOK\u001b[0m\n",
      "Physicality Violation: \u001b[32mOK\u001b[0m\n",
      "===============================\n",
      "Case 7: Least Squares (False)\n"
     ]
    },
    {
     "name": "stderr",
     "output_type": "stream",
     "text": [
      "100%|███████████████████████████████████████████████████████████████████████████████████████████████████████████████████████████████████████████████████████████| 5/5 [00:00<00:00,  8.06it/s]\n",
      "100%|███████████████████████████████████████████████████████████████████████████████████████████████████████████████████████████████████████████████████████████████████| 5/5 [00:00<?, ?it/s]\n",
      "100%|███████████████████████████████████████████████████████████████████████████████████████████████████████████████████████████████████████████████████████████████████| 5/5 [00:00<?, ?it/s]\n",
      " 40%|██████████████████████████████████████████████████████████████                                                                                             | 2/5 [00:00<00:00, 18.74it/s]"
     ]
    },
    {
     "name": "stdout",
     "output_type": "stream",
     "text": [
      "========== Summary ============\n",
      "Name: Least Squares (False)\n",
      "MSE of Empirical Distributions: \u001b[32mOK\u001b[0m\n",
      "Consistency: \u001b[32mOK\u001b[0m (to_be_checked=False)\n",
      "MSE of estimators: \u001b[32mOK\u001b[0m\n",
      "Physicality Violation: \u001b[32mOK\u001b[0m\n",
      "===============================\n",
      "Completed to write csv. result_random_qst_1qubit\\0\\0\\check_result.csv\n",
      "total_result=True\n",
      "Case 0: Linear (True)\n"
     ]
    },
    {
     "name": "stderr",
     "output_type": "stream",
     "text": [
      "100%|███████████████████████████████████████████████████████████████████████████████████████████████████████████████████████████████████████████████████████████| 5/5 [00:00<00:00, 18.97it/s]\n",
      "100%|███████████████████████████████████████████████████████████████████████████████████████████████████████████████████████████████████████████████████████████████████| 5/5 [00:00<?, ?it/s]\n",
      "100%|███████████████████████████████████████████████████████████████████████████████████████████████████████████████████████████████████████████████████████████████████| 5/5 [00:00<?, ?it/s]\n",
      " 40%|██████████████████████████████████████████████████████████████                                                                                             | 2/5 [00:00<00:00, 16.97it/s]"
     ]
    },
    {
     "name": "stdout",
     "output_type": "stream",
     "text": [
      "========== Summary ============\n",
      "Name: Linear (True)\n",
      "MSE of Empirical Distributions: \u001b[32mOK\u001b[0m\n",
      "Consistency: \u001b[32mOK\u001b[0m (to_be_checked=False)\n",
      "MSE of estimators: \u001b[32mOK\u001b[0m\n",
      "Physicality Violation: \u001b[32mOK\u001b[0m\n",
      "===============================\n",
      "Case 1: Linear (False)\n"
     ]
    },
    {
     "name": "stderr",
     "output_type": "stream",
     "text": [
      "100%|███████████████████████████████████████████████████████████████████████████████████████████████████████████████████████████████████████████████████████████| 5/5 [00:00<00:00, 18.58it/s]\n",
      "100%|█████████████████████████████████████████████████████████████████████████████████████████████████████████████████████████████████████████████████████████| 5/5 [00:00<00:00, 1219.91it/s]\n",
      "100%|███████████████████████████████████████████████████████████████████████████████████████████████████████████████████████████████████████████████████████████████████| 5/5 [00:00<?, ?it/s]\n",
      " 40%|██████████████████████████████████████████████████████████████                                                                                             | 2/5 [00:00<00:00, 17.59it/s]"
     ]
    },
    {
     "name": "stdout",
     "output_type": "stream",
     "text": [
      "========== Summary ============\n",
      "Name: Linear (False)\n",
      "MSE of Empirical Distributions: \u001b[32mOK\u001b[0m\n",
      "Consistency: \u001b[32mOK\u001b[0m (to_be_checked=False)\n",
      "MSE of estimators: \u001b[32mOK\u001b[0m\n",
      "Physicality Violation: \u001b[32mOK\u001b[0m\n",
      "===============================\n",
      "Case 2: ProjectedLinear (True)\n"
     ]
    },
    {
     "name": "stderr",
     "output_type": "stream",
     "text": [
      "100%|███████████████████████████████████████████████████████████████████████████████████████████████████████████████████████████████████████████████████████████| 5/5 [00:00<00:00, 15.28it/s]\n",
      "100%|███████████████████████████████████████████████████████████████████████████████████████████████████████████████████████████████████████████████████████████████████| 5/5 [00:00<?, ?it/s]\n",
      "100%|███████████████████████████████████████████████████████████████████████████████████████████████████████████████████████████████████████████████████████████████████| 5/5 [00:00<?, ?it/s]\n",
      "100%|███████████████████████████████████████████████████████████████████████████████████████████████████████████████████████████████████████████████████████████| 5/5 [00:00<00:00, 17.90it/s]\n",
      " 40%|██████████████████████████████████████████████████████████████                                                                                             | 2/5 [00:00<00:00, 15.92it/s]"
     ]
    },
    {
     "name": "stdout",
     "output_type": "stream",
     "text": [
      "========== Summary ============\n",
      "Name: ProjectedLinear (True)\n",
      "MSE of Empirical Distributions: \u001b[32mOK\u001b[0m\n",
      "Consistency: \u001b[32mOK\u001b[0m (to_be_checked=False)\n",
      "MSE of estimators: \u001b[32mOK\u001b[0m\n",
      "Physicality Violation: \u001b[32mOK\u001b[0m\n",
      "===============================\n",
      "Case 3: ProjectedLinear (False)\n"
     ]
    },
    {
     "name": "stderr",
     "output_type": "stream",
     "text": [
      "100%|███████████████████████████████████████████████████████████████████████████████████████████████████████████████████████████████████████████████████████████| 5/5 [00:00<00:00, 17.90it/s]\n",
      "100%|███████████████████████████████████████████████████████████████████████████████████████████████████████████████████████████████████████████████████████████████████| 5/5 [00:00<?, ?it/s]\n",
      "100%|███████████████████████████████████████████████████████████████████████████████████████████████████████████████████████████████████████████████████████████████████| 5/5 [00:00<?, ?it/s]\n",
      "100%|███████████████████████████████████████████████████████████████████████████████████████████████████████████████████████████████████████████████████████████| 5/5 [00:00<00:00, 20.62it/s]\n",
      "  0%|                                                                                                                                                                   | 0/5 [00:00<?, ?it/s]"
     ]
    },
    {
     "name": "stdout",
     "output_type": "stream",
     "text": [
      "========== Summary ============\n",
      "Name: ProjectedLinear (False)\n",
      "MSE of Empirical Distributions: \u001b[32mOK\u001b[0m\n",
      "Consistency: \u001b[32mOK\u001b[0m (to_be_checked=False)\n",
      "MSE of estimators: \u001b[32mOK\u001b[0m\n",
      "Physicality Violation: \u001b[32mOK\u001b[0m\n",
      "===============================\n",
      "Case 4: Maximum-Likelihood (True)\n"
     ]
    },
    {
     "name": "stderr",
     "output_type": "stream",
     "text": [
      "100%|███████████████████████████████████████████████████████████████████████████████████████████████████████████████████████████████████████████████████████████| 5/5 [00:02<00:00,  2.26it/s]\n",
      "100%|███████████████████████████████████████████████████████████████████████████████████████████████████████████████████████████████████████████████████████████████████| 5/5 [00:00<?, ?it/s]\n",
      "100%|███████████████████████████████████████████████████████████████████████████████████████████████████████████████████████████████████████████████████████████████████| 5/5 [00:00<?, ?it/s]\n",
      "100%|███████████████████████████████████████████████████████████████████████████████████████████████████████████████████████████████████████████████████████████| 5/5 [00:00<00:00, 20.72it/s]\n",
      "  0%|                                                                                                                                                                   | 0/5 [00:00<?, ?it/s]"
     ]
    },
    {
     "name": "stdout",
     "output_type": "stream",
     "text": [
      "========== Summary ============\n",
      "Name: Maximum-Likelihood (True)\n",
      "MSE of Empirical Distributions: \u001b[32mOK\u001b[0m\n",
      "Consistency: \u001b[32mOK\u001b[0m (to_be_checked=False)\n",
      "MSE of estimators: \u001b[32mOK\u001b[0m\n",
      "Physicality Violation: \u001b[32mOK\u001b[0m\n",
      "===============================\n",
      "Case 5: Maximum-Likelihood (False)\n"
     ]
    },
    {
     "name": "stderr",
     "output_type": "stream",
     "text": [
      "100%|███████████████████████████████████████████████████████████████████████████████████████████████████████████████████████████████████████████████████████████| 5/5 [00:05<00:00,  1.06s/it]\n",
      "100%|███████████████████████████████████████████████████████████████████████████████████████████████████████████████████████████████████████████████████████████████████| 5/5 [00:00<?, ?it/s]\n",
      "100%|███████████████████████████████████████████████████████████████████████████████████████████████████████████████████████████████████████████████████████████████████| 5/5 [00:00<?, ?it/s]\n",
      "100%|███████████████████████████████████████████████████████████████████████████████████████████████████████████████████████████████████████████████████████████| 5/5 [00:00<00:00, 21.69it/s]\n",
      " 20%|███████████████████████████████                                                                                                                            | 1/5 [00:00<00:00,  9.29it/s]"
     ]
    },
    {
     "name": "stdout",
     "output_type": "stream",
     "text": [
      "========== Summary ============\n",
      "Name: Maximum-Likelihood (False)\n",
      "MSE of Empirical Distributions: \u001b[32mOK\u001b[0m\n",
      "Consistency: \u001b[31mNG\u001b[0m (to_be_checked=False)\n",
      "MSE of estimators: \u001b[32mOK\u001b[0m\n",
      "Physicality Violation: \u001b[32mOK\u001b[0m\n",
      "===============================\n",
      "Case 6: Least Squares (True)\n"
     ]
    },
    {
     "name": "stderr",
     "output_type": "stream",
     "text": [
      "100%|███████████████████████████████████████████████████████████████████████████████████████████████████████████████████████████████████████████████████████████| 5/5 [00:00<00:00, 10.39it/s]\n",
      "100%|███████████████████████████████████████████████████████████████████████████████████████████████████████████████████████████████████████████████████████████████████| 5/5 [00:00<?, ?it/s]\n",
      "100%|███████████████████████████████████████████████████████████████████████████████████████████████████████████████████████████████████████████████████████████████████| 5/5 [00:00<?, ?it/s]\n",
      " 20%|███████████████████████████████                                                                                                                            | 1/5 [00:00<00:00,  9.25it/s]"
     ]
    },
    {
     "name": "stdout",
     "output_type": "stream",
     "text": [
      "========== Summary ============\n",
      "Name: Least Squares (True)\n",
      "MSE of Empirical Distributions: \u001b[32mOK\u001b[0m\n",
      "Consistency: \u001b[32mOK\u001b[0m (to_be_checked=False)\n",
      "MSE of estimators: \u001b[32mOK\u001b[0m\n",
      "Physicality Violation: \u001b[32mOK\u001b[0m\n",
      "===============================\n",
      "Case 7: Least Squares (False)\n"
     ]
    },
    {
     "name": "stderr",
     "output_type": "stream",
     "text": [
      "100%|███████████████████████████████████████████████████████████████████████████████████████████████████████████████████████████████████████████████████████████| 5/5 [00:00<00:00,  8.97it/s]\n",
      "100%|███████████████████████████████████████████████████████████████████████████████████████████████████████████████████████████████████████████████████████████████████| 5/5 [00:00<?, ?it/s]\n",
      "100%|███████████████████████████████████████████████████████████████████████████████████████████████████████████████████████████████████████████████████████████████████| 5/5 [00:00<?, ?it/s]\n",
      " 40%|██████████████████████████████████████████████████████████████                                                                                             | 2/5 [00:00<00:00, 19.79it/s]"
     ]
    },
    {
     "name": "stdout",
     "output_type": "stream",
     "text": [
      "========== Summary ============\n",
      "Name: Least Squares (False)\n",
      "MSE of Empirical Distributions: \u001b[32mOK\u001b[0m\n",
      "Consistency: \u001b[32mOK\u001b[0m (to_be_checked=False)\n",
      "MSE of estimators: \u001b[32mOK\u001b[0m\n",
      "Physicality Violation: \u001b[32mOK\u001b[0m\n",
      "===============================\n",
      "Completed to write csv. result_random_qst_1qubit\\0\\1\\check_result.csv\n",
      "total_result=True\n",
      "Case 0: Linear (True)\n"
     ]
    },
    {
     "name": "stderr",
     "output_type": "stream",
     "text": [
      "100%|███████████████████████████████████████████████████████████████████████████████████████████████████████████████████████████████████████████████████████████| 5/5 [00:00<00:00, 20.41it/s]\n",
      "100%|███████████████████████████████████████████████████████████████████████████████████████████████████████████████████████████████████████████████████████████████████| 5/5 [00:00<?, ?it/s]\n",
      "100%|████████████████████████████████████████████████████████████████████████████████████████████████████████████████████████████████████████████████████████| 5/5 [00:00<00:00, 35971.73it/s]\n",
      " 40%|██████████████████████████████████████████████████████████████                                                                                             | 2/5 [00:00<00:00, 18.20it/s]"
     ]
    },
    {
     "name": "stdout",
     "output_type": "stream",
     "text": [
      "========== Summary ============\n",
      "Name: Linear (True)\n",
      "MSE of Empirical Distributions: \u001b[32mOK\u001b[0m\n",
      "Consistency: \u001b[32mOK\u001b[0m (to_be_checked=False)\n",
      "MSE of estimators: \u001b[32mOK\u001b[0m\n",
      "Physicality Violation: \u001b[32mOK\u001b[0m\n",
      "===============================\n",
      "Case 1: Linear (False)\n"
     ]
    },
    {
     "name": "stderr",
     "output_type": "stream",
     "text": [
      "100%|███████████████████████████████████████████████████████████████████████████████████████████████████████████████████████████████████████████████████████████| 5/5 [00:00<00:00, 19.80it/s]\n",
      "100%|███████████████████████████████████████████████████████████████████████████████████████████████████████████████████████████████████████████████████████████████████| 5/5 [00:00<?, ?it/s]\n",
      "100%|███████████████████████████████████████████████████████████████████████████████████████████████████████████████████████████████████████████████████████████████████| 5/5 [00:00<?, ?it/s]\n",
      " 40%|██████████████████████████████████████████████████████████████                                                                                             | 2/5 [00:00<00:00, 19.64it/s]"
     ]
    },
    {
     "name": "stdout",
     "output_type": "stream",
     "text": [
      "========== Summary ============\n",
      "Name: Linear (False)\n",
      "MSE of Empirical Distributions: \u001b[32mOK\u001b[0m\n",
      "Consistency: \u001b[32mOK\u001b[0m (to_be_checked=False)\n",
      "MSE of estimators: \u001b[32mOK\u001b[0m\n",
      "Physicality Violation: \u001b[32mOK\u001b[0m\n",
      "===============================\n",
      "Case 2: ProjectedLinear (True)\n"
     ]
    },
    {
     "name": "stderr",
     "output_type": "stream",
     "text": [
      "100%|███████████████████████████████████████████████████████████████████████████████████████████████████████████████████████████████████████████████████████████| 5/5 [00:00<00:00, 19.82it/s]\n",
      "100%|███████████████████████████████████████████████████████████████████████████████████████████████████████████████████████████████████████████████████████████████████| 5/5 [00:00<?, ?it/s]\n",
      "100%|█████████████████████████████████████████████████████████████████████████████████████████████████████████████████████████████████████████████████████████| 5/5 [00:00<00:00, 5007.53it/s]\n",
      "100%|███████████████████████████████████████████████████████████████████████████████████████████████████████████████████████████████████████████████████████████| 5/5 [00:00<00:00, 20.79it/s]\n",
      " 40%|██████████████████████████████████████████████████████████████                                                                                             | 2/5 [00:00<00:00, 15.44it/s]"
     ]
    },
    {
     "name": "stdout",
     "output_type": "stream",
     "text": [
      "========== Summary ============\n",
      "Name: ProjectedLinear (True)\n",
      "MSE of Empirical Distributions: \u001b[32mOK\u001b[0m\n",
      "Consistency: \u001b[32mOK\u001b[0m (to_be_checked=False)\n",
      "MSE of estimators: \u001b[32mOK\u001b[0m\n",
      "Physicality Violation: \u001b[32mOK\u001b[0m\n",
      "===============================\n",
      "Case 3: ProjectedLinear (False)\n"
     ]
    },
    {
     "name": "stderr",
     "output_type": "stream",
     "text": [
      "100%|███████████████████████████████████████████████████████████████████████████████████████████████████████████████████████████████████████████████████████████| 5/5 [00:00<00:00, 15.44it/s]\n",
      "100%|███████████████████████████████████████████████████████████████████████████████████████████████████████████████████████████████████████████████████████████████████| 5/5 [00:00<?, ?it/s]\n",
      "100%|███████████████████████████████████████████████████████████████████████████████████████████████████████████████████████████████████████████████████████████████████| 5/5 [00:00<?, ?it/s]\n",
      "100%|███████████████████████████████████████████████████████████████████████████████████████████████████████████████████████████████████████████████████████████| 5/5 [00:00<00:00, 21.42it/s]\n",
      "  0%|                                                                                                                                                                   | 0/5 [00:00<?, ?it/s]"
     ]
    },
    {
     "name": "stdout",
     "output_type": "stream",
     "text": [
      "========== Summary ============\n",
      "Name: ProjectedLinear (False)\n",
      "MSE of Empirical Distributions: \u001b[32mOK\u001b[0m\n",
      "Consistency: \u001b[32mOK\u001b[0m (to_be_checked=False)\n",
      "MSE of estimators: \u001b[32mOK\u001b[0m\n",
      "Physicality Violation: \u001b[32mOK\u001b[0m\n",
      "===============================\n",
      "Case 4: Maximum-Likelihood (True)\n"
     ]
    },
    {
     "name": "stderr",
     "output_type": "stream",
     "text": [
      "100%|███████████████████████████████████████████████████████████████████████████████████████████████████████████████████████████████████████████████████████████| 5/5 [00:02<00:00,  2.29it/s]\n",
      "100%|███████████████████████████████████████████████████████████████████████████████████████████████████████████████████████████████████████████████████████████████████| 5/5 [00:00<?, ?it/s]\n",
      "100%|███████████████████████████████████████████████████████████████████████████████████████████████████████████████████████████████████████████████████████████████████| 5/5 [00:00<?, ?it/s]\n",
      "100%|███████████████████████████████████████████████████████████████████████████████████████████████████████████████████████████████████████████████████████████| 5/5 [00:00<00:00, 19.28it/s]\n",
      "  0%|                                                                                                                                                                   | 0/5 [00:00<?, ?it/s]"
     ]
    },
    {
     "name": "stdout",
     "output_type": "stream",
     "text": [
      "========== Summary ============\n",
      "Name: Maximum-Likelihood (True)\n",
      "MSE of Empirical Distributions: \u001b[32mOK\u001b[0m\n",
      "Consistency: \u001b[32mOK\u001b[0m (to_be_checked=False)\n",
      "MSE of estimators: \u001b[32mOK\u001b[0m\n",
      "Physicality Violation: \u001b[32mOK\u001b[0m\n",
      "===============================\n",
      "Case 5: Maximum-Likelihood (False)\n"
     ]
    },
    {
     "name": "stderr",
     "output_type": "stream",
     "text": [
      "100%|███████████████████████████████████████████████████████████████████████████████████████████████████████████████████████████████████████████████████████████| 5/5 [00:06<00:00,  1.23s/it]\n",
      "100%|███████████████████████████████████████████████████████████████████████████████████████████████████████████████████████████████████████████████████████████████████| 5/5 [00:00<?, ?it/s]\n",
      "100%|█████████████████████████████████████████████████████████████████████████████████████████████████████████████████████████████████████████████████████████| 5/5 [00:00<00:00, 4996.79it/s]\n",
      "100%|███████████████████████████████████████████████████████████████████████████████████████████████████████████████████████████████████████████████████████████| 5/5 [00:00<00:00, 21.12it/s]\n",
      " 20%|███████████████████████████████                                                                                                                            | 1/5 [00:00<00:00,  6.96it/s]"
     ]
    },
    {
     "name": "stdout",
     "output_type": "stream",
     "text": [
      "========== Summary ============\n",
      "Name: Maximum-Likelihood (False)\n",
      "MSE of Empirical Distributions: \u001b[32mOK\u001b[0m\n",
      "Consistency: \u001b[31mNG\u001b[0m (to_be_checked=False)\n",
      "MSE of estimators: \u001b[32mOK\u001b[0m\n",
      "Physicality Violation: \u001b[32mOK\u001b[0m\n",
      "===============================\n",
      "Case 6: Least Squares (True)\n"
     ]
    },
    {
     "name": "stderr",
     "output_type": "stream",
     "text": [
      "100%|███████████████████████████████████████████████████████████████████████████████████████████████████████████████████████████████████████████████████████████| 5/5 [00:00<00:00,  7.69it/s]\n",
      "100%|███████████████████████████████████████████████████████████████████████████████████████████████████████████████████████████████████████████████████████████████████| 5/5 [00:00<?, ?it/s]\n",
      "100%|███████████████████████████████████████████████████████████████████████████████████████████████████████████████████████████████████████████████████████████████████| 5/5 [00:00<?, ?it/s]\n",
      " 20%|███████████████████████████████                                                                                                                            | 1/5 [00:00<00:00,  7.83it/s]"
     ]
    },
    {
     "name": "stdout",
     "output_type": "stream",
     "text": [
      "========== Summary ============\n",
      "Name: Least Squares (True)\n",
      "MSE of Empirical Distributions: \u001b[32mOK\u001b[0m\n",
      "Consistency: \u001b[32mOK\u001b[0m (to_be_checked=False)\n",
      "MSE of estimators: \u001b[32mOK\u001b[0m\n",
      "Physicality Violation: \u001b[32mOK\u001b[0m\n",
      "===============================\n",
      "Case 7: Least Squares (False)\n"
     ]
    },
    {
     "name": "stderr",
     "output_type": "stream",
     "text": [
      "100%|███████████████████████████████████████████████████████████████████████████████████████████████████████████████████████████████████████████████████████████| 5/5 [00:00<00:00,  7.92it/s]\n",
      "100%|███████████████████████████████████████████████████████████████████████████████████████████████████████████████████████████████████████████████████████████████████| 5/5 [00:00<?, ?it/s]\n",
      "100%|███████████████████████████████████████████████████████████████████████████████████████████████████████████████████████████████████████████████████████████████████| 5/5 [00:00<?, ?it/s]\n",
      "  0%|                                                                                                                                                                   | 0/5 [00:00<?, ?it/s]"
     ]
    },
    {
     "name": "stdout",
     "output_type": "stream",
     "text": [
      "========== Summary ============\n",
      "Name: Least Squares (False)\n",
      "MSE of Empirical Distributions: \u001b[32mOK\u001b[0m\n",
      "Consistency: \u001b[32mOK\u001b[0m (to_be_checked=False)\n",
      "MSE of estimators: \u001b[32mOK\u001b[0m\n",
      "Physicality Violation: \u001b[32mOK\u001b[0m\n",
      "===============================\n",
      "Completed to write csv. result_random_qst_1qubit\\0\\2\\check_result.csv\n",
      "total_result=True\n",
      "Completed to write csv. result_random_qst_1qubit\\0\\check_result.csv\n",
      "Completed to write test_setting. result_random_qst_1qubit\\1\\test_setting.pickle\n",
      "Case 0: Linear (True)\n"
     ]
    },
    {
     "name": "stderr",
     "output_type": "stream",
     "text": [
      "100%|███████████████████████████████████████████████████████████████████████████████████████████████████████████████████████████████████████████████████████████| 5/5 [00:00<00:00, 19.50it/s]\n",
      "100%|██████████████████████████████████████████████████████████████████████████████████████████████████████████████████████████████████████████████████████████| 5/5 [00:00<00:00, 758.00it/s]\n",
      "100%|███████████████████████████████████████████████████████████████████████████████████████████████████████████████████████████████████████████████████████████████████| 5/5 [00:00<?, ?it/s]\n",
      " 40%|██████████████████████████████████████████████████████████████                                                                                             | 2/5 [00:00<00:00, 19.04it/s]"
     ]
    },
    {
     "name": "stdout",
     "output_type": "stream",
     "text": [
      "========== Summary ============\n",
      "Name: Linear (True)\n",
      "MSE of Empirical Distributions: \u001b[32mOK\u001b[0m\n",
      "Consistency: \u001b[32mOK\u001b[0m (to_be_checked=False)\n",
      "MSE of estimators: \u001b[32mOK\u001b[0m\n",
      "Physicality Violation: \u001b[32mOK\u001b[0m\n",
      "===============================\n",
      "Case 1: Linear (False)\n"
     ]
    },
    {
     "name": "stderr",
     "output_type": "stream",
     "text": [
      "100%|███████████████████████████████████████████████████████████████████████████████████████████████████████████████████████████████████████████████████████████| 5/5 [00:00<00:00, 19.45it/s]\n",
      "100%|███████████████████████████████████████████████████████████████████████████████████████████████████████████████████████████████████████████████████████████████████| 5/5 [00:00<?, ?it/s]\n",
      "100%|███████████████████████████████████████████████████████████████████████████████████████████████████████████████████████████████████████████████████████████████████| 5/5 [00:00<?, ?it/s]\n",
      " 40%|██████████████████████████████████████████████████████████████                                                                                             | 2/5 [00:00<00:00, 18.89it/s]"
     ]
    },
    {
     "name": "stdout",
     "output_type": "stream",
     "text": [
      "========== Summary ============\n",
      "Name: Linear (False)\n",
      "MSE of Empirical Distributions: \u001b[32mOK\u001b[0m\n",
      "Consistency: \u001b[32mOK\u001b[0m (to_be_checked=False)\n",
      "MSE of estimators: \u001b[32mOK\u001b[0m\n",
      "Physicality Violation: \u001b[32mOK\u001b[0m\n",
      "===============================\n",
      "Case 2: ProjectedLinear (True)\n"
     ]
    },
    {
     "name": "stderr",
     "output_type": "stream",
     "text": [
      "100%|███████████████████████████████████████████████████████████████████████████████████████████████████████████████████████████████████████████████████████████| 5/5 [00:00<00:00, 19.69it/s]\n",
      "100%|███████████████████████████████████████████████████████████████████████████████████████████████████████████████████████████████████████████████████████████████████| 5/5 [00:00<?, ?it/s]\n",
      "100%|███████████████████████████████████████████████████████████████████████████████████████████████████████████████████████████████████████████████████████████████████| 5/5 [00:00<?, ?it/s]\n",
      "100%|███████████████████████████████████████████████████████████████████████████████████████████████████████████████████████████████████████████████████████████| 5/5 [00:00<00:00, 22.45it/s]\n",
      " 60%|█████████████████████████████████████████████████████████████████████████████████████████████                                                              | 3/5 [00:00<00:00, 22.42it/s]"
     ]
    },
    {
     "name": "stdout",
     "output_type": "stream",
     "text": [
      "========== Summary ============\n",
      "Name: ProjectedLinear (True)\n",
      "MSE of Empirical Distributions: \u001b[32mOK\u001b[0m\n",
      "Consistency: \u001b[32mOK\u001b[0m (to_be_checked=False)\n",
      "MSE of estimators: \u001b[32mOK\u001b[0m\n",
      "Physicality Violation: \u001b[32mOK\u001b[0m\n",
      "===============================\n",
      "Case 3: ProjectedLinear (False)\n"
     ]
    },
    {
     "name": "stderr",
     "output_type": "stream",
     "text": [
      "100%|███████████████████████████████████████████████████████████████████████████████████████████████████████████████████████████████████████████████████████████| 5/5 [00:00<00:00, 21.37it/s]\n",
      "100%|███████████████████████████████████████████████████████████████████████████████████████████████████████████████████████████████████████████████████████████████████| 5/5 [00:00<?, ?it/s]\n",
      "100%|███████████████████████████████████████████████████████████████████████████████████████████████████████████████████████████████████████████████████████████████████| 5/5 [00:00<?, ?it/s]\n",
      "100%|███████████████████████████████████████████████████████████████████████████████████████████████████████████████████████████████████████████████████████████| 5/5 [00:00<00:00, 21.56it/s]\n",
      "  0%|                                                                                                                                                                   | 0/5 [00:00<?, ?it/s]"
     ]
    },
    {
     "name": "stdout",
     "output_type": "stream",
     "text": [
      "========== Summary ============\n",
      "Name: ProjectedLinear (False)\n",
      "MSE of Empirical Distributions: \u001b[32mOK\u001b[0m\n",
      "Consistency: \u001b[32mOK\u001b[0m (to_be_checked=False)\n",
      "MSE of estimators: \u001b[32mOK\u001b[0m\n",
      "Physicality Violation: \u001b[32mOK\u001b[0m\n",
      "===============================\n",
      "Case 4: Maximum-Likelihood (True)\n"
     ]
    },
    {
     "name": "stderr",
     "output_type": "stream",
     "text": [
      "100%|███████████████████████████████████████████████████████████████████████████████████████████████████████████████████████████████████████████████████████████| 5/5 [00:02<00:00,  2.30it/s]\n",
      "100%|█████████████████████████████████████████████████████████████████████████████████████████████████████████████████████████████████████████████████████████| 5/5 [00:00<00:00, 5014.71it/s]\n",
      "100%|███████████████████████████████████████████████████████████████████████████████████████████████████████████████████████████████████████████████████████████████████| 5/5 [00:00<?, ?it/s]\n",
      "100%|███████████████████████████████████████████████████████████████████████████████████████████████████████████████████████████████████████████████████████████| 5/5 [00:00<00:00, 18.31it/s]\n",
      "  0%|                                                                                                                                                                   | 0/5 [00:00<?, ?it/s]"
     ]
    },
    {
     "name": "stdout",
     "output_type": "stream",
     "text": [
      "========== Summary ============\n",
      "Name: Maximum-Likelihood (True)\n",
      "MSE of Empirical Distributions: \u001b[32mOK\u001b[0m\n",
      "Consistency: \u001b[32mOK\u001b[0m (to_be_checked=False)\n",
      "MSE of estimators: \u001b[32mOK\u001b[0m\n",
      "Physicality Violation: \u001b[32mOK\u001b[0m\n",
      "===============================\n",
      "Case 5: Maximum-Likelihood (False)\n"
     ]
    },
    {
     "name": "stderr",
     "output_type": "stream",
     "text": [
      "100%|███████████████████████████████████████████████████████████████████████████████████████████████████████████████████████████████████████████████████████████| 5/5 [00:05<00:00,  1.16s/it]\n",
      "100%|███████████████████████████████████████████████████████████████████████████████████████████████████████████████████████████████████████████████████████████████████| 5/5 [00:00<?, ?it/s]\n",
      "100%|███████████████████████████████████████████████████████████████████████████████████████████████████████████████████████████████████████████████████████████████████| 5/5 [00:00<?, ?it/s]\n",
      "100%|███████████████████████████████████████████████████████████████████████████████████████████████████████████████████████████████████████████████████████████| 5/5 [00:00<00:00, 20.60it/s]\n",
      " 20%|███████████████████████████████                                                                                                                            | 1/5 [00:00<00:00,  9.16it/s]"
     ]
    },
    {
     "name": "stdout",
     "output_type": "stream",
     "text": [
      "========== Summary ============\n",
      "Name: Maximum-Likelihood (False)\n",
      "MSE of Empirical Distributions: \u001b[32mOK\u001b[0m\n",
      "Consistency: \u001b[31mNG\u001b[0m (to_be_checked=False)\n",
      "MSE of estimators: \u001b[32mOK\u001b[0m\n",
      "Physicality Violation: \u001b[32mOK\u001b[0m\n",
      "===============================\n",
      "Case 6: Least Squares (True)\n"
     ]
    },
    {
     "name": "stderr",
     "output_type": "stream",
     "text": [
      "100%|███████████████████████████████████████████████████████████████████████████████████████████████████████████████████████████████████████████████████████████| 5/5 [00:00<00:00,  9.54it/s]\n",
      "100%|███████████████████████████████████████████████████████████████████████████████████████████████████████████████████████████████████████████████████████████████████| 5/5 [00:00<?, ?it/s]\n",
      "100%|███████████████████████████████████████████████████████████████████████████████████████████████████████████████████████████████████████████████████████████████████| 5/5 [00:00<?, ?it/s]\n",
      " 20%|███████████████████████████████                                                                                                                            | 1/5 [00:00<00:00,  8.62it/s]"
     ]
    },
    {
     "name": "stdout",
     "output_type": "stream",
     "text": [
      "========== Summary ============\n",
      "Name: Least Squares (True)\n",
      "MSE of Empirical Distributions: \u001b[32mOK\u001b[0m\n",
      "Consistency: \u001b[32mOK\u001b[0m (to_be_checked=False)\n",
      "MSE of estimators: \u001b[32mOK\u001b[0m\n",
      "Physicality Violation: \u001b[32mOK\u001b[0m\n",
      "===============================\n",
      "Case 7: Least Squares (False)\n"
     ]
    },
    {
     "name": "stderr",
     "output_type": "stream",
     "text": [
      "100%|███████████████████████████████████████████████████████████████████████████████████████████████████████████████████████████████████████████████████████████| 5/5 [00:00<00:00,  9.03it/s]\n",
      "100%|███████████████████████████████████████████████████████████████████████████████████████████████████████████████████████████████████████████████████████████████████| 5/5 [00:00<?, ?it/s]\n",
      "100%|███████████████████████████████████████████████████████████████████████████████████████████████████████████████████████████████████████████████████████████████████| 5/5 [00:00<?, ?it/s]\n",
      " 40%|██████████████████████████████████████████████████████████████                                                                                             | 2/5 [00:00<00:00, 19.25it/s]"
     ]
    },
    {
     "name": "stdout",
     "output_type": "stream",
     "text": [
      "========== Summary ============\n",
      "Name: Least Squares (False)\n",
      "MSE of Empirical Distributions: \u001b[32mOK\u001b[0m\n",
      "Consistency: \u001b[32mOK\u001b[0m (to_be_checked=False)\n",
      "MSE of estimators: \u001b[32mOK\u001b[0m\n",
      "Physicality Violation: \u001b[32mOK\u001b[0m\n",
      "===============================\n",
      "Completed to write csv. result_random_qst_1qubit\\1\\0\\check_result.csv\n",
      "total_result=True\n",
      "Case 0: Linear (True)\n"
     ]
    },
    {
     "name": "stderr",
     "output_type": "stream",
     "text": [
      "100%|███████████████████████████████████████████████████████████████████████████████████████████████████████████████████████████████████████████████████████████| 5/5 [00:00<00:00, 19.77it/s]\n",
      "100%|███████████████████████████████████████████████████████████████████████████████████████████████████████████████████████████████████████████████████████████████████| 5/5 [00:00<?, ?it/s]\n",
      "100%|███████████████████████████████████████████████████████████████████████████████████████████████████████████████████████████████████████████████████████████████████| 5/5 [00:00<?, ?it/s]\n",
      " 40%|██████████████████████████████████████████████████████████████                                                                                             | 2/5 [00:00<00:00, 19.64it/s]"
     ]
    },
    {
     "name": "stdout",
     "output_type": "stream",
     "text": [
      "========== Summary ============\n",
      "Name: Linear (True)\n",
      "MSE of Empirical Distributions: \u001b[32mOK\u001b[0m\n",
      "Consistency: \u001b[32mOK\u001b[0m (to_be_checked=False)\n",
      "MSE of estimators: \u001b[32mOK\u001b[0m\n",
      "Physicality Violation: \u001b[32mOK\u001b[0m\n",
      "===============================\n",
      "Case 1: Linear (False)\n"
     ]
    },
    {
     "name": "stderr",
     "output_type": "stream",
     "text": [
      "100%|███████████████████████████████████████████████████████████████████████████████████████████████████████████████████████████████████████████████████████████| 5/5 [00:00<00:00, 19.01it/s]\n",
      "100%|███████████████████████████████████████████████████████████████████████████████████████████████████████████████████████████████████████████████████████████████████| 5/5 [00:00<?, ?it/s]\n",
      "100%|███████████████████████████████████████████████████████████████████████████████████████████████████████████████████████████████████████████████████████████████████| 5/5 [00:00<?, ?it/s]\n",
      " 60%|█████████████████████████████████████████████████████████████████████████████████████████████                                                              | 3/5 [00:00<00:00, 20.65it/s]"
     ]
    },
    {
     "name": "stdout",
     "output_type": "stream",
     "text": [
      "========== Summary ============\n",
      "Name: Linear (False)\n",
      "MSE of Empirical Distributions: \u001b[32mOK\u001b[0m\n",
      "Consistency: \u001b[32mOK\u001b[0m (to_be_checked=False)\n",
      "MSE of estimators: \u001b[32mOK\u001b[0m\n",
      "Physicality Violation: \u001b[32mOK\u001b[0m\n",
      "===============================\n",
      "Case 2: ProjectedLinear (True)\n"
     ]
    },
    {
     "name": "stderr",
     "output_type": "stream",
     "text": [
      "100%|███████████████████████████████████████████████████████████████████████████████████████████████████████████████████████████████████████████████████████████| 5/5 [00:00<00:00, 18.95it/s]\n",
      "100%|███████████████████████████████████████████████████████████████████████████████████████████████████████████████████████████████████████████████████████████████████| 5/5 [00:00<?, ?it/s]\n",
      "100%|███████████████████████████████████████████████████████████████████████████████████████████████████████████████████████████████████████████████████████████████████| 5/5 [00:00<?, ?it/s]\n",
      "100%|███████████████████████████████████████████████████████████████████████████████████████████████████████████████████████████████████████████████████████████| 5/5 [00:00<00:00, 19.99it/s]\n",
      " 60%|█████████████████████████████████████████████████████████████████████████████████████████████                                                              | 3/5 [00:00<00:00, 22.09it/s]"
     ]
    },
    {
     "name": "stdout",
     "output_type": "stream",
     "text": [
      "========== Summary ============\n",
      "Name: ProjectedLinear (True)\n",
      "MSE of Empirical Distributions: \u001b[32mOK\u001b[0m\n",
      "Consistency: \u001b[32mOK\u001b[0m (to_be_checked=False)\n",
      "MSE of estimators: \u001b[32mOK\u001b[0m\n",
      "Physicality Violation: \u001b[32mOK\u001b[0m\n",
      "===============================\n",
      "Case 3: ProjectedLinear (False)\n"
     ]
    },
    {
     "name": "stderr",
     "output_type": "stream",
     "text": [
      "100%|███████████████████████████████████████████████████████████████████████████████████████████████████████████████████████████████████████████████████████████| 5/5 [00:00<00:00, 20.80it/s]\n",
      "100%|███████████████████████████████████████████████████████████████████████████████████████████████████████████████████████████████████████████████████████████████████| 5/5 [00:00<?, ?it/s]\n",
      "100%|█████████████████████████████████████████████████████████████████████████████████████████████████████████████████████████████████████████████████████████| 5/5 [00:00<00:00, 5008.72it/s]\n",
      "100%|███████████████████████████████████████████████████████████████████████████████████████████████████████████████████████████████████████████████████████████| 5/5 [00:00<00:00, 21.18it/s]\n",
      "  0%|                                                                                                                                                                   | 0/5 [00:00<?, ?it/s]"
     ]
    },
    {
     "name": "stdout",
     "output_type": "stream",
     "text": [
      "========== Summary ============\n",
      "Name: ProjectedLinear (False)\n",
      "MSE of Empirical Distributions: \u001b[32mOK\u001b[0m\n",
      "Consistency: \u001b[32mOK\u001b[0m (to_be_checked=False)\n",
      "MSE of estimators: \u001b[32mOK\u001b[0m\n",
      "Physicality Violation: \u001b[32mOK\u001b[0m\n",
      "===============================\n",
      "Case 4: Maximum-Likelihood (True)\n"
     ]
    },
    {
     "name": "stderr",
     "output_type": "stream",
     "text": [
      "100%|███████████████████████████████████████████████████████████████████████████████████████████████████████████████████████████████████████████████████████████| 5/5 [00:02<00:00,  2.21it/s]\n",
      "100%|███████████████████████████████████████████████████████████████████████████████████████████████████████████████████████████████████████████████████████████████████| 5/5 [00:00<?, ?it/s]\n",
      "100%|███████████████████████████████████████████████████████████████████████████████████████████████████████████████████████████████████████████████████████████████████| 5/5 [00:00<?, ?it/s]\n",
      "100%|███████████████████████████████████████████████████████████████████████████████████████████████████████████████████████████████████████████████████████████| 5/5 [00:00<00:00, 23.75it/s]\n",
      "  0%|                                                                                                                                                                   | 0/5 [00:00<?, ?it/s]"
     ]
    },
    {
     "name": "stdout",
     "output_type": "stream",
     "text": [
      "========== Summary ============\n",
      "Name: Maximum-Likelihood (True)\n",
      "MSE of Empirical Distributions: \u001b[32mOK\u001b[0m\n",
      "Consistency: \u001b[32mOK\u001b[0m (to_be_checked=False)\n",
      "MSE of estimators: \u001b[32mOK\u001b[0m\n",
      "Physicality Violation: \u001b[32mOK\u001b[0m\n",
      "===============================\n",
      "Case 5: Maximum-Likelihood (False)\n"
     ]
    },
    {
     "name": "stderr",
     "output_type": "stream",
     "text": [
      "100%|███████████████████████████████████████████████████████████████████████████████████████████████████████████████████████████████████████████████████████████| 5/5 [00:06<00:00,  1.20s/it]\n",
      "100%|█████████████████████████████████████████████████████████████████████████████████████████████████████████████████████████████████████████████████████████| 5/5 [00:00<00:00, 4999.17it/s]\n",
      "100%|███████████████████████████████████████████████████████████████████████████████████████████████████████████████████████████████████████████████████████████████████| 5/5 [00:00<?, ?it/s]\n",
      "100%|███████████████████████████████████████████████████████████████████████████████████████████████████████████████████████████████████████████████████████████| 5/5 [00:00<00:00, 19.06it/s]\n",
      " 20%|███████████████████████████████                                                                                                                            | 1/5 [00:00<00:00,  8.77it/s]"
     ]
    },
    {
     "name": "stdout",
     "output_type": "stream",
     "text": [
      "========== Summary ============\n",
      "Name: Maximum-Likelihood (False)\n",
      "MSE of Empirical Distributions: \u001b[32mOK\u001b[0m\n",
      "Consistency: \u001b[31mNG\u001b[0m (to_be_checked=False)\n",
      "MSE of estimators: \u001b[32mOK\u001b[0m\n",
      "Physicality Violation: \u001b[32mOK\u001b[0m\n",
      "===============================\n",
      "Case 6: Least Squares (True)\n"
     ]
    },
    {
     "name": "stderr",
     "output_type": "stream",
     "text": [
      "100%|███████████████████████████████████████████████████████████████████████████████████████████████████████████████████████████████████████████████████████████| 5/5 [00:00<00:00,  9.00it/s]\n",
      "100%|███████████████████████████████████████████████████████████████████████████████████████████████████████████████████████████████████████████████████████████████████| 5/5 [00:00<?, ?it/s]\n",
      "100%|███████████████████████████████████████████████████████████████████████████████████████████████████████████████████████████████████████████████████████████████████| 5/5 [00:00<?, ?it/s]\n",
      " 20%|███████████████████████████████                                                                                                                            | 1/5 [00:00<00:00,  6.77it/s]"
     ]
    },
    {
     "name": "stdout",
     "output_type": "stream",
     "text": [
      "========== Summary ============\n",
      "Name: Least Squares (True)\n",
      "MSE of Empirical Distributions: \u001b[32mOK\u001b[0m\n",
      "Consistency: \u001b[32mOK\u001b[0m (to_be_checked=False)\n",
      "MSE of estimators: \u001b[32mOK\u001b[0m\n",
      "Physicality Violation: \u001b[32mOK\u001b[0m\n",
      "===============================\n",
      "Case 7: Least Squares (False)\n"
     ]
    },
    {
     "name": "stderr",
     "output_type": "stream",
     "text": [
      "100%|███████████████████████████████████████████████████████████████████████████████████████████████████████████████████████████████████████████████████████████| 5/5 [00:00<00:00,  6.79it/s]\n",
      "100%|███████████████████████████████████████████████████████████████████████████████████████████████████████████████████████████████████████████████████████████████████| 5/5 [00:00<?, ?it/s]\n",
      "100%|███████████████████████████████████████████████████████████████████████████████████████████████████████████████████████████████████████████████████████████████████| 5/5 [00:00<?, ?it/s]\n",
      " 60%|█████████████████████████████████████████████████████████████████████████████████████████████                                                              | 3/5 [00:00<00:00, 21.81it/s]"
     ]
    },
    {
     "name": "stdout",
     "output_type": "stream",
     "text": [
      "========== Summary ============\n",
      "Name: Least Squares (False)\n",
      "MSE of Empirical Distributions: \u001b[32mOK\u001b[0m\n",
      "Consistency: \u001b[32mOK\u001b[0m (to_be_checked=False)\n",
      "MSE of estimators: \u001b[32mOK\u001b[0m\n",
      "Physicality Violation: \u001b[32mOK\u001b[0m\n",
      "===============================\n",
      "Completed to write csv. result_random_qst_1qubit\\1\\1\\check_result.csv\n",
      "total_result=True\n",
      "Case 0: Linear (True)\n"
     ]
    },
    {
     "name": "stderr",
     "output_type": "stream",
     "text": [
      "100%|███████████████████████████████████████████████████████████████████████████████████████████████████████████████████████████████████████████████████████████| 5/5 [00:00<00:00, 21.68it/s]\n",
      "100%|███████████████████████████████████████████████████████████████████████████████████████████████████████████████████████████████████████████████████████████████████| 5/5 [00:00<?, ?it/s]\n",
      "100%|███████████████████████████████████████████████████████████████████████████████████████████████████████████████████████████████████████████████████████████████████| 5/5 [00:00<?, ?it/s]\n",
      " 40%|██████████████████████████████████████████████████████████████                                                                                             | 2/5 [00:00<00:00, 17.53it/s]"
     ]
    },
    {
     "name": "stdout",
     "output_type": "stream",
     "text": [
      "========== Summary ============\n",
      "Name: Linear (True)\n",
      "MSE of Empirical Distributions: \u001b[32mOK\u001b[0m\n",
      "Consistency: \u001b[32mOK\u001b[0m (to_be_checked=False)\n",
      "MSE of estimators: \u001b[32mOK\u001b[0m\n",
      "Physicality Violation: \u001b[32mOK\u001b[0m\n",
      "===============================\n",
      "Case 1: Linear (False)\n"
     ]
    },
    {
     "name": "stderr",
     "output_type": "stream",
     "text": [
      "100%|███████████████████████████████████████████████████████████████████████████████████████████████████████████████████████████████████████████████████████████| 5/5 [00:00<00:00, 19.48it/s]\n",
      "100%|███████████████████████████████████████████████████████████████████████████████████████████████████████████████████████████████████████████████████████████████████| 5/5 [00:00<?, ?it/s]\n",
      "100%|███████████████████████████████████████████████████████████████████████████████████████████████████████████████████████████████████████████████████████████████████| 5/5 [00:00<?, ?it/s]\n",
      " 60%|█████████████████████████████████████████████████████████████████████████████████████████████                                                              | 3/5 [00:00<00:00, 19.37it/s]"
     ]
    },
    {
     "name": "stdout",
     "output_type": "stream",
     "text": [
      "========== Summary ============\n",
      "Name: Linear (False)\n",
      "MSE of Empirical Distributions: \u001b[32mOK\u001b[0m\n",
      "Consistency: \u001b[32mOK\u001b[0m (to_be_checked=False)\n",
      "MSE of estimators: \u001b[32mOK\u001b[0m\n",
      "Physicality Violation: \u001b[32mOK\u001b[0m\n",
      "===============================\n",
      "Case 2: ProjectedLinear (True)\n"
     ]
    },
    {
     "name": "stderr",
     "output_type": "stream",
     "text": [
      "100%|███████████████████████████████████████████████████████████████████████████████████████████████████████████████████████████████████████████████████████████| 5/5 [00:00<00:00, 15.09it/s]\n",
      "100%|█████████████████████████████████████████████████████████████████████████████████████████████████████████████████████████████████████████████████████████| 5/5 [00:00<00:00, 5007.53it/s]\n",
      "100%|███████████████████████████████████████████████████████████████████████████████████████████████████████████████████████████████████████████████████████████████████| 5/5 [00:00<?, ?it/s]\n",
      "100%|███████████████████████████████████████████████████████████████████████████████████████████████████████████████████████████████████████████████████████████| 5/5 [00:00<00:00, 11.47it/s]\n",
      " 40%|██████████████████████████████████████████████████████████████                                                                                             | 2/5 [00:00<00:00, 13.71it/s]"
     ]
    },
    {
     "name": "stdout",
     "output_type": "stream",
     "text": [
      "========== Summary ============\n",
      "Name: ProjectedLinear (True)\n",
      "MSE of Empirical Distributions: \u001b[32mOK\u001b[0m\n",
      "Consistency: \u001b[32mOK\u001b[0m (to_be_checked=False)\n",
      "MSE of estimators: \u001b[32mOK\u001b[0m\n",
      "Physicality Violation: \u001b[32mOK\u001b[0m\n",
      "===============================\n",
      "Case 3: ProjectedLinear (False)\n"
     ]
    },
    {
     "name": "stderr",
     "output_type": "stream",
     "text": [
      "100%|███████████████████████████████████████████████████████████████████████████████████████████████████████████████████████████████████████████████████████████| 5/5 [00:00<00:00, 15.93it/s]\n",
      "100%|█████████████████████████████████████████████████████████████████████████████████████████████████████████████████████████████████████████████████████████| 5/5 [00:00<00:00, 5005.14it/s]\n",
      "100%|███████████████████████████████████████████████████████████████████████████████████████████████████████████████████████████████████████████████████████████████████| 5/5 [00:00<?, ?it/s]\n",
      "100%|███████████████████████████████████████████████████████████████████████████████████████████████████████████████████████████████████████████████████████████| 5/5 [00:00<00:00, 13.63it/s]\n",
      "  0%|                                                                                                                                                                   | 0/5 [00:00<?, ?it/s]"
     ]
    },
    {
     "name": "stdout",
     "output_type": "stream",
     "text": [
      "========== Summary ============\n",
      "Name: ProjectedLinear (False)\n",
      "MSE of Empirical Distributions: \u001b[32mOK\u001b[0m\n",
      "Consistency: \u001b[32mOK\u001b[0m (to_be_checked=False)\n",
      "MSE of estimators: \u001b[32mOK\u001b[0m\n",
      "Physicality Violation: \u001b[32mOK\u001b[0m\n",
      "===============================\n",
      "Case 4: Maximum-Likelihood (True)\n"
     ]
    },
    {
     "name": "stderr",
     "output_type": "stream",
     "text": [
      "100%|███████████████████████████████████████████████████████████████████████████████████████████████████████████████████████████████████████████████████████████| 5/5 [00:02<00:00,  2.09it/s]\n",
      "100%|███████████████████████████████████████████████████████████████████████████████████████████████████████████████████████████████████████████████████████████████████| 5/5 [00:00<?, ?it/s]\n",
      "100%|█████████████████████████████████████████████████████████████████████████████████████████████████████████████████████████████████████████████████████████| 5/5 [00:00<00:00, 5012.31it/s]\n",
      "100%|███████████████████████████████████████████████████████████████████████████████████████████████████████████████████████████████████████████████████████████| 5/5 [00:00<00:00, 17.65it/s]\n",
      "  0%|                                                                                                                                                                   | 0/5 [00:00<?, ?it/s]"
     ]
    },
    {
     "name": "stdout",
     "output_type": "stream",
     "text": [
      "========== Summary ============\n",
      "Name: Maximum-Likelihood (True)\n",
      "MSE of Empirical Distributions: \u001b[32mOK\u001b[0m\n",
      "Consistency: \u001b[32mOK\u001b[0m (to_be_checked=False)\n",
      "MSE of estimators: \u001b[32mOK\u001b[0m\n",
      "Physicality Violation: \u001b[32mOK\u001b[0m\n",
      "===============================\n",
      "Case 5: Maximum-Likelihood (False)\n"
     ]
    },
    {
     "name": "stderr",
     "output_type": "stream",
     "text": [
      "100%|███████████████████████████████████████████████████████████████████████████████████████████████████████████████████████████████████████████████████████████| 5/5 [00:06<00:00,  1.23s/it]\n",
      "100%|███████████████████████████████████████████████████████████████████████████████████████████████████████████████████████████████████████████████████████████████████| 5/5 [00:00<?, ?it/s]\n",
      "100%|███████████████████████████████████████████████████████████████████████████████████████████████████████████████████████████████████████████████████████████████████| 5/5 [00:00<?, ?it/s]\n",
      "100%|███████████████████████████████████████████████████████████████████████████████████████████████████████████████████████████████████████████████████████████| 5/5 [00:00<00:00, 20.70it/s]\n",
      " 40%|██████████████████████████████████████████████████████████████                                                                                             | 2/5 [00:00<00:00, 10.54it/s]"
     ]
    },
    {
     "name": "stdout",
     "output_type": "stream",
     "text": [
      "========== Summary ============\n",
      "Name: Maximum-Likelihood (False)\n",
      "MSE of Empirical Distributions: \u001b[32mOK\u001b[0m\n",
      "Consistency: \u001b[31mNG\u001b[0m (to_be_checked=False)\n",
      "MSE of estimators: \u001b[32mOK\u001b[0m\n",
      "Physicality Violation: \u001b[32mOK\u001b[0m\n",
      "===============================\n",
      "Case 6: Least Squares (True)\n"
     ]
    },
    {
     "name": "stderr",
     "output_type": "stream",
     "text": [
      "100%|███████████████████████████████████████████████████████████████████████████████████████████████████████████████████████████████████████████████████████████| 5/5 [00:00<00:00, 10.69it/s]\n",
      "100%|███████████████████████████████████████████████████████████████████████████████████████████████████████████████████████████████████████████████████████████████████| 5/5 [00:00<?, ?it/s]\n",
      "100%|███████████████████████████████████████████████████████████████████████████████████████████████████████████████████████████████████████████████████████████████████| 5/5 [00:00<?, ?it/s]\n",
      " 20%|███████████████████████████████                                                                                                                            | 1/5 [00:00<00:00,  7.48it/s]"
     ]
    },
    {
     "name": "stdout",
     "output_type": "stream",
     "text": [
      "========== Summary ============\n",
      "Name: Least Squares (True)\n",
      "MSE of Empirical Distributions: \u001b[32mOK\u001b[0m\n",
      "Consistency: \u001b[32mOK\u001b[0m (to_be_checked=False)\n",
      "MSE of estimators: \u001b[32mOK\u001b[0m\n",
      "Physicality Violation: \u001b[32mOK\u001b[0m\n",
      "===============================\n",
      "Case 7: Least Squares (False)\n"
     ]
    },
    {
     "name": "stderr",
     "output_type": "stream",
     "text": [
      "100%|███████████████████████████████████████████████████████████████████████████████████████████████████████████████████████████████████████████████████████████| 5/5 [00:00<00:00,  8.06it/s]\n",
      "100%|███████████████████████████████████████████████████████████████████████████████████████████████████████████████████████████████████████████████████████████████████| 5/5 [00:00<?, ?it/s]\n",
      "100%|███████████████████████████████████████████████████████████████████████████████████████████████████████████████████████████████████████████████████████████████████| 5/5 [00:00<?, ?it/s]\n",
      "  0%|                                                                                                                                                                   | 0/5 [00:00<?, ?it/s]"
     ]
    },
    {
     "name": "stdout",
     "output_type": "stream",
     "text": [
      "========== Summary ============\n",
      "Name: Least Squares (False)\n",
      "MSE of Empirical Distributions: \u001b[32mOK\u001b[0m\n",
      "Consistency: \u001b[32mOK\u001b[0m (to_be_checked=False)\n",
      "MSE of estimators: \u001b[32mOK\u001b[0m\n",
      "Physicality Violation: \u001b[32mOK\u001b[0m\n",
      "===============================\n",
      "Completed to write csv. result_random_qst_1qubit\\1\\2\\check_result.csv\n",
      "total_result=True\n",
      "Completed to write csv. result_random_qst_1qubit\\1\\check_result.csv\n",
      "Completed to write test_setting. result_random_qst_1qubit\\2\\test_setting.pickle\n",
      "Case 0: Linear (True)\n"
     ]
    },
    {
     "name": "stderr",
     "output_type": "stream",
     "text": [
      "100%|███████████████████████████████████████████████████████████████████████████████████████████████████████████████████████████████████████████████████████████| 5/5 [00:00<00:00, 15.44it/s]\n",
      "100%|███████████████████████████████████████████████████████████████████████████████████████████████████████████████████████████████████████████████████████████████████| 5/5 [00:00<?, ?it/s]\n",
      "100%|███████████████████████████████████████████████████████████████████████████████████████████████████████████████████████████████████████████████████████████████████| 5/5 [00:00<?, ?it/s]\n",
      " 40%|██████████████████████████████████████████████████████████████                                                                                             | 2/5 [00:00<00:00, 15.55it/s]"
     ]
    },
    {
     "name": "stdout",
     "output_type": "stream",
     "text": [
      "========== Summary ============\n",
      "Name: Linear (True)\n",
      "MSE of Empirical Distributions: \u001b[32mOK\u001b[0m\n",
      "Consistency: \u001b[32mOK\u001b[0m (to_be_checked=False)\n",
      "MSE of estimators: \u001b[32mOK\u001b[0m\n",
      "Physicality Violation: \u001b[32mOK\u001b[0m\n",
      "===============================\n",
      "Case 1: Linear (False)\n"
     ]
    },
    {
     "name": "stderr",
     "output_type": "stream",
     "text": [
      "100%|███████████████████████████████████████████████████████████████████████████████████████████████████████████████████████████████████████████████████████████| 5/5 [00:00<00:00, 16.22it/s]\n",
      "100%|███████████████████████████████████████████████████████████████████████████████████████████████████████████████████████████████████████████████████████████████████| 5/5 [00:00<?, ?it/s]\n",
      "100%|███████████████████████████████████████████████████████████████████████████████████████████████████████████████████████████████████████████████████████████████████| 5/5 [00:00<?, ?it/s]\n",
      " 40%|██████████████████████████████████████████████████████████████                                                                                             | 2/5 [00:00<00:00, 15.91it/s]"
     ]
    },
    {
     "name": "stdout",
     "output_type": "stream",
     "text": [
      "========== Summary ============\n",
      "Name: Linear (False)\n",
      "MSE of Empirical Distributions: \u001b[32mOK\u001b[0m\n",
      "Consistency: \u001b[32mOK\u001b[0m (to_be_checked=False)\n",
      "MSE of estimators: \u001b[32mOK\u001b[0m\n",
      "Physicality Violation: \u001b[32mOK\u001b[0m\n",
      "===============================\n",
      "Case 2: ProjectedLinear (True)\n"
     ]
    },
    {
     "name": "stderr",
     "output_type": "stream",
     "text": [
      "100%|███████████████████████████████████████████████████████████████████████████████████████████████████████████████████████████████████████████████████████████| 5/5 [00:00<00:00, 17.51it/s]\n",
      "100%|███████████████████████████████████████████████████████████████████████████████████████████████████████████████████████████████████████████████████████████████████| 5/5 [00:00<?, ?it/s]\n",
      "100%|███████████████████████████████████████████████████████████████████████████████████████████████████████████████████████████████████████████████████████████████████| 5/5 [00:00<?, ?it/s]\n",
      "100%|███████████████████████████████████████████████████████████████████████████████████████████████████████████████████████████████████████████████████████████| 5/5 [00:00<00:00, 18.92it/s]\n",
      " 40%|██████████████████████████████████████████████████████████████                                                                                             | 2/5 [00:00<00:00, 18.23it/s]"
     ]
    },
    {
     "name": "stdout",
     "output_type": "stream",
     "text": [
      "========== Summary ============\n",
      "Name: ProjectedLinear (True)\n",
      "MSE of Empirical Distributions: \u001b[32mOK\u001b[0m\n",
      "Consistency: \u001b[32mOK\u001b[0m (to_be_checked=False)\n",
      "MSE of estimators: \u001b[32mOK\u001b[0m\n",
      "Physicality Violation: \u001b[32mOK\u001b[0m\n",
      "===============================\n",
      "Case 3: ProjectedLinear (False)\n"
     ]
    },
    {
     "name": "stderr",
     "output_type": "stream",
     "text": [
      "100%|███████████████████████████████████████████████████████████████████████████████████████████████████████████████████████████████████████████████████████████| 5/5 [00:00<00:00, 18.67it/s]\n",
      "100%|███████████████████████████████████████████████████████████████████████████████████████████████████████████████████████████████████████████████████████████████████| 5/5 [00:00<?, ?it/s]\n",
      "100%|███████████████████████████████████████████████████████████████████████████████████████████████████████████████████████████████████████████████████████████████████| 5/5 [00:00<?, ?it/s]\n",
      "100%|███████████████████████████████████████████████████████████████████████████████████████████████████████████████████████████████████████████████████████████| 5/5 [00:00<00:00, 21.06it/s]\n",
      "  0%|                                                                                                                                                                   | 0/5 [00:00<?, ?it/s]"
     ]
    },
    {
     "name": "stdout",
     "output_type": "stream",
     "text": [
      "========== Summary ============\n",
      "Name: ProjectedLinear (False)\n",
      "MSE of Empirical Distributions: \u001b[32mOK\u001b[0m\n",
      "Consistency: \u001b[32mOK\u001b[0m (to_be_checked=False)\n",
      "MSE of estimators: \u001b[32mOK\u001b[0m\n",
      "Physicality Violation: \u001b[32mOK\u001b[0m\n",
      "===============================\n",
      "Case 4: Maximum-Likelihood (True)\n"
     ]
    },
    {
     "name": "stderr",
     "output_type": "stream",
     "text": [
      "100%|███████████████████████████████████████████████████████████████████████████████████████████████████████████████████████████████████████████████████████████| 5/5 [00:02<00:00,  2.39it/s]\n",
      "100%|███████████████████████████████████████████████████████████████████████████████████████████████████████████████████████████████████████████████████████████████████| 5/5 [00:00<?, ?it/s]\n",
      "100%|███████████████████████████████████████████████████████████████████████████████████████████████████████████████████████████████████████████████████████████████████| 5/5 [00:00<?, ?it/s]\n",
      "100%|███████████████████████████████████████████████████████████████████████████████████████████████████████████████████████████████████████████████████████████| 5/5 [00:00<00:00, 20.77it/s]\n",
      "  0%|                                                                                                                                                                   | 0/5 [00:00<?, ?it/s]"
     ]
    },
    {
     "name": "stdout",
     "output_type": "stream",
     "text": [
      "========== Summary ============\n",
      "Name: Maximum-Likelihood (True)\n",
      "MSE of Empirical Distributions: \u001b[32mOK\u001b[0m\n",
      "Consistency: \u001b[32mOK\u001b[0m (to_be_checked=False)\n",
      "MSE of estimators: \u001b[32mOK\u001b[0m\n",
      "Physicality Violation: \u001b[32mOK\u001b[0m\n",
      "===============================\n",
      "Case 5: Maximum-Likelihood (False)\n"
     ]
    },
    {
     "name": "stderr",
     "output_type": "stream",
     "text": [
      "100%|███████████████████████████████████████████████████████████████████████████████████████████████████████████████████████████████████████████████████████████| 5/5 [00:05<00:00,  1.09s/it]\n",
      "100%|███████████████████████████████████████████████████████████████████████████████████████████████████████████████████████████████████████████████████████████████████| 5/5 [00:00<?, ?it/s]\n",
      "100%|███████████████████████████████████████████████████████████████████████████████████████████████████████████████████████████████████████████████████████████████████| 5/5 [00:00<?, ?it/s]\n",
      "100%|███████████████████████████████████████████████████████████████████████████████████████████████████████████████████████████████████████████████████████████| 5/5 [00:00<00:00, 21.85it/s]\n",
      " 20%|███████████████████████████████                                                                                                                            | 1/5 [00:00<00:00,  9.46it/s]"
     ]
    },
    {
     "name": "stdout",
     "output_type": "stream",
     "text": [
      "========== Summary ============\n",
      "Name: Maximum-Likelihood (False)\n",
      "MSE of Empirical Distributions: \u001b[32mOK\u001b[0m\n",
      "Consistency: \u001b[31mNG\u001b[0m (to_be_checked=False)\n",
      "MSE of estimators: \u001b[32mOK\u001b[0m\n",
      "Physicality Violation: \u001b[32mOK\u001b[0m\n",
      "===============================\n",
      "Case 6: Least Squares (True)\n"
     ]
    },
    {
     "name": "stderr",
     "output_type": "stream",
     "text": [
      "100%|███████████████████████████████████████████████████████████████████████████████████████████████████████████████████████████████████████████████████████████| 5/5 [00:00<00:00,  9.58it/s]\n",
      "100%|███████████████████████████████████████████████████████████████████████████████████████████████████████████████████████████████████████████████████████████████████| 5/5 [00:00<?, ?it/s]\n",
      "100%|███████████████████████████████████████████████████████████████████████████████████████████████████████████████████████████████████████████████████████████████████| 5/5 [00:00<?, ?it/s]\n",
      " 20%|███████████████████████████████                                                                                                                            | 1/5 [00:00<00:00,  7.32it/s]"
     ]
    },
    {
     "name": "stdout",
     "output_type": "stream",
     "text": [
      "========== Summary ============\n",
      "Name: Least Squares (True)\n",
      "MSE of Empirical Distributions: \u001b[32mOK\u001b[0m\n",
      "Consistency: \u001b[32mOK\u001b[0m (to_be_checked=False)\n",
      "MSE of estimators: \u001b[32mOK\u001b[0m\n",
      "Physicality Violation: \u001b[32mOK\u001b[0m\n",
      "===============================\n",
      "Case 7: Least Squares (False)\n"
     ]
    },
    {
     "name": "stderr",
     "output_type": "stream",
     "text": [
      "100%|███████████████████████████████████████████████████████████████████████████████████████████████████████████████████████████████████████████████████████████| 5/5 [00:00<00:00,  8.31it/s]\n",
      "100%|███████████████████████████████████████████████████████████████████████████████████████████████████████████████████████████████████████████████████████████████████| 5/5 [00:00<?, ?it/s]\n",
      "100%|█████████████████████████████████████████████████████████████████████████████████████████████████████████████████████████████████████████████████████████| 5/5 [00:00<00:00, 5011.12it/s]\n",
      " 40%|██████████████████████████████████████████████████████████████                                                                                             | 2/5 [00:00<00:00, 18.69it/s]"
     ]
    },
    {
     "name": "stdout",
     "output_type": "stream",
     "text": [
      "========== Summary ============\n",
      "Name: Least Squares (False)\n",
      "MSE of Empirical Distributions: \u001b[32mOK\u001b[0m\n",
      "Consistency: \u001b[32mOK\u001b[0m (to_be_checked=False)\n",
      "MSE of estimators: \u001b[32mOK\u001b[0m\n",
      "Physicality Violation: \u001b[32mOK\u001b[0m\n",
      "===============================\n",
      "Completed to write csv. result_random_qst_1qubit\\2\\0\\check_result.csv\n",
      "total_result=True\n",
      "Case 0: Linear (True)\n"
     ]
    },
    {
     "name": "stderr",
     "output_type": "stream",
     "text": [
      "100%|███████████████████████████████████████████████████████████████████████████████████████████████████████████████████████████████████████████████████████████| 5/5 [00:00<00:00, 19.30it/s]\n",
      "100%|███████████████████████████████████████████████████████████████████████████████████████████████████████████████████████████████████████████████████████████████████| 5/5 [00:00<?, ?it/s]\n",
      "100%|███████████████████████████████████████████████████████████████████████████████████████████████████████████████████████████████████████████████████████████████████| 5/5 [00:00<?, ?it/s]\n",
      " 40%|██████████████████████████████████████████████████████████████                                                                                             | 2/5 [00:00<00:00, 19.98it/s]"
     ]
    },
    {
     "name": "stdout",
     "output_type": "stream",
     "text": [
      "========== Summary ============\n",
      "Name: Linear (True)\n",
      "MSE of Empirical Distributions: \u001b[32mOK\u001b[0m\n",
      "Consistency: \u001b[32mOK\u001b[0m (to_be_checked=False)\n",
      "MSE of estimators: \u001b[32mOK\u001b[0m\n",
      "Physicality Violation: \u001b[32mOK\u001b[0m\n",
      "===============================\n",
      "Case 1: Linear (False)\n"
     ]
    },
    {
     "name": "stderr",
     "output_type": "stream",
     "text": [
      "100%|███████████████████████████████████████████████████████████████████████████████████████████████████████████████████████████████████████████████████████████| 5/5 [00:00<00:00, 19.43it/s]\n",
      "100%|███████████████████████████████████████████████████████████████████████████████████████████████████████████████████████████████████████████████████████████████████| 5/5 [00:00<?, ?it/s]\n",
      "100%|███████████████████████████████████████████████████████████████████████████████████████████████████████████████████████████████████████████████████████████████████| 5/5 [00:00<?, ?it/s]\n",
      " 40%|██████████████████████████████████████████████████████████████                                                                                             | 2/5 [00:00<00:00, 19.02it/s]"
     ]
    },
    {
     "name": "stdout",
     "output_type": "stream",
     "text": [
      "========== Summary ============\n",
      "Name: Linear (False)\n",
      "MSE of Empirical Distributions: \u001b[32mOK\u001b[0m\n",
      "Consistency: \u001b[32mOK\u001b[0m (to_be_checked=False)\n",
      "MSE of estimators: \u001b[32mOK\u001b[0m\n",
      "Physicality Violation: \u001b[32mOK\u001b[0m\n",
      "===============================\n",
      "Case 2: ProjectedLinear (True)\n"
     ]
    },
    {
     "name": "stderr",
     "output_type": "stream",
     "text": [
      "100%|███████████████████████████████████████████████████████████████████████████████████████████████████████████████████████████████████████████████████████████| 5/5 [00:00<00:00, 19.00it/s]\n",
      "100%|███████████████████████████████████████████████████████████████████████████████████████████████████████████████████████████████████████████████████████████████████| 5/5 [00:00<?, ?it/s]\n",
      "100%|███████████████████████████████████████████████████████████████████████████████████████████████████████████████████████████████████████████████████████████████████| 5/5 [00:00<?, ?it/s]\n",
      "100%|███████████████████████████████████████████████████████████████████████████████████████████████████████████████████████████████████████████████████████████| 5/5 [00:00<00:00, 20.54it/s]\n",
      " 60%|█████████████████████████████████████████████████████████████████████████████████████████████                                                              | 3/5 [00:00<00:00, 21.45it/s]"
     ]
    },
    {
     "name": "stdout",
     "output_type": "stream",
     "text": [
      "========== Summary ============\n",
      "Name: ProjectedLinear (True)\n",
      "MSE of Empirical Distributions: \u001b[32mOK\u001b[0m\n",
      "Consistency: \u001b[32mOK\u001b[0m (to_be_checked=False)\n",
      "MSE of estimators: \u001b[32mOK\u001b[0m\n",
      "Physicality Violation: \u001b[32mOK\u001b[0m\n",
      "===============================\n",
      "Case 3: ProjectedLinear (False)\n"
     ]
    },
    {
     "name": "stderr",
     "output_type": "stream",
     "text": [
      "100%|███████████████████████████████████████████████████████████████████████████████████████████████████████████████████████████████████████████████████████████| 5/5 [00:00<00:00, 21.05it/s]\n",
      "100%|███████████████████████████████████████████████████████████████████████████████████████████████████████████████████████████████████████████████████████████████████| 5/5 [00:00<?, ?it/s]\n",
      "100%|███████████████████████████████████████████████████████████████████████████████████████████████████████████████████████████████████████████████████████████████████| 5/5 [00:00<?, ?it/s]\n",
      "100%|███████████████████████████████████████████████████████████████████████████████████████████████████████████████████████████████████████████████████████████| 5/5 [00:00<00:00, 19.93it/s]\n",
      "  0%|                                                                                                                                                                   | 0/5 [00:00<?, ?it/s]"
     ]
    },
    {
     "name": "stdout",
     "output_type": "stream",
     "text": [
      "========== Summary ============\n",
      "Name: ProjectedLinear (False)\n",
      "MSE of Empirical Distributions: \u001b[32mOK\u001b[0m\n",
      "Consistency: \u001b[32mOK\u001b[0m (to_be_checked=False)\n",
      "MSE of estimators: \u001b[32mOK\u001b[0m\n",
      "Physicality Violation: \u001b[32mOK\u001b[0m\n",
      "===============================\n",
      "Case 4: Maximum-Likelihood (True)\n"
     ]
    },
    {
     "name": "stderr",
     "output_type": "stream",
     "text": [
      "100%|███████████████████████████████████████████████████████████████████████████████████████████████████████████████████████████████████████████████████████████| 5/5 [00:02<00:00,  2.36it/s]\n",
      "100%|███████████████████████████████████████████████████████████████████████████████████████████████████████████████████████████████████████████████████████████████████| 5/5 [00:00<?, ?it/s]\n",
      "100%|███████████████████████████████████████████████████████████████████████████████████████████████████████████████████████████████████████████████████████████████████| 5/5 [00:00<?, ?it/s]\n",
      "100%|███████████████████████████████████████████████████████████████████████████████████████████████████████████████████████████████████████████████████████████| 5/5 [00:00<00:00, 20.63it/s]\n",
      "  0%|                                                                                                                                                                   | 0/5 [00:00<?, ?it/s]"
     ]
    },
    {
     "name": "stdout",
     "output_type": "stream",
     "text": [
      "========== Summary ============\n",
      "Name: Maximum-Likelihood (True)\n",
      "MSE of Empirical Distributions: \u001b[32mOK\u001b[0m\n",
      "Consistency: \u001b[32mOK\u001b[0m (to_be_checked=False)\n",
      "MSE of estimators: \u001b[32mOK\u001b[0m\n",
      "Physicality Violation: \u001b[32mOK\u001b[0m\n",
      "===============================\n",
      "Case 5: Maximum-Likelihood (False)\n"
     ]
    },
    {
     "name": "stderr",
     "output_type": "stream",
     "text": [
      "100%|███████████████████████████████████████████████████████████████████████████████████████████████████████████████████████████████████████████████████████████| 5/5 [00:05<00:00,  1.07s/it]\n",
      "100%|███████████████████████████████████████████████████████████████████████████████████████████████████████████████████████████████████████████████████████████████████| 5/5 [00:00<?, ?it/s]\n",
      "100%|███████████████████████████████████████████████████████████████████████████████████████████████████████████████████████████████████████████████████████████████████| 5/5 [00:00<?, ?it/s]\n",
      "100%|███████████████████████████████████████████████████████████████████████████████████████████████████████████████████████████████████████████████████████████| 5/5 [00:00<00:00, 22.79it/s]\n",
      " 20%|███████████████████████████████                                                                                                                            | 1/5 [00:00<00:00,  9.51it/s]"
     ]
    },
    {
     "name": "stdout",
     "output_type": "stream",
     "text": [
      "========== Summary ============\n",
      "Name: Maximum-Likelihood (False)\n",
      "MSE of Empirical Distributions: \u001b[32mOK\u001b[0m\n",
      "Consistency: \u001b[31mNG\u001b[0m (to_be_checked=False)\n",
      "MSE of estimators: \u001b[32mOK\u001b[0m\n",
      "Physicality Violation: \u001b[32mOK\u001b[0m\n",
      "===============================\n",
      "Case 6: Least Squares (True)\n"
     ]
    },
    {
     "name": "stderr",
     "output_type": "stream",
     "text": [
      "100%|███████████████████████████████████████████████████████████████████████████████████████████████████████████████████████████████████████████████████████████| 5/5 [00:00<00:00, 10.47it/s]\n",
      "100%|█████████████████████████████████████████████████████████████████████████████████████████████████████████████████████████████████████████████████████████| 5/5 [00:00<00:00, 5007.53it/s]\n",
      "100%|█████████████████████████████████████████████████████████████████████████████████████████████████████████████████████████████████████████████████████████| 5/5 [00:00<00:00, 5015.91it/s]\n",
      " 20%|███████████████████████████████                                                                                                                            | 1/5 [00:00<00:00,  8.55it/s]"
     ]
    },
    {
     "name": "stdout",
     "output_type": "stream",
     "text": [
      "========== Summary ============\n",
      "Name: Least Squares (True)\n",
      "MSE of Empirical Distributions: \u001b[32mOK\u001b[0m\n",
      "Consistency: \u001b[32mOK\u001b[0m (to_be_checked=False)\n",
      "MSE of estimators: \u001b[32mOK\u001b[0m\n",
      "Physicality Violation: \u001b[32mOK\u001b[0m\n",
      "===============================\n",
      "Case 7: Least Squares (False)\n"
     ]
    },
    {
     "name": "stderr",
     "output_type": "stream",
     "text": [
      "100%|███████████████████████████████████████████████████████████████████████████████████████████████████████████████████████████████████████████████████████████| 5/5 [00:00<00:00,  8.67it/s]\n",
      "100%|███████████████████████████████████████████████████████████████████████████████████████████████████████████████████████████████████████████████████████████████████| 5/5 [00:00<?, ?it/s]\n",
      "100%|███████████████████████████████████████████████████████████████████████████████████████████████████████████████████████████████████████████████████████████████████| 5/5 [00:00<?, ?it/s]\n",
      " 60%|█████████████████████████████████████████████████████████████████████████████████████████████                                                              | 3/5 [00:00<00:00, 21.92it/s]"
     ]
    },
    {
     "name": "stdout",
     "output_type": "stream",
     "text": [
      "========== Summary ============\n",
      "Name: Least Squares (False)\n",
      "MSE of Empirical Distributions: \u001b[32mOK\u001b[0m\n",
      "Consistency: \u001b[32mOK\u001b[0m (to_be_checked=False)\n",
      "MSE of estimators: \u001b[32mOK\u001b[0m\n",
      "Physicality Violation: \u001b[32mOK\u001b[0m\n",
      "===============================\n",
      "Completed to write csv. result_random_qst_1qubit\\2\\1\\check_result.csv\n",
      "total_result=True\n",
      "Case 0: Linear (True)\n"
     ]
    },
    {
     "name": "stderr",
     "output_type": "stream",
     "text": [
      "100%|███████████████████████████████████████████████████████████████████████████████████████████████████████████████████████████████████████████████████████████| 5/5 [00:00<00:00, 21.38it/s]\n",
      "100%|███████████████████████████████████████████████████████████████████████████████████████████████████████████████████████████████████████████████████████████████████| 5/5 [00:00<?, ?it/s]\n",
      "100%|███████████████████████████████████████████████████████████████████████████████████████████████████████████████████████████████████████████████████████████████████| 5/5 [00:00<?, ?it/s]\n",
      " 40%|██████████████████████████████████████████████████████████████                                                                                             | 2/5 [00:00<00:00, 17.43it/s]"
     ]
    },
    {
     "name": "stdout",
     "output_type": "stream",
     "text": [
      "========== Summary ============\n",
      "Name: Linear (True)\n",
      "MSE of Empirical Distributions: \u001b[32mOK\u001b[0m\n",
      "Consistency: \u001b[32mOK\u001b[0m (to_be_checked=False)\n",
      "MSE of estimators: \u001b[32mOK\u001b[0m\n",
      "Physicality Violation: \u001b[32mOK\u001b[0m\n",
      "===============================\n",
      "Case 1: Linear (False)\n"
     ]
    },
    {
     "name": "stderr",
     "output_type": "stream",
     "text": [
      "100%|███████████████████████████████████████████████████████████████████████████████████████████████████████████████████████████████████████████████████████████| 5/5 [00:00<00:00, 18.36it/s]\n",
      "100%|███████████████████████████████████████████████████████████████████████████████████████████████████████████████████████████████████████████████████████████████████| 5/5 [00:00<?, ?it/s]\n",
      "100%|███████████████████████████████████████████████████████████████████████████████████████████████████████████████████████████████████████████████████████████████████| 5/5 [00:00<?, ?it/s]\n",
      " 40%|██████████████████████████████████████████████████████████████                                                                                             | 2/5 [00:00<00:00, 18.38it/s]"
     ]
    },
    {
     "name": "stdout",
     "output_type": "stream",
     "text": [
      "========== Summary ============\n",
      "Name: Linear (False)\n",
      "MSE of Empirical Distributions: \u001b[32mOK\u001b[0m\n",
      "Consistency: \u001b[32mOK\u001b[0m (to_be_checked=False)\n",
      "MSE of estimators: \u001b[32mOK\u001b[0m\n",
      "Physicality Violation: \u001b[32mOK\u001b[0m\n",
      "===============================\n",
      "Case 2: ProjectedLinear (True)\n"
     ]
    },
    {
     "name": "stderr",
     "output_type": "stream",
     "text": [
      "100%|███████████████████████████████████████████████████████████████████████████████████████████████████████████████████████████████████████████████████████████| 5/5 [00:00<00:00, 19.03it/s]\n",
      "100%|███████████████████████████████████████████████████████████████████████████████████████████████████████████████████████████████████████████████████████████████████| 5/5 [00:00<?, ?it/s]\n",
      "100%|███████████████████████████████████████████████████████████████████████████████████████████████████████████████████████████████████████████████████████████████████| 5/5 [00:00<?, ?it/s]\n",
      "100%|███████████████████████████████████████████████████████████████████████████████████████████████████████████████████████████████████████████████████████████| 5/5 [00:00<00:00, 21.37it/s]\n",
      " 40%|██████████████████████████████████████████████████████████████                                                                                             | 2/5 [00:00<00:00, 18.00it/s]"
     ]
    },
    {
     "name": "stdout",
     "output_type": "stream",
     "text": [
      "========== Summary ============\n",
      "Name: ProjectedLinear (True)\n",
      "MSE of Empirical Distributions: \u001b[32mOK\u001b[0m\n",
      "Consistency: \u001b[32mOK\u001b[0m (to_be_checked=False)\n",
      "MSE of estimators: \u001b[32mOK\u001b[0m\n",
      "Physicality Violation: \u001b[32mOK\u001b[0m\n",
      "===============================\n",
      "Case 3: ProjectedLinear (False)\n"
     ]
    },
    {
     "name": "stderr",
     "output_type": "stream",
     "text": [
      "100%|███████████████████████████████████████████████████████████████████████████████████████████████████████████████████████████████████████████████████████████| 5/5 [00:00<00:00, 19.49it/s]\n",
      "100%|███████████████████████████████████████████████████████████████████████████████████████████████████████████████████████████████████████████████████████████████████| 5/5 [00:00<?, ?it/s]\n",
      "100%|█████████████████████████████████████████████████████████████████████████████████████████████████████████████████████████████████████████████████████████| 5/5 [00:00<00:00, 5013.51it/s]\n",
      "100%|███████████████████████████████████████████████████████████████████████████████████████████████████████████████████████████████████████████████████████████| 5/5 [00:00<00:00, 21.32it/s]\n",
      "  0%|                                                                                                                                                                   | 0/5 [00:00<?, ?it/s]"
     ]
    },
    {
     "name": "stdout",
     "output_type": "stream",
     "text": [
      "========== Summary ============\n",
      "Name: ProjectedLinear (False)\n",
      "MSE of Empirical Distributions: \u001b[32mOK\u001b[0m\n",
      "Consistency: \u001b[32mOK\u001b[0m (to_be_checked=False)\n",
      "MSE of estimators: \u001b[32mOK\u001b[0m\n",
      "Physicality Violation: \u001b[32mOK\u001b[0m\n",
      "===============================\n",
      "Case 4: Maximum-Likelihood (True)\n"
     ]
    },
    {
     "name": "stderr",
     "output_type": "stream",
     "text": [
      "100%|███████████████████████████████████████████████████████████████████████████████████████████████████████████████████████████████████████████████████████████| 5/5 [00:02<00:00,  2.41it/s]\n",
      "100%|███████████████████████████████████████████████████████████████████████████████████████████████████████████████████████████████████████████████████████████████████| 5/5 [00:00<?, ?it/s]\n",
      "100%|███████████████████████████████████████████████████████████████████████████████████████████████████████████████████████████████████████████████████████████████████| 5/5 [00:00<?, ?it/s]\n",
      "100%|███████████████████████████████████████████████████████████████████████████████████████████████████████████████████████████████████████████████████████████| 5/5 [00:00<00:00, 21.17it/s]\n",
      "  0%|                                                                                                                                                                   | 0/5 [00:00<?, ?it/s]"
     ]
    },
    {
     "name": "stdout",
     "output_type": "stream",
     "text": [
      "========== Summary ============\n",
      "Name: Maximum-Likelihood (True)\n",
      "MSE of Empirical Distributions: \u001b[32mOK\u001b[0m\n",
      "Consistency: \u001b[32mOK\u001b[0m (to_be_checked=False)\n",
      "MSE of estimators: \u001b[32mOK\u001b[0m\n",
      "Physicality Violation: \u001b[32mOK\u001b[0m\n",
      "===============================\n",
      "Case 5: Maximum-Likelihood (False)\n"
     ]
    },
    {
     "name": "stderr",
     "output_type": "stream",
     "text": [
      "100%|███████████████████████████████████████████████████████████████████████████████████████████████████████████████████████████████████████████████████████████| 5/5 [00:05<00:00,  1.08s/it]\n",
      "100%|█████████████████████████████████████████████████████████████████████████████████████████████████████████████████████████████████████████████████████████| 5/5 [00:00<00:00, 5014.71it/s]\n",
      "100%|█████████████████████████████████████████████████████████████████████████████████████████████████████████████████████████████████████████████████████████| 5/5 [00:00<00:00, 5012.31it/s]\n",
      "100%|███████████████████████████████████████████████████████████████████████████████████████████████████████████████████████████████████████████████████████████| 5/5 [00:00<00:00, 21.11it/s]\n",
      "  0%|                                                                                                                                                                   | 0/5 [00:00<?, ?it/s]"
     ]
    },
    {
     "name": "stdout",
     "output_type": "stream",
     "text": [
      "========== Summary ============\n",
      "Name: Maximum-Likelihood (False)\n",
      "MSE of Empirical Distributions: \u001b[32mOK\u001b[0m\n",
      "Consistency: \u001b[31mNG\u001b[0m (to_be_checked=False)\n",
      "MSE of estimators: \u001b[32mOK\u001b[0m\n",
      "Physicality Violation: \u001b[32mOK\u001b[0m\n",
      "===============================\n",
      "Case 6: Least Squares (True)\n"
     ]
    },
    {
     "name": "stderr",
     "output_type": "stream",
     "text": [
      "100%|███████████████████████████████████████████████████████████████████████████████████████████████████████████████████████████████████████████████████████████| 5/5 [00:00<00:00, 10.33it/s]\n",
      "100%|███████████████████████████████████████████████████████████████████████████████████████████████████████████████████████████████████████████████████████████████████| 5/5 [00:00<?, ?it/s]\n",
      "100%|█████████████████████████████████████████████████████████████████████████████████████████████████████████████████████████████████████████████████████████| 5/5 [00:00<00:00, 4983.73it/s]\n",
      " 20%|███████████████████████████████                                                                                                                            | 1/5 [00:00<00:00,  8.53it/s]"
     ]
    },
    {
     "name": "stdout",
     "output_type": "stream",
     "text": [
      "========== Summary ============\n",
      "Name: Least Squares (True)\n",
      "MSE of Empirical Distributions: \u001b[32mOK\u001b[0m\n",
      "Consistency: \u001b[32mOK\u001b[0m (to_be_checked=False)\n",
      "MSE of estimators: \u001b[32mOK\u001b[0m\n",
      "Physicality Violation: \u001b[32mOK\u001b[0m\n",
      "===============================\n",
      "Case 7: Least Squares (False)\n"
     ]
    },
    {
     "name": "stderr",
     "output_type": "stream",
     "text": [
      "100%|███████████████████████████████████████████████████████████████████████████████████████████████████████████████████████████████████████████████████████████| 5/5 [00:00<00:00,  8.98it/s]\n",
      "100%|███████████████████████████████████████████████████████████████████████████████████████████████████████████████████████████████████████████████████████████████████| 5/5 [00:00<?, ?it/s]\n",
      "100%|███████████████████████████████████████████████████████████████████████████████████████████████████████████████████████████████████████████████████████████████████| 5/5 [00:00<?, ?it/s]\n"
     ]
    },
    {
     "name": "stdout",
     "output_type": "stream",
     "text": [
      "========== Summary ============\n",
      "Name: Least Squares (False)\n",
      "MSE of Empirical Distributions: \u001b[32mOK\u001b[0m\n",
      "Consistency: \u001b[32mOK\u001b[0m (to_be_checked=False)\n",
      "MSE of estimators: \u001b[32mOK\u001b[0m\n",
      "Physicality Violation: \u001b[32mOK\u001b[0m\n",
      "===============================\n",
      "Completed to write csv. result_random_qst_1qubit\\2\\2\\check_result.csv\n",
      "total_result=True\n",
      "Completed to write csv. result_random_qst_1qubit\\2\\check_result.csv\n",
      "Completed to write csv. result_random_qst_1qubit\\check_result.csv\n",
      "\u001b[33m==============\u001b[0m \u001b[32mOK: 72 cases\u001b[0m (\u001b[33m0 warnings\u001b[0m), \u001b[31mNG: 0 cases\u001b[0m \u001b[33m in 105.6s (0:01:45)s==============\u001b[0m\n"
     ]
    }
   ],
   "source": [
    "all_results = execute_simulation_test_settings(test_settings, root_dir)"
   ]
  },
  {
   "cell_type": "code",
   "execution_count": null,
   "metadata": {},
   "outputs": [],
   "source": []
  }
 ],
 "metadata": {
  "hide_input": false,
  "kernelspec": {
   "display_name": "Python 3",
   "language": "python",
   "name": "python3"
  },
  "language_info": {
   "codemirror_mode": {
    "name": "ipython",
    "version": 3
   },
   "file_extension": ".py",
   "mimetype": "text/x-python",
   "name": "python",
   "nbconvert_exporter": "python",
   "pygments_lexer": "ipython3",
   "version": "3.7.9"
  },
  "toc": {
   "base_numbering": 1,
   "nav_menu": {},
   "number_sections": true,
   "sideBar": true,
   "skip_h1_title": false,
   "title_cell": "Table of Contents",
   "title_sidebar": "Contents",
   "toc_cell": false,
   "toc_position": {},
   "toc_section_display": true,
   "toc_window_display": false
  },
  "varInspector": {
   "cols": {
    "lenName": 16,
    "lenType": 16,
    "lenVar": 40
   },
   "kernels_config": {
    "python": {
     "delete_cmd_postfix": "",
     "delete_cmd_prefix": "del ",
     "library": "var_list.py",
     "varRefreshCmd": "print(var_dic_list())"
    },
    "r": {
     "delete_cmd_postfix": ") ",
     "delete_cmd_prefix": "rm(",
     "library": "var_list.r",
     "varRefreshCmd": "cat(var_dic_list()) "
    }
   },
   "types_to_exclude": [
    "module",
    "function",
    "builtin_function_or_method",
    "instance",
    "_Feature"
   ],
   "window_display": false
  }
 },
 "nbformat": 4,
 "nbformat_minor": 2
}
