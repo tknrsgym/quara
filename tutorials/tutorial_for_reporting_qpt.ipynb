{
 "cells": [
  {
   "cell_type": "code",
   "execution_count": 1,
   "metadata": {},
   "outputs": [],
   "source": [
    "# Qpt"
   ]
  },
  {
   "cell_type": "code",
   "execution_count": 2,
   "metadata": {},
   "outputs": [],
   "source": [
    "import pickle\n",
    "import time\n",
    "from typing import List\n",
    "import datetime as dt\n",
    "from pathlib import Path\n",
    "\n",
    "import numpy as np\n",
    "import pandas as pd\n",
    "import plotly.graph_objects as go\n",
    "import plotly.express as px\n",
    "\n",
    "from tqdm import tqdm\n",
    "\n",
    "import numpy.testing as npt\n",
    "\n",
    "from quara.data_analysis import data_analysis, physicality_violation_check, report\n",
    "from quara.data_analysis.projected_gradient_descent_backtracking import ProjectedGradientDescentBacktracking, ProjectedGradientDescentBacktrackingOption\n",
    "from quara.data_analysis.weighted_probability_based_squared_error import WeightedProbabilityBasedSquaredError, WeightedProbabilityBasedSquaredErrorOption\n",
    "from quara.data_analysis.weighted_relative_entropy import WeightedRelativeEntropy, WeightedRelativeEntropyOption\n",
    "from quara.objects.composite_system import CompositeSystem\n",
    "from quara.objects.elemental_system import ElementalSystem\n",
    "from quara.objects.matrix_basis import get_normalized_pauli_basis\n",
    "from quara.objects.state import (\n",
    "    State,\n",
    "    get_x0_1q,\n",
    "    get_x1_1q,\n",
    "    get_y0_1q,\n",
    "    get_y1_1q,\n",
    "    get_z0_1q,\n",
    "    get_z1_1q,\n",
    ")\n",
    "from quara.objects.povm import (\n",
    "    Povm,get_x_measurement,\n",
    "    get_y_measurement,\n",
    "    get_z_measurement\n",
    ")\n",
    "from quara.objects.gate import (\n",
    "    Gate, get_depolarizing_channel,\n",
    "    get_x_rotation,\n",
    "    get_amplitutde_damping_channel\n",
    ")\n",
    "from quara.objects.qoperation import QOperation\n",
    "from quara.protocol.qtomography.standard.standard_qpt import StandardQpt\n",
    "from quara.protocol.qtomography.standard.linear_estimator import LinearEstimator\n",
    "from quara.protocol.qtomography.standard.loss_minimization_estimator import LossMinimizationEstimator\n",
    "from quara.protocol.qtomography.standard.projected_linear_estimator import (\n",
    "    ProjectedLinearEstimator,\n",
    ")\n",
    "\n",
    "from quara.data_analysis.simulation import SimulationSetting"
   ]
  },
  {
   "cell_type": "code",
   "execution_count": 3,
   "metadata": {},
   "outputs": [],
   "source": [
    "%load_ext autoreload\n",
    "%autoreload 2"
   ]
  },
  {
   "cell_type": "code",
   "execution_count": 4,
   "metadata": {},
   "outputs": [],
   "source": [
    "start_all = time.time()"
   ]
  },
  {
   "cell_type": "code",
   "execution_count": 5,
   "metadata": {},
   "outputs": [],
   "source": [
    "# setup system\n",
    "e_sys = ElementalSystem(0, get_normalized_pauli_basis())\n",
    "c_sys = CompositeSystem([e_sys])\n",
    "\n",
    "# Tester Objects (State)\n",
    "# |+><+|\n",
    "state_x0 = get_x0_1q(c_sys)\n",
    "# |+i><+i|\n",
    "state_y0 = get_y0_1q(c_sys)\n",
    "# |0><0|\n",
    "state_z0 = get_z0_1q(c_sys)\n",
    "# |1><1|\n",
    "state_z1 = get_z1_1q(c_sys)\n",
    "tester_states = [state_x0, state_y0, state_z0, state_z1]"
   ]
  },
  {
   "cell_type": "code",
   "execution_count": 6,
   "metadata": {},
   "outputs": [],
   "source": [
    "tester_povms = [get_x_measurement(c_sys), get_y_measurement(c_sys), get_z_measurement(c_sys)]"
   ]
  },
  {
   "cell_type": "code",
   "execution_count": 7,
   "metadata": {},
   "outputs": [],
   "source": [
    "# True Object\n",
    "true_objects = []\n",
    "#true_objects.append(get_depolarizing_channel(p=0, c_sys=c_sys))\n",
    "true_objects.append(get_depolarizing_channel(p=0.05, c_sys=c_sys))\n",
    "#true_objects.append(get_depolarizing_channel(p=1, c_sys=c_sys))\n",
    "#true_objects.append(get_x_rotation(theta=np.pi/2, c_sys=c_sys))\n",
    "#true_objects.append(get_x_rotation(theta=np.pi, c_sys=c_sys))\n",
    "#true_objects.append(get_amplitutde_damping_channel(gamma=0.1, c_sys=c_sys))\n",
    "\n",
    "true_object = true_objects[0]"
   ]
  },
  {
   "cell_type": "code",
   "execution_count": 8,
   "metadata": {},
   "outputs": [
    {
     "output_type": "stream",
     "name": "stderr",
     "text": [
      "  0%|          | 0/10 [00:00<?, ?it/s]Case 0: LinearEstimator(True)\n",
      "Parametorization: True\n",
      "Type of qtomography: StandardQpt\n",
      "Estimator: LinearEstimator\n",
      "100%|██████████| 10/10 [00:02<00:00,  3.64it/s]\n",
      "  0%|          | 0/10 [00:00<?, ?it/s]elapsed_time:0.04635001420974731[min]\n",
      "\n",
      "Case 1: LinearEstimator(False)\n",
      "Parametorization: False\n",
      "Type of qtomography: StandardQpt\n",
      "Estimator: LinearEstimator\n",
      "100%|██████████| 10/10 [00:03<00:00,  3.33it/s]\n",
      "  0%|          | 0/10 [00:00<?, ?it/s]elapsed_time:0.05019368728001913[min]\n",
      "\n",
      "Case 2: ProjectedLinearEstimator(True)\n",
      "Parametorization: True\n",
      "Type of qtomography: StandardQpt\n",
      "Estimator: ProjectedLinearEstimator\n",
      "100%|██████████| 10/10 [00:04<00:00,  2.30it/s]\n",
      "  0%|          | 0/10 [00:00<?, ?it/s]elapsed_time:0.07250612179438273[min]\n",
      "\n",
      "Case 3: ProjectedLinearEstimator(False)\n",
      "Parametorization: False\n",
      "Type of qtomography: StandardQpt\n",
      "Estimator: ProjectedLinearEstimator\n",
      "100%|██████████| 10/10 [00:04<00:00,  2.20it/s]\n",
      "  0%|          | 0/10 [00:00<?, ?it/s]elapsed_time:0.07599856853485107[min]\n",
      "\n",
      "Case 4: Maximum-Likelihood(True)\n",
      "Parametorization: True\n",
      "Type of qtomography: StandardQpt\n",
      "Estimator: LossMinimizationEstimator\n",
      "100%|██████████| 10/10 [06:54<00:00, 41.41s/it]\n",
      "  0%|          | 0/10 [00:00<?, ?it/s]elapsed_time:6.901683207352956[min]\n",
      "\n",
      "Case 5: Maximum-Likelihood(False)\n",
      "Parametorization: False\n",
      "Type of qtomography: StandardQpt\n",
      "Estimator: LossMinimizationEstimator\n",
      "100%|██████████| 10/10 [08:48<00:00, 52.87s/it]\n",
      "  0%|          | 0/10 [00:00<?, ?it/s]elapsed_time:8.81164611975352[min]\n",
      "\n",
      "Case 6: Least Squares(True)\n",
      "Parametorization: True\n",
      "Type of qtomography: StandardQpt\n",
      "Estimator: LossMinimizationEstimator\n",
      "100%|██████████| 10/10 [00:54<00:00,  5.47s/it]\n",
      "  0%|          | 0/10 [00:00<?, ?it/s]elapsed_time:0.9123833338419597[min]\n",
      "\n",
      "Case 7: Least Squares(False)\n",
      "Parametorization: False\n",
      "Type of qtomography: StandardQpt\n",
      "Estimator: LossMinimizationEstimator\n",
      "100%|██████████| 10/10 [01:23<00:00,  8.36s/it]elapsed_time:1.3932942907015482[min]\n",
      "\n",
      "\n"
     ]
    }
   ],
   "source": [
    "num_data = [100, 1000, 10000]\n",
    "n_rep = 10\n",
    "\n",
    "case_name_list = [\n",
    "    \"LinearEstimator(True)\",\n",
    "    \"LinearEstimator(False)\",\n",
    "    \"ProjectedLinearEstimator(True)\",\n",
    "    \"ProjectedLinearEstimator(False)\",\n",
    "    \"Maximum-Likelihood(True)\",\n",
    "    \"Maximum-Likelihood(False)\",\n",
    "    \"Least Squares(True)\",\n",
    "    \"Least Squares(False)\",\n",
    "]\n",
    "\n",
    "seed = 777\n",
    "qtomography_list = [\n",
    "    StandardQpt(tester_states, tester_povms, on_para_eq_constraint=True, seed=seed),\n",
    "    StandardQpt(tester_states, tester_povms, on_para_eq_constraint=False, seed=seed),\n",
    "    StandardQpt(tester_states, tester_povms, on_para_eq_constraint=True, seed=seed),\n",
    "    StandardQpt(tester_states, tester_povms, on_para_eq_constraint=False, seed=seed),\n",
    "    StandardQpt(tester_states, tester_povms, on_para_eq_constraint=True, eps_proj_physical=1e-13, seed=seed),\n",
    "    StandardQpt(tester_states, tester_povms, on_para_eq_constraint=False, eps_proj_physical=1e-13, seed=seed),\n",
    "    StandardQpt(tester_states, tester_povms, on_para_eq_constraint=True, eps_proj_physical=1e-13, seed=seed),\n",
    "    StandardQpt(tester_states, tester_povms, on_para_eq_constraint=False, eps_proj_physical=1e-13, seed=seed),\n",
    "]\n",
    "\n",
    "para_list = [\n",
    "    True,\n",
    "    False,\n",
    "    True,\n",
    "    False,\n",
    "    True,\n",
    "    False,\n",
    "    True,\n",
    "    False,\n",
    "]\n",
    "\n",
    "estimator_list = [\n",
    "    LinearEstimator(),\n",
    "    LinearEstimator(),\n",
    "    ProjectedLinearEstimator(),\n",
    "    ProjectedLinearEstimator(),\n",
    "    LossMinimizationEstimator(),\n",
    "    LossMinimizationEstimator(),\n",
    "    LossMinimizationEstimator(),\n",
    "    LossMinimizationEstimator(),\n",
    "]\n",
    "\n",
    "loss_list = [\n",
    "    None,\n",
    "    None,\n",
    "    None,\n",
    "    None,\n",
    "    WeightedRelativeEntropy(12),\n",
    "    WeightedRelativeEntropy(16),\n",
    "    WeightedProbabilityBasedSquaredError(12),\n",
    "    WeightedProbabilityBasedSquaredError(16),\n",
    "]\n",
    "\n",
    "loss_option_list = [\n",
    "    None,\n",
    "    None,\n",
    "    None,\n",
    "    None,\n",
    "    WeightedRelativeEntropyOption(),\n",
    "    WeightedRelativeEntropyOption(),\n",
    "    WeightedProbabilityBasedSquaredErrorOption(),\n",
    "    WeightedProbabilityBasedSquaredErrorOption(),\n",
    "]\n",
    "\n",
    "algo_list = [\n",
    "    None,\n",
    "    None,\n",
    "    None,\n",
    "    None,\n",
    "    ProjectedGradientDescentBacktracking(),\n",
    "    ProjectedGradientDescentBacktracking(),\n",
    "    ProjectedGradientDescentBacktracking(),\n",
    "    ProjectedGradientDescentBacktracking(),\n",
    "]\n",
    "\n",
    "algo_option_list = [\n",
    "    None,\n",
    "    None,\n",
    "    None,\n",
    "    None,\n",
    "    ProjectedGradientDescentBacktrackingOption(),\n",
    "    ProjectedGradientDescentBacktrackingOption(),\n",
    "    ProjectedGradientDescentBacktrackingOption(),\n",
    "    ProjectedGradientDescentBacktrackingOption(),\n",
    "]\n",
    "\n",
    "estimation_results_list = []\n",
    "elapsed_times = []\n",
    "simulation_settings = []\n",
    "\n",
    "for i, name in enumerate(case_name_list):\n",
    "    qtomography = qtomography_list[i]\n",
    "    estimator = estimator_list[i]\n",
    "    loss = loss_list[i]\n",
    "    loss_option = loss_option_list[i]\n",
    "    algo = algo_list[i]\n",
    "    algo_option = algo_option_list[i]\n",
    "\n",
    "    start = time.time()\n",
    "    print(f\"Case {i}: {name}\")\n",
    "    print(f\"Parametorization: {para_list[i]}\")\n",
    "    print(f\"Type of qtomography: {qtomography.__class__.__name__}\")\n",
    "    print(f\"Estimator: {estimator.__class__.__name__}\")\n",
    "\n",
    "    estimation_results = data_analysis.estimate(\n",
    "       qtomography=qtomography,\n",
    "       true_object=true_object,\n",
    "       num_data=num_data,\n",
    "       estimator=estimator,\n",
    "       loss=loss,\n",
    "       loss_option=loss_option,\n",
    "       algo=algo,\n",
    "       algo_option=algo_option,\n",
    "       iteration=n_rep,\n",
    "    )\n",
    "    estimation_results_list.append(estimation_results)\n",
    "    \n",
    "    # stock settings of this simulation\n",
    "    simulation_setting = SimulationSetting(\n",
    "        name=name,\n",
    "        estimator=estimator,\n",
    "        loss=loss,\n",
    "        loss_option=loss_option,\n",
    "        algo=algo,\n",
    "        algo_option=algo_option,\n",
    "    )\n",
    "    simulation_settings.append(simulation_setting)\n",
    "\n",
    "    elapsed_time = time.time() - start\n",
    "    print(\"elapsed_time:{0}\".format(elapsed_time / 60) + \"[min]\\n\")\n",
    "    elapsed_times.append(elapsed_time)"
   ]
  },
  {
   "cell_type": "code",
   "execution_count": 9,
   "metadata": {},
   "outputs": [
    {
     "output_type": "stream",
     "name": "stdout",
     "text": [
      "  LinearEstimator(True)=[0.12242000000000011, 0.007828800000000014, 0.0011080960000000057]\n  LinearEstimator(False)=[0.10006000000000004, 0.0080212, 0.0007524879999999958]\n  ProjectedLinearEstimator(True)=[0.03971116167556233, 0.005768569599730462, 0.0008710045046660692]\n  ProjectedLinearEstimator(False)=[0.04168500257516522, 0.005627817030519908, 0.0008578890167040079]\n  Maximum-Likelihood(True)=[0.024885475655293005, 0.0060567919208944125, 0.0007481036130290633]\n  Maximum-Likelihood(False)=[0.020068118883699124, 0.004708859888961943, 0.0007895989873904962]\n  Least Squares(True)=[0.04328354122136216, 0.005691538724860264, 0.0006641046520211313]\n  Least Squares(False)=[0.030827762172485236, 0.003998602715766462, 0.0009840978374772112]\n"
     ]
    },
    {
     "output_type": "display_data",
     "data": {
      "application/vnd.plotly.v1+json": {
       "config": {
        "plotlyServerURL": "https://plot.ly"
       },
       "data": [
        {
         "error_y": {
          "array": [
           0.02232670946547111,
           0.0012982107070888033,
           0.00031413519242234536
          ],
          "type": "data",
          "visible": true
         },
         "mode": "lines+markers",
         "name": "LinearEstimator(True)",
         "type": "scatter",
         "x": [
          100,
          1000,
          10000
         ],
         "y": [
          0.12242000000000011,
          0.007828800000000014,
          0.0011080960000000057
         ]
        },
        {
         "error_y": {
          "array": [
           0.020325239919316538,
           0.0010078465579861124,
           0.0001488211304948928
          ],
          "type": "data",
          "visible": true
         },
         "mode": "lines+markers",
         "name": "LinearEstimator(False)",
         "type": "scatter",
         "x": [
          100,
          1000,
          10000
         ],
         "y": [
          0.10006000000000004,
          0.0080212,
          0.0007524879999999958
         ]
        },
        {
         "error_y": {
          "array": [
           0.005312974867063194,
           0.0010746170450148323,
           0.00017934638203443478
          ],
          "type": "data",
          "visible": true
         },
         "mode": "lines+markers",
         "name": "ProjectedLinearEstimator(True)",
         "type": "scatter",
         "x": [
          100,
          1000,
          10000
         ],
         "y": [
          0.03971116167556233,
          0.005768569599730462,
          0.0008710045046660692
         ]
        },
        {
         "error_y": {
          "array": [
           0.008288207993030596,
           0.0006523200969841971,
           0.00012840529816225178
          ],
          "type": "data",
          "visible": true
         },
         "mode": "lines+markers",
         "name": "ProjectedLinearEstimator(False)",
         "type": "scatter",
         "x": [
          100,
          1000,
          10000
         ],
         "y": [
          0.04168500257516522,
          0.005627817030519908,
          0.0008578890167040079
         ]
        },
        {
         "error_y": {
          "array": [
           0.006430926690900487,
           0.001195255243238049,
           0.00015857483866347688
          ],
          "type": "data",
          "visible": true
         },
         "mode": "lines+markers",
         "name": "Maximum-Likelihood(True)",
         "type": "scatter",
         "x": [
          100,
          1000,
          10000
         ],
         "y": [
          0.024885475655293005,
          0.0060567919208944125,
          0.0007481036130290633
         ]
        },
        {
         "error_y": {
          "array": [
           0.0029721544304544124,
           0.0005039149946310367,
           0.00013086914199043578
          ],
          "type": "data",
          "visible": true
         },
         "mode": "lines+markers",
         "name": "Maximum-Likelihood(False)",
         "type": "scatter",
         "x": [
          100,
          1000,
          10000
         ],
         "y": [
          0.020068118883699124,
          0.004708859888961943,
          0.0007895989873904962
         ]
        },
        {
         "error_y": {
          "array": [
           0.0070606086652583305,
           0.0008919886493434721,
           0.00010933819455675057
          ],
          "type": "data",
          "visible": true
         },
         "mode": "lines+markers",
         "name": "Least Squares(True)",
         "type": "scatter",
         "x": [
          100,
          1000,
          10000
         ],
         "y": [
          0.04328354122136216,
          0.005691538724860264,
          0.0006641046520211313
         ]
        },
        {
         "error_y": {
          "array": [
           0.0055752534711312595,
           0.00030574109902613777,
           0.00014496693726358774
          ],
          "type": "data",
          "visible": true
         },
         "mode": "lines+markers",
         "name": "Least Squares(False)",
         "type": "scatter",
         "x": [
          100,
          1000,
          10000
         ],
         "y": [
          0.030827762172485236,
          0.003998602715766462,
          0.0009840978374772112
         ]
        }
       ],
       "layout": {
        "template": {
         "data": {
          "bar": [
           {
            "error_x": {
             "color": "#2a3f5f"
            },
            "error_y": {
             "color": "#2a3f5f"
            },
            "marker": {
             "line": {
              "color": "#E5ECF6",
              "width": 0.5
             }
            },
            "type": "bar"
           }
          ],
          "barpolar": [
           {
            "marker": {
             "line": {
              "color": "#E5ECF6",
              "width": 0.5
             }
            },
            "type": "barpolar"
           }
          ],
          "carpet": [
           {
            "aaxis": {
             "endlinecolor": "#2a3f5f",
             "gridcolor": "white",
             "linecolor": "white",
             "minorgridcolor": "white",
             "startlinecolor": "#2a3f5f"
            },
            "baxis": {
             "endlinecolor": "#2a3f5f",
             "gridcolor": "white",
             "linecolor": "white",
             "minorgridcolor": "white",
             "startlinecolor": "#2a3f5f"
            },
            "type": "carpet"
           }
          ],
          "choropleth": [
           {
            "colorbar": {
             "outlinewidth": 0,
             "ticks": ""
            },
            "type": "choropleth"
           }
          ],
          "contour": [
           {
            "colorbar": {
             "outlinewidth": 0,
             "ticks": ""
            },
            "colorscale": [
             [
              0,
              "#0d0887"
             ],
             [
              0.1111111111111111,
              "#46039f"
             ],
             [
              0.2222222222222222,
              "#7201a8"
             ],
             [
              0.3333333333333333,
              "#9c179e"
             ],
             [
              0.4444444444444444,
              "#bd3786"
             ],
             [
              0.5555555555555556,
              "#d8576b"
             ],
             [
              0.6666666666666666,
              "#ed7953"
             ],
             [
              0.7777777777777778,
              "#fb9f3a"
             ],
             [
              0.8888888888888888,
              "#fdca26"
             ],
             [
              1,
              "#f0f921"
             ]
            ],
            "type": "contour"
           }
          ],
          "contourcarpet": [
           {
            "colorbar": {
             "outlinewidth": 0,
             "ticks": ""
            },
            "type": "contourcarpet"
           }
          ],
          "heatmap": [
           {
            "colorbar": {
             "outlinewidth": 0,
             "ticks": ""
            },
            "colorscale": [
             [
              0,
              "#0d0887"
             ],
             [
              0.1111111111111111,
              "#46039f"
             ],
             [
              0.2222222222222222,
              "#7201a8"
             ],
             [
              0.3333333333333333,
              "#9c179e"
             ],
             [
              0.4444444444444444,
              "#bd3786"
             ],
             [
              0.5555555555555556,
              "#d8576b"
             ],
             [
              0.6666666666666666,
              "#ed7953"
             ],
             [
              0.7777777777777778,
              "#fb9f3a"
             ],
             [
              0.8888888888888888,
              "#fdca26"
             ],
             [
              1,
              "#f0f921"
             ]
            ],
            "type": "heatmap"
           }
          ],
          "heatmapgl": [
           {
            "colorbar": {
             "outlinewidth": 0,
             "ticks": ""
            },
            "colorscale": [
             [
              0,
              "#0d0887"
             ],
             [
              0.1111111111111111,
              "#46039f"
             ],
             [
              0.2222222222222222,
              "#7201a8"
             ],
             [
              0.3333333333333333,
              "#9c179e"
             ],
             [
              0.4444444444444444,
              "#bd3786"
             ],
             [
              0.5555555555555556,
              "#d8576b"
             ],
             [
              0.6666666666666666,
              "#ed7953"
             ],
             [
              0.7777777777777778,
              "#fb9f3a"
             ],
             [
              0.8888888888888888,
              "#fdca26"
             ],
             [
              1,
              "#f0f921"
             ]
            ],
            "type": "heatmapgl"
           }
          ],
          "histogram": [
           {
            "marker": {
             "colorbar": {
              "outlinewidth": 0,
              "ticks": ""
             }
            },
            "type": "histogram"
           }
          ],
          "histogram2d": [
           {
            "colorbar": {
             "outlinewidth": 0,
             "ticks": ""
            },
            "colorscale": [
             [
              0,
              "#0d0887"
             ],
             [
              0.1111111111111111,
              "#46039f"
             ],
             [
              0.2222222222222222,
              "#7201a8"
             ],
             [
              0.3333333333333333,
              "#9c179e"
             ],
             [
              0.4444444444444444,
              "#bd3786"
             ],
             [
              0.5555555555555556,
              "#d8576b"
             ],
             [
              0.6666666666666666,
              "#ed7953"
             ],
             [
              0.7777777777777778,
              "#fb9f3a"
             ],
             [
              0.8888888888888888,
              "#fdca26"
             ],
             [
              1,
              "#f0f921"
             ]
            ],
            "type": "histogram2d"
           }
          ],
          "histogram2dcontour": [
           {
            "colorbar": {
             "outlinewidth": 0,
             "ticks": ""
            },
            "colorscale": [
             [
              0,
              "#0d0887"
             ],
             [
              0.1111111111111111,
              "#46039f"
             ],
             [
              0.2222222222222222,
              "#7201a8"
             ],
             [
              0.3333333333333333,
              "#9c179e"
             ],
             [
              0.4444444444444444,
              "#bd3786"
             ],
             [
              0.5555555555555556,
              "#d8576b"
             ],
             [
              0.6666666666666666,
              "#ed7953"
             ],
             [
              0.7777777777777778,
              "#fb9f3a"
             ],
             [
              0.8888888888888888,
              "#fdca26"
             ],
             [
              1,
              "#f0f921"
             ]
            ],
            "type": "histogram2dcontour"
           }
          ],
          "mesh3d": [
           {
            "colorbar": {
             "outlinewidth": 0,
             "ticks": ""
            },
            "type": "mesh3d"
           }
          ],
          "parcoords": [
           {
            "line": {
             "colorbar": {
              "outlinewidth": 0,
              "ticks": ""
             }
            },
            "type": "parcoords"
           }
          ],
          "pie": [
           {
            "automargin": true,
            "type": "pie"
           }
          ],
          "scatter": [
           {
            "marker": {
             "colorbar": {
              "outlinewidth": 0,
              "ticks": ""
             }
            },
            "type": "scatter"
           }
          ],
          "scatter3d": [
           {
            "line": {
             "colorbar": {
              "outlinewidth": 0,
              "ticks": ""
             }
            },
            "marker": {
             "colorbar": {
              "outlinewidth": 0,
              "ticks": ""
             }
            },
            "type": "scatter3d"
           }
          ],
          "scattercarpet": [
           {
            "marker": {
             "colorbar": {
              "outlinewidth": 0,
              "ticks": ""
             }
            },
            "type": "scattercarpet"
           }
          ],
          "scattergeo": [
           {
            "marker": {
             "colorbar": {
              "outlinewidth": 0,
              "ticks": ""
             }
            },
            "type": "scattergeo"
           }
          ],
          "scattergl": [
           {
            "marker": {
             "colorbar": {
              "outlinewidth": 0,
              "ticks": ""
             }
            },
            "type": "scattergl"
           }
          ],
          "scattermapbox": [
           {
            "marker": {
             "colorbar": {
              "outlinewidth": 0,
              "ticks": ""
             }
            },
            "type": "scattermapbox"
           }
          ],
          "scatterpolar": [
           {
            "marker": {
             "colorbar": {
              "outlinewidth": 0,
              "ticks": ""
             }
            },
            "type": "scatterpolar"
           }
          ],
          "scatterpolargl": [
           {
            "marker": {
             "colorbar": {
              "outlinewidth": 0,
              "ticks": ""
             }
            },
            "type": "scatterpolargl"
           }
          ],
          "scatterternary": [
           {
            "marker": {
             "colorbar": {
              "outlinewidth": 0,
              "ticks": ""
             }
            },
            "type": "scatterternary"
           }
          ],
          "surface": [
           {
            "colorbar": {
             "outlinewidth": 0,
             "ticks": ""
            },
            "colorscale": [
             [
              0,
              "#0d0887"
             ],
             [
              0.1111111111111111,
              "#46039f"
             ],
             [
              0.2222222222222222,
              "#7201a8"
             ],
             [
              0.3333333333333333,
              "#9c179e"
             ],
             [
              0.4444444444444444,
              "#bd3786"
             ],
             [
              0.5555555555555556,
              "#d8576b"
             ],
             [
              0.6666666666666666,
              "#ed7953"
             ],
             [
              0.7777777777777778,
              "#fb9f3a"
             ],
             [
              0.8888888888888888,
              "#fdca26"
             ],
             [
              1,
              "#f0f921"
             ]
            ],
            "type": "surface"
           }
          ],
          "table": [
           {
            "cells": {
             "fill": {
              "color": "#EBF0F8"
             },
             "line": {
              "color": "white"
             }
            },
            "header": {
             "fill": {
              "color": "#C8D4E3"
             },
             "line": {
              "color": "white"
             }
            },
            "type": "table"
           }
          ]
         },
         "layout": {
          "annotationdefaults": {
           "arrowcolor": "#2a3f5f",
           "arrowhead": 0,
           "arrowwidth": 1
          },
          "autotypenumbers": "strict",
          "coloraxis": {
           "colorbar": {
            "outlinewidth": 0,
            "ticks": ""
           }
          },
          "colorscale": {
           "diverging": [
            [
             0,
             "#8e0152"
            ],
            [
             0.1,
             "#c51b7d"
            ],
            [
             0.2,
             "#de77ae"
            ],
            [
             0.3,
             "#f1b6da"
            ],
            [
             0.4,
             "#fde0ef"
            ],
            [
             0.5,
             "#f7f7f7"
            ],
            [
             0.6,
             "#e6f5d0"
            ],
            [
             0.7,
             "#b8e186"
            ],
            [
             0.8,
             "#7fbc41"
            ],
            [
             0.9,
             "#4d9221"
            ],
            [
             1,
             "#276419"
            ]
           ],
           "sequential": [
            [
             0,
             "#0d0887"
            ],
            [
             0.1111111111111111,
             "#46039f"
            ],
            [
             0.2222222222222222,
             "#7201a8"
            ],
            [
             0.3333333333333333,
             "#9c179e"
            ],
            [
             0.4444444444444444,
             "#bd3786"
            ],
            [
             0.5555555555555556,
             "#d8576b"
            ],
            [
             0.6666666666666666,
             "#ed7953"
            ],
            [
             0.7777777777777778,
             "#fb9f3a"
            ],
            [
             0.8888888888888888,
             "#fdca26"
            ],
            [
             1,
             "#f0f921"
            ]
           ],
           "sequentialminus": [
            [
             0,
             "#0d0887"
            ],
            [
             0.1111111111111111,
             "#46039f"
            ],
            [
             0.2222222222222222,
             "#7201a8"
            ],
            [
             0.3333333333333333,
             "#9c179e"
            ],
            [
             0.4444444444444444,
             "#bd3786"
            ],
            [
             0.5555555555555556,
             "#d8576b"
            ],
            [
             0.6666666666666666,
             "#ed7953"
            ],
            [
             0.7777777777777778,
             "#fb9f3a"
            ],
            [
             0.8888888888888888,
             "#fdca26"
            ],
            [
             1,
             "#f0f921"
            ]
           ]
          },
          "colorway": [
           "#636efa",
           "#EF553B",
           "#00cc96",
           "#ab63fa",
           "#FFA15A",
           "#19d3f3",
           "#FF6692",
           "#B6E880",
           "#FF97FF",
           "#FECB52"
          ],
          "font": {
           "color": "#2a3f5f"
          },
          "geo": {
           "bgcolor": "white",
           "lakecolor": "white",
           "landcolor": "#E5ECF6",
           "showlakes": true,
           "showland": true,
           "subunitcolor": "white"
          },
          "hoverlabel": {
           "align": "left"
          },
          "hovermode": "closest",
          "mapbox": {
           "style": "light"
          },
          "paper_bgcolor": "white",
          "plot_bgcolor": "#E5ECF6",
          "polar": {
           "angularaxis": {
            "gridcolor": "white",
            "linecolor": "white",
            "ticks": ""
           },
           "bgcolor": "#E5ECF6",
           "radialaxis": {
            "gridcolor": "white",
            "linecolor": "white",
            "ticks": ""
           }
          },
          "scene": {
           "xaxis": {
            "backgroundcolor": "#E5ECF6",
            "gridcolor": "white",
            "gridwidth": 2,
            "linecolor": "white",
            "showbackground": true,
            "ticks": "",
            "zerolinecolor": "white"
           },
           "yaxis": {
            "backgroundcolor": "#E5ECF6",
            "gridcolor": "white",
            "gridwidth": 2,
            "linecolor": "white",
            "showbackground": true,
            "ticks": "",
            "zerolinecolor": "white"
           },
           "zaxis": {
            "backgroundcolor": "#E5ECF6",
            "gridcolor": "white",
            "gridwidth": 2,
            "linecolor": "white",
            "showbackground": true,
            "ticks": "",
            "zerolinecolor": "white"
           }
          },
          "shapedefaults": {
           "line": {
            "color": "#2a3f5f"
           }
          },
          "ternary": {
           "aaxis": {
            "gridcolor": "white",
            "linecolor": "white",
            "ticks": ""
           },
           "baxis": {
            "gridcolor": "white",
            "linecolor": "white",
            "ticks": ""
           },
           "bgcolor": "#E5ECF6",
           "caxis": {
            "gridcolor": "white",
            "linecolor": "white",
            "ticks": ""
           }
          },
          "title": {
           "x": 0.05
          },
          "xaxis": {
           "automargin": true,
           "gridcolor": "white",
           "linecolor": "white",
           "ticks": "",
           "title": {
            "standoff": 15
           },
           "zerolinecolor": "white",
           "zerolinewidth": 2
          },
          "yaxis": {
           "automargin": true,
           "gridcolor": "white",
           "linecolor": "white",
           "ticks": "",
           "title": {
            "standoff": 15
           },
           "zerolinecolor": "white",
           "zerolinewidth": 2
          }
         }
        },
        "title": {
         "text": "Mean squared error"
        },
        "xaxis": {
         "title": {
          "text": "Number of data"
         },
         "type": "log"
        },
        "yaxis": {
         "title": {
          "text": "Mean squared error of estimates and true"
         },
         "type": "log"
        }
       }
      }
     },
     "metadata": {}
    }
   ],
   "source": [
    "fig = data_analysis.make_mses_graph_estimation_results(\n",
    "    estimation_results_list,\n",
    "    case_name_list,\n",
    "    true_object,\n",
    ")\n",
    "fig.show()"
   ]
  },
  {
   "cell_type": "code",
   "execution_count": 10,
   "metadata": {
    "tags": [
     "outputPrepend"
    ]
   },
   "outputs": [
    {
     "output_type": "stream",
     "name": "stderr",
     "text": [
      "y.standard.linear_estimator.LinearEstimationResult object at 0x0000024CCC3FC908>], [<quara.protocol.qtomography.standard.projected_linear_estimator.ProjectedLinearEstimationResult object at 0x0000024CCC3FCB00>, <quara.protocol.qtomography.standard.projected_linear_estimator.ProjectedLinearEstimationResult object at 0x0000024CCC3FCB38>, <quara.protocol.qtomography.standard.projected_linear_estimator.ProjectedLinearEstimationResult object at 0x0000024CCC42FE48>, <quara.protocol.qtomography.standard.projected_linear_estimator.ProjectedLinearEstimationResult object at 0x0000024CCC42F518>, <quara.protocol.qtomography.standard.projected_linear_estimator.ProjectedLinearEstimationResult object at 0x0000024CCC42FA58>, <quara.protocol.qtomography.standard.projected_linear_estimator.ProjectedLinearEstimationResult object at 0x0000024CCC42F3C8>, <quara.protocol.qtomography.standard.projected_linear_estimator.ProjectedLinearEstimationResult object at 0x0000024CCC42F390>, <quara.protocol.qtomography.standard.projected_linear_estimator.ProjectedLinearEstimationResult object at 0x0000024CCC42FA90>, <quara.protocol.qtomography.standard.projected_linear_estimator.ProjectedLinearEstimationResult object at 0x0000024CCC42F4E0>, <quara.protocol.qtomography.standard.projected_linear_estimator.ProjectedLinearEstimationResult object at 0x0000024CCC42FFD0>], [<quara.protocol.qtomography.standard.projected_linear_estimator.ProjectedLinearEstimationResult object at 0x0000024CCC42FEB8>, <quara.protocol.qtomography.standard.projected_linear_estimator.ProjectedLinearEstimationResult object at 0x0000024CCC3FC978>, <quara.protocol.qtomography.standard.projected_linear_estimator.ProjectedLinearEstimationResult object at 0x0000024CCC3FCDD8>, <quara.protocol.qtomography.standard.projected_linear_estimator.ProjectedLinearEstimationResult object at 0x0000024CCC3FCDA0>, <quara.protocol.qtomography.standard.projected_linear_estimator.ProjectedLinearEstimationResult object at 0x0000024CCC3FCE80>, <quara.protocol.qtomography.standard.projected_linear_estimator.ProjectedLinearEstimationResult object at 0x0000024CCC3FCCF8>, <quara.protocol.qtomography.standard.projected_linear_estimator.ProjectedLinearEstimationResult object at 0x0000024CCC3FCF98>, <quara.protocol.qtomography.standard.projected_linear_estimator.ProjectedLinearEstimationResult object at 0x0000024CCC3EE048>, <quara.protocol.qtomography.standard.projected_linear_estimator.ProjectedLinearEstimationResult object at 0x0000024CCC3FCA20>, <quara.protocol.qtomography.standard.projected_linear_estimator.ProjectedLinearEstimationResult object at 0x0000024CCC3FCC50>], [<quara.protocol.qtomography.standard.loss_minimization_estimator.LossMinimizationEstimationResult object at 0x0000024CCC3FCBA8>, <quara.protocol.qtomography.standard.loss_minimization_estimator.LossMinimizationEstimationResult object at 0x0000024CCC3FC358>, <quara.protocol.qtomography.standard.loss_minimization_estimator.LossMinimizationEstimationResult object at 0x0000024CCC3FCFD0>, <quara.protocol.qtomography.standard.loss_minimization_estimator.LossMinimizationEstimationResult object at 0x0000024CCC3FCC88>, <quara.protocol.qtomography.standard.loss_minimization_estimator.LossMinimizationEstimationResult object at 0x0000024CCC42F2E8>, <quara.protocol.qtomography.standard.loss_minimization_estimator.LossMinimizationEstimationResult object at 0x0000024CCC3FCA58>, <quara.protocol.qtomography.standard.loss_minimization_estimator.LossMinimizationEstimationResult object at 0x0000024CCC42FF60>, <quara.protocol.qtomography.standard.loss_minimization_estimator.LossMinimizationEstimationResult object at 0x0000024CCC42F438>, <quara.protocol.qtomography.standard.loss_minimization_estimator.LossMinimizationEstimationResult object at 0x0000024CCC42F048>, <quara.protocol.qtomography.standard.loss_minimization_estimator.LossMinimizationEstimationResult object at 0x0000024CCC42FF28>], [<quara.protocol.qtomography.standard.loss_minimization_estimator.LossMinimizationEstimationResult object at 0x0000024CCC42F978>, <quara.protocol.qtomography.standard.loss_minimization_estimator.LossMinimizationEstimationResult object at 0x0000024CCC42FE10>, <quara.protocol.qtomography.standard.loss_minimization_estimator.LossMinimizationEstimationResult object at 0x0000024CCC42FBA8>, <quara.protocol.qtomography.standard.loss_minimization_estimator.LossMinimizationEstimationResult object at 0x0000024CCC42FD30>, <quara.protocol.qtomography.standard.loss_minimization_estimator.LossMinimizationEstimationResult object at 0x0000024CCC42F400>, <quara.protocol.qtomography.standard.loss_minimization_estimator.LossMinimizationEstimationResult object at 0x0000024CCC42F588>, <quara.protocol.qtomography.standard.loss_minimization_estimator.LossMinimizationEstimationResult object at 0x0000024CCC42F470>, <quara.protocol.qtomography.standard.loss_minimization_estimator.LossMinimizationEstimationResult object at 0x0000024CCC42F7F0>, <quara.protocol.qtomography.standard.loss_minimization_estimator.LossMinimizationEstimationResult object at 0x0000024CCC42F550>, <quara.protocol.qtomography.standard.loss_minimization_estimator.LossMinimizationEstimationResult object at 0x0000024CCC42FDA0>], [<quara.protocol.qtomography.standard.loss_minimization_estimator.LossMinimizationEstimationResult object at 0x0000024CCC42F940>, <quara.protocol.qtomography.standard.loss_minimization_estimator.LossMinimizationEstimationResult object at 0x0000024CCE47E2E8>, <quara.protocol.qtomography.standard.loss_minimization_estimator.LossMinimizationEstimationResult object at 0x0000024CCE47E588>, <quara.protocol.qtomography.standard.loss_minimization_estimator.LossMinimizationEstimationResult object at 0x0000024CCC42FCF8>, <quara.protocol.qtomography.standard.loss_minimization_estimator.LossMinimizationEstimationResult object at 0x0000024CCE47E4E0>, <quara.protocol.qtomography.standard.loss_minimization_estimator.LossMinimizationEstimationResult object at 0x0000024CCE47E470>, <quara.protocol.qtomography.standard.loss_minimization_estimator.LossMinimizationEstimationResult object at 0x0000024CCE47E630>, <quara.protocol.qtomography.standard.loss_minimization_estimator.LossMinimizationEstimationResult object at 0x0000024CCE47E550>, <quara.protocol.qtomography.standard.loss_minimization_estimator.LossMinimizationEstimationResult object at 0x0000024CCE47E128>, <quara.protocol.qtomography.standard.loss_minimization_estimator.LossMinimizationEstimationResult object at 0x0000024CCE47E518>], [<quara.protocol.qtomography.standard.loss_minimization_estimator.LossMinimizationEstimationResult object at 0x0000024CCE47E780>, <quara.protocol.qtomography.standard.loss_minimization_estimator.LossMinimizationEstimationResult object at 0x0000024CCE47EA90>, <quara.protocol.qtomography.standard.loss_minimization_estimator.LossMinimizationEstimationResult object at 0x0000024CCE47EBE0>, <quara.protocol.qtomography.standard.loss_minimization_estimator.LossMinimizationEstimationResult object at 0x0000024CCE47ECC0>, <quara.protocol.qtomography.standard.loss_minimization_estimator.LossMinimizationEstimationResult object at 0x0000024CCE47E828>, <quara.protocol.qtomography.standard.loss_minimization_estimator.LossMinimizationEstimationResult object at 0x0000024CCE47EA58>, <quara.protocol.qtomography.standard.loss_minimization_estimator.LossMinimizationEstimationResult object at 0x0000024CCE47ED30>, <quara.protocol.qtomography.standard.loss_minimization_estimator.LossMinimizationEstimationResult object at 0x0000024CCE47ECF8>, <quara.protocol.qtomography.standard.loss_minimization_estimator.LossMinimizationEstimationResult object at 0x0000024CCE47EAC8>, <quara.protocol.qtomography.standard.loss_minimization_estimator.LossMinimizationEstimationResult object at 0x0000024CCE47EDA0>]], 'case_names': ['LinearEstimator(True)', 'LinearEstimator(False)', 'ProjectedLinearEstimator(True)', 'ProjectedLinearEstimator(False)', 'Maximum-Likelihood(True)', 'Maximum-Likelihood(False)', 'Least Squares(True)', 'Least Squares(False)'], 'true_object': <quara.objects.gate.Gate object at 0x0000024CC12EFDD8>}\n",
      "​​Generating physicality violation test blocks ...\n",
      "1\n",
      "=====================\n",
      "{'estimation_results': [<quara.protocol.qtomography.standard.linear_estimator.LinearEstimationResult object at 0x0000024CCC3EEFD0>, <quara.protocol.qtomography.standard.linear_estimator.LinearEstimationResult object at 0x0000024CCC3FC208>, <quara.protocol.qtomography.standard.linear_estimator.LinearEstimationResult object at 0x0000024CCC3FC0B8>, <quara.protocol.qtomography.standard.linear_estimator.LinearEstimationResult object at 0x0000024CCC3FC320>, <quara.protocol.qtomography.standard.linear_estimator.LinearEstimationResult object at 0x0000024CCC3FC278>, <quara.protocol.qtomography.standard.linear_estimator.LinearEstimationResult object at 0x0000024CCC3FC390>, <quara.protocol.qtomography.standard.linear_estimator.LinearEstimationResult object at 0x0000024CCC3FC2B0>, <quara.protocol.qtomography.standard.linear_estimator.LinearEstimationResult object at 0x0000024CCC3FC198>, <quara.protocol.qtomography.standard.linear_estimator.LinearEstimationResult object at 0x0000024CCC3FC438>, <quara.protocol.qtomography.standard.linear_estimator.LinearEstimationResult object at 0x0000024CCC3FC470>], 'case_id': 0, 'fig_type': 'physicality-violation-eq-trace-sum-error', 'size': (500, 400), 'make_graphs_func': <function make_graphs_trace_error_sum at 0x0000024CCBA68510>, 'col_n': 3}\n",
      "2\n",
      "1\n",
      "=====================\n",
      "{'estimation_results': [<quara.protocol.qtomography.standard.linear_estimator.LinearEstimationResult object at 0x0000024CCC3FC588>, <quara.protocol.qtomography.standard.linear_estimator.LinearEstimationResult object at 0x0000024CCC3FC710>, <quara.protocol.qtomography.standard.linear_estimator.LinearEstimationResult object at 0x0000024CCC3FC630>, <quara.protocol.qtomography.standard.linear_estimator.LinearEstimationResult object at 0x0000024CCC3FC780>, <quara.protocol.qtomography.standard.linear_estimator.LinearEstimationResult object at 0x0000024CCC3FC7F0>, <quara.protocol.qtomography.standard.linear_estimator.LinearEstimationResult object at 0x0000024CCC3FC828>, <quara.protocol.qtomography.standard.linear_estimator.LinearEstimationResult object at 0x0000024CCC3FC860>, <quara.protocol.qtomography.standard.linear_estimator.LinearEstimationResult object at 0x0000024CCC3FC898>, <quara.protocol.qtomography.standard.linear_estimator.LinearEstimationResult object at 0x0000024CCC3FC8D0>, <quara.protocol.qtomography.standard.linear_estimator.LinearEstimationResult object at 0x0000024CCC3FC908>], 'case_id': 1, 'fig_type': 'physicality-violation-eq-trace-sum-error', 'size': (500, 400), 'make_graphs_func': <function make_graphs_trace_error_sum at 0x0000024CCBA68510>, 'col_n': 3}\n",
      "2\n",
      "1\n",
      "=====================\n",
      "{'estimation_results': [<quara.protocol.qtomography.standard.projected_linear_estimator.ProjectedLinearEstimationResult object at 0x0000024CCC3FCB00>, <quara.protocol.qtomography.standard.projected_linear_estimator.ProjectedLinearEstimationResult object at 0x0000024CCC3FCB38>, <quara.protocol.qtomography.standard.projected_linear_estimator.ProjectedLinearEstimationResult object at 0x0000024CCC42FE48>, <quara.protocol.qtomography.standard.projected_linear_estimator.ProjectedLinearEstimationResult object at 0x0000024CCC42F518>, <quara.protocol.qtomography.standard.projected_linear_estimator.ProjectedLinearEstimationResult object at 0x0000024CCC42FA58>, <quara.protocol.qtomography.standard.projected_linear_estimator.ProjectedLinearEstimationResult object at 0x0000024CCC42F3C8>, <quara.protocol.qtomography.standard.projected_linear_estimator.ProjectedLinearEstimationResult object at 0x0000024CCC42F390>, <quara.protocol.qtomography.standard.projected_linear_estimator.ProjectedLinearEstimationResult object at 0x0000024CCC42FA90>, <quara.protocol.qtomography.standard.projected_linear_estimator.ProjectedLinearEstimationResult object at 0x0000024CCC42F4E0>, <quara.protocol.qtomography.standard.projected_linear_estimator.ProjectedLinearEstimationResult object at 0x0000024CCC42FFD0>], 'case_id': 2, 'fig_type': 'physicality-violation-eq-trace-sum-error', 'size': (500, 400), 'make_graphs_func': <function make_graphs_trace_error_sum at 0x0000024CCBA68510>, 'col_n': 3}\n",
      "2\n",
      "1\n",
      "=====================\n",
      "{'estimation_results': [<quara.protocol.qtomography.standard.projected_linear_estimator.ProjectedLinearEstimationResult object at 0x0000024CCC42FEB8>, <quara.protocol.qtomography.standard.projected_linear_estimator.ProjectedLinearEstimationResult object at 0x0000024CCC3FC978>, <quara.protocol.qtomography.standard.projected_linear_estimator.ProjectedLinearEstimationResult object at 0x0000024CCC3FCDD8>, <quara.protocol.qtomography.standard.projected_linear_estimator.ProjectedLinearEstimationResult object at 0x0000024CCC3FCDA0>, <quara.protocol.qtomography.standard.projected_linear_estimator.ProjectedLinearEstimationResult object at 0x0000024CCC3FCE80>, <quara.protocol.qtomography.standard.projected_linear_estimator.ProjectedLinearEstimationResult object at 0x0000024CCC3FCCF8>, <quara.protocol.qtomography.standard.projected_linear_estimator.ProjectedLinearEstimationResult object at 0x0000024CCC3FCF98>, <quara.protocol.qtomography.standard.projected_linear_estimator.ProjectedLinearEstimationResult object at 0x0000024CCC3EE048>, <quara.protocol.qtomography.standard.projected_linear_estimator.ProjectedLinearEstimationResult object at 0x0000024CCC3FCA20>, <quara.protocol.qtomography.standard.projected_linear_estimator.ProjectedLinearEstimationResult object at 0x0000024CCC3FCC50>], 'case_id': 3, 'fig_type': 'physicality-violation-eq-trace-sum-error', 'size': (500, 400), 'make_graphs_func': <function make_graphs_trace_error_sum at 0x0000024CCBA68510>, 'col_n': 3}\n",
      "2\n",
      "1\n",
      "=====================\n",
      "{'estimation_results': [<quara.protocol.qtomography.standard.loss_minimization_estimator.LossMinimizationEstimationResult object at 0x0000024CCC3FCBA8>, <quara.protocol.qtomography.standard.loss_minimization_estimator.LossMinimizationEstimationResult object at 0x0000024CCC3FC358>, <quara.protocol.qtomography.standard.loss_minimization_estimator.LossMinimizationEstimationResult object at 0x0000024CCC3FCFD0>, <quara.protocol.qtomography.standard.loss_minimization_estimator.LossMinimizationEstimationResult object at 0x0000024CCC3FCC88>, <quara.protocol.qtomography.standard.loss_minimization_estimator.LossMinimizationEstimationResult object at 0x0000024CCC42F2E8>, <quara.protocol.qtomography.standard.loss_minimization_estimator.LossMinimizationEstimationResult object at 0x0000024CCC3FCA58>, <quara.protocol.qtomography.standard.loss_minimization_estimator.LossMinimizationEstimationResult object at 0x0000024CCC42FF60>, <quara.protocol.qtomography.standard.loss_minimization_estimator.LossMinimizationEstimationResult object at 0x0000024CCC42F438>, <quara.protocol.qtomography.standard.loss_minimization_estimator.LossMinimizationEstimationResult object at 0x0000024CCC42F048>, <quara.protocol.qtomography.standard.loss_minimization_estimator.LossMinimizationEstimationResult object at 0x0000024CCC42FF28>], 'case_id': 4, 'fig_type': 'physicality-violation-eq-trace-sum-error', 'size': (500, 400), 'make_graphs_func': <function make_graphs_trace_error_sum at 0x0000024CCBA68510>, 'col_n': 3}\n",
      "2\n",
      "1\n",
      "=====================\n",
      "{'estimation_results': [<quara.protocol.qtomography.standard.loss_minimization_estimator.LossMinimizationEstimationResult object at 0x0000024CCC42F978>, <quara.protocol.qtomography.standard.loss_minimization_estimator.LossMinimizationEstimationResult object at 0x0000024CCC42FE10>, <quara.protocol.qtomography.standard.loss_minimization_estimator.LossMinimizationEstimationResult object at 0x0000024CCC42FBA8>, <quara.protocol.qtomography.standard.loss_minimization_estimator.LossMinimizationEstimationResult object at 0x0000024CCC42FD30>, <quara.protocol.qtomography.standard.loss_minimization_estimator.LossMinimizationEstimationResult object at 0x0000024CCC42F400>, <quara.protocol.qtomography.standard.loss_minimization_estimator.LossMinimizationEstimationResult object at 0x0000024CCC42F588>, <quara.protocol.qtomography.standard.loss_minimization_estimator.LossMinimizationEstimationResult object at 0x0000024CCC42F470>, <quara.protocol.qtomography.standard.loss_minimization_estimator.LossMinimizationEstimationResult object at 0x0000024CCC42F7F0>, <quara.protocol.qtomography.standard.loss_minimization_estimator.LossMinimizationEstimationResult object at 0x0000024CCC42F550>, <quara.protocol.qtomography.standard.loss_minimization_estimator.LossMinimizationEstimationResult object at 0x0000024CCC42FDA0>], 'case_id': 5, 'fig_type': 'physicality-violation-eq-trace-sum-error', 'size': (500, 400), 'make_graphs_func': <function make_graphs_trace_error_sum at 0x0000024CCBA68510>, 'col_n': 3}\n",
      "2\n",
      "1\n",
      "=====================\n",
      "{'estimation_results': [<quara.protocol.qtomography.standard.loss_minimization_estimator.LossMinimizationEstimationResult object at 0x0000024CCC42F940>, <quara.protocol.qtomography.standard.loss_minimization_estimator.LossMinimizationEstimationResult object at 0x0000024CCE47E2E8>, <quara.protocol.qtomography.standard.loss_minimization_estimator.LossMinimizationEstimationResult object at 0x0000024CCE47E588>, <quara.protocol.qtomography.standard.loss_minimization_estimator.LossMinimizationEstimationResult object at 0x0000024CCC42FCF8>, <quara.protocol.qtomography.standard.loss_minimization_estimator.LossMinimizationEstimationResult object at 0x0000024CCE47E4E0>, <quara.protocol.qtomography.standard.loss_minimization_estimator.LossMinimizationEstimationResult object at 0x0000024CCE47E470>, <quara.protocol.qtomography.standard.loss_minimization_estimator.LossMinimizationEstimationResult object at 0x0000024CCE47E630>, <quara.protocol.qtomography.standard.loss_minimization_estimator.LossMinimizationEstimationResult object at 0x0000024CCE47E550>, <quara.protocol.qtomography.standard.loss_minimization_estimator.LossMinimizationEstimationResult object at 0x0000024CCE47E128>, <quara.protocol.qtomography.standard.loss_minimization_estimator.LossMinimizationEstimationResult object at 0x0000024CCE47E518>], 'case_id': 6, 'fig_type': 'physicality-violation-eq-trace-sum-error', 'size': (500, 400), 'make_graphs_func': <function make_graphs_trace_error_sum at 0x0000024CCBA68510>, 'col_n': 3}\n",
      "2\n",
      "1\n",
      "=====================\n",
      "{'estimation_results': [<quara.protocol.qtomography.standard.loss_minimization_estimator.LossMinimizationEstimationResult object at 0x0000024CCE47E780>, <quara.protocol.qtomography.standard.loss_minimization_estimator.LossMinimizationEstimationResult object at 0x0000024CCE47EA90>, <quara.protocol.qtomography.standard.loss_minimization_estimator.LossMinimizationEstimationResult object at 0x0000024CCE47EBE0>, <quara.protocol.qtomography.standard.loss_minimization_estimator.LossMinimizationEstimationResult object at 0x0000024CCE47ECC0>, <quara.protocol.qtomography.standard.loss_minimization_estimator.LossMinimizationEstimationResult object at 0x0000024CCE47E828>, <quara.protocol.qtomography.standard.loss_minimization_estimator.LossMinimizationEstimationResult object at 0x0000024CCE47EA58>, <quara.protocol.qtomography.standard.loss_minimization_estimator.LossMinimizationEstimationResult object at 0x0000024CCE47ED30>, <quara.protocol.qtomography.standard.loss_minimization_estimator.LossMinimizationEstimationResult object at 0x0000024CCE47ECF8>, <quara.protocol.qtomography.standard.loss_minimization_estimator.LossMinimizationEstimationResult object at 0x0000024CCE47EAC8>, <quara.protocol.qtomography.standard.loss_minimization_estimator.LossMinimizationEstimationResult object at 0x0000024CCE47EDA0>], 'case_id': 7, 'fig_type': 'physicality-violation-eq-trace-sum-error', 'size': (500, 400), 'make_graphs_func': <function make_graphs_trace_error_sum at 0x0000024CCBA68510>, 'col_n': 3}\n",
      "2\n",
      "Converting to PDF report ...\n",
      "​Deleting temporary files ...\n",
      "Completed to export pdf. (qpt_nrep=10.pdf)\n"
     ]
    }
   ],
   "source": [
    "report.export_report(\n",
    "    \"qpt_nrep=10.pdf\",\n",
    "    estimation_results_list=estimation_results_list,\n",
    "    simulation_settings=simulation_settings,\n",
    "    true_object=true_object,\n",
    "    tester_objects=tester_states+tester_povms,\n",
    "    seed=seed,\n",
    "    computation_time=sum(elapsed_times)\n",
    ")"
   ]
  },
  {
   "cell_type": "code",
   "execution_count": null,
   "metadata": {},
   "outputs": [],
   "source": []
  }
 ],
 "metadata": {
  "hide_input": false,
  "kernelspec": {
   "display_name": "Python 3",
   "language": "python",
   "name": "python3"
  },
  "toc": {
   "base_numbering": 1,
   "nav_menu": {},
   "number_sections": true,
   "sideBar": true,
   "skip_h1_title": false,
   "title_cell": "Table of Contents",
   "title_sidebar": "Contents",
   "toc_cell": false,
   "toc_position": {},
   "toc_section_display": true,
   "toc_window_display": false
  },
  "varInspector": {
   "cols": {
    "lenName": 16,
    "lenType": 16,
    "lenVar": 40
   },
   "kernels_config": {
    "python": {
     "delete_cmd_postfix": "",
     "delete_cmd_prefix": "del ",
     "library": "var_list.py",
     "varRefreshCmd": "print(var_dic_list())"
    },
    "r": {
     "delete_cmd_postfix": ") ",
     "delete_cmd_prefix": "rm(",
     "library": "var_list.r",
     "varRefreshCmd": "cat(var_dic_list()) "
    }
   },
   "types_to_exclude": [
    "module",
    "function",
    "builtin_function_or_method",
    "instance",
    "_Feature"
   ],
   "window_display": false
  }
 },
 "nbformat": 4,
 "nbformat_minor": 4
}