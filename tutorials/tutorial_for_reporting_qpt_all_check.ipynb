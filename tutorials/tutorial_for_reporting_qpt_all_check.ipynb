{
 "cells": [
  {
   "cell_type": "code",
   "execution_count": 1,
   "metadata": {},
   "outputs": [],
   "source": [
    "# Qpt"
   ]
  },
  {
   "cell_type": "code",
   "execution_count": 1,
   "metadata": {},
   "outputs": [
    {
     "data": {
      "text/plain": [
       "1e-13"
      ]
     },
     "execution_count": 1,
     "metadata": {},
     "output_type": "execute_result"
    }
   ],
   "source": [
    "import pickle\n",
    "import time\n",
    "from typing import List\n",
    "import datetime as dt\n",
    "from pathlib import Path\n",
    "\n",
    "import numpy as np\n",
    "import pandas as pd\n",
    "import plotly.graph_objects as go\n",
    "import plotly.express as px\n",
    "\n",
    "from tqdm import tqdm\n",
    "\n",
    "import numpy.testing as npt\n",
    "\n",
    "from quara.data_analysis import data_analysis, physicality_violation_check, report\n",
    "from quara.data_analysis.projected_gradient_descent_backtracking import ProjectedGradientDescentBacktracking, ProjectedGradientDescentBacktrackingOption\n",
    "from quara.data_analysis.weighted_probability_based_squared_error import WeightedProbabilityBasedSquaredError, WeightedProbabilityBasedSquaredErrorOption\n",
    "from quara.data_analysis.weighted_relative_entropy import WeightedRelativeEntropy, WeightedRelativeEntropyOption\n",
    "from quara.objects.composite_system import CompositeSystem\n",
    "from quara.objects.elemental_system import ElementalSystem\n",
    "from quara.objects.matrix_basis import get_normalized_pauli_basis\n",
    "from quara.objects.state import (\n",
    "    State,\n",
    "    get_x0_1q,\n",
    "    get_x1_1q,\n",
    "    get_y0_1q,\n",
    "    get_y1_1q,\n",
    "    get_z0_1q,\n",
    "    get_z1_1q,\n",
    ")\n",
    "from quara.objects.povm import (\n",
    "    Povm,get_x_povm,\n",
    "    get_y_povm,\n",
    "    get_z_povm\n",
    ")\n",
    "from quara.objects.gate import (\n",
    "    Gate, get_depolarizing_channel,\n",
    "    get_x_rotation,\n",
    "    get_amplitutde_damping_channel\n",
    ")\n",
    "from quara.objects.qoperation import QOperation\n",
    "from quara.protocol.qtomography.standard.standard_qpt import StandardQpt\n",
    "from quara.protocol.qtomography.standard.linear_estimator import LinearEstimator\n",
    "from quara.protocol.qtomography.standard.loss_minimization_estimator import LossMinimizationEstimator\n",
    "from quara.protocol.qtomography.standard.projected_linear_estimator import (\n",
    "    ProjectedLinearEstimator,\n",
    ")\n",
    "\n",
    "from quara.data_analysis.simulation import StandardQTomographySimulationSetting\n",
    "\n",
    "from quara.settings import Settings\n",
    "Settings.get_atol()"
   ]
  },
  {
   "cell_type": "code",
   "execution_count": 2,
   "metadata": {},
   "outputs": [],
   "source": [
    "%load_ext autoreload\n",
    "%autoreload 2"
   ]
  },
  {
   "cell_type": "code",
   "execution_count": 3,
   "metadata": {},
   "outputs": [],
   "source": [
    "# setup system\n",
    "e_sys = ElementalSystem(0, get_normalized_pauli_basis())\n",
    "c_sys = CompositeSystem([e_sys])\n",
    "\n",
    "# Tester Objects (State)\n",
    "# |+><+|\n",
    "state_x0 = get_x0_1q(c_sys)\n",
    "# |+i><+i|\n",
    "state_y0 = get_y0_1q(c_sys)\n",
    "# |0><0|\n",
    "state_z0 = get_z0_1q(c_sys)\n",
    "# |1><1|\n",
    "state_z1 = get_z1_1q(c_sys)\n",
    "tester_states = [state_x0, state_y0, state_z0, state_z1]"
   ]
  },
  {
   "cell_type": "code",
   "execution_count": 4,
   "metadata": {},
   "outputs": [],
   "source": [
    "tester_povms = [get_x_povm(c_sys), get_y_povm(c_sys), get_z_povm(c_sys)]"
   ]
  },
  {
   "cell_type": "code",
   "execution_count": 5,
   "metadata": {},
   "outputs": [],
   "source": [
    "# True Object\n",
    "true_objects = []\n",
    "#true_objects.append(get_depolarizing_channel(p=0, c_sys=c_sys))\n",
    "true_objects.append(get_depolarizing_channel(p=0.05, c_sys=c_sys))\n",
    "#true_objects.append(get_depolarizing_channel(p=1, c_sys=c_sys))\n",
    "#true_objects.append(get_x_rotation(theta=np.pi/2, c_sys=c_sys))\n",
    "#true_objects.append(get_x_rotation(theta=np.pi, c_sys=c_sys))\n",
    "#true_objects.append(get_amplitutde_damping_channel(gamma=0.1, c_sys=c_sys))\n",
    "\n",
    "true_object = true_objects[0]"
   ]
  },
  {
   "cell_type": "code",
   "execution_count": 32,
   "metadata": {},
   "outputs": [
    {
     "name": "stderr",
     "output_type": "stream",
     "text": [
      " 10%|█         | 1/10 [00:00<00:01,  8.50it/s]"
     ]
    },
    {
     "name": "stdout",
     "output_type": "stream",
     "text": [
      "Case 0: LinearEstimator(True)\n",
      "Parametorization: True\n",
      "Type of qtomography: StandardQpt\n",
      "Estimator: LinearEstimator\n"
     ]
    },
    {
     "name": "stderr",
     "output_type": "stream",
     "text": [
      "100%|██████████| 10/10 [00:00<00:00, 13.19it/s]\n",
      " 20%|██        | 2/10 [00:00<00:00, 14.34it/s]"
     ]
    },
    {
     "name": "stdout",
     "output_type": "stream",
     "text": [
      "elapsed_time:0.012786213556925457[min]\n",
      "\n",
      "Case 1: LinearEstimator(False)\n",
      "Parametorization: False\n",
      "Type of qtomography: StandardQpt\n",
      "Estimator: LinearEstimator\n"
     ]
    },
    {
     "name": "stderr",
     "output_type": "stream",
     "text": [
      "100%|██████████| 10/10 [00:00<00:00, 14.09it/s]\n",
      " 10%|█         | 1/10 [00:00<00:01,  6.08it/s]"
     ]
    },
    {
     "name": "stdout",
     "output_type": "stream",
     "text": [
      "elapsed_time:0.011913569768269856[min]\n",
      "\n",
      "Case 2: ProjectedLinearEstimator(True)\n",
      "Parametorization: True\n",
      "Type of qtomography: StandardQpt\n",
      "Estimator: ProjectedLinearEstimator\n"
     ]
    },
    {
     "name": "stderr",
     "output_type": "stream",
     "text": [
      "100%|██████████| 10/10 [00:01<00:00,  5.19it/s]\n",
      " 10%|█         | 1/10 [00:00<00:01,  6.07it/s]"
     ]
    },
    {
     "name": "stdout",
     "output_type": "stream",
     "text": [
      "elapsed_time:0.03221369981765747[min]\n",
      "\n",
      "Case 3: ProjectedLinearEstimator(False)\n",
      "Parametorization: False\n",
      "Type of qtomography: StandardQpt\n",
      "Estimator: ProjectedLinearEstimator\n"
     ]
    },
    {
     "name": "stderr",
     "output_type": "stream",
     "text": [
      "100%|██████████| 10/10 [00:01<00:00,  5.00it/s]\n",
      "  0%|          | 0/10 [00:00<?, ?it/s]"
     ]
    },
    {
     "name": "stdout",
     "output_type": "stream",
     "text": [
      "elapsed_time:0.033424750963846846[min]\n",
      "\n",
      "Case 4: Maximum-Likelihood(True)\n",
      "Parametorization: True\n",
      "Type of qtomography: StandardQpt\n",
      "Estimator: LossMinimizationEstimator\n"
     ]
    },
    {
     "name": "stderr",
     "output_type": "stream",
     "text": [
      "100%|██████████| 10/10 [08:27<00:00, 50.73s/it]\n",
      "  0%|          | 0/10 [00:00<?, ?it/s]"
     ]
    },
    {
     "name": "stdout",
     "output_type": "stream",
     "text": [
      "elapsed_time:8.454473547140758[min]\n",
      "\n",
      "Case 5: Maximum-Likelihood(False)\n",
      "Parametorization: False\n",
      "Type of qtomography: StandardQpt\n",
      "Estimator: LossMinimizationEstimator\n"
     ]
    },
    {
     "name": "stderr",
     "output_type": "stream",
     "text": [
      "100%|██████████| 10/10 [09:06<00:00, 54.62s/it]\n",
      "  0%|          | 0/10 [00:00<?, ?it/s]"
     ]
    },
    {
     "name": "stdout",
     "output_type": "stream",
     "text": [
      "elapsed_time:9.102739016215006[min]\n",
      "\n",
      "Case 6: Least Squares(True)\n",
      "Parametorization: True\n",
      "Type of qtomography: StandardQpt\n",
      "Estimator: LossMinimizationEstimator\n"
     ]
    },
    {
     "name": "stderr",
     "output_type": "stream",
     "text": [
      "100%|██████████| 10/10 [01:04<00:00,  6.47s/it]\n",
      "  0%|          | 0/10 [00:00<?, ?it/s]"
     ]
    },
    {
     "name": "stdout",
     "output_type": "stream",
     "text": [
      "elapsed_time:1.078106955687205[min]\n",
      "\n",
      "Case 7: Least Squares(False)\n",
      "Parametorization: False\n",
      "Type of qtomography: StandardQpt\n",
      "Estimator: LossMinimizationEstimator\n"
     ]
    },
    {
     "name": "stderr",
     "output_type": "stream",
     "text": [
      "100%|██████████| 10/10 [01:47<00:00, 10.77s/it]"
     ]
    },
    {
     "name": "stdout",
     "output_type": "stream",
     "text": [
      "elapsed_time:1.795636252562205[min]\n",
      "\n"
     ]
    },
    {
     "name": "stderr",
     "output_type": "stream",
     "text": [
      "\n"
     ]
    }
   ],
   "source": [
    "num_data = [100, 1000]\n",
    "n_rep = 10\n",
    "\n",
    "case_name_list = [\n",
    "    \"LinearEstimator(True)\",\n",
    "    \"LinearEstimator(False)\",\n",
    "    \"ProjectedLinearEstimator(True)\",\n",
    "    \"ProjectedLinearEstimator(False)\",\n",
    "    \"Maximum-Likelihood(True)\",\n",
    "    \"Maximum-Likelihood(False)\",\n",
    "    \"Least Squares(True)\",\n",
    "    \"Least Squares(False)\",\n",
    "]\n",
    "\n",
    "seed = 777\n",
    "qtomography_list = [\n",
    "    StandardQpt(tester_states, tester_povms, on_para_eq_constraint=True, seed=seed),\n",
    "    StandardQpt(tester_states, tester_povms, on_para_eq_constraint=False, seed=seed),\n",
    "    StandardQpt(tester_states, tester_povms, on_para_eq_constraint=True, seed=seed),\n",
    "    StandardQpt(tester_states, tester_povms, on_para_eq_constraint=False, seed=seed),\n",
    "    StandardQpt(\n",
    "        tester_states,\n",
    "        tester_povms,\n",
    "        on_para_eq_constraint=True,\n",
    "        eps_proj_physical=1e-13,\n",
    "        seed=seed,\n",
    "    ),\n",
    "    StandardQpt(\n",
    "        tester_states,\n",
    "        tester_povms,\n",
    "        on_para_eq_constraint=False,\n",
    "        eps_proj_physical=1e-13,\n",
    "        seed=seed,\n",
    "    ),\n",
    "    StandardQpt(\n",
    "        tester_states,\n",
    "        tester_povms,\n",
    "        on_para_eq_constraint=True,\n",
    "        eps_proj_physical=1e-13,\n",
    "        seed=seed,\n",
    "    ),\n",
    "    StandardQpt(\n",
    "        tester_states,\n",
    "        tester_povms,\n",
    "        on_para_eq_constraint=False,\n",
    "        eps_proj_physical=1e-13,\n",
    "        seed=seed,\n",
    "    ),\n",
    "]\n",
    "\n",
    "para_list = [\n",
    "    True,\n",
    "    False,\n",
    "    True,\n",
    "    False,\n",
    "    True,\n",
    "    False,\n",
    "    True,\n",
    "    False,\n",
    "]\n",
    "\n",
    "order = \"eq_ineq\"\n",
    "\n",
    "estimator_list = [\n",
    "    LinearEstimator(),\n",
    "    LinearEstimator(),\n",
    "    ProjectedLinearEstimator(mode_proj_order=order),\n",
    "    ProjectedLinearEstimator(mode_proj_order=order),\n",
    "    LossMinimizationEstimator(),\n",
    "    LossMinimizationEstimator(),\n",
    "    LossMinimizationEstimator(),\n",
    "    LossMinimizationEstimator(),\n",
    "]\n",
    "\n",
    "loss_list = [\n",
    "    None,\n",
    "    None,\n",
    "    None,\n",
    "    None,\n",
    "    WeightedRelativeEntropy(12),\n",
    "    WeightedRelativeEntropy(16),\n",
    "    WeightedProbabilityBasedSquaredError(12),\n",
    "    WeightedProbabilityBasedSquaredError(16),\n",
    "]\n",
    "\n",
    "loss_option_list = [\n",
    "    None,\n",
    "    None,\n",
    "    None,\n",
    "    None,\n",
    "    WeightedRelativeEntropyOption(\"identity\"),\n",
    "    WeightedRelativeEntropyOption(\"identity\"),\n",
    "    WeightedProbabilityBasedSquaredErrorOption(\"identity\"),\n",
    "    WeightedProbabilityBasedSquaredErrorOption(\"identity\"),\n",
    "]\n",
    "\n",
    "algo_list = [\n",
    "    None,\n",
    "    None,\n",
    "    None,\n",
    "    None,\n",
    "    ProjectedGradientDescentBacktracking(),\n",
    "    ProjectedGradientDescentBacktracking(),\n",
    "    ProjectedGradientDescentBacktracking(),\n",
    "    ProjectedGradientDescentBacktracking(),\n",
    "]\n",
    "\n",
    "algo_option_list = [\n",
    "    None,\n",
    "    None,\n",
    "    None,\n",
    "    None,\n",
    "    ProjectedGradientDescentBacktrackingOption(\n",
    "        mode_stopping_criterion_gradient_descent=\"sum_absolute_difference_variable\",\n",
    "        num_history_stopping_criterion_gradient_descent=1,\n",
    "        mode_proj_order=order\n",
    "    ),\n",
    "    ProjectedGradientDescentBacktrackingOption(\n",
    "        mode_stopping_criterion_gradient_descent=\"sum_absolute_difference_variable\",\n",
    "        num_history_stopping_criterion_gradient_descent=1,\n",
    "        mode_proj_order=order\n",
    "    ),\n",
    "    ProjectedGradientDescentBacktrackingOption(\n",
    "        mode_stopping_criterion_gradient_descent=\"sum_absolute_difference_variable\",\n",
    "        num_history_stopping_criterion_gradient_descent=1,\n",
    "        mode_proj_order=order\n",
    "    ),\n",
    "    ProjectedGradientDescentBacktrackingOption(\n",
    "        mode_stopping_criterion_gradient_descent=\"sum_absolute_difference_variable\",\n",
    "        num_history_stopping_criterion_gradient_descent=1,\n",
    "    mode_proj_order=order\n",
    "    ),\n",
    "]\n",
    "\n",
    "estimation_results_list = []\n",
    "elapsed_times = []\n",
    "simulation_settings = []\n",
    "\n",
    "for i, name in enumerate(case_name_list):\n",
    "    qtomography = qtomography_list[i]\n",
    "    estimator = estimator_list[i]\n",
    "    loss = loss_list[i]\n",
    "    loss_option = loss_option_list[i]\n",
    "    algo = algo_list[i]\n",
    "    algo_option = algo_option_list[i]\n",
    "\n",
    "    start = time.time()\n",
    "    print(f\"Case {i}: {name}\")\n",
    "    print(f\"Parametorization: {para_list[i]}\")\n",
    "    print(f\"Type of qtomography: {qtomography.__class__.__name__}\")\n",
    "    print(f\"Estimator: {estimator.__class__.__name__}\")\n",
    "\n",
    "    estimation_results = data_analysis.estimate(\n",
    "        qtomography=qtomography,\n",
    "        true_object=true_object,\n",
    "        num_data=num_data,\n",
    "        estimator=estimator,\n",
    "        loss=loss,\n",
    "        loss_option=loss_option,\n",
    "        algo=algo,\n",
    "        algo_option=algo_option,\n",
    "        iteration=n_rep,\n",
    "    )\n",
    "    estimation_results_list.append(estimation_results)\n",
    "\n",
    "    # stock settings of this simulation\n",
    "    simulation_setting = StandardQTomographySimulationSetting(\n",
    "        name=name,\n",
    "        estimator=estimator,\n",
    "        loss=loss,\n",
    "        loss_option=loss_option,\n",
    "        algo=algo,\n",
    "        algo_option=algo_option,\n",
    "        true_object=true_object,\n",
    "        tester_objects=tester_states + tester_povms,\n",
    "        n_rep=n_rep,\n",
    "        seed=seed\n",
    "    )\n",
    "    simulation_settings.append(simulation_setting)\n",
    "\n",
    "    elapsed_time = time.time() - start\n",
    "    print(\"elapsed_time:{0}\".format(elapsed_time / 60) + \"[min]\\n\")\n",
    "    elapsed_times.append(elapsed_time)"
   ]
  },
  {
   "cell_type": "code",
   "execution_count": 51,
   "metadata": {
    "tags": [
     "outputPrepend"
    ]
   },
   "outputs": [
    {
     "name": "stdout",
     "output_type": "stream",
     "text": [
      "​Generating table of computation time ...\n",
      "​Generating table of tolerance of physicality constraint violation ...\n",
      "​Generating table of experimental conditions ...\n",
      "Generating case list ...\n",
      "Computation time of estimators ...\n"
     ]
    },
    {
     "name": "stderr",
     "output_type": "stream",
     "text": [
      "100%|██████████| 10/10 [00:00<00:00, 4561.51it/s]\n",
      "100%|██████████| 10/10 [00:00<00:00, 12690.78it/s]"
     ]
    },
    {
     "name": "stdout",
     "output_type": "stream",
     "text": [
      "​​Generating MSE of empirical distributions blocks ...\n"
     ]
    },
    {
     "name": "stderr",
     "output_type": "stream",
     "text": [
      "\n"
     ]
    },
    {
     "name": "stdout",
     "output_type": "stream",
     "text": [
      "​​Generating consictency test blocks ...\n",
      "​Generating a graph for MSE ...\n",
      "  LinearEstimator(True)=[0.08906000000000011, 0.007834800000000013]\n",
      "  LinearEstimator(False)=[0.08938, 0.007004800000000003]\n",
      "  ProjectedLinearEstimator(True)=[0.051741886010387136, 0.00603727872160328]\n",
      "  ProjectedLinearEstimator(False)=[0.052025302270329976, 0.00697164225382773]\n",
      "  Maximum-Likelihood(True)=[0.0274356568505498, 0.004678587007470968]\n",
      "  Maximum-Likelihood(False)=[0.023400168869827355, 0.004357857278584862]\n",
      "  Least Squares(True)=[0.04341417722579008, 0.003956543515917558]\n",
      "  Least Squares(False)=[0.03491375488402609, 0.0045475583147375695]\n",
      "  LinearEstimator(True)=[0.08906000000000011, 0.007834800000000013]\n",
      "  ProjectedLinearEstimator(True)=[0.051741886010387136, 0.00603727872160328]\n",
      "  Maximum-Likelihood(True)=[0.0274356568505498, 0.004678587007470968]\n",
      "  Least Squares(True)=[0.04341417722579008, 0.003956543515917558]\n",
      "  LinearEstimator(False)=[0.08938, 0.007004800000000003]\n",
      "  ProjectedLinearEstimator(False)=[0.052025302270329976, 0.00697164225382773]\n",
      "  Maximum-Likelihood(False)=[0.023400168869827355, 0.004357857278584862]\n",
      "  Least Squares(False)=[0.03491375488402609, 0.0045475583147375695]\n",
      "​​Generating physicality violation test blocks ...\n",
      "Converting to PDF report ...\n",
      "​Deleting temporary files ...\n",
      "Completed to export pdf. (qpt_nrep=10_order=eq_ineq.pdf)\n"
     ]
    }
   ],
   "source": [
    "report.export_report(\n",
    "    f\"qpt_nrep={n_rep}_order={order}.pdf\",\n",
    "    estimation_results_list=estimation_results_list,\n",
    "    simulation_settings=simulation_settings,\n",
    "    seed=seed,\n",
    ")"
   ]
  },
  {
   "cell_type": "code",
   "execution_count": 36,
   "metadata": {
    "scrolled": false
   },
   "outputs": [
    {
     "name": "stdout",
     "output_type": "stream",
     "text": [
      "Case 0: LinearEstimator(True)\n",
      "[OK] N=100 is_eq_constraint_satisfied_all\n",
      "True=10, False=0, eps=1e-13\n",
      "[OK] N=1000 is_eq_constraint_satisfied_all\n",
      "True=10, False=0, eps=1e-13\n",
      "===============================\n",
      "\n",
      "Case 1: LinearEstimator(False)\n",
      "[Skipped] Physicality Violation Check \n",
      "If on_para_eq_constraint is False in Linear Estimator, nothing is checked.\n",
      "===============================\n",
      "\n",
      "Case 2: ProjectedLinearEstimator(True)\n",
      "[OK] N=100 physicality violation check\n",
      "True=10, False=0\n",
      "[OK] N=1000 physicality violation check\n",
      "True=10, False=0\n",
      "===============================\n",
      "\n",
      "Case 3: ProjectedLinearEstimator(False)\n",
      "[OK] N=100 physicality violation check\n",
      "True=10, False=0\n",
      "[OK] N=1000 physicality violation check\n",
      "True=10, False=0\n",
      "===============================\n",
      "\n",
      "Case 4: Maximum-Likelihood(True)\n",
      "[OK] N=100 is_eq_constraint_satisfied_all\n",
      "True=10, False=0, eps=1e-13\n",
      "[OK] N=1000 is_eq_constraint_satisfied_all\n",
      "True=10, False=0, eps=1e-13\n",
      "[OK] N=100 is_ineq_constraint_satisfied_all\n",
      "True=10, False=0, eps=1e-05\n",
      "[OK] N=1000 is_ineq_constraint_satisfied_all\n",
      "True=10, False=0, eps=1e-05\n",
      "===============================\n",
      "\n",
      "Case 5: Maximum-Likelihood(False)\n",
      "[OK] N=100 is_eq_constraint_satisfied_all\n",
      "True=10, False=0, eps=1e-05\n",
      "[OK] N=1000 is_eq_constraint_satisfied_all\n",
      "True=10, False=0, eps=1e-05\n",
      "[OK] N=100 is_ineq_constraint_satisfied_all\n",
      "True=10, False=0, eps=1e-05\n",
      "[OK] N=1000 is_ineq_constraint_satisfied_all\n",
      "True=10, False=0, eps=1e-05\n",
      "===============================\n",
      "\n",
      "Case 6: Least Squares(True)\n",
      "[OK] N=100 is_eq_constraint_satisfied_all\n",
      "True=10, False=0, eps=1e-13\n",
      "[OK] N=1000 is_eq_constraint_satisfied_all\n",
      "True=10, False=0, eps=1e-13\n",
      "[OK] N=100 is_ineq_constraint_satisfied_all\n",
      "True=10, False=0, eps=1e-05\n",
      "[OK] N=1000 is_ineq_constraint_satisfied_all\n",
      "True=10, False=0, eps=1e-05\n",
      "===============================\n",
      "\n",
      "Case 7: Least Squares(False)\n",
      "[OK] N=100 is_eq_constraint_satisfied_all\n",
      "True=10, False=0, eps=1e-05\n",
      "[OK] N=1000 is_eq_constraint_satisfied_all\n",
      "True=10, False=0, eps=1e-05\n",
      "[OK] N=100 is_ineq_constraint_satisfied_all\n",
      "True=10, False=0, eps=1e-05\n",
      "[OK] N=1000 is_ineq_constraint_satisfied_all\n",
      "True=10, False=0, eps=1e-05\n",
      "===============================\n",
      "\n"
     ]
    }
   ],
   "source": [
    "from quara.data_analysis.simulation_check import StandardQTomographySimulationCheck\n",
    "\n",
    "results = []\n",
    "for i in range(len(simulation_settings)):\n",
    "    sim_check = StandardQTomographySimulationCheck(simulation_settings[i], estimation_results_list[i])\n",
    "    print(f\"Case {i}: {simulation_settings[i].name}\")\n",
    "    result = sim_check.execute_physicality_violation_check()\n",
    "    results.append(result)\n",
    "    print(\"===============================\")\n",
    "    print()"
   ]
  },
  {
   "cell_type": "code",
   "execution_count": 16,
   "metadata": {},
   "outputs": [
    {
     "data": {
      "text/plain": [
       "1e-05"
      ]
     },
     "execution_count": 16,
     "metadata": {},
     "output_type": "execute_result"
    }
   ],
   "source": [
    "physicality_violation_check.get_ineq_const_eps()"
   ]
  },
  {
   "cell_type": "code",
   "execution_count": 47,
   "metadata": {
    "scrolled": false
   },
   "outputs": [
    {
     "name": "stderr",
     "output_type": "stream",
     "text": [
      "100%|██████████| 10/10 [00:00<00:00, 498.08it/s]\n",
      "100%|██████████| 10/10 [00:00<00:00, 16797.37it/s]"
     ]
    },
    {
     "name": "stdout",
     "output_type": "stream",
     "text": [
      "Case 0: LinearEstimator(True)\n"
     ]
    },
    {
     "name": "stderr",
     "output_type": "stream",
     "text": [
      "\n",
      "100%|██████████| 10/10 [00:00<00:00, 14408.46it/s]\n",
      "100%|██████████| 10/10 [00:00<00:00, 19608.71it/s]"
     ]
    },
    {
     "name": "stdout",
     "output_type": "stream",
     "text": [
      "[OK] N=100\n",
      "|MSE_EmpiDist - MSE_Analytical| = 0.0011699999999999974\n",
      "eps = 0.038971989941495186\n",
      "[OK] N=1000\n",
      "|MSE_EmpiDist - MSE_Analytical| = 0.00019779999999999104\n",
      "eps = 0.00543930010203518\n",
      "[OK] Consistency Check\n",
      "result=0.0\n",
      "eps=1e-10\n",
      "result < eps: True\n",
      "[OK] N=100\n",
      "|MSE_Linear - MSE_Analytical| = 0.0051600000000000396\n",
      "eps = 0.10134842870020236\n",
      "[OK] N=1000\n",
      "|MSE_Linear - MSE_Analytical| = 0.0005551999999999935\n",
      "eps = 0.010783522318797319\n",
      "[OK] N=100 is_eq_constraint_satisfied_all\n",
      "True=10, False=0, eps=1e-13\n",
      "[OK] N=1000 is_eq_constraint_satisfied_all\n",
      "True=10, False=0, eps=1e-13\n",
      "========== Summary ============\n",
      "Name: LinearEstimator(True)\n",
      "MSE of Empirical Distributions: \u001b[32mOK\u001b[0m\n",
      "Consistency: \u001b[32mOK\u001b[0m (to_be_checked=False)\n",
      "MSE of estimators: \u001b[32mOK\u001b[0m\n",
      "Physicality Violation: \u001b[32mOK\u001b[0m\n",
      "\n",
      "===============================\n",
      "\n",
      "Case 1: LinearEstimator(False)\n"
     ]
    },
    {
     "name": "stderr",
     "output_type": "stream",
     "text": [
      "\n",
      "100%|██████████| 10/10 [00:00<00:00, 8155.36it/s]\n",
      "100%|██████████| 10/10 [00:00<00:00, 17036.17it/s]\n",
      "  0%|          | 0/10 [00:00<?, ?it/s]"
     ]
    },
    {
     "name": "stdout",
     "output_type": "stream",
     "text": [
      "[OK] N=100\n",
      "|MSE_EmpiDist - MSE_Analytical| = 0.002590000000000023\n",
      "eps = 0.04407067051906515\n",
      "[OK] N=1000\n",
      "|MSE_EmpiDist - MSE_Analytical| = 0.0005099999999999996\n",
      "eps = 0.00421955755974486\n",
      "[OK] Consistency Check\n",
      "result=5.567580598262917e-30\n",
      "eps=1e-10\n",
      "result < eps: True\n",
      "[OK] N=100\n",
      "|MSE_Linear - MSE_Analytical| = 0.0054799999999999155\n",
      "eps = 0.146022518811312\n",
      "[OK] N=1000\n",
      "|MSE_Linear - MSE_Analytical| = 0.001385200000000004\n",
      "eps = 0.010370752412433725\n",
      "[Skipped] Physicality Violation Check \n",
      "If on_para_eq_constraint is False in Linear Estimator, nothing is checked.\n",
      "========== Summary ============\n",
      "Name: LinearEstimator(False)\n",
      "MSE of Empirical Distributions: \u001b[32mOK\u001b[0m\n",
      "Consistency: \u001b[32mOK\u001b[0m (to_be_checked=False)\n",
      "MSE of estimators: \u001b[32mOK\u001b[0m\n",
      "Physicality Violation: \u001b[32mOK\u001b[0m\n",
      "\n",
      "===============================\n",
      "\n",
      "Case 2: ProjectedLinearEstimator(True)\n",
      "[OK] N=100\n",
      "|MSE_EmpiDist - MSE_Analytical| = 0.004870000000000013\n",
      "eps = 0.06763383768499318\n",
      "[OK] N=1000\n",
      "|MSE_EmpiDist - MSE_Analytical| = 0.0001590000000000003\n",
      "eps = 0.007975816948752022\n",
      "[OK] Consistency Check\n",
      "result=1.195617309475596e-30\n",
      "eps=1e-10\n",
      "result < eps: True\n"
     ]
    },
    {
     "name": "stderr",
     "output_type": "stream",
     "text": [
      "100%|██████████| 10/10 [00:01<00:00,  8.73it/s]\n",
      "100%|██████████| 10/10 [00:00<00:00, 11199.74it/s]\n",
      "100%|██████████| 10/10 [00:00<00:00, 9450.89it/s]\n"
     ]
    },
    {
     "name": "stdout",
     "output_type": "stream",
     "text": [
      "[OK] N=100\n",
      "MSE_Linear - MSE_ProjectedLinearEstimator = 0.05725811398961303\n",
      "[OK] N=1000\n",
      "MSE_Linear - MSE_ProjectedLinearEstimator = 0.004930721278396752\n",
      "[OK] N=100 physicality violation check\n",
      "True=10, False=0\n",
      "[OK] N=1000 physicality violation check\n",
      "True=10, False=0\n",
      "========== Summary ============\n",
      "Name: ProjectedLinearEstimator(True)\n",
      "MSE of Empirical Distributions: \u001b[32mOK\u001b[0m\n",
      "Consistency: \u001b[32mOK\u001b[0m (to_be_checked=False)\n",
      "MSE of estimators: \u001b[32mOK\u001b[0m\n",
      "Physicality Violation: \u001b[32mOK\u001b[0m\n",
      "\n",
      "===============================\n",
      "\n",
      "Case 3: ProjectedLinearEstimator(False)\n",
      "[OK] N=100\n",
      "|MSE_EmpiDist - MSE_Analytical| = 0.004690000000000007\n",
      "eps = 0.06280050955207289\n",
      "[OK] N=1000\n",
      "|MSE_EmpiDist - MSE_Analytical| = 0.0007626000000000074\n",
      "eps = 0.004562928708625636\n"
     ]
    },
    {
     "name": "stderr",
     "output_type": "stream",
     "text": [
      " 10%|█         | 1/10 [00:00<00:01,  8.19it/s]"
     ]
    },
    {
     "name": "stdout",
     "output_type": "stream",
     "text": [
      "[OK] Consistency Check\n",
      "result=1.2080030165559345e-30\n",
      "eps=1e-10\n",
      "result < eps: True\n"
     ]
    },
    {
     "name": "stderr",
     "output_type": "stream",
     "text": [
      "100%|██████████| 10/10 [00:01<00:00,  8.10it/s]\n",
      "  0%|          | 0/10 [00:00<?, ?it/s]"
     ]
    },
    {
     "name": "stdout",
     "output_type": "stream",
     "text": [
      "[OK] N=100\n",
      "MSE_Linear - MSE_ProjectedLinearEstimator = 0.03611469772967009\n",
      "[OK] N=1000\n",
      "MSE_Linear - MSE_ProjectedLinearEstimator = 0.0032187577461722724\n",
      "[OK] N=100 physicality violation check\n",
      "True=10, False=0\n",
      "[OK] N=1000 physicality violation check\n",
      "True=10, False=0\n",
      "========== Summary ============\n",
      "Name: ProjectedLinearEstimator(False)\n",
      "MSE of Empirical Distributions: \u001b[32mOK\u001b[0m\n",
      "Consistency: \u001b[32mOK\u001b[0m (to_be_checked=False)\n",
      "MSE of estimators: \u001b[32mOK\u001b[0m\n",
      "Physicality Violation: \u001b[32mOK\u001b[0m\n",
      "\n",
      "===============================\n",
      "\n",
      "Case 4: Maximum-Likelihood(True)\n"
     ]
    },
    {
     "name": "stderr",
     "output_type": "stream",
     "text": [
      "100%|██████████| 10/10 [00:00<00:00, 77.66it/s]\n",
      "100%|██████████| 10/10 [00:00<00:00, 8423.99it/s]\n"
     ]
    },
    {
     "name": "stdout",
     "output_type": "stream",
     "text": [
      "[OK] N=100\n",
      "|MSE_EmpiDist - MSE_Analytical| = 0.01007000000000001\n",
      "eps = 0.03026839936303203\n",
      "[OK] N=1000\n",
      "|MSE_EmpiDist - MSE_Analytical| = 0.0007087999999999964\n",
      "eps = 0.004852508176190947\n"
     ]
    },
    {
     "name": "stderr",
     "output_type": "stream",
     "text": [
      "\r",
      "  0%|          | 0/10 [00:00<?, ?it/s]"
     ]
    },
    {
     "name": "stdout",
     "output_type": "stream",
     "text": [
      "[OK] Consistency Check\n",
      "result=6.681876985452091e-15\n",
      "eps=1e-10\n",
      "result < eps: True\n"
     ]
    },
    {
     "name": "stderr",
     "output_type": "stream",
     "text": [
      "100%|██████████| 10/10 [00:00<00:00, 11.68it/s]\n",
      "100%|██████████| 10/10 [00:00<00:00, 2418.86it/s]\n",
      "100%|██████████| 10/10 [00:00<00:00, 3244.61it/s]\n"
     ]
    },
    {
     "name": "stdout",
     "output_type": "stream",
     "text": [
      "[OK] N=100\n",
      "MSE_Linear - MSE_LossMinimizationEstimator = 0.05650434314945024\n",
      "[OK] N=1000\n",
      "MSE_Linear - MSE_LossMinimizationEstimator = 0.0028222129925290365\n",
      "[OK] N=100 is_eq_constraint_satisfied_all\n",
      "True=10, False=0, eps=1e-13\n",
      "[OK] N=1000 is_eq_constraint_satisfied_all\n",
      "True=10, False=0, eps=1e-13\n",
      "[OK] N=100 is_ineq_constraint_satisfied_all\n",
      "True=10, False=0, eps=1e-05\n",
      "[OK] N=1000 is_ineq_constraint_satisfied_all\n",
      "True=10, False=0, eps=1e-05\n",
      "========== Summary ============\n",
      "Name: Maximum-Likelihood(True)\n",
      "MSE of Empirical Distributions: \u001b[32mOK\u001b[0m\n",
      "Consistency: \u001b[32mOK\u001b[0m (to_be_checked=False)\n",
      "MSE of estimators: \u001b[32mOK\u001b[0m\n",
      "Physicality Violation: \u001b[32mOK\u001b[0m\n",
      "\n",
      "===============================\n",
      "\n",
      "Case 5: Maximum-Likelihood(False)\n",
      "[OK] N=100\n",
      "|MSE_EmpiDist - MSE_Analytical| = 0.01115\n",
      "eps = 0.10480849202235476\n",
      "[OK] N=1000\n",
      "|MSE_EmpiDist - MSE_Analytical| = 7.220000000000663e-05\n",
      "eps = 0.005384299545901962\n"
     ]
    },
    {
     "name": "stderr",
     "output_type": "stream",
     "text": [
      " 20%|██        | 2/10 [00:00<00:00, 15.05it/s]"
     ]
    },
    {
     "name": "stdout",
     "output_type": "stream",
     "text": [
      "[OK] Consistency Check\n",
      "result=5.93725373525576e-15\n",
      "eps=1e-10\n",
      "result < eps: True\n"
     ]
    },
    {
     "name": "stderr",
     "output_type": "stream",
     "text": [
      "100%|██████████| 10/10 [00:00<00:00, 12.95it/s]\n",
      "100%|██████████| 10/10 [00:00<00:00, 3230.11it/s]\n",
      "100%|██████████| 10/10 [00:00<00:00, 5684.88it/s]\n"
     ]
    },
    {
     "name": "stdout",
     "output_type": "stream",
     "text": [
      "[OK] N=100\n",
      "MSE_Linear - MSE_LossMinimizationEstimator = 0.05383983113017266\n",
      "[OK] N=1000\n",
      "MSE_Linear - MSE_LossMinimizationEstimator = 0.002784542721415135\n",
      "[OK] N=100 is_eq_constraint_satisfied_all\n",
      "True=10, False=0, eps=1e-05\n",
      "[OK] N=1000 is_eq_constraint_satisfied_all\n",
      "True=10, False=0, eps=1e-05\n",
      "[OK] N=100 is_ineq_constraint_satisfied_all\n",
      "True=10, False=0, eps=1e-05\n",
      "[OK] N=1000 is_ineq_constraint_satisfied_all\n",
      "True=10, False=0, eps=1e-05\n",
      "========== Summary ============\n",
      "Name: Maximum-Likelihood(False)\n",
      "MSE of Empirical Distributions: \u001b[32mOK\u001b[0m\n",
      "Consistency: \u001b[32mOK\u001b[0m (to_be_checked=False)\n",
      "MSE of estimators: \u001b[32mOK\u001b[0m\n",
      "Physicality Violation: \u001b[32mOK\u001b[0m\n",
      "\n",
      "===============================\n",
      "\n",
      "Case 6: Least Squares(True)\n",
      "[OK] N=100\n",
      "|MSE_EmpiDist - MSE_Analytical| = 0.001030000000000024\n",
      "eps = 0.042845956635369935\n",
      "[OK] N=1000\n",
      "|MSE_EmpiDist - MSE_Analytical| = 0.0011380000000000036\n",
      "eps = 0.004812476493449094\n"
     ]
    },
    {
     "name": "stderr",
     "output_type": "stream",
     "text": [
      "/Users/tomoko/project/rcast/workspace/quara/quara/data_analysis/simulation_check.py:144: UserWarning:\n",
      "\n",
      "Estimator MSE is not checked except for LinearEstimator, ProjectedLinearEstimator, Maximum-likelihood.\n",
      "\n",
      "100%|██████████| 10/10 [00:00<00:00, 4381.85it/s]\n",
      "100%|██████████| 10/10 [00:00<00:00, 5143.86it/s]"
     ]
    },
    {
     "name": "stdout",
     "output_type": "stream",
     "text": [
      "[OK] Consistency Check\n",
      "result=4.221029303602075e-28\n",
      "eps=1e-10\n",
      "result < eps: True\n",
      "[OK] N=100 is_eq_constraint_satisfied_all\n",
      "True=10, False=0, eps=1e-13\n",
      "[OK] N=1000 is_eq_constraint_satisfied_all\n",
      "True=10, False=0, eps=1e-13\n",
      "[OK] N=100 is_ineq_constraint_satisfied_all\n",
      "True=10, False=0, eps=1e-05\n",
      "[OK] N=1000 is_ineq_constraint_satisfied_all\n",
      "True=10, False=0, eps=1e-05\n",
      "========== Summary ============\n",
      "Name: Least Squares(True)\n",
      "MSE of Empirical Distributions: \u001b[32mOK\u001b[0m\n",
      "Consistency: \u001b[32mOK\u001b[0m (to_be_checked=False)\n",
      "MSE of estimators: \u001b[32mOK\u001b[0m\n",
      "Physicality Violation: \u001b[32mOK\u001b[0m\n",
      "\n",
      "===============================\n",
      "\n",
      "Case 7: Least Squares(False)\n",
      "[OK] N=100\n",
      "|MSE_EmpiDist - MSE_Analytical| = 0.00291000000000001\n",
      "eps = 0.043244236610212004\n",
      "[OK] N=1000\n",
      "|MSE_EmpiDist - MSE_Analytical| = 0.00040039999999999434\n",
      "eps = 0.004599422615937793\n"
     ]
    },
    {
     "name": "stderr",
     "output_type": "stream",
     "text": [
      "\n"
     ]
    },
    {
     "name": "stdout",
     "output_type": "stream",
     "text": [
      "[OK] Consistency Check\n",
      "result=1.5735738086587649e-27\n",
      "eps=1e-10\n",
      "result < eps: True\n",
      "[OK] N=100 is_eq_constraint_satisfied_all\n",
      "True=10, False=0, eps=1e-05\n",
      "[OK] N=1000 is_eq_constraint_satisfied_all\n",
      "True=10, False=0, eps=1e-05\n",
      "[OK] N=100 is_ineq_constraint_satisfied_all\n",
      "True=10, False=0, eps=1e-05\n",
      "[OK] N=1000 is_ineq_constraint_satisfied_all\n",
      "True=10, False=0, eps=1e-05\n",
      "========== Summary ============\n",
      "Name: Least Squares(False)\n",
      "MSE of Empirical Distributions: \u001b[32mOK\u001b[0m\n",
      "Consistency: \u001b[32mOK\u001b[0m (to_be_checked=False)\n",
      "MSE of estimators: \u001b[32mOK\u001b[0m\n",
      "Physicality Violation: \u001b[32mOK\u001b[0m\n",
      "\n",
      "===============================\n",
      "\n"
     ]
    }
   ],
   "source": [
    "from quara.data_analysis.simulation_check import StandardQTomographySimulationCheck\n",
    "\n",
    "results = []\n",
    "for i in range(len(simulation_settings)):\n",
    "    sim_check = StandardQTomographySimulationCheck(simulation_settings[i], estimation_results_list[i])\n",
    "    print(f\"Case {i}: {simulation_settings[i].name}\")\n",
    "    result = sim_check.execute_all()\n",
    "    results.append(result)\n",
    "    print(\"===============================\")\n",
    "    print()"
   ]
  },
  {
   "cell_type": "code",
   "execution_count": null,
   "metadata": {},
   "outputs": [],
   "source": []
  }
 ],
 "metadata": {
  "hide_input": false,
  "kernelspec": {
   "display_name": "quara_venv",
   "language": "python",
   "name": "quara_venv"
  },
  "language_info": {
   "codemirror_mode": {
    "name": "ipython",
    "version": 3
   },
   "file_extension": ".py",
   "mimetype": "text/x-python",
   "name": "python",
   "nbconvert_exporter": "python",
   "pygments_lexer": "ipython3",
   "version": "3.8.0"
  },
  "toc": {
   "base_numbering": 1,
   "nav_menu": {},
   "number_sections": true,
   "sideBar": true,
   "skip_h1_title": false,
   "title_cell": "Table of Contents",
   "title_sidebar": "Contents",
   "toc_cell": false,
   "toc_position": {},
   "toc_section_display": true,
   "toc_window_display": false
  },
  "varInspector": {
   "cols": {
    "lenName": 16,
    "lenType": 16,
    "lenVar": 40
   },
   "kernels_config": {
    "python": {
     "delete_cmd_postfix": "",
     "delete_cmd_prefix": "del ",
     "library": "var_list.py",
     "varRefreshCmd": "print(var_dic_list())"
    },
    "r": {
     "delete_cmd_postfix": ") ",
     "delete_cmd_prefix": "rm(",
     "library": "var_list.r",
     "varRefreshCmd": "cat(var_dic_list()) "
    }
   },
   "types_to_exclude": [
    "module",
    "function",
    "builtin_function_or_method",
    "instance",
    "_Feature"
   ],
   "window_display": false
  }
 },
 "nbformat": 4,
 "nbformat_minor": 4
}
