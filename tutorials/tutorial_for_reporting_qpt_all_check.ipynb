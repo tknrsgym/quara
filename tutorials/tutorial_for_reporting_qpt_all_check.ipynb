{
 "cells": [
  {
   "cell_type": "code",
   "execution_count": 1,
   "metadata": {},
   "outputs": [],
   "source": [
    "# Qpt"
   ]
  },
  {
   "cell_type": "code",
   "execution_count": 1,
   "metadata": {},
   "outputs": [
    {
     "data": {
      "text/plain": [
       "1e-13"
      ]
     },
     "execution_count": 1,
     "metadata": {},
     "output_type": "execute_result"
    }
   ],
   "source": [
    "import pickle\n",
    "import time\n",
    "from typing import List\n",
    "import datetime as dt\n",
    "from pathlib import Path\n",
    "\n",
    "import numpy as np\n",
    "import pandas as pd\n",
    "import plotly.graph_objects as go\n",
    "import plotly.express as px\n",
    "\n",
    "from tqdm import tqdm\n",
    "\n",
    "import numpy.testing as npt\n",
    "\n",
    "from quara.data_analysis import data_analysis, physicality_violation_check, report\n",
    "from quara.data_analysis.projected_gradient_descent_backtracking import ProjectedGradientDescentBacktracking, ProjectedGradientDescentBacktrackingOption\n",
    "from quara.data_analysis.weighted_probability_based_squared_error import WeightedProbabilityBasedSquaredError, WeightedProbabilityBasedSquaredErrorOption\n",
    "from quara.data_analysis.weighted_relative_entropy import WeightedRelativeEntropy, WeightedRelativeEntropyOption\n",
    "from quara.objects.composite_system import CompositeSystem\n",
    "from quara.objects.elemental_system import ElementalSystem\n",
    "from quara.objects.matrix_basis import get_normalized_pauli_basis\n",
    "from quara.objects.state import (\n",
    "    State,\n",
    "    get_x0_1q,\n",
    "    get_x1_1q,\n",
    "    get_y0_1q,\n",
    "    get_y1_1q,\n",
    "    get_z0_1q,\n",
    "    get_z1_1q,\n",
    ")\n",
    "from quara.objects.povm import (\n",
    "    Povm,get_x_measurement,\n",
    "    get_y_measurement,\n",
    "    get_z_measurement\n",
    ")\n",
    "from quara.objects.gate import (\n",
    "    Gate, get_depolarizing_channel,\n",
    "    get_x_rotation,\n",
    "    get_amplitutde_damping_channel\n",
    ")\n",
    "from quara.objects.qoperation import QOperation\n",
    "from quara.protocol.qtomography.standard.standard_qpt import StandardQpt\n",
    "from quara.protocol.qtomography.standard.linear_estimator import LinearEstimator\n",
    "from quara.protocol.qtomography.standard.loss_minimization_estimator import LossMinimizationEstimator\n",
    "from quara.protocol.qtomography.standard.projected_linear_estimator import (\n",
    "    ProjectedLinearEstimator,\n",
    ")\n",
    "\n",
    "from quara.data_analysis.simulation import StandardQTomographySimulationSetting\n",
    "\n",
    "from quara.settings import Settings\n",
    "Settings.get_atol()"
   ]
  },
  {
   "cell_type": "code",
   "execution_count": 2,
   "metadata": {},
   "outputs": [],
   "source": [
    "%load_ext autoreload\n",
    "%autoreload 2"
   ]
  },
  {
   "cell_type": "code",
   "execution_count": 3,
   "metadata": {},
   "outputs": [],
   "source": [
    "start_all = time.time()"
   ]
  },
  {
   "cell_type": "code",
   "execution_count": 4,
   "metadata": {},
   "outputs": [],
   "source": [
    "# setup system\n",
    "e_sys = ElementalSystem(0, get_normalized_pauli_basis())\n",
    "c_sys = CompositeSystem([e_sys])\n",
    "\n",
    "# Tester Objects (State)\n",
    "# |+><+|\n",
    "state_x0 = get_x0_1q(c_sys)\n",
    "# |+i><+i|\n",
    "state_y0 = get_y0_1q(c_sys)\n",
    "# |0><0|\n",
    "state_z0 = get_z0_1q(c_sys)\n",
    "# |1><1|\n",
    "state_z1 = get_z1_1q(c_sys)\n",
    "tester_states = [state_x0, state_y0, state_z0, state_z1]"
   ]
  },
  {
   "cell_type": "code",
   "execution_count": 5,
   "metadata": {},
   "outputs": [],
   "source": [
    "tester_povms = [get_x_measurement(c_sys), get_y_measurement(c_sys), get_z_measurement(c_sys)]"
   ]
  },
  {
   "cell_type": "code",
   "execution_count": 6,
   "metadata": {},
   "outputs": [],
   "source": [
    "# True Object\n",
    "true_objects = []\n",
    "#true_objects.append(get_depolarizing_channel(p=0, c_sys=c_sys))\n",
    "true_objects.append(get_depolarizing_channel(p=0.05, c_sys=c_sys))\n",
    "#true_objects.append(get_depolarizing_channel(p=1, c_sys=c_sys))\n",
    "#true_objects.append(get_x_rotation(theta=np.pi/2, c_sys=c_sys))\n",
    "#true_objects.append(get_x_rotation(theta=np.pi, c_sys=c_sys))\n",
    "#true_objects.append(get_amplitutde_damping_channel(gamma=0.1, c_sys=c_sys))\n",
    "\n",
    "true_object = true_objects[0]"
   ]
  },
  {
   "cell_type": "code",
   "execution_count": 7,
   "metadata": {},
   "outputs": [
    {
     "name": "stderr",
     "output_type": "stream",
     "text": [
      "\r",
      "  0%|          | 0/2 [00:00<?, ?it/s]"
     ]
    },
    {
     "name": "stdout",
     "output_type": "stream",
     "text": [
      "Case 0: LinearEstimator(True)\n",
      "Parametorization: True\n",
      "Type of qtomography: StandardQpt\n",
      "Estimator: LinearEstimator\n"
     ]
    },
    {
     "name": "stderr",
     "output_type": "stream",
     "text": [
      "100%|██████████| 2/2 [00:00<00:00, 11.79it/s]"
     ]
    },
    {
     "name": "stdout",
     "output_type": "stream",
     "text": [
      "elapsed_time:0.003308117389678955[min]\n",
      "\n",
      "Case 1: LinearEstimator(False)\n",
      "Parametorization: False\n",
      "Type of qtomography: StandardQpt\n",
      "Estimator: LinearEstimator"
     ]
    },
    {
     "name": "stderr",
     "output_type": "stream",
     "text": [
      "\n",
      "100%|██████████| 2/2 [00:00<00:00, 14.52it/s]\n",
      "  0%|          | 0/2 [00:00<?, ?it/s]"
     ]
    },
    {
     "name": "stdout",
     "output_type": "stream",
     "text": [
      "\n",
      "elapsed_time:0.0024056315422058107[min]\n",
      "\n",
      "Case 2: ProjectedLinearEstimator(True)\n",
      "Parametorization: True\n",
      "Type of qtomography: StandardQpt\n",
      "Estimator: ProjectedLinearEstimator\n"
     ]
    },
    {
     "name": "stderr",
     "output_type": "stream",
     "text": [
      "100%|██████████| 2/2 [00:01<00:00,  1.93it/s]\n",
      "  0%|          | 0/2 [00:00<?, ?it/s]"
     ]
    },
    {
     "name": "stdout",
     "output_type": "stream",
     "text": [
      "elapsed_time:0.01739586591720581[min]\n",
      "\n",
      "Case 3: ProjectedLinearEstimator(False)\n",
      "Parametorization: False\n",
      "Type of qtomography: StandardQpt\n",
      "Estimator: ProjectedLinearEstimator\n"
     ]
    },
    {
     "name": "stderr",
     "output_type": "stream",
     "text": [
      "100%|██████████| 2/2 [00:00<00:00,  2.55it/s]\n",
      "  0%|          | 0/2 [00:00<?, ?it/s]"
     ]
    },
    {
     "name": "stdout",
     "output_type": "stream",
     "text": [
      "elapsed_time:0.013145864009857178[min]\n",
      "\n",
      "Case 4: Maximum-Likelihood(True)\n",
      "Parametorization: True\n",
      "Type of qtomography: StandardQpt\n",
      "Estimator: LossMinimizationEstimator\n"
     ]
    },
    {
     "name": "stderr",
     "output_type": "stream",
     "text": [
      "100%|██████████| 2/2 [02:16<00:00, 68.16s/it]\n",
      "  0%|          | 0/2 [00:00<?, ?it/s]"
     ]
    },
    {
     "name": "stdout",
     "output_type": "stream",
     "text": [
      "elapsed_time:2.272125736872355[min]\n",
      "\n",
      "Case 5: Maximum-Likelihood(False)\n",
      "Parametorization: False\n",
      "Type of qtomography: StandardQpt\n",
      "Estimator: LossMinimizationEstimator\n"
     ]
    },
    {
     "name": "stderr",
     "output_type": "stream",
     "text": [
      "100%|██████████| 2/2 [04:12<00:00, 126.05s/it]\n",
      "  0%|          | 0/2 [00:00<?, ?it/s]"
     ]
    },
    {
     "name": "stdout",
     "output_type": "stream",
     "text": [
      "elapsed_time:4.202080619335175[min]\n",
      "\n",
      "Case 6: Least Squares(True)\n",
      "Parametorization: True\n",
      "Type of qtomography: StandardQpt\n",
      "Estimator: LossMinimizationEstimator\n"
     ]
    },
    {
     "name": "stderr",
     "output_type": "stream",
     "text": [
      "100%|██████████| 2/2 [00:39<00:00, 19.58s/it]\n",
      "  0%|          | 0/2 [00:00<?, ?it/s]"
     ]
    },
    {
     "name": "stdout",
     "output_type": "stream",
     "text": [
      "elapsed_time:0.6528549631436665[min]\n",
      "\n",
      "Case 7: Least Squares(False)\n",
      "Parametorization: False\n",
      "Type of qtomography: StandardQpt\n",
      "Estimator: LossMinimizationEstimator\n"
     ]
    },
    {
     "name": "stderr",
     "output_type": "stream",
     "text": [
      "100%|██████████| 2/2 [00:47<00:00, 23.90s/it]\n"
     ]
    },
    {
     "name": "stdout",
     "output_type": "stream",
     "text": [
      "elapsed_time:0.79692169825236[min]\n",
      "\n"
     ]
    }
   ],
   "source": [
    "num_data = [100, 1000]\n",
    "n_rep = 2\n",
    "\n",
    "case_name_list = [\n",
    "    \"LinearEstimator(True)\",\n",
    "    \"LinearEstimator(False)\",\n",
    "    \"ProjectedLinearEstimator(True)\",\n",
    "    \"ProjectedLinearEstimator(False)\",\n",
    "    \"Maximum-Likelihood(True)\",\n",
    "    \"Maximum-Likelihood(False)\",\n",
    "    \"Least Squares(True)\",\n",
    "    \"Least Squares(False)\",\n",
    "]\n",
    "\n",
    "seed = 777\n",
    "qtomography_list = [\n",
    "    StandardQpt(tester_states, tester_povms, on_para_eq_constraint=True, seed=seed),\n",
    "    StandardQpt(tester_states, tester_povms, on_para_eq_constraint=False, seed=seed),\n",
    "    StandardQpt(tester_states, tester_povms, on_para_eq_constraint=True, seed=seed),\n",
    "    StandardQpt(tester_states, tester_povms, on_para_eq_constraint=False, seed=seed),\n",
    "    StandardQpt(tester_states, tester_povms, on_para_eq_constraint=True, eps_proj_physical=1e-13, seed=seed),\n",
    "    StandardQpt(tester_states, tester_povms, on_para_eq_constraint=False, eps_proj_physical=1e-13, seed=seed),\n",
    "    StandardQpt(tester_states, tester_povms, on_para_eq_constraint=True, eps_proj_physical=1e-13, seed=seed),\n",
    "    StandardQpt(tester_states, tester_povms, on_para_eq_constraint=False, eps_proj_physical=1e-13, seed=seed),\n",
    "]\n",
    "\n",
    "para_list = [\n",
    "    True,\n",
    "    False,\n",
    "    True,\n",
    "    False,\n",
    "    True,\n",
    "    False,\n",
    "    True,\n",
    "    False,\n",
    "]\n",
    "\n",
    "estimator_list = [\n",
    "    LinearEstimator(),\n",
    "    LinearEstimator(),\n",
    "    ProjectedLinearEstimator(),\n",
    "    ProjectedLinearEstimator(),\n",
    "    LossMinimizationEstimator(),\n",
    "    LossMinimizationEstimator(),\n",
    "    LossMinimizationEstimator(),\n",
    "    LossMinimizationEstimator(),\n",
    "]\n",
    "\n",
    "loss_list = [\n",
    "    None,\n",
    "    None,\n",
    "    None,\n",
    "    None,\n",
    "    WeightedRelativeEntropy(12),\n",
    "    WeightedRelativeEntropy(16),\n",
    "    WeightedProbabilityBasedSquaredError(12),\n",
    "    WeightedProbabilityBasedSquaredError(16),\n",
    "]\n",
    "\n",
    "loss_option_list = [\n",
    "    None,\n",
    "    None,\n",
    "    None,\n",
    "    None,\n",
    "    WeightedRelativeEntropyOption(\"identity\"),\n",
    "    WeightedRelativeEntropyOption(\"identity\"),\n",
    "    WeightedProbabilityBasedSquaredErrorOption(\"identity\"),\n",
    "    WeightedProbabilityBasedSquaredErrorOption(\"identity\"),\n",
    "]\n",
    "\n",
    "algo_list = [\n",
    "    None,\n",
    "    None,\n",
    "    None,\n",
    "    None,\n",
    "    ProjectedGradientDescentBacktracking(),\n",
    "    ProjectedGradientDescentBacktracking(),\n",
    "    ProjectedGradientDescentBacktracking(),\n",
    "    ProjectedGradientDescentBacktracking(),\n",
    "]\n",
    "\n",
    "algo_option_list = [\n",
    "    None,\n",
    "    None,\n",
    "    None,\n",
    "    None,\n",
    "    ProjectedGradientDescentBacktrackingOption(),\n",
    "    ProjectedGradientDescentBacktrackingOption(),\n",
    "    ProjectedGradientDescentBacktrackingOption(),\n",
    "    ProjectedGradientDescentBacktrackingOption(),\n",
    "]\n",
    "\n",
    "estimation_results_list = []\n",
    "elapsed_times = []\n",
    "simulation_settings = []\n",
    "\n",
    "for i, name in enumerate(case_name_list):\n",
    "    qtomography = qtomography_list[i]\n",
    "    estimator = estimator_list[i]\n",
    "    loss = loss_list[i]\n",
    "    loss_option = loss_option_list[i]\n",
    "    algo = algo_list[i]\n",
    "    algo_option = algo_option_list[i]\n",
    "\n",
    "    start = time.time()\n",
    "    print(f\"Case {i}: {name}\")\n",
    "    print(f\"Parametorization: {para_list[i]}\")\n",
    "    print(f\"Type of qtomography: {qtomography.__class__.__name__}\")\n",
    "    print(f\"Estimator: {estimator.__class__.__name__}\")\n",
    "\n",
    "    estimation_results = data_analysis.estimate(\n",
    "       qtomography=qtomography,\n",
    "       true_object=true_object,\n",
    "       num_data=num_data,\n",
    "       estimator=estimator,\n",
    "       loss=loss,\n",
    "       loss_option=loss_option,\n",
    "       algo=algo,\n",
    "       algo_option=algo_option,\n",
    "       iteration=n_rep,\n",
    "    )\n",
    "    estimation_results_list.append(estimation_results)\n",
    "    \n",
    "    # stock settings of this simulation\n",
    "    simulation_setting = StandardQTomographySimulationSetting(\n",
    "        name=name,\n",
    "        estimator=estimator,\n",
    "        loss=loss,\n",
    "        loss_option=loss_option,\n",
    "        algo=algo,\n",
    "        algo_option=algo_option,\n",
    "        true_object=true_object,\n",
    "        tester_objects=tester_states + tester_povms\n",
    "    )\n",
    "    simulation_settings.append(simulation_setting)\n",
    "\n",
    "    elapsed_time = time.time() - start\n",
    "    print(\"elapsed_time:{0}\".format(elapsed_time / 60) + \"[min]\\n\")\n",
    "    elapsed_times.append(elapsed_time)"
   ]
  },
  {
   "cell_type": "code",
   "execution_count": 10,
   "metadata": {
    "tags": [
     "outputPrepend"
    ]
   },
   "outputs": [
    {
     "name": "stderr",
     "output_type": "stream",
     "text": [
      "y.standard.linear_estimator.LinearEstimationResult object at 0x0000024CCC3FC908>], [<quara.protocol.qtomography.standard.projected_linear_estimator.ProjectedLinearEstimationResult object at 0x0000024CCC3FCB00>, <quara.protocol.qtomography.standard.projected_linear_estimator.ProjectedLinearEstimationResult object at 0x0000024CCC3FCB38>, <quara.protocol.qtomography.standard.projected_linear_estimator.ProjectedLinearEstimationResult object at 0x0000024CCC42FE48>, <quara.protocol.qtomography.standard.projected_linear_estimator.ProjectedLinearEstimationResult object at 0x0000024CCC42F518>, <quara.protocol.qtomography.standard.projected_linear_estimator.ProjectedLinearEstimationResult object at 0x0000024CCC42FA58>, <quara.protocol.qtomography.standard.projected_linear_estimator.ProjectedLinearEstimationResult object at 0x0000024CCC42F3C8>, <quara.protocol.qtomography.standard.projected_linear_estimator.ProjectedLinearEstimationResult object at 0x0000024CCC42F390>, <quara.protocol.qtomography.standard.projected_linear_estimator.ProjectedLinearEstimationResult object at 0x0000024CCC42FA90>, <quara.protocol.qtomography.standard.projected_linear_estimator.ProjectedLinearEstimationResult object at 0x0000024CCC42F4E0>, <quara.protocol.qtomography.standard.projected_linear_estimator.ProjectedLinearEstimationResult object at 0x0000024CCC42FFD0>], [<quara.protocol.qtomography.standard.projected_linear_estimator.ProjectedLinearEstimationResult object at 0x0000024CCC42FEB8>, <quara.protocol.qtomography.standard.projected_linear_estimator.ProjectedLinearEstimationResult object at 0x0000024CCC3FC978>, <quara.protocol.qtomography.standard.projected_linear_estimator.ProjectedLinearEstimationResult object at 0x0000024CCC3FCDD8>, <quara.protocol.qtomography.standard.projected_linear_estimator.ProjectedLinearEstimationResult object at 0x0000024CCC3FCDA0>, <quara.protocol.qtomography.standard.projected_linear_estimator.ProjectedLinearEstimationResult object at 0x0000024CCC3FCE80>, <quara.protocol.qtomography.standard.projected_linear_estimator.ProjectedLinearEstimationResult object at 0x0000024CCC3FCCF8>, <quara.protocol.qtomography.standard.projected_linear_estimator.ProjectedLinearEstimationResult object at 0x0000024CCC3FCF98>, <quara.protocol.qtomography.standard.projected_linear_estimator.ProjectedLinearEstimationResult object at 0x0000024CCC3EE048>, <quara.protocol.qtomography.standard.projected_linear_estimator.ProjectedLinearEstimationResult object at 0x0000024CCC3FCA20>, <quara.protocol.qtomography.standard.projected_linear_estimator.ProjectedLinearEstimationResult object at 0x0000024CCC3FCC50>], [<quara.protocol.qtomography.standard.loss_minimization_estimator.LossMinimizationEstimationResult object at 0x0000024CCC3FCBA8>, <quara.protocol.qtomography.standard.loss_minimization_estimator.LossMinimizationEstimationResult object at 0x0000024CCC3FC358>, <quara.protocol.qtomography.standard.loss_minimization_estimator.LossMinimizationEstimationResult object at 0x0000024CCC3FCFD0>, <quara.protocol.qtomography.standard.loss_minimization_estimator.LossMinimizationEstimationResult object at 0x0000024CCC3FCC88>, <quara.protocol.qtomography.standard.loss_minimization_estimator.LossMinimizationEstimationResult object at 0x0000024CCC42F2E8>, <quara.protocol.qtomography.standard.loss_minimization_estimator.LossMinimizationEstimationResult object at 0x0000024CCC3FCA58>, <quara.protocol.qtomography.standard.loss_minimization_estimator.LossMinimizationEstimationResult object at 0x0000024CCC42FF60>, <quara.protocol.qtomography.standard.loss_minimization_estimator.LossMinimizationEstimationResult object at 0x0000024CCC42F438>, <quara.protocol.qtomography.standard.loss_minimization_estimator.LossMinimizationEstimationResult object at 0x0000024CCC42F048>, <quara.protocol.qtomography.standard.loss_minimization_estimator.LossMinimizationEstimationResult object at 0x0000024CCC42FF28>], [<quara.protocol.qtomography.standard.loss_minimization_estimator.LossMinimizationEstimationResult object at 0x0000024CCC42F978>, <quara.protocol.qtomography.standard.loss_minimization_estimator.LossMinimizationEstimationResult object at 0x0000024CCC42FE10>, <quara.protocol.qtomography.standard.loss_minimization_estimator.LossMinimizationEstimationResult object at 0x0000024CCC42FBA8>, <quara.protocol.qtomography.standard.loss_minimization_estimator.LossMinimizationEstimationResult object at 0x0000024CCC42FD30>, <quara.protocol.qtomography.standard.loss_minimization_estimator.LossMinimizationEstimationResult object at 0x0000024CCC42F400>, <quara.protocol.qtomography.standard.loss_minimization_estimator.LossMinimizationEstimationResult object at 0x0000024CCC42F588>, <quara.protocol.qtomography.standard.loss_minimization_estimator.LossMinimizationEstimationResult object at 0x0000024CCC42F470>, <quara.protocol.qtomography.standard.loss_minimization_estimator.LossMinimizationEstimationResult object at 0x0000024CCC42F7F0>, <quara.protocol.qtomography.standard.loss_minimization_estimator.LossMinimizationEstimationResult object at 0x0000024CCC42F550>, <quara.protocol.qtomography.standard.loss_minimization_estimator.LossMinimizationEstimationResult object at 0x0000024CCC42FDA0>], [<quara.protocol.qtomography.standard.loss_minimization_estimator.LossMinimizationEstimationResult object at 0x0000024CCC42F940>, <quara.protocol.qtomography.standard.loss_minimization_estimator.LossMinimizationEstimationResult object at 0x0000024CCE47E2E8>, <quara.protocol.qtomography.standard.loss_minimization_estimator.LossMinimizationEstimationResult object at 0x0000024CCE47E588>, <quara.protocol.qtomography.standard.loss_minimization_estimator.LossMinimizationEstimationResult object at 0x0000024CCC42FCF8>, <quara.protocol.qtomography.standard.loss_minimization_estimator.LossMinimizationEstimationResult object at 0x0000024CCE47E4E0>, <quara.protocol.qtomography.standard.loss_minimization_estimator.LossMinimizationEstimationResult object at 0x0000024CCE47E470>, <quara.protocol.qtomography.standard.loss_minimization_estimator.LossMinimizationEstimationResult object at 0x0000024CCE47E630>, <quara.protocol.qtomography.standard.loss_minimization_estimator.LossMinimizationEstimationResult object at 0x0000024CCE47E550>, <quara.protocol.qtomography.standard.loss_minimization_estimator.LossMinimizationEstimationResult object at 0x0000024CCE47E128>, <quara.protocol.qtomography.standard.loss_minimization_estimator.LossMinimizationEstimationResult object at 0x0000024CCE47E518>], [<quara.protocol.qtomography.standard.loss_minimization_estimator.LossMinimizationEstimationResult object at 0x0000024CCE47E780>, <quara.protocol.qtomography.standard.loss_minimization_estimator.LossMinimizationEstimationResult object at 0x0000024CCE47EA90>, <quara.protocol.qtomography.standard.loss_minimization_estimator.LossMinimizationEstimationResult object at 0x0000024CCE47EBE0>, <quara.protocol.qtomography.standard.loss_minimization_estimator.LossMinimizationEstimationResult object at 0x0000024CCE47ECC0>, <quara.protocol.qtomography.standard.loss_minimization_estimator.LossMinimizationEstimationResult object at 0x0000024CCE47E828>, <quara.protocol.qtomography.standard.loss_minimization_estimator.LossMinimizationEstimationResult object at 0x0000024CCE47EA58>, <quara.protocol.qtomography.standard.loss_minimization_estimator.LossMinimizationEstimationResult object at 0x0000024CCE47ED30>, <quara.protocol.qtomography.standard.loss_minimization_estimator.LossMinimizationEstimationResult object at 0x0000024CCE47ECF8>, <quara.protocol.qtomography.standard.loss_minimization_estimator.LossMinimizationEstimationResult object at 0x0000024CCE47EAC8>, <quara.protocol.qtomography.standard.loss_minimization_estimator.LossMinimizationEstimationResult object at 0x0000024CCE47EDA0>]], 'case_names': ['LinearEstimator(True)', 'LinearEstimator(False)', 'ProjectedLinearEstimator(True)', 'ProjectedLinearEstimator(False)', 'Maximum-Likelihood(True)', 'Maximum-Likelihood(False)', 'Least Squares(True)', 'Least Squares(False)'], 'true_object': <quara.objects.gate.Gate object at 0x0000024CC12EFDD8>}\n",
      "​​Generating physicality violation test blocks ...\n",
      "1\n",
      "=====================\n",
      "{'estimation_results': [<quara.protocol.qtomography.standard.linear_estimator.LinearEstimationResult object at 0x0000024CCC3EEFD0>, <quara.protocol.qtomography.standard.linear_estimator.LinearEstimationResult object at 0x0000024CCC3FC208>, <quara.protocol.qtomography.standard.linear_estimator.LinearEstimationResult object at 0x0000024CCC3FC0B8>, <quara.protocol.qtomography.standard.linear_estimator.LinearEstimationResult object at 0x0000024CCC3FC320>, <quara.protocol.qtomography.standard.linear_estimator.LinearEstimationResult object at 0x0000024CCC3FC278>, <quara.protocol.qtomography.standard.linear_estimator.LinearEstimationResult object at 0x0000024CCC3FC390>, <quara.protocol.qtomography.standard.linear_estimator.LinearEstimationResult object at 0x0000024CCC3FC2B0>, <quara.protocol.qtomography.standard.linear_estimator.LinearEstimationResult object at 0x0000024CCC3FC198>, <quara.protocol.qtomography.standard.linear_estimator.LinearEstimationResult object at 0x0000024CCC3FC438>, <quara.protocol.qtomography.standard.linear_estimator.LinearEstimationResult object at 0x0000024CCC3FC470>], 'case_id': 0, 'fig_type': 'physicality-violation-eq-trace-sum-error', 'size': (500, 400), 'make_graphs_func': <function make_graphs_trace_error_sum at 0x0000024CCBA68510>, 'col_n': 3}\n",
      "2\n",
      "1\n",
      "=====================\n",
      "{'estimation_results': [<quara.protocol.qtomography.standard.linear_estimator.LinearEstimationResult object at 0x0000024CCC3FC588>, <quara.protocol.qtomography.standard.linear_estimator.LinearEstimationResult object at 0x0000024CCC3FC710>, <quara.protocol.qtomography.standard.linear_estimator.LinearEstimationResult object at 0x0000024CCC3FC630>, <quara.protocol.qtomography.standard.linear_estimator.LinearEstimationResult object at 0x0000024CCC3FC780>, <quara.protocol.qtomography.standard.linear_estimator.LinearEstimationResult object at 0x0000024CCC3FC7F0>, <quara.protocol.qtomography.standard.linear_estimator.LinearEstimationResult object at 0x0000024CCC3FC828>, <quara.protocol.qtomography.standard.linear_estimator.LinearEstimationResult object at 0x0000024CCC3FC860>, <quara.protocol.qtomography.standard.linear_estimator.LinearEstimationResult object at 0x0000024CCC3FC898>, <quara.protocol.qtomography.standard.linear_estimator.LinearEstimationResult object at 0x0000024CCC3FC8D0>, <quara.protocol.qtomography.standard.linear_estimator.LinearEstimationResult object at 0x0000024CCC3FC908>], 'case_id': 1, 'fig_type': 'physicality-violation-eq-trace-sum-error', 'size': (500, 400), 'make_graphs_func': <function make_graphs_trace_error_sum at 0x0000024CCBA68510>, 'col_n': 3}\n",
      "2\n",
      "1\n",
      "=====================\n",
      "{'estimation_results': [<quara.protocol.qtomography.standard.projected_linear_estimator.ProjectedLinearEstimationResult object at 0x0000024CCC3FCB00>, <quara.protocol.qtomography.standard.projected_linear_estimator.ProjectedLinearEstimationResult object at 0x0000024CCC3FCB38>, <quara.protocol.qtomography.standard.projected_linear_estimator.ProjectedLinearEstimationResult object at 0x0000024CCC42FE48>, <quara.protocol.qtomography.standard.projected_linear_estimator.ProjectedLinearEstimationResult object at 0x0000024CCC42F518>, <quara.protocol.qtomography.standard.projected_linear_estimator.ProjectedLinearEstimationResult object at 0x0000024CCC42FA58>, <quara.protocol.qtomography.standard.projected_linear_estimator.ProjectedLinearEstimationResult object at 0x0000024CCC42F3C8>, <quara.protocol.qtomography.standard.projected_linear_estimator.ProjectedLinearEstimationResult object at 0x0000024CCC42F390>, <quara.protocol.qtomography.standard.projected_linear_estimator.ProjectedLinearEstimationResult object at 0x0000024CCC42FA90>, <quara.protocol.qtomography.standard.projected_linear_estimator.ProjectedLinearEstimationResult object at 0x0000024CCC42F4E0>, <quara.protocol.qtomography.standard.projected_linear_estimator.ProjectedLinearEstimationResult object at 0x0000024CCC42FFD0>], 'case_id': 2, 'fig_type': 'physicality-violation-eq-trace-sum-error', 'size': (500, 400), 'make_graphs_func': <function make_graphs_trace_error_sum at 0x0000024CCBA68510>, 'col_n': 3}\n",
      "2\n",
      "1\n",
      "=====================\n",
      "{'estimation_results': [<quara.protocol.qtomography.standard.projected_linear_estimator.ProjectedLinearEstimationResult object at 0x0000024CCC42FEB8>, <quara.protocol.qtomography.standard.projected_linear_estimator.ProjectedLinearEstimationResult object at 0x0000024CCC3FC978>, <quara.protocol.qtomography.standard.projected_linear_estimator.ProjectedLinearEstimationResult object at 0x0000024CCC3FCDD8>, <quara.protocol.qtomography.standard.projected_linear_estimator.ProjectedLinearEstimationResult object at 0x0000024CCC3FCDA0>, <quara.protocol.qtomography.standard.projected_linear_estimator.ProjectedLinearEstimationResult object at 0x0000024CCC3FCE80>, <quara.protocol.qtomography.standard.projected_linear_estimator.ProjectedLinearEstimationResult object at 0x0000024CCC3FCCF8>, <quara.protocol.qtomography.standard.projected_linear_estimator.ProjectedLinearEstimationResult object at 0x0000024CCC3FCF98>, <quara.protocol.qtomography.standard.projected_linear_estimator.ProjectedLinearEstimationResult object at 0x0000024CCC3EE048>, <quara.protocol.qtomography.standard.projected_linear_estimator.ProjectedLinearEstimationResult object at 0x0000024CCC3FCA20>, <quara.protocol.qtomography.standard.projected_linear_estimator.ProjectedLinearEstimationResult object at 0x0000024CCC3FCC50>], 'case_id': 3, 'fig_type': 'physicality-violation-eq-trace-sum-error', 'size': (500, 400), 'make_graphs_func': <function make_graphs_trace_error_sum at 0x0000024CCBA68510>, 'col_n': 3}\n",
      "2\n",
      "1\n",
      "=====================\n",
      "{'estimation_results': [<quara.protocol.qtomography.standard.loss_minimization_estimator.LossMinimizationEstimationResult object at 0x0000024CCC3FCBA8>, <quara.protocol.qtomography.standard.loss_minimization_estimator.LossMinimizationEstimationResult object at 0x0000024CCC3FC358>, <quara.protocol.qtomography.standard.loss_minimization_estimator.LossMinimizationEstimationResult object at 0x0000024CCC3FCFD0>, <quara.protocol.qtomography.standard.loss_minimization_estimator.LossMinimizationEstimationResult object at 0x0000024CCC3FCC88>, <quara.protocol.qtomography.standard.loss_minimization_estimator.LossMinimizationEstimationResult object at 0x0000024CCC42F2E8>, <quara.protocol.qtomography.standard.loss_minimization_estimator.LossMinimizationEstimationResult object at 0x0000024CCC3FCA58>, <quara.protocol.qtomography.standard.loss_minimization_estimator.LossMinimizationEstimationResult object at 0x0000024CCC42FF60>, <quara.protocol.qtomography.standard.loss_minimization_estimator.LossMinimizationEstimationResult object at 0x0000024CCC42F438>, <quara.protocol.qtomography.standard.loss_minimization_estimator.LossMinimizationEstimationResult object at 0x0000024CCC42F048>, <quara.protocol.qtomography.standard.loss_minimization_estimator.LossMinimizationEstimationResult object at 0x0000024CCC42FF28>], 'case_id': 4, 'fig_type': 'physicality-violation-eq-trace-sum-error', 'size': (500, 400), 'make_graphs_func': <function make_graphs_trace_error_sum at 0x0000024CCBA68510>, 'col_n': 3}\n",
      "2\n",
      "1\n",
      "=====================\n",
      "{'estimation_results': [<quara.protocol.qtomography.standard.loss_minimization_estimator.LossMinimizationEstimationResult object at 0x0000024CCC42F978>, <quara.protocol.qtomography.standard.loss_minimization_estimator.LossMinimizationEstimationResult object at 0x0000024CCC42FE10>, <quara.protocol.qtomography.standard.loss_minimization_estimator.LossMinimizationEstimationResult object at 0x0000024CCC42FBA8>, <quara.protocol.qtomography.standard.loss_minimization_estimator.LossMinimizationEstimationResult object at 0x0000024CCC42FD30>, <quara.protocol.qtomography.standard.loss_minimization_estimator.LossMinimizationEstimationResult object at 0x0000024CCC42F400>, <quara.protocol.qtomography.standard.loss_minimization_estimator.LossMinimizationEstimationResult object at 0x0000024CCC42F588>, <quara.protocol.qtomography.standard.loss_minimization_estimator.LossMinimizationEstimationResult object at 0x0000024CCC42F470>, <quara.protocol.qtomography.standard.loss_minimization_estimator.LossMinimizationEstimationResult object at 0x0000024CCC42F7F0>, <quara.protocol.qtomography.standard.loss_minimization_estimator.LossMinimizationEstimationResult object at 0x0000024CCC42F550>, <quara.protocol.qtomography.standard.loss_minimization_estimator.LossMinimizationEstimationResult object at 0x0000024CCC42FDA0>], 'case_id': 5, 'fig_type': 'physicality-violation-eq-trace-sum-error', 'size': (500, 400), 'make_graphs_func': <function make_graphs_trace_error_sum at 0x0000024CCBA68510>, 'col_n': 3}\n",
      "2\n",
      "1\n",
      "=====================\n",
      "{'estimation_results': [<quara.protocol.qtomography.standard.loss_minimization_estimator.LossMinimizationEstimationResult object at 0x0000024CCC42F940>, <quara.protocol.qtomography.standard.loss_minimization_estimator.LossMinimizationEstimationResult object at 0x0000024CCE47E2E8>, <quara.protocol.qtomography.standard.loss_minimization_estimator.LossMinimizationEstimationResult object at 0x0000024CCE47E588>, <quara.protocol.qtomography.standard.loss_minimization_estimator.LossMinimizationEstimationResult object at 0x0000024CCC42FCF8>, <quara.protocol.qtomography.standard.loss_minimization_estimator.LossMinimizationEstimationResult object at 0x0000024CCE47E4E0>, <quara.protocol.qtomography.standard.loss_minimization_estimator.LossMinimizationEstimationResult object at 0x0000024CCE47E470>, <quara.protocol.qtomography.standard.loss_minimization_estimator.LossMinimizationEstimationResult object at 0x0000024CCE47E630>, <quara.protocol.qtomography.standard.loss_minimization_estimator.LossMinimizationEstimationResult object at 0x0000024CCE47E550>, <quara.protocol.qtomography.standard.loss_minimization_estimator.LossMinimizationEstimationResult object at 0x0000024CCE47E128>, <quara.protocol.qtomography.standard.loss_minimization_estimator.LossMinimizationEstimationResult object at 0x0000024CCE47E518>], 'case_id': 6, 'fig_type': 'physicality-violation-eq-trace-sum-error', 'size': (500, 400), 'make_graphs_func': <function make_graphs_trace_error_sum at 0x0000024CCBA68510>, 'col_n': 3}\n",
      "2\n",
      "1\n",
      "=====================\n",
      "{'estimation_results': [<quara.protocol.qtomography.standard.loss_minimization_estimator.LossMinimizationEstimationResult object at 0x0000024CCE47E780>, <quara.protocol.qtomography.standard.loss_minimization_estimator.LossMinimizationEstimationResult object at 0x0000024CCE47EA90>, <quara.protocol.qtomography.standard.loss_minimization_estimator.LossMinimizationEstimationResult object at 0x0000024CCE47EBE0>, <quara.protocol.qtomography.standard.loss_minimization_estimator.LossMinimizationEstimationResult object at 0x0000024CCE47ECC0>, <quara.protocol.qtomography.standard.loss_minimization_estimator.LossMinimizationEstimationResult object at 0x0000024CCE47E828>, <quara.protocol.qtomography.standard.loss_minimization_estimator.LossMinimizationEstimationResult object at 0x0000024CCE47EA58>, <quara.protocol.qtomography.standard.loss_minimization_estimator.LossMinimizationEstimationResult object at 0x0000024CCE47ED30>, <quara.protocol.qtomography.standard.loss_minimization_estimator.LossMinimizationEstimationResult object at 0x0000024CCE47ECF8>, <quara.protocol.qtomography.standard.loss_minimization_estimator.LossMinimizationEstimationResult object at 0x0000024CCE47EAC8>, <quara.protocol.qtomography.standard.loss_minimization_estimator.LossMinimizationEstimationResult object at 0x0000024CCE47EDA0>], 'case_id': 7, 'fig_type': 'physicality-violation-eq-trace-sum-error', 'size': (500, 400), 'make_graphs_func': <function make_graphs_trace_error_sum at 0x0000024CCBA68510>, 'col_n': 3}\n",
      "2\n",
      "Converting to PDF report ...\n",
      "​Deleting temporary files ...\n",
      "Completed to export pdf. (qpt_nrep=10.pdf)\n"
     ]
    }
   ],
   "source": [
    "report.export_report(\n",
    "    \"qpt_nrep=10.pdf\",\n",
    "    estimation_results_list=estimation_results_list,\n",
    "    simulation_settings=simulation_settings,\n",
    "    true_object=true_object,\n",
    "    tester_objects=tester_states+tester_povms,\n",
    "    seed=seed,\n",
    "    computation_time=sum(elapsed_times)\n",
    ")"
   ]
  },
  {
   "cell_type": "code",
   "execution_count": 10,
   "metadata": {},
   "outputs": [
    {
     "name": "stderr",
     "output_type": "stream",
     "text": [
      "100%|██████████| 2/2 [00:00<00:00, 167.79it/s]\n",
      "100%|██████████| 2/2 [00:00<00:00, 2532.79it/s]"
     ]
    },
    {
     "name": "stdout",
     "output_type": "stream",
     "text": [
      "Case 0: LinearEstimator(True)\n"
     ]
    },
    {
     "name": "stderr",
     "output_type": "stream",
     "text": [
      "\n"
     ]
    },
    {
     "ename": "TypeError",
     "evalue": "Unsupported type combination! type=(<class 'quara.objects.gate.Gate'>, <class 'quara.objects.state.State'>)",
     "output_type": "error",
     "traceback": [
      "\u001b[0;31m---------------------------------------------------------------------------\u001b[0m",
      "\u001b[0;31mTypeError\u001b[0m                                 Traceback (most recent call last)",
      "\u001b[0;32m<ipython-input-10-e29dbb0bfa9d>\u001b[0m in \u001b[0;36m<module>\u001b[0;34m\u001b[0m\n\u001b[1;32m      5\u001b[0m     \u001b[0msim_check\u001b[0m \u001b[0;34m=\u001b[0m \u001b[0mStandardQTomographySimulationCheck\u001b[0m\u001b[0;34m(\u001b[0m\u001b[0msimulation_settings\u001b[0m\u001b[0;34m[\u001b[0m\u001b[0mi\u001b[0m\u001b[0;34m]\u001b[0m\u001b[0;34m,\u001b[0m \u001b[0mestimation_results_list\u001b[0m\u001b[0;34m[\u001b[0m\u001b[0mi\u001b[0m\u001b[0;34m]\u001b[0m\u001b[0;34m)\u001b[0m\u001b[0;34m\u001b[0m\u001b[0;34m\u001b[0m\u001b[0m\n\u001b[1;32m      6\u001b[0m     \u001b[0mprint\u001b[0m\u001b[0;34m(\u001b[0m\u001b[0;34mf\"Case {i}: {simulation_settings[i].name}\"\u001b[0m\u001b[0;34m)\u001b[0m\u001b[0;34m\u001b[0m\u001b[0;34m\u001b[0m\u001b[0m\n\u001b[0;32m----> 7\u001b[0;31m     \u001b[0mresult\u001b[0m \u001b[0;34m=\u001b[0m \u001b[0msim_check\u001b[0m\u001b[0;34m.\u001b[0m\u001b[0mexecute_all\u001b[0m\u001b[0;34m(\u001b[0m\u001b[0mshow_detail\u001b[0m\u001b[0;34m=\u001b[0m\u001b[0;32mFalse\u001b[0m\u001b[0;34m)\u001b[0m\u001b[0;34m\u001b[0m\u001b[0;34m\u001b[0m\u001b[0m\n\u001b[0m\u001b[1;32m      8\u001b[0m     \u001b[0mresults\u001b[0m\u001b[0;34m.\u001b[0m\u001b[0mappend\u001b[0m\u001b[0;34m(\u001b[0m\u001b[0mresult\u001b[0m\u001b[0;34m)\u001b[0m\u001b[0;34m\u001b[0m\u001b[0;34m\u001b[0m\u001b[0m\n\u001b[1;32m      9\u001b[0m     \u001b[0mprint\u001b[0m\u001b[0;34m(\u001b[0m\u001b[0;34m\"-==============================\"\u001b[0m\u001b[0;34m)\u001b[0m\u001b[0;34m\u001b[0m\u001b[0;34m\u001b[0m\u001b[0m\n",
      "\u001b[0;32m~/project/rcast/workspace/quara/quara/data_analysis/simulation_check.py\u001b[0m in \u001b[0;36mexecute_all\u001b[0;34m(self, consistency_check_eps, show_summary, show_detail)\u001b[0m\n\u001b[1;32m     49\u001b[0m         \u001b[0;31m# Consistency\u001b[0m\u001b[0;34m\u001b[0m\u001b[0;34m\u001b[0m\u001b[0;34m\u001b[0m\u001b[0m\n\u001b[1;32m     50\u001b[0m         \u001b[0mtest_names\u001b[0m\u001b[0;34m.\u001b[0m\u001b[0mappend\u001b[0m\u001b[0;34m(\u001b[0m\u001b[0;34m\"Consistency\"\u001b[0m\u001b[0;34m)\u001b[0m\u001b[0;34m\u001b[0m\u001b[0;34m\u001b[0m\u001b[0m\n\u001b[0;32m---> 51\u001b[0;31m         result = self.execute_consistency_check(\n\u001b[0m\u001b[1;32m     52\u001b[0m             \u001b[0meps\u001b[0m\u001b[0;34m=\u001b[0m\u001b[0mconsistency_check_eps\u001b[0m\u001b[0;34m,\u001b[0m \u001b[0mshow_detail\u001b[0m\u001b[0;34m=\u001b[0m\u001b[0mshow_detail\u001b[0m\u001b[0;34m\u001b[0m\u001b[0;34m\u001b[0m\u001b[0m\n\u001b[1;32m     53\u001b[0m         )\n",
      "\u001b[0;32m~/project/rcast/workspace/quara/quara/data_analysis/simulation_check.py\u001b[0m in \u001b[0;36mexecute_consistency_check\u001b[0;34m(self, eps, show_detail)\u001b[0m\n\u001b[1;32m     91\u001b[0m         \u001b[0mself\u001b[0m\u001b[0;34m,\u001b[0m \u001b[0meps\u001b[0m\u001b[0;34m:\u001b[0m \u001b[0mfloat\u001b[0m \u001b[0;34m=\u001b[0m \u001b[0;32mNone\u001b[0m\u001b[0;34m,\u001b[0m \u001b[0mshow_detail\u001b[0m\u001b[0;34m:\u001b[0m \u001b[0mbool\u001b[0m \u001b[0;34m=\u001b[0m \u001b[0;32mTrue\u001b[0m\u001b[0;34m\u001b[0m\u001b[0;34m\u001b[0m\u001b[0m\n\u001b[1;32m     92\u001b[0m     ) -> bool:\n\u001b[0;32m---> 93\u001b[0;31m         result = execute_consistency_check(\n\u001b[0m\u001b[1;32m     94\u001b[0m             \u001b[0msimulation_setting\u001b[0m\u001b[0;34m=\u001b[0m\u001b[0mself\u001b[0m\u001b[0;34m.\u001b[0m\u001b[0msimulation_setting\u001b[0m\u001b[0;34m,\u001b[0m\u001b[0;34m\u001b[0m\u001b[0;34m\u001b[0m\u001b[0m\n\u001b[1;32m     95\u001b[0m             \u001b[0mestimation_results\u001b[0m\u001b[0;34m=\u001b[0m\u001b[0mself\u001b[0m\u001b[0;34m.\u001b[0m\u001b[0mestimation_results\u001b[0m\u001b[0;34m,\u001b[0m\u001b[0;34m\u001b[0m\u001b[0;34m\u001b[0m\u001b[0m\n",
      "\u001b[0;32m~/project/rcast/workspace/quara/quara/data_analysis/consistency_check.py\u001b[0m in \u001b[0;36mexecute_consistency_check\u001b[0;34m(simulation_setting, estimation_results, eps, show_detail)\u001b[0m\n\u001b[1;32m     49\u001b[0m ) -> bool:\n\u001b[1;32m     50\u001b[0m     \u001b[0meps\u001b[0m \u001b[0;34m=\u001b[0m \u001b[0;36m10\u001b[0m \u001b[0;34m**\u001b[0m \u001b[0;34m(\u001b[0m\u001b[0;34m-\u001b[0m\u001b[0;36m16\u001b[0m\u001b[0;34m)\u001b[0m \u001b[0;32mif\u001b[0m \u001b[0meps\u001b[0m \u001b[0;32mis\u001b[0m \u001b[0;32mNone\u001b[0m \u001b[0;32melse\u001b[0m \u001b[0meps\u001b[0m\u001b[0;34m\u001b[0m\u001b[0;34m\u001b[0m\u001b[0m\n\u001b[0;32m---> 51\u001b[0;31m     result = calc_mse_of_true_estimated(\n\u001b[0m\u001b[1;32m     52\u001b[0m         \u001b[0mtrue_object\u001b[0m\u001b[0;34m=\u001b[0m\u001b[0msimulation_setting\u001b[0m\u001b[0;34m.\u001b[0m\u001b[0mtrue_object\u001b[0m\u001b[0;34m,\u001b[0m\u001b[0;34m\u001b[0m\u001b[0;34m\u001b[0m\u001b[0m\n\u001b[1;32m     53\u001b[0m         \u001b[0mqtomography\u001b[0m\u001b[0;34m=\u001b[0m\u001b[0mestimation_results\u001b[0m\u001b[0;34m[\u001b[0m\u001b[0;36m0\u001b[0m\u001b[0;34m]\u001b[0m\u001b[0;34m.\u001b[0m\u001b[0mqtomography\u001b[0m\u001b[0;34m,\u001b[0m\u001b[0;34m\u001b[0m\u001b[0;34m\u001b[0m\u001b[0m\n",
      "\u001b[0;32m~/project/rcast/workspace/quara/quara/data_analysis/consistency_check.py\u001b[0m in \u001b[0;36mcalc_mse_of_true_estimated\u001b[0;34m(true_object, qtomography, estimator, loss, loss_option, algo, algo_option)\u001b[0m\n\u001b[1;32m     15\u001b[0m     \u001b[0malgo_option\u001b[0m\u001b[0;34m:\u001b[0m \u001b[0;34m\"MinimizationAlgorithmOption\"\u001b[0m \u001b[0;34m=\u001b[0m \u001b[0;32mNone\u001b[0m\u001b[0;34m,\u001b[0m\u001b[0;34m\u001b[0m\u001b[0;34m\u001b[0m\u001b[0m\n\u001b[1;32m     16\u001b[0m ) -> float:\n\u001b[0;32m---> 17\u001b[0;31m     \u001b[0mtrue_prob_dists\u001b[0m \u001b[0;34m=\u001b[0m \u001b[0mqtomography\u001b[0m\u001b[0;34m.\u001b[0m\u001b[0mgenerate_prob_dists_sequence\u001b[0m\u001b[0;34m(\u001b[0m\u001b[0mtrue_object\u001b[0m\u001b[0;34m)\u001b[0m\u001b[0;34m\u001b[0m\u001b[0;34m\u001b[0m\u001b[0m\n\u001b[0m\u001b[1;32m     18\u001b[0m     \u001b[0mtmp_prob_dists\u001b[0m \u001b[0;34m=\u001b[0m \u001b[0;34m[\u001b[0m\u001b[0;34m]\u001b[0m\u001b[0;34m\u001b[0m\u001b[0;34m\u001b[0m\u001b[0m\n\u001b[1;32m     19\u001b[0m     \u001b[0;32mfor\u001b[0m \u001b[0mprob_dist\u001b[0m \u001b[0;32min\u001b[0m \u001b[0mtrue_prob_dists\u001b[0m\u001b[0;34m:\u001b[0m\u001b[0;34m\u001b[0m\u001b[0;34m\u001b[0m\u001b[0m\n",
      "\u001b[0;32m~/project/rcast/workspace/quara/quara/protocol/qtomography/standard/standard_qtomography.py\u001b[0m in \u001b[0;36mgenerate_prob_dists_sequence\u001b[0;34m(self, true_object)\u001b[0m\n\u001b[1;32m    408\u001b[0m             \u001b[0mgetattr\u001b[0m\u001b[0;34m(\u001b[0m\u001b[0mtmp_experiment\u001b[0m\u001b[0;34m,\u001b[0m \u001b[0mattribute_name\u001b[0m\u001b[0;34m)\u001b[0m\u001b[0;34m[\u001b[0m\u001b[0mtarget_index\u001b[0m\u001b[0;34m]\u001b[0m \u001b[0;34m=\u001b[0m \u001b[0mtrue_object\u001b[0m\u001b[0;34m\u001b[0m\u001b[0;34m\u001b[0m\u001b[0m\n\u001b[1;32m    409\u001b[0m \u001b[0;34m\u001b[0m\u001b[0m\n\u001b[0;32m--> 410\u001b[0;31m         \u001b[0mprob_dists_sequence_tmp\u001b[0m \u001b[0;34m=\u001b[0m \u001b[0mtmp_experiment\u001b[0m\u001b[0;34m.\u001b[0m\u001b[0mcalc_prob_dists\u001b[0m\u001b[0;34m(\u001b[0m\u001b[0;34m)\u001b[0m\u001b[0;34m\u001b[0m\u001b[0;34m\u001b[0m\u001b[0m\n\u001b[0m\u001b[1;32m    411\u001b[0m \u001b[0;34m\u001b[0m\u001b[0m\n\u001b[1;32m    412\u001b[0m         \u001b[0;32mreturn\u001b[0m \u001b[0mprob_dists_sequence_tmp\u001b[0m\u001b[0;34m\u001b[0m\u001b[0;34m\u001b[0m\u001b[0m\n",
      "\u001b[0;32m~/project/rcast/workspace/quara/quara/qcircuit/experiment.py\u001b[0m in \u001b[0;36mcalc_prob_dists\u001b[0;34m(self)\u001b[0m\n\u001b[1;32m    411\u001b[0m         \u001b[0mprob_dists\u001b[0m \u001b[0;34m=\u001b[0m \u001b[0;34m[\u001b[0m\u001b[0;34m]\u001b[0m\u001b[0;34m\u001b[0m\u001b[0;34m\u001b[0m\u001b[0m\n\u001b[1;32m    412\u001b[0m         \u001b[0;32mfor\u001b[0m \u001b[0mi\u001b[0m \u001b[0;32min\u001b[0m \u001b[0mrange\u001b[0m\u001b[0;34m(\u001b[0m\u001b[0mlen\u001b[0m\u001b[0;34m(\u001b[0m\u001b[0mself\u001b[0m\u001b[0;34m.\u001b[0m\u001b[0mschedules\u001b[0m\u001b[0;34m)\u001b[0m\u001b[0;34m)\u001b[0m\u001b[0;34m:\u001b[0m\u001b[0;34m\u001b[0m\u001b[0;34m\u001b[0m\u001b[0m\n\u001b[0;32m--> 413\u001b[0;31m             \u001b[0mr\u001b[0m \u001b[0;34m=\u001b[0m \u001b[0mself\u001b[0m\u001b[0;34m.\u001b[0m\u001b[0mcalc_prob_dist\u001b[0m\u001b[0;34m(\u001b[0m\u001b[0mi\u001b[0m\u001b[0;34m)\u001b[0m\u001b[0;34m\u001b[0m\u001b[0;34m\u001b[0m\u001b[0m\n\u001b[0m\u001b[1;32m    414\u001b[0m             \u001b[0mprob_dists\u001b[0m\u001b[0;34m.\u001b[0m\u001b[0mappend\u001b[0m\u001b[0;34m(\u001b[0m\u001b[0mr\u001b[0m\u001b[0;34m)\u001b[0m\u001b[0;34m\u001b[0m\u001b[0;34m\u001b[0m\u001b[0m\n\u001b[1;32m    415\u001b[0m         \u001b[0;32mreturn\u001b[0m \u001b[0mprob_dists\u001b[0m\u001b[0;34m\u001b[0m\u001b[0;34m\u001b[0m\u001b[0m\n",
      "\u001b[0;32m~/project/rcast/workspace/quara/quara/qcircuit/experiment.py\u001b[0m in \u001b[0;36mcalc_prob_dist\u001b[0;34m(self, schedule_index)\u001b[0m\n\u001b[1;32m    398\u001b[0m             \u001b[0mtargets\u001b[0m\u001b[0;34m.\u001b[0m\u001b[0mappendleft\u001b[0m\u001b[0;34m(\u001b[0m\u001b[0mtarget\u001b[0m\u001b[0;34m)\u001b[0m\u001b[0;34m\u001b[0m\u001b[0;34m\u001b[0m\u001b[0m\n\u001b[1;32m    399\u001b[0m \u001b[0;34m\u001b[0m\u001b[0m\n\u001b[0;32m--> 400\u001b[0;31m         \u001b[0mprob_dist\u001b[0m \u001b[0;34m=\u001b[0m \u001b[0mop\u001b[0m\u001b[0;34m.\u001b[0m\u001b[0mcomposite\u001b[0m\u001b[0;34m(\u001b[0m\u001b[0;34m*\u001b[0m\u001b[0mtargets\u001b[0m\u001b[0;34m)\u001b[0m\u001b[0;34m\u001b[0m\u001b[0;34m\u001b[0m\u001b[0m\n\u001b[0m\u001b[1;32m    401\u001b[0m         \u001b[0;32mreturn\u001b[0m \u001b[0mprob_dist\u001b[0m\u001b[0;34m\u001b[0m\u001b[0;34m\u001b[0m\u001b[0m\n\u001b[1;32m    402\u001b[0m \u001b[0;34m\u001b[0m\u001b[0m\n",
      "\u001b[0;32m~/project/rcast/workspace/quara/quara/objects/operators.py\u001b[0m in \u001b[0;36mcomposite\u001b[0;34m(*elements)\u001b[0m\n\u001b[1;32m    301\u001b[0m     \u001b[0mtemp\u001b[0m \u001b[0;34m=\u001b[0m \u001b[0melement_list\u001b[0m\u001b[0;34m[\u001b[0m\u001b[0;34m-\u001b[0m\u001b[0;36m1\u001b[0m\u001b[0;34m]\u001b[0m\u001b[0;34m\u001b[0m\u001b[0;34m\u001b[0m\u001b[0m\n\u001b[1;32m    302\u001b[0m     \u001b[0;32mfor\u001b[0m \u001b[0melem\u001b[0m \u001b[0;32min\u001b[0m \u001b[0mreversed\u001b[0m\u001b[0;34m(\u001b[0m\u001b[0melement_list\u001b[0m\u001b[0;34m[\u001b[0m\u001b[0;34m:\u001b[0m\u001b[0;34m-\u001b[0m\u001b[0;36m1\u001b[0m\u001b[0;34m]\u001b[0m\u001b[0;34m)\u001b[0m\u001b[0;34m:\u001b[0m\u001b[0;34m\u001b[0m\u001b[0;34m\u001b[0m\u001b[0m\n\u001b[0;32m--> 303\u001b[0;31m         \u001b[0mtemp\u001b[0m \u001b[0;34m=\u001b[0m \u001b[0m_composite\u001b[0m\u001b[0;34m(\u001b[0m\u001b[0melem\u001b[0m\u001b[0;34m,\u001b[0m \u001b[0mtemp\u001b[0m\u001b[0;34m)\u001b[0m\u001b[0;34m\u001b[0m\u001b[0;34m\u001b[0m\u001b[0m\n\u001b[0m\u001b[1;32m    304\u001b[0m     \u001b[0;32mreturn\u001b[0m \u001b[0mtemp\u001b[0m\u001b[0;34m\u001b[0m\u001b[0;34m\u001b[0m\u001b[0m\n\u001b[1;32m    305\u001b[0m \u001b[0;34m\u001b[0m\u001b[0m\n",
      "\u001b[0;32m~/project/rcast/workspace/quara/quara/objects/operators.py\u001b[0m in \u001b[0;36m_composite\u001b[0;34m(elem1, elem2)\u001b[0m\n\u001b[1;32m    332\u001b[0m         \u001b[0;32mreturn\u001b[0m \u001b[0mprob\u001b[0m\u001b[0;34m\u001b[0m\u001b[0;34m\u001b[0m\u001b[0m\n\u001b[1;32m    333\u001b[0m     \u001b[0;32melse\u001b[0m\u001b[0;34m:\u001b[0m\u001b[0;34m\u001b[0m\u001b[0;34m\u001b[0m\u001b[0m\n\u001b[0;32m--> 334\u001b[0;31m         raise TypeError(\n\u001b[0m\u001b[1;32m    335\u001b[0m             \u001b[0;34mf\"Unsupported type combination! type=({type(elem1)}, {type(elem2)})\"\u001b[0m\u001b[0;34m\u001b[0m\u001b[0;34m\u001b[0m\u001b[0m\n\u001b[1;32m    336\u001b[0m         )\n",
      "\u001b[0;31mTypeError\u001b[0m: Unsupported type combination! type=(<class 'quara.objects.gate.Gate'>, <class 'quara.objects.state.State'>)"
     ]
    }
   ],
   "source": [
    "from quara.data_analysis.simulation_check import StandardQTomographySimulationCheck\n",
    "\n",
    "results = []\n",
    "for i in range(len(simulation_settings)):\n",
    "    sim_check = StandardQTomographySimulationCheck(simulation_settings[i], estimation_results_list[i])\n",
    "    print(f\"Case {i}: {simulation_settings[i].name}\")\n",
    "    result = sim_check.execute_all(show_detail=False)\n",
    "    results.append(result)\n",
    "    print(\"-==============================\")\n",
    "    print()"
   ]
  },
  {
   "cell_type": "code",
   "execution_count": null,
   "metadata": {},
   "outputs": [],
   "source": []
  }
 ],
 "metadata": {
  "hide_input": false,
  "kernelspec": {
   "display_name": "quara_venv",
   "language": "python",
   "name": "quara_venv"
  },
  "language_info": {
   "codemirror_mode": {
    "name": "ipython",
    "version": 3
   },
   "file_extension": ".py",
   "mimetype": "text/x-python",
   "name": "python",
   "nbconvert_exporter": "python",
   "pygments_lexer": "ipython3",
   "version": "3.8.0"
  },
  "toc": {
   "base_numbering": 1,
   "nav_menu": {},
   "number_sections": true,
   "sideBar": true,
   "skip_h1_title": false,
   "title_cell": "Table of Contents",
   "title_sidebar": "Contents",
   "toc_cell": false,
   "toc_position": {},
   "toc_section_display": true,
   "toc_window_display": false
  },
  "varInspector": {
   "cols": {
    "lenName": 16,
    "lenType": 16,
    "lenVar": 40
   },
   "kernels_config": {
    "python": {
     "delete_cmd_postfix": "",
     "delete_cmd_prefix": "del ",
     "library": "var_list.py",
     "varRefreshCmd": "print(var_dic_list())"
    },
    "r": {
     "delete_cmd_postfix": ") ",
     "delete_cmd_prefix": "rm(",
     "library": "var_list.r",
     "varRefreshCmd": "cat(var_dic_list()) "
    }
   },
   "types_to_exclude": [
    "module",
    "function",
    "builtin_function_or_method",
    "instance",
    "_Feature"
   ],
   "window_display": false
  }
 },
 "nbformat": 4,
 "nbformat_minor": 4
}
