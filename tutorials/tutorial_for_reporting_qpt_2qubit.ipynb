{
 "cells": [
  {
   "cell_type": "code",
   "execution_count": 1,
   "metadata": {},
   "outputs": [],
   "source": [
    "# Qpt"
   ]
  },
  {
   "cell_type": "code",
   "execution_count": 2,
   "metadata": {},
   "outputs": [],
   "source": [
    "import pickle\n",
    "import time\n",
    "from typing import List\n",
    "import datetime as dt\n",
    "from pathlib import Path\n",
    "import itertools\n",
    "\n",
    "import numpy as np\n",
    "import pandas as pd\n",
    "import plotly.graph_objects as go\n",
    "import plotly.express as px\n",
    "\n",
    "from tqdm import tqdm\n",
    "\n",
    "import numpy.testing as npt\n",
    "\n",
    "from quara.data_analysis import data_analysis, physicality_violation_check, report\n",
    "from quara.data_analysis.projected_gradient_descent_backtracking import ProjectedGradientDescentBacktracking, ProjectedGradientDescentBacktrackingOption\n",
    "from quara.data_analysis.weighted_probability_based_squared_error import WeightedProbabilityBasedSquaredError, WeightedProbabilityBasedSquaredErrorOption\n",
    "from quara.data_analysis.weighted_relative_entropy import WeightedRelativeEntropy, WeightedRelativeEntropyOption\n",
    "from quara.objects.composite_system import CompositeSystem\n",
    "from quara.objects.elemental_system import ElementalSystem\n",
    "from quara.objects.matrix_basis import get_normalized_pauli_basis\n",
    "from quara.objects.state import (\n",
    "    State,\n",
    "    get_x0_1q,\n",
    "    get_x1_1q,\n",
    "    get_y0_1q,\n",
    "    get_y1_1q,\n",
    "    get_z0_1q,\n",
    "    get_z1_1q,\n",
    ")\n",
    "from quara.objects.povm import (\n",
    "    Povm,get_x_measurement,\n",
    "    get_y_measurement,\n",
    "    get_z_measurement\n",
    ")\n",
    "from quara.objects.gate import (\n",
    "    Gate, get_depolarizing_channel,\n",
    "    get_x_rotation,\n",
    "    get_amplitutde_damping_channel\n",
    ")\n",
    "from quara.objects.qoperation import QOperation\n",
    "from quara.protocol.qtomography.standard.standard_qpt import StandardQpt\n",
    "from quara.protocol.qtomography.standard.linear_estimator import LinearEstimator\n",
    "from quara.protocol.qtomography.standard.loss_minimization_estimator import LossMinimizationEstimator\n",
    "from quara.protocol.qtomography.standard.projected_linear_estimator import (\n",
    "    ProjectedLinearEstimator,\n",
    ")\n",
    "\n",
    "from quara.objects.operators import tensor_product\n",
    "\n",
    "from quara.data_analysis.simulation import SimulationSetting"
   ]
  },
  {
   "cell_type": "code",
   "execution_count": 3,
   "metadata": {},
   "outputs": [],
   "source": [
    "%load_ext autoreload\n",
    "%autoreload 2"
   ]
  },
  {
   "cell_type": "code",
   "execution_count": 4,
   "metadata": {},
   "outputs": [],
   "source": [
    "start_all = time.time()"
   ]
  },
  {
   "cell_type": "code",
   "execution_count": 5,
   "metadata": {},
   "outputs": [],
   "source": [
    "# setup system\n",
    "e_sys_1 = ElementalSystem(0, get_normalized_pauli_basis())\n",
    "c_sys_1 = CompositeSystem([e_sys_1])\n",
    "\n",
    "e_sys_2 = ElementalSystem(1, get_normalized_pauli_basis())\n",
    "c_sys_2 = CompositeSystem([e_sys_2])\n",
    "\n",
    "# Tester States\n",
    "tester_states = []\n",
    "\n",
    "# |+><+| |+i><+i| |0><0| |1><1|\n",
    "func_list = [get_x0_1q, get_y0_1q, get_z0_1q, get_z1_1q]\n",
    "\n",
    "for i, funcs in enumerate(itertools.product(func_list, func_list)):\n",
    "    state1 = funcs[0](c_sys_1)\n",
    "    state2 = funcs[1](c_sys_2)\n",
    "\n",
    "    state_2qubit = tensor_product(state1, state2)\n",
    "\n",
    "    tester_states.append(state_2qubit)\n",
    "\n",
    "# Tester POVMs\n",
    "tester_povms = []\n",
    "\n",
    "func_list = [get_x_measurement, get_y_measurement, get_z_measurement]\n",
    "\n",
    "for i, funcs in enumerate(itertools.product(func_list, func_list)):\n",
    "    povm1 = funcs[0](c_sys_1)\n",
    "    povm2 = funcs[1](c_sys_2)\n",
    "    \n",
    "    povm_2qubit = tensor_product(povm1, povm2)\n",
    "    tester_povms.append(povm_2qubit)"
   ]
  },
  {
   "cell_type": "code",
   "execution_count": 6,
   "metadata": {},
   "outputs": [],
   "source": [
    "# True Object\n",
    "true_objects = []\n",
    "\n",
    "i_gate_0 = get_depolarizing_channel(p=0, c_sys=c_sys_1)\n",
    "i_gate_1 = get_depolarizing_channel(p=0, c_sys=c_sys_2)\n",
    "gate_ii = tensor_product(i_gate_0, i_gate_1)\n",
    "\n",
    "true_objects.append(gate_ii)\n",
    "\n",
    "# true_objects.append(get_depolarizing_channel(p=0, c_sys=c_sys))\n",
    "# true_objects.append(get_depolarizing_channel(p=0.05, c_sys=c_sys))\n",
    "#true_objects.append(get_depolarizing_channel(p=1, c_sys=c_sys))\n",
    "#true_objects.append(get_x_rotation(theta=np.pi/2, c_sys=c_sys))\n",
    "#true_objects.append(get_x_rotation(theta=np.pi, c_sys=c_sys))\n",
    "#true_objects.append(get_amplitutde_damping_channel(gamma=0.1, c_sys=c_sys))\n",
    "\n",
    "true_object = true_objects[0]"
   ]
  },
  {
   "cell_type": "code",
   "execution_count": 7,
   "metadata": {},
   "outputs": [
    {
     "name": "stderr",
     "output_type": "stream",
     "text": [
      "100%|██████████| 10/10 [00:11<00:00,  1.20s/it]\n",
      "  0%|          | 0/10 [00:00<?, ?it/s]Name: LinearEstimator(True)\n",
      "Estimator: LinearEstimator\n",
      "Loss: None\n",
      "Algo: None\n",
      "elapsed_time:0.19992756446202595[min]\n",
      "\n",
      "100%|██████████| 10/10 [00:11<00:00,  1.18s/it]\n",
      "  0%|          | 0/10 [00:00<?, ?it/s]Name: LinearEstimator(False)\n",
      "Estimator: LinearEstimator\n",
      "Loss: None\n",
      "Algo: None\n",
      "elapsed_time:0.19696325063705444[min]\n",
      "\n",
      "100%|██████████| 10/10 [03:02<00:00, 18.24s/it]\n",
      "  0%|          | 0/10 [00:00<?, ?it/s]Name: ProjectedLinearEstimator(True)\n",
      "Estimator: ProjectedLinearEstimator\n",
      "Loss: None\n",
      "Algo: None\n",
      "elapsed_time:3.0398712595303854[min]\n",
      "\n",
      "100%|██████████| 10/10 [03:46<00:00, 22.63s/it]Name: ProjectedLinearEstimator(False)\n",
      "Estimator: ProjectedLinearEstimator\n",
      "Loss: None\n",
      "Algo: None\n",
      "elapsed_time:3.7716686407725017[min]\n",
      "\n",
      "Wall time: 7min 12s\n",
      "\n"
     ]
    }
   ],
   "source": [
    "%%time\n",
    "\n",
    "num_data = [100, 1000]\n",
    "n_rep = 10\n",
    "\n",
    "case_name_list = [\n",
    "    \"LinearEstimator(True)\",\n",
    "    \"LinearEstimator(False)\",\n",
    "    \"ProjectedLinearEstimator(True)\",\n",
    "    \"ProjectedLinearEstimator(False)\"\n",
    "]\n",
    "\n",
    "seed = 777\n",
    "qtomography_list = [\n",
    "    StandardQpt(tester_states, tester_povms, on_para_eq_constraint=True, seed=seed),\n",
    "    StandardQpt(tester_states, tester_povms, on_para_eq_constraint=False, seed=seed),\n",
    "    StandardQpt(tester_states, tester_povms, on_para_eq_constraint=True, seed=seed),\n",
    "    StandardQpt(tester_states, tester_povms, on_para_eq_constraint=False, seed=seed),\n",
    "]\n",
    "\n",
    "para_list = [\n",
    "    True,\n",
    "    False,\n",
    "    True,\n",
    "    False\n",
    "]\n",
    "\n",
    "estimator_list = [\n",
    "    LinearEstimator(),\n",
    "    LinearEstimator(),\n",
    "    ProjectedLinearEstimator(),\n",
    "    ProjectedLinearEstimator()\n",
    "]\n",
    "\n",
    "estimation_results_list = []\n",
    "elapsed_times = []\n",
    "simulation_settings = []\n",
    "\n",
    "for i, name in enumerate(case_name_list):\n",
    "    qtomography = qtomography_list[i]\n",
    "    estimator = estimator_list[i]\n",
    "    \n",
    "    start = time.time()\n",
    "    \n",
    "    estimation_results = data_analysis.estimate(\n",
    "        qtomography=qtomography,\n",
    "        true_object=true_object,\n",
    "        num_data=num_data,\n",
    "        estimator=estimator,\n",
    "        iteration=n_rep,\n",
    "    )\n",
    "\n",
    "    # stock settings of this simulation\n",
    "    simulation_setting = SimulationSetting(\n",
    "        name=name,\n",
    "        estimator=estimator\n",
    "    )\n",
    "    print(simulation_setting)\n",
    "    simulation_settings.append(simulation_setting)\n",
    "    \n",
    "    estimation_results_list.append(estimation_results)\n",
    "    \n",
    "    elapsed_time = time.time() - start\n",
    "    print(\"elapsed_time:{0}\".format(elapsed_time / 60) + \"[min]\\n\")\n",
    "    elapsed_times.append(elapsed_time)"
   ]
  },
  {
   "cell_type": "code",
   "execution_count": 8,
   "metadata": {},
   "outputs": [
    {
     "name": "stdout",
     "output_type": "stream",
     "text": [
      "  LinearEstimator(True)=[1.3708422222222247, 0.14853046666666697]\n",
      "  LinearEstimator(False)=[1.4793422222222243, 0.1520839555555559]\n",
      "  ProjectedLinearEstimator(True)=[0.2681056221569407, 0.027541120554054603]\n",
      "  ProjectedLinearEstimator(False)=[0.26313854010267146, 0.02882540069731826]\n"
     ]
    },
    {
     "data": {
      "application/vnd.plotly.v1+json": {
       "config": {
        "plotlyServerURL": "https://plot.ly"
       },
       "data": [
        {
         "error_y": {
          "array": [
           0.06697078587949298,
           0.008595813101932115
          ],
          "type": "data",
          "visible": true
         },
         "mode": "lines+markers",
         "name": "LinearEstimator(True)",
         "type": "scatter",
         "x": [
          100,
          1000
         ],
         "y": [
          1.3708422222222247,
          0.14853046666666697
         ]
        },
        {
         "error_y": {
          "array": [
           0.0885180259214561,
           0.01024464423317144
          ],
          "type": "data",
          "visible": true
         },
         "mode": "lines+markers",
         "name": "LinearEstimator(False)",
         "type": "scatter",
         "x": [
          100,
          1000
         ],
         "y": [
          1.4793422222222243,
          0.1520839555555559
         ]
        },
        {
         "error_y": {
          "array": [
           0.02752062635485227,
           0.0021025477431505855
          ],
          "type": "data",
          "visible": true
         },
         "mode": "lines+markers",
         "name": "ProjectedLinearEstimator(True)",
         "type": "scatter",
         "x": [
          100,
          1000
         ],
         "y": [
          0.2681056221569407,
          0.027541120554054603
         ]
        },
        {
         "error_y": {
          "array": [
           0.034886960809836394,
           0.002278476929077112
          ],
          "type": "data",
          "visible": true
         },
         "mode": "lines+markers",
         "name": "ProjectedLinearEstimator(False)",
         "type": "scatter",
         "x": [
          100,
          1000
         ],
         "y": [
          0.26313854010267146,
          0.02882540069731826
         ]
        }
       ],
       "layout": {
        "template": {
         "data": {
          "bar": [
           {
            "error_x": {
             "color": "#2a3f5f"
            },
            "error_y": {
             "color": "#2a3f5f"
            },
            "marker": {
             "line": {
              "color": "#E5ECF6",
              "width": 0.5
             }
            },
            "type": "bar"
           }
          ],
          "barpolar": [
           {
            "marker": {
             "line": {
              "color": "#E5ECF6",
              "width": 0.5
             }
            },
            "type": "barpolar"
           }
          ],
          "carpet": [
           {
            "aaxis": {
             "endlinecolor": "#2a3f5f",
             "gridcolor": "white",
             "linecolor": "white",
             "minorgridcolor": "white",
             "startlinecolor": "#2a3f5f"
            },
            "baxis": {
             "endlinecolor": "#2a3f5f",
             "gridcolor": "white",
             "linecolor": "white",
             "minorgridcolor": "white",
             "startlinecolor": "#2a3f5f"
            },
            "type": "carpet"
           }
          ],
          "choropleth": [
           {
            "colorbar": {
             "outlinewidth": 0,
             "ticks": ""
            },
            "type": "choropleth"
           }
          ],
          "contour": [
           {
            "colorbar": {
             "outlinewidth": 0,
             "ticks": ""
            },
            "colorscale": [
             [
              0,
              "#0d0887"
             ],
             [
              0.1111111111111111,
              "#46039f"
             ],
             [
              0.2222222222222222,
              "#7201a8"
             ],
             [
              0.3333333333333333,
              "#9c179e"
             ],
             [
              0.4444444444444444,
              "#bd3786"
             ],
             [
              0.5555555555555556,
              "#d8576b"
             ],
             [
              0.6666666666666666,
              "#ed7953"
             ],
             [
              0.7777777777777778,
              "#fb9f3a"
             ],
             [
              0.8888888888888888,
              "#fdca26"
             ],
             [
              1,
              "#f0f921"
             ]
            ],
            "type": "contour"
           }
          ],
          "contourcarpet": [
           {
            "colorbar": {
             "outlinewidth": 0,
             "ticks": ""
            },
            "type": "contourcarpet"
           }
          ],
          "heatmap": [
           {
            "colorbar": {
             "outlinewidth": 0,
             "ticks": ""
            },
            "colorscale": [
             [
              0,
              "#0d0887"
             ],
             [
              0.1111111111111111,
              "#46039f"
             ],
             [
              0.2222222222222222,
              "#7201a8"
             ],
             [
              0.3333333333333333,
              "#9c179e"
             ],
             [
              0.4444444444444444,
              "#bd3786"
             ],
             [
              0.5555555555555556,
              "#d8576b"
             ],
             [
              0.6666666666666666,
              "#ed7953"
             ],
             [
              0.7777777777777778,
              "#fb9f3a"
             ],
             [
              0.8888888888888888,
              "#fdca26"
             ],
             [
              1,
              "#f0f921"
             ]
            ],
            "type": "heatmap"
           }
          ],
          "heatmapgl": [
           {
            "colorbar": {
             "outlinewidth": 0,
             "ticks": ""
            },
            "colorscale": [
             [
              0,
              "#0d0887"
             ],
             [
              0.1111111111111111,
              "#46039f"
             ],
             [
              0.2222222222222222,
              "#7201a8"
             ],
             [
              0.3333333333333333,
              "#9c179e"
             ],
             [
              0.4444444444444444,
              "#bd3786"
             ],
             [
              0.5555555555555556,
              "#d8576b"
             ],
             [
              0.6666666666666666,
              "#ed7953"
             ],
             [
              0.7777777777777778,
              "#fb9f3a"
             ],
             [
              0.8888888888888888,
              "#fdca26"
             ],
             [
              1,
              "#f0f921"
             ]
            ],
            "type": "heatmapgl"
           }
          ],
          "histogram": [
           {
            "marker": {
             "colorbar": {
              "outlinewidth": 0,
              "ticks": ""
             }
            },
            "type": "histogram"
           }
          ],
          "histogram2d": [
           {
            "colorbar": {
             "outlinewidth": 0,
             "ticks": ""
            },
            "colorscale": [
             [
              0,
              "#0d0887"
             ],
             [
              0.1111111111111111,
              "#46039f"
             ],
             [
              0.2222222222222222,
              "#7201a8"
             ],
             [
              0.3333333333333333,
              "#9c179e"
             ],
             [
              0.4444444444444444,
              "#bd3786"
             ],
             [
              0.5555555555555556,
              "#d8576b"
             ],
             [
              0.6666666666666666,
              "#ed7953"
             ],
             [
              0.7777777777777778,
              "#fb9f3a"
             ],
             [
              0.8888888888888888,
              "#fdca26"
             ],
             [
              1,
              "#f0f921"
             ]
            ],
            "type": "histogram2d"
           }
          ],
          "histogram2dcontour": [
           {
            "colorbar": {
             "outlinewidth": 0,
             "ticks": ""
            },
            "colorscale": [
             [
              0,
              "#0d0887"
             ],
             [
              0.1111111111111111,
              "#46039f"
             ],
             [
              0.2222222222222222,
              "#7201a8"
             ],
             [
              0.3333333333333333,
              "#9c179e"
             ],
             [
              0.4444444444444444,
              "#bd3786"
             ],
             [
              0.5555555555555556,
              "#d8576b"
             ],
             [
              0.6666666666666666,
              "#ed7953"
             ],
             [
              0.7777777777777778,
              "#fb9f3a"
             ],
             [
              0.8888888888888888,
              "#fdca26"
             ],
             [
              1,
              "#f0f921"
             ]
            ],
            "type": "histogram2dcontour"
           }
          ],
          "mesh3d": [
           {
            "colorbar": {
             "outlinewidth": 0,
             "ticks": ""
            },
            "type": "mesh3d"
           }
          ],
          "parcoords": [
           {
            "line": {
             "colorbar": {
              "outlinewidth": 0,
              "ticks": ""
             }
            },
            "type": "parcoords"
           }
          ],
          "pie": [
           {
            "automargin": true,
            "type": "pie"
           }
          ],
          "scatter": [
           {
            "marker": {
             "colorbar": {
              "outlinewidth": 0,
              "ticks": ""
             }
            },
            "type": "scatter"
           }
          ],
          "scatter3d": [
           {
            "line": {
             "colorbar": {
              "outlinewidth": 0,
              "ticks": ""
             }
            },
            "marker": {
             "colorbar": {
              "outlinewidth": 0,
              "ticks": ""
             }
            },
            "type": "scatter3d"
           }
          ],
          "scattercarpet": [
           {
            "marker": {
             "colorbar": {
              "outlinewidth": 0,
              "ticks": ""
             }
            },
            "type": "scattercarpet"
           }
          ],
          "scattergeo": [
           {
            "marker": {
             "colorbar": {
              "outlinewidth": 0,
              "ticks": ""
             }
            },
            "type": "scattergeo"
           }
          ],
          "scattergl": [
           {
            "marker": {
             "colorbar": {
              "outlinewidth": 0,
              "ticks": ""
             }
            },
            "type": "scattergl"
           }
          ],
          "scattermapbox": [
           {
            "marker": {
             "colorbar": {
              "outlinewidth": 0,
              "ticks": ""
             }
            },
            "type": "scattermapbox"
           }
          ],
          "scatterpolar": [
           {
            "marker": {
             "colorbar": {
              "outlinewidth": 0,
              "ticks": ""
             }
            },
            "type": "scatterpolar"
           }
          ],
          "scatterpolargl": [
           {
            "marker": {
             "colorbar": {
              "outlinewidth": 0,
              "ticks": ""
             }
            },
            "type": "scatterpolargl"
           }
          ],
          "scatterternary": [
           {
            "marker": {
             "colorbar": {
              "outlinewidth": 0,
              "ticks": ""
             }
            },
            "type": "scatterternary"
           }
          ],
          "surface": [
           {
            "colorbar": {
             "outlinewidth": 0,
             "ticks": ""
            },
            "colorscale": [
             [
              0,
              "#0d0887"
             ],
             [
              0.1111111111111111,
              "#46039f"
             ],
             [
              0.2222222222222222,
              "#7201a8"
             ],
             [
              0.3333333333333333,
              "#9c179e"
             ],
             [
              0.4444444444444444,
              "#bd3786"
             ],
             [
              0.5555555555555556,
              "#d8576b"
             ],
             [
              0.6666666666666666,
              "#ed7953"
             ],
             [
              0.7777777777777778,
              "#fb9f3a"
             ],
             [
              0.8888888888888888,
              "#fdca26"
             ],
             [
              1,
              "#f0f921"
             ]
            ],
            "type": "surface"
           }
          ],
          "table": [
           {
            "cells": {
             "fill": {
              "color": "#EBF0F8"
             },
             "line": {
              "color": "white"
             }
            },
            "header": {
             "fill": {
              "color": "#C8D4E3"
             },
             "line": {
              "color": "white"
             }
            },
            "type": "table"
           }
          ]
         },
         "layout": {
          "annotationdefaults": {
           "arrowcolor": "#2a3f5f",
           "arrowhead": 0,
           "arrowwidth": 1
          },
          "autotypenumbers": "strict",
          "coloraxis": {
           "colorbar": {
            "outlinewidth": 0,
            "ticks": ""
           }
          },
          "colorscale": {
           "diverging": [
            [
             0,
             "#8e0152"
            ],
            [
             0.1,
             "#c51b7d"
            ],
            [
             0.2,
             "#de77ae"
            ],
            [
             0.3,
             "#f1b6da"
            ],
            [
             0.4,
             "#fde0ef"
            ],
            [
             0.5,
             "#f7f7f7"
            ],
            [
             0.6,
             "#e6f5d0"
            ],
            [
             0.7,
             "#b8e186"
            ],
            [
             0.8,
             "#7fbc41"
            ],
            [
             0.9,
             "#4d9221"
            ],
            [
             1,
             "#276419"
            ]
           ],
           "sequential": [
            [
             0,
             "#0d0887"
            ],
            [
             0.1111111111111111,
             "#46039f"
            ],
            [
             0.2222222222222222,
             "#7201a8"
            ],
            [
             0.3333333333333333,
             "#9c179e"
            ],
            [
             0.4444444444444444,
             "#bd3786"
            ],
            [
             0.5555555555555556,
             "#d8576b"
            ],
            [
             0.6666666666666666,
             "#ed7953"
            ],
            [
             0.7777777777777778,
             "#fb9f3a"
            ],
            [
             0.8888888888888888,
             "#fdca26"
            ],
            [
             1,
             "#f0f921"
            ]
           ],
           "sequentialminus": [
            [
             0,
             "#0d0887"
            ],
            [
             0.1111111111111111,
             "#46039f"
            ],
            [
             0.2222222222222222,
             "#7201a8"
            ],
            [
             0.3333333333333333,
             "#9c179e"
            ],
            [
             0.4444444444444444,
             "#bd3786"
            ],
            [
             0.5555555555555556,
             "#d8576b"
            ],
            [
             0.6666666666666666,
             "#ed7953"
            ],
            [
             0.7777777777777778,
             "#fb9f3a"
            ],
            [
             0.8888888888888888,
             "#fdca26"
            ],
            [
             1,
             "#f0f921"
            ]
           ]
          },
          "colorway": [
           "#636efa",
           "#EF553B",
           "#00cc96",
           "#ab63fa",
           "#FFA15A",
           "#19d3f3",
           "#FF6692",
           "#B6E880",
           "#FF97FF",
           "#FECB52"
          ],
          "font": {
           "color": "#2a3f5f"
          },
          "geo": {
           "bgcolor": "white",
           "lakecolor": "white",
           "landcolor": "#E5ECF6",
           "showlakes": true,
           "showland": true,
           "subunitcolor": "white"
          },
          "hoverlabel": {
           "align": "left"
          },
          "hovermode": "closest",
          "mapbox": {
           "style": "light"
          },
          "paper_bgcolor": "white",
          "plot_bgcolor": "#E5ECF6",
          "polar": {
           "angularaxis": {
            "gridcolor": "white",
            "linecolor": "white",
            "ticks": ""
           },
           "bgcolor": "#E5ECF6",
           "radialaxis": {
            "gridcolor": "white",
            "linecolor": "white",
            "ticks": ""
           }
          },
          "scene": {
           "xaxis": {
            "backgroundcolor": "#E5ECF6",
            "gridcolor": "white",
            "gridwidth": 2,
            "linecolor": "white",
            "showbackground": true,
            "ticks": "",
            "zerolinecolor": "white"
           },
           "yaxis": {
            "backgroundcolor": "#E5ECF6",
            "gridcolor": "white",
            "gridwidth": 2,
            "linecolor": "white",
            "showbackground": true,
            "ticks": "",
            "zerolinecolor": "white"
           },
           "zaxis": {
            "backgroundcolor": "#E5ECF6",
            "gridcolor": "white",
            "gridwidth": 2,
            "linecolor": "white",
            "showbackground": true,
            "ticks": "",
            "zerolinecolor": "white"
           }
          },
          "shapedefaults": {
           "line": {
            "color": "#2a3f5f"
           }
          },
          "ternary": {
           "aaxis": {
            "gridcolor": "white",
            "linecolor": "white",
            "ticks": ""
           },
           "baxis": {
            "gridcolor": "white",
            "linecolor": "white",
            "ticks": ""
           },
           "bgcolor": "#E5ECF6",
           "caxis": {
            "gridcolor": "white",
            "linecolor": "white",
            "ticks": ""
           }
          },
          "title": {
           "x": 0.05
          },
          "xaxis": {
           "automargin": true,
           "gridcolor": "white",
           "linecolor": "white",
           "ticks": "",
           "title": {
            "standoff": 15
           },
           "zerolinecolor": "white",
           "zerolinewidth": 2
          },
          "yaxis": {
           "automargin": true,
           "gridcolor": "white",
           "linecolor": "white",
           "ticks": "",
           "title": {
            "standoff": 15
           },
           "zerolinecolor": "white",
           "zerolinewidth": 2
          }
         }
        },
        "title": {
         "text": "Mean squared error"
        },
        "xaxis": {
         "title": {
          "text": "Number of data"
         },
         "type": "log"
        },
        "yaxis": {
         "title": {
          "text": "Mean squared error of estimates and true"
         },
         "type": "log"
        }
       }
      }
     },
     "metadata": {},
     "output_type": "display_data"
    }
   ],
   "source": [
    "fig = data_analysis.make_mses_graph_estimation_results(\n",
    "    estimation_results_list,\n",
    "    case_name_list,\n",
    "    true_object,\n",
    ")\n",
    "fig.show()"
   ]
  },
  {
   "cell_type": "code",
   "execution_count": 9,
   "metadata": {},
   "outputs": [
    {
     "name": "stderr",
     "output_type": "stream",
     "text": [
      "100%|██████████| 10/10 [00:00<00:00, 9986.44it/s]\n",
      "  0%|          | 0/10 [00:00<?, ?it/s]​Generating table of computation time ...\n",
      "​Generating table of tolerance of physicality constraint violation ...\n",
      "​Generating table of experimental conditions ...\n",
      "Generating case list ...\n",
      "Computation time of estimators ...\n",
      "​​Generating MSE of empirical distributions blocks ...\n",
      "100%|██████████| 10/10 [00:00<?, ?it/s]\n",
      "​​Generating consictency test blocks ...\n",
      "estimator=<quara.protocol.qtomography.standard.linear_estimator.LinearEstimator object at 0x00000245C390B9B0>\n",
      "estimator=<quara.protocol.qtomography.standard.linear_estimator.LinearEstimator object at 0x00000245C390BCC0>\n",
      "estimator=<quara.protocol.qtomography.standard.projected_linear_estimator.ProjectedLinearEstimator object at 0x00000245C3B2D940>\n",
      "estimator=<quara.protocol.qtomography.standard.projected_linear_estimator.ProjectedLinearEstimator object at 0x00000245C3B2D6D8>\n",
      "​Generating a graph for MSE ...\n",
      "  LinearEstimator(True)=[1.3708422222222247, 0.14853046666666697]\n",
      "  LinearEstimator(False)=[1.4793422222222243, 0.1520839555555559]\n",
      "  ProjectedLinearEstimator(True)=[0.2681056221569407, 0.027541120554054603]\n",
      "  ProjectedLinearEstimator(False)=[0.26313854010267146, 0.02882540069731826]\n",
      "{'make_graphs_func': <function make_mses_graphs_estimator at 0x00000245C0B64B70>, 'mse_type': 'estimator', 'estimation_results_list': [[<quara.protocol.qtomography.standard.linear_estimator.LinearEstimationResult object at 0x00000245C390B828>, <quara.protocol.qtomography.standard.linear_estimator.LinearEstimationResult object at 0x00000245C390B940>, <quara.protocol.qtomography.standard.linear_estimator.LinearEstimationResult object at 0x00000245C390B668>, <quara.protocol.qtomography.standard.linear_estimator.LinearEstimationResult object at 0x00000245C390B9E8>, <quara.protocol.qtomography.standard.linear_estimator.LinearEstimationResult object at 0x00000245C390B710>, <quara.protocol.qtomography.standard.linear_estimator.LinearEstimationResult object at 0x00000245C390BAC8>, <quara.protocol.qtomography.standard.linear_estimator.LinearEstimationResult object at 0x00000245C390B8D0>, <quara.protocol.qtomography.standard.linear_estimator.LinearEstimationResult object at 0x00000245C390BB38>, <quara.protocol.qtomography.standard.linear_estimator.LinearEstimationResult object at 0x00000245C390B6A0>, <quara.protocol.qtomography.standard.linear_estimator.LinearEstimationResult object at 0x00000245C390BBA8>], [<quara.protocol.qtomography.standard.linear_estimator.LinearEstimationResult object at 0x00000245C390BA90>, <quara.protocol.qtomography.standard.linear_estimator.LinearEstimationResult object at 0x00000245C390BD68>, <quara.protocol.qtomography.standard.linear_estimator.LinearEstimationResult object at 0x00000245C390BDA0>, <quara.protocol.qtomography.standard.linear_estimator.LinearEstimationResult object at 0x00000245C390BE80>, <quara.protocol.qtomography.standard.linear_estimator.LinearEstimationResult object at 0x00000245C390BEF0>, <quara.protocol.qtomography.standard.linear_estimator.LinearEstimationResult object at 0x00000245C390BD30>, <quara.protocol.qtomography.standard.linear_estimator.LinearEstimationResult object at 0x00000245C390BE48>, <quara.protocol.qtomography.standard.linear_estimator.LinearEstimationResult object at 0x00000245C390BF98>, <quara.protocol.qtomography.standard.linear_estimator.LinearEstimationResult object at 0x00000245C390BE10>, <quara.protocol.qtomography.standard.linear_estimator.LinearEstimationResult object at 0x00000245C390BFD0>], [<quara.protocol.qtomography.standard.projected_linear_estimator.ProjectedLinearEstimationResult object at 0x00000245C3B2D160>, <quara.protocol.qtomography.standard.projected_linear_estimator.ProjectedLinearEstimationResult object at 0x00000245C3B2D668>, <quara.protocol.qtomography.standard.projected_linear_estimator.ProjectedLinearEstimationResult object at 0x00000245C3B2DFD0>, <quara.protocol.qtomography.standard.projected_linear_estimator.ProjectedLinearEstimationResult object at 0x00000245C3B2DB38>, <quara.protocol.qtomography.standard.projected_linear_estimator.ProjectedLinearEstimationResult object at 0x00000245C3B2D400>, <quara.protocol.qtomography.standard.projected_linear_estimator.ProjectedLinearEstimationResult object at 0x00000245C3B2D630>, <quara.protocol.qtomography.standard.projected_linear_estimator.ProjectedLinearEstimationResult object at 0x00000245C3B2D2E8>, <quara.protocol.qtomography.standard.projected_linear_estimator.ProjectedLinearEstimationResult object at 0x00000245C3B2D320>, <quara.protocol.qtomography.standard.projected_linear_estimator.ProjectedLinearEstimationResult object at 0x00000245C3B2D860>, <quara.protocol.qtomography.standard.projected_linear_estimator.ProjectedLinearEstimationResult object at 0x00000245C3B2DDD8>], [<quara.protocol.qtomography.standard.projected_linear_estimator.ProjectedLinearEstimationResult object at 0x00000245C3B2DF28>, <quara.protocol.qtomography.standard.projected_linear_estimator.ProjectedLinearEstimationResult object at 0x00000245C3B2D588>, <quara.protocol.qtomography.standard.projected_linear_estimator.ProjectedLinearEstimationResult object at 0x00000245C3B2DC18>, <quara.protocol.qtomography.standard.projected_linear_estimator.ProjectedLinearEstimationResult object at 0x00000245C3B2DEB8>, <quara.protocol.qtomography.standard.projected_linear_estimator.ProjectedLinearEstimationResult object at 0x00000245C3B2D9E8>, <quara.protocol.qtomography.standard.projected_linear_estimator.ProjectedLinearEstimationResult object at 0x00000245C3B2D898>, <quara.protocol.qtomography.standard.projected_linear_estimator.ProjectedLinearEstimationResult object at 0x00000245C3B2DC88>, <quara.protocol.qtomography.standard.projected_linear_estimator.ProjectedLinearEstimationResult object at 0x00000245C3B2D5C0>, <quara.protocol.qtomography.standard.projected_linear_estimator.ProjectedLinearEstimationResult object at 0x00000245C3B2DCF8>, <quara.protocol.qtomography.standard.projected_linear_estimator.ProjectedLinearEstimationResult object at 0x00000245C3B2D278>]], 'simulation_settings': [<quara.data_analysis.simulation.SimulationSetting object at 0x00000245C390BB70>, <quara.data_analysis.simulation.SimulationSetting object at 0x00000245C390BEB8>, <quara.data_analysis.simulation.SimulationSetting object at 0x00000245C14DA7B8>, <quara.data_analysis.simulation.SimulationSetting object at 0x00000245C3B2DD30>], 'true_object': <quara.objects.gate.Gate object at 0x00000245C1492898>}\n",
      "  LinearEstimator(True)=[1.3708422222222247, 0.14853046666666697]\n",
      "  ProjectedLinearEstimator(True)=[0.2681056221569407, 0.027541120554054603]\n",
      "  LinearEstimator(False)=[1.4793422222222243, 0.1520839555555559]\n",
      "  ProjectedLinearEstimator(False)=[0.26313854010267146, 0.02882540069731826]\n",
      "{'make_graphs_func': <function make_mses_graphs_para at 0x00000245C0B64AE8>, 'mse_type': 'para', 'estimation_results_list': [[<quara.protocol.qtomography.standard.linear_estimator.LinearEstimationResult object at 0x00000245C390B828>, <quara.protocol.qtomography.standard.linear_estimator.LinearEstimationResult object at 0x00000245C390B940>, <quara.protocol.qtomography.standard.linear_estimator.LinearEstimationResult object at 0x00000245C390B668>, <quara.protocol.qtomography.standard.linear_estimator.LinearEstimationResult object at 0x00000245C390B9E8>, <quara.protocol.qtomography.standard.linear_estimator.LinearEstimationResult object at 0x00000245C390B710>, <quara.protocol.qtomography.standard.linear_estimator.LinearEstimationResult object at 0x00000245C390BAC8>, <quara.protocol.qtomography.standard.linear_estimator.LinearEstimationResult object at 0x00000245C390B8D0>, <quara.protocol.qtomography.standard.linear_estimator.LinearEstimationResult object at 0x00000245C390BB38>, <quara.protocol.qtomography.standard.linear_estimator.LinearEstimationResult object at 0x00000245C390B6A0>, <quara.protocol.qtomography.standard.linear_estimator.LinearEstimationResult object at 0x00000245C390BBA8>], [<quara.protocol.qtomography.standard.linear_estimator.LinearEstimationResult object at 0x00000245C390BA90>, <quara.protocol.qtomography.standard.linear_estimator.LinearEstimationResult object at 0x00000245C390BD68>, <quara.protocol.qtomography.standard.linear_estimator.LinearEstimationResult object at 0x00000245C390BDA0>, <quara.protocol.qtomography.standard.linear_estimator.LinearEstimationResult object at 0x00000245C390BE80>, <quara.protocol.qtomography.standard.linear_estimator.LinearEstimationResult object at 0x00000245C390BEF0>, <quara.protocol.qtomography.standard.linear_estimator.LinearEstimationResult object at 0x00000245C390BD30>, <quara.protocol.qtomography.standard.linear_estimator.LinearEstimationResult object at 0x00000245C390BE48>, <quara.protocol.qtomography.standard.linear_estimator.LinearEstimationResult object at 0x00000245C390BF98>, <quara.protocol.qtomography.standard.linear_estimator.LinearEstimationResult object at 0x00000245C390BE10>, <quara.protocol.qtomography.standard.linear_estimator.LinearEstimationResult object at 0x00000245C390BFD0>], [<quara.protocol.qtomography.standard.projected_linear_estimator.ProjectedLinearEstimationResult object at 0x00000245C3B2D160>, <quara.protocol.qtomography.standard.projected_linear_estimator.ProjectedLinearEstimationResult object at 0x00000245C3B2D668>, <quara.protocol.qtomography.standard.projected_linear_estimator.ProjectedLinearEstimationResult object at 0x00000245C3B2DFD0>, <quara.protocol.qtomography.standard.projected_linear_estimator.ProjectedLinearEstimationResult object at 0x00000245C3B2DB38>, <quara.protocol.qtomography.standard.projected_linear_estimator.ProjectedLinearEstimationResult object at 0x00000245C3B2D400>, <quara.protocol.qtomography.standard.projected_linear_estimator.ProjectedLinearEstimationResult object at 0x00000245C3B2D630>, <quara.protocol.qtomography.standard.projected_linear_estimator.ProjectedLinearEstimationResult object at 0x00000245C3B2D2E8>, <quara.protocol.qtomography.standard.projected_linear_estimator.ProjectedLinearEstimationResult object at 0x00000245C3B2D320>, <quara.protocol.qtomography.standard.projected_linear_estimator.ProjectedLinearEstimationResult object at 0x00000245C3B2D860>, <quara.protocol.qtomography.standard.projected_linear_estimator.ProjectedLinearEstimationResult object at 0x00000245C3B2DDD8>], [<quara.protocol.qtomography.standard.projected_linear_estimator.ProjectedLinearEstimationResult object at 0x00000245C3B2DF28>, <quara.protocol.qtomography.standard.projected_linear_estimator.ProjectedLinearEstimationResult object at 0x00000245C3B2D588>, <quara.protocol.qtomography.standard.projected_linear_estimator.ProjectedLinearEstimationResult object at 0x00000245C3B2DC18>, <quara.protocol.qtomography.standard.projected_linear_estimator.ProjectedLinearEstimationResult object at 0x00000245C3B2DEB8>, <quara.protocol.qtomography.standard.projected_linear_estimator.ProjectedLinearEstimationResult object at 0x00000245C3B2D9E8>, <quara.protocol.qtomography.standard.projected_linear_estimator.ProjectedLinearEstimationResult object at 0x00000245C3B2D898>, <quara.protocol.qtomography.standard.projected_linear_estimator.ProjectedLinearEstimationResult object at 0x00000245C3B2DC88>, <quara.protocol.qtomography.standard.projected_linear_estimator.ProjectedLinearEstimationResult object at 0x00000245C3B2D5C0>, <quara.protocol.qtomography.standard.projected_linear_estimator.ProjectedLinearEstimationResult object at 0x00000245C3B2DCF8>, <quara.protocol.qtomography.standard.projected_linear_estimator.ProjectedLinearEstimationResult object at 0x00000245C3B2D278>]], 'case_names': ['LinearEstimator(True)', 'LinearEstimator(False)', 'ProjectedLinearEstimator(True)', 'ProjectedLinearEstimator(False)'], 'true_object': <quara.objects.gate.Gate object at 0x00000245C1492898>}\n",
      "​​Generating physicality violation test blocks ...\n",
      "1\n",
      "=====================\n",
      "{'estimation_results': [<quara.protocol.qtomography.standard.linear_estimator.LinearEstimationResult object at 0x00000245C390B828>, <quara.protocol.qtomography.standard.linear_estimator.LinearEstimationResult object at 0x00000245C390B940>, <quara.protocol.qtomography.standard.linear_estimator.LinearEstimationResult object at 0x00000245C390B668>, <quara.protocol.qtomography.standard.linear_estimator.LinearEstimationResult object at 0x00000245C390B9E8>, <quara.protocol.qtomography.standard.linear_estimator.LinearEstimationResult object at 0x00000245C390B710>, <quara.protocol.qtomography.standard.linear_estimator.LinearEstimationResult object at 0x00000245C390BAC8>, <quara.protocol.qtomography.standard.linear_estimator.LinearEstimationResult object at 0x00000245C390B8D0>, <quara.protocol.qtomography.standard.linear_estimator.LinearEstimationResult object at 0x00000245C390BB38>, <quara.protocol.qtomography.standard.linear_estimator.LinearEstimationResult object at 0x00000245C390B6A0>, <quara.protocol.qtomography.standard.linear_estimator.LinearEstimationResult object at 0x00000245C390BBA8>], 'case_id': 0, 'fig_type': 'physicality-violation-eq-trace-sum-error', 'size': (500, 400), 'make_graphs_func': <function make_graphs_trace_error_sum at 0x00000245C0B79510>, 'col_n': 2}\n",
      "2\n",
      "1\n",
      "=====================\n",
      "{'estimation_results': [<quara.protocol.qtomography.standard.linear_estimator.LinearEstimationResult object at 0x00000245C390BA90>, <quara.protocol.qtomography.standard.linear_estimator.LinearEstimationResult object at 0x00000245C390BD68>, <quara.protocol.qtomography.standard.linear_estimator.LinearEstimationResult object at 0x00000245C390BDA0>, <quara.protocol.qtomography.standard.linear_estimator.LinearEstimationResult object at 0x00000245C390BE80>, <quara.protocol.qtomography.standard.linear_estimator.LinearEstimationResult object at 0x00000245C390BEF0>, <quara.protocol.qtomography.standard.linear_estimator.LinearEstimationResult object at 0x00000245C390BD30>, <quara.protocol.qtomography.standard.linear_estimator.LinearEstimationResult object at 0x00000245C390BE48>, <quara.protocol.qtomography.standard.linear_estimator.LinearEstimationResult object at 0x00000245C390BF98>, <quara.protocol.qtomography.standard.linear_estimator.LinearEstimationResult object at 0x00000245C390BE10>, <quara.protocol.qtomography.standard.linear_estimator.LinearEstimationResult object at 0x00000245C390BFD0>], 'case_id': 1, 'fig_type': 'physicality-violation-eq-trace-sum-error', 'size': (500, 400), 'make_graphs_func': <function make_graphs_trace_error_sum at 0x00000245C0B79510>, 'col_n': 2}\n",
      "2\n",
      "1\n",
      "=====================\n",
      "{'estimation_results': [<quara.protocol.qtomography.standard.projected_linear_estimator.ProjectedLinearEstimationResult object at 0x00000245C3B2D160>, <quara.protocol.qtomography.standard.projected_linear_estimator.ProjectedLinearEstimationResult object at 0x00000245C3B2D668>, <quara.protocol.qtomography.standard.projected_linear_estimator.ProjectedLinearEstimationResult object at 0x00000245C3B2DFD0>, <quara.protocol.qtomography.standard.projected_linear_estimator.ProjectedLinearEstimationResult object at 0x00000245C3B2DB38>, <quara.protocol.qtomography.standard.projected_linear_estimator.ProjectedLinearEstimationResult object at 0x00000245C3B2D400>, <quara.protocol.qtomography.standard.projected_linear_estimator.ProjectedLinearEstimationResult object at 0x00000245C3B2D630>, <quara.protocol.qtomography.standard.projected_linear_estimator.ProjectedLinearEstimationResult object at 0x00000245C3B2D2E8>, <quara.protocol.qtomography.standard.projected_linear_estimator.ProjectedLinearEstimationResult object at 0x00000245C3B2D320>, <quara.protocol.qtomography.standard.projected_linear_estimator.ProjectedLinearEstimationResult object at 0x00000245C3B2D860>, <quara.protocol.qtomography.standard.projected_linear_estimator.ProjectedLinearEstimationResult object at 0x00000245C3B2DDD8>], 'case_id': 2, 'fig_type': 'physicality-violation-eq-trace-sum-error', 'size': (500, 400), 'make_graphs_func': <function make_graphs_trace_error_sum at 0x00000245C0B79510>, 'col_n': 2}\n",
      "2\n",
      "1\n",
      "=====================\n",
      "{'estimation_results': [<quara.protocol.qtomography.standard.projected_linear_estimator.ProjectedLinearEstimationResult object at 0x00000245C3B2DF28>, <quara.protocol.qtomography.standard.projected_linear_estimator.ProjectedLinearEstimationResult object at 0x00000245C3B2D588>, <quara.protocol.qtomography.standard.projected_linear_estimator.ProjectedLinearEstimationResult object at 0x00000245C3B2DC18>, <quara.protocol.qtomography.standard.projected_linear_estimator.ProjectedLinearEstimationResult object at 0x00000245C3B2DEB8>, <quara.protocol.qtomography.standard.projected_linear_estimator.ProjectedLinearEstimationResult object at 0x00000245C3B2D9E8>, <quara.protocol.qtomography.standard.projected_linear_estimator.ProjectedLinearEstimationResult object at 0x00000245C3B2D898>, <quara.protocol.qtomography.standard.projected_linear_estimator.ProjectedLinearEstimationResult object at 0x00000245C3B2DC88>, <quara.protocol.qtomography.standard.projected_linear_estimator.ProjectedLinearEstimationResult object at 0x00000245C3B2D5C0>, <quara.protocol.qtomography.standard.projected_linear_estimator.ProjectedLinearEstimationResult object at 0x00000245C3B2DCF8>, <quara.protocol.qtomography.standard.projected_linear_estimator.ProjectedLinearEstimationResult object at 0x00000245C3B2D278>], 'case_id': 3, 'fig_type': 'physicality-violation-eq-trace-sum-error', 'size': (500, 400), 'make_graphs_func': <function make_graphs_trace_error_sum at 0x00000245C0B79510>, 'col_n': 2}\n",
      "2\n",
      "Converting to PDF report ...\n",
      "​Deleting temporary files ...\n",
      "Completed to export pdf. (qpt_2qubit_nrep=2.pdf)\n",
      "Wall time: 1min 36s\n"
     ]
    }
   ],
   "source": [
    "%%time\n",
    "\n",
    "report.export_report(\n",
    "    \"qpt_2qubit_nrep=2.pdf\",\n",
    "    estimation_results_list=estimation_results_list,\n",
    "    simulation_settings=simulation_settings,\n",
    "    true_object=true_object,\n",
    "    tester_objects=tester_states + tester_povms,\n",
    "    seed=seed,\n",
    "    computation_time=sum(elapsed_times)\n",
    ")"
   ]
  },
  {
   "cell_type": "code",
   "execution_count": 10,
   "metadata": {},
   "outputs": [
    {
     "name": "stdout",
     "output_type": "stream",
     "text": [
      "elapsed_time(All): 8.892365916570027[min]\n",
      "\n"
     ]
    }
   ],
   "source": [
    "all_elapsed_time = time.time() - start_all\n",
    "print(\"elapsed_time(All): {0}\".format(all_elapsed_time / 60) + \"[min]\\n\")"
   ]
  }
 ],
 "metadata": {
  "hide_input": false,
  "kernelspec": {
   "display_name": "Python 3",
   "language": "python",
   "name": "python3"
  },
  "language_info": {
   "codemirror_mode": {
    "name": "ipython",
    "version": 3
   },
   "file_extension": ".py",
   "mimetype": "text/x-python",
   "name": "python",
   "nbconvert_exporter": "python",
   "pygments_lexer": "ipython3",
   "version": "3.6.8-final"
  },
  "toc": {
   "base_numbering": 1,
   "nav_menu": {},
   "number_sections": true,
   "sideBar": true,
   "skip_h1_title": false,
   "title_cell": "Table of Contents",
   "title_sidebar": "Contents",
   "toc_cell": false,
   "toc_position": {},
   "toc_section_display": true,
   "toc_window_display": false
  },
  "varInspector": {
   "cols": {
    "lenName": 16,
    "lenType": 16,
    "lenVar": 40
   },
   "kernels_config": {
    "python": {
     "delete_cmd_postfix": "",
     "delete_cmd_prefix": "del ",
     "library": "var_list.py",
     "varRefreshCmd": "print(var_dic_list())"
    },
    "r": {
     "delete_cmd_postfix": ") ",
     "delete_cmd_prefix": "rm(",
     "library": "var_list.r",
     "varRefreshCmd": "cat(var_dic_list()) "
    }
   },
   "types_to_exclude": [
    "module",
    "function",
    "builtin_function_or_method",
    "instance",
    "_Feature"
   ],
   "window_display": false
  }
 },
 "nbformat": 4,
 "nbformat_minor": 4
}
