{
 "cells": [
  {
   "cell_type": "code",
   "execution_count": 1,
   "metadata": {},
   "outputs": [],
   "source": [
    "# Qpt"
   ]
  },
  {
   "cell_type": "code",
   "execution_count": 1,
   "metadata": {},
   "outputs": [],
   "source": [
    "import pickle\n",
    "import time\n",
    "from typing import List\n",
    "import datetime as dt\n",
    "from pathlib import Path\n",
    "import itertools\n",
    "\n",
    "import numpy as np\n",
    "import pandas as pd\n",
    "import plotly.graph_objects as go\n",
    "import plotly.express as px\n",
    "\n",
    "from tqdm import tqdm\n",
    "\n",
    "import numpy.testing as npt\n",
    "\n",
    "from quara.data_analysis import data_analysis, physicality_violation_check, report\n",
    "from quara.data_analysis.projected_gradient_descent_base import ProjectedGradientDescentBase, ProjectedGradientDescentBaseOption\n",
    "from quara.data_analysis.weighted_probability_based_squared_error import WeightedProbabilityBasedSquaredError, WeightedProbabilityBasedSquaredErrorOption\n",
    "from quara.data_analysis.weighted_relative_entropy import WeightedRelativeEntropy, WeightedRelativeEntropyOption\n",
    "from quara.objects.composite_system import CompositeSystem\n",
    "from quara.objects.elemental_system import ElementalSystem\n",
    "from quara.objects.matrix_basis import get_normalized_pauli_basis\n",
    "from quara.objects.state import (\n",
    "    State,\n",
    "    get_x0_1q,\n",
    "    get_x1_1q,\n",
    "    get_y0_1q,\n",
    "    get_y1_1q,\n",
    "    get_z0_1q,\n",
    "    get_z1_1q,\n",
    ")\n",
    "from quara.objects.povm import (\n",
    "    Povm,get_x_measurement,\n",
    "    get_y_measurement,\n",
    "    get_z_measurement\n",
    ")\n",
    "from quara.objects.gate import (\n",
    "    Gate, get_depolarizing_channel,\n",
    "    get_x_rotation,\n",
    "    get_amplitutde_damping_channel\n",
    ")\n",
    "from quara.objects.qoperation import QOperation\n",
    "from quara.protocol.qtomography.standard.standard_qpt import StandardQpt\n",
    "from quara.protocol.qtomography.standard.linear_estimator import LinearEstimator\n",
    "from quara.protocol.qtomography.standard.loss_minimization_estimator import LossMinimizationEstimator\n",
    "from quara.protocol.qtomography.standard.projected_linear_estimator import (\n",
    "    ProjectedLinearEstimator,\n",
    ")\n",
    "\n",
    "from quara.objects.operators import tensor_product\n",
    "\n",
    "from quara.data_analysis.simulation import SimulationSetting"
   ]
  },
  {
   "cell_type": "code",
   "execution_count": 4,
   "metadata": {},
   "outputs": [],
   "source": [
    "%load_ext autoreload\n",
    "%autoreload 2"
   ]
  },
  {
   "cell_type": "code",
   "execution_count": 5,
   "metadata": {},
   "outputs": [],
   "source": [
    "start_all = time.time()"
   ]
  },
  {
   "cell_type": "code",
   "execution_count": 6,
   "metadata": {},
   "outputs": [],
   "source": [
    "# setup system\n",
    "e_sys_1 = ElementalSystem(0, get_normalized_pauli_basis())\n",
    "c_sys_1 = CompositeSystem([e_sys_1])\n",
    "\n",
    "e_sys_2 = ElementalSystem(1, get_normalized_pauli_basis())\n",
    "c_sys_2 = CompositeSystem([e_sys_2])\n",
    "\n",
    "# Tester States\n",
    "tester_states = []\n",
    "\n",
    "# |+><+| |+i><+i| |0><0| |1><1|\n",
    "func_list = [get_x0_1q, get_y0_1q, get_z0_1q, get_z1_1q]\n",
    "\n",
    "for i, funcs in enumerate(itertools.product(func_list, func_list)):\n",
    "    state1 = funcs[0](c_sys_1)\n",
    "    state2 = funcs[1](c_sys_2)\n",
    "\n",
    "    state_2qubit = tensor_product(state1, state2)\n",
    "\n",
    "    tester_states.append(state_2qubit)\n",
    "\n",
    "# Tester POVMs\n",
    "tester_povms = []\n",
    "\n",
    "func_list = [get_x_measurement, get_y_measurement, get_z_measurement]\n",
    "\n",
    "for i, funcs in enumerate(itertools.product(func_list, func_list)):\n",
    "    povm1 = funcs[0](c_sys_1)\n",
    "    povm2 = funcs[1](c_sys_2)\n",
    "    \n",
    "    povm_2qubit = tensor_product(povm1, povm2)\n",
    "    tester_povms.append(povm_2qubit)"
   ]
  },
  {
   "cell_type": "code",
   "execution_count": 7,
   "metadata": {},
   "outputs": [],
   "source": [
    "# True Object\n",
    "true_objects = []\n",
    "\n",
    "i_gate_0 = get_depolarizing_channel(p=0, c_sys=c_sys_1)\n",
    "i_gate_1 = get_depolarizing_channel(p=0, c_sys=c_sys_2)\n",
    "gate_ii = tensor_product(i_gate_0, i_gate_1)\n",
    "\n",
    "true_objects.append(gate_ii)\n",
    "\n",
    "# true_objects.append(get_depolarizing_channel(p=0, c_sys=c_sys))\n",
    "# true_objects.append(get_depolarizing_channel(p=0.05, c_sys=c_sys))\n",
    "#true_objects.append(get_depolarizing_channel(p=1, c_sys=c_sys))\n",
    "#true_objects.append(get_x_rotation(theta=np.pi/2, c_sys=c_sys))\n",
    "#true_objects.append(get_x_rotation(theta=np.pi, c_sys=c_sys))\n",
    "#true_objects.append(get_amplitutde_damping_channel(gamma=0.1, c_sys=c_sys))\n",
    "\n",
    "true_object = true_objects[0]"
   ]
  },
  {
   "cell_type": "code",
   "execution_count": 8,
   "metadata": {},
   "outputs": [
    {
     "name": "stderr",
     "output_type": "stream",
     "text": [
      "100%|██████████| 2/2 [00:14<00:00,  7.41s/it]\n",
      "  0%|          | 0/2 [00:00<?, ?it/s]"
     ]
    },
    {
     "name": "stdout",
     "output_type": "stream",
     "text": [
      "Name: LinearEstimator(True)\n",
      "Estimator: LinearEstimator\n",
      "Loss: None\n",
      "Algo: None\n",
      "elapsed_time:0.2477269967397054[min]\n",
      "\n"
     ]
    },
    {
     "name": "stderr",
     "output_type": "stream",
     "text": [
      "100%|██████████| 2/2 [00:15<00:00,  7.87s/it]\n",
      "  0%|          | 0/2 [00:00<?, ?it/s]"
     ]
    },
    {
     "name": "stdout",
     "output_type": "stream",
     "text": [
      "Name: LinearEstimator(False)\n",
      "Estimator: LinearEstimator\n",
      "Loss: None\n",
      "Algo: None\n",
      "elapsed_time:0.26259989738464357[min]\n",
      "\n"
     ]
    },
    {
     "name": "stderr",
     "output_type": "stream",
     "text": [
      "100%|██████████| 2/2 [02:21<00:00, 70.82s/it]\n",
      "  0%|          | 0/2 [00:00<?, ?it/s]"
     ]
    },
    {
     "name": "stdout",
     "output_type": "stream",
     "text": [
      "Name: ProjectedLinearEstimator(True)\n",
      "Estimator: ProjectedLinearEstimator\n",
      "Loss: None\n",
      "Algo: None\n",
      "elapsed_time:2.3609150846799216[min]\n",
      "\n"
     ]
    },
    {
     "name": "stderr",
     "output_type": "stream",
     "text": [
      "100%|██████████| 2/2 [01:46<00:00, 53.47s/it]"
     ]
    },
    {
     "name": "stdout",
     "output_type": "stream",
     "text": [
      "Name: ProjectedLinearEstimator(False)\n",
      "Estimator: ProjectedLinearEstimator\n",
      "Loss: None\n",
      "Algo: None\n",
      "elapsed_time:1.7823363622029622[min]\n",
      "\n"
     ]
    },
    {
     "name": "stderr",
     "output_type": "stream",
     "text": [
      "\n"
     ]
    }
   ],
   "source": [
    "%%time\n",
    "\n",
    "num_data = [100, 1000]\n",
    "n_rep = 10\n",
    "\n",
    "case_name_list = [\n",
    "    \"LinearEstimator(True)\",\n",
    "    \"LinearEstimator(False)\",\n",
    "    \"ProjectedLinearEstimator(True)\",\n",
    "    \"ProjectedLinearEstimator(False)\"\n",
    "]\n",
    "\n",
    "seed = 777\n",
    "qtomography_list = [\n",
    "    StandardQpt(tester_states, tester_povms, on_para_eq_constraint=True, seed=seed),\n",
    "    StandardQpt(tester_states, tester_povms, on_para_eq_constraint=False, seed=seed),\n",
    "    StandardQpt(tester_states, tester_povms, on_para_eq_constraint=True, seed=seed),\n",
    "    StandardQpt(tester_states, tester_povms, on_para_eq_constraint=False, seed=seed),\n",
    "]\n",
    "\n",
    "para_list = [\n",
    "    True,\n",
    "    False,\n",
    "    True,\n",
    "    False\n",
    "]\n",
    "\n",
    "estimator_list = [\n",
    "    LinearEstimator(),\n",
    "    LinearEstimator(),\n",
    "    ProjectedLinearEstimator(),\n",
    "    ProjectedLinearEstimator()\n",
    "]\n",
    "\n",
    "estimation_results_list = []\n",
    "elapsed_times = []\n",
    "simulation_settings = []\n",
    "\n",
    "for i, name in enumerate(case_name_list):\n",
    "    qtomography = qtomography_list[i]\n",
    "    estimator = estimator_list[i]\n",
    "    \n",
    "    start = time.time()\n",
    "    \n",
    "    estimation_results = data_analysis.estimate(\n",
    "        qtomography=qtomography,\n",
    "        true_object=true_object,\n",
    "        num_data=num_data,\n",
    "        estimator=estimator,\n",
    "        iteration=n_rep,\n",
    "    )\n",
    "\n",
    "    # stock settings of this simulation\n",
    "    simulation_setting = SimulationSetting(\n",
    "        name=name,\n",
    "        estimator=estimator\n",
    "    )\n",
    "    print(simulation_setting)\n",
    "    simulation_settings.append(simulation_setting)\n",
    "    \n",
    "    estimation_results_list.append(estimation_results)\n",
    "    \n",
    "    elapsed_time = time.time() - start\n",
    "    print(\"elapsed_time:{0}\".format(elapsed_time / 60) + \"[min]\\n\")\n",
    "    elapsed_times.append(elapsed_time)"
   ]
  },
  {
   "cell_type": "code",
   "execution_count": null,
   "metadata": {},
   "outputs": [],
   "source": [
    "fig = data_analysis.make_mses_graph_estimation_results(\n",
    "    estimation_results_list,\n",
    "    case_name_list,\n",
    "    true_object,\n",
    ")\n",
    "fig.show()"
   ]
  },
  {
   "cell_type": "code",
   "execution_count": 18,
   "metadata": {},
   "outputs": [
    {
     "name": "stdout",
     "output_type": "stream",
     "text": [
      "​Generating table of computation time ...\n",
      "​Generating table of experimental conditions ...\n"
     ]
    },
    {
     "name": "stderr",
     "output_type": "stream",
     "text": [
      "100%|██████████| 2/2 [00:00<00:00, 1073.54it/s]\n",
      "100%|██████████| 2/2 [00:00<00:00, 1672.37it/s]\n",
      "100%|██████████| 2/2 [00:00<00:00, 719.13it/s]"
     ]
    },
    {
     "name": "stdout",
     "output_type": "stream",
     "text": [
      "Generating case list ...\n",
      "​​Generating MSE of empirical distributions blocks ...\n"
     ]
    },
    {
     "name": "stderr",
     "output_type": "stream",
     "text": [
      "\n"
     ]
    },
    {
     "name": "stdout",
     "output_type": "stream",
     "text": [
      "​​Generating consictency test blocks ...\n",
      "​Generating a graph for MSE ...\n",
      "  LinearEstimator(True)=[1.3703999999999996, 0.12622633333333327, 0.014464587777777971]\n",
      "  LinearEstimator(False)=[1.415788888888889, 0.1741738888888891, 0.013109125555555514]\n",
      "  ProjectedLinearEstimator(True)=[0.2555316927027017, 0.03577509717668311, 0.0028219816792513413]\n",
      "  ProjectedLinearEstimator(False)=[0.2552675073929075, 0.0312129550363947, 0.0034177568929792696]\n",
      "{'make_graphs_func': <function make_mses_graphs_estimator at 0x1171ae9d0>, 'mse_type': 'estimator', 'estimation_results_list': [[<quara.protocol.qtomography.standard.linear_estimator.LinearEstimationResult object at 0x11a2ffa90>, <quara.protocol.qtomography.standard.linear_estimator.LinearEstimationResult object at 0x11a2ffa00>], [<quara.protocol.qtomography.standard.linear_estimator.LinearEstimationResult object at 0x11a2ff8e0>, <quara.protocol.qtomography.standard.linear_estimator.LinearEstimationResult object at 0x11a2ff880>], [<quara.protocol.qtomography.standard.projected_linear_estimator.ProjectedLinearEstimationResult object at 0x11aa72d30>, <quara.protocol.qtomography.standard.projected_linear_estimator.ProjectedLinearEstimationResult object at 0x11aa6c640>], [<quara.protocol.qtomography.standard.projected_linear_estimator.ProjectedLinearEstimationResult object at 0x11aa65f70>, <quara.protocol.qtomography.standard.projected_linear_estimator.ProjectedLinearEstimationResult object at 0x11aa7e550>]], 'simulation_settings': [<quara.data_analysis.simulation.SimulationSetting object at 0x117f75dc0>, <quara.data_analysis.simulation.SimulationSetting object at 0x11a2ffaf0>, <quara.data_analysis.simulation.SimulationSetting object at 0x11a2ffb20>, <quara.data_analysis.simulation.SimulationSetting object at 0x11a2ff9d0>], 'true_object': <quara.objects.gate.Gate object at 0x117f23670>}\n",
      "  LinearEstimator(True)=[1.3703999999999996, 0.12622633333333327, 0.014464587777777971]\n",
      "  ProjectedLinearEstimator(True)=[0.2555316927027017, 0.03577509717668311, 0.0028219816792513413]\n",
      "  LinearEstimator(False)=[1.415788888888889, 0.1741738888888891, 0.013109125555555514]\n",
      "  ProjectedLinearEstimator(False)=[0.2552675073929075, 0.0312129550363947, 0.0034177568929792696]\n",
      "{'make_graphs_func': <function make_mses_graphs_para at 0x1171aea60>, 'mse_type': 'para', 'estimation_results_list': [[<quara.protocol.qtomography.standard.linear_estimator.LinearEstimationResult object at 0x11a2ffa90>, <quara.protocol.qtomography.standard.linear_estimator.LinearEstimationResult object at 0x11a2ffa00>], [<quara.protocol.qtomography.standard.linear_estimator.LinearEstimationResult object at 0x11a2ff8e0>, <quara.protocol.qtomography.standard.linear_estimator.LinearEstimationResult object at 0x11a2ff880>], [<quara.protocol.qtomography.standard.projected_linear_estimator.ProjectedLinearEstimationResult object at 0x11aa72d30>, <quara.protocol.qtomography.standard.projected_linear_estimator.ProjectedLinearEstimationResult object at 0x11aa6c640>], [<quara.protocol.qtomography.standard.projected_linear_estimator.ProjectedLinearEstimationResult object at 0x11aa65f70>, <quara.protocol.qtomography.standard.projected_linear_estimator.ProjectedLinearEstimationResult object at 0x11aa7e550>]], 'case_names': ['LinearEstimator(True)', 'LinearEstimator(False)', 'ProjectedLinearEstimator(True)', 'ProjectedLinearEstimator(False)'], 'true_object': <quara.objects.gate.Gate object at 0x117f23670>}\n",
      "​​Generating physicality violation test blocks ...\n",
      "1\n",
      "=====================\n",
      "{'estimation_results': [<quara.protocol.qtomography.standard.linear_estimator.LinearEstimationResult object at 0x11a2ffa90>, <quara.protocol.qtomography.standard.linear_estimator.LinearEstimationResult object at 0x11a2ffa00>], 'case_id': 0, 'fig_type': 'physicality-violation-eq-trace-sum-error', 'size': (500, 400), 'make_graphs_func': <function make_graphs_trace_error_sum at 0x1171be310>, 'col_n': 3}\n",
      "generate_figs_div: col_n=3\n",
      "2\n",
      "1\n",
      "=====================\n",
      "{'estimation_results': [<quara.protocol.qtomography.standard.linear_estimator.LinearEstimationResult object at 0x11a2ff8e0>, <quara.protocol.qtomography.standard.linear_estimator.LinearEstimationResult object at 0x11a2ff880>], 'case_id': 1, 'fig_type': 'physicality-violation-eq-trace-sum-error', 'size': (500, 400), 'make_graphs_func': <function make_graphs_trace_error_sum at 0x1171be310>, 'col_n': 3}\n",
      "generate_figs_div: col_n=3\n",
      "2\n",
      "1\n",
      "=====================\n",
      "{'estimation_results': [<quara.protocol.qtomography.standard.projected_linear_estimator.ProjectedLinearEstimationResult object at 0x11aa72d30>, <quara.protocol.qtomography.standard.projected_linear_estimator.ProjectedLinearEstimationResult object at 0x11aa6c640>], 'case_id': 2, 'fig_type': 'physicality-violation-eq-trace-sum-error', 'size': (500, 400), 'make_graphs_func': <function make_graphs_trace_error_sum at 0x1171be310>, 'col_n': 3}\n",
      "generate_figs_div: col_n=3\n",
      "2\n",
      "1\n",
      "=====================\n",
      "{'estimation_results': [<quara.protocol.qtomography.standard.projected_linear_estimator.ProjectedLinearEstimationResult object at 0x11aa65f70>, <quara.protocol.qtomography.standard.projected_linear_estimator.ProjectedLinearEstimationResult object at 0x11aa7e550>], 'case_id': 3, 'fig_type': 'physicality-violation-eq-trace-sum-error', 'size': (500, 400), 'make_graphs_func': <function make_graphs_trace_error_sum at 0x1171be310>, 'col_n': 3}\n",
      "generate_figs_div: col_n=3\n",
      "2\n",
      "Converting to PDF report ...\n",
      "​Deleting temporary files ...\n",
      "Completed to export pdf. (qpt_2qubit_nrep=2.pdf)\n",
      "CPU times: user 1min 28s, sys: 7.78 s, total: 1min 36s\n",
      "Wall time: 2min 57s\n"
     ]
    }
   ],
   "source": [
    "%%time\n",
    "\n",
    "report.export_report(\n",
    "    \"qpt_2qubit_nrep=2.pdf\",\n",
    "    estimation_results_list,\n",
    "    simulation_settings,\n",
    "    true_object,\n",
    "    tester_states + tester_povms,\n",
    "    seed=seed,\n",
    "    computation_time=sum(elapsed_times)\n",
    ")"
   ]
  },
  {
   "cell_type": "code",
   "execution_count": null,
   "metadata": {},
   "outputs": [],
   "source": [
    "all_elapsed_time = time.time() - start_all\n",
    "print(\"elapsed_time(All): {0}\".format(all_elapsed_time / 60) + \"[min]\\n\")"
   ]
  }
 ],
 "metadata": {
  "hide_input": false,
  "kernelspec": {
   "display_name": "quara_venv",
   "language": "python",
   "name": "quara_venv"
  },
  "language_info": {
   "codemirror_mode": {
    "name": "ipython",
    "version": 3
   },
   "file_extension": ".py",
   "mimetype": "text/x-python",
   "name": "python",
   "nbconvert_exporter": "python",
   "pygments_lexer": "ipython3",
   "version": "3.8.0"
  },
  "toc": {
   "base_numbering": 1,
   "nav_menu": {},
   "number_sections": true,
   "sideBar": true,
   "skip_h1_title": false,
   "title_cell": "Table of Contents",
   "title_sidebar": "Contents",
   "toc_cell": false,
   "toc_position": {},
   "toc_section_display": true,
   "toc_window_display": false
  },
  "varInspector": {
   "cols": {
    "lenName": 16,
    "lenType": 16,
    "lenVar": 40
   },
   "kernels_config": {
    "python": {
     "delete_cmd_postfix": "",
     "delete_cmd_prefix": "del ",
     "library": "var_list.py",
     "varRefreshCmd": "print(var_dic_list())"
    },
    "r": {
     "delete_cmd_postfix": ") ",
     "delete_cmd_prefix": "rm(",
     "library": "var_list.r",
     "varRefreshCmd": "cat(var_dic_list()) "
    }
   },
   "types_to_exclude": [
    "module",
    "function",
    "builtin_function_or_method",
    "instance",
    "_Feature"
   ],
   "window_display": false
  }
 },
 "nbformat": 4,
 "nbformat_minor": 4
}
