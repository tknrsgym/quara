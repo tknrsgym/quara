{
 "metadata": {
  "language_info": {
   "codemirror_mode": {
    "name": "ipython",
    "version": 3
   },
   "file_extension": ".py",
   "mimetype": "text/x-python",
   "name": "python",
   "nbconvert_exporter": "python",
   "pygments_lexer": "ipython3",
   "version": "3.8.7-final"
  },
  "orig_nbformat": 2,
  "kernelspec": {
   "name": "python387jvsc74a57bd046853efbcfaf24d51a2d058b3851333fe5208d7cf1dd9f790da7ce54269df75e",
   "display_name": "Python 3.8.7 64-bit ('venv')"
  }
 },
 "nbformat": 4,
 "nbformat_minor": 2,
 "cells": [
  {
   "cell_type": "code",
   "execution_count": 25,
   "metadata": {},
   "outputs": [],
   "source": [
    "import numpy as np\n",
    "\n",
    "# quara\n",
    "from quara.objects.matrix_basis import (\n",
    "    get_normalized_pauli_basis,\n",
    ")\n",
    "from quara.objects.elemental_system import ElementalSystem\n",
    "from quara.objects.composite_system import CompositeSystem\n",
    "from quara.objects.composite_system_typical import generate_composite_system\n",
    "from quara.objects.tester_typical import (\n",
    "    generate_tester_states,\n",
    "    generate_tester_povms,\n",
    ")\n",
    "from quara.objects.qoperation_typical import generate_qoperation\n",
    "from quara.protocol.qtomography.standard.standard_qst import StandardQst\n",
    "from quara.protocol.qtomography.standard.standard_povmt import StandardPovmt\n",
    "from quara.protocol.qtomography.standard.standard_qpt import StandardQpt\n",
    "\n",
    "from quara.protocol.qtomography.standard.linear_estimator import LinearEstimator\n",
    "from quara.protocol.qtomography.standard.loss_minimization_estimator import (\n",
    "    LossMinimizationEstimator,\n",
    ")"
   ]
  },
  {
   "cell_type": "code",
   "execution_count": 2,
   "metadata": {},
   "outputs": [
    {
     "output_type": "stream",
     "name": "stdout",
     "text": [
      "elemental_systems:\n[0] 0 (system_id=4434319440)\n\ndim: 2\nbasis:\n(array([[0.70710678+0.j, 0.        +0.j],\n       [0.        +0.j, 0.70710678+0.j]]), array([[0.        +0.j, 0.70710678+0.j],\n       [0.70710678+0.j, 0.        +0.j]]), array([[0.+0.j        , 0.-0.70710678j],\n       [0.+0.70710678j, 0.+0.j        ]]), array([[ 0.70710678+0.j,  0.        +0.j],\n       [ 0.        +0.j, -0.70710678+0.j]]))\n"
     ]
    }
   ],
   "source": [
    "mode = \"qubit\"\n",
    "num = 1\n",
    "c_sys = generate_composite_system(mode=mode, num=num)\n",
    "print(c_sys)"
   ]
  },
  {
   "cell_type": "code",
   "execution_count": 3,
   "metadata": {},
   "outputs": [
    {
     "output_type": "stream",
     "name": "stdout",
     "text": [
      "Tester  0 :\n",
      " Type:\n",
      "Povm\n",
      "\n",
      "Dim:\n",
      "2\n",
      "\n",
      "Number of outcomes:\n",
      "2\n",
      "\n",
      "Vecs:\n",
      "[[ 0.70710678  0.70710678  0.          0.        ]\n",
      " [ 0.70710678 -0.70710678  0.          0.        ]]\n",
      "Tester  1 :\n",
      " Type:\n",
      "Povm\n",
      "\n",
      "Dim:\n",
      "2\n",
      "\n",
      "Number of outcomes:\n",
      "2\n",
      "\n",
      "Vecs:\n",
      "[[ 0.70710678  0.          0.70710678  0.        ]\n",
      " [ 0.70710678  0.         -0.70710678  0.        ]]\n",
      "Tester  2 :\n",
      " Type:\n",
      "Povm\n",
      "\n",
      "Dim:\n",
      "2\n",
      "\n",
      "Number of outcomes:\n",
      "2\n",
      "\n",
      "Vecs:\n",
      "[[ 0.70710678  0.          0.          0.70710678]\n",
      " [ 0.70710678  0.          0.         -0.70710678]]\n",
      "/Users/takanori/Work/dev/quara/quara/utils/matrix_util.py:195: ComplexWarning: Casting complex values to real discards the imaginary part\n",
      "  tmp_hs = tmp_hs.astype(np.float64)\n"
     ]
    }
   ],
   "source": [
    "# Testers\n",
    "names = [\"x\", \"y\", \"z\"]\n",
    "testers = generate_tester_povms(c_sys=c_sys, names = names)\n",
    "for i, tester in enumerate(testers):\n",
    "    print(\"Tester \", i, \":\\n\", tester)"
   ]
  },
  {
   "cell_type": "code",
   "execution_count": 4,
   "metadata": {},
   "outputs": [],
   "source": [
    "# Quantum State Tomography\n",
    "seed = 7896\n",
    "qst = StandardQst(testers, on_para_eq_constraint=True, schedules=\"all\", seed=seed)"
   ]
  },
  {
   "cell_type": "code",
   "execution_count": 10,
   "metadata": {},
   "outputs": [
    {
     "output_type": "stream",
     "name": "stdout",
     "text": [
      "Type:\nState\n\nDim:\n2\n\nVec:\n[0.70710678 0.5        0.5        0.        ]\n"
     ]
    }
   ],
   "source": [
    "mode = \"state\"\n",
    "name = \"a\"\n",
    "true = generate_qoperation(mode=mode, name=name, c_sys=c_sys)\n",
    "print(true)"
   ]
  },
  {
   "cell_type": "code",
   "execution_count": 11,
   "metadata": {},
   "outputs": [
    {
     "output_type": "stream",
     "name": "stdout",
     "text": [
      "[[0.85355339 0.14644661]\n [0.85355339 0.14644661]\n [0.5        0.5       ]]\n"
     ]
    }
   ],
   "source": [
    "prob_dists = qst.calc_prob_dists(true)\n",
    "print(prob_dists)"
   ]
  },
  {
   "cell_type": "code",
   "execution_count": 23,
   "metadata": {},
   "outputs": [
    {
     "output_type": "stream",
     "name": "stdout",
     "text": [
      "(1000, array([0.881, 0.119]))\n(1000, array([0.859, 0.141]))\n(1000, array([0.493, 0.507]))\n"
     ]
    }
   ],
   "source": [
    "num_data = 1000\n",
    "empi_dists = qst.generate_empi_dists(state=true, num_sum=num_data)\n",
    "for f in empi_dists:\n",
    "    print(f)"
   ]
  },
  {
   "cell_type": "code",
   "execution_count": 24,
   "metadata": {},
   "outputs": [
    {
     "output_type": "stream",
     "name": "stdout",
     "text": [
      "Type:\nState\n\nDim:\n2\n\nVec:\n[ 0.70710678  0.53881537  0.50770267 -0.00989949]\nis estimate physical? :  False\n"
     ]
    }
   ],
   "source": [
    "estimator = LinearEstimator()\n",
    "result = estimator.calc_estimate(qtomography=qst, empi_dists=empi_dists)\n",
    "estimate = result.estimated_qoperation\n",
    "print(estimate)\n",
    "print(\"is estimate physical? : \", estimate.is_physical())"
   ]
  },
  {
   "cell_type": "code",
   "execution_count": null,
   "metadata": {},
   "outputs": [],
   "source": [
    "estimator = LossMinimizationEstimator()\n",
    "loss = WeightedProbabilityBasedSquaredError(3)\n",
    "loss_option = WeightedProbabilityBasedSquaredErrorOption(\"identity\")\n",
    "algo = ProjectedGradientDescentBacktracking()  \n",
    "algo_option = ProjectedGradientDescentBacktrackingOption(\n",
    "        mode_stopping_criterion_gradient_descent=\"sum_absolute_difference_variable\",\n",
    "        num_history_stopping_criterion_gradient_descent=1,\n",
    "    )\n",
    "result = estimator.calc_estimate(qtomography=qst, empi_dists=empi_dists, loss=loss, loss_option=loss_option, algo=algo, algo_option=algo, is_computation_time_required=True)\n",
    "estimate = result.estimated_qoperation\n",
    "print(estimate)\n",
    "print(\"is estimate physical? : \", estimate.is_physical())"
   ]
  },
  {
   "cell_type": "code",
   "execution_count": 5,
   "metadata": {},
   "outputs": [
    {
     "output_type": "stream",
     "name": "stdout",
     "text": [
      "i= 0 , num_outcomes =  4\ni= 1 , num_outcomes =  4\ni= 2 , num_outcomes =  4\ni= 3 , num_outcomes =  4\ni= 4 , num_outcomes =  4\ni= 5 , num_outcomes =  4\ni= 6 , num_outcomes =  4\ni= 7 , num_outcomes =  4\ni= 8 , num_outcomes =  4\ni= 9 , num_outcomes =  4\ni= 10 , num_outcomes =  4\ni= 11 , num_outcomes =  4\ni= 12 , num_outcomes =  4\ni= 13 , num_outcomes =  4\ni= 14 , num_outcomes =  4\ni= 15 , num_outcomes =  4\n"
     ]
    }
   ],
   "source": [
    "# POVM Tomography\n",
    "\n",
    "# Composite System\n",
    "mode = \"qubit\"\n",
    "num = 1\n",
    "c_sys = generate_composite_system(mode=mode, num=num)\n",
    "#print(c_sys)\n",
    "\n",
    "# Testers\n",
    "names = [\"x0\", \"y0\", \"z0\", \"z1\"]\n",
    "testers = generate_tester_states(c_sys=c_sys, names = names)\n",
    "qt = StandardPovmt(testers, num_outcomes=4, on_para_eq_constraint=True, schedules=\"all\")\n",
    "\n",
    "for i in range(qt.num_schedules):\n",
    "    print(\"i=\", i, \", num_outcomes = \", qt.num_outcomes(i))"
   ]
  },
  {
   "cell_type": "code",
   "execution_count": 6,
   "metadata": {},
   "outputs": [
    {
     "output_type": "stream",
     "name": "stdout",
     "text": [
      "i= 0 , num_outcomes =  4\ni= 1 , num_outcomes =  4\ni= 2 , num_outcomes =  4\ni= 3 , num_outcomes =  4\ni= 4 , num_outcomes =  4\ni= 5 , num_outcomes =  4\ni= 6 , num_outcomes =  4\ni= 7 , num_outcomes =  4\ni= 8 , num_outcomes =  4\ni= 9 , num_outcomes =  4\ni= 10 , num_outcomes =  4\ni= 11 , num_outcomes =  4\ni= 12 , num_outcomes =  4\ni= 13 , num_outcomes =  4\ni= 14 , num_outcomes =  4\ni= 15 , num_outcomes =  4\ni= 16 , num_outcomes =  4\ni= 17 , num_outcomes =  4\ni= 18 , num_outcomes =  4\ni= 19 , num_outcomes =  4\ni= 20 , num_outcomes =  4\ni= 21 , num_outcomes =  4\ni= 22 , num_outcomes =  4\ni= 23 , num_outcomes =  4\ni= 24 , num_outcomes =  4\ni= 25 , num_outcomes =  4\ni= 26 , num_outcomes =  4\ni= 27 , num_outcomes =  4\ni= 28 , num_outcomes =  4\ni= 29 , num_outcomes =  4\ni= 30 , num_outcomes =  4\ni= 31 , num_outcomes =  4\ni= 32 , num_outcomes =  4\ni= 33 , num_outcomes =  4\ni= 34 , num_outcomes =  4\ni= 35 , num_outcomes =  4\ni= 36 , num_outcomes =  4\ni= 37 , num_outcomes =  4\ni= 38 , num_outcomes =  4\ni= 39 , num_outcomes =  4\ni= 40 , num_outcomes =  4\ni= 41 , num_outcomes =  4\ni= 42 , num_outcomes =  4\ni= 43 , num_outcomes =  4\ni= 44 , num_outcomes =  4\ni= 45 , num_outcomes =  4\ni= 46 , num_outcomes =  4\ni= 47 , num_outcomes =  4\ni= 48 , num_outcomes =  4\ni= 49 , num_outcomes =  4\ni= 50 , num_outcomes =  4\ni= 51 , num_outcomes =  4\ni= 52 , num_outcomes =  4\ni= 53 , num_outcomes =  4\ni= 54 , num_outcomes =  4\ni= 55 , num_outcomes =  4\ni= 56 , num_outcomes =  4\ni= 57 , num_outcomes =  4\ni= 58 , num_outcomes =  4\ni= 59 , num_outcomes =  4\ni= 60 , num_outcomes =  4\ni= 61 , num_outcomes =  4\ni= 62 , num_outcomes =  4\ni= 63 , num_outcomes =  4\ni= 64 , num_outcomes =  4\ni= 65 , num_outcomes =  4\ni= 66 , num_outcomes =  4\ni= 67 , num_outcomes =  4\ni= 68 , num_outcomes =  4\ni= 69 , num_outcomes =  4\ni= 70 , num_outcomes =  4\ni= 71 , num_outcomes =  4\ni= 72 , num_outcomes =  4\ni= 73 , num_outcomes =  4\ni= 74 , num_outcomes =  4\ni= 75 , num_outcomes =  4\ni= 76 , num_outcomes =  4\ni= 77 , num_outcomes =  4\ni= 78 , num_outcomes =  4\ni= 79 , num_outcomes =  4\ni= 80 , num_outcomes =  4\ni= 81 , num_outcomes =  4\ni= 82 , num_outcomes =  4\ni= 83 , num_outcomes =  4\ni= 84 , num_outcomes =  4\ni= 85 , num_outcomes =  4\ni= 86 , num_outcomes =  4\ni= 87 , num_outcomes =  4\ni= 88 , num_outcomes =  4\ni= 89 , num_outcomes =  4\ni= 90 , num_outcomes =  4\ni= 91 , num_outcomes =  4\ni= 92 , num_outcomes =  4\ni= 93 , num_outcomes =  4\ni= 94 , num_outcomes =  4\ni= 95 , num_outcomes =  4\ni= 96 , num_outcomes =  4\ni= 97 , num_outcomes =  4\ni= 98 , num_outcomes =  4\ni= 99 , num_outcomes =  4\ni= 100 , num_outcomes =  4\ni= 101 , num_outcomes =  4\ni= 102 , num_outcomes =  4\ni= 103 , num_outcomes =  4\ni= 104 , num_outcomes =  4\ni= 105 , num_outcomes =  4\ni= 106 , num_outcomes =  4\ni= 107 , num_outcomes =  4\ni= 108 , num_outcomes =  4\ni= 109 , num_outcomes =  4\ni= 110 , num_outcomes =  4\ni= 111 , num_outcomes =  4\ni= 112 , num_outcomes =  4\ni= 113 , num_outcomes =  4\ni= 114 , num_outcomes =  4\ni= 115 , num_outcomes =  4\ni= 116 , num_outcomes =  4\ni= 117 , num_outcomes =  4\ni= 118 , num_outcomes =  4\ni= 119 , num_outcomes =  4\ni= 120 , num_outcomes =  4\ni= 121 , num_outcomes =  4\ni= 122 , num_outcomes =  4\ni= 123 , num_outcomes =  4\ni= 124 , num_outcomes =  4\ni= 125 , num_outcomes =  4\ni= 126 , num_outcomes =  4\ni= 127 , num_outcomes =  4\ni= 128 , num_outcomes =  4\ni= 129 , num_outcomes =  4\ni= 130 , num_outcomes =  4\ni= 131 , num_outcomes =  4\ni= 132 , num_outcomes =  4\ni= 133 , num_outcomes =  4\ni= 134 , num_outcomes =  4\ni= 135 , num_outcomes =  4\ni= 136 , num_outcomes =  4\ni= 137 , num_outcomes =  4\ni= 138 , num_outcomes =  4\ni= 139 , num_outcomes =  4\ni= 140 , num_outcomes =  4\ni= 141 , num_outcomes =  4\ni= 142 , num_outcomes =  4\ni= 143 , num_outcomes =  4\n"
     ]
    }
   ],
   "source": [
    "# Quantum Process Tomography\n",
    "\n",
    "# Composite System\n",
    "mode = \"qubit\"\n",
    "num = 2\n",
    "c_sys = generate_composite_system(mode=mode, num=num)\n",
    "#print(c_sys)\n",
    "\n",
    "# Testers\n",
    "names_states = [\"x0\", \"y0\", \"z0\", \"z1\"]\n",
    "testers_states = generate_tester_states(c_sys=c_sys, names = names_states)\n",
    "names_povms = [\"x\", \"y\", \"z\"]\n",
    "testers_povms = generate_tester_povms(c_sys=c_sys, names=names_povms)\n",
    "qt = StandardQpt(states=testers_states, povms=testers_povms, on_para_eq_constraint=True, schedules=\"all\")\n",
    "\n",
    "for i in range(qt.num_schedules):\n",
    "    print(\"i=\", i, \", num_outcomes = \", qt.num_outcomes(i))"
   ]
  },
  {
   "cell_type": "code",
   "execution_count": null,
   "metadata": {},
   "outputs": [],
   "source": []
  }
 ]
}