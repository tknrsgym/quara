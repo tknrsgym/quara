{
 "metadata": {
  "language_info": {
   "codemirror_mode": {
    "name": "ipython",
    "version": 3
   },
   "file_extension": ".py",
   "mimetype": "text/x-python",
   "name": "python",
   "nbconvert_exporter": "python",
   "pygments_lexer": "ipython3",
   "version": "3.8.7-final"
  },
  "orig_nbformat": 2,
  "kernelspec": {
   "name": "python387jvsc74a57bd046853efbcfaf24d51a2d058b3851333fe5208d7cf1dd9f790da7ce54269df75e",
   "display_name": "Python 3.8.7 64-bit ('venv')"
  }
 },
 "nbformat": 4,
 "nbformat_minor": 2,
 "cells": [
  {
   "cell_type": "code",
   "execution_count": 1,
   "metadata": {},
   "outputs": [],
   "source": [
    "import numpy as np\n",
    "\n",
    "# quara\n",
    "from quara.objects.matrix_basis import (\n",
    "    get_normalized_pauli_basis,\n",
    ")\n",
    "from quara.objects.elemental_system import ElementalSystem\n",
    "from quara.objects.composite_system import CompositeSystem\n",
    "from quara.objects.composite_system_typical import generate_composite_system\n",
    "from quara.objects.tester_typical import (\n",
    "    generate_tester_states,\n",
    "    generate_tester_povms,\n",
    ")\n",
    "from quara.objects.qoperation_typical import generate_qoperation\n",
    "from quara.protocol.qtomography.standard.standard_qst import StandardQst\n",
    "from quara.protocol.qtomography.standard.standard_povmt import StandardPovmt\n",
    "from quara.protocol.qtomography.standard.standard_qpt import StandardQpt\n",
    "\n",
    "from quara.protocol.qtomography.standard.linear_estimator import LinearEstimator\n",
    "from quara.protocol.qtomography.standard.loss_minimization_estimator import (\n",
    "    LossMinimizationEstimator,\n",
    ")\n",
    "from quara.loss_function.weighted_probability_based_squared_error import (\n",
    "    WeightedProbabilityBasedSquaredError,\n",
    "    WeightedProbabilityBasedSquaredErrorOption,\n",
    ")\n",
    "from quara.minimization_algorithm.projected_gradient_descent_backtracking import (\n",
    "    ProjectedGradientDescentBacktracking,\n",
    "    ProjectedGradientDescentBacktrackingOption,\n",
    ")"
   ]
  },
  {
   "source": [
    "# 1-qubit Quantum State Tomography"
   ],
   "cell_type": "code",
   "metadata": {},
   "execution_count": 2,
   "outputs": []
  },
  {
   "cell_type": "code",
   "execution_count": 3,
   "metadata": {},
   "outputs": [
    {
     "output_type": "stream",
     "name": "stdout",
     "text": [
      "elemental_systems:\n[0] 0 (system_id=4337459408)\n\ndim: 2\nbasis:\n(array([[0.70710678+0.j, 0.        +0.j],\n       [0.        +0.j, 0.70710678+0.j]]), array([[0.        +0.j, 0.70710678+0.j],\n       [0.70710678+0.j, 0.        +0.j]]), array([[0.+0.j        , 0.-0.70710678j],\n       [0.+0.70710678j, 0.+0.j        ]]), array([[ 0.70710678+0.j,  0.        +0.j],\n       [ 0.        +0.j, -0.70710678+0.j]]))\n"
     ]
    }
   ],
   "source": [
    "mode = \"qubit\"\n",
    "num = 1\n",
    "c_sys = generate_composite_system(mode=mode, num=num)\n",
    "print(c_sys)"
   ]
  },
  {
   "cell_type": "code",
   "execution_count": 4,
   "metadata": {},
   "outputs": [
    {
     "output_type": "stream",
     "name": "stdout",
     "text": [
      "Tester  0 :\n",
      " Type:\n",
      "Povm\n",
      "\n",
      "Dim:\n",
      "2\n",
      "\n",
      "Number of outcomes:\n",
      "2\n",
      "\n",
      "Vecs:\n",
      "[[ 0.70710678  0.70710678  0.          0.        ]\n",
      " [ 0.70710678 -0.70710678  0.          0.        ]]\n",
      "Tester  1 :\n",
      " Type:\n",
      "Povm\n",
      "\n",
      "Dim:\n",
      "2\n",
      "\n",
      "Number of outcomes:\n",
      "2\n",
      "\n",
      "Vecs:\n",
      "[[ 0.70710678  0.          0.70710678  0.        ]\n",
      " [ 0.70710678  0.         -0.70710678  0.        ]]\n",
      "Tester  2 :\n",
      " Type:\n",
      "Povm\n",
      "\n",
      "Dim:\n",
      "2\n",
      "\n",
      "Number of outcomes:\n",
      "2\n",
      "\n",
      "Vecs:\n",
      "[[ 0.70710678  0.          0.          0.70710678]\n",
      " [ 0.70710678  0.          0.         -0.70710678]]\n",
      "/Users/takanori/Work/dev/quara/quara/utils/matrix_util.py:195: ComplexWarning: Casting complex values to real discards the imaginary part\n",
      "  tmp_hs = tmp_hs.astype(np.float64)\n"
     ]
    }
   ],
   "source": [
    "# Testers\n",
    "names = [\"x\", \"y\", \"z\"]\n",
    "testers = generate_tester_povms(c_sys=c_sys, names = names)\n",
    "for i, tester in enumerate(testers):\n",
    "    print(\"Tester \", i, \":\\n\", tester)"
   ]
  },
  {
   "cell_type": "code",
   "execution_count": 5,
   "metadata": {},
   "outputs": [],
   "source": [
    "# Quantum State Tomography\n",
    "seed = 7896\n",
    "qst = StandardQst(testers, on_para_eq_constraint=True, schedules=\"all\", seed=seed)"
   ]
  },
  {
   "cell_type": "code",
   "execution_count": 6,
   "metadata": {},
   "outputs": [
    {
     "output_type": "stream",
     "name": "stdout",
     "text": [
      "Type:\nState\n\nDim:\n2\n\nVec:\n[0.70710678 0.5        0.5        0.        ]\n"
     ]
    }
   ],
   "source": [
    "mode = \"state\"\n",
    "name = \"a\"\n",
    "true = generate_qoperation(mode=mode, name=name, c_sys=c_sys)\n",
    "print(true)"
   ]
  },
  {
   "cell_type": "code",
   "execution_count": 7,
   "metadata": {},
   "outputs": [
    {
     "output_type": "stream",
     "name": "stdout",
     "text": [
      "[[0.85355339 0.14644661]\n [0.85355339 0.14644661]\n [0.5        0.5       ]]\n"
     ]
    }
   ],
   "source": [
    "prob_dists = qst.calc_prob_dists(true)\n",
    "print(prob_dists)"
   ]
  },
  {
   "cell_type": "code",
   "execution_count": 8,
   "metadata": {},
   "outputs": [
    {
     "output_type": "stream",
     "name": "stdout",
     "text": [
      "(1000, array([0.864, 0.136]))\n(1000, array([0.844, 0.156]))\n(1000, array([0.49, 0.51]))\n"
     ]
    }
   ],
   "source": [
    "num_data = 1000\n",
    "empi_dists = qst.generate_empi_dists(state=true, num_sum=num_data)\n",
    "for f in empi_dists:\n",
    "    print(f)"
   ]
  },
  {
   "cell_type": "code",
   "execution_count": 9,
   "metadata": {},
   "outputs": [
    {
     "output_type": "stream",
     "name": "stdout",
     "text": [
      "Type:\nState\n\nDim:\n2\n\nVec:\n[ 0.70710678  0.51477374  0.48648947 -0.01414214]\nis estimate physical? :  False\n\nEigenvalues are:  [1.0009311329913524, -0.0009311329913525568]\n"
     ]
    }
   ],
   "source": [
    "estimator = LinearEstimator()\n",
    "result = estimator.calc_estimate(qtomography=qst, empi_dists=empi_dists, is_computation_time_required=True)\n",
    "estimate = result.estimated_qoperation\n",
    "print(estimate)\n",
    "print(\"is estimate physical? : \", estimate.is_physical())\n",
    "print(\"\\nEigenvalues are: \", estimate.calc_eigenvalues())"
   ]
  },
  {
   "cell_type": "code",
   "execution_count": 10,
   "metadata": {},
   "outputs": [
    {
     "output_type": "stream",
     "name": "stdout",
     "text": [
      "Type:\nState\n\nDim:\n2\n\nVec:\n[ 0.70710678  0.51381689  0.4855852  -0.01411585]\n\nis estimate physical? :  False\n\nEigenvalues are:  [1.000000019575682, -1.9575682325134736e-08]\n"
     ]
    }
   ],
   "source": [
    "estimator = LossMinimizationEstimator()\n",
    "loss = WeightedProbabilityBasedSquaredError(3)\n",
    "loss_option = WeightedProbabilityBasedSquaredErrorOption(\"identity\")\n",
    "algo = ProjectedGradientDescentBacktracking()\n",
    "\n",
    "obj_start = (qst.generate_empty_estimation_obj_with_setting_info().generate_origin_obj())\n",
    "var_start = obj_start.to_var()\n",
    "algo_option = ProjectedGradientDescentBacktrackingOption(mode_stopping_criterion_gradient_descent=\"sum_absolute_difference_variable\", num_history_stopping_criterion_gradient_descent=1)\n",
    "\n",
    "result = estimator.calc_estimate(qtomography=qst, empi_dists=empi_dists, loss=loss, loss_option=loss_option, algo=algo, algo_option=algo_option, is_computation_time_required=True)\n",
    "estimate = result.estimated_qoperation\n",
    "print(estimate)\n",
    "print(\"\\nis estimate physical? : \", estimate.is_physical())\n",
    "print(\"\\nEigenvalues are: \", estimate.calc_eigenvalues())"
   ]
  },
  {
   "cell_type": "code",
   "execution_count": 11,
   "metadata": {},
   "outputs": [],
   "source": [
    "# POVM Tomography\n",
    "\n",
    "# Composite System\n",
    "mode = \"qubit\"\n",
    "num = 1\n",
    "c_sys = generate_composite_system(mode=mode, num=num)\n",
    "#print(c_sys)\n",
    "\n",
    "# Testers\n",
    "names = [\"x0\", \"y0\", \"z0\", \"z1\"]\n",
    "testers = generate_tester_states(c_sys=c_sys, names = names)\n",
    "povmt = StandardPovmt(testers, num_outcomes=2, on_para_eq_constraint=True, schedules=\"all\")"
   ]
  },
  {
   "cell_type": "code",
   "execution_count": 13,
   "metadata": {},
   "outputs": [
    {
     "output_type": "stream",
     "name": "stdout",
     "text": [
      "Type:\nPovm\n\nDim:\n2\n\nNumber of outcomes:\n2\n\nVecs:\n[[ 0.70710678  0.          0.          0.70710678]\n [ 0.70710678  0.          0.         -0.70710678]]\n"
     ]
    }
   ],
   "source": [
    "mode = \"povm\"\n",
    "name = \"z\"\n",
    "true = generate_qoperation(mode=mode, name=name, c_sys=c_sys)\n",
    "print(true)"
   ]
  },
  {
   "cell_type": "code",
   "execution_count": 14,
   "metadata": {},
   "outputs": [
    {
     "output_type": "stream",
     "name": "stdout",
     "text": [
      "[[5.00000000e-01 5.00000000e-01]\n [5.00000000e-01 5.00000000e-01]\n [1.00000000e+00 2.22044605e-16]\n [0.00000000e+00 1.00000000e+00]]\n"
     ]
    }
   ],
   "source": [
    "prob_dists = povmt.calc_prob_dists(true)\n",
    "print(prob_dists)"
   ]
  },
  {
   "cell_type": "code",
   "execution_count": 16,
   "metadata": {},
   "outputs": [
    {
     "output_type": "stream",
     "name": "stdout",
     "text": [
      "(1000, array([0.507, 0.493]))\n(1000, array([0.513, 0.487]))\n(1000, array([1., 0.]))\n(1000, array([0., 1.]))\n"
     ]
    }
   ],
   "source": [
    "num_data = 1000\n",
    "empi_dists = povmt.generate_empi_dists(povm=true, num_sum=num_data)\n",
    "for f in empi_dists:\n",
    "    print(f)"
   ]
  },
  {
   "cell_type": "code",
   "execution_count": 17,
   "metadata": {},
   "outputs": [
    {
     "output_type": "stream",
     "name": "stdout",
     "text": [
      "Type:\nPovm\n\nDim:\n2\n\nNumber of outcomes:\n2\n\nVecs:\n[[ 0.70710678  0.00989949  0.01838478  0.70710678]\n [ 0.70710678 -0.00989949 -0.01838478 -0.70710678]]\n\nis estimate physical? :  False\n\nEigenvalues are: [[1.0002179524967092, -0.00021795249670929], [1.0002179524967092, -0.00021795249670906802]]\n"
     ]
    }
   ],
   "source": [
    "estimator = LinearEstimator()\n",
    "result = estimator.calc_estimate(qtomography=povmt, empi_dists=empi_dists, is_computation_time_required=True)\n",
    "estimate = result.estimated_qoperation\n",
    "print(estimate)\n",
    "print(\"\\nis estimate physical? : \", estimate.is_physical())\n",
    "print(\"\\nEigenvalues are:\", estimate.calc_eigenvalues())"
   ]
  },
  {
   "cell_type": "code",
   "execution_count": 18,
   "metadata": {},
   "outputs": [
    {
     "output_type": "stream",
     "name": "stdout",
     "text": [
      "Type:\nPovm\n\nDim:\n2\n\nNumber of outcomes:\n2\n\nVecs:\n[[ 0.7071068   0.00989086  0.01836879  0.70679897]\n [ 0.70710676 -0.00989086 -0.01836879 -0.70679897]]\n\nis estimate physical? :  False\n\nEigenvalues are: [[1.000000031919274, 4.3284874382681915e-15], [0.9999999999999956, -3.1919273836550485e-08]]\n"
     ]
    }
   ],
   "source": [
    "estimator = LossMinimizationEstimator()\n",
    "loss = WeightedProbabilityBasedSquaredError(4)\n",
    "loss_option = WeightedProbabilityBasedSquaredErrorOption(\"identity\")\n",
    "algo = ProjectedGradientDescentBacktracking()  \n",
    "algo_option = ProjectedGradientDescentBacktrackingOption()\n",
    "\n",
    "result = estimator.calc_estimate(qtomography=povmt, empi_dists=empi_dists, loss=loss, loss_option=loss_option, algo=algo, algo_option=algo_option, is_computation_time_required=True)\n",
    "estimate = result.estimated_qoperation\n",
    "print(estimate)\n",
    "print(\"\\nis estimate physical? : \", estimate.is_physical())\n",
    "print(\"\\nEigenvalues are:\", estimate.calc_eigenvalues())"
   ]
  },
  {
   "cell_type": "code",
   "execution_count": 19,
   "metadata": {},
   "outputs": [],
   "source": [
    "# Quantum Process Tomography\n",
    "\n",
    "# Composite System\n",
    "mode = \"qubit\"\n",
    "num = 1\n",
    "c_sys = generate_composite_system(mode=mode, num=num)\n",
    "#print(c_sys)\n",
    "\n",
    "# Testers\n",
    "names_states = [\"x0\", \"y0\", \"z0\", \"z1\"]\n",
    "testers_states = generate_tester_states(c_sys=c_sys, names = names_states)\n",
    "names_povms = [\"x\", \"y\", \"z\"]\n",
    "testers_povms = generate_tester_povms(c_sys=c_sys, names=names_povms)\n",
    "qpt = StandardQpt(states=testers_states, povms=testers_povms, on_para_eq_constraint=True, schedules=\"all\")"
   ]
  },
  {
   "cell_type": "code",
   "execution_count": 20,
   "metadata": {},
   "outputs": [
    {
     "output_type": "stream",
     "name": "stdout",
     "text": [
      "Type:\nGate\n\nDim:\n2\n\nHS:\n[[ 1.  0.  0.  0.]\n [ 0.  0.  0.  1.]\n [ 0.  0. -1.  0.]\n [ 0.  1.  0.  0.]]\n"
     ]
    }
   ],
   "source": [
    "mode = \"gate\"\n",
    "name = \"hadamard\"\n",
    "true = generate_qoperation(mode=mode, name=name, c_sys=c_sys)\n",
    "print(true)"
   ]
  },
  {
   "cell_type": "code",
   "execution_count": 21,
   "metadata": {},
   "outputs": [
    {
     "output_type": "stream",
     "name": "stdout",
     "text": [
      "[[0.5 0.5]\n [0.5 0.5]\n [1.  0. ]\n [0.5 0.5]\n [0.  1. ]\n [0.5 0.5]\n [1.  0. ]\n [0.5 0.5]\n [0.5 0.5]\n [0.  1. ]\n [0.5 0.5]\n [0.5 0.5]]\n"
     ]
    }
   ],
   "source": [
    "prob_dists = qpt.calc_prob_dists(true)\n",
    "print(prob_dists)"
   ]
  },
  {
   "cell_type": "code",
   "execution_count": 22,
   "metadata": {},
   "outputs": [
    {
     "output_type": "stream",
     "name": "stdout",
     "text": [
      "(1000, array([0.497, 0.503]))\n(1000, array([0.471, 0.529]))\n(1000, array([1., 0.]))\n(1000, array([0.505, 0.495]))\n(1000, array([0., 1.]))\n(1000, array([0.511, 0.489]))\n(1000, array([1., 0.]))\n(1000, array([0.524, 0.476]))\n(1000, array([0.509, 0.491]))\n(1000, array([0., 1.]))\n(1000, array([0.488, 0.512]))\n(1000, array([0.523, 0.477]))\n"
     ]
    }
   ],
   "source": [
    "num_data = 1000\n",
    "empi_dists = qpt.generate_empi_dists(gate=true, num_sum=num_data)\n",
    "for f in empi_dists:\n",
    "    print(f)"
   ]
  },
  {
   "cell_type": "code",
   "execution_count": 23,
   "metadata": {},
   "outputs": [
    {
     "output_type": "stream",
     "name": "stdout",
     "text": [
      "Type:\nGate\n\nDim:\n2\n\nHS:\n[[ 1.     0.     0.     0.   ]\n [ 0.    -0.006  0.01   1.   ]\n [ 0.012 -0.07  -1.012  0.036]\n [ 0.032  0.968 -0.01  -0.014]]\n\nis estimate physical? :  False\n\nEigenvalues are: [-0.03795514 -0.00386682  0.05060433  1.99121763]\n"
     ]
    }
   ],
   "source": [
    "estimator = LinearEstimator()\n",
    "result = estimator.calc_estimate(qtomography=qpt, empi_dists=empi_dists, is_computation_time_required=True)\n",
    "estimate = result.estimated_qoperation\n",
    "print(estimate)\n",
    "print(\"\\nis estimate physical? : \", estimate.is_physical())\n",
    "evals, evecs = np.linalg.eigh(estimate.to_choi_matrix())\n",
    "print(\"\\nEigenvalues are:\", evals)"
   ]
  },
  {
   "cell_type": "code",
   "execution_count": 24,
   "metadata": {},
   "outputs": [
    {
     "output_type": "stream",
     "name": "stdout",
     "text": [
      "Type:\nGate\n\nDim:\n2\n\nHS:\n[[ 1.00000000e+00  0.00000000e+00  0.00000000e+00  0.00000000e+00]\n [ 7.90187190e-04  6.20035750e-03  1.76091565e-02  9.84425049e-01]\n [ 1.51585771e-03 -3.51660812e-02 -9.79638897e-01  3.08360381e-02]\n [ 3.14696441e-02  9.65098548e-01 -3.30883759e-02 -7.06118340e-03]]\n\nis estimate physical? :  False\n\nEigenvalues are: [-3.04846011e-08 -1.89456607e-08  3.43722091e-02  1.96562784e+00]\n"
     ]
    }
   ],
   "source": [
    "estimator = LossMinimizationEstimator()\n",
    "loss = WeightedProbabilityBasedSquaredError(12)\n",
    "loss_option = WeightedProbabilityBasedSquaredErrorOption(\"identity\")\n",
    "algo = ProjectedGradientDescentBacktracking()  \n",
    "algo_option = ProjectedGradientDescentBacktrackingOption()\n",
    "\n",
    "result = estimator.calc_estimate(qtomography=qpt, empi_dists=empi_dists, loss=loss, loss_option=loss_option, algo=algo, algo_option=algo_option, is_computation_time_required=True)\n",
    "estimate = result.estimated_qoperation\n",
    "print(estimate)\n",
    "print(\"\\nis estimate physical? : \", estimate.is_physical())\n",
    "evals, evecs = np.linalg.eigh(estimate.to_choi_matrix())\n",
    "print(\"\\nEigenvalues are:\", evals)"
   ]
  },
  {
   "cell_type": "code",
   "execution_count": null,
   "metadata": {},
   "outputs": [],
   "source": []
  }
 ]
}