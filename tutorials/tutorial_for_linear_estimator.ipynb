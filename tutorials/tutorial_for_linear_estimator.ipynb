{
 "cells": [
  {
   "cell_type": "code",
   "execution_count": 1,
   "metadata": {},
   "outputs": [],
   "source": [
    "import numpy as np\n",
    "\n",
    "from quara.data_analyzer import data_analyzer\n",
    "from quara.objects.composite_system import CompositeSystem\n",
    "from quara.objects.elemental_system import ElementalSystem\n",
    "from quara.objects.matrix_basis import get_normalized_pauli_basis\n",
    "from quara.objects.povm import (\n",
    "    get_x_measurement,\n",
    "    get_y_measurement,\n",
    "    get_z_measurement,\n",
    ")\n",
    "from quara.objects.state import get_z0_1q"
   ]
  },
  {
   "cell_type": "code",
   "execution_count": 2,
   "metadata": {
    "tags": []
   },
   "outputs": [
    {
     "output_type": "stream",
     "name": "stdout",
     "text": "{'iteration': 1, 'data': [[(100, array([0.51, 0.49])), (100, array([0.51, 0.49])), (100, array([1., 0.]))], [(1000, array([0.517, 0.483])), (1000, array([0.517, 0.483])), (1000, array([1., 0.]))], [(10000, array([0.5064, 0.4936])), (10000, array([0.5064, 0.4936])), (10000, array([1., 0.]))], [(100000, array([0.50055, 0.49945])), (100000, array([0.50055, 0.49945])), (100000, array([1., 0.]))]], 'estimated_var_sequence': [array([0.70710678, 0.01414214, 0.01414214, 0.70710678]), array([0.70710678, 0.02404163, 0.02404163, 0.70710678]), array([0.70710678, 0.00905097, 0.00905097, 0.70710678]), array([0.70710678, 0.00077782, 0.00077782, 0.70710678])], 'computation_times': [0.0, 0.0, 0.0, 0.0]}\n{'iteration': 2, 'data': [[(100, array([0.51, 0.49])), (100, array([0.51, 0.49])), (100, array([1., 0.]))], [(1000, array([0.494, 0.506])), (1000, array([0.494, 0.506])), (1000, array([1., 0.]))], [(10000, array([0.499, 0.501])), (10000, array([0.499, 0.501])), (10000, array([1., 0.]))], [(100000, array([0.50014, 0.49986])), (100000, array([0.50014, 0.49986])), (100000, array([1., 0.]))]], 'estimated_var_sequence': [array([0.70710678, 0.01414214, 0.01414214, 0.70710678]), array([ 0.70710678, -0.00848528, -0.00848528,  0.70710678]), array([ 0.70710678, -0.00141421, -0.00141421,  0.70710678]), array([7.07106781e-01, 1.97989899e-04, 1.97989899e-04, 7.07106781e-01])], 'computation_times': [0.000997781753540039, 0.0, 0.0, 0.0]}\n{'iteration': 3, 'data': [[(100, array([0.56, 0.44])), (100, array([0.56, 0.44])), (100, array([1., 0.]))], [(1000, array([0.534, 0.466])), (1000, array([0.534, 0.466])), (1000, array([1., 0.]))], [(10000, array([0.5132, 0.4868])), (10000, array([0.5132, 0.4868])), (10000, array([1., 0.]))], [(100000, array([0.50094, 0.49906])), (100000, array([0.50094, 0.49906])), (100000, array([1., 0.]))]], 'estimated_var_sequence': [array([0.70710678, 0.08485281, 0.08485281, 0.70710678]), array([0.70710678, 0.04808326, 0.04808326, 0.70710678]), array([0.70710678, 0.01866762, 0.01866762, 0.70710678]), array([0.70710678, 0.00132936, 0.00132936, 0.70710678])], 'computation_times': [0.0, 0.0, 0.0, 0.0]}\n{'iteration': 4, 'data': [[(100, array([0.53, 0.47])), (100, array([0.53, 0.47])), (100, array([1., 0.]))], [(1000, array([0.488, 0.512])), (1000, array([0.488, 0.512])), (1000, array([1., 0.]))], [(10000, array([0.5063, 0.4937])), (10000, array([0.5063, 0.4937])), (10000, array([1., 0.]))], [(100000, array([0.49959, 0.50041])), (100000, array([0.49959, 0.50041])), (100000, array([1., 0.]))]], 'estimated_var_sequence': [array([0.70710678, 0.04242641, 0.04242641, 0.70710678]), array([ 0.70710678, -0.01697056, -0.01697056,  0.70710678]), array([0.70710678, 0.00890955, 0.00890955, 0.70710678]), array([ 7.07106781e-01, -5.79827561e-04, -5.79827561e-04,  7.07106781e-01])], 'computation_times': [0.0, 0.0, 0.0, 0.0]}\n{'iteration': 5, 'data': [[(100, array([0.44, 0.56])), (100, array([0.44, 0.56])), (100, array([1., 0.]))], [(1000, array([0.481, 0.519])), (1000, array([0.481, 0.519])), (1000, array([1., 0.]))], [(10000, array([0.4974, 0.5026])), (10000, array([0.4974, 0.5026])), (10000, array([1., 0.]))], [(100000, array([0.50057, 0.49943])), (100000, array([0.50057, 0.49943])), (100000, array([1., 0.]))]], 'estimated_var_sequence': [array([ 0.70710678, -0.08485281, -0.08485281,  0.70710678]), array([ 0.70710678, -0.02687006, -0.02687006,  0.70710678]), array([ 0.70710678, -0.00367696, -0.00367696,  0.70710678]), array([0.70710678, 0.0008061 , 0.0008061 , 0.70710678])], 'computation_times': [0.0, 0.0, 0.0, 0.0]}\n{'iteration': 6, 'data': [[(100, array([0.51, 0.49])), (100, array([0.51, 0.49])), (100, array([1., 0.]))], [(1000, array([0.502, 0.498])), (1000, array([0.502, 0.498])), (1000, array([1., 0.]))], [(10000, array([0.4996, 0.5004])), (10000, array([0.4996, 0.5004])), (10000, array([1., 0.]))], [(100000, array([0.49885, 0.50115])), (100000, array([0.49885, 0.50115])), (100000, array([1., 0.]))]], 'estimated_var_sequence': [array([0.70710678, 0.01414214, 0.01414214, 0.70710678]), array([0.70710678, 0.00282843, 0.00282843, 0.70710678]), array([ 7.07106781e-01, -5.65685425e-04, -5.65685425e-04,  7.07106781e-01]), array([ 0.70710678, -0.00162635, -0.00162635,  0.70710678])], 'computation_times': [0.0, 0.0, 0.0, 0.0]}\n{'iteration': 7, 'data': [[(100, array([0.45, 0.55])), (100, array([0.45, 0.55])), (100, array([1., 0.]))], [(1000, array([0.497, 0.503])), (1000, array([0.497, 0.503])), (1000, array([1., 0.]))], [(10000, array([0.4916, 0.5084])), (10000, array([0.4916, 0.5084])), (10000, array([1., 0.]))], [(100000, array([0.50248, 0.49752])), (100000, array([0.50248, 0.49752])), (100000, array([1., 0.]))]], 'estimated_var_sequence': [array([ 0.70710678, -0.07071068, -0.07071068,  0.70710678]), array([ 0.70710678, -0.00424264, -0.00424264,  0.70710678]), array([ 0.70710678, -0.01187939, -0.01187939,  0.70710678]), array([0.70710678, 0.00350725, 0.00350725, 0.70710678])], 'computation_times': [0.0, 0.0, 0.0, 0.0]}\n{'iteration': 8, 'data': [[(100, array([0.52, 0.48])), (100, array([0.52, 0.48])), (100, array([1., 0.]))], [(1000, array([0.512, 0.488])), (1000, array([0.512, 0.488])), (1000, array([1., 0.]))], [(10000, array([0.5043, 0.4957])), (10000, array([0.5043, 0.4957])), (10000, array([1., 0.]))], [(100000, array([0.50031, 0.49969])), (100000, array([0.50031, 0.49969])), (100000, array([1., 0.]))]], 'estimated_var_sequence': [array([0.70710678, 0.02828427, 0.02828427, 0.70710678]), array([0.70710678, 0.01697056, 0.01697056, 0.70710678]), array([0.70710678, 0.00608112, 0.00608112, 0.70710678]), array([7.07106781e-01, 4.38406204e-04, 4.38406204e-04, 7.07106781e-01])], 'computation_times': [0.0, 0.0, 0.0, 0.0]}\n{'iteration': 9, 'data': [[(100, array([0.48, 0.52])), (100, array([0.48, 0.52])), (100, array([1., 0.]))], [(1000, array([0.49, 0.51])), (1000, array([0.49, 0.51])), (1000, array([1., 0.]))], [(10000, array([0.5034, 0.4966])), (10000, array([0.5034, 0.4966])), (10000, array([1., 0.]))], [(100000, array([0.50337, 0.49663])), (100000, array([0.50337, 0.49663])), (100000, array([1., 0.]))]], 'estimated_var_sequence': [array([ 0.70710678, -0.02828427, -0.02828427,  0.70710678]), array([ 0.70710678, -0.01414214, -0.01414214,  0.70710678]), array([0.70710678, 0.00480833, 0.00480833, 0.70710678]), array([0.70710678, 0.0047659 , 0.0047659 , 0.70710678])], 'computation_times': [0.0, 0.0, 0.0, 0.0]}\n{'iteration': 10, 'data': [[(100, array([0.56, 0.44])), (100, array([0.56, 0.44])), (100, array([1., 0.]))], [(1000, array([0.49, 0.51])), (1000, array([0.49, 0.51])), (1000, array([1., 0.]))], [(10000, array([0.5022, 0.4978])), (10000, array([0.5022, 0.4978])), (10000, array([1., 0.]))], [(100000, array([0.50141, 0.49859])), (100000, array([0.50141, 0.49859])), (100000, array([1., 0.]))]], 'estimated_var_sequence': [array([0.70710678, 0.08485281, 0.08485281, 0.70710678]), array([ 0.70710678, -0.01414214, -0.01414214,  0.70710678]), array([0.70710678, 0.00311127, 0.00311127, 0.70710678]), array([0.70710678, 0.00199404, 0.00199404, 0.70710678])], 'computation_times': [0.0, 0.0, 0.0, 0.0]}\n{'iteration': 1, 'data': [[(100, array([0.51, 0.49])), (100, array([0.51, 0.49])), (100, array([1., 0.]))], [(1000, array([0.517, 0.483])), (1000, array([0.517, 0.483])), (1000, array([1., 0.]))], [(10000, array([0.5064, 0.4936])), (10000, array([0.5064, 0.4936])), (10000, array([1., 0.]))], [(100000, array([0.50055, 0.49945])), (100000, array([0.50055, 0.49945])), (100000, array([1., 0.]))]], 'estimated_var_sequence': [array([0.70710678, 0.01414214, 0.01414214, 0.70710678]), array([0.70710678, 0.02404163, 0.02404163, 0.70710678]), array([0.70710678, 0.00905097, 0.00905097, 0.70710678]), array([0.70710678, 0.00077782, 0.00077782, 0.70710678])], 'computation_times': [0.0, 0.0, 0.0, 0.0]}\n{'iteration': 2, 'data': [[(100, array([0.51, 0.49])), (100, array([0.51, 0.49])), (100, array([1., 0.]))], [(1000, array([0.494, 0.506])), (1000, array([0.494, 0.506])), (1000, array([1., 0.]))], [(10000, array([0.499, 0.501])), (10000, array([0.499, 0.501])), (10000, array([1., 0.]))], [(100000, array([0.50014, 0.49986])), (100000, array([0.50014, 0.49986])), (100000, array([1., 0.]))]], 'estimated_var_sequence': [array([0.70710678, 0.01414214, 0.01414214, 0.70710678]), array([ 0.70710678, -0.00848528, -0.00848528,  0.70710678]), array([ 0.70710678, -0.00141421, -0.00141421,  0.70710678]), array([7.07106781e-01, 1.97989899e-04, 1.97989899e-04, 7.07106781e-01])], 'computation_times': [0.0, 0.0, 0.0, 0.0]}\n{'iteration': 3, 'data': [[(100, array([0.56, 0.44])), (100, array([0.56, 0.44])), (100, array([1., 0.]))], [(1000, array([0.534, 0.466])), (1000, array([0.534, 0.466])), (1000, array([1., 0.]))], [(10000, array([0.5132, 0.4868])), (10000, array([0.5132, 0.4868])), (10000, array([1., 0.]))], [(100000, array([0.50094, 0.49906])), (100000, array([0.50094, 0.49906])), (100000, array([1., 0.]))]], 'estimated_var_sequence': [array([0.70710678, 0.08485281, 0.08485281, 0.70710678]), array([0.70710678, 0.04808326, 0.04808326, 0.70710678]), array([0.70710678, 0.01866762, 0.01866762, 0.70710678]), array([0.70710678, 0.00132936, 0.00132936, 0.70710678])], 'computation_times': [0.0, 0.0, 0.0, 0.0]}\n{'iteration': 4, 'data': [[(100, array([0.53, 0.47])), (100, array([0.53, 0.47])), (100, array([1., 0.]))], [(1000, array([0.488, 0.512])), (1000, array([0.488, 0.512])), (1000, array([1., 0.]))], [(10000, array([0.5063, 0.4937])), (10000, array([0.5063, 0.4937])), (10000, array([1., 0.]))], [(100000, array([0.49959, 0.50041])), (100000, array([0.49959, 0.50041])), (100000, array([1., 0.]))]], 'estimated_var_sequence': [array([0.70710678, 0.04242641, 0.04242641, 0.70710678]), array([ 0.70710678, -0.01697056, -0.01697056,  0.70710678]), array([0.70710678, 0.00890955, 0.00890955, 0.70710678]), array([ 7.07106781e-01, -5.79827561e-04, -5.79827561e-04,  7.07106781e-01])], 'computation_times': [0.0, 0.0, 0.0, 0.0]}\n{'iteration': 5, 'data': [[(100, array([0.44, 0.56])), (100, array([0.44, 0.56])), (100, array([1., 0.]))], [(1000, array([0.481, 0.519])), (1000, array([0.481, 0.519])), (1000, array([1., 0.]))], [(10000, array([0.4974, 0.5026])), (10000, array([0.4974, 0.5026])), (10000, array([1., 0.]))], [(100000, array([0.50057, 0.49943])), (100000, array([0.50057, 0.49943])), (100000, array([1., 0.]))]], 'estimated_var_sequence': [array([ 0.70710678, -0.08485281, -0.08485281,  0.70710678]), array([ 0.70710678, -0.02687006, -0.02687006,  0.70710678]), array([ 0.70710678, -0.00367696, -0.00367696,  0.70710678]), array([0.70710678, 0.0008061 , 0.0008061 , 0.70710678])], 'computation_times': [0.0, 0.0, 0.0, 0.0]}\n{'iteration': 6, 'data': [[(100, array([0.51, 0.49])), (100, array([0.51, 0.49])), (100, array([1., 0.]))], [(1000, array([0.502, 0.498])), (1000, array([0.502, 0.498])), (1000, array([1., 0.]))], [(10000, array([0.4996, 0.5004])), (10000, array([0.4996, 0.5004])), (10000, array([1., 0.]))], [(100000, array([0.49885, 0.50115])), (100000, array([0.49885, 0.50115])), (100000, array([1., 0.]))]], 'estimated_var_sequence': [array([0.70710678, 0.01414214, 0.01414214, 0.70710678]), array([0.70710678, 0.00282843, 0.00282843, 0.70710678]), array([ 7.07106781e-01, -5.65685425e-04, -5.65685425e-04,  7.07106781e-01]), array([ 0.70710678, -0.00162635, -0.00162635,  0.70710678])], 'computation_times': [0.0, 0.0, 0.0, 0.0]}\n{'iteration': 7, 'data': [[(100, array([0.45, 0.55])), (100, array([0.45, 0.55])), (100, array([1., 0.]))], [(1000, array([0.497, 0.503])), (1000, array([0.497, 0.503])), (1000, array([1., 0.]))], [(10000, array([0.4916, 0.5084])), (10000, array([0.4916, 0.5084])), (10000, array([1., 0.]))], [(100000, array([0.50248, 0.49752])), (100000, array([0.50248, 0.49752])), (100000, array([1., 0.]))]], 'estimated_var_sequence': [array([ 0.70710678, -0.07071068, -0.07071068,  0.70710678]), array([ 0.70710678, -0.00424264, -0.00424264,  0.70710678]), array([ 0.70710678, -0.01187939, -0.01187939,  0.70710678]), array([0.70710678, 0.00350725, 0.00350725, 0.70710678])], 'computation_times': [0.0, 0.0, 0.00099945068359375, 0.0]}\n{'iteration': 8, 'data': [[(100, array([0.52, 0.48])), (100, array([0.52, 0.48])), (100, array([1., 0.]))], [(1000, array([0.512, 0.488])), (1000, array([0.512, 0.488])), (1000, array([1., 0.]))], [(10000, array([0.5043, 0.4957])), (10000, array([0.5043, 0.4957])), (10000, array([1., 0.]))], [(100000, array([0.50031, 0.49969])), (100000, array([0.50031, 0.49969])), (100000, array([1., 0.]))]], 'estimated_var_sequence': [array([0.70710678, 0.02828427, 0.02828427, 0.70710678]), array([0.70710678, 0.01697056, 0.01697056, 0.70710678]), array([0.70710678, 0.00608112, 0.00608112, 0.70710678]), array([7.07106781e-01, 4.38406204e-04, 4.38406204e-04, 7.07106781e-01])], 'computation_times': [0.0, 0.0, 0.0009980201721191406, 0.0]}\n{'iteration': 9, 'data': [[(100, array([0.48, 0.52])), (100, array([0.48, 0.52])), (100, array([1., 0.]))], [(1000, array([0.49, 0.51])), (1000, array([0.49, 0.51])), (1000, array([1., 0.]))], [(10000, array([0.5034, 0.4966])), (10000, array([0.5034, 0.4966])), (10000, array([1., 0.]))], [(100000, array([0.50337, 0.49663])), (100000, array([0.50337, 0.49663])), (100000, array([1., 0.]))]], 'estimated_var_sequence': [array([ 0.70710678, -0.02828427, -0.02828427,  0.70710678]), array([ 0.70710678, -0.01414214, -0.01414214,  0.70710678]), array([0.70710678, 0.00480833, 0.00480833, 0.70710678]), array([0.70710678, 0.0047659 , 0.0047659 , 0.70710678])], 'computation_times': [0.0, 0.0, 0.0, 0.0]}\n{'iteration': 10, 'data': [[(100, array([0.56, 0.44])), (100, array([0.56, 0.44])), (100, array([1., 0.]))], [(1000, array([0.49, 0.51])), (1000, array([0.49, 0.51])), (1000, array([1., 0.]))], [(10000, array([0.5022, 0.4978])), (10000, array([0.5022, 0.4978])), (10000, array([1., 0.]))], [(100000, array([0.50141, 0.49859])), (100000, array([0.50141, 0.49859])), (100000, array([1., 0.]))]], 'estimated_var_sequence': [array([0.70710678, 0.08485281, 0.08485281, 0.70710678]), array([ 0.70710678, -0.01414214, -0.01414214,  0.70710678]), array([0.70710678, 0.00311127, 0.00311127, 0.70710678]), array([0.70710678, 0.00199404, 0.00199404, 0.70710678])], 'computation_times': [0.0, 0.0, 0.0, 0.0]}\n"
    }
   ],
   "source": [
    "# setup system\n",
    "e_sys = ElementalSystem(0, get_normalized_pauli_basis())\n",
    "c_sys = CompositeSystem([e_sys])\n",
    "\n",
    "povm_x = get_x_measurement(c_sys)\n",
    "povm_y = get_y_measurement(c_sys)\n",
    "povm_z = get_z_measurement(c_sys)\n",
    "povms = [povm_x, povm_y, povm_z]\n",
    "\n",
    "# settings\n",
    "true_object = get_z0_1q(c_sys)\n",
    "num_data = [100, 1000, 10000, 100000]\n",
    "iterations = 10\n",
    "\n",
    "# calculate\n",
    "results_affine_est_linear = data_analyzer.calc_estimate(\"z0\", povms, true_object, num_data, iterations, on_para_eq_constraint=True)\n",
    "param_affine_est_linear, time_affine_est_linear = data_analyzer.convert_to_series(results_affine_est_linear, true_object)\n",
    "\n",
    "results_linear_est_linear = data_analyzer.calc_estimate(\"z0\", povms, true_object, num_data, iterations, on_para_eq_constraint=False)\n",
    "param_linear_est_linear, time_linear_est_linear = data_analyzer.convert_to_series(results_linear_est_linear, true_object)"
   ]
  },
  {
   "cell_type": "code",
   "execution_count": 4,
   "metadata": {},
   "outputs": [
    {
     "output_type": "display_data",
     "data": {
      "application/vnd.plotly.v1+json": {
       "config": {
        "plotlyServerURL": "https://plot.ly"
       },
       "data": [
        {
         "mode": "lines+markers",
         "type": "scatter",
         "x": [
          100,
          1000,
          10000,
          100000
         ],
         "y": [
          0.9647,
          0.9966250000000001,
          0.9875558900000001,
          0.9998613738000002
         ]
        }
       ],
       "layout": {
        "template": {
         "data": {
          "bar": [
           {
            "error_x": {
             "color": "#2a3f5f"
            },
            "error_y": {
             "color": "#2a3f5f"
            },
            "marker": {
             "line": {
              "color": "#E5ECF6",
              "width": 0.5
             }
            },
            "type": "bar"
           }
          ],
          "barpolar": [
           {
            "marker": {
             "line": {
              "color": "#E5ECF6",
              "width": 0.5
             }
            },
            "type": "barpolar"
           }
          ],
          "carpet": [
           {
            "aaxis": {
             "endlinecolor": "#2a3f5f",
             "gridcolor": "white",
             "linecolor": "white",
             "minorgridcolor": "white",
             "startlinecolor": "#2a3f5f"
            },
            "baxis": {
             "endlinecolor": "#2a3f5f",
             "gridcolor": "white",
             "linecolor": "white",
             "minorgridcolor": "white",
             "startlinecolor": "#2a3f5f"
            },
            "type": "carpet"
           }
          ],
          "choropleth": [
           {
            "colorbar": {
             "outlinewidth": 0,
             "ticks": ""
            },
            "type": "choropleth"
           }
          ],
          "contour": [
           {
            "colorbar": {
             "outlinewidth": 0,
             "ticks": ""
            },
            "colorscale": [
             [
              0,
              "#0d0887"
             ],
             [
              0.1111111111111111,
              "#46039f"
             ],
             [
              0.2222222222222222,
              "#7201a8"
             ],
             [
              0.3333333333333333,
              "#9c179e"
             ],
             [
              0.4444444444444444,
              "#bd3786"
             ],
             [
              0.5555555555555556,
              "#d8576b"
             ],
             [
              0.6666666666666666,
              "#ed7953"
             ],
             [
              0.7777777777777778,
              "#fb9f3a"
             ],
             [
              0.8888888888888888,
              "#fdca26"
             ],
             [
              1,
              "#f0f921"
             ]
            ],
            "type": "contour"
           }
          ],
          "contourcarpet": [
           {
            "colorbar": {
             "outlinewidth": 0,
             "ticks": ""
            },
            "type": "contourcarpet"
           }
          ],
          "heatmap": [
           {
            "colorbar": {
             "outlinewidth": 0,
             "ticks": ""
            },
            "colorscale": [
             [
              0,
              "#0d0887"
             ],
             [
              0.1111111111111111,
              "#46039f"
             ],
             [
              0.2222222222222222,
              "#7201a8"
             ],
             [
              0.3333333333333333,
              "#9c179e"
             ],
             [
              0.4444444444444444,
              "#bd3786"
             ],
             [
              0.5555555555555556,
              "#d8576b"
             ],
             [
              0.6666666666666666,
              "#ed7953"
             ],
             [
              0.7777777777777778,
              "#fb9f3a"
             ],
             [
              0.8888888888888888,
              "#fdca26"
             ],
             [
              1,
              "#f0f921"
             ]
            ],
            "type": "heatmap"
           }
          ],
          "heatmapgl": [
           {
            "colorbar": {
             "outlinewidth": 0,
             "ticks": ""
            },
            "colorscale": [
             [
              0,
              "#0d0887"
             ],
             [
              0.1111111111111111,
              "#46039f"
             ],
             [
              0.2222222222222222,
              "#7201a8"
             ],
             [
              0.3333333333333333,
              "#9c179e"
             ],
             [
              0.4444444444444444,
              "#bd3786"
             ],
             [
              0.5555555555555556,
              "#d8576b"
             ],
             [
              0.6666666666666666,
              "#ed7953"
             ],
             [
              0.7777777777777778,
              "#fb9f3a"
             ],
             [
              0.8888888888888888,
              "#fdca26"
             ],
             [
              1,
              "#f0f921"
             ]
            ],
            "type": "heatmapgl"
           }
          ],
          "histogram": [
           {
            "marker": {
             "colorbar": {
              "outlinewidth": 0,
              "ticks": ""
             }
            },
            "type": "histogram"
           }
          ],
          "histogram2d": [
           {
            "colorbar": {
             "outlinewidth": 0,
             "ticks": ""
            },
            "colorscale": [
             [
              0,
              "#0d0887"
             ],
             [
              0.1111111111111111,
              "#46039f"
             ],
             [
              0.2222222222222222,
              "#7201a8"
             ],
             [
              0.3333333333333333,
              "#9c179e"
             ],
             [
              0.4444444444444444,
              "#bd3786"
             ],
             [
              0.5555555555555556,
              "#d8576b"
             ],
             [
              0.6666666666666666,
              "#ed7953"
             ],
             [
              0.7777777777777778,
              "#fb9f3a"
             ],
             [
              0.8888888888888888,
              "#fdca26"
             ],
             [
              1,
              "#f0f921"
             ]
            ],
            "type": "histogram2d"
           }
          ],
          "histogram2dcontour": [
           {
            "colorbar": {
             "outlinewidth": 0,
             "ticks": ""
            },
            "colorscale": [
             [
              0,
              "#0d0887"
             ],
             [
              0.1111111111111111,
              "#46039f"
             ],
             [
              0.2222222222222222,
              "#7201a8"
             ],
             [
              0.3333333333333333,
              "#9c179e"
             ],
             [
              0.4444444444444444,
              "#bd3786"
             ],
             [
              0.5555555555555556,
              "#d8576b"
             ],
             [
              0.6666666666666666,
              "#ed7953"
             ],
             [
              0.7777777777777778,
              "#fb9f3a"
             ],
             [
              0.8888888888888888,
              "#fdca26"
             ],
             [
              1,
              "#f0f921"
             ]
            ],
            "type": "histogram2dcontour"
           }
          ],
          "mesh3d": [
           {
            "colorbar": {
             "outlinewidth": 0,
             "ticks": ""
            },
            "type": "mesh3d"
           }
          ],
          "parcoords": [
           {
            "line": {
             "colorbar": {
              "outlinewidth": 0,
              "ticks": ""
             }
            },
            "type": "parcoords"
           }
          ],
          "pie": [
           {
            "automargin": true,
            "type": "pie"
           }
          ],
          "scatter": [
           {
            "marker": {
             "colorbar": {
              "outlinewidth": 0,
              "ticks": ""
             }
            },
            "type": "scatter"
           }
          ],
          "scatter3d": [
           {
            "line": {
             "colorbar": {
              "outlinewidth": 0,
              "ticks": ""
             }
            },
            "marker": {
             "colorbar": {
              "outlinewidth": 0,
              "ticks": ""
             }
            },
            "type": "scatter3d"
           }
          ],
          "scattercarpet": [
           {
            "marker": {
             "colorbar": {
              "outlinewidth": 0,
              "ticks": ""
             }
            },
            "type": "scattercarpet"
           }
          ],
          "scattergeo": [
           {
            "marker": {
             "colorbar": {
              "outlinewidth": 0,
              "ticks": ""
             }
            },
            "type": "scattergeo"
           }
          ],
          "scattergl": [
           {
            "marker": {
             "colorbar": {
              "outlinewidth": 0,
              "ticks": ""
             }
            },
            "type": "scattergl"
           }
          ],
          "scattermapbox": [
           {
            "marker": {
             "colorbar": {
              "outlinewidth": 0,
              "ticks": ""
             }
            },
            "type": "scattermapbox"
           }
          ],
          "scatterpolar": [
           {
            "marker": {
             "colorbar": {
              "outlinewidth": 0,
              "ticks": ""
             }
            },
            "type": "scatterpolar"
           }
          ],
          "scatterpolargl": [
           {
            "marker": {
             "colorbar": {
              "outlinewidth": 0,
              "ticks": ""
             }
            },
            "type": "scatterpolargl"
           }
          ],
          "scatterternary": [
           {
            "marker": {
             "colorbar": {
              "outlinewidth": 0,
              "ticks": ""
             }
            },
            "type": "scatterternary"
           }
          ],
          "surface": [
           {
            "colorbar": {
             "outlinewidth": 0,
             "ticks": ""
            },
            "colorscale": [
             [
              0,
              "#0d0887"
             ],
             [
              0.1111111111111111,
              "#46039f"
             ],
             [
              0.2222222222222222,
              "#7201a8"
             ],
             [
              0.3333333333333333,
              "#9c179e"
             ],
             [
              0.4444444444444444,
              "#bd3786"
             ],
             [
              0.5555555555555556,
              "#d8576b"
             ],
             [
              0.6666666666666666,
              "#ed7953"
             ],
             [
              0.7777777777777778,
              "#fb9f3a"
             ],
             [
              0.8888888888888888,
              "#fdca26"
             ],
             [
              1,
              "#f0f921"
             ]
            ],
            "type": "surface"
           }
          ],
          "table": [
           {
            "cells": {
             "fill": {
              "color": "#EBF0F8"
             },
             "line": {
              "color": "white"
             }
            },
            "header": {
             "fill": {
              "color": "#C8D4E3"
             },
             "line": {
              "color": "white"
             }
            },
            "type": "table"
           }
          ]
         },
         "layout": {
          "annotationdefaults": {
           "arrowcolor": "#2a3f5f",
           "arrowhead": 0,
           "arrowwidth": 1
          },
          "coloraxis": {
           "colorbar": {
            "outlinewidth": 0,
            "ticks": ""
           }
          },
          "colorscale": {
           "diverging": [
            [
             0,
             "#8e0152"
            ],
            [
             0.1,
             "#c51b7d"
            ],
            [
             0.2,
             "#de77ae"
            ],
            [
             0.3,
             "#f1b6da"
            ],
            [
             0.4,
             "#fde0ef"
            ],
            [
             0.5,
             "#f7f7f7"
            ],
            [
             0.6,
             "#e6f5d0"
            ],
            [
             0.7,
             "#b8e186"
            ],
            [
             0.8,
             "#7fbc41"
            ],
            [
             0.9,
             "#4d9221"
            ],
            [
             1,
             "#276419"
            ]
           ],
           "sequential": [
            [
             0,
             "#0d0887"
            ],
            [
             0.1111111111111111,
             "#46039f"
            ],
            [
             0.2222222222222222,
             "#7201a8"
            ],
            [
             0.3333333333333333,
             "#9c179e"
            ],
            [
             0.4444444444444444,
             "#bd3786"
            ],
            [
             0.5555555555555556,
             "#d8576b"
            ],
            [
             0.6666666666666666,
             "#ed7953"
            ],
            [
             0.7777777777777778,
             "#fb9f3a"
            ],
            [
             0.8888888888888888,
             "#fdca26"
            ],
            [
             1,
             "#f0f921"
            ]
           ],
           "sequentialminus": [
            [
             0,
             "#0d0887"
            ],
            [
             0.1111111111111111,
             "#46039f"
            ],
            [
             0.2222222222222222,
             "#7201a8"
            ],
            [
             0.3333333333333333,
             "#9c179e"
            ],
            [
             0.4444444444444444,
             "#bd3786"
            ],
            [
             0.5555555555555556,
             "#d8576b"
            ],
            [
             0.6666666666666666,
             "#ed7953"
            ],
            [
             0.7777777777777778,
             "#fb9f3a"
            ],
            [
             0.8888888888888888,
             "#fdca26"
            ],
            [
             1,
             "#f0f921"
            ]
           ]
          },
          "colorway": [
           "#636efa",
           "#EF553B",
           "#00cc96",
           "#ab63fa",
           "#FFA15A",
           "#19d3f3",
           "#FF6692",
           "#B6E880",
           "#FF97FF",
           "#FECB52"
          ],
          "font": {
           "color": "#2a3f5f"
          },
          "geo": {
           "bgcolor": "white",
           "lakecolor": "white",
           "landcolor": "#E5ECF6",
           "showlakes": true,
           "showland": true,
           "subunitcolor": "white"
          },
          "hoverlabel": {
           "align": "left"
          },
          "hovermode": "closest",
          "mapbox": {
           "style": "light"
          },
          "paper_bgcolor": "white",
          "plot_bgcolor": "#E5ECF6",
          "polar": {
           "angularaxis": {
            "gridcolor": "white",
            "linecolor": "white",
            "ticks": ""
           },
           "bgcolor": "#E5ECF6",
           "radialaxis": {
            "gridcolor": "white",
            "linecolor": "white",
            "ticks": ""
           }
          },
          "scene": {
           "xaxis": {
            "backgroundcolor": "#E5ECF6",
            "gridcolor": "white",
            "gridwidth": 2,
            "linecolor": "white",
            "showbackground": true,
            "ticks": "",
            "zerolinecolor": "white"
           },
           "yaxis": {
            "backgroundcolor": "#E5ECF6",
            "gridcolor": "white",
            "gridwidth": 2,
            "linecolor": "white",
            "showbackground": true,
            "ticks": "",
            "zerolinecolor": "white"
           },
           "zaxis": {
            "backgroundcolor": "#E5ECF6",
            "gridcolor": "white",
            "gridwidth": 2,
            "linecolor": "white",
            "showbackground": true,
            "ticks": "",
            "zerolinecolor": "white"
           }
          },
          "shapedefaults": {
           "line": {
            "color": "#2a3f5f"
           }
          },
          "ternary": {
           "aaxis": {
            "gridcolor": "white",
            "linecolor": "white",
            "ticks": ""
           },
           "baxis": {
            "gridcolor": "white",
            "linecolor": "white",
            "ticks": ""
           },
           "bgcolor": "#E5ECF6",
           "caxis": {
            "gridcolor": "white",
            "linecolor": "white",
            "ticks": ""
           }
          },
          "title": {
           "x": 0.05
          },
          "xaxis": {
           "automargin": true,
           "gridcolor": "white",
           "linecolor": "white",
           "ticks": "",
           "title": {
            "standoff": 15
           },
           "zerolinecolor": "white",
           "zerolinewidth": 2
          },
          "yaxis": {
           "automargin": true,
           "gridcolor": "white",
           "linecolor": "white",
           "ticks": "",
           "title": {
            "standoff": 15
           },
           "zerolinecolor": "white",
           "zerolinewidth": 2
          }
         }
        },
        "title": {
         "text": "Mean Square Value"
        },
        "xaxis": {
         "title": {
          "text": "number of data"
         },
         "type": "log"
        },
        "yaxis": {
         "title": {
          "text": "Mean Square Error of estimates and true"
         },
         "type": "log"
        }
       }
      }
     },
     "metadata": {}
    },
    {
     "output_type": "display_data",
     "data": {
      "application/vnd.plotly.v1+json": {
       "config": {
        "plotlyServerURL": "https://plot.ly"
       },
       "data": [
        {
         "marker": {
          "color": "Blue"
         },
         "type": "histogram",
         "x": [
          0,
          0.000997781753540039,
          0,
          0,
          0,
          0,
          0,
          0,
          0,
          0
         ],
         "xaxis": "x",
         "xbins": {
          "end": 1,
          "size": 0.1,
          "start": 0
         },
         "yaxis": "y"
        },
        {
         "marker": {
          "color": "Blue"
         },
         "type": "histogram",
         "x": [
          0,
          0,
          0,
          0,
          0,
          0,
          0,
          0,
          0,
          0
         ],
         "xaxis": "x2",
         "xbins": {
          "end": 1,
          "size": 0.1,
          "start": 0
         },
         "yaxis": "y2"
        },
        {
         "marker": {
          "color": "Blue"
         },
         "type": "histogram",
         "x": [
          0,
          0,
          0,
          0,
          0,
          0,
          0,
          0,
          0,
          0
         ],
         "xaxis": "x3",
         "xbins": {
          "end": 1,
          "size": 0.1,
          "start": 0
         },
         "yaxis": "y3"
        },
        {
         "marker": {
          "color": "Blue"
         },
         "type": "histogram",
         "x": [
          0,
          0,
          0,
          0,
          0,
          0,
          0,
          0,
          0,
          0
         ],
         "xaxis": "x4",
         "xbins": {
          "end": 1,
          "size": 0.1,
          "start": 0
         },
         "yaxis": "y4"
        }
       ],
       "layout": {
        "annotations": [
         {
          "font": {
           "size": 16
          },
          "showarrow": false,
          "text": "number of data = 100",
          "x": 0.10625,
          "xanchor": "center",
          "xref": "paper",
          "y": 1,
          "yanchor": "bottom",
          "yref": "paper"
         },
         {
          "font": {
           "size": 16
          },
          "showarrow": false,
          "text": "number of data = 1000",
          "x": 0.36875,
          "xanchor": "center",
          "xref": "paper",
          "y": 1,
          "yanchor": "bottom",
          "yref": "paper"
         },
         {
          "font": {
           "size": 16
          },
          "showarrow": false,
          "text": "number of data = 10000",
          "x": 0.6312500000000001,
          "xanchor": "center",
          "xref": "paper",
          "y": 1,
          "yanchor": "bottom",
          "yref": "paper"
         },
         {
          "font": {
           "size": 16
          },
          "showarrow": false,
          "text": "number of data = 100000",
          "x": 0.89375,
          "xanchor": "center",
          "xref": "paper",
          "y": 1,
          "yanchor": "bottom",
          "yref": "paper"
         }
        ],
        "bargap": 0.2,
        "bargroupgap": 0.1,
        "showlegend": false,
        "template": {
         "data": {
          "bar": [
           {
            "error_x": {
             "color": "#2a3f5f"
            },
            "error_y": {
             "color": "#2a3f5f"
            },
            "marker": {
             "line": {
              "color": "#E5ECF6",
              "width": 0.5
             }
            },
            "type": "bar"
           }
          ],
          "barpolar": [
           {
            "marker": {
             "line": {
              "color": "#E5ECF6",
              "width": 0.5
             }
            },
            "type": "barpolar"
           }
          ],
          "carpet": [
           {
            "aaxis": {
             "endlinecolor": "#2a3f5f",
             "gridcolor": "white",
             "linecolor": "white",
             "minorgridcolor": "white",
             "startlinecolor": "#2a3f5f"
            },
            "baxis": {
             "endlinecolor": "#2a3f5f",
             "gridcolor": "white",
             "linecolor": "white",
             "minorgridcolor": "white",
             "startlinecolor": "#2a3f5f"
            },
            "type": "carpet"
           }
          ],
          "choropleth": [
           {
            "colorbar": {
             "outlinewidth": 0,
             "ticks": ""
            },
            "type": "choropleth"
           }
          ],
          "contour": [
           {
            "colorbar": {
             "outlinewidth": 0,
             "ticks": ""
            },
            "colorscale": [
             [
              0,
              "#0d0887"
             ],
             [
              0.1111111111111111,
              "#46039f"
             ],
             [
              0.2222222222222222,
              "#7201a8"
             ],
             [
              0.3333333333333333,
              "#9c179e"
             ],
             [
              0.4444444444444444,
              "#bd3786"
             ],
             [
              0.5555555555555556,
              "#d8576b"
             ],
             [
              0.6666666666666666,
              "#ed7953"
             ],
             [
              0.7777777777777778,
              "#fb9f3a"
             ],
             [
              0.8888888888888888,
              "#fdca26"
             ],
             [
              1,
              "#f0f921"
             ]
            ],
            "type": "contour"
           }
          ],
          "contourcarpet": [
           {
            "colorbar": {
             "outlinewidth": 0,
             "ticks": ""
            },
            "type": "contourcarpet"
           }
          ],
          "heatmap": [
           {
            "colorbar": {
             "outlinewidth": 0,
             "ticks": ""
            },
            "colorscale": [
             [
              0,
              "#0d0887"
             ],
             [
              0.1111111111111111,
              "#46039f"
             ],
             [
              0.2222222222222222,
              "#7201a8"
             ],
             [
              0.3333333333333333,
              "#9c179e"
             ],
             [
              0.4444444444444444,
              "#bd3786"
             ],
             [
              0.5555555555555556,
              "#d8576b"
             ],
             [
              0.6666666666666666,
              "#ed7953"
             ],
             [
              0.7777777777777778,
              "#fb9f3a"
             ],
             [
              0.8888888888888888,
              "#fdca26"
             ],
             [
              1,
              "#f0f921"
             ]
            ],
            "type": "heatmap"
           }
          ],
          "heatmapgl": [
           {
            "colorbar": {
             "outlinewidth": 0,
             "ticks": ""
            },
            "colorscale": [
             [
              0,
              "#0d0887"
             ],
             [
              0.1111111111111111,
              "#46039f"
             ],
             [
              0.2222222222222222,
              "#7201a8"
             ],
             [
              0.3333333333333333,
              "#9c179e"
             ],
             [
              0.4444444444444444,
              "#bd3786"
             ],
             [
              0.5555555555555556,
              "#d8576b"
             ],
             [
              0.6666666666666666,
              "#ed7953"
             ],
             [
              0.7777777777777778,
              "#fb9f3a"
             ],
             [
              0.8888888888888888,
              "#fdca26"
             ],
             [
              1,
              "#f0f921"
             ]
            ],
            "type": "heatmapgl"
           }
          ],
          "histogram": [
           {
            "marker": {
             "colorbar": {
              "outlinewidth": 0,
              "ticks": ""
             }
            },
            "type": "histogram"
           }
          ],
          "histogram2d": [
           {
            "colorbar": {
             "outlinewidth": 0,
             "ticks": ""
            },
            "colorscale": [
             [
              0,
              "#0d0887"
             ],
             [
              0.1111111111111111,
              "#46039f"
             ],
             [
              0.2222222222222222,
              "#7201a8"
             ],
             [
              0.3333333333333333,
              "#9c179e"
             ],
             [
              0.4444444444444444,
              "#bd3786"
             ],
             [
              0.5555555555555556,
              "#d8576b"
             ],
             [
              0.6666666666666666,
              "#ed7953"
             ],
             [
              0.7777777777777778,
              "#fb9f3a"
             ],
             [
              0.8888888888888888,
              "#fdca26"
             ],
             [
              1,
              "#f0f921"
             ]
            ],
            "type": "histogram2d"
           }
          ],
          "histogram2dcontour": [
           {
            "colorbar": {
             "outlinewidth": 0,
             "ticks": ""
            },
            "colorscale": [
             [
              0,
              "#0d0887"
             ],
             [
              0.1111111111111111,
              "#46039f"
             ],
             [
              0.2222222222222222,
              "#7201a8"
             ],
             [
              0.3333333333333333,
              "#9c179e"
             ],
             [
              0.4444444444444444,
              "#bd3786"
             ],
             [
              0.5555555555555556,
              "#d8576b"
             ],
             [
              0.6666666666666666,
              "#ed7953"
             ],
             [
              0.7777777777777778,
              "#fb9f3a"
             ],
             [
              0.8888888888888888,
              "#fdca26"
             ],
             [
              1,
              "#f0f921"
             ]
            ],
            "type": "histogram2dcontour"
           }
          ],
          "mesh3d": [
           {
            "colorbar": {
             "outlinewidth": 0,
             "ticks": ""
            },
            "type": "mesh3d"
           }
          ],
          "parcoords": [
           {
            "line": {
             "colorbar": {
              "outlinewidth": 0,
              "ticks": ""
             }
            },
            "type": "parcoords"
           }
          ],
          "pie": [
           {
            "automargin": true,
            "type": "pie"
           }
          ],
          "scatter": [
           {
            "marker": {
             "colorbar": {
              "outlinewidth": 0,
              "ticks": ""
             }
            },
            "type": "scatter"
           }
          ],
          "scatter3d": [
           {
            "line": {
             "colorbar": {
              "outlinewidth": 0,
              "ticks": ""
             }
            },
            "marker": {
             "colorbar": {
              "outlinewidth": 0,
              "ticks": ""
             }
            },
            "type": "scatter3d"
           }
          ],
          "scattercarpet": [
           {
            "marker": {
             "colorbar": {
              "outlinewidth": 0,
              "ticks": ""
             }
            },
            "type": "scattercarpet"
           }
          ],
          "scattergeo": [
           {
            "marker": {
             "colorbar": {
              "outlinewidth": 0,
              "ticks": ""
             }
            },
            "type": "scattergeo"
           }
          ],
          "scattergl": [
           {
            "marker": {
             "colorbar": {
              "outlinewidth": 0,
              "ticks": ""
             }
            },
            "type": "scattergl"
           }
          ],
          "scattermapbox": [
           {
            "marker": {
             "colorbar": {
              "outlinewidth": 0,
              "ticks": ""
             }
            },
            "type": "scattermapbox"
           }
          ],
          "scatterpolar": [
           {
            "marker": {
             "colorbar": {
              "outlinewidth": 0,
              "ticks": ""
             }
            },
            "type": "scatterpolar"
           }
          ],
          "scatterpolargl": [
           {
            "marker": {
             "colorbar": {
              "outlinewidth": 0,
              "ticks": ""
             }
            },
            "type": "scatterpolargl"
           }
          ],
          "scatterternary": [
           {
            "marker": {
             "colorbar": {
              "outlinewidth": 0,
              "ticks": ""
             }
            },
            "type": "scatterternary"
           }
          ],
          "surface": [
           {
            "colorbar": {
             "outlinewidth": 0,
             "ticks": ""
            },
            "colorscale": [
             [
              0,
              "#0d0887"
             ],
             [
              0.1111111111111111,
              "#46039f"
             ],
             [
              0.2222222222222222,
              "#7201a8"
             ],
             [
              0.3333333333333333,
              "#9c179e"
             ],
             [
              0.4444444444444444,
              "#bd3786"
             ],
             [
              0.5555555555555556,
              "#d8576b"
             ],
             [
              0.6666666666666666,
              "#ed7953"
             ],
             [
              0.7777777777777778,
              "#fb9f3a"
             ],
             [
              0.8888888888888888,
              "#fdca26"
             ],
             [
              1,
              "#f0f921"
             ]
            ],
            "type": "surface"
           }
          ],
          "table": [
           {
            "cells": {
             "fill": {
              "color": "#EBF0F8"
             },
             "line": {
              "color": "white"
             }
            },
            "header": {
             "fill": {
              "color": "#C8D4E3"
             },
             "line": {
              "color": "white"
             }
            },
            "type": "table"
           }
          ]
         },
         "layout": {
          "annotationdefaults": {
           "arrowcolor": "#2a3f5f",
           "arrowhead": 0,
           "arrowwidth": 1
          },
          "coloraxis": {
           "colorbar": {
            "outlinewidth": 0,
            "ticks": ""
           }
          },
          "colorscale": {
           "diverging": [
            [
             0,
             "#8e0152"
            ],
            [
             0.1,
             "#c51b7d"
            ],
            [
             0.2,
             "#de77ae"
            ],
            [
             0.3,
             "#f1b6da"
            ],
            [
             0.4,
             "#fde0ef"
            ],
            [
             0.5,
             "#f7f7f7"
            ],
            [
             0.6,
             "#e6f5d0"
            ],
            [
             0.7,
             "#b8e186"
            ],
            [
             0.8,
             "#7fbc41"
            ],
            [
             0.9,
             "#4d9221"
            ],
            [
             1,
             "#276419"
            ]
           ],
           "sequential": [
            [
             0,
             "#0d0887"
            ],
            [
             0.1111111111111111,
             "#46039f"
            ],
            [
             0.2222222222222222,
             "#7201a8"
            ],
            [
             0.3333333333333333,
             "#9c179e"
            ],
            [
             0.4444444444444444,
             "#bd3786"
            ],
            [
             0.5555555555555556,
             "#d8576b"
            ],
            [
             0.6666666666666666,
             "#ed7953"
            ],
            [
             0.7777777777777778,
             "#fb9f3a"
            ],
            [
             0.8888888888888888,
             "#fdca26"
            ],
            [
             1,
             "#f0f921"
            ]
           ],
           "sequentialminus": [
            [
             0,
             "#0d0887"
            ],
            [
             0.1111111111111111,
             "#46039f"
            ],
            [
             0.2222222222222222,
             "#7201a8"
            ],
            [
             0.3333333333333333,
             "#9c179e"
            ],
            [
             0.4444444444444444,
             "#bd3786"
            ],
            [
             0.5555555555555556,
             "#d8576b"
            ],
            [
             0.6666666666666666,
             "#ed7953"
            ],
            [
             0.7777777777777778,
             "#fb9f3a"
            ],
            [
             0.8888888888888888,
             "#fdca26"
            ],
            [
             1,
             "#f0f921"
            ]
           ]
          },
          "colorway": [
           "#636efa",
           "#EF553B",
           "#00cc96",
           "#ab63fa",
           "#FFA15A",
           "#19d3f3",
           "#FF6692",
           "#B6E880",
           "#FF97FF",
           "#FECB52"
          ],
          "font": {
           "color": "#2a3f5f"
          },
          "geo": {
           "bgcolor": "white",
           "lakecolor": "white",
           "landcolor": "#E5ECF6",
           "showlakes": true,
           "showland": true,
           "subunitcolor": "white"
          },
          "hoverlabel": {
           "align": "left"
          },
          "hovermode": "closest",
          "mapbox": {
           "style": "light"
          },
          "paper_bgcolor": "white",
          "plot_bgcolor": "#E5ECF6",
          "polar": {
           "angularaxis": {
            "gridcolor": "white",
            "linecolor": "white",
            "ticks": ""
           },
           "bgcolor": "#E5ECF6",
           "radialaxis": {
            "gridcolor": "white",
            "linecolor": "white",
            "ticks": ""
           }
          },
          "scene": {
           "xaxis": {
            "backgroundcolor": "#E5ECF6",
            "gridcolor": "white",
            "gridwidth": 2,
            "linecolor": "white",
            "showbackground": true,
            "ticks": "",
            "zerolinecolor": "white"
           },
           "yaxis": {
            "backgroundcolor": "#E5ECF6",
            "gridcolor": "white",
            "gridwidth": 2,
            "linecolor": "white",
            "showbackground": true,
            "ticks": "",
            "zerolinecolor": "white"
           },
           "zaxis": {
            "backgroundcolor": "#E5ECF6",
            "gridcolor": "white",
            "gridwidth": 2,
            "linecolor": "white",
            "showbackground": true,
            "ticks": "",
            "zerolinecolor": "white"
           }
          },
          "shapedefaults": {
           "line": {
            "color": "#2a3f5f"
           }
          },
          "ternary": {
           "aaxis": {
            "gridcolor": "white",
            "linecolor": "white",
            "ticks": ""
           },
           "baxis": {
            "gridcolor": "white",
            "linecolor": "white",
            "ticks": ""
           },
           "bgcolor": "#E5ECF6",
           "caxis": {
            "gridcolor": "white",
            "linecolor": "white",
            "ticks": ""
           }
          },
          "title": {
           "x": 0.05
          },
          "xaxis": {
           "automargin": true,
           "gridcolor": "white",
           "linecolor": "white",
           "ticks": "",
           "title": {
            "standoff": 15
           },
           "zerolinecolor": "white",
           "zerolinewidth": 2
          },
          "yaxis": {
           "automargin": true,
           "gridcolor": "white",
           "linecolor": "white",
           "ticks": "",
           "title": {
            "standoff": 15
           },
           "zerolinecolor": "white",
           "zerolinewidth": 2
          }
         }
        },
        "title": {
         "text": "computation times for each estimate"
        },
        "width": 1200,
        "xaxis": {
         "anchor": "y",
         "domain": [
          0,
          0.2125
         ],
         "title": {
          "text": "computation time(sec)"
         }
        },
        "xaxis2": {
         "anchor": "y2",
         "domain": [
          0.2625,
          0.475
         ]
        },
        "xaxis3": {
         "anchor": "y3",
         "domain": [
          0.525,
          0.7375
         ]
        },
        "xaxis4": {
         "anchor": "y4",
         "domain": [
          0.7875,
          1
         ]
        },
        "yaxis": {
         "anchor": "x",
         "domain": [
          0,
          1
         ],
         "title": {
          "text": "count"
         }
        },
        "yaxis2": {
         "anchor": "x2",
         "domain": [
          0,
          1
         ]
        },
        "yaxis3": {
         "anchor": "x3",
         "domain": [
          0,
          1
         ]
        },
        "yaxis4": {
         "anchor": "x4",
         "domain": [
          0,
          1
         ]
        }
       }
      }
     },
     "metadata": {}
    }
   ],
   "source": [
    "# show graphs\n",
    "data_analyzer.show_mse(num_data, param_affine_est_linear)\n",
    "data_analyzer.show_computation_times(num_data, time_affine_est_linear)"
   ]
  },
  {
   "cell_type": "code",
   "execution_count": null,
   "metadata": {},
   "outputs": [],
   "source": []
  }
 ],
 "metadata": {
  "kernelspec": {
   "display_name": "Python 3",
   "language": "python",
   "name": "python3"
  },
  "language_info": {
   "codemirror_mode": {
    "name": "ipython",
    "version": 3
   },
   "file_extension": ".py",
   "mimetype": "text/x-python",
   "name": "python",
   "nbconvert_exporter": "python",
   "pygments_lexer": "ipython3",
   "version": "3.6.8-final"
  }
 },
 "nbformat": 4,
 "nbformat_minor": 4
}