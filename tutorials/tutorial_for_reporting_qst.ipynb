{
 "cells": [
  {
   "cell_type": "code",
   "execution_count": 1,
   "metadata": {},
   "outputs": [],
   "source": [
    "# State"
   ]
  },
  {
   "cell_type": "code",
   "execution_count": 1,
   "metadata": {},
   "outputs": [],
   "source": [
    "import pickle\n",
    "import time\n",
    "from typing import List\n",
    "import datetime as dt\n",
    "from pathlib import Path\n",
    "\n",
    "import numpy as np\n",
    "import pandas as pd\n",
    "import plotly.graph_objects as go\n",
    "import plotly.express as px\n",
    "\n",
    "from tqdm import tqdm\n",
    "\n",
    "from quara.data_analysis import data_analysis, physicality_violation_check, report\n",
    "from quara.data_analysis.projected_gradient_descent_backtracking import ProjectedGradientDescentBacktracking, ProjectedGradientDescentBacktrackingOption\n",
    "from quara.data_analysis.weighted_probability_based_squared_error import WeightedProbabilityBasedSquaredError, WeightedProbabilityBasedSquaredErrorOption\n",
    "from quara.data_analysis.weighted_relative_entropy import WeightedRelativeEntropy, WeightedRelativeEntropyOption\n",
    "from quara.objects.composite_system import CompositeSystem\n",
    "from quara.objects.elemental_system import ElementalSystem\n",
    "from quara.objects.matrix_basis import get_normalized_pauli_basis\n",
    "from quara.objects.povm import (\n",
    "    Povm,\n",
    "    get_x_povm,\n",
    "    get_y_povm,\n",
    "    get_z_povm,\n",
    ")\n",
    "from quara.objects.qoperation import QOperation\n",
    "from quara.objects.state import State, get_z0_1q, get_z1_1q, get_x0_1q\n",
    "from quara.protocol.qtomography.standard.standard_qst import StandardQst\n",
    "from quara.protocol.qtomography.standard.linear_estimator import LinearEstimator\n",
    "from quara.protocol.qtomography.standard.loss_minimization_estimator import LossMinimizationEstimator\n",
    "from quara.protocol.qtomography.standard.projected_linear_estimator import (\n",
    "    ProjectedLinearEstimator,\n",
    ")\n",
    "\n",
    "from quara.data_analysis.simulation import StandardQTomographySimulationSetting\n",
    "from quara.settings import Settings"
   ]
  },
  {
   "cell_type": "code",
   "execution_count": 2,
   "metadata": {},
   "outputs": [],
   "source": [
    "%reload_ext autoreload\n",
    "%autoreload 2"
   ]
  },
  {
   "cell_type": "code",
   "execution_count": 3,
   "metadata": {},
   "outputs": [],
   "source": [
    "start_all = time.time()"
   ]
  },
  {
   "cell_type": "code",
   "execution_count": 4,
   "metadata": {},
   "outputs": [],
   "source": [
    "# setup system\n",
    "e_sys = ElementalSystem(0, get_normalized_pauli_basis())\n",
    "c_sys = CompositeSystem([e_sys])\n",
    "\n",
    "povm_x = get_x_povm(c_sys)\n",
    "povm_y = get_y_povm(c_sys)\n",
    "povm_z = get_z_povm(c_sys)\n",
    "tester_objects = [povm_x, povm_y, povm_z]"
   ]
  },
  {
   "cell_type": "code",
   "execution_count": 5,
   "metadata": {},
   "outputs": [
    {
     "data": {
      "text/plain": [
       "array([0.70710678, 0.        , 0.        , 0.70710678])"
      ]
     },
     "execution_count": 5,
     "metadata": {},
     "output_type": "execute_result"
    }
   ],
   "source": [
    "# Case 1:\n",
    "true_object = get_z0_1q(c_sys)\n",
    "\n",
    "# Case 2:\n",
    "# vec = np.array([1/np.sqrt(2), 1/np.sqrt(6), 1/np.sqrt(6), 1/np.sqrt(6)],dtype=np.float64)\n",
    "# true_object = State(c_sys, vec)\n",
    "\n",
    "# Case 3:\n",
    "# vec = np.array([1 / np.sqrt(2), 0, 0, 0], dtype=np.float64)\n",
    "# true_object = State(c_sys, vec)\n",
    "\n",
    "true_object.vec"
   ]
  },
  {
   "cell_type": "code",
   "execution_count": 6,
   "metadata": {
    "tags": []
   },
   "outputs": [
    {
     "name": "stderr",
     "output_type": "stream",
     "text": [
      " 10%|█         | 1/10 [00:00<00:00,  9.61it/s]"
     ]
    },
    {
     "name": "stdout",
     "output_type": "stream",
     "text": [
      "Case 0: Linear(True)\n",
      "Parametorization: True\n",
      "Type of qtomography: StandardQst\n",
      "Estimator: LinearEstimator\n"
     ]
    },
    {
     "name": "stderr",
     "output_type": "stream",
     "text": [
      "100%|██████████| 10/10 [00:00<00:00, 10.91it/s]\n",
      " 20%|██        | 2/10 [00:00<00:00, 10.52it/s]"
     ]
    },
    {
     "name": "stdout",
     "output_type": "stream",
     "text": [
      "elapsed_time:0.01579508384068807[min]\n",
      "\n",
      "Case 1: Linear(False)\n",
      "Parametorization: False\n",
      "Type of qtomography: StandardQst\n",
      "Estimator: LinearEstimator\n"
     ]
    },
    {
     "name": "stderr",
     "output_type": "stream",
     "text": [
      "100%|██████████| 10/10 [00:01<00:00,  9.91it/s]\n",
      " 10%|█         | 1/10 [00:00<00:01,  8.37it/s]"
     ]
    },
    {
     "name": "stdout",
     "output_type": "stream",
     "text": [
      "elapsed_time:0.016923932234446208[min]\n",
      "\n",
      "Case 2: ProjectedLinear(True)\n",
      "Parametorization: True\n",
      "Type of qtomography: StandardQst\n",
      "Estimator: ProjectedLinearEstimator\n"
     ]
    },
    {
     "name": "stderr",
     "output_type": "stream",
     "text": [
      "100%|██████████| 10/10 [00:01<00:00,  8.53it/s]\n",
      " 10%|█         | 1/10 [00:00<00:01,  8.82it/s]"
     ]
    },
    {
     "name": "stdout",
     "output_type": "stream",
     "text": [
      "elapsed_time:0.019613750775655112[min]\n",
      "\n",
      "Case 3: ProjectedLinear(False)\n",
      "Parametorization: False\n",
      "Type of qtomography: StandardQst\n",
      "Estimator: ProjectedLinearEstimator\n"
     ]
    },
    {
     "name": "stderr",
     "output_type": "stream",
     "text": [
      "100%|██████████| 10/10 [00:01<00:00,  8.15it/s]\n",
      "  0%|          | 0/10 [00:00<?, ?it/s]"
     ]
    },
    {
     "name": "stdout",
     "output_type": "stream",
     "text": [
      "elapsed_time:0.020557514826456704[min]\n",
      "\n",
      "Case 4: Maximum-Likelihood(True)\n",
      "Parametorization: True\n",
      "Type of qtomography: StandardQst\n",
      "Estimator: LossMinimizationEstimator\n"
     ]
    },
    {
     "name": "stderr",
     "output_type": "stream",
     "text": [
      "100%|██████████| 10/10 [00:09<00:00,  1.07it/s]\n",
      "  0%|          | 0/10 [00:00<?, ?it/s]"
     ]
    },
    {
     "name": "stdout",
     "output_type": "stream",
     "text": [
      "elapsed_time:0.15620498259862264[min]\n",
      "\n",
      "Case 5: Maximum-Likelihood(False)\n",
      "Parametorization: False\n",
      "Type of qtomography: StandardQst\n",
      "Estimator: LossMinimizationEstimator\n"
     ]
    },
    {
     "name": "stderr",
     "output_type": "stream",
     "text": [
      "100%|██████████| 10/10 [00:08<00:00,  1.11it/s]\n",
      "  0%|          | 0/10 [00:00<?, ?it/s]"
     ]
    },
    {
     "name": "stdout",
     "output_type": "stream",
     "text": [
      "elapsed_time:0.14997086922327676[min]\n",
      "\n",
      "Case 6: Least Squares(True)\n",
      "Parametorization: True\n",
      "Type of qtomography: StandardQst\n",
      "Estimator: LossMinimizationEstimator\n"
     ]
    },
    {
     "name": "stderr",
     "output_type": "stream",
     "text": [
      "100%|██████████| 10/10 [00:02<00:00,  4.88it/s]\n",
      "  0%|          | 0/10 [00:00<?, ?it/s]"
     ]
    },
    {
     "name": "stdout",
     "output_type": "stream",
     "text": [
      "elapsed_time:0.03425743182500204[min]\n",
      "\n",
      "Case 7: Least Squares(False)\n",
      "Parametorization: False\n",
      "Type of qtomography: StandardQst\n",
      "Estimator: LossMinimizationEstimator\n"
     ]
    },
    {
     "name": "stderr",
     "output_type": "stream",
     "text": [
      "100%|██████████| 10/10 [00:02<00:00,  4.58it/s]"
     ]
    },
    {
     "name": "stdout",
     "output_type": "stream",
     "text": [
      "elapsed_time:0.03644274473190308[min]\n",
      "\n"
     ]
    },
    {
     "name": "stderr",
     "output_type": "stream",
     "text": [
      "\n"
     ]
    }
   ],
   "source": [
    "num_data = [100, 1000, 10000]\n",
    "# n_rep = 100\n",
    "n_rep = 10\n",
    "\n",
    "case_name_list = [\n",
    "    \"Linear(True)\",\n",
    "    \"Linear(False)\",\n",
    "    \"ProjectedLinear(True)\",\n",
    "    \"ProjectedLinear(False)\",\n",
    "    \"Maximum-Likelihood(True)\",\n",
    "    \"Maximum-Likelihood(False)\",\n",
    "    \"Least Squares(True)\",\n",
    "    \"Least Squares(False)\",\n",
    "]\n",
    "\n",
    "seed = 777\n",
    "qtomography_list = [\n",
    "    StandardQst(tester_objects, on_para_eq_constraint=True, seed=seed),\n",
    "    StandardQst(tester_objects, on_para_eq_constraint=False, seed=seed),\n",
    "    StandardQst(tester_objects, on_para_eq_constraint=True, seed=seed),\n",
    "    StandardQst(tester_objects, on_para_eq_constraint=False, seed=seed),\n",
    "    StandardQst(tester_objects, on_para_eq_constraint=True, seed=seed),\n",
    "    StandardQst(tester_objects, on_para_eq_constraint=False, seed=seed),\n",
    "    StandardQst(tester_objects, on_para_eq_constraint=True, seed=seed),\n",
    "    StandardQst(tester_objects, on_para_eq_constraint=False, seed=seed),\n",
    "]\n",
    "para_list = [\n",
    "    True,\n",
    "    False,\n",
    "    True,\n",
    "    False,\n",
    "    True,\n",
    "    False,\n",
    "    True,\n",
    "    False,\n",
    "]\n",
    "\n",
    "estimator_list = [\n",
    "    LinearEstimator(),\n",
    "    LinearEstimator(),\n",
    "    ProjectedLinearEstimator(),\n",
    "    ProjectedLinearEstimator(),\n",
    "    LossMinimizationEstimator(),\n",
    "    LossMinimizationEstimator(),\n",
    "    LossMinimizationEstimator(),\n",
    "    LossMinimizationEstimator(),\n",
    "]\n",
    "\n",
    "loss_list = [\n",
    "    None,\n",
    "    None,\n",
    "    None,\n",
    "    None,\n",
    "    WeightedRelativeEntropy(3),\n",
    "    WeightedRelativeEntropy(4),\n",
    "    WeightedProbabilityBasedSquaredError(3),\n",
    "    WeightedProbabilityBasedSquaredError(4),\n",
    "]\n",
    "\n",
    "loss_option_list = [\n",
    "    None,\n",
    "    None,\n",
    "    None,\n",
    "    None,\n",
    "    WeightedRelativeEntropyOption(\"identity\"),\n",
    "    WeightedRelativeEntropyOption(\"identity\"),\n",
    "    WeightedProbabilityBasedSquaredErrorOption(\"identity\"),\n",
    "    WeightedProbabilityBasedSquaredErrorOption(\"identity\"),\n",
    "]\n",
    "\n",
    "algo_list = [\n",
    "    None,\n",
    "    None,\n",
    "    None,\n",
    "    None,\n",
    "    ProjectedGradientDescentBacktracking(),\n",
    "    ProjectedGradientDescentBacktracking(),\n",
    "    ProjectedGradientDescentBacktracking(),\n",
    "    ProjectedGradientDescentBacktracking(),\n",
    "]\n",
    "\n",
    "algo_option_list = [\n",
    "    None,\n",
    "    None,\n",
    "    None,\n",
    "    None,\n",
    "    ProjectedGradientDescentBacktrackingOption(\n",
    "        mode_stopping_criterion_gradient_descent=\"sum_absolute_difference_variable\",\n",
    "        num_history_stopping_criterion_gradient_descent=1,\n",
    "        mode_proj_order=order\n",
    "    ),\n",
    "    ProjectedGradientDescentBacktrackingOption(\n",
    "        mode_stopping_criterion_gradient_descent=\"sum_absolute_difference_variable\",\n",
    "        num_history_stopping_criterion_gradient_descent=1,\n",
    "        mode_proj_order=order\n",
    "    ),\n",
    "    ProjectedGradientDescentBacktrackingOption(\n",
    "        mode_stopping_criterion_gradient_descent=\"sum_absolute_difference_variable\",\n",
    "        num_history_stopping_criterion_gradient_descent=1,\n",
    "        mode_proj_order=order\n",
    "    ),\n",
    "    ProjectedGradientDescentBacktrackingOption(\n",
    "        mode_stopping_criterion_gradient_descent=\"sum_absolute_difference_variable\",\n",
    "        num_history_stopping_criterion_gradient_descent=1,\n",
    "    mode_proj_order=order\n",
    "    ),\n",
    "]\n",
    "\n",
    "estimation_results_list = []\n",
    "elapsed_times = []\n",
    "simulation_settings = []\n",
    "\n",
    "for i, name in enumerate(case_name_list):\n",
    "    qtomography = qtomography_list[i]\n",
    "    estimator = estimator_list[i]\n",
    "    loss = loss_list[i]\n",
    "    loss_option = loss_option_list[i]\n",
    "    algo = algo_list[i]\n",
    "    algo_option = algo_option_list[i]\n",
    "\n",
    "    start = time.time()\n",
    "    print(f\"Case {i}: {name}\")\n",
    "    print(f\"Parametorization: {para_list[i]}\")\n",
    "    print(f\"Type of qtomography: {qtomography.__class__.__name__}\")\n",
    "    print(f\"Estimator: {estimator.__class__.__name__}\")\n",
    "\n",
    "    estimation_results = data_analysis.estimate(\n",
    "        qtomography=qtomography,\n",
    "        true_object=true_object,\n",
    "        num_data=num_data,\n",
    "        estimator=estimator,\n",
    "        loss=loss,\n",
    "        loss_option=loss_option,\n",
    "        algo=algo,\n",
    "        algo_option=algo_option,\n",
    "        iteration=n_rep,\n",
    "    )\n",
    "    estimation_results_list.append(estimation_results)\n",
    "\n",
    "    # stock settings of this simulation\n",
    "    simulation_setting = StandardQTomographySimulationSetting(\n",
    "        name=name,\n",
    "        estimator=estimator,\n",
    "        loss=loss,\n",
    "        loss_option=loss_option,\n",
    "        algo=algo,\n",
    "        algo_option=algo_option,\n",
    "        true_object=true_object,\n",
    "        tester_objects=tester_objects\n",
    "    )\n",
    "    simulation_settings.append(simulation_setting)\n",
    "\n",
    "    elapsed_time = time.time() - start\n",
    "    print(\"elapsed_time:{0}\".format(elapsed_time / 60) + \"[min]\\n\")\n",
    "    elapsed_times.append(elapsed_time)"
   ]
  },
  {
   "cell_type": "code",
   "execution_count": 7,
   "metadata": {
    "scrolled": false,
    "tags": []
   },
   "outputs": [
    {
     "name": "stdout",
     "output_type": "stream",
     "text": [
      "​Generating table of computation time ...\n",
      "​Generating table of tolerance of physicality constraint violation ...\n",
      "​Generating table of experimental conditions ...\n",
      "Generating case list ...\n",
      "Computation time of estimators ...\n"
     ]
    },
    {
     "name": "stderr",
     "output_type": "stream",
     "text": [
      "100%|██████████| 10/10 [00:00<00:00, 28018.06it/s]\n",
      "100%|██████████| 10/10 [00:00<00:00, 22562.15it/s]\n",
      "100%|██████████| 10/10 [00:00<00:00, 21355.93it/s]"
     ]
    },
    {
     "name": "stdout",
     "output_type": "stream",
     "text": [
      "​​Generating MSE of empirical distributions blocks ...\n",
      "​​Generating consictency test blocks ...\n"
     ]
    },
    {
     "name": "stderr",
     "output_type": "stream",
     "text": [
      "\n"
     ]
    },
    {
     "name": "stdout",
     "output_type": "stream",
     "text": [
      "​Generating a graph for MSE ...\n",
      "  Linear(True)=[0.012880000000000011, 0.0011730000000000017, 0.00013258400000000013]\n",
      "  Linear(False)=[0.009720000000000008, 0.0013102000000000025, 4.586600000000015e-05]\n",
      "  ProjectedLinear(True)=[0.015939715201437006, 0.0006260694002287519, 6.762450519438463e-05]\n",
      "  ProjectedLinear(False)=[0.008147752343453163, 0.0009049210586556524, 0.00017207082262236083]\n",
      "  Maximum-Likelihood(True)=[0.005997859417841656, 0.0006176245267523696, 4.109059699343727e-05]\n",
      "  Maximum-Likelihood(False)=[0.005056869585468227, 0.00030141774741704444, 3.950518415951611e-05]\n",
      "  Least Squares(True)=[0.011737443300339477, 0.0007407001244195064, 9.298807724194137e-05]\n",
      "  Least Squares(False)=[0.00565886127025111, 0.0015894545151952538, 5.127381669327336e-05]\n",
      "  Linear(True)=[0.012880000000000011, 0.0011730000000000017, 0.00013258400000000013]\n",
      "  ProjectedLinear(True)=[0.015939715201437006, 0.0006260694002287519, 6.762450519438463e-05]\n",
      "  Maximum-Likelihood(True)=[0.005997859417841656, 0.0006176245267523696, 4.109059699343727e-05]\n",
      "  Least Squares(True)=[0.011737443300339477, 0.0007407001244195064, 9.298807724194137e-05]\n",
      "  Linear(False)=[0.009720000000000008, 0.0013102000000000025, 4.586600000000015e-05]\n",
      "  ProjectedLinear(False)=[0.008147752343453163, 0.0009049210586556524, 0.00017207082262236083]\n",
      "  Maximum-Likelihood(False)=[0.005056869585468227, 0.00030141774741704444, 3.950518415951611e-05]\n",
      "  Least Squares(False)=[0.00565886127025111, 0.0015894545151952538, 5.127381669327336e-05]\n",
      "​​Generating physicality violation test blocks ...\n"
     ]
    },
    {
     "name": "stderr",
     "output_type": "stream",
     "text": [
      "100%|██████████| 10/10 [00:00<00:00, 7236.55it/s]\n",
      "100%|██████████| 10/10 [00:00<00:00, 5452.81it/s]\n",
      "100%|██████████| 10/10 [00:00<00:00, 5426.71it/s]\n",
      "100%|██████████| 10/10 [00:00<00:00, 7697.38it/s]\n",
      "100%|██████████| 10/10 [00:00<00:00, 7101.77it/s]\n",
      "100%|██████████| 10/10 [00:00<00:00, 4580.93it/s]\n",
      "100%|██████████| 10/10 [00:00<00:00, 7231.56it/s]\n",
      "100%|██████████| 10/10 [00:00<00:00, 5387.67it/s]\n",
      "100%|██████████| 10/10 [00:00<00:00, 6333.89it/s]\n",
      "100%|██████████| 10/10 [00:00<00:00, 4744.15it/s]\n",
      "100%|██████████| 10/10 [00:00<00:00, 7440.67it/s]\n",
      "100%|██████████| 10/10 [00:00<00:00, 6490.72it/s]\n",
      "100%|██████████| 10/10 [00:00<00:00, 6785.80it/s]\n",
      "100%|██████████| 10/10 [00:00<00:00, 7479.14it/s]\n",
      "100%|██████████| 10/10 [00:00<00:00, 6305.33it/s]\n",
      "100%|██████████| 10/10 [00:00<00:00, 3671.16it/s]\n",
      "100%|██████████| 10/10 [00:00<00:00, 4885.05it/s]\n",
      "100%|██████████| 10/10 [00:00<00:00, 4224.72it/s]\n",
      "100%|██████████| 10/10 [00:00<00:00, 4854.52it/s]\n",
      "100%|██████████| 10/10 [00:00<00:00, 5255.36it/s]\n",
      "100%|██████████| 10/10 [00:00<00:00, 5183.91it/s]\n",
      "100%|██████████| 10/10 [00:00<00:00, 6911.03it/s]\n",
      "100%|██████████| 10/10 [00:00<00:00, 7331.42it/s]\n",
      "100%|██████████| 10/10 [00:00<00:00, 7002.18it/s]\n",
      "100%|██████████| 10/10 [00:00<00:00, 5449.27it/s]\n",
      "100%|██████████| 10/10 [00:00<00:00, 5827.85it/s]\n",
      "100%|██████████| 10/10 [00:00<00:00, 7592.87it/s]\n",
      "100%|██████████| 10/10 [00:00<00:00, 5399.46it/s]\n",
      "100%|██████████| 10/10 [00:00<00:00, 5470.59it/s]\n",
      "100%|██████████| 10/10 [00:00<00:00, 5185.84it/s]\n",
      "100%|██████████| 10/10 [00:00<00:00, 7440.67it/s]\n",
      "100%|██████████| 10/10 [00:00<00:00, 4906.77it/s]\n",
      "100%|██████████| 10/10 [00:00<00:00, 4712.70it/s]\n",
      "100%|██████████| 10/10 [00:00<00:00, 7831.04it/s]\n",
      "100%|██████████| 10/10 [00:00<00:00, 7407.81it/s]\n",
      "100%|██████████| 10/10 [00:00<00:00, 6997.50it/s]\n",
      "100%|██████████| 10/10 [00:00<00:00, 6711.96it/s]\n",
      "100%|██████████| 10/10 [00:00<00:00, 5707.31it/s]\n",
      "100%|██████████| 10/10 [00:00<00:00, 6336.76it/s]\n",
      "100%|██████████| 10/10 [00:00<00:00, 4221.32it/s]\n",
      "100%|██████████| 10/10 [00:00<00:00, 5384.91it/s]\n",
      "100%|██████████| 10/10 [00:00<00:00, 7523.42it/s]\n",
      "100%|██████████| 10/10 [00:00<00:00, 6807.83it/s]\n",
      "100%|██████████| 10/10 [00:00<00:00, 5296.51it/s]\n",
      "100%|██████████| 10/10 [00:00<00:00, 4249.55it/s]\n",
      "100%|██████████| 10/10 [00:00<00:00, 7721.47it/s]\n",
      "100%|██████████| 10/10 [00:00<00:00, 7326.30it/s]\n",
      "100%|██████████| 10/10 [00:00<00:00, 4376.36it/s]\n"
     ]
    },
    {
     "name": "stdout",
     "output_type": "stream",
     "text": [
      "Converting to PDF report ...\n",
      "​Deleting temporary files ...\n",
      "Completed to export pdf. (qst_nrep=10.pdf)\n"
     ]
    }
   ],
   "source": [
    "report.export_report(f\"qst_nrep={n_rep}.pdf\",\n",
    "    estimation_results_list=estimation_results_list,   # 「EstimationResultのリスト」のリスト\n",
    "    simulation_settings= simulation_settings,\n",
    "    seed=seed,  # 推定で使ったseed（オプション）\n",
    "    tolerance=Settings.get_atol()\n",
    ")"
   ]
  },
  {
   "cell_type": "code",
   "execution_count": 8,
   "metadata": {},
   "outputs": [],
   "source": [
    "report.export_report?"
   ]
  }
 ],
 "metadata": {
  "hide_input": false,
  "kernelspec": {
   "display_name": "quara_venv",
   "language": "python",
   "name": "quara_venv"
  },
  "language_info": {
   "codemirror_mode": {
    "name": "ipython",
    "version": 3
   },
   "file_extension": ".py",
   "mimetype": "text/x-python",
   "name": "python",
   "nbconvert_exporter": "python",
   "pygments_lexer": "ipython3",
   "version": "3.8.0"
  },
  "toc": {
   "base_numbering": 1,
   "nav_menu": {},
   "number_sections": true,
   "sideBar": true,
   "skip_h1_title": false,
   "title_cell": "Table of Contents",
   "title_sidebar": "Contents",
   "toc_cell": false,
   "toc_position": {},
   "toc_section_display": true,
   "toc_window_display": false
  },
  "varInspector": {
   "cols": {
    "lenName": 16,
    "lenType": 16,
    "lenVar": 40
   },
   "kernels_config": {
    "python": {
     "delete_cmd_postfix": "",
     "delete_cmd_prefix": "del ",
     "library": "var_list.py",
     "varRefreshCmd": "print(var_dic_list())"
    },
    "r": {
     "delete_cmd_postfix": ") ",
     "delete_cmd_prefix": "rm(",
     "library": "var_list.r",
     "varRefreshCmd": "cat(var_dic_list()) "
    }
   },
   "types_to_exclude": [
    "module",
    "function",
    "builtin_function_or_method",
    "instance",
    "_Feature"
   ],
   "window_display": false
  }
 },
 "nbformat": 4,
 "nbformat_minor": 4
}
