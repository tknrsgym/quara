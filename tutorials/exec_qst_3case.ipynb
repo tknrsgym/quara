{
 "cells": [
  {
   "cell_type": "code",
   "execution_count": 5,
   "metadata": {},
   "outputs": [],
   "source": [
    "# QST"
   ]
  },
  {
   "cell_type": "code",
   "execution_count": 1,
   "metadata": {},
   "outputs": [],
   "source": [
    "import pickle\n",
    "import time\n",
    "from typing import List\n",
    "import datetime as dt\n",
    "from pathlib import Path\n",
    "\n",
    "import numpy as np\n",
    "import pandas as pd\n",
    "import plotly.graph_objects as go\n",
    "import plotly.express as px\n",
    "\n",
    "from tqdm import tqdm\n",
    "\n",
    "from quara.data_analysis import data_analysis, physicality_violation_check, report\n",
    "from quara.objects.composite_system import CompositeSystem\n",
    "from quara.objects.elemental_system import ElementalSystem\n",
    "from quara.objects.matrix_basis import get_normalized_pauli_basis\n",
    "from quara.objects.povm import (\n",
    "    Povm,\n",
    "    get_x_measurement,\n",
    "    get_y_measurement,\n",
    "    get_z_measurement,\n",
    ")\n",
    "from quara.objects.qoperation import QOperation\n",
    "from quara.objects.state import State, get_z0_1q, get_z1_1q, get_x0_1q\n",
    "from quara.protocol.qtomography.standard.standard_qst import StandardQst\n",
    "from quara.protocol.qtomography.standard.linear_estimator import LinearEstimator\n",
    "from quara.protocol.qtomography.standard.projected_linear_estimator import (\n",
    "    ProjectedLinearEstimator,\n",
    ")\n",
    "\n",
    "import pickle"
   ]
  },
  {
   "cell_type": "code",
   "execution_count": 2,
   "metadata": {},
   "outputs": [],
   "source": [
    "%reload_ext autoreload\n",
    "%autoreload 2"
   ]
  },
  {
   "cell_type": "code",
   "execution_count": 3,
   "metadata": {},
   "outputs": [],
   "source": [
    "start_all = time.time()"
   ]
  },
  {
   "cell_type": "code",
   "execution_count": 4,
   "metadata": {},
   "outputs": [],
   "source": [
    "# setup system\n",
    "e_sys = ElementalSystem(0, get_normalized_pauli_basis())\n",
    "c_sys = CompositeSystem([e_sys])\n",
    "\n",
    "povm_x = get_x_measurement(c_sys)\n",
    "povm_y = get_y_measurement(c_sys)\n",
    "povm_z = get_z_measurement(c_sys)\n",
    "tester_objects = [povm_x, povm_y, povm_z]"
   ]
  },
  {
   "cell_type": "code",
   "execution_count": 5,
   "metadata": {},
   "outputs": [],
   "source": [
    "true_objects = []\n",
    "\n",
    "# Case 1:\n",
    "true_object = get_z0_1q(c_sys)\n",
    "true_objects.append(true_object)\n",
    "\n",
    "# Case 2:\n",
    "vec = np.array([1/np.sqrt(2), 1/np.sqrt(6), 1/np.sqrt(6), 1/np.sqrt(6)],dtype=np.float64)\n",
    "true_object = State(c_sys, vec)\n",
    "true_objects.append(true_object)\n",
    "\n",
    "# Case 3:\n",
    "vec = np.array([1 / np.sqrt(2), 0, 0, 0], dtype=np.float64)\n",
    "true_object = State(c_sys, vec)\n",
    "true_objects.append(true_object)\n",
    "\n",
    "true_object_names = [\"軸上\", \"軸から一番離れた表面\", \"原点\"]"
   ]
  },
  {
   "cell_type": "code",
   "execution_count": 6,
   "metadata": {},
   "outputs": [
    {
     "name": "stderr",
     "output_type": "stream",
     "text": [
      "\r",
      "  0%|          | 0/10 [00:00<?, ?it/s]"
     ]
    },
    {
     "name": "stdout",
     "output_type": "stream",
     "text": [
      "====================================\n",
      "0: case_0\n",
      "True Object:\n",
      "Type:\n",
      "State\n",
      "\n",
      "Dim:\n",
      "2\n",
      "\n",
      "Vec:\n",
      "[0.70710678 0.         0.         0.70710678]\n",
      "====================================\n",
      "Case 0: LinearEstimator(True)\n",
      "Parametorization: True\n",
      "Type of qtomography: StandardQst\n",
      "Estimator: LinearEstimator\n"
     ]
    },
    {
     "name": "stderr",
     "output_type": "stream",
     "text": [
      "100%|██████████| 10/10 [00:00<00:00, 60.95it/s]\n",
      "  0%|          | 0/10 [00:00<?, ?it/s]"
     ]
    },
    {
     "name": "stdout",
     "output_type": "stream",
     "text": [
      "elapsed_time:0.003204500675201416[min]\n",
      "\n",
      "Case 1: LinearEstimator(False)\n",
      "Parametorization: False\n",
      "Type of qtomography: StandardQst\n",
      "Estimator: LinearEstimator\n"
     ]
    },
    {
     "name": "stderr",
     "output_type": "stream",
     "text": [
      "100%|██████████| 10/10 [00:00<00:00, 91.52it/s]\n",
      "  0%|          | 0/10 [00:00<?, ?it/s]"
     ]
    },
    {
     "name": "stdout",
     "output_type": "stream",
     "text": [
      "elapsed_time:0.0019157131512959797[min]\n",
      "\n",
      "Case 2: ProjectedLinearEstimator(True)\n",
      "Parametorization: True\n",
      "Type of qtomography: StandardQst\n",
      "Estimator: ProjectedLinearEstimator\n"
     ]
    },
    {
     "name": "stderr",
     "output_type": "stream",
     "text": [
      "100%|██████████| 10/10 [00:00<00:00, 21.95it/s]\n",
      " 30%|███       | 3/10 [00:00<00:00, 24.90it/s]"
     ]
    },
    {
     "name": "stdout",
     "output_type": "stream",
     "text": [
      "elapsed_time:0.007670629024505615[min]\n",
      "\n",
      "Case 3: ProjectedLinearEstimator(False)\n",
      "Parametorization: False\n",
      "Type of qtomography: StandardQst\n",
      "Estimator: ProjectedLinearEstimator\n"
     ]
    },
    {
     "name": "stderr",
     "output_type": "stream",
     "text": [
      "100%|██████████| 10/10 [00:00<00:00, 23.19it/s]\n",
      "100%|██████████| 10/10 [00:00<00:00, 25251.68it/s]\n",
      "100%|██████████| 10/10 [00:00<00:00, 16100.98it/s]\n"
     ]
    },
    {
     "name": "stdout",
     "output_type": "stream",
     "text": [
      "elapsed_time:0.007270356019337972[min]\n",
      "\n",
      "​Generating table of computation time ...\n",
      "​Generating table of experimental conditions ...\n",
      "Generating case list ...\n",
      "​​Generating MSE of empirical distributions blocks ...\n",
      "​​Generating consictency test blocks ...\n",
      "​Generating a graph for MSE ...\n"
     ]
    },
    {
     "name": "stderr",
     "output_type": "stream",
     "text": [
      "/Users/tomoko/project/rcast/workspace/quara/venv/lib/python3.8/site-packages/numpy/core/_methods.py:216: RuntimeWarning:\n",
      "\n",
      "Degrees of freedom <= 0 for slice\n",
      "\n",
      "/Users/tomoko/project/rcast/workspace/quara/venv/lib/python3.8/site-packages/numpy/core/_methods.py:209: RuntimeWarning:\n",
      "\n",
      "invalid value encountered in double_scalars\n",
      "\n"
     ]
    },
    {
     "name": "stdout",
     "output_type": "stream",
     "text": [
      "​​Generating physicality violation test blocks ...\n"
     ]
    },
    {
     "name": "stderr",
     "output_type": "stream",
     "text": [
      "100%|██████████| 10/10 [00:00<00:00, 4532.42it/s]\n",
      "100%|██████████| 10/10 [00:00<00:00, 5020.11it/s]\n",
      "100%|██████████| 10/10 [00:00<00:00, 6779.22it/s]\n",
      "100%|██████████| 10/10 [00:00<00:00, 6423.13it/s]\n",
      "100%|██████████| 10/10 [00:00<00:00, 4739.33it/s]\n",
      "100%|██████████| 10/10 [00:00<00:00, 4147.85it/s]\n",
      "100%|██████████| 10/10 [00:00<00:00, 5364.93it/s]\n",
      "100%|██████████| 10/10 [00:00<00:00, 4161.43it/s]\n",
      "100%|██████████| 10/10 [00:00<00:00, 6518.97it/s]\n",
      "100%|██████████| 10/10 [00:00<00:00, 3675.02it/s]\n",
      "100%|██████████| 10/10 [00:00<00:00, 5886.74it/s]\n",
      "100%|██████████| 10/10 [00:00<00:00, 4765.71it/s]\n",
      "100%|██████████| 10/10 [00:00<00:00, 4217.50it/s]\n",
      "100%|██████████| 10/10 [00:00<00:00, 6733.51it/s]\n",
      "100%|██████████| 10/10 [00:00<00:00, 6484.70it/s]\n",
      "100%|██████████| 10/10 [00:00<00:00, 6325.30it/s]\n"
     ]
    },
    {
     "name": "stdout",
     "output_type": "stream",
     "text": [
      "Converting to PDF report ...\n",
      "​Deleting temporary files ...\n",
      "Completed to export pdf. (output_qst_nrep=10/pdf/sample_qst_case0_case_0.pdf)\n"
     ]
    },
    {
     "name": "stderr",
     "output_type": "stream",
     "text": [
      "100%|██████████| 10/10 [00:00<00:00, 80.83it/s]\n",
      "  0%|          | 0/10 [00:00<?, ?it/s]"
     ]
    },
    {
     "name": "stdout",
     "output_type": "stream",
     "text": [
      "====================================\n",
      "1: case_1\n",
      "True Object:\n",
      "Type:\n",
      "State\n",
      "\n",
      "Dim:\n",
      "2\n",
      "\n",
      "Vec:\n",
      "[0.70710678 0.40824829 0.40824829 0.40824829]\n",
      "====================================\n",
      "Case 0: LinearEstimator(True)\n",
      "Parametorization: True\n",
      "Type of qtomography: StandardQst\n",
      "Estimator: LinearEstimator\n",
      "elapsed_time:0.0022254347801208495[min]\n",
      "\n",
      "Case 1: LinearEstimator(False)\n",
      "Parametorization: False\n",
      "Type of qtomography: StandardQst\n",
      "Estimator: LinearEstimator\n"
     ]
    },
    {
     "name": "stderr",
     "output_type": "stream",
     "text": [
      "100%|██████████| 10/10 [00:00<00:00, 70.55it/s]\n",
      " 40%|████      | 4/10 [00:00<00:00, 28.92it/s]"
     ]
    },
    {
     "name": "stdout",
     "output_type": "stream",
     "text": [
      "elapsed_time:0.0024457852045694987[min]\n",
      "\n",
      "Case 2: ProjectedLinearEstimator(True)\n",
      "Parametorization: True\n",
      "Type of qtomography: StandardQst\n",
      "Estimator: ProjectedLinearEstimator\n"
     ]
    },
    {
     "name": "stderr",
     "output_type": "stream",
     "text": [
      "100%|██████████| 10/10 [00:00<00:00, 30.07it/s]\n",
      " 40%|████      | 4/10 [00:00<00:00, 32.13it/s]"
     ]
    },
    {
     "name": "stdout",
     "output_type": "stream",
     "text": [
      "elapsed_time:0.005647146701812744[min]\n",
      "\n",
      "Case 3: ProjectedLinearEstimator(False)\n",
      "Parametorization: False\n",
      "Type of qtomography: StandardQst\n",
      "Estimator: ProjectedLinearEstimator\n"
     ]
    },
    {
     "name": "stderr",
     "output_type": "stream",
     "text": [
      "100%|██████████| 10/10 [00:00<00:00, 21.39it/s]\n",
      "100%|██████████| 10/10 [00:00<00:00, 12791.41it/s]\n",
      "100%|██████████| 10/10 [00:00<00:00, 11388.28it/s]\n",
      "/Users/tomoko/project/rcast/workspace/quara/venv/lib/python3.8/site-packages/numpy/core/_methods.py:216: RuntimeWarning:\n",
      "\n",
      "Degrees of freedom <= 0 for slice\n",
      "\n",
      "/Users/tomoko/project/rcast/workspace/quara/venv/lib/python3.8/site-packages/numpy/core/_methods.py:209: RuntimeWarning:\n",
      "\n",
      "invalid value encountered in double_scalars\n",
      "\n"
     ]
    },
    {
     "name": "stdout",
     "output_type": "stream",
     "text": [
      "elapsed_time:0.007886683940887452[min]\n",
      "\n",
      "​Generating table of computation time ...\n",
      "​Generating table of experimental conditions ...\n",
      "Generating case list ...\n",
      "​​Generating MSE of empirical distributions blocks ...\n",
      "​​Generating consictency test blocks ...\n",
      "​Generating a graph for MSE ...\n"
     ]
    },
    {
     "name": "stderr",
     "output_type": "stream",
     "text": [
      "100%|██████████| 10/10 [00:00<00:00, 4741.47it/s]"
     ]
    },
    {
     "name": "stdout",
     "output_type": "stream",
     "text": [
      "​​Generating physicality violation test blocks ...\n"
     ]
    },
    {
     "name": "stderr",
     "output_type": "stream",
     "text": [
      "\n",
      "100%|██████████| 10/10 [00:00<00:00, 6806.73it/s]\n",
      "100%|██████████| 10/10 [00:00<00:00, 6258.29it/s]\n",
      "/Users/tomoko/project/rcast/workspace/quara/quara/data_analysis/physicality_violation_check.py:82: UserWarning:\n",
      "\n",
      "i=6: invalid: values=[0.9983974317750849, 0.0016025682249153988]\n",
      "less_list=[]\n",
      "sum=1.0000000000000002, greater_list=[0.9983974317750849, 0.0016025682249153988]\n",
      "\n",
      "/Users/tomoko/project/rcast/workspace/quara/quara/data_analysis/physicality_violation_check.py:87: UserWarning:\n",
      "\n",
      "sum_eig_less_list and sum_eig_greater_list lengths do not match.len(sum_eig_less_list)=7, len(sum_eig_greater_list)=8\n",
      "\n",
      "100%|██████████| 10/10 [00:00<00:00, 5368.37it/s]\n",
      "/Users/tomoko/project/rcast/workspace/quara/quara/data_analysis/physicality_violation_check.py:82: UserWarning:\n",
      "\n",
      "i=1: invalid: values=[0.9940374479733295, 0.005962552026670652]\n",
      "less_list=[]\n",
      "sum=1.0000000000000002, greater_list=[0.9940374479733295, 0.005962552026670652]\n",
      "\n",
      "/Users/tomoko/project/rcast/workspace/quara/quara/data_analysis/physicality_violation_check.py:87: UserWarning:\n",
      "\n",
      "sum_eig_less_list and sum_eig_greater_list lengths do not match.len(sum_eig_less_list)=6, len(sum_eig_greater_list)=7\n",
      "\n",
      "100%|██████████| 10/10 [00:00<00:00, 4557.54it/s]\n",
      "100%|██████████| 10/10 [00:00<00:00, 4190.95it/s]\n",
      "100%|██████████| 10/10 [00:00<00:00, 4865.78it/s]\n",
      "/Users/tomoko/project/rcast/workspace/quara/quara/data_analysis/physicality_violation_check.py:82: UserWarning:\n",
      "\n",
      "i=5: invalid: values=[0.9777028364998479, 0.02229716350015233]\n",
      "less_list=[]\n",
      "sum=1.0000000000000002, greater_list=[0.9777028364998479, 0.02229716350015233]\n",
      "\n",
      "100%|██████████| 10/10 [00:00<00:00, 6180.82it/s]\n",
      "100%|██████████| 10/10 [00:00<00:00, 4664.48it/s]\n",
      "100%|██████████| 10/10 [00:00<00:00, 5024.92it/s]\n",
      "100%|██████████| 10/10 [00:00<00:00, 5464.18it/s]\n",
      "100%|██████████| 10/10 [00:00<00:00, 5202.56it/s]\n",
      "100%|██████████| 10/10 [00:00<00:00, 4940.29it/s]\n",
      "100%|██████████| 10/10 [00:00<00:00, 6475.69it/s]\n",
      "100%|██████████| 10/10 [00:00<00:00, 4549.63it/s]\n",
      "/Users/tomoko/project/rcast/workspace/quara/quara/data_analysis/physicality_violation_check.py:82: UserWarning:\n",
      "\n",
      "i=1: invalid: values=[0.9969909455915675, 0.003009054408432655]\n",
      "less_list=[]\n",
      "sum=1.0000000000000002, greater_list=[0.9969909455915675, 0.003009054408432655]\n",
      "\n",
      "100%|██████████| 10/10 [00:00<00:00, 6160.85it/s]\n",
      "/Users/tomoko/project/rcast/workspace/quara/quara/data_analysis/physicality_violation_check.py:82: UserWarning:\n",
      "\n",
      "i=2: invalid: values=[0.9940981683835717, 0.005901831616428535]\n",
      "less_list=[]\n",
      "sum=1.0000000000000002, greater_list=[0.9940981683835717, 0.005901831616428535]\n",
      "\n",
      "/Users/tomoko/project/rcast/workspace/quara/quara/data_analysis/physicality_violation_check.py:87: UserWarning:\n",
      "\n",
      "sum_eig_less_list and sum_eig_greater_list lengths do not match.len(sum_eig_less_list)=4, len(sum_eig_greater_list)=5\n",
      "\n"
     ]
    },
    {
     "name": "stdout",
     "output_type": "stream",
     "text": [
      "Converting to PDF report ...\n"
     ]
    },
    {
     "name": "stderr",
     "output_type": "stream",
     "text": [
      "\r",
      "  0%|          | 0/10 [00:00<?, ?it/s]"
     ]
    },
    {
     "name": "stdout",
     "output_type": "stream",
     "text": [
      "​Deleting temporary files ...\n",
      "Completed to export pdf. (output_qst_nrep=10/pdf/sample_qst_case1_case_1.pdf)\n",
      "====================================\n",
      "2: case_2\n",
      "True Object:\n",
      "Type:\n",
      "State\n",
      "\n",
      "Dim:\n",
      "2\n",
      "\n",
      "Vec:\n",
      "[0.70710678 0.         0.         0.        ]\n",
      "====================================\n",
      "Case 0: LinearEstimator(True)\n",
      "Parametorization: True\n",
      "Type of qtomography: StandardQst\n",
      "Estimator: LinearEstimator\n"
     ]
    },
    {
     "name": "stderr",
     "output_type": "stream",
     "text": [
      "100%|██████████| 10/10 [00:00<00:00, 90.61it/s]\n",
      "100%|██████████| 10/10 [00:00<00:00, 90.78it/s]\n",
      "  0%|          | 0/10 [00:00<?, ?it/s]"
     ]
    },
    {
     "name": "stdout",
     "output_type": "stream",
     "text": [
      "elapsed_time:0.0019171635309855144[min]\n",
      "\n",
      "Case 1: LinearEstimator(False)\n",
      "Parametorization: False\n",
      "Type of qtomography: StandardQst\n",
      "Estimator: LinearEstimator\n",
      "elapsed_time:0.0019316991170247396[min]\n",
      "\n",
      "Case 2: ProjectedLinearEstimator(True)\n",
      "Parametorization: True\n",
      "Type of qtomography: StandardQst\n",
      "Estimator: ProjectedLinearEstimator\n"
     ]
    },
    {
     "name": "stderr",
     "output_type": "stream",
     "text": [
      "100%|██████████| 10/10 [00:00<00:00, 71.19it/s]\n",
      "100%|██████████| 10/10 [00:00<00:00, 79.08it/s]\n",
      "100%|██████████| 10/10 [00:00<00:00, 12869.91it/s]\n",
      "100%|██████████| 10/10 [00:00<00:00, 19418.07it/s]\n"
     ]
    },
    {
     "name": "stdout",
     "output_type": "stream",
     "text": [
      "elapsed_time:0.0024098316828409833[min]\n",
      "\n",
      "Case 3: ProjectedLinearEstimator(False)\n",
      "Parametorization: False\n",
      "Type of qtomography: StandardQst\n",
      "Estimator: ProjectedLinearEstimator\n",
      "elapsed_time:0.002195131778717041[min]\n",
      "\n",
      "​Generating table of computation time ...\n",
      "​Generating table of experimental conditions ...\n",
      "Generating case list ...\n",
      "​​Generating MSE of empirical distributions blocks ...\n"
     ]
    },
    {
     "name": "stderr",
     "output_type": "stream",
     "text": [
      "/Users/tomoko/project/rcast/workspace/quara/venv/lib/python3.8/site-packages/numpy/core/_methods.py:216: RuntimeWarning:\n",
      "\n",
      "Degrees of freedom <= 0 for slice\n",
      "\n",
      "/Users/tomoko/project/rcast/workspace/quara/venv/lib/python3.8/site-packages/numpy/core/_methods.py:209: RuntimeWarning:\n",
      "\n",
      "invalid value encountered in double_scalars\n",
      "\n"
     ]
    },
    {
     "name": "stdout",
     "output_type": "stream",
     "text": [
      "​​Generating consictency test blocks ...\n",
      "​Generating a graph for MSE ...\n"
     ]
    },
    {
     "name": "stderr",
     "output_type": "stream",
     "text": [
      "100%|██████████| 10/10 [00:00<00:00, 6724.87it/s]"
     ]
    },
    {
     "name": "stdout",
     "output_type": "stream",
     "text": [
      "​​Generating physicality violation test blocks ...\n"
     ]
    },
    {
     "name": "stderr",
     "output_type": "stream",
     "text": [
      "\n",
      "100%|██████████| 10/10 [00:00<00:00, 4933.31it/s]\n",
      "100%|██████████| 10/10 [00:00<00:00, 5885.92it/s]\n",
      "/Users/tomoko/project/rcast/workspace/quara/quara/data_analysis/physicality_violation_check.py:82: UserWarning:\n",
      "\n",
      "i=9: invalid: values=[0.5781024967590668, 0.42189750324093345]\n",
      "less_list=[]\n",
      "sum=1.0000000000000002, greater_list=[0.5781024967590668, 0.42189750324093345]\n",
      "\n",
      "/Users/tomoko/project/rcast/workspace/quara/quara/data_analysis/physicality_violation_check.py:87: UserWarning:\n",
      "\n",
      "sum_eig_less_list and sum_eig_greater_list lengths do not match.len(sum_eig_less_list)=0, len(sum_eig_greater_list)=1\n",
      "\n",
      "100%|██████████| 10/10 [00:00<00:00, 4095.20it/s]\n",
      "100%|██████████| 10/10 [00:00<00:00, 4357.27it/s]\n",
      "100%|██████████| 10/10 [00:00<00:00, 5301.19it/s]\n",
      "100%|██████████| 10/10 [00:00<00:00, 4703.72it/s]\n",
      "100%|██████████| 10/10 [00:00<00:00, 4923.47it/s]\n",
      "/Users/tomoko/project/rcast/workspace/quara/quara/data_analysis/physicality_violation_check.py:82: UserWarning:\n",
      "\n",
      "i=2: invalid: values=[0.5380131556174966, 0.46198684438250376]\n",
      "less_list=[]\n",
      "sum=1.0000000000000004, greater_list=[0.5380131556174966, 0.46198684438250376]\n",
      "\n",
      "100%|██████████| 10/10 [00:00<00:00, 6031.50it/s]\n",
      "100%|██████████| 10/10 [00:00<00:00, 6468.70it/s]\n",
      "100%|██████████| 10/10 [00:00<00:00, 4710.06it/s]\n",
      "/Users/tomoko/project/rcast/workspace/quara/quara/data_analysis/physicality_violation_check.py:82: UserWarning:\n",
      "\n",
      "i=1: invalid: values=[0.6048808848170155, 0.39511911518298465]\n",
      "less_list=[]\n",
      "sum=1.0000000000000002, greater_list=[0.6048808848170155, 0.39511911518298465]\n",
      "\n",
      "/Users/tomoko/project/rcast/workspace/quara/quara/data_analysis/physicality_violation_check.py:82: UserWarning:\n",
      "\n",
      "i=6: invalid: values=[0.5591607978309961, 0.440839202169004]\n",
      "less_list=[]\n",
      "sum=1.0000000000000002, greater_list=[0.5591607978309961, 0.440839202169004]\n",
      "\n",
      "/Users/tomoko/project/rcast/workspace/quara/quara/data_analysis/physicality_violation_check.py:87: UserWarning:\n",
      "\n",
      "sum_eig_less_list and sum_eig_greater_list lengths do not match.len(sum_eig_less_list)=0, len(sum_eig_greater_list)=2\n",
      "\n",
      "100%|██████████| 10/10 [00:00<00:00, 3012.07it/s]\n",
      "100%|██████████| 10/10 [00:00<00:00, 4561.51it/s]\n",
      "100%|██████████| 10/10 [00:00<00:00, 6578.27it/s]\n",
      "100%|██████████| 10/10 [00:00<00:00, 5260.63it/s]\n",
      "/Users/tomoko/project/rcast/workspace/quara/quara/data_analysis/physicality_violation_check.py:82: UserWarning:\n",
      "\n",
      "i=1: invalid: values=[0.5640312423743286, 0.4359687576256716]\n",
      "less_list=[]\n",
      "sum=1.0000000000000002, greater_list=[0.5640312423743286, 0.4359687576256716]\n",
      "\n",
      "/Users/tomoko/project/rcast/workspace/quara/quara/data_analysis/physicality_violation_check.py:82: UserWarning:\n",
      "\n",
      "i=2: invalid: values=[0.5860232526704263, 0.4139767473295739]\n",
      "less_list=[]\n",
      "sum=1.0000000000000002, greater_list=[0.5860232526704263, 0.4139767473295739]\n",
      "\n",
      "100%|██████████| 10/10 [00:00<00:00, 4816.61it/s]\n",
      "/Users/tomoko/project/rcast/workspace/quara/quara/data_analysis/physicality_violation_check.py:82: UserWarning:\n",
      "\n",
      "i=2: invalid: values=[0.5372290209379728, 0.46277097906202747]\n",
      "less_list=[]\n",
      "sum=1.0000000000000002, greater_list=[0.5372290209379728, 0.46277097906202747]\n",
      "\n"
     ]
    },
    {
     "name": "stdout",
     "output_type": "stream",
     "text": [
      "Converting to PDF report ...\n",
      "​Deleting temporary files ...\n",
      "Completed to export pdf. (output_qst_nrep=10/pdf/sample_qst_case2_case_2.pdf)\n",
      "Completed.\n"
     ]
    }
   ],
   "source": [
    "num_data = [100, 1000]\n",
    "n_rep = 10\n",
    "\n",
    "case_name_list = [\n",
    "    \"LinearEstimator(True)\",\n",
    "    \"LinearEstimator(False)\",\n",
    "    \"ProjectedLinearEstimator(True)\",\n",
    "    \"ProjectedLinearEstimator(False)\",\n",
    "]\n",
    "\n",
    "seed = 777\n",
    "qtomography_list = [\n",
    "    StandardQst(tester_objects, on_para_eq_constraint=True, seed=seed),\n",
    "    StandardQst(tester_objects, on_para_eq_constraint=False, seed=seed),\n",
    "    StandardQst(tester_objects, on_para_eq_constraint=True, seed=seed),\n",
    "    StandardQst(tester_objects, on_para_eq_constraint=False, seed=seed),\n",
    "]\n",
    "para_list = [True, False, True, False]\n",
    "\n",
    "estimator_list = [\n",
    "    LinearEstimator(),\n",
    "    LinearEstimator(),\n",
    "    ProjectedLinearEstimator(),\n",
    "    ProjectedLinearEstimator(),\n",
    "]\n",
    "\n",
    "# estimation_results_list = []\n",
    "# elapsed_times = []\n",
    "\n",
    "all_results = []\n",
    "output_dir = f\"output_qst_nrep={n_rep}\"\n",
    "Path(output_dir).mkdir(exist_ok=True)\n",
    "Path(f\"{output_dir}/pickle\").mkdir(exist_ok=True)\n",
    "Path(f\"{output_dir}/pdf\").mkdir(exist_ok=True)\n",
    "Path(f\"{output_dir}/mse\").mkdir(exist_ok=True)\n",
    "\n",
    "for true_idx, true_object in enumerate(true_objects):\n",
    "    print(\"====================================\")\n",
    "    print(f\"{true_idx}: {true_object_names[true_idx]}\")\n",
    "    print(\"True Object:\")\n",
    "    print(f\"{true_object}\")\n",
    "    print(\"====================================\")\n",
    "    estimation_results_list = []\n",
    "    elapsed_times = []\n",
    "\n",
    "    for i, name in enumerate(case_name_list):\n",
    "        qtomography = qtomography_list[i]\n",
    "        estimator = estimator_list[i]\n",
    "    \n",
    "        start = time.time()\n",
    "        print(f\"Case {i}: {name}\")\n",
    "        print(f\"Parametorization: {para_list[i]}\")\n",
    "        print(f\"Type of qtomography: {qtomography.__class__.__name__}\")\n",
    "        print(f\"Estimator: {estimator.__class__.__name__}\")\n",
    "\n",
    "        estimation_results = data_analysis.estimate(\n",
    "       qtomography=qtomography,\n",
    "       true_object=true_object,\n",
    "       num_data=num_data,\n",
    "       estimator=estimator,\n",
    "       iteration=n_rep,\n",
    "    )\n",
    "        estimation_results_list.append(estimation_results)\n",
    "    \n",
    "        elapsed_time = time.time() - start\n",
    "        print(\"elapsed_time:{0}\".format(elapsed_time / 60) + \"[min]\\n\")\n",
    "        elapsed_times.append(elapsed_time)\n",
    "        \n",
    "    result = dict(\n",
    "        estimation_results_list=estimation_results_list,\n",
    "        true_object=true_object,\n",
    "        elapsed_times=elapsed_times,\n",
    "    )\n",
    "    all_results.append(result)\n",
    "    # output\n",
    "    with open(\n",
    "        f\"{output_dir}/pickle/qst_estimation_results_nrep={n_rep}_{true_object_names[true_idx]}.pickle\",\n",
    "        \"wb\",\n",
    "    ) as f:\n",
    "        pickle.dump(result, f)\n",
    "    # PDF report\n",
    "    path = (\n",
    "        f\"{output_dir}/pdf/sample_qst_case{true_idx}_{true_object_names[true_idx]}.pdf\"\n",
    "    )\n",
    "    report.export_report(\n",
    "        path,\n",
    "        result[\"estimation_results_list\"],\n",
    "        case_name_list,\n",
    "        estimator_list,\n",
    "        result[\"true_object\"],\n",
    "        tester_objects,\n",
    "        seed=seed,\n",
    "        computation_time=sum(result[\"elapsed_times\"])\n",
    "    )\n",
    "    # Fig\n",
    "    fig = data_analysis.make_mses_graph_estimation_results(\n",
    "        result[\"estimation_results_list\"],\n",
    "        case_name_list,\n",
    "        true_objects[true_idx],\n",
    "        show_analytical_results=True,\n",
    "        estimator_list=estimator_list,\n",
    "    )\n",
    "    path = (\n",
    "        f\"{output_dir}/mse/sample_qst_case{true_idx}_{true_object_names[true_idx]}.html\"\n",
    "    )\n",
    "    fig.write_html(path)\n",
    "\n",
    "\n",
    "with open(f\"{output_dir}/qst_estimation_results_nrep={n_rep}_all.pickle\", \"wb\") as f:\n",
    "    pickle.dump(all_results, f)\n",
    "\n",
    "print(\"Completed.\")"
   ]
  },
  {
   "cell_type": "code",
   "execution_count": 7,
   "metadata": {},
   "outputs": [
    {
     "name": "stdout",
     "output_type": "stream",
     "text": [
      "elapsed_time:0.6947446664174398[min]\n",
      "\n"
     ]
    }
   ],
   "source": [
    "elapsed_time = time.time() - start_all\n",
    "print(\"elapsed_time:{0}\".format(elapsed_time / 60) + \"[min]\\n\")"
   ]
  },
  {
   "cell_type": "code",
   "execution_count": null,
   "metadata": {},
   "outputs": [],
   "source": []
  }
 ],
 "metadata": {
  "hide_input": false,
  "kernelspec": {
   "display_name": "quara_venv",
   "language": "python",
   "name": "quara_venv"
  },
  "language_info": {
   "codemirror_mode": {
    "name": "ipython",
    "version": 3
   },
   "file_extension": ".py",
   "mimetype": "text/x-python",
   "name": "python",
   "nbconvert_exporter": "python",
   "pygments_lexer": "ipython3",
   "version": "3.8.0"
  },
  "toc": {
   "base_numbering": 1,
   "nav_menu": {},
   "number_sections": true,
   "sideBar": true,
   "skip_h1_title": false,
   "title_cell": "Table of Contents",
   "title_sidebar": "Contents",
   "toc_cell": false,
   "toc_position": {},
   "toc_section_display": true,
   "toc_window_display": false
  },
  "varInspector": {
   "cols": {
    "lenName": 16,
    "lenType": 16,
    "lenVar": 40
   },
   "kernels_config": {
    "python": {
     "delete_cmd_postfix": "",
     "delete_cmd_prefix": "del ",
     "library": "var_list.py",
     "varRefreshCmd": "print(var_dic_list())"
    },
    "r": {
     "delete_cmd_postfix": ") ",
     "delete_cmd_prefix": "rm(",
     "library": "var_list.r",
     "varRefreshCmd": "cat(var_dic_list()) "
    }
   },
   "types_to_exclude": [
    "module",
    "function",
    "builtin_function_or_method",
    "instance",
    "_Feature"
   ],
   "window_display": false
  }
 },
 "nbformat": 4,
 "nbformat_minor": 4
}
