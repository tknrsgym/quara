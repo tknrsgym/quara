{
 "cells": [
  {
   "cell_type": "code",
   "execution_count": 58,
   "metadata": {},
   "outputs": [],
   "source": [
    "import pickle\n",
    "import time\n",
    "from typing import List\n",
    "import datetime as dt\n",
    "\n",
    "import numpy as np\n",
    "from tqdm import tqdm\n",
    "import plotly.graph_objects as go\n",
    "import plotly.express as px\n",
    "\n",
    "from quara.objects.composite_system import CompositeSystem\n",
    "from quara.objects.elemental_system import ElementalSystem\n",
    "from quara.objects.matrix_basis import get_normalized_pauli_basis, get_pauli_basis, get_comp_basis\n",
    "from quara.objects.povm import (\n",
    "    Povm,\n",
    "    get_x_measurement,\n",
    "    get_y_measurement,\n",
    "    get_z_measurement,\n",
    ")\n",
    "from quara.objects.qoperation import QOperation\n",
    "from quara.objects.state import State, get_x0_1q,  get_x1_1q, get_y0_1q, get_y1_1q, get_z0_1q, get_z1_1q\n",
    "from quara.protocol.qtomography.standard.standard_qst import StandardQst\n",
    "from quara.protocol.qtomography.standard.standard_povmt import StandardPovmt\n",
    "from quara.protocol.qtomography.standard.linear_estimator import LinearEstimator\n",
    "from quara.protocol.qtomography.standard.projected_linear_estimator import ProjectedLinearEstimator\n",
    "\n",
    "from quara.protocol.qtomography.standard.standard_qtomography_estimator import (\n",
    "    StandardQTomographyEstimator,\n",
    "    StandardQTomographyEstimationResult,\n",
    ")"
   ]
  },
  {
   "cell_type": "code",
   "execution_count": 59,
   "metadata": {},
   "outputs": [],
   "source": [
    "from numpy.testing import assert_allclose"
   ]
  },
  {
   "cell_type": "code",
   "execution_count": 60,
   "metadata": {},
   "outputs": [],
   "source": [
    "from quara.data_analysis import data_analysis, physicality_violation_check"
   ]
  },
  {
   "cell_type": "code",
   "execution_count": 61,
   "metadata": {},
   "outputs": [
    {
     "name": "stdout",
     "output_type": "stream",
     "text": [
      "The autoreload extension is already loaded. To reload it, use:\n",
      "  %reload_ext autoreload\n"
     ]
    }
   ],
   "source": [
    "%load_ext autoreload\n",
    "%autoreload 2"
   ]
  },
  {
   "cell_type": "markdown",
   "metadata": {},
   "source": [
    "# 1 \">=\": True \"=I\": True "
   ]
  },
  {
   "cell_type": "code",
   "execution_count": 62,
   "metadata": {},
   "outputs": [],
   "source": [
    "# setup system\n",
    "e_sys = ElementalSystem(0, get_comp_basis())\n",
    "c_sys = CompositeSystem([e_sys])"
   ]
  },
  {
   "cell_type": "code",
   "execution_count": 63,
   "metadata": {},
   "outputs": [],
   "source": [
    "m_1 = (1/2) * np.array([1, 0, 0, 1])\n",
    "m_2 = (1/2) * np.array([1, 0, 0, 1])\n",
    "\n",
    "vecs = [m_1, m_2]\n",
    "povm = Povm(c_sys=c_sys, vecs=vecs, is_physicality_required=False)"
   ]
  },
  {
   "cell_type": "code",
   "execution_count": 64,
   "metadata": {},
   "outputs": [],
   "source": [
    "assert povm.is_positive_semidefinite() is True\n",
    "assert povm.is_identity_sum() is True"
   ]
  },
  {
   "cell_type": "code",
   "execution_count": 69,
   "metadata": {},
   "outputs": [
    {
     "name": "stdout",
     "output_type": "stream",
     "text": [
      "calc_proj_ineq_constraint():\n",
      ">=0: True\n",
      "(array([0.5, 0. , 0. , 0.5]), array([0.5, 0. , 0. , 0.5]))\n",
      "---------------\n",
      "calc_proj_eq_constraint():\n"
     ]
    },
    {
     "name": "stderr",
     "output_type": "stream",
     "text": [
      "/Users/tomoko/project/rcast/workspace/quara/quara/objects/povm.py:250: ComplexWarning: Casting complex values to real discards the imaginary part\n",
      "  new_vec = np.array(new_vec, dtype=np.float64)\n"
     ]
    },
    {
     "ename": "ValueError",
     "evalue": "basis is not hermitian.",
     "output_type": "error",
     "traceback": [
      "\u001b[0;31m---------------------------------------------------------------------------\u001b[0m",
      "\u001b[0;31mValueError\u001b[0m                                Traceback (most recent call last)",
      "\u001b[0;32m<ipython-input-69-382e1c57cb8a>\u001b[0m in \u001b[0;36m<module>\u001b[0;34m\u001b[0m\n\u001b[1;32m      8\u001b[0m \u001b[0;34m\u001b[0m\u001b[0m\n\u001b[1;32m      9\u001b[0m \u001b[0mprint\u001b[0m\u001b[0;34m(\u001b[0m\u001b[0;34m\"calc_proj_eq_constraint():\"\u001b[0m\u001b[0;34m)\u001b[0m\u001b[0;34m\u001b[0m\u001b[0;34m\u001b[0m\u001b[0m\n\u001b[0;32m---> 10\u001b[0;31m \u001b[0mproj_eq_povm\u001b[0m \u001b[0;34m=\u001b[0m \u001b[0mpovm\u001b[0m\u001b[0;34m.\u001b[0m\u001b[0mcalc_proj_eq_constraint\u001b[0m\u001b[0;34m(\u001b[0m\u001b[0;34m)\u001b[0m\u001b[0;34m\u001b[0m\u001b[0;34m\u001b[0m\u001b[0m\n\u001b[0m\u001b[1;32m     11\u001b[0m \u001b[0mprint\u001b[0m\u001b[0;34m(\u001b[0m\u001b[0;34mf\"=I: {proj_eq_povm.is_identity_sum()}\"\u001b[0m\u001b[0;34m)\u001b[0m  \u001b[0;31m# expected: True\u001b[0m\u001b[0;34m\u001b[0m\u001b[0;34m\u001b[0m\u001b[0m\n\u001b[1;32m     12\u001b[0m \u001b[0;34m\u001b[0m\u001b[0m\n",
      "\u001b[0;32m~/project/rcast/workspace/quara/quara/objects/povm.py\u001b[0m in \u001b[0;36mcalc_proj_eq_constraint\u001b[0;34m(self)\u001b[0m\n\u001b[1;32m    202\u001b[0m     \u001b[0;32mdef\u001b[0m \u001b[0mcalc_proj_eq_constraint\u001b[0m\u001b[0;34m(\u001b[0m\u001b[0mself\u001b[0m\u001b[0;34m)\u001b[0m\u001b[0;34m:\u001b[0m\u001b[0;34m\u001b[0m\u001b[0;34m\u001b[0m\u001b[0m\n\u001b[1;32m    203\u001b[0m         \u001b[0;32mif\u001b[0m \u001b[0;32mnot\u001b[0m \u001b[0mself\u001b[0m\u001b[0;34m.\u001b[0m\u001b[0mcomposite_system\u001b[0m\u001b[0;34m.\u001b[0m\u001b[0mbasis\u001b[0m\u001b[0;34m(\u001b[0m\u001b[0;34m)\u001b[0m\u001b[0;34m.\u001b[0m\u001b[0mis_hermitian\u001b[0m\u001b[0;34m(\u001b[0m\u001b[0;34m)\u001b[0m\u001b[0;34m:\u001b[0m\u001b[0;34m\u001b[0m\u001b[0;34m\u001b[0m\u001b[0m\n\u001b[0;32m--> 204\u001b[0;31m             \u001b[0;32mraise\u001b[0m \u001b[0mValueError\u001b[0m\u001b[0;34m(\u001b[0m\u001b[0;34m\"basis is not hermitian.\"\u001b[0m\u001b[0;34m)\u001b[0m\u001b[0;34m\u001b[0m\u001b[0;34m\u001b[0m\u001b[0m\n\u001b[0m\u001b[1;32m    205\u001b[0m \u001b[0;34m\u001b[0m\u001b[0m\n\u001b[1;32m    206\u001b[0m         \u001b[0msize\u001b[0m \u001b[0;34m=\u001b[0m \u001b[0mself\u001b[0m\u001b[0;34m.\u001b[0m\u001b[0mdim\u001b[0m \u001b[0;34m**\u001b[0m \u001b[0;36m2\u001b[0m\u001b[0;34m\u001b[0m\u001b[0;34m\u001b[0m\u001b[0m\n",
      "\u001b[0;31mValueError\u001b[0m: basis is not hermitian."
     ]
    }
   ],
   "source": [
    "print(\"calc_proj_ineq_constraint():\")\n",
    "proj_ineq_povm = povm.calc_proj_ineq_constraint()\n",
    "print(f\">=0: {proj_ineq_povm.is_positive_semidefinite()}\")  # expected: True\n",
    "\n",
    "print(proj_ineq_povm.vecs)  # expected: (array([0.5, 0. , 0. , 0.5]), array([0.5, 0. , 0. , 0.5]))\n",
    "\n",
    "print(\"---------------\")\n",
    "\n",
    "print(\"calc_proj_eq_constraint():\")\n",
    "proj_eq_povm = povm.calc_proj_eq_constraint()\n",
    "print(f\"=I: {proj_eq_povm.is_identity_sum()}\")  # expected: True \n",
    "\n",
    "print(proj_eq_povm.vecs)  # expected: (array([0.5, 0. , 0. , 0.5]), array([0.5, 0. , 0. , 0.5]))"
   ]
  },
  {
   "cell_type": "code",
   "execution_count": 56,
   "metadata": {},
   "outputs": [],
   "source": [
    "assert proj_ineq_povm.is_positive_semidefinite() is True\n",
    "assert_allclose(povm.vecs, proj_ineq_povm.vecs)"
   ]
  },
  {
   "cell_type": "code",
   "execution_count": 57,
   "metadata": {},
   "outputs": [
    {
     "ename": "AssertionError",
     "evalue": "",
     "output_type": "error",
     "traceback": [
      "\u001b[0;31m---------------------------------------------------------------------------\u001b[0m",
      "\u001b[0;31mAssertionError\u001b[0m                            Traceback (most recent call last)",
      "\u001b[0;32m<ipython-input-57-a721c9c63780>\u001b[0m in \u001b[0;36m<module>\u001b[0;34m\u001b[0m\n\u001b[0;32m----> 1\u001b[0;31m \u001b[0;32massert\u001b[0m \u001b[0mproj_eq_povm\u001b[0m\u001b[0;34m.\u001b[0m\u001b[0mis_identity_sum\u001b[0m\u001b[0;34m(\u001b[0m\u001b[0;34m)\u001b[0m \u001b[0;32mis\u001b[0m \u001b[0;32mTrue\u001b[0m\u001b[0;34m\u001b[0m\u001b[0;34m\u001b[0m\u001b[0m\n\u001b[0m\u001b[1;32m      2\u001b[0m \u001b[0massert_allclose\u001b[0m\u001b[0;34m(\u001b[0m\u001b[0mpovm\u001b[0m\u001b[0;34m.\u001b[0m\u001b[0mvecs\u001b[0m\u001b[0;34m,\u001b[0m \u001b[0mproj_eq_povm\u001b[0m\u001b[0;34m.\u001b[0m\u001b[0mvecs\u001b[0m\u001b[0;34m)\u001b[0m\u001b[0;34m\u001b[0m\u001b[0;34m\u001b[0m\u001b[0m\n",
      "\u001b[0;31mAssertionError\u001b[0m: "
     ]
    }
   ],
   "source": [
    "assert proj_eq_povm.is_identity_sum() is True\n",
    "assert_allclose(povm.vecs, proj_eq_povm.vecs)"
   ]
  },
  {
   "cell_type": "code",
   "execution_count": 35,
   "metadata": {},
   "outputs": [
    {
     "data": {
      "text/plain": [
       "[array([[0.70710678+0.j, 0.        +0.j],\n",
       "        [0.        +0.j, 0.        +0.j]]),\n",
       " array([[0.70710678+0.j, 0.        +0.j],\n",
       "        [0.        +0.j, 0.        +0.j]])]"
      ]
     },
     "execution_count": 35,
     "metadata": {},
     "output_type": "execute_result"
    }
   ],
   "source": [
    "proj_eq_povm.matrices()"
   ]
  },
  {
   "cell_type": "raw",
   "metadata": {},
   "source": [
    "proj_eq_povm._sum_matrix()"
   ]
  },
  {
   "cell_type": "code",
   "execution_count": null,
   "metadata": {},
   "outputs": [],
   "source": []
  },
  {
   "cell_type": "markdown",
   "metadata": {},
   "source": [
    "c_sys"
   ]
  },
  {
   "cell_type": "markdown",
   "metadata": {},
   "source": [
    "# 2 \">=\": False \"=I\": True "
   ]
  },
  {
   "cell_type": "code",
   "execution_count": 12,
   "metadata": {},
   "outputs": [],
   "source": [
    "m_1 = np.array([2., 0., 0., 0.])\n",
    "m_2 = np.array([-1., 0., 0., 1.])\n",
    "\n",
    "vecs = [m_1, m_2]\n",
    "povm = Povm(c_sys=c_sys, vecs=vecs, is_physicality_required=False)"
   ]
  },
  {
   "cell_type": "code",
   "execution_count": 13,
   "metadata": {},
   "outputs": [],
   "source": [
    "assert povm.is_positive_semidefinite() is False\n",
    "assert povm.is_identity_sum() is True"
   ]
  },
  {
   "cell_type": "code",
   "execution_count": 14,
   "metadata": {},
   "outputs": [
    {
     "name": "stdout",
     "output_type": "stream",
     "text": [
      "calc_proj_ineq_constraint():\n",
      ">=0: True\n",
      "(array([2., 0., 0., 0.]), array([0., 0., 0., 1.]))\n",
      "---------------\n",
      "calc_proj_eq_constraint():\n",
      "=I: False\n",
      "(array([ 2.20710678,  0.        ,  0.        , -0.5       ]), array([-0.79289322,  0.        ,  0.        ,  0.5       ]))\n"
     ]
    }
   ],
   "source": [
    "print(\"calc_proj_ineq_constraint():\")\n",
    "proj_ineq_povm = povm.calc_proj_ineq_constraint()\n",
    "print(f\">=0: {proj_ineq_povm.is_positive_semidefinite()}\")  # expected: True\n",
    "\n",
    "print(proj_ineq_povm.vecs)  # expected: != povm.vecs\n",
    "\n",
    "print(\"---------------\")\n",
    "\n",
    "print(\"calc_proj_eq_constraint():\")\n",
    "proj_eq_povm = povm.calc_proj_eq_constraint()\n",
    "print(f\"=I: {proj_eq_povm.is_identity_sum()}\")  # expected: True \n",
    "\n",
    "print(proj_eq_povm.vecs)  # expected: != povm.vecs"
   ]
  },
  {
   "cell_type": "code",
   "execution_count": 15,
   "metadata": {},
   "outputs": [],
   "source": [
    "assert proj_ineq_povm.is_positive_semidefinite() is True\n",
    "assert not np.allclose(povm.vecs, proj_ineq_povm.vecs)"
   ]
  },
  {
   "cell_type": "code",
   "execution_count": 16,
   "metadata": {},
   "outputs": [
    {
     "ename": "AssertionError",
     "evalue": "",
     "output_type": "error",
     "traceback": [
      "\u001b[0;31m---------------------------------------------------------------------------\u001b[0m",
      "\u001b[0;31mAssertionError\u001b[0m                            Traceback (most recent call last)",
      "\u001b[0;32m<ipython-input-16-a721c9c63780>\u001b[0m in \u001b[0;36m<module>\u001b[0;34m\u001b[0m\n\u001b[0;32m----> 1\u001b[0;31m \u001b[0;32massert\u001b[0m \u001b[0mproj_eq_povm\u001b[0m\u001b[0;34m.\u001b[0m\u001b[0mis_identity_sum\u001b[0m\u001b[0;34m(\u001b[0m\u001b[0;34m)\u001b[0m \u001b[0;32mis\u001b[0m \u001b[0;32mTrue\u001b[0m\u001b[0;34m\u001b[0m\u001b[0;34m\u001b[0m\u001b[0m\n\u001b[0m\u001b[1;32m      2\u001b[0m \u001b[0massert_allclose\u001b[0m\u001b[0;34m(\u001b[0m\u001b[0mpovm\u001b[0m\u001b[0;34m.\u001b[0m\u001b[0mvecs\u001b[0m\u001b[0;34m,\u001b[0m \u001b[0mproj_eq_povm\u001b[0m\u001b[0;34m.\u001b[0m\u001b[0mvecs\u001b[0m\u001b[0;34m)\u001b[0m\u001b[0;34m\u001b[0m\u001b[0;34m\u001b[0m\u001b[0m\n",
      "\u001b[0;31mAssertionError\u001b[0m: "
     ]
    }
   ],
   "source": [
    "assert proj_eq_povm.is_identity_sum() is True\n",
    "assert_allclose(povm.vecs, proj_eq_povm.vecs)"
   ]
  },
  {
   "cell_type": "markdown",
   "metadata": {},
   "source": [
    "# 3 \">=\": True \"=I\": False"
   ]
  },
  {
   "cell_type": "code",
   "execution_count": 17,
   "metadata": {},
   "outputs": [],
   "source": [
    "m_1 = np.array([1., 0., 0., 1.])\n",
    "m_2 = np.array([1., 0., 0., 1.])\n",
    "\n",
    "vecs = [m_1, m_2]\n",
    "povm = Povm(c_sys=c_sys, vecs=vecs, is_physicality_required=False)"
   ]
  },
  {
   "cell_type": "code",
   "execution_count": 18,
   "metadata": {},
   "outputs": [],
   "source": [
    "assert povm.is_positive_semidefinite() is True\n",
    "assert povm.is_identity_sum() is False"
   ]
  },
  {
   "cell_type": "code",
   "execution_count": 19,
   "metadata": {},
   "outputs": [
    {
     "name": "stdout",
     "output_type": "stream",
     "text": [
      "calc_proj_ineq_constraint():\n",
      ">=0: True\n",
      "(array([1., 0., 0., 1.]), array([1., 0., 0., 1.]))\n",
      "---------------\n",
      "calc_proj_eq_constraint():\n",
      "=I: False\n",
      "(array([0.70710678, 0.        , 0.        , 0.        ]), array([0.70710678, 0.        , 0.        , 0.        ]))\n"
     ]
    }
   ],
   "source": [
    "print(\"calc_proj_ineq_constraint():\")\n",
    "proj_ineq_povm = povm.calc_proj_ineq_constraint()\n",
    "print(f\">=0: {proj_ineq_povm.is_positive_semidefinite()}\")  # expected: True\n",
    "\n",
    "print(proj_ineq_povm.vecs)  # expected: ([1, 0, 0, 1], [1, 0, 0, 1])\n",
    "\n",
    "print(\"---------------\")\n",
    "\n",
    "print(\"calc_proj_eq_constraint():\")\n",
    "proj_eq_povm = povm.calc_proj_eq_constraint()\n",
    "print(f\"=I: {proj_eq_povm.is_identity_sum()}\")  # expected: True \n",
    "\n",
    "print(proj_eq_povm.vecs)  # exoected: != povm.vecs"
   ]
  },
  {
   "cell_type": "code",
   "execution_count": 20,
   "metadata": {},
   "outputs": [],
   "source": [
    "assert proj_ineq_povm.is_positive_semidefinite() is True\n",
    "assert_allclose(povm.vecs, proj_ineq_povm.vecs)"
   ]
  },
  {
   "cell_type": "code",
   "execution_count": 21,
   "metadata": {},
   "outputs": [
    {
     "ename": "AssertionError",
     "evalue": "",
     "output_type": "error",
     "traceback": [
      "\u001b[0;31m---------------------------------------------------------------------------\u001b[0m",
      "\u001b[0;31mAssertionError\u001b[0m                            Traceback (most recent call last)",
      "\u001b[0;32m<ipython-input-21-a721c9c63780>\u001b[0m in \u001b[0;36m<module>\u001b[0;34m\u001b[0m\n\u001b[0;32m----> 1\u001b[0;31m \u001b[0;32massert\u001b[0m \u001b[0mproj_eq_povm\u001b[0m\u001b[0;34m.\u001b[0m\u001b[0mis_identity_sum\u001b[0m\u001b[0;34m(\u001b[0m\u001b[0;34m)\u001b[0m \u001b[0;32mis\u001b[0m \u001b[0;32mTrue\u001b[0m\u001b[0;34m\u001b[0m\u001b[0;34m\u001b[0m\u001b[0m\n\u001b[0m\u001b[1;32m      2\u001b[0m \u001b[0massert_allclose\u001b[0m\u001b[0;34m(\u001b[0m\u001b[0mpovm\u001b[0m\u001b[0;34m.\u001b[0m\u001b[0mvecs\u001b[0m\u001b[0;34m,\u001b[0m \u001b[0mproj_eq_povm\u001b[0m\u001b[0;34m.\u001b[0m\u001b[0mvecs\u001b[0m\u001b[0;34m)\u001b[0m\u001b[0;34m\u001b[0m\u001b[0;34m\u001b[0m\u001b[0m\n",
      "\u001b[0;31mAssertionError\u001b[0m: "
     ]
    }
   ],
   "source": [
    "assert proj_eq_povm.is_identity_sum() is True\n",
    "assert_allclose(povm.vecs, proj_eq_povm.vecs)"
   ]
  },
  {
   "cell_type": "markdown",
   "metadata": {},
   "source": [
    "# 4 \">=\": False \"=I\": False"
   ]
  },
  {
   "cell_type": "code",
   "execution_count": 22,
   "metadata": {},
   "outputs": [],
   "source": [
    "m_1 = np.array([1., 0., 0., 1.])\n",
    "m_2 = (-1) * np.array([1., 0., 0., 1.])\n",
    "\n",
    "vecs = [m_1, m_2]\n",
    "povm = Povm(c_sys=c_sys, vecs=vecs, is_physicality_required=False)"
   ]
  },
  {
   "cell_type": "code",
   "execution_count": 23,
   "metadata": {},
   "outputs": [],
   "source": [
    "assert povm.is_positive_semidefinite() is False\n",
    "assert povm.is_identity_sum() is False"
   ]
  },
  {
   "cell_type": "code",
   "execution_count": 24,
   "metadata": {},
   "outputs": [
    {
     "name": "stdout",
     "output_type": "stream",
     "text": [
      "calc_proj_ineq_constraint():\n",
      ">=0: True\n",
      "(array([1., 0., 0., 1.]), array([0., 0., 0., 0.]))\n",
      "---------------\n",
      "calc_proj_eq_constraint():\n",
      "=I: False\n",
      "(array([1.70710678, 0.        , 0.        , 1.        ]), array([-0.29289322,  0.        ,  0.        , -1.        ]))\n"
     ]
    }
   ],
   "source": [
    "print(\"calc_proj_ineq_constraint():\")\n",
    "\n",
    "proj_ineq_povm = povm.calc_proj_ineq_constraint()\n",
    "print(f\">=0: {proj_ineq_povm.is_positive_semidefinite()}\")  # expected: True\n",
    "\n",
    "print(proj_ineq_povm.vecs)  # expected: != povm.vecs\n",
    "\n",
    "print(\"---------------\")\n",
    "\n",
    "print(\"calc_proj_eq_constraint():\")\n",
    "proj_eq_povm = povm.calc_proj_eq_constraint()\n",
    "print(f\"=I: {proj_eq_povm.is_identity_sum()}\")  # expected: True \n",
    "\n",
    "print(proj_eq_povm.vecs)  # expected: != povm.vecs"
   ]
  },
  {
   "cell_type": "code",
   "execution_count": 25,
   "metadata": {},
   "outputs": [],
   "source": [
    "assert proj_ineq_povm.is_positive_semidefinite() is True\n",
    "assert not np.allclose(povm.vecs, proj_ineq_povm.vecs)"
   ]
  },
  {
   "cell_type": "code",
   "execution_count": 26,
   "metadata": {},
   "outputs": [
    {
     "ename": "AssertionError",
     "evalue": "",
     "output_type": "error",
     "traceback": [
      "\u001b[0;31m---------------------------------------------------------------------------\u001b[0m",
      "\u001b[0;31mAssertionError\u001b[0m                            Traceback (most recent call last)",
      "\u001b[0;32m<ipython-input-26-7fdb20afd8eb>\u001b[0m in \u001b[0;36m<module>\u001b[0;34m\u001b[0m\n\u001b[0;32m----> 1\u001b[0;31m \u001b[0;32massert\u001b[0m \u001b[0mproj_eq_povm\u001b[0m\u001b[0;34m.\u001b[0m\u001b[0mis_identity_sum\u001b[0m\u001b[0;34m(\u001b[0m\u001b[0;34m)\u001b[0m \u001b[0;32mis\u001b[0m \u001b[0;32mTrue\u001b[0m\u001b[0;34m\u001b[0m\u001b[0;34m\u001b[0m\u001b[0m\n\u001b[0m\u001b[1;32m      2\u001b[0m \u001b[0;32massert\u001b[0m \u001b[0;32mnot\u001b[0m \u001b[0mnp\u001b[0m\u001b[0;34m.\u001b[0m\u001b[0mallclose\u001b[0m\u001b[0;34m(\u001b[0m\u001b[0mpovm\u001b[0m\u001b[0;34m.\u001b[0m\u001b[0mvecs\u001b[0m\u001b[0;34m,\u001b[0m \u001b[0mproj_eq_povm\u001b[0m\u001b[0;34m.\u001b[0m\u001b[0mvecs\u001b[0m\u001b[0;34m)\u001b[0m\u001b[0;34m\u001b[0m\u001b[0;34m\u001b[0m\u001b[0m\n",
      "\u001b[0;31mAssertionError\u001b[0m: "
     ]
    }
   ],
   "source": [
    "assert proj_eq_povm.is_identity_sum() is True\n",
    "assert not np.allclose(povm.vecs, proj_eq_povm.vecs)"
   ]
  }
 ],
 "metadata": {
  "hide_input": false,
  "kernelspec": {
   "display_name": "quara_venv",
   "language": "python",
   "name": "quara_venv"
  },
  "language_info": {
   "codemirror_mode": {
    "name": "ipython",
    "version": 3
   },
   "file_extension": ".py",
   "mimetype": "text/x-python",
   "name": "python",
   "nbconvert_exporter": "python",
   "pygments_lexer": "ipython3",
   "version": "3.8.0"
  },
  "toc": {
   "base_numbering": 1,
   "nav_menu": {},
   "number_sections": true,
   "sideBar": true,
   "skip_h1_title": false,
   "title_cell": "Table of Contents",
   "title_sidebar": "Contents",
   "toc_cell": false,
   "toc_position": {
    "height": "calc(100% - 180px)",
    "left": "10px",
    "top": "150px",
    "width": "236.25px"
   },
   "toc_section_display": true,
   "toc_window_display": true
  },
  "varInspector": {
   "cols": {
    "lenName": 16,
    "lenType": 16,
    "lenVar": 40
   },
   "kernels_config": {
    "python": {
     "delete_cmd_postfix": "",
     "delete_cmd_prefix": "del ",
     "library": "var_list.py",
     "varRefreshCmd": "print(var_dic_list())"
    },
    "r": {
     "delete_cmd_postfix": ") ",
     "delete_cmd_prefix": "rm(",
     "library": "var_list.r",
     "varRefreshCmd": "cat(var_dic_list()) "
    }
   },
   "types_to_exclude": [
    "module",
    "function",
    "builtin_function_or_method",
    "instance",
    "_Feature"
   ],
   "window_display": false
  }
 },
 "nbformat": 4,
 "nbformat_minor": 4
}
