{
 "cells": [
  {
   "cell_type": "code",
   "execution_count": 1,
   "metadata": {},
   "outputs": [],
   "source": [
    "import pickle\n",
    "import time\n",
    "from typing import List\n",
    "import datetime as dt\n",
    "\n",
    "import numpy as np\n",
    "from tqdm import tqdm\n",
    "import plotly.graph_objects as go\n",
    "import plotly.express as px\n",
    "\n",
    "from quara.objects.composite_system import CompositeSystem\n",
    "from quara.objects.elemental_system import ElementalSystem\n",
    "from quara.objects.matrix_basis import get_normalized_pauli_basis, get_pauli_basis, get_comp_basis\n",
    "from quara.objects.povm import (\n",
    "    Povm,\n",
    "    get_x_measurement,\n",
    "    get_y_measurement,\n",
    "    get_z_measurement,\n",
    ")\n",
    "from quara.objects.qoperation import QOperation\n",
    "from quara.objects.state import State, get_x0_1q,  get_x1_1q, get_y0_1q, get_y1_1q, get_z0_1q, get_z1_1q\n",
    "from quara.protocol.qtomography.standard.standard_qst import StandardQst\n",
    "from quara.protocol.qtomography.standard.standard_povmt import StandardPovmt\n",
    "from quara.protocol.qtomography.standard.linear_estimator import LinearEstimator\n",
    "from quara.protocol.qtomography.standard.projected_linear_estimator import ProjectedLinearEstimator\n",
    "\n",
    "from quara.protocol.qtomography.standard.standard_qtomography_estimator import (\n",
    "    StandardQTomographyEstimator,\n",
    "    StandardQTomographyEstimationResult,\n",
    ")"
   ]
  },
  {
   "cell_type": "code",
   "execution_count": 2,
   "metadata": {},
   "outputs": [],
   "source": [
    "from numpy.testing import assert_allclose"
   ]
  },
  {
   "cell_type": "code",
   "execution_count": 3,
   "metadata": {},
   "outputs": [],
   "source": [
    "from quara.data_analysis import data_analysis, physicality_violation_check"
   ]
  },
  {
   "cell_type": "code",
   "execution_count": 4,
   "metadata": {},
   "outputs": [],
   "source": [
    "%load_ext autoreload\n",
    "%autoreload 2"
   ]
  },
  {
   "cell_type": "markdown",
   "metadata": {},
   "source": [
    "# 1 \">=\": True \"=I\": True "
   ]
  },
  {
   "cell_type": "code",
   "execution_count": 55,
   "metadata": {},
   "outputs": [],
   "source": [
    "# setup system\n",
    "e_sys = ElementalSystem(0, get_normalized_pauli_basis())\n",
    "c_sys = CompositeSystem([e_sys])"
   ]
  },
  {
   "cell_type": "code",
   "execution_count": 56,
   "metadata": {},
   "outputs": [
    {
     "data": {
      "text/plain": [
       "MatrixBasis(basis=[array([[0.70710678+0.j, 0.        +0.j],\n",
       "       [0.        +0.j, 0.70710678+0.j]]), array([[0.        +0.j, 0.70710678+0.j],\n",
       "       [0.70710678+0.j, 0.        +0.j]]), array([[0.+0.j        , 0.-0.70710678j],\n",
       "       [0.+0.70710678j, 0.+0.j        ]]), array([[ 0.70710678+0.j,  0.        +0.j],\n",
       "       [ 0.        +0.j, -0.70710678+0.j]])])"
      ]
     },
     "execution_count": 56,
     "metadata": {},
     "output_type": "execute_result"
    }
   ],
   "source": [
    "# basis\n",
    "c_sys.basis()"
   ]
  },
  {
   "cell_type": "code",
   "execution_count": 57,
   "metadata": {},
   "outputs": [],
   "source": [
    "m_1 = np.array([1/np.sqrt(2), 0, 0, 0])\n",
    "m_2 = np.array([1/np.sqrt(2), 0, 0, 0])\n",
    "\n",
    "vecs = [m_1, m_2]\n",
    "povm = Povm(c_sys=c_sys, vecs=vecs, is_physicality_required=False)"
   ]
  },
  {
   "cell_type": "code",
   "execution_count": 58,
   "metadata": {
    "scrolled": true
   },
   "outputs": [
    {
     "data": {
      "text/plain": [
       "array([0.70710678, 0.        , 0.        , 0.        , 0.70710678,\n",
       "       0.        , 0.        , 0.        ])"
      ]
     },
     "execution_count": 58,
     "metadata": {},
     "output_type": "execute_result"
    }
   ],
   "source": [
    "povm.to_stacked_vectortacked_vector()"
   ]
  },
  {
   "cell_type": "code",
   "execution_count": 41,
   "metadata": {},
   "outputs": [],
   "source": [
    "result = povm.calc_proj_physical()"
   ]
  },
  {
   "cell_type": "code",
   "execution_count": 43,
   "metadata": {},
   "outputs": [
    {
     "data": {
      "text/plain": [
       "True"
      ]
     },
     "execution_count": 43,
     "metadata": {},
     "output_type": "execute_result"
    }
   ],
   "source": [
    "result.is_positive_semidefinite()"
   ]
  },
  {
   "cell_type": "code",
   "execution_count": 7,
   "metadata": {},
   "outputs": [],
   "source": [
    "assert povm.is_positive_semidefinite() is True\n",
    "assert povm.is_identity_sum() is True"
   ]
  },
  {
   "cell_type": "code",
   "execution_count": 45,
   "metadata": {},
   "outputs": [
    {
     "data": {
      "text/plain": [
       "True"
      ]
     },
     "execution_count": 45,
     "metadata": {},
     "output_type": "execute_result"
    }
   ],
   "source": [
    "result.is_positive_semidefinite()\n",
    "result.is_identity_sum() "
   ]
  },
  {
   "cell_type": "code",
   "execution_count": 10,
   "metadata": {},
   "outputs": [
    {
     "name": "stdout",
     "output_type": "stream",
     "text": [
      "calc_proj_ineq_constraint():\n",
      ">=0: True\n",
      "vecs:\n",
      "(array([0.70710678, 0.        , 0.        , 0.        ]), array([0.70710678, 0.        , 0.        , 0.        ]))\n",
      "matrices:\n",
      "[array([[0.5+0.j, 0. +0.j],\n",
      "       [0. +0.j, 0.5+0.j]]), array([[0.5+0.j, 0. +0.j],\n",
      "       [0. +0.j, 0.5+0.j]])]\n",
      "---------------\n",
      "calc_proj_eq_constraint():\n",
      "=I: True\n",
      "vecs:\n",
      "(array([0.70710678, 0.        , 0.        , 0.        ]), array([0.70710678, 0.        , 0.        , 0.        ]))\n",
      "matrices:\n",
      "[array([[0.5+0.j, 0. +0.j],\n",
      "       [0. +0.j, 0.5+0.j]]), array([[0.5+0.j, 0. +0.j],\n",
      "       [0. +0.j, 0.5+0.j]])]\n"
     ]
    }
   ],
   "source": [
    "print(\"calc_proj_ineq_constraint():\")\n",
    "proj_ineq_povm = povm.calc_proj_ineq_constraint()\n",
    "print(f\">=0: {proj_ineq_povm.is_positive_semidefinite()}\")  # expected: True\n",
    "\n",
    "print(f\"vecs:\")\n",
    "print(proj_ineq_povm.vecs)\n",
    "print(f\"matrices:\")\n",
    "print(proj_ineq_povm.matrices())\n",
    "\n",
    "print(\"---------------\")\n",
    "\n",
    "print(\"calc_proj_eq_constraint():\")\n",
    "proj_eq_povm = povm.calc_proj_eq_constraint()\n",
    "print(f\"=I: {proj_eq_povm.is_identity_sum()}\")  # expected: True \n",
    "\n",
    "print(f\"vecs:\")\n",
    "print(proj_eq_povm.vecs)\n",
    "print(f\"matrices:\")\n",
    "print(proj_eq_povm.matrices())"
   ]
  },
  {
   "cell_type": "code",
   "execution_count": 11,
   "metadata": {},
   "outputs": [],
   "source": [
    "assert proj_ineq_povm.is_positive_semidefinite() is True\n",
    "assert_allclose(povm.vecs, proj_ineq_povm.vecs)"
   ]
  },
  {
   "cell_type": "code",
   "execution_count": 12,
   "metadata": {},
   "outputs": [],
   "source": [
    "assert proj_eq_povm.is_identity_sum() is True\n",
    "assert_allclose(povm.vecs, proj_eq_povm.vecs)"
   ]
  },
  {
   "cell_type": "markdown",
   "metadata": {},
   "source": [
    "# 2 \">=\": False \"=I\": True "
   ]
  },
  {
   "cell_type": "code",
   "execution_count": 59,
   "metadata": {},
   "outputs": [],
   "source": [
    "m_1 = np.array([np.sqrt(2), 0., 0., np.sqrt(2)])\n",
    "m_2 = np.array([0, 0., 0., -np.sqrt(2)])\n",
    "\n",
    "vecs = [m_1, m_2]\n",
    "povm = Povm(c_sys=c_sys, vecs=vecs, is_physicality_required=False)"
   ]
  },
  {
   "cell_type": "code",
   "execution_count": 61,
   "metadata": {},
   "outputs": [
    {
     "data": {
      "text/plain": [
       "array([ 1.41421356,  0.        ,  0.        ,  1.41421356,  0.        ,\n",
       "        0.        ,  0.        , -1.41421356])"
      ]
     },
     "execution_count": 61,
     "metadata": {},
     "output_type": "execute_result"
    }
   ],
   "source": [
    "povm.to_stacked_vector()"
   ]
  },
  {
   "cell_type": "code",
   "execution_count": 47,
   "metadata": {},
   "outputs": [],
   "source": [
    "assert povm.is_positive_semidefinite() is False\n",
    "assert povm.is_identity_sum() is True"
   ]
  },
  {
   "cell_type": "code",
   "execution_count": 48,
   "metadata": {},
   "outputs": [
    {
     "name": "stdout",
     "output_type": "stream",
     "text": [
      "False\n",
      "True\n"
     ]
    }
   ],
   "source": [
    "result = povm.calc_proj_physical()\n",
    "print(result.is_positive_semidefinite())\n",
    "print(result.is_identity_sum())"
   ]
  },
  {
   "cell_type": "code",
   "execution_count": 15,
   "metadata": {},
   "outputs": [
    {
     "name": "stdout",
     "output_type": "stream",
     "text": [
      "calc_proj_ineq_constraint():\n",
      ">=0: True\n",
      "vecs:\n",
      "(array([1.41421356, 0.        , 0.        , 1.41421356]), array([ 0.70710678,  0.        ,  0.        , -0.70710678]))\n",
      "matrices:\n",
      "[array([[2.+0.j, 0.+0.j],\n",
      "       [0.+0.j, 0.+0.j]]), array([[0.+0.j, 0.+0.j],\n",
      "       [0.+0.j, 1.+0.j]])]\n",
      "---------------\n",
      "calc_proj_eq_constraint():\n",
      "=I: True\n",
      "vecs:\n",
      "(array([1.41421356, 0.        , 0.        , 1.41421356]), array([ 0.        ,  0.        ,  0.        , -1.41421356]))\n",
      "matrices:\n",
      "[array([[2.+0.j, 0.+0.j],\n",
      "       [0.+0.j, 0.+0.j]]), array([[-1.+0.j,  0.+0.j],\n",
      "       [ 0.+0.j,  1.+0.j]])]\n"
     ]
    }
   ],
   "source": [
    "print(\"calc_proj_ineq_constraint():\")\n",
    "proj_ineq_povm = povm.calc_proj_ineq_constraint()\n",
    "print(f\">=0: {proj_ineq_povm.is_positive_semidefinite()}\")  # expected: True\n",
    "\n",
    "print(f\"vecs:\")\n",
    "print(proj_ineq_povm.vecs)\n",
    "print(f\"matrices:\")\n",
    "print(proj_ineq_povm.matrices())\n",
    "\n",
    "print(\"---------------\")\n",
    "\n",
    "print(\"calc_proj_eq_constraint():\")\n",
    "proj_eq_povm = povm.calc_proj_eq_constraint()\n",
    "print(f\"=I: {proj_eq_povm.is_identity_sum()}\")  # expected: True \n",
    "\n",
    "print(f\"vecs:\")\n",
    "print(proj_eq_povm.vecs)\n",
    "print(f\"matrices:\")\n",
    "print(proj_eq_povm.matrices())"
   ]
  },
  {
   "cell_type": "code",
   "execution_count": 16,
   "metadata": {},
   "outputs": [],
   "source": [
    "assert proj_ineq_povm.is_positive_semidefinite() is True\n",
    "assert not np.allclose(povm.vecs, proj_ineq_povm.vecs)"
   ]
  },
  {
   "cell_type": "code",
   "execution_count": 17,
   "metadata": {},
   "outputs": [],
   "source": [
    "assert proj_eq_povm.is_identity_sum() is True\n",
    "assert_allclose(povm.vecs, proj_eq_povm.vecs)"
   ]
  },
  {
   "cell_type": "markdown",
   "metadata": {},
   "source": [
    "# 3 \">=\": True \"=I\": False"
   ]
  },
  {
   "cell_type": "code",
   "execution_count": 49,
   "metadata": {},
   "outputs": [],
   "source": [
    "m_1 = np.array([np.sqrt(2), 0., 0., 1.])\n",
    "m_2 = np.array([np.sqrt(2), 0., 0., 1.])\n",
    "\n",
    "vecs = [m_1, m_2]\n",
    "povm = Povm(c_sys=c_sys, vecs=vecs, is_physicality_required=False)"
   ]
  },
  {
   "cell_type": "code",
   "execution_count": 50,
   "metadata": {},
   "outputs": [],
   "source": [
    "assert povm.is_positive_semidefinite() is True\n",
    "assert povm.is_identity_sum() is False"
   ]
  },
  {
   "cell_type": "code",
   "execution_count": 51,
   "metadata": {},
   "outputs": [
    {
     "name": "stdout",
     "output_type": "stream",
     "text": [
      "True\n",
      "True\n"
     ]
    }
   ],
   "source": [
    "result = povm.calc_proj_physical()\n",
    "print(result.is_positive_semidefinite())\n",
    "print(result.is_identity_sum() )"
   ]
  },
  {
   "cell_type": "code",
   "execution_count": 20,
   "metadata": {},
   "outputs": [
    {
     "name": "stdout",
     "output_type": "stream",
     "text": [
      "calc_proj_ineq_constraint():\n",
      ">=0: True\n",
      "vecs:\n",
      "(array([1.41421356, 0.        , 0.        , 1.        ]), array([1.41421356, 0.        , 0.        , 1.        ]))\n",
      "matrices:\n",
      "[array([[1.70710678+0.j, 0.        +0.j],\n",
      "       [0.        +0.j, 0.29289322+0.j]]), array([[1.70710678+0.j, 0.        +0.j],\n",
      "       [0.        +0.j, 0.29289322+0.j]])]\n",
      "---------------\n",
      "calc_proj_eq_constraint():\n",
      "=I: True\n",
      "vecs:\n",
      "(array([0.70710678, 0.        , 0.        , 0.        ]), array([0.70710678, 0.        , 0.        , 0.        ]))\n",
      "matrices:\n",
      "[array([[0.5+0.j, 0. +0.j],\n",
      "       [0. +0.j, 0.5+0.j]]), array([[0.5+0.j, 0. +0.j],\n",
      "       [0. +0.j, 0.5+0.j]])]\n"
     ]
    }
   ],
   "source": [
    "print(\"calc_proj_ineq_constraint():\")\n",
    "proj_ineq_povm = povm.calc_proj_ineq_constraint()\n",
    "print(f\">=0: {proj_ineq_povm.is_positive_semidefinite()}\")  # expected: True\n",
    "\n",
    "print(f\"vecs:\")\n",
    "print(proj_ineq_povm.vecs)\n",
    "print(f\"matrices:\")\n",
    "print(proj_ineq_povm.matrices())\n",
    "\n",
    "print(\"---------------\")\n",
    "\n",
    "print(\"calc_proj_eq_constraint():\")\n",
    "proj_eq_povm = povm.calc_proj_eq_constraint()\n",
    "print(f\"=I: {proj_eq_povm.is_identity_sum()}\")  # expected: True \n",
    "\n",
    "print(f\"vecs:\")\n",
    "print(proj_eq_povm.vecs)\n",
    "print(f\"matrices:\")\n",
    "print(proj_eq_povm.matrices())"
   ]
  },
  {
   "cell_type": "code",
   "execution_count": 21,
   "metadata": {},
   "outputs": [],
   "source": [
    "assert proj_ineq_povm.is_positive_semidefinite() is True\n",
    "assert_allclose(povm.vecs, proj_ineq_povm.vecs)"
   ]
  },
  {
   "cell_type": "code",
   "execution_count": 28,
   "metadata": {},
   "outputs": [],
   "source": [
    "assert proj_eq_povm.is_identity_sum() is True\n",
    "assert not np.allclose(povm.vecs, proj_eq_povm.vecs)"
   ]
  },
  {
   "cell_type": "markdown",
   "metadata": {},
   "source": [
    "# 4 \">=\": False \"=I\": False"
   ]
  },
  {
   "cell_type": "code",
   "execution_count": 52,
   "metadata": {},
   "outputs": [],
   "source": [
    "m_1 = np.array([np.sqrt(2), 0., 0., 1.])\n",
    "m_2 = np.array([-np.sqrt(2), 0., 0., 1.])\n",
    "\n",
    "vecs = [m_1, m_2]\n",
    "povm = Povm(c_sys=c_sys, vecs=vecs, is_physicality_required=False)"
   ]
  },
  {
   "cell_type": "code",
   "execution_count": 53,
   "metadata": {},
   "outputs": [],
   "source": [
    "assert povm.is_positive_semidefinite() is False\n",
    "assert povm.is_identity_sum() is False"
   ]
  },
  {
   "cell_type": "code",
   "execution_count": 54,
   "metadata": {},
   "outputs": [
    {
     "name": "stdout",
     "output_type": "stream",
     "text": [
      "False\n",
      "True\n"
     ]
    }
   ],
   "source": [
    "result = povm.calc_proj_physical()\n",
    "print(result.is_positive_semidefinite())\n",
    "print(result.is_identity_sum() )"
   ]
  },
  {
   "cell_type": "code",
   "execution_count": 25,
   "metadata": {},
   "outputs": [
    {
     "name": "stdout",
     "output_type": "stream",
     "text": [
      "calc_proj_ineq_constraint():\n",
      ">=0: True\n",
      "vecs:\n",
      "(array([1.41421356, 0.        , 0.        , 1.        ]), array([0., 0., 0., 0.]))\n",
      "matrices:\n",
      "[array([[1.70710678+0.j, 0.        +0.j],\n",
      "       [0.        +0.j, 0.29289322+0.j]]), array([[0.+0.j, 0.+0.j],\n",
      "       [0.+0.j, 0.+0.j]])]\n",
      "---------------\n",
      "calc_proj_eq_constraint():\n",
      "=I: True\n",
      "vecs:\n",
      "(array([2.12132034, 0.        , 0.        , 0.        ]), array([-0.70710678,  0.        ,  0.        ,  0.        ]))\n",
      "matrices:\n",
      "[array([[1.5+0.j, 0. +0.j],\n",
      "       [0. +0.j, 1.5+0.j]]), array([[-0.5+0.j,  0. +0.j],\n",
      "       [ 0. +0.j, -0.5+0.j]])]\n"
     ]
    }
   ],
   "source": [
    "print(\"calc_proj_ineq_constraint():\")\n",
    "proj_ineq_povm = povm.calc_proj_ineq_constraint()\n",
    "print(f\">=0: {proj_ineq_povm.is_positive_semidefinite()}\")  # expected: True\n",
    "\n",
    "print(f\"vecs:\")\n",
    "print(proj_ineq_povm.vecs)\n",
    "print(f\"matrices:\")\n",
    "print(proj_ineq_povm.matrices())\n",
    "\n",
    "print(\"---------------\")\n",
    "\n",
    "print(\"calc_proj_eq_constraint():\")\n",
    "proj_eq_povm = povm.calc_proj_eq_constraint()\n",
    "print(f\"=I: {proj_eq_povm.is_identity_sum()}\")  # expected: True \n",
    "\n",
    "print(f\"vecs:\")\n",
    "print(proj_eq_povm.vecs)\n",
    "print(f\"matrices:\")\n",
    "print(proj_eq_povm.matrices())"
   ]
  },
  {
   "cell_type": "code",
   "execution_count": 26,
   "metadata": {},
   "outputs": [],
   "source": [
    "assert proj_ineq_povm.is_positive_semidefinite() is True\n",
    "assert not np.allclose(povm.vecs, proj_ineq_povm.vecs)"
   ]
  },
  {
   "cell_type": "code",
   "execution_count": 27,
   "metadata": {},
   "outputs": [],
   "source": [
    "assert proj_eq_povm.is_identity_sum() is True\n",
    "assert not np.allclose(povm.vecs, proj_eq_povm.vecs)"
   ]
  },
  {
   "cell_type": "code",
   "execution_count": 62,
   "metadata": {},
   "outputs": [],
   "source": [
    "# "
   ]
  },
  {
   "cell_type": "code",
   "execution_count": 63,
   "metadata": {},
   "outputs": [],
   "source": [
    "m_1 = np.array([1/np.sqrt(2), 0, 0, 0])\n",
    "m_2 = np.array([1/np.sqrt(2), 0, 0, 0])\n",
    "\n",
    "vecs = [m_1, m_2]\n",
    "povm_1 = Povm(c_sys=c_sys, vecs=vecs, is_physicality_required=False)\n",
    "\n",
    "m_1 = np.array([np.sqrt(2), 0., 0., np.sqrt(2)])\n",
    "m_2 = np.array([0, 0., 0., -np.sqrt(2)])\n",
    "\n",
    "vecs = [m_1, m_2]\n",
    "povm_2 = Povm(c_sys=c_sys, vecs=vecs, is_physicality_required=False)\n",
    "\n",
    "(povm_1 + povm_2).vecs"
   ]
  },
  {
   "cell_type": "code",
   "execution_count": 70,
   "metadata": {},
   "outputs": [
    {
     "data": {
      "text/plain": [
       "(array([ -9., -18., -27., -36.]), array([-45., -54., -63., -72.]))"
      ]
     },
     "execution_count": 70,
     "metadata": {},
     "output_type": "execute_result"
    }
   ],
   "source": [
    "m_1 = np.array([1., 2, 3, 4])\n",
    "m_2 = np.array([5., 6, 7, 8])\n",
    "\n",
    "vecs = [m_1, m_2]\n",
    "povm_1 = Povm(c_sys=c_sys, vecs=vecs, is_physicality_required=False)\n",
    "\n",
    "m_1 = np.array([10., 20, 30, 40])\n",
    "m_2 = np.array([50., 60, 70, 80])\n",
    "\n",
    "vecs = [m_1, m_2]\n",
    "povm_2 = Povm(c_sys=c_sys, vecs=vecs, is_physicality_required=False)\n",
    "\n",
    "(povm_1 - povm_2).vecs"
   ]
  },
  {
   "cell_type": "code",
   "execution_count": 75,
   "metadata": {},
   "outputs": [
    {
     "data": {
      "text/plain": [
       "(array([2., 4., 6., 8.]), array([10., 12., 14., 16.]))"
      ]
     },
     "execution_count": 75,
     "metadata": {},
     "output_type": "execute_result"
    }
   ],
   "source": [
    "m_1 = np.array([1., 2, 3, 4])\n",
    "m_2 = np.array([5., 6, 7, 8])\n",
    "\n",
    "vecs = [m_1, m_2]\n",
    "povm_1 = Povm(c_sys=c_sys, vecs=vecs, is_physicality_required=False)\n",
    "\n",
    "\n",
    "(povm_1 * 2).vecs"
   ]
  },
  {
   "cell_type": "code",
   "execution_count": null,
   "metadata": {},
   "outputs": [],
   "source": []
  },
  {
   "cell_type": "code",
   "execution_count": null,
   "metadata": {},
   "outputs": [],
   "source": []
  }
 ],
 "metadata": {
  "hide_input": false,
  "kernelspec": {
   "display_name": "quara_venv",
   "language": "python",
   "name": "quara_venv"
  },
  "language_info": {
   "codemirror_mode": {
    "name": "ipython",
    "version": 3
   },
   "file_extension": ".py",
   "mimetype": "text/x-python",
   "name": "python",
   "nbconvert_exporter": "python",
   "pygments_lexer": "ipython3",
   "version": "3.8.0"
  },
  "toc": {
   "base_numbering": 1,
   "nav_menu": {},
   "number_sections": true,
   "sideBar": true,
   "skip_h1_title": false,
   "title_cell": "Table of Contents",
   "title_sidebar": "Contents",
   "toc_cell": false,
   "toc_position": {
    "height": "calc(100% - 180px)",
    "left": "10px",
    "top": "150px",
    "width": "236.25px"
   },
   "toc_section_display": true,
   "toc_window_display": true
  },
  "varInspector": {
   "cols": {
    "lenName": 16,
    "lenType": 16,
    "lenVar": 40
   },
   "kernels_config": {
    "python": {
     "delete_cmd_postfix": "",
     "delete_cmd_prefix": "del ",
     "library": "var_list.py",
     "varRefreshCmd": "print(var_dic_list())"
    },
    "r": {
     "delete_cmd_postfix": ") ",
     "delete_cmd_prefix": "rm(",
     "library": "var_list.r",
     "varRefreshCmd": "cat(var_dic_list()) "
    }
   },
   "types_to_exclude": [
    "module",
    "function",
    "builtin_function_or_method",
    "instance",
    "_Feature"
   ],
   "window_display": false
  }
 },
 "nbformat": 4,
 "nbformat_minor": 4
}
