{
 "cells": [
  {
   "cell_type": "code",
   "execution_count": 1,
   "metadata": {},
   "outputs": [],
   "source": [
    "from xhtml2pdf import pisa\n",
    "from xhtml2pdf.config.httpconfig import httpConfig"
   ]
  },
  {
   "cell_type": "code",
   "execution_count": 2,
   "metadata": {},
   "outputs": [],
   "source": [
    "# State"
   ]
  },
  {
   "cell_type": "code",
   "execution_count": 3,
   "metadata": {},
   "outputs": [],
   "source": [
    "import pickle\n",
    "import time\n",
    "from typing import List\n",
    "import datetime as dt\n",
    "from pathlib import Path\n",
    "\n",
    "import numpy as np\n",
    "import pandas as pd\n",
    "import plotly.graph_objects as go\n",
    "import plotly.express as px\n",
    "\n",
    "from tqdm import tqdm\n",
    "\n",
    "from quara.data_analysis import data_analysis, physicality_violation_check, report\n",
    "from quara.objects.composite_system import CompositeSystem\n",
    "from quara.objects.elemental_system import ElementalSystem\n",
    "from quara.objects.matrix_basis import get_normalized_pauli_basis\n",
    "from quara.objects.povm import (\n",
    "    Povm,\n",
    "    get_x_measurement,\n",
    "    get_y_measurement,\n",
    "    get_z_measurement,\n",
    ")\n",
    "from quara.objects.qoperation import QOperation\n",
    "from quara.objects.state import State, get_z0_1q, get_z1_1q, get_x0_1q\n",
    "from quara.protocol.qtomography.standard.standard_qst import StandardQst\n",
    "from quara.protocol.qtomography.standard.linear_estimator import LinearEstimator\n",
    "from quara.protocol.qtomography.standard.projected_linear_estimator import (\n",
    "    ProjectedLinearEstimator,\n",
    ")"
   ]
  },
  {
   "cell_type": "code",
   "execution_count": 4,
   "metadata": {},
   "outputs": [],
   "source": [
    "%load_ext autoreload\n",
    "%autoreload 2"
   ]
  },
  {
   "cell_type": "code",
   "execution_count": 5,
   "metadata": {},
   "outputs": [],
   "source": [
    "start_all = time.time()"
   ]
  },
  {
   "cell_type": "code",
   "execution_count": 6,
   "metadata": {},
   "outputs": [],
   "source": [
    "# setup system\n",
    "e_sys = ElementalSystem(0, get_normalized_pauli_basis())\n",
    "c_sys = CompositeSystem([e_sys])\n",
    "\n",
    "povm_x = get_x_measurement(c_sys)\n",
    "povm_y = get_y_measurement(c_sys)\n",
    "povm_z = get_z_measurement(c_sys)\n",
    "tester_objects = [povm_x, povm_y, povm_z]"
   ]
  },
  {
   "cell_type": "code",
   "execution_count": 7,
   "metadata": {},
   "outputs": [
    {
     "name": "stderr",
     "output_type": "stream",
     "text": [
      "  6%|▌         | 6/100 [00:00<00:01, 53.28it/s]"
     ]
    },
    {
     "name": "stdout",
     "output_type": "stream",
     "text": [
      "Case 0: LinearEstimator(True)\n",
      "Parametorization: True\n",
      "Type of qtomography: StandardQst\n",
      "Estimator: LinearEstimator\n"
     ]
    },
    {
     "name": "stderr",
     "output_type": "stream",
     "text": [
      "100%|██████████| 100/100 [00:01<00:00, 80.32it/s]\n",
      "  6%|▌         | 6/100 [00:00<00:01, 50.63it/s]"
     ]
    },
    {
     "name": "stdout",
     "output_type": "stream",
     "text": [
      "elapsed_time:0.021422032515207926[min]\n",
      "\n",
      "Case 1: LinearEstimator(False)\n",
      "Parametorization: False\n",
      "Type of qtomography: StandardQst\n",
      "Estimator: LinearEstimator\n"
     ]
    },
    {
     "name": "stderr",
     "output_type": "stream",
     "text": [
      "100%|██████████| 100/100 [00:01<00:00, 65.30it/s]\n",
      "  0%|          | 0/100 [00:00<?, ?it/s]/Users/tomoko/project/rcast/workspace/quara/quara/objects/state.py:283: ComplexWarning: Casting complex values to real discards the imaginary part\n",
      "  np.array(vec_new, dtype=np.float64),\n",
      "  2%|▏         | 2/100 [00:00<00:05, 18.69it/s]"
     ]
    },
    {
     "name": "stdout",
     "output_type": "stream",
     "text": [
      "elapsed_time:0.025610947608947755[min]\n",
      "\n",
      "Case 2: ProjectedLinearEstimator(True)\n",
      "Parametorization: True\n",
      "Type of qtomography: StandardQst\n",
      "Estimator: ProjectedLinearEstimator\n"
     ]
    },
    {
     "name": "stderr",
     "output_type": "stream",
     "text": [
      "100%|██████████| 100/100 [00:05<00:00, 19.46it/s]\n",
      "  2%|▏         | 2/100 [00:00<00:05, 17.23it/s]"
     ]
    },
    {
     "name": "stdout",
     "output_type": "stream",
     "text": [
      "elapsed_time:0.08575025002161661[min]\n",
      "\n",
      "Case 3: ProjectedLinearEstimator(False)\n",
      "Parametorization: False\n",
      "Type of qtomography: StandardQst\n",
      "Estimator: ProjectedLinearEstimator\n"
     ]
    },
    {
     "name": "stderr",
     "output_type": "stream",
     "text": [
      "100%|██████████| 100/100 [00:05<00:00, 18.88it/s]"
     ]
    },
    {
     "name": "stdout",
     "output_type": "stream",
     "text": [
      "elapsed_time:0.08841514587402344[min]\n",
      "\n"
     ]
    },
    {
     "name": "stderr",
     "output_type": "stream",
     "text": [
      "\n"
     ]
    }
   ],
   "source": [
    "true_object = get_z0_1q(c_sys)\n",
    "num_data = [100, 1000]\n",
    "n_rep = 100\n",
    "\n",
    "case_name_list = [\n",
    "    \"LinearEstimator(True)\",\n",
    "    \"LinearEstimator(False)\",\n",
    "    \"ProjectedLinearEstimator(True)\",\n",
    "    \"ProjectedLinearEstimator(False)\",\n",
    "]\n",
    "\n",
    "qtomography_list = [\n",
    "    StandardQst(tester_objects, on_para_eq_constraint=True),\n",
    "    StandardQst(tester_objects, on_para_eq_constraint=False),\n",
    "    StandardQst(tester_objects, on_para_eq_constraint=True),\n",
    "    StandardQst(tester_objects, on_para_eq_constraint=False),\n",
    "]\n",
    "para_list = [True, False, True, False]\n",
    "\n",
    "estimator_list = [\n",
    "    LinearEstimator(),\n",
    "    LinearEstimator(),\n",
    "    ProjectedLinearEstimator(),\n",
    "    ProjectedLinearEstimator(),\n",
    "]\n",
    "\n",
    "estimation_results_list = []\n",
    "\n",
    "for i, name in enumerate(case_name_list):\n",
    "    qtomography = qtomography_list[i]\n",
    "    estimator = estimator_list[i]\n",
    "    \n",
    "    start = time.time()\n",
    "    print(f\"Case {i}: {name}\")\n",
    "    print(f\"Parametorization: {para_list[i]}\")\n",
    "    print(f\"Type of qtomography: {qtomography.__class__.__name__}\")\n",
    "    print(f\"Estimator: {estimator.__class__.__name__}\")\n",
    "\n",
    "    estimation_results = data_analysis.estimate(\n",
    "       qtomography=qtomography,\n",
    "       true_object=true_object,\n",
    "       num_data=num_data,\n",
    "       estimator=estimator,\n",
    "       iteration=n_rep,\n",
    "    )\n",
    "    estimation_results_list.append(estimation_results)\n",
    "    \n",
    "    elapsed_time = time.time() - start\n",
    "    print(\"elapsed_time:{0}\".format(elapsed_time / 60) + \"[min]\\n\")"
   ]
  },
  {
   "cell_type": "code",
   "execution_count": 15,
   "metadata": {},
   "outputs": [
    {
     "name": "stderr",
     "output_type": "stream",
     "text": [
      "100%|██████████| 100/100 [00:00<00:00, 5369.12it/s]\n",
      "100%|██████████| 100/100 [00:00<00:00, 6490.52it/s]\n",
      "100%|██████████| 100/100 [00:00<00:00, 5027.15it/s]\n",
      "100%|██████████| 100/100 [00:00<00:00, 6802.31it/s]\n",
      "100%|██████████| 100/100 [00:00<00:00, 6992.60it/s]\n",
      "100%|██████████| 100/100 [00:00<00:00, 5142.28it/s]\n",
      "100%|██████████| 100/100 [00:00<00:00, 4165.77it/s]\n",
      "100%|██████████| 100/100 [00:00<00:00, 5112.51it/s]\n",
      "/Users/tomoko/project/rcast/workspace/quara/venv/lib/python3.8/site-packages/numpy/core/_methods.py:216: RuntimeWarning:\n",
      "\n",
      "Degrees of freedom <= 0 for slice\n",
      "\n",
      "/Users/tomoko/project/rcast/workspace/quara/venv/lib/python3.8/site-packages/numpy/core/_methods.py:209: RuntimeWarning:\n",
      "\n",
      "invalid value encountered in double_scalars\n",
      "\n",
      "/Users/tomoko/project/rcast/workspace/quara/quara/objects/state.py:283: ComplexWarning:\n",
      "\n",
      "Casting complex values to real discards the imaginary part\n",
      "\n"
     ]
    },
    {
     "name": "stdout",
     "output_type": "stream",
     "text": [
      "Completed to export pdf. (sample.pdf)\n"
     ]
    }
   ],
   "source": [
    "report.export_report(\"sample.pdf\",\n",
    "    estimation_results_list,\n",
    "    case_name_list,\n",
    "    qtomography_list,\n",
    "    para_list,\n",
    "    estimator_list,\n",
    "    true_object,\n",
    "    tester_objects,\n",
    "    num_data,\n",
    "    n_rep,\n",
    ")"
   ]
  },
  {
   "cell_type": "code",
   "execution_count": null,
   "metadata": {},
   "outputs": [],
   "source": [
    "all_elapsed_time = time.time() - start_all\n",
    "print(\"all_elapsed_time:{0}\".format(all_elapsed_time / 60) + \"[min]\")"
   ]
  },
  {
   "cell_type": "code",
   "execution_count": null,
   "metadata": {},
   "outputs": [],
   "source": []
  }
 ],
 "metadata": {
  "hide_input": false,
  "kernelspec": {
   "display_name": "quara_venv",
   "language": "python",
   "name": "quara_venv"
  },
  "language_info": {
   "codemirror_mode": {
    "name": "ipython",
    "version": 3
   },
   "file_extension": ".py",
   "mimetype": "text/x-python",
   "name": "python",
   "nbconvert_exporter": "python",
   "pygments_lexer": "ipython3",
   "version": "3.8.0"
  },
  "toc": {
   "base_numbering": 1,
   "nav_menu": {},
   "number_sections": true,
   "sideBar": true,
   "skip_h1_title": false,
   "title_cell": "Table of Contents",
   "title_sidebar": "Contents",
   "toc_cell": false,
   "toc_position": {},
   "toc_section_display": true,
   "toc_window_display": false
  },
  "varInspector": {
   "cols": {
    "lenName": 16,
    "lenType": 16,
    "lenVar": 40
   },
   "kernels_config": {
    "python": {
     "delete_cmd_postfix": "",
     "delete_cmd_prefix": "del ",
     "library": "var_list.py",
     "varRefreshCmd": "print(var_dic_list())"
    },
    "r": {
     "delete_cmd_postfix": ") ",
     "delete_cmd_prefix": "rm(",
     "library": "var_list.r",
     "varRefreshCmd": "cat(var_dic_list()) "
    }
   },
   "types_to_exclude": [
    "module",
    "function",
    "builtin_function_or_method",
    "instance",
    "_Feature"
   ],
   "window_display": false
  }
 },
 "nbformat": 4,
 "nbformat_minor": 4
}
