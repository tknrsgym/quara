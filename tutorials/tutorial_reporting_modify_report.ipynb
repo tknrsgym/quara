{
 "cells": [
  {
   "cell_type": "code",
   "execution_count": 1,
   "metadata": {},
   "outputs": [],
   "source": [
    "# State"
   ]
  },
  {
   "cell_type": "code",
   "execution_count": 2,
   "metadata": {},
   "outputs": [],
   "source": [
    "import pickle\n",
    "import time\n",
    "from typing import List\n",
    "import datetime as dt\n",
    "from pathlib import Path\n",
    "\n",
    "import numpy as np\n",
    "import pandas as pd\n",
    "import plotly.graph_objects as go\n",
    "import plotly.express as px\n",
    "\n",
    "from tqdm import tqdm\n",
    "\n",
    "from quara.data_analysis import data_analysis, physicality_violation_check, report\n",
    "from quara.objects.composite_system import CompositeSystem\n",
    "from quara.objects.elemental_system import ElementalSystem\n",
    "from quara.objects.matrix_basis import get_normalized_pauli_basis\n",
    "from quara.objects.povm import (\n",
    "    Povm,\n",
    "    get_x_measurement,\n",
    "    get_y_measurement,\n",
    "    get_z_measurement,\n",
    ")\n",
    "from quara.objects.qoperation import QOperation\n",
    "from quara.objects.state import State, get_z0_1q, get_z1_1q, get_x0_1q\n",
    "from quara.protocol.qtomography.standard.standard_qst import StandardQst\n",
    "from quara.protocol.qtomography.standard.linear_estimator import LinearEstimator\n",
    "from quara.protocol.qtomography.standard.projected_linear_estimator import (\n",
    "    ProjectedLinearEstimator,\n",
    ")"
   ]
  },
  {
   "cell_type": "code",
   "execution_count": 3,
   "metadata": {},
   "outputs": [],
   "source": [
    "%load_ext autoreload\n",
    "%autoreload 2"
   ]
  },
  {
   "cell_type": "code",
   "execution_count": 4,
   "metadata": {},
   "outputs": [],
   "source": [
    "start_all = time.time()"
   ]
  },
  {
   "cell_type": "code",
   "execution_count": 5,
   "metadata": {},
   "outputs": [],
   "source": [
    "# setup system\n",
    "e_sys = ElementalSystem(0, get_normalized_pauli_basis())\n",
    "c_sys = CompositeSystem([e_sys])\n",
    "\n",
    "povm_x = get_x_measurement(c_sys)\n",
    "povm_y = get_y_measurement(c_sys)\n",
    "povm_z = get_z_measurement(c_sys)\n",
    "tester_objects = [povm_x, povm_y, povm_z]"
   ]
  },
  {
   "cell_type": "code",
   "execution_count": 13,
   "metadata": {},
   "outputs": [],
   "source": [
    "# Case 1:\n",
    "# true_object = get_z0_1q(c_sys)\n",
    "# true_object.vec\n",
    "\n",
    "# Case 2:\n",
    "# vec = np.array([1/np.sqrt(2), 1/np.sqrt(6), 1/np.sqrt(6), 1/np.sqrt(6)],dtype=np.float64)\n",
    "# true_object = State(c_sys, vec)\n",
    "\n",
    "# Case 3:\n",
    "vec = np.array([1 / np.sqrt(2), 0, 0, 0], dtype=np.float64)\n",
    "true_object = State(c_sys, vec)"
   ]
  },
  {
   "cell_type": "code",
   "execution_count": 11,
   "metadata": {},
   "outputs": [
    {
     "name": "stderr",
     "output_type": "stream",
     "text": [
      "\r",
      "  0%|          | 0/100 [00:00<?, ?it/s]"
     ]
    },
    {
     "name": "stdout",
     "output_type": "stream",
     "text": [
      "Case 0: LinearEstimator(True)\n",
      "Parametorization: True\n",
      "Type of qtomography: StandardQst\n",
      "Estimator: LinearEstimator\n"
     ]
    },
    {
     "name": "stderr",
     "output_type": "stream",
     "text": [
      "100%|██████████| 100/100 [00:09<00:00, 10.01it/s]\n",
      "  1%|          | 1/100 [00:00<00:10,  9.18it/s]"
     ]
    },
    {
     "name": "stdout",
     "output_type": "stream",
     "text": [
      "elapsed_time:0.1666849652926127[min]\n",
      "\n",
      "Case 1: LinearEstimator(False)\n",
      "Parametorization: False\n",
      "Type of qtomography: StandardQst\n",
      "Estimator: LinearEstimator\n"
     ]
    },
    {
     "name": "stderr",
     "output_type": "stream",
     "text": [
      "100%|██████████| 100/100 [00:10<00:00, 10.00it/s]\n",
      "  0%|          | 0/100 [00:00<?, ?it/s]/Users/tomoko/project/rcast/workspace/quara/quara/objects/state.py:283: ComplexWarning:\n",
      "\n",
      "Casting complex values to real discards the imaginary part\n",
      "\n",
      "  1%|          | 1/100 [00:00<00:15,  6.60it/s]"
     ]
    },
    {
     "name": "stdout",
     "output_type": "stream",
     "text": [
      "elapsed_time:0.1668148676554362[min]\n",
      "\n",
      "Case 2: ProjectedLinearEstimator(True)\n",
      "Parametorization: True\n",
      "Type of qtomography: StandardQst\n",
      "Estimator: ProjectedLinearEstimator\n"
     ]
    },
    {
     "name": "stderr",
     "output_type": "stream",
     "text": [
      "100%|██████████| 100/100 [00:13<00:00,  7.38it/s]\n",
      "  1%|          | 1/100 [00:00<00:14,  7.07it/s]"
     ]
    },
    {
     "name": "stdout",
     "output_type": "stream",
     "text": [
      "elapsed_time:0.22587915261586508[min]\n",
      "\n",
      "Case 3: ProjectedLinearEstimator(False)\n",
      "Parametorization: False\n",
      "Type of qtomography: StandardQst\n",
      "Estimator: ProjectedLinearEstimator\n"
     ]
    },
    {
     "name": "stderr",
     "output_type": "stream",
     "text": [
      "100%|██████████| 100/100 [00:13<00:00,  7.39it/s]"
     ]
    },
    {
     "name": "stdout",
     "output_type": "stream",
     "text": [
      "elapsed_time:0.22597064971923828[min]\n",
      "\n"
     ]
    },
    {
     "name": "stderr",
     "output_type": "stream",
     "text": [
      "\n"
     ]
    }
   ],
   "source": [
    "num_data = [100, 1000, 10000]\n",
    "n_rep = 100\n",
    "\n",
    "case_name_list = [\n",
    "    \"LinearEstimator(True)\",\n",
    "    \"LinearEstimator(False)\",\n",
    "    \"ProjectedLinearEstimator(True)\",\n",
    "    \"ProjectedLinearEstimator(False)\",\n",
    "]\n",
    "\n",
    "seed = 777\n",
    "qtomography_list = [\n",
    "    StandardQst(tester_objects, on_para_eq_constraint=True, seed=seed),\n",
    "    StandardQst(tester_objects, on_para_eq_constraint=False, seed=seed),\n",
    "    StandardQst(tester_objects, on_para_eq_constraint=True, seed=seed),\n",
    "    StandardQst(tester_objects, on_para_eq_constraint=False, seed=seed),\n",
    "]\n",
    "para_list = [True, False, True, False]\n",
    "\n",
    "estimator_list = [\n",
    "    LinearEstimator(),\n",
    "    LinearEstimator(),\n",
    "    ProjectedLinearEstimator(),\n",
    "    ProjectedLinearEstimator(),\n",
    "]\n",
    "\n",
    "estimation_results_list = []\n",
    "\n",
    "for i, name in enumerate(case_name_list):\n",
    "    qtomography = qtomography_list[i]\n",
    "    estimator = estimator_list[i]\n",
    "    \n",
    "    start = time.time()\n",
    "    print(f\"Case {i}: {name}\")\n",
    "    print(f\"Parametorization: {para_list[i]}\")\n",
    "    print(f\"Type of qtomography: {qtomography.__class__.__name__}\")\n",
    "    print(f\"Estimator: {estimator.__class__.__name__}\")\n",
    "\n",
    "    estimation_results = data_analysis.estimate(\n",
    "       qtomography=qtomography,\n",
    "       true_object=true_object,\n",
    "       num_data=num_data,\n",
    "       estimator=estimator,\n",
    "       iteration=n_rep,\n",
    "    )\n",
    "    estimation_results_list.append(estimation_results)\n",
    "    \n",
    "    elapsed_time = time.time() - start\n",
    "    print(\"elapsed_time:{0}\".format(elapsed_time / 60) + \"[min]\\n\")"
   ]
  },
  {
   "cell_type": "code",
   "execution_count": 12,
   "metadata": {},
   "outputs": [
    {
     "name": "stderr",
     "output_type": "stream",
     "text": [
      "100%|██████████| 100/100 [00:00<00:00, 8834.76it/s]\n",
      "100%|██████████| 100/100 [00:00<00:00, 8044.31it/s]\n",
      "100%|██████████| 100/100 [00:00<00:00, 8101.96it/s]\n",
      "100%|██████████| 100/100 [00:00<00:00, 6309.98it/s]\n",
      "100%|██████████| 100/100 [00:00<00:00, 5271.15it/s]\n",
      "100%|██████████| 100/100 [00:00<00:00, 1749.14it/s]\n",
      "100%|██████████| 100/100 [00:00<00:00, 1476.75it/s]\n",
      "100%|██████████| 100/100 [00:00<00:00, 4847.06it/s]\n",
      "100%|██████████| 100/100 [00:00<00:00, 4728.75it/s]\n",
      "100%|██████████| 100/100 [00:00<00:00, 1359.41it/s]\n",
      "100%|██████████| 100/100 [00:00<00:00, 4361.12it/s]\n",
      "100%|██████████| 100/100 [00:00<00:00, 4847.56it/s]\n",
      "100%|██████████| 100/100 [00:00<00:00, 6529.01it/s]\n",
      "100%|██████████| 100/100 [00:00<00:00, 36711.63it/s]\n",
      "100%|██████████| 100/100 [00:00<00:00, 64857.03it/s]\n"
     ]
    },
    {
     "name": "stdout",
     "output_type": "stream",
     "text": [
      "calc_mse_prob_dists: 0.01065637918734454\n",
      "calc_mse_prob_dists: 0.0011260169667668836\n",
      "calc_mse_prob_dists: 8.372444444782063e-05\n"
     ]
    },
    {
     "name": "stderr",
     "output_type": "stream",
     "text": [
      "/Users/tomoko/project/rcast/workspace/quara/venv/lib/python3.8/site-packages/numpy/core/_methods.py:216: RuntimeWarning:\n",
      "\n",
      "Degrees of freedom <= 0 for slice\n",
      "\n",
      "/Users/tomoko/project/rcast/workspace/quara/venv/lib/python3.8/site-packages/numpy/core/_methods.py:209: RuntimeWarning:\n",
      "\n",
      "invalid value encountered in double_scalars\n",
      "\n",
      "/Users/tomoko/project/rcast/workspace/quara/quara/objects/state.py:283: ComplexWarning:\n",
      "\n",
      "Casting complex values to real discards the imaginary part\n",
      "\n"
     ]
    },
    {
     "name": "stdout",
     "output_type": "stream",
     "text": [
      "Completed to export pdf. (sample_modified_empi_dists_mse_case02_全部の軸から一番離れた表面.pdf)\n"
     ]
    }
   ],
   "source": [
    "report.export_report(\"sample_modified_empi_dists_mse_case02_全部の軸から一番離れた表面.pdf\",\n",
    "    estimation_results_list,\n",
    "    case_name_list,\n",
    "    qtomography_list,\n",
    "    para_list,\n",
    "    estimator_list,\n",
    "    true_object,\n",
    "    tester_objects,\n",
    "    num_data,\n",
    "    n_rep,\n",
    "    seed=seed,\n",
    ")"
   ]
  },
  {
   "cell_type": "markdown",
   "metadata": {},
   "source": [
    "# Debug"
   ]
  },
  {
   "cell_type": "code",
   "execution_count": 128,
   "metadata": {},
   "outputs": [
    {
     "name": "stderr",
     "output_type": "stream",
     "text": [
      "  4%|▍         | 4/100 [00:00<00:02, 33.57it/s]"
     ]
    },
    {
     "name": "stdout",
     "output_type": "stream",
     "text": [
      "Case 0: seed=100\n",
      "Parametorization: True\n",
      "Type of qtomography: StandardQst\n",
      "Estimator: LinearEstimator\n",
      "_estimate: [[(100, array([0.56, 0.44])), (100, array([0.45, 0.55])), (100, array([1., 0.]))], [(1000, array([0.505, 0.495])), (1000, array([0.499, 0.501])), (1000, array([1., 0.]))]]\n",
      "_estimate: [[(100, array([0.49, 0.51])), (100, array([0.45, 0.55])), (100, array([1., 0.]))], [(1000, array([0.521, 0.479])), (1000, array([0.499, 0.501])), (1000, array([1., 0.]))]]\n",
      "_estimate: [[(100, array([0.55, 0.45])), (100, array([0.46, 0.54])), (100, array([1., 0.]))], [(1000, array([0.516, 0.484])), (1000, array([0.485, 0.515])), (1000, array([1., 0.]))]]\n",
      "_estimate: [[(100, array([0.49, 0.51])), (100, array([0.52, 0.48])), (100, array([1., 0.]))], [(1000, array([0.471, 0.529])), (1000, array([0.514, 0.486])), (1000, array([1., 0.]))]]\n",
      "_estimate: [[(100, array([0.45, 0.55])), (100, array([0.54, 0.46])), (100, array([1., 0.]))], [(1000, array([0.485, 0.515])), (1000, array([0.486, 0.514])), (1000, array([1., 0.]))]]\n",
      "_estimate: [[(100, array([0.47, 0.53])), (100, array([0.51, 0.49])), (100, array([1., 0.]))], [(1000, array([0.486, 0.514])), (1000, array([0.498, 0.502])), (1000, array([1., 0.]))]]\n",
      "_estimate: [[(100, array([0.56, 0.44])), (100, array([0.55, 0.45])), (100, array([1., 0.]))], [(1000, array([0.499, 0.501])), (1000, array([0.489, 0.511])), (1000, array([1., 0.]))]]\n",
      "_estimate: [[(100, array([0.46, 0.54])), (100, array([0.43, 0.57])), (100, array([1., 0.]))], [(1000, array([0.49, 0.51])), (1000, array([0.504, 0.496])), (1000, array([1., 0.]))]]\n"
     ]
    },
    {
     "name": "stderr",
     "output_type": "stream",
     "text": [
      " 16%|█▌        | 16/100 [00:00<00:01, 42.45it/s]"
     ]
    },
    {
     "name": "stdout",
     "output_type": "stream",
     "text": [
      "_estimate: [[(100, array([0.51, 0.49])), (100, array([0.54, 0.46])), (100, array([1., 0.]))], [(1000, array([0.522, 0.478])), (1000, array([0.509, 0.491])), (1000, array([1., 0.]))]]\n",
      "_estimate: [[(100, array([0.49, 0.51])), (100, array([0.66, 0.34])), (100, array([1., 0.]))], [(1000, array([0.506, 0.494])), (1000, array([0.506, 0.494])), (1000, array([1., 0.]))]]\n",
      "_estimate: [[(100, array([0.5, 0.5])), (100, array([0.5, 0.5])), (100, array([1., 0.]))], [(1000, array([0.502, 0.498])), (1000, array([0.494, 0.506])), (1000, array([1., 0.]))]]\n",
      "_estimate: [[(100, array([0.49, 0.51])), (100, array([0.59, 0.41])), (100, array([1., 0.]))], [(1000, array([0.537, 0.463])), (1000, array([0.526, 0.474])), (1000, array([1., 0.]))]]\n",
      "_estimate: [[(100, array([0.53, 0.47])), (100, array([0.51, 0.49])), (100, array([1., 0.]))], [(1000, array([0.519, 0.481])), (1000, array([0.479, 0.521])), (1000, array([1., 0.]))]]\n",
      "_estimate: [[(100, array([0.51, 0.49])), (100, array([0.54, 0.46])), (100, array([1., 0.]))], [(1000, array([0.497, 0.503])), (1000, array([0.502, 0.498])), (1000, array([1., 0.]))]]\n",
      "_estimate: [[(100, array([0.51, 0.49])), (100, array([0.48, 0.52])), (100, array([1., 0.]))], [(1000, array([0.489, 0.511])), (1000, array([0.511, 0.489])), (1000, array([1., 0.]))]]\n",
      "_estimate: [[(100, array([0.53, 0.47])), (100, array([0.53, 0.47])), (100, array([1., 0.]))], [(1000, array([0.48, 0.52])), (1000, array([0.48, 0.52])), (1000, array([1., 0.]))]]\n",
      "_estimate: [[(100, array([0.49, 0.51])), (100, array([0.44, 0.56])), (100, array([1., 0.]))], [(1000, array([0.514, 0.486])), (1000, array([0.456, 0.544])), (1000, array([1., 0.]))]]\n",
      "_estimate: [[(100, array([0.49, 0.51])), (100, array([0.47, 0.53])), (100, array([1., 0.]))], [(1000, array([0.487, 0.513])), (1000, array([0.471, 0.529])), (1000, array([1., 0.]))]]\n",
      "_estimate: [[(100, array([0.47, 0.53])), (100, array([0.5, 0.5])), (100, array([1., 0.]))], [(1000, array([0.49, 0.51])), (1000, array([0.51, 0.49])), (1000, array([1., 0.]))]]\n",
      "_estimate: [[(100, array([0.49, 0.51])), (100, array([0.49, 0.51])), (100, array([1., 0.]))], [(1000, array([0.486, 0.514])), (1000, array([0.488, 0.512])), (1000, array([1., 0.]))]]\n",
      "_estimate: [[(100, array([0.53, 0.47])), (100, array([0.42, 0.58])), (100, array([1., 0.]))], [(1000, array([0.506, 0.494])), (1000, array([0.49, 0.51])), (1000, array([1., 0.]))]]\n",
      "_estimate: [[(100, array([0.46, 0.54])), (100, array([0.48, 0.52])), (100, array([1., 0.]))], [(1000, array([0.507, 0.493])), (1000, array([0.497, 0.503])), (1000, array([1., 0.]))]]\n"
     ]
    },
    {
     "name": "stderr",
     "output_type": "stream",
     "text": [
      " 28%|██▊       | 28/100 [00:00<00:01, 46.69it/s]"
     ]
    },
    {
     "name": "stdout",
     "output_type": "stream",
     "text": [
      "_estimate: [[(100, array([0.5, 0.5])), (100, array([0.43, 0.57])), (100, array([1., 0.]))], [(1000, array([0.5, 0.5])), (1000, array([0.461, 0.539])), (1000, array([1., 0.]))]]\n",
      "_estimate: [[(100, array([0.46, 0.54])), (100, array([0.48, 0.52])), (100, array([1., 0.]))], [(1000, array([0.485, 0.515])), (1000, array([0.484, 0.516])), (1000, array([1., 0.]))]]\n",
      "_estimate: [[(100, array([0.47, 0.53])), (100, array([0.43, 0.57])), (100, array([1., 0.]))], [(1000, array([0.453, 0.547])), (1000, array([0.526, 0.474])), (1000, array([1., 0.]))]]\n",
      "_estimate: [[(100, array([0.44, 0.56])), (100, array([0.49, 0.51])), (100, array([1., 0.]))], [(1000, array([0.483, 0.517])), (1000, array([0.505, 0.495])), (1000, array([1., 0.]))]]\n",
      "_estimate: [[(100, array([0.43, 0.57])), (100, array([0.52, 0.48])), (100, array([1., 0.]))], [(1000, array([0.498, 0.502])), (1000, array([0.493, 0.507])), (1000, array([1., 0.]))]]\n",
      "_estimate: [[(100, array([0.46, 0.54])), (100, array([0.55, 0.45])), (100, array([1., 0.]))], [(1000, array([0.51, 0.49])), (1000, array([0.516, 0.484])), (1000, array([1., 0.]))]]\n",
      "_estimate: [[(100, array([0.5, 0.5])), (100, array([0.46, 0.54])), (100, array([1., 0.]))], [(1000, array([0.482, 0.518])), (1000, array([0.518, 0.482])), (1000, array([1., 0.]))]]\n",
      "_estimate: [[(100, array([0.55, 0.45])), (100, array([0.51, 0.49])), (100, array([1., 0.]))], [(1000, array([0.501, 0.499])), (1000, array([0.489, 0.511])), (1000, array([1., 0.]))]]\n",
      "_estimate: [[(100, array([0.43, 0.57])), (100, array([0.43, 0.57])), (100, array([1., 0.]))], [(1000, array([0.48, 0.52])), (1000, array([0.474, 0.526])), (1000, array([1., 0.]))]]\n",
      "_estimate: [[(100, array([0.51, 0.49])), (100, array([0.46, 0.54])), (100, array([1., 0.]))], [(1000, array([0.476, 0.524])), (1000, array([0.473, 0.527])), (1000, array([1., 0.]))]]\n"
     ]
    },
    {
     "name": "stderr",
     "output_type": "stream",
     "text": [
      " 40%|████      | 40/100 [00:00<00:01, 50.64it/s]"
     ]
    },
    {
     "name": "stdout",
     "output_type": "stream",
     "text": [
      "_estimate: [[(100, array([0.52, 0.48])), (100, array([0.5, 0.5])), (100, array([1., 0.]))], [(1000, array([0.488, 0.512])), (1000, array([0.513, 0.487])), (1000, array([1., 0.]))]]\n",
      "_estimate: [[(100, array([0.56, 0.44])), (100, array([0.47, 0.53])), (100, array([1., 0.]))], [(1000, array([0.505, 0.495])), (1000, array([0.5, 0.5])), (1000, array([1., 0.]))]]\n",
      "_estimate: [[(100, array([0.54, 0.46])), (100, array([0.57, 0.43])), (100, array([1., 0.]))], [(1000, array([0.495, 0.505])), (1000, array([0.521, 0.479])), (1000, array([1., 0.]))]]\n",
      "_estimate: [[(100, array([0.54, 0.46])), (100, array([0.44, 0.56])), (100, array([1., 0.]))], [(1000, array([0.501, 0.499])), (1000, array([0.493, 0.507])), (1000, array([1., 0.]))]]\n",
      "_estimate: [[(100, array([0.42, 0.58])), (100, array([0.56, 0.44])), (100, array([1., 0.]))], [(1000, array([0.469, 0.531])), (1000, array([0.505, 0.495])), (1000, array([1., 0.]))]]\n",
      "_estimate: [[(100, array([0.5, 0.5])), (100, array([0.47, 0.53])), (100, array([1., 0.]))], [(1000, array([0.481, 0.519])), (1000, array([0.49, 0.51])), (1000, array([1., 0.]))]]\n",
      "_estimate: [[(100, array([0.52, 0.48])), (100, array([0.52, 0.48])), (100, array([1., 0.]))], [(1000, array([0.522, 0.478])), (1000, array([0.459, 0.541])), (1000, array([1., 0.]))]]\n",
      "_estimate: [[(100, array([0.52, 0.48])), (100, array([0.55, 0.45])), (100, array([1., 0.]))], [(1000, array([0.49, 0.51])), (1000, array([0.512, 0.488])), (1000, array([1., 0.]))]]\n",
      "_estimate: [[(100, array([0.63, 0.37])), (100, array([0.4, 0.6])), (100, array([1., 0.]))], [(1000, array([0.549, 0.451])), (1000, array([0.473, 0.527])), (1000, array([1., 0.]))]]\n",
      "_estimate: [[(100, array([0.42, 0.58])), (100, array([0.51, 0.49])), (100, array([1., 0.]))], [(1000, array([0.473, 0.527])), (1000, array([0.486, 0.514])), (1000, array([1., 0.]))]]\n",
      "_estimate: [[(100, array([0.48, 0.52])), (100, array([0.45, 0.55])), (100, array([1., 0.]))], [(1000, array([0.5, 0.5])), (1000, array([0.5, 0.5])), (1000, array([1., 0.]))]]\n",
      "_estimate: [[(100, array([0.52, 0.48])), (100, array([0.44, 0.56])), (100, array([1., 0.]))], [(1000, array([0.48, 0.52])), (1000, array([0.483, 0.517])), (1000, array([1., 0.]))]]\n",
      "_estimate: [[(100, array([0.47, 0.53])), (100, array([0.53, 0.47])), (100, array([1., 0.]))], [(1000, array([0.468, 0.532])), (1000, array([0.525, 0.475])), (1000, array([1., 0.]))]]\n"
     ]
    },
    {
     "name": "stderr",
     "output_type": "stream",
     "text": [
      " 53%|█████▎    | 53/100 [00:00<00:00, 53.62it/s]"
     ]
    },
    {
     "name": "stdout",
     "output_type": "stream",
     "text": [
      "_estimate: [[(100, array([0.49, 0.51])), (100, array([0.5, 0.5])), (100, array([1., 0.]))], [(1000, array([0.5, 0.5])), (1000, array([0.496, 0.504])), (1000, array([1., 0.]))]]\n",
      "_estimate: [[(100, array([0.54, 0.46])), (100, array([0.47, 0.53])), (100, array([1., 0.]))], [(1000, array([0.504, 0.496])), (1000, array([0.498, 0.502])), (1000, array([1., 0.]))]]\n",
      "_estimate: [[(100, array([0.47, 0.53])), (100, array([0.56, 0.44])), (100, array([1., 0.]))], [(1000, array([0.511, 0.489])), (1000, array([0.49, 0.51])), (1000, array([1., 0.]))]]\n",
      "_estimate: [[(100, array([0.59, 0.41])), (100, array([0.32, 0.68])), (100, array([1., 0.]))], [(1000, array([0.502, 0.498])), (1000, array([0.47, 0.53])), (1000, array([1., 0.]))]]\n",
      "_estimate: [[(100, array([0.58, 0.42])), (100, array([0.46, 0.54])), (100, array([1., 0.]))], [(1000, array([0.483, 0.517])), (1000, array([0.482, 0.518])), (1000, array([1., 0.]))]]\n",
      "_estimate: [[(100, array([0.55, 0.45])), (100, array([0.51, 0.49])), (100, array([1., 0.]))], [(1000, array([0.497, 0.503])), (1000, array([0.505, 0.495])), (1000, array([1., 0.]))]]\n",
      "_estimate: [[(100, array([0.51, 0.49])), (100, array([0.6, 0.4])), (100, array([1., 0.]))], [(1000, array([0.492, 0.508])), (1000, array([0.531, 0.469])), (1000, array([1., 0.]))]]\n",
      "_estimate: [[(100, array([0.44, 0.56])), (100, array([0.48, 0.52])), (100, array([1., 0.]))], [(1000, array([0.492, 0.508])), (1000, array([0.509, 0.491])), (1000, array([1., 0.]))]]\n",
      "_estimate: [[(100, array([0.37, 0.63])), (100, array([0.46, 0.54])), (100, array([1., 0.]))], [(1000, array([0.487, 0.513])), (1000, array([0.457, 0.543])), (1000, array([1., 0.]))]]\n",
      "_estimate: [[(100, array([0.53, 0.47])), (100, array([0.52, 0.48])), (100, array([1., 0.]))], [(1000, array([0.471, 0.529])), (1000, array([0.476, 0.524])), (1000, array([1., 0.]))]]\n",
      "_estimate: [[(100, array([0.44, 0.56])), (100, array([0.53, 0.47])), (100, array([1., 0.]))], [(1000, array([0.493, 0.507])), (1000, array([0.527, 0.473])), (1000, array([1., 0.]))]]\n"
     ]
    },
    {
     "name": "stderr",
     "output_type": "stream",
     "text": [
      " 65%|██████▌   | 65/100 [00:01<00:00, 52.96it/s]"
     ]
    },
    {
     "name": "stdout",
     "output_type": "stream",
     "text": [
      "_estimate: [[(100, array([0.45, 0.55])), (100, array([0.5, 0.5])), (100, array([1., 0.]))], [(1000, array([0.496, 0.504])), (1000, array([0.484, 0.516])), (1000, array([1., 0.]))]]\n",
      "_estimate: [[(100, array([0.49, 0.51])), (100, array([0.48, 0.52])), (100, array([1., 0.]))], [(1000, array([0.495, 0.505])), (1000, array([0.484, 0.516])), (1000, array([1., 0.]))]]\n",
      "_estimate: [[(100, array([0.51, 0.49])), (100, array([0.45, 0.55])), (100, array([1., 0.]))], [(1000, array([0.498, 0.502])), (1000, array([0.486, 0.514])), (1000, array([1., 0.]))]]\n",
      "_estimate: [[(100, array([0.42, 0.58])), (100, array([0.49, 0.51])), (100, array([1., 0.]))], [(1000, array([0.481, 0.519])), (1000, array([0.508, 0.492])), (1000, array([1., 0.]))]]\n",
      "_estimate: [[(100, array([0.52, 0.48])), (100, array([0.45, 0.55])), (100, array([1., 0.]))], [(1000, array([0.475, 0.525])), (1000, array([0.513, 0.487])), (1000, array([1., 0.]))]]\n",
      "_estimate: [[(100, array([0.38, 0.62])), (100, array([0.41, 0.59])), (100, array([1., 0.]))], [(1000, array([0.48, 0.52])), (1000, array([0.499, 0.501])), (1000, array([1., 0.]))]]\n",
      "_estimate: [[(100, array([0.51, 0.49])), (100, array([0.47, 0.53])), (100, array([1., 0.]))], [(1000, array([0.51, 0.49])), (1000, array([0.477, 0.523])), (1000, array([1., 0.]))]]\n",
      "_estimate: [[(100, array([0.46, 0.54])), (100, array([0.47, 0.53])), (100, array([1., 0.]))], [(1000, array([0.494, 0.506])), (1000, array([0.505, 0.495])), (1000, array([1., 0.]))]]\n",
      "_estimate: [[(100, array([0.45, 0.55])), (100, array([0.51, 0.49])), (100, array([1., 0.]))], [(1000, array([0.527, 0.473])), (1000, array([0.501, 0.499])), (1000, array([1., 0.]))]]\n",
      "_estimate: [[(100, array([0.49, 0.51])), (100, array([0.5, 0.5])), (100, array([1., 0.]))], [(1000, array([0.48, 0.52])), (1000, array([0.505, 0.495])), (1000, array([1., 0.]))]]\n",
      "_estimate: [[(100, array([0.53, 0.47])), (100, array([0.47, 0.53])), (100, array([1., 0.]))], [(1000, array([0.498, 0.502])), (1000, array([0.482, 0.518])), (1000, array([1., 0.]))]]\n",
      "_estimate: [[(100, array([0.52, 0.48])), (100, array([0.5, 0.5])), (100, array([1., 0.]))], [(1000, array([0.508, 0.492])), (1000, array([0.504, 0.496])), (1000, array([1., 0.]))]]\n"
     ]
    },
    {
     "name": "stderr",
     "output_type": "stream",
     "text": [
      " 79%|███████▉  | 79/100 [00:01<00:00, 58.35it/s]"
     ]
    },
    {
     "name": "stdout",
     "output_type": "stream",
     "text": [
      "_estimate: [[(100, array([0.54, 0.46])), (100, array([0.44, 0.56])), (100, array([1., 0.]))], [(1000, array([0.512, 0.488])), (1000, array([0.478, 0.522])), (1000, array([1., 0.]))]]\n",
      "_estimate: [[(100, array([0.51, 0.49])), (100, array([0.55, 0.45])), (100, array([1., 0.]))], [(1000, array([0.498, 0.502])), (1000, array([0.508, 0.492])), (1000, array([1., 0.]))]]\n",
      "_estimate: [[(100, array([0.54, 0.46])), (100, array([0.48, 0.52])), (100, array([1., 0.]))], [(1000, array([0.486, 0.514])), (1000, array([0.495, 0.505])), (1000, array([1., 0.]))]]\n",
      "_estimate: [[(100, array([0.49, 0.51])), (100, array([0.41, 0.59])), (100, array([1., 0.]))], [(1000, array([0.466, 0.534])), (1000, array([0.488, 0.512])), (1000, array([1., 0.]))]]\n",
      "_estimate: [[(100, array([0.54, 0.46])), (100, array([0.44, 0.56])), (100, array([1., 0.]))], [(1000, array([0.494, 0.506])), (1000, array([0.489, 0.511])), (1000, array([1., 0.]))]]\n",
      "_estimate: [[(100, array([0.55, 0.45])), (100, array([0.47, 0.53])), (100, array([1., 0.]))], [(1000, array([0.492, 0.508])), (1000, array([0.504, 0.496])), (1000, array([1., 0.]))]]\n",
      "_estimate: [[(100, array([0.51, 0.49])), (100, array([0.46, 0.54])), (100, array([1., 0.]))], [(1000, array([0.495, 0.505])), (1000, array([0.533, 0.467])), (1000, array([1., 0.]))]]\n",
      "_estimate: [[(100, array([0.49, 0.51])), (100, array([0.52, 0.48])), (100, array([1., 0.]))], [(1000, array([0.493, 0.507])), (1000, array([0.494, 0.506])), (1000, array([1., 0.]))]]\n",
      "_estimate: [[(100, array([0.51, 0.49])), (100, array([0.44, 0.56])), (100, array([1., 0.]))], [(1000, array([0.504, 0.496])), (1000, array([0.503, 0.497])), (1000, array([1., 0.]))]]\n",
      "_estimate: [[(100, array([0.51, 0.49])), (100, array([0.5, 0.5])), (100, array([1., 0.]))], [(1000, array([0.491, 0.509])), (1000, array([0.505, 0.495])), (1000, array([1., 0.]))]]\n",
      "_estimate: [[(100, array([0.57, 0.43])), (100, array([0.51, 0.49])), (100, array([1., 0.]))], [(1000, array([0.525, 0.475])), (1000, array([0.503, 0.497])), (1000, array([1., 0.]))]]\n",
      "_estimate: [[(100, array([0.44, 0.56])), (100, array([0.52, 0.48])), (100, array([1., 0.]))], [(1000, array([0.511, 0.489])), (1000, array([0.507, 0.493])), (1000, array([1., 0.]))]]\n",
      "_estimate: [[(100, array([0.47, 0.53])), (100, array([0.49, 0.51])), (100, array([1., 0.]))], [(1000, array([0.5, 0.5])), (1000, array([0.475, 0.525])), (1000, array([1., 0.]))]]\n",
      "_estimate: [[(100, array([0.56, 0.44])), (100, array([0.52, 0.48])), (100, array([1., 0.]))], [(1000, array([0.457, 0.543])), (1000, array([0.529, 0.471])), (1000, array([1., 0.]))]]\n"
     ]
    },
    {
     "name": "stderr",
     "output_type": "stream",
     "text": [
      " 93%|█████████▎| 93/100 [00:01<00:00, 61.21it/s]"
     ]
    },
    {
     "name": "stdout",
     "output_type": "stream",
     "text": [
      "_estimate: [[(100, array([0.5, 0.5])), (100, array([0.52, 0.48])), (100, array([1., 0.]))], [(1000, array([0.495, 0.505])), (1000, array([0.494, 0.506])), (1000, array([1., 0.]))]]\n",
      "_estimate: [[(100, array([0.5, 0.5])), (100, array([0.6, 0.4])), (100, array([1., 0.]))], [(1000, array([0.509, 0.491])), (1000, array([0.492, 0.508])), (1000, array([1., 0.]))]]\n",
      "_estimate: [[(100, array([0.39, 0.61])), (100, array([0.59, 0.41])), (100, array([1., 0.]))], [(1000, array([0.478, 0.522])), (1000, array([0.518, 0.482])), (1000, array([1., 0.]))]]\n",
      "_estimate: [[(100, array([0.49, 0.51])), (100, array([0.41, 0.59])), (100, array([1., 0.]))], [(1000, array([0.514, 0.486])), (1000, array([0.477, 0.523])), (1000, array([1., 0.]))]]\n",
      "_estimate: [[(100, array([0.47, 0.53])), (100, array([0.55, 0.45])), (100, array([1., 0.]))], [(1000, array([0.505, 0.495])), (1000, array([0.501, 0.499])), (1000, array([1., 0.]))]]\n",
      "_estimate: [[(100, array([0.47, 0.53])), (100, array([0.47, 0.53])), (100, array([1., 0.]))], [(1000, array([0.53, 0.47])), (1000, array([0.484, 0.516])), (1000, array([1., 0.]))]]\n",
      "_estimate: [[(100, array([0.56, 0.44])), (100, array([0.51, 0.49])), (100, array([1., 0.]))], [(1000, array([0.509, 0.491])), (1000, array([0.5, 0.5])), (1000, array([1., 0.]))]]\n",
      "_estimate: [[(100, array([0.52, 0.48])), (100, array([0.46, 0.54])), (100, array([1., 0.]))], [(1000, array([0.505, 0.495])), (1000, array([0.48, 0.52])), (1000, array([1., 0.]))]]\n",
      "_estimate: [[(100, array([0.51, 0.49])), (100, array([0.48, 0.52])), (100, array([1., 0.]))], [(1000, array([0.489, 0.511])), (1000, array([0.462, 0.538])), (1000, array([1., 0.]))]]\n",
      "_estimate: [[(100, array([0.56, 0.44])), (100, array([0.52, 0.48])), (100, array([1., 0.]))], [(1000, array([0.508, 0.492])), (1000, array([0.512, 0.488])), (1000, array([1., 0.]))]]\n",
      "_estimate: [[(100, array([0.57, 0.43])), (100, array([0.53, 0.47])), (100, array([1., 0.]))], [(1000, array([0.539, 0.461])), (1000, array([0.503, 0.497])), (1000, array([1., 0.]))]]\n",
      "_estimate: [[(100, array([0.48, 0.52])), (100, array([0.53, 0.47])), (100, array([1., 0.]))], [(1000, array([0.496, 0.504])), (1000, array([0.513, 0.487])), (1000, array([1., 0.]))]]\n",
      "_estimate: [[(100, array([0.43, 0.57])), (100, array([0.46, 0.54])), (100, array([1., 0.]))], [(1000, array([0.482, 0.518])), (1000, array([0.488, 0.512])), (1000, array([1., 0.]))]]\n",
      "_estimate: [[(100, array([0.47, 0.53])), (100, array([0.5, 0.5])), (100, array([1., 0.]))], [(1000, array([0.511, 0.489])), (1000, array([0.495, 0.505])), (1000, array([1., 0.]))]]\n"
     ]
    },
    {
     "name": "stderr",
     "output_type": "stream",
     "text": [
      "100%|██████████| 100/100 [00:01<00:00, 56.22it/s]\n",
      "  7%|▋         | 7/100 [00:00<00:01, 63.55it/s]"
     ]
    },
    {
     "name": "stdout",
     "output_type": "stream",
     "text": [
      "_estimate: [[(100, array([0.5, 0.5])), (100, array([0.45, 0.55])), (100, array([1., 0.]))], [(1000, array([0.518, 0.482])), (1000, array([0.5, 0.5])), (1000, array([1., 0.]))]]\n",
      "_estimate: [[(100, array([0.39, 0.61])), (100, array([0.55, 0.45])), (100, array([1., 0.]))], [(1000, array([0.507, 0.493])), (1000, array([0.521, 0.479])), (1000, array([1., 0.]))]]\n",
      "_estimate: [[(100, array([0.42, 0.58])), (100, array([0.51, 0.49])), (100, array([1., 0.]))], [(1000, array([0.485, 0.515])), (1000, array([0.538, 0.462])), (1000, array([1., 0.]))]]\n",
      "_estimate: [[(100, array([0.46, 0.54])), (100, array([0.61, 0.39])), (100, array([1., 0.]))], [(1000, array([0.491, 0.509])), (1000, array([0.531, 0.469])), (1000, array([1., 0.]))]]\n",
      "elapsed_time:0.029834469159444172[min]\n",
      "\n",
      "Case 1: seed=101\n",
      "Parametorization: True\n",
      "Type of qtomography: StandardQst\n",
      "Estimator: LinearEstimator\n",
      "_estimate: [[(100, array([0.52, 0.48])), (100, array([0.41, 0.59])), (100, array([1., 0.]))], [(1000, array([0.521, 0.479])), (1000, array([0.496, 0.504])), (1000, array([1., 0.]))]]\n",
      "_estimate: [[(100, array([0.58, 0.42])), (100, array([0.48, 0.52])), (100, array([1., 0.]))], [(1000, array([0.501, 0.499])), (1000, array([0.51, 0.49])), (1000, array([1., 0.]))]]\n",
      "_estimate: [[(100, array([0.49, 0.51])), (100, array([0.53, 0.47])), (100, array([1., 0.]))], [(1000, array([0.474, 0.526])), (1000, array([0.497, 0.503])), (1000, array([1., 0.]))]]\n",
      "_estimate: [[(100, array([0.53, 0.47])), (100, array([0.5, 0.5])), (100, array([1., 0.]))], [(1000, array([0.493, 0.507])), (1000, array([0.501, 0.499])), (1000, array([1., 0.]))]]\n",
      "_estimate: [[(100, array([0.55, 0.45])), (100, array([0.55, 0.45])), (100, array([1., 0.]))], [(1000, array([0.504, 0.496])), (1000, array([0.489, 0.511])), (1000, array([1., 0.]))]]\n",
      "_estimate: [[(100, array([0.54, 0.46])), (100, array([0.49, 0.51])), (100, array([1., 0.]))], [(1000, array([0.476, 0.524])), (1000, array([0.514, 0.486])), (1000, array([1., 0.]))]]\n",
      "_estimate: [[(100, array([0.62, 0.38])), (100, array([0.48, 0.52])), (100, array([1., 0.]))], [(1000, array([0.514, 0.486])), (1000, array([0.502, 0.498])), (1000, array([1., 0.]))]]\n",
      "_estimate: [[(100, array([0.61, 0.39])), (100, array([0.5, 0.5])), (100, array([1., 0.]))], [(1000, array([0.525, 0.475])), (1000, array([0.499, 0.501])), (1000, array([1., 0.]))]]\n",
      "_estimate: [[(100, array([0.48, 0.52])), (100, array([0.55, 0.45])), (100, array([1., 0.]))], [(1000, array([0.495, 0.505])), (1000, array([0.508, 0.492])), (1000, array([1., 0.]))]]\n",
      "_estimate: [[(100, array([0.49, 0.51])), (100, array([0.54, 0.46])), (100, array([1., 0.]))], [(1000, array([0.497, 0.503])), (1000, array([0.51, 0.49])), (1000, array([1., 0.]))]]\n",
      "_estimate: [[(100, array([0.49, 0.51])), (100, array([0.52, 0.48])), (100, array([1., 0.]))], [(1000, array([0.51, 0.49])), (1000, array([0.489, 0.511])), (1000, array([1., 0.]))]]\n"
     ]
    },
    {
     "name": "stderr",
     "output_type": "stream",
     "text": [
      " 21%|██        | 21/100 [00:00<00:01, 63.18it/s]"
     ]
    },
    {
     "name": "stdout",
     "output_type": "stream",
     "text": [
      "_estimate: [[(100, array([0.54, 0.46])), (100, array([0.6, 0.4])), (100, array([1., 0.]))], [(1000, array([0.511, 0.489])), (1000, array([0.503, 0.497])), (1000, array([1., 0.]))]]\n",
      "_estimate: [[(100, array([0.54, 0.46])), (100, array([0.49, 0.51])), (100, array([1., 0.]))], [(1000, array([0.523, 0.477])), (1000, array([0.48, 0.52])), (1000, array([1., 0.]))]]\n",
      "_estimate: [[(100, array([0.39, 0.61])), (100, array([0.57, 0.43])), (100, array([1., 0.]))], [(1000, array([0.482, 0.518])), (1000, array([0.509, 0.491])), (1000, array([1., 0.]))]]\n",
      "_estimate: [[(100, array([0.58, 0.42])), (100, array([0.52, 0.48])), (100, array([1., 0.]))], [(1000, array([0.522, 0.478])), (1000, array([0.513, 0.487])), (1000, array([1., 0.]))]]\n",
      "_estimate: [[(100, array([0.51, 0.49])), (100, array([0.51, 0.49])), (100, array([1., 0.]))], [(1000, array([0.479, 0.521])), (1000, array([0.499, 0.501])), (1000, array([1., 0.]))]]\n",
      "_estimate: [[(100, array([0.47, 0.53])), (100, array([0.52, 0.48])), (100, array([1., 0.]))], [(1000, array([0.496, 0.504])), (1000, array([0.511, 0.489])), (1000, array([1., 0.]))]]\n",
      "_estimate: [[(100, array([0.59, 0.41])), (100, array([0.53, 0.47])), (100, array([1., 0.]))], [(1000, array([0.506, 0.494])), (1000, array([0.53, 0.47])), (1000, array([1., 0.]))]]\n",
      "_estimate: [[(100, array([0.48, 0.52])), (100, array([0.56, 0.44])), (100, array([1., 0.]))], [(1000, array([0.508, 0.492])), (1000, array([0.501, 0.499])), (1000, array([1., 0.]))]]\n",
      "_estimate: [[(100, array([0.38, 0.62])), (100, array([0.54, 0.46])), (100, array([1., 0.]))], [(1000, array([0.507, 0.493])), (1000, array([0.499, 0.501])), (1000, array([1., 0.]))]]\n",
      "_estimate: [[(100, array([0.53, 0.47])), (100, array([0.41, 0.59])), (100, array([1., 0.]))], [(1000, array([0.498, 0.502])), (1000, array([0.472, 0.528])), (1000, array([1., 0.]))]]\n",
      "_estimate: [[(100, array([0.52, 0.48])), (100, array([0.52, 0.48])), (100, array([1., 0.]))], [(1000, array([0.498, 0.502])), (1000, array([0.502, 0.498])), (1000, array([1., 0.]))]]\n",
      "_estimate: [[(100, array([0.43, 0.57])), (100, array([0.45, 0.55])), (100, array([1., 0.]))], [(1000, array([0.501, 0.499])), (1000, array([0.515, 0.485])), (1000, array([1., 0.]))]]\n",
      "_estimate: [[(100, array([0.67, 0.33])), (100, array([0.45, 0.55])), (100, array([1., 0.]))], [(1000, array([0.507, 0.493])), (1000, array([0.477, 0.523])), (1000, array([1., 0.]))]]\n"
     ]
    },
    {
     "name": "stderr",
     "output_type": "stream",
     "text": [
      " 35%|███▌      | 35/100 [00:00<00:01, 63.08it/s]"
     ]
    },
    {
     "name": "stdout",
     "output_type": "stream",
     "text": [
      "_estimate: [[(100, array([0.49, 0.51])), (100, array([0.53, 0.47])), (100, array([1., 0.]))], [(1000, array([0.491, 0.509])), (1000, array([0.507, 0.493])), (1000, array([1., 0.]))]]\n",
      "_estimate: [[(100, array([0.55, 0.45])), (100, array([0.56, 0.44])), (100, array([1., 0.]))], [(1000, array([0.518, 0.482])), (1000, array([0.513, 0.487])), (1000, array([1., 0.]))]]\n",
      "_estimate: [[(100, array([0.49, 0.51])), (100, array([0.52, 0.48])), (100, array([1., 0.]))], [(1000, array([0.525, 0.475])), (1000, array([0.501, 0.499])), (1000, array([1., 0.]))]]\n",
      "_estimate: [[(100, array([0.52, 0.48])), (100, array([0.48, 0.52])), (100, array([1., 0.]))], [(1000, array([0.499, 0.501])), (1000, array([0.508, 0.492])), (1000, array([1., 0.]))]]\n",
      "_estimate: [[(100, array([0.49, 0.51])), (100, array([0.55, 0.45])), (100, array([1., 0.]))], [(1000, array([0.535, 0.465])), (1000, array([0.503, 0.497])), (1000, array([1., 0.]))]]\n",
      "_estimate: [[(100, array([0.51, 0.49])), (100, array([0.53, 0.47])), (100, array([1., 0.]))], [(1000, array([0.483, 0.517])), (1000, array([0.491, 0.509])), (1000, array([1., 0.]))]]\n",
      "_estimate: [[(100, array([0.52, 0.48])), (100, array([0.41, 0.59])), (100, array([1., 0.]))], [(1000, array([0.506, 0.494])), (1000, array([0.515, 0.485])), (1000, array([1., 0.]))]]\n",
      "_estimate: [[(100, array([0.45, 0.55])), (100, array([0.41, 0.59])), (100, array([1., 0.]))], [(1000, array([0.502, 0.498])), (1000, array([0.472, 0.528])), (1000, array([1., 0.]))]]\n",
      "_estimate: [[(100, array([0.49, 0.51])), (100, array([0.46, 0.54])), (100, array([1., 0.]))], [(1000, array([0.51, 0.49])), (1000, array([0.499, 0.501])), (1000, array([1., 0.]))]]\n",
      "_estimate: [[(100, array([0.54, 0.46])), (100, array([0.51, 0.49])), (100, array([1., 0.]))], [(1000, array([0.477, 0.523])), (1000, array([0.516, 0.484])), (1000, array([1., 0.]))]]\n",
      "_estimate: [[(100, array([0.54, 0.46])), (100, array([0.47, 0.53])), (100, array([1., 0.]))], [(1000, array([0.488, 0.512])), (1000, array([0.518, 0.482])), (1000, array([1., 0.]))]]\n",
      "_estimate: [[(100, array([0.51, 0.49])), (100, array([0.52, 0.48])), (100, array([1., 0.]))], [(1000, array([0.504, 0.496])), (1000, array([0.503, 0.497])), (1000, array([1., 0.]))]]\n",
      "_estimate: [[(100, array([0.46, 0.54])), (100, array([0.46, 0.54])), (100, array([1., 0.]))], [(1000, array([0.491, 0.509])), (1000, array([0.499, 0.501])), (1000, array([1., 0.]))]]\n"
     ]
    },
    {
     "name": "stderr",
     "output_type": "stream",
     "text": [
      " 48%|████▊     | 48/100 [00:00<00:00, 61.85it/s]"
     ]
    },
    {
     "name": "stdout",
     "output_type": "stream",
     "text": [
      "_estimate: [[(100, array([0.46, 0.54])), (100, array([0.53, 0.47])), (100, array([1., 0.]))], [(1000, array([0.503, 0.497])), (1000, array([0.513, 0.487])), (1000, array([1., 0.]))]]\n",
      "_estimate: [[(100, array([0.51, 0.49])), (100, array([0.44, 0.56])), (100, array([1., 0.]))], [(1000, array([0.501, 0.499])), (1000, array([0.511, 0.489])), (1000, array([1., 0.]))]]\n",
      "_estimate: [[(100, array([0.46, 0.54])), (100, array([0.35, 0.65])), (100, array([1., 0.]))], [(1000, array([0.498, 0.502])), (1000, array([0.49, 0.51])), (1000, array([1., 0.]))]]\n",
      "_estimate: [[(100, array([0.51, 0.49])), (100, array([0.52, 0.48])), (100, array([1., 0.]))], [(1000, array([0.528, 0.472])), (1000, array([0.489, 0.511])), (1000, array([1., 0.]))]]\n",
      "_estimate: [[(100, array([0.53, 0.47])), (100, array([0.41, 0.59])), (100, array([1., 0.]))], [(1000, array([0.501, 0.499])), (1000, array([0.516, 0.484])), (1000, array([1., 0.]))]]\n",
      "_estimate: [[(100, array([0.52, 0.48])), (100, array([0.46, 0.54])), (100, array([1., 0.]))], [(1000, array([0.519, 0.481])), (1000, array([0.496, 0.504])), (1000, array([1., 0.]))]]\n",
      "_estimate: [[(100, array([0.46, 0.54])), (100, array([0.46, 0.54])), (100, array([1., 0.]))], [(1000, array([0.492, 0.508])), (1000, array([0.482, 0.518])), (1000, array([1., 0.]))]]\n",
      "_estimate: [[(100, array([0.43, 0.57])), (100, array([0.51, 0.49])), (100, array([1., 0.]))], [(1000, array([0.476, 0.524])), (1000, array([0.477, 0.523])), (1000, array([1., 0.]))]]\n",
      "_estimate: [[(100, array([0.49, 0.51])), (100, array([0.54, 0.46])), (100, array([1., 0.]))], [(1000, array([0.499, 0.501])), (1000, array([0.523, 0.477])), (1000, array([1., 0.]))]]\n",
      "_estimate: [[(100, array([0.49, 0.51])), (100, array([0.53, 0.47])), (100, array([1., 0.]))], [(1000, array([0.501, 0.499])), (1000, array([0.499, 0.501])), (1000, array([1., 0.]))]]\n",
      "_estimate: [[(100, array([0.46, 0.54])), (100, array([0.51, 0.49])), (100, array([1., 0.]))], [(1000, array([0.508, 0.492])), (1000, array([0.48, 0.52])), (1000, array([1., 0.]))]]\n",
      "_estimate: [[(100, array([0.54, 0.46])), (100, array([0.53, 0.47])), (100, array([1., 0.]))], [(1000, array([0.483, 0.517])), (1000, array([0.508, 0.492])), (1000, array([1., 0.]))]]\n",
      "_estimate: [[(100, array([0.52, 0.48])), (100, array([0.45, 0.55])), (100, array([1., 0.]))], [(1000, array([0.487, 0.513])), (1000, array([0.504, 0.496])), (1000, array([1., 0.]))]]\n",
      "_estimate: [[(100, array([0.44, 0.56])), (100, array([0.55, 0.45])), (100, array([1., 0.]))], [(1000, array([0.509, 0.491])), (1000, array([0.48, 0.52])), (1000, array([1., 0.]))]]\n"
     ]
    },
    {
     "name": "stderr",
     "output_type": "stream",
     "text": [
      " 62%|██████▏   | 62/100 [00:00<00:00, 62.16it/s]"
     ]
    },
    {
     "name": "stdout",
     "output_type": "stream",
     "text": [
      "_estimate: [[(100, array([0.57, 0.43])), (100, array([0.56, 0.44])), (100, array([1., 0.]))], [(1000, array([0.497, 0.503])), (1000, array([0.504, 0.496])), (1000, array([1., 0.]))]]\n",
      "_estimate: [[(100, array([0.48, 0.52])), (100, array([0.62, 0.38])), (100, array([1., 0.]))], [(1000, array([0.514, 0.486])), (1000, array([0.507, 0.493])), (1000, array([1., 0.]))]]\n",
      "_estimate: [[(100, array([0.47, 0.53])), (100, array([0.48, 0.52])), (100, array([1., 0.]))], [(1000, array([0.483, 0.517])), (1000, array([0.535, 0.465])), (1000, array([1., 0.]))]]\n",
      "_estimate: [[(100, array([0.47, 0.53])), (100, array([0.5, 0.5])), (100, array([1., 0.]))], [(1000, array([0.517, 0.483])), (1000, array([0.527, 0.473])), (1000, array([1., 0.]))]]\n",
      "_estimate: [[(100, array([0.49, 0.51])), (100, array([0.46, 0.54])), (100, array([1., 0.]))], [(1000, array([0.518, 0.482])), (1000, array([0.501, 0.499])), (1000, array([1., 0.]))]]\n",
      "_estimate: [[(100, array([0.56, 0.44])), (100, array([0.44, 0.56])), (100, array([1., 0.]))], [(1000, array([0.503, 0.497])), (1000, array([0.504, 0.496])), (1000, array([1., 0.]))]]\n",
      "_estimate: [[(100, array([0.53, 0.47])), (100, array([0.56, 0.44])), (100, array([1., 0.]))], [(1000, array([0.502, 0.498])), (1000, array([0.509, 0.491])), (1000, array([1., 0.]))]]\n",
      "_estimate: [[(100, array([0.45, 0.55])), (100, array([0.49, 0.51])), (100, array([1., 0.]))], [(1000, array([0.482, 0.518])), (1000, array([0.512, 0.488])), (1000, array([1., 0.]))]]\n",
      "_estimate: [[(100, array([0.44, 0.56])), (100, array([0.6, 0.4])), (100, array([1., 0.]))], [(1000, array([0.488, 0.512])), (1000, array([0.514, 0.486])), (1000, array([1., 0.]))]]\n",
      "_estimate: [[(100, array([0.54, 0.46])), (100, array([0.49, 0.51])), (100, array([1., 0.]))], [(1000, array([0.515, 0.485])), (1000, array([0.5, 0.5])), (1000, array([1., 0.]))]]\n",
      "_estimate: [[(100, array([0.47, 0.53])), (100, array([0.51, 0.49])), (100, array([1., 0.]))], [(1000, array([0.5, 0.5])), (1000, array([0.511, 0.489])), (1000, array([1., 0.]))]]\n",
      "_estimate: [[(100, array([0.52, 0.48])), (100, array([0.59, 0.41])), (100, array([1., 0.]))], [(1000, array([0.496, 0.504])), (1000, array([0.512, 0.488])), (1000, array([1., 0.]))]]\n",
      "_estimate: [[(100, array([0.46, 0.54])), (100, array([0.51, 0.49])), (100, array([1., 0.]))], [(1000, array([0.506, 0.494])), (1000, array([0.509, 0.491])), (1000, array([1., 0.]))]]\n"
     ]
    },
    {
     "name": "stderr",
     "output_type": "stream",
     "text": [
      "\r",
      " 69%|██████▉   | 69/100 [00:01<00:00, 62.19it/s]"
     ]
    },
    {
     "name": "stdout",
     "output_type": "stream",
     "text": [
      "_estimate: [[(100, array([0.45, 0.55])), (100, array([0.53, 0.47])), (100, array([1., 0.]))], [(1000, array([0.475, 0.525])), (1000, array([0.491, 0.509])), (1000, array([1., 0.]))]]\n",
      "_estimate: [[(100, array([0.52, 0.48])), (100, array([0.47, 0.53])), (100, array([1., 0.]))], [(1000, array([0.484, 0.516])), (1000, array([0.509, 0.491])), (1000, array([1., 0.]))]]\n",
      "_estimate: [[(100, array([0.52, 0.48])), (100, array([0.44, 0.56])), (100, array([1., 0.]))], [(1000, array([0.492, 0.508])), (1000, array([0.478, 0.522])), (1000, array([1., 0.]))]]\n",
      "_estimate: [[(100, array([0.51, 0.49])), (100, array([0.44, 0.56])), (100, array([1., 0.]))], [(1000, array([0.515, 0.485])), (1000, array([0.502, 0.498])), (1000, array([1., 0.]))]]\n",
      "_estimate: [[(100, array([0.5, 0.5])), (100, array([0.46, 0.54])), (100, array([1., 0.]))], [(1000, array([0.49, 0.51])), (1000, array([0.483, 0.517])), (1000, array([1., 0.]))]]\n",
      "_estimate: [[(100, array([0.54, 0.46])), (100, array([0.52, 0.48])), (100, array([1., 0.]))], [(1000, array([0.5, 0.5])), (1000, array([0.503, 0.497])), (1000, array([1., 0.]))]]\n",
      "_estimate: [[(100, array([0.56, 0.44])), (100, array([0.48, 0.52])), (100, array([1., 0.]))], [(1000, array([0.48, 0.52])), (1000, array([0.514, 0.486])), (1000, array([1., 0.]))]]\n",
      "_estimate: [[(100, array([0.59, 0.41])), (100, array([0.42, 0.58])), (100, array([1., 0.]))], [(1000, array([0.519, 0.481])), (1000, array([0.507, 0.493])), (1000, array([1., 0.]))]]\n",
      "_estimate: [[(100, array([0.52, 0.48])), (100, array([0.5, 0.5])), (100, array([1., 0.]))], [(1000, array([0.496, 0.504])), (1000, array([0.491, 0.509])), (1000, array([1., 0.]))]]\n",
      "_estimate: [[(100, array([0.57, 0.43])), (100, array([0.5, 0.5])), (100, array([1., 0.]))], [(1000, array([0.503, 0.497])), (1000, array([0.499, 0.501])), (1000, array([1., 0.]))]]\n",
      "_estimate: [[(100, array([0.5, 0.5])), (100, array([0.48, 0.52])), (100, array([1., 0.]))], [(1000, array([0.49, 0.51])), (1000, array([0.517, 0.483])), (1000, array([1., 0.]))]]\n"
     ]
    },
    {
     "name": "stderr",
     "output_type": "stream",
     "text": [
      " 82%|████████▏ | 82/100 [00:01<00:00, 55.78it/s]"
     ]
    },
    {
     "name": "stdout",
     "output_type": "stream",
     "text": [
      "_estimate: [[(100, array([0.44, 0.56])), (100, array([0.58, 0.42])), (100, array([1., 0.]))], [(1000, array([0.496, 0.504])), (1000, array([0.512, 0.488])), (1000, array([1., 0.]))]]\n",
      "_estimate: [[(100, array([0.48, 0.52])), (100, array([0.5, 0.5])), (100, array([1., 0.]))], [(1000, array([0.486, 0.514])), (1000, array([0.49, 0.51])), (1000, array([1., 0.]))]]\n",
      "_estimate: [[(100, array([0.51, 0.49])), (100, array([0.66, 0.34])), (100, array([1., 0.]))], [(1000, array([0.5, 0.5])), (1000, array([0.532, 0.468])), (1000, array([1., 0.]))]]\n",
      "_estimate: [[(100, array([0.47, 0.53])), (100, array([0.55, 0.45])), (100, array([1., 0.]))], [(1000, array([0.471, 0.529])), (1000, array([0.505, 0.495])), (1000, array([1., 0.]))]]\n",
      "_estimate: [[(100, array([0.51, 0.49])), (100, array([0.47, 0.53])), (100, array([1., 0.]))], [(1000, array([0.507, 0.493])), (1000, array([0.484, 0.516])), (1000, array([1., 0.]))]]\n",
      "_estimate: [[(100, array([0.48, 0.52])), (100, array([0.51, 0.49])), (100, array([1., 0.]))], [(1000, array([0.483, 0.517])), (1000, array([0.488, 0.512])), (1000, array([1., 0.]))]]\n",
      "_estimate: [[(100, array([0.58, 0.42])), (100, array([0.59, 0.41])), (100, array([1., 0.]))], [(1000, array([0.499, 0.501])), (1000, array([0.49, 0.51])), (1000, array([1., 0.]))]]\n",
      "_estimate: [[(100, array([0.54, 0.46])), (100, array([0.51, 0.49])), (100, array([1., 0.]))], [(1000, array([0.49, 0.51])), (1000, array([0.488, 0.512])), (1000, array([1., 0.]))]]\n",
      "_estimate: [[(100, array([0.56, 0.44])), (100, array([0.55, 0.45])), (100, array([1., 0.]))], [(1000, array([0.526, 0.474])), (1000, array([0.51, 0.49])), (1000, array([1., 0.]))]]\n",
      "_estimate: [[(100, array([0.47, 0.53])), (100, array([0.43, 0.57])), (100, array([1., 0.]))], [(1000, array([0.496, 0.504])), (1000, array([0.517, 0.483])), (1000, array([1., 0.]))]]\n",
      "_estimate: [[(100, array([0.52, 0.48])), (100, array([0.59, 0.41])), (100, array([1., 0.]))], [(1000, array([0.492, 0.508])), (1000, array([0.53, 0.47])), (1000, array([1., 0.]))]]\n"
     ]
    },
    {
     "name": "stderr",
     "output_type": "stream",
     "text": [
      "\r",
      " 88%|████████▊ | 88/100 [00:01<00:00, 54.02it/s]"
     ]
    },
    {
     "name": "stdout",
     "output_type": "stream",
     "text": [
      "_estimate: [[(100, array([0.49, 0.51])), (100, array([0.51, 0.49])), (100, array([1., 0.]))], [(1000, array([0.522, 0.478])), (1000, array([0.482, 0.518])), (1000, array([1., 0.]))]]\n",
      "_estimate: [[(100, array([0.41, 0.59])), (100, array([0.44, 0.56])), (100, array([1., 0.]))], [(1000, array([0.489, 0.511])), (1000, array([0.469, 0.531])), (1000, array([1., 0.]))]]\n",
      "_estimate: [[(100, array([0.52, 0.48])), (100, array([0.6, 0.4])), (100, array([1., 0.]))], [(1000, array([0.491, 0.509])), (1000, array([0.52, 0.48])), (1000, array([1., 0.]))]]\n",
      "_estimate: [[(100, array([0.48, 0.52])), (100, array([0.47, 0.53])), (100, array([1., 0.]))], [(1000, array([0.502, 0.498])), (1000, array([0.505, 0.495])), (1000, array([1., 0.]))]]\n",
      "_estimate: [[(100, array([0.54, 0.46])), (100, array([0.54, 0.46])), (100, array([1., 0.]))], [(1000, array([0.511, 0.489])), (1000, array([0.498, 0.502])), (1000, array([1., 0.]))]]\n",
      "_estimate: [[(100, array([0.53, 0.47])), (100, array([0.52, 0.48])), (100, array([1., 0.]))], [(1000, array([0.524, 0.476])), (1000, array([0.496, 0.504])), (1000, array([1., 0.]))]]\n",
      "_estimate: [[(100, array([0.47, 0.53])), (100, array([0.55, 0.45])), (100, array([1., 0.]))], [(1000, array([0.499, 0.501])), (1000, array([0.493, 0.507])), (1000, array([1., 0.]))]]\n"
     ]
    },
    {
     "name": "stderr",
     "output_type": "stream",
     "text": [
      "100%|██████████| 100/100 [00:01<00:00, 54.44it/s]\n",
      "  0%|          | 0/100 [00:00<?, ?it/s]"
     ]
    },
    {
     "name": "stdout",
     "output_type": "stream",
     "text": [
      "_estimate: [[(100, array([0.58, 0.42])), (100, array([0.49, 0.51])), (100, array([1., 0.]))], [(1000, array([0.501, 0.499])), (1000, array([0.527, 0.473])), (1000, array([1., 0.]))]]\n",
      "_estimate: [[(100, array([0.43, 0.57])), (100, array([0.5, 0.5])), (100, array([1., 0.]))], [(1000, array([0.483, 0.517])), (1000, array([0.5, 0.5])), (1000, array([1., 0.]))]]\n",
      "_estimate: [[(100, array([0.42, 0.58])), (100, array([0.6, 0.4])), (100, array([1., 0.]))], [(1000, array([0.477, 0.523])), (1000, array([0.506, 0.494])), (1000, array([1., 0.]))]]\n",
      "_estimate: [[(100, array([0.48, 0.52])), (100, array([0.5, 0.5])), (100, array([1., 0.]))], [(1000, array([0.496, 0.504])), (1000, array([0.515, 0.485])), (1000, array([1., 0.]))]]\n",
      "_estimate: [[(100, array([0.42, 0.58])), (100, array([0.47, 0.53])), (100, array([1., 0.]))], [(1000, array([0.504, 0.496])), (1000, array([0.496, 0.504])), (1000, array([1., 0.]))]]\n",
      "_estimate: [[(100, array([0.57, 0.43])), (100, array([0.51, 0.49])), (100, array([1., 0.]))], [(1000, array([0.511, 0.489])), (1000, array([0.493, 0.507])), (1000, array([1., 0.]))]]\n",
      "_estimate: [[(100, array([0.44, 0.56])), (100, array([0.42, 0.58])), (100, array([1., 0.]))], [(1000, array([0.508, 0.492])), (1000, array([0.499, 0.501])), (1000, array([1., 0.]))]]\n",
      "elapsed_time:0.03072413206100464[min]\n",
      "\n",
      "Case 2: seed=102\n",
      "Parametorization: True\n",
      "Type of qtomography: StandardQst\n",
      "Estimator: LinearEstimator\n",
      "_estimate: [[(100, array([0.54, 0.46])), (100, array([0.45, 0.55])), (100, array([1., 0.]))], [(1000, array([0.517, 0.483])), (1000, array([0.485, 0.515])), (1000, array([1., 0.]))]]\n"
     ]
    },
    {
     "name": "stderr",
     "output_type": "stream",
     "text": [
      "  9%|▉         | 9/100 [00:00<00:02, 42.65it/s]"
     ]
    },
    {
     "name": "stdout",
     "output_type": "stream",
     "text": [
      "_estimate: [[(100, array([0.55, 0.45])), (100, array([0.47, 0.53])), (100, array([1., 0.]))], [(1000, array([0.504, 0.496])), (1000, array([0.497, 0.503])), (1000, array([1., 0.]))]]\n",
      "_estimate: [[(100, array([0.42, 0.58])), (100, array([0.48, 0.52])), (100, array([1., 0.]))], [(1000, array([0.492, 0.508])), (1000, array([0.51, 0.49])), (1000, array([1., 0.]))]]\n",
      "_estimate: [[(100, array([0.49, 0.51])), (100, array([0.56, 0.44])), (100, array([1., 0.]))], [(1000, array([0.512, 0.488])), (1000, array([0.49, 0.51])), (1000, array([1., 0.]))]]\n",
      "_estimate: [[(100, array([0.55, 0.45])), (100, array([0.54, 0.46])), (100, array([1., 0.]))], [(1000, array([0.49, 0.51])), (1000, array([0.496, 0.504])), (1000, array([1., 0.]))]]\n",
      "_estimate: [[(100, array([0.44, 0.56])), (100, array([0.57, 0.43])), (100, array([1., 0.]))], [(1000, array([0.508, 0.492])), (1000, array([0.508, 0.492])), (1000, array([1., 0.]))]]\n",
      "_estimate: [[(100, array([0.55, 0.45])), (100, array([0.46, 0.54])), (100, array([1., 0.]))], [(1000, array([0.508, 0.492])), (1000, array([0.494, 0.506])), (1000, array([1., 0.]))]]\n",
      "_estimate: [[(100, array([0.57, 0.43])), (100, array([0.47, 0.53])), (100, array([1., 0.]))], [(1000, array([0.5, 0.5])), (1000, array([0.52, 0.48])), (1000, array([1., 0.]))]]\n",
      "_estimate: [[(100, array([0.51, 0.49])), (100, array([0.48, 0.52])), (100, array([1., 0.]))], [(1000, array([0.507, 0.493])), (1000, array([0.495, 0.505])), (1000, array([1., 0.]))]]\n",
      "_estimate: [[(100, array([0.46, 0.54])), (100, array([0.47, 0.53])), (100, array([1., 0.]))], [(1000, array([0.501, 0.499])), (1000, array([0.495, 0.505])), (1000, array([1., 0.]))]]\n",
      "_estimate: [[(100, array([0.38, 0.62])), (100, array([0.6, 0.4])), (100, array([1., 0.]))], [(1000, array([0.494, 0.506])), (1000, array([0.502, 0.498])), (1000, array([1., 0.]))]]\n"
     ]
    },
    {
     "name": "stderr",
     "output_type": "stream",
     "text": [
      " 18%|█▊        | 18/100 [00:00<00:01, 42.74it/s]"
     ]
    },
    {
     "name": "stdout",
     "output_type": "stream",
     "text": [
      "_estimate: [[(100, array([0.55, 0.45])), (100, array([0.51, 0.49])), (100, array([1., 0.]))], [(1000, array([0.516, 0.484])), (1000, array([0.495, 0.505])), (1000, array([1., 0.]))]]\n",
      "_estimate: [[(100, array([0.5, 0.5])), (100, array([0.57, 0.43])), (100, array([1., 0.]))], [(1000, array([0.501, 0.499])), (1000, array([0.47, 0.53])), (1000, array([1., 0.]))]]\n",
      "_estimate: [[(100, array([0.61, 0.39])), (100, array([0.56, 0.44])), (100, array([1., 0.]))], [(1000, array([0.493, 0.507])), (1000, array([0.516, 0.484])), (1000, array([1., 0.]))]]\n",
      "_estimate: [[(100, array([0.44, 0.56])), (100, array([0.56, 0.44])), (100, array([1., 0.]))], [(1000, array([0.505, 0.495])), (1000, array([0.501, 0.499])), (1000, array([1., 0.]))]]\n",
      "_estimate: [[(100, array([0.49, 0.51])), (100, array([0.53, 0.47])), (100, array([1., 0.]))], [(1000, array([0.512, 0.488])), (1000, array([0.497, 0.503])), (1000, array([1., 0.]))]]\n",
      "_estimate: [[(100, array([0.45, 0.55])), (100, array([0.46, 0.54])), (100, array([1., 0.]))], [(1000, array([0.497, 0.503])), (1000, array([0.476, 0.524])), (1000, array([1., 0.]))]]\n",
      "_estimate: [[(100, array([0.38, 0.62])), (100, array([0.58, 0.42])), (100, array([1., 0.]))], [(1000, array([0.469, 0.531])), (1000, array([0.517, 0.483])), (1000, array([1., 0.]))]]\n",
      "_estimate: [[(100, array([0.62, 0.38])), (100, array([0.57, 0.43])), (100, array([1., 0.]))], [(1000, array([0.48, 0.52])), (1000, array([0.503, 0.497])), (1000, array([1., 0.]))]]\n",
      "_estimate: [[(100, array([0.42, 0.58])), (100, array([0.47, 0.53])), (100, array([1., 0.]))], [(1000, array([0.474, 0.526])), (1000, array([0.493, 0.507])), (1000, array([1., 0.]))]]\n",
      "_estimate: [[(100, array([0.5, 0.5])), (100, array([0.48, 0.52])), (100, array([1., 0.]))], [(1000, array([0.513, 0.487])), (1000, array([0.518, 0.482])), (1000, array([1., 0.]))]]\n"
     ]
    },
    {
     "name": "stderr",
     "output_type": "stream",
     "text": [
      " 28%|██▊       | 28/100 [00:00<00:01, 42.24it/s]"
     ]
    },
    {
     "name": "stdout",
     "output_type": "stream",
     "text": [
      "_estimate: [[(100, array([0.51, 0.49])), (100, array([0.46, 0.54])), (100, array([1., 0.]))], [(1000, array([0.488, 0.512])), (1000, array([0.503, 0.497])), (1000, array([1., 0.]))]]\n",
      "_estimate: [[(100, array([0.52, 0.48])), (100, array([0.53, 0.47])), (100, array([1., 0.]))], [(1000, array([0.489, 0.511])), (1000, array([0.497, 0.503])), (1000, array([1., 0.]))]]\n",
      "_estimate: [[(100, array([0.54, 0.46])), (100, array([0.51, 0.49])), (100, array([1., 0.]))], [(1000, array([0.478, 0.522])), (1000, array([0.51, 0.49])), (1000, array([1., 0.]))]]\n",
      "_estimate: [[(100, array([0.6, 0.4])), (100, array([0.49, 0.51])), (100, array([1., 0.]))], [(1000, array([0.5, 0.5])), (1000, array([0.536, 0.464])), (1000, array([1., 0.]))]]\n",
      "_estimate: [[(100, array([0.56, 0.44])), (100, array([0.55, 0.45])), (100, array([1., 0.]))], [(1000, array([0.487, 0.513])), (1000, array([0.499, 0.501])), (1000, array([1., 0.]))]]\n",
      "_estimate: [[(100, array([0.43, 0.57])), (100, array([0.5, 0.5])), (100, array([1., 0.]))], [(1000, array([0.479, 0.521])), (1000, array([0.5, 0.5])), (1000, array([1., 0.]))]]\n",
      "_estimate: [[(100, array([0.43, 0.57])), (100, array([0.42, 0.58])), (100, array([1., 0.]))], [(1000, array([0.502, 0.498])), (1000, array([0.477, 0.523])), (1000, array([1., 0.]))]]\n",
      "_estimate: [[(100, array([0.51, 0.49])), (100, array([0.51, 0.49])), (100, array([1., 0.]))], [(1000, array([0.506, 0.494])), (1000, array([0.527, 0.473])), (1000, array([1., 0.]))]]\n"
     ]
    },
    {
     "name": "stderr",
     "output_type": "stream",
     "text": [
      " 36%|███▌      | 36/100 [00:00<00:01, 35.91it/s]"
     ]
    },
    {
     "name": "stdout",
     "output_type": "stream",
     "text": [
      "_estimate: [[(100, array([0.47, 0.53])), (100, array([0.61, 0.39])), (100, array([1., 0.]))], [(1000, array([0.489, 0.511])), (1000, array([0.495, 0.505])), (1000, array([1., 0.]))]]\n",
      "_estimate: [[(100, array([0.52, 0.48])), (100, array([0.41, 0.59])), (100, array([1., 0.]))], [(1000, array([0.482, 0.518])), (1000, array([0.501, 0.499])), (1000, array([1., 0.]))]]\n",
      "_estimate: [[(100, array([0.44, 0.56])), (100, array([0.62, 0.38])), (100, array([1., 0.]))], [(1000, array([0.476, 0.524])), (1000, array([0.52, 0.48])), (1000, array([1., 0.]))]]\n",
      "_estimate: [[(100, array([0.57, 0.43])), (100, array([0.47, 0.53])), (100, array([1., 0.]))], [(1000, array([0.526, 0.474])), (1000, array([0.505, 0.495])), (1000, array([1., 0.]))]]\n",
      "_estimate: [[(100, array([0.51, 0.49])), (100, array([0.47, 0.53])), (100, array([1., 0.]))], [(1000, array([0.504, 0.496])), (1000, array([0.487, 0.513])), (1000, array([1., 0.]))]]\n",
      "_estimate: [[(100, array([0.45, 0.55])), (100, array([0.48, 0.52])), (100, array([1., 0.]))], [(1000, array([0.497, 0.503])), (1000, array([0.513, 0.487])), (1000, array([1., 0.]))]]\n",
      "_estimate: [[(100, array([0.51, 0.49])), (100, array([0.46, 0.54])), (100, array([1., 0.]))], [(1000, array([0.501, 0.499])), (1000, array([0.509, 0.491])), (1000, array([1., 0.]))]]\n"
     ]
    },
    {
     "name": "stderr",
     "output_type": "stream",
     "text": [
      " 47%|████▋     | 47/100 [00:01<00:01, 41.56it/s]"
     ]
    },
    {
     "name": "stdout",
     "output_type": "stream",
     "text": [
      "_estimate: [[(100, array([0.47, 0.53])), (100, array([0.46, 0.54])), (100, array([1., 0.]))], [(1000, array([0.503, 0.497])), (1000, array([0.479, 0.521])), (1000, array([1., 0.]))]]\n",
      "_estimate: [[(100, array([0.53, 0.47])), (100, array([0.46, 0.54])), (100, array([1., 0.]))], [(1000, array([0.493, 0.507])), (1000, array([0.505, 0.495])), (1000, array([1., 0.]))]]\n",
      "_estimate: [[(100, array([0.48, 0.52])), (100, array([0.49, 0.51])), (100, array([1., 0.]))], [(1000, array([0.511, 0.489])), (1000, array([0.466, 0.534])), (1000, array([1., 0.]))]]\n",
      "_estimate: [[(100, array([0.51, 0.49])), (100, array([0.53, 0.47])), (100, array([1., 0.]))], [(1000, array([0.486, 0.514])), (1000, array([0.475, 0.525])), (1000, array([1., 0.]))]]\n",
      "_estimate: [[(100, array([0.53, 0.47])), (100, array([0.51, 0.49])), (100, array([1., 0.]))], [(1000, array([0.512, 0.488])), (1000, array([0.518, 0.482])), (1000, array([1., 0.]))]]\n",
      "_estimate: [[(100, array([0.52, 0.48])), (100, array([0.49, 0.51])), (100, array([1., 0.]))], [(1000, array([0.478, 0.522])), (1000, array([0.484, 0.516])), (1000, array([1., 0.]))]]\n",
      "_estimate: [[(100, array([0.45, 0.55])), (100, array([0.47, 0.53])), (100, array([1., 0.]))], [(1000, array([0.502, 0.498])), (1000, array([0.506, 0.494])), (1000, array([1., 0.]))]]\n",
      "_estimate: [[(100, array([0.48, 0.52])), (100, array([0.45, 0.55])), (100, array([1., 0.]))], [(1000, array([0.495, 0.505])), (1000, array([0.517, 0.483])), (1000, array([1., 0.]))]]\n",
      "_estimate: [[(100, array([0.51, 0.49])), (100, array([0.53, 0.47])), (100, array([1., 0.]))], [(1000, array([0.478, 0.522])), (1000, array([0.505, 0.495])), (1000, array([1., 0.]))]]\n",
      "_estimate: [[(100, array([0.52, 0.48])), (100, array([0.55, 0.45])), (100, array([1., 0.]))], [(1000, array([0.492, 0.508])), (1000, array([0.508, 0.492])), (1000, array([1., 0.]))]]\n",
      "_estimate: [[(100, array([0.5, 0.5])), (100, array([0.48, 0.52])), (100, array([1., 0.]))], [(1000, array([0.535, 0.465])), (1000, array([0.495, 0.505])), (1000, array([1., 0.]))]]\n"
     ]
    },
    {
     "name": "stderr",
     "output_type": "stream",
     "text": [
      "\r",
      " 52%|█████▏    | 52/100 [00:01<00:01, 38.68it/s]"
     ]
    },
    {
     "name": "stdout",
     "output_type": "stream",
     "text": [
      "_estimate: [[(100, array([0.45, 0.55])), (100, array([0.41, 0.59])), (100, array([1., 0.]))], [(1000, array([0.507, 0.493])), (1000, array([0.491, 0.509])), (1000, array([1., 0.]))]]\n",
      "_estimate: [[(100, array([0.49, 0.51])), (100, array([0.65, 0.35])), (100, array([1., 0.]))], [(1000, array([0.498, 0.502])), (1000, array([0.498, 0.502])), (1000, array([1., 0.]))]]\n",
      "_estimate: [[(100, array([0.45, 0.55])), (100, array([0.46, 0.54])), (100, array([1., 0.]))], [(1000, array([0.523, 0.477])), (1000, array([0.497, 0.503])), (1000, array([1., 0.]))]]\n",
      "_estimate: [[(100, array([0.5, 0.5])), (100, array([0.44, 0.56])), (100, array([1., 0.]))], [(1000, array([0.505, 0.495])), (1000, array([0.472, 0.528])), (1000, array([1., 0.]))]]\n",
      "_estimate: [[(100, array([0.49, 0.51])), (100, array([0.54, 0.46])), (100, array([1., 0.]))], [(1000, array([0.515, 0.485])), (1000, array([0.494, 0.506])), (1000, array([1., 0.]))]]\n",
      "_estimate: [[(100, array([0.52, 0.48])), (100, array([0.5, 0.5])), (100, array([1., 0.]))], [(1000, array([0.493, 0.507])), (1000, array([0.526, 0.474])), (1000, array([1., 0.]))]]\n",
      "_estimate: [[(100, array([0.46, 0.54])), (100, array([0.48, 0.52])), (100, array([1., 0.]))], [(1000, array([0.517, 0.483])), (1000, array([0.488, 0.512])), (1000, array([1., 0.]))]]\n",
      "_estimate: [[(100, array([0.58, 0.42])), (100, array([0.46, 0.54])), (100, array([1., 0.]))], [(1000, array([0.507, 0.493])), (1000, array([0.517, 0.483])), (1000, array([1., 0.]))]]\n",
      "_estimate: [[(100, array([0.5, 0.5])), (100, array([0.5, 0.5])), (100, array([1., 0.]))], [(1000, array([0.467, 0.533])), (1000, array([0.508, 0.492])), (1000, array([1., 0.]))]]\n"
     ]
    },
    {
     "name": "stderr",
     "output_type": "stream",
     "text": [
      " 62%|██████▏   | 62/100 [00:01<00:00, 41.44it/s]"
     ]
    },
    {
     "name": "stdout",
     "output_type": "stream",
     "text": [
      "_estimate: [[(100, array([0.49, 0.51])), (100, array([0.45, 0.55])), (100, array([1., 0.]))], [(1000, array([0.49, 0.51])), (1000, array([0.494, 0.506])), (1000, array([1., 0.]))]]\n",
      "_estimate: [[(100, array([0.5, 0.5])), (100, array([0.51, 0.49])), (100, array([1., 0.]))], [(1000, array([0.491, 0.509])), (1000, array([0.492, 0.508])), (1000, array([1., 0.]))]]\n",
      "_estimate: [[(100, array([0.43, 0.57])), (100, array([0.47, 0.53])), (100, array([1., 0.]))], [(1000, array([0.492, 0.508])), (1000, array([0.531, 0.469])), (1000, array([1., 0.]))]]\n",
      "_estimate: [[(100, array([0.6, 0.4])), (100, array([0.51, 0.49])), (100, array([1., 0.]))], [(1000, array([0.513, 0.487])), (1000, array([0.491, 0.509])), (1000, array([1., 0.]))]]\n",
      "_estimate: [[(100, array([0.34, 0.66])), (100, array([0.47, 0.53])), (100, array([1., 0.]))], [(1000, array([0.463, 0.537])), (1000, array([0.465, 0.535])), (1000, array([1., 0.]))]]\n",
      "_estimate: [[(100, array([0.45, 0.55])), (100, array([0.45, 0.55])), (100, array([1., 0.]))], [(1000, array([0.503, 0.497])), (1000, array([0.495, 0.505])), (1000, array([1., 0.]))]]\n",
      "_estimate: [[(100, array([0.56, 0.44])), (100, array([0.59, 0.41])), (100, array([1., 0.]))], [(1000, array([0.53, 0.47])), (1000, array([0.508, 0.492])), (1000, array([1., 0.]))]]\n",
      "_estimate: [[(100, array([0.51, 0.49])), (100, array([0.43, 0.57])), (100, array([1., 0.]))], [(1000, array([0.492, 0.508])), (1000, array([0.471, 0.529])), (1000, array([1., 0.]))]]\n",
      "_estimate: [[(100, array([0.52, 0.48])), (100, array([0.45, 0.55])), (100, array([1., 0.]))], [(1000, array([0.542, 0.458])), (1000, array([0.49, 0.51])), (1000, array([1., 0.]))]]\n"
     ]
    },
    {
     "name": "stderr",
     "output_type": "stream",
     "text": [
      "\r",
      " 67%|██████▋   | 67/100 [00:01<00:00, 40.50it/s]"
     ]
    },
    {
     "name": "stdout",
     "output_type": "stream",
     "text": [
      "_estimate: [[(100, array([0.53, 0.47])), (100, array([0.45, 0.55])), (100, array([1., 0.]))], [(1000, array([0.522, 0.478])), (1000, array([0.477, 0.523])), (1000, array([1., 0.]))]]\n",
      "_estimate: [[(100, array([0.58, 0.42])), (100, array([0.51, 0.49])), (100, array([1., 0.]))], [(1000, array([0.502, 0.498])), (1000, array([0.511, 0.489])), (1000, array([1., 0.]))]]\n",
      "_estimate: [[(100, array([0.5, 0.5])), (100, array([0.52, 0.48])), (100, array([1., 0.]))], [(1000, array([0.532, 0.468])), (1000, array([0.491, 0.509])), (1000, array([1., 0.]))]]\n",
      "_estimate: [[(100, array([0.46, 0.54])), (100, array([0.43, 0.57])), (100, array([1., 0.]))], [(1000, array([0.49, 0.51])), (1000, array([0.517, 0.483])), (1000, array([1., 0.]))]]\n",
      "_estimate: [[(100, array([0.45, 0.55])), (100, array([0.52, 0.48])), (100, array([1., 0.]))], [(1000, array([0.508, 0.492])), (1000, array([0.478, 0.522])), (1000, array([1., 0.]))]]\n",
      "_estimate: [[(100, array([0.49, 0.51])), (100, array([0.45, 0.55])), (100, array([1., 0.]))], [(1000, array([0.516, 0.484])), (1000, array([0.481, 0.519])), (1000, array([1., 0.]))]]\n"
     ]
    },
    {
     "name": "stderr",
     "output_type": "stream",
     "text": [
      " 76%|███████▌  | 76/100 [00:01<00:00, 34.70it/s]"
     ]
    },
    {
     "name": "stdout",
     "output_type": "stream",
     "text": [
      "_estimate: [[(100, array([0.49, 0.51])), (100, array([0.49, 0.51])), (100, array([1., 0.]))], [(1000, array([0.501, 0.499])), (1000, array([0.486, 0.514])), (1000, array([1., 0.]))]]\n",
      "_estimate: [[(100, array([0.49, 0.51])), (100, array([0.42, 0.58])), (100, array([1., 0.]))], [(1000, array([0.485, 0.515])), (1000, array([0.504, 0.496])), (1000, array([1., 0.]))]]\n",
      "_estimate: [[(100, array([0.62, 0.38])), (100, array([0.57, 0.43])), (100, array([1., 0.]))], [(1000, array([0.53, 0.47])), (1000, array([0.487, 0.513])), (1000, array([1., 0.]))]]\n",
      "_estimate: [[(100, array([0.56, 0.44])), (100, array([0.57, 0.43])), (100, array([1., 0.]))], [(1000, array([0.533, 0.467])), (1000, array([0.514, 0.486])), (1000, array([1., 0.]))]]\n",
      "_estimate: [[(100, array([0.57, 0.43])), (100, array([0.52, 0.48])), (100, array([1., 0.]))], [(1000, array([0.502, 0.498])), (1000, array([0.509, 0.491])), (1000, array([1., 0.]))]]\n",
      "_estimate: [[(100, array([0.57, 0.43])), (100, array([0.46, 0.54])), (100, array([1., 0.]))], [(1000, array([0.492, 0.508])), (1000, array([0.493, 0.507])), (1000, array([1., 0.]))]]\n",
      "_estimate: [[(100, array([0.53, 0.47])), (100, array([0.48, 0.52])), (100, array([1., 0.]))], [(1000, array([0.508, 0.492])), (1000, array([0.468, 0.532])), (1000, array([1., 0.]))]]\n"
     ]
    },
    {
     "name": "stderr",
     "output_type": "stream",
     "text": [
      " 86%|████████▌ | 86/100 [00:02<00:00, 37.82it/s]"
     ]
    },
    {
     "name": "stdout",
     "output_type": "stream",
     "text": [
      "_estimate: [[(100, array([0.56, 0.44])), (100, array([0.49, 0.51])), (100, array([1., 0.]))], [(1000, array([0.529, 0.471])), (1000, array([0.504, 0.496])), (1000, array([1., 0.]))]]\n",
      "_estimate: [[(100, array([0.45, 0.55])), (100, array([0.49, 0.51])), (100, array([1., 0.]))], [(1000, array([0.538, 0.462])), (1000, array([0.486, 0.514])), (1000, array([1., 0.]))]]\n",
      "_estimate: [[(100, array([0.42, 0.58])), (100, array([0.5, 0.5])), (100, array([1., 0.]))], [(1000, array([0.497, 0.503])), (1000, array([0.486, 0.514])), (1000, array([1., 0.]))]]\n",
      "_estimate: [[(100, array([0.54, 0.46])), (100, array([0.47, 0.53])), (100, array([1., 0.]))], [(1000, array([0.472, 0.528])), (1000, array([0.506, 0.494])), (1000, array([1., 0.]))]]\n",
      "_estimate: [[(100, array([0.45, 0.55])), (100, array([0.55, 0.45])), (100, array([1., 0.]))], [(1000, array([0.496, 0.504])), (1000, array([0.511, 0.489])), (1000, array([1., 0.]))]]\n",
      "_estimate: [[(100, array([0.49, 0.51])), (100, array([0.45, 0.55])), (100, array([1., 0.]))], [(1000, array([0.504, 0.496])), (1000, array([0.442, 0.558])), (1000, array([1., 0.]))]]\n",
      "_estimate: [[(100, array([0.47, 0.53])), (100, array([0.52, 0.48])), (100, array([1., 0.]))], [(1000, array([0.486, 0.514])), (1000, array([0.508, 0.492])), (1000, array([1., 0.]))]]\n",
      "_estimate: [[(100, array([0.5, 0.5])), (100, array([0.4, 0.6])), (100, array([1., 0.]))], [(1000, array([0.487, 0.513])), (1000, array([0.513, 0.487])), (1000, array([1., 0.]))]]\n",
      "_estimate: [[(100, array([0.57, 0.43])), (100, array([0.44, 0.56])), (100, array([1., 0.]))], [(1000, array([0.482, 0.518])), (1000, array([0.491, 0.509])), (1000, array([1., 0.]))]]\n",
      "_estimate: [[(100, array([0.46, 0.54])), (100, array([0.54, 0.46])), (100, array([1., 0.]))], [(1000, array([0.479, 0.521])), (1000, array([0.501, 0.499])), (1000, array([1., 0.]))]]\n"
     ]
    },
    {
     "name": "stderr",
     "output_type": "stream",
     "text": [
      " 96%|█████████▌| 96/100 [00:02<00:00, 40.08it/s]"
     ]
    },
    {
     "name": "stdout",
     "output_type": "stream",
     "text": [
      "_estimate: [[(100, array([0.53, 0.47])), (100, array([0.48, 0.52])), (100, array([1., 0.]))], [(1000, array([0.512, 0.488])), (1000, array([0.49, 0.51])), (1000, array([1., 0.]))]]\n",
      "_estimate: [[(100, array([0.46, 0.54])), (100, array([0.55, 0.45])), (100, array([1., 0.]))], [(1000, array([0.492, 0.508])), (1000, array([0.528, 0.472])), (1000, array([1., 0.]))]]\n",
      "_estimate: [[(100, array([0.49, 0.51])), (100, array([0.54, 0.46])), (100, array([1., 0.]))], [(1000, array([0.516, 0.484])), (1000, array([0.522, 0.478])), (1000, array([1., 0.]))]]\n",
      "_estimate: [[(100, array([0.56, 0.44])), (100, array([0.43, 0.57])), (100, array([1., 0.]))], [(1000, array([0.505, 0.495])), (1000, array([0.488, 0.512])), (1000, array([1., 0.]))]]\n",
      "_estimate: [[(100, array([0.47, 0.53])), (100, array([0.46, 0.54])), (100, array([1., 0.]))], [(1000, array([0.484, 0.516])), (1000, array([0.499, 0.501])), (1000, array([1., 0.]))]]\n",
      "_estimate: [[(100, array([0.47, 0.53])), (100, array([0.56, 0.44])), (100, array([1., 0.]))], [(1000, array([0.522, 0.478])), (1000, array([0.48, 0.52])), (1000, array([1., 0.]))]]\n",
      "_estimate: [[(100, array([0.54, 0.46])), (100, array([0.53, 0.47])), (100, array([1., 0.]))], [(1000, array([0.525, 0.475])), (1000, array([0.496, 0.504])), (1000, array([1., 0.]))]]\n",
      "_estimate: [[(100, array([0.48, 0.52])), (100, array([0.45, 0.55])), (100, array([1., 0.]))], [(1000, array([0.495, 0.505])), (1000, array([0.492, 0.508])), (1000, array([1., 0.]))]]\n",
      "_estimate: [[(100, array([0.52, 0.48])), (100, array([0.54, 0.46])), (100, array([1., 0.]))], [(1000, array([0.515, 0.485])), (1000, array([0.536, 0.464])), (1000, array([1., 0.]))]]\n"
     ]
    },
    {
     "name": "stderr",
     "output_type": "stream",
     "text": [
      "100%|██████████| 100/100 [00:02<00:00, 39.50it/s]\n",
      "  6%|▌         | 6/100 [00:00<00:01, 59.69it/s]"
     ]
    },
    {
     "name": "stdout",
     "output_type": "stream",
     "text": [
      "_estimate: [[(100, array([0.45, 0.55])), (100, array([0.46, 0.54])), (100, array([1., 0.]))], [(1000, array([0.484, 0.516])), (1000, array([0.52, 0.48])), (1000, array([1., 0.]))]]\n",
      "_estimate: [[(100, array([0.42, 0.58])), (100, array([0.47, 0.53])), (100, array([1., 0.]))], [(1000, array([0.514, 0.486])), (1000, array([0.492, 0.508])), (1000, array([1., 0.]))]]\n",
      "_estimate: [[(100, array([0.48, 0.52])), (100, array([0.51, 0.49])), (100, array([1., 0.]))], [(1000, array([0.519, 0.481])), (1000, array([0.506, 0.494])), (1000, array([1., 0.]))]]\n",
      "elapsed_time:0.04226513306299846[min]\n",
      "\n",
      "Case 3: seed=103\n",
      "Parametorization: True\n",
      "Type of qtomography: StandardQst\n",
      "Estimator: LinearEstimator\n",
      "_estimate: [[(100, array([0.5, 0.5])), (100, array([0.53, 0.47])), (100, array([1., 0.]))], [(1000, array([0.497, 0.503])), (1000, array([0.5, 0.5])), (1000, array([1., 0.]))]]\n",
      "_estimate: [[(100, array([0.62, 0.38])), (100, array([0.48, 0.52])), (100, array([1., 0.]))], [(1000, array([0.493, 0.507])), (1000, array([0.533, 0.467])), (1000, array([1., 0.]))]]\n",
      "_estimate: [[(100, array([0.49, 0.51])), (100, array([0.5, 0.5])), (100, array([1., 0.]))], [(1000, array([0.501, 0.499])), (1000, array([0.51, 0.49])), (1000, array([1., 0.]))]]\n",
      "_estimate: [[(100, array([0.6, 0.4])), (100, array([0.47, 0.53])), (100, array([1., 0.]))], [(1000, array([0.524, 0.476])), (1000, array([0.5, 0.5])), (1000, array([1., 0.]))]]\n",
      "_estimate: [[(100, array([0.5, 0.5])), (100, array([0.48, 0.52])), (100, array([1., 0.]))], [(1000, array([0.524, 0.476])), (1000, array([0.519, 0.481])), (1000, array([1., 0.]))]]\n",
      "_estimate: [[(100, array([0.54, 0.46])), (100, array([0.57, 0.43])), (100, array([1., 0.]))], [(1000, array([0.501, 0.499])), (1000, array([0.506, 0.494])), (1000, array([1., 0.]))]]\n",
      "_estimate: [[(100, array([0.43, 0.57])), (100, array([0.5, 0.5])), (100, array([1., 0.]))], [(1000, array([0.518, 0.482])), (1000, array([0.52, 0.48])), (1000, array([1., 0.]))]]\n",
      "_estimate: [[(100, array([0.56, 0.44])), (100, array([0.49, 0.51])), (100, array([1., 0.]))], [(1000, array([0.502, 0.498])), (1000, array([0.479, 0.521])), (1000, array([1., 0.]))]]\n",
      "_estimate: [[(100, array([0.52, 0.48])), (100, array([0.62, 0.38])), (100, array([1., 0.]))], [(1000, array([0.511, 0.489])), (1000, array([0.49, 0.51])), (1000, array([1., 0.]))]]\n"
     ]
    },
    {
     "name": "stderr",
     "output_type": "stream",
     "text": [
      " 18%|█▊        | 18/100 [00:00<00:01, 57.37it/s]"
     ]
    },
    {
     "name": "stdout",
     "output_type": "stream",
     "text": [
      "_estimate: [[(100, array([0.52, 0.48])), (100, array([0.47, 0.53])), (100, array([1., 0.]))], [(1000, array([0.509, 0.491])), (1000, array([0.493, 0.507])), (1000, array([1., 0.]))]]\n",
      "_estimate: [[(100, array([0.46, 0.54])), (100, array([0.52, 0.48])), (100, array([1., 0.]))], [(1000, array([0.507, 0.493])), (1000, array([0.483, 0.517])), (1000, array([1., 0.]))]]\n",
      "_estimate: [[(100, array([0.44, 0.56])), (100, array([0.49, 0.51])), (100, array([1., 0.]))], [(1000, array([0.498, 0.502])), (1000, array([0.487, 0.513])), (1000, array([1., 0.]))]]\n",
      "_estimate: [[(100, array([0.6, 0.4])), (100, array([0.42, 0.58])), (100, array([1., 0.]))], [(1000, array([0.498, 0.502])), (1000, array([0.494, 0.506])), (1000, array([1., 0.]))]]\n",
      "_estimate: [[(100, array([0.48, 0.52])), (100, array([0.62, 0.38])), (100, array([1., 0.]))], [(1000, array([0.481, 0.519])), (1000, array([0.505, 0.495])), (1000, array([1., 0.]))]]\n",
      "_estimate: [[(100, array([0.49, 0.51])), (100, array([0.49, 0.51])), (100, array([1., 0.]))], [(1000, array([0.515, 0.485])), (1000, array([0.508, 0.492])), (1000, array([1., 0.]))]]\n",
      "_estimate: [[(100, array([0.47, 0.53])), (100, array([0.45, 0.55])), (100, array([1., 0.]))], [(1000, array([0.491, 0.509])), (1000, array([0.503, 0.497])), (1000, array([1., 0.]))]]\n",
      "_estimate: [[(100, array([0.46, 0.54])), (100, array([0.4, 0.6])), (100, array([1., 0.]))], [(1000, array([0.501, 0.499])), (1000, array([0.498, 0.502])), (1000, array([1., 0.]))]]\n",
      "_estimate: [[(100, array([0.48, 0.52])), (100, array([0.44, 0.56])), (100, array([1., 0.]))], [(1000, array([0.488, 0.512])), (1000, array([0.514, 0.486])), (1000, array([1., 0.]))]]\n",
      "_estimate: [[(100, array([0.58, 0.42])), (100, array([0.57, 0.43])), (100, array([1., 0.]))], [(1000, array([0.514, 0.486])), (1000, array([0.518, 0.482])), (1000, array([1., 0.]))]]\n",
      "_estimate: [[(100, array([0.52, 0.48])), (100, array([0.49, 0.51])), (100, array([1., 0.]))], [(1000, array([0.51, 0.49])), (1000, array([0.519, 0.481])), (1000, array([1., 0.]))]]\n"
     ]
    },
    {
     "name": "stderr",
     "output_type": "stream",
     "text": [
      " 29%|██▉       | 29/100 [00:00<00:01, 55.06it/s]"
     ]
    },
    {
     "name": "stdout",
     "output_type": "stream",
     "text": [
      "_estimate: [[(100, array([0.4, 0.6])), (100, array([0.53, 0.47])), (100, array([1., 0.]))], [(1000, array([0.504, 0.496])), (1000, array([0.524, 0.476])), (1000, array([1., 0.]))]]\n",
      "_estimate: [[(100, array([0.48, 0.52])), (100, array([0.49, 0.51])), (100, array([1., 0.]))], [(1000, array([0.481, 0.519])), (1000, array([0.473, 0.527])), (1000, array([1., 0.]))]]\n",
      "_estimate: [[(100, array([0.5, 0.5])), (100, array([0.56, 0.44])), (100, array([1., 0.]))], [(1000, array([0.475, 0.525])), (1000, array([0.473, 0.527])), (1000, array([1., 0.]))]]\n",
      "_estimate: [[(100, array([0.55, 0.45])), (100, array([0.49, 0.51])), (100, array([1., 0.]))], [(1000, array([0.514, 0.486])), (1000, array([0.504, 0.496])), (1000, array([1., 0.]))]]\n",
      "_estimate: [[(100, array([0.48, 0.52])), (100, array([0.52, 0.48])), (100, array([1., 0.]))], [(1000, array([0.506, 0.494])), (1000, array([0.484, 0.516])), (1000, array([1., 0.]))]]\n",
      "_estimate: [[(100, array([0.48, 0.52])), (100, array([0.47, 0.53])), (100, array([1., 0.]))], [(1000, array([0.502, 0.498])), (1000, array([0.474, 0.526])), (1000, array([1., 0.]))]]\n",
      "_estimate: [[(100, array([0.44, 0.56])), (100, array([0.43, 0.57])), (100, array([1., 0.]))], [(1000, array([0.5, 0.5])), (1000, array([0.49, 0.51])), (1000, array([1., 0.]))]]\n",
      "_estimate: [[(100, array([0.48, 0.52])), (100, array([0.53, 0.47])), (100, array([1., 0.]))], [(1000, array([0.457, 0.543])), (1000, array([0.515, 0.485])), (1000, array([1., 0.]))]]\n",
      "_estimate: [[(100, array([0.4, 0.6])), (100, array([0.5, 0.5])), (100, array([1., 0.]))], [(1000, array([0.487, 0.513])), (1000, array([0.489, 0.511])), (1000, array([1., 0.]))]]\n",
      "_estimate: [[(100, array([0.48, 0.52])), (100, array([0.4, 0.6])), (100, array([1., 0.]))], [(1000, array([0.507, 0.493])), (1000, array([0.485, 0.515])), (1000, array([1., 0.]))]]\n",
      "_estimate: [[(100, array([0.57, 0.43])), (100, array([0.48, 0.52])), (100, array([1., 0.]))], [(1000, array([0.509, 0.491])), (1000, array([0.478, 0.522])), (1000, array([1., 0.]))]]\n",
      "_estimate: [[(100, array([0.54, 0.46])), (100, array([0.48, 0.52])), (100, array([1., 0.]))], [(1000, array([0.479, 0.521])), (1000, array([0.517, 0.483])), (1000, array([1., 0.]))]]\n"
     ]
    },
    {
     "name": "stderr",
     "output_type": "stream",
     "text": [
      " 40%|████      | 40/100 [00:00<00:01, 53.81it/s]"
     ]
    },
    {
     "name": "stdout",
     "output_type": "stream",
     "text": [
      "_estimate: [[(100, array([0.53, 0.47])), (100, array([0.45, 0.55])), (100, array([1., 0.]))], [(1000, array([0.505, 0.495])), (1000, array([0.495, 0.505])), (1000, array([1., 0.]))]]\n",
      "_estimate: [[(100, array([0.41, 0.59])), (100, array([0.42, 0.58])), (100, array([1., 0.]))], [(1000, array([0.499, 0.501])), (1000, array([0.505, 0.495])), (1000, array([1., 0.]))]]\n",
      "_estimate: [[(100, array([0.58, 0.42])), (100, array([0.44, 0.56])), (100, array([1., 0.]))], [(1000, array([0.461, 0.539])), (1000, array([0.503, 0.497])), (1000, array([1., 0.]))]]\n",
      "_estimate: [[(100, array([0.56, 0.44])), (100, array([0.5, 0.5])), (100, array([1., 0.]))], [(1000, array([0.494, 0.506])), (1000, array([0.483, 0.517])), (1000, array([1., 0.]))]]\n",
      "_estimate: [[(100, array([0.53, 0.47])), (100, array([0.48, 0.52])), (100, array([1., 0.]))], [(1000, array([0.505, 0.495])), (1000, array([0.503, 0.497])), (1000, array([1., 0.]))]]\n",
      "_estimate: [[(100, array([0.52, 0.48])), (100, array([0.47, 0.53])), (100, array([1., 0.]))], [(1000, array([0.515, 0.485])), (1000, array([0.467, 0.533])), (1000, array([1., 0.]))]]\n",
      "_estimate: [[(100, array([0.52, 0.48])), (100, array([0.53, 0.47])), (100, array([1., 0.]))], [(1000, array([0.509, 0.491])), (1000, array([0.483, 0.517])), (1000, array([1., 0.]))]]\n",
      "_estimate: [[(100, array([0.55, 0.45])), (100, array([0.49, 0.51])), (100, array([1., 0.]))], [(1000, array([0.519, 0.481])), (1000, array([0.492, 0.508])), (1000, array([1., 0.]))]]\n",
      "_estimate: [[(100, array([0.51, 0.49])), (100, array([0.5, 0.5])), (100, array([1., 0.]))], [(1000, array([0.531, 0.469])), (1000, array([0.482, 0.518])), (1000, array([1., 0.]))]]\n",
      "_estimate: [[(100, array([0.48, 0.52])), (100, array([0.34, 0.66])), (100, array([1., 0.]))], [(1000, array([0.511, 0.489])), (1000, array([0.493, 0.507])), (1000, array([1., 0.]))]]\n",
      "_estimate: [[(100, array([0.53, 0.47])), (100, array([0.55, 0.45])), (100, array([1., 0.]))], [(1000, array([0.516, 0.484])), (1000, array([0.512, 0.488])), (1000, array([1., 0.]))]]\n"
     ]
    },
    {
     "name": "stderr",
     "output_type": "stream",
     "text": [
      " 51%|█████     | 51/100 [00:00<00:00, 50.95it/s]"
     ]
    },
    {
     "name": "stdout",
     "output_type": "stream",
     "text": [
      "_estimate: [[(100, array([0.53, 0.47])), (100, array([0.52, 0.48])), (100, array([1., 0.]))], [(1000, array([0.512, 0.488])), (1000, array([0.483, 0.517])), (1000, array([1., 0.]))]]\n",
      "_estimate: [[(100, array([0.6, 0.4])), (100, array([0.56, 0.44])), (100, array([1., 0.]))], [(1000, array([0.52, 0.48])), (1000, array([0.49, 0.51])), (1000, array([1., 0.]))]]\n",
      "_estimate: [[(100, array([0.51, 0.49])), (100, array([0.41, 0.59])), (100, array([1., 0.]))], [(1000, array([0.49, 0.51])), (1000, array([0.494, 0.506])), (1000, array([1., 0.]))]]\n",
      "_estimate: [[(100, array([0.47, 0.53])), (100, array([0.5, 0.5])), (100, array([1., 0.]))], [(1000, array([0.504, 0.496])), (1000, array([0.477, 0.523])), (1000, array([1., 0.]))]]\n",
      "_estimate: [[(100, array([0.46, 0.54])), (100, array([0.49, 0.51])), (100, array([1., 0.]))], [(1000, array([0.476, 0.524])), (1000, array([0.507, 0.493])), (1000, array([1., 0.]))]]\n",
      "_estimate: [[(100, array([0.57, 0.43])), (100, array([0.51, 0.49])), (100, array([1., 0.]))], [(1000, array([0.499, 0.501])), (1000, array([0.506, 0.494])), (1000, array([1., 0.]))]]\n",
      "_estimate: [[(100, array([0.53, 0.47])), (100, array([0.57, 0.43])), (100, array([1., 0.]))], [(1000, array([0.496, 0.504])), (1000, array([0.501, 0.499])), (1000, array([1., 0.]))]]\n",
      "_estimate: [[(100, array([0.43, 0.57])), (100, array([0.54, 0.46])), (100, array([1., 0.]))], [(1000, array([0.493, 0.507])), (1000, array([0.482, 0.518])), (1000, array([1., 0.]))]]\n",
      "_estimate: [[(100, array([0.59, 0.41])), (100, array([0.51, 0.49])), (100, array([1., 0.]))], [(1000, array([0.513, 0.487])), (1000, array([0.478, 0.522])), (1000, array([1., 0.]))]]\n"
     ]
    },
    {
     "name": "stderr",
     "output_type": "stream",
     "text": [
      " 62%|██████▏   | 62/100 [00:01<00:00, 47.76it/s]"
     ]
    },
    {
     "name": "stdout",
     "output_type": "stream",
     "text": [
      "_estimate: [[(100, array([0.48, 0.52])), (100, array([0.47, 0.53])), (100, array([1., 0.]))], [(1000, array([0.487, 0.513])), (1000, array([0.493, 0.507])), (1000, array([1., 0.]))]]\n",
      "_estimate: [[(100, array([0.53, 0.47])), (100, array([0.51, 0.49])), (100, array([1., 0.]))], [(1000, array([0.528, 0.472])), (1000, array([0.516, 0.484])), (1000, array([1., 0.]))]]\n",
      "_estimate: [[(100, array([0.47, 0.53])), (100, array([0.57, 0.43])), (100, array([1., 0.]))], [(1000, array([0.521, 0.479])), (1000, array([0.503, 0.497])), (1000, array([1., 0.]))]]\n",
      "_estimate: [[(100, array([0.56, 0.44])), (100, array([0.47, 0.53])), (100, array([1., 0.]))], [(1000, array([0.499, 0.501])), (1000, array([0.489, 0.511])), (1000, array([1., 0.]))]]\n",
      "_estimate: [[(100, array([0.6, 0.4])), (100, array([0.54, 0.46])), (100, array([1., 0.]))], [(1000, array([0.513, 0.487])), (1000, array([0.512, 0.488])), (1000, array([1., 0.]))]]\n",
      "_estimate: [[(100, array([0.45, 0.55])), (100, array([0.53, 0.47])), (100, array([1., 0.]))], [(1000, array([0.498, 0.502])), (1000, array([0.491, 0.509])), (1000, array([1., 0.]))]]\n",
      "_estimate: [[(100, array([0.49, 0.51])), (100, array([0.45, 0.55])), (100, array([1., 0.]))], [(1000, array([0.507, 0.493])), (1000, array([0.518, 0.482])), (1000, array([1., 0.]))]]\n",
      "_estimate: [[(100, array([0.45, 0.55])), (100, array([0.43, 0.57])), (100, array([1., 0.]))], [(1000, array([0.504, 0.496])), (1000, array([0.487, 0.513])), (1000, array([1., 0.]))]]\n",
      "_estimate: [[(100, array([0.49, 0.51])), (100, array([0.49, 0.51])), (100, array([1., 0.]))], [(1000, array([0.5, 0.5])), (1000, array([0.514, 0.486])), (1000, array([1., 0.]))]]\n",
      "_estimate: [[(100, array([0.5, 0.5])), (100, array([0.5, 0.5])), (100, array([1., 0.]))], [(1000, array([0.498, 0.502])), (1000, array([0.474, 0.526])), (1000, array([1., 0.]))]]\n",
      "_estimate: [[(100, array([0.48, 0.52])), (100, array([0.56, 0.44])), (100, array([1., 0.]))], [(1000, array([0.497, 0.503])), (1000, array([0.508, 0.492])), (1000, array([1., 0.]))]]\n",
      "_estimate: [[(100, array([0.54, 0.46])), (100, array([0.44, 0.56])), (100, array([1., 0.]))], [(1000, array([0.491, 0.509])), (1000, array([0.489, 0.511])), (1000, array([1., 0.]))]]\n"
     ]
    },
    {
     "name": "stderr",
     "output_type": "stream",
     "text": [
      " 75%|███████▌  | 75/100 [00:01<00:00, 54.20it/s]"
     ]
    },
    {
     "name": "stdout",
     "output_type": "stream",
     "text": [
      "_estimate: [[(100, array([0.46, 0.54])), (100, array([0.55, 0.45])), (100, array([1., 0.]))], [(1000, array([0.49, 0.51])), (1000, array([0.538, 0.462])), (1000, array([1., 0.]))]]\n",
      "_estimate: [[(100, array([0.51, 0.49])), (100, array([0.53, 0.47])), (100, array([1., 0.]))], [(1000, array([0.515, 0.485])), (1000, array([0.504, 0.496])), (1000, array([1., 0.]))]]\n",
      "_estimate: [[(100, array([0.62, 0.38])), (100, array([0.49, 0.51])), (100, array([1., 0.]))], [(1000, array([0.503, 0.497])), (1000, array([0.498, 0.502])), (1000, array([1., 0.]))]]\n",
      "_estimate: [[(100, array([0.51, 0.49])), (100, array([0.52, 0.48])), (100, array([1., 0.]))], [(1000, array([0.495, 0.505])), (1000, array([0.506, 0.494])), (1000, array([1., 0.]))]]\n",
      "_estimate: [[(100, array([0.59, 0.41])), (100, array([0.44, 0.56])), (100, array([1., 0.]))], [(1000, array([0.492, 0.508])), (1000, array([0.485, 0.515])), (1000, array([1., 0.]))]]\n",
      "_estimate: [[(100, array([0.52, 0.48])), (100, array([0.53, 0.47])), (100, array([1., 0.]))], [(1000, array([0.489, 0.511])), (1000, array([0.53, 0.47])), (1000, array([1., 0.]))]]\n",
      "_estimate: [[(100, array([0.45, 0.55])), (100, array([0.55, 0.45])), (100, array([1., 0.]))], [(1000, array([0.512, 0.488])), (1000, array([0.48, 0.52])), (1000, array([1., 0.]))]]\n",
      "_estimate: [[(100, array([0.47, 0.53])), (100, array([0.53, 0.47])), (100, array([1., 0.]))], [(1000, array([0.491, 0.509])), (1000, array([0.503, 0.497])), (1000, array([1., 0.]))]]\n",
      "_estimate: [[(100, array([0.44, 0.56])), (100, array([0.52, 0.48])), (100, array([1., 0.]))], [(1000, array([0.503, 0.497])), (1000, array([0.475, 0.525])), (1000, array([1., 0.]))]]\n",
      "_estimate: [[(100, array([0.5, 0.5])), (100, array([0.58, 0.42])), (100, array([1., 0.]))], [(1000, array([0.483, 0.517])), (1000, array([0.518, 0.482])), (1000, array([1., 0.]))]]\n",
      "_estimate: [[(100, array([0.53, 0.47])), (100, array([0.53, 0.47])), (100, array([1., 0.]))], [(1000, array([0.522, 0.478])), (1000, array([0.497, 0.503])), (1000, array([1., 0.]))]]\n",
      "_estimate: [[(100, array([0.5, 0.5])), (100, array([0.54, 0.46])), (100, array([1., 0.]))], [(1000, array([0.484, 0.516])), (1000, array([0.5, 0.5])), (1000, array([1., 0.]))]]\n",
      "_estimate: [[(100, array([0.51, 0.49])), (100, array([0.56, 0.44])), (100, array([1., 0.]))], [(1000, array([0.5, 0.5])), (1000, array([0.486, 0.514])), (1000, array([1., 0.]))]]\n"
     ]
    },
    {
     "name": "stderr",
     "output_type": "stream",
     "text": [
      " 87%|████████▋ | 87/100 [00:01<00:00, 52.25it/s]"
     ]
    },
    {
     "name": "stdout",
     "output_type": "stream",
     "text": [
      "_estimate: [[(100, array([0.39, 0.61])), (100, array([0.43, 0.57])), (100, array([1., 0.]))], [(1000, array([0.462, 0.538])), (1000, array([0.449, 0.551])), (1000, array([1., 0.]))]]\n",
      "_estimate: [[(100, array([0.44, 0.56])), (100, array([0.48, 0.52])), (100, array([1., 0.]))], [(1000, array([0.513, 0.487])), (1000, array([0.511, 0.489])), (1000, array([1., 0.]))]]\n",
      "_estimate: [[(100, array([0.48, 0.52])), (100, array([0.43, 0.57])), (100, array([1., 0.]))], [(1000, array([0.498, 0.502])), (1000, array([0.497, 0.503])), (1000, array([1., 0.]))]]\n",
      "_estimate: [[(100, array([0.52, 0.48])), (100, array([0.6, 0.4])), (100, array([1., 0.]))], [(1000, array([0.487, 0.513])), (1000, array([0.511, 0.489])), (1000, array([1., 0.]))]]\n",
      "_estimate: [[(100, array([0.43, 0.57])), (100, array([0.48, 0.52])), (100, array([1., 0.]))], [(1000, array([0.5, 0.5])), (1000, array([0.484, 0.516])), (1000, array([1., 0.]))]]\n",
      "_estimate: [[(100, array([0.53, 0.47])), (100, array([0.51, 0.49])), (100, array([1., 0.]))], [(1000, array([0.506, 0.494])), (1000, array([0.496, 0.504])), (1000, array([1., 0.]))]]\n",
      "_estimate: [[(100, array([0.56, 0.44])), (100, array([0.39, 0.61])), (100, array([1., 0.]))], [(1000, array([0.543, 0.457])), (1000, array([0.501, 0.499])), (1000, array([1., 0.]))]]\n",
      "_estimate: [[(100, array([0.49, 0.51])), (100, array([0.5, 0.5])), (100, array([1., 0.]))], [(1000, array([0.486, 0.514])), (1000, array([0.502, 0.498])), (1000, array([1., 0.]))]]\n",
      "_estimate: [[(100, array([0.59, 0.41])), (100, array([0.52, 0.48])), (100, array([1., 0.]))], [(1000, array([0.493, 0.507])), (1000, array([0.479, 0.521])), (1000, array([1., 0.]))]]\n",
      "_estimate: [[(100, array([0.48, 0.52])), (100, array([0.43, 0.57])), (100, array([1., 0.]))], [(1000, array([0.491, 0.509])), (1000, array([0.468, 0.532])), (1000, array([1., 0.]))]]\n"
     ]
    },
    {
     "name": "stderr",
     "output_type": "stream",
     "text": [
      "100%|██████████| 100/100 [00:01<00:00, 53.18it/s]"
     ]
    },
    {
     "name": "stdout",
     "output_type": "stream",
     "text": [
      "_estimate: [[(100, array([0.56, 0.44])), (100, array([0.58, 0.42])), (100, array([1., 0.]))], [(1000, array([0.515, 0.485])), (1000, array([0.508, 0.492])), (1000, array([1., 0.]))]]\n",
      "_estimate: [[(100, array([0.42, 0.58])), (100, array([0.49, 0.51])), (100, array([1., 0.]))], [(1000, array([0.461, 0.539])), (1000, array([0.512, 0.488])), (1000, array([1., 0.]))]]\n",
      "_estimate: [[(100, array([0.57, 0.43])), (100, array([0.42, 0.58])), (100, array([1., 0.]))], [(1000, array([0.505, 0.495])), (1000, array([0.498, 0.502])), (1000, array([1., 0.]))]]\n",
      "_estimate: [[(100, array([0.48, 0.52])), (100, array([0.48, 0.52])), (100, array([1., 0.]))], [(1000, array([0.482, 0.518])), (1000, array([0.485, 0.515])), (1000, array([1., 0.]))]]\n",
      "_estimate: [[(100, array([0.48, 0.52])), (100, array([0.47, 0.53])), (100, array([1., 0.]))], [(1000, array([0.465, 0.535])), (1000, array([0.466, 0.534])), (1000, array([1., 0.]))]]\n",
      "_estimate: [[(100, array([0.53, 0.47])), (100, array([0.47, 0.53])), (100, array([1., 0.]))], [(1000, array([0.499, 0.501])), (1000, array([0.461, 0.539])), (1000, array([1., 0.]))]]\n",
      "_estimate: [[(100, array([0.5, 0.5])), (100, array([0.46, 0.54])), (100, array([1., 0.]))], [(1000, array([0.484, 0.516])), (1000, array([0.516, 0.484])), (1000, array([1., 0.]))]]\n",
      "_estimate: [[(100, array([0.51, 0.49])), (100, array([0.51, 0.49])), (100, array([1., 0.]))], [(1000, array([0.474, 0.526])), (1000, array([0.488, 0.512])), (1000, array([1., 0.]))]]\n",
      "_estimate: [[(100, array([0.49, 0.51])), (100, array([0.49, 0.51])), (100, array([1., 0.]))], [(1000, array([0.49, 0.51])), (1000, array([0.503, 0.497])), (1000, array([1., 0.]))]]\n",
      "_estimate: [[(100, array([0.5, 0.5])), (100, array([0.58, 0.42])), (100, array([1., 0.]))], [(1000, array([0.511, 0.489])), (1000, array([0.483, 0.517])), (1000, array([1., 0.]))]]\n",
      "_estimate: [[(100, array([0.45, 0.55])), (100, array([0.5, 0.5])), (100, array([1., 0.]))], [(1000, array([0.472, 0.528])), (1000, array([0.501, 0.499])), (1000, array([1., 0.]))]]\n",
      "_estimate: [[(100, array([0.43, 0.57])), (100, array([0.52, 0.48])), (100, array([1., 0.]))], [(1000, array([0.489, 0.511])), (1000, array([0.482, 0.518])), (1000, array([1., 0.]))]]\n",
      "_estimate: [[(100, array([0.52, 0.48])), (100, array([0.58, 0.42])), (100, array([1., 0.]))], [(1000, array([0.512, 0.488])), (1000, array([0.502, 0.498])), (1000, array([1., 0.]))]]\n",
      "elapsed_time:0.03155805269877116[min]\n",
      "\n",
      "Case 4: seed=104\n",
      "Parametorization: True\n",
      "Type of qtomography: StandardQst\n",
      "Estimator: LinearEstimator"
     ]
    },
    {
     "name": "stderr",
     "output_type": "stream",
     "text": [
      "\n",
      "  6%|▌         | 6/100 [00:00<00:01, 51.39it/s]"
     ]
    },
    {
     "name": "stdout",
     "output_type": "stream",
     "text": [
      "\n",
      "_estimate: [[(100, array([0.5, 0.5])), (100, array([0.53, 0.47])), (100, array([1., 0.]))], [(1000, array([0.497, 0.503])), (1000, array([0.488, 0.512])), (1000, array([1., 0.]))]]\n",
      "_estimate: [[(100, array([0.48, 0.52])), (100, array([0.57, 0.43])), (100, array([1., 0.]))], [(1000, array([0.51, 0.49])), (1000, array([0.542, 0.458])), (1000, array([1., 0.]))]]\n",
      "_estimate: [[(100, array([0.51, 0.49])), (100, array([0.42, 0.58])), (100, array([1., 0.]))], [(1000, array([0.494, 0.506])), (1000, array([0.502, 0.498])), (1000, array([1., 0.]))]]\n",
      "_estimate: [[(100, array([0.4, 0.6])), (100, array([0.45, 0.55])), (100, array([1., 0.]))], [(1000, array([0.478, 0.522])), (1000, array([0.479, 0.521])), (1000, array([1., 0.]))]]\n",
      "_estimate: [[(100, array([0.55, 0.45])), (100, array([0.57, 0.43])), (100, array([1., 0.]))], [(1000, array([0.47, 0.53])), (1000, array([0.488, 0.512])), (1000, array([1., 0.]))]]\n",
      "_estimate: [[(100, array([0.53, 0.47])), (100, array([0.6, 0.4])), (100, array([1., 0.]))], [(1000, array([0.497, 0.503])), (1000, array([0.518, 0.482])), (1000, array([1., 0.]))]]\n",
      "_estimate: [[(100, array([0.52, 0.48])), (100, array([0.54, 0.46])), (100, array([1., 0.]))], [(1000, array([0.488, 0.512])), (1000, array([0.501, 0.499])), (1000, array([1., 0.]))]]\n",
      "_estimate: [[(100, array([0.52, 0.48])), (100, array([0.5, 0.5])), (100, array([1., 0.]))], [(1000, array([0.493, 0.507])), (1000, array([0.516, 0.484])), (1000, array([1., 0.]))]]\n",
      "_estimate: [[(100, array([0.44, 0.56])), (100, array([0.45, 0.55])), (100, array([1., 0.]))], [(1000, array([0.495, 0.505])), (1000, array([0.484, 0.516])), (1000, array([1., 0.]))]]\n",
      "_estimate: [[(100, array([0.51, 0.49])), (100, array([0.47, 0.53])), (100, array([1., 0.]))], [(1000, array([0.532, 0.468])), (1000, array([0.493, 0.507])), (1000, array([1., 0.]))]]\n"
     ]
    },
    {
     "name": "stderr",
     "output_type": "stream",
     "text": [
      " 19%|█▉        | 19/100 [00:00<00:01, 54.63it/s]"
     ]
    },
    {
     "name": "stdout",
     "output_type": "stream",
     "text": [
      "_estimate: [[(100, array([0.61, 0.39])), (100, array([0.53, 0.47])), (100, array([1., 0.]))], [(1000, array([0.512, 0.488])), (1000, array([0.515, 0.485])), (1000, array([1., 0.]))]]\n",
      "_estimate: [[(100, array([0.51, 0.49])), (100, array([0.41, 0.59])), (100, array([1., 0.]))], [(1000, array([0.506, 0.494])), (1000, array([0.487, 0.513])), (1000, array([1., 0.]))]]\n",
      "_estimate: [[(100, array([0.43, 0.57])), (100, array([0.47, 0.53])), (100, array([1., 0.]))], [(1000, array([0.494, 0.506])), (1000, array([0.493, 0.507])), (1000, array([1., 0.]))]]\n",
      "_estimate: [[(100, array([0.54, 0.46])), (100, array([0.54, 0.46])), (100, array([1., 0.]))], [(1000, array([0.5, 0.5])), (1000, array([0.518, 0.482])), (1000, array([1., 0.]))]]\n",
      "_estimate: [[(100, array([0.48, 0.52])), (100, array([0.44, 0.56])), (100, array([1., 0.]))], [(1000, array([0.485, 0.515])), (1000, array([0.483, 0.517])), (1000, array([1., 0.]))]]\n",
      "_estimate: [[(100, array([0.43, 0.57])), (100, array([0.6, 0.4])), (100, array([1., 0.]))], [(1000, array([0.47, 0.53])), (1000, array([0.498, 0.502])), (1000, array([1., 0.]))]]\n",
      "_estimate: [[(100, array([0.54, 0.46])), (100, array([0.53, 0.47])), (100, array([1., 0.]))], [(1000, array([0.53, 0.47])), (1000, array([0.489, 0.511])), (1000, array([1., 0.]))]]\n",
      "_estimate: [[(100, array([0.57, 0.43])), (100, array([0.45, 0.55])), (100, array([1., 0.]))], [(1000, array([0.508, 0.492])), (1000, array([0.497, 0.503])), (1000, array([1., 0.]))]]\n",
      "_estimate: [[(100, array([0.44, 0.56])), (100, array([0.4, 0.6])), (100, array([1., 0.]))], [(1000, array([0.515, 0.485])), (1000, array([0.509, 0.491])), (1000, array([1., 0.]))]]\n",
      "_estimate: [[(100, array([0.55, 0.45])), (100, array([0.58, 0.42])), (100, array([1., 0.]))], [(1000, array([0.484, 0.516])), (1000, array([0.521, 0.479])), (1000, array([1., 0.]))]]\n",
      "_estimate: [[(100, array([0.57, 0.43])), (100, array([0.52, 0.48])), (100, array([1., 0.]))], [(1000, array([0.523, 0.477])), (1000, array([0.496, 0.504])), (1000, array([1., 0.]))]]\n",
      "_estimate: [[(100, array([0.56, 0.44])), (100, array([0.48, 0.52])), (100, array([1., 0.]))], [(1000, array([0.523, 0.477])), (1000, array([0.482, 0.518])), (1000, array([1., 0.]))]]\n",
      "_estimate: [[(100, array([0.52, 0.48])), (100, array([0.49, 0.51])), (100, array([1., 0.]))], [(1000, array([0.512, 0.488])), (1000, array([0.492, 0.508])), (1000, array([1., 0.]))]]\n"
     ]
    },
    {
     "name": "stderr",
     "output_type": "stream",
     "text": [
      " 32%|███▏      | 32/100 [00:00<00:01, 58.14it/s]"
     ]
    },
    {
     "name": "stdout",
     "output_type": "stream",
     "text": [
      "_estimate: [[(100, array([0.52, 0.48])), (100, array([0.52, 0.48])), (100, array([1., 0.]))], [(1000, array([0.511, 0.489])), (1000, array([0.472, 0.528])), (1000, array([1., 0.]))]]\n",
      "_estimate: [[(100, array([0.58, 0.42])), (100, array([0.42, 0.58])), (100, array([1., 0.]))], [(1000, array([0.538, 0.462])), (1000, array([0.496, 0.504])), (1000, array([1., 0.]))]]\n",
      "_estimate: [[(100, array([0.5, 0.5])), (100, array([0.52, 0.48])), (100, array([1., 0.]))], [(1000, array([0.522, 0.478])), (1000, array([0.475, 0.525])), (1000, array([1., 0.]))]]\n",
      "_estimate: [[(100, array([0.54, 0.46])), (100, array([0.49, 0.51])), (100, array([1., 0.]))], [(1000, array([0.492, 0.508])), (1000, array([0.497, 0.503])), (1000, array([1., 0.]))]]\n",
      "_estimate: [[(100, array([0.53, 0.47])), (100, array([0.42, 0.58])), (100, array([1., 0.]))], [(1000, array([0.497, 0.503])), (1000, array([0.485, 0.515])), (1000, array([1., 0.]))]]\n",
      "_estimate: [[(100, array([0.48, 0.52])), (100, array([0.5, 0.5])), (100, array([1., 0.]))], [(1000, array([0.508, 0.492])), (1000, array([0.489, 0.511])), (1000, array([1., 0.]))]]\n",
      "_estimate: [[(100, array([0.54, 0.46])), (100, array([0.49, 0.51])), (100, array([1., 0.]))], [(1000, array([0.485, 0.515])), (1000, array([0.497, 0.503])), (1000, array([1., 0.]))]]\n",
      "_estimate: [[(100, array([0.41, 0.59])), (100, array([0.46, 0.54])), (100, array([1., 0.]))], [(1000, array([0.495, 0.505])), (1000, array([0.515, 0.485])), (1000, array([1., 0.]))]]\n",
      "_estimate: [[(100, array([0.58, 0.42])), (100, array([0.53, 0.47])), (100, array([1., 0.]))], [(1000, array([0.525, 0.475])), (1000, array([0.494, 0.506])), (1000, array([1., 0.]))]]\n",
      "_estimate: [[(100, array([0.58, 0.42])), (100, array([0.44, 0.56])), (100, array([1., 0.]))], [(1000, array([0.5, 0.5])), (1000, array([0.509, 0.491])), (1000, array([1., 0.]))]]\n",
      "_estimate: [[(100, array([0.48, 0.52])), (100, array([0.52, 0.48])), (100, array([1., 0.]))], [(1000, array([0.5, 0.5])), (1000, array([0.482, 0.518])), (1000, array([1., 0.]))]]\n",
      "_estimate: [[(100, array([0.51, 0.49])), (100, array([0.57, 0.43])), (100, array([1., 0.]))], [(1000, array([0.512, 0.488])), (1000, array([0.531, 0.469])), (1000, array([1., 0.]))]]\n",
      "_estimate: [[(100, array([0.54, 0.46])), (100, array([0.55, 0.45])), (100, array([1., 0.]))], [(1000, array([0.502, 0.498])), (1000, array([0.504, 0.496])), (1000, array([1., 0.]))]]\n",
      "_estimate: [[(100, array([0.47, 0.53])), (100, array([0.56, 0.44])), (100, array([1., 0.]))], [(1000, array([0.489, 0.511])), (1000, array([0.468, 0.532])), (1000, array([1., 0.]))]]\n"
     ]
    },
    {
     "name": "stderr",
     "output_type": "stream",
     "text": [
      " 46%|████▌     | 46/100 [00:00<00:00, 61.63it/s]"
     ]
    },
    {
     "name": "stdout",
     "output_type": "stream",
     "text": [
      "_estimate: [[(100, array([0.5, 0.5])), (100, array([0.44, 0.56])), (100, array([1., 0.]))], [(1000, array([0.491, 0.509])), (1000, array([0.487, 0.513])), (1000, array([1., 0.]))]]\n",
      "_estimate: [[(100, array([0.53, 0.47])), (100, array([0.5, 0.5])), (100, array([1., 0.]))], [(1000, array([0.491, 0.509])), (1000, array([0.487, 0.513])), (1000, array([1., 0.]))]]\n",
      "_estimate: [[(100, array([0.56, 0.44])), (100, array([0.45, 0.55])), (100, array([1., 0.]))], [(1000, array([0.495, 0.505])), (1000, array([0.505, 0.495])), (1000, array([1., 0.]))]]\n",
      "_estimate: [[(100, array([0.48, 0.52])), (100, array([0.44, 0.56])), (100, array([1., 0.]))], [(1000, array([0.487, 0.513])), (1000, array([0.497, 0.503])), (1000, array([1., 0.]))]]\n",
      "_estimate: [[(100, array([0.49, 0.51])), (100, array([0.45, 0.55])), (100, array([1., 0.]))], [(1000, array([0.492, 0.508])), (1000, array([0.482, 0.518])), (1000, array([1., 0.]))]]\n",
      "_estimate: [[(100, array([0.5, 0.5])), (100, array([0.44, 0.56])), (100, array([1., 0.]))], [(1000, array([0.504, 0.496])), (1000, array([0.504, 0.496])), (1000, array([1., 0.]))]]\n",
      "_estimate: [[(100, array([0.43, 0.57])), (100, array([0.48, 0.52])), (100, array([1., 0.]))], [(1000, array([0.491, 0.509])), (1000, array([0.472, 0.528])), (1000, array([1., 0.]))]]\n",
      "_estimate: [[(100, array([0.41, 0.59])), (100, array([0.5, 0.5])), (100, array([1., 0.]))], [(1000, array([0.544, 0.456])), (1000, array([0.48, 0.52])), (1000, array([1., 0.]))]]\n",
      "_estimate: [[(100, array([0.41, 0.59])), (100, array([0.52, 0.48])), (100, array([1., 0.]))], [(1000, array([0.476, 0.524])), (1000, array([0.529, 0.471])), (1000, array([1., 0.]))]]\n",
      "_estimate: [[(100, array([0.49, 0.51])), (100, array([0.48, 0.52])), (100, array([1., 0.]))], [(1000, array([0.485, 0.515])), (1000, array([0.488, 0.512])), (1000, array([1., 0.]))]]\n",
      "_estimate: [[(100, array([0.49, 0.51])), (100, array([0.38, 0.62])), (100, array([1., 0.]))], [(1000, array([0.497, 0.503])), (1000, array([0.491, 0.509])), (1000, array([1., 0.]))]]\n",
      "_estimate: [[(100, array([0.5, 0.5])), (100, array([0.52, 0.48])), (100, array([1., 0.]))], [(1000, array([0.465, 0.535])), (1000, array([0.481, 0.519])), (1000, array([1., 0.]))]]\n",
      "_estimate: [[(100, array([0.52, 0.48])), (100, array([0.47, 0.53])), (100, array([1., 0.]))], [(1000, array([0.493, 0.507])), (1000, array([0.498, 0.502])), (1000, array([1., 0.]))]]\n",
      "_estimate: [[(100, array([0.56, 0.44])), (100, array([0.51, 0.49])), (100, array([1., 0.]))], [(1000, array([0.487, 0.513])), (1000, array([0.509, 0.491])), (1000, array([1., 0.]))]]\n"
     ]
    },
    {
     "name": "stderr",
     "output_type": "stream",
     "text": [
      " 59%|█████▉    | 59/100 [00:00<00:00, 62.15it/s]"
     ]
    },
    {
     "name": "stdout",
     "output_type": "stream",
     "text": [
      "_estimate: [[(100, array([0.46, 0.54])), (100, array([0.53, 0.47])), (100, array([1., 0.]))], [(1000, array([0.484, 0.516])), (1000, array([0.496, 0.504])), (1000, array([1., 0.]))]]\n",
      "_estimate: [[(100, array([0.5, 0.5])), (100, array([0.59, 0.41])), (100, array([1., 0.]))], [(1000, array([0.487, 0.513])), (1000, array([0.508, 0.492])), (1000, array([1., 0.]))]]\n",
      "_estimate: [[(100, array([0.56, 0.44])), (100, array([0.5, 0.5])), (100, array([1., 0.]))], [(1000, array([0.5, 0.5])), (1000, array([0.489, 0.511])), (1000, array([1., 0.]))]]\n",
      "_estimate: [[(100, array([0.55, 0.45])), (100, array([0.55, 0.45])), (100, array([1., 0.]))], [(1000, array([0.48, 0.52])), (1000, array([0.498, 0.502])), (1000, array([1., 0.]))]]\n",
      "_estimate: [[(100, array([0.51, 0.49])), (100, array([0.47, 0.53])), (100, array([1., 0.]))], [(1000, array([0.499, 0.501])), (1000, array([0.489, 0.511])), (1000, array([1., 0.]))]]\n",
      "_estimate: [[(100, array([0.47, 0.53])), (100, array([0.47, 0.53])), (100, array([1., 0.]))], [(1000, array([0.491, 0.509])), (1000, array([0.5, 0.5])), (1000, array([1., 0.]))]]\n",
      "_estimate: [[(100, array([0.51, 0.49])), (100, array([0.5, 0.5])), (100, array([1., 0.]))], [(1000, array([0.508, 0.492])), (1000, array([0.52, 0.48])), (1000, array([1., 0.]))]]\n",
      "_estimate: [[(100, array([0.48, 0.52])), (100, array([0.42, 0.58])), (100, array([1., 0.]))], [(1000, array([0.51, 0.49])), (1000, array([0.504, 0.496])), (1000, array([1., 0.]))]]\n",
      "_estimate: [[(100, array([0.5, 0.5])), (100, array([0.37, 0.63])), (100, array([1., 0.]))], [(1000, array([0.512, 0.488])), (1000, array([0.498, 0.502])), (1000, array([1., 0.]))]]\n",
      "_estimate: [[(100, array([0.45, 0.55])), (100, array([0.48, 0.52])), (100, array([1., 0.]))], [(1000, array([0.481, 0.519])), (1000, array([0.479, 0.521])), (1000, array([1., 0.]))]]\n",
      "_estimate: [[(100, array([0.53, 0.47])), (100, array([0.65, 0.35])), (100, array([1., 0.]))], [(1000, array([0.5, 0.5])), (1000, array([0.508, 0.492])), (1000, array([1., 0.]))]]\n",
      "_estimate: [[(100, array([0.44, 0.56])), (100, array([0.48, 0.52])), (100, array([1., 0.]))], [(1000, array([0.495, 0.505])), (1000, array([0.515, 0.485])), (1000, array([1., 0.]))]]\n",
      "_estimate: [[(100, array([0.52, 0.48])), (100, array([0.47, 0.53])), (100, array([1., 0.]))], [(1000, array([0.497, 0.503])), (1000, array([0.488, 0.512])), (1000, array([1., 0.]))]]\n",
      "_estimate: [[(100, array([0.5, 0.5])), (100, array([0.46, 0.54])), (100, array([1., 0.]))], [(1000, array([0.509, 0.491])), (1000, array([0.492, 0.508])), (1000, array([1., 0.]))]]\n"
     ]
    },
    {
     "name": "stderr",
     "output_type": "stream",
     "text": [
      " 73%|███████▎  | 73/100 [00:01<00:00, 63.14it/s]"
     ]
    },
    {
     "name": "stdout",
     "output_type": "stream",
     "text": [
      "_estimate: [[(100, array([0.43, 0.57])), (100, array([0.66, 0.34])), (100, array([1., 0.]))], [(1000, array([0.478, 0.522])), (1000, array([0.527, 0.473])), (1000, array([1., 0.]))]]\n",
      "_estimate: [[(100, array([0.46, 0.54])), (100, array([0.5, 0.5])), (100, array([1., 0.]))], [(1000, array([0.526, 0.474])), (1000, array([0.511, 0.489])), (1000, array([1., 0.]))]]\n",
      "_estimate: [[(100, array([0.43, 0.57])), (100, array([0.47, 0.53])), (100, array([1., 0.]))], [(1000, array([0.504, 0.496])), (1000, array([0.491, 0.509])), (1000, array([1., 0.]))]]\n",
      "_estimate: [[(100, array([0.5, 0.5])), (100, array([0.52, 0.48])), (100, array([1., 0.]))], [(1000, array([0.498, 0.502])), (1000, array([0.496, 0.504])), (1000, array([1., 0.]))]]\n",
      "_estimate: [[(100, array([0.53, 0.47])), (100, array([0.5, 0.5])), (100, array([1., 0.]))], [(1000, array([0.501, 0.499])), (1000, array([0.502, 0.498])), (1000, array([1., 0.]))]]\n",
      "_estimate: [[(100, array([0.49, 0.51])), (100, array([0.49, 0.51])), (100, array([1., 0.]))], [(1000, array([0.496, 0.504])), (1000, array([0.533, 0.467])), (1000, array([1., 0.]))]]\n",
      "_estimate: [[(100, array([0.57, 0.43])), (100, array([0.61, 0.39])), (100, array([1., 0.]))], [(1000, array([0.515, 0.485])), (1000, array([0.477, 0.523])), (1000, array([1., 0.]))]]\n",
      "_estimate: [[(100, array([0.49, 0.51])), (100, array([0.52, 0.48])), (100, array([1., 0.]))], [(1000, array([0.469, 0.531])), (1000, array([0.518, 0.482])), (1000, array([1., 0.]))]]\n",
      "_estimate: [[(100, array([0.54, 0.46])), (100, array([0.47, 0.53])), (100, array([1., 0.]))], [(1000, array([0.508, 0.492])), (1000, array([0.509, 0.491])), (1000, array([1., 0.]))]]\n",
      "_estimate: [[(100, array([0.51, 0.49])), (100, array([0.44, 0.56])), (100, array([1., 0.]))], [(1000, array([0.504, 0.496])), (1000, array([0.463, 0.537])), (1000, array([1., 0.]))]]\n",
      "_estimate: [[(100, array([0.43, 0.57])), (100, array([0.55, 0.45])), (100, array([1., 0.]))], [(1000, array([0.497, 0.503])), (1000, array([0.499, 0.501])), (1000, array([1., 0.]))]]\n",
      "_estimate: [[(100, array([0.46, 0.54])), (100, array([0.43, 0.57])), (100, array([1., 0.]))], [(1000, array([0.503, 0.497])), (1000, array([0.484, 0.516])), (1000, array([1., 0.]))]]\n",
      "_estimate: [[(100, array([0.47, 0.53])), (100, array([0.59, 0.41])), (100, array([1., 0.]))], [(1000, array([0.499, 0.501])), (1000, array([0.496, 0.504])), (1000, array([1., 0.]))]]\n",
      "_estimate: [[(100, array([0.53, 0.47])), (100, array([0.59, 0.41])), (100, array([1., 0.]))], [(1000, array([0.515, 0.485])), (1000, array([0.465, 0.535])), (1000, array([1., 0.]))]]\n"
     ]
    },
    {
     "name": "stderr",
     "output_type": "stream",
     "text": [
      " 87%|████████▋ | 87/100 [00:01<00:00, 64.69it/s]"
     ]
    },
    {
     "name": "stdout",
     "output_type": "stream",
     "text": [
      "_estimate: [[(100, array([0.43, 0.57])), (100, array([0.44, 0.56])), (100, array([1., 0.]))], [(1000, array([0.516, 0.484])), (1000, array([0.523, 0.477])), (1000, array([1., 0.]))]]\n",
      "_estimate: [[(100, array([0.46, 0.54])), (100, array([0.5, 0.5])), (100, array([1., 0.]))], [(1000, array([0.509, 0.491])), (1000, array([0.505, 0.495])), (1000, array([1., 0.]))]]\n",
      "_estimate: [[(100, array([0.48, 0.52])), (100, array([0.52, 0.48])), (100, array([1., 0.]))], [(1000, array([0.502, 0.498])), (1000, array([0.507, 0.493])), (1000, array([1., 0.]))]]\n",
      "_estimate: [[(100, array([0.44, 0.56])), (100, array([0.51, 0.49])), (100, array([1., 0.]))], [(1000, array([0.507, 0.493])), (1000, array([0.499, 0.501])), (1000, array([1., 0.]))]]\n",
      "_estimate: [[(100, array([0.47, 0.53])), (100, array([0.62, 0.38])), (100, array([1., 0.]))], [(1000, array([0.504, 0.496])), (1000, array([0.498, 0.502])), (1000, array([1., 0.]))]]\n",
      "_estimate: [[(100, array([0.46, 0.54])), (100, array([0.46, 0.54])), (100, array([1., 0.]))], [(1000, array([0.491, 0.509])), (1000, array([0.504, 0.496])), (1000, array([1., 0.]))]]\n",
      "_estimate: [[(100, array([0.49, 0.51])), (100, array([0.61, 0.39])), (100, array([1., 0.]))], [(1000, array([0.477, 0.523])), (1000, array([0.492, 0.508])), (1000, array([1., 0.]))]]\n",
      "_estimate: [[(100, array([0.52, 0.48])), (100, array([0.54, 0.46])), (100, array([1., 0.]))], [(1000, array([0.509, 0.491])), (1000, array([0.488, 0.512])), (1000, array([1., 0.]))]]\n",
      "_estimate: [[(100, array([0.53, 0.47])), (100, array([0.55, 0.45])), (100, array([1., 0.]))], [(1000, array([0.517, 0.483])), (1000, array([0.499, 0.501])), (1000, array([1., 0.]))]]\n",
      "_estimate: [[(100, array([0.48, 0.52])), (100, array([0.58, 0.42])), (100, array([1., 0.]))], [(1000, array([0.468, 0.532])), (1000, array([0.503, 0.497])), (1000, array([1., 0.]))]]\n",
      "_estimate: [[(100, array([0.42, 0.58])), (100, array([0.51, 0.49])), (100, array([1., 0.]))], [(1000, array([0.498, 0.502])), (1000, array([0.488, 0.512])), (1000, array([1., 0.]))]]\n",
      "_estimate: [[(100, array([0.61, 0.39])), (100, array([0.49, 0.51])), (100, array([1., 0.]))], [(1000, array([0.479, 0.521])), (1000, array([0.503, 0.497])), (1000, array([1., 0.]))]]\n",
      "_estimate: [[(100, array([0.44, 0.56])), (100, array([0.51, 0.49])), (100, array([1., 0.]))], [(1000, array([0.508, 0.492])), (1000, array([0.495, 0.505])), (1000, array([1., 0.]))]]\n",
      "_estimate: [[(100, array([0.5, 0.5])), (100, array([0.52, 0.48])), (100, array([1., 0.]))], [(1000, array([0.507, 0.493])), (1000, array([0.493, 0.507])), (1000, array([1., 0.]))]]\n"
     ]
    },
    {
     "name": "stderr",
     "output_type": "stream",
     "text": [
      "100%|██████████| 100/100 [00:01<00:00, 61.90it/s]"
     ]
    },
    {
     "name": "stdout",
     "output_type": "stream",
     "text": [
      "_estimate: [[(100, array([0.51, 0.49])), (100, array([0.45, 0.55])), (100, array([1., 0.]))], [(1000, array([0.501, 0.499])), (1000, array([0.521, 0.479])), (1000, array([1., 0.]))]]\n",
      "_estimate: [[(100, array([0.55, 0.45])), (100, array([0.56, 0.44])), (100, array([1., 0.]))], [(1000, array([0.505, 0.495])), (1000, array([0.495, 0.505])), (1000, array([1., 0.]))]]\n",
      "_estimate: [[(100, array([0.48, 0.52])), (100, array([0.44, 0.56])), (100, array([1., 0.]))], [(1000, array([0.503, 0.497])), (1000, array([0.492, 0.508])), (1000, array([1., 0.]))]]\n",
      "_estimate: [[(100, array([0.55, 0.45])), (100, array([0.45, 0.55])), (100, array([1., 0.]))], [(1000, array([0.497, 0.503])), (1000, array([0.485, 0.515])), (1000, array([1., 0.]))]]\n",
      "_estimate: [[(100, array([0.55, 0.45])), (100, array([0.5, 0.5])), (100, array([1., 0.]))], [(1000, array([0.503, 0.497])), (1000, array([0.483, 0.517])), (1000, array([1., 0.]))]]\n",
      "_estimate: [[(100, array([0.5, 0.5])), (100, array([0.45, 0.55])), (100, array([1., 0.]))], [(1000, array([0.487, 0.513])), (1000, array([0.494, 0.506])), (1000, array([1., 0.]))]]\n",
      "_estimate: [[(100, array([0.45, 0.55])), (100, array([0.5, 0.5])), (100, array([1., 0.]))], [(1000, array([0.497, 0.503])), (1000, array([0.492, 0.508])), (1000, array([1., 0.]))]]\n",
      "elapsed_time:0.02705526351928711[min]\n",
      "\n"
     ]
    },
    {
     "name": "stderr",
     "output_type": "stream",
     "text": [
      "\n"
     ]
    }
   ],
   "source": [
    "true_object = get_z0_1q(c_sys)\n",
    "num_data = [100, 1000]\n",
    "n_rep = 100\n",
    "seed_list = [100, 101, 102, 103, 104]\n",
    "\n",
    "case_name_list = [f\"seed={seed}\" for seed in seed_list]\n",
    "\n",
    "\n",
    "qtomography_list = [\n",
    "    StandardQst(tester_objects, on_para_eq_constraint=True, seed=seed)\n",
    "    for seed in seed_list\n",
    "]\n",
    "para_list = [True] * len(qtomography_list)\n",
    "\n",
    "estimator_list = [LinearEstimator()] * len(qtomography_list)\n",
    "\n",
    "estimation_results_list = []\n",
    "\n",
    "for i, name in enumerate(case_name_list):\n",
    "    qtomography = qtomography_list[i]\n",
    "    estimator = estimator_list[i]\n",
    "\n",
    "    start = time.time()\n",
    "    print(f\"Case {i}: {name}\")\n",
    "    print(f\"Parametorization: {para_list[i]}\")\n",
    "    print(f\"Type of qtomography: {qtomography.__class__.__name__}\")\n",
    "    print(f\"Estimator: {estimator.__class__.__name__}\")\n",
    "\n",
    "    estimation_results = data_analysis.estimate(\n",
    "        qtomography=qtomography,\n",
    "        true_object=true_object,\n",
    "        num_data=num_data,\n",
    "        estimator=estimator,\n",
    "        iteration=n_rep,\n",
    "    )\n",
    "    estimation_results_list.append(estimation_results)\n",
    "\n",
    "    elapsed_time = time.time() - start\n",
    "    print(\"elapsed_time:{0}\".format(elapsed_time / 60) + \"[min]\\n\")"
   ]
  },
  {
   "cell_type": "code",
   "execution_count": 129,
   "metadata": {
    "scrolled": false
   },
   "outputs": [
    {
     "name": "stderr",
     "output_type": "stream",
     "text": [
      "100%|██████████| 100/100 [00:00<00:00, 41425.22it/s]\n",
      "100%|██████████| 100/100 [00:00<00:00, 42992.05it/s]\n",
      "100%|██████████| 100/100 [00:00<00:00, 85458.52it/s]\n",
      "100%|██████████| 100/100 [00:00<00:00, 31307.79it/s]\n",
      "100%|██████████| 100/100 [00:00<00:00, 48753.97it/s]\n",
      "100%|██████████| 100/100 [00:00<00:00, 31467.51it/s]"
     ]
    },
    {
     "name": "stdout",
     "output_type": "stream",
     "text": [
      "calc_mse_prob_dists: 0.009932000000000003\n",
      "calc_mse_prob_dists: 0.0012387600000000017\n",
      "calc_mse_prob_dists: 0.01093\n",
      "calc_mse_prob_dists: 0.0007758800000000013\n"
     ]
    },
    {
     "name": "stderr",
     "output_type": "stream",
     "text": [
      "\n",
      "100%|██████████| 100/100 [00:00<00:00, 30395.71it/s]\n",
      "100%|██████████| 100/100 [00:00<00:00, 52494.42it/s]\n"
     ]
    },
    {
     "name": "stdout",
     "output_type": "stream",
     "text": [
      "calc_mse_prob_dists: 0.010766000000000006\n",
      "calc_mse_prob_dists: 0.001101440000000002\n",
      "calc_mse_prob_dists: 0.010675999999999996\n"
     ]
    },
    {
     "name": "stderr",
     "output_type": "stream",
     "text": [
      "100%|██████████| 100/100 [00:00<00:00, 38893.77it/s]\n",
      "100%|██████████| 100/100 [00:00<00:00, 11060.93it/s]\n"
     ]
    },
    {
     "name": "stdout",
     "output_type": "stream",
     "text": [
      "calc_mse_prob_dists: 0.0010529600000000012\n",
      "calc_mse_prob_dists: 0.011067999999999998\n",
      "calc_mse_prob_dists: 0.0009100400000000012\n",
      "call: calc_mse_empi_dists_analytical\n",
      "call: calc_mse_empi_dists_analytical\n"
     ]
    },
    {
     "data": {
      "application/vnd.plotly.v1+json": {
       "config": {
        "plotlyServerURL": "https://plot.ly"
       },
       "data": [
        {
         "mode": "lines+markers",
         "name": "Empirical distributions (seed=100)",
         "type": "scatter",
         "x": [
          100,
          1000
         ],
         "y": [
          0.009932000000000003,
          0.0012387600000000017
         ]
        },
        {
         "mode": "lines+markers",
         "name": "Empirical distributions (seed=101)",
         "type": "scatter",
         "x": [
          100,
          1000
         ],
         "y": [
          0.01093,
          0.0007758800000000013
         ]
        },
        {
         "mode": "lines+markers",
         "name": "Empirical distributions (seed=102)",
         "type": "scatter",
         "x": [
          100,
          1000
         ],
         "y": [
          0.010766000000000006,
          0.001101440000000002
         ]
        },
        {
         "mode": "lines+markers",
         "name": "Empirical distributions (seed=103)",
         "type": "scatter",
         "x": [
          100,
          1000
         ],
         "y": [
          0.010675999999999996,
          0.0010529600000000012
         ]
        },
        {
         "mode": "lines+markers",
         "name": "Empirical distributions (seed=104)",
         "type": "scatter",
         "x": [
          100,
          1000
         ],
         "y": [
          0.011067999999999998,
          0.0009100400000000012
         ]
        },
        {
         "mode": "lines+markers",
         "name": "Analytical result",
         "type": "scatter",
         "x": [
          100,
          1000
         ],
         "y": [
          0.010000000000000005,
          0.0010000000000000005
         ]
        }
       ],
       "layout": {
        "template": {
         "data": {
          "bar": [
           {
            "error_x": {
             "color": "#2a3f5f"
            },
            "error_y": {
             "color": "#2a3f5f"
            },
            "marker": {
             "line": {
              "color": "#E5ECF6",
              "width": 0.5
             }
            },
            "type": "bar"
           }
          ],
          "barpolar": [
           {
            "marker": {
             "line": {
              "color": "#E5ECF6",
              "width": 0.5
             }
            },
            "type": "barpolar"
           }
          ],
          "carpet": [
           {
            "aaxis": {
             "endlinecolor": "#2a3f5f",
             "gridcolor": "white",
             "linecolor": "white",
             "minorgridcolor": "white",
             "startlinecolor": "#2a3f5f"
            },
            "baxis": {
             "endlinecolor": "#2a3f5f",
             "gridcolor": "white",
             "linecolor": "white",
             "minorgridcolor": "white",
             "startlinecolor": "#2a3f5f"
            },
            "type": "carpet"
           }
          ],
          "choropleth": [
           {
            "colorbar": {
             "outlinewidth": 0,
             "ticks": ""
            },
            "type": "choropleth"
           }
          ],
          "contour": [
           {
            "colorbar": {
             "outlinewidth": 0,
             "ticks": ""
            },
            "colorscale": [
             [
              0,
              "#0d0887"
             ],
             [
              0.1111111111111111,
              "#46039f"
             ],
             [
              0.2222222222222222,
              "#7201a8"
             ],
             [
              0.3333333333333333,
              "#9c179e"
             ],
             [
              0.4444444444444444,
              "#bd3786"
             ],
             [
              0.5555555555555556,
              "#d8576b"
             ],
             [
              0.6666666666666666,
              "#ed7953"
             ],
             [
              0.7777777777777778,
              "#fb9f3a"
             ],
             [
              0.8888888888888888,
              "#fdca26"
             ],
             [
              1,
              "#f0f921"
             ]
            ],
            "type": "contour"
           }
          ],
          "contourcarpet": [
           {
            "colorbar": {
             "outlinewidth": 0,
             "ticks": ""
            },
            "type": "contourcarpet"
           }
          ],
          "heatmap": [
           {
            "colorbar": {
             "outlinewidth": 0,
             "ticks": ""
            },
            "colorscale": [
             [
              0,
              "#0d0887"
             ],
             [
              0.1111111111111111,
              "#46039f"
             ],
             [
              0.2222222222222222,
              "#7201a8"
             ],
             [
              0.3333333333333333,
              "#9c179e"
             ],
             [
              0.4444444444444444,
              "#bd3786"
             ],
             [
              0.5555555555555556,
              "#d8576b"
             ],
             [
              0.6666666666666666,
              "#ed7953"
             ],
             [
              0.7777777777777778,
              "#fb9f3a"
             ],
             [
              0.8888888888888888,
              "#fdca26"
             ],
             [
              1,
              "#f0f921"
             ]
            ],
            "type": "heatmap"
           }
          ],
          "heatmapgl": [
           {
            "colorbar": {
             "outlinewidth": 0,
             "ticks": ""
            },
            "colorscale": [
             [
              0,
              "#0d0887"
             ],
             [
              0.1111111111111111,
              "#46039f"
             ],
             [
              0.2222222222222222,
              "#7201a8"
             ],
             [
              0.3333333333333333,
              "#9c179e"
             ],
             [
              0.4444444444444444,
              "#bd3786"
             ],
             [
              0.5555555555555556,
              "#d8576b"
             ],
             [
              0.6666666666666666,
              "#ed7953"
             ],
             [
              0.7777777777777778,
              "#fb9f3a"
             ],
             [
              0.8888888888888888,
              "#fdca26"
             ],
             [
              1,
              "#f0f921"
             ]
            ],
            "type": "heatmapgl"
           }
          ],
          "histogram": [
           {
            "marker": {
             "colorbar": {
              "outlinewidth": 0,
              "ticks": ""
             }
            },
            "type": "histogram"
           }
          ],
          "histogram2d": [
           {
            "colorbar": {
             "outlinewidth": 0,
             "ticks": ""
            },
            "colorscale": [
             [
              0,
              "#0d0887"
             ],
             [
              0.1111111111111111,
              "#46039f"
             ],
             [
              0.2222222222222222,
              "#7201a8"
             ],
             [
              0.3333333333333333,
              "#9c179e"
             ],
             [
              0.4444444444444444,
              "#bd3786"
             ],
             [
              0.5555555555555556,
              "#d8576b"
             ],
             [
              0.6666666666666666,
              "#ed7953"
             ],
             [
              0.7777777777777778,
              "#fb9f3a"
             ],
             [
              0.8888888888888888,
              "#fdca26"
             ],
             [
              1,
              "#f0f921"
             ]
            ],
            "type": "histogram2d"
           }
          ],
          "histogram2dcontour": [
           {
            "colorbar": {
             "outlinewidth": 0,
             "ticks": ""
            },
            "colorscale": [
             [
              0,
              "#0d0887"
             ],
             [
              0.1111111111111111,
              "#46039f"
             ],
             [
              0.2222222222222222,
              "#7201a8"
             ],
             [
              0.3333333333333333,
              "#9c179e"
             ],
             [
              0.4444444444444444,
              "#bd3786"
             ],
             [
              0.5555555555555556,
              "#d8576b"
             ],
             [
              0.6666666666666666,
              "#ed7953"
             ],
             [
              0.7777777777777778,
              "#fb9f3a"
             ],
             [
              0.8888888888888888,
              "#fdca26"
             ],
             [
              1,
              "#f0f921"
             ]
            ],
            "type": "histogram2dcontour"
           }
          ],
          "mesh3d": [
           {
            "colorbar": {
             "outlinewidth": 0,
             "ticks": ""
            },
            "type": "mesh3d"
           }
          ],
          "parcoords": [
           {
            "line": {
             "colorbar": {
              "outlinewidth": 0,
              "ticks": ""
             }
            },
            "type": "parcoords"
           }
          ],
          "pie": [
           {
            "automargin": true,
            "type": "pie"
           }
          ],
          "scatter": [
           {
            "marker": {
             "colorbar": {
              "outlinewidth": 0,
              "ticks": ""
             }
            },
            "type": "scatter"
           }
          ],
          "scatter3d": [
           {
            "line": {
             "colorbar": {
              "outlinewidth": 0,
              "ticks": ""
             }
            },
            "marker": {
             "colorbar": {
              "outlinewidth": 0,
              "ticks": ""
             }
            },
            "type": "scatter3d"
           }
          ],
          "scattercarpet": [
           {
            "marker": {
             "colorbar": {
              "outlinewidth": 0,
              "ticks": ""
             }
            },
            "type": "scattercarpet"
           }
          ],
          "scattergeo": [
           {
            "marker": {
             "colorbar": {
              "outlinewidth": 0,
              "ticks": ""
             }
            },
            "type": "scattergeo"
           }
          ],
          "scattergl": [
           {
            "marker": {
             "colorbar": {
              "outlinewidth": 0,
              "ticks": ""
             }
            },
            "type": "scattergl"
           }
          ],
          "scattermapbox": [
           {
            "marker": {
             "colorbar": {
              "outlinewidth": 0,
              "ticks": ""
             }
            },
            "type": "scattermapbox"
           }
          ],
          "scatterpolar": [
           {
            "marker": {
             "colorbar": {
              "outlinewidth": 0,
              "ticks": ""
             }
            },
            "type": "scatterpolar"
           }
          ],
          "scatterpolargl": [
           {
            "marker": {
             "colorbar": {
              "outlinewidth": 0,
              "ticks": ""
             }
            },
            "type": "scatterpolargl"
           }
          ],
          "scatterternary": [
           {
            "marker": {
             "colorbar": {
              "outlinewidth": 0,
              "ticks": ""
             }
            },
            "type": "scatterternary"
           }
          ],
          "surface": [
           {
            "colorbar": {
             "outlinewidth": 0,
             "ticks": ""
            },
            "colorscale": [
             [
              0,
              "#0d0887"
             ],
             [
              0.1111111111111111,
              "#46039f"
             ],
             [
              0.2222222222222222,
              "#7201a8"
             ],
             [
              0.3333333333333333,
              "#9c179e"
             ],
             [
              0.4444444444444444,
              "#bd3786"
             ],
             [
              0.5555555555555556,
              "#d8576b"
             ],
             [
              0.6666666666666666,
              "#ed7953"
             ],
             [
              0.7777777777777778,
              "#fb9f3a"
             ],
             [
              0.8888888888888888,
              "#fdca26"
             ],
             [
              1,
              "#f0f921"
             ]
            ],
            "type": "surface"
           }
          ],
          "table": [
           {
            "cells": {
             "fill": {
              "color": "#EBF0F8"
             },
             "line": {
              "color": "white"
             }
            },
            "header": {
             "fill": {
              "color": "#C8D4E3"
             },
             "line": {
              "color": "white"
             }
            },
            "type": "table"
           }
          ]
         },
         "layout": {
          "annotationdefaults": {
           "arrowcolor": "#2a3f5f",
           "arrowhead": 0,
           "arrowwidth": 1
          },
          "coloraxis": {
           "colorbar": {
            "outlinewidth": 0,
            "ticks": ""
           }
          },
          "colorscale": {
           "diverging": [
            [
             0,
             "#8e0152"
            ],
            [
             0.1,
             "#c51b7d"
            ],
            [
             0.2,
             "#de77ae"
            ],
            [
             0.3,
             "#f1b6da"
            ],
            [
             0.4,
             "#fde0ef"
            ],
            [
             0.5,
             "#f7f7f7"
            ],
            [
             0.6,
             "#e6f5d0"
            ],
            [
             0.7,
             "#b8e186"
            ],
            [
             0.8,
             "#7fbc41"
            ],
            [
             0.9,
             "#4d9221"
            ],
            [
             1,
             "#276419"
            ]
           ],
           "sequential": [
            [
             0,
             "#0d0887"
            ],
            [
             0.1111111111111111,
             "#46039f"
            ],
            [
             0.2222222222222222,
             "#7201a8"
            ],
            [
             0.3333333333333333,
             "#9c179e"
            ],
            [
             0.4444444444444444,
             "#bd3786"
            ],
            [
             0.5555555555555556,
             "#d8576b"
            ],
            [
             0.6666666666666666,
             "#ed7953"
            ],
            [
             0.7777777777777778,
             "#fb9f3a"
            ],
            [
             0.8888888888888888,
             "#fdca26"
            ],
            [
             1,
             "#f0f921"
            ]
           ],
           "sequentialminus": [
            [
             0,
             "#0d0887"
            ],
            [
             0.1111111111111111,
             "#46039f"
            ],
            [
             0.2222222222222222,
             "#7201a8"
            ],
            [
             0.3333333333333333,
             "#9c179e"
            ],
            [
             0.4444444444444444,
             "#bd3786"
            ],
            [
             0.5555555555555556,
             "#d8576b"
            ],
            [
             0.6666666666666666,
             "#ed7953"
            ],
            [
             0.7777777777777778,
             "#fb9f3a"
            ],
            [
             0.8888888888888888,
             "#fdca26"
            ],
            [
             1,
             "#f0f921"
            ]
           ]
          },
          "colorway": [
           "#636efa",
           "#EF553B",
           "#00cc96",
           "#ab63fa",
           "#FFA15A",
           "#19d3f3",
           "#FF6692",
           "#B6E880",
           "#FF97FF",
           "#FECB52"
          ],
          "font": {
           "color": "#2a3f5f"
          },
          "geo": {
           "bgcolor": "white",
           "lakecolor": "white",
           "landcolor": "#E5ECF6",
           "showlakes": true,
           "showland": true,
           "subunitcolor": "white"
          },
          "hoverlabel": {
           "align": "left"
          },
          "hovermode": "closest",
          "mapbox": {
           "style": "light"
          },
          "paper_bgcolor": "white",
          "plot_bgcolor": "#E5ECF6",
          "polar": {
           "angularaxis": {
            "gridcolor": "white",
            "linecolor": "white",
            "ticks": ""
           },
           "bgcolor": "#E5ECF6",
           "radialaxis": {
            "gridcolor": "white",
            "linecolor": "white",
            "ticks": ""
           }
          },
          "scene": {
           "xaxis": {
            "backgroundcolor": "#E5ECF6",
            "gridcolor": "white",
            "gridwidth": 2,
            "linecolor": "white",
            "showbackground": true,
            "ticks": "",
            "zerolinecolor": "white"
           },
           "yaxis": {
            "backgroundcolor": "#E5ECF6",
            "gridcolor": "white",
            "gridwidth": 2,
            "linecolor": "white",
            "showbackground": true,
            "ticks": "",
            "zerolinecolor": "white"
           },
           "zaxis": {
            "backgroundcolor": "#E5ECF6",
            "gridcolor": "white",
            "gridwidth": 2,
            "linecolor": "white",
            "showbackground": true,
            "ticks": "",
            "zerolinecolor": "white"
           }
          },
          "shapedefaults": {
           "line": {
            "color": "#2a3f5f"
           }
          },
          "ternary": {
           "aaxis": {
            "gridcolor": "white",
            "linecolor": "white",
            "ticks": ""
           },
           "baxis": {
            "gridcolor": "white",
            "linecolor": "white",
            "ticks": ""
           },
           "bgcolor": "#E5ECF6",
           "caxis": {
            "gridcolor": "white",
            "linecolor": "white",
            "ticks": ""
           }
          },
          "title": {
           "x": 0.05
          },
          "xaxis": {
           "automargin": true,
           "gridcolor": "white",
           "linecolor": "white",
           "ticks": "",
           "title": {
            "standoff": 15
           },
           "zerolinecolor": "white",
           "zerolinewidth": 2
          },
          "yaxis": {
           "automargin": true,
           "gridcolor": "white",
           "linecolor": "white",
           "ticks": "",
           "title": {
            "standoff": 15
           },
           "zerolinecolor": "white",
           "zerolinewidth": 2
          }
         }
        },
        "title": {
         "text": "Mean squared error"
        },
        "xaxis": {
         "title": {
          "text": "Number of data"
         },
         "type": "log"
        },
        "yaxis": {
         "title": {
          "text": "Mean squared error"
         },
         "type": "log"
        }
       }
      },
      "text/html": [
       "<div>\n",
       "        \n",
       "        \n",
       "            <div id=\"01f7e0a4-19ca-430e-bfce-78c7da4f8af1\" class=\"plotly-graph-div\" style=\"height:525px; width:100%;\"></div>\n",
       "            <script type=\"text/javascript\">\n",
       "                require([\"plotly\"], function(Plotly) {\n",
       "                    window.PLOTLYENV=window.PLOTLYENV || {};\n",
       "                    \n",
       "                if (document.getElementById(\"01f7e0a4-19ca-430e-bfce-78c7da4f8af1\")) {\n",
       "                    Plotly.newPlot(\n",
       "                        '01f7e0a4-19ca-430e-bfce-78c7da4f8af1',\n",
       "                        [{\"mode\": \"lines+markers\", \"name\": \"Empirical distributions (seed=100)\", \"type\": \"scatter\", \"x\": [100, 1000], \"y\": [0.009932000000000003, 0.0012387600000000017]}, {\"mode\": \"lines+markers\", \"name\": \"Empirical distributions (seed=101)\", \"type\": \"scatter\", \"x\": [100, 1000], \"y\": [0.01093, 0.0007758800000000013]}, {\"mode\": \"lines+markers\", \"name\": \"Empirical distributions (seed=102)\", \"type\": \"scatter\", \"x\": [100, 1000], \"y\": [0.010766000000000006, 0.001101440000000002]}, {\"mode\": \"lines+markers\", \"name\": \"Empirical distributions (seed=103)\", \"type\": \"scatter\", \"x\": [100, 1000], \"y\": [0.010675999999999996, 0.0010529600000000012]}, {\"mode\": \"lines+markers\", \"name\": \"Empirical distributions (seed=104)\", \"type\": \"scatter\", \"x\": [100, 1000], \"y\": [0.011067999999999998, 0.0009100400000000012]}, {\"mode\": \"lines+markers\", \"name\": \"Analytical result\", \"type\": \"scatter\", \"x\": [100, 1000], \"y\": [0.010000000000000005, 0.0010000000000000005]}],\n",
       "                        {\"template\": {\"data\": {\"bar\": [{\"error_x\": {\"color\": \"#2a3f5f\"}, \"error_y\": {\"color\": \"#2a3f5f\"}, \"marker\": {\"line\": {\"color\": \"#E5ECF6\", \"width\": 0.5}}, \"type\": \"bar\"}], \"barpolar\": [{\"marker\": {\"line\": {\"color\": \"#E5ECF6\", \"width\": 0.5}}, \"type\": \"barpolar\"}], \"carpet\": [{\"aaxis\": {\"endlinecolor\": \"#2a3f5f\", \"gridcolor\": \"white\", \"linecolor\": \"white\", \"minorgridcolor\": \"white\", \"startlinecolor\": \"#2a3f5f\"}, \"baxis\": {\"endlinecolor\": \"#2a3f5f\", \"gridcolor\": \"white\", \"linecolor\": \"white\", \"minorgridcolor\": \"white\", \"startlinecolor\": \"#2a3f5f\"}, \"type\": \"carpet\"}], \"choropleth\": [{\"colorbar\": {\"outlinewidth\": 0, \"ticks\": \"\"}, \"type\": \"choropleth\"}], \"contour\": [{\"colorbar\": {\"outlinewidth\": 0, \"ticks\": \"\"}, \"colorscale\": [[0.0, \"#0d0887\"], [0.1111111111111111, \"#46039f\"], [0.2222222222222222, \"#7201a8\"], [0.3333333333333333, \"#9c179e\"], [0.4444444444444444, \"#bd3786\"], [0.5555555555555556, \"#d8576b\"], [0.6666666666666666, \"#ed7953\"], [0.7777777777777778, \"#fb9f3a\"], [0.8888888888888888, \"#fdca26\"], [1.0, \"#f0f921\"]], \"type\": \"contour\"}], \"contourcarpet\": [{\"colorbar\": {\"outlinewidth\": 0, \"ticks\": \"\"}, \"type\": \"contourcarpet\"}], \"heatmap\": [{\"colorbar\": {\"outlinewidth\": 0, \"ticks\": \"\"}, \"colorscale\": [[0.0, \"#0d0887\"], [0.1111111111111111, \"#46039f\"], [0.2222222222222222, \"#7201a8\"], [0.3333333333333333, \"#9c179e\"], [0.4444444444444444, \"#bd3786\"], [0.5555555555555556, \"#d8576b\"], [0.6666666666666666, \"#ed7953\"], [0.7777777777777778, \"#fb9f3a\"], [0.8888888888888888, \"#fdca26\"], [1.0, \"#f0f921\"]], \"type\": \"heatmap\"}], \"heatmapgl\": [{\"colorbar\": {\"outlinewidth\": 0, \"ticks\": \"\"}, \"colorscale\": [[0.0, \"#0d0887\"], [0.1111111111111111, \"#46039f\"], [0.2222222222222222, \"#7201a8\"], [0.3333333333333333, \"#9c179e\"], [0.4444444444444444, \"#bd3786\"], [0.5555555555555556, \"#d8576b\"], [0.6666666666666666, \"#ed7953\"], [0.7777777777777778, \"#fb9f3a\"], [0.8888888888888888, \"#fdca26\"], [1.0, \"#f0f921\"]], \"type\": \"heatmapgl\"}], \"histogram\": [{\"marker\": {\"colorbar\": {\"outlinewidth\": 0, \"ticks\": \"\"}}, \"type\": \"histogram\"}], \"histogram2d\": [{\"colorbar\": {\"outlinewidth\": 0, \"ticks\": \"\"}, \"colorscale\": [[0.0, \"#0d0887\"], [0.1111111111111111, \"#46039f\"], [0.2222222222222222, \"#7201a8\"], [0.3333333333333333, \"#9c179e\"], [0.4444444444444444, \"#bd3786\"], [0.5555555555555556, \"#d8576b\"], [0.6666666666666666, \"#ed7953\"], [0.7777777777777778, \"#fb9f3a\"], [0.8888888888888888, \"#fdca26\"], [1.0, \"#f0f921\"]], \"type\": \"histogram2d\"}], \"histogram2dcontour\": [{\"colorbar\": {\"outlinewidth\": 0, \"ticks\": \"\"}, \"colorscale\": [[0.0, \"#0d0887\"], [0.1111111111111111, \"#46039f\"], [0.2222222222222222, \"#7201a8\"], [0.3333333333333333, \"#9c179e\"], [0.4444444444444444, \"#bd3786\"], [0.5555555555555556, \"#d8576b\"], [0.6666666666666666, \"#ed7953\"], [0.7777777777777778, \"#fb9f3a\"], [0.8888888888888888, \"#fdca26\"], [1.0, \"#f0f921\"]], \"type\": \"histogram2dcontour\"}], \"mesh3d\": [{\"colorbar\": {\"outlinewidth\": 0, \"ticks\": \"\"}, \"type\": \"mesh3d\"}], \"parcoords\": [{\"line\": {\"colorbar\": {\"outlinewidth\": 0, \"ticks\": \"\"}}, \"type\": \"parcoords\"}], \"pie\": [{\"automargin\": true, \"type\": \"pie\"}], \"scatter\": [{\"marker\": {\"colorbar\": {\"outlinewidth\": 0, \"ticks\": \"\"}}, \"type\": \"scatter\"}], \"scatter3d\": [{\"line\": {\"colorbar\": {\"outlinewidth\": 0, \"ticks\": \"\"}}, \"marker\": {\"colorbar\": {\"outlinewidth\": 0, \"ticks\": \"\"}}, \"type\": \"scatter3d\"}], \"scattercarpet\": [{\"marker\": {\"colorbar\": {\"outlinewidth\": 0, \"ticks\": \"\"}}, \"type\": \"scattercarpet\"}], \"scattergeo\": [{\"marker\": {\"colorbar\": {\"outlinewidth\": 0, \"ticks\": \"\"}}, \"type\": \"scattergeo\"}], \"scattergl\": [{\"marker\": {\"colorbar\": {\"outlinewidth\": 0, \"ticks\": \"\"}}, \"type\": \"scattergl\"}], \"scattermapbox\": [{\"marker\": {\"colorbar\": {\"outlinewidth\": 0, \"ticks\": \"\"}}, \"type\": \"scattermapbox\"}], \"scatterpolar\": [{\"marker\": {\"colorbar\": {\"outlinewidth\": 0, \"ticks\": \"\"}}, \"type\": \"scatterpolar\"}], \"scatterpolargl\": [{\"marker\": {\"colorbar\": {\"outlinewidth\": 0, \"ticks\": \"\"}}, \"type\": \"scatterpolargl\"}], \"scatterternary\": [{\"marker\": {\"colorbar\": {\"outlinewidth\": 0, \"ticks\": \"\"}}, \"type\": \"scatterternary\"}], \"surface\": [{\"colorbar\": {\"outlinewidth\": 0, \"ticks\": \"\"}, \"colorscale\": [[0.0, \"#0d0887\"], [0.1111111111111111, \"#46039f\"], [0.2222222222222222, \"#7201a8\"], [0.3333333333333333, \"#9c179e\"], [0.4444444444444444, \"#bd3786\"], [0.5555555555555556, \"#d8576b\"], [0.6666666666666666, \"#ed7953\"], [0.7777777777777778, \"#fb9f3a\"], [0.8888888888888888, \"#fdca26\"], [1.0, \"#f0f921\"]], \"type\": \"surface\"}], \"table\": [{\"cells\": {\"fill\": {\"color\": \"#EBF0F8\"}, \"line\": {\"color\": \"white\"}}, \"header\": {\"fill\": {\"color\": \"#C8D4E3\"}, \"line\": {\"color\": \"white\"}}, \"type\": \"table\"}]}, \"layout\": {\"annotationdefaults\": {\"arrowcolor\": \"#2a3f5f\", \"arrowhead\": 0, \"arrowwidth\": 1}, \"coloraxis\": {\"colorbar\": {\"outlinewidth\": 0, \"ticks\": \"\"}}, \"colorscale\": {\"diverging\": [[0, \"#8e0152\"], [0.1, \"#c51b7d\"], [0.2, \"#de77ae\"], [0.3, \"#f1b6da\"], [0.4, \"#fde0ef\"], [0.5, \"#f7f7f7\"], [0.6, \"#e6f5d0\"], [0.7, \"#b8e186\"], [0.8, \"#7fbc41\"], [0.9, \"#4d9221\"], [1, \"#276419\"]], \"sequential\": [[0.0, \"#0d0887\"], [0.1111111111111111, \"#46039f\"], [0.2222222222222222, \"#7201a8\"], [0.3333333333333333, \"#9c179e\"], [0.4444444444444444, \"#bd3786\"], [0.5555555555555556, \"#d8576b\"], [0.6666666666666666, \"#ed7953\"], [0.7777777777777778, \"#fb9f3a\"], [0.8888888888888888, \"#fdca26\"], [1.0, \"#f0f921\"]], \"sequentialminus\": [[0.0, \"#0d0887\"], [0.1111111111111111, \"#46039f\"], [0.2222222222222222, \"#7201a8\"], [0.3333333333333333, \"#9c179e\"], [0.4444444444444444, \"#bd3786\"], [0.5555555555555556, \"#d8576b\"], [0.6666666666666666, \"#ed7953\"], [0.7777777777777778, \"#fb9f3a\"], [0.8888888888888888, \"#fdca26\"], [1.0, \"#f0f921\"]]}, \"colorway\": [\"#636efa\", \"#EF553B\", \"#00cc96\", \"#ab63fa\", \"#FFA15A\", \"#19d3f3\", \"#FF6692\", \"#B6E880\", \"#FF97FF\", \"#FECB52\"], \"font\": {\"color\": \"#2a3f5f\"}, \"geo\": {\"bgcolor\": \"white\", \"lakecolor\": \"white\", \"landcolor\": \"#E5ECF6\", \"showlakes\": true, \"showland\": true, \"subunitcolor\": \"white\"}, \"hoverlabel\": {\"align\": \"left\"}, \"hovermode\": \"closest\", \"mapbox\": {\"style\": \"light\"}, \"paper_bgcolor\": \"white\", \"plot_bgcolor\": \"#E5ECF6\", \"polar\": {\"angularaxis\": {\"gridcolor\": \"white\", \"linecolor\": \"white\", \"ticks\": \"\"}, \"bgcolor\": \"#E5ECF6\", \"radialaxis\": {\"gridcolor\": \"white\", \"linecolor\": \"white\", \"ticks\": \"\"}}, \"scene\": {\"xaxis\": {\"backgroundcolor\": \"#E5ECF6\", \"gridcolor\": \"white\", \"gridwidth\": 2, \"linecolor\": \"white\", \"showbackground\": true, \"ticks\": \"\", \"zerolinecolor\": \"white\"}, \"yaxis\": {\"backgroundcolor\": \"#E5ECF6\", \"gridcolor\": \"white\", \"gridwidth\": 2, \"linecolor\": \"white\", \"showbackground\": true, \"ticks\": \"\", \"zerolinecolor\": \"white\"}, \"zaxis\": {\"backgroundcolor\": \"#E5ECF6\", \"gridcolor\": \"white\", \"gridwidth\": 2, \"linecolor\": \"white\", \"showbackground\": true, \"ticks\": \"\", \"zerolinecolor\": \"white\"}}, \"shapedefaults\": {\"line\": {\"color\": \"#2a3f5f\"}}, \"ternary\": {\"aaxis\": {\"gridcolor\": \"white\", \"linecolor\": \"white\", \"ticks\": \"\"}, \"baxis\": {\"gridcolor\": \"white\", \"linecolor\": \"white\", \"ticks\": \"\"}, \"bgcolor\": \"#E5ECF6\", \"caxis\": {\"gridcolor\": \"white\", \"linecolor\": \"white\", \"ticks\": \"\"}}, \"title\": {\"x\": 0.05}, \"xaxis\": {\"automargin\": true, \"gridcolor\": \"white\", \"linecolor\": \"white\", \"ticks\": \"\", \"title\": {\"standoff\": 15}, \"zerolinecolor\": \"white\", \"zerolinewidth\": 2}, \"yaxis\": {\"automargin\": true, \"gridcolor\": \"white\", \"linecolor\": \"white\", \"ticks\": \"\", \"title\": {\"standoff\": 15}, \"zerolinecolor\": \"white\", \"zerolinewidth\": 2}}}, \"title\": {\"text\": \"Mean squared error\"}, \"xaxis\": {\"title\": {\"text\": \"Number of data\"}, \"type\": \"log\"}, \"yaxis\": {\"title\": {\"text\": \"Mean squared error\"}, \"type\": \"log\"}},\n",
       "                        {\"responsive\": true}\n",
       "                    ).then(function(){\n",
       "                            \n",
       "var gd = document.getElementById('01f7e0a4-19ca-430e-bfce-78c7da4f8af1');\n",
       "var x = new MutationObserver(function (mutations, observer) {{\n",
       "        var display = window.getComputedStyle(gd).display;\n",
       "        if (!display || display === 'none') {{\n",
       "            console.log([gd, 'removed!']);\n",
       "            Plotly.purge(gd);\n",
       "            observer.disconnect();\n",
       "        }}\n",
       "}});\n",
       "\n",
       "// Listen for the removal of the full notebook cells\n",
       "var notebookContainer = gd.closest('#notebook-container');\n",
       "if (notebookContainer) {{\n",
       "    x.observe(notebookContainer, {childList: true});\n",
       "}}\n",
       "\n",
       "// Listen for the clearing of the current output cell\n",
       "var outputEl = gd.closest('.output');\n",
       "if (outputEl) {{\n",
       "    x.observe(outputEl, {childList: true});\n",
       "}}\n",
       "\n",
       "                        })\n",
       "                };\n",
       "                });\n",
       "            </script>\n",
       "        </div>"
      ]
     },
     "metadata": {},
     "output_type": "display_data"
    }
   ],
   "source": [
    "data_analysis.make_empi_dists_mse_graph_for_debug(\n",
    "    estimation_results_list,\n",
    "    qtomography_list,\n",
    "    true_object,\n",
    "    num_data,\n",
    "    n_rep,\n",
    "    tester_objects,\n",
    "    case_name_list,\n",
    ")"
   ]
  },
  {
   "cell_type": "code",
   "execution_count": null,
   "metadata": {},
   "outputs": [],
   "source": []
  },
  {
   "cell_type": "code",
   "execution_count": null,
   "metadata": {},
   "outputs": [],
   "source": []
  }
 ],
 "metadata": {
  "hide_input": false,
  "kernelspec": {
   "display_name": "quara_venv",
   "language": "python",
   "name": "quara_venv"
  },
  "language_info": {
   "codemirror_mode": {
    "name": "ipython",
    "version": 3
   },
   "file_extension": ".py",
   "mimetype": "text/x-python",
   "name": "python",
   "nbconvert_exporter": "python",
   "pygments_lexer": "ipython3",
   "version": "3.8.0"
  },
  "toc": {
   "base_numbering": 1,
   "nav_menu": {},
   "number_sections": true,
   "sideBar": true,
   "skip_h1_title": false,
   "title_cell": "Table of Contents",
   "title_sidebar": "Contents",
   "toc_cell": false,
   "toc_position": {},
   "toc_section_display": true,
   "toc_window_display": false
  },
  "varInspector": {
   "cols": {
    "lenName": 16,
    "lenType": 16,
    "lenVar": 40
   },
   "kernels_config": {
    "python": {
     "delete_cmd_postfix": "",
     "delete_cmd_prefix": "del ",
     "library": "var_list.py",
     "varRefreshCmd": "print(var_dic_list())"
    },
    "r": {
     "delete_cmd_postfix": ") ",
     "delete_cmd_prefix": "rm(",
     "library": "var_list.r",
     "varRefreshCmd": "cat(var_dic_list()) "
    }
   },
   "types_to_exclude": [
    "module",
    "function",
    "builtin_function_or_method",
    "instance",
    "_Feature"
   ],
   "window_display": false
  }
 },
 "nbformat": 4,
 "nbformat_minor": 4
}
