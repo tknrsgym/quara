{
 "cells": [
  {
   "cell_type": "code",
   "execution_count": 1,
   "metadata": {},
   "outputs": [],
   "source": [
    "import pickle\n",
    "import time\n",
    "from typing import List\n",
    "\n",
    "import numpy as np\n",
    "\n",
    "from quara.data_analyzer import data_analyzer\n",
    "from quara.objects.composite_system import CompositeSystem\n",
    "from quara.objects.elemental_system import ElementalSystem\n",
    "from quara.objects.matrix_basis import get_normalized_pauli_basis\n",
    "from quara.objects.povm import (\n",
    "    Povm,\n",
    "    get_x_measurement,\n",
    "    get_y_measurement,\n",
    "    get_z_measurement,\n",
    ")\n",
    "from quara.objects.qoperation import QOperation\n",
    "from quara.objects.state import State, get_z0_1q\n",
    "from quara.protocol.qtomography.standard.standard_qst import StandardQst\n",
    "from quara.protocol.qtomography.standard.linear_estimator import LinearEstimator\n",
    "from quara.protocol.qtomography.standard.projected_linear_estimator import ProjectedLinearEstimator"
   ]
  },
  {
   "cell_type": "code",
   "execution_count": 27,
   "metadata": {
    "tags": []
   },
   "outputs": [],
   "source": [
    "def estimate(name: str, true_object: State, num_data: List[int], iterations: int, on_para_eq_constraint: bool=True):\n",
    "    qst = StandardQst(povms, on_para_eq_constraint=on_para_eq_constraint)\n",
    "\n",
    "    # generate empi dists and calc estimate\n",
    "    obj_sequences = []\n",
    "    start = time.time()\n",
    "    for iteration in range(iterations):\n",
    "        seeds = [iteration] * len(num_data)\n",
    "        empi_dists_seq = qst.generate_empi_dists_sequence(\n",
    "            true_object, num_data, seeds\n",
    "        )\n",
    "\n",
    "        estimator = LinearEstimator()\n",
    "        #obj_sequence = estimator.calc_estimate_sequence_qoperation(qst, empi_dists_seq)\n",
    "        obj_sequence = estimator.calc_estimate_sequence(qst, empi_dists_seq)\n",
    "\n",
    "        info = {\n",
    "            \"iteration\": iteration,\n",
    "            \"empi_dists_seq\": empi_dists_seq,\n",
    "            \"obj_sequence\": obj_sequence.estimated_var_sequence,\n",
    "        }\n",
    "        print(info)\n",
    "        obj_sequences.append(obj_sequence.estimated_qoperation_sequence)\n",
    "\n",
    "    end = time.time()\n",
    "    print(f\"time(s)={end - start}\")\n",
    "    #with open(f\"state_obj_sequences_{name}_{on_para_eq_constraint}_{iterations}.pkl\", \"wb\") as f:\n",
    "    #    pickle.dump(obj_sequences, f)\n",
    "\n",
    "    #with open(\"obj_sequences.pkl\", \"rb\") as f:\n",
    "    #    obj_sequences = pickle.load(f)\n",
    "    return obj_sequences"
   ]
  },
  {
   "cell_type": "code",
   "execution_count": 2,
   "metadata": {},
   "outputs": [],
   "source": [
    "# setup system\n",
    "e_sys = ElementalSystem(0, get_normalized_pauli_basis())\n",
    "c_sys = CompositeSystem([e_sys])\n",
    "\n",
    "povm_x = get_x_measurement(c_sys)\n",
    "povm_y = get_y_measurement(c_sys)\n",
    "povm_z = get_z_measurement(c_sys)\n",
    "povms = [povm_x, povm_y, povm_z]"
   ]
  },
  {
   "cell_type": "code",
   "execution_count": 50,
   "metadata": {
    "tags": []
   },
   "outputs": [
    {
     "output_type": "stream",
     "name": "stdout",
     "text": "{'iteration': 0, 'empi_dists_seq': [[(100, array([0.51, 0.49])), (100, array([0.51, 0.49])), (100, array([1., 0.]))], [(1000, array([0.517, 0.483])), (1000, array([0.517, 0.483])), (1000, array([1., 0.]))], [(10000, array([0.5064, 0.4936])), (10000, array([0.5064, 0.4936])), (10000, array([1., 0.]))], [(100000, array([0.50055, 0.49945])), (100000, array([0.50055, 0.49945])), (100000, array([1., 0.]))]], 'obj_sequence': [<quara.objects.state.State object at 0x000001E130EDD400>, <quara.objects.state.State object at 0x000001E130EDD780>, <quara.objects.state.State object at 0x000001E130EDDBE0>, <quara.objects.state.State object at 0x000001E130EDD5F8>]}\n{'iteration': 1, 'empi_dists_seq': [[(100, array([0.51, 0.49])), (100, array([0.51, 0.49])), (100, array([1., 0.]))], [(1000, array([0.494, 0.506])), (1000, array([0.494, 0.506])), (1000, array([1., 0.]))], [(10000, array([0.499, 0.501])), (10000, array([0.499, 0.501])), (10000, array([1., 0.]))], [(100000, array([0.50014, 0.49986])), (100000, array([0.50014, 0.49986])), (100000, array([1., 0.]))]], 'obj_sequence': [<quara.objects.state.State object at 0x000001E130EDD630>, <quara.objects.state.State object at 0x000001E130EDDEF0>, <quara.objects.state.State object at 0x000001E130EDD358>, <quara.objects.state.State object at 0x000001E130EDDC88>]}\n{'iteration': 2, 'empi_dists_seq': [[(100, array([0.56, 0.44])), (100, array([0.56, 0.44])), (100, array([1., 0.]))], [(1000, array([0.534, 0.466])), (1000, array([0.534, 0.466])), (1000, array([1., 0.]))], [(10000, array([0.5132, 0.4868])), (10000, array([0.5132, 0.4868])), (10000, array([1., 0.]))], [(100000, array([0.50094, 0.49906])), (100000, array([0.50094, 0.49906])), (100000, array([1., 0.]))]], 'obj_sequence': [<quara.objects.state.State object at 0x000001E130EDDF98>, <quara.objects.state.State object at 0x000001E130EDDC18>, <quara.objects.state.State object at 0x000001E130EDD7B8>, <quara.objects.state.State object at 0x000001E130EDDD30>]}\n{'iteration': 3, 'empi_dists_seq': [[(100, array([0.53, 0.47])), (100, array([0.53, 0.47])), (100, array([1., 0.]))], [(1000, array([0.488, 0.512])), (1000, array([0.488, 0.512])), (1000, array([1., 0.]))], [(10000, array([0.5063, 0.4937])), (10000, array([0.5063, 0.4937])), (10000, array([1., 0.]))], [(100000, array([0.49959, 0.50041])), (100000, array([0.49959, 0.50041])), (100000, array([1., 0.]))]], 'obj_sequence': [<quara.objects.state.State object at 0x000001E130FA5898>, <quara.objects.state.State object at 0x000001E130FA5A90>, <quara.objects.state.State object at 0x000001E130FA5320>, <quara.objects.state.State object at 0x000001E130FA5278>]}\n{'iteration': 4, 'empi_dists_seq': [[(100, array([0.44, 0.56])), (100, array([0.44, 0.56])), (100, array([1., 0.]))], [(1000, array([0.481, 0.519])), (1000, array([0.481, 0.519])), (1000, array([1., 0.]))], [(10000, array([0.4974, 0.5026])), (10000, array([0.4974, 0.5026])), (10000, array([1., 0.]))], [(100000, array([0.50057, 0.49943])), (100000, array([0.50057, 0.49943])), (100000, array([1., 0.]))]], 'obj_sequence': [<quara.objects.state.State object at 0x000001E13131D518>, <quara.objects.state.State object at 0x000001E13131D080>, <quara.objects.state.State object at 0x000001E13131D4A8>, <quara.objects.state.State object at 0x000001E13131DAC8>]}\n{'iteration': 5, 'empi_dists_seq': [[(100, array([0.51, 0.49])), (100, array([0.51, 0.49])), (100, array([1., 0.]))], [(1000, array([0.502, 0.498])), (1000, array([0.502, 0.498])), (1000, array([1., 0.]))], [(10000, array([0.4996, 0.5004])), (10000, array([0.4996, 0.5004])), (10000, array([1., 0.]))], [(100000, array([0.49885, 0.50115])), (100000, array([0.49885, 0.50115])), (100000, array([1., 0.]))]], 'obj_sequence': [<quara.objects.state.State object at 0x000001E130EDD9B0>, <quara.objects.state.State object at 0x000001E1317A60B8>, <quara.objects.state.State object at 0x000001E1317A64E0>, <quara.objects.state.State object at 0x000001E1317A6908>]}\n{'iteration': 6, 'empi_dists_seq': [[(100, array([0.45, 0.55])), (100, array([0.45, 0.55])), (100, array([1., 0.]))], [(1000, array([0.497, 0.503])), (1000, array([0.497, 0.503])), (1000, array([1., 0.]))], [(10000, array([0.4916, 0.5084])), (10000, array([0.4916, 0.5084])), (10000, array([1., 0.]))], [(100000, array([0.50248, 0.49752])), (100000, array([0.50248, 0.49752])), (100000, array([1., 0.]))]], 'obj_sequence': [<quara.objects.state.State object at 0x000001E1317A6DD8>, <quara.objects.state.State object at 0x000001E1317A6588>, <quara.objects.state.State object at 0x000001E1317A6E10>, <quara.objects.state.State object at 0x000001E1317A67F0>]}\n{'iteration': 7, 'empi_dists_seq': [[(100, array([0.52, 0.48])), (100, array([0.52, 0.48])), (100, array([1., 0.]))], [(1000, array([0.512, 0.488])), (1000, array([0.512, 0.488])), (1000, array([1., 0.]))], [(10000, array([0.5043, 0.4957])), (10000, array([0.5043, 0.4957])), (10000, array([1., 0.]))], [(100000, array([0.50031, 0.49969])), (100000, array([0.50031, 0.49969])), (100000, array([1., 0.]))]], 'obj_sequence': [<quara.objects.state.State object at 0x000001E1317A6A90>, <quara.objects.state.State object at 0x000001E1317A65C0>, <quara.objects.state.State object at 0x000001E1317A68D0>, <quara.objects.state.State object at 0x000001E1317A6550>]}\n{'iteration': 8, 'empi_dists_seq': [[(100, array([0.48, 0.52])), (100, array([0.48, 0.52])), (100, array([1., 0.]))], [(1000, array([0.49, 0.51])), (1000, array([0.49, 0.51])), (1000, array([1., 0.]))], [(10000, array([0.5034, 0.4966])), (10000, array([0.5034, 0.4966])), (10000, array([1., 0.]))], [(100000, array([0.50337, 0.49663])), (100000, array([0.50337, 0.49663])), (100000, array([1., 0.]))]], 'obj_sequence': [<quara.objects.state.State object at 0x000001E1317A6898>, <quara.objects.state.State object at 0x000001E1317A6CC0>, <quara.objects.state.State object at 0x000001E1317A63C8>, <quara.objects.state.State object at 0x000001E1317A66D8>]}\n{'iteration': 9, 'empi_dists_seq': [[(100, array([0.56, 0.44])), (100, array([0.56, 0.44])), (100, array([1., 0.]))], [(1000, array([0.49, 0.51])), (1000, array([0.49, 0.51])), (1000, array([1., 0.]))], [(10000, array([0.5022, 0.4978])), (10000, array([0.5022, 0.4978])), (10000, array([1., 0.]))], [(100000, array([0.50141, 0.49859])), (100000, array([0.50141, 0.49859])), (100000, array([1., 0.]))]], 'obj_sequence': [<quara.objects.state.State object at 0x000001E13181C940>, <quara.objects.state.State object at 0x000001E13181C668>, <quara.objects.state.State object at 0x000001E13181CD68>, <quara.objects.state.State object at 0x000001E13181CF60>]}\ntime(s)=6.953400135040283\n{'iteration': 0, 'empi_dists_seq': [[(100, array([0.51, 0.49])), (100, array([0.51, 0.49])), (100, array([1., 0.]))], [(1000, array([0.517, 0.483])), (1000, array([0.517, 0.483])), (1000, array([1., 0.]))], [(10000, array([0.5064, 0.4936])), (10000, array([0.5064, 0.4936])), (10000, array([1., 0.]))], [(100000, array([0.50055, 0.49945])), (100000, array([0.50055, 0.49945])), (100000, array([1., 0.]))]], 'obj_sequence': [<quara.objects.state.State object at 0x000001E13181C518>, <quara.objects.state.State object at 0x000001E13181CE10>, <quara.objects.state.State object at 0x000001E13181C0B8>, <quara.objects.state.State object at 0x000001E13181C160>]}\n{'iteration': 1, 'empi_dists_seq': [[(100, array([0.51, 0.49])), (100, array([0.51, 0.49])), (100, array([1., 0.]))], [(1000, array([0.494, 0.506])), (1000, array([0.494, 0.506])), (1000, array([1., 0.]))], [(10000, array([0.499, 0.501])), (10000, array([0.499, 0.501])), (10000, array([1., 0.]))], [(100000, array([0.50014, 0.49986])), (100000, array([0.50014, 0.49986])), (100000, array([1., 0.]))]], 'obj_sequence': [<quara.objects.state.State object at 0x000001E13181C710>, <quara.objects.state.State object at 0x000001E13181C748>, <quara.objects.state.State object at 0x000001E13181C4E0>, <quara.objects.state.State object at 0x000001E13181CBE0>]}\n{'iteration': 2, 'empi_dists_seq': [[(100, array([0.56, 0.44])), (100, array([0.56, 0.44])), (100, array([1., 0.]))], [(1000, array([0.534, 0.466])), (1000, array([0.534, 0.466])), (1000, array([1., 0.]))], [(10000, array([0.5132, 0.4868])), (10000, array([0.5132, 0.4868])), (10000, array([1., 0.]))], [(100000, array([0.50094, 0.49906])), (100000, array([0.50094, 0.49906])), (100000, array([1., 0.]))]], 'obj_sequence': [<quara.objects.state.State object at 0x000001E13181C358>, <quara.objects.state.State object at 0x000001E13181CE48>, <quara.objects.state.State object at 0x000001E13181C1D0>, <quara.objects.state.State object at 0x000001E13181CDD8>]}\n{'iteration': 3, 'empi_dists_seq': [[(100, array([0.53, 0.47])), (100, array([0.53, 0.47])), (100, array([1., 0.]))], [(1000, array([0.488, 0.512])), (1000, array([0.488, 0.512])), (1000, array([1., 0.]))], [(10000, array([0.5063, 0.4937])), (10000, array([0.5063, 0.4937])), (10000, array([1., 0.]))], [(100000, array([0.49959, 0.50041])), (100000, array([0.49959, 0.50041])), (100000, array([1., 0.]))]], 'obj_sequence': [<quara.objects.state.State object at 0x000001E13181C550>, <quara.objects.state.State object at 0x000001E13181CC88>, <quara.objects.state.State object at 0x000001E13181CAC8>, <quara.objects.state.State object at 0x000001E13181CDA0>]}\n{'iteration': 4, 'empi_dists_seq': [[(100, array([0.44, 0.56])), (100, array([0.44, 0.56])), (100, array([1., 0.]))], [(1000, array([0.481, 0.519])), (1000, array([0.481, 0.519])), (1000, array([1., 0.]))], [(10000, array([0.4974, 0.5026])), (10000, array([0.4974, 0.5026])), (10000, array([1., 0.]))], [(100000, array([0.50057, 0.49943])), (100000, array([0.50057, 0.49943])), (100000, array([1., 0.]))]], 'obj_sequence': [<quara.objects.state.State object at 0x000001E13181CBA8>, <quara.objects.state.State object at 0x000001E13181C320>, <quara.objects.state.State object at 0x000001E13181C128>, <quara.objects.state.State object at 0x000001E13181CA90>]}\n{'iteration': 5, 'empi_dists_seq': [[(100, array([0.51, 0.49])), (100, array([0.51, 0.49])), (100, array([1., 0.]))], [(1000, array([0.502, 0.498])), (1000, array([0.502, 0.498])), (1000, array([1., 0.]))], [(10000, array([0.4996, 0.5004])), (10000, array([0.4996, 0.5004])), (10000, array([1., 0.]))], [(100000, array([0.49885, 0.50115])), (100000, array([0.49885, 0.50115])), (100000, array([1., 0.]))]], 'obj_sequence': [<quara.objects.state.State object at 0x000001E13181C7F0>, <quara.objects.state.State object at 0x000001E13181C048>, <quara.objects.state.State object at 0x000001E13181CC18>, <quara.objects.state.State object at 0x000001E13181CA58>]}\n{'iteration': 6, 'empi_dists_seq': [[(100, array([0.45, 0.55])), (100, array([0.45, 0.55])), (100, array([1., 0.]))], [(1000, array([0.497, 0.503])), (1000, array([0.497, 0.503])), (1000, array([1., 0.]))], [(10000, array([0.4916, 0.5084])), (10000, array([0.4916, 0.5084])), (10000, array([1., 0.]))], [(100000, array([0.50248, 0.49752])), (100000, array([0.50248, 0.49752])), (100000, array([1., 0.]))]], 'obj_sequence': [<quara.objects.state.State object at 0x000001E13181CB70>, <quara.objects.state.State object at 0x000001E13181C198>, <quara.objects.state.State object at 0x000001E13181CA20>, <quara.objects.state.State object at 0x000001E13181CEF0>]}\n{'iteration': 7, 'empi_dists_seq': [[(100, array([0.52, 0.48])), (100, array([0.52, 0.48])), (100, array([1., 0.]))], [(1000, array([0.512, 0.488])), (1000, array([0.512, 0.488])), (1000, array([1., 0.]))], [(10000, array([0.5043, 0.4957])), (10000, array([0.5043, 0.4957])), (10000, array([1., 0.]))], [(100000, array([0.50031, 0.49969])), (100000, array([0.50031, 0.49969])), (100000, array([1., 0.]))]], 'obj_sequence': [<quara.objects.state.State object at 0x000001E1306BE400>, <quara.objects.state.State object at 0x000001E13181CB00>, <quara.objects.state.State object at 0x000001E13181CC50>, <quara.objects.state.State object at 0x000001E13181C630>]}\n{'iteration': 8, 'empi_dists_seq': [[(100, array([0.48, 0.52])), (100, array([0.48, 0.52])), (100, array([1., 0.]))], [(1000, array([0.49, 0.51])), (1000, array([0.49, 0.51])), (1000, array([1., 0.]))], [(10000, array([0.5034, 0.4966])), (10000, array([0.5034, 0.4966])), (10000, array([1., 0.]))], [(100000, array([0.50337, 0.49663])), (100000, array([0.50337, 0.49663])), (100000, array([1., 0.]))]], 'obj_sequence': [<quara.objects.state.State object at 0x000001E13181C8D0>, <quara.objects.state.State object at 0x000001E13181C9B0>, <quara.objects.state.State object at 0x000001E13181CCF8>, <quara.objects.state.State object at 0x000001E13181C5C0>]}\n{'iteration': 9, 'empi_dists_seq': [[(100, array([0.56, 0.44])), (100, array([0.56, 0.44])), (100, array([1., 0.]))], [(1000, array([0.49, 0.51])), (1000, array([0.49, 0.51])), (1000, array([1., 0.]))], [(10000, array([0.5022, 0.4978])), (10000, array([0.5022, 0.4978])), (10000, array([1., 0.]))], [(100000, array([0.50141, 0.49859])), (100000, array([0.50141, 0.49859])), (100000, array([1., 0.]))]], 'obj_sequence': [<quara.objects.state.State object at 0x000001E13181CD30>, <quara.objects.state.State object at 0x000001E13181C780>, <quara.objects.state.State object at 0x000001E13181CFD0>, <quara.objects.state.State object at 0x000001E13181CE80>]}\ntime(s)=7.4540629386901855\n"
    }
   ],
   "source": [
    "true_object = get_z0_1q(c_sys)\n",
    "num_data = [100, 1000, 10000, 100000]\n",
    "iterations = 10\n",
    "\n",
    "param_affine_est_linear = estimate(\"z0\", true_object, num_data, iterations, on_para_eq_constraint=True)\n",
    "param_linear_est_linear = estimate(\"z0\", true_object, num_data, iterations, on_para_eq_constraint=False)"
   ]
  },
  {
   "cell_type": "code",
   "execution_count": 28,
   "metadata": {
    "tags": []
   },
   "outputs": [
    {
     "output_type": "stream",
     "name": "stdout",
     "text": "{'iteration': 0, 'empi_dists_seq': [[(100, array([0.51, 0.49])), (100, array([0.51, 0.49])), (100, array([1., 0.]))], [(1000, array([0.517, 0.483])), (1000, array([0.517, 0.483])), (1000, array([1., 0.]))], [(10000, array([0.5064, 0.4936])), (10000, array([0.5064, 0.4936])), (10000, array([1., 0.]))], [(100000, array([0.50055, 0.49945])), (100000, array([0.50055, 0.49945])), (100000, array([1., 0.]))]], 'obj_sequence': [array([0.01414214, 0.01414214, 0.70710678]), array([0.02404163, 0.02404163, 0.70710678]), array([0.00905097, 0.00905097, 0.70710678]), array([0.00077782, 0.00077782, 0.70710678])]}\n{'iteration': 1, 'empi_dists_seq': [[(100, array([0.51, 0.49])), (100, array([0.51, 0.49])), (100, array([1., 0.]))], [(1000, array([0.494, 0.506])), (1000, array([0.494, 0.506])), (1000, array([1., 0.]))], [(10000, array([0.499, 0.501])), (10000, array([0.499, 0.501])), (10000, array([1., 0.]))], [(100000, array([0.50014, 0.49986])), (100000, array([0.50014, 0.49986])), (100000, array([1., 0.]))]], 'obj_sequence': [array([0.01414214, 0.01414214, 0.70710678]), array([-0.00848528, -0.00848528,  0.70710678]), array([-0.00141421, -0.00141421,  0.70710678]), array([1.97989899e-04, 1.97989899e-04, 7.07106781e-01])]}\n{'iteration': 2, 'empi_dists_seq': [[(100, array([0.56, 0.44])), (100, array([0.56, 0.44])), (100, array([1., 0.]))], [(1000, array([0.534, 0.466])), (1000, array([0.534, 0.466])), (1000, array([1., 0.]))], [(10000, array([0.5132, 0.4868])), (10000, array([0.5132, 0.4868])), (10000, array([1., 0.]))], [(100000, array([0.50094, 0.49906])), (100000, array([0.50094, 0.49906])), (100000, array([1., 0.]))]], 'obj_sequence': [array([0.08485281, 0.08485281, 0.70710678]), array([0.04808326, 0.04808326, 0.70710678]), array([0.01866762, 0.01866762, 0.70710678]), array([0.00132936, 0.00132936, 0.70710678])]}\n{'iteration': 3, 'empi_dists_seq': [[(100, array([0.53, 0.47])), (100, array([0.53, 0.47])), (100, array([1., 0.]))], [(1000, array([0.488, 0.512])), (1000, array([0.488, 0.512])), (1000, array([1., 0.]))], [(10000, array([0.5063, 0.4937])), (10000, array([0.5063, 0.4937])), (10000, array([1., 0.]))], [(100000, array([0.49959, 0.50041])), (100000, array([0.49959, 0.50041])), (100000, array([1., 0.]))]], 'obj_sequence': [array([0.04242641, 0.04242641, 0.70710678]), array([-0.01697056, -0.01697056,  0.70710678]), array([0.00890955, 0.00890955, 0.70710678]), array([-5.79827561e-04, -5.79827561e-04,  7.07106781e-01])]}\n{'iteration': 4, 'empi_dists_seq': [[(100, array([0.44, 0.56])), (100, array([0.44, 0.56])), (100, array([1., 0.]))], [(1000, array([0.481, 0.519])), (1000, array([0.481, 0.519])), (1000, array([1., 0.]))], [(10000, array([0.4974, 0.5026])), (10000, array([0.4974, 0.5026])), (10000, array([1., 0.]))], [(100000, array([0.50057, 0.49943])), (100000, array([0.50057, 0.49943])), (100000, array([1., 0.]))]], 'obj_sequence': [array([-0.08485281, -0.08485281,  0.70710678]), array([-0.02687006, -0.02687006,  0.70710678]), array([-0.00367696, -0.00367696,  0.70710678]), array([0.0008061 , 0.0008061 , 0.70710678])]}\n{'iteration': 5, 'empi_dists_seq': [[(100, array([0.51, 0.49])), (100, array([0.51, 0.49])), (100, array([1., 0.]))], [(1000, array([0.502, 0.498])), (1000, array([0.502, 0.498])), (1000, array([1., 0.]))], [(10000, array([0.4996, 0.5004])), (10000, array([0.4996, 0.5004])), (10000, array([1., 0.]))], [(100000, array([0.49885, 0.50115])), (100000, array([0.49885, 0.50115])), (100000, array([1., 0.]))]], 'obj_sequence': [array([0.01414214, 0.01414214, 0.70710678]), array([0.00282843, 0.00282843, 0.70710678]), array([-5.65685425e-04, -5.65685425e-04,  7.07106781e-01]), array([-0.00162635, -0.00162635,  0.70710678])]}\n{'iteration': 6, 'empi_dists_seq': [[(100, array([0.45, 0.55])), (100, array([0.45, 0.55])), (100, array([1., 0.]))], [(1000, array([0.497, 0.503])), (1000, array([0.497, 0.503])), (1000, array([1., 0.]))], [(10000, array([0.4916, 0.5084])), (10000, array([0.4916, 0.5084])), (10000, array([1., 0.]))], [(100000, array([0.50248, 0.49752])), (100000, array([0.50248, 0.49752])), (100000, array([1., 0.]))]], 'obj_sequence': [array([-0.07071068, -0.07071068,  0.70710678]), array([-0.00424264, -0.00424264,  0.70710678]), array([-0.01187939, -0.01187939,  0.70710678]), array([0.00350725, 0.00350725, 0.70710678])]}\n{'iteration': 7, 'empi_dists_seq': [[(100, array([0.52, 0.48])), (100, array([0.52, 0.48])), (100, array([1., 0.]))], [(1000, array([0.512, 0.488])), (1000, array([0.512, 0.488])), (1000, array([1., 0.]))], [(10000, array([0.5043, 0.4957])), (10000, array([0.5043, 0.4957])), (10000, array([1., 0.]))], [(100000, array([0.50031, 0.49969])), (100000, array([0.50031, 0.49969])), (100000, array([1., 0.]))]], 'obj_sequence': [array([0.02828427, 0.02828427, 0.70710678]), array([0.01697056, 0.01697056, 0.70710678]), array([0.00608112, 0.00608112, 0.70710678]), array([4.38406204e-04, 4.38406204e-04, 7.07106781e-01])]}\n{'iteration': 8, 'empi_dists_seq': [[(100, array([0.48, 0.52])), (100, array([0.48, 0.52])), (100, array([1., 0.]))], [(1000, array([0.49, 0.51])), (1000, array([0.49, 0.51])), (1000, array([1., 0.]))], [(10000, array([0.5034, 0.4966])), (10000, array([0.5034, 0.4966])), (10000, array([1., 0.]))], [(100000, array([0.50337, 0.49663])), (100000, array([0.50337, 0.49663])), (100000, array([1., 0.]))]], 'obj_sequence': [array([-0.02828427, -0.02828427,  0.70710678]), array([-0.01414214, -0.01414214,  0.70710678]), array([0.00480833, 0.00480833, 0.70710678]), array([0.0047659 , 0.0047659 , 0.70710678])]}\n{'iteration': 9, 'empi_dists_seq': [[(100, array([0.56, 0.44])), (100, array([0.56, 0.44])), (100, array([1., 0.]))], [(1000, array([0.49, 0.51])), (1000, array([0.49, 0.51])), (1000, array([1., 0.]))], [(10000, array([0.5022, 0.4978])), (10000, array([0.5022, 0.4978])), (10000, array([1., 0.]))], [(100000, array([0.50141, 0.49859])), (100000, array([0.50141, 0.49859])), (100000, array([1., 0.]))]], 'obj_sequence': [array([0.08485281, 0.08485281, 0.70710678]), array([-0.01414214, -0.01414214,  0.70710678]), array([0.00311127, 0.00311127, 0.70710678]), array([0.00199404, 0.00199404, 0.70710678])]}\ntime(s)=12.576000452041626\n{'iteration': 0, 'empi_dists_seq': [[(100, array([0.51, 0.49])), (100, array([0.51, 0.49])), (100, array([1., 0.]))], [(1000, array([0.517, 0.483])), (1000, array([0.517, 0.483])), (1000, array([1., 0.]))], [(10000, array([0.5064, 0.4936])), (10000, array([0.5064, 0.4936])), (10000, array([1., 0.]))], [(100000, array([0.50055, 0.49945])), (100000, array([0.50055, 0.49945])), (100000, array([1., 0.]))]], 'obj_sequence': [array([0.70710678, 0.01414214, 0.01414214, 0.70710678]), array([0.70710678, 0.02404163, 0.02404163, 0.70710678]), array([0.70710678, 0.00905097, 0.00905097, 0.70710678]), array([0.70710678, 0.00077782, 0.00077782, 0.70710678])]}\n{'iteration': 1, 'empi_dists_seq': [[(100, array([0.51, 0.49])), (100, array([0.51, 0.49])), (100, array([1., 0.]))], [(1000, array([0.494, 0.506])), (1000, array([0.494, 0.506])), (1000, array([1., 0.]))], [(10000, array([0.499, 0.501])), (10000, array([0.499, 0.501])), (10000, array([1., 0.]))], [(100000, array([0.50014, 0.49986])), (100000, array([0.50014, 0.49986])), (100000, array([1., 0.]))]], 'obj_sequence': [array([0.70710678, 0.01414214, 0.01414214, 0.70710678]), array([ 0.70710678, -0.00848528, -0.00848528,  0.70710678]), array([ 0.70710678, -0.00141421, -0.00141421,  0.70710678]), array([7.07106781e-01, 1.97989899e-04, 1.97989899e-04, 7.07106781e-01])]}\n{'iteration': 2, 'empi_dists_seq': [[(100, array([0.56, 0.44])), (100, array([0.56, 0.44])), (100, array([1., 0.]))], [(1000, array([0.534, 0.466])), (1000, array([0.534, 0.466])), (1000, array([1., 0.]))], [(10000, array([0.5132, 0.4868])), (10000, array([0.5132, 0.4868])), (10000, array([1., 0.]))], [(100000, array([0.50094, 0.49906])), (100000, array([0.50094, 0.49906])), (100000, array([1., 0.]))]], 'obj_sequence': [array([0.70710678, 0.08485281, 0.08485281, 0.70710678]), array([0.70710678, 0.04808326, 0.04808326, 0.70710678]), array([0.70710678, 0.01866762, 0.01866762, 0.70710678]), array([0.70710678, 0.00132936, 0.00132936, 0.70710678])]}\n{'iteration': 3, 'empi_dists_seq': [[(100, array([0.53, 0.47])), (100, array([0.53, 0.47])), (100, array([1., 0.]))], [(1000, array([0.488, 0.512])), (1000, array([0.488, 0.512])), (1000, array([1., 0.]))], [(10000, array([0.5063, 0.4937])), (10000, array([0.5063, 0.4937])), (10000, array([1., 0.]))], [(100000, array([0.49959, 0.50041])), (100000, array([0.49959, 0.50041])), (100000, array([1., 0.]))]], 'obj_sequence': [array([0.70710678, 0.04242641, 0.04242641, 0.70710678]), array([ 0.70710678, -0.01697056, -0.01697056,  0.70710678]), array([0.70710678, 0.00890955, 0.00890955, 0.70710678]), array([ 7.07106781e-01, -5.79827561e-04, -5.79827561e-04,  7.07106781e-01])]}\n{'iteration': 4, 'empi_dists_seq': [[(100, array([0.44, 0.56])), (100, array([0.44, 0.56])), (100, array([1., 0.]))], [(1000, array([0.481, 0.519])), (1000, array([0.481, 0.519])), (1000, array([1., 0.]))], [(10000, array([0.4974, 0.5026])), (10000, array([0.4974, 0.5026])), (10000, array([1., 0.]))], [(100000, array([0.50057, 0.49943])), (100000, array([0.50057, 0.49943])), (100000, array([1., 0.]))]], 'obj_sequence': [array([ 0.70710678, -0.08485281, -0.08485281,  0.70710678]), array([ 0.70710678, -0.02687006, -0.02687006,  0.70710678]), array([ 0.70710678, -0.00367696, -0.00367696,  0.70710678]), array([0.70710678, 0.0008061 , 0.0008061 , 0.70710678])]}\n{'iteration': 5, 'empi_dists_seq': [[(100, array([0.51, 0.49])), (100, array([0.51, 0.49])), (100, array([1., 0.]))], [(1000, array([0.502, 0.498])), (1000, array([0.502, 0.498])), (1000, array([1., 0.]))], [(10000, array([0.4996, 0.5004])), (10000, array([0.4996, 0.5004])), (10000, array([1., 0.]))], [(100000, array([0.49885, 0.50115])), (100000, array([0.49885, 0.50115])), (100000, array([1., 0.]))]], 'obj_sequence': [array([0.70710678, 0.01414214, 0.01414214, 0.70710678]), array([0.70710678, 0.00282843, 0.00282843, 0.70710678]), array([ 7.07106781e-01, -5.65685425e-04, -5.65685425e-04,  7.07106781e-01]), array([ 0.70710678, -0.00162635, -0.00162635,  0.70710678])]}\n{'iteration': 6, 'empi_dists_seq': [[(100, array([0.45, 0.55])), (100, array([0.45, 0.55])), (100, array([1., 0.]))], [(1000, array([0.497, 0.503])), (1000, array([0.497, 0.503])), (1000, array([1., 0.]))], [(10000, array([0.4916, 0.5084])), (10000, array([0.4916, 0.5084])), (10000, array([1., 0.]))], [(100000, array([0.50248, 0.49752])), (100000, array([0.50248, 0.49752])), (100000, array([1., 0.]))]], 'obj_sequence': [array([ 0.70710678, -0.07071068, -0.07071068,  0.70710678]), array([ 0.70710678, -0.00424264, -0.00424264,  0.70710678]), array([ 0.70710678, -0.01187939, -0.01187939,  0.70710678]), array([0.70710678, 0.00350725, 0.00350725, 0.70710678])]}\n{'iteration': 7, 'empi_dists_seq': [[(100, array([0.52, 0.48])), (100, array([0.52, 0.48])), (100, array([1., 0.]))], [(1000, array([0.512, 0.488])), (1000, array([0.512, 0.488])), (1000, array([1., 0.]))], [(10000, array([0.5043, 0.4957])), (10000, array([0.5043, 0.4957])), (10000, array([1., 0.]))], [(100000, array([0.50031, 0.49969])), (100000, array([0.50031, 0.49969])), (100000, array([1., 0.]))]], 'obj_sequence': [array([0.70710678, 0.02828427, 0.02828427, 0.70710678]), array([0.70710678, 0.01697056, 0.01697056, 0.70710678]), array([0.70710678, 0.00608112, 0.00608112, 0.70710678]), array([7.07106781e-01, 4.38406204e-04, 4.38406204e-04, 7.07106781e-01])]}\n{'iteration': 8, 'empi_dists_seq': [[(100, array([0.48, 0.52])), (100, array([0.48, 0.52])), (100, array([1., 0.]))], [(1000, array([0.49, 0.51])), (1000, array([0.49, 0.51])), (1000, array([1., 0.]))], [(10000, array([0.5034, 0.4966])), (10000, array([0.5034, 0.4966])), (10000, array([1., 0.]))], [(100000, array([0.50337, 0.49663])), (100000, array([0.50337, 0.49663])), (100000, array([1., 0.]))]], 'obj_sequence': [array([ 0.70710678, -0.02828427, -0.02828427,  0.70710678]), array([ 0.70710678, -0.01414214, -0.01414214,  0.70710678]), array([0.70710678, 0.00480833, 0.00480833, 0.70710678]), array([0.70710678, 0.0047659 , 0.0047659 , 0.70710678])]}\n{'iteration': 9, 'empi_dists_seq': [[(100, array([0.56, 0.44])), (100, array([0.56, 0.44])), (100, array([1., 0.]))], [(1000, array([0.49, 0.51])), (1000, array([0.49, 0.51])), (1000, array([1., 0.]))], [(10000, array([0.5022, 0.4978])), (10000, array([0.5022, 0.4978])), (10000, array([1., 0.]))], [(100000, array([0.50141, 0.49859])), (100000, array([0.50141, 0.49859])), (100000, array([1., 0.]))]], 'obj_sequence': [array([0.70710678, 0.08485281, 0.08485281, 0.70710678]), array([ 0.70710678, -0.01414214, -0.01414214,  0.70710678]), array([0.70710678, 0.00311127, 0.00311127, 0.70710678]), array([0.70710678, 0.00199404, 0.00199404, 0.70710678])]}\ntime(s)=13.368998050689697\nparam=affine, est=linear: [0.006120000000000008, 0.0009372000000000015, 0.00014730399999999952, 9.04508000000003e-06]\nparam=affine, est=proj  : [0.006056538960553601, 0.000934955923290004, 0.00014724925905300592, 9.044837081659776e-06]\nparam=linear, est=linear: [0.006120000000000007, 0.0009372000000000023, 0.0001473039999999987, 9.04507999999998e-06]\nparam=linear, est=proj  : [0.006056538960553604, 0.0009349559232900045, 0.0001472492590530051, 9.044837081659727e-06]\n"
    }
   ],
   "source": [
    "#### 1\n",
    "true_object = get_z0_1q(c_sys)\n",
    "num_data = [100, 1000, 10000, 100000]\n",
    "iterations = 10\n",
    "\n",
    "param_affine_est_linear = estimate(\"z0\", true_object, num_data, iterations, on_para_eq_constraint=True)\n",
    "param_linear_est_linear = estimate(\"z0\", true_object, num_data, iterations, on_para_eq_constraint=False)\n",
    "\n",
    "# calc mse(param_affine)\n",
    "param_affine_est_linear_tmp = [list(obj_sequence) for obj_sequence in zip(*param_affine_est_linear)]\n",
    "mses_param_affine_est_linear = [\n",
    "    calc_mse(obj_sequence, [true_object] * len(obj_sequence)) for obj_sequence in param_affine_est_linear_tmp\n",
    "]\n",
    "mses_param_affine_est_proj = [\n",
    "    calc_mse_proj(obj_sequence, [true_object] * len(obj_sequence)) for obj_sequence in param_affine_est_linear_tmp\n",
    "]\n",
    "print(f\"param=affine, est=linear: {mses_param_affine_est_linear}\")\n",
    "print(f\"param=affine, est=proj  : {mses_param_affine_est_proj}\")\n",
    "\n",
    "# calc mse(param_linear)\n",
    "param_linear_est_linear_tmp = [list(obj_sequence) for obj_sequence in zip(*param_linear_est_linear)]\n",
    "mses_param_linear_est_linear = [\n",
    "    calc_mse(obj_sequence, [true_object] * len(obj_sequence)) for obj_sequence in param_linear_est_linear_tmp\n",
    "]\n",
    "mses_param_linear_est_proj = [\n",
    "    calc_mse_proj(obj_sequence, [true_object] * len(obj_sequence)) for obj_sequence in param_linear_est_linear_tmp\n",
    "]\n",
    "print(f\"param=linear, est=linear: {mses_param_linear_est_linear}\")\n",
    "print(f\"param=linear, est=proj  : {mses_param_linear_est_proj}\")"
   ]
  },
  {
   "cell_type": "code",
   "execution_count": 33,
   "metadata": {
    "tags": []
   },
   "outputs": [
    {
     "output_type": "stream",
     "name": "stdout",
     "text": "{'iteration': 1, 'data': [[(100, array([0.51, 0.49])), (100, array([0.51, 0.49])), (100, array([1., 0.]))], [(1000, array([0.517, 0.483])), (1000, array([0.517, 0.483])), (1000, array([1., 0.]))], [(10000, array([0.5064, 0.4936])), (10000, array([0.5064, 0.4936])), (10000, array([1., 0.]))], [(100000, array([0.50055, 0.49945])), (100000, array([0.50055, 0.49945])), (100000, array([1., 0.]))]], 'estimated_var_sequence': [array([0.01414214, 0.01414214, 0.70710678]), array([0.02404163, 0.02404163, 0.70710678]), array([0.00905097, 0.00905097, 0.70710678]), array([0.00077782, 0.00077782, 0.70710678])], 'computation_times': [0.0, 0.0, 0.0, 0.0]}\n{'iteration': 2, 'data': [[(100, array([0.51, 0.49])), (100, array([0.51, 0.49])), (100, array([1., 0.]))], [(1000, array([0.494, 0.506])), (1000, array([0.494, 0.506])), (1000, array([1., 0.]))], [(10000, array([0.499, 0.501])), (10000, array([0.499, 0.501])), (10000, array([1., 0.]))], [(100000, array([0.50014, 0.49986])), (100000, array([0.50014, 0.49986])), (100000, array([1., 0.]))]], 'estimated_var_sequence': [array([0.01414214, 0.01414214, 0.70710678]), array([-0.00848528, -0.00848528,  0.70710678]), array([-0.00141421, -0.00141421,  0.70710678]), array([1.97989899e-04, 1.97989899e-04, 7.07106781e-01])], 'computation_times': [0.0, 0.0, 0.0, 0.0]}\n{'iteration': 3, 'data': [[(100, array([0.56, 0.44])), (100, array([0.56, 0.44])), (100, array([1., 0.]))], [(1000, array([0.534, 0.466])), (1000, array([0.534, 0.466])), (1000, array([1., 0.]))], [(10000, array([0.5132, 0.4868])), (10000, array([0.5132, 0.4868])), (10000, array([1., 0.]))], [(100000, array([0.50094, 0.49906])), (100000, array([0.50094, 0.49906])), (100000, array([1., 0.]))]], 'estimated_var_sequence': [array([0.08485281, 0.08485281, 0.70710678]), array([0.04808326, 0.04808326, 0.70710678]), array([0.01866762, 0.01866762, 0.70710678]), array([0.00132936, 0.00132936, 0.70710678])], 'computation_times': [0.0, 0.0, 0.0, 0.0]}\n{'iteration': 4, 'data': [[(100, array([0.53, 0.47])), (100, array([0.53, 0.47])), (100, array([1., 0.]))], [(1000, array([0.488, 0.512])), (1000, array([0.488, 0.512])), (1000, array([1., 0.]))], [(10000, array([0.5063, 0.4937])), (10000, array([0.5063, 0.4937])), (10000, array([1., 0.]))], [(100000, array([0.49959, 0.50041])), (100000, array([0.49959, 0.50041])), (100000, array([1., 0.]))]], 'estimated_var_sequence': [array([0.04242641, 0.04242641, 0.70710678]), array([-0.01697056, -0.01697056,  0.70710678]), array([0.00890955, 0.00890955, 0.70710678]), array([-5.79827561e-04, -5.79827561e-04,  7.07106781e-01])], 'computation_times': [0.0, 0.0, 0.0, 0.0]}\n{'iteration': 5, 'data': [[(100, array([0.44, 0.56])), (100, array([0.44, 0.56])), (100, array([1., 0.]))], [(1000, array([0.481, 0.519])), (1000, array([0.481, 0.519])), (1000, array([1., 0.]))], [(10000, array([0.4974, 0.5026])), (10000, array([0.4974, 0.5026])), (10000, array([1., 0.]))], [(100000, array([0.50057, 0.49943])), (100000, array([0.50057, 0.49943])), (100000, array([1., 0.]))]], 'estimated_var_sequence': [array([-0.08485281, -0.08485281,  0.70710678]), array([-0.02687006, -0.02687006,  0.70710678]), array([-0.00367696, -0.00367696,  0.70710678]), array([0.0008061 , 0.0008061 , 0.70710678])], 'computation_times': [0.0, 0.0, 0.0, 0.0]}\n{'iteration': 6, 'data': [[(100, array([0.51, 0.49])), (100, array([0.51, 0.49])), (100, array([1., 0.]))], [(1000, array([0.502, 0.498])), (1000, array([0.502, 0.498])), (1000, array([1., 0.]))], [(10000, array([0.4996, 0.5004])), (10000, array([0.4996, 0.5004])), (10000, array([1., 0.]))], [(100000, array([0.49885, 0.50115])), (100000, array([0.49885, 0.50115])), (100000, array([1., 0.]))]], 'estimated_var_sequence': [array([0.01414214, 0.01414214, 0.70710678]), array([0.00282843, 0.00282843, 0.70710678]), array([-5.65685425e-04, -5.65685425e-04,  7.07106781e-01]), array([-0.00162635, -0.00162635,  0.70710678])], 'computation_times': [0.0, 0.0, 0.0, 0.0]}\n{'iteration': 7, 'data': [[(100, array([0.45, 0.55])), (100, array([0.45, 0.55])), (100, array([1., 0.]))], [(1000, array([0.497, 0.503])), (1000, array([0.497, 0.503])), (1000, array([1., 0.]))], [(10000, array([0.4916, 0.5084])), (10000, array([0.4916, 0.5084])), (10000, array([1., 0.]))], [(100000, array([0.50248, 0.49752])), (100000, array([0.50248, 0.49752])), (100000, array([1., 0.]))]], 'estimated_var_sequence': [array([-0.07071068, -0.07071068,  0.70710678]), array([-0.00424264, -0.00424264,  0.70710678]), array([-0.01187939, -0.01187939,  0.70710678]), array([0.00350725, 0.00350725, 0.70710678])], 'computation_times': [0.0, 0.0, 0.0, 0.0]}\n{'iteration': 8, 'data': [[(100, array([0.52, 0.48])), (100, array([0.52, 0.48])), (100, array([1., 0.]))], [(1000, array([0.512, 0.488])), (1000, array([0.512, 0.488])), (1000, array([1., 0.]))], [(10000, array([0.5043, 0.4957])), (10000, array([0.5043, 0.4957])), (10000, array([1., 0.]))], [(100000, array([0.50031, 0.49969])), (100000, array([0.50031, 0.49969])), (100000, array([1., 0.]))]], 'estimated_var_sequence': [array([0.02828427, 0.02828427, 0.70710678]), array([0.01697056, 0.01697056, 0.70710678]), array([0.00608112, 0.00608112, 0.70710678]), array([4.38406204e-04, 4.38406204e-04, 7.07106781e-01])], 'computation_times': [0.0, 0.0010023117065429688, 0.0, 0.0]}\n{'iteration': 9, 'data': [[(100, array([0.48, 0.52])), (100, array([0.48, 0.52])), (100, array([1., 0.]))], [(1000, array([0.49, 0.51])), (1000, array([0.49, 0.51])), (1000, array([1., 0.]))], [(10000, array([0.5034, 0.4966])), (10000, array([0.5034, 0.4966])), (10000, array([1., 0.]))], [(100000, array([0.50337, 0.49663])), (100000, array([0.50337, 0.49663])), (100000, array([1., 0.]))]], 'estimated_var_sequence': [array([-0.02828427, -0.02828427,  0.70710678]), array([-0.01414214, -0.01414214,  0.70710678]), array([0.00480833, 0.00480833, 0.70710678]), array([0.0047659 , 0.0047659 , 0.70710678])], 'computation_times': [0.0, 0.0, 0.0, 0.0]}\n{'iteration': 10, 'data': [[(100, array([0.56, 0.44])), (100, array([0.56, 0.44])), (100, array([1., 0.]))], [(1000, array([0.49, 0.51])), (1000, array([0.49, 0.51])), (1000, array([1., 0.]))], [(10000, array([0.5022, 0.4978])), (10000, array([0.5022, 0.4978])), (10000, array([1., 0.]))], [(100000, array([0.50141, 0.49859])), (100000, array([0.50141, 0.49859])), (100000, array([1., 0.]))]], 'estimated_var_sequence': [array([0.08485281, 0.08485281, 0.70710678]), array([-0.01414214, -0.01414214,  0.70710678]), array([0.00311127, 0.00311127, 0.70710678]), array([0.00199404, 0.00199404, 0.70710678])], 'computation_times': [0.0, 0.0, 0.0, 0.0]}\n{'iteration': 1, 'data': [[(100, array([0.51, 0.49])), (100, array([0.51, 0.49])), (100, array([1., 0.]))], [(1000, array([0.517, 0.483])), (1000, array([0.517, 0.483])), (1000, array([1., 0.]))], [(10000, array([0.5064, 0.4936])), (10000, array([0.5064, 0.4936])), (10000, array([1., 0.]))], [(100000, array([0.50055, 0.49945])), (100000, array([0.50055, 0.49945])), (100000, array([1., 0.]))]], 'estimated_var_sequence': [array([0.70710678, 0.01414214, 0.01414214, 0.70710678]), array([0.70710678, 0.02404163, 0.02404163, 0.70710678]), array([0.70710678, 0.00905097, 0.00905097, 0.70710678]), array([0.70710678, 0.00077782, 0.00077782, 0.70710678])], 'computation_times': [0.0, 0.0, 0.0, 0.0]}\n{'iteration': 2, 'data': [[(100, array([0.51, 0.49])), (100, array([0.51, 0.49])), (100, array([1., 0.]))], [(1000, array([0.494, 0.506])), (1000, array([0.494, 0.506])), (1000, array([1., 0.]))], [(10000, array([0.499, 0.501])), (10000, array([0.499, 0.501])), (10000, array([1., 0.]))], [(100000, array([0.50014, 0.49986])), (100000, array([0.50014, 0.49986])), (100000, array([1., 0.]))]], 'estimated_var_sequence': [array([0.70710678, 0.01414214, 0.01414214, 0.70710678]), array([ 0.70710678, -0.00848528, -0.00848528,  0.70710678]), array([ 0.70710678, -0.00141421, -0.00141421,  0.70710678]), array([7.07106781e-01, 1.97989899e-04, 1.97989899e-04, 7.07106781e-01])], 'computation_times': [0.0, 0.0, 0.0, 0.0]}\n{'iteration': 3, 'data': [[(100, array([0.56, 0.44])), (100, array([0.56, 0.44])), (100, array([1., 0.]))], [(1000, array([0.534, 0.466])), (1000, array([0.534, 0.466])), (1000, array([1., 0.]))], [(10000, array([0.5132, 0.4868])), (10000, array([0.5132, 0.4868])), (10000, array([1., 0.]))], [(100000, array([0.50094, 0.49906])), (100000, array([0.50094, 0.49906])), (100000, array([1., 0.]))]], 'estimated_var_sequence': [array([0.70710678, 0.08485281, 0.08485281, 0.70710678]), array([0.70710678, 0.04808326, 0.04808326, 0.70710678]), array([0.70710678, 0.01866762, 0.01866762, 0.70710678]), array([0.70710678, 0.00132936, 0.00132936, 0.70710678])], 'computation_times': [0.0, 0.0, 0.0, 0.0]}\n{'iteration': 4, 'data': [[(100, array([0.53, 0.47])), (100, array([0.53, 0.47])), (100, array([1., 0.]))], [(1000, array([0.488, 0.512])), (1000, array([0.488, 0.512])), (1000, array([1., 0.]))], [(10000, array([0.5063, 0.4937])), (10000, array([0.5063, 0.4937])), (10000, array([1., 0.]))], [(100000, array([0.49959, 0.50041])), (100000, array([0.49959, 0.50041])), (100000, array([1., 0.]))]], 'estimated_var_sequence': [array([0.70710678, 0.04242641, 0.04242641, 0.70710678]), array([ 0.70710678, -0.01697056, -0.01697056,  0.70710678]), array([0.70710678, 0.00890955, 0.00890955, 0.70710678]), array([ 7.07106781e-01, -5.79827561e-04, -5.79827561e-04,  7.07106781e-01])], 'computation_times': [0.0, 0.0, 0.0, 0.0]}\n{'iteration': 5, 'data': [[(100, array([0.44, 0.56])), (100, array([0.44, 0.56])), (100, array([1., 0.]))], [(1000, array([0.481, 0.519])), (1000, array([0.481, 0.519])), (1000, array([1., 0.]))], [(10000, array([0.4974, 0.5026])), (10000, array([0.4974, 0.5026])), (10000, array([1., 0.]))], [(100000, array([0.50057, 0.49943])), (100000, array([0.50057, 0.49943])), (100000, array([1., 0.]))]], 'estimated_var_sequence': [array([ 0.70710678, -0.08485281, -0.08485281,  0.70710678]), array([ 0.70710678, -0.02687006, -0.02687006,  0.70710678]), array([ 0.70710678, -0.00367696, -0.00367696,  0.70710678]), array([0.70710678, 0.0008061 , 0.0008061 , 0.70710678])], 'computation_times': [0.0, 0.0, 0.0, 0.0]}\n{'iteration': 6, 'data': [[(100, array([0.51, 0.49])), (100, array([0.51, 0.49])), (100, array([1., 0.]))], [(1000, array([0.502, 0.498])), (1000, array([0.502, 0.498])), (1000, array([1., 0.]))], [(10000, array([0.4996, 0.5004])), (10000, array([0.4996, 0.5004])), (10000, array([1., 0.]))], [(100000, array([0.49885, 0.50115])), (100000, array([0.49885, 0.50115])), (100000, array([1., 0.]))]], 'estimated_var_sequence': [array([0.70710678, 0.01414214, 0.01414214, 0.70710678]), array([0.70710678, 0.00282843, 0.00282843, 0.70710678]), array([ 7.07106781e-01, -5.65685425e-04, -5.65685425e-04,  7.07106781e-01]), array([ 0.70710678, -0.00162635, -0.00162635,  0.70710678])], 'computation_times': [0.0, 0.0, 0.0, 0.0]}\n{'iteration': 7, 'data': [[(100, array([0.45, 0.55])), (100, array([0.45, 0.55])), (100, array([1., 0.]))], [(1000, array([0.497, 0.503])), (1000, array([0.497, 0.503])), (1000, array([1., 0.]))], [(10000, array([0.4916, 0.5084])), (10000, array([0.4916, 0.5084])), (10000, array([1., 0.]))], [(100000, array([0.50248, 0.49752])), (100000, array([0.50248, 0.49752])), (100000, array([1., 0.]))]], 'estimated_var_sequence': [array([ 0.70710678, -0.07071068, -0.07071068,  0.70710678]), array([ 0.70710678, -0.00424264, -0.00424264,  0.70710678]), array([ 0.70710678, -0.01187939, -0.01187939,  0.70710678]), array([0.70710678, 0.00350725, 0.00350725, 0.70710678])], 'computation_times': [0.0, 0.0, 0.0, 0.0]}\n{'iteration': 8, 'data': [[(100, array([0.52, 0.48])), (100, array([0.52, 0.48])), (100, array([1., 0.]))], [(1000, array([0.512, 0.488])), (1000, array([0.512, 0.488])), (1000, array([1., 0.]))], [(10000, array([0.5043, 0.4957])), (10000, array([0.5043, 0.4957])), (10000, array([1., 0.]))], [(100000, array([0.50031, 0.49969])), (100000, array([0.50031, 0.49969])), (100000, array([1., 0.]))]], 'estimated_var_sequence': [array([0.70710678, 0.02828427, 0.02828427, 0.70710678]), array([0.70710678, 0.01697056, 0.01697056, 0.70710678]), array([0.70710678, 0.00608112, 0.00608112, 0.70710678]), array([7.07106781e-01, 4.38406204e-04, 4.38406204e-04, 7.07106781e-01])], 'computation_times': [0.0, 0.0, 0.0, 0.0]}\n{'iteration': 9, 'data': [[(100, array([0.48, 0.52])), (100, array([0.48, 0.52])), (100, array([1., 0.]))], [(1000, array([0.49, 0.51])), (1000, array([0.49, 0.51])), (1000, array([1., 0.]))], [(10000, array([0.5034, 0.4966])), (10000, array([0.5034, 0.4966])), (10000, array([1., 0.]))], [(100000, array([0.50337, 0.49663])), (100000, array([0.50337, 0.49663])), (100000, array([1., 0.]))]], 'estimated_var_sequence': [array([ 0.70710678, -0.02828427, -0.02828427,  0.70710678]), array([ 0.70710678, -0.01414214, -0.01414214,  0.70710678]), array([0.70710678, 0.00480833, 0.00480833, 0.70710678]), array([0.70710678, 0.0047659 , 0.0047659 , 0.70710678])], 'computation_times': [0.0, 0.0, 0.0, 0.0]}\n{'iteration': 10, 'data': [[(100, array([0.56, 0.44])), (100, array([0.56, 0.44])), (100, array([1., 0.]))], [(1000, array([0.49, 0.51])), (1000, array([0.49, 0.51])), (1000, array([1., 0.]))], [(10000, array([0.5022, 0.4978])), (10000, array([0.5022, 0.4978])), (10000, array([1., 0.]))], [(100000, array([0.50141, 0.49859])), (100000, array([0.50141, 0.49859])), (100000, array([1., 0.]))]], 'estimated_var_sequence': [array([0.70710678, 0.08485281, 0.08485281, 0.70710678]), array([ 0.70710678, -0.01414214, -0.01414214,  0.70710678]), array([0.70710678, 0.00311127, 0.00311127, 0.70710678]), array([0.70710678, 0.00199404, 0.00199404, 0.70710678])], 'computation_times': [0.0010035037994384766, 0.0, 0.0, 0.0]}\nparam=affine, est=linear: [0.006120000000000008, 0.0009372000000000015, 0.00014730399999999952, 9.04508000000003e-06]\nparam=affine, est=proj  : [0.006056538960553601, 0.000934955923290004, 0.00014724925905300592, 9.044837081659776e-06]\nparam=linear, est=linear: [0.006120000000000007, 0.0009372000000000023, 0.0001473039999999987, 9.04507999999998e-06]\nparam=linear, est=proj  : [0.006056538960553604, 0.0009349559232900045, 0.0001472492590530051, 9.044837081659727e-06]\n"
    }
   ],
   "source": [
    "##### 2\n",
    "from quara.data_analyzer import data_analyzer\n",
    "true_object = get_z0_1q(c_sys)\n",
    "num_data = [100, 1000, 10000, 100000]\n",
    "iterations = 10\n",
    "estimator = LinearEstimator()\n",
    "\n",
    "param_affine_est_linear = data_analyzer.calc_estimate(povms, true_object, num_data, iterations, estimator, on_para_eq_constraint=True)\n",
    "param_linear_est_linear = data_analyzer.calc_estimate(povms, true_object, num_data, iterations, estimator, on_para_eq_constraint=False)\n",
    "\n",
    "param_affine_est_linear = [result.estimated_qoperation_sequence for result in param_affine_est_linear]\n",
    "param_linear_est_linear = [result.estimated_qoperation_sequence for result in param_linear_est_linear]\n",
    "\n",
    "# calc mse(param_affine)\n",
    "#param_affine_est_linear_tmp = [obj_sequence.estimated_qoperation_sequence for obj_sequence in zip(*param_affine_est_linear)]\n",
    "param_affine_est_linear_tmp = [list(obj_sequence) for obj_sequence in zip(*param_affine_est_linear)]\n",
    "mses_param_affine_est_linear = [\n",
    "    calc_mse(obj_sequence, [true_object] * len(obj_sequence)) for obj_sequence in param_affine_est_linear_tmp\n",
    "]\n",
    "mses_param_affine_est_proj = [\n",
    "    calc_mse_proj(obj_sequence, [true_object] * len(obj_sequence)) for obj_sequence in param_affine_est_linear_tmp\n",
    "]\n",
    "print(f\"param=affine, est=linear: {mses_param_affine_est_linear}\")\n",
    "print(f\"param=affine, est=proj  : {mses_param_affine_est_proj}\")\n",
    "\n",
    "# calc mse(param_linear)\n",
    "param_linear_est_linear_tmp = [list(obj_sequence) for obj_sequence in zip(*param_linear_est_linear)]\n",
    "mses_param_linear_est_linear = [\n",
    "    calc_mse(obj_sequence, [true_object] * len(obj_sequence)) for obj_sequence in param_linear_est_linear_tmp\n",
    "]\n",
    "mses_param_linear_est_proj = [\n",
    "    calc_mse_proj(obj_sequence, [true_object] * len(obj_sequence)) for obj_sequence in param_linear_est_linear_tmp\n",
    "]\n",
    "print(f\"param=linear, est=linear: {mses_param_linear_est_linear}\")\n",
    "print(f\"param=linear, est=proj  : {mses_param_linear_est_proj}\")"
   ]
  },
  {
   "cell_type": "code",
   "execution_count": 40,
   "metadata": {
    "tags": []
   },
   "outputs": [
    {
     "output_type": "stream",
     "name": "stdout",
     "text": "{'iteration': 1, 'data': [[(100, array([0.51, 0.49])), (100, array([0.51, 0.49])), (100, array([1., 0.]))], [(1000, array([0.517, 0.483])), (1000, array([0.517, 0.483])), (1000, array([1., 0.]))], [(10000, array([0.5064, 0.4936])), (10000, array([0.5064, 0.4936])), (10000, array([1., 0.]))], [(100000, array([0.50055, 0.49945])), (100000, array([0.50055, 0.49945])), (100000, array([1., 0.]))]], 'estimated_var_sequence': [array([0.01414214, 0.01414214, 0.70710678]), array([0.02404163, 0.02404163, 0.70710678]), array([0.00905097, 0.00905097, 0.70710678]), array([0.00077782, 0.00077782, 0.70710678])], 'computation_times': [0.0, 0.0, 0.0, 0.0]}\n{'iteration': 2, 'data': [[(100, array([0.51, 0.49])), (100, array([0.51, 0.49])), (100, array([1., 0.]))], [(1000, array([0.494, 0.506])), (1000, array([0.494, 0.506])), (1000, array([1., 0.]))], [(10000, array([0.499, 0.501])), (10000, array([0.499, 0.501])), (10000, array([1., 0.]))], [(100000, array([0.50014, 0.49986])), (100000, array([0.50014, 0.49986])), (100000, array([1., 0.]))]], 'estimated_var_sequence': [array([0.01414214, 0.01414214, 0.70710678]), array([-0.00848528, -0.00848528,  0.70710678]), array([-0.00141421, -0.00141421,  0.70710678]), array([1.97989899e-04, 1.97989899e-04, 7.07106781e-01])], 'computation_times': [0.0, 0.0, 0.0, 0.0]}\n{'iteration': 3, 'data': [[(100, array([0.56, 0.44])), (100, array([0.56, 0.44])), (100, array([1., 0.]))], [(1000, array([0.534, 0.466])), (1000, array([0.534, 0.466])), (1000, array([1., 0.]))], [(10000, array([0.5132, 0.4868])), (10000, array([0.5132, 0.4868])), (10000, array([1., 0.]))], [(100000, array([0.50094, 0.49906])), (100000, array([0.50094, 0.49906])), (100000, array([1., 0.]))]], 'estimated_var_sequence': [array([0.08485281, 0.08485281, 0.70710678]), array([0.04808326, 0.04808326, 0.70710678]), array([0.01866762, 0.01866762, 0.70710678]), array([0.00132936, 0.00132936, 0.70710678])], 'computation_times': [0.0, 0.0, 0.0, 0.0]}\n{'iteration': 4, 'data': [[(100, array([0.53, 0.47])), (100, array([0.53, 0.47])), (100, array([1., 0.]))], [(1000, array([0.488, 0.512])), (1000, array([0.488, 0.512])), (1000, array([1., 0.]))], [(10000, array([0.5063, 0.4937])), (10000, array([0.5063, 0.4937])), (10000, array([1., 0.]))], [(100000, array([0.49959, 0.50041])), (100000, array([0.49959, 0.50041])), (100000, array([1., 0.]))]], 'estimated_var_sequence': [array([0.04242641, 0.04242641, 0.70710678]), array([-0.01697056, -0.01697056,  0.70710678]), array([0.00890955, 0.00890955, 0.70710678]), array([-5.79827561e-04, -5.79827561e-04,  7.07106781e-01])], 'computation_times': [0.0, 0.0, 0.0, 0.0]}\n{'iteration': 5, 'data': [[(100, array([0.44, 0.56])), (100, array([0.44, 0.56])), (100, array([1., 0.]))], [(1000, array([0.481, 0.519])), (1000, array([0.481, 0.519])), (1000, array([1., 0.]))], [(10000, array([0.4974, 0.5026])), (10000, array([0.4974, 0.5026])), (10000, array([1., 0.]))], [(100000, array([0.50057, 0.49943])), (100000, array([0.50057, 0.49943])), (100000, array([1., 0.]))]], 'estimated_var_sequence': [array([-0.08485281, -0.08485281,  0.70710678]), array([-0.02687006, -0.02687006,  0.70710678]), array([-0.00367696, -0.00367696,  0.70710678]), array([0.0008061 , 0.0008061 , 0.70710678])], 'computation_times': [0.0, 0.0, 0.0, 0.0]}\n{'iteration': 6, 'data': [[(100, array([0.51, 0.49])), (100, array([0.51, 0.49])), (100, array([1., 0.]))], [(1000, array([0.502, 0.498])), (1000, array([0.502, 0.498])), (1000, array([1., 0.]))], [(10000, array([0.4996, 0.5004])), (10000, array([0.4996, 0.5004])), (10000, array([1., 0.]))], [(100000, array([0.49885, 0.50115])), (100000, array([0.49885, 0.50115])), (100000, array([1., 0.]))]], 'estimated_var_sequence': [array([0.01414214, 0.01414214, 0.70710678]), array([0.00282843, 0.00282843, 0.70710678]), array([-5.65685425e-04, -5.65685425e-04,  7.07106781e-01]), array([-0.00162635, -0.00162635,  0.70710678])], 'computation_times': [0.0, 0.0, 0.0, 0.0]}\n{'iteration': 7, 'data': [[(100, array([0.45, 0.55])), (100, array([0.45, 0.55])), (100, array([1., 0.]))], [(1000, array([0.497, 0.503])), (1000, array([0.497, 0.503])), (1000, array([1., 0.]))], [(10000, array([0.4916, 0.5084])), (10000, array([0.4916, 0.5084])), (10000, array([1., 0.]))], [(100000, array([0.50248, 0.49752])), (100000, array([0.50248, 0.49752])), (100000, array([1., 0.]))]], 'estimated_var_sequence': [array([-0.07071068, -0.07071068,  0.70710678]), array([-0.00424264, -0.00424264,  0.70710678]), array([-0.01187939, -0.01187939,  0.70710678]), array([0.00350725, 0.00350725, 0.70710678])], 'computation_times': [0.0, 0.0, 0.0, 0.0]}\n{'iteration': 8, 'data': [[(100, array([0.52, 0.48])), (100, array([0.52, 0.48])), (100, array([1., 0.]))], [(1000, array([0.512, 0.488])), (1000, array([0.512, 0.488])), (1000, array([1., 0.]))], [(10000, array([0.5043, 0.4957])), (10000, array([0.5043, 0.4957])), (10000, array([1., 0.]))], [(100000, array([0.50031, 0.49969])), (100000, array([0.50031, 0.49969])), (100000, array([1., 0.]))]], 'estimated_var_sequence': [array([0.02828427, 0.02828427, 0.70710678]), array([0.01697056, 0.01697056, 0.70710678]), array([0.00608112, 0.00608112, 0.70710678]), array([4.38406204e-04, 4.38406204e-04, 7.07106781e-01])], 'computation_times': [0.0, 0.0, 0.0, 0.0]}\n{'iteration': 9, 'data': [[(100, array([0.48, 0.52])), (100, array([0.48, 0.52])), (100, array([1., 0.]))], [(1000, array([0.49, 0.51])), (1000, array([0.49, 0.51])), (1000, array([1., 0.]))], [(10000, array([0.5034, 0.4966])), (10000, array([0.5034, 0.4966])), (10000, array([1., 0.]))], [(100000, array([0.50337, 0.49663])), (100000, array([0.50337, 0.49663])), (100000, array([1., 0.]))]], 'estimated_var_sequence': [array([-0.02828427, -0.02828427,  0.70710678]), array([-0.01414214, -0.01414214,  0.70710678]), array([0.00480833, 0.00480833, 0.70710678]), array([0.0047659 , 0.0047659 , 0.70710678])], 'computation_times': [0.0, 0.0, 0.0, 0.0]}\n{'iteration': 10, 'data': [[(100, array([0.56, 0.44])), (100, array([0.56, 0.44])), (100, array([1., 0.]))], [(1000, array([0.49, 0.51])), (1000, array([0.49, 0.51])), (1000, array([1., 0.]))], [(10000, array([0.5022, 0.4978])), (10000, array([0.5022, 0.4978])), (10000, array([1., 0.]))], [(100000, array([0.50141, 0.49859])), (100000, array([0.50141, 0.49859])), (100000, array([1., 0.]))]], 'estimated_var_sequence': [array([0.08485281, 0.08485281, 0.70710678]), array([-0.01414214, -0.01414214,  0.70710678]), array([0.00311127, 0.00311127, 0.70710678]), array([0.00199404, 0.00199404, 0.70710678])], 'computation_times': [0.0, 0.0, 0.0, 0.0]}\nparam=linear, est=linear: [0.006120000000000008, 0.0009372000000000015, 0.00014730399999999952, 9.04508000000003e-06]\n"
    }
   ],
   "source": [
    "##### 3\n",
    "from quara.data_analyzer import data_analyzer\n",
    "from quara.protocol.qtomography.standard.standard_qtomography_estimator import (\n",
    "    StandardQTomographyEstimator,\n",
    "    StandardQTomographyEstimationResult,\n",
    ")\n",
    "\n",
    "def convert_to_series(\n",
    "    results: List[StandardQTomographyEstimationResult], true_object: QOperation\n",
    "):\n",
    "    # calc mse\n",
    "    results_tmp = [result.estimated_qoperation_sequence for result in results]\n",
    "    results_tmp = [list(qoperation_sequence) for qoperation_sequence in zip(*results_tmp)]\n",
    "    mses = [calc_mse(qoperation_sequence, [true_object] * len(qoperation_sequence)) for qoperation_sequence in results_tmp]\n",
    "\n",
    "    # convert to computation time series\n",
    "    comp_time_tmp = [result.computation_times for result in results]\n",
    "    comp_time = [list(comp_time) for comp_time in zip(*comp_time_tmp)]\n",
    "\n",
    "    return mses, comp_time\n",
    "\n",
    "true_object = get_z0_1q(c_sys)\n",
    "num_data = [100, 1000, 10000, 100000]\n",
    "iterations = 10\n",
    "estimator = LinearEstimator()\n",
    "\n",
    "# calculate\n",
    "results_affine_est_linear = data_analyzer.calc_estimate(povms, true_object, num_data, iteration, estimator, on_para_eq_constraint=True)\n",
    "param_affine_est_linear, time_affine_est_linear = convert_to_series(results_affine_est_linear, true_object)\n",
    "\n",
    "#results_linear_est_linear = data_analyzer.calc_estimate(povms, true_object, num_data, iteration, estimator, on_para_eq_constraint=False)\n",
    "#param_linear_est_linear, time_linear_est_linear = convert_to_series(results_linear_est_linear, true_object)\n",
    "\n",
    "print(f\"param=linear, est=linear: {param_affine_est_linear}\")\n",
    "#print(f\"param=linear, est=proj  : {param_linear_est_linear}\")"
   ]
  },
  {
   "cell_type": "code",
   "execution_count": 24,
   "metadata": {
    "tags": [
     "outputPrepend"
    ]
   },
   "outputs": [
    {
     "output_type": "stream",
     "name": "stdout",
     "text": "mes': [0.0030007362365722656, 0.00099945068359375, 0.0, 0.00099945068359375]}\n{'iteration': 74, 'data': [[(100, array([0.79, 0.21])), (100, array([0.79, 0.21])), (100, array([0.79, 0.21]))], [(1000, array([0.782, 0.218])), (1000, array([0.782, 0.218])), (1000, array([0.782, 0.218]))], [(10000, array([0.7817, 0.2183])), (10000, array([0.7817, 0.2183])), (10000, array([0.7817, 0.2183]))], [(100000, array([0.78785, 0.21215])), (100000, array([0.78785, 0.21215])), (100000, array([0.78785, 0.21215]))]], 'estimated_var_sequence': [array([0.40918511, 0.40918511, 0.40918511]), array([0.39880822, 0.39880822, 0.39880822]), array([0.39838396, 0.39838396, 0.39838396]), array([0.40708137, 0.40708137, 0.40708137])], 'computation_times': [0.0009980201721191406, 0.0, 0.0010113716125488281, 0.00299072265625]}\n{'iteration': 75, 'data': [[(100, array([0.85, 0.15])), (100, array([0.85, 0.15])), (100, array([0.85, 0.15]))], [(1000, array([0.785, 0.215])), (1000, array([0.785, 0.215])), (1000, array([0.785, 0.215]))], [(10000, array([0.7807, 0.2193])), (10000, array([0.7807, 0.2193])), (10000, array([0.7807, 0.2193]))], [(100000, array([0.78726, 0.21274])), (100000, array([0.78726, 0.21274])), (100000, array([0.78726, 0.21274]))]], 'estimated_var_sequence': [array([0.40833298, 0.40833298, 0.40833298]), array([0.40305087, 0.40305087, 0.40305087]), array([0.39696975, 0.39696975, 0.39696975]), array([0.40624699, 0.40624699, 0.40624699])], 'computation_times': [0.005997657775878906, 0.002005338668823242, 0.000995635986328125, 0.001001119613647461]}\n{'iteration': 76, 'data': [[(100, array([0.79, 0.21])), (100, array([0.79, 0.21])), (100, array([0.79, 0.21]))], [(1000, array([0.79, 0.21])), (1000, array([0.79, 0.21])), (1000, array([0.79, 0.21]))], [(10000, array([0.7872, 0.2128])), (10000, array([0.7872, 0.2128])), (10000, array([0.7872, 0.2128]))], [(100000, array([0.78694, 0.21306])), (100000, array([0.78694, 0.21306])), (100000, array([0.78694, 0.21306]))]], 'estimated_var_sequence': [array([0.40918511, 0.40918511, 0.40918511]), array([0.40918511, 0.40918511, 0.40918511]), array([0.40616214, 0.40616214, 0.40616214]), array([0.40579444, 0.40579444, 0.40579444])], 'computation_times': [0.0009999275207519531, 0.0010027885437011719, 0.0009989738464355469, 0.0009982585906982422]}\n{'iteration': 77, 'data': [[(100, array([0.73, 0.27])), (100, array([0.73, 0.27])), (100, array([0.73, 0.27]))], [(1000, array([0.794, 0.206])), (1000, array([0.794, 0.206])), (1000, array([0.794, 0.206]))], [(10000, array([0.7924, 0.2076])), (10000, array([0.7924, 0.2076])), (10000, array([0.7924, 0.2076]))], [(100000, array([0.78906, 0.21094])), (100000, array([0.78906, 0.21094])), (100000, array([0.78906, 0.21094]))]], 'estimated_var_sequence': [array([0.32526912, 0.32526912, 0.32526912]), array([0.41013091, 0.41013091, 0.41013091]), array([0.41088217, 0.41088217, 0.41088217]), array([0.40852043, 0.40852043, 0.40852043])], 'computation_times': [0.0019989013671875, 0.0010082721710205078, 0.000993490219116211, 0.0]}\n{'iteration': 78, 'data': [[(100, array([0.81, 0.19])), (100, array([0.81, 0.19])), (100, array([0.81, 0.19]))], [(1000, array([0.812, 0.188])), (1000, array([0.812, 0.188])), (1000, array([0.812, 0.188]))], [(10000, array([0.7946, 0.2054])), (10000, array([0.7946, 0.2054])), (10000, array([0.7946, 0.2054]))], [(100000, array([0.79149, 0.20851])), (100000, array([0.79149, 0.20851])), (100000, array([0.79149, 0.20851]))]], 'estimated_var_sequence': [array([0.4084839, 0.4084839, 0.4084839]), array([0.408506, 0.408506, 0.408506]), array([0.40929567, 0.40929567, 0.40929567]), array([0.4102387, 0.4102387, 0.4102387])], 'computation_times': [0.004002571105957031, 0.00800323486328125, 0.0019979476928710938, 0.0009980201721191406]}\n{'iteration': 79, 'data': [[(100, array([0.79, 0.21])), (100, array([0.79, 0.21])), (100, array([0.79, 0.21]))], [(1000, array([0.8, 0.2])), (1000, array([0.8, 0.2])), (1000, array([0.8, 0.2]))], [(10000, array([0.7933, 0.2067])), (10000, array([0.7933, 0.2067])), (10000, array([0.7933, 0.2067]))], [(100000, array([0.78917, 0.21083])), (100000, array([0.78917, 0.21083])), (100000, array([0.78917, 0.21083]))]], 'estimated_var_sequence': [array([0.40918511, 0.40918511, 0.40918511]), array([0.40874878, 0.40874878, 0.40874878]), array([0.41151856, 0.41151856, 0.41151856]), array([0.40859821, 0.40859821, 0.40859821])], 'computation_times': [0.0009982585906982422, 0.0040013790130615234, 0.0009992122650146484, 0.0009999275207519531]}\n{'iteration': 80, 'data': [[(100, array([0.78, 0.22])), (100, array([0.78, 0.22])), (100, array([0.78, 0.22]))], [(1000, array([0.801, 0.199])), (1000, array([0.801, 0.199])), (1000, array([0.801, 0.199]))], [(10000, array([0.7831, 0.2169])), (10000, array([0.7831, 0.2169])), (10000, array([0.7831, 0.2169]))], [(100000, array([0.78942, 0.21058])), (100000, array([0.78942, 0.21058])), (100000, array([0.78942, 0.21058]))]], 'estimated_var_sequence': [array([0.3959798, 0.3959798, 0.3959798]), array([0.40879298, 0.40879298, 0.40879298]), array([0.40036386, 0.40036386, 0.40036386]), array([0.40877499, 0.40877499, 0.40877499])], 'computation_times': [0.0010025501251220703, 0.002001047134399414, 0.0009989738464355469, 0.0020012855529785156]}\n{'iteration': 81, 'data': [[(100, array([0.74, 0.26])), (100, array([0.74, 0.26])), (100, array([0.74, 0.26]))], [(1000, array([0.763, 0.237])), (1000, array([0.763, 0.237])), (1000, array([0.763, 0.237]))], [(10000, array([0.791, 0.209])), (10000, array([0.791, 0.209])), (10000, array([0.791, 0.209]))], [(100000, array([0.78943, 0.21057])), (100000, array([0.78943, 0.21057])), (100000, array([0.78943, 0.21057]))]], 'estimated_var_sequence': [array([0.33941125, 0.33941125, 0.33941125]), array([0.37193817, 0.37193817, 0.37193817]), array([0.40989222, 0.40989222, 0.40989222]), array([0.40878206, 0.40878206, 0.40878206])], 'computation_times': [0.0010030269622802734, 0.0009980201721191406, 0.0, 0.0010004043579101562]}\n{'iteration': 82, 'data': [[(100, array([0.83, 0.17])), (100, array([0.83, 0.17])), (100, array([0.83, 0.17]))], [(1000, array([0.816, 0.184])), (1000, array([0.816, 0.184])), (1000, array([0.816, 0.184]))], [(10000, array([0.7927, 0.2073])), (10000, array([0.7927, 0.2073])), (10000, array([0.7927, 0.2073]))], [(100000, array([0.78992, 0.21008])), (100000, array([0.78992, 0.21008])), (100000, array([0.78992, 0.21008]))]], 'estimated_var_sequence': [array([0.40836244, 0.40836244, 0.40836244]), array([0.40839924, 0.40839924, 0.40839924]), array([0.4110943, 0.4110943, 0.4110943]), array([0.40912854, 0.40912854, 0.40912854])], 'computation_times': [0.0070018768310546875, 0.009001731872558594, 0.0019979476928710938, 0.0]}\n{'iteration': 83, 'data': [[(100, array([0.78, 0.22])), (100, array([0.78, 0.22])), (100, array([0.78, 0.22]))], [(1000, array([0.807, 0.193])), (1000, array([0.807, 0.193])), (1000, array([0.807, 0.193]))], [(10000, array([0.7935, 0.2065])), (10000, array([0.7935, 0.2065])), (10000, array([0.7935, 0.2065]))], [(100000, array([0.79053, 0.20947])), (100000, array([0.79053, 0.20947])), (100000, array([0.79053, 0.20947]))]], 'estimated_var_sequence': [array([0.3959798, 0.3959798, 0.3959798]), array([0.40865322, 0.40865322, 0.40865322]), array([0.40995414, 0.40995414, 0.40995414]), array([0.40955988, 0.40955988, 0.40955988])], 'computation_times': [0.0010030269622802734, 0.003001689910888672, 0.0009975433349609375, 0.0010004043579101562]}\n{'iteration': 84, 'data': [[(100, array([0.79, 0.21])), (100, array([0.79, 0.21])), (100, array([0.79, 0.21]))], [(1000, array([0.787, 0.213])), (1000, array([0.787, 0.213])), (1000, array([0.787, 0.213]))], [(10000, array([0.79, 0.21])), (10000, array([0.79, 0.21])), (10000, array([0.79, 0.21]))], [(100000, array([0.79008, 0.20992])), (100000, array([0.79008, 0.20992])), (100000, array([0.79008, 0.20992]))]], 'estimated_var_sequence': [array([0.40918511, 0.40918511, 0.40918511]), array([0.40587929, 0.40587929, 0.40587929]), array([0.40918511, 0.40918511, 0.40918511]), array([0.40924168, 0.40924168, 0.40924168])], 'computation_times': [0.0009992122650146484, 0.0010008811950683594, 0.0010018348693847656, 0.00099945068359375]}\n{'iteration': 85, 'data': [[(100, array([0.81, 0.19])), (100, array([0.81, 0.19])), (100, array([0.81, 0.19]))], [(1000, array([0.792, 0.208])), (1000, array([0.792, 0.208])), (1000, array([0.792, 0.208]))], [(10000, array([0.7894, 0.2106])), (10000, array([0.7894, 0.2106])), (10000, array([0.7894, 0.2106]))], [(100000, array([0.78861, 0.21139])), (100000, array([0.78861, 0.21139])), (100000, array([0.78861, 0.21139]))]], 'estimated_var_sequence': [array([0.4084839, 0.4084839, 0.4084839]), array([0.41059933, 0.41059933, 0.41059933]), array([0.40876085, 0.40876085, 0.40876085]), array([0.40815618, 0.40815618, 0.40815618])], 'computation_times': [0.00299835205078125, 0.0020036697387695312, 0.002001523971557617, 0.000997781753540039]}\n{'iteration': 86, 'data': [[(100, array([0.8, 0.2])), (100, array([0.8, 0.2])), (100, array([0.8, 0.2]))], [(1000, array([0.792, 0.208])), (1000, array([0.792, 0.208])), (1000, array([0.792, 0.208]))], [(10000, array([0.7925, 0.2075])), (10000, array([0.7925, 0.2075])), (10000, array([0.7925, 0.2075]))], [(100000, array([0.78883, 0.21117])), (100000, array([0.78883, 0.21117])), (100000, array([0.78883, 0.21117]))]], 'estimated_var_sequence': [array([0.40874878, 0.40874878, 0.40874878]), array([0.41059933, 0.41059933, 0.41059933]), array([0.41095288, 0.41095288, 0.41095288]), array([0.4083578, 0.4083578, 0.4083578])], 'computation_times': [0.001999378204345703, 0.0009984970092773438, 0.0010018348693847656, 0.0010025501251220703]}\n{'iteration': 87, 'data': [[(100, array([0.81, 0.19])), (100, array([0.81, 0.19])), (100, array([0.81, 0.19]))], [(1000, array([0.796, 0.204])), (1000, array([0.796, 0.204])), (1000, array([0.796, 0.204]))], [(10000, array([0.7966, 0.2034])), (10000, array([0.7966, 0.2034])), (10000, array([0.7966, 0.2034]))], [(100000, array([0.79283, 0.20717])), (100000, array([0.79283, 0.20717])), (100000, array([0.79283, 0.20717]))]], 'estimated_var_sequence': [array([0.4084839, 0.4084839, 0.4084839]), array([0.40889572, 0.40889572, 0.40889572]), array([0.40894876, 0.40894876, 0.40894876]), array([0.41118622, 0.41118622, 0.41118622])], 'computation_times': [0.003000497817993164, 0.001999378204345703, 0.002001047134399414, 0.0010001659393310547]}\n{'iteration': 88, 'data': [[(100, array([0.78, 0.22])), (100, array([0.78, 0.22])), (100, array([0.78, 0.22]))], [(1000, array([0.795, 0.205])), (1000, array([0.795, 0.205])), (1000, array([0.795, 0.205]))], [(10000, array([0.7916, 0.2084])), (10000, array([0.7916, 0.2084])), (10000, array([0.7916, 0.2084]))], [(100000, array([0.79082, 0.20918])), (100000, array([0.79082, 0.20918])), (100000, array([0.79082, 0.20918]))]], 'estimated_var_sequence': [array([0.3959798, 0.3959798, 0.3959798]), array([0.40936638, 0.40936638, 0.40936638]), array([0.41031648, 0.41031648, 0.41031648]), array([0.40976494, 0.40976494, 0.40976494])], 'computation_times': [0.0010004043579101562, 0.002001047134399414, 0.0010004043579101562, 0.0009965896606445312]}\n{'iteration': 89, 'data': [[(100, array([0.77, 0.23])), (100, array([0.77, 0.23])), (100, array([0.77, 0.23]))], [(1000, array([0.778, 0.222])), (1000, array([0.778, 0.222])), (1000, array([0.778, 0.222]))], [(10000, array([0.7896, 0.2104])), (10000, array([0.7896, 0.2104])), (10000, array([0.7896, 0.2104]))], [(100000, array([0.78844, 0.21156])), (100000, array([0.78844, 0.21156])), (100000, array([0.78844, 0.21156]))]], 'estimated_var_sequence': [array([0.38183766, 0.38183766, 0.38183766]), array([0.39315137, 0.39315137, 0.39315137]), array([0.40890227, 0.40890227, 0.40890227]), array([0.40791576, 0.40791576, 0.40791576])], 'computation_times': [0.0009996891021728516, 0.000997781753540039, 0.0009970664978027344, 0.0]}\n{'iteration': 90, 'data': [[(100, array([0.82, 0.18])), (100, array([0.82, 0.18])), (100, array([0.82, 0.18]))], [(1000, array([0.77, 0.23])), (1000, array([0.77, 0.23])), (1000, array([0.77, 0.23]))], [(10000, array([0.7876, 0.2124])), (10000, array([0.7876, 0.2124])), (10000, array([0.7876, 0.2124]))], [(100000, array([0.78697, 0.21303])), (100000, array([0.78697, 0.21303])), (100000, array([0.78697, 0.21303]))]], 'estimated_var_sequence': [array([0.40842134, 0.40842134, 0.40842134]), array([0.38183766, 0.38183766, 0.38183766]), array([0.40672782, 0.40672782, 0.40672782]), array([0.40583687, 0.40583687, 0.40583687])], 'computation_times': [0.004003763198852539, 0.004001140594482422, 0.0019991397857666016, 0.000997304916381836]}\n{'iteration': 91, 'data': [[(100, array([0.75, 0.25])), (100, array([0.75, 0.25])), (100, array([0.75, 0.25]))], [(1000, array([0.797, 0.203])), (1000, array([0.797, 0.203])), (1000, array([0.797, 0.203]))], [(10000, array([0.7874, 0.2126])), (10000, array([0.7874, 0.2126])), (10000, array([0.7874, 0.2126]))], [(100000, array([0.78863, 0.21137])), (100000, array([0.78863, 0.21137])), (100000, array([0.78863, 0.21137]))]], 'estimated_var_sequence': [array([0.35355339, 0.35355339, 0.35355339]), array([0.40898411, 0.40898411, 0.40898411]), array([0.40644498, 0.40644498, 0.40644498]), array([0.40818446, 0.40818446, 0.40818446])], 'computation_times': [0.0029997825622558594, 0.002999544143676758, 0.0010046958923339844, 0.0009949207305908203]}\n{'iteration': 92, 'data': [[(100, array([0.81, 0.19])), (100, array([0.81, 0.19])), (100, array([0.81, 0.19]))], [(1000, array([0.788, 0.212])), (1000, array([0.788, 0.212])), (1000, array([0.788, 0.212]))], [(10000, array([0.7801, 0.2199])), (10000, array([0.7801, 0.2199])), (10000, array([0.7801, 0.2199]))], [(100000, array([0.78854, 0.21146])), (100000, array([0.78854, 0.21146])), (100000, array([0.78854, 0.21146]))]], 'estimated_var_sequence': [array([0.4084839, 0.4084839, 0.4084839]), array([0.40729351, 0.40729351, 0.40729351]), array([0.39612122, 0.39612122, 0.39612122]), array([0.40805718, 0.40805718, 0.40805718])], 'computation_times': [0.006002902984619141, 0.03799581527709961, 0.001001119613647461, 0.0010063648223876953]}\n{'iteration': 93, 'data': [[(100, array([0.75, 0.25])), (100, array([0.75, 0.25])), (100, array([0.75, 0.25]))], [(1000, array([0.779, 0.221])), (1000, array([0.779, 0.221])), (1000, array([0.779, 0.221]))], [(10000, array([0.7927, 0.2073])), (10000, array([0.7927, 0.2073])), (10000, array([0.7927, 0.2073]))], [(100000, array([0.78798, 0.21202])), (100000, array([0.78798, 0.21202])), (100000, array([0.78798, 0.21202]))]], 'estimated_var_sequence': [array([0.35355339, 0.35355339, 0.35355339]), array([0.39456558, 0.39456558, 0.39456558]), array([0.4110943, 0.4110943, 0.4110943]), array([0.40726522, 0.40726522, 0.40726522])], 'computation_times': [0.0019960403442382812, 0.00099945068359375, 0.004998922348022461, 0.0009999275207519531]}\n{'iteration': 94, 'data': [[(100, array([0.83, 0.17])), (100, array([0.83, 0.17])), (100, array([0.83, 0.17]))], [(1000, array([0.798, 0.202])), (1000, array([0.798, 0.202])), (1000, array([0.798, 0.202]))], [(10000, array([0.7903, 0.2097])), (10000, array([0.7903, 0.2097])), (10000, array([0.7903, 0.2097]))], [(100000, array([0.78951, 0.21049])), (100000, array([0.78951, 0.21049])), (100000, array([0.78951, 0.21049]))]], 'estimated_var_sequence': [array([0.40836244, 0.40836244, 0.40836244]), array([0.4090725, 0.4090725, 0.4090725]), array([0.40939724, 0.40939724, 0.40939724]), array([0.40883863, 0.40883863, 0.40883863])], 'computation_times': [0.008999109268188477, 0.0019969940185546875, 0.0, 0.0010006427764892578]}\n{'iteration': 95, 'data': [[(100, array([0.87, 0.13])), (100, array([0.87, 0.13])), (100, array([0.87, 0.13]))], [(1000, array([0.793, 0.207])), (1000, array([0.793, 0.207])), (1000, array([0.793, 0.207]))], [(10000, array([0.7917, 0.2083])), (10000, array([0.7917, 0.2083])), (10000, array([0.7917, 0.2083]))], [(100000, array([0.78835, 0.21165])), (100000, array([0.78835, 0.21165])), (100000, array([0.78835, 0.21165]))]], 'estimated_var_sequence': [array([0.40830445, 0.40830445, 0.40830445]), array([0.41130643, 0.41130643, 0.41130643]), array([0.41038719, 0.41038719, 0.41038719]), array([0.40778848, 0.40778848, 0.40778848])], 'computation_times': [0.004996776580810547, 0.000997304916381836, 0.0010035037994384766, 0.0]}\n{'iteration': 96, 'data': [[(100, array([0.74, 0.26])), (100, array([0.74, 0.26])), (100, array([0.74, 0.26]))], [(1000, array([0.801, 0.199])), (1000, array([0.801, 0.199])), (1000, array([0.801, 0.199]))], [(10000, array([0.7912, 0.2088])), (10000, array([0.7912, 0.2088])), (10000, array([0.7912, 0.2088]))], [(100000, array([0.78826, 0.21174])), (100000, array([0.78826, 0.21174])), (100000, array([0.78826, 0.21174]))]], 'estimated_var_sequence': [array([0.33941125, 0.33941125, 0.33941125]), array([0.40879298, 0.40879298, 0.40879298]), array([0.41003364, 0.41003364, 0.41003364]), array([0.4076612, 0.4076612, 0.4076612])], 'computation_times': [0.0019953250885009766, 0.004002094268798828, 0.000997781753540039, 0.0010013580322265625]}\n{'iteration': 97, 'data': [[(100, array([0.76, 0.24])), (100, array([0.76, 0.24])), (100, array([0.76, 0.24]))], [(1000, array([0.782, 0.218])), (1000, array([0.782, 0.218])), (1000, array([0.782, 0.218]))], [(10000, array([0.7901, 0.2099])), (10000, array([0.7901, 0.2099])), (10000, array([0.7901, 0.2099]))], [(100000, array([0.7905, 0.2095])), (100000, array([0.7905, 0.2095])), (100000, array([0.7905, 0.2095]))]], 'estimated_var_sequence': [array([0.36769553, 0.36769553, 0.36769553]), array([0.39880822, 0.39880822, 0.39880822]), array([0.40925582, 0.40925582, 0.40925582]), array([0.40953867, 0.40953867, 0.40953867])], 'computation_times': [0.0019979476928710938, 0.0010001659393310547, 0.0010013580322265625, 0.000997304916381836]}\n{'iteration': 98, 'data': [[(100, array([0.78, 0.22])), (100, array([0.78, 0.22])), (100, array([0.78, 0.22]))], [(1000, array([0.783, 0.217])), (1000, array([0.783, 0.217])), (1000, array([0.783, 0.217]))], [(10000, array([0.7837, 0.2163])), (10000, array([0.7837, 0.2163])), (10000, array([0.7837, 0.2163]))], [(100000, array([0.78806, 0.21194])), (100000, array([0.78806, 0.21194])), (100000, array([0.78806, 0.21194]))]], 'estimated_var_sequence': [array([0.3959798, 0.3959798, 0.3959798]), array([0.40022244, 0.40022244, 0.40022244]), array([0.40121239, 0.40121239, 0.40121239]), array([0.40737836, 0.40737836, 0.40737836])], 'computation_times': [0.0009989738464355469, 0.0020024776458740234, 0.0019996166229248047, 0.0009975433349609375]}\n{'iteration': 99, 'data': [[(100, array([0.83, 0.17])), (100, array([0.83, 0.17])), (100, array([0.83, 0.17]))], [(1000, array([0.804, 0.196])), (1000, array([0.804, 0.196])), (1000, array([0.804, 0.196]))], [(10000, array([0.7924, 0.2076])), (10000, array([0.7924, 0.2076])), (10000, array([0.7924, 0.2076]))], [(100000, array([0.78764, 0.21236])), (100000, array([0.78764, 0.21236])), (100000, array([0.78764, 0.21236]))]], 'estimated_var_sequence': [array([0.40836244, 0.40836244, 0.40836244]), array([0.40858693, 0.40858693, 0.40858693]), array([0.41088217, 0.41088217, 0.41088217]), array([0.40678439, 0.40678439, 0.40678439])], 'computation_times': [0.0049970149993896484, 0.0039997100830078125, 0.0010004043579101562, 0.0010023117065429688]}\n{'iteration': 100, 'data': [[(100, array([0.76, 0.24])), (100, array([0.76, 0.24])), (100, array([0.76, 0.24]))], [(1000, array([0.76, 0.24])), (1000, array([0.76, 0.24])), (1000, array([0.76, 0.24]))], [(10000, array([0.7876, 0.2124])), (10000, array([0.7876, 0.2124])), (10000, array([0.7876, 0.2124]))], [(100000, array([0.78902, 0.21098])), (100000, array([0.78902, 0.21098])), (100000, array([0.78902, 0.21098]))]], 'estimated_var_sequence': [array([0.36769553, 0.36769553, 0.36769553]), array([0.36769553, 0.36769553, 0.36769553]), array([0.40672782, 0.40672782, 0.40672782]), array([0.40849215, 0.40849215, 0.40849215])], 'computation_times': [0.0, 0.00099945068359375, 0.0010008811950683594, 0.0020003318786621094]}\n"
    }
   ],
   "source": [
    "##### 4\n",
    "vec = np.array([1/np.sqrt(2), 1/np.sqrt(6), 1/np.sqrt(6), 1/np.sqrt(6)],dtype=np.float64)\n",
    "true_object = State(c_sys, vec)\n",
    "#true_object = get_z0_1q(c_sys)\n",
    "num_data = [100, 1000, 10000, 100000]\n",
    "iteration = 100\n",
    "#estimator = LinearEstimator()\n",
    "estimator = ProjectedLinearEstimator()\n",
    "\n",
    "# calculate\n",
    "results_affine_est_linear = data_analyzer.calc_estimate(povms, true_object, num_data, iteration, estimator, on_para_eq_constraint=True)\n",
    "mse_affine_est_linear, std_affine_est_linear, time_affine_est_linear = convert_to_series(results_affine_est_linear, true_object)\n",
    "\n",
    "#results_linear_est_linear = data_analyzer.calc_estimate(povms, true_object, num_data, iteration, estimator, on_para_eq_constraint=False)\n",
    "#mse_linear_est_linear, std_linear_est_linear, time_linear_est_linear = data_analyzer.convert_to_series(results_linear_est_linear, true_object)\n",
    "\n",
    "#print(f\"param=linear, est=linear: {param_affine_est_linear}\")\n",
    "#print(f\"param=linear, est=proj  : {param_linear_est_linear}\")"
   ]
  },
  {
   "cell_type": "code",
   "execution_count": 25,
   "metadata": {
    "tags": []
   },
   "outputs": [
    {
     "output_type": "display_data",
     "data": {
      "application/vnd.plotly.v1+json": {
       "config": {
        "plotlyServerURL": "https://plot.ly"
       },
       "data": [
        {
         "error_y": {
          "array": [
           0.008957848102373949,
           0.000924632500317718,
           0.0000979191411262894,
           0.000006875151067797309
          ],
          "type": "data",
          "visible": true
         },
         "mode": "lines+markers",
         "name": "param=affine, est=linear",
         "type": "scatter",
         "x": [
          100,
          1000,
          10000,
          100000
         ],
         "y": [
          0.0037198670102283637,
          0.00038518391491347727,
          0.00005520930649354862,
          0.0000052654284573857005
         ]
        }
       ],
       "layout": {
        "template": {
         "data": {
          "bar": [
           {
            "error_x": {
             "color": "#2a3f5f"
            },
            "error_y": {
             "color": "#2a3f5f"
            },
            "marker": {
             "line": {
              "color": "#E5ECF6",
              "width": 0.5
             }
            },
            "type": "bar"
           }
          ],
          "barpolar": [
           {
            "marker": {
             "line": {
              "color": "#E5ECF6",
              "width": 0.5
             }
            },
            "type": "barpolar"
           }
          ],
          "carpet": [
           {
            "aaxis": {
             "endlinecolor": "#2a3f5f",
             "gridcolor": "white",
             "linecolor": "white",
             "minorgridcolor": "white",
             "startlinecolor": "#2a3f5f"
            },
            "baxis": {
             "endlinecolor": "#2a3f5f",
             "gridcolor": "white",
             "linecolor": "white",
             "minorgridcolor": "white",
             "startlinecolor": "#2a3f5f"
            },
            "type": "carpet"
           }
          ],
          "choropleth": [
           {
            "colorbar": {
             "outlinewidth": 0,
             "ticks": ""
            },
            "type": "choropleth"
           }
          ],
          "contour": [
           {
            "colorbar": {
             "outlinewidth": 0,
             "ticks": ""
            },
            "colorscale": [
             [
              0,
              "#0d0887"
             ],
             [
              0.1111111111111111,
              "#46039f"
             ],
             [
              0.2222222222222222,
              "#7201a8"
             ],
             [
              0.3333333333333333,
              "#9c179e"
             ],
             [
              0.4444444444444444,
              "#bd3786"
             ],
             [
              0.5555555555555556,
              "#d8576b"
             ],
             [
              0.6666666666666666,
              "#ed7953"
             ],
             [
              0.7777777777777778,
              "#fb9f3a"
             ],
             [
              0.8888888888888888,
              "#fdca26"
             ],
             [
              1,
              "#f0f921"
             ]
            ],
            "type": "contour"
           }
          ],
          "contourcarpet": [
           {
            "colorbar": {
             "outlinewidth": 0,
             "ticks": ""
            },
            "type": "contourcarpet"
           }
          ],
          "heatmap": [
           {
            "colorbar": {
             "outlinewidth": 0,
             "ticks": ""
            },
            "colorscale": [
             [
              0,
              "#0d0887"
             ],
             [
              0.1111111111111111,
              "#46039f"
             ],
             [
              0.2222222222222222,
              "#7201a8"
             ],
             [
              0.3333333333333333,
              "#9c179e"
             ],
             [
              0.4444444444444444,
              "#bd3786"
             ],
             [
              0.5555555555555556,
              "#d8576b"
             ],
             [
              0.6666666666666666,
              "#ed7953"
             ],
             [
              0.7777777777777778,
              "#fb9f3a"
             ],
             [
              0.8888888888888888,
              "#fdca26"
             ],
             [
              1,
              "#f0f921"
             ]
            ],
            "type": "heatmap"
           }
          ],
          "heatmapgl": [
           {
            "colorbar": {
             "outlinewidth": 0,
             "ticks": ""
            },
            "colorscale": [
             [
              0,
              "#0d0887"
             ],
             [
              0.1111111111111111,
              "#46039f"
             ],
             [
              0.2222222222222222,
              "#7201a8"
             ],
             [
              0.3333333333333333,
              "#9c179e"
             ],
             [
              0.4444444444444444,
              "#bd3786"
             ],
             [
              0.5555555555555556,
              "#d8576b"
             ],
             [
              0.6666666666666666,
              "#ed7953"
             ],
             [
              0.7777777777777778,
              "#fb9f3a"
             ],
             [
              0.8888888888888888,
              "#fdca26"
             ],
             [
              1,
              "#f0f921"
             ]
            ],
            "type": "heatmapgl"
           }
          ],
          "histogram": [
           {
            "marker": {
             "colorbar": {
              "outlinewidth": 0,
              "ticks": ""
             }
            },
            "type": "histogram"
           }
          ],
          "histogram2d": [
           {
            "colorbar": {
             "outlinewidth": 0,
             "ticks": ""
            },
            "colorscale": [
             [
              0,
              "#0d0887"
             ],
             [
              0.1111111111111111,
              "#46039f"
             ],
             [
              0.2222222222222222,
              "#7201a8"
             ],
             [
              0.3333333333333333,
              "#9c179e"
             ],
             [
              0.4444444444444444,
              "#bd3786"
             ],
             [
              0.5555555555555556,
              "#d8576b"
             ],
             [
              0.6666666666666666,
              "#ed7953"
             ],
             [
              0.7777777777777778,
              "#fb9f3a"
             ],
             [
              0.8888888888888888,
              "#fdca26"
             ],
             [
              1,
              "#f0f921"
             ]
            ],
            "type": "histogram2d"
           }
          ],
          "histogram2dcontour": [
           {
            "colorbar": {
             "outlinewidth": 0,
             "ticks": ""
            },
            "colorscale": [
             [
              0,
              "#0d0887"
             ],
             [
              0.1111111111111111,
              "#46039f"
             ],
             [
              0.2222222222222222,
              "#7201a8"
             ],
             [
              0.3333333333333333,
              "#9c179e"
             ],
             [
              0.4444444444444444,
              "#bd3786"
             ],
             [
              0.5555555555555556,
              "#d8576b"
             ],
             [
              0.6666666666666666,
              "#ed7953"
             ],
             [
              0.7777777777777778,
              "#fb9f3a"
             ],
             [
              0.8888888888888888,
              "#fdca26"
             ],
             [
              1,
              "#f0f921"
             ]
            ],
            "type": "histogram2dcontour"
           }
          ],
          "mesh3d": [
           {
            "colorbar": {
             "outlinewidth": 0,
             "ticks": ""
            },
            "type": "mesh3d"
           }
          ],
          "parcoords": [
           {
            "line": {
             "colorbar": {
              "outlinewidth": 0,
              "ticks": ""
             }
            },
            "type": "parcoords"
           }
          ],
          "pie": [
           {
            "automargin": true,
            "type": "pie"
           }
          ],
          "scatter": [
           {
            "marker": {
             "colorbar": {
              "outlinewidth": 0,
              "ticks": ""
             }
            },
            "type": "scatter"
           }
          ],
          "scatter3d": [
           {
            "line": {
             "colorbar": {
              "outlinewidth": 0,
              "ticks": ""
             }
            },
            "marker": {
             "colorbar": {
              "outlinewidth": 0,
              "ticks": ""
             }
            },
            "type": "scatter3d"
           }
          ],
          "scattercarpet": [
           {
            "marker": {
             "colorbar": {
              "outlinewidth": 0,
              "ticks": ""
             }
            },
            "type": "scattercarpet"
           }
          ],
          "scattergeo": [
           {
            "marker": {
             "colorbar": {
              "outlinewidth": 0,
              "ticks": ""
             }
            },
            "type": "scattergeo"
           }
          ],
          "scattergl": [
           {
            "marker": {
             "colorbar": {
              "outlinewidth": 0,
              "ticks": ""
             }
            },
            "type": "scattergl"
           }
          ],
          "scattermapbox": [
           {
            "marker": {
             "colorbar": {
              "outlinewidth": 0,
              "ticks": ""
             }
            },
            "type": "scattermapbox"
           }
          ],
          "scatterpolar": [
           {
            "marker": {
             "colorbar": {
              "outlinewidth": 0,
              "ticks": ""
             }
            },
            "type": "scatterpolar"
           }
          ],
          "scatterpolargl": [
           {
            "marker": {
             "colorbar": {
              "outlinewidth": 0,
              "ticks": ""
             }
            },
            "type": "scatterpolargl"
           }
          ],
          "scatterternary": [
           {
            "marker": {
             "colorbar": {
              "outlinewidth": 0,
              "ticks": ""
             }
            },
            "type": "scatterternary"
           }
          ],
          "surface": [
           {
            "colorbar": {
             "outlinewidth": 0,
             "ticks": ""
            },
            "colorscale": [
             [
              0,
              "#0d0887"
             ],
             [
              0.1111111111111111,
              "#46039f"
             ],
             [
              0.2222222222222222,
              "#7201a8"
             ],
             [
              0.3333333333333333,
              "#9c179e"
             ],
             [
              0.4444444444444444,
              "#bd3786"
             ],
             [
              0.5555555555555556,
              "#d8576b"
             ],
             [
              0.6666666666666666,
              "#ed7953"
             ],
             [
              0.7777777777777778,
              "#fb9f3a"
             ],
             [
              0.8888888888888888,
              "#fdca26"
             ],
             [
              1,
              "#f0f921"
             ]
            ],
            "type": "surface"
           }
          ],
          "table": [
           {
            "cells": {
             "fill": {
              "color": "#EBF0F8"
             },
             "line": {
              "color": "white"
             }
            },
            "header": {
             "fill": {
              "color": "#C8D4E3"
             },
             "line": {
              "color": "white"
             }
            },
            "type": "table"
           }
          ]
         },
         "layout": {
          "annotationdefaults": {
           "arrowcolor": "#2a3f5f",
           "arrowhead": 0,
           "arrowwidth": 1
          },
          "coloraxis": {
           "colorbar": {
            "outlinewidth": 0,
            "ticks": ""
           }
          },
          "colorscale": {
           "diverging": [
            [
             0,
             "#8e0152"
            ],
            [
             0.1,
             "#c51b7d"
            ],
            [
             0.2,
             "#de77ae"
            ],
            [
             0.3,
             "#f1b6da"
            ],
            [
             0.4,
             "#fde0ef"
            ],
            [
             0.5,
             "#f7f7f7"
            ],
            [
             0.6,
             "#e6f5d0"
            ],
            [
             0.7,
             "#b8e186"
            ],
            [
             0.8,
             "#7fbc41"
            ],
            [
             0.9,
             "#4d9221"
            ],
            [
             1,
             "#276419"
            ]
           ],
           "sequential": [
            [
             0,
             "#0d0887"
            ],
            [
             0.1111111111111111,
             "#46039f"
            ],
            [
             0.2222222222222222,
             "#7201a8"
            ],
            [
             0.3333333333333333,
             "#9c179e"
            ],
            [
             0.4444444444444444,
             "#bd3786"
            ],
            [
             0.5555555555555556,
             "#d8576b"
            ],
            [
             0.6666666666666666,
             "#ed7953"
            ],
            [
             0.7777777777777778,
             "#fb9f3a"
            ],
            [
             0.8888888888888888,
             "#fdca26"
            ],
            [
             1,
             "#f0f921"
            ]
           ],
           "sequentialminus": [
            [
             0,
             "#0d0887"
            ],
            [
             0.1111111111111111,
             "#46039f"
            ],
            [
             0.2222222222222222,
             "#7201a8"
            ],
            [
             0.3333333333333333,
             "#9c179e"
            ],
            [
             0.4444444444444444,
             "#bd3786"
            ],
            [
             0.5555555555555556,
             "#d8576b"
            ],
            [
             0.6666666666666666,
             "#ed7953"
            ],
            [
             0.7777777777777778,
             "#fb9f3a"
            ],
            [
             0.8888888888888888,
             "#fdca26"
            ],
            [
             1,
             "#f0f921"
            ]
           ]
          },
          "colorway": [
           "#636efa",
           "#EF553B",
           "#00cc96",
           "#ab63fa",
           "#FFA15A",
           "#19d3f3",
           "#FF6692",
           "#B6E880",
           "#FF97FF",
           "#FECB52"
          ],
          "font": {
           "color": "#2a3f5f"
          },
          "geo": {
           "bgcolor": "white",
           "lakecolor": "white",
           "landcolor": "#E5ECF6",
           "showlakes": true,
           "showland": true,
           "subunitcolor": "white"
          },
          "hoverlabel": {
           "align": "left"
          },
          "hovermode": "closest",
          "mapbox": {
           "style": "light"
          },
          "paper_bgcolor": "white",
          "plot_bgcolor": "#E5ECF6",
          "polar": {
           "angularaxis": {
            "gridcolor": "white",
            "linecolor": "white",
            "ticks": ""
           },
           "bgcolor": "#E5ECF6",
           "radialaxis": {
            "gridcolor": "white",
            "linecolor": "white",
            "ticks": ""
           }
          },
          "scene": {
           "xaxis": {
            "backgroundcolor": "#E5ECF6",
            "gridcolor": "white",
            "gridwidth": 2,
            "linecolor": "white",
            "showbackground": true,
            "ticks": "",
            "zerolinecolor": "white"
           },
           "yaxis": {
            "backgroundcolor": "#E5ECF6",
            "gridcolor": "white",
            "gridwidth": 2,
            "linecolor": "white",
            "showbackground": true,
            "ticks": "",
            "zerolinecolor": "white"
           },
           "zaxis": {
            "backgroundcolor": "#E5ECF6",
            "gridcolor": "white",
            "gridwidth": 2,
            "linecolor": "white",
            "showbackground": true,
            "ticks": "",
            "zerolinecolor": "white"
           }
          },
          "shapedefaults": {
           "line": {
            "color": "#2a3f5f"
           }
          },
          "ternary": {
           "aaxis": {
            "gridcolor": "white",
            "linecolor": "white",
            "ticks": ""
           },
           "baxis": {
            "gridcolor": "white",
            "linecolor": "white",
            "ticks": ""
           },
           "bgcolor": "#E5ECF6",
           "caxis": {
            "gridcolor": "white",
            "linecolor": "white",
            "ticks": ""
           }
          },
          "title": {
           "x": 0.05
          },
          "xaxis": {
           "automargin": true,
           "gridcolor": "white",
           "linecolor": "white",
           "ticks": "",
           "title": {
            "standoff": 15
           },
           "zerolinecolor": "white",
           "zerolinewidth": 2
          },
          "yaxis": {
           "automargin": true,
           "gridcolor": "white",
           "linecolor": "white",
           "ticks": "",
           "title": {
            "standoff": 15
           },
           "zerolinecolor": "white",
           "zerolinewidth": 2
          }
         }
        },
        "title": {
         "text": "QST<br> num of estimates=100"
        },
        "xaxis": {
         "title": {
          "text": "number of data"
         },
         "type": "log"
        },
        "yaxis": {
         "title": {
          "text": "Mean Square Error of estimates and true"
         },
         "type": "log"
        }
       }
      }
     },
     "metadata": {}
    },
    {
     "output_type": "stream",
     "name": "stdout",
     "text": "[0.0037198670102283637, 0.00038518391491347727, 5.520930649354862e-05, 5.2654284573857005e-06]\n[0.008957848102373949, 0.000924632500317718, 9.79191411262894e-05, 6.875151067797309e-06]\n"
    }
   ],
   "source": [
    "### now!\n",
    "import plotly.graph_objects as go\n",
    "from quara.protocol.qtomography.standard.standard_qtomography_estimator import (\n",
    "    StandardQTomographyEstimator,\n",
    "    StandardQTomographyEstimationResult,\n",
    ")\n",
    "\n",
    "# common\n",
    "def calc_mse(xs: List[QOperation], ys: List[QOperation]) -> np.float64:\n",
    "    points = []\n",
    "    for x, y in zip(xs, ys):\n",
    "        x_vec = x.to_stacked_vector()\n",
    "        y_vec = y.to_stacked_vector()\n",
    "        point = np.vdot(x_vec - y_vec, x_vec - y_vec)\n",
    "        points.append(point)\n",
    "        print(point, x_vec)\n",
    "\n",
    "    mse = np.mean(points, dtype=np.float64)\n",
    "    std = np.std(points, dtype=np.float64, ddof=1)\n",
    "    return mse, std\n",
    "\n",
    "# common(StandardQTomography)\n",
    "def convert_to_series(\n",
    "    results: List[StandardQTomographyEstimationResult], true_object: QOperation\n",
    "):\n",
    "    # calc mse\n",
    "    results_tmp = [result.estimated_qoperation_sequence for result in results]\n",
    "    results_tmp = [\n",
    "        list(qoperation_sequence) for qoperation_sequence in zip(*results_tmp)\n",
    "    ]\n",
    "    mses = [\n",
    "        calc_mse(qoperation_sequence, [true_object] * len(qoperation_sequence))\n",
    "        for qoperation_sequence in results_tmp\n",
    "    ]\n",
    "    stds = [mse[1] for mse in mses]\n",
    "    mses = [mse[0] for mse in mses]\n",
    "\n",
    "    # convert to computation time series\n",
    "    comp_time_tmp = [result.computation_times for result in results]\n",
    "    comp_time = [list(comp_time) for comp_time in zip(*comp_time_tmp)]\n",
    "\n",
    "    return mses, stds, comp_time\n",
    "\n",
    "# common(show log-log scatter?)\n",
    "def show_mse(name: str, num_data: List[int], mses: List[float], std_mses: List[float], num_of_estimates: int, title: str = None):\n",
    "    if title is None:\n",
    "        title = f\"QST<br> num of estimates={num_of_estimates}\"\n",
    "    trace = go.Scatter(\n",
    "        name=name,\n",
    "        x=num_data,\n",
    "        y=mses,\n",
    "        mode=\"lines+markers\",\n",
    "        error_y = dict(\n",
    "            type=\"data\",\n",
    "            array=std_mses,\n",
    "            visible=True\n",
    "        ),\n",
    "    )\n",
    "    data = [trace]\n",
    "    layout = go.Layout(\n",
    "        title=title,\n",
    "        xaxis_title_text=\"number of data\",\n",
    "        yaxis_title_text=\"Mean Square Error of estimates and true\",\n",
    "        xaxis_type=\"log\",\n",
    "        yaxis_type=\"log\",\n",
    "    )\n",
    "    fig = go.Figure(data=data, layout=layout)\n",
    "    fig.show()\n",
    "\n",
    "\n",
    "# show graphs\n",
    "#print(param_affine_est_linear)\n",
    "#param_affine_est_linear_mses, param_affine_est_linear_stds, time_affine_est_linear = convert_to_series(results_affine_est_linear, true_object)\n",
    "show_mse(\"param=affine, est=linear\", num_data, mse_affine_est_linear, std_affine_est_linear, iteration)\n",
    "#data_analyzer.show_mse(num_data, param_affine_est_linear)\n",
    "print(mse_affine_est_linear)\n",
    "print(std_affine_est_linear)"
   ]
  },
  {
   "cell_type": "code",
   "execution_count": 38,
   "metadata": {
    "tags": []
   },
   "outputs": [
    {
     "output_type": "stream",
     "name": "stdout",
     "text": "[0.40836244 0.40836244 0.40836244]\n[0.40874878 0.40874878 0.40874878]\n[0.40833298 0.40833298 0.40833298]\n[0.40830445 0.40830445 0.40830445]\n[0.40874878 0.40874878 0.40874878]\n[0.33941125 0.33941125 0.33941125]\n[0.40874878 0.40874878 0.40874878]\n[0.4084839 0.4084839 0.4084839]\n[0.40874878 0.40874878 0.40874878]\n[0.4084839 0.4084839 0.4084839]\n[0.40842134 0.40842134 0.40842134]\n[0.40874878 0.40874878 0.40874878]\n[0.38183766 0.38183766 0.38183766]\n[0.40874878 0.40874878 0.40874878]\n[0.40834679 0.40834679 0.40834679]\n[0.40839006 0.40839006 0.40839006]\n[0.40842134 0.40842134 0.40842134]\n[0.38183766 0.38183766 0.38183766]\n[0.3959798 0.3959798 0.3959798]\n[0.40918511 0.40918511 0.40918511]\n[0.40839006 0.40839006 0.40839006]\n[0.35355339 0.35355339 0.35355339]\n[0.3959798 0.3959798 0.3959798]\n[0.36769553 0.36769553 0.36769553]\n[0.32526912 0.32526912 0.32526912]\n[0.40836244 0.40836244 0.40836244]\n[0.38183766 0.38183766 0.38183766]\n[0.32526912 0.32526912 0.32526912]\n[0.33941125 0.33941125 0.33941125]\n[0.38183766 0.38183766 0.38183766]\n[0.4084839 0.4084839 0.4084839]\n[0.40834679 0.40834679 0.40834679]\n[0.40833298 0.40833298 0.40833298]\n[0.3959798 0.3959798 0.3959798]\n[0.26870058 0.26870058 0.26870058]\n[0.40918511 0.40918511 0.40918511]\n[0.4084839 0.4084839 0.4084839]\n[0.36769553 0.36769553 0.36769553]\n[0.4084839 0.4084839 0.4084839]\n[0.28284271 0.28284271 0.28284271]\n[0.40918511 0.40918511 0.40918511]\n[0.40839006 0.40839006 0.40839006]\n[0.40842134 0.40842134 0.40842134]\n[0.36769553 0.36769553 0.36769553]\n[0.36769553 0.36769553 0.36769553]\n[0.40918511 0.40918511 0.40918511]\n[0.40839006 0.40839006 0.40839006]\n[0.40874878 0.40874878 0.40874878]\n[0.40836244 0.40836244 0.40836244]\n[0.33941125 0.33941125 0.33941125]\n[0.36769553 0.36769553 0.36769553]\n[0.40834679 0.40834679 0.40834679]\n[0.38183766 0.38183766 0.38183766]\n[0.3959798 0.3959798 0.3959798]\n[0.40836244 0.40836244 0.40836244]\n[0.3959798 0.3959798 0.3959798]\n[0.40874878 0.40874878 0.40874878]\n[0.40842134 0.40842134 0.40842134]\n[0.40842134 0.40842134 0.40842134]\n[0.40918511 0.40918511 0.40918511]\n[0.40836244 0.40836244 0.40836244]\n[0.40918511 0.40918511 0.40918511]\n[0.32526912 0.32526912 0.32526912]\n[0.36769553 0.36769553 0.36769553]\n[0.40836244 0.40836244 0.40836244]\n[0.40833298 0.40833298 0.40833298]\n[0.40834679 0.40834679 0.40834679]\n[0.40918511 0.40918511 0.40918511]\n[0.4084839 0.4084839 0.4084839]\n[0.40831826 0.40831826 0.40831826]\n[0.35355339 0.35355339 0.35355339]\n[0.32526912 0.32526912 0.32526912]\n[0.40834679 0.40834679 0.40834679]\n[0.40918511 0.40918511 0.40918511]\n[0.40833298 0.40833298 0.40833298]\n[0.40918511 0.40918511 0.40918511]\n[0.32526912 0.32526912 0.32526912]\n[0.4084839 0.4084839 0.4084839]\n[0.40918511 0.40918511 0.40918511]\n[0.3959798 0.3959798 0.3959798]\n[0.33941125 0.33941125 0.33941125]\n[0.40836244 0.40836244 0.40836244]\n[0.3959798 0.3959798 0.3959798]\n[0.40918511 0.40918511 0.40918511]\n[0.4084839 0.4084839 0.4084839]\n[0.40874878 0.40874878 0.40874878]\n[0.4084839 0.4084839 0.4084839]\n[0.3959798 0.3959798 0.3959798]\n[0.38183766 0.38183766 0.38183766]\n[0.40842134 0.40842134 0.40842134]\n[0.35355339 0.35355339 0.35355339]\n[0.4084839 0.4084839 0.4084839]\n[0.35355339 0.35355339 0.35355339]\n[0.40836244 0.40836244 0.40836244]\n[0.40830445 0.40830445 0.40830445]\n[0.33941125 0.33941125 0.33941125]\n[0.36769553 0.36769553 0.36769553]\n[0.3959798 0.3959798 0.3959798]\n[0.40836244 0.40836244 0.40836244]\n[0.36769553 0.36769553 0.36769553]\n"
    }
   ],
   "source": [
    "for index in range(100):\n",
    "    print(results_affine_est_linear[index].estimated_var_sequence[0])"
   ]
  },
  {
   "cell_type": "code",
   "execution_count": 33,
   "metadata": {
    "tags": []
   },
   "outputs": [
    {
     "output_type": "stream",
     "name": "stdout",
     "text": "0.5012266954544652\n0.3455999898796875\n"
    }
   ],
   "source": [
    "print(0.40874878**2 + 0.40874878**2 + 0.40874878**2)\n",
    "print(0.33941125**2 + 0.33941125**2 + 0.33941125**2)"
   ]
  },
  {
   "cell_type": "code",
   "execution_count": 7,
   "metadata": {},
   "outputs": [
    {
     "output_type": "display_data",
     "data": {
      "application/vnd.plotly.v1+json": {
       "config": {
        "plotlyServerURL": "https://plot.ly"
       },
       "data": [
        {
         "error_y": {
          "array": [
           5,
           5,
           5
          ],
          "type": "data",
          "visible": true
         },
         "mode": "lines+markers",
         "type": "scatter",
         "x": [
          10,
          20,
          30
         ],
         "y": [
          50,
          60,
          70
         ]
        }
       ],
       "layout": {
        "template": {
         "data": {
          "bar": [
           {
            "error_x": {
             "color": "#2a3f5f"
            },
            "error_y": {
             "color": "#2a3f5f"
            },
            "marker": {
             "line": {
              "color": "#E5ECF6",
              "width": 0.5
             }
            },
            "type": "bar"
           }
          ],
          "barpolar": [
           {
            "marker": {
             "line": {
              "color": "#E5ECF6",
              "width": 0.5
             }
            },
            "type": "barpolar"
           }
          ],
          "carpet": [
           {
            "aaxis": {
             "endlinecolor": "#2a3f5f",
             "gridcolor": "white",
             "linecolor": "white",
             "minorgridcolor": "white",
             "startlinecolor": "#2a3f5f"
            },
            "baxis": {
             "endlinecolor": "#2a3f5f",
             "gridcolor": "white",
             "linecolor": "white",
             "minorgridcolor": "white",
             "startlinecolor": "#2a3f5f"
            },
            "type": "carpet"
           }
          ],
          "choropleth": [
           {
            "colorbar": {
             "outlinewidth": 0,
             "ticks": ""
            },
            "type": "choropleth"
           }
          ],
          "contour": [
           {
            "colorbar": {
             "outlinewidth": 0,
             "ticks": ""
            },
            "colorscale": [
             [
              0,
              "#0d0887"
             ],
             [
              0.1111111111111111,
              "#46039f"
             ],
             [
              0.2222222222222222,
              "#7201a8"
             ],
             [
              0.3333333333333333,
              "#9c179e"
             ],
             [
              0.4444444444444444,
              "#bd3786"
             ],
             [
              0.5555555555555556,
              "#d8576b"
             ],
             [
              0.6666666666666666,
              "#ed7953"
             ],
             [
              0.7777777777777778,
              "#fb9f3a"
             ],
             [
              0.8888888888888888,
              "#fdca26"
             ],
             [
              1,
              "#f0f921"
             ]
            ],
            "type": "contour"
           }
          ],
          "contourcarpet": [
           {
            "colorbar": {
             "outlinewidth": 0,
             "ticks": ""
            },
            "type": "contourcarpet"
           }
          ],
          "heatmap": [
           {
            "colorbar": {
             "outlinewidth": 0,
             "ticks": ""
            },
            "colorscale": [
             [
              0,
              "#0d0887"
             ],
             [
              0.1111111111111111,
              "#46039f"
             ],
             [
              0.2222222222222222,
              "#7201a8"
             ],
             [
              0.3333333333333333,
              "#9c179e"
             ],
             [
              0.4444444444444444,
              "#bd3786"
             ],
             [
              0.5555555555555556,
              "#d8576b"
             ],
             [
              0.6666666666666666,
              "#ed7953"
             ],
             [
              0.7777777777777778,
              "#fb9f3a"
             ],
             [
              0.8888888888888888,
              "#fdca26"
             ],
             [
              1,
              "#f0f921"
             ]
            ],
            "type": "heatmap"
           }
          ],
          "heatmapgl": [
           {
            "colorbar": {
             "outlinewidth": 0,
             "ticks": ""
            },
            "colorscale": [
             [
              0,
              "#0d0887"
             ],
             [
              0.1111111111111111,
              "#46039f"
             ],
             [
              0.2222222222222222,
              "#7201a8"
             ],
             [
              0.3333333333333333,
              "#9c179e"
             ],
             [
              0.4444444444444444,
              "#bd3786"
             ],
             [
              0.5555555555555556,
              "#d8576b"
             ],
             [
              0.6666666666666666,
              "#ed7953"
             ],
             [
              0.7777777777777778,
              "#fb9f3a"
             ],
             [
              0.8888888888888888,
              "#fdca26"
             ],
             [
              1,
              "#f0f921"
             ]
            ],
            "type": "heatmapgl"
           }
          ],
          "histogram": [
           {
            "marker": {
             "colorbar": {
              "outlinewidth": 0,
              "ticks": ""
             }
            },
            "type": "histogram"
           }
          ],
          "histogram2d": [
           {
            "colorbar": {
             "outlinewidth": 0,
             "ticks": ""
            },
            "colorscale": [
             [
              0,
              "#0d0887"
             ],
             [
              0.1111111111111111,
              "#46039f"
             ],
             [
              0.2222222222222222,
              "#7201a8"
             ],
             [
              0.3333333333333333,
              "#9c179e"
             ],
             [
              0.4444444444444444,
              "#bd3786"
             ],
             [
              0.5555555555555556,
              "#d8576b"
             ],
             [
              0.6666666666666666,
              "#ed7953"
             ],
             [
              0.7777777777777778,
              "#fb9f3a"
             ],
             [
              0.8888888888888888,
              "#fdca26"
             ],
             [
              1,
              "#f0f921"
             ]
            ],
            "type": "histogram2d"
           }
          ],
          "histogram2dcontour": [
           {
            "colorbar": {
             "outlinewidth": 0,
             "ticks": ""
            },
            "colorscale": [
             [
              0,
              "#0d0887"
             ],
             [
              0.1111111111111111,
              "#46039f"
             ],
             [
              0.2222222222222222,
              "#7201a8"
             ],
             [
              0.3333333333333333,
              "#9c179e"
             ],
             [
              0.4444444444444444,
              "#bd3786"
             ],
             [
              0.5555555555555556,
              "#d8576b"
             ],
             [
              0.6666666666666666,
              "#ed7953"
             ],
             [
              0.7777777777777778,
              "#fb9f3a"
             ],
             [
              0.8888888888888888,
              "#fdca26"
             ],
             [
              1,
              "#f0f921"
             ]
            ],
            "type": "histogram2dcontour"
           }
          ],
          "mesh3d": [
           {
            "colorbar": {
             "outlinewidth": 0,
             "ticks": ""
            },
            "type": "mesh3d"
           }
          ],
          "parcoords": [
           {
            "line": {
             "colorbar": {
              "outlinewidth": 0,
              "ticks": ""
             }
            },
            "type": "parcoords"
           }
          ],
          "pie": [
           {
            "automargin": true,
            "type": "pie"
           }
          ],
          "scatter": [
           {
            "marker": {
             "colorbar": {
              "outlinewidth": 0,
              "ticks": ""
             }
            },
            "type": "scatter"
           }
          ],
          "scatter3d": [
           {
            "line": {
             "colorbar": {
              "outlinewidth": 0,
              "ticks": ""
             }
            },
            "marker": {
             "colorbar": {
              "outlinewidth": 0,
              "ticks": ""
             }
            },
            "type": "scatter3d"
           }
          ],
          "scattercarpet": [
           {
            "marker": {
             "colorbar": {
              "outlinewidth": 0,
              "ticks": ""
             }
            },
            "type": "scattercarpet"
           }
          ],
          "scattergeo": [
           {
            "marker": {
             "colorbar": {
              "outlinewidth": 0,
              "ticks": ""
             }
            },
            "type": "scattergeo"
           }
          ],
          "scattergl": [
           {
            "marker": {
             "colorbar": {
              "outlinewidth": 0,
              "ticks": ""
             }
            },
            "type": "scattergl"
           }
          ],
          "scattermapbox": [
           {
            "marker": {
             "colorbar": {
              "outlinewidth": 0,
              "ticks": ""
             }
            },
            "type": "scattermapbox"
           }
          ],
          "scatterpolar": [
           {
            "marker": {
             "colorbar": {
              "outlinewidth": 0,
              "ticks": ""
             }
            },
            "type": "scatterpolar"
           }
          ],
          "scatterpolargl": [
           {
            "marker": {
             "colorbar": {
              "outlinewidth": 0,
              "ticks": ""
             }
            },
            "type": "scatterpolargl"
           }
          ],
          "scatterternary": [
           {
            "marker": {
             "colorbar": {
              "outlinewidth": 0,
              "ticks": ""
             }
            },
            "type": "scatterternary"
           }
          ],
          "surface": [
           {
            "colorbar": {
             "outlinewidth": 0,
             "ticks": ""
            },
            "colorscale": [
             [
              0,
              "#0d0887"
             ],
             [
              0.1111111111111111,
              "#46039f"
             ],
             [
              0.2222222222222222,
              "#7201a8"
             ],
             [
              0.3333333333333333,
              "#9c179e"
             ],
             [
              0.4444444444444444,
              "#bd3786"
             ],
             [
              0.5555555555555556,
              "#d8576b"
             ],
             [
              0.6666666666666666,
              "#ed7953"
             ],
             [
              0.7777777777777778,
              "#fb9f3a"
             ],
             [
              0.8888888888888888,
              "#fdca26"
             ],
             [
              1,
              "#f0f921"
             ]
            ],
            "type": "surface"
           }
          ],
          "table": [
           {
            "cells": {
             "fill": {
              "color": "#EBF0F8"
             },
             "line": {
              "color": "white"
             }
            },
            "header": {
             "fill": {
              "color": "#C8D4E3"
             },
             "line": {
              "color": "white"
             }
            },
            "type": "table"
           }
          ]
         },
         "layout": {
          "annotationdefaults": {
           "arrowcolor": "#2a3f5f",
           "arrowhead": 0,
           "arrowwidth": 1
          },
          "coloraxis": {
           "colorbar": {
            "outlinewidth": 0,
            "ticks": ""
           }
          },
          "colorscale": {
           "diverging": [
            [
             0,
             "#8e0152"
            ],
            [
             0.1,
             "#c51b7d"
            ],
            [
             0.2,
             "#de77ae"
            ],
            [
             0.3,
             "#f1b6da"
            ],
            [
             0.4,
             "#fde0ef"
            ],
            [
             0.5,
             "#f7f7f7"
            ],
            [
             0.6,
             "#e6f5d0"
            ],
            [
             0.7,
             "#b8e186"
            ],
            [
             0.8,
             "#7fbc41"
            ],
            [
             0.9,
             "#4d9221"
            ],
            [
             1,
             "#276419"
            ]
           ],
           "sequential": [
            [
             0,
             "#0d0887"
            ],
            [
             0.1111111111111111,
             "#46039f"
            ],
            [
             0.2222222222222222,
             "#7201a8"
            ],
            [
             0.3333333333333333,
             "#9c179e"
            ],
            [
             0.4444444444444444,
             "#bd3786"
            ],
            [
             0.5555555555555556,
             "#d8576b"
            ],
            [
             0.6666666666666666,
             "#ed7953"
            ],
            [
             0.7777777777777778,
             "#fb9f3a"
            ],
            [
             0.8888888888888888,
             "#fdca26"
            ],
            [
             1,
             "#f0f921"
            ]
           ],
           "sequentialminus": [
            [
             0,
             "#0d0887"
            ],
            [
             0.1111111111111111,
             "#46039f"
            ],
            [
             0.2222222222222222,
             "#7201a8"
            ],
            [
             0.3333333333333333,
             "#9c179e"
            ],
            [
             0.4444444444444444,
             "#bd3786"
            ],
            [
             0.5555555555555556,
             "#d8576b"
            ],
            [
             0.6666666666666666,
             "#ed7953"
            ],
            [
             0.7777777777777778,
             "#fb9f3a"
            ],
            [
             0.8888888888888888,
             "#fdca26"
            ],
            [
             1,
             "#f0f921"
            ]
           ]
          },
          "colorway": [
           "#636efa",
           "#EF553B",
           "#00cc96",
           "#ab63fa",
           "#FFA15A",
           "#19d3f3",
           "#FF6692",
           "#B6E880",
           "#FF97FF",
           "#FECB52"
          ],
          "font": {
           "color": "#2a3f5f"
          },
          "geo": {
           "bgcolor": "white",
           "lakecolor": "white",
           "landcolor": "#E5ECF6",
           "showlakes": true,
           "showland": true,
           "subunitcolor": "white"
          },
          "hoverlabel": {
           "align": "left"
          },
          "hovermode": "closest",
          "mapbox": {
           "style": "light"
          },
          "paper_bgcolor": "white",
          "plot_bgcolor": "#E5ECF6",
          "polar": {
           "angularaxis": {
            "gridcolor": "white",
            "linecolor": "white",
            "ticks": ""
           },
           "bgcolor": "#E5ECF6",
           "radialaxis": {
            "gridcolor": "white",
            "linecolor": "white",
            "ticks": ""
           }
          },
          "scene": {
           "xaxis": {
            "backgroundcolor": "#E5ECF6",
            "gridcolor": "white",
            "gridwidth": 2,
            "linecolor": "white",
            "showbackground": true,
            "ticks": "",
            "zerolinecolor": "white"
           },
           "yaxis": {
            "backgroundcolor": "#E5ECF6",
            "gridcolor": "white",
            "gridwidth": 2,
            "linecolor": "white",
            "showbackground": true,
            "ticks": "",
            "zerolinecolor": "white"
           },
           "zaxis": {
            "backgroundcolor": "#E5ECF6",
            "gridcolor": "white",
            "gridwidth": 2,
            "linecolor": "white",
            "showbackground": true,
            "ticks": "",
            "zerolinecolor": "white"
           }
          },
          "shapedefaults": {
           "line": {
            "color": "#2a3f5f"
           }
          },
          "ternary": {
           "aaxis": {
            "gridcolor": "white",
            "linecolor": "white",
            "ticks": ""
           },
           "baxis": {
            "gridcolor": "white",
            "linecolor": "white",
            "ticks": ""
           },
           "bgcolor": "#E5ECF6",
           "caxis": {
            "gridcolor": "white",
            "linecolor": "white",
            "ticks": ""
           }
          },
          "title": {
           "x": 0.05
          },
          "xaxis": {
           "automargin": true,
           "gridcolor": "white",
           "linecolor": "white",
           "ticks": "",
           "title": {
            "standoff": 15
           },
           "zerolinecolor": "white",
           "zerolinewidth": 2
          },
          "yaxis": {
           "automargin": true,
           "gridcolor": "white",
           "linecolor": "white",
           "ticks": "",
           "title": {
            "standoff": 15
           },
           "zerolinecolor": "white",
           "zerolinewidth": 2
          }
         }
        },
        "title": {
         "text": "Mean Square Value"
        },
        "xaxis": {
         "title": {
          "text": "number of data"
         }
        },
        "yaxis": {
         "range": [
          0,
          82.5
         ],
         "title": {
          "text": "Mean Square Error of estimates and true"
         }
        }
       }
      }
     },
     "metadata": {}
    }
   ],
   "source": [
    "# common(show log-log scatter?)\n",
    "def show_mse(num_data: List[int], mses: List[float], std_mses: List[float], title: str = \"Mean Square Value\"):\n",
    "    trace = go.Scatter(\n",
    "        x=num_data,\n",
    "        y=mses,\n",
    "        mode=\"lines+markers\",\n",
    "        error_y = dict(\n",
    "            type=\"data\",\n",
    "            array=std_mses,\n",
    "            visible=True\n",
    "        ),\n",
    "    )\n",
    "    data = [trace]\n",
    "    max_value = np.max(mses) + np.max(std_mses)\n",
    "    layout = go.Layout(\n",
    "        title=title,\n",
    "        xaxis_title_text=\"number of data\",\n",
    "        yaxis_title_text=\"Mean Square Error of estimates and true\",\n",
    "        yaxis_range=[0, max_value * 1.1],\n",
    "    )\n",
    "    fig = go.Figure(data=data, layout=layout)\n",
    "    fig.show()\n",
    "\n",
    "show_mse([10,20,30], [50, 60, 70], [5, 5, 5])"
   ]
  },
  {
   "cell_type": "code",
   "execution_count": 8,
   "metadata": {
    "tags": []
   },
   "outputs": [
    {
     "output_type": "stream",
     "name": "stdout",
     "text": "0.5001999735289457\n0.5071744503367753\n"
    }
   ],
   "source": [
    "print(0.01413931**2 +  0.01413931**2 +  0.70696544**2)\n",
    "print(0.08425476**2 +  0.08425476**2 +  0.70212301**2)"
   ]
  },
  {
   "cell_type": "code",
   "execution_count": 41,
   "metadata": {},
   "outputs": [
    {
     "output_type": "execute_result",
     "data": {
      "text/plain": "0.006120000000000008"
     },
     "metadata": {},
     "execution_count": 41
    }
   ],
   "source": [
    "x = [0.00040000000000000186, 0.00040000000000000186, 0.014400000000000015, 0.0036000000000000073, 0.014400000000000015, 0.00040000000000000186, 0.010000000000000012, 0.0016000000000000044, 0.0016000000000000044, 0.014400000000000015]\n",
    "np.mean(x)"
   ]
  },
  {
   "cell_type": "code",
   "execution_count": 31,
   "metadata": {
    "tags": []
   },
   "outputs": [
    {
     "output_type": "stream",
     "name": "stdout",
     "text": "0.006377878435132909\n0.0013753888177530022\n0.00021323092808814848\n1.4750693705781257e-05\n"
    },
    {
     "output_type": "error",
     "ename": "TypeError",
     "evalue": "show_mse() missing 1 required positional argument: 'std_mses'",
     "traceback": [
      "\u001b[1;31m---------------------------------------------------------------------------\u001b[0m",
      "\u001b[1;31mTypeError\u001b[0m                                 Traceback (most recent call last)",
      "\u001b[1;32m<ipython-input-31-6672f9a6c068>\u001b[0m in \u001b[0;36m<module>\u001b[1;34m\u001b[0m\n\u001b[0;32m     40\u001b[0m \u001b[1;31m#print(param_affine_est_linear2)\u001b[0m\u001b[1;33m\u001b[0m\u001b[1;33m\u001b[0m\u001b[1;33m\u001b[0m\u001b[0m\n\u001b[0;32m     41\u001b[0m \u001b[1;31m#data_analyzer.show_mse(num_data, param_affine_est_linear)\u001b[0m\u001b[1;33m\u001b[0m\u001b[1;33m\u001b[0m\u001b[1;33m\u001b[0m\u001b[0m\n\u001b[1;32m---> 42\u001b[1;33m \u001b[0mshow_mse\u001b[0m\u001b[1;33m(\u001b[0m\u001b[0mnum_data\u001b[0m\u001b[1;33m,\u001b[0m \u001b[0mparam_affine_est_linear\u001b[0m\u001b[1;33m)\u001b[0m\u001b[1;33m\u001b[0m\u001b[1;33m\u001b[0m\u001b[0m\n\u001b[0m",
      "\u001b[1;31mTypeError\u001b[0m: show_mse() missing 1 required positional argument: 'std_mses'"
     ]
    }
   ],
   "source": [
    "from quara.protocol.qtomography.standard.standard_qtomography_estimator import (\n",
    "    StandardQTomographyEstimator,\n",
    "    StandardQTomographyEstimationResult,\n",
    ")\n",
    "\n",
    "# common\n",
    "def calc_mse(xs: List[QOperation], ys: List[QOperation]) -> np.float64:\n",
    "    points = []\n",
    "    for x, y in zip(xs, ys):\n",
    "        x_vec = x.to_stacked_vector()\n",
    "        y_vec = y.to_stacked_vector()\n",
    "        point = np.vdot(x_vec - y_vec, x_vec - y_vec)\n",
    "        points.append(point)\n",
    "\n",
    "    mse = np.mean(points, dtype=np.float64)\n",
    "    std = np.std(points, dtype=np.float64, ddof=1)\n",
    "    return mse, std\n",
    "\n",
    "def convert_to_series(\n",
    "    results: List[StandardQTomographyEstimationResult], true_object: QOperation\n",
    "):\n",
    "    # calc mse\n",
    "    results_tmp = [result.estimated_qoperation_sequence for result in results]\n",
    "    results_tmp = [\n",
    "        list(qoperation_sequence) for qoperation_sequence in zip(*results_tmp)\n",
    "    ]\n",
    "    mses_stds = [\n",
    "        calc_mse(qoperation_sequence, [true_object] * len(qoperation_sequence))\n",
    "        for qoperation_sequence in results_tmp\n",
    "    ]\n",
    "\n",
    "    # convert to computation time series\n",
    "    comp_time_tmp = [result.computation_times for result in results]\n",
    "    comp_time = [list(comp_time) for comp_time in zip(*comp_time_tmp)]\n",
    "\n",
    "    return mses_stds, comp_time\n",
    "\n",
    "param_affine_est_linear2, time_affine_est_linear = convert_to_series(results_affine_est_linear, true_object)\n",
    "print(param_affine_est_linear2)\n",
    "#data_analyzer.show_mse(num_data, param_affine_est_linear)\n",
    "show_mse(num_data, param_affine_est_linear)"
   ]
  },
  {
   "cell_type": "code",
   "execution_count": 51,
   "metadata": {
    "tags": []
   },
   "outputs": [
    {
     "output_type": "stream",
     "name": "stdout",
     "text": "param=affine, est=linear: [0.006120000000000008, 0.0009372000000000015, 0.00014730399999999952, 9.04508000000003e-06]\nparam=affine, est=proj  : [0.006056538960553601, 0.000934955923290004, 0.00014724925905300592, 9.044837081659776e-06]\nparam=linear, est=linear: [0.006120000000000007, 0.0009372000000000023, 0.0001473039999999987, 9.04507999999998e-06]\nparam=linear, est=proj  : [0.006056538960553604, 0.0009349559232900045, 0.0001472492590530051, 9.044837081659727e-06]\n"
    }
   ],
   "source": [
    "# calc mse(param_affine)\n",
    "param_affine_est_linear_tmp = [list(obj_sequence) for obj_sequence in zip(*param_affine_est_linear)]\n",
    "mses_param_affine_est_linear = [\n",
    "    calc_mse(obj_sequence, [true_object] * len(obj_sequence)) for obj_sequence in param_affine_est_linear_tmp\n",
    "]\n",
    "mses_param_affine_est_proj = [\n",
    "    calc_mse_proj(obj_sequence, [true_object] * len(obj_sequence)) for obj_sequence in param_affine_est_linear_tmp\n",
    "]\n",
    "print(f\"param=affine, est=linear: {mses_param_affine_est_linear}\")\n",
    "print(f\"param=affine, est=proj  : {mses_param_affine_est_proj}\")\n",
    "\n",
    "# calc mse(param_linear)\n",
    "param_linear_est_linear_tmp = [list(obj_sequence) for obj_sequence in zip(*param_linear_est_linear)]\n",
    "mses_param_linear_est_linear = [\n",
    "    calc_mse(obj_sequence, [true_object] * len(obj_sequence)) for obj_sequence in param_linear_est_linear_tmp\n",
    "]\n",
    "mses_param_linear_est_proj = [\n",
    "    calc_mse_proj(obj_sequence, [true_object] * len(obj_sequence)) for obj_sequence in param_linear_est_linear_tmp\n",
    "]\n",
    "print(f\"param=linear, est=linear: {mses_param_linear_est_linear}\")\n",
    "print(f\"param=linear, est=proj  : {mses_param_linear_est_proj}\")"
   ]
  },
  {
   "cell_type": "code",
   "execution_count": 52,
   "metadata": {
    "tags": []
   },
   "outputs": [
    {
     "output_type": "display_data",
     "data": {
      "application/vnd.plotly.v1+json": {
       "config": {
        "plotlyServerURL": "https://plot.ly"
       },
       "data": [
        {
         "mode": "lines+markers",
         "name": "param=affine, est=linear",
         "type": "scatter",
         "x": [
          100,
          1000,
          10000,
          100000
         ],
         "y": [
          0.006120000000000008,
          0.0009372000000000015,
          0.00014730399999999952,
          0.00000904508000000003
         ]
        },
        {
         "mode": "lines+markers",
         "name": "param=affine, est=proj",
         "type": "scatter",
         "x": [
          100,
          1000,
          10000,
          100000
         ],
         "y": [
          0.006056538960553601,
          0.000934955923290004,
          0.00014724925905300592,
          0.000009044837081659776
         ]
        },
        {
         "mode": "lines+markers",
         "name": "param=linear, est=linear",
         "type": "scatter",
         "x": [
          100,
          1000,
          10000,
          100000
         ],
         "y": [
          0.006120000000000007,
          0.0009372000000000023,
          0.0001473039999999987,
          0.00000904507999999998
         ]
        },
        {
         "mode": "lines+markers",
         "name": "param=linear, est=proj",
         "type": "scatter",
         "x": [
          100,
          1000,
          10000,
          100000
         ],
         "y": [
          0.006056538960553604,
          0.0009349559232900045,
          0.0001472492590530051,
          0.000009044837081659727
         ]
        }
       ],
       "layout": {
        "template": {
         "data": {
          "bar": [
           {
            "error_x": {
             "color": "#2a3f5f"
            },
            "error_y": {
             "color": "#2a3f5f"
            },
            "marker": {
             "line": {
              "color": "#E5ECF6",
              "width": 0.5
             }
            },
            "type": "bar"
           }
          ],
          "barpolar": [
           {
            "marker": {
             "line": {
              "color": "#E5ECF6",
              "width": 0.5
             }
            },
            "type": "barpolar"
           }
          ],
          "carpet": [
           {
            "aaxis": {
             "endlinecolor": "#2a3f5f",
             "gridcolor": "white",
             "linecolor": "white",
             "minorgridcolor": "white",
             "startlinecolor": "#2a3f5f"
            },
            "baxis": {
             "endlinecolor": "#2a3f5f",
             "gridcolor": "white",
             "linecolor": "white",
             "minorgridcolor": "white",
             "startlinecolor": "#2a3f5f"
            },
            "type": "carpet"
           }
          ],
          "choropleth": [
           {
            "colorbar": {
             "outlinewidth": 0,
             "ticks": ""
            },
            "type": "choropleth"
           }
          ],
          "contour": [
           {
            "colorbar": {
             "outlinewidth": 0,
             "ticks": ""
            },
            "colorscale": [
             [
              0,
              "#0d0887"
             ],
             [
              0.1111111111111111,
              "#46039f"
             ],
             [
              0.2222222222222222,
              "#7201a8"
             ],
             [
              0.3333333333333333,
              "#9c179e"
             ],
             [
              0.4444444444444444,
              "#bd3786"
             ],
             [
              0.5555555555555556,
              "#d8576b"
             ],
             [
              0.6666666666666666,
              "#ed7953"
             ],
             [
              0.7777777777777778,
              "#fb9f3a"
             ],
             [
              0.8888888888888888,
              "#fdca26"
             ],
             [
              1,
              "#f0f921"
             ]
            ],
            "type": "contour"
           }
          ],
          "contourcarpet": [
           {
            "colorbar": {
             "outlinewidth": 0,
             "ticks": ""
            },
            "type": "contourcarpet"
           }
          ],
          "heatmap": [
           {
            "colorbar": {
             "outlinewidth": 0,
             "ticks": ""
            },
            "colorscale": [
             [
              0,
              "#0d0887"
             ],
             [
              0.1111111111111111,
              "#46039f"
             ],
             [
              0.2222222222222222,
              "#7201a8"
             ],
             [
              0.3333333333333333,
              "#9c179e"
             ],
             [
              0.4444444444444444,
              "#bd3786"
             ],
             [
              0.5555555555555556,
              "#d8576b"
             ],
             [
              0.6666666666666666,
              "#ed7953"
             ],
             [
              0.7777777777777778,
              "#fb9f3a"
             ],
             [
              0.8888888888888888,
              "#fdca26"
             ],
             [
              1,
              "#f0f921"
             ]
            ],
            "type": "heatmap"
           }
          ],
          "heatmapgl": [
           {
            "colorbar": {
             "outlinewidth": 0,
             "ticks": ""
            },
            "colorscale": [
             [
              0,
              "#0d0887"
             ],
             [
              0.1111111111111111,
              "#46039f"
             ],
             [
              0.2222222222222222,
              "#7201a8"
             ],
             [
              0.3333333333333333,
              "#9c179e"
             ],
             [
              0.4444444444444444,
              "#bd3786"
             ],
             [
              0.5555555555555556,
              "#d8576b"
             ],
             [
              0.6666666666666666,
              "#ed7953"
             ],
             [
              0.7777777777777778,
              "#fb9f3a"
             ],
             [
              0.8888888888888888,
              "#fdca26"
             ],
             [
              1,
              "#f0f921"
             ]
            ],
            "type": "heatmapgl"
           }
          ],
          "histogram": [
           {
            "marker": {
             "colorbar": {
              "outlinewidth": 0,
              "ticks": ""
             }
            },
            "type": "histogram"
           }
          ],
          "histogram2d": [
           {
            "colorbar": {
             "outlinewidth": 0,
             "ticks": ""
            },
            "colorscale": [
             [
              0,
              "#0d0887"
             ],
             [
              0.1111111111111111,
              "#46039f"
             ],
             [
              0.2222222222222222,
              "#7201a8"
             ],
             [
              0.3333333333333333,
              "#9c179e"
             ],
             [
              0.4444444444444444,
              "#bd3786"
             ],
             [
              0.5555555555555556,
              "#d8576b"
             ],
             [
              0.6666666666666666,
              "#ed7953"
             ],
             [
              0.7777777777777778,
              "#fb9f3a"
             ],
             [
              0.8888888888888888,
              "#fdca26"
             ],
             [
              1,
              "#f0f921"
             ]
            ],
            "type": "histogram2d"
           }
          ],
          "histogram2dcontour": [
           {
            "colorbar": {
             "outlinewidth": 0,
             "ticks": ""
            },
            "colorscale": [
             [
              0,
              "#0d0887"
             ],
             [
              0.1111111111111111,
              "#46039f"
             ],
             [
              0.2222222222222222,
              "#7201a8"
             ],
             [
              0.3333333333333333,
              "#9c179e"
             ],
             [
              0.4444444444444444,
              "#bd3786"
             ],
             [
              0.5555555555555556,
              "#d8576b"
             ],
             [
              0.6666666666666666,
              "#ed7953"
             ],
             [
              0.7777777777777778,
              "#fb9f3a"
             ],
             [
              0.8888888888888888,
              "#fdca26"
             ],
             [
              1,
              "#f0f921"
             ]
            ],
            "type": "histogram2dcontour"
           }
          ],
          "mesh3d": [
           {
            "colorbar": {
             "outlinewidth": 0,
             "ticks": ""
            },
            "type": "mesh3d"
           }
          ],
          "parcoords": [
           {
            "line": {
             "colorbar": {
              "outlinewidth": 0,
              "ticks": ""
             }
            },
            "type": "parcoords"
           }
          ],
          "pie": [
           {
            "automargin": true,
            "type": "pie"
           }
          ],
          "scatter": [
           {
            "marker": {
             "colorbar": {
              "outlinewidth": 0,
              "ticks": ""
             }
            },
            "type": "scatter"
           }
          ],
          "scatter3d": [
           {
            "line": {
             "colorbar": {
              "outlinewidth": 0,
              "ticks": ""
             }
            },
            "marker": {
             "colorbar": {
              "outlinewidth": 0,
              "ticks": ""
             }
            },
            "type": "scatter3d"
           }
          ],
          "scattercarpet": [
           {
            "marker": {
             "colorbar": {
              "outlinewidth": 0,
              "ticks": ""
             }
            },
            "type": "scattercarpet"
           }
          ],
          "scattergeo": [
           {
            "marker": {
             "colorbar": {
              "outlinewidth": 0,
              "ticks": ""
             }
            },
            "type": "scattergeo"
           }
          ],
          "scattergl": [
           {
            "marker": {
             "colorbar": {
              "outlinewidth": 0,
              "ticks": ""
             }
            },
            "type": "scattergl"
           }
          ],
          "scattermapbox": [
           {
            "marker": {
             "colorbar": {
              "outlinewidth": 0,
              "ticks": ""
             }
            },
            "type": "scattermapbox"
           }
          ],
          "scatterpolar": [
           {
            "marker": {
             "colorbar": {
              "outlinewidth": 0,
              "ticks": ""
             }
            },
            "type": "scatterpolar"
           }
          ],
          "scatterpolargl": [
           {
            "marker": {
             "colorbar": {
              "outlinewidth": 0,
              "ticks": ""
             }
            },
            "type": "scatterpolargl"
           }
          ],
          "scatterternary": [
           {
            "marker": {
             "colorbar": {
              "outlinewidth": 0,
              "ticks": ""
             }
            },
            "type": "scatterternary"
           }
          ],
          "surface": [
           {
            "colorbar": {
             "outlinewidth": 0,
             "ticks": ""
            },
            "colorscale": [
             [
              0,
              "#0d0887"
             ],
             [
              0.1111111111111111,
              "#46039f"
             ],
             [
              0.2222222222222222,
              "#7201a8"
             ],
             [
              0.3333333333333333,
              "#9c179e"
             ],
             [
              0.4444444444444444,
              "#bd3786"
             ],
             [
              0.5555555555555556,
              "#d8576b"
             ],
             [
              0.6666666666666666,
              "#ed7953"
             ],
             [
              0.7777777777777778,
              "#fb9f3a"
             ],
             [
              0.8888888888888888,
              "#fdca26"
             ],
             [
              1,
              "#f0f921"
             ]
            ],
            "type": "surface"
           }
          ],
          "table": [
           {
            "cells": {
             "fill": {
              "color": "#EBF0F8"
             },
             "line": {
              "color": "white"
             }
            },
            "header": {
             "fill": {
              "color": "#C8D4E3"
             },
             "line": {
              "color": "white"
             }
            },
            "type": "table"
           }
          ]
         },
         "layout": {
          "annotationdefaults": {
           "arrowcolor": "#2a3f5f",
           "arrowhead": 0,
           "arrowwidth": 1
          },
          "coloraxis": {
           "colorbar": {
            "outlinewidth": 0,
            "ticks": ""
           }
          },
          "colorscale": {
           "diverging": [
            [
             0,
             "#8e0152"
            ],
            [
             0.1,
             "#c51b7d"
            ],
            [
             0.2,
             "#de77ae"
            ],
            [
             0.3,
             "#f1b6da"
            ],
            [
             0.4,
             "#fde0ef"
            ],
            [
             0.5,
             "#f7f7f7"
            ],
            [
             0.6,
             "#e6f5d0"
            ],
            [
             0.7,
             "#b8e186"
            ],
            [
             0.8,
             "#7fbc41"
            ],
            [
             0.9,
             "#4d9221"
            ],
            [
             1,
             "#276419"
            ]
           ],
           "sequential": [
            [
             0,
             "#0d0887"
            ],
            [
             0.1111111111111111,
             "#46039f"
            ],
            [
             0.2222222222222222,
             "#7201a8"
            ],
            [
             0.3333333333333333,
             "#9c179e"
            ],
            [
             0.4444444444444444,
             "#bd3786"
            ],
            [
             0.5555555555555556,
             "#d8576b"
            ],
            [
             0.6666666666666666,
             "#ed7953"
            ],
            [
             0.7777777777777778,
             "#fb9f3a"
            ],
            [
             0.8888888888888888,
             "#fdca26"
            ],
            [
             1,
             "#f0f921"
            ]
           ],
           "sequentialminus": [
            [
             0,
             "#0d0887"
            ],
            [
             0.1111111111111111,
             "#46039f"
            ],
            [
             0.2222222222222222,
             "#7201a8"
            ],
            [
             0.3333333333333333,
             "#9c179e"
            ],
            [
             0.4444444444444444,
             "#bd3786"
            ],
            [
             0.5555555555555556,
             "#d8576b"
            ],
            [
             0.6666666666666666,
             "#ed7953"
            ],
            [
             0.7777777777777778,
             "#fb9f3a"
            ],
            [
             0.8888888888888888,
             "#fdca26"
            ],
            [
             1,
             "#f0f921"
            ]
           ]
          },
          "colorway": [
           "#636efa",
           "#EF553B",
           "#00cc96",
           "#ab63fa",
           "#FFA15A",
           "#19d3f3",
           "#FF6692",
           "#B6E880",
           "#FF97FF",
           "#FECB52"
          ],
          "font": {
           "color": "#2a3f5f"
          },
          "geo": {
           "bgcolor": "white",
           "lakecolor": "white",
           "landcolor": "#E5ECF6",
           "showlakes": true,
           "showland": true,
           "subunitcolor": "white"
          },
          "hoverlabel": {
           "align": "left"
          },
          "hovermode": "closest",
          "mapbox": {
           "style": "light"
          },
          "paper_bgcolor": "white",
          "plot_bgcolor": "#E5ECF6",
          "polar": {
           "angularaxis": {
            "gridcolor": "white",
            "linecolor": "white",
            "ticks": ""
           },
           "bgcolor": "#E5ECF6",
           "radialaxis": {
            "gridcolor": "white",
            "linecolor": "white",
            "ticks": ""
           }
          },
          "scene": {
           "xaxis": {
            "backgroundcolor": "#E5ECF6",
            "gridcolor": "white",
            "gridwidth": 2,
            "linecolor": "white",
            "showbackground": true,
            "ticks": "",
            "zerolinecolor": "white"
           },
           "yaxis": {
            "backgroundcolor": "#E5ECF6",
            "gridcolor": "white",
            "gridwidth": 2,
            "linecolor": "white",
            "showbackground": true,
            "ticks": "",
            "zerolinecolor": "white"
           },
           "zaxis": {
            "backgroundcolor": "#E5ECF6",
            "gridcolor": "white",
            "gridwidth": 2,
            "linecolor": "white",
            "showbackground": true,
            "ticks": "",
            "zerolinecolor": "white"
           }
          },
          "shapedefaults": {
           "line": {
            "color": "#2a3f5f"
           }
          },
          "ternary": {
           "aaxis": {
            "gridcolor": "white",
            "linecolor": "white",
            "ticks": ""
           },
           "baxis": {
            "gridcolor": "white",
            "linecolor": "white",
            "ticks": ""
           },
           "bgcolor": "#E5ECF6",
           "caxis": {
            "gridcolor": "white",
            "linecolor": "white",
            "ticks": ""
           }
          },
          "title": {
           "x": 0.05
          },
          "xaxis": {
           "automargin": true,
           "gridcolor": "white",
           "linecolor": "white",
           "ticks": "",
           "title": {
            "standoff": 15
           },
           "zerolinecolor": "white",
           "zerolinewidth": 2
          },
          "yaxis": {
           "automargin": true,
           "gridcolor": "white",
           "linecolor": "white",
           "ticks": "",
           "title": {
            "standoff": 15
           },
           "zerolinecolor": "white",
           "zerolinewidth": 2
          }
         }
        },
        "title": {
         "text": "QST"
        },
        "xaxis": {
         "title": {
          "text": "number of data"
         },
         "type": "log"
        },
        "yaxis": {
         "title": {
          "text": "Mean Square Error of estimates and true"
         },
         "type": "log"
        }
       }
      }
     },
     "metadata": {}
    }
   ],
   "source": [
    "import plotly.graph_objects as go\n",
    "\n",
    "data_param_affine_est_linear = go.Scatter(name='param=affine, est=linear', x=num_data, y=mses_param_affine_est_linear, mode='lines+markers')\n",
    "data_param_affine_est_proj = go.Scatter(name='param=affine, est=proj', x=num_data, y=mses_param_affine_est_proj, mode='lines+markers')\n",
    "data_param_linear_est_linear = go.Scatter(name='param=linear, est=linear', x=num_data, y=mses_param_linear_est_linear, mode='lines+markers')\n",
    "data_param_linear_est_proj = go.Scatter(name='param=linear, est=proj', x=num_data, y=mses_param_linear_est_proj, mode='lines+markers')\n",
    "data = [data_param_affine_est_linear, data_param_affine_est_proj, data_param_linear_est_linear, data_param_linear_est_proj]\n",
    "\n",
    "layout = go.Layout(title='QST', xaxis_title_text=\"number of data\", yaxis_title_text=\"Mean Square Error of estimates and true\", xaxis_type=\"log\", yaxis_type=\"log\")\n",
    "fig = go.Figure(data=data, layout=layout)\n",
    "fig.show()"
   ]
  },
  {
   "cell_type": "markdown",
   "metadata": {},
   "source": [
    "# 真値をz0 = [ 1/np.sqrt(2), 1/np.sqrt(6), 1/np.sqrt(6), 1/np.sqrt(6) ]"
   ]
  },
  {
   "cell_type": "code",
   "execution_count": 56,
   "metadata": {
    "tags": []
   },
   "outputs": [
    {
     "output_type": "stream",
     "name": "stdout",
     "text": "{'iteration': 0, 'empi_dists_seq': [[(100, array([0.83, 0.17])), (100, array([0.83, 0.17])), (100, array([0.83, 0.17]))], [(1000, array([0.787, 0.213])), (1000, array([0.787, 0.213])), (1000, array([0.787, 0.213]))], [(10000, array([0.791, 0.209])), (10000, array([0.791, 0.209])), (10000, array([0.791, 0.209]))], [(100000, array([0.78824, 0.21176])), (100000, array([0.78824, 0.21176])), (100000, array([0.78824, 0.21176]))]], 'obj_sequence': [<quara.objects.state.State object at 0x000001E131DF8FD0>, <quara.objects.state.State object at 0x000001E131C74940>, <quara.objects.state.State object at 0x000001E131C74128>, <quara.objects.state.State object at 0x000001E131C740B8>]}\n{'iteration': 1, 'empi_dists_seq': [[(100, array([0.8, 0.2])), (100, array([0.8, 0.2])), (100, array([0.8, 0.2]))], [(1000, array([0.791, 0.209])), (1000, array([0.791, 0.209])), (1000, array([0.791, 0.209]))], [(10000, array([0.793, 0.207])), (10000, array([0.793, 0.207])), (10000, array([0.793, 0.207]))], [(100000, array([0.78839, 0.21161])), (100000, array([0.78839, 0.21161])), (100000, array([0.78839, 0.21161]))]], 'obj_sequence': [<quara.objects.state.State object at 0x000001E1310435F8>, <quara.objects.state.State object at 0x000001E131C74898>, <quara.objects.state.State object at 0x000001E131C74860>, <quara.objects.state.State object at 0x000001E131C74080>]}\n{'iteration': 2, 'empi_dists_seq': [[(100, array([0.85, 0.15])), (100, array([0.85, 0.15])), (100, array([0.85, 0.15]))], [(1000, array([0.797, 0.203])), (1000, array([0.797, 0.203])), (1000, array([0.797, 0.203]))], [(10000, array([0.7902, 0.2098])), (10000, array([0.7902, 0.2098])), (10000, array([0.7902, 0.2098]))], [(100000, array([0.78929, 0.21071])), (100000, array([0.78929, 0.21071])), (100000, array([0.78929, 0.21071]))]], 'obj_sequence': [<quara.objects.state.State object at 0x000001E131C74828>, <quara.objects.state.State object at 0x000001E131C74E48>, <quara.objects.state.State object at 0x000001E131C74A58>, <quara.objects.state.State object at 0x000001E131C74DA0>]}\n{'iteration': 3, 'empi_dists_seq': [[(100, array([0.87, 0.13])), (100, array([0.87, 0.13])), (100, array([0.87, 0.13]))], [(1000, array([0.796, 0.204])), (1000, array([0.796, 0.204])), (1000, array([0.796, 0.204]))], [(10000, array([0.7912, 0.2088])), (10000, array([0.7912, 0.2088])), (10000, array([0.7912, 0.2088]))], [(100000, array([0.78672, 0.21328])), (100000, array([0.78672, 0.21328])), (100000, array([0.78672, 0.21328]))]], 'obj_sequence': [<quara.objects.state.State object at 0x000001E131C74400>, <quara.objects.state.State object at 0x000001E131C74BA8>, <quara.objects.state.State object at 0x000001E131C74470>, <quara.objects.state.State object at 0x000001E131C744E0>]}\n{'iteration': 4, 'empi_dists_seq': [[(100, array([0.8, 0.2])), (100, array([0.8, 0.2])), (100, array([0.8, 0.2]))], [(1000, array([0.783, 0.217])), (1000, array([0.783, 0.217])), (1000, array([0.783, 0.217]))], [(10000, array([0.7874, 0.2126])), (10000, array([0.7874, 0.2126])), (10000, array([0.7874, 0.2126]))], [(100000, array([0.78711, 0.21289])), (100000, array([0.78711, 0.21289])), (100000, array([0.78711, 0.21289]))]], 'obj_sequence': [<quara.objects.state.State object at 0x000001E131C740F0>, <quara.objects.state.State object at 0x000001E131C74A20>, <quara.objects.state.State object at 0x000001E131C74160>, <quara.objects.state.State object at 0x000001E131C74390>]}\n{'iteration': 5, 'empi_dists_seq': [[(100, array([0.74, 0.26])), (100, array([0.74, 0.26])), (100, array([0.74, 0.26]))], [(1000, array([0.795, 0.205])), (1000, array([0.795, 0.205])), (1000, array([0.795, 0.205]))], [(10000, array([0.7877, 0.2123])), (10000, array([0.7877, 0.2123])), (10000, array([0.7877, 0.2123]))], [(100000, array([0.78803, 0.21197])), (100000, array([0.78803, 0.21197])), (100000, array([0.78803, 0.21197]))]], 'obj_sequence': [<quara.objects.state.State object at 0x000001E131CBBE10>, <quara.objects.state.State object at 0x000001E131CBBF98>, <quara.objects.state.State object at 0x000001E131CBB278>, <quara.objects.state.State object at 0x000001E131CBBCC0>]}\n{'iteration': 6, 'empi_dists_seq': [[(100, array([0.8, 0.2])), (100, array([0.8, 0.2])), (100, array([0.8, 0.2]))], [(1000, array([0.781, 0.219])), (1000, array([0.781, 0.219])), (1000, array([0.781, 0.219]))], [(10000, array([0.7819, 0.2181])), (10000, array([0.7819, 0.2181])), (10000, array([0.7819, 0.2181]))], [(100000, array([0.78947, 0.21053])), (100000, array([0.78947, 0.21053])), (100000, array([0.78947, 0.21053]))]], 'obj_sequence': [<quara.objects.state.State object at 0x000001E1309841D0>, <quara.objects.state.State object at 0x000001E131CBB048>, <quara.objects.state.State object at 0x000001E131CBB160>, <quara.objects.state.State object at 0x000001E131CBBDA0>]}\n{'iteration': 7, 'empi_dists_seq': [[(100, array([0.81, 0.19])), (100, array([0.81, 0.19])), (100, array([0.81, 0.19]))], [(1000, array([0.781, 0.219])), (1000, array([0.781, 0.219])), (1000, array([0.781, 0.219]))], [(10000, array([0.7888, 0.2112])), (10000, array([0.7888, 0.2112])), (10000, array([0.7888, 0.2112]))], [(100000, array([0.78762, 0.21238])), (100000, array([0.78762, 0.21238])), (100000, array([0.78762, 0.21238]))]], 'obj_sequence': [<quara.objects.state.State object at 0x000001E131C74AC8>, <quara.objects.state.State object at 0x000001E131D02C50>, <quara.objects.state.State object at 0x000001E131D02A58>, <quara.objects.state.State object at 0x000001E131D02EF0>]}\n{'iteration': 8, 'empi_dists_seq': [[(100, array([0.8, 0.2])), (100, array([0.8, 0.2])), (100, array([0.8, 0.2]))], [(1000, array([0.798, 0.202])), (1000, array([0.798, 0.202])), (1000, array([0.798, 0.202]))], [(10000, array([0.7964, 0.2036])), (10000, array([0.7964, 0.2036])), (10000, array([0.7964, 0.2036]))], [(100000, array([0.79114, 0.20886])), (100000, array([0.79114, 0.20886])), (100000, array([0.79114, 0.20886]))]], 'obj_sequence': [<quara.objects.state.State object at 0x000001E131D02A20>, <quara.objects.state.State object at 0x000001E131D02278>, <quara.objects.state.State object at 0x000001E131D02EB8>, <quara.objects.state.State object at 0x000001E131D02C88>]}\n{'iteration': 9, 'empi_dists_seq': [[(100, array([0.81, 0.19])), (100, array([0.81, 0.19])), (100, array([0.81, 0.19]))], [(1000, array([0.803, 0.197])), (1000, array([0.803, 0.197])), (1000, array([0.803, 0.197]))], [(10000, array([0.7894, 0.2106])), (10000, array([0.7894, 0.2106])), (10000, array([0.7894, 0.2106]))], [(100000, array([0.78843, 0.21157])), (100000, array([0.78843, 0.21157])), (100000, array([0.78843, 0.21157]))]], 'obj_sequence': [<quara.objects.state.State object at 0x000001E131C6C2E8>, <quara.objects.state.State object at 0x000001E131C6C0F0>, <quara.objects.state.State object at 0x000001E131C994E0>, <quara.objects.state.State object at 0x000001E131D02AC8>]}\ntime(s)=7.261577367782593\n{'iteration': 0, 'empi_dists_seq': [[(100, array([0.83, 0.17])), (100, array([0.83, 0.17])), (100, array([0.83, 0.17]))], [(1000, array([0.787, 0.213])), (1000, array([0.787, 0.213])), (1000, array([0.787, 0.213]))], [(10000, array([0.791, 0.209])), (10000, array([0.791, 0.209])), (10000, array([0.791, 0.209]))], [(100000, array([0.78824, 0.21176])), (100000, array([0.78824, 0.21176])), (100000, array([0.78824, 0.21176]))]], 'obj_sequence': [<quara.objects.state.State object at 0x000001E131D02F98>, <quara.objects.state.State object at 0x000001E131C6CE48>, <quara.objects.state.State object at 0x000001E131CA3DA0>, <quara.objects.state.State object at 0x000001E131CA3D68>]}\n{'iteration': 1, 'empi_dists_seq': [[(100, array([0.8, 0.2])), (100, array([0.8, 0.2])), (100, array([0.8, 0.2]))], [(1000, array([0.791, 0.209])), (1000, array([0.791, 0.209])), (1000, array([0.791, 0.209]))], [(10000, array([0.793, 0.207])), (10000, array([0.793, 0.207])), (10000, array([0.793, 0.207]))], [(100000, array([0.78839, 0.21161])), (100000, array([0.78839, 0.21161])), (100000, array([0.78839, 0.21161]))]], 'obj_sequence': [<quara.objects.state.State object at 0x000001E131CA35F8>, <quara.objects.state.State object at 0x000001E131CA3940>, <quara.objects.state.State object at 0x000001E131CA3D30>, <quara.objects.state.State object at 0x000001E131CA3470>]}\n{'iteration': 2, 'empi_dists_seq': [[(100, array([0.85, 0.15])), (100, array([0.85, 0.15])), (100, array([0.85, 0.15]))], [(1000, array([0.797, 0.203])), (1000, array([0.797, 0.203])), (1000, array([0.797, 0.203]))], [(10000, array([0.7902, 0.2098])), (10000, array([0.7902, 0.2098])), (10000, array([0.7902, 0.2098]))], [(100000, array([0.78929, 0.21071])), (100000, array([0.78929, 0.21071])), (100000, array([0.78929, 0.21071]))]], 'obj_sequence': [<quara.objects.state.State object at 0x000001E131CA39E8>, <quara.objects.state.State object at 0x000001E131CA3F60>, <quara.objects.state.State object at 0x000001E12B66C278>, <quara.objects.state.State object at 0x000001E131B7D4E0>]}\n{'iteration': 3, 'empi_dists_seq': [[(100, array([0.87, 0.13])), (100, array([0.87, 0.13])), (100, array([0.87, 0.13]))], [(1000, array([0.796, 0.204])), (1000, array([0.796, 0.204])), (1000, array([0.796, 0.204]))], [(10000, array([0.7912, 0.2088])), (10000, array([0.7912, 0.2088])), (10000, array([0.7912, 0.2088]))], [(100000, array([0.78672, 0.21328])), (100000, array([0.78672, 0.21328])), (100000, array([0.78672, 0.21328]))]], 'obj_sequence': [<quara.objects.state.State object at 0x000001E131B7D0F0>, <quara.objects.state.State object at 0x000001E131B7DCF8>, <quara.objects.state.State object at 0x000001E131B7D4A8>, <quara.objects.state.State object at 0x000001E131B7D0B8>]}\n{'iteration': 4, 'empi_dists_seq': [[(100, array([0.8, 0.2])), (100, array([0.8, 0.2])), (100, array([0.8, 0.2]))], [(1000, array([0.783, 0.217])), (1000, array([0.783, 0.217])), (1000, array([0.783, 0.217]))], [(10000, array([0.7874, 0.2126])), (10000, array([0.7874, 0.2126])), (10000, array([0.7874, 0.2126]))], [(100000, array([0.78711, 0.21289])), (100000, array([0.78711, 0.21289])), (100000, array([0.78711, 0.21289]))]], 'obj_sequence': [<quara.objects.state.State object at 0x000001E131B7D518>, <quara.objects.state.State object at 0x000001E131B7DA90>, <quara.objects.state.State object at 0x000001E131B7D438>, <quara.objects.state.State object at 0x000001E1316C03C8>]}\n{'iteration': 5, 'empi_dists_seq': [[(100, array([0.74, 0.26])), (100, array([0.74, 0.26])), (100, array([0.74, 0.26]))], [(1000, array([0.795, 0.205])), (1000, array([0.795, 0.205])), (1000, array([0.795, 0.205]))], [(10000, array([0.7877, 0.2123])), (10000, array([0.7877, 0.2123])), (10000, array([0.7877, 0.2123]))], [(100000, array([0.78803, 0.21197])), (100000, array([0.78803, 0.21197])), (100000, array([0.78803, 0.21197]))]], 'obj_sequence': [<quara.objects.state.State object at 0x000001E131C81E80>, <quara.objects.state.State object at 0x000001E131C81F60>, <quara.objects.state.State object at 0x000001E131C812B0>, <quara.objects.state.State object at 0x000001E131C81908>]}\n{'iteration': 6, 'empi_dists_seq': [[(100, array([0.8, 0.2])), (100, array([0.8, 0.2])), (100, array([0.8, 0.2]))], [(1000, array([0.781, 0.219])), (1000, array([0.781, 0.219])), (1000, array([0.781, 0.219]))], [(10000, array([0.7819, 0.2181])), (10000, array([0.7819, 0.2181])), (10000, array([0.7819, 0.2181]))], [(100000, array([0.78947, 0.21053])), (100000, array([0.78947, 0.21053])), (100000, array([0.78947, 0.21053]))]], 'obj_sequence': [<quara.objects.state.State object at 0x000001E131B7D400>, <quara.objects.state.State object at 0x000001E131C81EF0>, <quara.objects.state.State object at 0x000001E131C81320>, <quara.objects.state.State object at 0x000001E131C81358>]}\n{'iteration': 7, 'empi_dists_seq': [[(100, array([0.81, 0.19])), (100, array([0.81, 0.19])), (100, array([0.81, 0.19]))], [(1000, array([0.781, 0.219])), (1000, array([0.781, 0.219])), (1000, array([0.781, 0.219]))], [(10000, array([0.7888, 0.2112])), (10000, array([0.7888, 0.2112])), (10000, array([0.7888, 0.2112]))], [(100000, array([0.78762, 0.21238])), (100000, array([0.78762, 0.21238])), (100000, array([0.78762, 0.21238]))]], 'obj_sequence': [<quara.objects.state.State object at 0x000001E131DEFCC0>, <quara.objects.state.State object at 0x000001E131DEFC88>, <quara.objects.state.State object at 0x000001E131DEFD30>, <quara.objects.state.State object at 0x000001E131C81EB8>]}\n{'iteration': 8, 'empi_dists_seq': [[(100, array([0.8, 0.2])), (100, array([0.8, 0.2])), (100, array([0.8, 0.2]))], [(1000, array([0.798, 0.202])), (1000, array([0.798, 0.202])), (1000, array([0.798, 0.202]))], [(10000, array([0.7964, 0.2036])), (10000, array([0.7964, 0.2036])), (10000, array([0.7964, 0.2036]))], [(100000, array([0.79114, 0.20886])), (100000, array([0.79114, 0.20886])), (100000, array([0.79114, 0.20886]))]], 'obj_sequence': [<quara.objects.state.State object at 0x000001E131CF3F28>, <quara.objects.state.State object at 0x000001E131DFD5F8>, <quara.objects.state.State object at 0x000001E131C81978>, <quara.objects.state.State object at 0x000001E131C81390>]}\n{'iteration': 9, 'empi_dists_seq': [[(100, array([0.81, 0.19])), (100, array([0.81, 0.19])), (100, array([0.81, 0.19]))], [(1000, array([0.803, 0.197])), (1000, array([0.803, 0.197])), (1000, array([0.803, 0.197]))], [(10000, array([0.7894, 0.2106])), (10000, array([0.7894, 0.2106])), (10000, array([0.7894, 0.2106]))], [(100000, array([0.78843, 0.21157])), (100000, array([0.78843, 0.21157])), (100000, array([0.78843, 0.21157]))]], 'obj_sequence': [<quara.objects.state.State object at 0x000001E131D02518>, <quara.objects.state.State object at 0x000001E131C78470>, <quara.objects.state.State object at 0x000001E131C78C50>, <quara.objects.state.State object at 0x000001E131C78EB8>]}\ntime(s)=7.764235496520996\n"
    }
   ],
   "source": [
    "vec = np.array([1/np.sqrt(2), 1/np.sqrt(6), 1/np.sqrt(6), 1/np.sqrt(6)],dtype=np.float64)\n",
    "true_object = State(c_sys, vec)\n",
    "num_data = [100, 1000, 10000, 100000]\n",
    "iterations = 10\n",
    "\n",
    "param_affine_est_linear = estimate(\"sqrt6\", true_object, num_data, iterations, on_para_eq_constraint=True)\n",
    "param_linear_est_linear = estimate(\"sqrt6\", true_object, num_data, iterations, on_para_eq_constraint=False)"
   ]
  },
  {
   "cell_type": "code",
   "execution_count": 59,
   "metadata": {
    "tags": []
   },
   "outputs": [
    {
     "output_type": "stream",
     "name": "stdout",
     "text": "param=affine, est=linear: [0.009524397692158331, 0.00036800967188586626, 8.490209459249662e-05, 9.130723205515926e-06]\nparam=affine, est=proj  : [0.001421902142277602, 9.340498882317307e-05, 3.4230038712040195e-05, 5.942278830469556e-06]\nparam=linear, est=linear: [0.009524397692158317, 0.0003680096718858644, 8.49020945924957e-05, 9.130723205516e-06]\nparam=linear, est=proj  : [0.001421902142277593, 9.340498882317226e-05, 3.423003871204143e-05, 5.942278830469444e-06]\n"
    }
   ],
   "source": [
    "# calc mse(param_affine)\n",
    "param_affine_est_linear_tmp = [list(obj_sequence) for obj_sequence in zip(*param_affine_est_linear)]\n",
    "mses_param_affine_est_linear = [\n",
    "    calc_mse(obj_sequence, [true_object] * len(obj_sequence)) for obj_sequence in param_affine_est_linear_tmp\n",
    "]\n",
    "mses_param_affine_est_proj = [\n",
    "    calc_mse_proj(obj_sequence, [true_object] * len(obj_sequence)) for obj_sequence in param_affine_est_linear_tmp\n",
    "]\n",
    "print(f\"param=affine, est=linear: {mses_param_affine_est_linear}\")\n",
    "print(f\"param=affine, est=proj  : {mses_param_affine_est_proj}\")\n",
    "\n",
    "# calc mse(param_linear)\n",
    "param_linear_est_linear_tmp = [list(obj_sequence) for obj_sequence in zip(*param_linear_est_linear)]\n",
    "mses_param_linear_est_linear = [\n",
    "    calc_mse(obj_sequence, [true_object] * len(obj_sequence)) for obj_sequence in param_linear_est_linear_tmp\n",
    "]\n",
    "mses_param_linear_est_proj = [\n",
    "    calc_mse_proj(obj_sequence, [true_object] * len(obj_sequence)) for obj_sequence in param_linear_est_linear_tmp\n",
    "]\n",
    "print(f\"param=linear, est=linear: {mses_param_linear_est_linear}\")\n",
    "print(f\"param=linear, est=proj  : {mses_param_linear_est_proj}\")"
   ]
  },
  {
   "cell_type": "code",
   "execution_count": 58,
   "metadata": {},
   "outputs": [
    {
     "output_type": "display_data",
     "data": {
      "application/vnd.plotly.v1+json": {
       "config": {
        "plotlyServerURL": "https://plot.ly"
       },
       "data": [
        {
         "mode": "lines+markers",
         "name": "param=affine, est=linear",
         "type": "scatter",
         "x": [
          100,
          1000,
          10000,
          100000
         ],
         "y": [
          0.009524397692158331,
          0.00036800967188586626,
          0.00008490209459249662,
          0.000009130723205515926
         ]
        },
        {
         "mode": "lines+markers",
         "name": "param=affine, est=proj",
         "type": "scatter",
         "x": [
          100,
          1000,
          10000,
          100000
         ],
         "y": [
          0.001421902142277602,
          0.00009340498882317307,
          0.000034230038712040195,
          0.000005942278830469556
         ]
        },
        {
         "mode": "lines+markers",
         "name": "param=linear, est=linear",
         "type": "scatter",
         "x": [
          100,
          1000,
          10000,
          100000
         ],
         "y": [
          0.009524397692158317,
          0.0003680096718858644,
          0.0000849020945924957,
          0.000009130723205516
         ]
        },
        {
         "mode": "lines+markers",
         "name": "param=linear, est=proj",
         "type": "scatter",
         "x": [
          100,
          1000,
          10000,
          100000
         ],
         "y": [
          0.001421902142277593,
          0.00009340498882317226,
          0.00003423003871204143,
          0.000005942278830469444
         ]
        }
       ],
       "layout": {
        "template": {
         "data": {
          "bar": [
           {
            "error_x": {
             "color": "#2a3f5f"
            },
            "error_y": {
             "color": "#2a3f5f"
            },
            "marker": {
             "line": {
              "color": "#E5ECF6",
              "width": 0.5
             }
            },
            "type": "bar"
           }
          ],
          "barpolar": [
           {
            "marker": {
             "line": {
              "color": "#E5ECF6",
              "width": 0.5
             }
            },
            "type": "barpolar"
           }
          ],
          "carpet": [
           {
            "aaxis": {
             "endlinecolor": "#2a3f5f",
             "gridcolor": "white",
             "linecolor": "white",
             "minorgridcolor": "white",
             "startlinecolor": "#2a3f5f"
            },
            "baxis": {
             "endlinecolor": "#2a3f5f",
             "gridcolor": "white",
             "linecolor": "white",
             "minorgridcolor": "white",
             "startlinecolor": "#2a3f5f"
            },
            "type": "carpet"
           }
          ],
          "choropleth": [
           {
            "colorbar": {
             "outlinewidth": 0,
             "ticks": ""
            },
            "type": "choropleth"
           }
          ],
          "contour": [
           {
            "colorbar": {
             "outlinewidth": 0,
             "ticks": ""
            },
            "colorscale": [
             [
              0,
              "#0d0887"
             ],
             [
              0.1111111111111111,
              "#46039f"
             ],
             [
              0.2222222222222222,
              "#7201a8"
             ],
             [
              0.3333333333333333,
              "#9c179e"
             ],
             [
              0.4444444444444444,
              "#bd3786"
             ],
             [
              0.5555555555555556,
              "#d8576b"
             ],
             [
              0.6666666666666666,
              "#ed7953"
             ],
             [
              0.7777777777777778,
              "#fb9f3a"
             ],
             [
              0.8888888888888888,
              "#fdca26"
             ],
             [
              1,
              "#f0f921"
             ]
            ],
            "type": "contour"
           }
          ],
          "contourcarpet": [
           {
            "colorbar": {
             "outlinewidth": 0,
             "ticks": ""
            },
            "type": "contourcarpet"
           }
          ],
          "heatmap": [
           {
            "colorbar": {
             "outlinewidth": 0,
             "ticks": ""
            },
            "colorscale": [
             [
              0,
              "#0d0887"
             ],
             [
              0.1111111111111111,
              "#46039f"
             ],
             [
              0.2222222222222222,
              "#7201a8"
             ],
             [
              0.3333333333333333,
              "#9c179e"
             ],
             [
              0.4444444444444444,
              "#bd3786"
             ],
             [
              0.5555555555555556,
              "#d8576b"
             ],
             [
              0.6666666666666666,
              "#ed7953"
             ],
             [
              0.7777777777777778,
              "#fb9f3a"
             ],
             [
              0.8888888888888888,
              "#fdca26"
             ],
             [
              1,
              "#f0f921"
             ]
            ],
            "type": "heatmap"
           }
          ],
          "heatmapgl": [
           {
            "colorbar": {
             "outlinewidth": 0,
             "ticks": ""
            },
            "colorscale": [
             [
              0,
              "#0d0887"
             ],
             [
              0.1111111111111111,
              "#46039f"
             ],
             [
              0.2222222222222222,
              "#7201a8"
             ],
             [
              0.3333333333333333,
              "#9c179e"
             ],
             [
              0.4444444444444444,
              "#bd3786"
             ],
             [
              0.5555555555555556,
              "#d8576b"
             ],
             [
              0.6666666666666666,
              "#ed7953"
             ],
             [
              0.7777777777777778,
              "#fb9f3a"
             ],
             [
              0.8888888888888888,
              "#fdca26"
             ],
             [
              1,
              "#f0f921"
             ]
            ],
            "type": "heatmapgl"
           }
          ],
          "histogram": [
           {
            "marker": {
             "colorbar": {
              "outlinewidth": 0,
              "ticks": ""
             }
            },
            "type": "histogram"
           }
          ],
          "histogram2d": [
           {
            "colorbar": {
             "outlinewidth": 0,
             "ticks": ""
            },
            "colorscale": [
             [
              0,
              "#0d0887"
             ],
             [
              0.1111111111111111,
              "#46039f"
             ],
             [
              0.2222222222222222,
              "#7201a8"
             ],
             [
              0.3333333333333333,
              "#9c179e"
             ],
             [
              0.4444444444444444,
              "#bd3786"
             ],
             [
              0.5555555555555556,
              "#d8576b"
             ],
             [
              0.6666666666666666,
              "#ed7953"
             ],
             [
              0.7777777777777778,
              "#fb9f3a"
             ],
             [
              0.8888888888888888,
              "#fdca26"
             ],
             [
              1,
              "#f0f921"
             ]
            ],
            "type": "histogram2d"
           }
          ],
          "histogram2dcontour": [
           {
            "colorbar": {
             "outlinewidth": 0,
             "ticks": ""
            },
            "colorscale": [
             [
              0,
              "#0d0887"
             ],
             [
              0.1111111111111111,
              "#46039f"
             ],
             [
              0.2222222222222222,
              "#7201a8"
             ],
             [
              0.3333333333333333,
              "#9c179e"
             ],
             [
              0.4444444444444444,
              "#bd3786"
             ],
             [
              0.5555555555555556,
              "#d8576b"
             ],
             [
              0.6666666666666666,
              "#ed7953"
             ],
             [
              0.7777777777777778,
              "#fb9f3a"
             ],
             [
              0.8888888888888888,
              "#fdca26"
             ],
             [
              1,
              "#f0f921"
             ]
            ],
            "type": "histogram2dcontour"
           }
          ],
          "mesh3d": [
           {
            "colorbar": {
             "outlinewidth": 0,
             "ticks": ""
            },
            "type": "mesh3d"
           }
          ],
          "parcoords": [
           {
            "line": {
             "colorbar": {
              "outlinewidth": 0,
              "ticks": ""
             }
            },
            "type": "parcoords"
           }
          ],
          "pie": [
           {
            "automargin": true,
            "type": "pie"
           }
          ],
          "scatter": [
           {
            "marker": {
             "colorbar": {
              "outlinewidth": 0,
              "ticks": ""
             }
            },
            "type": "scatter"
           }
          ],
          "scatter3d": [
           {
            "line": {
             "colorbar": {
              "outlinewidth": 0,
              "ticks": ""
             }
            },
            "marker": {
             "colorbar": {
              "outlinewidth": 0,
              "ticks": ""
             }
            },
            "type": "scatter3d"
           }
          ],
          "scattercarpet": [
           {
            "marker": {
             "colorbar": {
              "outlinewidth": 0,
              "ticks": ""
             }
            },
            "type": "scattercarpet"
           }
          ],
          "scattergeo": [
           {
            "marker": {
             "colorbar": {
              "outlinewidth": 0,
              "ticks": ""
             }
            },
            "type": "scattergeo"
           }
          ],
          "scattergl": [
           {
            "marker": {
             "colorbar": {
              "outlinewidth": 0,
              "ticks": ""
             }
            },
            "type": "scattergl"
           }
          ],
          "scattermapbox": [
           {
            "marker": {
             "colorbar": {
              "outlinewidth": 0,
              "ticks": ""
             }
            },
            "type": "scattermapbox"
           }
          ],
          "scatterpolar": [
           {
            "marker": {
             "colorbar": {
              "outlinewidth": 0,
              "ticks": ""
             }
            },
            "type": "scatterpolar"
           }
          ],
          "scatterpolargl": [
           {
            "marker": {
             "colorbar": {
              "outlinewidth": 0,
              "ticks": ""
             }
            },
            "type": "scatterpolargl"
           }
          ],
          "scatterternary": [
           {
            "marker": {
             "colorbar": {
              "outlinewidth": 0,
              "ticks": ""
             }
            },
            "type": "scatterternary"
           }
          ],
          "surface": [
           {
            "colorbar": {
             "outlinewidth": 0,
             "ticks": ""
            },
            "colorscale": [
             [
              0,
              "#0d0887"
             ],
             [
              0.1111111111111111,
              "#46039f"
             ],
             [
              0.2222222222222222,
              "#7201a8"
             ],
             [
              0.3333333333333333,
              "#9c179e"
             ],
             [
              0.4444444444444444,
              "#bd3786"
             ],
             [
              0.5555555555555556,
              "#d8576b"
             ],
             [
              0.6666666666666666,
              "#ed7953"
             ],
             [
              0.7777777777777778,
              "#fb9f3a"
             ],
             [
              0.8888888888888888,
              "#fdca26"
             ],
             [
              1,
              "#f0f921"
             ]
            ],
            "type": "surface"
           }
          ],
          "table": [
           {
            "cells": {
             "fill": {
              "color": "#EBF0F8"
             },
             "line": {
              "color": "white"
             }
            },
            "header": {
             "fill": {
              "color": "#C8D4E3"
             },
             "line": {
              "color": "white"
             }
            },
            "type": "table"
           }
          ]
         },
         "layout": {
          "annotationdefaults": {
           "arrowcolor": "#2a3f5f",
           "arrowhead": 0,
           "arrowwidth": 1
          },
          "coloraxis": {
           "colorbar": {
            "outlinewidth": 0,
            "ticks": ""
           }
          },
          "colorscale": {
           "diverging": [
            [
             0,
             "#8e0152"
            ],
            [
             0.1,
             "#c51b7d"
            ],
            [
             0.2,
             "#de77ae"
            ],
            [
             0.3,
             "#f1b6da"
            ],
            [
             0.4,
             "#fde0ef"
            ],
            [
             0.5,
             "#f7f7f7"
            ],
            [
             0.6,
             "#e6f5d0"
            ],
            [
             0.7,
             "#b8e186"
            ],
            [
             0.8,
             "#7fbc41"
            ],
            [
             0.9,
             "#4d9221"
            ],
            [
             1,
             "#276419"
            ]
           ],
           "sequential": [
            [
             0,
             "#0d0887"
            ],
            [
             0.1111111111111111,
             "#46039f"
            ],
            [
             0.2222222222222222,
             "#7201a8"
            ],
            [
             0.3333333333333333,
             "#9c179e"
            ],
            [
             0.4444444444444444,
             "#bd3786"
            ],
            [
             0.5555555555555556,
             "#d8576b"
            ],
            [
             0.6666666666666666,
             "#ed7953"
            ],
            [
             0.7777777777777778,
             "#fb9f3a"
            ],
            [
             0.8888888888888888,
             "#fdca26"
            ],
            [
             1,
             "#f0f921"
            ]
           ],
           "sequentialminus": [
            [
             0,
             "#0d0887"
            ],
            [
             0.1111111111111111,
             "#46039f"
            ],
            [
             0.2222222222222222,
             "#7201a8"
            ],
            [
             0.3333333333333333,
             "#9c179e"
            ],
            [
             0.4444444444444444,
             "#bd3786"
            ],
            [
             0.5555555555555556,
             "#d8576b"
            ],
            [
             0.6666666666666666,
             "#ed7953"
            ],
            [
             0.7777777777777778,
             "#fb9f3a"
            ],
            [
             0.8888888888888888,
             "#fdca26"
            ],
            [
             1,
             "#f0f921"
            ]
           ]
          },
          "colorway": [
           "#636efa",
           "#EF553B",
           "#00cc96",
           "#ab63fa",
           "#FFA15A",
           "#19d3f3",
           "#FF6692",
           "#B6E880",
           "#FF97FF",
           "#FECB52"
          ],
          "font": {
           "color": "#2a3f5f"
          },
          "geo": {
           "bgcolor": "white",
           "lakecolor": "white",
           "landcolor": "#E5ECF6",
           "showlakes": true,
           "showland": true,
           "subunitcolor": "white"
          },
          "hoverlabel": {
           "align": "left"
          },
          "hovermode": "closest",
          "mapbox": {
           "style": "light"
          },
          "paper_bgcolor": "white",
          "plot_bgcolor": "#E5ECF6",
          "polar": {
           "angularaxis": {
            "gridcolor": "white",
            "linecolor": "white",
            "ticks": ""
           },
           "bgcolor": "#E5ECF6",
           "radialaxis": {
            "gridcolor": "white",
            "linecolor": "white",
            "ticks": ""
           }
          },
          "scene": {
           "xaxis": {
            "backgroundcolor": "#E5ECF6",
            "gridcolor": "white",
            "gridwidth": 2,
            "linecolor": "white",
            "showbackground": true,
            "ticks": "",
            "zerolinecolor": "white"
           },
           "yaxis": {
            "backgroundcolor": "#E5ECF6",
            "gridcolor": "white",
            "gridwidth": 2,
            "linecolor": "white",
            "showbackground": true,
            "ticks": "",
            "zerolinecolor": "white"
           },
           "zaxis": {
            "backgroundcolor": "#E5ECF6",
            "gridcolor": "white",
            "gridwidth": 2,
            "linecolor": "white",
            "showbackground": true,
            "ticks": "",
            "zerolinecolor": "white"
           }
          },
          "shapedefaults": {
           "line": {
            "color": "#2a3f5f"
           }
          },
          "ternary": {
           "aaxis": {
            "gridcolor": "white",
            "linecolor": "white",
            "ticks": ""
           },
           "baxis": {
            "gridcolor": "white",
            "linecolor": "white",
            "ticks": ""
           },
           "bgcolor": "#E5ECF6",
           "caxis": {
            "gridcolor": "white",
            "linecolor": "white",
            "ticks": ""
           }
          },
          "title": {
           "x": 0.05
          },
          "xaxis": {
           "automargin": true,
           "gridcolor": "white",
           "linecolor": "white",
           "ticks": "",
           "title": {
            "standoff": 15
           },
           "zerolinecolor": "white",
           "zerolinewidth": 2
          },
          "yaxis": {
           "automargin": true,
           "gridcolor": "white",
           "linecolor": "white",
           "ticks": "",
           "title": {
            "standoff": 15
           },
           "zerolinecolor": "white",
           "zerolinewidth": 2
          }
         }
        },
        "title": {
         "text": "QST"
        },
        "xaxis": {
         "title": {
          "text": "number of data"
         },
         "type": "log"
        },
        "yaxis": {
         "title": {
          "text": "Mean Square Error of estimates and true"
         },
         "type": "log"
        }
       }
      }
     },
     "metadata": {}
    }
   ],
   "source": [
    "import plotly.graph_objects as go\n",
    "\n",
    "data_param_affine_est_linear = go.Scatter(name='param=affine, est=linear', x=num_data, y=mses_param_affine_est_linear, mode='lines+markers')\n",
    "data_param_affine_est_proj = go.Scatter(name='param=affine, est=proj', x=num_data, y=mses_param_affine_est_proj, mode='lines+markers')\n",
    "data_param_linear_est_linear = go.Scatter(name='param=linear, est=linear', x=num_data, y=mses_param_linear_est_linear, mode='lines+markers')\n",
    "data_param_linear_est_proj = go.Scatter(name='param=linear, est=proj', x=num_data, y=mses_param_linear_est_proj, mode='lines+markers')\n",
    "data = [data_param_affine_est_linear, data_param_affine_est_proj, data_param_linear_est_linear, data_param_linear_est_proj]\n",
    "\n",
    "layout = go.Layout(title='QST', xaxis_title_text=\"number of data\", yaxis_title_text=\"Mean Square Error of estimates and true\", xaxis_type=\"log\", yaxis_type=\"log\")\n",
    "fig = go.Figure(data=data, layout=layout)\n",
    "fig.show()"
   ]
  },
  {
   "cell_type": "markdown",
   "metadata": {},
   "source": [
    "# # 40回。真値を[ 1/np.sqrt(2), 1/np.sqrt(6), 1/np.sqrt(6), 1/np.sqrt(6) ]"
   ]
  },
  {
   "cell_type": "code",
   "execution_count": 60,
   "metadata": {
    "tags": [
     "outputPrepend"
    ]
   },
   "outputs": [
    {
     "output_type": "stream",
     "name": "stdout",
     "text": "ject at 0x000001E131CE42E8>, <quara.objects.state.State object at 0x000001E131A87240>, <quara.objects.state.State object at 0x000001E131CD8D30>]}\n{'iteration': 11, 'empi_dists_seq': [[(100, array([0.8, 0.2])), (100, array([0.8, 0.2])), (100, array([0.8, 0.2]))], [(1000, array([0.773, 0.227])), (1000, array([0.773, 0.227])), (1000, array([0.773, 0.227]))], [(10000, array([0.7904, 0.2096])), (10000, array([0.7904, 0.2096])), (10000, array([0.7904, 0.2096]))], [(100000, array([0.78816, 0.21184])), (100000, array([0.78816, 0.21184])), (100000, array([0.78816, 0.21184]))]], 'obj_sequence': [<quara.objects.state.State object at 0x000001E131CD8390>, <quara.objects.state.State object at 0x000001E131CD8C88>, <quara.objects.state.State object at 0x000001E131CD8F60>, <quara.objects.state.State object at 0x000001E131CD8550>]}\n{'iteration': 12, 'empi_dists_seq': [[(100, array([0.77, 0.23])), (100, array([0.77, 0.23])), (100, array([0.77, 0.23]))], [(1000, array([0.767, 0.233])), (1000, array([0.767, 0.233])), (1000, array([0.767, 0.233]))], [(10000, array([0.7893, 0.2107])), (10000, array([0.7893, 0.2107])), (10000, array([0.7893, 0.2107]))], [(100000, array([0.78881, 0.21119])), (100000, array([0.78881, 0.21119])), (100000, array([0.78881, 0.21119]))]], 'obj_sequence': [<quara.objects.state.State object at 0x000001E131CD8DD8>, <quara.objects.state.State object at 0x000001E131CD8EF0>, <quara.objects.state.State object at 0x000001E1316CCD68>, <quara.objects.state.State object at 0x000001E131B87C50>]}\n{'iteration': 13, 'empi_dists_seq': [[(100, array([0.8, 0.2])), (100, array([0.8, 0.2])), (100, array([0.8, 0.2]))], [(1000, array([0.789, 0.211])), (1000, array([0.789, 0.211])), (1000, array([0.789, 0.211]))], [(10000, array([0.7823, 0.2177])), (10000, array([0.7823, 0.2177])), (10000, array([0.7823, 0.2177]))], [(100000, array([0.78811, 0.21189])), (100000, array([0.78811, 0.21189])), (100000, array([0.78811, 0.21189]))]], 'obj_sequence': [<quara.objects.state.State object at 0x000001E131CD8400>, <quara.objects.state.State object at 0x000001E131B87AC8>, <quara.objects.state.State object at 0x000001E131B87DD8>, <quara.objects.state.State object at 0x000001E131B87B00>]}\n{'iteration': 14, 'empi_dists_seq': [[(100, array([0.86, 0.14])), (100, array([0.86, 0.14])), (100, array([0.86, 0.14]))], [(1000, array([0.791, 0.209])), (1000, array([0.791, 0.209])), (1000, array([0.791, 0.209]))], [(10000, array([0.7871, 0.2129])), (10000, array([0.7871, 0.2129])), (10000, array([0.7871, 0.2129]))], [(100000, array([0.7879, 0.2121])), (100000, array([0.7879, 0.2121])), (100000, array([0.7879, 0.2121]))]], 'obj_sequence': [<quara.objects.state.State object at 0x000001E131B875F8>, <quara.objects.state.State object at 0x000001E131B87160>, <quara.objects.state.State object at 0x000001E131B876A0>, <quara.objects.state.State object at 0x000001E131B87A20>]}\n{'iteration': 15, 'empi_dists_seq': [[(100, array([0.84, 0.16])), (100, array([0.84, 0.16])), (100, array([0.84, 0.16]))], [(1000, array([0.801, 0.199])), (1000, array([0.801, 0.199])), (1000, array([0.801, 0.199]))], [(10000, array([0.7824, 0.2176])), (10000, array([0.7824, 0.2176])), (10000, array([0.7824, 0.2176]))], [(100000, array([0.79017, 0.20983])), (100000, array([0.79017, 0.20983])), (100000, array([0.79017, 0.20983]))]], 'obj_sequence': [<quara.objects.state.State object at 0x000001E131B87BE0>, <quara.objects.state.State object at 0x000001E131B87550>, <quara.objects.state.State object at 0x000001E131B87668>, <quara.objects.state.State object at 0x000001E131B87EB8>]}\n{'iteration': 16, 'empi_dists_seq': [[(100, array([0.82, 0.18])), (100, array([0.82, 0.18])), (100, array([0.82, 0.18]))], [(1000, array([0.797, 0.203])), (1000, array([0.797, 0.203])), (1000, array([0.797, 0.203]))], [(10000, array([0.7838, 0.2162])), (10000, array([0.7838, 0.2162])), (10000, array([0.7838, 0.2162]))], [(100000, array([0.78858, 0.21142])), (100000, array([0.78858, 0.21142])), (100000, array([0.78858, 0.21142]))]], 'obj_sequence': [<quara.objects.state.State object at 0x000001E131B87D68>, <quara.objects.state.State object at 0x000001E131B877F0>, <quara.objects.state.State object at 0x000001E131B874E0>, <quara.objects.state.State object at 0x000001E131B87FD0>]}\n{'iteration': 17, 'empi_dists_seq': [[(100, array([0.77, 0.23])), (100, array([0.77, 0.23])), (100, array([0.77, 0.23]))], [(1000, array([0.802, 0.198])), (1000, array([0.802, 0.198])), (1000, array([0.802, 0.198]))], [(10000, array([0.7956, 0.2044])), (10000, array([0.7956, 0.2044])), (10000, array([0.7956, 0.2044]))], [(100000, array([0.79042, 0.20958])), (100000, array([0.79042, 0.20958])), (100000, array([0.79042, 0.20958]))]], 'obj_sequence': [<quara.objects.state.State object at 0x000001E13175B828>, <quara.objects.state.State object at 0x000001E13175B390>, <quara.objects.state.State object at 0x000001E13175B7F0>, <quara.objects.state.State object at 0x000001E131B872B0>]}\n{'iteration': 18, 'empi_dists_seq': [[(100, array([0.78, 0.22])), (100, array([0.78, 0.22])), (100, array([0.78, 0.22]))], [(1000, array([0.786, 0.214])), (1000, array([0.786, 0.214])), (1000, array([0.786, 0.214]))], [(10000, array([0.7966, 0.2034])), (10000, array([0.7966, 0.2034])), (10000, array([0.7966, 0.2034]))], [(100000, array([0.7906, 0.2094])), (100000, array([0.7906, 0.2094])), (100000, array([0.7906, 0.2094]))]], 'obj_sequence': [<quara.objects.state.State object at 0x000001E131CD8E80>, <quara.objects.state.State object at 0x000001E1317A6AC8>, <quara.objects.state.State object at 0x000001E1317A6F98>, <quara.objects.state.State object at 0x000001E1317A6198>]}\n{'iteration': 19, 'empi_dists_seq': [[(100, array([0.79, 0.21])), (100, array([0.79, 0.21])), (100, array([0.79, 0.21]))], [(1000, array([0.801, 0.199])), (1000, array([0.801, 0.199])), (1000, array([0.801, 0.199]))], [(10000, array([0.794, 0.206])), (10000, array([0.794, 0.206])), (10000, array([0.794, 0.206]))], [(100000, array([0.78942, 0.21058])), (100000, array([0.78942, 0.21058])), (100000, array([0.78942, 0.21058]))]], 'obj_sequence': [<quara.objects.state.State object at 0x000001E131B874A8>, <quara.objects.state.State object at 0x000001E1317A6780>, <quara.objects.state.State object at 0x000001E1317A6BA8>, <quara.objects.state.State object at 0x000001E1317A6630>]}\n{'iteration': 20, 'empi_dists_seq': [[(100, array([0.84, 0.16])), (100, array([0.84, 0.16])), (100, array([0.84, 0.16]))], [(1000, array([0.791, 0.209])), (1000, array([0.791, 0.209])), (1000, array([0.791, 0.209]))], [(10000, array([0.7819, 0.2181])), (10000, array([0.7819, 0.2181])), (10000, array([0.7819, 0.2181]))], [(100000, array([0.78819, 0.21181])), (100000, array([0.78819, 0.21181])), (100000, array([0.78819, 0.21181]))]], 'obj_sequence': [<quara.objects.state.State object at 0x000001E130B98048>, <quara.objects.state.State object at 0x000001E1317A64A8>, <quara.objects.state.State object at 0x000001E1317A6470>, <quara.objects.state.State object at 0x000001E1317A61D0>]}\n{'iteration': 21, 'empi_dists_seq': [[(100, array([0.75, 0.25])), (100, array([0.75, 0.25])), (100, array([0.75, 0.25]))], [(1000, array([0.776, 0.224])), (1000, array([0.776, 0.224])), (1000, array([0.776, 0.224]))], [(10000, array([0.7851, 0.2149])), (10000, array([0.7851, 0.2149])), (10000, array([0.7851, 0.2149]))], [(100000, array([0.7872, 0.2128])), (100000, array([0.7872, 0.2128])), (100000, array([0.7872, 0.2128]))]], 'obj_sequence': [<quara.objects.state.State object at 0x000001E1317A6860>, <quara.objects.state.State object at 0x000001E1317A6B38>, <quara.objects.state.State object at 0x000001E131B7FF98>, <quara.objects.state.State object at 0x000001E131B7FDA0>]}\n{'iteration': 22, 'empi_dists_seq': [[(100, array([0.78, 0.22])), (100, array([0.78, 0.22])), (100, array([0.78, 0.22]))], [(1000, array([0.801, 0.199])), (1000, array([0.801, 0.199])), (1000, array([0.801, 0.199]))], [(10000, array([0.7866, 0.2134])), (10000, array([0.7866, 0.2134])), (10000, array([0.7866, 0.2134]))], [(100000, array([0.78709, 0.21291])), (100000, array([0.78709, 0.21291])), (100000, array([0.78709, 0.21291]))]], 'obj_sequence': [<quara.objects.state.State object at 0x000001E131B7F828>, <quara.objects.state.State object at 0x000001E131B7F320>, <quara.objects.state.State object at 0x000001E131B7F780>, <quara.objects.state.State object at 0x000001E131B7F438>]}\n{'iteration': 23, 'empi_dists_seq': [[(100, array([0.76, 0.24])), (100, array([0.76, 0.24])), (100, array([0.76, 0.24]))], [(1000, array([0.799, 0.201])), (1000, array([0.799, 0.201])), (1000, array([0.799, 0.201]))], [(10000, array([0.7896, 0.2104])), (10000, array([0.7896, 0.2104])), (10000, array([0.7896, 0.2104]))], [(100000, array([0.79021, 0.20979])), (100000, array([0.79021, 0.20979])), (100000, array([0.79021, 0.20979]))]], 'obj_sequence': [<quara.objects.state.State object at 0x000001E131B7FF60>, <quara.objects.state.State object at 0x000001E131B7F400>, <quara.objects.state.State object at 0x000001E131B7F630>, <quara.objects.state.State object at 0x000001E131B7F470>]}\n{'iteration': 24, 'empi_dists_seq': [[(100, array([0.73, 0.27])), (100, array([0.73, 0.27])), (100, array([0.73, 0.27]))], [(1000, array([0.779, 0.221])), (1000, array([0.779, 0.221])), (1000, array([0.779, 0.221]))], [(10000, array([0.7887, 0.2113])), (10000, array([0.7887, 0.2113])), (10000, array([0.7887, 0.2113]))], [(100000, array([0.78658, 0.21342])), (100000, array([0.78658, 0.21342])), (100000, array([0.78658, 0.21342]))]], 'obj_sequence': [<quara.objects.state.State object at 0x000001E131B87E80>, <quara.objects.state.State object at 0x000001E131D6EC88>, <quara.objects.state.State object at 0x000001E131D6E7F0>, <quara.objects.state.State object at 0x000001E131D6E208>]}\n{'iteration': 25, 'empi_dists_seq': [[(100, array([0.83, 0.17])), (100, array([0.83, 0.17])), (100, array([0.83, 0.17]))], [(1000, array([0.778, 0.222])), (1000, array([0.778, 0.222])), (1000, array([0.778, 0.222]))], [(10000, array([0.7835, 0.2165])), (10000, array([0.7835, 0.2165])), (10000, array([0.7835, 0.2165]))], [(100000, array([0.78743, 0.21257])), (100000, array([0.78743, 0.21257])), (100000, array([0.78743, 0.21257]))]], 'obj_sequence': [<quara.objects.state.State object at 0x000001E131D6EE48>, <quara.objects.state.State object at 0x000001E131D6EBE0>, <quara.objects.state.State object at 0x000001E131D6E198>, <quara.objects.state.State object at 0x000001E131D6E828>]}\n{'iteration': 26, 'empi_dists_seq': [[(100, array([0.77, 0.23])), (100, array([0.77, 0.23])), (100, array([0.77, 0.23]))], [(1000, array([0.782, 0.218])), (1000, array([0.782, 0.218])), (1000, array([0.782, 0.218]))], [(10000, array([0.7843, 0.2157])), (10000, array([0.7843, 0.2157])), (10000, array([0.7843, 0.2157]))], [(100000, array([0.78635, 0.21365])), (100000, array([0.78635, 0.21365])), (100000, array([0.78635, 0.21365]))]], 'obj_sequence': [<quara.objects.state.State object at 0x000001E130B981D0>, <quara.objects.state.State object at 0x000001E131D6EDA0>, <quara.objects.state.State object at 0x000001E131D6E748>, <quara.objects.state.State object at 0x000001E131D6E470>]}\n{'iteration': 27, 'empi_dists_seq': [[(100, array([0.73, 0.27])), (100, array([0.73, 0.27])), (100, array([0.73, 0.27]))], [(1000, array([0.785, 0.215])), (1000, array([0.785, 0.215])), (1000, array([0.785, 0.215]))], [(10000, array([0.7872, 0.2128])), (10000, array([0.7872, 0.2128])), (10000, array([0.7872, 0.2128]))], [(100000, array([0.78678, 0.21322])), (100000, array([0.78678, 0.21322])), (100000, array([0.78678, 0.21322]))]], 'obj_sequence': [<quara.objects.state.State object at 0x000001E13184AF60>, <quara.objects.state.State object at 0x000001E131A71F98>, <quara.objects.state.State object at 0x000001E131A717F0>, <quara.objects.state.State object at 0x000001E131A71F60>]}\n{'iteration': 28, 'empi_dists_seq': [[(100, array([0.74, 0.26])), (100, array([0.74, 0.26])), (100, array([0.74, 0.26]))], [(1000, array([0.782, 0.218])), (1000, array([0.782, 0.218])), (1000, array([0.782, 0.218]))], [(10000, array([0.781, 0.219])), (10000, array([0.781, 0.219])), (10000, array([0.781, 0.219]))], [(100000, array([0.78979, 0.21021])), (100000, array([0.78979, 0.21021])), (100000, array([0.78979, 0.21021]))]], 'obj_sequence': [<quara.objects.state.State object at 0x000001E131D6EF98>, <quara.objects.state.State object at 0x000001E131A71AC8>, <quara.objects.state.State object at 0x000001E131A719E8>, <quara.objects.state.State object at 0x000001E131A71B00>]}\n{'iteration': 29, 'empi_dists_seq': [[(100, array([0.77, 0.23])), (100, array([0.77, 0.23])), (100, array([0.77, 0.23]))], [(1000, array([0.794, 0.206])), (1000, array([0.794, 0.206])), (1000, array([0.794, 0.206]))], [(10000, array([0.7842, 0.2158])), (10000, array([0.7842, 0.2158])), (10000, array([0.7842, 0.2158]))], [(100000, array([0.78777, 0.21223])), (100000, array([0.78777, 0.21223])), (100000, array([0.78777, 0.21223]))]], 'obj_sequence': [<quara.objects.state.State object at 0x000001E131A71C18>, <quara.objects.state.State object at 0x000001E131A710F0>, <quara.objects.state.State object at 0x000001E131A71358>, <quara.objects.state.State object at 0x000001E131A71198>]}\n{'iteration': 30, 'empi_dists_seq': [[(100, array([0.81, 0.19])), (100, array([0.81, 0.19])), (100, array([0.81, 0.19]))], [(1000, array([0.781, 0.219])), (1000, array([0.781, 0.219])), (1000, array([0.781, 0.219]))], [(10000, array([0.7843, 0.2157])), (10000, array([0.7843, 0.2157])), (10000, array([0.7843, 0.2157]))], [(100000, array([0.7891, 0.2109])), (100000, array([0.7891, 0.2109])), (100000, array([0.7891, 0.2109]))]], 'obj_sequence': [<quara.objects.state.State object at 0x000001E131A71128>, <quara.objects.state.State object at 0x000001E131A71BE0>, <quara.objects.state.State object at 0x000001E131A71160>, <quara.objects.state.State object at 0x000001E131A71048>]}\n{'iteration': 31, 'empi_dists_seq': [[(100, array([0.86, 0.14])), (100, array([0.86, 0.14])), (100, array([0.86, 0.14]))], [(1000, array([0.782, 0.218])), (1000, array([0.782, 0.218])), (1000, array([0.782, 0.218]))], [(10000, array([0.7908, 0.2092])), (10000, array([0.7908, 0.2092])), (10000, array([0.7908, 0.2092]))], [(100000, array([0.78948, 0.21052])), (100000, array([0.78948, 0.21052])), (100000, array([0.78948, 0.21052]))]], 'obj_sequence': [<quara.objects.state.State object at 0x000001E131A719B0>, <quara.objects.state.State object at 0x000001E131A71E48>, <quara.objects.state.State object at 0x000001E131D0F978>, <quara.objects.state.State object at 0x000001E131D0F3C8>]}\n{'iteration': 32, 'empi_dists_seq': [[(100, array([0.85, 0.15])), (100, array([0.85, 0.15])), (100, array([0.85, 0.15]))], [(1000, array([0.783, 0.217])), (1000, array([0.783, 0.217])), (1000, array([0.783, 0.217]))], [(10000, array([0.7828, 0.2172])), (10000, array([0.7828, 0.2172])), (10000, array([0.7828, 0.2172]))], [(100000, array([0.78957, 0.21043])), (100000, array([0.78957, 0.21043])), (100000, array([0.78957, 0.21043]))]], 'obj_sequence': [<quara.objects.state.State object at 0x000001E131D0FCF8>, <quara.objects.state.State object at 0x000001E131D0FAC8>, <quara.objects.state.State object at 0x000001E131D0FB38>, <quara.objects.state.State object at 0x000001E131D0FDA0>]}\n{'iteration': 33, 'empi_dists_seq': [[(100, array([0.78, 0.22])), (100, array([0.78, 0.22])), (100, array([0.78, 0.22]))], [(1000, array([0.762, 0.238])), (1000, array([0.762, 0.238])), (1000, array([0.762, 0.238]))], [(10000, array([0.7929, 0.2071])), (10000, array([0.7929, 0.2071])), (10000, array([0.7929, 0.2071]))], [(100000, array([0.78919, 0.21081])), (100000, array([0.78919, 0.21081])), (100000, array([0.78919, 0.21081]))]], 'obj_sequence': [<quara.objects.state.State object at 0x000001E131A71B38>, <quara.objects.state.State object at 0x000001E131D0F080>, <quara.objects.state.State object at 0x000001E131D0F160>, <quara.objects.state.State object at 0x000001E131D0FFD0>]}\n{'iteration': 34, 'empi_dists_seq': [[(100, array([0.69, 0.31])), (100, array([0.69, 0.31])), (100, array([0.69, 0.31]))], [(1000, array([0.788, 0.212])), (1000, array([0.788, 0.212])), (1000, array([0.788, 0.212]))], [(10000, array([0.7895, 0.2105])), (10000, array([0.7895, 0.2105])), (10000, array([0.7895, 0.2105]))], [(100000, array([0.78726, 0.21274])), (100000, array([0.78726, 0.21274])), (100000, array([0.78726, 0.21274]))]], 'obj_sequence': [<quara.objects.state.State object at 0x000001E131BAEBE0>, <quara.objects.state.State object at 0x000001E131BAE9E8>, <quara.objects.state.State object at 0x000001E131BAEF98>, <quara.objects.state.State object at 0x000001E131BAE978>]}\n{'iteration': 35, 'empi_dists_seq': [[(100, array([0.79, 0.21])), (100, array([0.79, 0.21])), (100, array([0.79, 0.21]))], [(1000, array([0.785, 0.215])), (1000, array([0.785, 0.215])), (1000, array([0.785, 0.215]))], [(10000, array([0.7904, 0.2096])), (10000, array([0.7904, 0.2096])), (10000, array([0.7904, 0.2096]))], [(100000, array([0.79025, 0.20975])), (100000, array([0.79025, 0.20975])), (100000, array([0.79025, 0.20975]))]], 'obj_sequence': [<quara.objects.state.State object at 0x000001E131BAEEF0>, <quara.objects.state.State object at 0x000001E131BAE470>, <quara.objects.state.State object at 0x000001E131BAEEB8>, <quara.objects.state.State object at 0x000001E131BAE668>]}\n{'iteration': 36, 'empi_dists_seq': [[(100, array([0.81, 0.19])), (100, array([0.81, 0.19])), (100, array([0.81, 0.19]))], [(1000, array([0.812, 0.188])), (1000, array([0.812, 0.188])), (1000, array([0.812, 0.188]))], [(10000, array([0.7886, 0.2114])), (10000, array([0.7886, 0.2114])), (10000, array([0.7886, 0.2114]))], [(100000, array([0.78876, 0.21124])), (100000, array([0.78876, 0.21124])), (100000, array([0.78876, 0.21124]))]], 'obj_sequence': [<quara.objects.state.State object at 0x000001E131BAE400>, <quara.objects.state.State object at 0x000001E131BAEE48>, <quara.objects.state.State object at 0x000001E131BAEA20>, <quara.objects.state.State object at 0x000001E131D26A90>]}\n{'iteration': 37, 'empi_dists_seq': [[(100, array([0.76, 0.24])), (100, array([0.76, 0.24])), (100, array([0.76, 0.24]))], [(1000, array([0.795, 0.205])), (1000, array([0.795, 0.205])), (1000, array([0.795, 0.205]))], [(10000, array([0.7875, 0.2125])), (10000, array([0.7875, 0.2125])), (10000, array([0.7875, 0.2125]))], [(100000, array([0.7911, 0.2089])), (100000, array([0.7911, 0.2089])), (100000, array([0.7911, 0.2089]))]], 'obj_sequence': [<quara.objects.state.State object at 0x000001E131D26668>, <quara.objects.state.State object at 0x000001E131D26F60>, <quara.objects.state.State object at 0x000001E131D26BE0>, <quara.objects.state.State object at 0x000001E131D260F0>]}\n{'iteration': 38, 'empi_dists_seq': [[(100, array([0.81, 0.19])), (100, array([0.81, 0.19])), (100, array([0.81, 0.19]))], [(1000, array([0.794, 0.206])), (1000, array([0.794, 0.206])), (1000, array([0.794, 0.206]))], [(10000, array([0.7914, 0.2086])), (10000, array([0.7914, 0.2086])), (10000, array([0.7914, 0.2086]))], [(100000, array([0.78735, 0.21265])), (100000, array([0.78735, 0.21265])), (100000, array([0.78735, 0.21265]))]], 'obj_sequence': [<quara.objects.state.State object at 0x000001E131D267F0>, <quara.objects.state.State object at 0x000001E131D26588>, <quara.objects.state.State object at 0x000001E131D26240>, <quara.objects.state.State object at 0x000001E131D264E0>]}\n{'iteration': 39, 'empi_dists_seq': [[(100, array([0.7, 0.3])), (100, array([0.7, 0.3])), (100, array([0.7, 0.3]))], [(1000, array([0.769, 0.231])), (1000, array([0.769, 0.231])), (1000, array([0.769, 0.231]))], [(10000, array([0.7856, 0.2144])), (10000, array([0.7856, 0.2144])), (10000, array([0.7856, 0.2144]))], [(100000, array([0.7879, 0.2121])), (100000, array([0.7879, 0.2121])), (100000, array([0.7879, 0.2121]))]], 'obj_sequence': [<quara.objects.state.State object at 0x000001E131D269B0>, <quara.objects.state.State object at 0x000001E131D265C0>, <quara.objects.state.State object at 0x000001E131D265F8>, <quara.objects.state.State object at 0x000001E131D26EF0>]}\ntime(s)=33.56721615791321\n"
    }
   ],
   "source": [
    "vec = np.array([1/np.sqrt(2), 1/np.sqrt(6), 1/np.sqrt(6), 1/np.sqrt(6)],dtype=np.float64)\n",
    "true_object = State(c_sys, vec)\n",
    "num_data = [100, 1000, 10000, 100000]\n",
    "iterations = 40\n",
    "\n",
    "param_affine_est_linear = estimate(\"sqrt6\", true_object, num_data, iterations, on_para_eq_constraint=True)\n",
    "param_linear_est_linear = estimate(\"sqrt6\", true_object, num_data, iterations, on_para_eq_constraint=False)"
   ]
  },
  {
   "cell_type": "code",
   "execution_count": 61,
   "metadata": {
    "tags": []
   },
   "outputs": [
    {
     "output_type": "stream",
     "name": "stdout",
     "text": "param=affine, est=linear: [0.010798226764637906, 0.0006778246788129034, 0.00011081240423948502, 1.021381388129537e-05]\nparam=affine, est=proj  : [0.005098065091323841, 0.0003912358509350632, 6.453912453460148e-05, 6.419799405647e-06]\nparam=linear, est=linear: [0.01079822676463791, 0.0006778246788129045, 0.00011081240423948509, 1.0213813881295394e-05]\nparam=linear, est=proj  : [0.005098065091323858, 0.0003912358509350642, 6.453912453460236e-05, 6.419799405647193e-06]\n"
    }
   ],
   "source": [
    "# calc mse(param_affine)\n",
    "param_affine_est_linear_tmp = [list(obj_sequence) for obj_sequence in zip(*param_affine_est_linear)]\n",
    "mses_param_affine_est_linear = [\n",
    "    calc_mse(obj_sequence, [true_object] * len(obj_sequence)) for obj_sequence in param_affine_est_linear_tmp\n",
    "]\n",
    "mses_param_affine_est_proj = [\n",
    "    calc_mse_proj(obj_sequence, [true_object] * len(obj_sequence)) for obj_sequence in param_affine_est_linear_tmp\n",
    "]\n",
    "print(f\"param=affine, est=linear: {mses_param_affine_est_linear}\")\n",
    "print(f\"param=affine, est=proj  : {mses_param_affine_est_proj}\")\n",
    "\n",
    "# calc mse(param_linear)\n",
    "param_linear_est_linear_tmp = [list(obj_sequence) for obj_sequence in zip(*param_linear_est_linear)]\n",
    "mses_param_linear_est_linear = [\n",
    "    calc_mse(obj_sequence, [true_object] * len(obj_sequence)) for obj_sequence in param_linear_est_linear_tmp\n",
    "]\n",
    "mses_param_linear_est_proj = [\n",
    "    calc_mse_proj(obj_sequence, [true_object] * len(obj_sequence)) for obj_sequence in param_linear_est_linear_tmp\n",
    "]\n",
    "print(f\"param=linear, est=linear: {mses_param_linear_est_linear}\")\n",
    "print(f\"param=linear, est=proj  : {mses_param_linear_est_proj}\")"
   ]
  },
  {
   "cell_type": "code",
   "execution_count": 62,
   "metadata": {},
   "outputs": [
    {
     "output_type": "display_data",
     "data": {
      "application/vnd.plotly.v1+json": {
       "config": {
        "plotlyServerURL": "https://plot.ly"
       },
       "data": [
        {
         "mode": "lines+markers",
         "name": "param=affine, est=linear",
         "type": "scatter",
         "x": [
          100,
          1000,
          10000,
          100000
         ],
         "y": [
          0.010798226764637906,
          0.0006778246788129034,
          0.00011081240423948502,
          0.00001021381388129537
         ]
        },
        {
         "mode": "lines+markers",
         "name": "param=affine, est=proj",
         "type": "scatter",
         "x": [
          100,
          1000,
          10000,
          100000
         ],
         "y": [
          0.005098065091323841,
          0.0003912358509350632,
          0.00006453912453460148,
          0.000006419799405647
         ]
        },
        {
         "mode": "lines+markers",
         "name": "param=linear, est=linear",
         "type": "scatter",
         "x": [
          100,
          1000,
          10000,
          100000
         ],
         "y": [
          0.01079822676463791,
          0.0006778246788129045,
          0.00011081240423948509,
          0.000010213813881295394
         ]
        },
        {
         "mode": "lines+markers",
         "name": "param=linear, est=proj",
         "type": "scatter",
         "x": [
          100,
          1000,
          10000,
          100000
         ],
         "y": [
          0.005098065091323858,
          0.0003912358509350642,
          0.00006453912453460236,
          0.000006419799405647193
         ]
        }
       ],
       "layout": {
        "template": {
         "data": {
          "bar": [
           {
            "error_x": {
             "color": "#2a3f5f"
            },
            "error_y": {
             "color": "#2a3f5f"
            },
            "marker": {
             "line": {
              "color": "#E5ECF6",
              "width": 0.5
             }
            },
            "type": "bar"
           }
          ],
          "barpolar": [
           {
            "marker": {
             "line": {
              "color": "#E5ECF6",
              "width": 0.5
             }
            },
            "type": "barpolar"
           }
          ],
          "carpet": [
           {
            "aaxis": {
             "endlinecolor": "#2a3f5f",
             "gridcolor": "white",
             "linecolor": "white",
             "minorgridcolor": "white",
             "startlinecolor": "#2a3f5f"
            },
            "baxis": {
             "endlinecolor": "#2a3f5f",
             "gridcolor": "white",
             "linecolor": "white",
             "minorgridcolor": "white",
             "startlinecolor": "#2a3f5f"
            },
            "type": "carpet"
           }
          ],
          "choropleth": [
           {
            "colorbar": {
             "outlinewidth": 0,
             "ticks": ""
            },
            "type": "choropleth"
           }
          ],
          "contour": [
           {
            "colorbar": {
             "outlinewidth": 0,
             "ticks": ""
            },
            "colorscale": [
             [
              0,
              "#0d0887"
             ],
             [
              0.1111111111111111,
              "#46039f"
             ],
             [
              0.2222222222222222,
              "#7201a8"
             ],
             [
              0.3333333333333333,
              "#9c179e"
             ],
             [
              0.4444444444444444,
              "#bd3786"
             ],
             [
              0.5555555555555556,
              "#d8576b"
             ],
             [
              0.6666666666666666,
              "#ed7953"
             ],
             [
              0.7777777777777778,
              "#fb9f3a"
             ],
             [
              0.8888888888888888,
              "#fdca26"
             ],
             [
              1,
              "#f0f921"
             ]
            ],
            "type": "contour"
           }
          ],
          "contourcarpet": [
           {
            "colorbar": {
             "outlinewidth": 0,
             "ticks": ""
            },
            "type": "contourcarpet"
           }
          ],
          "heatmap": [
           {
            "colorbar": {
             "outlinewidth": 0,
             "ticks": ""
            },
            "colorscale": [
             [
              0,
              "#0d0887"
             ],
             [
              0.1111111111111111,
              "#46039f"
             ],
             [
              0.2222222222222222,
              "#7201a8"
             ],
             [
              0.3333333333333333,
              "#9c179e"
             ],
             [
              0.4444444444444444,
              "#bd3786"
             ],
             [
              0.5555555555555556,
              "#d8576b"
             ],
             [
              0.6666666666666666,
              "#ed7953"
             ],
             [
              0.7777777777777778,
              "#fb9f3a"
             ],
             [
              0.8888888888888888,
              "#fdca26"
             ],
             [
              1,
              "#f0f921"
             ]
            ],
            "type": "heatmap"
           }
          ],
          "heatmapgl": [
           {
            "colorbar": {
             "outlinewidth": 0,
             "ticks": ""
            },
            "colorscale": [
             [
              0,
              "#0d0887"
             ],
             [
              0.1111111111111111,
              "#46039f"
             ],
             [
              0.2222222222222222,
              "#7201a8"
             ],
             [
              0.3333333333333333,
              "#9c179e"
             ],
             [
              0.4444444444444444,
              "#bd3786"
             ],
             [
              0.5555555555555556,
              "#d8576b"
             ],
             [
              0.6666666666666666,
              "#ed7953"
             ],
             [
              0.7777777777777778,
              "#fb9f3a"
             ],
             [
              0.8888888888888888,
              "#fdca26"
             ],
             [
              1,
              "#f0f921"
             ]
            ],
            "type": "heatmapgl"
           }
          ],
          "histogram": [
           {
            "marker": {
             "colorbar": {
              "outlinewidth": 0,
              "ticks": ""
             }
            },
            "type": "histogram"
           }
          ],
          "histogram2d": [
           {
            "colorbar": {
             "outlinewidth": 0,
             "ticks": ""
            },
            "colorscale": [
             [
              0,
              "#0d0887"
             ],
             [
              0.1111111111111111,
              "#46039f"
             ],
             [
              0.2222222222222222,
              "#7201a8"
             ],
             [
              0.3333333333333333,
              "#9c179e"
             ],
             [
              0.4444444444444444,
              "#bd3786"
             ],
             [
              0.5555555555555556,
              "#d8576b"
             ],
             [
              0.6666666666666666,
              "#ed7953"
             ],
             [
              0.7777777777777778,
              "#fb9f3a"
             ],
             [
              0.8888888888888888,
              "#fdca26"
             ],
             [
              1,
              "#f0f921"
             ]
            ],
            "type": "histogram2d"
           }
          ],
          "histogram2dcontour": [
           {
            "colorbar": {
             "outlinewidth": 0,
             "ticks": ""
            },
            "colorscale": [
             [
              0,
              "#0d0887"
             ],
             [
              0.1111111111111111,
              "#46039f"
             ],
             [
              0.2222222222222222,
              "#7201a8"
             ],
             [
              0.3333333333333333,
              "#9c179e"
             ],
             [
              0.4444444444444444,
              "#bd3786"
             ],
             [
              0.5555555555555556,
              "#d8576b"
             ],
             [
              0.6666666666666666,
              "#ed7953"
             ],
             [
              0.7777777777777778,
              "#fb9f3a"
             ],
             [
              0.8888888888888888,
              "#fdca26"
             ],
             [
              1,
              "#f0f921"
             ]
            ],
            "type": "histogram2dcontour"
           }
          ],
          "mesh3d": [
           {
            "colorbar": {
             "outlinewidth": 0,
             "ticks": ""
            },
            "type": "mesh3d"
           }
          ],
          "parcoords": [
           {
            "line": {
             "colorbar": {
              "outlinewidth": 0,
              "ticks": ""
             }
            },
            "type": "parcoords"
           }
          ],
          "pie": [
           {
            "automargin": true,
            "type": "pie"
           }
          ],
          "scatter": [
           {
            "marker": {
             "colorbar": {
              "outlinewidth": 0,
              "ticks": ""
             }
            },
            "type": "scatter"
           }
          ],
          "scatter3d": [
           {
            "line": {
             "colorbar": {
              "outlinewidth": 0,
              "ticks": ""
             }
            },
            "marker": {
             "colorbar": {
              "outlinewidth": 0,
              "ticks": ""
             }
            },
            "type": "scatter3d"
           }
          ],
          "scattercarpet": [
           {
            "marker": {
             "colorbar": {
              "outlinewidth": 0,
              "ticks": ""
             }
            },
            "type": "scattercarpet"
           }
          ],
          "scattergeo": [
           {
            "marker": {
             "colorbar": {
              "outlinewidth": 0,
              "ticks": ""
             }
            },
            "type": "scattergeo"
           }
          ],
          "scattergl": [
           {
            "marker": {
             "colorbar": {
              "outlinewidth": 0,
              "ticks": ""
             }
            },
            "type": "scattergl"
           }
          ],
          "scattermapbox": [
           {
            "marker": {
             "colorbar": {
              "outlinewidth": 0,
              "ticks": ""
             }
            },
            "type": "scattermapbox"
           }
          ],
          "scatterpolar": [
           {
            "marker": {
             "colorbar": {
              "outlinewidth": 0,
              "ticks": ""
             }
            },
            "type": "scatterpolar"
           }
          ],
          "scatterpolargl": [
           {
            "marker": {
             "colorbar": {
              "outlinewidth": 0,
              "ticks": ""
             }
            },
            "type": "scatterpolargl"
           }
          ],
          "scatterternary": [
           {
            "marker": {
             "colorbar": {
              "outlinewidth": 0,
              "ticks": ""
             }
            },
            "type": "scatterternary"
           }
          ],
          "surface": [
           {
            "colorbar": {
             "outlinewidth": 0,
             "ticks": ""
            },
            "colorscale": [
             [
              0,
              "#0d0887"
             ],
             [
              0.1111111111111111,
              "#46039f"
             ],
             [
              0.2222222222222222,
              "#7201a8"
             ],
             [
              0.3333333333333333,
              "#9c179e"
             ],
             [
              0.4444444444444444,
              "#bd3786"
             ],
             [
              0.5555555555555556,
              "#d8576b"
             ],
             [
              0.6666666666666666,
              "#ed7953"
             ],
             [
              0.7777777777777778,
              "#fb9f3a"
             ],
             [
              0.8888888888888888,
              "#fdca26"
             ],
             [
              1,
              "#f0f921"
             ]
            ],
            "type": "surface"
           }
          ],
          "table": [
           {
            "cells": {
             "fill": {
              "color": "#EBF0F8"
             },
             "line": {
              "color": "white"
             }
            },
            "header": {
             "fill": {
              "color": "#C8D4E3"
             },
             "line": {
              "color": "white"
             }
            },
            "type": "table"
           }
          ]
         },
         "layout": {
          "annotationdefaults": {
           "arrowcolor": "#2a3f5f",
           "arrowhead": 0,
           "arrowwidth": 1
          },
          "coloraxis": {
           "colorbar": {
            "outlinewidth": 0,
            "ticks": ""
           }
          },
          "colorscale": {
           "diverging": [
            [
             0,
             "#8e0152"
            ],
            [
             0.1,
             "#c51b7d"
            ],
            [
             0.2,
             "#de77ae"
            ],
            [
             0.3,
             "#f1b6da"
            ],
            [
             0.4,
             "#fde0ef"
            ],
            [
             0.5,
             "#f7f7f7"
            ],
            [
             0.6,
             "#e6f5d0"
            ],
            [
             0.7,
             "#b8e186"
            ],
            [
             0.8,
             "#7fbc41"
            ],
            [
             0.9,
             "#4d9221"
            ],
            [
             1,
             "#276419"
            ]
           ],
           "sequential": [
            [
             0,
             "#0d0887"
            ],
            [
             0.1111111111111111,
             "#46039f"
            ],
            [
             0.2222222222222222,
             "#7201a8"
            ],
            [
             0.3333333333333333,
             "#9c179e"
            ],
            [
             0.4444444444444444,
             "#bd3786"
            ],
            [
             0.5555555555555556,
             "#d8576b"
            ],
            [
             0.6666666666666666,
             "#ed7953"
            ],
            [
             0.7777777777777778,
             "#fb9f3a"
            ],
            [
             0.8888888888888888,
             "#fdca26"
            ],
            [
             1,
             "#f0f921"
            ]
           ],
           "sequentialminus": [
            [
             0,
             "#0d0887"
            ],
            [
             0.1111111111111111,
             "#46039f"
            ],
            [
             0.2222222222222222,
             "#7201a8"
            ],
            [
             0.3333333333333333,
             "#9c179e"
            ],
            [
             0.4444444444444444,
             "#bd3786"
            ],
            [
             0.5555555555555556,
             "#d8576b"
            ],
            [
             0.6666666666666666,
             "#ed7953"
            ],
            [
             0.7777777777777778,
             "#fb9f3a"
            ],
            [
             0.8888888888888888,
             "#fdca26"
            ],
            [
             1,
             "#f0f921"
            ]
           ]
          },
          "colorway": [
           "#636efa",
           "#EF553B",
           "#00cc96",
           "#ab63fa",
           "#FFA15A",
           "#19d3f3",
           "#FF6692",
           "#B6E880",
           "#FF97FF",
           "#FECB52"
          ],
          "font": {
           "color": "#2a3f5f"
          },
          "geo": {
           "bgcolor": "white",
           "lakecolor": "white",
           "landcolor": "#E5ECF6",
           "showlakes": true,
           "showland": true,
           "subunitcolor": "white"
          },
          "hoverlabel": {
           "align": "left"
          },
          "hovermode": "closest",
          "mapbox": {
           "style": "light"
          },
          "paper_bgcolor": "white",
          "plot_bgcolor": "#E5ECF6",
          "polar": {
           "angularaxis": {
            "gridcolor": "white",
            "linecolor": "white",
            "ticks": ""
           },
           "bgcolor": "#E5ECF6",
           "radialaxis": {
            "gridcolor": "white",
            "linecolor": "white",
            "ticks": ""
           }
          },
          "scene": {
           "xaxis": {
            "backgroundcolor": "#E5ECF6",
            "gridcolor": "white",
            "gridwidth": 2,
            "linecolor": "white",
            "showbackground": true,
            "ticks": "",
            "zerolinecolor": "white"
           },
           "yaxis": {
            "backgroundcolor": "#E5ECF6",
            "gridcolor": "white",
            "gridwidth": 2,
            "linecolor": "white",
            "showbackground": true,
            "ticks": "",
            "zerolinecolor": "white"
           },
           "zaxis": {
            "backgroundcolor": "#E5ECF6",
            "gridcolor": "white",
            "gridwidth": 2,
            "linecolor": "white",
            "showbackground": true,
            "ticks": "",
            "zerolinecolor": "white"
           }
          },
          "shapedefaults": {
           "line": {
            "color": "#2a3f5f"
           }
          },
          "ternary": {
           "aaxis": {
            "gridcolor": "white",
            "linecolor": "white",
            "ticks": ""
           },
           "baxis": {
            "gridcolor": "white",
            "linecolor": "white",
            "ticks": ""
           },
           "bgcolor": "#E5ECF6",
           "caxis": {
            "gridcolor": "white",
            "linecolor": "white",
            "ticks": ""
           }
          },
          "title": {
           "x": 0.05
          },
          "xaxis": {
           "automargin": true,
           "gridcolor": "white",
           "linecolor": "white",
           "ticks": "",
           "title": {
            "standoff": 15
           },
           "zerolinecolor": "white",
           "zerolinewidth": 2
          },
          "yaxis": {
           "automargin": true,
           "gridcolor": "white",
           "linecolor": "white",
           "ticks": "",
           "title": {
            "standoff": 15
           },
           "zerolinecolor": "white",
           "zerolinewidth": 2
          }
         }
        },
        "title": {
         "text": "QST"
        },
        "xaxis": {
         "title": {
          "text": "number of data"
         },
         "type": "log"
        },
        "yaxis": {
         "title": {
          "text": "Mean Square Error of estimates and true"
         },
         "type": "log"
        }
       }
      }
     },
     "metadata": {}
    }
   ],
   "source": [
    "import plotly.graph_objects as go\n",
    "\n",
    "data_param_affine_est_linear = go.Scatter(name='param=affine, est=linear', x=num_data, y=mses_param_affine_est_linear, mode='lines+markers')\n",
    "data_param_affine_est_proj = go.Scatter(name='param=affine, est=proj', x=num_data, y=mses_param_affine_est_proj, mode='lines+markers')\n",
    "data_param_linear_est_linear = go.Scatter(name='param=linear, est=linear', x=num_data, y=mses_param_linear_est_linear, mode='lines+markers')\n",
    "data_param_linear_est_proj = go.Scatter(name='param=linear, est=proj', x=num_data, y=mses_param_linear_est_proj, mode='lines+markers')\n",
    "data = [data_param_affine_est_linear, data_param_affine_est_proj, data_param_linear_est_linear, data_param_linear_est_proj]\n",
    "\n",
    "layout = go.Layout(title='QST', xaxis_title_text=\"number of data\", yaxis_title_text=\"Mean Square Error of estimates and true\", xaxis_type=\"log\", yaxis_type=\"log\")\n",
    "fig = go.Figure(data=data, layout=layout)\n",
    "fig.show()"
   ]
  },
  {
   "cell_type": "markdown",
   "metadata": {},
   "source": [
    "# デバッグ"
   ]
  },
  {
   "cell_type": "code",
   "execution_count": 66,
   "metadata": {
    "tags": []
   },
   "outputs": [
    {
     "output_type": "stream",
     "name": "stdout",
     "text": "-- affine --\nmatA=\n[[ 0.70710678  0.          0.        ]\n [-0.70710678  0.          0.        ]\n [ 0.          0.70710678  0.        ]\n [ 0.         -0.70710678  0.        ]\n [ 0.          0.          0.70710678]\n [ 0.          0.         -0.70710678]]\nvecB=\n[0.70710678 0.70710678 0.70710678 0.70710678 0.70710678 0.70710678]\n"
    }
   ],
   "source": [
    "qst_affine = StandardQst(povms, on_para_eq_constraint=True)\n",
    "print(\"-- affine --\")\n",
    "print(\"matA=\")\n",
    "print(qst_affine.calc_matA())\n",
    "print(\"vecB=\")\n",
    "print(qst_affine.calc_vecB())"
   ]
  },
  {
   "cell_type": "code",
   "execution_count": 67,
   "metadata": {
    "tags": []
   },
   "outputs": [
    {
     "output_type": "stream",
     "name": "stdout",
     "text": "-- linear --\nmatA=\n[[ 0.70710678  0.70710678  0.          0.        ]\n [ 0.70710678 -0.70710678  0.          0.        ]\n [ 0.70710678  0.          0.70710678  0.        ]\n [ 0.70710678  0.         -0.70710678  0.        ]\n [ 0.70710678  0.          0.          0.70710678]\n [ 0.70710678  0.          0.         -0.70710678]]\nvecB=\n[0 0 0 0 0 0]\n"
    }
   ],
   "source": [
    "qst_linear = StandardQst(povms, on_para_eq_constraint=False)\n",
    "print(\"-- linear --\")\n",
    "print(\"matA=\")\n",
    "print(qst_linear.calc_matA())\n",
    "print(\"vecB=\")\n",
    "print(qst_linear.calc_vecB())"
   ]
  },
  {
   "cell_type": "markdown",
   "metadata": {},
   "source": [
    "# 本番"
   ]
  },
  {
   "cell_type": "code",
   "execution_count": 68,
   "metadata": {
    "tags": [
     "outputPrepend"
    ]
   },
   "outputs": [
    {
     "output_type": "stream",
     "name": "stdout",
     "text": " 0.]))]], 'obj_sequence': [<quara.objects.state.State object at 0x000001E131ADB278>, <quara.objects.state.State object at 0x000001E131ADB438>, <quara.objects.state.State object at 0x000001E131ADBDD8>, <quara.objects.state.State object at 0x000001E131ADB2E8>]}\n{'iteration': 970, 'empi_dists_seq': [[(100, array([0.51, 0.49])), (100, array([0.51, 0.49])), (100, array([1., 0.]))], [(1000, array([0.495, 0.505])), (1000, array([0.495, 0.505])), (1000, array([1., 0.]))], [(10000, array([0.4984, 0.5016])), (10000, array([0.4984, 0.5016])), (10000, array([1., 0.]))], [(100000, array([0.50024, 0.49976])), (100000, array([0.50024, 0.49976])), (100000, array([1., 0.]))]], 'obj_sequence': [<quara.objects.state.State object at 0x000001E131ADB4A8>, <quara.objects.state.State object at 0x000001E131ADB630>, <quara.objects.state.State object at 0x000001E131ADB8D0>, <quara.objects.state.State object at 0x000001E131ADB9B0>]}\n{'iteration': 971, 'empi_dists_seq': [[(100, array([0.49, 0.51])), (100, array([0.49, 0.51])), (100, array([1., 0.]))], [(1000, array([0.488, 0.512])), (1000, array([0.488, 0.512])), (1000, array([1., 0.]))], [(10000, array([0.503, 0.497])), (10000, array([0.503, 0.497])), (10000, array([1., 0.]))], [(100000, array([0.49762, 0.50238])), (100000, array([0.49762, 0.50238])), (100000, array([1., 0.]))]], 'obj_sequence': [<quara.objects.state.State object at 0x000001E131ADBF98>, <quara.objects.state.State object at 0x000001E131ADBEF0>, <quara.objects.state.State object at 0x000001E131ADB7F0>, <quara.objects.state.State object at 0x000001E131ADBB00>]}\n{'iteration': 972, 'empi_dists_seq': [[(100, array([0.51, 0.49])), (100, array([0.51, 0.49])), (100, array([1., 0.]))], [(1000, array([0.515, 0.485])), (1000, array([0.515, 0.485])), (1000, array([1., 0.]))], [(10000, array([0.5079, 0.4921])), (10000, array([0.5079, 0.4921])), (10000, array([1., 0.]))], [(100000, array([0.50066, 0.49934])), (100000, array([0.50066, 0.49934])), (100000, array([1., 0.]))]], 'obj_sequence': [<quara.objects.state.State object at 0x000001E131ADB978>, <quara.objects.state.State object at 0x000001E131ADB5F8>, <quara.objects.state.State object at 0x000001E131ADB048>, <quara.objects.state.State object at 0x000001E131ADB908>]}\n{'iteration': 973, 'empi_dists_seq': [[(100, array([0.5, 0.5])), (100, array([0.5, 0.5])), (100, array([1., 0.]))], [(1000, array([0.52, 0.48])), (1000, array([0.52, 0.48])), (1000, array([1., 0.]))], [(10000, array([0.4984, 0.5016])), (10000, array([0.4984, 0.5016])), (10000, array([1., 0.]))], [(100000, array([0.49793, 0.50207])), (100000, array([0.49793, 0.50207])), (100000, array([1., 0.]))]], 'obj_sequence': [<quara.objects.state.State object at 0x000001E131ADB400>, <quara.objects.state.State object at 0x000001E131ADB6A0>, <quara.objects.state.State object at 0x000001E131ADB6D8>, <quara.objects.state.State object at 0x000001E131ADBF28>]}\n{'iteration': 974, 'empi_dists_seq': [[(100, array([0.58, 0.42])), (100, array([0.58, 0.42])), (100, array([1., 0.]))], [(1000, array([0.472, 0.528])), (1000, array([0.472, 0.528])), (1000, array([1., 0.]))], [(10000, array([0.4884, 0.5116])), (10000, array([0.4884, 0.5116])), (10000, array([1., 0.]))], [(100000, array([0.49897, 0.50103])), (100000, array([0.49897, 0.50103])), (100000, array([1., 0.]))]], 'obj_sequence': [<quara.objects.state.State object at 0x000001E131ADBE80>, <quara.objects.state.State object at 0x000001E131ADBA90>, <quara.objects.state.State object at 0x000001E131ADB550>, <quara.objects.state.State object at 0x000001E131ADBA58>]}\n{'iteration': 975, 'empi_dists_seq': [[(100, array([0.47, 0.53])), (100, array([0.47, 0.53])), (100, array([1., 0.]))], [(1000, array([0.502, 0.498])), (1000, array([0.502, 0.498])), (1000, array([1., 0.]))], [(10000, array([0.5006, 0.4994])), (10000, array([0.5006, 0.4994])), (10000, array([1., 0.]))], [(100000, array([0.50135, 0.49865])), (100000, array([0.50135, 0.49865])), (100000, array([1., 0.]))]], 'obj_sequence': [<quara.objects.state.State object at 0x000001E131ADBC50>, <quara.objects.state.State object at 0x000001E131ADBE48>, <quara.objects.state.State object at 0x000001E131ADB940>, <quara.objects.state.State object at 0x000001E131ADBE10>]}\n{'iteration': 976, 'empi_dists_seq': [[(100, array([0.51, 0.49])), (100, array([0.51, 0.49])), (100, array([1., 0.]))], [(1000, array([0.515, 0.485])), (1000, array([0.515, 0.485])), (1000, array([1., 0.]))], [(10000, array([0.5033, 0.4967])), (10000, array([0.5033, 0.4967])), (10000, array([1., 0.]))], [(100000, array([0.49949, 0.50051])), (100000, array([0.49949, 0.50051])), (100000, array([1., 0.]))]], 'obj_sequence': [<quara.objects.state.State object at 0x000001E131ADBD68>, <quara.objects.state.State object at 0x000001E131ADBDA0>, <quara.objects.state.State object at 0x000001E131ADB128>, <quara.objects.state.State object at 0x000001E131ADBEB8>]}\n{'iteration': 977, 'empi_dists_seq': [[(100, array([0.62, 0.38])), (100, array([0.62, 0.38])), (100, array([1., 0.]))], [(1000, array([0.517, 0.483])), (1000, array([0.517, 0.483])), (1000, array([1., 0.]))], [(10000, array([0.5016, 0.4984])), (10000, array([0.5016, 0.4984])), (10000, array([1., 0.]))], [(100000, array([0.5024, 0.4976])), (100000, array([0.5024, 0.4976])), (100000, array([1., 0.]))]], 'obj_sequence': [<quara.objects.state.State object at 0x000001E131ADB1D0>, <quara.objects.state.State object at 0x000001E131ADB390>, <quara.objects.state.State object at 0x000001E131ADB240>, <quara.objects.state.State object at 0x000001E131ADB710>]}\n{'iteration': 978, 'empi_dists_seq': [[(100, array([0.48, 0.52])), (100, array([0.48, 0.52])), (100, array([1., 0.]))], [(1000, array([0.518, 0.482])), (1000, array([0.518, 0.482])), (1000, array([1., 0.]))], [(10000, array([0.5058, 0.4942])), (10000, array([0.5058, 0.4942])), (10000, array([1., 0.]))], [(100000, array([0.49987, 0.50013])), (100000, array([0.49987, 0.50013])), (100000, array([1., 0.]))]], 'obj_sequence': [<quara.objects.state.State object at 0x000001E131ADB320>, <quara.objects.state.State object at 0x000001E131ADB668>, <quara.objects.state.State object at 0x000001E131ADB898>, <quara.objects.state.State object at 0x000001E131ADB198>]}\n{'iteration': 979, 'empi_dists_seq': [[(100, array([0.46, 0.54])), (100, array([0.46, 0.54])), (100, array([1., 0.]))], [(1000, array([0.506, 0.494])), (1000, array([0.506, 0.494])), (1000, array([1., 0.]))], [(10000, array([0.4994, 0.5006])), (10000, array([0.4994, 0.5006])), (10000, array([1., 0.]))], [(100000, array([0.49981, 0.50019])), (100000, array([0.49981, 0.50019])), (100000, array([1., 0.]))]], 'obj_sequence': [<quara.objects.state.State object at 0x000001E131ADB860>, <quara.objects.state.State object at 0x000001E131ADB518>, <quara.objects.state.State object at 0x000001E131ADBFD0>, <quara.objects.state.State object at 0x000001E131ADB358>]}\n{'iteration': 980, 'empi_dists_seq': [[(100, array([0.5, 0.5])), (100, array([0.5, 0.5])), (100, array([1., 0.]))], [(1000, array([0.492, 0.508])), (1000, array([0.492, 0.508])), (1000, array([1., 0.]))], [(10000, array([0.5023, 0.4977])), (10000, array([0.5023, 0.4977])), (10000, array([1., 0.]))], [(100000, array([0.50135, 0.49865])), (100000, array([0.50135, 0.49865])), (100000, array([1., 0.]))]], 'obj_sequence': [<quara.objects.state.State object at 0x000001E131ADBBA8>, <quara.objects.state.State object at 0x000001E131ADBB70>, <quara.objects.state.State object at 0x000001E131ADBC88>, <quara.objects.state.State object at 0x000001E131ADBAC8>]}\n{'iteration': 981, 'empi_dists_seq': [[(100, array([0.49, 0.51])), (100, array([0.49, 0.51])), (100, array([1., 0.]))], [(1000, array([0.514, 0.486])), (1000, array([0.514, 0.486])), (1000, array([1., 0.]))], [(10000, array([0.4899, 0.5101])), (10000, array([0.4899, 0.5101])), (10000, array([1., 0.]))], [(100000, array([0.49791, 0.50209])), (100000, array([0.49791, 0.50209])), (100000, array([1., 0.]))]], 'obj_sequence': [<quara.objects.state.State object at 0x000001E131ADBCC0>, <quara.objects.state.State object at 0x000001E131ADB7B8>, <quara.objects.state.State object at 0x000001E131ADB208>, <quara.objects.state.State object at 0x000001E131ADBCF8>]}\n{'iteration': 982, 'empi_dists_seq': [[(100, array([0.47, 0.53])), (100, array([0.47, 0.53])), (100, array([1., 0.]))], [(1000, array([0.485, 0.515])), (1000, array([0.485, 0.515])), (1000, array([1., 0.]))], [(10000, array([0.5022, 0.4978])), (10000, array([0.5022, 0.4978])), (10000, array([1., 0.]))], [(100000, array([0.50073, 0.49927])), (100000, array([0.50073, 0.49927])), (100000, array([1., 0.]))]], 'obj_sequence': [<quara.objects.state.State object at 0x000001E131ADBA20>, <quara.objects.state.State object at 0x000001E131ADB0F0>, <quara.objects.state.State object at 0x000001E131ADB828>, <quara.objects.state.State object at 0x000001E131ADB160>]}\n{'iteration': 983, 'empi_dists_seq': [[(100, array([0.44, 0.56])), (100, array([0.44, 0.56])), (100, array([1., 0.]))], [(1000, array([0.5, 0.5])), (1000, array([0.5, 0.5])), (1000, array([1., 0.]))], [(10000, array([0.5022, 0.4978])), (10000, array([0.5022, 0.4978])), (10000, array([1., 0.]))], [(100000, array([0.50063, 0.49937])), (100000, array([0.50063, 0.49937])), (100000, array([1., 0.]))]], 'obj_sequence': [<quara.objects.state.State object at 0x000001E131ADBC18>, <quara.objects.state.State object at 0x000001E131ADB2B0>, <quara.objects.state.State object at 0x000001E131AD6630>, <quara.objects.state.State object at 0x000001E131AD6BA8>]}\n{'iteration': 984, 'empi_dists_seq': [[(100, array([0.55, 0.45])), (100, array([0.55, 0.45])), (100, array([1., 0.]))], [(1000, array([0.501, 0.499])), (1000, array([0.501, 0.499])), (1000, array([1., 0.]))], [(10000, array([0.4981, 0.5019])), (10000, array([0.4981, 0.5019])), (10000, array([1., 0.]))], [(100000, array([0.50032, 0.49968])), (100000, array([0.50032, 0.49968])), (100000, array([1., 0.]))]], 'obj_sequence': [<quara.objects.state.State object at 0x000001E131AD6A90>, <quara.objects.state.State object at 0x000001E131AD6160>, <quara.objects.state.State object at 0x000001E131AD6278>, <quara.objects.state.State object at 0x000001E131AD6D30>]}\n{'iteration': 985, 'empi_dists_seq': [[(100, array([0.49, 0.51])), (100, array([0.49, 0.51])), (100, array([1., 0.]))], [(1000, array([0.514, 0.486])), (1000, array([0.514, 0.486])), (1000, array([1., 0.]))], [(10000, array([0.5038, 0.4962])), (10000, array([0.5038, 0.4962])), (10000, array([1., 0.]))], [(100000, array([0.49843, 0.50157])), (100000, array([0.49843, 0.50157])), (100000, array([1., 0.]))]], 'obj_sequence': [<quara.objects.state.State object at 0x000001E131AD68D0>, <quara.objects.state.State object at 0x000001E131AD6390>, <quara.objects.state.State object at 0x000001E131AD6780>, <quara.objects.state.State object at 0x000001E131AD67B8>]}\n{'iteration': 986, 'empi_dists_seq': [[(100, array([0.47, 0.53])), (100, array([0.47, 0.53])), (100, array([1., 0.]))], [(1000, array([0.462, 0.538])), (1000, array([0.462, 0.538])), (1000, array([1., 0.]))], [(10000, array([0.4904, 0.5096])), (10000, array([0.4904, 0.5096])), (10000, array([1., 0.]))], [(100000, array([0.49939, 0.50061])), (100000, array([0.49939, 0.50061])), (100000, array([1., 0.]))]], 'obj_sequence': [<quara.objects.state.State object at 0x000001E131ADBD30>, <quara.objects.state.State object at 0x000001E131AD66D8>, <quara.objects.state.State object at 0x000001E131AD66A0>, <quara.objects.state.State object at 0x000001E131AD65C0>]}\n{'iteration': 987, 'empi_dists_seq': [[(100, array([0.45, 0.55])), (100, array([0.45, 0.55])), (100, array([1., 0.]))], [(1000, array([0.503, 0.497])), (1000, array([0.503, 0.497])), (1000, array([1., 0.]))], [(10000, array([0.494, 0.506])), (10000, array([0.494, 0.506])), (10000, array([1., 0.]))], [(100000, array([0.49893, 0.50107])), (100000, array([0.49893, 0.50107])), (100000, array([1., 0.]))]], 'obj_sequence': [<quara.objects.state.State object at 0x000001E131AD6908>, <quara.objects.state.State object at 0x000001E131AD6080>, <quara.objects.state.State object at 0x000001E131AD64A8>, <quara.objects.state.State object at 0x000001E131AD6710>]}\n{'iteration': 988, 'empi_dists_seq': [[(100, array([0.57, 0.43])), (100, array([0.57, 0.43])), (100, array([1., 0.]))], [(1000, array([0.502, 0.498])), (1000, array([0.502, 0.498])), (1000, array([1., 0.]))], [(10000, array([0.5024, 0.4976])), (10000, array([0.5024, 0.4976])), (10000, array([1., 0.]))], [(100000, array([0.50177, 0.49823])), (100000, array([0.50177, 0.49823])), (100000, array([1., 0.]))]], 'obj_sequence': [<quara.objects.state.State object at 0x000001E131AD67F0>, <quara.objects.state.State object at 0x000001E131AD6860>, <quara.objects.state.State object at 0x000001E131AD6828>, <quara.objects.state.State object at 0x000001E131AD6400>]}\n{'iteration': 989, 'empi_dists_seq': [[(100, array([0.42, 0.58])), (100, array([0.42, 0.58])), (100, array([1., 0.]))], [(1000, array([0.508, 0.492])), (1000, array([0.508, 0.492])), (1000, array([1., 0.]))], [(10000, array([0.5007, 0.4993])), (10000, array([0.5007, 0.4993])), (10000, array([1., 0.]))], [(100000, array([0.5004, 0.4996])), (100000, array([0.5004, 0.4996])), (100000, array([1., 0.]))]], 'obj_sequence': [<quara.objects.state.State object at 0x000001E131AD6EF0>, <quara.objects.state.State object at 0x000001E131AD6F98>, <quara.objects.state.State object at 0x000001E131AD6B70>, <quara.objects.state.State object at 0x000001E131AD6898>]}\n{'iteration': 990, 'empi_dists_seq': [[(100, array([0.61, 0.39])), (100, array([0.61, 0.39])), (100, array([1., 0.]))], [(1000, array([0.509, 0.491])), (1000, array([0.509, 0.491])), (1000, array([1., 0.]))], [(10000, array([0.4981, 0.5019])), (10000, array([0.4981, 0.5019])), (10000, array([1., 0.]))], [(100000, array([0.49801, 0.50199])), (100000, array([0.49801, 0.50199])), (100000, array([1., 0.]))]], 'obj_sequence': [<quara.objects.state.State object at 0x000001E131AD6B38>, <quara.objects.state.State object at 0x000001E131AD6748>, <quara.objects.state.State object at 0x000001E131AD6C88>, <quara.objects.state.State object at 0x000001E131AD6438>]}\n{'iteration': 991, 'empi_dists_seq': [[(100, array([0.48, 0.52])), (100, array([0.48, 0.52])), (100, array([1., 0.]))], [(1000, array([0.502, 0.498])), (1000, array([0.502, 0.498])), (1000, array([1., 0.]))], [(10000, array([0.5008, 0.4992])), (10000, array([0.5008, 0.4992])), (10000, array([1., 0.]))], [(100000, array([0.4995, 0.5005])), (100000, array([0.4995, 0.5005])), (100000, array([1., 0.]))]], 'obj_sequence': [<quara.objects.state.State object at 0x000001E131AD6F60>, <quara.objects.state.State object at 0x000001E131AD6C18>, <quara.objects.state.State object at 0x000001E131AD6C50>, <quara.objects.state.State object at 0x000001E131AD6B00>]}\n{'iteration': 992, 'empi_dists_seq': [[(100, array([0.46, 0.54])), (100, array([0.46, 0.54])), (100, array([1., 0.]))], [(1000, array([0.494, 0.506])), (1000, array([0.494, 0.506])), (1000, array([1., 0.]))], [(10000, array([0.4976, 0.5024])), (10000, array([0.4976, 0.5024])), (10000, array([1., 0.]))], [(100000, array([0.50286, 0.49714])), (100000, array([0.50286, 0.49714])), (100000, array([1., 0.]))]], 'obj_sequence': [<quara.objects.state.State object at 0x000001E131AD6EB8>, <quara.objects.state.State object at 0x000001E131AD6DA0>, <quara.objects.state.State object at 0x000001E131AD6A20>, <quara.objects.state.State object at 0x000001E131AD6E48>]}\n{'iteration': 993, 'empi_dists_seq': [[(100, array([0.6, 0.4])), (100, array([0.6, 0.4])), (100, array([1., 0.]))], [(1000, array([0.528, 0.472])), (1000, array([0.528, 0.472])), (1000, array([1., 0.]))], [(10000, array([0.4989, 0.5011])), (10000, array([0.4989, 0.5011])), (10000, array([1., 0.]))], [(100000, array([0.50018, 0.49982])), (100000, array([0.50018, 0.49982])), (100000, array([1., 0.]))]], 'obj_sequence': [<quara.objects.state.State object at 0x000001E131AD6940>, <quara.objects.state.State object at 0x000001E131AD69B0>, <quara.objects.state.State object at 0x000001E131AD69E8>, <quara.objects.state.State object at 0x000001E131AD6DD8>]}\n{'iteration': 994, 'empi_dists_seq': [[(100, array([0.49, 0.51])), (100, array([0.49, 0.51])), (100, array([1., 0.]))], [(1000, array([0.486, 0.514])), (1000, array([0.486, 0.514])), (1000, array([1., 0.]))], [(10000, array([0.502, 0.498])), (10000, array([0.502, 0.498])), (10000, array([1., 0.]))], [(100000, array([0.50148, 0.49852])), (100000, array([0.50148, 0.49852])), (100000, array([1., 0.]))]], 'obj_sequence': [<quara.objects.state.State object at 0x000001E131AD6588>, <quara.objects.state.State object at 0x000001E131AD6198>, <quara.objects.state.State object at 0x000001E131AD6978>, <quara.objects.state.State object at 0x000001E131AD64E0>]}\n{'iteration': 995, 'empi_dists_seq': [[(100, array([0.52, 0.48])), (100, array([0.52, 0.48])), (100, array([1., 0.]))], [(1000, array([0.506, 0.494])), (1000, array([0.506, 0.494])), (1000, array([1., 0.]))], [(10000, array([0.5048, 0.4952])), (10000, array([0.5048, 0.4952])), (10000, array([1., 0.]))], [(100000, array([0.50008, 0.49992])), (100000, array([0.50008, 0.49992])), (100000, array([1., 0.]))]], 'obj_sequence': [<quara.objects.state.State object at 0x000001E131AD61D0>, <quara.objects.state.State object at 0x000001E131AD6128>, <quara.objects.state.State object at 0x000001E131AD6518>, <quara.objects.state.State object at 0x000001E131AD6E10>]}\n{'iteration': 996, 'empi_dists_seq': [[(100, array([0.5, 0.5])), (100, array([0.5, 0.5])), (100, array([1., 0.]))], [(1000, array([0.528, 0.472])), (1000, array([0.528, 0.472])), (1000, array([1., 0.]))], [(10000, array([0.5077, 0.4923])), (10000, array([0.5077, 0.4923])), (10000, array([1., 0.]))], [(100000, array([0.50064, 0.49936])), (100000, array([0.50064, 0.49936])), (100000, array([1., 0.]))]], 'obj_sequence': [<quara.objects.state.State object at 0x000001E131AD60F0>, <quara.objects.state.State object at 0x000001E131AD6320>, <quara.objects.state.State object at 0x000001E131AD6470>, <quara.objects.state.State object at 0x000001E131AD60B8>]}\n{'iteration': 997, 'empi_dists_seq': [[(100, array([0.49, 0.51])), (100, array([0.49, 0.51])), (100, array([1., 0.]))], [(1000, array([0.487, 0.513])), (1000, array([0.487, 0.513])), (1000, array([1., 0.]))], [(10000, array([0.4979, 0.5021])), (10000, array([0.4979, 0.5021])), (10000, array([1., 0.]))], [(100000, array([0.5011, 0.4989])), (100000, array([0.5011, 0.4989])), (100000, array([1., 0.]))]], 'obj_sequence': [<quara.objects.state.State object at 0x000001E131AD6048>, <quara.objects.state.State object at 0x000001E131AD6AC8>, <quara.objects.state.State object at 0x000001E131AD62B0>, <quara.objects.state.State object at 0x000001E131AD63C8>]}\n{'iteration': 998, 'empi_dists_seq': [[(100, array([0.54, 0.46])), (100, array([0.54, 0.46])), (100, array([1., 0.]))], [(1000, array([0.494, 0.506])), (1000, array([0.494, 0.506])), (1000, array([1., 0.]))], [(10000, array([0.5007, 0.4993])), (10000, array([0.5007, 0.4993])), (10000, array([1., 0.]))], [(100000, array([0.50137, 0.49863])), (100000, array([0.50137, 0.49863])), (100000, array([1., 0.]))]], 'obj_sequence': [<quara.objects.state.State object at 0x000001E131AD6208>, <quara.objects.state.State object at 0x000001E131AD6550>, <quara.objects.state.State object at 0x000001E131AD6CF8>, <quara.objects.state.State object at 0x000001E131AD6FD0>]}\n{'iteration': 999, 'empi_dists_seq': [[(100, array([0.43, 0.57])), (100, array([0.43, 0.57])), (100, array([1., 0.]))], [(1000, array([0.492, 0.508])), (1000, array([0.492, 0.508])), (1000, array([1., 0.]))], [(10000, array([0.5034, 0.4966])), (10000, array([0.5034, 0.4966])), (10000, array([1., 0.]))], [(100000, array([0.49891, 0.50109])), (100000, array([0.49891, 0.50109])), (100000, array([1., 0.]))]], 'obj_sequence': [<quara.objects.state.State object at 0x000001E131AD6A58>, <quara.objects.state.State object at 0x000001E131AD6E80>, <quara.objects.state.State object at 0x000001E131AD6BE0>, <quara.objects.state.State object at 0x000001E131AD6CC0>]}\ntime(s)=734.0762596130371\n"
    }
   ],
   "source": [
    "true_object = get_z0_1q(c_sys)\n",
    "num_data = [100, 1000, 10000, 100000]\n",
    "iterations = 1000\n",
    "\n",
    "param_affine_est_linear = estimate(\"z0\", true_object, num_data, iterations, on_para_eq_constraint=True)\n",
    "param_linear_est_linear = estimate(\"z0\", true_object, num_data, iterations, on_para_eq_constraint=False)"
   ]
  },
  {
   "cell_type": "code",
   "execution_count": 69,
   "metadata": {
    "tags": []
   },
   "outputs": [
    {
     "output_type": "stream",
     "name": "stdout",
     "text": "param=affine, est=linear: [0.011150400000000008, 0.0010314760000000019, 0.00010338396000000001, 1.022362080000001e-05]\nparam=affine, est=proj  : [0.01070085428640879, 0.001028742115271585, 0.0001033545699697992, 1.0223345250594405e-05]\nparam=linear, est=linear: [0.011150400000000005, 0.0010314760000000019, 0.00010338395999999994, 1.0223620799999999e-05]\nparam=linear, est=proj  : [0.010700854286408788, 0.0010287421152715853, 0.00010335456996979914, 1.0223345250594398e-05]\n"
    }
   ],
   "source": [
    "# calc mse(param_affine)\n",
    "param_affine_est_linear_tmp = [list(obj_sequence) for obj_sequence in zip(*param_affine_est_linear)]\n",
    "mses_param_affine_est_linear = [\n",
    "    calc_mse(obj_sequence, [true_object] * len(obj_sequence)) for obj_sequence in param_affine_est_linear_tmp\n",
    "]\n",
    "mses_param_affine_est_proj = [\n",
    "    calc_mse_proj(obj_sequence, [true_object] * len(obj_sequence)) for obj_sequence in param_affine_est_linear_tmp\n",
    "]\n",
    "print(f\"param=affine, est=linear: {mses_param_affine_est_linear}\")\n",
    "print(f\"param=affine, est=proj  : {mses_param_affine_est_proj}\")\n",
    "\n",
    "# calc mse(param_linear)\n",
    "param_linear_est_linear_tmp = [list(obj_sequence) for obj_sequence in zip(*param_linear_est_linear)]\n",
    "mses_param_linear_est_linear = [\n",
    "    calc_mse(obj_sequence, [true_object] * len(obj_sequence)) for obj_sequence in param_linear_est_linear_tmp\n",
    "]\n",
    "mses_param_linear_est_proj = [\n",
    "    calc_mse_proj(obj_sequence, [true_object] * len(obj_sequence)) for obj_sequence in param_linear_est_linear_tmp\n",
    "]\n",
    "print(f\"param=linear, est=linear: {mses_param_linear_est_linear}\")\n",
    "print(f\"param=linear, est=proj  : {mses_param_linear_est_proj}\")"
   ]
  },
  {
   "cell_type": "code",
   "execution_count": 70,
   "metadata": {},
   "outputs": [
    {
     "output_type": "display_data",
     "data": {
      "application/vnd.plotly.v1+json": {
       "config": {
        "plotlyServerURL": "https://plot.ly"
       },
       "data": [
        {
         "mode": "lines+markers",
         "name": "param=affine, est=linear",
         "type": "scatter",
         "x": [
          100,
          1000,
          10000,
          100000
         ],
         "y": [
          0.011150400000000008,
          0.0010314760000000019,
          0.00010338396000000001,
          0.00001022362080000001
         ]
        },
        {
         "mode": "lines+markers",
         "name": "param=affine, est=proj",
         "type": "scatter",
         "x": [
          100,
          1000,
          10000,
          100000
         ],
         "y": [
          0.01070085428640879,
          0.001028742115271585,
          0.0001033545699697992,
          0.000010223345250594405
         ]
        },
        {
         "mode": "lines+markers",
         "name": "param=linear, est=linear",
         "type": "scatter",
         "x": [
          100,
          1000,
          10000,
          100000
         ],
         "y": [
          0.011150400000000005,
          0.0010314760000000019,
          0.00010338395999999994,
          0.000010223620799999999
         ]
        },
        {
         "mode": "lines+markers",
         "name": "param=linear, est=proj",
         "type": "scatter",
         "x": [
          100,
          1000,
          10000,
          100000
         ],
         "y": [
          0.010700854286408788,
          0.0010287421152715853,
          0.00010335456996979914,
          0.000010223345250594398
         ]
        }
       ],
       "layout": {
        "template": {
         "data": {
          "bar": [
           {
            "error_x": {
             "color": "#2a3f5f"
            },
            "error_y": {
             "color": "#2a3f5f"
            },
            "marker": {
             "line": {
              "color": "#E5ECF6",
              "width": 0.5
             }
            },
            "type": "bar"
           }
          ],
          "barpolar": [
           {
            "marker": {
             "line": {
              "color": "#E5ECF6",
              "width": 0.5
             }
            },
            "type": "barpolar"
           }
          ],
          "carpet": [
           {
            "aaxis": {
             "endlinecolor": "#2a3f5f",
             "gridcolor": "white",
             "linecolor": "white",
             "minorgridcolor": "white",
             "startlinecolor": "#2a3f5f"
            },
            "baxis": {
             "endlinecolor": "#2a3f5f",
             "gridcolor": "white",
             "linecolor": "white",
             "minorgridcolor": "white",
             "startlinecolor": "#2a3f5f"
            },
            "type": "carpet"
           }
          ],
          "choropleth": [
           {
            "colorbar": {
             "outlinewidth": 0,
             "ticks": ""
            },
            "type": "choropleth"
           }
          ],
          "contour": [
           {
            "colorbar": {
             "outlinewidth": 0,
             "ticks": ""
            },
            "colorscale": [
             [
              0,
              "#0d0887"
             ],
             [
              0.1111111111111111,
              "#46039f"
             ],
             [
              0.2222222222222222,
              "#7201a8"
             ],
             [
              0.3333333333333333,
              "#9c179e"
             ],
             [
              0.4444444444444444,
              "#bd3786"
             ],
             [
              0.5555555555555556,
              "#d8576b"
             ],
             [
              0.6666666666666666,
              "#ed7953"
             ],
             [
              0.7777777777777778,
              "#fb9f3a"
             ],
             [
              0.8888888888888888,
              "#fdca26"
             ],
             [
              1,
              "#f0f921"
             ]
            ],
            "type": "contour"
           }
          ],
          "contourcarpet": [
           {
            "colorbar": {
             "outlinewidth": 0,
             "ticks": ""
            },
            "type": "contourcarpet"
           }
          ],
          "heatmap": [
           {
            "colorbar": {
             "outlinewidth": 0,
             "ticks": ""
            },
            "colorscale": [
             [
              0,
              "#0d0887"
             ],
             [
              0.1111111111111111,
              "#46039f"
             ],
             [
              0.2222222222222222,
              "#7201a8"
             ],
             [
              0.3333333333333333,
              "#9c179e"
             ],
             [
              0.4444444444444444,
              "#bd3786"
             ],
             [
              0.5555555555555556,
              "#d8576b"
             ],
             [
              0.6666666666666666,
              "#ed7953"
             ],
             [
              0.7777777777777778,
              "#fb9f3a"
             ],
             [
              0.8888888888888888,
              "#fdca26"
             ],
             [
              1,
              "#f0f921"
             ]
            ],
            "type": "heatmap"
           }
          ],
          "heatmapgl": [
           {
            "colorbar": {
             "outlinewidth": 0,
             "ticks": ""
            },
            "colorscale": [
             [
              0,
              "#0d0887"
             ],
             [
              0.1111111111111111,
              "#46039f"
             ],
             [
              0.2222222222222222,
              "#7201a8"
             ],
             [
              0.3333333333333333,
              "#9c179e"
             ],
             [
              0.4444444444444444,
              "#bd3786"
             ],
             [
              0.5555555555555556,
              "#d8576b"
             ],
             [
              0.6666666666666666,
              "#ed7953"
             ],
             [
              0.7777777777777778,
              "#fb9f3a"
             ],
             [
              0.8888888888888888,
              "#fdca26"
             ],
             [
              1,
              "#f0f921"
             ]
            ],
            "type": "heatmapgl"
           }
          ],
          "histogram": [
           {
            "marker": {
             "colorbar": {
              "outlinewidth": 0,
              "ticks": ""
             }
            },
            "type": "histogram"
           }
          ],
          "histogram2d": [
           {
            "colorbar": {
             "outlinewidth": 0,
             "ticks": ""
            },
            "colorscale": [
             [
              0,
              "#0d0887"
             ],
             [
              0.1111111111111111,
              "#46039f"
             ],
             [
              0.2222222222222222,
              "#7201a8"
             ],
             [
              0.3333333333333333,
              "#9c179e"
             ],
             [
              0.4444444444444444,
              "#bd3786"
             ],
             [
              0.5555555555555556,
              "#d8576b"
             ],
             [
              0.6666666666666666,
              "#ed7953"
             ],
             [
              0.7777777777777778,
              "#fb9f3a"
             ],
             [
              0.8888888888888888,
              "#fdca26"
             ],
             [
              1,
              "#f0f921"
             ]
            ],
            "type": "histogram2d"
           }
          ],
          "histogram2dcontour": [
           {
            "colorbar": {
             "outlinewidth": 0,
             "ticks": ""
            },
            "colorscale": [
             [
              0,
              "#0d0887"
             ],
             [
              0.1111111111111111,
              "#46039f"
             ],
             [
              0.2222222222222222,
              "#7201a8"
             ],
             [
              0.3333333333333333,
              "#9c179e"
             ],
             [
              0.4444444444444444,
              "#bd3786"
             ],
             [
              0.5555555555555556,
              "#d8576b"
             ],
             [
              0.6666666666666666,
              "#ed7953"
             ],
             [
              0.7777777777777778,
              "#fb9f3a"
             ],
             [
              0.8888888888888888,
              "#fdca26"
             ],
             [
              1,
              "#f0f921"
             ]
            ],
            "type": "histogram2dcontour"
           }
          ],
          "mesh3d": [
           {
            "colorbar": {
             "outlinewidth": 0,
             "ticks": ""
            },
            "type": "mesh3d"
           }
          ],
          "parcoords": [
           {
            "line": {
             "colorbar": {
              "outlinewidth": 0,
              "ticks": ""
             }
            },
            "type": "parcoords"
           }
          ],
          "pie": [
           {
            "automargin": true,
            "type": "pie"
           }
          ],
          "scatter": [
           {
            "marker": {
             "colorbar": {
              "outlinewidth": 0,
              "ticks": ""
             }
            },
            "type": "scatter"
           }
          ],
          "scatter3d": [
           {
            "line": {
             "colorbar": {
              "outlinewidth": 0,
              "ticks": ""
             }
            },
            "marker": {
             "colorbar": {
              "outlinewidth": 0,
              "ticks": ""
             }
            },
            "type": "scatter3d"
           }
          ],
          "scattercarpet": [
           {
            "marker": {
             "colorbar": {
              "outlinewidth": 0,
              "ticks": ""
             }
            },
            "type": "scattercarpet"
           }
          ],
          "scattergeo": [
           {
            "marker": {
             "colorbar": {
              "outlinewidth": 0,
              "ticks": ""
             }
            },
            "type": "scattergeo"
           }
          ],
          "scattergl": [
           {
            "marker": {
             "colorbar": {
              "outlinewidth": 0,
              "ticks": ""
             }
            },
            "type": "scattergl"
           }
          ],
          "scattermapbox": [
           {
            "marker": {
             "colorbar": {
              "outlinewidth": 0,
              "ticks": ""
             }
            },
            "type": "scattermapbox"
           }
          ],
          "scatterpolar": [
           {
            "marker": {
             "colorbar": {
              "outlinewidth": 0,
              "ticks": ""
             }
            },
            "type": "scatterpolar"
           }
          ],
          "scatterpolargl": [
           {
            "marker": {
             "colorbar": {
              "outlinewidth": 0,
              "ticks": ""
             }
            },
            "type": "scatterpolargl"
           }
          ],
          "scatterternary": [
           {
            "marker": {
             "colorbar": {
              "outlinewidth": 0,
              "ticks": ""
             }
            },
            "type": "scatterternary"
           }
          ],
          "surface": [
           {
            "colorbar": {
             "outlinewidth": 0,
             "ticks": ""
            },
            "colorscale": [
             [
              0,
              "#0d0887"
             ],
             [
              0.1111111111111111,
              "#46039f"
             ],
             [
              0.2222222222222222,
              "#7201a8"
             ],
             [
              0.3333333333333333,
              "#9c179e"
             ],
             [
              0.4444444444444444,
              "#bd3786"
             ],
             [
              0.5555555555555556,
              "#d8576b"
             ],
             [
              0.6666666666666666,
              "#ed7953"
             ],
             [
              0.7777777777777778,
              "#fb9f3a"
             ],
             [
              0.8888888888888888,
              "#fdca26"
             ],
             [
              1,
              "#f0f921"
             ]
            ],
            "type": "surface"
           }
          ],
          "table": [
           {
            "cells": {
             "fill": {
              "color": "#EBF0F8"
             },
             "line": {
              "color": "white"
             }
            },
            "header": {
             "fill": {
              "color": "#C8D4E3"
             },
             "line": {
              "color": "white"
             }
            },
            "type": "table"
           }
          ]
         },
         "layout": {
          "annotationdefaults": {
           "arrowcolor": "#2a3f5f",
           "arrowhead": 0,
           "arrowwidth": 1
          },
          "coloraxis": {
           "colorbar": {
            "outlinewidth": 0,
            "ticks": ""
           }
          },
          "colorscale": {
           "diverging": [
            [
             0,
             "#8e0152"
            ],
            [
             0.1,
             "#c51b7d"
            ],
            [
             0.2,
             "#de77ae"
            ],
            [
             0.3,
             "#f1b6da"
            ],
            [
             0.4,
             "#fde0ef"
            ],
            [
             0.5,
             "#f7f7f7"
            ],
            [
             0.6,
             "#e6f5d0"
            ],
            [
             0.7,
             "#b8e186"
            ],
            [
             0.8,
             "#7fbc41"
            ],
            [
             0.9,
             "#4d9221"
            ],
            [
             1,
             "#276419"
            ]
           ],
           "sequential": [
            [
             0,
             "#0d0887"
            ],
            [
             0.1111111111111111,
             "#46039f"
            ],
            [
             0.2222222222222222,
             "#7201a8"
            ],
            [
             0.3333333333333333,
             "#9c179e"
            ],
            [
             0.4444444444444444,
             "#bd3786"
            ],
            [
             0.5555555555555556,
             "#d8576b"
            ],
            [
             0.6666666666666666,
             "#ed7953"
            ],
            [
             0.7777777777777778,
             "#fb9f3a"
            ],
            [
             0.8888888888888888,
             "#fdca26"
            ],
            [
             1,
             "#f0f921"
            ]
           ],
           "sequentialminus": [
            [
             0,
             "#0d0887"
            ],
            [
             0.1111111111111111,
             "#46039f"
            ],
            [
             0.2222222222222222,
             "#7201a8"
            ],
            [
             0.3333333333333333,
             "#9c179e"
            ],
            [
             0.4444444444444444,
             "#bd3786"
            ],
            [
             0.5555555555555556,
             "#d8576b"
            ],
            [
             0.6666666666666666,
             "#ed7953"
            ],
            [
             0.7777777777777778,
             "#fb9f3a"
            ],
            [
             0.8888888888888888,
             "#fdca26"
            ],
            [
             1,
             "#f0f921"
            ]
           ]
          },
          "colorway": [
           "#636efa",
           "#EF553B",
           "#00cc96",
           "#ab63fa",
           "#FFA15A",
           "#19d3f3",
           "#FF6692",
           "#B6E880",
           "#FF97FF",
           "#FECB52"
          ],
          "font": {
           "color": "#2a3f5f"
          },
          "geo": {
           "bgcolor": "white",
           "lakecolor": "white",
           "landcolor": "#E5ECF6",
           "showlakes": true,
           "showland": true,
           "subunitcolor": "white"
          },
          "hoverlabel": {
           "align": "left"
          },
          "hovermode": "closest",
          "mapbox": {
           "style": "light"
          },
          "paper_bgcolor": "white",
          "plot_bgcolor": "#E5ECF6",
          "polar": {
           "angularaxis": {
            "gridcolor": "white",
            "linecolor": "white",
            "ticks": ""
           },
           "bgcolor": "#E5ECF6",
           "radialaxis": {
            "gridcolor": "white",
            "linecolor": "white",
            "ticks": ""
           }
          },
          "scene": {
           "xaxis": {
            "backgroundcolor": "#E5ECF6",
            "gridcolor": "white",
            "gridwidth": 2,
            "linecolor": "white",
            "showbackground": true,
            "ticks": "",
            "zerolinecolor": "white"
           },
           "yaxis": {
            "backgroundcolor": "#E5ECF6",
            "gridcolor": "white",
            "gridwidth": 2,
            "linecolor": "white",
            "showbackground": true,
            "ticks": "",
            "zerolinecolor": "white"
           },
           "zaxis": {
            "backgroundcolor": "#E5ECF6",
            "gridcolor": "white",
            "gridwidth": 2,
            "linecolor": "white",
            "showbackground": true,
            "ticks": "",
            "zerolinecolor": "white"
           }
          },
          "shapedefaults": {
           "line": {
            "color": "#2a3f5f"
           }
          },
          "ternary": {
           "aaxis": {
            "gridcolor": "white",
            "linecolor": "white",
            "ticks": ""
           },
           "baxis": {
            "gridcolor": "white",
            "linecolor": "white",
            "ticks": ""
           },
           "bgcolor": "#E5ECF6",
           "caxis": {
            "gridcolor": "white",
            "linecolor": "white",
            "ticks": ""
           }
          },
          "title": {
           "x": 0.05
          },
          "xaxis": {
           "automargin": true,
           "gridcolor": "white",
           "linecolor": "white",
           "ticks": "",
           "title": {
            "standoff": 15
           },
           "zerolinecolor": "white",
           "zerolinewidth": 2
          },
          "yaxis": {
           "automargin": true,
           "gridcolor": "white",
           "linecolor": "white",
           "ticks": "",
           "title": {
            "standoff": 15
           },
           "zerolinecolor": "white",
           "zerolinewidth": 2
          }
         }
        },
        "title": {
         "text": "QST"
        },
        "xaxis": {
         "title": {
          "text": "number of data"
         },
         "type": "log"
        },
        "yaxis": {
         "title": {
          "text": "Mean Square Error of estimates and true"
         },
         "type": "log"
        }
       }
      }
     },
     "metadata": {}
    }
   ],
   "source": [
    "import plotly.graph_objects as go\n",
    "\n",
    "data_param_affine_est_linear = go.Scatter(name='param=affine, est=linear', x=num_data, y=mses_param_affine_est_linear, mode='lines+markers')\n",
    "data_param_affine_est_proj = go.Scatter(name='param=affine, est=proj', x=num_data, y=mses_param_affine_est_proj, mode='lines+markers')\n",
    "data_param_linear_est_linear = go.Scatter(name='param=linear, est=linear', x=num_data, y=mses_param_linear_est_linear, mode='lines+markers')\n",
    "data_param_linear_est_proj = go.Scatter(name='param=linear, est=proj', x=num_data, y=mses_param_linear_est_proj, mode='lines+markers')\n",
    "data = [data_param_affine_est_linear, data_param_affine_est_proj, data_param_linear_est_linear, data_param_linear_est_proj]\n",
    "\n",
    "layout = go.Layout(title='QST', xaxis_title_text=\"number of data\", yaxis_title_text=\"Mean Square Error of estimates and true\", xaxis_type=\"log\", yaxis_type=\"log\")\n",
    "fig = go.Figure(data=data, layout=layout)\n",
    "fig.show()"
   ]
  },
  {
   "cell_type": "markdown",
   "metadata": {},
   "source": [
    "# State([ 1/np.sqrt(2), 1/np.sqrt(6), 1/np.sqrt(6), 1/np.sqrt(6) ]) , 反復回数100回"
   ]
  },
  {
   "cell_type": "code",
   "execution_count": 71,
   "metadata": {
    "tags": [
     "outputPrepend"
    ]
   },
   "outputs": [
    {
     "output_type": "stream",
     "name": "stdout",
     "text": "ay([0.78797, 0.21203])), (100000, array([0.78797, 0.21203])), (100000, array([0.78797, 0.21203]))]], 'obj_sequence': [<quara.objects.state.State object at 0x000001E13065EE48>, <quara.objects.state.State object at 0x000001E13065EEF0>, <quara.objects.state.State object at 0x000001E13065E9E8>, <quara.objects.state.State object at 0x000001E13065ECC0>]}\n{'iteration': 72, 'empi_dists_seq': [[(100, array([0.86, 0.14])), (100, array([0.86, 0.14])), (100, array([0.86, 0.14]))], [(1000, array([0.789, 0.211])), (1000, array([0.789, 0.211])), (1000, array([0.789, 0.211]))], [(10000, array([0.7884, 0.2116])), (10000, array([0.7884, 0.2116])), (10000, array([0.7884, 0.2116]))], [(100000, array([0.78689, 0.21311])), (100000, array([0.78689, 0.21311])), (100000, array([0.78689, 0.21311]))]], 'obj_sequence': [<quara.objects.state.State object at 0x000001E133055048>, <quara.objects.state.State object at 0x000001E131C60D68>, <quara.objects.state.State object at 0x000001E131C60320>, <quara.objects.state.State object at 0x000001E131C600B8>]}\n{'iteration': 73, 'empi_dists_seq': [[(100, array([0.79, 0.21])), (100, array([0.79, 0.21])), (100, array([0.79, 0.21]))], [(1000, array([0.782, 0.218])), (1000, array([0.782, 0.218])), (1000, array([0.782, 0.218]))], [(10000, array([0.7817, 0.2183])), (10000, array([0.7817, 0.2183])), (10000, array([0.7817, 0.2183]))], [(100000, array([0.78785, 0.21215])), (100000, array([0.78785, 0.21215])), (100000, array([0.78785, 0.21215]))]], 'obj_sequence': [<quara.objects.state.State object at 0x000001E131C60080>, <quara.objects.state.State object at 0x000001E131C60358>, <quara.objects.state.State object at 0x000001E131C60DD8>, <quara.objects.state.State object at 0x000001E131C60BA8>]}\n{'iteration': 74, 'empi_dists_seq': [[(100, array([0.85, 0.15])), (100, array([0.85, 0.15])), (100, array([0.85, 0.15]))], [(1000, array([0.785, 0.215])), (1000, array([0.785, 0.215])), (1000, array([0.785, 0.215]))], [(10000, array([0.7807, 0.2193])), (10000, array([0.7807, 0.2193])), (10000, array([0.7807, 0.2193]))], [(100000, array([0.78726, 0.21274])), (100000, array([0.78726, 0.21274])), (100000, array([0.78726, 0.21274]))]], 'obj_sequence': [<quara.objects.state.State object at 0x000001E131C60CC0>, <quara.objects.state.State object at 0x000001E131C606D8>, <quara.objects.state.State object at 0x000001E131C60CF8>, <quara.objects.state.State object at 0x000001E131C60B00>]}\n{'iteration': 75, 'empi_dists_seq': [[(100, array([0.79, 0.21])), (100, array([0.79, 0.21])), (100, array([0.79, 0.21]))], [(1000, array([0.79, 0.21])), (1000, array([0.79, 0.21])), (1000, array([0.79, 0.21]))], [(10000, array([0.7872, 0.2128])), (10000, array([0.7872, 0.2128])), (10000, array([0.7872, 0.2128]))], [(100000, array([0.78694, 0.21306])), (100000, array([0.78694, 0.21306])), (100000, array([0.78694, 0.21306]))]], 'obj_sequence': [<quara.objects.state.State object at 0x000001E131C60748>, <quara.objects.state.State object at 0x000001E131C608D0>, <quara.objects.state.State object at 0x000001E131C60BE0>, <quara.objects.state.State object at 0x000001E131C60C50>]}\n{'iteration': 76, 'empi_dists_seq': [[(100, array([0.73, 0.27])), (100, array([0.73, 0.27])), (100, array([0.73, 0.27]))], [(1000, array([0.794, 0.206])), (1000, array([0.794, 0.206])), (1000, array([0.794, 0.206]))], [(10000, array([0.7924, 0.2076])), (10000, array([0.7924, 0.2076])), (10000, array([0.7924, 0.2076]))], [(100000, array([0.78906, 0.21094])), (100000, array([0.78906, 0.21094])), (100000, array([0.78906, 0.21094]))]], 'obj_sequence': [<quara.objects.state.State object at 0x000001E131C60828>, <quara.objects.state.State object at 0x000001E131C60DA0>, <quara.objects.state.State object at 0x000001E131C60C88>, <quara.objects.state.State object at 0x000001E131C60D30>]}\n{'iteration': 77, 'empi_dists_seq': [[(100, array([0.81, 0.19])), (100, array([0.81, 0.19])), (100, array([0.81, 0.19]))], [(1000, array([0.812, 0.188])), (1000, array([0.812, 0.188])), (1000, array([0.812, 0.188]))], [(10000, array([0.7946, 0.2054])), (10000, array([0.7946, 0.2054])), (10000, array([0.7946, 0.2054]))], [(100000, array([0.79149, 0.20851])), (100000, array([0.79149, 0.20851])), (100000, array([0.79149, 0.20851]))]], 'obj_sequence': [<quara.objects.state.State object at 0x000001E131C60668>, <quara.objects.state.State object at 0x000001E131C60F98>, <quara.objects.state.State object at 0x000001E131C60E80>, <quara.objects.state.State object at 0x000001E131C60F60>]}\n{'iteration': 78, 'empi_dists_seq': [[(100, array([0.79, 0.21])), (100, array([0.79, 0.21])), (100, array([0.79, 0.21]))], [(1000, array([0.8, 0.2])), (1000, array([0.8, 0.2])), (1000, array([0.8, 0.2]))], [(10000, array([0.7933, 0.2067])), (10000, array([0.7933, 0.2067])), (10000, array([0.7933, 0.2067]))], [(100000, array([0.78917, 0.21083])), (100000, array([0.78917, 0.21083])), (100000, array([0.78917, 0.21083]))]], 'obj_sequence': [<quara.objects.state.State object at 0x000001E131C605F8>, <quara.objects.state.State object at 0x000001E131C60FD0>, <quara.objects.state.State object at 0x000001E131C60898>, <quara.objects.state.State object at 0x000001E131C60E48>]}\n{'iteration': 79, 'empi_dists_seq': [[(100, array([0.78, 0.22])), (100, array([0.78, 0.22])), (100, array([0.78, 0.22]))], [(1000, array([0.801, 0.199])), (1000, array([0.801, 0.199])), (1000, array([0.801, 0.199]))], [(10000, array([0.7831, 0.2169])), (10000, array([0.7831, 0.2169])), (10000, array([0.7831, 0.2169]))], [(100000, array([0.78942, 0.21058])), (100000, array([0.78942, 0.21058])), (100000, array([0.78942, 0.21058]))]], 'obj_sequence': [<quara.objects.state.State object at 0x000001E131C60F28>, <quara.objects.state.State object at 0x000001E131C60EF0>, <quara.objects.state.State object at 0x000001E131C60128>, <quara.objects.state.State object at 0x000001E131C609B0>]}\n{'iteration': 80, 'empi_dists_seq': [[(100, array([0.74, 0.26])), (100, array([0.74, 0.26])), (100, array([0.74, 0.26]))], [(1000, array([0.763, 0.237])), (1000, array([0.763, 0.237])), (1000, array([0.763, 0.237]))], [(10000, array([0.791, 0.209])), (10000, array([0.791, 0.209])), (10000, array([0.791, 0.209]))], [(100000, array([0.78943, 0.21057])), (100000, array([0.78943, 0.21057])), (100000, array([0.78943, 0.21057]))]], 'obj_sequence': [<quara.objects.state.State object at 0x000001E131C60B38>, <quara.objects.state.State object at 0x000001E131C602B0>, <quara.objects.state.State object at 0x000001E131C600F0>, <quara.objects.state.State object at 0x000001E131C60278>]}\n{'iteration': 81, 'empi_dists_seq': [[(100, array([0.83, 0.17])), (100, array([0.83, 0.17])), (100, array([0.83, 0.17]))], [(1000, array([0.816, 0.184])), (1000, array([0.816, 0.184])), (1000, array([0.816, 0.184]))], [(10000, array([0.7927, 0.2073])), (10000, array([0.7927, 0.2073])), (10000, array([0.7927, 0.2073]))], [(100000, array([0.78992, 0.21008])), (100000, array([0.78992, 0.21008])), (100000, array([0.78992, 0.21008]))]], 'obj_sequence': [<quara.objects.state.State object at 0x000001E131C60198>, <quara.objects.state.State object at 0x000001E131C60390>, <quara.objects.state.State object at 0x000001E131C604E0>, <quara.objects.state.State object at 0x000001E131C60400>]}\n{'iteration': 82, 'empi_dists_seq': [[(100, array([0.78, 0.22])), (100, array([0.78, 0.22])), (100, array([0.78, 0.22]))], [(1000, array([0.807, 0.193])), (1000, array([0.807, 0.193])), (1000, array([0.807, 0.193]))], [(10000, array([0.7935, 0.2065])), (10000, array([0.7935, 0.2065])), (10000, array([0.7935, 0.2065]))], [(100000, array([0.79053, 0.20947])), (100000, array([0.79053, 0.20947])), (100000, array([0.79053, 0.20947]))]], 'obj_sequence': [<quara.objects.state.State object at 0x000001E131C602E8>, <quara.objects.state.State object at 0x000001E131C60710>, <quara.objects.state.State object at 0x000001E131C60438>, <quara.objects.state.State object at 0x000001E131C60630>]}\n{'iteration': 83, 'empi_dists_seq': [[(100, array([0.79, 0.21])), (100, array([0.79, 0.21])), (100, array([0.79, 0.21]))], [(1000, array([0.787, 0.213])), (1000, array([0.787, 0.213])), (1000, array([0.787, 0.213]))], [(10000, array([0.79, 0.21])), (10000, array([0.79, 0.21])), (10000, array([0.79, 0.21]))], [(100000, array([0.79008, 0.20992])), (100000, array([0.79008, 0.20992])), (100000, array([0.79008, 0.20992]))]], 'obj_sequence': [<quara.objects.state.State object at 0x000001E131C60550>, <quara.objects.state.State object at 0x000001E131C607F0>, <quara.objects.state.State object at 0x000001E131C609E8>, <quara.objects.state.State object at 0x000001E131C60940>]}\n{'iteration': 84, 'empi_dists_seq': [[(100, array([0.81, 0.19])), (100, array([0.81, 0.19])), (100, array([0.81, 0.19]))], [(1000, array([0.792, 0.208])), (1000, array([0.792, 0.208])), (1000, array([0.792, 0.208]))], [(10000, array([0.7894, 0.2106])), (10000, array([0.7894, 0.2106])), (10000, array([0.7894, 0.2106]))], [(100000, array([0.78861, 0.21139])), (100000, array([0.78861, 0.21139])), (100000, array([0.78861, 0.21139]))]], 'obj_sequence': [<quara.objects.state.State object at 0x000001E131C603C8>, <quara.objects.state.State object at 0x000001E131C60C18>, <quara.objects.state.State object at 0x000001E131C60978>, <quara.objects.state.State object at 0x000001E131C60AC8>]}\n{'iteration': 85, 'empi_dists_seq': [[(100, array([0.8, 0.2])), (100, array([0.8, 0.2])), (100, array([0.8, 0.2]))], [(1000, array([0.792, 0.208])), (1000, array([0.792, 0.208])), (1000, array([0.792, 0.208]))], [(10000, array([0.7925, 0.2075])), (10000, array([0.7925, 0.2075])), (10000, array([0.7925, 0.2075]))], [(100000, array([0.78883, 0.21117])), (100000, array([0.78883, 0.21117])), (100000, array([0.78883, 0.21117]))]], 'obj_sequence': [<quara.objects.state.State object at 0x000001E131C60240>, <quara.objects.state.State object at 0x000001E131C60A90>, <quara.objects.state.State object at 0x000001E131C60A20>, <quara.objects.state.State object at 0x000001E131C60EB8>]}\n{'iteration': 86, 'empi_dists_seq': [[(100, array([0.81, 0.19])), (100, array([0.81, 0.19])), (100, array([0.81, 0.19]))], [(1000, array([0.796, 0.204])), (1000, array([0.796, 0.204])), (1000, array([0.796, 0.204]))], [(10000, array([0.7966, 0.2034])), (10000, array([0.7966, 0.2034])), (10000, array([0.7966, 0.2034]))], [(100000, array([0.79283, 0.20717])), (100000, array([0.79283, 0.20717])), (100000, array([0.79283, 0.20717]))]], 'obj_sequence': [<quara.objects.state.State object at 0x000001E131C60E10>, <quara.objects.state.State object at 0x000001E131C60908>, <quara.objects.state.State object at 0x000001E131B60208>, <quara.objects.state.State object at 0x000001E131B60320>]}\n{'iteration': 87, 'empi_dists_seq': [[(100, array([0.78, 0.22])), (100, array([0.78, 0.22])), (100, array([0.78, 0.22]))], [(1000, array([0.795, 0.205])), (1000, array([0.795, 0.205])), (1000, array([0.795, 0.205]))], [(10000, array([0.7916, 0.2084])), (10000, array([0.7916, 0.2084])), (10000, array([0.7916, 0.2084]))], [(100000, array([0.79082, 0.20918])), (100000, array([0.79082, 0.20918])), (100000, array([0.79082, 0.20918]))]], 'obj_sequence': [<quara.objects.state.State object at 0x000001E131B60160>, <quara.objects.state.State object at 0x000001E131B60668>, <quara.objects.state.State object at 0x000001E131B60B38>, <quara.objects.state.State object at 0x000001E131B60780>]}\n{'iteration': 88, 'empi_dists_seq': [[(100, array([0.77, 0.23])), (100, array([0.77, 0.23])), (100, array([0.77, 0.23]))], [(1000, array([0.778, 0.222])), (1000, array([0.778, 0.222])), (1000, array([0.778, 0.222]))], [(10000, array([0.7896, 0.2104])), (10000, array([0.7896, 0.2104])), (10000, array([0.7896, 0.2104]))], [(100000, array([0.78844, 0.21156])), (100000, array([0.78844, 0.21156])), (100000, array([0.78844, 0.21156]))]], 'obj_sequence': [<quara.objects.state.State object at 0x000001E131B60080>, <quara.objects.state.State object at 0x000001E131B60828>, <quara.objects.state.State object at 0x000001E131B60D30>, <quara.objects.state.State object at 0x000001E131B60C88>]}\n{'iteration': 89, 'empi_dists_seq': [[(100, array([0.82, 0.18])), (100, array([0.82, 0.18])), (100, array([0.82, 0.18]))], [(1000, array([0.77, 0.23])), (1000, array([0.77, 0.23])), (1000, array([0.77, 0.23]))], [(10000, array([0.7876, 0.2124])), (10000, array([0.7876, 0.2124])), (10000, array([0.7876, 0.2124]))], [(100000, array([0.78697, 0.21303])), (100000, array([0.78697, 0.21303])), (100000, array([0.78697, 0.21303]))]], 'obj_sequence': [<quara.objects.state.State object at 0x000001E131B60C50>, <quara.objects.state.State object at 0x000001E131B60CF8>, <quara.objects.state.State object at 0x000001E131B60E48>, <quara.objects.state.State object at 0x000001E131B60DA0>]}\n{'iteration': 90, 'empi_dists_seq': [[(100, array([0.75, 0.25])), (100, array([0.75, 0.25])), (100, array([0.75, 0.25]))], [(1000, array([0.797, 0.203])), (1000, array([0.797, 0.203])), (1000, array([0.797, 0.203]))], [(10000, array([0.7874, 0.2126])), (10000, array([0.7874, 0.2126])), (10000, array([0.7874, 0.2126]))], [(100000, array([0.78863, 0.21137])), (100000, array([0.78863, 0.21137])), (100000, array([0.78863, 0.21137]))]], 'obj_sequence': [<quara.objects.state.State object at 0x000001E131B60748>, <quara.objects.state.State object at 0x000001E131B60DD8>, <quara.objects.state.State object at 0x000001E131B60F60>, <quara.objects.state.State object at 0x000001E131B60EF0>]}\n{'iteration': 91, 'empi_dists_seq': [[(100, array([0.81, 0.19])), (100, array([0.81, 0.19])), (100, array([0.81, 0.19]))], [(1000, array([0.788, 0.212])), (1000, array([0.788, 0.212])), (1000, array([0.788, 0.212]))], [(10000, array([0.7801, 0.2199])), (10000, array([0.7801, 0.2199])), (10000, array([0.7801, 0.2199]))], [(100000, array([0.78854, 0.21146])), (100000, array([0.78854, 0.21146])), (100000, array([0.78854, 0.21146]))]], 'obj_sequence': [<quara.objects.state.State object at 0x000001E131B60F28>, <quara.objects.state.State object at 0x000001E131B60E80>, <quara.objects.state.State object at 0x000001E131B60FD0>, <quara.objects.state.State object at 0x000001E131B60240>]}\n{'iteration': 92, 'empi_dists_seq': [[(100, array([0.75, 0.25])), (100, array([0.75, 0.25])), (100, array([0.75, 0.25]))], [(1000, array([0.779, 0.221])), (1000, array([0.779, 0.221])), (1000, array([0.779, 0.221]))], [(10000, array([0.7927, 0.2073])), (10000, array([0.7927, 0.2073])), (10000, array([0.7927, 0.2073]))], [(100000, array([0.78798, 0.21202])), (100000, array([0.78798, 0.21202])), (100000, array([0.78798, 0.21202]))]], 'obj_sequence': [<quara.objects.state.State object at 0x000001E131B60F98>, <quara.objects.state.State object at 0x000001E131B60D68>, <quara.objects.state.State object at 0x000001E131B600B8>, <quara.objects.state.State object at 0x000001E132FED278>]}\n{'iteration': 93, 'empi_dists_seq': [[(100, array([0.83, 0.17])), (100, array([0.83, 0.17])), (100, array([0.83, 0.17]))], [(1000, array([0.798, 0.202])), (1000, array([0.798, 0.202])), (1000, array([0.798, 0.202]))], [(10000, array([0.7903, 0.2097])), (10000, array([0.7903, 0.2097])), (10000, array([0.7903, 0.2097]))], [(100000, array([0.78951, 0.21049])), (100000, array([0.78951, 0.21049])), (100000, array([0.78951, 0.21049]))]], 'obj_sequence': [<quara.objects.state.State object at 0x000001E132FED048>, <quara.objects.state.State object at 0x000001E132FEDF28>, <quara.objects.state.State object at 0x000001E132FED0F0>, <quara.objects.state.State object at 0x000001E132FED6D8>]}\n{'iteration': 94, 'empi_dists_seq': [[(100, array([0.87, 0.13])), (100, array([0.87, 0.13])), (100, array([0.87, 0.13]))], [(1000, array([0.793, 0.207])), (1000, array([0.793, 0.207])), (1000, array([0.793, 0.207]))], [(10000, array([0.7917, 0.2083])), (10000, array([0.7917, 0.2083])), (10000, array([0.7917, 0.2083]))], [(100000, array([0.78835, 0.21165])), (100000, array([0.78835, 0.21165])), (100000, array([0.78835, 0.21165]))]], 'obj_sequence': [<quara.objects.state.State object at 0x000001E132FED128>, <quara.objects.state.State object at 0x000001E132FEDC88>, <quara.objects.state.State object at 0x000001E132FED358>, <quara.objects.state.State object at 0x000001E132FED9E8>]}\n{'iteration': 95, 'empi_dists_seq': [[(100, array([0.74, 0.26])), (100, array([0.74, 0.26])), (100, array([0.74, 0.26]))], [(1000, array([0.801, 0.199])), (1000, array([0.801, 0.199])), (1000, array([0.801, 0.199]))], [(10000, array([0.7912, 0.2088])), (10000, array([0.7912, 0.2088])), (10000, array([0.7912, 0.2088]))], [(100000, array([0.78826, 0.21174])), (100000, array([0.78826, 0.21174])), (100000, array([0.78826, 0.21174]))]], 'obj_sequence': [<quara.objects.state.State object at 0x000001E131B5BEF0>, <quara.objects.state.State object at 0x000001E131D61160>, <quara.objects.state.State object at 0x000001E131D61588>, <quara.objects.state.State object at 0x000001E131D61940>]}\n{'iteration': 96, 'empi_dists_seq': [[(100, array([0.76, 0.24])), (100, array([0.76, 0.24])), (100, array([0.76, 0.24]))], [(1000, array([0.782, 0.218])), (1000, array([0.782, 0.218])), (1000, array([0.782, 0.218]))], [(10000, array([0.7901, 0.2099])), (10000, array([0.7901, 0.2099])), (10000, array([0.7901, 0.2099]))], [(100000, array([0.7905, 0.2095])), (100000, array([0.7905, 0.2095])), (100000, array([0.7905, 0.2095]))]], 'obj_sequence': [<quara.objects.state.State object at 0x000001E131D61198>, <quara.objects.state.State object at 0x000001E131D61F28>, <quara.objects.state.State object at 0x000001E131D617B8>, <quara.objects.state.State object at 0x000001E131D61320>]}\n{'iteration': 97, 'empi_dists_seq': [[(100, array([0.78, 0.22])), (100, array([0.78, 0.22])), (100, array([0.78, 0.22]))], [(1000, array([0.783, 0.217])), (1000, array([0.783, 0.217])), (1000, array([0.783, 0.217]))], [(10000, array([0.7837, 0.2163])), (10000, array([0.7837, 0.2163])), (10000, array([0.7837, 0.2163]))], [(100000, array([0.78806, 0.21194])), (100000, array([0.78806, 0.21194])), (100000, array([0.78806, 0.21194]))]], 'obj_sequence': [<quara.objects.state.State object at 0x000001E131D61128>, <quara.objects.state.State object at 0x000001E131D61978>, <quara.objects.state.State object at 0x000001E131D61A90>, <quara.objects.state.State object at 0x000001E131D61BA8>]}\n{'iteration': 98, 'empi_dists_seq': [[(100, array([0.83, 0.17])), (100, array([0.83, 0.17])), (100, array([0.83, 0.17]))], [(1000, array([0.804, 0.196])), (1000, array([0.804, 0.196])), (1000, array([0.804, 0.196]))], [(10000, array([0.7924, 0.2076])), (10000, array([0.7924, 0.2076])), (10000, array([0.7924, 0.2076]))], [(100000, array([0.78764, 0.21236])), (100000, array([0.78764, 0.21236])), (100000, array([0.78764, 0.21236]))]], 'obj_sequence': [<quara.objects.state.State object at 0x000001E132FED4A8>, <quara.objects.state.State object at 0x000001E131D61470>, <quara.objects.state.State object at 0x000001E131D61780>, <quara.objects.state.State object at 0x000001E131D610B8>]}\n{'iteration': 99, 'empi_dists_seq': [[(100, array([0.76, 0.24])), (100, array([0.76, 0.24])), (100, array([0.76, 0.24]))], [(1000, array([0.76, 0.24])), (1000, array([0.76, 0.24])), (1000, array([0.76, 0.24]))], [(10000, array([0.7876, 0.2124])), (10000, array([0.7876, 0.2124])), (10000, array([0.7876, 0.2124]))], [(100000, array([0.78902, 0.21098])), (100000, array([0.78902, 0.21098])), (100000, array([0.78902, 0.21098]))]], 'obj_sequence': [<quara.objects.state.State object at 0x000001E131D61710>, <quara.objects.state.State object at 0x000001E131D61208>, <quara.objects.state.State object at 0x000001E131D61CC0>, <quara.objects.state.State object at 0x000001E131D611D0>]}\ntime(s)=87.58277297019958\nparam=affine, est=linear: [0.009808793049821072, 0.000998865883239181, 0.00011289878144166402, 9.99157433642689e-06]\nparam=affine, est=proj  : [0.0037198670102283637, 0.00038518391491347727, 5.520930649354862e-05, 5.2654284573857005e-06]\nparam=linear, est=linear: [0.009808793049821072, 0.0009988658832391802, 0.00011289878144166402, 9.991574336426816e-06]\nparam=linear, est=proj  : [0.003719867010228377, 0.0003851839149134785, 5.520930649354948e-05, 5.265428457385923e-06]\n"
    },
    {
     "output_type": "display_data",
     "data": {
      "application/vnd.plotly.v1+json": {
       "config": {
        "plotlyServerURL": "https://plot.ly"
       },
       "data": [
        {
         "mode": "lines+markers",
         "name": "param=affine, est=linear",
         "type": "scatter",
         "x": [
          100,
          1000,
          10000,
          100000
         ],
         "y": [
          0.009808793049821072,
          0.000998865883239181,
          0.00011289878144166402,
          0.00000999157433642689
         ]
        },
        {
         "mode": "lines+markers",
         "name": "param=affine, est=proj",
         "type": "scatter",
         "x": [
          100,
          1000,
          10000,
          100000
         ],
         "y": [
          0.0037198670102283637,
          0.00038518391491347727,
          0.00005520930649354862,
          0.0000052654284573857005
         ]
        },
        {
         "mode": "lines+markers",
         "name": "param=linear, est=linear",
         "type": "scatter",
         "x": [
          100,
          1000,
          10000,
          100000
         ],
         "y": [
          0.009808793049821072,
          0.0009988658832391802,
          0.00011289878144166402,
          0.000009991574336426816
         ]
        },
        {
         "mode": "lines+markers",
         "name": "param=linear, est=proj",
         "type": "scatter",
         "x": [
          100,
          1000,
          10000,
          100000
         ],
         "y": [
          0.003719867010228377,
          0.0003851839149134785,
          0.00005520930649354948,
          0.000005265428457385923
         ]
        }
       ],
       "layout": {
        "template": {
         "data": {
          "bar": [
           {
            "error_x": {
             "color": "#2a3f5f"
            },
            "error_y": {
             "color": "#2a3f5f"
            },
            "marker": {
             "line": {
              "color": "#E5ECF6",
              "width": 0.5
             }
            },
            "type": "bar"
           }
          ],
          "barpolar": [
           {
            "marker": {
             "line": {
              "color": "#E5ECF6",
              "width": 0.5
             }
            },
            "type": "barpolar"
           }
          ],
          "carpet": [
           {
            "aaxis": {
             "endlinecolor": "#2a3f5f",
             "gridcolor": "white",
             "linecolor": "white",
             "minorgridcolor": "white",
             "startlinecolor": "#2a3f5f"
            },
            "baxis": {
             "endlinecolor": "#2a3f5f",
             "gridcolor": "white",
             "linecolor": "white",
             "minorgridcolor": "white",
             "startlinecolor": "#2a3f5f"
            },
            "type": "carpet"
           }
          ],
          "choropleth": [
           {
            "colorbar": {
             "outlinewidth": 0,
             "ticks": ""
            },
            "type": "choropleth"
           }
          ],
          "contour": [
           {
            "colorbar": {
             "outlinewidth": 0,
             "ticks": ""
            },
            "colorscale": [
             [
              0,
              "#0d0887"
             ],
             [
              0.1111111111111111,
              "#46039f"
             ],
             [
              0.2222222222222222,
              "#7201a8"
             ],
             [
              0.3333333333333333,
              "#9c179e"
             ],
             [
              0.4444444444444444,
              "#bd3786"
             ],
             [
              0.5555555555555556,
              "#d8576b"
             ],
             [
              0.6666666666666666,
              "#ed7953"
             ],
             [
              0.7777777777777778,
              "#fb9f3a"
             ],
             [
              0.8888888888888888,
              "#fdca26"
             ],
             [
              1,
              "#f0f921"
             ]
            ],
            "type": "contour"
           }
          ],
          "contourcarpet": [
           {
            "colorbar": {
             "outlinewidth": 0,
             "ticks": ""
            },
            "type": "contourcarpet"
           }
          ],
          "heatmap": [
           {
            "colorbar": {
             "outlinewidth": 0,
             "ticks": ""
            },
            "colorscale": [
             [
              0,
              "#0d0887"
             ],
             [
              0.1111111111111111,
              "#46039f"
             ],
             [
              0.2222222222222222,
              "#7201a8"
             ],
             [
              0.3333333333333333,
              "#9c179e"
             ],
             [
              0.4444444444444444,
              "#bd3786"
             ],
             [
              0.5555555555555556,
              "#d8576b"
             ],
             [
              0.6666666666666666,
              "#ed7953"
             ],
             [
              0.7777777777777778,
              "#fb9f3a"
             ],
             [
              0.8888888888888888,
              "#fdca26"
             ],
             [
              1,
              "#f0f921"
             ]
            ],
            "type": "heatmap"
           }
          ],
          "heatmapgl": [
           {
            "colorbar": {
             "outlinewidth": 0,
             "ticks": ""
            },
            "colorscale": [
             [
              0,
              "#0d0887"
             ],
             [
              0.1111111111111111,
              "#46039f"
             ],
             [
              0.2222222222222222,
              "#7201a8"
             ],
             [
              0.3333333333333333,
              "#9c179e"
             ],
             [
              0.4444444444444444,
              "#bd3786"
             ],
             [
              0.5555555555555556,
              "#d8576b"
             ],
             [
              0.6666666666666666,
              "#ed7953"
             ],
             [
              0.7777777777777778,
              "#fb9f3a"
             ],
             [
              0.8888888888888888,
              "#fdca26"
             ],
             [
              1,
              "#f0f921"
             ]
            ],
            "type": "heatmapgl"
           }
          ],
          "histogram": [
           {
            "marker": {
             "colorbar": {
              "outlinewidth": 0,
              "ticks": ""
             }
            },
            "type": "histogram"
           }
          ],
          "histogram2d": [
           {
            "colorbar": {
             "outlinewidth": 0,
             "ticks": ""
            },
            "colorscale": [
             [
              0,
              "#0d0887"
             ],
             [
              0.1111111111111111,
              "#46039f"
             ],
             [
              0.2222222222222222,
              "#7201a8"
             ],
             [
              0.3333333333333333,
              "#9c179e"
             ],
             [
              0.4444444444444444,
              "#bd3786"
             ],
             [
              0.5555555555555556,
              "#d8576b"
             ],
             [
              0.6666666666666666,
              "#ed7953"
             ],
             [
              0.7777777777777778,
              "#fb9f3a"
             ],
             [
              0.8888888888888888,
              "#fdca26"
             ],
             [
              1,
              "#f0f921"
             ]
            ],
            "type": "histogram2d"
           }
          ],
          "histogram2dcontour": [
           {
            "colorbar": {
             "outlinewidth": 0,
             "ticks": ""
            },
            "colorscale": [
             [
              0,
              "#0d0887"
             ],
             [
              0.1111111111111111,
              "#46039f"
             ],
             [
              0.2222222222222222,
              "#7201a8"
             ],
             [
              0.3333333333333333,
              "#9c179e"
             ],
             [
              0.4444444444444444,
              "#bd3786"
             ],
             [
              0.5555555555555556,
              "#d8576b"
             ],
             [
              0.6666666666666666,
              "#ed7953"
             ],
             [
              0.7777777777777778,
              "#fb9f3a"
             ],
             [
              0.8888888888888888,
              "#fdca26"
             ],
             [
              1,
              "#f0f921"
             ]
            ],
            "type": "histogram2dcontour"
           }
          ],
          "mesh3d": [
           {
            "colorbar": {
             "outlinewidth": 0,
             "ticks": ""
            },
            "type": "mesh3d"
           }
          ],
          "parcoords": [
           {
            "line": {
             "colorbar": {
              "outlinewidth": 0,
              "ticks": ""
             }
            },
            "type": "parcoords"
           }
          ],
          "pie": [
           {
            "automargin": true,
            "type": "pie"
           }
          ],
          "scatter": [
           {
            "marker": {
             "colorbar": {
              "outlinewidth": 0,
              "ticks": ""
             }
            },
            "type": "scatter"
           }
          ],
          "scatter3d": [
           {
            "line": {
             "colorbar": {
              "outlinewidth": 0,
              "ticks": ""
             }
            },
            "marker": {
             "colorbar": {
              "outlinewidth": 0,
              "ticks": ""
             }
            },
            "type": "scatter3d"
           }
          ],
          "scattercarpet": [
           {
            "marker": {
             "colorbar": {
              "outlinewidth": 0,
              "ticks": ""
             }
            },
            "type": "scattercarpet"
           }
          ],
          "scattergeo": [
           {
            "marker": {
             "colorbar": {
              "outlinewidth": 0,
              "ticks": ""
             }
            },
            "type": "scattergeo"
           }
          ],
          "scattergl": [
           {
            "marker": {
             "colorbar": {
              "outlinewidth": 0,
              "ticks": ""
             }
            },
            "type": "scattergl"
           }
          ],
          "scattermapbox": [
           {
            "marker": {
             "colorbar": {
              "outlinewidth": 0,
              "ticks": ""
             }
            },
            "type": "scattermapbox"
           }
          ],
          "scatterpolar": [
           {
            "marker": {
             "colorbar": {
              "outlinewidth": 0,
              "ticks": ""
             }
            },
            "type": "scatterpolar"
           }
          ],
          "scatterpolargl": [
           {
            "marker": {
             "colorbar": {
              "outlinewidth": 0,
              "ticks": ""
             }
            },
            "type": "scatterpolargl"
           }
          ],
          "scatterternary": [
           {
            "marker": {
             "colorbar": {
              "outlinewidth": 0,
              "ticks": ""
             }
            },
            "type": "scatterternary"
           }
          ],
          "surface": [
           {
            "colorbar": {
             "outlinewidth": 0,
             "ticks": ""
            },
            "colorscale": [
             [
              0,
              "#0d0887"
             ],
             [
              0.1111111111111111,
              "#46039f"
             ],
             [
              0.2222222222222222,
              "#7201a8"
             ],
             [
              0.3333333333333333,
              "#9c179e"
             ],
             [
              0.4444444444444444,
              "#bd3786"
             ],
             [
              0.5555555555555556,
              "#d8576b"
             ],
             [
              0.6666666666666666,
              "#ed7953"
             ],
             [
              0.7777777777777778,
              "#fb9f3a"
             ],
             [
              0.8888888888888888,
              "#fdca26"
             ],
             [
              1,
              "#f0f921"
             ]
            ],
            "type": "surface"
           }
          ],
          "table": [
           {
            "cells": {
             "fill": {
              "color": "#EBF0F8"
             },
             "line": {
              "color": "white"
             }
            },
            "header": {
             "fill": {
              "color": "#C8D4E3"
             },
             "line": {
              "color": "white"
             }
            },
            "type": "table"
           }
          ]
         },
         "layout": {
          "annotationdefaults": {
           "arrowcolor": "#2a3f5f",
           "arrowhead": 0,
           "arrowwidth": 1
          },
          "coloraxis": {
           "colorbar": {
            "outlinewidth": 0,
            "ticks": ""
           }
          },
          "colorscale": {
           "diverging": [
            [
             0,
             "#8e0152"
            ],
            [
             0.1,
             "#c51b7d"
            ],
            [
             0.2,
             "#de77ae"
            ],
            [
             0.3,
             "#f1b6da"
            ],
            [
             0.4,
             "#fde0ef"
            ],
            [
             0.5,
             "#f7f7f7"
            ],
            [
             0.6,
             "#e6f5d0"
            ],
            [
             0.7,
             "#b8e186"
            ],
            [
             0.8,
             "#7fbc41"
            ],
            [
             0.9,
             "#4d9221"
            ],
            [
             1,
             "#276419"
            ]
           ],
           "sequential": [
            [
             0,
             "#0d0887"
            ],
            [
             0.1111111111111111,
             "#46039f"
            ],
            [
             0.2222222222222222,
             "#7201a8"
            ],
            [
             0.3333333333333333,
             "#9c179e"
            ],
            [
             0.4444444444444444,
             "#bd3786"
            ],
            [
             0.5555555555555556,
             "#d8576b"
            ],
            [
             0.6666666666666666,
             "#ed7953"
            ],
            [
             0.7777777777777778,
             "#fb9f3a"
            ],
            [
             0.8888888888888888,
             "#fdca26"
            ],
            [
             1,
             "#f0f921"
            ]
           ],
           "sequentialminus": [
            [
             0,
             "#0d0887"
            ],
            [
             0.1111111111111111,
             "#46039f"
            ],
            [
             0.2222222222222222,
             "#7201a8"
            ],
            [
             0.3333333333333333,
             "#9c179e"
            ],
            [
             0.4444444444444444,
             "#bd3786"
            ],
            [
             0.5555555555555556,
             "#d8576b"
            ],
            [
             0.6666666666666666,
             "#ed7953"
            ],
            [
             0.7777777777777778,
             "#fb9f3a"
            ],
            [
             0.8888888888888888,
             "#fdca26"
            ],
            [
             1,
             "#f0f921"
            ]
           ]
          },
          "colorway": [
           "#636efa",
           "#EF553B",
           "#00cc96",
           "#ab63fa",
           "#FFA15A",
           "#19d3f3",
           "#FF6692",
           "#B6E880",
           "#FF97FF",
           "#FECB52"
          ],
          "font": {
           "color": "#2a3f5f"
          },
          "geo": {
           "bgcolor": "white",
           "lakecolor": "white",
           "landcolor": "#E5ECF6",
           "showlakes": true,
           "showland": true,
           "subunitcolor": "white"
          },
          "hoverlabel": {
           "align": "left"
          },
          "hovermode": "closest",
          "mapbox": {
           "style": "light"
          },
          "paper_bgcolor": "white",
          "plot_bgcolor": "#E5ECF6",
          "polar": {
           "angularaxis": {
            "gridcolor": "white",
            "linecolor": "white",
            "ticks": ""
           },
           "bgcolor": "#E5ECF6",
           "radialaxis": {
            "gridcolor": "white",
            "linecolor": "white",
            "ticks": ""
           }
          },
          "scene": {
           "xaxis": {
            "backgroundcolor": "#E5ECF6",
            "gridcolor": "white",
            "gridwidth": 2,
            "linecolor": "white",
            "showbackground": true,
            "ticks": "",
            "zerolinecolor": "white"
           },
           "yaxis": {
            "backgroundcolor": "#E5ECF6",
            "gridcolor": "white",
            "gridwidth": 2,
            "linecolor": "white",
            "showbackground": true,
            "ticks": "",
            "zerolinecolor": "white"
           },
           "zaxis": {
            "backgroundcolor": "#E5ECF6",
            "gridcolor": "white",
            "gridwidth": 2,
            "linecolor": "white",
            "showbackground": true,
            "ticks": "",
            "zerolinecolor": "white"
           }
          },
          "shapedefaults": {
           "line": {
            "color": "#2a3f5f"
           }
          },
          "ternary": {
           "aaxis": {
            "gridcolor": "white",
            "linecolor": "white",
            "ticks": ""
           },
           "baxis": {
            "gridcolor": "white",
            "linecolor": "white",
            "ticks": ""
           },
           "bgcolor": "#E5ECF6",
           "caxis": {
            "gridcolor": "white",
            "linecolor": "white",
            "ticks": ""
           }
          },
          "title": {
           "x": 0.05
          },
          "xaxis": {
           "automargin": true,
           "gridcolor": "white",
           "linecolor": "white",
           "ticks": "",
           "title": {
            "standoff": 15
           },
           "zerolinecolor": "white",
           "zerolinewidth": 2
          },
          "yaxis": {
           "automargin": true,
           "gridcolor": "white",
           "linecolor": "white",
           "ticks": "",
           "title": {
            "standoff": 15
           },
           "zerolinecolor": "white",
           "zerolinewidth": 2
          }
         }
        },
        "title": {
         "text": "QST"
        },
        "xaxis": {
         "title": {
          "text": "number of data"
         },
         "type": "log"
        },
        "yaxis": {
         "title": {
          "text": "Mean Square Error of estimates and true"
         },
         "type": "log"
        }
       }
      }
     },
     "metadata": {}
    }
   ],
   "source": [
    "vec = np.array([1/np.sqrt(2), 1/np.sqrt(6), 1/np.sqrt(6), 1/np.sqrt(6)],dtype=np.float64)\n",
    "true_object = State(c_sys, vec)\n",
    "num_data = [100, 1000, 10000, 100000]\n",
    "iterations = 100\n",
    "\n",
    "param_affine_est_linear = estimate(\"sqrt6\", true_object, num_data, iterations, on_para_eq_constraint=True)\n",
    "param_linear_est_linear = estimate(\"sqrt6\", true_object, num_data, iterations, on_para_eq_constraint=False)\n",
    "\n",
    "#####\n",
    "# calc mse(param_affine)\n",
    "param_affine_est_linear_tmp = [list(obj_sequence) for obj_sequence in zip(*param_affine_est_linear)]\n",
    "mses_param_affine_est_linear = [\n",
    "    calc_mse(obj_sequence, [true_object] * len(obj_sequence)) for obj_sequence in param_affine_est_linear_tmp\n",
    "]\n",
    "mses_param_affine_est_proj = [\n",
    "    calc_mse_proj(obj_sequence, [true_object] * len(obj_sequence)) for obj_sequence in param_affine_est_linear_tmp\n",
    "]\n",
    "print(f\"param=affine, est=linear: {mses_param_affine_est_linear}\")\n",
    "print(f\"param=affine, est=proj  : {mses_param_affine_est_proj}\")\n",
    "\n",
    "# calc mse(param_linear)\n",
    "param_linear_est_linear_tmp = [list(obj_sequence) for obj_sequence in zip(*param_linear_est_linear)]\n",
    "mses_param_linear_est_linear = [\n",
    "    calc_mse(obj_sequence, [true_object] * len(obj_sequence)) for obj_sequence in param_linear_est_linear_tmp\n",
    "]\n",
    "mses_param_linear_est_proj = [\n",
    "    calc_mse_proj(obj_sequence, [true_object] * len(obj_sequence)) for obj_sequence in param_linear_est_linear_tmp\n",
    "]\n",
    "print(f\"param=linear, est=linear: {mses_param_linear_est_linear}\")\n",
    "print(f\"param=linear, est=proj  : {mses_param_linear_est_proj}\")\n",
    "\n",
    "#####\n",
    "data_param_affine_est_linear = go.Scatter(name='param=affine, est=linear', x=num_data, y=mses_param_affine_est_linear, mode='lines+markers')\n",
    "data_param_affine_est_proj = go.Scatter(name='param=affine, est=proj', x=num_data, y=mses_param_affine_est_proj, mode='lines+markers')\n",
    "data_param_linear_est_linear = go.Scatter(name='param=linear, est=linear', x=num_data, y=mses_param_linear_est_linear, mode='lines+markers')\n",
    "data_param_linear_est_proj = go.Scatter(name='param=linear, est=proj', x=num_data, y=mses_param_linear_est_proj, mode='lines+markers')\n",
    "data = [data_param_affine_est_linear, data_param_affine_est_proj, data_param_linear_est_linear, data_param_linear_est_proj]\n",
    "\n",
    "layout = go.Layout(title='QST', xaxis_title_text=\"number of data\", yaxis_title_text=\"Mean Square Error of estimates and true\", xaxis_type=\"log\", yaxis_type=\"log\")\n",
    "fig = go.Figure(data=data, layout=layout)\n",
    "fig.show()"
   ]
  },
  {
   "cell_type": "markdown",
   "metadata": {},
   "source": [
    "# State([ 1/np.sqrt(2), 0.99/np.sqrt(6), 0.99/np.sqrt(6), 0.99/np.sqrt(6) ]), 反復回数100回\n"
   ]
  },
  {
   "cell_type": "code",
   "execution_count": 72,
   "metadata": {
    "tags": [
     "outputPrepend"
    ]
   },
   "outputs": [
    {
     "output_type": "stream",
     "name": "stdout",
     "text": "[0.781, 0.219]))], [(100000, array([0.78492, 0.21508])), (100000, array([0.78492, 0.21508])), (100000, array([0.78492, 0.21508]))]], 'obj_sequence': [<quara.objects.state.State object at 0x000001E131AE3F28>, <quara.objects.state.State object at 0x000001E131AE32B0>, <quara.objects.state.State object at 0x000001E131AE3F60>, <quara.objects.state.State object at 0x000001E131AE3940>]}\n{'iteration': 72, 'empi_dists_seq': [[(100, array([0.85, 0.15])), (100, array([0.85, 0.15])), (100, array([0.85, 0.15]))], [(1000, array([0.786, 0.214])), (1000, array([0.786, 0.214])), (1000, array([0.786, 0.214]))], [(10000, array([0.7863, 0.2137])), (10000, array([0.7863, 0.2137])), (10000, array([0.7863, 0.2137]))], [(100000, array([0.78417, 0.21583])), (100000, array([0.78417, 0.21583])), (100000, array([0.78417, 0.21583]))]], 'obj_sequence': [<quara.objects.state.State object at 0x000001E131AE3198>, <quara.objects.state.State object at 0x000001E131AE33C8>, <quara.objects.state.State object at 0x000001E131AE39E8>, <quara.objects.state.State object at 0x000001E131AE35F8>]}\n{'iteration': 73, 'empi_dists_seq': [[(100, array([0.79, 0.21])), (100, array([0.79, 0.21])), (100, array([0.79, 0.21]))], [(1000, array([0.781, 0.219])), (1000, array([0.781, 0.219])), (1000, array([0.781, 0.219]))], [(10000, array([0.7781, 0.2219])), (10000, array([0.7781, 0.2219])), (10000, array([0.7781, 0.2219]))], [(100000, array([0.78495, 0.21505])), (100000, array([0.78495, 0.21505])), (100000, array([0.78495, 0.21505]))]], 'obj_sequence': [<quara.objects.state.State object at 0x000001E131AE3470>, <quara.objects.state.State object at 0x000001E131AE3080>, <quara.objects.state.State object at 0x000001E131AE34A8>, <quara.objects.state.State object at 0x000001E131AE3278>]}\n{'iteration': 74, 'empi_dists_seq': [[(100, array([0.82, 0.18])), (100, array([0.82, 0.18])), (100, array([0.82, 0.18]))], [(1000, array([0.781, 0.219])), (1000, array([0.781, 0.219])), (1000, array([0.781, 0.219]))], [(10000, array([0.7773, 0.2227])), (10000, array([0.7773, 0.2227])), (10000, array([0.7773, 0.2227]))], [(100000, array([0.78441, 0.21559])), (100000, array([0.78441, 0.21559])), (100000, array([0.78441, 0.21559]))]], 'obj_sequence': [<quara.objects.state.State object at 0x000001E131AE3E80>, <quara.objects.state.State object at 0x000001E131AE3208>, <quara.objects.state.State object at 0x000001E131AE3BE0>, <quara.objects.state.State object at 0x000001E131AE3E48>]}\n{'iteration': 75, 'empi_dists_seq': [[(100, array([0.79, 0.21])), (100, array([0.79, 0.21])), (100, array([0.79, 0.21]))], [(1000, array([0.788, 0.212])), (1000, array([0.788, 0.212])), (1000, array([0.788, 0.212]))], [(10000, array([0.7845, 0.2155])), (10000, array([0.7845, 0.2155])), (10000, array([0.7845, 0.2155]))], [(100000, array([0.78416, 0.21584])), (100000, array([0.78416, 0.21584])), (100000, array([0.78416, 0.21584]))]], 'obj_sequence': [<quara.objects.state.State object at 0x000001E131071CF8>, <quara.objects.state.State object at 0x000001E1316DAC88>, <quara.objects.state.State object at 0x000001E1316DA240>, <quara.objects.state.State object at 0x000001E1316DA4A8>]}\n{'iteration': 76, 'empi_dists_seq': [[(100, array([0.73, 0.27])), (100, array([0.73, 0.27])), (100, array([0.73, 0.27]))], [(1000, array([0.793, 0.207])), (1000, array([0.793, 0.207])), (1000, array([0.793, 0.207]))], [(10000, array([0.7896, 0.2104])), (10000, array([0.7896, 0.2104])), (10000, array([0.7896, 0.2104]))], [(100000, array([0.78621, 0.21379])), (100000, array([0.78621, 0.21379])), (100000, array([0.78621, 0.21379]))]], 'obj_sequence': [<quara.objects.state.State object at 0x000001E1316DA1D0>, <quara.objects.state.State object at 0x000001E1316DA630>, <quara.objects.state.State object at 0x000001E1316DA320>, <quara.objects.state.State object at 0x000001E1316DAD30>]}\n{'iteration': 77, 'empi_dists_seq': [[(100, array([0.79, 0.21])), (100, array([0.79, 0.21])), (100, array([0.79, 0.21]))], [(1000, array([0.81, 0.19])), (1000, array([0.81, 0.19])), (1000, array([0.81, 0.19]))], [(10000, array([0.7913, 0.2087])), (10000, array([0.7913, 0.2087])), (10000, array([0.7913, 0.2087]))], [(100000, array([0.78865, 0.21135])), (100000, array([0.78865, 0.21135])), (100000, array([0.78865, 0.21135]))]], 'obj_sequence': [<quara.objects.state.State object at 0x000001E1316DA7F0>, <quara.objects.state.State object at 0x000001E1316DA438>, <quara.objects.state.State object at 0x000001E1316DA6A0>, <quara.objects.state.State object at 0x000001E1316DA5F8>]}\n{'iteration': 78, 'empi_dists_seq': [[(100, array([0.79, 0.21])), (100, array([0.79, 0.21])), (100, array([0.79, 0.21]))], [(1000, array([0.797, 0.203])), (1000, array([0.797, 0.203])), (1000, array([0.797, 0.203]))], [(10000, array([0.7915, 0.2085])), (10000, array([0.7915, 0.2085])), (10000, array([0.7915, 0.2085]))], [(100000, array([0.78626, 0.21374])), (100000, array([0.78626, 0.21374])), (100000, array([0.78626, 0.21374]))]], 'obj_sequence': [<quara.objects.state.State object at 0x000001E1316DAB70>, <quara.objects.state.State object at 0x000001E1316DADA0>, <quara.objects.state.State object at 0x000001E1316DA550>, <quara.objects.state.State object at 0x000001E1316DA0B8>]}\n{'iteration': 79, 'empi_dists_seq': [[(100, array([0.78, 0.22])), (100, array([0.78, 0.22])), (100, array([0.78, 0.22]))], [(1000, array([0.8, 0.2])), (1000, array([0.8, 0.2])), (1000, array([0.8, 0.2]))], [(10000, array([0.7796, 0.2204])), (10000, array([0.7796, 0.2204])), (10000, array([0.7796, 0.2204]))], [(100000, array([0.78619, 0.21381])), (100000, array([0.78619, 0.21381])), (100000, array([0.78619, 0.21381]))]], 'obj_sequence': [<quara.objects.state.State object at 0x000001E1316DAEB8>, <quara.objects.state.State object at 0x000001E1316DA390>, <quara.objects.state.State object at 0x000001E1316DA4E0>, <quara.objects.state.State object at 0x000001E1316DA278>]}\n{'iteration': 80, 'empi_dists_seq': [[(100, array([0.74, 0.26])), (100, array([0.74, 0.26])), (100, array([0.74, 0.26]))], [(1000, array([0.762, 0.238])), (1000, array([0.762, 0.238])), (1000, array([0.762, 0.238]))], [(10000, array([0.7887, 0.2113])), (10000, array([0.7887, 0.2113])), (10000, array([0.7887, 0.2113]))], [(100000, array([0.7864, 0.2136])), (100000, array([0.7864, 0.2136])), (100000, array([0.7864, 0.2136]))]], 'obj_sequence': [<quara.objects.state.State object at 0x000001E1316DA748>, <quara.objects.state.State object at 0x000001E1316DA358>, <quara.objects.state.State object at 0x000001E1316DACF8>, <quara.objects.state.State object at 0x000001E1316DAF28>]}\n{'iteration': 81, 'empi_dists_seq': [[(100, array([0.83, 0.17])), (100, array([0.83, 0.17])), (100, array([0.83, 0.17]))], [(1000, array([0.816, 0.184])), (1000, array([0.816, 0.184])), (1000, array([0.816, 0.184]))], [(10000, array([0.791, 0.209])), (10000, array([0.791, 0.209])), (10000, array([0.791, 0.209]))], [(100000, array([0.78709, 0.21291])), (100000, array([0.78709, 0.21291])), (100000, array([0.78709, 0.21291]))]], 'obj_sequence': [<quara.objects.state.State object at 0x000001E131AE3518>, <quara.objects.state.State object at 0x000001E1316DABE0>, <quara.objects.state.State object at 0x000001E1316DAE80>, <quara.objects.state.State object at 0x000001E1316DAEF0>]}\n{'iteration': 82, 'empi_dists_seq': [[(100, array([0.77, 0.23])), (100, array([0.77, 0.23])), (100, array([0.77, 0.23]))], [(1000, array([0.804, 0.196])), (1000, array([0.804, 0.196])), (1000, array([0.804, 0.196]))], [(10000, array([0.7911, 0.2089])), (10000, array([0.7911, 0.2089])), (10000, array([0.7911, 0.2089]))], [(100000, array([0.78771, 0.21229])), (100000, array([0.78771, 0.21229])), (100000, array([0.78771, 0.21229]))]], 'obj_sequence': [<quara.objects.state.State object at 0x000001E1316DA860>, <quara.objects.state.State object at 0x000001E1316DA2E8>, <quara.objects.state.State object at 0x000001E1316DA710>, <quara.objects.state.State object at 0x000001E1316DA6D8>]}\n{'iteration': 83, 'empi_dists_seq': [[(100, array([0.79, 0.21])), (100, array([0.79, 0.21])), (100, array([0.79, 0.21]))], [(1000, array([0.785, 0.215])), (1000, array([0.785, 0.215])), (1000, array([0.785, 0.215]))], [(10000, array([0.7866, 0.2134])), (10000, array([0.7866, 0.2134])), (10000, array([0.7866, 0.2134]))], [(100000, array([0.78703, 0.21297])), (100000, array([0.78703, 0.21297])), (100000, array([0.78703, 0.21297]))]], 'obj_sequence': [<quara.objects.state.State object at 0x000001E1316DA828>, <quara.objects.state.State object at 0x000001E1316DAD68>, <quara.objects.state.State object at 0x000001E1316DA940>, <quara.objects.state.State object at 0x000001E1316DAB38>]}\n{'iteration': 84, 'empi_dists_seq': [[(100, array([0.81, 0.19])), (100, array([0.81, 0.19])), (100, array([0.81, 0.19]))], [(1000, array([0.791, 0.209])), (1000, array([0.791, 0.209])), (1000, array([0.791, 0.209]))], [(10000, array([0.7869, 0.2131])), (10000, array([0.7869, 0.2131])), (10000, array([0.7869, 0.2131]))], [(100000, array([0.78577, 0.21423])), (100000, array([0.78577, 0.21423])), (100000, array([0.78577, 0.21423]))]], 'obj_sequence': [<quara.objects.state.State object at 0x000001E1316DA898>, <quara.objects.state.State object at 0x000001E1316DA588>, <quara.objects.state.State object at 0x000001E1316DAAC8>, <quara.objects.state.State object at 0x000001E1316DA160>]}\n{'iteration': 85, 'empi_dists_seq': [[(100, array([0.8, 0.2])), (100, array([0.8, 0.2])), (100, array([0.8, 0.2]))], [(1000, array([0.788, 0.212])), (1000, array([0.788, 0.212])), (1000, array([0.788, 0.212]))], [(10000, array([0.7899, 0.2101])), (10000, array([0.7899, 0.2101])), (10000, array([0.7899, 0.2101]))], [(100000, array([0.78594, 0.21406])), (100000, array([0.78594, 0.21406])), (100000, array([0.78594, 0.21406]))]], 'obj_sequence': [<quara.objects.state.State object at 0x000001E1316DA9E8>, <quara.objects.state.State object at 0x000001E1316DAFD0>, <quara.objects.state.State object at 0x000001E1316DA518>, <quara.objects.state.State object at 0x000001E1316DA470>]}\n{'iteration': 86, 'empi_dists_seq': [[(100, array([0.8, 0.2])), (100, array([0.8, 0.2])), (100, array([0.8, 0.2]))], [(1000, array([0.794, 0.206])), (1000, array([0.794, 0.206])), (1000, array([0.794, 0.206]))], [(10000, array([0.7927, 0.2073])), (10000, array([0.7927, 0.2073])), (10000, array([0.7927, 0.2073]))], [(100000, array([0.79017, 0.20983])), (100000, array([0.79017, 0.20983])), (100000, array([0.79017, 0.20983]))]], 'obj_sequence': [<quara.objects.state.State object at 0x000001E1316DA780>, <quara.objects.state.State object at 0x000001E1316DA7B8>, <quara.objects.state.State object at 0x000001E1316DA9B0>, <quara.objects.state.State object at 0x000001E13168B320>]}\n{'iteration': 87, 'empi_dists_seq': [[(100, array([0.78, 0.22])), (100, array([0.78, 0.22])), (100, array([0.78, 0.22]))], [(1000, array([0.79, 0.21])), (1000, array([0.79, 0.21])), (1000, array([0.79, 0.21]))], [(10000, array([0.7884, 0.2116])), (10000, array([0.7884, 0.2116])), (10000, array([0.7884, 0.2116]))], [(100000, array([0.78797, 0.21203])), (100000, array([0.78797, 0.21203])), (100000, array([0.78797, 0.21203]))]], 'obj_sequence': [<quara.objects.state.State object at 0x000001E1316DAC50>, <quara.objects.state.State object at 0x000001E13168B5C0>, <quara.objects.state.State object at 0x000001E13168BD68>, <quara.objects.state.State object at 0x000001E13168BDD8>]}\n{'iteration': 88, 'empi_dists_seq': [[(100, array([0.77, 0.23])), (100, array([0.77, 0.23])), (100, array([0.77, 0.23]))], [(1000, array([0.776, 0.224])), (1000, array([0.776, 0.224])), (1000, array([0.776, 0.224]))], [(10000, array([0.786, 0.214])), (10000, array([0.786, 0.214])), (10000, array([0.786, 0.214]))], [(100000, array([0.78549, 0.21451])), (100000, array([0.78549, 0.21451])), (100000, array([0.78549, 0.21451]))]], 'obj_sequence': [<quara.objects.state.State object at 0x000001E13168BFD0>, <quara.objects.state.State object at 0x000001E13168B278>, <quara.objects.state.State object at 0x000001E13168BEF0>, <quara.objects.state.State object at 0x000001E13168BF28>]}\n{'iteration': 89, 'empi_dists_seq': [[(100, array([0.82, 0.18])), (100, array([0.82, 0.18])), (100, array([0.82, 0.18]))], [(1000, array([0.77, 0.23])), (1000, array([0.77, 0.23])), (1000, array([0.77, 0.23]))], [(10000, array([0.7846, 0.2154])), (10000, array([0.7846, 0.2154])), (10000, array([0.7846, 0.2154]))], [(100000, array([0.78411, 0.21589])), (100000, array([0.78411, 0.21589])), (100000, array([0.78411, 0.21589]))]], 'obj_sequence': [<quara.objects.state.State object at 0x000001E13168BE10>, <quara.objects.state.State object at 0x000001E13168BE48>, <quara.objects.state.State object at 0x000001E13168BEB8>, <quara.objects.state.State object at 0x000001E13168BE80>]}\n{'iteration': 90, 'empi_dists_seq': [[(100, array([0.75, 0.25])), (100, array([0.75, 0.25])), (100, array([0.75, 0.25]))], [(1000, array([0.794, 0.206])), (1000, array([0.794, 0.206])), (1000, array([0.794, 0.206]))], [(10000, array([0.7844, 0.2156])), (10000, array([0.7844, 0.2156])), (10000, array([0.7844, 0.2156]))], [(100000, array([0.7858, 0.2142])), (100000, array([0.7858, 0.2142])), (100000, array([0.7858, 0.2142]))]], 'obj_sequence': [<quara.objects.state.State object at 0x000001E13168B550>, <quara.objects.state.State object at 0x000001E13168BA58>, <quara.objects.state.State object at 0x000001E13168BAC8>, <quara.objects.state.State object at 0x000001E13168BA90>]}\n{'iteration': 91, 'empi_dists_seq': [[(100, array([0.81, 0.19])), (100, array([0.81, 0.19])), (100, array([0.81, 0.19]))], [(1000, array([0.787, 0.213])), (1000, array([0.787, 0.213])), (1000, array([0.787, 0.213]))], [(10000, array([0.7781, 0.2219])), (10000, array([0.7781, 0.2219])), (10000, array([0.7781, 0.2219]))], [(100000, array([0.78587, 0.21413])), (100000, array([0.78587, 0.21413])), (100000, array([0.78587, 0.21413]))]], 'obj_sequence': [<quara.objects.state.State object at 0x000001E13168B9B0>, <quara.objects.state.State object at 0x000001E13168B390>, <quara.objects.state.State object at 0x000001E13168B828>, <quara.objects.state.State object at 0x000001E13168B048>]}\n{'iteration': 92, 'empi_dists_seq': [[(100, array([0.74, 0.26])), (100, array([0.74, 0.26])), (100, array([0.74, 0.26]))], [(1000, array([0.777, 0.223])), (1000, array([0.777, 0.223])), (1000, array([0.777, 0.223]))], [(10000, array([0.7896, 0.2104])), (10000, array([0.7896, 0.2104])), (10000, array([0.7896, 0.2104]))], [(100000, array([0.78498, 0.21502])), (100000, array([0.78498, 0.21502])), (100000, array([0.78498, 0.21502]))]], 'obj_sequence': [<quara.objects.state.State object at 0x000001E13168B240>, <quara.objects.state.State object at 0x000001E13168B2E8>, <quara.objects.state.State object at 0x000001E13168B160>, <quara.objects.state.State object at 0x000001E13168B4A8>]}\n{'iteration': 93, 'empi_dists_seq': [[(100, array([0.82, 0.18])), (100, array([0.82, 0.18])), (100, array([0.82, 0.18]))], [(1000, array([0.796, 0.204])), (1000, array([0.796, 0.204])), (1000, array([0.796, 0.204]))], [(10000, array([0.7878, 0.2122])), (10000, array([0.7878, 0.2122])), (10000, array([0.7878, 0.2122]))], [(100000, array([0.78657, 0.21343])), (100000, array([0.78657, 0.21343])), (100000, array([0.78657, 0.21343]))]], 'obj_sequence': [<quara.objects.state.State object at 0x000001E13168B4E0>, <quara.objects.state.State object at 0x000001E13168B400>, <quara.objects.state.State object at 0x000001E13168BB00>, <quara.objects.state.State object at 0x000001E13168BCF8>]}\n{'iteration': 94, 'empi_dists_seq': [[(100, array([0.87, 0.13])), (100, array([0.87, 0.13])), (100, array([0.87, 0.13]))], [(1000, array([0.789, 0.211])), (1000, array([0.789, 0.211])), (1000, array([0.789, 0.211]))], [(10000, array([0.7886, 0.2114])), (10000, array([0.7886, 0.2114])), (10000, array([0.7886, 0.2114]))], [(100000, array([0.78555, 0.21445])), (100000, array([0.78555, 0.21445])), (100000, array([0.78555, 0.21445]))]], 'obj_sequence': [<quara.objects.state.State object at 0x000001E13168B908>, <quara.objects.state.State object at 0x000001E13168B470>, <quara.objects.state.State object at 0x000001E13168BD30>, <quara.objects.state.State object at 0x000001E13168B710>]}\n{'iteration': 95, 'empi_dists_seq': [[(100, array([0.74, 0.26])), (100, array([0.74, 0.26])), (100, array([0.74, 0.26]))], [(1000, array([0.797, 0.203])), (1000, array([0.797, 0.203])), (1000, array([0.797, 0.203]))], [(10000, array([0.788, 0.212])), (10000, array([0.788, 0.212])), (10000, array([0.788, 0.212]))], [(100000, array([0.78534, 0.21466])), (100000, array([0.78534, 0.21466])), (100000, array([0.78534, 0.21466]))]], 'obj_sequence': [<quara.objects.state.State object at 0x000001E13168BC88>, <quara.objects.state.State object at 0x000001E13168B780>, <quara.objects.state.State object at 0x000001E13168B940>, <quara.objects.state.State object at 0x000001E13168B7B8>]}\n{'iteration': 96, 'empi_dists_seq': [[(100, array([0.76, 0.24])), (100, array([0.76, 0.24])), (100, array([0.76, 0.24]))], [(1000, array([0.778, 0.222])), (1000, array([0.778, 0.222])), (1000, array([0.778, 0.222]))], [(10000, array([0.7871, 0.2129])), (10000, array([0.7871, 0.2129])), (10000, array([0.7871, 0.2129]))], [(100000, array([0.78787, 0.21213])), (100000, array([0.78787, 0.21213])), (100000, array([0.78787, 0.21213]))]], 'obj_sequence': [<quara.objects.state.State object at 0x000001E13168BBE0>, <quara.objects.state.State object at 0x000001E13168B6D8>, <quara.objects.state.State object at 0x000001E13168B198>, <quara.objects.state.State object at 0x000001E13168B080>]}\n{'iteration': 97, 'empi_dists_seq': [[(100, array([0.78, 0.22])), (100, array([0.78, 0.22])), (100, array([0.78, 0.22]))], [(1000, array([0.779, 0.221])), (1000, array([0.779, 0.221])), (1000, array([0.779, 0.221]))], [(10000, array([0.7804, 0.2196])), (10000, array([0.7804, 0.2196])), (10000, array([0.7804, 0.2196]))], [(100000, array([0.7851, 0.2149])), (100000, array([0.7851, 0.2149])), (100000, array([0.7851, 0.2149]))]], 'obj_sequence': [<quara.objects.state.State object at 0x000001E13168B0F0>, <quara.objects.state.State object at 0x000001E13168B588>, <quara.objects.state.State object at 0x000001E13168BC50>, <quara.objects.state.State object at 0x000001E13168BA20>]}\n{'iteration': 98, 'empi_dists_seq': [[(100, array([0.83, 0.17])), (100, array([0.83, 0.17])), (100, array([0.83, 0.17]))], [(1000, array([0.8, 0.2])), (1000, array([0.8, 0.2])), (1000, array([0.8, 0.2]))], [(10000, array([0.7895, 0.2105])), (10000, array([0.7895, 0.2105])), (10000, array([0.7895, 0.2105]))], [(100000, array([0.78479, 0.21521])), (100000, array([0.78479, 0.21521])), (100000, array([0.78479, 0.21521]))]], 'obj_sequence': [<quara.objects.state.State object at 0x000001E13168B630>, <quara.objects.state.State object at 0x000001E13168B7F0>, <quara.objects.state.State object at 0x000001E13168B8D0>, <quara.objects.state.State object at 0x000001E13168B5F8>]}\n{'iteration': 99, 'empi_dists_seq': [[(100, array([0.76, 0.24])), (100, array([0.76, 0.24])), (100, array([0.76, 0.24]))], [(1000, array([0.759, 0.241])), (1000, array([0.759, 0.241])), (1000, array([0.759, 0.241]))], [(10000, array([0.7854, 0.2146])), (10000, array([0.7854, 0.2146])), (10000, array([0.7854, 0.2146]))], [(100000, array([0.78595, 0.21405])), (100000, array([0.78595, 0.21405])), (100000, array([0.78595, 0.21405]))]], 'obj_sequence': [<quara.objects.state.State object at 0x000001E13168B3C8>, <quara.objects.state.State object at 0x000001E13168B898>, <quara.objects.state.State object at 0x000001E13168B0B8>, <quara.objects.state.State object at 0x000001E13168B748>]}\ntime(s)=89.49747323989868\nparam=affine, est=linear: [0.009695720856383355, 0.0010162113098930049, 0.00011421513968267309, 9.891635885111218e-06]\nparam=affine, est=proj  : [0.003744762970422473, 0.0003969203756557314, 8.47403300116653e-05, 9.532159585801796e-06]\nparam=linear, est=linear: [0.009695720856383353, 0.0010162113098930033, 0.00011421513968267271, 9.89163588511118e-06]\nparam=linear, est=proj  : [0.0037447629704224807, 0.0003969203756557329, 8.474033001166606e-05, 9.532159585801853e-06]\n"
    },
    {
     "output_type": "display_data",
     "data": {
      "application/vnd.plotly.v1+json": {
       "config": {
        "plotlyServerURL": "https://plot.ly"
       },
       "data": [
        {
         "mode": "lines+markers",
         "name": "param=affine, est=linear",
         "type": "scatter",
         "x": [
          100,
          1000,
          10000,
          100000
         ],
         "y": [
          0.009695720856383355,
          0.0010162113098930049,
          0.00011421513968267309,
          0.000009891635885111218
         ]
        },
        {
         "mode": "lines+markers",
         "name": "param=affine, est=proj",
         "type": "scatter",
         "x": [
          100,
          1000,
          10000,
          100000
         ],
         "y": [
          0.003744762970422473,
          0.0003969203756557314,
          0.0000847403300116653,
          0.000009532159585801796
         ]
        },
        {
         "mode": "lines+markers",
         "name": "param=linear, est=linear",
         "type": "scatter",
         "x": [
          100,
          1000,
          10000,
          100000
         ],
         "y": [
          0.009695720856383353,
          0.0010162113098930033,
          0.00011421513968267271,
          0.00000989163588511118
         ]
        },
        {
         "mode": "lines+markers",
         "name": "param=linear, est=proj",
         "type": "scatter",
         "x": [
          100,
          1000,
          10000,
          100000
         ],
         "y": [
          0.0037447629704224807,
          0.0003969203756557329,
          0.00008474033001166606,
          0.000009532159585801853
         ]
        }
       ],
       "layout": {
        "template": {
         "data": {
          "bar": [
           {
            "error_x": {
             "color": "#2a3f5f"
            },
            "error_y": {
             "color": "#2a3f5f"
            },
            "marker": {
             "line": {
              "color": "#E5ECF6",
              "width": 0.5
             }
            },
            "type": "bar"
           }
          ],
          "barpolar": [
           {
            "marker": {
             "line": {
              "color": "#E5ECF6",
              "width": 0.5
             }
            },
            "type": "barpolar"
           }
          ],
          "carpet": [
           {
            "aaxis": {
             "endlinecolor": "#2a3f5f",
             "gridcolor": "white",
             "linecolor": "white",
             "minorgridcolor": "white",
             "startlinecolor": "#2a3f5f"
            },
            "baxis": {
             "endlinecolor": "#2a3f5f",
             "gridcolor": "white",
             "linecolor": "white",
             "minorgridcolor": "white",
             "startlinecolor": "#2a3f5f"
            },
            "type": "carpet"
           }
          ],
          "choropleth": [
           {
            "colorbar": {
             "outlinewidth": 0,
             "ticks": ""
            },
            "type": "choropleth"
           }
          ],
          "contour": [
           {
            "colorbar": {
             "outlinewidth": 0,
             "ticks": ""
            },
            "colorscale": [
             [
              0,
              "#0d0887"
             ],
             [
              0.1111111111111111,
              "#46039f"
             ],
             [
              0.2222222222222222,
              "#7201a8"
             ],
             [
              0.3333333333333333,
              "#9c179e"
             ],
             [
              0.4444444444444444,
              "#bd3786"
             ],
             [
              0.5555555555555556,
              "#d8576b"
             ],
             [
              0.6666666666666666,
              "#ed7953"
             ],
             [
              0.7777777777777778,
              "#fb9f3a"
             ],
             [
              0.8888888888888888,
              "#fdca26"
             ],
             [
              1,
              "#f0f921"
             ]
            ],
            "type": "contour"
           }
          ],
          "contourcarpet": [
           {
            "colorbar": {
             "outlinewidth": 0,
             "ticks": ""
            },
            "type": "contourcarpet"
           }
          ],
          "heatmap": [
           {
            "colorbar": {
             "outlinewidth": 0,
             "ticks": ""
            },
            "colorscale": [
             [
              0,
              "#0d0887"
             ],
             [
              0.1111111111111111,
              "#46039f"
             ],
             [
              0.2222222222222222,
              "#7201a8"
             ],
             [
              0.3333333333333333,
              "#9c179e"
             ],
             [
              0.4444444444444444,
              "#bd3786"
             ],
             [
              0.5555555555555556,
              "#d8576b"
             ],
             [
              0.6666666666666666,
              "#ed7953"
             ],
             [
              0.7777777777777778,
              "#fb9f3a"
             ],
             [
              0.8888888888888888,
              "#fdca26"
             ],
             [
              1,
              "#f0f921"
             ]
            ],
            "type": "heatmap"
           }
          ],
          "heatmapgl": [
           {
            "colorbar": {
             "outlinewidth": 0,
             "ticks": ""
            },
            "colorscale": [
             [
              0,
              "#0d0887"
             ],
             [
              0.1111111111111111,
              "#46039f"
             ],
             [
              0.2222222222222222,
              "#7201a8"
             ],
             [
              0.3333333333333333,
              "#9c179e"
             ],
             [
              0.4444444444444444,
              "#bd3786"
             ],
             [
              0.5555555555555556,
              "#d8576b"
             ],
             [
              0.6666666666666666,
              "#ed7953"
             ],
             [
              0.7777777777777778,
              "#fb9f3a"
             ],
             [
              0.8888888888888888,
              "#fdca26"
             ],
             [
              1,
              "#f0f921"
             ]
            ],
            "type": "heatmapgl"
           }
          ],
          "histogram": [
           {
            "marker": {
             "colorbar": {
              "outlinewidth": 0,
              "ticks": ""
             }
            },
            "type": "histogram"
           }
          ],
          "histogram2d": [
           {
            "colorbar": {
             "outlinewidth": 0,
             "ticks": ""
            },
            "colorscale": [
             [
              0,
              "#0d0887"
             ],
             [
              0.1111111111111111,
              "#46039f"
             ],
             [
              0.2222222222222222,
              "#7201a8"
             ],
             [
              0.3333333333333333,
              "#9c179e"
             ],
             [
              0.4444444444444444,
              "#bd3786"
             ],
             [
              0.5555555555555556,
              "#d8576b"
             ],
             [
              0.6666666666666666,
              "#ed7953"
             ],
             [
              0.7777777777777778,
              "#fb9f3a"
             ],
             [
              0.8888888888888888,
              "#fdca26"
             ],
             [
              1,
              "#f0f921"
             ]
            ],
            "type": "histogram2d"
           }
          ],
          "histogram2dcontour": [
           {
            "colorbar": {
             "outlinewidth": 0,
             "ticks": ""
            },
            "colorscale": [
             [
              0,
              "#0d0887"
             ],
             [
              0.1111111111111111,
              "#46039f"
             ],
             [
              0.2222222222222222,
              "#7201a8"
             ],
             [
              0.3333333333333333,
              "#9c179e"
             ],
             [
              0.4444444444444444,
              "#bd3786"
             ],
             [
              0.5555555555555556,
              "#d8576b"
             ],
             [
              0.6666666666666666,
              "#ed7953"
             ],
             [
              0.7777777777777778,
              "#fb9f3a"
             ],
             [
              0.8888888888888888,
              "#fdca26"
             ],
             [
              1,
              "#f0f921"
             ]
            ],
            "type": "histogram2dcontour"
           }
          ],
          "mesh3d": [
           {
            "colorbar": {
             "outlinewidth": 0,
             "ticks": ""
            },
            "type": "mesh3d"
           }
          ],
          "parcoords": [
           {
            "line": {
             "colorbar": {
              "outlinewidth": 0,
              "ticks": ""
             }
            },
            "type": "parcoords"
           }
          ],
          "pie": [
           {
            "automargin": true,
            "type": "pie"
           }
          ],
          "scatter": [
           {
            "marker": {
             "colorbar": {
              "outlinewidth": 0,
              "ticks": ""
             }
            },
            "type": "scatter"
           }
          ],
          "scatter3d": [
           {
            "line": {
             "colorbar": {
              "outlinewidth": 0,
              "ticks": ""
             }
            },
            "marker": {
             "colorbar": {
              "outlinewidth": 0,
              "ticks": ""
             }
            },
            "type": "scatter3d"
           }
          ],
          "scattercarpet": [
           {
            "marker": {
             "colorbar": {
              "outlinewidth": 0,
              "ticks": ""
             }
            },
            "type": "scattercarpet"
           }
          ],
          "scattergeo": [
           {
            "marker": {
             "colorbar": {
              "outlinewidth": 0,
              "ticks": ""
             }
            },
            "type": "scattergeo"
           }
          ],
          "scattergl": [
           {
            "marker": {
             "colorbar": {
              "outlinewidth": 0,
              "ticks": ""
             }
            },
            "type": "scattergl"
           }
          ],
          "scattermapbox": [
           {
            "marker": {
             "colorbar": {
              "outlinewidth": 0,
              "ticks": ""
             }
            },
            "type": "scattermapbox"
           }
          ],
          "scatterpolar": [
           {
            "marker": {
             "colorbar": {
              "outlinewidth": 0,
              "ticks": ""
             }
            },
            "type": "scatterpolar"
           }
          ],
          "scatterpolargl": [
           {
            "marker": {
             "colorbar": {
              "outlinewidth": 0,
              "ticks": ""
             }
            },
            "type": "scatterpolargl"
           }
          ],
          "scatterternary": [
           {
            "marker": {
             "colorbar": {
              "outlinewidth": 0,
              "ticks": ""
             }
            },
            "type": "scatterternary"
           }
          ],
          "surface": [
           {
            "colorbar": {
             "outlinewidth": 0,
             "ticks": ""
            },
            "colorscale": [
             [
              0,
              "#0d0887"
             ],
             [
              0.1111111111111111,
              "#46039f"
             ],
             [
              0.2222222222222222,
              "#7201a8"
             ],
             [
              0.3333333333333333,
              "#9c179e"
             ],
             [
              0.4444444444444444,
              "#bd3786"
             ],
             [
              0.5555555555555556,
              "#d8576b"
             ],
             [
              0.6666666666666666,
              "#ed7953"
             ],
             [
              0.7777777777777778,
              "#fb9f3a"
             ],
             [
              0.8888888888888888,
              "#fdca26"
             ],
             [
              1,
              "#f0f921"
             ]
            ],
            "type": "surface"
           }
          ],
          "table": [
           {
            "cells": {
             "fill": {
              "color": "#EBF0F8"
             },
             "line": {
              "color": "white"
             }
            },
            "header": {
             "fill": {
              "color": "#C8D4E3"
             },
             "line": {
              "color": "white"
             }
            },
            "type": "table"
           }
          ]
         },
         "layout": {
          "annotationdefaults": {
           "arrowcolor": "#2a3f5f",
           "arrowhead": 0,
           "arrowwidth": 1
          },
          "coloraxis": {
           "colorbar": {
            "outlinewidth": 0,
            "ticks": ""
           }
          },
          "colorscale": {
           "diverging": [
            [
             0,
             "#8e0152"
            ],
            [
             0.1,
             "#c51b7d"
            ],
            [
             0.2,
             "#de77ae"
            ],
            [
             0.3,
             "#f1b6da"
            ],
            [
             0.4,
             "#fde0ef"
            ],
            [
             0.5,
             "#f7f7f7"
            ],
            [
             0.6,
             "#e6f5d0"
            ],
            [
             0.7,
             "#b8e186"
            ],
            [
             0.8,
             "#7fbc41"
            ],
            [
             0.9,
             "#4d9221"
            ],
            [
             1,
             "#276419"
            ]
           ],
           "sequential": [
            [
             0,
             "#0d0887"
            ],
            [
             0.1111111111111111,
             "#46039f"
            ],
            [
             0.2222222222222222,
             "#7201a8"
            ],
            [
             0.3333333333333333,
             "#9c179e"
            ],
            [
             0.4444444444444444,
             "#bd3786"
            ],
            [
             0.5555555555555556,
             "#d8576b"
            ],
            [
             0.6666666666666666,
             "#ed7953"
            ],
            [
             0.7777777777777778,
             "#fb9f3a"
            ],
            [
             0.8888888888888888,
             "#fdca26"
            ],
            [
             1,
             "#f0f921"
            ]
           ],
           "sequentialminus": [
            [
             0,
             "#0d0887"
            ],
            [
             0.1111111111111111,
             "#46039f"
            ],
            [
             0.2222222222222222,
             "#7201a8"
            ],
            [
             0.3333333333333333,
             "#9c179e"
            ],
            [
             0.4444444444444444,
             "#bd3786"
            ],
            [
             0.5555555555555556,
             "#d8576b"
            ],
            [
             0.6666666666666666,
             "#ed7953"
            ],
            [
             0.7777777777777778,
             "#fb9f3a"
            ],
            [
             0.8888888888888888,
             "#fdca26"
            ],
            [
             1,
             "#f0f921"
            ]
           ]
          },
          "colorway": [
           "#636efa",
           "#EF553B",
           "#00cc96",
           "#ab63fa",
           "#FFA15A",
           "#19d3f3",
           "#FF6692",
           "#B6E880",
           "#FF97FF",
           "#FECB52"
          ],
          "font": {
           "color": "#2a3f5f"
          },
          "geo": {
           "bgcolor": "white",
           "lakecolor": "white",
           "landcolor": "#E5ECF6",
           "showlakes": true,
           "showland": true,
           "subunitcolor": "white"
          },
          "hoverlabel": {
           "align": "left"
          },
          "hovermode": "closest",
          "mapbox": {
           "style": "light"
          },
          "paper_bgcolor": "white",
          "plot_bgcolor": "#E5ECF6",
          "polar": {
           "angularaxis": {
            "gridcolor": "white",
            "linecolor": "white",
            "ticks": ""
           },
           "bgcolor": "#E5ECF6",
           "radialaxis": {
            "gridcolor": "white",
            "linecolor": "white",
            "ticks": ""
           }
          },
          "scene": {
           "xaxis": {
            "backgroundcolor": "#E5ECF6",
            "gridcolor": "white",
            "gridwidth": 2,
            "linecolor": "white",
            "showbackground": true,
            "ticks": "",
            "zerolinecolor": "white"
           },
           "yaxis": {
            "backgroundcolor": "#E5ECF6",
            "gridcolor": "white",
            "gridwidth": 2,
            "linecolor": "white",
            "showbackground": true,
            "ticks": "",
            "zerolinecolor": "white"
           },
           "zaxis": {
            "backgroundcolor": "#E5ECF6",
            "gridcolor": "white",
            "gridwidth": 2,
            "linecolor": "white",
            "showbackground": true,
            "ticks": "",
            "zerolinecolor": "white"
           }
          },
          "shapedefaults": {
           "line": {
            "color": "#2a3f5f"
           }
          },
          "ternary": {
           "aaxis": {
            "gridcolor": "white",
            "linecolor": "white",
            "ticks": ""
           },
           "baxis": {
            "gridcolor": "white",
            "linecolor": "white",
            "ticks": ""
           },
           "bgcolor": "#E5ECF6",
           "caxis": {
            "gridcolor": "white",
            "linecolor": "white",
            "ticks": ""
           }
          },
          "title": {
           "x": 0.05
          },
          "xaxis": {
           "automargin": true,
           "gridcolor": "white",
           "linecolor": "white",
           "ticks": "",
           "title": {
            "standoff": 15
           },
           "zerolinecolor": "white",
           "zerolinewidth": 2
          },
          "yaxis": {
           "automargin": true,
           "gridcolor": "white",
           "linecolor": "white",
           "ticks": "",
           "title": {
            "standoff": 15
           },
           "zerolinecolor": "white",
           "zerolinewidth": 2
          }
         }
        },
        "title": {
         "text": "QST"
        },
        "xaxis": {
         "title": {
          "text": "number of data"
         },
         "type": "log"
        },
        "yaxis": {
         "title": {
          "text": "Mean Square Error of estimates and true"
         },
         "type": "log"
        }
       }
      }
     },
     "metadata": {}
    }
   ],
   "source": [
    "vec = np.array([1/np.sqrt(2), 0.99/np.sqrt(6), 0.99/np.sqrt(6), 0.99/np.sqrt(6)],dtype=np.float64)\n",
    "true_object = State(c_sys, vec)\n",
    "num_data = [100, 1000, 10000, 100000]\n",
    "iterations = 100\n",
    "\n",
    "param_affine_est_linear = estimate(\"0.99\", true_object, num_data, iterations, on_para_eq_constraint=True)\n",
    "param_linear_est_linear = estimate(\"0.99\", true_object, num_data, iterations, on_para_eq_constraint=False)\n",
    "\n",
    "#####\n",
    "# calc mse(param_affine)\n",
    "param_affine_est_linear_tmp = [list(obj_sequence) for obj_sequence in zip(*param_affine_est_linear)]\n",
    "mses_param_affine_est_linear = [\n",
    "    calc_mse(obj_sequence, [true_object] * len(obj_sequence)) for obj_sequence in param_affine_est_linear_tmp\n",
    "]\n",
    "mses_param_affine_est_proj = [\n",
    "    calc_mse_proj(obj_sequence, [true_object] * len(obj_sequence)) for obj_sequence in param_affine_est_linear_tmp\n",
    "]\n",
    "print(f\"param=affine, est=linear: {mses_param_affine_est_linear}\")\n",
    "print(f\"param=affine, est=proj  : {mses_param_affine_est_proj}\")\n",
    "\n",
    "# calc mse(param_linear)\n",
    "param_linear_est_linear_tmp = [list(obj_sequence) for obj_sequence in zip(*param_linear_est_linear)]\n",
    "mses_param_linear_est_linear = [\n",
    "    calc_mse(obj_sequence, [true_object] * len(obj_sequence)) for obj_sequence in param_linear_est_linear_tmp\n",
    "]\n",
    "mses_param_linear_est_proj = [\n",
    "    calc_mse_proj(obj_sequence, [true_object] * len(obj_sequence)) for obj_sequence in param_linear_est_linear_tmp\n",
    "]\n",
    "print(f\"param=linear, est=linear: {mses_param_linear_est_linear}\")\n",
    "print(f\"param=linear, est=proj  : {mses_param_linear_est_proj}\")\n",
    "\n",
    "#####\n",
    "data_param_affine_est_linear = go.Scatter(name='param=affine, est=linear', x=num_data, y=mses_param_affine_est_linear, mode='lines+markers')\n",
    "data_param_affine_est_proj = go.Scatter(name='param=affine, est=proj', x=num_data, y=mses_param_affine_est_proj, mode='lines+markers')\n",
    "data_param_linear_est_linear = go.Scatter(name='param=linear, est=linear', x=num_data, y=mses_param_linear_est_linear, mode='lines+markers')\n",
    "data_param_linear_est_proj = go.Scatter(name='param=linear, est=proj', x=num_data, y=mses_param_linear_est_proj, mode='lines+markers')\n",
    "data = [data_param_affine_est_linear, data_param_affine_est_proj, data_param_linear_est_linear, data_param_linear_est_proj]\n",
    "\n",
    "layout = go.Layout(title='QST', xaxis_title_text=\"number of data\", yaxis_title_text=\"Mean Square Error of estimates and true\", xaxis_type=\"log\", yaxis_type=\"log\")\n",
    "fig = go.Figure(data=data, layout=layout)\n",
    "fig.show()"
   ]
  },
  {
   "cell_type": "markdown",
   "metadata": {},
   "source": [
    "# State([ 1/np.sqrt(2), 0.95/np.sqrt(6), 0.95/np.sqrt(6), 0.95/np.sqrt(6) ]), 反復回数100回"
   ]
  },
  {
   "cell_type": "code",
   "execution_count": 73,
   "metadata": {
    "tags": [
     "outputPrepend"
    ]
   },
   "outputs": [
    {
     "output_type": "stream",
     "name": "stdout",
     "text": "rray([0.77337, 0.22663])), (100000, array([0.77337, 0.22663])), (100000, array([0.77337, 0.22663]))]], 'obj_sequence': [<quara.objects.state.State object at 0x000001E13184A828>, <quara.objects.state.State object at 0x000001E13184AC18>, <quara.objects.state.State object at 0x000001E13184AEF0>, <quara.objects.state.State object at 0x000001E13184AEB8>]}\n{'iteration': 72, 'empi_dists_seq': [[(100, array([0.84, 0.16])), (100, array([0.84, 0.16])), (100, array([0.84, 0.16]))], [(1000, array([0.772, 0.228])), (1000, array([0.772, 0.228])), (1000, array([0.772, 0.228]))], [(10000, array([0.7726, 0.2274])), (10000, array([0.7726, 0.2274])), (10000, array([0.7726, 0.2274]))], [(100000, array([0.77202, 0.22798])), (100000, array([0.77202, 0.22798])), (100000, array([0.77202, 0.22798]))]], 'obj_sequence': [<quara.objects.state.State object at 0x000001E13184A780>, <quara.objects.state.State object at 0x000001E13184AE48>, <quara.objects.state.State object at 0x000001E13184AF98>, <quara.objects.state.State object at 0x000001E130D4C5C0>]}\n{'iteration': 73, 'empi_dists_seq': [[(100, array([0.79, 0.21])), (100, array([0.79, 0.21])), (100, array([0.79, 0.21]))], [(1000, array([0.773, 0.227])), (1000, array([0.773, 0.227])), (1000, array([0.773, 0.227]))], [(10000, array([0.7674, 0.2326])), (10000, array([0.7674, 0.2326])), (10000, array([0.7674, 0.2326]))], [(100000, array([0.77345, 0.22655])), (100000, array([0.77345, 0.22655])), (100000, array([0.77345, 0.22655]))]], 'obj_sequence': [<quara.objects.state.State object at 0x000001E130D4CA20>, <quara.objects.state.State object at 0x000001E130D4C4A8>, <quara.objects.state.State object at 0x000001E130D4C588>, <quara.objects.state.State object at 0x000001E130D4CF28>]}\n{'iteration': 74, 'empi_dists_seq': [[(100, array([0.79, 0.21])), (100, array([0.79, 0.21])), (100, array([0.79, 0.21]))], [(1000, array([0.768, 0.232])), (1000, array([0.768, 0.232])), (1000, array([0.768, 0.232]))], [(10000, array([0.765, 0.235])), (10000, array([0.765, 0.235])), (10000, array([0.765, 0.235]))], [(100000, array([0.77298, 0.22702])), (100000, array([0.77298, 0.22702])), (100000, array([0.77298, 0.22702]))]], 'obj_sequence': [<quara.objects.state.State object at 0x000001E130D4CF98>, <quara.objects.state.State object at 0x000001E130D4C6A0>, <quara.objects.state.State object at 0x000001E130D4CC50>, <quara.objects.state.State object at 0x000001E130D4C710>]}\n{'iteration': 75, 'empi_dists_seq': [[(100, array([0.77, 0.23])), (100, array([0.77, 0.23])), (100, array([0.77, 0.23]))], [(1000, array([0.772, 0.228])), (1000, array([0.772, 0.228])), (1000, array([0.772, 0.228]))], [(10000, array([0.7728, 0.2272])), (10000, array([0.7728, 0.2272])), (10000, array([0.7728, 0.2272]))], [(100000, array([0.77255, 0.22745])), (100000, array([0.77255, 0.22745])), (100000, array([0.77255, 0.22745]))]], 'obj_sequence': [<quara.objects.state.State object at 0x000001E130D4C550>, <quara.objects.state.State object at 0x000001E130D4C6D8>, <quara.objects.state.State object at 0x000001E130D4C748>, <quara.objects.state.State object at 0x000001E130E3E940>]}\n{'iteration': 76, 'empi_dists_seq': [[(100, array([0.71, 0.29])), (100, array([0.71, 0.29])), (100, array([0.71, 0.29]))], [(1000, array([0.781, 0.219])), (1000, array([0.781, 0.219])), (1000, array([0.781, 0.219]))], [(10000, array([0.7793, 0.2207])), (10000, array([0.7793, 0.2207])), (10000, array([0.7793, 0.2207]))], [(100000, array([0.77439, 0.22561])), (100000, array([0.77439, 0.22561])), (100000, array([0.77439, 0.22561]))]], 'obj_sequence': [<quara.objects.state.State object at 0x000001E133050518>, <quara.objects.state.State object at 0x000001E133050358>, <quara.objects.state.State object at 0x000001E1330507F0>, <quara.objects.state.State object at 0x000001E133050828>]}\n{'iteration': 77, 'empi_dists_seq': [[(100, array([0.78, 0.22])), (100, array([0.78, 0.22])), (100, array([0.78, 0.22]))], [(1000, array([0.797, 0.203])), (1000, array([0.797, 0.203])), (1000, array([0.797, 0.203]))], [(10000, array([0.7807, 0.2193])), (10000, array([0.7807, 0.2193])), (10000, array([0.7807, 0.2193]))], [(100000, array([0.77798, 0.22202])), (100000, array([0.77798, 0.22202])), (100000, array([0.77798, 0.22202]))]], 'obj_sequence': [<quara.objects.state.State object at 0x000001E133050A58>, <quara.objects.state.State object at 0x000001E1330509B0>, <quara.objects.state.State object at 0x000001E133050748>, <quara.objects.state.State object at 0x000001E1330503C8>]}\n{'iteration': 78, 'empi_dists_seq': [[(100, array([0.77, 0.23])), (100, array([0.77, 0.23])), (100, array([0.77, 0.23]))], [(1000, array([0.787, 0.213])), (1000, array([0.787, 0.213])), (1000, array([0.787, 0.213]))], [(10000, array([0.7799, 0.2201])), (10000, array([0.7799, 0.2201])), (10000, array([0.7799, 0.2201]))], [(100000, array([0.77458, 0.22542])), (100000, array([0.77458, 0.22542])), (100000, array([0.77458, 0.22542]))]], 'obj_sequence': [<quara.objects.state.State object at 0x000001E13184AD30>, <quara.objects.state.State object at 0x000001E1330506D8>, <quara.objects.state.State object at 0x000001E133050B70>, <quara.objects.state.State object at 0x000001E133050C50>]}\n{'iteration': 79, 'empi_dists_seq': [[(100, array([0.76, 0.24])), (100, array([0.76, 0.24])), (100, array([0.76, 0.24]))], [(1000, array([0.79, 0.21])), (1000, array([0.79, 0.21])), (1000, array([0.79, 0.21]))], [(10000, array([0.7695, 0.2305])), (10000, array([0.7695, 0.2305])), (10000, array([0.7695, 0.2305]))], [(100000, array([0.77473, 0.22527])), (100000, array([0.77473, 0.22527])), (100000, array([0.77473, 0.22527]))]], 'obj_sequence': [<quara.objects.state.State object at 0x000001E1330500F0>, <quara.objects.state.State object at 0x000001E133050A20>, <quara.objects.state.State object at 0x000001E133050470>, <quara.objects.state.State object at 0x000001E133050080>]}\n{'iteration': 80, 'empi_dists_seq': [[(100, array([0.73, 0.27])), (100, array([0.73, 0.27])), (100, array([0.73, 0.27]))], [(1000, array([0.747, 0.253])), (1000, array([0.747, 0.253])), (1000, array([0.747, 0.253]))], [(10000, array([0.7774, 0.2226])), (10000, array([0.7774, 0.2226])), (10000, array([0.7774, 0.2226]))], [(100000, array([0.77495, 0.22505])), (100000, array([0.77495, 0.22505])), (100000, array([0.77495, 0.22505]))]], 'obj_sequence': [<quara.objects.state.State object at 0x000001E133050048>, <quara.objects.state.State object at 0x000001E133050780>, <quara.objects.state.State object at 0x000001E133050E10>, <quara.objects.state.State object at 0x000001E133050DD8>]}\n{'iteration': 81, 'empi_dists_seq': [[(100, array([0.82, 0.18])), (100, array([0.82, 0.18])), (100, array([0.82, 0.18]))], [(1000, array([0.81, 0.19])), (1000, array([0.81, 0.19])), (1000, array([0.81, 0.19]))], [(10000, array([0.7802, 0.2198])), (10000, array([0.7802, 0.2198])), (10000, array([0.7802, 0.2198]))], [(100000, array([0.77534, 0.22466])), (100000, array([0.77534, 0.22466])), (100000, array([0.77534, 0.22466]))]], 'obj_sequence': [<quara.objects.state.State object at 0x000001E1330505C0>, <quara.objects.state.State object at 0x000001E133050E48>, <quara.objects.state.State object at 0x000001E133050F28>, <quara.objects.state.State object at 0x000001E1330509E8>]}\n{'iteration': 82, 'empi_dists_seq': [[(100, array([0.76, 0.24])), (100, array([0.76, 0.24])), (100, array([0.76, 0.24]))], [(1000, array([0.789, 0.211])), (1000, array([0.789, 0.211])), (1000, array([0.789, 0.211]))], [(10000, array([0.778, 0.222])), (10000, array([0.778, 0.222])), (10000, array([0.778, 0.222]))], [(100000, array([0.7759, 0.2241])), (100000, array([0.7759, 0.2241])), (100000, array([0.7759, 0.2241]))]], 'obj_sequence': [<quara.objects.state.State object at 0x000001E1330504E0>, <quara.objects.state.State object at 0x000001E133050160>, <quara.objects.state.State object at 0x000001E133050FD0>, <quara.objects.state.State object at 0x000001E133050128>]}\n{'iteration': 83, 'empi_dists_seq': [[(100, array([0.78, 0.22])), (100, array([0.78, 0.22])), (100, array([0.78, 0.22]))], [(1000, array([0.774, 0.226])), (1000, array([0.774, 0.226])), (1000, array([0.774, 0.226]))], [(10000, array([0.775, 0.225])), (10000, array([0.775, 0.225])), (10000, array([0.775, 0.225]))], [(100000, array([0.77602, 0.22398])), (100000, array([0.77602, 0.22398])), (100000, array([0.77602, 0.22398]))]], 'obj_sequence': [<quara.objects.state.State object at 0x000001E133050588>, <quara.objects.state.State object at 0x000001E133050EF0>, <quara.objects.state.State object at 0x000001E133050390>, <quara.objects.state.State object at 0x000001E133050978>]}\n{'iteration': 84, 'empi_dists_seq': [[(100, array([0.81, 0.19])), (100, array([0.81, 0.19])), (100, array([0.81, 0.19]))], [(1000, array([0.783, 0.217])), (1000, array([0.783, 0.217])), (1000, array([0.783, 0.217]))], [(10000, array([0.7768, 0.2232])), (10000, array([0.7768, 0.2232])), (10000, array([0.7768, 0.2232]))], [(100000, array([0.77473, 0.22527])), (100000, array([0.77473, 0.22527])), (100000, array([0.77473, 0.22527]))]], 'obj_sequence': [<quara.objects.state.State object at 0x000001E133050C18>, <quara.objects.state.State object at 0x000001E1330502B0>, <quara.objects.state.State object at 0x000001E133050C88>, <quara.objects.state.State object at 0x000001E133050B00>]}\n{'iteration': 85, 'empi_dists_seq': [[(100, array([0.78, 0.22])), (100, array([0.78, 0.22])), (100, array([0.78, 0.22]))], [(1000, array([0.776, 0.224])), (1000, array([0.776, 0.224])), (1000, array([0.776, 0.224]))], [(10000, array([0.7794, 0.2206])), (10000, array([0.7794, 0.2206])), (10000, array([0.7794, 0.2206]))], [(100000, array([0.77468, 0.22532])), (100000, array([0.77468, 0.22532])), (100000, array([0.77468, 0.22532]))]], 'obj_sequence': [<quara.objects.state.State object at 0x000001E1330502E8>, <quara.objects.state.State object at 0x000001E13168BDA0>, <quara.objects.state.State object at 0x000001E13168BB70>, <quara.objects.state.State object at 0x000001E13168B9E8>]}\n{'iteration': 86, 'empi_dists_seq': [[(100, array([0.8, 0.2])), (100, array([0.8, 0.2])), (100, array([0.8, 0.2]))], [(1000, array([0.786, 0.214])), (1000, array([0.786, 0.214])), (1000, array([0.786, 0.214]))], [(10000, array([0.7837, 0.2163])), (10000, array([0.7837, 0.2163])), (10000, array([0.7837, 0.2163]))], [(100000, array([0.77878, 0.22122])), (100000, array([0.77878, 0.22122])), (100000, array([0.77878, 0.22122]))]], 'obj_sequence': [<quara.objects.state.State object at 0x000001E13168B518>, <quara.objects.state.State object at 0x000001E13168B1D0>, <quara.objects.state.State object at 0x000001E13168B358>, <quara.objects.state.State object at 0x000001E13168BB38>]}\n{'iteration': 87, 'empi_dists_seq': [[(100, array([0.78, 0.22])), (100, array([0.78, 0.22])), (100, array([0.78, 0.22]))], [(1000, array([0.777, 0.223])), (1000, array([0.777, 0.223])), (1000, array([0.777, 0.223]))], [(10000, array([0.777, 0.223])), (10000, array([0.777, 0.223])), (10000, array([0.777, 0.223]))], [(100000, array([0.77704, 0.22296])), (100000, array([0.77704, 0.22296])), (100000, array([0.77704, 0.22296]))]], 'obj_sequence': [<quara.objects.state.State object at 0x000001E13168B6A0>, <quara.objects.state.State object at 0x000001E13168B860>, <quara.objects.state.State object at 0x000001E13168B128>, <quara.objects.state.State object at 0x000001E13168BBA8>]}\n{'iteration': 88, 'empi_dists_seq': [[(100, array([0.77, 0.23])), (100, array([0.77, 0.23])), (100, array([0.77, 0.23]))], [(1000, array([0.763, 0.237])), (1000, array([0.763, 0.237])), (1000, array([0.763, 0.237]))], [(10000, array([0.7731, 0.2269])), (10000, array([0.7731, 0.2269])), (10000, array([0.7731, 0.2269]))], [(100000, array([0.77394, 0.22606])), (100000, array([0.77394, 0.22606])), (100000, array([0.77394, 0.22606]))]], 'obj_sequence': [<quara.objects.state.State object at 0x000001E13168BC18>, <quara.objects.state.State object at 0x000001E13168BF60>, <quara.objects.state.State object at 0x000001E13168B208>, <quara.objects.state.State object at 0x000001E131ADD978>]}\n{'iteration': 89, 'empi_dists_seq': [[(100, array([0.82, 0.18])), (100, array([0.82, 0.18])), (100, array([0.82, 0.18]))], [(1000, array([0.761, 0.239])), (1000, array([0.761, 0.239])), (1000, array([0.761, 0.239]))], [(10000, array([0.7747, 0.2253])), (10000, array([0.7747, 0.2253])), (10000, array([0.7747, 0.2253]))], [(100000, array([0.77251, 0.22749])), (100000, array([0.77251, 0.22749])), (100000, array([0.77251, 0.22749]))]], 'obj_sequence': [<quara.objects.state.State object at 0x000001E13168B978>, <quara.objects.state.State object at 0x000001E131ADD2B0>, <quara.objects.state.State object at 0x000001E131ADD438>, <quara.objects.state.State object at 0x000001E131ADD9E8>]}\n{'iteration': 90, 'empi_dists_seq': [[(100, array([0.74, 0.26])), (100, array([0.74, 0.26])), (100, array([0.74, 0.26]))], [(1000, array([0.783, 0.217])), (1000, array([0.783, 0.217])), (1000, array([0.783, 0.217]))], [(10000, array([0.7722, 0.2278])), (10000, array([0.7722, 0.2278])), (10000, array([0.7722, 0.2278]))], [(100000, array([0.77371, 0.22629])), (100000, array([0.77371, 0.22629])), (100000, array([0.77371, 0.22629]))]], 'obj_sequence': [<quara.objects.state.State object at 0x000001E131ADDDD8>, <quara.objects.state.State object at 0x000001E131ADD0B8>, <quara.objects.state.State object at 0x000001E131ADD588>, <quara.objects.state.State object at 0x000001E131ADD6A0>]}\n{'iteration': 91, 'empi_dists_seq': [[(100, array([0.8, 0.2])), (100, array([0.8, 0.2])), (100, array([0.8, 0.2]))], [(1000, array([0.772, 0.228])), (1000, array([0.772, 0.228])), (1000, array([0.772, 0.228]))], [(10000, array([0.7689, 0.2311])), (10000, array([0.7689, 0.2311])), (10000, array([0.7689, 0.2311]))], [(100000, array([0.77444, 0.22556])), (100000, array([0.77444, 0.22556])), (100000, array([0.77444, 0.22556]))]], 'obj_sequence': [<quara.objects.state.State object at 0x000001E131ADDE10>, <quara.objects.state.State object at 0x000001E131ADD780>, <quara.objects.state.State object at 0x000001E131ADD828>, <quara.objects.state.State object at 0x000001E131ADD240>]}\n{'iteration': 92, 'empi_dists_seq': [[(100, array([0.72, 0.28])), (100, array([0.72, 0.28])), (100, array([0.72, 0.28]))], [(1000, array([0.767, 0.233])), (1000, array([0.767, 0.233])), (1000, array([0.767, 0.233]))], [(10000, array([0.7785, 0.2215])), (10000, array([0.7785, 0.2215])), (10000, array([0.7785, 0.2215]))], [(100000, array([0.77293, 0.22707])), (100000, array([0.77293, 0.22707])), (100000, array([0.77293, 0.22707]))]], 'obj_sequence': [<quara.objects.state.State object at 0x000001E131ADD898>, <quara.objects.state.State object at 0x000001E131ADDB00>, <quara.objects.state.State object at 0x000001E131ADDE48>, <quara.objects.state.State object at 0x000001E131ADD5C0>]}\n{'iteration': 93, 'empi_dists_seq': [[(100, array([0.8, 0.2])), (100, array([0.8, 0.2])), (100, array([0.8, 0.2]))], [(1000, array([0.789, 0.211])), (1000, array([0.789, 0.211])), (1000, array([0.789, 0.211]))], [(10000, array([0.7742, 0.2258])), (10000, array([0.7742, 0.2258])), (10000, array([0.7742, 0.2258]))], [(100000, array([0.7748, 0.2252])), (100000, array([0.7748, 0.2252])), (100000, array([0.7748, 0.2252]))]], 'obj_sequence': [<quara.objects.state.State object at 0x000001E131ADDDA0>, <quara.objects.state.State object at 0x000001E131ADDBE0>, <quara.objects.state.State object at 0x000001E131ADD710>, <quara.objects.state.State object at 0x000001E131ADD630>]}\n{'iteration': 94, 'empi_dists_seq': [[(100, array([0.87, 0.13])), (100, array([0.87, 0.13])), (100, array([0.87, 0.13]))], [(1000, array([0.785, 0.215])), (1000, array([0.785, 0.215])), (1000, array([0.785, 0.215]))], [(10000, array([0.7791, 0.2209])), (10000, array([0.7791, 0.2209])), (10000, array([0.7791, 0.2209]))], [(100000, array([0.77503, 0.22497])), (100000, array([0.77503, 0.22497])), (100000, array([0.77503, 0.22497]))]], 'obj_sequence': [<quara.objects.state.State object at 0x000001E131ADDA20>, <quara.objects.state.State object at 0x000001E131ADDA58>, <quara.objects.state.State object at 0x000001E131ADD2E8>, <quara.objects.state.State object at 0x000001E131ADD550>]}\n{'iteration': 95, 'empi_dists_seq': [[(100, array([0.74, 0.26])), (100, array([0.74, 0.26])), (100, array([0.74, 0.26]))], [(1000, array([0.785, 0.215])), (1000, array([0.785, 0.215])), (1000, array([0.785, 0.215]))], [(10000, array([0.7771, 0.2229])), (10000, array([0.7771, 0.2229])), (10000, array([0.7771, 0.2229]))], [(100000, array([0.77393, 0.22607])), (100000, array([0.77393, 0.22607])), (100000, array([0.77393, 0.22607]))]], 'obj_sequence': [<quara.objects.state.State object at 0x000001E131ADDCC0>, <quara.objects.state.State object at 0x000001E131ADD080>, <quara.objects.state.State object at 0x000001E131ADD390>, <quara.objects.state.State object at 0x000001E131ADD4A8>]}\n{'iteration': 96, 'empi_dists_seq': [[(100, array([0.76, 0.24])), (100, array([0.76, 0.24])), (100, array([0.76, 0.24]))], [(1000, array([0.769, 0.231])), (1000, array([0.769, 0.231])), (1000, array([0.769, 0.231]))], [(10000, array([0.7745, 0.2255])), (10000, array([0.7745, 0.2255])), (10000, array([0.7745, 0.2255]))], [(100000, array([0.77675, 0.22325])), (100000, array([0.77675, 0.22325])), (100000, array([0.77675, 0.22325]))]], 'obj_sequence': [<quara.objects.state.State object at 0x000001E131ADD668>, <quara.objects.state.State object at 0x000001E131ADDEB8>, <quara.objects.state.State object at 0x000001E131ADD1D0>, <quara.objects.state.State object at 0x000001E131ADDCF8>]}\n{'iteration': 97, 'empi_dists_seq': [[(100, array([0.78, 0.22])), (100, array([0.78, 0.22])), (100, array([0.78, 0.22]))], [(1000, array([0.769, 0.231])), (1000, array([0.769, 0.231])), (1000, array([0.769, 0.231]))], [(10000, array([0.7683, 0.2317])), (10000, array([0.7683, 0.2317])), (10000, array([0.7683, 0.2317]))], [(100000, array([0.77347, 0.22653])), (100000, array([0.77347, 0.22653])), (100000, array([0.77347, 0.22653]))]], 'obj_sequence': [<quara.objects.state.State object at 0x000001E131ADD7B8>, <quara.objects.state.State object at 0x000001E131ADD7F0>, <quara.objects.state.State object at 0x000001E131ADD748>, <quara.objects.state.State object at 0x000001E131ADD208>]}\n{'iteration': 98, 'empi_dists_seq': [[(100, array([0.82, 0.18])), (100, array([0.82, 0.18])), (100, array([0.82, 0.18]))], [(1000, array([0.777, 0.223])), (1000, array([0.777, 0.223])), (1000, array([0.777, 0.223]))], [(10000, array([0.7758, 0.2242])), (10000, array([0.7758, 0.2242])), (10000, array([0.7758, 0.2242]))], [(100000, array([0.77279, 0.22721])), (100000, array([0.77279, 0.22721])), (100000, array([0.77279, 0.22721]))]], 'obj_sequence': [<quara.objects.state.State object at 0x000001E131ADDB70>, <quara.objects.state.State object at 0x000001E131ADD048>, <quara.objects.state.State object at 0x000001E131ADD8D0>, <quara.objects.state.State object at 0x000001E131ADD908>]}\n{'iteration': 99, 'empi_dists_seq': [[(100, array([0.76, 0.24])), (100, array([0.76, 0.24])), (100, array([0.76, 0.24]))], [(1000, array([0.745, 0.255])), (1000, array([0.745, 0.255])), (1000, array([0.745, 0.255]))], [(10000, array([0.7745, 0.2255])), (10000, array([0.7745, 0.2255])), (10000, array([0.7745, 0.2255]))], [(100000, array([0.77477, 0.22523])), (100000, array([0.77477, 0.22523])), (100000, array([0.77477, 0.22523]))]], 'obj_sequence': [<quara.objects.state.State object at 0x000001E131ADDF28>, <quara.objects.state.State object at 0x000001E131ADD128>, <quara.objects.state.State object at 0x000001E131ADDAC8>, <quara.objects.state.State object at 0x000001E131ADD6D8>]}\ntime(s)=103.14343690872192\nparam=affine, est=linear: [0.010392101463338514, 0.0010915468775608598, 0.00012798254420064002, 1.2024892099172817e-05]\nparam=affine, est=proj  : [0.0043018103661299845, 0.0007477400218318292, 0.00012798254420063983, 1.202489209917263e-05]\nparam=linear, est=linear: [0.01039210146333851, 0.001091546877560857, 0.0001279825442006395, 1.2024892099172732e-05]\nparam=linear, est=proj  : [0.0043018103661299914, 0.0007477400218318306, 0.00012798254420063972, 1.2024892099172571e-05]\n"
    },
    {
     "output_type": "display_data",
     "data": {
      "application/vnd.plotly.v1+json": {
       "config": {
        "plotlyServerURL": "https://plot.ly"
       },
       "data": [
        {
         "mode": "lines+markers",
         "name": "param=affine, est=linear",
         "type": "scatter",
         "x": [
          100,
          1000,
          10000,
          100000
         ],
         "y": [
          0.010392101463338514,
          0.0010915468775608598,
          0.00012798254420064002,
          0.000012024892099172817
         ]
        },
        {
         "mode": "lines+markers",
         "name": "param=affine, est=proj",
         "type": "scatter",
         "x": [
          100,
          1000,
          10000,
          100000
         ],
         "y": [
          0.0043018103661299845,
          0.0007477400218318292,
          0.00012798254420063983,
          0.00001202489209917263
         ]
        },
        {
         "mode": "lines+markers",
         "name": "param=linear, est=linear",
         "type": "scatter",
         "x": [
          100,
          1000,
          10000,
          100000
         ],
         "y": [
          0.01039210146333851,
          0.001091546877560857,
          0.0001279825442006395,
          0.000012024892099172732
         ]
        },
        {
         "mode": "lines+markers",
         "name": "param=linear, est=proj",
         "type": "scatter",
         "x": [
          100,
          1000,
          10000,
          100000
         ],
         "y": [
          0.0043018103661299914,
          0.0007477400218318306,
          0.00012798254420063972,
          0.000012024892099172571
         ]
        }
       ],
       "layout": {
        "template": {
         "data": {
          "bar": [
           {
            "error_x": {
             "color": "#2a3f5f"
            },
            "error_y": {
             "color": "#2a3f5f"
            },
            "marker": {
             "line": {
              "color": "#E5ECF6",
              "width": 0.5
             }
            },
            "type": "bar"
           }
          ],
          "barpolar": [
           {
            "marker": {
             "line": {
              "color": "#E5ECF6",
              "width": 0.5
             }
            },
            "type": "barpolar"
           }
          ],
          "carpet": [
           {
            "aaxis": {
             "endlinecolor": "#2a3f5f",
             "gridcolor": "white",
             "linecolor": "white",
             "minorgridcolor": "white",
             "startlinecolor": "#2a3f5f"
            },
            "baxis": {
             "endlinecolor": "#2a3f5f",
             "gridcolor": "white",
             "linecolor": "white",
             "minorgridcolor": "white",
             "startlinecolor": "#2a3f5f"
            },
            "type": "carpet"
           }
          ],
          "choropleth": [
           {
            "colorbar": {
             "outlinewidth": 0,
             "ticks": ""
            },
            "type": "choropleth"
           }
          ],
          "contour": [
           {
            "colorbar": {
             "outlinewidth": 0,
             "ticks": ""
            },
            "colorscale": [
             [
              0,
              "#0d0887"
             ],
             [
              0.1111111111111111,
              "#46039f"
             ],
             [
              0.2222222222222222,
              "#7201a8"
             ],
             [
              0.3333333333333333,
              "#9c179e"
             ],
             [
              0.4444444444444444,
              "#bd3786"
             ],
             [
              0.5555555555555556,
              "#d8576b"
             ],
             [
              0.6666666666666666,
              "#ed7953"
             ],
             [
              0.7777777777777778,
              "#fb9f3a"
             ],
             [
              0.8888888888888888,
              "#fdca26"
             ],
             [
              1,
              "#f0f921"
             ]
            ],
            "type": "contour"
           }
          ],
          "contourcarpet": [
           {
            "colorbar": {
             "outlinewidth": 0,
             "ticks": ""
            },
            "type": "contourcarpet"
           }
          ],
          "heatmap": [
           {
            "colorbar": {
             "outlinewidth": 0,
             "ticks": ""
            },
            "colorscale": [
             [
              0,
              "#0d0887"
             ],
             [
              0.1111111111111111,
              "#46039f"
             ],
             [
              0.2222222222222222,
              "#7201a8"
             ],
             [
              0.3333333333333333,
              "#9c179e"
             ],
             [
              0.4444444444444444,
              "#bd3786"
             ],
             [
              0.5555555555555556,
              "#d8576b"
             ],
             [
              0.6666666666666666,
              "#ed7953"
             ],
             [
              0.7777777777777778,
              "#fb9f3a"
             ],
             [
              0.8888888888888888,
              "#fdca26"
             ],
             [
              1,
              "#f0f921"
             ]
            ],
            "type": "heatmap"
           }
          ],
          "heatmapgl": [
           {
            "colorbar": {
             "outlinewidth": 0,
             "ticks": ""
            },
            "colorscale": [
             [
              0,
              "#0d0887"
             ],
             [
              0.1111111111111111,
              "#46039f"
             ],
             [
              0.2222222222222222,
              "#7201a8"
             ],
             [
              0.3333333333333333,
              "#9c179e"
             ],
             [
              0.4444444444444444,
              "#bd3786"
             ],
             [
              0.5555555555555556,
              "#d8576b"
             ],
             [
              0.6666666666666666,
              "#ed7953"
             ],
             [
              0.7777777777777778,
              "#fb9f3a"
             ],
             [
              0.8888888888888888,
              "#fdca26"
             ],
             [
              1,
              "#f0f921"
             ]
            ],
            "type": "heatmapgl"
           }
          ],
          "histogram": [
           {
            "marker": {
             "colorbar": {
              "outlinewidth": 0,
              "ticks": ""
             }
            },
            "type": "histogram"
           }
          ],
          "histogram2d": [
           {
            "colorbar": {
             "outlinewidth": 0,
             "ticks": ""
            },
            "colorscale": [
             [
              0,
              "#0d0887"
             ],
             [
              0.1111111111111111,
              "#46039f"
             ],
             [
              0.2222222222222222,
              "#7201a8"
             ],
             [
              0.3333333333333333,
              "#9c179e"
             ],
             [
              0.4444444444444444,
              "#bd3786"
             ],
             [
              0.5555555555555556,
              "#d8576b"
             ],
             [
              0.6666666666666666,
              "#ed7953"
             ],
             [
              0.7777777777777778,
              "#fb9f3a"
             ],
             [
              0.8888888888888888,
              "#fdca26"
             ],
             [
              1,
              "#f0f921"
             ]
            ],
            "type": "histogram2d"
           }
          ],
          "histogram2dcontour": [
           {
            "colorbar": {
             "outlinewidth": 0,
             "ticks": ""
            },
            "colorscale": [
             [
              0,
              "#0d0887"
             ],
             [
              0.1111111111111111,
              "#46039f"
             ],
             [
              0.2222222222222222,
              "#7201a8"
             ],
             [
              0.3333333333333333,
              "#9c179e"
             ],
             [
              0.4444444444444444,
              "#bd3786"
             ],
             [
              0.5555555555555556,
              "#d8576b"
             ],
             [
              0.6666666666666666,
              "#ed7953"
             ],
             [
              0.7777777777777778,
              "#fb9f3a"
             ],
             [
              0.8888888888888888,
              "#fdca26"
             ],
             [
              1,
              "#f0f921"
             ]
            ],
            "type": "histogram2dcontour"
           }
          ],
          "mesh3d": [
           {
            "colorbar": {
             "outlinewidth": 0,
             "ticks": ""
            },
            "type": "mesh3d"
           }
          ],
          "parcoords": [
           {
            "line": {
             "colorbar": {
              "outlinewidth": 0,
              "ticks": ""
             }
            },
            "type": "parcoords"
           }
          ],
          "pie": [
           {
            "automargin": true,
            "type": "pie"
           }
          ],
          "scatter": [
           {
            "marker": {
             "colorbar": {
              "outlinewidth": 0,
              "ticks": ""
             }
            },
            "type": "scatter"
           }
          ],
          "scatter3d": [
           {
            "line": {
             "colorbar": {
              "outlinewidth": 0,
              "ticks": ""
             }
            },
            "marker": {
             "colorbar": {
              "outlinewidth": 0,
              "ticks": ""
             }
            },
            "type": "scatter3d"
           }
          ],
          "scattercarpet": [
           {
            "marker": {
             "colorbar": {
              "outlinewidth": 0,
              "ticks": ""
             }
            },
            "type": "scattercarpet"
           }
          ],
          "scattergeo": [
           {
            "marker": {
             "colorbar": {
              "outlinewidth": 0,
              "ticks": ""
             }
            },
            "type": "scattergeo"
           }
          ],
          "scattergl": [
           {
            "marker": {
             "colorbar": {
              "outlinewidth": 0,
              "ticks": ""
             }
            },
            "type": "scattergl"
           }
          ],
          "scattermapbox": [
           {
            "marker": {
             "colorbar": {
              "outlinewidth": 0,
              "ticks": ""
             }
            },
            "type": "scattermapbox"
           }
          ],
          "scatterpolar": [
           {
            "marker": {
             "colorbar": {
              "outlinewidth": 0,
              "ticks": ""
             }
            },
            "type": "scatterpolar"
           }
          ],
          "scatterpolargl": [
           {
            "marker": {
             "colorbar": {
              "outlinewidth": 0,
              "ticks": ""
             }
            },
            "type": "scatterpolargl"
           }
          ],
          "scatterternary": [
           {
            "marker": {
             "colorbar": {
              "outlinewidth": 0,
              "ticks": ""
             }
            },
            "type": "scatterternary"
           }
          ],
          "surface": [
           {
            "colorbar": {
             "outlinewidth": 0,
             "ticks": ""
            },
            "colorscale": [
             [
              0,
              "#0d0887"
             ],
             [
              0.1111111111111111,
              "#46039f"
             ],
             [
              0.2222222222222222,
              "#7201a8"
             ],
             [
              0.3333333333333333,
              "#9c179e"
             ],
             [
              0.4444444444444444,
              "#bd3786"
             ],
             [
              0.5555555555555556,
              "#d8576b"
             ],
             [
              0.6666666666666666,
              "#ed7953"
             ],
             [
              0.7777777777777778,
              "#fb9f3a"
             ],
             [
              0.8888888888888888,
              "#fdca26"
             ],
             [
              1,
              "#f0f921"
             ]
            ],
            "type": "surface"
           }
          ],
          "table": [
           {
            "cells": {
             "fill": {
              "color": "#EBF0F8"
             },
             "line": {
              "color": "white"
             }
            },
            "header": {
             "fill": {
              "color": "#C8D4E3"
             },
             "line": {
              "color": "white"
             }
            },
            "type": "table"
           }
          ]
         },
         "layout": {
          "annotationdefaults": {
           "arrowcolor": "#2a3f5f",
           "arrowhead": 0,
           "arrowwidth": 1
          },
          "coloraxis": {
           "colorbar": {
            "outlinewidth": 0,
            "ticks": ""
           }
          },
          "colorscale": {
           "diverging": [
            [
             0,
             "#8e0152"
            ],
            [
             0.1,
             "#c51b7d"
            ],
            [
             0.2,
             "#de77ae"
            ],
            [
             0.3,
             "#f1b6da"
            ],
            [
             0.4,
             "#fde0ef"
            ],
            [
             0.5,
             "#f7f7f7"
            ],
            [
             0.6,
             "#e6f5d0"
            ],
            [
             0.7,
             "#b8e186"
            ],
            [
             0.8,
             "#7fbc41"
            ],
            [
             0.9,
             "#4d9221"
            ],
            [
             1,
             "#276419"
            ]
           ],
           "sequential": [
            [
             0,
             "#0d0887"
            ],
            [
             0.1111111111111111,
             "#46039f"
            ],
            [
             0.2222222222222222,
             "#7201a8"
            ],
            [
             0.3333333333333333,
             "#9c179e"
            ],
            [
             0.4444444444444444,
             "#bd3786"
            ],
            [
             0.5555555555555556,
             "#d8576b"
            ],
            [
             0.6666666666666666,
             "#ed7953"
            ],
            [
             0.7777777777777778,
             "#fb9f3a"
            ],
            [
             0.8888888888888888,
             "#fdca26"
            ],
            [
             1,
             "#f0f921"
            ]
           ],
           "sequentialminus": [
            [
             0,
             "#0d0887"
            ],
            [
             0.1111111111111111,
             "#46039f"
            ],
            [
             0.2222222222222222,
             "#7201a8"
            ],
            [
             0.3333333333333333,
             "#9c179e"
            ],
            [
             0.4444444444444444,
             "#bd3786"
            ],
            [
             0.5555555555555556,
             "#d8576b"
            ],
            [
             0.6666666666666666,
             "#ed7953"
            ],
            [
             0.7777777777777778,
             "#fb9f3a"
            ],
            [
             0.8888888888888888,
             "#fdca26"
            ],
            [
             1,
             "#f0f921"
            ]
           ]
          },
          "colorway": [
           "#636efa",
           "#EF553B",
           "#00cc96",
           "#ab63fa",
           "#FFA15A",
           "#19d3f3",
           "#FF6692",
           "#B6E880",
           "#FF97FF",
           "#FECB52"
          ],
          "font": {
           "color": "#2a3f5f"
          },
          "geo": {
           "bgcolor": "white",
           "lakecolor": "white",
           "landcolor": "#E5ECF6",
           "showlakes": true,
           "showland": true,
           "subunitcolor": "white"
          },
          "hoverlabel": {
           "align": "left"
          },
          "hovermode": "closest",
          "mapbox": {
           "style": "light"
          },
          "paper_bgcolor": "white",
          "plot_bgcolor": "#E5ECF6",
          "polar": {
           "angularaxis": {
            "gridcolor": "white",
            "linecolor": "white",
            "ticks": ""
           },
           "bgcolor": "#E5ECF6",
           "radialaxis": {
            "gridcolor": "white",
            "linecolor": "white",
            "ticks": ""
           }
          },
          "scene": {
           "xaxis": {
            "backgroundcolor": "#E5ECF6",
            "gridcolor": "white",
            "gridwidth": 2,
            "linecolor": "white",
            "showbackground": true,
            "ticks": "",
            "zerolinecolor": "white"
           },
           "yaxis": {
            "backgroundcolor": "#E5ECF6",
            "gridcolor": "white",
            "gridwidth": 2,
            "linecolor": "white",
            "showbackground": true,
            "ticks": "",
            "zerolinecolor": "white"
           },
           "zaxis": {
            "backgroundcolor": "#E5ECF6",
            "gridcolor": "white",
            "gridwidth": 2,
            "linecolor": "white",
            "showbackground": true,
            "ticks": "",
            "zerolinecolor": "white"
           }
          },
          "shapedefaults": {
           "line": {
            "color": "#2a3f5f"
           }
          },
          "ternary": {
           "aaxis": {
            "gridcolor": "white",
            "linecolor": "white",
            "ticks": ""
           },
           "baxis": {
            "gridcolor": "white",
            "linecolor": "white",
            "ticks": ""
           },
           "bgcolor": "#E5ECF6",
           "caxis": {
            "gridcolor": "white",
            "linecolor": "white",
            "ticks": ""
           }
          },
          "title": {
           "x": 0.05
          },
          "xaxis": {
           "automargin": true,
           "gridcolor": "white",
           "linecolor": "white",
           "ticks": "",
           "title": {
            "standoff": 15
           },
           "zerolinecolor": "white",
           "zerolinewidth": 2
          },
          "yaxis": {
           "automargin": true,
           "gridcolor": "white",
           "linecolor": "white",
           "ticks": "",
           "title": {
            "standoff": 15
           },
           "zerolinecolor": "white",
           "zerolinewidth": 2
          }
         }
        },
        "title": {
         "text": "QST"
        },
        "xaxis": {
         "title": {
          "text": "number of data"
         },
         "type": "log"
        },
        "yaxis": {
         "title": {
          "text": "Mean Square Error of estimates and true"
         },
         "type": "log"
        }
       }
      }
     },
     "metadata": {}
    }
   ],
   "source": [
    "vec = np.array([1/np.sqrt(2), 0.95/np.sqrt(6), 0.95/np.sqrt(6), 0.95/np.sqrt(6)],dtype=np.float64)\n",
    "true_object = State(c_sys, vec)\n",
    "num_data = [100, 1000, 10000, 100000]\n",
    "iterations = 100\n",
    "\n",
    "param_affine_est_linear = estimate(\"z0\", true_object, num_data, iterations, on_para_eq_constraint=True)\n",
    "param_linear_est_linear = estimate(\"z0\", true_object, num_data, iterations, on_para_eq_constraint=False)\n",
    "\n",
    "#####\n",
    "# calc mse(param_affine)\n",
    "param_affine_est_linear_tmp = [list(obj_sequence) for obj_sequence in zip(*param_affine_est_linear)]\n",
    "mses_param_affine_est_linear = [\n",
    "    calc_mse(obj_sequence, [true_object] * len(obj_sequence)) for obj_sequence in param_affine_est_linear_tmp\n",
    "]\n",
    "mses_param_affine_est_proj = [\n",
    "    calc_mse_proj(obj_sequence, [true_object] * len(obj_sequence)) for obj_sequence in param_affine_est_linear_tmp\n",
    "]\n",
    "print(f\"param=affine, est=linear: {mses_param_affine_est_linear}\")\n",
    "print(f\"param=affine, est=proj  : {mses_param_affine_est_proj}\")\n",
    "\n",
    "# calc mse(param_linear)\n",
    "param_linear_est_linear_tmp = [list(obj_sequence) for obj_sequence in zip(*param_linear_est_linear)]\n",
    "mses_param_linear_est_linear = [\n",
    "    calc_mse(obj_sequence, [true_object] * len(obj_sequence)) for obj_sequence in param_linear_est_linear_tmp\n",
    "]\n",
    "mses_param_linear_est_proj = [\n",
    "    calc_mse_proj(obj_sequence, [true_object] * len(obj_sequence)) for obj_sequence in param_linear_est_linear_tmp\n",
    "]\n",
    "print(f\"param=linear, est=linear: {mses_param_linear_est_linear}\")\n",
    "print(f\"param=linear, est=proj  : {mses_param_linear_est_proj}\")\n",
    "\n",
    "#####\n",
    "data_param_affine_est_linear = go.Scatter(name='param=affine, est=linear', x=num_data, y=mses_param_affine_est_linear, mode='lines+markers')\n",
    "data_param_affine_est_proj = go.Scatter(name='param=affine, est=proj', x=num_data, y=mses_param_affine_est_proj, mode='lines+markers')\n",
    "data_param_linear_est_linear = go.Scatter(name='param=linear, est=linear', x=num_data, y=mses_param_linear_est_linear, mode='lines+markers')\n",
    "data_param_linear_est_proj = go.Scatter(name='param=linear, est=proj', x=num_data, y=mses_param_linear_est_proj, mode='lines+markers')\n",
    "data = [data_param_affine_est_linear, data_param_affine_est_proj, data_param_linear_est_linear, data_param_linear_est_proj]\n",
    "\n",
    "layout = go.Layout(title='QST', xaxis_title_text=\"number of data\", yaxis_title_text=\"Mean Square Error of estimates and true\", xaxis_type=\"log\", yaxis_type=\"log\")\n",
    "fig = go.Figure(data=data, layout=layout)\n",
    "fig.show()"
   ]
  },
  {
   "cell_type": "markdown",
   "metadata": {},
   "source": [
    "# xxxxxx"
   ]
  },
  {
   "cell_type": "code",
   "execution_count": 1,
   "metadata": {},
   "outputs": [],
   "source": [
    "import numpy as np\n",
    "\n",
    "from quara.data_analyzer import data_analyzer\n",
    "from quara.objects.composite_system import CompositeSystem\n",
    "from quara.objects.elemental_system import ElementalSystem\n",
    "from quara.objects.matrix_basis import get_normalized_pauli_basis\n",
    "from quara.objects.povm import (\n",
    "    get_x_measurement,\n",
    "    get_y_measurement,\n",
    "    get_z_measurement,\n",
    ")\n",
    "from quara.objects.state import State\n",
    "from quara.protocol.qtomography.standard.linear_estimator import LinearEstimator\n",
    "from quara.protocol.qtomography.standard.projected_linear_estimator import ProjectedLinearEstimator"
   ]
  },
  {
   "cell_type": "code",
   "execution_count": 2,
   "metadata": {},
   "outputs": [],
   "source": [
    "# setup system\n",
    "e_sys = ElementalSystem(0, get_normalized_pauli_basis())\n",
    "c_sys = CompositeSystem([e_sys])\n",
    "\n",
    "povm_x = get_x_measurement(c_sys)\n",
    "povm_y = get_y_measurement(c_sys)\n",
    "povm_z = get_z_measurement(c_sys)\n",
    "povms = [povm_x, povm_y, povm_z]\n",
    "\n",
    "# settings\n",
    "vec = np.array([1/np.sqrt(2), 1/np.sqrt(6), 1/np.sqrt(6), 1/np.sqrt(6)], dtype=np.float64)\n",
    "true_object = State(c_sys, vec, is_physicality_required=False)\n",
    "num_data = [100, 1000, 10000, 100000]\n",
    "iteration = 10"
   ]
  },
  {
   "cell_type": "code",
   "execution_count": 3,
   "metadata": {
    "tags": []
   },
   "outputs": [
    {
     "output_type": "stream",
     "name": "stdout",
     "text": "{'iteration': 1, 'data': [[(100, array([0.83, 0.17])), (100, array([0.83, 0.17])), (100, array([0.83, 0.17]))], [(1000, array([0.787, 0.213])), (1000, array([0.787, 0.213])), (1000, array([0.787, 0.213]))], [(10000, array([0.791, 0.209])), (10000, array([0.791, 0.209])), (10000, array([0.791, 0.209]))], [(100000, array([0.78824, 0.21176])), (100000, array([0.78824, 0.21176])), (100000, array([0.78824, 0.21176]))]], 'estimated_var_sequence': [array([0.46669048, 0.46669048, 0.46669048]), array([0.40587929, 0.40587929, 0.40587929]), array([0.41153615, 0.41153615, 0.41153615]), array([0.40763292, 0.40763292, 0.40763292])], 'computation_times': [0.0, 0.0, 0.0, 0.0]}\n{'iteration': 2, 'data': [[(100, array([0.8, 0.2])), (100, array([0.8, 0.2])), (100, array([0.8, 0.2]))], [(1000, array([0.791, 0.209])), (1000, array([0.791, 0.209])), (1000, array([0.791, 0.209]))], [(10000, array([0.793, 0.207])), (10000, array([0.793, 0.207])), (10000, array([0.793, 0.207]))], [(100000, array([0.78839, 0.21161])), (100000, array([0.78839, 0.21161])), (100000, array([0.78839, 0.21161]))]], 'estimated_var_sequence': [array([0.42426407, 0.42426407, 0.42426407]), array([0.41153615, 0.41153615, 0.41153615]), array([0.41436457, 0.41436457, 0.41436457]), array([0.40784505, 0.40784505, 0.40784505])], 'computation_times': [0.0, 0.0, 0.0, 0.0]}\n{'iteration': 3, 'data': [[(100, array([0.85, 0.15])), (100, array([0.85, 0.15])), (100, array([0.85, 0.15]))], [(1000, array([0.797, 0.203])), (1000, array([0.797, 0.203])), (1000, array([0.797, 0.203]))], [(10000, array([0.7902, 0.2098])), (10000, array([0.7902, 0.2098])), (10000, array([0.7902, 0.2098]))], [(100000, array([0.78929, 0.21071])), (100000, array([0.78929, 0.21071])), (100000, array([0.78929, 0.21071]))]], 'estimated_var_sequence': [array([0.49497475, 0.49497475, 0.49497475]), array([0.42002143, 0.42002143, 0.42002143]), array([0.41040478, 0.41040478, 0.41040478]), array([0.40911784, 0.40911784, 0.40911784])], 'computation_times': [0.0, 0.0, 0.0, 0.0]}\n{'iteration': 4, 'data': [[(100, array([0.87, 0.13])), (100, array([0.87, 0.13])), (100, array([0.87, 0.13]))], [(1000, array([0.796, 0.204])), (1000, array([0.796, 0.204])), (1000, array([0.796, 0.204]))], [(10000, array([0.7912, 0.2088])), (10000, array([0.7912, 0.2088])), (10000, array([0.7912, 0.2088]))], [(100000, array([0.78672, 0.21328])), (100000, array([0.78672, 0.21328])), (100000, array([0.78672, 0.21328]))]], 'estimated_var_sequence': [array([0.52325902, 0.52325902, 0.52325902]), array([0.41860721, 0.41860721, 0.41860721]), array([0.41181899, 0.41181899, 0.41181899]), array([0.40548331, 0.40548331, 0.40548331])], 'computation_times': [0.0, 0.0, 0.0, 0.001001119613647461]}\n{'iteration': 5, 'data': [[(100, array([0.8, 0.2])), (100, array([0.8, 0.2])), (100, array([0.8, 0.2]))], [(1000, array([0.783, 0.217])), (1000, array([0.783, 0.217])), (1000, array([0.783, 0.217]))], [(10000, array([0.7874, 0.2126])), (10000, array([0.7874, 0.2126])), (10000, array([0.7874, 0.2126]))], [(100000, array([0.78711, 0.21289])), (100000, array([0.78711, 0.21289])), (100000, array([0.78711, 0.21289]))]], 'estimated_var_sequence': [array([0.42426407, 0.42426407, 0.42426407]), array([0.40022244, 0.40022244, 0.40022244]), array([0.40644498, 0.40644498, 0.40644498]), array([0.40603486, 0.40603486, 0.40603486])], 'computation_times': [0.0, 0.0, 0.0, 0.0]}\n{'iteration': 6, 'data': [[(100, array([0.74, 0.26])), (100, array([0.74, 0.26])), (100, array([0.74, 0.26]))], [(1000, array([0.795, 0.205])), (1000, array([0.795, 0.205])), (1000, array([0.795, 0.205]))], [(10000, array([0.7877, 0.2123])), (10000, array([0.7877, 0.2123])), (10000, array([0.7877, 0.2123]))], [(100000, array([0.78803, 0.21197])), (100000, array([0.78803, 0.21197])), (100000, array([0.78803, 0.21197]))]], 'estimated_var_sequence': [array([0.33941125, 0.33941125, 0.33941125]), array([0.417193, 0.417193, 0.417193]), array([0.40686924, 0.40686924, 0.40686924]), array([0.40733593, 0.40733593, 0.40733593])], 'computation_times': [0.0, 0.0, 0.0, 0.0]}\n{'iteration': 7, 'data': [[(100, array([0.8, 0.2])), (100, array([0.8, 0.2])), (100, array([0.8, 0.2]))], [(1000, array([0.781, 0.219])), (1000, array([0.781, 0.219])), (1000, array([0.781, 0.219]))], [(10000, array([0.7819, 0.2181])), (10000, array([0.7819, 0.2181])), (10000, array([0.7819, 0.2181]))], [(100000, array([0.78947, 0.21053])), (100000, array([0.78947, 0.21053])), (100000, array([0.78947, 0.21053]))]], 'estimated_var_sequence': [array([0.42426407, 0.42426407, 0.42426407]), array([0.39739401, 0.39739401, 0.39739401]), array([0.3986668, 0.3986668, 0.3986668]), array([0.4093724, 0.4093724, 0.4093724])], 'computation_times': [0.0, 0.0, 0.0, 0.0]}\n{'iteration': 8, 'data': [[(100, array([0.81, 0.19])), (100, array([0.81, 0.19])), (100, array([0.81, 0.19]))], [(1000, array([0.781, 0.219])), (1000, array([0.781, 0.219])), (1000, array([0.781, 0.219]))], [(10000, array([0.7888, 0.2112])), (10000, array([0.7888, 0.2112])), (10000, array([0.7888, 0.2112]))], [(100000, array([0.78762, 0.21238])), (100000, array([0.78762, 0.21238])), (100000, array([0.78762, 0.21238]))]], 'estimated_var_sequence': [array([0.4384062, 0.4384062, 0.4384062]), array([0.39739401, 0.39739401, 0.39739401]), array([0.40842488, 0.40842488, 0.40842488]), array([0.4067561, 0.4067561, 0.4067561])], 'computation_times': [0.0009951591491699219, 0.0, 0.0, 0.0]}\n{'iteration': 9, 'data': [[(100, array([0.8, 0.2])), (100, array([0.8, 0.2])), (100, array([0.8, 0.2]))], [(1000, array([0.798, 0.202])), (1000, array([0.798, 0.202])), (1000, array([0.798, 0.202]))], [(10000, array([0.7964, 0.2036])), (10000, array([0.7964, 0.2036])), (10000, array([0.7964, 0.2036]))], [(100000, array([0.79114, 0.20886])), (100000, array([0.79114, 0.20886])), (100000, array([0.79114, 0.20886]))]], 'estimated_var_sequence': [array([0.42426407, 0.42426407, 0.42426407]), array([0.42143564, 0.42143564, 0.42143564]), array([0.4191729, 0.4191729, 0.4191729]), array([0.41173414, 0.41173414, 0.41173414])], 'computation_times': [0.0, 0.0, 0.0, 0.0]}\n{'iteration': 10, 'data': [[(100, array([0.81, 0.19])), (100, array([0.81, 0.19])), (100, array([0.81, 0.19]))], [(1000, array([0.803, 0.197])), (1000, array([0.803, 0.197])), (1000, array([0.803, 0.197]))], [(10000, array([0.7894, 0.2106])), (10000, array([0.7894, 0.2106])), (10000, array([0.7894, 0.2106]))], [(100000, array([0.78843, 0.21157])), (100000, array([0.78843, 0.21157])), (100000, array([0.78843, 0.21157]))]], 'estimated_var_sequence': [array([0.4384062, 0.4384062, 0.4384062]), array([0.42850671, 0.42850671, 0.42850671]), array([0.4092734, 0.4092734, 0.4092734]), array([0.40790162, 0.40790162, 0.40790162])], 'computation_times': [0.0, 0.0, 0.0, 0.0]}\n"
    }
   ],
   "source": [
    "estimator = LinearEstimator()\n",
    "\n",
    "# calculate\n",
    "results_affine_est_linear = data_analyzer.calc_estimate(povms, true_object, num_data, iteration, estimator, on_para_eq_constraint=True)\n",
    "param_affine_est_linear, time_affine_est_linear = data_analyzer.convert_to_series(results_affine_est_linear, true_object)"
   ]
  },
  {
   "cell_type": "code",
   "execution_count": 11,
   "metadata": {
    "tags": []
   },
   "outputs": [
    {
     "output_type": "stream",
     "name": "stdout",
     "text": "[0.05910408813987257, 0.06824604305455613, 0.06556260693088675, 0.06726986926873114]\n"
    },
    {
     "output_type": "display_data",
     "data": {
      "application/vnd.plotly.v1+json": {
       "config": {
        "plotlyServerURL": "https://plot.ly"
       },
       "data": [
        {
         "mode": "lines+markers",
         "type": "scatter",
         "x": [
          100,
          1000,
          10000,
          100000
         ],
         "y": [
          0.05910408813987257,
          0.06824604305455613,
          0.06556260693088675,
          0.06726986926873114
         ]
        }
       ],
       "layout": {
        "template": {
         "data": {
          "bar": [
           {
            "error_x": {
             "color": "#2a3f5f"
            },
            "error_y": {
             "color": "#2a3f5f"
            },
            "marker": {
             "line": {
              "color": "#E5ECF6",
              "width": 0.5
             }
            },
            "type": "bar"
           }
          ],
          "barpolar": [
           {
            "marker": {
             "line": {
              "color": "#E5ECF6",
              "width": 0.5
             }
            },
            "type": "barpolar"
           }
          ],
          "carpet": [
           {
            "aaxis": {
             "endlinecolor": "#2a3f5f",
             "gridcolor": "white",
             "linecolor": "white",
             "minorgridcolor": "white",
             "startlinecolor": "#2a3f5f"
            },
            "baxis": {
             "endlinecolor": "#2a3f5f",
             "gridcolor": "white",
             "linecolor": "white",
             "minorgridcolor": "white",
             "startlinecolor": "#2a3f5f"
            },
            "type": "carpet"
           }
          ],
          "choropleth": [
           {
            "colorbar": {
             "outlinewidth": 0,
             "ticks": ""
            },
            "type": "choropleth"
           }
          ],
          "contour": [
           {
            "colorbar": {
             "outlinewidth": 0,
             "ticks": ""
            },
            "colorscale": [
             [
              0,
              "#0d0887"
             ],
             [
              0.1111111111111111,
              "#46039f"
             ],
             [
              0.2222222222222222,
              "#7201a8"
             ],
             [
              0.3333333333333333,
              "#9c179e"
             ],
             [
              0.4444444444444444,
              "#bd3786"
             ],
             [
              0.5555555555555556,
              "#d8576b"
             ],
             [
              0.6666666666666666,
              "#ed7953"
             ],
             [
              0.7777777777777778,
              "#fb9f3a"
             ],
             [
              0.8888888888888888,
              "#fdca26"
             ],
             [
              1,
              "#f0f921"
             ]
            ],
            "type": "contour"
           }
          ],
          "contourcarpet": [
           {
            "colorbar": {
             "outlinewidth": 0,
             "ticks": ""
            },
            "type": "contourcarpet"
           }
          ],
          "heatmap": [
           {
            "colorbar": {
             "outlinewidth": 0,
             "ticks": ""
            },
            "colorscale": [
             [
              0,
              "#0d0887"
             ],
             [
              0.1111111111111111,
              "#46039f"
             ],
             [
              0.2222222222222222,
              "#7201a8"
             ],
             [
              0.3333333333333333,
              "#9c179e"
             ],
             [
              0.4444444444444444,
              "#bd3786"
             ],
             [
              0.5555555555555556,
              "#d8576b"
             ],
             [
              0.6666666666666666,
              "#ed7953"
             ],
             [
              0.7777777777777778,
              "#fb9f3a"
             ],
             [
              0.8888888888888888,
              "#fdca26"
             ],
             [
              1,
              "#f0f921"
             ]
            ],
            "type": "heatmap"
           }
          ],
          "heatmapgl": [
           {
            "colorbar": {
             "outlinewidth": 0,
             "ticks": ""
            },
            "colorscale": [
             [
              0,
              "#0d0887"
             ],
             [
              0.1111111111111111,
              "#46039f"
             ],
             [
              0.2222222222222222,
              "#7201a8"
             ],
             [
              0.3333333333333333,
              "#9c179e"
             ],
             [
              0.4444444444444444,
              "#bd3786"
             ],
             [
              0.5555555555555556,
              "#d8576b"
             ],
             [
              0.6666666666666666,
              "#ed7953"
             ],
             [
              0.7777777777777778,
              "#fb9f3a"
             ],
             [
              0.8888888888888888,
              "#fdca26"
             ],
             [
              1,
              "#f0f921"
             ]
            ],
            "type": "heatmapgl"
           }
          ],
          "histogram": [
           {
            "marker": {
             "colorbar": {
              "outlinewidth": 0,
              "ticks": ""
             }
            },
            "type": "histogram"
           }
          ],
          "histogram2d": [
           {
            "colorbar": {
             "outlinewidth": 0,
             "ticks": ""
            },
            "colorscale": [
             [
              0,
              "#0d0887"
             ],
             [
              0.1111111111111111,
              "#46039f"
             ],
             [
              0.2222222222222222,
              "#7201a8"
             ],
             [
              0.3333333333333333,
              "#9c179e"
             ],
             [
              0.4444444444444444,
              "#bd3786"
             ],
             [
              0.5555555555555556,
              "#d8576b"
             ],
             [
              0.6666666666666666,
              "#ed7953"
             ],
             [
              0.7777777777777778,
              "#fb9f3a"
             ],
             [
              0.8888888888888888,
              "#fdca26"
             ],
             [
              1,
              "#f0f921"
             ]
            ],
            "type": "histogram2d"
           }
          ],
          "histogram2dcontour": [
           {
            "colorbar": {
             "outlinewidth": 0,
             "ticks": ""
            },
            "colorscale": [
             [
              0,
              "#0d0887"
             ],
             [
              0.1111111111111111,
              "#46039f"
             ],
             [
              0.2222222222222222,
              "#7201a8"
             ],
             [
              0.3333333333333333,
              "#9c179e"
             ],
             [
              0.4444444444444444,
              "#bd3786"
             ],
             [
              0.5555555555555556,
              "#d8576b"
             ],
             [
              0.6666666666666666,
              "#ed7953"
             ],
             [
              0.7777777777777778,
              "#fb9f3a"
             ],
             [
              0.8888888888888888,
              "#fdca26"
             ],
             [
              1,
              "#f0f921"
             ]
            ],
            "type": "histogram2dcontour"
           }
          ],
          "mesh3d": [
           {
            "colorbar": {
             "outlinewidth": 0,
             "ticks": ""
            },
            "type": "mesh3d"
           }
          ],
          "parcoords": [
           {
            "line": {
             "colorbar": {
              "outlinewidth": 0,
              "ticks": ""
             }
            },
            "type": "parcoords"
           }
          ],
          "pie": [
           {
            "automargin": true,
            "type": "pie"
           }
          ],
          "scatter": [
           {
            "marker": {
             "colorbar": {
              "outlinewidth": 0,
              "ticks": ""
             }
            },
            "type": "scatter"
           }
          ],
          "scatter3d": [
           {
            "line": {
             "colorbar": {
              "outlinewidth": 0,
              "ticks": ""
             }
            },
            "marker": {
             "colorbar": {
              "outlinewidth": 0,
              "ticks": ""
             }
            },
            "type": "scatter3d"
           }
          ],
          "scattercarpet": [
           {
            "marker": {
             "colorbar": {
              "outlinewidth": 0,
              "ticks": ""
             }
            },
            "type": "scattercarpet"
           }
          ],
          "scattergeo": [
           {
            "marker": {
             "colorbar": {
              "outlinewidth": 0,
              "ticks": ""
             }
            },
            "type": "scattergeo"
           }
          ],
          "scattergl": [
           {
            "marker": {
             "colorbar": {
              "outlinewidth": 0,
              "ticks": ""
             }
            },
            "type": "scattergl"
           }
          ],
          "scattermapbox": [
           {
            "marker": {
             "colorbar": {
              "outlinewidth": 0,
              "ticks": ""
             }
            },
            "type": "scattermapbox"
           }
          ],
          "scatterpolar": [
           {
            "marker": {
             "colorbar": {
              "outlinewidth": 0,
              "ticks": ""
             }
            },
            "type": "scatterpolar"
           }
          ],
          "scatterpolargl": [
           {
            "marker": {
             "colorbar": {
              "outlinewidth": 0,
              "ticks": ""
             }
            },
            "type": "scatterpolargl"
           }
          ],
          "scatterternary": [
           {
            "marker": {
             "colorbar": {
              "outlinewidth": 0,
              "ticks": ""
             }
            },
            "type": "scatterternary"
           }
          ],
          "surface": [
           {
            "colorbar": {
             "outlinewidth": 0,
             "ticks": ""
            },
            "colorscale": [
             [
              0,
              "#0d0887"
             ],
             [
              0.1111111111111111,
              "#46039f"
             ],
             [
              0.2222222222222222,
              "#7201a8"
             ],
             [
              0.3333333333333333,
              "#9c179e"
             ],
             [
              0.4444444444444444,
              "#bd3786"
             ],
             [
              0.5555555555555556,
              "#d8576b"
             ],
             [
              0.6666666666666666,
              "#ed7953"
             ],
             [
              0.7777777777777778,
              "#fb9f3a"
             ],
             [
              0.8888888888888888,
              "#fdca26"
             ],
             [
              1,
              "#f0f921"
             ]
            ],
            "type": "surface"
           }
          ],
          "table": [
           {
            "cells": {
             "fill": {
              "color": "#EBF0F8"
             },
             "line": {
              "color": "white"
             }
            },
            "header": {
             "fill": {
              "color": "#C8D4E3"
             },
             "line": {
              "color": "white"
             }
            },
            "type": "table"
           }
          ]
         },
         "layout": {
          "annotationdefaults": {
           "arrowcolor": "#2a3f5f",
           "arrowhead": 0,
           "arrowwidth": 1
          },
          "coloraxis": {
           "colorbar": {
            "outlinewidth": 0,
            "ticks": ""
           }
          },
          "colorscale": {
           "diverging": [
            [
             0,
             "#8e0152"
            ],
            [
             0.1,
             "#c51b7d"
            ],
            [
             0.2,
             "#de77ae"
            ],
            [
             0.3,
             "#f1b6da"
            ],
            [
             0.4,
             "#fde0ef"
            ],
            [
             0.5,
             "#f7f7f7"
            ],
            [
             0.6,
             "#e6f5d0"
            ],
            [
             0.7,
             "#b8e186"
            ],
            [
             0.8,
             "#7fbc41"
            ],
            [
             0.9,
             "#4d9221"
            ],
            [
             1,
             "#276419"
            ]
           ],
           "sequential": [
            [
             0,
             "#0d0887"
            ],
            [
             0.1111111111111111,
             "#46039f"
            ],
            [
             0.2222222222222222,
             "#7201a8"
            ],
            [
             0.3333333333333333,
             "#9c179e"
            ],
            [
             0.4444444444444444,
             "#bd3786"
            ],
            [
             0.5555555555555556,
             "#d8576b"
            ],
            [
             0.6666666666666666,
             "#ed7953"
            ],
            [
             0.7777777777777778,
             "#fb9f3a"
            ],
            [
             0.8888888888888888,
             "#fdca26"
            ],
            [
             1,
             "#f0f921"
            ]
           ],
           "sequentialminus": [
            [
             0,
             "#0d0887"
            ],
            [
             0.1111111111111111,
             "#46039f"
            ],
            [
             0.2222222222222222,
             "#7201a8"
            ],
            [
             0.3333333333333333,
             "#9c179e"
            ],
            [
             0.4444444444444444,
             "#bd3786"
            ],
            [
             0.5555555555555556,
             "#d8576b"
            ],
            [
             0.6666666666666666,
             "#ed7953"
            ],
            [
             0.7777777777777778,
             "#fb9f3a"
            ],
            [
             0.8888888888888888,
             "#fdca26"
            ],
            [
             1,
             "#f0f921"
            ]
           ]
          },
          "colorway": [
           "#636efa",
           "#EF553B",
           "#00cc96",
           "#ab63fa",
           "#FFA15A",
           "#19d3f3",
           "#FF6692",
           "#B6E880",
           "#FF97FF",
           "#FECB52"
          ],
          "font": {
           "color": "#2a3f5f"
          },
          "geo": {
           "bgcolor": "white",
           "lakecolor": "white",
           "landcolor": "#E5ECF6",
           "showlakes": true,
           "showland": true,
           "subunitcolor": "white"
          },
          "hoverlabel": {
           "align": "left"
          },
          "hovermode": "closest",
          "mapbox": {
           "style": "light"
          },
          "paper_bgcolor": "white",
          "plot_bgcolor": "#E5ECF6",
          "polar": {
           "angularaxis": {
            "gridcolor": "white",
            "linecolor": "white",
            "ticks": ""
           },
           "bgcolor": "#E5ECF6",
           "radialaxis": {
            "gridcolor": "white",
            "linecolor": "white",
            "ticks": ""
           }
          },
          "scene": {
           "xaxis": {
            "backgroundcolor": "#E5ECF6",
            "gridcolor": "white",
            "gridwidth": 2,
            "linecolor": "white",
            "showbackground": true,
            "ticks": "",
            "zerolinecolor": "white"
           },
           "yaxis": {
            "backgroundcolor": "#E5ECF6",
            "gridcolor": "white",
            "gridwidth": 2,
            "linecolor": "white",
            "showbackground": true,
            "ticks": "",
            "zerolinecolor": "white"
           },
           "zaxis": {
            "backgroundcolor": "#E5ECF6",
            "gridcolor": "white",
            "gridwidth": 2,
            "linecolor": "white",
            "showbackground": true,
            "ticks": "",
            "zerolinecolor": "white"
           }
          },
          "shapedefaults": {
           "line": {
            "color": "#2a3f5f"
           }
          },
          "ternary": {
           "aaxis": {
            "gridcolor": "white",
            "linecolor": "white",
            "ticks": ""
           },
           "baxis": {
            "gridcolor": "white",
            "linecolor": "white",
            "ticks": ""
           },
           "bgcolor": "#E5ECF6",
           "caxis": {
            "gridcolor": "white",
            "linecolor": "white",
            "ticks": ""
           }
          },
          "title": {
           "x": 0.05
          },
          "xaxis": {
           "automargin": true,
           "gridcolor": "white",
           "linecolor": "white",
           "ticks": "",
           "title": {
            "standoff": 15
           },
           "zerolinecolor": "white",
           "zerolinewidth": 2
          },
          "yaxis": {
           "automargin": true,
           "gridcolor": "white",
           "linecolor": "white",
           "ticks": "",
           "title": {
            "standoff": 15
           },
           "zerolinecolor": "white",
           "zerolinewidth": 2
          }
         }
        },
        "title": {
         "text": "Mean Square Value"
        },
        "xaxis": {
         "title": {
          "text": "number of data"
         },
         "type": "log"
        },
        "yaxis": {
         "title": {
          "text": "Mean Square Error of estimates and true"
         },
         "type": "log"
        }
       }
      }
     },
     "metadata": {}
    }
   ],
   "source": [
    "from typing import List\n",
    "import plotly.graph_objects as go\n",
    "\n",
    "def show_mse(num_data: List[int], mses: List[float], title: str = \"Mean Square Value\"):\n",
    "    trace = go.Scatter(x=num_data, y=mses, mode=\"lines+markers\")\n",
    "    data = [trace]\n",
    "    print(mses)\n",
    "    max_value = np.max(mses)\n",
    "    layout = go.Layout(\n",
    "        title=title,\n",
    "        xaxis_title_text=\"number of data\",\n",
    "        yaxis_title_text=\"Mean Square Error of estimates and true\",\n",
    "        xaxis_type=\"log\",\n",
    "        yaxis_type=\"log\",\n",
    "        #yaxis_range=[0, 0.1],\n",
    "        #yaxis_range=[0, max_value * 1.1],\n",
    "    )\n",
    "    fig = go.Figure(data=data, layout=layout)\n",
    "    fig.show()\n",
    "\n",
    "# show graphs\n",
    "show_mse(num_data, param_affine_est_linear)"
   ]
  },
  {
   "cell_type": "code",
   "execution_count": null,
   "metadata": {},
   "outputs": [],
   "source": []
  }
 ],
 "metadata": {
  "kernelspec": {
   "display_name": "Python 3",
   "language": "python",
   "name": "python3"
  },
  "language_info": {
   "codemirror_mode": {
    "name": "ipython",
    "version": 3
   },
   "file_extension": ".py",
   "mimetype": "text/x-python",
   "name": "python",
   "nbconvert_exporter": "python",
   "pygments_lexer": "ipython3",
   "version": "3.6.8-final"
  }
 },
 "nbformat": 4,
 "nbformat_minor": 4
}