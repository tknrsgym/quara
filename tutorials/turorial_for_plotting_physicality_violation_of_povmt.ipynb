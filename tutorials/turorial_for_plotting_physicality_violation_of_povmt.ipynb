{
 "cells": [
  {
   "cell_type": "code",
   "execution_count": 6,
   "metadata": {},
   "outputs": [],
   "source": [
    "import pickle\n",
    "import time\n",
    "from typing import List\n",
    "\n",
    "import numpy as np\n",
    "from tqdm import tqdm\n",
    "import plotly.graph_objects as go\n",
    "import plotly.express as px\n",
    "\n",
    "from quara.objects.composite_system import CompositeSystem\n",
    "from quara.objects.elemental_system import ElementalSystem\n",
    "from quara.objects.matrix_basis import get_normalized_pauli_basis, get_pauli_basis, get_comp_basis\n",
    "from quara.objects.povm import (\n",
    "    Povm,\n",
    "    get_x_measurement,\n",
    "    get_y_measurement,\n",
    "    get_z_measurement,\n",
    ")\n",
    "from quara.objects.qoperation import QOperation\n",
    "from quara.objects.state import State, get_x0_1q,  get_x1_1q, get_y0_1q, get_y1_1q, get_z0_1q, get_z1_1q\n",
    "from quara.protocol.qtomography.standard.standard_qst import StandardQst\n",
    "from quara.protocol.qtomography.standard.standard_povmt import StandardPovmt\n",
    "from quara.protocol.qtomography.standard.linear_estimator import LinearEstimator"
   ]
  },
  {
   "cell_type": "code",
   "execution_count": 2,
   "metadata": {},
   "outputs": [],
   "source": [
    "%load_ext autoreload\n",
    "%autoreload 2"
   ]
  },
  {
   "cell_type": "code",
   "execution_count": 3,
   "metadata": {},
   "outputs": [],
   "source": [
    "def estimate(name: str,\n",
    "             true_object: Povm,\n",
    "             states: List[State],\n",
    "             measurement_n: int,\n",
    "             num_data: List[int], iterations: int, on_para_eq_constraint: bool=True):\n",
    "    povmt = StandardPovmt(states, measurement_n, on_para_eq_constraint=on_para_eq_constraint)\n",
    "\n",
    "    # generate empi dists and calc estimate\n",
    "    obj_sequences = []\n",
    "    start = time.time()\n",
    "    for iteration in range(iterations):\n",
    "        seeds = [iteration] * len(num_data)\n",
    "        empi_dists_seq = povmt.generate_empi_dists_sequence(\n",
    "            true_object, num_data, seeds\n",
    "        )\n",
    "\n",
    "        estimator = LinearEstimator()\n",
    "        obj_sequence = estimator.calc_estimate_sequence(povmt, empi_dists_seq)\n",
    "\n",
    "        info = {\n",
    "            \"iteration\": iteration,\n",
    "            \"empi_dists_seq\": empi_dists_seq,\n",
    "            \"obj_sequence\": obj_sequence.estimated_var_sequence,\n",
    "        }\n",
    "        print(info)\n",
    "        obj_sequences.append(obj_sequence.estimated_qoperation_sequence)\n",
    "\n",
    "    end = time.time()\n",
    "    print(f\"time(s)={end - start}\")\n",
    "    #with open(f\"state_obj_sequences_{name}_{on_para_eq_constraint}_{iterations}.pkl\", \"wb\") as f:\n",
    "    #    pickle.dump(obj_sequences, f)\n",
    "\n",
    "    #with open(\"obj_sequences.pkl\", \"rb\") as f:\n",
    "    #    obj_sequences = pickle.load(f)\n",
    "    return obj_sequences"
   ]
  },
  {
   "cell_type": "code",
   "execution_count": 4,
   "metadata": {},
   "outputs": [],
   "source": [
    "# setup system\n",
    "e_sys = ElementalSystem(0, get_normalized_pauli_basis())\n",
    "c_sys = CompositeSystem([e_sys])\n",
    "\n",
    "# |+><+|\n",
    "state_x0 = get_x0_1q(c_sys)\n",
    "# |+i><+i|\n",
    "state_y0 = get_y0_1q(c_sys)\n",
    "# |0><0|\n",
    "state_z0 = get_z0_1q(c_sys)\n",
    "# |1><1|\n",
    "state_z1 = get_z1_1q(c_sys)\n",
    "states = [state_x0, state_y0, state_z0, state_z1]"
   ]
  },
  {
   "cell_type": "code",
   "execution_count": 8,
   "metadata": {
    "scrolled": false
   },
   "outputs": [
    {
     "name": "stdout",
     "output_type": "stream",
     "text": [
      "{'iteration': 0, 'empi_dists_seq': [[(1000, array([1., 0.])), (1000, array([0.517, 0.483])), (1000, array([0.517, 0.483])), (1000, array([0.517, 0.483]))]], 'obj_sequence': [array([7.31148412e-01, 6.83065151e-01, 8.32667268e-16, 0.00000000e+00])]}\n",
      "{'iteration': 1, 'empi_dists_seq': [[(1000, array([1., 0.])), (1000, array([0.494, 0.506])), (1000, array([0.494, 0.506])), (1000, array([0.494, 0.506]))]], 'obj_sequence': [array([6.98621500e-01, 7.15592063e-01, 7.77156117e-16, 0.00000000e+00])]}\n",
      "{'iteration': 2, 'empi_dists_seq': [[(1000, array([1., 0.])), (1000, array([0.534, 0.466])), (1000, array([0.534, 0.466])), (1000, array([0.534, 0.466]))]], 'obj_sequence': [array([7.55190042e-01, 6.59023520e-01, 7.77156117e-16, 0.00000000e+00])]}\n",
      "{'iteration': 3, 'empi_dists_seq': [[(1000, array([1., 0.])), (1000, array([0.488, 0.512])), (1000, array([0.488, 0.512])), (1000, array([0.488, 0.512]))]], 'obj_sequence': [array([6.90136218e-01, 7.24077344e-01, 7.21644966e-16, 0.00000000e+00])]}\n",
      "{'iteration': 4, 'empi_dists_seq': [[(1000, array([1., 0.])), (1000, array([0.481, 0.519])), (1000, array([0.481, 0.519])), (1000, array([0.481, 0.519]))]], 'obj_sequence': [array([6.80236724e-01, 7.33976839e-01, 7.77156117e-16, 0.00000000e+00])]}\n",
      "{'iteration': 5, 'empi_dists_seq': [[(1000, array([1., 0.])), (1000, array([0.502, 0.498])), (1000, array([0.502, 0.498])), (1000, array([0.502, 0.498]))]], 'obj_sequence': [array([7.09935208e-01, 7.04278354e-01, 7.77156117e-16, 0.00000000e+00])]}\n",
      "{'iteration': 6, 'empi_dists_seq': [[(1000, array([1., 0.])), (1000, array([0.497, 0.503])), (1000, array([0.497, 0.503])), (1000, array([0.497, 0.503]))]], 'obj_sequence': [array([7.02864140e-01, 7.11349422e-01, 7.21644966e-16, 0.00000000e+00])]}\n",
      "{'iteration': 7, 'empi_dists_seq': [[(1000, array([1., 0.])), (1000, array([0.512, 0.488])), (1000, array([0.512, 0.488])), (1000, array([0.512, 0.488]))]], 'obj_sequence': [array([7.24077344e-01, 6.90136218e-01, 7.77156117e-16, 0.00000000e+00])]}\n",
      "{'iteration': 8, 'empi_dists_seq': [[(1000, array([1., 0.])), (1000, array([0.49, 0.51])), (1000, array([0.49, 0.51])), (1000, array([0.49, 0.51]))]], 'obj_sequence': [array([6.92964646e-01, 7.21248917e-01, 7.77156117e-16, 0.00000000e+00])]}\n",
      "{'iteration': 9, 'empi_dists_seq': [[(1000, array([1., 0.])), (1000, array([0.49, 0.51])), (1000, array([0.49, 0.51])), (1000, array([0.49, 0.51]))]], 'obj_sequence': [array([6.92964646e-01, 7.21248917e-01, 7.77156117e-16, 0.00000000e+00])]}\n",
      "time(s)=0.16001105308532715\n",
      "{'iteration': 0, 'empi_dists_seq': [[(1000, array([1., 0.])), (1000, array([0.517, 0.483])), (1000, array([0.517, 0.483])), (1000, array([0.517, 0.483]))]], 'obj_sequence': [array([ 7.31148412e-01,  6.83065151e-01, -4.44089210e-16,  0.00000000e+00,\n",
      "        6.83065151e-01, -6.83065151e-01, -2.22044605e-16,  0.00000000e+00])]}\n",
      "{'iteration': 1, 'empi_dists_seq': [[(1000, array([1., 0.])), (1000, array([0.494, 0.506])), (1000, array([0.494, 0.506])), (1000, array([0.494, 0.506]))]], 'obj_sequence': [array([ 6.98621500e-01,  7.15592063e-01, -3.33066907e-16,  0.00000000e+00,\n",
      "        7.15592063e-01, -7.15592063e-01, -3.33066907e-16,  0.00000000e+00])]}\n",
      "{'iteration': 2, 'empi_dists_seq': [[(1000, array([1., 0.])), (1000, array([0.534, 0.466])), (1000, array([0.534, 0.466])), (1000, array([0.534, 0.466]))]], 'obj_sequence': [array([ 7.55190042e-01,  6.59023520e-01, -3.33066907e-16,  0.00000000e+00,\n",
      "        6.59023520e-01, -6.59023520e-01, -3.33066907e-16,  0.00000000e+00])]}\n",
      "{'iteration': 3, 'empi_dists_seq': [[(1000, array([1., 0.])), (1000, array([0.488, 0.512])), (1000, array([0.488, 0.512])), (1000, array([0.488, 0.512]))]], 'obj_sequence': [array([ 6.90136218e-01,  7.24077344e-01, -3.33066907e-16,  0.00000000e+00,\n",
      "        7.24077344e-01, -7.24077344e-01, -3.33066907e-16,  0.00000000e+00])]}\n",
      "{'iteration': 4, 'empi_dists_seq': [[(1000, array([1., 0.])), (1000, array([0.481, 0.519])), (1000, array([0.481, 0.519])), (1000, array([0.481, 0.519]))]], 'obj_sequence': [array([ 6.80236724e-01,  7.33976839e-01, -3.33066907e-16,  0.00000000e+00,\n",
      "        7.33976839e-01, -7.33976839e-01, -3.33066907e-16,  0.00000000e+00])]}\n",
      "{'iteration': 5, 'empi_dists_seq': [[(1000, array([1., 0.])), (1000, array([0.502, 0.498])), (1000, array([0.502, 0.498])), (1000, array([0.502, 0.498]))]], 'obj_sequence': [array([ 7.09935208e-01,  7.04278354e-01, -3.33066907e-16,  0.00000000e+00,\n",
      "        7.04278354e-01, -7.04278354e-01, -3.33066907e-16,  0.00000000e+00])]}\n",
      "{'iteration': 6, 'empi_dists_seq': [[(1000, array([1., 0.])), (1000, array([0.497, 0.503])), (1000, array([0.497, 0.503])), (1000, array([0.497, 0.503]))]], 'obj_sequence': [array([ 7.02864140e-01,  7.11349422e-01, -3.33066907e-16,  0.00000000e+00,\n",
      "        7.11349422e-01, -7.11349422e-01, -3.33066907e-16,  0.00000000e+00])]}\n",
      "{'iteration': 7, 'empi_dists_seq': [[(1000, array([1., 0.])), (1000, array([0.512, 0.488])), (1000, array([0.512, 0.488])), (1000, array([0.512, 0.488]))]], 'obj_sequence': [array([ 7.24077344e-01,  6.90136218e-01, -3.33066907e-16,  0.00000000e+00,\n",
      "        6.90136218e-01, -6.90136218e-01, -3.33066907e-16,  0.00000000e+00])]}\n",
      "{'iteration': 8, 'empi_dists_seq': [[(1000, array([1., 0.])), (1000, array([0.49, 0.51])), (1000, array([0.49, 0.51])), (1000, array([0.49, 0.51]))]], 'obj_sequence': [array([ 6.92964646e-01,  7.21248917e-01, -3.33066907e-16,  0.00000000e+00,\n",
      "        7.21248917e-01, -7.21248917e-01, -3.33066907e-16,  0.00000000e+00])]}\n",
      "{'iteration': 9, 'empi_dists_seq': [[(1000, array([1., 0.])), (1000, array([0.49, 0.51])), (1000, array([0.49, 0.51])), (1000, array([0.49, 0.51]))]], 'obj_sequence': [array([ 6.92964646e-01,  7.21248917e-01, -3.33066907e-16,  0.00000000e+00,\n",
      "        7.21248917e-01, -7.21248917e-01, -3.33066907e-16,  0.00000000e+00])]}\n",
      "time(s)=0.18788719177246094\n"
     ]
    }
   ],
   "source": [
    "# parameter\n",
    "num_data = [1000]\n",
    "iterations = 10\n",
    "true_object = get_x_measurement(c_sys)  # TODO: 真値で置き換える\n",
    "measurement_n = 2  # 測定値の数\n",
    "\n",
    "param_affine_est_linear = estimate(\"name\", true_object, states, measurement_n, num_data, iterations, on_para_eq_constraint=True)\n",
    "param_linear_est_linear = estimate(\"name\", true_object, states, measurement_n, num_data, iterations, on_para_eq_constraint=False)"
   ]
  },
  {
   "cell_type": "markdown",
   "metadata": {},
   "source": [
    "# Physicality Violation"
   ]
  },
  {
   "cell_type": "markdown",
   "metadata": {},
   "source": [
    "## on_para_eq_constraint = True"
   ]
  },
  {
   "cell_type": "code",
   "execution_count": 9,
   "metadata": {},
   "outputs": [
    {
     "data": {
      "text/plain": [
       "[[<quara.objects.povm.Povm at 0x11542b940>],\n",
       " [<quara.objects.povm.Povm at 0x11542b880>],\n",
       " [<quara.objects.povm.Povm at 0x11542bc40>],\n",
       " [<quara.objects.povm.Povm at 0x11542baf0>],\n",
       " [<quara.objects.povm.Povm at 0x11542b910>],\n",
       " [<quara.objects.povm.Povm at 0x11542bac0>],\n",
       " [<quara.objects.povm.Povm at 0x11542bb80>],\n",
       " [<quara.objects.povm.Povm at 0x11542bcd0>],\n",
       " [<quara.objects.povm.Povm at 0x11542bca0>],\n",
       " [<quara.objects.povm.Povm at 0x11542bb50>]]"
      ]
     },
     "execution_count": 9,
     "metadata": {},
     "output_type": "execute_result"
    }
   ],
   "source": [
    "param_affine_est_linear"
   ]
  },
  {
   "cell_type": "code",
   "execution_count": 11,
   "metadata": {},
   "outputs": [],
   "source": [
    "value_list = []\n",
    "\n",
    "for povm_est in param_affine_est_linear:\n",
    "    povm_est = povm_est[0]  # TODO\n",
    "    # tr = np.trace(state_est.to_density_matrix())\n",
    "    # value = tr.real\n",
    "    # value_list.append(value)"
   ]
  },
  {
   "cell_type": "code",
   "execution_count": null,
   "metadata": {},
   "outputs": [],
   "source": []
  }
 ],
 "metadata": {
  "hide_input": false,
  "kernelspec": {
   "display_name": "quara_venv",
   "language": "python",
   "name": "quara_venv"
  },
  "language_info": {
   "codemirror_mode": {
    "name": "ipython",
    "version": 3
   },
   "file_extension": ".py",
   "mimetype": "text/x-python",
   "name": "python",
   "nbconvert_exporter": "python",
   "pygments_lexer": "ipython3",
   "version": "3.8.0"
  },
  "toc": {
   "base_numbering": 1,
   "nav_menu": {},
   "number_sections": true,
   "sideBar": true,
   "skip_h1_title": false,
   "title_cell": "Table of Contents",
   "title_sidebar": "Contents",
   "toc_cell": false,
   "toc_position": {},
   "toc_section_display": true,
   "toc_window_display": false
  },
  "varInspector": {
   "cols": {
    "lenName": 16,
    "lenType": 16,
    "lenVar": 40
   },
   "kernels_config": {
    "python": {
     "delete_cmd_postfix": "",
     "delete_cmd_prefix": "del ",
     "library": "var_list.py",
     "varRefreshCmd": "print(var_dic_list())"
    },
    "r": {
     "delete_cmd_postfix": ") ",
     "delete_cmd_prefix": "rm(",
     "library": "var_list.r",
     "varRefreshCmd": "cat(var_dic_list()) "
    }
   },
   "types_to_exclude": [
    "module",
    "function",
    "builtin_function_or_method",
    "instance",
    "_Feature"
   ],
   "window_display": false
  }
 },
 "nbformat": 4,
 "nbformat_minor": 4
}
