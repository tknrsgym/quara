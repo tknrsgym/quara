{
 "cells": [
  {
   "cell_type": "code",
   "execution_count": 1,
   "metadata": {},
   "outputs": [],
   "source": [
    "# Povm"
   ]
  },
  {
   "cell_type": "code",
   "execution_count": 1,
   "metadata": {},
   "outputs": [],
   "source": [
    "import pickle\n",
    "import time\n",
    "from typing import List\n",
    "import datetime as dt\n",
    "from pathlib import Path\n",
    "\n",
    "import numpy as np\n",
    "import pandas as pd\n",
    "import plotly.graph_objects as go\n",
    "import plotly.express as px\n",
    "\n",
    "from tqdm import tqdm\n",
    "\n",
    "from quara.data_analysis import data_analysis, physicality_violation_check, report\n",
    "from quara.data_analysis.projected_gradient_descent_backtracking import ProjectedGradientDescentBacktracking, ProjectedGradientDescentBacktrackingOption\n",
    "from quara.data_analysis.weighted_probability_based_squared_error import WeightedProbabilityBasedSquaredError, WeightedProbabilityBasedSquaredErrorOption\n",
    "from quara.data_analysis.weighted_relative_entropy import WeightedRelativeEntropy, WeightedRelativeEntropyOption\n",
    "from quara.objects.composite_system import CompositeSystem\n",
    "from quara.objects.elemental_system import ElementalSystem\n",
    "from quara.objects.matrix_basis import get_normalized_pauli_basis\n",
    "from quara.objects.state import (\n",
    "    State,\n",
    "    get_x0_1q,\n",
    "    get_x1_1q,\n",
    "    get_y0_1q,\n",
    "    get_y1_1q,\n",
    "    get_z0_1q,\n",
    "    get_z1_1q,\n",
    ")\n",
    "from quara.objects.povm import (\n",
    "    Povm,get_x_povm\n",
    ")\n",
    "from quara.objects.qoperation import QOperation\n",
    "from quara.protocol.qtomography.standard.standard_povmt import StandardPovmt\n",
    "from quara.protocol.qtomography.standard.linear_estimator import LinearEstimator\n",
    "from quara.protocol.qtomography.standard.loss_minimization_estimator import LossMinimizationEstimator\n",
    "from quara.protocol.qtomography.standard.projected_linear_estimator import (\n",
    "    ProjectedLinearEstimator,\n",
    ")\n",
    "\n",
    "from quara.data_analysis.simulation import StandardQTomographySimulationSetting"
   ]
  },
  {
   "cell_type": "code",
   "execution_count": 4,
   "metadata": {},
   "outputs": [],
   "source": [
    "%load_ext autoreload\n",
    "%autoreload 2"
   ]
  },
  {
   "cell_type": "code",
   "execution_count": 5,
   "metadata": {},
   "outputs": [],
   "source": [
    "start_all = time.time()"
   ]
  },
  {
   "cell_type": "code",
   "execution_count": 6,
   "metadata": {},
   "outputs": [],
   "source": [
    "# setup system\n",
    "e_sys = ElementalSystem(0, get_normalized_pauli_basis())\n",
    "c_sys = CompositeSystem([e_sys])\n",
    "\n",
    "# |+><+|\n",
    "state_x0 = get_x0_1q(c_sys)\n",
    "# |+i><+i|\n",
    "state_y0 = get_y0_1q(c_sys)\n",
    "# |0><0|\n",
    "state_z0 = get_z0_1q(c_sys)\n",
    "# |1><1|\n",
    "state_z1 = get_z1_1q(c_sys)\n",
    "tester_objects = [state_x0, state_y0, state_z0, state_z1]"
   ]
  },
  {
   "cell_type": "code",
   "execution_count": 7,
   "metadata": {},
   "outputs": [
    {
     "data": {
      "text/plain": [
       "(array([0.70710678, 0.5       , 0.        , 0.5       ]),\n",
       " array([ 0.70710678, -0.5       ,  0.        , -0.5       ]))"
      ]
     },
     "execution_count": 7,
     "metadata": {},
     "output_type": "execute_result"
    }
   ],
   "source": [
    "# Case 1: 軸上\n",
    "# a0, a1, a2, a3 = 1, 1, 0, 0\n",
    "# m1 = (1 / np.sqrt(2)) * np.array([a0, a1, a2, a3])\n",
    "# m2 = (1 / np.sqrt(2)) * np.array([2 - a0, -a1, -a2, -a3])\n",
    "\n",
    "# Case 2: 軸から離れた表面\n",
    "a0, a1, a2, a3 = 1, 1 / np.sqrt(2), 0, 1 / np.sqrt(2)\n",
    "m1 = (1 / np.sqrt(2)) * np.array([a0, a1, a2, a3])\n",
    "m2 = (1 / np.sqrt(2)) * np.array([2 - a0, -a1, -a2, -a3])\n",
    "\n",
    "# Case 3: 原点\n",
    "# a0, a1, a2, a3 = 1, 0, 0, 0\n",
    "# m1 = (1 / np.sqrt(2)) * np.array([a0, a1, a2, a3])\n",
    "# m2 = (1 / np.sqrt(2)) * np.array([2 - a0, -a1, -a2, -a3])\n",
    "\n",
    "true_object = Povm(vecs=[m1, m2], c_sys=c_sys)\n",
    "\n",
    "true_object.vecs"
   ]
  },
  {
   "cell_type": "code",
   "execution_count": 25,
   "metadata": {},
   "outputs": [
    {
     "name": "stderr",
     "output_type": "stream",
     "text": [
      "\r",
      "  0%|          | 0/100 [00:00<?, ?it/s]"
     ]
    },
    {
     "name": "stdout",
     "output_type": "stream",
     "text": [
      "Case 0: LinearEstimator(True)\n",
      "Parametorization: True\n",
      "Type of qtomography: StandardPovmt\n",
      "Estimator: LinearEstimator\n"
     ]
    },
    {
     "name": "stderr",
     "output_type": "stream",
     "text": [
      "100%|██████████| 100/100 [00:03<00:00, 27.94it/s]\n",
      "  4%|▍         | 4/100 [00:00<00:02, 34.08it/s]"
     ]
    },
    {
     "name": "stdout",
     "output_type": "stream",
     "text": [
      "elapsed_time:0.06045491298039754[min]\n",
      "\n",
      "Case 1: LinearEstimator(False)\n",
      "Parametorization: False\n",
      "Type of qtomography: StandardPovmt\n",
      "Estimator: LinearEstimator\n"
     ]
    },
    {
     "name": "stderr",
     "output_type": "stream",
     "text": [
      "100%|██████████| 100/100 [00:02<00:00, 35.99it/s]\n",
      "  0%|          | 0/100 [00:00<?, ?it/s]"
     ]
    },
    {
     "name": "stdout",
     "output_type": "stream",
     "text": [
      "elapsed_time:0.0465239683787028[min]\n",
      "\n",
      "Case 2: ProjectedLinearEstimator(True)\n",
      "Parametorization: True\n",
      "Type of qtomography: StandardPovmt\n",
      "Estimator: ProjectedLinearEstimator\n"
     ]
    },
    {
     "name": "stderr",
     "output_type": "stream",
     "text": [
      "100%|██████████| 100/100 [00:14<00:00,  6.76it/s]\n",
      "  1%|          | 1/100 [00:00<00:14,  6.85it/s]"
     ]
    },
    {
     "name": "stdout",
     "output_type": "stream",
     "text": [
      "elapsed_time:0.2469552516937256[min]\n",
      "\n",
      "Case 3: ProjectedLinearEstimator(False)\n",
      "Parametorization: False\n",
      "Type of qtomography: StandardPovmt\n",
      "Estimator: ProjectedLinearEstimator\n"
     ]
    },
    {
     "name": "stderr",
     "output_type": "stream",
     "text": [
      "100%|██████████| 100/100 [00:09<00:00, 10.17it/s]\n",
      "  0%|          | 0/100 [00:00<?, ?it/s]"
     ]
    },
    {
     "name": "stdout",
     "output_type": "stream",
     "text": [
      "elapsed_time:0.16399541695912678[min]\n",
      "\n",
      "Case 4: Maximum-Likelihood(True)\n",
      "Parametorization: True\n",
      "Type of qtomography: StandardPovmt\n",
      "Estimator: LossMinimizationEstimator\n"
     ]
    },
    {
     "name": "stderr",
     "output_type": "stream",
     "text": [
      "100%|██████████| 100/100 [11:04<00:00,  6.64s/it]\n",
      "  0%|          | 0/100 [00:00<?, ?it/s]"
     ]
    },
    {
     "name": "stdout",
     "output_type": "stream",
     "text": [
      "elapsed_time:11.072092183430989[min]\n",
      "\n",
      "Case 5: Maximum-Likelihood(False)\n",
      "Parametorization: False\n",
      "Type of qtomography: StandardPovmt\n",
      "Estimator: LossMinimizationEstimator\n"
     ]
    },
    {
     "name": "stderr",
     "output_type": "stream",
     "text": [
      "100%|██████████| 100/100 [06:35<00:00,  3.96s/it]\n",
      "  0%|          | 0/100 [00:00<?, ?it/s]"
     ]
    },
    {
     "name": "stdout",
     "output_type": "stream",
     "text": [
      "elapsed_time:6.592624584833781[min]\n",
      "\n",
      "Case 6: Least Squares(True)\n",
      "Parametorization: True\n",
      "Type of qtomography: StandardPovmt\n",
      "Estimator: LossMinimizationEstimator\n"
     ]
    },
    {
     "name": "stderr",
     "output_type": "stream",
     "text": [
      "100%|██████████| 100/100 [05:51<00:00,  3.51s/it]\n",
      "  0%|          | 0/100 [00:00<?, ?it/s]"
     ]
    },
    {
     "name": "stdout",
     "output_type": "stream",
     "text": [
      "elapsed_time:5.850670830408732[min]\n",
      "\n",
      "Case 7: Least Squares(False)\n",
      "Parametorization: False\n",
      "Type of qtomography: StandardPovmt\n",
      "Estimator: LossMinimizationEstimator\n"
     ]
    },
    {
     "name": "stderr",
     "output_type": "stream",
     "text": [
      "100%|██████████| 100/100 [24:35<00:00, 14.75s/it]  \n"
     ]
    },
    {
     "name": "stdout",
     "output_type": "stream",
     "text": [
      "elapsed_time:24.58725478251775[min]\n",
      "\n"
     ]
    }
   ],
   "source": [
    "num_data = [100, 1000]\n",
    "n_rep = 100\n",
    "measurement_n = len(true_object.vecs)  # 測定値の数\n",
    "\n",
    "case_name_list = [\n",
    "    \"LinearEstimator(True)\",\n",
    "    \"LinearEstimator(False)\",\n",
    "    \"ProjectedLinearEstimator(True)\",\n",
    "    \"ProjectedLinearEstimator(False)\",\n",
    "    \"Maximum-Likelihood(True)\",\n",
    "    \"Maximum-Likelihood(False)\",\n",
    "    \"Least Squares(True)\",\n",
    "    \"Least Squares(False)\",\n",
    "]\n",
    "\n",
    "seed = 777\n",
    "qtomography_list = [\n",
    "    StandardPovmt(tester_objects, measurement_n, on_para_eq_constraint=True, seed=seed),\n",
    "    StandardPovmt(tester_objects, measurement_n, on_para_eq_constraint=False, seed=seed),\n",
    "    StandardPovmt(tester_objects, measurement_n, on_para_eq_constraint=True, seed=seed),\n",
    "    StandardPovmt(tester_objects, measurement_n, on_para_eq_constraint=False, seed=seed),\n",
    "    StandardPovmt(tester_objects, measurement_n, on_para_eq_constraint=True, eps_proj_physical=1e-13, seed=seed),\n",
    "    StandardPovmt(tester_objects, measurement_n, on_para_eq_constraint=False, eps_proj_physical=1e-13, seed=seed),\n",
    "    StandardPovmt(tester_objects, measurement_n, on_para_eq_constraint=True, eps_proj_physical=1e-13, seed=seed),\n",
    "    StandardPovmt(tester_objects, measurement_n, on_para_eq_constraint=False, eps_proj_physical=1e-13, seed=seed),\n",
    "]\n",
    "\n",
    "para_list = [\n",
    "    True,\n",
    "    False,\n",
    "    True,\n",
    "    False,\n",
    "    True,\n",
    "    False,\n",
    "    True,\n",
    "    False,\n",
    "]\n",
    "order = \"eq_ineq\"\n",
    "estimator_list = [\n",
    "    LinearEstimator(),\n",
    "    LinearEstimator(),\n",
    "    ProjectedLinearEstimator(mode_proj_order=order),\n",
    "    ProjectedLinearEstimator(mode_proj_order=order),\n",
    "    LossMinimizationEstimator(),\n",
    "    LossMinimizationEstimator(),\n",
    "    LossMinimizationEstimator(),\n",
    "    LossMinimizationEstimator(),\n",
    "]\n",
    "\n",
    "loss_list = [\n",
    "    None,\n",
    "    None,\n",
    "    None,\n",
    "    None,\n",
    "    WeightedRelativeEntropy(4),\n",
    "    WeightedRelativeEntropy(8),\n",
    "    WeightedProbabilityBasedSquaredError(4),\n",
    "    WeightedProbabilityBasedSquaredError(8),\n",
    "]\n",
    "\n",
    "loss_option_list = [\n",
    "    None,\n",
    "    None,\n",
    "    None,\n",
    "    None,\n",
    "    WeightedRelativeEntropyOption(\"identity\"),\n",
    "    WeightedRelativeEntropyOption(\"identity\"),\n",
    "    WeightedProbabilityBasedSquaredErrorOption(\"identity\"),\n",
    "    WeightedProbabilityBasedSquaredErrorOption(\"identity\"),\n",
    "]\n",
    "\n",
    "algo_list = [\n",
    "    None,\n",
    "    None,\n",
    "    None,\n",
    "    None,\n",
    "    ProjectedGradientDescentBacktracking(),\n",
    "    ProjectedGradientDescentBacktracking(),\n",
    "    ProjectedGradientDescentBacktracking(),\n",
    "    ProjectedGradientDescentBacktracking(),\n",
    "]\n",
    "\n",
    "algo_option_list = [\n",
    "    None,\n",
    "    None,\n",
    "    None,\n",
    "    None,\n",
    "    \n",
    "    ProjectedGradientDescentBacktrackingOption(\n",
    "        mode_stopping_criterion_gradient_descent=\"sum_absolute_difference_variable\",\n",
    "        num_history_stopping_criterion_gradient_descent=1,\n",
    "        mode_proj_order=order\n",
    "    ),\n",
    "        ProjectedGradientDescentBacktrackingOption(\n",
    "        mode_stopping_criterion_gradient_descent=\"sum_absolute_difference_variable\",\n",
    "        num_history_stopping_criterion_gradient_descent=1,\n",
    "        mode_proj_order=order\n",
    "    ),\n",
    "        ProjectedGradientDescentBacktrackingOption(\n",
    "        mode_stopping_criterion_gradient_descent=\"sum_absolute_difference_variable\",\n",
    "        num_history_stopping_criterion_gradient_descent=1,\n",
    "        mode_proj_order=order\n",
    "    ),\n",
    "        ProjectedGradientDescentBacktrackingOption(\n",
    "        mode_stopping_criterion_gradient_descent=\"sum_absolute_difference_variable\",\n",
    "        num_history_stopping_criterion_gradient_descent=1,\n",
    "        mode_proj_order=order\n",
    "    )\n",
    "]\n",
    "\n",
    "estimation_results_list = []\n",
    "elapsed_times = []\n",
    "simulation_settings = []\n",
    "\n",
    "for i, name in enumerate(case_name_list):\n",
    "    qtomography = qtomography_list[i]\n",
    "    estimator = estimator_list[i]\n",
    "    loss = loss_list[i]\n",
    "    loss_option = loss_option_list[i]\n",
    "    algo = algo_list[i]\n",
    "    algo_option = algo_option_list[i]\n",
    "    \n",
    "    start = time.time()\n",
    "    print(f\"Case {i}: {name}\")\n",
    "    print(f\"Parametorization: {para_list[i]}\")\n",
    "    print(f\"Type of qtomography: {qtomography.__class__.__name__}\")\n",
    "    print(f\"Estimator: {estimator.__class__.__name__}\")\n",
    "\n",
    "    estimation_results = data_analysis.estimate(\n",
    "       qtomography=qtomography,\n",
    "       true_object=true_object,\n",
    "       num_data=num_data,\n",
    "       estimator=estimator,\n",
    "       loss=loss,\n",
    "       loss_option=loss_option,\n",
    "       algo=algo,\n",
    "       algo_option=algo_option,\n",
    "       iteration=n_rep,\n",
    "    )\n",
    "    estimation_results_list.append(estimation_results)\n",
    "    \n",
    "    # stock settings of this simulation\n",
    "    simulation_setting = StandardQTomographySimulationSetting(\n",
    "        name=name,\n",
    "        estimator=estimator,\n",
    "        loss=loss,\n",
    "        loss_option=loss_option,\n",
    "        algo=algo,\n",
    "        algo_option=algo_option,\n",
    "        true_object = true_object,\n",
    "        tester_objects = tester_objects,\n",
    "        seed=seed,\n",
    "        n_rep=n_rep\n",
    "    )\n",
    "    \n",
    "    simulation_settings.append(simulation_setting)\n",
    "\n",
    "    elapsed_time = time.time() - start\n",
    "    print(\"elapsed_time:{0}\".format(elapsed_time / 60) + \"[min]\\n\")\n",
    "    elapsed_times.append(elapsed_time)"
   ]
  },
  {
   "cell_type": "code",
   "execution_count": 10,
   "metadata": {},
   "outputs": [
    {
     "data": {
      "text/plain": [
       "'\\ndata_analysis.make_mses_graph_estimation_results(\\n    estimation_results_list,\\n    case_name_list,\\n    true_object,\\n    estimator_list=estimator_list,\\n)\\n'"
      ]
     },
     "execution_count": 10,
     "metadata": {},
     "output_type": "execute_result"
    }
   ],
   "source": [
    "\"\"\"\n",
    "data_analysis.make_mses_graph_estimation_results(\n",
    "    estimation_results_list,\n",
    "    case_name_list,\n",
    "    true_object,\n",
    "    estimator_list=estimator_list,\n",
    ")\n",
    "\"\"\""
   ]
  },
  {
   "cell_type": "code",
   "execution_count": 27,
   "metadata": {
    "tags": [
     "outputPrepend"
    ]
   },
   "outputs": [
    {
     "name": "stdout",
     "output_type": "stream",
     "text": [
      "​Generating table of computation time ...\n",
      "​Generating table of tolerance of physicality constraint violation ...\n",
      "​Generating table of experimental conditions ...\n",
      "Generating case list ...\n",
      "Computation time of estimators ...\n"
     ]
    },
    {
     "name": "stderr",
     "output_type": "stream",
     "text": [
      "100%|██████████| 100/100 [00:00<00:00, 20149.42it/s]\n",
      "100%|██████████| 100/100 [00:00<00:00, 117093.91it/s]"
     ]
    },
    {
     "name": "stdout",
     "output_type": "stream",
     "text": [
      "​​Generating MSE of empirical distributions blocks ...\n"
     ]
    },
    {
     "name": "stderr",
     "output_type": "stream",
     "text": [
      "\n"
     ]
    },
    {
     "name": "stdout",
     "output_type": "stream",
     "text": [
      "​​Generating consictency test blocks ...\n",
      "​Generating a graph for MSE ...\n",
      "  LinearEstimator(True)=[0.020663203166004503, 0.002471635556674566]\n",
      "  LinearEstimator(False)=[0.025023630290750703, 0.0025565735748293954]\n",
      "  ProjectedLinearEstimator(True)=[0.02173568415679148, 0.002109955343928706]\n",
      "  ProjectedLinearEstimator(False)=[0.020083936388971393, 0.0022808904009212357]\n",
      "  Maximum-Likelihood(True)=[0.01695788270519532, 0.0018915655456205487]\n",
      "  Maximum-Likelihood(False)=[0.01827768883556187, 0.002150224472505702]\n",
      "  Least Squares(True)=[0.01930044598756442, 0.0019148843932044388]\n",
      "  Least Squares(False)=[0.021624433133689, 0.002315957491719625]\n",
      "  LinearEstimator(True)=[0.020663203166004503, 0.002471635556674566]\n",
      "  ProjectedLinearEstimator(True)=[0.02173568415679148, 0.002109955343928706]\n",
      "  Maximum-Likelihood(True)=[0.01695788270519532, 0.0018915655456205487]\n",
      "  Least Squares(True)=[0.01930044598756442, 0.0019148843932044388]\n",
      "  LinearEstimator(False)=[0.025023630290750703, 0.0025565735748293954]\n",
      "  ProjectedLinearEstimator(False)=[0.020083936388971393, 0.0022808904009212357]\n",
      "  Maximum-Likelihood(False)=[0.01827768883556187, 0.002150224472505702]\n",
      "  Least Squares(False)=[0.021624433133689, 0.002315957491719625]\n"
     ]
    },
    {
     "name": "stderr",
     "output_type": "stream",
     "text": [
      "100%|██████████| 100/100 [00:00<00:00, 24582.72it/s]"
     ]
    },
    {
     "name": "stdout",
     "output_type": "stream",
     "text": [
      "​​Generating physicality violation test blocks ...\n"
     ]
    },
    {
     "name": "stderr",
     "output_type": "stream",
     "text": [
      "\n",
      "100%|██████████| 100/100 [00:00<00:00, 30450.88it/s]\n",
      "100%|██████████| 100/100 [00:00<00:00, 4645.99it/s]\n",
      "  0%|          | 0/2 [00:00<?, ?it/s]\n",
      "2it [00:00, 62.10it/s]\n",
      "\n",
      "2it [00:00, 55.69it/s]\n",
      "100%|██████████| 2/2 [00:00<00:00, 24.41it/s]\n",
      "100%|██████████| 100/100 [00:00<00:00, 4887.55it/s]\n",
      "  0%|          | 0/2 [00:00<?, ?it/s]\n",
      "2it [00:00, 56.08it/s]\n",
      "\n",
      "2it [00:00, 55.44it/s]\n",
      "100%|██████████| 2/2 [00:00<00:00, 22.41it/s]\n",
      "100%|██████████| 100/100 [00:00<00:00, 3200.71it/s]"
     ]
    },
    {
     "name": "stdout",
     "output_type": "stream",
     "text": [
      "type(source[0])=<class 'quara.objects.povm.Povm'>\n"
     ]
    },
    {
     "name": "stderr",
     "output_type": "stream",
     "text": [
      "\n"
     ]
    },
    {
     "ename": "TypeError",
     "evalue": "`source` must be list of EstimationResult or QOperation, not list of <class 'list'>",
     "output_type": "error",
     "traceback": [
      "\u001b[0;31m---------------------------------------------------------------------------\u001b[0m",
      "\u001b[0;31mTypeError\u001b[0m                                 Traceback (most recent call last)",
      "\u001b[0;32m<ipython-input-27-0265c42bdbd9>\u001b[0m in \u001b[0;36m<module>\u001b[0;34m\u001b[0m\n\u001b[0;32m----> 1\u001b[0;31m report.export_report(f\"20210226_povmt_nrep={n_rep}_軸上から離れた表面の少し内側_mode_proj_order={order}.pdf\",\n\u001b[0m\u001b[1;32m      2\u001b[0m     \u001b[0mestimation_results_list\u001b[0m\u001b[0;34m=\u001b[0m\u001b[0mestimation_results_list\u001b[0m\u001b[0;34m,\u001b[0m\u001b[0;34m\u001b[0m\u001b[0;34m\u001b[0m\u001b[0m\n\u001b[1;32m      3\u001b[0m     \u001b[0msimulation_settings\u001b[0m\u001b[0;34m=\u001b[0m\u001b[0msimulation_settings\u001b[0m\u001b[0;34m,\u001b[0m\u001b[0;34m\u001b[0m\u001b[0;34m\u001b[0m\u001b[0m\n\u001b[1;32m      4\u001b[0m     \u001b[0mseed\u001b[0m\u001b[0;34m=\u001b[0m\u001b[0mseed\u001b[0m\u001b[0;34m\u001b[0m\u001b[0;34m\u001b[0m\u001b[0m\n\u001b[1;32m      5\u001b[0m )\n",
      "\u001b[0;32m~/project/rcast/workspace/quara/quara/data_analysis/report.py\u001b[0m in \u001b[0;36mexport_report\u001b[0;34m(path, estimation_results_list, simulation_settings, seed, keep_tmp_files, show_physicality_violation_check)\u001b[0m\n\u001b[1;32m   1319\u001b[0m     \u001b[0mphysicality_violation_check_block\u001b[0m \u001b[0;34m=\u001b[0m \u001b[0;34m\"\"\u001b[0m\u001b[0;34m\u001b[0m\u001b[0;34m\u001b[0m\u001b[0m\n\u001b[1;32m   1320\u001b[0m     \u001b[0;32mif\u001b[0m \u001b[0mshow_physicality_violation_check\u001b[0m\u001b[0;34m:\u001b[0m\u001b[0;34m\u001b[0m\u001b[0;34m\u001b[0m\u001b[0m\n\u001b[0;32m-> 1321\u001b[0;31m         physicality_violation_test_div = generate_physicality_violation_test_div(\n\u001b[0m\u001b[1;32m   1322\u001b[0m             \u001b[0mestimation_results_list\u001b[0m\u001b[0;34m,\u001b[0m \u001b[0mcase_name_list\u001b[0m\u001b[0;34m,\u001b[0m \u001b[0mtrue_object\u001b[0m\u001b[0;34m\u001b[0m\u001b[0;34m\u001b[0m\u001b[0m\n\u001b[1;32m   1323\u001b[0m         )\n",
      "\u001b[0;32m~/project/rcast/workspace/quara/quara/data_analysis/report.py\u001b[0m in \u001b[0;36mgenerate_physicality_violation_test_div\u001b[0;34m(estimation_results_list, case_name_list, true_object)\u001b[0m\n\u001b[1;32m    770\u001b[0m             \u001b[0mtrue_all_div\u001b[0m\u001b[0;34m,\u001b[0m\u001b[0;34m\u001b[0m\u001b[0;34m\u001b[0m\u001b[0m\n\u001b[1;32m    771\u001b[0m             \u001b[0mfalse_all_div\u001b[0m\u001b[0;34m,\u001b[0m\u001b[0;34m\u001b[0m\u001b[0;34m\u001b[0m\u001b[0m\n\u001b[0;32m--> 772\u001b[0;31m         \u001b[0;34m)\u001b[0m \u001b[0;34m=\u001b[0m \u001b[0m_generate_physicality_violation_test_div_for_povm\u001b[0m\u001b[0;34m(\u001b[0m\u001b[0;34m\u001b[0m\u001b[0;34m\u001b[0m\u001b[0m\n\u001b[0m\u001b[1;32m    773\u001b[0m             \u001b[0mestimation_results_list\u001b[0m\u001b[0;34m,\u001b[0m \u001b[0mcase_name_list\u001b[0m\u001b[0;34m,\u001b[0m \u001b[0mtrue_object\u001b[0m\u001b[0;34m\u001b[0m\u001b[0;34m\u001b[0m\u001b[0m\n\u001b[1;32m    774\u001b[0m         )\n",
      "\u001b[0;32m~/project/rcast/workspace/quara/quara/data_analysis/report.py\u001b[0m in \u001b[0;36m_generate_physicality_violation_test_div_for_povm\u001b[0;34m(estimation_results_list, case_name_list, true_object)\u001b[0m\n\u001b[1;32m    653\u001b[0m             \"\"\"\n\u001b[1;32m    654\u001b[0m \u001b[0;34m\u001b[0m\u001b[0m\n\u001b[0;32m--> 655\u001b[0;31m         div = generate_sum_eigenvalues_div(\n\u001b[0m\u001b[1;32m    656\u001b[0m             \u001b[0mestimation_results\u001b[0m\u001b[0;34m,\u001b[0m \u001b[0mcase_id\u001b[0m\u001b[0;34m=\u001b[0m\u001b[0mcase_id\u001b[0m\u001b[0;34m,\u001b[0m \u001b[0mtrue_object\u001b[0m\u001b[0;34m=\u001b[0m\u001b[0mtrue_object\u001b[0m\u001b[0;34m,\u001b[0m\u001b[0;34m\u001b[0m\u001b[0;34m\u001b[0m\u001b[0m\n\u001b[1;32m    657\u001b[0m         )\n",
      "\u001b[0;32m~/project/rcast/workspace/quara/quara/data_analysis/report.py\u001b[0m in \u001b[0;36mgenerate_sum_eigenvalues_div\u001b[0;34m(estimation_results, case_id, true_object)\u001b[0m\n\u001b[1;32m    492\u001b[0m     \u001b[0mestimation_results\u001b[0m\u001b[0;34m:\u001b[0m \u001b[0mList\u001b[0m\u001b[0;34m[\u001b[0m\u001b[0;34m\"EstimationResult\"\u001b[0m\u001b[0;34m]\u001b[0m\u001b[0;34m,\u001b[0m \u001b[0mcase_id\u001b[0m\u001b[0;34m:\u001b[0m \u001b[0mint\u001b[0m\u001b[0;34m,\u001b[0m \u001b[0mtrue_object\u001b[0m\u001b[0;34m,\u001b[0m\u001b[0;34m\u001b[0m\u001b[0;34m\u001b[0m\u001b[0m\n\u001b[1;32m    493\u001b[0m ):\n\u001b[0;32m--> 494\u001b[0;31m     fig_info_list_list = _generate_graph_sum_eigenvalues_seq(\n\u001b[0m\u001b[1;32m    495\u001b[0m         \u001b[0mestimation_results\u001b[0m\u001b[0;34m,\u001b[0m \u001b[0mcase_id\u001b[0m\u001b[0;34m=\u001b[0m\u001b[0mcase_id\u001b[0m\u001b[0;34m,\u001b[0m \u001b[0mtrue_object\u001b[0m\u001b[0;34m=\u001b[0m\u001b[0mtrue_object\u001b[0m\u001b[0;34m\u001b[0m\u001b[0;34m\u001b[0m\u001b[0m\n\u001b[1;32m    496\u001b[0m     )\n",
      "\u001b[0;32m~/project/rcast/workspace/quara/quara/data_analysis/report.py\u001b[0m in \u001b[0;36m_generate_graph_sum_eigenvalues_seq\u001b[0;34m(estimation_results, case_id, true_object)\u001b[0m\n\u001b[1;32m    442\u001b[0m     \u001b[0mfig_info_list_list\u001b[0m \u001b[0;34m=\u001b[0m \u001b[0;34m[\u001b[0m\u001b[0;34m]\u001b[0m\u001b[0;34m\u001b[0m\u001b[0;34m\u001b[0m\u001b[0m\n\u001b[1;32m    443\u001b[0m     \u001b[0;32mfor\u001b[0m \u001b[0mnum_data_index\u001b[0m \u001b[0;32min\u001b[0m \u001b[0mrange\u001b[0m\u001b[0;34m(\u001b[0m\u001b[0mlen\u001b[0m\u001b[0;34m(\u001b[0m\u001b[0mnum_data\u001b[0m\u001b[0;34m)\u001b[0m\u001b[0;34m)\u001b[0m\u001b[0;34m:\u001b[0m\u001b[0;34m\u001b[0m\u001b[0;34m\u001b[0m\u001b[0m\n\u001b[0;32m--> 444\u001b[0;31m         fig_list = physicality_violation_check.make_graphs_sum_unphysical_eigenvalues(\n\u001b[0m\u001b[1;32m    445\u001b[0m             \u001b[0mestimation_results\u001b[0m\u001b[0;34m,\u001b[0m \u001b[0mnum_data_index\u001b[0m\u001b[0;34m=\u001b[0m\u001b[0mnum_data_index\u001b[0m\u001b[0;34m,\u001b[0m\u001b[0;34m\u001b[0m\u001b[0;34m\u001b[0m\u001b[0m\n\u001b[1;32m    446\u001b[0m         )\n",
      "\u001b[0;32m~/project/rcast/workspace/quara/quara/data_analysis/physicality_violation_check.py\u001b[0m in \u001b[0;36mmake_graphs_sum_unphysical_eigenvalues\u001b[0;34m(estimation_results, num_data_index, bin_size)\u001b[0m\n\u001b[1;32m    338\u001b[0m         )\n\u001b[1;32m    339\u001b[0m     \u001b[0;32melif\u001b[0m \u001b[0mtype\u001b[0m\u001b[0;34m(\u001b[0m\u001b[0msample_object\u001b[0m\u001b[0;34m)\u001b[0m \u001b[0;34m==\u001b[0m \u001b[0mPovm\u001b[0m\u001b[0;34m:\u001b[0m\u001b[0;34m\u001b[0m\u001b[0;34m\u001b[0m\u001b[0m\n\u001b[0;32m--> 340\u001b[0;31m         figs = _make_graphs_sum_unphysical_eigenvalues_for_povm(\n\u001b[0m\u001b[1;32m    341\u001b[0m             \u001b[0mestimated_qoperations\u001b[0m\u001b[0;34m,\u001b[0m \u001b[0mn_data\u001b[0m\u001b[0;34m,\u001b[0m \u001b[0mbin_size\u001b[0m\u001b[0;34m\u001b[0m\u001b[0;34m\u001b[0m\u001b[0m\n\u001b[1;32m    342\u001b[0m         )\n",
      "\u001b[0;32m~/project/rcast/workspace/quara/quara/data_analysis/physicality_violation_check.py\u001b[0m in \u001b[0;36m_make_graphs_sum_unphysical_eigenvalues_for_povm\u001b[0;34m(estimated_povms, num_data, bin_size)\u001b[0m\n\u001b[1;32m    659\u001b[0m     \u001b[0mmeasurement_n\u001b[0m \u001b[0;34m=\u001b[0m \u001b[0mlen\u001b[0m\u001b[0;34m(\u001b[0m\u001b[0mestimated_povms\u001b[0m\u001b[0;34m[\u001b[0m\u001b[0;36m0\u001b[0m\u001b[0;34m]\u001b[0m\u001b[0;34m.\u001b[0m\u001b[0mvecs\u001b[0m\u001b[0;34m)\u001b[0m\u001b[0;34m\u001b[0m\u001b[0;34m\u001b[0m\u001b[0m\n\u001b[1;32m    660\u001b[0m \u001b[0;34m\u001b[0m\u001b[0m\n\u001b[0;32m--> 661\u001b[0;31m     \u001b[0mn_unphysical\u001b[0m \u001b[0;34m=\u001b[0m \u001b[0mcalc_unphysical_qobjects_n\u001b[0m\u001b[0;34m(\u001b[0m\u001b[0mestimated_povms\u001b[0m\u001b[0;34m)\u001b[0m\u001b[0;34m\u001b[0m\u001b[0;34m\u001b[0m\u001b[0m\n\u001b[0m\u001b[1;32m    662\u001b[0m \u001b[0;34m\u001b[0m\u001b[0m\n\u001b[1;32m    663\u001b[0m     \u001b[0mxaxis_title_text\u001b[0m \u001b[0;34m=\u001b[0m \u001b[0;34mf\"Sum of negative eigenvalues (<0)\"\u001b[0m\u001b[0;34m\u001b[0m\u001b[0;34m\u001b[0m\u001b[0m\n",
      "\u001b[0;32m~/project/rcast/workspace/quara/quara/data_analysis/physicality_violation_check.py\u001b[0m in \u001b[0;36mcalc_unphysical_qobjects_n\u001b[0;34m(source, num_data_index)\u001b[0m\n\u001b[1;32m    582\u001b[0m         \u001b[0mmessage\u001b[0m \u001b[0;34m=\u001b[0m \u001b[0;34mf\"`source` must be list of EstimationResult or QOperation, not list of {type(source)}\"\u001b[0m\u001b[0;34m\u001b[0m\u001b[0;34m\u001b[0m\u001b[0m\n\u001b[1;32m    583\u001b[0m         \u001b[0mprint\u001b[0m\u001b[0;34m(\u001b[0m\u001b[0;34mf\"type(source[0])={type(source[0])}\"\u001b[0m\u001b[0;34m)\u001b[0m\u001b[0;34m\u001b[0m\u001b[0;34m\u001b[0m\u001b[0m\n\u001b[0;32m--> 584\u001b[0;31m         \u001b[0;32mraise\u001b[0m \u001b[0mTypeError\u001b[0m\u001b[0;34m(\u001b[0m\u001b[0mmessage\u001b[0m\u001b[0;34m)\u001b[0m\u001b[0;34m\u001b[0m\u001b[0;34m\u001b[0m\u001b[0m\n\u001b[0m\u001b[1;32m    585\u001b[0m \u001b[0;34m\u001b[0m\u001b[0m\n\u001b[1;32m    586\u001b[0m     \u001b[0meq_const_eps\u001b[0m \u001b[0;34m=\u001b[0m \u001b[0mget_eq_const_eps\u001b[0m\u001b[0;34m(\u001b[0m\u001b[0mestimated_qoperations\u001b[0m\u001b[0;34m[\u001b[0m\u001b[0;36m0\u001b[0m\u001b[0;34m]\u001b[0m\u001b[0;34m.\u001b[0m\u001b[0mon_para_eq_constraint\u001b[0m\u001b[0;34m)\u001b[0m\u001b[0;34m\u001b[0m\u001b[0;34m\u001b[0m\u001b[0m\n",
      "\u001b[0;31mTypeError\u001b[0m: `source` must be list of EstimationResult or QOperation, not list of <class 'list'>"
     ]
    }
   ],
   "source": [
    "report.export_report(f\"20210226_povmt_nrep={n_rep}_軸上から離れた表面の少し内側_mode_proj_order={order}.pdf\",\n",
    "    estimation_results_list=estimation_results_list,\n",
    "    simulation_settings=simulation_settings,\n",
    "    seed=seed\n",
    ")"
   ]
  },
  {
   "cell_type": "code",
   "execution_count": null,
   "metadata": {},
   "outputs": [],
   "source": []
  },
  {
   "cell_type": "code",
   "execution_count": 20,
   "metadata": {},
   "outputs": [
    {
     "name": "stdout",
     "output_type": "stream",
     "text": [
      "Case 0: LinearEstimator(True)\n",
      "[OK] N=100 is_eq_constraint_satisfied_all\n",
      "True=100, False=0, eps=1e-13\n",
      "[OK] N=1000 is_eq_constraint_satisfied_all\n",
      "True=100, False=0, eps=1e-13\n",
      "-==============================\n",
      "\n",
      "Case 1: LinearEstimator(False)\n",
      "[Skipped] Physicality Violation Check \n",
      "If on_para_eq_constraint is False in Linear Estimator, nothing is checked.\n",
      "-==============================\n",
      "\n",
      "Case 2: ProjectedLinearEstimator(True)\n",
      "[NG] N=100 physicality violation check\n",
      "True=38, False=62\n",
      "[NG] N=1000 physicality violation check\n",
      "True=37, False=63\n",
      "-==============================\n",
      "\n",
      "Case 3: ProjectedLinearEstimator(False)\n",
      "[NG] N=100 physicality violation check\n",
      "True=23, False=77\n",
      "[NG] N=1000 physicality violation check\n",
      "True=26, False=74\n",
      "-==============================\n",
      "\n",
      "Case 4: Maximum-Likelihood(True)\n",
      "[OK] N=100 is_eq_constraint_satisfied_all\n",
      "True=100, False=0, eps=1e-13\n",
      "[OK] N=1000 is_eq_constraint_satisfied_all\n",
      "True=100, False=0, eps=1e-13\n",
      "[NG] N=100 is_ineq_constraint_satisfied_all\n",
      "True=42, False=58, eps=1e-09\n",
      "[NG] N=1000 is_ineq_constraint_satisfied_all\n",
      "True=51, False=49, eps=1e-09\n",
      "-==============================\n",
      "\n",
      "Case 5: Maximum-Likelihood(False)\n",
      "[NG] N=100 is_eq_constraint_satisfied_all\n",
      "True=11, False=89, eps=1e-13\n",
      "[NG] N=1000 is_eq_constraint_satisfied_all\n",
      "True=2, False=98, eps=1e-13\n",
      "[OK] N=100 is_ineq_constraint_satisfied_all\n",
      "True=100, False=0, eps=1e-09\n",
      "[OK] N=1000 is_ineq_constraint_satisfied_all\n",
      "True=100, False=0, eps=1e-09\n",
      "-==============================\n",
      "\n",
      "Case 6: Least Squares(True)\n",
      "[OK] N=100 is_eq_constraint_satisfied_all\n",
      "True=100, False=0, eps=1e-13\n",
      "[OK] N=1000 is_eq_constraint_satisfied_all\n",
      "True=100, False=0, eps=1e-13\n",
      "[NG] N=100 is_ineq_constraint_satisfied_all\n",
      "True=58, False=42, eps=1e-09\n",
      "[NG] N=1000 is_ineq_constraint_satisfied_all\n",
      "True=50, False=50, eps=1e-09\n",
      "-==============================\n",
      "\n",
      "Case 7: Least Squares(False)\n",
      "[NG] N=100 is_eq_constraint_satisfied_all\n",
      "True=24, False=76, eps=1e-13\n",
      "[NG] N=1000 is_eq_constraint_satisfied_all\n",
      "True=27, False=73, eps=1e-13\n",
      "[OK] N=100 is_ineq_constraint_satisfied_all\n",
      "True=100, False=0, eps=1e-09\n",
      "[OK] N=1000 is_ineq_constraint_satisfied_all\n",
      "True=100, False=0, eps=1e-09\n",
      "-==============================\n",
      "\n"
     ]
    }
   ],
   "source": [
    "from quara.data_analysis.simulation_check import StandardQTomographySimulationCheck\n",
    "\n",
    "results = []\n",
    "for i in range(len(simulation_settings)):\n",
    "    sim_check = StandardQTomographySimulationCheck(simulation_settings[i], estimation_results_list[i])\n",
    "    print(f\"Case {i}: {simulation_settings[i].name}\")\n",
    "    result = sim_check.execute_physicality_violation_check()\n",
    "    results.append(result)\n",
    "    print(\"-==============================\")\n",
    "    print()"
   ]
  },
  {
   "cell_type": "code",
   "execution_count": 14,
   "metadata": {
    "scrolled": false
   },
   "outputs": [
    {
     "name": "stderr",
     "output_type": "stream",
     "text": [
      "100%|██████████| 2/2 [00:00<00:00, 2430.07it/s]\n",
      "100%|██████████| 2/2 [00:00<00:00, 4728.64it/s]\n",
      "100%|██████████| 2/2 [00:00<00:00, 3951.30it/s]\n",
      "100%|██████████| 2/2 [00:00<00:00, 3636.15it/s]\n",
      "100%|██████████| 2/2 [00:00<00:00, 1702.23it/s]\n",
      "100%|██████████| 2/2 [00:00<00:00, 3521.67it/s]\n",
      "100%|██████████| 2/2 [00:00<00:00, 35.01it/s]"
     ]
    },
    {
     "name": "stdout",
     "output_type": "stream",
     "text": [
      "Case 0: LinearEstimator(True)\n",
      "[OK] N=100\n",
      "|MSE_EmpiDist - MSE_Analytical| = 0.004839969244287908\n",
      "eps = 0.010137034228419863\n",
      "[NG] N=1000\n",
      "|MSE_EmpiDist - MSE_Analytical| = 0.0007989543548555717\n",
      "eps = 0.0003511537043399281\n",
      "[OK] Consistency Check\n",
      "result=9.599797807798177e-31\n",
      "eps=1e-10\n",
      "result < eps: True\n",
      "[OK] N=100\n",
      "|MSE_Linear - MSE_Analytical| = 0.0002411229460638903\n",
      "eps = 0.07312831073421351\n",
      "[OK] N=1000\n",
      "|MSE_Linear - MSE_Analytical| = 0.0013397515569817456\n",
      "eps = 0.0034742762128161238\n",
      "[OK] N=100 is_eq_constraint_satisfied_all\n",
      "True=2, False=0, eps=1e-13\n",
      "[OK] N=1000 is_eq_constraint_satisfied_all\n",
      "True=2, False=0, eps=1e-13\n",
      "========== Summary ============\n",
      "Name: LinearEstimator(True)\n",
      "MSE of Empirical Distributions: \u001b[31mNG\u001b[0m\n",
      "Consistency: \u001b[32mOK\u001b[0m\n",
      "MSE of estimators: \u001b[32mOK\u001b[0m\n",
      "Physicality Violation: \u001b[32mOK\u001b[0m\n",
      "-==============================\n",
      "\n",
      "Case 1: LinearEstimator(False)\n",
      "[OK] N=100\n",
      "|MSE_EmpiDist - MSE_Analytical| = 0.004166376115480755\n",
      "eps = 0.020610173055266433\n",
      "[OK] N=1000\n",
      "|MSE_EmpiDist - MSE_Analytical| = 0.0003413371461596772\n",
      "eps = 0.0023851477660219856\n",
      "[OK] Consistency Check\n",
      "result=8.185202263645752e-32\n",
      "eps=1e-10\n",
      "result < eps: True\n",
      "[NG] N=100\n",
      "|MSE_Linear - MSE_Analytical| = 0.012841122946064031\n",
      "eps = 0.0029245450603170285\n",
      "[OK] N=1000\n",
      "|MSE_Linear - MSE_Analytical| = 0.000642326381660438\n",
      "eps = 0.005670310760472324\n",
      "[Skipped] Physicality Violation Check \n",
      "If on_para_eq_constraint is False in Linear Estimator, nothing is checked.\n",
      "========== Summary ============\n",
      "Name: LinearEstimator(False)\n",
      "MSE of Empirical Distributions: \u001b[32mOK\u001b[0m\n",
      "Consistency: \u001b[32mOK\u001b[0m\n",
      "MSE of estimators: \u001b[31mNG\u001b[0m\n",
      "Physicality Violation: \u001b[32mOK\u001b[0m\n",
      "-==============================\n",
      "\n",
      "Case 2: ProjectedLinearEstimator(True)\n",
      "[NG] N=100\n",
      "|MSE_EmpiDist - MSE_Analytical| = 0.005763850798539069\n",
      "eps = 0.004968419945996202\n",
      "[OK] N=1000\n",
      "|MSE_EmpiDist - MSE_Analytical| = 0.00015868633226372012\n",
      "eps = 0.0007116922341955682\n",
      "[OK] Consistency Check\n",
      "result=4.669417150166852e-31\n",
      "eps=1e-10\n",
      "result < eps: True\n",
      "[NG] N=100\n",
      "MSE_Linear - MSE_ProjectedLinearEstimator = -0.0028480332928473087\n",
      "[OK] N=1000\n",
      "MSE_Linear - MSE_ProjectedLinearEstimator = 2.8783491017493265e-05\n",
      "[NG] N=100 physicality violation check\n",
      "True=1, False=1\n",
      "[NG] N=1000 physicality violation check\n",
      "True=1, False=1\n",
      "========== Summary ============\n",
      "Name: ProjectedLinearEstimator(True)\n",
      "MSE of Empirical Distributions: \u001b[31mNG\u001b[0m\n",
      "Consistency: \u001b[32mOK\u001b[0m\n",
      "MSE of estimators: \u001b[31mNG\u001b[0m\n",
      "Physicality Violation: \u001b[31mNG\u001b[0m\n",
      "-==============================\n",
      "\n",
      "Case 3: ProjectedLinearEstimator(False)\n"
     ]
    },
    {
     "name": "stderr",
     "output_type": "stream",
     "text": [
      "\n",
      "100%|██████████| 2/2 [00:00<00:00, 4417.38it/s]\n",
      "100%|██████████| 2/2 [00:00<00:00, 2233.98it/s]\n",
      "100%|██████████| 2/2 [00:00<00:00, 34.47it/s]\n",
      "100%|██████████| 2/2 [00:00<00:00, 1673.37it/s]\n",
      "100%|██████████| 2/2 [00:00<00:00, 3611.11it/s]\n"
     ]
    },
    {
     "name": "stdout",
     "output_type": "stream",
     "text": [
      "[OK] N=100\n",
      "|MSE_EmpiDist - MSE_Analytical| = 0.0017889629438466031\n",
      "eps = 0.021493290600952022\n",
      "[OK] N=1000\n",
      "|MSE_EmpiDist - MSE_Analytical| = 0.00022175414412919144\n",
      "eps = 0.00202814758127016\n",
      "[OK] Consistency Check\n",
      "result=1.0563725744963989e-31\n",
      "eps=1e-10\n",
      "result < eps: True\n",
      "[NG] N=100\n",
      "MSE_Linear - MSE_ProjectedLinearEstimator = -0.0009644991818551496\n",
      "[OK] N=1000\n",
      "MSE_Linear - MSE_ProjectedLinearEstimator = 0.0028670770285831315\n",
      "[NG] N=100 physicality violation check\n",
      "True=0, False=2\n",
      "[NG] N=1000 physicality violation check\n",
      "True=0, False=2\n",
      "========== Summary ============\n",
      "Name: ProjectedLinearEstimator(False)\n",
      "MSE of Empirical Distributions: \u001b[32mOK\u001b[0m\n",
      "Consistency: \u001b[32mOK\u001b[0m\n",
      "MSE of estimators: \u001b[31mNG\u001b[0m\n",
      "Physicality Violation: \u001b[31mNG\u001b[0m\n",
      "-==============================\n",
      "\n",
      "Case 4: Maximum-Likelihood(True)\n",
      "[OK] N=100\n",
      "|MSE_EmpiDist - MSE_Analytical| = 0.0023242404917498093\n",
      "eps = 0.03472292218890234\n",
      "[OK] N=1000\n",
      "|MSE_EmpiDist - MSE_Analytical| = 0.00033595435485557186\n",
      "eps = 0.001119647071467588\n"
     ]
    },
    {
     "name": "stderr",
     "output_type": "stream",
     "text": [
      "100%|██████████| 2/2 [00:00<00:00, 58.64it/s]\n",
      "100%|██████████| 2/2 [00:00<00:00, 2645.41it/s]\n",
      "100%|██████████| 2/2 [00:00<00:00, 597.01it/s]"
     ]
    },
    {
     "name": "stdout",
     "output_type": "stream",
     "text": [
      "[OK] Consistency Check\n",
      "result=1.8179366425234037e-14\n",
      "eps=1e-10\n",
      "result < eps: True\n",
      "[NG] N=100\n",
      "MSE_Linear - MSE_LossMinimizationEstimator = -0.009051855264448332\n",
      "[NG] N=1000\n",
      "MSE_Linear - MSE_LossMinimizationEstimator = -5.424825281612417e-05\n",
      "[OK] N=100 is_eq_constraint_satisfied_all\n",
      "True=2, False=0, eps=1e-13\n",
      "[OK] N=1000 is_eq_constraint_satisfied_all\n",
      "True=2, False=0, eps=1e-13\n",
      "[NG] N=100 is_ineq_constraint_satisfied_all\n",
      "True=0, False=2, eps=1e-09\n",
      "[NG] N=1000 is_ineq_constraint_satisfied_all\n",
      "True=0, False=2, eps=1e-09\n",
      "========== Summary ============\n",
      "Name: Maximum-Likelihood(True)\n",
      "MSE of Empirical Distributions: \u001b[32mOK\u001b[0m\n",
      "Consistency: \u001b[32mOK\u001b[0m\n",
      "MSE of estimators: \u001b[31mNG\u001b[0m\n",
      "Physicality Violation: \u001b[31mNG\u001b[0m\n",
      "-==============================\n",
      "\n",
      "Case 5: Maximum-Likelihood(False)\n",
      "[NG] N=100\n",
      "|MSE_EmpiDist - MSE_Analytical| = 0.0025902576697319005\n",
      "eps = 0.00012274887854694054\n",
      "[OK] N=1000\n",
      "|MSE_EmpiDist - MSE_Analytical| = 0.00020982195599466473\n",
      "eps = 0.0018032876248528379\n"
     ]
    },
    {
     "name": "stderr",
     "output_type": "stream",
     "text": [
      "\n",
      "100%|██████████| 2/2 [00:00<00:00, 57.95it/s]\n",
      "100%|██████████| 2/2 [00:00<00:00, 4554.08it/s]\n",
      "100%|██████████| 2/2 [00:00<00:00, 5729.92it/s]"
     ]
    },
    {
     "name": "stdout",
     "output_type": "stream",
     "text": [
      "[OK] Consistency Check\n",
      "result=9.103765623288926e-15\n",
      "eps=1e-10\n",
      "result < eps: True\n",
      "[OK] N=100\n",
      "MSE_Linear - MSE_LossMinimizationEstimator = 0.0169383897472777\n",
      "[OK] N=1000\n",
      "MSE_Linear - MSE_LossMinimizationEstimator = 0.0034478129331349046\n",
      "[OK] N=100 is_eq_constraint_satisfied_all\n",
      "True=2, False=0, eps=1e-13\n",
      "[OK] N=1000 is_eq_constraint_satisfied_all\n",
      "True=2, False=0, eps=1e-13\n",
      "[NG] N=100 is_ineq_constraint_satisfied_all\n",
      "True=0, False=2, eps=1e-09\n",
      "[NG] N=1000 is_ineq_constraint_satisfied_all\n",
      "True=0, False=2, eps=1e-09\n",
      "========== Summary ============\n",
      "Name: Maximum-Likelihood(False)\n",
      "MSE of Empirical Distributions: \u001b[31mNG\u001b[0m\n",
      "Consistency: \u001b[32mOK\u001b[0m\n",
      "MSE of estimators: \u001b[32mOK\u001b[0m\n",
      "Physicality Violation: \u001b[31mNG\u001b[0m\n",
      "-==============================\n",
      "\n",
      "Case 6: Least Squares(True)\n",
      "[OK] N=100\n",
      "|MSE_EmpiDist - MSE_Analytical| = 0.0011178951319811142\n",
      "eps = 0.04157787873376893\n",
      "[OK] N=1000\n",
      "|MSE_EmpiDist - MSE_Analytical| = 0.0008141913956520553\n",
      "eps = 0.0013959941188893912\n"
     ]
    },
    {
     "name": "stderr",
     "output_type": "stream",
     "text": [
      "\n",
      "100%|██████████| 2/2 [00:00<00:00, 5511.57it/s]\n",
      "100%|██████████| 2/2 [00:00<00:00, 5862.06it/s]"
     ]
    },
    {
     "name": "stdout",
     "output_type": "stream",
     "text": [
      "[OK] Consistency Check\n",
      "result=4.8927450123350675e-14\n",
      "eps=1e-10\n",
      "result < eps: True\n",
      "[OK] N=100 is_eq_constraint_satisfied_all\n",
      "True=2, False=0, eps=1e-13\n",
      "[OK] N=1000 is_eq_constraint_satisfied_all\n",
      "True=2, False=0, eps=1e-13\n",
      "[NG] N=100 is_ineq_constraint_satisfied_all\n",
      "True=1, False=1, eps=1e-09\n",
      "[NG] N=1000 is_ineq_constraint_satisfied_all\n",
      "True=0, False=2, eps=1e-09\n",
      "========== Summary ============\n",
      "Name: Least Squares(True)\n",
      "MSE of Empirical Distributions: \u001b[32mOK\u001b[0m\n",
      "Consistency: \u001b[32mOK\u001b[0m\n",
      "MSE of estimators: \u001b[32mOK\u001b[0m\n",
      "Physicality Violation: \u001b[31mNG\u001b[0m\n",
      "-==============================\n",
      "\n",
      "Case 7: Least Squares(False)\n",
      "[OK] N=100\n",
      "|MSE_EmpiDist - MSE_Analytical| = 0.003197833620556971\n",
      "eps = 0.0056941992048731155\n",
      "[OK] N=1000\n",
      "|MSE_EmpiDist - MSE_Analytical| = 0.0003667354283614675\n",
      "eps = 0.003510475985074312\n"
     ]
    },
    {
     "name": "stderr",
     "output_type": "stream",
     "text": [
      "\n"
     ]
    },
    {
     "name": "stdout",
     "output_type": "stream",
     "text": [
      "[OK] Consistency Check\n",
      "result=1.8110893451293842e-14\n",
      "eps=1e-10\n",
      "result < eps: True\n",
      "[OK] N=100 is_eq_constraint_satisfied_all\n",
      "True=2, False=0, eps=1e-13\n",
      "[OK] N=1000 is_eq_constraint_satisfied_all\n",
      "True=2, False=0, eps=1e-13\n",
      "[NG] N=100 is_ineq_constraint_satisfied_all\n",
      "True=1, False=1, eps=1e-09\n",
      "[NG] N=1000 is_ineq_constraint_satisfied_all\n",
      "True=0, False=2, eps=1e-09\n",
      "========== Summary ============\n",
      "Name: Least Squares(False)\n",
      "MSE of Empirical Distributions: \u001b[32mOK\u001b[0m\n",
      "Consistency: \u001b[32mOK\u001b[0m\n",
      "MSE of estimators: \u001b[32mOK\u001b[0m\n",
      "Physicality Violation: \u001b[31mNG\u001b[0m\n",
      "-==============================\n",
      "\n"
     ]
    }
   ],
   "source": [
    "from quara.data_analysis.simulation_check import StandardQTomographySimulationCheck\n",
    "\n",
    "results = []\n",
    "for i in range(len(simulation_settings)):\n",
    "    sim_check = StandardQTomographySimulationCheck(simulation_settings[i], estimation_results_list[i])\n",
    "    print(f\"Case {i}: {simulation_settings[i].name}\")\n",
    "    result = sim_check.execute_all()\n",
    "    results.append(result)\n",
    "    print(\"-==============================\")\n",
    "    print()"
   ]
  },
  {
   "cell_type": "code",
   "execution_count": null,
   "metadata": {},
   "outputs": [],
   "source": []
  }
 ],
 "metadata": {
  "hide_input": false,
  "kernelspec": {
   "display_name": "quara_venv",
   "language": "python",
   "name": "quara_venv"
  },
  "language_info": {
   "codemirror_mode": {
    "name": "ipython",
    "version": 3
   },
   "file_extension": ".py",
   "mimetype": "text/x-python",
   "name": "python",
   "nbconvert_exporter": "python",
   "pygments_lexer": "ipython3",
   "version": "3.8.0"
  },
  "toc": {
   "base_numbering": 1,
   "nav_menu": {},
   "number_sections": true,
   "sideBar": true,
   "skip_h1_title": false,
   "title_cell": "Table of Contents",
   "title_sidebar": "Contents",
   "toc_cell": false,
   "toc_position": {},
   "toc_section_display": true,
   "toc_window_display": false
  },
  "varInspector": {
   "cols": {
    "lenName": 16,
    "lenType": 16,
    "lenVar": 40
   },
   "kernels_config": {
    "python": {
     "delete_cmd_postfix": "",
     "delete_cmd_prefix": "del ",
     "library": "var_list.py",
     "varRefreshCmd": "print(var_dic_list())"
    },
    "r": {
     "delete_cmd_postfix": ") ",
     "delete_cmd_prefix": "rm(",
     "library": "var_list.r",
     "varRefreshCmd": "cat(var_dic_list()) "
    }
   },
   "types_to_exclude": [
    "module",
    "function",
    "builtin_function_or_method",
    "instance",
    "_Feature"
   ],
   "window_display": false
  }
 },
 "nbformat": 4,
 "nbformat_minor": 4
}
