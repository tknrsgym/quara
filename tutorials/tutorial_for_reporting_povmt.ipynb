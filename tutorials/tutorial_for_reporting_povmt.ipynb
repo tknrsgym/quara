{
 "cells": [
  {
   "cell_type": "code",
   "execution_count": 1,
   "metadata": {},
   "outputs": [],
   "source": [
    "# Povm"
   ]
  },
  {
   "cell_type": "code",
   "execution_count": 2,
   "metadata": {},
   "outputs": [],
   "source": [
    "import pickle\n",
    "import time\n",
    "from typing import List\n",
    "import datetime as dt\n",
    "from pathlib import Path\n",
    "\n",
    "import numpy as np\n",
    "import pandas as pd\n",
    "import plotly.graph_objects as go\n",
    "import plotly.express as px\n",
    "\n",
    "from tqdm import tqdm\n",
    "\n",
    "from quara.data_analysis import data_analysis, physicality_violation_check, report\n",
    "from quara.data_analysis.projected_gradient_descent_base import ProjectedGradientDescentBase, ProjectedGradientDescentBaseOption\n",
    "from quara.data_analysis.weighted_probability_based_squared_error import WeightedProbabilityBasedSquaredError, WeightedProbabilityBasedSquaredErrorOption\n",
    "from quara.data_analysis.weighted_relative_entropy import WeightedRelativeEntropy, WeightedRelativeEntropyOption\n",
    "from quara.objects.composite_system import CompositeSystem\n",
    "from quara.objects.elemental_system import ElementalSystem\n",
    "from quara.objects.matrix_basis import get_normalized_pauli_basis\n",
    "from quara.objects.state import (\n",
    "    State,\n",
    "    get_x0_1q,\n",
    "    get_x1_1q,\n",
    "    get_y0_1q,\n",
    "    get_y1_1q,\n",
    "    get_z0_1q,\n",
    "    get_z1_1q,\n",
    ")\n",
    "from quara.objects.povm import (\n",
    "    Povm,get_x_measurement\n",
    ")\n",
    "from quara.objects.qoperation import QOperation\n",
    "from quara.protocol.qtomography.standard.standard_povmt import StandardPovmt\n",
    "from quara.protocol.qtomography.standard.linear_estimator import LinearEstimator\n",
    "from quara.protocol.qtomography.standard.loss_minimization_estimator import LossMinimizationEstimator\n",
    "from quara.protocol.qtomography.standard.projected_linear_estimator import (\n",
    "    ProjectedLinearEstimator,\n",
    ")"
   ]
  },
  {
   "cell_type": "code",
   "execution_count": 3,
   "metadata": {},
   "outputs": [],
   "source": [
    "%load_ext autoreload\n",
    "%autoreload 2"
   ]
  },
  {
   "cell_type": "code",
   "execution_count": 4,
   "metadata": {},
   "outputs": [],
   "source": [
    "start_all = time.time()"
   ]
  },
  {
   "cell_type": "code",
   "execution_count": 5,
   "metadata": {},
   "outputs": [],
   "source": [
    "# setup system\n",
    "e_sys = ElementalSystem(0, get_normalized_pauli_basis())\n",
    "c_sys = CompositeSystem([e_sys])\n",
    "\n",
    "# |+><+|\n",
    "state_x0 = get_x0_1q(c_sys)\n",
    "# |+i><+i|\n",
    "state_y0 = get_y0_1q(c_sys)\n",
    "# |0><0|\n",
    "state_z0 = get_z0_1q(c_sys)\n",
    "# |1><1|\n",
    "state_z1 = get_z1_1q(c_sys)\n",
    "tester_objects = [state_x0, state_y0, state_z0, state_z1]"
   ]
  },
  {
   "cell_type": "code",
   "execution_count": 6,
   "metadata": {},
   "outputs": [
    {
     "output_type": "execute_result",
     "data": {
      "text/plain": [
       "(array([0.70710678, 0.5       , 0.        , 0.5       ]),\n",
       " array([ 0.70710678, -0.5       ,  0.        , -0.5       ]))"
      ]
     },
     "metadata": {},
     "execution_count": 6
    }
   ],
   "source": [
    "# Case 1: 軸上\n",
    "# a0, a1, a2, a3 = 1, 1, 0, 0\n",
    "# m1 = (1 / np.sqrt(2)) * np.array([a0, a1, a2, a3])\n",
    "# m2 = (1 / np.sqrt(2)) * np.array([2 - a0, -a1, -a2, -a3])\n",
    "\n",
    "# Case 2: 軸から一番離れた表面\n",
    "a0, a1, a2, a3 = 1, 1 / np.sqrt(2), 0, 1 / np.sqrt(2)\n",
    "m1 = (1 / np.sqrt(2)) * np.array([a0, a1, a2, a3])\n",
    "m2 = (1 / np.sqrt(2)) * np.array([2 - a0, -a1, -a2, -a3])\n",
    "\n",
    "# Case 3: 原点\n",
    "# a0, a1, a2, a3 = 1, 0, 0, 0\n",
    "# m1 = (1 / np.sqrt(2)) * np.array([a0, a1, a2, a3])\n",
    "# m2 = (1 / np.sqrt(2)) * np.array([2 - a0, -a1, -a2, -a3])\n",
    "\n",
    "true_object = Povm(vecs=[m1, m2], c_sys=c_sys)\n",
    "\n",
    "true_object.vecs"
   ]
  },
  {
   "cell_type": "code",
   "execution_count": 7,
   "metadata": {},
   "outputs": [
    {
     "output_type": "stream",
     "name": "stderr",
     "text": [
      " 20%|██        | 2/10 [00:00<00:00, 12.35it/s]Case 0: LinearEstimator(True)\n",
      "Parametorization: True\n",
      "Type of qtomography: StandardPovmt\n",
      "Estimator: LinearEstimator\n",
      "100%|██████████| 10/10 [00:01<00:00,  9.82it/s]\n",
      " 10%|█         | 1/10 [00:00<00:00,  9.09it/s]elapsed_time:0.01723326841990153[min]\n",
      "\n",
      "Case 1: LinearEstimator(False)\n",
      "Parametorization: False\n",
      "Type of qtomography: StandardPovmt\n",
      "Estimator: LinearEstimator\n",
      "100%|██████████| 10/10 [00:01<00:00,  9.17it/s]\n",
      " 10%|█         | 1/10 [00:00<00:01,  5.81it/s]elapsed_time:0.01824998458226522[min]\n",
      "\n",
      "Case 2: ProjectedLinearEstimator(True)\n",
      "Parametorization: True\n",
      "Type of qtomography: StandardPovmt\n",
      "Estimator: ProjectedLinearEstimator\n",
      "100%|██████████| 10/10 [00:01<00:00,  6.41it/s]\n",
      "  0%|          | 0/10 [00:00<?, ?it/s]elapsed_time:0.0260780135790507[min]\n",
      "\n",
      "Case 3: ProjectedLinearEstimator(False)\n",
      "Parametorization: False\n",
      "Type of qtomography: StandardPovmt\n",
      "Estimator: ProjectedLinearEstimator\n",
      "100%|██████████| 10/10 [00:01<00:00,  6.02it/s]\n",
      "  0%|          | 0/10 [00:00<?, ?it/s]elapsed_time:0.027833290894826255[min]\n",
      "\n",
      "Case 4: Maximum-Likelihood(True)\n",
      "Parametorization: True\n",
      "Type of qtomography: StandardPovmt\n",
      "Estimator: LossMinimizationEstimator\n",
      "** pgdb k=0\n",
      "** pgdb k=10\n",
      "** pgdb k=20\n",
      "** pgdb k=30\n",
      "** pgdb k=40\n",
      "** pgdb k=0\n",
      "** pgdb k=10\n",
      "** pgdb k=20\n",
      "** pgdb k=30\n",
      "** pgdb k=0\n",
      " 10%|█         | 1/10 [00:03<00:33,  3.68s/it]** pgdb k=10\n",
      "** pgdb k=20\n",
      "** pgdb k=30\n",
      "** pgdb k=0\n",
      "** pgdb k=10\n",
      "** pgdb k=20\n",
      "** pgdb k=30\n",
      "** pgdb k=40\n",
      "** pgdb k=50\n",
      "** pgdb k=60\n",
      "** pgdb k=70\n",
      "** pgdb k=0\n",
      "** pgdb k=10\n",
      "** pgdb k=20\n",
      "** pgdb k=30\n",
      "** pgdb k=0\n",
      "** pgdb k=10\n",
      "** pgdb k=20\n",
      "** pgdb k=30\n",
      "** pgdb k=40\n",
      "** pgdb k=50\n",
      " 20%|██        | 2/10 [00:10<00:35,  4.50s/it]** pgdb k=60\n",
      "** pgdb k=0\n",
      "** pgdb k=10\n",
      "** pgdb k=20\n",
      "** pgdb k=30\n",
      "** pgdb k=40\n",
      "** pgdb k=0\n",
      "** pgdb k=10\n",
      "** pgdb k=20\n",
      "** pgdb k=30\n",
      "** pgdb k=0\n",
      " 30%|███       | 3/10 [00:12<00:27,  3.88s/it]** pgdb k=10\n",
      "** pgdb k=20\n",
      "** pgdb k=30\n",
      "** pgdb k=0\n",
      "** pgdb k=10\n",
      "** pgdb k=20\n",
      "** pgdb k=30\n",
      "** pgdb k=0\n",
      "** pgdb k=10\n",
      "** pgdb k=20\n",
      "** pgdb k=30\n",
      "** pgdb k=40\n",
      "** pgdb k=50\n",
      "** pgdb k=60\n",
      "** pgdb k=70\n",
      "** pgdb k=0\n",
      "** pgdb k=10\n",
      "** pgdb k=20\n",
      "** pgdb k=30\n",
      "** pgdb k=40\n",
      "** pgdb k=50\n",
      "** pgdb k=60\n",
      " 40%|████      | 4/10 [00:17<00:26,  4.34s/it]** pgdb k=70\n",
      "** pgdb k=0\n",
      "** pgdb k=10\n",
      "** pgdb k=20\n",
      "** pgdb k=30\n",
      "** pgdb k=0\n",
      "** pgdb k=10\n",
      "** pgdb k=20\n",
      "** pgdb k=30\n",
      "** pgdb k=0\n",
      " 50%|█████     | 5/10 [00:20<00:18,  3.73s/it]** pgdb k=10\n",
      "** pgdb k=20\n",
      "** pgdb k=30\n",
      "** pgdb k=0\n",
      "** pgdb k=10\n",
      "** pgdb k=20\n",
      "** pgdb k=30\n",
      "** pgdb k=40\n",
      "** pgdb k=0\n",
      "** pgdb k=10\n",
      "** pgdb k=20\n",
      "** pgdb k=30\n",
      "** pgdb k=40\n",
      "** pgdb k=0\n",
      " 60%|██████    | 6/10 [00:23<00:13,  3.45s/it]** pgdb k=10\n",
      "** pgdb k=20\n",
      "** pgdb k=30\n",
      "** pgdb k=0\n",
      "** pgdb k=10\n",
      "** pgdb k=20\n",
      "** pgdb k=30\n",
      "** pgdb k=0\n",
      "** pgdb k=10\n",
      "** pgdb k=20\n",
      "** pgdb k=30\n",
      "** pgdb k=40\n",
      "** pgdb k=0\n",
      " 70%|███████   | 7/10 [00:26<00:10,  3.52s/it]** pgdb k=10\n",
      "** pgdb k=20\n",
      "** pgdb k=30\n",
      "** pgdb k=0\n",
      "** pgdb k=10\n",
      "** pgdb k=20\n",
      "** pgdb k=30\n",
      "** pgdb k=40\n",
      "** pgdb k=0\n",
      "** pgdb k=10\n",
      "** pgdb k=20\n",
      "** pgdb k=30\n",
      "** pgdb k=40\n",
      "** pgdb k=0\n",
      "** pgdb k=10\n",
      "** pgdb k=20\n",
      "** pgdb k=30\n",
      "** pgdb k=40\n",
      "** pgdb k=50\n",
      "** pgdb k=60\n",
      " 80%|████████  | 8/10 [00:31<00:07,  3.99s/it]** pgdb k=70\n",
      "** pgdb k=0\n",
      "** pgdb k=10\n",
      "** pgdb k=20\n",
      "** pgdb k=30\n",
      "** pgdb k=0\n",
      "** pgdb k=10\n",
      "** pgdb k=20\n",
      "** pgdb k=30\n",
      "** pgdb k=0\n",
      "** pgdb k=10\n",
      "** pgdb k=20\n",
      "** pgdb k=30\n",
      " 90%|█████████ | 9/10 [00:35<00:03,  3.81s/it]** pgdb k=40\n",
      "** pgdb k=0\n",
      "** pgdb k=10\n",
      "** pgdb k=20\n",
      "** pgdb k=30\n",
      "** pgdb k=40\n",
      "** pgdb k=50\n",
      "** pgdb k=60\n",
      "** pgdb k=70\n",
      "** pgdb k=0\n",
      "** pgdb k=10\n",
      "** pgdb k=20\n",
      "** pgdb k=30\n",
      "** pgdb k=0\n",
      "** pgdb k=10\n",
      "** pgdb k=20\n",
      "** pgdb k=30\n",
      "** pgdb k=40\n",
      "** pgdb k=50\n",
      "** pgdb k=60\n",
      "** pgdb k=70\n",
      "** pgdb k=80\n",
      "100%|██████████| 10/10 [00:42<00:00,  4.22s/it]\n",
      "  0%|          | 0/10 [00:00<?, ?it/s]** pgdb k=90\n",
      "elapsed_time:0.7040540893872579[min]\n",
      "\n",
      "Case 5: Maximum-Likelihood(False)\n",
      "Parametorization: False\n",
      "Type of qtomography: StandardPovmt\n",
      "Estimator: LossMinimizationEstimator\n",
      "** pgdb k=0\n",
      "** pgdb k=10\n",
      "** pgdb k=20\n",
      "** pgdb k=30\n",
      "** pgdb k=0\n",
      "** pgdb k=10\n",
      "** pgdb k=20\n",
      "** pgdb k=30\n",
      "** pgdb k=40\n",
      "** pgdb k=0\n",
      "** pgdb k=10\n",
      "** pgdb k=20\n",
      "** pgdb k=30\n",
      "** pgdb k=40\n",
      " 10%|█         | 1/10 [00:06<00:54,  6.05s/it]** pgdb k=0\n",
      "** pgdb k=10\n",
      "** pgdb k=20\n",
      "** pgdb k=30\n",
      "** pgdb k=40\n",
      "** pgdb k=0\n",
      "** pgdb k=10\n",
      "** pgdb k=20\n",
      "** pgdb k=30\n",
      "** pgdb k=40\n",
      "** pgdb k=50\n",
      "** pgdb k=0\n",
      "** pgdb k=10\n",
      "** pgdb k=20\n",
      " 20%|██        | 2/10 [00:11<00:46,  5.79s/it]** pgdb k=30\n",
      "** pgdb k=0\n",
      "** pgdb k=10\n",
      "** pgdb k=20\n",
      "** pgdb k=0\n",
      "** pgdb k=10\n",
      "** pgdb k=20\n",
      "** pgdb k=0\n",
      "** pgdb k=10\n",
      "** pgdb k=20\n",
      "** pgdb k=30\n",
      "** pgdb k=40\n",
      " 30%|███       | 3/10 [00:14<00:34,  4.94s/it]** pgdb k=0\n",
      "** pgdb k=10\n",
      "** pgdb k=20\n",
      "** pgdb k=30\n",
      "** pgdb k=0\n",
      "** pgdb k=10\n",
      "** pgdb k=20\n",
      "** pgdb k=30\n",
      "** pgdb k=40\n",
      "** pgdb k=50\n",
      "** pgdb k=60\n",
      "** pgdb k=0\n",
      "** pgdb k=10\n",
      "** pgdb k=20\n",
      "** pgdb k=30\n",
      "** pgdb k=40\n",
      " 40%|████      | 4/10 [00:19<00:29,  4.91s/it]** pgdb k=50\n",
      "** pgdb k=0\n",
      "** pgdb k=10\n",
      "** pgdb k=20\n",
      "** pgdb k=0\n",
      "** pgdb k=10\n",
      "** pgdb k=20\n",
      "** pgdb k=30\n",
      "** pgdb k=40\n",
      "** pgdb k=50\n",
      "** pgdb k=60\n",
      "** pgdb k=0\n",
      "** pgdb k=10\n",
      "** pgdb k=20\n",
      "** pgdb k=30\n",
      " 50%|█████     | 5/10 [00:27<00:29,  5.92s/it]** pgdb k=0\n",
      "** pgdb k=10\n",
      "** pgdb k=20\n",
      "** pgdb k=30\n",
      "** pgdb k=40\n",
      "** pgdb k=50\n",
      "** pgdb k=0\n",
      "** pgdb k=10\n",
      "** pgdb k=20\n",
      "** pgdb k=30\n",
      "** pgdb k=0\n",
      "** pgdb k=10\n",
      "** pgdb k=20\n",
      "** pgdb k=30\n",
      " 60%|██████    | 6/10 [00:31<00:21,  5.45s/it]** pgdb k=0\n",
      "** pgdb k=10\n",
      "** pgdb k=20\n",
      "** pgdb k=0\n",
      "** pgdb k=10\n",
      "** pgdb k=20\n",
      "** pgdb k=0\n",
      "** pgdb k=10\n",
      "** pgdb k=20\n",
      "** pgdb k=30\n",
      " 70%|███████   | 7/10 [00:38<00:17,  5.90s/it]** pgdb k=40\n",
      "** pgdb k=0\n",
      "** pgdb k=10\n",
      "** pgdb k=20\n",
      "** pgdb k=0\n",
      "** pgdb k=10\n",
      "** pgdb k=20\n",
      "** pgdb k=30\n",
      "** pgdb k=40\n",
      "** pgdb k=0\n",
      "** pgdb k=10\n",
      "** pgdb k=20\n",
      "** pgdb k=30\n",
      " 80%|████████  | 8/10 [00:41<00:09,  4.88s/it]** pgdb k=40\n",
      "** pgdb k=0\n",
      "** pgdb k=10\n",
      "** pgdb k=20\n",
      "** pgdb k=30\n",
      "** pgdb k=0\n",
      "** pgdb k=10\n",
      "** pgdb k=20\n",
      "** pgdb k=30\n",
      "** pgdb k=40\n",
      "** pgdb k=0\n",
      "** pgdb k=10\n",
      "** pgdb k=20\n",
      "** pgdb k=30\n",
      " 90%|█████████ | 9/10 [00:44<00:04,  4.44s/it]\n",
      "** pgdb k=50\n",
      "** pgdb k=0\n",
      "** pgdb k=10\n",
      "** pgdb k=20\n",
      "** pgdb k=30\n",
      "** pgdb k=0\n",
      "** pgdb k=10\n",
      "** pgdb k=20\n",
      "** pgdb k=0\n",
      "** pgdb k=10\n",
      "** pgdb k=20\n",
      "** pgdb k=30\n",
      "** pgdb k=40\n",
      "100%|██████████| 10/10 [00:47<00:00,  4.75s/it]\n",
      "  0%|          | 0/10 [00:00<?, ?it/s]** pgdb k=50\n",
      "elapsed_time:0.7917966365814209[min]\n",
      "\n",
      "Case 6: Least Squares(True)\n",
      "Parametorization: True\n",
      "Type of qtomography: StandardPovmt\n",
      "Estimator: LossMinimizationEstimator\n",
      "** pgdb k=0\n",
      "** pgdb k=10\n",
      "** pgdb k=20\n",
      "** pgdb k=30\n",
      "** pgdb k=0\n",
      "** pgdb k=10\n",
      "** pgdb k=0\n",
      " 10%|█         | 1/10 [00:03<00:27,  3.00s/it]** pgdb k=10\n",
      "** pgdb k=20\n",
      "** pgdb k=30\n",
      "** pgdb k=40\n",
      "** pgdb k=0\n",
      "** pgdb k=10\n",
      "** pgdb k=20\n",
      "** pgdb k=30\n",
      "** pgdb k=40\n",
      "** pgdb k=0\n",
      "** pgdb k=10\n",
      "** pgdb k=20\n",
      "** pgdb k=30\n",
      "** pgdb k=40\n",
      "** pgdb k=50\n",
      "** pgdb k=0\n",
      "** pgdb k=10\n",
      " 20%|██        | 2/10 [00:09<00:31,  3.92s/it]** pgdb k=20\n",
      "** pgdb k=0\n",
      "** pgdb k=10\n",
      "** pgdb k=20\n",
      "** pgdb k=0\n",
      "** pgdb k=10\n",
      "** pgdb k=20\n",
      "** pgdb k=0\n",
      "** pgdb k=10\n",
      "** pgdb k=20\n",
      "** pgdb k=30\n",
      "** pgdb k=40\n",
      " 30%|███       | 3/10 [00:16<00:35,  5.12s/it]** pgdb k=0\n",
      "** pgdb k=10\n",
      "** pgdb k=20\n",
      "** pgdb k=30\n",
      "** pgdb k=40\n",
      "** pgdb k=0\n",
      "** pgdb k=10\n",
      "** pgdb k=20\n",
      "** pgdb k=30\n",
      "** pgdb k=40\n",
      "** pgdb k=0\n",
      " 40%|████      | 4/10 [00:19<00:25,  4.31s/it]** pgdb k=10\n",
      "** pgdb k=20\n",
      "** pgdb k=30\n",
      "** pgdb k=0\n",
      "** pgdb k=10\n",
      "** pgdb k=20\n",
      "** pgdb k=0\n",
      "** pgdb k=10\n",
      "** pgdb k=20\n",
      "** pgdb k=30\n",
      "** pgdb k=40\n",
      "** pgdb k=50\n",
      "** pgdb k=0\n",
      "** pgdb k=10\n",
      " 50%|█████     | 5/10 [00:24<00:22,  4.53s/it]** pgdb k=20\n",
      "** pgdb k=0\n",
      "** pgdb k=10\n",
      "** pgdb k=20\n",
      "** pgdb k=30\n",
      "** pgdb k=0\n",
      "** pgdb k=10\n",
      "** pgdb k=20\n",
      "** pgdb k=0\n",
      "** pgdb k=10\n",
      "** pgdb k=20\n",
      " 60%|██████    | 6/10 [00:28<00:17,  4.43s/it]** pgdb k=0\n",
      "** pgdb k=10\n",
      "** pgdb k=20\n",
      "** pgdb k=0\n",
      "** pgdb k=10\n",
      "** pgdb k=20\n",
      "** pgdb k=0\n",
      "** pgdb k=10\n",
      "** pgdb k=20\n",
      "** pgdb k=30\n",
      " 70%|███████   | 7/10 [00:35<00:15,  5.11s/it]** pgdb k=40\n",
      "** pgdb k=0\n",
      "** pgdb k=10\n",
      "** pgdb k=20\n",
      "** pgdb k=0\n",
      "** pgdb k=10\n",
      "** pgdb k=20\n",
      "** pgdb k=0\n",
      "** pgdb k=10\n",
      " 80%|████████  | 8/10 [00:38<00:08,  4.49s/it]** pgdb k=20\n",
      "** pgdb k=0\n",
      "** pgdb k=10\n",
      "** pgdb k=20\n",
      "** pgdb k=0\n",
      "** pgdb k=10\n",
      "** pgdb k=20\n",
      "** pgdb k=0\n",
      " 90%|█████████ | 9/10 [00:40<00:03,  3.80s/it]** pgdb k=10\n",
      "** pgdb k=20\n",
      "** pgdb k=30\n",
      "** pgdb k=40\n",
      "** pgdb k=0\n",
      "** pgdb k=10\n",
      "** pgdb k=20\n",
      "** pgdb k=30\n",
      "** pgdb k=40\n",
      "** pgdb k=0\n",
      "** pgdb k=10\n",
      "** pgdb k=20\n",
      "** pgdb k=30\n",
      "** pgdb k=40\n",
      "** pgdb k=50\n",
      "** pgdb k=0\n",
      "** pgdb k=10\n",
      "** pgdb k=20\n",
      "100%|██████████| 10/10 [00:45<00:00,  4.52s/it]\n",
      "  0%|          | 0/10 [00:00<?, ?it/s]** pgdb k=30\n",
      "elapsed_time:0.7531167030334472[min]\n",
      "\n",
      "Case 7: Least Squares(False)\n",
      "Parametorization: False\n",
      "Type of qtomography: StandardPovmt\n",
      "Estimator: LossMinimizationEstimator\n",
      "** pgdb k=0\n",
      "** pgdb k=10\n",
      "** pgdb k=20\n",
      "** pgdb k=30\n",
      "** pgdb k=40\n",
      "** pgdb k=50\n",
      "** pgdb k=0\n",
      "** pgdb k=10\n",
      "** pgdb k=20\n",
      "** pgdb k=30\n",
      "** pgdb k=0\n",
      "** pgdb k=10\n",
      "** pgdb k=20\n",
      "** pgdb k=30\n",
      " 10%|█         | 1/10 [00:02<00:23,  2.62s/it]** pgdb k=40\n",
      "** pgdb k=0\n",
      "** pgdb k=10\n",
      "** pgdb k=20\n",
      "** pgdb k=0\n",
      "** pgdb k=10\n",
      "** pgdb k=20\n",
      "** pgdb k=0\n",
      "** pgdb k=10\n",
      " 20%|██        | 2/10 [00:05<00:21,  2.74s/it]** pgdb k=0\n",
      "** pgdb k=10\n",
      "** pgdb k=20\n",
      "** pgdb k=30\n",
      "** pgdb k=0\n",
      "** pgdb k=10\n",
      "** pgdb k=20\n",
      "** pgdb k=30\n",
      "** pgdb k=0\n",
      "** pgdb k=10\n",
      "** pgdb k=20\n",
      " 30%|███       | 3/10 [00:09<00:22,  3.21s/it]** pgdb k=30\n",
      "** pgdb k=0\n",
      "** pgdb k=10\n",
      "** pgdb k=20\n",
      "** pgdb k=0\n",
      "** pgdb k=10\n",
      "** pgdb k=0\n",
      "** pgdb k=10\n",
      " 40%|████      | 4/10 [00:12<00:17,  2.90s/it]** pgdb k=20\n",
      "** pgdb k=0\n",
      "** pgdb k=10\n",
      "** pgdb k=0\n",
      "** pgdb k=10\n",
      "** pgdb k=20\n",
      "** pgdb k=30\n",
      "** pgdb k=40\n",
      "** pgdb k=50\n",
      "** pgdb k=0\n",
      "** pgdb k=10\n",
      "** pgdb k=20\n",
      "** pgdb k=30\n",
      "** pgdb k=40\n",
      "** pgdb k=50\n",
      " 50%|█████     | 5/10 [00:13<00:12,  2.56s/it]** pgdb k=0\n",
      "** pgdb k=10\n",
      "** pgdb k=20\n",
      "** pgdb k=30\n",
      "** pgdb k=0\n",
      "** pgdb k=10\n",
      "** pgdb k=20\n",
      "** pgdb k=0\n",
      "** pgdb k=10\n",
      " 60%|██████    | 6/10 [00:17<00:10,  2.74s/it]** pgdb k=20\n",
      "** pgdb k=0\n",
      "** pgdb k=10\n",
      "** pgdb k=20\n",
      "** pgdb k=30\n",
      "** pgdb k=0\n",
      "** pgdb k=10\n",
      "** pgdb k=20\n",
      "** pgdb k=30\n",
      "** pgdb k=0\n",
      "** pgdb k=10\n",
      "** pgdb k=20\n",
      "** pgdb k=30\n",
      " 70%|███████   | 7/10 [00:21<00:09,  3.22s/it]** pgdb k=0\n",
      "** pgdb k=10\n",
      "** pgdb k=20\n",
      "** pgdb k=0\n",
      "** pgdb k=10\n",
      "** pgdb k=20\n",
      "** pgdb k=0\n",
      "** pgdb k=10\n",
      "** pgdb k=20\n",
      "** pgdb k=30\n",
      " 80%|████████  | 8/10 [00:24<00:06,  3.13s/it]** pgdb k=40\n",
      "** pgdb k=50\n",
      "** pgdb k=0\n",
      "** pgdb k=10\n",
      "** pgdb k=20\n",
      "** pgdb k=0\n",
      "** pgdb k=10\n",
      "** pgdb k=20\n",
      "** pgdb k=0\n",
      "** pgdb k=10\n",
      " 90%|█████████ | 9/10 [00:27<00:03,  3.01s/it]** pgdb k=0\n",
      "** pgdb k=10\n",
      "** pgdb k=20\n",
      "** pgdb k=0\n",
      "** pgdb k=10\n",
      "** pgdb k=20\n",
      "** pgdb k=30\n",
      "** pgdb k=0\n",
      "** pgdb k=10\n",
      "** pgdb k=20\n",
      "100%|██████████| 10/10 [00:30<00:00,  3.05s/it]** pgdb k=30\n",
      "elapsed_time:0.5091171542803447[min]\n",
      "\n",
      "\n"
     ]
    }
   ],
   "source": [
    "num_data = [100, 1000, 10000]\n",
    "n_rep = 10\n",
    "measurement_n = len(true_object.vecs)  # 測定値の数\n",
    "\n",
    "case_name_list = [\n",
    "    \"LinearEstimator(True)\",\n",
    "    \"LinearEstimator(False)\",\n",
    "    \"ProjectedLinearEstimator(True)\",\n",
    "    \"ProjectedLinearEstimator(False)\",\n",
    "    \"Maximum-Likelihood(True)\",\n",
    "    \"Maximum-Likelihood(False)\",\n",
    "    \"Least Squares(True)\",\n",
    "    \"Least Squares(False)\",\n",
    "]\n",
    "\n",
    "seed = 777\n",
    "qtomography_list = [\n",
    "    StandardPovmt(tester_objects, measurement_n, on_para_eq_constraint=True, seed=seed),\n",
    "    StandardPovmt(tester_objects, measurement_n, on_para_eq_constraint=False, seed=seed),\n",
    "    StandardPovmt(tester_objects, measurement_n, on_para_eq_constraint=True, seed=seed),\n",
    "    StandardPovmt(tester_objects, measurement_n, on_para_eq_constraint=False, seed=seed),\n",
    "    StandardPovmt(tester_objects, measurement_n, on_para_eq_constraint=True, on_algo_eq_constraint=True, on_algo_ineq_constraint=True, eps_proj_physical=1e-13, seed=seed),\n",
    "    StandardPovmt(tester_objects, measurement_n, on_para_eq_constraint=False, on_algo_eq_constraint=True, on_algo_ineq_constraint=True, eps_proj_physical=1e-13, seed=seed),\n",
    "    StandardPovmt(tester_objects, measurement_n, on_para_eq_constraint=True, on_algo_eq_constraint=True, on_algo_ineq_constraint=True, eps_proj_physical=1e-13, seed=seed),\n",
    "    StandardPovmt(tester_objects, measurement_n, on_para_eq_constraint=False, on_algo_eq_constraint=True, on_algo_ineq_constraint=True, eps_proj_physical=1e-13, seed=seed),\n",
    "]\n",
    "\n",
    "para_list = [\n",
    "    True,\n",
    "    False,\n",
    "    True,\n",
    "    False,\n",
    "    True,\n",
    "    False,\n",
    "    True,\n",
    "    False,\n",
    "]\n",
    "\n",
    "estimator_list = [\n",
    "    LinearEstimator(),\n",
    "    LinearEstimator(),\n",
    "    ProjectedLinearEstimator(),\n",
    "    ProjectedLinearEstimator(),\n",
    "    LossMinimizationEstimator(),\n",
    "    LossMinimizationEstimator(),\n",
    "    LossMinimizationEstimator(),\n",
    "    LossMinimizationEstimator(),\n",
    "]\n",
    "\n",
    "loss_list = [\n",
    "    None,\n",
    "    None,\n",
    "    None,\n",
    "    None,\n",
    "    WeightedRelativeEntropy(4),\n",
    "    WeightedRelativeEntropy(8),\n",
    "    WeightedProbabilityBasedSquaredError(4),\n",
    "    WeightedProbabilityBasedSquaredError(8),\n",
    "]\n",
    "\n",
    "loss_option_list = [\n",
    "    None,\n",
    "    None,\n",
    "    None,\n",
    "    None,\n",
    "    WeightedRelativeEntropyOption(),\n",
    "    WeightedRelativeEntropyOption(),\n",
    "    WeightedProbabilityBasedSquaredErrorOption(),\n",
    "    WeightedProbabilityBasedSquaredErrorOption(),\n",
    "]\n",
    "\n",
    "algo_list = [\n",
    "    None,\n",
    "    None,\n",
    "    None,\n",
    "    None,\n",
    "    ProjectedGradientDescentBase(),\n",
    "    ProjectedGradientDescentBase(),\n",
    "    ProjectedGradientDescentBase(),\n",
    "    ProjectedGradientDescentBase(),\n",
    "]\n",
    "\n",
    "algo_option_list = [\n",
    "    None,\n",
    "    None,\n",
    "    None,\n",
    "    None,\n",
    "    ProjectedGradientDescentBaseOption(),\n",
    "    ProjectedGradientDescentBaseOption(),\n",
    "    ProjectedGradientDescentBaseOption(),\n",
    "    ProjectedGradientDescentBaseOption(),\n",
    "]\n",
    "\n",
    "estimation_results_list = []\n",
    "elapsed_times = []\n",
    "\n",
    "for i, name in enumerate(case_name_list):\n",
    "    qtomography = qtomography_list[i]\n",
    "    estimator = estimator_list[i]\n",
    "    loss = loss_list[i]\n",
    "    loss_option = loss_option_list[i]\n",
    "    algo = algo_list[i]\n",
    "    algo_option = algo_option_list[i]\n",
    "    \n",
    "    start = time.time()\n",
    "    print(f\"Case {i}: {name}\")\n",
    "    print(f\"Parametorization: {para_list[i]}\")\n",
    "    print(f\"Type of qtomography: {qtomography.__class__.__name__}\")\n",
    "    print(f\"Estimator: {estimator.__class__.__name__}\")\n",
    "\n",
    "    estimation_results = data_analysis.estimate(\n",
    "       qtomography=qtomography,\n",
    "       true_object=true_object,\n",
    "       num_data=num_data,\n",
    "       estimator=estimator,\n",
    "       loss=loss,\n",
    "       loss_option=loss_option,\n",
    "       algo=algo,\n",
    "       algo_option=algo_option,\n",
    "       iteration=n_rep,\n",
    "    )\n",
    "    estimation_results_list.append(estimation_results)\n",
    "    \n",
    "    elapsed_time = time.time() - start\n",
    "    print(\"elapsed_time:{0}\".format(elapsed_time / 60) + \"[min]\\n\")\n",
    "    elapsed_times.append(elapsed_time)"
   ]
  },
  {
   "cell_type": "code",
   "execution_count": 8,
   "metadata": {},
   "outputs": [
    {
     "output_type": "stream",
     "name": "stdout",
     "text": [
      "LinearEstimator(True)=[0.03203786692715928, 0.0028377041786821627, 0.00024584712280146745]\nLinearEstimator(False)=[0.020277866927159285, 0.0035415645042405457, 0.0003277628080438488]\nProjectedLinearEstimator(True)=[0.026550064138798422, 0.0021114438615901223, 0.0002675468409009211]\nProjectedLinearEstimator(False)=[0.01535863010678103, 0.0021758248129599765, 0.0002449240012118075]\nMaximum-Likelihood(True)=[0.01877887382799106, 0.0012239607956772345, 0.000233965320715483]\nMaximum-Likelihood(False)=[0.016422667046116113, 0.002881712135450174, 0.00021016488180236893]\nLeast Squares(True)=[0.01615483569034127, 0.0013013632180900504, 0.0001426711328080634]\nLeast Squares(False)=[0.015407658029423215, 0.0018347757489638606, 0.00021438116586380412]\n"
     ]
    },
    {
     "output_type": "display_data",
     "data": {
      "application/vnd.plotly.v1+json": {
       "config": {
        "plotlyServerURL": "https://plot.ly"
       },
       "data": [
        {
         "error_y": {
          "array": [
           0.005884465098437853,
           0.0006749473053994876,
           0.00004156204253225237
          ],
          "type": "data",
          "visible": true
         },
         "mode": "lines+markers",
         "name": "LinearEstimator(True)",
         "type": "scatter",
         "x": [
          100,
          1000,
          10000
         ],
         "y": [
          0.03203786692715928,
          0.0028377041786821627,
          0.00024584712280146745
         ]
        },
        {
         "error_y": {
          "array": [
           0.004985000245672749,
           0.0012236272422650497,
           0.00005980983953777214
          ],
          "type": "data",
          "visible": true
         },
         "mode": "lines+markers",
         "name": "LinearEstimator(False)",
         "type": "scatter",
         "x": [
          100,
          1000,
          10000
         ],
         "y": [
          0.020277866927159285,
          0.0035415645042405457,
          0.0003277628080438488
         ]
        },
        {
         "error_y": {
          "array": [
           0.01048310524672721,
           0.0008512420514766894,
           0.00009323296407561471
          ],
          "type": "data",
          "visible": true
         },
         "mode": "lines+markers",
         "name": "ProjectedLinearEstimator(True)",
         "type": "scatter",
         "x": [
          100,
          1000,
          10000
         ],
         "y": [
          0.026550064138798422,
          0.0021114438615901223,
          0.0002675468409009211
         ]
        },
        {
         "error_y": {
          "array": [
           0.003934235767358993,
           0.0009552632109365791,
           0.00011898142474933978
          ],
          "type": "data",
          "visible": true
         },
         "mode": "lines+markers",
         "name": "ProjectedLinearEstimator(False)",
         "type": "scatter",
         "x": [
          100,
          1000,
          10000
         ],
         "y": [
          0.01535863010678103,
          0.0021758248129599765,
          0.0002449240012118075
         ]
        },
        {
         "error_y": {
          "array": [
           0.004839234755827068,
           0.00027344333745056505,
           0.0000537203784580934
          ],
          "type": "data",
          "visible": true
         },
         "mode": "lines+markers",
         "name": "Maximum-Likelihood(True)",
         "type": "scatter",
         "x": [
          100,
          1000,
          10000
         ],
         "y": [
          0.01877887382799106,
          0.0012239607956772345,
          0.000233965320715483
         ]
        },
        {
         "error_y": {
          "array": [
           0.005765893747954476,
           0.0006343378561184129,
           0.00006886882420980729
          ],
          "type": "data",
          "visible": true
         },
         "mode": "lines+markers",
         "name": "Maximum-Likelihood(False)",
         "type": "scatter",
         "x": [
          100,
          1000,
          10000
         ],
         "y": [
          0.016422667046116113,
          0.002881712135450174,
          0.00021016488180236893
         ]
        },
        {
         "error_y": {
          "array": [
           0.004675147595647054,
           0.0004019832147932448,
           0.000043105021136470546
          ],
          "type": "data",
          "visible": true
         },
         "mode": "lines+markers",
         "name": "Least Squares(True)",
         "type": "scatter",
         "x": [
          100,
          1000,
          10000
         ],
         "y": [
          0.01615483569034127,
          0.0013013632180900504,
          0.0001426711328080634
         ]
        },
        {
         "error_y": {
          "array": [
           0.003676271115463301,
           0.0004768295925340726,
           0.00008872436352738734
          ],
          "type": "data",
          "visible": true
         },
         "mode": "lines+markers",
         "name": "Least Squares(False)",
         "type": "scatter",
         "x": [
          100,
          1000,
          10000
         ],
         "y": [
          0.015407658029423215,
          0.0018347757489638606,
          0.00021438116586380412
         ]
        }
       ],
       "layout": {
        "template": {
         "data": {
          "bar": [
           {
            "error_x": {
             "color": "#2a3f5f"
            },
            "error_y": {
             "color": "#2a3f5f"
            },
            "marker": {
             "line": {
              "color": "#E5ECF6",
              "width": 0.5
             }
            },
            "type": "bar"
           }
          ],
          "barpolar": [
           {
            "marker": {
             "line": {
              "color": "#E5ECF6",
              "width": 0.5
             }
            },
            "type": "barpolar"
           }
          ],
          "carpet": [
           {
            "aaxis": {
             "endlinecolor": "#2a3f5f",
             "gridcolor": "white",
             "linecolor": "white",
             "minorgridcolor": "white",
             "startlinecolor": "#2a3f5f"
            },
            "baxis": {
             "endlinecolor": "#2a3f5f",
             "gridcolor": "white",
             "linecolor": "white",
             "minorgridcolor": "white",
             "startlinecolor": "#2a3f5f"
            },
            "type": "carpet"
           }
          ],
          "choropleth": [
           {
            "colorbar": {
             "outlinewidth": 0,
             "ticks": ""
            },
            "type": "choropleth"
           }
          ],
          "contour": [
           {
            "colorbar": {
             "outlinewidth": 0,
             "ticks": ""
            },
            "colorscale": [
             [
              0,
              "#0d0887"
             ],
             [
              0.1111111111111111,
              "#46039f"
             ],
             [
              0.2222222222222222,
              "#7201a8"
             ],
             [
              0.3333333333333333,
              "#9c179e"
             ],
             [
              0.4444444444444444,
              "#bd3786"
             ],
             [
              0.5555555555555556,
              "#d8576b"
             ],
             [
              0.6666666666666666,
              "#ed7953"
             ],
             [
              0.7777777777777778,
              "#fb9f3a"
             ],
             [
              0.8888888888888888,
              "#fdca26"
             ],
             [
              1,
              "#f0f921"
             ]
            ],
            "type": "contour"
           }
          ],
          "contourcarpet": [
           {
            "colorbar": {
             "outlinewidth": 0,
             "ticks": ""
            },
            "type": "contourcarpet"
           }
          ],
          "heatmap": [
           {
            "colorbar": {
             "outlinewidth": 0,
             "ticks": ""
            },
            "colorscale": [
             [
              0,
              "#0d0887"
             ],
             [
              0.1111111111111111,
              "#46039f"
             ],
             [
              0.2222222222222222,
              "#7201a8"
             ],
             [
              0.3333333333333333,
              "#9c179e"
             ],
             [
              0.4444444444444444,
              "#bd3786"
             ],
             [
              0.5555555555555556,
              "#d8576b"
             ],
             [
              0.6666666666666666,
              "#ed7953"
             ],
             [
              0.7777777777777778,
              "#fb9f3a"
             ],
             [
              0.8888888888888888,
              "#fdca26"
             ],
             [
              1,
              "#f0f921"
             ]
            ],
            "type": "heatmap"
           }
          ],
          "heatmapgl": [
           {
            "colorbar": {
             "outlinewidth": 0,
             "ticks": ""
            },
            "colorscale": [
             [
              0,
              "#0d0887"
             ],
             [
              0.1111111111111111,
              "#46039f"
             ],
             [
              0.2222222222222222,
              "#7201a8"
             ],
             [
              0.3333333333333333,
              "#9c179e"
             ],
             [
              0.4444444444444444,
              "#bd3786"
             ],
             [
              0.5555555555555556,
              "#d8576b"
             ],
             [
              0.6666666666666666,
              "#ed7953"
             ],
             [
              0.7777777777777778,
              "#fb9f3a"
             ],
             [
              0.8888888888888888,
              "#fdca26"
             ],
             [
              1,
              "#f0f921"
             ]
            ],
            "type": "heatmapgl"
           }
          ],
          "histogram": [
           {
            "marker": {
             "colorbar": {
              "outlinewidth": 0,
              "ticks": ""
             }
            },
            "type": "histogram"
           }
          ],
          "histogram2d": [
           {
            "colorbar": {
             "outlinewidth": 0,
             "ticks": ""
            },
            "colorscale": [
             [
              0,
              "#0d0887"
             ],
             [
              0.1111111111111111,
              "#46039f"
             ],
             [
              0.2222222222222222,
              "#7201a8"
             ],
             [
              0.3333333333333333,
              "#9c179e"
             ],
             [
              0.4444444444444444,
              "#bd3786"
             ],
             [
              0.5555555555555556,
              "#d8576b"
             ],
             [
              0.6666666666666666,
              "#ed7953"
             ],
             [
              0.7777777777777778,
              "#fb9f3a"
             ],
             [
              0.8888888888888888,
              "#fdca26"
             ],
             [
              1,
              "#f0f921"
             ]
            ],
            "type": "histogram2d"
           }
          ],
          "histogram2dcontour": [
           {
            "colorbar": {
             "outlinewidth": 0,
             "ticks": ""
            },
            "colorscale": [
             [
              0,
              "#0d0887"
             ],
             [
              0.1111111111111111,
              "#46039f"
             ],
             [
              0.2222222222222222,
              "#7201a8"
             ],
             [
              0.3333333333333333,
              "#9c179e"
             ],
             [
              0.4444444444444444,
              "#bd3786"
             ],
             [
              0.5555555555555556,
              "#d8576b"
             ],
             [
              0.6666666666666666,
              "#ed7953"
             ],
             [
              0.7777777777777778,
              "#fb9f3a"
             ],
             [
              0.8888888888888888,
              "#fdca26"
             ],
             [
              1,
              "#f0f921"
             ]
            ],
            "type": "histogram2dcontour"
           }
          ],
          "mesh3d": [
           {
            "colorbar": {
             "outlinewidth": 0,
             "ticks": ""
            },
            "type": "mesh3d"
           }
          ],
          "parcoords": [
           {
            "line": {
             "colorbar": {
              "outlinewidth": 0,
              "ticks": ""
             }
            },
            "type": "parcoords"
           }
          ],
          "pie": [
           {
            "automargin": true,
            "type": "pie"
           }
          ],
          "scatter": [
           {
            "marker": {
             "colorbar": {
              "outlinewidth": 0,
              "ticks": ""
             }
            },
            "type": "scatter"
           }
          ],
          "scatter3d": [
           {
            "line": {
             "colorbar": {
              "outlinewidth": 0,
              "ticks": ""
             }
            },
            "marker": {
             "colorbar": {
              "outlinewidth": 0,
              "ticks": ""
             }
            },
            "type": "scatter3d"
           }
          ],
          "scattercarpet": [
           {
            "marker": {
             "colorbar": {
              "outlinewidth": 0,
              "ticks": ""
             }
            },
            "type": "scattercarpet"
           }
          ],
          "scattergeo": [
           {
            "marker": {
             "colorbar": {
              "outlinewidth": 0,
              "ticks": ""
             }
            },
            "type": "scattergeo"
           }
          ],
          "scattergl": [
           {
            "marker": {
             "colorbar": {
              "outlinewidth": 0,
              "ticks": ""
             }
            },
            "type": "scattergl"
           }
          ],
          "scattermapbox": [
           {
            "marker": {
             "colorbar": {
              "outlinewidth": 0,
              "ticks": ""
             }
            },
            "type": "scattermapbox"
           }
          ],
          "scatterpolar": [
           {
            "marker": {
             "colorbar": {
              "outlinewidth": 0,
              "ticks": ""
             }
            },
            "type": "scatterpolar"
           }
          ],
          "scatterpolargl": [
           {
            "marker": {
             "colorbar": {
              "outlinewidth": 0,
              "ticks": ""
             }
            },
            "type": "scatterpolargl"
           }
          ],
          "scatterternary": [
           {
            "marker": {
             "colorbar": {
              "outlinewidth": 0,
              "ticks": ""
             }
            },
            "type": "scatterternary"
           }
          ],
          "surface": [
           {
            "colorbar": {
             "outlinewidth": 0,
             "ticks": ""
            },
            "colorscale": [
             [
              0,
              "#0d0887"
             ],
             [
              0.1111111111111111,
              "#46039f"
             ],
             [
              0.2222222222222222,
              "#7201a8"
             ],
             [
              0.3333333333333333,
              "#9c179e"
             ],
             [
              0.4444444444444444,
              "#bd3786"
             ],
             [
              0.5555555555555556,
              "#d8576b"
             ],
             [
              0.6666666666666666,
              "#ed7953"
             ],
             [
              0.7777777777777778,
              "#fb9f3a"
             ],
             [
              0.8888888888888888,
              "#fdca26"
             ],
             [
              1,
              "#f0f921"
             ]
            ],
            "type": "surface"
           }
          ],
          "table": [
           {
            "cells": {
             "fill": {
              "color": "#EBF0F8"
             },
             "line": {
              "color": "white"
             }
            },
            "header": {
             "fill": {
              "color": "#C8D4E3"
             },
             "line": {
              "color": "white"
             }
            },
            "type": "table"
           }
          ]
         },
         "layout": {
          "annotationdefaults": {
           "arrowcolor": "#2a3f5f",
           "arrowhead": 0,
           "arrowwidth": 1
          },
          "autotypenumbers": "strict",
          "coloraxis": {
           "colorbar": {
            "outlinewidth": 0,
            "ticks": ""
           }
          },
          "colorscale": {
           "diverging": [
            [
             0,
             "#8e0152"
            ],
            [
             0.1,
             "#c51b7d"
            ],
            [
             0.2,
             "#de77ae"
            ],
            [
             0.3,
             "#f1b6da"
            ],
            [
             0.4,
             "#fde0ef"
            ],
            [
             0.5,
             "#f7f7f7"
            ],
            [
             0.6,
             "#e6f5d0"
            ],
            [
             0.7,
             "#b8e186"
            ],
            [
             0.8,
             "#7fbc41"
            ],
            [
             0.9,
             "#4d9221"
            ],
            [
             1,
             "#276419"
            ]
           ],
           "sequential": [
            [
             0,
             "#0d0887"
            ],
            [
             0.1111111111111111,
             "#46039f"
            ],
            [
             0.2222222222222222,
             "#7201a8"
            ],
            [
             0.3333333333333333,
             "#9c179e"
            ],
            [
             0.4444444444444444,
             "#bd3786"
            ],
            [
             0.5555555555555556,
             "#d8576b"
            ],
            [
             0.6666666666666666,
             "#ed7953"
            ],
            [
             0.7777777777777778,
             "#fb9f3a"
            ],
            [
             0.8888888888888888,
             "#fdca26"
            ],
            [
             1,
             "#f0f921"
            ]
           ],
           "sequentialminus": [
            [
             0,
             "#0d0887"
            ],
            [
             0.1111111111111111,
             "#46039f"
            ],
            [
             0.2222222222222222,
             "#7201a8"
            ],
            [
             0.3333333333333333,
             "#9c179e"
            ],
            [
             0.4444444444444444,
             "#bd3786"
            ],
            [
             0.5555555555555556,
             "#d8576b"
            ],
            [
             0.6666666666666666,
             "#ed7953"
            ],
            [
             0.7777777777777778,
             "#fb9f3a"
            ],
            [
             0.8888888888888888,
             "#fdca26"
            ],
            [
             1,
             "#f0f921"
            ]
           ]
          },
          "colorway": [
           "#636efa",
           "#EF553B",
           "#00cc96",
           "#ab63fa",
           "#FFA15A",
           "#19d3f3",
           "#FF6692",
           "#B6E880",
           "#FF97FF",
           "#FECB52"
          ],
          "font": {
           "color": "#2a3f5f"
          },
          "geo": {
           "bgcolor": "white",
           "lakecolor": "white",
           "landcolor": "#E5ECF6",
           "showlakes": true,
           "showland": true,
           "subunitcolor": "white"
          },
          "hoverlabel": {
           "align": "left"
          },
          "hovermode": "closest",
          "mapbox": {
           "style": "light"
          },
          "paper_bgcolor": "white",
          "plot_bgcolor": "#E5ECF6",
          "polar": {
           "angularaxis": {
            "gridcolor": "white",
            "linecolor": "white",
            "ticks": ""
           },
           "bgcolor": "#E5ECF6",
           "radialaxis": {
            "gridcolor": "white",
            "linecolor": "white",
            "ticks": ""
           }
          },
          "scene": {
           "xaxis": {
            "backgroundcolor": "#E5ECF6",
            "gridcolor": "white",
            "gridwidth": 2,
            "linecolor": "white",
            "showbackground": true,
            "ticks": "",
            "zerolinecolor": "white"
           },
           "yaxis": {
            "backgroundcolor": "#E5ECF6",
            "gridcolor": "white",
            "gridwidth": 2,
            "linecolor": "white",
            "showbackground": true,
            "ticks": "",
            "zerolinecolor": "white"
           },
           "zaxis": {
            "backgroundcolor": "#E5ECF6",
            "gridcolor": "white",
            "gridwidth": 2,
            "linecolor": "white",
            "showbackground": true,
            "ticks": "",
            "zerolinecolor": "white"
           }
          },
          "shapedefaults": {
           "line": {
            "color": "#2a3f5f"
           }
          },
          "ternary": {
           "aaxis": {
            "gridcolor": "white",
            "linecolor": "white",
            "ticks": ""
           },
           "baxis": {
            "gridcolor": "white",
            "linecolor": "white",
            "ticks": ""
           },
           "bgcolor": "#E5ECF6",
           "caxis": {
            "gridcolor": "white",
            "linecolor": "white",
            "ticks": ""
           }
          },
          "title": {
           "x": 0.05
          },
          "xaxis": {
           "automargin": true,
           "gridcolor": "white",
           "linecolor": "white",
           "ticks": "",
           "title": {
            "standoff": 15
           },
           "zerolinecolor": "white",
           "zerolinewidth": 2
          },
          "yaxis": {
           "automargin": true,
           "gridcolor": "white",
           "linecolor": "white",
           "ticks": "",
           "title": {
            "standoff": 15
           },
           "zerolinecolor": "white",
           "zerolinewidth": 2
          }
         }
        },
        "title": {
         "text": "Mean squared error"
        },
        "xaxis": {
         "title": {
          "text": "Number of data"
         },
         "type": "log"
        },
        "yaxis": {
         "title": {
          "text": "Mean squared error of estimates and true"
         },
         "type": "log"
        }
       }
      }
     },
     "metadata": {}
    }
   ],
   "source": [
    "data_analysis.make_mses_graph_estimation_results(\n",
    "    estimation_results_list,\n",
    "    case_name_list,\n",
    "    true_object,\n",
    "    estimator_list=estimator_list,\n",
    ")"
   ]
  },
  {
   "cell_type": "code",
   "execution_count": 9,
   "metadata": {},
   "outputs": [
    {
     "output_type": "stream",
     "name": "stderr",
     "text": [
      "100%|██████████| 10/10 [00:00<00:00, 9988.82it/s]\n",
      "100%|██████████| 10/10 [00:00<00:00, 10007.88it/s]\n",
      "100%|██████████| 10/10 [00:00<00:00, 10010.27it/s]​Generating table of computation time ...\n",
      "​Generating table of experimental conditions ...\n",
      "Generating case list ...\n",
      "​​Generating MSE of empirical distributions blocks ...\n",
      "\n",
      "​​Generating consictency test blocks ...\n",
      "** pgdb k=0\n",
      "** pgdb k=10\n",
      "** pgdb k=20\n",
      "** pgdb k=30\n",
      "** pgdb k=0\n",
      "** pgdb k=10\n",
      "** pgdb k=20\n",
      "** pgdb k=30\n",
      "** pgdb k=0\n",
      "** pgdb k=10\n",
      "** pgdb k=20\n",
      "** pgdb k=0\n",
      "** pgdb k=10\n",
      "** pgdb k=20\n",
      "** pgdb k=30\n",
      "​Generating a graph for MSE ...\n",
      "*** data_dict={'Linear': {'mses': [[0.02500000000000001, 0.002500000000000001, 0.0002500000000000001], [0.025000000000000022, 0.0025000000000000022, 0.0002500000000000002]], 'display_case_names': ['Analytical result (Linear, True)', 'Analytical result (Linear, False)'], 'parameters': [True, False]}, 'LossMinimization': {'mses': [[0.02500000000000001, 0.002500000000000001, 0.0002500000000000001], [0.08, 0.008, 0.0008]], 'display_case_names': ['Analytical result (LossMinimization, True)', 'Analytical result (LossMinimization, False)'], 'parameters': [True, False]}}\n",
      "*** data_dict={True: {'mses': [[0.02500000000000001, 0.002500000000000001, 0.0002500000000000001], [0.02500000000000001, 0.002500000000000001, 0.0002500000000000001]], 'display_case_names': ['Analytical result (Linear, True)', 'Analytical result (LossMinimization, True)'], 'parameters': [True, True]}, False: {'mses': [[0.025000000000000022, 0.0025000000000000022, 0.0002500000000000002], [0.08, 0.008, 0.0008]], 'display_case_names': ['Analytical result (Linear, False)', 'Analytical result (LossMinimization, False)'], 'parameters': [False, False]}}\n",
      "LinearEstimator(True)=[0.03203786692715928, 0.0028377041786821627, 0.00024584712280146745]\n",
      "LinearEstimator(False)=[0.020277866927159285, 0.0035415645042405457, 0.0003277628080438488]\n",
      "ProjectedLinearEstimator(True)=[0.026550064138798422, 0.0021114438615901223, 0.0002675468409009211]\n",
      "ProjectedLinearEstimator(False)=[0.01535863010678103, 0.0021758248129599765, 0.0002449240012118075]\n",
      "Maximum-Likelihood(True)=[0.01877887382799106, 0.0012239607956772345, 0.000233965320715483]\n",
      "Maximum-Likelihood(False)=[0.016422667046116113, 0.002881712135450174, 0.00021016488180236893]\n",
      "Least Squares(True)=[0.01615483569034127, 0.0013013632180900504, 0.0001426711328080634]\n",
      "Least Squares(False)=[0.015407658029423215, 0.0018347757489638606, 0.00021438116586380412]\n",
      "100%|██████████| 10/10 [00:00<00:00, 9986.44it/s]LinearEstimator(True)=[0.03203786692715928, 0.0028377041786821627, 0.00024584712280146745]\n",
      "ProjectedLinearEstimator(True)=[0.026550064138798422, 0.0021114438615901223, 0.0002675468409009211]\n",
      "Maximum-Likelihood(True)=[0.01877887382799106, 0.0012239607956772345, 0.000233965320715483]\n",
      "Least Squares(True)=[0.01615483569034127, 0.0013013632180900504, 0.0001426711328080634]\n",
      "LinearEstimator(False)=[0.020277866927159285, 0.0035415645042405457, 0.0003277628080438488]\n",
      "ProjectedLinearEstimator(False)=[0.01535863010678103, 0.0021758248129599765, 0.0002449240012118075]\n",
      "Maximum-Likelihood(False)=[0.016422667046116113, 0.002881712135450174, 0.00021016488180236893]\n",
      "Least Squares(False)=[0.015407658029423215, 0.0018347757489638606, 0.00021438116586380412]\n",
      "​​Generating physicality violation test blocks ...\n",
      "\n",
      "100%|██████████| 10/10 [00:00<00:00, 9995.96it/s]\n",
      "100%|██████████| 10/10 [00:00<00:00, 10022.23it/s]\n",
      "100%|██████████| 10/10 [00:00<00:00, 2498.84it/s]\n",
      "  0%|          | 0/2 [00:00<?, ?it/s]\n",
      "2it [00:00, 62.50it/s]\n",
      "\n",
      "2it [00:00, 71.44it/s]\n",
      "100%|██████████| 2/2 [00:00<00:00, 28.17it/s]\n",
      "100%|██████████| 10/10 [00:00<00:00, 3330.40it/s]\n",
      "  0%|          | 0/2 [00:00<?, ?it/s]\n",
      "2it [00:00, 71.43it/s]\n",
      "\n",
      "2it [00:00, 62.50it/s]\n",
      "100%|██████████| 2/2 [00:00<00:00, 28.17it/s]\n",
      "100%|██████████| 10/10 [00:00<00:00, 9624.38it/s]\n",
      "  0%|          | 0/2 [00:00<?, ?it/s]\n",
      "2it [00:00, 80.01it/s]\n",
      "\n",
      "2it [00:00, 74.08it/s]\n",
      "100%|██████████| 2/2 [00:00<00:00, 31.25it/s]\n",
      "100%|██████████| 10/10 [00:00<00:00, 3335.17it/s]\n",
      "100%|██████████| 10/10 [00:00<00:00, 5010.52it/s]\n",
      "100%|██████████| 10/10 [00:00<00:00, 4999.17it/s]\n",
      "100%|██████████| 10/10 [00:00<00:00, 9991.20it/s]\n",
      "100%|██████████| 10/10 [00:00<00:00, 9976.94it/s]\n",
      "100%|██████████| 10/10 [00:00<00:00, 9991.20it/s]\n",
      "100%|██████████| 10/10 [00:00<00:00, 9686.61it/s]\n",
      "  0%|          | 0/2 [00:00<?, ?it/s]\n",
      "2it [00:00, 76.93it/s]\n",
      "\n",
      "2it [00:00, 76.92it/s]\n",
      "100%|██████████| 2/2 [00:00<00:00, 31.25it/s]\n",
      "100%|██████████| 10/10 [00:00<00:00, 4976.63it/s]\n",
      "  0%|          | 0/2 [00:00<?, ?it/s]\n",
      "2it [00:00, 55.56it/s]\n",
      "\n",
      "2it [00:00, 68.97it/s]\n",
      "100%|██████████| 2/2 [00:00<00:00, 25.64it/s]\n",
      "100%|██████████| 10/10 [00:00<00:00, 5002.15it/s]\n",
      "  0%|          | 0/2 [00:00<?, ?it/s]\n",
      "2it [00:00, 80.00it/s]\n",
      "\n",
      "2it [00:00, 80.00it/s]\n",
      "100%|██████████| 2/2 [00:00<00:00, 33.33it/s]\n",
      "100%|██████████| 10/10 [00:00<00:00, 4997.98it/s]\n",
      "100%|██████████| 10/10 [00:00<00:00, 4999.77it/s]\n",
      "100%|██████████| 10/10 [00:00<00:00, 3330.93it/s]\n",
      "100%|██████████| 10/10 [00:00<00:00, 9993.58it/s]\n",
      "100%|██████████| 10/10 [00:00<00:00, 10000.72it/s]\n",
      "100%|██████████| 10/10 [00:00<00:00, 9834.24it/s]\n",
      "100%|██████████| 10/10 [00:00<00:00, 5002.15it/s]\n",
      "  0%|          | 0/2 [00:00<?, ?it/s]\n",
      "2it [00:00, 74.08it/s]\n",
      "\n",
      "2it [00:00, 47.62it/s]\n",
      "100%|██████████| 2/2 [00:00<00:00, 22.73it/s]\n",
      "100%|██████████| 10/10 [00:00<00:00, 3332.52it/s]\n",
      "  0%|          | 0/2 [00:00<?, ?it/s]\n",
      "2it [00:00, 83.32it/s]\n",
      "\n",
      "2it [00:00, 86.95it/s]\n",
      "100%|██████████| 2/2 [00:00<00:00, 35.71it/s]\n",
      "100%|██████████| 10/10 [00:00<00:00, 9995.96it/s]\n",
      "  0%|          | 0/2 [00:00<?, ?it/s]\n",
      "2it [00:00, 76.93it/s]\n",
      "\n",
      "2it [00:00, 62.50it/s]\n",
      "100%|██████████| 2/2 [00:00<00:00, 28.17it/s]\n",
      "100%|██████████| 10/10 [00:00<00:00, 3336.23it/s]\n",
      "100%|██████████| 10/10 [00:00<00:00, 3331.72it/s]\n",
      "100%|██████████| 10/10 [00:00<00:00, 5003.94it/s]\n",
      "100%|██████████| 10/10 [00:00<?, ?it/s]\n",
      "100%|██████████| 10/10 [00:00<00:00, 1999.38it/s]\n",
      "100%|██████████| 10/10 [00:00<00:00, 9974.56it/s]\n",
      "100%|██████████| 10/10 [00:00<00:00, 5002.15it/s]\n",
      "  0%|          | 0/2 [00:00<?, ?it/s]\n",
      "2it [00:00, 95.25it/s]\n",
      "\n",
      "2it [00:00, 60.61it/s]\n",
      "100%|██████████| 2/2 [00:00<00:00, 29.41it/s]\n",
      "100%|██████████| 10/10 [00:00<00:00, 5017.11it/s]\n",
      "  0%|          | 0/2 [00:00<?, ?it/s]\n",
      "2it [00:00, 55.55it/s]\n",
      "\n",
      "2it [00:00, 55.56it/s]\n",
      "100%|██████████| 2/2 [00:00<00:00, 23.53it/s]\n",
      "100%|██████████| 10/10 [00:00<00:00, 2494.09it/s]\n",
      "  0%|          | 0/2 [00:00<?, ?it/s]\n",
      "2it [00:00, 74.09it/s]\n",
      "\n",
      "2it [00:00, 66.68it/s]\n",
      "100%|██████████| 2/2 [00:00<00:00, 28.57it/s]\n",
      "100%|██████████| 10/10 [00:00<00:00, 3335.17it/s]\n",
      "100%|██████████| 10/10 [00:00<00:00, 5098.22it/s]\n",
      "100%|██████████| 10/10 [00:00<00:00, 3334.90it/s]\n",
      "100%|██████████| 10/10 [00:00<00:00, 9969.82it/s]\n",
      "100%|██████████| 10/10 [00:00<00:00, 10165.55it/s]\n",
      "100%|██████████| 10/10 [00:00<00:00, 9974.56it/s]\n",
      "100%|██████████| 10/10 [00:00<00:00, 3333.05it/s]\n",
      "  0%|          | 0/2 [00:00<?, ?it/s]\n",
      "2it [00:00, 71.43it/s]\n",
      "\n",
      "2it [00:00, 80.00it/s]\n",
      "100%|██████████| 2/2 [00:00<00:00, 32.26it/s]\n",
      "100%|██████████| 10/10 [00:00<00:00, 5003.94it/s]\n",
      "  0%|          | 0/2 [00:00<?, ?it/s]\n",
      "2it [00:00, 62.50it/s]\n",
      "\n",
      "2it [00:00, 68.97it/s]\n",
      "100%|██████████| 2/2 [00:00<00:00, 26.67it/s]\n",
      "100%|██████████| 10/10 [00:00<00:00, 3330.93it/s]\n",
      "  0%|          | 0/2 [00:00<?, ?it/s]\n",
      "2it [00:00, 64.52it/s]\n",
      "\n",
      "2it [00:00, 60.61it/s]\n",
      "100%|██████████| 2/2 [00:00<00:00, 25.32it/s]\n",
      "100%|██████████| 10/10 [00:00<00:00, 3335.17it/s]\n",
      "100%|██████████| 10/10 [00:00<00:00, 2500.93it/s]\n",
      "100%|██████████| 10/10 [00:00<00:00, 3339.68it/s]\n",
      "100%|██████████| 10/10 [00:00<00:00, 4997.98it/s]\n",
      "100%|██████████| 10/10 [00:00<00:00, 10374.24it/s]\n",
      "100%|██████████| 10/10 [00:00<00:00, 9892.23it/s]\n",
      "100%|██████████| 10/10 [00:00<00:00, 4995.00it/s]\n",
      "  0%|          | 0/2 [00:00<?, ?it/s]\n",
      "2it [00:00, 64.51it/s]\n",
      "\n",
      "2it [00:00, 62.51it/s]\n",
      "100%|██████████| 2/2 [00:00<00:00, 25.64it/s]\n",
      "100%|██████████| 10/10 [00:00<00:00, 3337.29it/s]\n",
      "  0%|          | 0/2 [00:00<?, ?it/s]\n",
      "2it [00:00, 64.49it/s]\n",
      "\n",
      "2it [00:00, 71.43it/s]\n",
      "100%|██████████| 2/2 [00:00<00:00, 26.32it/s]\n",
      "100%|██████████| 10/10 [00:00<00:00, 2498.25it/s]\n",
      "  0%|          | 0/2 [00:00<?, ?it/s]\n",
      "2it [00:00, 64.51it/s]\n",
      "\n",
      "2it [00:00, 54.05it/s]\n",
      "100%|██████████| 2/2 [00:00<00:00, 25.00it/s]\n",
      "100%|██████████| 10/10 [00:00<00:00, 4992.62it/s]\n",
      "100%|██████████| 10/10 [00:00<00:00, 3330.93it/s]\n",
      "100%|██████████| 10/10 [00:00<00:00, 3331.99it/s]\n",
      "100%|██████████| 10/10 [00:00<00:00, 9957.99it/s]\n",
      "100%|██████████| 10/10 [00:00<?, ?it/s]\n",
      "100%|██████████| 10/10 [00:00<00:00, 9979.31it/s]\n",
      "100%|██████████| 10/10 [00:00<00:00, 4991.44it/s]\n",
      "  0%|          | 0/2 [00:00<?, ?it/s]\n",
      "2it [00:00, 60.61it/s]\n",
      "\n",
      "2it [00:00, 55.55it/s]\n",
      "100%|██████████| 2/2 [00:00<00:00, 24.69it/s]\n",
      "100%|██████████| 10/10 [00:00<00:00, 3328.81it/s]\n",
      "  0%|          | 0/2 [00:00<?, ?it/s]\n",
      "2it [00:00, 79.99it/s]\n",
      "\n",
      "2it [00:00, 71.44it/s]\n",
      "100%|██████████| 2/2 [00:00<00:00, 30.30it/s]\n",
      "100%|██████████| 10/10 [00:00<00:00, 3334.10it/s]\n",
      "  0%|          | 0/2 [00:00<?, ?it/s]\n",
      "2it [00:00, 74.08it/s]\n",
      "\n",
      "2it [00:00, 57.15it/s]\n",
      "100%|██████████| 2/2 [00:00<00:00, 27.78it/s]\n",
      "100%|██████████| 10/10 [00:00<00:00, 4913.09it/s]\n",
      "100%|██████████| 10/10 [00:00<00:00, 4993.81it/s]\n",
      "100%|██████████| 10/10 [00:00<00:00, 3334.10it/s]\n",
      "100%|██████████| 10/10 [00:00<00:00, 4992.62it/s]\n",
      "100%|██████████| 10/10 [00:00<00:00, 10022.23it/s]\n",
      "100%|██████████| 10/10 [00:00<00:00, 9986.44it/s]\n",
      "100%|██████████| 10/10 [00:00<00:00, 4997.38it/s]\n",
      "  0%|          | 0/2 [00:00<?, ?it/s]\n",
      "2it [00:00, 68.96it/s]\n",
      "\n",
      "2it [00:00, 74.09it/s]\n",
      "100%|██████████| 2/2 [00:00<00:00, 28.17it/s]\n",
      "100%|██████████| 10/10 [00:00<00:00, 4992.62it/s]\n",
      "  0%|          | 0/2 [00:00<?, ?it/s]\n",
      "2it [00:00, 57.15it/s]\n",
      "\n",
      "2it [00:00, 58.83it/s]\n",
      "100%|██████████| 2/2 [00:00<00:00, 23.81it/s]\n",
      "100%|██████████| 10/10 [00:00<00:00, 5006.93it/s]\n",
      "  0%|          | 0/2 [00:00<?, ?it/s]\n",
      "2it [00:00, 66.67it/s]\n",
      "\n",
      "2it [00:00, 66.67it/s]\n",
      "100%|██████████| 2/2 [00:00<00:00, 27.40it/s]\n",
      "100%|██████████| 10/10 [00:00<00:00, 3331.99it/s]\n",
      "100%|██████████| 10/10 [00:00<00:00, 909.16it/s]\n",
      "100%|██████████| 10/10 [00:00<00:00, 3333.05it/s]\n",
      "Converting to PDF report ...\n",
      "​Deleting temporary files ...\n",
      "Completed to export pdf. (povmt_nrep=10_軸上から一番離れた表面の少し内側)\n"
     ]
    }
   ],
   "source": [
    "report.export_report(\"povmt_nrep=10_軸上から一番離れた表面の少し内側.pdf\",\n",
    "    estimation_results_list,\n",
    "    case_name_list,\n",
    "    estimator_list,\n",
    "    true_object,\n",
    "    tester_objects,\n",
    "    loss_list=loss_list,\n",
    "    loss_option_list=loss_option_list,\n",
    "    algo_list=algo_list,\n",
    "    algo_option_list=algo_option_list,\n",
    "    seed=seed,\n",
    "    computation_time=sum(elapsed_times)\n",
    ")"
   ]
  },
  {
   "cell_type": "code",
   "execution_count": null,
   "metadata": {},
   "outputs": [],
   "source": []
  }
 ],
 "metadata": {
  "hide_input": false,
  "kernelspec": {
   "name": "python3",
   "display_name": "Python 3.6.8 64-bit ('venv')",
   "metadata": {
    "interpreter": {
     "hash": "d216afbb33f4efcd5c20872258da433cba53074bc31b2230e285de32a441ce5f"
    }
   }
  },
  "language_info": {
   "codemirror_mode": {
    "name": "ipython",
    "version": 3
   },
   "file_extension": ".py",
   "mimetype": "text/x-python",
   "name": "python",
   "nbconvert_exporter": "python",
   "pygments_lexer": "ipython3",
   "version": "3.6.8-final"
  },
  "toc": {
   "base_numbering": 1,
   "nav_menu": {},
   "number_sections": true,
   "sideBar": true,
   "skip_h1_title": false,
   "title_cell": "Table of Contents",
   "title_sidebar": "Contents",
   "toc_cell": false,
   "toc_position": {},
   "toc_section_display": true,
   "toc_window_display": false
  },
  "varInspector": {
   "cols": {
    "lenName": 16,
    "lenType": 16,
    "lenVar": 40
   },
   "kernels_config": {
    "python": {
     "delete_cmd_postfix": "",
     "delete_cmd_prefix": "del ",
     "library": "var_list.py",
     "varRefreshCmd": "print(var_dic_list())"
    },
    "r": {
     "delete_cmd_postfix": ") ",
     "delete_cmd_prefix": "rm(",
     "library": "var_list.r",
     "varRefreshCmd": "cat(var_dic_list()) "
    }
   },
   "types_to_exclude": [
    "module",
    "function",
    "builtin_function_or_method",
    "instance",
    "_Feature"
   ],
   "window_display": false
  }
 },
 "nbformat": 4,
 "nbformat_minor": 4
}