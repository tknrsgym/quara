{
 "cells": [
  {
   "cell_type": "code",
   "execution_count": 1,
   "metadata": {},
   "outputs": [],
   "source": [
    "# Povm"
   ]
  },
  {
   "cell_type": "code",
   "execution_count": 1,
   "metadata": {},
   "outputs": [],
   "source": [
    "import pickle\n",
    "import time\n",
    "from typing import List\n",
    "import datetime as dt\n",
    "from pathlib import Path\n",
    "\n",
    "import numpy as np\n",
    "import pandas as pd\n",
    "import plotly.graph_objects as go\n",
    "import plotly.express as px\n",
    "\n",
    "from tqdm import tqdm\n",
    "\n",
    "from quara.data_analysis import data_analysis, physicality_violation_check, report\n",
    "from quara.data_analysis.projected_gradient_descent_backtracking import (\n",
    "    ProjectedGradientDescentBacktracking,\n",
    "    ProjectedGradientDescentBacktrackingOption,\n",
    ")\n",
    "from quara.data_analysis.weighted_probability_based_squared_error import (\n",
    "    WeightedProbabilityBasedSquaredError,\n",
    "    WeightedProbabilityBasedSquaredErrorOption,\n",
    ")\n",
    "from quara.data_analysis.weighted_relative_entropy import (\n",
    "    WeightedRelativeEntropy,\n",
    "    WeightedRelativeEntropyOption,\n",
    ")\n",
    "from quara.objects.composite_system import CompositeSystem\n",
    "from quara.objects.elemental_system import ElementalSystem\n",
    "from quara.objects.matrix_basis import get_normalized_pauli_basis\n",
    "from quara.objects.state import (\n",
    "    State,\n",
    "    get_x0_1q,\n",
    "    get_x1_1q,\n",
    "    get_y0_1q,\n",
    "    get_y1_1q,\n",
    "    get_z0_1q,\n",
    "    get_z1_1q,\n",
    ")\n",
    "from quara.objects.povm import Povm, get_x_povm\n",
    "from quara.objects.qoperation import QOperation\n",
    "from quara.protocol.qtomography.standard.standard_povmt import StandardPovmt\n",
    "from quara.protocol.qtomography.standard.linear_estimator import LinearEstimator\n",
    "from quara.protocol.qtomography.standard.loss_minimization_estimator import (\n",
    "    LossMinimizationEstimator,\n",
    ")\n",
    "from quara.protocol.qtomography.standard.projected_linear_estimator import (\n",
    "    ProjectedLinearEstimator,\n",
    ")\n",
    "\n",
    "from quara.data_analysis.simulation import StandardQTomographySimulationSetting\n",
    "from quara.settings import Settings"
   ]
  },
  {
   "cell_type": "code",
   "execution_count": null,
   "metadata": {},
   "outputs": [],
   "source": [
    "%load_ext autoreload\n",
    "%autoreload 2"
   ]
  },
  {
   "cell_type": "code",
   "execution_count": 2,
   "metadata": {},
   "outputs": [],
   "source": [
    "start_all = time.time()"
   ]
  },
  {
   "cell_type": "code",
   "execution_count": 3,
   "metadata": {},
   "outputs": [],
   "source": [
    "# setup system\n",
    "e_sys = ElementalSystem(0, get_normalized_pauli_basis())\n",
    "c_sys = CompositeSystem([e_sys])\n",
    "\n",
    "# |+><+|\n",
    "state_x0 = get_x0_1q(c_sys)\n",
    "# |+i><+i|\n",
    "state_y0 = get_y0_1q(c_sys)\n",
    "# |0><0|\n",
    "state_z0 = get_z0_1q(c_sys)\n",
    "# |1><1|\n",
    "state_z1 = get_z1_1q(c_sys)\n",
    "tester_objects = [state_x0, state_y0, state_z0, state_z1]"
   ]
  },
  {
   "cell_type": "code",
   "execution_count": 4,
   "metadata": {},
   "outputs": [
    {
     "data": {
      "text/plain": [
       "(array([0.70710678, 0.5       , 0.        , 0.5       ]),\n",
       " array([ 0.70710678, -0.5       ,  0.        , -0.5       ]))"
      ]
     },
     "execution_count": 4,
     "metadata": {},
     "output_type": "execute_result"
    }
   ],
   "source": [
    "# Case 1: 軸上\n",
    "# a0, a1, a2, a3 = 1, 1, 0, 0\n",
    "# m1 = (1 / np.sqrt(2)) * np.array([a0, a1, a2, a3])\n",
    "# m2 = (1 / np.sqrt(2)) * np.array([2 - a0, -a1, -a2, -a3])\n",
    "\n",
    "# Case 2: 軸から一番離れた表面\n",
    "a0, a1, a2, a3 = 1, 1 / np.sqrt(2), 0, 1 / np.sqrt(2)\n",
    "m1 = (1 / np.sqrt(2)) * np.array([a0, a1, a2, a3])\n",
    "m2 = (1 / np.sqrt(2)) * np.array([2 - a0, -a1, -a2, -a3])\n",
    "\n",
    "# Case 3: 原点\n",
    "# a0, a1, a2, a3 = 1, 0, 0, 0\n",
    "# m1 = (1 / np.sqrt(2)) * np.array([a0, a1, a2, a3])\n",
    "# m2 = (1 / np.sqrt(2)) * np.array([2 - a0, -a1, -a2, -a3])\n",
    "\n",
    "true_object = Povm(vecs=[m1, m2], c_sys=c_sys)\n",
    "\n",
    "true_object.vecs"
   ]
  },
  {
   "cell_type": "code",
   "execution_count": 8,
   "metadata": {},
   "outputs": [
    {
     "name": "stderr",
     "output_type": "stream",
     "text": [
      " 10%|█         | 1/10 [00:00<00:01,  7.83it/s]"
     ]
    },
    {
     "name": "stdout",
     "output_type": "stream",
     "text": [
      "Case 0: LinearEstimator(True)\n",
      "Parametorization: True\n",
      "Type of qtomography: StandardPovmt\n",
      "Estimator: LinearEstimator\n"
     ]
    },
    {
     "name": "stderr",
     "output_type": "stream",
     "text": [
      "100%|██████████| 10/10 [00:01<00:00,  7.80it/s]\n",
      " 10%|█         | 1/10 [00:00<00:01,  8.00it/s]"
     ]
    },
    {
     "name": "stdout",
     "output_type": "stream",
     "text": [
      "elapsed_time:0.021472664674123128[min]\n",
      "\n",
      "Case 1: LinearEstimator(False)\n",
      "Parametorization: False\n",
      "Type of qtomography: StandardPovmt\n",
      "Estimator: LinearEstimator\n"
     ]
    },
    {
     "name": "stderr",
     "output_type": "stream",
     "text": [
      "100%|██████████| 10/10 [00:01<00:00,  8.22it/s]\n",
      "  0%|          | 0/10 [00:00<?, ?it/s]"
     ]
    },
    {
     "name": "stdout",
     "output_type": "stream",
     "text": [
      "elapsed_time:0.02035998503367106[min]\n",
      "\n",
      "Case 2: ProjectedLinearEstimator(True)\n",
      "Parametorization: True\n",
      "Type of qtomography: StandardPovmt\n",
      "Estimator: ProjectedLinearEstimator\n"
     ]
    },
    {
     "name": "stderr",
     "output_type": "stream",
     "text": [
      "100%|██████████| 10/10 [00:01<00:00,  5.53it/s]\n",
      "  0%|          | 0/10 [00:00<?, ?it/s]"
     ]
    },
    {
     "name": "stdout",
     "output_type": "stream",
     "text": [
      "elapsed_time:0.030220222473144532[min]\n",
      "\n",
      "Case 3: ProjectedLinearEstimator(False)\n",
      "Parametorization: False\n",
      "Type of qtomography: StandardPovmt\n",
      "Estimator: ProjectedLinearEstimator\n"
     ]
    },
    {
     "name": "stderr",
     "output_type": "stream",
     "text": [
      "100%|██████████| 10/10 [00:02<00:00,  4.95it/s]\n",
      "  0%|          | 0/10 [00:00<?, ?it/s]"
     ]
    },
    {
     "name": "stdout",
     "output_type": "stream",
     "text": [
      "elapsed_time:0.03379038572311401[min]\n",
      "\n",
      "Case 4: Maximum-Likelihood(True)\n",
      "Parametorization: True\n",
      "Type of qtomography: StandardPovmt\n",
      "Estimator: LossMinimizationEstimator\n"
     ]
    },
    {
     "name": "stderr",
     "output_type": "stream",
     "text": [
      "100%|██████████| 10/10 [01:10<00:00,  7.08s/it]\n",
      "  0%|          | 0/10 [00:00<?, ?it/s]"
     ]
    },
    {
     "name": "stdout",
     "output_type": "stream",
     "text": [
      "elapsed_time:1.1802640318870545[min]\n",
      "\n",
      "Case 5: Maximum-Likelihood(False)\n",
      "Parametorization: False\n",
      "Type of qtomography: StandardPovmt\n",
      "Estimator: LossMinimizationEstimator\n"
     ]
    },
    {
     "name": "stderr",
     "output_type": "stream",
     "text": [
      "100%|██████████| 10/10 [00:44<00:00,  4.42s/it]\n",
      "  0%|          | 0/10 [00:00<?, ?it/s]"
     ]
    },
    {
     "name": "stdout",
     "output_type": "stream",
     "text": [
      "elapsed_time:0.7372739315032959[min]\n",
      "\n",
      "Case 6: Least Squares(True)\n",
      "Parametorization: True\n",
      "Type of qtomography: StandardPovmt\n",
      "Estimator: LossMinimizationEstimator\n"
     ]
    },
    {
     "name": "stderr",
     "output_type": "stream",
     "text": [
      "100%|██████████| 10/10 [00:35<00:00,  3.56s/it]\n",
      "  0%|          | 0/10 [00:00<?, ?it/s]"
     ]
    },
    {
     "name": "stdout",
     "output_type": "stream",
     "text": [
      "elapsed_time:0.5928059856096903[min]\n",
      "\n",
      "Case 7: Least Squares(False)\n",
      "Parametorization: False\n",
      "Type of qtomography: StandardPovmt\n",
      "Estimator: LossMinimizationEstimator\n"
     ]
    },
    {
     "name": "stderr",
     "output_type": "stream",
     "text": [
      "100%|██████████| 10/10 [00:28<00:00,  2.80s/it]"
     ]
    },
    {
     "name": "stdout",
     "output_type": "stream",
     "text": [
      "elapsed_time:0.4669113794962565[min]\n",
      "\n"
     ]
    },
    {
     "name": "stderr",
     "output_type": "stream",
     "text": [
      "\n"
     ]
    }
   ],
   "source": [
    "num_data = [100, 1000, 10000]\n",
    "n_rep = 10\n",
    "measurement_n = len(true_object.vecs)  # 測定値の数\n",
    "\n",
    "case_name_list = [\n",
    "    \"LinearEstimator(True)\",\n",
    "    \"LinearEstimator(False)\",\n",
    "    \"ProjectedLinearEstimator(True)\",\n",
    "    \"ProjectedLinearEstimator(False)\",\n",
    "    \"Maximum-Likelihood(True)\",\n",
    "    \"Maximum-Likelihood(False)\",\n",
    "    \"Least Squares(True)\",\n",
    "    \"Least Squares(False)\",\n",
    "]\n",
    "\n",
    "seed = 777\n",
    "qtomography_list = [\n",
    "    StandardPovmt(tester_objects, measurement_n, on_para_eq_constraint=True, seed=seed),\n",
    "    StandardPovmt(\n",
    "        tester_objects, measurement_n, on_para_eq_constraint=False, seed=seed\n",
    "    ),\n",
    "    StandardPovmt(tester_objects, measurement_n, on_para_eq_constraint=True, seed=seed),\n",
    "    StandardPovmt(\n",
    "        tester_objects, measurement_n, on_para_eq_constraint=False, seed=seed\n",
    "    ),\n",
    "    StandardPovmt(\n",
    "        tester_objects,\n",
    "        measurement_n,\n",
    "        on_para_eq_constraint=True,\n",
    "        eps_proj_physical=1e-13,\n",
    "        seed=seed,\n",
    "    ),\n",
    "    StandardPovmt(\n",
    "        tester_objects,\n",
    "        measurement_n,\n",
    "        on_para_eq_constraint=False,\n",
    "        eps_proj_physical=1e-13,\n",
    "        seed=seed,\n",
    "    ),\n",
    "    StandardPovmt(\n",
    "        tester_objects,\n",
    "        measurement_n,\n",
    "        on_para_eq_constraint=True,\n",
    "        eps_proj_physical=1e-13,\n",
    "        seed=seed,\n",
    "    ),\n",
    "    StandardPovmt(\n",
    "        tester_objects,\n",
    "        measurement_n,\n",
    "        on_para_eq_constraint=False,\n",
    "        eps_proj_physical=1e-13,\n",
    "        seed=seed,\n",
    "    ),\n",
    "]\n",
    "\n",
    "para_list = [\n",
    "    True,\n",
    "    False,\n",
    "    True,\n",
    "    False,\n",
    "    True,\n",
    "    False,\n",
    "    True,\n",
    "    False,\n",
    "]\n",
    "\n",
    "estimator_list = [\n",
    "    LinearEstimator(),\n",
    "    LinearEstimator(),\n",
    "    ProjectedLinearEstimator(),\n",
    "    ProjectedLinearEstimator(),\n",
    "    LossMinimizationEstimator(),\n",
    "    LossMinimizationEstimator(),\n",
    "    LossMinimizationEstimator(),\n",
    "    LossMinimizationEstimator(),\n",
    "]\n",
    "\n",
    "loss_list = [\n",
    "    None,\n",
    "    None,\n",
    "    None,\n",
    "    None,\n",
    "    WeightedRelativeEntropy(4),\n",
    "    WeightedRelativeEntropy(8),\n",
    "    WeightedProbabilityBasedSquaredError(4),\n",
    "    WeightedProbabilityBasedSquaredError(8),\n",
    "]\n",
    "\n",
    "loss_option_list = [\n",
    "    None,\n",
    "    None,\n",
    "    None,\n",
    "    None,\n",
    "    WeightedRelativeEntropyOption(\"identity\"),\n",
    "    WeightedRelativeEntropyOption(\"identity\"),\n",
    "    WeightedProbabilityBasedSquaredErrorOption(\"identity\"),\n",
    "    WeightedProbabilityBasedSquaredErrorOption(\"identity\"),\n",
    "]\n",
    "\n",
    "algo_list = [\n",
    "    None,\n",
    "    None,\n",
    "    None,\n",
    "    None,\n",
    "    ProjectedGradientDescentBacktracking(),\n",
    "    ProjectedGradientDescentBacktracking(),\n",
    "    ProjectedGradientDescentBacktracking(),\n",
    "    ProjectedGradientDescentBacktracking(),\n",
    "]\n",
    "\n",
    "algo_option_list = [\n",
    "    None,\n",
    "    None,\n",
    "    None,\n",
    "    None,\n",
    "    ProjectedGradientDescentBacktrackingOption(),\n",
    "    ProjectedGradientDescentBacktrackingOption(),\n",
    "    ProjectedGradientDescentBacktrackingOption(),\n",
    "    ProjectedGradientDescentBacktrackingOption(),\n",
    "]\n",
    "\n",
    "estimation_results_list = []\n",
    "elapsed_times = []\n",
    "simulation_settings = []\n",
    "\n",
    "for i, name in enumerate(case_name_list):\n",
    "    qtomography = qtomography_list[i]\n",
    "    estimator = estimator_list[i]\n",
    "    loss = loss_list[i]\n",
    "    loss_option = loss_option_list[i]\n",
    "    algo = algo_list[i]\n",
    "    algo_option = algo_option_list[i]\n",
    "\n",
    "    start = time.time()\n",
    "    print(f\"Case {i}: {name}\")\n",
    "    print(f\"Parametorization: {para_list[i]}\")\n",
    "    print(f\"Type of qtomography: {qtomography.__class__.__name__}\")\n",
    "    print(f\"Estimator: {estimator.__class__.__name__}\")\n",
    "\n",
    "    estimation_results = data_analysis.estimate(\n",
    "        qtomography=qtomography,\n",
    "        true_object=true_object,\n",
    "        num_data=num_data,\n",
    "        estimator=estimator,\n",
    "        loss=loss,\n",
    "        loss_option=loss_option,\n",
    "        algo=algo,\n",
    "        algo_option=algo_option,\n",
    "        iteration=n_rep,\n",
    "    )\n",
    "    estimation_results_list.append(estimation_results)\n",
    "\n",
    "    # stock settings of this simulation\n",
    "    simulation_setting = StandardQTomographySimulationSetting(\n",
    "        name=name,\n",
    "        estimator=estimator,\n",
    "        loss=loss,\n",
    "        loss_option=loss_option,\n",
    "        algo=algo,\n",
    "        algo_option=algo_option,\n",
    "        true_object=true_object,\n",
    "        tester_objects=tester_objects,\n",
    "    )\n",
    "    simulation_settings.append(simulation_setting)\n",
    "\n",
    "    elapsed_time = time.time() - start\n",
    "    print(\"elapsed_time:{0}\".format(elapsed_time / 60) + \"[min]\\n\")\n",
    "    elapsed_times.append(elapsed_time)"
   ]
  },
  {
   "cell_type": "code",
   "execution_count": 9,
   "metadata": {},
   "outputs": [
    {
     "name": "stdout",
     "output_type": "stream",
     "text": [
      "​Generating table of computation time ...\n",
      "​Generating table of tolerance of physicality constraint violation ...\n",
      "​Generating table of experimental conditions ...\n",
      "Generating case list ...\n",
      "Computation time of estimators ...\n"
     ]
    },
    {
     "name": "stderr",
     "output_type": "stream",
     "text": [
      "100%|██████████| 10/10 [00:00<00:00, 23523.86it/s]\n",
      "100%|██████████| 10/10 [00:00<00:00, 21879.52it/s]\n",
      "100%|██████████| 10/10 [00:00<00:00, 10394.81it/s]"
     ]
    },
    {
     "name": "stdout",
     "output_type": "stream",
     "text": [
      "​​Generating MSE of empirical distributions blocks ...\n"
     ]
    },
    {
     "name": "stderr",
     "output_type": "stream",
     "text": [
      "\n"
     ]
    },
    {
     "name": "stdout",
     "output_type": "stream",
     "text": [
      "​​Generating consictency test blocks ...\n",
      "​Generating a graph for MSE ...\n",
      "  LinearEstimator(True)=[0.03203786692715932, 0.002837704178682182, 0.00024584712280149217]\n",
      "  LinearEstimator(False)=[0.020277866927159317, 0.003541564504240555, 0.00032776280804385166]\n",
      "  ProjectedLinearEstimator(True)=[0.026550064626018832, 0.0021114438702559877, 0.0002675468447344297]\n",
      "  ProjectedLinearEstimator(False)=[0.015358630437802062, 0.002175824867230545, 0.0002449240055079414]\n",
      "  Maximum-Likelihood(True)=[0.01877887048674481, 0.0012239607165757296, 0.0002339652521848516]\n",
      "  Maximum-Likelihood(False)=[0.016421375940886357, 0.0028827906026858098, 0.00021025662704711917]\n",
      "  Least Squares(True)=[0.016154841842252687, 0.0013013620418841603, 0.00014267036816194352]\n",
      "  Least Squares(False)=[0.01540766028795649, 0.001834775646326154, 0.00021438008586254368]\n",
      "  LinearEstimator(True)=[0.03203786692715932, 0.002837704178682182, 0.00024584712280149217]\n",
      "  ProjectedLinearEstimator(True)=[0.026550064626018832, 0.0021114438702559877, 0.0002675468447344297]\n",
      "  Maximum-Likelihood(True)=[0.01877887048674481, 0.0012239607165757296, 0.0002339652521848516]\n",
      "  Least Squares(True)=[0.016154841842252687, 0.0013013620418841603, 0.00014267036816194352]\n",
      "  LinearEstimator(False)=[0.020277866927159317, 0.003541564504240555, 0.00032776280804385166]\n",
      "  ProjectedLinearEstimator(False)=[0.015358630437802062, 0.002175824867230545, 0.0002449240055079414]\n",
      "  Maximum-Likelihood(False)=[0.016421375940886357, 0.0028827906026858098, 0.00021025662704711917]\n",
      "  Least Squares(False)=[0.01540766028795649, 0.001834775646326154, 0.00021438008586254368]\n"
     ]
    },
    {
     "name": "stderr",
     "output_type": "stream",
     "text": [
      "100%|██████████| 10/10 [00:00<00:00, 10716.16it/s]"
     ]
    },
    {
     "name": "stdout",
     "output_type": "stream",
     "text": [
      "​​Generating physicality violation test blocks ...\n"
     ]
    },
    {
     "name": "stderr",
     "output_type": "stream",
     "text": [
      "\n",
      "100%|██████████| 10/10 [00:00<00:00, 8203.22it/s]\n",
      "100%|██████████| 10/10 [00:00<00:00, 6202.76it/s]\n",
      "100%|██████████| 10/10 [00:00<00:00, 4053.64it/s]\n",
      "  0%|          | 0/2 [00:00<?, ?it/s]\n",
      "2it [00:00, 38.82it/s]\n",
      "\n",
      "2it [00:00, 36.39it/s]\n",
      "100%|██████████| 2/2 [00:00<00:00, 15.96it/s]\n",
      "100%|██████████| 10/10 [00:00<00:00, 3064.67it/s]\n",
      "  0%|          | 0/2 [00:00<?, ?it/s]\n",
      "2it [00:00, 26.08it/s]\n",
      "\n",
      "2it [00:00, 30.24it/s]\n",
      "100%|██████████| 2/2 [00:00<00:00, 12.30it/s]\n",
      "100%|██████████| 10/10 [00:00<00:00, 2710.02it/s]\n",
      "  0%|          | 0/2 [00:00<?, ?it/s]\n",
      "2it [00:00, 49.30it/s]\n",
      "\n",
      "2it [00:00, 55.70it/s]\n",
      "100%|██████████| 2/2 [00:00<00:00, 18.60it/s]\n",
      "100%|██████████| 10/10 [00:00<00:00, 3739.57it/s]\n",
      "100%|██████████| 10/10 [00:00<00:00, 2796.39it/s]\n",
      "100%|██████████| 10/10 [00:00<00:00, 1502.42it/s]\n",
      "100%|██████████| 10/10 [00:00<00:00, 6878.16it/s]\n",
      "100%|██████████| 10/10 [00:00<00:00, 3244.61it/s]\n",
      "100%|██████████| 10/10 [00:00<00:00, 7359.72it/s]\n",
      "100%|██████████| 10/10 [00:00<00:00, 1871.62it/s]\n",
      "  0%|          | 0/2 [00:00<?, ?it/s]\n",
      "2it [00:00, 42.33it/s]\n",
      "\n",
      "2it [00:00, 42.04it/s]\n",
      "100%|██████████| 2/2 [00:00<00:00, 17.19it/s]\n",
      "100%|██████████| 10/10 [00:00<00:00, 2124.02it/s]\n",
      "  0%|          | 0/2 [00:00<?, ?it/s]\n",
      "2it [00:00, 21.30it/s]\n",
      " 50%|█████     | 1/2 [00:00<00:00,  9.74it/s]\n",
      "0it [00:00, ?it/s]\u001b[A\n",
      "2it [00:00,  8.78it/s]\u001b[A\n",
      "100%|██████████| 2/2 [00:00<00:00,  5.85it/s]\n",
      "100%|██████████| 10/10 [00:00<00:00, 2766.33it/s]\n",
      "  0%|          | 0/2 [00:00<?, ?it/s]\n",
      "2it [00:00, 38.31it/s]\n",
      "\n",
      "2it [00:00, 35.58it/s]\n",
      "100%|██████████| 2/2 [00:00<00:00, 15.61it/s]\n",
      "100%|██████████| 10/10 [00:00<00:00, 1460.06it/s]\n",
      "100%|██████████| 10/10 [00:00<00:00, 2199.31it/s]\n",
      "100%|██████████| 10/10 [00:00<00:00, 2264.01it/s]\n",
      "100%|██████████| 10/10 [00:00<00:00, 5423.20it/s]\n",
      "100%|██████████| 10/10 [00:00<00:00, 11670.29it/s]\n",
      "100%|██████████| 10/10 [00:00<00:00, 9406.38it/s]\n",
      "100%|██████████| 10/10 [00:00<00:00, 2486.99it/s]\n",
      "  0%|          | 0/2 [00:00<?, ?it/s]\n",
      "2it [00:00, 41.67it/s]\n",
      "\n",
      "2it [00:00, 43.00it/s]\n",
      "100%|██████████| 2/2 [00:00<00:00, 17.74it/s]\n",
      "100%|██████████| 10/10 [00:00<00:00, 2983.15it/s]\n",
      "  0%|          | 0/2 [00:00<?, ?it/s]\n",
      "2it [00:00, 28.96it/s]\n",
      "\n",
      "2it [00:00, 29.84it/s]\n",
      "100%|██████████| 2/2 [00:00<00:00, 12.49it/s]\n",
      "100%|██████████| 10/10 [00:00<00:00, 4677.49it/s]\n",
      "  0%|          | 0/2 [00:00<?, ?it/s]\n",
      "2it [00:00, 47.81it/s]\n",
      "\n",
      "2it [00:00, 51.76it/s]\n",
      "100%|██████████| 2/2 [00:00<00:00, 19.41it/s]\n",
      "100%|██████████| 10/10 [00:00<00:00, 2655.30it/s]\n",
      "100%|██████████| 10/10 [00:00<00:00, 2510.51it/s]\n",
      "100%|██████████| 10/10 [00:00<00:00, 1860.08it/s]\n",
      "100%|██████████| 10/10 [00:00<00:00, 7764.35it/s]\n",
      "100%|██████████| 10/10 [00:00<00:00, 4336.54it/s]\n",
      "100%|██████████| 10/10 [00:00<00:00, 5552.43it/s]\n",
      "100%|██████████| 10/10 [00:00<00:00, 4166.80it/s]\n",
      "  0%|          | 0/2 [00:00<?, ?it/s]\n",
      "2it [00:00, 62.04it/s]\n",
      "\n",
      "2it [00:00, 43.30it/s]\n",
      "100%|██████████| 2/2 [00:00<00:00, 21.74it/s]\n",
      "100%|██████████| 10/10 [00:00<00:00, 1981.34it/s]\n",
      "  0%|          | 0/2 [00:00<?, ?it/s]\n",
      "2it [00:00, 48.08it/s]\n",
      "\n",
      "2it [00:00, 43.30it/s]\n",
      "100%|██████████| 2/2 [00:00<00:00, 18.78it/s]\n",
      "100%|██████████| 10/10 [00:00<00:00, 2669.49it/s]\n",
      "  0%|          | 0/2 [00:00<?, ?it/s]\n",
      "2it [00:00, 55.90it/s]\n",
      "\n",
      "2it [00:00, 46.06it/s]\n",
      "100%|██████████| 2/2 [00:00<00:00, 20.78it/s]\n",
      "100%|██████████| 10/10 [00:00<00:00, 1782.84it/s]\n",
      "100%|██████████| 10/10 [00:00<00:00, 4051.68it/s]\n",
      "100%|██████████| 10/10 [00:00<00:00, 2567.99it/s]\n",
      "100%|██████████| 10/10 [00:00<00:00, 9425.40it/s]\n",
      "100%|██████████| 10/10 [00:00<00:00, 11098.98it/s]\n",
      "100%|██████████| 10/10 [00:00<00:00, 9861.99it/s]\n",
      "100%|██████████| 10/10 [00:00<00:00, 3843.40it/s]\n",
      "  0%|          | 0/2 [00:00<?, ?it/s]\n",
      "2it [00:00, 44.68it/s]\n",
      "\n",
      "2it [00:00, 49.39it/s]\n",
      "100%|██████████| 2/2 [00:00<00:00, 19.93it/s]\n",
      "100%|██████████| 10/10 [00:00<00:00, 4032.21it/s]\n",
      "  0%|          | 0/2 [00:00<?, ?it/s]\n",
      "2it [00:00, 54.95it/s]\n",
      "\n",
      "2it [00:00, 50.55it/s]\n",
      "100%|██████████| 2/2 [00:00<00:00, 21.97it/s]\n",
      "100%|██████████| 10/10 [00:00<00:00, 3499.04it/s]\n",
      "  0%|          | 0/2 [00:00<?, ?it/s]\n",
      "2it [00:00, 56.69it/s]\n",
      "\n",
      "2it [00:00, 59.09it/s]\n",
      "100%|██████████| 2/2 [00:00<00:00, 24.49it/s]\n",
      "100%|██████████| 10/10 [00:00<00:00, 4273.36it/s]\n",
      "100%|██████████| 10/10 [00:00<00:00, 3726.95it/s]\n",
      "100%|██████████| 10/10 [00:00<00:00, 4237.10it/s]\n",
      "100%|██████████| 10/10 [00:00<00:00, 10672.53it/s]\n",
      "100%|██████████| 10/10 [00:00<00:00, 8190.40it/s]\n",
      "100%|██████████| 10/10 [00:00<00:00, 13870.05it/s]\n",
      "100%|██████████| 10/10 [00:00<00:00, 3325.65it/s]\n",
      "  0%|          | 0/2 [00:00<?, ?it/s]\n",
      "2it [00:00, 50.55it/s]\n",
      "\n",
      "2it [00:00, 59.75it/s]\n",
      "100%|██████████| 2/2 [00:00<00:00, 23.31it/s]\n",
      "100%|██████████| 10/10 [00:00<00:00, 3267.10it/s]\n",
      "  0%|          | 0/2 [00:00<?, ?it/s]\n",
      "2it [00:00, 41.88it/s]\n",
      "\n",
      "2it [00:00, 60.54it/s]\n",
      "100%|██████████| 2/2 [00:00<00:00, 20.37it/s]\n",
      "100%|██████████| 10/10 [00:00<00:00, 3840.23it/s]\n",
      "  0%|          | 0/2 [00:00<?, ?it/s]\n",
      "2it [00:00, 48.31it/s]\n",
      "\n",
      "2it [00:00, 56.77it/s]\n",
      "100%|██████████| 2/2 [00:00<00:00, 23.22it/s]\n",
      "100%|██████████| 10/10 [00:00<00:00, 2516.53it/s]\n",
      "100%|██████████| 10/10 [00:00<00:00, 3805.74it/s]\n",
      "100%|██████████| 10/10 [00:00<00:00, 4473.92it/s]\n",
      "100%|██████████| 10/10 [00:00<00:00, 13123.60it/s]\n",
      "100%|██████████| 10/10 [00:00<00:00, 4836.05it/s]\n",
      "100%|██████████| 10/10 [00:00<00:00, 6648.13it/s]\n",
      "100%|██████████| 10/10 [00:00<00:00, 2821.60it/s]\n",
      "  0%|          | 0/2 [00:00<?, ?it/s]\n",
      "2it [00:00, 59.47it/s]\n",
      "\n",
      "2it [00:00, 70.85it/s]\n",
      "100%|██████████| 2/2 [00:00<00:00, 26.15it/s]\n",
      "100%|██████████| 10/10 [00:00<00:00, 4535.36it/s]\n",
      "  0%|          | 0/2 [00:00<?, ?it/s]\n",
      "2it [00:00, 56.82it/s]\n",
      "\n",
      "2it [00:00, 71.27it/s]\n",
      "100%|██████████| 2/2 [00:00<00:00, 25.95it/s]\n",
      "100%|██████████| 10/10 [00:00<00:00, 4589.96it/s]\n",
      "  0%|          | 0/2 [00:00<?, ?it/s]\n",
      "2it [00:00, 58.40it/s]\n",
      "\n",
      "2it [00:00, 60.64it/s]\n",
      "100%|██████████| 2/2 [00:00<00:00, 26.02it/s]\n",
      "100%|██████████| 10/10 [00:00<00:00, 4170.53it/s]\n",
      "100%|██████████| 10/10 [00:00<00:00, 3150.77it/s]\n",
      "100%|██████████| 10/10 [00:00<00:00, 4426.71it/s]\n",
      "100%|██████████| 10/10 [00:00<00:00, 14141.28it/s]\n",
      "100%|██████████| 10/10 [00:00<00:00, 13547.49it/s]\n",
      "100%|██████████| 10/10 [00:00<00:00, 13156.54it/s]\n",
      "100%|██████████| 10/10 [00:00<00:00, 4567.96it/s]\n",
      "  0%|          | 0/2 [00:00<?, ?it/s]\n",
      "2it [00:00, 59.85it/s]\n",
      "\n",
      "2it [00:00, 73.67it/s]\n",
      "100%|██████████| 2/2 [00:00<00:00, 27.65it/s]\n",
      "100%|██████████| 10/10 [00:00<00:00, 2224.86it/s]\n",
      "  0%|          | 0/2 [00:00<?, ?it/s]\n",
      "2it [00:00, 61.92it/s]\n",
      "\n",
      "2it [00:00, 58.84it/s]\n",
      "100%|██████████| 2/2 [00:00<00:00, 26.14it/s]\n",
      "100%|██████████| 10/10 [00:00<00:00, 2570.04it/s]\n",
      "  0%|          | 0/2 [00:00<?, ?it/s]\n",
      "2it [00:00, 55.78it/s]\n",
      "\n",
      "2it [00:00, 67.80it/s]\n",
      "100%|██████████| 2/2 [00:00<00:00, 25.23it/s]\n",
      "100%|██████████| 10/10 [00:00<00:00, 4432.79it/s]\n",
      "100%|██████████| 10/10 [00:00<00:00, 4533.40it/s]\n",
      "100%|██████████| 10/10 [00:00<00:00, 4512.92it/s]\n"
     ]
    },
    {
     "name": "stdout",
     "output_type": "stream",
     "text": [
      "Converting to PDF report ...\n",
      "​Deleting temporary files ...\n",
      "Completed to export pdf. (povmt_nrep=10.pdf)\n"
     ]
    }
   ],
   "source": [
    "report.export_report(f\"povmt_nrep={n_rep}.pdf\",\n",
    "    estimation_results_list=estimation_results_list,   # 「EstimationResultのリスト」のリスト\n",
    "    simulation_settings= simulation_settings,\n",
    "    seed=seed,  # 推定で使ったseed（オプション）\n",
    "    tolerance=Settings.get_atol()\n",
    ")"
   ]
  },
  {
   "cell_type": "code",
   "execution_count": null,
   "metadata": {},
   "outputs": [],
   "source": []
  }
 ],
 "metadata": {
  "hide_input": false,
  "kernelspec": {
   "display_name": "quara_venv",
   "language": "python",
   "name": "quara_venv"
  },
  "language_info": {
   "codemirror_mode": {
    "name": "ipython",
    "version": 3
   },
   "file_extension": ".py",
   "mimetype": "text/x-python",
   "name": "python",
   "nbconvert_exporter": "python",
   "pygments_lexer": "ipython3",
   "version": "3.8.0"
  },
  "toc": {
   "base_numbering": 1,
   "nav_menu": {},
   "number_sections": true,
   "sideBar": true,
   "skip_h1_title": false,
   "title_cell": "Table of Contents",
   "title_sidebar": "Contents",
   "toc_cell": false,
   "toc_position": {},
   "toc_section_display": true,
   "toc_window_display": false
  },
  "varInspector": {
   "cols": {
    "lenName": 16,
    "lenType": 16,
    "lenVar": 40
   },
   "kernels_config": {
    "python": {
     "delete_cmd_postfix": "",
     "delete_cmd_prefix": "del ",
     "library": "var_list.py",
     "varRefreshCmd": "print(var_dic_list())"
    },
    "r": {
     "delete_cmd_postfix": ") ",
     "delete_cmd_prefix": "rm(",
     "library": "var_list.r",
     "varRefreshCmd": "cat(var_dic_list()) "
    }
   },
   "types_to_exclude": [
    "module",
    "function",
    "builtin_function_or_method",
    "instance",
    "_Feature"
   ],
   "window_display": false
  }
 },
 "nbformat": 4,
 "nbformat_minor": 4
}
