{
 "cells": [
  {
   "cell_type": "code",
   "execution_count": 1,
   "metadata": {},
   "outputs": [],
   "source": [
    "# Povm"
   ]
  },
  {
   "cell_type": "code",
   "execution_count": 2,
   "metadata": {},
   "outputs": [],
   "source": [
    "import pickle\n",
    "import time\n",
    "from typing import List\n",
    "import datetime as dt\n",
    "from pathlib import Path\n",
    "\n",
    "import numpy as np\n",
    "import pandas as pd\n",
    "import plotly.graph_objects as go\n",
    "import plotly.express as px\n",
    "\n",
    "from tqdm import tqdm\n",
    "\n",
    "from quara.data_analysis import data_analysis, physicality_violation_check, report\n",
    "from quara.data_analysis.projected_gradient_descent_backtracking import ProjectedGradientDescentBacktracking, ProjectedGradientDescentBacktrackingOption\n",
    "from quara.data_analysis.weighted_probability_based_squared_error import WeightedProbabilityBasedSquaredError, WeightedProbabilityBasedSquaredErrorOption\n",
    "from quara.data_analysis.weighted_relative_entropy import WeightedRelativeEntropy, WeightedRelativeEntropyOption\n",
    "from quara.objects.composite_system import CompositeSystem\n",
    "from quara.objects.elemental_system import ElementalSystem\n",
    "from quara.objects.matrix_basis import get_normalized_pauli_basis\n",
    "from quara.objects.state import (\n",
    "    State,\n",
    "    get_x0_1q,\n",
    "    get_x1_1q,\n",
    "    get_y0_1q,\n",
    "    get_y1_1q,\n",
    "    get_z0_1q,\n",
    "    get_z1_1q,\n",
    ")\n",
    "from quara.objects.povm import (\n",
    "    Povm,get_x_measurement\n",
    ")\n",
    "from quara.objects.qoperation import QOperation\n",
    "from quara.protocol.qtomography.standard.standard_povmt import StandardPovmt\n",
    "from quara.protocol.qtomography.standard.linear_estimator import LinearEstimator\n",
    "from quara.protocol.qtomography.standard.loss_minimization_estimator import LossMinimizationEstimator\n",
    "from quara.protocol.qtomography.standard.projected_linear_estimator import (\n",
    "    ProjectedLinearEstimator,\n",
    ")\n",
    "\n",
    "from quara.data_analysis.simulation import SimulationSetting"
   ]
  },
  {
   "cell_type": "code",
   "execution_count": 3,
   "metadata": {},
   "outputs": [],
   "source": [
    "%load_ext autoreload\n",
    "%autoreload 2"
   ]
  },
  {
   "cell_type": "code",
   "execution_count": 4,
   "metadata": {},
   "outputs": [],
   "source": [
    "start_all = time.time()"
   ]
  },
  {
   "cell_type": "code",
   "execution_count": 5,
   "metadata": {},
   "outputs": [],
   "source": [
    "# setup system\n",
    "e_sys = ElementalSystem(0, get_normalized_pauli_basis())\n",
    "c_sys = CompositeSystem([e_sys])\n",
    "\n",
    "# |+><+|\n",
    "state_x0 = get_x0_1q(c_sys)\n",
    "# |+i><+i|\n",
    "state_y0 = get_y0_1q(c_sys)\n",
    "# |0><0|\n",
    "state_z0 = get_z0_1q(c_sys)\n",
    "# |1><1|\n",
    "state_z1 = get_z1_1q(c_sys)\n",
    "tester_objects = [state_x0, state_y0, state_z0, state_z1]"
   ]
  },
  {
   "cell_type": "code",
   "execution_count": 6,
   "metadata": {},
   "outputs": [
    {
     "output_type": "execute_result",
     "data": {
      "text/plain": [
       "(array([0.70710678, 0.5       , 0.        , 0.5       ]),\n",
       " array([ 0.70710678, -0.5       ,  0.        , -0.5       ]))"
      ]
     },
     "metadata": {},
     "execution_count": 6
    }
   ],
   "source": [
    "# Case 1: 軸上\n",
    "# a0, a1, a2, a3 = 1, 1, 0, 0\n",
    "# m1 = (1 / np.sqrt(2)) * np.array([a0, a1, a2, a3])\n",
    "# m2 = (1 / np.sqrt(2)) * np.array([2 - a0, -a1, -a2, -a3])\n",
    "\n",
    "# Case 2: 軸から一番離れた表面\n",
    "a0, a1, a2, a3 = 1, 1 / np.sqrt(2), 0, 1 / np.sqrt(2)\n",
    "m1 = (1 / np.sqrt(2)) * np.array([a0, a1, a2, a3])\n",
    "m2 = (1 / np.sqrt(2)) * np.array([2 - a0, -a1, -a2, -a3])\n",
    "\n",
    "# Case 3: 原点\n",
    "# a0, a1, a2, a3 = 1, 0, 0, 0\n",
    "# m1 = (1 / np.sqrt(2)) * np.array([a0, a1, a2, a3])\n",
    "# m2 = (1 / np.sqrt(2)) * np.array([2 - a0, -a1, -a2, -a3])\n",
    "\n",
    "true_object = Povm(vecs=[m1, m2], c_sys=c_sys)\n",
    "\n",
    "true_object.vecs"
   ]
  },
  {
   "cell_type": "code",
   "execution_count": 7,
   "metadata": {},
   "outputs": [
    {
     "output_type": "stream",
     "name": "stderr",
     "text": [
      " 10%|█         | 1/10 [00:00<00:00,  9.01it/s]Case 0: LinearEstimator(True)\n",
      "Parametorization: True\n",
      "Type of qtomography: StandardPovmt\n",
      "Estimator: LinearEstimator\n",
      "100%|██████████| 10/10 [00:01<00:00,  9.06it/s]\n",
      " 10%|█         | 1/10 [00:00<00:01,  6.02it/s]elapsed_time:0.01853336493174235[min]\n",
      "\n",
      "Case 1: LinearEstimator(False)\n",
      "Parametorization: False\n",
      "Type of qtomography: StandardPovmt\n",
      "Estimator: LinearEstimator\n",
      "100%|██████████| 10/10 [00:01<00:00,  9.00it/s]\n",
      " 10%|█         | 1/10 [00:00<00:01,  5.00it/s]elapsed_time:0.01861666440963745[min]\n",
      "\n",
      "Case 2: ProjectedLinearEstimator(True)\n",
      "Parametorization: True\n",
      "Type of qtomography: StandardPovmt\n",
      "Estimator: ProjectedLinearEstimator\n",
      "100%|██████████| 10/10 [00:01<00:00,  5.49it/s]\n",
      "  0%|          | 0/10 [00:00<?, ?it/s]elapsed_time:0.030500014623006184[min]\n",
      "\n",
      "Case 3: ProjectedLinearEstimator(False)\n",
      "Parametorization: False\n",
      "Type of qtomography: StandardPovmt\n",
      "Estimator: ProjectedLinearEstimator\n",
      "100%|██████████| 10/10 [00:02<00:00,  3.66it/s]\n",
      "  0%|          | 0/10 [00:00<?, ?it/s]elapsed_time:0.04556657075881958[min]\n",
      "\n",
      "Case 4: Maximum-Likelihood(True)\n",
      "Parametorization: True\n",
      "Type of qtomography: StandardPovmt\n",
      "Estimator: LossMinimizationEstimator\n",
      "100%|██████████| 10/10 [01:28<00:00,  8.83s/it]\n",
      "  0%|          | 0/10 [00:00<?, ?it/s]elapsed_time:1.4721000432968139[min]\n",
      "\n",
      "Case 5: Maximum-Likelihood(False)\n",
      "Parametorization: False\n",
      "Type of qtomography: StandardPovmt\n",
      "Estimator: LossMinimizationEstimator\n",
      "100%|██████████| 10/10 [01:02<00:00,  6.24s/it]\n",
      "  0%|          | 0/10 [00:00<?, ?it/s]elapsed_time:1.039883283774058[min]\n",
      "\n",
      "Case 6: Least Squares(True)\n",
      "Parametorization: True\n",
      "Type of qtomography: StandardPovmt\n",
      "Estimator: LossMinimizationEstimator\n",
      "100%|██████████| 10/10 [00:34<00:00,  3.43s/it]\n",
      "  0%|          | 0/10 [00:00<?, ?it/s]elapsed_time:0.5724666237831115[min]\n",
      "\n",
      "Case 7: Least Squares(False)\n",
      "Parametorization: False\n",
      "Type of qtomography: StandardPovmt\n",
      "Estimator: LossMinimizationEstimator\n",
      "100%|██████████| 10/10 [00:28<00:00,  2.81s/it]elapsed_time:0.468715246518453[min]\n",
      "\n",
      "\n"
     ]
    }
   ],
   "source": [
    "num_data = [100, 1000, 10000]\n",
    "n_rep = 10\n",
    "measurement_n = len(true_object.vecs)  # 測定値の数\n",
    "\n",
    "case_name_list = [\n",
    "    \"LinearEstimator(True)\",\n",
    "    \"LinearEstimator(False)\",\n",
    "    \"ProjectedLinearEstimator(True)\",\n",
    "    \"ProjectedLinearEstimator(False)\",\n",
    "    \"Maximum-Likelihood(True)\",\n",
    "    \"Maximum-Likelihood(False)\",\n",
    "    \"Least Squares(True)\",\n",
    "    \"Least Squares(False)\",\n",
    "]\n",
    "\n",
    "seed = 777\n",
    "qtomography_list = [\n",
    "    StandardPovmt(tester_objects, measurement_n, on_para_eq_constraint=True, seed=seed),\n",
    "    StandardPovmt(tester_objects, measurement_n, on_para_eq_constraint=False, seed=seed),\n",
    "    StandardPovmt(tester_objects, measurement_n, on_para_eq_constraint=True, seed=seed),\n",
    "    StandardPovmt(tester_objects, measurement_n, on_para_eq_constraint=False, seed=seed),\n",
    "    StandardPovmt(tester_objects, measurement_n, on_para_eq_constraint=True, eps_proj_physical=1e-13, seed=seed),\n",
    "    StandardPovmt(tester_objects, measurement_n, on_para_eq_constraint=False, eps_proj_physical=1e-13, seed=seed),\n",
    "    StandardPovmt(tester_objects, measurement_n, on_para_eq_constraint=True, eps_proj_physical=1e-13, seed=seed),\n",
    "    StandardPovmt(tester_objects, measurement_n, on_para_eq_constraint=False, eps_proj_physical=1e-13, seed=seed),\n",
    "]\n",
    "\n",
    "para_list = [\n",
    "    True,\n",
    "    False,\n",
    "    True,\n",
    "    False,\n",
    "    True,\n",
    "    False,\n",
    "    True,\n",
    "    False,\n",
    "]\n",
    "\n",
    "estimator_list = [\n",
    "    LinearEstimator(),\n",
    "    LinearEstimator(),\n",
    "    ProjectedLinearEstimator(),\n",
    "    ProjectedLinearEstimator(),\n",
    "    LossMinimizationEstimator(),\n",
    "    LossMinimizationEstimator(),\n",
    "    LossMinimizationEstimator(),\n",
    "    LossMinimizationEstimator(),\n",
    "]\n",
    "\n",
    "loss_list = [\n",
    "    None,\n",
    "    None,\n",
    "    None,\n",
    "    None,\n",
    "    WeightedRelativeEntropy(4),\n",
    "    WeightedRelativeEntropy(8),\n",
    "    WeightedProbabilityBasedSquaredError(4),\n",
    "    WeightedProbabilityBasedSquaredError(8),\n",
    "]\n",
    "\n",
    "loss_option_list = [\n",
    "    None,\n",
    "    None,\n",
    "    None,\n",
    "    None,\n",
    "    WeightedRelativeEntropyOption(),\n",
    "    WeightedRelativeEntropyOption(),\n",
    "    WeightedProbabilityBasedSquaredErrorOption(),\n",
    "    WeightedProbabilityBasedSquaredErrorOption(),\n",
    "]\n",
    "\n",
    "algo_list = [\n",
    "    None,\n",
    "    None,\n",
    "    None,\n",
    "    None,\n",
    "    ProjectedGradientDescentBacktracking(),\n",
    "    ProjectedGradientDescentBacktracking(),\n",
    "    ProjectedGradientDescentBacktracking(),\n",
    "    ProjectedGradientDescentBacktracking(),\n",
    "]\n",
    "\n",
    "algo_option_list = [\n",
    "    None,\n",
    "    None,\n",
    "    None,\n",
    "    None,\n",
    "    ProjectedGradientDescentBacktrackingOption(),\n",
    "    ProjectedGradientDescentBacktrackingOption(),\n",
    "    ProjectedGradientDescentBacktrackingOption(),\n",
    "    ProjectedGradientDescentBacktrackingOption(),\n",
    "]\n",
    "\n",
    "estimation_results_list = []\n",
    "elapsed_times = []\n",
    "simulation_settings = []\n",
    "\n",
    "for i, name in enumerate(case_name_list):\n",
    "    qtomography = qtomography_list[i]\n",
    "    estimator = estimator_list[i]\n",
    "    loss = loss_list[i]\n",
    "    loss_option = loss_option_list[i]\n",
    "    algo = algo_list[i]\n",
    "    algo_option = algo_option_list[i]\n",
    "    \n",
    "    start = time.time()\n",
    "    print(f\"Case {i}: {name}\")\n",
    "    print(f\"Parametorization: {para_list[i]}\")\n",
    "    print(f\"Type of qtomography: {qtomography.__class__.__name__}\")\n",
    "    print(f\"Estimator: {estimator.__class__.__name__}\")\n",
    "\n",
    "    estimation_results = data_analysis.estimate(\n",
    "       qtomography=qtomography,\n",
    "       true_object=true_object,\n",
    "       num_data=num_data,\n",
    "       estimator=estimator,\n",
    "       loss=loss,\n",
    "       loss_option=loss_option,\n",
    "       algo=algo,\n",
    "       algo_option=algo_option,\n",
    "       iteration=n_rep,\n",
    "    )\n",
    "    estimation_results_list.append(estimation_results)\n",
    "    \n",
    "    # stock settings of this simulation\n",
    "    simulation_setting = SimulationSetting(\n",
    "        name=name,\n",
    "        estimator=estimator,\n",
    "        loss=loss,\n",
    "        loss_option=loss_option,\n",
    "        algo=algo,\n",
    "        algo_option=algo_option,\n",
    "    )\n",
    "    simulation_settings.append(simulation_setting)\n",
    "\n",
    "    elapsed_time = time.time() - start\n",
    "    print(\"elapsed_time:{0}\".format(elapsed_time / 60) + \"[min]\\n\")\n",
    "    elapsed_times.append(elapsed_time)"
   ]
  },
  {
   "cell_type": "code",
   "execution_count": 8,
   "metadata": {},
   "outputs": [
    {
     "output_type": "stream",
     "name": "stdout",
     "text": [
      "  LinearEstimator(True)=[0.03203786692715928, 0.0028377041786821627, 0.00024584712280146745]\n  LinearEstimator(False)=[0.020277866927159285, 0.0035415645042405457, 0.0003277628080438488]\n  ProjectedLinearEstimator(True)=[0.026550064138798422, 0.0021114438615901223, 0.0002675468409009211]\n  ProjectedLinearEstimator(False)=[0.01535863010678103, 0.0021758248129599765, 0.0002449240012118075]\n  Maximum-Likelihood(True)=[0.01877887382799106, 0.0012239607956772345, 0.000233965320715483]\n  Maximum-Likelihood(False)=[0.016422667046116113, 0.002881712135450174, 0.00021016488180236893]\n  Least Squares(True)=[0.01615483569034127, 0.0013013632180900504, 0.0001426711328080634]\n  Least Squares(False)=[0.015407658029423215, 0.0018347757489638606, 0.00021438116586380412]\n"
     ]
    },
    {
     "output_type": "display_data",
     "data": {
      "application/vnd.plotly.v1+json": {
       "config": {
        "plotlyServerURL": "https://plot.ly"
       },
       "data": [
        {
         "error_y": {
          "array": [
           0.005884465098437853,
           0.0006749473053994876,
           0.00004156204253225237
          ],
          "type": "data",
          "visible": true
         },
         "mode": "lines+markers",
         "name": "LinearEstimator(True)",
         "type": "scatter",
         "x": [
          100,
          1000,
          10000
         ],
         "y": [
          0.03203786692715928,
          0.0028377041786821627,
          0.00024584712280146745
         ]
        },
        {
         "error_y": {
          "array": [
           0.004985000245672749,
           0.0012236272422650497,
           0.00005980983953777214
          ],
          "type": "data",
          "visible": true
         },
         "mode": "lines+markers",
         "name": "LinearEstimator(False)",
         "type": "scatter",
         "x": [
          100,
          1000,
          10000
         ],
         "y": [
          0.020277866927159285,
          0.0035415645042405457,
          0.0003277628080438488
         ]
        },
        {
         "error_y": {
          "array": [
           0.01048310524672721,
           0.0008512420514766894,
           0.00009323296407561471
          ],
          "type": "data",
          "visible": true
         },
         "mode": "lines+markers",
         "name": "ProjectedLinearEstimator(True)",
         "type": "scatter",
         "x": [
          100,
          1000,
          10000
         ],
         "y": [
          0.026550064138798422,
          0.0021114438615901223,
          0.0002675468409009211
         ]
        },
        {
         "error_y": {
          "array": [
           0.003934235767358993,
           0.0009552632109365791,
           0.00011898142474933978
          ],
          "type": "data",
          "visible": true
         },
         "mode": "lines+markers",
         "name": "ProjectedLinearEstimator(False)",
         "type": "scatter",
         "x": [
          100,
          1000,
          10000
         ],
         "y": [
          0.01535863010678103,
          0.0021758248129599765,
          0.0002449240012118075
         ]
        },
        {
         "error_y": {
          "array": [
           0.004839234755827068,
           0.00027344333745056505,
           0.0000537203784580934
          ],
          "type": "data",
          "visible": true
         },
         "mode": "lines+markers",
         "name": "Maximum-Likelihood(True)",
         "type": "scatter",
         "x": [
          100,
          1000,
          10000
         ],
         "y": [
          0.01877887382799106,
          0.0012239607956772345,
          0.000233965320715483
         ]
        },
        {
         "error_y": {
          "array": [
           0.005765893747954476,
           0.0006343378561184129,
           0.00006886882420980729
          ],
          "type": "data",
          "visible": true
         },
         "mode": "lines+markers",
         "name": "Maximum-Likelihood(False)",
         "type": "scatter",
         "x": [
          100,
          1000,
          10000
         ],
         "y": [
          0.016422667046116113,
          0.002881712135450174,
          0.00021016488180236893
         ]
        },
        {
         "error_y": {
          "array": [
           0.004675147595647054,
           0.0004019832147932448,
           0.000043105021136470546
          ],
          "type": "data",
          "visible": true
         },
         "mode": "lines+markers",
         "name": "Least Squares(True)",
         "type": "scatter",
         "x": [
          100,
          1000,
          10000
         ],
         "y": [
          0.01615483569034127,
          0.0013013632180900504,
          0.0001426711328080634
         ]
        },
        {
         "error_y": {
          "array": [
           0.003676271115463301,
           0.0004768295925340726,
           0.00008872436352738734
          ],
          "type": "data",
          "visible": true
         },
         "mode": "lines+markers",
         "name": "Least Squares(False)",
         "type": "scatter",
         "x": [
          100,
          1000,
          10000
         ],
         "y": [
          0.015407658029423215,
          0.0018347757489638606,
          0.00021438116586380412
         ]
        }
       ],
       "layout": {
        "template": {
         "data": {
          "bar": [
           {
            "error_x": {
             "color": "#2a3f5f"
            },
            "error_y": {
             "color": "#2a3f5f"
            },
            "marker": {
             "line": {
              "color": "#E5ECF6",
              "width": 0.5
             }
            },
            "type": "bar"
           }
          ],
          "barpolar": [
           {
            "marker": {
             "line": {
              "color": "#E5ECF6",
              "width": 0.5
             }
            },
            "type": "barpolar"
           }
          ],
          "carpet": [
           {
            "aaxis": {
             "endlinecolor": "#2a3f5f",
             "gridcolor": "white",
             "linecolor": "white",
             "minorgridcolor": "white",
             "startlinecolor": "#2a3f5f"
            },
            "baxis": {
             "endlinecolor": "#2a3f5f",
             "gridcolor": "white",
             "linecolor": "white",
             "minorgridcolor": "white",
             "startlinecolor": "#2a3f5f"
            },
            "type": "carpet"
           }
          ],
          "choropleth": [
           {
            "colorbar": {
             "outlinewidth": 0,
             "ticks": ""
            },
            "type": "choropleth"
           }
          ],
          "contour": [
           {
            "colorbar": {
             "outlinewidth": 0,
             "ticks": ""
            },
            "colorscale": [
             [
              0,
              "#0d0887"
             ],
             [
              0.1111111111111111,
              "#46039f"
             ],
             [
              0.2222222222222222,
              "#7201a8"
             ],
             [
              0.3333333333333333,
              "#9c179e"
             ],
             [
              0.4444444444444444,
              "#bd3786"
             ],
             [
              0.5555555555555556,
              "#d8576b"
             ],
             [
              0.6666666666666666,
              "#ed7953"
             ],
             [
              0.7777777777777778,
              "#fb9f3a"
             ],
             [
              0.8888888888888888,
              "#fdca26"
             ],
             [
              1,
              "#f0f921"
             ]
            ],
            "type": "contour"
           }
          ],
          "contourcarpet": [
           {
            "colorbar": {
             "outlinewidth": 0,
             "ticks": ""
            },
            "type": "contourcarpet"
           }
          ],
          "heatmap": [
           {
            "colorbar": {
             "outlinewidth": 0,
             "ticks": ""
            },
            "colorscale": [
             [
              0,
              "#0d0887"
             ],
             [
              0.1111111111111111,
              "#46039f"
             ],
             [
              0.2222222222222222,
              "#7201a8"
             ],
             [
              0.3333333333333333,
              "#9c179e"
             ],
             [
              0.4444444444444444,
              "#bd3786"
             ],
             [
              0.5555555555555556,
              "#d8576b"
             ],
             [
              0.6666666666666666,
              "#ed7953"
             ],
             [
              0.7777777777777778,
              "#fb9f3a"
             ],
             [
              0.8888888888888888,
              "#fdca26"
             ],
             [
              1,
              "#f0f921"
             ]
            ],
            "type": "heatmap"
           }
          ],
          "heatmapgl": [
           {
            "colorbar": {
             "outlinewidth": 0,
             "ticks": ""
            },
            "colorscale": [
             [
              0,
              "#0d0887"
             ],
             [
              0.1111111111111111,
              "#46039f"
             ],
             [
              0.2222222222222222,
              "#7201a8"
             ],
             [
              0.3333333333333333,
              "#9c179e"
             ],
             [
              0.4444444444444444,
              "#bd3786"
             ],
             [
              0.5555555555555556,
              "#d8576b"
             ],
             [
              0.6666666666666666,
              "#ed7953"
             ],
             [
              0.7777777777777778,
              "#fb9f3a"
             ],
             [
              0.8888888888888888,
              "#fdca26"
             ],
             [
              1,
              "#f0f921"
             ]
            ],
            "type": "heatmapgl"
           }
          ],
          "histogram": [
           {
            "marker": {
             "colorbar": {
              "outlinewidth": 0,
              "ticks": ""
             }
            },
            "type": "histogram"
           }
          ],
          "histogram2d": [
           {
            "colorbar": {
             "outlinewidth": 0,
             "ticks": ""
            },
            "colorscale": [
             [
              0,
              "#0d0887"
             ],
             [
              0.1111111111111111,
              "#46039f"
             ],
             [
              0.2222222222222222,
              "#7201a8"
             ],
             [
              0.3333333333333333,
              "#9c179e"
             ],
             [
              0.4444444444444444,
              "#bd3786"
             ],
             [
              0.5555555555555556,
              "#d8576b"
             ],
             [
              0.6666666666666666,
              "#ed7953"
             ],
             [
              0.7777777777777778,
              "#fb9f3a"
             ],
             [
              0.8888888888888888,
              "#fdca26"
             ],
             [
              1,
              "#f0f921"
             ]
            ],
            "type": "histogram2d"
           }
          ],
          "histogram2dcontour": [
           {
            "colorbar": {
             "outlinewidth": 0,
             "ticks": ""
            },
            "colorscale": [
             [
              0,
              "#0d0887"
             ],
             [
              0.1111111111111111,
              "#46039f"
             ],
             [
              0.2222222222222222,
              "#7201a8"
             ],
             [
              0.3333333333333333,
              "#9c179e"
             ],
             [
              0.4444444444444444,
              "#bd3786"
             ],
             [
              0.5555555555555556,
              "#d8576b"
             ],
             [
              0.6666666666666666,
              "#ed7953"
             ],
             [
              0.7777777777777778,
              "#fb9f3a"
             ],
             [
              0.8888888888888888,
              "#fdca26"
             ],
             [
              1,
              "#f0f921"
             ]
            ],
            "type": "histogram2dcontour"
           }
          ],
          "mesh3d": [
           {
            "colorbar": {
             "outlinewidth": 0,
             "ticks": ""
            },
            "type": "mesh3d"
           }
          ],
          "parcoords": [
           {
            "line": {
             "colorbar": {
              "outlinewidth": 0,
              "ticks": ""
             }
            },
            "type": "parcoords"
           }
          ],
          "pie": [
           {
            "automargin": true,
            "type": "pie"
           }
          ],
          "scatter": [
           {
            "marker": {
             "colorbar": {
              "outlinewidth": 0,
              "ticks": ""
             }
            },
            "type": "scatter"
           }
          ],
          "scatter3d": [
           {
            "line": {
             "colorbar": {
              "outlinewidth": 0,
              "ticks": ""
             }
            },
            "marker": {
             "colorbar": {
              "outlinewidth": 0,
              "ticks": ""
             }
            },
            "type": "scatter3d"
           }
          ],
          "scattercarpet": [
           {
            "marker": {
             "colorbar": {
              "outlinewidth": 0,
              "ticks": ""
             }
            },
            "type": "scattercarpet"
           }
          ],
          "scattergeo": [
           {
            "marker": {
             "colorbar": {
              "outlinewidth": 0,
              "ticks": ""
             }
            },
            "type": "scattergeo"
           }
          ],
          "scattergl": [
           {
            "marker": {
             "colorbar": {
              "outlinewidth": 0,
              "ticks": ""
             }
            },
            "type": "scattergl"
           }
          ],
          "scattermapbox": [
           {
            "marker": {
             "colorbar": {
              "outlinewidth": 0,
              "ticks": ""
             }
            },
            "type": "scattermapbox"
           }
          ],
          "scatterpolar": [
           {
            "marker": {
             "colorbar": {
              "outlinewidth": 0,
              "ticks": ""
             }
            },
            "type": "scatterpolar"
           }
          ],
          "scatterpolargl": [
           {
            "marker": {
             "colorbar": {
              "outlinewidth": 0,
              "ticks": ""
             }
            },
            "type": "scatterpolargl"
           }
          ],
          "scatterternary": [
           {
            "marker": {
             "colorbar": {
              "outlinewidth": 0,
              "ticks": ""
             }
            },
            "type": "scatterternary"
           }
          ],
          "surface": [
           {
            "colorbar": {
             "outlinewidth": 0,
             "ticks": ""
            },
            "colorscale": [
             [
              0,
              "#0d0887"
             ],
             [
              0.1111111111111111,
              "#46039f"
             ],
             [
              0.2222222222222222,
              "#7201a8"
             ],
             [
              0.3333333333333333,
              "#9c179e"
             ],
             [
              0.4444444444444444,
              "#bd3786"
             ],
             [
              0.5555555555555556,
              "#d8576b"
             ],
             [
              0.6666666666666666,
              "#ed7953"
             ],
             [
              0.7777777777777778,
              "#fb9f3a"
             ],
             [
              0.8888888888888888,
              "#fdca26"
             ],
             [
              1,
              "#f0f921"
             ]
            ],
            "type": "surface"
           }
          ],
          "table": [
           {
            "cells": {
             "fill": {
              "color": "#EBF0F8"
             },
             "line": {
              "color": "white"
             }
            },
            "header": {
             "fill": {
              "color": "#C8D4E3"
             },
             "line": {
              "color": "white"
             }
            },
            "type": "table"
           }
          ]
         },
         "layout": {
          "annotationdefaults": {
           "arrowcolor": "#2a3f5f",
           "arrowhead": 0,
           "arrowwidth": 1
          },
          "autotypenumbers": "strict",
          "coloraxis": {
           "colorbar": {
            "outlinewidth": 0,
            "ticks": ""
           }
          },
          "colorscale": {
           "diverging": [
            [
             0,
             "#8e0152"
            ],
            [
             0.1,
             "#c51b7d"
            ],
            [
             0.2,
             "#de77ae"
            ],
            [
             0.3,
             "#f1b6da"
            ],
            [
             0.4,
             "#fde0ef"
            ],
            [
             0.5,
             "#f7f7f7"
            ],
            [
             0.6,
             "#e6f5d0"
            ],
            [
             0.7,
             "#b8e186"
            ],
            [
             0.8,
             "#7fbc41"
            ],
            [
             0.9,
             "#4d9221"
            ],
            [
             1,
             "#276419"
            ]
           ],
           "sequential": [
            [
             0,
             "#0d0887"
            ],
            [
             0.1111111111111111,
             "#46039f"
            ],
            [
             0.2222222222222222,
             "#7201a8"
            ],
            [
             0.3333333333333333,
             "#9c179e"
            ],
            [
             0.4444444444444444,
             "#bd3786"
            ],
            [
             0.5555555555555556,
             "#d8576b"
            ],
            [
             0.6666666666666666,
             "#ed7953"
            ],
            [
             0.7777777777777778,
             "#fb9f3a"
            ],
            [
             0.8888888888888888,
             "#fdca26"
            ],
            [
             1,
             "#f0f921"
            ]
           ],
           "sequentialminus": [
            [
             0,
             "#0d0887"
            ],
            [
             0.1111111111111111,
             "#46039f"
            ],
            [
             0.2222222222222222,
             "#7201a8"
            ],
            [
             0.3333333333333333,
             "#9c179e"
            ],
            [
             0.4444444444444444,
             "#bd3786"
            ],
            [
             0.5555555555555556,
             "#d8576b"
            ],
            [
             0.6666666666666666,
             "#ed7953"
            ],
            [
             0.7777777777777778,
             "#fb9f3a"
            ],
            [
             0.8888888888888888,
             "#fdca26"
            ],
            [
             1,
             "#f0f921"
            ]
           ]
          },
          "colorway": [
           "#636efa",
           "#EF553B",
           "#00cc96",
           "#ab63fa",
           "#FFA15A",
           "#19d3f3",
           "#FF6692",
           "#B6E880",
           "#FF97FF",
           "#FECB52"
          ],
          "font": {
           "color": "#2a3f5f"
          },
          "geo": {
           "bgcolor": "white",
           "lakecolor": "white",
           "landcolor": "#E5ECF6",
           "showlakes": true,
           "showland": true,
           "subunitcolor": "white"
          },
          "hoverlabel": {
           "align": "left"
          },
          "hovermode": "closest",
          "mapbox": {
           "style": "light"
          },
          "paper_bgcolor": "white",
          "plot_bgcolor": "#E5ECF6",
          "polar": {
           "angularaxis": {
            "gridcolor": "white",
            "linecolor": "white",
            "ticks": ""
           },
           "bgcolor": "#E5ECF6",
           "radialaxis": {
            "gridcolor": "white",
            "linecolor": "white",
            "ticks": ""
           }
          },
          "scene": {
           "xaxis": {
            "backgroundcolor": "#E5ECF6",
            "gridcolor": "white",
            "gridwidth": 2,
            "linecolor": "white",
            "showbackground": true,
            "ticks": "",
            "zerolinecolor": "white"
           },
           "yaxis": {
            "backgroundcolor": "#E5ECF6",
            "gridcolor": "white",
            "gridwidth": 2,
            "linecolor": "white",
            "showbackground": true,
            "ticks": "",
            "zerolinecolor": "white"
           },
           "zaxis": {
            "backgroundcolor": "#E5ECF6",
            "gridcolor": "white",
            "gridwidth": 2,
            "linecolor": "white",
            "showbackground": true,
            "ticks": "",
            "zerolinecolor": "white"
           }
          },
          "shapedefaults": {
           "line": {
            "color": "#2a3f5f"
           }
          },
          "ternary": {
           "aaxis": {
            "gridcolor": "white",
            "linecolor": "white",
            "ticks": ""
           },
           "baxis": {
            "gridcolor": "white",
            "linecolor": "white",
            "ticks": ""
           },
           "bgcolor": "#E5ECF6",
           "caxis": {
            "gridcolor": "white",
            "linecolor": "white",
            "ticks": ""
           }
          },
          "title": {
           "x": 0.05
          },
          "xaxis": {
           "automargin": true,
           "gridcolor": "white",
           "linecolor": "white",
           "ticks": "",
           "title": {
            "standoff": 15
           },
           "zerolinecolor": "white",
           "zerolinewidth": 2
          },
          "yaxis": {
           "automargin": true,
           "gridcolor": "white",
           "linecolor": "white",
           "ticks": "",
           "title": {
            "standoff": 15
           },
           "zerolinecolor": "white",
           "zerolinewidth": 2
          }
         }
        },
        "title": {
         "text": "Mean squared error"
        },
        "xaxis": {
         "title": {
          "text": "Number of data"
         },
         "type": "log"
        },
        "yaxis": {
         "title": {
          "text": "Mean squared error of estimates and true"
         },
         "type": "log"
        }
       }
      }
     },
     "metadata": {}
    }
   ],
   "source": [
    "data_analysis.make_mses_graph_estimation_results(\n",
    "    estimation_results_list,\n",
    "    case_name_list,\n",
    "    true_object,\n",
    "    estimator_list=estimator_list,\n",
    ")"
   ]
  },
  {
   "cell_type": "code",
   "execution_count": 9,
   "metadata": {
    "tags": [
     "outputPrepend"
    ]
   },
   "outputs": [
    {
     "output_type": "stream",
     "name": "stderr",
     "text": [
      "imization_estimator.LossMinimizationEstimationResult object at 0x00000235468ADE48>, <quara.protocol.qtomography.standard.loss_minimization_estimator.LossMinimizationEstimationResult object at 0x00000235468DD6A0>, <quara.protocol.qtomography.standard.loss_minimization_estimator.LossMinimizationEstimationResult object at 0x00000235468DD748>, <quara.protocol.qtomography.standard.loss_minimization_estimator.LossMinimizationEstimationResult object at 0x00000235468DD860>, <quara.protocol.qtomography.standard.loss_minimization_estimator.LossMinimizationEstimationResult object at 0x00000235468DD438>, <quara.protocol.qtomography.standard.loss_minimization_estimator.LossMinimizationEstimationResult object at 0x00000235468DDAC8>, <quara.protocol.qtomography.standard.loss_minimization_estimator.LossMinimizationEstimationResult object at 0x00000235468DD898>, <quara.protocol.qtomography.standard.loss_minimization_estimator.LossMinimizationEstimationResult object at 0x00000235468DD908>, <quara.protocol.qtomography.standard.loss_minimization_estimator.LossMinimizationEstimationResult object at 0x00000235468DDBE0>, <quara.protocol.qtomography.standard.loss_minimization_estimator.LossMinimizationEstimationResult object at 0x00000235468DDBA8>]], 'simulation_settings': [<quara.data_analysis.simulation.SimulationSetting object at 0x00000235468885F8>, <quara.data_analysis.simulation.SimulationSetting object at 0x000002354689F908>, <quara.data_analysis.simulation.SimulationSetting object at 0x0000023546867A90>, <quara.data_analysis.simulation.SimulationSetting object at 0x00000235468A8C18>, <quara.data_analysis.simulation.SimulationSetting object at 0x00000235468A8630>, <quara.data_analysis.simulation.SimulationSetting object at 0x00000235468AE4E0>, <quara.data_analysis.simulation.SimulationSetting object at 0x00000235468ADA90>, <quara.data_analysis.simulation.SimulationSetting object at 0x00000235468DDF60>], 'true_object': <quara.objects.povm.Povm object at 0x0000023546847048>}\n",
      "  LinearEstimator(True)=[0.03203786692715928, 0.0028377041786821627, 0.00024584712280146745]\n",
      "  ProjectedLinearEstimator(True)=[0.026550064138798422, 0.0021114438615901223, 0.0002675468409009211]\n",
      "  Maximum-Likelihood(True)=[0.01877887382799106, 0.0012239607956772345, 0.000233965320715483]\n",
      "  Least Squares(True)=[0.01615483569034127, 0.0013013632180900504, 0.0001426711328080634]\n",
      "  LinearEstimator(False)=[0.020277866927159285, 0.0035415645042405457, 0.0003277628080438488]\n",
      "  ProjectedLinearEstimator(False)=[0.01535863010678103, 0.0021758248129599765, 0.0002449240012118075]\n",
      "  Maximum-Likelihood(False)=[0.016422667046116113, 0.002881712135450174, 0.00021016488180236893]\n",
      "  Least Squares(False)=[0.015407658029423215, 0.0018347757489638606, 0.00021438116586380412]\n",
      "100%|██████████| 10/10 [00:00<00:00, 10022.23it/s]{'make_graphs_func': <function make_mses_graphs_para at 0x0000023545F04AE8>, 'mse_type': 'para', 'estimation_results_list': [[<quara.protocol.qtomography.standard.linear_estimator.LinearEstimationResult object at 0x00000235468884E0>, <quara.protocol.qtomography.standard.linear_estimator.LinearEstimationResult object at 0x0000023546888518>, <quara.protocol.qtomography.standard.linear_estimator.LinearEstimationResult object at 0x0000023546888710>, <quara.protocol.qtomography.standard.linear_estimator.LinearEstimationResult object at 0x00000235468887F0>, <quara.protocol.qtomography.standard.linear_estimator.LinearEstimationResult object at 0x00000235468888D0>, <quara.protocol.qtomography.standard.linear_estimator.LinearEstimationResult object at 0x00000235468889B0>, <quara.protocol.qtomography.standard.linear_estimator.LinearEstimationResult object at 0x0000023546888438>, <quara.protocol.qtomography.standard.linear_estimator.LinearEstimationResult object at 0x0000023546888B70>, <quara.protocol.qtomography.standard.linear_estimator.LinearEstimationResult object at 0x0000023546888470>, <quara.protocol.qtomography.standard.linear_estimator.LinearEstimationResult object at 0x0000023546888D30>], [<quara.protocol.qtomography.standard.linear_estimator.LinearEstimationResult object at 0x0000023546888A90>, <quara.protocol.qtomography.standard.linear_estimator.LinearEstimationResult object at 0x000002354689F128>, <quara.protocol.qtomography.standard.linear_estimator.LinearEstimationResult object at 0x000002354689F2E8>, <quara.protocol.qtomography.standard.linear_estimator.LinearEstimationResult object at 0x000002354689F0F0>, <quara.protocol.qtomography.standard.linear_estimator.LinearEstimationResult object at 0x000002354689F4A8>, <quara.protocol.qtomography.standard.linear_estimator.LinearEstimationResult object at 0x000002354689F588>, <quara.protocol.qtomography.standard.linear_estimator.LinearEstimationResult object at 0x000002354689F668>, <quara.protocol.qtomography.standard.linear_estimator.LinearEstimationResult object at 0x000002354689F748>, <quara.protocol.qtomography.standard.linear_estimator.LinearEstimationResult object at 0x000002354689F828>, <quara.protocol.qtomography.standard.linear_estimator.LinearEstimationResult object at 0x000002354689F3C8>], [<quara.protocol.qtomography.standard.projected_linear_estimator.ProjectedLinearEstimationResult object at 0x000002354689FC18>, <quara.protocol.qtomography.standard.projected_linear_estimator.ProjectedLinearEstimationResult object at 0x000002354689FDD8>, <quara.protocol.qtomography.standard.projected_linear_estimator.ProjectedLinearEstimationResult object at 0x00000235468ADFD0>, <quara.protocol.qtomography.standard.projected_linear_estimator.ProjectedLinearEstimationResult object at 0x0000023546888550>, <quara.protocol.qtomography.standard.projected_linear_estimator.ProjectedLinearEstimationResult object at 0x000002354689FCF8>, <quara.protocol.qtomography.standard.projected_linear_estimator.ProjectedLinearEstimationResult object at 0x000002354689FC50>, <quara.protocol.qtomography.standard.projected_linear_estimator.ProjectedLinearEstimationResult object at 0x000002354689FF28>, <quara.protocol.qtomography.standard.projected_linear_estimator.ProjectedLinearEstimationResult object at 0x0000023546888FD0>, <quara.protocol.qtomography.standard.projected_linear_estimator.ProjectedLinearEstimationResult object at 0x00000235468883C8>, <quara.protocol.qtomography.standard.projected_linear_estimator.ProjectedLinearEstimationResult object at 0x000002354689FE48>], [<quara.protocol.qtomography.standard.projected_linear_estimator.ProjectedLinearEstimationResult object at 0x00000235468AEFD0>, <quara.protocol.qtomography.standard.projected_linear_estimator.ProjectedLinearEstimationResult object at 0x00000235468A80B8>, <quara.protocol.qtomography.standard.projected_linear_estimator.ProjectedLinearEstimationResult object at 0x00000235468ADF60>, <quara.protocol.qtomography.standard.projected_linear_estimator.ProjectedLinearEstimationResult object at 0x00000235468A8470>, <quara.protocol.qtomography.standard.projected_linear_estimator.ProjectedLinearEstimationResult object at 0x00000235468A8780>, <quara.protocol.qtomography.standard.projected_linear_estimator.ProjectedLinearEstimationResult object at 0x00000235468AD908>, <quara.protocol.qtomography.standard.projected_linear_estimator.ProjectedLinearEstimationResult object at 0x00000235468ADF98>, <quara.protocol.qtomography.standard.projected_linear_estimator.ProjectedLinearEstimationResult object at 0x00000235468AE4A8>, <quara.protocol.qtomography.standard.projected_linear_estimator.ProjectedLinearEstimationResult object at 0x00000235468AEE48>, <quara.protocol.qtomography.standard.projected_linear_estimator.ProjectedLinearEstimationResult object at 0x00000235468AEAC8>], [<quara.protocol.qtomography.standard.loss_minimization_estimator.LossMinimizationEstimationResult object at 0x00000235468A8908>, <quara.protocol.qtomography.standard.loss_minimization_estimator.LossMinimizationEstimationResult object at 0x00000235468A8B38>, <quara.protocol.qtomography.standard.loss_minimization_estimator.LossMinimizationEstimationResult object at 0x00000235468A8EB8>, <quara.protocol.qtomography.standard.loss_minimization_estimator.LossMinimizationEstimationResult object at 0x00000235468A8DA0>, <quara.protocol.qtomography.standard.loss_minimization_estimator.LossMinimizationEstimationResult object at 0x00000235468A8BA8>, <quara.protocol.qtomography.standard.loss_minimization_estimator.LossMinimizationEstimationResult object at 0x00000235468A8E48>, <quara.protocol.qtomography.standard.loss_minimization_estimator.LossMinimizationEstimationResult object at 0x00000235468A87B8>, <quara.protocol.qtomography.standard.loss_minimization_estimator.LossMinimizationEstimationResult object at 0x00000235468A8D30>, <quara.protocol.qtomography.standard.loss_minimization_estimator.LossMinimizationEstimationResult object at 0x000002354689FEF0>, <quara.protocol.qtomography.standard.loss_minimization_estimator.LossMinimizationEstimationResult object at 0x00000235468A8B70>], [<quara.protocol.qtomography.standard.loss_minimization_estimator.LossMinimizationEstimationResult object at 0x00000235468A8A90>, <quara.protocol.qtomography.standard.loss_minimization_estimator.LossMinimizationEstimationResult object at 0x00000235468AED68>, <quara.protocol.qtomography.standard.loss_minimization_estimator.LossMinimizationEstimationResult object at 0x00000235468AE860>, <quara.protocol.qtomography.standard.loss_minimization_estimator.LossMinimizationEstimationResult object at 0x00000235468AE1D0>, <quara.protocol.qtomography.standard.loss_minimization_estimator.LossMinimizationEstimationResult object at 0x00000235468AEE80>, <quara.protocol.qtomography.standard.loss_minimization_estimator.LossMinimizationEstimationResult object at 0x00000235468AE550>, <quara.protocol.qtomography.standard.loss_minimization_estimator.LossMinimizationEstimationResult object at 0x00000235468AE828>, <quara.protocol.qtomography.standard.loss_minimization_estimator.LossMinimizationEstimationResult object at 0x00000235468AE240>, <quara.protocol.qtomography.standard.loss_minimization_estimator.LossMinimizationEstimationResult object at 0x00000235468AEDA0>, <quara.protocol.qtomography.standard.loss_minimization_estimator.LossMinimizationEstimationResult object at 0x00000235468AEA58>], [<quara.protocol.qtomography.standard.loss_minimization_estimator.LossMinimizationEstimationResult object at 0x00000235468AE390>, <quara.protocol.qtomography.standard.loss_minimization_estimator.LossMinimizationEstimationResult object at 0x00000235468AD3C8>, <quara.protocol.qtomography.standard.loss_minimization_estimator.LossMinimizationEstimationResult object at 0x00000235468AD780>, <quara.protocol.qtomography.standard.loss_minimization_estimator.LossMinimizationEstimationResult object at 0x00000235468ADD68>, <quara.protocol.qtomography.standard.loss_minimization_estimator.LossMinimizationEstimationResult object at 0x00000235468AD6A0>, <quara.protocol.qtomography.standard.loss_minimization_estimator.LossMinimizationEstimationResult object at 0x00000235468AD8D0>, <quara.protocol.qtomography.standard.loss_minimization_estimator.LossMinimizationEstimationResult object at 0x00000235468AD240>, <quara.protocol.qtomography.standard.loss_minimization_estimator.LossMinimizationEstimationResult object at 0x00000235468AE198>, <quara.protocol.qtomography.standard.loss_minimization_estimator.LossMinimizationEstimationResult object at 0x00000235468AE400>, <quara.protocol.qtomography.standard.loss_minimization_estimator.LossMinimizationEstimationResult object at 0x00000235468AD7B8>], [<quara.protocol.qtomography.standard.loss_minimization_estimator.LossMinimizationEstimationResult object at 0x00000235468ADE48>, <quara.protocol.qtomography.standard.loss_minimization_estimator.LossMinimizationEstimationResult object at 0x00000235468DD6A0>, <quara.protocol.qtomography.standard.loss_minimization_estimator.LossMinimizationEstimationResult object at 0x00000235468DD748>, <quara.protocol.qtomography.standard.loss_minimization_estimator.LossMinimizationEstimationResult object at 0x00000235468DD860>, <quara.protocol.qtomography.standard.loss_minimization_estimator.LossMinimizationEstimationResult object at 0x00000235468DD438>, <quara.protocol.qtomography.standard.loss_minimization_estimator.LossMinimizationEstimationResult object at 0x00000235468DDAC8>, <quara.protocol.qtomography.standard.loss_minimization_estimator.LossMinimizationEstimationResult object at 0x00000235468DD898>, <quara.protocol.qtomography.standard.loss_minimization_estimator.LossMinimizationEstimationResult object at 0x00000235468DD908>, <quara.protocol.qtomography.standard.loss_minimization_estimator.LossMinimizationEstimationResult object at 0x00000235468DDBE0>, <quara.protocol.qtomography.standard.loss_minimization_estimator.LossMinimizationEstimationResult object at 0x00000235468DDBA8>]], 'case_names': ['LinearEstimator(True)', 'LinearEstimator(False)', 'ProjectedLinearEstimator(True)', 'ProjectedLinearEstimator(False)', 'Maximum-Likelihood(True)', 'Maximum-Likelihood(False)', 'Least Squares(True)', 'Least Squares(False)'], 'true_object': <quara.objects.povm.Povm object at 0x0000023546847048>}\n",
      "​​Generating physicality violation test blocks ...\n",
      "\n",
      "100%|██████████| 10/10 [00:00<00:00, 9967.45it/s]\n",
      "100%|██████████| 10/10 [00:00<?, ?it/s]\n",
      "100%|██████████| 10/10 [00:00<00:00, 10005.50it/s]\n",
      "  0%|          | 0/2 [00:00<?, ?it/s]\n",
      "2it [00:00, 64.52it/s]\n",
      "\n",
      "2it [00:00, 68.97it/s]\n",
      "100%|██████████| 2/2 [00:00<00:00, 28.99it/s]\n",
      "100%|██████████| 10/10 [00:00<00:00, 3337.02it/s]\n",
      "  0%|          | 0/2 [00:00<?, ?it/s]\n",
      "2it [00:00, 60.61it/s]\n",
      "\n",
      "2it [00:00, 79.99it/s]\n",
      "100%|██████████| 2/2 [00:00<00:00, 27.78it/s]\n",
      "100%|██████████| 10/10 [00:00<00:00, 3330.93it/s]\n",
      "  0%|          | 0/2 [00:00<?, ?it/s]\n",
      "2it [00:00, 71.42it/s]\n",
      "\n",
      "2it [00:00, 66.67it/s]\n",
      "100%|██████████| 2/2 [00:00<00:00, 28.99it/s]\n",
      "100%|██████████| 10/10 [00:00<00:00, 9995.96it/s]\n",
      "100%|██████████| 10/10 [00:00<00:00, 3330.66it/s]\n",
      "100%|██████████| 10/10 [00:00<00:00, 4999.77it/s]\n",
      "100%|██████████| 10/10 [00:00<00:00, 9998.34it/s]\n",
      "100%|██████████| 10/10 [00:00<?, ?it/s]\n",
      "100%|██████████| 10/10 [00:00<?, ?it/s]\n",
      "100%|██████████| 10/10 [00:00<00:00, 9934.40it/s]\n",
      "  0%|          | 0/2 [00:00<?, ?it/s]\n",
      "2it [00:00, 74.08it/s]\n",
      "\n",
      "2it [00:00, 83.34it/s]\n",
      "100%|██████████| 2/2 [00:00<00:00, 33.34it/s]\n",
      "100%|██████████| 10/10 [00:00<00:00, 3335.43it/s]\n",
      "  0%|          | 0/2 [00:00<?, ?it/s]\n",
      "2it [00:00, 45.46it/s]\n",
      "\n",
      "2it [00:00, 57.14it/s]\n",
      "100%|██████████| 2/2 [00:00<00:00, 21.51it/s]\n",
      "100%|██████████| 10/10 [00:00<00:00, 5002.15it/s]\n",
      "  0%|          | 0/2 [00:00<?, ?it/s]\n",
      "2it [00:00, 52.63it/s]\n",
      "\n",
      "2it [00:00, 46.50it/s]\n",
      "100%|██████████| 2/2 [00:00<00:00, 20.83it/s]\n",
      "100%|██████████| 10/10 [00:00<00:00, 3330.66it/s]\n",
      "100%|██████████| 10/10 [00:00<00:00, 5005.14it/s]\n",
      "100%|██████████| 10/10 [00:00<00:00, 4996.19it/s]\n",
      "100%|██████████| 10/10 [00:00<00:00, 4995.00it/s]\n",
      "100%|██████████| 10/10 [00:00<00:00, 10007.88it/s]\n",
      "100%|██████████| 10/10 [00:00<00:00, 9991.20it/s]\n",
      "100%|██████████| 10/10 [00:00<00:00, 3336.23it/s]\n",
      "  0%|          | 0/2 [00:00<?, ?it/s]\n",
      "2it [00:00, 64.51it/s]\n",
      "\n",
      "2it [00:00, 58.82it/s]\n",
      "100%|██████████| 2/2 [00:00<00:00, 26.32it/s]\n",
      "100%|██████████| 10/10 [00:00<00:00, 3329.08it/s]\n",
      "  0%|          | 0/2 [00:00<?, ?it/s]\n",
      "2it [00:00, 54.05it/s]\n",
      "\n",
      "2it [00:00, 34.48it/s]\n",
      "100%|██████████| 2/2 [00:00<00:00, 17.86it/s]\n",
      "100%|██████████| 10/10 [00:00<00:00, 5003.34it/s]\n",
      "  0%|          | 0/2 [00:00<?, ?it/s]\n",
      "2it [00:00, 62.50it/s]\n",
      "\n",
      "2it [00:00, 42.55it/s]\n",
      "100%|██████████| 2/2 [00:00<00:00, 22.73it/s]\n",
      "100%|██████████| 10/10 [00:00<00:00, 3335.96it/s]\n",
      "100%|██████████| 10/10 [00:00<00:00, 3334.37it/s]\n",
      "100%|██████████| 10/10 [00:00<00:00, 3331.99it/s]\n",
      "100%|██████████| 10/10 [00:00<00:00, 9981.68it/s]\n",
      "100%|██████████| 10/10 [00:00<00:00, 5095.12it/s]\n",
      "100%|██████████| 10/10 [00:00<?, ?it/s]\n",
      "100%|██████████| 10/10 [00:00<00:00, 3331.72it/s]\n",
      "  0%|          | 0/2 [00:00<?, ?it/s]\n",
      "2it [00:00, 54.06it/s]\n",
      "\n",
      "2it [00:00, 80.00it/s]\n",
      "100%|██████████| 2/2 [00:00<00:00, 27.03it/s]\n",
      "100%|██████████| 10/10 [00:00<00:00, 10111.63it/s]\n",
      "  0%|          | 0/2 [00:00<?, ?it/s]\n",
      "2it [00:00, 80.00it/s]\n",
      "\n",
      "2it [00:00, 86.96it/s]\n",
      "100%|██████████| 2/2 [00:00<00:00, 36.36it/s]\n",
      "100%|██████████| 10/10 [00:00<00:00, 5006.33it/s]\n",
      "  0%|          | 0/2 [00:00<?, ?it/s]\n",
      "2it [00:00, 71.42it/s]\n",
      "\n",
      "2it [00:00, 79.99it/s]\n",
      "100%|██████████| 2/2 [00:00<00:00, 31.25it/s]\n",
      "100%|██████████| 10/10 [00:00<00:00, 3335.70it/s]\n",
      "100%|██████████| 10/10 [00:00<00:00, 4953.12it/s]\n",
      "100%|██████████| 10/10 [00:00<00:00, 3331.99it/s]\n",
      "100%|██████████| 10/10 [00:00<?, ?it/s]\n",
      "100%|██████████| 10/10 [00:00<00:00, 9962.72it/s]\n",
      "100%|██████████| 10/10 [00:00<00:00, 10012.66it/s]\n",
      "100%|██████████| 10/10 [00:00<00:00, 5004.54it/s]\n",
      "  0%|          | 0/2 [00:00<?, ?it/s]\n",
      "0it [00:00, ?it/s]\u001b[A\n",
      "2it [00:00, 15.62it/s]\n",
      " 50%|█████     | 1/2 [00:00<00:00,  7.52it/s]\n",
      "2it [00:00, 68.96it/s]\n",
      "100%|██████████| 2/2 [00:00<00:00, 11.56it/s]\n",
      "100%|██████████| 10/10 [00:00<00:00, 3334.64it/s]\n",
      "  0%|          | 0/2 [00:00<?, ?it/s]\n",
      "2it [00:00, 66.66it/s]\n",
      "\n",
      "2it [00:00, 64.51it/s]\n",
      "100%|██████████| 2/2 [00:00<00:00, 26.32it/s]\n",
      "100%|██████████| 10/10 [00:00<00:00, 5002.15it/s]\n",
      "  0%|          | 0/2 [00:00<?, ?it/s]\n",
      "2it [00:00, 64.51it/s]\n",
      "\n",
      "2it [00:00, 64.52it/s]\n",
      "100%|██████████| 2/2 [00:00<00:00, 28.17it/s]\n",
      "100%|██████████| 10/10 [00:00<00:00, 2501.67it/s]\n",
      "100%|██████████| 10/10 [00:00<00:00, 4926.36it/s]\n",
      "100%|██████████| 10/10 [00:00<00:00, 3300.26it/s]\n",
      "100%|██████████| 10/10 [00:00<00:00, 10340.99it/s]\n",
      "100%|██████████| 10/10 [00:00<00:00, 10010.27it/s]\n",
      "100%|██████████| 10/10 [00:00<?, ?it/s]\n",
      "100%|██████████| 10/10 [00:00<00:00, 3332.78it/s]\n",
      "  0%|          | 0/2 [00:00<?, ?it/s]\n",
      "2it [00:00, 68.97it/s]\n",
      "\n",
      "2it [00:00, 90.92it/s]\n",
      "100%|██████████| 2/2 [00:00<00:00, 33.90it/s]\n",
      "100%|██████████| 10/10 [00:00<00:00, 3339.95it/s]\n",
      "  0%|          | 0/2 [00:00<?, ?it/s]\n",
      "2it [00:00, 74.03it/s]\n",
      "\n",
      "2it [00:00, 74.08it/s]\n",
      "100%|██████████| 2/2 [00:00<00:00, 31.75it/s]\n",
      "100%|██████████| 10/10 [00:00<00:00, 3331.19it/s]\n",
      "  0%|          | 0/2 [00:00<?, ?it/s]\n",
      "2it [00:00, 68.97it/s]\n",
      "\n",
      "2it [00:00, 71.43it/s]\n",
      "100%|██████████| 2/2 [00:00<00:00, 30.30it/s]\n",
      "100%|██████████| 10/10 [00:00<00:00, 4999.17it/s]\n",
      "100%|██████████| 10/10 [00:00<00:00, 4999.77it/s]\n",
      "100%|██████████| 10/10 [00:00<00:00, 3332.52it/s]\n",
      "100%|██████████| 10/10 [00:00<00:00, 9988.82it/s]\n",
      "100%|██████████| 10/10 [00:00<00:00, 9998.34it/s]\n",
      "100%|██████████| 10/10 [00:00<00:00, 10000.72it/s]\n",
      "100%|██████████| 10/10 [00:00<00:00, 2478.46it/s]\n",
      "  0%|          | 0/2 [00:00<?, ?it/s]\n",
      "2it [00:00, 55.56it/s]\n",
      "\n",
      "2it [00:00, 50.03it/s]\n",
      "100%|██████████| 2/2 [00:00<00:00, 22.99it/s]\n",
      "100%|██████████| 10/10 [00:00<00:00, 5003.34it/s]\n",
      "  0%|          | 0/2 [00:00<?, ?it/s]\n",
      "2it [00:00, 79.96it/s]\n",
      "\n",
      "2it [00:00, 76.93it/s]\n",
      "100%|██████████| 2/2 [00:00<00:00, 33.33it/s]\n",
      "100%|██████████| 10/10 [00:00<00:00, 4987.87it/s]\n",
      "  0%|          | 0/2 [00:00<?, ?it/s]\n",
      "2it [00:00, 62.50it/s]\n",
      "\n",
      "2it [00:00, 68.97it/s]\n",
      "100%|██████████| 2/2 [00:00<00:00, 28.57it/s]\n",
      "100%|██████████| 10/10 [00:00<00:00, 3331.19it/s]\n",
      "100%|██████████| 10/10 [00:00<00:00, 5001.55it/s]\n",
      "100%|██████████| 10/10 [00:00<00:00, 5000.36it/s]\n",
      "100%|██████████| 10/10 [00:00<00:00, 4999.77it/s]\n",
      "100%|██████████| 10/10 [00:00<00:00, 9991.20it/s]\n",
      "100%|██████████| 10/10 [00:00<00:00, 9873.60it/s]\n",
      "100%|██████████| 10/10 [00:00<00:00, 3336.23it/s]\n",
      "  0%|          | 0/2 [00:00<?, ?it/s]\n",
      "2it [00:00, 42.55it/s]\n",
      "\n",
      "2it [00:00, 33.90it/s]\n",
      "100%|██████████| 2/2 [00:00<00:00, 14.71it/s]\n",
      "100%|██████████| 10/10 [00:00<00:00, 2499.29it/s]\n",
      "  0%|          | 0/2 [00:00<?, ?it/s]\n",
      "2it [00:00, 46.51it/s]\n",
      "\n",
      "2it [00:00, 36.36it/s]\n",
      "100%|██████████| 2/2 [00:00<00:00, 17.24it/s]\n",
      "100%|██████████| 10/10 [00:00<00:00, 3331.19it/s]\n",
      "  0%|          | 0/2 [00:00<?, ?it/s]\n",
      "2it [00:00, 33.90it/s]\n",
      "\n",
      "2it [00:00, 40.82it/s]\n",
      "100%|██████████| 2/2 [00:00<00:00, 14.18it/s]\n",
      "100%|██████████| 10/10 [00:00<00:00, 1666.26it/s]\n",
      "100%|██████████| 10/10 [00:00<00:00, 3334.37it/s]\n",
      "100%|██████████| 10/10 [00:00<00:00, 3331.72it/s]\n",
      "Converting to PDF report ...\n",
      "​Deleting temporary files ...\n",
      "Completed to export pdf. (povmt_nrep=10_軸上から一番離れた表面の少し内側.pdf)\n"
     ]
    }
   ],
   "source": [
    "report.export_report(\"povmt_nrep=10_軸上から一番離れた表面の少し内側.pdf\",\n",
    "    estimation_results_list=estimation_results_list,\n",
    "    simulation_settings=simulation_settings,\n",
    "    true_object=true_object,\n",
    "    tester_objects=tester_objects,\n",
    "    seed=seed,\n",
    "    computation_time=sum(elapsed_times)\n",
    ")"
   ]
  },
  {
   "cell_type": "code",
   "execution_count": null,
   "metadata": {},
   "outputs": [],
   "source": []
  }
 ],
 "metadata": {
  "hide_input": false,
  "kernelspec": {
   "display_name": "Python 3",
   "language": "python",
   "name": "python3"
  },
  "language_info": {
   "codemirror_mode": {
    "name": "ipython",
    "version": 3
   },
   "file_extension": ".py",
   "mimetype": "text/x-python",
   "name": "python",
   "nbconvert_exporter": "python",
   "pygments_lexer": "ipython3",
   "version": "3.6.8-final"
  },
  "toc": {
   "base_numbering": 1,
   "nav_menu": {},
   "number_sections": true,
   "sideBar": true,
   "skip_h1_title": false,
   "title_cell": "Table of Contents",
   "title_sidebar": "Contents",
   "toc_cell": false,
   "toc_position": {},
   "toc_section_display": true,
   "toc_window_display": false
  },
  "varInspector": {
   "cols": {
    "lenName": 16,
    "lenType": 16,
    "lenVar": 40
   },
   "kernels_config": {
    "python": {
     "delete_cmd_postfix": "",
     "delete_cmd_prefix": "del ",
     "library": "var_list.py",
     "varRefreshCmd": "print(var_dic_list())"
    },
    "r": {
     "delete_cmd_postfix": ") ",
     "delete_cmd_prefix": "rm(",
     "library": "var_list.r",
     "varRefreshCmd": "cat(var_dic_list()) "
    }
   },
   "types_to_exclude": [
    "module",
    "function",
    "builtin_function_or_method",
    "instance",
    "_Feature"
   ],
   "window_display": false
  }
 },
 "nbformat": 4,
 "nbformat_minor": 4
}