{
 "metadata": {
  "language_info": {
   "codemirror_mode": {
    "name": "ipython",
    "version": 3
   },
   "file_extension": ".py",
   "mimetype": "text/x-python",
   "name": "python",
   "nbconvert_exporter": "python",
   "pygments_lexer": "ipython3",
   "version": "3.9.4"
  },
  "orig_nbformat": 4,
  "kernelspec": {
   "name": "python3",
   "display_name": "Python 3.9.4 64-bit ('venv': venv)"
  },
  "interpreter": {
   "hash": "7df16140f85f61dcb3c657e5700bc439fcf5b8d0d77a26bb81ed3a9798e61f3d"
  }
 },
 "nbformat": 4,
 "nbformat_minor": 2,
 "cells": [
  {
   "cell_type": "markdown",
   "source": [
    "# Using Quara's standard tomography features from Qiskit"
   ],
   "metadata": {}
  },
  {
   "cell_type": "markdown",
   "source": [
    "Quara supports the wrappers for executing standard tomography from qiskit. Here, we demonstarate how to use them as several 1-qubit tomography."
   ],
   "metadata": {}
  },
  {
   "cell_type": "code",
   "execution_count": 30,
   "source": [
    "import numpy as np\r\n",
    "\r\n",
    "from quara.interface.qiskit.api import (\r\n",
    "    estimate_standard_qst_from_qiskit,\r\n",
    "    estimate_standard_povmt_from_qiskit,\r\n",
    "    estimate_standard_qpt_from_qiskit,\r\n",
    "    generate_empi_dists_from_qiskit_state,\r\n",
    "    generate_empi_dists_from_qiskit_povm,\r\n",
    "    generate_empi_dists_from_qiskit_gate,\r\n",
    ") \r\n",
    "\r\n",
    "from quara.objects.state_typical import (\r\n",
    "    generate_state_density_mat_from_name,\r\n",
    "    get_state_names_1qubit,\r\n",
    "    generate_state_from_name,\r\n",
    ")\r\n",
    "\r\n",
    "from qiskit.circuit.library.standard_gates import h"
   ],
   "outputs": [],
   "metadata": {}
  },
  {
   "cell_type": "markdown",
   "source": [
    "When executing the tomography in Qiskit, state and POVM of testers are defined as TomographyBasis. Here,we use following representation matrices from TomographyBasis(PauliBasis)."
   ],
   "metadata": {}
  },
  {
   "cell_type": "code",
   "execution_count": 2,
   "source": [
    "# State\r\n",
    "Xp = np.array([[0.5, 0.5], [0.5, 0.5]], dtype=complex)\r\n",
    "Xm = np.array([[0.5,-0.5],[-0.5,0.5]],dtype=complex)\r\n",
    "Yp = np.array([[0.5, -0.5j], [0.5j, 0.5]], dtype=complex)\r\n",
    "Ym = np.array([[0.5,0.5j],[-0.5j,0.5]],dtype=complex)\r\n",
    "Zp = np.array([[1, 0], [0, 0]], dtype=complex)\r\n",
    "Zm = np.array([[0, 0], [0, 1]], dtype=complex)\r\n",
    "a = generate_state_density_mat_from_name(\"a\")\r\n",
    "\r\n",
    "#POVM\r\n",
    "X = [Xp,Xm]\r\n",
    "Y = [Yp,Ym]\r\n",
    "Z = [Zp,Zm]"
   ],
   "outputs": [],
   "metadata": {}
  },
  {
   "cell_type": "markdown",
   "source": [
    "## Quantum State Tomography(1-qubit)\r\n",
    "We demonstarate 1-qubit QST using the tester from Qiskit. We need to define tester POVMs as a list when we perform Quantum State tomography using quara."
   ],
   "metadata": {}
  },
  {
   "cell_type": "code",
   "execution_count": 3,
   "source": [
    "#Testers\r\n",
    "tester_povms = [X,Y,Z]\r\n",
    "#True objects\r\n",
    "true_state = a\r\n",
    "print(true_state)"
   ],
   "outputs": [
    {
     "output_type": "stream",
     "name": "stdout",
     "text": [
      "[[0.5       +0.j         0.35355339-0.35355339j]\n",
      " [0.35355339+0.35355339j 0.5       +0.j        ]]\n"
     ]
    }
   ],
   "metadata": {}
  },
  {
   "cell_type": "markdown",
   "source": [
    "We will generate the empirical distribution from given true state object. If you have your own list of empirical distributions make sure that the type matches to `List[Tuple [int,np.ndarray]]`."
   ],
   "metadata": {}
  },
  {
   "cell_type": "code",
   "execution_count": 4,
   "source": [
    "# define system\r\n",
    "mode = \"qubit\"\r\n",
    "num = 1\r\n",
    "\r\n",
    "# define requirement for empirical distribution\r\n",
    "num_data = 1000\r\n",
    "seed = 7896\r\n",
    "\r\n",
    "# calculate empirical distribution\r\n",
    "empi_dists = generate_empi_dists_from_qiskit_state(mode_system=mode, num_system=num, true_state=true_state, tester_povms=tester_povms, num_sum=num_data, seed=seed, schedules=\"all\")\r\n",
    "for f in empi_dists:\r\n",
    "    print(f)"
   ],
   "outputs": [
    {
     "output_type": "stream",
     "name": "stdout",
     "text": [
      "(1000, array([0.864, 0.136]))\n",
      "(1000, array([0.844, 0.156]))\n",
      "(1000, array([0.49, 0.51]))\n"
     ]
    }
   ],
   "metadata": {}
  },
  {
   "cell_type": "markdown",
   "source": [
    "Now, we execute quantum state tomography using linear estimation. You can estimate the quantum state just by calling `estimate_standard_qst_from_qiskit()`. You can choose linear estimation by specifying `estimator_name=\"linear\"`.\r\n",
    "You have to specify the label of qiskit empi_dists."
   ],
   "metadata": {}
  },
  {
   "cell_type": "code",
   "execution_count": 9,
   "source": [
    "empi_dists_qiskit = [0.864, 0.136, 0.844, 0.156, 0.49,  0.51 ]\r\n",
    "estimate = estimate_standard_qst_from_qiskit(mode_system=mode,num_system=num,tester_povms=tester_povms,empi_dists=empi_dists_qiskit,shots=1000,label=[2,2,2],estimator_name=\"linear\", schedules=\"all\")\r\n",
    "print(estimate)"
   ],
   "outputs": [
    {
     "output_type": "stream",
     "name": "stdout",
     "text": [
      "[[0.49 +0.j    0.364-0.344j]\n",
      " [0.364+0.344j 0.51 +0.j   ]]\n"
     ]
    }
   ],
   "metadata": {}
  },
  {
   "cell_type": "markdown",
   "source": [
    "You can choose least squares estimation by specifying `estimator_name=\"least_squares\"`."
   ],
   "metadata": {}
  },
  {
   "cell_type": "code",
   "execution_count": 10,
   "source": [
    "estimate = estimate_standard_qst_from_qiskit(mode_system=mode,num_system=num,tester_povms=tester_povms,empi_dists=empi_dists_qiskit,shots=1000,label=[2,2,2],estimator_name=\"least_squares\", schedules=\"all\")\r\n",
    "print(estimate)"
   ],
   "outputs": [
    {
     "output_type": "stream",
     "name": "stdout",
     "text": [
      "[[0.49001861+0.j         0.36332341-0.34336059j]\n",
      " [0.36332341+0.34336059j 0.50998144+0.j        ]]\n"
     ]
    }
   ],
   "metadata": {}
  },
  {
   "cell_type": "markdown",
   "source": [
    "## Quantum POVM Tomography (1qubit)"
   ],
   "metadata": {}
  },
  {
   "cell_type": "markdown",
   "source": [
    "Here, we demonstarate 1-qubit POVMT using the tester from Qiskit. We need to define tester states as a list when we perform Quantum POVM tomography using quara."
   ],
   "metadata": {}
  },
  {
   "cell_type": "code",
   "execution_count": 15,
   "source": [
    "#Testers\r\n",
    "tester_states = [Xp,Yp,Zp,Zm]\r\n",
    "#True objects\r\n",
    "true_povm = X\r\n",
    "for i in true_povm:\r\n",
    "    print(i)"
   ],
   "outputs": [
    {
     "output_type": "stream",
     "name": "stdout",
     "text": [
      "[[0.5+0.j 0.5+0.j]\n",
      " [0.5+0.j 0.5+0.j]]\n",
      "[[ 0.5+0.j -0.5+0.j]\n",
      " [-0.5+0.j  0.5+0.j]]\n"
     ]
    }
   ],
   "metadata": {}
  },
  {
   "cell_type": "code",
   "execution_count": 14,
   "source": [
    "# define system\r\n",
    "mode = \"qubit\"\r\n",
    "num = 1\r\n",
    "\r\n",
    "# define requirement for empirical distribution\r\n",
    "num_data = 1000\r\n",
    "seed = 7896\r\n",
    "\r\n",
    "# calculate empirical distribution\r\n",
    "empi_dists = generate_empi_dists_from_qiskit_povm(mode_system=mode, num_system=num, true_povm=true_povm, tester_states=tester_states, num_sum=num_data, seed=seed, schedules=\"all\")\r\n",
    "for i in empi_dists:\r\n",
    "    print(i)"
   ],
   "outputs": [
    {
     "output_type": "stream",
     "name": "stdout",
     "text": [
      "(1000, array([1., 0.]))\n",
      "(1000, array([0.502, 0.498]))\n",
      "(1000, array([0.49, 0.51]))\n",
      "(1000, array([0.488, 0.512]))\n"
     ]
    }
   ],
   "metadata": {}
  },
  {
   "cell_type": "markdown",
   "source": [
    "Now, we execute quantum povm tomography using linear estimation. You can estimate the quantum povm just by calling `estimate_standard_povmt_from_qiskit()`. You can choose linear estimation by specifying `estimator_name=\"linear\"`.\r\n",
    "You have to specify num_outcomes, which is number of outcome values of the POVM that will be estimated."
   ],
   "metadata": {}
  },
  {
   "cell_type": "code",
   "execution_count": 28,
   "source": [
    "empi_dists_qiskit = [1. ,   0. , 0.502, 0.498, 0.49,  0.51,  0.488, 0.512]\r\n",
    "estimate = estimate_standard_povmt_from_qiskit(mode_system=mode,num_system=num,tester_states=tester_states,empi_dists=empi_dists_qiskit,shots=1000,label=[2,2,2,2],num_outcomes=2,estimator_name=\"linear\", schedules=\"all\")\r\n",
    "for i in estimate:\r\n",
    "    print(i)"
   ],
   "outputs": [
    {
     "output_type": "stream",
     "name": "stdout",
     "text": [
      "[[0.49 +0.j    0.511-0.013j]\n",
      " [0.511+0.013j 0.488+0.j   ]]\n",
      "[[ 0.51 +0.j    -0.511+0.013j]\n",
      " [-0.511-0.013j  0.512+0.j   ]]\n"
     ]
    }
   ],
   "metadata": {}
  },
  {
   "cell_type": "markdown",
   "source": [
    "You can choose least squares estimation by specifying `estimator_name=\"least_squares\"`."
   ],
   "metadata": {}
  },
  {
   "cell_type": "code",
   "execution_count": 29,
   "source": [
    "estimate = estimate_standard_povmt_from_qiskit(mode_system=mode,num_system=num,tester_states=tester_states,empi_dists=empi_dists_qiskit,shots=1000,label=[2,2,2,2],num_outcomes=2,estimator_name=\"least_squares\", schedules=\"all\")\r\n",
    "for i in estimate:\r\n",
    "    print(i)"
   ],
   "outputs": [
    {
     "output_type": "stream",
     "name": "stdout",
     "text": [
      "[[0.49735047+0.j         0.49632565-0.00556025j]\n",
      " [0.49632565+0.00556025j 0.4953651 +0.j        ]]\n",
      "[[ 0.50264953+0.j         -0.49632565+0.00556025j]\n",
      " [-0.49632565-0.00556025j  0.5046349 +0.j        ]]\n"
     ]
    }
   ],
   "metadata": {}
  },
  {
   "cell_type": "markdown",
   "source": [
    "## Quantum Process Tomography(1qubit)"
   ],
   "metadata": {}
  },
  {
   "cell_type": "markdown",
   "source": [
    "Here, we demonstarate 1-qubit QPT using the tester from Qiskit. We need to define tester states and POVMs as a list when we perform Quantum Process tomography using quara."
   ],
   "metadata": {}
  },
  {
   "cell_type": "code",
   "execution_count": 34,
   "source": [
    "#Testers\r\n",
    "tester_povms = [X,Y,Z]\r\n",
    "tester_states = [Xp,Yp,Zp,Zm]\r\n",
    "#True objects\r\n",
    "true_gate = h.HGate()\r\n",
    "true_gate.__array__()"
   ],
   "outputs": [
    {
     "output_type": "execute_result",
     "data": {
      "text/plain": [
       "array([[ 0.70710678,  0.70710678],\n",
       "       [ 0.70710678, -0.70710678]])"
      ]
     },
     "metadata": {},
     "execution_count": 34
    }
   ],
   "metadata": {}
  },
  {
   "cell_type": "code",
   "execution_count": 35,
   "source": [
    "# define system\r\n",
    "mode = \"qubit\"\r\n",
    "num = 1\r\n",
    "\r\n",
    "# define requirement for empirical distribution\r\n",
    "num_data = 1000\r\n",
    "seed = 7896\r\n",
    "\r\n",
    "# calculate empirical distribution\r\n",
    "empi_dists = generate_empi_dists_from_qiskit_gate(mode_system=mode, num_system=num, true_gate=true_gate, tester_states=tester_states,tester_povms=tester_povms, num_sum=num_data, seed=seed, schedules=\"all\")\r\n",
    "for i in empi_dists:\r\n",
    "    print(i)"
   ],
   "outputs": [
    {
     "output_type": "error",
     "ename": "TypeError",
     "evalue": "convert_gate_qiskit_to_quara() missing 1 required positional argument: 'dim'",
     "traceback": [
      "\u001b[1;31m---------------------------------------------------------------------------\u001b[0m",
      "\u001b[1;31mTypeError\u001b[0m                                 Traceback (most recent call last)",
      "\u001b[1;32m<ipython-input-35-e83103d0c146>\u001b[0m in \u001b[0;36m<module>\u001b[1;34m\u001b[0m\n\u001b[0;32m      8\u001b[0m \u001b[1;33m\u001b[0m\u001b[0m\n\u001b[0;32m      9\u001b[0m \u001b[1;31m# calculate empirical distribution\u001b[0m\u001b[1;33m\u001b[0m\u001b[1;33m\u001b[0m\u001b[1;33m\u001b[0m\u001b[0m\n\u001b[1;32m---> 10\u001b[1;33m \u001b[0mempi_dists\u001b[0m \u001b[1;33m=\u001b[0m \u001b[0mgenerate_empi_dists_from_qiskit_gate\u001b[0m\u001b[1;33m(\u001b[0m\u001b[0mmode_system\u001b[0m\u001b[1;33m=\u001b[0m\u001b[0mmode\u001b[0m\u001b[1;33m,\u001b[0m \u001b[0mnum_system\u001b[0m\u001b[1;33m=\u001b[0m\u001b[0mnum\u001b[0m\u001b[1;33m,\u001b[0m \u001b[0mtrue_gate\u001b[0m\u001b[1;33m=\u001b[0m\u001b[0mtrue_gate\u001b[0m\u001b[1;33m,\u001b[0m \u001b[0mtester_states\u001b[0m\u001b[1;33m=\u001b[0m\u001b[0mtester_states\u001b[0m\u001b[1;33m,\u001b[0m\u001b[0mtester_povms\u001b[0m\u001b[1;33m=\u001b[0m\u001b[0mtester_povms\u001b[0m\u001b[1;33m,\u001b[0m \u001b[0mnum_sum\u001b[0m\u001b[1;33m=\u001b[0m\u001b[0mnum_data\u001b[0m\u001b[1;33m,\u001b[0m \u001b[0mseed\u001b[0m\u001b[1;33m=\u001b[0m\u001b[0mseed\u001b[0m\u001b[1;33m,\u001b[0m \u001b[0mschedules\u001b[0m\u001b[1;33m=\u001b[0m\u001b[1;34m\"all\"\u001b[0m\u001b[1;33m)\u001b[0m\u001b[1;33m\u001b[0m\u001b[1;33m\u001b[0m\u001b[0m\n\u001b[0m\u001b[0;32m     11\u001b[0m \u001b[1;32mfor\u001b[0m \u001b[0mi\u001b[0m \u001b[1;32min\u001b[0m \u001b[0mempi_dists\u001b[0m\u001b[1;33m:\u001b[0m\u001b[1;33m\u001b[0m\u001b[1;33m\u001b[0m\u001b[0m\n\u001b[0;32m     12\u001b[0m     \u001b[0mprint\u001b[0m\u001b[1;33m(\u001b[0m\u001b[0mi\u001b[0m\u001b[1;33m)\u001b[0m\u001b[1;33m\u001b[0m\u001b[1;33m\u001b[0m\u001b[0m\n",
      "\u001b[1;32mc:\\users\\81902\\desktop\\work\\quara\\quara\\interface\\qiskit\\api.py\u001b[0m in \u001b[0;36mgenerate_empi_dists_from_qiskit_gate\u001b[1;34m(mode_system, num_system, true_gate, tester_states, tester_povms, num_sum, seed, schedules)\u001b[0m\n\u001b[0;32m    413\u001b[0m         \u001b[0mtester_states_quara\u001b[0m\u001b[1;33m.\u001b[0m\u001b[0mappend\u001b[0m\u001b[1;33m(\u001b[0m\u001b[0mconvert_state_qiskit_to_quara\u001b[0m\u001b[1;33m(\u001b[0m\u001b[0mqiskit_state\u001b[0m\u001b[1;33m,\u001b[0m \u001b[0mc_sys\u001b[0m\u001b[1;33m)\u001b[0m\u001b[1;33m)\u001b[0m\u001b[1;33m\u001b[0m\u001b[1;33m\u001b[0m\u001b[0m\n\u001b[0;32m    414\u001b[0m     \u001b[0mtester_povms_quara\u001b[0m \u001b[1;33m=\u001b[0m \u001b[1;33m[\u001b[0m\u001b[1;33m]\u001b[0m\u001b[1;33m\u001b[0m\u001b[1;33m\u001b[0m\u001b[0m\n\u001b[1;32m--> 415\u001b[1;33m     \u001b[1;32mfor\u001b[0m \u001b[0mqiskit_povm\u001b[0m \u001b[1;32min\u001b[0m \u001b[0mtester_povms\u001b[0m\u001b[1;33m:\u001b[0m\u001b[1;33m\u001b[0m\u001b[1;33m\u001b[0m\u001b[0m\n\u001b[0m\u001b[0;32m    416\u001b[0m         \u001b[0mtester_povms_quara\u001b[0m\u001b[1;33m.\u001b[0m\u001b[0mappend\u001b[0m\u001b[1;33m(\u001b[0m\u001b[0mconvert_povm_qiskit_to_quara\u001b[0m\u001b[1;33m(\u001b[0m\u001b[0mqiskit_povm\u001b[0m\u001b[1;33m,\u001b[0m \u001b[0mc_sys\u001b[0m\u001b[1;33m)\u001b[0m\u001b[1;33m)\u001b[0m\u001b[1;33m\u001b[0m\u001b[1;33m\u001b[0m\u001b[0m\n\u001b[0;32m    417\u001b[0m     \u001b[0mtrue_gate_quara\u001b[0m \u001b[1;33m=\u001b[0m \u001b[0mconvert_gate_qiskit_to_quara\u001b[0m\u001b[1;33m(\u001b[0m\u001b[0mtrue_gate\u001b[0m\u001b[1;33m,\u001b[0m \u001b[0mc_sys\u001b[0m\u001b[1;33m)\u001b[0m\u001b[1;33m\u001b[0m\u001b[1;33m\u001b[0m\u001b[0m\n",
      "\u001b[1;31mTypeError\u001b[0m: convert_gate_qiskit_to_quara() missing 1 required positional argument: 'dim'"
     ]
    }
   ],
   "metadata": {}
  },
  {
   "cell_type": "code",
   "execution_count": null,
   "source": [],
   "outputs": [],
   "metadata": {}
  }
 ]
}