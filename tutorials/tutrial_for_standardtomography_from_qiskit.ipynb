{
 "metadata": {
  "language_info": {
   "codemirror_mode": {
    "name": "ipython",
    "version": 3
   },
   "file_extension": ".py",
   "mimetype": "text/x-python",
   "name": "python",
   "nbconvert_exporter": "python",
   "pygments_lexer": "ipython3",
   "version": "3.9.4"
  },
  "orig_nbformat": 4,
  "kernelspec": {
   "name": "python3",
   "display_name": "Python 3.9.4 64-bit ('venv': venv)"
  },
  "interpreter": {
   "hash": "7df16140f85f61dcb3c657e5700bc439fcf5b8d0d77a26bb81ed3a9798e61f3d"
  }
 },
 "nbformat": 4,
 "nbformat_minor": 2,
 "cells": [
  {
   "source": [
    "## Using Quara's standard tomography features from Qiskit"
   ],
   "cell_type": "markdown",
   "metadata": {}
  },
  {
   "source": [
    "Quara supports the wrappers for executing standard tomography from qiskit. Here, we demonstarate how to use them as several 1-qubit tomography."
   ],
   "cell_type": "markdown",
   "metadata": {}
  },
  {
   "cell_type": "code",
   "execution_count": 2,
   "metadata": {},
   "outputs": [],
   "source": [
    "import numpy as np\n",
    "\n",
    "from quara.interface.qiskit.api import (\n",
    "    estimate_standard_qst_from_qiskit,\n",
    "    estimate_standard_povmt_from_qiskit,\n",
    "    estimate_standard_qpt_from_qiskit,\n",
    "    generate_empi_dists_from_qiskit_state,\n",
    "    generate_empi_dists_from_qiskit_povm,\n",
    "    generate_empi_dists_from_qiskit_gate,\n",
    ") "
   ]
  },
  {
   "source": [
    "When executing the tomography in Qiskit, state and POVM of testers are defined as TomographyBasis. Here,we use following representation matrices from TomographyBasis(PauliBasis)."
   ],
   "cell_type": "markdown",
   "metadata": {}
  },
  {
   "cell_type": "code",
   "execution_count": 3,
   "metadata": {},
   "outputs": [],
   "source": [
    "# State\n",
    "Xp = np.array([[0.5, 0.5], [0.5, 0.5]], dtype=complex)\n",
    "Xm = np.array([[0.5,-0.5],[-0.5,0.5]],dtype=complex)\n",
    "Yp = np.array([[0.5, -0.5j], [0.5j, 0.5]], dtype=complex)\n",
    "Ym = np.array([[0.5,0.5j],[-0.5j,0.5]],dtype=complex)\n",
    "Zp = np.array([[1, 0], [0, 0]], dtype=complex)\n",
    "Zm = np.array([[0, 0], [0, 1]], dtype=complex)\n",
    "a = np.array([[1,1],[-1,1]], dtype=complex)\n",
    "\n",
    "#POVM\n",
    "X = [Xp,Xm]\n",
    "Y = [Yp,Ym]\n",
    "Z = [Zp,Zm]"
   ]
  },
  {
   "source": [
    "### Quantum State Tomography(1-qubit)\n",
    "We demonstarate 1-qubit QST using the tester from Qiskit. We need to define tester POVMs as a list when we perform Quantum State tomography using quara."
   ],
   "cell_type": "markdown",
   "metadata": {}
  },
  {
   "cell_type": "code",
   "execution_count": 4,
   "metadata": {},
   "outputs": [
    {
     "output_type": "stream",
     "name": "stdout",
     "text": [
      "[[ 1.+0.j  1.+0.j]\n [-1.+0.j  1.+0.j]]\n"
     ]
    }
   ],
   "source": [
    "#Testers\n",
    "tester_povms = [X,Y,Z]\n",
    "#True objects\n",
    "true_state = a\n",
    "print(true_state)"
   ]
  },
  {
   "source": [
    "We will generate the empirical distribution from given true state object. If you have your own list of empirical distributions make sure that the type matches to `List[Tuple [int,np.ndarray]]`."
   ],
   "cell_type": "markdown",
   "metadata": {}
  },
  {
   "cell_type": "code",
   "execution_count": 5,
   "metadata": {},
   "outputs": [
    {
     "output_type": "error",
     "ename": "AssertionError",
     "evalue": "",
     "traceback": [
      "\u001b[1;31m---------------------------------------------------------------------------\u001b[0m",
      "\u001b[1;31mAssertionError\u001b[0m                            Traceback (most recent call last)",
      "\u001b[1;32m<ipython-input-5-17d0c0c35e41>\u001b[0m in \u001b[0;36m<module>\u001b[1;34m\u001b[0m\n\u001b[0;32m      8\u001b[0m \u001b[1;33m\u001b[0m\u001b[0m\n\u001b[0;32m      9\u001b[0m \u001b[1;31m# calculate empirical distribution\u001b[0m\u001b[1;33m\u001b[0m\u001b[1;33m\u001b[0m\u001b[1;33m\u001b[0m\u001b[0m\n\u001b[1;32m---> 10\u001b[1;33m \u001b[0mempi_dists\u001b[0m \u001b[1;33m=\u001b[0m \u001b[0mgenerate_empi_dists_from_qiskit_state\u001b[0m\u001b[1;33m(\u001b[0m\u001b[0mmode_system\u001b[0m\u001b[1;33m=\u001b[0m\u001b[0mmode\u001b[0m\u001b[1;33m,\u001b[0m \u001b[0mnum_system\u001b[0m\u001b[1;33m=\u001b[0m\u001b[0mnum\u001b[0m\u001b[1;33m,\u001b[0m \u001b[0mtrue_state\u001b[0m\u001b[1;33m=\u001b[0m\u001b[0mtrue_state\u001b[0m\u001b[1;33m,\u001b[0m \u001b[0mtester_povms\u001b[0m\u001b[1;33m=\u001b[0m\u001b[0mtester_povms\u001b[0m\u001b[1;33m,\u001b[0m \u001b[0mnum_sum\u001b[0m\u001b[1;33m=\u001b[0m\u001b[0mnum_data\u001b[0m\u001b[1;33m,\u001b[0m \u001b[0mseed\u001b[0m\u001b[1;33m=\u001b[0m\u001b[0mseed\u001b[0m\u001b[1;33m,\u001b[0m \u001b[0mschedules\u001b[0m\u001b[1;33m=\u001b[0m\u001b[1;34m\"all\"\u001b[0m\u001b[1;33m)\u001b[0m\u001b[1;33m\u001b[0m\u001b[1;33m\u001b[0m\u001b[0m\n\u001b[0m\u001b[0;32m     11\u001b[0m \u001b[1;32mfor\u001b[0m \u001b[0mf\u001b[0m \u001b[1;32min\u001b[0m \u001b[0mempi_dists\u001b[0m\u001b[1;33m:\u001b[0m\u001b[1;33m\u001b[0m\u001b[1;33m\u001b[0m\u001b[0m\n\u001b[0;32m     12\u001b[0m     \u001b[0mprint\u001b[0m\u001b[1;33m(\u001b[0m\u001b[0mf\u001b[0m\u001b[1;33m)\u001b[0m\u001b[1;33m\u001b[0m\u001b[1;33m\u001b[0m\u001b[0m\n",
      "\u001b[1;32mc:\\users\\81902\\desktop\\work\\quara\\quara\\interface\\qiskit\\api.py\u001b[0m in \u001b[0;36mgenerate_empi_dists_from_qiskit_state\u001b[1;34m(mode_system, num_system, true_state, tester_povms, num_sum, seed, schedules)\u001b[0m\n\u001b[0;32m    312\u001b[0m     \u001b[1;32mfor\u001b[0m \u001b[0mqiskit_povm\u001b[0m \u001b[1;32min\u001b[0m \u001b[0mtester_povms\u001b[0m\u001b[1;33m:\u001b[0m\u001b[1;33m\u001b[0m\u001b[1;33m\u001b[0m\u001b[0m\n\u001b[0;32m    313\u001b[0m         \u001b[0mtester_povms_quara\u001b[0m\u001b[1;33m.\u001b[0m\u001b[0mappend\u001b[0m\u001b[1;33m(\u001b[0m\u001b[0mconvert_povm_qiskit_to_quara\u001b[0m\u001b[1;33m(\u001b[0m\u001b[0mqiskit_povm\u001b[0m\u001b[1;33m,\u001b[0m \u001b[0mc_sys\u001b[0m\u001b[1;33m)\u001b[0m\u001b[1;33m)\u001b[0m\u001b[1;33m\u001b[0m\u001b[1;33m\u001b[0m\u001b[0m\n\u001b[1;32m--> 314\u001b[1;33m     \u001b[0mtrue_state_quara\u001b[0m \u001b[1;33m=\u001b[0m \u001b[0mconvert_state_qiskit_to_quara\u001b[0m\u001b[1;33m(\u001b[0m\u001b[0mtrue_state\u001b[0m\u001b[1;33m,\u001b[0m \u001b[0mc_sys\u001b[0m\u001b[1;33m)\u001b[0m\u001b[1;33m\u001b[0m\u001b[1;33m\u001b[0m\u001b[0m\n\u001b[0m\u001b[0;32m    315\u001b[0m \u001b[1;33m\u001b[0m\u001b[0m\n\u001b[0;32m    316\u001b[0m     qst = StandardQst(\n",
      "\u001b[1;32mc:\\users\\81902\\desktop\\work\\quara\\quara\\interface\\qiskit\\conversion.py\u001b[0m in \u001b[0;36mconvert_state_qiskit_to_quara\u001b[1;34m(qiskit_state, c_sys)\u001b[0m\n\u001b[0;32m     35\u001b[0m     \"\"\"\n\u001b[0;32m     36\u001b[0m \u001b[1;33m\u001b[0m\u001b[0m\n\u001b[1;32m---> 37\u001b[1;33m     qiskit_state_vec = calc_hermitian_matrix_expansion_coefficient_hermitian_basis(\n\u001b[0m\u001b[0;32m     38\u001b[0m         \u001b[0mqiskit_state\u001b[0m\u001b[1;33m,\u001b[0m \u001b[0mc_sys\u001b[0m\u001b[1;33m.\u001b[0m\u001b[0mbasis\u001b[0m\u001b[1;33m(\u001b[0m\u001b[1;33m)\u001b[0m\u001b[1;33m\u001b[0m\u001b[1;33m\u001b[0m\u001b[0m\n\u001b[0;32m     39\u001b[0m     )\n",
      "\u001b[1;32mc:\\users\\81902\\desktop\\work\\quara\\quara\\objects\\matrix_basis.py\u001b[0m in \u001b[0;36mcalc_hermitian_matrix_expansion_coefficient_hermitian_basis\u001b[1;34m(from_mat, basis)\u001b[0m\n\u001b[0;32m    343\u001b[0m     \u001b[0mnp\u001b[0m\u001b[1;33m.\u001b[0m\u001b[0mndarray\u001b[0m\u001b[1;33m(\u001b[0m\u001b[1;33m(\u001b[0m\u001b[0mdim\u001b[0m \u001b[1;33m*\u001b[0m \u001b[0mdim\u001b[0m\u001b[1;33m,\u001b[0m \u001b[1;36m1\u001b[0m\u001b[1;33m)\u001b[0m\u001b[1;33m,\u001b[0m \u001b[0mnp\u001b[0m\u001b[1;33m.\u001b[0m\u001b[0mfloat\u001b[0m\u001b[1;33m)\u001b[0m\u001b[1;33m\u001b[0m\u001b[1;33m\u001b[0m\u001b[0m\n\u001b[0;32m    344\u001b[0m     \"\"\"\n\u001b[1;32m--> 345\u001b[1;33m     \u001b[1;32massert\u001b[0m \u001b[0mmutil\u001b[0m\u001b[1;33m.\u001b[0m\u001b[0mis_hermitian\u001b[0m\u001b[1;33m(\u001b[0m\u001b[0mfrom_mat\u001b[0m\u001b[1;33m)\u001b[0m\u001b[1;33m\u001b[0m\u001b[1;33m\u001b[0m\u001b[0m\n\u001b[0m\u001b[0;32m    346\u001b[0m     \u001b[1;32massert\u001b[0m \u001b[0mbasis\u001b[0m\u001b[1;33m.\u001b[0m\u001b[0mis_hermitian\u001b[0m\u001b[1;33m\u001b[0m\u001b[1;33m\u001b[0m\u001b[0m\n\u001b[0;32m    347\u001b[0m \u001b[1;33m\u001b[0m\u001b[0m\n",
      "\u001b[1;31mAssertionError\u001b[0m: "
     ]
    }
   ],
   "source": [
    "# define system\n",
    "mode = \"qubit\"\n",
    "num = 1\n",
    "\n",
    "# define requirement for empirical distribution\n",
    "num_data = 1000\n",
    "seed = 7896\n",
    "\n",
    "# calculate empirical distribution\n",
    "empi_dists = generate_empi_dists_from_qiskit_state(mode_system=mode, num_system=num, true_state=true_state, tester_povms=tester_povms, num_sum=num_data, seed=seed, schedules=\"all\")\n",
    "for f in empi_dists:\n",
    "    print(f)"
   ]
  },
  {
   "cell_type": "code",
   "execution_count": null,
   "metadata": {},
   "outputs": [],
   "source": []
  }
 ]
}