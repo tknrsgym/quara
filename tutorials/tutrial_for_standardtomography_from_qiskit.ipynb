{
 "metadata": {
  "language_info": {
   "codemirror_mode": {
    "name": "ipython",
    "version": 3
   },
   "file_extension": ".py",
   "mimetype": "text/x-python",
   "name": "python",
   "nbconvert_exporter": "python",
   "pygments_lexer": "ipython3",
   "version": "3.9.4"
  },
  "orig_nbformat": 4,
  "kernelspec": {
   "name": "python3",
   "display_name": "Python 3.9.4 64-bit ('venv': venv)"
  },
  "interpreter": {
   "hash": "7df16140f85f61dcb3c657e5700bc439fcf5b8d0d77a26bb81ed3a9798e61f3d"
  }
 },
 "nbformat": 4,
 "nbformat_minor": 2,
 "cells": [
  {
   "cell_type": "markdown",
   "source": [
    "# Using Quara's standard tomography features from Qiskit"
   ],
   "metadata": {}
  },
  {
   "cell_type": "markdown",
   "source": [
    "Quara supports the wrappers for executing standard tomography from qiskit. Here, we demonstarate how to use them as several 1-qubit tomography."
   ],
   "metadata": {}
  },
  {
   "cell_type": "code",
   "execution_count": 1,
   "source": [
    "import numpy as np\r\n",
    "\r\n",
    "from quara.interface.qiskit.api import (\r\n",
    "    estimate_standard_qst_from_qiskit,\r\n",
    "    estimate_standard_povmt_from_qiskit,\r\n",
    "    estimate_standard_qpt_from_qiskit,\r\n",
    "    generate_empi_dists_from_qiskit_state,\r\n",
    "    generate_empi_dists_from_qiskit_povm,\r\n",
    "    generate_empi_dists_from_qiskit_gate,\r\n",
    "    generate_empi_dists_from_quara\r\n",
    ") \r\n",
    "\r\n",
    "from quara.objects.state_typical import (\r\n",
    "    generate_state_density_mat_from_name,\r\n",
    "    get_state_names_1qubit,\r\n",
    "    generate_state_from_name,\r\n",
    ")\r\n",
    "\r\n",
    "from qiskit.circuit.library.standard_gates import h\r\n",
    "from qiskit.quantum_info.operators.channel import Choi"
   ],
   "outputs": [],
   "metadata": {}
  },
  {
   "cell_type": "markdown",
   "source": [
    "When executing the tomography in Qiskit, state and POVM of testers are defined as TomographyBasis. Here,we use following representation matrices from TomographyBasis(PauliBasis)."
   ],
   "metadata": {}
  },
  {
   "cell_type": "code",
   "execution_count": 2,
   "source": [
    "# State\r\n",
    "Xp = np.array([[0.5, 0.5], [0.5, 0.5]], dtype=complex)\r\n",
    "Xm = np.array([[0.5,-0.5],[-0.5,0.5]],dtype=complex)\r\n",
    "Yp = np.array([[0.5, -0.5j], [0.5j, 0.5]], dtype=complex)\r\n",
    "Ym = np.array([[0.5,0.5j],[-0.5j,0.5]],dtype=complex)\r\n",
    "Zp = np.array([[1, 0], [0, 0]], dtype=complex)\r\n",
    "Zm = np.array([[0, 0], [0, 1]], dtype=complex)\r\n",
    "a = generate_state_density_mat_from_name(\"a\")\r\n",
    "\r\n",
    "#POVM\r\n",
    "X = [Xp,Xm]\r\n",
    "Y = [Yp,Ym]\r\n",
    "Z = [Zp,Zm]"
   ],
   "outputs": [],
   "metadata": {}
  },
  {
   "cell_type": "markdown",
   "source": [
    "## Quantum State Tomography(1-qubit)\r\n",
    "We demonstarate 1-qubit QST using the tester from Qiskit. We need to define tester POVMs as a list when we perform Quantum State tomography using quara."
   ],
   "metadata": {}
  },
  {
   "cell_type": "code",
   "execution_count": 3,
   "source": [
    "#Testers\r\n",
    "tester_povms = [X,Y,Z]\r\n",
    "#True objects\r\n",
    "true_state = a\r\n",
    "print(true_state)"
   ],
   "outputs": [
    {
     "output_type": "stream",
     "name": "stdout",
     "text": [
      "[[0.5       +0.j         0.35355339-0.35355339j]\n",
      " [0.35355339+0.35355339j 0.5       +0.j        ]]\n"
     ]
    }
   ],
   "metadata": {}
  },
  {
   "cell_type": "markdown",
   "source": [
    "We will generate the empirical distribution from given true state object. If you have your own list of empirical distributions make sure that the type matches to `List[Tuple [int,np.ndarray]]`."
   ],
   "metadata": {}
  },
  {
   "cell_type": "code",
   "execution_count": 18,
   "source": [
    "# define system\r\n",
    "mode = \"qubit\"\r\n",
    "num = 1\r\n",
    "\r\n",
    "# define requirement for empirical distribution\r\n",
    "num_data = 1000\r\n",
    "seed = 7896\r\n",
    "\r\n",
    "# calculate empirical distribution\r\n",
    "empi_dists = generate_empi_dists_from_qiskit_state(mode_system=mode, num_system=num, true_state=true_state, tester_povms=tester_povms, num_sum=num_data, seed=seed, schedules=\"all\")\r\n",
    "for f in empi_dists:\r\n",
    "    print(f)\r\n",
    "type(empi_dists)"
   ],
   "outputs": [
    {
     "output_type": "stream",
     "name": "stdout",
     "text": [
      "(1000, array([0.864, 0.136]))\n",
      "(1000, array([0.844, 0.156]))\n",
      "(1000, array([0.49, 0.51]))\n"
     ]
    },
    {
     "output_type": "execute_result",
     "data": {
      "text/plain": [
       "list"
      ]
     },
     "metadata": {},
     "execution_count": 18
    }
   ],
   "metadata": {}
  },
  {
   "cell_type": "markdown",
   "source": [
    "Now, we execute quantum state tomography using linear estimation. You can estimate the quantum state just by calling `estimate_standard_qst_from_qiskit()`. You can choose linear estimation by specifying `estimator_name=\"linear\"`.\r\n",
    "You have to specify the empi_dists in qiskit."
   ],
   "metadata": {}
  },
  {
   "cell_type": "code",
   "execution_count": 6,
   "source": [
    "empi_dists_qiskit = generate_empi_dists_from_quara(empi_dists)\r\n",
    "estimate = estimate_standard_qst_from_qiskit(mode_system=mode,num_system=num,tester_povms=tester_povms,empi_dists=empi_dists_qiskit[1],shots=1000,label=empi_dists_qiskit[0],estimator_name=\"linear\", schedules=\"all\")\r\n",
    "print(estimate)"
   ],
   "outputs": [
    {
     "output_type": "stream",
     "name": "stdout",
     "text": [
      "[[0.49 +0.j    0.364-0.344j]\n",
      " [0.364+0.344j 0.51 +0.j   ]]\n"
     ]
    }
   ],
   "metadata": {}
  },
  {
   "cell_type": "markdown",
   "source": [
    "You can choose least squares estimation by specifying `estimator_name=\"least_squares\"`."
   ],
   "metadata": {}
  },
  {
   "cell_type": "code",
   "execution_count": 8,
   "source": [
    "empi_dists_qiskit = generate_empi_dists_from_quara(empi_dists)\r\n",
    "estimate = estimate_standard_qst_from_qiskit(mode_system=mode,num_system=num,tester_povms=tester_povms,empi_dists=empi_dists_qiskit[1],shots=1000,label=empi_dists_qiskit[0],estimator_name=\"least_squares\", schedules=\"all\")\r\n",
    "print(estimate)"
   ],
   "outputs": [
    {
     "output_type": "stream",
     "name": "stdout",
     "text": [
      "[[0.49001861+0.j         0.36332341-0.34336059j]\n",
      " [0.36332341+0.34336059j 0.50998144+0.j        ]]\n"
     ]
    }
   ],
   "metadata": {}
  },
  {
   "cell_type": "markdown",
   "source": [
    "## Quantum POVM Tomography (1qubit)"
   ],
   "metadata": {}
  },
  {
   "cell_type": "markdown",
   "source": [
    "Here, we demonstarate 1-qubit POVMT using the tester from Qiskit. We need to define tester states as a list when we perform Quantum POVM tomography using quara."
   ],
   "metadata": {}
  },
  {
   "cell_type": "code",
   "execution_count": 9,
   "source": [
    "#Testers\r\n",
    "tester_states = [Xp,Yp,Zp,Zm]\r\n",
    "#True objects\r\n",
    "true_povm = X\r\n",
    "for i in true_povm:\r\n",
    "    print(i)"
   ],
   "outputs": [
    {
     "output_type": "stream",
     "name": "stdout",
     "text": [
      "[[0.5+0.j 0.5+0.j]\n",
      " [0.5+0.j 0.5+0.j]]\n",
      "[[ 0.5+0.j -0.5+0.j]\n",
      " [-0.5+0.j  0.5+0.j]]\n"
     ]
    }
   ],
   "metadata": {}
  },
  {
   "cell_type": "code",
   "execution_count": 10,
   "source": [
    "# define system\r\n",
    "mode = \"qubit\"\r\n",
    "num = 1\r\n",
    "\r\n",
    "# define requirement for empirical distribution\r\n",
    "num_data = 1000\r\n",
    "seed = 7896\r\n",
    "\r\n",
    "# calculate empirical distribution\r\n",
    "empi_dists = generate_empi_dists_from_qiskit_povm(mode_system=mode, num_system=num, true_povm=true_povm, tester_states=tester_states, num_sum=num_data, seed=seed, schedules=\"all\")\r\n",
    "for i in empi_dists:\r\n",
    "    print(i)"
   ],
   "outputs": [
    {
     "output_type": "stream",
     "name": "stdout",
     "text": [
      "(1000, array([1., 0.]))\n",
      "(1000, array([0.502, 0.498]))\n",
      "(1000, array([0.49, 0.51]))\n",
      "(1000, array([0.488, 0.512]))\n"
     ]
    }
   ],
   "metadata": {}
  },
  {
   "cell_type": "markdown",
   "source": [
    "Now, we execute quantum povm tomography using linear estimation. You can estimate the quantum povm just by calling `estimate_standard_povmt_from_qiskit()`. You can choose linear estimation by specifying `estimator_name=\"linear\"`.\r\n",
    "You have to specify num_outcomes, which is number of outcome values of the POVM that will be estimated."
   ],
   "metadata": {}
  },
  {
   "cell_type": "code",
   "execution_count": 11,
   "source": [
    "empi_dists_qiskit = generate_empi_dists_from_quara(empi_dists)\r\n",
    "estimate = estimate_standard_povmt_from_qiskit(mode_system=mode,num_system=num,tester_states=tester_states,empi_dists=empi_dists_qiskit[1],shots=1000,label=empi_dists_qiskit[0],num_outcomes=2,estimator_name=\"linear\", schedules=\"all\")\r\n",
    "for i in estimate:\r\n",
    "    print(i)"
   ],
   "outputs": [
    {
     "output_type": "stream",
     "name": "stdout",
     "text": [
      "[[0.49 +0.j    0.511-0.013j]\n",
      " [0.511+0.013j 0.488+0.j   ]]\n",
      "[[ 0.51 +0.j    -0.511+0.013j]\n",
      " [-0.511-0.013j  0.512+0.j   ]]\n"
     ]
    }
   ],
   "metadata": {}
  },
  {
   "cell_type": "markdown",
   "source": [
    "You can choose least squares estimation by specifying `estimator_name=\"least_squares\"`."
   ],
   "metadata": {}
  },
  {
   "cell_type": "code",
   "execution_count": 12,
   "source": [
    "empi_dists_qiskit = generate_empi_dists_from_quara(empi_dists)\r\n",
    "estimate = estimate_standard_povmt_from_qiskit(mode_system=mode,num_system=num,tester_states=tester_states,empi_dists=empi_dists_qiskit[1],shots=1000,label=empi_dists_qiskit[0],num_outcomes=2,estimator_name=\"least_squares\", schedules=\"all\")\r\n",
    "for i in estimate:\r\n",
    "    print(i)"
   ],
   "outputs": [
    {
     "output_type": "stream",
     "name": "stdout",
     "text": [
      "[[0.49735047+0.j         0.49632565-0.00556025j]\n",
      " [0.49632565+0.00556025j 0.4953651 +0.j        ]]\n",
      "[[ 0.50264953+0.j         -0.49632565+0.00556025j]\n",
      " [-0.49632565-0.00556025j  0.5046349 +0.j        ]]\n"
     ]
    }
   ],
   "metadata": {}
  },
  {
   "cell_type": "markdown",
   "source": [
    "## Quantum Process Tomography(1qubit)"
   ],
   "metadata": {}
  },
  {
   "cell_type": "markdown",
   "source": [
    "Here, we demonstarate 1-qubit QPT using the tester from Qiskit. We need to define tester states and POVMs as a list when we perform Quantum Process tomography using quara.  When using gate here, we have to use it in Choi matrix."
   ],
   "metadata": {}
  },
  {
   "cell_type": "code",
   "execution_count": 14,
   "source": [
    "#Testers\r\n",
    "tester_povms = [X,Y,Z]\r\n",
    "tester_states = [Xp,Yp,Zp,Zm]\r\n",
    "#True objects\r\n",
    "true_gate = h.HGate()\r\n",
    "true_gate.__array__()"
   ],
   "outputs": [
    {
     "output_type": "execute_result",
     "data": {
      "text/plain": [
       "array([[ 0.70710678,  0.70710678],\n",
       "       [ 0.70710678, -0.70710678]])"
      ]
     },
     "metadata": {},
     "execution_count": 14
    }
   ],
   "metadata": {}
  },
  {
   "cell_type": "code",
   "execution_count": 15,
   "source": [
    "# define system\r\n",
    "mode = \"qubit\"\r\n",
    "num = 1\r\n",
    "\r\n",
    "# define requirement for empirical distribution\r\n",
    "num_data = 1000\r\n",
    "seed = 7896\r\n",
    "\r\n",
    "# calculate empirical distribution\r\n",
    "t_gate = Choi(true_gate)\r\n",
    "empi_dists = generate_empi_dists_from_qiskit_gate(mode_system=mode, num_system=num, true_gate=t_gate, tester_states=tester_states,tester_povms=tester_povms, num_sum=num_data, seed=seed, schedules=\"all\")\r\n",
    "for i in empi_dists:\r\n",
    "    print(i)"
   ],
   "outputs": [
    {
     "output_type": "stream",
     "name": "stdout",
     "text": [
      "(1000, array([0.496, 0.504]))\n",
      "(1000, array([0.502, 0.498]))\n",
      "(1000, array([1., 0.]))\n",
      "(1000, array([0.488, 0.512]))\n",
      "(1000, array([0., 1.]))\n",
      "(1000, array([0.491, 0.509]))\n",
      "(1000, array([1., 0.]))\n",
      "(1000, array([0.507, 0.493]))\n",
      "(1000, array([0.513, 0.487]))\n",
      "(1000, array([0., 1.]))\n",
      "(1000, array([0.47, 0.53]))\n",
      "(1000, array([0.497, 0.503]))\n"
     ]
    }
   ],
   "metadata": {}
  },
  {
   "cell_type": "markdown",
   "source": [
    "Now, we execute quantum process tomography using linear estimation. You can estimate the quantum process just by calling `estimate_standard_qpt_from_qiskit()`. You can choose linear estimation by specifying `estimator_name=\"linear\"`.\r\n"
   ],
   "metadata": {}
  },
  {
   "cell_type": "code",
   "execution_count": 16,
   "source": [
    "empi_dists_qiskit = generate_empi_dists_from_quara(empi_dists)\r\n",
    "estimate = estimate_standard_qpt_from_qiskit(mode_system=mode,num_system=num,tester_states=tester_states,tester_povms=tester_povms,empi_dists=empi_dists_qiskit[1],shots=1000,label=empi_dists_qiskit[0],estimator_name=\"linear\", schedules=\"all\")\r\n",
    "for i in estimate:\r\n",
    "    print(i)"
   ],
   "outputs": [
    {
     "output_type": "stream",
     "name": "stdout",
     "text": [
      "[ 0.513 +0.j      0.5   -0.007j   0.495 -0.014j  -0.4925-0.0255j]\n",
      "[ 0.5   +0.007j   0.487 +0.j      0.4845+0.0015j -0.495 +0.014j ]\n",
      "[ 0.495 +0.014j   0.4845-0.0015j  0.497 +0.j     -0.5   +0.03j  ]\n",
      "[-0.4925+0.0255j -0.495 -0.014j  -0.5   -0.03j    0.503 +0.j    ]\n"
     ]
    }
   ],
   "metadata": {}
  },
  {
   "cell_type": "markdown",
   "source": [
    "You can choose least squares estimation by specifying `estimator_name=\"least_squares\"`."
   ],
   "metadata": {}
  },
  {
   "cell_type": "code",
   "execution_count": 17,
   "source": [
    "empi_dists_qiskit = generate_empi_dists_from_quara(empi_dists)\r\n",
    "estimate = estimate_standard_qpt_from_qiskit(mode_system=mode,num_system=num,tester_states=tester_states,tester_povms=tester_povms,empi_dists=empi_dists_qiskit[1],shots=1000,label=empi_dists_qiskit[0],estimator_name=\"least_squares\", schedules=\"all\")\r\n",
    "for i in estimate:\r\n",
    "    print(i)"
   ],
   "outputs": [
    {
     "output_type": "stream",
     "name": "stdout",
     "text": [
      "[ 0.51438824+0.j          0.49329968-0.00741707j  0.48853761-0.00725424j\n",
      " -0.49249075+0.00293811j]\n",
      "[ 0.49329968+0.00741707j  0.48561176+0.j          0.48871849+0.0007454j\n",
      " -0.48853761+0.00725424j]\n",
      "[ 0.48853761+0.00725424j  0.48871849-0.0007454j   0.49664456+0.j\n",
      " -0.49336835+0.01536569j]\n",
      "[-0.49249075-0.00293811j -0.48853761-0.00725424j -0.49336835-0.01536569j\n",
      "  0.50335544+0.j        ]\n"
     ]
    }
   ],
   "metadata": {}
  },
  {
   "cell_type": "code",
   "execution_count": null,
   "source": [],
   "outputs": [],
   "metadata": {}
  }
 ]
}