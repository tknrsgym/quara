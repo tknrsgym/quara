{
 "cells": [
  {
   "cell_type": "code",
   "execution_count": 1,
   "metadata": {},
   "outputs": [],
   "source": [
    "# POVMT"
   ]
  },
  {
   "cell_type": "code",
   "execution_count": 2,
   "metadata": {},
   "outputs": [],
   "source": [
    "import pickle\n",
    "import time\n",
    "from typing import List\n",
    "import datetime as dt\n",
    "from pathlib import Path\n",
    "\n",
    "import numpy as np\n",
    "import pandas as pd\n",
    "import plotly.graph_objects as go\n",
    "import plotly.express as px\n",
    "\n",
    "from tqdm import tqdm\n",
    "\n",
    "from quara.data_analysis import data_analysis, physicality_violation_check, report\n",
    "from quara.objects.composite_system import CompositeSystem\n",
    "from quara.objects.elemental_system import ElementalSystem\n",
    "from quara.objects.matrix_basis import get_normalized_pauli_basis\n",
    "from quara.objects.state import (\n",
    "    State,\n",
    "    get_x0_1q,\n",
    "    get_x1_1q,\n",
    "    get_y0_1q,\n",
    "    get_y1_1q,\n",
    "    get_z0_1q,\n",
    "    get_z1_1q,\n",
    ")\n",
    "from quara.objects.povm import (\n",
    "    Povm,get_x_measurement\n",
    ")\n",
    "from quara.objects.qoperation import QOperation\n",
    "from quara.protocol.qtomography.standard.standard_povmt import StandardPovmt\n",
    "from quara.protocol.qtomography.standard.linear_estimator import LinearEstimator\n",
    "from quara.protocol.qtomography.standard.projected_linear_estimator import (\n",
    "    ProjectedLinearEstimator,\n",
    ")"
   ]
  },
  {
   "cell_type": "code",
   "execution_count": 3,
   "metadata": {},
   "outputs": [],
   "source": [
    "%load_ext autoreload\n",
    "%autoreload 2"
   ]
  },
  {
   "cell_type": "code",
   "execution_count": 4,
   "metadata": {},
   "outputs": [],
   "source": [
    "start_all = time.time()"
   ]
  },
  {
   "cell_type": "code",
   "execution_count": 5,
   "metadata": {},
   "outputs": [],
   "source": [
    "# setup system\n",
    "e_sys = ElementalSystem(0, get_normalized_pauli_basis())\n",
    "c_sys = CompositeSystem([e_sys])\n",
    "\n",
    "# |+><+|\n",
    "state_x0 = get_x0_1q(c_sys)\n",
    "# |+i><+i|\n",
    "state_y0 = get_y0_1q(c_sys)\n",
    "# |0><0|\n",
    "state_z0 = get_z0_1q(c_sys)\n",
    "# |1><1|\n",
    "state_z1 = get_z1_1q(c_sys)\n",
    "tester_objects = [state_x0, state_y0, state_z0, state_z1]"
   ]
  },
  {
   "cell_type": "code",
   "execution_count": 9,
   "metadata": {},
   "outputs": [],
   "source": [
    "true_objects = []\n",
    "\n",
    "# Case 1: 軸上\n",
    "a0, a1, a2, a3 = 1, 1, 0, 0\n",
    "m1 = (1 / np.sqrt(2)) * np.array([a0, a1, a2, a3])\n",
    "m2 = (1 / np.sqrt(2)) * np.array([2 - a0, -a1, -a2, -a3])\n",
    "true_object = Povm(vecs=[m1, m2], c_sys=c_sys)\n",
    "\n",
    "true_objects.append(true_object)\n",
    "\n",
    "# Case 2: 軸から一番離れた表面\n",
    "a0, a1, a2, a3 = 1, 1 / np.sqrt(2), 0, 1 / np.sqrt(2)\n",
    "m1 = (1 / np.sqrt(2)) * np.array([a0, a1, a2, a3])\n",
    "m2 = (1 / np.sqrt(2)) * np.array([2 - a0, -a1, -a2, -a3])\n",
    "true_object = Povm(vecs=[m1, m2], c_sys=c_sys)\n",
    "\n",
    "true_objects.append(true_object)\n",
    "\n",
    "# Case 3: 原点\n",
    "a0, a1, a2, a3 = 1, 0, 0, 0\n",
    "m1 = (1 / np.sqrt(2)) * np.array([a0, a1, a2, a3])\n",
    "m2 = (1 / np.sqrt(2)) * np.array([2 - a0, -a1, -a2, -a3])\n",
    "true_object = Povm(vecs=[m1, m2], c_sys=c_sys)\n",
    "\n",
    "true_objects.append(true_object)\n",
    "\n",
    "true_object_names = [\"軸上\", \"軸から一番離れた表面\", \"原点\"]"
   ]
  },
  {
   "cell_type": "code",
   "execution_count": 10,
   "metadata": {},
   "outputs": [
    {
     "name": "stderr",
     "output_type": "stream",
     "text": [
      " 30%|███       | 3/10 [00:00<00:00, 27.88it/s]"
     ]
    },
    {
     "name": "stdout",
     "output_type": "stream",
     "text": [
      "====================================\n",
      "0: 軸上\n",
      "True Object:\n",
      "Type:\n",
      "Povm\n",
      "\n",
      "Dim:\n",
      "2\n",
      "\n",
      "Number of outcomes:\n",
      "2\n",
      "\n",
      "Vecs:\n",
      "[[ 0.70710678  0.70710678  0.          0.        ]\n",
      " [ 0.70710678 -0.70710678  0.          0.        ]]\n",
      "====================================\n",
      "Case 0: LinearEstimator(True)\n",
      "Parametorization: True\n",
      "Type of qtomography: StandardPovmt\n",
      "Estimator: LinearEstimator\n"
     ]
    },
    {
     "name": "stderr",
     "output_type": "stream",
     "text": [
      "100%|██████████| 10/10 [00:00<00:00, 29.72it/s]\n",
      " 40%|████      | 4/10 [00:00<00:00, 37.21it/s]"
     ]
    },
    {
     "name": "stdout",
     "output_type": "stream",
     "text": [
      "elapsed_time:0.006371732552846273[min]\n",
      "\n",
      "Case 1: LinearEstimator(False)\n",
      "Parametorization: False\n",
      "Type of qtomography: StandardPovmt\n",
      "Estimator: LinearEstimator\n"
     ]
    },
    {
     "name": "stderr",
     "output_type": "stream",
     "text": [
      "100%|██████████| 10/10 [00:00<00:00, 40.63it/s]\n",
      " 10%|█         | 1/10 [00:00<00:01,  7.45it/s]"
     ]
    },
    {
     "name": "stdout",
     "output_type": "stream",
     "text": [
      "elapsed_time:0.004209200541178386[min]\n",
      "\n",
      "Case 2: ProjectedLinearEstimator(True)\n",
      "Parametorization: True\n",
      "Type of qtomography: StandardPovmt\n",
      "Estimator: ProjectedLinearEstimator\n"
     ]
    },
    {
     "name": "stderr",
     "output_type": "stream",
     "text": [
      "100%|██████████| 10/10 [00:01<00:00,  6.82it/s]\n",
      " 10%|█         | 1/10 [00:00<00:01,  6.26it/s]"
     ]
    },
    {
     "name": "stdout",
     "output_type": "stream",
     "text": [
      "elapsed_time:0.024557916323343913[min]\n",
      "\n",
      "Case 3: ProjectedLinearEstimator(False)\n",
      "Parametorization: False\n",
      "Type of qtomography: StandardPovmt\n",
      "Estimator: ProjectedLinearEstimator\n"
     ]
    },
    {
     "name": "stderr",
     "output_type": "stream",
     "text": [
      "100%|██████████| 10/10 [00:01<00:00,  6.35it/s]\n",
      "100%|██████████| 10/10 [00:00<00:00, 15899.56it/s]\n",
      "100%|██████████| 10/10 [00:00<00:00, 23912.79it/s]\n"
     ]
    },
    {
     "name": "stdout",
     "output_type": "stream",
     "text": [
      "elapsed_time:0.026319082578023276[min]\n",
      "\n",
      "​Generating table of computation time ...\n",
      "​Generating table of experimental conditions ...\n",
      "Generating case list ...\n",
      "​​Generating MSE of empirical distributions blocks ...\n",
      "​​Generating consictency test blocks ...\n",
      "​Generating a graph for MSE ...\n"
     ]
    },
    {
     "name": "stderr",
     "output_type": "stream",
     "text": [
      "/Users/tomoko/project/rcast/workspace/quara/venv/lib/python3.8/site-packages/numpy/core/_methods.py:216: RuntimeWarning:\n",
      "\n",
      "Degrees of freedom <= 0 for slice\n",
      "\n",
      "/Users/tomoko/project/rcast/workspace/quara/venv/lib/python3.8/site-packages/numpy/core/_methods.py:209: RuntimeWarning:\n",
      "\n",
      "invalid value encountered in double_scalars\n",
      "\n",
      "100%|██████████| 10/10 [00:00<00:00, 6293.03it/s]"
     ]
    },
    {
     "name": "stdout",
     "output_type": "stream",
     "text": [
      "​​Generating physicality violation test blocks ...\n"
     ]
    },
    {
     "name": "stderr",
     "output_type": "stream",
     "text": [
      "\n",
      "100%|██████████| 10/10 [00:00<00:00, 14141.28it/s]\n",
      "100%|██████████| 10/10 [00:00<00:00, 3403.64it/s]\n",
      "  0%|          | 0/2 [00:00<?, ?it/s]\n",
      "2it [00:00, 43.70it/s]\n",
      "\n",
      "2it [00:00, 42.49it/s]\n",
      "100%|██████████| 2/2 [00:00<00:00, 17.54it/s]\n",
      "100%|██████████| 10/10 [00:00<00:00, 1927.44it/s]\n",
      "  0%|          | 0/2 [00:00<?, ?it/s]\n",
      "2it [00:00, 46.85it/s]\n",
      "\n",
      "2it [00:00, 47.31it/s]\n",
      "100%|██████████| 2/2 [00:00<00:00, 19.40it/s]\n",
      "100%|██████████| 10/10 [00:00<00:00, 3272.45it/s]\n",
      "100%|██████████| 10/10 [00:00<00:00, 2687.45it/s]\n",
      "100%|██████████| 10/10 [00:00<00:00, 10637.34it/s]\n",
      "100%|██████████| 10/10 [00:00<00:00, 6350.20it/s]\n",
      "100%|██████████| 10/10 [00:00<00:00, 3152.90it/s]\n",
      "  0%|          | 0/2 [00:00<?, ?it/s]\n",
      "2it [00:00, 55.54it/s]\n",
      "\n",
      "2it [00:00, 45.93it/s]\n",
      "100%|██████████| 2/2 [00:00<00:00, 21.59it/s]\n",
      "100%|██████████| 10/10 [00:00<00:00, 3522.26it/s]\n",
      "  0%|          | 0/2 [00:00<?, ?it/s]\n",
      "2it [00:00, 52.87it/s]\n",
      "\n",
      "2it [00:00, 32.96it/s]\n",
      "100%|██████████| 2/2 [00:00<00:00, 16.55it/s]\n",
      "100%|██████████| 10/10 [00:00<00:00, 1750.76it/s]\n",
      "100%|██████████| 10/10 [00:00<00:00, 3137.81it/s]\n",
      "100%|██████████| 10/10 [00:00<00:00, 9781.49it/s]\n",
      "100%|██████████| 10/10 [00:00<00:00, 6293.97it/s]\n",
      "100%|██████████| 10/10 [00:00<00:00, 1783.82it/s]\n",
      "  0%|          | 0/2 [00:00<?, ?it/s]\n",
      "2it [00:00, 53.25it/s]\n",
      "\n",
      "2it [00:00, 44.60it/s]\n",
      "100%|██████████| 2/2 [00:00<00:00, 20.58it/s]\n",
      "100%|██████████| 10/10 [00:00<00:00, 2865.55it/s]\n",
      "  0%|          | 0/2 [00:00<?, ?it/s]\n",
      "2it [00:00, 50.90it/s]\n",
      "\n",
      "2it [00:00, 48.72it/s]\n",
      "100%|██████████| 2/2 [00:00<00:00, 21.86it/s]\n",
      "100%|██████████| 10/10 [00:00<00:00, 2094.12it/s]\n",
      "100%|██████████| 10/10 [00:00<00:00, 2046.20it/s]\n",
      "100%|██████████| 10/10 [00:00<00:00, 8375.21it/s]\n",
      "100%|██████████| 10/10 [00:00<00:00, 11641.14it/s]\n",
      "100%|██████████| 10/10 [00:00<00:00, 2340.31it/s]\n",
      "  0%|          | 0/2 [00:00<?, ?it/s]\n",
      "2it [00:00, 43.33it/s]\n",
      "\n",
      "2it [00:00, 45.26it/s]\n",
      "100%|██████████| 2/2 [00:00<00:00, 18.72it/s]\n",
      "100%|██████████| 10/10 [00:00<00:00, 3460.36it/s]\n",
      "  0%|          | 0/2 [00:00<?, ?it/s]\n",
      "2it [00:00, 45.05it/s]\n",
      "\n",
      "2it [00:00, 50.26it/s]\n",
      "100%|██████████| 2/2 [00:00<00:00, 19.96it/s]\n",
      "100%|██████████| 10/10 [00:00<00:00, 2560.00it/s]\n",
      "100%|██████████| 10/10 [00:00<00:00, 2646.92it/s]\n"
     ]
    },
    {
     "name": "stdout",
     "output_type": "stream",
     "text": [
      "Converting to PDF report ...\n",
      "​Deleting temporary files ...\n",
      "Completed to export pdf. (output_povmt_nrep=10/pdf/sample_povmt_case0_軸上.pdf)\n"
     ]
    },
    {
     "name": "stderr",
     "output_type": "stream",
     "text": [
      "\r",
      "  0%|          | 0/10 [00:00<?, ?it/s]"
     ]
    },
    {
     "name": "stdout",
     "output_type": "stream",
     "text": [
      "====================================\n",
      "1: 軸から一番離れた表面\n",
      "True Object:\n",
      "Type:\n",
      "Povm\n",
      "\n",
      "Dim:\n",
      "2\n",
      "\n",
      "Number of outcomes:\n",
      "2\n",
      "\n",
      "Vecs:\n",
      "[[ 0.70710678  0.5         0.          0.5       ]\n",
      " [ 0.70710678 -0.5         0.         -0.5       ]]\n",
      "====================================\n",
      "Case 0: LinearEstimator(True)\n",
      "Parametorization: True\n",
      "Type of qtomography: StandardPovmt\n",
      "Estimator: LinearEstimator\n"
     ]
    },
    {
     "name": "stderr",
     "output_type": "stream",
     "text": [
      "100%|██████████| 10/10 [00:00<00:00, 24.49it/s]\n",
      " 40%|████      | 4/10 [00:00<00:00, 39.85it/s]"
     ]
    },
    {
     "name": "stdout",
     "output_type": "stream",
     "text": [
      "elapsed_time:0.008018632729848226[min]\n",
      "\n",
      "Case 1: LinearEstimator(False)\n",
      "Parametorization: False\n",
      "Type of qtomography: StandardPovmt\n",
      "Estimator: LinearEstimator\n"
     ]
    },
    {
     "name": "stderr",
     "output_type": "stream",
     "text": [
      "100%|██████████| 10/10 [00:00<00:00, 47.72it/s]\n",
      " 10%|█         | 1/10 [00:00<00:01,  5.34it/s]"
     ]
    },
    {
     "name": "stdout",
     "output_type": "stream",
     "text": [
      "elapsed_time:0.003621049722035726[min]\n",
      "\n",
      "Case 2: ProjectedLinearEstimator(True)\n",
      "Parametorization: True\n",
      "Type of qtomography: StandardPovmt\n",
      "Estimator: ProjectedLinearEstimator\n"
     ]
    },
    {
     "name": "stderr",
     "output_type": "stream",
     "text": [
      "100%|██████████| 10/10 [00:01<00:00,  7.87it/s]\n",
      " 10%|█         | 1/10 [00:00<00:01,  6.08it/s]"
     ]
    },
    {
     "name": "stdout",
     "output_type": "stream",
     "text": [
      "elapsed_time:0.021260833740234374[min]\n",
      "\n",
      "Case 3: ProjectedLinearEstimator(False)\n",
      "Parametorization: False\n",
      "Type of qtomography: StandardPovmt\n",
      "Estimator: ProjectedLinearEstimator\n"
     ]
    },
    {
     "name": "stderr",
     "output_type": "stream",
     "text": [
      "100%|██████████| 10/10 [00:01<00:00,  5.78it/s]\n",
      "100%|██████████| 10/10 [00:00<00:00, 3430.64it/s]\n",
      "100%|██████████| 10/10 [00:00<00:00, 1643.66it/s]\n"
     ]
    },
    {
     "name": "stdout",
     "output_type": "stream",
     "text": [
      "elapsed_time:0.029186968008677164[min]\n",
      "\n",
      "​Generating table of computation time ...\n",
      "​Generating table of experimental conditions ...\n",
      "Generating case list ...\n",
      "​​Generating MSE of empirical distributions blocks ...\n",
      "​​Generating consictency test blocks ...\n",
      "​Generating a graph for MSE ...\n"
     ]
    },
    {
     "name": "stderr",
     "output_type": "stream",
     "text": [
      "/Users/tomoko/project/rcast/workspace/quara/venv/lib/python3.8/site-packages/numpy/core/_methods.py:216: RuntimeWarning:\n",
      "\n",
      "Degrees of freedom <= 0 for slice\n",
      "\n",
      "/Users/tomoko/project/rcast/workspace/quara/venv/lib/python3.8/site-packages/numpy/core/_methods.py:209: RuntimeWarning:\n",
      "\n",
      "invalid value encountered in double_scalars\n",
      "\n",
      "100%|██████████| 10/10 [00:00<00:00, 6296.81it/s]"
     ]
    },
    {
     "name": "stdout",
     "output_type": "stream",
     "text": [
      "​​Generating physicality violation test blocks ...\n"
     ]
    },
    {
     "name": "stderr",
     "output_type": "stream",
     "text": [
      "\n",
      "100%|██████████| 10/10 [00:00<00:00, 5646.61it/s]\n",
      "100%|██████████| 10/10 [00:00<00:00, 2240.79it/s]\n",
      "  0%|          | 0/2 [00:00<?, ?it/s]\n",
      "2it [00:00, 48.37it/s]\n",
      "\n",
      "2it [00:00, 45.72it/s]\n",
      "100%|██████████| 2/2 [00:00<00:00, 19.99it/s]\n",
      "100%|██████████| 10/10 [00:00<00:00, 1990.84it/s]\n",
      "  0%|          | 0/2 [00:00<?, ?it/s]\n",
      "2it [00:00, 24.50it/s]\n",
      "\n",
      "0it [00:00, ?it/s]\u001b[A\n",
      "2it [00:00, 14.10it/s]\u001b[A\n",
      "100%|██████████| 2/2 [00:00<00:00,  8.09it/s]\n",
      "100%|██████████| 10/10 [00:00<00:00, 1903.99it/s]\n",
      "100%|██████████| 10/10 [00:00<00:00, 2001.19it/s]\n",
      "100%|██████████| 10/10 [00:00<00:00, 5299.18it/s]\n",
      "100%|██████████| 10/10 [00:00<00:00, 5455.65it/s]\n",
      "100%|██████████| 10/10 [00:00<00:00, 1874.38it/s]\n",
      "  0%|          | 0/2 [00:00<?, ?it/s]\n",
      "2it [00:00, 47.56it/s]\n",
      "\n",
      "0it [00:00, ?it/s]\u001b[A\n",
      "2it [00:00, 18.40it/s]\u001b[A\n",
      "100%|██████████| 2/2 [00:00<00:00, 10.89it/s]\n",
      "100%|██████████| 10/10 [00:00<00:00, 1805.01it/s]\n",
      "  0%|          | 0/2 [00:00<?, ?it/s]\n",
      "2it [00:00, 29.53it/s]\n",
      "\n",
      "2it [00:00, 21.56it/s]\n",
      "100%|██████████| 2/2 [00:00<00:00, 10.56it/s]\n",
      "100%|██████████| 10/10 [00:00<00:00, 1175.24it/s]\n",
      "100%|██████████| 10/10 [00:00<00:00, 1880.01it/s]\n",
      "100%|██████████| 10/10 [00:00<00:00, 5210.96it/s]\n",
      "100%|██████████| 10/10 [00:00<00:00, 8952.62it/s]\n",
      "100%|██████████| 10/10 [00:00<00:00, 2126.82it/s]\n",
      "  0%|          | 0/2 [00:00<?, ?it/s]\n",
      "2it [00:00, 38.16it/s]\n",
      "\n",
      "2it [00:00, 32.16it/s]\n",
      "100%|██████████| 2/2 [00:00<00:00, 14.87it/s]\n",
      "100%|██████████| 10/10 [00:00<00:00, 1712.03it/s]\n",
      "  0%|          | 0/2 [00:00<?, ?it/s]\n",
      "2it [00:00, 33.15it/s]\n",
      "\n",
      "2it [00:00, 40.58it/s]\n",
      "100%|██████████| 2/2 [00:00<00:00, 15.57it/s]\n",
      "100%|██████████| 10/10 [00:00<00:00, 1161.02it/s]\n",
      "100%|██████████| 10/10 [00:00<00:00, 1988.86it/s]\n",
      "100%|██████████| 10/10 [00:00<00:00, 7975.48it/s]\n",
      "100%|██████████| 10/10 [00:00<00:00, 9082.51it/s]\n",
      "100%|██████████| 10/10 [00:00<00:00, 1705.07it/s]\n",
      "  0%|          | 0/2 [00:00<?, ?it/s]\n",
      "2it [00:00, 34.18it/s]\n",
      "\n",
      "2it [00:00, 33.25it/s]\n",
      "100%|██████████| 2/2 [00:00<00:00, 13.75it/s]\n",
      "100%|██████████| 10/10 [00:00<00:00, 1348.30it/s]\n",
      "  0%|          | 0/2 [00:00<?, ?it/s]\n",
      "2it [00:00, 36.59it/s]\n",
      "\n",
      "2it [00:00, 35.16it/s]\n",
      "100%|██████████| 2/2 [00:00<00:00, 14.14it/s]\n",
      "100%|██████████| 10/10 [00:00<00:00, 1044.63it/s]\n",
      "100%|██████████| 10/10 [00:00<00:00, 1768.63it/s]\n"
     ]
    },
    {
     "name": "stdout",
     "output_type": "stream",
     "text": [
      "Converting to PDF report ...\n"
     ]
    },
    {
     "name": "stderr",
     "output_type": "stream",
     "text": [
      "\r",
      "  0%|          | 0/10 [00:00<?, ?it/s]"
     ]
    },
    {
     "name": "stdout",
     "output_type": "stream",
     "text": [
      "​Deleting temporary files ...\n",
      "Completed to export pdf. (output_povmt_nrep=10/pdf/sample_povmt_case1_軸から一番離れた表面.pdf)\n",
      "====================================\n",
      "2: 原点\n",
      "True Object:\n",
      "Type:\n",
      "Povm\n",
      "\n",
      "Dim:\n",
      "2\n",
      "\n",
      "Number of outcomes:\n",
      "2\n",
      "\n",
      "Vecs:\n",
      "[[0.70710678 0.         0.         0.        ]\n",
      " [0.70710678 0.         0.         0.        ]]\n",
      "====================================\n",
      "Case 0: LinearEstimator(True)\n",
      "Parametorization: True\n",
      "Type of qtomography: StandardPovmt\n",
      "Estimator: LinearEstimator\n"
     ]
    },
    {
     "name": "stderr",
     "output_type": "stream",
     "text": [
      "100%|██████████| 10/10 [00:00<00:00, 26.16it/s]\n",
      " 50%|█████     | 5/10 [00:00<00:00, 46.65it/s]"
     ]
    },
    {
     "name": "stdout",
     "output_type": "stream",
     "text": [
      "elapsed_time:0.006529863675435384[min]\n",
      "\n",
      "Case 1: LinearEstimator(False)\n",
      "Parametorization: False\n",
      "Type of qtomography: StandardPovmt\n",
      "Estimator: LinearEstimator\n"
     ]
    },
    {
     "name": "stderr",
     "output_type": "stream",
     "text": [
      "100%|██████████| 10/10 [00:00<00:00, 48.23it/s]\n",
      " 40%|████      | 4/10 [00:00<00:00, 36.74it/s]"
     ]
    },
    {
     "name": "stdout",
     "output_type": "stream",
     "text": [
      "elapsed_time:0.00357895294825236[min]\n",
      "\n",
      "Case 2: ProjectedLinearEstimator(True)\n",
      "Parametorization: True\n",
      "Type of qtomography: StandardPovmt\n",
      "Estimator: ProjectedLinearEstimator\n"
     ]
    },
    {
     "name": "stderr",
     "output_type": "stream",
     "text": [
      "100%|██████████| 10/10 [00:00<00:00, 34.93it/s]\n",
      " 50%|█████     | 5/10 [00:00<00:00, 48.42it/s]"
     ]
    },
    {
     "name": "stdout",
     "output_type": "stream",
     "text": [
      "elapsed_time:0.004865117867787679[min]\n",
      "\n",
      "Case 3: ProjectedLinearEstimator(False)\n",
      "Parametorization: False\n",
      "Type of qtomography: StandardPovmt\n",
      "Estimator: ProjectedLinearEstimator\n"
     ]
    },
    {
     "name": "stderr",
     "output_type": "stream",
     "text": [
      "100%|██████████| 10/10 [00:00<00:00, 46.01it/s]\n",
      "100%|██████████| 10/10 [00:00<00:00, 19840.61it/s]\n",
      "100%|██████████| 10/10 [00:00<00:00, 17690.02it/s]\n"
     ]
    },
    {
     "name": "stdout",
     "output_type": "stream",
     "text": [
      "elapsed_time:0.003698929150899251[min]\n",
      "\n",
      "​Generating table of computation time ...\n",
      "​Generating table of experimental conditions ...\n",
      "Generating case list ...\n",
      "​​Generating MSE of empirical distributions blocks ...\n"
     ]
    },
    {
     "name": "stderr",
     "output_type": "stream",
     "text": [
      "/Users/tomoko/project/rcast/workspace/quara/venv/lib/python3.8/site-packages/numpy/core/_methods.py:216: RuntimeWarning:\n",
      "\n",
      "Degrees of freedom <= 0 for slice\n",
      "\n",
      "/Users/tomoko/project/rcast/workspace/quara/venv/lib/python3.8/site-packages/numpy/core/_methods.py:209: RuntimeWarning:\n",
      "\n",
      "invalid value encountered in double_scalars\n",
      "\n"
     ]
    },
    {
     "name": "stdout",
     "output_type": "stream",
     "text": [
      "​​Generating consictency test blocks ...\n",
      "​Generating a graph for MSE ...\n"
     ]
    },
    {
     "name": "stderr",
     "output_type": "stream",
     "text": [
      "100%|██████████| 10/10 [00:00<00:00, 5543.62it/s]"
     ]
    },
    {
     "name": "stdout",
     "output_type": "stream",
     "text": [
      "​​Generating physicality violation test blocks ...\n"
     ]
    },
    {
     "name": "stderr",
     "output_type": "stream",
     "text": [
      "\n",
      "100%|██████████| 10/10 [00:00<00:00, 10451.79it/s]\n",
      "100%|██████████| 10/10 [00:00<00:00, 2156.57it/s]\n",
      "  0%|          | 0/2 [00:00<?, ?it/s]\n",
      "2it [00:00, 42.23it/s]\n",
      "\n",
      "2it [00:00, 42.40it/s]\n",
      "100%|██████████| 2/2 [00:00<00:00, 17.48it/s]\n",
      "100%|██████████| 10/10 [00:00<00:00, 2366.45it/s]\n",
      "  0%|          | 0/2 [00:00<?, ?it/s]\n",
      "2it [00:00, 38.52it/s]\n",
      "\n",
      "0it [00:00, ?it/s]\u001b[A\n",
      "2it [00:00,  5.49it/s]\u001b[A\n",
      "100%|██████████| 2/2 [00:00<00:00,  4.60it/s]\n",
      "100%|██████████| 10/10 [00:00<00:00, 2227.10it/s]\n",
      "100%|██████████| 10/10 [00:00<00:00, 1843.00it/s]\n",
      "100%|██████████| 10/10 [00:00<00:00, 10215.06it/s]\n",
      "100%|██████████| 10/10 [00:00<00:00, 6953.42it/s]\n",
      "100%|██████████| 10/10 [00:00<00:00, 2103.46it/s]\n",
      "  0%|          | 0/2 [00:00<?, ?it/s]\n",
      "2it [00:00, 45.98it/s]\n",
      "\n",
      "2it [00:00, 48.97it/s]\n",
      "100%|██████████| 2/2 [00:00<00:00, 20.02it/s]\n",
      "100%|██████████| 10/10 [00:00<00:00, 1075.24it/s]\n",
      "  0%|          | 0/2 [00:00<?, ?it/s]\n",
      "0it [00:00, ?it/s]\u001b[A\n",
      "2it [00:00, 11.88it/s]\u001b[A\n",
      " 50%|█████     | 1/2 [00:00<00:00,  5.64it/s]\n",
      "0it [00:00, ?it/s]\u001b[A\n",
      "2it [00:00, 10.45it/s]\u001b[A\n",
      "100%|██████████| 2/2 [00:00<00:00,  5.04it/s]\n",
      "100%|██████████| 10/10 [00:00<00:00, 1618.42it/s]\n",
      "100%|██████████| 10/10 [00:00<00:00, 1689.96it/s]\n",
      "100%|██████████| 10/10 [00:00<00:00, 9116.07it/s]\n",
      "100%|██████████| 10/10 [00:00<00:00, 8005.92it/s]\n",
      "100%|██████████| 10/10 [00:00<00:00, 2146.85it/s]\n",
      "  0%|          | 0/2 [00:00<?, ?it/s]\n",
      "2it [00:00, 48.38it/s]\n",
      "\n",
      "2it [00:00, 47.75it/s]\n",
      "100%|██████████| 2/2 [00:00<00:00, 19.19it/s]\n",
      "100%|██████████| 10/10 [00:00<00:00, 1670.57it/s]\n",
      "  0%|          | 0/2 [00:00<?, ?it/s]\n",
      "2it [00:00, 29.25it/s]\n",
      "\n",
      "2it [00:00, 22.17it/s]\n",
      "100%|██████████| 2/2 [00:00<00:00, 10.55it/s]\n",
      "100%|██████████| 10/10 [00:00<00:00, 1942.44it/s]\n",
      "100%|██████████| 10/10 [00:00<00:00, 1828.86it/s]\n",
      "100%|██████████| 10/10 [00:00<00:00, 7288.10it/s]\n",
      "100%|██████████| 10/10 [00:00<00:00, 11752.04it/s]\n",
      "100%|██████████| 10/10 [00:00<00:00, 2181.35it/s]\n",
      "  0%|          | 0/2 [00:00<?, ?it/s]\n",
      "2it [00:00, 42.86it/s]\n",
      "\n",
      "2it [00:00, 42.99it/s]\n",
      "100%|██████████| 2/2 [00:00<00:00, 17.63it/s]\n",
      "100%|██████████| 10/10 [00:00<00:00, 1019.99it/s]\n",
      "  0%|          | 0/2 [00:00<?, ?it/s]\n",
      "2it [00:00, 34.64it/s]\n",
      "\n",
      "0it [00:00, ?it/s]\u001b[A\n",
      "2it [00:00, 13.30it/s]\u001b[A\n",
      "100%|██████████| 2/2 [00:00<00:00,  8.05it/s]\n",
      "100%|██████████| 10/10 [00:00<00:00, 994.62it/s]\n",
      "100%|██████████| 10/10 [00:00<00:00, 1733.04it/s]\n"
     ]
    },
    {
     "name": "stdout",
     "output_type": "stream",
     "text": [
      "Converting to PDF report ...\n",
      "​Deleting temporary files ...\n",
      "Completed to export pdf. (output_povmt_nrep=10/pdf/sample_povmt_case2_原点.pdf)\n",
      "Completed.\n"
     ]
    }
   ],
   "source": [
    "num_data = [100, 1000]\n",
    "n_rep = 10\n",
    "measurement_n = len(true_object.vecs)  # 測定値の数\n",
    "\n",
    "case_name_list = [\n",
    "    \"LinearEstimator(True)\",\n",
    "    \"LinearEstimator(False)\",\n",
    "    \"ProjectedLinearEstimator(True)\",\n",
    "    \"ProjectedLinearEstimator(False)\",\n",
    "]\n",
    "\n",
    "seed = 777\n",
    "qtomography_list = [\n",
    "    StandardPovmt(tester_objects, measurement_n, on_para_eq_constraint=True, seed=seed),\n",
    "    StandardPovmt(\n",
    "        tester_objects, measurement_n, on_para_eq_constraint=False, seed=seed\n",
    "    ),\n",
    "    StandardPovmt(tester_objects, measurement_n, on_para_eq_constraint=True, seed=seed),\n",
    "    StandardPovmt(\n",
    "        tester_objects, measurement_n, on_para_eq_constraint=False, seed=seed\n",
    "    ),\n",
    "]\n",
    "para_list = [True, False, True, False]\n",
    "\n",
    "estimator_list = [\n",
    "    LinearEstimator(),\n",
    "    LinearEstimator(),\n",
    "    ProjectedLinearEstimator(),\n",
    "    ProjectedLinearEstimator(),\n",
    "]\n",
    "\n",
    "# estimation_results_list = []\n",
    "# elapsed_times = []\n",
    "\n",
    "all_results = []\n",
    "output_dir = f\"output_povmt_nrep={n_rep}\"\n",
    "Path(output_dir).mkdir(exist_ok=True)\n",
    "Path(f\"{output_dir}/pickle\").mkdir(exist_ok=True)\n",
    "Path(f\"{output_dir}/pdf\").mkdir(exist_ok=True)\n",
    "Path(f\"{output_dir}/mse\").mkdir(exist_ok=True)\n",
    "\n",
    "for true_idx, true_object in enumerate(true_objects):\n",
    "    print(\"====================================\")\n",
    "    print(f\"{true_idx}: {true_object_names[true_idx]}\")\n",
    "    print(\"True Object:\")\n",
    "    print(f\"{true_object}\")\n",
    "    print(\"====================================\")\n",
    "    estimation_results_list = []\n",
    "    elapsed_times = []\n",
    "\n",
    "    for i, name in enumerate(case_name_list):\n",
    "        qtomography = qtomography_list[i]\n",
    "        estimator = estimator_list[i]\n",
    "\n",
    "        start = time.time()\n",
    "        print(f\"Case {i}: {name}\")\n",
    "        print(f\"Parametorization: {para_list[i]}\")\n",
    "        print(f\"Type of qtomography: {qtomography.__class__.__name__}\")\n",
    "        print(f\"Estimator: {estimator.__class__.__name__}\")\n",
    "\n",
    "        estimation_results = data_analysis.estimate(\n",
    "            qtomography=qtomography,\n",
    "            true_object=true_object,\n",
    "            num_data=num_data,\n",
    "            estimator=estimator,\n",
    "            iteration=n_rep,\n",
    "        )\n",
    "        estimation_results_list.append(estimation_results)\n",
    "\n",
    "        elapsed_time = time.time() - start\n",
    "        print(\"elapsed_time:{0}\".format(elapsed_time / 60) + \"[min]\\n\")\n",
    "        elapsed_times.append(elapsed_time)\n",
    "\n",
    "    # Result\n",
    "    result = dict(\n",
    "        estimation_results_list=estimation_results_list,\n",
    "        true_object=true_object,\n",
    "        elapsed_times=elapsed_times,\n",
    "    )\n",
    "    all_results.append(result)\n",
    "    # output\n",
    "    with open(\n",
    "        f\"{output_dir}/pickle/povmt_estimation_results_nrep={n_rep}_{true_object_names[true_idx]}.pickle\",\n",
    "        \"wb\",\n",
    "    ) as f:\n",
    "        pickle.dump(result, f)\n",
    "    # PDF report\n",
    "    path = (\n",
    "        f\"{output_dir}/pdf/sample_povmt_case{true_idx}_{true_object_names[true_idx]}.pdf\"\n",
    "    )\n",
    "    report.export_report(\n",
    "        path,\n",
    "        result[\"estimation_results_list\"],\n",
    "        case_name_list,\n",
    "        estimator_list,\n",
    "        result[\"true_object\"],\n",
    "        tester_objects,\n",
    "        seed=seed,\n",
    "        computation_time=sum(result[\"elapsed_times\"]),\n",
    "    )\n",
    "    # Fig\n",
    "    fig = data_analysis.make_mses_graph_estimation_results(\n",
    "        result[\"estimation_results_list\"],\n",
    "        case_name_list,\n",
    "        true_objects[true_idx],\n",
    "        show_analytical_results=True,\n",
    "        estimator_list=estimator_list,\n",
    "    )\n",
    "    path = (\n",
    "        f\"{output_dir}/mse/sample_povmt_case{true_idx}_{true_object_names[true_idx]}.html\"\n",
    "    )\n",
    "    fig.write_html(path)\n",
    "\n",
    "\n",
    "with open(f\"{output_dir}/povmt_estimation_results_nrep={n_rep}_all.pickle\", \"wb\") as f:\n",
    "    pickle.dump(all_results, f)\n",
    "\n",
    "print(\"Completed.\")"
   ]
  },
  {
   "cell_type": "code",
   "execution_count": null,
   "metadata": {},
   "outputs": [],
   "source": []
  }
 ],
 "metadata": {
  "hide_input": false,
  "kernelspec": {
   "display_name": "quara_venv",
   "language": "python",
   "name": "quara_venv"
  },
  "language_info": {
   "codemirror_mode": {
    "name": "ipython",
    "version": 3
   },
   "file_extension": ".py",
   "mimetype": "text/x-python",
   "name": "python",
   "nbconvert_exporter": "python",
   "pygments_lexer": "ipython3",
   "version": "3.8.0"
  },
  "toc": {
   "base_numbering": 1,
   "nav_menu": {},
   "number_sections": true,
   "sideBar": true,
   "skip_h1_title": false,
   "title_cell": "Table of Contents",
   "title_sidebar": "Contents",
   "toc_cell": false,
   "toc_position": {},
   "toc_section_display": true,
   "toc_window_display": false
  },
  "varInspector": {
   "cols": {
    "lenName": 16,
    "lenType": 16,
    "lenVar": 40
   },
   "kernels_config": {
    "python": {
     "delete_cmd_postfix": "",
     "delete_cmd_prefix": "del ",
     "library": "var_list.py",
     "varRefreshCmd": "print(var_dic_list())"
    },
    "r": {
     "delete_cmd_postfix": ") ",
     "delete_cmd_prefix": "rm(",
     "library": "var_list.r",
     "varRefreshCmd": "cat(var_dic_list()) "
    }
   },
   "types_to_exclude": [
    "module",
    "function",
    "builtin_function_or_method",
    "instance",
    "_Feature"
   ],
   "window_display": false
  }
 },
 "nbformat": 4,
 "nbformat_minor": 4
}
