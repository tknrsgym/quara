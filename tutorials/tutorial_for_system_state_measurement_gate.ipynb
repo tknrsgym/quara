{
 "metadata": {
  "language_info": {
   "codemirror_mode": {
    "name": "ipython",
    "version": 3
   },
   "file_extension": ".py",
   "mimetype": "text/x-python",
   "name": "python",
   "nbconvert_exporter": "python",
   "pygments_lexer": "ipython3",
   "version": "3.8.7"
  },
  "orig_nbformat": 2,
  "kernelspec": {
   "name": "pythonjvsc74a57bd046853efbcfaf24d51a2d058b3851333fe5208d7cf1dd9f790da7ce54269df75e",
   "display_name": "Python 3.8.7 64-bit ('venv': venv)"
  },
  "metadata": {
   "interpreter": {
    "hash": "46853efbcfaf24d51a2d058b3851333fe5208d7cf1dd9f790da7ce54269df75e"
   }
  }
 },
 "nbformat": 4,
 "nbformat_minor": 2,
 "cells": [
  {
   "source": [
    "# Quantum System, State, Measurement, and Gate\n",
    "Here we explain how to treat quatum system, state, measurement, and gate in Quara."
   ],
   "cell_type": "markdown",
   "metadata": {}
  },
  {
   "source": [
    "## Quantum System\n",
    "In Quara, a quantum system is treated by a class, CompositeSystem, which consists of multiple ElementalSystem."
   ],
   "cell_type": "markdown",
   "metadata": {}
  },
  {
   "cell_type": "code",
   "execution_count": 1,
   "metadata": {},
   "outputs": [],
   "source": [
    "from quara.objects.composite_system_typical import generate_composite_system"
   ]
  },
  {
   "cell_type": "code",
   "execution_count": 2,
   "metadata": {},
   "outputs": [
    {
     "output_type": "stream",
     "name": "stdout",
     "text": [
      "type(c_sys)= <class 'quara.objects.composite_system.CompositeSystem'>\n\nc_sys:\n elemental_systems:\n[0] 0 (system_id=4587542032)\n\ndim: 2\nbasis:\n(array([[0.70710678+0.j, 0.        +0.j],\n       [0.        +0.j, 0.70710678+0.j]]), array([[0.        +0.j, 0.70710678+0.j],\n       [0.70710678+0.j, 0.        +0.j]]), array([[0.+0.j        , 0.-0.70710678j],\n       [0.+0.70710678j, 0.+0.j        ]]), array([[ 0.70710678+0.j,  0.        +0.j],\n       [ 0.        +0.j, -0.70710678+0.j]]))\n"
     ]
    }
   ],
   "source": [
    "mode_sys = 'qubit'\n",
    "num_sys = 1\n",
    "c_sys = generate_composite_system(mode=mode_sys, num=num_sys)\n",
    "print('type(c_sys)=', type(c_sys))\n",
    "print('\\nc_sys:\\n',c_sys)"
   ]
  },
  {
   "source": [
    "The composite system includes information of dimension of the system and orthonormal matrix basis on the system."
   ],
   "cell_type": "markdown",
   "metadata": {}
  },
  {
   "source": [
    "## State\n",
    "State is treated by a class State."
   ],
   "cell_type": "markdown",
   "metadata": {}
  },
  {
   "cell_type": "code",
   "execution_count": 3,
   "metadata": {},
   "outputs": [],
   "source": [
    "from quara.objects.qoperation_typical import generate_qoperation"
   ]
  },
  {
   "cell_type": "code",
   "execution_count": 4,
   "metadata": {},
   "outputs": [
    {
     "output_type": "stream",
     "name": "stdout",
     "text": [
      "type(state)= <class 'quara.objects.state.State'>\n\nstate:\n Type:\nState\n\nDim:\n2\n\nVec:\n[0.70710678 0.         0.         0.70710678]\n"
     ]
    }
   ],
   "source": [
    "mode_qoperation = 'state'\n",
    "name_state = 'z0'\n",
    "state = generate_qoperation(mode=mode_qoperation, name=name_state, c_sys=c_sys)\n",
    "print('type(state)=', type(state))\n",
    "print('\\nstate:\\n', state)"
   ]
  },
  {
   "source": [
    "The State class contains the vectorized density matrix with respect to the matrix basis in c_sys."
   ],
   "cell_type": "markdown",
   "metadata": {}
  },
  {
   "source": [
    "## Measurement (POVM)\n",
    "Quantum measurement has two mathematical treatments. One is positive operator-valued measure (POVM), which can describe the effect of quantum measurement on the probability distribution of its measurement outcome only. The other is measurement apparatus, which can describe both of the effect on the probability distribution and states after the measurement. Current version of quara prepare a class for POVM only. A class for measurement apparatus will be added in the near future. "
   ],
   "cell_type": "markdown",
   "metadata": {}
  },
  {
   "cell_type": "code",
   "execution_count": 5,
   "metadata": {},
   "outputs": [
    {
     "output_type": "stream",
     "name": "stdout",
     "text": [
      "type(povm)= <class 'quara.objects.povm.Povm'>\n\npovm:\n Type:\nPovm\n\nDim:\n2\n\nNumber of outcomes:\n2\n\nVecs:\n[[ 0.70710678  0.          0.          0.70710678]\n [ 0.70710678  0.          0.         -0.70710678]]\n"
     ]
    }
   ],
   "source": [
    "mode_qoperation = 'povm'\n",
    "name_povm = 'z'\n",
    "povm = generate_qoperation(mode=mode_qoperation, name=name_povm, c_sys=c_sys)\n",
    "print('type(povm)=', type(povm))\n",
    "print('\\npovm:\\n', povm)"
   ]
  },
  {
   "source": [
    "The Povm class contains the list of vectorized POVM elements with respect to the matrix basis in c_sys."
   ],
   "cell_type": "markdown",
   "metadata": {}
  },
  {
   "source": [
    "## Gate\n",
    "Mathematically a quantum gate is a linear trace-preserving and completely positive (L-TPCP) map on the space of quantum states, and there are several different matrix representations for quantum gate. In Quara, a class Gate is based on the Hilbert-Schmidt matrix representation of a gate with respect to the matrix basis in the CompositeSystem."
   ],
   "cell_type": "markdown",
   "metadata": {}
  },
  {
   "cell_type": "code",
   "execution_count": 6,
   "metadata": {},
   "outputs": [
    {
     "output_type": "stream",
     "name": "stdout",
     "text": [
      "type(gate)= <class 'quara.objects.gate.Gate'>\n\ngate:\n Type:\nGate\n\nDim:\n2\n\nHS:\n[[ 1.  0.  0.  0.]\n [ 0.  0.  0.  1.]\n [ 0.  0. -1.  0.]\n [ 0.  1.  0.  0.]]\n"
     ]
    }
   ],
   "source": [
    "mode_qoperation = 'gate'\n",
    "name_gate = 'hadamard'\n",
    "gate = generate_qoperation(mode=mode_qoperation, name=name_gate, c_sys=c_sys)\n",
    "print('type(gate)=', type(gate))\n",
    "print('\\ngate:\\n', gate)"
   ]
  },
  {
   "cell_type": "code",
   "execution_count": null,
   "metadata": {},
   "outputs": [],
   "source": []
  }
 ]
}