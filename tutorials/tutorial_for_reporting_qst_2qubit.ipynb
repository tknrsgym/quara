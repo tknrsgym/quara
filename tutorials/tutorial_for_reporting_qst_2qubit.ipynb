{
 "cells": [
  {
   "cell_type": "code",
   "execution_count": 1,
   "metadata": {},
   "outputs": [],
   "source": [
    "# State"
   ]
  },
  {
   "cell_type": "code",
   "execution_count": 2,
   "metadata": {},
   "outputs": [],
   "source": [
    "import pickle\n",
    "import time\n",
    "from typing import List\n",
    "import datetime as dt\n",
    "from pathlib import Path\n",
    "import itertools\n",
    "\n",
    "import numpy as np\n",
    "import pandas as pd\n",
    "import plotly.graph_objects as go\n",
    "import plotly.express as px\n",
    "\n",
    "from tqdm import tqdm\n",
    "\n",
    "from quara.data_analysis import data_analysis, physicality_violation_check, report\n",
    "from quara.data_analysis.projected_gradient_descent_backtracking import ProjectedGradientDescentBacktracking, ProjectedGradientDescentBacktrackingOption\n",
    "from quara.data_analysis.weighted_probability_based_squared_error import WeightedProbabilityBasedSquaredError, WeightedProbabilityBasedSquaredErrorOption\n",
    "from quara.data_analysis.weighted_relative_entropy import WeightedRelativeEntropy, WeightedRelativeEntropyOption\n",
    "from quara.objects.composite_system import CompositeSystem\n",
    "from quara.objects.elemental_system import ElementalSystem\n",
    "from quara.objects.matrix_basis import get_normalized_pauli_basis\n",
    "from quara.objects.povm import (\n",
    "    Povm,\n",
    "    get_x_measurement,\n",
    "    get_y_measurement,\n",
    "    get_z_measurement,\n",
    ")\n",
    "from quara.objects.qoperation import QOperation\n",
    "from quara.objects.state import State, get_z0_1q, get_z1_1q, get_x0_1q\n",
    "from quara.protocol.qtomography.standard.standard_qst import StandardQst\n",
    "from quara.protocol.qtomography.standard.linear_estimator import LinearEstimator\n",
    "from quara.protocol.qtomography.standard.loss_minimization_estimator import LossMinimizationEstimator\n",
    "from quara.protocol.qtomography.standard.projected_linear_estimator import (\n",
    "    ProjectedLinearEstimator,\n",
    ")\n",
    "from quara.objects.operators import tensor_product\n",
    "\n",
    "from quara.data_analysis.simulation import SimulationSetting"
   ]
  },
  {
   "cell_type": "code",
   "execution_count": 3,
   "metadata": {},
   "outputs": [],
   "source": [
    "%reload_ext autoreload\n",
    "%autoreload 2"
   ]
  },
  {
   "cell_type": "code",
   "execution_count": 4,
   "metadata": {},
   "outputs": [],
   "source": [
    "start_all = time.time()"
   ]
  },
  {
   "cell_type": "code",
   "execution_count": 5,
   "metadata": {},
   "outputs": [],
   "source": [
    "# setup system\n",
    "e_sys_1 = ElementalSystem(0, get_normalized_pauli_basis())\n",
    "c_sys_1 = CompositeSystem([e_sys_1])\n",
    "\n",
    "e_sys_2 = ElementalSystem(1, get_normalized_pauli_basis())\n",
    "c_sys_2 = CompositeSystem([e_sys_2])\n",
    "\n",
    "tester_objects = []\n",
    "\n",
    "func_list = [get_x_measurement, get_y_measurement, get_z_measurement]\n",
    "\n",
    "for i, funcs in enumerate(itertools.product(func_list, func_list)):\n",
    "    povm1 = funcs[0](c_sys_1)\n",
    "    povm2 = funcs[1](c_sys_2)\n",
    "    \n",
    "    povm_2qubit = tensor_product(povm1, povm2)\n",
    "    tester_objects.append(povm_2qubit)"
   ]
  },
  {
   "cell_type": "code",
   "execution_count": 6,
   "metadata": {},
   "outputs": [],
   "source": [
    "# |0><0|\n",
    "true_object = tensor_product(get_z0_1q(c_sys_1), get_z0_1q(c_sys_2))"
   ]
  },
  {
   "cell_type": "code",
   "execution_count": 7,
   "metadata": {},
   "outputs": [
    {
     "output_type": "execute_result",
     "data": {
      "text/plain": [
       "array([1.+0.j, 0.+0.j, 0.+0.j, 0.+0.j])"
      ]
     },
     "metadata": {},
     "execution_count": 7
    }
   ],
   "source": [
    "true_object.calc_eigenvalues()"
   ]
  },
  {
   "cell_type": "code",
   "execution_count": 8,
   "metadata": {
    "tags": []
   },
   "outputs": [
    {
     "output_type": "stream",
     "name": "stderr",
     "text": [
      "100%|██████████| 2/2 [00:00<00:00,  4.23it/s]\n",
      "  0%|          | 0/2 [00:00<?, ?it/s]Name: Linear(True)\n",
      "Estimator: LinearEstimator\n",
      "Loss: None\n",
      "Algo: None\n",
      "elapsed_time: 0.008116650581359863[min]\n",
      "\n",
      "100%|██████████| 2/2 [00:00<00:00,  3.57it/s]\n",
      "  0%|          | 0/2 [00:00<?, ?it/s]Name: Linear(False)\n",
      "Estimator: LinearEstimator\n",
      "Loss: None\n",
      "Algo: None\n",
      "elapsed_time: 0.009400002161661784[min]\n",
      "\n",
      "100%|██████████| 2/2 [00:03<00:00,  1.59s/it]\n",
      "  0%|          | 0/2 [00:00<?, ?it/s]Name: ProjectedLinear(True)\n",
      "Estimator: ProjectedLinearEstimator\n",
      "Loss: None\n",
      "Algo: None\n",
      "elapsed_time: 0.05301666259765625[min]\n",
      "\n",
      "100%|██████████| 2/2 [00:05<00:00,  2.90s/it]Name: ProjectedLinear(False)\n",
      "Estimator: ProjectedLinearEstimator\n",
      "Loss: None\n",
      "Algo: None\n",
      "elapsed_time: 0.09665005207061768[min]\n",
      "\n",
      "\n"
     ]
    }
   ],
   "source": [
    "num_data = [100, 1000, 10000]\n",
    "# n_rep = 100\n",
    "n_rep = 2\n",
    "\n",
    "case_name_list = [\n",
    "    \"Linear(True)\",\n",
    "    \"Linear(False)\",\n",
    "    \"ProjectedLinear(True)\",\n",
    "    \"ProjectedLinear(False)\"\n",
    "]\n",
    "\n",
    "seed = 777\n",
    "qtomography_list = [\n",
    "    StandardQst(tester_objects, on_para_eq_constraint=True, seed=seed),\n",
    "    StandardQst(tester_objects, on_para_eq_constraint=False, seed=seed),\n",
    "    StandardQst(tester_objects, on_para_eq_constraint=True, seed=seed),\n",
    "    StandardQst(tester_objects, on_para_eq_constraint=False, seed=seed)]\n",
    "para_list = [\n",
    "    True,\n",
    "    False,\n",
    "    True,\n",
    "    False,\n",
    "]\n",
    "\n",
    "estimator_list = [\n",
    "    LinearEstimator(),\n",
    "    LinearEstimator(),\n",
    "    ProjectedLinearEstimator(),\n",
    "    ProjectedLinearEstimator(),]\n",
    "\n",
    "estimation_results_list = []\n",
    "elapsed_times = []\n",
    "simulation_settings = []\n",
    "\n",
    "for i, name in enumerate(case_name_list):\n",
    "    qtomography = qtomography_list[i]\n",
    "    estimator = estimator_list[i]\n",
    "\n",
    "    start = time.time()\n",
    "\n",
    "    estimation_results = data_analysis.estimate(\n",
    "        qtomography=qtomography,\n",
    "        true_object=true_object,\n",
    "        num_data=num_data,\n",
    "        estimator=estimator,\n",
    "        iteration=n_rep,\n",
    "    )\n",
    "\n",
    "    # stock settings of this simulation\n",
    "    simulation_setting = SimulationSetting(\n",
    "        name=name,\n",
    "        estimator=estimator\n",
    "    )\n",
    "    print(simulation_setting)\n",
    "    simulation_settings.append(simulation_setting)\n",
    "\n",
    "    estimation_results_list.append(estimation_results)\n",
    "\n",
    "    elapsed_time = time.time() - start\n",
    "    print(\"elapsed_time: {0}\".format(elapsed_time / 60) + \"[min]\\n\")\n",
    "    elapsed_times.append(elapsed_time)"
   ]
  },
  {
   "cell_type": "code",
   "execution_count": 9,
   "metadata": {
    "scrolled": false
   },
   "outputs": [
    {
     "output_type": "stream",
     "name": "stdout",
     "text": [
      "​Generating table of computation time ...\n",
      "​Generating table of experimental conditions ...\n",
      "Generating case list ...\n",
      "​​Generating MSE of empirical distributions blocks ...\n",
      "100%|██████████| 2/2 [00:00<?, ?it/s]\n",
      "100%|██████████| 2/2 [00:00<00:00, 2003.01it/s]\n",
      "100%|██████████| 2/2 [00:00<00:00, 1000.31it/s]\n",
      "​​Generating consictency test blocks ...\n",
      "​Generating a graph for MSE ...\n",
      "  Linear(True)=[0.026266666666666962, 0.0030808888888888496, 0.00010473333333334343]\n",
      "  Linear(False)=[0.021099999999999963, 0.0024891111111111155, 0.000287905555555558]\n",
      "  ProjectedLinear(True)=[0.01382077211372456, 0.0030640260515698856, 0.00029379182885952773]\n",
      "  ProjectedLinear(False)=[0.010107085051013744, 0.0008938435069973268, 0.0002987780056118095]\n",
      "{'make_graphs_func': <function make_mses_graphs_estimator at 0x000001EDBB724B70>, 'mse_type': 'estimator', 'estimation_results_list': [[<quara.protocol.qtomography.standard.linear_estimator.LinearEstimationResult object at 0x000001EDBC08AA20>, <quara.protocol.qtomography.standard.linear_estimator.LinearEstimationResult object at 0x000001EDBC08A908>], [<quara.protocol.qtomography.standard.linear_estimator.LinearEstimationResult object at 0x000001EDBC08ADA0>, <quara.protocol.qtomography.standard.linear_estimator.LinearEstimationResult object at 0x000001EDBC08AD30>], [<quara.protocol.qtomography.standard.projected_linear_estimator.ProjectedLinearEstimationResult object at 0x000001EDBC08AF60>, <quara.protocol.qtomography.standard.projected_linear_estimator.ProjectedLinearEstimationResult object at 0x000001EDBC08AFD0>], [<quara.protocol.qtomography.standard.projected_linear_estimator.ProjectedLinearEstimationResult object at 0x000001EDBE0BA7F0>, <quara.protocol.qtomography.standard.projected_linear_estimator.ProjectedLinearEstimationResult object at 0x000001EDBE0BA358>]], 'simulation_settings': [<quara.data_analysis.simulation.SimulationSetting object at 0x000001EDBC08ABA8>, <quara.data_analysis.simulation.SimulationSetting object at 0x000001EDBC08ACC0>, <quara.data_analysis.simulation.SimulationSetting object at 0x000001EDBC08AC88>, <quara.data_analysis.simulation.SimulationSetting object at 0x000001EDBE0D83C8>], 'true_object': <quara.objects.state.State object at 0x000001EDBC037A90>}\n",
      "  Linear(True)=[0.026266666666666962, 0.0030808888888888496, 0.00010473333333334343]\n",
      "  ProjectedLinear(True)=[0.01382077211372456, 0.0030640260515698856, 0.00029379182885952773]\n",
      "  Linear(False)=[0.021099999999999963, 0.0024891111111111155, 0.000287905555555558]\n",
      "  ProjectedLinear(False)=[0.010107085051013744, 0.0008938435069973268, 0.0002987780056118095]\n",
      "{'make_graphs_func': <function make_mses_graphs_para at 0x000001EDBB724AE8>, 'mse_type': 'para', 'estimation_results_list': [[<quara.protocol.qtomography.standard.linear_estimator.LinearEstimationResult object at 0x000001EDBC08AA20>, <quara.protocol.qtomography.standard.linear_estimator.LinearEstimationResult object at 0x000001EDBC08A908>], [<quara.protocol.qtomography.standard.linear_estimator.LinearEstimationResult object at 0x000001EDBC08ADA0>, <quara.protocol.qtomography.standard.linear_estimator.LinearEstimationResult object at 0x000001EDBC08AD30>], [<quara.protocol.qtomography.standard.projected_linear_estimator.ProjectedLinearEstimationResult object at 0x000001EDBC08AF60>, <quara.protocol.qtomography.standard.projected_linear_estimator.ProjectedLinearEstimationResult object at 0x000001EDBC08AFD0>], [<quara.protocol.qtomography.standard.projected_linear_estimator.ProjectedLinearEstimationResult object at 0x000001EDBE0BA7F0>, <quara.protocol.qtomography.standard.projected_linear_estimator.ProjectedLinearEstimationResult object at 0x000001EDBE0BA358>]], 'case_names': ['Linear(True)', 'Linear(False)', 'ProjectedLinear(True)', 'ProjectedLinear(False)'], 'true_object': <quara.objects.state.State object at 0x000001EDBC037A90>}\n",
      "​​Generating physicality violation test blocks ...\n",
      "100%|██████████| 2/2 [00:00<00:00, 499.86it/s]\n",
      "100%|██████████| 2/2 [00:00<00:00, 499.86it/s]\n",
      "100%|██████████| 2/2 [00:00<00:00, 499.47it/s]\n",
      "100%|██████████| 2/2 [00:00<00:00, 285.74it/s]\n",
      "100%|██████████| 2/2 [00:00<00:00, 400.09it/s]\n",
      "100%|██████████| 2/2 [00:00<00:00, 399.91it/s]\n",
      "100%|██████████| 2/2 [00:00<00:00, 499.35it/s]\n",
      "100%|██████████| 2/2 [00:00<00:00, 399.93it/s]\n",
      "100%|██████████| 2/2 [00:00<00:00, 399.93it/s]\n",
      "100%|██████████| 2/2 [00:00<00:00, 399.97it/s]\n",
      "100%|██████████| 2/2 [00:00<00:00, 499.86it/s]\n",
      "100%|██████████| 2/2 [00:00<00:00, 499.92it/s]\n",
      "100%|██████████| 2/2 [00:00<00:00, 665.87it/s]\n",
      "100%|██████████| 2/2 [00:00<00:00, 666.40it/s]\n",
      "100%|██████████| 2/2 [00:00<00:00, 499.83it/s]\n",
      "100%|██████████| 2/2 [00:00<00:00, 499.80it/s]\n",
      "100%|██████████| 2/2 [00:00<00:00, 665.76it/s]\n",
      "100%|██████████| 2/2 [00:00<00:00, 399.08it/s]\n",
      "100%|██████████| 2/2 [00:00<00:00, 499.92it/s]\n",
      "100%|██████████| 2/2 [00:00<00:00, 499.77it/s]\n",
      "100%|██████████| 2/2 [00:00<00:00, 666.77it/s]\n",
      "100%|██████████| 2/2 [00:00<00:00, 500.33it/s]\n",
      "100%|██████████| 2/2 [00:00<00:00, 399.90it/s]\n",
      "100%|██████████| 2/2 [00:00<00:00, 285.73it/s]\n",
      "Converting to PDF report ...\n",
      "​Deleting temporary files ...\n",
      "Completed to export pdf. (qst_sample_2qubit.pdf)\n"
     ]
    }
   ],
   "source": [
    "report.export_report(\"qst_sample_2qubit.pdf\",\n",
    "    estimation_results_list=estimation_results_list,   # 「EstimationResultのリスト」のリスト\n",
    "    simulation_settings=simulation_settings,\n",
    "    true_object=true_object,  # True Object\n",
    "    tester_objects = tester_objects,   # Tester Objectのリスト.\n",
    "    seed=seed,  # 推定で使ったseed（オプション）\n",
    "    computation_time=sum(elapsed_times) # 処理時間の合計（オプション）\n",
    ")"
   ]
  },
  {
   "cell_type": "code",
   "execution_count": null,
   "metadata": {},
   "outputs": [],
   "source": []
  }
 ],
 "metadata": {
  "hide_input": false,
  "kernelspec": {
   "name": "python3",
   "display_name": "Python 3.6.8 64-bit ('venv')",
   "metadata": {
    "interpreter": {
     "hash": "d216afbb33f4efcd5c20872258da433cba53074bc31b2230e285de32a441ce5f"
    }
   }
  },
  "language_info": {
   "codemirror_mode": {
    "name": "ipython",
    "version": 3
   },
   "file_extension": ".py",
   "mimetype": "text/x-python",
   "name": "python",
   "nbconvert_exporter": "python",
   "pygments_lexer": "ipython3",
   "version": "3.6.8-final"
  },
  "toc": {
   "base_numbering": 1,
   "nav_menu": {},
   "number_sections": true,
   "sideBar": true,
   "skip_h1_title": false,
   "title_cell": "Table of Contents",
   "title_sidebar": "Contents",
   "toc_cell": false,
   "toc_position": {},
   "toc_section_display": true,
   "toc_window_display": false
  },
  "varInspector": {
   "cols": {
    "lenName": 16,
    "lenType": 16,
    "lenVar": 40
   },
   "kernels_config": {
    "python": {
     "delete_cmd_postfix": "",
     "delete_cmd_prefix": "del ",
     "library": "var_list.py",
     "varRefreshCmd": "print(var_dic_list())"
    },
    "r": {
     "delete_cmd_postfix": ") ",
     "delete_cmd_prefix": "rm(",
     "library": "var_list.r",
     "varRefreshCmd": "cat(var_dic_list()) "
    }
   },
   "types_to_exclude": [
    "module",
    "function",
    "builtin_function_or_method",
    "instance",
    "_Feature"
   ],
   "window_display": false
  }
 },
 "nbformat": 4,
 "nbformat_minor": 4
}