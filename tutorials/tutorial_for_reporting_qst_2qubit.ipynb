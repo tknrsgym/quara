{
 "cells": [
  {
   "cell_type": "code",
   "execution_count": 1,
   "metadata": {},
   "outputs": [],
   "source": [
    "# State"
   ]
  },
  {
   "cell_type": "code",
   "execution_count": 5,
   "metadata": {},
   "outputs": [],
   "source": [
    "import pickle\n",
    "import time\n",
    "from typing import List\n",
    "import datetime as dt\n",
    "from pathlib import Path\n",
    "import itertools\n",
    "\n",
    "import numpy as np\n",
    "import pandas as pd\n",
    "import plotly.graph_objects as go\n",
    "import plotly.express as px\n",
    "\n",
    "from tqdm import tqdm\n",
    "\n",
    "from quara.data_analysis import data_analysis, physicality_violation_check, report\n",
    "from quara.data_analysis.projected_gradient_descent_base import ProjectedGradientDescentBase, ProjectedGradientDescentBaseOption\n",
    "from quara.data_analysis.weighted_probability_based_squared_error import WeightedProbabilityBasedSquaredError, WeightedProbabilityBasedSquaredErrorOption\n",
    "from quara.data_analysis.weighted_relative_entropy import WeightedRelativeEntropy, WeightedRelativeEntropyOption\n",
    "from quara.objects.composite_system import CompositeSystem\n",
    "from quara.objects.elemental_system import ElementalSystem\n",
    "from quara.objects.matrix_basis import get_normalized_pauli_basis\n",
    "from quara.objects.povm import (\n",
    "    Povm,\n",
    "    get_x_measurement,\n",
    "    get_y_measurement,\n",
    "    get_z_measurement,\n",
    ")\n",
    "from quara.objects.qoperation import QOperation\n",
    "from quara.objects.state import State, get_z0_1q, get_z1_1q, get_x0_1q\n",
    "from quara.protocol.qtomography.standard.standard_qst import StandardQst\n",
    "from quara.protocol.qtomography.standard.linear_estimator import LinearEstimator\n",
    "from quara.protocol.qtomography.standard.loss_minimization_estimator import LossMinimizationEstimator\n",
    "from quara.protocol.qtomography.standard.projected_linear_estimator import (\n",
    "    ProjectedLinearEstimator,\n",
    ")\n",
    "from quara.objects.operators import tensor_product\n",
    "\n",
    "from quara.data_analysis.simulation import SimulationSetting"
   ]
  },
  {
   "cell_type": "code",
   "execution_count": 6,
   "metadata": {},
   "outputs": [],
   "source": [
    "%reload_ext autoreload\n",
    "%autoreload 2"
   ]
  },
  {
   "cell_type": "code",
   "execution_count": 7,
   "metadata": {},
   "outputs": [],
   "source": [
    "start_all = time.time()"
   ]
  },
  {
   "cell_type": "code",
   "execution_count": 8,
   "metadata": {},
   "outputs": [],
   "source": [
    "# setup system\n",
    "e_sys_1 = ElementalSystem(0, get_normalized_pauli_basis())\n",
    "c_sys_1 = CompositeSystem([e_sys_1])\n",
    "\n",
    "e_sys_2 = ElementalSystem(1, get_normalized_pauli_basis())\n",
    "c_sys_2 = CompositeSystem([e_sys_2])\n",
    "\n",
    "tester_objects = []\n",
    "\n",
    "func_list = [get_x_measurement, get_y_measurement, get_z_measurement]\n",
    "\n",
    "for i, funcs in enumerate(itertools.product(func_list, func_list)):\n",
    "    povm1 = funcs[0](c_sys_1)\n",
    "    povm2 = funcs[1](c_sys_2)\n",
    "    \n",
    "    povm_2qubit = tensor_product(povm1, povm2)\n",
    "    tester_objects.append(povm_2qubit)"
   ]
  },
  {
   "cell_type": "code",
   "execution_count": 9,
   "metadata": {},
   "outputs": [],
   "source": [
    "# |0><0|\n",
    "true_object = tensor_product(get_z0_1q(c_sys_1), get_z0_1q(c_sys_2))"
   ]
  },
  {
   "cell_type": "code",
   "execution_count": 11,
   "metadata": {
    "tags": []
   },
   "outputs": [
    {
     "name": "stderr",
     "output_type": "stream",
     "text": [
      "100%|██████████| 2/2 [00:00<00:00,  3.45it/s]\n",
      "  0%|          | 0/2 [00:00<?, ?it/s]"
     ]
    },
    {
     "name": "stdout",
     "output_type": "stream",
     "text": [
      "Name: Linear(True)\n",
      "Estimator: LinearEstimator\n",
      "Loss: None\n",
      "Algo: None\n",
      "elapsed_time: 0.01010581652323405[min]\n",
      "\n"
     ]
    },
    {
     "name": "stderr",
     "output_type": "stream",
     "text": [
      "100%|██████████| 2/2 [00:00<00:00,  3.20it/s]\n",
      "  0%|          | 0/2 [00:00<?, ?it/s]"
     ]
    },
    {
     "name": "stdout",
     "output_type": "stream",
     "text": [
      "Name: Linear(False)\n",
      "Estimator: LinearEstimator\n",
      "Loss: None\n",
      "Algo: None\n",
      "elapsed_time: 0.010506053765614828[min]\n",
      "\n"
     ]
    },
    {
     "name": "stderr",
     "output_type": "stream",
     "text": [
      "100%|██████████| 2/2 [00:03<00:00,  1.77s/it]\n",
      "  0%|          | 0/2 [00:00<?, ?it/s]"
     ]
    },
    {
     "name": "stdout",
     "output_type": "stream",
     "text": [
      "Name: ProjectedLinear(True)\n",
      "Estimator: ProjectedLinearEstimator\n",
      "Loss: None\n",
      "Algo: None\n",
      "elapsed_time: 0.05901916821797689[min]\n",
      "\n"
     ]
    },
    {
     "name": "stderr",
     "output_type": "stream",
     "text": [
      "100%|██████████| 2/2 [00:03<00:00,  1.89s/it]"
     ]
    },
    {
     "name": "stdout",
     "output_type": "stream",
     "text": [
      "Name: ProjectedLinear(False)\n",
      "Estimator: ProjectedLinearEstimator\n",
      "Loss: None\n",
      "Algo: None\n",
      "elapsed_time: 0.06301323572794597[min]\n",
      "\n"
     ]
    },
    {
     "name": "stderr",
     "output_type": "stream",
     "text": [
      "\n"
     ]
    }
   ],
   "source": [
    "num_data = [100, 1000]\n",
    "n_rep = 2\n",
    "\n",
    "case_name_list = [\n",
    "    \"Linear(True)\",\n",
    "    \"Linear(False)\",\n",
    "    \"ProjectedLinear(True)\",\n",
    "    \"ProjectedLinear(False)\"\n",
    "]\n",
    "\n",
    "seed = 777\n",
    "qtomography_list = [\n",
    "    StandardQst(tester_objects, on_para_eq_constraint=True, seed=seed),\n",
    "    StandardQst(tester_objects, on_para_eq_constraint=False, seed=seed),\n",
    "    StandardQst(tester_objects, on_para_eq_constraint=True, seed=seed),\n",
    "    StandardQst(tester_objects, on_para_eq_constraint=False, seed=seed)]\n",
    "para_list = [\n",
    "    True,\n",
    "    False,\n",
    "    True,\n",
    "    False,\n",
    "]\n",
    "\n",
    "estimator_list = [\n",
    "    LinearEstimator(),\n",
    "    LinearEstimator(),\n",
    "    ProjectedLinearEstimator(),\n",
    "    ProjectedLinearEstimator(),]\n",
    "\n",
    "estimation_results_list = []\n",
    "elapsed_times = []\n",
    "simulation_settings = []\n",
    "\n",
    "for i, name in enumerate(case_name_list):\n",
    "    qtomography = qtomography_list[i]\n",
    "    estimator = estimator_list[i]\n",
    "\n",
    "    start = time.time()\n",
    "\n",
    "    estimation_results = data_analysis.estimate(\n",
    "        qtomography=qtomography,\n",
    "        true_object=true_object,\n",
    "        num_data=num_data,\n",
    "        estimator=estimator,\n",
    "        iteration=n_rep,\n",
    "    )\n",
    "\n",
    "    # stock settings of this simulation\n",
    "    simulation_setting = SimulationSetting(\n",
    "        name=name,\n",
    "        estimator=estimator\n",
    "    )\n",
    "    print(simulation_setting)\n",
    "    simulation_settings.append(simulation_setting)\n",
    "\n",
    "    estimation_results_list.append(estimation_results)\n",
    "\n",
    "    elapsed_time = time.time() - start\n",
    "    print(\"elapsed_time: {0}\".format(elapsed_time / 60) + \"[min]\\n\")\n",
    "    elapsed_times.append(elapsed_time)"
   ]
  },
  {
   "cell_type": "code",
   "execution_count": null,
   "metadata": {},
   "outputs": [],
   "source": [
    "path = \"output_qst_2qubit_nrep=1000/qst_2qubit_estimation_results_nrep=1000_all.pickle\"\n",
    "with open(path, 'rb') as f:\n",
    "    all_results = pickle.load(f)"
   ]
  },
  {
   "cell_type": "code",
   "execution_count": 15,
   "metadata": {
    "scrolled": false
   },
   "outputs": [
    {
     "name": "stderr",
     "output_type": "stream",
     "text": [
      "100%|██████████| 2/2 [00:00<00:00, 1890.18it/s]\n",
      "100%|██████████| 2/2 [00:00<00:00, 1893.59it/s]\n",
      "100%|██████████| 2/2 [00:00<00:00, 1730.32it/s]"
     ]
    },
    {
     "name": "stdout",
     "output_type": "stream",
     "text": [
      "​Generating table of computation time ...\n",
      "​Generating table of experimental conditions ...\n",
      "Generating case list ...\n",
      "​​Generating MSE of empirical distributions blocks ...\n"
     ]
    },
    {
     "name": "stderr",
     "output_type": "stream",
     "text": [
      "\n"
     ]
    },
    {
     "name": "stdout",
     "output_type": "stream",
     "text": [
      "​​Generating consictency test blocks ...\n",
      "​Generating a graph for MSE ...\n",
      "  Linear(True)=[0.0262666666666667, 0.0030808888888888934, 0.00010473333333333365]\n",
      "  Linear(False)=[0.021100000000000008, 0.0024891111111111142, 0.00028790555555555553]\n",
      "  ProjectedLinear(True)=[0.013820772113724532, 0.003064026051569912, 0.000293791828859507]\n",
      "  ProjectedLinear(False)=[0.010107085051013792, 0.0008938435069973391, 0.0002987780056118203]\n",
      "  Linear(True)=[0.0262666666666667, 0.0030808888888888934, 0.00010473333333333365]\n",
      "  ProjectedLinear(True)=[0.013820772113724532, 0.003064026051569912, 0.000293791828859507]\n",
      "  Linear(False)=[0.021100000000000008, 0.0024891111111111142, 0.00028790555555555553]\n",
      "  ProjectedLinear(False)=[0.010107085051013792, 0.0008938435069973391, 0.0002987780056118203]\n",
      "​​Generating physicality violation test blocks ...\n"
     ]
    },
    {
     "name": "stderr",
     "output_type": "stream",
     "text": [
      "100%|██████████| 2/2 [00:00<00:00, 342.36it/s]\n",
      "100%|██████████| 2/2 [00:00<00:00, 435.91it/s]\n",
      "100%|██████████| 2/2 [00:00<00:00, 340.31it/s]\n",
      "100%|██████████| 2/2 [00:00<00:00, 279.64it/s]\n",
      "100%|██████████| 2/2 [00:00<00:00, 321.24it/s]\n",
      "100%|██████████| 2/2 [00:00<00:00, 274.80it/s]\n",
      "100%|██████████| 2/2 [00:00<00:00, 227.92it/s]\n",
      "100%|██████████| 2/2 [00:00<00:00, 284.82it/s]\n",
      "100%|██████████| 2/2 [00:00<00:00, 309.30it/s]\n",
      "100%|██████████| 2/2 [00:00<00:00, 282.17it/s]\n",
      "100%|██████████| 2/2 [00:00<00:00, 314.75it/s]\n",
      "100%|██████████| 2/2 [00:00<00:00, 277.39it/s]\n",
      "100%|██████████| 2/2 [00:00<00:00, 276.90it/s]\n",
      "100%|██████████| 2/2 [00:00<00:00, 272.00it/s]\n",
      "100%|██████████| 2/2 [00:00<00:00, 249.79it/s]\n",
      "100%|██████████| 2/2 [00:00<00:00, 311.77it/s]\n",
      "100%|██████████| 2/2 [00:00<00:00, 305.52it/s]\n",
      "100%|██████████| 2/2 [00:00<00:00, 288.76it/s]\n",
      "100%|██████████| 2/2 [00:00<00:00, 395.97it/s]\n",
      "100%|██████████| 2/2 [00:00<00:00, 322.87it/s]\n",
      "100%|██████████| 2/2 [00:00<00:00, 342.81it/s]\n",
      "100%|██████████| 2/2 [00:00<00:00, 305.99it/s]\n",
      "100%|██████████| 2/2 [00:00<00:00, 376.98it/s]\n",
      "100%|██████████| 2/2 [00:00<00:00, 297.96it/s]\n"
     ]
    },
    {
     "name": "stdout",
     "output_type": "stream",
     "text": [
      "Converting to PDF report ...\n",
      "​Deleting temporary files ...\n",
      "Completed to export pdf. (qst_sample_2qubit.pdf)\n"
     ]
    }
   ],
   "source": [
    "report.export_report(\"qst_2qubit.pdf\",\n",
    "    estimation_results_list=estimation_results_list,   # 「EstimationResultのリスト」のリスト\n",
    "    simulation_settings = simulation_settings,\n",
    "    true_object=true_object,  # True Object\n",
    "    tester_objects = tester_objects,   # Tester Objectのリスト.\n",
    "    seed=seed,  # 推定で使ったseed（オプション）\n",
    "    computation_time=sum(elapsed_times) # 処理時間の合計（オプション）\n",
    ")"
   ]
  },
  {
   "cell_type": "code",
   "execution_count": null,
   "metadata": {},
   "outputs": [],
   "source": []
  }
 ],
 "metadata": {
  "hide_input": false,
  "kernelspec": {
   "display_name": "quara_venv",
   "language": "python",
   "name": "quara_venv"
  },
  "language_info": {
   "codemirror_mode": {
    "name": "ipython",
    "version": 3
   },
   "file_extension": ".py",
   "mimetype": "text/x-python",
   "name": "python",
   "nbconvert_exporter": "python",
   "pygments_lexer": "ipython3",
   "version": "3.8.0"
  },
  "toc": {
   "base_numbering": 1,
   "nav_menu": {},
   "number_sections": true,
   "sideBar": true,
   "skip_h1_title": false,
   "title_cell": "Table of Contents",
   "title_sidebar": "Contents",
   "toc_cell": false,
   "toc_position": {},
   "toc_section_display": true,
   "toc_window_display": false
  },
  "varInspector": {
   "cols": {
    "lenName": 16,
    "lenType": 16,
    "lenVar": 40
   },
   "kernels_config": {
    "python": {
     "delete_cmd_postfix": "",
     "delete_cmd_prefix": "del ",
     "library": "var_list.py",
     "varRefreshCmd": "print(var_dic_list())"
    },
    "r": {
     "delete_cmd_postfix": ") ",
     "delete_cmd_prefix": "rm(",
     "library": "var_list.r",
     "varRefreshCmd": "cat(var_dic_list()) "
    }
   },
   "types_to_exclude": [
    "module",
    "function",
    "builtin_function_or_method",
    "instance",
    "_Feature"
   ],
   "window_display": false
  }
 },
 "nbformat": 4,
 "nbformat_minor": 4
}
