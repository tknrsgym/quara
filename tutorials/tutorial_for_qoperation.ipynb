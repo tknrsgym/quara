{
 "metadata": {
  "language_info": {
   "codemirror_mode": {
    "name": "ipython",
    "version": 3
   },
   "file_extension": ".py",
   "mimetype": "text/x-python",
   "name": "python",
   "nbconvert_exporter": "python",
   "pygments_lexer": "ipython3",
   "version": "3.7.7-final"
  },
  "orig_nbformat": 2,
  "kernelspec": {
   "name": "python3",
   "display_name": "Python 3",
   "language": "python"
  }
 },
 "nbformat": 4,
 "nbformat_minor": 2,
 "cells": [
  {
   "source": [
    "# Qoperation objects\n",
    "This notebook describes the concept of Qoperation in Quara and the related classes.\n",
    "\n",
    "Quara supports operations such as State, Gate, Povm, etc.\n",
    "These operations is called objects in Quara.\n",
    "Two methods to generate objects.\n",
    "- The typical objects can be generated from a module called xxx_typical. (\"xxx\" is a object name.)\n",
    "- Users can also generate objects directly.\n"
   ],
   "cell_type": "markdown",
   "metadata": {}
  },
  {
   "source": [
    "## Qoperation\n",
    "Qoperation is the base class of these operations and has common properties and functions."
   ],
   "cell_type": "markdown",
   "metadata": {}
  },
  {
   "source": [
    "The common properties are as follows:\n",
    "\n",
    "- `is_physicality_required` - If this is True, this object must satisfy the physicality.\n",
    "- `is_estimation_object` - If this is True, this object is for estimation.\n",
    "- `on_para_eq_constraint` - If this is True, functions and algorithms work on the assumption that the parameters of this object satisfy the equality constraint. \n",
    "- `on_algo_eq_constraint` - If this is True, estimation algorithms use equality constraint. \n",
    "- `on_algo_ineq_constraint` - If this is True, estimation algorithms use inequality constraint. \n",
    "- `mode_proj_order` - the order in which the projection are performed, by default \"eq_ineq\".\n",
    "   - \"eq_ineq\" - The projection are performed in the order of equality constraints, followed by inequality constraints.\n",
    "   - \"ineq_eq\" - The projection are performed in the order of inequality constraints, followed by equality constraints.\n",
    "- `eps_proj_physical` - Epsiron that is projection algorithm error threshold for being physical.\n",
    "- `eps_truncate_imaginary_part` - The threshold to truncate imaginary part."
   ],
   "cell_type": "markdown",
   "metadata": {}
  },
  {
   "cell_type": "code",
   "execution_count": 5,
   "metadata": {},
   "outputs": [
    {
     "output_type": "stream",
     "name": "stdout",
     "text": [
      "True\nTrue\nTrue\nTrue\nTrue\neq_ineq\n1e-14\nNone\n"
     ]
    }
   ],
   "source": [
    "from quara.objects.composite_system_typical import generate_composite_system\n",
    "from quara.objects.qoperation import QOperation\n",
    "\n",
    "c_sys = generate_composite_system(\"qubit\", 1)\n",
    "qoperation = QOperation(c_sys)\n",
    "\n",
    "print(qoperation.is_physicality_required)\n",
    "print(qoperation.is_estimation_object)\n",
    "print(qoperation.on_para_eq_constraint)\n",
    "print(qoperation.on_algo_eq_constraint)\n",
    "print(qoperation.on_algo_ineq_constraint)\n",
    "print(qoperation.mode_proj_order)\n",
    "print(qoperation.eps_proj_physical)\n",
    "print(qoperation.eps_truncate_imaginary_part)"
   ]
  },
  {
   "source": [
    "QOperation has functions to check properties.\n",
    "\n",
    "- is_eq_constraint_satisfied - Whether the qoperation is satisfied equality constraints.\n",
    "- is_ineq_constraint_satisfied - Whether the qoperation is satisfied inequality constraints.\n",
    "- is_physical - Whether the qoperation is satisfied equality and inequality constraints.\n",
    "\n",
    "is_eq_constraint_satisfied and is_ineq_constraint_satisfied are abstract functions and are implemented in a subclasses."
   ],
   "cell_type": "markdown",
   "metadata": {}
  },
  {
   "source": [
    "QOperation has projection functions.\n",
    "\n",
    "- calc_proj_eq_constraint - Calculates the projection of QOperation on equal constraint.\n",
    "- calc_proj_ineq_constraint - Calculates the projection of QOperation on inequal constraint.\n",
    "- calc_proj_physical - Calculates the projection of QOperation on equal and inequal constraint.\n",
    "- calc_proj_physical_with_var - Executes the algorithm of calc_proj_physical using variables. This functions is faster than calc_proj_physical.\n",
    "\n",
    "calc_proj_physical and calc_proj_physical_with_var calculate the projection in the order specified by `mode_proj_order`."
   ],
   "cell_type": "markdown",
   "metadata": {}
  },
  {
   "source": [
    "QOperation has functions to transform parameters.\n",
    "\n",
    "- to_stacked_vector - Transforms all parameters to a one-dimensional vector.\n",
    "- to_var - Transforms parameters except for the part of the equality constraint to a one-dimensional vector.\n",
    "\n",
    "These functions are abstract functions and are implemented in a subclasses."
   ],
   "cell_type": "markdown",
   "metadata": {}
  },
  {
   "source": [
    "QOperation has functions to generate special objects.\n",
    "\n",
    "- generate_zero_obj - Generates object with all parameters are zero.\n",
    "- generate_origin_obj - Generates origin object.\n",
    "\n",
    "These functions are abstract functions and are implemented in a subclasses."
   ],
   "cell_type": "markdown",
   "metadata": {}
  },
  {
   "source": [
    "Quara supports arithmetic operations between same type of QOperations.\n",
    "\n",
    "- `__add__` - Calculates `a + b` for Qoperation a, b.\n",
    "- `__sub__` - Calculates `a - b` for Qoperation a, b.\n",
    "- `__mul__` - Calculates `a * b` for Qoperation a and number b.\n",
    "- `__rmul__` - Calculates `a * b` for number a and Qoperation b.\n",
    "- `__truediv__` - Calculates `a / b` for Qoperation a and number b.\n"
   ],
   "cell_type": "markdown",
   "metadata": {}
  },
  {
   "cell_type": "code",
   "execution_count": null,
   "metadata": {},
   "outputs": [],
   "source": []
  }
 ]
}