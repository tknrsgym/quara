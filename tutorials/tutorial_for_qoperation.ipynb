{
 "metadata": {
  "language_info": {
   "codemirror_mode": {
    "name": "ipython",
    "version": 3
   },
   "file_extension": ".py",
   "mimetype": "text/x-python",
   "name": "python",
   "nbconvert_exporter": "python",
   "pygments_lexer": "ipython3",
   "version": "3.7.7-final"
  },
  "orig_nbformat": 2,
  "kernelspec": {
   "name": "python3",
   "display_name": "Python 3.7.7 64-bit ('quara': pipenv)",
   "metadata": {
    "interpreter": {
     "hash": "e0c99f005b0837bce79602fafa142c135e273dc311d0671484e4c834ee0e9c24"
    }
   }
  }
 },
 "nbformat": 4,
 "nbformat_minor": 2,
 "cells": [
  {
   "source": [
    "# Qoperation objects\n",
    "This notebook describes the concept of Qoperation in Quara and the related classes.\n",
    "\n",
    "Quara supports operations such as State, Gate, Povm, etc.\n",
    "These operations is called objects in Quara.\n",
    "Two methods to generate objects.\n",
    "- The typical objects can be generated from a module called xxx_typical. (\"xxx\" is a object name.)\n",
    "- Users can also generate objects directly.\n"
   ],
   "cell_type": "markdown",
   "metadata": {}
  },
  {
   "source": [
    "## Qoperation\n",
    "Qoperation is the base class of these operations and has common properties and functions."
   ],
   "cell_type": "markdown",
   "metadata": {}
  },
  {
   "source": [
    "### common properties\n",
    "The common properties are as follows:\n",
    "\n",
    "- `is_physicality_required` - If this is True, this object must satisfy the physicality.\n",
    "- `is_estimation_object` - If this is True, this object is for estimation.\n",
    "- `on_para_eq_constraint` - If this is True, functions and algorithms work on the assumption that the parameters of this object satisfy the equality constraint. \n",
    "- `on_algo_eq_constraint` - If this is True, estimation algorithms use equality constraint. \n",
    "- `on_algo_ineq_constraint` - If this is True, estimation algorithms use inequality constraint. \n",
    "- `mode_proj_order` - the order in which the projection are performed, by default \"eq_ineq\".\n",
    "   - \"eq_ineq\" - The projection are performed in the order of equality constraints, followed by inequality constraints.\n",
    "   - \"ineq_eq\" - The projection are performed in the order of inequality constraints, followed by equality constraints.\n",
    "- `eps_proj_physical` - Epsiron that is projection algorithm error threshold for being physical.\n",
    "- `eps_truncate_imaginary_part` - The threshold to truncate imaginary part."
   ],
   "cell_type": "markdown",
   "metadata": {}
  },
  {
   "cell_type": "code",
   "execution_count": 1,
   "metadata": {},
   "outputs": [
    {
     "output_type": "stream",
     "name": "stdout",
     "text": [
      "True\nTrue\nTrue\nTrue\nTrue\neq_ineq\n1e-14\nNone\n"
     ]
    }
   ],
   "source": [
    "from quara.objects.composite_system_typical import generate_composite_system\n",
    "from quara.objects.qoperation import QOperation\n",
    "\n",
    "c_sys = generate_composite_system(\"qubit\", 1)\n",
    "qoperation = QOperation(c_sys)\n",
    "\n",
    "print(qoperation.is_physicality_required)\n",
    "print(qoperation.is_estimation_object)\n",
    "print(qoperation.on_para_eq_constraint)\n",
    "print(qoperation.on_algo_eq_constraint)\n",
    "print(qoperation.on_algo_ineq_constraint)\n",
    "print(qoperation.mode_proj_order)\n",
    "print(qoperation.eps_proj_physical)\n",
    "print(qoperation.eps_truncate_imaginary_part)"
   ]
  },
  {
   "source": [
    "### functions to check properties\n",
    "QOperation has functions to check properties.\n",
    "\n",
    "- is_eq_constraint_satisfied - Whether the qoperation is satisfied equality constraints.\n",
    "- is_ineq_constraint_satisfied - Whether the qoperation is satisfied inequality constraints.\n",
    "- is_physical - Whether the qoperation is satisfied equality and inequality constraints.\n",
    "\n",
    "is_eq_constraint_satisfied and is_ineq_constraint_satisfied are abstract functions and are implemented in a subclasses."
   ],
   "cell_type": "markdown",
   "metadata": {}
  },
  {
   "source": [
    "### projection functions\n",
    "QOperation has projection functions.\n",
    "\n",
    "- calc_proj_eq_constraint - Calculates the projection of QOperation on equal constraint.\n",
    "- calc_proj_ineq_constraint - Calculates the projection of QOperation on inequal constraint.\n",
    "- calc_proj_physical - Calculates the projection of QOperation on equal and inequal constraint.\n",
    "- calc_proj_physical_with_var - Executes the algorithm of calc_proj_physical using variables. This functions is faster than calc_proj_physical.\n",
    "\n",
    "calc_proj_physical and calc_proj_physical_with_var calculate the projection in the order specified by `mode_proj_order`."
   ],
   "cell_type": "markdown",
   "metadata": {}
  },
  {
   "source": [
    "### functions to transform parameters\n",
    "QOperation has functions to transform parameters.\n",
    "\n",
    "- to_stacked_vector - Transforms all parameters to a one-dimensional vector (a numpy array).\n",
    "- to_var - Transforms parameters except for the part of the equality constraint to a one-dimensional vector (a numpy array).\n",
    "\n",
    "These functions are abstract functions and are implemented in a subclasses."
   ],
   "cell_type": "markdown",
   "metadata": {}
  },
  {
   "source": [
    "### functions to generate special objects\n",
    "QOperation has functions to generate special objects.\n",
    "\n",
    "- generate_zero_obj - Generates object with all parameters are zero.\n",
    "- generate_origin_obj - Generates origin object.\n",
    "\n",
    "These functions are abstract functions and are implemented in a subclasses."
   ],
   "cell_type": "markdown",
   "metadata": {}
  },
  {
   "source": [
    "### supports arithmetic operations\n",
    "Quara supports arithmetic operations between same type of QOperations.\n",
    "\n",
    "- `__add__` - Calculates `a + b` for Qoperation a, b.\n",
    "- `__sub__` - Calculates `a - b` for Qoperation a, b.\n",
    "- `__mul__` - Calculates `a * b` for Qoperation a and number b.\n",
    "- `__rmul__` - Calculates `a * b` for number a and Qoperation b.\n",
    "- `__truediv__` - Calculates `a / b` for Qoperation a and number b.\n"
   ],
   "cell_type": "markdown",
   "metadata": {}
  },
  {
   "source": [
    "## Notation\n",
    "$I$ is the identity matrix.  \n",
    "$X := \\begin{pmatrix} 0 & 1 \\\\ 1 & 0 \\\\ \\end{pmatrix}$, $Y := \\begin{pmatrix} 0 & -i \\\\ i & 0 \\\\ \\end{pmatrix}$, and $Z := \\begin{pmatrix} 1 & 0 \\\\ 0 & -1 \\\\ \\end{pmatrix}$ are Pauli matrices.  \n",
    "$B$ is a basis $\\{ I/\\sqrt{2}, X/\\sqrt{2}, Y/\\sqrt{2}, Z/\\sqrt{2} \\}$, which is normalized by Hilbert-Schmidt inner product $\\langle S, T\\rangle := \\text{Tr}[ST]$."
   ],
   "cell_type": "markdown",
   "metadata": {}
  },
  {
   "source": [
    "## State\n",
    "The methods for generating a State includes the following:\n",
    "\n",
    "- Generate from state_typical module\n",
    "- Generate State object directly"
   ],
   "cell_type": "markdown",
   "metadata": {}
  },
  {
   "source": [
    "Generate from state_typical module by specifying CompositeSystem and state name (ex. \"z0\")."
   ],
   "cell_type": "markdown",
   "metadata": {}
  },
  {
   "cell_type": "code",
   "execution_count": 2,
   "metadata": {},
   "outputs": [],
   "source": [
    "from quara.objects.composite_system_typical import generate_composite_system\n",
    "from quara.objects.state_typical import generate_state_from_name\n",
    "\n",
    "c_sys = generate_composite_system(\"qubit\", 1)\n",
    "state = generate_state_from_name(c_sys, \"z0\")"
   ]
  },
  {
   "source": [
    "Generate State object directly using CompositeSystem and a numpy array."
   ],
   "cell_type": "markdown",
   "metadata": {}
  },
  {
   "cell_type": "code",
   "execution_count": 3,
   "metadata": {},
   "outputs": [],
   "source": [
    "import numpy as np\n",
    "\n",
    "from quara.objects.composite_system import CompositeSystem\n",
    "from quara.objects.elemental_system import ElementalSystem\n",
    "from quara.objects.matrix_basis import get_normalized_pauli_basis\n",
    "from quara.objects.state import State\n",
    "\n",
    "basis = get_normalized_pauli_basis(1)\n",
    "e_sys = ElementalSystem(0, basis)\n",
    "c_sys = CompositeSystem([e_sys])\n",
    "vec = np.array([1, 0, 0, 1]) / np.sqrt(2)\n",
    "state = State(c_sys, vec)"
   ]
  },
  {
   "source": [
    "Quantum state (density matrix) can be represented by a linear combination of basis.\n",
    "`vec` represents the coefficients of this linear combination in the form of a numpy array.  \n",
    "\n",
    "Example.  \n",
    "$z_0 = \\begin{pmatrix} 1 & 0 \\\\ 0 & 0 \\\\ \\end{pmatrix}$ can be represented by a linear combination of basis $1/\\sqrt{2} \\cdot I/\\sqrt{2} + 0 \\cdot X/\\sqrt{2} + 0 \\cdot Y/\\sqrt{2} + 1/\\sqrt{2} \\cdot  Z/\\sqrt{2}$. In this case `vec` of $z_0$ is $[ 1/\\sqrt{2}, 0, 0, 1/\\sqrt{2} ]$."
   ],
   "cell_type": "markdown",
   "metadata": {}
  },
  {
   "source": [
    "### specific properties\n",
    "The property `vec` of State is a numpy array specified by the constructor argument `vec`."
   ],
   "cell_type": "markdown",
   "metadata": {}
  },
  {
   "cell_type": "code",
   "execution_count": 4,
   "metadata": {},
   "outputs": [
    {
     "output_type": "stream",
     "name": "stdout",
     "text": [
      "[0.70710678 0.         0.         0.70710678]\n"
     ]
    }
   ],
   "source": [
    "state = State(c_sys, vec)\n",
    "print(state.vec)"
   ]
  },
  {
   "source": [
    "\n"
   ],
   "cell_type": "markdown",
   "metadata": {}
  },
  {
   "cell_type": "code",
   "execution_count": 5,
   "metadata": {},
   "outputs": [
    {
     "output_type": "stream",
     "name": "stdout",
     "text": [
      "2\n2\n"
     ]
    }
   ],
   "source": [
    "print(state.dim)\n",
    "print(int(np.sqrt(len(vec))))"
   ]
  },
  {
   "source": [
    "### functions to check properties\n",
    "The is_eq_constraint_satisfied function returns True, if and only if $\\text{Tr}[\\rho] = 1$, where $\\rho$ is a density matrix of State."
   ],
   "cell_type": "markdown",
   "metadata": {}
  },
  {
   "cell_type": "code",
   "execution_count": 6,
   "metadata": {},
   "outputs": [
    {
     "output_type": "stream",
     "name": "stdout",
     "text": [
      "True\n(0.9999999999999998+0j)\n"
     ]
    }
   ],
   "source": [
    "print(state.is_eq_constraint_satisfied())\n",
    "print(np.trace(state.to_density_matrix()))"
   ]
  },
  {
   "source": [
    "The is_ineq_constraint_satisfied function returns True, if and only if $\\rho$ is positive semidifinite matrix, where $\\rho$ is a density matrix of State."
   ],
   "cell_type": "markdown",
   "metadata": {}
  },
  {
   "cell_type": "code",
   "execution_count": 7,
   "metadata": {},
   "outputs": [
    {
     "output_type": "stream",
     "name": "stdout",
     "text": [
      "True\nTrue\n"
     ]
    }
   ],
   "source": [
    "print(state.is_eq_constraint_satisfied())\n",
    "print(state.is_positive_semidefinite())"
   ]
  },
  {
   "source": [
    "### projection functions\n",
    "calc_proj_eq_constraint function calculates the projection of State on equal constraint.  \n",
    "This function replaces the first element of `vec` with $1/\\sqrt{d}$, where $d$ is `dim`."
   ],
   "cell_type": "markdown",
   "metadata": {}
  },
  {
   "cell_type": "code",
   "execution_count": 8,
   "metadata": {},
   "outputs": [
    {
     "output_type": "stream",
     "name": "stdout",
     "text": [
      "[0.70710678 2.         3.         4.        ]\n"
     ]
    }
   ],
   "source": [
    "vec = np.array([1.0, 2.0, 3.0, 4.0])\n",
    "state = State(c_sys, vec, is_physicality_required=False)\n",
    "proj_state = state.calc_proj_eq_constraint()\n",
    "print(proj_state.vec)"
   ]
  },
  {
   "source": [
    "calc_proj_ineq_constraint function calculates the projection of State on equal constraint as follows:  \n",
    "\n",
    "- Executes singular value decomposition on the density matrix $\\rho$ of state, $\\rho = U \\Lambda U^{\\dagger}$, where $\\Lambda = \\text{diag}[\\lambda_0, \\dots , \\lambda_{d-1}]$, and $\\lambda_{i} \\in \\mathbb{R}$.\n",
    "- $\\lambda^{\\prime}_{i} := \\begin{cases} \\lambda_{i} & (\\lambda_{i} \\geq 0) \\\\ 0 & (\\lambda_{i} < 0) \\end{cases}$\n",
    "- $\\Lambda^{\\prime} = \\text{diag}[\\lambda^{\\prime}_0, \\dots , \\lambda^{\\prime}_{d-1}]$\n",
    "- $\\rho^{\\prime} = U \\Lambda^{\\prime} U^{\\dagger}$\n",
    "- The projection of State is $|\\rho^{\\prime} \\rangle\\rangle$."
   ],
   "cell_type": "markdown",
   "metadata": {}
  },
  {
   "cell_type": "code",
   "execution_count": 9,
   "metadata": {},
   "outputs": [
    {
     "output_type": "stream",
     "name": "stdout",
     "text": [
      "[[ 1.+0.j  0.+0.j]\n [ 0.+0.j -1.+0.j]]\n[[1.+0.j 0.+0.j]\n [0.+0.j 0.+0.j]]\n[0.70710678 0.         0.         0.70710678]\n"
     ]
    }
   ],
   "source": [
    "vec = np.sqrt(2) * np.array([0, 0, 0, 1])\n",
    "state = State(c_sys, vec, is_physicality_required=False)\n",
    "print(state.to_density_matrix())\n",
    "proj_state = state.calc_proj_ineq_constraint()\n",
    "print(proj_state.to_density_matrix())\n",
    "print(proj_state.vec)"
   ]
  },
  {
   "source": [
    "### functions to transform parameters\n",
    "to_stacked_vector function returns a one-dimensional numpy array of all variables. This is equal to `vec`.\n"
   ],
   "cell_type": "markdown",
   "metadata": {}
  },
  {
   "cell_type": "code",
   "execution_count": 10,
   "metadata": {},
   "outputs": [
    {
     "output_type": "stream",
     "name": "stdout",
     "text": [
      "[0.         0.         0.         1.41421356]\n[0.         0.         0.         1.41421356]\n"
     ]
    }
   ],
   "source": [
    "print(state.to_stacked_vector())\n",
    "print(state.vec)"
   ]
  },
  {
   "source": [
    "If `on_para_eq_constraint` is True, then the first element of `vec` is equal to $1/\\sqrt{d}$, where $d$ is `dim`. Thus, State is characterized by the second and subsequent elements of `vec`.  \n",
    "Therefore, to_var function returns the second and subsequent elements of `vec`, where `on_para_eq_constraint` is True."
   ],
   "cell_type": "markdown",
   "metadata": {}
  },
  {
   "cell_type": "code",
   "execution_count": 50,
   "metadata": {},
   "outputs": [],
   "source": [
    "vec = np.array([1, 0, 0, 1]) / np.sqrt(2)"
   ]
  },
  {
   "cell_type": "code",
   "execution_count": 51,
   "metadata": {},
   "outputs": [
    {
     "output_type": "stream",
     "name": "stdout",
     "text": [
      "[0.         0.         0.70710678]\n"
     ]
    }
   ],
   "source": [
    "# on_para_eq_constraint=True\n",
    "state = State(c_sys, vec, on_para_eq_constraint=True)\n",
    "print(state.to_var())"
   ]
  },
  {
   "cell_type": "code",
   "execution_count": 52,
   "metadata": {},
   "outputs": [
    {
     "output_type": "stream",
     "name": "stdout",
     "text": [
      "[0.70710678 0.         0.         0.70710678]\n"
     ]
    }
   ],
   "source": [
    "# on_para_eq_constraint=False\n",
    "state = State(c_sys, vec, on_para_eq_constraint=False)\n",
    "print(state.to_var())"
   ]
  },
  {
   "source": [
    "### functions to generate special objects"
   ],
   "cell_type": "markdown",
   "metadata": {}
  },
  {
   "cell_type": "code",
   "execution_count": 14,
   "metadata": {},
   "outputs": [
    {
     "output_type": "stream",
     "name": "stdout",
     "text": [
      "[0. 0. 0. 0.]\n[0.70710678 0.         0.         0.        ]\n"
     ]
    }
   ],
   "source": [
    "zero_state = state.generate_zero_obj()\n",
    "print(zero_state.vec)\n",
    "origin_state = state.generate_origin_obj()\n",
    "print(origin_state.vec)"
   ]
  },
  {
   "source": [
    "### supports arithmetic operations"
   ],
   "cell_type": "markdown",
   "metadata": {}
  },
  {
   "cell_type": "code",
   "execution_count": 15,
   "metadata": {},
   "outputs": [
    {
     "output_type": "stream",
     "name": "stdout",
     "text": [
      "[ 6.  8. 10. 12.]\n[-4. -4. -4. -4.]\n[2. 4. 6. 8.]\n[2. 4. 6. 8.]\n[0.5 1.  1.5 2. ]\n"
     ]
    }
   ],
   "source": [
    "vec1 = np.array([1.0, 2.0, 3.0, 4.0])\n",
    "state1 = State(c_sys, vec1, is_physicality_required=False)\n",
    "vec2 = np.array([5.0, 6.0, 7.0, 8.0])\n",
    "state2 = State(c_sys, vec2, is_physicality_required=False)\n",
    "\n",
    "print((state1 + state2).vec)\n",
    "print((state1 - state2).vec)\n",
    "print((2 * state1).vec)\n",
    "print((state1 * 2).vec)\n",
    "print((state1 / 2).vec)"
   ]
  },
  {
   "source": [
    "### calc_gradient functions\n",
    "Calculates gradient of State with variable index."
   ],
   "cell_type": "markdown",
   "metadata": {}
  },
  {
   "cell_type": "code",
   "execution_count": 1,
   "metadata": {},
   "outputs": [
    {
     "output_type": "error",
     "ename": "NameError",
     "evalue": "name 'state' is not defined",
     "traceback": [
      "\u001b[1;31m---------------------------------------------------------------------------\u001b[0m",
      "\u001b[1;31mNameError\u001b[0m                                 Traceback (most recent call last)",
      "\u001b[1;32m<ipython-input-1-5e52d5a1ecb0>\u001b[0m in \u001b[0;36m<module>\u001b[1;34m\u001b[0m\n\u001b[1;32m----> 1\u001b[1;33m \u001b[0mgrad_state\u001b[0m \u001b[1;33m=\u001b[0m \u001b[0mstate\u001b[0m\u001b[1;33m.\u001b[0m\u001b[0mcalc_gradient\u001b[0m\u001b[1;33m(\u001b[0m\u001b[1;36m0\u001b[0m\u001b[1;33m)\u001b[0m\u001b[1;33m\u001b[0m\u001b[1;33m\u001b[0m\u001b[0m\n\u001b[0m\u001b[0;32m      2\u001b[0m \u001b[0mprint\u001b[0m\u001b[1;33m(\u001b[0m\u001b[0mgrad_state\u001b[0m\u001b[1;33m.\u001b[0m\u001b[0mvec\u001b[0m\u001b[1;33m)\u001b[0m\u001b[1;33m\u001b[0m\u001b[1;33m\u001b[0m\u001b[0m\n",
      "\u001b[1;31mNameError\u001b[0m: name 'state' is not defined"
     ]
    }
   ],
   "source": [
    "grad_state = state.calc_gradient(0)\n",
    "print(grad_state.vec)"
   ]
  },
  {
   "source": [
    "### convert_basis function\n",
    "Returns `vec` converted to the specified basis."
   ],
   "cell_type": "markdown",
   "metadata": {}
  },
  {
   "cell_type": "code",
   "execution_count": 17,
   "metadata": {},
   "outputs": [
    {
     "output_type": "stream",
     "name": "stdout",
     "text": [
      "[1.+0.j 0.+0.j 0.+0.j 0.+0.j]\n"
     ]
    }
   ],
   "source": [
    "from quara.objects.matrix_basis import get_comp_basis\n",
    "\n",
    "state = generate_state_from_name(c_sys, \"z0\")\n",
    "converted_vec = state.convert_basis(get_comp_basis())\n",
    "print(converted_vec)"
   ]
  },
  {
   "source": [
    "### to_density_matrix function\n",
    "Returns density matrix of State. "
   ],
   "cell_type": "markdown",
   "metadata": {}
  },
  {
   "cell_type": "code",
   "execution_count": 18,
   "metadata": {},
   "outputs": [
    {
     "output_type": "stream",
     "name": "stdout",
     "text": [
      "[[1.+0.j 0.+0.j]\n",
      " [0.+0.j 0.+0.j]]\n",
      "[[1.+0.j 0.+0.j]\n",
      " [0.+0.j 0.+0.j]]\n"
     ]
    }
   ],
   "source": [
    "state = generate_state_from_name(c_sys, \"z0\")\n",
    "print(state.to_density_matrix())\n",
    "print(state.to_density_matrix_with_sparsity())"
   ]
  },
  {
   "source": [
    "### some utility functions"
   ],
   "cell_type": "markdown",
   "metadata": {}
  },
  {
   "cell_type": "code",
   "execution_count": 19,
   "metadata": {},
   "outputs": [
    {
     "output_type": "stream",
     "name": "stdout",
     "text": [
      "True\nTrue\nTrue\n[0.9999999999999998, 0.0]\n"
     ]
    }
   ],
   "source": [
    "print(state.is_trace_one())\n",
    "print(state.is_hermitian())\n",
    "print(state.is_positive_semidefinite())\n",
    "print(state.calc_eigenvalues())"
   ]
  },
  {
   "source": [
    "## state_typical\n",
    "generate_state_object_from_state_name_object_name function in state_typical module can easily generate objects related to State.  \n",
    "The generate_state_object_from_state_name_object_name function has the following arguments:\n",
    "\n",
    "- The string that can be specified for `state_name` can be checked by executing the get_state_names function. The tensor product of state_name \"a\", \"b\" is written \"a_b\".\n",
    "- `object_name` can be the following string:\n",
    "  - \"pure_state_vector\" - vector of pure state.\n",
    "  - \"density_mat\" - density matrix.\n",
    "  - \"density_matrix_vector\" - vectorized density matrix.\n",
    "  - \"state\" - State object.\n",
    "- `c_sys` - CompositeSystem of objects related to State. Specify when `object_name` is \"density_matrix_vector\" or \"state\".\n",
    "- `is_physicality_required` - Whether the generated object is physicality required, by default True."
   ],
   "cell_type": "markdown",
   "metadata": {}
  },
  {
   "cell_type": "code",
   "execution_count": 20,
   "metadata": {},
   "outputs": [
    {
     "output_type": "stream",
     "name": "stdout",
     "text": [
      "['x0', 'x1', 'y0', 'y1', 'z0', 'z1', 'a', 'bell_phi_plus', 'bell_phi_minus', 'bell_psi_plus', 'bell_psi_minus', 'x0_x0', 'x0_x1', 'x0_y0', 'x0_y1', 'x0_z0', 'x0_z1', 'x0_a', 'x1_x0', 'x1_x1', 'x1_y0', 'x1_y1', 'x1_z0', 'x1_z1', 'x1_a', 'y0_x0', 'y0_x1', 'y0_y0', 'y0_y1', 'y0_z0', 'y0_z1', 'y0_a', 'y1_x0', 'y1_x1', 'y1_y0', 'y1_y1', 'y1_z0', 'y1_z1', 'y1_a', 'z0_x0', 'z0_x1', 'z0_y0', 'z0_y1', 'z0_z0', 'z0_z1', 'z0_a', 'z1_x0', 'z1_x1', 'z1_y0', 'z1_y1', 'z1_z0', 'z1_z1', 'z1_a', 'a_x0', 'a_x1', 'a_y0', 'a_y1', 'a_z0', 'a_z1', 'a_a', 'ghz', 'werner', 'x0_x0_x0', 'x0_x0_x1', 'x0_x0_y0', 'x0_x0_y1', 'x0_x0_z0', 'x0_x0_z1', 'x0_x0_a', 'x0_x1_x0', 'x0_x1_x1', 'x0_x1_y0', 'x0_x1_y1', 'x0_x1_z0', 'x0_x1_z1', 'x0_x1_a', 'x0_y0_x0', 'x0_y0_x1', 'x0_y0_y0', 'x0_y0_y1', 'x0_y0_z0', 'x0_y0_z1', 'x0_y0_a', 'x0_y1_x0', 'x0_y1_x1', 'x0_y1_y0', 'x0_y1_y1', 'x0_y1_z0', 'x0_y1_z1', 'x0_y1_a', 'x0_z0_x0', 'x0_z0_x1', 'x0_z0_y0', 'x0_z0_y1', 'x0_z0_z0', 'x0_z0_z1', 'x0_z0_a', 'x0_z1_x0', 'x0_z1_x1', 'x0_z1_y0', 'x0_z1_y1', 'x0_z1_z0', 'x0_z1_z1', 'x0_z1_a', 'x0_a_x0', 'x0_a_x1', 'x0_a_y0', 'x0_a_y1', 'x0_a_z0', 'x0_a_z1', 'x0_a_a', 'x1_x0_x0', 'x1_x0_x1', 'x1_x0_y0', 'x1_x0_y1', 'x1_x0_z0', 'x1_x0_z1', 'x1_x0_a', 'x1_x1_x0', 'x1_x1_x1', 'x1_x1_y0', 'x1_x1_y1', 'x1_x1_z0', 'x1_x1_z1', 'x1_x1_a', 'x1_y0_x0', 'x1_y0_x1', 'x1_y0_y0', 'x1_y0_y1', 'x1_y0_z0', 'x1_y0_z1', 'x1_y0_a', 'x1_y1_x0', 'x1_y1_x1', 'x1_y1_y0', 'x1_y1_y1', 'x1_y1_z0', 'x1_y1_z1', 'x1_y1_a', 'x1_z0_x0', 'x1_z0_x1', 'x1_z0_y0', 'x1_z0_y1', 'x1_z0_z0', 'x1_z0_z1', 'x1_z0_a', 'x1_z1_x0', 'x1_z1_x1', 'x1_z1_y0', 'x1_z1_y1', 'x1_z1_z0', 'x1_z1_z1', 'x1_z1_a', 'x1_a_x0', 'x1_a_x1', 'x1_a_y0', 'x1_a_y1', 'x1_a_z0', 'x1_a_z1', 'x1_a_a', 'y0_x0_x0', 'y0_x0_x1', 'y0_x0_y0', 'y0_x0_y1', 'y0_x0_z0', 'y0_x0_z1', 'y0_x0_a', 'y0_x1_x0', 'y0_x1_x1', 'y0_x1_y0', 'y0_x1_y1', 'y0_x1_z0', 'y0_x1_z1', 'y0_x1_a', 'y0_y0_x0', 'y0_y0_x1', 'y0_y0_y0', 'y0_y0_y1', 'y0_y0_z0', 'y0_y0_z1', 'y0_y0_a', 'y0_y1_x0', 'y0_y1_x1', 'y0_y1_y0', 'y0_y1_y1', 'y0_y1_z0', 'y0_y1_z1', 'y0_y1_a', 'y0_z0_x0', 'y0_z0_x1', 'y0_z0_y0', 'y0_z0_y1', 'y0_z0_z0', 'y0_z0_z1', 'y0_z0_a', 'y0_z1_x0', 'y0_z1_x1', 'y0_z1_y0', 'y0_z1_y1', 'y0_z1_z0', 'y0_z1_z1', 'y0_z1_a', 'y0_a_x0', 'y0_a_x1', 'y0_a_y0', 'y0_a_y1', 'y0_a_z0', 'y0_a_z1', 'y0_a_a', 'y1_x0_x0', 'y1_x0_x1', 'y1_x0_y0', 'y1_x0_y1', 'y1_x0_z0', 'y1_x0_z1', 'y1_x0_a', 'y1_x1_x0', 'y1_x1_x1', 'y1_x1_y0', 'y1_x1_y1', 'y1_x1_z0', 'y1_x1_z1', 'y1_x1_a', 'y1_y0_x0', 'y1_y0_x1', 'y1_y0_y0', 'y1_y0_y1', 'y1_y0_z0', 'y1_y0_z1', 'y1_y0_a', 'y1_y1_x0', 'y1_y1_x1', 'y1_y1_y0', 'y1_y1_y1', 'y1_y1_z0', 'y1_y1_z1', 'y1_y1_a', 'y1_z0_x0', 'y1_z0_x1', 'y1_z0_y0', 'y1_z0_y1', 'y1_z0_z0', 'y1_z0_z1', 'y1_z0_a', 'y1_z1_x0', 'y1_z1_x1', 'y1_z1_y0', 'y1_z1_y1', 'y1_z1_z0', 'y1_z1_z1', 'y1_z1_a', 'y1_a_x0', 'y1_a_x1', 'y1_a_y0', 'y1_a_y1', 'y1_a_z0', 'y1_a_z1', 'y1_a_a', 'z0_x0_x0', 'z0_x0_x1', 'z0_x0_y0', 'z0_x0_y1', 'z0_x0_z0', 'z0_x0_z1', 'z0_x0_a', 'z0_x1_x0', 'z0_x1_x1', 'z0_x1_y0', 'z0_x1_y1', 'z0_x1_z0', 'z0_x1_z1', 'z0_x1_a', 'z0_y0_x0', 'z0_y0_x1', 'z0_y0_y0', 'z0_y0_y1', 'z0_y0_z0', 'z0_y0_z1', 'z0_y0_a', 'z0_y1_x0', 'z0_y1_x1', 'z0_y1_y0', 'z0_y1_y1', 'z0_y1_z0', 'z0_y1_z1', 'z0_y1_a', 'z0_z0_x0', 'z0_z0_x1', 'z0_z0_y0', 'z0_z0_y1', 'z0_z0_z0', 'z0_z0_z1', 'z0_z0_a', 'z0_z1_x0', 'z0_z1_x1', 'z0_z1_y0', 'z0_z1_y1', 'z0_z1_z0', 'z0_z1_z1', 'z0_z1_a', 'z0_a_x0', 'z0_a_x1', 'z0_a_y0', 'z0_a_y1', 'z0_a_z0', 'z0_a_z1', 'z0_a_a', 'z1_x0_x0', 'z1_x0_x1', 'z1_x0_y0', 'z1_x0_y1', 'z1_x0_z0', 'z1_x0_z1', 'z1_x0_a', 'z1_x1_x0', 'z1_x1_x1', 'z1_x1_y0', 'z1_x1_y1', 'z1_x1_z0', 'z1_x1_z1', 'z1_x1_a', 'z1_y0_x0', 'z1_y0_x1', 'z1_y0_y0', 'z1_y0_y1', 'z1_y0_z0', 'z1_y0_z1', 'z1_y0_a', 'z1_y1_x0', 'z1_y1_x1', 'z1_y1_y0', 'z1_y1_y1', 'z1_y1_z0', 'z1_y1_z1', 'z1_y1_a', 'z1_z0_x0', 'z1_z0_x1', 'z1_z0_y0', 'z1_z0_y1', 'z1_z0_z0', 'z1_z0_z1', 'z1_z0_a', 'z1_z1_x0', 'z1_z1_x1', 'z1_z1_y0', 'z1_z1_y1', 'z1_z1_z0', 'z1_z1_z1', 'z1_z1_a', 'z1_a_x0', 'z1_a_x1', 'z1_a_y0', 'z1_a_y1', 'z1_a_z0', 'z1_a_z1', 'z1_a_a', 'a_x0_x0', 'a_x0_x1', 'a_x0_y0', 'a_x0_y1', 'a_x0_z0', 'a_x0_z1', 'a_x0_a', 'a_x1_x0', 'a_x1_x1', 'a_x1_y0', 'a_x1_y1', 'a_x1_z0', 'a_x1_z1', 'a_x1_a', 'a_y0_x0', 'a_y0_x1', 'a_y0_y0', 'a_y0_y1', 'a_y0_z0', 'a_y0_z1', 'a_y0_a', 'a_y1_x0', 'a_y1_x1', 'a_y1_y0', 'a_y1_y1', 'a_y1_z0', 'a_y1_z1', 'a_y1_a', 'a_z0_x0', 'a_z0_x1', 'a_z0_y0', 'a_z0_y1', 'a_z0_z0', 'a_z0_z1', 'a_z0_a', 'a_z1_x0', 'a_z1_x1', 'a_z1_y0', 'a_z1_y1', 'a_z1_z0', 'a_z1_z1', 'a_z1_a', 'a_a_x0', 'a_a_x1', 'a_a_y0', 'a_a_y1', 'a_a_z0', 'a_a_z1', 'a_a_a', '0_1_2_superposition', '01x0', '01x1', '01y0', '01y1', '01z0', '01z1', '12x0', '12x1', '12y0', '12y1', '12z0', '12z1', '02x0', '02x1', '02y0', '02y1', '02z0', '02z1', '00_11_22_superposition', '01x0_01x0', '01x0_01x1', '01x0_01y0', '01x0_01y1', '01x0_01z0', '01x0_01z1', '01x0_12x0', '01x0_12x1', '01x0_12y0', '01x0_12y1', '01x0_12z0', '01x0_12z1', '01x0_02x0', '01x0_02x1', '01x0_02y0', '01x0_02y1', '01x0_02z0', '01x0_02z1', '01x1_01x0', '01x1_01x1', '01x1_01y0', '01x1_01y1', '01x1_01z0', '01x1_01z1', '01x1_12x0', '01x1_12x1', '01x1_12y0', '01x1_12y1', '01x1_12z0', '01x1_12z1', '01x1_02x0', '01x1_02x1', '01x1_02y0', '01x1_02y1', '01x1_02z0', '01x1_02z1', '01y0_01x0', '01y0_01x1', '01y0_01y0', '01y0_01y1', '01y0_01z0', '01y0_01z1', '01y0_12x0', '01y0_12x1', '01y0_12y0', '01y0_12y1', '01y0_12z0', '01y0_12z1', '01y0_02x0', '01y0_02x1', '01y0_02y0', '01y0_02y1', '01y0_02z0', '01y0_02z1', '01y1_01x0', '01y1_01x1', '01y1_01y0', '01y1_01y1', '01y1_01z0', '01y1_01z1', '01y1_12x0', '01y1_12x1', '01y1_12y0', '01y1_12y1', '01y1_12z0', '01y1_12z1', '01y1_02x0', '01y1_02x1', '01y1_02y0', '01y1_02y1', '01y1_02z0', '01y1_02z1', '01z0_01x0', '01z0_01x1', '01z0_01y0', '01z0_01y1', '01z0_01z0', '01z0_01z1', '01z0_12x0', '01z0_12x1', '01z0_12y0', '01z0_12y1', '01z0_12z0', '01z0_12z1', '01z0_02x0', '01z0_02x1', '01z0_02y0', '01z0_02y1', '01z0_02z0', '01z0_02z1', '01z1_01x0', '01z1_01x1', '01z1_01y0', '01z1_01y1', '01z1_01z0', '01z1_01z1', '01z1_12x0', '01z1_12x1', '01z1_12y0', '01z1_12y1', '01z1_12z0', '01z1_12z1', '01z1_02x0', '01z1_02x1', '01z1_02y0', '01z1_02y1', '01z1_02z0', '01z1_02z1', '12x0_01x0', '12x0_01x1', '12x0_01y0', '12x0_01y1', '12x0_01z0', '12x0_01z1', '12x0_12x0', '12x0_12x1', '12x0_12y0', '12x0_12y1', '12x0_12z0', '12x0_12z1', '12x0_02x0', '12x0_02x1', '12x0_02y0', '12x0_02y1', '12x0_02z0', '12x0_02z1', '12x1_01x0', '12x1_01x1', '12x1_01y0', '12x1_01y1', '12x1_01z0', '12x1_01z1', '12x1_12x0', '12x1_12x1', '12x1_12y0', '12x1_12y1', '12x1_12z0', '12x1_12z1', '12x1_02x0', '12x1_02x1', '12x1_02y0', '12x1_02y1', '12x1_02z0', '12x1_02z1', '12y0_01x0', '12y0_01x1', '12y0_01y0', '12y0_01y1', '12y0_01z0', '12y0_01z1', '12y0_12x0', '12y0_12x1', '12y0_12y0', '12y0_12y1', '12y0_12z0', '12y0_12z1', '12y0_02x0', '12y0_02x1', '12y0_02y0', '12y0_02y1', '12y0_02z0', '12y0_02z1', '12y1_01x0', '12y1_01x1', '12y1_01y0', '12y1_01y1', '12y1_01z0', '12y1_01z1', '12y1_12x0', '12y1_12x1', '12y1_12y0', '12y1_12y1', '12y1_12z0', '12y1_12z1', '12y1_02x0', '12y1_02x1', '12y1_02y0', '12y1_02y1', '12y1_02z0', '12y1_02z1', '12z0_01x0', '12z0_01x1', '12z0_01y0', '12z0_01y1', '12z0_01z0', '12z0_01z1', '12z0_12x0', '12z0_12x1', '12z0_12y0', '12z0_12y1', '12z0_12z0', '12z0_12z1', '12z0_02x0', '12z0_02x1', '12z0_02y0', '12z0_02y1', '12z0_02z0', '12z0_02z1', '12z1_01x0', '12z1_01x1', '12z1_01y0', '12z1_01y1', '12z1_01z0', '12z1_01z1', '12z1_12x0', '12z1_12x1', '12z1_12y0', '12z1_12y1', '12z1_12z0', '12z1_12z1', '12z1_02x0', '12z1_02x1', '12z1_02y0', '12z1_02y1', '12z1_02z0', '12z1_02z1', '02x0_01x0', '02x0_01x1', '02x0_01y0', '02x0_01y1', '02x0_01z0', '02x0_01z1', '02x0_12x0', '02x0_12x1', '02x0_12y0', '02x0_12y1', '02x0_12z0', '02x0_12z1', '02x0_02x0', '02x0_02x1', '02x0_02y0', '02x0_02y1', '02x0_02z0', '02x0_02z1', '02x1_01x0', '02x1_01x1', '02x1_01y0', '02x1_01y1', '02x1_01z0', '02x1_01z1', '02x1_12x0', '02x1_12x1', '02x1_12y0', '02x1_12y1', '02x1_12z0', '02x1_12z1', '02x1_02x0', '02x1_02x1', '02x1_02y0', '02x1_02y1', '02x1_02z0', '02x1_02z1', '02y0_01x0', '02y0_01x1', '02y0_01y0', '02y0_01y1', '02y0_01z0', '02y0_01z1', '02y0_12x0', '02y0_12x1', '02y0_12y0', '02y0_12y1', '02y0_12z0', '02y0_12z1', '02y0_02x0', '02y0_02x1', '02y0_02y0', '02y0_02y1', '02y0_02z0', '02y0_02z1', '02y1_01x0', '02y1_01x1', '02y1_01y0', '02y1_01y1', '02y1_01z0', '02y1_01z1', '02y1_12x0', '02y1_12x1', '02y1_12y0', '02y1_12y1', '02y1_12z0', '02y1_12z1', '02y1_02x0', '02y1_02x1', '02y1_02y0', '02y1_02y1', '02y1_02z0', '02y1_02z1', '02z0_01x0', '02z0_01x1', '02z0_01y0', '02z0_01y1', '02z0_01z0', '02z0_01z1', '02z0_12x0', '02z0_12x1', '02z0_12y0', '02z0_12y1', '02z0_12z0', '02z0_12z1', '02z0_02x0', '02z0_02x1', '02z0_02y0', '02z0_02y1', '02z0_02z0', '02z0_02z1', '02z1_01x0', '02z1_01x1', '02z1_01y0', '02z1_01y1', '02z1_01z0', '02z1_01z1', '02z1_12x0', '02z1_12x1', '02z1_12y0', '02z1_12y1', '02z1_12z0', '02z1_12z1', '02z1_02x0', '02z1_02x1', '02z1_02y0', '02z1_02y1', '02z1_02z0', '02z1_02z1']\n"
     ]
    }
   ],
   "source": [
    "from quara.objects.state_typical import (\n",
    "    get_state_names,\n",
    "    generate_state_object_from_state_name_object_name,\n",
    ")\n",
    "\n",
    "print(get_state_names())"
   ]
  },
  {
   "source": [
    "### pure_state_vector"
   ],
   "cell_type": "markdown",
   "metadata": {}
  },
  {
   "cell_type": "code",
   "execution_count": 21,
   "metadata": {},
   "outputs": [
    {
     "output_type": "stream",
     "name": "stdout",
     "text": [
      "[1.+0.j 0.+0.j]\n"
     ]
    }
   ],
   "source": [
    "vec = generate_state_object_from_state_name_object_name(\"z0\", \"pure_state_vector\")\n",
    "print(vec)"
   ]
  },
  {
   "source": [
    "### density_mat"
   ],
   "cell_type": "markdown",
   "metadata": {}
  },
  {
   "cell_type": "code",
   "execution_count": 22,
   "metadata": {},
   "outputs": [
    {
     "output_type": "stream",
     "name": "stdout",
     "text": [
      "[[1.+0.j 0.+0.j]\n",
      " [0.+0.j 0.+0.j]]\n"
     ]
    }
   ],
   "source": [
    "mat = generate_state_object_from_state_name_object_name(\"z0\", \"density_mat\")\n",
    "print(mat)"
   ]
  },
  {
   "source": [
    "### density_matrix_vector"
   ],
   "cell_type": "markdown",
   "metadata": {}
  },
  {
   "cell_type": "code",
   "execution_count": 23,
   "metadata": {},
   "outputs": [
    {
     "output_type": "stream",
     "name": "stdout",
     "text": [
      "[0.70710678 0.         0.         0.70710678]\n"
     ]
    }
   ],
   "source": [
    "c_sys = generate_composite_system(\"qubit\", 1)\n",
    "vec = generate_state_object_from_state_name_object_name(\"z0\", \"density_matrix_vector\", c_sys=c_sys)\n",
    "print(vec)"
   ]
  },
  {
   "source": [
    "### state"
   ],
   "cell_type": "markdown",
   "metadata": {}
  },
  {
   "cell_type": "code",
   "execution_count": 24,
   "metadata": {},
   "outputs": [
    {
     "output_type": "stream",
     "name": "stdout",
     "text": [
      "Type:\nState\n\nDim:\n2\n\nVec:\n[0.70710678 0.         0.         0.70710678]\n"
     ]
    }
   ],
   "source": [
    "c_sys = generate_composite_system(\"qubit\", 1)\n",
    "state = generate_state_object_from_state_name_object_name(\"z0\", \"state\", c_sys=c_sys)\n",
    "print(state)"
   ]
  },
  {
   "source": [
    "## Povm\n",
    "The methods for generating a State includes the following:\n",
    "\n",
    "- Generate from povm_typical module\n",
    "- Generate Povm object directly"
   ],
   "cell_type": "markdown",
   "metadata": {}
  },
  {
   "source": [
    "Generate from povm_typical module by specifying CompositeSystem and povm name (ex. \"z\")."
   ],
   "cell_type": "markdown",
   "metadata": {}
  },
  {
   "cell_type": "code",
   "execution_count": 25,
   "metadata": {},
   "outputs": [],
   "source": [
    "from quara.objects.composite_system_typical import generate_composite_system\n",
    "from quara.objects.povm_typical import generate_povm_from_name\n",
    "\n",
    "c_sys = generate_composite_system(\"qubit\", 1)\n",
    "povm = generate_povm_from_name(\"z\", c_sys)"
   ]
  },
  {
   "source": [
    "Generate Povm object directly using CompositeSystem and a list of numpy array."
   ],
   "cell_type": "markdown",
   "metadata": {}
  },
  {
   "cell_type": "code",
   "execution_count": 26,
   "metadata": {},
   "outputs": [],
   "source": [
    "import numpy as np\n",
    "\n",
    "from quara.objects.composite_system import CompositeSystem\n",
    "from quara.objects.elemental_system import ElementalSystem\n",
    "from quara.objects.matrix_basis import get_normalized_pauli_basis\n",
    "from quara.objects.povm import Povm\n",
    "\n",
    "basis = get_normalized_pauli_basis(1)\n",
    "e_sys = ElementalSystem(0, basis)\n",
    "c_sys = CompositeSystem([e_sys])\n",
    "vec1 = np.array([1, 0, 0, 1]) / np.sqrt(2)\n",
    "vec2 = np.array([1, 0, 0, -1]) / np.sqrt(2)\n",
    "vecs = [vec1, vec2]\n",
    "povm = Povm(c_sys, vecs)"
   ]
  },
  {
   "source": [
    "Povm can be represented by a list of POVM element as `vecs`.  \n",
    "Each emelemts is a linear combination of basis and represents the coefficients of this linear combination in the form of a numpy array.\n",
    "\n",
    "Example:  \n",
    "Povm elements $\\Pi_0 = \\begin{pmatrix} 1 & 0 \\\\ 0 & 0 \\\\ \\end{pmatrix}$, $\\Pi_1 = \\begin{pmatrix} 0 & 0 \\\\ 0 & 1 \\\\ \\end{pmatrix}$.  \n",
    "Povm $\\Pi = \\{ \\Pi_x \\}_{x=0,1}$. index $x$ is called outcomes.  \n",
    "We can write $\\Pi_0= 1/\\sqrt{2} \\cdot I/\\sqrt{2} + 0 \\cdot X/\\sqrt{2} + 0 \\cdot Y/\\sqrt{2} + 1/\\sqrt{2} \\cdot  Z/\\sqrt{2}$ and  $\\Pi_1= 1/\\sqrt{2} \\cdot I/\\sqrt{2} + 0 \\cdot X/\\sqrt{2} + 0 \\cdot Y/\\sqrt{2} - 1/\\sqrt{2} \\cdot  Z/\\sqrt{2}$.  \n",
    "In this case `vecs` of $\\Pi$ is a list of $[ 1/\\sqrt{2}, 0, 0, 1/\\sqrt{2} ]$ and $[ 1/\\sqrt{2}, 0, 0, -1/\\sqrt{2} ]$."
   ],
   "cell_type": "markdown",
   "metadata": {}
  },
  {
   "source": [
    "### specific properties\n",
    "The property `vecs` of Povm is a list of a numpy array specified by the constructor argument `vecs`."
   ],
   "cell_type": "markdown",
   "metadata": {}
  },
  {
   "cell_type": "code",
   "execution_count": 27,
   "metadata": {},
   "outputs": [
    {
     "output_type": "stream",
     "name": "stdout",
     "text": [
      "(array([0.70710678, 0.        , 0.        , 0.70710678]), array([ 0.70710678,  0.        ,  0.        , -0.70710678]))\n"
     ]
    }
   ],
   "source": [
    "povm = Povm(c_sys, vecs)\n",
    "print(povm.vecs)"
   ]
  },
  {
   "source": [
    "The property `dim` of Povm is a square root of the size of element of `vecs`."
   ],
   "cell_type": "markdown",
   "metadata": {}
  },
  {
   "cell_type": "code",
   "execution_count": 28,
   "metadata": {},
   "outputs": [
    {
     "output_type": "stream",
     "name": "stdout",
     "text": [
      "2\n2\n"
     ]
    }
   ],
   "source": [
    "print(povm.dim)\n",
    "print(int(np.sqrt(len(vecs[0]))))"
   ]
  },
  {
   "source": [
    "### functions to check properties\n",
    "The is_eq_constraint_satisfied function returns True, if and only if $\\sum_x \\Pi_x = I$, where $\\Pi_x$ are Povm elements."
   ],
   "cell_type": "markdown",
   "metadata": {}
  },
  {
   "cell_type": "code",
   "execution_count": 29,
   "metadata": {},
   "outputs": [
    {
     "output_type": "stream",
     "name": "stdout",
     "text": [
      "True\n[[1.+0.j 0.+0.j]\n [0.+0.j 1.+0.j]]\n"
     ]
    }
   ],
   "source": [
    "from operator import add\n",
    "from functools import reduce\n",
    "\n",
    "print(povm.is_eq_constraint_satisfied())\n",
    "print(reduce(add, povm.matrices()))"
   ]
  },
  {
   "source": [
    "The is_ineq_constraint_satisfied function returns True, if and only if all $\\Pi_x$ are positive semidifinite matrices."
   ],
   "cell_type": "markdown",
   "metadata": {}
  },
  {
   "cell_type": "code",
   "execution_count": 30,
   "metadata": {},
   "outputs": [
    {
     "output_type": "stream",
     "name": "stdout",
     "text": [
      "True\n[[1.+0.j 0.+0.j]\n [0.+0.j 0.+0.j]]\n[[0.+0.j 0.+0.j]\n [0.+0.j 1.+0.j]]\n"
     ]
    }
   ],
   "source": [
    "print(povm.is_eq_constraint_satisfied())\n",
    "print(povm.matrix(0))\n",
    "print(povm.matrix(1))"
   ]
  },
  {
   "source": [
    "### projection functions"
   ],
   "cell_type": "markdown",
   "metadata": {}
  },
  {
   "cell_type": "code",
   "execution_count": null,
   "metadata": {},
   "outputs": [],
   "source": []
  },
  {
   "source": [
    "### functions to transform parameters\n",
    "to_stacked_vector function returns a one-dimensional numpy array of all variables. This is equal to a vector combining elements of `vecs`."
   ],
   "cell_type": "markdown",
   "metadata": {}
  },
  {
   "cell_type": "code",
   "execution_count": 31,
   "metadata": {},
   "outputs": [
    {
     "output_type": "stream",
     "name": "stdout",
     "text": [
      "[ 0.70710678  0.          0.          0.70710678  0.70710678  0.\n  0.         -0.70710678]\n(array([0.70710678, 0.        , 0.        , 0.70710678]), array([ 0.70710678,  0.        ,  0.        , -0.70710678]))\n"
     ]
    }
   ],
   "source": [
    "print(povm.to_stacked_vector())\n",
    "print(povm.vecs)"
   ]
  },
  {
   "source": [
    "If Povm $\\Pi = \\{ \\Pi_0, \\dots , \\Pi_{m-1} \\}$ and `on_para_eq_constraint` is True, then the last element of Povm $\\Pi_{m-1}$ is equal to $I - \\sum_{x=0}^{m-2} \\Pi_x$. Thus, Povm is characterized by `vecs[0]`,..., `vecs[m-2]`.  \n",
    "Therefore, to_var function returns a vector combining elements of of `vecs[0]`,..., `vecs[m-2]`, where `on_para_eq_constraint` is True."
   ],
   "cell_type": "markdown",
   "metadata": {}
  },
  {
   "cell_type": "code",
   "execution_count": 47,
   "metadata": {},
   "outputs": [],
   "source": [
    "vec1 = np.array([1, 0, 0, 1]) / np.sqrt(2)\n",
    "vec2 = np.array([1, 0, 0, -1]) / np.sqrt(2)\n",
    "vecs = [vec1, vec2]"
   ]
  },
  {
   "cell_type": "code",
   "execution_count": 48,
   "metadata": {},
   "outputs": [
    {
     "output_type": "stream",
     "name": "stdout",
     "text": [
      "[0.70710678 0.         0.         0.70710678]\n"
     ]
    }
   ],
   "source": [
    "# on_para_eq_constraint=True\n",
    "povm = Povm(c_sys, vecs, on_para_eq_constraint=True)\n",
    "print(povm.to_var())"
   ]
  },
  {
   "cell_type": "code",
   "execution_count": 49,
   "metadata": {},
   "outputs": [
    {
     "output_type": "stream",
     "name": "stdout",
     "text": [
      "[ 0.70710678  0.          0.          0.70710678  0.70710678  0.\n  0.         -0.70710678]\n"
     ]
    }
   ],
   "source": [
    "# on_para_eq_constraint=False\n",
    "povm = Povm(c_sys, vecs, on_para_eq_constraint=False)\n",
    "print(povm.to_var())"
   ]
  },
  {
   "source": [
    "### functions to generate special objects"
   ],
   "cell_type": "markdown",
   "metadata": {}
  },
  {
   "cell_type": "code",
   "execution_count": 34,
   "metadata": {},
   "outputs": [
    {
     "output_type": "stream",
     "name": "stdout",
     "text": [
      "(array([0., 0., 0., 0.]), array([0., 0., 0., 0.]))\n",
      "(array([0.70710678, 0.        , 0.        , 0.        ]), array([0.70710678, 0.        , 0.        , 0.        ]))\n"
     ]
    }
   ],
   "source": [
    "zero_povm = povm.generate_zero_obj()\n",
    "print(zero_povm.vecs)\n",
    "origin_povm = povm.generate_origin_obj()\n",
    "print(origin_povm.vecs)"
   ]
  },
  {
   "source": [
    "### supports arithmetic operations"
   ],
   "cell_type": "markdown",
   "metadata": {}
  },
  {
   "cell_type": "code",
   "execution_count": 35,
   "metadata": {},
   "outputs": [
    {
     "output_type": "stream",
     "name": "stdout",
     "text": [
      "(array([10., 12., 14., 16.]), array([18., 20., 22., 24.]))\n(array([-8., -8., -8., -8.]), array([-8., -8., -8., -8.]))\n(array([2., 4., 6., 8.]), array([10., 12., 14., 16.]))\n(array([2., 4., 6., 8.]), array([10., 12., 14., 16.]))\n(array([0.5, 1. , 1.5, 2. ]), array([2.5, 3. , 3.5, 4. ]))\n"
     ]
    }
   ],
   "source": [
    "vec11 = np.array([1.0, 2.0, 3.0, 4.0])\n",
    "vec12 = np.array([5.0, 6.0, 7.0, 8.0])\n",
    "povm1 = Povm(c_sys, [vec11, vec12], is_physicality_required=False)\n",
    "vec21 = np.array([9.0, 10.0, 11.0, 12.0])\n",
    "vec22 = np.array([13.0, 14.0, 15.0, 16.0])\n",
    "povm2 = Povm(c_sys, [vec21, vec22], is_physicality_required=False)\n",
    "\n",
    "print((povm1 + povm2).vecs)\n",
    "print((povm1 - povm2).vecs)\n",
    "print((2 * povm1).vecs)\n",
    "print((povm1 * 2).vecs)\n",
    "print((povm1 / 2).vecs)"
   ]
  },
  {
   "source": [
    "### calc_gradient functions\n",
    "Calculates gradient of Povm with variable index."
   ],
   "cell_type": "markdown",
   "metadata": {}
  },
  {
   "cell_type": "code",
   "execution_count": 36,
   "metadata": {},
   "outputs": [
    {
     "output_type": "stream",
     "name": "stdout",
     "text": [
      "(array([1., 0., 0., 0.]), array([0., 0., 0., 0.]))\n"
     ]
    }
   ],
   "source": [
    "grad_povm = povm.calc_gradient(0)\n",
    "print(grad_povm.vecs)"
   ]
  },
  {
   "source": [
    "### convert_basis function\n",
    "Returns `vecs` converted to the specified basis."
   ],
   "cell_type": "markdown",
   "metadata": {}
  },
  {
   "cell_type": "code",
   "execution_count": 37,
   "metadata": {},
   "outputs": [
    {
     "output_type": "stream",
     "name": "stdout",
     "text": [
      "[array([1.+0.j, 0.+0.j, 0.+0.j, 0.+0.j]), array([0.+0.j, 0.+0.j, 0.+0.j, 1.+0.j])]\n"
     ]
    }
   ],
   "source": [
    "from quara.objects.matrix_basis import get_comp_basis\n",
    "\n",
    "povm = generate_povm_from_name(\"z\", c_sys)\n",
    "converted_vecs = povm.convert_basis(get_comp_basis())\n",
    "print(converted_vecs)"
   ]
  },
  {
   "source": [
    "### generate_mprocess function\n",
    "Generates MProcess from this Povm."
   ],
   "cell_type": "markdown",
   "metadata": {}
  },
  {
   "cell_type": "code",
   "execution_count": 38,
   "metadata": {},
   "outputs": [
    {
     "output_type": "stream",
     "name": "stderr",
     "text": [
      "16it [00:00, 296.31it/s]Type:\n",
      "MProcess\n",
      "\n",
      "Dim:\n",
      "2\n",
      "\n",
      "HSs:\n",
      "[array([[0.5, 0. , 0. , 0.5],\n",
      "       [0. , 0. , 0. , 0. ],\n",
      "       [0. , 0. , 0. , 0. ],\n",
      "       [0.5, 0. , 0. , 0.5]]), array([[ 0.5,  0. ,  0. , -0.5],\n",
      "       [ 0. ,  0. ,  0. ,  0. ],\n",
      "       [ 0. ,  0. ,  0. ,  0. ],\n",
      "       [-0.5,  0. ,  0. ,  0.5]])]\n",
      "\n",
      "ModeSampling:\n",
      "False\n",
      "\n"
     ]
    }
   ],
   "source": [
    "print(povm.generate_mprocess())"
   ]
  },
  {
   "source": [
    "### some utility functions"
   ],
   "cell_type": "markdown",
   "metadata": {}
  },
  {
   "cell_type": "code",
   "execution_count": 39,
   "metadata": {},
   "outputs": [
    {
     "output_type": "stream",
     "name": "stdout",
     "text": [
      "[0.70710678 0.         0.         0.70710678]\n[matrix([[1.+0.j, 0.+0.j],\n        [0.+0.j, 0.+0.j]]), matrix([[0.+0.j, 0.+0.j],\n        [0.+0.j, 1.+0.j]])]\n[[1.+0.j 0.+0.j]\n [0.+0.j 0.+0.j]]\nTrue\nTrue\nTrue\n[0.9999999999999998, 0.0]\n"
     ]
    }
   ],
   "source": [
    "print(povm.vec(0))\n",
    "print(povm.matrices())\n",
    "print(povm.matrix(0))\n",
    "print(povm.is_hermitian())\n",
    "print(povm.is_positive_semidefinite())\n",
    "print(povm.is_identity_sum())\n",
    "print(povm.calc_eigenvalues(0))"
   ]
  },
  {
   "source": [
    "## povm_typical\n",
    "generate_povm_object_from_povm_name_object_name function in povm_typical module can easily generate objects related to Povm.  \n",
    "The generate_povm_object_from_povm_name_object_name function has the following arguments:\n",
    "\n",
    "- The string that can be specified for `povm_name` can be checked by executing the get_povm_names function. The tensor product of povm_name \"a\", \"b\" is written \"a_b\".\n",
    "- `object_name` can be the following string:\n",
    "  - \"pure_state_vectors\" - list of vector of pure states.\n",
    "  - \"matrices\" - matrices of vector of pure states.\n",
    "  - \"vectors\" - list of vectorized matrices.\n",
    "  - \"povm\" - Povm object.\n",
    "- `c_sys` - CompositeSystem of objects related to Povm. Specify when `object_name` is \"povm\".\n",
    "- `basis` - MatrixBasis of objects related to Povm. Specify when `object_name` is \"vectors\".\n",
    "- `is_physicality_required` - Whether the generated object is physicality required, by default True."
   ],
   "cell_type": "markdown",
   "metadata": {}
  },
  {
   "cell_type": "code",
   "execution_count": 40,
   "metadata": {},
   "outputs": [
    {
     "output_type": "stream",
     "name": "stdout",
     "text": [
      "['x', 'y', 'z', 'bell', 'x_x', 'x_y', 'x_z', 'y_x', 'y_y', 'y_z', 'z_x', 'z_y', 'z_z', 'x_x_x', 'x_x_y', 'x_x_z', 'x_y_x', 'x_y_y', 'x_y_z', 'x_z_x', 'x_z_y', 'x_z_z', 'y_x_x', 'y_x_y', 'y_x_z', 'y_y_x', 'y_y_y', 'y_y_z', 'y_z_x', 'y_z_y', 'y_z_z', 'z_x_x', 'z_x_y', 'z_x_z', 'z_y_x', 'z_y_y', 'z_y_z', 'z_z_x', 'z_z_y', 'z_z_z', '01x3', '01y3', 'z3', 'z2', '02x3', '02y3', '12x3', '12y3', '01x3_01x3', '01x3_01y3', '01x3_z3', '01x3_z2', '01x3_02x3', '01x3_02y3', '01x3_12x3', '01x3_12y3', '01y3_01x3', '01y3_01y3', '01y3_z3', '01y3_z2', '01y3_02x3', '01y3_02y3', '01y3_12x3', '01y3_12y3', 'z3_01x3', 'z3_01y3', 'z3_z3', 'z3_z2', 'z3_02x3', 'z3_02y3', 'z3_12x3', 'z3_12y3', 'z2_01x3', 'z2_01y3', 'z2_z3', 'z2_z2', 'z2_02x3', 'z2_02y3', 'z2_12x3', 'z2_12y3', '02x3_01x3', '02x3_01y3', '02x3_z3', '02x3_z2', '02x3_02x3', '02x3_02y3', '02x3_12x3', '02x3_12y3', '02y3_01x3', '02y3_01y3', '02y3_z3', '02y3_z2', '02y3_02x3', '02y3_02y3', '02y3_12x3', '02y3_12y3', '12x3_01x3', '12x3_01y3', '12x3_z3', '12x3_z2', '12x3_02x3', '12x3_02y3', '12x3_12x3', '12x3_12y3', '12y3_01x3', '12y3_01y3', '12y3_z3', '12y3_z2', '12y3_02x3', '12y3_02y3', '12y3_12x3', '12y3_12y3']\n"
     ]
    }
   ],
   "source": [
    "from quara.objects.povm_typical import (\n",
    "    get_povm_names,\n",
    "    generate_povm_object_from_povm_name_object_name,\n",
    ")\n",
    "\n",
    "print(get_povm_names())"
   ]
  },
  {
   "source": [
    "### pure_state_vectors"
   ],
   "cell_type": "markdown",
   "metadata": {}
  },
  {
   "cell_type": "code",
   "execution_count": 41,
   "metadata": {},
   "outputs": [
    {
     "output_type": "stream",
     "name": "stdout",
     "text": [
      "[array([1.+0.j, 0.+0.j]), array([0.+0.j, 1.+0.j])]\n"
     ]
    }
   ],
   "source": [
    "vecs = generate_povm_object_from_povm_name_object_name(\"z\", \"pure_state_vectors\")\n",
    "print(vecs)"
   ]
  },
  {
   "source": [
    "### matrices"
   ],
   "cell_type": "markdown",
   "metadata": {}
  },
  {
   "cell_type": "code",
   "execution_count": 43,
   "metadata": {},
   "outputs": [
    {
     "output_type": "stream",
     "name": "stdout",
     "text": [
      "[array([[1.+0.j, 0.+0.j],\n       [0.+0.j, 0.+0.j]]), array([[0.+0.j, 0.+0.j],\n       [0.+0.j, 1.+0.j]])]\n"
     ]
    }
   ],
   "source": [
    "matrices = generate_povm_object_from_povm_name_object_name(\"z\", \"matrices\")\n",
    "print(matrices)"
   ]
  },
  {
   "source": [
    "### vectors"
   ],
   "cell_type": "markdown",
   "metadata": {}
  },
  {
   "cell_type": "code",
   "execution_count": 44,
   "metadata": {},
   "outputs": [
    {
     "output_type": "stream",
     "name": "stdout",
     "text": [
      "[array([0.70710678, 0.        , 0.        , 0.70710678]), array([ 0.70710678,  0.        ,  0.        , -0.70710678])]\n"
     ]
    }
   ],
   "source": [
    "basis = get_normalized_pauli_basis(1)\n",
    "vectors = generate_povm_object_from_povm_name_object_name(\"z\", \"vectors\", basis=basis)\n",
    "print(vectors)"
   ]
  },
  {
   "source": [
    "### povm"
   ],
   "cell_type": "markdown",
   "metadata": {}
  },
  {
   "cell_type": "code",
   "execution_count": 46,
   "metadata": {},
   "outputs": [
    {
     "output_type": "stream",
     "name": "stdout",
     "text": [
      "Type:\nPovm\n\nDim:\n2\n\nNumber of outcomes:\n2\n\nVecs:\n[[ 0.70710678  0.          0.          0.70710678]\n [ 0.70710678  0.          0.         -0.70710678]]\n"
     ]
    }
   ],
   "source": [
    "c_sys = generate_composite_system(\"qubit\", 1)\n",
    "povm = generate_povm_object_from_povm_name_object_name(\"z\", \"povm\", c_sys=c_sys)\n",
    "print(povm)"
   ]
  },
  {
   "cell_type": "code",
   "execution_count": null,
   "metadata": {},
   "outputs": [],
   "source": []
  }
 ]
}