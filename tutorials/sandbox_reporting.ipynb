{
 "cells": [
  {
   "cell_type": "code",
   "execution_count": 16,
   "metadata": {},
   "outputs": [],
   "source": [
    "from xhtml2pdf import pisa\n",
    "from xhtml2pdf.config.httpconfig import httpConfig"
   ]
  },
  {
   "cell_type": "code",
   "execution_count": 2,
   "metadata": {},
   "outputs": [],
   "source": [
    "def _convert_html2pdf(source_html, output_path):\n",
    "    # TODO: make parent directory\n",
    "    # TODO: check file extension\n",
    "    httpConfig.save_keys('nosslcheck', True)\n",
    "    with open(output_path, \"w+b\") as f:\n",
    "        pisa_status = pisa.CreatePDF(source_html, dest=f)\n",
    "        \n",
    "    return pisa_status.err"
   ]
  },
  {
   "cell_type": "code",
   "execution_count": 3,
   "metadata": {},
   "outputs": [],
   "source": [
    "table_contents_css = \"\"\"\n",
    "pdftoc {\n",
    "    color: #666;\n",
    "}\n",
    "pdftoc.pdftoclevel0 {\n",
    "    font-weight: bold;\n",
    "    margin-top: 0.5em;\n",
    "}\n",
    "pdftoc.pdftoclevel1 {\n",
    "    margin-left: 1em;\n",
    "}\n",
    "pdftoc.pdftoclevel2 {\n",
    "    margin-left: 2em;\n",
    "    font-style: italic;\n",
    "}\"\"\""
   ]
  },
  {
   "cell_type": "code",
   "execution_count": 4,
   "metadata": {},
   "outputs": [],
   "source": [
    "inline_block_template = \"\"\"\n",
    ".box{\n",
    " display: inline-block;\n",
    " width: 200px;\n",
    "}\n",
    "\n",
    "\"\"\""
   ]
  },
  {
   "cell_type": "code",
   "execution_count": 5,
   "metadata": {},
   "outputs": [],
   "source": [
    "# State"
   ]
  },
  {
   "cell_type": "code",
   "execution_count": 7,
   "metadata": {},
   "outputs": [],
   "source": [
    "import pickle\n",
    "import time\n",
    "from typing import List\n",
    "import datetime as dt\n",
    "from pathlib import Path\n",
    "\n",
    "import numpy as np\n",
    "\n",
    "import plotly.graph_objects as go\n",
    "import plotly.express as px\n",
    "\n",
    "from tqdm import tqdm\n",
    "\n",
    "from quara.data_analysis import data_analysis, physicality_violation_check, report\n",
    "from quara.objects.composite_system import CompositeSystem\n",
    "from quara.objects.elemental_system import ElementalSystem\n",
    "from quara.objects.matrix_basis import get_normalized_pauli_basis\n",
    "from quara.objects.povm import (\n",
    "    Povm,\n",
    "    get_x_measurement,\n",
    "    get_y_measurement,\n",
    "    get_z_measurement,\n",
    ")\n",
    "from quara.objects.qoperation import QOperation\n",
    "from quara.objects.state import State, get_z0_1q, get_z1_1q, get_x0_1q\n",
    "from quara.protocol.qtomography.standard.standard_qst import StandardQst\n",
    "from quara.protocol.qtomography.standard.linear_estimator import LinearEstimator\n",
    "from quara.protocol.qtomography.standard.projected_linear_estimator import (\n",
    "    ProjectedLinearEstimator,\n",
    ")"
   ]
  },
  {
   "cell_type": "code",
   "execution_count": 8,
   "metadata": {},
   "outputs": [],
   "source": [
    "%load_ext autoreload\n",
    "%autoreload 2"
   ]
  },
  {
   "cell_type": "code",
   "execution_count": 9,
   "metadata": {},
   "outputs": [],
   "source": [
    "# setup system\n",
    "e_sys = ElementalSystem(0, get_normalized_pauli_basis())\n",
    "c_sys = CompositeSystem([e_sys])\n",
    "\n",
    "povm_x = get_x_measurement(c_sys)\n",
    "povm_y = get_y_measurement(c_sys)\n",
    "povm_z = get_z_measurement(c_sys)\n",
    "povms = [povm_x, povm_y, povm_z]"
   ]
  },
  {
   "cell_type": "code",
   "execution_count": 10,
   "metadata": {},
   "outputs": [
    {
     "name": "stderr",
     "output_type": "stream",
     "text": [
      "100%|██████████| 100/100 [00:01<00:00, 79.65it/s]\n",
      "100%|██████████| 100/100 [00:01<00:00, 78.23it/s]\n"
     ]
    }
   ],
   "source": [
    "true_object = get_z0_1q(c_sys)\n",
    "num_data = [100, 1000]\n",
    "iteration = 100\n",
    "\n",
    "# Linear (on_para_eq_constraint=True)\n",
    "qst = StandardQst(povms, on_para_eq_constraint=True)\n",
    "estimation_results_affine = data_analysis.estimate(qtomography=qst,\n",
    "                                                                         true_object=true_object,\n",
    "                                                                         num_data=num_data,\n",
    "                                                                         estimator=LinearEstimator(),\n",
    "                                                                         iteration=iteration)\n",
    "\n",
    "# Linear (on_para_eq_constraint=False)\n",
    "qst = StandardQst(povms, on_para_eq_constraint=False)\n",
    "estimation_results_linear = data_analysis.estimate(qtomography=qst,\n",
    "                                                                         true_object=true_object,\n",
    "                                                                         num_data=num_data,\n",
    "                                                                         estimator=LinearEstimator(),\n",
    "                                                                         iteration=iteration)"
   ]
  },
  {
   "cell_type": "markdown",
   "metadata": {},
   "source": [
    "一時保存時のファイル名規則:\n",
    "{ケース名}_{グラフの種類}_{numの情報}_{グラフの種類固有の識別子}\n",
    "\n",
    "例: \n",
    "等式制約の場合:    \n",
    "- case=0_trace_num=100\n",
    "不等式制約の場合\n",
    "- case=0_eigenvalues_num=100_i=0\n",
    "- case=0_sum-unphysical-eigenvalues_num=100_greater-than-one\n",
    "- case=0_sum-unphysical-eigenvalues_num=100_less-than-zero"
   ]
  },
  {
   "cell_type": "code",
   "execution_count": 36,
   "metadata": {},
   "outputs": [],
   "source": [
    "# MSE\n",
    "target_list = [estimation_results_affine, estimation_results_linear]\n",
    "case_name_list = [\"LinearEstimator(True)\", \"LinearEstimator(False)\"]\n",
    "\n",
    "iteration = 100\n",
    "\n",
    "mse_div = report.generate_mse_div(\n",
    "    target_list, case_name_list, true_object, num_data, iteration, [qst]\n",
    ")"
   ]
  },
  {
   "cell_type": "code",
   "execution_count": 119,
   "metadata": {},
   "outputs": [
    {
     "ename": "NotImplementedError",
     "evalue": "",
     "output_type": "error",
     "traceback": [
      "\u001b[0;31m---------------------------------------------------------------------------\u001b[0m",
      "\u001b[0;31mNotImplementedError\u001b[0m                       Traceback (most recent call last)",
      "\u001b[0;32m<ipython-input-119-57c5c57fc61b>\u001b[0m in \u001b[0;36m<module>\u001b[0;34m\u001b[0m\n\u001b[1;32m      7\u001b[0m \u001b[0;34m<\u001b[0m\u001b[0mh2\u001b[0m\u001b[0;34m>\u001b[0m\u001b[0mon_para_eq_constraint\u001b[0m\u001b[0;34m=\u001b[0m\u001b[0;32mTrue\u001b[0m\u001b[0;34m<\u001b[0m\u001b[0;34m/\u001b[0m\u001b[0mh2\u001b[0m\u001b[0;34m>\u001b[0m\u001b[0;34m\u001b[0m\u001b[0;34m\u001b[0m\u001b[0m\n\u001b[1;32m      8\u001b[0m \u001b[0;34m<\u001b[0m\u001b[0mh3\u001b[0m\u001b[0;34m>\u001b[0m\u001b[0mcase\u001b[0m \u001b[0;34m{\u001b[0m\u001b[0mcase_id\u001b[0m\u001b[0;34m}\u001b[0m\u001b[0;34m:\u001b[0m \u001b[0;34m{\u001b[0m\u001b[0mcase_name\u001b[0m\u001b[0;34m}\u001b[0m\u001b[0;34m<\u001b[0m\u001b[0mh3\u001b[0m\u001b[0;34m>\u001b[0m\u001b[0;34m\u001b[0m\u001b[0;34m\u001b[0m\u001b[0m\n\u001b[0;32m----> 9\u001b[0;31m \u001b[0;34m{\u001b[0m\u001b[0mreport\u001b[0m\u001b[0;34m.\u001b[0m\u001b[0mgenerate_trace_div\u001b[0m\u001b[0;34m(\u001b[0m\u001b[0mtarget\u001b[0m\u001b[0;34m,\u001b[0m \u001b[0mcase_id\u001b[0m\u001b[0;34m=\u001b[0m\u001b[0mcase_id\u001b[0m\u001b[0;34m,\u001b[0m \u001b[0mnum_data\u001b[0m\u001b[0;34m=\u001b[0m\u001b[0mnum_data\u001b[0m\u001b[0;34m)\u001b[0m\u001b[0;34m}\u001b[0m\u001b[0;34m\u001b[0m\u001b[0;34m\u001b[0m\u001b[0m\n\u001b[0m\u001b[1;32m     10\u001b[0m \"\"\"\n\u001b[1;32m     11\u001b[0m \u001b[0;34m\u001b[0m\u001b[0m\n",
      "\u001b[0;32m~/project/rcast/workspace/quara/quara/data_analysis/report.py\u001b[0m in \u001b[0;36mgenerate_trace_div\u001b[0;34m(estimation_results, case_id, num_data)\u001b[0m\n\u001b[1;32m     57\u001b[0m     \u001b[0mestimation_results\u001b[0m\u001b[0;34m:\u001b[0m \u001b[0mList\u001b[0m\u001b[0;34m[\u001b[0m\u001b[0;34m\"EstimationResult\"\u001b[0m\u001b[0;34m]\u001b[0m\u001b[0;34m,\u001b[0m \u001b[0mcase_id\u001b[0m\u001b[0;34m:\u001b[0m \u001b[0mint\u001b[0m\u001b[0;34m,\u001b[0m \u001b[0mnum_data\u001b[0m\u001b[0;34m:\u001b[0m \u001b[0mList\u001b[0m\u001b[0;34m[\u001b[0m\u001b[0mint\u001b[0m\u001b[0;34m]\u001b[0m\u001b[0;34m\u001b[0m\u001b[0;34m\u001b[0m\u001b[0m\n\u001b[1;32m     58\u001b[0m ):\n\u001b[0;32m---> 59\u001b[0;31m     fig_info_list = _make_graph_trace_seq(\n\u001b[0m\u001b[1;32m     60\u001b[0m         \u001b[0mestimation_results\u001b[0m\u001b[0;34m,\u001b[0m \u001b[0mcase_id\u001b[0m\u001b[0;34m=\u001b[0m\u001b[0mcase_id\u001b[0m\u001b[0;34m,\u001b[0m \u001b[0mnum_data\u001b[0m\u001b[0;34m=\u001b[0m\u001b[0mnum_data\u001b[0m\u001b[0;34m\u001b[0m\u001b[0;34m\u001b[0m\u001b[0m\n\u001b[1;32m     61\u001b[0m     )\n",
      "\u001b[0;32m~/project/rcast/workspace/quara/quara/data_analysis/report.py\u001b[0m in \u001b[0;36m_make_graph_trace_seq\u001b[0;34m(estimation_results, case_id, num_data)\u001b[0m\n\u001b[1;32m     25\u001b[0m     \u001b[0mfig_info_list\u001b[0m \u001b[0;34m=\u001b[0m \u001b[0;34m[\u001b[0m\u001b[0;34m]\u001b[0m\u001b[0;34m\u001b[0m\u001b[0;34m\u001b[0m\u001b[0m\n\u001b[1;32m     26\u001b[0m     \u001b[0;32mfor\u001b[0m \u001b[0mi\u001b[0m\u001b[0;34m,\u001b[0m \u001b[0mnum\u001b[0m \u001b[0;32min\u001b[0m \u001b[0menumerate\u001b[0m\u001b[0;34m(\u001b[0m\u001b[0mnum_data\u001b[0m\u001b[0;34m)\u001b[0m\u001b[0;34m:\u001b[0m\u001b[0;34m\u001b[0m\u001b[0;34m\u001b[0m\u001b[0m\n\u001b[0;32m---> 27\u001b[0;31m         fig = physicality_violation_check.make_graph_trace(\n\u001b[0m\u001b[1;32m     28\u001b[0m             \u001b[0mestimation_results\u001b[0m\u001b[0;34m,\u001b[0m \u001b[0mnum_data_index\u001b[0m\u001b[0;34m=\u001b[0m\u001b[0mi\u001b[0m\u001b[0;34m,\u001b[0m \u001b[0mnum_data\u001b[0m\u001b[0;34m=\u001b[0m\u001b[0mnum_data\u001b[0m\u001b[0;34m\u001b[0m\u001b[0;34m\u001b[0m\u001b[0m\n\u001b[1;32m     29\u001b[0m         )\n",
      "\u001b[0;32m~/project/rcast/workspace/quara/quara/data_analysis/physicality_violation_check.py\u001b[0m in \u001b[0;36mmake_graph_trace\u001b[0;34m(estimation_results, num_data, num_data_index, bin_size)\u001b[0m\n\u001b[1;32m    190\u001b[0m     \u001b[0mbin_size\u001b[0m\u001b[0;34m:\u001b[0m \u001b[0mfloat\u001b[0m \u001b[0;34m=\u001b[0m \u001b[0;36m0.0001\u001b[0m\u001b[0;34m,\u001b[0m\u001b[0;34m\u001b[0m\u001b[0;34m\u001b[0m\u001b[0m\n\u001b[1;32m    191\u001b[0m ) -> \"Figure\":\n\u001b[0;32m--> 192\u001b[0;31m     violation_result = check_physicality_violation(\n\u001b[0m\u001b[1;32m    193\u001b[0m         \u001b[0mestimation_results\u001b[0m\u001b[0;34m,\u001b[0m \u001b[0mnum_data_index\u001b[0m\u001b[0;34m=\u001b[0m\u001b[0mnum_data_index\u001b[0m\u001b[0;34m\u001b[0m\u001b[0;34m\u001b[0m\u001b[0m\n\u001b[1;32m    194\u001b[0m     )\n",
      "\u001b[0;32m~/project/rcast/workspace/quara/quara/data_analysis/physicality_violation_check.py\u001b[0m in \u001b[0;36mcheck_physicality_violation\u001b[0;34m(estimation_results, num_data_index)\u001b[0m\n\u001b[1;32m     73\u001b[0m     \u001b[0;32melse\u001b[0m\u001b[0;34m:\u001b[0m\u001b[0;34m\u001b[0m\u001b[0;34m\u001b[0m\u001b[0m\n\u001b[1;32m     74\u001b[0m         \u001b[0;31m# TODO: error message\u001b[0m\u001b[0;34m\u001b[0m\u001b[0;34m\u001b[0m\u001b[0;34m\u001b[0m\u001b[0m\n\u001b[0;32m---> 75\u001b[0;31m         \u001b[0;32mraise\u001b[0m \u001b[0mNotImplementedError\u001b[0m\u001b[0;34m(\u001b[0m\u001b[0;34m)\u001b[0m\u001b[0;34m\u001b[0m\u001b[0;34m\u001b[0m\u001b[0m\n\u001b[0m\u001b[1;32m     76\u001b[0m     \u001b[0;32mreturn\u001b[0m \u001b[0mresult\u001b[0m\u001b[0;34m\u001b[0m\u001b[0;34m\u001b[0m\u001b[0m\n\u001b[1;32m     77\u001b[0m \u001b[0;34m\u001b[0m\u001b[0m\n",
      "\u001b[0;31mNotImplementedError\u001b[0m: "
     ]
    }
   ],
   "source": [
    "# 残すこと\n",
    "case_id = 0\n",
    "case_name = \"LinearEstimator(True)\"\n",
    "target = estimation_results_affine\n",
    "\n",
    "physicality_violation_test_div_true = f\"\"\"\n",
    "<h2>on_para_eq_constraint=True</h2>\n",
    "<h3>case {case_id}: {case_name}<h3>\n",
    "{report.generate_trace_div(target, case_id=case_id, num_data=num_data)}\n",
    "\"\"\"\n",
    "\n",
    "# Falseの場合\n",
    "case_id = 1\n",
    "case_name = \"LinearEstimator(False)\"\n",
    "target = estimation_results_linear\n",
    "\n",
    "physicality_violation_test_div_false = f\"\"\"\n",
    "<h2>on_para_eq_constraint=False</h2>\n",
    "<h3>case {case_id}: {case_name}<h3>\n",
    "<h4>Eigenvalue</h4>\n",
    "{report.generate_eigenvalues_div(target, case_id=case_id, num_data=num_data, true_object=true_object)}\n",
    "<h4>Sum of unphysical eigenvalues </h4>\n",
    "{report.generate_sum_eigenvalues_div(target, case_id=case_id, num_data=num_data, true_object=true_object)}\n",
    "\"\"\"\n",
    "\n",
    "physicality_violation_test_div = (\n",
    "    physicality_violation_test_div_true + physicality_violation_test_div_false\n",
    ")"
   ]
  },
  {
   "cell_type": "code",
   "execution_count": 157,
   "metadata": {},
   "outputs": [],
   "source": [
    "report_html = f\"\"\"<html>\n",
    "<head>\n",
    "    <script src=\"https://cdn.plot.ly/plotly-latest.min.js\"></script>\n",
    "    \n",
    "    <style type=\"text/css\">\n",
    "        <!--\n",
    "             body {{color: #666666;}}\n",
    "             {{table_contents_css}}\n",
    "             table {{border: solid 1px #666666;}}\n",
    "             h1 {{margin-top: 60px; border-top: 2px #dcdcdc solid; padding-top: 10px; font-size: 25px}}\n",
    "             h2 {{font-size: 20px}}\n",
    "             h3 {{color:#EB9348; font-size: 15px;}}\n",
    "             .box{{\n",
    "                 display: inline-block;\n",
    "                 width: 400px;\n",
    "                }}\n",
    "            h4{{font-size: 15px; color: #618CBC; }}\n",
    "            pdftoc {{\n",
    "    color: #666;\n",
    "}}\n",
    "pdftoc.pdftoclevel0 {{\n",
    "    font-weight: bold;\n",
    "    margin-top: 0.5em;\n",
    "}}\n",
    "pdftoc.pdftoclevel1 {{\n",
    "    margin-left: 1em;\n",
    "}}\n",
    "pdftoc.pdftoclevel2 {{\n",
    "    margin-left: 2em;\n",
    "    font-style: italic;\n",
    "}}\n",
    "         -->\n",
    "    </style>\n",
    "<title>タイトル</title>\n",
    "</head>\n",
    "<body>\n",
    "<div id=\"table_of_contents\">\n",
    "<h1>Table of Contents</h1>\n",
    "<pdf:toc />\n",
    "</div>\n",
    "<h1>Experimental Condition</h1>\n",
    "<div>\n",
    "{test_table}\n",
    "{test_div}\n",
    "{pd.DataFrame(info_list).to_html()}\n",
    "</div>\n",
    "\n",
    "<h2>True Object</h2>\n",
    "<div>\n",
    "{true_object_info}\n",
    "</div>\n",
    "<h2>Tester Objects</h2>\n",
    "<div>\n",
    "    {''.join(info_list)}\n",
    "</div>\n",
    "<h1>MSE</h1>\n",
    "<div>\n",
    "{mse_div}\n",
    "</div>\n",
    "<h1>Physicality Violation Test</h1>\n",
    "{physicality_violation_test_div}\n",
    "\n",
    "<div>\n",
    "end\n",
    "</div>\n",
    "</body>\n",
    "</html>\"\"\""
   ]
  },
  {
   "cell_type": "code",
   "execution_count": 158,
   "metadata": {},
   "outputs": [
    {
     "data": {
      "text/plain": [
       "0"
      ]
     },
     "execution_count": 158,
     "metadata": {},
     "output_type": "execute_result"
    }
   ],
   "source": [
    "with open(\"test.html\", \"w\") as f:\n",
    "    f.write(report_html)\n",
    "    \n",
    "_convert_html2pdf(report_html, \"sample.pdf\")"
   ]
  },
  {
   "cell_type": "code",
   "execution_count": 159,
   "metadata": {},
   "outputs": [],
   "source": [
    "!open test.html"
   ]
  },
  {
   "cell_type": "code",
   "execution_count": 160,
   "metadata": {},
   "outputs": [
    {
     "data": {
      "text/plain": [
       "'StandardQst'"
      ]
     },
     "execution_count": 160,
     "metadata": {},
     "output_type": "execute_result"
    }
   ],
   "source": [
    "qst.__class__.__name__"
   ]
  },
  {
   "cell_type": "code",
   "execution_count": 143,
   "metadata": {},
   "outputs": [],
   "source": [
    "test_table = \"\"\"\n",
    "<table>\n",
    "  <tr>\n",
    "    <td>John</td>\n",
    "    <td>Doe</td>\n",
    "  </tr>\n",
    "  <tr>\n",
    "    <td>Jane<br>hoge</td>\n",
    "    <td>Doe</td>\n",
    "  </tr>\n",
    "</table>\n",
    "\n",
    "\"\"\""
   ]
  },
  {
   "cell_type": "code",
   "execution_count": 44,
   "metadata": {},
   "outputs": [],
   "source": [
    "tester_objects = povms"
   ]
  },
  {
   "cell_type": "code",
   "execution_count": 46,
   "metadata": {},
   "outputs": [
    {
     "data": {
      "text/plain": [
       "[<quara.objects.povm.Povm at 0x11a30eb50>,\n",
       " <quara.objects.povm.Povm at 0x11a370d00>,\n",
       " <quara.objects.povm.Povm at 0x11a3708b0>]"
      ]
     },
     "execution_count": 46,
     "metadata": {},
     "output_type": "execute_result"
    }
   ],
   "source": [
    "tester_objects"
   ]
  },
  {
   "cell_type": "code",
   "execution_count": 47,
   "metadata": {},
   "outputs": [
    {
     "data": {
      "text/plain": [
       "(array([0.70710678, 0.70710678, 0.        , 0.        ]),\n",
       " array([ 0.70710678, -0.70710678,  0.        ,  0.        ]))"
      ]
     },
     "execution_count": 47,
     "metadata": {},
     "output_type": "execute_result"
    }
   ],
   "source": [
    "tester_objects[0].vecs"
   ]
  },
  {
   "cell_type": "code",
   "execution_count": 49,
   "metadata": {},
   "outputs": [
    {
     "data": {
      "text/plain": [
       "'Povm'"
      ]
     },
     "execution_count": 49,
     "metadata": {},
     "output_type": "execute_result"
    }
   ],
   "source": [
    "tester_objects[0].__class__.__name__"
   ]
  },
  {
   "cell_type": "code",
   "execution_count": 50,
   "metadata": {},
   "outputs": [
    {
     "data": {
      "text/plain": [
       "quara.objects.composite_system.CompositeSystem"
      ]
     },
     "execution_count": 50,
     "metadata": {},
     "output_type": "execute_result"
    }
   ],
   "source": [
    "condition_html = \"\"\"\n",
    "<h1>Experimental Condition</h1>\n",
    "<h2>\n",
    "\"\"\""
   ]
  },
  {
   "cell_type": "code",
   "execution_count": 129,
   "metadata": {},
   "outputs": [
    {
     "name": "stdout",
     "output_type": "stream",
     "text": [
      "type:\tPovm\n",
      "dim:\t2\n",
      "number of measurements:\t2\n",
      "vec:\t[0.70710678 0.70710678 0.         0.        ]\n",
      "\t[ 0.70710678 -0.70710678  0.          0.        ]\n",
      "\n"
     ]
    }
   ],
   "source": [
    "print(tester_objects[0])"
   ]
  },
  {
   "cell_type": "code",
   "execution_count": 130,
   "metadata": {},
   "outputs": [
    {
     "name": "stdout",
     "output_type": "stream",
     "text": [
      "type:\tState\n",
      "dim:\t2\n",
      "vec:\t[0.70710678 0.         0.         0.70710678]\n"
     ]
    }
   ],
   "source": [
    "print(true_object)"
   ]
  },
  {
   "cell_type": "code",
   "execution_count": 118,
   "metadata": {},
   "outputs": [],
   "source": [
    "true_object_info = str(true_object).replace('\\n', '<br>')"
   ]
  },
  {
   "cell_type": "code",
   "execution_count": 151,
   "metadata": {},
   "outputs": [],
   "source": [
    "info_list = [str(tester).replace(\"\\n\", \"<br>\").replace(\"\\t\", \"&#009;\") for tester in tester_objects]"
   ]
  },
  {
   "cell_type": "code",
   "execution_count": 152,
   "metadata": {},
   "outputs": [],
   "source": [
    "import pandas as pd"
   ]
  },
  {
   "cell_type": "code",
   "execution_count": 153,
   "metadata": {},
   "outputs": [
    {
     "data": {
      "text/plain": [
       "'<table border=\"1\" class=\"dataframe\">\\n  <thead>\\n    <tr style=\"text-align: right;\">\\n      <th></th>\\n      <th>0</th>\\n    </tr>\\n  </thead>\\n  <tbody>\\n    <tr>\\n      <th>0</th>\\n      <td>type:&amp;#009;Povm&lt;br&gt;dim:&amp;#009;2&lt;br&gt;number of measurements:&amp;#009;2&lt;br&gt;vec:&amp;#009;[0.70710678 0.70710678 0.         0.        ]&lt;br&gt;&amp;#009;[ 0.70710678 -0.70710678  0.          0.        ]&lt;br&gt;</td>\\n    </tr>\\n    <tr>\\n      <th>1</th>\\n      <td>type:&amp;#009;Povm&lt;br&gt;dim:&amp;#009;2&lt;br&gt;number of measurements:&amp;#009;2&lt;br&gt;vec:&amp;#009;[0.70710678 0.         0.70710678 0.        ]&lt;br&gt;&amp;#009;[ 0.70710678  0.         -0.70710678  0.        ]&lt;br&gt;</td>\\n    </tr>\\n    <tr>\\n      <th>2</th>\\n      <td>type:&amp;#009;Povm&lt;br&gt;dim:&amp;#009;2&lt;br&gt;number of measurements:&amp;#009;2&lt;br&gt;vec:&amp;#009;[0.70710678 0.         0.         0.70710678]&lt;br&gt;&amp;#009;[ 0.70710678  0.          0.         -0.70710678]&lt;br&gt;</td>\\n    </tr>\\n  </tbody>\\n</table>'"
      ]
     },
     "execution_count": 153,
     "metadata": {},
     "output_type": "execute_result"
    }
   ],
   "source": [
    "pd.DataFrame(info_list).to_html()"
   ]
  },
  {
   "cell_type": "code",
   "execution_count": 123,
   "metadata": {},
   "outputs": [
    {
     "data": {
      "text/plain": [
       "{'type:&#009;Povm<br>dim:&#009;2<br>number of measurements:&#009;2<br>vec:&#009;[0.70710678 0.70710678 0.         0.        ]<br>&#009;&#009;[ 0.70710678 -0.70710678  0.          0.        ]<br>type:&#009;Povm<br>dim:&#009;2<br>number of measurements:&#009;2<br>vec:&#009;[0.70710678 0.         0.70710678 0.        ]<br>&#009;&#009;[ 0.70710678  0.         -0.70710678  0.        ]<br>type:&#009;Povm<br>dim:&#009;2<br>number of measurements:&#009;2<br>vec:&#009;[0.70710678 0.         0.         0.70710678]<br>&#009;&#009;[ 0.70710678  0.          0.         -0.70710678]<br>'}"
      ]
     },
     "execution_count": 123,
     "metadata": {},
     "output_type": "execute_result"
    }
   ],
   "source": [
    "{''.join(info_list)}"
   ]
  },
  {
   "cell_type": "code",
   "execution_count": 134,
   "metadata": {},
   "outputs": [],
   "source": [
    "df1 = pd.DataFrame(index=pd.date_range('2016-07-01', periods=3, freq='T'), \n",
    "                   columns=['featureA', 'featureB', 'featureC'], \n",
    "                   data=1.0)\n",
    "df2 = pd.DataFrame(index=pd.date_range('2016-07-01', periods=3, freq='T'), \n",
    "                   columns=['featureA', 'featureB', 'featureC'], \n",
    "                   data=2.0)\n",
    "df3 = pd.DataFrame(index=pd.date_range('2016-07-01', periods=3, freq='T'), \n",
    "                   columns=['featureA', 'featureB', 'featureC'], \n",
    "                   data=3.0)\n",
    " \n",
    "#辞書型データに其々を設定\n",
    "df_dict = dict()\n",
    "df_dict['dataA'] = df1\n",
    "df_dict['dataB'] = df2\n",
    "df_dict['dataC'] = df3\n",
    "#concatしてMultiIndex化\n",
    "df_multiindex = pd.concat(df_dict, axis=0)"
   ]
  },
  {
   "cell_type": "code",
   "execution_count": 136,
   "metadata": {},
   "outputs": [],
   "source": [
    "test_div = df_multiindex.to_html()"
   ]
  },
  {
   "cell_type": "code",
   "execution_count": 147,
   "metadata": {},
   "outputs": [
    {
     "data": {
      "text/plain": [
       "'<table border=\"1\" class=\"dataframe\">\\n  <thead>\\n    <tr style=\"text-align: right;\">\\n      <th></th>\\n      <th></th>\\n      <th>featureA</th>\\n      <th>featureB</th>\\n      <th>featureC</th>\\n    </tr>\\n  </thead>\\n  <tbody>\\n    <tr>\\n      <th rowspan=\"3\" valign=\"top\">dataA</th>\\n      <th>2016-07-01 00:00:00</th>\\n      <td>1.0</td>\\n      <td>1.0</td>\\n      <td>1.0</td>\\n    </tr>\\n    <tr>\\n      <th>2016-07-01 00:01:00</th>\\n      <td>1.0</td>\\n      <td>1.0</td>\\n      <td>1.0</td>\\n    </tr>\\n    <tr>\\n      <th>2016-07-01 00:02:00</th>\\n      <td>1.0</td>\\n      <td>1.0</td>\\n      <td>1.0</td>\\n    </tr>\\n    <tr>\\n      <th rowspan=\"3\" valign=\"top\">dataB</th>\\n      <th>2016-07-01 00:00:00</th>\\n      <td>2.0</td>\\n      <td>2.0</td>\\n      <td>2.0</td>\\n    </tr>\\n    <tr>\\n      <th>2016-07-01 00:01:00</th>\\n      <td>2.0</td>\\n      <td>2.0</td>\\n      <td>2.0</td>\\n    </tr>\\n    <tr>\\n      <th>2016-07-01 00:02:00</th>\\n      <td>2.0</td>\\n      <td>2.0</td>\\n      <td>2.0</td>\\n    </tr>\\n    <tr>\\n      <th rowspan=\"3\" valign=\"top\">dataC</th>\\n      <th>2016-07-01 00:00:00</th>\\n      <td>3.0</td>\\n      <td>3.0</td>\\n      <td>3.0</td>\\n    </tr>\\n    <tr>\\n      <th>2016-07-01 00:01:00</th>\\n      <td>3.0</td>\\n      <td>3.0</td>\\n      <td>3.0</td>\\n    </tr>\\n    <tr>\\n      <th>2016-07-01 00:02:00</th>\\n      <td>3.0</td>\\n      <td>3.0</td>\\n      <td>3.0</td>\\n    </tr>\\n  </tbody>\\n</table>'"
      ]
     },
     "execution_count": 147,
     "metadata": {},
     "output_type": "execute_result"
    }
   ],
   "source": [
    "test_div"
   ]
  },
  {
   "cell_type": "code",
   "execution_count": 148,
   "metadata": {},
   "outputs": [
    {
     "data": {
      "text/plain": [
       "'\\n<table>\\n  <tr>\\n    <td>John</td>\\n    <td>Doe</td>\\n  </tr>\\n  <tr>\\n    <td>Jane<br>hoge</td>\\n    <td>Doe</td>\\n  </tr>\\n</table>\\n\\n'"
      ]
     },
     "execution_count": 148,
     "metadata": {},
     "output_type": "execute_result"
    }
   ],
   "source": [
    "test_table"
   ]
  },
  {
   "cell_type": "code",
   "execution_count": null,
   "metadata": {},
   "outputs": [],
   "source": []
  }
 ],
 "metadata": {
  "hide_input": false,
  "kernelspec": {
   "display_name": "quara_venv",
   "language": "python",
   "name": "quara_venv"
  },
  "language_info": {
   "codemirror_mode": {
    "name": "ipython",
    "version": 3
   },
   "file_extension": ".py",
   "mimetype": "text/x-python",
   "name": "python",
   "nbconvert_exporter": "python",
   "pygments_lexer": "ipython3",
   "version": "3.8.0"
  },
  "toc": {
   "base_numbering": 1,
   "nav_menu": {},
   "number_sections": true,
   "sideBar": true,
   "skip_h1_title": false,
   "title_cell": "Table of Contents",
   "title_sidebar": "Contents",
   "toc_cell": false,
   "toc_position": {},
   "toc_section_display": true,
   "toc_window_display": false
  },
  "varInspector": {
   "cols": {
    "lenName": 16,
    "lenType": 16,
    "lenVar": 40
   },
   "kernels_config": {
    "python": {
     "delete_cmd_postfix": "",
     "delete_cmd_prefix": "del ",
     "library": "var_list.py",
     "varRefreshCmd": "print(var_dic_list())"
    },
    "r": {
     "delete_cmd_postfix": ") ",
     "delete_cmd_prefix": "rm(",
     "library": "var_list.r",
     "varRefreshCmd": "cat(var_dic_list()) "
    }
   },
   "types_to_exclude": [
    "module",
    "function",
    "builtin_function_or_method",
    "instance",
    "_Feature"
   ],
   "window_display": false
  }
 },
 "nbformat": 4,
 "nbformat_minor": 4
}
