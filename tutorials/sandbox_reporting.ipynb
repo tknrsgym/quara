{
 "cells": [
  {
   "cell_type": "code",
   "execution_count": 1,
   "metadata": {},
   "outputs": [],
   "source": [
    "from xhtml2pdf import pisa\n",
    "from xhtml2pdf.config.httpconfig import httpConfig"
   ]
  },
  {
   "cell_type": "code",
   "execution_count": 2,
   "metadata": {},
   "outputs": [],
   "source": [
    "def _convert_html2pdf(source_html, output_path):\n",
    "    # TODO: make parent directory\n",
    "    # TODO: check file extension\n",
    "    httpConfig.save_keys('nosslcheck', True)\n",
    "    with open(output_path, \"w+b\") as f:\n",
    "        pisa_status = pisa.CreatePDF(source_html, dest=f)\n",
    "        \n",
    "    return pisa_status.err"
   ]
  },
  {
   "cell_type": "code",
   "execution_count": 3,
   "metadata": {},
   "outputs": [],
   "source": [
    "table_template = \"\"\"<table>\n",
    "  <thead>\n",
    "    <tr>\n",
    "      <th>fugafuga</th>\n",
    "    </tr>\n",
    "  </thead>\n",
    "  <tbody>\n",
    "    <tr>\n",
    "      <th>hogehoge</th>\n",
    "    </tr>\n",
    "  </tbody>\n",
    "</table>\n",
    "\"\"\""
   ]
  },
  {
   "cell_type": "code",
   "execution_count": 4,
   "metadata": {},
   "outputs": [],
   "source": [
    "table_contents_css = \"\"\"\n",
    "pdftoc {\n",
    "    color: #666;\n",
    "}\n",
    "pdftoc.pdftoclevel0 {\n",
    "    font-weight: bold;\n",
    "    margin-top: 0.5em;\n",
    "}\n",
    "pdftoc.pdftoclevel1 {\n",
    "    margin-left: 1em;\n",
    "}\n",
    "pdftoc.pdftoclevel2 {\n",
    "    margin-left: 2em;\n",
    "    font-style: italic;\n",
    "}\"\"\""
   ]
  },
  {
   "cell_type": "code",
   "execution_count": 5,
   "metadata": {},
   "outputs": [],
   "source": [
    "float_template = \"\"\"\n",
    ".box{\n",
    " display: inline-block;\n",
    " width: 200px;\n",
    "}\n",
    "\n",
    "\"\"\""
   ]
  },
  {
   "cell_type": "code",
   "execution_count": 130,
   "metadata": {},
   "outputs": [],
   "source": [
    "html = f\"\"\"<html>\n",
    "<head>\n",
    "    <script src=\"https://cdn.plot.ly/plotly-latest.min.js\"></script>\n",
    "    \n",
    "    <style type=\"text/css\">\n",
    "        <!--\n",
    "             body {{color: #666666;}}\n",
    "             {{table_contents_css}}\n",
    "             table {{border: solid 1px #666666;}}\n",
    "             {float_template}\n",
    "             \n",
    "         -->\n",
    "    </style>\n",
    "<title>タイトル</title>\n",
    "</head>\n",
    "<body>\n",
    "<div id=\"table_of_contents\">\n",
    "<h1>Table of Contents</h1>\n",
    "<pdf:toc />\n",
    "</div>\n",
    "<h1>Hoge</h1>\n",
    "<div>\n",
    "test\n",
    "</div>\n",
    "{table_template}\n",
    "<h1>Fuga</h1>\n",
    "<h2>fugafuga</h2>\n",
    "<div>\n",
    "fuga\n",
    "</div>\n",
    "<div>\n",
    "    <div class='box'><img src=images/case=0_trace_num=100_0.png></div>\n",
    "    <div class='box'><img src=images/case=0_trace_num=100_0.png></div>\n",
    "    <div class='box'>box</div>\n",
    "    <div class='after'>after</div>\n",
    "</div>\n",
    "</body>\n",
    "</html>\"\"\""
   ]
  },
  {
   "cell_type": "code",
   "execution_count": 131,
   "metadata": {},
   "outputs": [
    {
     "data": {
      "text/plain": [
       "0"
      ]
     },
     "execution_count": 131,
     "metadata": {},
     "output_type": "execute_result"
    }
   ],
   "source": [
    "_convert_html2pdf(html, \"test_3.pdf\")"
   ]
  },
  {
   "cell_type": "code",
   "execution_count": 133,
   "metadata": {},
   "outputs": [],
   "source": [
    "!open test_3.pdf"
   ]
  },
  {
   "cell_type": "code",
   "execution_count": 193,
   "metadata": {},
   "outputs": [
    {
     "data": {
      "text/plain": [
       "'<html>\\n<head>\\n    <script src=\"https://cdn.plot.ly/plotly-latest.min.js\"></script>\\n    \\n    <style type=\"text/css\">\\n        <!--\\n             body {color: #666666;}\\n             {table_contents_css}\\n             table {border: solid 1px #666666;}\\n             \\n.box{\\n display: inline-block;\\n width: 200px;\\n}\\n\\n\\n             \\n         -->\\n    </style>\\n<title>タイトル</title>\\n</head>\\n<body>\\n<div id=\"table_of_contents\">\\n<h1>Table of Contents</h1>\\n<pdf:toc />\\n</div>\\n<h1>Hoge</h1>\\n<div>\\ntest\\n</div>\\n<table>\\n  <thead>\\n    <tr>\\n      <th>fugafuga</th>\\n    </tr>\\n  </thead>\\n  <tbody>\\n    <tr>\\n      <th>hogehoge</th>\\n    </tr>\\n  </tbody>\\n</table>\\n\\n<h1>Fuga</h1>\\n<h2>fugafuga</h2>\\n<div>\\nfuga\\n</div>\\n<div>\\n    <div class=\\'box\\'>box</div>\\n    <div class=\\'box\\'>box</div>\\n    <div class=\\'box\\'>box</div>\\n    <div class=\\'after\\'>after</div>\\n</div>\\n</body>\\n</html>'"
      ]
     },
     "execution_count": 193,
     "metadata": {},
     "output_type": "execute_result"
    }
   ],
   "source": [
    "html"
   ]
  },
  {
   "cell_type": "code",
   "execution_count": 7,
   "metadata": {},
   "outputs": [],
   "source": [
    "with open(\"test.html\", \"w\") as f:\n",
    "    f.write(html)"
   ]
  },
  {
   "cell_type": "code",
   "execution_count": 195,
   "metadata": {},
   "outputs": [],
   "source": [
    "!open test.html"
   ]
  },
  {
   "cell_type": "code",
   "execution_count": 199,
   "metadata": {},
   "outputs": [],
   "source": [
    "# State"
   ]
  },
  {
   "cell_type": "code",
   "execution_count": 9,
   "metadata": {},
   "outputs": [],
   "source": [
    "import pickle\n",
    "import time\n",
    "from typing import List\n",
    "import datetime as dt\n",
    "from pathlib import Path\n",
    "\n",
    "import numpy as np\n",
    "\n",
    "import plotly.graph_objects as go\n",
    "import plotly.express as px\n",
    "\n",
    "from tqdm import tqdm\n",
    "\n",
    "from quara.data_analysis import data_analysis, physicality_violation_check, report\n",
    "from quara.objects.composite_system import CompositeSystem\n",
    "from quara.objects.elemental_system import ElementalSystem\n",
    "from quara.objects.matrix_basis import get_normalized_pauli_basis\n",
    "from quara.objects.povm import (\n",
    "    Povm,\n",
    "    get_x_measurement,\n",
    "    get_y_measurement,\n",
    "    get_z_measurement,\n",
    ")\n",
    "from quara.objects.qoperation import QOperation\n",
    "from quara.objects.state import State, get_z0_1q, get_z1_1q, get_x0_1q\n",
    "from quara.protocol.qtomography.standard.standard_qst import StandardQst\n",
    "from quara.protocol.qtomography.standard.linear_estimator import LinearEstimator\n",
    "from quara.protocol.qtomography.standard.projected_linear_estimator import (\n",
    "    ProjectedLinearEstimator,\n",
    ")"
   ]
  },
  {
   "cell_type": "code",
   "execution_count": 10,
   "metadata": {},
   "outputs": [],
   "source": [
    "%load_ext autoreload\n",
    "%autoreload 2"
   ]
  },
  {
   "cell_type": "code",
   "execution_count": 11,
   "metadata": {},
   "outputs": [],
   "source": [
    "# setup system\n",
    "e_sys = ElementalSystem(0, get_normalized_pauli_basis())\n",
    "c_sys = CompositeSystem([e_sys])\n",
    "\n",
    "povm_x = get_x_measurement(c_sys)\n",
    "povm_y = get_y_measurement(c_sys)\n",
    "povm_z = get_z_measurement(c_sys)\n",
    "povms = [povm_x, povm_y, povm_z]"
   ]
  },
  {
   "cell_type": "code",
   "execution_count": 12,
   "metadata": {},
   "outputs": [
    {
     "name": "stderr",
     "output_type": "stream",
     "text": [
      "100%|██████████| 100/100 [00:01<00:00, 93.09it/s]\n",
      "100%|██████████| 100/100 [00:01<00:00, 91.42it/s]\n"
     ]
    }
   ],
   "source": [
    "true_object = get_z0_1q(c_sys)\n",
    "num_data = [100, 1000]\n",
    "iteration = 100\n",
    "\n",
    "# Linear (on_para_eq_constraint=True)\n",
    "qst = StandardQst(povms, on_para_eq_constraint=True)\n",
    "estimation_results_affine = data_analysis.estimate(qtomography=qst,\n",
    "                                                                         true_object=true_object,\n",
    "                                                                         num_data=num_data,\n",
    "                                                                         estimator=LinearEstimator(),\n",
    "                                                                         iteration=iteration)\n",
    "\n",
    "# Linear (on_para_eq_constraint=False)\n",
    "qst = StandardQst(povms, on_para_eq_constraint=False)\n",
    "estimation_results_linear = data_analysis.estimate(qtomography=qst,\n",
    "                                                                         true_object=true_object,\n",
    "                                                                         num_data=num_data,\n",
    "                                                                         estimator=LinearEstimator(),\n",
    "                                                                         iteration=iteration)"
   ]
  },
  {
   "cell_type": "code",
   "execution_count": 13,
   "metadata": {},
   "outputs": [
    {
     "ename": "SyntaxError",
     "evalue": "invalid syntax (<ipython-input-13-9e831571feb3>, line 1)",
     "output_type": "error",
     "traceback": [
      "\u001b[0;36m  File \u001b[0;32m\"<ipython-input-13-9e831571feb3>\"\u001b[0;36m, line \u001b[0;32m1\u001b[0m\n\u001b[0;31m    一時保存時のファイル名規則:\u001b[0m\n\u001b[0m                  ^\u001b[0m\n\u001b[0;31mSyntaxError\u001b[0m\u001b[0;31m:\u001b[0m invalid syntax\n"
     ]
    }
   ],
   "source": [
    "一時保存時のファイル名規則:\n",
    "{ケース名}_{グラフの種類}_{numの情報}_{グラフの種類固有の識別子}\n",
    "\n",
    "例: \n",
    "等式制約の場合:    \n",
    "- case=0_trace_num=100\n",
    "不等式制約の場合\n",
    "- case=0_eigenvalues_num=100_i=0\n",
    "- case=0_sum-unphysical-eigenvalues_num=100_greater-than-one\n",
    "- case=0_sum-unphysical-eigenvalues_num=100_less-than-zero"
   ]
  },
  {
   "cell_type": "code",
   "execution_count": null,
   "metadata": {},
   "outputs": [],
   "source": [
    "html = \"\"\"\n",
    "<h1>Consistency Test</h1>\n",
    "<hr>\n",
    "<h1>Asymptotic Consistency Test & Efficiency Test</h1>\n",
    "# MSEの図\n",
    "<hr>\n",
    "<h1>Physicality Violation Test</h1>\n",
    "<h2>on_para_eq_constraint = True</h2>\n",
    "# 列 = i = 0, i = 1\n",
    "# 行 = num_dataの要素分繰り返す\n",
    "<h2>on_para_eq_constraint = False</h2>\n",
    "# 列 = :<0, >1\n",
    "# 行 = num_dataの要素数分繰り返す\n",
    "\"\"\""
   ]
  },
  {
   "cell_type": "code",
   "execution_count": 73,
   "metadata": {},
   "outputs": [],
   "source": [
    "report_html = f\"\"\"<html>\n",
    "<head>\n",
    "    <script src=\"https://cdn.plot.ly/plotly-latest.min.js\"></script>\n",
    "    \n",
    "    <style type=\"text/css\">\n",
    "        <!--\n",
    "             body {{color: #666666;}}\n",
    "             {{table_contents_css}}\n",
    "             table {{border: solid 1px #666666;}}\n",
    "             h1 {{margin-top: 60px; border-top: 2px #dcdcdc solid; padding-top: 10px; font-size: 25px}}\n",
    "             {float_template}\n",
    "             \n",
    "         -->\n",
    "    </style>\n",
    "<title>タイトル</title>\n",
    "</head>\n",
    "<body>\n",
    "<div id=\"table_of_contents\">\n",
    "<h1>Table of Contents</h1>\n",
    "<pdf:toc />\n",
    "</div>\n",
    "<h1>MSE</h1>\n",
    "<div>\n",
    "(TODO)\n",
    "</div>\n",
    "<h1>Physicality Violation Test</h1>\n",
    "{physicality_violation_test_div}\n",
    "</body>\n",
    "</html>\"\"\""
   ]
  },
  {
   "cell_type": "code",
   "execution_count": null,
   "metadata": {},
   "outputs": [],
   "source": [
    "\n",
    "case_id = 0"
   ]
  },
  {
   "cell_type": "code",
   "execution_count": 291,
   "metadata": {},
   "outputs": [],
   "source": [
    "def _generate_graph_sum_eigenvalues_seq(\n",
    "    estimation_results: List[\"EstimationResult\"],\n",
    "    case_id: int,\n",
    "    true_object,\n",
    "    num_data: List[int],\n",
    ") -> list:\n",
    "\n",
    "    fig_info_list_list = []\n",
    "    for num_data_index in range(len(num_data)):\n",
    "        fig_list = physicality_violation_check.make_graphs_sum_unphysical_eigenvalues(\n",
    "            estimation_results, num_data=num_data, num_data_index=num_data_index,\n",
    "        )\n",
    "        fig_info_list = []\n",
    "\n",
    "        for i, fig in enumerate(fig_list):\n",
    "            fig_name = f\"case={case_id}_sum-unphysical-eigenvalues_num={num_data_index}_type={i}\"\n",
    "\n",
    "            # output\n",
    "            # TODO\n",
    "            dir_path = Path(\n",
    "                \"/Users/tomoko/project/rcast/workspace/quara/tutorials/images\"\n",
    "            )\n",
    "            path = str(dir_path / f\"{fig_name}.png\")\n",
    "            fig.update_layout(width=500, height=400)\n",
    "            dir_path.mkdir(exist_ok=True)\n",
    "            fig.write_image(path)\n",
    "\n",
    "            fig_info_list.append(dict(image_path=path, fig=fig, fig_name=fig_name))\n",
    "\n",
    "        fig_info_list_list.append(fig_info_list)\n",
    "    return fig_info_list_list\n",
    "\n",
    "\n",
    "def _generate_sum_eigenvalues_div(fig_info_list_list) -> str:\n",
    "    graph_block_html_all = \"\"\n",
    "    for fig_info_list in fig_info_list_list:\n",
    "        graph_block_html = \"\"\n",
    "        for fig_info in fig_info_list:\n",
    "            graph_subblock = (\n",
    "                f\"<div class='box'><img src={fig_info['image_path']}></div>\"\n",
    "            )\n",
    "            graph_block_html += graph_subblock\n",
    "\n",
    "        graph_block_html_all += f\"<div>{graph_block_html}</div>\"\n",
    "    graph_block_html_all = f\"<div>{graph_block_html_all}</div>\"\n",
    "\n",
    "    return graph_block_html_all\n",
    "\n",
    "\n",
    "def generate_sum_eigenvalues_div(\n",
    "    estimation_results: List[\"EstimationResult\"],\n",
    "    case_id: int,\n",
    "    num_data: List[int],\n",
    "    true_object,\n",
    "):\n",
    "    fig_info_list_list = _generate_graph_sum_eigenvalues_seq(\n",
    "        estimation_results, case_id=case_id, true_object=true_object, num_data=num_data\n",
    "    )\n",
    "    div_html = _generate_eigenvalues_div(fig_info_list_list)\n",
    "\n",
    "    \n",
    "    return div_html"
   ]
  },
  {
   "cell_type": "code",
   "execution_count": 333,
   "metadata": {},
   "outputs": [],
   "source": [
    "target_list = [estimation_results_affine, estimation_results_linear]\n",
    "case_name_list = [\n",
    "    \"LinearEstimator(True)\",\n",
    "    \"LinearEstimator(False)\"\n",
    "]\n",
    "\n",
    "iteration = 100\n",
    "title = f\"Mean Square Value<br>Nrep={iteration}\"\n",
    "mses_list = []\n",
    "\n",
    "for result in target_list:\n",
    "    mses, _, _ = data_analysis.convert_to_series(\n",
    "    result, true_object\n",
    ")\n",
    "    mses_list.append(mses)\n",
    "name_list = [f\"case {i}: {name}\" for i, name in enumerate(case_name_list)]\n",
    "\n",
    "fig = data_analysis.make_mses_graph(num_data=num_data, mses=mses_list, names=name_list, title=title)\n",
    "\n",
    "fig_name = f\"mse\"\n",
    "\n",
    "# output\n",
    "# TODO\n",
    "dir_path = Path(\n",
    "                \"/Users/tomoko/project/rcast/workspace/quara/tutorials/images\"\n",
    "            )\n",
    "path = str(dir_path / f\"{fig_name}.png\")\n",
    "dir_path.mkdir(exist_ok=True)\n",
    "fig.write_image(path)\n",
    "\n",
    "mse_div = f\"\"\"<div><img src=\"{path}\"></div>\n",
    "\"\"\""
   ]
  },
  {
   "cell_type": "code",
   "execution_count": null,
   "metadata": {},
   "outputs": [],
   "source": []
  },
  {
   "cell_type": "code",
   "execution_count": null,
   "metadata": {},
   "outputs": [],
   "source": []
  },
  {
   "cell_type": "code",
   "execution_count": 334,
   "metadata": {},
   "outputs": [
    {
     "name": "stderr",
     "output_type": "stream",
     "text": [
      "100%|██████████| 100/100 [00:00<00:00, 6388.21it/s]\n",
      "100%|██████████| 100/100 [00:00<00:00, 5712.36it/s]\n",
      "100%|██████████| 100/100 [00:00<00:00, 6513.30it/s]\n",
      "100%|██████████| 100/100 [00:00<00:00, 7262.74it/s]\n"
     ]
    }
   ],
   "source": [
    "# 残すこと\n",
    "case_id = 0\n",
    "case_name = \"LinearEstimator(True)\"\n",
    "target = estimation_results_affine\n",
    "\n",
    "physicality_violation_test_div_true = f\"\"\"\n",
    "<h2>on_para_eq_constraint=True</h2>\n",
    "<h3>case {case_id}: {case_name}<h3>\n",
    "{report.generate_trace_div(target, case_id=case_id, num_data=num_data)}\n",
    "\"\"\"\n",
    "\n",
    "# Falseの場合\n",
    "case_id = 1\n",
    "case_name = \"LinearEstimator(False)\"\n",
    "target = estimation_results_linear\n",
    "\n",
    "physicality_violation_test_div_false = f\"\"\"\n",
    "<h2>on_para_eq_constraint=False</h2>\n",
    "<h3>case {case_id}: {case_name}<h3>\n",
    "<h4>Eigenvalue</h4>\n",
    "{report.generate_eigenvalues_div(target, case_id=case_id, num_data=num_data, true_object=true_object)}\n",
    "<h4>Sum of unphysical eigenvalues </h4>\n",
    "{report.generate_sum_eigenvalues_div(target, case_id=case_id, num_data=num_data, true_object=true_object)}\n",
    "\"\"\"\n",
    "\n",
    "physicality_violation_test_div = physicality_violation_test_div_true + physicality_violation_test_div_false"
   ]
  },
  {
   "cell_type": "code",
   "execution_count": 345,
   "metadata": {},
   "outputs": [],
   "source": [
    "report_html = f\"\"\"<html>\n",
    "<head>\n",
    "    <script src=\"https://cdn.plot.ly/plotly-latest.min.js\"></script>\n",
    "    \n",
    "    <style type=\"text/css\">\n",
    "        <!--\n",
    "             body {{color: #666666;}}\n",
    "             {{table_contents_css}}\n",
    "             table {{border: solid 1px #666666;}}\n",
    "             h1 {{margin-top: 60px; border-top: 2px #dcdcdc solid; padding-top: 10px; font-size: 25px}}\n",
    "             h2 {{font-size: 20px}}\n",
    "             h3 {{color:#EB9348; font-size: 15px;}}\n",
    "             .box{{\n",
    "                 display: inline-block;\n",
    "                 width: 400px;\n",
    "                }}\n",
    "            h4{{font-size: 15px; color: #618CBC; }}\n",
    "            pdftoc {{\n",
    "    color: #666;\n",
    "}}\n",
    "pdftoc.pdftoclevel0 {{\n",
    "    font-weight: bold;\n",
    "    margin-top: 0.5em;\n",
    "}}\n",
    "pdftoc.pdftoclevel1 {{\n",
    "    margin-left: 1em;\n",
    "}}\n",
    "pdftoc.pdftoclevel2 {{\n",
    "    margin-left: 2em;\n",
    "    font-style: italic;\n",
    "}}\n",
    "         -->\n",
    "    </style>\n",
    "<title>タイトル</title>\n",
    "</head>\n",
    "<body>\n",
    "<div id=\"table_of_contents\">\n",
    "<h1>Table of Contents</h1>\n",
    "<pdf:toc />\n",
    "</div>\n",
    "<h1>MSE</h1>\n",
    "<div>\n",
    "{mse_div}\n",
    "<p>TODO: 解析解を追加する</p>\n",
    "</div>\n",
    "<h1>Physicality Violation Test</h1>\n",
    "{physicality_violation_test_div}\n",
    "\n",
    "<div>\n",
    "end\n",
    "</div>\n",
    "</body>\n",
    "</html>\"\"\""
   ]
  },
  {
   "cell_type": "code",
   "execution_count": 346,
   "metadata": {},
   "outputs": [],
   "source": [
    "with open(\"test.html\", \"w\") as f:\n",
    "    f.write(report_html)"
   ]
  },
  {
   "cell_type": "code",
   "execution_count": 347,
   "metadata": {},
   "outputs": [],
   "source": [
    "!open test.html"
   ]
  },
  {
   "cell_type": "code",
   "execution_count": 349,
   "metadata": {},
   "outputs": [
    {
     "data": {
      "text/plain": [
       "0"
      ]
     },
     "execution_count": 349,
     "metadata": {},
     "output_type": "execute_result"
    }
   ],
   "source": [
    "_convert_html2pdf(report_html, \"sample.pdf\")"
   ]
  },
  {
   "cell_type": "code",
   "execution_count": 350,
   "metadata": {},
   "outputs": [],
   "source": [
    "!open \"sample.pdf\""
   ]
  },
  {
   "cell_type": "code",
   "execution_count": 178,
   "metadata": {},
   "outputs": [
    {
     "ename": "SyntaxError",
     "evalue": "invalid syntax (<ipython-input-178-b9f7052db8f0>, line 1)",
     "output_type": "error",
     "traceback": [
      "\u001b[0;36m  File \u001b[0;32m\"<ipython-input-178-b9f7052db8f0>\"\u001b[0;36m, line \u001b[0;32m1\u001b[0m\n\u001b[0;31m    <div>\u001b[0m\n\u001b[0m    ^\u001b[0m\n\u001b[0;31mSyntaxError\u001b[0m\u001b[0;31m:\u001b[0m invalid syntax\n"
     ]
    }
   ],
   "source": [
    "<div>\n",
    "    <div class='box'><img src=images/case=0_trace_num=100_0.png></div>\n",
    "    <div class='box'><img src=images/case=0_trace_num=100_0.png></div>\n",
    "    <div class='box'>box</div>\n",
    "    <div class='after'>after</div>\n",
    "</div>"
   ]
  },
  {
   "cell_type": "code",
   "execution_count": 239,
   "metadata": {},
   "outputs": [
    {
     "name": "stdout",
     "output_type": "stream",
     "text": [
      "Collecting psutil\n",
      "  Downloading psutil-5.7.2.tar.gz (460 kB)\n",
      "\u001b[K     |████████████████████████████████| 460 kB 3.5 MB/s eta 0:00:01\n",
      "\u001b[?25hUsing legacy 'setup.py install' for psutil, since package 'wheel' is not installed.\n",
      "Installing collected packages: psutil\n",
      "    Running setup.py install for psutil ... \u001b[?25ldone\n",
      "\u001b[?25hSuccessfully installed psutil-5.7.2\n",
      "\u001b[33mWARNING: You are using pip version 20.2.2; however, version 20.2.3 is available.\n",
      "You should consider upgrading via the '/Users/tomoko/project/rcast/workspace/quara/venv/bin/python3.8 -m pip install --upgrade pip' command.\u001b[0m\n"
     ]
    }
   ],
   "source": [
    "!pip install psutil"
   ]
  },
  {
   "cell_type": "code",
   "execution_count": 205,
   "metadata": {},
   "outputs": [
    {
     "data": {
      "text/plain": [
       "4"
      ]
     },
     "execution_count": 205,
     "metadata": {},
     "output_type": "execute_result"
    }
   ],
   "source": [
    "state.dim"
   ]
  },
  {
   "cell_type": "code",
   "execution_count": 213,
   "metadata": {},
   "outputs": [
    {
     "data": {
      "text/plain": [
       "2"
      ]
     },
     "execution_count": 213,
     "metadata": {},
     "output_type": "execute_result"
    }
   ],
   "source": [
    "get_x0_1q(CompositeSystem([e_sys0])).dim"
   ]
  },
  {
   "cell_type": "code",
   "execution_count": 129,
   "metadata": {},
   "outputs": [
    {
     "data": {
      "text/plain": [
       "'\\n<h2>on_para_eq_constraint=True</h2>\\n<h3>case 0: LinearEstimator<h3>\\n<div><div><img src=images/case=0_trace_num=100_0.png></div><div><img src=images/case=0_trace_num=1000_0.png></div></div>\\n'"
      ]
     },
     "execution_count": 129,
     "metadata": {},
     "output_type": "execute_result"
    }
   ],
   "source": [
    "physicality_violation_test_div"
   ]
  },
  {
   "cell_type": "code",
   "execution_count": 190,
   "metadata": {},
   "outputs": [
    {
     "name": "stdout",
     "output_type": "stream",
     "text": [
      "\u001b[34mdata\u001b[m\u001b[m\r\n",
      "debug_calc_projection.ipynb\r\n",
      "\u001b[34mimages\u001b[m\u001b[m\r\n",
      "sandbox_reporting.ipynb\r\n",
      "test.html\r\n",
      "test.pdf\r\n",
      "test_2.pdf\r\n",
      "test_3.pdf\r\n",
      "turorial_for_MSE_of_povmt.ipynb\r\n",
      "turorial_for_plotting_physicality_violation_of_povmt.ipynb\r\n",
      "turorial_for_plotting_physicality_violation_of_qst.ipynb\r\n",
      "turorial_for_plotting_physicality_violation_of_qst_LinearEstimator.ipynb\r\n",
      "turorial_for_plotting_physicality_violation_of_qst_ProjectedLinearEstimator-fix.ipynb\r\n",
      "turorial_for_plotting_physicality_violation_of_qst_ProjectedLinearEstimator.ipynb\r\n",
      "turorial_for_povmt.ipynb\r\n",
      "turorial_for_qst.ipynb\r\n",
      "turorial_for_reporting.ipynb\r\n",
      "tutorial_for_calc_proj_physical.ipynb\r\n",
      "tutorial_for_linear_estimator-debugging.ipynb\r\n",
      "tutorial_for_linear_estimator.ipynb\r\n",
      "tutorial_for_povmt_mse.ipynb\r\n",
      "tutorial_for_simple_lsqpt_1qubit.ipynb\r\n",
      "tutorial_for_simple_lsqpt_2qubit.ipynb\r\n",
      "tutorial_for_simple_qpt_1qubit.ipynb\r\n",
      "tutorial_for_simple_qpt_2qubit.ipynb\r\n"
     ]
    }
   ],
   "source": [
    "!ls /Users/tomoko/project/rcast/workspace/quara/tutorials"
   ]
  },
  {
   "cell_type": "code",
   "execution_count": null,
   "metadata": {},
   "outputs": [],
   "source": []
  }
 ],
 "metadata": {
  "hide_input": false,
  "kernelspec": {
   "display_name": "quara_venv",
   "language": "python",
   "name": "quara_venv"
  },
  "language_info": {
   "codemirror_mode": {
    "name": "ipython",
    "version": 3
   },
   "file_extension": ".py",
   "mimetype": "text/x-python",
   "name": "python",
   "nbconvert_exporter": "python",
   "pygments_lexer": "ipython3",
   "version": "3.8.0"
  },
  "toc": {
   "base_numbering": 1,
   "nav_menu": {},
   "number_sections": true,
   "sideBar": true,
   "skip_h1_title": false,
   "title_cell": "Table of Contents",
   "title_sidebar": "Contents",
   "toc_cell": false,
   "toc_position": {},
   "toc_section_display": true,
   "toc_window_display": false
  },
  "varInspector": {
   "cols": {
    "lenName": 16,
    "lenType": 16,
    "lenVar": 40
   },
   "kernels_config": {
    "python": {
     "delete_cmd_postfix": "",
     "delete_cmd_prefix": "del ",
     "library": "var_list.py",
     "varRefreshCmd": "print(var_dic_list())"
    },
    "r": {
     "delete_cmd_postfix": ") ",
     "delete_cmd_prefix": "rm(",
     "library": "var_list.r",
     "varRefreshCmd": "cat(var_dic_list()) "
    }
   },
   "types_to_exclude": [
    "module",
    "function",
    "builtin_function_or_method",
    "instance",
    "_Feature"
   ],
   "window_display": false
  }
 },
 "nbformat": 4,
 "nbformat_minor": 4
}
