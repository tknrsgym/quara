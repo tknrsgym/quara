{
 "cells": [
  {
   "cell_type": "code",
   "execution_count": 16,
   "metadata": {},
   "outputs": [],
   "source": [
    "from xhtml2pdf import pisa\n",
    "from xhtml2pdf.config.httpconfig import httpConfig"
   ]
  },
  {
   "cell_type": "code",
   "execution_count": 2,
   "metadata": {},
   "outputs": [],
   "source": [
    "def _convert_html2pdf(source_html, output_path):\n",
    "    # TODO: make parent directory\n",
    "    # TODO: check file extension\n",
    "    httpConfig.save_keys('nosslcheck', True)\n",
    "    with open(output_path, \"w+b\") as f:\n",
    "        pisa_status = pisa.CreatePDF(source_html, dest=f)\n",
    "        \n",
    "    return pisa_status.err"
   ]
  },
  {
   "cell_type": "code",
   "execution_count": 3,
   "metadata": {},
   "outputs": [],
   "source": [
    "table_contents_css = \"\"\"\n",
    "pdftoc {\n",
    "    color: #666;\n",
    "}\n",
    "pdftoc.pdftoclevel0 {\n",
    "    font-weight: bold;\n",
    "    margin-top: 0.5em;\n",
    "}\n",
    "pdftoc.pdftoclevel1 {\n",
    "    margin-left: 1em;\n",
    "}\n",
    "pdftoc.pdftoclevel2 {\n",
    "    margin-left: 2em;\n",
    "    font-style: italic;\n",
    "}\"\"\""
   ]
  },
  {
   "cell_type": "code",
   "execution_count": 4,
   "metadata": {},
   "outputs": [],
   "source": [
    "inline_block_template = \"\"\"\n",
    ".box{\n",
    " display: inline-block;\n",
    " width: 200px;\n",
    "}\n",
    "\n",
    "\"\"\""
   ]
  },
  {
   "cell_type": "code",
   "execution_count": 5,
   "metadata": {},
   "outputs": [],
   "source": [
    "# State"
   ]
  },
  {
   "cell_type": "code",
   "execution_count": 7,
   "metadata": {},
   "outputs": [],
   "source": [
    "import pickle\n",
    "import time\n",
    "from typing import List\n",
    "import datetime as dt\n",
    "from pathlib import Path\n",
    "\n",
    "import numpy as np\n",
    "\n",
    "import plotly.graph_objects as go\n",
    "import plotly.express as px\n",
    "\n",
    "from tqdm import tqdm\n",
    "\n",
    "from quara.data_analysis import data_analysis, physicality_violation_check, report\n",
    "from quara.objects.composite_system import CompositeSystem\n",
    "from quara.objects.elemental_system import ElementalSystem\n",
    "from quara.objects.matrix_basis import get_normalized_pauli_basis\n",
    "from quara.objects.povm import (\n",
    "    Povm,\n",
    "    get_x_measurement,\n",
    "    get_y_measurement,\n",
    "    get_z_measurement,\n",
    ")\n",
    "from quara.objects.qoperation import QOperation\n",
    "from quara.objects.state import State, get_z0_1q, get_z1_1q, get_x0_1q\n",
    "from quara.protocol.qtomography.standard.standard_qst import StandardQst\n",
    "from quara.protocol.qtomography.standard.linear_estimator import LinearEstimator\n",
    "from quara.protocol.qtomography.standard.projected_linear_estimator import (\n",
    "    ProjectedLinearEstimator,\n",
    ")"
   ]
  },
  {
   "cell_type": "code",
   "execution_count": 8,
   "metadata": {},
   "outputs": [],
   "source": [
    "%load_ext autoreload\n",
    "%autoreload 2"
   ]
  },
  {
   "cell_type": "code",
   "execution_count": 9,
   "metadata": {},
   "outputs": [],
   "source": [
    "# setup system\n",
    "e_sys = ElementalSystem(0, get_normalized_pauli_basis())\n",
    "c_sys = CompositeSystem([e_sys])\n",
    "\n",
    "povm_x = get_x_measurement(c_sys)\n",
    "povm_y = get_y_measurement(c_sys)\n",
    "povm_z = get_z_measurement(c_sys)\n",
    "povms = [povm_x, povm_y, povm_z]"
   ]
  },
  {
   "cell_type": "code",
   "execution_count": 10,
   "metadata": {},
   "outputs": [
    {
     "name": "stderr",
     "output_type": "stream",
     "text": [
      "100%|██████████| 100/100 [00:01<00:00, 79.65it/s]\n",
      "100%|██████████| 100/100 [00:01<00:00, 78.23it/s]\n"
     ]
    }
   ],
   "source": [
    "true_object = get_z0_1q(c_sys)\n",
    "num_data = [100, 1000]\n",
    "iteration = 100\n",
    "\n",
    "# Linear (on_para_eq_constraint=True)\n",
    "qst = StandardQst(povms, on_para_eq_constraint=True)\n",
    "estimation_results_affine = data_analysis.estimate(qtomography=qst,\n",
    "                                                                         true_object=true_object,\n",
    "                                                                         num_data=num_data,\n",
    "                                                                         estimator=LinearEstimator(),\n",
    "                                                                         iteration=iteration)\n",
    "\n",
    "# Linear (on_para_eq_constraint=False)\n",
    "qst = StandardQst(povms, on_para_eq_constraint=False)\n",
    "estimation_results_linear = data_analysis.estimate(qtomography=qst,\n",
    "                                                                         true_object=true_object,\n",
    "                                                                         num_data=num_data,\n",
    "                                                                         estimator=LinearEstimator(),\n",
    "                                                                         iteration=iteration)"
   ]
  },
  {
   "cell_type": "markdown",
   "metadata": {},
   "source": [
    "一時保存時のファイル名規則:\n",
    "{ケース名}_{グラフの種類}_{numの情報}_{グラフの種類固有の識別子}\n",
    "\n",
    "例: \n",
    "等式制約の場合:    \n",
    "- case=0_trace_num=100\n",
    "不等式制約の場合\n",
    "- case=0_eigenvalues_num=100_i=0\n",
    "- case=0_sum-unphysical-eigenvalues_num=100_greater-than-one\n",
    "- case=0_sum-unphysical-eigenvalues_num=100_less-than-zero"
   ]
  },
  {
   "cell_type": "code",
   "execution_count": 36,
   "metadata": {},
   "outputs": [],
   "source": [
    "# MSE\n",
    "target_list = [estimation_results_affine, estimation_results_linear]\n",
    "case_name_list = [\"LinearEstimator(True)\", \"LinearEstimator(False)\"]\n",
    "\n",
    "iteration = 100\n",
    "\n",
    "mse_div = report.generate_mse_div(\n",
    "    target_list, case_name_list, true_object, num_data, iteration, [qst]\n",
    ")"
   ]
  },
  {
   "cell_type": "code",
   "execution_count": 37,
   "metadata": {},
   "outputs": [
    {
     "name": "stderr",
     "output_type": "stream",
     "text": [
      "100%|██████████| 100/100 [00:00<00:00, 4424.79it/s]\n",
      "100%|██████████| 100/100 [00:00<00:00, 6832.45it/s]\n",
      "100%|██████████| 100/100 [00:00<00:00, 4670.93it/s]\n",
      "100%|██████████| 100/100 [00:00<00:00, 6778.23it/s]\n"
     ]
    }
   ],
   "source": [
    "# 残すこと\n",
    "case_id = 0\n",
    "case_name = \"LinearEstimator(True)\"\n",
    "target = estimation_results_affine\n",
    "\n",
    "physicality_violation_test_div_true = f\"\"\"\n",
    "<h2>on_para_eq_constraint=True</h2>\n",
    "<h3>case {case_id}: {case_name}<h3>\n",
    "{report.generate_trace_div(target, case_id=case_id, num_data=num_data)}\n",
    "\"\"\"\n",
    "\n",
    "# Falseの場合\n",
    "case_id = 1\n",
    "case_name = \"LinearEstimator(False)\"\n",
    "target = estimation_results_linear\n",
    "\n",
    "physicality_violation_test_div_false = f\"\"\"\n",
    "<h2>on_para_eq_constraint=False</h2>\n",
    "<h3>case {case_id}: {case_name}<h3>\n",
    "<h4>Eigenvalue</h4>\n",
    "{report.generate_eigenvalues_div(target, case_id=case_id, num_data=num_data, true_object=true_object)}\n",
    "<h4>Sum of unphysical eigenvalues </h4>\n",
    "{report.generate_sum_eigenvalues_div(target, case_id=case_id, num_data=num_data, true_object=true_object)}\n",
    "\"\"\"\n",
    "\n",
    "physicality_violation_test_div = (\n",
    "    physicality_violation_test_div_true + physicality_violation_test_div_false\n",
    ")"
   ]
  },
  {
   "cell_type": "code",
   "execution_count": 38,
   "metadata": {},
   "outputs": [],
   "source": [
    "report_html = f\"\"\"<html>\n",
    "<head>\n",
    "    <script src=\"https://cdn.plot.ly/plotly-latest.min.js\"></script>\n",
    "    \n",
    "    <style type=\"text/css\">\n",
    "        <!--\n",
    "             body {{color: #666666;}}\n",
    "             {{table_contents_css}}\n",
    "             table {{border: solid 1px #666666;}}\n",
    "             h1 {{margin-top: 60px; border-top: 2px #dcdcdc solid; padding-top: 10px; font-size: 25px}}\n",
    "             h2 {{font-size: 20px}}\n",
    "             h3 {{color:#EB9348; font-size: 15px;}}\n",
    "             .box{{\n",
    "                 display: inline-block;\n",
    "                 width: 400px;\n",
    "                }}\n",
    "            h4{{font-size: 15px; color: #618CBC; }}\n",
    "            pdftoc {{\n",
    "    color: #666;\n",
    "}}\n",
    "pdftoc.pdftoclevel0 {{\n",
    "    font-weight: bold;\n",
    "    margin-top: 0.5em;\n",
    "}}\n",
    "pdftoc.pdftoclevel1 {{\n",
    "    margin-left: 1em;\n",
    "}}\n",
    "pdftoc.pdftoclevel2 {{\n",
    "    margin-left: 2em;\n",
    "    font-style: italic;\n",
    "}}\n",
    "         -->\n",
    "    </style>\n",
    "<title>タイトル</title>\n",
    "</head>\n",
    "<body>\n",
    "<div id=\"table_of_contents\">\n",
    "<h1>Table of Contents</h1>\n",
    "<pdf:toc />\n",
    "</div>\n",
    "<h1>MSE</h1>\n",
    "<div>\n",
    "{mse_div}\n",
    "<p>TODO: 解析解を追加する</p>\n",
    "</div>\n",
    "<h1>Physicality Violation Test</h1>\n",
    "{physicality_violation_test_div}\n",
    "\n",
    "<div>\n",
    "end\n",
    "</div>\n",
    "</body>\n",
    "</html>\"\"\""
   ]
  },
  {
   "cell_type": "code",
   "execution_count": 39,
   "metadata": {},
   "outputs": [
    {
     "data": {
      "text/plain": [
       "0"
      ]
     },
     "execution_count": 39,
     "metadata": {},
     "output_type": "execute_result"
    }
   ],
   "source": [
    "with open(\"test.html\", \"w\") as f:\n",
    "    f.write(report_html)\n",
    "    \n",
    "_convert_html2pdf(report_html, \"sample.pdf\")"
   ]
  },
  {
   "cell_type": "code",
   "execution_count": 40,
   "metadata": {},
   "outputs": [],
   "source": [
    "!open test.html"
   ]
  },
  {
   "cell_type": "code",
   "execution_count": 22,
   "metadata": {},
   "outputs": [
    {
     "ename": "TypeError",
     "evalue": "'NoneType' object is not iterable",
     "output_type": "error",
     "traceback": [
      "\u001b[0;31m---------------------------------------------------------------------------\u001b[0m",
      "\u001b[0;31mTypeError\u001b[0m                                 Traceback (most recent call last)",
      "\u001b[0;32m<ipython-input-22-1de0f81576bd>\u001b[0m in \u001b[0;36m<module>\u001b[0;34m\u001b[0m\n\u001b[0;32m----> 1\u001b[0;31m \u001b[0;32mfor\u001b[0m \u001b[0m_\u001b[0m \u001b[0;32min\u001b[0m \u001b[0;32mNone\u001b[0m\u001b[0;34m:\u001b[0m\u001b[0;34m\u001b[0m\u001b[0;34m\u001b[0m\u001b[0m\n\u001b[0m\u001b[1;32m      2\u001b[0m     \u001b[0mprint\u001b[0m\u001b[0;34m(\u001b[0m\u001b[0;34m\"f\"\u001b[0m\u001b[0;34m)\u001b[0m\u001b[0;34m\u001b[0m\u001b[0;34m\u001b[0m\u001b[0m\n",
      "\u001b[0;31mTypeError\u001b[0m: 'NoneType' object is not iterable"
     ]
    }
   ],
   "source": [
    "for _ in None:\n",
    "    print(\"f\")"
   ]
  },
  {
   "cell_type": "code",
   "execution_count": 24,
   "metadata": {},
   "outputs": [
    {
     "ename": "AttributeError",
     "evalue": "'StandardQst' object has no attribute 'on_para_eq_constraint'",
     "output_type": "error",
     "traceback": [
      "\u001b[0;31m---------------------------------------------------------------------------\u001b[0m",
      "\u001b[0;31mAttributeError\u001b[0m                            Traceback (most recent call last)",
      "\u001b[0;32m<ipython-input-24-9703a884a74a>\u001b[0m in \u001b[0;36m<module>\u001b[0;34m\u001b[0m\n\u001b[0;32m----> 1\u001b[0;31m \u001b[0mqst\u001b[0m\u001b[0;34m.\u001b[0m\u001b[0mon_para_eq_constraint\u001b[0m\u001b[0;34m\u001b[0m\u001b[0;34m\u001b[0m\u001b[0m\n\u001b[0m",
      "\u001b[0;31mAttributeError\u001b[0m: 'StandardQst' object has no attribute 'on_para_eq_constraint'"
     ]
    }
   ],
   "source": []
  },
  {
   "cell_type": "code",
   "execution_count": null,
   "metadata": {},
   "outputs": [],
   "source": []
  }
 ],
 "metadata": {
  "hide_input": false,
  "kernelspec": {
   "display_name": "quara_venv",
   "language": "python",
   "name": "quara_venv"
  },
  "language_info": {
   "codemirror_mode": {
    "name": "ipython",
    "version": 3
   },
   "file_extension": ".py",
   "mimetype": "text/x-python",
   "name": "python",
   "nbconvert_exporter": "python",
   "pygments_lexer": "ipython3",
   "version": "3.8.0"
  },
  "toc": {
   "base_numbering": 1,
   "nav_menu": {},
   "number_sections": true,
   "sideBar": true,
   "skip_h1_title": false,
   "title_cell": "Table of Contents",
   "title_sidebar": "Contents",
   "toc_cell": false,
   "toc_position": {},
   "toc_section_display": true,
   "toc_window_display": false
  },
  "varInspector": {
   "cols": {
    "lenName": 16,
    "lenType": 16,
    "lenVar": 40
   },
   "kernels_config": {
    "python": {
     "delete_cmd_postfix": "",
     "delete_cmd_prefix": "del ",
     "library": "var_list.py",
     "varRefreshCmd": "print(var_dic_list())"
    },
    "r": {
     "delete_cmd_postfix": ") ",
     "delete_cmd_prefix": "rm(",
     "library": "var_list.r",
     "varRefreshCmd": "cat(var_dic_list()) "
    }
   },
   "types_to_exclude": [
    "module",
    "function",
    "builtin_function_or_method",
    "instance",
    "_Feature"
   ],
   "window_display": false
  }
 },
 "nbformat": 4,
 "nbformat_minor": 4
}
