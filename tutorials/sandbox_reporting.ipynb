{
 "cells": [
  {
   "cell_type": "code",
   "execution_count": 1,
   "metadata": {},
   "outputs": [],
   "source": [
    "from xhtml2pdf import pisa\n",
    "from xhtml2pdf.config.httpconfig import httpConfig"
   ]
  },
  {
   "cell_type": "code",
   "execution_count": 2,
   "metadata": {},
   "outputs": [],
   "source": [
    "# State"
   ]
  },
  {
   "cell_type": "code",
   "execution_count": 3,
   "metadata": {},
   "outputs": [],
   "source": [
    "import pickle\n",
    "import time\n",
    "from typing import List\n",
    "import datetime as dt\n",
    "from pathlib import Path\n",
    "\n",
    "import numpy as np\n",
    "import pandas as pd\n",
    "import plotly.graph_objects as go\n",
    "import plotly.express as px\n",
    "\n",
    "from tqdm import tqdm\n",
    "\n",
    "from quara.data_analysis import data_analysis, physicality_violation_check, report\n",
    "from quara.objects.composite_system import CompositeSystem\n",
    "from quara.objects.elemental_system import ElementalSystem\n",
    "from quara.objects.matrix_basis import get_normalized_pauli_basis\n",
    "from quara.objects.povm import (\n",
    "    Povm,\n",
    "    get_x_measurement,\n",
    "    get_y_measurement,\n",
    "    get_z_measurement,\n",
    ")\n",
    "from quara.objects.qoperation import QOperation\n",
    "from quara.objects.state import State, get_z0_1q, get_z1_1q, get_x0_1q\n",
    "from quara.protocol.qtomography.standard.standard_qst import StandardQst\n",
    "from quara.protocol.qtomography.standard.linear_estimator import LinearEstimator\n",
    "from quara.protocol.qtomography.standard.projected_linear_estimator import (\n",
    "    ProjectedLinearEstimator,\n",
    ")"
   ]
  },
  {
   "cell_type": "code",
   "execution_count": 4,
   "metadata": {},
   "outputs": [],
   "source": [
    "%load_ext autoreload\n",
    "%autoreload 2"
   ]
  },
  {
   "cell_type": "code",
   "execution_count": 5,
   "metadata": {},
   "outputs": [],
   "source": [
    "# setup system\n",
    "e_sys = ElementalSystem(0, get_normalized_pauli_basis())\n",
    "c_sys = CompositeSystem([e_sys])\n",
    "\n",
    "povm_x = get_x_measurement(c_sys)\n",
    "povm_y = get_y_measurement(c_sys)\n",
    "povm_z = get_z_measurement(c_sys)\n",
    "povms = [povm_x, povm_y, povm_z]"
   ]
  },
  {
   "cell_type": "code",
   "execution_count": 6,
   "metadata": {},
   "outputs": [
    {
     "name": "stderr",
     "output_type": "stream",
     "text": [
      "  3%|▎         | 3/100 [00:00<00:03, 28.75it/s]"
     ]
    },
    {
     "name": "stdout",
     "output_type": "stream",
     "text": [
      "Case 0: LinearEstimator(True)\n",
      "Parametorization: True\n",
      "Type of qtomography: StandardQst\n",
      "Estimator: LinearEstimator\n"
     ]
    },
    {
     "name": "stderr",
     "output_type": "stream",
     "text": [
      "100%|██████████| 100/100 [00:02<00:00, 45.07it/s]\n",
      "  4%|▍         | 4/100 [00:00<00:02, 38.32it/s]"
     ]
    },
    {
     "name": "stdout",
     "output_type": "stream",
     "text": [
      "Case 1: LinearEstimator(False)\n",
      "Parametorization: False\n",
      "Type of qtomography: StandardQst\n",
      "Estimator: LinearEstimator\n"
     ]
    },
    {
     "name": "stderr",
     "output_type": "stream",
     "text": [
      "100%|██████████| 100/100 [00:01<00:00, 54.88it/s]\n",
      "  0%|          | 0/100 [00:00<?, ?it/s]/Users/tomoko/project/rcast/workspace/quara/quara/objects/state.py:283: ComplexWarning: Casting complex values to real discards the imaginary part\n",
      "  np.array(vec_new, dtype=np.float64),\n",
      "  1%|          | 1/100 [00:00<00:10,  9.34it/s]"
     ]
    },
    {
     "name": "stdout",
     "output_type": "stream",
     "text": [
      "Case 2: ProjectedLinearEstimator(True)\n",
      "Parametorization: True\n",
      "Type of qtomography: StandardQst\n",
      "Estimator: ProjectedLinearEstimator\n"
     ]
    },
    {
     "name": "stderr",
     "output_type": "stream",
     "text": [
      "100%|██████████| 100/100 [00:05<00:00, 17.37it/s]\n",
      "  3%|▎         | 3/100 [00:00<00:04, 21.65it/s]"
     ]
    },
    {
     "name": "stdout",
     "output_type": "stream",
     "text": [
      "Case 3: ProjectedLinearEstimator(False)\n",
      "Parametorization: False\n",
      "Type of qtomography: StandardQst\n",
      "Estimator: ProjectedLinearEstimator\n"
     ]
    },
    {
     "name": "stderr",
     "output_type": "stream",
     "text": [
      "100%|██████████| 100/100 [00:04<00:00, 21.96it/s]\n"
     ]
    }
   ],
   "source": [
    "true_object = get_z0_1q(c_sys)\n",
    "num_data = [100, 1000]\n",
    "iteration = 100\n",
    "\n",
    "case_name_list = [\n",
    "    \"LinearEstimator(True)\",\n",
    "    \"LinearEstimator(False)\",\n",
    "    \"ProjectedLinearEstimator(True)\",\n",
    "    \"ProjectedLinearEstimator(False)\",\n",
    "]\n",
    "\n",
    "qtomography_list = [\n",
    "    StandardQst(povms, on_para_eq_constraint=True),\n",
    "    StandardQst(povms, on_para_eq_constraint=False),\n",
    "    StandardQst(povms, on_para_eq_constraint=True),\n",
    "    StandardQst(povms, on_para_eq_constraint=False),\n",
    "]\n",
    "p_list = [True, False, True, False]\n",
    "\n",
    "estimator_list = [\n",
    "    LinearEstimator(),\n",
    "    LinearEstimator(),\n",
    "    ProjectedLinearEstimator(),\n",
    "    ProjectedLinearEstimator(),\n",
    "]\n",
    "\n",
    "estimation_results_list = []\n",
    "\n",
    "for i, name in enumerate(case_name_list):\n",
    "    qtomography = qtomography_list[i]\n",
    "    estimator = estimator_list[i]\n",
    "\n",
    "    print(f\"Case {i}: {name}\")\n",
    "    print(f\"Parametorization: {p_list[i]}\")\n",
    "    print(f\"Type of qtomography: {qtomography.__class__.__name__}\")\n",
    "    print(f\"Estimator: {estimator.__class__.__name__}\")\n",
    "\n",
    "    estimation_results = data_analysis.estimate(\n",
    "        qtomography=qtomography,\n",
    "        true_object=true_object,\n",
    "        num_data=num_data,\n",
    "        estimator=estimator,\n",
    "        iteration=iteration,\n",
    "    )\n",
    "    estimation_results_list.append(estimation_results)"
   ]
  },
  {
   "cell_type": "markdown",
   "metadata": {},
   "source": [
    "一時保存時のファイル名規則:\n",
    "{ケース名}_{グラフの種類}_{numの情報}_{グラフの種類固有の識別子}\n",
    "\n",
    "例: \n",
    "等式制約の場合:    \n",
    "- case=0_trace_num=100\n",
    "不等式制約の場合\n",
    "- case=0_eigenvalues_num=100_i=0\n",
    "- case=0_sum-unphysical-eigenvalues_num=100_greater-than-one\n",
    "- case=0_sum-unphysical-eigenvalues_num=100_less-than-zero"
   ]
  },
  {
   "cell_type": "code",
   "execution_count": 7,
   "metadata": {},
   "outputs": [],
   "source": [
    "tester_objects = povms"
   ]
  },
  {
   "cell_type": "code",
   "execution_count": 8,
   "metadata": {},
   "outputs": [],
   "source": [
    "# MSE\n",
    "iteration = 100\n",
    "\n",
    "mse_div = report.generate_mse_div(\n",
    "    estimation_results_list=estimation_results_list,\n",
    "    case_name_list=case_name_list,\n",
    "    true_object=true_object,\n",
    "    num_data=num_data,\n",
    "    n_rep=iteration,\n",
    "    qtomographies=[StandardQst(tester_objects, on_para_eq_constraint=True)]\n",
    ")"
   ]
  },
  {
   "cell_type": "code",
   "execution_count": 9,
   "metadata": {},
   "outputs": [
    {
     "name": "stderr",
     "output_type": "stream",
     "text": [
      "100%|██████████| 100/100 [00:00<00:00, 3732.72it/s]\n",
      "100%|██████████| 100/100 [00:00<00:00, 8605.82it/s]\n",
      "100%|██████████| 100/100 [00:00<00:00, 4740.29it/s]\n",
      "100%|██████████| 100/100 [00:00<00:00, 5512.95it/s]\n"
     ]
    }
   ],
   "source": [
    "# 残すこと\n",
    "case_id = 0\n",
    "case_name = \"LinearEstimator(True)\"\n",
    "target = estimation_results_list[0]\n",
    "\n",
    "physicality_violation_test_div_true = f\"\"\"\n",
    "<h2>on_para_eq_constraint=True</h2>\n",
    "<h3>Case {case_id}: {case_name}<h3>\n",
    "{report.generate_trace_div(target, case_id=case_id, num_data=num_data)}\n",
    "\"\"\"\n",
    "\n",
    "# Falseの場合\n",
    "case_id = 1\n",
    "case_name = \"LinearEstimator(False)\"\n",
    "target = estimation_results_list[1]\n",
    "\n",
    "physicality_violation_test_div_false = f\"\"\"\n",
    "<h2>on_para_eq_constraint=False</h2>\n",
    "<h3>Case {case_id}: {case_name}<h3>\n",
    "<h4>Eigenvalue</h4>\n",
    "{report.generate_eigenvalues_div(target, case_id=case_id, num_data=num_data, true_object=true_object)}\n",
    "<h4>Sum of unphysical eigenvalues </h4>\n",
    "{report.generate_sum_eigenvalues_div(target, case_id=case_id, num_data=num_data, true_object=true_object)}\n",
    "\"\"\"\n",
    "\n",
    "physicality_violation_test_div = (\n",
    "    physicality_violation_test_div_true + physicality_violation_test_div_false\n",
    ")"
   ]
  },
  {
   "cell_type": "code",
   "execution_count": 73,
   "metadata": {},
   "outputs": [],
   "source": [
    "# True Object and Tester Objects\n",
    "true_object_table = report._convert_object_to_datafrane(true_object).to_html(\n",
    "    classes=\"true_object_table\", escape=False, header=False\n",
    ")\n",
    "tester_table = report._convert_objects_to_multiindex_dataframe(tester_objects).to_html(\n",
    "    classes=\"tester_objects_table\", escape=False, header=False\n",
    ")"
   ]
  },
  {
   "cell_type": "code",
   "execution_count": 74,
   "metadata": {},
   "outputs": [],
   "source": [
    "# Experiment Condition\n",
    "type_tomography_values = list(set([qt.__class__.__name__ for qt in qtomography_list]))\n",
    "\n",
    "info = {\n",
    "    \"Type of tomography\": type_tomography_values,\n",
    "    \"Nrep\": [iteration],\n",
    "    \"N\": [num_data],\n",
    "}\n",
    "condition_df = pd.DataFrame(info).T\n",
    "condition_table = condition_df.to_html(\n",
    "    classes=\"condition_table\", escape=False, header=False\n",
    ")"
   ]
  },
  {
   "cell_type": "code",
   "execution_count": 75,
   "metadata": {},
   "outputs": [],
   "source": [
    "# Cases\n",
    "case_dict = dict(\n",
    "    Name=case_name_list,\n",
    "    Parameterization=p_list,\n",
    "    Tomography=[t.__class__.__name__ for t in qtomography_list],\n",
    "    Estimator=[e.__class__.__name__ for e in estimator_list],\n",
    ")\n",
    "\n",
    "df = pd.DataFrame(case_dict)\n",
    "\n",
    "# case_table = df.to_html('class=\"case_table\"', escape=False)\n",
    "\n",
    "styles = [\n",
    "    dict(selector=\".col0\", props=[(\"width\", \"400px\")]),\n",
    "    dict(selector=\".col1\", props=[(\"width\", \"200px\")]),\n",
    "    dict(selector=\".col2\", props=[(\"width\", \"200px\")])\n",
    "]\n",
    "case_table = df.style.set_table_styles(styles).render()\n"
   ]
  },
  {
   "cell_type": "code",
   "execution_count": 89,
   "metadata": {},
   "outputs": [],
   "source": [
    "report_html = f\"\"\"<html>\n",
    "<head>\n",
    "    <script src=\"https://cdn.plot.ly/plotly-latest.min.js\"></script>\n",
    "    \n",
    "    <style type=\"text/css\">\n",
    "        <!--\n",
    "             body {{color: #666666;}}\n",
    "             h1 {{margin-top: 60px; border-top: 2px #dcdcdc solid; padding-top: 10px; font-size: 25px}}\n",
    "             h2 {{font-size: 20px}}\n",
    "             h3 {{color:#EB9348; font-size: 15px;}}\n",
    "             h4{{font-size: 15px; color: #618CBC; }}\n",
    "            {report._inline_block_css}\n",
    "            {report._table_css}\n",
    "            {report._table_contents_css}\n",
    "         -->\n",
    "    </style>\n",
    "<title>タイトル</title>\n",
    "</head>\n",
    "<body>\n",
    "<div id=\"table_of_contents\">\n",
    "<h1>Table of contents</h1>\n",
    "<pdf:toc />\n",
    "</div>\n",
    "<h1>Experimental condition</h1>\n",
    "<div>\n",
    "{condition_table}\n",
    "</div>\n",
    "<h2>True object</h2>\n",
    "<div>\n",
    "{true_object_table}\n",
    "</div>\n",
    "<h2>Tester objects</h2>\n",
    "<div>\n",
    "{tester_table}\n",
    "<h2>Cases</h2>\n",
    "<div>\n",
    "{case_table}\n",
    "<h1>Consistency test</h1>\n",
    "<div>(TODO)</div>\n",
    "</div><h1>MSE</h1>\n",
    "<div>\n",
    "{mse_div}\n",
    "</div>\n",
    "<h1>Physicality violation test</h1>\n",
    "{physicality_violation_test_div}\n",
    "\n",
    "<div>\n",
    "end\n",
    "</div>\n",
    "</body>\n",
    "</html>\"\"\""
   ]
  },
  {
   "cell_type": "code",
   "execution_count": 90,
   "metadata": {},
   "outputs": [
    {
     "data": {
      "text/plain": [
       "0"
      ]
     },
     "execution_count": 90,
     "metadata": {},
     "output_type": "execute_result"
    }
   ],
   "source": [
    "with open(\"test.html\", \"w\") as f:\n",
    "    f.write(report_html)\n",
    "    \n",
    "report._convert_html2pdf(report_html, \"sample_1.pdf\")"
   ]
  },
  {
   "cell_type": "code",
   "execution_count": 91,
   "metadata": {},
   "outputs": [],
   "source": [
    "!open test.html"
   ]
  },
  {
   "cell_type": "code",
   "execution_count": 92,
   "metadata": {},
   "outputs": [],
   "source": [
    "!open sample_1.pdf"
   ]
  },
  {
   "cell_type": "code",
   "execution_count": null,
   "metadata": {},
   "outputs": [],
   "source": []
  }
 ],
 "metadata": {
  "hide_input": false,
  "kernelspec": {
   "display_name": "quara_venv",
   "language": "python",
   "name": "quara_venv"
  },
  "language_info": {
   "codemirror_mode": {
    "name": "ipython",
    "version": 3
   },
   "file_extension": ".py",
   "mimetype": "text/x-python",
   "name": "python",
   "nbconvert_exporter": "python",
   "pygments_lexer": "ipython3",
   "version": "3.8.0"
  },
  "toc": {
   "base_numbering": 1,
   "nav_menu": {},
   "number_sections": true,
   "sideBar": true,
   "skip_h1_title": false,
   "title_cell": "Table of Contents",
   "title_sidebar": "Contents",
   "toc_cell": false,
   "toc_position": {},
   "toc_section_display": true,
   "toc_window_display": false
  },
  "varInspector": {
   "cols": {
    "lenName": 16,
    "lenType": 16,
    "lenVar": 40
   },
   "kernels_config": {
    "python": {
     "delete_cmd_postfix": "",
     "delete_cmd_prefix": "del ",
     "library": "var_list.py",
     "varRefreshCmd": "print(var_dic_list())"
    },
    "r": {
     "delete_cmd_postfix": ") ",
     "delete_cmd_prefix": "rm(",
     "library": "var_list.r",
     "varRefreshCmd": "cat(var_dic_list()) "
    }
   },
   "types_to_exclude": [
    "module",
    "function",
    "builtin_function_or_method",
    "instance",
    "_Feature"
   ],
   "window_display": false
  }
 },
 "nbformat": 4,
 "nbformat_minor": 4
}
